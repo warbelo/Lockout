{
 "cells": [
  {
   "cell_type": "markdown",
   "id": "legitimate-athens",
   "metadata": {},
   "source": [
    "# L1 Regularization: Dataset 3"
   ]
  },
  {
   "cell_type": "code",
   "execution_count": 135,
   "id": "higher-documentary",
   "metadata": {
    "ExecuteTime": {
     "end_time": "2021-06-30T07:18:30.093040Z",
     "start_time": "2021-06-30T07:18:30.087101Z"
    },
    "code_folding": [
     0
    ]
   },
   "outputs": [],
   "source": [
    "# Import libraries and modules\n",
    "import numpy as np\n",
    "import pandas as pd\n",
    "\n",
    "import xgboost as xgb\n",
    "from xgboost import plot_tree\n",
    "\n",
    "from sklearn.metrics import r2_score, classification_report, confusion_matrix,           \\\n",
    "                            roc_curve, roc_auc_score, plot_confusion_matrix, f1_score,   \\\n",
    "                            balanced_accuracy_score, accuracy_score, mean_squared_error, \\\n",
    "                            log_loss\n",
    "from sklearn.datasets import make_friedman1\n",
    "from sklearn.model_selection import train_test_split, GridSearchCV\n",
    "from sklearn.linear_model import LogisticRegression, LinearRegression, SGDClassifier,    \\\n",
    "                                 Lasso, lasso_path\n",
    "from sklearn.preprocessing import StandardScaler, LabelBinarizer\n",
    "from sklearn.impute import SimpleImputer\n",
    "from sklearn.pipeline import Pipeline\n",
    "from sklearn_pandas import DataFrameMapper\n",
    "\n",
    "import scipy\n",
    "from scipy import stats\n",
    "\n",
    "import os\n",
    "import shutil\n",
    "from pathlib import Path\n",
    "\n",
    "import matplotlib as mpl\n",
    "import matplotlib.pyplot as plt\n",
    "import matplotlib.cm as cm\n",
    "\n",
    "import albumentations as A\n",
    "from albumentations.pytorch import ToTensorV2\n",
    "import cv2\n",
    "import itertools\n",
    "\n",
    "import time\n",
    "import tqdm\n",
    "import copy\n",
    "\n",
    "import torch\n",
    "import torchvision\n",
    "import torchvision.transforms as transforms\n",
    "import torch.nn as nn\n",
    "import torch.nn.functional as F\n",
    "import torch.optim as optim\n",
    "import torchvision.models as models\n",
    "from torch.utils.data import Dataset\n",
    "\n",
    "import PIL\n",
    "import joblib\n",
    "import json\n",
    "\n",
    "# import mysgd"
   ]
  },
  {
   "cell_type": "code",
   "execution_count": 136,
   "id": "presidential-education",
   "metadata": {
    "ExecuteTime": {
     "end_time": "2021-06-30T07:18:32.276277Z",
     "start_time": "2021-06-30T07:18:32.269282Z"
    },
    "code_folding": [
     0
    ]
   },
   "outputs": [
    {
     "data": {
      "text/plain": [
       "<module 'lockdown' from '/Users/arbelogonzalezw/Documents/ML_WORK/LIBS/Lockdown/lockdown.py'>"
      ]
     },
     "execution_count": 136,
     "metadata": {},
     "output_type": "execute_result"
    }
   ],
   "source": [
    "# Import user-defined modules\n",
    "import sys\n",
    "import imp\n",
    "sys.path.append('/Users/arbelogonzalezw/Documents/ML_WORK/LIBS/Lockdown')\n",
    "import tools_general as tg\n",
    "import tools_pytorch as tp\n",
    "import lockdown      as ld\n",
    "imp.reload(tg)\n",
    "imp.reload(tp)\n",
    "imp.reload(ld)"
   ]
  },
  {
   "cell_type": "markdown",
   "id": "dominican-paris",
   "metadata": {},
   "source": [
    "## Read, clean, and save data"
   ]
  },
  {
   "cell_type": "code",
   "execution_count": 27,
   "id": "suspended-upset",
   "metadata": {
    "ExecuteTime": {
     "end_time": "2021-06-29T17:36:39.096124Z",
     "start_time": "2021-06-29T17:36:38.917266Z"
    },
    "code_folding": []
   },
   "outputs": [],
   "source": [
    "# Read X and y\n",
    "folder = '/Users/arbelogonzalezw/Documents/ML_WORK/Project_Jerry_Lockdown/'\n",
    "X = pd.read_csv(os.path.join(folder, 'dataset_13LungCancer/GSE137140_gene_profile.csv'), index_col=0)\n",
    "dfy = pd.read_csv(os.path.join(folder, 'dataset_13LungCancer/GSE137140_output.csv'), index_col=1)"
   ]
  },
  {
   "cell_type": "code",
   "execution_count": 28,
   "id": "geographic-sunrise",
   "metadata": {
    "ExecuteTime": {
     "end_time": "2021-06-29T17:36:40.730477Z",
     "start_time": "2021-06-29T17:36:40.705039Z"
    },
    "code_folding": [
     0
    ]
   },
   "outputs": [],
   "source": [
    "# Clean missing values and output classes\n",
    "X.dropna(axis=1, how='any', inplace=True)\n",
    "\n",
    "indx = dfy.index[dfy['disease state:ch1'] == 'Lung cancer, post-operation']\n",
    "X.drop(axis='index', index=indx, inplace=True)\n",
    "dfy.drop(axis='index', index=indx, inplace=True)\n",
    "\n",
    "X.columns = X.columns.str.lower()\n",
    "dfy.rename(columns={'disease state:ch1': 'disease_state'}, inplace=True)\n",
    "\n",
    "# Set target\n",
    "dfy.replace({'disease_state': {\"Lung cancer, pre-operation\": 1, \"Non-cancer control\": 0}}, inplace=True)\n",
    "Y = pd.DataFrame(dfy['disease_state'])"
   ]
  },
  {
   "cell_type": "code",
   "execution_count": 33,
   "id": "hazardous-pitch",
   "metadata": {
    "ExecuteTime": {
     "end_time": "2021-06-29T17:37:53.678595Z",
     "start_time": "2021-06-29T17:37:51.623043Z"
    },
    "code_folding": []
   },
   "outputs": [
    {
     "name": "stdout",
     "output_type": "stream",
     "text": [
      "- X size: (3744, 228)\n",
      "\n",
      "- xtrain size: (2246, 228)\n",
      "- xvalid size: (749, 228)\n",
      "- xtest size: (749, 228)\n"
     ]
    }
   ],
   "source": [
    "# Split and save data set\n",
    "xtrain, xvalid, xtest, ytrain, yvalid, ytest = tg.split_data(X, Y, seed1=0, seed2=42)\n",
    "tg.save_data(X, xtrain, xvalid, xtest, Y, ytrain, yvalid, ytest, 'dataset/')\n",
    "tg.save_list(X.columns.to_list(), 'dataset/X.columns')\n",
    "tg.save_list(Y.columns.to_list(), 'dataset/Y.columns')\n",
    "\n",
    "# \n",
    "print(\"- X size: {}\\n\".format(X.shape))\n",
    "print(\"- xtrain size: {}\".format(xtrain.shape))\n",
    "print(\"- xvalid size: {}\".format(xvalid.shape))\n",
    "print(\"- xtest size: {}\".format(xtest.shape))"
   ]
  },
  {
   "cell_type": "markdown",
   "id": "answering-mason",
   "metadata": {},
   "source": [
    "## Load Data"
   ]
  },
  {
   "cell_type": "code",
   "execution_count": 34,
   "id": "three-mapping",
   "metadata": {
    "ExecuteTime": {
     "end_time": "2021-06-29T17:37:56.890165Z",
     "start_time": "2021-06-29T17:37:56.885854Z"
    },
    "code_folding": [
     0
    ]
   },
   "outputs": [
    {
     "name": "stdout",
     "output_type": "stream",
     "text": [
      "-Type of precessor to be used: 'cpu'\n"
     ]
    }
   ],
   "source": [
    "# Select type of processor to be used\n",
    "device = torch.device(\"cuda\" if torch.cuda.is_available() else \"cpu\")\n",
    "\n",
    "if device == torch.device('cuda'):\n",
    "    print(\"-Type of precessor to be used: 'gpu'\")\n",
    "    !nvidia-smi\n",
    "else:\n",
    "    print(\"-Type of precessor to be used: 'cpu'\")\n",
    "    \n",
    "# Choose device\n",
    "# torch.cuda.set_device(6)"
   ]
  },
  {
   "cell_type": "code",
   "execution_count": 35,
   "id": "responsible-network",
   "metadata": {
    "ExecuteTime": {
     "end_time": "2021-06-29T17:37:58.990744Z",
     "start_time": "2021-06-29T17:37:58.684808Z"
    }
   },
   "outputs": [],
   "source": [
    "# Read data\n",
    "X, x_train, x_valid, x_test, Y, ytrain, yvalid, ytest = tp.load_data_clf('dataset/')\n",
    "cols_X = tg.read_list('dataset/X.columns')\n",
    "cols_Y = tg.read_list('dataset/Y.columns')"
   ]
  },
  {
   "cell_type": "code",
   "execution_count": 36,
   "id": "weighted-semester",
   "metadata": {
    "ExecuteTime": {
     "end_time": "2021-06-29T17:38:00.923723Z",
     "start_time": "2021-06-29T17:38:00.912542Z"
    }
   },
   "outputs": [],
   "source": [
    "# Normalize data\n",
    "xtrain, xvalid, xtest = tp.normalize_x(x_train, x_valid, x_test)"
   ]
  },
  {
   "cell_type": "code",
   "execution_count": 37,
   "id": "excess-combination",
   "metadata": {
    "ExecuteTime": {
     "end_time": "2021-06-29T17:38:03.370815Z",
     "start_time": "2021-06-29T17:38:03.367648Z"
    }
   },
   "outputs": [
    {
     "name": "stdout",
     "output_type": "stream",
     "text": [
      "(train, valid, test) = (1, 1, 1)\n"
     ]
    }
   ],
   "source": [
    "# Create dataloaders\n",
    "dl_train, dl_valid, dl_test = tp.make_DataLoaders(xtrain, xvalid, xtest, ytrain, yvalid, ytest, \n",
    "                                                  tp.dataset_tabular, batch_size=10000)"
   ]
  },
  {
   "cell_type": "code",
   "execution_count": 77,
   "id": "described-metropolitan",
   "metadata": {
    "ExecuteTime": {
     "end_time": "2021-06-29T20:05:13.901299Z",
     "start_time": "2021-06-29T20:05:13.898473Z"
    },
    "code_folding": []
   },
   "outputs": [],
   "source": [
    "# NN architecture with its corresponding forward method\n",
    "class MyNet(nn.Module):\n",
    "    \n",
    "# .Network architecture\n",
    "    def __init__(self, features, layer_sizes):\n",
    "        super(MyNet, self).__init__()\n",
    "        \n",
    "        self.classifier = nn.Sequential(\n",
    "            nn.Linear(features, layer_sizes[0], bias=True),\n",
    "            nn.ReLU(inplace=True),\n",
    "            nn.Linear(layer_sizes[0], layer_sizes[1], bias=True)\n",
    "        )\n",
    "\n",
    "# .Forward function\n",
    "    def forward(self, x):\n",
    "        x = self.classifier(x)\n",
    "        return x"
   ]
  },
  {
   "cell_type": "markdown",
   "id": "scheduled-modem",
   "metadata": {},
   "source": [
    "## Forward"
   ]
  },
  {
   "cell_type": "code",
   "execution_count": 78,
   "id": "revised-virginia",
   "metadata": {
    "ExecuteTime": {
     "end_time": "2021-06-29T20:05:19.436859Z",
     "start_time": "2021-06-29T20:05:19.433561Z"
    },
    "code_folding": []
   },
   "outputs": [
    {
     "data": {
      "text/plain": [
       "MyNet(\n",
       "  (classifier): Sequential(\n",
       "    (0): Linear(in_features=228, out_features=10, bias=True)\n",
       "    (1): ReLU(inplace=True)\n",
       "    (2): Linear(in_features=10, out_features=2, bias=True)\n",
       "  )\n",
       ")"
      ]
     },
     "execution_count": 78,
     "metadata": {},
     "output_type": "execute_result"
    }
   ],
   "source": [
    "# Load best forward model\n",
    "n_features = len(cols_X)\n",
    "n_layers = [10, 2]\n",
    "model = MyNet(n_features, n_layers)\n",
    "model.eval()"
   ]
  },
  {
   "cell_type": "code",
   "execution_count": 55,
   "id": "tropical-destruction",
   "metadata": {
    "ExecuteTime": {
     "end_time": "2021-06-29T18:13:12.892745Z",
     "start_time": "2021-06-29T18:11:12.209512Z"
    },
    "code_folding": [
     0
    ]
   },
   "outputs": [
    {
     "data": {
      "application/vnd.jupyter.widget-view+json": {
       "model_id": "0be2dddc83cd48a4858984f0e297f5f5",
       "version_major": 2,
       "version_minor": 0
      },
      "text/plain": [
       "Epochs:   0%|          | 0/10000 [00:00<?, ?it/s]"
      ]
     },
     "metadata": {},
     "output_type": "display_data"
    },
    {
     "name": "stdout",
     "output_type": "stream",
     "text": [
      "Early stopping = True\n",
      "Last iteration = 1368\n",
      "Best validation at iteration = 343\n"
     ]
    },
    {
     "data": {
      "image/png": "[encoded data removed]",
      "text/plain": [
       "<Figure size 576x432 with 1 Axes>"
      ]
     },
     "metadata": {
      "needs_background": "light"
     },
     "output_type": "display_data"
    }
   ],
   "source": [
    "# TRAIN FORWARD\n",
    "lockdown_unconstraint = ld.lockdown(model, loss_type=2, lr=1e-3, optim_id=2)\n",
    "\n",
    "lockdown_unconstraint.train(dl_train, dl_valid, epochs=10000, early_stop=20, tol_loss=5e-6,\n",
    "                            train_how=\"unconstraint\", reset_weights=True)\n",
    "\n",
    "lockdown_unconstraint.path_data.plot(x=\"iteration\", \n",
    "                                     y=['train_loss', 'valid_loss'], \n",
    "                                     figsize=(8,6))\n",
    "plt.show()"
   ]
  },
  {
   "cell_type": "code",
   "execution_count": 56,
   "id": "unable-protest",
   "metadata": {
    "ExecuteTime": {
     "end_time": "2021-06-29T18:16:36.131679Z",
     "start_time": "2021-06-29T18:16:36.112428Z"
    },
    "code_folding": []
   },
   "outputs": [],
   "source": [
    "# Save model, data\n",
    "tp.save_model(lockdown_unconstraint.model_best_valid, 'model_forward_valid_min.pth')\n",
    "tp.save_model(lockdown_unconstraint.model_last, 'model_forward_last.pth')\n",
    "lockdown_unconstraint.path_data.to_csv('data_forward.csv')"
   ]
  },
  {
   "cell_type": "markdown",
   "id": "inside-showcase",
   "metadata": {},
   "source": [
    "## Lockout (L1)"
   ]
  },
  {
   "cell_type": "code",
   "execution_count": 60,
   "id": "genetic-agenda",
   "metadata": {
    "ExecuteTime": {
     "end_time": "2021-06-29T18:17:45.414507Z",
     "start_time": "2021-06-29T18:17:45.406415Z"
    },
    "code_folding": []
   },
   "outputs": [],
   "source": [
    "# TRAIN WITH LOCKDOWN\n",
    "model = MyNet(n_features, n_layers)\n",
    "model.load_state_dict(torch.load('./model_forward_valid_min.pth'))\n",
    "model.eval()\n",
    "\n",
    "regul_type = [('classifier.0.weight', 1), \n",
    "              ('classifier.2.weight', 1)]\n",
    "\n",
    "regul_path = [('classifier.0.weight', True), \n",
    "              ('classifier.2.weight', False)]\n",
    "\n",
    "lockdown_l1 = ld.lockdown(model, lr=5e-3, \n",
    "                          regul_type=regul_type, \n",
    "                          regul_path=regul_path, \n",
    "                          loss_type=2, tol_grads=1e-2)"
   ]
  },
  {
   "cell_type": "code",
   "execution_count": 61,
   "id": "oriented-oxford",
   "metadata": {
    "ExecuteTime": {
     "end_time": "2021-06-29T19:38:36.428665Z",
     "start_time": "2021-06-29T18:17:49.424381Z"
    }
   },
   "outputs": [
    {
     "name": "stdout",
     "output_type": "stream",
     "text": [
      "{'classifier.0.weight': tensor(141.1174), 'classifier.2.weight': tensor(5.4253)} {'classifier.0.weight': tensor(0.)}\n"
     ]
    },
    {
     "data": {
      "application/vnd.jupyter.widget-view+json": {
       "model_id": "",
       "version_major": 2,
       "version_minor": 0
      },
      "text/plain": [
       "Epochs1:   0%|          | 0/5000 [00:00<?, ?it/s]"
      ]
     },
     "metadata": {},
     "output_type": "display_data"
    },
    {
     "name": "stdout",
     "output_type": "stream",
     "text": [
      "Path 1: Early stopping = True\n",
      "        Last iteration = 962\n"
     ]
    },
    {
     "data": {
      "application/vnd.jupyter.widget-view+json": {
       "model_id": "",
       "version_major": 2,
       "version_minor": 0
      },
      "text/plain": [
       "Epochs2:   0%|          | 0/50000 [00:00<?, ?it/s]"
      ]
     },
     "metadata": {},
     "output_type": "display_data"
    },
    {
     "name": "stdout",
     "output_type": "stream",
     "text": [
      "Best validation at iteration = 41791\n"
     ]
    }
   ],
   "source": [
    "lockdown_l1.train(dl_train, dl_valid, dl_test, epochs=5000, early_stop=10, tol_loss=1e-5, epochs2=50000,\n",
    "                  train_how=\"decrease_t0\")"
   ]
  },
  {
   "cell_type": "code",
   "execution_count": 62,
   "id": "engaging-subscriber",
   "metadata": {
    "ExecuteTime": {
     "end_time": "2021-06-29T19:50:20.005636Z",
     "start_time": "2021-06-29T19:50:19.325293Z"
    }
   },
   "outputs": [],
   "source": [
    "# Save model, data\n",
    "tp.save_model(lockdown_l1.model_best_valid, 'model_lockdown_valid_min_l1.pth')\n",
    "tp.save_model(lockdown_l1.model_last, 'model_lockdown_last_l1.pth')\n",
    "lockdown_l1.path_data.to_csv('data_lockdown_l1.csv')"
   ]
  },
  {
   "cell_type": "code",
   "execution_count": 63,
   "id": "convertible-confusion",
   "metadata": {
    "ExecuteTime": {
     "end_time": "2021-06-29T19:50:31.172479Z",
     "start_time": "2021-06-29T19:50:30.955401Z"
    }
   },
   "outputs": [
    {
     "data": {
      "image/png": "[encoded data removed]",
      "text/plain": [
       "<Figure size 576x432 with 1 Axes>"
      ]
     },
     "metadata": {
      "needs_background": "light"
     },
     "output_type": "display_data"
    }
   ],
   "source": [
    "# Relevant plots\n",
    "df = pd.read_csv('data_lockdown_l1.csv')\n",
    "df.plot(x=\"iteration\", y=['train_loss', 'valid_loss'], figsize=(8,6))\n",
    "plt.show()"
   ]
  },
  {
   "cell_type": "code",
   "execution_count": 64,
   "id": "respected-criminal",
   "metadata": {
    "ExecuteTime": {
     "end_time": "2021-06-29T19:50:58.398656Z",
     "start_time": "2021-06-29T19:50:58.156927Z"
    }
   },
   "outputs": [
    {
     "data": {
      "image/png": "[encoded data removed]",
      "text/plain": [
       "<Figure size 576x432 with 1 Axes>"
      ]
     },
     "metadata": {
      "needs_background": "light"
     },
     "output_type": "display_data"
    }
   ],
   "source": [
    "# Relevant plots\n",
    "df = pd.read_csv('data_lockdown_l1.csv')\n",
    "df.plot(x=\"iteration\", y=['sparcity__classifier.0.weight', 'valid_accu'], figsize=(8,6))\n",
    "plt.show()"
   ]
  },
  {
   "cell_type": "code",
   "execution_count": 67,
   "id": "sized-barbados",
   "metadata": {
    "ExecuteTime": {
     "end_time": "2021-06-29T19:52:03.933110Z",
     "start_time": "2021-06-29T19:52:03.727370Z"
    }
   },
   "outputs": [
    {
     "data": {
      "image/png": "[encoded data removed]",
      "text/plain": [
       "<Figure size 576x432 with 1 Axes>"
      ]
     },
     "metadata": {
      "needs_background": "light"
     },
     "output_type": "display_data"
    }
   ],
   "source": [
    "# Relevant plots\n",
    "df = pd.read_csv('data_lockdown_l1.csv')\n",
    "df.plot(x=\"iteration\", y=['t0_calc__classifier.0.weight', 't0_used__classifier.0.weight'], \n",
    "        figsize=(8,6))\n",
    "plt.show()"
   ]
  },
  {
   "cell_type": "code",
   "execution_count": 191,
   "id": "extensive-generation",
   "metadata": {
    "ExecuteTime": {
     "end_time": "2021-07-01T03:23:31.872098Z",
     "start_time": "2021-07-01T03:23:31.319119Z"
    },
    "code_folding": []
   },
   "outputs": [
    {
     "data": {
      "image/png": "[encoded data removed]",
      "text/plain": [
       "<Figure size 648x432 with 1 Axes>"
      ]
     },
     "metadata": {
      "needs_background": "light"
     },
     "output_type": "display_data"
    }
   ],
   "source": [
    "# Acc. v Sparcity (smooth)\n",
    "nn = int(2e2)\n",
    "data_lockdown = pd.read_csv('data_lockdown_l1.csv', index_col=0)\n",
    "data_tmp = pd.DataFrame(columns=['sparcity', 'train_accu', 'valid_accu', 'test_accu', 't0_used'])\n",
    "xgrid, step = np.linspace(0., 1., num=nn,endpoint=True, retstep=True)\n",
    "for x in xgrid:\n",
    "    msk = (data_lockdown['sparcity__classifier.0.weight'] >= x) &    \\\n",
    "          (data_lockdown['sparcity__classifier.0.weight'] < x+step)\n",
    "    train_accu = data_lockdown.loc[msk, 'train_accu'].mean()\n",
    "    valid_accu = data_lockdown.loc[msk, 'valid_accu'].mean()\n",
    "    test_accu  = data_lockdown.loc[msk, 'test_accu'].mean()\n",
    "    t0_used = data_lockdown.loc[msk, 't0_used__classifier.0.weight'].mean()\n",
    "    data_tmp = data_tmp.append({'sparcity': x, \n",
    "                                'train_accu': train_accu, \n",
    "                                'valid_accu': valid_accu, \n",
    "                                'test_accu': test_accu, \n",
    "                                't0_used': t0_used}, ignore_index=True)\n",
    "data_tmp.dropna(axis='index', how='any', inplace=True)\n",
    "\n",
    "fig, axes = plt.subplots(figsize=(9,6))\n",
    "\n",
    "axes.plot(228*data_tmp['sparcity'], 1.0 - data_tmp['valid_accu'], \n",
    "          \"-\", linewidth=4, markersize=10, color=\"black\")\n",
    "\n",
    "axes.grid(True, zorder=2)\n",
    "axes.set_xlabel(\"number of selected features\", fontsize=16)\n",
    "axes.set_ylabel(\"Validation Error\", fontsize=16)\n",
    "axes.tick_params(axis='both', which='major', labelsize=14)\n",
    "\n",
    "plt.tight_layout()\n",
    "# plt.savefig('error_vs_features_sec5.pdf', bbox_inches='tight')\n",
    "plt.show()"
   ]
  },
  {
   "cell_type": "code",
   "execution_count": null,
   "id": "accredited-annotation",
   "metadata": {
    "ExecuteTime": {
     "end_time": "2021-06-30T18:38:20.163823Z",
     "start_time": "2021-06-30T18:38:20.161201Z"
    }
   },
   "outputs": [],
   "source": []
  }
 ],
 "metadata": {
  "kernelspec": {
   "display_name": "Python 3",
   "language": "python",
   "name": "python3"
  },
  "language_info": {
   "codemirror_mode": {
    "name": "ipython",
    "version": 3
   },
   "file_extension": ".py",
   "mimetype": "text/x-python",
   "name": "python",
   "nbconvert_exporter": "python",
   "pygments_lexer": "ipython3",
   "version": "3.8.3"
  },
  "toc": {
   "base_numbering": 1,
   "nav_menu": {},
   "number_sections": true,
   "sideBar": true,
   "skip_h1_title": true,
   "title_cell": "Table of Contents",
   "title_sidebar": "Contents",
   "toc_cell": false,
   "toc_position": {
    "height": "calc(100% - 180px)",
    "left": "10px",
    "top": "150px",
    "width": "341.333px"
   },
   "toc_section_display": true,
   "toc_window_display": true
  }
 },
 "nbformat": 4,
 "nbformat_minor": 5
}
