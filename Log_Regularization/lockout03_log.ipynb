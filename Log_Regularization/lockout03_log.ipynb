{
 "cells": [
  {
   "cell_type": "markdown",
   "id": "flying-shock",
   "metadata": {},
   "source": [
    "# Logarithmic Regularization: Dataset 3"
   ]
  },
  {
   "cell_type": "code",
   "execution_count": 1,
   "id": "higher-documentary",
   "metadata": {
    "ExecuteTime": {
     "end_time": "2021-07-01T00:26:47.030291Z",
     "start_time": "2021-07-01T00:26:44.261626Z"
    },
    "code_folding": [
     0
    ]
   },
   "outputs": [],
   "source": [
    "# Import libraries and modules\n",
    "import numpy as np\n",
    "import pandas as pd\n",
    "\n",
    "import xgboost as xgb\n",
    "from xgboost import plot_tree\n",
    "\n",
    "from sklearn.metrics import r2_score, classification_report, confusion_matrix,           \\\n",
    "                            roc_curve, roc_auc_score, plot_confusion_matrix, f1_score,   \\\n",
    "                            balanced_accuracy_score, accuracy_score, mean_squared_error, \\\n",
    "                            log_loss\n",
    "from sklearn.datasets import make_friedman1\n",
    "from sklearn.model_selection import train_test_split, GridSearchCV\n",
    "from sklearn.linear_model import LogisticRegression, LinearRegression, SGDClassifier,    \\\n",
    "                                 Lasso, lasso_path\n",
    "from sklearn.preprocessing import StandardScaler, LabelBinarizer\n",
    "from sklearn.impute import SimpleImputer\n",
    "from sklearn.pipeline import Pipeline\n",
    "from sklearn_pandas import DataFrameMapper\n",
    "\n",
    "import scipy\n",
    "from scipy import stats\n",
    "\n",
    "import os\n",
    "import shutil\n",
    "from pathlib import Path\n",
    "\n",
    "import matplotlib as mpl\n",
    "import matplotlib.pyplot as plt\n",
    "import matplotlib.cm as cm\n",
    "\n",
    "import albumentations as A\n",
    "from albumentations.pytorch import ToTensorV2\n",
    "import cv2\n",
    "import itertools\n",
    "\n",
    "import time\n",
    "import tqdm\n",
    "import copy\n",
    "\n",
    "import torch\n",
    "import torchvision\n",
    "import torchvision.transforms as transforms\n",
    "import torch.nn as nn\n",
    "import torch.nn.functional as F\n",
    "import torch.optim as optim\n",
    "import torchvision.models as models\n",
    "from torch.utils.data import Dataset\n",
    "\n",
    "import PIL\n",
    "import joblib\n",
    "import json\n",
    "\n",
    "# import mysgd"
   ]
  },
  {
   "cell_type": "code",
   "execution_count": 2,
   "id": "presidential-education",
   "metadata": {
    "ExecuteTime": {
     "end_time": "2021-07-01T00:26:47.045955Z",
     "start_time": "2021-07-01T00:26:47.032993Z"
    },
    "code_folding": [
     0
    ]
   },
   "outputs": [
    {
     "data": {
      "text/plain": [
       "<module 'lockdown' from '/Users/arbelogonzalezw/Documents/ML_WORK/LIBS/Lockdown/lockdown.py'>"
      ]
     },
     "execution_count": 2,
     "metadata": {},
     "output_type": "execute_result"
    }
   ],
   "source": [
    "# Import user-defined modules\n",
    "import sys\n",
    "import imp\n",
    "sys.path.append('/Users/arbelogonzalezw/Documents/ML_WORK/LIBS/Lockdown')\n",
    "import tools_general as tg\n",
    "import tools_pytorch as tp\n",
    "import lockdown      as ld\n",
    "imp.reload(tg)\n",
    "imp.reload(tp)\n",
    "imp.reload(ld)"
   ]
  },
  {
   "cell_type": "markdown",
   "id": "dominican-paris",
   "metadata": {},
   "source": [
    "## Read, clean, and save data"
   ]
  },
  {
   "cell_type": "code",
   "execution_count": 27,
   "id": "suspended-upset",
   "metadata": {
    "ExecuteTime": {
     "end_time": "2021-06-29T17:36:39.096124Z",
     "start_time": "2021-06-29T17:36:38.917266Z"
    },
    "code_folding": [
     0
    ]
   },
   "outputs": [],
   "source": [
    "# Read X and y\n",
    "folder = '/Users/arbelogonzalezw/Documents/ML_WORK/Project_Jerry_Lockdown/'\n",
    "X = pd.read_csv(os.path.join(folder, 'dataset_13LungCancer/GSE137140_gene_profile.csv'), index_col=0)\n",
    "dfy = pd.read_csv(os.path.join(folder, 'dataset_13LungCancer/GSE137140_output.csv'), index_col=1)"
   ]
  },
  {
   "cell_type": "code",
   "execution_count": 28,
   "id": "geographic-sunrise",
   "metadata": {
    "ExecuteTime": {
     "end_time": "2021-06-29T17:36:40.730477Z",
     "start_time": "2021-06-29T17:36:40.705039Z"
    },
    "code_folding": [
     0
    ]
   },
   "outputs": [],
   "source": [
    "# Clean missing values and output classes\n",
    "X.dropna(axis=1, how='any', inplace=True)\n",
    "\n",
    "indx = dfy.index[dfy['disease state:ch1'] == 'Lung cancer, post-operation']\n",
    "X.drop(axis='index', index=indx, inplace=True)\n",
    "dfy.drop(axis='index', index=indx, inplace=True)\n",
    "\n",
    "X.columns = X.columns.str.lower()\n",
    "dfy.rename(columns={'disease state:ch1': 'disease_state'}, inplace=True)\n",
    "\n",
    "# Set target\n",
    "dfy.replace({'disease_state': {\"Lung cancer, pre-operation\": 1, \"Non-cancer control\": 0}}, inplace=True)\n",
    "Y = pd.DataFrame(dfy['disease_state'])"
   ]
  },
  {
   "cell_type": "code",
   "execution_count": 33,
   "id": "hazardous-pitch",
   "metadata": {
    "ExecuteTime": {
     "end_time": "2021-06-29T17:37:53.678595Z",
     "start_time": "2021-06-29T17:37:51.623043Z"
    },
    "code_folding": [
     0
    ]
   },
   "outputs": [
    {
     "name": "stdout",
     "output_type": "stream",
     "text": [
      "- X size: (3744, 228)\n",
      "\n",
      "- xtrain size: (2246, 228)\n",
      "- xvalid size: (749, 228)\n",
      "- xtest size: (749, 228)\n"
     ]
    }
   ],
   "source": [
    "# Split and save data set\n",
    "xtrain, xvalid, xtest, ytrain, yvalid, ytest = tg.split_data(X, Y, seed1=0, seed2=42)\n",
    "tg.save_data(X, xtrain, xvalid, xtest, Y, ytrain, yvalid, ytest, 'dataset/')\n",
    "tg.save_list(X.columns.to_list(), 'dataset/X.columns')\n",
    "tg.save_list(Y.columns.to_list(), 'dataset/Y.columns')\n",
    "\n",
    "# \n",
    "print(\"- X size: {}\\n\".format(X.shape))\n",
    "print(\"- xtrain size: {}\".format(xtrain.shape))\n",
    "print(\"- xvalid size: {}\".format(xvalid.shape))\n",
    "print(\"- xtest size: {}\".format(xtest.shape))"
   ]
  },
  {
   "cell_type": "markdown",
   "id": "answering-mason",
   "metadata": {},
   "source": [
    "## Load Data"
   ]
  },
  {
   "cell_type": "code",
   "execution_count": 3,
   "id": "three-mapping",
   "metadata": {
    "ExecuteTime": {
     "end_time": "2021-07-01T00:26:56.043219Z",
     "start_time": "2021-07-01T00:26:56.038860Z"
    },
    "code_folding": [
     0
    ]
   },
   "outputs": [
    {
     "name": "stdout",
     "output_type": "stream",
     "text": [
      "-Type of precessor to be used: 'cpu'\n"
     ]
    }
   ],
   "source": [
    "# Select type of processor to be used\n",
    "device = torch.device(\"cuda\" if torch.cuda.is_available() else \"cpu\")\n",
    "\n",
    "if device == torch.device('cuda'):\n",
    "    print(\"-Type of precessor to be used: 'gpu'\")\n",
    "    !nvidia-smi\n",
    "else:\n",
    "    print(\"-Type of precessor to be used: 'cpu'\")\n",
    "    \n",
    "# Choose device\n",
    "# torch.cuda.set_device(6)"
   ]
  },
  {
   "cell_type": "code",
   "execution_count": 4,
   "id": "responsible-network",
   "metadata": {
    "ExecuteTime": {
     "end_time": "2021-07-01T00:26:58.252124Z",
     "start_time": "2021-07-01T00:26:57.904463Z"
    }
   },
   "outputs": [],
   "source": [
    "# Read data\n",
    "X, x_train, x_valid, x_test, Y, ytrain, yvalid, ytest = tp.load_data_clf('dataset/')\n",
    "cols_X = tg.read_list('dataset/X.columns')\n",
    "cols_Y = tg.read_list('dataset/Y.columns')"
   ]
  },
  {
   "cell_type": "code",
   "execution_count": 5,
   "id": "weighted-semester",
   "metadata": {
    "ExecuteTime": {
     "end_time": "2021-07-01T00:27:00.436984Z",
     "start_time": "2021-07-01T00:27:00.423150Z"
    }
   },
   "outputs": [],
   "source": [
    "# Normalize data\n",
    "xtrain, xvalid, xtest = tp.normalize_x(x_train, x_valid, x_test)"
   ]
  },
  {
   "cell_type": "code",
   "execution_count": 6,
   "id": "excess-combination",
   "metadata": {
    "ExecuteTime": {
     "end_time": "2021-07-01T00:27:02.140515Z",
     "start_time": "2021-07-01T00:27:02.137183Z"
    }
   },
   "outputs": [
    {
     "name": "stdout",
     "output_type": "stream",
     "text": [
      "(train, valid, test) = (1, 1, 1)\n"
     ]
    }
   ],
   "source": [
    "# Create dataloaders\n",
    "dl_train, dl_valid, dl_test = tp.make_DataLoaders(xtrain, xvalid, xtest, ytrain, yvalid, ytest, \n",
    "                                                  tp.dataset_tabular, batch_size=10000)"
   ]
  },
  {
   "cell_type": "code",
   "execution_count": 7,
   "id": "described-metropolitan",
   "metadata": {
    "ExecuteTime": {
     "end_time": "2021-07-01T00:27:04.960834Z",
     "start_time": "2021-07-01T00:27:04.957084Z"
    },
    "code_folding": []
   },
   "outputs": [],
   "source": [
    "# NN architecture with its corresponding forward method\n",
    "class MyNet(nn.Module):\n",
    "    \n",
    "# .Network architecture\n",
    "    def __init__(self, features, layer_sizes):\n",
    "        super(MyNet, self).__init__()\n",
    "        \n",
    "        self.classifier = nn.Sequential(\n",
    "            nn.Linear(features, layer_sizes[0], bias=True),\n",
    "            nn.ReLU(inplace=True),\n",
    "            nn.Linear(layer_sizes[0], layer_sizes[1], bias=True)\n",
    "        )\n",
    "\n",
    "# .Forward function\n",
    "    def forward(self, x):\n",
    "        x = self.classifier(x)\n",
    "        return x"
   ]
  },
  {
   "cell_type": "code",
   "execution_count": 8,
   "id": "revised-virginia",
   "metadata": {
    "ExecuteTime": {
     "end_time": "2021-07-01T00:27:18.697403Z",
     "start_time": "2021-07-01T00:27:18.692564Z"
    },
    "code_folding": []
   },
   "outputs": [
    {
     "data": {
      "text/plain": [
       "MyNet(\n",
       "  (classifier): Sequential(\n",
       "    (0): Linear(in_features=228, out_features=10, bias=True)\n",
       "    (1): ReLU(inplace=True)\n",
       "    (2): Linear(in_features=10, out_features=2, bias=True)\n",
       "  )\n",
       ")"
      ]
     },
     "execution_count": 8,
     "metadata": {},
     "output_type": "execute_result"
    }
   ],
   "source": [
    "# Load best forward model\n",
    "n_features = len(cols_X)\n",
    "n_layers = [10, 2]\n",
    "model = MyNet(n_features, n_layers)\n",
    "model.eval()"
   ]
  },
  {
   "cell_type": "markdown",
   "id": "forward-mortgage",
   "metadata": {},
   "source": [
    "## Lockout (Log, beta = 0.7)"
   ]
  },
  {
   "cell_type": "code",
   "execution_count": 13,
   "id": "undefined-opposition",
   "metadata": {
    "ExecuteTime": {
     "end_time": "2021-07-01T01:41:01.937253Z",
     "start_time": "2021-07-01T01:41:01.930946Z"
    }
   },
   "outputs": [],
   "source": [
    "# TRAIN WITH LOCKDOWN\n",
    "model = MyNet(n_features, n_layers)\n",
    "model.load_state_dict(torch.load('./model_forward_valid_min.pth'))\n",
    "model.eval()\n",
    "\n",
    "regul_type = [('classifier.0.weight', 2), \n",
    "              ('classifier.2.weight', 2)]\n",
    "\n",
    "regul_path = [('classifier.0.weight', True), \n",
    "              ('classifier.2.weight', False)]\n",
    "\n",
    "t0_points = {'classifier.0.weight': 200}\n",
    "\n",
    "lockout_log7 = ld.lockdown(model, lr=5e-3, \n",
    "                           regul_type=regul_type, \n",
    "                           regul_path=regul_path, \n",
    "                           t0_points=t0_points,\n",
    "                           loss_type=2, tol_grads=1e-2, beta=0.7)"
   ]
  },
  {
   "cell_type": "code",
   "execution_count": 14,
   "id": "sticky-knitting",
   "metadata": {
    "ExecuteTime": {
     "end_time": "2021-07-01T02:36:00.992757Z",
     "start_time": "2021-07-01T01:41:03.734302Z"
    },
    "scrolled": true
   },
   "outputs": [
    {
     "data": {
      "application/vnd.jupyter.widget-view+json": {
       "model_id": "0ff76d440efc43889b0817a2569e9e4c",
       "version_major": 2,
       "version_minor": 0
      },
      "text/plain": [
       "t0:   0%|          | 0/200 [00:00<?, ?it/s]"
      ]
     },
     "metadata": {},
     "output_type": "display_data"
    },
    {
     "name": "stdout",
     "output_type": "stream",
     "text": [
      "{'classifier.0.weight': tensor(-754.0070, dtype=torch.float64), 'classifier.2.weight': tensor(-4.9737)} {'classifier.0.weight': tensor(-813.2189)}\n"
     ]
    },
    {
     "data": {
      "application/vnd.jupyter.widget-view+json": {
       "model_id": "41af0fcf3a154046a719187bf5980c17",
       "version_major": 2,
       "version_minor": 0
      },
      "text/plain": [
       "Epochs1:   0%|          | 0/10000 [00:00<?, ?it/s]"
      ]
     },
     "metadata": {},
     "output_type": "display_data"
    },
    {
     "name": "stdout",
     "output_type": "stream",
     "text": [
      "Early stopping = True (975)\n",
      "{'classifier.0.weight': tensor(-754.3045, dtype=torch.float64), 'classifier.2.weight': tensor(-4.9737)} {'classifier.0.weight': tensor(-813.2189)}\n"
     ]
    },
    {
     "data": {
      "application/vnd.jupyter.widget-view+json": {
       "model_id": "85bc751916b943b4886cf43702bb724b",
       "version_major": 2,
       "version_minor": 0
      },
      "text/plain": [
       "Epochs1:   0%|          | 0/10000 [00:00<?, ?it/s]"
      ]
     },
     "metadata": {},
     "output_type": "display_data"
    },
    {
     "name": "stdout",
     "output_type": "stream",
     "text": [
      "Early stopping = True (210)\n",
      "{'classifier.0.weight': tensor(-754.6021, dtype=torch.float64), 'classifier.2.weight': tensor(-4.9737)} {'classifier.0.weight': tensor(-813.2189)}\n"
     ]
    },
    {
     "data": {
      "application/vnd.jupyter.widget-view+json": {
       "model_id": "053ba1df0a0b48698000672ed5434ed9",
       "version_major": 2,
       "version_minor": 0
      },
      "text/plain": [
       "Epochs1:   0%|          | 0/10000 [00:00<?, ?it/s]"
      ]
     },
     "metadata": {},
     "output_type": "display_data"
    },
    {
     "name": "stdout",
     "output_type": "stream",
     "text": [
      "Early stopping = True (21)\n",
      "{'classifier.0.weight': tensor(-754.8996, dtype=torch.float64), 'classifier.2.weight': tensor(-4.9737)} {'classifier.0.weight': tensor(-813.2189)}\n"
     ]
    },
    {
     "data": {
      "application/vnd.jupyter.widget-view+json": {
       "model_id": "b07c7e6e7faa4a5c9689f1c8a02357f4",
       "version_major": 2,
       "version_minor": 0
      },
      "text/plain": [
       "Epochs1:   0%|          | 0/10000 [00:00<?, ?it/s]"
      ]
     },
     "metadata": {},
     "output_type": "display_data"
    },
    {
     "name": "stdout",
     "output_type": "stream",
     "text": [
      "Early stopping = True (27)\n",
      "{'classifier.0.weight': tensor(-755.1971, dtype=torch.float64), 'classifier.2.weight': tensor(-4.9737)} {'classifier.0.weight': tensor(-813.2189)}\n"
     ]
    },
    {
     "data": {
      "application/vnd.jupyter.widget-view+json": {
       "model_id": "e3f1930524b247c59348b5de40a9fae8",
       "version_major": 2,
       "version_minor": 0
      },
      "text/plain": [
       "Epochs1:   0%|          | 0/10000 [00:00<?, ?it/s]"
      ]
     },
     "metadata": {},
     "output_type": "display_data"
    },
    {
     "name": "stdout",
     "output_type": "stream",
     "text": [
      "Early stopping = True (21)\n",
      "{'classifier.0.weight': tensor(-755.4947, dtype=torch.float64), 'classifier.2.weight': tensor(-4.9737)} {'classifier.0.weight': tensor(-813.2189)}\n"
     ]
    },
    {
     "data": {
      "application/vnd.jupyter.widget-view+json": {
       "model_id": "541f2f08b3be4ec493562cddf5e95489",
       "version_major": 2,
       "version_minor": 0
      },
      "text/plain": [
       "Epochs1:   0%|          | 0/10000 [00:00<?, ?it/s]"
      ]
     },
     "metadata": {},
     "output_type": "display_data"
    },
    {
     "name": "stdout",
     "output_type": "stream",
     "text": [
      "Early stopping = True (21)\n",
      "{'classifier.0.weight': tensor(-755.7922, dtype=torch.float64), 'classifier.2.weight': tensor(-4.9737)} {'classifier.0.weight': tensor(-813.2189)}\n"
     ]
    },
    {
     "data": {
      "application/vnd.jupyter.widget-view+json": {
       "model_id": "8d88c608fac24b38b123be9a21475054",
       "version_major": 2,
       "version_minor": 0
      },
      "text/plain": [
       "Epochs1:   0%|          | 0/10000 [00:00<?, ?it/s]"
      ]
     },
     "metadata": {},
     "output_type": "display_data"
    },
    {
     "name": "stdout",
     "output_type": "stream",
     "text": [
      "Early stopping = True (34)\n",
      "{'classifier.0.weight': tensor(-756.0898, dtype=torch.float64), 'classifier.2.weight': tensor(-4.9737)} {'classifier.0.weight': tensor(-813.2189)}\n"
     ]
    },
    {
     "data": {
      "application/vnd.jupyter.widget-view+json": {
       "model_id": "cb40246f53474c31a7ec5075860fad2b",
       "version_major": 2,
       "version_minor": 0
      },
      "text/plain": [
       "Epochs1:   0%|          | 0/10000 [00:00<?, ?it/s]"
      ]
     },
     "metadata": {},
     "output_type": "display_data"
    },
    {
     "name": "stdout",
     "output_type": "stream",
     "text": [
      "Early stopping = True (33)\n",
      "{'classifier.0.weight': tensor(-756.3873, dtype=torch.float64), 'classifier.2.weight': tensor(-4.9737)} {'classifier.0.weight': tensor(-813.2189)}\n"
     ]
    },
    {
     "data": {
      "application/vnd.jupyter.widget-view+json": {
       "model_id": "5fb7172ddc964294ba8e7086fe2be75b",
       "version_major": 2,
       "version_minor": 0
      },
      "text/plain": [
       "Epochs1:   0%|          | 0/10000 [00:00<?, ?it/s]"
      ]
     },
     "metadata": {},
     "output_type": "display_data"
    },
    {
     "name": "stdout",
     "output_type": "stream",
     "text": [
      "Early stopping = True (21)\n",
      "{'classifier.0.weight': tensor(-756.6849, dtype=torch.float64), 'classifier.2.weight': tensor(-4.9737)} {'classifier.0.weight': tensor(-813.2189)}\n"
     ]
    },
    {
     "data": {
      "application/vnd.jupyter.widget-view+json": {
       "model_id": "dbe7936591044a7d8c67b25a05ec46bd",
       "version_major": 2,
       "version_minor": 0
      },
      "text/plain": [
       "Epochs1:   0%|          | 0/10000 [00:00<?, ?it/s]"
      ]
     },
     "metadata": {},
     "output_type": "display_data"
    },
    {
     "name": "stdout",
     "output_type": "stream",
     "text": [
      "Early stopping = True (22)\n",
      "{'classifier.0.weight': tensor(-756.9824, dtype=torch.float64), 'classifier.2.weight': tensor(-4.9737)} {'classifier.0.weight': tensor(-813.2189)}\n"
     ]
    },
    {
     "data": {
      "application/vnd.jupyter.widget-view+json": {
       "model_id": "da520a6931e044489dc3a024ca44f3af",
       "version_major": 2,
       "version_minor": 0
      },
      "text/plain": [
       "Epochs1:   0%|          | 0/10000 [00:00<?, ?it/s]"
      ]
     },
     "metadata": {},
     "output_type": "display_data"
    },
    {
     "name": "stdout",
     "output_type": "stream",
     "text": [
      "Early stopping = True (50)\n",
      "{'classifier.0.weight': tensor(-757.2800, dtype=torch.float64), 'classifier.2.weight': tensor(-4.9737)} {'classifier.0.weight': tensor(-813.2189)}\n"
     ]
    },
    {
     "data": {
      "application/vnd.jupyter.widget-view+json": {
       "model_id": "dafd8fa55b8842e4ab7fe3598c065df6",
       "version_major": 2,
       "version_minor": 0
      },
      "text/plain": [
       "Epochs1:   0%|          | 0/10000 [00:00<?, ?it/s]"
      ]
     },
     "metadata": {},
     "output_type": "display_data"
    },
    {
     "name": "stdout",
     "output_type": "stream",
     "text": [
      "Early stopping = True (42)\n",
      "{'classifier.0.weight': tensor(-757.5775, dtype=torch.float64), 'classifier.2.weight': tensor(-4.9737)} {'classifier.0.weight': tensor(-813.2189)}\n"
     ]
    },
    {
     "data": {
      "application/vnd.jupyter.widget-view+json": {
       "model_id": "a536e766b31147babf293b2d79e4905d",
       "version_major": 2,
       "version_minor": 0
      },
      "text/plain": [
       "Epochs1:   0%|          | 0/10000 [00:00<?, ?it/s]"
      ]
     },
     "metadata": {},
     "output_type": "display_data"
    },
    {
     "name": "stdout",
     "output_type": "stream",
     "text": [
      "Early stopping = True (22)\n",
      "{'classifier.0.weight': tensor(-757.8751, dtype=torch.float64), 'classifier.2.weight': tensor(-4.9737)} {'classifier.0.weight': tensor(-813.2189)}\n"
     ]
    },
    {
     "data": {
      "application/vnd.jupyter.widget-view+json": {
       "model_id": "59af8428441548728f6634f21a8cd37a",
       "version_major": 2,
       "version_minor": 0
      },
      "text/plain": [
       "Epochs1:   0%|          | 0/10000 [00:00<?, ?it/s]"
      ]
     },
     "metadata": {},
     "output_type": "display_data"
    },
    {
     "name": "stdout",
     "output_type": "stream",
     "text": [
      "Early stopping = True (31)\n",
      "{'classifier.0.weight': tensor(-758.1726, dtype=torch.float64), 'classifier.2.weight': tensor(-4.9737)} {'classifier.0.weight': tensor(-813.2189)}\n"
     ]
    },
    {
     "data": {
      "application/vnd.jupyter.widget-view+json": {
       "model_id": "ca75f2e76aaf456290934f3ec85e7524",
       "version_major": 2,
       "version_minor": 0
      },
      "text/plain": [
       "Epochs1:   0%|          | 0/10000 [00:00<?, ?it/s]"
      ]
     },
     "metadata": {},
     "output_type": "display_data"
    },
    {
     "name": "stdout",
     "output_type": "stream",
     "text": [
      "Early stopping = True (22)\n",
      "{'classifier.0.weight': tensor(-758.4702, dtype=torch.float64), 'classifier.2.weight': tensor(-4.9737)} {'classifier.0.weight': tensor(-813.2189)}\n"
     ]
    },
    {
     "data": {
      "application/vnd.jupyter.widget-view+json": {
       "model_id": "b5157be2391c4dfdb6821186670d9a60",
       "version_major": 2,
       "version_minor": 0
      },
      "text/plain": [
       "Epochs1:   0%|          | 0/10000 [00:00<?, ?it/s]"
      ]
     },
     "metadata": {},
     "output_type": "display_data"
    },
    {
     "name": "stdout",
     "output_type": "stream",
     "text": [
      "Early stopping = True (29)\n",
      "{'classifier.0.weight': tensor(-758.7677, dtype=torch.float64), 'classifier.2.weight': tensor(-4.9737)} {'classifier.0.weight': tensor(-813.2189)}\n"
     ]
    },
    {
     "data": {
      "application/vnd.jupyter.widget-view+json": {
       "model_id": "5feb61dab857488fb2fb1acf603d594b",
       "version_major": 2,
       "version_minor": 0
      },
      "text/plain": [
       "Epochs1:   0%|          | 0/10000 [00:00<?, ?it/s]"
      ]
     },
     "metadata": {},
     "output_type": "display_data"
    },
    {
     "name": "stdout",
     "output_type": "stream",
     "text": [
      "Early stopping = True (30)\n",
      "{'classifier.0.weight': tensor(-759.0653, dtype=torch.float64), 'classifier.2.weight': tensor(-4.9737)} {'classifier.0.weight': tensor(-813.2189)}\n"
     ]
    },
    {
     "data": {
      "application/vnd.jupyter.widget-view+json": {
       "model_id": "e4f88e40dcd346db8fcb5d9d9d0a0710",
       "version_major": 2,
       "version_minor": 0
      },
      "text/plain": [
       "Epochs1:   0%|          | 0/10000 [00:00<?, ?it/s]"
      ]
     },
     "metadata": {},
     "output_type": "display_data"
    },
    {
     "name": "stdout",
     "output_type": "stream",
     "text": [
      "Early stopping = True (22)\n",
      "{'classifier.0.weight': tensor(-759.3628, dtype=torch.float64), 'classifier.2.weight': tensor(-4.9737)} {'classifier.0.weight': tensor(-813.2189)}\n"
     ]
    },
    {
     "data": {
      "application/vnd.jupyter.widget-view+json": {
       "model_id": "9fa1ef41e495473a868d071c2b4304b6",
       "version_major": 2,
       "version_minor": 0
      },
      "text/plain": [
       "Epochs1:   0%|          | 0/10000 [00:00<?, ?it/s]"
      ]
     },
     "metadata": {},
     "output_type": "display_data"
    },
    {
     "name": "stdout",
     "output_type": "stream",
     "text": [
      "Early stopping = True (22)\n",
      "{'classifier.0.weight': tensor(-759.6604, dtype=torch.float64), 'classifier.2.weight': tensor(-4.9737)} {'classifier.0.weight': tensor(-813.2189)}\n"
     ]
    },
    {
     "data": {
      "application/vnd.jupyter.widget-view+json": {
       "model_id": "8b7f4ced5f674eeebaf94a5164a0ab52",
       "version_major": 2,
       "version_minor": 0
      },
      "text/plain": [
       "Epochs1:   0%|          | 0/10000 [00:00<?, ?it/s]"
      ]
     },
     "metadata": {},
     "output_type": "display_data"
    },
    {
     "name": "stdout",
     "output_type": "stream",
     "text": [
      "Early stopping = True (22)\n",
      "{'classifier.0.weight': tensor(-759.9579, dtype=torch.float64), 'classifier.2.weight': tensor(-4.9737)} {'classifier.0.weight': tensor(-813.2189)}\n"
     ]
    },
    {
     "data": {
      "application/vnd.jupyter.widget-view+json": {
       "model_id": "3ea36227989143808a7cb4224e462b06",
       "version_major": 2,
       "version_minor": 0
      },
      "text/plain": [
       "Epochs1:   0%|          | 0/10000 [00:00<?, ?it/s]"
      ]
     },
     "metadata": {},
     "output_type": "display_data"
    },
    {
     "name": "stdout",
     "output_type": "stream",
     "text": [
      "Early stopping = True (22)\n",
      "{'classifier.0.weight': tensor(-760.2555, dtype=torch.float64), 'classifier.2.weight': tensor(-4.9737)} {'classifier.0.weight': tensor(-813.2189)}\n"
     ]
    },
    {
     "data": {
      "application/vnd.jupyter.widget-view+json": {
       "model_id": "afbc1e9ff07a49d09dc005dd24bfbc19",
       "version_major": 2,
       "version_minor": 0
      },
      "text/plain": [
       "Epochs1:   0%|          | 0/10000 [00:00<?, ?it/s]"
      ]
     },
     "metadata": {},
     "output_type": "display_data"
    },
    {
     "name": "stdout",
     "output_type": "stream",
     "text": [
      "Early stopping = True (22)\n",
      "{'classifier.0.weight': tensor(-760.5530, dtype=torch.float64), 'classifier.2.weight': tensor(-4.9737)} {'classifier.0.weight': tensor(-813.2189)}\n"
     ]
    },
    {
     "data": {
      "application/vnd.jupyter.widget-view+json": {
       "model_id": "32489db1e9e949d2b092141bf90a9fdd",
       "version_major": 2,
       "version_minor": 0
      },
      "text/plain": [
       "Epochs1:   0%|          | 0/10000 [00:00<?, ?it/s]"
      ]
     },
     "metadata": {},
     "output_type": "display_data"
    },
    {
     "name": "stdout",
     "output_type": "stream",
     "text": [
      "Early stopping = True (22)\n",
      "{'classifier.0.weight': tensor(-760.8506, dtype=torch.float64), 'classifier.2.weight': tensor(-4.9737)} {'classifier.0.weight': tensor(-813.2189)}\n"
     ]
    },
    {
     "data": {
      "application/vnd.jupyter.widget-view+json": {
       "model_id": "4944e0c64bd64895acf0dbd23e59b266",
       "version_major": 2,
       "version_minor": 0
      },
      "text/plain": [
       "Epochs1:   0%|          | 0/10000 [00:00<?, ?it/s]"
      ]
     },
     "metadata": {},
     "output_type": "display_data"
    },
    {
     "name": "stdout",
     "output_type": "stream",
     "text": [
      "Early stopping = True (22)\n",
      "{'classifier.0.weight': tensor(-761.1481, dtype=torch.float64), 'classifier.2.weight': tensor(-4.9737)} {'classifier.0.weight': tensor(-813.2189)}\n"
     ]
    },
    {
     "data": {
      "application/vnd.jupyter.widget-view+json": {
       "model_id": "7fed62bca97a492dbddb34cd43def935",
       "version_major": 2,
       "version_minor": 0
      },
      "text/plain": [
       "Epochs1:   0%|          | 0/10000 [00:00<?, ?it/s]"
      ]
     },
     "metadata": {},
     "output_type": "display_data"
    },
    {
     "name": "stdout",
     "output_type": "stream",
     "text": [
      "Early stopping = True (22)\n",
      "{'classifier.0.weight': tensor(-761.4456, dtype=torch.float64), 'classifier.2.weight': tensor(-4.9737)} {'classifier.0.weight': tensor(-813.2189)}\n"
     ]
    },
    {
     "data": {
      "application/vnd.jupyter.widget-view+json": {
       "model_id": "818625e84b8546c39a9742f88c256277",
       "version_major": 2,
       "version_minor": 0
      },
      "text/plain": [
       "Epochs1:   0%|          | 0/10000 [00:00<?, ?it/s]"
      ]
     },
     "metadata": {},
     "output_type": "display_data"
    },
    {
     "name": "stdout",
     "output_type": "stream",
     "text": [
      "Early stopping = True (23)\n",
      "{'classifier.0.weight': tensor(-761.7432, dtype=torch.float64), 'classifier.2.weight': tensor(-4.9737)} {'classifier.0.weight': tensor(-813.2189)}\n"
     ]
    },
    {
     "data": {
      "application/vnd.jupyter.widget-view+json": {
       "model_id": "e20a7a95ec6743dd8cd88fba5421edd1",
       "version_major": 2,
       "version_minor": 0
      },
      "text/plain": [
       "Epochs1:   0%|          | 0/10000 [00:00<?, ?it/s]"
      ]
     },
     "metadata": {},
     "output_type": "display_data"
    },
    {
     "name": "stdout",
     "output_type": "stream",
     "text": [
      "Early stopping = True (23)\n",
      "{'classifier.0.weight': tensor(-762.0407, dtype=torch.float64), 'classifier.2.weight': tensor(-4.9737)} {'classifier.0.weight': tensor(-813.2189)}\n"
     ]
    },
    {
     "data": {
      "application/vnd.jupyter.widget-view+json": {
       "model_id": "b5b3b47b498241119ee97c1642e2b5c5",
       "version_major": 2,
       "version_minor": 0
      },
      "text/plain": [
       "Epochs1:   0%|          | 0/10000 [00:00<?, ?it/s]"
      ]
     },
     "metadata": {},
     "output_type": "display_data"
    },
    {
     "name": "stdout",
     "output_type": "stream",
     "text": [
      "Early stopping = True (23)\n",
      "{'classifier.0.weight': tensor(-762.3383, dtype=torch.float64), 'classifier.2.weight': tensor(-4.9737)} {'classifier.0.weight': tensor(-813.2189)}\n"
     ]
    },
    {
     "data": {
      "application/vnd.jupyter.widget-view+json": {
       "model_id": "89f1b0a16ea4478ba18a504c9163c63b",
       "version_major": 2,
       "version_minor": 0
      },
      "text/plain": [
       "Epochs1:   0%|          | 0/10000 [00:00<?, ?it/s]"
      ]
     },
     "metadata": {},
     "output_type": "display_data"
    },
    {
     "name": "stdout",
     "output_type": "stream",
     "text": [
      "Early stopping = True (23)\n",
      "{'classifier.0.weight': tensor(-762.6358, dtype=torch.float64), 'classifier.2.weight': tensor(-4.9737)} {'classifier.0.weight': tensor(-813.2189)}\n"
     ]
    },
    {
     "data": {
      "application/vnd.jupyter.widget-view+json": {
       "model_id": "521295f55d45426e96d965638da7dbeb",
       "version_major": 2,
       "version_minor": 0
      },
      "text/plain": [
       "Epochs1:   0%|          | 0/10000 [00:00<?, ?it/s]"
      ]
     },
     "metadata": {},
     "output_type": "display_data"
    },
    {
     "name": "stdout",
     "output_type": "stream",
     "text": [
      "Early stopping = True (23)\n",
      "{'classifier.0.weight': tensor(-762.9334, dtype=torch.float64), 'classifier.2.weight': tensor(-4.9737)} {'classifier.0.weight': tensor(-813.2189)}\n"
     ]
    },
    {
     "data": {
      "application/vnd.jupyter.widget-view+json": {
       "model_id": "67bd7e17eda149a4924e0c181ac23b0f",
       "version_major": 2,
       "version_minor": 0
      },
      "text/plain": [
       "Epochs1:   0%|          | 0/10000 [00:00<?, ?it/s]"
      ]
     },
     "metadata": {},
     "output_type": "display_data"
    },
    {
     "name": "stdout",
     "output_type": "stream",
     "text": [
      "Early stopping = True (23)\n",
      "{'classifier.0.weight': tensor(-763.2309, dtype=torch.float64), 'classifier.2.weight': tensor(-4.9737)} {'classifier.0.weight': tensor(-813.2189)}\n"
     ]
    },
    {
     "data": {
      "application/vnd.jupyter.widget-view+json": {
       "model_id": "ef0202131aee4f8bbf7b4e759c030d44",
       "version_major": 2,
       "version_minor": 0
      },
      "text/plain": [
       "Epochs1:   0%|          | 0/10000 [00:00<?, ?it/s]"
      ]
     },
     "metadata": {},
     "output_type": "display_data"
    },
    {
     "name": "stdout",
     "output_type": "stream",
     "text": [
      "Early stopping = True (23)\n",
      "{'classifier.0.weight': tensor(-763.5285, dtype=torch.float64), 'classifier.2.weight': tensor(-4.9737)} {'classifier.0.weight': tensor(-813.2189)}\n"
     ]
    },
    {
     "data": {
      "application/vnd.jupyter.widget-view+json": {
       "model_id": "80bd39d2c59541e1ae25f8469f4d12c4",
       "version_major": 2,
       "version_minor": 0
      },
      "text/plain": [
       "Epochs1:   0%|          | 0/10000 [00:00<?, ?it/s]"
      ]
     },
     "metadata": {},
     "output_type": "display_data"
    },
    {
     "name": "stdout",
     "output_type": "stream",
     "text": [
      "Early stopping = True (23)\n",
      "{'classifier.0.weight': tensor(-763.8260, dtype=torch.float64), 'classifier.2.weight': tensor(-4.9737)} {'classifier.0.weight': tensor(-813.2189)}\n"
     ]
    },
    {
     "data": {
      "application/vnd.jupyter.widget-view+json": {
       "model_id": "168d3838735e483abb56bcd9b6548b71",
       "version_major": 2,
       "version_minor": 0
      },
      "text/plain": [
       "Epochs1:   0%|          | 0/10000 [00:00<?, ?it/s]"
      ]
     },
     "metadata": {},
     "output_type": "display_data"
    },
    {
     "name": "stdout",
     "output_type": "stream",
     "text": [
      "Early stopping = True (23)\n",
      "{'classifier.0.weight': tensor(-764.1236, dtype=torch.float64), 'classifier.2.weight': tensor(-4.9737)} {'classifier.0.weight': tensor(-813.2189)}\n"
     ]
    },
    {
     "data": {
      "application/vnd.jupyter.widget-view+json": {
       "model_id": "b424a6ff9661447eabea067a86ea0396",
       "version_major": 2,
       "version_minor": 0
      },
      "text/plain": [
       "Epochs1:   0%|          | 0/10000 [00:00<?, ?it/s]"
      ]
     },
     "metadata": {},
     "output_type": "display_data"
    },
    {
     "name": "stdout",
     "output_type": "stream",
     "text": [
      "Early stopping = True (23)\n",
      "{'classifier.0.weight': tensor(-764.4211, dtype=torch.float64), 'classifier.2.weight': tensor(-4.9737)} {'classifier.0.weight': tensor(-813.2189)}\n"
     ]
    },
    {
     "data": {
      "application/vnd.jupyter.widget-view+json": {
       "model_id": "3c4375b28911410faca74266510d7739",
       "version_major": 2,
       "version_minor": 0
      },
      "text/plain": [
       "Epochs1:   0%|          | 0/10000 [00:00<?, ?it/s]"
      ]
     },
     "metadata": {},
     "output_type": "display_data"
    },
    {
     "name": "stdout",
     "output_type": "stream",
     "text": [
      "Early stopping = True (23)\n",
      "{'classifier.0.weight': tensor(-764.7187, dtype=torch.float64), 'classifier.2.weight': tensor(-4.9737)} {'classifier.0.weight': tensor(-813.2189)}\n"
     ]
    },
    {
     "data": {
      "application/vnd.jupyter.widget-view+json": {
       "model_id": "ef41724232624051809040a1a552e3ca",
       "version_major": 2,
       "version_minor": 0
      },
      "text/plain": [
       "Epochs1:   0%|          | 0/10000 [00:00<?, ?it/s]"
      ]
     },
     "metadata": {},
     "output_type": "display_data"
    },
    {
     "name": "stdout",
     "output_type": "stream",
     "text": [
      "Early stopping = True (23)\n",
      "{'classifier.0.weight': tensor(-765.0162, dtype=torch.float64), 'classifier.2.weight': tensor(-4.9737)} {'classifier.0.weight': tensor(-813.2189)}\n"
     ]
    },
    {
     "data": {
      "application/vnd.jupyter.widget-view+json": {
       "model_id": "8cf1da5fdbab4c3991b5676e951cec86",
       "version_major": 2,
       "version_minor": 0
      },
      "text/plain": [
       "Epochs1:   0%|          | 0/10000 [00:00<?, ?it/s]"
      ]
     },
     "metadata": {},
     "output_type": "display_data"
    },
    {
     "name": "stdout",
     "output_type": "stream",
     "text": [
      "Early stopping = True (23)\n",
      "{'classifier.0.weight': tensor(-765.3138, dtype=torch.float64), 'classifier.2.weight': tensor(-4.9737)} {'classifier.0.weight': tensor(-813.2189)}\n"
     ]
    },
    {
     "data": {
      "application/vnd.jupyter.widget-view+json": {
       "model_id": "e548d4ef2a3f4cd4a9147d86740d5800",
       "version_major": 2,
       "version_minor": 0
      },
      "text/plain": [
       "Epochs1:   0%|          | 0/10000 [00:00<?, ?it/s]"
      ]
     },
     "metadata": {},
     "output_type": "display_data"
    },
    {
     "name": "stdout",
     "output_type": "stream",
     "text": [
      "Early stopping = True (23)\n",
      "{'classifier.0.weight': tensor(-765.6113, dtype=torch.float64), 'classifier.2.weight': tensor(-4.9737)} {'classifier.0.weight': tensor(-813.2189)}\n"
     ]
    },
    {
     "data": {
      "application/vnd.jupyter.widget-view+json": {
       "model_id": "d972e16f22764b2a860a45305d1716ab",
       "version_major": 2,
       "version_minor": 0
      },
      "text/plain": [
       "Epochs1:   0%|          | 0/10000 [00:00<?, ?it/s]"
      ]
     },
     "metadata": {},
     "output_type": "display_data"
    },
    {
     "name": "stdout",
     "output_type": "stream",
     "text": [
      "Early stopping = True (24)\n",
      "{'classifier.0.weight': tensor(-765.9089, dtype=torch.float64), 'classifier.2.weight': tensor(-4.9737)} {'classifier.0.weight': tensor(-813.2189)}\n"
     ]
    },
    {
     "data": {
      "application/vnd.jupyter.widget-view+json": {
       "model_id": "60bc4e6928fd4709a27b0462f2b8791b",
       "version_major": 2,
       "version_minor": 0
      },
      "text/plain": [
       "Epochs1:   0%|          | 0/10000 [00:00<?, ?it/s]"
      ]
     },
     "metadata": {},
     "output_type": "display_data"
    },
    {
     "name": "stdout",
     "output_type": "stream",
     "text": [
      "Early stopping = True (24)\n",
      "{'classifier.0.weight': tensor(-766.2064, dtype=torch.float64), 'classifier.2.weight': tensor(-4.9737)} {'classifier.0.weight': tensor(-813.2189)}\n"
     ]
    },
    {
     "data": {
      "application/vnd.jupyter.widget-view+json": {
       "model_id": "d330a69feb7b4e5798c0b1333a9117eb",
       "version_major": 2,
       "version_minor": 0
      },
      "text/plain": [
       "Epochs1:   0%|          | 0/10000 [00:00<?, ?it/s]"
      ]
     },
     "metadata": {},
     "output_type": "display_data"
    },
    {
     "name": "stdout",
     "output_type": "stream",
     "text": [
      "Early stopping = True (24)\n",
      "{'classifier.0.weight': tensor(-766.5040, dtype=torch.float64), 'classifier.2.weight': tensor(-4.9737)} {'classifier.0.weight': tensor(-813.2189)}\n"
     ]
    },
    {
     "data": {
      "application/vnd.jupyter.widget-view+json": {
       "model_id": "a9ea33615cfa4e78885b9f2e4b4ba8f6",
       "version_major": 2,
       "version_minor": 0
      },
      "text/plain": [
       "Epochs1:   0%|          | 0/10000 [00:00<?, ?it/s]"
      ]
     },
     "metadata": {},
     "output_type": "display_data"
    },
    {
     "name": "stdout",
     "output_type": "stream",
     "text": [
      "Early stopping = True (24)\n",
      "{'classifier.0.weight': tensor(-766.8015, dtype=torch.float64), 'classifier.2.weight': tensor(-4.9737)} {'classifier.0.weight': tensor(-813.2189)}\n"
     ]
    },
    {
     "data": {
      "application/vnd.jupyter.widget-view+json": {
       "model_id": "1bdb07fe869146e7b32b444fbe2d71b0",
       "version_major": 2,
       "version_minor": 0
      },
      "text/plain": [
       "Epochs1:   0%|          | 0/10000 [00:00<?, ?it/s]"
      ]
     },
     "metadata": {},
     "output_type": "display_data"
    },
    {
     "name": "stdout",
     "output_type": "stream",
     "text": [
      "Early stopping = True (24)\n",
      "{'classifier.0.weight': tensor(-767.0991, dtype=torch.float64), 'classifier.2.weight': tensor(-4.9737)} {'classifier.0.weight': tensor(-813.2189)}\n"
     ]
    },
    {
     "data": {
      "application/vnd.jupyter.widget-view+json": {
       "model_id": "467060d3c83d4eb68e50a7f2ab774b34",
       "version_major": 2,
       "version_minor": 0
      },
      "text/plain": [
       "Epochs1:   0%|          | 0/10000 [00:00<?, ?it/s]"
      ]
     },
     "metadata": {},
     "output_type": "display_data"
    },
    {
     "name": "stdout",
     "output_type": "stream",
     "text": [
      "Early stopping = True (24)\n",
      "{'classifier.0.weight': tensor(-767.3966, dtype=torch.float64), 'classifier.2.weight': tensor(-4.9737)} {'classifier.0.weight': tensor(-813.2189)}\n"
     ]
    },
    {
     "data": {
      "application/vnd.jupyter.widget-view+json": {
       "model_id": "eca78eea703d418aaf56144806af185c",
       "version_major": 2,
       "version_minor": 0
      },
      "text/plain": [
       "Epochs1:   0%|          | 0/10000 [00:00<?, ?it/s]"
      ]
     },
     "metadata": {},
     "output_type": "display_data"
    },
    {
     "name": "stdout",
     "output_type": "stream",
     "text": [
      "Early stopping = True (24)\n",
      "{'classifier.0.weight': tensor(-767.6941, dtype=torch.float64), 'classifier.2.weight': tensor(-4.9737)} {'classifier.0.weight': tensor(-813.2189)}\n"
     ]
    },
    {
     "data": {
      "application/vnd.jupyter.widget-view+json": {
       "model_id": "e689345227f646adaeaf45db67722d03",
       "version_major": 2,
       "version_minor": 0
      },
      "text/plain": [
       "Epochs1:   0%|          | 0/10000 [00:00<?, ?it/s]"
      ]
     },
     "metadata": {},
     "output_type": "display_data"
    },
    {
     "name": "stdout",
     "output_type": "stream",
     "text": [
      "Early stopping = True (24)\n",
      "{'classifier.0.weight': tensor(-767.9917, dtype=torch.float64), 'classifier.2.weight': tensor(-4.9737)} {'classifier.0.weight': tensor(-813.2189)}\n"
     ]
    },
    {
     "data": {
      "application/vnd.jupyter.widget-view+json": {
       "model_id": "7d8890e0bccb4ede9947fc5447db87b7",
       "version_major": 2,
       "version_minor": 0
      },
      "text/plain": [
       "Epochs1:   0%|          | 0/10000 [00:00<?, ?it/s]"
      ]
     },
     "metadata": {},
     "output_type": "display_data"
    },
    {
     "name": "stdout",
     "output_type": "stream",
     "text": [
      "Early stopping = True (24)\n",
      "{'classifier.0.weight': tensor(-768.2892, dtype=torch.float64), 'classifier.2.weight': tensor(-4.9737)} {'classifier.0.weight': tensor(-813.2189)}\n"
     ]
    },
    {
     "data": {
      "application/vnd.jupyter.widget-view+json": {
       "model_id": "c977ac4d60ab473db4767ca89667fb9f",
       "version_major": 2,
       "version_minor": 0
      },
      "text/plain": [
       "Epochs1:   0%|          | 0/10000 [00:00<?, ?it/s]"
      ]
     },
     "metadata": {},
     "output_type": "display_data"
    },
    {
     "name": "stdout",
     "output_type": "stream",
     "text": [
      "Early stopping = True (24)\n",
      "{'classifier.0.weight': tensor(-768.5868, dtype=torch.float64), 'classifier.2.weight': tensor(-4.9737)} {'classifier.0.weight': tensor(-813.2189)}\n"
     ]
    },
    {
     "data": {
      "application/vnd.jupyter.widget-view+json": {
       "model_id": "24428d28c86c41ada8dca1d3ac850a6a",
       "version_major": 2,
       "version_minor": 0
      },
      "text/plain": [
       "Epochs1:   0%|          | 0/10000 [00:00<?, ?it/s]"
      ]
     },
     "metadata": {},
     "output_type": "display_data"
    },
    {
     "name": "stdout",
     "output_type": "stream",
     "text": [
      "Early stopping = True (24)\n",
      "{'classifier.0.weight': tensor(-768.8843, dtype=torch.float64), 'classifier.2.weight': tensor(-4.9737)} {'classifier.0.weight': tensor(-813.2189)}\n"
     ]
    },
    {
     "data": {
      "application/vnd.jupyter.widget-view+json": {
       "model_id": "3d1f21d6ad3f45a691f9a24fe7e343e7",
       "version_major": 2,
       "version_minor": 0
      },
      "text/plain": [
       "Epochs1:   0%|          | 0/10000 [00:00<?, ?it/s]"
      ]
     },
     "metadata": {},
     "output_type": "display_data"
    },
    {
     "name": "stdout",
     "output_type": "stream",
     "text": [
      "Early stopping = True (24)\n",
      "{'classifier.0.weight': tensor(-769.1819, dtype=torch.float64), 'classifier.2.weight': tensor(-4.9737)} {'classifier.0.weight': tensor(-813.2189)}\n"
     ]
    },
    {
     "data": {
      "application/vnd.jupyter.widget-view+json": {
       "model_id": "a57a7c9d93db402db6b976029c7b23c3",
       "version_major": 2,
       "version_minor": 0
      },
      "text/plain": [
       "Epochs1:   0%|          | 0/10000 [00:00<?, ?it/s]"
      ]
     },
     "metadata": {},
     "output_type": "display_data"
    },
    {
     "name": "stdout",
     "output_type": "stream",
     "text": [
      "Early stopping = True (24)\n",
      "{'classifier.0.weight': tensor(-769.4794, dtype=torch.float64), 'classifier.2.weight': tensor(-4.9737)} {'classifier.0.weight': tensor(-813.2189)}\n"
     ]
    },
    {
     "data": {
      "application/vnd.jupyter.widget-view+json": {
       "model_id": "6221285d58b04d5281838fac6842ebe0",
       "version_major": 2,
       "version_minor": 0
      },
      "text/plain": [
       "Epochs1:   0%|          | 0/10000 [00:00<?, ?it/s]"
      ]
     },
     "metadata": {},
     "output_type": "display_data"
    },
    {
     "name": "stdout",
     "output_type": "stream",
     "text": [
      "Early stopping = True (25)\n",
      "{'classifier.0.weight': tensor(-769.7770, dtype=torch.float64), 'classifier.2.weight': tensor(-4.9737)} {'classifier.0.weight': tensor(-813.2189)}\n"
     ]
    },
    {
     "data": {
      "application/vnd.jupyter.widget-view+json": {
       "model_id": "333ace6e90dd4a5c9c35a04688ee12f7",
       "version_major": 2,
       "version_minor": 0
      },
      "text/plain": [
       "Epochs1:   0%|          | 0/10000 [00:00<?, ?it/s]"
      ]
     },
     "metadata": {},
     "output_type": "display_data"
    },
    {
     "name": "stdout",
     "output_type": "stream",
     "text": [
      "Early stopping = True (25)\n",
      "{'classifier.0.weight': tensor(-770.0745, dtype=torch.float64), 'classifier.2.weight': tensor(-4.9737)} {'classifier.0.weight': tensor(-813.2189)}\n"
     ]
    },
    {
     "data": {
      "application/vnd.jupyter.widget-view+json": {
       "model_id": "4431a78ab921432d862030c9185d5334",
       "version_major": 2,
       "version_minor": 0
      },
      "text/plain": [
       "Epochs1:   0%|          | 0/10000 [00:00<?, ?it/s]"
      ]
     },
     "metadata": {},
     "output_type": "display_data"
    },
    {
     "name": "stdout",
     "output_type": "stream",
     "text": [
      "Early stopping = True (25)\n",
      "{'classifier.0.weight': tensor(-770.3721, dtype=torch.float64), 'classifier.2.weight': tensor(-4.9737)} {'classifier.0.weight': tensor(-813.2189)}\n"
     ]
    },
    {
     "data": {
      "application/vnd.jupyter.widget-view+json": {
       "model_id": "fbb4532842f84fe7ad9996eddc0fd9c8",
       "version_major": 2,
       "version_minor": 0
      },
      "text/plain": [
       "Epochs1:   0%|          | 0/10000 [00:00<?, ?it/s]"
      ]
     },
     "metadata": {},
     "output_type": "display_data"
    },
    {
     "name": "stdout",
     "output_type": "stream",
     "text": [
      "Early stopping = True (25)\n",
      "{'classifier.0.weight': tensor(-770.6696, dtype=torch.float64), 'classifier.2.weight': tensor(-4.9737)} {'classifier.0.weight': tensor(-813.2189)}\n"
     ]
    },
    {
     "data": {
      "application/vnd.jupyter.widget-view+json": {
       "model_id": "f21dd79b3136474190ac12e113500f03",
       "version_major": 2,
       "version_minor": 0
      },
      "text/plain": [
       "Epochs1:   0%|          | 0/10000 [00:00<?, ?it/s]"
      ]
     },
     "metadata": {},
     "output_type": "display_data"
    },
    {
     "name": "stdout",
     "output_type": "stream",
     "text": [
      "Early stopping = True (25)\n",
      "{'classifier.0.weight': tensor(-770.9672, dtype=torch.float64), 'classifier.2.weight': tensor(-4.9737)} {'classifier.0.weight': tensor(-813.2189)}\n"
     ]
    },
    {
     "data": {
      "application/vnd.jupyter.widget-view+json": {
       "model_id": "5665a81cd2bf4c26a2f313af27c9a7ed",
       "version_major": 2,
       "version_minor": 0
      },
      "text/plain": [
       "Epochs1:   0%|          | 0/10000 [00:00<?, ?it/s]"
      ]
     },
     "metadata": {},
     "output_type": "display_data"
    },
    {
     "name": "stdout",
     "output_type": "stream",
     "text": [
      "Early stopping = True (25)\n",
      "{'classifier.0.weight': tensor(-771.2647, dtype=torch.float64), 'classifier.2.weight': tensor(-4.9737)} {'classifier.0.weight': tensor(-813.2189)}\n"
     ]
    },
    {
     "data": {
      "application/vnd.jupyter.widget-view+json": {
       "model_id": "da091d5ed0f94970a87c9fe83792c82a",
       "version_major": 2,
       "version_minor": 0
      },
      "text/plain": [
       "Epochs1:   0%|          | 0/10000 [00:00<?, ?it/s]"
      ]
     },
     "metadata": {},
     "output_type": "display_data"
    },
    {
     "name": "stdout",
     "output_type": "stream",
     "text": [
      "Early stopping = True (25)\n",
      "{'classifier.0.weight': tensor(-771.5623, dtype=torch.float64), 'classifier.2.weight': tensor(-4.9737)} {'classifier.0.weight': tensor(-813.2189)}\n"
     ]
    },
    {
     "data": {
      "application/vnd.jupyter.widget-view+json": {
       "model_id": "d7f3f895878846e4bc5e8ded6bc0485f",
       "version_major": 2,
       "version_minor": 0
      },
      "text/plain": [
       "Epochs1:   0%|          | 0/10000 [00:00<?, ?it/s]"
      ]
     },
     "metadata": {},
     "output_type": "display_data"
    },
    {
     "name": "stdout",
     "output_type": "stream",
     "text": [
      "Early stopping = True (25)\n",
      "{'classifier.0.weight': tensor(-771.8598, dtype=torch.float64), 'classifier.2.weight': tensor(-4.9737)} {'classifier.0.weight': tensor(-813.2189)}\n"
     ]
    },
    {
     "data": {
      "application/vnd.jupyter.widget-view+json": {
       "model_id": "cce5fc0dda644a4688fddc32ad443cb8",
       "version_major": 2,
       "version_minor": 0
      },
      "text/plain": [
       "Epochs1:   0%|          | 0/10000 [00:00<?, ?it/s]"
      ]
     },
     "metadata": {},
     "output_type": "display_data"
    },
    {
     "name": "stdout",
     "output_type": "stream",
     "text": [
      "Early stopping = True (25)\n",
      "{'classifier.0.weight': tensor(-772.1574, dtype=torch.float64), 'classifier.2.weight': tensor(-4.9737)} {'classifier.0.weight': tensor(-813.2189)}\n"
     ]
    },
    {
     "data": {
      "application/vnd.jupyter.widget-view+json": {
       "model_id": "c855d44b0bf74333ac0e02a7a0a1c3b2",
       "version_major": 2,
       "version_minor": 0
      },
      "text/plain": [
       "Epochs1:   0%|          | 0/10000 [00:00<?, ?it/s]"
      ]
     },
     "metadata": {},
     "output_type": "display_data"
    },
    {
     "name": "stdout",
     "output_type": "stream",
     "text": [
      "Early stopping = True (25)\n",
      "{'classifier.0.weight': tensor(-772.4549, dtype=torch.float64), 'classifier.2.weight': tensor(-4.9737)} {'classifier.0.weight': tensor(-813.2189)}\n"
     ]
    },
    {
     "data": {
      "application/vnd.jupyter.widget-view+json": {
       "model_id": "5abb8a8a23384c29985eee4a2c4f13e7",
       "version_major": 2,
       "version_minor": 0
      },
      "text/plain": [
       "Epochs1:   0%|          | 0/10000 [00:00<?, ?it/s]"
      ]
     },
     "metadata": {},
     "output_type": "display_data"
    },
    {
     "name": "stdout",
     "output_type": "stream",
     "text": [
      "Early stopping = True (25)\n",
      "{'classifier.0.weight': tensor(-772.7525, dtype=torch.float64), 'classifier.2.weight': tensor(-4.9737)} {'classifier.0.weight': tensor(-813.2189)}\n"
     ]
    },
    {
     "data": {
      "application/vnd.jupyter.widget-view+json": {
       "model_id": "ff4d480931324779a60fb46f517d86eb",
       "version_major": 2,
       "version_minor": 0
      },
      "text/plain": [
       "Epochs1:   0%|          | 0/10000 [00:00<?, ?it/s]"
      ]
     },
     "metadata": {},
     "output_type": "display_data"
    },
    {
     "name": "stdout",
     "output_type": "stream",
     "text": [
      "Early stopping = True (25)\n",
      "{'classifier.0.weight': tensor(-773.0500, dtype=torch.float64), 'classifier.2.weight': tensor(-4.9737)} {'classifier.0.weight': tensor(-813.2189)}\n"
     ]
    },
    {
     "data": {
      "application/vnd.jupyter.widget-view+json": {
       "model_id": "571b2e53655b4a7898937de8987b92a7",
       "version_major": 2,
       "version_minor": 0
      },
      "text/plain": [
       "Epochs1:   0%|          | 0/10000 [00:00<?, ?it/s]"
      ]
     },
     "metadata": {},
     "output_type": "display_data"
    },
    {
     "name": "stdout",
     "output_type": "stream",
     "text": [
      "Early stopping = True (26)\n",
      "{'classifier.0.weight': tensor(-773.3476, dtype=torch.float64), 'classifier.2.weight': tensor(-4.9737)} {'classifier.0.weight': tensor(-813.2189)}\n"
     ]
    },
    {
     "data": {
      "application/vnd.jupyter.widget-view+json": {
       "model_id": "96492e2aa7564083b7c96c89d5f11638",
       "version_major": 2,
       "version_minor": 0
      },
      "text/plain": [
       "Epochs1:   0%|          | 0/10000 [00:00<?, ?it/s]"
      ]
     },
     "metadata": {},
     "output_type": "display_data"
    },
    {
     "name": "stdout",
     "output_type": "stream",
     "text": [
      "Early stopping = True (26)\n",
      "{'classifier.0.weight': tensor(-773.6451, dtype=torch.float64), 'classifier.2.weight': tensor(-4.9737)} {'classifier.0.weight': tensor(-813.2189)}\n"
     ]
    },
    {
     "data": {
      "application/vnd.jupyter.widget-view+json": {
       "model_id": "e9ff8515220f4451a765d47f609748c4",
       "version_major": 2,
       "version_minor": 0
      },
      "text/plain": [
       "Epochs1:   0%|          | 0/10000 [00:00<?, ?it/s]"
      ]
     },
     "metadata": {},
     "output_type": "display_data"
    },
    {
     "name": "stdout",
     "output_type": "stream",
     "text": [
      "Early stopping = True (26)\n",
      "{'classifier.0.weight': tensor(-773.9426, dtype=torch.float64), 'classifier.2.weight': tensor(-4.9737)} {'classifier.0.weight': tensor(-813.2189)}\n"
     ]
    },
    {
     "data": {
      "application/vnd.jupyter.widget-view+json": {
       "model_id": "a84e1d05e995481c8ae8189343ce3c1f",
       "version_major": 2,
       "version_minor": 0
      },
      "text/plain": [
       "Epochs1:   0%|          | 0/10000 [00:00<?, ?it/s]"
      ]
     },
     "metadata": {},
     "output_type": "display_data"
    },
    {
     "name": "stdout",
     "output_type": "stream",
     "text": [
      "Early stopping = True (26)\n",
      "{'classifier.0.weight': tensor(-774.2402, dtype=torch.float64), 'classifier.2.weight': tensor(-4.9737)} {'classifier.0.weight': tensor(-813.2189)}\n"
     ]
    },
    {
     "data": {
      "application/vnd.jupyter.widget-view+json": {
       "model_id": "ca0305f747544eccafa5d62e967ccbf5",
       "version_major": 2,
       "version_minor": 0
      },
      "text/plain": [
       "Epochs1:   0%|          | 0/10000 [00:00<?, ?it/s]"
      ]
     },
     "metadata": {},
     "output_type": "display_data"
    },
    {
     "name": "stdout",
     "output_type": "stream",
     "text": [
      "Early stopping = True (26)\n",
      "{'classifier.0.weight': tensor(-774.5377, dtype=torch.float64), 'classifier.2.weight': tensor(-4.9737)} {'classifier.0.weight': tensor(-813.2189)}\n"
     ]
    },
    {
     "data": {
      "application/vnd.jupyter.widget-view+json": {
       "model_id": "1fff7b41af1341d086c89d9b9d7dcc80",
       "version_major": 2,
       "version_minor": 0
      },
      "text/plain": [
       "Epochs1:   0%|          | 0/10000 [00:00<?, ?it/s]"
      ]
     },
     "metadata": {},
     "output_type": "display_data"
    },
    {
     "name": "stdout",
     "output_type": "stream",
     "text": [
      "Early stopping = True (26)\n",
      "{'classifier.0.weight': tensor(-774.8353, dtype=torch.float64), 'classifier.2.weight': tensor(-4.9737)} {'classifier.0.weight': tensor(-813.2189)}\n"
     ]
    },
    {
     "data": {
      "application/vnd.jupyter.widget-view+json": {
       "model_id": "3ee5b21a59944712b4d0a1ccdf284ad8",
       "version_major": 2,
       "version_minor": 0
      },
      "text/plain": [
       "Epochs1:   0%|          | 0/10000 [00:00<?, ?it/s]"
      ]
     },
     "metadata": {},
     "output_type": "display_data"
    },
    {
     "name": "stdout",
     "output_type": "stream",
     "text": [
      "Early stopping = True (26)\n",
      "{'classifier.0.weight': tensor(-775.1328, dtype=torch.float64), 'classifier.2.weight': tensor(-4.9737)} {'classifier.0.weight': tensor(-813.2189)}\n"
     ]
    },
    {
     "data": {
      "application/vnd.jupyter.widget-view+json": {
       "model_id": "396d9e996669467a97457c72715f8f3a",
       "version_major": 2,
       "version_minor": 0
      },
      "text/plain": [
       "Epochs1:   0%|          | 0/10000 [00:00<?, ?it/s]"
      ]
     },
     "metadata": {},
     "output_type": "display_data"
    },
    {
     "name": "stdout",
     "output_type": "stream",
     "text": [
      "Early stopping = True (38)\n",
      "{'classifier.0.weight': tensor(-775.4304, dtype=torch.float64), 'classifier.2.weight': tensor(-4.9737)} {'classifier.0.weight': tensor(-813.2189)}\n"
     ]
    },
    {
     "data": {
      "application/vnd.jupyter.widget-view+json": {
       "model_id": "fc7aaf2a5dc8492eb2d8e28148edf584",
       "version_major": 2,
       "version_minor": 0
      },
      "text/plain": [
       "Epochs1:   0%|          | 0/10000 [00:00<?, ?it/s]"
      ]
     },
     "metadata": {},
     "output_type": "display_data"
    },
    {
     "name": "stdout",
     "output_type": "stream",
     "text": [
      "Early stopping = True (26)\n",
      "{'classifier.0.weight': tensor(-775.7279, dtype=torch.float64), 'classifier.2.weight': tensor(-4.9737)} {'classifier.0.weight': tensor(-813.2189)}\n"
     ]
    },
    {
     "data": {
      "application/vnd.jupyter.widget-view+json": {
       "model_id": "beb699b4f33a44299278c0f0c39b6151",
       "version_major": 2,
       "version_minor": 0
      },
      "text/plain": [
       "Epochs1:   0%|          | 0/10000 [00:00<?, ?it/s]"
      ]
     },
     "metadata": {},
     "output_type": "display_data"
    },
    {
     "name": "stdout",
     "output_type": "stream",
     "text": [
      "Early stopping = True (26)\n",
      "{'classifier.0.weight': tensor(-776.0255, dtype=torch.float64), 'classifier.2.weight': tensor(-4.9737)} {'classifier.0.weight': tensor(-813.2189)}\n"
     ]
    },
    {
     "data": {
      "application/vnd.jupyter.widget-view+json": {
       "model_id": "550dad0113c4408eb8e88168adfa0024",
       "version_major": 2,
       "version_minor": 0
      },
      "text/plain": [
       "Epochs1:   0%|          | 0/10000 [00:00<?, ?it/s]"
      ]
     },
     "metadata": {},
     "output_type": "display_data"
    },
    {
     "name": "stdout",
     "output_type": "stream",
     "text": [
      "Early stopping = True (27)\n",
      "{'classifier.0.weight': tensor(-776.3230, dtype=torch.float64), 'classifier.2.weight': tensor(-4.9737)} {'classifier.0.weight': tensor(-813.2189)}\n"
     ]
    },
    {
     "data": {
      "application/vnd.jupyter.widget-view+json": {
       "model_id": "7a94229030cd4d19839421d2395e95be",
       "version_major": 2,
       "version_minor": 0
      },
      "text/plain": [
       "Epochs1:   0%|          | 0/10000 [00:00<?, ?it/s]"
      ]
     },
     "metadata": {},
     "output_type": "display_data"
    },
    {
     "name": "stdout",
     "output_type": "stream",
     "text": [
      "Early stopping = True (37)\n",
      "{'classifier.0.weight': tensor(-776.6206, dtype=torch.float64), 'classifier.2.weight': tensor(-4.9737)} {'classifier.0.weight': tensor(-813.2189)}\n"
     ]
    },
    {
     "data": {
      "application/vnd.jupyter.widget-view+json": {
       "model_id": "b31d20a6e7934d89beab5b90722e566a",
       "version_major": 2,
       "version_minor": 0
      },
      "text/plain": [
       "Epochs1:   0%|          | 0/10000 [00:00<?, ?it/s]"
      ]
     },
     "metadata": {},
     "output_type": "display_data"
    },
    {
     "name": "stdout",
     "output_type": "stream",
     "text": [
      "Early stopping = True (27)\n",
      "{'classifier.0.weight': tensor(-776.9181, dtype=torch.float64), 'classifier.2.weight': tensor(-4.9737)} {'classifier.0.weight': tensor(-813.2189)}\n"
     ]
    },
    {
     "data": {
      "application/vnd.jupyter.widget-view+json": {
       "model_id": "35c427b21ed444219cb239fd7b5d219f",
       "version_major": 2,
       "version_minor": 0
      },
      "text/plain": [
       "Epochs1:   0%|          | 0/10000 [00:00<?, ?it/s]"
      ]
     },
     "metadata": {},
     "output_type": "display_data"
    },
    {
     "name": "stdout",
     "output_type": "stream",
     "text": [
      "Early stopping = True (36)\n",
      "{'classifier.0.weight': tensor(-777.2157, dtype=torch.float64), 'classifier.2.weight': tensor(-4.9737)} {'classifier.0.weight': tensor(-813.2189)}\n"
     ]
    },
    {
     "data": {
      "application/vnd.jupyter.widget-view+json": {
       "model_id": "926a89c6d3ff493384c8390d00a39f72",
       "version_major": 2,
       "version_minor": 0
      },
      "text/plain": [
       "Epochs1:   0%|          | 0/10000 [00:00<?, ?it/s]"
      ]
     },
     "metadata": {},
     "output_type": "display_data"
    },
    {
     "name": "stdout",
     "output_type": "stream",
     "text": [
      "Early stopping = True (27)\n",
      "{'classifier.0.weight': tensor(-777.5132, dtype=torch.float64), 'classifier.2.weight': tensor(-4.9737)} {'classifier.0.weight': tensor(-813.2189)}\n"
     ]
    },
    {
     "data": {
      "application/vnd.jupyter.widget-view+json": {
       "model_id": "12d98cba11b143b19d7028256d6c89f0",
       "version_major": 2,
       "version_minor": 0
      },
      "text/plain": [
       "Epochs1:   0%|          | 0/10000 [00:00<?, ?it/s]"
      ]
     },
     "metadata": {},
     "output_type": "display_data"
    },
    {
     "name": "stdout",
     "output_type": "stream",
     "text": [
      "Early stopping = True (27)\n",
      "{'classifier.0.weight': tensor(-777.8108, dtype=torch.float64), 'classifier.2.weight': tensor(-4.9737)} {'classifier.0.weight': tensor(-813.2189)}\n"
     ]
    },
    {
     "data": {
      "application/vnd.jupyter.widget-view+json": {
       "model_id": "8dae7d9d4558476cb0c8ade04350d1c3",
       "version_major": 2,
       "version_minor": 0
      },
      "text/plain": [
       "Epochs1:   0%|          | 0/10000 [00:00<?, ?it/s]"
      ]
     },
     "metadata": {},
     "output_type": "display_data"
    },
    {
     "name": "stdout",
     "output_type": "stream",
     "text": [
      "Early stopping = True (27)\n",
      "{'classifier.0.weight': tensor(-778.1083, dtype=torch.float64), 'classifier.2.weight': tensor(-4.9737)} {'classifier.0.weight': tensor(-813.2189)}\n"
     ]
    },
    {
     "data": {
      "application/vnd.jupyter.widget-view+json": {
       "model_id": "ca6f220b14ce410d968dda93600c2388",
       "version_major": 2,
       "version_minor": 0
      },
      "text/plain": [
       "Epochs1:   0%|          | 0/10000 [00:00<?, ?it/s]"
      ]
     },
     "metadata": {},
     "output_type": "display_data"
    },
    {
     "name": "stdout",
     "output_type": "stream",
     "text": [
      "Early stopping = True (28)\n",
      "{'classifier.0.weight': tensor(-778.4059, dtype=torch.float64), 'classifier.2.weight': tensor(-4.9737)} {'classifier.0.weight': tensor(-813.2189)}\n"
     ]
    },
    {
     "data": {
      "application/vnd.jupyter.widget-view+json": {
       "model_id": "f3cabd98e9d448b196dcf8908a36fae6",
       "version_major": 2,
       "version_minor": 0
      },
      "text/plain": [
       "Epochs1:   0%|          | 0/10000 [00:00<?, ?it/s]"
      ]
     },
     "metadata": {},
     "output_type": "display_data"
    },
    {
     "name": "stdout",
     "output_type": "stream",
     "text": [
      "Early stopping = True (38)\n",
      "{'classifier.0.weight': tensor(-778.7034, dtype=torch.float64), 'classifier.2.weight': tensor(-4.9737)} {'classifier.0.weight': tensor(-813.2189)}\n"
     ]
    },
    {
     "data": {
      "application/vnd.jupyter.widget-view+json": {
       "model_id": "f0474e9387204203818bb75165203529",
       "version_major": 2,
       "version_minor": 0
      },
      "text/plain": [
       "Epochs1:   0%|          | 0/10000 [00:00<?, ?it/s]"
      ]
     },
     "metadata": {},
     "output_type": "display_data"
    },
    {
     "name": "stdout",
     "output_type": "stream",
     "text": [
      "Early stopping = True (28)\n",
      "{'classifier.0.weight': tensor(-779.0010, dtype=torch.float64), 'classifier.2.weight': tensor(-4.9737)} {'classifier.0.weight': tensor(-813.2189)}\n"
     ]
    },
    {
     "data": {
      "application/vnd.jupyter.widget-view+json": {
       "model_id": "b8e3b5576b474caaabf9d574dc1d5102",
       "version_major": 2,
       "version_minor": 0
      },
      "text/plain": [
       "Epochs1:   0%|          | 0/10000 [00:00<?, ?it/s]"
      ]
     },
     "metadata": {},
     "output_type": "display_data"
    },
    {
     "name": "stdout",
     "output_type": "stream",
     "text": [
      "Early stopping = True (28)\n",
      "{'classifier.0.weight': tensor(-779.2985, dtype=torch.float64), 'classifier.2.weight': tensor(-4.9737)} {'classifier.0.weight': tensor(-813.2189)}\n"
     ]
    },
    {
     "data": {
      "application/vnd.jupyter.widget-view+json": {
       "model_id": "f3d79480e8cc40dcb0ed5d9779691c1c",
       "version_major": 2,
       "version_minor": 0
      },
      "text/plain": [
       "Epochs1:   0%|          | 0/10000 [00:00<?, ?it/s]"
      ]
     },
     "metadata": {},
     "output_type": "display_data"
    },
    {
     "name": "stdout",
     "output_type": "stream",
     "text": [
      "Early stopping = True (28)\n",
      "{'classifier.0.weight': tensor(-779.5961, dtype=torch.float64), 'classifier.2.weight': tensor(-4.9737)} {'classifier.0.weight': tensor(-813.2189)}\n"
     ]
    },
    {
     "data": {
      "application/vnd.jupyter.widget-view+json": {
       "model_id": "935727154979466387cd769b5fa37e4f",
       "version_major": 2,
       "version_minor": 0
      },
      "text/plain": [
       "Epochs1:   0%|          | 0/10000 [00:00<?, ?it/s]"
      ]
     },
     "metadata": {},
     "output_type": "display_data"
    },
    {
     "name": "stdout",
     "output_type": "stream",
     "text": [
      "Early stopping = True (28)\n",
      "{'classifier.0.weight': tensor(-779.8936, dtype=torch.float64), 'classifier.2.weight': tensor(-4.9737)} {'classifier.0.weight': tensor(-813.2189)}\n"
     ]
    },
    {
     "data": {
      "application/vnd.jupyter.widget-view+json": {
       "model_id": "496bc79d55014de5925cef3a82348d1b",
       "version_major": 2,
       "version_minor": 0
      },
      "text/plain": [
       "Epochs1:   0%|          | 0/10000 [00:00<?, ?it/s]"
      ]
     },
     "metadata": {},
     "output_type": "display_data"
    },
    {
     "name": "stdout",
     "output_type": "stream",
     "text": [
      "Early stopping = True (38)\n",
      "{'classifier.0.weight': tensor(-780.1911, dtype=torch.float64), 'classifier.2.weight': tensor(-4.9737)} {'classifier.0.weight': tensor(-813.2189)}\n"
     ]
    },
    {
     "data": {
      "application/vnd.jupyter.widget-view+json": {
       "model_id": "693c7a2613204b6b81ea74b0469dcaab",
       "version_major": 2,
       "version_minor": 0
      },
      "text/plain": [
       "Epochs1:   0%|          | 0/10000 [00:00<?, ?it/s]"
      ]
     },
     "metadata": {},
     "output_type": "display_data"
    },
    {
     "name": "stdout",
     "output_type": "stream",
     "text": [
      "Early stopping = True (42)\n",
      "{'classifier.0.weight': tensor(-780.4887, dtype=torch.float64), 'classifier.2.weight': tensor(-4.9737)} {'classifier.0.weight': tensor(-813.2189)}\n"
     ]
    },
    {
     "data": {
      "application/vnd.jupyter.widget-view+json": {
       "model_id": "dcdc0253ec5c49e8b5f9d2e0b4690da0",
       "version_major": 2,
       "version_minor": 0
      },
      "text/plain": [
       "Epochs1:   0%|          | 0/10000 [00:00<?, ?it/s]"
      ]
     },
     "metadata": {},
     "output_type": "display_data"
    },
    {
     "name": "stdout",
     "output_type": "stream",
     "text": [
      "Early stopping = True (28)\n",
      "{'classifier.0.weight': tensor(-780.7862, dtype=torch.float64), 'classifier.2.weight': tensor(-4.9737)} {'classifier.0.weight': tensor(-813.2189)}\n"
     ]
    },
    {
     "data": {
      "application/vnd.jupyter.widget-view+json": {
       "model_id": "0377480e280e4db784a914afbfaa38b2",
       "version_major": 2,
       "version_minor": 0
      },
      "text/plain": [
       "Epochs1:   0%|          | 0/10000 [00:00<?, ?it/s]"
      ]
     },
     "metadata": {},
     "output_type": "display_data"
    },
    {
     "name": "stdout",
     "output_type": "stream",
     "text": [
      "Early stopping = True (29)\n",
      "{'classifier.0.weight': tensor(-781.0838, dtype=torch.float64), 'classifier.2.weight': tensor(-4.9737)} {'classifier.0.weight': tensor(-813.2189)}\n"
     ]
    },
    {
     "data": {
      "application/vnd.jupyter.widget-view+json": {
       "model_id": "77d331181c304cda9829cf549fbd8c6d",
       "version_major": 2,
       "version_minor": 0
      },
      "text/plain": [
       "Epochs1:   0%|          | 0/10000 [00:00<?, ?it/s]"
      ]
     },
     "metadata": {},
     "output_type": "display_data"
    },
    {
     "name": "stdout",
     "output_type": "stream",
     "text": [
      "Early stopping = True (29)\n",
      "{'classifier.0.weight': tensor(-781.3813, dtype=torch.float64), 'classifier.2.weight': tensor(-4.9737)} {'classifier.0.weight': tensor(-813.2189)}\n"
     ]
    },
    {
     "data": {
      "application/vnd.jupyter.widget-view+json": {
       "model_id": "2655919fe5644c23bdbca066f73490a7",
       "version_major": 2,
       "version_minor": 0
      },
      "text/plain": [
       "Epochs1:   0%|          | 0/10000 [00:00<?, ?it/s]"
      ]
     },
     "metadata": {},
     "output_type": "display_data"
    },
    {
     "name": "stdout",
     "output_type": "stream",
     "text": [
      "Early stopping = True (29)\n",
      "{'classifier.0.weight': tensor(-781.6789, dtype=torch.float64), 'classifier.2.weight': tensor(-4.9737)} {'classifier.0.weight': tensor(-813.2189)}\n"
     ]
    },
    {
     "data": {
      "application/vnd.jupyter.widget-view+json": {
       "model_id": "3c597ba04b3b43b4ad4819f197919782",
       "version_major": 2,
       "version_minor": 0
      },
      "text/plain": [
       "Epochs1:   0%|          | 0/10000 [00:00<?, ?it/s]"
      ]
     },
     "metadata": {},
     "output_type": "display_data"
    },
    {
     "name": "stdout",
     "output_type": "stream",
     "text": [
      "Early stopping = True (29)\n",
      "{'classifier.0.weight': tensor(-781.9764, dtype=torch.float64), 'classifier.2.weight': tensor(-4.9737)} {'classifier.0.weight': tensor(-813.2189)}\n"
     ]
    },
    {
     "data": {
      "application/vnd.jupyter.widget-view+json": {
       "model_id": "ec8c44af42574a2b9e93578d1c24be35",
       "version_major": 2,
       "version_minor": 0
      },
      "text/plain": [
       "Epochs1:   0%|          | 0/10000 [00:00<?, ?it/s]"
      ]
     },
     "metadata": {},
     "output_type": "display_data"
    },
    {
     "name": "stdout",
     "output_type": "stream",
     "text": [
      "Early stopping = True (29)\n",
      "{'classifier.0.weight': tensor(-782.2740, dtype=torch.float64), 'classifier.2.weight': tensor(-4.9737)} {'classifier.0.weight': tensor(-813.2189)}\n"
     ]
    },
    {
     "data": {
      "application/vnd.jupyter.widget-view+json": {
       "model_id": "70538a90192b472ea13eaf2c9424af58",
       "version_major": 2,
       "version_minor": 0
      },
      "text/plain": [
       "Epochs1:   0%|          | 0/10000 [00:00<?, ?it/s]"
      ]
     },
     "metadata": {},
     "output_type": "display_data"
    },
    {
     "name": "stdout",
     "output_type": "stream",
     "text": [
      "Early stopping = True (45)\n",
      "{'classifier.0.weight': tensor(-782.5715, dtype=torch.float64), 'classifier.2.weight': tensor(-4.9737)} {'classifier.0.weight': tensor(-813.2189)}\n"
     ]
    },
    {
     "data": {
      "application/vnd.jupyter.widget-view+json": {
       "model_id": "3555044fe6724b26a4a6f051d3348a39",
       "version_major": 2,
       "version_minor": 0
      },
      "text/plain": [
       "Epochs1:   0%|          | 0/10000 [00:00<?, ?it/s]"
      ]
     },
     "metadata": {},
     "output_type": "display_data"
    },
    {
     "name": "stdout",
     "output_type": "stream",
     "text": [
      "Early stopping = True (51)\n",
      "{'classifier.0.weight': tensor(-782.8691, dtype=torch.float64), 'classifier.2.weight': tensor(-4.9737)} {'classifier.0.weight': tensor(-813.2189)}\n"
     ]
    },
    {
     "data": {
      "application/vnd.jupyter.widget-view+json": {
       "model_id": "94a1ca7022964656985bf475bb83e7d1",
       "version_major": 2,
       "version_minor": 0
      },
      "text/plain": [
       "Epochs1:   0%|          | 0/10000 [00:00<?, ?it/s]"
      ]
     },
     "metadata": {},
     "output_type": "display_data"
    },
    {
     "name": "stdout",
     "output_type": "stream",
     "text": [
      "Early stopping = True (44)\n",
      "{'classifier.0.weight': tensor(-783.1666, dtype=torch.float64), 'classifier.2.weight': tensor(-4.9737)} {'classifier.0.weight': tensor(-813.2189)}\n"
     ]
    },
    {
     "data": {
      "application/vnd.jupyter.widget-view+json": {
       "model_id": "7ec496790136402a85c4b30b9f4a4162",
       "version_major": 2,
       "version_minor": 0
      },
      "text/plain": [
       "Epochs1:   0%|          | 0/10000 [00:00<?, ?it/s]"
      ]
     },
     "metadata": {},
     "output_type": "display_data"
    },
    {
     "name": "stdout",
     "output_type": "stream",
     "text": [
      "Early stopping = True (30)\n",
      "{'classifier.0.weight': tensor(-783.4642, dtype=torch.float64), 'classifier.2.weight': tensor(-4.9737)} {'classifier.0.weight': tensor(-813.2189)}\n"
     ]
    },
    {
     "data": {
      "application/vnd.jupyter.widget-view+json": {
       "model_id": "94e307a5304548d9ac89542074518975",
       "version_major": 2,
       "version_minor": 0
      },
      "text/plain": [
       "Epochs1:   0%|          | 0/10000 [00:00<?, ?it/s]"
      ]
     },
     "metadata": {},
     "output_type": "display_data"
    },
    {
     "name": "stdout",
     "output_type": "stream",
     "text": [
      "Early stopping = True (30)\n",
      "{'classifier.0.weight': tensor(-783.7617, dtype=torch.float64), 'classifier.2.weight': tensor(-4.9737)} {'classifier.0.weight': tensor(-813.2189)}\n"
     ]
    },
    {
     "data": {
      "application/vnd.jupyter.widget-view+json": {
       "model_id": "133336abfd494358aa16b46537023556",
       "version_major": 2,
       "version_minor": 0
      },
      "text/plain": [
       "Epochs1:   0%|          | 0/10000 [00:00<?, ?it/s]"
      ]
     },
     "metadata": {},
     "output_type": "display_data"
    },
    {
     "name": "stdout",
     "output_type": "stream",
     "text": [
      "Early stopping = True (30)\n",
      "{'classifier.0.weight': tensor(-784.0593, dtype=torch.float64), 'classifier.2.weight': tensor(-4.9737)} {'classifier.0.weight': tensor(-813.2189)}\n"
     ]
    },
    {
     "data": {
      "application/vnd.jupyter.widget-view+json": {
       "model_id": "734c432dfc2546dba50505ab67334e9e",
       "version_major": 2,
       "version_minor": 0
      },
      "text/plain": [
       "Epochs1:   0%|          | 0/10000 [00:00<?, ?it/s]"
      ]
     },
     "metadata": {},
     "output_type": "display_data"
    },
    {
     "name": "stdout",
     "output_type": "stream",
     "text": [
      "Early stopping = True (30)\n",
      "{'classifier.0.weight': tensor(-784.3568, dtype=torch.float64), 'classifier.2.weight': tensor(-4.9737)} {'classifier.0.weight': tensor(-813.2189)}\n"
     ]
    },
    {
     "data": {
      "application/vnd.jupyter.widget-view+json": {
       "model_id": "b031afd30ed8425ca9b5fa0df636bec1",
       "version_major": 2,
       "version_minor": 0
      },
      "text/plain": [
       "Epochs1:   0%|          | 0/10000 [00:00<?, ?it/s]"
      ]
     },
     "metadata": {},
     "output_type": "display_data"
    },
    {
     "name": "stdout",
     "output_type": "stream",
     "text": [
      "Early stopping = True (31)\n",
      "{'classifier.0.weight': tensor(-784.6544, dtype=torch.float64), 'classifier.2.weight': tensor(-4.9737)} {'classifier.0.weight': tensor(-813.2189)}\n"
     ]
    },
    {
     "data": {
      "application/vnd.jupyter.widget-view+json": {
       "model_id": "b78ff22e258b4872a6d2ecdf4ceecdf7",
       "version_major": 2,
       "version_minor": 0
      },
      "text/plain": [
       "Epochs1:   0%|          | 0/10000 [00:00<?, ?it/s]"
      ]
     },
     "metadata": {},
     "output_type": "display_data"
    },
    {
     "name": "stdout",
     "output_type": "stream",
     "text": [
      "Early stopping = True (31)\n",
      "{'classifier.0.weight': tensor(-784.9519, dtype=torch.float64), 'classifier.2.weight': tensor(-4.9737)} {'classifier.0.weight': tensor(-813.2189)}\n"
     ]
    },
    {
     "data": {
      "application/vnd.jupyter.widget-view+json": {
       "model_id": "234b6bb4f18d4dfbb1bbe5f98970d582",
       "version_major": 2,
       "version_minor": 0
      },
      "text/plain": [
       "Epochs1:   0%|          | 0/10000 [00:00<?, ?it/s]"
      ]
     },
     "metadata": {},
     "output_type": "display_data"
    },
    {
     "name": "stdout",
     "output_type": "stream",
     "text": [
      "Early stopping = True (31)\n",
      "{'classifier.0.weight': tensor(-785.2495, dtype=torch.float64), 'classifier.2.weight': tensor(-4.9737)} {'classifier.0.weight': tensor(-813.2189)}\n"
     ]
    },
    {
     "data": {
      "application/vnd.jupyter.widget-view+json": {
       "model_id": "9f1184d2f67c480e884b211d7f5e2426",
       "version_major": 2,
       "version_minor": 0
      },
      "text/plain": [
       "Epochs1:   0%|          | 0/10000 [00:00<?, ?it/s]"
      ]
     },
     "metadata": {},
     "output_type": "display_data"
    },
    {
     "name": "stdout",
     "output_type": "stream",
     "text": [
      "Early stopping = True (32)\n",
      "{'classifier.0.weight': tensor(-785.5470, dtype=torch.float64), 'classifier.2.weight': tensor(-4.9737)} {'classifier.0.weight': tensor(-813.2189)}\n"
     ]
    },
    {
     "data": {
      "application/vnd.jupyter.widget-view+json": {
       "model_id": "b439eec6355a4244b964207c35ede34c",
       "version_major": 2,
       "version_minor": 0
      },
      "text/plain": [
       "Epochs1:   0%|          | 0/10000 [00:00<?, ?it/s]"
      ]
     },
     "metadata": {},
     "output_type": "display_data"
    },
    {
     "name": "stdout",
     "output_type": "stream",
     "text": [
      "Early stopping = True (32)\n",
      "{'classifier.0.weight': tensor(-785.8446, dtype=torch.float64), 'classifier.2.weight': tensor(-4.9737)} {'classifier.0.weight': tensor(-813.2189)}\n"
     ]
    },
    {
     "data": {
      "application/vnd.jupyter.widget-view+json": {
       "model_id": "b4044c26c78b4a8b8c60569826e13570",
       "version_major": 2,
       "version_minor": 0
      },
      "text/plain": [
       "Epochs1:   0%|          | 0/10000 [00:00<?, ?it/s]"
      ]
     },
     "metadata": {},
     "output_type": "display_data"
    },
    {
     "name": "stdout",
     "output_type": "stream",
     "text": [
      "Early stopping = True (32)\n",
      "{'classifier.0.weight': tensor(-786.1421, dtype=torch.float64), 'classifier.2.weight': tensor(-4.9737)} {'classifier.0.weight': tensor(-813.2189)}\n"
     ]
    },
    {
     "data": {
      "application/vnd.jupyter.widget-view+json": {
       "model_id": "cce3afad64dc4ed1a96071a98507c274",
       "version_major": 2,
       "version_minor": 0
      },
      "text/plain": [
       "Epochs1:   0%|          | 0/10000 [00:00<?, ?it/s]"
      ]
     },
     "metadata": {},
     "output_type": "display_data"
    },
    {
     "name": "stdout",
     "output_type": "stream",
     "text": [
      "Early stopping = True (32)\n",
      "{'classifier.0.weight': tensor(-786.4396, dtype=torch.float64), 'classifier.2.weight': tensor(-4.9737)} {'classifier.0.weight': tensor(-813.2189)}\n"
     ]
    },
    {
     "data": {
      "application/vnd.jupyter.widget-view+json": {
       "model_id": "292b68313d0f496493d5fe89798525e8",
       "version_major": 2,
       "version_minor": 0
      },
      "text/plain": [
       "Epochs1:   0%|          | 0/10000 [00:00<?, ?it/s]"
      ]
     },
     "metadata": {},
     "output_type": "display_data"
    },
    {
     "name": "stdout",
     "output_type": "stream",
     "text": [
      "Early stopping = True (33)\n",
      "{'classifier.0.weight': tensor(-786.7372, dtype=torch.float64), 'classifier.2.weight': tensor(-4.9737)} {'classifier.0.weight': tensor(-813.2189)}\n"
     ]
    },
    {
     "data": {
      "application/vnd.jupyter.widget-view+json": {
       "model_id": "a309bbcdeedf4226877a3bb201954733",
       "version_major": 2,
       "version_minor": 0
      },
      "text/plain": [
       "Epochs1:   0%|          | 0/10000 [00:00<?, ?it/s]"
      ]
     },
     "metadata": {},
     "output_type": "display_data"
    },
    {
     "name": "stdout",
     "output_type": "stream",
     "text": [
      "Early stopping = True (33)\n",
      "{'classifier.0.weight': tensor(-787.0347, dtype=torch.float64), 'classifier.2.weight': tensor(-4.9737)} {'classifier.0.weight': tensor(-813.2189)}\n"
     ]
    },
    {
     "data": {
      "application/vnd.jupyter.widget-view+json": {
       "model_id": "ceeb4f484f424c98a0c50b129af52583",
       "version_major": 2,
       "version_minor": 0
      },
      "text/plain": [
       "Epochs1:   0%|          | 0/10000 [00:00<?, ?it/s]"
      ]
     },
     "metadata": {},
     "output_type": "display_data"
    },
    {
     "name": "stdout",
     "output_type": "stream",
     "text": [
      "Early stopping = True (33)\n",
      "{'classifier.0.weight': tensor(-787.3323, dtype=torch.float64), 'classifier.2.weight': tensor(-4.9737)} {'classifier.0.weight': tensor(-813.2189)}\n"
     ]
    },
    {
     "data": {
      "application/vnd.jupyter.widget-view+json": {
       "model_id": "a5e282d3ce6a4338a6548b113b1bb012",
       "version_major": 2,
       "version_minor": 0
      },
      "text/plain": [
       "Epochs1:   0%|          | 0/10000 [00:00<?, ?it/s]"
      ]
     },
     "metadata": {},
     "output_type": "display_data"
    },
    {
     "name": "stdout",
     "output_type": "stream",
     "text": [
      "Early stopping = True (33)\n",
      "{'classifier.0.weight': tensor(-787.6298, dtype=torch.float64), 'classifier.2.weight': tensor(-4.9737)} {'classifier.0.weight': tensor(-813.2189)}\n"
     ]
    },
    {
     "data": {
      "application/vnd.jupyter.widget-view+json": {
       "model_id": "5f3e6fd58a1f474db6995fc111789862",
       "version_major": 2,
       "version_minor": 0
      },
      "text/plain": [
       "Epochs1:   0%|          | 0/10000 [00:00<?, ?it/s]"
      ]
     },
     "metadata": {},
     "output_type": "display_data"
    },
    {
     "name": "stdout",
     "output_type": "stream",
     "text": [
      "Early stopping = True (72)\n",
      "{'classifier.0.weight': tensor(-787.9274, dtype=torch.float64), 'classifier.2.weight': tensor(-4.9737)} {'classifier.0.weight': tensor(-813.2189)}\n"
     ]
    },
    {
     "data": {
      "application/vnd.jupyter.widget-view+json": {
       "model_id": "8901460c7b8a456e8f0b27061929347b",
       "version_major": 2,
       "version_minor": 0
      },
      "text/plain": [
       "Epochs1:   0%|          | 0/10000 [00:00<?, ?it/s]"
      ]
     },
     "metadata": {},
     "output_type": "display_data"
    },
    {
     "name": "stdout",
     "output_type": "stream",
     "text": [
      "Early stopping = True (48)\n",
      "{'classifier.0.weight': tensor(-788.2249, dtype=torch.float64), 'classifier.2.weight': tensor(-4.9737)} {'classifier.0.weight': tensor(-813.2189)}\n"
     ]
    },
    {
     "data": {
      "application/vnd.jupyter.widget-view+json": {
       "model_id": "ad472562a17f4ef084a394ae22684272",
       "version_major": 2,
       "version_minor": 0
      },
      "text/plain": [
       "Epochs1:   0%|          | 0/10000 [00:00<?, ?it/s]"
      ]
     },
     "metadata": {},
     "output_type": "display_data"
    },
    {
     "name": "stdout",
     "output_type": "stream",
     "text": [
      "Early stopping = True (34)\n",
      "{'classifier.0.weight': tensor(-788.5225, dtype=torch.float64), 'classifier.2.weight': tensor(-4.9737)} {'classifier.0.weight': tensor(-813.2189)}\n"
     ]
    },
    {
     "data": {
      "application/vnd.jupyter.widget-view+json": {
       "model_id": "a5445e555027483a8282d7d67da6e6ce",
       "version_major": 2,
       "version_minor": 0
      },
      "text/plain": [
       "Epochs1:   0%|          | 0/10000 [00:00<?, ?it/s]"
      ]
     },
     "metadata": {},
     "output_type": "display_data"
    },
    {
     "name": "stdout",
     "output_type": "stream",
     "text": [
      "Early stopping = True (34)\n",
      "{'classifier.0.weight': tensor(-788.8200, dtype=torch.float64), 'classifier.2.weight': tensor(-4.9737)} {'classifier.0.weight': tensor(-813.2189)}\n"
     ]
    },
    {
     "data": {
      "application/vnd.jupyter.widget-view+json": {
       "model_id": "2c1f1af7376141d99fd1d5cbb47ff5dd",
       "version_major": 2,
       "version_minor": 0
      },
      "text/plain": [
       "Epochs1:   0%|          | 0/10000 [00:00<?, ?it/s]"
      ]
     },
     "metadata": {},
     "output_type": "display_data"
    },
    {
     "name": "stdout",
     "output_type": "stream",
     "text": [
      "Early stopping = True (65)\n",
      "{'classifier.0.weight': tensor(-789.1176, dtype=torch.float64), 'classifier.2.weight': tensor(-4.9737)} {'classifier.0.weight': tensor(-813.2189)}\n"
     ]
    },
    {
     "data": {
      "application/vnd.jupyter.widget-view+json": {
       "model_id": "950c76d0c61240dabed2ae11c0bfc4e5",
       "version_major": 2,
       "version_minor": 0
      },
      "text/plain": [
       "Epochs1:   0%|          | 0/10000 [00:00<?, ?it/s]"
      ]
     },
     "metadata": {},
     "output_type": "display_data"
    },
    {
     "name": "stdout",
     "output_type": "stream",
     "text": [
      "Early stopping = True (35)\n",
      "{'classifier.0.weight': tensor(-789.4151, dtype=torch.float64), 'classifier.2.weight': tensor(-4.9737)} {'classifier.0.weight': tensor(-813.2189)}\n"
     ]
    },
    {
     "data": {
      "application/vnd.jupyter.widget-view+json": {
       "model_id": "502146f7d6d44f88b22b80dd093779e2",
       "version_major": 2,
       "version_minor": 0
      },
      "text/plain": [
       "Epochs1:   0%|          | 0/10000 [00:00<?, ?it/s]"
      ]
     },
     "metadata": {},
     "output_type": "display_data"
    },
    {
     "name": "stdout",
     "output_type": "stream",
     "text": [
      "Early stopping = True (35)\n",
      "{'classifier.0.weight': tensor(-789.7127, dtype=torch.float64), 'classifier.2.weight': tensor(-4.9737)} {'classifier.0.weight': tensor(-813.2189)}\n"
     ]
    },
    {
     "data": {
      "application/vnd.jupyter.widget-view+json": {
       "model_id": "3bbb2f8d18ad4a93bb858fb80b39fd6f",
       "version_major": 2,
       "version_minor": 0
      },
      "text/plain": [
       "Epochs1:   0%|          | 0/10000 [00:00<?, ?it/s]"
      ]
     },
     "metadata": {},
     "output_type": "display_data"
    },
    {
     "name": "stdout",
     "output_type": "stream",
     "text": [
      "Early stopping = True (50)\n",
      "{'classifier.0.weight': tensor(-790.0102, dtype=torch.float64), 'classifier.2.weight': tensor(-4.9737)} {'classifier.0.weight': tensor(-813.2189)}\n"
     ]
    },
    {
     "data": {
      "application/vnd.jupyter.widget-view+json": {
       "model_id": "dd319ded892e4ad5bd6f6f35d082915d",
       "version_major": 2,
       "version_minor": 0
      },
      "text/plain": [
       "Epochs1:   0%|          | 0/10000 [00:00<?, ?it/s]"
      ]
     },
     "metadata": {},
     "output_type": "display_data"
    },
    {
     "name": "stdout",
     "output_type": "stream",
     "text": [
      "Early stopping = True (63)\n",
      "{'classifier.0.weight': tensor(-790.3078, dtype=torch.float64), 'classifier.2.weight': tensor(-4.9737)} {'classifier.0.weight': tensor(-813.2189)}\n"
     ]
    },
    {
     "data": {
      "application/vnd.jupyter.widget-view+json": {
       "model_id": "868e3487a8d94676abf8ee9dd27e417d",
       "version_major": 2,
       "version_minor": 0
      },
      "text/plain": [
       "Epochs1:   0%|          | 0/10000 [00:00<?, ?it/s]"
      ]
     },
     "metadata": {},
     "output_type": "display_data"
    },
    {
     "name": "stdout",
     "output_type": "stream",
     "text": [
      "Early stopping = True (46)\n",
      "{'classifier.0.weight': tensor(-790.6053, dtype=torch.float64), 'classifier.2.weight': tensor(-4.9737)} {'classifier.0.weight': tensor(-813.2189)}\n"
     ]
    },
    {
     "data": {
      "application/vnd.jupyter.widget-view+json": {
       "model_id": "44da888f0ebe491b9ca8c23790fcb0c9",
       "version_major": 2,
       "version_minor": 0
      },
      "text/plain": [
       "Epochs1:   0%|          | 0/10000 [00:00<?, ?it/s]"
      ]
     },
     "metadata": {},
     "output_type": "display_data"
    },
    {
     "name": "stdout",
     "output_type": "stream",
     "text": [
      "Early stopping = True (52)\n",
      "{'classifier.0.weight': tensor(-790.9029, dtype=torch.float64), 'classifier.2.weight': tensor(-4.9737)} {'classifier.0.weight': tensor(-813.2189)}\n"
     ]
    },
    {
     "data": {
      "application/vnd.jupyter.widget-view+json": {
       "model_id": "b5071ddf8e5943caa3a173094efeef6a",
       "version_major": 2,
       "version_minor": 0
      },
      "text/plain": [
       "Epochs1:   0%|          | 0/10000 [00:00<?, ?it/s]"
      ]
     },
     "metadata": {},
     "output_type": "display_data"
    },
    {
     "name": "stdout",
     "output_type": "stream",
     "text": [
      "Early stopping = True (37)\n",
      "{'classifier.0.weight': tensor(-791.2004, dtype=torch.float64), 'classifier.2.weight': tensor(-4.9737)} {'classifier.0.weight': tensor(-813.2189)}\n"
     ]
    },
    {
     "data": {
      "application/vnd.jupyter.widget-view+json": {
       "model_id": "c0921795ef084b1aa10ed5f6a3e2704c",
       "version_major": 2,
       "version_minor": 0
      },
      "text/plain": [
       "Epochs1:   0%|          | 0/10000 [00:00<?, ?it/s]"
      ]
     },
     "metadata": {},
     "output_type": "display_data"
    },
    {
     "name": "stdout",
     "output_type": "stream",
     "text": [
      "Early stopping = True (60)\n",
      "{'classifier.0.weight': tensor(-791.4980, dtype=torch.float64), 'classifier.2.weight': tensor(-4.9737)} {'classifier.0.weight': tensor(-813.2189)}\n"
     ]
    },
    {
     "data": {
      "application/vnd.jupyter.widget-view+json": {
       "model_id": "5ad4730988b0422681c251ccbd349b96",
       "version_major": 2,
       "version_minor": 0
      },
      "text/plain": [
       "Epochs1:   0%|          | 0/10000 [00:00<?, ?it/s]"
      ]
     },
     "metadata": {},
     "output_type": "display_data"
    },
    {
     "name": "stdout",
     "output_type": "stream",
     "text": [
      "Early stopping = True (71)\n",
      "{'classifier.0.weight': tensor(-791.7955, dtype=torch.float64), 'classifier.2.weight': tensor(-4.9737)} {'classifier.0.weight': tensor(-813.2189)}\n"
     ]
    },
    {
     "data": {
      "application/vnd.jupyter.widget-view+json": {
       "model_id": "ca00e4f6e68b4fb98756ddd3db4dfd74",
       "version_major": 2,
       "version_minor": 0
      },
      "text/plain": [
       "Epochs1:   0%|          | 0/10000 [00:00<?, ?it/s]"
      ]
     },
     "metadata": {},
     "output_type": "display_data"
    },
    {
     "name": "stdout",
     "output_type": "stream",
     "text": [
      "Early stopping = True (38)\n",
      "{'classifier.0.weight': tensor(-792.0931, dtype=torch.float64), 'classifier.2.weight': tensor(-4.9737)} {'classifier.0.weight': tensor(-813.2189)}\n"
     ]
    },
    {
     "data": {
      "application/vnd.jupyter.widget-view+json": {
       "model_id": "cac6ede136a14b67b5480e085c1a6837",
       "version_major": 2,
       "version_minor": 0
      },
      "text/plain": [
       "Epochs1:   0%|          | 0/10000 [00:00<?, ?it/s]"
      ]
     },
     "metadata": {},
     "output_type": "display_data"
    },
    {
     "name": "stdout",
     "output_type": "stream",
     "text": [
      "Early stopping = True (48)\n",
      "{'classifier.0.weight': tensor(-792.3906, dtype=torch.float64), 'classifier.2.weight': tensor(-4.9737)} {'classifier.0.weight': tensor(-813.2189)}\n"
     ]
    },
    {
     "data": {
      "application/vnd.jupyter.widget-view+json": {
       "model_id": "c461168414034fa89a336257622442fa",
       "version_major": 2,
       "version_minor": 0
      },
      "text/plain": [
       "Epochs1:   0%|          | 0/10000 [00:00<?, ?it/s]"
      ]
     },
     "metadata": {},
     "output_type": "display_data"
    },
    {
     "name": "stdout",
     "output_type": "stream",
     "text": [
      "Early stopping = True (62)\n",
      "{'classifier.0.weight': tensor(-792.6881, dtype=torch.float64), 'classifier.2.weight': tensor(-4.9737)} {'classifier.0.weight': tensor(-813.2189)}\n"
     ]
    },
    {
     "data": {
      "application/vnd.jupyter.widget-view+json": {
       "model_id": "f5204259e1cd4330b3f238dc8591a910",
       "version_major": 2,
       "version_minor": 0
      },
      "text/plain": [
       "Epochs1:   0%|          | 0/10000 [00:00<?, ?it/s]"
      ]
     },
     "metadata": {},
     "output_type": "display_data"
    },
    {
     "name": "stdout",
     "output_type": "stream",
     "text": [
      "Early stopping = True (55)\n",
      "{'classifier.0.weight': tensor(-792.9857, dtype=torch.float64), 'classifier.2.weight': tensor(-4.9737)} {'classifier.0.weight': tensor(-813.2189)}\n"
     ]
    },
    {
     "data": {
      "application/vnd.jupyter.widget-view+json": {
       "model_id": "2fff491a2c40426da755e06177321185",
       "version_major": 2,
       "version_minor": 0
      },
      "text/plain": [
       "Epochs1:   0%|          | 0/10000 [00:00<?, ?it/s]"
      ]
     },
     "metadata": {},
     "output_type": "display_data"
    },
    {
     "name": "stdout",
     "output_type": "stream",
     "text": [
      "Early stopping = True (49)\n",
      "{'classifier.0.weight': tensor(-793.2832, dtype=torch.float64), 'classifier.2.weight': tensor(-4.9737)} {'classifier.0.weight': tensor(-813.2189)}\n"
     ]
    },
    {
     "data": {
      "application/vnd.jupyter.widget-view+json": {
       "model_id": "27ae43d711f946cf9fc37dc5956223ac",
       "version_major": 2,
       "version_minor": 0
      },
      "text/plain": [
       "Epochs1:   0%|          | 0/10000 [00:00<?, ?it/s]"
      ]
     },
     "metadata": {},
     "output_type": "display_data"
    },
    {
     "name": "stdout",
     "output_type": "stream",
     "text": [
      "Early stopping = True (83)\n",
      "{'classifier.0.weight': tensor(-793.5808, dtype=torch.float64), 'classifier.2.weight': tensor(-4.9737)} {'classifier.0.weight': tensor(-813.2189)}\n"
     ]
    },
    {
     "data": {
      "application/vnd.jupyter.widget-view+json": {
       "model_id": "49bf9d55778c466fbe810fe8b138218d",
       "version_major": 2,
       "version_minor": 0
      },
      "text/plain": [
       "Epochs1:   0%|          | 0/10000 [00:00<?, ?it/s]"
      ]
     },
     "metadata": {},
     "output_type": "display_data"
    },
    {
     "name": "stdout",
     "output_type": "stream",
     "text": [
      "Early stopping = True (49)\n",
      "{'classifier.0.weight': tensor(-793.8783, dtype=torch.float64), 'classifier.2.weight': tensor(-4.9737)} {'classifier.0.weight': tensor(-813.2189)}\n"
     ]
    },
    {
     "data": {
      "application/vnd.jupyter.widget-view+json": {
       "model_id": "34c5bdd922af474285c7b270f4501681",
       "version_major": 2,
       "version_minor": 0
      },
      "text/plain": [
       "Epochs1:   0%|          | 0/10000 [00:00<?, ?it/s]"
      ]
     },
     "metadata": {},
     "output_type": "display_data"
    },
    {
     "name": "stdout",
     "output_type": "stream",
     "text": [
      "Early stopping = True (57)\n",
      "{'classifier.0.weight': tensor(-794.1759, dtype=torch.float64), 'classifier.2.weight': tensor(-4.9737)} {'classifier.0.weight': tensor(-813.2189)}\n"
     ]
    },
    {
     "data": {
      "application/vnd.jupyter.widget-view+json": {
       "model_id": "b6f5a08582d444539860aa22de561b50",
       "version_major": 2,
       "version_minor": 0
      },
      "text/plain": [
       "Epochs1:   0%|          | 0/10000 [00:00<?, ?it/s]"
      ]
     },
     "metadata": {},
     "output_type": "display_data"
    },
    {
     "name": "stdout",
     "output_type": "stream",
     "text": [
      "Early stopping = True (57)\n",
      "{'classifier.0.weight': tensor(-794.4734, dtype=torch.float64), 'classifier.2.weight': tensor(-4.9737)} {'classifier.0.weight': tensor(-813.2189)}\n"
     ]
    },
    {
     "data": {
      "application/vnd.jupyter.widget-view+json": {
       "model_id": "50dbf49a6de54715bb21b99f9d5e849d",
       "version_major": 2,
       "version_minor": 0
      },
      "text/plain": [
       "Epochs1:   0%|          | 0/10000 [00:00<?, ?it/s]"
      ]
     },
     "metadata": {},
     "output_type": "display_data"
    },
    {
     "name": "stdout",
     "output_type": "stream",
     "text": [
      "Early stopping = True (85)\n",
      "{'classifier.0.weight': tensor(-794.7710, dtype=torch.float64), 'classifier.2.weight': tensor(-4.9737)} {'classifier.0.weight': tensor(-813.2189)}\n"
     ]
    },
    {
     "data": {
      "application/vnd.jupyter.widget-view+json": {
       "model_id": "c606a4a9a6a94eba96fc78eab098dea8",
       "version_major": 2,
       "version_minor": 0
      },
      "text/plain": [
       "Epochs1:   0%|          | 0/10000 [00:00<?, ?it/s]"
      ]
     },
     "metadata": {},
     "output_type": "display_data"
    },
    {
     "name": "stdout",
     "output_type": "stream",
     "text": [
      "Early stopping = True (75)\n",
      "{'classifier.0.weight': tensor(-795.0685, dtype=torch.float64), 'classifier.2.weight': tensor(-4.9737)} {'classifier.0.weight': tensor(-813.2189)}\n"
     ]
    },
    {
     "data": {
      "application/vnd.jupyter.widget-view+json": {
       "model_id": "8b4878e4088248dfaaac040a32abd16a",
       "version_major": 2,
       "version_minor": 0
      },
      "text/plain": [
       "Epochs1:   0%|          | 0/10000 [00:00<?, ?it/s]"
      ]
     },
     "metadata": {},
     "output_type": "display_data"
    },
    {
     "name": "stdout",
     "output_type": "stream",
     "text": [
      "Early stopping = True (55)\n",
      "{'classifier.0.weight': tensor(-795.3661, dtype=torch.float64), 'classifier.2.weight': tensor(-4.9737)} {'classifier.0.weight': tensor(-813.2189)}\n"
     ]
    },
    {
     "data": {
      "application/vnd.jupyter.widget-view+json": {
       "model_id": "3ac47f0a04154e07af0812fe773e4ac9",
       "version_major": 2,
       "version_minor": 0
      },
      "text/plain": [
       "Epochs1:   0%|          | 0/10000 [00:00<?, ?it/s]"
      ]
     },
     "metadata": {},
     "output_type": "display_data"
    },
    {
     "name": "stdout",
     "output_type": "stream",
     "text": [
      "Early stopping = True (79)\n",
      "{'classifier.0.weight': tensor(-795.6636, dtype=torch.float64), 'classifier.2.weight': tensor(-4.9737)} {'classifier.0.weight': tensor(-813.2189)}\n"
     ]
    },
    {
     "data": {
      "application/vnd.jupyter.widget-view+json": {
       "model_id": "e713ac9dd3d94c54ae1a292d5013b75d",
       "version_major": 2,
       "version_minor": 0
      },
      "text/plain": [
       "Epochs1:   0%|          | 0/10000 [00:00<?, ?it/s]"
      ]
     },
     "metadata": {},
     "output_type": "display_data"
    },
    {
     "name": "stdout",
     "output_type": "stream",
     "text": [
      "Early stopping = True (92)\n",
      "{'classifier.0.weight': tensor(-795.9612, dtype=torch.float64), 'classifier.2.weight': tensor(-4.9737)} {'classifier.0.weight': tensor(-813.2189)}\n"
     ]
    },
    {
     "data": {
      "application/vnd.jupyter.widget-view+json": {
       "model_id": "d63f0307556d46cb88c0cdcb2c5895e1",
       "version_major": 2,
       "version_minor": 0
      },
      "text/plain": [
       "Epochs1:   0%|          | 0/10000 [00:00<?, ?it/s]"
      ]
     },
     "metadata": {},
     "output_type": "display_data"
    },
    {
     "name": "stdout",
     "output_type": "stream",
     "text": [
      "Early stopping = True (70)\n",
      "{'classifier.0.weight': tensor(-796.2587, dtype=torch.float64), 'classifier.2.weight': tensor(-4.9737)} {'classifier.0.weight': tensor(-813.2189)}\n"
     ]
    },
    {
     "data": {
      "application/vnd.jupyter.widget-view+json": {
       "model_id": "b109c2423ee740dea9a17fd69d19bafa",
       "version_major": 2,
       "version_minor": 0
      },
      "text/plain": [
       "Epochs1:   0%|          | 0/10000 [00:00<?, ?it/s]"
      ]
     },
     "metadata": {},
     "output_type": "display_data"
    },
    {
     "name": "stdout",
     "output_type": "stream",
     "text": [
      "Early stopping = True (67)\n",
      "{'classifier.0.weight': tensor(-796.5563, dtype=torch.float64), 'classifier.2.weight': tensor(-4.9737)} {'classifier.0.weight': tensor(-813.2189)}\n"
     ]
    },
    {
     "data": {
      "application/vnd.jupyter.widget-view+json": {
       "model_id": "dd6a515cfabc45f89700d8bfc3fbebb1",
       "version_major": 2,
       "version_minor": 0
      },
      "text/plain": [
       "Epochs1:   0%|          | 0/10000 [00:00<?, ?it/s]"
      ]
     },
     "metadata": {},
     "output_type": "display_data"
    },
    {
     "name": "stdout",
     "output_type": "stream",
     "text": [
      "Early stopping = True (107)\n",
      "{'classifier.0.weight': tensor(-796.8538, dtype=torch.float64), 'classifier.2.weight': tensor(-4.9737)} {'classifier.0.weight': tensor(-813.2189)}\n"
     ]
    },
    {
     "data": {
      "application/vnd.jupyter.widget-view+json": {
       "model_id": "e051e867b92540e8911b2a6d5dca3207",
       "version_major": 2,
       "version_minor": 0
      },
      "text/plain": [
       "Epochs1:   0%|          | 0/10000 [00:00<?, ?it/s]"
      ]
     },
     "metadata": {},
     "output_type": "display_data"
    },
    {
     "name": "stdout",
     "output_type": "stream",
     "text": [
      "Early stopping = True (100)\n",
      "{'classifier.0.weight': tensor(-797.1514, dtype=torch.float64), 'classifier.2.weight': tensor(-4.9737)} {'classifier.0.weight': tensor(-813.2189)}\n"
     ]
    },
    {
     "data": {
      "application/vnd.jupyter.widget-view+json": {
       "model_id": "169b91874c5b40cdadef2e26b44e3cdf",
       "version_major": 2,
       "version_minor": 0
      },
      "text/plain": [
       "Epochs1:   0%|          | 0/10000 [00:00<?, ?it/s]"
      ]
     },
     "metadata": {},
     "output_type": "display_data"
    },
    {
     "name": "stdout",
     "output_type": "stream",
     "text": [
      "Early stopping = True (58)\n",
      "{'classifier.0.weight': tensor(-797.4489, dtype=torch.float64), 'classifier.2.weight': tensor(-4.9737)} {'classifier.0.weight': tensor(-813.2189)}\n"
     ]
    },
    {
     "data": {
      "application/vnd.jupyter.widget-view+json": {
       "model_id": "67b4c3d8224443b68f6d76f6b9052cc8",
       "version_major": 2,
       "version_minor": 0
      },
      "text/plain": [
       "Epochs1:   0%|          | 0/10000 [00:00<?, ?it/s]"
      ]
     },
     "metadata": {},
     "output_type": "display_data"
    },
    {
     "name": "stdout",
     "output_type": "stream",
     "text": [
      "Early stopping = True (146)\n",
      "{'classifier.0.weight': tensor(-797.7465, dtype=torch.float64), 'classifier.2.weight': tensor(-4.9737)} {'classifier.0.weight': tensor(-813.2189)}\n"
     ]
    },
    {
     "data": {
      "application/vnd.jupyter.widget-view+json": {
       "model_id": "e0567dacf35747e58f69849930ab3504",
       "version_major": 2,
       "version_minor": 0
      },
      "text/plain": [
       "Epochs1:   0%|          | 0/10000 [00:00<?, ?it/s]"
      ]
     },
     "metadata": {},
     "output_type": "display_data"
    },
    {
     "name": "stdout",
     "output_type": "stream",
     "text": [
      "Early stopping = True (62)\n",
      "{'classifier.0.weight': tensor(-798.0440, dtype=torch.float64), 'classifier.2.weight': tensor(-4.9737)} {'classifier.0.weight': tensor(-813.2189)}\n"
     ]
    },
    {
     "data": {
      "application/vnd.jupyter.widget-view+json": {
       "model_id": "1b04730d475946e6ac5bcc7771a717df",
       "version_major": 2,
       "version_minor": 0
      },
      "text/plain": [
       "Epochs1:   0%|          | 0/10000 [00:00<?, ?it/s]"
      ]
     },
     "metadata": {},
     "output_type": "display_data"
    },
    {
     "name": "stdout",
     "output_type": "stream",
     "text": [
      "Early stopping = True (69)\n",
      "{'classifier.0.weight': tensor(-798.3416, dtype=torch.float64), 'classifier.2.weight': tensor(-4.9737)} {'classifier.0.weight': tensor(-813.2189)}\n"
     ]
    },
    {
     "data": {
      "application/vnd.jupyter.widget-view+json": {
       "model_id": "b05effd99b4e40f89cd14bf1df30e526",
       "version_major": 2,
       "version_minor": 0
      },
      "text/plain": [
       "Epochs1:   0%|          | 0/10000 [00:00<?, ?it/s]"
      ]
     },
     "metadata": {},
     "output_type": "display_data"
    },
    {
     "name": "stdout",
     "output_type": "stream",
     "text": [
      "Early stopping = True (96)\n",
      "{'classifier.0.weight': tensor(-798.6391, dtype=torch.float64), 'classifier.2.weight': tensor(-4.9737)} {'classifier.0.weight': tensor(-813.2189)}\n"
     ]
    },
    {
     "data": {
      "application/vnd.jupyter.widget-view+json": {
       "model_id": "dfa33fbf2e9246aabd12bdf0c328fc0d",
       "version_major": 2,
       "version_minor": 0
      },
      "text/plain": [
       "Epochs1:   0%|          | 0/10000 [00:00<?, ?it/s]"
      ]
     },
     "metadata": {},
     "output_type": "display_data"
    },
    {
     "name": "stdout",
     "output_type": "stream",
     "text": [
      "Early stopping = True (64)\n",
      "{'classifier.0.weight': tensor(-798.9366, dtype=torch.float64), 'classifier.2.weight': tensor(-4.9737)} {'classifier.0.weight': tensor(-813.2189)}\n"
     ]
    },
    {
     "data": {
      "application/vnd.jupyter.widget-view+json": {
       "model_id": "5e1a38b556564c718e7aef26a4857e00",
       "version_major": 2,
       "version_minor": 0
      },
      "text/plain": [
       "Epochs1:   0%|          | 0/10000 [00:00<?, ?it/s]"
      ]
     },
     "metadata": {},
     "output_type": "display_data"
    },
    {
     "name": "stdout",
     "output_type": "stream",
     "text": [
      "Early stopping = True (74)\n",
      "{'classifier.0.weight': tensor(-799.2342, dtype=torch.float64), 'classifier.2.weight': tensor(-4.9737)} {'classifier.0.weight': tensor(-813.2189)}\n"
     ]
    },
    {
     "data": {
      "application/vnd.jupyter.widget-view+json": {
       "model_id": "21d94a0dfc1a46f5808a982ecec27d0f",
       "version_major": 2,
       "version_minor": 0
      },
      "text/plain": [
       "Epochs1:   0%|          | 0/10000 [00:00<?, ?it/s]"
      ]
     },
     "metadata": {},
     "output_type": "display_data"
    },
    {
     "name": "stdout",
     "output_type": "stream",
     "text": [
      "Early stopping = True (74)\n",
      "{'classifier.0.weight': tensor(-799.5317, dtype=torch.float64), 'classifier.2.weight': tensor(-4.9737)} {'classifier.0.weight': tensor(-813.2189)}\n"
     ]
    },
    {
     "data": {
      "application/vnd.jupyter.widget-view+json": {
       "model_id": "60a4b5b63e364d8495fe3a8de7bc5090",
       "version_major": 2,
       "version_minor": 0
      },
      "text/plain": [
       "Epochs1:   0%|          | 0/10000 [00:00<?, ?it/s]"
      ]
     },
     "metadata": {},
     "output_type": "display_data"
    },
    {
     "name": "stdout",
     "output_type": "stream",
     "text": [
      "Early stopping = True (119)\n",
      "{'classifier.0.weight': tensor(-799.8293, dtype=torch.float64), 'classifier.2.weight': tensor(-4.9737)} {'classifier.0.weight': tensor(-813.2189)}\n"
     ]
    },
    {
     "data": {
      "application/vnd.jupyter.widget-view+json": {
       "model_id": "64effcbb247a48b09012de1cf80bce6d",
       "version_major": 2,
       "version_minor": 0
      },
      "text/plain": [
       "Epochs1:   0%|          | 0/10000 [00:00<?, ?it/s]"
      ]
     },
     "metadata": {},
     "output_type": "display_data"
    },
    {
     "name": "stdout",
     "output_type": "stream",
     "text": [
      "Early stopping = True (91)\n",
      "{'classifier.0.weight': tensor(-800.1268, dtype=torch.float64), 'classifier.2.weight': tensor(-4.9737)} {'classifier.0.weight': tensor(-813.2189)}\n"
     ]
    },
    {
     "data": {
      "application/vnd.jupyter.widget-view+json": {
       "model_id": "035848814632456786c73d9eea83cc27",
       "version_major": 2,
       "version_minor": 0
      },
      "text/plain": [
       "Epochs1:   0%|          | 0/10000 [00:00<?, ?it/s]"
      ]
     },
     "metadata": {},
     "output_type": "display_data"
    },
    {
     "name": "stdout",
     "output_type": "stream",
     "text": [
      "Early stopping = True (105)\n",
      "{'classifier.0.weight': tensor(-800.4244, dtype=torch.float64), 'classifier.2.weight': tensor(-4.9737)} {'classifier.0.weight': tensor(-813.2189)}\n"
     ]
    },
    {
     "data": {
      "application/vnd.jupyter.widget-view+json": {
       "model_id": "0a5c5f4fd13143ada13fe03c2d252d2e",
       "version_major": 2,
       "version_minor": 0
      },
      "text/plain": [
       "Epochs1:   0%|          | 0/10000 [00:00<?, ?it/s]"
      ]
     },
     "metadata": {},
     "output_type": "display_data"
    },
    {
     "name": "stdout",
     "output_type": "stream",
     "text": [
      "Early stopping = True (92)\n",
      "{'classifier.0.weight': tensor(-800.7219, dtype=torch.float64), 'classifier.2.weight': tensor(-4.9737)} {'classifier.0.weight': tensor(-813.2189)}\n"
     ]
    },
    {
     "data": {
      "application/vnd.jupyter.widget-view+json": {
       "model_id": "e6dfaa1502494040b7529baad6377090",
       "version_major": 2,
       "version_minor": 0
      },
      "text/plain": [
       "Epochs1:   0%|          | 0/10000 [00:00<?, ?it/s]"
      ]
     },
     "metadata": {},
     "output_type": "display_data"
    },
    {
     "name": "stdout",
     "output_type": "stream",
     "text": [
      "Early stopping = True (180)\n",
      "{'classifier.0.weight': tensor(-801.0195, dtype=torch.float64), 'classifier.2.weight': tensor(-4.9737)} {'classifier.0.weight': tensor(-813.2189)}\n"
     ]
    },
    {
     "data": {
      "application/vnd.jupyter.widget-view+json": {
       "model_id": "a9ce654c909b45618ec15ba4be135971",
       "version_major": 2,
       "version_minor": 0
      },
      "text/plain": [
       "Epochs1:   0%|          | 0/10000 [00:00<?, ?it/s]"
      ]
     },
     "metadata": {},
     "output_type": "display_data"
    },
    {
     "name": "stdout",
     "output_type": "stream",
     "text": [
      "Early stopping = True (125)\n",
      "{'classifier.0.weight': tensor(-801.3170, dtype=torch.float64), 'classifier.2.weight': tensor(-4.9737)} {'classifier.0.weight': tensor(-813.2189)}\n"
     ]
    },
    {
     "data": {
      "application/vnd.jupyter.widget-view+json": {
       "model_id": "9bf6c101f91c4f128a7a1aab112d220e",
       "version_major": 2,
       "version_minor": 0
      },
      "text/plain": [
       "Epochs1:   0%|          | 0/10000 [00:00<?, ?it/s]"
      ]
     },
     "metadata": {},
     "output_type": "display_data"
    },
    {
     "name": "stdout",
     "output_type": "stream",
     "text": [
      "Early stopping = True (101)\n",
      "{'classifier.0.weight': tensor(-801.6146, dtype=torch.float64), 'classifier.2.weight': tensor(-4.9737)} {'classifier.0.weight': tensor(-813.2189)}\n"
     ]
    },
    {
     "data": {
      "application/vnd.jupyter.widget-view+json": {
       "model_id": "8c821a6ca23344a99918ae5b9dacc733",
       "version_major": 2,
       "version_minor": 0
      },
      "text/plain": [
       "Epochs1:   0%|          | 0/10000 [00:00<?, ?it/s]"
      ]
     },
     "metadata": {},
     "output_type": "display_data"
    },
    {
     "name": "stdout",
     "output_type": "stream",
     "text": [
      "Early stopping = True (151)\n",
      "{'classifier.0.weight': tensor(-801.9121, dtype=torch.float64), 'classifier.2.weight': tensor(-4.9737)} {'classifier.0.weight': tensor(-813.2189)}\n"
     ]
    },
    {
     "data": {
      "application/vnd.jupyter.widget-view+json": {
       "model_id": "0aea7709b6d64efcb2b38d7dd47fa4d1",
       "version_major": 2,
       "version_minor": 0
      },
      "text/plain": [
       "Epochs1:   0%|          | 0/10000 [00:00<?, ?it/s]"
      ]
     },
     "metadata": {},
     "output_type": "display_data"
    },
    {
     "name": "stdout",
     "output_type": "stream",
     "text": [
      "Early stopping = True (144)\n",
      "{'classifier.0.weight': tensor(-802.2097, dtype=torch.float64), 'classifier.2.weight': tensor(-4.9737)} {'classifier.0.weight': tensor(-813.2189)}\n"
     ]
    },
    {
     "data": {
      "application/vnd.jupyter.widget-view+json": {
       "model_id": "d6df922e7d204dacb83c0c8db2c06881",
       "version_major": 2,
       "version_minor": 0
      },
      "text/plain": [
       "Epochs1:   0%|          | 0/10000 [00:00<?, ?it/s]"
      ]
     },
     "metadata": {},
     "output_type": "display_data"
    },
    {
     "name": "stdout",
     "output_type": "stream",
     "text": [
      "Early stopping = True (146)\n",
      "{'classifier.0.weight': tensor(-802.5072, dtype=torch.float64), 'classifier.2.weight': tensor(-4.9737)} {'classifier.0.weight': tensor(-813.2189)}\n"
     ]
    },
    {
     "data": {
      "application/vnd.jupyter.widget-view+json": {
       "model_id": "95db4164665640279edd5b676012f371",
       "version_major": 2,
       "version_minor": 0
      },
      "text/plain": [
       "Epochs1:   0%|          | 0/10000 [00:00<?, ?it/s]"
      ]
     },
     "metadata": {},
     "output_type": "display_data"
    },
    {
     "name": "stdout",
     "output_type": "stream",
     "text": [
      "Early stopping = True (153)\n",
      "{'classifier.0.weight': tensor(-802.8048, dtype=torch.float64), 'classifier.2.weight': tensor(-4.9737)} {'classifier.0.weight': tensor(-813.2189)}\n"
     ]
    },
    {
     "data": {
      "application/vnd.jupyter.widget-view+json": {
       "model_id": "c3a515eab61a4197aca9042ab0f57115",
       "version_major": 2,
       "version_minor": 0
      },
      "text/plain": [
       "Epochs1:   0%|          | 0/10000 [00:00<?, ?it/s]"
      ]
     },
     "metadata": {},
     "output_type": "display_data"
    },
    {
     "name": "stdout",
     "output_type": "stream",
     "text": [
      "Early stopping = True (256)\n",
      "{'classifier.0.weight': tensor(-803.1023, dtype=torch.float64), 'classifier.2.weight': tensor(-4.9737)} {'classifier.0.weight': tensor(-813.2189)}\n"
     ]
    },
    {
     "data": {
      "application/vnd.jupyter.widget-view+json": {
       "model_id": "23d1e3b7a1a74aabb5c7aa193281744f",
       "version_major": 2,
       "version_minor": 0
      },
      "text/plain": [
       "Epochs1:   0%|          | 0/10000 [00:00<?, ?it/s]"
      ]
     },
     "metadata": {},
     "output_type": "display_data"
    },
    {
     "name": "stdout",
     "output_type": "stream",
     "text": [
      "Early stopping = True (135)\n",
      "{'classifier.0.weight': tensor(-803.3999, dtype=torch.float64), 'classifier.2.weight': tensor(-4.9737)} {'classifier.0.weight': tensor(-813.2189)}\n"
     ]
    },
    {
     "data": {
      "application/vnd.jupyter.widget-view+json": {
       "model_id": "b90756f012fb4abe8b75ef5405e80546",
       "version_major": 2,
       "version_minor": 0
      },
      "text/plain": [
       "Epochs1:   0%|          | 0/10000 [00:00<?, ?it/s]"
      ]
     },
     "metadata": {},
     "output_type": "display_data"
    },
    {
     "name": "stdout",
     "output_type": "stream",
     "text": [
      "Early stopping = True (159)\n",
      "{'classifier.0.weight': tensor(-803.6974, dtype=torch.float64), 'classifier.2.weight': tensor(-4.9737)} {'classifier.0.weight': tensor(-813.2189)}\n"
     ]
    },
    {
     "data": {
      "application/vnd.jupyter.widget-view+json": {
       "model_id": "0d56ccdc9a914ce9b2472c125e5df5a3",
       "version_major": 2,
       "version_minor": 0
      },
      "text/plain": [
       "Epochs1:   0%|          | 0/10000 [00:00<?, ?it/s]"
      ]
     },
     "metadata": {},
     "output_type": "display_data"
    },
    {
     "name": "stdout",
     "output_type": "stream",
     "text": [
      "Early stopping = True (141)\n",
      "{'classifier.0.weight': tensor(-803.9950, dtype=torch.float64), 'classifier.2.weight': tensor(-4.9737)} {'classifier.0.weight': tensor(-813.2189)}\n"
     ]
    },
    {
     "data": {
      "application/vnd.jupyter.widget-view+json": {
       "model_id": "e9311d78f87b4e3d948fb3362142144c",
       "version_major": 2,
       "version_minor": 0
      },
      "text/plain": [
       "Epochs1:   0%|          | 0/10000 [00:00<?, ?it/s]"
      ]
     },
     "metadata": {},
     "output_type": "display_data"
    },
    {
     "name": "stdout",
     "output_type": "stream",
     "text": [
      "Early stopping = True (87)\n",
      "{'classifier.0.weight': tensor(-804.2925, dtype=torch.float64), 'classifier.2.weight': tensor(-4.9737)} {'classifier.0.weight': tensor(-813.2189)}\n"
     ]
    },
    {
     "data": {
      "application/vnd.jupyter.widget-view+json": {
       "model_id": "c2dde39394d4416dab610bea43c641fb",
       "version_major": 2,
       "version_minor": 0
      },
      "text/plain": [
       "Epochs1:   0%|          | 0/10000 [00:00<?, ?it/s]"
      ]
     },
     "metadata": {},
     "output_type": "display_data"
    },
    {
     "name": "stdout",
     "output_type": "stream",
     "text": [
      "Early stopping = True (113)\n",
      "{'classifier.0.weight': tensor(-804.5901, dtype=torch.float64), 'classifier.2.weight': tensor(-4.9737)} {'classifier.0.weight': tensor(-813.2189)}\n"
     ]
    },
    {
     "data": {
      "application/vnd.jupyter.widget-view+json": {
       "model_id": "0ec340f56d6547f8bc1232a10f16d798",
       "version_major": 2,
       "version_minor": 0
      },
      "text/plain": [
       "Epochs1:   0%|          | 0/10000 [00:00<?, ?it/s]"
      ]
     },
     "metadata": {},
     "output_type": "display_data"
    },
    {
     "name": "stdout",
     "output_type": "stream",
     "text": [
      "Early stopping = True (146)\n",
      "{'classifier.0.weight': tensor(-804.8876, dtype=torch.float64), 'classifier.2.weight': tensor(-4.9737)} {'classifier.0.weight': tensor(-813.2189)}\n"
     ]
    },
    {
     "data": {
      "application/vnd.jupyter.widget-view+json": {
       "model_id": "10a0c25c696b474fa75ff1587dafdb6b",
       "version_major": 2,
       "version_minor": 0
      },
      "text/plain": [
       "Epochs1:   0%|          | 0/10000 [00:00<?, ?it/s]"
      ]
     },
     "metadata": {},
     "output_type": "display_data"
    },
    {
     "name": "stdout",
     "output_type": "stream",
     "text": [
      "Early stopping = True (145)\n",
      "{'classifier.0.weight': tensor(-805.1851, dtype=torch.float64), 'classifier.2.weight': tensor(-4.9737)} {'classifier.0.weight': tensor(-813.2189)}\n"
     ]
    },
    {
     "data": {
      "application/vnd.jupyter.widget-view+json": {
       "model_id": "00ef42237df74da39facf796d5b5b603",
       "version_major": 2,
       "version_minor": 0
      },
      "text/plain": [
       "Epochs1:   0%|          | 0/10000 [00:00<?, ?it/s]"
      ]
     },
     "metadata": {},
     "output_type": "display_data"
    },
    {
     "name": "stdout",
     "output_type": "stream",
     "text": [
      "Early stopping = True (159)\n",
      "{'classifier.0.weight': tensor(-805.4827, dtype=torch.float64), 'classifier.2.weight': tensor(-4.9737)} {'classifier.0.weight': tensor(-813.2189)}\n"
     ]
    },
    {
     "data": {
      "application/vnd.jupyter.widget-view+json": {
       "model_id": "41173929d6404641bd73ca97da630fec",
       "version_major": 2,
       "version_minor": 0
      },
      "text/plain": [
       "Epochs1:   0%|          | 0/10000 [00:00<?, ?it/s]"
      ]
     },
     "metadata": {},
     "output_type": "display_data"
    },
    {
     "name": "stdout",
     "output_type": "stream",
     "text": [
      "Early stopping = True (135)\n",
      "{'classifier.0.weight': tensor(-805.7802, dtype=torch.float64), 'classifier.2.weight': tensor(-4.9737)} {'classifier.0.weight': tensor(-813.2189)}\n"
     ]
    },
    {
     "data": {
      "application/vnd.jupyter.widget-view+json": {
       "model_id": "42c0f4fc46e845b59d3a23ba955bbce1",
       "version_major": 2,
       "version_minor": 0
      },
      "text/plain": [
       "Epochs1:   0%|          | 0/10000 [00:00<?, ?it/s]"
      ]
     },
     "metadata": {},
     "output_type": "display_data"
    },
    {
     "name": "stdout",
     "output_type": "stream",
     "text": [
      "Early stopping = True (190)\n",
      "{'classifier.0.weight': tensor(-806.0778, dtype=torch.float64), 'classifier.2.weight': tensor(-4.9737)} {'classifier.0.weight': tensor(-813.2189)}\n"
     ]
    },
    {
     "data": {
      "application/vnd.jupyter.widget-view+json": {
       "model_id": "9a949d4e968a4efba53e965f6e4d5b88",
       "version_major": 2,
       "version_minor": 0
      },
      "text/plain": [
       "Epochs1:   0%|          | 0/10000 [00:00<?, ?it/s]"
      ]
     },
     "metadata": {},
     "output_type": "display_data"
    },
    {
     "name": "stdout",
     "output_type": "stream",
     "text": [
      "Early stopping = True (161)\n",
      "{'classifier.0.weight': tensor(-806.3753, dtype=torch.float64), 'classifier.2.weight': tensor(-4.9737)} {'classifier.0.weight': tensor(-813.2189)}\n"
     ]
    },
    {
     "data": {
      "application/vnd.jupyter.widget-view+json": {
       "model_id": "7c32cca4bf3043678a80d2bba9dc96c8",
       "version_major": 2,
       "version_minor": 0
      },
      "text/plain": [
       "Epochs1:   0%|          | 0/10000 [00:00<?, ?it/s]"
      ]
     },
     "metadata": {},
     "output_type": "display_data"
    },
    {
     "name": "stdout",
     "output_type": "stream",
     "text": [
      "Early stopping = True (275)\n",
      "{'classifier.0.weight': tensor(-806.6729, dtype=torch.float64), 'classifier.2.weight': tensor(-4.9737)} {'classifier.0.weight': tensor(-813.2189)}\n"
     ]
    },
    {
     "data": {
      "application/vnd.jupyter.widget-view+json": {
       "model_id": "c6e9b033476d45c687a1c6baaa149088",
       "version_major": 2,
       "version_minor": 0
      },
      "text/plain": [
       "Epochs1:   0%|          | 0/10000 [00:00<?, ?it/s]"
      ]
     },
     "metadata": {},
     "output_type": "display_data"
    },
    {
     "name": "stdout",
     "output_type": "stream",
     "text": [
      "Early stopping = True (214)\n",
      "{'classifier.0.weight': tensor(-806.9704, dtype=torch.float64), 'classifier.2.weight': tensor(-4.9737)} {'classifier.0.weight': tensor(-813.2189)}\n"
     ]
    },
    {
     "data": {
      "application/vnd.jupyter.widget-view+json": {
       "model_id": "4e38befc223843f0b3823cddef84309d",
       "version_major": 2,
       "version_minor": 0
      },
      "text/plain": [
       "Epochs1:   0%|          | 0/10000 [00:00<?, ?it/s]"
      ]
     },
     "metadata": {},
     "output_type": "display_data"
    },
    {
     "name": "stdout",
     "output_type": "stream",
     "text": [
      "Early stopping = True (223)\n",
      "{'classifier.0.weight': tensor(-807.2680, dtype=torch.float64), 'classifier.2.weight': tensor(-4.9737)} {'classifier.0.weight': tensor(-813.2189)}\n"
     ]
    },
    {
     "data": {
      "application/vnd.jupyter.widget-view+json": {
       "model_id": "858046f988044b0a8a0163b8355738a0",
       "version_major": 2,
       "version_minor": 0
      },
      "text/plain": [
       "Epochs1:   0%|          | 0/10000 [00:00<?, ?it/s]"
      ]
     },
     "metadata": {},
     "output_type": "display_data"
    },
    {
     "name": "stdout",
     "output_type": "stream",
     "text": [
      "Early stopping = True (327)\n",
      "{'classifier.0.weight': tensor(-807.5655, dtype=torch.float64), 'classifier.2.weight': tensor(-4.9737)} {'classifier.0.weight': tensor(-813.2189)}\n"
     ]
    },
    {
     "data": {
      "application/vnd.jupyter.widget-view+json": {
       "model_id": "44158626b2394fb6a9e534af1cef0f8d",
       "version_major": 2,
       "version_minor": 0
      },
      "text/plain": [
       "Epochs1:   0%|          | 0/10000 [00:00<?, ?it/s]"
      ]
     },
     "metadata": {},
     "output_type": "display_data"
    },
    {
     "name": "stdout",
     "output_type": "stream",
     "text": [
      "Early stopping = True (380)\n",
      "{'classifier.0.weight': tensor(-807.8631, dtype=torch.float64), 'classifier.2.weight': tensor(-4.9737)} {'classifier.0.weight': tensor(-813.2189)}\n"
     ]
    },
    {
     "data": {
      "application/vnd.jupyter.widget-view+json": {
       "model_id": "ebe3af6860c64eb3adb509b833fd4106",
       "version_major": 2,
       "version_minor": 0
      },
      "text/plain": [
       "Epochs1:   0%|          | 0/10000 [00:00<?, ?it/s]"
      ]
     },
     "metadata": {},
     "output_type": "display_data"
    },
    {
     "name": "stdout",
     "output_type": "stream",
     "text": [
      "Early stopping = True (396)\n",
      "{'classifier.0.weight': tensor(-808.1606, dtype=torch.float64), 'classifier.2.weight': tensor(-4.9737)} {'classifier.0.weight': tensor(-813.2189)}\n"
     ]
    },
    {
     "data": {
      "application/vnd.jupyter.widget-view+json": {
       "model_id": "c8346f987d1e4feba13b043b92e15272",
       "version_major": 2,
       "version_minor": 0
      },
      "text/plain": [
       "Epochs1:   0%|          | 0/10000 [00:00<?, ?it/s]"
      ]
     },
     "metadata": {},
     "output_type": "display_data"
    },
    {
     "name": "stdout",
     "output_type": "stream",
     "text": [
      "Early stopping = True (175)\n",
      "{'classifier.0.weight': tensor(-808.4582, dtype=torch.float64), 'classifier.2.weight': tensor(-4.9737)} {'classifier.0.weight': tensor(-813.2189)}\n"
     ]
    },
    {
     "data": {
      "application/vnd.jupyter.widget-view+json": {
       "model_id": "301addb6b64342efbafe83b5380dcf31",
       "version_major": 2,
       "version_minor": 0
      },
      "text/plain": [
       "Epochs1:   0%|          | 0/10000 [00:00<?, ?it/s]"
      ]
     },
     "metadata": {},
     "output_type": "display_data"
    },
    {
     "name": "stdout",
     "output_type": "stream",
     "text": [
      "Early stopping = True (281)\n",
      "{'classifier.0.weight': tensor(-808.7557, dtype=torch.float64), 'classifier.2.weight': tensor(-4.9737)} {'classifier.0.weight': tensor(-813.2189)}\n"
     ]
    },
    {
     "data": {
      "application/vnd.jupyter.widget-view+json": {
       "model_id": "6376d361fe8a488bbb1aca69aaa44ca1",
       "version_major": 2,
       "version_minor": 0
      },
      "text/plain": [
       "Epochs1:   0%|          | 0/10000 [00:00<?, ?it/s]"
      ]
     },
     "metadata": {},
     "output_type": "display_data"
    },
    {
     "name": "stdout",
     "output_type": "stream",
     "text": [
      "Early stopping = True (318)\n",
      "{'classifier.0.weight': tensor(-809.0533, dtype=torch.float64), 'classifier.2.weight': tensor(-4.9737)} {'classifier.0.weight': tensor(-813.2189)}\n"
     ]
    },
    {
     "data": {
      "application/vnd.jupyter.widget-view+json": {
       "model_id": "c720f3a2d35741b0b614777ff0f4bfd4",
       "version_major": 2,
       "version_minor": 0
      },
      "text/plain": [
       "Epochs1:   0%|          | 0/10000 [00:00<?, ?it/s]"
      ]
     },
     "metadata": {},
     "output_type": "display_data"
    },
    {
     "name": "stdout",
     "output_type": "stream",
     "text": [
      "Early stopping = True (421)\n",
      "{'classifier.0.weight': tensor(-809.3508, dtype=torch.float64), 'classifier.2.weight': tensor(-4.9737)} {'classifier.0.weight': tensor(-813.2189)}\n"
     ]
    },
    {
     "data": {
      "application/vnd.jupyter.widget-view+json": {
       "model_id": "da0e5f2303534ec0b596cde67f23096f",
       "version_major": 2,
       "version_minor": 0
      },
      "text/plain": [
       "Epochs1:   0%|          | 0/10000 [00:00<?, ?it/s]"
      ]
     },
     "metadata": {},
     "output_type": "display_data"
    },
    {
     "name": "stdout",
     "output_type": "stream",
     "text": [
      "Early stopping = True (306)\n",
      "{'classifier.0.weight': tensor(-809.6484, dtype=torch.float64), 'classifier.2.weight': tensor(-4.9737)} {'classifier.0.weight': tensor(-813.2189)}\n"
     ]
    },
    {
     "data": {
      "application/vnd.jupyter.widget-view+json": {
       "model_id": "d763e740ada042cbb7ce420585bfc606",
       "version_major": 2,
       "version_minor": 0
      },
      "text/plain": [
       "Epochs1:   0%|          | 0/10000 [00:00<?, ?it/s]"
      ]
     },
     "metadata": {},
     "output_type": "display_data"
    },
    {
     "name": "stdout",
     "output_type": "stream",
     "text": [
      "Early stopping = True (333)\n",
      "{'classifier.0.weight': tensor(-809.9459, dtype=torch.float64), 'classifier.2.weight': tensor(-4.9737)} {'classifier.0.weight': tensor(-813.2189)}\n"
     ]
    },
    {
     "data": {
      "application/vnd.jupyter.widget-view+json": {
       "model_id": "4b54c15863764b58b1753a9fefe54077",
       "version_major": 2,
       "version_minor": 0
      },
      "text/plain": [
       "Epochs1:   0%|          | 0/10000 [00:00<?, ?it/s]"
      ]
     },
     "metadata": {},
     "output_type": "display_data"
    },
    {
     "name": "stdout",
     "output_type": "stream",
     "text": [
      "Early stopping = True (388)\n",
      "{'classifier.0.weight': tensor(-810.2435, dtype=torch.float64), 'classifier.2.weight': tensor(-4.9737)} {'classifier.0.weight': tensor(-813.2189)}\n"
     ]
    },
    {
     "data": {
      "application/vnd.jupyter.widget-view+json": {
       "model_id": "ffb2090adb404ed19f13bc5aa07dc071",
       "version_major": 2,
       "version_minor": 0
      },
      "text/plain": [
       "Epochs1:   0%|          | 0/10000 [00:00<?, ?it/s]"
      ]
     },
     "metadata": {},
     "output_type": "display_data"
    },
    {
     "name": "stdout",
     "output_type": "stream",
     "text": [
      "Early stopping = True (380)\n",
      "{'classifier.0.weight': tensor(-810.5410, dtype=torch.float64), 'classifier.2.weight': tensor(-4.9737)} {'classifier.0.weight': tensor(-813.2189)}\n"
     ]
    },
    {
     "data": {
      "application/vnd.jupyter.widget-view+json": {
       "model_id": "7e6c8880310d499180fc7941ac076abb",
       "version_major": 2,
       "version_minor": 0
      },
      "text/plain": [
       "Epochs1:   0%|          | 0/10000 [00:00<?, ?it/s]"
      ]
     },
     "metadata": {},
     "output_type": "display_data"
    },
    {
     "name": "stdout",
     "output_type": "stream",
     "text": [
      "Early stopping = True (413)\n",
      "{'classifier.0.weight': tensor(-810.8386, dtype=torch.float64), 'classifier.2.weight': tensor(-4.9737)} {'classifier.0.weight': tensor(-813.2189)}\n"
     ]
    },
    {
     "data": {
      "application/vnd.jupyter.widget-view+json": {
       "model_id": "e7b02fd6c58149709c3dc3b2f6d93b1a",
       "version_major": 2,
       "version_minor": 0
      },
      "text/plain": [
       "Epochs1:   0%|          | 0/10000 [00:00<?, ?it/s]"
      ]
     },
     "metadata": {},
     "output_type": "display_data"
    },
    {
     "name": "stdout",
     "output_type": "stream",
     "text": [
      "Early stopping = True (531)\n",
      "{'classifier.0.weight': tensor(-811.1361, dtype=torch.float64), 'classifier.2.weight': tensor(-4.9737)} {'classifier.0.weight': tensor(-813.2189)}\n"
     ]
    },
    {
     "data": {
      "application/vnd.jupyter.widget-view+json": {
       "model_id": "dd751e2a21eb451c932ee10eea55aaa2",
       "version_major": 2,
       "version_minor": 0
      },
      "text/plain": [
       "Epochs1:   0%|          | 0/10000 [00:00<?, ?it/s]"
      ]
     },
     "metadata": {},
     "output_type": "display_data"
    },
    {
     "name": "stdout",
     "output_type": "stream",
     "text": [
      "Early stopping = True (581)\n",
      "{'classifier.0.weight': tensor(-811.4336, dtype=torch.float64), 'classifier.2.weight': tensor(-4.9737)} {'classifier.0.weight': tensor(-813.2189)}\n"
     ]
    },
    {
     "data": {
      "application/vnd.jupyter.widget-view+json": {
       "model_id": "9fc1d7ce4ccf451996b170b0d62f5201",
       "version_major": 2,
       "version_minor": 0
      },
      "text/plain": [
       "Epochs1:   0%|          | 0/10000 [00:00<?, ?it/s]"
      ]
     },
     "metadata": {},
     "output_type": "display_data"
    },
    {
     "name": "stdout",
     "output_type": "stream",
     "text": [
      "Early stopping = True (625)\n",
      "{'classifier.0.weight': tensor(-811.7312, dtype=torch.float64), 'classifier.2.weight': tensor(-4.9737)} {'classifier.0.weight': tensor(-813.2189)}\n"
     ]
    },
    {
     "data": {
      "application/vnd.jupyter.widget-view+json": {
       "model_id": "efa1925300d24553b2be44fb663b86a6",
       "version_major": 2,
       "version_minor": 0
      },
      "text/plain": [
       "Epochs1:   0%|          | 0/10000 [00:00<?, ?it/s]"
      ]
     },
     "metadata": {},
     "output_type": "display_data"
    },
    {
     "name": "stdout",
     "output_type": "stream",
     "text": [
      "Early stopping = True (1239)\n",
      "{'classifier.0.weight': tensor(-812.0287, dtype=torch.float64), 'classifier.2.weight': tensor(-4.9737)} {'classifier.0.weight': tensor(-813.2189)}\n"
     ]
    },
    {
     "data": {
      "application/vnd.jupyter.widget-view+json": {
       "model_id": "0c0a6e1606f34f279583264f25050e9d",
       "version_major": 2,
       "version_minor": 0
      },
      "text/plain": [
       "Epochs1:   0%|          | 0/10000 [00:00<?, ?it/s]"
      ]
     },
     "metadata": {},
     "output_type": "display_data"
    },
    {
     "name": "stdout",
     "output_type": "stream",
     "text": [
      "Early stopping = True (2542)\n",
      "{'classifier.0.weight': tensor(-812.3263, dtype=torch.float64), 'classifier.2.weight': tensor(-4.9737)} {'classifier.0.weight': tensor(-813.2189)}\n"
     ]
    },
    {
     "data": {
      "application/vnd.jupyter.widget-view+json": {
       "model_id": "90c6b37db8f3416581f1977a64861628",
       "version_major": 2,
       "version_minor": 0
      },
      "text/plain": [
       "Epochs1:   0%|          | 0/10000 [00:00<?, ?it/s]"
      ]
     },
     "metadata": {},
     "output_type": "display_data"
    },
    {
     "name": "stdout",
     "output_type": "stream",
     "text": [
      "Early stopping = True (4679)\n",
      "{'classifier.0.weight': tensor(-812.6238, dtype=torch.float64), 'classifier.2.weight': tensor(-4.9737)} {'classifier.0.weight': tensor(-813.2189)}\n"
     ]
    },
    {
     "data": {
      "application/vnd.jupyter.widget-view+json": {
       "model_id": "81955dc027234d7daba6e0239e7c2169",
       "version_major": 2,
       "version_minor": 0
      },
      "text/plain": [
       "Epochs1:   0%|          | 0/10000 [00:00<?, ?it/s]"
      ]
     },
     "metadata": {},
     "output_type": "display_data"
    },
    {
     "name": "stdout",
     "output_type": "stream",
     "text": [
      "Early stopping = False (10000)\n",
      "{'classifier.0.weight': tensor(-812.9214, dtype=torch.float64), 'classifier.2.weight': tensor(-4.9737)} {'classifier.0.weight': tensor(-813.2189)}\n"
     ]
    },
    {
     "data": {
      "application/vnd.jupyter.widget-view+json": {
       "model_id": "95c675c5503f429d9d248c4a5a27adb7",
       "version_major": 2,
       "version_minor": 0
      },
      "text/plain": [
       "Epochs1:   0%|          | 0/10000 [00:00<?, ?it/s]"
      ]
     },
     "metadata": {},
     "output_type": "display_data"
    },
    {
     "name": "stdout",
     "output_type": "stream",
     "text": [
      "Early stopping = True (168)\n",
      "{'classifier.0.weight': tensor(-813.2189, dtype=torch.float64), 'classifier.2.weight': tensor(-4.9737)} {'classifier.0.weight': tensor(-813.2189)}\n"
     ]
    },
    {
     "data": {
      "application/vnd.jupyter.widget-view+json": {
       "model_id": "1071cb8c794045faa384a59e442855a1",
       "version_major": 2,
       "version_minor": 0
      },
      "text/plain": [
       "Epochs1:   0%|          | 0/10000 [00:00<?, ?it/s]"
      ]
     },
     "metadata": {},
     "output_type": "display_data"
    },
    {
     "name": "stdout",
     "output_type": "stream",
     "text": [
      "Early stopping = True (15)\n",
      "Best validation at iteration = 15\n"
     ]
    }
   ],
   "source": [
    "lockout_log7.train(dl_train, dl_valid, dl_test, epochs=10000, early_stop=15, tol_loss=1e-5,\n",
    "                   train_how=\"sampling_t0\")"
   ]
  },
  {
   "cell_type": "code",
   "execution_count": 15,
   "id": "optimum-great",
   "metadata": {
    "ExecuteTime": {
     "end_time": "2021-07-01T02:44:41.333278Z",
     "start_time": "2021-07-01T02:44:41.321587Z"
    }
   },
   "outputs": [],
   "source": [
    "# Save model, data\n",
    "tp.save_model(lockout_log7.model_best_valid, 'model_lockout_valid_min_log7.pth')\n",
    "tp.save_model(lockout_log7.model_last, 'model_lockout_last_log7.pth')\n",
    "lockout_log7.path_data.to_csv('data_lockout_log7.csv')"
   ]
  },
  {
   "cell_type": "code",
   "execution_count": 17,
   "id": "supposed-starter",
   "metadata": {
    "ExecuteTime": {
     "end_time": "2021-07-01T02:45:51.176263Z",
     "start_time": "2021-07-01T02:45:50.695158Z"
    },
    "code_folding": []
   },
   "outputs": [],
   "source": [
    "# L1\n",
    "nn = int(2e2)\n",
    "data_tmp = pd.read_csv('data_lockdown_l1.csv', index_col=0)\n",
    "data_lockout_l1 = pd.DataFrame(columns=['sparcity', 'train_accu', 'valid_accu', 'test_accu', 't0_used'])\n",
    "xgrid, step = np.linspace(0., 1., num=nn,endpoint=True, retstep=True)\n",
    "for x in xgrid:\n",
    "    msk = (data_tmp['sparcity__classifier.0.weight'] >= x) &    \\\n",
    "          (data_tmp['sparcity__classifier.0.weight'] < x+step)\n",
    "    train_accu = data_tmp.loc[msk, 'train_accu'].mean()\n",
    "    valid_accu = data_tmp.loc[msk, 'valid_accu'].mean()\n",
    "    test_accu  = data_tmp.loc[msk, 'test_accu'].mean()\n",
    "    t0_used = data_tmp.loc[msk, 't0_used__classifier.0.weight'].mean()\n",
    "    data_lockout_l1 = data_lockout_l1.append({'sparcity': x, \n",
    "                                             'train_accu': train_accu, \n",
    "                                             'valid_accu': valid_accu, \n",
    "                                             'test_accu': test_accu, \n",
    "                                             't0_used': t0_used}, ignore_index=True)\n",
    "data_lockout_l1.dropna(axis='index', how='any', inplace=True)"
   ]
  },
  {
   "cell_type": "code",
   "execution_count": 31,
   "id": "cognitive-clone",
   "metadata": {
    "ExecuteTime": {
     "end_time": "2021-07-01T19:28:34.037501Z",
     "start_time": "2021-07-01T19:28:33.800220Z"
    }
   },
   "outputs": [
    {
     "data": {
      "image/png": "[encoded data removed]",
      "text/plain": [
       "<Figure size 648x432 with 1 Axes>"
      ]
     },
     "metadata": {
      "needs_background": "light"
     },
     "output_type": "display_data"
    }
   ],
   "source": [
    "# beta=0.7\n",
    "data_lockout7 = pd.read_csv('data_lockout_log7.csv', index_col=0)\n",
    "data_lockout7 = data_lockout7.sort_values(by=['sparcity__classifier.0.weight'], \n",
    "                                            ascending=True)\n",
    "\n",
    "fig, axes = plt.subplots(figsize=(9,6))\n",
    "\n",
    "axes.plot(n_features*data_lockout_l1['sparcity'], \n",
    "          1.0 - data_lockout_l1['valid_accu'], \n",
    "          \"-\", linewidth=4, markersize=10, label=\"Lockout(L1)\", \n",
    "          color=\"tab:orange\")\n",
    "axes.plot(n_features*data_lockout7['sparcity__classifier.0.weight'], \n",
    "          1.0 - data_lockout7['valid_accu'], \n",
    "          \"-\", linewidth=4, markersize=10, label=r'Lockout(Log; $\\beta=0.7$)', \n",
    "          color=\"tab:green\")\n",
    "\n",
    "axes.grid(True, zorder=2)\n",
    "axes.set_xlabel(\"number of selected features\", fontsize=16)\n",
    "axes.set_ylabel(\"Validation Error\", fontsize=16)\n",
    "axes.tick_params(axis='both', which='major', labelsize=14)\n",
    "axes.set_xlim(0, 229)\n",
    "axes.legend(fontsize=16)\n",
    "\n",
    "plt.tight_layout()\n",
    "plt.savefig('error_vs_features_log_dataset13.pdf', bbox_inches='tight')\n",
    "plt.show()"
   ]
  },
  {
   "cell_type": "code",
   "execution_count": null,
   "id": "classified-destination",
   "metadata": {
    "ExecuteTime": {
     "end_time": "2021-06-30T18:38:20.163823Z",
     "start_time": "2021-06-30T18:38:20.161201Z"
    }
   },
   "outputs": [],
   "source": []
  }
 ],
 "metadata": {
  "kernelspec": {
   "display_name": "Python 3",
   "language": "python",
   "name": "python3"
  },
  "language_info": {
   "codemirror_mode": {
    "name": "ipython",
    "version": 3
   },
   "file_extension": ".py",
   "mimetype": "text/x-python",
   "name": "python",
   "nbconvert_exporter": "python",
   "pygments_lexer": "ipython3",
   "version": "3.8.3"
  },
  "toc": {
   "base_numbering": 1,
   "nav_menu": {},
   "number_sections": true,
   "sideBar": true,
   "skip_h1_title": true,
   "title_cell": "Table of Contents",
   "title_sidebar": "Contents",
   "toc_cell": false,
   "toc_position": {
    "height": "calc(100% - 180px)",
    "left": "10px",
    "top": "150px",
    "width": "341.333px"
   },
   "toc_section_display": true,
   "toc_window_display": true
  }
 },
 "nbformat": 4,
 "nbformat_minor": 5
}
