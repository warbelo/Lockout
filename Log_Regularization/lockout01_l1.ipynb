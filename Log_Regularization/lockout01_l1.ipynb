{
 "cells": [
  {
   "cell_type": "markdown",
   "id": "particular-serum",
   "metadata": {},
   "source": [
    "# L1 Regularization: Dataset 1"
   ]
  },
  {
   "cell_type": "code",
   "execution_count": 31,
   "id": "higher-documentary",
   "metadata": {
    "ExecuteTime": {
     "end_time": "2021-06-30T23:43:20.420144Z",
     "start_time": "2021-06-30T23:43:20.414275Z"
    },
    "code_folding": [
     0
    ]
   },
   "outputs": [],
   "source": [
    "# Import libraries and modules\n",
    "import numpy as np\n",
    "import pandas as pd\n",
    "\n",
    "import xgboost as xgb\n",
    "from xgboost import plot_tree\n",
    "\n",
    "from sklearn.metrics import r2_score, classification_report, confusion_matrix,           \\\n",
    "                            roc_curve, roc_auc_score, plot_confusion_matrix, f1_score,   \\\n",
    "                            balanced_accuracy_score, accuracy_score, mean_squared_error, \\\n",
    "                            log_loss\n",
    "from sklearn.datasets import make_friedman1\n",
    "from sklearn.model_selection import train_test_split, GridSearchCV\n",
    "from sklearn.linear_model import LogisticRegression, LinearRegression, SGDClassifier,    \\\n",
    "                                 Lasso, lasso_path\n",
    "from sklearn.preprocessing import StandardScaler, LabelBinarizer\n",
    "from sklearn.impute import SimpleImputer\n",
    "from sklearn.pipeline import Pipeline\n",
    "from sklearn_pandas import DataFrameMapper\n",
    "\n",
    "import scipy\n",
    "from scipy import stats\n",
    "\n",
    "import os\n",
    "import shutil\n",
    "from pathlib import Path\n",
    "\n",
    "import matplotlib as mpl\n",
    "import matplotlib.pyplot as plt\n",
    "import matplotlib.cm as cm\n",
    "\n",
    "import albumentations as A\n",
    "from albumentations.pytorch import ToTensorV2\n",
    "import cv2\n",
    "import itertools\n",
    "\n",
    "import time\n",
    "import tqdm\n",
    "import copy\n",
    "import warnings\n",
    "\n",
    "import torch\n",
    "import torchvision\n",
    "import torchvision.transforms as transforms\n",
    "import torch.nn as nn\n",
    "import torch.nn.functional as F\n",
    "import torch.optim as optim\n",
    "import torchvision.models as models\n",
    "from torch.utils.data import Dataset\n",
    "\n",
    "import PIL\n",
    "import joblib\n",
    "import json\n",
    "\n",
    "# import mysgd"
   ]
  },
  {
   "cell_type": "code",
   "execution_count": 32,
   "id": "presidential-education",
   "metadata": {
    "ExecuteTime": {
     "end_time": "2021-06-30T23:43:22.313053Z",
     "start_time": "2021-06-30T23:43:22.304046Z"
    },
    "code_folding": [
     0
    ]
   },
   "outputs": [
    {
     "data": {
      "text/plain": [
       "<module 'lockdown' from '/Users/arbelogonzalezw/Documents/ML_WORK/LIBS/Lockdown/lockdown.py'>"
      ]
     },
     "execution_count": 32,
     "metadata": {},
     "output_type": "execute_result"
    }
   ],
   "source": [
    "# Import user-defined modules\n",
    "import sys\n",
    "import imp\n",
    "sys.path.append('/Users/arbelogonzalezw/Documents/ML_WORK/LIBS/Lockdown')\n",
    "import tools_general as tg\n",
    "import tools_pytorch as tp\n",
    "import lockdown      as ld\n",
    "imp.reload(tg)\n",
    "imp.reload(tp)\n",
    "imp.reload(ld)"
   ]
  },
  {
   "cell_type": "markdown",
   "id": "dominican-paris",
   "metadata": {},
   "source": [
    "## Read, clean, and save data"
   ]
  },
  {
   "cell_type": "code",
   "execution_count": 339,
   "id": "suspended-upset",
   "metadata": {
    "ExecuteTime": {
     "end_time": "2021-06-29T18:19:21.463912Z",
     "start_time": "2021-06-29T18:19:10.744175Z"
    },
    "code_folding": [
     0
    ]
   },
   "outputs": [],
   "source": [
    "# Read X and y\n",
    "X = pd.read_csv('/Users/arbelogonzalezw/Documents/ML_WORK/Project_Jerry_Lockdown/dataset_10LungCarcinoma/GDS3837_gene_profile.csv', index_col=0)\n",
    "dfy = pd.read_csv('/Users/arbelogonzalezw/Documents/ML_WORK/Project_Jerry_Lockdown/dataset_10LungCarcinoma/GDS3837_output.csv', index_col=0)"
   ]
  },
  {
   "cell_type": "code",
   "execution_count": 340,
   "id": "geographic-sunrise",
   "metadata": {
    "ExecuteTime": {
     "end_time": "2021-06-29T18:19:21.519937Z",
     "start_time": "2021-06-29T18:19:21.466051Z"
    },
    "code_folding": [
     0
    ]
   },
   "outputs": [],
   "source": [
    "# Change column names\n",
    "cols = X.columns.tolist()\n",
    "for i in range(len(cols)):\n",
    "    cols[i] = cols[i].lower()\n",
    "    cols[i] = cols[i].replace('-', '_')\n",
    "    cols[i] = cols[i].replace('.', '_')\n",
    "    cols[i] = cols[i].strip()\n",
    "X.columns = cols\n",
    "\n",
    "cols = dfy.columns.tolist()\n",
    "for i in range(len(cols)):\n",
    "    cols[i] = cols[i].lower()\n",
    "    cols[i] = cols[i].replace('-', '_')\n",
    "    cols[i] = cols[i].replace('.', '_')\n",
    "    cols[i] = cols[i].strip()\n",
    "dfy.columns = cols\n",
    "\n",
    "# Set target\n",
    "dfy['disease_state'] = dfy['disease_state'].str.replace(' ', '_')\n",
    "dfy.replace({'disease_state': {\"lung_cancer\": 1, \"control\": 0}}, inplace=True)\n",
    "Y = pd.DataFrame(dfy['disease_state'])"
   ]
  },
  {
   "cell_type": "code",
   "execution_count": 342,
   "id": "hazardous-pitch",
   "metadata": {
    "ExecuteTime": {
     "end_time": "2021-06-29T18:20:16.676381Z",
     "start_time": "2021-06-29T18:19:51.972611Z"
    },
    "code_folding": []
   },
   "outputs": [
    {
     "name": "stdout",
     "output_type": "stream",
     "text": [
      "- X size: (120, 54675)\n",
      "\n",
      "- xtrain size: (72, 54675)\n",
      "- xvalid size: (24, 54675)\n",
      "- xtest size: (24, 54675)\n"
     ]
    }
   ],
   "source": [
    "# Split and save data set\n",
    "xtrain, xvalid, xtest, ytrain, yvalid, ytest = tg.split_data(X, Y)\n",
    "tg.save_data(X, xtrain, xvalid, xtest, Y, ytrain, yvalid, ytest, 'dataset/')\n",
    "tg.save_list(X.columns.to_list(), 'dataset/X.columns')\n",
    "tg.save_list(Y.columns.to_list(), 'dataset/Y.columns')\n",
    "\n",
    "# \n",
    "print(\"- X size: {}\\n\".format(X.shape))\n",
    "print(\"- xtrain size: {}\".format(xtrain.shape))\n",
    "print(\"- xvalid size: {}\".format(xvalid.shape))\n",
    "print(\"- xtest size: {}\".format(xtest.shape))"
   ]
  },
  {
   "cell_type": "markdown",
   "id": "answering-mason",
   "metadata": {},
   "source": [
    "## Load Data"
   ]
  },
  {
   "cell_type": "code",
   "execution_count": 3,
   "id": "three-mapping",
   "metadata": {
    "ExecuteTime": {
     "end_time": "2021-06-30T19:28:08.439009Z",
     "start_time": "2021-06-30T19:28:08.434839Z"
    },
    "code_folding": [
     0
    ]
   },
   "outputs": [
    {
     "name": "stdout",
     "output_type": "stream",
     "text": [
      "-Type of precessor to be used: 'cpu'\n"
     ]
    }
   ],
   "source": [
    "# Select type of processor to be used\n",
    "device = torch.device(\"cuda\" if torch.cuda.is_available() else \"cpu\")\n",
    "\n",
    "if device == torch.device('cuda'):\n",
    "    print(\"-Type of precessor to be used: 'gpu'\")\n",
    "    !nvidia-smi\n",
    "else:\n",
    "    print(\"-Type of precessor to be used: 'cpu'\")\n",
    "    \n",
    "# Choose device\n",
    "# torch.cuda.set_device(6)"
   ]
  },
  {
   "cell_type": "code",
   "execution_count": 4,
   "id": "responsible-network",
   "metadata": {
    "ExecuteTime": {
     "end_time": "2021-06-30T19:28:35.865223Z",
     "start_time": "2021-06-30T19:28:10.716813Z"
    }
   },
   "outputs": [],
   "source": [
    "# Read data\n",
    "X, x_train, x_valid, x_test, Y, ytrain, yvalid, ytest = tp.load_data_clf('dataset/')\n",
    "cols_X = tg.read_list('dataset/X.columns')\n",
    "cols_Y = tg.read_list('dataset/Y.columns')"
   ]
  },
  {
   "cell_type": "code",
   "execution_count": 5,
   "id": "weighted-semester",
   "metadata": {
    "ExecuteTime": {
     "end_time": "2021-06-30T19:28:35.950764Z",
     "start_time": "2021-06-30T19:28:35.867355Z"
    }
   },
   "outputs": [],
   "source": [
    "# Normalize data\n",
    "xtrain, xvalid, xtest = tp.normalize_x(x_train, x_valid, x_test)"
   ]
  },
  {
   "cell_type": "code",
   "execution_count": 6,
   "id": "excess-combination",
   "metadata": {
    "ExecuteTime": {
     "end_time": "2021-06-30T19:28:35.956453Z",
     "start_time": "2021-06-30T19:28:35.953308Z"
    }
   },
   "outputs": [
    {
     "name": "stdout",
     "output_type": "stream",
     "text": [
      "(train, valid, test) = (1, 1, 1)\n"
     ]
    }
   ],
   "source": [
    "# Create dataloaders\n",
    "dl_train, dl_valid, dl_test = tp.make_DataLoaders(xtrain, xvalid, xtest, ytrain, yvalid, ytest, \n",
    "                                                  tp.dataset_tabular, batch_size=10000)"
   ]
  },
  {
   "cell_type": "code",
   "execution_count": 7,
   "id": "described-metropolitan",
   "metadata": {
    "ExecuteTime": {
     "end_time": "2021-06-30T19:28:35.962486Z",
     "start_time": "2021-06-30T19:28:35.958680Z"
    },
    "code_folding": []
   },
   "outputs": [],
   "source": [
    "# NN architecture with its corresponding forward method\n",
    "class MyNet(nn.Module):\n",
    "    \n",
    "# .Network architecture\n",
    "    def __init__(self, features, layer_sizes):\n",
    "        super(MyNet, self).__init__()\n",
    "        \n",
    "        self.classifier = nn.Sequential(\n",
    "            nn.Linear(features, layer_sizes[0], bias=True),\n",
    "            nn.ReLU(inplace=True),\n",
    "            nn.Linear(layer_sizes[0], layer_sizes[1], bias=True)\n",
    "        )\n",
    "\n",
    "# .Forward function\n",
    "    def forward(self, x):\n",
    "        x = self.classifier(x)\n",
    "        return x"
   ]
  },
  {
   "cell_type": "markdown",
   "id": "welsh-inclusion",
   "metadata": {},
   "source": [
    "* ## Lockout (L1)"
   ]
  },
  {
   "cell_type": "code",
   "execution_count": 33,
   "id": "affecting-gross",
   "metadata": {
    "ExecuteTime": {
     "end_time": "2021-06-30T23:43:26.989729Z",
     "start_time": "2021-06-30T23:43:26.983494Z"
    }
   },
   "outputs": [
    {
     "data": {
      "text/plain": [
       "MyNet(\n",
       "  (classifier): Sequential(\n",
       "    (0): Linear(in_features=54675, out_features=5, bias=True)\n",
       "    (1): ReLU(inplace=True)\n",
       "    (2): Linear(in_features=5, out_features=2, bias=True)\n",
       "  )\n",
       ")"
      ]
     },
     "execution_count": 33,
     "metadata": {},
     "output_type": "execute_result"
    }
   ],
   "source": [
    "# Initialize forward model\n",
    "n_features = len(cols_X)\n",
    "n_layers = [5, 2]\n",
    "model = MyNet(n_features, n_layers)\n",
    "model.eval()"
   ]
  },
  {
   "cell_type": "code",
   "execution_count": 13,
   "id": "blind-thing",
   "metadata": {
    "ExecuteTime": {
     "end_time": "2021-06-30T19:36:19.733145Z",
     "start_time": "2021-06-30T19:36:19.724062Z"
    },
    "code_folding": []
   },
   "outputs": [],
   "source": [
    "# TRAIN WITH LOCKDOWN\n",
    "model = MyNet(n_features, n_layers)\n",
    "model.load_state_dict(torch.load('./model_forward_valid_min.pth'))\n",
    "model.eval()\n",
    "\n",
    "regul_type = [('classifier.0.weight', 1), ('classifier.2.weight', 1)]\n",
    "regul_path = [('classifier.0.weight', True), ('classifier.2.weight', False)]\n",
    "\n",
    "lockout = ld.lockdown(model, lr=1e-2, \n",
    "                      regul_type=regul_type, \n",
    "                      regul_path=regul_path, \n",
    "                      loss_type=2, tol_grads=1e-2)"
   ]
  },
  {
   "cell_type": "code",
   "execution_count": 14,
   "id": "incoming-seafood",
   "metadata": {
    "ExecuteTime": {
     "end_time": "2021-06-30T23:12:53.759243Z",
     "start_time": "2021-06-30T19:36:21.391867Z"
    }
   },
   "outputs": [
    {
     "name": "stdout",
     "output_type": "stream",
     "text": [
      "{'classifier.0.weight': tensor(597.2031), 'classifier.2.weight': tensor(2.2559)} {'classifier.0.weight': tensor(0.)}\n"
     ]
    },
    {
     "data": {
      "application/vnd.jupyter.widget-view+json": {
       "model_id": "be9d0c2799474cc59ca96dfef34ae9af",
       "version_major": 2,
       "version_minor": 0
      },
      "text/plain": [
       "Epochs1:   0%|          | 0/5000 [00:00<?, ?it/s]"
      ]
     },
     "metadata": {},
     "output_type": "display_data"
    },
    {
     "name": "stdout",
     "output_type": "stream",
     "text": [
      "Path 1: Early stopping = True\n",
      "        Last iteration = 44\n"
     ]
    },
    {
     "data": {
      "application/vnd.jupyter.widget-view+json": {
       "model_id": "ad08847439c047708efb5c0aa12a5059",
       "version_major": 2,
       "version_minor": 0
      },
      "text/plain": [
       "Epochs2:   0%|          | 0/100000 [00:00<?, ?it/s]"
      ]
     },
     "metadata": {},
     "output_type": "display_data"
    },
    {
     "name": "stdout",
     "output_type": "stream",
     "text": [
      "Best validation at iteration = 89955\n"
     ]
    }
   ],
   "source": [
    "lockout.train(dl_train, dl_valid, dl_test, epochs=5000, early_stop=15, tol_loss=5e-5, epochs2=100000,\n",
    "              train_how=\"decrease_t0\")"
   ]
  },
  {
   "cell_type": "code",
   "execution_count": 35,
   "id": "moved-syracuse",
   "metadata": {
    "ExecuteTime": {
     "end_time": "2021-06-30T23:43:40.644727Z",
     "start_time": "2021-06-30T23:43:38.817713Z"
    }
   },
   "outputs": [],
   "source": [
    "# Save model, data\n",
    "tp.save_model(lockout.model_best_valid, 'model_lockout_valid_min_l1.pth')\n",
    "tp.save_model(lockout.model_last, 'model_lockout_last_l1.pth')\n",
    "lockout.path_data.to_csv('data_lockout_l1.csv')"
   ]
  },
  {
   "cell_type": "code",
   "execution_count": 38,
   "id": "organic-recovery",
   "metadata": {
    "ExecuteTime": {
     "end_time": "2021-06-30T23:44:01.762082Z",
     "start_time": "2021-06-30T23:44:01.350188Z"
    }
   },
   "outputs": [
    {
     "data": {
      "image/png": "[encoded data removed]",
      "text/plain": [
       "<Figure size 576x432 with 1 Axes>"
      ]
     },
     "metadata": {
      "needs_background": "light"
     },
     "output_type": "display_data"
    }
   ],
   "source": [
    "# Relevant plots\n",
    "df = pd.read_csv('data_lockout_l1.csv')\n",
    "df.plot('iteration', y=['t0_calc__classifier.0.weight', 't0_used__classifier.0.weight'], \n",
    "        figsize=(8,6))\n",
    "plt.show()"
   ]
  },
  {
   "cell_type": "code",
   "execution_count": 47,
   "id": "opponent-architecture",
   "metadata": {
    "ExecuteTime": {
     "end_time": "2021-07-01T01:02:27.962003Z",
     "start_time": "2021-07-01T01:02:27.182166Z"
    }
   },
   "outputs": [],
   "source": [
    "# L1\n",
    "nn = int(2e2)\n",
    "data_tmp = pd.read_csv('data_lockout_l1.csv', index_col=0)\n",
    "data_lockout_l1 = pd.DataFrame(columns=['sparcity', 'train_accu', 'valid_accu', 'test_accu', 't0_used'])\n",
    "xgrid, step = np.linspace(0., 1., num=nn,endpoint=True, retstep=True)\n",
    "for x in xgrid:\n",
    "    msk = (data_tmp['sparcity__classifier.0.weight'] >= x) &    \\\n",
    "          (data_tmp['sparcity__classifier.0.weight'] < x+step)\n",
    "    train_accu = data_tmp.loc[msk, 'train_accu'].mean()\n",
    "    valid_accu = data_tmp.loc[msk, 'valid_accu'].mean()\n",
    "    test_accu  = data_tmp.loc[msk, 'test_accu'].mean()\n",
    "    t0_used = data_tmp.loc[msk, 't0_used__classifier.0.weight'].mean()\n",
    "    data_lockout_l1 = data_lockout_l1.append({'sparcity': x, \n",
    "                                             'train_accu': train_accu, \n",
    "                                             'valid_accu': valid_accu, \n",
    "                                             'test_accu': test_accu, \n",
    "                                             't0_used': t0_used}, ignore_index=True)\n",
    "data_lockout_l1.dropna(axis='index', how='any', inplace=True)"
   ]
  },
  {
   "cell_type": "code",
   "execution_count": 48,
   "id": "brown-newsletter",
   "metadata": {
    "ExecuteTime": {
     "end_time": "2021-07-01T01:02:30.824508Z",
     "start_time": "2021-07-01T01:02:30.667387Z"
    }
   },
   "outputs": [
    {
     "data": {
      "image/png": "[encoded data removed]",
      "text/plain": [
       "<Figure size 648x432 with 1 Axes>"
      ]
     },
     "metadata": {
      "needs_background": "light"
     },
     "output_type": "display_data"
    }
   ],
   "source": [
    "# L1\n",
    "fig, axes = plt.subplots(figsize=(9,6))\n",
    "\n",
    "axes.plot(n_features*data_lockout_l1['sparcity'], \n",
    "          1.0 - data_lockout_l1['valid_accu'], \n",
    "          \"-\", linewidth=4, markersize=10, label=\"L1\")\n",
    "\n",
    "axes.grid(True, zorder=2)\n",
    "axes.set_xlabel(\"number of selected features\", fontsize=16)\n",
    "axes.set_ylabel(\"Validation Error\", fontsize=16)\n",
    "axes.tick_params(axis='both', which='major', labelsize=14)\n",
    "axes.legend()\n",
    "# axes.set_xlim(1.0-1e-4,1.0)\n",
    "plt.show()"
   ]
  }
 ],
 "metadata": {
  "kernelspec": {
   "display_name": "Python 3",
   "language": "python",
   "name": "python3"
  },
  "language_info": {
   "codemirror_mode": {
    "name": "ipython",
    "version": 3
   },
   "file_extension": ".py",
   "mimetype": "text/x-python",
   "name": "python",
   "nbconvert_exporter": "python",
   "pygments_lexer": "ipython3",
   "version": "3.8.3"
  },
  "toc": {
   "base_numbering": 1,
   "nav_menu": {},
   "number_sections": true,
   "sideBar": true,
   "skip_h1_title": true,
   "title_cell": "Table of Contents",
   "title_sidebar": "Contents",
   "toc_cell": false,
   "toc_position": {
    "height": "calc(100% - 180px)",
    "left": "10px",
    "top": "150px",
    "width": "341.333px"
   },
   "toc_section_display": true,
   "toc_window_display": true
  }
 },
 "nbformat": 4,
 "nbformat_minor": 5
}
