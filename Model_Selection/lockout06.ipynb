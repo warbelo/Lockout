{
 "cells": [
  {
   "cell_type": "markdown",
   "id": "elegant-cinema",
   "metadata": {},
   "source": [
    "# Model Selection: Dataset 6"
   ]
  },
  {
   "cell_type": "code",
   "execution_count": 339,
   "id": "higher-documentary",
   "metadata": {
    "ExecuteTime": {
     "end_time": "2021-06-30T08:19:51.120457Z",
     "start_time": "2021-06-30T08:19:51.114511Z"
    },
    "code_folding": [
     0
    ]
   },
   "outputs": [],
   "source": [
    "# Import libraries and modules\n",
    "import numpy as np\n",
    "import pandas as pd\n",
    "\n",
    "import xgboost as xgb\n",
    "from xgboost import plot_tree\n",
    "\n",
    "from sklearn.metrics import r2_score, classification_report, confusion_matrix,           \\\n",
    "                            roc_curve, roc_auc_score, plot_confusion_matrix, f1_score,   \\\n",
    "                            balanced_accuracy_score, accuracy_score, mean_squared_error, \\\n",
    "                            log_loss\n",
    "from sklearn.datasets import make_friedman1\n",
    "from sklearn.model_selection import train_test_split, GridSearchCV\n",
    "from sklearn.linear_model import LogisticRegression, LinearRegression, SGDClassifier,    \\\n",
    "                                 Lasso, lasso_path\n",
    "from sklearn.preprocessing import StandardScaler, LabelBinarizer\n",
    "from sklearn.impute import SimpleImputer\n",
    "from sklearn.pipeline import Pipeline\n",
    "from sklearn_pandas import DataFrameMapper\n",
    "\n",
    "import scipy\n",
    "from scipy import stats\n",
    "\n",
    "import os\n",
    "import shutil\n",
    "from pathlib import Path\n",
    "\n",
    "import matplotlib as mpl\n",
    "import matplotlib.pyplot as plt\n",
    "import matplotlib.cm as cm\n",
    "\n",
    "import albumentations as A\n",
    "from albumentations.pytorch import ToTensorV2\n",
    "import cv2\n",
    "import itertools\n",
    "\n",
    "import time\n",
    "import tqdm\n",
    "import copy\n",
    "\n",
    "import torch\n",
    "import torchvision\n",
    "import torchvision.transforms as transforms\n",
    "import torch.nn as nn\n",
    "import torch.nn.functional as F\n",
    "import torch.optim as optim\n",
    "import torchvision.models as models\n",
    "from torch.utils.data import Dataset\n",
    "\n",
    "import PIL\n",
    "import joblib\n",
    "import json\n",
    "\n",
    "# import mysgd"
   ]
  },
  {
   "cell_type": "code",
   "execution_count": 340,
   "id": "presidential-education",
   "metadata": {
    "ExecuteTime": {
     "end_time": "2021-06-30T08:19:53.153394Z",
     "start_time": "2021-06-30T08:19:53.138791Z"
    },
    "code_folding": [
     0
    ]
   },
   "outputs": [
    {
     "data": {
      "text/plain": [
       "<module 'lockdown' from '/Users/arbelogonzalezw/Documents/ML_WORK/LIBS/Lockdown/lockdown.py'>"
      ]
     },
     "execution_count": 340,
     "metadata": {},
     "output_type": "execute_result"
    }
   ],
   "source": [
    "# Import user-defined modules\n",
    "import sys\n",
    "import imp\n",
    "sys.path.append('/Users/arbelogonzalezw/Documents/ML_WORK/LIBS/Lockdown')\n",
    "import tools_general as tg\n",
    "import tools_pytorch as tp\n",
    "import lockdown      as ld\n",
    "imp.reload(tg)\n",
    "imp.reload(tp)\n",
    "imp.reload(ld)"
   ]
  },
  {
   "cell_type": "markdown",
   "id": "dominican-paris",
   "metadata": {},
   "source": [
    "## Read, clean, and save data"
   ]
  },
  {
   "cell_type": "code",
   "execution_count": 19,
   "id": "medium-latvia",
   "metadata": {
    "ExecuteTime": {
     "end_time": "2021-06-25T18:22:58.941776Z",
     "start_time": "2021-06-25T18:22:57.966631Z"
    },
    "code_folding": []
   },
   "outputs": [],
   "source": [
    "# Read X and Y\n",
    "df1 = pd.read_csv('dataset/arcene_train.data',\n",
    "                  sep='\\s+',\n",
    "                  header=None, \n",
    "                  index_col=False)\n",
    "df2 = pd.read_csv('dataset/arcene_valid.data',\n",
    "                  sep='\\s+',\n",
    "                  header=None, \n",
    "                  index_col=False)\n",
    "X = df1.append(df2, ignore_index=True)\n",
    "X = X.astype(float)\n",
    "\n",
    "# \n",
    "y1 = pd.read_csv('dataset/arcene_train.labels',\n",
    "                  sep='\\s+',\n",
    "                  header=None, \n",
    "                  index_col=False)\n",
    "y2 = pd.read_csv('dataset/arcene_valid.labels',\n",
    "                  sep='\\s+',\n",
    "                  header=None, \n",
    "                  index_col=False)\n",
    "Y = y1.append(y2, ignore_index=True)\n",
    "Y.replace({-1: 0}, inplace=True)\n",
    "\n",
    "X = X.replace('?', np.nan)\n",
    "Y = Y.replace('?', np.nan)\n",
    "\n",
    "cols_all = X.columns.astype(str).tolist()\n",
    "X.columns = cols_all\n",
    "Y.columns = ['target']"
   ]
  },
  {
   "cell_type": "code",
   "execution_count": 20,
   "id": "hazardous-pitch",
   "metadata": {
    "ExecuteTime": {
     "end_time": "2021-06-25T18:23:13.197238Z",
     "start_time": "2021-06-25T18:23:10.734762Z"
    },
    "code_folding": []
   },
   "outputs": [
    {
     "name": "stdout",
     "output_type": "stream",
     "text": [
      "- X size: (200, 10000)\n",
      "\n",
      "- xtrain size: (120, 10000)\n",
      "- xvalid size: (40, 10000)\n",
      "- xtest size: (40, 10000)\n"
     ]
    }
   ],
   "source": [
    "# Split and save data set\n",
    "xtrain, xvalid, xtest, ytrain, yvalid, ytest = tg.split_data(X, Y, \n",
    "                                                             test_size1=0.20, test_size2=0.25, \n",
    "                                                             seed1=0, seed2=42)\n",
    "tg.save_data(X, xtrain, xvalid, xtest, Y, ytrain, yvalid, ytest, 'dataset/')\n",
    "tg.save_list(X.columns.to_list(), 'dataset/X.columns')\n",
    "tg.save_list(Y.columns.to_list(), 'dataset/Y.columns')\n",
    "\n",
    "# \n",
    "print(\"- X size: {}\\n\".format(X.shape))\n",
    "print(\"- xtrain size: {}\".format(xtrain.shape))\n",
    "print(\"- xvalid size: {}\".format(xvalid.shape))\n",
    "print(\"- xtest size: {}\".format(xtest.shape))"
   ]
  },
  {
   "cell_type": "code",
   "execution_count": 6,
   "id": "three-mapping",
   "metadata": {
    "ExecuteTime": {
     "end_time": "2021-06-25T18:09:21.316901Z",
     "start_time": "2021-06-25T18:09:21.314055Z"
    },
    "code_folding": [
     0
    ]
   },
   "outputs": [
    {
     "name": "stdout",
     "output_type": "stream",
     "text": [
      "-Type of precessor to be used: 'cpu'\n"
     ]
    }
   ],
   "source": [
    "# Select type of processor to be used\n",
    "device = torch.device(\"cuda\" if torch.cuda.is_available() else \"cpu\")\n",
    "\n",
    "if device == torch.device('cuda'):\n",
    "    print(\"-Type of precessor to be used: 'gpu'\")\n",
    "    !nvidia-smi\n",
    "else:\n",
    "    print(\"-Type of precessor to be used: 'cpu'\")\n",
    "    \n",
    "# Choose device\n",
    "# torch.cuda.set_device(6)"
   ]
  },
  {
   "cell_type": "code",
   "execution_count": 21,
   "id": "responsible-network",
   "metadata": {
    "ExecuteTime": {
     "end_time": "2021-06-25T18:23:19.798151Z",
     "start_time": "2021-06-25T18:23:17.855535Z"
    },
    "code_folding": []
   },
   "outputs": [],
   "source": [
    "# Read data\n",
    "X, x_train, x_valid, x_test, Y, ytrain, yvalid, ytest = tp.load_data_clf('dataset/')\n",
    "cols_X = tg.read_list('dataset/X.columns')\n",
    "cols_Y = tg.read_list('dataset/Y.columns')"
   ]
  },
  {
   "cell_type": "code",
   "execution_count": 22,
   "id": "weighted-semester",
   "metadata": {
    "ExecuteTime": {
     "end_time": "2021-06-25T18:23:22.721851Z",
     "start_time": "2021-06-25T18:23:22.703555Z"
    }
   },
   "outputs": [],
   "source": [
    "# Normalize data\n",
    "xtrain, xvalid, xtest = tp.normalize_x(x_train, x_valid, x_test)"
   ]
  },
  {
   "cell_type": "code",
   "execution_count": 23,
   "id": "excess-combination",
   "metadata": {
    "ExecuteTime": {
     "end_time": "2021-06-25T18:23:24.730656Z",
     "start_time": "2021-06-25T18:23:24.728582Z"
    }
   },
   "outputs": [
    {
     "name": "stdout",
     "output_type": "stream",
     "text": [
      "(train, valid, test) = (1, 1, 1)\n"
     ]
    }
   ],
   "source": [
    "# Create dataloaders\n",
    "dl_train, dl_valid, dl_test = tp.make_DataLoaders(xtrain, xvalid, xtest, ytrain, yvalid, ytest, \n",
    "                                                  tp.dataset_tabular, batch_size=10000)"
   ]
  },
  {
   "cell_type": "code",
   "execution_count": 24,
   "id": "described-metropolitan",
   "metadata": {
    "ExecuteTime": {
     "end_time": "2021-06-25T18:23:29.839489Z",
     "start_time": "2021-06-25T18:23:29.835960Z"
    },
    "code_folding": []
   },
   "outputs": [],
   "source": [
    "# NN architecture with its corresponding forward method\n",
    "class MyNet(nn.Module):\n",
    "    \n",
    "# .Network architecture\n",
    "    def __init__(self, features, layer_sizes):\n",
    "        super(MyNet, self).__init__()\n",
    "        \n",
    "        self.classifier = nn.Sequential(\n",
    "            nn.Linear(features, layer_sizes[0], bias=True),\n",
    "            nn.ReLU(inplace=True),\n",
    "            nn.Linear(layer_sizes[0], layer_sizes[1], bias=True)        )\n",
    "\n",
    "# .Forward function\n",
    "    def forward(self, x):\n",
    "        x = self.classifier(x)\n",
    "        return x"
   ]
  },
  {
   "cell_type": "code",
   "execution_count": 134,
   "id": "ready-ground",
   "metadata": {
    "ExecuteTime": {
     "end_time": "2021-05-12T17:19:00.952862Z",
     "start_time": "2021-05-12T17:19:00.948732Z"
    },
    "code_folding": [
     0
    ]
   },
   "outputs": [],
   "source": [
    "# NN architecture with its corresponding forward method\n",
    "class MyNet(nn.Module):\n",
    "    \n",
    "# .Network architecture\n",
    "    def __init__(self, features, layer_sizes):\n",
    "        super(MyNet, self).__init__()\n",
    "        \n",
    "        self.classifier = nn.Sequential(\n",
    "            nn.Linear(features, layer_sizes[0], bias=True),\n",
    "            nn.ReLU(inplace=True),\n",
    "            nn.Linear(layer_sizes[0], layer_sizes[1], bias=True),\n",
    "            nn.ReLU(inplace=True),\n",
    "            nn.Linear(layer_sizes[1], layer_sizes[2], bias=True)\n",
    "        )\n",
    "\n",
    "# .Forward function\n",
    "    def forward(self, x):\n",
    "        x = self.classifier(x)\n",
    "        return x"
   ]
  },
  {
   "cell_type": "markdown",
   "id": "powerful-choir",
   "metadata": {},
   "source": [
    "## Forward"
   ]
  },
  {
   "cell_type": "code",
   "execution_count": 367,
   "id": "revised-virginia",
   "metadata": {
    "ExecuteTime": {
     "end_time": "2021-06-30T16:36:18.475476Z",
     "start_time": "2021-06-30T16:36:18.470486Z"
    },
    "code_folding": []
   },
   "outputs": [
    {
     "data": {
      "text/plain": [
       "MyNet(\n",
       "  (classifier): Sequential(\n",
       "    (0): Linear(in_features=10000, out_features=5, bias=True)\n",
       "    (1): ReLU(inplace=True)\n",
       "    (2): Linear(in_features=5, out_features=2, bias=True)\n",
       "  )\n",
       ")"
      ]
     },
     "execution_count": 367,
     "metadata": {},
     "output_type": "execute_result"
    }
   ],
   "source": [
    "# Load best forward model\n",
    "n_features = len(cols_X)\n",
    "n_layers = [5, 2]\n",
    "model = MyNet(n_features, n_layers)\n",
    "model.eval()"
   ]
  },
  {
   "cell_type": "code",
   "execution_count": 369,
   "id": "catholic-green",
   "metadata": {
    "ExecuteTime": {
     "end_time": "2021-06-30T16:38:10.849156Z",
     "start_time": "2021-06-30T16:37:31.768217Z"
    }
   },
   "outputs": [
    {
     "data": {
      "application/vnd.jupyter.widget-view+json": {
       "model_id": "f9846f5dd44540aca6ed06cee86e3a47",
       "version_major": 2,
       "version_minor": 0
      },
      "text/plain": [
       "Epochs:   0%|          | 0/10000 [00:00<?, ?it/s]"
      ]
     },
     "metadata": {},
     "output_type": "display_data"
    },
    {
     "name": "stdout",
     "output_type": "stream",
     "text": [
      "Early stopping = True\n",
      "Last iteration = 2062\n",
      "Best validation at iteration = 515\n"
     ]
    },
    {
     "data": {
      "image/png": "[encoded data removed]",
      "text/plain": [
       "<Figure size 576x432 with 1 Axes>"
      ]
     },
     "metadata": {
      "needs_background": "light"
     },
     "output_type": "display_data"
    }
   ],
   "source": [
    "# TRAIN FORWARD\n",
    "lockdown_unconstraint = ld.lockdown(model, lr=1e-3, loss_type=2, optim_id=1)\n",
    "\n",
    "lockdown_unconstraint.train(dl_train, dl_valid, epochs=10000, early_stop=20, tol_loss=1e-5,\n",
    "                            train_how=\"unconstraint\", reset_weights=True)\n",
    "\n",
    "lockdown_unconstraint.path_data.plot(x=\"iteration\", \n",
    "                                     y=['train_loss', 'valid_loss'], \n",
    "                                     figsize=(8,6))\n",
    "plt.show()"
   ]
  },
  {
   "cell_type": "code",
   "execution_count": 370,
   "id": "municipal-martial",
   "metadata": {
    "ExecuteTime": {
     "end_time": "2021-06-30T16:41:34.125091Z",
     "start_time": "2021-06-30T16:41:34.102589Z"
    },
    "code_folding": []
   },
   "outputs": [],
   "source": [
    "# Save model, data\n",
    "tp.save_model(lockdown_unconstraint.model_best_valid, 'model_forward_valid_min.pth')\n",
    "tp.save_model(lockdown_unconstraint.model_last, 'model_forward_last.pth')\n",
    "lockdown_unconstraint.path_data.to_csv('data_forward.csv')"
   ]
  },
  {
   "cell_type": "code",
   "execution_count": 372,
   "id": "front-aging",
   "metadata": {
    "ExecuteTime": {
     "end_time": "2021-06-30T16:42:09.480607Z",
     "start_time": "2021-06-30T16:42:09.333568Z"
    },
    "code_folding": [],
    "scrolled": false
   },
   "outputs": [
    {
     "data": {
      "image/png": "[encoded data removed]",
      "text/plain": [
       "<Figure size 1080x432 with 1 Axes>"
      ]
     },
     "metadata": {
      "needs_background": "light"
     },
     "output_type": "display_data"
    },
    {
     "name": "stdout",
     "output_type": "stream",
     "text": [
      "Non zero features: 10000\n"
     ]
    }
   ],
   "source": [
    "# Weight importance (layer 1)\n",
    "mm = MyNet(n_features, n_layers)\n",
    "mm.load_state_dict(torch.load('./model_forward_valid_min.pth'))\n",
    "mm.eval()\n",
    "\n",
    "importance = tp.get_features_importance(mm, 'classifier.0.weight')\n",
    "\n",
    "fig, axes = plt.subplots(figsize=(15,6))\n",
    "x_pos = np.arange(len(importance))\n",
    "axes.fill_between(x_pos, importance, zorder=2)\n",
    "# axes.set_xticks(x_pos)\n",
    "# axes.set_xticklabels(feature_importance_sorted1.index[idx], rotation='vertical')\n",
    "axes.set_xlim(-1,len(x_pos))\n",
    "axes.set_ylabel('Performance')\n",
    "axes.set_title('Feature Importance (Forward): layer 1')\n",
    "axes.grid(True, zorder=1)\n",
    "\n",
    "plt.tight_layout()\n",
    "# plt.savefig('feature_importance_forward.pdf', bbox_inches='tight')\n",
    "plt.show()\n",
    "print(\"Non zero features: {}\".format(len(importance)))"
   ]
  },
  {
   "cell_type": "markdown",
   "id": "alternate-immune",
   "metadata": {},
   "source": [
    "## Lockdown: 1 hidden-layer (5)"
   ]
  },
  {
   "cell_type": "code",
   "execution_count": 103,
   "id": "recorded-softball",
   "metadata": {
    "ExecuteTime": {
     "end_time": "2021-06-25T22:08:38.081497Z",
     "start_time": "2021-06-25T22:08:38.076207Z"
    }
   },
   "outputs": [],
   "source": [
    "# TRAIN WITH LOCKDOWN\n",
    "model = MyNet(n_features, n_layers)\n",
    "model.load_state_dict(torch.load('./model_forward_valid_min.pth'))\n",
    "model.eval()\n",
    "\n",
    "regul_type = [('classifier.0.weight', 1)]\n",
    "regul_path = [('classifier.0.weight', True)]\n",
    "\n",
    "lockdown_clf2 = ld.lockdown(model, lr=1e-3, \n",
    "                            regul_type=regul_type,\n",
    "                            regul_path=regul_path, \n",
    "                            loss_type=2, tol_grads=1e-2)"
   ]
  },
  {
   "cell_type": "code",
   "execution_count": 104,
   "id": "alternative-thomas",
   "metadata": {
    "ExecuteTime": {
     "end_time": "2021-06-25T23:28:35.195587Z",
     "start_time": "2021-06-25T22:08:40.150128Z"
    },
    "scrolled": true
   },
   "outputs": [
    {
     "data": {
      "application/vnd.jupyter.widget-view+json": {
       "model_id": "",
       "version_major": 2,
       "version_minor": 0
      },
      "text/plain": [
       "Epochs1:   0%|          | 0/150000 [00:00<?, ?it/s]"
      ]
     },
     "metadata": {},
     "output_type": "display_data"
    },
    {
     "name": "stdout",
     "output_type": "stream",
     "text": [
      "Path 1: Early stopping = True\n",
      "        Last iteration = 6048\n"
     ]
    },
    {
     "data": {
      "application/vnd.jupyter.widget-view+json": {
       "model_id": "",
       "version_major": 2,
       "version_minor": 0
      },
      "text/plain": [
       "Epochs2:   0%|          | 0/150000 [00:00<?, ?it/s]"
      ]
     },
     "metadata": {},
     "output_type": "display_data"
    },
    {
     "name": "stdout",
     "output_type": "stream",
     "text": [
      "Best validation at iteration = 3\n"
     ]
    }
   ],
   "source": [
    "lockdown_clf2.train(dl_train, dl_valid, dl_test, epochs=150000, early_stop=10, tol_loss=1e-4,\n",
    "                    train_how=\"decrease_t0\")"
   ]
  },
  {
   "cell_type": "code",
   "execution_count": 105,
   "id": "acting-camera",
   "metadata": {
    "ExecuteTime": {
     "end_time": "2021-06-25T23:28:57.037460Z",
     "start_time": "2021-06-25T23:28:57.027582Z"
    }
   },
   "outputs": [
    {
     "data": {
      "text/html": [
       "<div>\n",
       "<style scoped>\n",
       "    .dataframe tbody tr th:only-of-type {\n",
       "        vertical-align: middle;\n",
       "    }\n",
       "\n",
       "    .dataframe tbody tr th {\n",
       "        vertical-align: top;\n",
       "    }\n",
       "\n",
       "    .dataframe thead th {\n",
       "        text-align: right;\n",
       "    }\n",
       "</style>\n",
       "<table border=\"1\" class=\"dataframe\">\n",
       "  <thead>\n",
       "    <tr style=\"text-align: right;\">\n",
       "      <th></th>\n",
       "      <th>iteration</th>\n",
       "      <th>sparcity__classifier.0.weight</th>\n",
       "      <th>t0_calc__classifier.0.weight</th>\n",
       "      <th>t0_used__classifier.0.weight</th>\n",
       "      <th>train_loss</th>\n",
       "      <th>valid_loss</th>\n",
       "      <th>test_loss</th>\n",
       "      <th>train_accu</th>\n",
       "      <th>valid_accu</th>\n",
       "      <th>test_accu</th>\n",
       "    </tr>\n",
       "  </thead>\n",
       "  <tbody>\n",
       "    <tr>\n",
       "      <th>0</th>\n",
       "      <td>1</td>\n",
       "      <td>1.0000</td>\n",
       "      <td>251.409180</td>\n",
       "      <td>251.409180</td>\n",
       "      <td>0.326859</td>\n",
       "      <td>0.626456</td>\n",
       "      <td>0.504117</td>\n",
       "      <td>0.933333</td>\n",
       "      <td>0.700</td>\n",
       "      <td>0.700</td>\n",
       "    </tr>\n",
       "    <tr>\n",
       "      <th>1</th>\n",
       "      <td>2</td>\n",
       "      <td>1.0000</td>\n",
       "      <td>251.409271</td>\n",
       "      <td>251.409180</td>\n",
       "      <td>0.326195</td>\n",
       "      <td>0.630179</td>\n",
       "      <td>0.505301</td>\n",
       "      <td>0.933333</td>\n",
       "      <td>0.700</td>\n",
       "      <td>0.700</td>\n",
       "    </tr>\n",
       "    <tr>\n",
       "      <th>2</th>\n",
       "      <td>3</td>\n",
       "      <td>1.0000</td>\n",
       "      <td>251.409103</td>\n",
       "      <td>251.409180</td>\n",
       "      <td>0.324612</td>\n",
       "      <td>0.624759</td>\n",
       "      <td>0.503530</td>\n",
       "      <td>0.933333</td>\n",
       "      <td>0.700</td>\n",
       "      <td>0.700</td>\n",
       "    </tr>\n",
       "    <tr>\n",
       "      <th>3</th>\n",
       "      <td>4</td>\n",
       "      <td>1.0000</td>\n",
       "      <td>251.409164</td>\n",
       "      <td>251.409180</td>\n",
       "      <td>0.323635</td>\n",
       "      <td>0.628590</td>\n",
       "      <td>0.504457</td>\n",
       "      <td>0.933333</td>\n",
       "      <td>0.700</td>\n",
       "      <td>0.700</td>\n",
       "    </tr>\n",
       "    <tr>\n",
       "      <th>4</th>\n",
       "      <td>5</td>\n",
       "      <td>1.0000</td>\n",
       "      <td>251.409119</td>\n",
       "      <td>251.409180</td>\n",
       "      <td>0.321977</td>\n",
       "      <td>0.627752</td>\n",
       "      <td>0.503214</td>\n",
       "      <td>0.933333</td>\n",
       "      <td>0.700</td>\n",
       "      <td>0.700</td>\n",
       "    </tr>\n",
       "    <tr>\n",
       "      <th>...</th>\n",
       "      <td>...</td>\n",
       "      <td>...</td>\n",
       "      <td>...</td>\n",
       "      <td>...</td>\n",
       "      <td>...</td>\n",
       "      <td>...</td>\n",
       "      <td>...</td>\n",
       "      <td>...</td>\n",
       "      <td>...</td>\n",
       "      <td>...</td>\n",
       "    </tr>\n",
       "    <tr>\n",
       "      <th>156042</th>\n",
       "      <td>156043</td>\n",
       "      <td>0.0066</td>\n",
       "      <td>2.025780</td>\n",
       "      <td>0.008377</td>\n",
       "      <td>0.676939</td>\n",
       "      <td>0.740310</td>\n",
       "      <td>0.677703</td>\n",
       "      <td>0.566667</td>\n",
       "      <td>0.575</td>\n",
       "      <td>0.525</td>\n",
       "    </tr>\n",
       "    <tr>\n",
       "      <th>156043</th>\n",
       "      <td>156044</td>\n",
       "      <td>0.0066</td>\n",
       "      <td>2.025720</td>\n",
       "      <td>0.006699</td>\n",
       "      <td>0.676939</td>\n",
       "      <td>0.740307</td>\n",
       "      <td>0.677704</td>\n",
       "      <td>0.566667</td>\n",
       "      <td>0.575</td>\n",
       "      <td>0.525</td>\n",
       "    </tr>\n",
       "    <tr>\n",
       "      <th>156044</th>\n",
       "      <td>156045</td>\n",
       "      <td>0.0066</td>\n",
       "      <td>2.025659</td>\n",
       "      <td>0.005020</td>\n",
       "      <td>0.676939</td>\n",
       "      <td>0.740304</td>\n",
       "      <td>0.677705</td>\n",
       "      <td>0.566667</td>\n",
       "      <td>0.575</td>\n",
       "      <td>0.525</td>\n",
       "    </tr>\n",
       "    <tr>\n",
       "      <th>156045</th>\n",
       "      <td>156046</td>\n",
       "      <td>0.0066</td>\n",
       "      <td>2.025598</td>\n",
       "      <td>0.003342</td>\n",
       "      <td>0.676939</td>\n",
       "      <td>0.740301</td>\n",
       "      <td>0.677706</td>\n",
       "      <td>0.566667</td>\n",
       "      <td>0.575</td>\n",
       "      <td>0.525</td>\n",
       "    </tr>\n",
       "    <tr>\n",
       "      <th>156046</th>\n",
       "      <td>156047</td>\n",
       "      <td>0.0066</td>\n",
       "      <td>2.025537</td>\n",
       "      <td>0.001663</td>\n",
       "      <td>0.676939</td>\n",
       "      <td>0.740298</td>\n",
       "      <td>0.677707</td>\n",
       "      <td>0.566667</td>\n",
       "      <td>0.575</td>\n",
       "      <td>0.525</td>\n",
       "    </tr>\n",
       "  </tbody>\n",
       "</table>\n",
       "<p>156047 rows × 10 columns</p>\n",
       "</div>"
      ],
      "text/plain": [
       "       iteration  sparcity__classifier.0.weight  t0_calc__classifier.0.weight  \\\n",
       "0              1                         1.0000                    251.409180   \n",
       "1              2                         1.0000                    251.409271   \n",
       "2              3                         1.0000                    251.409103   \n",
       "3              4                         1.0000                    251.409164   \n",
       "4              5                         1.0000                    251.409119   \n",
       "...          ...                            ...                           ...   \n",
       "156042    156043                         0.0066                      2.025780   \n",
       "156043    156044                         0.0066                      2.025720   \n",
       "156044    156045                         0.0066                      2.025659   \n",
       "156045    156046                         0.0066                      2.025598   \n",
       "156046    156047                         0.0066                      2.025537   \n",
       "\n",
       "        t0_used__classifier.0.weight  train_loss  valid_loss  test_loss  \\\n",
       "0                         251.409180    0.326859    0.626456   0.504117   \n",
       "1                         251.409180    0.326195    0.630179   0.505301   \n",
       "2                         251.409180    0.324612    0.624759   0.503530   \n",
       "3                         251.409180    0.323635    0.628590   0.504457   \n",
       "4                         251.409180    0.321977    0.627752   0.503214   \n",
       "...                              ...         ...         ...        ...   \n",
       "156042                      0.008377    0.676939    0.740310   0.677703   \n",
       "156043                      0.006699    0.676939    0.740307   0.677704   \n",
       "156044                      0.005020    0.676939    0.740304   0.677705   \n",
       "156045                      0.003342    0.676939    0.740301   0.677706   \n",
       "156046                      0.001663    0.676939    0.740298   0.677707   \n",
       "\n",
       "        train_accu  valid_accu  test_accu  \n",
       "0         0.933333       0.700      0.700  \n",
       "1         0.933333       0.700      0.700  \n",
       "2         0.933333       0.700      0.700  \n",
       "3         0.933333       0.700      0.700  \n",
       "4         0.933333       0.700      0.700  \n",
       "...            ...         ...        ...  \n",
       "156042    0.566667       0.575      0.525  \n",
       "156043    0.566667       0.575      0.525  \n",
       "156044    0.566667       0.575      0.525  \n",
       "156045    0.566667       0.575      0.525  \n",
       "156046    0.566667       0.575      0.525  \n",
       "\n",
       "[156047 rows x 10 columns]"
      ]
     },
     "execution_count": 105,
     "metadata": {},
     "output_type": "execute_result"
    }
   ],
   "source": [
    "lockdown_clf2.path_data"
   ]
  },
  {
   "cell_type": "code",
   "execution_count": 106,
   "id": "tracked-sender",
   "metadata": {
    "ExecuteTime": {
     "end_time": "2021-06-25T23:29:05.561266Z",
     "start_time": "2021-06-25T23:29:04.049930Z"
    }
   },
   "outputs": [],
   "source": [
    "# Save model, data\n",
    "tp.save_model(lockdown_clf2.model_best_valid, 'model_lockout_valid_min2.pth')\n",
    "tp.save_model(lockdown_clf2.model_last, 'model_lockout_last2.pth')\n",
    "lockdown_clf2.path_data.to_csv('data_lockout2.csv')"
   ]
  },
  {
   "cell_type": "code",
   "execution_count": 108,
   "id": "geological-number",
   "metadata": {
    "ExecuteTime": {
     "end_time": "2021-06-25T23:29:14.098589Z",
     "start_time": "2021-06-25T23:29:13.745193Z"
    },
    "code_folding": []
   },
   "outputs": [
    {
     "data": {
      "image/png": "[encoded data removed]",
      "text/plain": [
       "<Figure size 576x432 with 1 Axes>"
      ]
     },
     "metadata": {
      "needs_background": "light"
     },
     "output_type": "display_data"
    }
   ],
   "source": [
    "# Relevant plots\n",
    "df = pd.read_csv('data_lockout2.csv')\n",
    "df.plot('iteration', y=['t0_calc__classifier.0.weight', 't0_used__classifier.0.weight'], \n",
    "        figsize=(8,6))\n",
    "# plt.xlim(1.2e5,1.6e5)\n",
    "plt.show()"
   ]
  },
  {
   "cell_type": "code",
   "execution_count": 296,
   "id": "meaning-interaction",
   "metadata": {
    "ExecuteTime": {
     "end_time": "2021-06-26T18:08:33.422203Z",
     "start_time": "2021-06-26T18:08:32.589838Z"
    },
    "scrolled": false
   },
   "outputs": [
    {
     "data": {
      "image/png": "[encoded data removed]",
      "text/plain": [
       "<Figure size 648x432 with 1 Axes>"
      ]
     },
     "metadata": {
      "needs_background": "light"
     },
     "output_type": "display_data"
    }
   ],
   "source": [
    "# Acc. v Sparcity (smooth)\n",
    "nn = int(2e2)\n",
    "data_lockdown = pd.read_csv('data_lockout2.csv', index_col=0)\n",
    "data_tmp = pd.DataFrame(columns=['sparcity', 'train_accu', 'valid_accu', 'test_accu', 't0_used'])\n",
    "xgrid, step = np.linspace(0., 1., num=nn,endpoint=True, retstep=True)\n",
    "for x in xgrid:\n",
    "    msk = (data_lockdown['sparcity__classifier.0.weight'] >= x) &    \\\n",
    "          (data_lockdown['sparcity__classifier.0.weight'] < x+step)\n",
    "    train_accu = data_lockdown.loc[msk, 'train_accu'].mean()\n",
    "    valid_accu = data_lockdown.loc[msk, 'valid_accu'].mean()\n",
    "    test_accu  = data_lockdown.loc[msk, 'test_accu'].mean()\n",
    "    t0_used = data_lockdown.loc[msk, 't0_used__classifier.0.weight'].mean()\n",
    "    data_tmp = data_tmp.append({'sparcity': x, \n",
    "                                'train_accu': train_accu, \n",
    "                                'valid_accu': valid_accu, \n",
    "                                'test_accu': test_accu, \n",
    "                                't0_used': t0_used}, ignore_index=True)\n",
    "data_tmp.dropna(axis='index', how='any', inplace=True)\n",
    "data_tmp = data_tmp.append({'sparcity': data_lockdown.loc[0,'sparcity__classifier.0.weight'], \n",
    "                            'train_accu': data_lockdown.loc[0,'train_accu'], \n",
    "                            'valid_accu': data_lockdown.loc[0,'valid_accu'], \n",
    "                            'test_accu': data_lockdown.loc[0,'test_accu'], \n",
    "                            't0_used': data_lockdown.loc[0,'t0_used__classifier.0.weight']}, \n",
    "                           ignore_index=True)\n",
    "\n",
    "fig, axes = plt.subplots(figsize=(9,6))\n",
    "\n",
    "axes.plot(10000*data_tmp['sparcity'], 1.0 - data_tmp['valid_accu'], \n",
    "          \"-\", linewidth=4, markersize=10, color=\"black\")\n",
    "axes.plot(10000*data_tmp.loc[199,'sparcity'], 1.0 - data_tmp.loc[199,'valid_accu'], \n",
    "          \"o\", linewidth=4, markersize=11, color=\"r\", label=\"A: 100% features selected\")\n",
    "axes.plot(10000*data_tmp.loc[data_tmp.valid_accu.idxmax(), 'sparcity'], \n",
    "          1.0 - data_tmp.loc[data_tmp.valid_accu.idxmax(), 'valid_accu'], \n",
    "          \"o\", linewidth=4, markersize=11, color=\"g\", label=\"B: 29%   features selected\")\n",
    "axes.plot(10000*data_tmp.loc[12,'sparcity'], 1.0 - data_tmp.loc[12,'valid_accu'], \n",
    "          \"o\", linewidth=4, markersize=11, color=\"b\", label=\"C: 6%     features selected\")\n",
    "axes.text(9850, 0.26, \"A\", fontsize=22, color=\"r\")\n",
    "axes.text(2750, 0.25, \"B\", fontsize=22, color=\"g\")\n",
    "axes.text(470, 0.26, \"C\", fontsize=22, color=\"b\")\n",
    "\n",
    "axes.grid(True, zorder=2)\n",
    "axes.set_xlabel(\"number of selected features\", fontsize=16)\n",
    "axes.set_ylabel(\"Validation Error\", fontsize=16)\n",
    "axes.set_yticks(np.linspace(0.2, 0.6, 5))\n",
    "axes.legend(fontsize=16)\n",
    "axes.tick_params(axis='both', which='major', labelsize=14)\n",
    "axes.set_ylim(0.2,0.6)\n",
    "\n",
    "plt.tight_layout()\n",
    "plt.savefig('error_vs_features_sec5.pdf', bbox_inches='tight')\n",
    "plt.show()"
   ]
  },
  {
   "cell_type": "code",
   "execution_count": 286,
   "id": "dressed-newsletter",
   "metadata": {
    "ExecuteTime": {
     "end_time": "2021-06-26T17:39:46.544062Z",
     "start_time": "2021-06-26T17:39:46.540299Z"
    }
   },
   "outputs": [
    {
     "data": {
      "text/plain": [
       "sparcity        1.000000\n",
       "train_accu      0.960368\n",
       "valid_accu      0.679182\n",
       "test_accu       0.743877\n",
       "t0_used       251.409180\n",
       "valid_loss      0.966624\n",
       "Name: 199, dtype: float64"
      ]
     },
     "execution_count": 286,
     "metadata": {},
     "output_type": "execute_result"
    }
   ],
   "source": [
    "data_tmp.loc[199,]"
   ]
  },
  {
   "cell_type": "code",
   "execution_count": 277,
   "id": "lined-sally",
   "metadata": {
    "ExecuteTime": {
     "end_time": "2021-06-26T17:34:06.636860Z",
     "start_time": "2021-06-26T17:34:06.633161Z"
    }
   },
   "outputs": [
    {
     "data": {
      "text/plain": [
       "sparcity       0.286432\n",
       "train_accu     0.999537\n",
       "valid_accu     0.717187\n",
       "test_accu      0.720139\n",
       "t0_used       34.620031\n",
       "valid_loss     0.769936\n",
       "Name: 57, dtype: float64"
      ]
     },
     "execution_count": 277,
     "metadata": {},
     "output_type": "execute_result"
    }
   ],
   "source": [
    "data_tmp.loc[data_tmp.valid_accu.idxmax(),]"
   ]
  },
  {
   "cell_type": "code",
   "execution_count": 282,
   "id": "bronze-remains",
   "metadata": {
    "ExecuteTime": {
     "end_time": "2021-06-26T17:35:35.820092Z",
     "start_time": "2021-06-26T17:35:35.816555Z"
    }
   },
   "outputs": [
    {
     "data": {
      "text/plain": [
       "sparcity       0.060302\n",
       "train_accu     1.000000\n",
       "valid_accu     0.698872\n",
       "test_accu      0.725000\n",
       "t0_used       18.953872\n",
       "valid_loss     0.653737\n",
       "Name: 12, dtype: float64"
      ]
     },
     "execution_count": 282,
     "metadata": {},
     "output_type": "execute_result"
    }
   ],
   "source": [
    "data_tmp.loc[12,]"
   ]
  }
 ],
 "metadata": {
  "kernelspec": {
   "display_name": "Python 3",
   "language": "python",
   "name": "python3"
  },
  "language_info": {
   "codemirror_mode": {
    "name": "ipython",
    "version": 3
   },
   "file_extension": ".py",
   "mimetype": "text/x-python",
   "name": "python",
   "nbconvert_exporter": "python",
   "pygments_lexer": "ipython3",
   "version": "3.8.3"
  },
  "toc": {
   "base_numbering": 1,
   "nav_menu": {},
   "number_sections": true,
   "sideBar": true,
   "skip_h1_title": true,
   "title_cell": "Table of Contents",
   "title_sidebar": "Contents",
   "toc_cell": false,
   "toc_position": {
    "height": "calc(100% - 180px)",
    "left": "10px",
    "top": "150px",
    "width": "343.733px"
   },
   "toc_section_display": true,
   "toc_window_display": true
  }
 },
 "nbformat": 4,
 "nbformat_minor": 5
}
