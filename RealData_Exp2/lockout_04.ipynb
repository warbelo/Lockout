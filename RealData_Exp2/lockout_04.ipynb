{
 "cells": [
  {
   "cell_type": "markdown",
   "metadata": {},
   "source": [
    "# Lockout  for Regression: Communities and Crime Unnormalized Data Set\n",
    "Author: Wilmer Arbelo Gonzalez"
   ]
  },
  {
   "cell_type": "markdown",
   "metadata": {},
   "source": [
    "## Import all necessary libraries"
   ]
  },
  {
   "cell_type": "code",
   "execution_count": 1,
   "metadata": {
    "ExecuteTime": {
     "end_time": "2021-06-18T18:44:16.478532Z",
     "start_time": "2021-06-18T18:44:14.035641Z"
    },
    "code_folding": [
     0
    ]
   },
   "outputs": [],
   "source": [
    "# Import libraries and modules\n",
    "import numpy as np\n",
    "import pandas as pd\n",
    "\n",
    "import xgboost as xgb\n",
    "\n",
    "from sklearn.metrics import r2_score, classification_report, confusion_matrix,           \\\n",
    "                            roc_curve, roc_auc_score, plot_confusion_matrix, f1_score,   \\\n",
    "                            balanced_accuracy_score, accuracy_score, mean_squared_error, \\\n",
    "                            log_loss\n",
    "from sklearn.datasets import make_friedman1\n",
    "from sklearn.model_selection import train_test_split, GridSearchCV\n",
    "from sklearn.linear_model import LogisticRegression, LinearRegression, SGDClassifier,    \\\n",
    "                                 Lasso, lasso_path\n",
    "from sklearn.preprocessing import StandardScaler, LabelBinarizer\n",
    "from sklearn.impute import SimpleImputer\n",
    "from sklearn.pipeline import Pipeline\n",
    "from sklearn_pandas import DataFrameMapper\n",
    "\n",
    "import scipy\n",
    "from scipy import stats\n",
    "\n",
    "import os\n",
    "import sys\n",
    "import shutil\n",
    "from pathlib import Path\n",
    "\n",
    "import matplotlib as mpl\n",
    "import matplotlib.pyplot as plt\n",
    "import matplotlib.cm as cm\n",
    "\n",
    "import albumentations as A\n",
    "from albumentations.pytorch import ToTensorV2\n",
    "import cv2\n",
    "import itertools\n",
    "\n",
    "import time\n",
    "import tqdm\n",
    "import copy\n",
    "\n",
    "import torch\n",
    "import torchvision\n",
    "import torchvision.transforms as transforms\n",
    "import torch.nn as nn\n",
    "import torch.nn.functional as F\n",
    "import torch.optim as optim\n",
    "import torchvision.models as models\n",
    "from torch.utils.data import Dataset\n",
    "\n",
    "import PIL\n",
    "import joblib\n",
    "import json\n",
    "\n",
    "# import mysgd"
   ]
  },
  {
   "cell_type": "markdown",
   "metadata": {},
   "source": [
    "## Datasets and DataLoaders"
   ]
  },
  {
   "cell_type": "code",
   "execution_count": 2,
   "metadata": {
    "ExecuteTime": {
     "end_time": "2021-03-03T08:09:46.660382Z",
     "start_time": "2021-03-03T08:09:46.654990Z"
    },
    "code_folding": [
     0
    ]
   },
   "outputs": [],
   "source": [
    "# Load data\n",
    "def load_data(fname, i=1):\n",
    "    \"\"\"\n",
    "    input (str or path): name of the folder with the data.\n",
    "    This function reads the data, transforms it to tensors, and makes it\n",
    "    global.\n",
    "    \"\"\"\n",
    "    global xtrain, xvalid, xtest, xtrain_valid, ytrain, yvalid, ytest, ytrain_valid\n",
    "# \n",
    "    df = pd.read_csv(os.path.join(fname, 'xtrain'+str(i)+'.csv'), index_col=False)\n",
    "    xtrain = torch.tensor(df.values).float()\n",
    "    df = pd.read_csv(os.path.join(fname, 'xvalid'+str(i)+'.csv'), index_col=False)\n",
    "    xvalid = torch.tensor(df.values).float()\n",
    "    df = pd.read_csv(os.path.join(fname, 'xtest'+str(i)+'.csv'), index_col=False)\n",
    "    xtest = torch.tensor(df.values).float()\n",
    "    df = pd.read_csv(os.path.join(fname, 'xtrain_valid'+str(i)+'.csv'), index_col=False)\n",
    "    xtrain_valid = torch.tensor(df.values).float()\n",
    "# \n",
    "    df = pd.read_csv(os.path.join(fname, 'ytrain'+str(i)+'.csv'), index_col=False)\n",
    "    ytrain = torch.tensor(df.values).float()\n",
    "    df = pd.read_csv(os.path.join(fname, 'yvalid'+str(i)+'.csv'), index_col=False)\n",
    "    yvalid = torch.tensor(df.values).float()\n",
    "    df = pd.read_csv(os.path.join(fname, 'ytest'+str(i)+'.csv'), index_col=False)\n",
    "    ytest = torch.tensor(df.values).float()\n",
    "    df = pd.read_csv(os.path.join(fname, 'ytrain_valid'+str(i)+'.csv'), index_col=False)\n",
    "    ytrain_valid = torch.tensor(df.values).float()\n"
   ]
  },
  {
   "cell_type": "code",
   "execution_count": 3,
   "metadata": {
    "ExecuteTime": {
     "end_time": "2021-03-03T08:09:48.692658Z",
     "start_time": "2021-03-03T08:09:48.690058Z"
    },
    "code_folding": [
     0
    ]
   },
   "outputs": [],
   "source": [
    "# Transform DataFrame to Tensor\n",
    "def df_to_tensor():\n",
    "    \"\"\"\n",
    "    This function transforms DataFrames to tensors and makes them global.\n",
    "    \"\"\"\n",
    "    global xtrain, xvalid, xtest, ytrain, yvalid, ytest\n",
    "# \n",
    "    xtrain = torch.tensor(xtrain.values).float()\n",
    "    xvalid = torch.tensor(xvalid.values).float()\n",
    "    xtest = torch.tensor(xtest.values).float()\n",
    "# \n",
    "    ytrain = torch.tensor(ytrain.values).float()\n",
    "    yvalid = torch.tensor(yvalid.values).float()\n",
    "    ytest = torch.tensor(ytest.values).float()"
   ]
  },
  {
   "cell_type": "markdown",
   "metadata": {},
   "source": [
    "### Read and Clean Data"
   ]
  },
  {
   "cell_type": "code",
   "execution_count": 4,
   "metadata": {
    "ExecuteTime": {
     "end_time": "2021-03-03T08:09:52.655786Z",
     "start_time": "2021-03-03T08:09:52.650192Z"
    },
    "code_folding": [
     0,
     1,
     151
    ]
   },
   "outputs": [],
   "source": [
    "# Feature names:\n",
    "col_names = [\n",
    "    'communityname',\n",
    "    'State',\n",
    "    'countyCode',\n",
    "    'communityCode',\n",
    "    'fold',\n",
    "    'pop',\n",
    "    'perHoush',\n",
    "    'pctBlack',\n",
    "    'pctWhite',\n",
    "    'pctAsian',\n",
    "    'pctHisp',\n",
    "    'pct12_21',\n",
    "    'pct12_29',\n",
    "    'pct16_24',\n",
    "    'pct65up',\n",
    "    'persUrban',\n",
    "    'pctUrban',\n",
    "    'medIncome',\n",
    "    'pctWwage',\n",
    "    'pctWfarm',\n",
    "    'pctWdiv',\n",
    "    'pctWsocsec',\n",
    "    'pctPubAsst',\n",
    "    'pctRetire',\n",
    "    'medFamIncome',\n",
    "    'perCapInc',\n",
    "    'whitePerCap',\n",
    "    'blackPerCap',\n",
    "    'NAperCap',\n",
    "    'asianPerCap',\n",
    "    'otherPerCap',\n",
    "    'hispPerCap',\n",
    "    'persPoverty',\n",
    "    'pctPoverty',\n",
    "    'pctLowEdu',\n",
    "    'pctNotHSgrad',\n",
    "    'pctCollGrad',\n",
    "    'pctUnemploy',\n",
    "    'pctEmploy',\n",
    "    'pctEmployMfg',\n",
    "    'pctEmployProfServ',\n",
    "    'pctOccupManu',\n",
    "    'pctOccupMgmt',\n",
    "    'pctMaleDivorc',\n",
    "    'pctMaleNevMar',\n",
    "    'pctFemDivorc',\n",
    "    'pctAllDivorc',\n",
    "    'persPerFam',\n",
    "    'pct2Par',\n",
    "    'pctKids2Par',\n",
    "    'pctKids_4w2Par',\n",
    "    'pct12_17w2Par',\n",
    "    'pctWorkMom_6',\n",
    "    'pctWorkMom_18',\n",
    "    'kidsBornNevrMarr',\n",
    "    'pctKidsBornNevrMarr',\n",
    "    'numForeignBorn',\n",
    "    'pctFgnImmig_3',\n",
    "    'pctFgnImmig_5',\n",
    "    'pctFgnImmig_8',\n",
    "    'pctFgnImmig_10',\n",
    "    'pctImmig_3',\n",
    "    'pctImmig_5',\n",
    "    'pctImmig_8',\n",
    "    'pctImmig_10',\n",
    "    'pctSpeakOnlyEng',\n",
    "    'pctNotSpeakEng',\n",
    "    'pctLargHousFam',\n",
    "    'pctLargHous',\n",
    "    'persPerOccupHous',\n",
    "    'persPerOwnOccup',\n",
    "    'persPerRenterOccup',\n",
    "    'pctPersOwnOccup',\n",
    "    'pctPopDenseHous',\n",
    "    'pctSmallHousUnits',\n",
    "    'medNumBedrm',\n",
    "    'houseVacant',\n",
    "    'pctHousOccup',\n",
    "    'pctHousOwnerOccup',\n",
    "    'pctVacantBoarded',\n",
    "    'pctVacant6up',\n",
    "    'medYrHousBuilt',\n",
    "    'pctHousWOphone',\n",
    "    'pctHousWOplumb',\n",
    "    'ownHousLowQ',\n",
    "    'ownHousMed',\n",
    "    'ownHousUperQ',\n",
    "    'ownHousQrange',\n",
    "    'rentLowQ',\n",
    "    'rentMed',\n",
    "    'rentUpperQ',\n",
    "    'rentQrange',\n",
    "    'medGrossRent',\n",
    "    'medRentpctHousInc',\n",
    "    'medOwnCostpct',\n",
    "    'medOwnCostPctWO',\n",
    "    'persEmergShelt',\n",
    "    'persHomeless',\n",
    "    'pctForeignBorn',\n",
    "    'pctBornStateResid',\n",
    "    'pctSameHouse_5',\n",
    "    'pctSameCounty_5',\n",
    "    'pctSameState_5',\n",
    "    'numPolice',\n",
    "    'policePerPop',\n",
    "    'policeField',\n",
    "    'policeFieldPerPop',\n",
    "    'policeCalls',\n",
    "    'policCallPerPop',\n",
    "    'policCallPerOffic',\n",
    "    'policePerPop2',\n",
    "    'racialMatch',\n",
    "    'pctPolicWhite',\n",
    "    'pctPolicBlack',\n",
    "    'pctPolicHisp',\n",
    "    'pctPolicAsian',\n",
    "    'pctPolicMinority',\n",
    "    'officDrugUnits',\n",
    "    'numDiffDrugsSeiz',\n",
    "    'policAveOT',\n",
    "    'landArea',\n",
    "    'popDensity',\n",
    "    'pctUsePubTrans',\n",
    "    'policCarsAvail',\n",
    "    'policOperBudget',\n",
    "    'pctPolicPatrol',\n",
    "    'gangUnit',\n",
    "    'pctOfficDrugUnit',\n",
    "    'policBudgetPerPop',\n",
    "    'murders',\n",
    "    'murdPerPop',\n",
    "    'rapes',\n",
    "    'rapesPerPop',\n",
    "    'robberies',\n",
    "    'robbbPerPop',\n",
    "    'assaults',\n",
    "    'assaultPerPop',\n",
    "    'burglaries',\n",
    "    'burglPerPop',\n",
    "    'larcenies',\n",
    "    'larcPerPop',\n",
    "    'autoTheft',\n",
    "    'autoTheftPerPop',\n",
    "    'arsons',\n",
    "    'arsonsPerPop',\n",
    "    'violentPerPop',\n",
    "    'nonViolPerPop'\n",
    "]\n",
    "\n",
    "col_2drop = [\n",
    "    'communityname',\n",
    "    'State',\n",
    "    'countyCode',\n",
    "    'communityCode',\n",
    "    'fold',\n",
    "    'murders',\n",
    "    'murdPerPop',\n",
    "    'rapes',\n",
    "    'rapesPerPop',\n",
    "    'robberies',\n",
    "    'robbbPerPop',\n",
    "    'assaults',\n",
    "    'assaultPerPop',\n",
    "    'burglaries',\n",
    "    'burglPerPop',\n",
    "    'larcenies',\n",
    "    'larcPerPop',\n",
    "    'autoTheft',\n",
    "    'autoTheftPerPop',\n",
    "    'arsons',\n",
    "    'arsonsPerPop'\n",
    "]"
   ]
  },
  {
   "cell_type": "code",
   "execution_count": 5,
   "metadata": {
    "ExecuteTime": {
     "end_time": "2021-03-03T08:09:55.097238Z",
     "start_time": "2021-03-03T08:09:55.001035Z"
    },
    "code_folding": [
     0
    ]
   },
   "outputs": [
    {
     "name": "stdout",
     "output_type": "stream",
     "text": [
      "- Dataset 1 size: 2118 points.\n",
      "  Missing values: 0 points\n",
      "  Target: 'nonViolPerPop'\n",
      "\n",
      "- Dataset 2 size: 1994 points.\n",
      "  Missing values: 0 points\n",
      "  Target: 'violentPerPop'\n",
      "\n",
      "- Number of features: 124\n",
      "\n",
      "- Feature names:\n",
      "['pop', 'perHoush', 'pctBlack', 'pctWhite', 'pctAsian', 'pctHisp', 'pct12_21', 'pct12_29', 'pct16_24', 'pct65up', 'persUrban', 'pctUrban', 'medIncome', 'pctWwage', 'pctWfarm', 'pctWdiv', 'pctWsocsec', 'pctPubAsst', 'pctRetire', 'medFamIncome', 'perCapInc', 'whitePerCap', 'blackPerCap', 'NAperCap', 'asianPerCap', 'otherPerCap', 'hispPerCap', 'persPoverty', 'pctPoverty', 'pctLowEdu', 'pctNotHSgrad', 'pctCollGrad', 'pctUnemploy', 'pctEmploy', 'pctEmployMfg', 'pctEmployProfServ', 'pctOccupManu', 'pctOccupMgmt', 'pctMaleDivorc', 'pctMaleNevMar', 'pctFemDivorc', 'pctAllDivorc', 'persPerFam', 'pct2Par', 'pctKids2Par', 'pctKids_4w2Par', 'pct12_17w2Par', 'pctWorkMom_6', 'pctWorkMom_18', 'kidsBornNevrMarr', 'pctKidsBornNevrMarr', 'numForeignBorn', 'pctFgnImmig_3', 'pctFgnImmig_5', 'pctFgnImmig_8', 'pctFgnImmig_10', 'pctImmig_3', 'pctImmig_5', 'pctImmig_8', 'pctImmig_10', 'pctSpeakOnlyEng', 'pctNotSpeakEng', 'pctLargHousFam', 'pctLargHous', 'persPerOccupHous', 'persPerOwnOccup', 'persPerRenterOccup', 'pctPersOwnOccup', 'pctPopDenseHous', 'pctSmallHousUnits', 'medNumBedrm', 'houseVacant', 'pctHousOccup', 'pctHousOwnerOccup', 'pctVacantBoarded', 'pctVacant6up', 'medYrHousBuilt', 'pctHousWOphone', 'pctHousWOplumb', 'ownHousLowQ', 'ownHousMed', 'ownHousUperQ', 'ownHousQrange', 'rentLowQ', 'rentMed', 'rentUpperQ', 'rentQrange', 'medGrossRent', 'medRentpctHousInc', 'medOwnCostpct', 'medOwnCostPctWO', 'persEmergShelt', 'persHomeless', 'pctForeignBorn', 'pctBornStateResid', 'pctSameHouse_5', 'pctSameCounty_5', 'pctSameState_5', 'numPolice', 'policePerPop', 'policeField', 'policeFieldPerPop', 'policeCalls', 'policCallPerPop', 'policCallPerOffic', 'policePerPop2', 'racialMatch', 'pctPolicWhite', 'pctPolicBlack', 'pctPolicHisp', 'pctPolicAsian', 'pctPolicMinority', 'officDrugUnits', 'numDiffDrugsSeiz', 'policAveOT', 'landArea', 'popDensity', 'pctUsePubTrans', 'policCarsAvail', 'policOperBudget', 'pctPolicPatrol', 'gangUnit', 'pctOfficDrugUnit', 'policBudgetPerPop']\n"
     ]
    }
   ],
   "source": [
    "# Read Dataset(s)\n",
    "df = pd.read_csv('dataset_04CrimeUnnormalized/CommViolPredUnnormalizedData.txt', \n",
    "                 header=None, \n",
    "                 names=col_names, \n",
    "                 index_col=False)\n",
    "\n",
    "# Clean Dataset(s)\n",
    "df.drop(columns=col_2drop, inplace=True)\n",
    "df = df.replace('?', np.nan)\n",
    "df = df.astype(float)\n",
    "\n",
    "df1 = df.drop(columns='violentPerPop')\n",
    "df2 = df.drop(columns='nonViolPerPop')\n",
    "\n",
    "df1.dropna(subset=['nonViolPerPop'], inplace=True)\n",
    "df2.dropna(subset=['violentPerPop'], inplace=True)\n",
    "\n",
    "df1.fillna(df1.mean(), inplace=True)\n",
    "df2.fillna(df2.mean(), inplace=True)\n",
    "\n",
    "print(\"- Dataset 1 size: {} points.\".format(len(df1)))\n",
    "print(\"  Missing values: {} points\".format(df1.isna().sum().sum()))\n",
    "print(\"  Target: '{}'\\n\".format(df1.columns[-1]))\n",
    "\n",
    "print(\"- Dataset 2 size: {} points.\".format(len(df2)))\n",
    "print(\"  Missing values: {} points\".format(df2.isna().sum().sum()))\n",
    "print(\"  Target: '{}'\\n\".format(df2.columns[-1]))\n",
    "\n",
    "print(\"- Number of features: {}\\n\".format(df1.shape[1]-1))\n",
    "print(\"- Feature names:\\n{}\".format(df1.columns[0:-1].tolist()))\n"
   ]
  },
  {
   "cell_type": "markdown",
   "metadata": {},
   "source": [
    "### Split and Save"
   ]
  },
  {
   "cell_type": "code",
   "execution_count": 6,
   "metadata": {
    "ExecuteTime": {
     "end_time": "2021-03-03T08:10:04.002035Z",
     "start_time": "2021-03-03T08:10:03.996612Z"
    },
    "code_folding": [
     0
    ]
   },
   "outputs": [],
   "source": [
    "# # Random seeds for the splits\n",
    "# seed1 = torch.randint(0, 1000, (500,))\n",
    "# seed2 = torch.randint(1001, 2000, (500,))\n",
    "seed1 = pd.read_csv('seed1.csv', header=None).iloc[:,0].tolist()\n",
    "seed2 = pd.read_csv('seed2.csv', header=None).iloc[:,0].tolist()"
   ]
  },
  {
   "cell_type": "code",
   "execution_count": 7,
   "metadata": {
    "ExecuteTime": {
     "end_time": "2021-03-03T08:10:14.756743Z",
     "start_time": "2021-03-03T08:10:14.754322Z"
    },
    "code_folding": [
     0
    ]
   },
   "outputs": [],
   "source": [
    "# Split data (function)\n",
    "def split_data(dfX, dfy, seed1=0, seed2=42):\n",
    "    global xtrain, xvalid, xtest, xtrain_valid, ytrain, yvalid, ytest, ytrain_valid\n",
    "    xtrain_valid, xtest, ytrain_valid, ytest = train_test_split(dfX, dfy, \n",
    "                                                      test_size=0.2, \n",
    "                                                      random_state=seed1)\n",
    "    xtrain, xvalid, ytrain, yvalid = train_test_split(xtrain_valid, ytrain_valid, \n",
    "                                                      test_size=0.25, \n",
    "                                                      random_state=seed2)"
   ]
  },
  {
   "cell_type": "code",
   "execution_count": 8,
   "metadata": {
    "ExecuteTime": {
     "end_time": "2021-03-03T08:10:17.491851Z",
     "start_time": "2021-03-03T08:10:16.914503Z"
    },
    "code_folding": [
     0
    ]
   },
   "outputs": [
    {
     "name": "stdout",
     "output_type": "stream",
     "text": [
      "- xtrain1 size: (1270, 124)\n",
      "- xvalid1 size: (424, 124)\n",
      "- xtest1 size: (424, 124)\n",
      "- xtrain_valid1 size: (1694, 124)\n",
      "\n"
     ]
    }
   ],
   "source": [
    "# Set (xtrain, ytrain), (xvalid, yvalid), and (xtest, ytest) for 'df1'\n",
    "data_folder = 'dataset_04CrimeUnnormalized'\n",
    "\n",
    "target = ['nonViolPerPop']\n",
    "X = df1.drop(columns=target)\n",
    "y = df1[target]\n",
    "split_data(X, y)\n",
    "\n",
    "# Save data on disk\n",
    "cols_all1 = xtrain.columns.tolist()\n",
    "xtrain.to_csv(os.path.join(data_folder, 'xtrain1.csv'), index=False)\n",
    "xvalid.to_csv(os.path.join(data_folder, 'xvalid1.csv'), index=False)\n",
    "xtest.to_csv(os.path.join(data_folder, 'xtest1.csv'), index=False)\n",
    "xtrain_valid.to_csv(os.path.join(data_folder, 'xtrain_valid1.csv'), index=False)\n",
    "X.to_csv(os.path.join(data_folder, 'X1.csv'), index=False)\n",
    "\n",
    "ytrain.to_csv(os.path.join(data_folder, 'ytrain1.csv'), index=False)\n",
    "yvalid.to_csv(os.path.join(data_folder, 'yvalid1.csv'), index=False)\n",
    "ytest.to_csv(os.path.join(data_folder, 'ytest1.csv'), index=False)\n",
    "ytrain_valid.to_csv(os.path.join(data_folder, 'ytrain_valid1.csv'), index=False)\n",
    "y.to_csv(os.path.join(data_folder, 'y1.csv'), index=False)\n",
    "\n",
    "# \n",
    "print(\"- xtrain1 size: {}\".format(xtrain.shape))\n",
    "print(\"- xvalid1 size: {}\".format(xvalid.shape))\n",
    "print(\"- xtest1 size: {}\".format(xtest.shape))\n",
    "print(\"- xtrain_valid1 size: {}\\n\".format(xtrain_valid.shape))"
   ]
  },
  {
   "cell_type": "code",
   "execution_count": 9,
   "metadata": {
    "ExecuteTime": {
     "end_time": "2021-03-03T08:10:19.699976Z",
     "start_time": "2021-03-03T08:10:19.175070Z"
    },
    "code_folding": [
     0
    ]
   },
   "outputs": [
    {
     "name": "stdout",
     "output_type": "stream",
     "text": [
      "- xtrain2 size: (1196, 124)\n",
      "- xvalid2 size: (399, 124)\n",
      "- xtest2 size: (399, 124)\n",
      "- xtrain_valid2 size: (1595, 124)\n",
      "\n"
     ]
    }
   ],
   "source": [
    "# Set (xtrain, ytrain), (xvalid, yvalid), and (xtest, ytest) for 'df2'\n",
    "data_folder = 'dataset_04CrimeUnnormalized'\n",
    "\n",
    "target = ['violentPerPop']\n",
    "X = df2.drop(columns=target)\n",
    "y = df2[target]\n",
    "split_data(X, y)\n",
    "\n",
    "# Save data on disk\n",
    "cols_all2 = xtrain.columns.tolist()\n",
    "xtrain.to_csv(os.path.join(data_folder, 'xtrain2.csv'), index=False)\n",
    "xvalid.to_csv(os.path.join(data_folder, 'xvalid2.csv'), index=False)\n",
    "xtest.to_csv(os.path.join(data_folder, 'xtest2.csv'), index=False)\n",
    "xtrain_valid.to_csv(os.path.join(data_folder, 'xtrain_valid2.csv'), index=False)\n",
    "X.to_csv(os.path.join(data_folder, 'X2.csv'), index=False)\n",
    "\n",
    "ytrain.to_csv(os.path.join(data_folder, 'ytrain2.csv'), index=False)\n",
    "yvalid.to_csv(os.path.join(data_folder, 'yvalid2.csv'), index=False)\n",
    "ytest.to_csv(os.path.join(data_folder, 'ytest2.csv'), index=False)\n",
    "ytrain_valid.to_csv(os.path.join(data_folder, 'ytrain_valid2.csv'), index=False)\n",
    "y.to_csv(os.path.join(data_folder, 'y2.csv'), index=False)\n",
    "\n",
    "# \n",
    "print(\"- xtrain2 size: {}\".format(xtrain.shape))\n",
    "print(\"- xvalid2 size: {}\".format(xvalid.shape))\n",
    "print(\"- xtest2 size: {}\".format(xtest.shape))\n",
    "print(\"- xtrain_valid2 size: {}\\n\".format(xtrain_valid.shape))"
   ]
  },
  {
   "cell_type": "markdown",
   "metadata": {},
   "source": [
    "### Create Datasets and DataLoaders"
   ]
  },
  {
   "cell_type": "code",
   "execution_count": 10,
   "metadata": {
    "ExecuteTime": {
     "end_time": "2021-03-03T08:10:21.405005Z",
     "start_time": "2021-03-03T08:10:21.402345Z"
    },
    "code_folding": [
     0
    ]
   },
   "outputs": [],
   "source": [
    "# Create Dataset class\n",
    "class MyDataset(Dataset):\n",
    "    '''\n",
    "    Input:\n",
    "        xtensor (torch tensor): data points; dimension [# of points, # of features]\n",
    "        ytensor (torch tensor): y values; dimension [# of points]\n",
    "    Output:\n",
    "        the usual...\n",
    "    '''\n",
    "    def __init__(self, xtensor, ytensor):\n",
    "        self.x = xtensor\n",
    "        self.y = ytensor\n",
    "    \n",
    "    def __len__(self):\n",
    "        return len(self.y)\n",
    "\n",
    "    def __getitem__(self, idx):\n",
    "        return self.x[idx,:], self.y[idx], idx"
   ]
  },
  {
   "cell_type": "code",
   "execution_count": 11,
   "metadata": {
    "ExecuteTime": {
     "end_time": "2021-03-03T08:10:25.050537Z",
     "start_time": "2021-03-03T08:10:25.047300Z"
    },
    "code_folding": [
     0
    ]
   },
   "outputs": [],
   "source": [
    "# Instantiate DataLoaders\n",
    "def make_DataLoaders(batch_size=100000, num_workers = 0):\n",
    "    \"\"\"\n",
    "    This function instantiate and makes global DataLoaders for training, \n",
    "    validation, and testing datasets. \n",
    "    \"\"\"\n",
    "# .create datasets\n",
    "    train_dataset = MyDataset(xtrain, ytrain)\n",
    "    valid_dataset = MyDataset(xvalid, yvalid)\n",
    "    test_dataset = MyDataset(xtest, ytest)\n",
    "    \n",
    "# .make dataloaders global variables\n",
    "    global train_dataloader, valid_dataloader, test_dataloader\n",
    "    train_dataloader = torch.utils.data.DataLoader(train_dataset, \n",
    "                                                   batch_size = batch_size,\n",
    "                                                   shuffle = True, \n",
    "                                                   num_workers=num_workers)\n",
    "    valid_dataloader = torch.utils.data.DataLoader(valid_dataset, \n",
    "                                                   batch_size = batch_size,\n",
    "                                                   shuffle = True, \n",
    "                                                   num_workers=num_workers)\n",
    "    test_dataloader = torch.utils.data.DataLoader(test_dataset, \n",
    "                                                   batch_size = batch_size,\n",
    "                                                   shuffle = False, \n",
    "                                                   num_workers=num_workers)\n",
    "    print('- train minibatches =', len(train_dataloader))\n",
    "    print('- valid minibatches =', len(valid_dataloader))\n",
    "    print('- test minibatches =', len(test_dataloader))"
   ]
  },
  {
   "cell_type": "code",
   "execution_count": 12,
   "metadata": {
    "ExecuteTime": {
     "end_time": "2021-03-03T08:10:26.917960Z",
     "start_time": "2021-03-03T08:10:26.914890Z"
    },
    "code_folding": [
     0
    ],
    "scrolled": true
   },
   "outputs": [
    {
     "name": "stdout",
     "output_type": "stream",
     "text": [
      "-Type of precessor to be used: 'cpu'\n"
     ]
    }
   ],
   "source": [
    "# Select type of processor to be used\n",
    "device = torch.device(\"cuda\" if torch.cuda.is_available() else \"cpu\")\n",
    "\n",
    "if device == torch.device('cuda'):\n",
    "    print(\"-Type of precessor to be used: 'gpu'\")\n",
    "    !nvidia-smi\n",
    "else:\n",
    "    print(\"-Type of precessor to be used: 'cpu'\")\n",
    "    \n",
    "# Choose device\n",
    "# torch.cuda.set_device(6)"
   ]
  },
  {
   "cell_type": "markdown",
   "metadata": {},
   "source": [
    "## Optimizer and Loss Function"
   ]
  },
  {
   "cell_type": "code",
   "execution_count": 13,
   "metadata": {
    "ExecuteTime": {
     "end_time": "2021-03-03T08:10:30.212661Z",
     "start_time": "2021-03-03T08:10:30.210668Z"
    },
    "code_folding": [
     0
    ]
   },
   "outputs": [],
   "source": [
    "# Set up SGD optimizer with a constant learning rate\n",
    "def setup_SGD(model, lr):\n",
    "    \"\"\"\n",
    "    Args:\n",
    "        model (nn.Module class): model previously instantiated\n",
    "        lr (float): learning rate\n",
    "    Returns:\n",
    "        instantiated optimizer\n",
    "    \"\"\"\n",
    "    return optim.SGD(model.parameters(), lr=lr, momentum=0,  weight_decay=0.0)"
   ]
  },
  {
   "cell_type": "code",
   "execution_count": 14,
   "metadata": {
    "ExecuteTime": {
     "end_time": "2021-03-03T08:10:31.978353Z",
     "start_time": "2021-03-03T08:10:31.976388Z"
    },
    "code_folding": [
     0
    ]
   },
   "outputs": [],
   "source": [
    "# Set up Adam optimizer with a constant learning rate\n",
    "def setup_ADAM(model, lr):\n",
    "    \"\"\"\n",
    "    Args:\n",
    "        model (nn.Module class): model previously instantiated\n",
    "        lr (float): learning rate\n",
    "    Returns:\n",
    "        instantiated optimizer\n",
    "    \"\"\"\n",
    "    return optim.Adam(model.parameters(), lr=lr,  weight_decay=0.0)"
   ]
  },
  {
   "cell_type": "code",
   "execution_count": 15,
   "metadata": {
    "ExecuteTime": {
     "end_time": "2021-03-03T08:10:34.003099Z",
     "start_time": "2021-03-03T08:10:34.001142Z"
    },
    "code_folding": [
     0
    ]
   },
   "outputs": [],
   "source": [
    "# Type of Loss Function\n",
    "loss_type = nn.MSELoss(reduction='mean')"
   ]
  },
  {
   "cell_type": "markdown",
   "metadata": {},
   "source": [
    "## Train model"
   ]
  },
  {
   "cell_type": "code",
   "execution_count": 16,
   "metadata": {
    "ExecuteTime": {
     "end_time": "2021-03-03T08:10:37.107375Z",
     "start_time": "2021-03-03T08:10:37.105665Z"
    },
    "code_folding": [
     0
    ]
   },
   "outputs": [],
   "source": [
    "# PyTorch sign function\n",
    "def sgn(x):\n",
    "    return torch.sign(x)"
   ]
  },
  {
   "cell_type": "code",
   "execution_count": 17,
   "metadata": {
    "ExecuteTime": {
     "end_time": "2021-03-03T08:10:38.829707Z",
     "start_time": "2021-03-03T08:10:38.816167Z"
    },
    "code_folding": [
     0,
     16,
     69,
     124,
     143,
     147,
     154,
     157,
     161
    ]
   },
   "outputs": [],
   "source": [
    "# Train model (regression)\n",
    "def train_model(lr, features, layer_sizes, lock_flag=False, epochs=3000, \n",
    "                early_stop=300, fname='model'):\n",
    "    \"\"\"\n",
    "    \"\"\"\n",
    "# Set seed of random generators (for reproducibility purposes)\n",
    "    torch.manual_seed(42)\n",
    "\n",
    "# Instantiate Model and Optimizer\n",
    "    model = MyNet(features, layer_sizes)\n",
    "    if lock_flag == True:\n",
    "        model.load_state_dict(torch.load(model_forward_name))\n",
    "    model = model.to(device)\n",
    "    optimizer = setup_SGD(model, lr)\n",
    "\n",
    "# LOCKDOWN SECTION 1:\n",
    "    if lock_flag == True:\n",
    "        n_iterations = epochs*len(train_dataloader)\n",
    "        layers = get_lockdown_layers(model)\n",
    "        t0 = []\n",
    "        t0_initial = []\n",
    "        sign_w0 = []\n",
    "        l = 0\n",
    "        for layer in layers:\n",
    "            ww = layer.weight.detach()\n",
    "            t0.append(abs(ww).sum())\n",
    "            sign_w0.append(torch.sign(ww))\n",
    "            t0_initial.append(t0[l])\n",
    "            l += 1\n",
    "    \n",
    "# DataFrames to store train/valid loss function\n",
    "    train_loss = pd.DataFrame(columns=['iteration', 'loss'])\n",
    "    valid_loss = pd.DataFrame(columns=['iteration', 'loss'])\n",
    "\n",
    "# Initialize some local variables...\n",
    "    iteration = 0\n",
    "    best_iter = 0\n",
    "    best_loss = np.inf\n",
    "    stop_flag = 0\n",
    "\n",
    "# Loop Over Number of Epochs\n",
    "    iterator = tqdm.notebook.tqdm(range(1, epochs + 1), desc='Epochs loop')\n",
    "    for n_epoch in iterator:\n",
    "# \n",
    "# .Loop Over Mini-batches\n",
    "        for ibatch, (xx, yy, _) in enumerate(train_dataloader, start=1):\n",
    "#\n",
    "# ..Compute Validation Loss\n",
    "            model_dict = copy.deepcopy(model.state_dict())\n",
    "            epoch_loss = valid_epoch(valid_dataloader, model, loss_type, device)\n",
    "            valid_loss = valid_loss.append({'iteration': iteration + 1, \n",
    "                                            'loss': epoch_loss}, \n",
    "                                            ignore_index=True)\n",
    "# ..Train Mini-batch:\n",
    "            model.train()\n",
    "            xx = xx.to(device)\n",
    "            yy = yy.to(device)\n",
    "            yy_pred = model(xx)\n",
    "\n",
    "# ..Compute Train Loss\n",
    "            loss = loss_type(yy_pred, yy) #.view(-1)\n",
    "            train_loss = train_loss.append({'iteration': iteration + 1,\n",
    "                                            'loss': loss.item()}, \n",
    "                                           ignore_index=True)\n",
    "# ..Backward Propagation\n",
    "            optimizer.zero_grad()\n",
    "            loss.backward()\n",
    "\n",
    "# ..LOCKDOWN SECTION 2:\n",
    "            if lock_flag == True:\n",
    "                l = 0\n",
    "                for layer in layers:\n",
    "# ...weights and gradients (2D)\n",
    "                    w2d = layer.weight.detach()\n",
    "                    g2d = layer.weight.grad.detach()\n",
    "                    w_shape = g2d.size()\n",
    "\n",
    "# ...flattens weights and compute P(W)\n",
    "                    w1d = torch.flatten(w2d)\n",
    "                    Pw = abs(w1d).sum()\n",
    "\n",
    "# ...find g=-grads, 'gamma', and sort gamma (in descending order)\n",
    "                    p1d = 1.0\n",
    "                    g1d = -torch.flatten(g2d)\n",
    "                    gamma = abs(g1d)/(p1d + 1e-10)\n",
    "                    _, indx1d = torch.sort(gamma, descending=True)\n",
    "\n",
    "# ...Modify Gradients Accordingly:\n",
    "                    grmin = torch.zeros(w_shape).fill_(1e-1).to(device)\n",
    "                    layer.weight.grad = torch.sign(g2d)*torch.max(abs(g2d), grmin)\n",
    "                    gr1d = torch.flatten(layer.weight.grad.detach())\n",
    "                    pjsj = lr*abs(gr1d[indx1d])\n",
    "\n",
    "# ...sign(g) != sign(w) elements\n",
    "                    mask_ds = (sgn(g1d[indx1d]) != sgn(w1d[indx1d])) & (w1d[indx1d] != 0.0)\n",
    "                    DS_sum = pjsj[mask_ds].sum()\n",
    "                    pjsj[mask_ds] = 0.0\n",
    "                    mask_dsc = ~mask_ds\n",
    "                    indx1d_dsc = indx1d[mask_dsc]\n",
    "\n",
    "# ...sum(pjsj), j={1,J-1}\n",
    "                    left_side = torch.cumsum(pjsj, dim=0) - pjsj\n",
    "                    pjsj_dsc = torch.zeros(len(g1d)).to(device)\n",
    "                    pjsj_dsc[:] = pjsj[:]\n",
    "\n",
    "# ...sum(pjsj) + Penalty, j={J+1,nJ}\n",
    "                    mask_w0 = (w1d[indx1d] == 0.0)\n",
    "                    pjsj_dsc[mask_w0] = 0.0\n",
    "                    right_side = pjsj_dsc.sum() - torch.cumsum(pjsj_dsc, dim=0) + DS_sum - Pw + t0[l]\n",
    "\n",
    "# ...delta_j and new steps\n",
    "                    ds = right_side - left_side\n",
    "                    mask_w0 = (~mask_w0).float()\n",
    "                    pjsj_new = -mask_w0**(1-sgn(ds))*sgn(g1d[indx1d])*sgn(ds)*torch.min(pjsj, abs(ds))\n",
    "\n",
    "# ...modify gradients\n",
    "                    indx2d = np.unravel_index(indx1d_dsc.cpu(), shape=w_shape)\n",
    "                    layer.weight.grad[indx2d] = pjsj_new[mask_dsc]/lr\n",
    "                    l = l + 1\n",
    "\n",
    "# ..Update Weights \n",
    "            optimizer.step()\n",
    "\n",
    "# ..LOCKDOWN SECTION 3:\n",
    "            if lock_flag == True:\n",
    "# ...Set Weights That Change Signs to Zero\n",
    "                l = 0\n",
    "                for layer in layers:\n",
    "                    ww = layer.weight.detach()\n",
    "                    sign_w = sgn(ww)\n",
    "                    mask0 = ((sign_w != sign_w0[l]) & (sign_w0[l] != 0.0))\n",
    "                    with torch.no_grad():\n",
    "                        layer.weight[mask0] = 0.0\n",
    "                    sign_w0[l] = sign_w\n",
    "                    \n",
    "# ...Tighten Constraint\n",
    "                    if iteration%step == 0:\n",
    "                        t0[l] = (1.0 - iteration/n_iterations)*t0_initial[l]\n",
    "                    l = l + 1\n",
    "                    \n",
    "\n",
    "# ..Early Stop\n",
    "            batch_loss = valid_loss.iloc[iteration, 1]\n",
    "            if batch_loss < best_loss:\n",
    "                torch.save(model_dict, fname+\"_best.pth\")\n",
    "                best_loss = batch_loss\n",
    "                best_iter = iteration\n",
    "            else:\n",
    "                if iteration - best_iter >= early_stop:\n",
    "                    stop_flag = 1\n",
    "                    break\n",
    "# \n",
    "            iteration += 1\n",
    "# \n",
    "        if stop_flag == 1:\n",
    "            break\n",
    "# \n",
    "    if lock_flag == False:\n",
    "        torch.save(model_dict, fname+\"_last.pth\")\n",
    "    print(\"Summary:\")\n",
    "    print(\"-learning rate = {:.5f}\".format(lr))\n",
    "    if stop_flag == 1:\n",
    "        print('-path 1 has early stopped:')\n",
    "        print(' {:d} iterations with no improvement in valid loss.'.format(early_stop))\n",
    "    print(\"-Model saved after iteration {:d}.\".format(best_iter + 1))\n",
    "    print(\"-Train.  Loss={:.7f}\".format(train_loss.iloc[best_iter, 1]))\n",
    "    print(\"-Valid.  Loss={:.7f}\".format(valid_loss.iloc[best_iter, 1]))\n",
    "# \n",
    "    return train_loss, valid_loss"
   ]
  },
  {
   "cell_type": "code",
   "execution_count": 18,
   "metadata": {
    "ExecuteTime": {
     "end_time": "2021-03-03T08:10:40.708691Z",
     "start_time": "2021-03-03T08:10:40.705855Z"
    },
    "code_folding": [
     0
    ]
   },
   "outputs": [],
   "source": [
    "# Evaluate one epoch (regression)\n",
    "def valid_epoch(data_loader, model, loss_type, device):\n",
    "    \"\"\"\n",
    "    Args:\n",
    "        data_loader: torch DataLoader.\n",
    "        model:       torch model previously trained.\n",
    "        device: 'gpu' or 'cpu'.\n",
    "    Returns:\n",
    "        Values of Loss Function after one epoch.\n",
    "    \"\"\"\n",
    "# Initialize some local variables\n",
    "    loss_fun = 0.\n",
    "    n_points = 0\n",
    "    \n",
    "# Put model in evaluation mode\n",
    "    model.eval()\n",
    "\n",
    "# Loop over mini batches (no gradients need to be computed)\n",
    "    with torch.no_grad():\n",
    "        for i, (xx, yy, _) in enumerate(data_loader, start=1):\n",
    "            xx = xx.to(device)\n",
    "            yy = yy.to(device)\n",
    "            yy_pred = model(xx)\n",
    "        \n",
    "# .compute loss function\n",
    "            batch_size = len(yy)\n",
    "            loss = loss_type(yy_pred, yy)\n",
    "            loss_fun += batch_size*loss.item()\n",
    "        \n",
    "# .number of points used after the ith mini-batch\n",
    "            n_points += batch_size\n",
    "#\n",
    "    return loss_fun/n_points"
   ]
  },
  {
   "cell_type": "markdown",
   "metadata": {},
   "source": [
    "## Results:"
   ]
  },
  {
   "cell_type": "markdown",
   "metadata": {},
   "source": [
    "### Lasso"
   ]
  },
  {
   "cell_type": "markdown",
   "metadata": {},
   "source": [
    "#### Target 1"
   ]
  },
  {
   "cell_type": "code",
   "execution_count": 423,
   "metadata": {
    "ExecuteTime": {
     "end_time": "2021-02-05T22:27:36.407835Z",
     "start_time": "2021-02-05T22:27:36.349668Z"
    },
    "code_folding": [
     0
    ]
   },
   "outputs": [],
   "source": [
    "# Load data\n",
    "load_data('dataset_04CrimeUnnormalized', i=1)\n",
    "\n",
    "# transform tensors to NumPy arrays\n",
    "xtrain = xtrain.numpy()\n",
    "xvalid = xvalid.numpy()\n",
    "xtest = xtest.numpy()\n",
    "\n",
    "ytrain = ytrain.numpy()\n",
    "yvalid = yvalid.numpy()\n",
    "ytest = ytest.numpy()"
   ]
  },
  {
   "cell_type": "code",
   "execution_count": 424,
   "metadata": {
    "ExecuteTime": {
     "end_time": "2021-02-05T22:27:38.131101Z",
     "start_time": "2021-02-05T22:27:38.125737Z"
    },
    "code_folding": [
     0
    ]
   },
   "outputs": [],
   "source": [
    "# Normalize data\n",
    "scaler = StandardScaler()\n",
    "scaler.fit(xtrain)\n",
    "xtrain = scaler.transform(xtrain)\n",
    "xvalid = scaler.transform(xvalid)\n",
    "xtest  = scaler.transform(xtest)\n",
    "\n",
    "scaler = StandardScaler()\n",
    "scaler.fit(ytrain)\n",
    "ytrain = scaler.transform(ytrain)\n",
    "yvalid = scaler.transform(yvalid)\n",
    "ytest  = scaler.transform(ytest)"
   ]
  },
  {
   "cell_type": "code",
   "execution_count": 425,
   "metadata": {
    "ExecuteTime": {
     "end_time": "2021-02-05T22:27:40.863998Z",
     "start_time": "2021-02-05T22:27:40.860476Z"
    },
    "code_folding": [
     0
    ]
   },
   "outputs": [],
   "source": [
    "# Grid search space\n",
    "grid_alpha = np.geomspace(1e-4, 1.0, num=1000)\n",
    "df_grid_loss = pd.DataFrame(columns = ['alpha', 'valid_mse', 'valid_r2'], \n",
    "                            index=range(len(grid_alpha)))\n",
    "\n",
    "params = {'max_iter': 100000,\n",
    "          'random_state': 42,\n",
    "          'warm_start': True}"
   ]
  },
  {
   "cell_type": "code",
   "execution_count": 426,
   "metadata": {
    "ExecuteTime": {
     "end_time": "2021-02-05T22:30:56.234965Z",
     "start_time": "2021-02-05T22:27:44.304207Z"
    },
    "code_folding": [
     0
    ],
    "scrolled": true
   },
   "outputs": [
    {
     "data": {
      "application/vnd.jupyter.widget-view+json": {
       "model_id": "5c295451fbbe46fda81ca4fa60e08010",
       "version_major": 2,
       "version_minor": 0
      },
      "text/plain": [
       "HBox(children=(HTML(value='alpha-grid loop'), FloatProgress(value=0.0, max=1000.0), HTML(value='')))"
      ]
     },
     "metadata": {},
     "output_type": "display_data"
    },
    {
     "name": "stdout",
     "output_type": "stream",
     "text": [
      "alpha=0.00010 | valid_mse=0.45471,  valid_r2=0.52447\n",
      "alpha=0.00010 | valid_mse=0.45460,  valid_r2=0.52459\n",
      "alpha=0.00010 | valid_mse=0.45449,  valid_r2=0.52469\n",
      "alpha=0.00010 | valid_mse=0.45439,  valid_r2=0.52480\n",
      "alpha=0.00010 | valid_mse=0.45429,  valid_r2=0.52491\n",
      "alpha=0.00010 | valid_mse=0.45419,  valid_r2=0.52501\n",
      "alpha=0.00011 | valid_mse=0.45408,  valid_r2=0.52512\n",
      "alpha=0.00011 | valid_mse=0.45398,  valid_r2=0.52523\n",
      "alpha=0.00011 | valid_mse=0.45387,  valid_r2=0.52534\n",
      "alpha=0.00011 | valid_mse=0.45377,  valid_r2=0.52545\n",
      "alpha=0.00011 | valid_mse=0.45366,  valid_r2=0.52556\n",
      "alpha=0.00011 | valid_mse=0.45356,  valid_r2=0.52567\n",
      "alpha=0.00011 | valid_mse=0.45345,  valid_r2=0.52578\n",
      "alpha=0.00011 | valid_mse=0.45334,  valid_r2=0.52590\n",
      "alpha=0.00011 | valid_mse=0.45323,  valid_r2=0.52601\n",
      "alpha=0.00011 | valid_mse=0.45312,  valid_r2=0.52613\n",
      "alpha=0.00012 | valid_mse=0.45301,  valid_r2=0.52624\n",
      "alpha=0.00012 | valid_mse=0.45290,  valid_r2=0.52636\n",
      "alpha=0.00012 | valid_mse=0.45280,  valid_r2=0.52647\n",
      "alpha=0.00012 | valid_mse=0.45268,  valid_r2=0.52659\n",
      "alpha=0.00012 | valid_mse=0.45257,  valid_r2=0.52670\n",
      "alpha=0.00012 | valid_mse=0.45246,  valid_r2=0.52682\n",
      "alpha=0.00012 | valid_mse=0.45236,  valid_r2=0.52693\n",
      "alpha=0.00012 | valid_mse=0.45225,  valid_r2=0.52704\n",
      "alpha=0.00012 | valid_mse=0.45213,  valid_r2=0.52717\n",
      "alpha=0.00013 | valid_mse=0.45202,  valid_r2=0.52728\n",
      "alpha=0.00013 | valid_mse=0.45190,  valid_r2=0.52740\n",
      "alpha=0.00013 | valid_mse=0.45179,  valid_r2=0.52752\n",
      "alpha=0.00013 | valid_mse=0.45167,  valid_r2=0.52764\n",
      "alpha=0.00013 | valid_mse=0.45155,  valid_r2=0.52777\n",
      "alpha=0.00013 | valid_mse=0.45143,  valid_r2=0.52789\n",
      "alpha=0.00013 | valid_mse=0.45131,  valid_r2=0.52802\n",
      "alpha=0.00013 | valid_mse=0.45119,  valid_r2=0.52815\n",
      "alpha=0.00014 | valid_mse=0.45107,  valid_r2=0.52828\n",
      "alpha=0.00014 | valid_mse=0.45095,  valid_r2=0.52840\n",
      "alpha=0.00014 | valid_mse=0.45083,  valid_r2=0.52852\n",
      "alpha=0.00014 | valid_mse=0.45071,  valid_r2=0.52865\n",
      "alpha=0.00014 | valid_mse=0.45059,  valid_r2=0.52877\n",
      "alpha=0.00014 | valid_mse=0.45047,  valid_r2=0.52890\n",
      "alpha=0.00014 | valid_mse=0.45035,  valid_r2=0.52903\n",
      "alpha=0.00014 | valid_mse=0.45027,  valid_r2=0.52911\n",
      "alpha=0.00015 | valid_mse=0.45019,  valid_r2=0.52919\n",
      "alpha=0.00015 | valid_mse=0.45011,  valid_r2=0.52927\n",
      "alpha=0.00015 | valid_mse=0.45004,  valid_r2=0.52936\n",
      "alpha=0.00015 | valid_mse=0.44995,  valid_r2=0.52944\n",
      "alpha=0.00015 | valid_mse=0.44987,  valid_r2=0.52953\n",
      "alpha=0.00015 | valid_mse=0.44979,  valid_r2=0.52961\n",
      "alpha=0.00015 | valid_mse=0.44970,  valid_r2=0.52971\n",
      "alpha=0.00016 | valid_mse=0.44961,  valid_r2=0.52979\n",
      "alpha=0.00016 | valid_mse=0.44954,  valid_r2=0.52988\n",
      "alpha=0.00016 | valid_mse=0.44946,  valid_r2=0.52996\n",
      "alpha=0.00016 | valid_mse=0.44946,  valid_r2=0.52996\n",
      "alpha=0.00016 | valid_mse=0.44946,  valid_r2=0.52996\n",
      "alpha=0.00016 | valid_mse=0.44945,  valid_r2=0.52996\n",
      "alpha=0.00016 | valid_mse=0.44945,  valid_r2=0.52996\n",
      "alpha=0.00017 | valid_mse=0.44945,  valid_r2=0.52996\n",
      "alpha=0.00017 | valid_mse=0.44945,  valid_r2=0.52997\n",
      "alpha=0.00017 | valid_mse=0.44944,  valid_r2=0.52997\n",
      "alpha=0.00017 | valid_mse=0.44944,  valid_r2=0.52998\n",
      "alpha=0.00017 | valid_mse=0.44944,  valid_r2=0.52997\n",
      "alpha=0.00017 | valid_mse=0.44944,  valid_r2=0.52998\n",
      "alpha=0.00018 | valid_mse=0.44944,  valid_r2=0.52998\n",
      "alpha=0.00018 | valid_mse=0.44944,  valid_r2=0.52998\n",
      "alpha=0.00018 | valid_mse=0.44943,  valid_r2=0.52998\n",
      "alpha=0.00018 | valid_mse=0.44943,  valid_r2=0.52998\n",
      "alpha=0.00018 | valid_mse=0.44944,  valid_r2=0.52998\n",
      "alpha=0.00018 | valid_mse=0.44944,  valid_r2=0.52998\n",
      "alpha=0.00019 | valid_mse=0.44944,  valid_r2=0.52998\n",
      "alpha=0.00019 | valid_mse=0.44944,  valid_r2=0.52998\n",
      "alpha=0.00019 | valid_mse=0.44944,  valid_r2=0.52998\n",
      "alpha=0.00019 | valid_mse=0.44942,  valid_r2=0.53000\n",
      "alpha=0.00019 | valid_mse=0.44941,  valid_r2=0.53001\n",
      "alpha=0.00019 | valid_mse=0.44937,  valid_r2=0.53005\n",
      "alpha=0.00020 | valid_mse=0.44932,  valid_r2=0.53010\n",
      "alpha=0.00020 | valid_mse=0.44927,  valid_r2=0.53015\n",
      "alpha=0.00020 | valid_mse=0.44922,  valid_r2=0.53020\n",
      "alpha=0.00020 | valid_mse=0.44918,  valid_r2=0.53025\n",
      "alpha=0.00020 | valid_mse=0.44913,  valid_r2=0.53031\n",
      "alpha=0.00021 | valid_mse=0.44908,  valid_r2=0.53036\n",
      "alpha=0.00021 | valid_mse=0.44901,  valid_r2=0.53043\n",
      "alpha=0.00021 | valid_mse=0.44894,  valid_r2=0.53050\n",
      "alpha=0.00021 | valid_mse=0.44887,  valid_r2=0.53057\n",
      "alpha=0.00021 | valid_mse=0.44880,  valid_r2=0.53065\n",
      "alpha=0.00021 | valid_mse=0.44873,  valid_r2=0.53072\n",
      "alpha=0.00022 | valid_mse=0.44866,  valid_r2=0.53079\n",
      "alpha=0.00022 | valid_mse=0.44859,  valid_r2=0.53087\n",
      "alpha=0.00022 | valid_mse=0.44852,  valid_r2=0.53094\n",
      "alpha=0.00022 | valid_mse=0.44844,  valid_r2=0.53102\n",
      "alpha=0.00023 | valid_mse=0.44837,  valid_r2=0.53110\n",
      "alpha=0.00023 | valid_mse=0.44830,  valid_r2=0.53117\n",
      "alpha=0.00023 | valid_mse=0.44822,  valid_r2=0.53125\n",
      "alpha=0.00023 | valid_mse=0.44815,  valid_r2=0.53133\n",
      "alpha=0.00023 | valid_mse=0.44807,  valid_r2=0.53141\n",
      "alpha=0.00024 | valid_mse=0.44800,  valid_r2=0.53149\n",
      "alpha=0.00024 | valid_mse=0.44792,  valid_r2=0.53157\n",
      "alpha=0.00024 | valid_mse=0.44785,  valid_r2=0.53165\n",
      "alpha=0.00024 | valid_mse=0.44777,  valid_r2=0.53173\n",
      "alpha=0.00024 | valid_mse=0.44769,  valid_r2=0.53181\n",
      "alpha=0.00025 | valid_mse=0.44761,  valid_r2=0.53189\n",
      "alpha=0.00025 | valid_mse=0.44754,  valid_r2=0.53196\n",
      "alpha=0.00025 | valid_mse=0.44747,  valid_r2=0.53204\n",
      "alpha=0.00025 | valid_mse=0.44740,  valid_r2=0.53211\n",
      "alpha=0.00026 | valid_mse=0.44733,  valid_r2=0.53219\n",
      "alpha=0.00026 | valid_mse=0.44725,  valid_r2=0.53227\n",
      "alpha=0.00026 | valid_mse=0.44718,  valid_r2=0.53234\n",
      "alpha=0.00026 | valid_mse=0.44710,  valid_r2=0.53242\n",
      "alpha=0.00027 | valid_mse=0.44703,  valid_r2=0.53250\n",
      "alpha=0.00027 | valid_mse=0.44695,  valid_r2=0.53258\n",
      "alpha=0.00027 | valid_mse=0.44687,  valid_r2=0.53266\n",
      "alpha=0.00027 | valid_mse=0.44679,  valid_r2=0.53274\n",
      "alpha=0.00028 | valid_mse=0.44672,  valid_r2=0.53283\n",
      "alpha=0.00028 | valid_mse=0.44664,  valid_r2=0.53291\n",
      "alpha=0.00028 | valid_mse=0.44656,  valid_r2=0.53299\n",
      "alpha=0.00028 | valid_mse=0.44647,  valid_r2=0.53308\n",
      "alpha=0.00029 | valid_mse=0.44639,  valid_r2=0.53316\n",
      "alpha=0.00029 | valid_mse=0.44632,  valid_r2=0.53325\n",
      "alpha=0.00029 | valid_mse=0.44623,  valid_r2=0.53334\n",
      "alpha=0.00029 | valid_mse=0.44614,  valid_r2=0.53343\n",
      "alpha=0.00030 | valid_mse=0.44605,  valid_r2=0.53352\n",
      "alpha=0.00030 | valid_mse=0.44597,  valid_r2=0.53361\n",
      "alpha=0.00030 | valid_mse=0.44588,  valid_r2=0.53370\n",
      "alpha=0.00031 | valid_mse=0.44579,  valid_r2=0.53379\n",
      "alpha=0.00031 | valid_mse=0.44570,  valid_r2=0.53389\n",
      "alpha=0.00031 | valid_mse=0.44562,  valid_r2=0.53397\n",
      "alpha=0.00031 | valid_mse=0.44554,  valid_r2=0.53406\n",
      "alpha=0.00032 | valid_mse=0.44547,  valid_r2=0.53413\n",
      "alpha=0.00032 | valid_mse=0.44540,  valid_r2=0.53420\n",
      "alpha=0.00032 | valid_mse=0.44533,  valid_r2=0.53428\n",
      "alpha=0.00033 | valid_mse=0.44526,  valid_r2=0.53435\n",
      "alpha=0.00033 | valid_mse=0.44519,  valid_r2=0.53443\n",
      "alpha=0.00033 | valid_mse=0.44512,  valid_r2=0.53450\n",
      "alpha=0.00033 | valid_mse=0.44506,  valid_r2=0.53455\n",
      "alpha=0.00034 | valid_mse=0.44501,  valid_r2=0.53461\n",
      "alpha=0.00034 | valid_mse=0.44497,  valid_r2=0.53465\n",
      "alpha=0.00034 | valid_mse=0.44492,  valid_r2=0.53470\n",
      "alpha=0.00035 | valid_mse=0.44487,  valid_r2=0.53476\n",
      "alpha=0.00035 | valid_mse=0.44482,  valid_r2=0.53481\n",
      "alpha=0.00035 | valid_mse=0.44477,  valid_r2=0.53486\n",
      "alpha=0.00036 | valid_mse=0.44472,  valid_r2=0.53491\n",
      "alpha=0.00036 | valid_mse=0.44467,  valid_r2=0.53497\n",
      "alpha=0.00036 | valid_mse=0.44462,  valid_r2=0.53502\n",
      "alpha=0.00037 | valid_mse=0.44457,  valid_r2=0.53507\n",
      "alpha=0.00037 | valid_mse=0.44452,  valid_r2=0.53513\n",
      "alpha=0.00037 | valid_mse=0.44447,  valid_r2=0.53518\n",
      "alpha=0.00038 | valid_mse=0.44442,  valid_r2=0.53523\n",
      "alpha=0.00038 | valid_mse=0.44436,  valid_r2=0.53529\n",
      "alpha=0.00038 | valid_mse=0.44431,  valid_r2=0.53534\n",
      "alpha=0.00039 | valid_mse=0.44426,  valid_r2=0.53539\n",
      "alpha=0.00039 | valid_mse=0.44421,  valid_r2=0.53544\n",
      "alpha=0.00039 | valid_mse=0.44416,  valid_r2=0.53550\n",
      "alpha=0.00040 | valid_mse=0.44411,  valid_r2=0.53555\n",
      "alpha=0.00040 | valid_mse=0.44406,  valid_r2=0.53561\n",
      "alpha=0.00041 | valid_mse=0.44401,  valid_r2=0.53566\n",
      "alpha=0.00041 | valid_mse=0.44396,  valid_r2=0.53571\n",
      "alpha=0.00041 | valid_mse=0.44390,  valid_r2=0.53577\n"
     ]
    },
    {
     "name": "stdout",
     "output_type": "stream",
     "text": [
      "alpha=0.00042 | valid_mse=0.44385,  valid_r2=0.53582\n",
      "alpha=0.00042 | valid_mse=0.44380,  valid_r2=0.53587\n",
      "alpha=0.00043 | valid_mse=0.44375,  valid_r2=0.53593\n",
      "alpha=0.00043 | valid_mse=0.44370,  valid_r2=0.53598\n",
      "alpha=0.00043 | valid_mse=0.44365,  valid_r2=0.53603\n",
      "alpha=0.00044 | valid_mse=0.44360,  valid_r2=0.53609\n",
      "alpha=0.00044 | valid_mse=0.44355,  valid_r2=0.53614\n",
      "alpha=0.00045 | valid_mse=0.44349,  valid_r2=0.53620\n",
      "alpha=0.00045 | valid_mse=0.44345,  valid_r2=0.53625\n",
      "alpha=0.00045 | valid_mse=0.44339,  valid_r2=0.53630\n",
      "alpha=0.00046 | valid_mse=0.44334,  valid_r2=0.53635\n",
      "alpha=0.00046 | valid_mse=0.44329,  valid_r2=0.53641\n",
      "alpha=0.00047 | valid_mse=0.44323,  valid_r2=0.53647\n",
      "alpha=0.00047 | valid_mse=0.44317,  valid_r2=0.53653\n",
      "alpha=0.00047 | valid_mse=0.44311,  valid_r2=0.53659\n",
      "alpha=0.00048 | valid_mse=0.44305,  valid_r2=0.53666\n",
      "alpha=0.00048 | valid_mse=0.44299,  valid_r2=0.53672\n",
      "alpha=0.00049 | valid_mse=0.44293,  valid_r2=0.53678\n",
      "alpha=0.00049 | valid_mse=0.44287,  valid_r2=0.53685\n",
      "alpha=0.00050 | valid_mse=0.44281,  valid_r2=0.53691\n",
      "alpha=0.00050 | valid_mse=0.44275,  valid_r2=0.53698\n",
      "alpha=0.00051 | valid_mse=0.44268,  valid_r2=0.53704\n",
      "alpha=0.00051 | valid_mse=0.44262,  valid_r2=0.53711\n",
      "alpha=0.00052 | valid_mse=0.44256,  valid_r2=0.53717\n",
      "alpha=0.00052 | valid_mse=0.44250,  valid_r2=0.53724\n",
      "alpha=0.00053 | valid_mse=0.44243,  valid_r2=0.53730\n",
      "alpha=0.00053 | valid_mse=0.44237,  valid_r2=0.53737\n",
      "alpha=0.00054 | valid_mse=0.44231,  valid_r2=0.53743\n",
      "alpha=0.00054 | valid_mse=0.44225,  valid_r2=0.53750\n",
      "alpha=0.00055 | valid_mse=0.44219,  valid_r2=0.53756\n",
      "alpha=0.00055 | valid_mse=0.44213,  valid_r2=0.53763\n",
      "alpha=0.00056 | valid_mse=0.44207,  valid_r2=0.53769\n",
      "alpha=0.00056 | valid_mse=0.44201,  valid_r2=0.53775\n",
      "alpha=0.00057 | valid_mse=0.44195,  valid_r2=0.53782\n",
      "alpha=0.00057 | valid_mse=0.44189,  valid_r2=0.53788\n",
      "alpha=0.00058 | valid_mse=0.44183,  valid_r2=0.53794\n",
      "alpha=0.00058 | valid_mse=0.44177,  valid_r2=0.53800\n",
      "alpha=0.00059 | valid_mse=0.44171,  valid_r2=0.53806\n",
      "alpha=0.00059 | valid_mse=0.44165,  valid_r2=0.53812\n",
      "alpha=0.00060 | valid_mse=0.44160,  valid_r2=0.53818\n",
      "alpha=0.00060 | valid_mse=0.44154,  valid_r2=0.53824\n",
      "alpha=0.00061 | valid_mse=0.44148,  valid_r2=0.53830\n",
      "alpha=0.00061 | valid_mse=0.44142,  valid_r2=0.53837\n",
      "alpha=0.00062 | valid_mse=0.44136,  valid_r2=0.53843\n",
      "alpha=0.00063 | valid_mse=0.44130,  valid_r2=0.53850\n",
      "alpha=0.00063 | valid_mse=0.44124,  valid_r2=0.53856\n",
      "alpha=0.00064 | valid_mse=0.44117,  valid_r2=0.53862\n",
      "alpha=0.00064 | valid_mse=0.44112,  valid_r2=0.53868\n",
      "alpha=0.00065 | valid_mse=0.44106,  valid_r2=0.53874\n",
      "alpha=0.00066 | valid_mse=0.44100,  valid_r2=0.53881\n",
      "alpha=0.00066 | valid_mse=0.44094,  valid_r2=0.53887\n",
      "alpha=0.00067 | valid_mse=0.44088,  valid_r2=0.53893\n",
      "alpha=0.00067 | valid_mse=0.44082,  valid_r2=0.53899\n",
      "alpha=0.00068 | valid_mse=0.44076,  valid_r2=0.53906\n",
      "alpha=0.00069 | valid_mse=0.44069,  valid_r2=0.53913\n",
      "alpha=0.00069 | valid_mse=0.44062,  valid_r2=0.53920\n",
      "alpha=0.00070 | valid_mse=0.44056,  valid_r2=0.53926\n",
      "alpha=0.00071 | valid_mse=0.44049,  valid_r2=0.53933\n",
      "alpha=0.00071 | valid_mse=0.44043,  valid_r2=0.53940\n",
      "alpha=0.00072 | valid_mse=0.44036,  valid_r2=0.53947\n",
      "alpha=0.00073 | valid_mse=0.44030,  valid_r2=0.53954\n",
      "alpha=0.00073 | valid_mse=0.44023,  valid_r2=0.53961\n",
      "alpha=0.00074 | valid_mse=0.44017,  valid_r2=0.53967\n",
      "alpha=0.00075 | valid_mse=0.44011,  valid_r2=0.53974\n",
      "alpha=0.00075 | valid_mse=0.44004,  valid_r2=0.53980\n",
      "alpha=0.00076 | valid_mse=0.43998,  valid_r2=0.53987\n",
      "alpha=0.00077 | valid_mse=0.43992,  valid_r2=0.53993\n",
      "alpha=0.00077 | valid_mse=0.43987,  valid_r2=0.53998\n",
      "alpha=0.00078 | valid_mse=0.43982,  valid_r2=0.54003\n",
      "alpha=0.00079 | valid_mse=0.43978,  valid_r2=0.54008\n",
      "alpha=0.00080 | valid_mse=0.43973,  valid_r2=0.54013\n",
      "alpha=0.00080 | valid_mse=0.43969,  valid_r2=0.54017\n",
      "alpha=0.00081 | valid_mse=0.43965,  valid_r2=0.54022\n",
      "alpha=0.00082 | valid_mse=0.43961,  valid_r2=0.54026\n",
      "alpha=0.00083 | valid_mse=0.43956,  valid_r2=0.54031\n",
      "alpha=0.00083 | valid_mse=0.43952,  valid_r2=0.54035\n",
      "alpha=0.00084 | valid_mse=0.43948,  valid_r2=0.54040\n",
      "alpha=0.00085 | valid_mse=0.43943,  valid_r2=0.54044\n",
      "alpha=0.00086 | valid_mse=0.43939,  valid_r2=0.54048\n",
      "alpha=0.00086 | valid_mse=0.43935,  valid_r2=0.54053\n",
      "alpha=0.00087 | valid_mse=0.43931,  valid_r2=0.54057\n",
      "alpha=0.00088 | valid_mse=0.43928,  valid_r2=0.54061\n",
      "alpha=0.00089 | valid_mse=0.43924,  valid_r2=0.54065\n",
      "alpha=0.00090 | valid_mse=0.43917,  valid_r2=0.54072\n",
      "alpha=0.00091 | valid_mse=0.43903,  valid_r2=0.54086\n",
      "alpha=0.00091 | valid_mse=0.43895,  valid_r2=0.54095\n",
      "alpha=0.00092 | valid_mse=0.43888,  valid_r2=0.54103\n",
      "alpha=0.00093 | valid_mse=0.43881,  valid_r2=0.54110\n",
      "alpha=0.00094 | valid_mse=0.43874,  valid_r2=0.54117\n",
      "alpha=0.00095 | valid_mse=0.43867,  valid_r2=0.54124\n",
      "alpha=0.00096 | valid_mse=0.43860,  valid_r2=0.54131\n",
      "alpha=0.00097 | valid_mse=0.43853,  valid_r2=0.54138\n",
      "alpha=0.00097 | valid_mse=0.43855,  valid_r2=0.54137\n",
      "alpha=0.00098 | valid_mse=0.43856,  valid_r2=0.54136\n",
      "alpha=0.00099 | valid_mse=0.43855,  valid_r2=0.54137\n",
      "alpha=0.00100 | valid_mse=0.43853,  valid_r2=0.54139\n",
      "alpha=0.00101 | valid_mse=0.43851,  valid_r2=0.54141\n",
      "alpha=0.00102 | valid_mse=0.43849,  valid_r2=0.54143\n",
      "alpha=0.00103 | valid_mse=0.43847,  valid_r2=0.54145\n",
      "alpha=0.00104 | valid_mse=0.43845,  valid_r2=0.54147\n",
      "alpha=0.00105 | valid_mse=0.43843,  valid_r2=0.54149\n",
      "alpha=0.00106 | valid_mse=0.43838,  valid_r2=0.54154\n",
      "alpha=0.00107 | valid_mse=0.43826,  valid_r2=0.54167\n",
      "alpha=0.00108 | valid_mse=0.43812,  valid_r2=0.54181\n",
      "alpha=0.00109 | valid_mse=0.43798,  valid_r2=0.54196\n",
      "alpha=0.00110 | valid_mse=0.43785,  valid_r2=0.54209\n",
      "alpha=0.00111 | valid_mse=0.43777,  valid_r2=0.54218\n",
      "alpha=0.00112 | valid_mse=0.43768,  valid_r2=0.54228\n",
      "alpha=0.00113 | valid_mse=0.43758,  valid_r2=0.54238\n",
      "alpha=0.00114 | valid_mse=0.43749,  valid_r2=0.54247\n",
      "alpha=0.00115 | valid_mse=0.43740,  valid_r2=0.54257\n",
      "alpha=0.00116 | valid_mse=0.43731,  valid_r2=0.54267\n",
      "alpha=0.00117 | valid_mse=0.43722,  valid_r2=0.54276\n",
      "alpha=0.00118 | valid_mse=0.43713,  valid_r2=0.54285\n",
      "alpha=0.00119 | valid_mse=0.43704,  valid_r2=0.54295\n",
      "alpha=0.00121 | valid_mse=0.43695,  valid_r2=0.54304\n",
      "alpha=0.00122 | valid_mse=0.43686,  valid_r2=0.54313\n",
      "alpha=0.00123 | valid_mse=0.43678,  valid_r2=0.54322\n",
      "alpha=0.00124 | valid_mse=0.43669,  valid_r2=0.54331\n",
      "alpha=0.00125 | valid_mse=0.43661,  valid_r2=0.54340\n",
      "alpha=0.00126 | valid_mse=0.43652,  valid_r2=0.54348\n",
      "alpha=0.00127 | valid_mse=0.43644,  valid_r2=0.54357\n",
      "alpha=0.00129 | valid_mse=0.43636,  valid_r2=0.54366\n",
      "alpha=0.00130 | valid_mse=0.43627,  valid_r2=0.54375\n",
      "alpha=0.00131 | valid_mse=0.43616,  valid_r2=0.54386\n",
      "alpha=0.00132 | valid_mse=0.43606,  valid_r2=0.54397\n",
      "alpha=0.00133 | valid_mse=0.43596,  valid_r2=0.54407\n",
      "alpha=0.00135 | valid_mse=0.43587,  valid_r2=0.54417\n",
      "alpha=0.00136 | valid_mse=0.43577,  valid_r2=0.54427\n",
      "alpha=0.00137 | valid_mse=0.43567,  valid_r2=0.54438\n",
      "alpha=0.00138 | valid_mse=0.43558,  valid_r2=0.54447\n",
      "alpha=0.00140 | valid_mse=0.43548,  valid_r2=0.54458\n",
      "alpha=0.00141 | valid_mse=0.43536,  valid_r2=0.54470\n",
      "alpha=0.00142 | valid_mse=0.43525,  valid_r2=0.54481\n",
      "alpha=0.00144 | valid_mse=0.43515,  valid_r2=0.54492\n",
      "alpha=0.00145 | valid_mse=0.43505,  valid_r2=0.54502\n",
      "alpha=0.00146 | valid_mse=0.43495,  valid_r2=0.54513\n",
      "alpha=0.00148 | valid_mse=0.43482,  valid_r2=0.54526\n",
      "alpha=0.00149 | valid_mse=0.43469,  valid_r2=0.54540\n",
      "alpha=0.00150 | valid_mse=0.43448,  valid_r2=0.54563\n",
      "alpha=0.00152 | valid_mse=0.43427,  valid_r2=0.54584\n",
      "alpha=0.00153 | valid_mse=0.43407,  valid_r2=0.54605\n",
      "alpha=0.00155 | valid_mse=0.43387,  valid_r2=0.54626\n",
      "alpha=0.00156 | valid_mse=0.43366,  valid_r2=0.54648\n",
      "alpha=0.00157 | valid_mse=0.43344,  valid_r2=0.54671\n",
      "alpha=0.00159 | valid_mse=0.43320,  valid_r2=0.54697\n",
      "alpha=0.00160 | valid_mse=0.43296,  valid_r2=0.54722\n",
      "alpha=0.00162 | valid_mse=0.43271,  valid_r2=0.54747\n",
      "alpha=0.00163 | valid_mse=0.43247,  valid_r2=0.54772\n",
      "alpha=0.00165 | valid_mse=0.43223,  valid_r2=0.54798\n",
      "alpha=0.00166 | valid_mse=0.43198,  valid_r2=0.54823\n",
      "alpha=0.00168 | valid_mse=0.43174,  valid_r2=0.54849\n",
      "alpha=0.00170 | valid_mse=0.43150,  valid_r2=0.54874\n",
      "alpha=0.00171 | valid_mse=0.43125,  valid_r2=0.54900\n",
      "alpha=0.00173 | valid_mse=0.43102,  valid_r2=0.54924\n",
      "alpha=0.00174 | valid_mse=0.43075,  valid_r2=0.54952\n",
      "alpha=0.00176 | valid_mse=0.43050,  valid_r2=0.54978\n"
     ]
    },
    {
     "name": "stdout",
     "output_type": "stream",
     "text": [
      "alpha=0.00178 | valid_mse=0.43028,  valid_r2=0.55002\n",
      "alpha=0.00179 | valid_mse=0.43005,  valid_r2=0.55025\n",
      "alpha=0.00181 | valid_mse=0.42983,  valid_r2=0.55049\n",
      "alpha=0.00182 | valid_mse=0.42961,  valid_r2=0.55072\n",
      "alpha=0.00184 | valid_mse=0.42939,  valid_r2=0.55095\n",
      "alpha=0.00186 | valid_mse=0.42918,  valid_r2=0.55117\n",
      "alpha=0.00188 | valid_mse=0.42899,  valid_r2=0.55136\n",
      "alpha=0.00189 | valid_mse=0.42882,  valid_r2=0.55154\n",
      "alpha=0.00191 | valid_mse=0.42864,  valid_r2=0.55173\n",
      "alpha=0.00193 | valid_mse=0.42847,  valid_r2=0.55191\n",
      "alpha=0.00195 | valid_mse=0.42830,  valid_r2=0.55209\n",
      "alpha=0.00196 | valid_mse=0.42812,  valid_r2=0.55227\n",
      "alpha=0.00198 | valid_mse=0.42794,  valid_r2=0.55246\n",
      "alpha=0.00200 | valid_mse=0.42778,  valid_r2=0.55263\n",
      "alpha=0.00202 | valid_mse=0.42761,  valid_r2=0.55280\n",
      "alpha=0.00204 | valid_mse=0.42745,  valid_r2=0.55297\n",
      "alpha=0.00206 | valid_mse=0.42729,  valid_r2=0.55314\n",
      "alpha=0.00208 | valid_mse=0.42713,  valid_r2=0.55331\n",
      "alpha=0.00210 | valid_mse=0.42701,  valid_r2=0.55343\n",
      "alpha=0.00212 | valid_mse=0.42686,  valid_r2=0.55360\n",
      "alpha=0.00213 | valid_mse=0.42669,  valid_r2=0.55377\n",
      "alpha=0.00215 | valid_mse=0.42653,  valid_r2=0.55393\n",
      "alpha=0.00217 | valid_mse=0.42637,  valid_r2=0.55410\n",
      "alpha=0.00219 | valid_mse=0.42621,  valid_r2=0.55427\n",
      "alpha=0.00221 | valid_mse=0.42606,  valid_r2=0.55443\n",
      "alpha=0.00224 | valid_mse=0.42590,  valid_r2=0.55460\n",
      "alpha=0.00226 | valid_mse=0.42575,  valid_r2=0.55475\n",
      "alpha=0.00228 | valid_mse=0.42560,  valid_r2=0.55491\n",
      "alpha=0.00230 | valid_mse=0.42545,  valid_r2=0.55507\n",
      "alpha=0.00232 | valid_mse=0.42530,  valid_r2=0.55522\n",
      "alpha=0.00234 | valid_mse=0.42515,  valid_r2=0.55538\n",
      "alpha=0.00236 | valid_mse=0.42501,  valid_r2=0.55553\n",
      "alpha=0.00238 | valid_mse=0.42486,  valid_r2=0.55568\n",
      "alpha=0.00241 | valid_mse=0.42472,  valid_r2=0.55583\n",
      "alpha=0.00243 | valid_mse=0.42457,  valid_r2=0.55598\n",
      "alpha=0.00245 | valid_mse=0.42443,  valid_r2=0.55614\n",
      "alpha=0.00247 | valid_mse=0.42428,  valid_r2=0.55629\n",
      "alpha=0.00250 | valid_mse=0.42417,  valid_r2=0.55641\n",
      "alpha=0.00252 | valid_mse=0.42408,  valid_r2=0.55650\n",
      "alpha=0.00254 | valid_mse=0.42399,  valid_r2=0.55660\n",
      "alpha=0.00257 | valid_mse=0.42390,  valid_r2=0.55669\n",
      "alpha=0.00259 | valid_mse=0.42381,  valid_r2=0.55678\n",
      "alpha=0.00261 | valid_mse=0.42372,  valid_r2=0.55687\n",
      "alpha=0.00264 | valid_mse=0.42363,  valid_r2=0.55697\n",
      "alpha=0.00266 | valid_mse=0.42355,  valid_r2=0.55706\n",
      "alpha=0.00269 | valid_mse=0.42346,  valid_r2=0.55715\n",
      "alpha=0.00271 | valid_mse=0.42338,  valid_r2=0.55724\n",
      "alpha=0.00274 | valid_mse=0.42328,  valid_r2=0.55734\n",
      "alpha=0.00276 | valid_mse=0.42320,  valid_r2=0.55742\n",
      "alpha=0.00279 | valid_mse=0.42313,  valid_r2=0.55750\n",
      "alpha=0.00281 | valid_mse=0.42306,  valid_r2=0.55757\n",
      "alpha=0.00284 | valid_mse=0.42299,  valid_r2=0.55764\n",
      "alpha=0.00287 | valid_mse=0.42293,  valid_r2=0.55771\n",
      "alpha=0.00289 | valid_mse=0.42286,  valid_r2=0.55777\n",
      "alpha=0.00292 | valid_mse=0.42280,  valid_r2=0.55784\n",
      "alpha=0.00295 | valid_mse=0.42272,  valid_r2=0.55792\n",
      "alpha=0.00297 | valid_mse=0.42263,  valid_r2=0.55802\n",
      "alpha=0.00300 | valid_mse=0.42254,  valid_r2=0.55811\n",
      "alpha=0.00303 | valid_mse=0.42246,  valid_r2=0.55819\n",
      "alpha=0.00306 | valid_mse=0.42238,  valid_r2=0.55827\n",
      "alpha=0.00309 | valid_mse=0.42230,  valid_r2=0.55836\n",
      "alpha=0.00312 | valid_mse=0.42223,  valid_r2=0.55844\n",
      "alpha=0.00314 | valid_mse=0.42215,  valid_r2=0.55852\n",
      "alpha=0.00317 | valid_mse=0.42207,  valid_r2=0.55860\n",
      "alpha=0.00320 | valid_mse=0.42200,  valid_r2=0.55867\n",
      "alpha=0.00323 | valid_mse=0.42193,  valid_r2=0.55875\n",
      "alpha=0.00326 | valid_mse=0.42187,  valid_r2=0.55881\n",
      "alpha=0.00329 | valid_mse=0.42183,  valid_r2=0.55886\n",
      "alpha=0.00332 | valid_mse=0.42178,  valid_r2=0.55890\n",
      "alpha=0.00335 | valid_mse=0.42174,  valid_r2=0.55894\n",
      "alpha=0.00338 | valid_mse=0.42171,  valid_r2=0.55897\n",
      "alpha=0.00342 | valid_mse=0.42169,  valid_r2=0.55900\n",
      "alpha=0.00345 | valid_mse=0.42167,  valid_r2=0.55902\n",
      "alpha=0.00348 | valid_mse=0.42165,  valid_r2=0.55904\n",
      "alpha=0.00351 | valid_mse=0.42163,  valid_r2=0.55906\n",
      "alpha=0.00354 | valid_mse=0.42162,  valid_r2=0.55907\n",
      "alpha=0.00358 | valid_mse=0.42160,  valid_r2=0.55909\n",
      "alpha=0.00361 | valid_mse=0.42159,  valid_r2=0.55910\n",
      "alpha=0.00364 | valid_mse=0.42159,  valid_r2=0.55911\n",
      "alpha=0.00368 | valid_mse=0.42158,  valid_r2=0.55911\n",
      "alpha=0.00371 | valid_mse=0.42157,  valid_r2=0.55912\n",
      "alpha=0.00375 | valid_mse=0.42157,  valid_r2=0.55912\n",
      "alpha=0.00378 | valid_mse=0.42157,  valid_r2=0.55912\n",
      "alpha=0.00382 | valid_mse=0.42157,  valid_r2=0.55913\n",
      "alpha=0.00385 | valid_mse=0.42156,  valid_r2=0.55913\n",
      "alpha=0.00389 | valid_mse=0.42156,  valid_r2=0.55914\n",
      "alpha=0.00392 | valid_mse=0.42156,  valid_r2=0.55914\n",
      "alpha=0.00396 | valid_mse=0.42155,  valid_r2=0.55914\n",
      "alpha=0.00400 | valid_mse=0.42154,  valid_r2=0.55915\n",
      "alpha=0.00403 | valid_mse=0.42153,  valid_r2=0.55916\n",
      "alpha=0.00407 | valid_mse=0.42153,  valid_r2=0.55917\n",
      "alpha=0.00411 | valid_mse=0.42152,  valid_r2=0.55918\n",
      "alpha=0.00415 | valid_mse=0.42151,  valid_r2=0.55919\n",
      "alpha=0.00418 | valid_mse=0.42149,  valid_r2=0.55921\n",
      "alpha=0.00422 | valid_mse=0.42148,  valid_r2=0.55922\n",
      "alpha=0.00426 | valid_mse=0.42149,  valid_r2=0.55921\n",
      "alpha=0.00430 | valid_mse=0.42151,  valid_r2=0.55919\n",
      "alpha=0.00434 | valid_mse=0.42153,  valid_r2=0.55917\n",
      "alpha=0.00438 | valid_mse=0.42155,  valid_r2=0.55915\n",
      "alpha=0.00442 | valid_mse=0.42157,  valid_r2=0.55913\n",
      "alpha=0.00446 | valid_mse=0.42159,  valid_r2=0.55910\n",
      "alpha=0.00450 | valid_mse=0.42162,  valid_r2=0.55907\n",
      "alpha=0.00455 | valid_mse=0.42165,  valid_r2=0.55904\n",
      "alpha=0.00459 | valid_mse=0.42167,  valid_r2=0.55902\n",
      "alpha=0.00463 | valid_mse=0.42170,  valid_r2=0.55899\n",
      "alpha=0.00467 | valid_mse=0.42172,  valid_r2=0.55897\n",
      "alpha=0.00472 | valid_mse=0.42175,  valid_r2=0.55894\n",
      "alpha=0.00476 | valid_mse=0.42178,  valid_r2=0.55890\n",
      "alpha=0.00480 | valid_mse=0.42181,  valid_r2=0.55887\n",
      "alpha=0.00485 | valid_mse=0.42185,  valid_r2=0.55883\n",
      "alpha=0.00489 | valid_mse=0.42189,  valid_r2=0.55879\n",
      "alpha=0.00494 | valid_mse=0.42193,  valid_r2=0.55875\n",
      "alpha=0.00499 | valid_mse=0.42197,  valid_r2=0.55871\n",
      "alpha=0.00503 | valid_mse=0.42201,  valid_r2=0.55866\n",
      "alpha=0.00508 | valid_mse=0.42206,  valid_r2=0.55861\n",
      "alpha=0.00513 | valid_mse=0.42211,  valid_r2=0.55856\n",
      "alpha=0.00517 | valid_mse=0.42216,  valid_r2=0.55851\n",
      "alpha=0.00522 | valid_mse=0.42222,  valid_r2=0.55845\n",
      "alpha=0.00527 | valid_mse=0.42227,  valid_r2=0.55839\n",
      "alpha=0.00532 | valid_mse=0.42226,  valid_r2=0.55840\n",
      "alpha=0.00537 | valid_mse=0.42227,  valid_r2=0.55839\n",
      "alpha=0.00542 | valid_mse=0.42228,  valid_r2=0.55838\n",
      "alpha=0.00547 | valid_mse=0.42228,  valid_r2=0.55838\n",
      "alpha=0.00552 | valid_mse=0.42229,  valid_r2=0.55837\n",
      "alpha=0.00557 | valid_mse=0.42230,  valid_r2=0.55836\n",
      "alpha=0.00562 | valid_mse=0.42232,  valid_r2=0.55834\n",
      "alpha=0.00567 | valid_mse=0.42234,  valid_r2=0.55832\n",
      "alpha=0.00572 | valid_mse=0.42237,  valid_r2=0.55829\n",
      "alpha=0.00578 | valid_mse=0.42238,  valid_r2=0.55828\n",
      "alpha=0.00583 | valid_mse=0.42238,  valid_r2=0.55828\n",
      "alpha=0.00589 | valid_mse=0.42238,  valid_r2=0.55828\n",
      "alpha=0.00594 | valid_mse=0.42238,  valid_r2=0.55828\n",
      "alpha=0.00599 | valid_mse=0.42238,  valid_r2=0.55828\n",
      "alpha=0.00605 | valid_mse=0.42242,  valid_r2=0.55823\n",
      "alpha=0.00611 | valid_mse=0.42247,  valid_r2=0.55818\n",
      "alpha=0.00616 | valid_mse=0.42252,  valid_r2=0.55813\n",
      "alpha=0.00622 | valid_mse=0.42258,  valid_r2=0.55807\n",
      "alpha=0.00628 | valid_mse=0.42263,  valid_r2=0.55801\n",
      "alpha=0.00634 | valid_mse=0.42268,  valid_r2=0.55796\n",
      "alpha=0.00639 | valid_mse=0.42273,  valid_r2=0.55791\n",
      "alpha=0.00645 | valid_mse=0.42278,  valid_r2=0.55786\n",
      "alpha=0.00651 | valid_mse=0.42283,  valid_r2=0.55780\n",
      "alpha=0.00657 | valid_mse=0.42289,  valid_r2=0.55774\n",
      "alpha=0.00663 | valid_mse=0.42295,  valid_r2=0.55768\n",
      "alpha=0.00670 | valid_mse=0.42301,  valid_r2=0.55762\n",
      "alpha=0.00676 | valid_mse=0.42308,  valid_r2=0.55755\n",
      "alpha=0.00682 | valid_mse=0.42315,  valid_r2=0.55748\n",
      "alpha=0.00688 | valid_mse=0.42322,  valid_r2=0.55740\n",
      "alpha=0.00695 | valid_mse=0.42329,  valid_r2=0.55732\n",
      "alpha=0.00701 | valid_mse=0.42337,  valid_r2=0.55724\n",
      "alpha=0.00708 | valid_mse=0.42345,  valid_r2=0.55715\n",
      "alpha=0.00714 | valid_mse=0.42354,  valid_r2=0.55706\n",
      "alpha=0.00721 | valid_mse=0.42364,  valid_r2=0.55696\n",
      "alpha=0.00728 | valid_mse=0.42374,  valid_r2=0.55686\n",
      "alpha=0.00734 | valid_mse=0.42384,  valid_r2=0.55675\n"
     ]
    },
    {
     "name": "stdout",
     "output_type": "stream",
     "text": [
      "alpha=0.00741 | valid_mse=0.42395,  valid_r2=0.55664\n",
      "alpha=0.00748 | valid_mse=0.42406,  valid_r2=0.55652\n",
      "alpha=0.00755 | valid_mse=0.42418,  valid_r2=0.55640\n",
      "alpha=0.00762 | valid_mse=0.42430,  valid_r2=0.55627\n",
      "alpha=0.00769 | valid_mse=0.42442,  valid_r2=0.55614\n",
      "alpha=0.00776 | valid_mse=0.42455,  valid_r2=0.55601\n",
      "alpha=0.00783 | valid_mse=0.42468,  valid_r2=0.55587\n",
      "alpha=0.00790 | valid_mse=0.42482,  valid_r2=0.55573\n",
      "alpha=0.00798 | valid_mse=0.42496,  valid_r2=0.55558\n",
      "alpha=0.00805 | valid_mse=0.42511,  valid_r2=0.55542\n",
      "alpha=0.00813 | valid_mse=0.42526,  valid_r2=0.55526\n",
      "alpha=0.00820 | valid_mse=0.42533,  valid_r2=0.55519\n",
      "alpha=0.00828 | valid_mse=0.42536,  valid_r2=0.55516\n",
      "alpha=0.00835 | valid_mse=0.42539,  valid_r2=0.55513\n",
      "alpha=0.00843 | valid_mse=0.42544,  valid_r2=0.55508\n",
      "alpha=0.00851 | valid_mse=0.42548,  valid_r2=0.55503\n",
      "alpha=0.00859 | valid_mse=0.42554,  valid_r2=0.55497\n",
      "alpha=0.00867 | valid_mse=0.42560,  valid_r2=0.55491\n",
      "alpha=0.00875 | valid_mse=0.42567,  valid_r2=0.55484\n",
      "alpha=0.00883 | valid_mse=0.42574,  valid_r2=0.55477\n",
      "alpha=0.00891 | valid_mse=0.42581,  valid_r2=0.55469\n",
      "alpha=0.00899 | valid_mse=0.42589,  valid_r2=0.55461\n",
      "alpha=0.00908 | valid_mse=0.42597,  valid_r2=0.55452\n",
      "alpha=0.00916 | valid_mse=0.42605,  valid_r2=0.55444\n",
      "alpha=0.00925 | valid_mse=0.42613,  valid_r2=0.55436\n",
      "alpha=0.00933 | valid_mse=0.42621,  valid_r2=0.55427\n",
      "alpha=0.00942 | valid_mse=0.42631,  valid_r2=0.55417\n",
      "alpha=0.00951 | valid_mse=0.42640,  valid_r2=0.55407\n",
      "alpha=0.00959 | valid_mse=0.42650,  valid_r2=0.55397\n",
      "alpha=0.00968 | valid_mse=0.42657,  valid_r2=0.55389\n",
      "alpha=0.00977 | valid_mse=0.42665,  valid_r2=0.55381\n",
      "alpha=0.00986 | valid_mse=0.42674,  valid_r2=0.55372\n",
      "alpha=0.00995 | valid_mse=0.42683,  valid_r2=0.55362\n",
      "alpha=0.01005 | valid_mse=0.42693,  valid_r2=0.55352\n",
      "alpha=0.01014 | valid_mse=0.42703,  valid_r2=0.55342\n",
      "alpha=0.01023 | valid_mse=0.42712,  valid_r2=0.55331\n",
      "alpha=0.01033 | valid_mse=0.42717,  valid_r2=0.55327\n",
      "alpha=0.01042 | valid_mse=0.42719,  valid_r2=0.55324\n",
      "alpha=0.01052 | valid_mse=0.42720,  valid_r2=0.55324\n",
      "alpha=0.01062 | valid_mse=0.42721,  valid_r2=0.55323\n",
      "alpha=0.01072 | valid_mse=0.42722,  valid_r2=0.55322\n",
      "alpha=0.01082 | valid_mse=0.42723,  valid_r2=0.55320\n",
      "alpha=0.01092 | valid_mse=0.42725,  valid_r2=0.55318\n",
      "alpha=0.01102 | valid_mse=0.42727,  valid_r2=0.55316\n",
      "alpha=0.01112 | valid_mse=0.42728,  valid_r2=0.55315\n",
      "alpha=0.01122 | valid_mse=0.42725,  valid_r2=0.55318\n",
      "alpha=0.01133 | valid_mse=0.42722,  valid_r2=0.55321\n",
      "alpha=0.01143 | valid_mse=0.42720,  valid_r2=0.55323\n",
      "alpha=0.01154 | valid_mse=0.42718,  valid_r2=0.55325\n",
      "alpha=0.01164 | valid_mse=0.42717,  valid_r2=0.55327\n",
      "alpha=0.01175 | valid_mse=0.42716,  valid_r2=0.55328\n",
      "alpha=0.01186 | valid_mse=0.42714,  valid_r2=0.55330\n",
      "alpha=0.01197 | valid_mse=0.42713,  valid_r2=0.55331\n",
      "alpha=0.01208 | valid_mse=0.42714,  valid_r2=0.55330\n",
      "alpha=0.01219 | valid_mse=0.42714,  valid_r2=0.55330\n",
      "alpha=0.01231 | valid_mse=0.42715,  valid_r2=0.55329\n",
      "alpha=0.01242 | valid_mse=0.42716,  valid_r2=0.55328\n",
      "alpha=0.01253 | valid_mse=0.42717,  valid_r2=0.55327\n",
      "alpha=0.01265 | valid_mse=0.42719,  valid_r2=0.55325\n",
      "alpha=0.01277 | valid_mse=0.42723,  valid_r2=0.55321\n",
      "alpha=0.01289 | valid_mse=0.42728,  valid_r2=0.55315\n",
      "alpha=0.01301 | valid_mse=0.42734,  valid_r2=0.55309\n",
      "alpha=0.01313 | valid_mse=0.42740,  valid_r2=0.55303\n",
      "alpha=0.01325 | valid_mse=0.42745,  valid_r2=0.55297\n",
      "alpha=0.01337 | valid_mse=0.42747,  valid_r2=0.55296\n",
      "alpha=0.01349 | valid_mse=0.42748,  valid_r2=0.55294\n",
      "alpha=0.01362 | valid_mse=0.42750,  valid_r2=0.55292\n",
      "alpha=0.01374 | valid_mse=0.42753,  valid_r2=0.55289\n",
      "alpha=0.01387 | valid_mse=0.42752,  valid_r2=0.55291\n",
      "alpha=0.01400 | valid_mse=0.42750,  valid_r2=0.55292\n",
      "alpha=0.01413 | valid_mse=0.42748,  valid_r2=0.55294\n",
      "alpha=0.01426 | valid_mse=0.42748,  valid_r2=0.55295\n",
      "alpha=0.01439 | valid_mse=0.42746,  valid_r2=0.55296\n",
      "alpha=0.01453 | valid_mse=0.42744,  valid_r2=0.55298\n",
      "alpha=0.01466 | valid_mse=0.42743,  valid_r2=0.55300\n",
      "alpha=0.01480 | valid_mse=0.42741,  valid_r2=0.55302\n",
      "alpha=0.01493 | valid_mse=0.42740,  valid_r2=0.55303\n",
      "alpha=0.01507 | valid_mse=0.42738,  valid_r2=0.55304\n",
      "alpha=0.01521 | valid_mse=0.42737,  valid_r2=0.55305\n",
      "alpha=0.01535 | valid_mse=0.42737,  valid_r2=0.55306\n",
      "alpha=0.01549 | valid_mse=0.42736,  valid_r2=0.55307\n",
      "alpha=0.01564 | valid_mse=0.42738,  valid_r2=0.55305\n",
      "alpha=0.01578 | valid_mse=0.42741,  valid_r2=0.55302\n",
      "alpha=0.01593 | valid_mse=0.42744,  valid_r2=0.55299\n",
      "alpha=0.01608 | valid_mse=0.42747,  valid_r2=0.55296\n",
      "alpha=0.01623 | valid_mse=0.42750,  valid_r2=0.55292\n",
      "alpha=0.01638 | valid_mse=0.42754,  valid_r2=0.55288\n",
      "alpha=0.01653 | valid_mse=0.42758,  valid_r2=0.55284\n",
      "alpha=0.01668 | valid_mse=0.42762,  valid_r2=0.55280\n",
      "alpha=0.01684 | valid_mse=0.42766,  valid_r2=0.55275\n",
      "alpha=0.01699 | valid_mse=0.42771,  valid_r2=0.55271\n",
      "alpha=0.01715 | valid_mse=0.42775,  valid_r2=0.55266\n",
      "alpha=0.01731 | valid_mse=0.42780,  valid_r2=0.55261\n",
      "alpha=0.01747 | valid_mse=0.42786,  valid_r2=0.55255\n",
      "alpha=0.01763 | valid_mse=0.42791,  valid_r2=0.55249\n",
      "alpha=0.01779 | valid_mse=0.42797,  valid_r2=0.55243\n",
      "alpha=0.01796 | valid_mse=0.42803,  valid_r2=0.55237\n",
      "alpha=0.01812 | valid_mse=0.42808,  valid_r2=0.55231\n",
      "alpha=0.01829 | valid_mse=0.42814,  valid_r2=0.55225\n",
      "alpha=0.01846 | valid_mse=0.42820,  valid_r2=0.55219\n",
      "alpha=0.01863 | valid_mse=0.42826,  valid_r2=0.55213\n",
      "alpha=0.01881 | valid_mse=0.42833,  valid_r2=0.55205\n",
      "alpha=0.01898 | valid_mse=0.42840,  valid_r2=0.55198\n",
      "alpha=0.01916 | valid_mse=0.42847,  valid_r2=0.55190\n",
      "alpha=0.01933 | valid_mse=0.42855,  valid_r2=0.55182\n",
      "alpha=0.01951 | valid_mse=0.42863,  valid_r2=0.55174\n",
      "alpha=0.01969 | valid_mse=0.42872,  valid_r2=0.55165\n",
      "alpha=0.01987 | valid_mse=0.42881,  valid_r2=0.55156\n",
      "alpha=0.02006 | valid_mse=0.42890,  valid_r2=0.55146\n",
      "alpha=0.02024 | valid_mse=0.42900,  valid_r2=0.55135\n",
      "alpha=0.02043 | valid_mse=0.42912,  valid_r2=0.55123\n",
      "alpha=0.02062 | valid_mse=0.42923,  valid_r2=0.55111\n",
      "alpha=0.02081 | valid_mse=0.42934,  valid_r2=0.55100\n",
      "alpha=0.02100 | valid_mse=0.42945,  valid_r2=0.55089\n",
      "alpha=0.02120 | valid_mse=0.42956,  valid_r2=0.55077\n",
      "alpha=0.02140 | valid_mse=0.42968,  valid_r2=0.55064\n",
      "alpha=0.02159 | valid_mse=0.42981,  valid_r2=0.55051\n",
      "alpha=0.02179 | valid_mse=0.42994,  valid_r2=0.55037\n",
      "alpha=0.02200 | valid_mse=0.43007,  valid_r2=0.55023\n",
      "alpha=0.02220 | valid_mse=0.43021,  valid_r2=0.55009\n",
      "alpha=0.02241 | valid_mse=0.43034,  valid_r2=0.54995\n",
      "alpha=0.02261 | valid_mse=0.43049,  valid_r2=0.54980\n",
      "alpha=0.02282 | valid_mse=0.43063,  valid_r2=0.54965\n",
      "alpha=0.02303 | valid_mse=0.43078,  valid_r2=0.54949\n",
      "alpha=0.02325 | valid_mse=0.43094,  valid_r2=0.54933\n",
      "alpha=0.02346 | valid_mse=0.43110,  valid_r2=0.54916\n",
      "alpha=0.02368 | valid_mse=0.43127,  valid_r2=0.54898\n",
      "alpha=0.02390 | valid_mse=0.43144,  valid_r2=0.54880\n",
      "alpha=0.02412 | valid_mse=0.43162,  valid_r2=0.54862\n",
      "alpha=0.02434 | valid_mse=0.43180,  valid_r2=0.54843\n",
      "alpha=0.02457 | valid_mse=0.43199,  valid_r2=0.54823\n",
      "alpha=0.02480 | valid_mse=0.43219,  valid_r2=0.54802\n",
      "alpha=0.02503 | valid_mse=0.43239,  valid_r2=0.54781\n",
      "alpha=0.02526 | valid_mse=0.43259,  valid_r2=0.54760\n",
      "alpha=0.02549 | valid_mse=0.43278,  valid_r2=0.54740\n",
      "alpha=0.02573 | valid_mse=0.43298,  valid_r2=0.54719\n",
      "alpha=0.02597 | valid_mse=0.43319,  valid_r2=0.54697\n",
      "alpha=0.02621 | valid_mse=0.43341,  valid_r2=0.54675\n",
      "alpha=0.02645 | valid_mse=0.43363,  valid_r2=0.54652\n",
      "alpha=0.02669 | valid_mse=0.43385,  valid_r2=0.54628\n",
      "alpha=0.02694 | valid_mse=0.43409,  valid_r2=0.54604\n",
      "alpha=0.02719 | valid_mse=0.43433,  valid_r2=0.54578\n",
      "alpha=0.02744 | valid_mse=0.43457,  valid_r2=0.54552\n",
      "alpha=0.02770 | valid_mse=0.43483,  valid_r2=0.54526\n",
      "alpha=0.02795 | valid_mse=0.43509,  valid_r2=0.54498\n",
      "alpha=0.02821 | valid_mse=0.43536,  valid_r2=0.54470\n",
      "alpha=0.02847 | valid_mse=0.43564,  valid_r2=0.54441\n",
      "alpha=0.02874 | valid_mse=0.43592,  valid_r2=0.54412\n",
      "alpha=0.02900 | valid_mse=0.43621,  valid_r2=0.54381\n",
      "alpha=0.02927 | valid_mse=0.43651,  valid_r2=0.54350\n",
      "alpha=0.02954 | valid_mse=0.43681,  valid_r2=0.54319\n",
      "alpha=0.02982 | valid_mse=0.43712,  valid_r2=0.54286\n",
      "alpha=0.03009 | valid_mse=0.43742,  valid_r2=0.54254\n",
      "alpha=0.03037 | valid_mse=0.43773,  valid_r2=0.54222\n",
      "alpha=0.03065 | valid_mse=0.43805,  valid_r2=0.54189\n",
      "alpha=0.03094 | valid_mse=0.43837,  valid_r2=0.54155\n",
      "alpha=0.03122 | valid_mse=0.43869,  valid_r2=0.54122\n",
      "alpha=0.03151 | valid_mse=0.43902,  valid_r2=0.54087\n",
      "alpha=0.03181 | valid_mse=0.43936,  valid_r2=0.54052\n",
      "alpha=0.03210 | valid_mse=0.43970,  valid_r2=0.54016\n",
      "alpha=0.03240 | valid_mse=0.44006,  valid_r2=0.53979\n",
      "alpha=0.03270 | valid_mse=0.44042,  valid_r2=0.53941\n",
      "alpha=0.03300 | valid_mse=0.44079,  valid_r2=0.53902\n"
     ]
    },
    {
     "name": "stdout",
     "output_type": "stream",
     "text": [
      "alpha=0.03331 | valid_mse=0.44117,  valid_r2=0.53863\n",
      "alpha=0.03361 | valid_mse=0.44156,  valid_r2=0.53822\n",
      "alpha=0.03393 | valid_mse=0.44195,  valid_r2=0.53781\n",
      "alpha=0.03424 | valid_mse=0.44236,  valid_r2=0.53738\n",
      "alpha=0.03456 | valid_mse=0.44277,  valid_r2=0.53695\n",
      "alpha=0.03488 | valid_mse=0.44317,  valid_r2=0.53653\n",
      "alpha=0.03520 | valid_mse=0.44358,  valid_r2=0.53610\n",
      "alpha=0.03553 | valid_mse=0.44400,  valid_r2=0.53567\n",
      "alpha=0.03586 | valid_mse=0.44443,  valid_r2=0.53522\n",
      "alpha=0.03619 | valid_mse=0.44487,  valid_r2=0.53476\n",
      "alpha=0.03652 | valid_mse=0.44532,  valid_r2=0.53429\n",
      "alpha=0.03686 | valid_mse=0.44571,  valid_r2=0.53388\n",
      "alpha=0.03720 | valid_mse=0.44609,  valid_r2=0.53348\n",
      "alpha=0.03755 | valid_mse=0.44648,  valid_r2=0.53307\n",
      "alpha=0.03789 | valid_mse=0.44685,  valid_r2=0.53269\n",
      "alpha=0.03825 | valid_mse=0.44718,  valid_r2=0.53234\n",
      "alpha=0.03860 | valid_mse=0.44747,  valid_r2=0.53204\n",
      "alpha=0.03896 | valid_mse=0.44776,  valid_r2=0.53174\n",
      "alpha=0.03932 | valid_mse=0.44804,  valid_r2=0.53144\n",
      "alpha=0.03968 | valid_mse=0.44835,  valid_r2=0.53112\n",
      "alpha=0.04005 | valid_mse=0.44865,  valid_r2=0.53080\n",
      "alpha=0.04042 | valid_mse=0.44894,  valid_r2=0.53050\n",
      "alpha=0.04080 | valid_mse=0.44916,  valid_r2=0.53027\n",
      "alpha=0.04117 | valid_mse=0.44939,  valid_r2=0.53003\n",
      "alpha=0.04155 | valid_mse=0.44963,  valid_r2=0.52978\n",
      "alpha=0.04194 | valid_mse=0.44983,  valid_r2=0.52957\n",
      "alpha=0.04233 | valid_mse=0.45004,  valid_r2=0.52935\n",
      "alpha=0.04272 | valid_mse=0.45025,  valid_r2=0.52913\n",
      "alpha=0.04312 | valid_mse=0.45047,  valid_r2=0.52890\n",
      "alpha=0.04351 | valid_mse=0.45069,  valid_r2=0.52867\n",
      "alpha=0.04392 | valid_mse=0.45092,  valid_r2=0.52843\n",
      "alpha=0.04432 | valid_mse=0.45115,  valid_r2=0.52819\n",
      "alpha=0.04474 | valid_mse=0.45138,  valid_r2=0.52794\n",
      "alpha=0.04515 | valid_mse=0.45163,  valid_r2=0.52769\n",
      "alpha=0.04557 | valid_mse=0.45187,  valid_r2=0.52743\n",
      "alpha=0.04599 | valid_mse=0.45213,  valid_r2=0.52717\n",
      "alpha=0.04642 | valid_mse=0.45238,  valid_r2=0.52690\n",
      "alpha=0.04685 | valid_mse=0.45261,  valid_r2=0.52667\n",
      "alpha=0.04728 | valid_mse=0.45282,  valid_r2=0.52644\n",
      "alpha=0.04772 | valid_mse=0.45304,  valid_r2=0.52621\n",
      "alpha=0.04816 | valid_mse=0.45327,  valid_r2=0.52597\n",
      "alpha=0.04861 | valid_mse=0.45350,  valid_r2=0.52573\n",
      "alpha=0.04906 | valid_mse=0.45375,  valid_r2=0.52547\n",
      "alpha=0.04951 | valid_mse=0.45400,  valid_r2=0.52521\n",
      "alpha=0.04997 | valid_mse=0.45425,  valid_r2=0.52495\n",
      "alpha=0.05043 | valid_mse=0.45450,  valid_r2=0.52468\n",
      "alpha=0.05090 | valid_mse=0.45476,  valid_r2=0.52441\n",
      "alpha=0.05137 | valid_mse=0.45503,  valid_r2=0.52413\n",
      "alpha=0.05185 | valid_mse=0.45527,  valid_r2=0.52388\n",
      "alpha=0.05233 | valid_mse=0.45550,  valid_r2=0.52364\n",
      "alpha=0.05281 | valid_mse=0.45573,  valid_r2=0.52340\n",
      "alpha=0.05330 | valid_mse=0.45596,  valid_r2=0.52316\n",
      "alpha=0.05379 | valid_mse=0.45619,  valid_r2=0.52292\n",
      "alpha=0.05429 | valid_mse=0.45643,  valid_r2=0.52267\n",
      "alpha=0.05479 | valid_mse=0.45667,  valid_r2=0.52241\n",
      "alpha=0.05530 | valid_mse=0.45692,  valid_r2=0.52215\n",
      "alpha=0.05581 | valid_mse=0.45718,  valid_r2=0.52189\n",
      "alpha=0.05633 | valid_mse=0.45743,  valid_r2=0.52162\n",
      "alpha=0.05685 | valid_mse=0.45770,  valid_r2=0.52134\n",
      "alpha=0.05738 | valid_mse=0.45797,  valid_r2=0.52106\n",
      "alpha=0.05791 | valid_mse=0.45824,  valid_r2=0.52077\n",
      "alpha=0.05845 | valid_mse=0.45852,  valid_r2=0.52048\n",
      "alpha=0.05899 | valid_mse=0.45881,  valid_r2=0.52018\n",
      "alpha=0.05954 | valid_mse=0.45910,  valid_r2=0.51988\n",
      "alpha=0.06009 | valid_mse=0.45939,  valid_r2=0.51957\n",
      "alpha=0.06064 | valid_mse=0.45969,  valid_r2=0.51925\n",
      "alpha=0.06120 | valid_mse=0.46000,  valid_r2=0.51893\n",
      "alpha=0.06177 | valid_mse=0.46031,  valid_r2=0.51860\n",
      "alpha=0.06234 | valid_mse=0.46063,  valid_r2=0.51827\n",
      "alpha=0.06292 | valid_mse=0.46096,  valid_r2=0.51793\n",
      "alpha=0.06350 | valid_mse=0.46129,  valid_r2=0.51758\n",
      "alpha=0.06409 | valid_mse=0.46163,  valid_r2=0.51723\n",
      "alpha=0.06469 | valid_mse=0.46197,  valid_r2=0.51687\n",
      "alpha=0.06529 | valid_mse=0.46233,  valid_r2=0.51650\n",
      "alpha=0.06589 | valid_mse=0.46272,  valid_r2=0.51609\n",
      "alpha=0.06650 | valid_mse=0.46312,  valid_r2=0.51567\n",
      "alpha=0.06712 | valid_mse=0.46353,  valid_r2=0.51524\n",
      "alpha=0.06774 | valid_mse=0.46394,  valid_r2=0.51481\n",
      "alpha=0.06837 | valid_mse=0.46436,  valid_r2=0.51437\n",
      "alpha=0.06900 | valid_mse=0.46480,  valid_r2=0.51392\n",
      "alpha=0.06964 | valid_mse=0.46517,  valid_r2=0.51352\n",
      "alpha=0.07028 | valid_mse=0.46554,  valid_r2=0.51314\n",
      "alpha=0.07093 | valid_mse=0.46592,  valid_r2=0.51275\n",
      "alpha=0.07159 | valid_mse=0.46630,  valid_r2=0.51235\n",
      "alpha=0.07225 | valid_mse=0.46669,  valid_r2=0.51194\n",
      "alpha=0.07292 | valid_mse=0.46708,  valid_r2=0.51153\n",
      "alpha=0.07360 | valid_mse=0.46748,  valid_r2=0.51111\n",
      "alpha=0.07428 | valid_mse=0.46789,  valid_r2=0.51069\n",
      "alpha=0.07497 | valid_mse=0.46830,  valid_r2=0.51025\n",
      "alpha=0.07566 | valid_mse=0.46872,  valid_r2=0.50981\n",
      "alpha=0.07636 | valid_mse=0.46915,  valid_r2=0.50937\n",
      "alpha=0.07707 | valid_mse=0.46958,  valid_r2=0.50891\n",
      "alpha=0.07778 | valid_mse=0.47002,  valid_r2=0.50845\n",
      "alpha=0.07850 | valid_mse=0.47047,  valid_r2=0.50798\n",
      "alpha=0.07923 | valid_mse=0.47093,  valid_r2=0.50750\n",
      "alpha=0.07997 | valid_mse=0.47140,  valid_r2=0.50702\n",
      "alpha=0.08071 | valid_mse=0.47187,  valid_r2=0.50652\n",
      "alpha=0.08145 | valid_mse=0.47235,  valid_r2=0.50602\n",
      "alpha=0.08221 | valid_mse=0.47283,  valid_r2=0.50551\n",
      "alpha=0.08297 | valid_mse=0.47333,  valid_r2=0.50499\n",
      "alpha=0.08374 | valid_mse=0.47384,  valid_r2=0.50446\n",
      "alpha=0.08451 | valid_mse=0.47435,  valid_r2=0.50393\n",
      "alpha=0.08530 | valid_mse=0.47487,  valid_r2=0.50338\n",
      "alpha=0.08609 | valid_mse=0.47540,  valid_r2=0.50283\n",
      "alpha=0.08688 | valid_mse=0.47594,  valid_r2=0.50226\n",
      "alpha=0.08769 | valid_mse=0.47649,  valid_r2=0.50169\n",
      "alpha=0.08850 | valid_mse=0.47705,  valid_r2=0.50111\n",
      "alpha=0.08932 | valid_mse=0.47761,  valid_r2=0.50052\n",
      "alpha=0.09015 | valid_mse=0.47819,  valid_r2=0.49991\n",
      "alpha=0.09098 | valid_mse=0.47877,  valid_r2=0.49930\n",
      "alpha=0.09183 | valid_mse=0.47937,  valid_r2=0.49868\n",
      "alpha=0.09268 | valid_mse=0.47998,  valid_r2=0.49804\n",
      "alpha=0.09353 | valid_mse=0.48059,  valid_r2=0.49740\n",
      "alpha=0.09440 | valid_mse=0.48119,  valid_r2=0.49677\n",
      "alpha=0.09528 | valid_mse=0.48179,  valid_r2=0.49614\n",
      "alpha=0.09616 | valid_mse=0.48241,  valid_r2=0.49550\n",
      "alpha=0.09705 | valid_mse=0.48301,  valid_r2=0.49487\n",
      "alpha=0.09795 | valid_mse=0.48361,  valid_r2=0.49424\n",
      "alpha=0.09885 | valid_mse=0.48422,  valid_r2=0.49360\n",
      "alpha=0.09977 | valid_mse=0.48484,  valid_r2=0.49295\n",
      "alpha=0.10069 | valid_mse=0.48547,  valid_r2=0.49229\n",
      "alpha=0.10163 | valid_mse=0.48612,  valid_r2=0.49162\n",
      "alpha=0.10257 | valid_mse=0.48677,  valid_r2=0.49094\n",
      "alpha=0.10352 | valid_mse=0.48743,  valid_r2=0.49025\n",
      "alpha=0.10448 | valid_mse=0.48811,  valid_r2=0.48954\n",
      "alpha=0.10544 | valid_mse=0.48879,  valid_r2=0.48882\n",
      "alpha=0.10642 | valid_mse=0.48949,  valid_r2=0.48809\n",
      "alpha=0.10741 | valid_mse=0.49020,  valid_r2=0.48735\n",
      "alpha=0.10840 | valid_mse=0.49092,  valid_r2=0.48659\n",
      "alpha=0.10941 | valid_mse=0.49166,  valid_r2=0.48583\n",
      "alpha=0.11042 | valid_mse=0.49234,  valid_r2=0.48511\n",
      "alpha=0.11144 | valid_mse=0.49300,  valid_r2=0.48442\n",
      "alpha=0.11247 | valid_mse=0.49367,  valid_r2=0.48372\n",
      "alpha=0.11352 | valid_mse=0.49435,  valid_r2=0.48301\n",
      "alpha=0.11457 | valid_mse=0.49504,  valid_r2=0.48229\n",
      "alpha=0.11563 | valid_mse=0.49574,  valid_r2=0.48155\n",
      "alpha=0.11670 | valid_mse=0.49646,  valid_r2=0.48080\n",
      "alpha=0.11778 | valid_mse=0.49719,  valid_r2=0.48004\n",
      "alpha=0.11887 | valid_mse=0.49791,  valid_r2=0.47929\n",
      "alpha=0.11997 | valid_mse=0.49860,  valid_r2=0.47857\n",
      "alpha=0.12108 | valid_mse=0.49927,  valid_r2=0.47786\n",
      "alpha=0.12220 | valid_mse=0.49991,  valid_r2=0.47720\n",
      "alpha=0.12334 | valid_mse=0.50056,  valid_r2=0.47652\n",
      "alpha=0.12448 | valid_mse=0.50121,  valid_r2=0.47583\n",
      "alpha=0.12563 | valid_mse=0.50188,  valid_r2=0.47514\n",
      "alpha=0.12680 | valid_mse=0.50256,  valid_r2=0.47443\n",
      "alpha=0.12797 | valid_mse=0.50325,  valid_r2=0.47370\n",
      "alpha=0.12915 | valid_mse=0.50395,  valid_r2=0.47297\n",
      "alpha=0.13035 | valid_mse=0.50467,  valid_r2=0.47222\n",
      "alpha=0.13156 | valid_mse=0.50539,  valid_r2=0.47146\n",
      "alpha=0.13278 | valid_mse=0.50613,  valid_r2=0.47069\n",
      "alpha=0.13401 | valid_mse=0.50688,  valid_r2=0.46990\n",
      "alpha=0.13525 | valid_mse=0.50765,  valid_r2=0.46910\n",
      "alpha=0.13650 | valid_mse=0.50843,  valid_r2=0.46829\n",
      "alpha=0.13777 | valid_mse=0.50912,  valid_r2=0.46757\n",
      "alpha=0.13904 | valid_mse=0.50976,  valid_r2=0.46689\n",
      "alpha=0.14033 | valid_mse=0.51042,  valid_r2=0.46621\n",
      "alpha=0.14163 | valid_mse=0.51109,  valid_r2=0.46551\n",
      "alpha=0.14294 | valid_mse=0.51177,  valid_r2=0.46480\n",
      "alpha=0.14426 | valid_mse=0.51246,  valid_r2=0.46408\n",
      "alpha=0.14560 | valid_mse=0.51316,  valid_r2=0.46334\n",
      "alpha=0.14695 | valid_mse=0.51387,  valid_r2=0.46260\n",
      "alpha=0.14831 | valid_mse=0.51459,  valid_r2=0.46184\n",
      "alpha=0.14968 | valid_mse=0.51533,  valid_r2=0.46107\n",
      "alpha=0.15107 | valid_mse=0.51608,  valid_r2=0.46029\n",
      "alpha=0.15247 | valid_mse=0.51684,  valid_r2=0.45949\n",
      "alpha=0.15388 | valid_mse=0.51762,  valid_r2=0.45868\n"
     ]
    },
    {
     "name": "stdout",
     "output_type": "stream",
     "text": [
      "alpha=0.15531 | valid_mse=0.51835,  valid_r2=0.45791\n",
      "alpha=0.15675 | valid_mse=0.51907,  valid_r2=0.45716\n",
      "alpha=0.15820 | valid_mse=0.51980,  valid_r2=0.45640\n",
      "alpha=0.15966 | valid_mse=0.52054,  valid_r2=0.45563\n",
      "alpha=0.16114 | valid_mse=0.52129,  valid_r2=0.45484\n",
      "alpha=0.16263 | valid_mse=0.52205,  valid_r2=0.45404\n",
      "alpha=0.16414 | valid_mse=0.52283,  valid_r2=0.45323\n",
      "alpha=0.16566 | valid_mse=0.52362,  valid_r2=0.45240\n",
      "alpha=0.16719 | valid_mse=0.52442,  valid_r2=0.45156\n",
      "alpha=0.16874 | valid_mse=0.52524,  valid_r2=0.45071\n",
      "alpha=0.17031 | valid_mse=0.52606,  valid_r2=0.44985\n",
      "alpha=0.17188 | valid_mse=0.52690,  valid_r2=0.44897\n",
      "alpha=0.17348 | valid_mse=0.52776,  valid_r2=0.44807\n",
      "alpha=0.17508 | valid_mse=0.52862,  valid_r2=0.44717\n",
      "alpha=0.17670 | valid_mse=0.52951,  valid_r2=0.44625\n",
      "alpha=0.17834 | valid_mse=0.53040,  valid_r2=0.44531\n",
      "alpha=0.17999 | valid_mse=0.53131,  valid_r2=0.44436\n",
      "alpha=0.18166 | valid_mse=0.53223,  valid_r2=0.44339\n",
      "alpha=0.18334 | valid_mse=0.53317,  valid_r2=0.44241\n",
      "alpha=0.18504 | valid_mse=0.53413,  valid_r2=0.44141\n",
      "alpha=0.18675 | valid_mse=0.53510,  valid_r2=0.44040\n",
      "alpha=0.18848 | valid_mse=0.53608,  valid_r2=0.43937\n",
      "alpha=0.19023 | valid_mse=0.53708,  valid_r2=0.43832\n",
      "alpha=0.19199 | valid_mse=0.53810,  valid_r2=0.43726\n",
      "alpha=0.19377 | valid_mse=0.53913,  valid_r2=0.43618\n",
      "alpha=0.19557 | valid_mse=0.54018,  valid_r2=0.43508\n",
      "alpha=0.19738 | valid_mse=0.54125,  valid_r2=0.43396\n",
      "alpha=0.19920 | valid_mse=0.54233,  valid_r2=0.43283\n",
      "alpha=0.20105 | valid_mse=0.54344,  valid_r2=0.43168\n",
      "alpha=0.20291 | valid_mse=0.54456,  valid_r2=0.43051\n",
      "alpha=0.20479 | valid_mse=0.54569,  valid_r2=0.42932\n",
      "alpha=0.20669 | valid_mse=0.54685,  valid_r2=0.42811\n",
      "alpha=0.20860 | valid_mse=0.54803,  valid_r2=0.42688\n",
      "alpha=0.21053 | valid_mse=0.54922,  valid_r2=0.42563\n",
      "alpha=0.21248 | valid_mse=0.55043,  valid_r2=0.42436\n",
      "alpha=0.21445 | valid_mse=0.55167,  valid_r2=0.42307\n",
      "alpha=0.21644 | valid_mse=0.55292,  valid_r2=0.42176\n",
      "alpha=0.21844 | valid_mse=0.55420,  valid_r2=0.42042\n",
      "alpha=0.22047 | valid_mse=0.55549,  valid_r2=0.41907\n",
      "alpha=0.22251 | valid_mse=0.55681,  valid_r2=0.41769\n",
      "alpha=0.22457 | valid_mse=0.55815,  valid_r2=0.41629\n",
      "alpha=0.22665 | valid_mse=0.55951,  valid_r2=0.41487\n",
      "alpha=0.22875 | valid_mse=0.56089,  valid_r2=0.41343\n",
      "alpha=0.23087 | valid_mse=0.56229,  valid_r2=0.41196\n",
      "alpha=0.23301 | valid_mse=0.56372,  valid_r2=0.41046\n",
      "alpha=0.23516 | valid_mse=0.56517,  valid_r2=0.40895\n",
      "alpha=0.23734 | valid_mse=0.56665,  valid_r2=0.40740\n",
      "alpha=0.23954 | valid_mse=0.56815,  valid_r2=0.40583\n",
      "alpha=0.24176 | valid_mse=0.56967,  valid_r2=0.40424\n",
      "alpha=0.24400 | valid_mse=0.57122,  valid_r2=0.40262\n",
      "alpha=0.24626 | valid_mse=0.57280,  valid_r2=0.40097\n",
      "alpha=0.24854 | valid_mse=0.57440,  valid_r2=0.39929\n",
      "alpha=0.25084 | valid_mse=0.57603,  valid_r2=0.39759\n",
      "alpha=0.25316 | valid_mse=0.57768,  valid_r2=0.39586\n",
      "alpha=0.25551 | valid_mse=0.57937,  valid_r2=0.39410\n",
      "alpha=0.25788 | valid_mse=0.58108,  valid_r2=0.39231\n",
      "alpha=0.26026 | valid_mse=0.58282,  valid_r2=0.39049\n",
      "alpha=0.26268 | valid_mse=0.58458,  valid_r2=0.38864\n",
      "alpha=0.26511 | valid_mse=0.58638,  valid_r2=0.38676\n",
      "alpha=0.26756 | valid_mse=0.58821,  valid_r2=0.38485\n",
      "alpha=0.27004 | valid_mse=0.59007,  valid_r2=0.38291\n",
      "alpha=0.27254 | valid_mse=0.59196,  valid_r2=0.38093\n",
      "alpha=0.27507 | valid_mse=0.59388,  valid_r2=0.37893\n",
      "alpha=0.27762 | valid_mse=0.59583,  valid_r2=0.37688\n",
      "alpha=0.28019 | valid_mse=0.59782,  valid_r2=0.37480\n",
      "alpha=0.28278 | valid_mse=0.59986,  valid_r2=0.37267\n",
      "alpha=0.28540 | valid_mse=0.60194,  valid_r2=0.37050\n",
      "alpha=0.28804 | valid_mse=0.60405,  valid_r2=0.36829\n",
      "alpha=0.29071 | valid_mse=0.60619,  valid_r2=0.36605\n",
      "alpha=0.29340 | valid_mse=0.60837,  valid_r2=0.36377\n",
      "alpha=0.29612 | valid_mse=0.61059,  valid_r2=0.36145\n",
      "alpha=0.29887 | valid_mse=0.61284,  valid_r2=0.35909\n",
      "alpha=0.30163 | valid_mse=0.61514,  valid_r2=0.35669\n",
      "alpha=0.30443 | valid_mse=0.61748,  valid_r2=0.35425\n",
      "alpha=0.30725 | valid_mse=0.61985,  valid_r2=0.35177\n",
      "alpha=0.31009 | valid_mse=0.62226,  valid_r2=0.34925\n",
      "alpha=0.31296 | valid_mse=0.62471,  valid_r2=0.34669\n",
      "alpha=0.31586 | valid_mse=0.62720,  valid_r2=0.34407\n",
      "alpha=0.31879 | valid_mse=0.62974,  valid_r2=0.34143\n",
      "alpha=0.32174 | valid_mse=0.63231,  valid_r2=0.33873\n",
      "alpha=0.32472 | valid_mse=0.63493,  valid_r2=0.33599\n",
      "alpha=0.32773 | valid_mse=0.63716,  valid_r2=0.33366\n",
      "alpha=0.33076 | valid_mse=0.63923,  valid_r2=0.33149\n",
      "alpha=0.33383 | valid_mse=0.64134,  valid_r2=0.32929\n",
      "alpha=0.33692 | valid_mse=0.64349,  valid_r2=0.32704\n",
      "alpha=0.34004 | valid_mse=0.64568,  valid_r2=0.32475\n",
      "alpha=0.34319 | valid_mse=0.64790,  valid_r2=0.32243\n",
      "alpha=0.34637 | valid_mse=0.65016,  valid_r2=0.32006\n",
      "alpha=0.34958 | valid_mse=0.65247,  valid_r2=0.31765\n",
      "alpha=0.35282 | valid_mse=0.65481,  valid_r2=0.31520\n",
      "alpha=0.35608 | valid_mse=0.65719,  valid_r2=0.31271\n",
      "alpha=0.35938 | valid_mse=0.65962,  valid_r2=0.31017\n",
      "alpha=0.36271 | valid_mse=0.66209,  valid_r2=0.30759\n",
      "alpha=0.36607 | valid_mse=0.66460,  valid_r2=0.30496\n",
      "alpha=0.36946 | valid_mse=0.66716,  valid_r2=0.30229\n",
      "alpha=0.37288 | valid_mse=0.66976,  valid_r2=0.29957\n",
      "alpha=0.37634 | valid_mse=0.67241,  valid_r2=0.29680\n",
      "alpha=0.37982 | valid_mse=0.67510,  valid_r2=0.29398\n",
      "alpha=0.38334 | valid_mse=0.67784,  valid_r2=0.29111\n",
      "alpha=0.38689 | valid_mse=0.68063,  valid_r2=0.28820\n",
      "alpha=0.39047 | valid_mse=0.68347,  valid_r2=0.28523\n",
      "alpha=0.39409 | valid_mse=0.68636,  valid_r2=0.28220\n",
      "alpha=0.39774 | valid_mse=0.68931,  valid_r2=0.27913\n",
      "alpha=0.40142 | valid_mse=0.69230,  valid_r2=0.27600\n",
      "alpha=0.40514 | valid_mse=0.69535,  valid_r2=0.27281\n",
      "alpha=0.40889 | valid_mse=0.69845,  valid_r2=0.26957\n",
      "alpha=0.41268 | valid_mse=0.70160,  valid_r2=0.26627\n",
      "alpha=0.41650 | valid_mse=0.70481,  valid_r2=0.26291\n",
      "alpha=0.42036 | valid_mse=0.70808,  valid_r2=0.25949\n",
      "alpha=0.42426 | valid_mse=0.71141,  valid_r2=0.25602\n",
      "alpha=0.42819 | valid_mse=0.71479,  valid_r2=0.25248\n",
      "alpha=0.43215 | valid_mse=0.71824,  valid_r2=0.24887\n",
      "alpha=0.43615 | valid_mse=0.72174,  valid_r2=0.24521\n",
      "alpha=0.44019 | valid_mse=0.72531,  valid_r2=0.24147\n",
      "alpha=0.44427 | valid_mse=0.72894,  valid_r2=0.23768\n",
      "alpha=0.44839 | valid_mse=0.73264,  valid_r2=0.23381\n",
      "alpha=0.45254 | valid_mse=0.73640,  valid_r2=0.22988\n",
      "alpha=0.45673 | valid_mse=0.74023,  valid_r2=0.22587\n",
      "alpha=0.46096 | valid_mse=0.74413,  valid_r2=0.22179\n",
      "alpha=0.46523 | valid_mse=0.74810,  valid_r2=0.21765\n",
      "alpha=0.46954 | valid_mse=0.75213,  valid_r2=0.21342\n",
      "alpha=0.47389 | valid_mse=0.75624,  valid_r2=0.20913\n",
      "alpha=0.47828 | valid_mse=0.76043,  valid_r2=0.20475\n",
      "alpha=0.48271 | valid_mse=0.76468,  valid_r2=0.20030\n",
      "alpha=0.48718 | valid_mse=0.76902,  valid_r2=0.19577\n",
      "alpha=0.49169 | valid_mse=0.77343,  valid_r2=0.19115\n",
      "alpha=0.49624 | valid_mse=0.77792,  valid_r2=0.18646\n",
      "alpha=0.50084 | valid_mse=0.78249,  valid_r2=0.18168\n",
      "alpha=0.50548 | valid_mse=0.78714,  valid_r2=0.17682\n",
      "alpha=0.51016 | valid_mse=0.79187,  valid_r2=0.17186\n",
      "alpha=0.51489 | valid_mse=0.79669,  valid_r2=0.16682\n",
      "alpha=0.51966 | valid_mse=0.80160,  valid_r2=0.16169\n",
      "alpha=0.52447 | valid_mse=0.80659,  valid_r2=0.15647\n",
      "alpha=0.52933 | valid_mse=0.81167,  valid_r2=0.15116\n",
      "alpha=0.53423 | valid_mse=0.81685,  valid_r2=0.14575\n",
      "alpha=0.53918 | valid_mse=0.82211,  valid_r2=0.14024\n",
      "alpha=0.54417 | valid_mse=0.82747,  valid_r2=0.13463\n",
      "alpha=0.54921 | valid_mse=0.83293,  valid_r2=0.12893\n",
      "alpha=0.55430 | valid_mse=0.83848,  valid_r2=0.12312\n",
      "alpha=0.55943 | valid_mse=0.84414,  valid_r2=0.11720\n",
      "alpha=0.56461 | valid_mse=0.84989,  valid_r2=0.11118\n",
      "alpha=0.56984 | valid_mse=0.85575,  valid_r2=0.10506\n",
      "alpha=0.57512 | valid_mse=0.86172,  valid_r2=0.09882\n",
      "alpha=0.58045 | valid_mse=0.86779,  valid_r2=0.09247\n",
      "alpha=0.58582 | valid_mse=0.87397,  valid_r2=0.08601\n",
      "alpha=0.59125 | valid_mse=0.88026,  valid_r2=0.07943\n",
      "alpha=0.59673 | valid_mse=0.88666,  valid_r2=0.07273\n",
      "alpha=0.60225 | valid_mse=0.89318,  valid_r2=0.06591\n",
      "alpha=0.60783 | valid_mse=0.89982,  valid_r2=0.05897\n",
      "alpha=0.61346 | valid_mse=0.90658,  valid_r2=0.05191\n",
      "alpha=0.61914 | valid_mse=0.91346,  valid_r2=0.04471\n",
      "alpha=0.62488 | valid_mse=0.92046,  valid_r2=0.03739\n",
      "alpha=0.63067 | valid_mse=0.92758,  valid_r2=0.02994\n",
      "alpha=0.63651 | valid_mse=0.93484,  valid_r2=0.02235\n",
      "alpha=0.64240 | valid_mse=0.94223,  valid_r2=0.01462\n",
      "alpha=0.64835 | valid_mse=0.94975,  valid_r2=0.00676\n",
      "alpha=0.65436 | valid_mse=0.95740,  valid_r2=-0.00124\n",
      "alpha=0.66042 | valid_mse=0.95740,  valid_r2=-0.00124\n",
      "alpha=0.66654 | valid_mse=0.95740,  valid_r2=-0.00124\n",
      "alpha=0.67271 | valid_mse=0.95740,  valid_r2=-0.00124\n",
      "alpha=0.67894 | valid_mse=0.95740,  valid_r2=-0.00124\n",
      "alpha=0.68523 | valid_mse=0.95740,  valid_r2=-0.00124\n",
      "alpha=0.69158 | valid_mse=0.95740,  valid_r2=-0.00124\n",
      "alpha=0.69798 | valid_mse=0.95740,  valid_r2=-0.00124\n",
      "alpha=0.70445 | valid_mse=0.95740,  valid_r2=-0.00124\n",
      "alpha=0.71097 | valid_mse=0.95740,  valid_r2=-0.00124\n",
      "alpha=0.71756 | valid_mse=0.95740,  valid_r2=-0.00124\n",
      "alpha=0.72420 | valid_mse=0.95740,  valid_r2=-0.00124\n",
      "alpha=0.73091 | valid_mse=0.95740,  valid_r2=-0.00124\n",
      "alpha=0.73768 | valid_mse=0.95740,  valid_r2=-0.00124\n",
      "alpha=0.74451 | valid_mse=0.95740,  valid_r2=-0.00124\n",
      "alpha=0.75141 | valid_mse=0.95740,  valid_r2=-0.00124\n",
      "alpha=0.75837 | valid_mse=0.95740,  valid_r2=-0.00124\n",
      "alpha=0.76539 | valid_mse=0.95740,  valid_r2=-0.00124\n"
     ]
    },
    {
     "name": "stdout",
     "output_type": "stream",
     "text": [
      "alpha=0.77248 | valid_mse=0.95740,  valid_r2=-0.00124\n",
      "alpha=0.77964 | valid_mse=0.95740,  valid_r2=-0.00124\n",
      "alpha=0.78686 | valid_mse=0.95740,  valid_r2=-0.00124\n",
      "alpha=0.79415 | valid_mse=0.95740,  valid_r2=-0.00124\n",
      "alpha=0.80150 | valid_mse=0.95740,  valid_r2=-0.00124\n",
      "alpha=0.80892 | valid_mse=0.95740,  valid_r2=-0.00124\n",
      "alpha=0.81642 | valid_mse=0.95740,  valid_r2=-0.00124\n",
      "alpha=0.82398 | valid_mse=0.95740,  valid_r2=-0.00124\n",
      "alpha=0.83161 | valid_mse=0.95740,  valid_r2=-0.00124\n",
      "alpha=0.83931 | valid_mse=0.95740,  valid_r2=-0.00124\n",
      "alpha=0.84709 | valid_mse=0.95740,  valid_r2=-0.00124\n",
      "alpha=0.85493 | valid_mse=0.95740,  valid_r2=-0.00124\n",
      "alpha=0.86285 | valid_mse=0.95740,  valid_r2=-0.00124\n",
      "alpha=0.87084 | valid_mse=0.95740,  valid_r2=-0.00124\n",
      "alpha=0.87891 | valid_mse=0.95740,  valid_r2=-0.00124\n",
      "alpha=0.88705 | valid_mse=0.95740,  valid_r2=-0.00124\n",
      "alpha=0.89527 | valid_mse=0.95740,  valid_r2=-0.00124\n",
      "alpha=0.90356 | valid_mse=0.95740,  valid_r2=-0.00124\n",
      "alpha=0.91193 | valid_mse=0.95740,  valid_r2=-0.00124\n",
      "alpha=0.92037 | valid_mse=0.95740,  valid_r2=-0.00124\n",
      "alpha=0.92890 | valid_mse=0.95740,  valid_r2=-0.00124\n",
      "alpha=0.93750 | valid_mse=0.95740,  valid_r2=-0.00124\n",
      "alpha=0.94618 | valid_mse=0.95740,  valid_r2=-0.00124\n",
      "alpha=0.95495 | valid_mse=0.95740,  valid_r2=-0.00124\n",
      "alpha=0.96379 | valid_mse=0.95740,  valid_r2=-0.00124\n",
      "alpha=0.97272 | valid_mse=0.95740,  valid_r2=-0.00124\n",
      "alpha=0.98173 | valid_mse=0.95740,  valid_r2=-0.00124\n",
      "alpha=0.99082 | valid_mse=0.95740,  valid_r2=-0.00124\n",
      "alpha=1.00000 | valid_mse=0.95740,  valid_r2=-0.00124\n",
      "\n"
     ]
    }
   ],
   "source": [
    "# Perform grid search\n",
    "data_out = 'data_lasso_04CrimeUnnormalized'\n",
    "iterator = tqdm.notebook.tqdm(range(1, len(grid_alpha) + 1), desc='alpha-grid loop')\n",
    "for n in iterator:\n",
    "    irow = n-1\n",
    "    params['alpha'] = grid_alpha[irow]\n",
    "    log_reg = Lasso(**params).fit(xtrain, ytrain.ravel())\n",
    "    \n",
    "    ypred = log_reg.predict(xvalid)\n",
    "    val_mse = mean_squared_error(yvalid, ypred, squared=True)\n",
    "    val_r2  = r2_score(yvalid, ypred)\n",
    "    \n",
    "    df_grid_loss.iloc[irow,:] = [params['alpha'], val_mse, val_r2]\n",
    "    print(\"alpha={:.5f} | valid_mse={:.5f},  valid_r2={:.5f}\".format(params['alpha'], \n",
    "                                                                     val_mse, \n",
    "                                                                     val_r2))\n",
    "# .save grid search results\n",
    "    df_grid_loss.to_csv(os.path.join(data_out, 'df_grid_loss01.csv'), index=None)"
   ]
  },
  {
   "cell_type": "code",
   "execution_count": 427,
   "metadata": {
    "ExecuteTime": {
     "end_time": "2021-02-05T22:30:56.244226Z",
     "start_time": "2021-02-05T22:30:56.237152Z"
    },
    "code_folding": [
     0
    ]
   },
   "outputs": [
    {
     "name": "stdout",
     "output_type": "stream",
     "text": [
      "Best parameters:\n",
      "- Best alpha = 0.004\n",
      "- Best valid loss = 0.42147740000000006\n"
     ]
    }
   ],
   "source": [
    "# Display grid search results\n",
    "data_out = 'data_lasso_04CrimeUnnormalized'\n",
    "df_grid_loss = pd.read_csv(os.path.join(data_out, 'df_grid_loss01.csv'))\n",
    "\n",
    "idx = df_grid_loss.valid_mse.idxmin()\n",
    "best_alpha = df_grid_loss.iloc[idx, 0]\n",
    "best_mse   = df_grid_loss.iloc[idx, 1]\n",
    "print(\"Best parameters:\")\n",
    "print(\"- Best alpha = {:.3f}\".format(best_alpha))\n",
    "print(\"- Best valid loss = {}\".format(best_mse))"
   ]
  },
  {
   "cell_type": "code",
   "execution_count": 428,
   "metadata": {
    "ExecuteTime": {
     "end_time": "2021-02-05T22:30:56.381061Z",
     "start_time": "2021-02-05T22:30:56.247306Z"
    },
    "code_folding": [
     0
    ]
   },
   "outputs": [
    {
     "data": {
      "image/png": "[encoded data removed]",
      "text/plain": [
       "<Figure size 720x432 with 1 Axes>"
      ]
     },
     "metadata": {
      "needs_background": "light"
     },
     "output_type": "display_data"
    }
   ],
   "source": [
    "# Plot Loss vs point in grid search\n",
    "data_out = 'data_lasso_04CrimeUnnormalized'\n",
    "df_grid_loss = pd.read_csv(os.path.join(data_out, 'df_grid_loss01.csv'))\n",
    "fig, axes = plt.subplots(figsize=(10,6))\n",
    "axes.scatter(np.log10(df_grid_loss.alpha), df_grid_loss['valid_mse'])\n",
    "axes.plot(np.log10(df_grid_loss.alpha), df_grid_loss['valid_mse'], label='mse')\n",
    "# axes.scatter(df_grid_loss.index, df_grid_loss['valid_r2'])\n",
    "# axes.plot(df_grid_loss.index, df_grid_loss['valid_r2'], label='r2')\n",
    "axes.set_xlabel(\"log10(alpha)\")\n",
    "axes.set_ylabel(\"Validation metric\")\n",
    "axes.legend()\n",
    "plt.show()"
   ]
  },
  {
   "cell_type": "code",
   "execution_count": 429,
   "metadata": {
    "ExecuteTime": {
     "end_time": "2021-02-05T22:30:56.427801Z",
     "start_time": "2021-02-05T22:30:56.383382Z"
    },
    "code_folding": [
     0
    ]
   },
   "outputs": [],
   "source": [
    "# Train with best hyperparameters\n",
    "params['alpha'] = best_alpha\n",
    "log_reg = Lasso(**params).fit(xtrain, ytrain.ravel())"
   ]
  },
  {
   "cell_type": "code",
   "execution_count": 430,
   "metadata": {
    "ExecuteTime": {
     "end_time": "2021-02-05T22:30:56.434334Z",
     "start_time": "2021-02-05T22:30:56.429381Z"
    },
    "code_folding": [
     0
    ]
   },
   "outputs": [
    {
     "name": "stdout",
     "output_type": "stream",
     "text": [
      "model saved at: 'data_lasso_04CrimeUnnormalized/lasso_model01_val.pkl'\n",
      "best params saved at: 'data_lasso_04CrimeUnnormalized/lasso_best_params01.json'\n"
     ]
    }
   ],
   "source": [
    "# Save model and model's best params\n",
    "data_out = 'data_lasso_04CrimeUnnormalized'\n",
    "joblib.dump(log_reg, os.path.join(data_out, 'lasso_model01_val.pkl'))\n",
    "print(\"model saved at: '{}'\".format(os.path.join(data_out, 'lasso_model01_val.pkl')))\n",
    "\n",
    "best_params = {}\n",
    "best_params['alpha'] = best_alpha\n",
    "with open(os.path.join(data_out, 'lasso_best_params01.json'), 'w') as f:\n",
    "    json.dump(best_params, f)\n",
    "print(\"best params saved at: '{}'\".format(os.path.join(data_out, 'lasso_best_params01.json')))"
   ]
  },
  {
   "cell_type": "code",
   "execution_count": 431,
   "metadata": {
    "ExecuteTime": {
     "end_time": "2021-02-05T22:30:56.451658Z",
     "start_time": "2021-02-05T22:30:56.435928Z"
    },
    "code_folding": [
     0
    ]
   },
   "outputs": [
    {
     "name": "stdout",
     "output_type": "stream",
     "text": [
      "model results saved at: 'data_lasso_04CrimeUnnormalized/results_target_lasso01.csv'\n"
     ]
    },
    {
     "data": {
      "text/html": [
       "<div>\n",
       "<style scoped>\n",
       "    .dataframe tbody tr th:only-of-type {\n",
       "        vertical-align: middle;\n",
       "    }\n",
       "\n",
       "    .dataframe tbody tr th {\n",
       "        vertical-align: top;\n",
       "    }\n",
       "\n",
       "    .dataframe thead th {\n",
       "        text-align: right;\n",
       "    }\n",
       "</style>\n",
       "<table border=\"1\" class=\"dataframe\">\n",
       "  <thead>\n",
       "    <tr style=\"text-align: right;\">\n",
       "      <th></th>\n",
       "      <th>mse</th>\n",
       "      <th>r2</th>\n",
       "    </tr>\n",
       "  </thead>\n",
       "  <tbody>\n",
       "    <tr>\n",
       "      <th>train</th>\n",
       "      <td>0.440463</td>\n",
       "      <td>0.559537</td>\n",
       "    </tr>\n",
       "    <tr>\n",
       "      <th>valid</th>\n",
       "      <td>0.421477</td>\n",
       "      <td>0.559221</td>\n",
       "    </tr>\n",
       "    <tr>\n",
       "      <th>test</th>\n",
       "      <td>0.332104</td>\n",
       "      <td>0.599624</td>\n",
       "    </tr>\n",
       "  </tbody>\n",
       "</table>\n",
       "</div>"
      ],
      "text/plain": [
       "            mse        r2\n",
       "train  0.440463  0.559537\n",
       "valid  0.421477  0.559221\n",
       "test   0.332104  0.599624"
      ]
     },
     "execution_count": 431,
     "metadata": {},
     "output_type": "execute_result"
    }
   ],
   "source": [
    "# Find MSE, R2, Accuracy, etc...\n",
    "data_out = 'data_lasso_04CrimeUnnormalized'\n",
    "model = joblib.load(os.path.join(data_out, 'lasso_model01_val.pkl'))\n",
    "\n",
    "df_results = pd.DataFrame(index=['train', 'valid', 'test'], \n",
    "                           columns=['mse', 'r2'])\n",
    "\n",
    "ypred = model.predict(xtrain)\n",
    "df_results.loc['train', 'mse'] = mean_squared_error(ytrain, ypred, squared=True)\n",
    "df_results.loc['train', 'r2']   = r2_score(ytrain, ypred)\n",
    "\n",
    "ypred = model.predict(xvalid)\n",
    "df_results.loc['valid', 'mse'] = mean_squared_error(yvalid, ypred, squared=True)\n",
    "df_results.loc['valid', 'r2']   = r2_score(yvalid, ypred)\n",
    "\n",
    "ypred = model.predict(xtest)\n",
    "df_results.loc['test', 'mse'] = mean_squared_error(ytest, ypred, squared=True)\n",
    "df_results.loc['test', 'r2']   = r2_score(ytest, ypred)\n",
    "\n",
    "# Save data\n",
    "df_results.to_csv(os.path.join(data_out, 'results_target_lasso01.csv'), index=True)\n",
    "print(\"model results saved at: '{}'\".format(os.path.join(data_out, 'results_target_lasso01.csv')))\n",
    "df_results.head()"
   ]
  },
  {
   "cell_type": "code",
   "execution_count": 433,
   "metadata": {
    "ExecuteTime": {
     "end_time": "2021-02-05T22:31:07.827796Z",
     "start_time": "2021-02-05T22:30:58.719453Z"
    },
    "code_folding": [
     0
    ]
   },
   "outputs": [
    {
     "data": {
      "application/vnd.jupyter.widget-view+json": {
       "model_id": "",
       "version_major": 2,
       "version_minor": 0
      },
      "text/plain": [
       "HBox(children=(HTML(value='Partitions loop'), FloatProgress(value=0.0), HTML(value='')))"
      ]
     },
     "metadata": {},
     "output_type": "display_data"
    },
    {
     "name": "stdout",
     "output_type": "stream",
     "text": [
      "\n"
     ]
    }
   ],
   "source": [
    "# Find Accuracy +/- STD\n",
    "data_out = 'data_lasso_04CrimeUnnormalized'\n",
    "df_results = pd.DataFrame(columns=['train_mse', 'valid_mse', 'test_mse', \\\n",
    "                                   'train_r2', 'valid_r2', 'test_r2'])\n",
    "\n",
    "model = joblib.load(os.path.join(data_out, 'lasso_model01_val.pkl'))\n",
    "\n",
    "partitions = 100\n",
    "iterator = tqdm.notebook.tqdm(range(1, partitions + 1), desc='Partitions loop')\n",
    "for n in iterator:\n",
    "    X = pd.read_csv('dataset_04CrimeUnnormalized/X1.csv')\n",
    "    y = pd.read_csv('dataset_04CrimeUnnormalized/y1.csv')\n",
    "    split_data(X, y, seed1=seed1[n], seed2=seed2[n])\n",
    "    \n",
    "# .normalize data sets\n",
    "    scaler = StandardScaler()\n",
    "    scaler.fit(xtrain)\n",
    "    xtrain = scaler.transform(xtrain)\n",
    "    xvalid = scaler.transform(xvalid)\n",
    "    xtest  = scaler.transform(xtest)\n",
    "    \n",
    "    scaler = StandardScaler()\n",
    "    scaler.fit(ytrain)\n",
    "    ytrain = scaler.transform(ytrain)\n",
    "    yvalid = scaler.transform(yvalid)\n",
    "    ytest  = scaler.transform(ytest)\n",
    "    \n",
    "# .train model\n",
    "    model.fit(xtrain, ytrain.ravel())\n",
    "    \n",
    "# .compute/save accuracy\n",
    "    ypred = model.predict(xtrain)\n",
    "    df_results.loc[n, 'train_mse'] = mean_squared_error(ytrain, ypred, squared=True)\n",
    "    df_results.loc[n, 'train_r2']   = r2_score(ytrain, ypred)\n",
    "\n",
    "    ypred = model.predict(xvalid)\n",
    "    df_results.loc[n, 'valid_mse'] = mean_squared_error(yvalid, ypred, squared=True)\n",
    "    df_results.loc[n, 'valid_r2']   = r2_score(yvalid, ypred)\n",
    "\n",
    "    ypred = model.predict(xtest)\n",
    "    df_results.loc[n, 'test_mse'] = mean_squared_error(ytest, ypred, squared=True)\n",
    "    df_results.loc[n, 'test_r2']   = r2_score(ytest, ypred)\n",
    "\n",
    "    joblib.dump(model, os.path.join(data_out, 'lasso_model01_val_'+str(n)+'.pkl'))\n",
    "    df_results.to_csv(os.path.join(data_out, 'accuracy_lasso01_val.csv'), index=True)"
   ]
  },
  {
   "cell_type": "code",
   "execution_count": 434,
   "metadata": {
    "ExecuteTime": {
     "end_time": "2021-02-05T22:31:07.841657Z",
     "start_time": "2021-02-05T22:31:07.829960Z"
    },
    "code_folding": [
     0
    ]
   },
   "outputs": [
    {
     "name": "stdout",
     "output_type": "stream",
     "text": [
      "Train mse = 0.410 +/- 0.029\n",
      "Valid mse = 0.485 +/- 0.123\n",
      "Test mse = 0.470 +/- 0.114\n",
      "\n",
      "Train r2 = 0.590 +/- 0.029\n",
      "Valid r2 = 0.519 +/- 0.064\n",
      "Test r2 = 0.532 +/- 0.068\n"
     ]
    }
   ],
   "source": [
    "# Display results\n",
    "data_out = 'data_lasso_04CrimeUnnormalized'\n",
    "accuracy = pd.read_csv(os.path.join(data_out, 'accuracy_lasso01_val.csv'))\n",
    "print(\"Train mse = {:.3f} +/- {:.3f}\".format(accuracy['train_mse'].mean(), \n",
    "                                              accuracy['train_mse'].std()))\n",
    "print(\"Valid mse = {:.3f} +/- {:.3f}\".format(accuracy['valid_mse'].mean(), \n",
    "                                              accuracy['valid_mse'].std()))\n",
    "print(\"Test mse = {:.3f} +/- {:.3f}\".format(accuracy['test_mse'].mean(), \n",
    "                                             accuracy['test_mse'].std()))\n",
    "\n",
    "print(\"\")\n",
    "print(\"Train r2 = {:.3f} +/- {:.3f}\".format(accuracy['train_r2'].mean(), \n",
    "                                            accuracy['train_r2'].std()))\n",
    "print(\"Valid r2 = {:.3f} +/- {:.3f}\".format(accuracy['valid_r2'].mean(), \n",
    "                                            accuracy['valid_r2'].std()))\n",
    "print(\"Test r2 = {:.3f} +/- {:.3f}\".format(accuracy['test_r2'].mean(), \n",
    "                                           accuracy['test_r2'].std()))"
   ]
  },
  {
   "cell_type": "markdown",
   "metadata": {},
   "source": [
    "### Gradient Boosting"
   ]
  },
  {
   "cell_type": "markdown",
   "metadata": {},
   "source": [
    "#### Target 1: xgb native api"
   ]
  },
  {
   "cell_type": "code",
   "execution_count": 349,
   "metadata": {
    "ExecuteTime": {
     "end_time": "2021-02-05T21:45:50.345596Z",
     "start_time": "2021-02-05T21:45:50.289058Z"
    },
    "code_folding": [
     0
    ]
   },
   "outputs": [],
   "source": [
    "# Load data\n",
    "load_data('dataset_04CrimeUnnormalized', i=1)\n",
    "\n",
    "# transform tensors to NumPy arrays\n",
    "xtrain = xtrain.numpy()\n",
    "xvalid = xvalid.numpy()\n",
    "xtest = xtest.numpy()\n",
    "\n",
    "ytrain = ytrain.numpy()\n",
    "yvalid = yvalid.numpy()\n",
    "ytest = ytest.numpy()"
   ]
  },
  {
   "cell_type": "code",
   "execution_count": 350,
   "metadata": {
    "ExecuteTime": {
     "end_time": "2021-02-05T21:45:51.881030Z",
     "start_time": "2021-02-05T21:45:51.874638Z"
    },
    "code_folding": [
     0
    ]
   },
   "outputs": [],
   "source": [
    "# Normalize data\n",
    "scaler = StandardScaler()\n",
    "scaler.fit(xtrain)\n",
    "xtrain = scaler.transform(xtrain)\n",
    "xvalid = scaler.transform(xvalid)\n",
    "xtest  = scaler.transform(xtest)\n",
    "\n",
    "scaler = StandardScaler()\n",
    "scaler.fit(ytrain)\n",
    "ytrain = scaler.transform(ytrain)\n",
    "yvalid = scaler.transform(yvalid)\n",
    "ytest  = scaler.transform(ytest)"
   ]
  },
  {
   "cell_type": "code",
   "execution_count": 351,
   "metadata": {
    "ExecuteTime": {
     "end_time": "2021-02-05T21:45:53.651881Z",
     "start_time": "2021-02-05T21:45:53.641203Z"
    },
    "code_folding": [
     0
    ]
   },
   "outputs": [],
   "source": [
    "# Build DMatrices\n",
    "dtrain = xgb.DMatrix(data=xtrain, label=ytrain, nthread=10, feature_names=cols_all1)\n",
    "dvalid = xgb.DMatrix(data=xvalid, label=yvalid, nthread=10, feature_names=cols_all1)\n",
    "dtest  = xgb.DMatrix(data=xtest,  label=ytest,  nthread=10, feature_names=cols_all1)\n",
    "\n",
    "valid_list = [(dtrain, 'train'), (dvalid, 'valid')]"
   ]
  },
  {
   "cell_type": "code",
   "execution_count": 352,
   "metadata": {
    "ExecuteTime": {
     "end_time": "2021-02-05T21:45:58.426677Z",
     "start_time": "2021-02-05T21:45:58.422745Z"
    },
    "code_folding": [
     0
    ]
   },
   "outputs": [],
   "source": [
    "# Grid search space\n",
    "grid_eta   = np.geomspace(0.01, 1.0, num=200)\n",
    "grid_depth = [1, 2, 3, 4, 5, 6, 7, 8]\n",
    "grid_param = [(eta, max_depth) for eta in grid_eta\n",
    "                               for max_depth in grid_depth]\n",
    "\n",
    "param = [('eta', 0.01), \n",
    "         ('max_depth', 2), \n",
    "         ('objective', 'reg:squarederror'), \n",
    "         ('nthread', 12),\n",
    "         ('eval_metric', 'rmse')\n",
    "]"
   ]
  },
  {
   "cell_type": "code",
   "execution_count": 353,
   "metadata": {
    "ExecuteTime": {
     "end_time": "2021-02-05T21:50:06.644924Z",
     "start_time": "2021-02-05T21:46:04.958827Z"
    },
    "code_folding": [
     0
    ],
    "scrolled": true
   },
   "outputs": [
    {
     "name": "stdout",
     "output_type": "stream",
     "text": [
      "eta=0.01000, max_depth=1 | valid_loss=0.66862 (iters=1351)\n",
      "eta=0.01000, max_depth=2 | valid_loss=0.67249 (iters=490)\n",
      "eta=0.01000, max_depth=3 | valid_loss=0.66382 (iters=427)\n",
      "eta=0.01000, max_depth=4 | valid_loss=0.67423 (iters=488)\n",
      "eta=0.01000, max_depth=5 | valid_loss=0.67307 (iters=384)\n",
      "eta=0.01000, max_depth=6 | valid_loss=0.67615 (iters=408)\n",
      "eta=0.01000, max_depth=7 | valid_loss=0.69454 (iters=228)\n",
      "eta=0.01000, max_depth=8 | valid_loss=0.68954 (iters=322)\n",
      "eta=0.01023, max_depth=1 | valid_loss=0.66939 (iters=1198)\n",
      "eta=0.01023, max_depth=2 | valid_loss=0.67254 (iters=492)\n",
      "eta=0.01023, max_depth=3 | valid_loss=0.66417 (iters=449)\n",
      "eta=0.01023, max_depth=4 | valid_loss=0.67364 (iters=476)\n",
      "eta=0.01023, max_depth=5 | valid_loss=0.67063 (iters=408)\n",
      "eta=0.01023, max_depth=6 | valid_loss=0.67947 (iters=323)\n",
      "eta=0.01023, max_depth=7 | valid_loss=0.69165 (iters=226)\n",
      "eta=0.01023, max_depth=8 | valid_loss=0.69050 (iters=326)\n",
      "eta=0.01047, max_depth=1 | valid_loss=0.66849 (iters=1296)\n",
      "eta=0.01047, max_depth=2 | valid_loss=0.67285 (iters=461)\n",
      "eta=0.01047, max_depth=3 | valid_loss=0.66393 (iters=447)\n",
      "eta=0.01047, max_depth=4 | valid_loss=0.67262 (iters=449)\n",
      "eta=0.01047, max_depth=5 | valid_loss=0.67455 (iters=330)\n",
      "eta=0.01047, max_depth=6 | valid_loss=0.67668 (iters=335)\n",
      "eta=0.01047, max_depth=7 | valid_loss=0.69042 (iters=207)\n",
      "eta=0.01047, max_depth=8 | valid_loss=0.69161 (iters=317)\n",
      "eta=0.01072, max_depth=1 | valid_loss=0.66896 (iters=1263)\n",
      "eta=0.01072, max_depth=2 | valid_loss=0.67294 (iters=445)\n",
      "eta=0.01072, max_depth=3 | valid_loss=0.66403 (iters=494)\n",
      "eta=0.01072, max_depth=4 | valid_loss=0.67831 (iters=301)\n",
      "eta=0.01072, max_depth=5 | valid_loss=0.67264 (iters=327)\n",
      "eta=0.01072, max_depth=6 | valid_loss=0.67740 (iters=321)\n",
      "eta=0.01072, max_depth=7 | valid_loss=0.69085 (iters=224)\n",
      "eta=0.01072, max_depth=8 | valid_loss=0.69391 (iters=296)\n",
      "eta=0.01097, max_depth=1 | valid_loss=0.66943 (iters=1120)\n",
      "eta=0.01097, max_depth=2 | valid_loss=0.67268 (iters=445)\n",
      "eta=0.01097, max_depth=3 | valid_loss=0.66289 (iters=515)\n",
      "eta=0.01097, max_depth=4 | valid_loss=0.67256 (iters=455)\n",
      "eta=0.01097, max_depth=5 | valid_loss=0.67259 (iters=355)\n",
      "eta=0.01097, max_depth=6 | valid_loss=0.67858 (iters=347)\n",
      "eta=0.01097, max_depth=7 | valid_loss=0.68852 (iters=243)\n",
      "eta=0.01097, max_depth=8 | valid_loss=0.69056 (iters=299)\n",
      "eta=0.01123, max_depth=1 | valid_loss=0.66877 (iters=1189)\n",
      "eta=0.01123, max_depth=2 | valid_loss=0.67253 (iters=430)\n",
      "eta=0.01123, max_depth=3 | valid_loss=0.66355 (iters=384)\n",
      "eta=0.01123, max_depth=4 | valid_loss=0.67369 (iters=458)\n",
      "eta=0.01123, max_depth=5 | valid_loss=0.67133 (iters=354)\n",
      "eta=0.01123, max_depth=6 | valid_loss=0.67618 (iters=306)\n",
      "eta=0.01123, max_depth=7 | valid_loss=0.69022 (iters=215)\n",
      "eta=0.01123, max_depth=8 | valid_loss=0.69019 (iters=278)\n",
      "eta=0.01149, max_depth=1 | valid_loss=0.66880 (iters=1142)\n",
      "eta=0.01149, max_depth=2 | valid_loss=0.67316 (iters=398)\n",
      "eta=0.01149, max_depth=3 | valid_loss=0.66330 (iters=390)\n",
      "eta=0.01149, max_depth=4 | valid_loss=0.67641 (iters=346)\n",
      "eta=0.01149, max_depth=5 | valid_loss=0.67153 (iters=353)\n",
      "eta=0.01149, max_depth=6 | valid_loss=0.67374 (iters=305)\n",
      "eta=0.01149, max_depth=7 | valid_loss=0.69169 (iters=196)\n",
      "eta=0.01149, max_depth=8 | valid_loss=0.69186 (iters=255)\n",
      "eta=0.01176, max_depth=1 | valid_loss=0.66970 (iters=999)\n",
      "eta=0.01176, max_depth=2 | valid_loss=0.67175 (iters=409)\n",
      "eta=0.01176, max_depth=3 | valid_loss=0.66382 (iters=385)\n",
      "eta=0.01176, max_depth=4 | valid_loss=0.67574 (iters=291)\n",
      "eta=0.01176, max_depth=5 | valid_loss=0.67276 (iters=305)\n",
      "eta=0.01176, max_depth=6 | valid_loss=0.67446 (iters=296)\n",
      "eta=0.01176, max_depth=7 | valid_loss=0.69413 (iters=205)\n",
      "eta=0.01176, max_depth=8 | valid_loss=0.68941 (iters=270)\n",
      "eta=0.01203, max_depth=1 | valid_loss=0.66950 (iters=1043)\n",
      "eta=0.01203, max_depth=2 | valid_loss=0.67253 (iters=418)\n",
      "eta=0.01203, max_depth=3 | valid_loss=0.66480 (iters=357)\n",
      "eta=0.01203, max_depth=4 | valid_loss=0.67382 (iters=447)\n",
      "eta=0.01203, max_depth=5 | valid_loss=0.67422 (iters=310)\n",
      "eta=0.01203, max_depth=6 | valid_loss=0.67411 (iters=293)\n",
      "eta=0.01203, max_depth=7 | valid_loss=0.68907 (iters=223)\n",
      "eta=0.01203, max_depth=8 | valid_loss=0.69070 (iters=261)\n",
      "eta=0.01232, max_depth=1 | valid_loss=0.66940 (iters=1030)\n",
      "eta=0.01232, max_depth=2 | valid_loss=0.67242 (iters=386)\n",
      "eta=0.01232, max_depth=3 | valid_loss=0.66320 (iters=348)\n",
      "eta=0.01232, max_depth=4 | valid_loss=0.67409 (iters=314)\n",
      "eta=0.01232, max_depth=5 | valid_loss=0.67345 (iters=298)\n",
      "eta=0.01232, max_depth=6 | valid_loss=0.67417 (iters=287)\n",
      "eta=0.01232, max_depth=7 | valid_loss=0.69263 (iters=218)\n",
      "eta=0.01232, max_depth=8 | valid_loss=0.68827 (iters=246)\n",
      "eta=0.01260, max_depth=1 | valid_loss=0.66880 (iters=1079)\n",
      "eta=0.01260, max_depth=2 | valid_loss=0.67225 (iters=352)\n",
      "eta=0.01260, max_depth=3 | valid_loss=0.66487 (iters=340)\n",
      "eta=0.01260, max_depth=4 | valid_loss=0.67310 (iters=393)\n",
      "eta=0.01260, max_depth=5 | valid_loss=0.67079 (iters=295)\n",
      "eta=0.01260, max_depth=6 | valid_loss=0.67553 (iters=274)\n",
      "eta=0.01260, max_depth=7 | valid_loss=0.69285 (iters=208)\n",
      "eta=0.01260, max_depth=8 | valid_loss=0.69442 (iters=263)\n",
      "eta=0.01290, max_depth=1 | valid_loss=0.66897 (iters=1041)\n",
      "eta=0.01290, max_depth=2 | valid_loss=0.67195 (iters=363)\n",
      "eta=0.01290, max_depth=3 | valid_loss=0.66297 (iters=338)\n",
      "eta=0.01290, max_depth=4 | valid_loss=0.67317 (iters=375)\n",
      "eta=0.01290, max_depth=5 | valid_loss=0.67433 (iters=279)\n",
      "eta=0.01290, max_depth=6 | valid_loss=0.67453 (iters=305)\n",
      "eta=0.01290, max_depth=7 | valid_loss=0.69113 (iters=209)\n",
      "eta=0.01290, max_depth=8 | valid_loss=0.69288 (iters=240)\n",
      "eta=0.01320, max_depth=1 | valid_loss=0.66961 (iters=942)\n",
      "eta=0.01320, max_depth=2 | valid_loss=0.67332 (iters=331)\n",
      "eta=0.01320, max_depth=3 | valid_loss=0.66428 (iters=318)\n",
      "eta=0.01320, max_depth=4 | valid_loss=0.67300 (iters=395)\n",
      "eta=0.01320, max_depth=5 | valid_loss=0.67178 (iters=318)\n",
      "eta=0.01320, max_depth=6 | valid_loss=0.68033 (iters=268)\n",
      "eta=0.01320, max_depth=7 | valid_loss=0.68905 (iters=194)\n",
      "eta=0.01320, max_depth=8 | valid_loss=0.69263 (iters=228)\n",
      "eta=0.01351, max_depth=1 | valid_loss=0.66920 (iters=992)\n",
      "eta=0.01351, max_depth=2 | valid_loss=0.67236 (iters=359)\n",
      "eta=0.01351, max_depth=3 | valid_loss=0.66382 (iters=328)\n",
      "eta=0.01351, max_depth=4 | valid_loss=0.67422 (iters=348)\n",
      "eta=0.01351, max_depth=5 | valid_loss=0.67311 (iters=270)\n",
      "eta=0.01351, max_depth=6 | valid_loss=0.67461 (iters=247)\n",
      "eta=0.01351, max_depth=7 | valid_loss=0.69107 (iters=178)\n",
      "eta=0.01351, max_depth=8 | valid_loss=0.69004 (iters=224)\n",
      "eta=0.01383, max_depth=1 | valid_loss=0.66900 (iters=987)\n",
      "eta=0.01383, max_depth=2 | valid_loss=0.67287 (iters=332)\n",
      "eta=0.01383, max_depth=3 | valid_loss=0.66356 (iters=376)\n",
      "eta=0.01383, max_depth=4 | valid_loss=0.67604 (iters=223)\n",
      "eta=0.01383, max_depth=5 | valid_loss=0.67175 (iters=281)\n",
      "eta=0.01383, max_depth=6 | valid_loss=0.67802 (iters=258)\n",
      "eta=0.01383, max_depth=7 | valid_loss=0.69186 (iters=199)\n",
      "eta=0.01383, max_depth=8 | valid_loss=0.69109 (iters=227)\n",
      "eta=0.01415, max_depth=1 | valid_loss=0.66946 (iters=856)\n",
      "eta=0.01415, max_depth=2 | valid_loss=0.67328 (iters=359)\n",
      "eta=0.01415, max_depth=3 | valid_loss=0.66192 (iters=298)\n",
      "eta=0.01415, max_depth=4 | valid_loss=0.67560 (iters=212)\n",
      "eta=0.01415, max_depth=5 | valid_loss=0.67289 (iters=261)\n",
      "eta=0.01415, max_depth=6 | valid_loss=0.67773 (iters=307)\n",
      "eta=0.01415, max_depth=7 | valid_loss=0.68836 (iters=180)\n",
      "eta=0.01415, max_depth=8 | valid_loss=0.69126 (iters=205)\n",
      "eta=0.01448, max_depth=1 | valid_loss=0.66842 (iters=932)\n",
      "eta=0.01448, max_depth=2 | valid_loss=0.67193 (iters=367)\n",
      "eta=0.01448, max_depth=3 | valid_loss=0.66455 (iters=312)\n",
      "eta=0.01448, max_depth=4 | valid_loss=0.67665 (iters=214)\n",
      "eta=0.01448, max_depth=5 | valid_loss=0.67373 (iters=281)\n",
      "eta=0.01448, max_depth=6 | valid_loss=0.67677 (iters=234)\n",
      "eta=0.01448, max_depth=7 | valid_loss=0.68774 (iters=182)\n",
      "eta=0.01448, max_depth=8 | valid_loss=0.69288 (iters=238)\n",
      "eta=0.01482, max_depth=1 | valid_loss=0.66895 (iters=912)\n",
      "eta=0.01482, max_depth=2 | valid_loss=0.67205 (iters=369)\n",
      "eta=0.01482, max_depth=3 | valid_loss=0.66313 (iters=293)\n",
      "eta=0.01482, max_depth=4 | valid_loss=0.67890 (iters=221)\n",
      "eta=0.01482, max_depth=5 | valid_loss=0.67058 (iters=278)\n",
      "eta=0.01482, max_depth=6 | valid_loss=0.67484 (iters=265)\n"
     ]
    },
    {
     "name": "stdout",
     "output_type": "stream",
     "text": [
      "eta=0.01482, max_depth=7 | valid_loss=0.68553 (iters=207)\n",
      "eta=0.01482, max_depth=8 | valid_loss=0.69901 (iters=212)\n",
      "eta=0.01517, max_depth=1 | valid_loss=0.66911 (iters=880)\n",
      "eta=0.01517, max_depth=2 | valid_loss=0.67291 (iters=309)\n",
      "eta=0.01517, max_depth=3 | valid_loss=0.66286 (iters=301)\n",
      "eta=0.01517, max_depth=4 | valid_loss=0.67462 (iters=326)\n",
      "eta=0.01517, max_depth=5 | valid_loss=0.66882 (iters=248)\n",
      "eta=0.01517, max_depth=6 | valid_loss=0.67663 (iters=241)\n",
      "eta=0.01517, max_depth=7 | valid_loss=0.68753 (iters=198)\n",
      "eta=0.01517, max_depth=8 | valid_loss=0.68988 (iters=211)\n",
      "eta=0.01552, max_depth=1 | valid_loss=0.66918 (iters=873)\n",
      "eta=0.01552, max_depth=2 | valid_loss=0.67321 (iters=321)\n",
      "eta=0.01552, max_depth=3 | valid_loss=0.66344 (iters=282)\n",
      "eta=0.01552, max_depth=4 | valid_loss=0.67418 (iters=322)\n",
      "eta=0.01552, max_depth=5 | valid_loss=0.66869 (iters=267)\n",
      "eta=0.01552, max_depth=6 | valid_loss=0.67512 (iters=245)\n",
      "eta=0.01552, max_depth=7 | valid_loss=0.69119 (iters=199)\n",
      "eta=0.01552, max_depth=8 | valid_loss=0.69806 (iters=198)\n",
      "eta=0.01589, max_depth=1 | valid_loss=0.66869 (iters=853)\n",
      "eta=0.01589, max_depth=2 | valid_loss=0.67276 (iters=290)\n",
      "eta=0.01589, max_depth=3 | valid_loss=0.66319 (iters=264)\n",
      "eta=0.01589, max_depth=4 | valid_loss=0.67224 (iters=281)\n",
      "eta=0.01589, max_depth=5 | valid_loss=0.67212 (iters=220)\n",
      "eta=0.01589, max_depth=6 | valid_loss=0.67783 (iters=223)\n",
      "eta=0.01589, max_depth=7 | valid_loss=0.68880 (iters=190)\n",
      "eta=0.01589, max_depth=8 | valid_loss=0.68886 (iters=196)\n",
      "eta=0.01626, max_depth=1 | valid_loss=0.66946 (iters=772)\n",
      "eta=0.01626, max_depth=2 | valid_loss=0.67293 (iters=294)\n",
      "eta=0.01626, max_depth=3 | valid_loss=0.66378 (iters=271)\n",
      "eta=0.01626, max_depth=4 | valid_loss=0.67302 (iters=296)\n",
      "eta=0.01626, max_depth=5 | valid_loss=0.67396 (iters=232)\n",
      "eta=0.01626, max_depth=6 | valid_loss=0.67622 (iters=216)\n",
      "eta=0.01626, max_depth=7 | valid_loss=0.68838 (iters=207)\n",
      "eta=0.01626, max_depth=8 | valid_loss=0.69060 (iters=195)\n",
      "eta=0.01664, max_depth=1 | valid_loss=0.66866 (iters=814)\n",
      "eta=0.01664, max_depth=2 | valid_loss=0.67255 (iters=303)\n",
      "eta=0.01664, max_depth=3 | valid_loss=0.66387 (iters=257)\n",
      "eta=0.01664, max_depth=4 | valid_loss=0.67766 (iters=202)\n",
      "eta=0.01664, max_depth=5 | valid_loss=0.66952 (iters=218)\n",
      "eta=0.01664, max_depth=6 | valid_loss=0.67309 (iters=235)\n",
      "eta=0.01664, max_depth=7 | valid_loss=0.68678 (iters=191)\n",
      "eta=0.01664, max_depth=8 | valid_loss=0.69233 (iters=221)\n",
      "eta=0.01703, max_depth=1 | valid_loss=0.66916 (iters=786)\n",
      "eta=0.01703, max_depth=2 | valid_loss=0.67238 (iters=277)\n",
      "eta=0.01703, max_depth=3 | valid_loss=0.66551 (iters=267)\n",
      "eta=0.01703, max_depth=4 | valid_loss=0.67068 (iters=292)\n",
      "eta=0.01703, max_depth=5 | valid_loss=0.67138 (iters=228)\n",
      "eta=0.01703, max_depth=6 | valid_loss=0.67271 (iters=206)\n",
      "eta=0.01703, max_depth=7 | valid_loss=0.68724 (iters=155)\n",
      "eta=0.01703, max_depth=8 | valid_loss=0.68879 (iters=187)\n",
      "eta=0.01743, max_depth=1 | valid_loss=0.66870 (iters=777)\n",
      "eta=0.01743, max_depth=2 | valid_loss=0.67188 (iters=305)\n",
      "eta=0.01743, max_depth=3 | valid_loss=0.66302 (iters=242)\n",
      "eta=0.01743, max_depth=4 | valid_loss=0.67515 (iters=173)\n",
      "eta=0.01743, max_depth=5 | valid_loss=0.67272 (iters=216)\n",
      "eta=0.01743, max_depth=6 | valid_loss=0.67237 (iters=199)\n",
      "eta=0.01743, max_depth=7 | valid_loss=0.68939 (iters=171)\n",
      "eta=0.01743, max_depth=8 | valid_loss=0.69180 (iters=191)\n",
      "eta=0.01783, max_depth=1 | valid_loss=0.66870 (iters=750)\n",
      "eta=0.01783, max_depth=2 | valid_loss=0.67306 (iters=269)\n",
      "eta=0.01783, max_depth=3 | valid_loss=0.66423 (iters=233)\n",
      "eta=0.01783, max_depth=4 | valid_loss=0.67196 (iters=290)\n",
      "eta=0.01783, max_depth=5 | valid_loss=0.67529 (iters=204)\n",
      "eta=0.01783, max_depth=6 | valid_loss=0.68001 (iters=208)\n",
      "eta=0.01783, max_depth=7 | valid_loss=0.68804 (iters=170)\n",
      "eta=0.01783, max_depth=8 | valid_loss=0.69235 (iters=168)\n",
      "eta=0.01825, max_depth=1 | valid_loss=0.66837 (iters=736)\n",
      "eta=0.01825, max_depth=2 | valid_loss=0.67246 (iters=255)\n",
      "eta=0.01825, max_depth=3 | valid_loss=0.66383 (iters=324)\n",
      "eta=0.01825, max_depth=4 | valid_loss=0.67571 (iters=268)\n",
      "eta=0.01825, max_depth=5 | valid_loss=0.66989 (iters=221)\n",
      "eta=0.01825, max_depth=6 | valid_loss=0.67672 (iters=216)\n",
      "eta=0.01825, max_depth=7 | valid_loss=0.68819 (iters=175)\n",
      "eta=0.01825, max_depth=8 | valid_loss=0.68823 (iters=147)\n",
      "eta=0.01868, max_depth=1 | valid_loss=0.66878 (iters=726)\n",
      "eta=0.01868, max_depth=2 | valid_loss=0.67180 (iters=238)\n",
      "eta=0.01868, max_depth=3 | valid_loss=0.66351 (iters=229)\n",
      "eta=0.01868, max_depth=4 | valid_loss=0.67556 (iters=261)\n",
      "eta=0.01868, max_depth=5 | valid_loss=0.66999 (iters=179)\n",
      "eta=0.01868, max_depth=6 | valid_loss=0.67956 (iters=200)\n",
      "eta=0.01868, max_depth=7 | valid_loss=0.68923 (iters=160)\n",
      "eta=0.01868, max_depth=8 | valid_loss=0.69032 (iters=171)\n",
      "eta=0.01912, max_depth=1 | valid_loss=0.66868 (iters=705)\n",
      "eta=0.01912, max_depth=2 | valid_loss=0.67266 (iters=270)\n",
      "eta=0.01912, max_depth=3 | valid_loss=0.66333 (iters=227)\n",
      "eta=0.01912, max_depth=4 | valid_loss=0.67242 (iters=241)\n",
      "eta=0.01912, max_depth=5 | valid_loss=0.67294 (iters=186)\n",
      "eta=0.01912, max_depth=6 | valid_loss=0.67700 (iters=189)\n",
      "eta=0.01912, max_depth=7 | valid_loss=0.68920 (iters=142)\n",
      "eta=0.01912, max_depth=8 | valid_loss=0.69537 (iters=166)\n",
      "eta=0.01956, max_depth=1 | valid_loss=0.66938 (iters=610)\n",
      "eta=0.01956, max_depth=2 | valid_loss=0.67251 (iters=244)\n",
      "eta=0.01956, max_depth=3 | valid_loss=0.66110 (iters=284)\n",
      "eta=0.01956, max_depth=4 | valid_loss=0.66983 (iters=219)\n",
      "eta=0.01956, max_depth=5 | valid_loss=0.67308 (iters=188)\n",
      "eta=0.01956, max_depth=6 | valid_loss=0.67746 (iters=195)\n",
      "eta=0.01956, max_depth=7 | valid_loss=0.69027 (iters=150)\n",
      "eta=0.01956, max_depth=8 | valid_loss=0.68891 (iters=159)\n",
      "eta=0.02002, max_depth=1 | valid_loss=0.66988 (iters=585)\n",
      "eta=0.02002, max_depth=2 | valid_loss=0.67332 (iters=252)\n",
      "eta=0.02002, max_depth=3 | valid_loss=0.66483 (iters=215)\n",
      "eta=0.02002, max_depth=4 | valid_loss=0.67137 (iters=253)\n",
      "eta=0.02002, max_depth=5 | valid_loss=0.67087 (iters=179)\n",
      "eta=0.02002, max_depth=6 | valid_loss=0.67643 (iters=191)\n",
      "eta=0.02002, max_depth=7 | valid_loss=0.68171 (iters=168)\n",
      "eta=0.02002, max_depth=8 | valid_loss=0.68970 (iters=154)\n",
      "eta=0.02049, max_depth=1 | valid_loss=0.66837 (iters=665)\n",
      "eta=0.02049, max_depth=2 | valid_loss=0.67223 (iters=220)\n",
      "eta=0.02049, max_depth=3 | valid_loss=0.66215 (iters=209)\n",
      "eta=0.02049, max_depth=4 | valid_loss=0.67516 (iters=228)\n",
      "eta=0.02049, max_depth=5 | valid_loss=0.66924 (iters=179)\n",
      "eta=0.02049, max_depth=6 | valid_loss=0.67861 (iters=162)\n",
      "eta=0.02049, max_depth=7 | valid_loss=0.68789 (iters=151)\n",
      "eta=0.02049, max_depth=8 | valid_loss=0.69108 (iters=151)\n",
      "eta=0.02097, max_depth=1 | valid_loss=0.66911 (iters=621)\n",
      "eta=0.02097, max_depth=2 | valid_loss=0.67243 (iters=241)\n",
      "eta=0.02097, max_depth=3 | valid_loss=0.66214 (iters=249)\n",
      "eta=0.02097, max_depth=4 | valid_loss=0.67397 (iters=238)\n",
      "eta=0.02097, max_depth=5 | valid_loss=0.66987 (iters=199)\n",
      "eta=0.02097, max_depth=6 | valid_loss=0.67671 (iters=172)\n",
      "eta=0.02097, max_depth=7 | valid_loss=0.69379 (iters=121)\n",
      "eta=0.02097, max_depth=8 | valid_loss=0.70078 (iters=161)\n",
      "eta=0.02146, max_depth=1 | valid_loss=0.66943 (iters=578)\n",
      "eta=0.02146, max_depth=2 | valid_loss=0.67231 (iters=234)\n",
      "eta=0.02146, max_depth=3 | valid_loss=0.66407 (iters=235)\n",
      "eta=0.02146, max_depth=4 | valid_loss=0.67314 (iters=234)\n",
      "eta=0.02146, max_depth=5 | valid_loss=0.67316 (iters=184)\n",
      "eta=0.02146, max_depth=6 | valid_loss=0.67888 (iters=163)\n",
      "eta=0.02146, max_depth=7 | valid_loss=0.68498 (iters=145)\n",
      "eta=0.02146, max_depth=8 | valid_loss=0.69501 (iters=149)\n",
      "eta=0.02196, max_depth=1 | valid_loss=0.66878 (iters=563)\n",
      "eta=0.02196, max_depth=2 | valid_loss=0.67188 (iters=238)\n",
      "eta=0.02196, max_depth=3 | valid_loss=0.66399 (iters=264)\n",
      "eta=0.02196, max_depth=4 | valid_loss=0.67198 (iters=228)\n",
      "eta=0.02196, max_depth=5 | valid_loss=0.66793 (iters=186)\n",
      "eta=0.02196, max_depth=6 | valid_loss=0.67607 (iters=274)\n",
      "eta=0.02196, max_depth=7 | valid_loss=0.68506 (iters=151)\n",
      "eta=0.02196, max_depth=8 | valid_loss=0.69837 (iters=145)\n",
      "eta=0.02248, max_depth=1 | valid_loss=0.66905 (iters=590)\n",
      "eta=0.02248, max_depth=2 | valid_loss=0.67221 (iters=210)\n",
      "eta=0.02248, max_depth=3 | valid_loss=0.66356 (iters=187)\n",
      "eta=0.02248, max_depth=4 | valid_loss=0.67108 (iters=215)\n"
     ]
    },
    {
     "name": "stdout",
     "output_type": "stream",
     "text": [
      "eta=0.02248, max_depth=5 | valid_loss=0.66732 (iters=163)\n",
      "eta=0.02248, max_depth=6 | valid_loss=0.67939 (iters=180)\n",
      "eta=0.02248, max_depth=7 | valid_loss=0.69286 (iters=106)\n",
      "eta=0.02248, max_depth=8 | valid_loss=0.68979 (iters=138)\n",
      "eta=0.02300, max_depth=1 | valid_loss=0.66967 (iters=493)\n",
      "eta=0.02300, max_depth=2 | valid_loss=0.67212 (iters=206)\n",
      "eta=0.02300, max_depth=3 | valid_loss=0.66217 (iters=223)\n",
      "eta=0.02300, max_depth=4 | valid_loss=0.67338 (iters=214)\n",
      "eta=0.02300, max_depth=5 | valid_loss=0.67120 (iters=160)\n",
      "eta=0.02300, max_depth=6 | valid_loss=0.67627 (iters=158)\n",
      "eta=0.02300, max_depth=7 | valid_loss=0.68913 (iters=135)\n",
      "eta=0.02300, max_depth=8 | valid_loss=0.69645 (iters=126)\n",
      "eta=0.02354, max_depth=1 | valid_loss=0.66936 (iters=576)\n",
      "eta=0.02354, max_depth=2 | valid_loss=0.67138 (iters=207)\n",
      "eta=0.02354, max_depth=3 | valid_loss=0.66300 (iters=189)\n",
      "eta=0.02354, max_depth=4 | valid_loss=0.67345 (iters=199)\n",
      "eta=0.02354, max_depth=5 | valid_loss=0.67210 (iters=166)\n",
      "eta=0.02354, max_depth=6 | valid_loss=0.67179 (iters=147)\n",
      "eta=0.02354, max_depth=7 | valid_loss=0.68981 (iters=140)\n",
      "eta=0.02354, max_depth=8 | valid_loss=0.69753 (iters=125)\n",
      "eta=0.02409, max_depth=1 | valid_loss=0.66905 (iters=567)\n",
      "eta=0.02409, max_depth=2 | valid_loss=0.67255 (iters=218)\n",
      "eta=0.02409, max_depth=3 | valid_loss=0.66299 (iters=181)\n",
      "eta=0.02409, max_depth=4 | valid_loss=0.67194 (iters=227)\n",
      "eta=0.02409, max_depth=5 | valid_loss=0.67029 (iters=177)\n",
      "eta=0.02409, max_depth=6 | valid_loss=0.67846 (iters=185)\n",
      "eta=0.02409, max_depth=7 | valid_loss=0.69184 (iters=116)\n",
      "eta=0.02409, max_depth=8 | valid_loss=0.69825 (iters=134)\n",
      "eta=0.02466, max_depth=1 | valid_loss=0.66856 (iters=549)\n",
      "eta=0.02466, max_depth=2 | valid_loss=0.67193 (iters=225)\n",
      "eta=0.02466, max_depth=3 | valid_loss=0.66210 (iters=171)\n",
      "eta=0.02466, max_depth=4 | valid_loss=0.67178 (iters=184)\n",
      "eta=0.02466, max_depth=5 | valid_loss=0.66976 (iters=186)\n",
      "eta=0.02466, max_depth=6 | valid_loss=0.67836 (iters=159)\n",
      "eta=0.02466, max_depth=7 | valid_loss=0.68563 (iters=130)\n",
      "eta=0.02466, max_depth=8 | valid_loss=0.69826 (iters=133)\n",
      "eta=0.02524, max_depth=1 | valid_loss=0.66903 (iters=535)\n",
      "eta=0.02524, max_depth=2 | valid_loss=0.67143 (iters=180)\n",
      "eta=0.02524, max_depth=3 | valid_loss=0.66649 (iters=176)\n",
      "eta=0.02524, max_depth=4 | valid_loss=0.67291 (iters=178)\n",
      "eta=0.02524, max_depth=5 | valid_loss=0.67120 (iters=162)\n",
      "eta=0.02524, max_depth=6 | valid_loss=0.67592 (iters=178)\n",
      "eta=0.02524, max_depth=7 | valid_loss=0.69084 (iters=108)\n",
      "eta=0.02524, max_depth=8 | valid_loss=0.69135 (iters=130)\n",
      "eta=0.02583, max_depth=1 | valid_loss=0.66858 (iters=526)\n",
      "eta=0.02583, max_depth=2 | valid_loss=0.67246 (iters=187)\n",
      "eta=0.02583, max_depth=3 | valid_loss=0.66182 (iters=170)\n",
      "eta=0.02583, max_depth=4 | valid_loss=0.67090 (iters=191)\n",
      "eta=0.02583, max_depth=5 | valid_loss=0.67266 (iters=146)\n",
      "eta=0.02583, max_depth=6 | valid_loss=0.67310 (iters=213)\n",
      "eta=0.02583, max_depth=7 | valid_loss=0.69388 (iters=94)\n",
      "eta=0.02583, max_depth=8 | valid_loss=0.69761 (iters=121)\n",
      "eta=0.02643, max_depth=1 | valid_loss=0.67010 (iters=468)\n",
      "eta=0.02643, max_depth=2 | valid_loss=0.67271 (iters=176)\n",
      "eta=0.02643, max_depth=3 | valid_loss=0.66155 (iters=187)\n",
      "eta=0.02643, max_depth=4 | valid_loss=0.67241 (iters=174)\n",
      "eta=0.02643, max_depth=5 | valid_loss=0.66871 (iters=147)\n",
      "eta=0.02643, max_depth=6 | valid_loss=0.67505 (iters=182)\n",
      "eta=0.02643, max_depth=7 | valid_loss=0.68252 (iters=136)\n",
      "eta=0.02643, max_depth=8 | valid_loss=0.69239 (iters=123)\n",
      "eta=0.02705, max_depth=1 | valid_loss=0.66870 (iters=502)\n",
      "eta=0.02705, max_depth=2 | valid_loss=0.67258 (iters=180)\n",
      "eta=0.02705, max_depth=3 | valid_loss=0.66018 (iters=155)\n",
      "eta=0.02705, max_depth=4 | valid_loss=0.66939 (iters=179)\n",
      "eta=0.02705, max_depth=5 | valid_loss=0.67308 (iters=151)\n",
      "eta=0.02705, max_depth=6 | valid_loss=0.67507 (iters=153)\n",
      "eta=0.02705, max_depth=7 | valid_loss=0.69695 (iters=115)\n",
      "eta=0.02705, max_depth=8 | valid_loss=0.70014 (iters=124)\n",
      "eta=0.02768, max_depth=1 | valid_loss=0.66908 (iters=450)\n",
      "eta=0.02768, max_depth=2 | valid_loss=0.67197 (iters=163)\n",
      "eta=0.02768, max_depth=3 | valid_loss=0.66542 (iters=201)\n",
      "eta=0.02768, max_depth=4 | valid_loss=0.67592 (iters=128)\n",
      "eta=0.02768, max_depth=5 | valid_loss=0.67424 (iters=117)\n",
      "eta=0.02768, max_depth=6 | valid_loss=0.67637 (iters=124)\n",
      "eta=0.02768, max_depth=7 | valid_loss=0.67925 (iters=125)\n",
      "eta=0.02768, max_depth=8 | valid_loss=0.69130 (iters=114)\n",
      "eta=0.02833, max_depth=1 | valid_loss=0.66868 (iters=496)\n",
      "eta=0.02833, max_depth=2 | valid_loss=0.67105 (iters=181)\n",
      "eta=0.02833, max_depth=3 | valid_loss=0.66490 (iters=206)\n",
      "eta=0.02833, max_depth=4 | valid_loss=0.67240 (iters=169)\n",
      "eta=0.02833, max_depth=5 | valid_loss=0.67270 (iters=148)\n",
      "eta=0.02833, max_depth=6 | valid_loss=0.67317 (iters=166)\n",
      "eta=0.02833, max_depth=7 | valid_loss=0.68307 (iters=99)\n",
      "eta=0.02833, max_depth=8 | valid_loss=0.69067 (iters=114)\n",
      "eta=0.02899, max_depth=1 | valid_loss=0.66906 (iters=432)\n",
      "eta=0.02899, max_depth=2 | valid_loss=0.67337 (iters=174)\n",
      "eta=0.02899, max_depth=3 | valid_loss=0.66251 (iters=183)\n",
      "eta=0.02899, max_depth=4 | valid_loss=0.67285 (iters=160)\n",
      "eta=0.02899, max_depth=5 | valid_loss=0.66838 (iters=172)\n",
      "eta=0.02899, max_depth=6 | valid_loss=0.67344 (iters=135)\n",
      "eta=0.02899, max_depth=7 | valid_loss=0.68088 (iters=106)\n",
      "eta=0.02899, max_depth=8 | valid_loss=0.69111 (iters=114)\n",
      "eta=0.02967, max_depth=1 | valid_loss=0.66804 (iters=457)\n",
      "eta=0.02967, max_depth=2 | valid_loss=0.67080 (iters=159)\n",
      "eta=0.02967, max_depth=3 | valid_loss=0.66449 (iters=139)\n",
      "eta=0.02967, max_depth=4 | valid_loss=0.67291 (iters=168)\n",
      "eta=0.02967, max_depth=5 | valid_loss=0.67534 (iters=125)\n",
      "eta=0.02967, max_depth=6 | valid_loss=0.67812 (iters=139)\n",
      "eta=0.02967, max_depth=7 | valid_loss=0.68645 (iters=79)\n",
      "eta=0.02967, max_depth=8 | valid_loss=0.69447 (iters=109)\n",
      "eta=0.03037, max_depth=1 | valid_loss=0.66868 (iters=409)\n",
      "eta=0.03037, max_depth=2 | valid_loss=0.67084 (iters=180)\n",
      "eta=0.03037, max_depth=3 | valid_loss=0.66413 (iters=138)\n",
      "eta=0.03037, max_depth=4 | valid_loss=0.67438 (iters=177)\n",
      "eta=0.03037, max_depth=5 | valid_loss=0.66929 (iters=159)\n",
      "eta=0.03037, max_depth=6 | valid_loss=0.67569 (iters=119)\n",
      "eta=0.03037, max_depth=7 | valid_loss=0.68173 (iters=102)\n",
      "eta=0.03037, max_depth=8 | valid_loss=0.69601 (iters=102)\n",
      "eta=0.03108, max_depth=1 | valid_loss=0.66909 (iters=433)\n",
      "eta=0.03108, max_depth=2 | valid_loss=0.67117 (iters=189)\n",
      "eta=0.03108, max_depth=3 | valid_loss=0.66377 (iters=147)\n",
      "eta=0.03108, max_depth=4 | valid_loss=0.67173 (iters=159)\n",
      "eta=0.03108, max_depth=5 | valid_loss=0.67047 (iters=130)\n",
      "eta=0.03108, max_depth=6 | valid_loss=0.67812 (iters=122)\n",
      "eta=0.03108, max_depth=7 | valid_loss=0.68479 (iters=97)\n",
      "eta=0.03108, max_depth=8 | valid_loss=0.69077 (iters=104)\n",
      "eta=0.03181, max_depth=1 | valid_loss=0.67018 (iters=334)\n",
      "eta=0.03181, max_depth=2 | valid_loss=0.67210 (iters=157)\n",
      "eta=0.03181, max_depth=3 | valid_loss=0.66165 (iters=147)\n",
      "eta=0.03181, max_depth=4 | valid_loss=0.67559 (iters=161)\n",
      "eta=0.03181, max_depth=5 | valid_loss=0.66946 (iters=149)\n",
      "eta=0.03181, max_depth=6 | valid_loss=0.67640 (iters=166)\n",
      "eta=0.03181, max_depth=7 | valid_loss=0.68825 (iters=96)\n",
      "eta=0.03181, max_depth=8 | valid_loss=0.69459 (iters=94)\n",
      "eta=0.03255, max_depth=1 | valid_loss=0.66818 (iters=406)\n",
      "eta=0.03255, max_depth=2 | valid_loss=0.67386 (iters=150)\n",
      "eta=0.03255, max_depth=3 | valid_loss=0.66370 (iters=136)\n",
      "eta=0.03255, max_depth=4 | valid_loss=0.67717 (iters=136)\n",
      "eta=0.03255, max_depth=5 | valid_loss=0.67250 (iters=123)\n",
      "eta=0.03255, max_depth=6 | valid_loss=0.67317 (iters=120)\n",
      "eta=0.03255, max_depth=7 | valid_loss=0.68260 (iters=71)\n",
      "eta=0.03255, max_depth=8 | valid_loss=0.69042 (iters=99)\n",
      "eta=0.03331, max_depth=1 | valid_loss=0.66820 (iters=400)\n",
      "eta=0.03331, max_depth=2 | valid_loss=0.67099 (iters=147)\n",
      "eta=0.03331, max_depth=3 | valid_loss=0.66442 (iters=126)\n",
      "eta=0.03331, max_depth=4 | valid_loss=0.67421 (iters=156)\n",
      "eta=0.03331, max_depth=5 | valid_loss=0.66819 (iters=127)\n",
      "eta=0.03331, max_depth=6 | valid_loss=0.67776 (iters=97)\n",
      "eta=0.03331, max_depth=7 | valid_loss=0.69121 (iters=65)\n",
      "eta=0.03331, max_depth=8 | valid_loss=0.69109 (iters=92)\n",
      "eta=0.03409, max_depth=1 | valid_loss=0.66816 (iters=391)\n",
      "eta=0.03409, max_depth=2 | valid_loss=0.67372 (iters=145)\n"
     ]
    },
    {
     "name": "stdout",
     "output_type": "stream",
     "text": [
      "eta=0.03409, max_depth=3 | valid_loss=0.66089 (iters=167)\n",
      "eta=0.03409, max_depth=4 | valid_loss=0.67637 (iters=116)\n",
      "eta=0.03409, max_depth=5 | valid_loss=0.67341 (iters=114)\n",
      "eta=0.03409, max_depth=6 | valid_loss=0.68370 (iters=102)\n",
      "eta=0.03409, max_depth=7 | valid_loss=0.69073 (iters=88)\n",
      "eta=0.03409, max_depth=8 | valid_loss=0.69380 (iters=90)\n",
      "eta=0.03489, max_depth=1 | valid_loss=0.66859 (iters=345)\n",
      "eta=0.03489, max_depth=2 | valid_loss=0.67023 (iters=152)\n",
      "eta=0.03489, max_depth=3 | valid_loss=0.66308 (iters=123)\n",
      "eta=0.03489, max_depth=4 | valid_loss=0.67372 (iters=145)\n",
      "eta=0.03489, max_depth=5 | valid_loss=0.67260 (iters=102)\n",
      "eta=0.03489, max_depth=6 | valid_loss=0.67541 (iters=98)\n",
      "eta=0.03489, max_depth=7 | valid_loss=0.69363 (iters=86)\n",
      "eta=0.03489, max_depth=8 | valid_loss=0.69991 (iters=88)\n",
      "eta=0.03571, max_depth=1 | valid_loss=0.66906 (iters=344)\n",
      "eta=0.03571, max_depth=2 | valid_loss=0.67366 (iters=156)\n",
      "eta=0.03571, max_depth=3 | valid_loss=0.66326 (iters=117)\n",
      "eta=0.03571, max_depth=4 | valid_loss=0.67414 (iters=143)\n",
      "eta=0.03571, max_depth=5 | valid_loss=0.66648 (iters=108)\n",
      "eta=0.03571, max_depth=6 | valid_loss=0.67166 (iters=88)\n",
      "eta=0.03571, max_depth=7 | valid_loss=0.69036 (iters=65)\n",
      "eta=0.03571, max_depth=8 | valid_loss=0.69515 (iters=82)\n",
      "eta=0.03654, max_depth=1 | valid_loss=0.66936 (iters=374)\n",
      "eta=0.03654, max_depth=2 | valid_loss=0.67150 (iters=140)\n",
      "eta=0.03654, max_depth=3 | valid_loss=0.66254 (iters=111)\n",
      "eta=0.03654, max_depth=4 | valid_loss=0.67336 (iters=130)\n",
      "eta=0.03654, max_depth=5 | valid_loss=0.66750 (iters=103)\n",
      "eta=0.03654, max_depth=6 | valid_loss=0.67336 (iters=95)\n",
      "eta=0.03654, max_depth=7 | valid_loss=0.67899 (iters=108)\n",
      "eta=0.03654, max_depth=8 | valid_loss=0.69226 (iters=76)\n",
      "eta=0.03740, max_depth=1 | valid_loss=0.66895 (iters=317)\n",
      "eta=0.03740, max_depth=2 | valid_loss=0.67160 (iters=154)\n",
      "eta=0.03740, max_depth=3 | valid_loss=0.66335 (iters=118)\n",
      "eta=0.03740, max_depth=4 | valid_loss=0.67426 (iters=109)\n",
      "eta=0.03740, max_depth=5 | valid_loss=0.67476 (iters=101)\n",
      "eta=0.03740, max_depth=6 | valid_loss=0.67616 (iters=106)\n",
      "eta=0.03740, max_depth=7 | valid_loss=0.68834 (iters=72)\n",
      "eta=0.03740, max_depth=8 | valid_loss=0.68841 (iters=80)\n",
      "eta=0.03827, max_depth=1 | valid_loss=0.66777 (iters=354)\n",
      "eta=0.03827, max_depth=2 | valid_loss=0.67279 (iters=124)\n",
      "eta=0.03827, max_depth=3 | valid_loss=0.66444 (iters=111)\n",
      "eta=0.03827, max_depth=4 | valid_loss=0.67637 (iters=79)\n",
      "eta=0.03827, max_depth=5 | valid_loss=0.66807 (iters=104)\n",
      "eta=0.03827, max_depth=6 | valid_loss=0.67526 (iters=133)\n",
      "eta=0.03827, max_depth=7 | valid_loss=0.69266 (iters=70)\n",
      "eta=0.03827, max_depth=8 | valid_loss=0.69463 (iters=79)\n",
      "eta=0.03917, max_depth=1 | valid_loss=0.66816 (iters=346)\n",
      "eta=0.03917, max_depth=2 | valid_loss=0.67321 (iters=118)\n",
      "eta=0.03917, max_depth=3 | valid_loss=0.66332 (iters=110)\n",
      "eta=0.03917, max_depth=4 | valid_loss=0.67577 (iters=100)\n",
      "eta=0.03917, max_depth=5 | valid_loss=0.67084 (iters=92)\n",
      "eta=0.03917, max_depth=6 | valid_loss=0.67667 (iters=82)\n",
      "eta=0.03917, max_depth=7 | valid_loss=0.67919 (iters=86)\n",
      "eta=0.03917, max_depth=8 | valid_loss=0.69197 (iters=85)\n",
      "eta=0.04009, max_depth=1 | valid_loss=0.66861 (iters=338)\n",
      "eta=0.04009, max_depth=2 | valid_loss=0.67364 (iters=120)\n",
      "eta=0.04009, max_depth=3 | valid_loss=0.66189 (iters=148)\n",
      "eta=0.04009, max_depth=4 | valid_loss=0.67284 (iters=76)\n",
      "eta=0.04009, max_depth=5 | valid_loss=0.67166 (iters=102)\n",
      "eta=0.04009, max_depth=6 | valid_loss=0.67469 (iters=92)\n",
      "eta=0.04009, max_depth=7 | valid_loss=0.68371 (iters=75)\n",
      "eta=0.04009, max_depth=8 | valid_loss=0.69738 (iters=78)\n",
      "eta=0.04103, max_depth=1 | valid_loss=0.66883 (iters=327)\n",
      "eta=0.04103, max_depth=2 | valid_loss=0.67185 (iters=113)\n",
      "eta=0.04103, max_depth=3 | valid_loss=0.65742 (iters=142)\n",
      "eta=0.04103, max_depth=4 | valid_loss=0.66926 (iters=133)\n",
      "eta=0.04103, max_depth=5 | valid_loss=0.67267 (iters=97)\n",
      "eta=0.04103, max_depth=6 | valid_loss=0.67853 (iters=91)\n",
      "eta=0.04103, max_depth=7 | valid_loss=0.69041 (iters=76)\n",
      "eta=0.04103, max_depth=8 | valid_loss=0.70564 (iters=74)\n",
      "eta=0.04199, max_depth=1 | valid_loss=0.66995 (iters=270)\n",
      "eta=0.04199, max_depth=2 | valid_loss=0.67200 (iters=105)\n",
      "eta=0.04199, max_depth=3 | valid_loss=0.66429 (iters=118)\n",
      "eta=0.04199, max_depth=4 | valid_loss=0.67185 (iters=134)\n",
      "eta=0.04199, max_depth=5 | valid_loss=0.67227 (iters=78)\n",
      "eta=0.04199, max_depth=6 | valid_loss=0.68036 (iters=117)\n",
      "eta=0.04199, max_depth=7 | valid_loss=0.68888 (iters=77)\n",
      "eta=0.04199, max_depth=8 | valid_loss=0.69091 (iters=65)\n",
      "eta=0.04297, max_depth=1 | valid_loss=0.66914 (iters=314)\n",
      "eta=0.04297, max_depth=2 | valid_loss=0.67428 (iters=121)\n",
      "eta=0.04297, max_depth=3 | valid_loss=0.66292 (iters=111)\n",
      "eta=0.04297, max_depth=4 | valid_loss=0.67307 (iters=110)\n",
      "eta=0.04297, max_depth=5 | valid_loss=0.66494 (iters=92)\n",
      "eta=0.04297, max_depth=6 | valid_loss=0.68070 (iters=89)\n",
      "eta=0.04297, max_depth=7 | valid_loss=0.69385 (iters=68)\n",
      "eta=0.04297, max_depth=8 | valid_loss=0.68963 (iters=69)\n",
      "eta=0.04398, max_depth=1 | valid_loss=0.66809 (iters=300)\n",
      "eta=0.04398, max_depth=2 | valid_loss=0.67108 (iters=121)\n",
      "eta=0.04398, max_depth=3 | valid_loss=0.65762 (iters=161)\n",
      "eta=0.04398, max_depth=4 | valid_loss=0.67214 (iters=115)\n",
      "eta=0.04398, max_depth=5 | valid_loss=0.66788 (iters=92)\n",
      "eta=0.04398, max_depth=6 | valid_loss=0.67143 (iters=140)\n",
      "eta=0.04398, max_depth=7 | valid_loss=0.68088 (iters=71)\n",
      "eta=0.04398, max_depth=8 | valid_loss=0.69578 (iters=65)\n",
      "eta=0.04501, max_depth=1 | valid_loss=0.66700 (iters=299)\n",
      "eta=0.04501, max_depth=2 | valid_loss=0.67053 (iters=114)\n",
      "eta=0.04501, max_depth=3 | valid_loss=0.66450 (iters=94)\n",
      "eta=0.04501, max_depth=4 | valid_loss=0.67243 (iters=106)\n",
      "eta=0.04501, max_depth=5 | valid_loss=0.66893 (iters=68)\n",
      "eta=0.04501, max_depth=6 | valid_loss=0.68171 (iters=77)\n",
      "eta=0.04501, max_depth=7 | valid_loss=0.67676 (iters=69)\n",
      "eta=0.04501, max_depth=8 | valid_loss=0.70362 (iters=54)\n",
      "eta=0.04606, max_depth=1 | valid_loss=0.66864 (iters=287)\n",
      "eta=0.04606, max_depth=2 | valid_loss=0.66958 (iters=95)\n",
      "eta=0.04606, max_depth=3 | valid_loss=0.66290 (iters=93)\n",
      "eta=0.04606, max_depth=4 | valid_loss=0.67139 (iters=81)\n",
      "eta=0.04606, max_depth=5 | valid_loss=0.67071 (iters=78)\n",
      "eta=0.04606, max_depth=6 | valid_loss=0.67778 (iters=73)\n",
      "eta=0.04606, max_depth=7 | valid_loss=0.68322 (iters=78)\n",
      "eta=0.04606, max_depth=8 | valid_loss=0.69617 (iters=56)\n",
      "eta=0.04714, max_depth=1 | valid_loss=0.66866 (iters=295)\n",
      "eta=0.04714, max_depth=2 | valid_loss=0.66893 (iters=103)\n",
      "eta=0.04714, max_depth=3 | valid_loss=0.66208 (iters=85)\n",
      "eta=0.04714, max_depth=4 | valid_loss=0.66915 (iters=108)\n",
      "eta=0.04714, max_depth=5 | valid_loss=0.67136 (iters=95)\n",
      "eta=0.04714, max_depth=6 | valid_loss=0.67131 (iters=93)\n",
      "eta=0.04714, max_depth=7 | valid_loss=0.67936 (iters=77)\n",
      "eta=0.04714, max_depth=8 | valid_loss=0.69005 (iters=60)\n",
      "eta=0.04824, max_depth=1 | valid_loss=0.66877 (iters=257)\n",
      "eta=0.04824, max_depth=2 | valid_loss=0.67140 (iters=109)\n",
      "eta=0.04824, max_depth=3 | valid_loss=0.65902 (iters=138)\n",
      "eta=0.04824, max_depth=4 | valid_loss=0.67763 (iters=100)\n",
      "eta=0.04824, max_depth=5 | valid_loss=0.67007 (iters=76)\n",
      "eta=0.04824, max_depth=6 | valid_loss=0.67402 (iters=89)\n",
      "eta=0.04824, max_depth=7 | valid_loss=0.68684 (iters=67)\n",
      "eta=0.04824, max_depth=8 | valid_loss=0.70264 (iters=53)\n",
      "eta=0.04937, max_depth=1 | valid_loss=0.66896 (iters=277)\n",
      "eta=0.04937, max_depth=2 | valid_loss=0.67188 (iters=90)\n",
      "eta=0.04937, max_depth=3 | valid_loss=0.66692 (iters=84)\n",
      "eta=0.04937, max_depth=4 | valid_loss=0.67044 (iters=96)\n",
      "eta=0.04937, max_depth=5 | valid_loss=0.67251 (iters=78)\n",
      "eta=0.04937, max_depth=6 | valid_loss=0.67188 (iters=68)\n",
      "eta=0.04937, max_depth=7 | valid_loss=0.68036 (iters=61)\n",
      "eta=0.04937, max_depth=8 | valid_loss=0.69624 (iters=48)\n",
      "eta=0.05053, max_depth=1 | valid_loss=0.66946 (iters=261)\n",
      "eta=0.05053, max_depth=2 | valid_loss=0.67275 (iters=111)\n",
      "eta=0.05053, max_depth=3 | valid_loss=0.66652 (iters=82)\n",
      "eta=0.05053, max_depth=4 | valid_loss=0.67354 (iters=60)\n",
      "eta=0.05053, max_depth=5 | valid_loss=0.67100 (iters=59)\n",
      "eta=0.05053, max_depth=6 | valid_loss=0.67664 (iters=67)\n",
      "eta=0.05053, max_depth=7 | valid_loss=0.68195 (iters=59)\n",
      "eta=0.05053, max_depth=8 | valid_loss=0.69522 (iters=57)\n",
      "eta=0.05171, max_depth=1 | valid_loss=0.66905 (iters=259)\n",
      "eta=0.05171, max_depth=2 | valid_loss=0.67192 (iters=110)\n",
      "eta=0.05171, max_depth=3 | valid_loss=0.66430 (iters=89)\n"
     ]
    },
    {
     "name": "stdout",
     "output_type": "stream",
     "text": [
      "eta=0.05171, max_depth=4 | valid_loss=0.67105 (iters=95)\n",
      "eta=0.05171, max_depth=5 | valid_loss=0.66595 (iters=63)\n",
      "eta=0.05171, max_depth=6 | valid_loss=0.67405 (iters=64)\n",
      "eta=0.05171, max_depth=7 | valid_loss=0.68772 (iters=52)\n",
      "eta=0.05171, max_depth=8 | valid_loss=0.69106 (iters=47)\n",
      "eta=0.05292, max_depth=1 | valid_loss=0.66902 (iters=260)\n",
      "eta=0.05292, max_depth=2 | valid_loss=0.67255 (iters=94)\n",
      "eta=0.05292, max_depth=3 | valid_loss=0.66334 (iters=93)\n",
      "eta=0.05292, max_depth=4 | valid_loss=0.67280 (iters=108)\n",
      "eta=0.05292, max_depth=5 | valid_loss=0.67013 (iters=73)\n",
      "eta=0.05292, max_depth=6 | valid_loss=0.67920 (iters=94)\n",
      "eta=0.05292, max_depth=7 | valid_loss=0.68544 (iters=53)\n",
      "eta=0.05292, max_depth=8 | valid_loss=0.69553 (iters=53)\n",
      "eta=0.05416, max_depth=1 | valid_loss=0.66863 (iters=244)\n",
      "eta=0.05416, max_depth=2 | valid_loss=0.67397 (iters=86)\n",
      "eta=0.05416, max_depth=3 | valid_loss=0.66448 (iters=76)\n",
      "eta=0.05416, max_depth=4 | valid_loss=0.67241 (iters=106)\n",
      "eta=0.05416, max_depth=5 | valid_loss=0.67115 (iters=73)\n",
      "eta=0.05416, max_depth=6 | valid_loss=0.67810 (iters=62)\n",
      "eta=0.05416, max_depth=7 | valid_loss=0.68389 (iters=56)\n",
      "eta=0.05416, max_depth=8 | valid_loss=0.68826 (iters=52)\n",
      "eta=0.05543, max_depth=1 | valid_loss=0.67166 (iters=191)\n",
      "eta=0.05543, max_depth=2 | valid_loss=0.67277 (iters=95)\n",
      "eta=0.05543, max_depth=3 | valid_loss=0.66600 (iters=71)\n",
      "eta=0.05543, max_depth=4 | valid_loss=0.67130 (iters=85)\n",
      "eta=0.05543, max_depth=5 | valid_loss=0.67287 (iters=56)\n",
      "eta=0.05543, max_depth=6 | valid_loss=0.67772 (iters=66)\n",
      "eta=0.05543, max_depth=7 | valid_loss=0.68302 (iters=53)\n",
      "eta=0.05543, max_depth=8 | valid_loss=0.68442 (iters=57)\n",
      "eta=0.05672, max_depth=1 | valid_loss=0.66889 (iters=225)\n",
      "eta=0.05672, max_depth=2 | valid_loss=0.66999 (iters=106)\n",
      "eta=0.05672, max_depth=3 | valid_loss=0.66398 (iters=83)\n",
      "eta=0.05672, max_depth=4 | valid_loss=0.67044 (iters=82)\n",
      "eta=0.05672, max_depth=5 | valid_loss=0.67059 (iters=82)\n",
      "eta=0.05672, max_depth=6 | valid_loss=0.67531 (iters=61)\n",
      "eta=0.05672, max_depth=7 | valid_loss=0.69237 (iters=41)\n",
      "eta=0.05672, max_depth=8 | valid_loss=0.69086 (iters=51)\n",
      "eta=0.05805, max_depth=1 | valid_loss=0.66849 (iters=214)\n",
      "eta=0.05805, max_depth=2 | valid_loss=0.67115 (iters=92)\n",
      "eta=0.05805, max_depth=3 | valid_loss=0.66860 (iters=75)\n",
      "eta=0.05805, max_depth=4 | valid_loss=0.67146 (iters=96)\n",
      "eta=0.05805, max_depth=5 | valid_loss=0.67794 (iters=66)\n",
      "eta=0.05805, max_depth=6 | valid_loss=0.67503 (iters=54)\n",
      "eta=0.05805, max_depth=7 | valid_loss=0.68983 (iters=50)\n",
      "eta=0.05805, max_depth=8 | valid_loss=0.69398 (iters=46)\n",
      "eta=0.05941, max_depth=1 | valid_loss=0.66921 (iters=222)\n",
      "eta=0.05941, max_depth=2 | valid_loss=0.67266 (iters=80)\n",
      "eta=0.05941, max_depth=3 | valid_loss=0.66000 (iters=113)\n",
      "eta=0.05941, max_depth=4 | valid_loss=0.67336 (iters=97)\n",
      "eta=0.05941, max_depth=5 | valid_loss=0.67564 (iters=65)\n",
      "eta=0.05941, max_depth=6 | valid_loss=0.68547 (iters=67)\n",
      "eta=0.05941, max_depth=7 | valid_loss=0.69126 (iters=49)\n",
      "eta=0.05941, max_depth=8 | valid_loss=0.69363 (iters=51)\n",
      "eta=0.06080, max_depth=1 | valid_loss=0.66861 (iters=221)\n",
      "eta=0.06080, max_depth=2 | valid_loss=0.67159 (iters=87)\n",
      "eta=0.06080, max_depth=3 | valid_loss=0.67291 (iters=58)\n",
      "eta=0.06080, max_depth=4 | valid_loss=0.67552 (iters=99)\n",
      "eta=0.06080, max_depth=5 | valid_loss=0.67129 (iters=96)\n",
      "eta=0.06080, max_depth=6 | valid_loss=0.67720 (iters=51)\n",
      "eta=0.06080, max_depth=7 | valid_loss=0.68581 (iters=54)\n",
      "eta=0.06080, max_depth=8 | valid_loss=0.69194 (iters=49)\n",
      "eta=0.06223, max_depth=1 | valid_loss=0.66781 (iters=214)\n",
      "eta=0.06223, max_depth=2 | valid_loss=0.67358 (iters=84)\n",
      "eta=0.06223, max_depth=3 | valid_loss=0.66109 (iters=85)\n",
      "eta=0.06223, max_depth=4 | valid_loss=0.67705 (iters=84)\n",
      "eta=0.06223, max_depth=5 | valid_loss=0.66445 (iters=78)\n",
      "eta=0.06223, max_depth=6 | valid_loss=0.67718 (iters=66)\n",
      "eta=0.06223, max_depth=7 | valid_loss=0.68356 (iters=49)\n",
      "eta=0.06223, max_depth=8 | valid_loss=0.69962 (iters=49)\n",
      "eta=0.06368, max_depth=1 | valid_loss=0.66846 (iters=204)\n",
      "eta=0.06368, max_depth=2 | valid_loss=0.66738 (iters=80)\n",
      "eta=0.06368, max_depth=3 | valid_loss=0.66385 (iters=112)\n",
      "eta=0.06368, max_depth=4 | valid_loss=0.68116 (iters=51)\n",
      "eta=0.06368, max_depth=5 | valid_loss=0.67030 (iters=67)\n",
      "eta=0.06368, max_depth=6 | valid_loss=0.68326 (iters=55)\n",
      "eta=0.06368, max_depth=7 | valid_loss=0.68829 (iters=46)\n",
      "eta=0.06368, max_depth=8 | valid_loss=0.69814 (iters=44)\n",
      "eta=0.06517, max_depth=1 | valid_loss=0.66736 (iters=203)\n",
      "eta=0.06517, max_depth=2 | valid_loss=0.67122 (iters=81)\n",
      "eta=0.06517, max_depth=3 | valid_loss=0.66792 (iters=58)\n",
      "eta=0.06517, max_depth=4 | valid_loss=0.66987 (iters=72)\n",
      "eta=0.06517, max_depth=5 | valid_loss=0.67893 (iters=66)\n",
      "eta=0.06517, max_depth=6 | valid_loss=0.68250 (iters=72)\n",
      "eta=0.06517, max_depth=7 | valid_loss=0.67702 (iters=65)\n",
      "eta=0.06517, max_depth=8 | valid_loss=0.68243 (iters=47)\n",
      "eta=0.06670, max_depth=1 | valid_loss=0.66755 (iters=209)\n",
      "eta=0.06670, max_depth=2 | valid_loss=0.67270 (iters=72)\n",
      "eta=0.06670, max_depth=3 | valid_loss=0.66822 (iters=73)\n",
      "eta=0.06670, max_depth=4 | valid_loss=0.67960 (iters=50)\n",
      "eta=0.06670, max_depth=5 | valid_loss=0.66511 (iters=98)\n",
      "eta=0.06670, max_depth=6 | valid_loss=0.67658 (iters=52)\n",
      "eta=0.06670, max_depth=7 | valid_loss=0.68142 (iters=51)\n",
      "eta=0.06670, max_depth=8 | valid_loss=0.68586 (iters=39)\n",
      "eta=0.06826, max_depth=1 | valid_loss=0.66729 (iters=196)\n",
      "eta=0.06826, max_depth=2 | valid_loss=0.67054 (iters=80)\n",
      "eta=0.06826, max_depth=3 | valid_loss=0.66844 (iters=67)\n",
      "eta=0.06826, max_depth=4 | valid_loss=0.67605 (iters=78)\n",
      "eta=0.06826, max_depth=5 | valid_loss=0.67213 (iters=52)\n",
      "eta=0.06826, max_depth=6 | valid_loss=0.67715 (iters=56)\n",
      "eta=0.06826, max_depth=7 | valid_loss=0.67647 (iters=48)\n",
      "eta=0.06826, max_depth=8 | valid_loss=0.69549 (iters=39)\n",
      "eta=0.06986, max_depth=1 | valid_loss=0.66910 (iters=162)\n",
      "eta=0.06986, max_depth=2 | valid_loss=0.67178 (iters=111)\n",
      "eta=0.06986, max_depth=3 | valid_loss=0.66692 (iters=53)\n",
      "eta=0.06986, max_depth=4 | valid_loss=0.67514 (iters=73)\n",
      "eta=0.06986, max_depth=5 | valid_loss=0.67083 (iters=53)\n",
      "eta=0.06986, max_depth=6 | valid_loss=0.67801 (iters=52)\n",
      "eta=0.06986, max_depth=7 | valid_loss=0.67443 (iters=43)\n",
      "eta=0.06986, max_depth=8 | valid_loss=0.68014 (iters=41)\n",
      "eta=0.07149, max_depth=1 | valid_loss=0.66891 (iters=189)\n",
      "eta=0.07149, max_depth=2 | valid_loss=0.66988 (iters=69)\n",
      "eta=0.07149, max_depth=3 | valid_loss=0.66519 (iters=71)\n",
      "eta=0.07149, max_depth=4 | valid_loss=0.67034 (iters=77)\n",
      "eta=0.07149, max_depth=5 | valid_loss=0.65958 (iters=56)\n",
      "eta=0.07149, max_depth=6 | valid_loss=0.67600 (iters=54)\n",
      "eta=0.07149, max_depth=7 | valid_loss=0.67741 (iters=54)\n",
      "eta=0.07149, max_depth=8 | valid_loss=0.68600 (iters=43)\n",
      "eta=0.07317, max_depth=1 | valid_loss=0.66751 (iters=189)\n",
      "eta=0.07317, max_depth=2 | valid_loss=0.67070 (iters=66)\n",
      "eta=0.07317, max_depth=3 | valid_loss=0.66791 (iters=57)\n",
      "eta=0.07317, max_depth=4 | valid_loss=0.66976 (iters=65)\n",
      "eta=0.07317, max_depth=5 | valid_loss=0.66965 (iters=55)\n",
      "eta=0.07317, max_depth=6 | valid_loss=0.67391 (iters=64)\n",
      "eta=0.07317, max_depth=7 | valid_loss=0.67102 (iters=40)\n",
      "eta=0.07317, max_depth=8 | valid_loss=0.68501 (iters=46)\n",
      "eta=0.07488, max_depth=1 | valid_loss=0.66951 (iters=162)\n",
      "eta=0.07488, max_depth=2 | valid_loss=0.67002 (iters=87)\n",
      "eta=0.07488, max_depth=3 | valid_loss=0.66684 (iters=81)\n",
      "eta=0.07488, max_depth=4 | valid_loss=0.68076 (iters=45)\n",
      "eta=0.07488, max_depth=5 | valid_loss=0.67148 (iters=64)\n",
      "eta=0.07488, max_depth=6 | valid_loss=0.67700 (iters=40)\n",
      "eta=0.07488, max_depth=7 | valid_loss=0.69022 (iters=28)\n",
      "eta=0.07488, max_depth=8 | valid_loss=0.69074 (iters=45)\n",
      "eta=0.07663, max_depth=1 | valid_loss=0.66906 (iters=178)\n",
      "eta=0.07663, max_depth=2 | valid_loss=0.67306 (iters=62)\n",
      "eta=0.07663, max_depth=3 | valid_loss=0.66621 (iters=57)\n",
      "eta=0.07663, max_depth=4 | valid_loss=0.66676 (iters=80)\n",
      "eta=0.07663, max_depth=5 | valid_loss=0.67171 (iters=55)\n",
      "eta=0.07663, max_depth=6 | valid_loss=0.68222 (iters=40)\n",
      "eta=0.07663, max_depth=7 | valid_loss=0.67888 (iters=31)\n",
      "eta=0.07663, max_depth=8 | valid_loss=0.69134 (iters=43)\n",
      "eta=0.07843, max_depth=1 | valid_loss=0.66974 (iters=167)\n",
      "eta=0.07843, max_depth=2 | valid_loss=0.66966 (iters=59)\n",
      "eta=0.07843, max_depth=3 | valid_loss=0.66082 (iters=70)\n"
     ]
    },
    {
     "name": "stdout",
     "output_type": "stream",
     "text": [
      "eta=0.07843, max_depth=4 | valid_loss=0.67431 (iters=52)\n",
      "eta=0.07843, max_depth=5 | valid_loss=0.66641 (iters=55)\n",
      "eta=0.07843, max_depth=6 | valid_loss=0.67959 (iters=70)\n",
      "eta=0.07843, max_depth=7 | valid_loss=0.69710 (iters=30)\n",
      "eta=0.07843, max_depth=8 | valid_loss=0.69168 (iters=35)\n",
      "eta=0.08026, max_depth=1 | valid_loss=0.66959 (iters=160)\n",
      "eta=0.08026, max_depth=2 | valid_loss=0.67411 (iters=58)\n",
      "eta=0.08026, max_depth=3 | valid_loss=0.66876 (iters=71)\n",
      "eta=0.08026, max_depth=4 | valid_loss=0.67514 (iters=61)\n",
      "eta=0.08026, max_depth=5 | valid_loss=0.67698 (iters=47)\n",
      "eta=0.08026, max_depth=6 | valid_loss=0.67037 (iters=46)\n",
      "eta=0.08026, max_depth=7 | valid_loss=0.68892 (iters=39)\n",
      "eta=0.08026, max_depth=8 | valid_loss=0.69415 (iters=41)\n",
      "eta=0.08214, max_depth=1 | valid_loss=0.66681 (iters=149)\n",
      "eta=0.08214, max_depth=2 | valid_loss=0.66724 (iters=54)\n",
      "eta=0.08214, max_depth=3 | valid_loss=0.66818 (iters=64)\n",
      "eta=0.08214, max_depth=4 | valid_loss=0.66639 (iters=46)\n",
      "eta=0.08214, max_depth=5 | valid_loss=0.66661 (iters=41)\n",
      "eta=0.08214, max_depth=6 | valid_loss=0.68431 (iters=54)\n",
      "eta=0.08214, max_depth=7 | valid_loss=0.69126 (iters=30)\n",
      "eta=0.08214, max_depth=8 | valid_loss=0.69439 (iters=33)\n",
      "eta=0.08407, max_depth=1 | valid_loss=0.66861 (iters=167)\n",
      "eta=0.08407, max_depth=2 | valid_loss=0.66733 (iters=56)\n",
      "eta=0.08407, max_depth=3 | valid_loss=0.66500 (iters=62)\n",
      "eta=0.08407, max_depth=4 | valid_loss=0.66880 (iters=72)\n",
      "eta=0.08407, max_depth=5 | valid_loss=0.67238 (iters=50)\n",
      "eta=0.08407, max_depth=6 | valid_loss=0.68713 (iters=53)\n",
      "eta=0.08407, max_depth=7 | valid_loss=0.70385 (iters=25)\n",
      "eta=0.08407, max_depth=8 | valid_loss=0.70104 (iters=33)\n",
      "eta=0.08603, max_depth=1 | valid_loss=0.66936 (iters=162)\n",
      "eta=0.08603, max_depth=2 | valid_loss=0.67317 (iters=58)\n",
      "eta=0.08603, max_depth=3 | valid_loss=0.66652 (iters=54)\n",
      "eta=0.08603, max_depth=4 | valid_loss=0.66197 (iters=51)\n",
      "eta=0.08603, max_depth=5 | valid_loss=0.66268 (iters=43)\n",
      "eta=0.08603, max_depth=6 | valid_loss=0.68220 (iters=46)\n",
      "eta=0.08603, max_depth=7 | valid_loss=0.68312 (iters=34)\n",
      "eta=0.08603, max_depth=8 | valid_loss=0.69904 (iters=37)\n",
      "eta=0.08805, max_depth=1 | valid_loss=0.66779 (iters=159)\n",
      "eta=0.08805, max_depth=2 | valid_loss=0.67206 (iters=54)\n",
      "eta=0.08805, max_depth=3 | valid_loss=0.66860 (iters=41)\n",
      "eta=0.08805, max_depth=4 | valid_loss=0.67588 (iters=48)\n",
      "eta=0.08805, max_depth=5 | valid_loss=0.67057 (iters=40)\n",
      "eta=0.08805, max_depth=6 | valid_loss=0.68053 (iters=42)\n",
      "eta=0.08805, max_depth=7 | valid_loss=0.67503 (iters=45)\n",
      "eta=0.08805, max_depth=8 | valid_loss=0.69908 (iters=29)\n",
      "eta=0.09011, max_depth=1 | valid_loss=0.66924 (iters=143)\n",
      "eta=0.09011, max_depth=2 | valid_loss=0.66841 (iters=83)\n",
      "eta=0.09011, max_depth=3 | valid_loss=0.66071 (iters=70)\n",
      "eta=0.09011, max_depth=4 | valid_loss=0.67538 (iters=54)\n",
      "eta=0.09011, max_depth=5 | valid_loss=0.66673 (iters=37)\n",
      "eta=0.09011, max_depth=6 | valid_loss=0.68734 (iters=47)\n",
      "eta=0.09011, max_depth=7 | valid_loss=0.68196 (iters=34)\n",
      "eta=0.09011, max_depth=8 | valid_loss=0.70910 (iters=31)\n",
      "eta=0.09222, max_depth=1 | valid_loss=0.66922 (iters=150)\n",
      "eta=0.09222, max_depth=2 | valid_loss=0.67183 (iters=60)\n",
      "eta=0.09222, max_depth=3 | valid_loss=0.66495 (iters=44)\n",
      "eta=0.09222, max_depth=4 | valid_loss=0.66399 (iters=59)\n",
      "eta=0.09222, max_depth=5 | valid_loss=0.66997 (iters=47)\n",
      "eta=0.09222, max_depth=6 | valid_loss=0.67666 (iters=36)\n",
      "eta=0.09222, max_depth=7 | valid_loss=0.68854 (iters=23)\n",
      "eta=0.09222, max_depth=8 | valid_loss=0.70927 (iters=30)\n",
      "eta=0.09438, max_depth=1 | valid_loss=0.66753 (iters=141)\n",
      "eta=0.09438, max_depth=2 | valid_loss=0.67297 (iters=51)\n",
      "eta=0.09438, max_depth=3 | valid_loss=0.66086 (iters=58)\n",
      "eta=0.09438, max_depth=4 | valid_loss=0.67073 (iters=54)\n",
      "eta=0.09438, max_depth=5 | valid_loss=0.67107 (iters=47)\n",
      "eta=0.09438, max_depth=6 | valid_loss=0.68059 (iters=39)\n",
      "eta=0.09438, max_depth=7 | valid_loss=0.69672 (iters=32)\n",
      "eta=0.09438, max_depth=8 | valid_loss=0.71185 (iters=25)\n",
      "eta=0.09659, max_depth=1 | valid_loss=0.66710 (iters=140)\n",
      "eta=0.09659, max_depth=2 | valid_loss=0.67622 (iters=54)\n",
      "eta=0.09659, max_depth=3 | valid_loss=0.65545 (iters=55)\n",
      "eta=0.09659, max_depth=4 | valid_loss=0.66197 (iters=50)\n",
      "eta=0.09659, max_depth=5 | valid_loss=0.67462 (iters=42)\n",
      "eta=0.09659, max_depth=6 | valid_loss=0.68006 (iters=31)\n",
      "eta=0.09659, max_depth=7 | valid_loss=0.69194 (iters=34)\n",
      "eta=0.09659, max_depth=8 | valid_loss=0.70559 (iters=23)\n",
      "eta=0.09885, max_depth=1 | valid_loss=0.66797 (iters=135)\n",
      "eta=0.09885, max_depth=2 | valid_loss=0.67175 (iters=49)\n",
      "eta=0.09885, max_depth=3 | valid_loss=0.65675 (iters=57)\n",
      "eta=0.09885, max_depth=4 | valid_loss=0.65191 (iters=35)\n",
      "eta=0.09885, max_depth=5 | valid_loss=0.67322 (iters=45)\n",
      "eta=0.09885, max_depth=6 | valid_loss=0.68435 (iters=36)\n",
      "eta=0.09885, max_depth=7 | valid_loss=0.67653 (iters=34)\n",
      "eta=0.09885, max_depth=8 | valid_loss=0.72097 (iters=25)\n",
      "eta=0.10116, max_depth=1 | valid_loss=0.66861 (iters=142)\n",
      "eta=0.10116, max_depth=2 | valid_loss=0.67230 (iters=78)\n",
      "eta=0.10116, max_depth=3 | valid_loss=0.66182 (iters=41)\n",
      "eta=0.10116, max_depth=4 | valid_loss=0.66909 (iters=38)\n",
      "eta=0.10116, max_depth=5 | valid_loss=0.66053 (iters=34)\n",
      "eta=0.10116, max_depth=6 | valid_loss=0.68576 (iters=35)\n",
      "eta=0.10116, max_depth=7 | valid_loss=0.68086 (iters=38)\n",
      "eta=0.10116, max_depth=8 | valid_loss=0.69671 (iters=28)\n",
      "eta=0.10353, max_depth=1 | valid_loss=0.66623 (iters=131)\n",
      "eta=0.10353, max_depth=2 | valid_loss=0.67125 (iters=64)\n",
      "eta=0.10353, max_depth=3 | valid_loss=0.66410 (iters=37)\n",
      "eta=0.10353, max_depth=4 | valid_loss=0.66134 (iters=46)\n",
      "eta=0.10353, max_depth=5 | valid_loss=0.66859 (iters=47)\n",
      "eta=0.10353, max_depth=6 | valid_loss=0.68171 (iters=35)\n",
      "eta=0.10353, max_depth=7 | valid_loss=0.66962 (iters=30)\n",
      "eta=0.10353, max_depth=8 | valid_loss=0.71290 (iters=20)\n",
      "eta=0.10596, max_depth=1 | valid_loss=0.66717 (iters=125)\n",
      "eta=0.10596, max_depth=2 | valid_loss=0.66892 (iters=52)\n",
      "eta=0.10596, max_depth=3 | valid_loss=0.66269 (iters=39)\n",
      "eta=0.10596, max_depth=4 | valid_loss=0.66662 (iters=44)\n",
      "eta=0.10596, max_depth=5 | valid_loss=0.66865 (iters=35)\n",
      "eta=0.10596, max_depth=6 | valid_loss=0.67262 (iters=32)\n",
      "eta=0.10596, max_depth=7 | valid_loss=0.68715 (iters=22)\n",
      "eta=0.10596, max_depth=8 | valid_loss=0.70434 (iters=23)\n",
      "eta=0.10844, max_depth=1 | valid_loss=0.66838 (iters=122)\n",
      "eta=0.10844, max_depth=2 | valid_loss=0.67418 (iters=49)\n",
      "eta=0.10844, max_depth=3 | valid_loss=0.66189 (iters=40)\n",
      "eta=0.10844, max_depth=4 | valid_loss=0.66369 (iters=75)\n",
      "eta=0.10844, max_depth=5 | valid_loss=0.66623 (iters=32)\n",
      "eta=0.10844, max_depth=6 | valid_loss=0.67219 (iters=42)\n",
      "eta=0.10844, max_depth=7 | valid_loss=0.67862 (iters=34)\n",
      "eta=0.10844, max_depth=8 | valid_loss=0.70760 (iters=19)\n",
      "eta=0.11098, max_depth=1 | valid_loss=0.66790 (iters=101)\n",
      "eta=0.11098, max_depth=2 | valid_loss=0.67243 (iters=43)\n",
      "eta=0.11098, max_depth=3 | valid_loss=0.67052 (iters=31)\n",
      "eta=0.11098, max_depth=4 | valid_loss=0.67527 (iters=44)\n",
      "eta=0.11098, max_depth=5 | valid_loss=0.67336 (iters=36)\n",
      "eta=0.11098, max_depth=6 | valid_loss=0.68068 (iters=33)\n",
      "eta=0.11098, max_depth=7 | valid_loss=0.68418 (iters=24)\n",
      "eta=0.11098, max_depth=8 | valid_loss=0.69706 (iters=29)\n",
      "eta=0.11357, max_depth=1 | valid_loss=0.66765 (iters=96)\n",
      "eta=0.11357, max_depth=2 | valid_loss=0.67197 (iters=39)\n",
      "eta=0.11357, max_depth=3 | valid_loss=0.67045 (iters=41)\n",
      "eta=0.11357, max_depth=4 | valid_loss=0.67503 (iters=43)\n",
      "eta=0.11357, max_depth=5 | valid_loss=0.67476 (iters=33)\n",
      "eta=0.11357, max_depth=6 | valid_loss=0.67464 (iters=60)\n",
      "eta=0.11357, max_depth=7 | valid_loss=0.66755 (iters=30)\n",
      "eta=0.11357, max_depth=8 | valid_loss=0.70798 (iters=25)\n",
      "eta=0.11623, max_depth=1 | valid_loss=0.66796 (iters=97)\n",
      "eta=0.11623, max_depth=2 | valid_loss=0.67470 (iters=31)\n",
      "eta=0.11623, max_depth=3 | valid_loss=0.66431 (iters=49)\n",
      "eta=0.11623, max_depth=4 | valid_loss=0.68380 (iters=26)\n",
      "eta=0.11623, max_depth=5 | valid_loss=0.67973 (iters=28)\n",
      "eta=0.11623, max_depth=6 | valid_loss=0.66629 (iters=29)\n",
      "eta=0.11623, max_depth=7 | valid_loss=0.67666 (iters=20)\n",
      "eta=0.11623, max_depth=8 | valid_loss=0.70481 (iters=19)\n",
      "eta=0.11895, max_depth=1 | valid_loss=0.66760 (iters=100)\n",
      "eta=0.11895, max_depth=2 | valid_loss=0.67361 (iters=33)\n",
      "eta=0.11895, max_depth=3 | valid_loss=0.67615 (iters=33)\n",
      "eta=0.11895, max_depth=4 | valid_loss=0.67231 (iters=42)\n"
     ]
    },
    {
     "name": "stdout",
     "output_type": "stream",
     "text": [
      "eta=0.11895, max_depth=5 | valid_loss=0.68134 (iters=44)\n",
      "eta=0.11895, max_depth=6 | valid_loss=0.67248 (iters=35)\n",
      "eta=0.11895, max_depth=7 | valid_loss=0.69134 (iters=19)\n",
      "eta=0.11895, max_depth=8 | valid_loss=0.69377 (iters=28)\n",
      "eta=0.12174, max_depth=1 | valid_loss=0.66996 (iters=107)\n",
      "eta=0.12174, max_depth=2 | valid_loss=0.66953 (iters=50)\n",
      "eta=0.12174, max_depth=3 | valid_loss=0.67247 (iters=48)\n",
      "eta=0.12174, max_depth=4 | valid_loss=0.67896 (iters=27)\n",
      "eta=0.12174, max_depth=5 | valid_loss=0.67432 (iters=32)\n",
      "eta=0.12174, max_depth=6 | valid_loss=0.68398 (iters=31)\n",
      "eta=0.12174, max_depth=7 | valid_loss=0.69258 (iters=29)\n",
      "eta=0.12174, max_depth=8 | valid_loss=0.69929 (iters=21)\n",
      "eta=0.12459, max_depth=1 | valid_loss=0.66847 (iters=93)\n",
      "eta=0.12459, max_depth=2 | valid_loss=0.66694 (iters=63)\n",
      "eta=0.12459, max_depth=3 | valid_loss=0.67608 (iters=37)\n",
      "eta=0.12459, max_depth=4 | valid_loss=0.66569 (iters=42)\n",
      "eta=0.12459, max_depth=5 | valid_loss=0.66683 (iters=26)\n",
      "eta=0.12459, max_depth=6 | valid_loss=0.68082 (iters=30)\n",
      "eta=0.12459, max_depth=7 | valid_loss=0.68499 (iters=24)\n",
      "eta=0.12459, max_depth=8 | valid_loss=0.70404 (iters=24)\n",
      "eta=0.12751, max_depth=1 | valid_loss=0.66720 (iters=95)\n",
      "eta=0.12751, max_depth=2 | valid_loss=0.67167 (iters=29)\n",
      "eta=0.12751, max_depth=3 | valid_loss=0.67220 (iters=27)\n",
      "eta=0.12751, max_depth=4 | valid_loss=0.67028 (iters=21)\n",
      "eta=0.12751, max_depth=5 | valid_loss=0.67120 (iters=23)\n",
      "eta=0.12751, max_depth=6 | valid_loss=0.68059 (iters=50)\n",
      "eta=0.12751, max_depth=7 | valid_loss=0.68894 (iters=24)\n",
      "eta=0.12751, max_depth=8 | valid_loss=0.71609 (iters=16)\n",
      "eta=0.13049, max_depth=1 | valid_loss=0.66727 (iters=100)\n",
      "eta=0.13049, max_depth=2 | valid_loss=0.66926 (iters=34)\n",
      "eta=0.13049, max_depth=3 | valid_loss=0.67792 (iters=43)\n",
      "eta=0.13049, max_depth=4 | valid_loss=0.67763 (iters=36)\n",
      "eta=0.13049, max_depth=5 | valid_loss=0.67043 (iters=22)\n",
      "eta=0.13049, max_depth=6 | valid_loss=0.68618 (iters=18)\n",
      "eta=0.13049, max_depth=7 | valid_loss=0.67833 (iters=23)\n",
      "eta=0.13049, max_depth=8 | valid_loss=0.71148 (iters=16)\n",
      "eta=0.13355, max_depth=1 | valid_loss=0.66774 (iters=106)\n",
      "eta=0.13355, max_depth=2 | valid_loss=0.67160 (iters=54)\n",
      "eta=0.13355, max_depth=3 | valid_loss=0.66858 (iters=41)\n",
      "eta=0.13355, max_depth=4 | valid_loss=0.68142 (iters=32)\n",
      "eta=0.13355, max_depth=5 | valid_loss=0.67248 (iters=25)\n",
      "eta=0.13355, max_depth=6 | valid_loss=0.67774 (iters=25)\n",
      "eta=0.13355, max_depth=7 | valid_loss=0.68101 (iters=26)\n",
      "eta=0.13355, max_depth=8 | valid_loss=0.70158 (iters=21)\n",
      "eta=0.13667, max_depth=1 | valid_loss=0.66583 (iters=103)\n",
      "eta=0.13667, max_depth=2 | valid_loss=0.67267 (iters=36)\n",
      "eta=0.13667, max_depth=3 | valid_loss=0.66305 (iters=46)\n",
      "eta=0.13667, max_depth=4 | valid_loss=0.68031 (iters=24)\n",
      "eta=0.13667, max_depth=5 | valid_loss=0.67745 (iters=20)\n",
      "eta=0.13667, max_depth=6 | valid_loss=0.67789 (iters=24)\n",
      "eta=0.13667, max_depth=7 | valid_loss=0.68104 (iters=25)\n",
      "eta=0.13667, max_depth=8 | valid_loss=0.69613 (iters=20)\n",
      "eta=0.13987, max_depth=1 | valid_loss=0.66610 (iters=89)\n",
      "eta=0.13987, max_depth=2 | valid_loss=0.66986 (iters=46)\n",
      "eta=0.13987, max_depth=3 | valid_loss=0.66779 (iters=35)\n",
      "eta=0.13987, max_depth=4 | valid_loss=0.67863 (iters=30)\n",
      "eta=0.13987, max_depth=5 | valid_loss=0.67793 (iters=25)\n",
      "eta=0.13987, max_depth=6 | valid_loss=0.68084 (iters=31)\n",
      "eta=0.13987, max_depth=7 | valid_loss=0.68644 (iters=21)\n",
      "eta=0.13987, max_depth=8 | valid_loss=0.70169 (iters=16)\n",
      "eta=0.14315, max_depth=1 | valid_loss=0.66577 (iters=100)\n",
      "eta=0.14315, max_depth=2 | valid_loss=0.67237 (iters=50)\n",
      "eta=0.14315, max_depth=3 | valid_loss=0.66242 (iters=26)\n",
      "eta=0.14315, max_depth=4 | valid_loss=0.68089 (iters=33)\n",
      "eta=0.14315, max_depth=5 | valid_loss=0.66474 (iters=30)\n",
      "eta=0.14315, max_depth=6 | valid_loss=0.68364 (iters=21)\n",
      "eta=0.14315, max_depth=7 | valid_loss=0.68026 (iters=24)\n",
      "eta=0.14315, max_depth=8 | valid_loss=0.71565 (iters=20)\n",
      "eta=0.14650, max_depth=1 | valid_loss=0.66685 (iters=96)\n",
      "eta=0.14650, max_depth=2 | valid_loss=0.67199 (iters=32)\n",
      "eta=0.14650, max_depth=3 | valid_loss=0.65999 (iters=35)\n",
      "eta=0.14650, max_depth=4 | valid_loss=0.68107 (iters=31)\n",
      "eta=0.14650, max_depth=5 | valid_loss=0.66605 (iters=19)\n",
      "eta=0.14650, max_depth=6 | valid_loss=0.68309 (iters=23)\n",
      "eta=0.14650, max_depth=7 | valid_loss=0.69020 (iters=19)\n",
      "eta=0.14650, max_depth=8 | valid_loss=0.70796 (iters=24)\n",
      "eta=0.14993, max_depth=1 | valid_loss=0.66671 (iters=99)\n",
      "eta=0.14993, max_depth=2 | valid_loss=0.67052 (iters=27)\n",
      "eta=0.14993, max_depth=3 | valid_loss=0.67229 (iters=32)\n",
      "eta=0.14993, max_depth=4 | valid_loss=0.66556 (iters=33)\n",
      "eta=0.14993, max_depth=5 | valid_loss=0.67350 (iters=30)\n",
      "eta=0.14993, max_depth=6 | valid_loss=0.68152 (iters=18)\n",
      "eta=0.14993, max_depth=7 | valid_loss=0.68346 (iters=15)\n",
      "eta=0.14993, max_depth=8 | valid_loss=0.70540 (iters=14)\n",
      "eta=0.15344, max_depth=1 | valid_loss=0.67149 (iters=90)\n",
      "eta=0.15344, max_depth=2 | valid_loss=0.67076 (iters=28)\n",
      "eta=0.15344, max_depth=3 | valid_loss=0.66005 (iters=51)\n",
      "eta=0.15344, max_depth=4 | valid_loss=0.67006 (iters=36)\n",
      "eta=0.15344, max_depth=5 | valid_loss=0.67046 (iters=24)\n",
      "eta=0.15344, max_depth=6 | valid_loss=0.69931 (iters=18)\n",
      "eta=0.15344, max_depth=7 | valid_loss=0.68473 (iters=21)\n",
      "eta=0.15344, max_depth=8 | valid_loss=0.70552 (iters=15)\n",
      "eta=0.15703, max_depth=1 | valid_loss=0.67276 (iters=79)\n",
      "eta=0.15703, max_depth=2 | valid_loss=0.67311 (iters=27)\n",
      "eta=0.15703, max_depth=3 | valid_loss=0.66484 (iters=37)\n",
      "eta=0.15703, max_depth=4 | valid_loss=0.67725 (iters=18)\n",
      "eta=0.15703, max_depth=5 | valid_loss=0.67234 (iters=26)\n",
      "eta=0.15703, max_depth=6 | valid_loss=0.69747 (iters=32)\n",
      "eta=0.15703, max_depth=7 | valid_loss=0.69076 (iters=18)\n",
      "eta=0.15703, max_depth=8 | valid_loss=0.70052 (iters=23)\n",
      "eta=0.16071, max_depth=1 | valid_loss=0.66344 (iters=75)\n",
      "eta=0.16071, max_depth=2 | valid_loss=0.67373 (iters=28)\n",
      "eta=0.16071, max_depth=3 | valid_loss=0.65938 (iters=37)\n",
      "eta=0.16071, max_depth=4 | valid_loss=0.67927 (iters=20)\n",
      "eta=0.16071, max_depth=5 | valid_loss=0.67083 (iters=36)\n",
      "eta=0.16071, max_depth=6 | valid_loss=0.69517 (iters=29)\n",
      "eta=0.16071, max_depth=7 | valid_loss=0.68674 (iters=19)\n",
      "eta=0.16071, max_depth=8 | valid_loss=0.70783 (iters=14)\n",
      "eta=0.16447, max_depth=1 | valid_loss=0.66215 (iters=89)\n",
      "eta=0.16447, max_depth=2 | valid_loss=0.67573 (iters=29)\n",
      "eta=0.16447, max_depth=3 | valid_loss=0.68211 (iters=30)\n",
      "eta=0.16447, max_depth=4 | valid_loss=0.68404 (iters=35)\n",
      "eta=0.16447, max_depth=5 | valid_loss=0.68785 (iters=23)\n",
      "eta=0.16447, max_depth=6 | valid_loss=0.68955 (iters=32)\n",
      "eta=0.16447, max_depth=7 | valid_loss=0.69815 (iters=31)\n",
      "eta=0.16447, max_depth=8 | valid_loss=0.71521 (iters=14)\n",
      "eta=0.16832, max_depth=1 | valid_loss=0.66613 (iters=81)\n",
      "eta=0.16832, max_depth=2 | valid_loss=0.67924 (iters=43)\n",
      "eta=0.16832, max_depth=3 | valid_loss=0.67397 (iters=31)\n",
      "eta=0.16832, max_depth=4 | valid_loss=0.67649 (iters=30)\n",
      "eta=0.16832, max_depth=5 | valid_loss=0.66979 (iters=18)\n",
      "eta=0.16832, max_depth=6 | valid_loss=0.69092 (iters=39)\n",
      "eta=0.16832, max_depth=7 | valid_loss=0.69937 (iters=14)\n",
      "eta=0.16832, max_depth=8 | valid_loss=0.71435 (iters=17)\n",
      "eta=0.17226, max_depth=1 | valid_loss=0.66652 (iters=74)\n",
      "eta=0.17226, max_depth=2 | valid_loss=0.67637 (iters=42)\n",
      "eta=0.17226, max_depth=3 | valid_loss=0.67264 (iters=26)\n",
      "eta=0.17226, max_depth=4 | valid_loss=0.68020 (iters=24)\n",
      "eta=0.17226, max_depth=5 | valid_loss=0.68070 (iters=26)\n",
      "eta=0.17226, max_depth=6 | valid_loss=0.68630 (iters=19)\n",
      "eta=0.17226, max_depth=7 | valid_loss=0.69784 (iters=12)\n",
      "eta=0.17226, max_depth=8 | valid_loss=0.70602 (iters=11)\n",
      "eta=0.17629, max_depth=1 | valid_loss=0.66414 (iters=77)\n",
      "eta=0.17629, max_depth=2 | valid_loss=0.67288 (iters=34)\n",
      "eta=0.17629, max_depth=3 | valid_loss=0.67057 (iters=39)\n",
      "eta=0.17629, max_depth=4 | valid_loss=0.67748 (iters=15)\n",
      "eta=0.17629, max_depth=5 | valid_loss=0.67397 (iters=19)\n",
      "eta=0.17629, max_depth=6 | valid_loss=0.69449 (iters=16)\n",
      "eta=0.17629, max_depth=7 | valid_loss=0.69851 (iters=15)\n",
      "eta=0.17629, max_depth=8 | valid_loss=0.70752 (iters=17)\n",
      "eta=0.18042, max_depth=1 | valid_loss=0.66294 (iters=70)\n",
      "eta=0.18042, max_depth=2 | valid_loss=0.67184 (iters=22)\n",
      "eta=0.18042, max_depth=3 | valid_loss=0.67436 (iters=34)\n",
      "eta=0.18042, max_depth=4 | valid_loss=0.68134 (iters=17)\n",
      "eta=0.18042, max_depth=5 | valid_loss=0.66402 (iters=21)\n",
      "eta=0.18042, max_depth=6 | valid_loss=0.68177 (iters=19)\n"
     ]
    },
    {
     "name": "stdout",
     "output_type": "stream",
     "text": [
      "eta=0.18042, max_depth=7 | valid_loss=0.69585 (iters=18)\n",
      "eta=0.18042, max_depth=8 | valid_loss=0.69849 (iters=11)\n",
      "eta=0.18464, max_depth=1 | valid_loss=0.66247 (iters=80)\n",
      "eta=0.18464, max_depth=2 | valid_loss=0.67220 (iters=31)\n",
      "eta=0.18464, max_depth=3 | valid_loss=0.68065 (iters=32)\n",
      "eta=0.18464, max_depth=4 | valid_loss=0.67063 (iters=19)\n",
      "eta=0.18464, max_depth=5 | valid_loss=0.67671 (iters=14)\n",
      "eta=0.18464, max_depth=6 | valid_loss=0.68285 (iters=15)\n",
      "eta=0.18464, max_depth=7 | valid_loss=0.69656 (iters=12)\n",
      "eta=0.18464, max_depth=8 | valid_loss=0.69932 (iters=14)\n",
      "eta=0.18897, max_depth=1 | valid_loss=0.66372 (iters=71)\n",
      "eta=0.18897, max_depth=2 | valid_loss=0.67267 (iters=27)\n",
      "eta=0.18897, max_depth=3 | valid_loss=0.67100 (iters=28)\n",
      "eta=0.18897, max_depth=4 | valid_loss=0.67161 (iters=27)\n",
      "eta=0.18897, max_depth=5 | valid_loss=0.67650 (iters=17)\n",
      "eta=0.18897, max_depth=6 | valid_loss=0.69443 (iters=28)\n",
      "eta=0.18897, max_depth=7 | valid_loss=0.71232 (iters=11)\n",
      "eta=0.18897, max_depth=8 | valid_loss=0.69561 (iters=11)\n",
      "eta=0.19339, max_depth=1 | valid_loss=0.66263 (iters=72)\n",
      "eta=0.19339, max_depth=2 | valid_loss=0.67471 (iters=24)\n",
      "eta=0.19339, max_depth=3 | valid_loss=0.68592 (iters=19)\n",
      "eta=0.19339, max_depth=4 | valid_loss=0.66442 (iters=22)\n",
      "eta=0.19339, max_depth=5 | valid_loss=0.67236 (iters=15)\n",
      "eta=0.19339, max_depth=6 | valid_loss=0.68744 (iters=15)\n",
      "eta=0.19339, max_depth=7 | valid_loss=0.69267 (iters=13)\n",
      "eta=0.19339, max_depth=8 | valid_loss=0.71175 (iters=10)\n",
      "eta=0.19792, max_depth=1 | valid_loss=0.66192 (iters=65)\n",
      "eta=0.19792, max_depth=2 | valid_loss=0.67355 (iters=19)\n",
      "eta=0.19792, max_depth=3 | valid_loss=0.67299 (iters=29)\n",
      "eta=0.19792, max_depth=4 | valid_loss=0.66275 (iters=32)\n",
      "eta=0.19792, max_depth=5 | valid_loss=0.66714 (iters=13)\n",
      "eta=0.19792, max_depth=6 | valid_loss=0.69342 (iters=13)\n",
      "eta=0.19792, max_depth=7 | valid_loss=0.69426 (iters=9)\n",
      "eta=0.19792, max_depth=8 | valid_loss=0.71681 (iters=10)\n",
      "eta=0.20255, max_depth=1 | valid_loss=0.65850 (iters=66)\n",
      "eta=0.20255, max_depth=2 | valid_loss=0.67385 (iters=19)\n",
      "eta=0.20255, max_depth=3 | valid_loss=0.66916 (iters=33)\n",
      "eta=0.20255, max_depth=4 | valid_loss=0.67062 (iters=27)\n",
      "eta=0.20255, max_depth=5 | valid_loss=0.66252 (iters=19)\n",
      "eta=0.20255, max_depth=6 | valid_loss=0.68403 (iters=17)\n",
      "eta=0.20255, max_depth=7 | valid_loss=0.68639 (iters=15)\n",
      "eta=0.20255, max_depth=8 | valid_loss=0.71333 (iters=13)\n",
      "eta=0.20729, max_depth=1 | valid_loss=0.65924 (iters=52)\n",
      "eta=0.20729, max_depth=2 | valid_loss=0.67355 (iters=24)\n",
      "eta=0.20729, max_depth=3 | valid_loss=0.66297 (iters=35)\n",
      "eta=0.20729, max_depth=4 | valid_loss=0.67832 (iters=13)\n",
      "eta=0.20729, max_depth=5 | valid_loss=0.67623 (iters=17)\n",
      "eta=0.20729, max_depth=6 | valid_loss=0.69107 (iters=16)\n",
      "eta=0.20729, max_depth=7 | valid_loss=0.69316 (iters=16)\n",
      "eta=0.20729, max_depth=8 | valid_loss=0.71369 (iters=9)\n",
      "eta=0.21215, max_depth=1 | valid_loss=0.66219 (iters=54)\n",
      "eta=0.21215, max_depth=2 | valid_loss=0.67837 (iters=18)\n",
      "eta=0.21215, max_depth=3 | valid_loss=0.66371 (iters=20)\n",
      "eta=0.21215, max_depth=4 | valid_loss=0.66713 (iters=16)\n",
      "eta=0.21215, max_depth=5 | valid_loss=0.67852 (iters=19)\n",
      "eta=0.21215, max_depth=6 | valid_loss=0.71258 (iters=13)\n",
      "eta=0.21215, max_depth=7 | valid_loss=0.70310 (iters=8)\n",
      "eta=0.21215, max_depth=8 | valid_loss=0.72888 (iters=10)\n",
      "eta=0.21711, max_depth=1 | valid_loss=0.66194 (iters=62)\n",
      "eta=0.21711, max_depth=2 | valid_loss=0.66973 (iters=20)\n",
      "eta=0.21711, max_depth=3 | valid_loss=0.67051 (iters=23)\n",
      "eta=0.21711, max_depth=4 | valid_loss=0.66130 (iters=19)\n",
      "eta=0.21711, max_depth=5 | valid_loss=0.66878 (iters=16)\n",
      "eta=0.21711, max_depth=6 | valid_loss=0.70204 (iters=9)\n",
      "eta=0.21711, max_depth=7 | valid_loss=0.69944 (iters=13)\n",
      "eta=0.21711, max_depth=8 | valid_loss=0.71879 (iters=7)\n",
      "eta=0.22219, max_depth=1 | valid_loss=0.67259 (iters=56)\n",
      "eta=0.22219, max_depth=2 | valid_loss=0.67126 (iters=20)\n",
      "eta=0.22219, max_depth=3 | valid_loss=0.66861 (iters=19)\n",
      "eta=0.22219, max_depth=4 | valid_loss=0.66439 (iters=15)\n",
      "eta=0.22219, max_depth=5 | valid_loss=0.67709 (iters=16)\n",
      "eta=0.22219, max_depth=6 | valid_loss=0.70705 (iters=13)\n",
      "eta=0.22219, max_depth=7 | valid_loss=0.69699 (iters=9)\n",
      "eta=0.22219, max_depth=8 | valid_loss=0.71419 (iters=10)\n",
      "eta=0.22740, max_depth=1 | valid_loss=0.67190 (iters=57)\n",
      "eta=0.22740, max_depth=2 | valid_loss=0.67078 (iters=41)\n",
      "eta=0.22740, max_depth=3 | valid_loss=0.67420 (iters=13)\n",
      "eta=0.22740, max_depth=4 | valid_loss=0.67212 (iters=14)\n",
      "eta=0.22740, max_depth=5 | valid_loss=0.67876 (iters=18)\n",
      "eta=0.22740, max_depth=6 | valid_loss=0.69606 (iters=12)\n",
      "eta=0.22740, max_depth=7 | valid_loss=0.71456 (iters=8)\n",
      "eta=0.22740, max_depth=8 | valid_loss=0.71261 (iters=11)\n",
      "eta=0.23272, max_depth=1 | valid_loss=0.67342 (iters=83)\n",
      "eta=0.23272, max_depth=2 | valid_loss=0.67304 (iters=29)\n",
      "eta=0.23272, max_depth=3 | valid_loss=0.66265 (iters=16)\n",
      "eta=0.23272, max_depth=4 | valid_loss=0.67529 (iters=19)\n",
      "eta=0.23272, max_depth=5 | valid_loss=0.67181 (iters=19)\n",
      "eta=0.23272, max_depth=6 | valid_loss=0.70247 (iters=12)\n",
      "eta=0.23272, max_depth=7 | valid_loss=0.71775 (iters=7)\n",
      "eta=0.23272, max_depth=8 | valid_loss=0.71175 (iters=10)\n",
      "eta=0.23817, max_depth=1 | valid_loss=0.66645 (iters=29)\n",
      "eta=0.23817, max_depth=2 | valid_loss=0.67645 (iters=17)\n",
      "eta=0.23817, max_depth=3 | valid_loss=0.66787 (iters=13)\n",
      "eta=0.23817, max_depth=4 | valid_loss=0.66904 (iters=33)\n",
      "eta=0.23817, max_depth=5 | valid_loss=0.67940 (iters=12)\n",
      "eta=0.23817, max_depth=6 | valid_loss=0.68461 (iters=15)\n",
      "eta=0.23817, max_depth=7 | valid_loss=0.71393 (iters=11)\n",
      "eta=0.23817, max_depth=8 | valid_loss=0.70371 (iters=12)\n",
      "eta=0.24374, max_depth=1 | valid_loss=0.66203 (iters=57)\n",
      "eta=0.24374, max_depth=2 | valid_loss=0.66884 (iters=18)\n",
      "eta=0.24374, max_depth=3 | valid_loss=0.66939 (iters=23)\n",
      "eta=0.24374, max_depth=4 | valid_loss=0.66852 (iters=14)\n",
      "eta=0.24374, max_depth=5 | valid_loss=0.69494 (iters=15)\n",
      "eta=0.24374, max_depth=6 | valid_loss=0.70535 (iters=11)\n",
      "eta=0.24374, max_depth=7 | valid_loss=0.70433 (iters=9)\n",
      "eta=0.24374, max_depth=8 | valid_loss=0.73430 (iters=12)\n",
      "eta=0.24945, max_depth=1 | valid_loss=0.66455 (iters=58)\n",
      "eta=0.24945, max_depth=2 | valid_loss=0.67680 (iters=36)\n",
      "eta=0.24945, max_depth=3 | valid_loss=0.67802 (iters=17)\n",
      "eta=0.24945, max_depth=4 | valid_loss=0.67438 (iters=10)\n",
      "eta=0.24945, max_depth=5 | valid_loss=0.67565 (iters=19)\n",
      "eta=0.24945, max_depth=6 | valid_loss=0.71262 (iters=17)\n",
      "eta=0.24945, max_depth=7 | valid_loss=0.70031 (iters=10)\n",
      "eta=0.24945, max_depth=8 | valid_loss=0.71881 (iters=7)\n",
      "eta=0.25529, max_depth=1 | valid_loss=0.66735 (iters=52)\n",
      "eta=0.25529, max_depth=2 | valid_loss=0.67616 (iters=17)\n",
      "eta=0.25529, max_depth=3 | valid_loss=0.68041 (iters=26)\n",
      "eta=0.25529, max_depth=4 | valid_loss=0.68652 (iters=17)\n",
      "eta=0.25529, max_depth=5 | valid_loss=0.68469 (iters=13)\n",
      "eta=0.25529, max_depth=6 | valid_loss=0.70781 (iters=14)\n",
      "eta=0.25529, max_depth=7 | valid_loss=0.71170 (iters=8)\n",
      "eta=0.25529, max_depth=8 | valid_loss=0.71247 (iters=8)\n",
      "eta=0.26127, max_depth=1 | valid_loss=0.66443 (iters=45)\n",
      "eta=0.26127, max_depth=2 | valid_loss=0.67156 (iters=19)\n",
      "eta=0.26127, max_depth=3 | valid_loss=0.66774 (iters=14)\n",
      "eta=0.26127, max_depth=4 | valid_loss=0.66819 (iters=13)\n",
      "eta=0.26127, max_depth=5 | valid_loss=0.66206 (iters=21)\n",
      "eta=0.26127, max_depth=6 | valid_loss=0.70692 (iters=17)\n",
      "eta=0.26127, max_depth=7 | valid_loss=0.71505 (iters=9)\n",
      "eta=0.26127, max_depth=8 | valid_loss=0.70714 (iters=7)\n",
      "eta=0.26738, max_depth=1 | valid_loss=0.65969 (iters=61)\n",
      "eta=0.26738, max_depth=2 | valid_loss=0.66586 (iters=27)\n",
      "eta=0.26738, max_depth=3 | valid_loss=0.67277 (iters=21)\n",
      "eta=0.26738, max_depth=4 | valid_loss=0.68229 (iters=18)\n",
      "eta=0.26738, max_depth=5 | valid_loss=0.66973 (iters=18)\n",
      "eta=0.26738, max_depth=6 | valid_loss=0.71341 (iters=22)\n",
      "eta=0.26738, max_depth=7 | valid_loss=0.70878 (iters=8)\n",
      "eta=0.26738, max_depth=8 | valid_loss=0.71039 (iters=7)\n",
      "eta=0.27364, max_depth=1 | valid_loss=0.65855 (iters=49)\n",
      "eta=0.27364, max_depth=2 | valid_loss=0.66985 (iters=22)\n",
      "eta=0.27364, max_depth=3 | valid_loss=0.67207 (iters=19)\n",
      "eta=0.27364, max_depth=4 | valid_loss=0.67471 (iters=23)\n",
      "eta=0.27364, max_depth=5 | valid_loss=0.66843 (iters=11)\n",
      "eta=0.27364, max_depth=6 | valid_loss=0.72171 (iters=10)\n",
      "eta=0.27364, max_depth=7 | valid_loss=0.71061 (iters=10)\n",
      "eta=0.27364, max_depth=8 | valid_loss=0.71155 (iters=10)\n",
      "eta=0.28005, max_depth=1 | valid_loss=0.65802 (iters=49)\n"
     ]
    },
    {
     "name": "stdout",
     "output_type": "stream",
     "text": [
      "eta=0.28005, max_depth=2 | valid_loss=0.68241 (iters=23)\n",
      "eta=0.28005, max_depth=3 | valid_loss=0.67120 (iters=12)\n",
      "eta=0.28005, max_depth=4 | valid_loss=0.67103 (iters=15)\n",
      "eta=0.28005, max_depth=5 | valid_loss=0.67207 (iters=8)\n",
      "eta=0.28005, max_depth=6 | valid_loss=0.71832 (iters=16)\n",
      "eta=0.28005, max_depth=7 | valid_loss=0.70565 (iters=10)\n",
      "eta=0.28005, max_depth=8 | valid_loss=0.71556 (iters=7)\n",
      "eta=0.28661, max_depth=1 | valid_loss=0.66848 (iters=50)\n",
      "eta=0.28661, max_depth=2 | valid_loss=0.67869 (iters=12)\n",
      "eta=0.28661, max_depth=3 | valid_loss=0.66939 (iters=15)\n",
      "eta=0.28661, max_depth=4 | valid_loss=0.65569 (iters=15)\n",
      "eta=0.28661, max_depth=5 | valid_loss=0.68676 (iters=7)\n",
      "eta=0.28661, max_depth=6 | valid_loss=0.70664 (iters=8)\n",
      "eta=0.28661, max_depth=7 | valid_loss=0.71056 (iters=9)\n",
      "eta=0.28661, max_depth=8 | valid_loss=0.70462 (iters=7)\n",
      "eta=0.29332, max_depth=1 | valid_loss=0.66835 (iters=28)\n",
      "eta=0.29332, max_depth=2 | valid_loss=0.68126 (iters=16)\n",
      "eta=0.29332, max_depth=3 | valid_loss=0.67189 (iters=11)\n",
      "eta=0.29332, max_depth=4 | valid_loss=0.69395 (iters=7)\n",
      "eta=0.29332, max_depth=5 | valid_loss=0.68466 (iters=11)\n",
      "eta=0.29332, max_depth=6 | valid_loss=0.70448 (iters=8)\n",
      "eta=0.29332, max_depth=7 | valid_loss=0.71481 (iters=8)\n",
      "eta=0.29332, max_depth=8 | valid_loss=0.68929 (iters=10)\n",
      "eta=0.30018, max_depth=1 | valid_loss=0.66623 (iters=51)\n",
      "eta=0.30018, max_depth=2 | valid_loss=0.67862 (iters=13)\n",
      "eta=0.30018, max_depth=3 | valid_loss=0.68077 (iters=15)\n",
      "eta=0.30018, max_depth=4 | valid_loss=0.68819 (iters=15)\n",
      "eta=0.30018, max_depth=5 | valid_loss=0.67766 (iters=8)\n",
      "eta=0.30018, max_depth=6 | valid_loss=0.70873 (iters=9)\n",
      "eta=0.30018, max_depth=7 | valid_loss=0.70911 (iters=6)\n",
      "eta=0.30018, max_depth=8 | valid_loss=0.71051 (iters=5)\n",
      "eta=0.30721, max_depth=1 | valid_loss=0.68136 (iters=44)\n",
      "eta=0.30721, max_depth=2 | valid_loss=0.67178 (iters=12)\n",
      "eta=0.30721, max_depth=3 | valid_loss=0.67722 (iters=8)\n",
      "eta=0.30721, max_depth=4 | valid_loss=0.68744 (iters=10)\n",
      "eta=0.30721, max_depth=5 | valid_loss=0.69132 (iters=7)\n",
      "eta=0.30721, max_depth=6 | valid_loss=0.72801 (iters=22)\n",
      "eta=0.30721, max_depth=7 | valid_loss=0.70041 (iters=6)\n",
      "eta=0.30721, max_depth=8 | valid_loss=0.70800 (iters=7)\n",
      "eta=0.31440, max_depth=1 | valid_loss=0.66843 (iters=29)\n",
      "eta=0.31440, max_depth=2 | valid_loss=0.68043 (iters=12)\n",
      "eta=0.31440, max_depth=3 | valid_loss=0.67600 (iters=11)\n",
      "eta=0.31440, max_depth=4 | valid_loss=0.68665 (iters=7)\n",
      "eta=0.31440, max_depth=5 | valid_loss=0.67376 (iters=11)\n",
      "eta=0.31440, max_depth=6 | valid_loss=0.72412 (iters=7)\n",
      "eta=0.31440, max_depth=7 | valid_loss=0.70128 (iters=6)\n",
      "eta=0.31440, max_depth=8 | valid_loss=0.71679 (iters=5)\n",
      "eta=0.32176, max_depth=1 | valid_loss=0.67372 (iters=36)\n",
      "eta=0.32176, max_depth=2 | valid_loss=0.67903 (iters=11)\n",
      "eta=0.32176, max_depth=3 | valid_loss=0.66808 (iters=9)\n",
      "eta=0.32176, max_depth=4 | valid_loss=0.68581 (iters=7)\n",
      "eta=0.32176, max_depth=5 | valid_loss=0.68524 (iters=7)\n",
      "eta=0.32176, max_depth=6 | valid_loss=0.72248 (iters=6)\n",
      "eta=0.32176, max_depth=7 | valid_loss=0.70437 (iters=6)\n",
      "eta=0.32176, max_depth=8 | valid_loss=0.73018 (iters=6)\n",
      "eta=0.32930, max_depth=1 | valid_loss=0.67765 (iters=27)\n",
      "eta=0.32930, max_depth=2 | valid_loss=0.67486 (iters=8)\n",
      "eta=0.32930, max_depth=3 | valid_loss=0.65917 (iters=16)\n",
      "eta=0.32930, max_depth=4 | valid_loss=0.68575 (iters=7)\n",
      "eta=0.32930, max_depth=5 | valid_loss=0.67775 (iters=9)\n",
      "eta=0.32930, max_depth=6 | valid_loss=0.71839 (iters=11)\n",
      "eta=0.32930, max_depth=7 | valid_loss=0.70693 (iters=7)\n",
      "eta=0.32930, max_depth=8 | valid_loss=0.74341 (iters=4)\n",
      "eta=0.33701, max_depth=1 | valid_loss=0.67244 (iters=40)\n",
      "eta=0.33701, max_depth=2 | valid_loss=0.66888 (iters=8)\n",
      "eta=0.33701, max_depth=3 | valid_loss=0.66821 (iters=11)\n",
      "eta=0.33701, max_depth=4 | valid_loss=0.68885 (iters=6)\n",
      "eta=0.33701, max_depth=5 | valid_loss=0.68127 (iters=6)\n",
      "eta=0.33701, max_depth=6 | valid_loss=0.71172 (iters=8)\n",
      "eta=0.33701, max_depth=7 | valid_loss=0.71093 (iters=6)\n",
      "eta=0.33701, max_depth=8 | valid_loss=0.73737 (iters=5)\n",
      "eta=0.34490, max_depth=1 | valid_loss=0.67393 (iters=43)\n",
      "eta=0.34490, max_depth=2 | valid_loss=0.67353 (iters=9)\n",
      "eta=0.34490, max_depth=3 | valid_loss=0.69807 (iters=5)\n",
      "eta=0.34490, max_depth=4 | valid_loss=0.70215 (iters=8)\n",
      "eta=0.34490, max_depth=5 | valid_loss=0.67566 (iters=10)\n",
      "eta=0.34490, max_depth=6 | valid_loss=0.70394 (iters=7)\n",
      "eta=0.34490, max_depth=7 | valid_loss=0.72301 (iters=5)\n",
      "eta=0.34490, max_depth=8 | valid_loss=0.72844 (iters=5)\n",
      "eta=0.35297, max_depth=1 | valid_loss=0.68059 (iters=28)\n",
      "eta=0.35297, max_depth=2 | valid_loss=0.67361 (iters=9)\n",
      "eta=0.35297, max_depth=3 | valid_loss=0.69161 (iters=13)\n",
      "eta=0.35297, max_depth=4 | valid_loss=0.68531 (iters=6)\n",
      "eta=0.35297, max_depth=5 | valid_loss=0.67645 (iters=16)\n",
      "eta=0.35297, max_depth=6 | valid_loss=0.68343 (iters=11)\n",
      "eta=0.35297, max_depth=7 | valid_loss=0.71648 (iters=5)\n",
      "eta=0.35297, max_depth=8 | valid_loss=0.72768 (iters=5)\n",
      "eta=0.36123, max_depth=1 | valid_loss=0.67431 (iters=37)\n",
      "eta=0.36123, max_depth=2 | valid_loss=0.67047 (iters=12)\n",
      "eta=0.36123, max_depth=3 | valid_loss=0.69701 (iters=5)\n",
      "eta=0.36123, max_depth=4 | valid_loss=0.68650 (iters=6)\n",
      "eta=0.36123, max_depth=5 | valid_loss=0.68475 (iters=5)\n",
      "eta=0.36123, max_depth=6 | valid_loss=0.70195 (iters=7)\n",
      "eta=0.36123, max_depth=7 | valid_loss=0.71167 (iters=4)\n",
      "eta=0.36123, max_depth=8 | valid_loss=0.72613 (iters=7)\n",
      "eta=0.36969, max_depth=1 | valid_loss=0.66644 (iters=42)\n",
      "eta=0.36969, max_depth=2 | valid_loss=0.67087 (iters=11)\n",
      "eta=0.36969, max_depth=3 | valid_loss=0.70026 (iters=7)\n",
      "eta=0.36969, max_depth=4 | valid_loss=0.68493 (iters=8)\n",
      "eta=0.36969, max_depth=5 | valid_loss=0.68735 (iters=8)\n",
      "eta=0.36969, max_depth=6 | valid_loss=0.70428 (iters=8)\n",
      "eta=0.36969, max_depth=7 | valid_loss=0.71884 (iters=5)\n",
      "eta=0.36969, max_depth=8 | valid_loss=0.72369 (iters=6)\n",
      "eta=0.37835, max_depth=1 | valid_loss=0.66981 (iters=30)\n",
      "eta=0.37835, max_depth=2 | valid_loss=0.67034 (iters=20)\n",
      "eta=0.37835, max_depth=3 | valid_loss=0.68528 (iters=8)\n",
      "eta=0.37835, max_depth=4 | valid_loss=0.71273 (iters=6)\n",
      "eta=0.37835, max_depth=5 | valid_loss=0.69124 (iters=6)\n",
      "eta=0.37835, max_depth=6 | valid_loss=0.69915 (iters=9)\n",
      "eta=0.37835, max_depth=7 | valid_loss=0.72238 (iters=5)\n",
      "eta=0.37835, max_depth=8 | valid_loss=0.73094 (iters=4)\n",
      "eta=0.38720, max_depth=1 | valid_loss=0.67068 (iters=25)\n",
      "eta=0.38720, max_depth=2 | valid_loss=0.67881 (iters=15)\n",
      "eta=0.38720, max_depth=3 | valid_loss=0.69447 (iters=6)\n",
      "eta=0.38720, max_depth=4 | valid_loss=0.71334 (iters=6)\n",
      "eta=0.38720, max_depth=5 | valid_loss=0.70004 (iters=4)\n",
      "eta=0.38720, max_depth=6 | valid_loss=0.69393 (iters=5)\n",
      "eta=0.38720, max_depth=7 | valid_loss=0.72749 (iters=4)\n",
      "eta=0.38720, max_depth=8 | valid_loss=0.73369 (iters=3)\n",
      "eta=0.39627, max_depth=1 | valid_loss=0.67090 (iters=25)\n",
      "eta=0.39627, max_depth=2 | valid_loss=0.67863 (iters=9)\n",
      "eta=0.39627, max_depth=3 | valid_loss=0.70281 (iters=10)\n",
      "eta=0.39627, max_depth=4 | valid_loss=0.70456 (iters=5)\n",
      "eta=0.39627, max_depth=5 | valid_loss=0.69018 (iters=5)\n",
      "eta=0.39627, max_depth=6 | valid_loss=0.70552 (iters=10)\n",
      "eta=0.39627, max_depth=7 | valid_loss=0.72773 (iters=3)\n",
      "eta=0.39627, max_depth=8 | valid_loss=0.73435 (iters=4)\n",
      "eta=0.40555, max_depth=1 | valid_loss=0.67922 (iters=29)\n",
      "eta=0.40555, max_depth=2 | valid_loss=0.67105 (iters=15)\n",
      "eta=0.40555, max_depth=3 | valid_loss=0.70594 (iters=4)\n",
      "eta=0.40555, max_depth=4 | valid_loss=0.69322 (iters=8)\n",
      "eta=0.40555, max_depth=5 | valid_loss=0.69441 (iters=5)\n",
      "eta=0.40555, max_depth=6 | valid_loss=0.70586 (iters=6)\n",
      "eta=0.40555, max_depth=7 | valid_loss=0.72790 (iters=3)\n",
      "eta=0.40555, max_depth=8 | valid_loss=0.72706 (iters=5)\n",
      "eta=0.41504, max_depth=1 | valid_loss=0.67902 (iters=28)\n",
      "eta=0.41504, max_depth=2 | valid_loss=0.67869 (iters=11)\n",
      "eta=0.41504, max_depth=3 | valid_loss=0.70548 (iters=6)\n",
      "eta=0.41504, max_depth=4 | valid_loss=0.67250 (iters=10)\n",
      "eta=0.41504, max_depth=5 | valid_loss=0.68541 (iters=4)\n",
      "eta=0.41504, max_depth=6 | valid_loss=0.72137 (iters=4)\n",
      "eta=0.41504, max_depth=7 | valid_loss=0.71684 (iters=3)\n",
      "eta=0.41504, max_depth=8 | valid_loss=0.73568 (iters=3)\n",
      "eta=0.42476, max_depth=1 | valid_loss=0.67903 (iters=25)\n",
      "eta=0.42476, max_depth=2 | valid_loss=0.67390 (iters=10)\n",
      "eta=0.42476, max_depth=3 | valid_loss=0.69833 (iters=8)\n",
      "eta=0.42476, max_depth=4 | valid_loss=0.70527 (iters=6)\n",
      "eta=0.42476, max_depth=5 | valid_loss=0.70270 (iters=4)\n",
      "eta=0.42476, max_depth=6 | valid_loss=0.69126 (iters=9)\n"
     ]
    },
    {
     "name": "stdout",
     "output_type": "stream",
     "text": [
      "eta=0.42476, max_depth=7 | valid_loss=0.71627 (iters=3)\n",
      "eta=0.42476, max_depth=8 | valid_loss=0.73053 (iters=5)\n",
      "eta=0.43470, max_depth=1 | valid_loss=0.68009 (iters=21)\n",
      "eta=0.43470, max_depth=2 | valid_loss=0.68985 (iters=6)\n",
      "eta=0.43470, max_depth=3 | valid_loss=0.70623 (iters=20)\n",
      "eta=0.43470, max_depth=4 | valid_loss=0.69889 (iters=8)\n",
      "eta=0.43470, max_depth=5 | valid_loss=0.70566 (iters=3)\n",
      "eta=0.43470, max_depth=6 | valid_loss=0.71398 (iters=10)\n",
      "eta=0.43470, max_depth=7 | valid_loss=0.70523 (iters=6)\n",
      "eta=0.43470, max_depth=8 | valid_loss=0.73132 (iters=5)\n",
      "eta=0.44488, max_depth=1 | valid_loss=0.67996 (iters=21)\n",
      "eta=0.44488, max_depth=2 | valid_loss=0.69437 (iters=7)\n",
      "eta=0.44488, max_depth=3 | valid_loss=0.70472 (iters=7)\n",
      "eta=0.44488, max_depth=4 | valid_loss=0.68486 (iters=8)\n",
      "eta=0.44488, max_depth=5 | valid_loss=0.70787 (iters=3)\n",
      "eta=0.44488, max_depth=6 | valid_loss=0.71487 (iters=9)\n",
      "eta=0.44488, max_depth=7 | valid_loss=0.72048 (iters=5)\n",
      "eta=0.44488, max_depth=8 | valid_loss=0.74549 (iters=2)\n",
      "eta=0.45529, max_depth=1 | valid_loss=0.68614 (iters=23)\n",
      "eta=0.45529, max_depth=2 | valid_loss=0.70917 (iters=8)\n",
      "eta=0.45529, max_depth=3 | valid_loss=0.70681 (iters=7)\n",
      "eta=0.45529, max_depth=4 | valid_loss=0.69170 (iters=6)\n",
      "eta=0.45529, max_depth=5 | valid_loss=0.69132 (iters=4)\n",
      "eta=0.45529, max_depth=6 | valid_loss=0.71788 (iters=8)\n",
      "eta=0.45529, max_depth=7 | valid_loss=0.71537 (iters=4)\n",
      "eta=0.45529, max_depth=8 | valid_loss=0.73001 (iters=3)\n",
      "eta=0.46595, max_depth=1 | valid_loss=0.68530 (iters=26)\n",
      "eta=0.46595, max_depth=2 | valid_loss=0.69517 (iters=16)\n",
      "eta=0.46595, max_depth=3 | valid_loss=0.68903 (iters=17)\n",
      "eta=0.46595, max_depth=4 | valid_loss=0.69452 (iters=4)\n",
      "eta=0.46595, max_depth=5 | valid_loss=0.70688 (iters=4)\n",
      "eta=0.46595, max_depth=6 | valid_loss=0.71172 (iters=5)\n",
      "eta=0.46595, max_depth=7 | valid_loss=0.71577 (iters=3)\n",
      "eta=0.46595, max_depth=8 | valid_loss=0.75291 (iters=5)\n",
      "eta=0.47686, max_depth=1 | valid_loss=0.68940 (iters=22)\n",
      "eta=0.47686, max_depth=2 | valid_loss=0.69641 (iters=11)\n",
      "eta=0.47686, max_depth=3 | valid_loss=0.70370 (iters=13)\n",
      "eta=0.47686, max_depth=4 | valid_loss=0.70573 (iters=6)\n",
      "eta=0.47686, max_depth=5 | valid_loss=0.70426 (iters=3)\n",
      "eta=0.47686, max_depth=6 | valid_loss=0.71909 (iters=4)\n",
      "eta=0.47686, max_depth=7 | valid_loss=0.72723 (iters=2)\n",
      "eta=0.47686, max_depth=8 | valid_loss=0.74536 (iters=3)\n",
      "eta=0.48803, max_depth=1 | valid_loss=0.69115 (iters=26)\n",
      "eta=0.48803, max_depth=2 | valid_loss=0.68605 (iters=8)\n",
      "eta=0.48803, max_depth=3 | valid_loss=0.69534 (iters=10)\n",
      "eta=0.48803, max_depth=4 | valid_loss=0.68428 (iters=4)\n",
      "eta=0.48803, max_depth=5 | valid_loss=0.68665 (iters=3)\n",
      "eta=0.48803, max_depth=6 | valid_loss=0.72085 (iters=2)\n",
      "eta=0.48803, max_depth=7 | valid_loss=0.72484 (iters=3)\n",
      "eta=0.48803, max_depth=8 | valid_loss=0.74264 (iters=3)\n",
      "eta=0.49945, max_depth=1 | valid_loss=0.69362 (iters=17)\n",
      "eta=0.49945, max_depth=2 | valid_loss=0.68739 (iters=7)\n",
      "eta=0.49945, max_depth=3 | valid_loss=0.70492 (iters=17)\n",
      "eta=0.49945, max_depth=4 | valid_loss=0.68482 (iters=4)\n",
      "eta=0.49945, max_depth=5 | valid_loss=0.71470 (iters=3)\n",
      "eta=0.49945, max_depth=6 | valid_loss=0.70572 (iters=5)\n",
      "eta=0.49945, max_depth=7 | valid_loss=0.71218 (iters=15)\n",
      "eta=0.49945, max_depth=8 | valid_loss=0.74039 (iters=3)\n",
      "eta=0.51114, max_depth=1 | valid_loss=0.69299 (iters=29)\n",
      "eta=0.51114, max_depth=2 | valid_loss=0.70042 (iters=5)\n",
      "eta=0.51114, max_depth=3 | valid_loss=0.70838 (iters=7)\n",
      "eta=0.51114, max_depth=4 | valid_loss=0.68224 (iters=9)\n",
      "eta=0.51114, max_depth=5 | valid_loss=0.70944 (iters=2)\n",
      "eta=0.51114, max_depth=6 | valid_loss=0.70739 (iters=4)\n",
      "eta=0.51114, max_depth=7 | valid_loss=0.71295 (iters=2)\n",
      "eta=0.51114, max_depth=8 | valid_loss=0.74989 (iters=2)\n",
      "eta=0.52311, max_depth=1 | valid_loss=0.69220 (iters=23)\n",
      "eta=0.52311, max_depth=2 | valid_loss=0.69764 (iters=6)\n",
      "eta=0.52311, max_depth=3 | valid_loss=0.70821 (iters=10)\n",
      "eta=0.52311, max_depth=4 | valid_loss=0.69532 (iters=4)\n",
      "eta=0.52311, max_depth=5 | valid_loss=0.70026 (iters=4)\n",
      "eta=0.52311, max_depth=6 | valid_loss=0.73584 (iters=3)\n",
      "eta=0.52311, max_depth=7 | valid_loss=0.74043 (iters=2)\n",
      "eta=0.52311, max_depth=8 | valid_loss=0.74943 (iters=3)\n",
      "eta=0.53536, max_depth=1 | valid_loss=0.69213 (iters=23)\n",
      "eta=0.53536, max_depth=2 | valid_loss=0.69928 (iters=9)\n",
      "eta=0.53536, max_depth=3 | valid_loss=0.70751 (iters=5)\n",
      "eta=0.53536, max_depth=4 | valid_loss=0.70046 (iters=4)\n",
      "eta=0.53536, max_depth=5 | valid_loss=0.70969 (iters=3)\n",
      "eta=0.53536, max_depth=6 | valid_loss=0.73742 (iters=1)\n",
      "eta=0.53536, max_depth=7 | valid_loss=0.74250 (iters=2)\n",
      "eta=0.53536, max_depth=8 | valid_loss=0.74120 (iters=4)\n",
      "eta=0.54789, max_depth=1 | valid_loss=0.69318 (iters=23)\n",
      "eta=0.54789, max_depth=2 | valid_loss=0.70496 (iters=6)\n",
      "eta=0.54789, max_depth=3 | valid_loss=0.70927 (iters=4)\n",
      "eta=0.54789, max_depth=4 | valid_loss=0.71306 (iters=3)\n",
      "eta=0.54789, max_depth=5 | valid_loss=0.71434 (iters=2)\n",
      "eta=0.54789, max_depth=6 | valid_loss=0.73538 (iters=8)\n",
      "eta=0.54789, max_depth=7 | valid_loss=0.74056 (iters=2)\n",
      "eta=0.54789, max_depth=8 | valid_loss=0.74910 (iters=3)\n",
      "eta=0.56072, max_depth=1 | valid_loss=0.69065 (iters=22)\n",
      "eta=0.56072, max_depth=2 | valid_loss=0.70165 (iters=7)\n",
      "eta=0.56072, max_depth=3 | valid_loss=0.71036 (iters=6)\n",
      "eta=0.56072, max_depth=4 | valid_loss=0.70473 (iters=3)\n",
      "eta=0.56072, max_depth=5 | valid_loss=0.68207 (iters=2)\n",
      "eta=0.56072, max_depth=6 | valid_loss=0.71906 (iters=3)\n",
      "eta=0.56072, max_depth=7 | valid_loss=0.74105 (iters=2)\n",
      "eta=0.56072, max_depth=8 | valid_loss=0.75169 (iters=3)\n",
      "eta=0.57384, max_depth=1 | valid_loss=0.68829 (iters=22)\n",
      "eta=0.57384, max_depth=2 | valid_loss=0.70586 (iters=8)\n",
      "eta=0.57384, max_depth=3 | valid_loss=0.71641 (iters=6)\n",
      "eta=0.57384, max_depth=4 | valid_loss=0.69296 (iters=19)\n",
      "eta=0.57384, max_depth=5 | valid_loss=0.67456 (iters=3)\n",
      "eta=0.57384, max_depth=6 | valid_loss=0.72188 (iters=2)\n",
      "eta=0.57384, max_depth=7 | valid_loss=0.71322 (iters=2)\n",
      "eta=0.57384, max_depth=8 | valid_loss=0.75082 (iters=2)\n",
      "eta=0.58728, max_depth=1 | valid_loss=0.68803 (iters=28)\n",
      "eta=0.58728, max_depth=2 | valid_loss=0.70617 (iters=3)\n",
      "eta=0.58728, max_depth=3 | valid_loss=0.71628 (iters=5)\n",
      "eta=0.58728, max_depth=4 | valid_loss=0.72531 (iters=4)\n",
      "eta=0.58728, max_depth=5 | valid_loss=0.70793 (iters=4)\n",
      "eta=0.58728, max_depth=6 | valid_loss=0.70564 (iters=6)\n",
      "eta=0.58728, max_depth=7 | valid_loss=0.73469 (iters=3)\n",
      "eta=0.58728, max_depth=8 | valid_loss=0.76315 (iters=2)\n",
      "eta=0.60103, max_depth=1 | valid_loss=0.68922 (iters=34)\n",
      "eta=0.60103, max_depth=2 | valid_loss=0.70789 (iters=3)\n",
      "eta=0.60103, max_depth=3 | valid_loss=0.71376 (iters=5)\n",
      "eta=0.60103, max_depth=4 | valid_loss=0.71892 (iters=5)\n",
      "eta=0.60103, max_depth=5 | valid_loss=0.70237 (iters=3)\n",
      "eta=0.60103, max_depth=6 | valid_loss=0.73019 (iters=2)\n",
      "eta=0.60103, max_depth=7 | valid_loss=0.73555 (iters=2)\n",
      "eta=0.60103, max_depth=8 | valid_loss=0.75903 (iters=3)\n",
      "eta=0.61510, max_depth=1 | valid_loss=0.69744 (iters=30)\n",
      "eta=0.61510, max_depth=2 | valid_loss=0.70760 (iters=4)\n",
      "eta=0.61510, max_depth=3 | valid_loss=0.71296 (iters=5)\n",
      "eta=0.61510, max_depth=4 | valid_loss=0.72825 (iters=2)\n",
      "eta=0.61510, max_depth=5 | valid_loss=0.71073 (iters=2)\n",
      "eta=0.61510, max_depth=6 | valid_loss=0.73220 (iters=5)\n",
      "eta=0.61510, max_depth=7 | valid_loss=0.74542 (iters=2)\n",
      "eta=0.61510, max_depth=8 | valid_loss=0.73311 (iters=2)\n",
      "eta=0.62950, max_depth=1 | valid_loss=0.69938 (iters=20)\n",
      "eta=0.62950, max_depth=2 | valid_loss=0.69619 (iters=4)\n",
      "eta=0.62950, max_depth=3 | valid_loss=0.70786 (iters=5)\n",
      "eta=0.62950, max_depth=4 | valid_loss=0.72813 (iters=2)\n",
      "eta=0.62950, max_depth=5 | valid_loss=0.71408 (iters=2)\n",
      "eta=0.62950, max_depth=6 | valid_loss=0.73124 (iters=1)\n",
      "eta=0.62950, max_depth=7 | valid_loss=0.73523 (iters=2)\n",
      "eta=0.62950, max_depth=8 | valid_loss=0.74083 (iters=2)\n",
      "eta=0.64424, max_depth=1 | valid_loss=0.71047 (iters=39)\n",
      "eta=0.64424, max_depth=2 | valid_loss=0.69721 (iters=4)\n",
      "eta=0.64424, max_depth=3 | valid_loss=0.71061 (iters=4)\n",
      "eta=0.64424, max_depth=4 | valid_loss=0.72105 (iters=4)\n",
      "eta=0.64424, max_depth=5 | valid_loss=0.71417 (iters=2)\n",
      "eta=0.64424, max_depth=6 | valid_loss=0.73258 (iters=1)\n",
      "eta=0.64424, max_depth=7 | valid_loss=0.73590 (iters=2)\n",
      "eta=0.64424, max_depth=8 | valid_loss=0.75055 (iters=1)\n",
      "eta=0.65932, max_depth=1 | valid_loss=0.70650 (iters=27)\n"
     ]
    },
    {
     "name": "stdout",
     "output_type": "stream",
     "text": [
      "eta=0.65932, max_depth=2 | valid_loss=0.69204 (iters=5)\n",
      "eta=0.65932, max_depth=3 | valid_loss=0.70334 (iters=6)\n",
      "eta=0.65932, max_depth=4 | valid_loss=0.72240 (iters=5)\n",
      "eta=0.65932, max_depth=5 | valid_loss=0.70218 (iters=2)\n",
      "eta=0.65932, max_depth=6 | valid_loss=0.73239 (iters=1)\n",
      "eta=0.65932, max_depth=7 | valid_loss=0.74458 (iters=1)\n",
      "eta=0.65932, max_depth=8 | valid_loss=0.74782 (iters=2)\n",
      "eta=0.67475, max_depth=1 | valid_loss=0.70654 (iters=36)\n",
      "eta=0.67475, max_depth=2 | valid_loss=0.69326 (iters=5)\n",
      "eta=0.67475, max_depth=3 | valid_loss=0.71783 (iters=3)\n",
      "eta=0.67475, max_depth=4 | valid_loss=0.71678 (iters=4)\n",
      "eta=0.67475, max_depth=5 | valid_loss=0.69129 (iters=4)\n",
      "eta=0.67475, max_depth=6 | valid_loss=0.73271 (iters=1)\n",
      "eta=0.67475, max_depth=7 | valid_loss=0.75176 (iters=1)\n",
      "eta=0.67475, max_depth=8 | valid_loss=0.77807 (iters=1)\n",
      "eta=0.69055, max_depth=1 | valid_loss=0.70608 (iters=28)\n",
      "eta=0.69055, max_depth=2 | valid_loss=0.70181 (iters=3)\n",
      "eta=0.69055, max_depth=3 | valid_loss=0.71934 (iters=3)\n",
      "eta=0.69055, max_depth=4 | valid_loss=0.71219 (iters=5)\n",
      "eta=0.69055, max_depth=5 | valid_loss=0.70545 (iters=1)\n",
      "eta=0.69055, max_depth=6 | valid_loss=0.73078 (iters=1)\n",
      "eta=0.69055, max_depth=7 | valid_loss=0.75474 (iters=1)\n",
      "eta=0.69055, max_depth=8 | valid_loss=0.74855 (iters=1)\n",
      "eta=0.70672, max_depth=1 | valid_loss=0.70622 (iters=27)\n",
      "eta=0.70672, max_depth=2 | valid_loss=0.70636 (iters=2)\n",
      "eta=0.70672, max_depth=3 | valid_loss=0.69968 (iters=5)\n",
      "eta=0.70672, max_depth=4 | valid_loss=0.72361 (iters=2)\n",
      "eta=0.70672, max_depth=5 | valid_loss=0.70505 (iters=1)\n",
      "eta=0.70672, max_depth=6 | valid_loss=0.73638 (iters=3)\n",
      "eta=0.70672, max_depth=7 | valid_loss=0.75266 (iters=2)\n",
      "eta=0.70672, max_depth=8 | valid_loss=0.73473 (iters=2)\n",
      "eta=0.72326, max_depth=1 | valid_loss=0.71636 (iters=21)\n",
      "eta=0.72326, max_depth=2 | valid_loss=0.71439 (iters=2)\n",
      "eta=0.72326, max_depth=3 | valid_loss=0.72371 (iters=3)\n",
      "eta=0.72326, max_depth=4 | valid_loss=0.72349 (iters=3)\n",
      "eta=0.72326, max_depth=5 | valid_loss=0.71537 (iters=1)\n",
      "eta=0.72326, max_depth=6 | valid_loss=0.74377 (iters=1)\n",
      "eta=0.72326, max_depth=7 | valid_loss=0.75488 (iters=1)\n",
      "eta=0.72326, max_depth=8 | valid_loss=0.75731 (iters=2)\n",
      "eta=0.74020, max_depth=1 | valid_loss=0.72044 (iters=24)\n",
      "eta=0.74020, max_depth=2 | valid_loss=0.71483 (iters=2)\n",
      "eta=0.74020, max_depth=3 | valid_loss=0.71372 (iters=3)\n",
      "eta=0.74020, max_depth=4 | valid_loss=0.71863 (iters=2)\n",
      "eta=0.74020, max_depth=5 | valid_loss=0.71541 (iters=1)\n",
      "eta=0.74020, max_depth=6 | valid_loss=0.74545 (iters=1)\n",
      "eta=0.74020, max_depth=7 | valid_loss=0.75750 (iters=1)\n",
      "eta=0.74020, max_depth=8 | valid_loss=0.76209 (iters=1)\n",
      "eta=0.75753, max_depth=1 | valid_loss=0.72231 (iters=16)\n",
      "eta=0.75753, max_depth=2 | valid_loss=0.71546 (iters=2)\n",
      "eta=0.75753, max_depth=3 | valid_loss=0.71149 (iters=3)\n",
      "eta=0.75753, max_depth=4 | valid_loss=0.71641 (iters=4)\n",
      "eta=0.75753, max_depth=5 | valid_loss=0.71473 (iters=1)\n",
      "eta=0.75753, max_depth=6 | valid_loss=0.75001 (iters=1)\n",
      "eta=0.75753, max_depth=7 | valid_loss=0.76850 (iters=1)\n",
      "eta=0.75753, max_depth=8 | valid_loss=0.75384 (iters=1)\n",
      "eta=0.77526, max_depth=1 | valid_loss=0.72333 (iters=29)\n",
      "eta=0.77526, max_depth=2 | valid_loss=0.71631 (iters=2)\n",
      "eta=0.77526, max_depth=3 | valid_loss=0.72134 (iters=1)\n",
      "eta=0.77526, max_depth=4 | valid_loss=0.72759 (iters=1)\n",
      "eta=0.77526, max_depth=5 | valid_loss=0.71791 (iters=2)\n",
      "eta=0.77526, max_depth=6 | valid_loss=0.75225 (iters=1)\n",
      "eta=0.77526, max_depth=7 | valid_loss=0.75550 (iters=1)\n",
      "eta=0.77526, max_depth=8 | valid_loss=0.75644 (iters=1)\n",
      "eta=0.79341, max_depth=1 | valid_loss=0.73236 (iters=11)\n",
      "eta=0.79341, max_depth=2 | valid_loss=0.71736 (iters=2)\n",
      "eta=0.79341, max_depth=3 | valid_loss=0.71745 (iters=2)\n",
      "eta=0.79341, max_depth=4 | valid_loss=0.73221 (iters=2)\n",
      "eta=0.79341, max_depth=5 | valid_loss=0.71566 (iters=1)\n",
      "eta=0.79341, max_depth=6 | valid_loss=0.76220 (iters=0)\n",
      "eta=0.79341, max_depth=7 | valid_loss=0.76470 (iters=1)\n",
      "eta=0.79341, max_depth=8 | valid_loss=0.76202 (iters=1)\n",
      "eta=0.81198, max_depth=1 | valid_loss=0.73146 (iters=12)\n",
      "eta=0.81198, max_depth=2 | valid_loss=0.70033 (iters=5)\n",
      "eta=0.81198, max_depth=3 | valid_loss=0.72239 (iters=1)\n",
      "eta=0.81198, max_depth=4 | valid_loss=0.73320 (iters=1)\n",
      "eta=0.81198, max_depth=5 | valid_loss=0.71662 (iters=1)\n",
      "eta=0.81198, max_depth=6 | valid_loss=0.76065 (iters=0)\n",
      "eta=0.81198, max_depth=7 | valid_loss=0.76657 (iters=1)\n",
      "eta=0.81198, max_depth=8 | valid_loss=0.78319 (iters=0)\n",
      "eta=0.83099, max_depth=1 | valid_loss=0.73534 (iters=7)\n",
      "eta=0.83099, max_depth=2 | valid_loss=0.73367 (iters=1)\n",
      "eta=0.83099, max_depth=3 | valid_loss=0.72333 (iters=1)\n",
      "eta=0.83099, max_depth=4 | valid_loss=0.73354 (iters=1)\n",
      "eta=0.83099, max_depth=5 | valid_loss=0.71500 (iters=3)\n",
      "eta=0.83099, max_depth=6 | valid_loss=0.75948 (iters=0)\n",
      "eta=0.83099, max_depth=7 | valid_loss=0.76559 (iters=1)\n",
      "eta=0.83099, max_depth=8 | valid_loss=0.75786 (iters=2)\n",
      "eta=0.85045, max_depth=1 | valid_loss=0.74823 (iters=10)\n",
      "eta=0.85045, max_depth=2 | valid_loss=0.72647 (iters=2)\n",
      "eta=0.85045, max_depth=3 | valid_loss=0.72455 (iters=1)\n",
      "eta=0.85045, max_depth=4 | valid_loss=0.71216 (iters=1)\n",
      "eta=0.85045, max_depth=5 | valid_loss=0.71754 (iters=1)\n",
      "eta=0.85045, max_depth=6 | valid_loss=0.75870 (iters=0)\n",
      "eta=0.85045, max_depth=7 | valid_loss=0.76017 (iters=1)\n",
      "eta=0.85045, max_depth=8 | valid_loss=0.75310 (iters=1)\n",
      "eta=0.87036, max_depth=1 | valid_loss=0.74772 (iters=14)\n",
      "eta=0.87036, max_depth=2 | valid_loss=0.72553 (iters=2)\n",
      "eta=0.87036, max_depth=3 | valid_loss=0.72606 (iters=1)\n",
      "eta=0.87036, max_depth=4 | valid_loss=0.71342 (iters=1)\n",
      "eta=0.87036, max_depth=5 | valid_loss=0.71775 (iters=1)\n",
      "eta=0.87036, max_depth=6 | valid_loss=0.73983 (iters=1)\n",
      "eta=0.87036, max_depth=7 | valid_loss=0.76377 (iters=1)\n",
      "eta=0.87036, max_depth=8 | valid_loss=0.76171 (iters=1)\n",
      "eta=0.89074, max_depth=1 | valid_loss=0.74077 (iters=16)\n",
      "eta=0.89074, max_depth=2 | valid_loss=0.72668 (iters=2)\n",
      "eta=0.89074, max_depth=3 | valid_loss=0.72872 (iters=2)\n",
      "eta=0.89074, max_depth=4 | valid_loss=0.72046 (iters=1)\n",
      "eta=0.89074, max_depth=5 | valid_loss=0.70396 (iters=1)\n",
      "eta=0.89074, max_depth=6 | valid_loss=0.74805 (iters=1)\n",
      "eta=0.89074, max_depth=7 | valid_loss=0.76792 (iters=0)\n",
      "eta=0.89074, max_depth=8 | valid_loss=0.76421 (iters=1)\n",
      "eta=0.91159, max_depth=1 | valid_loss=0.74221 (iters=15)\n",
      "eta=0.91159, max_depth=2 | valid_loss=0.73701 (iters=4)\n",
      "eta=0.91159, max_depth=3 | valid_loss=0.73244 (iters=2)\n",
      "eta=0.91159, max_depth=4 | valid_loss=0.72201 (iters=1)\n",
      "eta=0.91159, max_depth=5 | valid_loss=0.71753 (iters=1)\n",
      "eta=0.91159, max_depth=6 | valid_loss=0.75909 (iters=0)\n",
      "eta=0.91159, max_depth=7 | valid_loss=0.76923 (iters=0)\n",
      "eta=0.91159, max_depth=8 | valid_loss=0.78623 (iters=0)\n",
      "eta=0.93293, max_depth=1 | valid_loss=0.73035 (iters=12)\n",
      "eta=0.93293, max_depth=2 | valid_loss=0.72976 (iters=2)\n",
      "eta=0.93293, max_depth=3 | valid_loss=0.73482 (iters=1)\n",
      "eta=0.93293, max_depth=4 | valid_loss=0.71409 (iters=1)\n",
      "eta=0.93293, max_depth=5 | valid_loss=0.71915 (iters=0)\n",
      "eta=0.93293, max_depth=6 | valid_loss=0.75900 (iters=1)\n",
      "eta=0.93293, max_depth=7 | valid_loss=0.77109 (iters=0)\n",
      "eta=0.93293, max_depth=8 | valid_loss=0.78836 (iters=0)\n",
      "eta=0.95477, max_depth=1 | valid_loss=0.73109 (iters=12)\n",
      "eta=0.95477, max_depth=2 | valid_loss=0.73597 (iters=5)\n",
      "eta=0.95477, max_depth=3 | valid_loss=0.73636 (iters=1)\n",
      "eta=0.95477, max_depth=4 | valid_loss=0.73089 (iters=1)\n",
      "eta=0.95477, max_depth=5 | valid_loss=0.71408 (iters=1)\n",
      "eta=0.95477, max_depth=6 | valid_loss=0.76193 (iters=0)\n",
      "eta=0.95477, max_depth=7 | valid_loss=0.77356 (iters=0)\n",
      "eta=0.95477, max_depth=8 | valid_loss=0.79107 (iters=0)\n",
      "eta=0.97712, max_depth=1 | valid_loss=0.73147 (iters=12)\n",
      "eta=0.97712, max_depth=2 | valid_loss=0.73995 (iters=1)\n",
      "eta=0.97712, max_depth=3 | valid_loss=0.74328 (iters=1)\n",
      "eta=0.97712, max_depth=4 | valid_loss=0.73237 (iters=0)\n",
      "eta=0.97712, max_depth=5 | valid_loss=0.71925 (iters=0)\n",
      "eta=0.97712, max_depth=6 | valid_loss=0.75920 (iters=1)\n",
      "eta=0.97712, max_depth=7 | valid_loss=0.77664 (iters=0)\n",
      "eta=0.97712, max_depth=8 | valid_loss=0.79440 (iters=0)\n",
      "eta=1.00000, max_depth=1 | valid_loss=0.71885 (iters=17)\n",
      "eta=1.00000, max_depth=2 | valid_loss=0.74081 (iters=1)\n",
      "eta=1.00000, max_depth=3 | valid_loss=0.73407 (iters=1)\n",
      "eta=1.00000, max_depth=4 | valid_loss=0.73255 (iters=0)\n",
      "eta=1.00000, max_depth=5 | valid_loss=0.72016 (iters=0)\n",
      "eta=1.00000, max_depth=6 | valid_loss=0.76717 (iters=0)\n",
      "eta=1.00000, max_depth=7 | valid_loss=0.78039 (iters=0)\n"
     ]
    },
    {
     "name": "stdout",
     "output_type": "stream",
     "text": [
      "eta=1.00000, max_depth=8 | valid_loss=0.79837 (iters=0)\n"
     ]
    }
   ],
   "source": [
    "# Perform grid search\n",
    "data_out = 'data_xgb_04CrimeUnnormalized'\n",
    "df_grid_loss = pd.DataFrame(columns = ['eta', 'max_depth', 'valid_loss'], \n",
    "                            index = range(len(grid_param)))\n",
    "i = 0\n",
    "for eta, max_depth in grid_param:\n",
    "    param[0] = ('eta', eta)\n",
    "    param[1] = ('max_depth', max_depth)\n",
    "    \n",
    "    xgb_clf = xgb.train(param, dtrain, \n",
    "                        num_boost_round = 5000, \n",
    "                        evals = valid_list, \n",
    "                        early_stopping_rounds = 20, \n",
    "                        verbose_eval = False)\n",
    "    \n",
    "    print(\"eta={:.5f}, max_depth={} | valid_loss={:.5f} (iters={})\".format(eta, \n",
    "                                                                          max_depth, \n",
    "                                                                          xgb_clf.best_score, \n",
    "                                                                          xgb_clf.best_iteration))\n",
    "    df_grid_loss.iloc[i,:] = [eta, max_depth, xgb_clf.best_score]\n",
    "    i += 1\n",
    "    \n",
    "# .save grid search results\n",
    "    df_grid_loss.to_csv(os.path.join(data_out, 'df_grid_loss01.csv'), index=None)"
   ]
  },
  {
   "cell_type": "code",
   "execution_count": 354,
   "metadata": {
    "ExecuteTime": {
     "end_time": "2021-02-05T21:50:06.653642Z",
     "start_time": "2021-02-05T21:50:06.646830Z"
    },
    "code_folding": [
     0
    ]
   },
   "outputs": [
    {
     "name": "stdout",
     "output_type": "stream",
     "text": [
      "Best parameters:\n",
      "- Best eta = 0.099\n",
      "- Best max_depth = 4\n",
      "- Best valid loss = 0.651907\n"
     ]
    }
   ],
   "source": [
    "# Display grid search results\n",
    "data_out = 'data_xgb_04CrimeUnnormalized'\n",
    "df_grid_loss = pd.read_csv(os.path.join(data_out, 'df_grid_loss01.csv'))\n",
    "\n",
    "idx = df_grid_loss.valid_loss.idxmin()\n",
    "best_eta   = df_grid_loss.iloc[idx, 0]\n",
    "best_depth = df_grid_loss.iloc[idx, 1]\n",
    "best_loss  = df_grid_loss.iloc[idx, 2]\n",
    "print(\"Best parameters:\")\n",
    "print(\"- Best eta = {:.3f}\".format(best_eta))\n",
    "print(\"- Best max_depth = {}\".format(best_depth))\n",
    "print(\"- Best valid loss = {}\".format(best_loss))"
   ]
  },
  {
   "cell_type": "code",
   "execution_count": 355,
   "metadata": {
    "ExecuteTime": {
     "end_time": "2021-02-05T21:50:06.785579Z",
     "start_time": "2021-02-05T21:50:06.656588Z"
    },
    "code_folding": [
     0
    ]
   },
   "outputs": [
    {
     "data": {
      "image/png": "[encoded data removed]",
      "text/plain": [
       "<Figure size 576x432 with 1 Axes>"
      ]
     },
     "metadata": {
      "needs_background": "light"
     },
     "output_type": "display_data"
    }
   ],
   "source": [
    "# Plot Loss vs point in grid search\n",
    "data_out = 'data_xgb_04CrimeUnnormalized'\n",
    "df_grid_loss = pd.read_csv(os.path.join(data_out, 'df_grid_loss01.csv'))\n",
    "fig, axes = plt.subplots(figsize=(8,6))\n",
    "axes.scatter(df_grid_loss.index, df_grid_loss['valid_loss'])\n",
    "axes.plot(df_grid_loss.index, df_grid_loss['valid_loss'])\n",
    "axes.set_xlabel(\"grid search point\")\n",
    "axes.set_ylabel(\"Valid loss\")\n",
    "plt.show()"
   ]
  },
  {
   "cell_type": "code",
   "execution_count": 356,
   "metadata": {
    "ExecuteTime": {
     "end_time": "2021-02-05T21:50:06.961453Z",
     "start_time": "2021-02-05T21:50:06.787716Z"
    },
    "code_folding": [
     0
    ],
    "scrolled": true
   },
   "outputs": [
    {
     "name": "stdout",
     "output_type": "stream",
     "text": [
      "[0]\ttrain-rmse:1.04755\tvalid-rmse:1.05205\n",
      "Multiple eval metrics have been passed: 'valid-rmse' will be used for early stopping.\n",
      "\n",
      "Will train until valid-rmse hasn't improved in 50 rounds.\n",
      "[1]\ttrain-rmse:0.98577\tvalid-rmse:0.99706\n",
      "[2]\ttrain-rmse:0.93102\tvalid-rmse:0.94959\n",
      "[3]\ttrain-rmse:0.88364\tvalid-rmse:0.91127\n",
      "[4]\ttrain-rmse:0.84085\tvalid-rmse:0.87531\n",
      "[5]\ttrain-rmse:0.80462\tvalid-rmse:0.84541\n",
      "[6]\ttrain-rmse:0.76941\tvalid-rmse:0.81702\n",
      "[7]\ttrain-rmse:0.73690\tvalid-rmse:0.79481\n",
      "[8]\ttrain-rmse:0.70976\tvalid-rmse:0.76982\n",
      "[9]\ttrain-rmse:0.68656\tvalid-rmse:0.75342\n",
      "[10]\ttrain-rmse:0.66290\tvalid-rmse:0.73741\n",
      "[11]\ttrain-rmse:0.64332\tvalid-rmse:0.72667\n",
      "[12]\ttrain-rmse:0.62448\tvalid-rmse:0.71692\n",
      "[13]\ttrain-rmse:0.60788\tvalid-rmse:0.70644\n",
      "[14]\ttrain-rmse:0.59215\tvalid-rmse:0.70077\n",
      "[15]\ttrain-rmse:0.57899\tvalid-rmse:0.69444\n",
      "[16]\ttrain-rmse:0.56876\tvalid-rmse:0.68833\n",
      "[17]\ttrain-rmse:0.55732\tvalid-rmse:0.68322\n",
      "[18]\ttrain-rmse:0.54753\tvalid-rmse:0.67870\n",
      "[19]\ttrain-rmse:0.53780\tvalid-rmse:0.67315\n",
      "[20]\ttrain-rmse:0.52774\tvalid-rmse:0.67029\n",
      "[21]\ttrain-rmse:0.51888\tvalid-rmse:0.66867\n",
      "[22]\ttrain-rmse:0.51023\tvalid-rmse:0.66702\n",
      "[23]\ttrain-rmse:0.50193\tvalid-rmse:0.66554\n",
      "[24]\ttrain-rmse:0.49539\tvalid-rmse:0.66288\n",
      "[25]\ttrain-rmse:0.48865\tvalid-rmse:0.66096\n",
      "[26]\ttrain-rmse:0.48193\tvalid-rmse:0.65940\n",
      "[27]\ttrain-rmse:0.47599\tvalid-rmse:0.65887\n",
      "[28]\ttrain-rmse:0.47166\tvalid-rmse:0.65871\n",
      "[29]\ttrain-rmse:0.46744\tvalid-rmse:0.65840\n",
      "[30]\ttrain-rmse:0.46220\tvalid-rmse:0.65746\n",
      "[31]\ttrain-rmse:0.45839\tvalid-rmse:0.65767\n",
      "[32]\ttrain-rmse:0.45275\tvalid-rmse:0.65712\n",
      "[33]\ttrain-rmse:0.44819\tvalid-rmse:0.65434\n",
      "[34]\ttrain-rmse:0.44283\tvalid-rmse:0.65280\n",
      "[35]\ttrain-rmse:0.44042\tvalid-rmse:0.65191\n",
      "[36]\ttrain-rmse:0.43832\tvalid-rmse:0.65242\n",
      "[37]\ttrain-rmse:0.43518\tvalid-rmse:0.65250\n",
      "[38]\ttrain-rmse:0.43323\tvalid-rmse:0.65293\n",
      "[39]\ttrain-rmse:0.43034\tvalid-rmse:0.65304\n",
      "[40]\ttrain-rmse:0.42580\tvalid-rmse:0.65298\n",
      "[41]\ttrain-rmse:0.42044\tvalid-rmse:0.65265\n",
      "[42]\ttrain-rmse:0.41748\tvalid-rmse:0.65300\n",
      "[43]\ttrain-rmse:0.41403\tvalid-rmse:0.65387\n",
      "[44]\ttrain-rmse:0.40994\tvalid-rmse:0.65384\n",
      "[45]\ttrain-rmse:0.40592\tvalid-rmse:0.65257\n",
      "[46]\ttrain-rmse:0.40260\tvalid-rmse:0.65281\n",
      "[47]\ttrain-rmse:0.40053\tvalid-rmse:0.65297\n",
      "[48]\ttrain-rmse:0.39709\tvalid-rmse:0.65413\n",
      "[49]\ttrain-rmse:0.39504\tvalid-rmse:0.65333\n",
      "[50]\ttrain-rmse:0.39266\tvalid-rmse:0.65330\n",
      "[51]\ttrain-rmse:0.38855\tvalid-rmse:0.65298\n",
      "[52]\ttrain-rmse:0.38687\tvalid-rmse:0.65378\n",
      "[53]\ttrain-rmse:0.38577\tvalid-rmse:0.65428\n",
      "[54]\ttrain-rmse:0.38309\tvalid-rmse:0.65367\n",
      "[55]\ttrain-rmse:0.38174\tvalid-rmse:0.65353\n",
      "[56]\ttrain-rmse:0.37776\tvalid-rmse:0.65337\n",
      "[57]\ttrain-rmse:0.37588\tvalid-rmse:0.65380\n",
      "[58]\ttrain-rmse:0.37212\tvalid-rmse:0.65281\n",
      "[59]\ttrain-rmse:0.36964\tvalid-rmse:0.65413\n",
      "[60]\ttrain-rmse:0.36823\tvalid-rmse:0.65418\n",
      "[61]\ttrain-rmse:0.36737\tvalid-rmse:0.65474\n",
      "[62]\ttrain-rmse:0.36560\tvalid-rmse:0.65525\n",
      "[63]\ttrain-rmse:0.36226\tvalid-rmse:0.65504\n",
      "[64]\ttrain-rmse:0.35945\tvalid-rmse:0.65504\n",
      "[65]\ttrain-rmse:0.35785\tvalid-rmse:0.65571\n",
      "[66]\ttrain-rmse:0.35670\tvalid-rmse:0.65558\n",
      "[67]\ttrain-rmse:0.35478\tvalid-rmse:0.65499\n",
      "[68]\ttrain-rmse:0.35274\tvalid-rmse:0.65548\n",
      "[69]\ttrain-rmse:0.34986\tvalid-rmse:0.65524\n",
      "[70]\ttrain-rmse:0.34919\tvalid-rmse:0.65587\n",
      "[71]\ttrain-rmse:0.34624\tvalid-rmse:0.65541\n",
      "[72]\ttrain-rmse:0.34438\tvalid-rmse:0.65569\n",
      "[73]\ttrain-rmse:0.34321\tvalid-rmse:0.65531\n",
      "[74]\ttrain-rmse:0.34151\tvalid-rmse:0.65595\n",
      "[75]\ttrain-rmse:0.33982\tvalid-rmse:0.65644\n",
      "[76]\ttrain-rmse:0.33831\tvalid-rmse:0.65683\n",
      "[77]\ttrain-rmse:0.33732\tvalid-rmse:0.65687\n",
      "[78]\ttrain-rmse:0.33550\tvalid-rmse:0.65665\n",
      "[79]\ttrain-rmse:0.33445\tvalid-rmse:0.65660\n",
      "[80]\ttrain-rmse:0.33218\tvalid-rmse:0.65746\n",
      "[81]\ttrain-rmse:0.33148\tvalid-rmse:0.65757\n",
      "[82]\ttrain-rmse:0.33020\tvalid-rmse:0.65720\n",
      "[83]\ttrain-rmse:0.32860\tvalid-rmse:0.65725\n",
      "[84]\ttrain-rmse:0.32603\tvalid-rmse:0.65869\n",
      "[85]\ttrain-rmse:0.32406\tvalid-rmse:0.65926\n",
      "Stopping. Best iteration:\n",
      "[35]\ttrain-rmse:0.44042\tvalid-rmse:0.65191\n",
      "\n"
     ]
    }
   ],
   "source": [
    "# Train with best hyperparameters\n",
    "param[0] = ('eta', best_eta)\n",
    "param[1] = ('max_depth', best_depth)\n",
    "\n",
    "evals_result = {}\n",
    "xgb_clf = xgb.train(param, dtrain, \n",
    "                    num_boost_round = 5000, \n",
    "                    evals = valid_list, \n",
    "                    early_stopping_rounds = 50, \n",
    "                    verbose_eval = True, \n",
    "                    evals_result=evals_result)"
   ]
  },
  {
   "cell_type": "code",
   "execution_count": 357,
   "metadata": {
    "ExecuteTime": {
     "end_time": "2021-02-05T21:50:07.108801Z",
     "start_time": "2021-02-05T21:50:06.963048Z"
    },
    "code_folding": [
     0
    ]
   },
   "outputs": [
    {
     "data": {
      "image/png": "[encoded data removed]",
      "text/plain": [
       "<Figure size 432x288 with 1 Axes>"
      ]
     },
     "metadata": {
      "needs_background": "light"
     },
     "output_type": "display_data"
    }
   ],
   "source": [
    "# Plot of train/valid loss vs iter\n",
    "fig, axes = plt.subplots(figsize=(6,4))\n",
    "axes.plot(evals_result['train']['rmse'], label=\"train\")\n",
    "axes.plot(evals_result['valid']['rmse'], label=\"valid\")\n",
    "axes.legend()\n",
    "axes.set_ylabel(\"loss\")\n",
    "axes.set_xlabel(\"iteration\")\n",
    "# axes.set_xticks(np.arange(0, len(evals_result['train']['logloss']), 1))\n",
    "plt.show()"
   ]
  },
  {
   "cell_type": "code",
   "execution_count": 358,
   "metadata": {
    "ExecuteTime": {
     "end_time": "2021-02-05T21:50:07.130943Z",
     "start_time": "2021-02-05T21:50:07.110505Z"
    },
    "code_folding": [
     0
    ]
   },
   "outputs": [
    {
     "name": "stdout",
     "output_type": "stream",
     "text": [
      "model saved at: 'data_xgb_04CrimeUnnormalized/xgb_model01.json'\n",
      "best params saved at: 'data_xgb_04CrimeUnnormalized/xgb_best_params01.json'\n"
     ]
    }
   ],
   "source": [
    "# Save model and model's best params\n",
    "data_out = 'data_xgb_04CrimeUnnormalized'\n",
    "xgb_clf.save_model(os.path.join(data_out, 'xgb_model01.json'))\n",
    "print(\"model saved at: '{}'\".format(os.path.join(data_out, 'xgb_model01.json')))\n",
    "\n",
    "best_params = {}\n",
    "best_params['best_eta'] = best_eta\n",
    "best_params['best_depth'] = int(best_depth)\n",
    "with open(os.path.join(data_out, 'xgb_best_params01.json'), 'w') as f:\n",
    "    json.dump(best_params, f)\n",
    "print(\"best params saved at: '{}'\".format(os.path.join(data_out, 'xgb_best_params01.json')))"
   ]
  },
  {
   "cell_type": "code",
   "execution_count": 359,
   "metadata": {
    "ExecuteTime": {
     "end_time": "2021-02-05T21:50:07.136692Z",
     "start_time": "2021-02-05T21:50:07.132667Z"
    },
    "code_folding": [
     0
    ]
   },
   "outputs": [
    {
     "name": "stdout",
     "output_type": "stream",
     "text": [
      "feature map saved at: 'data_xgb_04CrimeUnnormalized/xgb_model_fmap01.txt'\n"
     ]
    }
   ],
   "source": [
    "# Save feature map\n",
    "def ceate_feature_map(features, data_out):\n",
    "    f = open(os.path.join(data_out, 'xgb_model_fmap01.txt'), 'w')\n",
    "    i = 0\n",
    "    for feat in features:\n",
    "        f.write('{0}\\t{1}\\tq\\n'.format(i, feat))\n",
    "        i = i + 1\n",
    "    f.close()\n",
    "\n",
    "data_out = 'data_xgb_04CrimeUnnormalized'\n",
    "ceate_feature_map(cols_all1, data_out)\n",
    "print(\"feature map saved at: '{}'\".format(os.path.join(data_out, 'xgb_model_fmap01.txt')))"
   ]
  },
  {
   "cell_type": "code",
   "execution_count": 360,
   "metadata": {
    "ExecuteTime": {
     "end_time": "2021-02-05T21:50:07.168940Z",
     "start_time": "2021-02-05T21:50:07.140023Z"
    },
    "code_folding": [
     0
    ]
   },
   "outputs": [
    {
     "name": "stdout",
     "output_type": "stream",
     "text": [
      "model results saved at: 'data_xgb_04CrimeUnnormalized/results_target_xgb01.csv'\n"
     ]
    },
    {
     "data": {
      "text/html": [
       "<div>\n",
       "<style scoped>\n",
       "    .dataframe tbody tr th:only-of-type {\n",
       "        vertical-align: middle;\n",
       "    }\n",
       "\n",
       "    .dataframe tbody tr th {\n",
       "        vertical-align: top;\n",
       "    }\n",
       "\n",
       "    .dataframe thead th {\n",
       "        text-align: right;\n",
       "    }\n",
       "</style>\n",
       "<table border=\"1\" class=\"dataframe\">\n",
       "  <thead>\n",
       "    <tr style=\"text-align: right;\">\n",
       "      <th></th>\n",
       "      <th>mse</th>\n",
       "      <th>r2</th>\n",
       "    </tr>\n",
       "  </thead>\n",
       "  <tbody>\n",
       "    <tr>\n",
       "      <th>train</th>\n",
       "      <td>0.105017</td>\n",
       "      <td>0.894983</td>\n",
       "    </tr>\n",
       "    <tr>\n",
       "      <th>valid</th>\n",
       "      <td>0.434618</td>\n",
       "      <td>0.545479</td>\n",
       "    </tr>\n",
       "    <tr>\n",
       "      <th>test</th>\n",
       "      <td>0.404822</td>\n",
       "      <td>0.511957</td>\n",
       "    </tr>\n",
       "  </tbody>\n",
       "</table>\n",
       "</div>"
      ],
      "text/plain": [
       "            mse        r2\n",
       "train  0.105017  0.894983\n",
       "valid  0.434618  0.545479\n",
       "test   0.404822  0.511957"
      ]
     },
     "execution_count": 360,
     "metadata": {},
     "output_type": "execute_result"
    }
   ],
   "source": [
    "# Find MSE, R2, Accuracy, etc...\n",
    "data_out = 'data_xgb_04CrimeUnnormalized'\n",
    "model = xgb.Booster(model_file=os.path.join(data_out, 'xgb_model01.json'))\n",
    "df_results = pd.DataFrame(index=['train', 'valid', 'test'], \n",
    "                           columns=['mse', 'r2'])\n",
    "\n",
    "ypred = model.predict(dtrain)\n",
    "df_results.loc['train', 'mse'] = mean_squared_error(ytrain, ypred, squared=True)\n",
    "df_results.loc['train', 'r2']   = r2_score(ytrain, ypred)\n",
    "\n",
    "ypred = model.predict(dvalid)\n",
    "df_results.loc['valid', 'mse'] = mean_squared_error(yvalid, ypred, squared=True)\n",
    "df_results.loc['valid', 'r2']   = r2_score(yvalid, ypred)\n",
    "\n",
    "ypred = model.predict(dtest)\n",
    "df_results.loc['test', 'mse'] = mean_squared_error(ytest, ypred, squared=True)\n",
    "df_results.loc['test', 'r2']   = r2_score(ytest, ypred)\n",
    "\n",
    "# Save data\n",
    "df_results.to_csv(os.path.join(data_out, 'results_target_xgb01.csv'), index=True)\n",
    "print(\"model results saved at: '{}'\".format(os.path.join(data_out, 'results_target_xgb01.csv')))\n",
    "df_results.head()"
   ]
  },
  {
   "cell_type": "code",
   "execution_count": 368,
   "metadata": {
    "ExecuteTime": {
     "end_time": "2021-02-05T21:59:16.885123Z",
     "start_time": "2021-02-05T21:59:01.491849Z"
    },
    "code_folding": [
     0
    ]
   },
   "outputs": [
    {
     "data": {
      "application/vnd.jupyter.widget-view+json": {
       "model_id": "7296d55a67474630ac71f90318fcde1d",
       "version_major": 2,
       "version_minor": 0
      },
      "text/plain": [
       "HBox(children=(HTML(value='Partitions loop'), FloatProgress(value=0.0), HTML(value='')))"
      ]
     },
     "metadata": {},
     "output_type": "display_data"
    },
    {
     "name": "stdout",
     "output_type": "stream",
     "text": [
      "\n"
     ]
    }
   ],
   "source": [
    "# Find Accuracy +/- STD\n",
    "data_out = 'data_xgb_04CrimeUnnormalized'\n",
    "df_results = pd.DataFrame(columns=['train_mse', 'valid_mse', 'test_mse', \\\n",
    "                                   'train_r2', 'valid_r2', 'test_r2'])\n",
    "\n",
    "with open(os.path.join(data_out, 'xgb_best_params01.json')) as f:\n",
    "    best_params = json.load(f)\n",
    "param = [('eta', best_params['best_eta']), \n",
    "         ('max_depth', best_params['best_depth']), \n",
    "         ('objective', 'reg:squarederror'), \n",
    "         ('nthread', 16),\n",
    "         ('eval_metric', 'rmse')\n",
    "]\n",
    "\n",
    "partitions = 100\n",
    "iterator = tqdm.notebook.tqdm(range(1, partitions + 1), desc='Partitions loop')\n",
    "for n in iterator:\n",
    "    X = pd.read_csv('dataset_04CrimeUnnormalized/X1.csv')\n",
    "    y = pd.read_csv('dataset_04CrimeUnnormalized/y1.csv')\n",
    "    split_data(X, y, seed1=seed1[n], seed2=seed2[n])\n",
    "    \n",
    "# .normalize data sets\n",
    "    scaler = StandardScaler()\n",
    "    scaler.fit(xtrain)\n",
    "    xtrain = scaler.transform(xtrain)\n",
    "    xvalid = scaler.transform(xvalid)\n",
    "    xtest  = scaler.transform(xtest)\n",
    "\n",
    "    scaler = StandardScaler()\n",
    "    scaler.fit(ytrain)\n",
    "    ytrain = scaler.transform(ytrain)\n",
    "    yvalid = scaler.transform(yvalid)\n",
    "    ytest  = scaler.transform(ytest)\n",
    "    \n",
    "# .build DMatrices\n",
    "    dtrain = xgb.DMatrix(data=xtrain, label=ytrain, nthread=16)\n",
    "    dvalid = xgb.DMatrix(data=xvalid, label=yvalid, nthread=16)\n",
    "    dtest  = xgb.DMatrix(data=xtest,  label=ytest,  nthread=16)\n",
    "    valid_list = [(dtrain, 'train'), (dvalid, 'valid')]\n",
    "\n",
    "# .train model\n",
    "    evals_result = {}\n",
    "    model = xgb.train(param, dtrain, \n",
    "                      num_boost_round = 5000, \n",
    "                      evals = valid_list, \n",
    "                      early_stopping_rounds = 20, \n",
    "                      verbose_eval = False, \n",
    "                      evals_result=evals_result)\n",
    "    \n",
    "# .compute/save accuracy\n",
    "    ypred = model.predict(dtrain)\n",
    "    df_results.loc[n, 'train_mse'] = mean_squared_error(ytrain, ypred, squared=True)\n",
    "    df_results.loc[n, 'train_r2']   = r2_score(ytrain, ypred)\n",
    "\n",
    "    ypred = model.predict(dvalid)\n",
    "    df_results.loc[n, 'valid_mse'] = mean_squared_error(yvalid, ypred, squared=True)\n",
    "    df_results.loc[n, 'valid_r2']   = r2_score(yvalid, ypred)\n",
    "\n",
    "    ypred = model.predict(dtest)\n",
    "    df_results.loc[n, 'test_mse'] = mean_squared_error(ytest, ypred, squared=True)\n",
    "    df_results.loc[n, 'test_r2']   = r2_score(ytest, ypred)\n",
    "\n",
    "    model.save_model(os.path.join(data_out, 'xgb_model01_'+str(n)+'.json'))\n",
    "    df_results.to_csv(os.path.join(data_out, 'accuracy_xgb01.csv'), index=None)"
   ]
  },
  {
   "cell_type": "code",
   "execution_count": 369,
   "metadata": {
    "ExecuteTime": {
     "end_time": "2021-02-05T21:59:19.982219Z",
     "start_time": "2021-02-05T21:59:19.974315Z"
    },
    "code_folding": [
     0
    ]
   },
   "outputs": [
    {
     "name": "stdout",
     "output_type": "stream",
     "text": [
      "Train mse = 0.119 +/- 0.028\n",
      "Valid mse = 0.489 +/- 0.123\n",
      "Test mse = 0.477 +/- 0.105\n",
      "\n",
      "Train r2 = 0.881 +/- 0.028\n",
      "Valid r2 = 0.514 +/- 0.061\n",
      "Test r2 = 0.525 +/- 0.054\n"
     ]
    }
   ],
   "source": [
    "# Display results\n",
    "data_out = 'data_xgb_04CrimeUnnormalized'\n",
    "accuracy_xgb = pd.read_csv(os.path.join(data_out, 'accuracy_xgb01.csv'))\n",
    "print(\"Train mse = {:.3f} +/- {:.3f}\".format(accuracy_xgb['train_mse'].mean(), \n",
    "                                              accuracy_xgb['train_mse'].std()))\n",
    "print(\"Valid mse = {:.3f} +/- {:.3f}\".format(accuracy_xgb['valid_mse'].mean(), \n",
    "                                              accuracy_xgb['valid_mse'].std()))\n",
    "print(\"Test mse = {:.3f} +/- {:.3f}\".format(accuracy_xgb['test_mse'].mean(), \n",
    "                                             accuracy_xgb['test_mse'].std()))\n",
    "\n",
    "print(\"\")\n",
    "print(\"Train r2 = {:.3f} +/- {:.3f}\".format(accuracy_xgb['train_r2'].mean(), \n",
    "                                            accuracy_xgb['train_r2'].std()))\n",
    "print(\"Valid r2 = {:.3f} +/- {:.3f}\".format(accuracy_xgb['valid_r2'].mean(), \n",
    "                                            accuracy_xgb['valid_r2'].std()))\n",
    "print(\"Test r2 = {:.3f} +/- {:.3f}\".format(accuracy_xgb['test_r2'].mean(), \n",
    "                                           accuracy_xgb['test_r2'].std()))"
   ]
  },
  {
   "cell_type": "markdown",
   "metadata": {},
   "source": [
    "### Lockout"
   ]
  },
  {
   "cell_type": "code",
   "execution_count": 25,
   "metadata": {
    "ExecuteTime": {
     "end_time": "2021-03-03T08:12:30.915632Z",
     "start_time": "2021-03-03T08:12:30.912640Z"
    },
    "code_folding": [
     0
    ]
   },
   "outputs": [],
   "source": [
    "# Normalize Data Set\n",
    "def normalize_data():\n",
    "    \"\"\"\n",
    "    \"\"\"\n",
    "    global xtrain, xvalid, xtest, ytrain, yvalid, ytest\n",
    "    scaler = StandardScaler()\n",
    "    scaler.fit(xtrain.numpy())\n",
    "    xtrain = torch.from_numpy(scaler.transform(xtrain.numpy()))\n",
    "    xvalid = torch.from_numpy(scaler.transform(xvalid.numpy()))\n",
    "    xtest = torch.from_numpy(scaler.transform(xtest.numpy()))\n",
    "    \n",
    "    scaler = StandardScaler()\n",
    "    scaler.fit(ytrain.numpy())\n",
    "    ytrain = torch.from_numpy(scaler.transform(ytrain.numpy()))\n",
    "    yvalid = torch.from_numpy(scaler.transform(yvalid.numpy()))\n",
    "    ytest = torch.from_numpy(scaler.transform(ytest.numpy()))"
   ]
  },
  {
   "cell_type": "code",
   "execution_count": 26,
   "metadata": {
    "ExecuteTime": {
     "end_time": "2021-03-03T08:12:32.839612Z",
     "start_time": "2021-03-03T08:12:32.836145Z"
    },
    "code_folding": [
     0
    ]
   },
   "outputs": [],
   "source": [
    "# Save output data\n",
    "def save_output(data_out, f1, f2, f3, new_folder=False):\n",
    "    \"\"\"\n",
    "    \"\"\"\n",
    "# Save relevant data\n",
    "    if new_folder == True:\n",
    "        dirs = os.listdir()\n",
    "        if data_out in dirs:\n",
    "            print(\"'{}' directory deleted.\".format(data_out))\n",
    "            shutil.rmtree(data_out)\n",
    "            print(\"'{}' directory created.\\n\".format(data_out))\n",
    "            os.mkdir(data_out)\n",
    "        else:\n",
    "            print(\"'{}' directory created.\\n\".format(data_out))\n",
    "            os.mkdir(data_out)\n",
    "# \n",
    "    train_loss.to_csv(os.path.join(data_out, f1), index=False)\n",
    "    valid_loss.to_csv(os.path.join(data_out, f2), index=False)\n",
    "    print(\"'{}' saved.\".format(f1))\n",
    "    print(\"'{}' saved.\".format(f2))\n",
    "\n",
    "    for m in f3:\n",
    "        shutil.move(m, os.path.join(data_out, m))\n",
    "        print(\"'{}' saved.\".format(m))"
   ]
  },
  {
   "cell_type": "markdown",
   "metadata": {},
   "source": [
    "#### Target 1: l1=5, l2=1; lockout=l1"
   ]
  },
  {
   "cell_type": "code",
   "execution_count": 27,
   "metadata": {
    "ExecuteTime": {
     "end_time": "2021-03-03T08:12:37.338130Z",
     "start_time": "2021-03-03T08:12:37.336018Z"
    },
    "code_folding": [
     0
    ]
   },
   "outputs": [],
   "source": [
    "# Set layers where lockdown is to be applied\n",
    "def get_lockdown_layers(model):\n",
    "    layers = [model.classifier[0]]\n",
    "    return layers"
   ]
  },
  {
   "cell_type": "code",
   "execution_count": 28,
   "metadata": {
    "ExecuteTime": {
     "end_time": "2021-03-03T08:12:39.689720Z",
     "start_time": "2021-03-03T08:12:39.686967Z"
    },
    "code_folding": [
     0
    ]
   },
   "outputs": [],
   "source": [
    "# NN architecture with its corresponding forward method\n",
    "class MyNet(nn.Module):\n",
    "    \n",
    "# .Network architecture\n",
    "    def __init__(self, features, layer_sizes):\n",
    "        super(MyNet, self).__init__()\n",
    "        \n",
    "        self.classifier = nn.Sequential(\n",
    "            nn.Linear(features, layer_sizes[0], bias=True),\n",
    "            nn.ReLU(inplace=True),\n",
    "            nn.Linear(layer_sizes[0], layer_sizes[1], bias=True)\n",
    "        )\n",
    "\n",
    "# .Forward function\n",
    "    def forward(self, x):\n",
    "        x = self.classifier(x)\n",
    "        return x"
   ]
  },
  {
   "cell_type": "code",
   "execution_count": 10,
   "metadata": {
    "ExecuteTime": {
     "end_time": "2021-02-25T22:42:17.257863Z",
     "start_time": "2021-02-25T22:42:17.251158Z"
    },
    "code_folding": [
     0
    ]
   },
   "outputs": [],
   "source": [
    "# Grid search space\n",
    "grid_lrs = np.geomspace(5e-4, 1e-1, num=10)\n",
    "df_grid_loss = pd.DataFrame(columns = ['lr', 'valid_mse', 'valid_r2'], \n",
    "                            index=range(len(grid_lrs)))"
   ]
  },
  {
   "cell_type": "code",
   "execution_count": 22,
   "metadata": {
    "ExecuteTime": {
     "end_time": "2021-02-26T03:12:54.436303Z",
     "start_time": "2021-02-25T23:02:32.109017Z"
    },
    "code_folding": [
     0
    ],
    "scrolled": true
   },
   "outputs": [
    {
     "name": "stdout",
     "output_type": "stream",
     "text": [
      "- train minibatches = 1\n",
      "- valid minibatches = 1\n",
      "- test minibatches = 1\n"
     ]
    },
    {
     "data": {
      "application/vnd.jupyter.widget-view+json": {
       "model_id": "053734d7384643088c38a07d065d60b9",
       "version_major": 2,
       "version_minor": 0
      },
      "text/plain": [
       "lr-grid loop:   0%|          | 0/10 [00:00<?, ?it/s]"
      ]
     },
     "metadata": {},
     "output_type": "display_data"
    },
    {
     "data": {
      "application/vnd.jupyter.widget-view+json": {
       "model_id": "2e2f855bdc464e66b5d5e55ff6e0a748",
       "version_major": 2,
       "version_minor": 0
      },
      "text/plain": [
       "Epochs loop:   0%|          | 0/50000 [00:00<?, ?it/s]"
      ]
     },
     "metadata": {},
     "output_type": "display_data"
    },
    {
     "name": "stdout",
     "output_type": "stream",
     "text": [
      "Summary:\n",
      "-learning rate = 0.00050\n",
      "-Model saved after iteration 19502.\n",
      "-Train.  Loss=0.3900676\n",
      "-Valid.  Loss=0.4102198\n",
      "\n",
      "Best train loss = 0.3413342\n",
      "\n",
      "'train_loss01_1.csv' saved.\n",
      "'valid_loss01_1.csv' saved.\n",
      "'model04_forward01_1_last.pth' saved.\n",
      "'model04_forward01_1_best.pth' saved.\n"
     ]
    },
    {
     "data": {
      "application/vnd.jupyter.widget-view+json": {
       "model_id": "c7159c65e2a649899dc1d643bc2c5f89",
       "version_major": 2,
       "version_minor": 0
      },
      "text/plain": [
       "Epochs loop:   0%|          | 0/50000 [00:00<?, ?it/s]"
      ]
     },
     "metadata": {},
     "output_type": "display_data"
    },
    {
     "name": "stdout",
     "output_type": "stream",
     "text": [
      "Summary:\n",
      "-learning rate = 0.00090\n",
      "-Model saved after iteration 10840.\n",
      "-Train.  Loss=0.3900068\n",
      "-Valid.  Loss=0.4102201\n",
      "\n",
      "Best train loss = 0.3051211\n",
      "\n",
      "'train_loss01_2.csv' saved.\n",
      "'valid_loss01_2.csv' saved.\n",
      "'model04_forward01_2_last.pth' saved.\n",
      "'model04_forward01_2_best.pth' saved.\n"
     ]
    },
    {
     "data": {
      "application/vnd.jupyter.widget-view+json": {
       "model_id": "01c21f1e0264472f9c61d35d02a61a77",
       "version_major": 2,
       "version_minor": 0
      },
      "text/plain": [
       "Epochs loop:   0%|          | 0/50000 [00:00<?, ?it/s]"
      ]
     },
     "metadata": {},
     "output_type": "display_data"
    },
    {
     "name": "stdout",
     "output_type": "stream",
     "text": [
      "Summary:\n",
      "-learning rate = 0.00162\n",
      "-Model saved after iteration 6024.\n",
      "-Train.  Loss=0.3899611\n",
      "-Valid.  Loss=0.4102168\n",
      "\n",
      "Best train loss = 0.2739020\n",
      "\n",
      "'train_loss01_3.csv' saved.\n",
      "'valid_loss01_3.csv' saved.\n",
      "'model04_forward01_3_last.pth' saved.\n",
      "'model04_forward01_3_best.pth' saved.\n"
     ]
    },
    {
     "data": {
      "application/vnd.jupyter.widget-view+json": {
       "model_id": "ae35337baaf04fa893343917e3593481",
       "version_major": 2,
       "version_minor": 0
      },
      "text/plain": [
       "Epochs loop:   0%|          | 0/50000 [00:00<?, ?it/s]"
      ]
     },
     "metadata": {},
     "output_type": "display_data"
    },
    {
     "name": "stdout",
     "output_type": "stream",
     "text": [
      "Summary:\n",
      "-learning rate = 0.00292\n",
      "-Model saved after iteration 3343.\n",
      "-Train.  Loss=0.3899262\n",
      "-Valid.  Loss=0.4102425\n",
      "\n",
      "Best train loss = 0.2535950\n",
      "\n",
      "'train_loss01_4.csv' saved.\n",
      "'valid_loss01_4.csv' saved.\n",
      "'model04_forward01_4_last.pth' saved.\n",
      "'model04_forward01_4_best.pth' saved.\n"
     ]
    },
    {
     "data": {
      "application/vnd.jupyter.widget-view+json": {
       "model_id": "a35ed6daa8cd45eb96c6bdfccb6cd5ed",
       "version_major": 2,
       "version_minor": 0
      },
      "text/plain": [
       "Epochs loop:   0%|          | 0/50000 [00:00<?, ?it/s]"
      ]
     },
     "metadata": {},
     "output_type": "display_data"
    },
    {
     "name": "stdout",
     "output_type": "stream",
     "text": [
      "Summary:\n",
      "-learning rate = 0.00527\n",
      "-Model saved after iteration 1859.\n",
      "-Train.  Loss=0.3898750\n",
      "-Valid.  Loss=0.4102369\n",
      "\n",
      "Best train loss = 0.2343829\n",
      "\n",
      "'train_loss01_5.csv' saved.\n",
      "'valid_loss01_5.csv' saved.\n",
      "'model04_forward01_5_last.pth' saved.\n",
      "'model04_forward01_5_best.pth' saved.\n"
     ]
    },
    {
     "data": {
      "application/vnd.jupyter.widget-view+json": {
       "model_id": "2b369f12c9aa4afd9d39f6388ad0e746",
       "version_major": 2,
       "version_minor": 0
      },
      "text/plain": [
       "Epochs loop:   0%|          | 0/50000 [00:00<?, ?it/s]"
      ]
     },
     "metadata": {},
     "output_type": "display_data"
    },
    {
     "name": "stdout",
     "output_type": "stream",
     "text": [
      "Summary:\n",
      "-learning rate = 0.00949\n",
      "-Model saved after iteration 1031.\n",
      "-Train.  Loss=0.3899476\n",
      "-Valid.  Loss=0.4102698\n",
      "\n",
      "Best train loss = 0.2104113\n",
      "\n",
      "'train_loss01_6.csv' saved.\n",
      "'valid_loss01_6.csv' saved.\n",
      "'model04_forward01_6_last.pth' saved.\n",
      "'model04_forward01_6_best.pth' saved.\n"
     ]
    },
    {
     "data": {
      "application/vnd.jupyter.widget-view+json": {
       "model_id": "91e8dbb65e464794b1da4d3f6c9bf914",
       "version_major": 2,
       "version_minor": 0
      },
      "text/plain": [
       "Epochs loop:   0%|          | 0/50000 [00:00<?, ?it/s]"
      ]
     },
     "metadata": {},
     "output_type": "display_data"
    },
    {
     "name": "stdout",
     "output_type": "stream",
     "text": [
      "Summary:\n",
      "-learning rate = 0.01710\n",
      "-Model saved after iteration 569.\n",
      "-Train.  Loss=0.3902786\n",
      "-Valid.  Loss=0.4103051\n",
      "\n",
      "Best train loss = 0.2034352\n",
      "\n",
      "'train_loss01_7.csv' saved.\n",
      "'valid_loss01_7.csv' saved.\n",
      "'model04_forward01_7_last.pth' saved.\n",
      "'model04_forward01_7_best.pth' saved.\n"
     ]
    },
    {
     "data": {
      "application/vnd.jupyter.widget-view+json": {
       "model_id": "a398b2a7f31c454ab40f8a2fb085bade",
       "version_major": 2,
       "version_minor": 0
      },
      "text/plain": [
       "Epochs loop:   0%|          | 0/50000 [00:00<?, ?it/s]"
      ]
     },
     "metadata": {},
     "output_type": "display_data"
    },
    {
     "name": "stdout",
     "output_type": "stream",
     "text": [
      "Summary:\n",
      "-learning rate = 0.03081\n",
      "-Model saved after iteration 320.\n",
      "-Train.  Loss=0.3898690\n",
      "-Valid.  Loss=0.4103854\n",
      "\n",
      "Best train loss = 0.1976209\n",
      "\n",
      "'train_loss01_8.csv' saved.\n",
      "'valid_loss01_8.csv' saved.\n",
      "'model04_forward01_8_last.pth' saved.\n",
      "'model04_forward01_8_best.pth' saved.\n"
     ]
    },
    {
     "data": {
      "application/vnd.jupyter.widget-view+json": {
       "model_id": "350fce3ad9e34d95bec0b69ff6edcde2",
       "version_major": 2,
       "version_minor": 0
      },
      "text/plain": [
       "Epochs loop:   0%|          | 0/50000 [00:00<?, ?it/s]"
      ]
     },
     "metadata": {},
     "output_type": "display_data"
    },
    {
     "name": "stdout",
     "output_type": "stream",
     "text": [
      "Summary:\n",
      "-learning rate = 0.05550\n",
      "-Model saved after iteration 175.\n",
      "-Train.  Loss=0.3908656\n",
      "-Valid.  Loss=0.4106036\n",
      "\n",
      "Best train loss = 0.1941070\n",
      "\n",
      "'train_loss01_9.csv' saved.\n",
      "'valid_loss01_9.csv' saved.\n",
      "'model04_forward01_9_last.pth' saved.\n",
      "'model04_forward01_9_best.pth' saved.\n"
     ]
    },
    {
     "data": {
      "application/vnd.jupyter.widget-view+json": {
       "model_id": "b26a0e7181804102865d0c2cf1425d35",
       "version_major": 2,
       "version_minor": 0
      },
      "text/plain": [
       "Epochs loop:   0%|          | 0/50000 [00:00<?, ?it/s]"
      ]
     },
     "metadata": {},
     "output_type": "display_data"
    },
    {
     "name": "stdout",
     "output_type": "stream",
     "text": [
      "Summary:\n",
      "-learning rate = 0.10000\n",
      "-Model saved after iteration 94.\n",
      "-Train.  Loss=0.3931081\n",
      "-Valid.  Loss=0.4113090\n",
      "\n",
      "Best train loss = 0.2001259\n",
      "\n",
      "'train_loss01_10.csv' saved.\n",
      "'valid_loss01_10.csv' saved.\n",
      "'model04_forward01_10_last.pth' saved.\n",
      "'model04_forward01_10_best.pth' saved.\n"
     ]
    }
   ],
   "source": [
    "# Perform grid search (unconstrained)\n",
    "layer_sizes = [5, 1]\n",
    "epochs = 50000\n",
    "data_in = 'dataset_04CrimeUnnormalized'\n",
    "data_out = \"data_unconstrained_04CrimeUnnormalized/lrs\"\n",
    "lock_flag = False\n",
    "\n",
    "# Read data\n",
    "load_data(data_in, i=1)\n",
    "\n",
    "# Normalize data\n",
    "normalize_data()\n",
    "\n",
    "# Create DataLoaders\n",
    "make_DataLoaders()\n",
    "features = xtrain.size(1)\n",
    "\n",
    "# Train model\n",
    "iterator = tqdm.notebook.tqdm(range(1, len(grid_lrs) + 1), desc='lr-grid loop')\n",
    "for n in iterator:\n",
    "    irow = n-1\n",
    "    fname = 'model04_forward01_'+str(n)\n",
    "    train_loss, valid_loss = train_model(\n",
    "                             grid_lrs[irow], \n",
    "                             features, \n",
    "                             layer_sizes,\n",
    "                             lock_flag = lock_flag,\n",
    "                             epochs=epochs,\n",
    "                             early_stop=epochs, \n",
    "                             fname=fname)\n",
    "    print('\\nBest train loss = {:.7f}\\n'.format(train_loss['loss'].min()))\n",
    "\n",
    "# .save relevant data\n",
    "    f3 = [fname+'_last.pth', fname+'_best.pth']\n",
    "    save_output(data_out, \n",
    "                'train_loss01_'+str(n)+'.csv', \n",
    "                'valid_loss01_'+str(n)+'.csv', f3)\n",
    "    \n",
    "# .find MSE, R2, etc...\n",
    "    mm = MyNet(features, layer_sizes)\n",
    "    mm.load_state_dict(torch.load(os.path.join(data_out, fname+'_best.pth')))\n",
    "    mm = mm.to(device)\n",
    "    mm.eval()\n",
    "\n",
    "    ypred = mm(xvalid)\n",
    "    mse = mean_squared_error(yvalid.detach().numpy().ravel(), ypred.detach().numpy().ravel(), squared=True)\n",
    "    r2 = r2_score(yvalid.detach().numpy().ravel(), ypred.detach().numpy().ravel())\n",
    "\n",
    "# .save grid search results\n",
    "    df_grid_loss.iloc[irow,:] = [grid_lrs[irow], mse, r2]\n",
    "    df_grid_loss.to_csv(os.path.join(data_out, 'df_grid_forward01.csv'), index=None)"
   ]
  },
  {
   "cell_type": "code",
   "execution_count": 23,
   "metadata": {
    "ExecuteTime": {
     "end_time": "2021-02-26T07:57:13.451148Z",
     "start_time": "2021-02-26T07:57:13.234754Z"
    },
    "code_folding": [
     0
    ]
   },
   "outputs": [
    {
     "data": {
      "image/png": "[encoded data removed]",
      "text/plain": [
       "<Figure size 720x432 with 1 Axes>"
      ]
     },
     "metadata": {
      "needs_background": "light"
     },
     "output_type": "display_data"
    }
   ],
   "source": [
    "# Plot Loss vs point in grid search\n",
    "data_out = \"data_unconstrained_04CrimeUnnormalized/lrs\"\n",
    "df_grid_loss = pd.read_csv(os.path.join(data_out, 'df_grid_forward01.csv'))\n",
    "fig, axes = plt.subplots(figsize=(10,6))\n",
    "axes.scatter(np.log10(df_grid_loss.lr), df_grid_loss['valid_mse'])\n",
    "axes.plot(np.log10(df_grid_loss.lr), df_grid_loss['valid_mse'], label='mse')\n",
    "# axes.scatter(np.log10(df_grid_loss.lr), df_grid_loss['valid_r2'])\n",
    "# axes.plot(np.log10(df_grid_loss.lr), df_grid_loss['valid_r2'], label='r2')\n",
    "axes.set_xlabel(\"log10(lr)\")\n",
    "axes.set_ylabel(\"Validation metric\")\n",
    "axes.legend()\n",
    "plt.show()"
   ]
  },
  {
   "cell_type": "code",
   "execution_count": 18,
   "metadata": {
    "ExecuteTime": {
     "end_time": "2021-03-01T13:23:47.559661Z",
     "start_time": "2021-03-01T13:23:47.540961Z"
    },
    "code_folding": [
     0
    ]
   },
   "outputs": [
    {
     "name": "stdout",
     "output_type": "stream",
     "text": [
      "Best parameters (3):\n",
      "- Best lr = 0.00162\n",
      "- Best valid mse = 0.41021672\n"
     ]
    },
    {
     "data": {
      "text/plain": [
       "'data_unconstrained_04CrimeUnnormalized/valid_loss01.csv'"
      ]
     },
     "execution_count": 18,
     "metadata": {},
     "output_type": "execute_result"
    }
   ],
   "source": [
    "# Display grid search results\n",
    "data_out = \"data_unconstrained_04CrimeUnnormalized/lrs\"\n",
    "df_grid_loss = pd.read_csv(os.path.join(data_out, 'df_grid_forward01.csv'))\n",
    "\n",
    "idx = df_grid_loss.valid_mse.idxmin()\n",
    "best_lr_fward = df_grid_loss.iloc[idx, 0]\n",
    "best_mse      = df_grid_loss.iloc[idx, 1]\n",
    "print(\"Best parameters ({}):\".format(idx+1))\n",
    "print(\"- Best lr = {:.5f}\".format(best_lr_fward))\n",
    "print(\"- Best valid mse = {}\".format(best_mse))\n",
    "\n",
    "# Copy best model to main directory\n",
    "shutil.copy(\"data_unconstrained_04CrimeUnnormalized/lrs/model04_forward01_\"+str(idx+1)+\"_best.pth\", \n",
    "            \"data_unconstrained_04CrimeUnnormalized/model04_forward01_best.pth\")\n",
    "shutil.copy(\"data_unconstrained_04CrimeUnnormalized/lrs/model04_forward01_\"+str(idx+1)+\"_last.pth\", \n",
    "            \"data_unconstrained_04CrimeUnnormalized/model04_forward01_last.pth\")\n",
    "shutil.copy(\"data_unconstrained_04CrimeUnnormalized/lrs/train_loss01_\"+str(idx+1)+\".csv\", \n",
    "            \"data_unconstrained_04CrimeUnnormalized/train_loss01.csv\")\n",
    "shutil.copy(\"data_unconstrained_04CrimeUnnormalized/lrs/valid_loss01_\"+str(idx+1)+\".csv\", \n",
    "            \"data_unconstrained_04CrimeUnnormalized/valid_loss01.csv\")"
   ]
  },
  {
   "cell_type": "code",
   "execution_count": 27,
   "metadata": {
    "ExecuteTime": {
     "end_time": "2021-02-26T08:04:40.118869Z",
     "start_time": "2021-02-26T08:04:40.114195Z"
    }
   },
   "outputs": [],
   "source": [
    "# Grid search space\n",
    "target_idx = 1\n",
    "grid_lrs = np.geomspace(5e-4, 1e-1, num=10)\n",
    "df_grid_loss = pd.DataFrame(columns = ['lr', 'valid_mse', 'valid_r2'], \n",
    "                            index=range(len(grid_lrs)))"
   ]
  },
  {
   "cell_type": "code",
   "execution_count": 28,
   "metadata": {
    "ExecuteTime": {
     "end_time": "2021-02-26T09:52:52.405456Z",
     "start_time": "2021-02-26T08:06:40.666447Z"
    },
    "code_folding": [
     0
    ],
    "scrolled": true
   },
   "outputs": [
    {
     "name": "stdout",
     "output_type": "stream",
     "text": [
      "- train minibatches = 1\n",
      "- valid minibatches = 1\n",
      "- test minibatches = 1\n"
     ]
    },
    {
     "data": {
      "application/vnd.jupyter.widget-view+json": {
       "model_id": "3c86628562ab4702a64a41f76e6b1f59",
       "version_major": 2,
       "version_minor": 0
      },
      "text/plain": [
       "lr-grid loop:   0%|          | 0/10 [00:00<?, ?it/s]"
      ]
     },
     "metadata": {},
     "output_type": "display_data"
    },
    {
     "data": {
      "application/vnd.jupyter.widget-view+json": {
       "model_id": "9349cbfd1d074a2ba107b4f00441a7f5",
       "version_major": 2,
       "version_minor": 0
      },
      "text/plain": [
       "Epochs loop:   0%|          | 0/20000 [00:00<?, ?it/s]"
      ]
     },
     "metadata": {},
     "output_type": "display_data"
    },
    {
     "name": "stdout",
     "output_type": "stream",
     "text": [
      "Summary:\n",
      "-learning rate = 0.00050\n",
      "-Model saved after iteration 17081.\n",
      "-Train.  Loss=0.3790716\n",
      "-Valid.  Loss=0.3950028\n",
      "\n",
      "Best train loss = 0.2721075\n",
      "\n",
      "'train_loss01_1.csv' saved.\n",
      "'valid_loss01_1.csv' saved.\n",
      "'model04_backward01_1_best.pth' saved.\n"
     ]
    },
    {
     "data": {
      "application/vnd.jupyter.widget-view+json": {
       "model_id": "9b2d609699984e2d82533965a7d0d9b6",
       "version_major": 2,
       "version_minor": 0
      },
      "text/plain": [
       "Epochs loop:   0%|          | 0/20000 [00:00<?, ?it/s]"
      ]
     },
     "metadata": {},
     "output_type": "display_data"
    },
    {
     "name": "stdout",
     "output_type": "stream",
     "text": [
      "Summary:\n",
      "-learning rate = 0.00090\n",
      "-Model saved after iteration 18550.\n",
      "-Train.  Loss=0.4134756\n",
      "-Valid.  Loss=0.3887308\n",
      "\n",
      "Best train loss = 0.2722311\n",
      "\n",
      "'train_loss01_2.csv' saved.\n",
      "'valid_loss01_2.csv' saved.\n",
      "'model04_backward01_2_best.pth' saved.\n"
     ]
    },
    {
     "data": {
      "application/vnd.jupyter.widget-view+json": {
       "model_id": "00517289f25c4f29a77a2bbbe6ab7704",
       "version_major": 2,
       "version_minor": 0
      },
      "text/plain": [
       "Epochs loop:   0%|          | 0/20000 [00:00<?, ?it/s]"
      ]
     },
     "metadata": {},
     "output_type": "display_data"
    },
    {
     "name": "stdout",
     "output_type": "stream",
     "text": [
      "Summary:\n",
      "-learning rate = 0.00162\n",
      "-Model saved after iteration 18296.\n",
      "-Train.  Loss=0.3981207\n",
      "-Valid.  Loss=0.3856152\n",
      "\n",
      "Best train loss = 0.2722048\n",
      "\n",
      "'train_loss01_3.csv' saved.\n",
      "'valid_loss01_3.csv' saved.\n",
      "'model04_backward01_3_best.pth' saved.\n"
     ]
    },
    {
     "data": {
      "application/vnd.jupyter.widget-view+json": {
       "model_id": "e4014b44ad9248e793d153c91cc0c81e",
       "version_major": 2,
       "version_minor": 0
      },
      "text/plain": [
       "Epochs loop:   0%|          | 0/20000 [00:00<?, ?it/s]"
      ]
     },
     "metadata": {},
     "output_type": "display_data"
    },
    {
     "name": "stdout",
     "output_type": "stream",
     "text": [
      "Summary:\n",
      "-learning rate = 0.00292\n",
      "-Model saved after iteration 18618.\n",
      "-Train.  Loss=0.4004988\n",
      "-Valid.  Loss=0.3825742\n",
      "\n",
      "Best train loss = 0.2739146\n",
      "\n",
      "'train_loss01_4.csv' saved.\n",
      "'valid_loss01_4.csv' saved.\n",
      "'model04_backward01_4_best.pth' saved.\n"
     ]
    },
    {
     "data": {
      "application/vnd.jupyter.widget-view+json": {
       "model_id": "c2ba67be622a433bb7ccbd307364e56e",
       "version_major": 2,
       "version_minor": 0
      },
      "text/plain": [
       "Epochs loop:   0%|          | 0/20000 [00:00<?, ?it/s]"
      ]
     },
     "metadata": {},
     "output_type": "display_data"
    },
    {
     "name": "stdout",
     "output_type": "stream",
     "text": [
      "Summary:\n",
      "-learning rate = 0.00527\n",
      "-Model saved after iteration 19056.\n",
      "-Train.  Loss=0.4186000\n",
      "-Valid.  Loss=0.3847483\n",
      "\n",
      "Best train loss = 0.2739146\n",
      "\n",
      "'train_loss01_5.csv' saved.\n",
      "'valid_loss01_5.csv' saved.\n",
      "'model04_backward01_5_best.pth' saved.\n"
     ]
    },
    {
     "data": {
      "application/vnd.jupyter.widget-view+json": {
       "model_id": "8a4df04142e64cb69999d011da43f229",
       "version_major": 2,
       "version_minor": 0
      },
      "text/plain": [
       "Epochs loop:   0%|          | 0/20000 [00:00<?, ?it/s]"
      ]
     },
     "metadata": {},
     "output_type": "display_data"
    },
    {
     "name": "stdout",
     "output_type": "stream",
     "text": [
      "Summary:\n",
      "-learning rate = 0.00949\n",
      "-Model saved after iteration 19429.\n",
      "-Train.  Loss=0.4593709\n",
      "-Valid.  Loss=0.3936514\n",
      "\n",
      "Best train loss = 0.2739146\n",
      "\n",
      "'train_loss01_6.csv' saved.\n",
      "'valid_loss01_6.csv' saved.\n",
      "'model04_backward01_6_best.pth' saved.\n"
     ]
    },
    {
     "data": {
      "application/vnd.jupyter.widget-view+json": {
       "model_id": "6b14c95cd8e942f6b772b6ce2e28945a",
       "version_major": 2,
       "version_minor": 0
      },
      "text/plain": [
       "Epochs loop:   0%|          | 0/20000 [00:00<?, ?it/s]"
      ]
     },
     "metadata": {},
     "output_type": "display_data"
    },
    {
     "name": "stdout",
     "output_type": "stream",
     "text": [
      "Summary:\n",
      "-learning rate = 0.01710\n",
      "-Model saved after iteration 19123.\n",
      "-Train.  Loss=0.4336030\n",
      "-Valid.  Loss=0.3932383\n",
      "\n",
      "Best train loss = 0.2739146\n",
      "\n",
      "'train_loss01_7.csv' saved.\n",
      "'valid_loss01_7.csv' saved.\n",
      "'model04_backward01_7_best.pth' saved.\n"
     ]
    },
    {
     "data": {
      "application/vnd.jupyter.widget-view+json": {
       "model_id": "f5a7bb9c435144f7a785586e7c4e1c32",
       "version_major": 2,
       "version_minor": 0
      },
      "text/plain": [
       "Epochs loop:   0%|          | 0/20000 [00:00<?, ?it/s]"
      ]
     },
     "metadata": {},
     "output_type": "display_data"
    },
    {
     "name": "stdout",
     "output_type": "stream",
     "text": [
      "Summary:\n",
      "-learning rate = 0.03081\n",
      "-Model saved after iteration 18554.\n",
      "-Train.  Loss=0.4472257\n",
      "-Valid.  Loss=0.3947757\n",
      "\n",
      "Best train loss = 0.2739146\n",
      "\n",
      "'train_loss01_8.csv' saved.\n",
      "'valid_loss01_8.csv' saved.\n",
      "'model04_backward01_8_best.pth' saved.\n"
     ]
    },
    {
     "data": {
      "application/vnd.jupyter.widget-view+json": {
       "model_id": "bec85a84d4ac41d28587f1b5bee89eb3",
       "version_major": 2,
       "version_minor": 0
      },
      "text/plain": [
       "Epochs loop:   0%|          | 0/20000 [00:00<?, ?it/s]"
      ]
     },
     "metadata": {},
     "output_type": "display_data"
    },
    {
     "name": "stdout",
     "output_type": "stream",
     "text": [
      "Summary:\n",
      "-learning rate = 0.05550\n",
      "-Model saved after iteration 16740.\n",
      "-Train.  Loss=0.4471958\n",
      "-Valid.  Loss=0.3862556\n",
      "\n",
      "Best train loss = 0.2739146\n",
      "\n",
      "'train_loss01_9.csv' saved.\n",
      "'valid_loss01_9.csv' saved.\n",
      "'model04_backward01_9_best.pth' saved.\n"
     ]
    },
    {
     "data": {
      "application/vnd.jupyter.widget-view+json": {
       "model_id": "2fce2d045b604d29b82dbbb3adc37f23",
       "version_major": 2,
       "version_minor": 0
      },
      "text/plain": [
       "Epochs loop:   0%|          | 0/20000 [00:00<?, ?it/s]"
      ]
     },
     "metadata": {},
     "output_type": "display_data"
    },
    {
     "name": "stdout",
     "output_type": "stream",
     "text": [
      "Summary:\n",
      "-learning rate = 0.10000\n",
      "-Model saved after iteration 33.\n",
      "-Train.  Loss=0.4227209\n",
      "-Valid.  Loss=0.3943108\n",
      "\n",
      "Best train loss = 0.2739146\n",
      "\n",
      "'train_loss01_10.csv' saved.\n",
      "'valid_loss01_10.csv' saved.\n",
      "'model04_backward01_10_best.pth' saved.\n"
     ]
    }
   ],
   "source": [
    "# Perform grid search (lockdown)\n",
    "layer_sizes = [5, 1]\n",
    "epochs = 20000\n",
    "data_in = 'dataset_04CrimeUnnormalized'\n",
    "data_out = \"data_lockdown_04CrimeUnnormalized/lrs\"\n",
    "step = 1\n",
    "lock_flag = True\n",
    "\n",
    "# Read data\n",
    "load_data(data_in, i=1)\n",
    "\n",
    "# Normalize data\n",
    "normalize_data()\n",
    "\n",
    "# Create DataLoaders\n",
    "make_DataLoaders()\n",
    "features = xtrain.size(1)\n",
    "\n",
    "# Train model\n",
    "iterator = tqdm.notebook.tqdm(range(1, len(grid_lrs) + 1), desc='lr-grid loop')\n",
    "for n in iterator:\n",
    "    irow = n-1\n",
    "    model_forward_name = 'data_unconstrained_04CrimeUnnormalized/model04_forward01_last.pth'\n",
    "    fname = 'model04_backward01_'+str(n)\n",
    "    train_loss, valid_loss = train_model(\n",
    "                             grid_lrs[irow], \n",
    "                             features, \n",
    "                             layer_sizes,\n",
    "                             lock_flag = lock_flag,\n",
    "                             epochs=epochs,\n",
    "                             early_stop=epochs, \n",
    "                             fname=fname)\n",
    "    print('\\nBest train loss = {:.7f}\\n'.format(train_loss['loss'].min()))\n",
    "\n",
    "# .save relevant data\n",
    "    f3 = [fname+'_best.pth']\n",
    "    save_output(data_out, \n",
    "                'train_loss01_'+str(n)+'.csv', \n",
    "                'valid_loss01_'+str(n)+'.csv', f3)\n",
    "    \n",
    "# .find MSE, R2, etc...\n",
    "    mm = MyNet(features, layer_sizes)\n",
    "    mm.load_state_dict(torch.load(os.path.join(data_out, fname+'_best.pth')))\n",
    "    mm = mm.to(device)\n",
    "    mm.eval()\n",
    "\n",
    "    ypred = mm(xvalid)\n",
    "    mse = mean_squared_error(yvalid.detach().numpy().ravel(), ypred.detach().numpy().ravel(), squared=True)\n",
    "    r2 = r2_score(yvalid.detach().numpy().ravel(), ypred.detach().numpy().ravel())\n",
    "\n",
    "# .save grid search results\n",
    "    df_grid_loss.iloc[irow,:] = [grid_lrs[irow], mse, r2]\n",
    "    df_grid_loss.to_csv(os.path.join(data_out, 'df_grid_backward01.csv'), index=None)"
   ]
  },
  {
   "cell_type": "code",
   "execution_count": 29,
   "metadata": {
    "ExecuteTime": {
     "end_time": "2021-02-26T19:18:10.577675Z",
     "start_time": "2021-02-26T19:18:10.381387Z"
    },
    "code_folding": [
     0
    ]
   },
   "outputs": [
    {
     "data": {
      "image/png": "[encoded data removed]",
      "text/plain": [
       "<Figure size 720x432 with 1 Axes>"
      ]
     },
     "metadata": {
      "needs_background": "light"
     },
     "output_type": "display_data"
    }
   ],
   "source": [
    "# Plot Loss vs point in grid search\n",
    "data_out = \"data_lockdown_04CrimeUnnormalized/lrs\"\n",
    "df_grid_loss = pd.read_csv(os.path.join(data_out, 'df_grid_backward01.csv'))\n",
    "fig, axes = plt.subplots(figsize=(10,6))\n",
    "axes.scatter(np.log10(df_grid_loss.lr), df_grid_loss['valid_mse'])\n",
    "axes.plot(np.log10(df_grid_loss.lr), df_grid_loss['valid_mse'], label='mse')\n",
    "# axes.scatter(np.log10(df_grid_loss.lr), df_grid_loss['valid_r2'])\n",
    "# axes.plot(np.log10(df_grid_loss.lr), df_grid_loss['valid_r2'], label='r2')\n",
    "axes.set_xlabel(\"log10(lr)\")\n",
    "axes.set_ylabel(\"Validation metric\")\n",
    "axes.legend()\n",
    "plt.show()"
   ]
  },
  {
   "cell_type": "code",
   "execution_count": 19,
   "metadata": {
    "ExecuteTime": {
     "end_time": "2021-03-01T13:24:08.533622Z",
     "start_time": "2021-03-01T13:24:08.510108Z"
    },
    "code_folding": [
     0
    ]
   },
   "outputs": [
    {
     "name": "stdout",
     "output_type": "stream",
     "text": [
      "Best parameters (4):\n",
      "- Best lr = 0.00292\n",
      "- Best valid mse = 0.38257414\n"
     ]
    },
    {
     "data": {
      "text/plain": [
       "'data_lockdown_04CrimeUnnormalized/valid_loss01.csv'"
      ]
     },
     "execution_count": 19,
     "metadata": {},
     "output_type": "execute_result"
    }
   ],
   "source": [
    "# Display grid search results\n",
    "data_out = \"data_lockdown_04CrimeUnnormalized/lrs\"\n",
    "df_grid_loss = pd.read_csv(os.path.join(data_out, 'df_grid_backward01.csv'))\n",
    "\n",
    "idx = df_grid_loss.valid_mse.idxmin()\n",
    "best_lr_bward = df_grid_loss.iloc[idx, 0]\n",
    "best_mse      = df_grid_loss.iloc[idx, 1]\n",
    "print(\"Best parameters ({}):\".format(idx+1))\n",
    "print(\"- Best lr = {:.5f}\".format(best_lr_bward))\n",
    "print(\"- Best valid mse = {}\".format(best_mse))\n",
    "\n",
    "# Copy best models to main directory\n",
    "shutil.copy(\"data_unconstrained_04CrimeUnnormalized/lrs/model04_forward01_\"+str(idx+1)+\"_best.pth\", \n",
    "            \"data_lockdown_04CrimeUnnormalized/model04_fward01_best.pth\")\n",
    "shutil.copy(\"data_unconstrained_04CrimeUnnormalized/lrs/model04_forward01_\"+str(idx+1)+\"_last.pth\", \n",
    "            \"data_lockdown_04CrimeUnnormalized/model04_fward01_last.pth\")\n",
    "shutil.copy(\"data_lockdown_04CrimeUnnormalized/lrs/model04_backward01_\"+str(idx+1)+\"_best.pth\", \n",
    "            \"data_lockdown_04CrimeUnnormalized/model04_backward01_best.pth\")\n",
    "\n",
    "shutil.copy(\"data_unconstrained_04CrimeUnnormalized/lrs/train_loss01_\"+str(idx+1)+\".csv\", \n",
    "            \"data_lockdown_04CrimeUnnormalized/train_loss_fward01.csv\")\n",
    "shutil.copy(\"data_unconstrained_04CrimeUnnormalized/lrs/valid_loss01_\"+str(idx+1)+\".csv\", \n",
    "            \"data_lockdown_04CrimeUnnormalized/valid_loss_fward01.csv\")\n",
    "shutil.copy(\"data_lockdown_04CrimeUnnormalized/lrs/train_loss01_\"+str(idx+1)+\".csv\", \n",
    "            \"data_lockdown_04CrimeUnnormalized/train_loss01.csv\")\n",
    "shutil.copy(\"data_lockdown_04CrimeUnnormalized/lrs/valid_loss01_\"+str(idx+1)+\".csv\", \n",
    "            \"data_lockdown_04CrimeUnnormalized/valid_loss01.csv\")"
   ]
  },
  {
   "cell_type": "code",
   "execution_count": 35,
   "metadata": {
    "ExecuteTime": {
     "end_time": "2021-02-26T19:28:42.925648Z",
     "start_time": "2021-02-26T19:28:42.774277Z"
    },
    "code_folding": [
     0
    ]
   },
   "outputs": [
    {
     "name": "stdout",
     "output_type": "stream",
     "text": [
      "model results saved at: 'data_lockdown_04CrimeUnnormalized/results_target_lockdown01.csv'\n"
     ]
    },
    {
     "data": {
      "text/html": [
       "<div>\n",
       "<style scoped>\n",
       "    .dataframe tbody tr th:only-of-type {\n",
       "        vertical-align: middle;\n",
       "    }\n",
       "\n",
       "    .dataframe tbody tr th {\n",
       "        vertical-align: top;\n",
       "    }\n",
       "\n",
       "    .dataframe thead th {\n",
       "        text-align: right;\n",
       "    }\n",
       "</style>\n",
       "<table border=\"1\" class=\"dataframe\">\n",
       "  <thead>\n",
       "    <tr style=\"text-align: right;\">\n",
       "      <th></th>\n",
       "      <th></th>\n",
       "      <th>MSE</th>\n",
       "      <th>R2</th>\n",
       "    </tr>\n",
       "  </thead>\n",
       "  <tbody>\n",
       "    <tr>\n",
       "      <th rowspan=\"2\" valign=\"top\">TRAIN</th>\n",
       "      <th>forward</th>\n",
       "      <td>0.389961</td>\n",
       "      <td>0.610039</td>\n",
       "    </tr>\n",
       "    <tr>\n",
       "      <th>lockdown</th>\n",
       "      <td>0.400499</td>\n",
       "      <td>0.599501</td>\n",
       "    </tr>\n",
       "    <tr>\n",
       "      <th rowspan=\"2\" valign=\"top\">VALIDATION</th>\n",
       "      <th>forward</th>\n",
       "      <td>0.410217</td>\n",
       "      <td>0.570997</td>\n",
       "    </tr>\n",
       "    <tr>\n",
       "      <th>lockdown</th>\n",
       "      <td>0.382574</td>\n",
       "      <td>0.599906</td>\n",
       "    </tr>\n",
       "    <tr>\n",
       "      <th rowspan=\"2\" valign=\"top\">TEST</th>\n",
       "      <th>forward</th>\n",
       "      <td>0.332904</td>\n",
       "      <td>0.59866</td>\n",
       "    </tr>\n",
       "    <tr>\n",
       "      <th>lockdown</th>\n",
       "      <td>0.307424</td>\n",
       "      <td>0.629378</td>\n",
       "    </tr>\n",
       "  </tbody>\n",
       "</table>\n",
       "</div>"
      ],
      "text/plain": [
       "                          MSE        R2\n",
       "TRAIN      forward   0.389961  0.610039\n",
       "           lockdown  0.400499  0.599501\n",
       "VALIDATION forward   0.410217  0.570997\n",
       "           lockdown  0.382574  0.599906\n",
       "TEST       forward   0.332904   0.59866\n",
       "           lockdown  0.307424  0.629378"
      ]
     },
     "execution_count": 35,
     "metadata": {},
     "output_type": "execute_result"
    }
   ],
   "source": [
    "# Find MSE, R2, etc...\n",
    "data_out = \"data_lockdown_04CrimeUnnormalized\"\n",
    "index = pd.MultiIndex.from_product([['TRAIN', 'VALIDATION', 'TEST'], ['forward', 'lockdown']])\n",
    "df_results = pd.DataFrame(index=index, columns=['MSE', 'R2'])\n",
    "\n",
    "# Load/normalize data\n",
    "load_data('dataset_04CrimeUnnormalized', i=1)\n",
    "normalize_data()\n",
    "\n",
    "# Unconstrained results\n",
    "layer_sizes = [5, 1]\n",
    "features = xtrain.size(1)\n",
    "mm = MyNet(features, layer_sizes)\n",
    "mm.load_state_dict(torch.load('data_unconstrained_04CrimeUnnormalized/model04_forward01_best.pth'))\n",
    "mm = mm.to(device)\n",
    "mm.eval()\n",
    "\n",
    "ypred = mm(xtrain)\n",
    "mse = mean_squared_error(ytrain.detach().numpy(), ypred.detach().numpy())\n",
    "r2 = r2_score(ytrain.detach().numpy(), ypred.detach().numpy())\n",
    "df_results.loc[('TRAIN', 'forward'), 'MSE'] = mse\n",
    "df_results.loc[('TRAIN', 'forward'), 'R2'] = r2\n",
    "\n",
    "ypred = mm(xvalid)\n",
    "mse = mean_squared_error(yvalid.detach().numpy(), ypred.detach().numpy())\n",
    "r2 = r2_score(yvalid.detach().numpy(), ypred.detach().numpy())\n",
    "df_results.loc[('VALIDATION', 'forward'), 'MSE'] = mse\n",
    "df_results.loc[('VALIDATION', 'forward'), 'R2'] = r2\n",
    "\n",
    "ypred = mm(xtest)\n",
    "mse = mean_squared_error(ytest.detach().numpy(), ypred.detach().numpy())\n",
    "r2 = r2_score(ytest.detach().numpy(), ypred.detach().numpy())\n",
    "df_results.loc[('TEST', 'forward'), 'MSE'] = mse\n",
    "df_results.loc[('TEST', 'forward'), 'R2'] = r2\n",
    "\n",
    "# Lockdown results\n",
    "mm = MyNet(features, layer_sizes)\n",
    "mm.load_state_dict(torch.load('data_lockdown_04CrimeUnnormalized/model04_backward01_best.pth'))\n",
    "mm = mm.to(device)\n",
    "mm.eval()\n",
    "\n",
    "ypred = mm(xtrain)\n",
    "mse = mean_squared_error(ytrain.detach().numpy(), ypred.detach().numpy())\n",
    "r2 = r2_score(ytrain.detach().numpy(), ypred.detach().numpy())\n",
    "df_results.loc[('TRAIN', 'lockdown'), 'MSE'] = mse\n",
    "df_results.loc[('TRAIN', 'lockdown'), 'R2'] = r2\n",
    "\n",
    "ypred = mm(xvalid)\n",
    "mse = mean_squared_error(yvalid.detach().numpy(), ypred.detach().numpy())\n",
    "r2 = r2_score(yvalid.detach().numpy(), ypred.detach().numpy())\n",
    "df_results.loc[('VALIDATION', 'lockdown'), 'MSE'] = mse\n",
    "df_results.loc[('VALIDATION', 'lockdown'), 'R2'] = r2\n",
    "\n",
    "ypred = mm(xtest)\n",
    "mse = mean_squared_error(ytest.detach().numpy(), ypred.detach().numpy())\n",
    "r2 = r2_score(ytest.detach().numpy(), ypred.detach().numpy())\n",
    "df_results.loc[('TEST', 'lockdown'), 'MSE'] = mse\n",
    "df_results.loc[('TEST', 'lockdown'), 'R2'] = r2\n",
    "\n",
    "# Save data\n",
    "df_results.to_csv(os.path.join(data_out, 'results_target_lockdown01.csv'), index=True)\n",
    "print(\"model results saved at: '{}'\".format(os.path.join(data_out, 'results_target_lockdown01.csv')))\n",
    "df_results"
   ]
  },
  {
   "cell_type": "code",
   "execution_count": 56,
   "metadata": {
    "ExecuteTime": {
     "end_time": "2021-02-27T11:11:51.949021Z",
     "start_time": "2021-02-26T22:09:28.917190Z"
    },
    "code_folding": [
     0
    ],
    "scrolled": true
   },
   "outputs": [
    {
     "data": {
      "application/vnd.jupyter.widget-view+json": {
       "model_id": "eee7e84eaa434a05804d2dcf62064659",
       "version_major": 2,
       "version_minor": 0
      },
      "text/plain": [
       "Partitions loop:   0%|          | 0/100 [00:00<?, ?it/s]"
      ]
     },
     "metadata": {},
     "output_type": "display_data"
    },
    {
     "name": "stdout",
     "output_type": "stream",
     "text": [
      "- train minibatches = 1\n",
      "- valid minibatches = 1\n",
      "- test minibatches = 1\n"
     ]
    },
    {
     "data": {
      "application/vnd.jupyter.widget-view+json": {
       "model_id": "323eb5c3138647478b30d1a461bb9364",
       "version_major": 2,
       "version_minor": 0
      },
      "text/plain": [
       "Epochs loop:   0%|          | 0/50000 [00:00<?, ?it/s]"
      ]
     },
     "metadata": {},
     "output_type": "display_data"
    },
    {
     "name": "stdout",
     "output_type": "stream",
     "text": [
      "Summary:\n",
      "-learning rate = 0.00162\n",
      "-path 1 has early stopped:\n",
      " 10000 iterations with no improvement in valid loss.\n",
      "-Model saved after iteration 1086.\n",
      "-Train.  Loss=0.4778516\n",
      "-Valid.  Loss=0.4640983\n",
      "'train_loss01_1.csv' saved.\n",
      "'valid_loss01_1.csv' saved.\n",
      "'model04_forward01_1_last.pth' saved.\n",
      "'model04_forward01_1_best.pth' saved.\n",
      "- train minibatches = 1\n",
      "- valid minibatches = 1\n",
      "- test minibatches = 1\n"
     ]
    },
    {
     "data": {
      "application/vnd.jupyter.widget-view+json": {
       "model_id": "bda0dca4148046958b8959a2b8fa3e9d",
       "version_major": 2,
       "version_minor": 0
      },
      "text/plain": [
       "Epochs loop:   0%|          | 0/50000 [00:00<?, ?it/s]"
      ]
     },
     "metadata": {},
     "output_type": "display_data"
    },
    {
     "name": "stdout",
     "output_type": "stream",
     "text": [
      "Summary:\n",
      "-learning rate = 0.00162\n",
      "-path 1 has early stopped:\n",
      " 10000 iterations with no improvement in valid loss.\n",
      "-Model saved after iteration 4172.\n",
      "-Train.  Loss=0.4305381\n",
      "-Valid.  Loss=0.2916986\n",
      "'train_loss01_2.csv' saved.\n",
      "'valid_loss01_2.csv' saved.\n",
      "'model04_forward01_2_last.pth' saved.\n",
      "'model04_forward01_2_best.pth' saved.\n",
      "- train minibatches = 1\n",
      "- valid minibatches = 1\n",
      "- test minibatches = 1\n"
     ]
    },
    {
     "data": {
      "application/vnd.jupyter.widget-view+json": {
       "model_id": "4f39fbe7c3594b83b93eece803433e5f",
       "version_major": 2,
       "version_minor": 0
      },
      "text/plain": [
       "Epochs loop:   0%|          | 0/50000 [00:00<?, ?it/s]"
      ]
     },
     "metadata": {},
     "output_type": "display_data"
    },
    {
     "name": "stdout",
     "output_type": "stream",
     "text": [
      "Summary:\n",
      "-learning rate = 0.00162\n",
      "-path 1 has early stopped:\n",
      " 10000 iterations with no improvement in valid loss.\n",
      "-Model saved after iteration 7016.\n",
      "-Train.  Loss=0.3801305\n",
      "-Valid.  Loss=0.5432960\n",
      "'train_loss01_3.csv' saved.\n",
      "'valid_loss01_3.csv' saved.\n",
      "'model04_forward01_3_last.pth' saved.\n",
      "'model04_forward01_3_best.pth' saved.\n",
      "- train minibatches = 1\n",
      "- valid minibatches = 1\n",
      "- test minibatches = 1\n"
     ]
    },
    {
     "data": {
      "application/vnd.jupyter.widget-view+json": {
       "model_id": "09a4ac429b904989a83e99dce2c056b2",
       "version_major": 2,
       "version_minor": 0
      },
      "text/plain": [
       "Epochs loop:   0%|          | 0/50000 [00:00<?, ?it/s]"
      ]
     },
     "metadata": {},
     "output_type": "display_data"
    },
    {
     "name": "stdout",
     "output_type": "stream",
     "text": [
      "Summary:\n",
      "-learning rate = 0.00162\n",
      "-path 1 has early stopped:\n",
      " 10000 iterations with no improvement in valid loss.\n",
      "-Model saved after iteration 2864.\n",
      "-Train.  Loss=0.3862806\n",
      "-Valid.  Loss=0.4678721\n",
      "'train_loss01_4.csv' saved.\n",
      "'valid_loss01_4.csv' saved.\n",
      "'model04_forward01_4_last.pth' saved.\n",
      "'model04_forward01_4_best.pth' saved.\n",
      "- train minibatches = 1\n",
      "- valid minibatches = 1\n",
      "- test minibatches = 1\n"
     ]
    },
    {
     "data": {
      "application/vnd.jupyter.widget-view+json": {
       "model_id": "fed11e0c24a74be38cda44f955d98c80",
       "version_major": 2,
       "version_minor": 0
      },
      "text/plain": [
       "Epochs loop:   0%|          | 0/50000 [00:00<?, ?it/s]"
      ]
     },
     "metadata": {},
     "output_type": "display_data"
    },
    {
     "name": "stdout",
     "output_type": "stream",
     "text": [
      "Summary:\n",
      "-learning rate = 0.00162\n",
      "-path 1 has early stopped:\n",
      " 10000 iterations with no improvement in valid loss.\n",
      "-Model saved after iteration 5801.\n",
      "-Train.  Loss=0.3967461\n",
      "-Valid.  Loss=0.4055498\n",
      "'train_loss01_5.csv' saved.\n",
      "'valid_loss01_5.csv' saved.\n",
      "'model04_forward01_5_last.pth' saved.\n",
      "'model04_forward01_5_best.pth' saved.\n",
      "- train minibatches = 1\n",
      "- valid minibatches = 1\n",
      "- test minibatches = 1\n"
     ]
    },
    {
     "data": {
      "application/vnd.jupyter.widget-view+json": {
       "model_id": "c466e2108df04e48b5bae72dc7c8c221",
       "version_major": 2,
       "version_minor": 0
      },
      "text/plain": [
       "Epochs loop:   0%|          | 0/50000 [00:00<?, ?it/s]"
      ]
     },
     "metadata": {},
     "output_type": "display_data"
    },
    {
     "name": "stdout",
     "output_type": "stream",
     "text": [
      "Summary:\n",
      "-learning rate = 0.00162\n",
      "-path 1 has early stopped:\n",
      " 10000 iterations with no improvement in valid loss.\n",
      "-Model saved after iteration 5740.\n",
      "-Train.  Loss=0.3850360\n",
      "-Valid.  Loss=0.3609324\n",
      "'train_loss01_6.csv' saved.\n",
      "'valid_loss01_6.csv' saved.\n",
      "'model04_forward01_6_last.pth' saved.\n",
      "'model04_forward01_6_best.pth' saved.\n",
      "- train minibatches = 1\n",
      "- valid minibatches = 1\n",
      "- test minibatches = 1\n"
     ]
    },
    {
     "data": {
      "application/vnd.jupyter.widget-view+json": {
       "model_id": "ba3c5bd0f3c2423b81645f5f7ce39e6d",
       "version_major": 2,
       "version_minor": 0
      },
      "text/plain": [
       "Epochs loop:   0%|          | 0/50000 [00:00<?, ?it/s]"
      ]
     },
     "metadata": {},
     "output_type": "display_data"
    },
    {
     "name": "stdout",
     "output_type": "stream",
     "text": [
      "Summary:\n",
      "-learning rate = 0.00162\n",
      "-path 1 has early stopped:\n",
      " 10000 iterations with no improvement in valid loss.\n",
      "-Model saved after iteration 2902.\n",
      "-Train.  Loss=0.4197290\n",
      "-Valid.  Loss=0.4077169\n",
      "'train_loss01_7.csv' saved.\n",
      "'valid_loss01_7.csv' saved.\n",
      "'model04_forward01_7_last.pth' saved.\n",
      "'model04_forward01_7_best.pth' saved.\n",
      "- train minibatches = 1\n",
      "- valid minibatches = 1\n",
      "- test minibatches = 1\n"
     ]
    },
    {
     "data": {
      "application/vnd.jupyter.widget-view+json": {
       "model_id": "b573e7ec55d449dfb4eec61473a9f1a7",
       "version_major": 2,
       "version_minor": 0
      },
      "text/plain": [
       "Epochs loop:   0%|          | 0/50000 [00:00<?, ?it/s]"
      ]
     },
     "metadata": {},
     "output_type": "display_data"
    },
    {
     "name": "stdout",
     "output_type": "stream",
     "text": [
      "Summary:\n",
      "-learning rate = 0.00162\n",
      "-path 1 has early stopped:\n",
      " 10000 iterations with no improvement in valid loss.\n",
      "-Model saved after iteration 3221.\n",
      "-Train.  Loss=0.3901775\n",
      "-Valid.  Loss=0.4012694\n",
      "'train_loss01_8.csv' saved.\n",
      "'valid_loss01_8.csv' saved.\n",
      "'model04_forward01_8_last.pth' saved.\n",
      "'model04_forward01_8_best.pth' saved.\n",
      "- train minibatches = 1\n",
      "- valid minibatches = 1\n",
      "- test minibatches = 1\n"
     ]
    },
    {
     "data": {
      "application/vnd.jupyter.widget-view+json": {
       "model_id": "60bb2be419cb48d0b83efcc35f4e4ed5",
       "version_major": 2,
       "version_minor": 0
      },
      "text/plain": [
       "Epochs loop:   0%|          | 0/50000 [00:00<?, ?it/s]"
      ]
     },
     "metadata": {},
     "output_type": "display_data"
    },
    {
     "name": "stdout",
     "output_type": "stream",
     "text": [
      "Summary:\n",
      "-learning rate = 0.00162\n",
      "-path 1 has early stopped:\n",
      " 10000 iterations with no improvement in valid loss.\n",
      "-Model saved after iteration 2919.\n",
      "-Train.  Loss=0.4081683\n",
      "-Valid.  Loss=0.4819656\n",
      "'train_loss01_9.csv' saved.\n",
      "'valid_loss01_9.csv' saved.\n",
      "'model04_forward01_9_last.pth' saved.\n",
      "'model04_forward01_9_best.pth' saved.\n",
      "- train minibatches = 1\n",
      "- valid minibatches = 1\n",
      "- test minibatches = 1\n"
     ]
    },
    {
     "data": {
      "application/vnd.jupyter.widget-view+json": {
       "model_id": "0b7202bc337747f4acbaba47fc90efab",
       "version_major": 2,
       "version_minor": 0
      },
      "text/plain": [
       "Epochs loop:   0%|          | 0/50000 [00:00<?, ?it/s]"
      ]
     },
     "metadata": {},
     "output_type": "display_data"
    },
    {
     "name": "stdout",
     "output_type": "stream",
     "text": [
      "Summary:\n",
      "-learning rate = 0.00162\n",
      "-path 1 has early stopped:\n",
      " 10000 iterations with no improvement in valid loss.\n",
      "-Model saved after iteration 3128.\n",
      "-Train.  Loss=0.3525992\n",
      "-Valid.  Loss=0.6416106\n",
      "'train_loss01_10.csv' saved.\n",
      "'valid_loss01_10.csv' saved.\n",
      "'model04_forward01_10_last.pth' saved.\n",
      "'model04_forward01_10_best.pth' saved.\n",
      "- train minibatches = 1\n",
      "- valid minibatches = 1\n",
      "- test minibatches = 1\n"
     ]
    },
    {
     "data": {
      "application/vnd.jupyter.widget-view+json": {
       "model_id": "d956f66dd70d4182bf1a51c37bd1d8ed",
       "version_major": 2,
       "version_minor": 0
      },
      "text/plain": [
       "Epochs loop:   0%|          | 0/50000 [00:00<?, ?it/s]"
      ]
     },
     "metadata": {},
     "output_type": "display_data"
    },
    {
     "name": "stdout",
     "output_type": "stream",
     "text": [
      "Summary:\n",
      "-learning rate = 0.00162\n",
      "-path 1 has early stopped:\n",
      " 10000 iterations with no improvement in valid loss.\n",
      "-Model saved after iteration 2028.\n",
      "-Train.  Loss=0.4379571\n",
      "-Valid.  Loss=0.3521275\n",
      "'train_loss01_11.csv' saved.\n",
      "'valid_loss01_11.csv' saved.\n",
      "'model04_forward01_11_last.pth' saved.\n",
      "'model04_forward01_11_best.pth' saved.\n",
      "- train minibatches = 1\n",
      "- valid minibatches = 1\n",
      "- test minibatches = 1\n"
     ]
    },
    {
     "data": {
      "application/vnd.jupyter.widget-view+json": {
       "model_id": "1129ee12e8bd455092dbfdc758bf605b",
       "version_major": 2,
       "version_minor": 0
      },
      "text/plain": [
       "Epochs loop:   0%|          | 0/50000 [00:00<?, ?it/s]"
      ]
     },
     "metadata": {},
     "output_type": "display_data"
    },
    {
     "name": "stdout",
     "output_type": "stream",
     "text": [
      "Summary:\n",
      "-learning rate = 0.00162\n",
      "-path 1 has early stopped:\n",
      " 10000 iterations with no improvement in valid loss.\n",
      "-Model saved after iteration 2505.\n",
      "-Train.  Loss=0.4087819\n",
      "-Valid.  Loss=0.5249534\n",
      "'train_loss01_12.csv' saved.\n",
      "'valid_loss01_12.csv' saved.\n",
      "'model04_forward01_12_last.pth' saved.\n",
      "'model04_forward01_12_best.pth' saved.\n",
      "- train minibatches = 1\n",
      "- valid minibatches = 1\n",
      "- test minibatches = 1\n"
     ]
    },
    {
     "data": {
      "application/vnd.jupyter.widget-view+json": {
       "model_id": "7d88bd1d26174fb2947f9a86f58c9783",
       "version_major": 2,
       "version_minor": 0
      },
      "text/plain": [
       "Epochs loop:   0%|          | 0/50000 [00:00<?, ?it/s]"
      ]
     },
     "metadata": {},
     "output_type": "display_data"
    },
    {
     "name": "stdout",
     "output_type": "stream",
     "text": [
      "Summary:\n",
      "-learning rate = 0.00162\n",
      "-path 1 has early stopped:\n",
      " 10000 iterations with no improvement in valid loss.\n",
      "-Model saved after iteration 15063.\n",
      "-Train.  Loss=0.3426885\n",
      "-Valid.  Loss=0.3488215\n",
      "'train_loss01_13.csv' saved.\n",
      "'valid_loss01_13.csv' saved.\n",
      "'model04_forward01_13_last.pth' saved.\n",
      "'model04_forward01_13_best.pth' saved.\n",
      "- train minibatches = 1\n",
      "- valid minibatches = 1\n",
      "- test minibatches = 1\n"
     ]
    },
    {
     "data": {
      "application/vnd.jupyter.widget-view+json": {
       "model_id": "32b4d5335b734df49035b51dac96f86e",
       "version_major": 2,
       "version_minor": 0
      },
      "text/plain": [
       "Epochs loop:   0%|          | 0/50000 [00:00<?, ?it/s]"
      ]
     },
     "metadata": {},
     "output_type": "display_data"
    },
    {
     "name": "stdout",
     "output_type": "stream",
     "text": [
      "Summary:\n",
      "-learning rate = 0.00162\n",
      "-path 1 has early stopped:\n",
      " 10000 iterations with no improvement in valid loss.\n",
      "-Model saved after iteration 6151.\n",
      "-Train.  Loss=0.3485929\n",
      "-Valid.  Loss=0.6391482\n",
      "'train_loss01_14.csv' saved.\n",
      "'valid_loss01_14.csv' saved.\n",
      "'model04_forward01_14_last.pth' saved.\n",
      "'model04_forward01_14_best.pth' saved.\n",
      "- train minibatches = 1\n",
      "- valid minibatches = 1\n",
      "- test minibatches = 1\n"
     ]
    },
    {
     "data": {
      "application/vnd.jupyter.widget-view+json": {
       "model_id": "1a9ad8c001394a38aec8a4a6572761bd",
       "version_major": 2,
       "version_minor": 0
      },
      "text/plain": [
       "Epochs loop:   0%|          | 0/50000 [00:00<?, ?it/s]"
      ]
     },
     "metadata": {},
     "output_type": "display_data"
    },
    {
     "name": "stdout",
     "output_type": "stream",
     "text": [
      "Summary:\n",
      "-learning rate = 0.00162\n",
      "-path 1 has early stopped:\n",
      " 10000 iterations with no improvement in valid loss.\n",
      "-Model saved after iteration 4443.\n",
      "-Train.  Loss=0.3953313\n",
      "-Valid.  Loss=0.5182288\n",
      "'train_loss01_15.csv' saved.\n",
      "'valid_loss01_15.csv' saved.\n",
      "'model04_forward01_15_last.pth' saved.\n",
      "'model04_forward01_15_best.pth' saved.\n",
      "- train minibatches = 1\n",
      "- valid minibatches = 1\n",
      "- test minibatches = 1\n"
     ]
    },
    {
     "data": {
      "application/vnd.jupyter.widget-view+json": {
       "model_id": "a3eb20b9c2994413b822374352a07997",
       "version_major": 2,
       "version_minor": 0
      },
      "text/plain": [
       "Epochs loop:   0%|          | 0/50000 [00:00<?, ?it/s]"
      ]
     },
     "metadata": {},
     "output_type": "display_data"
    },
    {
     "name": "stdout",
     "output_type": "stream",
     "text": [
      "Summary:\n",
      "-learning rate = 0.00162\n",
      "-path 1 has early stopped:\n",
      " 10000 iterations with no improvement in valid loss.\n",
      "-Model saved after iteration 4779.\n",
      "-Train.  Loss=0.4194018\n",
      "-Valid.  Loss=0.3498538\n",
      "'train_loss01_16.csv' saved.\n",
      "'valid_loss01_16.csv' saved.\n",
      "'model04_forward01_16_last.pth' saved.\n",
      "'model04_forward01_16_best.pth' saved.\n",
      "- train minibatches = 1\n",
      "- valid minibatches = 1\n",
      "- test minibatches = 1\n"
     ]
    },
    {
     "data": {
      "application/vnd.jupyter.widget-view+json": {
       "model_id": "c294ac1d3c9647f3bab089c11720e77a",
       "version_major": 2,
       "version_minor": 0
      },
      "text/plain": [
       "Epochs loop:   0%|          | 0/50000 [00:00<?, ?it/s]"
      ]
     },
     "metadata": {},
     "output_type": "display_data"
    },
    {
     "name": "stdout",
     "output_type": "stream",
     "text": [
      "Summary:\n",
      "-learning rate = 0.00162\n",
      "-path 1 has early stopped:\n",
      " 10000 iterations with no improvement in valid loss.\n",
      "-Model saved after iteration 3144.\n",
      "-Train.  Loss=0.3538521\n",
      "-Valid.  Loss=0.6405351\n",
      "'train_loss01_17.csv' saved.\n",
      "'valid_loss01_17.csv' saved.\n",
      "'model04_forward01_17_last.pth' saved.\n",
      "'model04_forward01_17_best.pth' saved.\n",
      "- train minibatches = 1\n",
      "- valid minibatches = 1\n",
      "- test minibatches = 1\n"
     ]
    },
    {
     "data": {
      "application/vnd.jupyter.widget-view+json": {
       "model_id": "aa2eda462eaf4034959ef9cfb0cf741a",
       "version_major": 2,
       "version_minor": 0
      },
      "text/plain": [
       "Epochs loop:   0%|          | 0/50000 [00:00<?, ?it/s]"
      ]
     },
     "metadata": {},
     "output_type": "display_data"
    },
    {
     "name": "stdout",
     "output_type": "stream",
     "text": [
      "Summary:\n",
      "-learning rate = 0.00162\n",
      "-path 1 has early stopped:\n",
      " 10000 iterations with no improvement in valid loss.\n",
      "-Model saved after iteration 910.\n",
      "-Train.  Loss=0.4346052\n",
      "-Valid.  Loss=0.5334011\n",
      "'train_loss01_18.csv' saved.\n",
      "'valid_loss01_18.csv' saved.\n",
      "'model04_forward01_18_last.pth' saved.\n",
      "'model04_forward01_18_best.pth' saved.\n",
      "- train minibatches = 1\n",
      "- valid minibatches = 1\n",
      "- test minibatches = 1\n"
     ]
    },
    {
     "data": {
      "application/vnd.jupyter.widget-view+json": {
       "model_id": "df201f4ec7eb4e3ea19bd7ea771fef77",
       "version_major": 2,
       "version_minor": 0
      },
      "text/plain": [
       "Epochs loop:   0%|          | 0/50000 [00:00<?, ?it/s]"
      ]
     },
     "metadata": {},
     "output_type": "display_data"
    },
    {
     "name": "stdout",
     "output_type": "stream",
     "text": [
      "Summary:\n",
      "-learning rate = 0.00162\n",
      "-path 1 has early stopped:\n",
      " 10000 iterations with no improvement in valid loss.\n",
      "-Model saved after iteration 5245.\n",
      "-Train.  Loss=0.3816639\n",
      "-Valid.  Loss=0.3976313\n",
      "'train_loss01_19.csv' saved.\n",
      "'valid_loss01_19.csv' saved.\n",
      "'model04_forward01_19_last.pth' saved.\n",
      "'model04_forward01_19_best.pth' saved.\n",
      "- train minibatches = 1\n",
      "- valid minibatches = 1\n",
      "- test minibatches = 1\n"
     ]
    },
    {
     "data": {
      "application/vnd.jupyter.widget-view+json": {
       "model_id": "5603f8e75fc44ca19620734bc6f33312",
       "version_major": 2,
       "version_minor": 0
      },
      "text/plain": [
       "Epochs loop:   0%|          | 0/50000 [00:00<?, ?it/s]"
      ]
     },
     "metadata": {},
     "output_type": "display_data"
    },
    {
     "name": "stdout",
     "output_type": "stream",
     "text": [
      "Summary:\n",
      "-learning rate = 0.00162\n",
      "-path 1 has early stopped:\n",
      " 10000 iterations with no improvement in valid loss.\n",
      "-Model saved after iteration 2586.\n",
      "-Train.  Loss=0.3797729\n",
      "-Valid.  Loss=0.6619277\n",
      "'train_loss01_20.csv' saved.\n",
      "'valid_loss01_20.csv' saved.\n",
      "'model04_forward01_20_last.pth' saved.\n",
      "'model04_forward01_20_best.pth' saved.\n",
      "- train minibatches = 1\n",
      "- valid minibatches = 1\n",
      "- test minibatches = 1\n"
     ]
    },
    {
     "data": {
      "application/vnd.jupyter.widget-view+json": {
       "model_id": "e08e31a8b7d34eb086aa7b1718558c6e",
       "version_major": 2,
       "version_minor": 0
      },
      "text/plain": [
       "Epochs loop:   0%|          | 0/50000 [00:00<?, ?it/s]"
      ]
     },
     "metadata": {},
     "output_type": "display_data"
    },
    {
     "name": "stdout",
     "output_type": "stream",
     "text": [
      "Summary:\n",
      "-learning rate = 0.00162\n",
      "-path 1 has early stopped:\n",
      " 10000 iterations with no improvement in valid loss.\n",
      "-Model saved after iteration 6926.\n",
      "-Train.  Loss=0.3470893\n",
      "-Valid.  Loss=0.6095698\n",
      "'train_loss01_21.csv' saved.\n",
      "'valid_loss01_21.csv' saved.\n",
      "'model04_forward01_21_last.pth' saved.\n",
      "'model04_forward01_21_best.pth' saved.\n",
      "- train minibatches = 1\n",
      "- valid minibatches = 1\n",
      "- test minibatches = 1\n"
     ]
    },
    {
     "data": {
      "application/vnd.jupyter.widget-view+json": {
       "model_id": "1aeb02ef788346d7bbb70a4e9aead8e6",
       "version_major": 2,
       "version_minor": 0
      },
      "text/plain": [
       "Epochs loop:   0%|          | 0/50000 [00:00<?, ?it/s]"
      ]
     },
     "metadata": {},
     "output_type": "display_data"
    },
    {
     "name": "stdout",
     "output_type": "stream",
     "text": [
      "Summary:\n",
      "-learning rate = 0.00162\n",
      "-path 1 has early stopped:\n",
      " 10000 iterations with no improvement in valid loss.\n",
      "-Model saved after iteration 14815.\n",
      "-Train.  Loss=0.3333492\n",
      "-Valid.  Loss=0.5238968\n",
      "'train_loss01_22.csv' saved.\n",
      "'valid_loss01_22.csv' saved.\n",
      "'model04_forward01_22_last.pth' saved.\n",
      "'model04_forward01_22_best.pth' saved.\n",
      "- train minibatches = 1\n",
      "- valid minibatches = 1\n",
      "- test minibatches = 1\n"
     ]
    },
    {
     "data": {
      "application/vnd.jupyter.widget-view+json": {
       "model_id": "e6165a31ad7942f9969b21f5cb29da01",
       "version_major": 2,
       "version_minor": 0
      },
      "text/plain": [
       "Epochs loop:   0%|          | 0/50000 [00:00<?, ?it/s]"
      ]
     },
     "metadata": {},
     "output_type": "display_data"
    },
    {
     "name": "stdout",
     "output_type": "stream",
     "text": [
      "Summary:\n",
      "-learning rate = 0.00162\n",
      "-path 1 has early stopped:\n",
      " 10000 iterations with no improvement in valid loss.\n",
      "-Model saved after iteration 7511.\n",
      "-Train.  Loss=0.3775466\n",
      "-Valid.  Loss=0.3450650\n",
      "'train_loss01_23.csv' saved.\n",
      "'valid_loss01_23.csv' saved.\n",
      "'model04_forward01_23_last.pth' saved.\n",
      "'model04_forward01_23_best.pth' saved.\n",
      "- train minibatches = 1\n",
      "- valid minibatches = 1\n",
      "- test minibatches = 1\n"
     ]
    },
    {
     "data": {
      "application/vnd.jupyter.widget-view+json": {
       "model_id": "c7f80cbded174170a51e972c69625cf3",
       "version_major": 2,
       "version_minor": 0
      },
      "text/plain": [
       "Epochs loop:   0%|          | 0/50000 [00:00<?, ?it/s]"
      ]
     },
     "metadata": {},
     "output_type": "display_data"
    },
    {
     "name": "stdout",
     "output_type": "stream",
     "text": [
      "Summary:\n",
      "-learning rate = 0.00162\n",
      "-path 1 has early stopped:\n",
      " 10000 iterations with no improvement in valid loss.\n",
      "-Model saved after iteration 6337.\n",
      "-Train.  Loss=0.3326273\n",
      "-Valid.  Loss=0.3767577\n",
      "'train_loss01_24.csv' saved.\n",
      "'valid_loss01_24.csv' saved.\n",
      "'model04_forward01_24_last.pth' saved.\n",
      "'model04_forward01_24_best.pth' saved.\n",
      "- train minibatches = 1\n",
      "- valid minibatches = 1\n",
      "- test minibatches = 1\n"
     ]
    },
    {
     "data": {
      "application/vnd.jupyter.widget-view+json": {
       "model_id": "bdc0df8c731f4550b9edc192e1db85aa",
       "version_major": 2,
       "version_minor": 0
      },
      "text/plain": [
       "Epochs loop:   0%|          | 0/50000 [00:00<?, ?it/s]"
      ]
     },
     "metadata": {},
     "output_type": "display_data"
    },
    {
     "name": "stdout",
     "output_type": "stream",
     "text": [
      "Summary:\n",
      "-learning rate = 0.00162\n",
      "-path 1 has early stopped:\n",
      " 10000 iterations with no improvement in valid loss.\n",
      "-Model saved after iteration 1126.\n",
      "-Train.  Loss=0.4171396\n",
      "-Valid.  Loss=0.5994126\n",
      "'train_loss01_25.csv' saved.\n",
      "'valid_loss01_25.csv' saved.\n",
      "'model04_forward01_25_last.pth' saved.\n",
      "'model04_forward01_25_best.pth' saved.\n",
      "- train minibatches = 1\n",
      "- valid minibatches = 1\n",
      "- test minibatches = 1\n"
     ]
    },
    {
     "data": {
      "application/vnd.jupyter.widget-view+json": {
       "model_id": "cde659af352e48e3a04cd70890ca68c1",
       "version_major": 2,
       "version_minor": 0
      },
      "text/plain": [
       "Epochs loop:   0%|          | 0/50000 [00:00<?, ?it/s]"
      ]
     },
     "metadata": {},
     "output_type": "display_data"
    },
    {
     "name": "stdout",
     "output_type": "stream",
     "text": [
      "Summary:\n",
      "-learning rate = 0.00162\n",
      "-path 1 has early stopped:\n",
      " 10000 iterations with no improvement in valid loss.\n",
      "-Model saved after iteration 6897.\n",
      "-Train.  Loss=0.3554920\n",
      "-Valid.  Loss=0.4081435\n",
      "'train_loss01_26.csv' saved.\n",
      "'valid_loss01_26.csv' saved.\n",
      "'model04_forward01_26_last.pth' saved.\n",
      "'model04_forward01_26_best.pth' saved.\n",
      "- train minibatches = 1\n",
      "- valid minibatches = 1\n",
      "- test minibatches = 1\n"
     ]
    },
    {
     "data": {
      "application/vnd.jupyter.widget-view+json": {
       "model_id": "506ee48afedc4473a73c0fa4e46b8b95",
       "version_major": 2,
       "version_minor": 0
      },
      "text/plain": [
       "Epochs loop:   0%|          | 0/50000 [00:00<?, ?it/s]"
      ]
     },
     "metadata": {},
     "output_type": "display_data"
    },
    {
     "name": "stdout",
     "output_type": "stream",
     "text": [
      "Summary:\n",
      "-learning rate = 0.00162\n",
      "-path 1 has early stopped:\n",
      " 10000 iterations with no improvement in valid loss.\n",
      "-Model saved after iteration 5257.\n",
      "-Train.  Loss=0.3949449\n",
      "-Valid.  Loss=0.4208395\n",
      "'train_loss01_27.csv' saved.\n",
      "'valid_loss01_27.csv' saved.\n",
      "'model04_forward01_27_last.pth' saved.\n",
      "'model04_forward01_27_best.pth' saved.\n",
      "- train minibatches = 1\n",
      "- valid minibatches = 1\n",
      "- test minibatches = 1\n"
     ]
    },
    {
     "data": {
      "application/vnd.jupyter.widget-view+json": {
       "model_id": "5bc39667570d4dc1b62fd3e199c152d5",
       "version_major": 2,
       "version_minor": 0
      },
      "text/plain": [
       "Epochs loop:   0%|          | 0/50000 [00:00<?, ?it/s]"
      ]
     },
     "metadata": {},
     "output_type": "display_data"
    },
    {
     "name": "stdout",
     "output_type": "stream",
     "text": [
      "Summary:\n",
      "-learning rate = 0.00162\n",
      "-path 1 has early stopped:\n",
      " 10000 iterations with no improvement in valid loss.\n",
      "-Model saved after iteration 9100.\n",
      "-Train.  Loss=0.3268467\n",
      "-Valid.  Loss=0.4805458\n",
      "'train_loss01_28.csv' saved.\n",
      "'valid_loss01_28.csv' saved.\n",
      "'model04_forward01_28_last.pth' saved.\n",
      "'model04_forward01_28_best.pth' saved.\n",
      "- train minibatches = 1\n",
      "- valid minibatches = 1\n",
      "- test minibatches = 1\n"
     ]
    },
    {
     "data": {
      "application/vnd.jupyter.widget-view+json": {
       "model_id": "53f0cd06bb504a37a2a8f5a45c81bbb1",
       "version_major": 2,
       "version_minor": 0
      },
      "text/plain": [
       "Epochs loop:   0%|          | 0/50000 [00:00<?, ?it/s]"
      ]
     },
     "metadata": {},
     "output_type": "display_data"
    },
    {
     "name": "stdout",
     "output_type": "stream",
     "text": [
      "Summary:\n",
      "-learning rate = 0.00162\n",
      "-path 1 has early stopped:\n",
      " 10000 iterations with no improvement in valid loss.\n",
      "-Model saved after iteration 3534.\n",
      "-Train.  Loss=0.3563104\n",
      "-Valid.  Loss=0.6190776\n",
      "'train_loss01_29.csv' saved.\n",
      "'valid_loss01_29.csv' saved.\n",
      "'model04_forward01_29_last.pth' saved.\n",
      "'model04_forward01_29_best.pth' saved.\n",
      "- train minibatches = 1\n",
      "- valid minibatches = 1\n",
      "- test minibatches = 1\n"
     ]
    },
    {
     "data": {
      "application/vnd.jupyter.widget-view+json": {
       "model_id": "af020dfe442f4d1eb4d0f72639fd40c1",
       "version_major": 2,
       "version_minor": 0
      },
      "text/plain": [
       "Epochs loop:   0%|          | 0/50000 [00:00<?, ?it/s]"
      ]
     },
     "metadata": {},
     "output_type": "display_data"
    },
    {
     "name": "stdout",
     "output_type": "stream",
     "text": [
      "Summary:\n",
      "-learning rate = 0.00162\n",
      "-path 1 has early stopped:\n",
      " 10000 iterations with no improvement in valid loss.\n",
      "-Model saved after iteration 8484.\n",
      "-Train.  Loss=0.3323335\n",
      "-Valid.  Loss=0.5369825\n",
      "'train_loss01_30.csv' saved.\n",
      "'valid_loss01_30.csv' saved.\n",
      "'model04_forward01_30_last.pth' saved.\n",
      "'model04_forward01_30_best.pth' saved.\n",
      "- train minibatches = 1\n",
      "- valid minibatches = 1\n",
      "- test minibatches = 1\n"
     ]
    },
    {
     "data": {
      "application/vnd.jupyter.widget-view+json": {
       "model_id": "43b7914152044594ad04ee2676bb55a4",
       "version_major": 2,
       "version_minor": 0
      },
      "text/plain": [
       "Epochs loop:   0%|          | 0/50000 [00:00<?, ?it/s]"
      ]
     },
     "metadata": {},
     "output_type": "display_data"
    },
    {
     "name": "stdout",
     "output_type": "stream",
     "text": [
      "Summary:\n",
      "-learning rate = 0.00162\n",
      "-path 1 has early stopped:\n",
      " 10000 iterations with no improvement in valid loss.\n",
      "-Model saved after iteration 6725.\n",
      "-Train.  Loss=0.3153169\n",
      "-Valid.  Loss=0.5546482\n",
      "'train_loss01_31.csv' saved.\n",
      "'valid_loss01_31.csv' saved.\n",
      "'model04_forward01_31_last.pth' saved.\n",
      "'model04_forward01_31_best.pth' saved.\n",
      "- train minibatches = 1\n",
      "- valid minibatches = 1\n",
      "- test minibatches = 1\n"
     ]
    },
    {
     "data": {
      "application/vnd.jupyter.widget-view+json": {
       "model_id": "f180cb0e370c4beebfe997b4f05a8991",
       "version_major": 2,
       "version_minor": 0
      },
      "text/plain": [
       "Epochs loop:   0%|          | 0/50000 [00:00<?, ?it/s]"
      ]
     },
     "metadata": {},
     "output_type": "display_data"
    },
    {
     "name": "stdout",
     "output_type": "stream",
     "text": [
      "Summary:\n",
      "-learning rate = 0.00162\n",
      "-path 1 has early stopped:\n",
      " 10000 iterations with no improvement in valid loss.\n",
      "-Model saved after iteration 3232.\n",
      "-Train.  Loss=0.4151506\n",
      "-Valid.  Loss=0.3684830\n",
      "'train_loss01_32.csv' saved.\n",
      "'valid_loss01_32.csv' saved.\n",
      "'model04_forward01_32_last.pth' saved.\n",
      "'model04_forward01_32_best.pth' saved.\n",
      "- train minibatches = 1\n",
      "- valid minibatches = 1\n",
      "- test minibatches = 1\n"
     ]
    },
    {
     "data": {
      "application/vnd.jupyter.widget-view+json": {
       "model_id": "0e3bebc81baf46b486bee693a613aacf",
       "version_major": 2,
       "version_minor": 0
      },
      "text/plain": [
       "Epochs loop:   0%|          | 0/50000 [00:00<?, ?it/s]"
      ]
     },
     "metadata": {},
     "output_type": "display_data"
    },
    {
     "name": "stdout",
     "output_type": "stream",
     "text": [
      "Summary:\n",
      "-learning rate = 0.00162\n",
      "-path 1 has early stopped:\n",
      " 10000 iterations with no improvement in valid loss.\n",
      "-Model saved after iteration 2474.\n",
      "-Train.  Loss=0.4150427\n",
      "-Valid.  Loss=0.4725018\n",
      "'train_loss01_33.csv' saved.\n",
      "'valid_loss01_33.csv' saved.\n",
      "'model04_forward01_33_last.pth' saved.\n",
      "'model04_forward01_33_best.pth' saved.\n",
      "- train minibatches = 1\n",
      "- valid minibatches = 1\n",
      "- test minibatches = 1\n"
     ]
    },
    {
     "data": {
      "application/vnd.jupyter.widget-view+json": {
       "model_id": "ac44114f84a64e1eb8e55c803e97ef0c",
       "version_major": 2,
       "version_minor": 0
      },
      "text/plain": [
       "Epochs loop:   0%|          | 0/50000 [00:00<?, ?it/s]"
      ]
     },
     "metadata": {},
     "output_type": "display_data"
    },
    {
     "name": "stdout",
     "output_type": "stream",
     "text": [
      "Summary:\n",
      "-learning rate = 0.00162\n",
      "-path 1 has early stopped:\n",
      " 10000 iterations with no improvement in valid loss.\n",
      "-Model saved after iteration 5916.\n",
      "-Train.  Loss=0.3798234\n",
      "-Valid.  Loss=0.3995762\n",
      "'train_loss01_34.csv' saved.\n",
      "'valid_loss01_34.csv' saved.\n",
      "'model04_forward01_34_last.pth' saved.\n",
      "'model04_forward01_34_best.pth' saved.\n",
      "- train minibatches = 1\n",
      "- valid minibatches = 1\n",
      "- test minibatches = 1\n"
     ]
    },
    {
     "data": {
      "application/vnd.jupyter.widget-view+json": {
       "model_id": "7a43fee669814228b474487c5fddc482",
       "version_major": 2,
       "version_minor": 0
      },
      "text/plain": [
       "Epochs loop:   0%|          | 0/50000 [00:00<?, ?it/s]"
      ]
     },
     "metadata": {},
     "output_type": "display_data"
    },
    {
     "name": "stdout",
     "output_type": "stream",
     "text": [
      "Summary:\n",
      "-learning rate = 0.00162\n",
      "-path 1 has early stopped:\n",
      " 10000 iterations with no improvement in valid loss.\n",
      "-Model saved after iteration 9687.\n",
      "-Train.  Loss=0.3196104\n",
      "-Valid.  Loss=0.3980752\n",
      "'train_loss01_35.csv' saved.\n",
      "'valid_loss01_35.csv' saved.\n",
      "'model04_forward01_35_last.pth' saved.\n",
      "'model04_forward01_35_best.pth' saved.\n",
      "- train minibatches = 1\n",
      "- valid minibatches = 1\n",
      "- test minibatches = 1\n"
     ]
    },
    {
     "data": {
      "application/vnd.jupyter.widget-view+json": {
       "model_id": "dd3a009a45a14afd91291551a2904880",
       "version_major": 2,
       "version_minor": 0
      },
      "text/plain": [
       "Epochs loop:   0%|          | 0/50000 [00:00<?, ?it/s]"
      ]
     },
     "metadata": {},
     "output_type": "display_data"
    },
    {
     "name": "stdout",
     "output_type": "stream",
     "text": [
      "Summary:\n",
      "-learning rate = 0.00162\n",
      "-path 1 has early stopped:\n",
      " 10000 iterations with no improvement in valid loss.\n",
      "-Model saved after iteration 6196.\n",
      "-Train.  Loss=0.3778460\n",
      "-Valid.  Loss=0.3075244\n",
      "'train_loss01_36.csv' saved.\n",
      "'valid_loss01_36.csv' saved.\n",
      "'model04_forward01_36_last.pth' saved.\n",
      "'model04_forward01_36_best.pth' saved.\n",
      "- train minibatches = 1\n",
      "- valid minibatches = 1\n",
      "- test minibatches = 1\n"
     ]
    },
    {
     "data": {
      "application/vnd.jupyter.widget-view+json": {
       "model_id": "35581d5f276842ffad0d28769c4b9578",
       "version_major": 2,
       "version_minor": 0
      },
      "text/plain": [
       "Epochs loop:   0%|          | 0/50000 [00:00<?, ?it/s]"
      ]
     },
     "metadata": {},
     "output_type": "display_data"
    },
    {
     "name": "stdout",
     "output_type": "stream",
     "text": [
      "Summary:\n",
      "-learning rate = 0.00162\n",
      "-path 1 has early stopped:\n",
      " 10000 iterations with no improvement in valid loss.\n",
      "-Model saved after iteration 4679.\n",
      "-Train.  Loss=0.3813194\n",
      "-Valid.  Loss=0.4119880\n",
      "'train_loss01_37.csv' saved.\n",
      "'valid_loss01_37.csv' saved.\n",
      "'model04_forward01_37_last.pth' saved.\n",
      "'model04_forward01_37_best.pth' saved.\n",
      "- train minibatches = 1\n",
      "- valid minibatches = 1\n",
      "- test minibatches = 1\n"
     ]
    },
    {
     "data": {
      "application/vnd.jupyter.widget-view+json": {
       "model_id": "eff2cbf8b1cf43439a34305d77ee3bbd",
       "version_major": 2,
       "version_minor": 0
      },
      "text/plain": [
       "Epochs loop:   0%|          | 0/50000 [00:00<?, ?it/s]"
      ]
     },
     "metadata": {},
     "output_type": "display_data"
    },
    {
     "name": "stdout",
     "output_type": "stream",
     "text": [
      "Summary:\n",
      "-learning rate = 0.00162\n",
      "-path 1 has early stopped:\n",
      " 10000 iterations with no improvement in valid loss.\n",
      "-Model saved after iteration 4819.\n",
      "-Train.  Loss=0.3866913\n",
      "-Valid.  Loss=0.5306812\n",
      "'train_loss01_38.csv' saved.\n",
      "'valid_loss01_38.csv' saved.\n",
      "'model04_forward01_38_last.pth' saved.\n",
      "'model04_forward01_38_best.pth' saved.\n",
      "- train minibatches = 1\n",
      "- valid minibatches = 1\n",
      "- test minibatches = 1\n"
     ]
    },
    {
     "data": {
      "application/vnd.jupyter.widget-view+json": {
       "model_id": "d0df3b5111d64d2494bfbdb8844d99fd",
       "version_major": 2,
       "version_minor": 0
      },
      "text/plain": [
       "Epochs loop:   0%|          | 0/50000 [00:00<?, ?it/s]"
      ]
     },
     "metadata": {},
     "output_type": "display_data"
    },
    {
     "name": "stdout",
     "output_type": "stream",
     "text": [
      "Summary:\n",
      "-learning rate = 0.00162\n",
      "-path 1 has early stopped:\n",
      " 10000 iterations with no improvement in valid loss.\n",
      "-Model saved after iteration 2437.\n",
      "-Train.  Loss=0.3924492\n",
      "-Valid.  Loss=0.3700403\n",
      "'train_loss01_39.csv' saved.\n",
      "'valid_loss01_39.csv' saved.\n",
      "'model04_forward01_39_last.pth' saved.\n",
      "'model04_forward01_39_best.pth' saved.\n",
      "- train minibatches = 1\n",
      "- valid minibatches = 1\n",
      "- test minibatches = 1\n"
     ]
    },
    {
     "data": {
      "application/vnd.jupyter.widget-view+json": {
       "model_id": "fceb9d20958b4455a5ead428c015cdf7",
       "version_major": 2,
       "version_minor": 0
      },
      "text/plain": [
       "Epochs loop:   0%|          | 0/50000 [00:00<?, ?it/s]"
      ]
     },
     "metadata": {},
     "output_type": "display_data"
    },
    {
     "name": "stdout",
     "output_type": "stream",
     "text": [
      "Summary:\n",
      "-learning rate = 0.00162\n",
      "-path 1 has early stopped:\n",
      " 10000 iterations with no improvement in valid loss.\n",
      "-Model saved after iteration 2374.\n",
      "-Train.  Loss=0.3503943\n",
      "-Valid.  Loss=0.7620926\n",
      "'train_loss01_40.csv' saved.\n",
      "'valid_loss01_40.csv' saved.\n",
      "'model04_forward01_40_last.pth' saved.\n",
      "'model04_forward01_40_best.pth' saved.\n",
      "- train minibatches = 1\n",
      "- valid minibatches = 1\n",
      "- test minibatches = 1\n"
     ]
    },
    {
     "data": {
      "application/vnd.jupyter.widget-view+json": {
       "model_id": "1d1f74f627ca4f00915d71dccb68089d",
       "version_major": 2,
       "version_minor": 0
      },
      "text/plain": [
       "Epochs loop:   0%|          | 0/50000 [00:00<?, ?it/s]"
      ]
     },
     "metadata": {},
     "output_type": "display_data"
    },
    {
     "name": "stdout",
     "output_type": "stream",
     "text": [
      "Summary:\n",
      "-learning rate = 0.00162\n",
      "-path 1 has early stopped:\n",
      " 10000 iterations with no improvement in valid loss.\n",
      "-Model saved after iteration 4904.\n",
      "-Train.  Loss=0.4041432\n",
      "-Valid.  Loss=0.3538353\n",
      "'train_loss01_41.csv' saved.\n",
      "'valid_loss01_41.csv' saved.\n",
      "'model04_forward01_41_last.pth' saved.\n",
      "'model04_forward01_41_best.pth' saved.\n",
      "- train minibatches = 1\n",
      "- valid minibatches = 1\n",
      "- test minibatches = 1\n"
     ]
    },
    {
     "data": {
      "application/vnd.jupyter.widget-view+json": {
       "model_id": "6cde54a7a0a8405980dd3eb9c475563e",
       "version_major": 2,
       "version_minor": 0
      },
      "text/plain": [
       "Epochs loop:   0%|          | 0/50000 [00:00<?, ?it/s]"
      ]
     },
     "metadata": {},
     "output_type": "display_data"
    },
    {
     "name": "stdout",
     "output_type": "stream",
     "text": [
      "Summary:\n",
      "-learning rate = 0.00162\n",
      "-path 1 has early stopped:\n",
      " 10000 iterations with no improvement in valid loss.\n",
      "-Model saved after iteration 2423.\n",
      "-Train.  Loss=0.4241132\n",
      "-Valid.  Loss=0.3570473\n",
      "'train_loss01_42.csv' saved.\n",
      "'valid_loss01_42.csv' saved.\n",
      "'model04_forward01_42_last.pth' saved.\n",
      "'model04_forward01_42_best.pth' saved.\n",
      "- train minibatches = 1\n",
      "- valid minibatches = 1\n",
      "- test minibatches = 1\n"
     ]
    },
    {
     "data": {
      "application/vnd.jupyter.widget-view+json": {
       "model_id": "8f1881296e1f499f8663527ece38f711",
       "version_major": 2,
       "version_minor": 0
      },
      "text/plain": [
       "Epochs loop:   0%|          | 0/50000 [00:00<?, ?it/s]"
      ]
     },
     "metadata": {},
     "output_type": "display_data"
    },
    {
     "name": "stdout",
     "output_type": "stream",
     "text": [
      "Summary:\n",
      "-learning rate = 0.00162\n",
      "-path 1 has early stopped:\n",
      " 10000 iterations with no improvement in valid loss.\n",
      "-Model saved after iteration 2951.\n",
      "-Train.  Loss=0.3848197\n",
      "-Valid.  Loss=0.3710832\n",
      "'train_loss01_43.csv' saved.\n",
      "'valid_loss01_43.csv' saved.\n",
      "'model04_forward01_43_last.pth' saved.\n",
      "'model04_forward01_43_best.pth' saved.\n",
      "- train minibatches = 1\n",
      "- valid minibatches = 1\n",
      "- test minibatches = 1\n"
     ]
    },
    {
     "data": {
      "application/vnd.jupyter.widget-view+json": {
       "model_id": "9021b294062f4bdf980b08b9a337d455",
       "version_major": 2,
       "version_minor": 0
      },
      "text/plain": [
       "Epochs loop:   0%|          | 0/50000 [00:00<?, ?it/s]"
      ]
     },
     "metadata": {},
     "output_type": "display_data"
    },
    {
     "name": "stdout",
     "output_type": "stream",
     "text": [
      "Summary:\n",
      "-learning rate = 0.00162\n",
      "-path 1 has early stopped:\n",
      " 10000 iterations with no improvement in valid loss.\n",
      "-Model saved after iteration 5928.\n",
      "-Train.  Loss=0.3955199\n",
      "-Valid.  Loss=0.4060615\n",
      "'train_loss01_44.csv' saved.\n",
      "'valid_loss01_44.csv' saved.\n",
      "'model04_forward01_44_last.pth' saved.\n",
      "'model04_forward01_44_best.pth' saved.\n",
      "- train minibatches = 1\n",
      "- valid minibatches = 1\n",
      "- test minibatches = 1\n"
     ]
    },
    {
     "data": {
      "application/vnd.jupyter.widget-view+json": {
       "model_id": "dd7d8e67e2414914a8812ab08ebbf3b8",
       "version_major": 2,
       "version_minor": 0
      },
      "text/plain": [
       "Epochs loop:   0%|          | 0/50000 [00:00<?, ?it/s]"
      ]
     },
     "metadata": {},
     "output_type": "display_data"
    },
    {
     "name": "stdout",
     "output_type": "stream",
     "text": [
      "Summary:\n",
      "-learning rate = 0.00162\n",
      "-path 1 has early stopped:\n",
      " 10000 iterations with no improvement in valid loss.\n",
      "-Model saved after iteration 5782.\n",
      "-Train.  Loss=0.3596230\n",
      "-Valid.  Loss=0.6660892\n",
      "'train_loss01_45.csv' saved.\n",
      "'valid_loss01_45.csv' saved.\n",
      "'model04_forward01_45_last.pth' saved.\n",
      "'model04_forward01_45_best.pth' saved.\n",
      "- train minibatches = 1\n",
      "- valid minibatches = 1\n",
      "- test minibatches = 1\n"
     ]
    },
    {
     "data": {
      "application/vnd.jupyter.widget-view+json": {
       "model_id": "fb9ce5181a52458180ecf62138da45a7",
       "version_major": 2,
       "version_minor": 0
      },
      "text/plain": [
       "Epochs loop:   0%|          | 0/50000 [00:00<?, ?it/s]"
      ]
     },
     "metadata": {},
     "output_type": "display_data"
    },
    {
     "name": "stdout",
     "output_type": "stream",
     "text": [
      "Summary:\n",
      "-learning rate = 0.00162\n",
      "-path 1 has early stopped:\n",
      " 10000 iterations with no improvement in valid loss.\n",
      "-Model saved after iteration 1944.\n",
      "-Train.  Loss=0.3822709\n",
      "-Valid.  Loss=0.6945875\n",
      "'train_loss01_46.csv' saved.\n",
      "'valid_loss01_46.csv' saved.\n",
      "'model04_forward01_46_last.pth' saved.\n",
      "'model04_forward01_46_best.pth' saved.\n",
      "- train minibatches = 1\n",
      "- valid minibatches = 1\n",
      "- test minibatches = 1\n"
     ]
    },
    {
     "data": {
      "application/vnd.jupyter.widget-view+json": {
       "model_id": "424be5a59a5544a5a382dbc67d36b26a",
       "version_major": 2,
       "version_minor": 0
      },
      "text/plain": [
       "Epochs loop:   0%|          | 0/50000 [00:00<?, ?it/s]"
      ]
     },
     "metadata": {},
     "output_type": "display_data"
    },
    {
     "name": "stdout",
     "output_type": "stream",
     "text": [
      "Summary:\n",
      "-learning rate = 0.00162\n",
      "-path 1 has early stopped:\n",
      " 10000 iterations with no improvement in valid loss.\n",
      "-Model saved after iteration 4192.\n",
      "-Train.  Loss=0.3467464\n",
      "-Valid.  Loss=0.6116426\n",
      "'train_loss01_47.csv' saved.\n",
      "'valid_loss01_47.csv' saved.\n",
      "'model04_forward01_47_last.pth' saved.\n",
      "'model04_forward01_47_best.pth' saved.\n",
      "- train minibatches = 1\n",
      "- valid minibatches = 1\n",
      "- test minibatches = 1\n"
     ]
    },
    {
     "data": {
      "application/vnd.jupyter.widget-view+json": {
       "model_id": "4a17e8c8053c488589462b8ef6d7ec54",
       "version_major": 2,
       "version_minor": 0
      },
      "text/plain": [
       "Epochs loop:   0%|          | 0/50000 [00:00<?, ?it/s]"
      ]
     },
     "metadata": {},
     "output_type": "display_data"
    },
    {
     "name": "stdout",
     "output_type": "stream",
     "text": [
      "Summary:\n",
      "-learning rate = 0.00162\n",
      "-path 1 has early stopped:\n",
      " 10000 iterations with no improvement in valid loss.\n",
      "-Model saved after iteration 5182.\n",
      "-Train.  Loss=0.3303074\n",
      "-Valid.  Loss=0.7027773\n",
      "'train_loss01_48.csv' saved.\n",
      "'valid_loss01_48.csv' saved.\n",
      "'model04_forward01_48_last.pth' saved.\n",
      "'model04_forward01_48_best.pth' saved.\n",
      "- train minibatches = 1\n",
      "- valid minibatches = 1\n",
      "- test minibatches = 1\n"
     ]
    },
    {
     "data": {
      "application/vnd.jupyter.widget-view+json": {
       "model_id": "568c0026bad44ad7b7b8bdcffd985c24",
       "version_major": 2,
       "version_minor": 0
      },
      "text/plain": [
       "Epochs loop:   0%|          | 0/50000 [00:00<?, ?it/s]"
      ]
     },
     "metadata": {},
     "output_type": "display_data"
    },
    {
     "name": "stdout",
     "output_type": "stream",
     "text": [
      "Summary:\n",
      "-learning rate = 0.00162\n",
      "-path 1 has early stopped:\n",
      " 10000 iterations with no improvement in valid loss.\n",
      "-Model saved after iteration 9323.\n",
      "-Train.  Loss=0.3244085\n",
      "-Valid.  Loss=0.5315750\n",
      "'train_loss01_49.csv' saved.\n",
      "'valid_loss01_49.csv' saved.\n",
      "'model04_forward01_49_last.pth' saved.\n",
      "'model04_forward01_49_best.pth' saved.\n",
      "- train minibatches = 1\n",
      "- valid minibatches = 1\n",
      "- test minibatches = 1\n"
     ]
    },
    {
     "data": {
      "application/vnd.jupyter.widget-view+json": {
       "model_id": "34e64545e40c45b89b1204d29a370223",
       "version_major": 2,
       "version_minor": 0
      },
      "text/plain": [
       "Epochs loop:   0%|          | 0/50000 [00:00<?, ?it/s]"
      ]
     },
     "metadata": {},
     "output_type": "display_data"
    },
    {
     "name": "stdout",
     "output_type": "stream",
     "text": [
      "Summary:\n",
      "-learning rate = 0.00162\n",
      "-path 1 has early stopped:\n",
      " 10000 iterations with no improvement in valid loss.\n",
      "-Model saved after iteration 8556.\n",
      "-Train.  Loss=0.3221239\n",
      "-Valid.  Loss=0.6618559\n",
      "'train_loss01_50.csv' saved.\n",
      "'valid_loss01_50.csv' saved.\n",
      "'model04_forward01_50_last.pth' saved.\n",
      "'model04_forward01_50_best.pth' saved.\n",
      "- train minibatches = 1\n",
      "- valid minibatches = 1\n",
      "- test minibatches = 1\n"
     ]
    },
    {
     "data": {
      "application/vnd.jupyter.widget-view+json": {
       "model_id": "4a00e3d77690430baaf7ab9103c83acd",
       "version_major": 2,
       "version_minor": 0
      },
      "text/plain": [
       "Epochs loop:   0%|          | 0/50000 [00:00<?, ?it/s]"
      ]
     },
     "metadata": {},
     "output_type": "display_data"
    },
    {
     "name": "stdout",
     "output_type": "stream",
     "text": [
      "Summary:\n",
      "-learning rate = 0.00162\n",
      "-path 1 has early stopped:\n",
      " 10000 iterations with no improvement in valid loss.\n",
      "-Model saved after iteration 5451.\n",
      "-Train.  Loss=0.4112184\n",
      "-Valid.  Loss=0.4436668\n",
      "'train_loss01_51.csv' saved.\n",
      "'valid_loss01_51.csv' saved.\n",
      "'model04_forward01_51_last.pth' saved.\n",
      "'model04_forward01_51_best.pth' saved.\n",
      "- train minibatches = 1\n",
      "- valid minibatches = 1\n",
      "- test minibatches = 1\n"
     ]
    },
    {
     "data": {
      "application/vnd.jupyter.widget-view+json": {
       "model_id": "3b5097b749354d38b13e1f5e10fc37e8",
       "version_major": 2,
       "version_minor": 0
      },
      "text/plain": [
       "Epochs loop:   0%|          | 0/50000 [00:00<?, ?it/s]"
      ]
     },
     "metadata": {},
     "output_type": "display_data"
    },
    {
     "name": "stdout",
     "output_type": "stream",
     "text": [
      "Summary:\n",
      "-learning rate = 0.00162\n",
      "-path 1 has early stopped:\n",
      " 10000 iterations with no improvement in valid loss.\n",
      "-Model saved after iteration 5343.\n",
      "-Train.  Loss=0.3788665\n",
      "-Valid.  Loss=0.4750015\n",
      "'train_loss01_52.csv' saved.\n",
      "'valid_loss01_52.csv' saved.\n",
      "'model04_forward01_52_last.pth' saved.\n",
      "'model04_forward01_52_best.pth' saved.\n",
      "- train minibatches = 1\n",
      "- valid minibatches = 1\n",
      "- test minibatches = 1\n"
     ]
    },
    {
     "data": {
      "application/vnd.jupyter.widget-view+json": {
       "model_id": "082249c5c55548ce8e7ea1808adb266d",
       "version_major": 2,
       "version_minor": 0
      },
      "text/plain": [
       "Epochs loop:   0%|          | 0/50000 [00:00<?, ?it/s]"
      ]
     },
     "metadata": {},
     "output_type": "display_data"
    },
    {
     "name": "stdout",
     "output_type": "stream",
     "text": [
      "Summary:\n",
      "-learning rate = 0.00162\n",
      "-path 1 has early stopped:\n",
      " 10000 iterations with no improvement in valid loss.\n",
      "-Model saved after iteration 2842.\n",
      "-Train.  Loss=0.3552195\n",
      "-Valid.  Loss=0.6068385\n",
      "'train_loss01_53.csv' saved.\n",
      "'valid_loss01_53.csv' saved.\n",
      "'model04_forward01_53_last.pth' saved.\n",
      "'model04_forward01_53_best.pth' saved.\n",
      "- train minibatches = 1\n",
      "- valid minibatches = 1\n",
      "- test minibatches = 1\n"
     ]
    },
    {
     "data": {
      "application/vnd.jupyter.widget-view+json": {
       "model_id": "751ef450f1df404f8a7e98987f008823",
       "version_major": 2,
       "version_minor": 0
      },
      "text/plain": [
       "Epochs loop:   0%|          | 0/50000 [00:00<?, ?it/s]"
      ]
     },
     "metadata": {},
     "output_type": "display_data"
    },
    {
     "name": "stdout",
     "output_type": "stream",
     "text": [
      "Summary:\n",
      "-learning rate = 0.00162\n",
      "-path 1 has early stopped:\n",
      " 10000 iterations with no improvement in valid loss.\n",
      "-Model saved after iteration 3571.\n",
      "-Train.  Loss=0.3606049\n",
      "-Valid.  Loss=0.4409914\n",
      "'train_loss01_54.csv' saved.\n",
      "'valid_loss01_54.csv' saved.\n",
      "'model04_forward01_54_last.pth' saved.\n",
      "'model04_forward01_54_best.pth' saved.\n",
      "- train minibatches = 1\n",
      "- valid minibatches = 1\n",
      "- test minibatches = 1\n"
     ]
    },
    {
     "data": {
      "application/vnd.jupyter.widget-view+json": {
       "model_id": "56b99ee300174a399fb8d579e2c48734",
       "version_major": 2,
       "version_minor": 0
      },
      "text/plain": [
       "Epochs loop:   0%|          | 0/50000 [00:00<?, ?it/s]"
      ]
     },
     "metadata": {},
     "output_type": "display_data"
    },
    {
     "name": "stdout",
     "output_type": "stream",
     "text": [
      "Summary:\n",
      "-learning rate = 0.00162\n",
      "-path 1 has early stopped:\n",
      " 10000 iterations with no improvement in valid loss.\n",
      "-Model saved after iteration 2781.\n",
      "-Train.  Loss=0.4288387\n",
      "-Valid.  Loss=0.3757063\n",
      "'train_loss01_55.csv' saved.\n",
      "'valid_loss01_55.csv' saved.\n",
      "'model04_forward01_55_last.pth' saved.\n",
      "'model04_forward01_55_best.pth' saved.\n",
      "- train minibatches = 1\n",
      "- valid minibatches = 1\n",
      "- test minibatches = 1\n"
     ]
    },
    {
     "data": {
      "application/vnd.jupyter.widget-view+json": {
       "model_id": "4b1831d7d69e44849a544d9c738fd809",
       "version_major": 2,
       "version_minor": 0
      },
      "text/plain": [
       "Epochs loop:   0%|          | 0/50000 [00:00<?, ?it/s]"
      ]
     },
     "metadata": {},
     "output_type": "display_data"
    },
    {
     "name": "stdout",
     "output_type": "stream",
     "text": [
      "Summary:\n",
      "-learning rate = 0.00162\n",
      "-path 1 has early stopped:\n",
      " 10000 iterations with no improvement in valid loss.\n",
      "-Model saved after iteration 4707.\n",
      "-Train.  Loss=0.4035784\n",
      "-Valid.  Loss=0.4782662\n",
      "'train_loss01_56.csv' saved.\n",
      "'valid_loss01_56.csv' saved.\n",
      "'model04_forward01_56_last.pth' saved.\n",
      "'model04_forward01_56_best.pth' saved.\n",
      "- train minibatches = 1\n",
      "- valid minibatches = 1\n",
      "- test minibatches = 1\n"
     ]
    },
    {
     "data": {
      "application/vnd.jupyter.widget-view+json": {
       "model_id": "3dc06cb683074c149317f1b86277fc99",
       "version_major": 2,
       "version_minor": 0
      },
      "text/plain": [
       "Epochs loop:   0%|          | 0/50000 [00:00<?, ?it/s]"
      ]
     },
     "metadata": {},
     "output_type": "display_data"
    },
    {
     "name": "stdout",
     "output_type": "stream",
     "text": [
      "Summary:\n",
      "-learning rate = 0.00162\n",
      "-path 1 has early stopped:\n",
      " 10000 iterations with no improvement in valid loss.\n",
      "-Model saved after iteration 2082.\n",
      "-Train.  Loss=0.3915617\n",
      "-Valid.  Loss=0.6637983\n",
      "'train_loss01_57.csv' saved.\n",
      "'valid_loss01_57.csv' saved.\n",
      "'model04_forward01_57_last.pth' saved.\n",
      "'model04_forward01_57_best.pth' saved.\n",
      "- train minibatches = 1\n",
      "- valid minibatches = 1\n",
      "- test minibatches = 1\n"
     ]
    },
    {
     "data": {
      "application/vnd.jupyter.widget-view+json": {
       "model_id": "69123a67ddaf4585a67a6eb990d5ff56",
       "version_major": 2,
       "version_minor": 0
      },
      "text/plain": [
       "Epochs loop:   0%|          | 0/50000 [00:00<?, ?it/s]"
      ]
     },
     "metadata": {},
     "output_type": "display_data"
    },
    {
     "name": "stdout",
     "output_type": "stream",
     "text": [
      "Summary:\n",
      "-learning rate = 0.00162\n",
      "-path 1 has early stopped:\n",
      " 10000 iterations with no improvement in valid loss.\n",
      "-Model saved after iteration 3621.\n",
      "-Train.  Loss=0.3872601\n",
      "-Valid.  Loss=0.3602084\n",
      "'train_loss01_58.csv' saved.\n",
      "'valid_loss01_58.csv' saved.\n",
      "'model04_forward01_58_last.pth' saved.\n",
      "'model04_forward01_58_best.pth' saved.\n",
      "- train minibatches = 1\n",
      "- valid minibatches = 1\n",
      "- test minibatches = 1\n"
     ]
    },
    {
     "data": {
      "application/vnd.jupyter.widget-view+json": {
       "model_id": "f085ae58033a477e8eb2df0ae04d0b82",
       "version_major": 2,
       "version_minor": 0
      },
      "text/plain": [
       "Epochs loop:   0%|          | 0/50000 [00:00<?, ?it/s]"
      ]
     },
     "metadata": {},
     "output_type": "display_data"
    },
    {
     "name": "stdout",
     "output_type": "stream",
     "text": [
      "Summary:\n",
      "-learning rate = 0.00162\n",
      "-path 1 has early stopped:\n",
      " 10000 iterations with no improvement in valid loss.\n",
      "-Model saved after iteration 6474.\n",
      "-Train.  Loss=0.3622918\n",
      "-Valid.  Loss=0.4490500\n",
      "'train_loss01_59.csv' saved.\n",
      "'valid_loss01_59.csv' saved.\n",
      "'model04_forward01_59_last.pth' saved.\n",
      "'model04_forward01_59_best.pth' saved.\n",
      "- train minibatches = 1\n",
      "- valid minibatches = 1\n",
      "- test minibatches = 1\n"
     ]
    },
    {
     "data": {
      "application/vnd.jupyter.widget-view+json": {
       "model_id": "9804832236b743ea9f9045fb13acf0b3",
       "version_major": 2,
       "version_minor": 0
      },
      "text/plain": [
       "Epochs loop:   0%|          | 0/50000 [00:00<?, ?it/s]"
      ]
     },
     "metadata": {},
     "output_type": "display_data"
    },
    {
     "name": "stdout",
     "output_type": "stream",
     "text": [
      "Summary:\n",
      "-learning rate = 0.00162\n",
      "-path 1 has early stopped:\n",
      " 10000 iterations with no improvement in valid loss.\n",
      "-Model saved after iteration 11971.\n",
      "-Train.  Loss=0.3488468\n",
      "-Valid.  Loss=0.3741967\n",
      "'train_loss01_60.csv' saved.\n",
      "'valid_loss01_60.csv' saved.\n",
      "'model04_forward01_60_last.pth' saved.\n",
      "'model04_forward01_60_best.pth' saved.\n",
      "- train minibatches = 1\n",
      "- valid minibatches = 1\n",
      "- test minibatches = 1\n"
     ]
    },
    {
     "data": {
      "application/vnd.jupyter.widget-view+json": {
       "model_id": "7fc76f6326984711ba93c7c5e18ecc2b",
       "version_major": 2,
       "version_minor": 0
      },
      "text/plain": [
       "Epochs loop:   0%|          | 0/50000 [00:00<?, ?it/s]"
      ]
     },
     "metadata": {},
     "output_type": "display_data"
    },
    {
     "name": "stdout",
     "output_type": "stream",
     "text": [
      "Summary:\n",
      "-learning rate = 0.00162\n",
      "-path 1 has early stopped:\n",
      " 10000 iterations with no improvement in valid loss.\n",
      "-Model saved after iteration 4970.\n",
      "-Train.  Loss=0.3946238\n",
      "-Valid.  Loss=0.3761199\n",
      "'train_loss01_61.csv' saved.\n",
      "'valid_loss01_61.csv' saved.\n",
      "'model04_forward01_61_last.pth' saved.\n",
      "'model04_forward01_61_best.pth' saved.\n",
      "- train minibatches = 1\n",
      "- valid minibatches = 1\n",
      "- test minibatches = 1\n"
     ]
    },
    {
     "data": {
      "application/vnd.jupyter.widget-view+json": {
       "model_id": "b1ad9f6b54954da1ae44823749cc472b",
       "version_major": 2,
       "version_minor": 0
      },
      "text/plain": [
       "Epochs loop:   0%|          | 0/50000 [00:00<?, ?it/s]"
      ]
     },
     "metadata": {},
     "output_type": "display_data"
    },
    {
     "name": "stdout",
     "output_type": "stream",
     "text": [
      "Summary:\n",
      "-learning rate = 0.00162\n",
      "-path 1 has early stopped:\n",
      " 10000 iterations with no improvement in valid loss.\n",
      "-Model saved after iteration 3444.\n",
      "-Train.  Loss=0.4090616\n",
      "-Valid.  Loss=0.3068153\n",
      "'train_loss01_62.csv' saved.\n",
      "'valid_loss01_62.csv' saved.\n",
      "'model04_forward01_62_last.pth' saved.\n",
      "'model04_forward01_62_best.pth' saved.\n",
      "- train minibatches = 1\n",
      "- valid minibatches = 1\n",
      "- test minibatches = 1\n"
     ]
    },
    {
     "data": {
      "application/vnd.jupyter.widget-view+json": {
       "model_id": "37018fee933e4dafa45828e89d599ad1",
       "version_major": 2,
       "version_minor": 0
      },
      "text/plain": [
       "Epochs loop:   0%|          | 0/50000 [00:00<?, ?it/s]"
      ]
     },
     "metadata": {},
     "output_type": "display_data"
    },
    {
     "name": "stdout",
     "output_type": "stream",
     "text": [
      "Summary:\n",
      "-learning rate = 0.00162\n",
      "-path 1 has early stopped:\n",
      " 10000 iterations with no improvement in valid loss.\n",
      "-Model saved after iteration 7566.\n",
      "-Train.  Loss=0.3406538\n",
      "-Valid.  Loss=0.5734075\n",
      "'train_loss01_63.csv' saved.\n",
      "'valid_loss01_63.csv' saved.\n",
      "'model04_forward01_63_last.pth' saved.\n",
      "'model04_forward01_63_best.pth' saved.\n",
      "- train minibatches = 1\n",
      "- valid minibatches = 1\n",
      "- test minibatches = 1\n"
     ]
    },
    {
     "data": {
      "application/vnd.jupyter.widget-view+json": {
       "model_id": "d7ac5d46439540469cd2766ca6407777",
       "version_major": 2,
       "version_minor": 0
      },
      "text/plain": [
       "Epochs loop:   0%|          | 0/50000 [00:00<?, ?it/s]"
      ]
     },
     "metadata": {},
     "output_type": "display_data"
    },
    {
     "name": "stdout",
     "output_type": "stream",
     "text": [
      "Summary:\n",
      "-learning rate = 0.00162\n",
      "-path 1 has early stopped:\n",
      " 10000 iterations with no improvement in valid loss.\n",
      "-Model saved after iteration 10264.\n",
      "-Train.  Loss=0.3606460\n",
      "-Valid.  Loss=0.4271391\n",
      "'train_loss01_64.csv' saved.\n",
      "'valid_loss01_64.csv' saved.\n",
      "'model04_forward01_64_last.pth' saved.\n",
      "'model04_forward01_64_best.pth' saved.\n",
      "- train minibatches = 1\n",
      "- valid minibatches = 1\n",
      "- test minibatches = 1\n"
     ]
    },
    {
     "data": {
      "application/vnd.jupyter.widget-view+json": {
       "model_id": "26eef2f5a82f4cde87f248097a614d21",
       "version_major": 2,
       "version_minor": 0
      },
      "text/plain": [
       "Epochs loop:   0%|          | 0/50000 [00:00<?, ?it/s]"
      ]
     },
     "metadata": {},
     "output_type": "display_data"
    },
    {
     "name": "stdout",
     "output_type": "stream",
     "text": [
      "Summary:\n",
      "-learning rate = 0.00162\n",
      "-path 1 has early stopped:\n",
      " 10000 iterations with no improvement in valid loss.\n",
      "-Model saved after iteration 1678.\n",
      "-Train.  Loss=0.4316769\n",
      "-Valid.  Loss=0.3875030\n",
      "'train_loss01_65.csv' saved.\n",
      "'valid_loss01_65.csv' saved.\n",
      "'model04_forward01_65_last.pth' saved.\n",
      "'model04_forward01_65_best.pth' saved.\n",
      "- train minibatches = 1\n",
      "- valid minibatches = 1\n",
      "- test minibatches = 1\n"
     ]
    },
    {
     "data": {
      "application/vnd.jupyter.widget-view+json": {
       "model_id": "d0851021b3c7467f934ea0285a6c25a1",
       "version_major": 2,
       "version_minor": 0
      },
      "text/plain": [
       "Epochs loop:   0%|          | 0/50000 [00:00<?, ?it/s]"
      ]
     },
     "metadata": {},
     "output_type": "display_data"
    },
    {
     "name": "stdout",
     "output_type": "stream",
     "text": [
      "Summary:\n",
      "-learning rate = 0.00162\n",
      "-path 1 has early stopped:\n",
      " 10000 iterations with no improvement in valid loss.\n",
      "-Model saved after iteration 4206.\n",
      "-Train.  Loss=0.3721568\n",
      "-Valid.  Loss=0.3260114\n",
      "'train_loss01_66.csv' saved.\n",
      "'valid_loss01_66.csv' saved.\n",
      "'model04_forward01_66_last.pth' saved.\n",
      "'model04_forward01_66_best.pth' saved.\n",
      "- train minibatches = 1\n",
      "- valid minibatches = 1\n",
      "- test minibatches = 1\n"
     ]
    },
    {
     "data": {
      "application/vnd.jupyter.widget-view+json": {
       "model_id": "3e9cf0b8e87a4233ac11cae1bb1f9a9c",
       "version_major": 2,
       "version_minor": 0
      },
      "text/plain": [
       "Epochs loop:   0%|          | 0/50000 [00:00<?, ?it/s]"
      ]
     },
     "metadata": {},
     "output_type": "display_data"
    },
    {
     "name": "stdout",
     "output_type": "stream",
     "text": [
      "Summary:\n",
      "-learning rate = 0.00162\n",
      "-path 1 has early stopped:\n",
      " 10000 iterations with no improvement in valid loss.\n",
      "-Model saved after iteration 10975.\n",
      "-Train.  Loss=0.3484081\n",
      "-Valid.  Loss=0.4901043\n",
      "'train_loss01_67.csv' saved.\n",
      "'valid_loss01_67.csv' saved.\n",
      "'model04_forward01_67_last.pth' saved.\n",
      "'model04_forward01_67_best.pth' saved.\n",
      "- train minibatches = 1\n",
      "- valid minibatches = 1\n",
      "- test minibatches = 1\n"
     ]
    },
    {
     "data": {
      "application/vnd.jupyter.widget-view+json": {
       "model_id": "055f3c7130b7434b8064efff796539fd",
       "version_major": 2,
       "version_minor": 0
      },
      "text/plain": [
       "Epochs loop:   0%|          | 0/50000 [00:00<?, ?it/s]"
      ]
     },
     "metadata": {},
     "output_type": "display_data"
    },
    {
     "name": "stdout",
     "output_type": "stream",
     "text": [
      "Summary:\n",
      "-learning rate = 0.00162\n",
      "-path 1 has early stopped:\n",
      " 10000 iterations with no improvement in valid loss.\n",
      "-Model saved after iteration 4791.\n",
      "-Train.  Loss=0.3962414\n",
      "-Valid.  Loss=0.4449465\n",
      "'train_loss01_68.csv' saved.\n",
      "'valid_loss01_68.csv' saved.\n",
      "'model04_forward01_68_last.pth' saved.\n",
      "'model04_forward01_68_best.pth' saved.\n",
      "- train minibatches = 1\n",
      "- valid minibatches = 1\n",
      "- test minibatches = 1\n"
     ]
    },
    {
     "data": {
      "application/vnd.jupyter.widget-view+json": {
       "model_id": "192c2ba069564f66aec7192f2f2384b0",
       "version_major": 2,
       "version_minor": 0
      },
      "text/plain": [
       "Epochs loop:   0%|          | 0/50000 [00:00<?, ?it/s]"
      ]
     },
     "metadata": {},
     "output_type": "display_data"
    },
    {
     "name": "stdout",
     "output_type": "stream",
     "text": [
      "Summary:\n",
      "-learning rate = 0.00162\n",
      "-path 1 has early stopped:\n",
      " 10000 iterations with no improvement in valid loss.\n",
      "-Model saved after iteration 4733.\n",
      "-Train.  Loss=0.4161630\n",
      "-Valid.  Loss=0.3303958\n",
      "'train_loss01_69.csv' saved.\n",
      "'valid_loss01_69.csv' saved.\n",
      "'model04_forward01_69_last.pth' saved.\n",
      "'model04_forward01_69_best.pth' saved.\n",
      "- train minibatches = 1\n",
      "- valid minibatches = 1\n",
      "- test minibatches = 1\n"
     ]
    },
    {
     "data": {
      "application/vnd.jupyter.widget-view+json": {
       "model_id": "254e40b2b62f4393b9636491fe62b1f0",
       "version_major": 2,
       "version_minor": 0
      },
      "text/plain": [
       "Epochs loop:   0%|          | 0/50000 [00:00<?, ?it/s]"
      ]
     },
     "metadata": {},
     "output_type": "display_data"
    },
    {
     "name": "stdout",
     "output_type": "stream",
     "text": [
      "Summary:\n",
      "-learning rate = 0.00162\n",
      "-path 1 has early stopped:\n",
      " 10000 iterations with no improvement in valid loss.\n",
      "-Model saved after iteration 6753.\n",
      "-Train.  Loss=0.4013249\n",
      "-Valid.  Loss=0.3966044\n",
      "'train_loss01_70.csv' saved.\n",
      "'valid_loss01_70.csv' saved.\n",
      "'model04_forward01_70_last.pth' saved.\n",
      "'model04_forward01_70_best.pth' saved.\n",
      "- train minibatches = 1\n",
      "- valid minibatches = 1\n",
      "- test minibatches = 1\n"
     ]
    },
    {
     "data": {
      "application/vnd.jupyter.widget-view+json": {
       "model_id": "22fe26078c5440fa97c4bb1d6406c338",
       "version_major": 2,
       "version_minor": 0
      },
      "text/plain": [
       "Epochs loop:   0%|          | 0/50000 [00:00<?, ?it/s]"
      ]
     },
     "metadata": {},
     "output_type": "display_data"
    },
    {
     "name": "stdout",
     "output_type": "stream",
     "text": [
      "Summary:\n",
      "-learning rate = 0.00162\n",
      "-path 1 has early stopped:\n",
      " 10000 iterations with no improvement in valid loss.\n",
      "-Model saved after iteration 6173.\n",
      "-Train.  Loss=0.4066011\n",
      "-Valid.  Loss=0.3158904\n",
      "'train_loss01_71.csv' saved.\n",
      "'valid_loss01_71.csv' saved.\n",
      "'model04_forward01_71_last.pth' saved.\n",
      "'model04_forward01_71_best.pth' saved.\n",
      "- train minibatches = 1\n",
      "- valid minibatches = 1\n",
      "- test minibatches = 1\n"
     ]
    },
    {
     "data": {
      "application/vnd.jupyter.widget-view+json": {
       "model_id": "96e4cfebf250410b826618d6fe892847",
       "version_major": 2,
       "version_minor": 0
      },
      "text/plain": [
       "Epochs loop:   0%|          | 0/50000 [00:00<?, ?it/s]"
      ]
     },
     "metadata": {},
     "output_type": "display_data"
    },
    {
     "name": "stdout",
     "output_type": "stream",
     "text": [
      "Summary:\n",
      "-learning rate = 0.00162\n",
      "-path 1 has early stopped:\n",
      " 10000 iterations with no improvement in valid loss.\n",
      "-Model saved after iteration 4689.\n",
      "-Train.  Loss=0.3577380\n",
      "-Valid.  Loss=0.5842553\n",
      "'train_loss01_72.csv' saved.\n",
      "'valid_loss01_72.csv' saved.\n",
      "'model04_forward01_72_last.pth' saved.\n",
      "'model04_forward01_72_best.pth' saved.\n",
      "- train minibatches = 1\n",
      "- valid minibatches = 1\n",
      "- test minibatches = 1\n"
     ]
    },
    {
     "data": {
      "application/vnd.jupyter.widget-view+json": {
       "model_id": "3533d3fc48994397802435a6450dc54d",
       "version_major": 2,
       "version_minor": 0
      },
      "text/plain": [
       "Epochs loop:   0%|          | 0/50000 [00:00<?, ?it/s]"
      ]
     },
     "metadata": {},
     "output_type": "display_data"
    },
    {
     "name": "stdout",
     "output_type": "stream",
     "text": [
      "Summary:\n",
      "-learning rate = 0.00162\n",
      "-path 1 has early stopped:\n",
      " 10000 iterations with no improvement in valid loss.\n",
      "-Model saved after iteration 7420.\n",
      "-Train.  Loss=0.3759671\n",
      "-Valid.  Loss=0.4970849\n",
      "'train_loss01_73.csv' saved.\n",
      "'valid_loss01_73.csv' saved.\n",
      "'model04_forward01_73_last.pth' saved.\n",
      "'model04_forward01_73_best.pth' saved.\n",
      "- train minibatches = 1\n",
      "- valid minibatches = 1\n",
      "- test minibatches = 1\n"
     ]
    },
    {
     "data": {
      "application/vnd.jupyter.widget-view+json": {
       "model_id": "efc89b5247a74d11ac372b81803707c6",
       "version_major": 2,
       "version_minor": 0
      },
      "text/plain": [
       "Epochs loop:   0%|          | 0/50000 [00:00<?, ?it/s]"
      ]
     },
     "metadata": {},
     "output_type": "display_data"
    },
    {
     "name": "stdout",
     "output_type": "stream",
     "text": [
      "Summary:\n",
      "-learning rate = 0.00162\n",
      "-path 1 has early stopped:\n",
      " 10000 iterations with no improvement in valid loss.\n",
      "-Model saved after iteration 6567.\n",
      "-Train.  Loss=0.3831056\n",
      "-Valid.  Loss=0.4405035\n",
      "'train_loss01_74.csv' saved.\n",
      "'valid_loss01_74.csv' saved.\n",
      "'model04_forward01_74_last.pth' saved.\n",
      "'model04_forward01_74_best.pth' saved.\n",
      "- train minibatches = 1\n",
      "- valid minibatches = 1\n",
      "- test minibatches = 1\n"
     ]
    },
    {
     "data": {
      "application/vnd.jupyter.widget-view+json": {
       "model_id": "086634159c8b436094635e3175a1ba1b",
       "version_major": 2,
       "version_minor": 0
      },
      "text/plain": [
       "Epochs loop:   0%|          | 0/50000 [00:00<?, ?it/s]"
      ]
     },
     "metadata": {},
     "output_type": "display_data"
    },
    {
     "name": "stdout",
     "output_type": "stream",
     "text": [
      "Summary:\n",
      "-learning rate = 0.00162\n",
      "-path 1 has early stopped:\n",
      " 10000 iterations with no improvement in valid loss.\n",
      "-Model saved after iteration 5627.\n",
      "-Train.  Loss=0.3739232\n",
      "-Valid.  Loss=0.3724454\n",
      "'train_loss01_75.csv' saved.\n",
      "'valid_loss01_75.csv' saved.\n",
      "'model04_forward01_75_last.pth' saved.\n",
      "'model04_forward01_75_best.pth' saved.\n",
      "- train minibatches = 1\n",
      "- valid minibatches = 1\n",
      "- test minibatches = 1\n"
     ]
    },
    {
     "data": {
      "application/vnd.jupyter.widget-view+json": {
       "model_id": "a46569726573404ab9d87c458f82194a",
       "version_major": 2,
       "version_minor": 0
      },
      "text/plain": [
       "Epochs loop:   0%|          | 0/50000 [00:00<?, ?it/s]"
      ]
     },
     "metadata": {},
     "output_type": "display_data"
    },
    {
     "name": "stdout",
     "output_type": "stream",
     "text": [
      "Summary:\n",
      "-learning rate = 0.00162\n",
      "-path 1 has early stopped:\n",
      " 10000 iterations with no improvement in valid loss.\n",
      "-Model saved after iteration 7918.\n",
      "-Train.  Loss=0.3687710\n",
      "-Valid.  Loss=0.3602726\n",
      "'train_loss01_76.csv' saved.\n",
      "'valid_loss01_76.csv' saved.\n",
      "'model04_forward01_76_last.pth' saved.\n",
      "'model04_forward01_76_best.pth' saved.\n",
      "- train minibatches = 1\n",
      "- valid minibatches = 1\n",
      "- test minibatches = 1\n"
     ]
    },
    {
     "data": {
      "application/vnd.jupyter.widget-view+json": {
       "model_id": "4ad72478c5124b4db609162c47f14459",
       "version_major": 2,
       "version_minor": 0
      },
      "text/plain": [
       "Epochs loop:   0%|          | 0/50000 [00:00<?, ?it/s]"
      ]
     },
     "metadata": {},
     "output_type": "display_data"
    },
    {
     "name": "stdout",
     "output_type": "stream",
     "text": [
      "Summary:\n",
      "-learning rate = 0.00162\n",
      "-path 1 has early stopped:\n",
      " 10000 iterations with no improvement in valid loss.\n",
      "-Model saved after iteration 2419.\n",
      "-Train.  Loss=0.3967531\n",
      "-Valid.  Loss=0.4467907\n",
      "'train_loss01_77.csv' saved.\n",
      "'valid_loss01_77.csv' saved.\n",
      "'model04_forward01_77_last.pth' saved.\n",
      "'model04_forward01_77_best.pth' saved.\n",
      "- train minibatches = 1\n",
      "- valid minibatches = 1\n",
      "- test minibatches = 1\n"
     ]
    },
    {
     "data": {
      "application/vnd.jupyter.widget-view+json": {
       "model_id": "c6db2a95b4f44fd6b195c05e4ee0ae1d",
       "version_major": 2,
       "version_minor": 0
      },
      "text/plain": [
       "Epochs loop:   0%|          | 0/50000 [00:00<?, ?it/s]"
      ]
     },
     "metadata": {},
     "output_type": "display_data"
    },
    {
     "name": "stdout",
     "output_type": "stream",
     "text": [
      "Summary:\n",
      "-learning rate = 0.00162\n",
      "-path 1 has early stopped:\n",
      " 10000 iterations with no improvement in valid loss.\n",
      "-Model saved after iteration 4928.\n",
      "-Train.  Loss=0.3309850\n",
      "-Valid.  Loss=0.5892081\n",
      "'train_loss01_78.csv' saved.\n",
      "'valid_loss01_78.csv' saved.\n",
      "'model04_forward01_78_last.pth' saved.\n",
      "'model04_forward01_78_best.pth' saved.\n",
      "- train minibatches = 1\n",
      "- valid minibatches = 1\n",
      "- test minibatches = 1\n"
     ]
    },
    {
     "data": {
      "application/vnd.jupyter.widget-view+json": {
       "model_id": "711b5e710d024bc08b82d3410ae15584",
       "version_major": 2,
       "version_minor": 0
      },
      "text/plain": [
       "Epochs loop:   0%|          | 0/50000 [00:00<?, ?it/s]"
      ]
     },
     "metadata": {},
     "output_type": "display_data"
    },
    {
     "name": "stdout",
     "output_type": "stream",
     "text": [
      "Summary:\n",
      "-learning rate = 0.00162\n",
      "-path 1 has early stopped:\n",
      " 10000 iterations with no improvement in valid loss.\n",
      "-Model saved after iteration 3171.\n",
      "-Train.  Loss=0.4306287\n",
      "-Valid.  Loss=0.3145955\n",
      "'train_loss01_79.csv' saved.\n",
      "'valid_loss01_79.csv' saved.\n",
      "'model04_forward01_79_last.pth' saved.\n",
      "'model04_forward01_79_best.pth' saved.\n",
      "- train minibatches = 1\n",
      "- valid minibatches = 1\n",
      "- test minibatches = 1\n"
     ]
    },
    {
     "data": {
      "application/vnd.jupyter.widget-view+json": {
       "model_id": "0e38fe807d554cc3b9a837c4c8a9bfba",
       "version_major": 2,
       "version_minor": 0
      },
      "text/plain": [
       "Epochs loop:   0%|          | 0/50000 [00:00<?, ?it/s]"
      ]
     },
     "metadata": {},
     "output_type": "display_data"
    },
    {
     "name": "stdout",
     "output_type": "stream",
     "text": [
      "Summary:\n",
      "-learning rate = 0.00162\n",
      "-path 1 has early stopped:\n",
      " 10000 iterations with no improvement in valid loss.\n",
      "-Model saved after iteration 4563.\n",
      "-Train.  Loss=0.3965054\n",
      "-Valid.  Loss=0.3680229\n",
      "'train_loss01_80.csv' saved.\n",
      "'valid_loss01_80.csv' saved.\n",
      "'model04_forward01_80_last.pth' saved.\n",
      "'model04_forward01_80_best.pth' saved.\n",
      "- train minibatches = 1\n",
      "- valid minibatches = 1\n",
      "- test minibatches = 1\n"
     ]
    },
    {
     "data": {
      "application/vnd.jupyter.widget-view+json": {
       "model_id": "0b2cd121d30c48a8b391ad7f30b7b738",
       "version_major": 2,
       "version_minor": 0
      },
      "text/plain": [
       "Epochs loop:   0%|          | 0/50000 [00:00<?, ?it/s]"
      ]
     },
     "metadata": {},
     "output_type": "display_data"
    },
    {
     "name": "stdout",
     "output_type": "stream",
     "text": [
      "Summary:\n",
      "-learning rate = 0.00162\n",
      "-path 1 has early stopped:\n",
      " 10000 iterations with no improvement in valid loss.\n",
      "-Model saved after iteration 2423.\n",
      "-Train.  Loss=0.4298298\n",
      "-Valid.  Loss=0.3767346\n",
      "'train_loss01_81.csv' saved.\n",
      "'valid_loss01_81.csv' saved.\n",
      "'model04_forward01_81_last.pth' saved.\n",
      "'model04_forward01_81_best.pth' saved.\n",
      "- train minibatches = 1\n",
      "- valid minibatches = 1\n",
      "- test minibatches = 1\n"
     ]
    },
    {
     "data": {
      "application/vnd.jupyter.widget-view+json": {
       "model_id": "5e316bfa2b1140b6866db5d37b602b49",
       "version_major": 2,
       "version_minor": 0
      },
      "text/plain": [
       "Epochs loop:   0%|          | 0/50000 [00:00<?, ?it/s]"
      ]
     },
     "metadata": {},
     "output_type": "display_data"
    },
    {
     "name": "stdout",
     "output_type": "stream",
     "text": [
      "Summary:\n",
      "-learning rate = 0.00162\n",
      "-path 1 has early stopped:\n",
      " 10000 iterations with no improvement in valid loss.\n",
      "-Model saved after iteration 6573.\n",
      "-Train.  Loss=0.3547416\n",
      "-Valid.  Loss=0.5795628\n",
      "'train_loss01_82.csv' saved.\n",
      "'valid_loss01_82.csv' saved.\n",
      "'model04_forward01_82_last.pth' saved.\n",
      "'model04_forward01_82_best.pth' saved.\n",
      "- train minibatches = 1\n",
      "- valid minibatches = 1\n",
      "- test minibatches = 1\n"
     ]
    },
    {
     "data": {
      "application/vnd.jupyter.widget-view+json": {
       "model_id": "cea6b4a2929440c1a54b53b00ed7b9be",
       "version_major": 2,
       "version_minor": 0
      },
      "text/plain": [
       "Epochs loop:   0%|          | 0/50000 [00:00<?, ?it/s]"
      ]
     },
     "metadata": {},
     "output_type": "display_data"
    },
    {
     "name": "stdout",
     "output_type": "stream",
     "text": [
      "Summary:\n",
      "-learning rate = 0.00162\n",
      "-path 1 has early stopped:\n",
      " 10000 iterations with no improvement in valid loss.\n",
      "-Model saved after iteration 10010.\n",
      "-Train.  Loss=0.3654587\n",
      "-Valid.  Loss=0.4146973\n",
      "'train_loss01_83.csv' saved.\n",
      "'valid_loss01_83.csv' saved.\n",
      "'model04_forward01_83_last.pth' saved.\n",
      "'model04_forward01_83_best.pth' saved.\n",
      "- train minibatches = 1\n",
      "- valid minibatches = 1\n",
      "- test minibatches = 1\n"
     ]
    },
    {
     "data": {
      "application/vnd.jupyter.widget-view+json": {
       "model_id": "8a1c676016c6402195e51ef0bf7f03f8",
       "version_major": 2,
       "version_minor": 0
      },
      "text/plain": [
       "Epochs loop:   0%|          | 0/50000 [00:00<?, ?it/s]"
      ]
     },
     "metadata": {},
     "output_type": "display_data"
    },
    {
     "name": "stdout",
     "output_type": "stream",
     "text": [
      "Summary:\n",
      "-learning rate = 0.00162\n",
      "-path 1 has early stopped:\n",
      " 10000 iterations with no improvement in valid loss.\n",
      "-Model saved after iteration 4432.\n",
      "-Train.  Loss=0.3983491\n",
      "-Valid.  Loss=0.3716460\n",
      "'train_loss01_84.csv' saved.\n",
      "'valid_loss01_84.csv' saved.\n",
      "'model04_forward01_84_last.pth' saved.\n",
      "'model04_forward01_84_best.pth' saved.\n",
      "- train minibatches = 1\n",
      "- valid minibatches = 1\n",
      "- test minibatches = 1\n"
     ]
    },
    {
     "data": {
      "application/vnd.jupyter.widget-view+json": {
       "model_id": "42c333fc2ed445788f60072a24211b95",
       "version_major": 2,
       "version_minor": 0
      },
      "text/plain": [
       "Epochs loop:   0%|          | 0/50000 [00:00<?, ?it/s]"
      ]
     },
     "metadata": {},
     "output_type": "display_data"
    },
    {
     "name": "stdout",
     "output_type": "stream",
     "text": [
      "Summary:\n",
      "-learning rate = 0.00162\n",
      "-path 1 has early stopped:\n",
      " 10000 iterations with no improvement in valid loss.\n",
      "-Model saved after iteration 4571.\n",
      "-Train.  Loss=0.3195351\n",
      "-Valid.  Loss=0.5313052\n",
      "'train_loss01_85.csv' saved.\n",
      "'valid_loss01_85.csv' saved.\n",
      "'model04_forward01_85_last.pth' saved.\n",
      "'model04_forward01_85_best.pth' saved.\n",
      "- train minibatches = 1\n",
      "- valid minibatches = 1\n",
      "- test minibatches = 1\n"
     ]
    },
    {
     "data": {
      "application/vnd.jupyter.widget-view+json": {
       "model_id": "ae3db3513ef748fe82391125528f4c5a",
       "version_major": 2,
       "version_minor": 0
      },
      "text/plain": [
       "Epochs loop:   0%|          | 0/50000 [00:00<?, ?it/s]"
      ]
     },
     "metadata": {},
     "output_type": "display_data"
    },
    {
     "name": "stdout",
     "output_type": "stream",
     "text": [
      "Summary:\n",
      "-learning rate = 0.00162\n",
      "-path 1 has early stopped:\n",
      " 10000 iterations with no improvement in valid loss.\n",
      "-Model saved after iteration 2618.\n",
      "-Train.  Loss=0.3591283\n",
      "-Valid.  Loss=0.7958645\n",
      "'train_loss01_86.csv' saved.\n",
      "'valid_loss01_86.csv' saved.\n",
      "'model04_forward01_86_last.pth' saved.\n",
      "'model04_forward01_86_best.pth' saved.\n",
      "- train minibatches = 1\n",
      "- valid minibatches = 1\n",
      "- test minibatches = 1\n"
     ]
    },
    {
     "data": {
      "application/vnd.jupyter.widget-view+json": {
       "model_id": "8a1328123eaa462f80594d1b58393218",
       "version_major": 2,
       "version_minor": 0
      },
      "text/plain": [
       "Epochs loop:   0%|          | 0/50000 [00:00<?, ?it/s]"
      ]
     },
     "metadata": {},
     "output_type": "display_data"
    },
    {
     "name": "stdout",
     "output_type": "stream",
     "text": [
      "Summary:\n",
      "-learning rate = 0.00162\n",
      "-path 1 has early stopped:\n",
      " 10000 iterations with no improvement in valid loss.\n",
      "-Model saved after iteration 7715.\n",
      "-Train.  Loss=0.3670007\n",
      "-Valid.  Loss=0.3909243\n",
      "'train_loss01_87.csv' saved.\n",
      "'valid_loss01_87.csv' saved.\n",
      "'model04_forward01_87_last.pth' saved.\n",
      "'model04_forward01_87_best.pth' saved.\n",
      "- train minibatches = 1\n",
      "- valid minibatches = 1\n",
      "- test minibatches = 1\n"
     ]
    },
    {
     "data": {
      "application/vnd.jupyter.widget-view+json": {
       "model_id": "7822ae5993904eff851aeaaa37fe0e52",
       "version_major": 2,
       "version_minor": 0
      },
      "text/plain": [
       "Epochs loop:   0%|          | 0/50000 [00:00<?, ?it/s]"
      ]
     },
     "metadata": {},
     "output_type": "display_data"
    },
    {
     "name": "stdout",
     "output_type": "stream",
     "text": [
      "Summary:\n",
      "-learning rate = 0.00162\n",
      "-path 1 has early stopped:\n",
      " 10000 iterations with no improvement in valid loss.\n",
      "-Model saved after iteration 2262.\n",
      "-Train.  Loss=0.4008959\n",
      "-Valid.  Loss=0.5713316\n",
      "'train_loss01_88.csv' saved.\n",
      "'valid_loss01_88.csv' saved.\n",
      "'model04_forward01_88_last.pth' saved.\n",
      "'model04_forward01_88_best.pth' saved.\n",
      "- train minibatches = 1\n",
      "- valid minibatches = 1\n",
      "- test minibatches = 1\n"
     ]
    },
    {
     "data": {
      "application/vnd.jupyter.widget-view+json": {
       "model_id": "c01905116016425685292ce440535328",
       "version_major": 2,
       "version_minor": 0
      },
      "text/plain": [
       "Epochs loop:   0%|          | 0/50000 [00:00<?, ?it/s]"
      ]
     },
     "metadata": {},
     "output_type": "display_data"
    },
    {
     "name": "stdout",
     "output_type": "stream",
     "text": [
      "Summary:\n",
      "-learning rate = 0.00162\n",
      "-path 1 has early stopped:\n",
      " 10000 iterations with no improvement in valid loss.\n",
      "-Model saved after iteration 6480.\n",
      "-Train.  Loss=0.3693303\n",
      "-Valid.  Loss=0.3487065\n",
      "'train_loss01_89.csv' saved.\n",
      "'valid_loss01_89.csv' saved.\n",
      "'model04_forward01_89_last.pth' saved.\n",
      "'model04_forward01_89_best.pth' saved.\n",
      "- train minibatches = 1\n",
      "- valid minibatches = 1\n",
      "- test minibatches = 1\n"
     ]
    },
    {
     "data": {
      "application/vnd.jupyter.widget-view+json": {
       "model_id": "7b0eda9c846f4aa9af1cf3642f6559ac",
       "version_major": 2,
       "version_minor": 0
      },
      "text/plain": [
       "Epochs loop:   0%|          | 0/50000 [00:00<?, ?it/s]"
      ]
     },
     "metadata": {},
     "output_type": "display_data"
    },
    {
     "name": "stdout",
     "output_type": "stream",
     "text": [
      "Summary:\n",
      "-learning rate = 0.00162\n",
      "-path 1 has early stopped:\n",
      " 10000 iterations with no improvement in valid loss.\n",
      "-Model saved after iteration 3141.\n",
      "-Train.  Loss=0.3831186\n",
      "-Valid.  Loss=0.6040712\n",
      "'train_loss01_90.csv' saved.\n",
      "'valid_loss01_90.csv' saved.\n",
      "'model04_forward01_90_last.pth' saved.\n",
      "'model04_forward01_90_best.pth' saved.\n",
      "- train minibatches = 1\n",
      "- valid minibatches = 1\n",
      "- test minibatches = 1\n"
     ]
    },
    {
     "data": {
      "application/vnd.jupyter.widget-view+json": {
       "model_id": "afc2842294ac48dba4a64aee5e180ff7",
       "version_major": 2,
       "version_minor": 0
      },
      "text/plain": [
       "Epochs loop:   0%|          | 0/50000 [00:00<?, ?it/s]"
      ]
     },
     "metadata": {},
     "output_type": "display_data"
    },
    {
     "name": "stdout",
     "output_type": "stream",
     "text": [
      "Summary:\n",
      "-learning rate = 0.00162\n",
      "-path 1 has early stopped:\n",
      " 10000 iterations with no improvement in valid loss.\n",
      "-Model saved after iteration 5652.\n",
      "-Train.  Loss=0.2926094\n",
      "-Valid.  Loss=0.6468247\n",
      "'train_loss01_91.csv' saved.\n",
      "'valid_loss01_91.csv' saved.\n",
      "'model04_forward01_91_last.pth' saved.\n",
      "'model04_forward01_91_best.pth' saved.\n",
      "- train minibatches = 1\n",
      "- valid minibatches = 1\n",
      "- test minibatches = 1\n"
     ]
    },
    {
     "data": {
      "application/vnd.jupyter.widget-view+json": {
       "model_id": "abf35bee80154fd78b97a93f0e1e34e1",
       "version_major": 2,
       "version_minor": 0
      },
      "text/plain": [
       "Epochs loop:   0%|          | 0/50000 [00:00<?, ?it/s]"
      ]
     },
     "metadata": {},
     "output_type": "display_data"
    },
    {
     "name": "stdout",
     "output_type": "stream",
     "text": [
      "Summary:\n",
      "-learning rate = 0.00162\n",
      "-path 1 has early stopped:\n",
      " 10000 iterations with no improvement in valid loss.\n",
      "-Model saved after iteration 6038.\n",
      "-Train.  Loss=0.3375970\n",
      "-Valid.  Loss=0.6101848\n",
      "'train_loss01_92.csv' saved.\n",
      "'valid_loss01_92.csv' saved.\n",
      "'model04_forward01_92_last.pth' saved.\n",
      "'model04_forward01_92_best.pth' saved.\n",
      "- train minibatches = 1\n",
      "- valid minibatches = 1\n",
      "- test minibatches = 1\n"
     ]
    },
    {
     "data": {
      "application/vnd.jupyter.widget-view+json": {
       "model_id": "280fed74748e4d55a0684ff5e2c516a6",
       "version_major": 2,
       "version_minor": 0
      },
      "text/plain": [
       "Epochs loop:   0%|          | 0/50000 [00:00<?, ?it/s]"
      ]
     },
     "metadata": {},
     "output_type": "display_data"
    },
    {
     "name": "stdout",
     "output_type": "stream",
     "text": [
      "Summary:\n",
      "-learning rate = 0.00162\n",
      "-path 1 has early stopped:\n",
      " 10000 iterations with no improvement in valid loss.\n",
      "-Model saved after iteration 6254.\n",
      "-Train.  Loss=0.3695840\n",
      "-Valid.  Loss=0.5683792\n",
      "'train_loss01_93.csv' saved.\n",
      "'valid_loss01_93.csv' saved.\n",
      "'model04_forward01_93_last.pth' saved.\n",
      "'model04_forward01_93_best.pth' saved.\n",
      "- train minibatches = 1\n",
      "- valid minibatches = 1\n",
      "- test minibatches = 1\n"
     ]
    },
    {
     "data": {
      "application/vnd.jupyter.widget-view+json": {
       "model_id": "d0cfcf11207440e0a603ea7c5ed2675d",
       "version_major": 2,
       "version_minor": 0
      },
      "text/plain": [
       "Epochs loop:   0%|          | 0/50000 [00:00<?, ?it/s]"
      ]
     },
     "metadata": {},
     "output_type": "display_data"
    },
    {
     "name": "stdout",
     "output_type": "stream",
     "text": [
      "Summary:\n",
      "-learning rate = 0.00162\n",
      "-path 1 has early stopped:\n",
      " 10000 iterations with no improvement in valid loss.\n",
      "-Model saved after iteration 7574.\n",
      "-Train.  Loss=0.3708295\n",
      "-Valid.  Loss=0.4620851\n",
      "'train_loss01_94.csv' saved.\n",
      "'valid_loss01_94.csv' saved.\n",
      "'model04_forward01_94_last.pth' saved.\n",
      "'model04_forward01_94_best.pth' saved.\n",
      "- train minibatches = 1\n",
      "- valid minibatches = 1\n",
      "- test minibatches = 1\n"
     ]
    },
    {
     "data": {
      "application/vnd.jupyter.widget-view+json": {
       "model_id": "ada9ddd86b054d0e997715c917a23eb1",
       "version_major": 2,
       "version_minor": 0
      },
      "text/plain": [
       "Epochs loop:   0%|          | 0/50000 [00:00<?, ?it/s]"
      ]
     },
     "metadata": {},
     "output_type": "display_data"
    },
    {
     "name": "stdout",
     "output_type": "stream",
     "text": [
      "Summary:\n",
      "-learning rate = 0.00162\n",
      "-path 1 has early stopped:\n",
      " 10000 iterations with no improvement in valid loss.\n",
      "-Model saved after iteration 3912.\n",
      "-Train.  Loss=0.4067053\n",
      "-Valid.  Loss=0.4046081\n",
      "'train_loss01_95.csv' saved.\n",
      "'valid_loss01_95.csv' saved.\n",
      "'model04_forward01_95_last.pth' saved.\n",
      "'model04_forward01_95_best.pth' saved.\n",
      "- train minibatches = 1\n",
      "- valid minibatches = 1\n",
      "- test minibatches = 1\n"
     ]
    },
    {
     "data": {
      "application/vnd.jupyter.widget-view+json": {
       "model_id": "377f1375e7ff4866850e7bba8251d566",
       "version_major": 2,
       "version_minor": 0
      },
      "text/plain": [
       "Epochs loop:   0%|          | 0/50000 [00:00<?, ?it/s]"
      ]
     },
     "metadata": {},
     "output_type": "display_data"
    },
    {
     "name": "stdout",
     "output_type": "stream",
     "text": [
      "Summary:\n",
      "-learning rate = 0.00162\n",
      "-path 1 has early stopped:\n",
      " 10000 iterations with no improvement in valid loss.\n",
      "-Model saved after iteration 6712.\n",
      "-Train.  Loss=0.3382001\n",
      "-Valid.  Loss=0.6458393\n",
      "'train_loss01_96.csv' saved.\n",
      "'valid_loss01_96.csv' saved.\n",
      "'model04_forward01_96_last.pth' saved.\n",
      "'model04_forward01_96_best.pth' saved.\n",
      "- train minibatches = 1\n",
      "- valid minibatches = 1\n",
      "- test minibatches = 1\n"
     ]
    },
    {
     "data": {
      "application/vnd.jupyter.widget-view+json": {
       "model_id": "1229f0c7ebb74d618a83b781a751df17",
       "version_major": 2,
       "version_minor": 0
      },
      "text/plain": [
       "Epochs loop:   0%|          | 0/50000 [00:00<?, ?it/s]"
      ]
     },
     "metadata": {},
     "output_type": "display_data"
    },
    {
     "name": "stdout",
     "output_type": "stream",
     "text": [
      "Summary:\n",
      "-learning rate = 0.00162\n",
      "-path 1 has early stopped:\n",
      " 10000 iterations with no improvement in valid loss.\n",
      "-Model saved after iteration 2045.\n",
      "-Train.  Loss=0.4531163\n",
      "-Valid.  Loss=0.3192422\n",
      "'train_loss01_97.csv' saved.\n",
      "'valid_loss01_97.csv' saved.\n",
      "'model04_forward01_97_last.pth' saved.\n",
      "'model04_forward01_97_best.pth' saved.\n",
      "- train minibatches = 1\n",
      "- valid minibatches = 1\n",
      "- test minibatches = 1\n"
     ]
    },
    {
     "data": {
      "application/vnd.jupyter.widget-view+json": {
       "model_id": "cc32abe2cc48482da27b4b0f76c70ba0",
       "version_major": 2,
       "version_minor": 0
      },
      "text/plain": [
       "Epochs loop:   0%|          | 0/50000 [00:00<?, ?it/s]"
      ]
     },
     "metadata": {},
     "output_type": "display_data"
    },
    {
     "name": "stdout",
     "output_type": "stream",
     "text": [
      "Summary:\n",
      "-learning rate = 0.00162\n",
      "-path 1 has early stopped:\n",
      " 10000 iterations with no improvement in valid loss.\n",
      "-Model saved after iteration 7182.\n",
      "-Train.  Loss=0.3608273\n",
      "-Valid.  Loss=0.4678177\n",
      "'train_loss01_98.csv' saved.\n",
      "'valid_loss01_98.csv' saved.\n",
      "'model04_forward01_98_last.pth' saved.\n",
      "'model04_forward01_98_best.pth' saved.\n",
      "- train minibatches = 1\n",
      "- valid minibatches = 1\n",
      "- test minibatches = 1\n"
     ]
    },
    {
     "data": {
      "application/vnd.jupyter.widget-view+json": {
       "model_id": "5e1e4b79c3974a51a7139636f392e74b",
       "version_major": 2,
       "version_minor": 0
      },
      "text/plain": [
       "Epochs loop:   0%|          | 0/50000 [00:00<?, ?it/s]"
      ]
     },
     "metadata": {},
     "output_type": "display_data"
    },
    {
     "name": "stdout",
     "output_type": "stream",
     "text": [
      "Summary:\n",
      "-learning rate = 0.00162\n",
      "-path 1 has early stopped:\n",
      " 10000 iterations with no improvement in valid loss.\n",
      "-Model saved after iteration 8982.\n",
      "-Train.  Loss=0.3030517\n",
      "-Valid.  Loss=0.6555408\n",
      "'train_loss01_99.csv' saved.\n",
      "'valid_loss01_99.csv' saved.\n",
      "'model04_forward01_99_last.pth' saved.\n",
      "'model04_forward01_99_best.pth' saved.\n",
      "- train minibatches = 1\n",
      "- valid minibatches = 1\n",
      "- test minibatches = 1\n"
     ]
    },
    {
     "data": {
      "application/vnd.jupyter.widget-view+json": {
       "model_id": "ba1e6e0ffbaf4246b64629316b11434e",
       "version_major": 2,
       "version_minor": 0
      },
      "text/plain": [
       "Epochs loop:   0%|          | 0/50000 [00:00<?, ?it/s]"
      ]
     },
     "metadata": {},
     "output_type": "display_data"
    },
    {
     "name": "stdout",
     "output_type": "stream",
     "text": [
      "Summary:\n",
      "-learning rate = 0.00162\n",
      "-path 1 has early stopped:\n",
      " 10000 iterations with no improvement in valid loss.\n",
      "-Model saved after iteration 7434.\n",
      "-Train.  Loss=0.3314530\n",
      "-Valid.  Loss=0.3578309\n",
      "'train_loss01_100.csv' saved.\n",
      "'valid_loss01_100.csv' saved.\n",
      "'model04_forward01_100_last.pth' saved.\n",
      "'model04_forward01_100_best.pth' saved.\n"
     ]
    }
   ],
   "source": [
    "# Find Accuracy, Loss +/- STD (Forward)\n",
    "data_output = 'data_unconstrained_04CrimeUnnormalized'\n",
    "df_results = pd.DataFrame(columns=['train_mse', 'valid_mse', 'test_mse', \\\n",
    "                                   'train_r2', 'valid_r2', 'test_r2'])\n",
    "# df_results = pd.read_csv(os.path.join(data_output, 'accuracy_forward01.csv'), index_col=0)\n",
    "\n",
    "partitions = 100\n",
    "iterator = tqdm.notebook.tqdm(range(1, partitions + 1), desc='Partitions loop')\n",
    "for n in iterator:\n",
    "    X = pd.read_csv('dataset_04CrimeUnnormalized/X1.csv')\n",
    "    y = pd.read_csv('dataset_04CrimeUnnormalized/y1.csv')\n",
    "    split_data(X, y, seed1=seed1[n], seed2=seed2[n])\n",
    "\n",
    "# .normalize data sets\n",
    "    df_to_tensor()\n",
    "    normalize_data()\n",
    "    make_DataLoaders()\n",
    "\n",
    "# .train model (forward)\n",
    "    lr = best_lr_fward\n",
    "    layer_sizes = [5, 1]\n",
    "    epochs = 50000\n",
    "    data_out = \"data_unconstrained_04CrimeUnnormalized/partitions\"\n",
    "    lock_flag = False\n",
    "    features = xtrain.size(1)\n",
    "    fname = 'model04_forward01_'+str(n)\n",
    "    train_loss, valid_loss = train_model(\n",
    "                             lr, \n",
    "                             features, \n",
    "                             layer_sizes,\n",
    "                             lock_flag = lock_flag,\n",
    "                             epochs = epochs,\n",
    "                             early_stop = 10000, \n",
    "                             fname = fname)\n",
    "# .save relevant data\n",
    "    f3 = [fname+'_last.pth', fname+'_best.pth']\n",
    "    save_output(data_out, \n",
    "                'train_loss01_'+str(n)+'.csv', \n",
    "                'valid_loss01_'+str(n)+'.csv', f3)\n",
    "\n",
    "# .find MSE, R2, etc...\n",
    "    mm = MyNet(features, layer_sizes)\n",
    "    mm.load_state_dict(torch.load(os.path.join(data_out, fname+'_best.pth')))\n",
    "    mm = mm.to(device)\n",
    "    mm.eval()\n",
    "    \n",
    "    ypred = mm(xtrain)\n",
    "    mse = mean_squared_error(ytrain.detach().numpy().ravel(), ypred.detach().numpy().ravel(), squared=True)\n",
    "    r2 = r2_score(ytrain.detach().numpy().ravel(), ypred.detach().numpy().ravel())\n",
    "    df_results.loc[n, 'train_mse'] = mse\n",
    "    df_results.loc[n, 'train_r2']  = r2\n",
    "\n",
    "    ypred = mm(xvalid)\n",
    "    mse = mean_squared_error(yvalid.detach().numpy().ravel(), ypred.detach().numpy().ravel(), squared=True)\n",
    "    r2 = r2_score(yvalid.detach().numpy().ravel(), ypred.detach().numpy().ravel())\n",
    "    df_results.loc[n, 'valid_mse'] = mse\n",
    "    df_results.loc[n, 'valid_r2']  = r2\n",
    "\n",
    "    ypred = mm(xtest)\n",
    "    mse = mean_squared_error(ytest.detach().numpy().ravel(), ypred.detach().numpy().ravel(), squared=True)\n",
    "    r2 = r2_score(ytest.detach().numpy().ravel(), ypred.detach().numpy().ravel())\n",
    "    df_results.loc[n, 'test_mse'] = mse\n",
    "    df_results.loc[n, 'test_r2']  = r2\n",
    "\n",
    "    df_results.to_csv(os.path.join(data_output, 'accuracy04_forward01.csv'), index=True)\n"
   ]
  },
  {
   "cell_type": "code",
   "execution_count": 58,
   "metadata": {
    "ExecuteTime": {
     "end_time": "2021-02-27T16:03:24.981030Z",
     "start_time": "2021-02-27T16:03:24.970135Z"
    },
    "code_folding": [
     0
    ]
   },
   "outputs": [
    {
     "name": "stdout",
     "output_type": "stream",
     "text": [
      "Train mse = 0.37743 +/- 0.03505\n",
      "Valid mse = 0.47424 +/- 0.11874\n",
      "Test mse = 0.46995 +/- 0.10634\n",
      "\n",
      "Train r2 = 0.62257 +/- 0.03505\n",
      "Valid r2 = 0.52852 +/- 0.06457\n",
      "Test r2 = 0.53193 +/- 0.06031\n"
     ]
    }
   ],
   "source": [
    "# Display results\n",
    "data_out = 'data_unconstrained_04CrimeUnnormalized'\n",
    "accuracy = pd.read_csv(os.path.join(data_out, 'accuracy04_forward01.csv'))\n",
    "print(\"Train mse = {:.5f} +/- {:.5f}\".format(accuracy['train_mse'].mean(), \n",
    "                                             accuracy['train_mse'].std()))\n",
    "print(\"Valid mse = {:.5f} +/- {:.5f}\".format(accuracy['valid_mse'].mean(), \n",
    "                                             accuracy['valid_mse'].std()))\n",
    "print(\"Test mse = {:.5f} +/- {:.5f}\".format(accuracy['test_mse'].mean(), \n",
    "                                            accuracy['test_mse'].std()))\n",
    "\n",
    "print(\"\")\n",
    "print(\"Train r2 = {:.5f} +/- {:.5f}\".format(accuracy['train_r2'].mean(), \n",
    "                                            accuracy['train_r2'].std()))\n",
    "print(\"Valid r2 = {:.5f} +/- {:.5f}\".format(accuracy['valid_r2'].mean(), \n",
    "                                            accuracy['valid_r2'].std()))\n",
    "print(\"Test r2 = {:.5f} +/- {:.5f}\".format(accuracy['test_r2'].mean(), \n",
    "                                           accuracy['test_r2'].std()))"
   ]
  },
  {
   "cell_type": "code",
   "execution_count": 22,
   "metadata": {
    "ExecuteTime": {
     "end_time": "2021-03-01T16:31:21.227619Z",
     "start_time": "2021-03-01T13:27:16.186624Z"
    },
    "code_folding": [
     0
    ],
    "scrolled": true
   },
   "outputs": [
    {
     "data": {
      "application/vnd.jupyter.widget-view+json": {
       "model_id": "6d869422a0e341bd96a3ce06b1f9c7e9",
       "version_major": 2,
       "version_minor": 0
      },
      "text/plain": [
       "Partitions loop:   0%|          | 0/11 [00:00<?, ?it/s]"
      ]
     },
     "metadata": {},
     "output_type": "display_data"
    },
    {
     "name": "stdout",
     "output_type": "stream",
     "text": [
      "- train minibatches = 1\n",
      "- valid minibatches = 1\n",
      "- test minibatches = 1\n"
     ]
    },
    {
     "data": {
      "application/vnd.jupyter.widget-view+json": {
       "model_id": "e69846e173894540888b19decb10fb69",
       "version_major": 2,
       "version_minor": 0
      },
      "text/plain": [
       "Epochs loop:   0%|          | 0/40000 [00:00<?, ?it/s]"
      ]
     },
     "metadata": {},
     "output_type": "display_data"
    },
    {
     "name": "stdout",
     "output_type": "stream",
     "text": [
      "Summary:\n",
      "-learning rate = 0.00292\n",
      "-Model saved after iteration 1746.\n",
      "-Train.  Loss=0.3830745\n",
      "-Valid.  Loss=0.6040922\n",
      "'train_loss01_90.csv' saved.\n",
      "'valid_loss01_90.csv' saved.\n",
      "'model04_forward01_90_last.pth' saved.\n",
      "'model04_forward01_90_best.pth' saved.\n",
      "- train minibatches = 1\n",
      "- valid minibatches = 1\n",
      "- test minibatches = 1\n"
     ]
    },
    {
     "data": {
      "application/vnd.jupyter.widget-view+json": {
       "model_id": "ff2cbe8e5c1c4a2a919e35d2e85d57cd",
       "version_major": 2,
       "version_minor": 0
      },
      "text/plain": [
       "Epochs loop:   0%|          | 0/40000 [00:00<?, ?it/s]"
      ]
     },
     "metadata": {},
     "output_type": "display_data"
    },
    {
     "name": "stdout",
     "output_type": "stream",
     "text": [
      "Summary:\n",
      "-learning rate = 0.00292\n",
      "-Model saved after iteration 3097.\n",
      "-Train.  Loss=0.2933580\n",
      "-Valid.  Loss=0.6468670\n",
      "'train_loss01_91.csv' saved.\n",
      "'valid_loss01_91.csv' saved.\n",
      "'model04_forward01_91_last.pth' saved.\n",
      "'model04_forward01_91_best.pth' saved.\n",
      "- train minibatches = 1\n",
      "- valid minibatches = 1\n",
      "- test minibatches = 1\n"
     ]
    },
    {
     "data": {
      "application/vnd.jupyter.widget-view+json": {
       "model_id": "a5eb02df136e4692a6492aec1ef392c7",
       "version_major": 2,
       "version_minor": 0
      },
      "text/plain": [
       "Epochs loop:   0%|          | 0/40000 [00:00<?, ?it/s]"
      ]
     },
     "metadata": {},
     "output_type": "display_data"
    },
    {
     "name": "stdout",
     "output_type": "stream",
     "text": [
      "Summary:\n",
      "-learning rate = 0.00292\n",
      "-Model saved after iteration 3348.\n",
      "-Train.  Loss=0.3376639\n",
      "-Valid.  Loss=0.6101947\n",
      "'train_loss01_92.csv' saved.\n",
      "'valid_loss01_92.csv' saved.\n",
      "'model04_forward01_92_last.pth' saved.\n",
      "'model04_forward01_92_best.pth' saved.\n",
      "- train minibatches = 1\n",
      "- valid minibatches = 1\n",
      "- test minibatches = 1\n"
     ]
    },
    {
     "data": {
      "application/vnd.jupyter.widget-view+json": {
       "model_id": "d3ba78d8800345b09c2a88ede0f77c4b",
       "version_major": 2,
       "version_minor": 0
      },
      "text/plain": [
       "Epochs loop:   0%|          | 0/40000 [00:00<?, ?it/s]"
      ]
     },
     "metadata": {},
     "output_type": "display_data"
    },
    {
     "name": "stdout",
     "output_type": "stream",
     "text": [
      "Summary:\n",
      "-learning rate = 0.00292\n",
      "-Model saved after iteration 3474.\n",
      "-Train.  Loss=0.3695658\n",
      "-Valid.  Loss=0.5683744\n",
      "'train_loss01_93.csv' saved.\n",
      "'valid_loss01_93.csv' saved.\n",
      "'model04_forward01_93_last.pth' saved.\n",
      "'model04_forward01_93_best.pth' saved.\n",
      "- train minibatches = 1\n",
      "- valid minibatches = 1\n",
      "- test minibatches = 1\n"
     ]
    },
    {
     "data": {
      "application/vnd.jupyter.widget-view+json": {
       "model_id": "dd56f87feda340deb505f78f91632bc4",
       "version_major": 2,
       "version_minor": 0
      },
      "text/plain": [
       "Epochs loop:   0%|          | 0/40000 [00:00<?, ?it/s]"
      ]
     },
     "metadata": {},
     "output_type": "display_data"
    },
    {
     "name": "stdout",
     "output_type": "stream",
     "text": [
      "Summary:\n",
      "-learning rate = 0.00292\n",
      "-Model saved after iteration 4205.\n",
      "-Train.  Loss=0.3708316\n",
      "-Valid.  Loss=0.4620917\n",
      "'train_loss01_94.csv' saved.\n",
      "'valid_loss01_94.csv' saved.\n",
      "'model04_forward01_94_last.pth' saved.\n",
      "'model04_forward01_94_best.pth' saved.\n",
      "- train minibatches = 1\n",
      "- valid minibatches = 1\n",
      "- test minibatches = 1\n"
     ]
    },
    {
     "data": {
      "application/vnd.jupyter.widget-view+json": {
       "model_id": "c5c3d1129b4a42a8b0318c354b71156e",
       "version_major": 2,
       "version_minor": 0
      },
      "text/plain": [
       "Epochs loop:   0%|          | 0/40000 [00:00<?, ?it/s]"
      ]
     },
     "metadata": {},
     "output_type": "display_data"
    },
    {
     "name": "stdout",
     "output_type": "stream",
     "text": [
      "Summary:\n",
      "-learning rate = 0.00292\n",
      "-Model saved after iteration 2171.\n",
      "-Train.  Loss=0.4067417\n",
      "-Valid.  Loss=0.4046084\n",
      "'train_loss01_95.csv' saved.\n",
      "'valid_loss01_95.csv' saved.\n",
      "'model04_forward01_95_last.pth' saved.\n",
      "'model04_forward01_95_best.pth' saved.\n",
      "- train minibatches = 1\n",
      "- valid minibatches = 1\n",
      "- test minibatches = 1\n"
     ]
    },
    {
     "data": {
      "application/vnd.jupyter.widget-view+json": {
       "model_id": "c44e4bf915374653a2559b8ab4c07bb2",
       "version_major": 2,
       "version_minor": 0
      },
      "text/plain": [
       "Epochs loop:   0%|          | 0/40000 [00:00<?, ?it/s]"
      ]
     },
     "metadata": {},
     "output_type": "display_data"
    },
    {
     "name": "stdout",
     "output_type": "stream",
     "text": [
      "Summary:\n",
      "-learning rate = 0.00292\n",
      "-Model saved after iteration 4248.\n",
      "-Train.  Loss=0.3304355\n",
      "-Valid.  Loss=0.6425087\n",
      "'train_loss01_96.csv' saved.\n",
      "'valid_loss01_96.csv' saved.\n",
      "'model04_forward01_96_last.pth' saved.\n",
      "'model04_forward01_96_best.pth' saved.\n",
      "- train minibatches = 1\n",
      "- valid minibatches = 1\n",
      "- test minibatches = 1\n"
     ]
    },
    {
     "data": {
      "application/vnd.jupyter.widget-view+json": {
       "model_id": "3bcfedee79b44f5fa22ff227cd65989f",
       "version_major": 2,
       "version_minor": 0
      },
      "text/plain": [
       "Epochs loop:   0%|          | 0/40000 [00:00<?, ?it/s]"
      ]
     },
     "metadata": {},
     "output_type": "display_data"
    },
    {
     "name": "stdout",
     "output_type": "stream",
     "text": [
      "Summary:\n",
      "-learning rate = 0.00292\n",
      "-Model saved after iteration 1040.\n",
      "-Train.  Loss=0.4579361\n",
      "-Valid.  Loss=0.3194830\n",
      "'train_loss01_97.csv' saved.\n",
      "'valid_loss01_97.csv' saved.\n",
      "'model04_forward01_97_last.pth' saved.\n",
      "'model04_forward01_97_best.pth' saved.\n",
      "- train minibatches = 1\n",
      "- valid minibatches = 1\n",
      "- test minibatches = 1\n"
     ]
    },
    {
     "data": {
      "application/vnd.jupyter.widget-view+json": {
       "model_id": "c990a1fc065c43f6adf4f4fc3f14c56d",
       "version_major": 2,
       "version_minor": 0
      },
      "text/plain": [
       "Epochs loop:   0%|          | 0/40000 [00:00<?, ?it/s]"
      ]
     },
     "metadata": {},
     "output_type": "display_data"
    },
    {
     "name": "stdout",
     "output_type": "stream",
     "text": [
      "Summary:\n",
      "-learning rate = 0.00292\n",
      "-Model saved after iteration 4026.\n",
      "-Train.  Loss=0.3602683\n",
      "-Valid.  Loss=0.4675274\n",
      "'train_loss01_98.csv' saved.\n",
      "'valid_loss01_98.csv' saved.\n",
      "'model04_forward01_98_last.pth' saved.\n",
      "'model04_forward01_98_best.pth' saved.\n",
      "- train minibatches = 1\n",
      "- valid minibatches = 1\n",
      "- test minibatches = 1\n"
     ]
    },
    {
     "data": {
      "application/vnd.jupyter.widget-view+json": {
       "model_id": "68b14182ae3c42549c8195d25caf829c",
       "version_major": 2,
       "version_minor": 0
      },
      "text/plain": [
       "Epochs loop:   0%|          | 0/40000 [00:00<?, ?it/s]"
      ]
     },
     "metadata": {},
     "output_type": "display_data"
    },
    {
     "name": "stdout",
     "output_type": "stream",
     "text": [
      "Summary:\n",
      "-learning rate = 0.00292\n",
      "-Model saved after iteration 5010.\n",
      "-Train.  Loss=0.3027267\n",
      "-Valid.  Loss=0.6556177\n",
      "'train_loss01_99.csv' saved.\n",
      "'valid_loss01_99.csv' saved.\n",
      "'model04_forward01_99_last.pth' saved.\n",
      "'model04_forward01_99_best.pth' saved.\n",
      "- train minibatches = 1\n",
      "- valid minibatches = 1\n",
      "- test minibatches = 1\n"
     ]
    },
    {
     "data": {
      "application/vnd.jupyter.widget-view+json": {
       "model_id": "874d5cab87b3407f9986de8f9dac1af3",
       "version_major": 2,
       "version_minor": 0
      },
      "text/plain": [
       "Epochs loop:   0%|          | 0/40000 [00:00<?, ?it/s]"
      ]
     },
     "metadata": {},
     "output_type": "display_data"
    },
    {
     "name": "stdout",
     "output_type": "stream",
     "text": [
      "Summary:\n",
      "-learning rate = 0.00292\n",
      "-Model saved after iteration 4121.\n",
      "-Train.  Loss=0.3315429\n",
      "-Valid.  Loss=0.3578171\n",
      "'train_loss01_100.csv' saved.\n",
      "'valid_loss01_100.csv' saved.\n",
      "'model04_forward01_100_last.pth' saved.\n",
      "'model04_forward01_100_best.pth' saved.\n"
     ]
    }
   ],
   "source": [
    "# Find Accuracy, Loss +/- STD (Lockdown: path 1)\n",
    "# df_results = pd.DataFrame(columns=['train_mse', 'valid_mse', 'test_mse', \\\n",
    "#                                    'train_r2', 'valid_r2', 'test_r2'])\n",
    "df_results = pd.read_csv('data_lockdown_04CrimeUnnormalized/partitions/accuracy04_forward01.csv', index_col=0)\n",
    "\n",
    "partitions = 100\n",
    "iterator = tqdm.notebook.tqdm(range(90, partitions + 1), desc='Partitions loop')\n",
    "for n in iterator:\n",
    "    X = pd.read_csv('dataset_04CrimeUnnormalized/X1.csv')\n",
    "    y = pd.read_csv('dataset_04CrimeUnnormalized/y1.csv')\n",
    "    split_data(X, y, seed1=seed1[n], seed2=seed2[n])\n",
    "\n",
    "# .normalize data sets\n",
    "    df_to_tensor()\n",
    "    normalize_data()\n",
    "    make_DataLoaders()\n",
    "\n",
    "# .train model (forward)\n",
    "    lr = best_lr_bward\n",
    "    layer_sizes = [5, 1]\n",
    "    epochs = 40000\n",
    "    data_out = \"data_lockdown_04CrimeUnnormalized/partitions\"\n",
    "    lock_flag = False\n",
    "    features = xtrain.size(1)\n",
    "    fname = 'model04_forward01_'+str(n)\n",
    "    train_loss, valid_loss = train_model(\n",
    "                             lr, \n",
    "                             features, \n",
    "                             layer_sizes,\n",
    "                             lock_flag = lock_flag,\n",
    "                             epochs = epochs,\n",
    "                             early_stop = epochs, \n",
    "                             fname = fname)\n",
    "# .save relevant data\n",
    "    f3 = [fname+'_last.pth', fname+'_best.pth']\n",
    "    save_output(data_out, \n",
    "                'train_loss01_'+str(n)+'.csv', \n",
    "                'valid_loss01_'+str(n)+'.csv', f3)\n",
    "\n",
    "# .find MSE, R2, etc...\n",
    "    mm = MyNet(features, layer_sizes)\n",
    "    mm.load_state_dict(torch.load(os.path.join(data_out, fname+'_best.pth')))\n",
    "    mm = mm.to(device)\n",
    "    mm.eval()\n",
    "    \n",
    "    ypred = mm(xtrain)\n",
    "    mse = mean_squared_error(ytrain.detach().numpy().ravel(), ypred.detach().numpy().ravel(), squared=True)\n",
    "    r2 = r2_score(ytrain.detach().numpy().ravel(), ypred.detach().numpy().ravel())\n",
    "    df_results.loc[n, 'train_mse'] = mse\n",
    "    df_results.loc[n, 'train_r2']  = r2\n",
    "\n",
    "    ypred = mm(xvalid)\n",
    "    mse = mean_squared_error(yvalid.detach().numpy().ravel(), ypred.detach().numpy().ravel(), squared=True)\n",
    "    r2 = r2_score(yvalid.detach().numpy().ravel(), ypred.detach().numpy().ravel())\n",
    "    df_results.loc[n, 'valid_mse'] = mse\n",
    "    df_results.loc[n, 'valid_r2']  = r2\n",
    "\n",
    "    ypred = mm(xtest)\n",
    "    mse = mean_squared_error(ytest.detach().numpy().ravel(), ypred.detach().numpy().ravel(), squared=True)\n",
    "    r2 = r2_score(ytest.detach().numpy().ravel(), ypred.detach().numpy().ravel())\n",
    "    df_results.loc[n, 'test_mse'] = mse\n",
    "    df_results.loc[n, 'test_r2']  = r2\n",
    "\n",
    "    df_results.to_csv(os.path.join(data_out, 'accuracy04_forward01.csv'), index=True)"
   ]
  },
  {
   "cell_type": "code",
   "execution_count": 23,
   "metadata": {
    "ExecuteTime": {
     "end_time": "2021-03-02T05:40:19.299064Z",
     "start_time": "2021-03-01T16:31:21.229859Z"
    },
    "code_folding": [
     0
    ],
    "scrolled": true
   },
   "outputs": [
    {
     "data": {
      "application/vnd.jupyter.widget-view+json": {
       "model_id": "05db5bc51d1d4cd78066c0f4fc782956",
       "version_major": 2,
       "version_minor": 0
      },
      "text/plain": [
       "Partitions loop:   0%|          | 0/100 [00:00<?, ?it/s]"
      ]
     },
     "metadata": {},
     "output_type": "display_data"
    },
    {
     "name": "stdout",
     "output_type": "stream",
     "text": [
      "- train minibatches = 1\n",
      "- valid minibatches = 1\n",
      "- test minibatches = 1\n"
     ]
    },
    {
     "data": {
      "application/vnd.jupyter.widget-view+json": {
       "model_id": "8e6b30109fac453f977cbc4fb1b9142f",
       "version_major": 2,
       "version_minor": 0
      },
      "text/plain": [
       "Epochs loop:   0%|          | 0/20000 [00:00<?, ?it/s]"
      ]
     },
     "metadata": {},
     "output_type": "display_data"
    },
    {
     "name": "stdout",
     "output_type": "stream",
     "text": [
      "Summary:\n",
      "-learning rate = 0.00292\n",
      "-Model saved after iteration 16604.\n",
      "-Train.  Loss=0.3747678\n",
      "-Valid.  Loss=0.3514389\n",
      "'train_loss_bward01_1.csv' saved.\n",
      "'valid_loss_bward01_1.csv' saved.\n",
      "'model04_backward01_1_best.pth' saved.\n",
      "- train minibatches = 1\n",
      "- valid minibatches = 1\n",
      "- test minibatches = 1\n"
     ]
    },
    {
     "data": {
      "application/vnd.jupyter.widget-view+json": {
       "model_id": "426e10d6019b47b5a09ff2d43099d69d",
       "version_major": 2,
       "version_minor": 0
      },
      "text/plain": [
       "Epochs loop:   0%|          | 0/20000 [00:00<?, ?it/s]"
      ]
     },
     "metadata": {},
     "output_type": "display_data"
    },
    {
     "name": "stdout",
     "output_type": "stream",
     "text": [
      "Summary:\n",
      "-learning rate = 0.00292\n",
      "-Model saved after iteration 17603.\n",
      "-Train.  Loss=0.4087725\n",
      "-Valid.  Loss=0.2674267\n",
      "'train_loss_bward01_2.csv' saved.\n",
      "'valid_loss_bward01_2.csv' saved.\n",
      "'model04_backward01_2_best.pth' saved.\n",
      "- train minibatches = 1\n",
      "- valid minibatches = 1\n",
      "- test minibatches = 1\n"
     ]
    },
    {
     "data": {
      "application/vnd.jupyter.widget-view+json": {
       "model_id": "3d7660258ece4f6a85ec0a23b4516b04",
       "version_major": 2,
       "version_minor": 0
      },
      "text/plain": [
       "Epochs loop:   0%|          | 0/20000 [00:00<?, ?it/s]"
      ]
     },
     "metadata": {},
     "output_type": "display_data"
    },
    {
     "name": "stdout",
     "output_type": "stream",
     "text": [
      "Summary:\n",
      "-learning rate = 0.00292\n",
      "-Model saved after iteration 17934.\n",
      "-Train.  Loss=0.3867161\n",
      "-Valid.  Loss=0.4716690\n",
      "'train_loss_bward01_3.csv' saved.\n",
      "'valid_loss_bward01_3.csv' saved.\n",
      "'model04_backward01_3_best.pth' saved.\n",
      "- train minibatches = 1\n",
      "- valid minibatches = 1\n",
      "- test minibatches = 1\n"
     ]
    },
    {
     "data": {
      "application/vnd.jupyter.widget-view+json": {
       "model_id": "aff4645916c14df798eab762e787adac",
       "version_major": 2,
       "version_minor": 0
      },
      "text/plain": [
       "Epochs loop:   0%|          | 0/20000 [00:00<?, ?it/s]"
      ]
     },
     "metadata": {},
     "output_type": "display_data"
    },
    {
     "name": "stdout",
     "output_type": "stream",
     "text": [
      "Summary:\n",
      "-learning rate = 0.00292\n",
      "-Model saved after iteration 19083.\n",
      "-Train.  Loss=0.3980420\n",
      "-Valid.  Loss=0.4350541\n",
      "'train_loss_bward01_4.csv' saved.\n",
      "'valid_loss_bward01_4.csv' saved.\n",
      "'model04_backward01_4_best.pth' saved.\n",
      "- train minibatches = 1\n",
      "- valid minibatches = 1\n",
      "- test minibatches = 1\n"
     ]
    },
    {
     "data": {
      "application/vnd.jupyter.widget-view+json": {
       "model_id": "4eb2538ce84d49dcacab39bad3537127",
       "version_major": 2,
       "version_minor": 0
      },
      "text/plain": [
       "Epochs loop:   0%|          | 0/20000 [00:00<?, ?it/s]"
      ]
     },
     "metadata": {},
     "output_type": "display_data"
    },
    {
     "name": "stdout",
     "output_type": "stream",
     "text": [
      "Summary:\n",
      "-learning rate = 0.00292\n",
      "-Model saved after iteration 18352.\n",
      "-Train.  Loss=0.4067964\n",
      "-Valid.  Loss=0.3712546\n",
      "'train_loss_bward01_5.csv' saved.\n",
      "'valid_loss_bward01_5.csv' saved.\n",
      "'model04_backward01_5_best.pth' saved.\n",
      "- train minibatches = 1\n",
      "- valid minibatches = 1\n",
      "- test minibatches = 1\n"
     ]
    },
    {
     "data": {
      "application/vnd.jupyter.widget-view+json": {
       "model_id": "f14ac8ad09b84e4e98b8323addd46127",
       "version_major": 2,
       "version_minor": 0
      },
      "text/plain": [
       "Epochs loop:   0%|          | 0/20000 [00:00<?, ?it/s]"
      ]
     },
     "metadata": {},
     "output_type": "display_data"
    },
    {
     "name": "stdout",
     "output_type": "stream",
     "text": [
      "Summary:\n",
      "-learning rate = 0.00292\n",
      "-Model saved after iteration 17797.\n",
      "-Train.  Loss=0.3922224\n",
      "-Valid.  Loss=0.3463332\n",
      "'train_loss_bward01_6.csv' saved.\n",
      "'valid_loss_bward01_6.csv' saved.\n",
      "'model04_backward01_6_best.pth' saved.\n",
      "- train minibatches = 1\n",
      "- valid minibatches = 1\n",
      "- test minibatches = 1\n"
     ]
    },
    {
     "data": {
      "application/vnd.jupyter.widget-view+json": {
       "model_id": "346fa86092c141df9a31969f043db4e6",
       "version_major": 2,
       "version_minor": 0
      },
      "text/plain": [
       "Epochs loop:   0%|          | 0/20000 [00:00<?, ?it/s]"
      ]
     },
     "metadata": {},
     "output_type": "display_data"
    },
    {
     "name": "stdout",
     "output_type": "stream",
     "text": [
      "Summary:\n",
      "-learning rate = 0.00292\n",
      "-Model saved after iteration 18427.\n",
      "-Train.  Loss=0.4011500\n",
      "-Valid.  Loss=0.3812247\n",
      "'train_loss_bward01_7.csv' saved.\n",
      "'valid_loss_bward01_7.csv' saved.\n",
      "'model04_backward01_7_best.pth' saved.\n",
      "- train minibatches = 1\n",
      "- valid minibatches = 1\n",
      "- test minibatches = 1\n"
     ]
    },
    {
     "data": {
      "application/vnd.jupyter.widget-view+json": {
       "model_id": "46c4b28f76e44650a9ed004d9ec7047c",
       "version_major": 2,
       "version_minor": 0
      },
      "text/plain": [
       "Epochs loop:   0%|          | 0/20000 [00:00<?, ?it/s]"
      ]
     },
     "metadata": {},
     "output_type": "display_data"
    },
    {
     "name": "stdout",
     "output_type": "stream",
     "text": [
      "Summary:\n",
      "-learning rate = 0.00292\n",
      "-Model saved after iteration 18740.\n",
      "-Train.  Loss=0.3915376\n",
      "-Valid.  Loss=0.3975435\n",
      "'train_loss_bward01_8.csv' saved.\n",
      "'valid_loss_bward01_8.csv' saved.\n",
      "'model04_backward01_8_best.pth' saved.\n",
      "- train minibatches = 1\n",
      "- valid minibatches = 1\n",
      "- test minibatches = 1\n"
     ]
    },
    {
     "data": {
      "application/vnd.jupyter.widget-view+json": {
       "model_id": "b3e1319637a842afa3a7ff2a98f48ff5",
       "version_major": 2,
       "version_minor": 0
      },
      "text/plain": [
       "Epochs loop:   0%|          | 0/20000 [00:00<?, ?it/s]"
      ]
     },
     "metadata": {},
     "output_type": "display_data"
    },
    {
     "name": "stdout",
     "output_type": "stream",
     "text": [
      "Summary:\n",
      "-learning rate = 0.00292\n",
      "-Model saved after iteration 16907.\n",
      "-Train.  Loss=0.3536252\n",
      "-Valid.  Loss=0.4510913\n",
      "'train_loss_bward01_9.csv' saved.\n",
      "'valid_loss_bward01_9.csv' saved.\n",
      "'model04_backward01_9_best.pth' saved.\n",
      "- train minibatches = 1\n",
      "- valid minibatches = 1\n",
      "- test minibatches = 1\n"
     ]
    },
    {
     "data": {
      "application/vnd.jupyter.widget-view+json": {
       "model_id": "ae230532f9654eaa887688db8a1915fd",
       "version_major": 2,
       "version_minor": 0
      },
      "text/plain": [
       "Epochs loop:   0%|          | 0/20000 [00:00<?, ?it/s]"
      ]
     },
     "metadata": {},
     "output_type": "display_data"
    },
    {
     "name": "stdout",
     "output_type": "stream",
     "text": [
      "Summary:\n",
      "-learning rate = 0.00292\n",
      "-Model saved after iteration 19054.\n",
      "-Train.  Loss=0.3770811\n",
      "-Valid.  Loss=0.6180745\n",
      "'train_loss_bward01_10.csv' saved.\n",
      "'valid_loss_bward01_10.csv' saved.\n",
      "'model04_backward01_10_best.pth' saved.\n",
      "- train minibatches = 1\n",
      "- valid minibatches = 1\n",
      "- test minibatches = 1\n"
     ]
    },
    {
     "data": {
      "application/vnd.jupyter.widget-view+json": {
       "model_id": "7034ae227cda4a19931e21bbe4862d5e",
       "version_major": 2,
       "version_minor": 0
      },
      "text/plain": [
       "Epochs loop:   0%|          | 0/20000 [00:00<?, ?it/s]"
      ]
     },
     "metadata": {},
     "output_type": "display_data"
    },
    {
     "name": "stdout",
     "output_type": "stream",
     "text": [
      "Summary:\n",
      "-learning rate = 0.00292\n",
      "-Model saved after iteration 17957.\n",
      "-Train.  Loss=0.3826874\n",
      "-Valid.  Loss=0.3447412\n",
      "'train_loss_bward01_11.csv' saved.\n",
      "'valid_loss_bward01_11.csv' saved.\n",
      "'model04_backward01_11_best.pth' saved.\n",
      "- train minibatches = 1\n",
      "- valid minibatches = 1\n",
      "- test minibatches = 1\n"
     ]
    },
    {
     "data": {
      "application/vnd.jupyter.widget-view+json": {
       "model_id": "14a2910b1fde40c6bf2983e3a6309f59",
       "version_major": 2,
       "version_minor": 0
      },
      "text/plain": [
       "Epochs loop:   0%|          | 0/20000 [00:00<?, ?it/s]"
      ]
     },
     "metadata": {},
     "output_type": "display_data"
    },
    {
     "name": "stdout",
     "output_type": "stream",
     "text": [
      "Summary:\n",
      "-learning rate = 0.00292\n",
      "-Model saved after iteration 18201.\n",
      "-Train.  Loss=0.3771105\n",
      "-Valid.  Loss=0.5134339\n",
      "'train_loss_bward01_12.csv' saved.\n",
      "'valid_loss_bward01_12.csv' saved.\n",
      "'model04_backward01_12_best.pth' saved.\n",
      "- train minibatches = 1\n",
      "- valid minibatches = 1\n",
      "- test minibatches = 1\n"
     ]
    },
    {
     "data": {
      "application/vnd.jupyter.widget-view+json": {
       "model_id": "fc57c9714b494c3d992c362ee02a62d3",
       "version_major": 2,
       "version_minor": 0
      },
      "text/plain": [
       "Epochs loop:   0%|          | 0/20000 [00:00<?, ?it/s]"
      ]
     },
     "metadata": {},
     "output_type": "display_data"
    },
    {
     "name": "stdout",
     "output_type": "stream",
     "text": [
      "Summary:\n",
      "-learning rate = 0.00292\n",
      "-Model saved after iteration 16880.\n",
      "-Train.  Loss=0.3615181\n",
      "-Valid.  Loss=0.3444883\n",
      "'train_loss_bward01_13.csv' saved.\n",
      "'valid_loss_bward01_13.csv' saved.\n",
      "'model04_backward01_13_best.pth' saved.\n",
      "- train minibatches = 1\n",
      "- valid minibatches = 1\n",
      "- test minibatches = 1\n"
     ]
    },
    {
     "data": {
      "application/vnd.jupyter.widget-view+json": {
       "model_id": "dc6b778d3b7e4756826d72ebdc7b8fc4",
       "version_major": 2,
       "version_minor": 0
      },
      "text/plain": [
       "Epochs loop:   0%|          | 0/20000 [00:00<?, ?it/s]"
      ]
     },
     "metadata": {},
     "output_type": "display_data"
    },
    {
     "name": "stdout",
     "output_type": "stream",
     "text": [
      "Summary:\n",
      "-learning rate = 0.00292\n",
      "-Model saved after iteration 17189.\n",
      "-Train.  Loss=0.3262116\n",
      "-Valid.  Loss=0.6156785\n",
      "'train_loss_bward01_14.csv' saved.\n",
      "'valid_loss_bward01_14.csv' saved.\n",
      "'model04_backward01_14_best.pth' saved.\n",
      "- train minibatches = 1\n",
      "- valid minibatches = 1\n",
      "- test minibatches = 1\n"
     ]
    },
    {
     "data": {
      "application/vnd.jupyter.widget-view+json": {
       "model_id": "d33707e3e722429c8a456561c965b5a2",
       "version_major": 2,
       "version_minor": 0
      },
      "text/plain": [
       "Epochs loop:   0%|          | 0/20000 [00:00<?, ?it/s]"
      ]
     },
     "metadata": {},
     "output_type": "display_data"
    },
    {
     "name": "stdout",
     "output_type": "stream",
     "text": [
      "Summary:\n",
      "-learning rate = 0.00292\n",
      "-Model saved after iteration 17469.\n",
      "-Train.  Loss=0.3747437\n",
      "-Valid.  Loss=0.5114819\n",
      "'train_loss_bward01_15.csv' saved.\n",
      "'valid_loss_bward01_15.csv' saved.\n",
      "'model04_backward01_15_best.pth' saved.\n",
      "- train minibatches = 1\n",
      "- valid minibatches = 1\n",
      "- test minibatches = 1\n"
     ]
    },
    {
     "data": {
      "application/vnd.jupyter.widget-view+json": {
       "model_id": "0492ab92391b455dac4ea28444bfac0c",
       "version_major": 2,
       "version_minor": 0
      },
      "text/plain": [
       "Epochs loop:   0%|          | 0/20000 [00:00<?, ?it/s]"
      ]
     },
     "metadata": {},
     "output_type": "display_data"
    },
    {
     "name": "stdout",
     "output_type": "stream",
     "text": [
      "Summary:\n",
      "-learning rate = 0.00292\n",
      "-Model saved after iteration 17525.\n",
      "-Train.  Loss=0.4072879\n",
      "-Valid.  Loss=0.3452798\n",
      "'train_loss_bward01_16.csv' saved.\n",
      "'valid_loss_bward01_16.csv' saved.\n",
      "'model04_backward01_16_best.pth' saved.\n",
      "- train minibatches = 1\n",
      "- valid minibatches = 1\n",
      "- test minibatches = 1\n"
     ]
    },
    {
     "data": {
      "application/vnd.jupyter.widget-view+json": {
       "model_id": "6ae3bbfcacf244a6aeba2acab3759911",
       "version_major": 2,
       "version_minor": 0
      },
      "text/plain": [
       "Epochs loop:   0%|          | 0/20000 [00:00<?, ?it/s]"
      ]
     },
     "metadata": {},
     "output_type": "display_data"
    },
    {
     "name": "stdout",
     "output_type": "stream",
     "text": [
      "Summary:\n",
      "-learning rate = 0.00292\n",
      "-Model saved after iteration 17797.\n",
      "-Train.  Loss=0.3211556\n",
      "-Valid.  Loss=0.6391525\n",
      "'train_loss_bward01_17.csv' saved.\n",
      "'valid_loss_bward01_17.csv' saved.\n",
      "'model04_backward01_17_best.pth' saved.\n",
      "- train minibatches = 1\n",
      "- valid minibatches = 1\n",
      "- test minibatches = 1\n"
     ]
    },
    {
     "data": {
      "application/vnd.jupyter.widget-view+json": {
       "model_id": "5b9bca45aaab4168ade8677aec8cb38d",
       "version_major": 2,
       "version_minor": 0
      },
      "text/plain": [
       "Epochs loop:   0%|          | 0/20000 [00:00<?, ?it/s]"
      ]
     },
     "metadata": {},
     "output_type": "display_data"
    },
    {
     "name": "stdout",
     "output_type": "stream",
     "text": [
      "Summary:\n",
      "-learning rate = 0.00292\n",
      "-Model saved after iteration 16718.\n",
      "-Train.  Loss=0.3161638\n",
      "-Valid.  Loss=0.4645613\n",
      "'train_loss_bward01_18.csv' saved.\n",
      "'valid_loss_bward01_18.csv' saved.\n",
      "'model04_backward01_18_best.pth' saved.\n",
      "- train minibatches = 1\n",
      "- valid minibatches = 1\n",
      "- test minibatches = 1\n"
     ]
    },
    {
     "data": {
      "application/vnd.jupyter.widget-view+json": {
       "model_id": "d55210cad36e4732bd4bff31ed20f68e",
       "version_major": 2,
       "version_minor": 0
      },
      "text/plain": [
       "Epochs loop:   0%|          | 0/20000 [00:00<?, ?it/s]"
      ]
     },
     "metadata": {},
     "output_type": "display_data"
    },
    {
     "name": "stdout",
     "output_type": "stream",
     "text": [
      "Summary:\n",
      "-learning rate = 0.00292\n",
      "-Model saved after iteration 18543.\n",
      "-Train.  Loss=0.4015777\n",
      "-Valid.  Loss=0.3879691\n",
      "'train_loss_bward01_19.csv' saved.\n",
      "'valid_loss_bward01_19.csv' saved.\n",
      "'model04_backward01_19_best.pth' saved.\n",
      "- train minibatches = 1\n",
      "- valid minibatches = 1\n",
      "- test minibatches = 1\n"
     ]
    },
    {
     "data": {
      "application/vnd.jupyter.widget-view+json": {
       "model_id": "c35b32698bf845baac94fc3792b401f6",
       "version_major": 2,
       "version_minor": 0
      },
      "text/plain": [
       "Epochs loop:   0%|          | 0/20000 [00:00<?, ?it/s]"
      ]
     },
     "metadata": {},
     "output_type": "display_data"
    },
    {
     "name": "stdout",
     "output_type": "stream",
     "text": [
      "Summary:\n",
      "-learning rate = 0.00292\n",
      "-Model saved after iteration 18453.\n",
      "-Train.  Loss=0.3617414\n",
      "-Valid.  Loss=0.6251988\n",
      "'train_loss_bward01_20.csv' saved.\n",
      "'valid_loss_bward01_20.csv' saved.\n",
      "'model04_backward01_20_best.pth' saved.\n",
      "- train minibatches = 1\n",
      "- valid minibatches = 1\n",
      "- test minibatches = 1\n"
     ]
    },
    {
     "data": {
      "application/vnd.jupyter.widget-view+json": {
       "model_id": "4c9682d4c70641e481faa34efab2401a",
       "version_major": 2,
       "version_minor": 0
      },
      "text/plain": [
       "Epochs loop:   0%|          | 0/20000 [00:00<?, ?it/s]"
      ]
     },
     "metadata": {},
     "output_type": "display_data"
    },
    {
     "name": "stdout",
     "output_type": "stream",
     "text": [
      "Summary:\n",
      "-learning rate = 0.00292\n",
      "-Model saved after iteration 12077.\n",
      "-Train.  Loss=0.2879600\n",
      "-Valid.  Loss=0.5463195\n",
      "'train_loss_bward01_21.csv' saved.\n",
      "'valid_loss_bward01_21.csv' saved.\n",
      "'model04_backward01_21_best.pth' saved.\n",
      "- train minibatches = 1\n",
      "- valid minibatches = 1\n",
      "- test minibatches = 1\n"
     ]
    },
    {
     "data": {
      "application/vnd.jupyter.widget-view+json": {
       "model_id": "e3915be565574b56af5ffefa24d524e8",
       "version_major": 2,
       "version_minor": 0
      },
      "text/plain": [
       "Epochs loop:   0%|          | 0/20000 [00:00<?, ?it/s]"
      ]
     },
     "metadata": {},
     "output_type": "display_data"
    },
    {
     "name": "stdout",
     "output_type": "stream",
     "text": [
      "Summary:\n",
      "-learning rate = 0.00292\n",
      "-Model saved after iteration 17870.\n",
      "-Train.  Loss=0.3715430\n",
      "-Valid.  Loss=0.5019889\n",
      "'train_loss_bward01_22.csv' saved.\n",
      "'valid_loss_bward01_22.csv' saved.\n",
      "'model04_backward01_22_best.pth' saved.\n",
      "- train minibatches = 1\n",
      "- valid minibatches = 1\n",
      "- test minibatches = 1\n"
     ]
    },
    {
     "data": {
      "application/vnd.jupyter.widget-view+json": {
       "model_id": "cfafdcef820242509111ae1e759ec6d9",
       "version_major": 2,
       "version_minor": 0
      },
      "text/plain": [
       "Epochs loop:   0%|          | 0/20000 [00:00<?, ?it/s]"
      ]
     },
     "metadata": {},
     "output_type": "display_data"
    },
    {
     "name": "stdout",
     "output_type": "stream",
     "text": [
      "Summary:\n",
      "-learning rate = 0.00292\n",
      "-Model saved after iteration 17584.\n",
      "-Train.  Loss=0.3813570\n",
      "-Valid.  Loss=0.3285023\n",
      "'train_loss_bward01_23.csv' saved.\n",
      "'valid_loss_bward01_23.csv' saved.\n",
      "'model04_backward01_23_best.pth' saved.\n",
      "- train minibatches = 1\n",
      "- valid minibatches = 1\n",
      "- test minibatches = 1\n"
     ]
    },
    {
     "data": {
      "application/vnd.jupyter.widget-view+json": {
       "model_id": "dca4ca2d2b094c828b7f7c4b4c6504a2",
       "version_major": 2,
       "version_minor": 0
      },
      "text/plain": [
       "Epochs loop:   0%|          | 0/20000 [00:00<?, ?it/s]"
      ]
     },
     "metadata": {},
     "output_type": "display_data"
    },
    {
     "name": "stdout",
     "output_type": "stream",
     "text": [
      "Summary:\n",
      "-learning rate = 0.00292\n",
      "-Model saved after iteration 18727.\n",
      "-Train.  Loss=0.3670056\n",
      "-Valid.  Loss=0.3583328\n",
      "'train_loss_bward01_24.csv' saved.\n",
      "'valid_loss_bward01_24.csv' saved.\n",
      "'model04_backward01_24_best.pth' saved.\n",
      "- train minibatches = 1\n",
      "- valid minibatches = 1\n",
      "- test minibatches = 1\n"
     ]
    },
    {
     "data": {
      "application/vnd.jupyter.widget-view+json": {
       "model_id": "23f6c6bc46f74053961053914d9a2db4",
       "version_major": 2,
       "version_minor": 0
      },
      "text/plain": [
       "Epochs loop:   0%|          | 0/20000 [00:00<?, ?it/s]"
      ]
     },
     "metadata": {},
     "output_type": "display_data"
    },
    {
     "name": "stdout",
     "output_type": "stream",
     "text": [
      "Summary:\n",
      "-learning rate = 0.00292\n",
      "-Model saved after iteration 17143.\n",
      "-Train.  Loss=0.3306699\n",
      "-Valid.  Loss=0.4561744\n",
      "'train_loss_bward01_25.csv' saved.\n",
      "'valid_loss_bward01_25.csv' saved.\n",
      "'model04_backward01_25_best.pth' saved.\n",
      "- train minibatches = 1\n",
      "- valid minibatches = 1\n",
      "- test minibatches = 1\n"
     ]
    },
    {
     "data": {
      "application/vnd.jupyter.widget-view+json": {
       "model_id": "7a3b02d1e24c4228bf9dc15ade79fad6",
       "version_major": 2,
       "version_minor": 0
      },
      "text/plain": [
       "Epochs loop:   0%|          | 0/20000 [00:00<?, ?it/s]"
      ]
     },
     "metadata": {},
     "output_type": "display_data"
    },
    {
     "name": "stdout",
     "output_type": "stream",
     "text": [
      "Summary:\n",
      "-learning rate = 0.00292\n",
      "-Model saved after iteration 18884.\n",
      "-Train.  Loss=0.3993116\n",
      "-Valid.  Loss=0.4220290\n",
      "'train_loss_bward01_26.csv' saved.\n",
      "'valid_loss_bward01_26.csv' saved.\n",
      "'model04_backward01_26_best.pth' saved.\n",
      "- train minibatches = 1\n",
      "- valid minibatches = 1\n",
      "- test minibatches = 1\n"
     ]
    },
    {
     "data": {
      "application/vnd.jupyter.widget-view+json": {
       "model_id": "da5d97e4a6ee4b4e9a0c8c05d5846ac0",
       "version_major": 2,
       "version_minor": 0
      },
      "text/plain": [
       "Epochs loop:   0%|          | 0/20000 [00:00<?, ?it/s]"
      ]
     },
     "metadata": {},
     "output_type": "display_data"
    },
    {
     "name": "stdout",
     "output_type": "stream",
     "text": [
      "Summary:\n",
      "-learning rate = 0.00292\n",
      "-Model saved after iteration 17764.\n",
      "-Train.  Loss=0.3964009\n",
      "-Valid.  Loss=0.4061675\n",
      "'train_loss_bward01_27.csv' saved.\n",
      "'valid_loss_bward01_27.csv' saved.\n",
      "'model04_backward01_27_best.pth' saved.\n",
      "- train minibatches = 1\n",
      "- valid minibatches = 1\n",
      "- test minibatches = 1\n"
     ]
    },
    {
     "data": {
      "application/vnd.jupyter.widget-view+json": {
       "model_id": "05734259b432425bae864fa466f999cb",
       "version_major": 2,
       "version_minor": 0
      },
      "text/plain": [
       "Epochs loop:   0%|          | 0/20000 [00:00<?, ?it/s]"
      ]
     },
     "metadata": {},
     "output_type": "display_data"
    },
    {
     "name": "stdout",
     "output_type": "stream",
     "text": [
      "Summary:\n",
      "-learning rate = 0.00292\n",
      "-Model saved after iteration 10590.\n",
      "-Train.  Loss=0.2765551\n",
      "-Valid.  Loss=0.4738722\n",
      "'train_loss_bward01_28.csv' saved.\n",
      "'valid_loss_bward01_28.csv' saved.\n",
      "'model04_backward01_28_best.pth' saved.\n",
      "- train minibatches = 1\n",
      "- valid minibatches = 1\n",
      "- test minibatches = 1\n"
     ]
    },
    {
     "data": {
      "application/vnd.jupyter.widget-view+json": {
       "model_id": "6d7851a1f70f42e7a2dfd051e8a2598f",
       "version_major": 2,
       "version_minor": 0
      },
      "text/plain": [
       "Epochs loop:   0%|          | 0/20000 [00:00<?, ?it/s]"
      ]
     },
     "metadata": {},
     "output_type": "display_data"
    },
    {
     "name": "stdout",
     "output_type": "stream",
     "text": [
      "Summary:\n",
      "-learning rate = 0.00292\n",
      "-Model saved after iteration 17919.\n",
      "-Train.  Loss=0.3388426\n",
      "-Valid.  Loss=0.6017603\n",
      "'train_loss_bward01_29.csv' saved.\n",
      "'valid_loss_bward01_29.csv' saved.\n",
      "'model04_backward01_29_best.pth' saved.\n",
      "- train minibatches = 1\n",
      "- valid minibatches = 1\n",
      "- test minibatches = 1\n"
     ]
    },
    {
     "data": {
      "application/vnd.jupyter.widget-view+json": {
       "model_id": "2c56c906039c4e21a5685f5672d89755",
       "version_major": 2,
       "version_minor": 0
      },
      "text/plain": [
       "Epochs loop:   0%|          | 0/20000 [00:00<?, ?it/s]"
      ]
     },
     "metadata": {},
     "output_type": "display_data"
    },
    {
     "name": "stdout",
     "output_type": "stream",
     "text": [
      "Summary:\n",
      "-learning rate = 0.00292\n",
      "-Model saved after iteration 16049.\n",
      "-Train.  Loss=0.3062977\n",
      "-Valid.  Loss=0.5482429\n",
      "'train_loss_bward01_30.csv' saved.\n",
      "'valid_loss_bward01_30.csv' saved.\n",
      "'model04_backward01_30_best.pth' saved.\n",
      "- train minibatches = 1\n",
      "- valid minibatches = 1\n",
      "- test minibatches = 1\n"
     ]
    },
    {
     "data": {
      "application/vnd.jupyter.widget-view+json": {
       "model_id": "c97f7c18075c443bacbc2d67a55f80ca",
       "version_major": 2,
       "version_minor": 0
      },
      "text/plain": [
       "Epochs loop:   0%|          | 0/20000 [00:00<?, ?it/s]"
      ]
     },
     "metadata": {},
     "output_type": "display_data"
    },
    {
     "name": "stdout",
     "output_type": "stream",
     "text": [
      "Summary:\n",
      "-learning rate = 0.00292\n",
      "-Model saved after iteration 17316.\n",
      "-Train.  Loss=0.3165890\n",
      "-Valid.  Loss=0.5551652\n",
      "'train_loss_bward01_31.csv' saved.\n",
      "'valid_loss_bward01_31.csv' saved.\n",
      "'model04_backward01_31_best.pth' saved.\n",
      "- train minibatches = 1\n",
      "- valid minibatches = 1\n",
      "- test minibatches = 1\n"
     ]
    },
    {
     "data": {
      "application/vnd.jupyter.widget-view+json": {
       "model_id": "6c2678e6cd6c4daeb41aca002cb3fcf1",
       "version_major": 2,
       "version_minor": 0
      },
      "text/plain": [
       "Epochs loop:   0%|          | 0/20000 [00:00<?, ?it/s]"
      ]
     },
     "metadata": {},
     "output_type": "display_data"
    },
    {
     "name": "stdout",
     "output_type": "stream",
     "text": [
      "Summary:\n",
      "-learning rate = 0.00292\n",
      "-Model saved after iteration 14468.\n",
      "-Train.  Loss=0.3454546\n",
      "-Valid.  Loss=0.3383251\n",
      "'train_loss_bward01_32.csv' saved.\n",
      "'valid_loss_bward01_32.csv' saved.\n",
      "'model04_backward01_32_best.pth' saved.\n",
      "- train minibatches = 1\n",
      "- valid minibatches = 1\n",
      "- test minibatches = 1\n"
     ]
    },
    {
     "data": {
      "application/vnd.jupyter.widget-view+json": {
       "model_id": "8ff79ebe846f4f61a863958ea59c80f4",
       "version_major": 2,
       "version_minor": 0
      },
      "text/plain": [
       "Epochs loop:   0%|          | 0/20000 [00:00<?, ?it/s]"
      ]
     },
     "metadata": {},
     "output_type": "display_data"
    },
    {
     "name": "stdout",
     "output_type": "stream",
     "text": [
      "Summary:\n",
      "-learning rate = 0.00292\n",
      "-Model saved after iteration 17732.\n",
      "-Train.  Loss=0.3711658\n",
      "-Valid.  Loss=0.4605738\n",
      "'train_loss_bward01_33.csv' saved.\n",
      "'valid_loss_bward01_33.csv' saved.\n",
      "'model04_backward01_33_best.pth' saved.\n",
      "- train minibatches = 1\n",
      "- valid minibatches = 1\n",
      "- test minibatches = 1\n"
     ]
    },
    {
     "data": {
      "application/vnd.jupyter.widget-view+json": {
       "model_id": "92899a33d47a4d86bd1369cf7ed24e83",
       "version_major": 2,
       "version_minor": 0
      },
      "text/plain": [
       "Epochs loop:   0%|          | 0/20000 [00:00<?, ?it/s]"
      ]
     },
     "metadata": {},
     "output_type": "display_data"
    },
    {
     "name": "stdout",
     "output_type": "stream",
     "text": [
      "Summary:\n",
      "-learning rate = 0.00292\n",
      "-Model saved after iteration 17887.\n",
      "-Train.  Loss=0.3766845\n",
      "-Valid.  Loss=0.3649259\n",
      "'train_loss_bward01_34.csv' saved.\n",
      "'valid_loss_bward01_34.csv' saved.\n",
      "'model04_backward01_34_best.pth' saved.\n",
      "- train minibatches = 1\n",
      "- valid minibatches = 1\n",
      "- test minibatches = 1\n"
     ]
    },
    {
     "data": {
      "application/vnd.jupyter.widget-view+json": {
       "model_id": "590757137a2b41a48697090aa548c3af",
       "version_major": 2,
       "version_minor": 0
      },
      "text/plain": [
       "Epochs loop:   0%|          | 0/20000 [00:00<?, ?it/s]"
      ]
     },
     "metadata": {},
     "output_type": "display_data"
    },
    {
     "name": "stdout",
     "output_type": "stream",
     "text": [
      "Summary:\n",
      "-learning rate = 0.00292\n",
      "-Model saved after iteration 13381.\n",
      "-Train.  Loss=0.2863334\n",
      "-Valid.  Loss=0.3926035\n",
      "'train_loss_bward01_35.csv' saved.\n",
      "'valid_loss_bward01_35.csv' saved.\n",
      "'model04_backward01_35_best.pth' saved.\n",
      "- train minibatches = 1\n",
      "- valid minibatches = 1\n",
      "- test minibatches = 1\n"
     ]
    },
    {
     "data": {
      "application/vnd.jupyter.widget-view+json": {
       "model_id": "a64bc6d2e6614f4480cd3815069b850c",
       "version_major": 2,
       "version_minor": 0
      },
      "text/plain": [
       "Epochs loop:   0%|          | 0/20000 [00:00<?, ?it/s]"
      ]
     },
     "metadata": {},
     "output_type": "display_data"
    },
    {
     "name": "stdout",
     "output_type": "stream",
     "text": [
      "Summary:\n",
      "-learning rate = 0.00292\n",
      "-Model saved after iteration 18270.\n",
      "-Train.  Loss=0.3973313\n",
      "-Valid.  Loss=0.2914905\n",
      "'train_loss_bward01_36.csv' saved.\n",
      "'valid_loss_bward01_36.csv' saved.\n",
      "'model04_backward01_36_best.pth' saved.\n",
      "- train minibatches = 1\n",
      "- valid minibatches = 1\n",
      "- test minibatches = 1\n"
     ]
    },
    {
     "data": {
      "application/vnd.jupyter.widget-view+json": {
       "model_id": "ec9ac95faac04919ab3b91dab84a0b18",
       "version_major": 2,
       "version_minor": 0
      },
      "text/plain": [
       "Epochs loop:   0%|          | 0/20000 [00:00<?, ?it/s]"
      ]
     },
     "metadata": {},
     "output_type": "display_data"
    },
    {
     "name": "stdout",
     "output_type": "stream",
     "text": [
      "Summary:\n",
      "-learning rate = 0.00292\n",
      "-Model saved after iteration 17819.\n",
      "-Train.  Loss=0.3679563\n",
      "-Valid.  Loss=0.4087222\n",
      "'train_loss_bward01_37.csv' saved.\n",
      "'valid_loss_bward01_37.csv' saved.\n",
      "'model04_backward01_37_best.pth' saved.\n",
      "- train minibatches = 1\n",
      "- valid minibatches = 1\n",
      "- test minibatches = 1\n"
     ]
    },
    {
     "data": {
      "application/vnd.jupyter.widget-view+json": {
       "model_id": "fb7e9efe0e05435fa8e977af6215031a",
       "version_major": 2,
       "version_minor": 0
      },
      "text/plain": [
       "Epochs loop:   0%|          | 0/20000 [00:00<?, ?it/s]"
      ]
     },
     "metadata": {},
     "output_type": "display_data"
    },
    {
     "name": "stdout",
     "output_type": "stream",
     "text": [
      "Summary:\n",
      "-learning rate = 0.00292\n",
      "-Model saved after iteration 17604.\n",
      "-Train.  Loss=0.3690717\n",
      "-Valid.  Loss=0.5204442\n",
      "'train_loss_bward01_38.csv' saved.\n",
      "'valid_loss_bward01_38.csv' saved.\n",
      "'model04_backward01_38_best.pth' saved.\n",
      "- train minibatches = 1\n",
      "- valid minibatches = 1\n",
      "- test minibatches = 1\n"
     ]
    },
    {
     "data": {
      "application/vnd.jupyter.widget-view+json": {
       "model_id": "54a8cfdc55274c479cf4ac7381a7d5eb",
       "version_major": 2,
       "version_minor": 0
      },
      "text/plain": [
       "Epochs loop:   0%|          | 0/20000 [00:00<?, ?it/s]"
      ]
     },
     "metadata": {},
     "output_type": "display_data"
    },
    {
     "name": "stdout",
     "output_type": "stream",
     "text": [
      "Summary:\n",
      "-learning rate = 0.00292\n",
      "-Model saved after iteration 18294.\n",
      "-Train.  Loss=0.3643474\n",
      "-Valid.  Loss=0.3480566\n",
      "'train_loss_bward01_39.csv' saved.\n",
      "'valid_loss_bward01_39.csv' saved.\n",
      "'model04_backward01_39_best.pth' saved.\n",
      "- train minibatches = 1\n",
      "- valid minibatches = 1\n",
      "- test minibatches = 1\n"
     ]
    },
    {
     "data": {
      "application/vnd.jupyter.widget-view+json": {
       "model_id": "ef6dcc3bbdcd42d2a6b6637055f7d4f8",
       "version_major": 2,
       "version_minor": 0
      },
      "text/plain": [
       "Epochs loop:   0%|          | 0/20000 [00:00<?, ?it/s]"
      ]
     },
     "metadata": {},
     "output_type": "display_data"
    },
    {
     "name": "stdout",
     "output_type": "stream",
     "text": [
      "Summary:\n",
      "-learning rate = 0.00292\n",
      "-Model saved after iteration 17448.\n",
      "-Train.  Loss=0.3043975\n",
      "-Valid.  Loss=0.7057803\n",
      "'train_loss_bward01_40.csv' saved.\n",
      "'valid_loss_bward01_40.csv' saved.\n",
      "'model04_backward01_40_best.pth' saved.\n",
      "- train minibatches = 1\n",
      "- valid minibatches = 1\n",
      "- test minibatches = 1\n"
     ]
    },
    {
     "data": {
      "application/vnd.jupyter.widget-view+json": {
       "model_id": "5132c2e2cbfd44428d0a98a31b0aca35",
       "version_major": 2,
       "version_minor": 0
      },
      "text/plain": [
       "Epochs loop:   0%|          | 0/20000 [00:00<?, ?it/s]"
      ]
     },
     "metadata": {},
     "output_type": "display_data"
    },
    {
     "name": "stdout",
     "output_type": "stream",
     "text": [
      "Summary:\n",
      "-learning rate = 0.00292\n",
      "-Model saved after iteration 18231.\n",
      "-Train.  Loss=0.4077829\n",
      "-Valid.  Loss=0.3241842\n",
      "'train_loss_bward01_41.csv' saved.\n",
      "'valid_loss_bward01_41.csv' saved.\n",
      "'model04_backward01_41_best.pth' saved.\n",
      "- train minibatches = 1\n",
      "- valid minibatches = 1\n",
      "- test minibatches = 1\n"
     ]
    },
    {
     "data": {
      "application/vnd.jupyter.widget-view+json": {
       "model_id": "dbbf1aa238b445ddb7240b1b0ad1a365",
       "version_major": 2,
       "version_minor": 0
      },
      "text/plain": [
       "Epochs loop:   0%|          | 0/20000 [00:00<?, ?it/s]"
      ]
     },
     "metadata": {},
     "output_type": "display_data"
    },
    {
     "name": "stdout",
     "output_type": "stream",
     "text": [
      "Summary:\n",
      "-learning rate = 0.00292\n",
      "-Model saved after iteration 17254.\n",
      "-Train.  Loss=0.3765369\n",
      "-Valid.  Loss=0.3028834\n",
      "'train_loss_bward01_42.csv' saved.\n",
      "'valid_loss_bward01_42.csv' saved.\n",
      "'model04_backward01_42_best.pth' saved.\n",
      "- train minibatches = 1\n",
      "- valid minibatches = 1\n",
      "- test minibatches = 1\n"
     ]
    },
    {
     "data": {
      "application/vnd.jupyter.widget-view+json": {
       "model_id": "8cfb6edebb7441d7a686372ebf010bef",
       "version_major": 2,
       "version_minor": 0
      },
      "text/plain": [
       "Epochs loop:   0%|          | 0/20000 [00:00<?, ?it/s]"
      ]
     },
     "metadata": {},
     "output_type": "display_data"
    },
    {
     "name": "stdout",
     "output_type": "stream",
     "text": [
      "Summary:\n",
      "-learning rate = 0.00292\n",
      "-Model saved after iteration 17932.\n",
      "-Train.  Loss=0.3521507\n",
      "-Valid.  Loss=0.3470106\n",
      "'train_loss_bward01_43.csv' saved.\n",
      "'valid_loss_bward01_43.csv' saved.\n",
      "'model04_backward01_43_best.pth' saved.\n",
      "- train minibatches = 1\n",
      "- valid minibatches = 1\n",
      "- test minibatches = 1\n"
     ]
    },
    {
     "data": {
      "application/vnd.jupyter.widget-view+json": {
       "model_id": "a4fa42859f834050a38ea32153d488bf",
       "version_major": 2,
       "version_minor": 0
      },
      "text/plain": [
       "Epochs loop:   0%|          | 0/20000 [00:00<?, ?it/s]"
      ]
     },
     "metadata": {},
     "output_type": "display_data"
    },
    {
     "name": "stdout",
     "output_type": "stream",
     "text": [
      "Summary:\n",
      "-learning rate = 0.00292\n",
      "-Model saved after iteration 17848.\n",
      "-Train.  Loss=0.3989955\n",
      "-Valid.  Loss=0.3741077\n",
      "'train_loss_bward01_44.csv' saved.\n",
      "'valid_loss_bward01_44.csv' saved.\n",
      "'model04_backward01_44_best.pth' saved.\n",
      "- train minibatches = 1\n",
      "- valid minibatches = 1\n",
      "- test minibatches = 1\n"
     ]
    },
    {
     "data": {
      "application/vnd.jupyter.widget-view+json": {
       "model_id": "34918f4ad0d5494abc943c6911d03a1c",
       "version_major": 2,
       "version_minor": 0
      },
      "text/plain": [
       "Epochs loop:   0%|          | 0/20000 [00:00<?, ?it/s]"
      ]
     },
     "metadata": {},
     "output_type": "display_data"
    },
    {
     "name": "stdout",
     "output_type": "stream",
     "text": [
      "Summary:\n",
      "-learning rate = 0.00292\n",
      "-Model saved after iteration 15740.\n",
      "-Train.  Loss=0.3228596\n",
      "-Valid.  Loss=0.6558753\n",
      "'train_loss_bward01_45.csv' saved.\n",
      "'valid_loss_bward01_45.csv' saved.\n",
      "'model04_backward01_45_best.pth' saved.\n",
      "- train minibatches = 1\n",
      "- valid minibatches = 1\n",
      "- test minibatches = 1\n"
     ]
    },
    {
     "data": {
      "application/vnd.jupyter.widget-view+json": {
       "model_id": "7be4e95d79914cfcad25ed634c661797",
       "version_major": 2,
       "version_minor": 0
      },
      "text/plain": [
       "Epochs loop:   0%|          | 0/20000 [00:00<?, ?it/s]"
      ]
     },
     "metadata": {},
     "output_type": "display_data"
    },
    {
     "name": "stdout",
     "output_type": "stream",
     "text": [
      "Summary:\n",
      "-learning rate = 0.00292\n",
      "-Model saved after iteration 18197.\n",
      "-Train.  Loss=0.3307240\n",
      "-Valid.  Loss=0.6749603\n",
      "'train_loss_bward01_46.csv' saved.\n",
      "'valid_loss_bward01_46.csv' saved.\n",
      "'model04_backward01_46_best.pth' saved.\n",
      "- train minibatches = 1\n",
      "- valid minibatches = 1\n",
      "- test minibatches = 1\n"
     ]
    },
    {
     "data": {
      "application/vnd.jupyter.widget-view+json": {
       "model_id": "3801e21339d9415a9131e20d1417126f",
       "version_major": 2,
       "version_minor": 0
      },
      "text/plain": [
       "Epochs loop:   0%|          | 0/20000 [00:00<?, ?it/s]"
      ]
     },
     "metadata": {},
     "output_type": "display_data"
    },
    {
     "name": "stdout",
     "output_type": "stream",
     "text": [
      "Summary:\n",
      "-learning rate = 0.00292\n",
      "-Model saved after iteration 18568.\n",
      "-Train.  Loss=0.3600559\n",
      "-Valid.  Loss=0.5671445\n",
      "'train_loss_bward01_47.csv' saved.\n",
      "'valid_loss_bward01_47.csv' saved.\n",
      "'model04_backward01_47_best.pth' saved.\n",
      "- train minibatches = 1\n",
      "- valid minibatches = 1\n",
      "- test minibatches = 1\n"
     ]
    },
    {
     "data": {
      "application/vnd.jupyter.widget-view+json": {
       "model_id": "15b407cd39e543b79f89138e949dd412",
       "version_major": 2,
       "version_minor": 0
      },
      "text/plain": [
       "Epochs loop:   0%|          | 0/20000 [00:00<?, ?it/s]"
      ]
     },
     "metadata": {},
     "output_type": "display_data"
    },
    {
     "name": "stdout",
     "output_type": "stream",
     "text": [
      "Summary:\n",
      "-learning rate = 0.00292\n",
      "-Model saved after iteration 15951.\n",
      "-Train.  Loss=0.3030556\n",
      "-Valid.  Loss=0.6783822\n",
      "'train_loss_bward01_48.csv' saved.\n",
      "'valid_loss_bward01_48.csv' saved.\n",
      "'model04_backward01_48_best.pth' saved.\n",
      "- train minibatches = 1\n",
      "- valid minibatches = 1\n",
      "- test minibatches = 1\n"
     ]
    },
    {
     "data": {
      "application/vnd.jupyter.widget-view+json": {
       "model_id": "3256b9a506c5409aafd5f85d09dc5cff",
       "version_major": 2,
       "version_minor": 0
      },
      "text/plain": [
       "Epochs loop:   0%|          | 0/20000 [00:00<?, ?it/s]"
      ]
     },
     "metadata": {},
     "output_type": "display_data"
    },
    {
     "name": "stdout",
     "output_type": "stream",
     "text": [
      "Summary:\n",
      "-learning rate = 0.00292\n",
      "-Model saved after iteration 15189.\n",
      "-Train.  Loss=0.3070577\n",
      "-Valid.  Loss=0.5257875\n",
      "'train_loss_bward01_49.csv' saved.\n",
      "'valid_loss_bward01_49.csv' saved.\n",
      "'model04_backward01_49_best.pth' saved.\n",
      "- train minibatches = 1\n",
      "- valid minibatches = 1\n",
      "- test minibatches = 1\n"
     ]
    },
    {
     "data": {
      "application/vnd.jupyter.widget-view+json": {
       "model_id": "6115597c69d64f448e02f31cf61ed23c",
       "version_major": 2,
       "version_minor": 0
      },
      "text/plain": [
       "Epochs loop:   0%|          | 0/20000 [00:00<?, ?it/s]"
      ]
     },
     "metadata": {},
     "output_type": "display_data"
    },
    {
     "name": "stdout",
     "output_type": "stream",
     "text": [
      "Summary:\n",
      "-learning rate = 0.00292\n",
      "-Model saved after iteration 16005.\n",
      "-Train.  Loss=0.3199374\n",
      "-Valid.  Loss=0.6521706\n",
      "'train_loss_bward01_50.csv' saved.\n",
      "'valid_loss_bward01_50.csv' saved.\n",
      "'model04_backward01_50_best.pth' saved.\n",
      "- train minibatches = 1\n",
      "- valid minibatches = 1\n",
      "- test minibatches = 1\n"
     ]
    },
    {
     "data": {
      "application/vnd.jupyter.widget-view+json": {
       "model_id": "d826c2d5bb6149a39b43827bf6698a17",
       "version_major": 2,
       "version_minor": 0
      },
      "text/plain": [
       "Epochs loop:   0%|          | 0/20000 [00:00<?, ?it/s]"
      ]
     },
     "metadata": {},
     "output_type": "display_data"
    },
    {
     "name": "stdout",
     "output_type": "stream",
     "text": [
      "Summary:\n",
      "-learning rate = 0.00292\n",
      "-Model saved after iteration 14457.\n",
      "-Train.  Loss=0.3618623\n",
      "-Valid.  Loss=0.4431726\n",
      "'train_loss_bward01_51.csv' saved.\n",
      "'valid_loss_bward01_51.csv' saved.\n",
      "'model04_backward01_51_best.pth' saved.\n",
      "- train minibatches = 1\n",
      "- valid minibatches = 1\n",
      "- test minibatches = 1\n"
     ]
    },
    {
     "data": {
      "application/vnd.jupyter.widget-view+json": {
       "model_id": "599ef7f8d38a46769057a711c1433654",
       "version_major": 2,
       "version_minor": 0
      },
      "text/plain": [
       "Epochs loop:   0%|          | 0/20000 [00:00<?, ?it/s]"
      ]
     },
     "metadata": {},
     "output_type": "display_data"
    },
    {
     "name": "stdout",
     "output_type": "stream",
     "text": [
      "Summary:\n",
      "-learning rate = 0.00292\n",
      "-Model saved after iteration 17989.\n",
      "-Train.  Loss=0.3797339\n",
      "-Valid.  Loss=0.4767939\n",
      "'train_loss_bward01_52.csv' saved.\n",
      "'valid_loss_bward01_52.csv' saved.\n",
      "'model04_backward01_52_best.pth' saved.\n",
      "- train minibatches = 1\n",
      "- valid minibatches = 1\n",
      "- test minibatches = 1\n"
     ]
    },
    {
     "data": {
      "application/vnd.jupyter.widget-view+json": {
       "model_id": "3e6343d839d7421e8235a76796719bd2",
       "version_major": 2,
       "version_minor": 0
      },
      "text/plain": [
       "Epochs loop:   0%|          | 0/20000 [00:00<?, ?it/s]"
      ]
     },
     "metadata": {},
     "output_type": "display_data"
    },
    {
     "name": "stdout",
     "output_type": "stream",
     "text": [
      "Summary:\n",
      "-learning rate = 0.00292\n",
      "-Model saved after iteration 18322.\n",
      "-Train.  Loss=0.3284178\n",
      "-Valid.  Loss=0.5746553\n",
      "'train_loss_bward01_53.csv' saved.\n",
      "'valid_loss_bward01_53.csv' saved.\n",
      "'model04_backward01_53_best.pth' saved.\n",
      "- train minibatches = 1\n",
      "- valid minibatches = 1\n",
      "- test minibatches = 1\n"
     ]
    },
    {
     "data": {
      "application/vnd.jupyter.widget-view+json": {
       "model_id": "b984dade4936439db774046525243a65",
       "version_major": 2,
       "version_minor": 0
      },
      "text/plain": [
       "Epochs loop:   0%|          | 0/20000 [00:00<?, ?it/s]"
      ]
     },
     "metadata": {},
     "output_type": "display_data"
    },
    {
     "name": "stdout",
     "output_type": "stream",
     "text": [
      "Summary:\n",
      "-learning rate = 0.00292\n",
      "-Model saved after iteration 16191.\n",
      "-Train.  Loss=0.3074343\n",
      "-Valid.  Loss=0.4387043\n",
      "'train_loss_bward01_54.csv' saved.\n",
      "'valid_loss_bward01_54.csv' saved.\n",
      "'model04_backward01_54_best.pth' saved.\n",
      "- train minibatches = 1\n",
      "- valid minibatches = 1\n",
      "- test minibatches = 1\n"
     ]
    },
    {
     "data": {
      "application/vnd.jupyter.widget-view+json": {
       "model_id": "2483ac9e6b7e434cad3a40ee39cea85e",
       "version_major": 2,
       "version_minor": 0
      },
      "text/plain": [
       "Epochs loop:   0%|          | 0/20000 [00:00<?, ?it/s]"
      ]
     },
     "metadata": {},
     "output_type": "display_data"
    },
    {
     "name": "stdout",
     "output_type": "stream",
     "text": [
      "Summary:\n",
      "-learning rate = 0.00292\n",
      "-Model saved after iteration 13638.\n",
      "-Train.  Loss=0.3441080\n",
      "-Valid.  Loss=0.3841244\n",
      "'train_loss_bward01_55.csv' saved.\n",
      "'valid_loss_bward01_55.csv' saved.\n",
      "'model04_backward01_55_best.pth' saved.\n",
      "- train minibatches = 1\n",
      "- valid minibatches = 1\n",
      "- test minibatches = 1\n"
     ]
    },
    {
     "data": {
      "application/vnd.jupyter.widget-view+json": {
       "model_id": "891ffd504d98440f9b2e94098da91c3a",
       "version_major": 2,
       "version_minor": 0
      },
      "text/plain": [
       "Epochs loop:   0%|          | 0/20000 [00:00<?, ?it/s]"
      ]
     },
     "metadata": {},
     "output_type": "display_data"
    },
    {
     "name": "stdout",
     "output_type": "stream",
     "text": [
      "Summary:\n",
      "-learning rate = 0.00292\n",
      "-Model saved after iteration 18081.\n",
      "-Train.  Loss=0.3991594\n",
      "-Valid.  Loss=0.4453876\n",
      "'train_loss_bward01_56.csv' saved.\n",
      "'valid_loss_bward01_56.csv' saved.\n",
      "'model04_backward01_56_best.pth' saved.\n",
      "- train minibatches = 1\n",
      "- valid minibatches = 1\n",
      "- test minibatches = 1\n"
     ]
    },
    {
     "data": {
      "application/vnd.jupyter.widget-view+json": {
       "model_id": "b38b5314dc9740afaace526d2180469e",
       "version_major": 2,
       "version_minor": 0
      },
      "text/plain": [
       "Epochs loop:   0%|          | 0/20000 [00:00<?, ?it/s]"
      ]
     },
     "metadata": {},
     "output_type": "display_data"
    },
    {
     "name": "stdout",
     "output_type": "stream",
     "text": [
      "Summary:\n",
      "-learning rate = 0.00292\n",
      "-Model saved after iteration 17937.\n",
      "-Train.  Loss=0.3470530\n",
      "-Valid.  Loss=0.6414396\n",
      "'train_loss_bward01_57.csv' saved.\n",
      "'valid_loss_bward01_57.csv' saved.\n",
      "'model04_backward01_57_best.pth' saved.\n",
      "- train minibatches = 1\n",
      "- valid minibatches = 1\n",
      "- test minibatches = 1\n"
     ]
    },
    {
     "data": {
      "application/vnd.jupyter.widget-view+json": {
       "model_id": "6e8b5c06053c449b8ec4e3ace253d886",
       "version_major": 2,
       "version_minor": 0
      },
      "text/plain": [
       "Epochs loop:   0%|          | 0/20000 [00:00<?, ?it/s]"
      ]
     },
     "metadata": {},
     "output_type": "display_data"
    },
    {
     "name": "stdout",
     "output_type": "stream",
     "text": [
      "Summary:\n",
      "-learning rate = 0.00292\n",
      "-Model saved after iteration 15526.\n",
      "-Train.  Loss=0.3398733\n",
      "-Valid.  Loss=0.3443294\n",
      "'train_loss_bward01_58.csv' saved.\n",
      "'valid_loss_bward01_58.csv' saved.\n",
      "'model04_backward01_58_best.pth' saved.\n",
      "- train minibatches = 1\n",
      "- valid minibatches = 1\n",
      "- test minibatches = 1\n"
     ]
    },
    {
     "data": {
      "application/vnd.jupyter.widget-view+json": {
       "model_id": "481c51e134884862be997071d0f3894c",
       "version_major": 2,
       "version_minor": 0
      },
      "text/plain": [
       "Epochs loop:   0%|          | 0/20000 [00:00<?, ?it/s]"
      ]
     },
     "metadata": {},
     "output_type": "display_data"
    },
    {
     "name": "stdout",
     "output_type": "stream",
     "text": [
      "Summary:\n",
      "-learning rate = 0.00292\n",
      "-Model saved after iteration 16905.\n",
      "-Train.  Loss=0.3507385\n",
      "-Valid.  Loss=0.4324520\n",
      "'train_loss_bward01_59.csv' saved.\n",
      "'valid_loss_bward01_59.csv' saved.\n",
      "'model04_backward01_59_best.pth' saved.\n",
      "- train minibatches = 1\n",
      "- valid minibatches = 1\n",
      "- test minibatches = 1\n"
     ]
    },
    {
     "data": {
      "application/vnd.jupyter.widget-view+json": {
       "model_id": "8d42d4d19a2c43b784b823ae64975ea1",
       "version_major": 2,
       "version_minor": 0
      },
      "text/plain": [
       "Epochs loop:   0%|          | 0/20000 [00:00<?, ?it/s]"
      ]
     },
     "metadata": {},
     "output_type": "display_data"
    },
    {
     "name": "stdout",
     "output_type": "stream",
     "text": [
      "Summary:\n",
      "-learning rate = 0.00292\n",
      "-Model saved after iteration 17314.\n",
      "-Train.  Loss=0.3644603\n",
      "-Valid.  Loss=0.3559734\n",
      "'train_loss_bward01_60.csv' saved.\n",
      "'valid_loss_bward01_60.csv' saved.\n",
      "'model04_backward01_60_best.pth' saved.\n",
      "- train minibatches = 1\n",
      "- valid minibatches = 1\n",
      "- test minibatches = 1\n"
     ]
    },
    {
     "data": {
      "application/vnd.jupyter.widget-view+json": {
       "model_id": "dd66e6b49aae4664a44bb2876c21b371",
       "version_major": 2,
       "version_minor": 0
      },
      "text/plain": [
       "Epochs loop:   0%|          | 0/20000 [00:00<?, ?it/s]"
      ]
     },
     "metadata": {},
     "output_type": "display_data"
    },
    {
     "name": "stdout",
     "output_type": "stream",
     "text": [
      "Summary:\n",
      "-learning rate = 0.00292\n",
      "-Model saved after iteration 18043.\n",
      "-Train.  Loss=0.3904071\n",
      "-Valid.  Loss=0.3806808\n",
      "'train_loss_bward01_61.csv' saved.\n",
      "'valid_loss_bward01_61.csv' saved.\n",
      "'model04_backward01_61_best.pth' saved.\n",
      "- train minibatches = 1\n",
      "- valid minibatches = 1\n",
      "- test minibatches = 1\n"
     ]
    },
    {
     "data": {
      "application/vnd.jupyter.widget-view+json": {
       "model_id": "caee63b7c19a42959e4c2bc752700e6a",
       "version_major": 2,
       "version_minor": 0
      },
      "text/plain": [
       "Epochs loop:   0%|          | 0/20000 [00:00<?, ?it/s]"
      ]
     },
     "metadata": {},
     "output_type": "display_data"
    },
    {
     "name": "stdout",
     "output_type": "stream",
     "text": [
      "Summary:\n",
      "-learning rate = 0.00292\n",
      "-Model saved after iteration 18144.\n",
      "-Train.  Loss=0.3932351\n",
      "-Valid.  Loss=0.3011556\n",
      "'train_loss_bward01_62.csv' saved.\n",
      "'valid_loss_bward01_62.csv' saved.\n",
      "'model04_backward01_62_best.pth' saved.\n",
      "- train minibatches = 1\n",
      "- valid minibatches = 1\n",
      "- test minibatches = 1\n"
     ]
    },
    {
     "data": {
      "application/vnd.jupyter.widget-view+json": {
       "model_id": "813c4d2109ea4f749db7f513352043e7",
       "version_major": 2,
       "version_minor": 0
      },
      "text/plain": [
       "Epochs loop:   0%|          | 0/20000 [00:00<?, ?it/s]"
      ]
     },
     "metadata": {},
     "output_type": "display_data"
    },
    {
     "name": "stdout",
     "output_type": "stream",
     "text": [
      "Summary:\n",
      "-learning rate = 0.00292\n",
      "-Model saved after iteration 17114.\n",
      "-Train.  Loss=0.3295081\n",
      "-Valid.  Loss=0.5369054\n",
      "'train_loss_bward01_63.csv' saved.\n",
      "'valid_loss_bward01_63.csv' saved.\n",
      "'model04_backward01_63_best.pth' saved.\n",
      "- train minibatches = 1\n",
      "- valid minibatches = 1\n",
      "- test minibatches = 1\n"
     ]
    },
    {
     "data": {
      "application/vnd.jupyter.widget-view+json": {
       "model_id": "63fe85aae442456289a59f475e51b72c",
       "version_major": 2,
       "version_minor": 0
      },
      "text/plain": [
       "Epochs loop:   0%|          | 0/20000 [00:00<?, ?it/s]"
      ]
     },
     "metadata": {},
     "output_type": "display_data"
    },
    {
     "name": "stdout",
     "output_type": "stream",
     "text": [
      "Summary:\n",
      "-learning rate = 0.00292\n",
      "-Model saved after iteration 18512.\n",
      "-Train.  Loss=0.3973384\n",
      "-Valid.  Loss=0.4199759\n",
      "'train_loss_bward01_64.csv' saved.\n",
      "'valid_loss_bward01_64.csv' saved.\n",
      "'model04_backward01_64_best.pth' saved.\n",
      "- train minibatches = 1\n",
      "- valid minibatches = 1\n",
      "- test minibatches = 1\n"
     ]
    },
    {
     "data": {
      "application/vnd.jupyter.widget-view+json": {
       "model_id": "22f2ffe7bc2645ae8384e642a5660617",
       "version_major": 2,
       "version_minor": 0
      },
      "text/plain": [
       "Epochs loop:   0%|          | 0/20000 [00:00<?, ?it/s]"
      ]
     },
     "metadata": {},
     "output_type": "display_data"
    },
    {
     "name": "stdout",
     "output_type": "stream",
     "text": [
      "Summary:\n",
      "-learning rate = 0.00292\n",
      "-Model saved after iteration 16492.\n",
      "-Train.  Loss=0.3564255\n",
      "-Valid.  Loss=0.3527425\n",
      "'train_loss_bward01_65.csv' saved.\n",
      "'valid_loss_bward01_65.csv' saved.\n",
      "'model04_backward01_65_best.pth' saved.\n",
      "- train minibatches = 1\n",
      "- valid minibatches = 1\n",
      "- test minibatches = 1\n"
     ]
    },
    {
     "data": {
      "application/vnd.jupyter.widget-view+json": {
       "model_id": "beacb9cb48db4a2b9c9432ad33c0bd3c",
       "version_major": 2,
       "version_minor": 0
      },
      "text/plain": [
       "Epochs loop:   0%|          | 0/20000 [00:00<?, ?it/s]"
      ]
     },
     "metadata": {},
     "output_type": "display_data"
    },
    {
     "name": "stdout",
     "output_type": "stream",
     "text": [
      "Summary:\n",
      "-learning rate = 0.00292\n",
      "-Model saved after iteration 18258.\n",
      "-Train.  Loss=0.3613703\n",
      "-Valid.  Loss=0.3145668\n",
      "'train_loss_bward01_66.csv' saved.\n",
      "'valid_loss_bward01_66.csv' saved.\n",
      "'model04_backward01_66_best.pth' saved.\n",
      "- train minibatches = 1\n",
      "- valid minibatches = 1\n",
      "- test minibatches = 1\n"
     ]
    },
    {
     "data": {
      "application/vnd.jupyter.widget-view+json": {
       "model_id": "c8a3eaab157847f2b19ffb090f2c401f",
       "version_major": 2,
       "version_minor": 0
      },
      "text/plain": [
       "Epochs loop:   0%|          | 0/20000 [00:00<?, ?it/s]"
      ]
     },
     "metadata": {},
     "output_type": "display_data"
    },
    {
     "name": "stdout",
     "output_type": "stream",
     "text": [
      "Summary:\n",
      "-learning rate = 0.00292\n",
      "-Model saved after iteration 17443.\n",
      "-Train.  Loss=0.3655080\n",
      "-Valid.  Loss=0.4904608\n",
      "'train_loss_bward01_67.csv' saved.\n",
      "'valid_loss_bward01_67.csv' saved.\n",
      "'model04_backward01_67_best.pth' saved.\n",
      "- train minibatches = 1\n",
      "- valid minibatches = 1\n",
      "- test minibatches = 1\n"
     ]
    },
    {
     "data": {
      "application/vnd.jupyter.widget-view+json": {
       "model_id": "a1e651a780cd47e9bd5856f3c0c800e4",
       "version_major": 2,
       "version_minor": 0
      },
      "text/plain": [
       "Epochs loop:   0%|          | 0/20000 [00:00<?, ?it/s]"
      ]
     },
     "metadata": {},
     "output_type": "display_data"
    },
    {
     "name": "stdout",
     "output_type": "stream",
     "text": [
      "Summary:\n",
      "-learning rate = 0.00292\n",
      "-Model saved after iteration 15325.\n",
      "-Train.  Loss=0.3530141\n",
      "-Valid.  Loss=0.4403774\n",
      "'train_loss_bward01_68.csv' saved.\n",
      "'valid_loss_bward01_68.csv' saved.\n",
      "'model04_backward01_68_best.pth' saved.\n",
      "- train minibatches = 1\n",
      "- valid minibatches = 1\n",
      "- test minibatches = 1\n"
     ]
    },
    {
     "data": {
      "application/vnd.jupyter.widget-view+json": {
       "model_id": "7ebd1c2e961d42a0b3a7e492da0676f2",
       "version_major": 2,
       "version_minor": 0
      },
      "text/plain": [
       "Epochs loop:   0%|          | 0/20000 [00:00<?, ?it/s]"
      ]
     },
     "metadata": {},
     "output_type": "display_data"
    },
    {
     "name": "stdout",
     "output_type": "stream",
     "text": [
      "Summary:\n",
      "-learning rate = 0.00292\n",
      "-Model saved after iteration 17985.\n",
      "-Train.  Loss=0.4088953\n",
      "-Valid.  Loss=0.3191088\n",
      "'train_loss_bward01_69.csv' saved.\n",
      "'valid_loss_bward01_69.csv' saved.\n",
      "'model04_backward01_69_best.pth' saved.\n",
      "- train minibatches = 1\n",
      "- valid minibatches = 1\n",
      "- test minibatches = 1\n"
     ]
    },
    {
     "data": {
      "application/vnd.jupyter.widget-view+json": {
       "model_id": "350cb093dab74f2289077fcf0f880794",
       "version_major": 2,
       "version_minor": 0
      },
      "text/plain": [
       "Epochs loop:   0%|          | 0/20000 [00:00<?, ?it/s]"
      ]
     },
     "metadata": {},
     "output_type": "display_data"
    },
    {
     "name": "stdout",
     "output_type": "stream",
     "text": [
      "Summary:\n",
      "-learning rate = 0.00292\n",
      "-Model saved after iteration 16522.\n",
      "-Train.  Loss=0.3825571\n",
      "-Valid.  Loss=0.3595477\n",
      "'train_loss_bward01_70.csv' saved.\n",
      "'valid_loss_bward01_70.csv' saved.\n",
      "'model04_backward01_70_best.pth' saved.\n",
      "- train minibatches = 1\n",
      "- valid minibatches = 1\n",
      "- test minibatches = 1\n"
     ]
    },
    {
     "data": {
      "application/vnd.jupyter.widget-view+json": {
       "model_id": "7580d93795d146688ff945149a5363b5",
       "version_major": 2,
       "version_minor": 0
      },
      "text/plain": [
       "Epochs loop:   0%|          | 0/20000 [00:00<?, ?it/s]"
      ]
     },
     "metadata": {},
     "output_type": "display_data"
    },
    {
     "name": "stdout",
     "output_type": "stream",
     "text": [
      "Summary:\n",
      "-learning rate = 0.00292\n",
      "-Model saved after iteration 17526.\n",
      "-Train.  Loss=0.4001226\n",
      "-Valid.  Loss=0.2949295\n",
      "'train_loss_bward01_71.csv' saved.\n",
      "'valid_loss_bward01_71.csv' saved.\n",
      "'model04_backward01_71_best.pth' saved.\n",
      "- train minibatches = 1\n",
      "- valid minibatches = 1\n",
      "- test minibatches = 1\n"
     ]
    },
    {
     "data": {
      "application/vnd.jupyter.widget-view+json": {
       "model_id": "686bbe45db0547f3b54a74baf616e6ad",
       "version_major": 2,
       "version_minor": 0
      },
      "text/plain": [
       "Epochs loop:   0%|          | 0/20000 [00:00<?, ?it/s]"
      ]
     },
     "metadata": {},
     "output_type": "display_data"
    },
    {
     "name": "stdout",
     "output_type": "stream",
     "text": [
      "Summary:\n",
      "-learning rate = 0.00292\n",
      "-Model saved after iteration 18468.\n",
      "-Train.  Loss=0.3564170\n",
      "-Valid.  Loss=0.5849240\n",
      "'train_loss_bward01_72.csv' saved.\n",
      "'valid_loss_bward01_72.csv' saved.\n",
      "'model04_backward01_72_best.pth' saved.\n",
      "- train minibatches = 1\n",
      "- valid minibatches = 1\n",
      "- test minibatches = 1\n"
     ]
    },
    {
     "data": {
      "application/vnd.jupyter.widget-view+json": {
       "model_id": "1ee72cc612ef4927ba14385a70cf21e5",
       "version_major": 2,
       "version_minor": 0
      },
      "text/plain": [
       "Epochs loop:   0%|          | 0/20000 [00:00<?, ?it/s]"
      ]
     },
     "metadata": {},
     "output_type": "display_data"
    },
    {
     "name": "stdout",
     "output_type": "stream",
     "text": [
      "Summary:\n",
      "-learning rate = 0.00292\n",
      "-Model saved after iteration 18035.\n",
      "-Train.  Loss=0.3887851\n",
      "-Valid.  Loss=0.4746680\n",
      "'train_loss_bward01_73.csv' saved.\n",
      "'valid_loss_bward01_73.csv' saved.\n",
      "'model04_backward01_73_best.pth' saved.\n",
      "- train minibatches = 1\n",
      "- valid minibatches = 1\n",
      "- test minibatches = 1\n"
     ]
    },
    {
     "data": {
      "application/vnd.jupyter.widget-view+json": {
       "model_id": "4cb013da354f462e9055066762358cd1",
       "version_major": 2,
       "version_minor": 0
      },
      "text/plain": [
       "Epochs loop:   0%|          | 0/20000 [00:00<?, ?it/s]"
      ]
     },
     "metadata": {},
     "output_type": "display_data"
    },
    {
     "name": "stdout",
     "output_type": "stream",
     "text": [
      "Summary:\n",
      "-learning rate = 0.00292\n",
      "-Model saved after iteration 17935.\n",
      "-Train.  Loss=0.3933192\n",
      "-Valid.  Loss=0.4321929\n",
      "'train_loss_bward01_74.csv' saved.\n",
      "'valid_loss_bward01_74.csv' saved.\n",
      "'model04_backward01_74_best.pth' saved.\n",
      "- train minibatches = 1\n",
      "- valid minibatches = 1\n",
      "- test minibatches = 1\n"
     ]
    },
    {
     "data": {
      "application/vnd.jupyter.widget-view+json": {
       "model_id": "474445d49d7349c98288b1350d5e70b2",
       "version_major": 2,
       "version_minor": 0
      },
      "text/plain": [
       "Epochs loop:   0%|          | 0/20000 [00:00<?, ?it/s]"
      ]
     },
     "metadata": {},
     "output_type": "display_data"
    },
    {
     "name": "stdout",
     "output_type": "stream",
     "text": [
      "Summary:\n",
      "-learning rate = 0.00292\n",
      "-Model saved after iteration 18370.\n",
      "-Train.  Loss=0.3874156\n",
      "-Valid.  Loss=0.3564674\n",
      "'train_loss_bward01_75.csv' saved.\n",
      "'valid_loss_bward01_75.csv' saved.\n",
      "'model04_backward01_75_best.pth' saved.\n",
      "- train minibatches = 1\n",
      "- valid minibatches = 1\n",
      "- test minibatches = 1\n"
     ]
    },
    {
     "data": {
      "application/vnd.jupyter.widget-view+json": {
       "model_id": "2346d98f52ad40769a9a65036da32736",
       "version_major": 2,
       "version_minor": 0
      },
      "text/plain": [
       "Epochs loop:   0%|          | 0/20000 [00:00<?, ?it/s]"
      ]
     },
     "metadata": {},
     "output_type": "display_data"
    },
    {
     "name": "stdout",
     "output_type": "stream",
     "text": [
      "Summary:\n",
      "-learning rate = 0.00292\n",
      "-Model saved after iteration 15444.\n",
      "-Train.  Loss=0.3510745\n",
      "-Valid.  Loss=0.3558512\n",
      "'train_loss_bward01_76.csv' saved.\n",
      "'valid_loss_bward01_76.csv' saved.\n",
      "'model04_backward01_76_best.pth' saved.\n",
      "- train minibatches = 1\n",
      "- valid minibatches = 1\n",
      "- test minibatches = 1\n"
     ]
    },
    {
     "data": {
      "application/vnd.jupyter.widget-view+json": {
       "model_id": "88b8bf895cbe4cb899f511e40b548591",
       "version_major": 2,
       "version_minor": 0
      },
      "text/plain": [
       "Epochs loop:   0%|          | 0/20000 [00:00<?, ?it/s]"
      ]
     },
     "metadata": {},
     "output_type": "display_data"
    },
    {
     "name": "stdout",
     "output_type": "stream",
     "text": [
      "Summary:\n",
      "-learning rate = 0.00292\n",
      "-Model saved after iteration 18689.\n",
      "-Train.  Loss=0.3798324\n",
      "-Valid.  Loss=0.4486802\n",
      "'train_loss_bward01_77.csv' saved.\n",
      "'valid_loss_bward01_77.csv' saved.\n",
      "'model04_backward01_77_best.pth' saved.\n",
      "- train minibatches = 1\n",
      "- valid minibatches = 1\n",
      "- test minibatches = 1\n"
     ]
    },
    {
     "data": {
      "application/vnd.jupyter.widget-view+json": {
       "model_id": "82d9ff0076ea4e4393681198992ad9d1",
       "version_major": 2,
       "version_minor": 0
      },
      "text/plain": [
       "Epochs loop:   0%|          | 0/20000 [00:00<?, ?it/s]"
      ]
     },
     "metadata": {},
     "output_type": "display_data"
    },
    {
     "name": "stdout",
     "output_type": "stream",
     "text": [
      "Summary:\n",
      "-learning rate = 0.00292\n",
      "-Model saved after iteration 16038.\n",
      "-Train.  Loss=0.2906872\n",
      "-Valid.  Loss=0.5692363\n",
      "'train_loss_bward01_78.csv' saved.\n",
      "'valid_loss_bward01_78.csv' saved.\n",
      "'model04_backward01_78_best.pth' saved.\n",
      "- train minibatches = 1\n",
      "- valid minibatches = 1\n",
      "- test minibatches = 1\n"
     ]
    },
    {
     "data": {
      "application/vnd.jupyter.widget-view+json": {
       "model_id": "7816bd82219e4a879e9746203938ee73",
       "version_major": 2,
       "version_minor": 0
      },
      "text/plain": [
       "Epochs loop:   0%|          | 0/20000 [00:00<?, ?it/s]"
      ]
     },
     "metadata": {},
     "output_type": "display_data"
    },
    {
     "name": "stdout",
     "output_type": "stream",
     "text": [
      "Summary:\n",
      "-learning rate = 0.00292\n",
      "-Model saved after iteration 16743.\n",
      "-Train.  Loss=0.3840927\n",
      "-Valid.  Loss=0.2926696\n",
      "'train_loss_bward01_79.csv' saved.\n",
      "'valid_loss_bward01_79.csv' saved.\n",
      "'model04_backward01_79_best.pth' saved.\n",
      "- train minibatches = 1\n",
      "- valid minibatches = 1\n",
      "- test minibatches = 1\n"
     ]
    },
    {
     "data": {
      "application/vnd.jupyter.widget-view+json": {
       "model_id": "66b4336d881b475ab6c41cc75c126cc4",
       "version_major": 2,
       "version_minor": 0
      },
      "text/plain": [
       "Epochs loop:   0%|          | 0/20000 [00:00<?, ?it/s]"
      ]
     },
     "metadata": {},
     "output_type": "display_data"
    },
    {
     "name": "stdout",
     "output_type": "stream",
     "text": [
      "Summary:\n",
      "-learning rate = 0.00292\n",
      "-Model saved after iteration 18915.\n",
      "-Train.  Loss=0.4298593\n",
      "-Valid.  Loss=0.3547124\n",
      "'train_loss_bward01_80.csv' saved.\n",
      "'valid_loss_bward01_80.csv' saved.\n",
      "'model04_backward01_80_best.pth' saved.\n",
      "- train minibatches = 1\n",
      "- valid minibatches = 1\n",
      "- test minibatches = 1\n"
     ]
    },
    {
     "data": {
      "application/vnd.jupyter.widget-view+json": {
       "model_id": "382e9d95e4d744c48bd525f4fa109dc7",
       "version_major": 2,
       "version_minor": 0
      },
      "text/plain": [
       "Epochs loop:   0%|          | 0/20000 [00:00<?, ?it/s]"
      ]
     },
     "metadata": {},
     "output_type": "display_data"
    },
    {
     "name": "stdout",
     "output_type": "stream",
     "text": [
      "Summary:\n",
      "-learning rate = 0.00292\n",
      "-Model saved after iteration 19062.\n",
      "-Train.  Loss=0.4374874\n",
      "-Valid.  Loss=0.3619789\n",
      "'train_loss_bward01_81.csv' saved.\n",
      "'valid_loss_bward01_81.csv' saved.\n",
      "'model04_backward01_81_best.pth' saved.\n",
      "- train minibatches = 1\n",
      "- valid minibatches = 1\n",
      "- test minibatches = 1\n"
     ]
    },
    {
     "data": {
      "application/vnd.jupyter.widget-view+json": {
       "model_id": "aac0b9ca1ca54e7fb8c19c561c932773",
       "version_major": 2,
       "version_minor": 0
      },
      "text/plain": [
       "Epochs loop:   0%|          | 0/20000 [00:00<?, ?it/s]"
      ]
     },
     "metadata": {},
     "output_type": "display_data"
    },
    {
     "name": "stdout",
     "output_type": "stream",
     "text": [
      "Summary:\n",
      "-learning rate = 0.00292\n",
      "-Model saved after iteration 17892.\n",
      "-Train.  Loss=0.3596869\n",
      "-Valid.  Loss=0.5467451\n",
      "'train_loss_bward01_82.csv' saved.\n",
      "'valid_loss_bward01_82.csv' saved.\n",
      "'model04_backward01_82_best.pth' saved.\n",
      "- train minibatches = 1\n",
      "- valid minibatches = 1\n",
      "- test minibatches = 1\n"
     ]
    },
    {
     "data": {
      "application/vnd.jupyter.widget-view+json": {
       "model_id": "cfff0aec93db4311b2811745151287e9",
       "version_major": 2,
       "version_minor": 0
      },
      "text/plain": [
       "Epochs loop:   0%|          | 0/20000 [00:00<?, ?it/s]"
      ]
     },
     "metadata": {},
     "output_type": "display_data"
    },
    {
     "name": "stdout",
     "output_type": "stream",
     "text": [
      "Summary:\n",
      "-learning rate = 0.00292\n",
      "-Model saved after iteration 18405.\n",
      "-Train.  Loss=0.4055795\n",
      "-Valid.  Loss=0.4010067\n",
      "'train_loss_bward01_83.csv' saved.\n",
      "'valid_loss_bward01_83.csv' saved.\n",
      "'model04_backward01_83_best.pth' saved.\n",
      "- train minibatches = 1\n",
      "- valid minibatches = 1\n",
      "- test minibatches = 1\n"
     ]
    },
    {
     "data": {
      "application/vnd.jupyter.widget-view+json": {
       "model_id": "0c31b04b59314485aaad54fe0541cb58",
       "version_major": 2,
       "version_minor": 0
      },
      "text/plain": [
       "Epochs loop:   0%|          | 0/20000 [00:00<?, ?it/s]"
      ]
     },
     "metadata": {},
     "output_type": "display_data"
    },
    {
     "name": "stdout",
     "output_type": "stream",
     "text": [
      "Summary:\n",
      "-learning rate = 0.00292\n",
      "-Model saved after iteration 17448.\n",
      "-Train.  Loss=0.3739847\n",
      "-Valid.  Loss=0.3481149\n",
      "'train_loss_bward01_84.csv' saved.\n",
      "'valid_loss_bward01_84.csv' saved.\n",
      "'model04_backward01_84_best.pth' saved.\n",
      "- train minibatches = 1\n",
      "- valid minibatches = 1\n",
      "- test minibatches = 1\n"
     ]
    },
    {
     "data": {
      "application/vnd.jupyter.widget-view+json": {
       "model_id": "9363540a88834cf99b31c2f9d534fe4a",
       "version_major": 2,
       "version_minor": 0
      },
      "text/plain": [
       "Epochs loop:   0%|          | 0/20000 [00:00<?, ?it/s]"
      ]
     },
     "metadata": {},
     "output_type": "display_data"
    },
    {
     "name": "stdout",
     "output_type": "stream",
     "text": [
      "Summary:\n",
      "-learning rate = 0.00292\n",
      "-Model saved after iteration 14685.\n",
      "-Train.  Loss=0.2789105\n",
      "-Valid.  Loss=0.4823475\n",
      "'train_loss_bward01_85.csv' saved.\n",
      "'valid_loss_bward01_85.csv' saved.\n",
      "'model04_backward01_85_best.pth' saved.\n",
      "- train minibatches = 1\n",
      "- valid minibatches = 1\n",
      "- test minibatches = 1\n"
     ]
    },
    {
     "data": {
      "application/vnd.jupyter.widget-view+json": {
       "model_id": "3eb77cfda02a4db9a32e7f9f1f2c7068",
       "version_major": 2,
       "version_minor": 0
      },
      "text/plain": [
       "Epochs loop:   0%|          | 0/20000 [00:00<?, ?it/s]"
      ]
     },
     "metadata": {},
     "output_type": "display_data"
    },
    {
     "name": "stdout",
     "output_type": "stream",
     "text": [
      "Summary:\n",
      "-learning rate = 0.00292\n",
      "-Model saved after iteration 18424.\n",
      "-Train.  Loss=0.3339200\n",
      "-Valid.  Loss=0.7891543\n",
      "'train_loss_bward01_86.csv' saved.\n",
      "'valid_loss_bward01_86.csv' saved.\n",
      "'model04_backward01_86_best.pth' saved.\n",
      "- train minibatches = 1\n",
      "- valid minibatches = 1\n",
      "- test minibatches = 1\n"
     ]
    },
    {
     "data": {
      "application/vnd.jupyter.widget-view+json": {
       "model_id": "eafa621dfa3f42c68d8ef380e6ee53da",
       "version_major": 2,
       "version_minor": 0
      },
      "text/plain": [
       "Epochs loop:   0%|          | 0/20000 [00:00<?, ?it/s]"
      ]
     },
     "metadata": {},
     "output_type": "display_data"
    },
    {
     "name": "stdout",
     "output_type": "stream",
     "text": [
      "Summary:\n",
      "-learning rate = 0.00292\n",
      "-Model saved after iteration 18270.\n",
      "-Train.  Loss=0.3897204\n",
      "-Valid.  Loss=0.3794865\n",
      "'train_loss_bward01_87.csv' saved.\n",
      "'valid_loss_bward01_87.csv' saved.\n",
      "'model04_backward01_87_best.pth' saved.\n",
      "- train minibatches = 1\n",
      "- valid minibatches = 1\n",
      "- test minibatches = 1\n"
     ]
    },
    {
     "data": {
      "application/vnd.jupyter.widget-view+json": {
       "model_id": "d090ab84056f4b69b18c2e27671513f8",
       "version_major": 2,
       "version_minor": 0
      },
      "text/plain": [
       "Epochs loop:   0%|          | 0/20000 [00:00<?, ?it/s]"
      ]
     },
     "metadata": {},
     "output_type": "display_data"
    },
    {
     "name": "stdout",
     "output_type": "stream",
     "text": [
      "Summary:\n",
      "-learning rate = 0.00292\n",
      "-Model saved after iteration 19005.\n",
      "-Train.  Loss=0.4049326\n",
      "-Valid.  Loss=0.5475821\n",
      "'train_loss_bward01_88.csv' saved.\n",
      "'valid_loss_bward01_88.csv' saved.\n",
      "'model04_backward01_88_best.pth' saved.\n",
      "- train minibatches = 1\n",
      "- valid minibatches = 1\n",
      "- test minibatches = 1\n"
     ]
    },
    {
     "data": {
      "application/vnd.jupyter.widget-view+json": {
       "model_id": "f5bd5e86d6614d0a848b0d053eb90226",
       "version_major": 2,
       "version_minor": 0
      },
      "text/plain": [
       "Epochs loop:   0%|          | 0/20000 [00:00<?, ?it/s]"
      ]
     },
     "metadata": {},
     "output_type": "display_data"
    },
    {
     "name": "stdout",
     "output_type": "stream",
     "text": [
      "Summary:\n",
      "-learning rate = 0.00292\n",
      "-Model saved after iteration 17658.\n",
      "-Train.  Loss=0.3701456\n",
      "-Valid.  Loss=0.3215791\n",
      "'train_loss_bward01_89.csv' saved.\n",
      "'valid_loss_bward01_89.csv' saved.\n",
      "'model04_backward01_89_best.pth' saved.\n",
      "- train minibatches = 1\n",
      "- valid minibatches = 1\n",
      "- test minibatches = 1\n"
     ]
    },
    {
     "data": {
      "application/vnd.jupyter.widget-view+json": {
       "model_id": "a05ad46b66984ec1b3b493ceabfed661",
       "version_major": 2,
       "version_minor": 0
      },
      "text/plain": [
       "Epochs loop:   0%|          | 0/20000 [00:00<?, ?it/s]"
      ]
     },
     "metadata": {},
     "output_type": "display_data"
    },
    {
     "name": "stdout",
     "output_type": "stream",
     "text": [
      "Summary:\n",
      "-learning rate = 0.00292\n",
      "-Model saved after iteration 18794.\n",
      "-Train.  Loss=0.3775297\n",
      "-Valid.  Loss=0.6011322\n",
      "'train_loss_bward01_90.csv' saved.\n",
      "'valid_loss_bward01_90.csv' saved.\n",
      "'model04_backward01_90_best.pth' saved.\n",
      "- train minibatches = 1\n",
      "- valid minibatches = 1\n",
      "- test minibatches = 1\n"
     ]
    },
    {
     "data": {
      "application/vnd.jupyter.widget-view+json": {
       "model_id": "a7dbf5b70ad24f18a527c91843e722bf",
       "version_major": 2,
       "version_minor": 0
      },
      "text/plain": [
       "Epochs loop:   0%|          | 0/20000 [00:00<?, ?it/s]"
      ]
     },
     "metadata": {},
     "output_type": "display_data"
    },
    {
     "name": "stdout",
     "output_type": "stream",
     "text": [
      "Summary:\n",
      "-learning rate = 0.00292\n",
      "-Model saved after iteration 16391.\n",
      "-Train.  Loss=0.2718206\n",
      "-Valid.  Loss=0.6355741\n",
      "'train_loss_bward01_91.csv' saved.\n",
      "'valid_loss_bward01_91.csv' saved.\n",
      "'model04_backward01_91_best.pth' saved.\n",
      "- train minibatches = 1\n",
      "- valid minibatches = 1\n",
      "- test minibatches = 1\n"
     ]
    },
    {
     "data": {
      "application/vnd.jupyter.widget-view+json": {
       "model_id": "c92744739bb44f7c991b1eb7bb0b7663",
       "version_major": 2,
       "version_minor": 0
      },
      "text/plain": [
       "Epochs loop:   0%|          | 0/20000 [00:00<?, ?it/s]"
      ]
     },
     "metadata": {},
     "output_type": "display_data"
    },
    {
     "name": "stdout",
     "output_type": "stream",
     "text": [
      "Summary:\n",
      "-learning rate = 0.00292\n",
      "-Model saved after iteration 18409.\n",
      "-Train.  Loss=0.3519405\n",
      "-Valid.  Loss=0.5785123\n",
      "'train_loss_bward01_92.csv' saved.\n",
      "'valid_loss_bward01_92.csv' saved.\n",
      "'model04_backward01_92_best.pth' saved.\n",
      "- train minibatches = 1\n",
      "- valid minibatches = 1\n",
      "- test minibatches = 1\n"
     ]
    },
    {
     "data": {
      "application/vnd.jupyter.widget-view+json": {
       "model_id": "055143061a41407e97b19375e1f1d81c",
       "version_major": 2,
       "version_minor": 0
      },
      "text/plain": [
       "Epochs loop:   0%|          | 0/20000 [00:00<?, ?it/s]"
      ]
     },
     "metadata": {},
     "output_type": "display_data"
    },
    {
     "name": "stdout",
     "output_type": "stream",
     "text": [
      "Summary:\n",
      "-learning rate = 0.00292\n",
      "-Model saved after iteration 16588.\n",
      "-Train.  Loss=0.3514224\n",
      "-Valid.  Loss=0.5239312\n",
      "'train_loss_bward01_93.csv' saved.\n",
      "'valid_loss_bward01_93.csv' saved.\n",
      "'model04_backward01_93_best.pth' saved.\n",
      "- train minibatches = 1\n",
      "- valid minibatches = 1\n",
      "- test minibatches = 1\n"
     ]
    },
    {
     "data": {
      "application/vnd.jupyter.widget-view+json": {
       "model_id": "9f07bf2b31df45438c0011e7c4e019fd",
       "version_major": 2,
       "version_minor": 0
      },
      "text/plain": [
       "Epochs loop:   0%|          | 0/20000 [00:00<?, ?it/s]"
      ]
     },
     "metadata": {},
     "output_type": "display_data"
    },
    {
     "name": "stdout",
     "output_type": "stream",
     "text": [
      "Summary:\n",
      "-learning rate = 0.00292\n",
      "-Model saved after iteration 15494.\n",
      "-Train.  Loss=0.3479992\n",
      "-Valid.  Loss=0.4511891\n",
      "'train_loss_bward01_94.csv' saved.\n",
      "'valid_loss_bward01_94.csv' saved.\n",
      "'model04_backward01_94_best.pth' saved.\n",
      "- train minibatches = 1\n",
      "- valid minibatches = 1\n",
      "- test minibatches = 1\n"
     ]
    },
    {
     "data": {
      "application/vnd.jupyter.widget-view+json": {
       "model_id": "444ac5bab8e94e38b11c4d5983d6e0e1",
       "version_major": 2,
       "version_minor": 0
      },
      "text/plain": [
       "Epochs loop:   0%|          | 0/20000 [00:00<?, ?it/s]"
      ]
     },
     "metadata": {},
     "output_type": "display_data"
    },
    {
     "name": "stdout",
     "output_type": "stream",
     "text": [
      "Summary:\n",
      "-learning rate = 0.00292\n",
      "-Model saved after iteration 17762.\n",
      "-Train.  Loss=0.3838687\n",
      "-Valid.  Loss=0.3884405\n",
      "'train_loss_bward01_95.csv' saved.\n",
      "'valid_loss_bward01_95.csv' saved.\n",
      "'model04_backward01_95_best.pth' saved.\n",
      "- train minibatches = 1\n",
      "- valid minibatches = 1\n",
      "- test minibatches = 1\n"
     ]
    },
    {
     "data": {
      "application/vnd.jupyter.widget-view+json": {
       "model_id": "bee4b05ce7e146f7bcf2f00741a8a924",
       "version_major": 2,
       "version_minor": 0
      },
      "text/plain": [
       "Epochs loop:   0%|          | 0/20000 [00:00<?, ?it/s]"
      ]
     },
     "metadata": {},
     "output_type": "display_data"
    },
    {
     "name": "stdout",
     "output_type": "stream",
     "text": [
      "Summary:\n",
      "-learning rate = 0.00292\n",
      "-Model saved after iteration 17628.\n",
      "-Train.  Loss=0.3361453\n",
      "-Valid.  Loss=0.6430487\n",
      "'train_loss_bward01_96.csv' saved.\n",
      "'valid_loss_bward01_96.csv' saved.\n",
      "'model04_backward01_96_best.pth' saved.\n",
      "- train minibatches = 1\n",
      "- valid minibatches = 1\n",
      "- test minibatches = 1\n"
     ]
    },
    {
     "data": {
      "application/vnd.jupyter.widget-view+json": {
       "model_id": "37d88598ca564fc18e5c38d37b206739",
       "version_major": 2,
       "version_minor": 0
      },
      "text/plain": [
       "Epochs loop:   0%|          | 0/20000 [00:00<?, ?it/s]"
      ]
     },
     "metadata": {},
     "output_type": "display_data"
    },
    {
     "name": "stdout",
     "output_type": "stream",
     "text": [
      "Summary:\n",
      "-learning rate = 0.00292\n",
      "-Model saved after iteration 19092.\n",
      "-Train.  Loss=0.4532498\n",
      "-Valid.  Loss=0.2999870\n",
      "'train_loss_bward01_97.csv' saved.\n",
      "'valid_loss_bward01_97.csv' saved.\n",
      "'model04_backward01_97_best.pth' saved.\n",
      "- train minibatches = 1\n",
      "- valid minibatches = 1\n",
      "- test minibatches = 1\n"
     ]
    },
    {
     "data": {
      "application/vnd.jupyter.widget-view+json": {
       "model_id": "8089ff08378f4cd6bfd3c9b229883a28",
       "version_major": 2,
       "version_minor": 0
      },
      "text/plain": [
       "Epochs loop:   0%|          | 0/20000 [00:00<?, ?it/s]"
      ]
     },
     "metadata": {},
     "output_type": "display_data"
    },
    {
     "name": "stdout",
     "output_type": "stream",
     "text": [
      "Summary:\n",
      "-learning rate = 0.00292\n",
      "-Model saved after iteration 18510.\n",
      "-Train.  Loss=0.3840601\n",
      "-Valid.  Loss=0.4652030\n",
      "'train_loss_bward01_98.csv' saved.\n",
      "'valid_loss_bward01_98.csv' saved.\n",
      "'model04_backward01_98_best.pth' saved.\n",
      "- train minibatches = 1\n",
      "- valid minibatches = 1\n",
      "- test minibatches = 1\n"
     ]
    },
    {
     "data": {
      "application/vnd.jupyter.widget-view+json": {
       "model_id": "ebb367fa0d8040989e961455e0ae7cb4",
       "version_major": 2,
       "version_minor": 0
      },
      "text/plain": [
       "Epochs loop:   0%|          | 0/20000 [00:00<?, ?it/s]"
      ]
     },
     "metadata": {},
     "output_type": "display_data"
    },
    {
     "name": "stdout",
     "output_type": "stream",
     "text": [
      "Summary:\n",
      "-learning rate = 0.00292\n",
      "-Model saved after iteration 16955.\n",
      "-Train.  Loss=0.3001714\n",
      "-Valid.  Loss=0.6445792\n",
      "'train_loss_bward01_99.csv' saved.\n",
      "'valid_loss_bward01_99.csv' saved.\n",
      "'model04_backward01_99_best.pth' saved.\n",
      "- train minibatches = 1\n",
      "- valid minibatches = 1\n",
      "- test minibatches = 1\n"
     ]
    },
    {
     "data": {
      "application/vnd.jupyter.widget-view+json": {
       "model_id": "a3680f99021b4357b0dba7188b1cca9a",
       "version_major": 2,
       "version_minor": 0
      },
      "text/plain": [
       "Epochs loop:   0%|          | 0/20000 [00:00<?, ?it/s]"
      ]
     },
     "metadata": {},
     "output_type": "display_data"
    },
    {
     "name": "stdout",
     "output_type": "stream",
     "text": [
      "Summary:\n",
      "-learning rate = 0.00292\n",
      "-Model saved after iteration 15936.\n",
      "-Train.  Loss=0.3113348\n",
      "-Valid.  Loss=0.3490721\n",
      "'train_loss_bward01_100.csv' saved.\n",
      "'valid_loss_bward01_100.csv' saved.\n",
      "'model04_backward01_100_best.pth' saved.\n"
     ]
    }
   ],
   "source": [
    "# Find Accuracy, Loss +/- STD (Lockdown: path 2)\n",
    "data_output = 'data_lockdown_04CrimeUnnormalized'\n",
    "df_results = pd.DataFrame(columns=['train_mse', 'valid_mse', 'test_mse', \\\n",
    "                                   'train_r2', 'valid_r2', 'test_r2'])\n",
    "# df_results = pd.read_csv(os.path.join(data_output, 'accuracy_forward01.csv'), index_col=0)\n",
    "\n",
    "partitions = 100\n",
    "iterator = tqdm.notebook.tqdm(range(1, partitions + 1), desc='Partitions loop')\n",
    "for n in iterator:\n",
    "    X = pd.read_csv('dataset_04CrimeUnnormalized/X1.csv')\n",
    "    y = pd.read_csv('dataset_04CrimeUnnormalized/y1.csv')\n",
    "    split_data(X, y, seed1=seed1[n], seed2=seed2[n])\n",
    "\n",
    "# .normalize data sets\n",
    "    df_to_tensor()\n",
    "    normalize_data()\n",
    "    make_DataLoaders()\n",
    "\n",
    "# .train model (forward)\n",
    "    lr = best_lr_bward\n",
    "    layer_sizes = [5, 1]\n",
    "    epochs = 20000\n",
    "    lock_flag = True\n",
    "    features = xtrain.size(1)\n",
    "    step = 1\n",
    "    data_out = \"data_lockdown_04CrimeUnnormalized/partitions\"\n",
    "    model_forward_name = 'data_unconstrained_04CrimeUnnormalized/partitions/model04_forward01_'+str(n)+'_last.pth'\n",
    "    fname = 'model04_backward01_'+str(n)\n",
    "    train_loss, valid_loss = train_model(\n",
    "                             lr, \n",
    "                             features, \n",
    "                             layer_sizes,\n",
    "                             lock_flag = lock_flag,\n",
    "                             epochs = epochs,\n",
    "                             early_stop = epochs, \n",
    "                             fname = fname)\n",
    "# .save relevant data\n",
    "    f3 = [fname+'_best.pth']\n",
    "    save_output(data_out, \n",
    "                'train_loss_bward01_'+str(n)+'.csv', \n",
    "                'valid_loss_bward01_'+str(n)+'.csv', f3)\n",
    "\n",
    "# .find MSE, R2, etc...\n",
    "    mm = MyNet(features, layer_sizes)\n",
    "    mm.load_state_dict(torch.load(os.path.join(data_out, fname+'_best.pth')))\n",
    "    mm = mm.to(device)\n",
    "    mm.eval()\n",
    "    \n",
    "    ypred = mm(xtrain)\n",
    "    mse = mean_squared_error(ytrain.detach().numpy().ravel(), ypred.detach().numpy().ravel(), squared=True)\n",
    "    r2 = r2_score(ytrain.detach().numpy().ravel(), ypred.detach().numpy().ravel())\n",
    "    df_results.loc[n, 'train_mse'] = mse\n",
    "    df_results.loc[n, 'train_r2']  = r2\n",
    "\n",
    "    ypred = mm(xvalid)\n",
    "    mse = mean_squared_error(yvalid.detach().numpy().ravel(), ypred.detach().numpy().ravel(), squared=True)\n",
    "    r2 = r2_score(yvalid.detach().numpy().ravel(), ypred.detach().numpy().ravel())\n",
    "    df_results.loc[n, 'valid_mse'] = mse\n",
    "    df_results.loc[n, 'valid_r2']  = r2\n",
    "\n",
    "    ypred = mm(xtest)\n",
    "    mse = mean_squared_error(ytest.detach().numpy().ravel(), ypred.detach().numpy().ravel(), squared=True)\n",
    "    r2 = r2_score(ytest.detach().numpy().ravel(), ypred.detach().numpy().ravel())\n",
    "    df_results.loc[n, 'test_mse'] = mse\n",
    "    df_results.loc[n, 'test_r2']  = r2\n",
    "\n",
    "    df_results.to_csv(os.path.join(data_out, 'accuracy04_backward01.csv'), index=True)"
   ]
  },
  {
   "cell_type": "code",
   "execution_count": 24,
   "metadata": {
    "ExecuteTime": {
     "end_time": "2021-03-02T17:45:02.181889Z",
     "start_time": "2021-03-02T17:45:02.173053Z"
    },
    "code_folding": [
     0
    ]
   },
   "outputs": [
    {
     "name": "stdout",
     "output_type": "stream",
     "text": [
      "Train mse = 0.36202 +/- 0.03746\n",
      "Valid mse = 0.45391 +/- 0.11682\n",
      "Test mse = 0.44830 +/- 0.10628\n",
      "\n",
      "Train r2 = 0.63798 +/- 0.03746\n",
      "Valid r2 = 0.54953 +/- 0.06163\n",
      "Test r2 = 0.55450 +/- 0.05818\n"
     ]
    }
   ],
   "source": [
    "# Display results\n",
    "data_out = 'data_lockdown_04CrimeUnnormalized'\n",
    "accuracy = pd.read_csv(os.path.join(data_out, 'accuracy04_backward01.csv'))\n",
    "print(\"Train mse = {:.5f} +/- {:.5f}\".format(accuracy['train_mse'].mean(), \n",
    "                                             accuracy['train_mse'].std()))\n",
    "print(\"Valid mse = {:.5f} +/- {:.5f}\".format(accuracy['valid_mse'].mean(), \n",
    "                                             accuracy['valid_mse'].std()))\n",
    "print(\"Test mse = {:.5f} +/- {:.5f}\".format(accuracy['test_mse'].mean(), \n",
    "                                            accuracy['test_mse'].std()))\n",
    "\n",
    "print(\"\")\n",
    "print(\"Train r2 = {:.5f} +/- {:.5f}\".format(accuracy['train_r2'].mean(), \n",
    "                                            accuracy['train_r2'].std()))\n",
    "print(\"Valid r2 = {:.5f} +/- {:.5f}\".format(accuracy['valid_r2'].mean(), \n",
    "                                            accuracy['valid_r2'].std()))\n",
    "print(\"Test r2 = {:.5f} +/- {:.5f}\".format(accuracy['test_r2'].mean(), \n",
    "                                           accuracy['test_r2'].std()))"
   ]
  },
  {
   "cell_type": "code",
   "execution_count": 37,
   "metadata": {
    "ExecuteTime": {
     "end_time": "2021-02-09T04:18:34.784671Z",
     "start_time": "2021-02-09T04:18:34.481939Z"
    },
    "code_folding": [
     0
    ]
   },
   "outputs": [
    {
     "data": {
      "image/png": "[encoded data removed]",
      "text/plain": [
       "<Figure size 1440x576 with 2 Axes>"
      ]
     },
     "metadata": {
      "needs_background": "light"
     },
     "output_type": "display_data"
    }
   ],
   "source": [
    "# Plot unconstrained + lockdown loss vs iteration\n",
    "fig, axes = plt.subplots(nrows=1, ncols=2, figsize=(20,8))\n",
    "\n",
    "train_loss1 = pd.read_csv('data_unconstrained_04CrimeUnnormalized/train_loss01.csv')\n",
    "valid_loss1 = pd.read_csv('data_unconstrained_04CrimeUnnormalized/valid_loss01.csv')\n",
    "\n",
    "axes[0].set_ylim(0, 1.1)\n",
    "axes[0].set_xlim(0, 30000)\n",
    "axes[0].plot(train_loss1[\"iteration\"].tolist(), train_loss1[\"loss\"].tolist(), label=\"Train\", linewidth=3)\n",
    "axes[0].plot(valid_loss1[\"iteration\"].tolist(), valid_loss1[\"loss\"].tolist(), label=\"Valid\", linewidth=3)\n",
    "axes[0].legend()\n",
    "axes[0].set_xlabel(\"iteration\")\n",
    "axes[0].set_ylabel(\"Loss\")\n",
    "axes[0].set_title(\"Unconstrained: Residential Building. Best valid loss = {:.5f}\".format(valid_loss1[\"loss\"].min()))\n",
    "axes[0].grid(True, zorder=2)\n",
    "\n",
    "train_loss2 = pd.read_csv('data_lockdown_04CrimeUnnormalized/train_loss01.csv')\n",
    "valid_loss2 = pd.read_csv('data_lockdown_04CrimeUnnormalized/valid_loss01.csv')\n",
    "\n",
    "axes[1].set_ylim(0, 1.1)\n",
    "axes[1].set_xlim(0, 20000)\n",
    "axes[1].plot(train_loss2[\"iteration\"].tolist(), train_loss2[\"loss\"].tolist(), label=\"Train\", linewidth=3, zorder=5)\n",
    "axes[1].plot(valid_loss2[\"iteration\"].tolist(), valid_loss2[\"loss\"].tolist(), label=\"Valid\", linewidth=3, zorder=6)\n",
    "axes[1].legend()\n",
    "axes[1].set_xlabel(\"iteration\")\n",
    "axes[1].set_title(\"Lockdown: Residential Building. Best valid loss = {:.5f}\".format(valid_loss2[\"loss\"].min()))\n",
    "axes[1].grid(True, zorder=2)\n",
    "\n",
    "plt.tight_layout()\n",
    "# plt.savefig(\"data_lockdown_05ResidentialBuilding/loss_vs_iter.pdf\", bbox_inches='tight')\n",
    "plt.show()"
   ]
  },
  {
   "cell_type": "markdown",
   "metadata": {},
   "source": [
    "### Comparison"
   ]
  },
  {
   "cell_type": "markdown",
   "metadata": {},
   "source": [
    "#### Target 1"
   ]
  },
  {
   "cell_type": "code",
   "execution_count": 2,
   "metadata": {
    "ExecuteTime": {
     "end_time": "2021-06-18T18:44:38.604878Z",
     "start_time": "2021-06-18T18:44:38.590851Z"
    },
    "code_folding": []
   },
   "outputs": [],
   "source": [
    "# Read distributions\n",
    "accuracy_lockdown01 = pd.read_csv('data_lockdown_04CrimeUnnormalized/accuracy04_backward01.csv', index_col=0)\n",
    "accuracy_forward01  = pd.read_csv('data_unconstrained_04CrimeUnnormalized/accuracy04_forward01.csv', index_col=0)\n",
    "accuracy_xgb01      = pd.read_csv('data_xgb_04CrimeUnnormalized/accuracy04_xgb01.csv')\n",
    "accuracy_lasso01    = pd.read_csv('data_lasso_04CrimeUnnormalized/accuracy04_lasso01_val.csv', index_col=0)"
   ]
  },
  {
   "cell_type": "code",
   "execution_count": 30,
   "metadata": {
    "ExecuteTime": {
     "end_time": "2021-03-02T17:55:24.706478Z",
     "start_time": "2021-03-02T17:55:24.699585Z"
    },
    "code_folding": [
     0
    ]
   },
   "outputs": [
    {
     "name": "stdout",
     "output_type": "stream",
     "text": [
      "R2 on 'test' set:\n",
      "Lockdown = 0.5545 +/- 0.058\n",
      "Forward  = 0.5319 +/- 0.060\n",
      "xgboost  = 0.5248 +/- 0.054\n",
      "Lasso    = 0.5323 +/- 0.068\n",
      "\n",
      "R2 on 'validation' set:\n",
      "Lockdown = 0.5495 +/- 0.062\n",
      "Forward  = 0.5285 +/- 0.065\n",
      "xgboost  = 0.5143 +/- 0.061\n",
      "Lasso    = 0.5186 +/- 0.064\n"
     ]
    }
   ],
   "source": [
    "# R2 & MSE\n",
    "print(\"R2 on 'test' set:\")\n",
    "print(\"Lockdown = {:.4f} +/- {:.3f}\".format(accuracy_lockdown01['test_r2'].mean(), \n",
    "                                            accuracy_lockdown01['test_r2'].std()))\n",
    "print(\"Forward  = {:.4f} +/- {:.3f}\".format(accuracy_forward01['test_r2'].mean(), \n",
    "                                            accuracy_forward01['test_r2'].std()))\n",
    "print(\"xgboost  = {:.4f} +/- {:.3f}\".format(accuracy_xgb01['test_r2'].mean(), \n",
    "                                            accuracy_xgb01['test_r2'].std()))\n",
    "print(\"Lasso    = {:.4f} +/- {:.3f}\".format(accuracy_lasso01['test_r2'].mean(), \n",
    "                                            accuracy_lasso01['test_r2'].std()))\n",
    "\n",
    "print(\"\\nR2 on 'validation' set:\")\n",
    "print(\"Lockdown = {:.4f} +/- {:.3f}\".format(accuracy_lockdown01['valid_r2'].mean(), \n",
    "                                            accuracy_lockdown01['valid_r2'].std()))\n",
    "print(\"Forward  = {:.4f} +/- {:.3f}\".format(accuracy_forward01['valid_r2'].mean(), \n",
    "                                            accuracy_forward01['valid_r2'].std()))\n",
    "print(\"xgboost  = {:.4f} +/- {:.3f}\".format(accuracy_xgb01['valid_r2'].mean(), \n",
    "                                            accuracy_xgb01['valid_r2'].std()))\n",
    "print(\"Lasso    = {:.4f} +/- {:.3f}\".format(accuracy_lasso01['valid_r2'].mean(), \n",
    "                                            accuracy_lasso01['valid_r2'].std()))"
   ]
  },
  {
   "cell_type": "code",
   "execution_count": 31,
   "metadata": {
    "ExecuteTime": {
     "end_time": "2021-03-02T17:55:52.941008Z",
     "start_time": "2021-03-02T17:55:52.935070Z"
    },
    "code_folding": [
     0
    ]
   },
   "outputs": [
    {
     "name": "stdout",
     "output_type": "stream",
     "text": [
      "On 'test' set:\n",
      "Lockdown vs Forward: pvalue=3.417819e-18, statistic=1.069112e+01\n",
      "Lockdown vs xgboost: pvalue=1.687974e-21, statistic=1.222631e+01\n",
      "Lockdown vs lasso:   pvalue=1.293794e-11, statistic=7.656906e+00\n",
      "\n",
      "On 'validation' set:\n",
      "Lockdown vs Forward: pvalue=5.193508e-15, statistic=9.231409e+00\n",
      "Lockdown vs xgboost: pvalue=3.098680e-29, statistic=1.601483e+01\n",
      "Lockdown vs lasso:   pvalue=2.865630e-30, statistic=1.655065e+01\n"
     ]
    }
   ],
   "source": [
    "# Print out test results\n",
    "print(\"On 'test' set:\")\n",
    "statistic, pvalue = stats.ttest_rel(accuracy_lockdown01['test_r2'], accuracy_forward01['test_r2'])\n",
    "print(\"Lockdown vs Forward: pvalue={:e}, statistic={:e}\".format(pvalue, statistic))\n",
    "\n",
    "statistic, pvalue = stats.ttest_rel(accuracy_lockdown01['test_r2'], accuracy_xgb01['test_r2'])\n",
    "print(\"Lockdown vs xgboost: pvalue={:e}, statistic={:e}\".format(pvalue, statistic))\n",
    "\n",
    "statistic, pvalue = stats.ttest_rel(accuracy_lockdown01['test_r2'], accuracy_lasso01['test_r2'])\n",
    "print(\"Lockdown vs lasso:   pvalue={:e}, statistic={:e}\".format(pvalue, statistic))\n",
    "\n",
    "# \n",
    "print(\"\\nOn 'validation' set:\")\n",
    "statistic, pvalue = stats.ttest_rel(accuracy_lockdown01['valid_r2'], accuracy_forward01['valid_r2'])\n",
    "print(\"Lockdown vs Forward: pvalue={:e}, statistic={:e}\".format(pvalue, statistic))\n",
    "\n",
    "statistic, pvalue = stats.ttest_rel(accuracy_lockdown01['valid_r2'], accuracy_xgb01['valid_r2'])\n",
    "print(\"Lockdown vs xgboost: pvalue={:e}, statistic={:e}\".format(pvalue, statistic))\n",
    "\n",
    "statistic, pvalue = stats.ttest_rel(accuracy_lockdown01['valid_r2'], accuracy_lasso01['valid_r2'])\n",
    "print(\"Lockdown vs lasso:   pvalue={:e}, statistic={:e}\".format(pvalue, statistic))"
   ]
  },
  {
   "cell_type": "code",
   "execution_count": 23,
   "metadata": {
    "ExecuteTime": {
     "end_time": "2021-06-18T19:00:33.855618Z",
     "start_time": "2021-06-18T19:00:33.847543Z"
    },
    "code_folding": [
     0
    ]
   },
   "outputs": [
    {
     "name": "stdout",
     "output_type": "stream",
     "text": [
      "Lasso   = 0.682 +/- 0.049\n",
      "GB      = 0.688 +/- 0.039\n",
      "FCNN    = 0.683 +/- 0.043\n",
      "Lockout = 0.666 +/- 0.043\n",
      "\n",
      "On 'test' set:\n",
      "Lockdown vs Forward: pvalue=1.45e-18, statistic=-1.09e+01\n",
      "Lockdown vs xgboost: pvalue=1.94e-21, statistic=-1.22e+01\n",
      "Lockdown vs lasso:   pvalue=1.48e-12, statistic=-8.10e+00\n"
     ]
    }
   ],
   "source": [
    "# Relative Root Mean Squared Error\n",
    "rrmse_lasso = np.sqrt(1.0 - accuracy_lasso01['test_r2'])\n",
    "print(\"Lasso   = {:.3f} +/- {:.3f}\".format(rrmse_lasso.mean(), rrmse_lasso.std()))\n",
    "\n",
    "rrmse_GB = np.sqrt(1.0 - accuracy_xgb01['test_r2'])\n",
    "print(\"GB      = {:.3f} +/- {:.3f}\".format(rrmse_GB.mean(), rrmse_GB.std()))\n",
    "\n",
    "rrmse_fcnn = np.sqrt(1.0 - accuracy_forward01['test_r2'])\n",
    "print(\"FCNN    = {:.3f} +/- {:.3f}\".format(rrmse_fcnn.mean(), rrmse_fcnn.std()))\n",
    "\n",
    "rrmse_lockout = np.sqrt(1.0 - accuracy_lockdown01['test_r2'])\n",
    "print(\"Lockout = {:.3f} +/- {:.3f}\".format(rrmse_lockout.mean(), rrmse_lockout.std()))\n",
    "\n",
    "# Print out test results\n",
    "print(\"\\nOn 'test' set:\")\n",
    "statistic, pvalue = stats.ttest_rel(rrmse_lockout, rrmse_fcnn)\n",
    "print(\"Lockdown vs Forward: pvalue={:.2e}, statistic={:.2e}\".format(pvalue, statistic))\n",
    "\n",
    "statistic, pvalue = stats.ttest_rel(rrmse_lockout, rrmse_GB)\n",
    "print(\"Lockdown vs xgboost: pvalue={:.2e}, statistic={:.2e}\".format(pvalue, statistic))\n",
    "\n",
    "statistic, pvalue = stats.ttest_rel(rrmse_lockout, rrmse_lasso)\n",
    "print(\"Lockdown vs lasso:   pvalue={:.2e}, statistic={:.2e}\".format(pvalue, statistic))"
   ]
  }
 ],
 "metadata": {
  "kernelspec": {
   "display_name": "Python 3",
   "language": "python",
   "name": "python3"
  },
  "language_info": {
   "codemirror_mode": {
    "name": "ipython",
    "version": 3
   },
   "file_extension": ".py",
   "mimetype": "text/x-python",
   "name": "python",
   "nbconvert_exporter": "python",
   "pygments_lexer": "ipython3",
   "version": "3.8.3"
  },
  "toc": {
   "base_numbering": 1,
   "nav_menu": {},
   "number_sections": true,
   "sideBar": true,
   "skip_h1_title": true,
   "title_cell": "Table of Contents",
   "title_sidebar": "Contents",
   "toc_cell": false,
   "toc_position": {
    "height": "calc(100% - 180px)",
    "left": "10px",
    "top": "150px",
    "width": "393.2px"
   },
   "toc_section_display": true,
   "toc_window_display": true
  }
 },
 "nbformat": 4,
 "nbformat_minor": 2
}
