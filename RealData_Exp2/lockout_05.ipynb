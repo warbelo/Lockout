{
 "cells": [
  {
   "cell_type": "markdown",
   "metadata": {},
   "source": [
    "# Lockout  for Regression: Residential Building Data Set\n",
    "Author: Wilmer Arbelo Gonzalez"
   ]
  },
  {
   "cell_type": "markdown",
   "metadata": {},
   "source": [
    "## Import all necessary libraries"
   ]
  },
  {
   "cell_type": "code",
   "execution_count": 1,
   "metadata": {
    "ExecuteTime": {
     "end_time": "2021-06-18T19:57:09.422913Z",
     "start_time": "2021-06-18T19:57:07.915993Z"
    },
    "code_folding": [
     0
    ]
   },
   "outputs": [],
   "source": [
    "# Import libraries and modules\n",
    "import numpy as np\n",
    "import pandas as pd\n",
    "\n",
    "import xgboost as xgb\n",
    "\n",
    "from sklearn.metrics import r2_score, classification_report, confusion_matrix,           \\\n",
    "                            roc_curve, roc_auc_score, plot_confusion_matrix, f1_score,   \\\n",
    "                            balanced_accuracy_score, accuracy_score, mean_squared_error, \\\n",
    "                            log_loss\n",
    "from sklearn.datasets import make_friedman1\n",
    "from sklearn.model_selection import train_test_split, GridSearchCV\n",
    "from sklearn.linear_model import LogisticRegression, LinearRegression, SGDClassifier,    \\\n",
    "                                 Lasso, lasso_path\n",
    "from sklearn.preprocessing import StandardScaler, LabelBinarizer\n",
    "from sklearn.impute import SimpleImputer\n",
    "from sklearn.pipeline import Pipeline\n",
    "from sklearn_pandas import DataFrameMapper\n",
    "\n",
    "import scipy\n",
    "from scipy import stats\n",
    "\n",
    "import os\n",
    "import sys\n",
    "import shutil\n",
    "from pathlib import Path\n",
    "\n",
    "import matplotlib as mpl\n",
    "import matplotlib.pyplot as plt\n",
    "import matplotlib.cm as cm\n",
    "\n",
    "import albumentations as A\n",
    "from albumentations.pytorch import ToTensorV2\n",
    "import cv2\n",
    "import itertools\n",
    "\n",
    "import time\n",
    "import tqdm\n",
    "import copy\n",
    "\n",
    "import torch\n",
    "import torchvision\n",
    "import torchvision.transforms as transforms\n",
    "import torch.nn as nn\n",
    "import torch.nn.functional as F\n",
    "import torch.optim as optim\n",
    "import torchvision.models as models\n",
    "from torch.utils.data import Dataset\n",
    "\n",
    "import PIL\n",
    "import joblib\n",
    "import json\n",
    "\n",
    "# import mysgd"
   ]
  },
  {
   "cell_type": "markdown",
   "metadata": {},
   "source": [
    "## Datasets and DataLoaders"
   ]
  },
  {
   "cell_type": "code",
   "execution_count": 2,
   "metadata": {
    "ExecuteTime": {
     "end_time": "2021-02-09T04:31:58.559700Z",
     "start_time": "2021-02-09T04:31:58.552951Z"
    },
    "code_folding": [
     0
    ]
   },
   "outputs": [],
   "source": [
    "# Load data\n",
    "def load_data(fname):\n",
    "    \"\"\"\n",
    "    input (str or path): name of the folder with the data.\n",
    "    This function reads the data, transforms it to tensors, and makes it\n",
    "    global.\n",
    "    \"\"\"\n",
    "    global xtrain, xvalid, xtest, xtrain_valid, ytrain, yvalid, ytest, ytrain_valid\n",
    "# \n",
    "    df = pd.read_csv(os.path.join(fname, 'xtrain.csv'), index_col=False)\n",
    "    xtrain = torch.tensor(df.values).float()\n",
    "    df = pd.read_csv(os.path.join(fname, 'xvalid.csv'), index_col=False)\n",
    "    xvalid = torch.tensor(df.values).float()\n",
    "    df = pd.read_csv(os.path.join(fname, 'xtest.csv'), index_col=False)\n",
    "    xtest = torch.tensor(df.values).float()\n",
    "    df = pd.read_csv(os.path.join(fname, 'xtrain_valid.csv'), index_col=False)\n",
    "    xtrain_valid = torch.tensor(df.values).float()\n",
    "# \n",
    "    df = pd.read_csv(os.path.join(fname, 'ytrain.csv'), index_col=False)\n",
    "    ytrain = torch.tensor(df.values).float()\n",
    "    df = pd.read_csv(os.path.join(fname, 'yvalid.csv'), index_col=False)\n",
    "    yvalid = torch.tensor(df.values).float()\n",
    "    df = pd.read_csv(os.path.join(fname, 'ytest.csv'), index_col=False)\n",
    "    ytest = torch.tensor(df.values).float()\n",
    "    df = pd.read_csv(os.path.join(fname, 'ytrain_valid.csv'), index_col=False)\n",
    "    ytrain_valid = torch.tensor(df.values).float()\n"
   ]
  },
  {
   "cell_type": "code",
   "execution_count": 3,
   "metadata": {
    "ExecuteTime": {
     "end_time": "2021-02-09T04:32:01.583422Z",
     "start_time": "2021-02-09T04:32:01.580047Z"
    },
    "code_folding": [
     0
    ]
   },
   "outputs": [],
   "source": [
    "# Transform DataFrame to Tensor\n",
    "def df_to_tensor():\n",
    "    \"\"\"\n",
    "    This function transforms DataFrames to tensors and makes them global.\n",
    "    \"\"\"\n",
    "    global xtrain, xvalid, xtest, ytrain, yvalid, ytest\n",
    "# \n",
    "    xtrain = torch.tensor(xtrain.values).float()\n",
    "    xvalid = torch.tensor(xvalid.values).float()\n",
    "    xtest = torch.tensor(xtest.values).float()\n",
    "# \n",
    "    ytrain = torch.tensor(ytrain.values).float()\n",
    "    yvalid = torch.tensor(yvalid.values).float()\n",
    "    ytest = torch.tensor(ytest.values).float()"
   ]
  },
  {
   "cell_type": "markdown",
   "metadata": {},
   "source": [
    "### Read and Clean Data"
   ]
  },
  {
   "cell_type": "code",
   "execution_count": 5,
   "metadata": {
    "ExecuteTime": {
     "end_time": "2021-06-18T20:20:54.345833Z",
     "start_time": "2021-06-18T20:20:53.218222Z"
    },
    "code_folding": [
     0
    ]
   },
   "outputs": [
    {
     "name": "stdout",
     "output_type": "stream",
     "text": [
      "- Categorical:\n",
      "[] \n",
      "\n",
      "- Continuous:\n",
      "['v1', 'v2', 'v3', 'v4', 'v5', 'v6', 'v7', 'v8', 'v11', 'v12', 'v13', 'v14', 'v15', 'v16', 'v17', 'v18', 'v19', 'v20', 'v21', 'v22', 'v23', 'v24', 'v25', 'v26', 'v27', 'v28', 'v29', 'v11_1', 'v12_1', 'v13_1', 'v14_1', 'v15_1', 'v16_1', 'v17_1', 'v18_1', 'v19_1', 'v20_1', 'v21_1', 'v22_1', 'v23_1', 'v24_1', 'v25_1', 'v26_1', 'v27_1', 'v28_1', 'v29_1', 'v11_2', 'v12_2', 'v13_2', 'v14_2', 'v15_2', 'v16_2', 'v17_2', 'v18_2', 'v19_2', 'v20_2', 'v21_2', 'v22_2', 'v23_2', 'v24_2', 'v25_2', 'v26_2', 'v27_2', 'v28_2', 'v29_2', 'v11_3', 'v12_3', 'v13_3', 'v14_3', 'v15_3', 'v16_3', 'v17_3', 'v18_3', 'v19_3', 'v20_3', 'v21_3', 'v22_3', 'v23_3', 'v24_3', 'v25_3', 'v26_3', 'v27_3', 'v28_3', 'v29_3', 'v11_4', 'v12_4', 'v13_4', 'v14_4', 'v15_4', 'v16_4', 'v17_4', 'v18_4', 'v19_4', 'v20_4', 'v21_4', 'v22_4', 'v23_4', 'v24_4', 'v25_4', 'v26_4', 'v27_4', 'v28_4', 'v29_4'] \n",
      "\n",
      "- Target: ['v9', 'v10'] \n",
      "\n",
      "- Dataset size: 372 points\n",
      "\n",
      "- Missing values: 0 points\n",
      "\n"
     ]
    }
   ],
   "source": [
    "# DATASET INFO:\n",
    "# Totally 105: \n",
    "# - 8 project physical and financial variables, \n",
    "# - 19 economic variables \n",
    "# - indices in 5 time lag numbers (5*19 = 95)\n",
    "# - two output variables that are construction costs and sale prices\n",
    "\n",
    "# Read Datasets\n",
    "df = pd.read_excel('dataset_05ResidentialBuilding/Residential_Building_Data_Set.xlsx', \n",
    "                   sheet_name = 'Data',\n",
    "                   engine = 'openpyxl',\n",
    "                   skiprows = 1)\n",
    "# Clean Datasets\n",
    "df.drop(columns=['START YEAR', 'START QUARTER', 'COMPLETION YEAR', 'COMPLETION QUARTER'],\n",
    "        inplace=True)\n",
    "\n",
    "# .change column names\n",
    "cols = df.columns.tolist()\n",
    "for i in range(len(cols)):\n",
    "    cols[i] = cols[i].lower()\n",
    "    cols[i] = cols[i].replace('-', '_')\n",
    "    cols[i] = cols[i].replace('.', '_')\n",
    "    cols[i] = cols[i].strip()\n",
    "    cols[i] = cols[i][:1] + cols[i][2:]\n",
    "df.columns = cols\n",
    "\n",
    "# .most of the cleaning\n",
    "cols_cat = []\n",
    "cols_num = []\n",
    "target = ['v9', 'v10']\n",
    "for col in cols:\n",
    "    if df.dtypes[col] == \"object\":\n",
    "        df[col] = df[col].str.lower()\n",
    "        df[col] = df[col].str.replace('-', '_')\n",
    "        df[col] = df[col].str.replace('&', '_')\n",
    "        df[col] = df[col].str.strip()\n",
    "        df[col] = df[col].replace('?', np.nan)\n",
    "        df[col] = df[col].astype(\"category\")\n",
    "        if col not in target:\n",
    "            cols_cat.append(col)\n",
    "    else:\n",
    "        df[col] = df[col].astype(float)\n",
    "        if col not in target:\n",
    "            cols_num.append(col)\n",
    "\n",
    "print('- Categorical:')\n",
    "print(cols_cat, '\\n')\n",
    "print('- Continuous:')\n",
    "print(cols_num, '\\n')\n",
    "print('- Target:', target, '\\n')\n",
    "\n",
    "print(\"- Dataset size: {} points\\n\".format(len(df)))\n",
    "print(\"- Missing values: {} points\\n\".format(df.isna().sum().sum()))"
   ]
  },
  {
   "cell_type": "markdown",
   "metadata": {},
   "source": [
    "### Split and Save"
   ]
  },
  {
   "cell_type": "code",
   "execution_count": 6,
   "metadata": {
    "ExecuteTime": {
     "end_time": "2021-06-18T20:21:01.503773Z",
     "start_time": "2021-06-18T20:21:01.498603Z"
    },
    "code_folding": []
   },
   "outputs": [],
   "source": [
    "# # Random seeds for the splits\n",
    "# seed1 = torch.randint(0, 1000, (500,))\n",
    "# seed2 = torch.randint(1001, 2000, (500,))\n",
    "seed1 = pd.read_csv('seed1.csv', header=None).iloc[:,0].tolist()\n",
    "seed2 = pd.read_csv('seed2.csv', header=None).iloc[:,0].tolist()"
   ]
  },
  {
   "cell_type": "code",
   "execution_count": 7,
   "metadata": {
    "ExecuteTime": {
     "end_time": "2021-06-18T20:21:03.086791Z",
     "start_time": "2021-06-18T20:21:03.084518Z"
    },
    "code_folding": [
     0
    ]
   },
   "outputs": [],
   "source": [
    "# Split data (function)\n",
    "def split_data(dfX, dfy, seed1=0, seed2=42):\n",
    "    global xtrain, xvalid, xtest, xtrain_valid, ytrain, yvalid, ytest, ytrain_valid\n",
    "    xtrain_valid, xtest, ytrain_valid, ytest = train_test_split(dfX, dfy, \n",
    "                                                      test_size=0.2, \n",
    "                                                      random_state=seed1)\n",
    "    xtrain, xvalid, ytrain, yvalid = train_test_split(xtrain_valid, ytrain_valid, \n",
    "                                                      test_size=0.25, \n",
    "                                                      random_state=seed2)"
   ]
  },
  {
   "cell_type": "code",
   "execution_count": 8,
   "metadata": {
    "ExecuteTime": {
     "end_time": "2021-06-18T20:21:08.825182Z",
     "start_time": "2021-06-18T20:21:08.731917Z"
    },
    "code_folding": [
     0
    ]
   },
   "outputs": [
    {
     "name": "stdout",
     "output_type": "stream",
     "text": [
      "- xtrain size: (222, 103)\n",
      "- xvalid size: (75, 103)\n",
      "- xtest size: (75, 103)\n",
      "- xtrain_valid size: (297, 103)\n"
     ]
    }
   ],
   "source": [
    "# Set (xtrain, ytrain), (xvalid, yvalid), and (xtest, ytest)\n",
    "data_folder = 'dataset_05ResidentialBuilding'\n",
    "\n",
    "X = df.drop(columns=target)\n",
    "y = df[target]\n",
    "split_data(X, y)\n",
    "\n",
    "# Save data on disk\n",
    "cols_all = xtrain.columns.tolist()\n",
    "\n",
    "xtrain.to_csv(os.path.join(data_folder, 'xtrain.csv'), index=False)\n",
    "xvalid.to_csv(os.path.join(data_folder, 'xvalid.csv'), index=False)\n",
    "xtest.to_csv(os.path.join(data_folder, 'xtest.csv'), index=False)\n",
    "xtrain_valid.to_csv(os.path.join(data_folder, 'xtrain_valid.csv'), index=False)\n",
    "X.to_csv(os.path.join(data_folder, 'X.csv'), index=False)\n",
    "\n",
    "ytrain.to_csv(os.path.join(data_folder, 'ytrain.csv'), index=False)\n",
    "yvalid.to_csv(os.path.join(data_folder, 'yvalid.csv'), index=False)\n",
    "ytest.to_csv(os.path.join(data_folder, 'ytest.csv'), index=False)\n",
    "ytrain_valid.to_csv(os.path.join(data_folder, 'ytrain_valid.csv'), index=False)\n",
    "y.to_csv(os.path.join(data_folder, 'y.csv'), index=False)\n",
    "\n",
    "# \n",
    "print(\"- xtrain size: {}\".format(xtrain.shape))\n",
    "print(\"- xvalid size: {}\".format(xvalid.shape))\n",
    "print(\"- xtest size: {}\".format(xtest.shape))\n",
    "print(\"- xtrain_valid size: {}\".format(xtrain_valid.shape))"
   ]
  },
  {
   "cell_type": "markdown",
   "metadata": {},
   "source": [
    "### Create Datasets and DataLoaders"
   ]
  },
  {
   "cell_type": "code",
   "execution_count": 8,
   "metadata": {
    "ExecuteTime": {
     "end_time": "2021-02-09T04:32:22.887606Z",
     "start_time": "2021-02-09T04:32:22.884132Z"
    },
    "code_folding": [
     0
    ]
   },
   "outputs": [],
   "source": [
    "# Create Dataset class\n",
    "class MyDataset(Dataset):\n",
    "    '''\n",
    "    Input:\n",
    "        xtensor (torch tensor): data points; dimension [# of points, # of features]\n",
    "        ytensor (torch tensor): y values; dimension [# of points]\n",
    "    Output:\n",
    "        the usual...\n",
    "    '''\n",
    "    def __init__(self, xtensor, ytensor):\n",
    "        self.x = xtensor\n",
    "        self.y = ytensor\n",
    "    \n",
    "    def __len__(self):\n",
    "        return len(self.y)\n",
    "\n",
    "    def __getitem__(self, idx):\n",
    "        return self.x[idx,:], self.y[idx], idx"
   ]
  },
  {
   "cell_type": "code",
   "execution_count": 9,
   "metadata": {
    "ExecuteTime": {
     "end_time": "2021-02-09T04:32:24.575665Z",
     "start_time": "2021-02-09T04:32:24.571223Z"
    },
    "code_folding": [
     0
    ]
   },
   "outputs": [],
   "source": [
    "# Instantiate DataLoaders\n",
    "def make_DataLoaders(target_idx=0, batch_size=100000, num_workers = 0):\n",
    "    \"\"\"\n",
    "    This function instantiate and makes global DataLoaders for training, \n",
    "    validation, and testing datasets. \n",
    "    \"\"\"\n",
    "# .create datasets\n",
    "    train_dataset = MyDataset(xtrain, ytrain[:,target_idx])\n",
    "    valid_dataset = MyDataset(xvalid, yvalid[:,target_idx])\n",
    "    test_dataset = MyDataset(xtest, ytest[:,target_idx])\n",
    "    \n",
    "# .make dataloaders global variables\n",
    "    global train_dataloader, valid_dataloader, test_dataloader\n",
    "    train_dataloader = torch.utils.data.DataLoader(train_dataset, \n",
    "                                                   batch_size = batch_size,\n",
    "                                                   shuffle = True, \n",
    "                                                   num_workers=num_workers)\n",
    "    valid_dataloader = torch.utils.data.DataLoader(valid_dataset, \n",
    "                                                   batch_size = batch_size,\n",
    "                                                   shuffle = True, \n",
    "                                                   num_workers=num_workers)\n",
    "    test_dataloader = torch.utils.data.DataLoader(test_dataset, \n",
    "                                                   batch_size = batch_size,\n",
    "                                                   shuffle = False, \n",
    "                                                   num_workers=num_workers)\n",
    "    print('- train minibatches =', len(train_dataloader))\n",
    "    print('- valid minibatches =', len(valid_dataloader))\n",
    "    print('- test minibatches =', len(test_dataloader))"
   ]
  },
  {
   "cell_type": "code",
   "execution_count": 10,
   "metadata": {
    "ExecuteTime": {
     "end_time": "2021-02-09T04:32:26.544384Z",
     "start_time": "2021-02-09T04:32:26.540372Z"
    },
    "code_folding": [
     0
    ],
    "scrolled": true
   },
   "outputs": [
    {
     "name": "stdout",
     "output_type": "stream",
     "text": [
      "-Type of precessor to be used: 'cpu'\n"
     ]
    }
   ],
   "source": [
    "# Select type of processor to be used\n",
    "device = torch.device(\"cuda\" if torch.cuda.is_available() else \"cpu\")\n",
    "\n",
    "if device == torch.device('cuda'):\n",
    "    print(\"-Type of precessor to be used: 'gpu'\")\n",
    "    !nvidia-smi\n",
    "else:\n",
    "    print(\"-Type of precessor to be used: 'cpu'\")\n",
    "    \n",
    "# Choose device\n",
    "# torch.cuda.set_device(6)"
   ]
  },
  {
   "cell_type": "markdown",
   "metadata": {},
   "source": [
    "## Optimizer and Loss Function"
   ]
  },
  {
   "cell_type": "code",
   "execution_count": 11,
   "metadata": {
    "ExecuteTime": {
     "end_time": "2021-02-09T04:32:29.512123Z",
     "start_time": "2021-02-09T04:32:29.509680Z"
    },
    "code_folding": [
     0
    ]
   },
   "outputs": [],
   "source": [
    "# Set up SGD optimizer with a constant learning rate\n",
    "def setup_SGD(model, lr):\n",
    "    \"\"\"\n",
    "    Args:\n",
    "        model (nn.Module class): model previously instantiated\n",
    "        lr (float): learning rate\n",
    "    Returns:\n",
    "        instantiated optimizer\n",
    "    \"\"\"\n",
    "    return optim.SGD(model.parameters(), lr=lr, momentum=0,  weight_decay=0.0)"
   ]
  },
  {
   "cell_type": "code",
   "execution_count": 12,
   "metadata": {
    "ExecuteTime": {
     "end_time": "2021-02-09T04:32:31.143352Z",
     "start_time": "2021-02-09T04:32:31.140813Z"
    },
    "code_folding": [
     0
    ]
   },
   "outputs": [],
   "source": [
    "# Set up Adam optimizer with a constant learning rate\n",
    "def setup_ADAM(model, lr):\n",
    "    \"\"\"\n",
    "    Args:\n",
    "        model (nn.Module class): model previously instantiated\n",
    "        lr (float): learning rate\n",
    "    Returns:\n",
    "        instantiated optimizer\n",
    "    \"\"\"\n",
    "    return optim.Adam(model.parameters(), lr=lr,  weight_decay=0.0)"
   ]
  },
  {
   "cell_type": "code",
   "execution_count": 13,
   "metadata": {
    "ExecuteTime": {
     "end_time": "2021-02-09T04:32:32.942487Z",
     "start_time": "2021-02-09T04:32:32.940240Z"
    },
    "code_folding": [
     0
    ]
   },
   "outputs": [],
   "source": [
    "# Type of Loss Function\n",
    "loss_type = nn.MSELoss(reduction='mean')"
   ]
  },
  {
   "cell_type": "markdown",
   "metadata": {},
   "source": [
    "## Train model"
   ]
  },
  {
   "cell_type": "code",
   "execution_count": 14,
   "metadata": {
    "ExecuteTime": {
     "end_time": "2021-02-09T04:32:37.690100Z",
     "start_time": "2021-02-09T04:32:37.687587Z"
    },
    "code_folding": [
     0
    ]
   },
   "outputs": [],
   "source": [
    "# PyTorch sign function\n",
    "def sgn(x):\n",
    "    return torch.sign(x)"
   ]
  },
  {
   "cell_type": "code",
   "execution_count": 392,
   "metadata": {
    "ExecuteTime": {
     "end_time": "2021-02-22T07:49:46.945202Z",
     "start_time": "2021-02-22T07:49:46.931933Z"
    },
    "code_folding": [
     0,
     16,
     69,
     124,
     143,
     147,
     154,
     157
    ]
   },
   "outputs": [],
   "source": [
    "# Train model (regression)\n",
    "def train_model(lr, features, layer_sizes, lock_flag=False, epochs=3000, \n",
    "                early_stop=300, fname='model'):\n",
    "    \"\"\"\n",
    "    \"\"\"\n",
    "# Set seed of random generators (for reproducibility purposes)\n",
    "#     torch.manual_seed(42)\n",
    "\n",
    "# Instantiate Model and Optimizer\n",
    "    model = MyNet(features, layer_sizes)\n",
    "    if lock_flag == True:\n",
    "        model.load_state_dict(torch.load(model_forward_name))\n",
    "    model = model.to(device)\n",
    "    optimizer = setup_SGD(model, lr)\n",
    "\n",
    "# LOCKDOWN SECTION 1:\n",
    "    if lock_flag == True:\n",
    "        n_iterations = epochs*len(train_dataloader)\n",
    "        layers = get_lockdown_layers(model)\n",
    "        t0 = []\n",
    "        t0_initial = []\n",
    "        sign_w0 = []\n",
    "        l = 0\n",
    "        for layer in layers:\n",
    "            ww = layer.weight.detach()\n",
    "            t0.append(abs(ww).sum())\n",
    "            sign_w0.append(torch.sign(ww))\n",
    "            t0_initial.append(t0[l])\n",
    "            l += 1\n",
    "    \n",
    "# DataFrames to store train/valid loss function\n",
    "    train_loss = pd.DataFrame(columns=['iteration', 'loss'])\n",
    "    valid_loss = pd.DataFrame(columns=['iteration', 'loss'])\n",
    "\n",
    "# Initialize some local variables...\n",
    "    iteration = 0\n",
    "    best_iter = 0\n",
    "    best_loss = np.inf\n",
    "    stop_flag = 0\n",
    "\n",
    "# Loop Over Number of Epochs\n",
    "    iterator = tqdm.notebook.tqdm(range(1, epochs + 1), desc='Epochs loop')\n",
    "    for n_epoch in iterator:\n",
    "# \n",
    "# .Loop Over Mini-batches\n",
    "        for ibatch, (xx, yy, _) in enumerate(train_dataloader, start=1):\n",
    "#\n",
    "# ..Compute Validation Loss\n",
    "            model_dict = copy.deepcopy(model.state_dict())\n",
    "            epoch_loss = valid_epoch(valid_dataloader, model, loss_type, device)\n",
    "            valid_loss = valid_loss.append({'iteration': iteration + 1, \n",
    "                                            'loss': epoch_loss}, \n",
    "                                            ignore_index=True)\n",
    "# ..Train Mini-batch:\n",
    "            model.train()\n",
    "            xx = xx.to(device)\n",
    "            yy = yy.to(device)\n",
    "            yy_pred = model(xx)\n",
    "\n",
    "# ..Compute Train Loss\n",
    "            loss = loss_type(yy_pred.view(-1), yy)\n",
    "            train_loss = train_loss.append({'iteration': iteration + 1,\n",
    "                                            'loss': loss.item()}, \n",
    "                                           ignore_index=True)\n",
    "# ..Backward Propagation\n",
    "            optimizer.zero_grad()\n",
    "            loss.backward()\n",
    "\n",
    "# ..LOCKDOWN SECTION 2:\n",
    "            if lock_flag == True:\n",
    "                l = 0\n",
    "                for layer in layers:\n",
    "# ...weights and gradients (2D)\n",
    "                    w2d = layer.weight.detach()\n",
    "                    g2d = layer.weight.grad.detach()\n",
    "                    w_shape = g2d.size()\n",
    "\n",
    "# ...flattens weights and compute P(W)\n",
    "                    w1d = torch.flatten(w2d)\n",
    "                    Pw = abs(w1d).sum()\n",
    "\n",
    "# ...find g=-grads, 'gamma', and sort gamma (in descending order)\n",
    "                    p1d = 1.0\n",
    "                    g1d = -torch.flatten(g2d)\n",
    "                    gamma = abs(g1d)/(p1d + 1e-10)\n",
    "                    _, indx1d = torch.sort(gamma, descending=True)\n",
    "\n",
    "# ...Modify Gradients Accordingly:\n",
    "                    grmin = torch.zeros(w_shape).fill_(1e-1).to(device)\n",
    "                    layer.weight.grad = torch.sign(g2d)*torch.max(abs(g2d), grmin)\n",
    "                    gr1d = torch.flatten(layer.weight.grad.detach())\n",
    "                    pjsj = lr*abs(gr1d[indx1d])\n",
    "\n",
    "# ...sign(g) != sign(w) elements\n",
    "                    mask_ds = (sgn(g1d[indx1d]) != sgn(w1d[indx1d])) & (w1d[indx1d] != 0.0)\n",
    "                    DS_sum = pjsj[mask_ds].sum()\n",
    "                    pjsj[mask_ds] = 0.0\n",
    "                    mask_dsc = ~mask_ds\n",
    "                    indx1d_dsc = indx1d[mask_dsc]\n",
    "\n",
    "# ...sum(pjsj), j={1,J-1}\n",
    "                    left_side = torch.cumsum(pjsj, dim=0) - pjsj\n",
    "                    pjsj_dsc = torch.zeros(len(g1d)).to(device)\n",
    "                    pjsj_dsc[:] = pjsj[:]\n",
    "\n",
    "# ...sum(pjsj) + Penalty, j={J+1,nJ}\n",
    "                    mask_w0 = (w1d[indx1d] == 0.0)\n",
    "                    pjsj_dsc[mask_w0] = 0.0\n",
    "                    right_side = pjsj_dsc.sum() - torch.cumsum(pjsj_dsc, dim=0) + DS_sum - Pw + t0[l]\n",
    "\n",
    "# ...delta_j and new steps\n",
    "                    ds = right_side - left_side\n",
    "                    mask_w0 = (~mask_w0).float()\n",
    "                    pjsj_new = -mask_w0**(1-sgn(ds))*sgn(g1d[indx1d])*sgn(ds)*torch.min(pjsj, abs(ds))\n",
    "\n",
    "# ...modify gradients\n",
    "                    indx2d = np.unravel_index(indx1d_dsc.cpu(), shape=w_shape)\n",
    "                    layer.weight.grad[indx2d] = pjsj_new[mask_dsc]/lr\n",
    "                    l = l + 1\n",
    "\n",
    "# ..Update Weights \n",
    "            optimizer.step()\n",
    "\n",
    "# ..LOCKDOWN SECTION 3:\n",
    "            if lock_flag == True:\n",
    "# ...Set Weights That Change Signs to Zero\n",
    "                l = 0\n",
    "                for layer in layers:\n",
    "                    ww = layer.weight.detach()\n",
    "                    sign_w = sgn(ww)\n",
    "                    mask0 = ((sign_w != sign_w0[l]) & (sign_w0[l] != 0.0))\n",
    "                    with torch.no_grad():\n",
    "                        layer.weight[mask0] = 0.0\n",
    "                    sign_w0[l] = sign_w\n",
    "                    \n",
    "# ...Tighten Constraint\n",
    "                    if iteration%step == 0:\n",
    "                        t0[l] = (1.0 - iteration/n_iterations)*t0_initial[l]\n",
    "                    l = l + 1\n",
    "                    \n",
    "\n",
    "# ..Early Stop\n",
    "            batch_loss = valid_loss.iloc[iteration, 1]\n",
    "            if batch_loss < best_loss:\n",
    "                torch.save(model_dict, fname+\"_best.pth\")\n",
    "                best_loss = batch_loss\n",
    "                best_iter = iteration\n",
    "            else:\n",
    "                if iteration - best_iter >= early_stop:\n",
    "                    stop_flag = 1\n",
    "                    break\n",
    "# \n",
    "            iteration += 1\n",
    "# \n",
    "        if stop_flag == 1:\n",
    "            break\n",
    "# \n",
    "    if lock_flag == False:\n",
    "        torch.save(model_dict, fname+\"_last.pth\")\n",
    "    print(\"Summary:\")\n",
    "    print(\"-learning rate = {:.5f}\".format(lr))\n",
    "    if stop_flag == 1:\n",
    "        print('-path 1 has early stopped:')\n",
    "        print(' {:d} iterations with no improvement in valid loss.'.format(early_stop))\n",
    "    print(\"-Model saved after iteration {:d}.\".format(best_iter + 1))\n",
    "    print(\"-Train.  Loss={:.7f}\".format(train_loss.iloc[best_iter, 1]))\n",
    "    print(\"-Valid.  Loss={:.7f}\".format(valid_loss.iloc[best_iter, 1]))\n",
    "# \n",
    "    return train_loss, valid_loss"
   ]
  },
  {
   "cell_type": "code",
   "execution_count": 80,
   "metadata": {
    "ExecuteTime": {
     "end_time": "2021-02-09T08:58:08.745107Z",
     "start_time": "2021-02-09T08:58:08.741127Z"
    },
    "code_folding": [
     0
    ]
   },
   "outputs": [],
   "source": [
    "# Evaluate one epoch (regression)\n",
    "def valid_epoch(data_loader, model, loss_type, device):\n",
    "    \"\"\"\n",
    "    Args:\n",
    "        data_loader: torch DataLoader.\n",
    "        model:       torch model previously trained.\n",
    "        device: 'gpu' or 'cpu'.\n",
    "    Returns:\n",
    "        Values of Loss Function after one epoch.\n",
    "    \"\"\"\n",
    "# Initialize some local variables\n",
    "    loss_fun = 0.\n",
    "    n_points = 0\n",
    "    \n",
    "# Put model in evaluation mode\n",
    "    model.eval()\n",
    "\n",
    "# Loop over mini batches (no gradients need to be computed)\n",
    "    with torch.no_grad():\n",
    "        for i, (xx, yy, _) in enumerate(data_loader, start=1):\n",
    "            xx = xx.to(device)\n",
    "            yy = yy.to(device)\n",
    "            yy_pred = model(xx)\n",
    "        \n",
    "# .compute loss function\n",
    "            batch_size = len(yy)\n",
    "            loss = loss_type(yy_pred.view(-1), yy)\n",
    "            loss_fun += batch_size*loss.item()\n",
    "        \n",
    "# .number of points used after the ith mini-batch\n",
    "            n_points += batch_size\n",
    "#\n",
    "    return loss_fun/n_points"
   ]
  },
  {
   "cell_type": "markdown",
   "metadata": {},
   "source": [
    "## Results:"
   ]
  },
  {
   "cell_type": "markdown",
   "metadata": {},
   "source": [
    "### Lasso"
   ]
  },
  {
   "cell_type": "code",
   "execution_count": 194,
   "metadata": {
    "ExecuteTime": {
     "end_time": "2021-02-10T09:16:11.459867Z",
     "start_time": "2021-02-10T09:16:11.430433Z"
    },
    "code_folding": [
     0
    ]
   },
   "outputs": [],
   "source": [
    "# Load data\n",
    "load_data('dataset_05ResidentialBuilding')\n",
    "\n",
    "# transform tensors to NumPy arrays\n",
    "xtrain = xtrain.numpy()\n",
    "xvalid = xvalid.numpy()\n",
    "xtest = xtest.numpy()\n",
    "\n",
    "ytrain = ytrain.numpy()\n",
    "yvalid = yvalid.numpy()\n",
    "ytest = ytest.numpy()"
   ]
  },
  {
   "cell_type": "code",
   "execution_count": 195,
   "metadata": {
    "ExecuteTime": {
     "end_time": "2021-02-10T09:16:13.111099Z",
     "start_time": "2021-02-10T09:16:13.106284Z"
    },
    "code_folding": [
     0
    ]
   },
   "outputs": [],
   "source": [
    "# Normalize data\n",
    "scaler = StandardScaler()\n",
    "scaler.fit(xtrain)\n",
    "xtrain = scaler.transform(xtrain)\n",
    "xvalid = scaler.transform(xvalid)\n",
    "xtest  = scaler.transform(xtest)\n",
    "\n",
    "scaler = StandardScaler()\n",
    "scaler.fit(ytrain)\n",
    "ytrain = scaler.transform(ytrain)\n",
    "yvalid = scaler.transform(yvalid)\n",
    "ytest  = scaler.transform(ytest)"
   ]
  },
  {
   "cell_type": "markdown",
   "metadata": {},
   "source": [
    "#### Target 2"
   ]
  },
  {
   "cell_type": "code",
   "execution_count": 196,
   "metadata": {
    "ExecuteTime": {
     "end_time": "2021-02-10T09:16:23.459145Z",
     "start_time": "2021-02-10T09:16:23.455541Z"
    },
    "code_folding": [
     0
    ]
   },
   "outputs": [],
   "source": [
    "# Grid search space\n",
    "target_idx = 1\n",
    "grid_alpha = np.geomspace(5e-5, 1.0, num=500)\n",
    "df_grid_loss = pd.DataFrame(columns = ['alpha', 'valid_mse', 'valid_r2'], \n",
    "                            index=range(len(grid_alpha)))\n",
    "\n",
    "params = {'max_iter': 100000,\n",
    "          'random_state': 42,\n",
    "          'warm_start': True}"
   ]
  },
  {
   "cell_type": "code",
   "execution_count": 197,
   "metadata": {
    "ExecuteTime": {
     "end_time": "2021-02-10T09:17:06.717084Z",
     "start_time": "2021-02-10T09:16:25.662256Z"
    },
    "code_folding": [
     0
    ],
    "scrolled": true
   },
   "outputs": [
    {
     "data": {
      "application/vnd.jupyter.widget-view+json": {
       "model_id": "8c178b7ea31a46cd883f2930d53534cb",
       "version_major": 2,
       "version_minor": 0
      },
      "text/plain": [
       "HBox(children=(HTML(value='alpha-grid loop'), FloatProgress(value=0.0, max=500.0), HTML(value='')))"
      ]
     },
     "metadata": {},
     "output_type": "display_data"
    },
    {
     "name": "stdout",
     "output_type": "stream",
     "text": [
      "alpha=0.00005 | valid_mse=0.05508,  valid_r2=0.94142\n",
      "alpha=0.00005 | valid_mse=0.05416,  valid_r2=0.94240\n",
      "alpha=0.00005 | valid_mse=0.05325,  valid_r2=0.94337\n",
      "alpha=0.00005 | valid_mse=0.05237,  valid_r2=0.94431\n",
      "alpha=0.00005 | valid_mse=0.05149,  valid_r2=0.94524\n",
      "alpha=0.00006 | valid_mse=0.05061,  valid_r2=0.94618\n",
      "alpha=0.00006 | valid_mse=0.04982,  valid_r2=0.94701\n",
      "alpha=0.00006 | valid_mse=0.04903,  valid_r2=0.94786\n",
      "alpha=0.00006 | valid_mse=0.04822,  valid_r2=0.94873\n",
      "alpha=0.00006 | valid_mse=0.04757,  valid_r2=0.94941\n",
      "alpha=0.00006 | valid_mse=0.04696,  valid_r2=0.95006\n",
      "alpha=0.00006 | valid_mse=0.04632,  valid_r2=0.95074\n",
      "alpha=0.00006 | valid_mse=0.04566,  valid_r2=0.95145\n",
      "alpha=0.00006 | valid_mse=0.04500,  valid_r2=0.95214\n",
      "alpha=0.00007 | valid_mse=0.04443,  valid_r2=0.95275\n",
      "alpha=0.00007 | valid_mse=0.04389,  valid_r2=0.95333\n",
      "alpha=0.00007 | valid_mse=0.04333,  valid_r2=0.95392\n",
      "alpha=0.00007 | valid_mse=0.04295,  valid_r2=0.95432\n",
      "alpha=0.00007 | valid_mse=0.04259,  valid_r2=0.95471\n",
      "alpha=0.00007 | valid_mse=0.04223,  valid_r2=0.95509\n",
      "alpha=0.00007 | valid_mse=0.04187,  valid_r2=0.95547\n",
      "alpha=0.00008 | valid_mse=0.04152,  valid_r2=0.95584\n",
      "alpha=0.00008 | valid_mse=0.04118,  valid_r2=0.95621\n",
      "alpha=0.00008 | valid_mse=0.04087,  valid_r2=0.95653\n",
      "alpha=0.00008 | valid_mse=0.04060,  valid_r2=0.95682\n",
      "alpha=0.00008 | valid_mse=0.04034,  valid_r2=0.95710\n",
      "alpha=0.00008 | valid_mse=0.04008,  valid_r2=0.95738\n",
      "alpha=0.00009 | valid_mse=0.03994,  valid_r2=0.95752\n",
      "alpha=0.00009 | valid_mse=0.03981,  valid_r2=0.95766\n",
      "alpha=0.00009 | valid_mse=0.03968,  valid_r2=0.95780\n",
      "alpha=0.00009 | valid_mse=0.03954,  valid_r2=0.95795\n",
      "alpha=0.00009 | valid_mse=0.03941,  valid_r2=0.95809\n",
      "alpha=0.00009 | valid_mse=0.03928,  valid_r2=0.95823\n",
      "alpha=0.00010 | valid_mse=0.03914,  valid_r2=0.95838\n",
      "alpha=0.00010 | valid_mse=0.03900,  valid_r2=0.95852\n",
      "alpha=0.00010 | valid_mse=0.03886,  valid_r2=0.95868\n",
      "alpha=0.00010 | valid_mse=0.03872,  valid_r2=0.95883\n",
      "alpha=0.00010 | valid_mse=0.03859,  valid_r2=0.95897\n",
      "alpha=0.00011 | valid_mse=0.03848,  valid_r2=0.95907\n",
      "alpha=0.00011 | valid_mse=0.03839,  valid_r2=0.95917\n",
      "alpha=0.00011 | valid_mse=0.03830,  valid_r2=0.95927\n",
      "alpha=0.00011 | valid_mse=0.03821,  valid_r2=0.95937\n",
      "alpha=0.00012 | valid_mse=0.03814,  valid_r2=0.95944\n",
      "alpha=0.00012 | valid_mse=0.03807,  valid_r2=0.95952\n",
      "alpha=0.00012 | valid_mse=0.03797,  valid_r2=0.95962\n",
      "alpha=0.00012 | valid_mse=0.03783,  valid_r2=0.95977\n",
      "alpha=0.00012 | valid_mse=0.03769,  valid_r2=0.95991\n",
      "alpha=0.00013 | valid_mse=0.03756,  valid_r2=0.96006\n",
      "alpha=0.00013 | valid_mse=0.03742,  valid_r2=0.96021\n",
      "alpha=0.00013 | valid_mse=0.03728,  valid_r2=0.96036\n",
      "alpha=0.00013 | valid_mse=0.03715,  valid_r2=0.96049\n",
      "alpha=0.00014 | valid_mse=0.03705,  valid_r2=0.96060\n",
      "alpha=0.00014 | valid_mse=0.03695,  valid_r2=0.96071\n",
      "alpha=0.00014 | valid_mse=0.03685,  valid_r2=0.96081\n",
      "alpha=0.00015 | valid_mse=0.03677,  valid_r2=0.96090\n",
      "alpha=0.00015 | valid_mse=0.03664,  valid_r2=0.96104\n",
      "alpha=0.00015 | valid_mse=0.03652,  valid_r2=0.96116\n",
      "alpha=0.00015 | valid_mse=0.03638,  valid_r2=0.96132\n",
      "alpha=0.00016 | valid_mse=0.03628,  valid_r2=0.96142\n",
      "alpha=0.00016 | valid_mse=0.03618,  valid_r2=0.96152\n",
      "alpha=0.00016 | valid_mse=0.03614,  valid_r2=0.96156\n",
      "alpha=0.00017 | valid_mse=0.03613,  valid_r2=0.96158\n",
      "alpha=0.00017 | valid_mse=0.03606,  valid_r2=0.96165\n",
      "alpha=0.00017 | valid_mse=0.03600,  valid_r2=0.96172\n",
      "alpha=0.00018 | valid_mse=0.03595,  valid_r2=0.96177\n",
      "alpha=0.00018 | valid_mse=0.03589,  valid_r2=0.96183\n",
      "alpha=0.00019 | valid_mse=0.03583,  valid_r2=0.96190\n",
      "alpha=0.00019 | valid_mse=0.03578,  valid_r2=0.96195\n",
      "alpha=0.00019 | valid_mse=0.03574,  valid_r2=0.96199\n",
      "alpha=0.00020 | valid_mse=0.03570,  valid_r2=0.96203\n",
      "alpha=0.00020 | valid_mse=0.03566,  valid_r2=0.96208\n",
      "alpha=0.00020 | valid_mse=0.03563,  valid_r2=0.96211\n",
      "alpha=0.00021 | valid_mse=0.03559,  valid_r2=0.96215\n",
      "alpha=0.00021 | valid_mse=0.03556,  valid_r2=0.96218\n",
      "alpha=0.00022 | valid_mse=0.03555,  valid_r2=0.96220\n",
      "alpha=0.00022 | valid_mse=0.03553,  valid_r2=0.96221\n",
      "alpha=0.00023 | valid_mse=0.03552,  valid_r2=0.96222\n",
      "alpha=0.00023 | valid_mse=0.03552,  valid_r2=0.96223\n",
      "alpha=0.00024 | valid_mse=0.03547,  valid_r2=0.96228\n",
      "alpha=0.00024 | valid_mse=0.03543,  valid_r2=0.96233\n",
      "alpha=0.00024 | valid_mse=0.03537,  valid_r2=0.96238\n",
      "alpha=0.00025 | valid_mse=0.03532,  valid_r2=0.96244\n",
      "alpha=0.00025 | valid_mse=0.03527,  valid_r2=0.96249\n",
      "alpha=0.00026 | valid_mse=0.03522,  valid_r2=0.96254\n",
      "alpha=0.00026 | valid_mse=0.03517,  valid_r2=0.96260\n",
      "alpha=0.00027 | valid_mse=0.03513,  valid_r2=0.96265\n",
      "alpha=0.00028 | valid_mse=0.03508,  valid_r2=0.96269\n",
      "alpha=0.00028 | valid_mse=0.03500,  valid_r2=0.96277\n",
      "alpha=0.00029 | valid_mse=0.03492,  valid_r2=0.96286\n",
      "alpha=0.00029 | valid_mse=0.03484,  valid_r2=0.96295\n",
      "alpha=0.00030 | valid_mse=0.03476,  valid_r2=0.96303\n",
      "alpha=0.00030 | valid_mse=0.03469,  valid_r2=0.96311\n",
      "alpha=0.00031 | valid_mse=0.03461,  valid_r2=0.96320\n",
      "alpha=0.00032 | valid_mse=0.03451,  valid_r2=0.96329\n",
      "alpha=0.00032 | valid_mse=0.03442,  valid_r2=0.96339\n",
      "alpha=0.00033 | valid_mse=0.03426,  valid_r2=0.96357\n",
      "alpha=0.00034 | valid_mse=0.03418,  valid_r2=0.96365\n",
      "alpha=0.00034 | valid_mse=0.03410,  valid_r2=0.96374\n",
      "alpha=0.00035 | valid_mse=0.03402,  valid_r2=0.96382\n",
      "alpha=0.00036 | valid_mse=0.03395,  valid_r2=0.96390\n",
      "alpha=0.00036 | valid_mse=0.03387,  valid_r2=0.96398\n",
      "alpha=0.00037 | valid_mse=0.03380,  valid_r2=0.96405\n",
      "alpha=0.00038 | valid_mse=0.03373,  valid_r2=0.96413\n",
      "alpha=0.00039 | valid_mse=0.03366,  valid_r2=0.96421\n",
      "alpha=0.00039 | valid_mse=0.03358,  valid_r2=0.96429\n",
      "alpha=0.00040 | valid_mse=0.03352,  valid_r2=0.96436\n",
      "alpha=0.00041 | valid_mse=0.03346,  valid_r2=0.96442\n",
      "alpha=0.00042 | valid_mse=0.03339,  valid_r2=0.96449\n",
      "alpha=0.00043 | valid_mse=0.03333,  valid_r2=0.96456\n",
      "alpha=0.00043 | valid_mse=0.03326,  valid_r2=0.96463\n",
      "alpha=0.00044 | valid_mse=0.03319,  valid_r2=0.96471\n",
      "alpha=0.00045 | valid_mse=0.03312,  valid_r2=0.96478\n",
      "alpha=0.00046 | valid_mse=0.03305,  valid_r2=0.96485\n",
      "alpha=0.00047 | valid_mse=0.03299,  valid_r2=0.96491\n",
      "alpha=0.00048 | valid_mse=0.03293,  valid_r2=0.96498\n",
      "alpha=0.00049 | valid_mse=0.03288,  valid_r2=0.96504\n",
      "alpha=0.00050 | valid_mse=0.03283,  valid_r2=0.96509\n",
      "alpha=0.00051 | valid_mse=0.03277,  valid_r2=0.96515\n",
      "alpha=0.00052 | valid_mse=0.03270,  valid_r2=0.96522\n",
      "alpha=0.00053 | valid_mse=0.03264,  valid_r2=0.96529\n",
      "alpha=0.00054 | valid_mse=0.03287,  valid_r2=0.96504\n",
      "alpha=0.00055 | valid_mse=0.03280,  valid_r2=0.96512\n",
      "alpha=0.00056 | valid_mse=0.03271,  valid_r2=0.96522\n",
      "alpha=0.00057 | valid_mse=0.03260,  valid_r2=0.96533\n",
      "alpha=0.00059 | valid_mse=0.03251,  valid_r2=0.96542\n",
      "alpha=0.00060 | valid_mse=0.03246,  valid_r2=0.96548\n",
      "alpha=0.00061 | valid_mse=0.03241,  valid_r2=0.96554\n",
      "alpha=0.00062 | valid_mse=0.03235,  valid_r2=0.96560\n",
      "alpha=0.00063 | valid_mse=0.03230,  valid_r2=0.96565\n",
      "alpha=0.00065 | valid_mse=0.03225,  valid_r2=0.96571\n",
      "alpha=0.00066 | valid_mse=0.03220,  valid_r2=0.96576\n",
      "alpha=0.00067 | valid_mse=0.03216,  valid_r2=0.96580\n",
      "alpha=0.00069 | valid_mse=0.03212,  valid_r2=0.96584\n",
      "alpha=0.00070 | valid_mse=0.03211,  valid_r2=0.96585\n",
      "alpha=0.00071 | valid_mse=0.03199,  valid_r2=0.96598\n",
      "alpha=0.00073 | valid_mse=0.03202,  valid_r2=0.96595\n",
      "alpha=0.00074 | valid_mse=0.03205,  valid_r2=0.96591\n",
      "alpha=0.00076 | valid_mse=0.03209,  valid_r2=0.96587\n",
      "alpha=0.00077 | valid_mse=0.03212,  valid_r2=0.96584\n",
      "alpha=0.00079 | valid_mse=0.03212,  valid_r2=0.96584\n",
      "alpha=0.00080 | valid_mse=0.03213,  valid_r2=0.96584\n",
      "alpha=0.00082 | valid_mse=0.03212,  valid_r2=0.96584\n",
      "alpha=0.00084 | valid_mse=0.03212,  valid_r2=0.96584\n",
      "alpha=0.00085 | valid_mse=0.03212,  valid_r2=0.96584\n",
      "alpha=0.00087 | valid_mse=0.03212,  valid_r2=0.96584\n",
      "alpha=0.00089 | valid_mse=0.03212,  valid_r2=0.96584\n",
      "alpha=0.00091 | valid_mse=0.03212,  valid_r2=0.96584\n",
      "alpha=0.00092 | valid_mse=0.03213,  valid_r2=0.96583\n",
      "alpha=0.00094 | valid_mse=0.03215,  valid_r2=0.96581\n",
      "alpha=0.00096 | valid_mse=0.03217,  valid_r2=0.96579\n",
      "alpha=0.00098 | valid_mse=0.03219,  valid_r2=0.96577\n",
      "alpha=0.00100 | valid_mse=0.03221,  valid_r2=0.96575\n",
      "alpha=0.00102 | valid_mse=0.03223,  valid_r2=0.96572\n",
      "alpha=0.00104 | valid_mse=0.03226,  valid_r2=0.96570\n",
      "alpha=0.00106 | valid_mse=0.03229,  valid_r2=0.96566\n",
      "alpha=0.00108 | valid_mse=0.03232,  valid_r2=0.96563\n",
      "alpha=0.00111 | valid_mse=0.03236,  valid_r2=0.96559\n",
      "alpha=0.00113 | valid_mse=0.03240,  valid_r2=0.96554\n",
      "alpha=0.00115 | valid_mse=0.03263,  valid_r2=0.96530\n",
      "alpha=0.00117 | valid_mse=0.03266,  valid_r2=0.96527\n"
     ]
    },
    {
     "name": "stdout",
     "output_type": "stream",
     "text": [
      "alpha=0.00120 | valid_mse=0.03271,  valid_r2=0.96522\n",
      "alpha=0.00122 | valid_mse=0.03274,  valid_r2=0.96518\n",
      "alpha=0.00125 | valid_mse=0.03278,  valid_r2=0.96514\n",
      "alpha=0.00127 | valid_mse=0.03282,  valid_r2=0.96510\n",
      "alpha=0.00130 | valid_mse=0.03286,  valid_r2=0.96506\n",
      "alpha=0.00132 | valid_mse=0.03290,  valid_r2=0.96501\n",
      "alpha=0.00135 | valid_mse=0.03295,  valid_r2=0.96496\n",
      "alpha=0.00138 | valid_mse=0.03297,  valid_r2=0.96493\n",
      "alpha=0.00140 | valid_mse=0.03305,  valid_r2=0.96485\n",
      "alpha=0.00143 | valid_mse=0.03313,  valid_r2=0.96477\n",
      "alpha=0.00146 | valid_mse=0.03319,  valid_r2=0.96470\n",
      "alpha=0.00149 | valid_mse=0.03326,  valid_r2=0.96463\n",
      "alpha=0.00152 | valid_mse=0.03333,  valid_r2=0.96456\n",
      "alpha=0.00155 | valid_mse=0.03341,  valid_r2=0.96447\n",
      "alpha=0.00158 | valid_mse=0.03349,  valid_r2=0.96438\n",
      "alpha=0.00161 | valid_mse=0.03357,  valid_r2=0.96430\n",
      "alpha=0.00164 | valid_mse=0.03363,  valid_r2=0.96423\n",
      "alpha=0.00168 | valid_mse=0.03370,  valid_r2=0.96416\n",
      "alpha=0.00171 | valid_mse=0.03376,  valid_r2=0.96410\n",
      "alpha=0.00175 | valid_mse=0.03380,  valid_r2=0.96405\n",
      "alpha=0.00178 | valid_mse=0.03385,  valid_r2=0.96401\n",
      "alpha=0.00182 | valid_mse=0.03388,  valid_r2=0.96397\n",
      "alpha=0.00185 | valid_mse=0.03391,  valid_r2=0.96394\n",
      "alpha=0.00189 | valid_mse=0.03393,  valid_r2=0.96392\n",
      "alpha=0.00193 | valid_mse=0.03394,  valid_r2=0.96390\n",
      "alpha=0.00197 | valid_mse=0.03395,  valid_r2=0.96389\n",
      "alpha=0.00201 | valid_mse=0.03397,  valid_r2=0.96388\n",
      "alpha=0.00205 | valid_mse=0.03397,  valid_r2=0.96387\n",
      "alpha=0.00209 | valid_mse=0.03398,  valid_r2=0.96387\n",
      "alpha=0.00213 | valid_mse=0.03398,  valid_r2=0.96386\n",
      "alpha=0.00217 | valid_mse=0.03400,  valid_r2=0.96384\n",
      "alpha=0.00221 | valid_mse=0.03401,  valid_r2=0.96383\n",
      "alpha=0.00226 | valid_mse=0.03403,  valid_r2=0.96381\n",
      "alpha=0.00230 | valid_mse=0.03405,  valid_r2=0.96379\n",
      "alpha=0.00235 | valid_mse=0.03407,  valid_r2=0.96377\n",
      "alpha=0.00240 | valid_mse=0.03409,  valid_r2=0.96375\n",
      "alpha=0.00245 | valid_mse=0.03412,  valid_r2=0.96372\n",
      "alpha=0.00249 | valid_mse=0.03414,  valid_r2=0.96369\n",
      "alpha=0.00254 | valid_mse=0.03418,  valid_r2=0.96365\n",
      "alpha=0.00260 | valid_mse=0.03421,  valid_r2=0.96362\n",
      "alpha=0.00265 | valid_mse=0.03424,  valid_r2=0.96358\n",
      "alpha=0.00270 | valid_mse=0.03430,  valid_r2=0.96352\n",
      "alpha=0.00275 | valid_mse=0.03436,  valid_r2=0.96346\n",
      "alpha=0.00281 | valid_mse=0.03443,  valid_r2=0.96339\n",
      "alpha=0.00287 | valid_mse=0.03448,  valid_r2=0.96333\n",
      "alpha=0.00292 | valid_mse=0.03453,  valid_r2=0.96328\n",
      "alpha=0.00298 | valid_mse=0.03459,  valid_r2=0.96322\n",
      "alpha=0.00304 | valid_mse=0.03465,  valid_r2=0.96315\n",
      "alpha=0.00310 | valid_mse=0.03471,  valid_r2=0.96309\n",
      "alpha=0.00317 | valid_mse=0.03477,  valid_r2=0.96302\n",
      "alpha=0.00323 | valid_mse=0.03484,  valid_r2=0.96295\n",
      "alpha=0.00329 | valid_mse=0.03489,  valid_r2=0.96289\n",
      "alpha=0.00336 | valid_mse=0.03494,  valid_r2=0.96285\n",
      "alpha=0.00343 | valid_mse=0.03499,  valid_r2=0.96279\n",
      "alpha=0.00350 | valid_mse=0.03503,  valid_r2=0.96275\n",
      "alpha=0.00357 | valid_mse=0.03508,  valid_r2=0.96270\n",
      "alpha=0.00364 | valid_mse=0.03513,  valid_r2=0.96264\n",
      "alpha=0.00371 | valid_mse=0.03518,  valid_r2=0.96259\n",
      "alpha=0.00378 | valid_mse=0.03527,  valid_r2=0.96249\n",
      "alpha=0.00386 | valid_mse=0.03528,  valid_r2=0.96248\n",
      "alpha=0.00394 | valid_mse=0.03528,  valid_r2=0.96248\n",
      "alpha=0.00402 | valid_mse=0.03529,  valid_r2=0.96247\n",
      "alpha=0.00410 | valid_mse=0.03530,  valid_r2=0.96246\n",
      "alpha=0.00418 | valid_mse=0.03531,  valid_r2=0.96245\n",
      "alpha=0.00426 | valid_mse=0.03532,  valid_r2=0.96244\n",
      "alpha=0.00435 | valid_mse=0.03533,  valid_r2=0.96243\n",
      "alpha=0.00444 | valid_mse=0.03535,  valid_r2=0.96241\n",
      "alpha=0.00452 | valid_mse=0.03536,  valid_r2=0.96239\n",
      "alpha=0.00461 | valid_mse=0.03538,  valid_r2=0.96237\n",
      "alpha=0.00471 | valid_mse=0.03540,  valid_r2=0.96235\n",
      "alpha=0.00480 | valid_mse=0.03542,  valid_r2=0.96233\n",
      "alpha=0.00490 | valid_mse=0.03545,  valid_r2=0.96230\n",
      "alpha=0.00500 | valid_mse=0.03548,  valid_r2=0.96227\n",
      "alpha=0.00510 | valid_mse=0.03551,  valid_r2=0.96224\n",
      "alpha=0.00520 | valid_mse=0.03554,  valid_r2=0.96220\n",
      "alpha=0.00530 | valid_mse=0.03558,  valid_r2=0.96217\n",
      "alpha=0.00541 | valid_mse=0.03562,  valid_r2=0.96212\n",
      "alpha=0.00552 | valid_mse=0.03566,  valid_r2=0.96208\n",
      "alpha=0.00563 | valid_mse=0.03570,  valid_r2=0.96203\n",
      "alpha=0.00574 | valid_mse=0.03575,  valid_r2=0.96198\n",
      "alpha=0.00586 | valid_mse=0.03581,  valid_r2=0.96192\n",
      "alpha=0.00597 | valid_mse=0.03586,  valid_r2=0.96187\n",
      "alpha=0.00609 | valid_mse=0.03590,  valid_r2=0.96182\n",
      "alpha=0.00622 | valid_mse=0.03595,  valid_r2=0.96177\n",
      "alpha=0.00634 | valid_mse=0.03600,  valid_r2=0.96171\n",
      "alpha=0.00647 | valid_mse=0.03606,  valid_r2=0.96165\n",
      "alpha=0.00660 | valid_mse=0.03612,  valid_r2=0.96159\n",
      "alpha=0.00673 | valid_mse=0.03619,  valid_r2=0.96151\n",
      "alpha=0.00686 | valid_mse=0.03627,  valid_r2=0.96143\n",
      "alpha=0.00700 | valid_mse=0.03633,  valid_r2=0.96136\n",
      "alpha=0.00714 | valid_mse=0.03640,  valid_r2=0.96129\n",
      "alpha=0.00728 | valid_mse=0.03647,  valid_r2=0.96121\n",
      "alpha=0.00743 | valid_mse=0.03655,  valid_r2=0.96113\n",
      "alpha=0.00758 | valid_mse=0.03663,  valid_r2=0.96105\n",
      "alpha=0.00773 | valid_mse=0.03671,  valid_r2=0.96096\n",
      "alpha=0.00789 | valid_mse=0.03680,  valid_r2=0.96086\n",
      "alpha=0.00804 | valid_mse=0.03689,  valid_r2=0.96076\n",
      "alpha=0.00821 | valid_mse=0.03699,  valid_r2=0.96066\n",
      "alpha=0.00837 | valid_mse=0.03710,  valid_r2=0.96055\n",
      "alpha=0.00854 | valid_mse=0.03721,  valid_r2=0.96043\n",
      "alpha=0.00871 | valid_mse=0.03732,  valid_r2=0.96031\n",
      "alpha=0.00888 | valid_mse=0.03744,  valid_r2=0.96018\n",
      "alpha=0.00906 | valid_mse=0.03757,  valid_r2=0.96004\n",
      "alpha=0.00924 | valid_mse=0.03771,  valid_r2=0.95990\n",
      "alpha=0.00943 | valid_mse=0.03784,  valid_r2=0.95975\n",
      "alpha=0.00962 | valid_mse=0.03799,  valid_r2=0.95960\n",
      "alpha=0.00981 | valid_mse=0.03812,  valid_r2=0.95946\n",
      "alpha=0.01001 | valid_mse=0.03825,  valid_r2=0.95933\n",
      "alpha=0.01021 | valid_mse=0.03838,  valid_r2=0.95919\n",
      "alpha=0.01041 | valid_mse=0.03851,  valid_r2=0.95904\n",
      "alpha=0.01062 | valid_mse=0.03864,  valid_r2=0.95891\n",
      "alpha=0.01083 | valid_mse=0.03874,  valid_r2=0.95880\n",
      "alpha=0.01105 | valid_mse=0.03885,  valid_r2=0.95868\n",
      "alpha=0.01127 | valid_mse=0.03896,  valid_r2=0.95856\n",
      "alpha=0.01150 | valid_mse=0.03908,  valid_r2=0.95844\n",
      "alpha=0.01173 | valid_mse=0.03921,  valid_r2=0.95830\n",
      "alpha=0.01196 | valid_mse=0.03934,  valid_r2=0.95816\n",
      "alpha=0.01220 | valid_mse=0.03948,  valid_r2=0.95801\n",
      "alpha=0.01245 | valid_mse=0.03963,  valid_r2=0.95786\n",
      "alpha=0.01270 | valid_mse=0.03979,  valid_r2=0.95769\n",
      "alpha=0.01295 | valid_mse=0.03995,  valid_r2=0.95751\n",
      "alpha=0.01321 | valid_mse=0.04013,  valid_r2=0.95733\n",
      "alpha=0.01348 | valid_mse=0.04031,  valid_r2=0.95713\n",
      "alpha=0.01375 | valid_mse=0.04050,  valid_r2=0.95693\n",
      "alpha=0.01402 | valid_mse=0.04070,  valid_r2=0.95671\n",
      "alpha=0.01430 | valid_mse=0.04090,  valid_r2=0.95650\n",
      "alpha=0.01459 | valid_mse=0.04108,  valid_r2=0.95632\n",
      "alpha=0.01488 | valid_mse=0.04123,  valid_r2=0.95615\n",
      "alpha=0.01518 | valid_mse=0.04143,  valid_r2=0.95594\n",
      "alpha=0.01549 | valid_mse=0.04161,  valid_r2=0.95575\n",
      "alpha=0.01580 | valid_mse=0.04181,  valid_r2=0.95554\n",
      "alpha=0.01611 | valid_mse=0.04191,  valid_r2=0.95543\n",
      "alpha=0.01644 | valid_mse=0.04185,  valid_r2=0.95549\n",
      "alpha=0.01677 | valid_mse=0.04180,  valid_r2=0.95555\n",
      "alpha=0.01710 | valid_mse=0.04177,  valid_r2=0.95558\n",
      "alpha=0.01744 | valid_mse=0.04182,  valid_r2=0.95552\n",
      "alpha=0.01779 | valid_mse=0.04188,  valid_r2=0.95546\n",
      "alpha=0.01815 | valid_mse=0.04193,  valid_r2=0.95540\n",
      "alpha=0.01851 | valid_mse=0.04200,  valid_r2=0.95534\n",
      "alpha=0.01889 | valid_mse=0.04206,  valid_r2=0.95527\n",
      "alpha=0.01926 | valid_mse=0.04212,  valid_r2=0.95520\n",
      "alpha=0.01965 | valid_mse=0.04219,  valid_r2=0.95513\n",
      "alpha=0.02004 | valid_mse=0.04222,  valid_r2=0.95511\n",
      "alpha=0.02045 | valid_mse=0.04218,  valid_r2=0.95515\n",
      "alpha=0.02086 | valid_mse=0.04214,  valid_r2=0.95519\n",
      "alpha=0.02127 | valid_mse=0.04210,  valid_r2=0.95523\n",
      "alpha=0.02170 | valid_mse=0.04207,  valid_r2=0.95526\n",
      "alpha=0.02214 | valid_mse=0.04203,  valid_r2=0.95530\n",
      "alpha=0.02258 | valid_mse=0.04199,  valid_r2=0.95534\n",
      "alpha=0.02303 | valid_mse=0.04195,  valid_r2=0.95539\n",
      "alpha=0.02349 | valid_mse=0.04191,  valid_r2=0.95543\n",
      "alpha=0.02396 | valid_mse=0.04187,  valid_r2=0.95547\n",
      "alpha=0.02445 | valid_mse=0.04183,  valid_r2=0.95551\n",
      "alpha=0.02494 | valid_mse=0.04179,  valid_r2=0.95555\n",
      "alpha=0.02543 | valid_mse=0.04175,  valid_r2=0.95560\n",
      "alpha=0.02594 | valid_mse=0.04172,  valid_r2=0.95564\n",
      "alpha=0.02646 | valid_mse=0.04168,  valid_r2=0.95568\n",
      "alpha=0.02700 | valid_mse=0.04164,  valid_r2=0.95572\n",
      "alpha=0.02754 | valid_mse=0.04160,  valid_r2=0.95576\n",
      "alpha=0.02809 | valid_mse=0.04156,  valid_r2=0.95580\n",
      "alpha=0.02865 | valid_mse=0.04153,  valid_r2=0.95584\n",
      "alpha=0.02923 | valid_mse=0.04149,  valid_r2=0.95587\n",
      "alpha=0.02981 | valid_mse=0.04146,  valid_r2=0.95591\n",
      "alpha=0.03041 | valid_mse=0.04144,  valid_r2=0.95593\n",
      "alpha=0.03102 | valid_mse=0.04142,  valid_r2=0.95595\n",
      "alpha=0.03164 | valid_mse=0.04140,  valid_r2=0.95597\n",
      "alpha=0.03227 | valid_mse=0.04138,  valid_r2=0.95599\n",
      "alpha=0.03292 | valid_mse=0.04136,  valid_r2=0.95601\n",
      "alpha=0.03358 | valid_mse=0.04135,  valid_r2=0.95603\n",
      "alpha=0.03425 | valid_mse=0.04133,  valid_r2=0.95605\n",
      "alpha=0.03494 | valid_mse=0.04132,  valid_r2=0.95606\n",
      "alpha=0.03564 | valid_mse=0.04131,  valid_r2=0.95607\n",
      "alpha=0.03636 | valid_mse=0.04129,  valid_r2=0.95609\n",
      "alpha=0.03708 | valid_mse=0.04128,  valid_r2=0.95610\n",
      "alpha=0.03783 | valid_mse=0.04128,  valid_r2=0.95611\n",
      "alpha=0.03859 | valid_mse=0.04127,  valid_r2=0.95611\n",
      "alpha=0.03936 | valid_mse=0.04127,  valid_r2=0.95612\n",
      "alpha=0.04015 | valid_mse=0.04126,  valid_r2=0.95612\n",
      "alpha=0.04095 | valid_mse=0.04126,  valid_r2=0.95612\n",
      "alpha=0.04177 | valid_mse=0.04127,  valid_r2=0.95611\n",
      "alpha=0.04261 | valid_mse=0.04127,  valid_r2=0.95611\n",
      "alpha=0.04347 | valid_mse=0.04128,  valid_r2=0.95610\n",
      "alpha=0.04434 | valid_mse=0.04129,  valid_r2=0.95608\n",
      "alpha=0.04523 | valid_mse=0.04131,  valid_r2=0.95607\n",
      "alpha=0.04613 | valid_mse=0.04133,  valid_r2=0.95605\n",
      "alpha=0.04706 | valid_mse=0.04135,  valid_r2=0.95603\n",
      "alpha=0.04800 | valid_mse=0.04138,  valid_r2=0.95600\n",
      "alpha=0.04896 | valid_mse=0.04141,  valid_r2=0.95597\n",
      "alpha=0.04994 | valid_mse=0.04144,  valid_r2=0.95593\n",
      "alpha=0.05095 | valid_mse=0.04148,  valid_r2=0.95589\n",
      "alpha=0.05197 | valid_mse=0.04150,  valid_r2=0.95586\n",
      "alpha=0.05301 | valid_mse=0.04154,  valid_r2=0.95583\n",
      "alpha=0.05407 | valid_mse=0.04157,  valid_r2=0.95579\n",
      "alpha=0.05515 | valid_mse=0.04161,  valid_r2=0.95574\n",
      "alpha=0.05626 | valid_mse=0.04166,  valid_r2=0.95569\n",
      "alpha=0.05739 | valid_mse=0.04172,  valid_r2=0.95564\n",
      "alpha=0.05854 | valid_mse=0.04178,  valid_r2=0.95557\n",
      "alpha=0.05971 | valid_mse=0.04184,  valid_r2=0.95550\n",
      "alpha=0.06091 | valid_mse=0.04192,  valid_r2=0.95542\n",
      "alpha=0.06213 | valid_mse=0.04200,  valid_r2=0.95534\n",
      "alpha=0.06337 | valid_mse=0.04208,  valid_r2=0.95525\n",
      "alpha=0.06465 | valid_mse=0.04217,  valid_r2=0.95515\n"
     ]
    },
    {
     "name": "stdout",
     "output_type": "stream",
     "text": [
      "alpha=0.06594 | valid_mse=0.04227,  valid_r2=0.95505\n",
      "alpha=0.06726 | valid_mse=0.04237,  valid_r2=0.95494\n",
      "alpha=0.06861 | valid_mse=0.04248,  valid_r2=0.95482\n",
      "alpha=0.06999 | valid_mse=0.04261,  valid_r2=0.95469\n",
      "alpha=0.07139 | valid_mse=0.04274,  valid_r2=0.95455\n",
      "alpha=0.07282 | valid_mse=0.04287,  valid_r2=0.95441\n",
      "alpha=0.07428 | valid_mse=0.04295,  valid_r2=0.95432\n",
      "alpha=0.07577 | valid_mse=0.04304,  valid_r2=0.95423\n",
      "alpha=0.07729 | valid_mse=0.04314,  valid_r2=0.95412\n",
      "alpha=0.07884 | valid_mse=0.04325,  valid_r2=0.95401\n",
      "alpha=0.08042 | valid_mse=0.04337,  valid_r2=0.95388\n",
      "alpha=0.08203 | valid_mse=0.04345,  valid_r2=0.95379\n",
      "alpha=0.08367 | valid_mse=0.04353,  valid_r2=0.95371\n",
      "alpha=0.08535 | valid_mse=0.04362,  valid_r2=0.95362\n",
      "alpha=0.08706 | valid_mse=0.04371,  valid_r2=0.95352\n",
      "alpha=0.08881 | valid_mse=0.04382,  valid_r2=0.95340\n",
      "alpha=0.09059 | valid_mse=0.04393,  valid_r2=0.95328\n",
      "alpha=0.09240 | valid_mse=0.04406,  valid_r2=0.95314\n",
      "alpha=0.09425 | valid_mse=0.04420,  valid_r2=0.95299\n",
      "alpha=0.09614 | valid_mse=0.04435,  valid_r2=0.95283\n",
      "alpha=0.09807 | valid_mse=0.04452,  valid_r2=0.95265\n",
      "alpha=0.10004 | valid_mse=0.04470,  valid_r2=0.95246\n",
      "alpha=0.10204 | valid_mse=0.04490,  valid_r2=0.95226\n",
      "alpha=0.10409 | valid_mse=0.04511,  valid_r2=0.95203\n",
      "alpha=0.10617 | valid_mse=0.04533,  valid_r2=0.95179\n",
      "alpha=0.10830 | valid_mse=0.04558,  valid_r2=0.95153\n",
      "alpha=0.11047 | valid_mse=0.04584,  valid_r2=0.95125\n",
      "alpha=0.11269 | valid_mse=0.04603,  valid_r2=0.95104\n",
      "alpha=0.11495 | valid_mse=0.04622,  valid_r2=0.95085\n",
      "alpha=0.11725 | valid_mse=0.04642,  valid_r2=0.95064\n",
      "alpha=0.11960 | valid_mse=0.04664,  valid_r2=0.95041\n",
      "alpha=0.12200 | valid_mse=0.04687,  valid_r2=0.95015\n",
      "alpha=0.12444 | valid_mse=0.04713,  valid_r2=0.94988\n",
      "alpha=0.12694 | valid_mse=0.04741,  valid_r2=0.94958\n",
      "alpha=0.12948 | valid_mse=0.04771,  valid_r2=0.94926\n",
      "alpha=0.13208 | valid_mse=0.04803,  valid_r2=0.94892\n",
      "alpha=0.13473 | valid_mse=0.04838,  valid_r2=0.94855\n",
      "alpha=0.13743 | valid_mse=0.04876,  valid_r2=0.94815\n",
      "alpha=0.14018 | valid_mse=0.04916,  valid_r2=0.94772\n",
      "alpha=0.14299 | valid_mse=0.04959,  valid_r2=0.94727\n",
      "alpha=0.14586 | valid_mse=0.05005,  valid_r2=0.94678\n",
      "alpha=0.14878 | valid_mse=0.05054,  valid_r2=0.94626\n",
      "alpha=0.15176 | valid_mse=0.05106,  valid_r2=0.94570\n",
      "alpha=0.15481 | valid_mse=0.05162,  valid_r2=0.94511\n",
      "alpha=0.15791 | valid_mse=0.05221,  valid_r2=0.94447\n",
      "alpha=0.16107 | valid_mse=0.05284,  valid_r2=0.94380\n",
      "alpha=0.16430 | valid_mse=0.05351,  valid_r2=0.94309\n",
      "alpha=0.16760 | valid_mse=0.05423,  valid_r2=0.94233\n",
      "alpha=0.17096 | valid_mse=0.05498,  valid_r2=0.94153\n",
      "alpha=0.17438 | valid_mse=0.05578,  valid_r2=0.94068\n",
      "alpha=0.17788 | valid_mse=0.05663,  valid_r2=0.93977\n",
      "alpha=0.18144 | valid_mse=0.05753,  valid_r2=0.93882\n",
      "alpha=0.18508 | valid_mse=0.05848,  valid_r2=0.93781\n",
      "alpha=0.18879 | valid_mse=0.05948,  valid_r2=0.93674\n",
      "alpha=0.19257 | valid_mse=0.06055,  valid_r2=0.93561\n",
      "alpha=0.19643 | valid_mse=0.06167,  valid_r2=0.93442\n",
      "alpha=0.20037 | valid_mse=0.06285,  valid_r2=0.93316\n",
      "alpha=0.20439 | valid_mse=0.06410,  valid_r2=0.93183\n",
      "alpha=0.20849 | valid_mse=0.06542,  valid_r2=0.93043\n",
      "alpha=0.21266 | valid_mse=0.06680,  valid_r2=0.92896\n",
      "alpha=0.21693 | valid_mse=0.06827,  valid_r2=0.92740\n",
      "alpha=0.22128 | valid_mse=0.06981,  valid_r2=0.92576\n",
      "alpha=0.22571 | valid_mse=0.07143,  valid_r2=0.92404\n",
      "alpha=0.23024 | valid_mse=0.07314,  valid_r2=0.92222\n",
      "alpha=0.23485 | valid_mse=0.07483,  valid_r2=0.92042\n",
      "alpha=0.23956 | valid_mse=0.07653,  valid_r2=0.91861\n",
      "alpha=0.24436 | valid_mse=0.07832,  valid_r2=0.91672\n",
      "alpha=0.24926 | valid_mse=0.08019,  valid_r2=0.91472\n",
      "alpha=0.25425 | valid_mse=0.08216,  valid_r2=0.91262\n",
      "alpha=0.25935 | valid_mse=0.08424,  valid_r2=0.91042\n",
      "alpha=0.26455 | valid_mse=0.08641,  valid_r2=0.90810\n",
      "alpha=0.26985 | valid_mse=0.08870,  valid_r2=0.90568\n",
      "alpha=0.27526 | valid_mse=0.09109,  valid_r2=0.90313\n",
      "alpha=0.28078 | valid_mse=0.09361,  valid_r2=0.90045\n",
      "alpha=0.28641 | valid_mse=0.09625,  valid_r2=0.89765\n",
      "alpha=0.29215 | valid_mse=0.09901,  valid_r2=0.89470\n",
      "alpha=0.29800 | valid_mse=0.10191,  valid_r2=0.89162\n",
      "alpha=0.30398 | valid_mse=0.10496,  valid_r2=0.88838\n",
      "alpha=0.31007 | valid_mse=0.10814,  valid_r2=0.88499\n",
      "alpha=0.31629 | valid_mse=0.11148,  valid_r2=0.88144\n",
      "alpha=0.32263 | valid_mse=0.11499,  valid_r2=0.87772\n",
      "alpha=0.32909 | valid_mse=0.11865,  valid_r2=0.87382\n",
      "alpha=0.33569 | valid_mse=0.12249,  valid_r2=0.86973\n",
      "alpha=0.34242 | valid_mse=0.12651,  valid_r2=0.86546\n",
      "alpha=0.34928 | valid_mse=0.13073,  valid_r2=0.86098\n",
      "alpha=0.35628 | valid_mse=0.13513,  valid_r2=0.85629\n",
      "alpha=0.36343 | valid_mse=0.13975,  valid_r2=0.85138\n",
      "alpha=0.37071 | valid_mse=0.14458,  valid_r2=0.84625\n",
      "alpha=0.37814 | valid_mse=0.14963,  valid_r2=0.84088\n",
      "alpha=0.38572 | valid_mse=0.15491,  valid_r2=0.83526\n",
      "alpha=0.39345 | valid_mse=0.16044,  valid_r2=0.82938\n",
      "alpha=0.40134 | valid_mse=0.16623,  valid_r2=0.82323\n",
      "alpha=0.40938 | valid_mse=0.17227,  valid_r2=0.81679\n",
      "alpha=0.41759 | valid_mse=0.17860,  valid_r2=0.81007\n",
      "alpha=0.42596 | valid_mse=0.18521,  valid_r2=0.80304\n",
      "alpha=0.43450 | valid_mse=0.19212,  valid_r2=0.79568\n",
      "alpha=0.44321 | valid_mse=0.19935,  valid_r2=0.78800\n",
      "alpha=0.45209 | valid_mse=0.20690,  valid_r2=0.77997\n",
      "alpha=0.46116 | valid_mse=0.21480,  valid_r2=0.77157\n",
      "alpha=0.47040 | valid_mse=0.22304,  valid_r2=0.76280\n",
      "alpha=0.47983 | valid_mse=0.23166,  valid_r2=0.75364\n",
      "alpha=0.48945 | valid_mse=0.24067,  valid_r2=0.74406\n",
      "alpha=0.49926 | valid_mse=0.25007,  valid_r2=0.73406\n",
      "alpha=0.50927 | valid_mse=0.25990,  valid_r2=0.72361\n",
      "alpha=0.51947 | valid_mse=0.27016,  valid_r2=0.71270\n",
      "alpha=0.52989 | valid_mse=0.28087,  valid_r2=0.70130\n",
      "alpha=0.54051 | valid_mse=0.29207,  valid_r2=0.68940\n",
      "alpha=0.55134 | valid_mse=0.30375,  valid_r2=0.67697\n",
      "alpha=0.56239 | valid_mse=0.31595,  valid_r2=0.66400\n",
      "alpha=0.57367 | valid_mse=0.32869,  valid_r2=0.65045\n",
      "alpha=0.58517 | valid_mse=0.34199,  valid_r2=0.63631\n",
      "alpha=0.59690 | valid_mse=0.35587,  valid_r2=0.62155\n",
      "alpha=0.60886 | valid_mse=0.37036,  valid_r2=0.60614\n",
      "alpha=0.62106 | valid_mse=0.38548,  valid_r2=0.59006\n",
      "alpha=0.63351 | valid_mse=0.40126,  valid_r2=0.57327\n",
      "alpha=0.64621 | valid_mse=0.41773,  valid_r2=0.55576\n",
      "alpha=0.65917 | valid_mse=0.43492,  valid_r2=0.53748\n",
      "alpha=0.67238 | valid_mse=0.45285,  valid_r2=0.51841\n",
      "alpha=0.68586 | valid_mse=0.47156,  valid_r2=0.49851\n",
      "alpha=0.69960 | valid_mse=0.49108,  valid_r2=0.47776\n",
      "alpha=0.71363 | valid_mse=0.51145,  valid_r2=0.45610\n",
      "alpha=0.72793 | valid_mse=0.53269,  valid_r2=0.43351\n",
      "alpha=0.74252 | valid_mse=0.55485,  valid_r2=0.40994\n",
      "alpha=0.75741 | valid_mse=0.57796,  valid_r2=0.38536\n",
      "alpha=0.77259 | valid_mse=0.60207,  valid_r2=0.35973\n",
      "alpha=0.78808 | valid_mse=0.62721,  valid_r2=0.33299\n",
      "alpha=0.80387 | valid_mse=0.65343,  valid_r2=0.30510\n",
      "alpha=0.81999 | valid_mse=0.68077,  valid_r2=0.27603\n",
      "alpha=0.83642 | valid_mse=0.70929,  valid_r2=0.24570\n",
      "alpha=0.85319 | valid_mse=0.73902,  valid_r2=0.21408\n",
      "alpha=0.87029 | valid_mse=0.77002,  valid_r2=0.18111\n",
      "alpha=0.88774 | valid_mse=0.80234,  valid_r2=0.14674\n",
      "alpha=0.90553 | valid_mse=0.83605,  valid_r2=0.11090\n",
      "alpha=0.92368 | valid_mse=0.87118,  valid_r2=0.07354\n",
      "alpha=0.94220 | valid_mse=0.90781,  valid_r2=0.03459\n",
      "alpha=0.96108 | valid_mse=0.94108,  valid_r2=-0.00079\n",
      "alpha=0.98035 | valid_mse=0.94108,  valid_r2=-0.00079\n",
      "alpha=1.00000 | valid_mse=0.94108,  valid_r2=-0.00079\n",
      "\n"
     ]
    }
   ],
   "source": [
    "# Perform grid search\n",
    "target_idx = 1\n",
    "data_out = 'data_lasso_05ResidentialBuilding'\n",
    "iterator = tqdm.notebook.tqdm(range(1, len(grid_alpha) + 1), desc='alpha-grid loop')\n",
    "for n in iterator:\n",
    "    irow = n-1\n",
    "    params['alpha'] = grid_alpha[irow]\n",
    "    log_reg = Lasso(**params).fit(xtrain, ytrain[:,target_idx])\n",
    "    \n",
    "    ypred = log_reg.predict(xvalid)\n",
    "    val_mse = mean_squared_error(yvalid[:,target_idx], ypred, squared=True)\n",
    "    val_r2  = r2_score(yvalid[:,target_idx], ypred)\n",
    "    \n",
    "    df_grid_loss.iloc[irow,:] = [params['alpha'], val_mse, val_r2]\n",
    "    print(\"alpha={:.5f} | valid_mse={:.5f},  valid_r2={:.5f}\".format(params['alpha'], \n",
    "                                                                     val_mse, \n",
    "                                                                     val_r2))\n",
    "# .save grid search results\n",
    "    df_grid_loss.to_csv(os.path.join(data_out, 'df_grid_loss02.csv'), index=None)"
   ]
  },
  {
   "cell_type": "code",
   "execution_count": 198,
   "metadata": {
    "ExecuteTime": {
     "end_time": "2021-02-10T09:17:39.101385Z",
     "start_time": "2021-02-10T09:17:39.096118Z"
    },
    "code_folding": [
     0
    ]
   },
   "outputs": [
    {
     "name": "stdout",
     "output_type": "stream",
     "text": [
      "Best parameters:\n",
      "- Best alpha = 0.00071\n",
      "- Best valid loss = 0.031988215\n"
     ]
    }
   ],
   "source": [
    "# Display grid search results\n",
    "data_out = 'data_lasso_05ResidentialBuilding'\n",
    "df_grid_loss = pd.read_csv(os.path.join(data_out, 'df_grid_loss02.csv'))\n",
    "\n",
    "idx = df_grid_loss.valid_mse.idxmin()\n",
    "best_alpha = df_grid_loss.iloc[idx, 0]\n",
    "best_mse   = df_grid_loss.iloc[idx, 1]\n",
    "print(\"Best parameters:\")\n",
    "print(\"- Best alpha = {:.5f}\".format(best_alpha))\n",
    "print(\"- Best valid loss = {}\".format(best_mse))"
   ]
  },
  {
   "cell_type": "code",
   "execution_count": 199,
   "metadata": {
    "ExecuteTime": {
     "end_time": "2021-02-10T09:17:41.482815Z",
     "start_time": "2021-02-10T09:17:41.390511Z"
    },
    "code_folding": [
     0
    ]
   },
   "outputs": [
    {
     "data": {
      "image/png": "[encoded data removed]",
      "text/plain": [
       "<Figure size 720x432 with 1 Axes>"
      ]
     },
     "metadata": {
      "needs_background": "light"
     },
     "output_type": "display_data"
    }
   ],
   "source": [
    "# Plot Loss vs point in grid search\n",
    "data_out = 'data_lasso_05ResidentialBuilding'\n",
    "df_grid_loss = pd.read_csv(os.path.join(data_out, 'df_grid_loss02.csv'))\n",
    "fig, axes = plt.subplots(figsize=(10,6))\n",
    "# axes.scatter(np.log10(df_grid_loss.alpha), df_grid_loss['valid_mse'], s=10)\n",
    "axes.plot(np.log10(df_grid_loss.alpha), df_grid_loss['valid_mse'], label='mse', linewidth=3)\n",
    "# axes.scatter(df_grid_loss.index, df_grid_loss['valid_r2'])\n",
    "# axes.plot(df_grid_loss.index, df_grid_loss['valid_r2'], label='r2')\n",
    "axes.set_xlabel(\"log10(alpha)\")\n",
    "axes.set_ylabel(\"Validation metric\")\n",
    "axes.legend()\n",
    "plt.show()"
   ]
  },
  {
   "cell_type": "code",
   "execution_count": 200,
   "metadata": {
    "ExecuteTime": {
     "end_time": "2021-02-10T09:17:45.245232Z",
     "start_time": "2021-02-10T09:17:45.203721Z"
    },
    "code_folding": [
     0
    ]
   },
   "outputs": [],
   "source": [
    "# Train with best hyperparameters\n",
    "target_idx = 1\n",
    "params['alpha'] = best_alpha\n",
    "log_reg = Lasso(**params).fit(xtrain, ytrain[:,target_idx])"
   ]
  },
  {
   "cell_type": "code",
   "execution_count": 201,
   "metadata": {
    "ExecuteTime": {
     "end_time": "2021-02-10T09:17:51.587411Z",
     "start_time": "2021-02-10T09:17:51.582637Z"
    },
    "code_folding": [
     0
    ]
   },
   "outputs": [
    {
     "name": "stdout",
     "output_type": "stream",
     "text": [
      "model saved at: 'data_lasso_05ResidentialBuilding/lasso_model02.pkl'\n",
      "best params saved at: 'data_lasso_05ResidentialBuilding/lasso_best_params02.json'\n"
     ]
    }
   ],
   "source": [
    "# Save model and model's best params\n",
    "data_out = 'data_lasso_05ResidentialBuilding'\n",
    "joblib.dump(log_reg, os.path.join(data_out, 'lasso_model02.pkl'))\n",
    "print(\"model saved at: '{}'\".format(os.path.join(data_out, 'lasso_model02.pkl')))\n",
    "\n",
    "best_params = {}\n",
    "best_params['alpha'] = best_alpha\n",
    "with open(os.path.join(data_out, 'lasso_best_params02.json'), 'w') as f:\n",
    "    json.dump(best_params, f)\n",
    "print(\"best params saved at: '{}'\".format(os.path.join(data_out, 'lasso_best_params02.json')))"
   ]
  },
  {
   "cell_type": "code",
   "execution_count": 202,
   "metadata": {
    "ExecuteTime": {
     "end_time": "2021-02-10T09:17:57.222192Z",
     "start_time": "2021-02-10T09:17:57.207661Z"
    },
    "code_folding": [
     0
    ]
   },
   "outputs": [
    {
     "name": "stdout",
     "output_type": "stream",
     "text": [
      "model results saved at: 'data_lasso_05ResidentialBuilding/results_target_lasso02.csv'\n"
     ]
    },
    {
     "data": {
      "text/html": [
       "<div>\n",
       "<style scoped>\n",
       "    .dataframe tbody tr th:only-of-type {\n",
       "        vertical-align: middle;\n",
       "    }\n",
       "\n",
       "    .dataframe tbody tr th {\n",
       "        vertical-align: top;\n",
       "    }\n",
       "\n",
       "    .dataframe thead th {\n",
       "        text-align: right;\n",
       "    }\n",
       "</style>\n",
       "<table border=\"1\" class=\"dataframe\">\n",
       "  <thead>\n",
       "    <tr style=\"text-align: right;\">\n",
       "      <th></th>\n",
       "      <th>mse</th>\n",
       "      <th>r2</th>\n",
       "    </tr>\n",
       "  </thead>\n",
       "  <tbody>\n",
       "    <tr>\n",
       "      <th>train</th>\n",
       "      <td>0.0192427</td>\n",
       "      <td>0.980757</td>\n",
       "    </tr>\n",
       "    <tr>\n",
       "      <th>valid</th>\n",
       "      <td>0.0319882</td>\n",
       "      <td>0.965982</td>\n",
       "    </tr>\n",
       "    <tr>\n",
       "      <th>test</th>\n",
       "      <td>0.0457201</td>\n",
       "      <td>0.961424</td>\n",
       "    </tr>\n",
       "  </tbody>\n",
       "</table>\n",
       "</div>"
      ],
      "text/plain": [
       "             mse        r2\n",
       "train  0.0192427  0.980757\n",
       "valid  0.0319882  0.965982\n",
       "test   0.0457201  0.961424"
      ]
     },
     "execution_count": 202,
     "metadata": {},
     "output_type": "execute_result"
    }
   ],
   "source": [
    "# Find MSE, R2, Accuracy, etc...\n",
    "target_idx = 1\n",
    "data_out = 'data_lasso_05ResidentialBuilding'\n",
    "model = joblib.load(os.path.join(data_out, 'lasso_model02.pkl'))\n",
    "\n",
    "df_results = pd.DataFrame(index=['train', 'valid', 'test'], \n",
    "                           columns=['mse', 'r2'])\n",
    "\n",
    "ypred = model.predict(xtrain)\n",
    "df_results.loc['train', 'mse'] = mean_squared_error(ytrain[:,target_idx], ypred, squared=True)\n",
    "df_results.loc['train', 'r2']   = r2_score(ytrain[:,target_idx], ypred)\n",
    "\n",
    "ypred = model.predict(xvalid)\n",
    "df_results.loc['valid', 'mse'] = mean_squared_error(yvalid[:,target_idx], ypred, squared=True)\n",
    "df_results.loc['valid', 'r2']   = r2_score(yvalid[:,target_idx], ypred)\n",
    "\n",
    "ypred = model.predict(xtest)\n",
    "df_results.loc['test', 'mse'] = mean_squared_error(ytest[:,target_idx], ypred, squared=True)\n",
    "df_results.loc['test', 'r2']   = r2_score(ytest[:,target_idx], ypred)\n",
    "\n",
    "# Save data\n",
    "df_results.to_csv(os.path.join(data_out, 'results_target_lasso02.csv'), index=True)\n",
    "print(\"model results saved at: '{}'\".format(os.path.join(data_out, 'results_target_lasso02.csv')))\n",
    "df_results.head()"
   ]
  },
  {
   "cell_type": "code",
   "execution_count": 204,
   "metadata": {
    "ExecuteTime": {
     "end_time": "2021-02-10T09:18:54.360149Z",
     "start_time": "2021-02-10T09:18:46.760294Z"
    },
    "code_folding": [
     0
    ]
   },
   "outputs": [
    {
     "data": {
      "application/vnd.jupyter.widget-view+json": {
       "model_id": "9e84533693fb41689037c9bf0dde2f16",
       "version_major": 2,
       "version_minor": 0
      },
      "text/plain": [
       "HBox(children=(HTML(value='Partitions loop'), FloatProgress(value=0.0), HTML(value='')))"
      ]
     },
     "metadata": {},
     "output_type": "display_data"
    },
    {
     "name": "stdout",
     "output_type": "stream",
     "text": [
      "\n"
     ]
    }
   ],
   "source": [
    "# Find Accuracy +/- STD\n",
    "target_idx = 1\n",
    "data_out = 'data_lasso_05ResidentialBuilding/partitions'\n",
    "df_results = pd.DataFrame(columns=['train_mse', 'valid_mse', 'test_mse', \\\n",
    "                                   'train_r2', 'valid_r2', 'test_r2'])\n",
    "\n",
    "model = joblib.load('data_lasso_05ResidentialBuilding/lasso_model02.pkl')\n",
    "\n",
    "partitions = 100\n",
    "iterator = tqdm.notebook.tqdm(range(1, partitions + 1), desc='Partitions loop')\n",
    "for n in iterator:\n",
    "    X = pd.read_csv('dataset_05ResidentialBuilding/X.csv')\n",
    "    y = pd.read_csv('dataset_05ResidentialBuilding/y.csv')\n",
    "    split_data(X, y, seed1=seed1[n], seed2=seed2[n])\n",
    "    \n",
    "# .normalize data sets\n",
    "    scaler = StandardScaler()\n",
    "    scaler.fit(xtrain)\n",
    "    xtrain = scaler.transform(xtrain)\n",
    "    xvalid = scaler.transform(xvalid)\n",
    "    xtest  = scaler.transform(xtest)\n",
    "    \n",
    "    scaler = StandardScaler()\n",
    "    scaler.fit(ytrain)\n",
    "    ytrain = scaler.transform(ytrain)\n",
    "    yvalid = scaler.transform(yvalid)\n",
    "    ytest  = scaler.transform(ytest)\n",
    "    \n",
    "# .train model\n",
    "    model.fit(xtrain, ytrain[:,target_idx])\n",
    "    \n",
    "# .compute/save accuracy\n",
    "    ypred = model.predict(xtrain)\n",
    "    df_results.loc[n, 'train_mse'] = mean_squared_error(ytrain[:,target_idx], ypred, squared=True)\n",
    "    df_results.loc[n, 'train_r2']   = r2_score(ytrain[:,target_idx], ypred)\n",
    "\n",
    "    ypred = model.predict(xvalid)\n",
    "    df_results.loc[n, 'valid_mse'] = mean_squared_error(yvalid[:,target_idx], ypred, squared=True)\n",
    "    df_results.loc[n, 'valid_r2']   = r2_score(yvalid[:,target_idx], ypred)\n",
    "\n",
    "    ypred = model.predict(xtest)\n",
    "    df_results.loc[n, 'test_mse'] = mean_squared_error(ytest[:,target_idx], ypred, squared=True)\n",
    "    df_results.loc[n, 'test_r2']   = r2_score(ytest[:,target_idx], ypred)\n",
    "\n",
    "    joblib.dump(model, os.path.join(data_out, 'lasso_model02_'+str(n)+'.pkl'))\n",
    "    df_results.to_csv('data_lasso_05ResidentialBuilding/accuracy_lasso02.csv', index=True)"
   ]
  },
  {
   "cell_type": "code",
   "execution_count": 205,
   "metadata": {
    "ExecuteTime": {
     "end_time": "2021-02-10T09:20:08.898747Z",
     "start_time": "2021-02-10T09:20:08.890882Z"
    },
    "code_folding": [
     0
    ]
   },
   "outputs": [
    {
     "name": "stdout",
     "output_type": "stream",
     "text": [
      "Train mse = 0.01752 +/- 0.00456\n",
      "Valid mse = 0.04566 +/- 0.02597\n",
      "Test mse = 0.04218 +/- 0.02413\n",
      "\n",
      "Train r2 = 0.98248 +/- 0.00456\n",
      "Valid r2 = 0.95696 +/- 0.01824\n",
      "Test r2 = 0.95922 +/- 0.01951\n"
     ]
    }
   ],
   "source": [
    "# Display results\n",
    "data_out = 'data_lasso_05ResidentialBuilding'\n",
    "accuracy = pd.read_csv(os.path.join(data_out, 'accuracy_lasso02.csv'))\n",
    "print(\"Train mse = {:.5f} +/- {:.5f}\".format(accuracy['train_mse'].mean(), \n",
    "                                              accuracy['train_mse'].std()))\n",
    "print(\"Valid mse = {:.5f} +/- {:.5f}\".format(accuracy['valid_mse'].mean(), \n",
    "                                              accuracy['valid_mse'].std()))\n",
    "print(\"Test mse = {:.5f} +/- {:.5f}\".format(accuracy['test_mse'].mean(), \n",
    "                                             accuracy['test_mse'].std()))\n",
    "\n",
    "print(\"\")\n",
    "print(\"Train r2 = {:.5f} +/- {:.5f}\".format(accuracy['train_r2'].mean(), \n",
    "                                            accuracy['train_r2'].std()))\n",
    "print(\"Valid r2 = {:.5f} +/- {:.5f}\".format(accuracy['valid_r2'].mean(), \n",
    "                                            accuracy['valid_r2'].std()))\n",
    "print(\"Test r2 = {:.5f} +/- {:.5f}\".format(accuracy['test_r2'].mean(), \n",
    "                                           accuracy['test_r2'].std()))"
   ]
  },
  {
   "cell_type": "markdown",
   "metadata": {},
   "source": [
    "### Gradient Boosting"
   ]
  },
  {
   "cell_type": "code",
   "execution_count": 243,
   "metadata": {
    "ExecuteTime": {
     "end_time": "2021-02-10T10:01:11.632858Z",
     "start_time": "2021-02-10T10:01:11.592177Z"
    },
    "code_folding": [
     0
    ]
   },
   "outputs": [],
   "source": [
    "# Load data\n",
    "load_data('dataset_05ResidentialBuilding')\n",
    "\n",
    "# transform tensors to NumPy arrays\n",
    "xtrain = xtrain.numpy()\n",
    "xvalid = xvalid.numpy()\n",
    "xtest = xtest.numpy()\n",
    "\n",
    "ytrain = ytrain.numpy()\n",
    "yvalid = yvalid.numpy()\n",
    "ytest = ytest.numpy()"
   ]
  },
  {
   "cell_type": "code",
   "execution_count": 244,
   "metadata": {
    "ExecuteTime": {
     "end_time": "2021-02-10T10:01:13.476836Z",
     "start_time": "2021-02-10T10:01:13.471081Z"
    },
    "code_folding": [
     0
    ]
   },
   "outputs": [],
   "source": [
    "# Normalize data\n",
    "scaler = StandardScaler()\n",
    "scaler.fit(xtrain)\n",
    "xtrain = scaler.transform(xtrain)\n",
    "xvalid = scaler.transform(xvalid)\n",
    "xtest  = scaler.transform(xtest)\n",
    "\n",
    "scaler = StandardScaler()\n",
    "scaler.fit(ytrain)\n",
    "ytrain = scaler.transform(ytrain)\n",
    "yvalid = scaler.transform(yvalid)\n",
    "ytest  = scaler.transform(ytest)"
   ]
  },
  {
   "cell_type": "markdown",
   "metadata": {},
   "source": [
    "#### Target 2: xgb native api"
   ]
  },
  {
   "cell_type": "code",
   "execution_count": 245,
   "metadata": {
    "ExecuteTime": {
     "end_time": "2021-02-10T10:01:19.505661Z",
     "start_time": "2021-02-10T10:01:19.500473Z"
    },
    "code_folding": [
     0
    ]
   },
   "outputs": [],
   "source": [
    "# Build DMatrices\n",
    "target_idx = 1\n",
    "dtrain = xgb.DMatrix(data=xtrain, label=ytrain[:,target_idx], nthread=10, feature_names=cols_all)\n",
    "dvalid = xgb.DMatrix(data=xvalid, label=yvalid[:,target_idx], nthread=10, feature_names=cols_all)\n",
    "dtest  = xgb.DMatrix(data=xtest,  label=ytest[:,target_idx],  nthread=10, feature_names=cols_all)\n",
    "\n",
    "valid_list = [(dtrain, 'train'), (dvalid, 'valid')]"
   ]
  },
  {
   "cell_type": "code",
   "execution_count": 228,
   "metadata": {
    "ExecuteTime": {
     "end_time": "2021-02-10T09:48:21.332471Z",
     "start_time": "2021-02-10T09:48:21.328478Z"
    },
    "code_folding": [
     0
    ]
   },
   "outputs": [],
   "source": [
    "# Grid search space\n",
    "grid_eta   = np.geomspace(0.01, 1.0, num=200)\n",
    "grid_depth = [1, 2, 3, 4, 5]\n",
    "grid_param = [(eta, max_depth) for eta in grid_eta\n",
    "                               for max_depth in grid_depth]\n",
    "\n",
    "param = [('eta', 0.01), \n",
    "         ('max_depth', 2), \n",
    "         ('objective', 'reg:squarederror'), \n",
    "         ('nthread', 10),\n",
    "         ('eval_metric', 'rmse')\n",
    "]"
   ]
  },
  {
   "cell_type": "code",
   "execution_count": 229,
   "metadata": {
    "ExecuteTime": {
     "end_time": "2021-02-10T09:50:46.195058Z",
     "start_time": "2021-02-10T09:48:29.102711Z"
    },
    "code_folding": [
     0
    ],
    "scrolled": true
   },
   "outputs": [
    {
     "name": "stdout",
     "output_type": "stream",
     "text": [
      "eta=0.01000, max_depth=1 | valid_loss=0.16524 (iters=1749)\n",
      "eta=0.01000, max_depth=2 | valid_loss=0.16138 (iters=1055)\n",
      "eta=0.01000, max_depth=3 | valid_loss=0.15699 (iters=1155)\n",
      "eta=0.01000, max_depth=4 | valid_loss=0.16281 (iters=1129)\n",
      "eta=0.01000, max_depth=5 | valid_loss=0.17250 (iters=871)\n",
      "eta=0.01023, max_depth=1 | valid_loss=0.16553 (iters=1725)\n",
      "eta=0.01023, max_depth=2 | valid_loss=0.15729 (iters=1503)\n",
      "eta=0.01023, max_depth=3 | valid_loss=0.15782 (iters=820)\n",
      "eta=0.01023, max_depth=4 | valid_loss=0.16288 (iters=1067)\n",
      "eta=0.01023, max_depth=5 | valid_loss=0.17327 (iters=1074)\n",
      "eta=0.01047, max_depth=1 | valid_loss=0.16551 (iters=1670)\n",
      "eta=0.01047, max_depth=2 | valid_loss=0.15807 (iters=1361)\n",
      "eta=0.01047, max_depth=3 | valid_loss=0.15656 (iters=1120)\n",
      "eta=0.01047, max_depth=4 | valid_loss=0.16252 (iters=1182)\n",
      "eta=0.01047, max_depth=5 | valid_loss=0.17381 (iters=754)\n",
      "eta=0.01072, max_depth=1 | valid_loss=0.16559 (iters=1608)\n",
      "eta=0.01072, max_depth=2 | valid_loss=0.15823 (iters=1349)\n",
      "eta=0.01072, max_depth=3 | valid_loss=0.15740 (iters=1173)\n",
      "eta=0.01072, max_depth=4 | valid_loss=0.16163 (iters=1128)\n",
      "eta=0.01072, max_depth=5 | valid_loss=0.17322 (iters=750)\n",
      "eta=0.01097, max_depth=1 | valid_loss=0.16547 (iters=1598)\n",
      "eta=0.01097, max_depth=2 | valid_loss=0.15743 (iters=1395)\n",
      "eta=0.01097, max_depth=3 | valid_loss=0.15750 (iters=1114)\n",
      "eta=0.01097, max_depth=4 | valid_loss=0.16312 (iters=1022)\n",
      "eta=0.01097, max_depth=5 | valid_loss=0.17341 (iters=726)\n",
      "eta=0.01123, max_depth=1 | valid_loss=0.16548 (iters=1565)\n",
      "eta=0.01123, max_depth=2 | valid_loss=0.15732 (iters=1352)\n",
      "eta=0.01123, max_depth=3 | valid_loss=0.16179 (iters=783)\n",
      "eta=0.01123, max_depth=4 | valid_loss=0.16290 (iters=997)\n",
      "eta=0.01123, max_depth=5 | valid_loss=0.17206 (iters=985)\n",
      "eta=0.01149, max_depth=1 | valid_loss=0.16540 (iters=1528)\n",
      "eta=0.01149, max_depth=2 | valid_loss=0.15787 (iters=1210)\n",
      "eta=0.01149, max_depth=3 | valid_loss=0.15738 (iters=1139)\n",
      "eta=0.01149, max_depth=4 | valid_loss=0.16366 (iters=933)\n",
      "eta=0.01149, max_depth=5 | valid_loss=0.17363 (iters=1043)\n",
      "eta=0.01176, max_depth=1 | valid_loss=0.16562 (iters=1444)\n",
      "eta=0.01176, max_depth=2 | valid_loss=0.15714 (iters=1297)\n",
      "eta=0.01176, max_depth=3 | valid_loss=0.15686 (iters=997)\n",
      "eta=0.01176, max_depth=4 | valid_loss=0.16239 (iters=1054)\n",
      "eta=0.01176, max_depth=5 | valid_loss=0.17357 (iters=740)\n",
      "eta=0.01203, max_depth=1 | valid_loss=0.16523 (iters=1465)\n",
      "eta=0.01203, max_depth=2 | valid_loss=0.15829 (iters=1202)\n",
      "eta=0.01203, max_depth=3 | valid_loss=0.15794 (iters=955)\n",
      "eta=0.01203, max_depth=4 | valid_loss=0.16516 (iters=768)\n",
      "eta=0.01203, max_depth=5 | valid_loss=0.17378 (iters=620)\n",
      "eta=0.01232, max_depth=1 | valid_loss=0.16548 (iters=1398)\n",
      "eta=0.01232, max_depth=2 | valid_loss=0.16198 (iters=872)\n",
      "eta=0.01232, max_depth=3 | valid_loss=0.15454 (iters=1009)\n",
      "eta=0.01232, max_depth=4 | valid_loss=0.16851 (iters=548)\n",
      "eta=0.01232, max_depth=5 | valid_loss=0.17275 (iters=635)\n",
      "eta=0.01260, max_depth=1 | valid_loss=0.16545 (iters=1414)\n",
      "eta=0.01260, max_depth=2 | valid_loss=0.15736 (iters=1232)\n",
      "eta=0.01260, max_depth=3 | valid_loss=0.15760 (iters=970)\n",
      "eta=0.01260, max_depth=4 | valid_loss=0.16473 (iters=909)\n",
      "eta=0.01260, max_depth=5 | valid_loss=0.17329 (iters=696)\n",
      "eta=0.01290, max_depth=1 | valid_loss=0.16589 (iters=1369)\n",
      "eta=0.01290, max_depth=2 | valid_loss=0.15810 (iters=1172)\n",
      "eta=0.01290, max_depth=3 | valid_loss=0.15911 (iters=703)\n",
      "eta=0.01290, max_depth=4 | valid_loss=0.16313 (iters=959)\n",
      "eta=0.01290, max_depth=5 | valid_loss=0.17424 (iters=643)\n",
      "eta=0.01320, max_depth=1 | valid_loss=0.16542 (iters=1286)\n",
      "eta=0.01320, max_depth=2 | valid_loss=0.15787 (iters=1184)\n",
      "eta=0.01320, max_depth=3 | valid_loss=0.15865 (iters=859)\n",
      "eta=0.01320, max_depth=4 | valid_loss=0.16349 (iters=1015)\n",
      "eta=0.01320, max_depth=5 | valid_loss=0.17357 (iters=622)\n",
      "eta=0.01351, max_depth=1 | valid_loss=0.16466 (iters=1325)\n",
      "eta=0.01351, max_depth=2 | valid_loss=0.16206 (iters=784)\n",
      "eta=0.01351, max_depth=3 | valid_loss=0.15752 (iters=903)\n",
      "eta=0.01351, max_depth=4 | valid_loss=0.16326 (iters=886)\n",
      "eta=0.01351, max_depth=5 | valid_loss=0.17389 (iters=553)\n",
      "eta=0.01383, max_depth=1 | valid_loss=0.16521 (iters=1299)\n",
      "eta=0.01383, max_depth=2 | valid_loss=0.15727 (iters=1087)\n",
      "eta=0.01383, max_depth=3 | valid_loss=0.15989 (iters=629)\n",
      "eta=0.01383, max_depth=4 | valid_loss=0.16089 (iters=922)\n",
      "eta=0.01383, max_depth=5 | valid_loss=0.17404 (iters=574)\n",
      "eta=0.01415, max_depth=1 | valid_loss=0.16598 (iters=1214)\n",
      "eta=0.01415, max_depth=2 | valid_loss=0.15796 (iters=1014)\n",
      "eta=0.01415, max_depth=3 | valid_loss=0.15724 (iters=841)\n",
      "eta=0.01415, max_depth=4 | valid_loss=0.16584 (iters=671)\n",
      "eta=0.01415, max_depth=5 | valid_loss=0.17408 (iters=617)\n",
      "eta=0.01448, max_depth=1 | valid_loss=0.16589 (iters=1157)\n",
      "eta=0.01448, max_depth=2 | valid_loss=0.15735 (iters=1090)\n",
      "eta=0.01448, max_depth=3 | valid_loss=0.15423 (iters=841)\n",
      "eta=0.01448, max_depth=4 | valid_loss=0.16357 (iters=751)\n",
      "eta=0.01448, max_depth=5 | valid_loss=0.17397 (iters=580)\n",
      "eta=0.01482, max_depth=1 | valid_loss=0.16531 (iters=1208)\n",
      "eta=0.01482, max_depth=2 | valid_loss=0.16088 (iters=728)\n",
      "eta=0.01482, max_depth=3 | valid_loss=0.15821 (iters=754)\n",
      "eta=0.01482, max_depth=4 | valid_loss=0.16443 (iters=758)\n",
      "eta=0.01482, max_depth=5 | valid_loss=0.17290 (iters=558)\n",
      "eta=0.01517, max_depth=1 | valid_loss=0.16531 (iters=1171)\n",
      "eta=0.01517, max_depth=2 | valid_loss=0.15731 (iters=969)\n",
      "eta=0.01517, max_depth=3 | valid_loss=0.15727 (iters=772)\n",
      "eta=0.01517, max_depth=4 | valid_loss=0.16358 (iters=771)\n",
      "eta=0.01517, max_depth=5 | valid_loss=0.17321 (iters=567)\n",
      "eta=0.01552, max_depth=1 | valid_loss=0.16572 (iters=1119)\n",
      "eta=0.01552, max_depth=2 | valid_loss=0.15866 (iters=1007)\n",
      "eta=0.01552, max_depth=3 | valid_loss=0.15635 (iters=881)\n",
      "eta=0.01552, max_depth=4 | valid_loss=0.16355 (iters=770)\n",
      "eta=0.01552, max_depth=5 | valid_loss=0.17351 (iters=623)\n",
      "eta=0.01589, max_depth=1 | valid_loss=0.16522 (iters=1094)\n",
      "eta=0.01589, max_depth=2 | valid_loss=0.15797 (iters=987)\n",
      "eta=0.01589, max_depth=3 | valid_loss=0.15615 (iters=729)\n",
      "eta=0.01589, max_depth=4 | valid_loss=0.16253 (iters=736)\n",
      "eta=0.01589, max_depth=5 | valid_loss=0.17247 (iters=686)\n",
      "eta=0.01626, max_depth=1 | valid_loss=0.16556 (iters=1093)\n",
      "eta=0.01626, max_depth=2 | valid_loss=0.15745 (iters=950)\n",
      "eta=0.01626, max_depth=3 | valid_loss=0.15733 (iters=811)\n",
      "eta=0.01626, max_depth=4 | valid_loss=0.16487 (iters=752)\n",
      "eta=0.01626, max_depth=5 | valid_loss=0.17422 (iters=487)\n",
      "eta=0.01664, max_depth=1 | valid_loss=0.16542 (iters=1052)\n",
      "eta=0.01664, max_depth=2 | valid_loss=0.16194 (iters=630)\n",
      "eta=0.01664, max_depth=3 | valid_loss=0.15846 (iters=678)\n",
      "eta=0.01664, max_depth=4 | valid_loss=0.16253 (iters=881)\n",
      "eta=0.01664, max_depth=5 | valid_loss=0.17296 (iters=697)\n",
      "eta=0.01703, max_depth=1 | valid_loss=0.16557 (iters=1053)\n",
      "eta=0.01703, max_depth=2 | valid_loss=0.16313 (iters=625)\n",
      "eta=0.01703, max_depth=3 | valid_loss=0.15936 (iters=539)\n",
      "eta=0.01703, max_depth=4 | valid_loss=0.16359 (iters=671)\n",
      "eta=0.01703, max_depth=5 | valid_loss=0.17419 (iters=501)\n",
      "eta=0.01743, max_depth=1 | valid_loss=0.16525 (iters=1046)\n",
      "eta=0.01743, max_depth=2 | valid_loss=0.15862 (iters=880)\n",
      "eta=0.01743, max_depth=3 | valid_loss=0.15789 (iters=697)\n",
      "eta=0.01743, max_depth=4 | valid_loss=0.16308 (iters=645)\n",
      "eta=0.01743, max_depth=5 | valid_loss=0.17304 (iters=615)\n",
      "eta=0.01783, max_depth=1 | valid_loss=0.16520 (iters=989)\n",
      "eta=0.01783, max_depth=2 | valid_loss=0.15799 (iters=874)\n",
      "eta=0.01783, max_depth=3 | valid_loss=0.15874 (iters=533)\n",
      "eta=0.01783, max_depth=4 | valid_loss=0.16404 (iters=632)\n",
      "eta=0.01783, max_depth=5 | valid_loss=0.17393 (iters=478)\n",
      "eta=0.01825, max_depth=1 | valid_loss=0.16557 (iters=950)\n",
      "eta=0.01825, max_depth=2 | valid_loss=0.15663 (iters=817)\n",
      "eta=0.01825, max_depth=3 | valid_loss=0.16094 (iters=508)\n",
      "eta=0.01825, max_depth=4 | valid_loss=0.16429 (iters=555)\n",
      "eta=0.01825, max_depth=5 | valid_loss=0.17367 (iters=422)\n",
      "eta=0.01868, max_depth=1 | valid_loss=0.16550 (iters=926)\n",
      "eta=0.01868, max_depth=2 | valid_loss=0.15753 (iters=798)\n",
      "eta=0.01868, max_depth=3 | valid_loss=0.15619 (iters=687)\n",
      "eta=0.01868, max_depth=4 | valid_loss=0.16439 (iters=585)\n",
      "eta=0.01868, max_depth=5 | valid_loss=0.17372 (iters=419)\n",
      "eta=0.01912, max_depth=1 | valid_loss=0.16492 (iters=977)\n"
     ]
    },
    {
     "name": "stdout",
     "output_type": "stream",
     "text": [
      "eta=0.01912, max_depth=2 | valid_loss=0.15623 (iters=776)\n",
      "eta=0.01912, max_depth=3 | valid_loss=0.16104 (iters=459)\n",
      "eta=0.01912, max_depth=4 | valid_loss=0.16141 (iters=731)\n",
      "eta=0.01912, max_depth=5 | valid_loss=0.17238 (iters=624)\n",
      "eta=0.01956, max_depth=1 | valid_loss=0.16476 (iters=903)\n",
      "eta=0.01956, max_depth=2 | valid_loss=0.15740 (iters=784)\n",
      "eta=0.01956, max_depth=3 | valid_loss=0.15445 (iters=625)\n",
      "eta=0.01956, max_depth=4 | valid_loss=0.16234 (iters=583)\n",
      "eta=0.01956, max_depth=5 | valid_loss=0.17291 (iters=396)\n",
      "eta=0.02002, max_depth=1 | valid_loss=0.16514 (iters=934)\n",
      "eta=0.02002, max_depth=2 | valid_loss=0.15650 (iters=748)\n",
      "eta=0.02002, max_depth=3 | valid_loss=0.15545 (iters=644)\n",
      "eta=0.02002, max_depth=4 | valid_loss=0.16523 (iters=706)\n",
      "eta=0.02002, max_depth=5 | valid_loss=0.17169 (iters=556)\n",
      "eta=0.02049, max_depth=1 | valid_loss=0.16604 (iters=842)\n",
      "eta=0.02049, max_depth=2 | valid_loss=0.15849 (iters=721)\n",
      "eta=0.02049, max_depth=3 | valid_loss=0.16159 (iters=416)\n",
      "eta=0.02049, max_depth=4 | valid_loss=0.16334 (iters=591)\n",
      "eta=0.02049, max_depth=5 | valid_loss=0.17367 (iters=379)\n",
      "eta=0.02097, max_depth=1 | valid_loss=0.16597 (iters=871)\n",
      "eta=0.02097, max_depth=2 | valid_loss=0.15646 (iters=715)\n",
      "eta=0.02097, max_depth=3 | valid_loss=0.15483 (iters=590)\n",
      "eta=0.02097, max_depth=4 | valid_loss=0.16388 (iters=578)\n",
      "eta=0.02097, max_depth=5 | valid_loss=0.17460 (iters=418)\n",
      "eta=0.02146, max_depth=1 | valid_loss=0.16502 (iters=833)\n",
      "eta=0.02146, max_depth=2 | valid_loss=0.15737 (iters=678)\n",
      "eta=0.02146, max_depth=3 | valid_loss=0.15600 (iters=613)\n",
      "eta=0.02146, max_depth=4 | valid_loss=0.16376 (iters=577)\n",
      "eta=0.02146, max_depth=5 | valid_loss=0.17325 (iters=487)\n",
      "eta=0.02196, max_depth=1 | valid_loss=0.16572 (iters=762)\n",
      "eta=0.02196, max_depth=2 | valid_loss=0.16007 (iters=688)\n",
      "eta=0.02196, max_depth=3 | valid_loss=0.15517 (iters=760)\n",
      "eta=0.02196, max_depth=4 | valid_loss=0.16178 (iters=730)\n",
      "eta=0.02196, max_depth=5 | valid_loss=0.17220 (iters=469)\n",
      "eta=0.02248, max_depth=1 | valid_loss=0.16519 (iters=760)\n",
      "eta=0.02248, max_depth=2 | valid_loss=0.15771 (iters=696)\n",
      "eta=0.02248, max_depth=3 | valid_loss=0.15282 (iters=632)\n",
      "eta=0.02248, max_depth=4 | valid_loss=0.16225 (iters=651)\n",
      "eta=0.02248, max_depth=5 | valid_loss=0.17388 (iters=364)\n",
      "eta=0.02300, max_depth=1 | valid_loss=0.16528 (iters=745)\n",
      "eta=0.02300, max_depth=2 | valid_loss=0.15771 (iters=650)\n",
      "eta=0.02300, max_depth=3 | valid_loss=0.15394 (iters=613)\n",
      "eta=0.02300, max_depth=4 | valid_loss=0.16262 (iters=541)\n",
      "eta=0.02300, max_depth=5 | valid_loss=0.17319 (iters=360)\n",
      "eta=0.02354, max_depth=1 | valid_loss=0.16570 (iters=747)\n",
      "eta=0.02354, max_depth=2 | valid_loss=0.15746 (iters=652)\n",
      "eta=0.02354, max_depth=3 | valid_loss=0.15517 (iters=546)\n",
      "eta=0.02354, max_depth=4 | valid_loss=0.16285 (iters=545)\n",
      "eta=0.02354, max_depth=5 | valid_loss=0.17331 (iters=367)\n",
      "eta=0.02409, max_depth=1 | valid_loss=0.16512 (iters=734)\n",
      "eta=0.02409, max_depth=2 | valid_loss=0.16170 (iters=428)\n",
      "eta=0.02409, max_depth=3 | valid_loss=0.15701 (iters=488)\n",
      "eta=0.02409, max_depth=4 | valid_loss=0.16404 (iters=580)\n",
      "eta=0.02409, max_depth=5 | valid_loss=0.17447 (iters=344)\n",
      "eta=0.02466, max_depth=1 | valid_loss=0.16547 (iters=679)\n",
      "eta=0.02466, max_depth=2 | valid_loss=0.15608 (iters=646)\n",
      "eta=0.02466, max_depth=3 | valid_loss=0.15599 (iters=380)\n",
      "eta=0.02466, max_depth=4 | valid_loss=0.16270 (iters=549)\n",
      "eta=0.02466, max_depth=5 | valid_loss=0.17389 (iters=318)\n",
      "eta=0.02524, max_depth=1 | valid_loss=0.16597 (iters=646)\n",
      "eta=0.02524, max_depth=2 | valid_loss=0.15802 (iters=585)\n",
      "eta=0.02524, max_depth=3 | valid_loss=0.15645 (iters=496)\n",
      "eta=0.02524, max_depth=4 | valid_loss=0.16098 (iters=602)\n",
      "eta=0.02524, max_depth=5 | valid_loss=0.17235 (iters=412)\n",
      "eta=0.02583, max_depth=1 | valid_loss=0.16600 (iters=675)\n",
      "eta=0.02583, max_depth=2 | valid_loss=0.16339 (iters=412)\n",
      "eta=0.02583, max_depth=3 | valid_loss=0.15714 (iters=436)\n",
      "eta=0.02583, max_depth=4 | valid_loss=0.16560 (iters=466)\n",
      "eta=0.02583, max_depth=5 | valid_loss=0.17403 (iters=287)\n",
      "eta=0.02643, max_depth=1 | valid_loss=0.16549 (iters=673)\n",
      "eta=0.02643, max_depth=2 | valid_loss=0.15719 (iters=583)\n",
      "eta=0.02643, max_depth=3 | valid_loss=0.15688 (iters=352)\n",
      "eta=0.02643, max_depth=4 | valid_loss=0.16463 (iters=452)\n",
      "eta=0.02643, max_depth=5 | valid_loss=0.17377 (iters=297)\n",
      "eta=0.02705, max_depth=1 | valid_loss=0.16585 (iters=633)\n",
      "eta=0.02705, max_depth=2 | valid_loss=0.15606 (iters=542)\n",
      "eta=0.02705, max_depth=3 | valid_loss=0.15519 (iters=616)\n",
      "eta=0.02705, max_depth=4 | valid_loss=0.16481 (iters=368)\n",
      "eta=0.02705, max_depth=5 | valid_loss=0.17262 (iters=415)\n",
      "eta=0.02768, max_depth=1 | valid_loss=0.16538 (iters=647)\n",
      "eta=0.02768, max_depth=2 | valid_loss=0.15775 (iters=509)\n",
      "eta=0.02768, max_depth=3 | valid_loss=0.15316 (iters=527)\n",
      "eta=0.02768, max_depth=4 | valid_loss=0.16318 (iters=518)\n",
      "eta=0.02768, max_depth=5 | valid_loss=0.17114 (iters=377)\n",
      "eta=0.02833, max_depth=1 | valid_loss=0.16425 (iters=650)\n",
      "eta=0.02833, max_depth=2 | valid_loss=0.15589 (iters=520)\n",
      "eta=0.02833, max_depth=3 | valid_loss=0.15671 (iters=422)\n",
      "eta=0.02833, max_depth=4 | valid_loss=0.16415 (iters=446)\n",
      "eta=0.02833, max_depth=5 | valid_loss=0.17287 (iters=263)\n",
      "eta=0.02899, max_depth=1 | valid_loss=0.16553 (iters=625)\n",
      "eta=0.02899, max_depth=2 | valid_loss=0.15621 (iters=540)\n",
      "eta=0.02899, max_depth=3 | valid_loss=0.15800 (iters=394)\n",
      "eta=0.02899, max_depth=4 | valid_loss=0.16323 (iters=425)\n",
      "eta=0.02899, max_depth=5 | valid_loss=0.17436 (iters=266)\n",
      "eta=0.02967, max_depth=1 | valid_loss=0.16552 (iters=595)\n",
      "eta=0.02967, max_depth=2 | valid_loss=0.15801 (iters=503)\n",
      "eta=0.02967, max_depth=3 | valid_loss=0.15689 (iters=415)\n",
      "eta=0.02967, max_depth=4 | valid_loss=0.16282 (iters=430)\n",
      "eta=0.02967, max_depth=5 | valid_loss=0.17269 (iters=295)\n",
      "eta=0.03037, max_depth=1 | valid_loss=0.16490 (iters=588)\n",
      "eta=0.03037, max_depth=2 | valid_loss=0.16029 (iters=336)\n",
      "eta=0.03037, max_depth=3 | valid_loss=0.15677 (iters=395)\n",
      "eta=0.03037, max_depth=4 | valid_loss=0.16490 (iters=456)\n",
      "eta=0.03037, max_depth=5 | valid_loss=0.17048 (iters=370)\n",
      "eta=0.03108, max_depth=1 | valid_loss=0.16526 (iters=574)\n",
      "eta=0.03108, max_depth=2 | valid_loss=0.15724 (iters=460)\n",
      "eta=0.03108, max_depth=3 | valid_loss=0.15596 (iters=380)\n",
      "eta=0.03108, max_depth=4 | valid_loss=0.16281 (iters=518)\n",
      "eta=0.03108, max_depth=5 | valid_loss=0.17051 (iters=291)\n",
      "eta=0.03181, max_depth=1 | valid_loss=0.16474 (iters=522)\n",
      "eta=0.03181, max_depth=2 | valid_loss=0.15941 (iters=475)\n",
      "eta=0.03181, max_depth=3 | valid_loss=0.15608 (iters=440)\n",
      "eta=0.03181, max_depth=4 | valid_loss=0.16610 (iters=341)\n",
      "eta=0.03181, max_depth=5 | valid_loss=0.17257 (iters=326)\n",
      "eta=0.03255, max_depth=1 | valid_loss=0.16390 (iters=523)\n",
      "eta=0.03255, max_depth=2 | valid_loss=0.15711 (iters=467)\n",
      "eta=0.03255, max_depth=3 | valid_loss=0.15745 (iters=333)\n",
      "eta=0.03255, max_depth=4 | valid_loss=0.16430 (iters=420)\n",
      "eta=0.03255, max_depth=5 | valid_loss=0.17285 (iters=243)\n",
      "eta=0.03331, max_depth=1 | valid_loss=0.16477 (iters=526)\n",
      "eta=0.03331, max_depth=2 | valid_loss=0.15808 (iters=409)\n",
      "eta=0.03331, max_depth=3 | valid_loss=0.15393 (iters=702)\n",
      "eta=0.03331, max_depth=4 | valid_loss=0.16221 (iters=436)\n",
      "eta=0.03331, max_depth=5 | valid_loss=0.17285 (iters=241)\n",
      "eta=0.03409, max_depth=1 | valid_loss=0.16529 (iters=506)\n",
      "eta=0.03409, max_depth=2 | valid_loss=0.15776 (iters=478)\n",
      "eta=0.03409, max_depth=3 | valid_loss=0.15763 (iters=401)\n",
      "eta=0.03409, max_depth=4 | valid_loss=0.16913 (iters=263)\n",
      "eta=0.03409, max_depth=5 | valid_loss=0.17263 (iters=294)\n",
      "eta=0.03489, max_depth=1 | valid_loss=0.16453 (iters=510)\n",
      "eta=0.03489, max_depth=2 | valid_loss=0.15700 (iters=429)\n",
      "eta=0.03489, max_depth=3 | valid_loss=0.15276 (iters=447)\n",
      "eta=0.03489, max_depth=4 | valid_loss=0.16516 (iters=327)\n",
      "eta=0.03489, max_depth=5 | valid_loss=0.17137 (iters=212)\n",
      "eta=0.03571, max_depth=1 | valid_loss=0.16478 (iters=498)\n",
      "eta=0.03571, max_depth=2 | valid_loss=0.15693 (iters=470)\n",
      "eta=0.03571, max_depth=3 | valid_loss=0.15447 (iters=447)\n",
      "eta=0.03571, max_depth=4 | valid_loss=0.16506 (iters=382)\n",
      "eta=0.03571, max_depth=5 | valid_loss=0.17451 (iters=234)\n",
      "eta=0.03654, max_depth=1 | valid_loss=0.16438 (iters=487)\n",
      "eta=0.03654, max_depth=2 | valid_loss=0.15984 (iters=440)\n",
      "eta=0.03654, max_depth=3 | valid_loss=0.15548 (iters=352)\n",
      "eta=0.03654, max_depth=4 | valid_loss=0.16542 (iters=375)\n"
     ]
    },
    {
     "name": "stdout",
     "output_type": "stream",
     "text": [
      "eta=0.03654, max_depth=5 | valid_loss=0.17411 (iters=200)\n",
      "eta=0.03740, max_depth=1 | valid_loss=0.16481 (iters=482)\n",
      "eta=0.03740, max_depth=2 | valid_loss=0.15740 (iters=433)\n",
      "eta=0.03740, max_depth=3 | valid_loss=0.15729 (iters=266)\n",
      "eta=0.03740, max_depth=4 | valid_loss=0.16419 (iters=350)\n",
      "eta=0.03740, max_depth=5 | valid_loss=0.17400 (iters=226)\n",
      "eta=0.03827, max_depth=1 | valid_loss=0.16312 (iters=480)\n",
      "eta=0.03827, max_depth=2 | valid_loss=0.15742 (iters=402)\n",
      "eta=0.03827, max_depth=3 | valid_loss=0.15321 (iters=395)\n",
      "eta=0.03827, max_depth=4 | valid_loss=0.16298 (iters=307)\n",
      "eta=0.03827, max_depth=5 | valid_loss=0.17239 (iters=204)\n",
      "eta=0.03917, max_depth=1 | valid_loss=0.16398 (iters=470)\n",
      "eta=0.03917, max_depth=2 | valid_loss=0.15653 (iters=369)\n",
      "eta=0.03917, max_depth=3 | valid_loss=0.15358 (iters=612)\n",
      "eta=0.03917, max_depth=4 | valid_loss=0.15757 (iters=496)\n",
      "eta=0.03917, max_depth=5 | valid_loss=0.17079 (iters=184)\n",
      "eta=0.04009, max_depth=1 | valid_loss=0.16479 (iters=411)\n",
      "eta=0.04009, max_depth=2 | valid_loss=0.15466 (iters=366)\n",
      "eta=0.04009, max_depth=3 | valid_loss=0.15700 (iters=268)\n",
      "eta=0.04009, max_depth=4 | valid_loss=0.16217 (iters=333)\n",
      "eta=0.04009, max_depth=5 | valid_loss=0.17403 (iters=218)\n",
      "eta=0.04103, max_depth=1 | valid_loss=0.16425 (iters=453)\n",
      "eta=0.04103, max_depth=2 | valid_loss=0.15623 (iters=380)\n",
      "eta=0.04103, max_depth=3 | valid_loss=0.15699 (iters=486)\n",
      "eta=0.04103, max_depth=4 | valid_loss=0.16472 (iters=359)\n",
      "eta=0.04103, max_depth=5 | valid_loss=0.17235 (iters=293)\n",
      "eta=0.04199, max_depth=1 | valid_loss=0.16342 (iters=417)\n",
      "eta=0.04199, max_depth=2 | valid_loss=0.15775 (iters=387)\n",
      "eta=0.04199, max_depth=3 | valid_loss=0.15737 (iters=296)\n",
      "eta=0.04199, max_depth=4 | valid_loss=0.16273 (iters=618)\n",
      "eta=0.04199, max_depth=5 | valid_loss=0.17313 (iters=244)\n",
      "eta=0.04297, max_depth=1 | valid_loss=0.16550 (iters=410)\n",
      "eta=0.04297, max_depth=2 | valid_loss=0.15608 (iters=410)\n",
      "eta=0.04297, max_depth=3 | valid_loss=0.15601 (iters=361)\n",
      "eta=0.04297, max_depth=4 | valid_loss=0.16417 (iters=281)\n",
      "eta=0.04297, max_depth=5 | valid_loss=0.17301 (iters=277)\n",
      "eta=0.04398, max_depth=1 | valid_loss=0.16392 (iters=412)\n",
      "eta=0.04398, max_depth=2 | valid_loss=0.15888 (iters=333)\n",
      "eta=0.04398, max_depth=3 | valid_loss=0.15425 (iters=437)\n",
      "eta=0.04398, max_depth=4 | valid_loss=0.16557 (iters=272)\n",
      "eta=0.04398, max_depth=5 | valid_loss=0.17384 (iters=219)\n",
      "eta=0.04501, max_depth=1 | valid_loss=0.16279 (iters=423)\n",
      "eta=0.04501, max_depth=2 | valid_loss=0.15691 (iters=358)\n",
      "eta=0.04501, max_depth=3 | valid_loss=0.15273 (iters=375)\n",
      "eta=0.04501, max_depth=4 | valid_loss=0.16623 (iters=271)\n",
      "eta=0.04501, max_depth=5 | valid_loss=0.17150 (iters=237)\n",
      "eta=0.04606, max_depth=1 | valid_loss=0.16402 (iters=393)\n",
      "eta=0.04606, max_depth=2 | valid_loss=0.15658 (iters=297)\n",
      "eta=0.04606, max_depth=3 | valid_loss=0.15389 (iters=422)\n",
      "eta=0.04606, max_depth=4 | valid_loss=0.16658 (iters=227)\n",
      "eta=0.04606, max_depth=5 | valid_loss=0.16903 (iters=258)\n",
      "eta=0.04714, max_depth=1 | valid_loss=0.16448 (iters=376)\n",
      "eta=0.04714, max_depth=2 | valid_loss=0.15222 (iters=348)\n",
      "eta=0.04714, max_depth=3 | valid_loss=0.15698 (iters=299)\n",
      "eta=0.04714, max_depth=4 | valid_loss=0.16304 (iters=395)\n",
      "eta=0.04714, max_depth=5 | valid_loss=0.16852 (iters=233)\n",
      "eta=0.04824, max_depth=1 | valid_loss=0.16512 (iters=359)\n",
      "eta=0.04824, max_depth=2 | valid_loss=0.15535 (iters=331)\n",
      "eta=0.04824, max_depth=3 | valid_loss=0.15947 (iters=195)\n",
      "eta=0.04824, max_depth=4 | valid_loss=0.16659 (iters=275)\n",
      "eta=0.04824, max_depth=5 | valid_loss=0.17172 (iters=315)\n",
      "eta=0.04937, max_depth=1 | valid_loss=0.16284 (iters=376)\n",
      "eta=0.04937, max_depth=2 | valid_loss=0.15753 (iters=295)\n",
      "eta=0.04937, max_depth=3 | valid_loss=0.15511 (iters=301)\n",
      "eta=0.04937, max_depth=4 | valid_loss=0.16252 (iters=310)\n",
      "eta=0.04937, max_depth=5 | valid_loss=0.17240 (iters=215)\n",
      "eta=0.05053, max_depth=1 | valid_loss=0.16619 (iters=325)\n",
      "eta=0.05053, max_depth=2 | valid_loss=0.15483 (iters=322)\n",
      "eta=0.05053, max_depth=3 | valid_loss=0.15369 (iters=480)\n",
      "eta=0.05053, max_depth=4 | valid_loss=0.16452 (iters=313)\n",
      "eta=0.05053, max_depth=5 | valid_loss=0.17183 (iters=247)\n",
      "eta=0.05171, max_depth=1 | valid_loss=0.16372 (iters=356)\n",
      "eta=0.05171, max_depth=2 | valid_loss=0.15887 (iters=303)\n",
      "eta=0.05171, max_depth=3 | valid_loss=0.15485 (iters=397)\n",
      "eta=0.05171, max_depth=4 | valid_loss=0.16497 (iters=204)\n",
      "eta=0.05171, max_depth=5 | valid_loss=0.17028 (iters=225)\n",
      "eta=0.05292, max_depth=1 | valid_loss=0.16470 (iters=340)\n",
      "eta=0.05292, max_depth=2 | valid_loss=0.15769 (iters=290)\n",
      "eta=0.05292, max_depth=3 | valid_loss=0.15409 (iters=273)\n",
      "eta=0.05292, max_depth=4 | valid_loss=0.16266 (iters=256)\n",
      "eta=0.05292, max_depth=5 | valid_loss=0.17040 (iters=149)\n",
      "eta=0.05416, max_depth=1 | valid_loss=0.16601 (iters=332)\n",
      "eta=0.05416, max_depth=2 | valid_loss=0.15785 (iters=318)\n",
      "eta=0.05416, max_depth=3 | valid_loss=0.15395 (iters=402)\n",
      "eta=0.05416, max_depth=4 | valid_loss=0.16363 (iters=289)\n",
      "eta=0.05416, max_depth=5 | valid_loss=0.17394 (iters=148)\n",
      "eta=0.05543, max_depth=1 | valid_loss=0.16539 (iters=321)\n",
      "eta=0.05543, max_depth=2 | valid_loss=0.15622 (iters=248)\n",
      "eta=0.05543, max_depth=3 | valid_loss=0.15210 (iters=361)\n",
      "eta=0.05543, max_depth=4 | valid_loss=0.16680 (iters=316)\n",
      "eta=0.05543, max_depth=5 | valid_loss=0.17255 (iters=138)\n",
      "eta=0.05672, max_depth=1 | valid_loss=0.16549 (iters=307)\n",
      "eta=0.05672, max_depth=2 | valid_loss=0.15881 (iters=277)\n",
      "eta=0.05672, max_depth=3 | valid_loss=0.15320 (iters=499)\n",
      "eta=0.05672, max_depth=4 | valid_loss=0.16695 (iters=191)\n",
      "eta=0.05672, max_depth=5 | valid_loss=0.17559 (iters=137)\n",
      "eta=0.05805, max_depth=1 | valid_loss=0.16403 (iters=321)\n",
      "eta=0.05805, max_depth=2 | valid_loss=0.15746 (iters=258)\n",
      "eta=0.05805, max_depth=3 | valid_loss=0.15646 (iters=230)\n",
      "eta=0.05805, max_depth=4 | valid_loss=0.16394 (iters=193)\n",
      "eta=0.05805, max_depth=5 | valid_loss=0.16984 (iters=211)\n",
      "eta=0.05941, max_depth=1 | valid_loss=0.16052 (iters=285)\n",
      "eta=0.05941, max_depth=2 | valid_loss=0.16033 (iters=220)\n",
      "eta=0.05941, max_depth=3 | valid_loss=0.15371 (iters=207)\n",
      "eta=0.05941, max_depth=4 | valid_loss=0.16763 (iters=209)\n",
      "eta=0.05941, max_depth=5 | valid_loss=0.17204 (iters=232)\n",
      "eta=0.06080, max_depth=1 | valid_loss=0.16369 (iters=285)\n",
      "eta=0.06080, max_depth=2 | valid_loss=0.15662 (iters=257)\n",
      "eta=0.06080, max_depth=3 | valid_loss=0.15518 (iters=331)\n",
      "eta=0.06080, max_depth=4 | valid_loss=0.16507 (iters=265)\n",
      "eta=0.06080, max_depth=5 | valid_loss=0.17539 (iters=161)\n",
      "eta=0.06223, max_depth=1 | valid_loss=0.16255 (iters=282)\n",
      "eta=0.06223, max_depth=2 | valid_loss=0.15317 (iters=363)\n",
      "eta=0.06223, max_depth=3 | valid_loss=0.15142 (iters=269)\n",
      "eta=0.06223, max_depth=4 | valid_loss=0.16360 (iters=285)\n",
      "eta=0.06223, max_depth=5 | valid_loss=0.17191 (iters=186)\n",
      "eta=0.06368, max_depth=1 | valid_loss=0.16337 (iters=281)\n",
      "eta=0.06368, max_depth=2 | valid_loss=0.15565 (iters=298)\n",
      "eta=0.06368, max_depth=3 | valid_loss=0.15929 (iters=219)\n",
      "eta=0.06368, max_depth=4 | valid_loss=0.16233 (iters=267)\n",
      "eta=0.06368, max_depth=5 | valid_loss=0.17151 (iters=157)\n",
      "eta=0.06517, max_depth=1 | valid_loss=0.16677 (iters=275)\n",
      "eta=0.06517, max_depth=2 | valid_loss=0.15634 (iters=263)\n",
      "eta=0.06517, max_depth=3 | valid_loss=0.14942 (iters=343)\n",
      "eta=0.06517, max_depth=4 | valid_loss=0.16112 (iters=256)\n",
      "eta=0.06517, max_depth=5 | valid_loss=0.17085 (iters=229)\n",
      "eta=0.06670, max_depth=1 | valid_loss=0.16721 (iters=269)\n",
      "eta=0.06670, max_depth=2 | valid_loss=0.15315 (iters=220)\n",
      "eta=0.06670, max_depth=3 | valid_loss=0.15546 (iters=284)\n",
      "eta=0.06670, max_depth=4 | valid_loss=0.16200 (iters=297)\n",
      "eta=0.06670, max_depth=5 | valid_loss=0.17178 (iters=145)\n",
      "eta=0.06826, max_depth=1 | valid_loss=0.16445 (iters=259)\n",
      "eta=0.06826, max_depth=2 | valid_loss=0.15157 (iters=219)\n",
      "eta=0.06826, max_depth=3 | valid_loss=0.15548 (iters=194)\n",
      "eta=0.06826, max_depth=4 | valid_loss=0.16908 (iters=144)\n",
      "eta=0.06826, max_depth=5 | valid_loss=0.17522 (iters=176)\n",
      "eta=0.06986, max_depth=1 | valid_loss=0.16195 (iters=265)\n",
      "eta=0.06986, max_depth=2 | valid_loss=0.15106 (iters=345)\n",
      "eta=0.06986, max_depth=3 | valid_loss=0.15912 (iters=148)\n",
      "eta=0.06986, max_depth=4 | valid_loss=0.16550 (iters=179)\n",
      "eta=0.06986, max_depth=5 | valid_loss=0.17181 (iters=155)\n",
      "eta=0.07149, max_depth=1 | valid_loss=0.16168 (iters=252)\n",
      "eta=0.07149, max_depth=2 | valid_loss=0.15267 (iters=222)\n",
      "eta=0.07149, max_depth=3 | valid_loss=0.15555 (iters=179)\n"
     ]
    },
    {
     "name": "stdout",
     "output_type": "stream",
     "text": [
      "eta=0.07149, max_depth=4 | valid_loss=0.16384 (iters=168)\n",
      "eta=0.07149, max_depth=5 | valid_loss=0.17306 (iters=137)\n",
      "eta=0.07317, max_depth=1 | valid_loss=0.16690 (iters=241)\n",
      "eta=0.07317, max_depth=2 | valid_loss=0.15624 (iters=182)\n",
      "eta=0.07317, max_depth=3 | valid_loss=0.15708 (iters=314)\n",
      "eta=0.07317, max_depth=4 | valid_loss=0.16474 (iters=166)\n",
      "eta=0.07317, max_depth=5 | valid_loss=0.17231 (iters=112)\n",
      "eta=0.07488, max_depth=1 | valid_loss=0.16609 (iters=238)\n",
      "eta=0.07488, max_depth=2 | valid_loss=0.14860 (iters=361)\n",
      "eta=0.07488, max_depth=3 | valid_loss=0.14792 (iters=281)\n",
      "eta=0.07488, max_depth=4 | valid_loss=0.16842 (iters=132)\n",
      "eta=0.07488, max_depth=5 | valid_loss=0.17412 (iters=132)\n",
      "eta=0.07663, max_depth=1 | valid_loss=0.16804 (iters=221)\n",
      "eta=0.07663, max_depth=2 | valid_loss=0.15090 (iters=310)\n",
      "eta=0.07663, max_depth=3 | valid_loss=0.15399 (iters=251)\n",
      "eta=0.07663, max_depth=4 | valid_loss=0.15947 (iters=254)\n",
      "eta=0.07663, max_depth=5 | valid_loss=0.16996 (iters=144)\n",
      "eta=0.07843, max_depth=1 | valid_loss=0.16112 (iters=222)\n",
      "eta=0.07843, max_depth=2 | valid_loss=0.15228 (iters=204)\n",
      "eta=0.07843, max_depth=3 | valid_loss=0.15661 (iters=141)\n",
      "eta=0.07843, max_depth=4 | valid_loss=0.16938 (iters=139)\n",
      "eta=0.07843, max_depth=5 | valid_loss=0.16859 (iters=178)\n",
      "eta=0.08026, max_depth=1 | valid_loss=0.16481 (iters=211)\n",
      "eta=0.08026, max_depth=2 | valid_loss=0.15931 (iters=167)\n",
      "eta=0.08026, max_depth=3 | valid_loss=0.16229 (iters=130)\n",
      "eta=0.08026, max_depth=4 | valid_loss=0.16690 (iters=140)\n",
      "eta=0.08026, max_depth=5 | valid_loss=0.17525 (iters=89)\n",
      "eta=0.08214, max_depth=1 | valid_loss=0.16953 (iters=206)\n",
      "eta=0.08214, max_depth=2 | valid_loss=0.15542 (iters=335)\n",
      "eta=0.08214, max_depth=3 | valid_loss=0.15317 (iters=195)\n",
      "eta=0.08214, max_depth=4 | valid_loss=0.17287 (iters=109)\n",
      "eta=0.08214, max_depth=5 | valid_loss=0.17344 (iters=172)\n",
      "eta=0.08407, max_depth=1 | valid_loss=0.16611 (iters=211)\n",
      "eta=0.08407, max_depth=2 | valid_loss=0.14971 (iters=330)\n",
      "eta=0.08407, max_depth=3 | valid_loss=0.15525 (iters=160)\n",
      "eta=0.08407, max_depth=4 | valid_loss=0.16912 (iters=104)\n",
      "eta=0.08407, max_depth=5 | valid_loss=0.17418 (iters=124)\n",
      "eta=0.08603, max_depth=1 | valid_loss=0.16764 (iters=189)\n",
      "eta=0.08603, max_depth=2 | valid_loss=0.15365 (iters=193)\n",
      "eta=0.08603, max_depth=3 | valid_loss=0.15588 (iters=159)\n",
      "eta=0.08603, max_depth=4 | valid_loss=0.16134 (iters=147)\n",
      "eta=0.08603, max_depth=5 | valid_loss=0.17099 (iters=206)\n",
      "eta=0.08805, max_depth=1 | valid_loss=0.16791 (iters=199)\n",
      "eta=0.08805, max_depth=2 | valid_loss=0.15867 (iters=292)\n",
      "eta=0.08805, max_depth=3 | valid_loss=0.15451 (iters=206)\n",
      "eta=0.08805, max_depth=4 | valid_loss=0.16945 (iters=210)\n",
      "eta=0.08805, max_depth=5 | valid_loss=0.16646 (iters=204)\n",
      "eta=0.09011, max_depth=1 | valid_loss=0.16879 (iters=196)\n",
      "eta=0.09011, max_depth=2 | valid_loss=0.15100 (iters=281)\n",
      "eta=0.09011, max_depth=3 | valid_loss=0.16142 (iters=151)\n",
      "eta=0.09011, max_depth=4 | valid_loss=0.16695 (iters=182)\n",
      "eta=0.09011, max_depth=5 | valid_loss=0.17154 (iters=219)\n",
      "eta=0.09222, max_depth=1 | valid_loss=0.16709 (iters=203)\n",
      "eta=0.09222, max_depth=2 | valid_loss=0.15606 (iters=160)\n",
      "eta=0.09222, max_depth=3 | valid_loss=0.15241 (iters=266)\n",
      "eta=0.09222, max_depth=4 | valid_loss=0.16556 (iters=153)\n",
      "eta=0.09222, max_depth=5 | valid_loss=0.17030 (iters=153)\n",
      "eta=0.09438, max_depth=1 | valid_loss=0.15557 (iters=180)\n",
      "eta=0.09438, max_depth=2 | valid_loss=0.15620 (iters=137)\n",
      "eta=0.09438, max_depth=3 | valid_loss=0.15625 (iters=136)\n",
      "eta=0.09438, max_depth=4 | valid_loss=0.16528 (iters=185)\n",
      "eta=0.09438, max_depth=5 | valid_loss=0.17210 (iters=171)\n",
      "eta=0.09659, max_depth=1 | valid_loss=0.15898 (iters=193)\n",
      "eta=0.09659, max_depth=2 | valid_loss=0.15269 (iters=291)\n",
      "eta=0.09659, max_depth=3 | valid_loss=0.15460 (iters=249)\n",
      "eta=0.09659, max_depth=4 | valid_loss=0.16837 (iters=175)\n",
      "eta=0.09659, max_depth=5 | valid_loss=0.17108 (iters=141)\n",
      "eta=0.09885, max_depth=1 | valid_loss=0.16560 (iters=155)\n",
      "eta=0.09885, max_depth=2 | valid_loss=0.15576 (iters=206)\n",
      "eta=0.09885, max_depth=3 | valid_loss=0.15026 (iters=280)\n",
      "eta=0.09885, max_depth=4 | valid_loss=0.17052 (iters=130)\n",
      "eta=0.09885, max_depth=5 | valid_loss=0.17638 (iters=174)\n",
      "eta=0.10116, max_depth=1 | valid_loss=0.16957 (iters=156)\n",
      "eta=0.10116, max_depth=2 | valid_loss=0.15412 (iters=243)\n",
      "eta=0.10116, max_depth=3 | valid_loss=0.15812 (iters=184)\n",
      "eta=0.10116, max_depth=4 | valid_loss=0.16492 (iters=205)\n",
      "eta=0.10116, max_depth=5 | valid_loss=0.17491 (iters=115)\n",
      "eta=0.10353, max_depth=1 | valid_loss=0.16013 (iters=187)\n",
      "eta=0.10353, max_depth=2 | valid_loss=0.15018 (iters=183)\n",
      "eta=0.10353, max_depth=3 | valid_loss=0.15523 (iters=195)\n",
      "eta=0.10353, max_depth=4 | valid_loss=0.17058 (iters=100)\n",
      "eta=0.10353, max_depth=5 | valid_loss=0.17163 (iters=117)\n",
      "eta=0.10596, max_depth=1 | valid_loss=0.17122 (iters=150)\n",
      "eta=0.10596, max_depth=2 | valid_loss=0.14545 (iters=221)\n",
      "eta=0.10596, max_depth=3 | valid_loss=0.15175 (iters=264)\n",
      "eta=0.10596, max_depth=4 | valid_loss=0.17144 (iters=128)\n",
      "eta=0.10596, max_depth=5 | valid_loss=0.17268 (iters=142)\n",
      "eta=0.10844, max_depth=1 | valid_loss=0.16211 (iters=156)\n",
      "eta=0.10844, max_depth=2 | valid_loss=0.15664 (iters=161)\n",
      "eta=0.10844, max_depth=3 | valid_loss=0.15871 (iters=75)\n",
      "eta=0.10844, max_depth=4 | valid_loss=0.16998 (iters=94)\n",
      "eta=0.10844, max_depth=5 | valid_loss=0.17099 (iters=88)\n",
      "eta=0.11098, max_depth=1 | valid_loss=0.16632 (iters=131)\n",
      "eta=0.11098, max_depth=2 | valid_loss=0.15959 (iters=195)\n",
      "eta=0.11098, max_depth=3 | valid_loss=0.15726 (iters=223)\n",
      "eta=0.11098, max_depth=4 | valid_loss=0.17162 (iters=109)\n",
      "eta=0.11098, max_depth=5 | valid_loss=0.17289 (iters=127)\n",
      "eta=0.11357, max_depth=1 | valid_loss=0.16443 (iters=148)\n",
      "eta=0.11357, max_depth=2 | valid_loss=0.15529 (iters=121)\n",
      "eta=0.11357, max_depth=3 | valid_loss=0.15981 (iters=121)\n",
      "eta=0.11357, max_depth=4 | valid_loss=0.16892 (iters=92)\n",
      "eta=0.11357, max_depth=5 | valid_loss=0.16866 (iters=88)\n",
      "eta=0.11623, max_depth=1 | valid_loss=0.16577 (iters=155)\n",
      "eta=0.11623, max_depth=2 | valid_loss=0.15083 (iters=255)\n",
      "eta=0.11623, max_depth=3 | valid_loss=0.16106 (iters=120)\n",
      "eta=0.11623, max_depth=4 | valid_loss=0.16859 (iters=118)\n",
      "eta=0.11623, max_depth=5 | valid_loss=0.16813 (iters=104)\n",
      "eta=0.11895, max_depth=1 | valid_loss=0.16530 (iters=147)\n",
      "eta=0.11895, max_depth=2 | valid_loss=0.15289 (iters=299)\n",
      "eta=0.11895, max_depth=3 | valid_loss=0.15253 (iters=197)\n",
      "eta=0.11895, max_depth=4 | valid_loss=0.17334 (iters=109)\n",
      "eta=0.11895, max_depth=5 | valid_loss=0.17005 (iters=121)\n",
      "eta=0.12174, max_depth=1 | valid_loss=0.16728 (iters=148)\n",
      "eta=0.12174, max_depth=2 | valid_loss=0.16087 (iters=108)\n",
      "eta=0.12174, max_depth=3 | valid_loss=0.15467 (iters=102)\n",
      "eta=0.12174, max_depth=4 | valid_loss=0.16583 (iters=164)\n",
      "eta=0.12174, max_depth=5 | valid_loss=0.17009 (iters=68)\n",
      "eta=0.12459, max_depth=1 | valid_loss=0.15973 (iters=153)\n",
      "eta=0.12459, max_depth=2 | valid_loss=0.15319 (iters=201)\n",
      "eta=0.12459, max_depth=3 | valid_loss=0.15536 (iters=120)\n",
      "eta=0.12459, max_depth=4 | valid_loss=0.16548 (iters=113)\n",
      "eta=0.12459, max_depth=5 | valid_loss=0.16838 (iters=78)\n",
      "eta=0.12751, max_depth=1 | valid_loss=0.16674 (iters=133)\n",
      "eta=0.12751, max_depth=2 | valid_loss=0.14976 (iters=203)\n",
      "eta=0.12751, max_depth=3 | valid_loss=0.15484 (iters=199)\n",
      "eta=0.12751, max_depth=4 | valid_loss=0.16975 (iters=150)\n",
      "eta=0.12751, max_depth=5 | valid_loss=0.16982 (iters=138)\n",
      "eta=0.13049, max_depth=1 | valid_loss=0.17070 (iters=129)\n",
      "eta=0.13049, max_depth=2 | valid_loss=0.14662 (iters=210)\n",
      "eta=0.13049, max_depth=3 | valid_loss=0.15936 (iters=225)\n",
      "eta=0.13049, max_depth=4 | valid_loss=0.17295 (iters=75)\n",
      "eta=0.13049, max_depth=5 | valid_loss=0.17338 (iters=60)\n",
      "eta=0.13355, max_depth=1 | valid_loss=0.16210 (iters=132)\n",
      "eta=0.13355, max_depth=2 | valid_loss=0.14612 (iters=185)\n",
      "eta=0.13355, max_depth=3 | valid_loss=0.15771 (iters=174)\n",
      "eta=0.13355, max_depth=4 | valid_loss=0.17380 (iters=78)\n",
      "eta=0.13355, max_depth=5 | valid_loss=0.17444 (iters=80)\n",
      "eta=0.13667, max_depth=1 | valid_loss=0.16197 (iters=125)\n",
      "eta=0.13667, max_depth=2 | valid_loss=0.16002 (iters=90)\n",
      "eta=0.13667, max_depth=3 | valid_loss=0.15604 (iters=202)\n",
      "eta=0.13667, max_depth=4 | valid_loss=0.17526 (iters=79)\n",
      "eta=0.13667, max_depth=5 | valid_loss=0.16811 (iters=66)\n",
      "eta=0.13987, max_depth=1 | valid_loss=0.16485 (iters=165)\n",
      "eta=0.13987, max_depth=2 | valid_loss=0.14560 (iters=177)\n",
      "eta=0.13987, max_depth=3 | valid_loss=0.15694 (iters=98)\n"
     ]
    },
    {
     "name": "stdout",
     "output_type": "stream",
     "text": [
      "eta=0.13987, max_depth=4 | valid_loss=0.17477 (iters=72)\n",
      "eta=0.13987, max_depth=5 | valid_loss=0.17195 (iters=54)\n",
      "eta=0.14315, max_depth=1 | valid_loss=0.17330 (iters=134)\n",
      "eta=0.14315, max_depth=2 | valid_loss=0.14809 (iters=192)\n",
      "eta=0.14315, max_depth=3 | valid_loss=0.14878 (iters=177)\n",
      "eta=0.14315, max_depth=4 | valid_loss=0.17274 (iters=87)\n",
      "eta=0.14315, max_depth=5 | valid_loss=0.17483 (iters=54)\n",
      "eta=0.14650, max_depth=1 | valid_loss=0.16737 (iters=118)\n",
      "eta=0.14650, max_depth=2 | valid_loss=0.14283 (iters=175)\n",
      "eta=0.14650, max_depth=3 | valid_loss=0.15890 (iters=138)\n",
      "eta=0.14650, max_depth=4 | valid_loss=0.17666 (iters=142)\n",
      "eta=0.14650, max_depth=5 | valid_loss=0.16989 (iters=126)\n",
      "eta=0.14993, max_depth=1 | valid_loss=0.16539 (iters=100)\n",
      "eta=0.14993, max_depth=2 | valid_loss=0.15161 (iters=184)\n",
      "eta=0.14993, max_depth=3 | valid_loss=0.15586 (iters=194)\n",
      "eta=0.14993, max_depth=4 | valid_loss=0.16935 (iters=87)\n",
      "eta=0.14993, max_depth=5 | valid_loss=0.17748 (iters=96)\n",
      "eta=0.15344, max_depth=1 | valid_loss=0.16431 (iters=113)\n",
      "eta=0.15344, max_depth=2 | valid_loss=0.14470 (iters=184)\n",
      "eta=0.15344, max_depth=3 | valid_loss=0.16334 (iters=239)\n",
      "eta=0.15344, max_depth=4 | valid_loss=0.17036 (iters=111)\n",
      "eta=0.15344, max_depth=5 | valid_loss=0.17657 (iters=68)\n",
      "eta=0.15703, max_depth=1 | valid_loss=0.16695 (iters=112)\n",
      "eta=0.15703, max_depth=2 | valid_loss=0.16911 (iters=105)\n",
      "eta=0.15703, max_depth=3 | valid_loss=0.15971 (iters=93)\n",
      "eta=0.15703, max_depth=4 | valid_loss=0.17386 (iters=96)\n",
      "eta=0.15703, max_depth=5 | valid_loss=0.17793 (iters=60)\n",
      "eta=0.16071, max_depth=1 | valid_loss=0.16458 (iters=99)\n",
      "eta=0.16071, max_depth=2 | valid_loss=0.14982 (iters=178)\n",
      "eta=0.16071, max_depth=3 | valid_loss=0.15440 (iters=151)\n",
      "eta=0.16071, max_depth=4 | valid_loss=0.16914 (iters=61)\n",
      "eta=0.16071, max_depth=5 | valid_loss=0.17089 (iters=71)\n",
      "eta=0.16447, max_depth=1 | valid_loss=0.17226 (iters=94)\n",
      "eta=0.16447, max_depth=2 | valid_loss=0.16000 (iters=176)\n",
      "eta=0.16447, max_depth=3 | valid_loss=0.15479 (iters=110)\n",
      "eta=0.16447, max_depth=4 | valid_loss=0.17793 (iters=68)\n",
      "eta=0.16447, max_depth=5 | valid_loss=0.17447 (iters=45)\n",
      "eta=0.16832, max_depth=1 | valid_loss=0.17076 (iters=105)\n",
      "eta=0.16832, max_depth=2 | valid_loss=0.17042 (iters=76)\n",
      "eta=0.16832, max_depth=3 | valid_loss=0.15599 (iters=147)\n",
      "eta=0.16832, max_depth=4 | valid_loss=0.17012 (iters=68)\n",
      "eta=0.16832, max_depth=5 | valid_loss=0.17817 (iters=39)\n",
      "eta=0.17226, max_depth=1 | valid_loss=0.17171 (iters=86)\n",
      "eta=0.17226, max_depth=2 | valid_loss=0.16417 (iters=85)\n",
      "eta=0.17226, max_depth=3 | valid_loss=0.15908 (iters=139)\n",
      "eta=0.17226, max_depth=4 | valid_loss=0.17307 (iters=58)\n",
      "eta=0.17226, max_depth=5 | valid_loss=0.17791 (iters=41)\n",
      "eta=0.17629, max_depth=1 | valid_loss=0.17341 (iters=81)\n",
      "eta=0.17629, max_depth=2 | valid_loss=0.15354 (iters=209)\n",
      "eta=0.17629, max_depth=3 | valid_loss=0.15883 (iters=86)\n",
      "eta=0.17629, max_depth=4 | valid_loss=0.16891 (iters=85)\n",
      "eta=0.17629, max_depth=5 | valid_loss=0.17466 (iters=115)\n",
      "eta=0.18042, max_depth=1 | valid_loss=0.16393 (iters=93)\n",
      "eta=0.18042, max_depth=2 | valid_loss=0.15353 (iters=173)\n",
      "eta=0.18042, max_depth=3 | valid_loss=0.15516 (iters=121)\n",
      "eta=0.18042, max_depth=4 | valid_loss=0.17013 (iters=61)\n",
      "eta=0.18042, max_depth=5 | valid_loss=0.17170 (iters=55)\n",
      "eta=0.18464, max_depth=1 | valid_loss=0.17602 (iters=82)\n",
      "eta=0.18464, max_depth=2 | valid_loss=0.15151 (iters=155)\n",
      "eta=0.18464, max_depth=3 | valid_loss=0.16433 (iters=120)\n",
      "eta=0.18464, max_depth=4 | valid_loss=0.17053 (iters=93)\n",
      "eta=0.18464, max_depth=5 | valid_loss=0.17596 (iters=62)\n",
      "eta=0.18897, max_depth=1 | valid_loss=0.17544 (iters=77)\n",
      "eta=0.18897, max_depth=2 | valid_loss=0.16463 (iters=143)\n",
      "eta=0.18897, max_depth=3 | valid_loss=0.16194 (iters=124)\n",
      "eta=0.18897, max_depth=4 | valid_loss=0.17385 (iters=84)\n",
      "eta=0.18897, max_depth=5 | valid_loss=0.17918 (iters=37)\n",
      "eta=0.19339, max_depth=1 | valid_loss=0.16406 (iters=85)\n",
      "eta=0.19339, max_depth=2 | valid_loss=0.17019 (iters=101)\n",
      "eta=0.19339, max_depth=3 | valid_loss=0.15994 (iters=90)\n",
      "eta=0.19339, max_depth=4 | valid_loss=0.17096 (iters=61)\n",
      "eta=0.19339, max_depth=5 | valid_loss=0.17067 (iters=63)\n",
      "eta=0.19792, max_depth=1 | valid_loss=0.16974 (iters=78)\n",
      "eta=0.19792, max_depth=2 | valid_loss=0.16375 (iters=171)\n",
      "eta=0.19792, max_depth=3 | valid_loss=0.15705 (iters=123)\n",
      "eta=0.19792, max_depth=4 | valid_loss=0.16845 (iters=88)\n",
      "eta=0.19792, max_depth=5 | valid_loss=0.17232 (iters=94)\n",
      "eta=0.20255, max_depth=1 | valid_loss=0.17013 (iters=74)\n",
      "eta=0.20255, max_depth=2 | valid_loss=0.15389 (iters=179)\n",
      "eta=0.20255, max_depth=3 | valid_loss=0.15759 (iters=77)\n",
      "eta=0.20255, max_depth=4 | valid_loss=0.17321 (iters=63)\n",
      "eta=0.20255, max_depth=5 | valid_loss=0.18288 (iters=44)\n",
      "eta=0.20729, max_depth=1 | valid_loss=0.17060 (iters=83)\n",
      "eta=0.20729, max_depth=2 | valid_loss=0.14953 (iters=170)\n",
      "eta=0.20729, max_depth=3 | valid_loss=0.16151 (iters=55)\n",
      "eta=0.20729, max_depth=4 | valid_loss=0.17137 (iters=53)\n",
      "eta=0.20729, max_depth=5 | valid_loss=0.17708 (iters=63)\n",
      "eta=0.21215, max_depth=1 | valid_loss=0.17645 (iters=62)\n",
      "eta=0.21215, max_depth=2 | valid_loss=0.14891 (iters=100)\n",
      "eta=0.21215, max_depth=3 | valid_loss=0.15376 (iters=121)\n",
      "eta=0.21215, max_depth=4 | valid_loss=0.15469 (iters=100)\n",
      "eta=0.21215, max_depth=5 | valid_loss=0.17155 (iters=62)\n",
      "eta=0.21711, max_depth=1 | valid_loss=0.17093 (iters=79)\n",
      "eta=0.21711, max_depth=2 | valid_loss=0.15454 (iters=139)\n",
      "eta=0.21711, max_depth=3 | valid_loss=0.16658 (iters=103)\n",
      "eta=0.21711, max_depth=4 | valid_loss=0.16415 (iters=59)\n",
      "eta=0.21711, max_depth=5 | valid_loss=0.16933 (iters=46)\n",
      "eta=0.22219, max_depth=1 | valid_loss=0.16988 (iters=60)\n",
      "eta=0.22219, max_depth=2 | valid_loss=0.15258 (iters=139)\n",
      "eta=0.22219, max_depth=3 | valid_loss=0.16284 (iters=108)\n",
      "eta=0.22219, max_depth=4 | valid_loss=0.16927 (iters=47)\n",
      "eta=0.22219, max_depth=5 | valid_loss=0.16591 (iters=45)\n",
      "eta=0.22740, max_depth=1 | valid_loss=0.17068 (iters=60)\n",
      "eta=0.22740, max_depth=2 | valid_loss=0.15261 (iters=143)\n",
      "eta=0.22740, max_depth=3 | valid_loss=0.16348 (iters=101)\n",
      "eta=0.22740, max_depth=4 | valid_loss=0.17609 (iters=65)\n",
      "eta=0.22740, max_depth=5 | valid_loss=0.16668 (iters=57)\n",
      "eta=0.23272, max_depth=1 | valid_loss=0.17401 (iters=55)\n",
      "eta=0.23272, max_depth=2 | valid_loss=0.15196 (iters=109)\n",
      "eta=0.23272, max_depth=3 | valid_loss=0.15324 (iters=70)\n",
      "eta=0.23272, max_depth=4 | valid_loss=0.17167 (iters=73)\n",
      "eta=0.23272, max_depth=5 | valid_loss=0.16798 (iters=50)\n",
      "eta=0.23817, max_depth=1 | valid_loss=0.16334 (iters=70)\n",
      "eta=0.23817, max_depth=2 | valid_loss=0.15834 (iters=93)\n",
      "eta=0.23817, max_depth=3 | valid_loss=0.14983 (iters=156)\n",
      "eta=0.23817, max_depth=4 | valid_loss=0.17698 (iters=58)\n",
      "eta=0.23817, max_depth=5 | valid_loss=0.17152 (iters=81)\n",
      "eta=0.24374, max_depth=1 | valid_loss=0.16222 (iters=67)\n",
      "eta=0.24374, max_depth=2 | valid_loss=0.16135 (iters=87)\n",
      "eta=0.24374, max_depth=3 | valid_loss=0.15505 (iters=103)\n",
      "eta=0.24374, max_depth=4 | valid_loss=0.17937 (iters=99)\n",
      "eta=0.24374, max_depth=5 | valid_loss=0.16164 (iters=60)\n",
      "eta=0.24945, max_depth=1 | valid_loss=0.17528 (iters=75)\n",
      "eta=0.24945, max_depth=2 | valid_loss=0.15221 (iters=146)\n",
      "eta=0.24945, max_depth=3 | valid_loss=0.15256 (iters=112)\n",
      "eta=0.24945, max_depth=4 | valid_loss=0.18551 (iters=54)\n",
      "eta=0.24945, max_depth=5 | valid_loss=0.16331 (iters=35)\n",
      "eta=0.25529, max_depth=1 | valid_loss=0.17449 (iters=61)\n",
      "eta=0.25529, max_depth=2 | valid_loss=0.15749 (iters=75)\n",
      "eta=0.25529, max_depth=3 | valid_loss=0.14912 (iters=95)\n",
      "eta=0.25529, max_depth=4 | valid_loss=0.17436 (iters=46)\n",
      "eta=0.25529, max_depth=5 | valid_loss=0.17124 (iters=64)\n",
      "eta=0.26127, max_depth=1 | valid_loss=0.16747 (iters=70)\n",
      "eta=0.26127, max_depth=2 | valid_loss=0.15719 (iters=56)\n",
      "eta=0.26127, max_depth=3 | valid_loss=0.15382 (iters=136)\n",
      "eta=0.26127, max_depth=4 | valid_loss=0.17429 (iters=55)\n",
      "eta=0.26127, max_depth=5 | valid_loss=0.17152 (iters=52)\n",
      "eta=0.26738, max_depth=1 | valid_loss=0.17247 (iters=63)\n",
      "eta=0.26738, max_depth=2 | valid_loss=0.15692 (iters=98)\n",
      "eta=0.26738, max_depth=3 | valid_loss=0.16111 (iters=68)\n",
      "eta=0.26738, max_depth=4 | valid_loss=0.17262 (iters=62)\n",
      "eta=0.26738, max_depth=5 | valid_loss=0.17012 (iters=70)\n",
      "eta=0.27364, max_depth=1 | valid_loss=0.17586 (iters=73)\n"
     ]
    },
    {
     "name": "stdout",
     "output_type": "stream",
     "text": [
      "eta=0.27364, max_depth=2 | valid_loss=0.16263 (iters=100)\n",
      "eta=0.27364, max_depth=3 | valid_loss=0.15837 (iters=56)\n",
      "eta=0.27364, max_depth=4 | valid_loss=0.17507 (iters=66)\n",
      "eta=0.27364, max_depth=5 | valid_loss=0.17040 (iters=65)\n",
      "eta=0.28005, max_depth=1 | valid_loss=0.17610 (iters=58)\n",
      "eta=0.28005, max_depth=2 | valid_loss=0.16041 (iters=93)\n",
      "eta=0.28005, max_depth=3 | valid_loss=0.17260 (iters=75)\n",
      "eta=0.28005, max_depth=4 | valid_loss=0.17256 (iters=83)\n",
      "eta=0.28005, max_depth=5 | valid_loss=0.17315 (iters=95)\n",
      "eta=0.28661, max_depth=1 | valid_loss=0.17053 (iters=83)\n",
      "eta=0.28661, max_depth=2 | valid_loss=0.14794 (iters=93)\n",
      "eta=0.28661, max_depth=3 | valid_loss=0.17200 (iters=44)\n",
      "eta=0.28661, max_depth=4 | valid_loss=0.17599 (iters=51)\n",
      "eta=0.28661, max_depth=5 | valid_loss=0.17244 (iters=52)\n",
      "eta=0.29332, max_depth=1 | valid_loss=0.17968 (iters=59)\n",
      "eta=0.29332, max_depth=2 | valid_loss=0.14646 (iters=125)\n",
      "eta=0.29332, max_depth=3 | valid_loss=0.16271 (iters=154)\n",
      "eta=0.29332, max_depth=4 | valid_loss=0.18323 (iters=31)\n",
      "eta=0.29332, max_depth=5 | valid_loss=0.18588 (iters=24)\n",
      "eta=0.30018, max_depth=1 | valid_loss=0.18179 (iters=64)\n",
      "eta=0.30018, max_depth=2 | valid_loss=0.15626 (iters=80)\n",
      "eta=0.30018, max_depth=3 | valid_loss=0.16713 (iters=98)\n",
      "eta=0.30018, max_depth=4 | valid_loss=0.17252 (iters=37)\n",
      "eta=0.30018, max_depth=5 | valid_loss=0.17005 (iters=21)\n",
      "eta=0.30721, max_depth=1 | valid_loss=0.17982 (iters=61)\n",
      "eta=0.30721, max_depth=2 | valid_loss=0.16577 (iters=133)\n",
      "eta=0.30721, max_depth=3 | valid_loss=0.16582 (iters=87)\n",
      "eta=0.30721, max_depth=4 | valid_loss=0.17613 (iters=39)\n",
      "eta=0.30721, max_depth=5 | valid_loss=0.18183 (iters=23)\n",
      "eta=0.31440, max_depth=1 | valid_loss=0.18241 (iters=52)\n",
      "eta=0.31440, max_depth=2 | valid_loss=0.16446 (iters=72)\n",
      "eta=0.31440, max_depth=3 | valid_loss=0.16715 (iters=49)\n",
      "eta=0.31440, max_depth=4 | valid_loss=0.17480 (iters=40)\n",
      "eta=0.31440, max_depth=5 | valid_loss=0.18064 (iters=44)\n",
      "eta=0.32176, max_depth=1 | valid_loss=0.18503 (iters=36)\n",
      "eta=0.32176, max_depth=2 | valid_loss=0.16084 (iters=71)\n",
      "eta=0.32176, max_depth=3 | valid_loss=0.17339 (iters=41)\n",
      "eta=0.32176, max_depth=4 | valid_loss=0.17369 (iters=36)\n",
      "eta=0.32176, max_depth=5 | valid_loss=0.18035 (iters=43)\n",
      "eta=0.32930, max_depth=1 | valid_loss=0.18676 (iters=40)\n",
      "eta=0.32930, max_depth=2 | valid_loss=0.16903 (iters=67)\n",
      "eta=0.32930, max_depth=3 | valid_loss=0.16356 (iters=64)\n",
      "eta=0.32930, max_depth=4 | valid_loss=0.17506 (iters=35)\n",
      "eta=0.32930, max_depth=5 | valid_loss=0.18058 (iters=37)\n",
      "eta=0.33701, max_depth=1 | valid_loss=0.19483 (iters=43)\n",
      "eta=0.33701, max_depth=2 | valid_loss=0.15882 (iters=72)\n",
      "eta=0.33701, max_depth=3 | valid_loss=0.17675 (iters=53)\n",
      "eta=0.33701, max_depth=4 | valid_loss=0.17412 (iters=52)\n",
      "eta=0.33701, max_depth=5 | valid_loss=0.17883 (iters=60)\n",
      "eta=0.34490, max_depth=1 | valid_loss=0.19372 (iters=43)\n",
      "eta=0.34490, max_depth=2 | valid_loss=0.14705 (iters=126)\n",
      "eta=0.34490, max_depth=3 | valid_loss=0.15583 (iters=51)\n",
      "eta=0.34490, max_depth=4 | valid_loss=0.16967 (iters=70)\n",
      "eta=0.34490, max_depth=5 | valid_loss=0.18002 (iters=23)\n",
      "eta=0.35297, max_depth=1 | valid_loss=0.19667 (iters=44)\n",
      "eta=0.35297, max_depth=2 | valid_loss=0.15657 (iters=73)\n",
      "eta=0.35297, max_depth=3 | valid_loss=0.16242 (iters=29)\n",
      "eta=0.35297, max_depth=4 | valid_loss=0.17966 (iters=45)\n",
      "eta=0.35297, max_depth=5 | valid_loss=0.17918 (iters=31)\n",
      "eta=0.36123, max_depth=1 | valid_loss=0.20049 (iters=32)\n",
      "eta=0.36123, max_depth=2 | valid_loss=0.15388 (iters=59)\n",
      "eta=0.36123, max_depth=3 | valid_loss=0.16496 (iters=73)\n",
      "eta=0.36123, max_depth=4 | valid_loss=0.17769 (iters=21)\n",
      "eta=0.36123, max_depth=5 | valid_loss=0.17429 (iters=16)\n",
      "eta=0.36969, max_depth=1 | valid_loss=0.20752 (iters=32)\n",
      "eta=0.36969, max_depth=2 | valid_loss=0.14622 (iters=95)\n",
      "eta=0.36969, max_depth=3 | valid_loss=0.16735 (iters=62)\n",
      "eta=0.36969, max_depth=4 | valid_loss=0.17606 (iters=44)\n",
      "eta=0.36969, max_depth=5 | valid_loss=0.17368 (iters=46)\n",
      "eta=0.37835, max_depth=1 | valid_loss=0.20102 (iters=78)\n",
      "eta=0.37835, max_depth=2 | valid_loss=0.14760 (iters=67)\n",
      "eta=0.37835, max_depth=3 | valid_loss=0.17768 (iters=54)\n",
      "eta=0.37835, max_depth=4 | valid_loss=0.17420 (iters=74)\n",
      "eta=0.37835, max_depth=5 | valid_loss=0.17576 (iters=45)\n",
      "eta=0.38720, max_depth=1 | valid_loss=0.20487 (iters=40)\n",
      "eta=0.38720, max_depth=2 | valid_loss=0.14449 (iters=98)\n",
      "eta=0.38720, max_depth=3 | valid_loss=0.17331 (iters=39)\n",
      "eta=0.38720, max_depth=4 | valid_loss=0.17918 (iters=41)\n",
      "eta=0.38720, max_depth=5 | valid_loss=0.16958 (iters=25)\n",
      "eta=0.39627, max_depth=1 | valid_loss=0.20470 (iters=60)\n",
      "eta=0.39627, max_depth=2 | valid_loss=0.16669 (iters=75)\n",
      "eta=0.39627, max_depth=3 | valid_loss=0.16986 (iters=26)\n",
      "eta=0.39627, max_depth=4 | valid_loss=0.17962 (iters=17)\n",
      "eta=0.39627, max_depth=5 | valid_loss=0.17535 (iters=21)\n",
      "eta=0.40555, max_depth=1 | valid_loss=0.20447 (iters=43)\n",
      "eta=0.40555, max_depth=2 | valid_loss=0.15330 (iters=65)\n",
      "eta=0.40555, max_depth=3 | valid_loss=0.16025 (iters=41)\n",
      "eta=0.40555, max_depth=4 | valid_loss=0.18419 (iters=37)\n",
      "eta=0.40555, max_depth=5 | valid_loss=0.18183 (iters=31)\n",
      "eta=0.41504, max_depth=1 | valid_loss=0.20344 (iters=53)\n",
      "eta=0.41504, max_depth=2 | valid_loss=0.17719 (iters=54)\n",
      "eta=0.41504, max_depth=3 | valid_loss=0.16323 (iters=22)\n",
      "eta=0.41504, max_depth=4 | valid_loss=0.18223 (iters=17)\n",
      "eta=0.41504, max_depth=5 | valid_loss=0.18033 (iters=10)\n",
      "eta=0.42476, max_depth=1 | valid_loss=0.20705 (iters=64)\n",
      "eta=0.42476, max_depth=2 | valid_loss=0.17966 (iters=51)\n",
      "eta=0.42476, max_depth=3 | valid_loss=0.16921 (iters=53)\n",
      "eta=0.42476, max_depth=4 | valid_loss=0.18745 (iters=78)\n",
      "eta=0.42476, max_depth=5 | valid_loss=0.17454 (iters=24)\n",
      "eta=0.43470, max_depth=1 | valid_loss=0.20824 (iters=53)\n",
      "eta=0.43470, max_depth=2 | valid_loss=0.18288 (iters=23)\n",
      "eta=0.43470, max_depth=3 | valid_loss=0.17251 (iters=29)\n",
      "eta=0.43470, max_depth=4 | valid_loss=0.18173 (iters=43)\n",
      "eta=0.43470, max_depth=5 | valid_loss=0.17798 (iters=21)\n",
      "eta=0.44488, max_depth=1 | valid_loss=0.21380 (iters=69)\n",
      "eta=0.44488, max_depth=2 | valid_loss=0.18424 (iters=94)\n",
      "eta=0.44488, max_depth=3 | valid_loss=0.16392 (iters=28)\n",
      "eta=0.44488, max_depth=4 | valid_loss=0.16609 (iters=16)\n",
      "eta=0.44488, max_depth=5 | valid_loss=0.17351 (iters=13)\n",
      "eta=0.45529, max_depth=1 | valid_loss=0.21400 (iters=67)\n",
      "eta=0.45529, max_depth=2 | valid_loss=0.16372 (iters=40)\n",
      "eta=0.45529, max_depth=3 | valid_loss=0.16966 (iters=26)\n",
      "eta=0.45529, max_depth=4 | valid_loss=0.18681 (iters=16)\n",
      "eta=0.45529, max_depth=5 | valid_loss=0.18787 (iters=35)\n",
      "eta=0.46595, max_depth=1 | valid_loss=0.21762 (iters=46)\n",
      "eta=0.46595, max_depth=2 | valid_loss=0.17776 (iters=38)\n",
      "eta=0.46595, max_depth=3 | valid_loss=0.17365 (iters=16)\n",
      "eta=0.46595, max_depth=4 | valid_loss=0.18328 (iters=17)\n",
      "eta=0.46595, max_depth=5 | valid_loss=0.18794 (iters=24)\n",
      "eta=0.47686, max_depth=1 | valid_loss=0.21501 (iters=56)\n",
      "eta=0.47686, max_depth=2 | valid_loss=0.18086 (iters=55)\n",
      "eta=0.47686, max_depth=3 | valid_loss=0.16472 (iters=70)\n",
      "eta=0.47686, max_depth=4 | valid_loss=0.18484 (iters=23)\n",
      "eta=0.47686, max_depth=5 | valid_loss=0.19026 (iters=11)\n",
      "eta=0.48803, max_depth=1 | valid_loss=0.20183 (iters=55)\n",
      "eta=0.48803, max_depth=2 | valid_loss=0.17366 (iters=74)\n",
      "eta=0.48803, max_depth=3 | valid_loss=0.16464 (iters=86)\n",
      "eta=0.48803, max_depth=4 | valid_loss=0.17834 (iters=48)\n",
      "eta=0.48803, max_depth=5 | valid_loss=0.18793 (iters=21)\n",
      "eta=0.49945, max_depth=1 | valid_loss=0.19692 (iters=58)\n",
      "eta=0.49945, max_depth=2 | valid_loss=0.17535 (iters=97)\n",
      "eta=0.49945, max_depth=3 | valid_loss=0.17303 (iters=50)\n",
      "eta=0.49945, max_depth=4 | valid_loss=0.19422 (iters=18)\n",
      "eta=0.49945, max_depth=5 | valid_loss=0.18404 (iters=11)\n",
      "eta=0.51114, max_depth=1 | valid_loss=0.20081 (iters=49)\n",
      "eta=0.51114, max_depth=2 | valid_loss=0.21190 (iters=42)\n",
      "eta=0.51114, max_depth=3 | valid_loss=0.17415 (iters=32)\n",
      "eta=0.51114, max_depth=4 | valid_loss=0.18560 (iters=34)\n",
      "eta=0.51114, max_depth=5 | valid_loss=0.18946 (iters=16)\n",
      "eta=0.52311, max_depth=1 | valid_loss=0.20592 (iters=58)\n",
      "eta=0.52311, max_depth=2 | valid_loss=0.17063 (iters=119)\n",
      "eta=0.52311, max_depth=3 | valid_loss=0.17919 (iters=12)\n",
      "eta=0.52311, max_depth=4 | valid_loss=0.19164 (iters=11)\n",
      "eta=0.52311, max_depth=5 | valid_loss=0.18539 (iters=14)\n",
      "eta=0.53536, max_depth=1 | valid_loss=0.20010 (iters=38)\n",
      "eta=0.53536, max_depth=2 | valid_loss=0.16645 (iters=94)\n",
      "eta=0.53536, max_depth=3 | valid_loss=0.16686 (iters=46)\n"
     ]
    },
    {
     "name": "stdout",
     "output_type": "stream",
     "text": [
      "eta=0.53536, max_depth=4 | valid_loss=0.19213 (iters=62)\n",
      "eta=0.53536, max_depth=5 | valid_loss=0.18542 (iters=13)\n",
      "eta=0.54789, max_depth=1 | valid_loss=0.20524 (iters=42)\n",
      "eta=0.54789, max_depth=2 | valid_loss=0.19254 (iters=57)\n",
      "eta=0.54789, max_depth=3 | valid_loss=0.19058 (iters=19)\n",
      "eta=0.54789, max_depth=4 | valid_loss=0.20085 (iters=14)\n",
      "eta=0.54789, max_depth=5 | valid_loss=0.18449 (iters=16)\n",
      "eta=0.56072, max_depth=1 | valid_loss=0.20559 (iters=46)\n",
      "eta=0.56072, max_depth=2 | valid_loss=0.19238 (iters=22)\n",
      "eta=0.56072, max_depth=3 | valid_loss=0.18097 (iters=14)\n",
      "eta=0.56072, max_depth=4 | valid_loss=0.20938 (iters=5)\n",
      "eta=0.56072, max_depth=5 | valid_loss=0.18063 (iters=10)\n",
      "eta=0.57384, max_depth=1 | valid_loss=0.20353 (iters=54)\n",
      "eta=0.57384, max_depth=2 | valid_loss=0.18568 (iters=74)\n",
      "eta=0.57384, max_depth=3 | valid_loss=0.17453 (iters=22)\n",
      "eta=0.57384, max_depth=4 | valid_loss=0.18241 (iters=22)\n",
      "eta=0.57384, max_depth=5 | valid_loss=0.19332 (iters=8)\n",
      "eta=0.58728, max_depth=1 | valid_loss=0.21222 (iters=57)\n",
      "eta=0.58728, max_depth=2 | valid_loss=0.17733 (iters=93)\n",
      "eta=0.58728, max_depth=3 | valid_loss=0.19197 (iters=24)\n",
      "eta=0.58728, max_depth=4 | valid_loss=0.19284 (iters=13)\n",
      "eta=0.58728, max_depth=5 | valid_loss=0.19200 (iters=18)\n",
      "eta=0.60103, max_depth=1 | valid_loss=0.20481 (iters=72)\n",
      "eta=0.60103, max_depth=2 | valid_loss=0.20041 (iters=45)\n",
      "eta=0.60103, max_depth=3 | valid_loss=0.18694 (iters=39)\n",
      "eta=0.60103, max_depth=4 | valid_loss=0.19485 (iters=5)\n",
      "eta=0.60103, max_depth=5 | valid_loss=0.21059 (iters=13)\n",
      "eta=0.61510, max_depth=1 | valid_loss=0.19929 (iters=49)\n",
      "eta=0.61510, max_depth=2 | valid_loss=0.21781 (iters=7)\n",
      "eta=0.61510, max_depth=3 | valid_loss=0.17608 (iters=20)\n",
      "eta=0.61510, max_depth=4 | valid_loss=0.20274 (iters=13)\n",
      "eta=0.61510, max_depth=5 | valid_loss=0.20008 (iters=10)\n",
      "eta=0.62950, max_depth=1 | valid_loss=0.20058 (iters=86)\n",
      "eta=0.62950, max_depth=2 | valid_loss=0.19129 (iters=69)\n",
      "eta=0.62950, max_depth=3 | valid_loss=0.19451 (iters=17)\n",
      "eta=0.62950, max_depth=4 | valid_loss=0.19893 (iters=58)\n",
      "eta=0.62950, max_depth=5 | valid_loss=0.20763 (iters=11)\n",
      "eta=0.64424, max_depth=1 | valid_loss=0.20555 (iters=80)\n",
      "eta=0.64424, max_depth=2 | valid_loss=0.18597 (iters=88)\n",
      "eta=0.64424, max_depth=3 | valid_loss=0.18554 (iters=21)\n",
      "eta=0.64424, max_depth=4 | valid_loss=0.19449 (iters=17)\n",
      "eta=0.64424, max_depth=5 | valid_loss=0.22581 (iters=7)\n",
      "eta=0.65932, max_depth=1 | valid_loss=0.19740 (iters=56)\n",
      "eta=0.65932, max_depth=2 | valid_loss=0.18873 (iters=61)\n",
      "eta=0.65932, max_depth=3 | valid_loss=0.18569 (iters=33)\n",
      "eta=0.65932, max_depth=4 | valid_loss=0.18944 (iters=7)\n",
      "eta=0.65932, max_depth=5 | valid_loss=0.21613 (iters=7)\n",
      "eta=0.67475, max_depth=1 | valid_loss=0.19689 (iters=49)\n",
      "eta=0.67475, max_depth=2 | valid_loss=0.19529 (iters=54)\n",
      "eta=0.67475, max_depth=3 | valid_loss=0.19005 (iters=17)\n",
      "eta=0.67475, max_depth=4 | valid_loss=0.21094 (iters=24)\n",
      "eta=0.67475, max_depth=5 | valid_loss=0.22147 (iters=5)\n",
      "eta=0.69055, max_depth=1 | valid_loss=0.20873 (iters=49)\n",
      "eta=0.69055, max_depth=2 | valid_loss=0.20357 (iters=31)\n",
      "eta=0.69055, max_depth=3 | valid_loss=0.19536 (iters=7)\n",
      "eta=0.69055, max_depth=4 | valid_loss=0.20262 (iters=36)\n",
      "eta=0.69055, max_depth=5 | valid_loss=0.22383 (iters=18)\n",
      "eta=0.70672, max_depth=1 | valid_loss=0.22596 (iters=25)\n",
      "eta=0.70672, max_depth=2 | valid_loss=0.19632 (iters=101)\n",
      "eta=0.70672, max_depth=3 | valid_loss=0.19828 (iters=9)\n",
      "eta=0.70672, max_depth=4 | valid_loss=0.21148 (iters=15)\n",
      "eta=0.70672, max_depth=5 | valid_loss=0.21508 (iters=6)\n",
      "eta=0.72326, max_depth=1 | valid_loss=0.22204 (iters=48)\n",
      "eta=0.72326, max_depth=2 | valid_loss=0.19777 (iters=65)\n",
      "eta=0.72326, max_depth=3 | valid_loss=0.19440 (iters=27)\n",
      "eta=0.72326, max_depth=4 | valid_loss=0.20804 (iters=17)\n",
      "eta=0.72326, max_depth=5 | valid_loss=0.21567 (iters=9)\n",
      "eta=0.74020, max_depth=1 | valid_loss=0.21713 (iters=55)\n",
      "eta=0.74020, max_depth=2 | valid_loss=0.21534 (iters=16)\n",
      "eta=0.74020, max_depth=3 | valid_loss=0.19845 (iters=13)\n",
      "eta=0.74020, max_depth=4 | valid_loss=0.20600 (iters=31)\n",
      "eta=0.74020, max_depth=5 | valid_loss=0.22045 (iters=4)\n",
      "eta=0.75753, max_depth=1 | valid_loss=0.23373 (iters=24)\n",
      "eta=0.75753, max_depth=2 | valid_loss=0.21483 (iters=25)\n",
      "eta=0.75753, max_depth=3 | valid_loss=0.20595 (iters=6)\n",
      "eta=0.75753, max_depth=4 | valid_loss=0.20119 (iters=44)\n",
      "eta=0.75753, max_depth=5 | valid_loss=0.21054 (iters=3)\n",
      "eta=0.77526, max_depth=1 | valid_loss=0.20365 (iters=181)\n",
      "eta=0.77526, max_depth=2 | valid_loss=0.20130 (iters=17)\n",
      "eta=0.77526, max_depth=3 | valid_loss=0.19372 (iters=26)\n",
      "eta=0.77526, max_depth=4 | valid_loss=0.22121 (iters=11)\n",
      "eta=0.77526, max_depth=5 | valid_loss=0.23346 (iters=7)\n",
      "eta=0.79341, max_depth=1 | valid_loss=0.20608 (iters=117)\n",
      "eta=0.79341, max_depth=2 | valid_loss=0.21602 (iters=10)\n",
      "eta=0.79341, max_depth=3 | valid_loss=0.19578 (iters=19)\n",
      "eta=0.79341, max_depth=4 | valid_loss=0.20631 (iters=10)\n",
      "eta=0.79341, max_depth=5 | valid_loss=0.22443 (iters=16)\n",
      "eta=0.81198, max_depth=1 | valid_loss=0.20625 (iters=139)\n",
      "eta=0.81198, max_depth=2 | valid_loss=0.18635 (iters=98)\n",
      "eta=0.81198, max_depth=3 | valid_loss=0.19945 (iters=24)\n",
      "eta=0.81198, max_depth=4 | valid_loss=0.18908 (iters=6)\n",
      "eta=0.81198, max_depth=5 | valid_loss=0.23349 (iters=7)\n",
      "eta=0.83099, max_depth=1 | valid_loss=0.21743 (iters=68)\n",
      "eta=0.83099, max_depth=2 | valid_loss=0.21419 (iters=9)\n",
      "eta=0.83099, max_depth=3 | valid_loss=0.21450 (iters=16)\n",
      "eta=0.83099, max_depth=4 | valid_loss=0.21232 (iters=20)\n",
      "eta=0.83099, max_depth=5 | valid_loss=0.21072 (iters=6)\n",
      "eta=0.85045, max_depth=1 | valid_loss=0.20728 (iters=145)\n",
      "eta=0.85045, max_depth=2 | valid_loss=0.19502 (iters=54)\n",
      "eta=0.85045, max_depth=3 | valid_loss=0.19936 (iters=16)\n",
      "eta=0.85045, max_depth=4 | valid_loss=0.19155 (iters=26)\n",
      "eta=0.85045, max_depth=5 | valid_loss=0.21563 (iters=14)\n",
      "eta=0.87036, max_depth=1 | valid_loss=0.21498 (iters=135)\n",
      "eta=0.87036, max_depth=2 | valid_loss=0.22894 (iters=46)\n",
      "eta=0.87036, max_depth=3 | valid_loss=0.20000 (iters=79)\n",
      "eta=0.87036, max_depth=4 | valid_loss=0.22072 (iters=7)\n",
      "eta=0.87036, max_depth=5 | valid_loss=0.21676 (iters=4)\n",
      "eta=0.89074, max_depth=1 | valid_loss=0.24237 (iters=16)\n",
      "eta=0.89074, max_depth=2 | valid_loss=0.20771 (iters=16)\n",
      "eta=0.89074, max_depth=3 | valid_loss=0.21284 (iters=9)\n",
      "eta=0.89074, max_depth=4 | valid_loss=0.21112 (iters=23)\n",
      "eta=0.89074, max_depth=5 | valid_loss=0.22480 (iters=26)\n",
      "eta=0.91159, max_depth=1 | valid_loss=0.20886 (iters=74)\n",
      "eta=0.91159, max_depth=2 | valid_loss=0.22476 (iters=15)\n",
      "eta=0.91159, max_depth=3 | valid_loss=0.18051 (iters=40)\n",
      "eta=0.91159, max_depth=4 | valid_loss=0.22773 (iters=10)\n",
      "eta=0.91159, max_depth=5 | valid_loss=0.22754 (iters=4)\n",
      "eta=0.93293, max_depth=1 | valid_loss=0.20075 (iters=115)\n",
      "eta=0.93293, max_depth=2 | valid_loss=0.21472 (iters=16)\n",
      "eta=0.93293, max_depth=3 | valid_loss=0.18605 (iters=8)\n",
      "eta=0.93293, max_depth=4 | valid_loss=0.24395 (iters=0)\n",
      "eta=0.93293, max_depth=5 | valid_loss=0.22729 (iters=9)\n",
      "eta=0.95477, max_depth=1 | valid_loss=0.21442 (iters=41)\n",
      "eta=0.95477, max_depth=2 | valid_loss=0.22932 (iters=15)\n",
      "eta=0.95477, max_depth=3 | valid_loss=0.19056 (iters=6)\n",
      "eta=0.95477, max_depth=4 | valid_loss=0.23882 (iters=9)\n",
      "eta=0.95477, max_depth=5 | valid_loss=0.23992 (iters=7)\n",
      "eta=0.97712, max_depth=1 | valid_loss=0.20587 (iters=47)\n",
      "eta=0.97712, max_depth=2 | valid_loss=0.20802 (iters=31)\n",
      "eta=0.97712, max_depth=3 | valid_loss=0.20021 (iters=6)\n",
      "eta=0.97712, max_depth=4 | valid_loss=0.23939 (iters=0)\n",
      "eta=0.97712, max_depth=5 | valid_loss=0.21881 (iters=2)\n",
      "eta=1.00000, max_depth=1 | valid_loss=0.20578 (iters=27)\n",
      "eta=1.00000, max_depth=2 | valid_loss=0.21639 (iters=6)\n",
      "eta=1.00000, max_depth=3 | valid_loss=0.21263 (iters=10)\n",
      "eta=1.00000, max_depth=4 | valid_loss=0.24072 (iters=0)\n",
      "eta=1.00000, max_depth=5 | valid_loss=0.23332 (iters=7)\n"
     ]
    }
   ],
   "source": [
    "# Perform grid search\n",
    "data_out = 'data_xgb_05ResidentialBuilding'\n",
    "df_grid_loss = pd.DataFrame(columns = ['eta', 'max_depth', 'valid_loss'], \n",
    "                            index = range(len(grid_param)))\n",
    "i = 0\n",
    "for eta, max_depth in grid_param:\n",
    "    param[0] = ('eta', eta)\n",
    "    param[1] = ('max_depth', max_depth)\n",
    "    \n",
    "    xgb_clf = xgb.train(param, dtrain, \n",
    "                        num_boost_round = 5000, \n",
    "                        evals = valid_list, \n",
    "                        early_stopping_rounds = 20, \n",
    "                        verbose_eval = False)\n",
    "    \n",
    "    print(\"eta={:.5f}, max_depth={} | valid_loss={:.5f} (iters={})\".format(eta, \n",
    "                                                                          max_depth, \n",
    "                                                                          xgb_clf.best_score, \n",
    "                                                                          xgb_clf.best_iteration))\n",
    "    df_grid_loss.iloc[i,:] = [eta, max_depth, xgb_clf.best_score]\n",
    "    i += 1\n",
    "    \n",
    "# .save grid search results\n",
    "    df_grid_loss.to_csv(os.path.join(data_out, 'df_grid_loss02.csv'), index=None)"
   ]
  },
  {
   "cell_type": "code",
   "execution_count": 230,
   "metadata": {
    "ExecuteTime": {
     "end_time": "2021-02-10T09:50:52.536408Z",
     "start_time": "2021-02-10T09:50:52.529444Z"
    },
    "code_folding": [
     0
    ]
   },
   "outputs": [
    {
     "name": "stdout",
     "output_type": "stream",
     "text": [
      "Best parameters:\n",
      "- Best eta = 0.146\n",
      "- Best max_depth = 2\n",
      "- Best valid loss = 0.142835\n"
     ]
    }
   ],
   "source": [
    "# Display grid search results\n",
    "data_out = 'data_xgb_05ResidentialBuilding'\n",
    "df_grid_loss = pd.read_csv(os.path.join(data_out, 'df_grid_loss02.csv'))\n",
    "\n",
    "idx = df_grid_loss.valid_loss.idxmin()\n",
    "best_eta   = df_grid_loss.iloc[idx, 0]\n",
    "best_depth = df_grid_loss.iloc[idx, 1]\n",
    "best_loss  = df_grid_loss.iloc[idx, 2]\n",
    "print(\"Best parameters:\")\n",
    "print(\"- Best eta = {:.3f}\".format(best_eta))\n",
    "print(\"- Best max_depth = {}\".format(best_depth))\n",
    "print(\"- Best valid loss = {}\".format(best_loss))"
   ]
  },
  {
   "cell_type": "code",
   "execution_count": 231,
   "metadata": {
    "ExecuteTime": {
     "end_time": "2021-02-10T09:51:26.975350Z",
     "start_time": "2021-02-10T09:51:26.840788Z"
    },
    "code_folding": [
     0
    ]
   },
   "outputs": [
    {
     "data": {
      "image/png": "[encoded data removed]",
      "text/plain": [
       "<Figure size 576x432 with 1 Axes>"
      ]
     },
     "metadata": {
      "needs_background": "light"
     },
     "output_type": "display_data"
    }
   ],
   "source": [
    "# Plot Loss vs point in grid search\n",
    "data_out = 'data_xgb_05ResidentialBuilding'\n",
    "df_grid_loss = pd.read_csv(os.path.join(data_out, 'df_grid_loss02.csv'))\n",
    "fig, axes = plt.subplots(figsize=(8,6))\n",
    "axes.scatter(df_grid_loss.index, df_grid_loss['valid_loss'])\n",
    "axes.plot(df_grid_loss.index, df_grid_loss['valid_loss'])\n",
    "axes.set_xlabel(\"grid search point\")\n",
    "axes.set_ylabel(\"Valid loss\")\n",
    "plt.show()"
   ]
  },
  {
   "cell_type": "code",
   "execution_count": 232,
   "metadata": {
    "ExecuteTime": {
     "end_time": "2021-02-10T09:52:21.034784Z",
     "start_time": "2021-02-10T09:52:20.758465Z"
    },
    "code_folding": [
     0
    ]
   },
   "outputs": [
    {
     "name": "stdout",
     "output_type": "stream",
     "text": [
      "[0]\ttrain-rmse:0.97698\tvalid-rmse:0.93541\n",
      "Multiple eval metrics have been passed: 'valid-rmse' will be used for early stopping.\n",
      "\n",
      "Will train until valid-rmse hasn't improved in 50 rounds.\n",
      "[1]\ttrain-rmse:0.85692\tvalid-rmse:0.81288\n",
      "[2]\ttrain-rmse:0.75592\tvalid-rmse:0.70467\n",
      "[3]\ttrain-rmse:0.66852\tvalid-rmse:0.61328\n",
      "[4]\ttrain-rmse:0.59525\tvalid-rmse:0.54039\n",
      "[5]\ttrain-rmse:0.53257\tvalid-rmse:0.47257\n",
      "[6]\ttrain-rmse:0.48079\tvalid-rmse:0.41843\n",
      "[7]\ttrain-rmse:0.43178\tvalid-rmse:0.38089\n",
      "[8]\ttrain-rmse:0.39026\tvalid-rmse:0.34757\n",
      "[9]\ttrain-rmse:0.35739\tvalid-rmse:0.32149\n",
      "[10]\ttrain-rmse:0.32998\tvalid-rmse:0.30234\n",
      "[11]\ttrain-rmse:0.30345\tvalid-rmse:0.28181\n",
      "[12]\ttrain-rmse:0.28148\tvalid-rmse:0.26837\n",
      "[13]\ttrain-rmse:0.26268\tvalid-rmse:0.25648\n",
      "[14]\ttrain-rmse:0.24706\tvalid-rmse:0.24779\n",
      "[15]\ttrain-rmse:0.23397\tvalid-rmse:0.24177\n",
      "[16]\ttrain-rmse:0.21871\tvalid-rmse:0.23248\n",
      "[17]\ttrain-rmse:0.20818\tvalid-rmse:0.22607\n",
      "[18]\ttrain-rmse:0.19692\tvalid-rmse:0.21985\n",
      "[19]\ttrain-rmse:0.18789\tvalid-rmse:0.21545\n",
      "[20]\ttrain-rmse:0.18027\tvalid-rmse:0.21339\n",
      "[21]\ttrain-rmse:0.17286\tvalid-rmse:0.20752\n",
      "[22]\ttrain-rmse:0.16756\tvalid-rmse:0.20681\n",
      "[23]\ttrain-rmse:0.16239\tvalid-rmse:0.20223\n",
      "[24]\ttrain-rmse:0.15824\tvalid-rmse:0.19895\n",
      "[25]\ttrain-rmse:0.15379\tvalid-rmse:0.19786\n",
      "[26]\ttrain-rmse:0.15003\tvalid-rmse:0.19660\n",
      "[27]\ttrain-rmse:0.14700\tvalid-rmse:0.19408\n",
      "[28]\ttrain-rmse:0.14386\tvalid-rmse:0.19185\n",
      "[29]\ttrain-rmse:0.13949\tvalid-rmse:0.18771\n",
      "[30]\ttrain-rmse:0.13665\tvalid-rmse:0.18721\n",
      "[31]\ttrain-rmse:0.13425\tvalid-rmse:0.18534\n",
      "[32]\ttrain-rmse:0.13211\tvalid-rmse:0.18433\n",
      "[33]\ttrain-rmse:0.12940\tvalid-rmse:0.18189\n",
      "[34]\ttrain-rmse:0.12710\tvalid-rmse:0.18029\n",
      "[35]\ttrain-rmse:0.12531\tvalid-rmse:0.17965\n",
      "[36]\ttrain-rmse:0.12262\tvalid-rmse:0.17901\n",
      "[37]\ttrain-rmse:0.12051\tvalid-rmse:0.17694\n",
      "[38]\ttrain-rmse:0.11865\tvalid-rmse:0.17611\n",
      "[39]\ttrain-rmse:0.11715\tvalid-rmse:0.17488\n",
      "[40]\ttrain-rmse:0.11473\tvalid-rmse:0.17319\n",
      "[41]\ttrain-rmse:0.11309\tvalid-rmse:0.17186\n",
      "[42]\ttrain-rmse:0.11184\tvalid-rmse:0.17150\n",
      "[43]\ttrain-rmse:0.11062\tvalid-rmse:0.17123\n",
      "[44]\ttrain-rmse:0.10891\tvalid-rmse:0.17046\n",
      "[45]\ttrain-rmse:0.10784\tvalid-rmse:0.16951\n",
      "[46]\ttrain-rmse:0.10662\tvalid-rmse:0.16903\n",
      "[47]\ttrain-rmse:0.10494\tvalid-rmse:0.16928\n",
      "[48]\ttrain-rmse:0.10395\tvalid-rmse:0.16767\n",
      "[49]\ttrain-rmse:0.10248\tvalid-rmse:0.16524\n",
      "[50]\ttrain-rmse:0.10131\tvalid-rmse:0.16466\n",
      "[51]\ttrain-rmse:0.10046\tvalid-rmse:0.16399\n",
      "[52]\ttrain-rmse:0.09938\tvalid-rmse:0.16303\n",
      "[53]\ttrain-rmse:0.09860\tvalid-rmse:0.16281\n",
      "[54]\ttrain-rmse:0.09769\tvalid-rmse:0.16160\n",
      "[55]\ttrain-rmse:0.09704\tvalid-rmse:0.16107\n",
      "[56]\ttrain-rmse:0.09631\tvalid-rmse:0.16077\n",
      "[57]\ttrain-rmse:0.09565\tvalid-rmse:0.16020\n",
      "[58]\ttrain-rmse:0.09446\tvalid-rmse:0.16111\n",
      "[59]\ttrain-rmse:0.09350\tvalid-rmse:0.15996\n",
      "[60]\ttrain-rmse:0.09295\tvalid-rmse:0.15978\n",
      "[61]\ttrain-rmse:0.09212\tvalid-rmse:0.15907\n",
      "[62]\ttrain-rmse:0.09161\tvalid-rmse:0.15892\n",
      "[63]\ttrain-rmse:0.09086\tvalid-rmse:0.15777\n",
      "[64]\ttrain-rmse:0.09039\tvalid-rmse:0.15670\n",
      "[65]\ttrain-rmse:0.08990\tvalid-rmse:0.15657\n",
      "[66]\ttrain-rmse:0.08916\tvalid-rmse:0.15571\n",
      "[67]\ttrain-rmse:0.08868\tvalid-rmse:0.15573\n",
      "[68]\ttrain-rmse:0.08828\tvalid-rmse:0.15473\n",
      "[69]\ttrain-rmse:0.08770\tvalid-rmse:0.15499\n",
      "[70]\ttrain-rmse:0.08678\tvalid-rmse:0.15498\n",
      "[71]\ttrain-rmse:0.08633\tvalid-rmse:0.15525\n",
      "[72]\ttrain-rmse:0.08578\tvalid-rmse:0.15530\n",
      "[73]\ttrain-rmse:0.08542\tvalid-rmse:0.15519\n",
      "[74]\ttrain-rmse:0.08397\tvalid-rmse:0.15473\n",
      "[75]\ttrain-rmse:0.08320\tvalid-rmse:0.15386\n",
      "[76]\ttrain-rmse:0.08285\tvalid-rmse:0.15366\n",
      "[77]\ttrain-rmse:0.08234\tvalid-rmse:0.15389\n",
      "[78]\ttrain-rmse:0.08175\tvalid-rmse:0.15346\n",
      "[79]\ttrain-rmse:0.08051\tvalid-rmse:0.15269\n",
      "[80]\ttrain-rmse:0.08020\tvalid-rmse:0.15301\n",
      "[81]\ttrain-rmse:0.07994\tvalid-rmse:0.15273\n",
      "[82]\ttrain-rmse:0.07945\tvalid-rmse:0.15284\n",
      "[83]\ttrain-rmse:0.07912\tvalid-rmse:0.15261\n",
      "[84]\ttrain-rmse:0.07884\tvalid-rmse:0.15289\n",
      "[85]\ttrain-rmse:0.07843\tvalid-rmse:0.15306\n",
      "[86]\ttrain-rmse:0.07799\tvalid-rmse:0.15297\n",
      "[87]\ttrain-rmse:0.07746\tvalid-rmse:0.15268\n",
      "[88]\ttrain-rmse:0.07650\tvalid-rmse:0.15280\n",
      "[89]\ttrain-rmse:0.07585\tvalid-rmse:0.15249\n",
      "[90]\ttrain-rmse:0.07561\tvalid-rmse:0.15219\n",
      "[91]\ttrain-rmse:0.07507\tvalid-rmse:0.15168\n",
      "[92]\ttrain-rmse:0.07472\tvalid-rmse:0.15172\n",
      "[93]\ttrain-rmse:0.07392\tvalid-rmse:0.15181\n",
      "[94]\ttrain-rmse:0.07346\tvalid-rmse:0.15192\n",
      "[95]\ttrain-rmse:0.07318\tvalid-rmse:0.15209\n",
      "[96]\ttrain-rmse:0.07298\tvalid-rmse:0.15193\n",
      "[97]\ttrain-rmse:0.07261\tvalid-rmse:0.15197\n",
      "[98]\ttrain-rmse:0.07212\tvalid-rmse:0.15140\n",
      "[99]\ttrain-rmse:0.07178\tvalid-rmse:0.15171\n",
      "[100]\ttrain-rmse:0.07155\tvalid-rmse:0.15167\n",
      "[101]\ttrain-rmse:0.07137\tvalid-rmse:0.15198\n",
      "[102]\ttrain-rmse:0.07104\tvalid-rmse:0.15181\n",
      "[103]\ttrain-rmse:0.07072\tvalid-rmse:0.15218\n",
      "[104]\ttrain-rmse:0.07053\tvalid-rmse:0.15220\n",
      "[105]\ttrain-rmse:0.06979\tvalid-rmse:0.15219\n",
      "[106]\ttrain-rmse:0.06962\tvalid-rmse:0.15169\n",
      "[107]\ttrain-rmse:0.06892\tvalid-rmse:0.15083\n",
      "[108]\ttrain-rmse:0.06872\tvalid-rmse:0.15081\n",
      "[109]\ttrain-rmse:0.06855\tvalid-rmse:0.15112\n",
      "[110]\ttrain-rmse:0.06817\tvalid-rmse:0.15075\n",
      "[111]\ttrain-rmse:0.06784\tvalid-rmse:0.15049\n",
      "[112]\ttrain-rmse:0.06769\tvalid-rmse:0.15033\n",
      "[113]\ttrain-rmse:0.06754\tvalid-rmse:0.15051\n",
      "[114]\ttrain-rmse:0.06727\tvalid-rmse:0.15036\n",
      "[115]\ttrain-rmse:0.06687\tvalid-rmse:0.15029\n",
      "[116]\ttrain-rmse:0.06649\tvalid-rmse:0.14987\n",
      "[117]\ttrain-rmse:0.06634\tvalid-rmse:0.15020\n",
      "[118]\ttrain-rmse:0.06603\tvalid-rmse:0.15019\n",
      "[119]\ttrain-rmse:0.06556\tvalid-rmse:0.15018\n",
      "[120]\ttrain-rmse:0.06491\tvalid-rmse:0.14943\n",
      "[121]\ttrain-rmse:0.06429\tvalid-rmse:0.14904\n",
      "[122]\ttrain-rmse:0.06389\tvalid-rmse:0.14886\n",
      "[123]\ttrain-rmse:0.06373\tvalid-rmse:0.14914\n",
      "[124]\ttrain-rmse:0.06345\tvalid-rmse:0.14928\n",
      "[125]\ttrain-rmse:0.06315\tvalid-rmse:0.14966\n",
      "[126]\ttrain-rmse:0.06282\tvalid-rmse:0.14933\n",
      "[127]\ttrain-rmse:0.06262\tvalid-rmse:0.14956\n",
      "[128]\ttrain-rmse:0.06232\tvalid-rmse:0.14916\n",
      "[129]\ttrain-rmse:0.06220\tvalid-rmse:0.14903\n",
      "[130]\ttrain-rmse:0.06183\tvalid-rmse:0.14860\n",
      "[131]\ttrain-rmse:0.06159\tvalid-rmse:0.14877\n",
      "[132]\ttrain-rmse:0.06143\tvalid-rmse:0.14875\n",
      "[133]\ttrain-rmse:0.06123\tvalid-rmse:0.14809\n",
      "[134]\ttrain-rmse:0.06104\tvalid-rmse:0.14798\n",
      "[135]\ttrain-rmse:0.06092\tvalid-rmse:0.14803\n",
      "[136]\ttrain-rmse:0.06049\tvalid-rmse:0.14745\n",
      "[137]\ttrain-rmse:0.06038\tvalid-rmse:0.14724\n",
      "[138]\ttrain-rmse:0.06028\tvalid-rmse:0.14703\n",
      "[139]\ttrain-rmse:0.05990\tvalid-rmse:0.14686\n",
      "[140]\ttrain-rmse:0.05930\tvalid-rmse:0.14642\n",
      "[141]\ttrain-rmse:0.05883\tvalid-rmse:0.14586\n",
      "[142]\ttrain-rmse:0.05838\tvalid-rmse:0.14553\n",
      "[143]\ttrain-rmse:0.05817\tvalid-rmse:0.14528\n",
      "[144]\ttrain-rmse:0.05806\tvalid-rmse:0.14532\n",
      "[145]\ttrain-rmse:0.05796\tvalid-rmse:0.14547\n",
      "[146]\ttrain-rmse:0.05781\tvalid-rmse:0.14571\n",
      "[147]\ttrain-rmse:0.05751\tvalid-rmse:0.14599\n",
      "[148]\ttrain-rmse:0.05712\tvalid-rmse:0.14546\n",
      "[149]\ttrain-rmse:0.05669\tvalid-rmse:0.14505\n",
      "[150]\ttrain-rmse:0.05645\tvalid-rmse:0.14540\n",
      "[151]\ttrain-rmse:0.05615\tvalid-rmse:0.14527\n",
      "[152]\ttrain-rmse:0.05605\tvalid-rmse:0.14497\n",
      "[153]\ttrain-rmse:0.05556\tvalid-rmse:0.14468\n",
      "[154]\ttrain-rmse:0.05544\tvalid-rmse:0.14450\n",
      "[155]\ttrain-rmse:0.05534\tvalid-rmse:0.14459\n",
      "[156]\ttrain-rmse:0.05517\tvalid-rmse:0.14449\n",
      "[157]\ttrain-rmse:0.05499\tvalid-rmse:0.14448\n",
      "[158]\ttrain-rmse:0.05458\tvalid-rmse:0.14427\n",
      "[159]\ttrain-rmse:0.05412\tvalid-rmse:0.14443\n",
      "[160]\ttrain-rmse:0.05364\tvalid-rmse:0.14403\n",
      "[161]\ttrain-rmse:0.05353\tvalid-rmse:0.14377\n",
      "[162]\ttrain-rmse:0.05339\tvalid-rmse:0.14385\n",
      "[163]\ttrain-rmse:0.05303\tvalid-rmse:0.14401\n",
      "[164]\ttrain-rmse:0.05284\tvalid-rmse:0.14381\n",
      "[165]\ttrain-rmse:0.05239\tvalid-rmse:0.14330\n",
      "[166]\ttrain-rmse:0.05225\tvalid-rmse:0.14324\n",
      "[167]\ttrain-rmse:0.05215\tvalid-rmse:0.14339\n",
      "[168]\ttrain-rmse:0.05203\tvalid-rmse:0.14337\n",
      "[169]\ttrain-rmse:0.05166\tvalid-rmse:0.14304\n",
      "[170]\ttrain-rmse:0.05137\tvalid-rmse:0.14314\n",
      "[171]\ttrain-rmse:0.05111\tvalid-rmse:0.14370\n",
      "[172]\ttrain-rmse:0.05073\tvalid-rmse:0.14338\n",
      "[173]\ttrain-rmse:0.05062\tvalid-rmse:0.14310\n",
      "[174]\ttrain-rmse:0.05027\tvalid-rmse:0.14311\n",
      "[175]\ttrain-rmse:0.04999\tvalid-rmse:0.14283\n",
      "[176]\ttrain-rmse:0.04969\tvalid-rmse:0.14300\n",
      "[177]\ttrain-rmse:0.04961\tvalid-rmse:0.14316\n",
      "[178]\ttrain-rmse:0.04947\tvalid-rmse:0.14319\n",
      "[179]\ttrain-rmse:0.04928\tvalid-rmse:0.14340\n",
      "[180]\ttrain-rmse:0.04918\tvalid-rmse:0.14339\n",
      "[181]\ttrain-rmse:0.04911\tvalid-rmse:0.14359\n",
      "[182]\ttrain-rmse:0.04902\tvalid-rmse:0.14363\n",
      "[183]\ttrain-rmse:0.04865\tvalid-rmse:0.14358\n",
      "[184]\ttrain-rmse:0.04833\tvalid-rmse:0.14376\n",
      "[185]\ttrain-rmse:0.04800\tvalid-rmse:0.14339\n"
     ]
    },
    {
     "name": "stdout",
     "output_type": "stream",
     "text": [
      "[186]\ttrain-rmse:0.04791\tvalid-rmse:0.14339\n",
      "[187]\ttrain-rmse:0.04785\tvalid-rmse:0.14336\n",
      "[188]\ttrain-rmse:0.04778\tvalid-rmse:0.14326\n",
      "[189]\ttrain-rmse:0.04764\tvalid-rmse:0.14353\n",
      "[190]\ttrain-rmse:0.04742\tvalid-rmse:0.14394\n",
      "[191]\ttrain-rmse:0.04714\tvalid-rmse:0.14384\n",
      "[192]\ttrain-rmse:0.04707\tvalid-rmse:0.14363\n",
      "[193]\ttrain-rmse:0.04670\tvalid-rmse:0.14351\n",
      "[194]\ttrain-rmse:0.04640\tvalid-rmse:0.14353\n",
      "[195]\ttrain-rmse:0.04632\tvalid-rmse:0.14373\n",
      "[196]\ttrain-rmse:0.04602\tvalid-rmse:0.14352\n",
      "[197]\ttrain-rmse:0.04593\tvalid-rmse:0.14334\n",
      "[198]\ttrain-rmse:0.04571\tvalid-rmse:0.14352\n",
      "[199]\ttrain-rmse:0.04542\tvalid-rmse:0.14323\n",
      "[200]\ttrain-rmse:0.04528\tvalid-rmse:0.14325\n",
      "[201]\ttrain-rmse:0.04520\tvalid-rmse:0.14323\n",
      "[202]\ttrain-rmse:0.04514\tvalid-rmse:0.14337\n",
      "[203]\ttrain-rmse:0.04497\tvalid-rmse:0.14374\n",
      "[204]\ttrain-rmse:0.04469\tvalid-rmse:0.14364\n",
      "[205]\ttrain-rmse:0.04460\tvalid-rmse:0.14362\n",
      "[206]\ttrain-rmse:0.04454\tvalid-rmse:0.14341\n",
      "[207]\ttrain-rmse:0.04447\tvalid-rmse:0.14360\n",
      "[208]\ttrain-rmse:0.04441\tvalid-rmse:0.14360\n",
      "[209]\ttrain-rmse:0.04414\tvalid-rmse:0.14336\n",
      "[210]\ttrain-rmse:0.04387\tvalid-rmse:0.14330\n",
      "[211]\ttrain-rmse:0.04372\tvalid-rmse:0.14284\n",
      "[212]\ttrain-rmse:0.04348\tvalid-rmse:0.14301\n",
      "[213]\ttrain-rmse:0.04333\tvalid-rmse:0.14323\n",
      "[214]\ttrain-rmse:0.04309\tvalid-rmse:0.14317\n",
      "[215]\ttrain-rmse:0.04287\tvalid-rmse:0.14330\n",
      "[216]\ttrain-rmse:0.04281\tvalid-rmse:0.14342\n",
      "[217]\ttrain-rmse:0.04252\tvalid-rmse:0.14332\n",
      "[218]\ttrain-rmse:0.04243\tvalid-rmse:0.14315\n",
      "[219]\ttrain-rmse:0.04238\tvalid-rmse:0.14330\n",
      "[220]\ttrain-rmse:0.04217\tvalid-rmse:0.14354\n",
      "[221]\ttrain-rmse:0.04206\tvalid-rmse:0.14379\n",
      "[222]\ttrain-rmse:0.04174\tvalid-rmse:0.14369\n",
      "[223]\ttrain-rmse:0.04155\tvalid-rmse:0.14364\n",
      "[224]\ttrain-rmse:0.04133\tvalid-rmse:0.14374\n",
      "[225]\ttrain-rmse:0.04117\tvalid-rmse:0.14358\n",
      "Stopping. Best iteration:\n",
      "[175]\ttrain-rmse:0.04999\tvalid-rmse:0.14283\n",
      "\n"
     ]
    }
   ],
   "source": [
    "# Train with best hyperparameters\n",
    "param[0] = ('eta', best_eta)\n",
    "param[1] = ('max_depth', best_depth)\n",
    "\n",
    "evals_result = {}\n",
    "xgb_clf = xgb.train(param, dtrain, \n",
    "                    num_boost_round = 5000, \n",
    "                    evals = valid_list, \n",
    "                    early_stopping_rounds = 50, \n",
    "                    verbose_eval = True, \n",
    "                    evals_result=evals_result)"
   ]
  },
  {
   "cell_type": "code",
   "execution_count": 233,
   "metadata": {
    "ExecuteTime": {
     "end_time": "2021-02-10T09:52:55.490300Z",
     "start_time": "2021-02-10T09:52:55.348753Z"
    },
    "code_folding": [
     0
    ]
   },
   "outputs": [
    {
     "data": {
      "image/png": "[encoded data removed]",
      "text/plain": [
       "<Figure size 432x288 with 1 Axes>"
      ]
     },
     "metadata": {
      "needs_background": "light"
     },
     "output_type": "display_data"
    }
   ],
   "source": [
    "# Plot of train/valid loss vs iter\n",
    "fig, axes = plt.subplots(figsize=(6,4))\n",
    "axes.plot(evals_result['train']['rmse'], label=\"train\")\n",
    "axes.plot(evals_result['valid']['rmse'], label=\"valid\")\n",
    "axes.legend()\n",
    "axes.set_ylabel(\"loss\")\n",
    "axes.set_xlabel(\"iteration\")\n",
    "# axes.set_xticks(np.arange(0, len(evals_result['train']['logloss']), 1))\n",
    "plt.show()"
   ]
  },
  {
   "cell_type": "code",
   "execution_count": 234,
   "metadata": {
    "ExecuteTime": {
     "end_time": "2021-02-10T09:54:27.051535Z",
     "start_time": "2021-02-10T09:54:27.030842Z"
    },
    "code_folding": [
     0
    ]
   },
   "outputs": [
    {
     "name": "stdout",
     "output_type": "stream",
     "text": [
      "model saved at: 'data_xgb_05ResidentialBuilding/xgb_model02.json'\n",
      "best params saved at: 'data_xgb_05ResidentialBuilding/xgb_best_params02.json'\n"
     ]
    }
   ],
   "source": [
    "# Save model and model's best params\n",
    "data_out = 'data_xgb_05ResidentialBuilding'\n",
    "xgb_clf.save_model(os.path.join(data_out, 'xgb_model02.json'))\n",
    "print(\"model saved at: '{}'\".format(os.path.join(data_out, 'xgb_model02.json')))\n",
    "\n",
    "best_params = {}\n",
    "best_params['best_eta'] = best_eta\n",
    "best_params['best_depth'] = int(best_depth)\n",
    "with open(os.path.join(data_out, 'xgb_best_params02.json'), 'w') as f:\n",
    "    json.dump(best_params, f)\n",
    "print(\"best params saved at: '{}'\".format(os.path.join(data_out, 'xgb_best_params02.json')))"
   ]
  },
  {
   "cell_type": "code",
   "execution_count": 235,
   "metadata": {
    "ExecuteTime": {
     "end_time": "2021-02-10T09:55:45.629241Z",
     "start_time": "2021-02-10T09:55:45.624681Z"
    },
    "code_folding": [
     0
    ]
   },
   "outputs": [
    {
     "name": "stdout",
     "output_type": "stream",
     "text": [
      "feature map saved at: 'data_xgb_05ResidentialBuilding/xgb_model_fmap02.txt'\n"
     ]
    }
   ],
   "source": [
    "# Save feature map\n",
    "def ceate_feature_map(features, data_out):\n",
    "    f = open(os.path.join(data_out, 'xgb_model_fmap02.txt'), 'w')\n",
    "    i = 0\n",
    "    for feat in features:\n",
    "        f.write('{0}\\t{1}\\tq\\n'.format(i, feat))\n",
    "        i = i + 1\n",
    "    f.close()\n",
    "\n",
    "data_out = 'data_xgb_05ResidentialBuilding'\n",
    "ceate_feature_map(cols_all, data_out)\n",
    "print(\"feature map saved at: '{}'\".format(os.path.join(data_out, 'xgb_model_fmap02.txt')))"
   ]
  },
  {
   "cell_type": "code",
   "execution_count": 247,
   "metadata": {
    "ExecuteTime": {
     "end_time": "2021-02-10T10:01:30.692688Z",
     "start_time": "2021-02-10T10:01:30.660544Z"
    },
    "code_folding": [
     0
    ]
   },
   "outputs": [
    {
     "name": "stdout",
     "output_type": "stream",
     "text": [
      "model results saved at: 'data_xgb_05ResidentialBuilding/results_target_xgb02.csv'\n"
     ]
    },
    {
     "data": {
      "text/html": [
       "<div>\n",
       "<style scoped>\n",
       "    .dataframe tbody tr th:only-of-type {\n",
       "        vertical-align: middle;\n",
       "    }\n",
       "\n",
       "    .dataframe tbody tr th {\n",
       "        vertical-align: top;\n",
       "    }\n",
       "\n",
       "    .dataframe thead th {\n",
       "        text-align: right;\n",
       "    }\n",
       "</style>\n",
       "<table border=\"1\" class=\"dataframe\">\n",
       "  <thead>\n",
       "    <tr style=\"text-align: right;\">\n",
       "      <th></th>\n",
       "      <th>mse</th>\n",
       "      <th>r2</th>\n",
       "    </tr>\n",
       "  </thead>\n",
       "  <tbody>\n",
       "    <tr>\n",
       "      <th>train</th>\n",
       "      <td>0.00169527</td>\n",
       "      <td>0.998305</td>\n",
       "    </tr>\n",
       "    <tr>\n",
       "      <th>valid</th>\n",
       "      <td>0.0206157</td>\n",
       "      <td>0.978076</td>\n",
       "    </tr>\n",
       "    <tr>\n",
       "      <th>test</th>\n",
       "      <td>0.0341635</td>\n",
       "      <td>0.971175</td>\n",
       "    </tr>\n",
       "  </tbody>\n",
       "</table>\n",
       "</div>"
      ],
      "text/plain": [
       "              mse        r2\n",
       "train  0.00169527  0.998305\n",
       "valid   0.0206157  0.978076\n",
       "test    0.0341635  0.971175"
      ]
     },
     "execution_count": 247,
     "metadata": {},
     "output_type": "execute_result"
    }
   ],
   "source": [
    "# Find MSE, R2, Accuracy, etc...\n",
    "target_idx = 1\n",
    "data_out = 'data_xgb_05ResidentialBuilding'\n",
    "model = xgb.Booster(model_file=os.path.join(data_out, 'xgb_model02.json'))\n",
    "df_results = pd.DataFrame(index=['train', 'valid', 'test'], \n",
    "                           columns=['mse', 'r2'])\n",
    "\n",
    "ypred = model.predict(dtrain)\n",
    "df_results.loc['train', 'mse'] = mean_squared_error(ytrain[:,target_idx], ypred, squared=True)\n",
    "df_results.loc['train', 'r2']  = r2_score(ytrain[:,target_idx], ypred)\n",
    "\n",
    "ypred = model.predict(dvalid)\n",
    "df_results.loc['valid', 'mse'] = mean_squared_error(yvalid[:,target_idx], ypred, squared=True)\n",
    "df_results.loc['valid', 'r2']  = r2_score(yvalid[:,target_idx], ypred)\n",
    "\n",
    "ypred = model.predict(dtest)\n",
    "df_results.loc['test', 'mse'] = mean_squared_error(ytest[:,target_idx], ypred, squared=True)\n",
    "df_results.loc['test', 'r2']  = r2_score(ytest[:,target_idx], ypred)\n",
    "\n",
    "# Save data\n",
    "df_results.to_csv(os.path.join(data_out, 'results_target_xgb02.csv'), index=True)\n",
    "print(\"model results saved at: '{}'\".format(os.path.join(data_out, 'results_target_xgb02.csv')))\n",
    "df_results.head()"
   ]
  },
  {
   "cell_type": "code",
   "execution_count": 249,
   "metadata": {
    "ExecuteTime": {
     "end_time": "2021-02-10T10:05:04.631135Z",
     "start_time": "2021-02-10T10:04:47.905627Z"
    },
    "code_folding": [
     0
    ]
   },
   "outputs": [
    {
     "data": {
      "application/vnd.jupyter.widget-view+json": {
       "model_id": "b855f4a9b63f441aabd7270521cc7729",
       "version_major": 2,
       "version_minor": 0
      },
      "text/plain": [
       "HBox(children=(HTML(value='Partitions loop'), FloatProgress(value=0.0), HTML(value='')))"
      ]
     },
     "metadata": {},
     "output_type": "display_data"
    },
    {
     "name": "stdout",
     "output_type": "stream",
     "text": [
      "\n"
     ]
    }
   ],
   "source": [
    "# Find Accuracy +/- STD\n",
    "target_idx = 1\n",
    "data_out = 'data_xgb_05ResidentialBuilding/patitions'\n",
    "df_results = pd.DataFrame(columns=['train_mse', 'valid_mse', 'test_mse', \\\n",
    "                                   'train_r2', 'valid_r2', 'test_r2'])\n",
    "\n",
    "with open('data_xgb_05ResidentialBuilding/xgb_best_params02.json') as f:\n",
    "    best_params = json.load(f)\n",
    "param = [('eta', best_params['best_eta']), \n",
    "         ('max_depth', best_params['best_depth']), \n",
    "         ('objective', 'reg:squarederror'), \n",
    "         ('nthread', 16),\n",
    "         ('eval_metric', 'rmse')\n",
    "]\n",
    "\n",
    "partitions = 100\n",
    "iterator = tqdm.notebook.tqdm(range(1, partitions + 1), desc='Partitions loop')\n",
    "for n in iterator:\n",
    "    X = pd.read_csv('dataset_05ResidentialBuilding/X.csv')\n",
    "    y = pd.read_csv('dataset_05ResidentialBuilding/y.csv')\n",
    "    split_data(X, y, seed1=seed1[n], seed2=seed2[n])\n",
    "    \n",
    "# .normalize data sets\n",
    "    scaler = StandardScaler()\n",
    "    scaler.fit(xtrain)\n",
    "    xtrain = scaler.transform(xtrain)\n",
    "    xvalid = scaler.transform(xvalid)\n",
    "    xtest  = scaler.transform(xtest)\n",
    "\n",
    "    scaler = StandardScaler()\n",
    "    scaler.fit(ytrain)\n",
    "    ytrain = scaler.transform(ytrain)\n",
    "    yvalid = scaler.transform(yvalid)\n",
    "    ytest  = scaler.transform(ytest)\n",
    "    \n",
    "# .build DMatrices\n",
    "    dtrain = xgb.DMatrix(data=xtrain, label=ytrain[:,target_idx], nthread=10)\n",
    "    dvalid = xgb.DMatrix(data=xvalid, label=yvalid[:,target_idx], nthread=10)\n",
    "    dtest  = xgb.DMatrix(data=xtest,  label=ytest[:,target_idx],  nthread=10)\n",
    "    valid_list = [(dtrain, 'train'), (dvalid, 'valid')]\n",
    "\n",
    "# .train model\n",
    "    evals_result = {}\n",
    "    model = xgb.train(param, dtrain, \n",
    "                      num_boost_round = 5000, \n",
    "                      evals = valid_list, \n",
    "                      early_stopping_rounds = 20, \n",
    "                      verbose_eval = False, \n",
    "                      evals_result=evals_result)\n",
    "    \n",
    "# .compute/save accuracy\n",
    "    ypred = model.predict(dtrain)\n",
    "    df_results.loc[n, 'train_mse'] = mean_squared_error(ytrain[:,target_idx], ypred, squared=True)\n",
    "    df_results.loc[n, 'train_r2']  = r2_score(ytrain[:,target_idx], ypred)\n",
    "\n",
    "    ypred = model.predict(dvalid)\n",
    "    df_results.loc[n, 'valid_mse'] = mean_squared_error(yvalid[:,target_idx], ypred, squared=True)\n",
    "    df_results.loc[n, 'valid_r2']   = r2_score(yvalid[:,target_idx], ypred)\n",
    "\n",
    "    ypred = model.predict(dtest)\n",
    "    df_results.loc[n, 'test_mse'] = mean_squared_error(ytest[:,target_idx], ypred, squared=True)\n",
    "    df_results.loc[n, 'test_r2']   = r2_score(ytest[:,target_idx], ypred)\n",
    "\n",
    "    model.save_model(os.path.join(data_out, 'xgb_model02_'+str(n)+'.json'))\n",
    "    df_results.to_csv('data_xgb_05ResidentialBuilding/accuracy_xgb02.csv', index=True)"
   ]
  },
  {
   "cell_type": "code",
   "execution_count": 250,
   "metadata": {
    "ExecuteTime": {
     "end_time": "2021-02-10T10:06:30.469116Z",
     "start_time": "2021-02-10T10:06:30.461397Z"
    },
    "code_folding": [
     0
    ]
   },
   "outputs": [
    {
     "name": "stdout",
     "output_type": "stream",
     "text": [
      "Train mse = 0.00358 +/- 0.00213\n",
      "Valid mse = 0.05383 +/- 0.03860\n",
      "Test mse = 0.05042 +/- 0.03253\n",
      "\n",
      "Train r2 = 0.99642 +/- 0.00213\n",
      "Valid r2 = 0.95134 +/- 0.02509\n",
      "Test r2 = 0.95306 +/- 0.02131\n"
     ]
    }
   ],
   "source": [
    "# Display results\n",
    "data_out = 'data_xgb_05ResidentialBuilding'\n",
    "accuracy_xgb = pd.read_csv(os.path.join(data_out, 'accuracy_xgb02.csv'))\n",
    "print(\"Train mse = {:.5f} +/- {:.5f}\".format(accuracy_xgb['train_mse'].mean(), \n",
    "                                              accuracy_xgb['train_mse'].std()))\n",
    "print(\"Valid mse = {:.5f} +/- {:.5f}\".format(accuracy_xgb['valid_mse'].mean(), \n",
    "                                              accuracy_xgb['valid_mse'].std()))\n",
    "print(\"Test mse = {:.5f} +/- {:.5f}\".format(accuracy_xgb['test_mse'].mean(), \n",
    "                                             accuracy_xgb['test_mse'].std()))\n",
    "\n",
    "print(\"\")\n",
    "print(\"Train r2 = {:.5f} +/- {:.5f}\".format(accuracy_xgb['train_r2'].mean(), \n",
    "                                            accuracy_xgb['train_r2'].std()))\n",
    "print(\"Valid r2 = {:.5f} +/- {:.5f}\".format(accuracy_xgb['valid_r2'].mean(), \n",
    "                                            accuracy_xgb['valid_r2'].std()))\n",
    "print(\"Test r2 = {:.5f} +/- {:.5f}\".format(accuracy_xgb['test_r2'].mean(), \n",
    "                                           accuracy_xgb['test_r2'].std()))"
   ]
  },
  {
   "cell_type": "markdown",
   "metadata": {},
   "source": [
    "### Lockout"
   ]
  },
  {
   "cell_type": "code",
   "execution_count": 396,
   "metadata": {
    "ExecuteTime": {
     "end_time": "2021-02-22T07:50:34.339519Z",
     "start_time": "2021-02-22T07:50:34.336565Z"
    },
    "code_folding": [
     0
    ]
   },
   "outputs": [],
   "source": [
    "# Normalize Data Set\n",
    "def normalize_data():\n",
    "    \"\"\"\n",
    "    \"\"\"\n",
    "    global xtrain, xvalid, xtest, ytrain, yvalid, ytest\n",
    "    scaler = StandardScaler()\n",
    "    scaler.fit(xtrain.numpy())\n",
    "    xtrain = torch.from_numpy(scaler.transform(xtrain.numpy()))\n",
    "    xvalid = torch.from_numpy(scaler.transform(xvalid.numpy()))\n",
    "    xtest = torch.from_numpy(scaler.transform(xtest.numpy()))\n",
    "    \n",
    "    scaler = StandardScaler()\n",
    "    scaler.fit(ytrain.numpy())\n",
    "    ytrain = torch.from_numpy(scaler.transform(ytrain.numpy()))\n",
    "    yvalid = torch.from_numpy(scaler.transform(yvalid.numpy()))\n",
    "    ytest = torch.from_numpy(scaler.transform(ytest.numpy()))"
   ]
  },
  {
   "cell_type": "code",
   "execution_count": 397,
   "metadata": {
    "ExecuteTime": {
     "end_time": "2021-02-22T07:50:36.127382Z",
     "start_time": "2021-02-22T07:50:36.123991Z"
    },
    "code_folding": [
     0
    ]
   },
   "outputs": [],
   "source": [
    "# Save output data\n",
    "def save_output(data_out, f1, f2, f3, new_folder=False):\n",
    "    \"\"\"\n",
    "    \"\"\"\n",
    "# Save relevant data\n",
    "    if new_folder == True:\n",
    "        dirs = os.listdir()\n",
    "        if data_out in dirs:\n",
    "            print(\"'{}' directory deleted.\".format(data_out))\n",
    "            shutil.rmtree(data_out)\n",
    "            print(\"'{}' directory created.\\n\".format(data_out))\n",
    "            os.mkdir(data_out)\n",
    "        else:\n",
    "            print(\"'{}' directory created.\\n\".format(data_out))\n",
    "            os.mkdir(data_out)\n",
    "# \n",
    "    train_loss.to_csv(os.path.join(data_out, f1), index=False)\n",
    "    valid_loss.to_csv(os.path.join(data_out, f2), index=False)\n",
    "    print(\"'{}' saved.\".format(f1))\n",
    "    print(\"'{}' saved.\".format(f2))\n",
    "\n",
    "    for m in f3:\n",
    "        shutil.move(m, os.path.join(data_out, m))\n",
    "        print(\"'{}' saved.\".format(m))"
   ]
  },
  {
   "cell_type": "markdown",
   "metadata": {},
   "source": [
    "#### Target 2: l1=5, l2=1; lockout=l1"
   ]
  },
  {
   "cell_type": "code",
   "execution_count": 476,
   "metadata": {
    "ExecuteTime": {
     "end_time": "2021-02-24T06:45:34.266034Z",
     "start_time": "2021-02-24T06:45:34.263683Z"
    },
    "code_folding": [
     0
    ]
   },
   "outputs": [],
   "source": [
    "# Set layers where lockdown is to be applied\n",
    "def get_lockdown_layers(model):\n",
    "    layers = [model.classifier[0]]\n",
    "    return layers"
   ]
  },
  {
   "cell_type": "code",
   "execution_count": 477,
   "metadata": {
    "ExecuteTime": {
     "end_time": "2021-02-24T06:45:39.915379Z",
     "start_time": "2021-02-24T06:45:39.911470Z"
    },
    "code_folding": [
     0
    ]
   },
   "outputs": [],
   "source": [
    "# NN architecture with its corresponding forward method\n",
    "class MyNet(nn.Module):\n",
    "    \n",
    "# .Network architecture\n",
    "    def __init__(self, features, layer_sizes):\n",
    "        super(MyNet, self).__init__()\n",
    "        \n",
    "        self.classifier = nn.Sequential(\n",
    "            nn.Linear(features, layer_sizes[0], bias=True),\n",
    "            nn.ReLU(inplace=True),\n",
    "            nn.Linear(layer_sizes[0], layer_sizes[1], bias=True)#,\n",
    "#             nn.ReLU(inplace=True),\n",
    "#             nn.Linear(layer_sizes[1], layer_sizes[2], bias=True)#,\n",
    "#             nn.ReLU(inplace=True),\n",
    "#             nn.Linear(layer_sizes[2], layer_sizes[3], bias=True)\n",
    "        )\n",
    "\n",
    "# .Forward function\n",
    "    def forward(self, x):\n",
    "        x = self.classifier(x)\n",
    "        return x"
   ]
  },
  {
   "cell_type": "code",
   "execution_count": 478,
   "metadata": {
    "ExecuteTime": {
     "end_time": "2021-02-24T06:45:51.480193Z",
     "start_time": "2021-02-24T06:45:51.475764Z"
    },
    "code_folding": [
     0
    ]
   },
   "outputs": [],
   "source": [
    "# Grid search space\n",
    "target_idx = 0\n",
    "grid_lrs = np.geomspace(5e-4, 1e-1, num=10)\n",
    "df_grid_loss = pd.DataFrame(columns = ['lr', 'valid_mse', 'valid_r2'], \n",
    "                            index=range(len(grid_lrs)))"
   ]
  },
  {
   "cell_type": "code",
   "execution_count": 480,
   "metadata": {
    "ExecuteTime": {
     "end_time": "2021-02-24T08:18:54.535291Z",
     "start_time": "2021-02-24T07:13:48.144142Z"
    },
    "code_folding": [
     0
    ],
    "collapsed": true
   },
   "outputs": [
    {
     "name": "stdout",
     "output_type": "stream",
     "text": [
      "- train minibatches = 1\n",
      "- valid minibatches = 1\n",
      "- test minibatches = 1\n"
     ]
    },
    {
     "data": {
      "application/vnd.jupyter.widget-view+json": {
       "model_id": "89340d85353d428886f064fc212b4e7c",
       "version_major": 2,
       "version_minor": 0
      },
      "text/plain": [
       "HBox(children=(HTML(value='lr-grid loop'), FloatProgress(value=0.0, max=10.0), HTML(value='')))"
      ]
     },
     "metadata": {},
     "output_type": "display_data"
    },
    {
     "data": {
      "application/vnd.jupyter.widget-view+json": {
       "model_id": "48e30587bd5a47e698c2b497c57cd68e",
       "version_major": 2,
       "version_minor": 0
      },
      "text/plain": [
       "HBox(children=(HTML(value='Epochs loop'), FloatProgress(value=0.0, max=50000.0), HTML(value='')))"
      ]
     },
     "metadata": {},
     "output_type": "display_data"
    },
    {
     "name": "stdout",
     "output_type": "stream",
     "text": [
      "\n",
      "Summary:\n",
      "-learning rate = 0.00050\n",
      "-Model saved after iteration 49998.\n",
      "-Train.  Loss=0.0088932\n",
      "-Valid.  Loss=0.0223631\n",
      "\n",
      "Best train loss = 0.0088929\n",
      "\n",
      "'train_forward02_1.csv' saved.\n",
      "'valid_forward02_1.csv' saved.\n",
      "'model05_forward02_1_last.pth' saved.\n",
      "'model05_forward02_1_best.pth' saved.\n"
     ]
    },
    {
     "data": {
      "application/vnd.jupyter.widget-view+json": {
       "model_id": "1bbf4ab065d442e4976ca9a6b46c5977",
       "version_major": 2,
       "version_minor": 0
      },
      "text/plain": [
       "HBox(children=(HTML(value='Epochs loop'), FloatProgress(value=0.0, max=50000.0), HTML(value='')))"
      ]
     },
     "metadata": {},
     "output_type": "display_data"
    },
    {
     "name": "stdout",
     "output_type": "stream",
     "text": [
      "\n",
      "Summary:\n",
      "-learning rate = 0.00090\n",
      "-Model saved after iteration 49992.\n",
      "-Train.  Loss=0.0070796\n",
      "-Valid.  Loss=0.0232058\n",
      "\n",
      "Best train loss = 0.0070791\n",
      "\n",
      "'train_forward02_2.csv' saved.\n",
      "'valid_forward02_2.csv' saved.\n",
      "'model05_forward02_2_last.pth' saved.\n",
      "'model05_forward02_2_best.pth' saved.\n"
     ]
    },
    {
     "data": {
      "application/vnd.jupyter.widget-view+json": {
       "model_id": "2f238807ea0149a9b6f7062ffbb698b5",
       "version_major": 2,
       "version_minor": 0
      },
      "text/plain": [
       "HBox(children=(HTML(value='Epochs loop'), FloatProgress(value=0.0, max=50000.0), HTML(value='')))"
      ]
     },
     "metadata": {},
     "output_type": "display_data"
    },
    {
     "name": "stdout",
     "output_type": "stream",
     "text": [
      "\n",
      "Summary:\n",
      "-learning rate = 0.00162\n",
      "-Model saved after iteration 37622.\n",
      "-Train.  Loss=0.0047015\n",
      "-Valid.  Loss=0.0176046\n",
      "\n",
      "Best train loss = 0.0039699\n",
      "\n",
      "'train_forward02_3.csv' saved.\n",
      "'valid_forward02_3.csv' saved.\n",
      "'model05_forward02_3_last.pth' saved.\n",
      "'model05_forward02_3_best.pth' saved.\n"
     ]
    },
    {
     "data": {
      "application/vnd.jupyter.widget-view+json": {
       "model_id": "23f2b183b0f64698ace6a976de499b42",
       "version_major": 2,
       "version_minor": 0
      },
      "text/plain": [
       "HBox(children=(HTML(value='Epochs loop'), FloatProgress(value=0.0, max=50000.0), HTML(value='')))"
      ]
     },
     "metadata": {},
     "output_type": "display_data"
    },
    {
     "name": "stdout",
     "output_type": "stream",
     "text": [
      "\n",
      "Summary:\n",
      "-learning rate = 0.00292\n",
      "-Model saved after iteration 24523.\n",
      "-Train.  Loss=0.0068460\n",
      "-Valid.  Loss=0.0198757\n",
      "\n",
      "Best train loss = 0.0048616\n",
      "\n",
      "'train_forward02_4.csv' saved.\n",
      "'valid_forward02_4.csv' saved.\n",
      "'model05_forward02_4_last.pth' saved.\n",
      "'model05_forward02_4_best.pth' saved.\n"
     ]
    },
    {
     "data": {
      "application/vnd.jupyter.widget-view+json": {
       "model_id": "e4d55b24dddc43d38b007b3e9c212b36",
       "version_major": 2,
       "version_minor": 0
      },
      "text/plain": [
       "HBox(children=(HTML(value='Epochs loop'), FloatProgress(value=0.0, max=50000.0), HTML(value='')))"
      ]
     },
     "metadata": {},
     "output_type": "display_data"
    },
    {
     "name": "stdout",
     "output_type": "stream",
     "text": [
      "\n",
      "Summary:\n",
      "-learning rate = 0.00527\n",
      "-Model saved after iteration 11935.\n",
      "-Train.  Loss=0.0048978\n",
      "-Valid.  Loss=0.0198228\n",
      "\n",
      "Best train loss = 0.0023028\n",
      "\n",
      "'train_forward02_5.csv' saved.\n",
      "'valid_forward02_5.csv' saved.\n",
      "'model05_forward02_5_last.pth' saved.\n",
      "'model05_forward02_5_best.pth' saved.\n"
     ]
    },
    {
     "data": {
      "application/vnd.jupyter.widget-view+json": {
       "model_id": "2b70f20deacf482cab3e42d2d454c4df",
       "version_major": 2,
       "version_minor": 0
      },
      "text/plain": [
       "HBox(children=(HTML(value='Epochs loop'), FloatProgress(value=0.0, max=50000.0), HTML(value='')))"
      ]
     },
     "metadata": {},
     "output_type": "display_data"
    },
    {
     "name": "stdout",
     "output_type": "stream",
     "text": [
      "\n",
      "Summary:\n",
      "-learning rate = 0.00949\n",
      "-Model saved after iteration 13907.\n",
      "-Train.  Loss=0.0045650\n",
      "-Valid.  Loss=0.0167640\n",
      "\n",
      "Best train loss = 0.0019533\n",
      "\n",
      "'train_forward02_6.csv' saved.\n",
      "'valid_forward02_6.csv' saved.\n",
      "'model05_forward02_6_last.pth' saved.\n",
      "'model05_forward02_6_best.pth' saved.\n"
     ]
    },
    {
     "data": {
      "application/vnd.jupyter.widget-view+json": {
       "model_id": "477b91ead426488c9fe741c51ee214f6",
       "version_major": 2,
       "version_minor": 0
      },
      "text/plain": [
       "HBox(children=(HTML(value='Epochs loop'), FloatProgress(value=0.0, max=50000.0), HTML(value='')))"
      ]
     },
     "metadata": {},
     "output_type": "display_data"
    },
    {
     "name": "stdout",
     "output_type": "stream",
     "text": [
      "\n",
      "Summary:\n",
      "-learning rate = 0.01710\n",
      "-Model saved after iteration 36939.\n",
      "-Train.  Loss=0.0017140\n",
      "-Valid.  Loss=0.0159379\n",
      "\n",
      "Best train loss = 0.0016431\n",
      "\n",
      "'train_forward02_7.csv' saved.\n",
      "'valid_forward02_7.csv' saved.\n",
      "'model05_forward02_7_last.pth' saved.\n",
      "'model05_forward02_7_best.pth' saved.\n"
     ]
    },
    {
     "data": {
      "application/vnd.jupyter.widget-view+json": {
       "model_id": "28fe60970169433089b324837e089234",
       "version_major": 2,
       "version_minor": 0
      },
      "text/plain": [
       "HBox(children=(HTML(value='Epochs loop'), FloatProgress(value=0.0, max=50000.0), HTML(value='')))"
      ]
     },
     "metadata": {},
     "output_type": "display_data"
    },
    {
     "name": "stdout",
     "output_type": "stream",
     "text": [
      "\n",
      "Summary:\n",
      "-learning rate = 0.03081\n",
      "-Model saved after iteration 2890.\n",
      "-Train.  Loss=0.0057080\n",
      "-Valid.  Loss=0.0176313\n",
      "\n",
      "Best train loss = 0.0020965\n",
      "\n",
      "'train_forward02_8.csv' saved.\n",
      "'valid_forward02_8.csv' saved.\n",
      "'model05_forward02_8_last.pth' saved.\n",
      "'model05_forward02_8_best.pth' saved.\n"
     ]
    },
    {
     "data": {
      "application/vnd.jupyter.widget-view+json": {
       "model_id": "3f1fd47bf96d42c9b6bebfc209016056",
       "version_major": 2,
       "version_minor": 0
      },
      "text/plain": [
       "HBox(children=(HTML(value='Epochs loop'), FloatProgress(value=0.0, max=50000.0), HTML(value='')))"
      ]
     },
     "metadata": {},
     "output_type": "display_data"
    },
    {
     "name": "stdout",
     "output_type": "stream",
     "text": [
      "\n",
      "Summary:\n",
      "-learning rate = 0.05550\n",
      "-Model saved after iteration 2148.\n",
      "-Train.  Loss=0.0050421\n",
      "-Valid.  Loss=0.0188518\n",
      "\n",
      "Best train loss = 0.0012389\n",
      "\n",
      "'train_forward02_9.csv' saved.\n",
      "'valid_forward02_9.csv' saved.\n",
      "'model05_forward02_9_last.pth' saved.\n",
      "'model05_forward02_9_best.pth' saved.\n"
     ]
    },
    {
     "data": {
      "application/vnd.jupyter.widget-view+json": {
       "model_id": "6540b9825b214934bb57a1805522e63b",
       "version_major": 2,
       "version_minor": 0
      },
      "text/plain": [
       "HBox(children=(HTML(value='Epochs loop'), FloatProgress(value=0.0, max=50000.0), HTML(value='')))"
      ]
     },
     "metadata": {},
     "output_type": "display_data"
    },
    {
     "name": "stdout",
     "output_type": "stream",
     "text": [
      "\n",
      "Summary:\n",
      "-learning rate = 0.10000\n",
      "-Model saved after iteration 1.\n",
      "-Train.  Loss=1.4268827\n",
      "-Valid.  Loss=1.3704185\n",
      "\n",
      "Best train loss = 1.4268827\n",
      "\n",
      "'train_forward02_10.csv' saved.\n",
      "'valid_forward02_10.csv' saved.\n",
      "'model05_forward02_10_last.pth' saved.\n",
      "'model05_forward02_10_best.pth' saved.\n",
      "\n"
     ]
    }
   ],
   "source": [
    "# Perform grid search (unconstrained)\n",
    "target_idx = 1\n",
    "layer_sizes = [5, 1]\n",
    "epochs = 50000\n",
    "data_in = 'dataset_05ResidentialBuilding'\n",
    "data_out = \"data_unconstrained_05ResidentialBuilding/lrs\"\n",
    "lock_flag = False\n",
    "\n",
    "# Read data\n",
    "load_data(data_in)\n",
    "\n",
    "# Normalize data\n",
    "normalize_data()\n",
    "\n",
    "# Create DataLoaders\n",
    "make_DataLoaders(target_idx=target_idx)\n",
    "features = xtrain.size(1)\n",
    "\n",
    "# Train model\n",
    "iterator = tqdm.notebook.tqdm(range(1, len(grid_lrs) + 1), desc='lr-grid loop')\n",
    "for n in iterator:\n",
    "    irow = n-1\n",
    "    fname = 'model05_forward02_'+str(n)\n",
    "    train_loss, valid_loss = train_model(\n",
    "                             grid_lrs[irow], \n",
    "                             features, \n",
    "                             layer_sizes,\n",
    "                             lock_flag = lock_flag,\n",
    "                             epochs=epochs,\n",
    "                             early_stop=epochs, \n",
    "                             fname=fname)\n",
    "    print('\\nBest train loss = {:.7f}\\n'.format(train_loss['loss'].min()))\n",
    "\n",
    "# .save relevant data\n",
    "    f3 = [fname+'_last.pth', fname+'_best.pth']\n",
    "    save_output(data_out, \n",
    "                'train_forward02_'+str(n)+'.csv', \n",
    "                'valid_forward02_'+str(n)+'.csv', f3)\n",
    "    \n",
    "# .find MSE, R2, etc...\n",
    "    mm = MyNet(features, layer_sizes)\n",
    "    mm.load_state_dict(torch.load(os.path.join(data_out, fname+'_best.pth')))\n",
    "    mm = mm.to(device)\n",
    "    mm.eval()\n",
    "\n",
    "    ypred = mm(xvalid)\n",
    "    mse = mean_squared_error(yvalid.detach().numpy()[:,target_idx], ypred.detach().numpy().ravel(), squared=True)\n",
    "    r2 = r2_score(yvalid.detach().numpy()[:,target_idx], ypred.detach().numpy().ravel())\n",
    "\n",
    "# .save grid search results\n",
    "    df_grid_loss.iloc[irow,:] = [grid_lrs[irow], mse, r2]\n",
    "    df_grid_loss.to_csv(os.path.join(data_out, 'df_grid_forward02.csv'), index=None)"
   ]
  },
  {
   "cell_type": "code",
   "execution_count": 487,
   "metadata": {
    "ExecuteTime": {
     "end_time": "2021-02-24T09:23:01.586444Z",
     "start_time": "2021-02-24T09:23:01.388541Z"
    },
    "code_folding": [
     0
    ]
   },
   "outputs": [
    {
     "data": {
      "image/png": "[encoded data removed]",
      "text/plain": [
       "<Figure size 720x432 with 1 Axes>"
      ]
     },
     "metadata": {
      "needs_background": "light"
     },
     "output_type": "display_data"
    }
   ],
   "source": [
    "# Plot Loss vs point in grid search\n",
    "data_out = \"data_unconstrained_05ResidentialBuilding/lrs\"\n",
    "df_grid_loss = pd.read_csv(os.path.join(data_out, 'df_grid_forward02.csv'))\n",
    "fig, axes = plt.subplots(figsize=(10,6))\n",
    "axes.scatter(np.log10(df_grid_loss.lr), df_grid_loss['valid_mse'])\n",
    "axes.plot(np.log10(df_grid_loss.lr), df_grid_loss['valid_mse'], label='mse')\n",
    "# axes.scatter(np.log10(df_grid_loss.lr), df_grid_loss['valid_r2'])\n",
    "# axes.plot(np.log10(df_grid_loss.lr), df_grid_loss['valid_r2'], label='r2')\n",
    "axes.set_xlabel(\"log10(lr)\")\n",
    "axes.set_ylabel(\"Validation metric\")\n",
    "axes.legend()\n",
    "plt.show()"
   ]
  },
  {
   "cell_type": "code",
   "execution_count": 509,
   "metadata": {
    "ExecuteTime": {
     "end_time": "2021-02-25T01:06:28.240968Z",
     "start_time": "2021-02-25T01:06:28.225462Z"
    },
    "code_folding": [
     0
    ]
   },
   "outputs": [
    {
     "name": "stdout",
     "output_type": "stream",
     "text": [
      "Best parameters (7):\n",
      "- Best lr = 0.01710\n",
      "- Best valid mse = 0.015937919\n"
     ]
    },
    {
     "data": {
      "text/plain": [
       "'data_unconstrained_05ResidentialBuilding/valid_loss02.csv'"
      ]
     },
     "execution_count": 509,
     "metadata": {},
     "output_type": "execute_result"
    }
   ],
   "source": [
    "# Display grid search results\n",
    "data_out = \"data_unconstrained_05ResidentialBuilding/lrs\"\n",
    "df_grid_loss = pd.read_csv(os.path.join(data_out, 'df_grid_forward02.csv'))\n",
    "\n",
    "idx = df_grid_loss.valid_mse.idxmin()\n",
    "best_lr_fward = df_grid_loss.iloc[idx, 0]\n",
    "best_mse      = df_grid_loss.iloc[idx, 1]\n",
    "print(\"Best parameters ({}):\".format(idx+1))\n",
    "print(\"- Best lr = {:.5f}\".format(best_lr_fward))\n",
    "print(\"- Best valid mse = {}\".format(best_mse))\n",
    "\n",
    "# Copy best model to main directory\n",
    "shutil.copy(\"data_unconstrained_05ResidentialBuilding/lrs/model05_forward02_\"+str(idx+1)+\"_best.pth\", \n",
    "            \"data_unconstrained_05ResidentialBuilding/model05_forward02_best.pth\")\n",
    "shutil.copy(\"data_unconstrained_05ResidentialBuilding/lrs/model05_forward02_\"+str(idx+1)+\"_last.pth\", \n",
    "            \"data_unconstrained_05ResidentialBuilding/model05_forward02_last.pth\")\n",
    "shutil.copy(\"data_unconstrained_05ResidentialBuilding/lrs/train_forward02_\"+str(idx+1)+\".csv\", \n",
    "            \"data_unconstrained_05ResidentialBuilding/train_loss02.csv\")\n",
    "shutil.copy(\"data_unconstrained_05ResidentialBuilding/lrs/valid_forward02_\"+str(idx+1)+\".csv\", \n",
    "            \"data_unconstrained_05ResidentialBuilding/valid_loss02.csv\")"
   ]
  },
  {
   "cell_type": "code",
   "execution_count": 484,
   "metadata": {
    "ExecuteTime": {
     "end_time": "2021-02-24T08:31:59.451331Z",
     "start_time": "2021-02-24T08:31:59.447082Z"
    },
    "code_folding": []
   },
   "outputs": [],
   "source": [
    "# Grid search space\n",
    "target_idx = 1\n",
    "grid_lrs = np.geomspace(5e-4, 1e-1, num=10)\n",
    "df_grid_loss = pd.DataFrame(columns = ['lr', 'valid_mse', 'valid_r2'], \n",
    "                            index=range(len(grid_lrs)))"
   ]
  },
  {
   "cell_type": "code",
   "execution_count": 486,
   "metadata": {
    "ExecuteTime": {
     "end_time": "2021-02-24T09:02:50.864015Z",
     "start_time": "2021-02-24T08:35:11.013753Z"
    },
    "code_folding": [
     0
    ],
    "collapsed": true
   },
   "outputs": [
    {
     "name": "stdout",
     "output_type": "stream",
     "text": [
      "- train minibatches = 1\n",
      "- valid minibatches = 1\n",
      "- test minibatches = 1\n"
     ]
    },
    {
     "data": {
      "application/vnd.jupyter.widget-view+json": {
       "model_id": "7bb561a4d268460d9557a29ebf414de5",
       "version_major": 2,
       "version_minor": 0
      },
      "text/plain": [
       "HBox(children=(HTML(value='lr-grid loop'), FloatProgress(value=0.0, max=10.0), HTML(value='')))"
      ]
     },
     "metadata": {},
     "output_type": "display_data"
    },
    {
     "data": {
      "application/vnd.jupyter.widget-view+json": {
       "model_id": "dfe8558cc90743fc9aeeca1d4c510d98",
       "version_major": 2,
       "version_minor": 0
      },
      "text/plain": [
       "HBox(children=(HTML(value='Epochs loop'), FloatProgress(value=0.0, max=20000.0), HTML(value='')))"
      ]
     },
     "metadata": {},
     "output_type": "display_data"
    },
    {
     "name": "stdout",
     "output_type": "stream",
     "text": [
      "\n",
      "Summary:\n",
      "-learning rate = 0.00050\n",
      "-Model saved after iteration 10346.\n",
      "-Train.  Loss=0.0053261\n",
      "-Valid.  Loss=0.0148894\n",
      "\n",
      "Best train loss = 0.0050604\n",
      "\n",
      "'train_loss02_1.csv' saved.\n",
      "'valid_loss02_1.csv' saved.\n",
      "'model05_backward02_1_best.pth' saved.\n"
     ]
    },
    {
     "data": {
      "application/vnd.jupyter.widget-view+json": {
       "model_id": "34a2dd76fcc04a6a9205b72289705109",
       "version_major": 2,
       "version_minor": 0
      },
      "text/plain": [
       "HBox(children=(HTML(value='Epochs loop'), FloatProgress(value=0.0, max=20000.0), HTML(value='')))"
      ]
     },
     "metadata": {},
     "output_type": "display_data"
    },
    {
     "name": "stdout",
     "output_type": "stream",
     "text": [
      "\n",
      "Summary:\n",
      "-learning rate = 0.00090\n",
      "-Model saved after iteration 14869.\n",
      "-Train.  Loss=0.0061661\n",
      "-Valid.  Loss=0.0152913\n",
      "\n",
      "Best train loss = 0.0053701\n",
      "\n",
      "'train_loss02_2.csv' saved.\n",
      "'valid_loss02_2.csv' saved.\n",
      "'model05_backward02_2_best.pth' saved.\n"
     ]
    },
    {
     "data": {
      "application/vnd.jupyter.widget-view+json": {
       "model_id": "48d9706e848b4644a4583c89af560bbc",
       "version_major": 2,
       "version_minor": 0
      },
      "text/plain": [
       "HBox(children=(HTML(value='Epochs loop'), FloatProgress(value=0.0, max=20000.0), HTML(value='')))"
      ]
     },
     "metadata": {},
     "output_type": "display_data"
    },
    {
     "name": "stdout",
     "output_type": "stream",
     "text": [
      "\n",
      "Summary:\n",
      "-learning rate = 0.00162\n",
      "-Model saved after iteration 14950.\n",
      "-Train.  Loss=0.0072858\n",
      "-Valid.  Loss=0.0166679\n",
      "\n",
      "Best train loss = 0.0039699\n",
      "\n",
      "'train_loss02_3.csv' saved.\n",
      "'valid_loss02_3.csv' saved.\n",
      "'model05_backward02_3_best.pth' saved.\n"
     ]
    },
    {
     "data": {
      "application/vnd.jupyter.widget-view+json": {
       "model_id": "6255bcf16eb14cd7901003afb309a883",
       "version_major": 2,
       "version_minor": 0
      },
      "text/plain": [
       "HBox(children=(HTML(value='Epochs loop'), FloatProgress(value=0.0, max=20000.0), HTML(value='')))"
      ]
     },
     "metadata": {},
     "output_type": "display_data"
    },
    {
     "name": "stdout",
     "output_type": "stream",
     "text": [
      "\n",
      "Summary:\n",
      "-learning rate = 0.00292\n",
      "-Model saved after iteration 17222.\n",
      "-Train.  Loss=0.0117852\n",
      "-Valid.  Loss=0.0143784\n",
      "\n",
      "Best train loss = 0.0048616\n",
      "\n",
      "'train_loss02_4.csv' saved.\n",
      "'valid_loss02_4.csv' saved.\n",
      "'model05_backward02_4_best.pth' saved.\n"
     ]
    },
    {
     "data": {
      "application/vnd.jupyter.widget-view+json": {
       "model_id": "5aec9fdb2e5747419d61dce73c7bb247",
       "version_major": 2,
       "version_minor": 0
      },
      "text/plain": [
       "HBox(children=(HTML(value='Epochs loop'), FloatProgress(value=0.0, max=20000.0), HTML(value='')))"
      ]
     },
     "metadata": {},
     "output_type": "display_data"
    },
    {
     "name": "stdout",
     "output_type": "stream",
     "text": [
      "\n",
      "Summary:\n",
      "-learning rate = 0.00527\n",
      "-Model saved after iteration 14667.\n",
      "-Train.  Loss=0.0123654\n",
      "-Valid.  Loss=0.0104609\n",
      "\n",
      "Best train loss = 0.0023028\n",
      "\n",
      "'train_loss02_5.csv' saved.\n",
      "'valid_loss02_5.csv' saved.\n",
      "'model05_backward02_5_best.pth' saved.\n"
     ]
    },
    {
     "data": {
      "application/vnd.jupyter.widget-view+json": {
       "model_id": "c8f51f1e991e4e119a4d113ff16a79f3",
       "version_major": 2,
       "version_minor": 0
      },
      "text/plain": [
       "HBox(children=(HTML(value='Epochs loop'), FloatProgress(value=0.0, max=20000.0), HTML(value='')))"
      ]
     },
     "metadata": {},
     "output_type": "display_data"
    },
    {
     "name": "stdout",
     "output_type": "stream",
     "text": [
      "\n",
      "Summary:\n",
      "-learning rate = 0.00949\n",
      "-Model saved after iteration 18839.\n",
      "-Train.  Loss=0.0229262\n",
      "-Valid.  Loss=0.0210174\n",
      "\n",
      "Best train loss = 0.0019533\n",
      "\n",
      "'train_loss02_6.csv' saved.\n",
      "'valid_loss02_6.csv' saved.\n",
      "'model05_backward02_6_best.pth' saved.\n"
     ]
    },
    {
     "data": {
      "application/vnd.jupyter.widget-view+json": {
       "model_id": "65525ac3581245f2b00d342de6406edc",
       "version_major": 2,
       "version_minor": 0
      },
      "text/plain": [
       "HBox(children=(HTML(value='Epochs loop'), FloatProgress(value=0.0, max=20000.0), HTML(value='')))"
      ]
     },
     "metadata": {},
     "output_type": "display_data"
    },
    {
     "name": "stdout",
     "output_type": "stream",
     "text": [
      "\n",
      "Summary:\n",
      "-learning rate = 0.01710\n",
      "-Model saved after iteration 1.\n",
      "-Train.  Loss=0.0016432\n",
      "-Valid.  Loss=0.0160367\n",
      "\n",
      "Best train loss = 0.0016432\n",
      "\n",
      "'train_loss02_7.csv' saved.\n",
      "'valid_loss02_7.csv' saved.\n",
      "'model05_backward02_7_best.pth' saved.\n"
     ]
    },
    {
     "data": {
      "application/vnd.jupyter.widget-view+json": {
       "model_id": "ce308833cc2447dc87c3120c7703edea",
       "version_major": 2,
       "version_minor": 0
      },
      "text/plain": [
       "HBox(children=(HTML(value='Epochs loop'), FloatProgress(value=0.0, max=20000.0), HTML(value='')))"
      ]
     },
     "metadata": {},
     "output_type": "display_data"
    },
    {
     "name": "stdout",
     "output_type": "stream",
     "text": [
      "\n",
      "Summary:\n",
      "-learning rate = 0.03081\n",
      "-Model saved after iteration 15636.\n",
      "-Train.  Loss=0.0243536\n",
      "-Valid.  Loss=0.0201892\n",
      "\n",
      "Best train loss = 0.0023451\n",
      "\n",
      "'train_loss02_8.csv' saved.\n",
      "'valid_loss02_8.csv' saved.\n",
      "'model05_backward02_8_best.pth' saved.\n"
     ]
    },
    {
     "data": {
      "application/vnd.jupyter.widget-view+json": {
       "model_id": "6f9ba5e49d3e45cca1cff5c3742a6143",
       "version_major": 2,
       "version_minor": 0
      },
      "text/plain": [
       "HBox(children=(HTML(value='Epochs loop'), FloatProgress(value=0.0, max=20000.0), HTML(value='')))"
      ]
     },
     "metadata": {},
     "output_type": "display_data"
    },
    {
     "name": "stdout",
     "output_type": "stream",
     "text": [
      "\n",
      "Summary:\n",
      "-learning rate = 0.05550\n",
      "-Model saved after iteration 1.\n",
      "-Train.  Loss=0.0012393\n",
      "-Valid.  Loss=0.0215009\n",
      "\n",
      "Best train loss = 0.0012393\n",
      "\n",
      "'train_loss02_9.csv' saved.\n",
      "'valid_loss02_9.csv' saved.\n",
      "'model05_backward02_9_best.pth' saved.\n"
     ]
    },
    {
     "data": {
      "application/vnd.jupyter.widget-view+json": {
       "model_id": "8202ddfbf7ed43259f5c1faa0dc00d7e",
       "version_major": 2,
       "version_minor": 0
      },
      "text/plain": [
       "HBox(children=(HTML(value='Epochs loop'), FloatProgress(value=0.0, max=20000.0), HTML(value='')))"
      ]
     },
     "metadata": {},
     "output_type": "display_data"
    },
    {
     "name": "stdout",
     "output_type": "stream",
     "text": [
      "\n",
      "Summary:\n",
      "-learning rate = 0.10000\n",
      "-Model saved after iteration 1.\n",
      "-Train.  Loss=nan\n",
      "-Valid.  Loss=nan\n",
      "\n",
      "Best train loss = nan\n",
      "\n",
      "'train_loss02_10.csv' saved.\n",
      "'valid_loss02_10.csv' saved.\n",
      "\n"
     ]
    },
    {
     "ename": "FileNotFoundError",
     "evalue": "[Errno 2] No such file or directory: 'model05_backward02_10_best.pth'",
     "output_type": "error",
     "traceback": [
      "\u001b[0;31m---------------------------------------------------------------------------\u001b[0m",
      "\u001b[0;31mFileNotFoundError\u001b[0m                         Traceback (most recent call last)",
      "\u001b[0;32m~/miniconda3/lib/python3.8/shutil.py\u001b[0m in \u001b[0;36mmove\u001b[0;34m(src, dst, copy_function)\u001b[0m\n\u001b[1;32m    787\u001b[0m     \u001b[0;32mtry\u001b[0m\u001b[0;34m:\u001b[0m\u001b[0;34m\u001b[0m\u001b[0;34m\u001b[0m\u001b[0m\n\u001b[0;32m--> 788\u001b[0;31m         \u001b[0mos\u001b[0m\u001b[0;34m.\u001b[0m\u001b[0mrename\u001b[0m\u001b[0;34m(\u001b[0m\u001b[0msrc\u001b[0m\u001b[0;34m,\u001b[0m \u001b[0mreal_dst\u001b[0m\u001b[0;34m)\u001b[0m\u001b[0;34m\u001b[0m\u001b[0;34m\u001b[0m\u001b[0m\n\u001b[0m\u001b[1;32m    789\u001b[0m     \u001b[0;32mexcept\u001b[0m \u001b[0mOSError\u001b[0m\u001b[0;34m:\u001b[0m\u001b[0;34m\u001b[0m\u001b[0;34m\u001b[0m\u001b[0m\n",
      "\u001b[0;31mFileNotFoundError\u001b[0m: [Errno 2] No such file or directory: 'model05_backward02_10_best.pth' -> 'data_lockdown_05ResidentialBuilding/lrs/model05_backward02_10_best.pth'",
      "\nDuring handling of the above exception, another exception occurred:\n",
      "\u001b[0;31mFileNotFoundError\u001b[0m                         Traceback (most recent call last)",
      "\u001b[0;32m<ipython-input-486-1981e36e8055>\u001b[0m in \u001b[0;36m<module>\u001b[0;34m\u001b[0m\n\u001b[1;32m     36\u001b[0m \u001b[0;31m# .save relevant data\u001b[0m\u001b[0;34m\u001b[0m\u001b[0;34m\u001b[0m\u001b[0;34m\u001b[0m\u001b[0m\n\u001b[1;32m     37\u001b[0m     \u001b[0mf3\u001b[0m \u001b[0;34m=\u001b[0m \u001b[0;34m[\u001b[0m\u001b[0mfname\u001b[0m\u001b[0;34m+\u001b[0m\u001b[0;34m'_best.pth'\u001b[0m\u001b[0;34m]\u001b[0m\u001b[0;34m\u001b[0m\u001b[0;34m\u001b[0m\u001b[0m\n\u001b[0;32m---> 38\u001b[0;31m     save_output(data_out, \n\u001b[0m\u001b[1;32m     39\u001b[0m                 \u001b[0;34m'train_loss02_'\u001b[0m\u001b[0;34m+\u001b[0m\u001b[0mstr\u001b[0m\u001b[0;34m(\u001b[0m\u001b[0mn\u001b[0m\u001b[0;34m)\u001b[0m\u001b[0;34m+\u001b[0m\u001b[0;34m'.csv'\u001b[0m\u001b[0;34m,\u001b[0m\u001b[0;34m\u001b[0m\u001b[0;34m\u001b[0m\u001b[0m\n\u001b[1;32m     40\u001b[0m                 'valid_loss02_'+str(n)+'.csv', f3)\n",
      "\u001b[0;32m<ipython-input-397-9faef7e7bbb3>\u001b[0m in \u001b[0;36msave_output\u001b[0;34m(data_out, f1, f2, f3, new_folder)\u001b[0m\n\u001b[1;32m     21\u001b[0m \u001b[0;34m\u001b[0m\u001b[0m\n\u001b[1;32m     22\u001b[0m     \u001b[0;32mfor\u001b[0m \u001b[0mm\u001b[0m \u001b[0;32min\u001b[0m \u001b[0mf3\u001b[0m\u001b[0;34m:\u001b[0m\u001b[0;34m\u001b[0m\u001b[0;34m\u001b[0m\u001b[0m\n\u001b[0;32m---> 23\u001b[0;31m         \u001b[0mshutil\u001b[0m\u001b[0;34m.\u001b[0m\u001b[0mmove\u001b[0m\u001b[0;34m(\u001b[0m\u001b[0mm\u001b[0m\u001b[0;34m,\u001b[0m \u001b[0mos\u001b[0m\u001b[0;34m.\u001b[0m\u001b[0mpath\u001b[0m\u001b[0;34m.\u001b[0m\u001b[0mjoin\u001b[0m\u001b[0;34m(\u001b[0m\u001b[0mdata_out\u001b[0m\u001b[0;34m,\u001b[0m \u001b[0mm\u001b[0m\u001b[0;34m)\u001b[0m\u001b[0;34m)\u001b[0m\u001b[0;34m\u001b[0m\u001b[0;34m\u001b[0m\u001b[0m\n\u001b[0m\u001b[1;32m     24\u001b[0m         \u001b[0mprint\u001b[0m\u001b[0;34m(\u001b[0m\u001b[0;34m\"'{}' saved.\"\u001b[0m\u001b[0;34m.\u001b[0m\u001b[0mformat\u001b[0m\u001b[0;34m(\u001b[0m\u001b[0mm\u001b[0m\u001b[0;34m)\u001b[0m\u001b[0;34m)\u001b[0m\u001b[0;34m\u001b[0m\u001b[0;34m\u001b[0m\u001b[0m\n",
      "\u001b[0;32m~/miniconda3/lib/python3.8/shutil.py\u001b[0m in \u001b[0;36mmove\u001b[0;34m(src, dst, copy_function)\u001b[0m\n\u001b[1;32m    800\u001b[0m             \u001b[0mrmtree\u001b[0m\u001b[0;34m(\u001b[0m\u001b[0msrc\u001b[0m\u001b[0;34m)\u001b[0m\u001b[0;34m\u001b[0m\u001b[0;34m\u001b[0m\u001b[0m\n\u001b[1;32m    801\u001b[0m         \u001b[0;32melse\u001b[0m\u001b[0;34m:\u001b[0m\u001b[0;34m\u001b[0m\u001b[0;34m\u001b[0m\u001b[0m\n\u001b[0;32m--> 802\u001b[0;31m             \u001b[0mcopy_function\u001b[0m\u001b[0;34m(\u001b[0m\u001b[0msrc\u001b[0m\u001b[0;34m,\u001b[0m \u001b[0mreal_dst\u001b[0m\u001b[0;34m)\u001b[0m\u001b[0;34m\u001b[0m\u001b[0;34m\u001b[0m\u001b[0m\n\u001b[0m\u001b[1;32m    803\u001b[0m             \u001b[0mos\u001b[0m\u001b[0;34m.\u001b[0m\u001b[0munlink\u001b[0m\u001b[0;34m(\u001b[0m\u001b[0msrc\u001b[0m\u001b[0;34m)\u001b[0m\u001b[0;34m\u001b[0m\u001b[0;34m\u001b[0m\u001b[0m\n\u001b[1;32m    804\u001b[0m     \u001b[0;32mreturn\u001b[0m \u001b[0mreal_dst\u001b[0m\u001b[0;34m\u001b[0m\u001b[0;34m\u001b[0m\u001b[0m\n",
      "\u001b[0;32m~/miniconda3/lib/python3.8/shutil.py\u001b[0m in \u001b[0;36mcopy2\u001b[0;34m(src, dst, follow_symlinks)\u001b[0m\n\u001b[1;32m    430\u001b[0m     \u001b[0;32mif\u001b[0m \u001b[0mos\u001b[0m\u001b[0;34m.\u001b[0m\u001b[0mpath\u001b[0m\u001b[0;34m.\u001b[0m\u001b[0misdir\u001b[0m\u001b[0;34m(\u001b[0m\u001b[0mdst\u001b[0m\u001b[0;34m)\u001b[0m\u001b[0;34m:\u001b[0m\u001b[0;34m\u001b[0m\u001b[0;34m\u001b[0m\u001b[0m\n\u001b[1;32m    431\u001b[0m         \u001b[0mdst\u001b[0m \u001b[0;34m=\u001b[0m \u001b[0mos\u001b[0m\u001b[0;34m.\u001b[0m\u001b[0mpath\u001b[0m\u001b[0;34m.\u001b[0m\u001b[0mjoin\u001b[0m\u001b[0;34m(\u001b[0m\u001b[0mdst\u001b[0m\u001b[0;34m,\u001b[0m \u001b[0mos\u001b[0m\u001b[0;34m.\u001b[0m\u001b[0mpath\u001b[0m\u001b[0;34m.\u001b[0m\u001b[0mbasename\u001b[0m\u001b[0;34m(\u001b[0m\u001b[0msrc\u001b[0m\u001b[0;34m)\u001b[0m\u001b[0;34m)\u001b[0m\u001b[0;34m\u001b[0m\u001b[0;34m\u001b[0m\u001b[0m\n\u001b[0;32m--> 432\u001b[0;31m     \u001b[0mcopyfile\u001b[0m\u001b[0;34m(\u001b[0m\u001b[0msrc\u001b[0m\u001b[0;34m,\u001b[0m \u001b[0mdst\u001b[0m\u001b[0;34m,\u001b[0m \u001b[0mfollow_symlinks\u001b[0m\u001b[0;34m=\u001b[0m\u001b[0mfollow_symlinks\u001b[0m\u001b[0;34m)\u001b[0m\u001b[0;34m\u001b[0m\u001b[0;34m\u001b[0m\u001b[0m\n\u001b[0m\u001b[1;32m    433\u001b[0m     \u001b[0mcopystat\u001b[0m\u001b[0;34m(\u001b[0m\u001b[0msrc\u001b[0m\u001b[0;34m,\u001b[0m \u001b[0mdst\u001b[0m\u001b[0;34m,\u001b[0m \u001b[0mfollow_symlinks\u001b[0m\u001b[0;34m=\u001b[0m\u001b[0mfollow_symlinks\u001b[0m\u001b[0;34m)\u001b[0m\u001b[0;34m\u001b[0m\u001b[0;34m\u001b[0m\u001b[0m\n\u001b[1;32m    434\u001b[0m     \u001b[0;32mreturn\u001b[0m \u001b[0mdst\u001b[0m\u001b[0;34m\u001b[0m\u001b[0;34m\u001b[0m\u001b[0m\n",
      "\u001b[0;32m~/miniconda3/lib/python3.8/shutil.py\u001b[0m in \u001b[0;36mcopyfile\u001b[0;34m(src, dst, follow_symlinks)\u001b[0m\n\u001b[1;32m    259\u001b[0m         \u001b[0mos\u001b[0m\u001b[0;34m.\u001b[0m\u001b[0msymlink\u001b[0m\u001b[0;34m(\u001b[0m\u001b[0mos\u001b[0m\u001b[0;34m.\u001b[0m\u001b[0mreadlink\u001b[0m\u001b[0;34m(\u001b[0m\u001b[0msrc\u001b[0m\u001b[0;34m)\u001b[0m\u001b[0;34m,\u001b[0m \u001b[0mdst\u001b[0m\u001b[0;34m)\u001b[0m\u001b[0;34m\u001b[0m\u001b[0;34m\u001b[0m\u001b[0m\n\u001b[1;32m    260\u001b[0m     \u001b[0;32melse\u001b[0m\u001b[0;34m:\u001b[0m\u001b[0;34m\u001b[0m\u001b[0;34m\u001b[0m\u001b[0m\n\u001b[0;32m--> 261\u001b[0;31m         \u001b[0;32mwith\u001b[0m \u001b[0mopen\u001b[0m\u001b[0;34m(\u001b[0m\u001b[0msrc\u001b[0m\u001b[0;34m,\u001b[0m \u001b[0;34m'rb'\u001b[0m\u001b[0;34m)\u001b[0m \u001b[0;32mas\u001b[0m \u001b[0mfsrc\u001b[0m\u001b[0;34m,\u001b[0m \u001b[0mopen\u001b[0m\u001b[0;34m(\u001b[0m\u001b[0mdst\u001b[0m\u001b[0;34m,\u001b[0m \u001b[0;34m'wb'\u001b[0m\u001b[0;34m)\u001b[0m \u001b[0;32mas\u001b[0m \u001b[0mfdst\u001b[0m\u001b[0;34m:\u001b[0m\u001b[0;34m\u001b[0m\u001b[0;34m\u001b[0m\u001b[0m\n\u001b[0m\u001b[1;32m    262\u001b[0m             \u001b[0;31m# macOS\u001b[0m\u001b[0;34m\u001b[0m\u001b[0;34m\u001b[0m\u001b[0;34m\u001b[0m\u001b[0m\n\u001b[1;32m    263\u001b[0m             \u001b[0;32mif\u001b[0m \u001b[0m_HAS_FCOPYFILE\u001b[0m\u001b[0;34m:\u001b[0m\u001b[0;34m\u001b[0m\u001b[0;34m\u001b[0m\u001b[0m\n",
      "\u001b[0;31mFileNotFoundError\u001b[0m: [Errno 2] No such file or directory: 'model05_backward02_10_best.pth'"
     ]
    }
   ],
   "source": [
    "# Perform grid search (Lockdown: path 2)\n",
    "target_idx = 1\n",
    "layer_sizes = [5, 1]\n",
    "epochs = 20000\n",
    "data_in = 'dataset_05ResidentialBuilding'\n",
    "data_out = \"data_lockdown_05ResidentialBuilding/lrs\"\n",
    "step = 1\n",
    "lock_flag = True\n",
    "\n",
    "# Read data\n",
    "load_data(data_in)\n",
    "\n",
    "# Normalize data\n",
    "normalize_data()\n",
    "\n",
    "# Create DataLoaders\n",
    "make_DataLoaders(target_idx=target_idx)\n",
    "features = xtrain.size(1)\n",
    "\n",
    "# Train model\n",
    "iterator = tqdm.notebook.tqdm(range(1, len(grid_lrs) + 1), desc='lr-grid loop')\n",
    "for n in iterator:\n",
    "    irow = n-1\n",
    "    model_forward_name = 'data_unconstrained_05ResidentialBuilding/lrs/model05_forward02_'+str(n)+'_last.pth'\n",
    "    fname = 'model05_backward02_'+str(n)\n",
    "    train_loss, valid_loss = train_model(\n",
    "                             grid_lrs[irow], \n",
    "                             features, \n",
    "                             layer_sizes,\n",
    "                             lock_flag = lock_flag,\n",
    "                             epochs=epochs,\n",
    "                             early_stop=epochs, \n",
    "                             fname=fname)\n",
    "    print('\\nBest train loss = {:.7f}\\n'.format(train_loss['loss'].min()))\n",
    "\n",
    "# .save relevant data\n",
    "    f3 = [fname+'_best.pth']\n",
    "    save_output(data_out, \n",
    "                'train_loss02_'+str(n)+'.csv', \n",
    "                'valid_loss02_'+str(n)+'.csv', f3)\n",
    "    \n",
    "# .find MSE, R2, etc...\n",
    "    mm = MyNet(features, layer_sizes)\n",
    "    mm.load_state_dict(torch.load(os.path.join(data_out, fname+'_best.pth')))\n",
    "    mm = mm.to(device)\n",
    "    mm.eval()\n",
    "\n",
    "    ypred = mm(xvalid)\n",
    "    mse = mean_squared_error(yvalid.detach().numpy()[:,target_idx], ypred.detach().numpy().ravel(), squared=True)\n",
    "    r2 = r2_score(yvalid.detach().numpy()[:,target_idx], ypred.detach().numpy().ravel())\n",
    "\n",
    "# .save grid search results\n",
    "    df_grid_loss.iloc[irow,:] = [grid_lrs[irow], mse, r2]\n",
    "    df_grid_loss.to_csv(os.path.join(data_out, 'df_grid_backward02.csv'), index=None)"
   ]
  },
  {
   "cell_type": "code",
   "execution_count": 489,
   "metadata": {
    "ExecuteTime": {
     "end_time": "2021-02-24T09:26:03.297648Z",
     "start_time": "2021-02-24T09:26:03.118938Z"
    },
    "code_folding": [
     0
    ]
   },
   "outputs": [
    {
     "data": {
      "image/png": "[encoded data removed]",
      "text/plain": [
       "<Figure size 720x432 with 1 Axes>"
      ]
     },
     "metadata": {
      "needs_background": "light"
     },
     "output_type": "display_data"
    }
   ],
   "source": [
    "# Plot Loss vs point in grid search\n",
    "data_out = \"data_lockdown_05ResidentialBuilding/lrs\"\n",
    "df_grid_loss = pd.read_csv(os.path.join(data_out, 'df_grid_backward02.csv'))\n",
    "fig, axes = plt.subplots(figsize=(10,6))\n",
    "axes.scatter(np.log10(df_grid_loss.lr), df_grid_loss['valid_mse'])\n",
    "axes.plot(np.log10(df_grid_loss.lr), df_grid_loss['valid_mse'], label='mse')\n",
    "# axes.scatter(np.log10(df_grid_loss.lr), df_grid_loss['valid_r2'])\n",
    "# axes.plot(np.log10(df_grid_loss.lr), df_grid_loss['valid_r2'], label='r2')\n",
    "axes.set_xlabel(\"log10(lr)\")\n",
    "axes.set_ylabel(\"Validation metric\")\n",
    "axes.legend()\n",
    "plt.show()"
   ]
  },
  {
   "cell_type": "code",
   "execution_count": 510,
   "metadata": {
    "ExecuteTime": {
     "end_time": "2021-02-25T01:07:14.491862Z",
     "start_time": "2021-02-25T01:07:14.470996Z"
    },
    "code_folding": [
     0
    ]
   },
   "outputs": [
    {
     "name": "stdout",
     "output_type": "stream",
     "text": [
      "Best parameters (5):\n",
      "- Best lr = 0.00527\n",
      "- Best valid mse = 0.010460922\n"
     ]
    },
    {
     "data": {
      "text/plain": [
       "'data_lockdown_05ResidentialBuilding/valid_loss02.csv'"
      ]
     },
     "execution_count": 510,
     "metadata": {},
     "output_type": "execute_result"
    }
   ],
   "source": [
    "# Display grid search results\n",
    "data_out = \"data_lockdown_05ResidentialBuilding/lrs\"\n",
    "df_grid_loss = pd.read_csv(os.path.join(data_out, 'df_grid_backward02.csv'))\n",
    "\n",
    "idx = df_grid_loss.valid_mse.idxmin()\n",
    "best_lr_bward = df_grid_loss.iloc[idx, 0]\n",
    "best_mse      = df_grid_loss.iloc[idx, 1]\n",
    "print(\"Best parameters ({}):\".format(idx+1))\n",
    "print(\"- Best lr = {:.5f}\".format(best_lr_bward))\n",
    "print(\"- Best valid mse = {}\".format(best_mse))\n",
    "\n",
    "# Copy best models to main directory\n",
    "shutil.copy(\"data_unconstrained_05ResidentialBuilding/lrs/model05_forward02_\"+str(idx+1)+\"_best.pth\", \n",
    "            \"data_lockdown_05ResidentialBuilding/model05_fward02_best.pth\")\n",
    "shutil.copy(\"data_unconstrained_05ResidentialBuilding/lrs/model05_forward02_\"+str(idx+1)+\"_last.pth\", \n",
    "            \"data_lockdown_05ResidentialBuilding/model05_fward02_last.pth\")\n",
    "shutil.copy(\"data_lockdown_05ResidentialBuilding/lrs/model05_backward02_\"+str(idx+1)+\"_best.pth\", \n",
    "            \"data_lockdown_05ResidentialBuilding/model05_backward02_best.pth\")\n",
    "\n",
    "shutil.copy(\"data_unconstrained_05ResidentialBuilding/lrs/train_forward02_\"+str(idx+1)+\".csv\", \n",
    "            \"data_lockdown_05ResidentialBuilding/train_loss_fward02.csv\")\n",
    "shutil.copy(\"data_unconstrained_05ResidentialBuilding/lrs/valid_forward02_\"+str(idx+1)+\".csv\", \n",
    "            \"data_lockdown_05ResidentialBuilding/valid_loss_fward02.csv\")\n",
    "shutil.copy(\"data_lockdown_05ResidentialBuilding/lrs/train_loss02_\"+str(idx+1)+\".csv\", \n",
    "            \"data_lockdown_05ResidentialBuilding/train_loss02.csv\")\n",
    "shutil.copy(\"data_lockdown_05ResidentialBuilding/lrs/valid_loss02_\"+str(idx+1)+\".csv\", \n",
    "            \"data_lockdown_05ResidentialBuilding/valid_loss02.csv\")"
   ]
  },
  {
   "cell_type": "code",
   "execution_count": 494,
   "metadata": {
    "ExecuteTime": {
     "end_time": "2021-02-24T09:38:12.248096Z",
     "start_time": "2021-02-24T09:38:12.209051Z"
    },
    "code_folding": [
     0
    ]
   },
   "outputs": [
    {
     "name": "stdout",
     "output_type": "stream",
     "text": [
      "model results saved at: 'data_lockdown_05ResidentialBuilding/results_target_lockdown02.csv'\n"
     ]
    },
    {
     "data": {
      "text/html": [
       "<div>\n",
       "<style scoped>\n",
       "    .dataframe tbody tr th:only-of-type {\n",
       "        vertical-align: middle;\n",
       "    }\n",
       "\n",
       "    .dataframe tbody tr th {\n",
       "        vertical-align: top;\n",
       "    }\n",
       "\n",
       "    .dataframe thead th {\n",
       "        text-align: right;\n",
       "    }\n",
       "</style>\n",
       "<table border=\"1\" class=\"dataframe\">\n",
       "  <thead>\n",
       "    <tr style=\"text-align: right;\">\n",
       "      <th></th>\n",
       "      <th></th>\n",
       "      <th>MSE</th>\n",
       "      <th>R2</th>\n",
       "    </tr>\n",
       "  </thead>\n",
       "  <tbody>\n",
       "    <tr>\n",
       "      <th rowspan=\"2\" valign=\"top\">TRAIN</th>\n",
       "      <th>forward</th>\n",
       "      <td>0.00171397</td>\n",
       "      <td>0.998286</td>\n",
       "    </tr>\n",
       "    <tr>\n",
       "      <th>lockdown</th>\n",
       "      <td>0.0123654</td>\n",
       "      <td>0.987635</td>\n",
       "    </tr>\n",
       "    <tr>\n",
       "      <th rowspan=\"2\" valign=\"top\">VALIDATION</th>\n",
       "      <th>forward</th>\n",
       "      <td>0.0159379</td>\n",
       "      <td>0.983051</td>\n",
       "    </tr>\n",
       "    <tr>\n",
       "      <th>lockdown</th>\n",
       "      <td>0.0104609</td>\n",
       "      <td>0.988875</td>\n",
       "    </tr>\n",
       "    <tr>\n",
       "      <th rowspan=\"2\" valign=\"top\">TEST</th>\n",
       "      <th>forward</th>\n",
       "      <td>0.0140404</td>\n",
       "      <td>0.988154</td>\n",
       "    </tr>\n",
       "    <tr>\n",
       "      <th>lockdown</th>\n",
       "      <td>0.0184297</td>\n",
       "      <td>0.98445</td>\n",
       "    </tr>\n",
       "  </tbody>\n",
       "</table>\n",
       "</div>"
      ],
      "text/plain": [
       "                            MSE        R2\n",
       "TRAIN      forward   0.00171397  0.998286\n",
       "           lockdown   0.0123654  0.987635\n",
       "VALIDATION forward    0.0159379  0.983051\n",
       "           lockdown   0.0104609  0.988875\n",
       "TEST       forward    0.0140404  0.988154\n",
       "           lockdown   0.0184297   0.98445"
      ]
     },
     "execution_count": 494,
     "metadata": {},
     "output_type": "execute_result"
    }
   ],
   "source": [
    "# Find MSE, R2, etc...\n",
    "target_idx = 1\n",
    "data_out = \"data_lockdown_05ResidentialBuilding\"\n",
    "index = pd.MultiIndex.from_product([['TRAIN', 'VALIDATION', 'TEST'], ['forward', 'lockdown']])\n",
    "df_results = pd.DataFrame(index=index, columns=['MSE', 'R2'])\n",
    "\n",
    "# Unconstrained results\n",
    "mm = MyNet(features, layer_sizes)\n",
    "mm.load_state_dict(torch.load('data_unconstrained_05ResidentialBuilding/model05_forward02_best.pth'))\n",
    "mm = mm.to(device)\n",
    "mm.eval()\n",
    "\n",
    "ypred = mm(xtrain)\n",
    "mse = mean_squared_error(ytrain[:,target_idx].detach().numpy(), ypred.detach().numpy())\n",
    "r2 = r2_score(ytrain[:,target_idx].detach().numpy(), ypred.detach().numpy())\n",
    "df_results.loc[('TRAIN', 'forward'), 'MSE'] = mse\n",
    "df_results.loc[('TRAIN', 'forward'), 'R2'] = r2\n",
    "\n",
    "ypred = mm(xvalid)\n",
    "mse = mean_squared_error(yvalid[:,target_idx].detach().numpy(), ypred.detach().numpy())\n",
    "r2 = r2_score(yvalid[:,target_idx].detach().numpy(), ypred.detach().numpy())\n",
    "df_results.loc[('VALIDATION', 'forward'), 'MSE'] = mse\n",
    "df_results.loc[('VALIDATION', 'forward'), 'R2'] = r2\n",
    "\n",
    "ypred = mm(xtest)\n",
    "mse = mean_squared_error(ytest[:,target_idx].detach().numpy(), ypred.detach().numpy())\n",
    "r2 = r2_score(ytest[:,target_idx].detach().numpy(), ypred.detach().numpy())\n",
    "df_results.loc[('TEST', 'forward'), 'MSE'] = mse\n",
    "df_results.loc[('TEST', 'forward'), 'R2'] = r2\n",
    "\n",
    "# Lockdown results\n",
    "mm = MyNet(features, layer_sizes)\n",
    "mm.load_state_dict(torch.load('data_lockdown_05ResidentialBuilding/model05_backward02_best.pth'))\n",
    "mm = mm.to(device)\n",
    "mm.eval()\n",
    "\n",
    "ypred = mm(xtrain)\n",
    "mse = mean_squared_error(ytrain[:,target_idx].detach().numpy(), ypred.detach().numpy())\n",
    "r2 = r2_score(ytrain[:,target_idx].detach().numpy(), ypred.detach().numpy())\n",
    "df_results.loc[('TRAIN', 'lockdown'), 'MSE'] = mse\n",
    "df_results.loc[('TRAIN', 'lockdown'), 'R2'] = r2\n",
    "\n",
    "ypred = mm(xvalid)\n",
    "mse = mean_squared_error(yvalid[:,target_idx].detach().numpy(), ypred.detach().numpy())\n",
    "r2 = r2_score(yvalid[:,target_idx].detach().numpy(), ypred.detach().numpy())\n",
    "df_results.loc[('VALIDATION', 'lockdown'), 'MSE'] = mse\n",
    "df_results.loc[('VALIDATION', 'lockdown'), 'R2'] = r2\n",
    "\n",
    "ypred = mm(xtest)\n",
    "mse = mean_squared_error(ytest[:,target_idx].detach().numpy(), ypred.detach().numpy())\n",
    "r2 = r2_score(ytest[:,target_idx].detach().numpy(), ypred.detach().numpy())\n",
    "df_results.loc[('TEST', 'lockdown'), 'MSE'] = mse\n",
    "df_results.loc[('TEST', 'lockdown'), 'R2'] = r2\n",
    "\n",
    "# Save data\n",
    "df_results.to_csv(os.path.join(data_out, 'results_target_lockdown02.csv'), index=True)\n",
    "print(\"model results saved at: '{}'\".format(os.path.join(data_out, 'results_target_lockdown02.csv')))\n",
    "df_results"
   ]
  },
  {
   "cell_type": "code",
   "execution_count": 498,
   "metadata": {
    "ExecuteTime": {
     "end_time": "2021-02-24T14:02:21.425488Z",
     "start_time": "2021-02-24T09:45:15.875445Z"
    },
    "code_folding": [
     0
    ],
    "scrolled": true
   },
   "outputs": [
    {
     "data": {
      "application/vnd.jupyter.widget-view+json": {
       "model_id": "a853db61d1dc4d3ba81e2347cf144bb0",
       "version_major": 2,
       "version_minor": 0
      },
      "text/plain": [
       "HBox(children=(HTML(value='Partitions loop'), FloatProgress(value=0.0), HTML(value='')))"
      ]
     },
     "metadata": {},
     "output_type": "display_data"
    },
    {
     "name": "stdout",
     "output_type": "stream",
     "text": [
      "- train minibatches = 1\n",
      "- valid minibatches = 1\n",
      "- test minibatches = 1\n"
     ]
    },
    {
     "data": {
      "application/vnd.jupyter.widget-view+json": {
       "model_id": "10da45778407470ca6f57b7f906a42a5",
       "version_major": 2,
       "version_minor": 0
      },
      "text/plain": [
       "HBox(children=(HTML(value='Epochs loop'), FloatProgress(value=0.0, max=50000.0), HTML(value='')))"
      ]
     },
     "metadata": {},
     "output_type": "display_data"
    },
    {
     "name": "stdout",
     "output_type": "stream",
     "text": [
      "\n",
      "Summary:\n",
      "-learning rate = 0.01710\n",
      "-path 1 has early stopped:\n",
      " 10000 iterations with no improvement in valid loss.\n",
      "-Model saved after iteration 466.\n",
      "-Train.  Loss=0.0200648\n",
      "-Valid.  Loss=0.0309345\n",
      "'train_loss02_1.csv' saved.\n",
      "'valid_loss02_1.csv' saved.\n",
      "'model05_forward02_1_last.pth' saved.\n",
      "'model05_forward02_1_best.pth' saved.\n",
      "- train minibatches = 1\n",
      "- valid minibatches = 1\n",
      "- test minibatches = 1\n"
     ]
    },
    {
     "data": {
      "application/vnd.jupyter.widget-view+json": {
       "model_id": "2aa8e2a3c01644d3a07004203bd5b4dd",
       "version_major": 2,
       "version_minor": 0
      },
      "text/plain": [
       "HBox(children=(HTML(value='Epochs loop'), FloatProgress(value=0.0, max=50000.0), HTML(value='')))"
      ]
     },
     "metadata": {},
     "output_type": "display_data"
    },
    {
     "name": "stdout",
     "output_type": "stream",
     "text": [
      "\n",
      "Summary:\n",
      "-learning rate = 0.01710\n",
      "-path 1 has early stopped:\n",
      " 10000 iterations with no improvement in valid loss.\n",
      "-Model saved after iteration 16168.\n",
      "-Train.  Loss=0.0026569\n",
      "-Valid.  Loss=0.0093223\n",
      "'train_loss02_2.csv' saved.\n",
      "'valid_loss02_2.csv' saved.\n",
      "'model05_forward02_2_last.pth' saved.\n",
      "'model05_forward02_2_best.pth' saved.\n",
      "- train minibatches = 1\n",
      "- valid minibatches = 1\n",
      "- test minibatches = 1\n"
     ]
    },
    {
     "data": {
      "application/vnd.jupyter.widget-view+json": {
       "model_id": "5ca16d2f11f3411180b96280277769c8",
       "version_major": 2,
       "version_minor": 0
      },
      "text/plain": [
       "HBox(children=(HTML(value='Epochs loop'), FloatProgress(value=0.0, max=50000.0), HTML(value='')))"
      ]
     },
     "metadata": {},
     "output_type": "display_data"
    },
    {
     "name": "stdout",
     "output_type": "stream",
     "text": [
      "\n",
      "Summary:\n",
      "-learning rate = 0.01710\n",
      "-path 1 has early stopped:\n",
      " 10000 iterations with no improvement in valid loss.\n",
      "-Model saved after iteration 5418.\n",
      "-Train.  Loss=0.0044595\n",
      "-Valid.  Loss=0.0389762\n",
      "'train_loss02_3.csv' saved.\n",
      "'valid_loss02_3.csv' saved.\n",
      "'model05_forward02_3_last.pth' saved.\n",
      "'model05_forward02_3_best.pth' saved.\n",
      "- train minibatches = 1\n",
      "- valid minibatches = 1\n",
      "- test minibatches = 1\n"
     ]
    },
    {
     "data": {
      "application/vnd.jupyter.widget-view+json": {
       "model_id": "4875bac2ef8e45bfb08d268eea0444e7",
       "version_major": 2,
       "version_minor": 0
      },
      "text/plain": [
       "HBox(children=(HTML(value='Epochs loop'), FloatProgress(value=0.0, max=50000.0), HTML(value='')))"
      ]
     },
     "metadata": {},
     "output_type": "display_data"
    },
    {
     "name": "stdout",
     "output_type": "stream",
     "text": [
      "\n",
      "Summary:\n",
      "-learning rate = 0.01710\n",
      "-path 1 has early stopped:\n",
      " 10000 iterations with no improvement in valid loss.\n",
      "-Model saved after iteration 21349.\n",
      "-Train.  Loss=0.0022262\n",
      "-Valid.  Loss=0.0147848\n",
      "'train_loss02_4.csv' saved.\n",
      "'valid_loss02_4.csv' saved.\n",
      "'model05_forward02_4_last.pth' saved.\n",
      "'model05_forward02_4_best.pth' saved.\n",
      "- train minibatches = 1\n",
      "- valid minibatches = 1\n",
      "- test minibatches = 1\n"
     ]
    },
    {
     "data": {
      "application/vnd.jupyter.widget-view+json": {
       "model_id": "c56741c87eed4c9a815d884a7bfbe6fb",
       "version_major": 2,
       "version_minor": 0
      },
      "text/plain": [
       "HBox(children=(HTML(value='Epochs loop'), FloatProgress(value=0.0, max=50000.0), HTML(value='')))"
      ]
     },
     "metadata": {},
     "output_type": "display_data"
    },
    {
     "name": "stdout",
     "output_type": "stream",
     "text": [
      "\n",
      "Summary:\n",
      "-learning rate = 0.01710\n",
      "-path 1 has early stopped:\n",
      " 10000 iterations with no improvement in valid loss.\n",
      "-Model saved after iteration 18337.\n",
      "-Train.  Loss=0.0025616\n",
      "-Valid.  Loss=0.0734322\n",
      "'train_loss02_5.csv' saved.\n",
      "'valid_loss02_5.csv' saved.\n",
      "'model05_forward02_5_last.pth' saved.\n",
      "'model05_forward02_5_best.pth' saved.\n",
      "- train minibatches = 1\n",
      "- valid minibatches = 1\n",
      "- test minibatches = 1\n"
     ]
    },
    {
     "data": {
      "application/vnd.jupyter.widget-view+json": {
       "model_id": "98d540c6d4814c46a680bdd0ed474c15",
       "version_major": 2,
       "version_minor": 0
      },
      "text/plain": [
       "HBox(children=(HTML(value='Epochs loop'), FloatProgress(value=0.0, max=50000.0), HTML(value='')))"
      ]
     },
     "metadata": {},
     "output_type": "display_data"
    },
    {
     "name": "stdout",
     "output_type": "stream",
     "text": [
      "\n",
      "Summary:\n",
      "-learning rate = 0.01710\n",
      "-path 1 has early stopped:\n",
      " 10000 iterations with no improvement in valid loss.\n",
      "-Model saved after iteration 1069.\n",
      "-Train.  Loss=0.0110079\n",
      "-Valid.  Loss=0.0468237\n",
      "'train_loss02_6.csv' saved.\n",
      "'valid_loss02_6.csv' saved.\n",
      "'model05_forward02_6_last.pth' saved.\n",
      "'model05_forward02_6_best.pth' saved.\n",
      "- train minibatches = 1\n",
      "- valid minibatches = 1\n",
      "- test minibatches = 1\n"
     ]
    },
    {
     "data": {
      "application/vnd.jupyter.widget-view+json": {
       "model_id": "6f1fa40183e3488d8ff2cc45525dda83",
       "version_major": 2,
       "version_minor": 0
      },
      "text/plain": [
       "HBox(children=(HTML(value='Epochs loop'), FloatProgress(value=0.0, max=50000.0), HTML(value='')))"
      ]
     },
     "metadata": {},
     "output_type": "display_data"
    },
    {
     "name": "stdout",
     "output_type": "stream",
     "text": [
      "\n",
      "Summary:\n",
      "-learning rate = 0.01710\n",
      "-path 1 has early stopped:\n",
      " 10000 iterations with no improvement in valid loss.\n",
      "-Model saved after iteration 9649.\n",
      "-Train.  Loss=0.0035011\n",
      "-Valid.  Loss=0.0259279\n",
      "'train_loss02_7.csv' saved.\n",
      "'valid_loss02_7.csv' saved.\n",
      "'model05_forward02_7_last.pth' saved.\n",
      "'model05_forward02_7_best.pth' saved.\n",
      "- train minibatches = 1\n",
      "- valid minibatches = 1\n",
      "- test minibatches = 1\n"
     ]
    },
    {
     "data": {
      "application/vnd.jupyter.widget-view+json": {
       "model_id": "f582cc059a1141208cb53076b306eb85",
       "version_major": 2,
       "version_minor": 0
      },
      "text/plain": [
       "HBox(children=(HTML(value='Epochs loop'), FloatProgress(value=0.0, max=50000.0), HTML(value='')))"
      ]
     },
     "metadata": {},
     "output_type": "display_data"
    },
    {
     "name": "stdout",
     "output_type": "stream",
     "text": [
      "\n",
      "Summary:\n",
      "-learning rate = 0.01710\n",
      "-path 1 has early stopped:\n",
      " 10000 iterations with no improvement in valid loss.\n",
      "-Model saved after iteration 124.\n",
      "-Train.  Loss=0.0504731\n",
      "-Valid.  Loss=0.1210086\n",
      "'train_loss02_8.csv' saved.\n",
      "'valid_loss02_8.csv' saved.\n",
      "'model05_forward02_8_last.pth' saved.\n",
      "'model05_forward02_8_best.pth' saved.\n",
      "- train minibatches = 1\n",
      "- valid minibatches = 1\n",
      "- test minibatches = 1\n"
     ]
    },
    {
     "data": {
      "application/vnd.jupyter.widget-view+json": {
       "model_id": "3fc7ac37d8a74fe380dfb3883f90c30c",
       "version_major": 2,
       "version_minor": 0
      },
      "text/plain": [
       "HBox(children=(HTML(value='Epochs loop'), FloatProgress(value=0.0, max=50000.0), HTML(value='')))"
      ]
     },
     "metadata": {},
     "output_type": "display_data"
    },
    {
     "name": "stdout",
     "output_type": "stream",
     "text": [
      "\n",
      "Summary:\n",
      "-learning rate = 0.01710\n",
      "-path 1 has early stopped:\n",
      " 10000 iterations with no improvement in valid loss.\n",
      "-Model saved after iteration 7317.\n",
      "-Train.  Loss=0.0033587\n",
      "-Valid.  Loss=0.0141755\n",
      "'train_loss02_9.csv' saved.\n",
      "'valid_loss02_9.csv' saved.\n",
      "'model05_forward02_9_last.pth' saved.\n",
      "'model05_forward02_9_best.pth' saved.\n",
      "- train minibatches = 1\n",
      "- valid minibatches = 1\n",
      "- test minibatches = 1\n"
     ]
    },
    {
     "data": {
      "application/vnd.jupyter.widget-view+json": {
       "model_id": "1f1efbd095184693816a22f06ef8fb20",
       "version_major": 2,
       "version_minor": 0
      },
      "text/plain": [
       "HBox(children=(HTML(value='Epochs loop'), FloatProgress(value=0.0, max=50000.0), HTML(value='')))"
      ]
     },
     "metadata": {},
     "output_type": "display_data"
    },
    {
     "name": "stdout",
     "output_type": "stream",
     "text": [
      "\n",
      "Summary:\n",
      "-learning rate = 0.01710\n",
      "-path 1 has early stopped:\n",
      " 10000 iterations with no improvement in valid loss.\n",
      "-Model saved after iteration 856.\n",
      "-Train.  Loss=0.0123045\n",
      "-Valid.  Loss=0.0218229\n",
      "'train_loss02_10.csv' saved.\n",
      "'valid_loss02_10.csv' saved.\n",
      "'model05_forward02_10_last.pth' saved.\n",
      "'model05_forward02_10_best.pth' saved.\n",
      "- train minibatches = 1\n",
      "- valid minibatches = 1\n",
      "- test minibatches = 1\n"
     ]
    },
    {
     "data": {
      "application/vnd.jupyter.widget-view+json": {
       "model_id": "82dfb0c0643e414e9a0bb5ed8643cab5",
       "version_major": 2,
       "version_minor": 0
      },
      "text/plain": [
       "HBox(children=(HTML(value='Epochs loop'), FloatProgress(value=0.0, max=50000.0), HTML(value='')))"
      ]
     },
     "metadata": {},
     "output_type": "display_data"
    },
    {
     "name": "stdout",
     "output_type": "stream",
     "text": [
      "\n",
      "Summary:\n",
      "-learning rate = 0.01710\n",
      "-path 1 has early stopped:\n",
      " 10000 iterations with no improvement in valid loss.\n",
      "-Model saved after iteration 39012.\n",
      "-Train.  Loss=0.0027019\n",
      "-Valid.  Loss=0.0198209\n",
      "'train_loss02_11.csv' saved.\n",
      "'valid_loss02_11.csv' saved.\n",
      "'model05_forward02_11_last.pth' saved.\n",
      "'model05_forward02_11_best.pth' saved.\n",
      "- train minibatches = 1\n",
      "- valid minibatches = 1\n",
      "- test minibatches = 1\n"
     ]
    },
    {
     "data": {
      "application/vnd.jupyter.widget-view+json": {
       "model_id": "acfb005d92b7479eaf5d73d4697cc979",
       "version_major": 2,
       "version_minor": 0
      },
      "text/plain": [
       "HBox(children=(HTML(value='Epochs loop'), FloatProgress(value=0.0, max=50000.0), HTML(value='')))"
      ]
     },
     "metadata": {},
     "output_type": "display_data"
    },
    {
     "name": "stdout",
     "output_type": "stream",
     "text": [
      "\n",
      "Summary:\n",
      "-learning rate = 0.01710\n",
      "-path 1 has early stopped:\n",
      " 10000 iterations with no improvement in valid loss.\n",
      "-Model saved after iteration 31864.\n",
      "-Train.  Loss=0.0040747\n",
      "-Valid.  Loss=0.0158342\n",
      "'train_loss02_12.csv' saved.\n",
      "'valid_loss02_12.csv' saved.\n",
      "'model05_forward02_12_last.pth' saved.\n",
      "'model05_forward02_12_best.pth' saved.\n",
      "- train minibatches = 1\n",
      "- valid minibatches = 1\n",
      "- test minibatches = 1\n"
     ]
    },
    {
     "data": {
      "application/vnd.jupyter.widget-view+json": {
       "model_id": "43a8615d7aa44aed94a3eb8f79c30f5c",
       "version_major": 2,
       "version_minor": 0
      },
      "text/plain": [
       "HBox(children=(HTML(value='Epochs loop'), FloatProgress(value=0.0, max=50000.0), HTML(value='')))"
      ]
     },
     "metadata": {},
     "output_type": "display_data"
    },
    {
     "name": "stdout",
     "output_type": "stream",
     "text": [
      "\n",
      "Summary:\n",
      "-learning rate = 0.01710\n",
      "-path 1 has early stopped:\n",
      " 10000 iterations with no improvement in valid loss.\n",
      "-Model saved after iteration 9815.\n",
      "-Train.  Loss=0.0164553\n",
      "-Valid.  Loss=0.0222445\n",
      "'train_loss02_13.csv' saved.\n",
      "'valid_loss02_13.csv' saved.\n",
      "'model05_forward02_13_last.pth' saved.\n",
      "'model05_forward02_13_best.pth' saved.\n",
      "- train minibatches = 1\n",
      "- valid minibatches = 1\n",
      "- test minibatches = 1\n"
     ]
    },
    {
     "data": {
      "application/vnd.jupyter.widget-view+json": {
       "model_id": "e0b6ccb93e984a99b55d41497a1d900c",
       "version_major": 2,
       "version_minor": 0
      },
      "text/plain": [
       "HBox(children=(HTML(value='Epochs loop'), FloatProgress(value=0.0, max=50000.0), HTML(value='')))"
      ]
     },
     "metadata": {},
     "output_type": "display_data"
    },
    {
     "name": "stdout",
     "output_type": "stream",
     "text": [
      "\n",
      "Summary:\n",
      "-learning rate = 0.01710\n",
      "-path 1 has early stopped:\n",
      " 10000 iterations with no improvement in valid loss.\n",
      "-Model saved after iteration 13919.\n",
      "-Train.  Loss=0.0036803\n",
      "-Valid.  Loss=0.0194697\n",
      "'train_loss02_14.csv' saved.\n",
      "'valid_loss02_14.csv' saved.\n",
      "'model05_forward02_14_last.pth' saved.\n",
      "'model05_forward02_14_best.pth' saved.\n",
      "- train minibatches = 1\n",
      "- valid minibatches = 1\n",
      "- test minibatches = 1\n"
     ]
    },
    {
     "data": {
      "application/vnd.jupyter.widget-view+json": {
       "model_id": "adda8e51295e4fc5a8f6b3f4cab9d287",
       "version_major": 2,
       "version_minor": 0
      },
      "text/plain": [
       "HBox(children=(HTML(value='Epochs loop'), FloatProgress(value=0.0, max=50000.0), HTML(value='')))"
      ]
     },
     "metadata": {},
     "output_type": "display_data"
    },
    {
     "name": "stdout",
     "output_type": "stream",
     "text": [
      "\n",
      "Summary:\n",
      "-learning rate = 0.01710\n",
      "-path 1 has early stopped:\n",
      " 10000 iterations with no improvement in valid loss.\n",
      "-Model saved after iteration 6504.\n",
      "-Train.  Loss=0.0046436\n",
      "-Valid.  Loss=0.0198014\n",
      "'train_loss02_15.csv' saved.\n",
      "'valid_loss02_15.csv' saved.\n",
      "'model05_forward02_15_last.pth' saved.\n",
      "'model05_forward02_15_best.pth' saved.\n",
      "- train minibatches = 1\n",
      "- valid minibatches = 1\n",
      "- test minibatches = 1\n"
     ]
    },
    {
     "data": {
      "application/vnd.jupyter.widget-view+json": {
       "model_id": "d00d69586f8e4b77bdb85c774413f49a",
       "version_major": 2,
       "version_minor": 0
      },
      "text/plain": [
       "HBox(children=(HTML(value='Epochs loop'), FloatProgress(value=0.0, max=50000.0), HTML(value='')))"
      ]
     },
     "metadata": {},
     "output_type": "display_data"
    },
    {
     "name": "stdout",
     "output_type": "stream",
     "text": [
      "\n",
      "Summary:\n",
      "-learning rate = 0.01710\n",
      "-path 1 has early stopped:\n",
      " 10000 iterations with no improvement in valid loss.\n",
      "-Model saved after iteration 463.\n",
      "-Train.  Loss=0.0170423\n",
      "-Valid.  Loss=0.0826198\n",
      "'train_loss02_16.csv' saved.\n",
      "'valid_loss02_16.csv' saved.\n",
      "'model05_forward02_16_last.pth' saved.\n",
      "'model05_forward02_16_best.pth' saved.\n",
      "- train minibatches = 1\n",
      "- valid minibatches = 1\n",
      "- test minibatches = 1\n"
     ]
    },
    {
     "data": {
      "application/vnd.jupyter.widget-view+json": {
       "model_id": "4345a3f9225747e1aaa0812867569df8",
       "version_major": 2,
       "version_minor": 0
      },
      "text/plain": [
       "HBox(children=(HTML(value='Epochs loop'), FloatProgress(value=0.0, max=50000.0), HTML(value='')))"
      ]
     },
     "metadata": {},
     "output_type": "display_data"
    },
    {
     "name": "stdout",
     "output_type": "stream",
     "text": [
      "\n",
      "Summary:\n",
      "-learning rate = 0.01710\n",
      "-path 1 has early stopped:\n",
      " 10000 iterations with no improvement in valid loss.\n",
      "-Model saved after iteration 10417.\n",
      "-Train.  Loss=0.0039347\n",
      "-Valid.  Loss=0.0090934\n",
      "'train_loss02_17.csv' saved.\n",
      "'valid_loss02_17.csv' saved.\n",
      "'model05_forward02_17_last.pth' saved.\n",
      "'model05_forward02_17_best.pth' saved.\n",
      "- train minibatches = 1\n",
      "- valid minibatches = 1\n",
      "- test minibatches = 1\n"
     ]
    },
    {
     "data": {
      "application/vnd.jupyter.widget-view+json": {
       "model_id": "409ecdd37e2e44cabb2fcc07ebdfd851",
       "version_major": 2,
       "version_minor": 0
      },
      "text/plain": [
       "HBox(children=(HTML(value='Epochs loop'), FloatProgress(value=0.0, max=50000.0), HTML(value='')))"
      ]
     },
     "metadata": {},
     "output_type": "display_data"
    },
    {
     "name": "stdout",
     "output_type": "stream",
     "text": [
      "\n",
      "Summary:\n",
      "-learning rate = 0.01710\n",
      "-path 1 has early stopped:\n",
      " 10000 iterations with no improvement in valid loss.\n",
      "-Model saved after iteration 8366.\n",
      "-Train.  Loss=0.0032626\n",
      "-Valid.  Loss=0.0142520\n",
      "'train_loss02_18.csv' saved.\n",
      "'valid_loss02_18.csv' saved.\n",
      "'model05_forward02_18_last.pth' saved.\n",
      "'model05_forward02_18_best.pth' saved.\n",
      "- train minibatches = 1\n",
      "- valid minibatches = 1\n",
      "- test minibatches = 1\n"
     ]
    },
    {
     "data": {
      "application/vnd.jupyter.widget-view+json": {
       "model_id": "dd3d0dddbae249059fc5c0daa415597f",
       "version_major": 2,
       "version_minor": 0
      },
      "text/plain": [
       "HBox(children=(HTML(value='Epochs loop'), FloatProgress(value=0.0, max=50000.0), HTML(value='')))"
      ]
     },
     "metadata": {},
     "output_type": "display_data"
    },
    {
     "name": "stdout",
     "output_type": "stream",
     "text": [
      "\n",
      "Summary:\n",
      "-learning rate = 0.01710\n",
      "-path 1 has early stopped:\n",
      " 10000 iterations with no improvement in valid loss.\n",
      "-Model saved after iteration 16273.\n",
      "-Train.  Loss=0.0043823\n",
      "-Valid.  Loss=0.0625673\n",
      "'train_loss02_19.csv' saved.\n",
      "'valid_loss02_19.csv' saved.\n",
      "'model05_forward02_19_last.pth' saved.\n",
      "'model05_forward02_19_best.pth' saved.\n",
      "- train minibatches = 1\n",
      "- valid minibatches = 1\n",
      "- test minibatches = 1\n"
     ]
    },
    {
     "data": {
      "application/vnd.jupyter.widget-view+json": {
       "model_id": "6302b7a821ee4433aff500fc4e461710",
       "version_major": 2,
       "version_minor": 0
      },
      "text/plain": [
       "HBox(children=(HTML(value='Epochs loop'), FloatProgress(value=0.0, max=50000.0), HTML(value='')))"
      ]
     },
     "metadata": {},
     "output_type": "display_data"
    },
    {
     "name": "stdout",
     "output_type": "stream",
     "text": [
      "\n",
      "Summary:\n",
      "-learning rate = 0.01710\n",
      "-path 1 has early stopped:\n",
      " 10000 iterations with no improvement in valid loss.\n",
      "-Model saved after iteration 5307.\n",
      "-Train.  Loss=0.0046495\n",
      "-Valid.  Loss=0.0115730\n",
      "'train_loss02_20.csv' saved.\n",
      "'valid_loss02_20.csv' saved.\n",
      "'model05_forward02_20_last.pth' saved.\n",
      "'model05_forward02_20_best.pth' saved.\n",
      "- train minibatches = 1\n",
      "- valid minibatches = 1\n",
      "- test minibatches = 1\n"
     ]
    },
    {
     "data": {
      "application/vnd.jupyter.widget-view+json": {
       "model_id": "bcad6bf83af64d7d96d0570880cb59e0",
       "version_major": 2,
       "version_minor": 0
      },
      "text/plain": [
       "HBox(children=(HTML(value='Epochs loop'), FloatProgress(value=0.0, max=50000.0), HTML(value='')))"
      ]
     },
     "metadata": {},
     "output_type": "display_data"
    },
    {
     "name": "stdout",
     "output_type": "stream",
     "text": [
      "\n",
      "Summary:\n",
      "-learning rate = 0.01710\n",
      "-path 1 has early stopped:\n",
      " 10000 iterations with no improvement in valid loss.\n",
      "-Model saved after iteration 14453.\n",
      "-Train.  Loss=0.0029850\n",
      "-Valid.  Loss=0.0364759\n",
      "'train_loss02_21.csv' saved.\n",
      "'valid_loss02_21.csv' saved.\n",
      "'model05_forward02_21_last.pth' saved.\n",
      "'model05_forward02_21_best.pth' saved.\n",
      "- train minibatches = 1\n",
      "- valid minibatches = 1\n",
      "- test minibatches = 1\n"
     ]
    },
    {
     "data": {
      "application/vnd.jupyter.widget-view+json": {
       "model_id": "7a490a21bb434c1c8f5e1f6633773122",
       "version_major": 2,
       "version_minor": 0
      },
      "text/plain": [
       "HBox(children=(HTML(value='Epochs loop'), FloatProgress(value=0.0, max=50000.0), HTML(value='')))"
      ]
     },
     "metadata": {},
     "output_type": "display_data"
    },
    {
     "name": "stdout",
     "output_type": "stream",
     "text": [
      "\n",
      "Summary:\n",
      "-learning rate = 0.01710\n",
      "-path 1 has early stopped:\n",
      " 10000 iterations with no improvement in valid loss.\n",
      "-Model saved after iteration 479.\n",
      "-Train.  Loss=0.0172056\n",
      "-Valid.  Loss=0.0241743\n",
      "'train_loss02_22.csv' saved.\n",
      "'valid_loss02_22.csv' saved.\n",
      "'model05_forward02_22_last.pth' saved.\n",
      "'model05_forward02_22_best.pth' saved.\n",
      "- train minibatches = 1\n",
      "- valid minibatches = 1\n",
      "- test minibatches = 1\n"
     ]
    },
    {
     "data": {
      "application/vnd.jupyter.widget-view+json": {
       "model_id": "2a6f5e16b3344e10b658eb71332c2be7",
       "version_major": 2,
       "version_minor": 0
      },
      "text/plain": [
       "HBox(children=(HTML(value='Epochs loop'), FloatProgress(value=0.0, max=50000.0), HTML(value='')))"
      ]
     },
     "metadata": {},
     "output_type": "display_data"
    },
    {
     "name": "stdout",
     "output_type": "stream",
     "text": [
      "\n",
      "Summary:\n",
      "-learning rate = 0.01710\n",
      "-path 1 has early stopped:\n",
      " 10000 iterations with no improvement in valid loss.\n",
      "-Model saved after iteration 38448.\n",
      "-Train.  Loss=0.0021374\n",
      "-Valid.  Loss=0.0187398\n",
      "'train_loss02_23.csv' saved.\n",
      "'valid_loss02_23.csv' saved.\n",
      "'model05_forward02_23_last.pth' saved.\n",
      "'model05_forward02_23_best.pth' saved.\n",
      "- train minibatches = 1\n",
      "- valid minibatches = 1\n",
      "- test minibatches = 1\n"
     ]
    },
    {
     "data": {
      "application/vnd.jupyter.widget-view+json": {
       "model_id": "d218f545ad5f4eaaa2e545b37d4c727f",
       "version_major": 2,
       "version_minor": 0
      },
      "text/plain": [
       "HBox(children=(HTML(value='Epochs loop'), FloatProgress(value=0.0, max=50000.0), HTML(value='')))"
      ]
     },
     "metadata": {},
     "output_type": "display_data"
    },
    {
     "name": "stdout",
     "output_type": "stream",
     "text": [
      "\n",
      "Summary:\n",
      "-learning rate = 0.01710\n",
      "-path 1 has early stopped:\n",
      " 10000 iterations with no improvement in valid loss.\n",
      "-Model saved after iteration 31288.\n",
      "-Train.  Loss=0.0024740\n",
      "-Valid.  Loss=0.0235820\n",
      "'train_loss02_24.csv' saved.\n",
      "'valid_loss02_24.csv' saved.\n",
      "'model05_forward02_24_last.pth' saved.\n",
      "'model05_forward02_24_best.pth' saved.\n",
      "- train minibatches = 1\n",
      "- valid minibatches = 1\n",
      "- test minibatches = 1\n"
     ]
    },
    {
     "data": {
      "application/vnd.jupyter.widget-view+json": {
       "model_id": "143568e448144d5aa4e1c06e37b3682e",
       "version_major": 2,
       "version_minor": 0
      },
      "text/plain": [
       "HBox(children=(HTML(value='Epochs loop'), FloatProgress(value=0.0, max=50000.0), HTML(value='')))"
      ]
     },
     "metadata": {},
     "output_type": "display_data"
    },
    {
     "name": "stdout",
     "output_type": "stream",
     "text": [
      "\n",
      "Summary:\n",
      "-learning rate = 0.01710\n",
      "-path 1 has early stopped:\n",
      " 10000 iterations with no improvement in valid loss.\n",
      "-Model saved after iteration 14923.\n",
      "-Train.  Loss=0.0022949\n",
      "-Valid.  Loss=0.0314603\n",
      "'train_loss02_25.csv' saved.\n",
      "'valid_loss02_25.csv' saved.\n",
      "'model05_forward02_25_last.pth' saved.\n",
      "'model05_forward02_25_best.pth' saved.\n",
      "- train minibatches = 1\n",
      "- valid minibatches = 1\n",
      "- test minibatches = 1\n"
     ]
    },
    {
     "data": {
      "application/vnd.jupyter.widget-view+json": {
       "model_id": "81d7045b98184842a36d9b97319371a9",
       "version_major": 2,
       "version_minor": 0
      },
      "text/plain": [
       "HBox(children=(HTML(value='Epochs loop'), FloatProgress(value=0.0, max=50000.0), HTML(value='')))"
      ]
     },
     "metadata": {},
     "output_type": "display_data"
    },
    {
     "name": "stdout",
     "output_type": "stream",
     "text": [
      "\n",
      "Summary:\n",
      "-learning rate = 0.01710\n",
      "-path 1 has early stopped:\n",
      " 10000 iterations with no improvement in valid loss.\n",
      "-Model saved after iteration 2187.\n",
      "-Train.  Loss=0.0103686\n",
      "-Valid.  Loss=0.0149824\n",
      "'train_loss02_26.csv' saved.\n",
      "'valid_loss02_26.csv' saved.\n",
      "'model05_forward02_26_last.pth' saved.\n",
      "'model05_forward02_26_best.pth' saved.\n",
      "- train minibatches = 1\n",
      "- valid minibatches = 1\n",
      "- test minibatches = 1\n"
     ]
    },
    {
     "data": {
      "application/vnd.jupyter.widget-view+json": {
       "model_id": "80116cfda01a4bf58e4630354053af85",
       "version_major": 2,
       "version_minor": 0
      },
      "text/plain": [
       "HBox(children=(HTML(value='Epochs loop'), FloatProgress(value=0.0, max=50000.0), HTML(value='')))"
      ]
     },
     "metadata": {},
     "output_type": "display_data"
    },
    {
     "name": "stdout",
     "output_type": "stream",
     "text": [
      "\n",
      "Summary:\n",
      "-learning rate = 0.01710\n",
      "-path 1 has early stopped:\n",
      " 10000 iterations with no improvement in valid loss.\n",
      "-Model saved after iteration 7234.\n",
      "-Train.  Loss=0.0042571\n",
      "-Valid.  Loss=0.0471817\n",
      "'train_loss02_27.csv' saved.\n",
      "'valid_loss02_27.csv' saved.\n",
      "'model05_forward02_27_last.pth' saved.\n",
      "'model05_forward02_27_best.pth' saved.\n",
      "- train minibatches = 1\n",
      "- valid minibatches = 1\n",
      "- test minibatches = 1\n"
     ]
    },
    {
     "data": {
      "application/vnd.jupyter.widget-view+json": {
       "model_id": "23256851b73e4be3b8601cd8aa797e44",
       "version_major": 2,
       "version_minor": 0
      },
      "text/plain": [
       "HBox(children=(HTML(value='Epochs loop'), FloatProgress(value=0.0, max=50000.0), HTML(value='')))"
      ]
     },
     "metadata": {},
     "output_type": "display_data"
    },
    {
     "name": "stdout",
     "output_type": "stream",
     "text": [
      "\n",
      "Summary:\n",
      "-learning rate = 0.01710\n",
      "-path 1 has early stopped:\n",
      " 10000 iterations with no improvement in valid loss.\n",
      "-Model saved after iteration 25515.\n",
      "-Train.  Loss=0.0024253\n",
      "-Valid.  Loss=0.0140135\n",
      "'train_loss02_28.csv' saved.\n",
      "'valid_loss02_28.csv' saved.\n",
      "'model05_forward02_28_last.pth' saved.\n",
      "'model05_forward02_28_best.pth' saved.\n",
      "- train minibatches = 1\n",
      "- valid minibatches = 1\n",
      "- test minibatches = 1\n"
     ]
    },
    {
     "data": {
      "application/vnd.jupyter.widget-view+json": {
       "model_id": "16902f1c515446788003ec1db9348d29",
       "version_major": 2,
       "version_minor": 0
      },
      "text/plain": [
       "HBox(children=(HTML(value='Epochs loop'), FloatProgress(value=0.0, max=50000.0), HTML(value='')))"
      ]
     },
     "metadata": {},
     "output_type": "display_data"
    },
    {
     "name": "stdout",
     "output_type": "stream",
     "text": [
      "\n",
      "Summary:\n",
      "-learning rate = 0.01710\n",
      "-path 1 has early stopped:\n",
      " 10000 iterations with no improvement in valid loss.\n",
      "-Model saved after iteration 241.\n",
      "-Train.  Loss=0.0306680\n",
      "-Valid.  Loss=0.0241505\n",
      "'train_loss02_29.csv' saved.\n",
      "'valid_loss02_29.csv' saved.\n",
      "'model05_forward02_29_last.pth' saved.\n",
      "'model05_forward02_29_best.pth' saved.\n",
      "- train minibatches = 1\n",
      "- valid minibatches = 1\n",
      "- test minibatches = 1\n"
     ]
    },
    {
     "data": {
      "application/vnd.jupyter.widget-view+json": {
       "model_id": "690772e06d8f4fafa4ab9deaded8f0e6",
       "version_major": 2,
       "version_minor": 0
      },
      "text/plain": [
       "HBox(children=(HTML(value='Epochs loop'), FloatProgress(value=0.0, max=50000.0), HTML(value='')))"
      ]
     },
     "metadata": {},
     "output_type": "display_data"
    },
    {
     "name": "stdout",
     "output_type": "stream",
     "text": [
      "\n",
      "Summary:\n",
      "-learning rate = 0.01710\n",
      "-path 1 has early stopped:\n",
      " 10000 iterations with no improvement in valid loss.\n",
      "-Model saved after iteration 4909.\n",
      "-Train.  Loss=0.0068390\n",
      "-Valid.  Loss=0.0262887\n",
      "'train_loss02_30.csv' saved.\n",
      "'valid_loss02_30.csv' saved.\n",
      "'model05_forward02_30_last.pth' saved.\n",
      "'model05_forward02_30_best.pth' saved.\n",
      "- train minibatches = 1\n",
      "- valid minibatches = 1\n",
      "- test minibatches = 1\n"
     ]
    },
    {
     "data": {
      "application/vnd.jupyter.widget-view+json": {
       "model_id": "8ecec19826be482abe915e5e64a92051",
       "version_major": 2,
       "version_minor": 0
      },
      "text/plain": [
       "HBox(children=(HTML(value='Epochs loop'), FloatProgress(value=0.0, max=50000.0), HTML(value='')))"
      ]
     },
     "metadata": {},
     "output_type": "display_data"
    },
    {
     "name": "stdout",
     "output_type": "stream",
     "text": [
      "\n",
      "Summary:\n",
      "-learning rate = 0.01710\n",
      "-path 1 has early stopped:\n",
      " 10000 iterations with no improvement in valid loss.\n",
      "-Model saved after iteration 2932.\n",
      "-Train.  Loss=0.0101163\n",
      "-Valid.  Loss=0.0248854\n",
      "'train_loss02_31.csv' saved.\n",
      "'valid_loss02_31.csv' saved.\n",
      "'model05_forward02_31_last.pth' saved.\n",
      "'model05_forward02_31_best.pth' saved.\n",
      "- train minibatches = 1\n",
      "- valid minibatches = 1\n",
      "- test minibatches = 1\n"
     ]
    },
    {
     "data": {
      "application/vnd.jupyter.widget-view+json": {
       "model_id": "97823bef1dc34bdfa027bf196a37a80f",
       "version_major": 2,
       "version_minor": 0
      },
      "text/plain": [
       "HBox(children=(HTML(value='Epochs loop'), FloatProgress(value=0.0, max=50000.0), HTML(value='')))"
      ]
     },
     "metadata": {},
     "output_type": "display_data"
    },
    {
     "name": "stdout",
     "output_type": "stream",
     "text": [
      "\n",
      "Summary:\n",
      "-learning rate = 0.01710\n",
      "-path 1 has early stopped:\n",
      " 10000 iterations with no improvement in valid loss.\n",
      "-Model saved after iteration 1718.\n",
      "-Train.  Loss=0.0095525\n",
      "-Valid.  Loss=0.0284137\n",
      "'train_loss02_32.csv' saved.\n",
      "'valid_loss02_32.csv' saved.\n",
      "'model05_forward02_32_last.pth' saved.\n",
      "'model05_forward02_32_best.pth' saved.\n",
      "- train minibatches = 1\n",
      "- valid minibatches = 1\n",
      "- test minibatches = 1\n"
     ]
    },
    {
     "data": {
      "application/vnd.jupyter.widget-view+json": {
       "model_id": "666b2ea19f83422d808e7405d54ca8ed",
       "version_major": 2,
       "version_minor": 0
      },
      "text/plain": [
       "HBox(children=(HTML(value='Epochs loop'), FloatProgress(value=0.0, max=50000.0), HTML(value='')))"
      ]
     },
     "metadata": {},
     "output_type": "display_data"
    },
    {
     "name": "stdout",
     "output_type": "stream",
     "text": [
      "\n",
      "Summary:\n",
      "-learning rate = 0.01710\n",
      "-path 1 has early stopped:\n",
      " 10000 iterations with no improvement in valid loss.\n",
      "-Model saved after iteration 3337.\n",
      "-Train.  Loss=0.0063893\n",
      "-Valid.  Loss=0.0168906\n",
      "'train_loss02_33.csv' saved.\n",
      "'valid_loss02_33.csv' saved.\n",
      "'model05_forward02_33_last.pth' saved.\n",
      "'model05_forward02_33_best.pth' saved.\n",
      "- train minibatches = 1\n",
      "- valid minibatches = 1\n",
      "- test minibatches = 1\n"
     ]
    },
    {
     "data": {
      "application/vnd.jupyter.widget-view+json": {
       "model_id": "be4013d9e8254a31aac11a9d0fc79b3d",
       "version_major": 2,
       "version_minor": 0
      },
      "text/plain": [
       "HBox(children=(HTML(value='Epochs loop'), FloatProgress(value=0.0, max=50000.0), HTML(value='')))"
      ]
     },
     "metadata": {},
     "output_type": "display_data"
    },
    {
     "name": "stdout",
     "output_type": "stream",
     "text": [
      "\n",
      "Summary:\n",
      "-learning rate = 0.01710\n",
      "-path 1 has early stopped:\n",
      " 10000 iterations with no improvement in valid loss.\n",
      "-Model saved after iteration 9594.\n",
      "-Train.  Loss=0.0092124\n",
      "-Valid.  Loss=0.3023967\n",
      "'train_loss02_34.csv' saved.\n",
      "'valid_loss02_34.csv' saved.\n",
      "'model05_forward02_34_last.pth' saved.\n",
      "'model05_forward02_34_best.pth' saved.\n",
      "- train minibatches = 1\n",
      "- valid minibatches = 1\n",
      "- test minibatches = 1\n"
     ]
    },
    {
     "data": {
      "application/vnd.jupyter.widget-view+json": {
       "model_id": "d0c7f49261b14988a7c022828bddd681",
       "version_major": 2,
       "version_minor": 0
      },
      "text/plain": [
       "HBox(children=(HTML(value='Epochs loop'), FloatProgress(value=0.0, max=50000.0), HTML(value='')))"
      ]
     },
     "metadata": {},
     "output_type": "display_data"
    },
    {
     "name": "stdout",
     "output_type": "stream",
     "text": [
      "\n",
      "Summary:\n",
      "-learning rate = 0.01710\n",
      "-Model saved after iteration 48060.\n",
      "-Train.  Loss=0.0016596\n",
      "-Valid.  Loss=0.0332984\n",
      "'train_loss02_35.csv' saved.\n",
      "'valid_loss02_35.csv' saved.\n",
      "'model05_forward02_35_last.pth' saved.\n",
      "'model05_forward02_35_best.pth' saved.\n",
      "- train minibatches = 1\n",
      "- valid minibatches = 1\n",
      "- test minibatches = 1\n"
     ]
    },
    {
     "data": {
      "application/vnd.jupyter.widget-view+json": {
       "model_id": "a6b0da3359e7422f8a139aaf4f2728a4",
       "version_major": 2,
       "version_minor": 0
      },
      "text/plain": [
       "HBox(children=(HTML(value='Epochs loop'), FloatProgress(value=0.0, max=50000.0), HTML(value='')))"
      ]
     },
     "metadata": {},
     "output_type": "display_data"
    },
    {
     "name": "stdout",
     "output_type": "stream",
     "text": [
      "\n",
      "Summary:\n",
      "-learning rate = 0.01710\n",
      "-Model saved after iteration 49985.\n",
      "-Train.  Loss=0.0028450\n",
      "-Valid.  Loss=0.0119919\n",
      "'train_loss02_36.csv' saved.\n",
      "'valid_loss02_36.csv' saved.\n",
      "'model05_forward02_36_last.pth' saved.\n",
      "'model05_forward02_36_best.pth' saved.\n",
      "- train minibatches = 1\n",
      "- valid minibatches = 1\n",
      "- test minibatches = 1\n"
     ]
    },
    {
     "data": {
      "application/vnd.jupyter.widget-view+json": {
       "model_id": "b8cc7dbed43e49f69da64df27b078e36",
       "version_major": 2,
       "version_minor": 0
      },
      "text/plain": [
       "HBox(children=(HTML(value='Epochs loop'), FloatProgress(value=0.0, max=50000.0), HTML(value='')))"
      ]
     },
     "metadata": {},
     "output_type": "display_data"
    },
    {
     "name": "stdout",
     "output_type": "stream",
     "text": [
      "\n",
      "Summary:\n",
      "-learning rate = 0.01710\n",
      "-path 1 has early stopped:\n",
      " 10000 iterations with no improvement in valid loss.\n",
      "-Model saved after iteration 16854.\n",
      "-Train.  Loss=0.0042006\n",
      "-Valid.  Loss=0.0092144\n",
      "'train_loss02_37.csv' saved.\n",
      "'valid_loss02_37.csv' saved.\n",
      "'model05_forward02_37_last.pth' saved.\n",
      "'model05_forward02_37_best.pth' saved.\n",
      "- train minibatches = 1\n",
      "- valid minibatches = 1\n",
      "- test minibatches = 1\n"
     ]
    },
    {
     "data": {
      "application/vnd.jupyter.widget-view+json": {
       "model_id": "cec9065ddcf7467fbd57447717b3f377",
       "version_major": 2,
       "version_minor": 0
      },
      "text/plain": [
       "HBox(children=(HTML(value='Epochs loop'), FloatProgress(value=0.0, max=50000.0), HTML(value='')))"
      ]
     },
     "metadata": {},
     "output_type": "display_data"
    },
    {
     "name": "stdout",
     "output_type": "stream",
     "text": [
      "\n",
      "Summary:\n",
      "-learning rate = 0.01710\n",
      "-path 1 has early stopped:\n",
      " 10000 iterations with no improvement in valid loss.\n",
      "-Model saved after iteration 1795.\n",
      "-Train.  Loss=0.0065783\n",
      "-Valid.  Loss=0.0135063\n",
      "'train_loss02_38.csv' saved.\n",
      "'valid_loss02_38.csv' saved.\n",
      "'model05_forward02_38_last.pth' saved.\n",
      "'model05_forward02_38_best.pth' saved.\n",
      "- train minibatches = 1\n",
      "- valid minibatches = 1\n",
      "- test minibatches = 1\n"
     ]
    },
    {
     "data": {
      "application/vnd.jupyter.widget-view+json": {
       "model_id": "1ba7e665e1f146158751523c9448c18c",
       "version_major": 2,
       "version_minor": 0
      },
      "text/plain": [
       "HBox(children=(HTML(value='Epochs loop'), FloatProgress(value=0.0, max=50000.0), HTML(value='')))"
      ]
     },
     "metadata": {},
     "output_type": "display_data"
    },
    {
     "name": "stdout",
     "output_type": "stream",
     "text": [
      "\n",
      "Summary:\n",
      "-learning rate = 0.01710\n",
      "-Model saved after iteration 47258.\n",
      "-Train.  Loss=0.0042926\n",
      "-Valid.  Loss=0.0272467\n",
      "'train_loss02_39.csv' saved.\n",
      "'valid_loss02_39.csv' saved.\n",
      "'model05_forward02_39_last.pth' saved.\n",
      "'model05_forward02_39_best.pth' saved.\n",
      "- train minibatches = 1\n",
      "- valid minibatches = 1\n",
      "- test minibatches = 1\n"
     ]
    },
    {
     "data": {
      "application/vnd.jupyter.widget-view+json": {
       "model_id": "208e7da8cf2c441c8cfe09b47adb1710",
       "version_major": 2,
       "version_minor": 0
      },
      "text/plain": [
       "HBox(children=(HTML(value='Epochs loop'), FloatProgress(value=0.0, max=50000.0), HTML(value='')))"
      ]
     },
     "metadata": {},
     "output_type": "display_data"
    },
    {
     "name": "stdout",
     "output_type": "stream",
     "text": [
      "\n",
      "Summary:\n",
      "-learning rate = 0.01710\n",
      "-Model saved after iteration 50000.\n",
      "-Train.  Loss=0.0018845\n",
      "-Valid.  Loss=0.0360528\n",
      "'train_loss02_40.csv' saved.\n",
      "'valid_loss02_40.csv' saved.\n",
      "'model05_forward02_40_last.pth' saved.\n",
      "'model05_forward02_40_best.pth' saved.\n",
      "- train minibatches = 1\n",
      "- valid minibatches = 1\n",
      "- test minibatches = 1\n"
     ]
    },
    {
     "data": {
      "application/vnd.jupyter.widget-view+json": {
       "model_id": "1120717af8e24cd3b49750f8cc59c804",
       "version_major": 2,
       "version_minor": 0
      },
      "text/plain": [
       "HBox(children=(HTML(value='Epochs loop'), FloatProgress(value=0.0, max=50000.0), HTML(value='')))"
      ]
     },
     "metadata": {},
     "output_type": "display_data"
    },
    {
     "name": "stdout",
     "output_type": "stream",
     "text": [
      "\n",
      "Summary:\n",
      "-learning rate = 0.01710\n",
      "-path 1 has early stopped:\n",
      " 10000 iterations with no improvement in valid loss.\n",
      "-Model saved after iteration 6349.\n",
      "-Train.  Loss=0.0045133\n",
      "-Valid.  Loss=0.0150183\n",
      "'train_loss02_41.csv' saved.\n",
      "'valid_loss02_41.csv' saved.\n",
      "'model05_forward02_41_last.pth' saved.\n",
      "'model05_forward02_41_best.pth' saved.\n",
      "- train minibatches = 1\n",
      "- valid minibatches = 1\n",
      "- test minibatches = 1\n"
     ]
    },
    {
     "data": {
      "application/vnd.jupyter.widget-view+json": {
       "model_id": "ed5ca62814284606a6ddbe9480e1715a",
       "version_major": 2,
       "version_minor": 0
      },
      "text/plain": [
       "HBox(children=(HTML(value='Epochs loop'), FloatProgress(value=0.0, max=50000.0), HTML(value='')))"
      ]
     },
     "metadata": {},
     "output_type": "display_data"
    },
    {
     "name": "stdout",
     "output_type": "stream",
     "text": [
      "\n",
      "Summary:\n",
      "-learning rate = 0.01710\n",
      "-path 1 has early stopped:\n",
      " 10000 iterations with no improvement in valid loss.\n",
      "-Model saved after iteration 8358.\n",
      "-Train.  Loss=0.0041304\n",
      "-Valid.  Loss=0.0139420\n",
      "'train_loss02_42.csv' saved.\n",
      "'valid_loss02_42.csv' saved.\n",
      "'model05_forward02_42_last.pth' saved.\n",
      "'model05_forward02_42_best.pth' saved.\n",
      "- train minibatches = 1\n",
      "- valid minibatches = 1\n",
      "- test minibatches = 1\n"
     ]
    },
    {
     "data": {
      "application/vnd.jupyter.widget-view+json": {
       "model_id": "81657a1caf624d29bace273498824722",
       "version_major": 2,
       "version_minor": 0
      },
      "text/plain": [
       "HBox(children=(HTML(value='Epochs loop'), FloatProgress(value=0.0, max=50000.0), HTML(value='')))"
      ]
     },
     "metadata": {},
     "output_type": "display_data"
    },
    {
     "name": "stdout",
     "output_type": "stream",
     "text": [
      "\n",
      "Summary:\n",
      "-learning rate = 0.01710\n",
      "-path 1 has early stopped:\n",
      " 10000 iterations with no improvement in valid loss.\n",
      "-Model saved after iteration 6560.\n",
      "-Train.  Loss=0.0047146\n",
      "-Valid.  Loss=0.0165545\n",
      "'train_loss02_43.csv' saved.\n",
      "'valid_loss02_43.csv' saved.\n",
      "'model05_forward02_43_last.pth' saved.\n",
      "'model05_forward02_43_best.pth' saved.\n",
      "- train minibatches = 1\n",
      "- valid minibatches = 1\n",
      "- test minibatches = 1\n"
     ]
    },
    {
     "data": {
      "application/vnd.jupyter.widget-view+json": {
       "model_id": "ba878c3b4d56491b956d62985e1730ed",
       "version_major": 2,
       "version_minor": 0
      },
      "text/plain": [
       "HBox(children=(HTML(value='Epochs loop'), FloatProgress(value=0.0, max=50000.0), HTML(value='')))"
      ]
     },
     "metadata": {},
     "output_type": "display_data"
    },
    {
     "name": "stdout",
     "output_type": "stream",
     "text": [
      "\n",
      "Summary:\n",
      "-learning rate = 0.01710\n",
      "-path 1 has early stopped:\n",
      " 10000 iterations with no improvement in valid loss.\n",
      "-Model saved after iteration 527.\n",
      "-Train.  Loss=0.0200810\n",
      "-Valid.  Loss=0.0301655\n",
      "'train_loss02_44.csv' saved.\n",
      "'valid_loss02_44.csv' saved.\n",
      "'model05_forward02_44_last.pth' saved.\n",
      "'model05_forward02_44_best.pth' saved.\n",
      "- train minibatches = 1\n",
      "- valid minibatches = 1\n",
      "- test minibatches = 1\n"
     ]
    },
    {
     "data": {
      "application/vnd.jupyter.widget-view+json": {
       "model_id": "54b0a136971b4bb5ba32d61d8eb6e394",
       "version_major": 2,
       "version_minor": 0
      },
      "text/plain": [
       "HBox(children=(HTML(value='Epochs loop'), FloatProgress(value=0.0, max=50000.0), HTML(value='')))"
      ]
     },
     "metadata": {},
     "output_type": "display_data"
    },
    {
     "name": "stdout",
     "output_type": "stream",
     "text": [
      "\n",
      "Summary:\n",
      "-learning rate = 0.01710\n",
      "-path 1 has early stopped:\n",
      " 10000 iterations with no improvement in valid loss.\n",
      "-Model saved after iteration 3522.\n",
      "-Train.  Loss=0.0163850\n",
      "-Valid.  Loss=0.0186235\n",
      "'train_loss02_45.csv' saved.\n",
      "'valid_loss02_45.csv' saved.\n",
      "'model05_forward02_45_last.pth' saved.\n",
      "'model05_forward02_45_best.pth' saved.\n",
      "- train minibatches = 1\n",
      "- valid minibatches = 1\n",
      "- test minibatches = 1\n"
     ]
    },
    {
     "data": {
      "application/vnd.jupyter.widget-view+json": {
       "model_id": "b73730ad96304eeea4e225280e692b95",
       "version_major": 2,
       "version_minor": 0
      },
      "text/plain": [
       "HBox(children=(HTML(value='Epochs loop'), FloatProgress(value=0.0, max=50000.0), HTML(value='')))"
      ]
     },
     "metadata": {},
     "output_type": "display_data"
    },
    {
     "name": "stdout",
     "output_type": "stream",
     "text": [
      "\n",
      "Summary:\n",
      "-learning rate = 0.01710\n",
      "-path 1 has early stopped:\n",
      " 10000 iterations with no improvement in valid loss.\n",
      "-Model saved after iteration 23172.\n",
      "-Train.  Loss=0.0026538\n",
      "-Valid.  Loss=0.0095982\n",
      "'train_loss02_46.csv' saved.\n",
      "'valid_loss02_46.csv' saved.\n",
      "'model05_forward02_46_last.pth' saved.\n",
      "'model05_forward02_46_best.pth' saved.\n",
      "- train minibatches = 1\n",
      "- valid minibatches = 1\n",
      "- test minibatches = 1\n"
     ]
    },
    {
     "data": {
      "application/vnd.jupyter.widget-view+json": {
       "model_id": "7020bda448ac438aa4c57171c4aeaceb",
       "version_major": 2,
       "version_minor": 0
      },
      "text/plain": [
       "HBox(children=(HTML(value='Epochs loop'), FloatProgress(value=0.0, max=50000.0), HTML(value='')))"
      ]
     },
     "metadata": {},
     "output_type": "display_data"
    },
    {
     "name": "stdout",
     "output_type": "stream",
     "text": [
      "\n",
      "Summary:\n",
      "-learning rate = 0.01710\n",
      "-path 1 has early stopped:\n",
      " 10000 iterations with no improvement in valid loss.\n",
      "-Model saved after iteration 6304.\n",
      "-Train.  Loss=0.0043208\n",
      "-Valid.  Loss=0.0164008\n",
      "'train_loss02_47.csv' saved.\n",
      "'valid_loss02_47.csv' saved.\n",
      "'model05_forward02_47_last.pth' saved.\n",
      "'model05_forward02_47_best.pth' saved.\n",
      "- train minibatches = 1\n",
      "- valid minibatches = 1\n",
      "- test minibatches = 1\n"
     ]
    },
    {
     "data": {
      "application/vnd.jupyter.widget-view+json": {
       "model_id": "077184fe777644689ccd02a20d4f7605",
       "version_major": 2,
       "version_minor": 0
      },
      "text/plain": [
       "HBox(children=(HTML(value='Epochs loop'), FloatProgress(value=0.0, max=50000.0), HTML(value='')))"
      ]
     },
     "metadata": {},
     "output_type": "display_data"
    },
    {
     "name": "stdout",
     "output_type": "stream",
     "text": [
      "\n",
      "Summary:\n",
      "-learning rate = 0.01710\n",
      "-Model saved after iteration 49964.\n",
      "-Train.  Loss=0.0017861\n",
      "-Valid.  Loss=0.0125749\n",
      "'train_loss02_48.csv' saved.\n",
      "'valid_loss02_48.csv' saved.\n",
      "'model05_forward02_48_last.pth' saved.\n",
      "'model05_forward02_48_best.pth' saved.\n",
      "- train minibatches = 1\n",
      "- valid minibatches = 1\n",
      "- test minibatches = 1\n"
     ]
    },
    {
     "data": {
      "application/vnd.jupyter.widget-view+json": {
       "model_id": "b2039d221a1e46b4bef958a3bb6801cc",
       "version_major": 2,
       "version_minor": 0
      },
      "text/plain": [
       "HBox(children=(HTML(value='Epochs loop'), FloatProgress(value=0.0, max=50000.0), HTML(value='')))"
      ]
     },
     "metadata": {},
     "output_type": "display_data"
    },
    {
     "name": "stdout",
     "output_type": "stream",
     "text": [
      "\n",
      "Summary:\n",
      "-learning rate = 0.01710\n",
      "-path 1 has early stopped:\n",
      " 10000 iterations with no improvement in valid loss.\n",
      "-Model saved after iteration 1805.\n",
      "-Train.  Loss=0.0083808\n",
      "-Valid.  Loss=0.0265327\n",
      "'train_loss02_49.csv' saved.\n",
      "'valid_loss02_49.csv' saved.\n",
      "'model05_forward02_49_last.pth' saved.\n",
      "'model05_forward02_49_best.pth' saved.\n",
      "- train minibatches = 1\n",
      "- valid minibatches = 1\n",
      "- test minibatches = 1\n"
     ]
    },
    {
     "data": {
      "application/vnd.jupyter.widget-view+json": {
       "model_id": "71cd01ed1bbe4f5c94a160d565ba9535",
       "version_major": 2,
       "version_minor": 0
      },
      "text/plain": [
       "HBox(children=(HTML(value='Epochs loop'), FloatProgress(value=0.0, max=50000.0), HTML(value='')))"
      ]
     },
     "metadata": {},
     "output_type": "display_data"
    },
    {
     "name": "stdout",
     "output_type": "stream",
     "text": [
      "\n",
      "Summary:\n",
      "-learning rate = 0.01710\n",
      "-path 1 has early stopped:\n",
      " 10000 iterations with no improvement in valid loss.\n",
      "-Model saved after iteration 10954.\n",
      "-Train.  Loss=0.0036007\n",
      "-Valid.  Loss=0.0253251\n",
      "'train_loss02_50.csv' saved.\n",
      "'valid_loss02_50.csv' saved.\n",
      "'model05_forward02_50_last.pth' saved.\n",
      "'model05_forward02_50_best.pth' saved.\n",
      "- train minibatches = 1\n",
      "- valid minibatches = 1\n",
      "- test minibatches = 1\n"
     ]
    },
    {
     "data": {
      "application/vnd.jupyter.widget-view+json": {
       "model_id": "4974452daa4840a695159ce703b274e1",
       "version_major": 2,
       "version_minor": 0
      },
      "text/plain": [
       "HBox(children=(HTML(value='Epochs loop'), FloatProgress(value=0.0, max=50000.0), HTML(value='')))"
      ]
     },
     "metadata": {},
     "output_type": "display_data"
    },
    {
     "name": "stdout",
     "output_type": "stream",
     "text": [
      "\n",
      "Summary:\n",
      "-learning rate = 0.01710\n",
      "-path 1 has early stopped:\n",
      " 10000 iterations with no improvement in valid loss.\n",
      "-Model saved after iteration 1971.\n",
      "-Train.  Loss=0.0096077\n",
      "-Valid.  Loss=0.0136039\n",
      "'train_loss02_51.csv' saved.\n",
      "'valid_loss02_51.csv' saved.\n",
      "'model05_forward02_51_last.pth' saved.\n",
      "'model05_forward02_51_best.pth' saved.\n",
      "- train minibatches = 1\n",
      "- valid minibatches = 1\n",
      "- test minibatches = 1\n"
     ]
    },
    {
     "data": {
      "application/vnd.jupyter.widget-view+json": {
       "model_id": "d7fdf4ddc8944913bf30b8f7d0ad734f",
       "version_major": 2,
       "version_minor": 0
      },
      "text/plain": [
       "HBox(children=(HTML(value='Epochs loop'), FloatProgress(value=0.0, max=50000.0), HTML(value='')))"
      ]
     },
     "metadata": {},
     "output_type": "display_data"
    },
    {
     "name": "stdout",
     "output_type": "stream",
     "text": [
      "\n",
      "Summary:\n",
      "-learning rate = 0.01710\n",
      "-path 1 has early stopped:\n",
      " 10000 iterations with no improvement in valid loss.\n",
      "-Model saved after iteration 712.\n",
      "-Train.  Loss=0.0151005\n",
      "-Valid.  Loss=0.0400290\n",
      "'train_loss02_52.csv' saved.\n",
      "'valid_loss02_52.csv' saved.\n",
      "'model05_forward02_52_last.pth' saved.\n",
      "'model05_forward02_52_best.pth' saved.\n",
      "- train minibatches = 1\n",
      "- valid minibatches = 1\n",
      "- test minibatches = 1\n"
     ]
    },
    {
     "data": {
      "application/vnd.jupyter.widget-view+json": {
       "model_id": "6b0aefc558554a428b838440029cc6f0",
       "version_major": 2,
       "version_minor": 0
      },
      "text/plain": [
       "HBox(children=(HTML(value='Epochs loop'), FloatProgress(value=0.0, max=50000.0), HTML(value='')))"
      ]
     },
     "metadata": {},
     "output_type": "display_data"
    },
    {
     "name": "stdout",
     "output_type": "stream",
     "text": [
      "\n",
      "Summary:\n",
      "-learning rate = 0.01710\n",
      "-Model saved after iteration 46274.\n",
      "-Train.  Loss=0.0022242\n",
      "-Valid.  Loss=0.0553154\n",
      "'train_loss02_53.csv' saved.\n",
      "'valid_loss02_53.csv' saved.\n",
      "'model05_forward02_53_last.pth' saved.\n",
      "'model05_forward02_53_best.pth' saved.\n",
      "- train minibatches = 1\n",
      "- valid minibatches = 1\n",
      "- test minibatches = 1\n"
     ]
    },
    {
     "data": {
      "application/vnd.jupyter.widget-view+json": {
       "model_id": "b59cbac7ce334b7bb88417be7b313f4d",
       "version_major": 2,
       "version_minor": 0
      },
      "text/plain": [
       "HBox(children=(HTML(value='Epochs loop'), FloatProgress(value=0.0, max=50000.0), HTML(value='')))"
      ]
     },
     "metadata": {},
     "output_type": "display_data"
    },
    {
     "name": "stdout",
     "output_type": "stream",
     "text": [
      "\n",
      "Summary:\n",
      "-learning rate = 0.01710\n",
      "-path 1 has early stopped:\n",
      " 10000 iterations with no improvement in valid loss.\n",
      "-Model saved after iteration 2773.\n",
      "-Train.  Loss=0.0061479\n",
      "-Valid.  Loss=0.0142945\n",
      "'train_loss02_54.csv' saved.\n",
      "'valid_loss02_54.csv' saved.\n",
      "'model05_forward02_54_last.pth' saved.\n",
      "'model05_forward02_54_best.pth' saved.\n",
      "- train minibatches = 1\n",
      "- valid minibatches = 1\n",
      "- test minibatches = 1\n"
     ]
    },
    {
     "data": {
      "application/vnd.jupyter.widget-view+json": {
       "model_id": "b73612d30cdc4d60824932fea2cdc22e",
       "version_major": 2,
       "version_minor": 0
      },
      "text/plain": [
       "HBox(children=(HTML(value='Epochs loop'), FloatProgress(value=0.0, max=50000.0), HTML(value='')))"
      ]
     },
     "metadata": {},
     "output_type": "display_data"
    },
    {
     "name": "stdout",
     "output_type": "stream",
     "text": [
      "\n",
      "Summary:\n",
      "-learning rate = 0.01710\n",
      "-path 1 has early stopped:\n",
      " 10000 iterations with no improvement in valid loss.\n",
      "-Model saved after iteration 10344.\n",
      "-Train.  Loss=0.0045665\n",
      "-Valid.  Loss=0.0317087\n",
      "'train_loss02_55.csv' saved.\n",
      "'valid_loss02_55.csv' saved.\n",
      "'model05_forward02_55_last.pth' saved.\n",
      "'model05_forward02_55_best.pth' saved.\n",
      "- train minibatches = 1\n",
      "- valid minibatches = 1\n",
      "- test minibatches = 1\n"
     ]
    },
    {
     "data": {
      "application/vnd.jupyter.widget-view+json": {
       "model_id": "56c452be470c4c33bdf78b6c8d4d84fc",
       "version_major": 2,
       "version_minor": 0
      },
      "text/plain": [
       "HBox(children=(HTML(value='Epochs loop'), FloatProgress(value=0.0, max=50000.0), HTML(value='')))"
      ]
     },
     "metadata": {},
     "output_type": "display_data"
    },
    {
     "name": "stdout",
     "output_type": "stream",
     "text": [
      "\n",
      "Summary:\n",
      "-learning rate = 0.01710\n",
      "-path 1 has early stopped:\n",
      " 10000 iterations with no improvement in valid loss.\n",
      "-Model saved after iteration 18484.\n",
      "-Train.  Loss=0.0020906\n",
      "-Valid.  Loss=0.0354584\n",
      "'train_loss02_56.csv' saved.\n",
      "'valid_loss02_56.csv' saved.\n",
      "'model05_forward02_56_last.pth' saved.\n",
      "'model05_forward02_56_best.pth' saved.\n",
      "- train minibatches = 1\n",
      "- valid minibatches = 1\n",
      "- test minibatches = 1\n"
     ]
    },
    {
     "data": {
      "application/vnd.jupyter.widget-view+json": {
       "model_id": "a5db3ae554c94307a62ace5ea85dbf9e",
       "version_major": 2,
       "version_minor": 0
      },
      "text/plain": [
       "HBox(children=(HTML(value='Epochs loop'), FloatProgress(value=0.0, max=50000.0), HTML(value='')))"
      ]
     },
     "metadata": {},
     "output_type": "display_data"
    },
    {
     "name": "stdout",
     "output_type": "stream",
     "text": [
      "\n",
      "Summary:\n",
      "-learning rate = 0.01710\n",
      "-path 1 has early stopped:\n",
      " 10000 iterations with no improvement in valid loss.\n",
      "-Model saved after iteration 1577.\n",
      "-Train.  Loss=0.0063305\n",
      "-Valid.  Loss=0.0416567\n",
      "'train_loss02_57.csv' saved.\n",
      "'valid_loss02_57.csv' saved.\n",
      "'model05_forward02_57_last.pth' saved.\n",
      "'model05_forward02_57_best.pth' saved.\n",
      "- train minibatches = 1\n",
      "- valid minibatches = 1\n",
      "- test minibatches = 1\n"
     ]
    },
    {
     "data": {
      "application/vnd.jupyter.widget-view+json": {
       "model_id": "3df6c1c967eb43c19867def2bf4d2d6b",
       "version_major": 2,
       "version_minor": 0
      },
      "text/plain": [
       "HBox(children=(HTML(value='Epochs loop'), FloatProgress(value=0.0, max=50000.0), HTML(value='')))"
      ]
     },
     "metadata": {},
     "output_type": "display_data"
    },
    {
     "name": "stdout",
     "output_type": "stream",
     "text": [
      "\n",
      "Summary:\n",
      "-learning rate = 0.01710\n",
      "-path 1 has early stopped:\n",
      " 10000 iterations with no improvement in valid loss.\n",
      "-Model saved after iteration 6564.\n",
      "-Train.  Loss=0.0038736\n",
      "-Valid.  Loss=0.0076333\n",
      "'train_loss02_58.csv' saved.\n",
      "'valid_loss02_58.csv' saved.\n",
      "'model05_forward02_58_last.pth' saved.\n",
      "'model05_forward02_58_best.pth' saved.\n",
      "- train minibatches = 1\n",
      "- valid minibatches = 1\n",
      "- test minibatches = 1\n"
     ]
    },
    {
     "data": {
      "application/vnd.jupyter.widget-view+json": {
       "model_id": "da7625f38c364795a75cbf3aefd8ecab",
       "version_major": 2,
       "version_minor": 0
      },
      "text/plain": [
       "HBox(children=(HTML(value='Epochs loop'), FloatProgress(value=0.0, max=50000.0), HTML(value='')))"
      ]
     },
     "metadata": {},
     "output_type": "display_data"
    },
    {
     "name": "stdout",
     "output_type": "stream",
     "text": [
      "\n",
      "Summary:\n",
      "-learning rate = 0.01710\n",
      "-path 1 has early stopped:\n",
      " 10000 iterations with no improvement in valid loss.\n",
      "-Model saved after iteration 6277.\n",
      "-Train.  Loss=0.0048333\n",
      "-Valid.  Loss=0.0169603\n",
      "'train_loss02_59.csv' saved.\n",
      "'valid_loss02_59.csv' saved.\n",
      "'model05_forward02_59_last.pth' saved.\n",
      "'model05_forward02_59_best.pth' saved.\n",
      "- train minibatches = 1\n",
      "- valid minibatches = 1\n",
      "- test minibatches = 1\n"
     ]
    },
    {
     "data": {
      "application/vnd.jupyter.widget-view+json": {
       "model_id": "4e15d012bdf14c63982619192dbe89ba",
       "version_major": 2,
       "version_minor": 0
      },
      "text/plain": [
       "HBox(children=(HTML(value='Epochs loop'), FloatProgress(value=0.0, max=50000.0), HTML(value='')))"
      ]
     },
     "metadata": {},
     "output_type": "display_data"
    },
    {
     "name": "stdout",
     "output_type": "stream",
     "text": [
      "\n",
      "Summary:\n",
      "-learning rate = 0.01710\n",
      "-path 1 has early stopped:\n",
      " 10000 iterations with no improvement in valid loss.\n",
      "-Model saved after iteration 16429.\n",
      "-Train.  Loss=0.0036175\n",
      "-Valid.  Loss=0.0170292\n",
      "'train_loss02_60.csv' saved.\n",
      "'valid_loss02_60.csv' saved.\n",
      "'model05_forward02_60_last.pth' saved.\n",
      "'model05_forward02_60_best.pth' saved.\n",
      "- train minibatches = 1\n",
      "- valid minibatches = 1\n",
      "- test minibatches = 1\n"
     ]
    },
    {
     "data": {
      "application/vnd.jupyter.widget-view+json": {
       "model_id": "41fcba461c2e46f3a48473edb7063569",
       "version_major": 2,
       "version_minor": 0
      },
      "text/plain": [
       "HBox(children=(HTML(value='Epochs loop'), FloatProgress(value=0.0, max=50000.0), HTML(value='')))"
      ]
     },
     "metadata": {},
     "output_type": "display_data"
    },
    {
     "name": "stdout",
     "output_type": "stream",
     "text": [
      "\n",
      "Summary:\n",
      "-learning rate = 0.01710\n",
      "-path 1 has early stopped:\n",
      " 10000 iterations with no improvement in valid loss.\n",
      "-Model saved after iteration 3468.\n",
      "-Train.  Loss=0.0057978\n",
      "-Valid.  Loss=0.0093484\n",
      "'train_loss02_61.csv' saved.\n",
      "'valid_loss02_61.csv' saved.\n",
      "'model05_forward02_61_last.pth' saved.\n",
      "'model05_forward02_61_best.pth' saved.\n",
      "- train minibatches = 1\n",
      "- valid minibatches = 1\n",
      "- test minibatches = 1\n"
     ]
    },
    {
     "data": {
      "application/vnd.jupyter.widget-view+json": {
       "model_id": "910a068e05d84be19860294a5a6b8e45",
       "version_major": 2,
       "version_minor": 0
      },
      "text/plain": [
       "HBox(children=(HTML(value='Epochs loop'), FloatProgress(value=0.0, max=50000.0), HTML(value='')))"
      ]
     },
     "metadata": {},
     "output_type": "display_data"
    },
    {
     "name": "stdout",
     "output_type": "stream",
     "text": [
      "\n",
      "Summary:\n",
      "-learning rate = 0.01710\n",
      "-path 1 has early stopped:\n",
      " 10000 iterations with no improvement in valid loss.\n",
      "-Model saved after iteration 28255.\n",
      "-Train.  Loss=0.0028968\n",
      "-Valid.  Loss=0.0433757\n",
      "'train_loss02_62.csv' saved.\n",
      "'valid_loss02_62.csv' saved.\n",
      "'model05_forward02_62_last.pth' saved.\n",
      "'model05_forward02_62_best.pth' saved.\n",
      "- train minibatches = 1\n",
      "- valid minibatches = 1\n",
      "- test minibatches = 1\n"
     ]
    },
    {
     "data": {
      "application/vnd.jupyter.widget-view+json": {
       "model_id": "64c81585f15345fdb224b1ff93e242d2",
       "version_major": 2,
       "version_minor": 0
      },
      "text/plain": [
       "HBox(children=(HTML(value='Epochs loop'), FloatProgress(value=0.0, max=50000.0), HTML(value='')))"
      ]
     },
     "metadata": {},
     "output_type": "display_data"
    },
    {
     "name": "stdout",
     "output_type": "stream",
     "text": [
      "\n",
      "Summary:\n",
      "-learning rate = 0.01710\n",
      "-path 1 has early stopped:\n",
      " 10000 iterations with no improvement in valid loss.\n",
      "-Model saved after iteration 26559.\n",
      "-Train.  Loss=0.0027617\n",
      "-Valid.  Loss=0.0194717\n",
      "'train_loss02_63.csv' saved.\n",
      "'valid_loss02_63.csv' saved.\n",
      "'model05_forward02_63_last.pth' saved.\n",
      "'model05_forward02_63_best.pth' saved.\n",
      "- train minibatches = 1\n",
      "- valid minibatches = 1\n",
      "- test minibatches = 1\n"
     ]
    },
    {
     "data": {
      "application/vnd.jupyter.widget-view+json": {
       "model_id": "b42ed26a02434e3ab4d027d50e723063",
       "version_major": 2,
       "version_minor": 0
      },
      "text/plain": [
       "HBox(children=(HTML(value='Epochs loop'), FloatProgress(value=0.0, max=50000.0), HTML(value='')))"
      ]
     },
     "metadata": {},
     "output_type": "display_data"
    },
    {
     "name": "stdout",
     "output_type": "stream",
     "text": [
      "\n",
      "Summary:\n",
      "-learning rate = 0.01710\n",
      "-path 1 has early stopped:\n",
      " 10000 iterations with no improvement in valid loss.\n",
      "-Model saved after iteration 14561.\n",
      "-Train.  Loss=0.0026454\n",
      "-Valid.  Loss=0.0202425\n",
      "'train_loss02_64.csv' saved.\n",
      "'valid_loss02_64.csv' saved.\n",
      "'model05_forward02_64_last.pth' saved.\n",
      "'model05_forward02_64_best.pth' saved.\n",
      "- train minibatches = 1\n",
      "- valid minibatches = 1\n",
      "- test minibatches = 1\n"
     ]
    },
    {
     "data": {
      "application/vnd.jupyter.widget-view+json": {
       "model_id": "95ad48d98f304a3a8159e3f7706ad6a8",
       "version_major": 2,
       "version_minor": 0
      },
      "text/plain": [
       "HBox(children=(HTML(value='Epochs loop'), FloatProgress(value=0.0, max=50000.0), HTML(value='')))"
      ]
     },
     "metadata": {},
     "output_type": "display_data"
    },
    {
     "name": "stdout",
     "output_type": "stream",
     "text": [
      "\n",
      "Summary:\n",
      "-learning rate = 0.01710\n",
      "-path 1 has early stopped:\n",
      " 10000 iterations with no improvement in valid loss.\n",
      "-Model saved after iteration 33383.\n",
      "-Train.  Loss=0.0020388\n",
      "-Valid.  Loss=0.0140432\n",
      "'train_loss02_65.csv' saved.\n",
      "'valid_loss02_65.csv' saved.\n",
      "'model05_forward02_65_last.pth' saved.\n",
      "'model05_forward02_65_best.pth' saved.\n",
      "- train minibatches = 1\n",
      "- valid minibatches = 1\n",
      "- test minibatches = 1\n"
     ]
    },
    {
     "data": {
      "application/vnd.jupyter.widget-view+json": {
       "model_id": "c60c73f4ed064c3c9d51735d7ef9fe2f",
       "version_major": 2,
       "version_minor": 0
      },
      "text/plain": [
       "HBox(children=(HTML(value='Epochs loop'), FloatProgress(value=0.0, max=50000.0), HTML(value='')))"
      ]
     },
     "metadata": {},
     "output_type": "display_data"
    },
    {
     "name": "stdout",
     "output_type": "stream",
     "text": [
      "\n",
      "Summary:\n",
      "-learning rate = 0.01710\n",
      "-path 1 has early stopped:\n",
      " 10000 iterations with no improvement in valid loss.\n",
      "-Model saved after iteration 16321.\n",
      "-Train.  Loss=0.0029192\n",
      "-Valid.  Loss=0.0196424\n",
      "'train_loss02_66.csv' saved.\n",
      "'valid_loss02_66.csv' saved.\n",
      "'model05_forward02_66_last.pth' saved.\n",
      "'model05_forward02_66_best.pth' saved.\n",
      "- train minibatches = 1\n",
      "- valid minibatches = 1\n",
      "- test minibatches = 1\n"
     ]
    },
    {
     "data": {
      "application/vnd.jupyter.widget-view+json": {
       "model_id": "a8a6683ced484214815fad4b3a36ac63",
       "version_major": 2,
       "version_minor": 0
      },
      "text/plain": [
       "HBox(children=(HTML(value='Epochs loop'), FloatProgress(value=0.0, max=50000.0), HTML(value='')))"
      ]
     },
     "metadata": {},
     "output_type": "display_data"
    },
    {
     "name": "stdout",
     "output_type": "stream",
     "text": [
      "\n",
      "Summary:\n",
      "-learning rate = 0.01710\n",
      "-path 1 has early stopped:\n",
      " 10000 iterations with no improvement in valid loss.\n",
      "-Model saved after iteration 13199.\n",
      "-Train.  Loss=0.0033978\n",
      "-Valid.  Loss=0.0459346\n",
      "'train_loss02_67.csv' saved.\n",
      "'valid_loss02_67.csv' saved.\n",
      "'model05_forward02_67_last.pth' saved.\n",
      "'model05_forward02_67_best.pth' saved.\n",
      "- train minibatches = 1\n",
      "- valid minibatches = 1\n",
      "- test minibatches = 1\n"
     ]
    },
    {
     "data": {
      "application/vnd.jupyter.widget-view+json": {
       "model_id": "580e765bc8e54eed91ccabb628d20687",
       "version_major": 2,
       "version_minor": 0
      },
      "text/plain": [
       "HBox(children=(HTML(value='Epochs loop'), FloatProgress(value=0.0, max=50000.0), HTML(value='')))"
      ]
     },
     "metadata": {},
     "output_type": "display_data"
    },
    {
     "name": "stdout",
     "output_type": "stream",
     "text": [
      "\n",
      "Summary:\n",
      "-learning rate = 0.01710\n",
      "-path 1 has early stopped:\n",
      " 10000 iterations with no improvement in valid loss.\n",
      "-Model saved after iteration 14266.\n",
      "-Train.  Loss=0.0037967\n",
      "-Valid.  Loss=0.0119206\n",
      "'train_loss02_68.csv' saved.\n",
      "'valid_loss02_68.csv' saved.\n",
      "'model05_forward02_68_last.pth' saved.\n",
      "'model05_forward02_68_best.pth' saved.\n",
      "- train minibatches = 1\n",
      "- valid minibatches = 1\n",
      "- test minibatches = 1\n"
     ]
    },
    {
     "data": {
      "application/vnd.jupyter.widget-view+json": {
       "model_id": "98c915b54de740288a56e6ed8d8b2bbc",
       "version_major": 2,
       "version_minor": 0
      },
      "text/plain": [
       "HBox(children=(HTML(value='Epochs loop'), FloatProgress(value=0.0, max=50000.0), HTML(value='')))"
      ]
     },
     "metadata": {},
     "output_type": "display_data"
    },
    {
     "name": "stdout",
     "output_type": "stream",
     "text": [
      "\n",
      "Summary:\n",
      "-learning rate = 0.01710\n",
      "-path 1 has early stopped:\n",
      " 10000 iterations with no improvement in valid loss.\n",
      "-Model saved after iteration 1409.\n",
      "-Train.  Loss=0.0081617\n",
      "-Valid.  Loss=0.0188034\n",
      "'train_loss02_69.csv' saved.\n",
      "'valid_loss02_69.csv' saved.\n",
      "'model05_forward02_69_last.pth' saved.\n",
      "'model05_forward02_69_best.pth' saved.\n",
      "- train minibatches = 1\n",
      "- valid minibatches = 1\n",
      "- test minibatches = 1\n"
     ]
    },
    {
     "data": {
      "application/vnd.jupyter.widget-view+json": {
       "model_id": "c0aa6f816c6a4f3daa1605b757e7d617",
       "version_major": 2,
       "version_minor": 0
      },
      "text/plain": [
       "HBox(children=(HTML(value='Epochs loop'), FloatProgress(value=0.0, max=50000.0), HTML(value='')))"
      ]
     },
     "metadata": {},
     "output_type": "display_data"
    },
    {
     "name": "stdout",
     "output_type": "stream",
     "text": [
      "\n",
      "Summary:\n",
      "-learning rate = 0.01710\n",
      "-path 1 has early stopped:\n",
      " 10000 iterations with no improvement in valid loss.\n",
      "-Model saved after iteration 10217.\n",
      "-Train.  Loss=0.0030951\n",
      "-Valid.  Loss=0.0287730\n",
      "'train_loss02_70.csv' saved.\n",
      "'valid_loss02_70.csv' saved.\n",
      "'model05_forward02_70_last.pth' saved.\n",
      "'model05_forward02_70_best.pth' saved.\n",
      "- train minibatches = 1\n",
      "- valid minibatches = 1\n",
      "- test minibatches = 1\n"
     ]
    },
    {
     "data": {
      "application/vnd.jupyter.widget-view+json": {
       "model_id": "65dad17de42746d494ddaf517c89e7d5",
       "version_major": 2,
       "version_minor": 0
      },
      "text/plain": [
       "HBox(children=(HTML(value='Epochs loop'), FloatProgress(value=0.0, max=50000.0), HTML(value='')))"
      ]
     },
     "metadata": {},
     "output_type": "display_data"
    },
    {
     "name": "stdout",
     "output_type": "stream",
     "text": [
      "\n",
      "Summary:\n",
      "-learning rate = 0.01710\n",
      "-path 1 has early stopped:\n",
      " 10000 iterations with no improvement in valid loss.\n",
      "-Model saved after iteration 612.\n",
      "-Train.  Loss=0.0191796\n",
      "-Valid.  Loss=0.0291099\n",
      "'train_loss02_71.csv' saved.\n",
      "'valid_loss02_71.csv' saved.\n",
      "'model05_forward02_71_last.pth' saved.\n",
      "'model05_forward02_71_best.pth' saved.\n",
      "- train minibatches = 1\n",
      "- valid minibatches = 1\n",
      "- test minibatches = 1\n"
     ]
    },
    {
     "data": {
      "application/vnd.jupyter.widget-view+json": {
       "model_id": "922158b63916417db1090019e680cb81",
       "version_major": 2,
       "version_minor": 0
      },
      "text/plain": [
       "HBox(children=(HTML(value='Epochs loop'), FloatProgress(value=0.0, max=50000.0), HTML(value='')))"
      ]
     },
     "metadata": {},
     "output_type": "display_data"
    },
    {
     "name": "stdout",
     "output_type": "stream",
     "text": [
      "\n",
      "Summary:\n",
      "-learning rate = 0.01710\n",
      "-path 1 has early stopped:\n",
      " 10000 iterations with no improvement in valid loss.\n",
      "-Model saved after iteration 1583.\n",
      "-Train.  Loss=0.0110233\n",
      "-Valid.  Loss=0.0294252\n",
      "'train_loss02_72.csv' saved.\n",
      "'valid_loss02_72.csv' saved.\n",
      "'model05_forward02_72_last.pth' saved.\n",
      "'model05_forward02_72_best.pth' saved.\n",
      "- train minibatches = 1\n",
      "- valid minibatches = 1\n",
      "- test minibatches = 1\n"
     ]
    },
    {
     "data": {
      "application/vnd.jupyter.widget-view+json": {
       "model_id": "23681a3e06bb4943a34c48080e301b2e",
       "version_major": 2,
       "version_minor": 0
      },
      "text/plain": [
       "HBox(children=(HTML(value='Epochs loop'), FloatProgress(value=0.0, max=50000.0), HTML(value='')))"
      ]
     },
     "metadata": {},
     "output_type": "display_data"
    },
    {
     "name": "stdout",
     "output_type": "stream",
     "text": [
      "\n",
      "Summary:\n",
      "-learning rate = 0.01710\n",
      "-path 1 has early stopped:\n",
      " 10000 iterations with no improvement in valid loss.\n",
      "-Model saved after iteration 6279.\n",
      "-Train.  Loss=0.0042964\n",
      "-Valid.  Loss=0.0353624\n",
      "'train_loss02_73.csv' saved.\n",
      "'valid_loss02_73.csv' saved.\n",
      "'model05_forward02_73_last.pth' saved.\n",
      "'model05_forward02_73_best.pth' saved.\n",
      "- train minibatches = 1\n",
      "- valid minibatches = 1\n",
      "- test minibatches = 1\n"
     ]
    },
    {
     "data": {
      "application/vnd.jupyter.widget-view+json": {
       "model_id": "98302af6a7fa49f6ae8014a25adb82c7",
       "version_major": 2,
       "version_minor": 0
      },
      "text/plain": [
       "HBox(children=(HTML(value='Epochs loop'), FloatProgress(value=0.0, max=50000.0), HTML(value='')))"
      ]
     },
     "metadata": {},
     "output_type": "display_data"
    },
    {
     "name": "stdout",
     "output_type": "stream",
     "text": [
      "\n",
      "Summary:\n",
      "-learning rate = 0.01710\n",
      "-path 1 has early stopped:\n",
      " 10000 iterations with no improvement in valid loss.\n",
      "-Model saved after iteration 4382.\n",
      "-Train.  Loss=0.0036748\n",
      "-Valid.  Loss=0.0283328\n",
      "'train_loss02_74.csv' saved.\n",
      "'valid_loss02_74.csv' saved.\n",
      "'model05_forward02_74_last.pth' saved.\n",
      "'model05_forward02_74_best.pth' saved.\n",
      "- train minibatches = 1\n",
      "- valid minibatches = 1\n",
      "- test minibatches = 1\n"
     ]
    },
    {
     "data": {
      "application/vnd.jupyter.widget-view+json": {
       "model_id": "9ae9d7c5cdc7488ba65b7f0acd790805",
       "version_major": 2,
       "version_minor": 0
      },
      "text/plain": [
       "HBox(children=(HTML(value='Epochs loop'), FloatProgress(value=0.0, max=50000.0), HTML(value='')))"
      ]
     },
     "metadata": {},
     "output_type": "display_data"
    },
    {
     "name": "stdout",
     "output_type": "stream",
     "text": [
      "\n",
      "Summary:\n",
      "-learning rate = 0.01710\n",
      "-path 1 has early stopped:\n",
      " 10000 iterations with no improvement in valid loss.\n",
      "-Model saved after iteration 2685.\n",
      "-Train.  Loss=0.0058206\n",
      "-Valid.  Loss=0.0184369\n",
      "'train_loss02_75.csv' saved.\n",
      "'valid_loss02_75.csv' saved.\n",
      "'model05_forward02_75_last.pth' saved.\n",
      "'model05_forward02_75_best.pth' saved.\n",
      "- train minibatches = 1\n",
      "- valid minibatches = 1\n",
      "- test minibatches = 1\n"
     ]
    },
    {
     "data": {
      "application/vnd.jupyter.widget-view+json": {
       "model_id": "3b4f901e14134665934ef9ee6968cc50",
       "version_major": 2,
       "version_minor": 0
      },
      "text/plain": [
       "HBox(children=(HTML(value='Epochs loop'), FloatProgress(value=0.0, max=50000.0), HTML(value='')))"
      ]
     },
     "metadata": {},
     "output_type": "display_data"
    },
    {
     "name": "stdout",
     "output_type": "stream",
     "text": [
      "\n",
      "Summary:\n",
      "-learning rate = 0.01710\n",
      "-path 1 has early stopped:\n",
      " 10000 iterations with no improvement in valid loss.\n",
      "-Model saved after iteration 4166.\n",
      "-Train.  Loss=0.0095431\n",
      "-Valid.  Loss=0.0221968\n",
      "'train_loss02_76.csv' saved.\n",
      "'valid_loss02_76.csv' saved.\n",
      "'model05_forward02_76_last.pth' saved.\n",
      "'model05_forward02_76_best.pth' saved.\n",
      "- train minibatches = 1\n",
      "- valid minibatches = 1\n",
      "- test minibatches = 1\n"
     ]
    },
    {
     "data": {
      "application/vnd.jupyter.widget-view+json": {
       "model_id": "8ab8aac0d7a44024a65da126b0af7368",
       "version_major": 2,
       "version_minor": 0
      },
      "text/plain": [
       "HBox(children=(HTML(value='Epochs loop'), FloatProgress(value=0.0, max=50000.0), HTML(value='')))"
      ]
     },
     "metadata": {},
     "output_type": "display_data"
    },
    {
     "name": "stdout",
     "output_type": "stream",
     "text": [
      "\n",
      "Summary:\n",
      "-learning rate = 0.01710\n",
      "-path 1 has early stopped:\n",
      " 10000 iterations with no improvement in valid loss.\n",
      "-Model saved after iteration 10773.\n",
      "-Train.  Loss=0.0040954\n",
      "-Valid.  Loss=0.0124907\n",
      "'train_loss02_77.csv' saved.\n",
      "'valid_loss02_77.csv' saved.\n",
      "'model05_forward02_77_last.pth' saved.\n",
      "'model05_forward02_77_best.pth' saved.\n",
      "- train minibatches = 1\n",
      "- valid minibatches = 1\n",
      "- test minibatches = 1\n"
     ]
    },
    {
     "data": {
      "application/vnd.jupyter.widget-view+json": {
       "model_id": "35b337e614a84d47ac62e5052ec7e4ef",
       "version_major": 2,
       "version_minor": 0
      },
      "text/plain": [
       "HBox(children=(HTML(value='Epochs loop'), FloatProgress(value=0.0, max=50000.0), HTML(value='')))"
      ]
     },
     "metadata": {},
     "output_type": "display_data"
    },
    {
     "name": "stdout",
     "output_type": "stream",
     "text": [
      "\n",
      "Summary:\n",
      "-learning rate = 0.01710\n",
      "-path 1 has early stopped:\n",
      " 10000 iterations with no improvement in valid loss.\n",
      "-Model saved after iteration 2678.\n",
      "-Train.  Loss=0.0075884\n",
      "-Valid.  Loss=0.0180466\n",
      "'train_loss02_78.csv' saved.\n",
      "'valid_loss02_78.csv' saved.\n",
      "'model05_forward02_78_last.pth' saved.\n",
      "'model05_forward02_78_best.pth' saved.\n",
      "- train minibatches = 1\n",
      "- valid minibatches = 1\n",
      "- test minibatches = 1\n"
     ]
    },
    {
     "data": {
      "application/vnd.jupyter.widget-view+json": {
       "model_id": "d58c0667da3b46188d33fa24fb9a7f47",
       "version_major": 2,
       "version_minor": 0
      },
      "text/plain": [
       "HBox(children=(HTML(value='Epochs loop'), FloatProgress(value=0.0, max=50000.0), HTML(value='')))"
      ]
     },
     "metadata": {},
     "output_type": "display_data"
    },
    {
     "name": "stdout",
     "output_type": "stream",
     "text": [
      "\n",
      "Summary:\n",
      "-learning rate = 0.01710\n",
      "-path 1 has early stopped:\n",
      " 10000 iterations with no improvement in valid loss.\n",
      "-Model saved after iteration 2486.\n",
      "-Train.  Loss=0.0056657\n",
      "-Valid.  Loss=0.0327152\n",
      "'train_loss02_79.csv' saved.\n",
      "'valid_loss02_79.csv' saved.\n",
      "'model05_forward02_79_last.pth' saved.\n",
      "'model05_forward02_79_best.pth' saved.\n",
      "- train minibatches = 1\n",
      "- valid minibatches = 1\n",
      "- test minibatches = 1\n"
     ]
    },
    {
     "data": {
      "application/vnd.jupyter.widget-view+json": {
       "model_id": "8ab97d23dbef4450a065132dc4b551ab",
       "version_major": 2,
       "version_minor": 0
      },
      "text/plain": [
       "HBox(children=(HTML(value='Epochs loop'), FloatProgress(value=0.0, max=50000.0), HTML(value='')))"
      ]
     },
     "metadata": {},
     "output_type": "display_data"
    },
    {
     "name": "stdout",
     "output_type": "stream",
     "text": [
      "\n",
      "Summary:\n",
      "-learning rate = 0.01710\n",
      "-path 1 has early stopped:\n",
      " 10000 iterations with no improvement in valid loss.\n",
      "-Model saved after iteration 6180.\n",
      "-Train.  Loss=0.0040965\n",
      "-Valid.  Loss=0.0168223\n",
      "'train_loss02_80.csv' saved.\n",
      "'valid_loss02_80.csv' saved.\n",
      "'model05_forward02_80_last.pth' saved.\n",
      "'model05_forward02_80_best.pth' saved.\n",
      "- train minibatches = 1\n",
      "- valid minibatches = 1\n",
      "- test minibatches = 1\n"
     ]
    },
    {
     "data": {
      "application/vnd.jupyter.widget-view+json": {
       "model_id": "100363a0abea44a9ad612a7f60b7e1cf",
       "version_major": 2,
       "version_minor": 0
      },
      "text/plain": [
       "HBox(children=(HTML(value='Epochs loop'), FloatProgress(value=0.0, max=50000.0), HTML(value='')))"
      ]
     },
     "metadata": {},
     "output_type": "display_data"
    },
    {
     "name": "stdout",
     "output_type": "stream",
     "text": [
      "\n",
      "Summary:\n",
      "-learning rate = 0.01710\n",
      "-path 1 has early stopped:\n",
      " 10000 iterations with no improvement in valid loss.\n",
      "-Model saved after iteration 481.\n",
      "-Train.  Loss=0.0195007\n",
      "-Valid.  Loss=0.0491629\n",
      "'train_loss02_81.csv' saved.\n",
      "'valid_loss02_81.csv' saved.\n",
      "'model05_forward02_81_last.pth' saved.\n",
      "'model05_forward02_81_best.pth' saved.\n",
      "- train minibatches = 1\n",
      "- valid minibatches = 1\n",
      "- test minibatches = 1\n"
     ]
    },
    {
     "data": {
      "application/vnd.jupyter.widget-view+json": {
       "model_id": "0b62ebc3e4e8489c8694ebdd7bad9262",
       "version_major": 2,
       "version_minor": 0
      },
      "text/plain": [
       "HBox(children=(HTML(value='Epochs loop'), FloatProgress(value=0.0, max=50000.0), HTML(value='')))"
      ]
     },
     "metadata": {},
     "output_type": "display_data"
    },
    {
     "name": "stdout",
     "output_type": "stream",
     "text": [
      "\n",
      "Summary:\n",
      "-learning rate = 0.01710\n",
      "-path 1 has early stopped:\n",
      " 10000 iterations with no improvement in valid loss.\n",
      "-Model saved after iteration 978.\n",
      "-Train.  Loss=0.0082307\n",
      "-Valid.  Loss=0.0400116\n",
      "'train_loss02_82.csv' saved.\n",
      "'valid_loss02_82.csv' saved.\n",
      "'model05_forward02_82_last.pth' saved.\n",
      "'model05_forward02_82_best.pth' saved.\n",
      "- train minibatches = 1\n",
      "- valid minibatches = 1\n",
      "- test minibatches = 1\n"
     ]
    },
    {
     "data": {
      "application/vnd.jupyter.widget-view+json": {
       "model_id": "2add4fd3803f441bb247df95b1e3f994",
       "version_major": 2,
       "version_minor": 0
      },
      "text/plain": [
       "HBox(children=(HTML(value='Epochs loop'), FloatProgress(value=0.0, max=50000.0), HTML(value='')))"
      ]
     },
     "metadata": {},
     "output_type": "display_data"
    },
    {
     "name": "stdout",
     "output_type": "stream",
     "text": [
      "\n",
      "Summary:\n",
      "-learning rate = 0.01710\n",
      "-path 1 has early stopped:\n",
      " 10000 iterations with no improvement in valid loss.\n",
      "-Model saved after iteration 39706.\n",
      "-Train.  Loss=0.0015525\n",
      "-Valid.  Loss=0.0204203\n",
      "'train_loss02_83.csv' saved.\n",
      "'valid_loss02_83.csv' saved.\n",
      "'model05_forward02_83_last.pth' saved.\n",
      "'model05_forward02_83_best.pth' saved.\n",
      "- train minibatches = 1\n",
      "- valid minibatches = 1\n",
      "- test minibatches = 1\n"
     ]
    },
    {
     "data": {
      "application/vnd.jupyter.widget-view+json": {
       "model_id": "bc44850c90de4cc9bb6c1438b28a2237",
       "version_major": 2,
       "version_minor": 0
      },
      "text/plain": [
       "HBox(children=(HTML(value='Epochs loop'), FloatProgress(value=0.0, max=50000.0), HTML(value='')))"
      ]
     },
     "metadata": {},
     "output_type": "display_data"
    },
    {
     "name": "stdout",
     "output_type": "stream",
     "text": [
      "\n",
      "Summary:\n",
      "-learning rate = 0.01710\n",
      "-path 1 has early stopped:\n",
      " 10000 iterations with no improvement in valid loss.\n",
      "-Model saved after iteration 5604.\n",
      "-Train.  Loss=0.0058462\n",
      "-Valid.  Loss=0.0294196\n",
      "'train_loss02_84.csv' saved.\n",
      "'valid_loss02_84.csv' saved.\n",
      "'model05_forward02_84_last.pth' saved.\n",
      "'model05_forward02_84_best.pth' saved.\n",
      "- train minibatches = 1\n",
      "- valid minibatches = 1\n",
      "- test minibatches = 1\n"
     ]
    },
    {
     "data": {
      "application/vnd.jupyter.widget-view+json": {
       "model_id": "ff24e888b02f4f1984cab9c5f5a6b9f9",
       "version_major": 2,
       "version_minor": 0
      },
      "text/plain": [
       "HBox(children=(HTML(value='Epochs loop'), FloatProgress(value=0.0, max=50000.0), HTML(value='')))"
      ]
     },
     "metadata": {},
     "output_type": "display_data"
    },
    {
     "name": "stdout",
     "output_type": "stream",
     "text": [
      "\n",
      "Summary:\n",
      "-learning rate = 0.01710\n",
      "-path 1 has early stopped:\n",
      " 10000 iterations with no improvement in valid loss.\n",
      "-Model saved after iteration 2455.\n",
      "-Train.  Loss=0.0074720\n",
      "-Valid.  Loss=0.0643387\n",
      "'train_loss02_85.csv' saved.\n",
      "'valid_loss02_85.csv' saved.\n",
      "'model05_forward02_85_last.pth' saved.\n",
      "'model05_forward02_85_best.pth' saved.\n",
      "- train minibatches = 1\n",
      "- valid minibatches = 1\n",
      "- test minibatches = 1\n"
     ]
    },
    {
     "data": {
      "application/vnd.jupyter.widget-view+json": {
       "model_id": "fa864ed30e064939a2ef33378862bdaf",
       "version_major": 2,
       "version_minor": 0
      },
      "text/plain": [
       "HBox(children=(HTML(value='Epochs loop'), FloatProgress(value=0.0, max=50000.0), HTML(value='')))"
      ]
     },
     "metadata": {},
     "output_type": "display_data"
    },
    {
     "name": "stdout",
     "output_type": "stream",
     "text": [
      "\n",
      "Summary:\n",
      "-learning rate = 0.01710\n",
      "-path 1 has early stopped:\n",
      " 10000 iterations with no improvement in valid loss.\n",
      "-Model saved after iteration 152.\n",
      "-Train.  Loss=0.0471328\n",
      "-Valid.  Loss=0.0634024\n",
      "'train_loss02_86.csv' saved.\n",
      "'valid_loss02_86.csv' saved.\n",
      "'model05_forward02_86_last.pth' saved.\n",
      "'model05_forward02_86_best.pth' saved.\n",
      "- train minibatches = 1\n",
      "- valid minibatches = 1\n",
      "- test minibatches = 1\n"
     ]
    },
    {
     "data": {
      "application/vnd.jupyter.widget-view+json": {
       "model_id": "89660522074f4182ad86e7c08d8d75d9",
       "version_major": 2,
       "version_minor": 0
      },
      "text/plain": [
       "HBox(children=(HTML(value='Epochs loop'), FloatProgress(value=0.0, max=50000.0), HTML(value='')))"
      ]
     },
     "metadata": {},
     "output_type": "display_data"
    },
    {
     "name": "stdout",
     "output_type": "stream",
     "text": [
      "\n",
      "Summary:\n",
      "-learning rate = 0.01710\n",
      "-path 1 has early stopped:\n",
      " 10000 iterations with no improvement in valid loss.\n",
      "-Model saved after iteration 27124.\n",
      "-Train.  Loss=0.0029295\n",
      "-Valid.  Loss=0.0166411\n",
      "'train_loss02_87.csv' saved.\n",
      "'valid_loss02_87.csv' saved.\n",
      "'model05_forward02_87_last.pth' saved.\n",
      "'model05_forward02_87_best.pth' saved.\n",
      "- train minibatches = 1\n",
      "- valid minibatches = 1\n",
      "- test minibatches = 1\n"
     ]
    },
    {
     "data": {
      "application/vnd.jupyter.widget-view+json": {
       "model_id": "5c8fd189b7c941f5ab3036ceb8b0341c",
       "version_major": 2,
       "version_minor": 0
      },
      "text/plain": [
       "HBox(children=(HTML(value='Epochs loop'), FloatProgress(value=0.0, max=50000.0), HTML(value='')))"
      ]
     },
     "metadata": {},
     "output_type": "display_data"
    },
    {
     "name": "stdout",
     "output_type": "stream",
     "text": [
      "\n",
      "Summary:\n",
      "-learning rate = 0.01710\n",
      "-Model saved after iteration 41382.\n",
      "-Train.  Loss=0.0026617\n",
      "-Valid.  Loss=0.0310084\n",
      "'train_loss02_88.csv' saved.\n",
      "'valid_loss02_88.csv' saved.\n",
      "'model05_forward02_88_last.pth' saved.\n",
      "'model05_forward02_88_best.pth' saved.\n",
      "- train minibatches = 1\n",
      "- valid minibatches = 1\n",
      "- test minibatches = 1\n"
     ]
    },
    {
     "data": {
      "application/vnd.jupyter.widget-view+json": {
       "model_id": "e4da8ee7c2564f778e7190200969fd6f",
       "version_major": 2,
       "version_minor": 0
      },
      "text/plain": [
       "HBox(children=(HTML(value='Epochs loop'), FloatProgress(value=0.0, max=50000.0), HTML(value='')))"
      ]
     },
     "metadata": {},
     "output_type": "display_data"
    },
    {
     "name": "stdout",
     "output_type": "stream",
     "text": [
      "\n",
      "Summary:\n",
      "-learning rate = 0.01710\n",
      "-path 1 has early stopped:\n",
      " 10000 iterations with no improvement in valid loss.\n",
      "-Model saved after iteration 26393.\n",
      "-Train.  Loss=0.0024332\n",
      "-Valid.  Loss=0.0326916\n",
      "'train_loss02_89.csv' saved.\n",
      "'valid_loss02_89.csv' saved.\n",
      "'model05_forward02_89_last.pth' saved.\n",
      "'model05_forward02_89_best.pth' saved.\n",
      "- train minibatches = 1\n",
      "- valid minibatches = 1\n",
      "- test minibatches = 1\n"
     ]
    },
    {
     "data": {
      "application/vnd.jupyter.widget-view+json": {
       "model_id": "150200b499e44ca1931a852ab67ce785",
       "version_major": 2,
       "version_minor": 0
      },
      "text/plain": [
       "HBox(children=(HTML(value='Epochs loop'), FloatProgress(value=0.0, max=50000.0), HTML(value='')))"
      ]
     },
     "metadata": {},
     "output_type": "display_data"
    },
    {
     "name": "stdout",
     "output_type": "stream",
     "text": [
      "\n",
      "Summary:\n",
      "-learning rate = 0.01710\n",
      "-path 1 has early stopped:\n",
      " 10000 iterations with no improvement in valid loss.\n",
      "-Model saved after iteration 70.\n",
      "-Train.  Loss=0.0713440\n",
      "-Valid.  Loss=0.1018200\n",
      "'train_loss02_90.csv' saved.\n",
      "'valid_loss02_90.csv' saved.\n",
      "'model05_forward02_90_last.pth' saved.\n",
      "'model05_forward02_90_best.pth' saved.\n",
      "- train minibatches = 1\n",
      "- valid minibatches = 1\n",
      "- test minibatches = 1\n"
     ]
    },
    {
     "data": {
      "application/vnd.jupyter.widget-view+json": {
       "model_id": "b0c772fe26c6416c87a62b4113e740cf",
       "version_major": 2,
       "version_minor": 0
      },
      "text/plain": [
       "HBox(children=(HTML(value='Epochs loop'), FloatProgress(value=0.0, max=50000.0), HTML(value='')))"
      ]
     },
     "metadata": {},
     "output_type": "display_data"
    },
    {
     "name": "stdout",
     "output_type": "stream",
     "text": [
      "\n",
      "Summary:\n",
      "-learning rate = 0.01710\n",
      "-path 1 has early stopped:\n",
      " 10000 iterations with no improvement in valid loss.\n",
      "-Model saved after iteration 1894.\n",
      "-Train.  Loss=0.0070666\n",
      "-Valid.  Loss=0.0301047\n",
      "'train_loss02_91.csv' saved.\n",
      "'valid_loss02_91.csv' saved.\n",
      "'model05_forward02_91_last.pth' saved.\n",
      "'model05_forward02_91_best.pth' saved.\n",
      "- train minibatches = 1\n",
      "- valid minibatches = 1\n",
      "- test minibatches = 1\n"
     ]
    },
    {
     "data": {
      "application/vnd.jupyter.widget-view+json": {
       "model_id": "940186e7ade24678954355f993a0ad9d",
       "version_major": 2,
       "version_minor": 0
      },
      "text/plain": [
       "HBox(children=(HTML(value='Epochs loop'), FloatProgress(value=0.0, max=50000.0), HTML(value='')))"
      ]
     },
     "metadata": {},
     "output_type": "display_data"
    },
    {
     "name": "stdout",
     "output_type": "stream",
     "text": [
      "\n",
      "Summary:\n",
      "-learning rate = 0.01710\n",
      "-path 1 has early stopped:\n",
      " 10000 iterations with no improvement in valid loss.\n",
      "-Model saved after iteration 31785.\n",
      "-Train.  Loss=0.0031055\n",
      "-Valid.  Loss=0.0188605\n",
      "'train_loss02_92.csv' saved.\n",
      "'valid_loss02_92.csv' saved.\n",
      "'model05_forward02_92_last.pth' saved.\n",
      "'model05_forward02_92_best.pth' saved.\n",
      "- train minibatches = 1\n",
      "- valid minibatches = 1\n",
      "- test minibatches = 1\n"
     ]
    },
    {
     "data": {
      "application/vnd.jupyter.widget-view+json": {
       "model_id": "d9efe74b27d04a7e93b9bad539887450",
       "version_major": 2,
       "version_minor": 0
      },
      "text/plain": [
       "HBox(children=(HTML(value='Epochs loop'), FloatProgress(value=0.0, max=50000.0), HTML(value='')))"
      ]
     },
     "metadata": {},
     "output_type": "display_data"
    },
    {
     "name": "stdout",
     "output_type": "stream",
     "text": [
      "\n",
      "Summary:\n",
      "-learning rate = 0.01710\n",
      "-path 1 has early stopped:\n",
      " 10000 iterations with no improvement in valid loss.\n",
      "-Model saved after iteration 2769.\n",
      "-Train.  Loss=0.0076320\n",
      "-Valid.  Loss=0.0180093\n",
      "'train_loss02_93.csv' saved.\n",
      "'valid_loss02_93.csv' saved.\n",
      "'model05_forward02_93_last.pth' saved.\n",
      "'model05_forward02_93_best.pth' saved.\n",
      "- train minibatches = 1\n",
      "- valid minibatches = 1\n",
      "- test minibatches = 1\n"
     ]
    },
    {
     "data": {
      "application/vnd.jupyter.widget-view+json": {
       "model_id": "62e8b2ccb47c4df9ac75c627ee855f55",
       "version_major": 2,
       "version_minor": 0
      },
      "text/plain": [
       "HBox(children=(HTML(value='Epochs loop'), FloatProgress(value=0.0, max=50000.0), HTML(value='')))"
      ]
     },
     "metadata": {},
     "output_type": "display_data"
    },
    {
     "name": "stdout",
     "output_type": "stream",
     "text": [
      "\n",
      "Summary:\n",
      "-learning rate = 0.01710\n",
      "-path 1 has early stopped:\n",
      " 10000 iterations with no improvement in valid loss.\n",
      "-Model saved after iteration 24823.\n",
      "-Train.  Loss=0.0019827\n",
      "-Valid.  Loss=0.0747182\n",
      "'train_loss02_94.csv' saved.\n",
      "'valid_loss02_94.csv' saved.\n",
      "'model05_forward02_94_last.pth' saved.\n",
      "'model05_forward02_94_best.pth' saved.\n",
      "- train minibatches = 1\n",
      "- valid minibatches = 1\n",
      "- test minibatches = 1\n"
     ]
    },
    {
     "data": {
      "application/vnd.jupyter.widget-view+json": {
       "model_id": "517d60312aeb4151977458edcbf70a4e",
       "version_major": 2,
       "version_minor": 0
      },
      "text/plain": [
       "HBox(children=(HTML(value='Epochs loop'), FloatProgress(value=0.0, max=50000.0), HTML(value='')))"
      ]
     },
     "metadata": {},
     "output_type": "display_data"
    },
    {
     "name": "stdout",
     "output_type": "stream",
     "text": [
      "\n",
      "Summary:\n",
      "-learning rate = 0.01710\n",
      "-path 1 has early stopped:\n",
      " 10000 iterations with no improvement in valid loss.\n",
      "-Model saved after iteration 39570.\n",
      "-Train.  Loss=0.0027423\n",
      "-Valid.  Loss=0.0153281\n",
      "'train_loss02_95.csv' saved.\n",
      "'valid_loss02_95.csv' saved.\n",
      "'model05_forward02_95_last.pth' saved.\n",
      "'model05_forward02_95_best.pth' saved.\n",
      "- train minibatches = 1\n",
      "- valid minibatches = 1\n",
      "- test minibatches = 1\n"
     ]
    },
    {
     "data": {
      "application/vnd.jupyter.widget-view+json": {
       "model_id": "e0c3e8e3a520464385443a4672aa6e94",
       "version_major": 2,
       "version_minor": 0
      },
      "text/plain": [
       "HBox(children=(HTML(value='Epochs loop'), FloatProgress(value=0.0, max=50000.0), HTML(value='')))"
      ]
     },
     "metadata": {},
     "output_type": "display_data"
    },
    {
     "name": "stdout",
     "output_type": "stream",
     "text": [
      "\n",
      "Summary:\n",
      "-learning rate = 0.01710\n",
      "-path 1 has early stopped:\n",
      " 10000 iterations with no improvement in valid loss.\n",
      "-Model saved after iteration 5074.\n",
      "-Train.  Loss=0.0048748\n",
      "-Valid.  Loss=0.0425640\n",
      "'train_loss02_96.csv' saved.\n",
      "'valid_loss02_96.csv' saved.\n",
      "'model05_forward02_96_last.pth' saved.\n",
      "'model05_forward02_96_best.pth' saved.\n",
      "- train minibatches = 1\n",
      "- valid minibatches = 1\n",
      "- test minibatches = 1\n"
     ]
    },
    {
     "data": {
      "application/vnd.jupyter.widget-view+json": {
       "model_id": "3a315ff3c0864acd9cc77a24ed83da0d",
       "version_major": 2,
       "version_minor": 0
      },
      "text/plain": [
       "HBox(children=(HTML(value='Epochs loop'), FloatProgress(value=0.0, max=50000.0), HTML(value='')))"
      ]
     },
     "metadata": {},
     "output_type": "display_data"
    },
    {
     "name": "stdout",
     "output_type": "stream",
     "text": [
      "\n",
      "Summary:\n",
      "-learning rate = 0.01710\n",
      "-path 1 has early stopped:\n",
      " 10000 iterations with no improvement in valid loss.\n",
      "-Model saved after iteration 5757.\n",
      "-Train.  Loss=0.0060389\n",
      "-Valid.  Loss=0.0229076\n",
      "'train_loss02_97.csv' saved.\n",
      "'valid_loss02_97.csv' saved.\n",
      "'model05_forward02_97_last.pth' saved.\n",
      "'model05_forward02_97_best.pth' saved.\n",
      "- train minibatches = 1\n",
      "- valid minibatches = 1\n",
      "- test minibatches = 1\n"
     ]
    },
    {
     "data": {
      "application/vnd.jupyter.widget-view+json": {
       "model_id": "7a7d5fc3f4e4462eb7b6c589aee1a9ff",
       "version_major": 2,
       "version_minor": 0
      },
      "text/plain": [
       "HBox(children=(HTML(value='Epochs loop'), FloatProgress(value=0.0, max=50000.0), HTML(value='')))"
      ]
     },
     "metadata": {},
     "output_type": "display_data"
    },
    {
     "name": "stdout",
     "output_type": "stream",
     "text": [
      "\n",
      "Summary:\n",
      "-learning rate = 0.01710\n",
      "-path 1 has early stopped:\n",
      " 10000 iterations with no improvement in valid loss.\n",
      "-Model saved after iteration 158.\n",
      "-Train.  Loss=0.0339897\n",
      "-Valid.  Loss=0.0431540\n",
      "'train_loss02_98.csv' saved.\n",
      "'valid_loss02_98.csv' saved.\n",
      "'model05_forward02_98_last.pth' saved.\n",
      "'model05_forward02_98_best.pth' saved.\n",
      "- train minibatches = 1\n",
      "- valid minibatches = 1\n",
      "- test minibatches = 1\n"
     ]
    },
    {
     "data": {
      "application/vnd.jupyter.widget-view+json": {
       "model_id": "83e16b3344d64899bdbbfc036761cca0",
       "version_major": 2,
       "version_minor": 0
      },
      "text/plain": [
       "HBox(children=(HTML(value='Epochs loop'), FloatProgress(value=0.0, max=50000.0), HTML(value='')))"
      ]
     },
     "metadata": {},
     "output_type": "display_data"
    },
    {
     "name": "stdout",
     "output_type": "stream",
     "text": [
      "\n",
      "Summary:\n",
      "-learning rate = 0.01710\n",
      "-path 1 has early stopped:\n",
      " 10000 iterations with no improvement in valid loss.\n",
      "-Model saved after iteration 23013.\n",
      "-Train.  Loss=0.0022231\n",
      "-Valid.  Loss=0.0190123\n",
      "'train_loss02_99.csv' saved.\n",
      "'valid_loss02_99.csv' saved.\n",
      "'model05_forward02_99_last.pth' saved.\n",
      "'model05_forward02_99_best.pth' saved.\n",
      "- train minibatches = 1\n",
      "- valid minibatches = 1\n",
      "- test minibatches = 1\n"
     ]
    },
    {
     "data": {
      "application/vnd.jupyter.widget-view+json": {
       "model_id": "96ed5ab75159492b82af7be27a7113c3",
       "version_major": 2,
       "version_minor": 0
      },
      "text/plain": [
       "HBox(children=(HTML(value='Epochs loop'), FloatProgress(value=0.0, max=50000.0), HTML(value='')))"
      ]
     },
     "metadata": {},
     "output_type": "display_data"
    },
    {
     "name": "stdout",
     "output_type": "stream",
     "text": [
      "\n",
      "Summary:\n",
      "-learning rate = 0.01710\n",
      "-path 1 has early stopped:\n",
      " 10000 iterations with no improvement in valid loss.\n",
      "-Model saved after iteration 16771.\n",
      "-Train.  Loss=0.0025824\n",
      "-Valid.  Loss=0.0217753\n",
      "'train_loss02_100.csv' saved.\n",
      "'valid_loss02_100.csv' saved.\n",
      "'model05_forward02_100_last.pth' saved.\n",
      "'model05_forward02_100_best.pth' saved.\n",
      "\n"
     ]
    }
   ],
   "source": [
    "# Find Accuracy, Loss +/- STD (Fordward)\n",
    "target_idx = 1\n",
    "data_output = 'data_unconstrained_05ResidentialBuilding'\n",
    "df_results = pd.DataFrame(columns=['train_mse', 'valid_mse', 'test_mse', \\\n",
    "                                   'train_r2', 'valid_r2', 'test_r2'])\n",
    "# df_results = pd.read_csv(os.path.join(data_output, 'accuracy_forward01.csv'), index_col=0)\n",
    "\n",
    "partitions = 100\n",
    "iterator = tqdm.notebook.tqdm(range(1, partitions + 1), desc='Partitions loop')\n",
    "for n in iterator:\n",
    "    X = pd.read_csv('dataset_05ResidentialBuilding/X.csv')\n",
    "    y = pd.read_csv('dataset_05ResidentialBuilding/y.csv')\n",
    "    split_data(X, y, seed1=seed1[n], seed2=seed2[n])\n",
    "\n",
    "# .normalize data sets\n",
    "    df_to_tensor()\n",
    "    normalize_data()\n",
    "    make_DataLoaders(target_idx=target_idx)\n",
    "\n",
    "# .train model (forward)\n",
    "    lr = best_lr_fward\n",
    "    layer_sizes = [5, 1]\n",
    "    epochs = 50000\n",
    "    data_out = \"data_unconstrained_05ResidentialBuilding/partitions\"\n",
    "    lock_flag = False\n",
    "    features = xtrain.size(1)\n",
    "    fname = 'model05_forward02_'+str(n)\n",
    "    train_loss, valid_loss = train_model(\n",
    "                             lr, \n",
    "                             features, \n",
    "                             layer_sizes,\n",
    "                             lock_flag = lock_flag,\n",
    "                             epochs = epochs,\n",
    "                             early_stop = 10000, \n",
    "                             fname = fname)\n",
    "# .save relevant data\n",
    "    f3 = [fname+'_last.pth', fname+'_best.pth']\n",
    "    save_output(data_out, \n",
    "                'train_loss02_'+str(n)+'.csv', \n",
    "                'valid_loss02_'+str(n)+'.csv', f3)\n",
    "\n",
    "# .find MSE, R2, etc...\n",
    "    mm = MyNet(features, layer_sizes)\n",
    "    mm.load_state_dict(torch.load(os.path.join(data_out, fname+'_best.pth')))\n",
    "    mm = mm.to(device)\n",
    "    mm.eval()\n",
    "    \n",
    "    ypred = mm(xtrain)\n",
    "    mse = mean_squared_error(ytrain.detach().numpy()[:,target_idx], ypred.detach().numpy().ravel(), squared=True)\n",
    "    r2 = r2_score(ytrain.detach().numpy()[:,target_idx], ypred.detach().numpy().ravel())\n",
    "    df_results.loc[n, 'train_mse'] = mse\n",
    "    df_results.loc[n, 'train_r2']  = r2\n",
    "\n",
    "    ypred = mm(xvalid)\n",
    "    mse = mean_squared_error(yvalid.detach().numpy()[:,target_idx], ypred.detach().numpy().ravel(), squared=True)\n",
    "    r2 = r2_score(yvalid.detach().numpy()[:,target_idx], ypred.detach().numpy().ravel())\n",
    "    df_results.loc[n, 'valid_mse'] = mse\n",
    "    df_results.loc[n, 'valid_r2']  = r2\n",
    "\n",
    "    ypred = mm(xtest)\n",
    "    mse = mean_squared_error(ytest.detach().numpy()[:,target_idx], ypred.detach().numpy().ravel(), squared=True)\n",
    "    r2 = r2_score(ytest.detach().numpy()[:,target_idx], ypred.detach().numpy().ravel())\n",
    "    df_results.loc[n, 'test_mse'] = mse\n",
    "    df_results.loc[n, 'test_r2']  = r2\n",
    "\n",
    "    df_results.to_csv(os.path.join(data_output, 'accuracy05_forward02.csv'), index=True)"
   ]
  },
  {
   "cell_type": "code",
   "execution_count": 499,
   "metadata": {
    "ExecuteTime": {
     "end_time": "2021-02-24T19:04:18.951368Z",
     "start_time": "2021-02-24T19:04:18.938640Z"
    },
    "code_folding": [
     0
    ]
   },
   "outputs": [
    {
     "name": "stdout",
     "output_type": "stream",
     "text": [
      "Train mse = 0.00799 +/- 0.01051\n",
      "Valid mse = 0.03128 +/- 0.03354\n",
      "Test mse = 0.03670 +/- 0.03014\n",
      "\n",
      "Train r2 = 0.99201 +/- 0.01051\n",
      "Valid r2 = 0.97030 +/- 0.02495\n",
      "Test r2 = 0.96438 +/- 0.02479\n"
     ]
    }
   ],
   "source": [
    "# Display results\n",
    "data_out = 'data_unconstrained_05ResidentialBuilding'\n",
    "accuracy = pd.read_csv(os.path.join(data_out, 'accuracy05_forward02.csv'))\n",
    "print(\"Train mse = {:.5f} +/- {:.5f}\".format(accuracy['train_mse'].mean(), \n",
    "                                             accuracy['train_mse'].std()))\n",
    "print(\"Valid mse = {:.5f} +/- {:.5f}\".format(accuracy['valid_mse'].mean(), \n",
    "                                             accuracy['valid_mse'].std()))\n",
    "print(\"Test mse = {:.5f} +/- {:.5f}\".format(accuracy['test_mse'].mean(), \n",
    "                                            accuracy['test_mse'].std()))\n",
    "\n",
    "print(\"\")\n",
    "print(\"Train r2 = {:.5f} +/- {:.5f}\".format(accuracy['train_r2'].mean(), \n",
    "                                            accuracy['train_r2'].std()))\n",
    "print(\"Valid r2 = {:.5f} +/- {:.5f}\".format(accuracy['valid_r2'].mean(), \n",
    "                                            accuracy['valid_r2'].std()))\n",
    "print(\"Test r2 = {:.5f} +/- {:.5f}\".format(accuracy['test_r2'].mean(), \n",
    "                                           accuracy['test_r2'].std()))"
   ]
  },
  {
   "cell_type": "code",
   "execution_count": 501,
   "metadata": {
    "ExecuteTime": {
     "end_time": "2021-02-25T00:30:24.370117Z",
     "start_time": "2021-02-24T19:09:16.187470Z"
    },
    "code_folding": [
     0
    ],
    "scrolled": true
   },
   "outputs": [
    {
     "data": {
      "application/vnd.jupyter.widget-view+json": {
       "model_id": "175c8f98949d4230949c74924933d9b1",
       "version_major": 2,
       "version_minor": 0
      },
      "text/plain": [
       "HBox(children=(HTML(value='Partitions loop'), FloatProgress(value=0.0), HTML(value='')))"
      ]
     },
     "metadata": {},
     "output_type": "display_data"
    },
    {
     "name": "stdout",
     "output_type": "stream",
     "text": [
      "- train minibatches = 1\n",
      "- valid minibatches = 1\n",
      "- test minibatches = 1\n"
     ]
    },
    {
     "data": {
      "application/vnd.jupyter.widget-view+json": {
       "model_id": "5b08a5432c2d495b8afa12e91de14f2f",
       "version_major": 2,
       "version_minor": 0
      },
      "text/plain": [
       "HBox(children=(HTML(value='Epochs loop'), FloatProgress(value=0.0, max=30000.0), HTML(value='')))"
      ]
     },
     "metadata": {},
     "output_type": "display_data"
    },
    {
     "name": "stdout",
     "output_type": "stream",
     "text": [
      "\n",
      "Summary:\n",
      "-learning rate = 0.00527\n",
      "-Model saved after iteration 29998.\n",
      "-Train.  Loss=0.0041718\n",
      "-Valid.  Loss=0.0246561\n",
      "'train_loss02_1.csv' saved.\n",
      "'valid_loss02_1.csv' saved.\n",
      "'model05_forward02_1_last.pth' saved.\n",
      "'model05_forward02_1_best.pth' saved.\n",
      "- train minibatches = 1\n",
      "- valid minibatches = 1\n",
      "- test minibatches = 1\n"
     ]
    },
    {
     "data": {
      "application/vnd.jupyter.widget-view+json": {
       "model_id": "09bd1e587f704832a9a6a487fbab36a7",
       "version_major": 2,
       "version_minor": 0
      },
      "text/plain": [
       "HBox(children=(HTML(value='Epochs loop'), FloatProgress(value=0.0, max=30000.0), HTML(value='')))"
      ]
     },
     "metadata": {},
     "output_type": "display_data"
    },
    {
     "name": "stdout",
     "output_type": "stream",
     "text": [
      "\n",
      "Summary:\n",
      "-learning rate = 0.00527\n",
      "-Model saved after iteration 1420.\n",
      "-Train.  Loss=0.0223500\n",
      "-Valid.  Loss=0.0433167\n",
      "'train_loss02_2.csv' saved.\n",
      "'valid_loss02_2.csv' saved.\n",
      "'model05_forward02_2_last.pth' saved.\n",
      "'model05_forward02_2_best.pth' saved.\n",
      "- train minibatches = 1\n",
      "- valid minibatches = 1\n",
      "- test minibatches = 1\n"
     ]
    },
    {
     "data": {
      "application/vnd.jupyter.widget-view+json": {
       "model_id": "cc1e3653dfdd480b9abf83957e3be35d",
       "version_major": 2,
       "version_minor": 0
      },
      "text/plain": [
       "HBox(children=(HTML(value='Epochs loop'), FloatProgress(value=0.0, max=30000.0), HTML(value='')))"
      ]
     },
     "metadata": {},
     "output_type": "display_data"
    },
    {
     "name": "stdout",
     "output_type": "stream",
     "text": [
      "\n",
      "Summary:\n",
      "-learning rate = 0.00527\n",
      "-Model saved after iteration 30000.\n",
      "-Train.  Loss=0.0036597\n",
      "-Valid.  Loss=0.0237977\n",
      "'train_loss02_3.csv' saved.\n",
      "'valid_loss02_3.csv' saved.\n",
      "'model05_forward02_3_last.pth' saved.\n",
      "'model05_forward02_3_best.pth' saved.\n",
      "- train minibatches = 1\n",
      "- valid minibatches = 1\n",
      "- test minibatches = 1\n"
     ]
    },
    {
     "data": {
      "application/vnd.jupyter.widget-view+json": {
       "model_id": "0a256c9be105411da6c7a39e28e3efe9",
       "version_major": 2,
       "version_minor": 0
      },
      "text/plain": [
       "HBox(children=(HTML(value='Epochs loop'), FloatProgress(value=0.0, max=30000.0), HTML(value='')))"
      ]
     },
     "metadata": {},
     "output_type": "display_data"
    },
    {
     "name": "stdout",
     "output_type": "stream",
     "text": [
      "\n",
      "Summary:\n",
      "-learning rate = 0.00527\n",
      "-Model saved after iteration 13228.\n",
      "-Train.  Loss=0.0040475\n",
      "-Valid.  Loss=0.0124379\n",
      "'train_loss02_4.csv' saved.\n",
      "'valid_loss02_4.csv' saved.\n",
      "'model05_forward02_4_last.pth' saved.\n",
      "'model05_forward02_4_best.pth' saved.\n",
      "- train minibatches = 1\n",
      "- valid minibatches = 1\n",
      "- test minibatches = 1\n"
     ]
    },
    {
     "data": {
      "application/vnd.jupyter.widget-view+json": {
       "model_id": "8b0d5f100632440991fe7bb2f4944b76",
       "version_major": 2,
       "version_minor": 0
      },
      "text/plain": [
       "HBox(children=(HTML(value='Epochs loop'), FloatProgress(value=0.0, max=30000.0), HTML(value='')))"
      ]
     },
     "metadata": {},
     "output_type": "display_data"
    },
    {
     "name": "stdout",
     "output_type": "stream",
     "text": [
      "\n",
      "Summary:\n",
      "-learning rate = 0.00527\n",
      "-Model saved after iteration 29999.\n",
      "-Train.  Loss=0.0034463\n",
      "-Valid.  Loss=0.0720354\n",
      "'train_loss02_5.csv' saved.\n",
      "'valid_loss02_5.csv' saved.\n",
      "'model05_forward02_5_last.pth' saved.\n",
      "'model05_forward02_5_best.pth' saved.\n",
      "- train minibatches = 1\n",
      "- valid minibatches = 1\n",
      "- test minibatches = 1\n"
     ]
    },
    {
     "data": {
      "application/vnd.jupyter.widget-view+json": {
       "model_id": "502687fc6cc84d05890fe465852b99b1",
       "version_major": 2,
       "version_minor": 0
      },
      "text/plain": [
       "HBox(children=(HTML(value='Epochs loop'), FloatProgress(value=0.0, max=30000.0), HTML(value='')))"
      ]
     },
     "metadata": {},
     "output_type": "display_data"
    },
    {
     "name": "stdout",
     "output_type": "stream",
     "text": [
      "\n",
      "Summary:\n",
      "-learning rate = 0.00527\n",
      "-Model saved after iteration 1794.\n",
      "-Train.  Loss=0.0193863\n",
      "-Valid.  Loss=0.0712379\n",
      "'train_loss02_6.csv' saved.\n",
      "'valid_loss02_6.csv' saved.\n",
      "'model05_forward02_6_last.pth' saved.\n",
      "'model05_forward02_6_best.pth' saved.\n",
      "- train minibatches = 1\n",
      "- valid minibatches = 1\n",
      "- test minibatches = 1\n"
     ]
    },
    {
     "data": {
      "application/vnd.jupyter.widget-view+json": {
       "model_id": "7f96f973460c4d8e9353e2e5f8b09124",
       "version_major": 2,
       "version_minor": 0
      },
      "text/plain": [
       "HBox(children=(HTML(value='Epochs loop'), FloatProgress(value=0.0, max=30000.0), HTML(value='')))"
      ]
     },
     "metadata": {},
     "output_type": "display_data"
    },
    {
     "name": "stdout",
     "output_type": "stream",
     "text": [
      "\n",
      "Summary:\n",
      "-learning rate = 0.00527\n",
      "-Model saved after iteration 14474.\n",
      "-Train.  Loss=0.0065179\n",
      "-Valid.  Loss=0.0217694\n",
      "'train_loss02_7.csv' saved.\n",
      "'valid_loss02_7.csv' saved.\n",
      "'model05_forward02_7_last.pth' saved.\n",
      "'model05_forward02_7_best.pth' saved.\n",
      "- train minibatches = 1\n",
      "- valid minibatches = 1\n",
      "- test minibatches = 1\n"
     ]
    },
    {
     "data": {
      "application/vnd.jupyter.widget-view+json": {
       "model_id": "09293a7d981e4481ad11623c1ab6a552",
       "version_major": 2,
       "version_minor": 0
      },
      "text/plain": [
       "HBox(children=(HTML(value='Epochs loop'), FloatProgress(value=0.0, max=30000.0), HTML(value='')))"
      ]
     },
     "metadata": {},
     "output_type": "display_data"
    },
    {
     "name": "stdout",
     "output_type": "stream",
     "text": [
      "\n",
      "Summary:\n",
      "-learning rate = 0.00527\n",
      "-Model saved after iteration 866.\n",
      "-Train.  Loss=0.0221129\n",
      "-Valid.  Loss=0.0555488\n",
      "'train_loss02_8.csv' saved.\n",
      "'valid_loss02_8.csv' saved.\n",
      "'model05_forward02_8_last.pth' saved.\n",
      "'model05_forward02_8_best.pth' saved.\n",
      "- train minibatches = 1\n",
      "- valid minibatches = 1\n",
      "- test minibatches = 1\n"
     ]
    },
    {
     "data": {
      "application/vnd.jupyter.widget-view+json": {
       "model_id": "a4373840e5f64f75a890352de7e71a0a",
       "version_major": 2,
       "version_minor": 0
      },
      "text/plain": [
       "HBox(children=(HTML(value='Epochs loop'), FloatProgress(value=0.0, max=30000.0), HTML(value='')))"
      ]
     },
     "metadata": {},
     "output_type": "display_data"
    },
    {
     "name": "stdout",
     "output_type": "stream",
     "text": [
      "\n",
      "Summary:\n",
      "-learning rate = 0.00527\n",
      "-Model saved after iteration 29999.\n",
      "-Train.  Loss=0.0036587\n",
      "-Valid.  Loss=0.0152928\n",
      "'train_loss02_9.csv' saved.\n",
      "'valid_loss02_9.csv' saved.\n",
      "'model05_forward02_9_last.pth' saved.\n",
      "'model05_forward02_9_best.pth' saved.\n",
      "- train minibatches = 1\n",
      "- valid minibatches = 1\n",
      "- test minibatches = 1\n"
     ]
    },
    {
     "data": {
      "application/vnd.jupyter.widget-view+json": {
       "model_id": "6b623db2e7ab40e79d1b0e3c245ac2e1",
       "version_major": 2,
       "version_minor": 0
      },
      "text/plain": [
       "HBox(children=(HTML(value='Epochs loop'), FloatProgress(value=0.0, max=30000.0), HTML(value='')))"
      ]
     },
     "metadata": {},
     "output_type": "display_data"
    },
    {
     "name": "stdout",
     "output_type": "stream",
     "text": [
      "\n",
      "Summary:\n",
      "-learning rate = 0.00527\n",
      "-Model saved after iteration 4342.\n",
      "-Train.  Loss=0.0496842\n",
      "-Valid.  Loss=0.0196033\n",
      "'train_loss02_10.csv' saved.\n",
      "'valid_loss02_10.csv' saved.\n",
      "'model05_forward02_10_last.pth' saved.\n",
      "'model05_forward02_10_best.pth' saved.\n",
      "- train minibatches = 1\n",
      "- valid minibatches = 1\n",
      "- test minibatches = 1\n"
     ]
    },
    {
     "data": {
      "application/vnd.jupyter.widget-view+json": {
       "model_id": "d0988a15c38341aa9a8362640511be76",
       "version_major": 2,
       "version_minor": 0
      },
      "text/plain": [
       "HBox(children=(HTML(value='Epochs loop'), FloatProgress(value=0.0, max=30000.0), HTML(value='')))"
      ]
     },
     "metadata": {},
     "output_type": "display_data"
    },
    {
     "name": "stdout",
     "output_type": "stream",
     "text": [
      "\n",
      "Summary:\n",
      "-learning rate = 0.00527\n",
      "-Model saved after iteration 13223.\n",
      "-Train.  Loss=0.0049537\n",
      "-Valid.  Loss=0.0275531\n",
      "'train_loss02_11.csv' saved.\n",
      "'valid_loss02_11.csv' saved.\n",
      "'model05_forward02_11_last.pth' saved.\n",
      "'model05_forward02_11_best.pth' saved.\n",
      "- train minibatches = 1\n",
      "- valid minibatches = 1\n",
      "- test minibatches = 1\n"
     ]
    },
    {
     "data": {
      "application/vnd.jupyter.widget-view+json": {
       "model_id": "512900211cbf4930b43436e5246e97b1",
       "version_major": 2,
       "version_minor": 0
      },
      "text/plain": [
       "HBox(children=(HTML(value='Epochs loop'), FloatProgress(value=0.0, max=30000.0), HTML(value='')))"
      ]
     },
     "metadata": {},
     "output_type": "display_data"
    },
    {
     "name": "stdout",
     "output_type": "stream",
     "text": [
      "\n",
      "Summary:\n",
      "-learning rate = 0.00527\n",
      "-Model saved after iteration 24635.\n",
      "-Train.  Loss=0.0068445\n",
      "-Valid.  Loss=0.0145469\n",
      "'train_loss02_12.csv' saved.\n",
      "'valid_loss02_12.csv' saved.\n",
      "'model05_forward02_12_last.pth' saved.\n",
      "'model05_forward02_12_best.pth' saved.\n",
      "- train minibatches = 1\n",
      "- valid minibatches = 1\n",
      "- test minibatches = 1\n"
     ]
    },
    {
     "data": {
      "application/vnd.jupyter.widget-view+json": {
       "model_id": "f61b552b94b04e60b65a92ca435025df",
       "version_major": 2,
       "version_minor": 0
      },
      "text/plain": [
       "HBox(children=(HTML(value='Epochs loop'), FloatProgress(value=0.0, max=30000.0), HTML(value='')))"
      ]
     },
     "metadata": {},
     "output_type": "display_data"
    },
    {
     "name": "stdout",
     "output_type": "stream",
     "text": [
      "\n",
      "Summary:\n",
      "-learning rate = 0.00527\n",
      "-Model saved after iteration 9593.\n",
      "-Train.  Loss=0.0071902\n",
      "-Valid.  Loss=0.0132549\n",
      "'train_loss02_13.csv' saved.\n",
      "'valid_loss02_13.csv' saved.\n",
      "'model05_forward02_13_last.pth' saved.\n",
      "'model05_forward02_13_best.pth' saved.\n",
      "- train minibatches = 1\n",
      "- valid minibatches = 1\n",
      "- test minibatches = 1\n"
     ]
    },
    {
     "data": {
      "application/vnd.jupyter.widget-view+json": {
       "model_id": "9b8ce240c5fe43fca8d5bf226ff078cf",
       "version_major": 2,
       "version_minor": 0
      },
      "text/plain": [
       "HBox(children=(HTML(value='Epochs loop'), FloatProgress(value=0.0, max=30000.0), HTML(value='')))"
      ]
     },
     "metadata": {},
     "output_type": "display_data"
    },
    {
     "name": "stdout",
     "output_type": "stream",
     "text": [
      "\n",
      "Summary:\n",
      "-learning rate = 0.00527\n",
      "-Model saved after iteration 11016.\n",
      "-Train.  Loss=0.0058509\n",
      "-Valid.  Loss=0.0188634\n",
      "'train_loss02_14.csv' saved.\n",
      "'valid_loss02_14.csv' saved.\n",
      "'model05_forward02_14_last.pth' saved.\n",
      "'model05_forward02_14_best.pth' saved.\n",
      "- train minibatches = 1\n",
      "- valid minibatches = 1\n",
      "- test minibatches = 1\n"
     ]
    },
    {
     "data": {
      "application/vnd.jupyter.widget-view+json": {
       "model_id": "a19ae34e8a344d29a3042996702cc6d8",
       "version_major": 2,
       "version_minor": 0
      },
      "text/plain": [
       "HBox(children=(HTML(value='Epochs loop'), FloatProgress(value=0.0, max=30000.0), HTML(value='')))"
      ]
     },
     "metadata": {},
     "output_type": "display_data"
    },
    {
     "name": "stdout",
     "output_type": "stream",
     "text": [
      "\n",
      "Summary:\n",
      "-learning rate = 0.00527\n",
      "-Model saved after iteration 20615.\n",
      "-Train.  Loss=0.0064651\n",
      "-Valid.  Loss=0.0259341\n",
      "'train_loss02_15.csv' saved.\n",
      "'valid_loss02_15.csv' saved.\n",
      "'model05_forward02_15_last.pth' saved.\n",
      "'model05_forward02_15_best.pth' saved.\n",
      "- train minibatches = 1\n",
      "- valid minibatches = 1\n",
      "- test minibatches = 1\n"
     ]
    },
    {
     "data": {
      "application/vnd.jupyter.widget-view+json": {
       "model_id": "977ff0552a5f4210bae897b942ac5e54",
       "version_major": 2,
       "version_minor": 0
      },
      "text/plain": [
       "HBox(children=(HTML(value='Epochs loop'), FloatProgress(value=0.0, max=30000.0), HTML(value='')))"
      ]
     },
     "metadata": {},
     "output_type": "display_data"
    },
    {
     "name": "stdout",
     "output_type": "stream",
     "text": [
      "\n",
      "Summary:\n",
      "-learning rate = 0.00527\n",
      "-Model saved after iteration 893.\n",
      "-Train.  Loss=0.0286454\n",
      "-Valid.  Loss=0.0991660\n",
      "'train_loss02_16.csv' saved.\n",
      "'valid_loss02_16.csv' saved.\n",
      "'model05_forward02_16_last.pth' saved.\n",
      "'model05_forward02_16_best.pth' saved.\n",
      "- train minibatches = 1\n",
      "- valid minibatches = 1\n",
      "- test minibatches = 1\n"
     ]
    },
    {
     "data": {
      "application/vnd.jupyter.widget-view+json": {
       "model_id": "c45a3673396b449f954a1de6b0b86112",
       "version_major": 2,
       "version_minor": 0
      },
      "text/plain": [
       "HBox(children=(HTML(value='Epochs loop'), FloatProgress(value=0.0, max=30000.0), HTML(value='')))"
      ]
     },
     "metadata": {},
     "output_type": "display_data"
    },
    {
     "name": "stdout",
     "output_type": "stream",
     "text": [
      "\n",
      "Summary:\n",
      "-learning rate = 0.00527\n",
      "-Model saved after iteration 29988.\n",
      "-Train.  Loss=0.0041828\n",
      "-Valid.  Loss=0.0072585\n",
      "'train_loss02_17.csv' saved.\n",
      "'valid_loss02_17.csv' saved.\n",
      "'model05_forward02_17_last.pth' saved.\n",
      "'model05_forward02_17_best.pth' saved.\n",
      "- train minibatches = 1\n",
      "- valid minibatches = 1\n",
      "- test minibatches = 1\n"
     ]
    },
    {
     "data": {
      "application/vnd.jupyter.widget-view+json": {
       "model_id": "590b7940d4624957b9bab129689087b8",
       "version_major": 2,
       "version_minor": 0
      },
      "text/plain": [
       "HBox(children=(HTML(value='Epochs loop'), FloatProgress(value=0.0, max=30000.0), HTML(value='')))"
      ]
     },
     "metadata": {},
     "output_type": "display_data"
    },
    {
     "name": "stdout",
     "output_type": "stream",
     "text": [
      "\n",
      "Summary:\n",
      "-learning rate = 0.00527\n",
      "-Model saved after iteration 29960.\n",
      "-Train.  Loss=0.0036150\n",
      "-Valid.  Loss=0.0162936\n",
      "'train_loss02_18.csv' saved.\n",
      "'valid_loss02_18.csv' saved.\n",
      "'model05_forward02_18_last.pth' saved.\n",
      "'model05_forward02_18_best.pth' saved.\n",
      "- train minibatches = 1\n",
      "- valid minibatches = 1\n",
      "- test minibatches = 1\n"
     ]
    },
    {
     "data": {
      "application/vnd.jupyter.widget-view+json": {
       "model_id": "3d88fe76dc824541920f41a333efc7a9",
       "version_major": 2,
       "version_minor": 0
      },
      "text/plain": [
       "HBox(children=(HTML(value='Epochs loop'), FloatProgress(value=0.0, max=30000.0), HTML(value='')))"
      ]
     },
     "metadata": {},
     "output_type": "display_data"
    },
    {
     "name": "stdout",
     "output_type": "stream",
     "text": [
      "\n",
      "Summary:\n",
      "-learning rate = 0.00527\n",
      "-Model saved after iteration 30000.\n",
      "-Train.  Loss=0.0038512\n",
      "-Valid.  Loss=0.0650223\n",
      "'train_loss02_19.csv' saved.\n",
      "'valid_loss02_19.csv' saved.\n",
      "'model05_forward02_19_last.pth' saved.\n",
      "'model05_forward02_19_best.pth' saved.\n",
      "- train minibatches = 1\n",
      "- valid minibatches = 1\n",
      "- test minibatches = 1\n"
     ]
    },
    {
     "data": {
      "application/vnd.jupyter.widget-view+json": {
       "model_id": "5268d1d8fda8485fb6497c2ac5690171",
       "version_major": 2,
       "version_minor": 0
      },
      "text/plain": [
       "HBox(children=(HTML(value='Epochs loop'), FloatProgress(value=0.0, max=30000.0), HTML(value='')))"
      ]
     },
     "metadata": {},
     "output_type": "display_data"
    },
    {
     "name": "stdout",
     "output_type": "stream",
     "text": [
      "\n",
      "Summary:\n",
      "-learning rate = 0.00527\n",
      "-Model saved after iteration 29917.\n",
      "-Train.  Loss=0.0112410\n",
      "-Valid.  Loss=0.0163528\n",
      "'train_loss02_20.csv' saved.\n",
      "'valid_loss02_20.csv' saved.\n",
      "'model05_forward02_20_last.pth' saved.\n",
      "'model05_forward02_20_best.pth' saved.\n",
      "- train minibatches = 1\n",
      "- valid minibatches = 1\n",
      "- test minibatches = 1\n"
     ]
    },
    {
     "data": {
      "application/vnd.jupyter.widget-view+json": {
       "model_id": "b0612814953249d18c1884d763c63f73",
       "version_major": 2,
       "version_minor": 0
      },
      "text/plain": [
       "HBox(children=(HTML(value='Epochs loop'), FloatProgress(value=0.0, max=30000.0), HTML(value='')))"
      ]
     },
     "metadata": {},
     "output_type": "display_data"
    },
    {
     "name": "stdout",
     "output_type": "stream",
     "text": [
      "\n",
      "Summary:\n",
      "-learning rate = 0.00527\n",
      "-Model saved after iteration 29984.\n",
      "-Train.  Loss=0.0041294\n",
      "-Valid.  Loss=0.0410262\n",
      "'train_loss02_21.csv' saved.\n",
      "'valid_loss02_21.csv' saved.\n",
      "'model05_forward02_21_last.pth' saved.\n",
      "'model05_forward02_21_best.pth' saved.\n",
      "- train minibatches = 1\n",
      "- valid minibatches = 1\n",
      "- test minibatches = 1\n"
     ]
    },
    {
     "data": {
      "application/vnd.jupyter.widget-view+json": {
       "model_id": "6168abe217e14763b66396ada36ec70a",
       "version_major": 2,
       "version_minor": 0
      },
      "text/plain": [
       "HBox(children=(HTML(value='Epochs loop'), FloatProgress(value=0.0, max=30000.0), HTML(value='')))"
      ]
     },
     "metadata": {},
     "output_type": "display_data"
    },
    {
     "name": "stdout",
     "output_type": "stream",
     "text": [
      "\n",
      "Summary:\n",
      "-learning rate = 0.00527\n",
      "-Model saved after iteration 680.\n",
      "-Train.  Loss=0.0274187\n",
      "-Valid.  Loss=0.0402777\n",
      "'train_loss02_22.csv' saved.\n",
      "'valid_loss02_22.csv' saved.\n",
      "'model05_forward02_22_last.pth' saved.\n",
      "'model05_forward02_22_best.pth' saved.\n",
      "- train minibatches = 1\n",
      "- valid minibatches = 1\n",
      "- test minibatches = 1\n"
     ]
    },
    {
     "data": {
      "application/vnd.jupyter.widget-view+json": {
       "model_id": "008f0109dc71457fa0e8c7aa73cd9835",
       "version_major": 2,
       "version_minor": 0
      },
      "text/plain": [
       "HBox(children=(HTML(value='Epochs loop'), FloatProgress(value=0.0, max=30000.0), HTML(value='')))"
      ]
     },
     "metadata": {},
     "output_type": "display_data"
    },
    {
     "name": "stdout",
     "output_type": "stream",
     "text": [
      "\n",
      "Summary:\n",
      "-learning rate = 0.00527\n",
      "-Model saved after iteration 1558.\n",
      "-Train.  Loss=0.0173610\n",
      "-Valid.  Loss=0.0197639\n",
      "'train_loss02_23.csv' saved.\n",
      "'valid_loss02_23.csv' saved.\n",
      "'model05_forward02_23_last.pth' saved.\n",
      "'model05_forward02_23_best.pth' saved.\n",
      "- train minibatches = 1\n",
      "- valid minibatches = 1\n",
      "- test minibatches = 1\n"
     ]
    },
    {
     "data": {
      "application/vnd.jupyter.widget-view+json": {
       "model_id": "5f75ca976e4949b2bac2d84df836cdae",
       "version_major": 2,
       "version_minor": 0
      },
      "text/plain": [
       "HBox(children=(HTML(value='Epochs loop'), FloatProgress(value=0.0, max=30000.0), HTML(value='')))"
      ]
     },
     "metadata": {},
     "output_type": "display_data"
    },
    {
     "name": "stdout",
     "output_type": "stream",
     "text": [
      "\n",
      "Summary:\n",
      "-learning rate = 0.00527\n",
      "-Model saved after iteration 29996.\n",
      "-Train.  Loss=0.0036941\n",
      "-Valid.  Loss=0.0235975\n",
      "'train_loss02_24.csv' saved.\n",
      "'valid_loss02_24.csv' saved.\n",
      "'model05_forward02_24_last.pth' saved.\n",
      "'model05_forward02_24_best.pth' saved.\n",
      "- train minibatches = 1\n",
      "- valid minibatches = 1\n",
      "- test minibatches = 1\n"
     ]
    },
    {
     "data": {
      "application/vnd.jupyter.widget-view+json": {
       "model_id": "eb7c9d6d03fa4955a607778b63eb0113",
       "version_major": 2,
       "version_minor": 0
      },
      "text/plain": [
       "HBox(children=(HTML(value='Epochs loop'), FloatProgress(value=0.0, max=30000.0), HTML(value='')))"
      ]
     },
     "metadata": {},
     "output_type": "display_data"
    },
    {
     "name": "stdout",
     "output_type": "stream",
     "text": [
      "\n",
      "Summary:\n",
      "-learning rate = 0.00527\n",
      "-Model saved after iteration 2740.\n",
      "-Train.  Loss=0.0102735\n",
      "-Valid.  Loss=0.0611873\n",
      "'train_loss02_25.csv' saved.\n",
      "'valid_loss02_25.csv' saved.\n",
      "'model05_forward02_25_last.pth' saved.\n",
      "'model05_forward02_25_best.pth' saved.\n",
      "- train minibatches = 1\n",
      "- valid minibatches = 1\n",
      "- test minibatches = 1\n"
     ]
    },
    {
     "data": {
      "application/vnd.jupyter.widget-view+json": {
       "model_id": "a565bc42c9694ac69cfb93d2fbe6f44a",
       "version_major": 2,
       "version_minor": 0
      },
      "text/plain": [
       "HBox(children=(HTML(value='Epochs loop'), FloatProgress(value=0.0, max=30000.0), HTML(value='')))"
      ]
     },
     "metadata": {},
     "output_type": "display_data"
    },
    {
     "name": "stdout",
     "output_type": "stream",
     "text": [
      "\n",
      "Summary:\n",
      "-learning rate = 0.00527\n",
      "-Model saved after iteration 5680.\n",
      "-Train.  Loss=0.0091131\n",
      "-Valid.  Loss=0.0111100\n",
      "'train_loss02_26.csv' saved.\n",
      "'valid_loss02_26.csv' saved.\n",
      "'model05_forward02_26_last.pth' saved.\n",
      "'model05_forward02_26_best.pth' saved.\n",
      "- train minibatches = 1\n",
      "- valid minibatches = 1\n",
      "- test minibatches = 1\n"
     ]
    },
    {
     "data": {
      "application/vnd.jupyter.widget-view+json": {
       "model_id": "7d2392fa307942c786cd0b648923cf43",
       "version_major": 2,
       "version_minor": 0
      },
      "text/plain": [
       "HBox(children=(HTML(value='Epochs loop'), FloatProgress(value=0.0, max=30000.0), HTML(value='')))"
      ]
     },
     "metadata": {},
     "output_type": "display_data"
    },
    {
     "name": "stdout",
     "output_type": "stream",
     "text": [
      "\n",
      "Summary:\n",
      "-learning rate = 0.00527\n",
      "-Model saved after iteration 29999.\n",
      "-Train.  Loss=0.0037281\n",
      "-Valid.  Loss=0.0333550\n",
      "'train_loss02_27.csv' saved.\n",
      "'valid_loss02_27.csv' saved.\n",
      "'model05_forward02_27_last.pth' saved.\n",
      "'model05_forward02_27_best.pth' saved.\n",
      "- train minibatches = 1\n",
      "- valid minibatches = 1\n",
      "- test minibatches = 1\n"
     ]
    },
    {
     "data": {
      "application/vnd.jupyter.widget-view+json": {
       "model_id": "26848bc943994b0a842ab89f86fe5868",
       "version_major": 2,
       "version_minor": 0
      },
      "text/plain": [
       "HBox(children=(HTML(value='Epochs loop'), FloatProgress(value=0.0, max=30000.0), HTML(value='')))"
      ]
     },
     "metadata": {},
     "output_type": "display_data"
    },
    {
     "name": "stdout",
     "output_type": "stream",
     "text": [
      "\n",
      "Summary:\n",
      "-learning rate = 0.00527\n",
      "-Model saved after iteration 22419.\n",
      "-Train.  Loss=0.0059129\n",
      "-Valid.  Loss=0.0180122\n",
      "'train_loss02_28.csv' saved.\n",
      "'valid_loss02_28.csv' saved.\n",
      "'model05_forward02_28_last.pth' saved.\n",
      "'model05_forward02_28_best.pth' saved.\n",
      "- train minibatches = 1\n",
      "- valid minibatches = 1\n",
      "- test minibatches = 1\n"
     ]
    },
    {
     "data": {
      "application/vnd.jupyter.widget-view+json": {
       "model_id": "a70f544191924ba498666ef57c86ca9f",
       "version_major": 2,
       "version_minor": 0
      },
      "text/plain": [
       "HBox(children=(HTML(value='Epochs loop'), FloatProgress(value=0.0, max=30000.0), HTML(value='')))"
      ]
     },
     "metadata": {},
     "output_type": "display_data"
    },
    {
     "name": "stdout",
     "output_type": "stream",
     "text": [
      "\n",
      "Summary:\n",
      "-learning rate = 0.00527\n",
      "-Model saved after iteration 1136.\n",
      "-Train.  Loss=0.0297552\n",
      "-Valid.  Loss=0.0427636\n",
      "'train_loss02_29.csv' saved.\n",
      "'valid_loss02_29.csv' saved.\n",
      "'model05_forward02_29_last.pth' saved.\n",
      "'model05_forward02_29_best.pth' saved.\n",
      "- train minibatches = 1\n",
      "- valid minibatches = 1\n",
      "- test minibatches = 1\n"
     ]
    },
    {
     "data": {
      "application/vnd.jupyter.widget-view+json": {
       "model_id": "eae66cfce4ca4e78a3acc9816a606268",
       "version_major": 2,
       "version_minor": 0
      },
      "text/plain": [
       "HBox(children=(HTML(value='Epochs loop'), FloatProgress(value=0.0, max=30000.0), HTML(value='')))"
      ]
     },
     "metadata": {},
     "output_type": "display_data"
    },
    {
     "name": "stdout",
     "output_type": "stream",
     "text": [
      "\n",
      "Summary:\n",
      "-learning rate = 0.00527\n",
      "-Model saved after iteration 29996.\n",
      "-Train.  Loss=0.0036062\n",
      "-Valid.  Loss=0.0201526\n",
      "'train_loss02_30.csv' saved.\n",
      "'valid_loss02_30.csv' saved.\n",
      "'model05_forward02_30_last.pth' saved.\n",
      "'model05_forward02_30_best.pth' saved.\n",
      "- train minibatches = 1\n",
      "- valid minibatches = 1\n",
      "- test minibatches = 1\n"
     ]
    },
    {
     "data": {
      "application/vnd.jupyter.widget-view+json": {
       "model_id": "a163a4b7736f46cf9bf0d4346cd258e5",
       "version_major": 2,
       "version_minor": 0
      },
      "text/plain": [
       "HBox(children=(HTML(value='Epochs loop'), FloatProgress(value=0.0, max=30000.0), HTML(value='')))"
      ]
     },
     "metadata": {},
     "output_type": "display_data"
    },
    {
     "name": "stdout",
     "output_type": "stream",
     "text": [
      "\n",
      "Summary:\n",
      "-learning rate = 0.00527\n",
      "-Model saved after iteration 12911.\n",
      "-Train.  Loss=0.0062496\n",
      "-Valid.  Loss=0.0165543\n",
      "'train_loss02_31.csv' saved.\n",
      "'valid_loss02_31.csv' saved.\n",
      "'model05_forward02_31_last.pth' saved.\n",
      "'model05_forward02_31_best.pth' saved.\n",
      "- train minibatches = 1\n",
      "- valid minibatches = 1\n",
      "- test minibatches = 1\n"
     ]
    },
    {
     "data": {
      "application/vnd.jupyter.widget-view+json": {
       "model_id": "17046a721d864a96aee228df801f055f",
       "version_major": 2,
       "version_minor": 0
      },
      "text/plain": [
       "HBox(children=(HTML(value='Epochs loop'), FloatProgress(value=0.0, max=30000.0), HTML(value='')))"
      ]
     },
     "metadata": {},
     "output_type": "display_data"
    },
    {
     "name": "stdout",
     "output_type": "stream",
     "text": [
      "\n",
      "Summary:\n",
      "-learning rate = 0.00527\n",
      "-Model saved after iteration 30000.\n",
      "-Train.  Loss=0.0039323\n",
      "-Valid.  Loss=0.0351497\n",
      "'train_loss02_32.csv' saved.\n",
      "'valid_loss02_32.csv' saved.\n",
      "'model05_forward02_32_last.pth' saved.\n",
      "'model05_forward02_32_best.pth' saved.\n",
      "- train minibatches = 1\n",
      "- valid minibatches = 1\n",
      "- test minibatches = 1\n"
     ]
    },
    {
     "data": {
      "application/vnd.jupyter.widget-view+json": {
       "model_id": "3a5b5a1d0fe648eda45a0f414b9a1b94",
       "version_major": 2,
       "version_minor": 0
      },
      "text/plain": [
       "HBox(children=(HTML(value='Epochs loop'), FloatProgress(value=0.0, max=30000.0), HTML(value='')))"
      ]
     },
     "metadata": {},
     "output_type": "display_data"
    },
    {
     "name": "stdout",
     "output_type": "stream",
     "text": [
      "\n",
      "Summary:\n",
      "-learning rate = 0.00527\n",
      "-Model saved after iteration 8978.\n",
      "-Train.  Loss=0.0058143\n",
      "-Valid.  Loss=0.0137920\n",
      "'train_loss02_33.csv' saved.\n",
      "'valid_loss02_33.csv' saved.\n",
      "'model05_forward02_33_last.pth' saved.\n",
      "'model05_forward02_33_best.pth' saved.\n",
      "- train minibatches = 1\n",
      "- valid minibatches = 1\n",
      "- test minibatches = 1\n"
     ]
    },
    {
     "data": {
      "application/vnd.jupyter.widget-view+json": {
       "model_id": "6c9a6cdc8bf94dd88afe47ddbebf46eb",
       "version_major": 2,
       "version_minor": 0
      },
      "text/plain": [
       "HBox(children=(HTML(value='Epochs loop'), FloatProgress(value=0.0, max=30000.0), HTML(value='')))"
      ]
     },
     "metadata": {},
     "output_type": "display_data"
    },
    {
     "name": "stdout",
     "output_type": "stream",
     "text": [
      "\n",
      "Summary:\n",
      "-learning rate = 0.00527\n",
      "-Model saved after iteration 4335.\n",
      "-Train.  Loss=0.0111653\n",
      "-Valid.  Loss=0.0457174\n",
      "'train_loss02_34.csv' saved.\n",
      "'valid_loss02_34.csv' saved.\n",
      "'model05_forward02_34_last.pth' saved.\n",
      "'model05_forward02_34_best.pth' saved.\n",
      "- train minibatches = 1\n",
      "- valid minibatches = 1\n",
      "- test minibatches = 1\n"
     ]
    },
    {
     "data": {
      "application/vnd.jupyter.widget-view+json": {
       "model_id": "6c5ba247391b4ec7a7ebc02289c582f0",
       "version_major": 2,
       "version_minor": 0
      },
      "text/plain": [
       "HBox(children=(HTML(value='Epochs loop'), FloatProgress(value=0.0, max=30000.0), HTML(value='')))"
      ]
     },
     "metadata": {},
     "output_type": "display_data"
    },
    {
     "name": "stdout",
     "output_type": "stream",
     "text": [
      "\n",
      "Summary:\n",
      "-learning rate = 0.00527\n",
      "-Model saved after iteration 25684.\n",
      "-Train.  Loss=0.0032853\n",
      "-Valid.  Loss=0.0374400\n",
      "'train_loss02_35.csv' saved.\n",
      "'valid_loss02_35.csv' saved.\n",
      "'model05_forward02_35_last.pth' saved.\n",
      "'model05_forward02_35_best.pth' saved.\n",
      "- train minibatches = 1\n",
      "- valid minibatches = 1\n",
      "- test minibatches = 1\n"
     ]
    },
    {
     "data": {
      "application/vnd.jupyter.widget-view+json": {
       "model_id": "d2403aa212834251983831a7688b4309",
       "version_major": 2,
       "version_minor": 0
      },
      "text/plain": [
       "HBox(children=(HTML(value='Epochs loop'), FloatProgress(value=0.0, max=30000.0), HTML(value='')))"
      ]
     },
     "metadata": {},
     "output_type": "display_data"
    },
    {
     "name": "stdout",
     "output_type": "stream",
     "text": [
      "\n",
      "Summary:\n",
      "-learning rate = 0.00527\n",
      "-Model saved after iteration 29996.\n",
      "-Train.  Loss=0.0038444\n",
      "-Valid.  Loss=0.0118834\n",
      "'train_loss02_36.csv' saved.\n",
      "'valid_loss02_36.csv' saved.\n",
      "'model05_forward02_36_last.pth' saved.\n",
      "'model05_forward02_36_best.pth' saved.\n",
      "- train minibatches = 1\n",
      "- valid minibatches = 1\n",
      "- test minibatches = 1\n"
     ]
    },
    {
     "data": {
      "application/vnd.jupyter.widget-view+json": {
       "model_id": "6a108d10c1a048a7905eb7bbfd6ac196",
       "version_major": 2,
       "version_minor": 0
      },
      "text/plain": [
       "HBox(children=(HTML(value='Epochs loop'), FloatProgress(value=0.0, max=30000.0), HTML(value='')))"
      ]
     },
     "metadata": {},
     "output_type": "display_data"
    },
    {
     "name": "stdout",
     "output_type": "stream",
     "text": [
      "\n",
      "Summary:\n",
      "-learning rate = 0.00527\n",
      "-Model saved after iteration 19039.\n",
      "-Train.  Loss=0.0046503\n",
      "-Valid.  Loss=0.0174445\n",
      "'train_loss02_37.csv' saved.\n",
      "'valid_loss02_37.csv' saved.\n",
      "'model05_forward02_37_last.pth' saved.\n",
      "'model05_forward02_37_best.pth' saved.\n",
      "- train minibatches = 1\n",
      "- valid minibatches = 1\n",
      "- test minibatches = 1\n"
     ]
    },
    {
     "data": {
      "application/vnd.jupyter.widget-view+json": {
       "model_id": "eff72b5cf4334051bb78e8cfec4b0e1e",
       "version_major": 2,
       "version_minor": 0
      },
      "text/plain": [
       "HBox(children=(HTML(value='Epochs loop'), FloatProgress(value=0.0, max=30000.0), HTML(value='')))"
      ]
     },
     "metadata": {},
     "output_type": "display_data"
    },
    {
     "name": "stdout",
     "output_type": "stream",
     "text": [
      "\n",
      "Summary:\n",
      "-learning rate = 0.00527\n",
      "-Model saved after iteration 11124.\n",
      "-Train.  Loss=0.0060786\n",
      "-Valid.  Loss=0.0136990\n",
      "'train_loss02_38.csv' saved.\n",
      "'valid_loss02_38.csv' saved.\n",
      "'model05_forward02_38_last.pth' saved.\n",
      "'model05_forward02_38_best.pth' saved.\n",
      "- train minibatches = 1\n",
      "- valid minibatches = 1\n",
      "- test minibatches = 1\n"
     ]
    },
    {
     "data": {
      "application/vnd.jupyter.widget-view+json": {
       "model_id": "1d4ed241a5ea41e19a3ef1fa92d5d1c0",
       "version_major": 2,
       "version_minor": 0
      },
      "text/plain": [
       "HBox(children=(HTML(value='Epochs loop'), FloatProgress(value=0.0, max=30000.0), HTML(value='')))"
      ]
     },
     "metadata": {},
     "output_type": "display_data"
    },
    {
     "name": "stdout",
     "output_type": "stream",
     "text": [
      "\n",
      "Summary:\n",
      "-learning rate = 0.00527\n",
      "-Model saved after iteration 4314.\n",
      "-Train.  Loss=0.0106745\n",
      "-Valid.  Loss=0.0445053\n",
      "'train_loss02_39.csv' saved.\n",
      "'valid_loss02_39.csv' saved.\n",
      "'model05_forward02_39_last.pth' saved.\n",
      "'model05_forward02_39_best.pth' saved.\n",
      "- train minibatches = 1\n",
      "- valid minibatches = 1\n",
      "- test minibatches = 1\n"
     ]
    },
    {
     "data": {
      "application/vnd.jupyter.widget-view+json": {
       "model_id": "6910be998fcf4bdea9ddaca36bd32a02",
       "version_major": 2,
       "version_minor": 0
      },
      "text/plain": [
       "HBox(children=(HTML(value='Epochs loop'), FloatProgress(value=0.0, max=30000.0), HTML(value='')))"
      ]
     },
     "metadata": {},
     "output_type": "display_data"
    },
    {
     "name": "stdout",
     "output_type": "stream",
     "text": [
      "\n",
      "Summary:\n",
      "-learning rate = 0.00527\n",
      "-Model saved after iteration 17338.\n",
      "-Train.  Loss=0.0036967\n",
      "-Valid.  Loss=0.0840954\n",
      "'train_loss02_40.csv' saved.\n",
      "'valid_loss02_40.csv' saved.\n",
      "'model05_forward02_40_last.pth' saved.\n",
      "'model05_forward02_40_best.pth' saved.\n",
      "- train minibatches = 1\n",
      "- valid minibatches = 1\n",
      "- test minibatches = 1\n"
     ]
    },
    {
     "data": {
      "application/vnd.jupyter.widget-view+json": {
       "model_id": "3a85c25c10cc4d15baed3eb892893c8d",
       "version_major": 2,
       "version_minor": 0
      },
      "text/plain": [
       "HBox(children=(HTML(value='Epochs loop'), FloatProgress(value=0.0, max=30000.0), HTML(value='')))"
      ]
     },
     "metadata": {},
     "output_type": "display_data"
    },
    {
     "name": "stdout",
     "output_type": "stream",
     "text": [
      "\n",
      "Summary:\n",
      "-learning rate = 0.00527\n",
      "-Model saved after iteration 29999.\n",
      "-Train.  Loss=0.0052532\n",
      "-Valid.  Loss=0.0147558\n",
      "'train_loss02_41.csv' saved.\n",
      "'valid_loss02_41.csv' saved.\n",
      "'model05_forward02_41_last.pth' saved.\n",
      "'model05_forward02_41_best.pth' saved.\n",
      "- train minibatches = 1\n",
      "- valid minibatches = 1\n",
      "- test minibatches = 1\n"
     ]
    },
    {
     "data": {
      "application/vnd.jupyter.widget-view+json": {
       "model_id": "7e8641d5789f4334938323b06049d304",
       "version_major": 2,
       "version_minor": 0
      },
      "text/plain": [
       "HBox(children=(HTML(value='Epochs loop'), FloatProgress(value=0.0, max=30000.0), HTML(value='')))"
      ]
     },
     "metadata": {},
     "output_type": "display_data"
    },
    {
     "name": "stdout",
     "output_type": "stream",
     "text": [
      "\n",
      "Summary:\n",
      "-learning rate = 0.00527\n",
      "-Model saved after iteration 21471.\n",
      "-Train.  Loss=0.0056099\n",
      "-Valid.  Loss=0.0171654\n",
      "'train_loss02_42.csv' saved.\n",
      "'valid_loss02_42.csv' saved.\n",
      "'model05_forward02_42_last.pth' saved.\n",
      "'model05_forward02_42_best.pth' saved.\n",
      "- train minibatches = 1\n",
      "- valid minibatches = 1\n",
      "- test minibatches = 1\n"
     ]
    },
    {
     "data": {
      "application/vnd.jupyter.widget-view+json": {
       "model_id": "3a9a43c686ad45deaa94fb75c0c07bdc",
       "version_major": 2,
       "version_minor": 0
      },
      "text/plain": [
       "HBox(children=(HTML(value='Epochs loop'), FloatProgress(value=0.0, max=30000.0), HTML(value='')))"
      ]
     },
     "metadata": {},
     "output_type": "display_data"
    },
    {
     "name": "stdout",
     "output_type": "stream",
     "text": [
      "\n",
      "Summary:\n",
      "-learning rate = 0.00527\n",
      "-Model saved after iteration 29990.\n",
      "-Train.  Loss=0.0037471\n",
      "-Valid.  Loss=0.0199349\n",
      "'train_loss02_43.csv' saved.\n",
      "'valid_loss02_43.csv' saved.\n",
      "'model05_forward02_43_last.pth' saved.\n",
      "'model05_forward02_43_best.pth' saved.\n",
      "- train minibatches = 1\n",
      "- valid minibatches = 1\n",
      "- test minibatches = 1\n"
     ]
    },
    {
     "data": {
      "application/vnd.jupyter.widget-view+json": {
       "model_id": "8fc8a0122f094ddfa9fc5b784d529f3c",
       "version_major": 2,
       "version_minor": 0
      },
      "text/plain": [
       "HBox(children=(HTML(value='Epochs loop'), FloatProgress(value=0.0, max=30000.0), HTML(value='')))"
      ]
     },
     "metadata": {},
     "output_type": "display_data"
    },
    {
     "name": "stdout",
     "output_type": "stream",
     "text": [
      "\n",
      "Summary:\n",
      "-learning rate = 0.00527\n",
      "-Model saved after iteration 2223.\n",
      "-Train.  Loss=0.0165526\n",
      "-Valid.  Loss=0.0388472\n",
      "'train_loss02_44.csv' saved.\n",
      "'valid_loss02_44.csv' saved.\n",
      "'model05_forward02_44_last.pth' saved.\n",
      "'model05_forward02_44_best.pth' saved.\n",
      "- train minibatches = 1\n",
      "- valid minibatches = 1\n",
      "- test minibatches = 1\n"
     ]
    },
    {
     "data": {
      "application/vnd.jupyter.widget-view+json": {
       "model_id": "c7563397a755476bbab4c7e385cf6f4e",
       "version_major": 2,
       "version_minor": 0
      },
      "text/plain": [
       "HBox(children=(HTML(value='Epochs loop'), FloatProgress(value=0.0, max=30000.0), HTML(value='')))"
      ]
     },
     "metadata": {},
     "output_type": "display_data"
    },
    {
     "name": "stdout",
     "output_type": "stream",
     "text": [
      "\n",
      "Summary:\n",
      "-learning rate = 0.00527\n",
      "-Model saved after iteration 10692.\n",
      "-Train.  Loss=0.0057772\n",
      "-Valid.  Loss=0.0142745\n",
      "'train_loss02_45.csv' saved.\n",
      "'valid_loss02_45.csv' saved.\n",
      "'model05_forward02_45_last.pth' saved.\n",
      "'model05_forward02_45_best.pth' saved.\n",
      "- train minibatches = 1\n",
      "- valid minibatches = 1\n",
      "- test minibatches = 1\n"
     ]
    },
    {
     "data": {
      "application/vnd.jupyter.widget-view+json": {
       "model_id": "7c5b801456594475a0e74d8e2bfa4f55",
       "version_major": 2,
       "version_minor": 0
      },
      "text/plain": [
       "HBox(children=(HTML(value='Epochs loop'), FloatProgress(value=0.0, max=30000.0), HTML(value='')))"
      ]
     },
     "metadata": {},
     "output_type": "display_data"
    },
    {
     "name": "stdout",
     "output_type": "stream",
     "text": [
      "\n",
      "Summary:\n",
      "-learning rate = 0.00527\n",
      "-Model saved after iteration 29995.\n",
      "-Train.  Loss=0.0029981\n",
      "-Valid.  Loss=0.0108251\n",
      "'train_loss02_46.csv' saved.\n",
      "'valid_loss02_46.csv' saved.\n",
      "'model05_forward02_46_last.pth' saved.\n",
      "'model05_forward02_46_best.pth' saved.\n",
      "- train minibatches = 1\n",
      "- valid minibatches = 1\n",
      "- test minibatches = 1\n"
     ]
    },
    {
     "data": {
      "application/vnd.jupyter.widget-view+json": {
       "model_id": "85f3511b39754022ab0bb3dd0ab07160",
       "version_major": 2,
       "version_minor": 0
      },
      "text/plain": [
       "HBox(children=(HTML(value='Epochs loop'), FloatProgress(value=0.0, max=30000.0), HTML(value='')))"
      ]
     },
     "metadata": {},
     "output_type": "display_data"
    },
    {
     "name": "stdout",
     "output_type": "stream",
     "text": [
      "\n",
      "Summary:\n",
      "-learning rate = 0.00527\n",
      "-Model saved after iteration 7648.\n",
      "-Train.  Loss=0.0064061\n",
      "-Valid.  Loss=0.0162708\n",
      "'train_loss02_47.csv' saved.\n",
      "'valid_loss02_47.csv' saved.\n",
      "'model05_forward02_47_last.pth' saved.\n",
      "'model05_forward02_47_best.pth' saved.\n",
      "- train minibatches = 1\n",
      "- valid minibatches = 1\n",
      "- test minibatches = 1\n"
     ]
    },
    {
     "data": {
      "application/vnd.jupyter.widget-view+json": {
       "model_id": "2bb7bf0f9c794ad4962809ad1a47b86e",
       "version_major": 2,
       "version_minor": 0
      },
      "text/plain": [
       "HBox(children=(HTML(value='Epochs loop'), FloatProgress(value=0.0, max=30000.0), HTML(value='')))"
      ]
     },
     "metadata": {},
     "output_type": "display_data"
    },
    {
     "name": "stdout",
     "output_type": "stream",
     "text": [
      "\n",
      "Summary:\n",
      "-learning rate = 0.00527\n",
      "-Model saved after iteration 29993.\n",
      "-Train.  Loss=0.0041199\n",
      "-Valid.  Loss=0.0147360\n",
      "'train_loss02_48.csv' saved.\n",
      "'valid_loss02_48.csv' saved.\n",
      "'model05_forward02_48_last.pth' saved.\n",
      "'model05_forward02_48_best.pth' saved.\n",
      "- train minibatches = 1\n",
      "- valid minibatches = 1\n",
      "- test minibatches = 1\n"
     ]
    },
    {
     "data": {
      "application/vnd.jupyter.widget-view+json": {
       "model_id": "f7c29350c76b48a79d0a6b13b84e57ee",
       "version_major": 2,
       "version_minor": 0
      },
      "text/plain": [
       "HBox(children=(HTML(value='Epochs loop'), FloatProgress(value=0.0, max=30000.0), HTML(value='')))"
      ]
     },
     "metadata": {},
     "output_type": "display_data"
    },
    {
     "name": "stdout",
     "output_type": "stream",
     "text": [
      "\n",
      "Summary:\n",
      "-learning rate = 0.00527\n",
      "-Model saved after iteration 7246.\n",
      "-Train.  Loss=0.0060649\n",
      "-Valid.  Loss=0.0268907\n",
      "'train_loss02_49.csv' saved.\n",
      "'valid_loss02_49.csv' saved.\n",
      "'model05_forward02_49_last.pth' saved.\n",
      "'model05_forward02_49_best.pth' saved.\n",
      "- train minibatches = 1\n",
      "- valid minibatches = 1\n",
      "- test minibatches = 1\n"
     ]
    },
    {
     "data": {
      "application/vnd.jupyter.widget-view+json": {
       "model_id": "5abda08408314ee6a4f71dbefbceef9f",
       "version_major": 2,
       "version_minor": 0
      },
      "text/plain": [
       "HBox(children=(HTML(value='Epochs loop'), FloatProgress(value=0.0, max=30000.0), HTML(value='')))"
      ]
     },
     "metadata": {},
     "output_type": "display_data"
    },
    {
     "name": "stdout",
     "output_type": "stream",
     "text": [
      "\n",
      "Summary:\n",
      "-learning rate = 0.00527\n",
      "-Model saved after iteration 30000.\n",
      "-Train.  Loss=0.0030709\n",
      "-Valid.  Loss=0.0234504\n",
      "'train_loss02_50.csv' saved.\n",
      "'valid_loss02_50.csv' saved.\n",
      "'model05_forward02_50_last.pth' saved.\n",
      "'model05_forward02_50_best.pth' saved.\n",
      "- train minibatches = 1\n",
      "- valid minibatches = 1\n",
      "- test minibatches = 1\n"
     ]
    },
    {
     "data": {
      "application/vnd.jupyter.widget-view+json": {
       "model_id": "429d781ba07a4355b86d4c83dfe7c2ca",
       "version_major": 2,
       "version_minor": 0
      },
      "text/plain": [
       "HBox(children=(HTML(value='Epochs loop'), FloatProgress(value=0.0, max=30000.0), HTML(value='')))"
      ]
     },
     "metadata": {},
     "output_type": "display_data"
    },
    {
     "name": "stdout",
     "output_type": "stream",
     "text": [
      "\n",
      "Summary:\n",
      "-learning rate = 0.00527\n",
      "-Model saved after iteration 8461.\n",
      "-Train.  Loss=0.0073163\n",
      "-Valid.  Loss=0.0147336\n",
      "'train_loss02_51.csv' saved.\n",
      "'valid_loss02_51.csv' saved.\n",
      "'model05_forward02_51_last.pth' saved.\n",
      "'model05_forward02_51_best.pth' saved.\n",
      "- train minibatches = 1\n",
      "- valid minibatches = 1\n",
      "- test minibatches = 1\n"
     ]
    },
    {
     "data": {
      "application/vnd.jupyter.widget-view+json": {
       "model_id": "1c084316df3a41908de7f852c521ae2f",
       "version_major": 2,
       "version_minor": 0
      },
      "text/plain": [
       "HBox(children=(HTML(value='Epochs loop'), FloatProgress(value=0.0, max=30000.0), HTML(value='')))"
      ]
     },
     "metadata": {},
     "output_type": "display_data"
    },
    {
     "name": "stdout",
     "output_type": "stream",
     "text": [
      "\n",
      "Summary:\n",
      "-learning rate = 0.00527\n",
      "-Model saved after iteration 10859.\n",
      "-Train.  Loss=0.0058028\n",
      "-Valid.  Loss=0.0277005\n",
      "'train_loss02_52.csv' saved.\n",
      "'valid_loss02_52.csv' saved.\n",
      "'model05_forward02_52_last.pth' saved.\n",
      "'model05_forward02_52_best.pth' saved.\n",
      "- train minibatches = 1\n",
      "- valid minibatches = 1\n",
      "- test minibatches = 1\n"
     ]
    },
    {
     "data": {
      "application/vnd.jupyter.widget-view+json": {
       "model_id": "620cc85027fa45e1bd258389d01b96b6",
       "version_major": 2,
       "version_minor": 0
      },
      "text/plain": [
       "HBox(children=(HTML(value='Epochs loop'), FloatProgress(value=0.0, max=30000.0), HTML(value='')))"
      ]
     },
     "metadata": {},
     "output_type": "display_data"
    },
    {
     "name": "stdout",
     "output_type": "stream",
     "text": [
      "\n",
      "Summary:\n",
      "-learning rate = 0.00527\n",
      "-Model saved after iteration 25567.\n",
      "-Train.  Loss=0.0052266\n",
      "-Valid.  Loss=0.0891094\n",
      "'train_loss02_53.csv' saved.\n",
      "'valid_loss02_53.csv' saved.\n",
      "'model05_forward02_53_last.pth' saved.\n",
      "'model05_forward02_53_best.pth' saved.\n",
      "- train minibatches = 1\n",
      "- valid minibatches = 1\n",
      "- test minibatches = 1\n"
     ]
    },
    {
     "data": {
      "application/vnd.jupyter.widget-view+json": {
       "model_id": "46e1ebd4cc394e358fcb6046fe52462c",
       "version_major": 2,
       "version_minor": 0
      },
      "text/plain": [
       "HBox(children=(HTML(value='Epochs loop'), FloatProgress(value=0.0, max=30000.0), HTML(value='')))"
      ]
     },
     "metadata": {},
     "output_type": "display_data"
    },
    {
     "name": "stdout",
     "output_type": "stream",
     "text": [
      "\n",
      "Summary:\n",
      "-learning rate = 0.00527\n",
      "-Model saved after iteration 29998.\n",
      "-Train.  Loss=0.0029535\n",
      "-Valid.  Loss=0.0127996\n",
      "'train_loss02_54.csv' saved.\n",
      "'valid_loss02_54.csv' saved.\n",
      "'model05_forward02_54_last.pth' saved.\n",
      "'model05_forward02_54_best.pth' saved.\n",
      "- train minibatches = 1\n",
      "- valid minibatches = 1\n",
      "- test minibatches = 1\n"
     ]
    },
    {
     "data": {
      "application/vnd.jupyter.widget-view+json": {
       "model_id": "df0603ffcfeb4ef6bd09f1587beb6cb4",
       "version_major": 2,
       "version_minor": 0
      },
      "text/plain": [
       "HBox(children=(HTML(value='Epochs loop'), FloatProgress(value=0.0, max=30000.0), HTML(value='')))"
      ]
     },
     "metadata": {},
     "output_type": "display_data"
    },
    {
     "name": "stdout",
     "output_type": "stream",
     "text": [
      "\n",
      "Summary:\n",
      "-learning rate = 0.00527\n",
      "-Model saved after iteration 30000.\n",
      "-Train.  Loss=0.0043353\n",
      "-Valid.  Loss=0.0336164\n",
      "'train_loss02_55.csv' saved.\n",
      "'valid_loss02_55.csv' saved.\n",
      "'model05_forward02_55_last.pth' saved.\n",
      "'model05_forward02_55_best.pth' saved.\n",
      "- train minibatches = 1\n",
      "- valid minibatches = 1\n",
      "- test minibatches = 1\n"
     ]
    },
    {
     "data": {
      "application/vnd.jupyter.widget-view+json": {
       "model_id": "d3dc32e7d1ef4e24accc04c5ff4701f5",
       "version_major": 2,
       "version_minor": 0
      },
      "text/plain": [
       "HBox(children=(HTML(value='Epochs loop'), FloatProgress(value=0.0, max=30000.0), HTML(value='')))"
      ]
     },
     "metadata": {},
     "output_type": "display_data"
    },
    {
     "name": "stdout",
     "output_type": "stream",
     "text": [
      "\n",
      "Summary:\n",
      "-learning rate = 0.00527\n",
      "-Model saved after iteration 29998.\n",
      "-Train.  Loss=0.0041916\n",
      "-Valid.  Loss=0.0369903\n",
      "'train_loss02_56.csv' saved.\n",
      "'valid_loss02_56.csv' saved.\n",
      "'model05_forward02_56_last.pth' saved.\n",
      "'model05_forward02_56_best.pth' saved.\n",
      "- train minibatches = 1\n",
      "- valid minibatches = 1\n",
      "- test minibatches = 1\n"
     ]
    },
    {
     "data": {
      "application/vnd.jupyter.widget-view+json": {
       "model_id": "aa01769b97d64803aea4a66693e824fa",
       "version_major": 2,
       "version_minor": 0
      },
      "text/plain": [
       "HBox(children=(HTML(value='Epochs loop'), FloatProgress(value=0.0, max=30000.0), HTML(value='')))"
      ]
     },
     "metadata": {},
     "output_type": "display_data"
    },
    {
     "name": "stdout",
     "output_type": "stream",
     "text": [
      "\n",
      "Summary:\n",
      "-learning rate = 0.00527\n",
      "-Model saved after iteration 29995.\n",
      "-Train.  Loss=0.0036679\n",
      "-Valid.  Loss=0.0484941\n",
      "'train_loss02_57.csv' saved.\n",
      "'valid_loss02_57.csv' saved.\n",
      "'model05_forward02_57_last.pth' saved.\n",
      "'model05_forward02_57_best.pth' saved.\n",
      "- train minibatches = 1\n",
      "- valid minibatches = 1\n",
      "- test minibatches = 1\n"
     ]
    },
    {
     "data": {
      "application/vnd.jupyter.widget-view+json": {
       "model_id": "a9bdaee40c1e440fb284808b1ff1174b",
       "version_major": 2,
       "version_minor": 0
      },
      "text/plain": [
       "HBox(children=(HTML(value='Epochs loop'), FloatProgress(value=0.0, max=30000.0), HTML(value='')))"
      ]
     },
     "metadata": {},
     "output_type": "display_data"
    },
    {
     "name": "stdout",
     "output_type": "stream",
     "text": [
      "\n",
      "Summary:\n",
      "-learning rate = 0.00527\n",
      "-Model saved after iteration 10389.\n",
      "-Train.  Loss=0.0052446\n",
      "-Valid.  Loss=0.0126418\n",
      "'train_loss02_58.csv' saved.\n",
      "'valid_loss02_58.csv' saved.\n",
      "'model05_forward02_58_last.pth' saved.\n",
      "'model05_forward02_58_best.pth' saved.\n",
      "- train minibatches = 1\n",
      "- valid minibatches = 1\n",
      "- test minibatches = 1\n"
     ]
    },
    {
     "data": {
      "application/vnd.jupyter.widget-view+json": {
       "model_id": "0d7804fe189b482a84fd8d35a8f4afe3",
       "version_major": 2,
       "version_minor": 0
      },
      "text/plain": [
       "HBox(children=(HTML(value='Epochs loop'), FloatProgress(value=0.0, max=30000.0), HTML(value='')))"
      ]
     },
     "metadata": {},
     "output_type": "display_data"
    },
    {
     "name": "stdout",
     "output_type": "stream",
     "text": [
      "\n",
      "Summary:\n",
      "-learning rate = 0.00527\n",
      "-Model saved after iteration 29995.\n",
      "-Train.  Loss=0.0045335\n",
      "-Valid.  Loss=0.0189228\n",
      "'train_loss02_59.csv' saved.\n",
      "'valid_loss02_59.csv' saved.\n",
      "'model05_forward02_59_last.pth' saved.\n",
      "'model05_forward02_59_best.pth' saved.\n",
      "- train minibatches = 1\n",
      "- valid minibatches = 1\n",
      "- test minibatches = 1\n"
     ]
    },
    {
     "data": {
      "application/vnd.jupyter.widget-view+json": {
       "model_id": "76400b972af54f26a1a3ef48394d6af6",
       "version_major": 2,
       "version_minor": 0
      },
      "text/plain": [
       "HBox(children=(HTML(value='Epochs loop'), FloatProgress(value=0.0, max=30000.0), HTML(value='')))"
      ]
     },
     "metadata": {},
     "output_type": "display_data"
    },
    {
     "name": "stdout",
     "output_type": "stream",
     "text": [
      "\n",
      "Summary:\n",
      "-learning rate = 0.00527\n",
      "-Model saved after iteration 8734.\n",
      "-Train.  Loss=0.0075704\n",
      "-Valid.  Loss=0.0231465\n",
      "'train_loss02_60.csv' saved.\n",
      "'valid_loss02_60.csv' saved.\n",
      "'model05_forward02_60_last.pth' saved.\n",
      "'model05_forward02_60_best.pth' saved.\n",
      "- train minibatches = 1\n",
      "- valid minibatches = 1\n",
      "- test minibatches = 1\n"
     ]
    },
    {
     "data": {
      "application/vnd.jupyter.widget-view+json": {
       "model_id": "66ac08696be0430ca451bdb462593b3a",
       "version_major": 2,
       "version_minor": 0
      },
      "text/plain": [
       "HBox(children=(HTML(value='Epochs loop'), FloatProgress(value=0.0, max=30000.0), HTML(value='')))"
      ]
     },
     "metadata": {},
     "output_type": "display_data"
    },
    {
     "name": "stdout",
     "output_type": "stream",
     "text": [
      "\n",
      "Summary:\n",
      "-learning rate = 0.00527\n",
      "-Model saved after iteration 13358.\n",
      "-Train.  Loss=0.0061646\n",
      "-Valid.  Loss=0.0097932\n",
      "'train_loss02_61.csv' saved.\n",
      "'valid_loss02_61.csv' saved.\n",
      "'model05_forward02_61_last.pth' saved.\n",
      "'model05_forward02_61_best.pth' saved.\n",
      "- train minibatches = 1\n",
      "- valid minibatches = 1\n",
      "- test minibatches = 1\n"
     ]
    },
    {
     "data": {
      "application/vnd.jupyter.widget-view+json": {
       "model_id": "7c26fe9dfe384887a433a7fad609a9b5",
       "version_major": 2,
       "version_minor": 0
      },
      "text/plain": [
       "HBox(children=(HTML(value='Epochs loop'), FloatProgress(value=0.0, max=30000.0), HTML(value='')))"
      ]
     },
     "metadata": {},
     "output_type": "display_data"
    },
    {
     "name": "stdout",
     "output_type": "stream",
     "text": [
      "\n",
      "Summary:\n",
      "-learning rate = 0.00527\n",
      "-Model saved after iteration 24605.\n",
      "-Train.  Loss=0.0038581\n",
      "-Valid.  Loss=0.0441143\n",
      "'train_loss02_62.csv' saved.\n",
      "'valid_loss02_62.csv' saved.\n",
      "'model05_forward02_62_last.pth' saved.\n",
      "'model05_forward02_62_best.pth' saved.\n",
      "- train minibatches = 1\n",
      "- valid minibatches = 1\n",
      "- test minibatches = 1\n"
     ]
    },
    {
     "data": {
      "application/vnd.jupyter.widget-view+json": {
       "model_id": "276ec6fc0a0c4ba590f01e1b29d9d8f7",
       "version_major": 2,
       "version_minor": 0
      },
      "text/plain": [
       "HBox(children=(HTML(value='Epochs loop'), FloatProgress(value=0.0, max=30000.0), HTML(value='')))"
      ]
     },
     "metadata": {},
     "output_type": "display_data"
    },
    {
     "name": "stdout",
     "output_type": "stream",
     "text": [
      "\n",
      "Summary:\n",
      "-learning rate = 0.00527\n",
      "-Model saved after iteration 20817.\n",
      "-Train.  Loss=0.0045639\n",
      "-Valid.  Loss=0.0245077\n",
      "'train_loss02_63.csv' saved.\n",
      "'valid_loss02_63.csv' saved.\n",
      "'model05_forward02_63_last.pth' saved.\n",
      "'model05_forward02_63_best.pth' saved.\n",
      "- train minibatches = 1\n",
      "- valid minibatches = 1\n",
      "- test minibatches = 1\n"
     ]
    },
    {
     "data": {
      "application/vnd.jupyter.widget-view+json": {
       "model_id": "de898ca58c50494a8603c0d45c231208",
       "version_major": 2,
       "version_minor": 0
      },
      "text/plain": [
       "HBox(children=(HTML(value='Epochs loop'), FloatProgress(value=0.0, max=30000.0), HTML(value='')))"
      ]
     },
     "metadata": {},
     "output_type": "display_data"
    },
    {
     "name": "stdout",
     "output_type": "stream",
     "text": [
      "\n",
      "Summary:\n",
      "-learning rate = 0.00527\n",
      "-Model saved after iteration 10934.\n",
      "-Train.  Loss=0.0051599\n",
      "-Valid.  Loss=0.0224069\n",
      "'train_loss02_64.csv' saved.\n",
      "'valid_loss02_64.csv' saved.\n",
      "'model05_forward02_64_last.pth' saved.\n",
      "'model05_forward02_64_best.pth' saved.\n",
      "- train minibatches = 1\n",
      "- valid minibatches = 1\n",
      "- test minibatches = 1\n"
     ]
    },
    {
     "data": {
      "application/vnd.jupyter.widget-view+json": {
       "model_id": "7910f7f744824ff19a9f7130e0ac9375",
       "version_major": 2,
       "version_minor": 0
      },
      "text/plain": [
       "HBox(children=(HTML(value='Epochs loop'), FloatProgress(value=0.0, max=30000.0), HTML(value='')))"
      ]
     },
     "metadata": {},
     "output_type": "display_data"
    },
    {
     "name": "stdout",
     "output_type": "stream",
     "text": [
      "\n",
      "Summary:\n",
      "-learning rate = 0.00527\n",
      "-Model saved after iteration 29998.\n",
      "-Train.  Loss=0.0028074\n",
      "-Valid.  Loss=0.0137720\n",
      "'train_loss02_65.csv' saved.\n",
      "'valid_loss02_65.csv' saved.\n",
      "'model05_forward02_65_last.pth' saved.\n",
      "'model05_forward02_65_best.pth' saved.\n",
      "- train minibatches = 1\n",
      "- valid minibatches = 1\n",
      "- test minibatches = 1\n"
     ]
    },
    {
     "data": {
      "application/vnd.jupyter.widget-view+json": {
       "model_id": "a12141227f574edd8b63858989cc6c34",
       "version_major": 2,
       "version_minor": 0
      },
      "text/plain": [
       "HBox(children=(HTML(value='Epochs loop'), FloatProgress(value=0.0, max=30000.0), HTML(value='')))"
      ]
     },
     "metadata": {},
     "output_type": "display_data"
    },
    {
     "name": "stdout",
     "output_type": "stream",
     "text": [
      "\n",
      "Summary:\n",
      "-learning rate = 0.00527\n",
      "-Model saved after iteration 24585.\n",
      "-Train.  Loss=0.0048911\n",
      "-Valid.  Loss=0.0291749\n",
      "'train_loss02_66.csv' saved.\n",
      "'valid_loss02_66.csv' saved.\n",
      "'model05_forward02_66_last.pth' saved.\n",
      "'model05_forward02_66_best.pth' saved.\n",
      "- train minibatches = 1\n",
      "- valid minibatches = 1\n",
      "- test minibatches = 1\n"
     ]
    },
    {
     "data": {
      "application/vnd.jupyter.widget-view+json": {
       "model_id": "b496063ea3a24c24958918e326ae4243",
       "version_major": 2,
       "version_minor": 0
      },
      "text/plain": [
       "HBox(children=(HTML(value='Epochs loop'), FloatProgress(value=0.0, max=30000.0), HTML(value='')))"
      ]
     },
     "metadata": {},
     "output_type": "display_data"
    },
    {
     "name": "stdout",
     "output_type": "stream",
     "text": [
      "\n",
      "Summary:\n",
      "-learning rate = 0.00527\n",
      "-Model saved after iteration 1599.\n",
      "-Train.  Loss=0.0124239\n",
      "-Valid.  Loss=0.0562731\n",
      "'train_loss02_67.csv' saved.\n",
      "'valid_loss02_67.csv' saved.\n",
      "'model05_forward02_67_last.pth' saved.\n",
      "'model05_forward02_67_best.pth' saved.\n",
      "- train minibatches = 1\n",
      "- valid minibatches = 1\n",
      "- test minibatches = 1\n"
     ]
    },
    {
     "data": {
      "application/vnd.jupyter.widget-view+json": {
       "model_id": "d2818e177bc44eed971ab60eca1badf8",
       "version_major": 2,
       "version_minor": 0
      },
      "text/plain": [
       "HBox(children=(HTML(value='Epochs loop'), FloatProgress(value=0.0, max=30000.0), HTML(value='')))"
      ]
     },
     "metadata": {},
     "output_type": "display_data"
    },
    {
     "name": "stdout",
     "output_type": "stream",
     "text": [
      "\n",
      "Summary:\n",
      "-learning rate = 0.00527\n",
      "-Model saved after iteration 12640.\n",
      "-Train.  Loss=0.0060770\n",
      "-Valid.  Loss=0.0122618\n",
      "'train_loss02_68.csv' saved.\n",
      "'valid_loss02_68.csv' saved.\n",
      "'model05_forward02_68_last.pth' saved.\n",
      "'model05_forward02_68_best.pth' saved.\n",
      "- train minibatches = 1\n",
      "- valid minibatches = 1\n",
      "- test minibatches = 1\n"
     ]
    },
    {
     "data": {
      "application/vnd.jupyter.widget-view+json": {
       "model_id": "62ba86eecc554a4b93ab4cbeb2f26ca4",
       "version_major": 2,
       "version_minor": 0
      },
      "text/plain": [
       "HBox(children=(HTML(value='Epochs loop'), FloatProgress(value=0.0, max=30000.0), HTML(value='')))"
      ]
     },
     "metadata": {},
     "output_type": "display_data"
    },
    {
     "name": "stdout",
     "output_type": "stream",
     "text": [
      "\n",
      "Summary:\n",
      "-learning rate = 0.00527\n",
      "-Model saved after iteration 16982.\n",
      "-Train.  Loss=0.0044989\n",
      "-Valid.  Loss=0.0145894\n",
      "'train_loss02_69.csv' saved.\n",
      "'valid_loss02_69.csv' saved.\n",
      "'model05_forward02_69_last.pth' saved.\n",
      "'model05_forward02_69_best.pth' saved.\n",
      "- train minibatches = 1\n",
      "- valid minibatches = 1\n",
      "- test minibatches = 1\n"
     ]
    },
    {
     "data": {
      "application/vnd.jupyter.widget-view+json": {
       "model_id": "aabe04d6892f44a3af99a2b70604a491",
       "version_major": 2,
       "version_minor": 0
      },
      "text/plain": [
       "HBox(children=(HTML(value='Epochs loop'), FloatProgress(value=0.0, max=30000.0), HTML(value='')))"
      ]
     },
     "metadata": {},
     "output_type": "display_data"
    },
    {
     "name": "stdout",
     "output_type": "stream",
     "text": [
      "\n",
      "Summary:\n",
      "-learning rate = 0.00527\n",
      "-Model saved after iteration 16500.\n",
      "-Train.  Loss=0.0056345\n",
      "-Valid.  Loss=0.0351347\n",
      "'train_loss02_70.csv' saved.\n",
      "'valid_loss02_70.csv' saved.\n",
      "'model05_forward02_70_last.pth' saved.\n",
      "'model05_forward02_70_best.pth' saved.\n",
      "- train minibatches = 1\n",
      "- valid minibatches = 1\n",
      "- test minibatches = 1\n"
     ]
    },
    {
     "data": {
      "application/vnd.jupyter.widget-view+json": {
       "model_id": "b18b4314bd0247a59294b0950e7ed290",
       "version_major": 2,
       "version_minor": 0
      },
      "text/plain": [
       "HBox(children=(HTML(value='Epochs loop'), FloatProgress(value=0.0, max=30000.0), HTML(value='')))"
      ]
     },
     "metadata": {},
     "output_type": "display_data"
    },
    {
     "name": "stdout",
     "output_type": "stream",
     "text": [
      "\n",
      "Summary:\n",
      "-learning rate = 0.00527\n",
      "-Model saved after iteration 29995.\n",
      "-Train.  Loss=0.0041144\n",
      "-Valid.  Loss=0.0149865\n",
      "'train_loss02_71.csv' saved.\n",
      "'valid_loss02_71.csv' saved.\n",
      "'model05_forward02_71_last.pth' saved.\n",
      "'model05_forward02_71_best.pth' saved.\n",
      "- train minibatches = 1\n",
      "- valid minibatches = 1\n",
      "- test minibatches = 1\n"
     ]
    },
    {
     "data": {
      "application/vnd.jupyter.widget-view+json": {
       "model_id": "22f281b80e194d37bda013a97d4c50ee",
       "version_major": 2,
       "version_minor": 0
      },
      "text/plain": [
       "HBox(children=(HTML(value='Epochs loop'), FloatProgress(value=0.0, max=30000.0), HTML(value='')))"
      ]
     },
     "metadata": {},
     "output_type": "display_data"
    },
    {
     "name": "stdout",
     "output_type": "stream",
     "text": [
      "\n",
      "Summary:\n",
      "-learning rate = 0.00527\n",
      "-Model saved after iteration 3003.\n",
      "-Train.  Loss=0.0117212\n",
      "-Valid.  Loss=0.0293070\n",
      "'train_loss02_72.csv' saved.\n",
      "'valid_loss02_72.csv' saved.\n",
      "'model05_forward02_72_last.pth' saved.\n",
      "'model05_forward02_72_best.pth' saved.\n",
      "- train minibatches = 1\n",
      "- valid minibatches = 1\n",
      "- test minibatches = 1\n"
     ]
    },
    {
     "data": {
      "application/vnd.jupyter.widget-view+json": {
       "model_id": "44f200cc179240fa899883ae16b65d0d",
       "version_major": 2,
       "version_minor": 0
      },
      "text/plain": [
       "HBox(children=(HTML(value='Epochs loop'), FloatProgress(value=0.0, max=30000.0), HTML(value='')))"
      ]
     },
     "metadata": {},
     "output_type": "display_data"
    },
    {
     "name": "stdout",
     "output_type": "stream",
     "text": [
      "\n",
      "Summary:\n",
      "-learning rate = 0.00527\n",
      "-Model saved after iteration 25052.\n",
      "-Train.  Loss=0.0041515\n",
      "-Valid.  Loss=0.0439545\n",
      "'train_loss02_73.csv' saved.\n",
      "'valid_loss02_73.csv' saved.\n",
      "'model05_forward02_73_last.pth' saved.\n",
      "'model05_forward02_73_best.pth' saved.\n",
      "- train minibatches = 1\n",
      "- valid minibatches = 1\n",
      "- test minibatches = 1\n"
     ]
    },
    {
     "data": {
      "application/vnd.jupyter.widget-view+json": {
       "model_id": "aa286979260a4b3db86bb5605f31b577",
       "version_major": 2,
       "version_minor": 0
      },
      "text/plain": [
       "HBox(children=(HTML(value='Epochs loop'), FloatProgress(value=0.0, max=30000.0), HTML(value='')))"
      ]
     },
     "metadata": {},
     "output_type": "display_data"
    },
    {
     "name": "stdout",
     "output_type": "stream",
     "text": [
      "\n",
      "Summary:\n",
      "-learning rate = 0.00527\n",
      "-Model saved after iteration 12761.\n",
      "-Train.  Loss=0.0047958\n",
      "-Valid.  Loss=0.0463628\n",
      "'train_loss02_74.csv' saved.\n",
      "'valid_loss02_74.csv' saved.\n",
      "'model05_forward02_74_last.pth' saved.\n",
      "'model05_forward02_74_best.pth' saved.\n",
      "- train minibatches = 1\n",
      "- valid minibatches = 1\n",
      "- test minibatches = 1\n"
     ]
    },
    {
     "data": {
      "application/vnd.jupyter.widget-view+json": {
       "model_id": "cc8121ebe66442529a340e257475397c",
       "version_major": 2,
       "version_minor": 0
      },
      "text/plain": [
       "HBox(children=(HTML(value='Epochs loop'), FloatProgress(value=0.0, max=30000.0), HTML(value='')))"
      ]
     },
     "metadata": {},
     "output_type": "display_data"
    },
    {
     "name": "stdout",
     "output_type": "stream",
     "text": [
      "\n",
      "Summary:\n",
      "-learning rate = 0.00527\n",
      "-Model saved after iteration 2316.\n",
      "-Train.  Loss=0.0150759\n",
      "-Valid.  Loss=0.0284883\n",
      "'train_loss02_75.csv' saved.\n",
      "'valid_loss02_75.csv' saved.\n",
      "'model05_forward02_75_last.pth' saved.\n",
      "'model05_forward02_75_best.pth' saved.\n",
      "- train minibatches = 1\n",
      "- valid minibatches = 1\n",
      "- test minibatches = 1\n"
     ]
    },
    {
     "data": {
      "application/vnd.jupyter.widget-view+json": {
       "model_id": "4b73dc6aa76f4f56af446a88df3dd031",
       "version_major": 2,
       "version_minor": 0
      },
      "text/plain": [
       "HBox(children=(HTML(value='Epochs loop'), FloatProgress(value=0.0, max=30000.0), HTML(value='')))"
      ]
     },
     "metadata": {},
     "output_type": "display_data"
    },
    {
     "name": "stdout",
     "output_type": "stream",
     "text": [
      "\n",
      "Summary:\n",
      "-learning rate = 0.00527\n",
      "-Model saved after iteration 7315.\n",
      "-Train.  Loss=0.0099619\n",
      "-Valid.  Loss=0.0219032\n",
      "'train_loss02_76.csv' saved.\n",
      "'valid_loss02_76.csv' saved.\n",
      "'model05_forward02_76_last.pth' saved.\n",
      "'model05_forward02_76_best.pth' saved.\n",
      "- train minibatches = 1\n",
      "- valid minibatches = 1\n",
      "- test minibatches = 1\n"
     ]
    },
    {
     "data": {
      "application/vnd.jupyter.widget-view+json": {
       "model_id": "344d9f41ff8d4b00a95a95026a4979f8",
       "version_major": 2,
       "version_minor": 0
      },
      "text/plain": [
       "HBox(children=(HTML(value='Epochs loop'), FloatProgress(value=0.0, max=30000.0), HTML(value='')))"
      ]
     },
     "metadata": {},
     "output_type": "display_data"
    },
    {
     "name": "stdout",
     "output_type": "stream",
     "text": [
      "\n",
      "Summary:\n",
      "-learning rate = 0.00527\n",
      "-Model saved after iteration 4097.\n",
      "-Train.  Loss=0.0082833\n",
      "-Valid.  Loss=0.0150511\n",
      "'train_loss02_77.csv' saved.\n",
      "'valid_loss02_77.csv' saved.\n",
      "'model05_forward02_77_last.pth' saved.\n",
      "'model05_forward02_77_best.pth' saved.\n",
      "- train minibatches = 1\n",
      "- valid minibatches = 1\n",
      "- test minibatches = 1\n"
     ]
    },
    {
     "data": {
      "application/vnd.jupyter.widget-view+json": {
       "model_id": "5d383f4605944974b4afbe6ed4ddef3c",
       "version_major": 2,
       "version_minor": 0
      },
      "text/plain": [
       "HBox(children=(HTML(value='Epochs loop'), FloatProgress(value=0.0, max=30000.0), HTML(value='')))"
      ]
     },
     "metadata": {},
     "output_type": "display_data"
    },
    {
     "name": "stdout",
     "output_type": "stream",
     "text": [
      "\n",
      "Summary:\n",
      "-learning rate = 0.00527\n",
      "-Model saved after iteration 29991.\n",
      "-Train.  Loss=0.0036978\n",
      "-Valid.  Loss=0.0100901\n",
      "'train_loss02_78.csv' saved.\n",
      "'valid_loss02_78.csv' saved.\n",
      "'model05_forward02_78_last.pth' saved.\n",
      "'model05_forward02_78_best.pth' saved.\n",
      "- train minibatches = 1\n",
      "- valid minibatches = 1\n",
      "- test minibatches = 1\n"
     ]
    },
    {
     "data": {
      "application/vnd.jupyter.widget-view+json": {
       "model_id": "eb342b44af2d4bcaba157b088d98828b",
       "version_major": 2,
       "version_minor": 0
      },
      "text/plain": [
       "HBox(children=(HTML(value='Epochs loop'), FloatProgress(value=0.0, max=30000.0), HTML(value='')))"
      ]
     },
     "metadata": {},
     "output_type": "display_data"
    },
    {
     "name": "stdout",
     "output_type": "stream",
     "text": [
      "\n",
      "Summary:\n",
      "-learning rate = 0.00527\n",
      "-Model saved after iteration 3224.\n",
      "-Train.  Loss=0.0100582\n",
      "-Valid.  Loss=0.0407274\n",
      "'train_loss02_79.csv' saved.\n",
      "'valid_loss02_79.csv' saved.\n",
      "'model05_forward02_79_last.pth' saved.\n",
      "'model05_forward02_79_best.pth' saved.\n",
      "- train minibatches = 1\n",
      "- valid minibatches = 1\n",
      "- test minibatches = 1\n"
     ]
    },
    {
     "data": {
      "application/vnd.jupyter.widget-view+json": {
       "model_id": "4f6dd158463649bb92105a8f56f468ef",
       "version_major": 2,
       "version_minor": 0
      },
      "text/plain": [
       "HBox(children=(HTML(value='Epochs loop'), FloatProgress(value=0.0, max=30000.0), HTML(value='')))"
      ]
     },
     "metadata": {},
     "output_type": "display_data"
    },
    {
     "name": "stdout",
     "output_type": "stream",
     "text": [
      "\n",
      "Summary:\n",
      "-learning rate = 0.00527\n",
      "-Model saved after iteration 25036.\n",
      "-Train.  Loss=0.0036810\n",
      "-Valid.  Loss=0.0184001\n",
      "'train_loss02_80.csv' saved.\n",
      "'valid_loss02_80.csv' saved.\n",
      "'model05_forward02_80_last.pth' saved.\n",
      "'model05_forward02_80_best.pth' saved.\n",
      "- train minibatches = 1\n",
      "- valid minibatches = 1\n",
      "- test minibatches = 1\n"
     ]
    },
    {
     "data": {
      "application/vnd.jupyter.widget-view+json": {
       "model_id": "e3bd304ce5ca46188d544d2ad7fa40d2",
       "version_major": 2,
       "version_minor": 0
      },
      "text/plain": [
       "HBox(children=(HTML(value='Epochs loop'), FloatProgress(value=0.0, max=30000.0), HTML(value='')))"
      ]
     },
     "metadata": {},
     "output_type": "display_data"
    },
    {
     "name": "stdout",
     "output_type": "stream",
     "text": [
      "\n",
      "Summary:\n",
      "-learning rate = 0.00527\n",
      "-Model saved after iteration 1453.\n",
      "-Train.  Loss=0.0163525\n",
      "-Valid.  Loss=0.0591055\n",
      "'train_loss02_81.csv' saved.\n",
      "'valid_loss02_81.csv' saved.\n",
      "'model05_forward02_81_last.pth' saved.\n",
      "'model05_forward02_81_best.pth' saved.\n",
      "- train minibatches = 1\n",
      "- valid minibatches = 1\n",
      "- test minibatches = 1\n"
     ]
    },
    {
     "data": {
      "application/vnd.jupyter.widget-view+json": {
       "model_id": "c2ced63820e94853a05a51856a196c03",
       "version_major": 2,
       "version_minor": 0
      },
      "text/plain": [
       "HBox(children=(HTML(value='Epochs loop'), FloatProgress(value=0.0, max=30000.0), HTML(value='')))"
      ]
     },
     "metadata": {},
     "output_type": "display_data"
    },
    {
     "name": "stdout",
     "output_type": "stream",
     "text": [
      "\n",
      "Summary:\n",
      "-learning rate = 0.00527\n",
      "-Model saved after iteration 28809.\n",
      "-Train.  Loss=0.0022018\n",
      "-Valid.  Loss=0.0460849\n",
      "'train_loss02_82.csv' saved.\n",
      "'valid_loss02_82.csv' saved.\n",
      "'model05_forward02_82_last.pth' saved.\n",
      "'model05_forward02_82_best.pth' saved.\n",
      "- train minibatches = 1\n",
      "- valid minibatches = 1\n",
      "- test minibatches = 1\n"
     ]
    },
    {
     "data": {
      "application/vnd.jupyter.widget-view+json": {
       "model_id": "c13d3ac1c9b64a74b059a6f48ec25f60",
       "version_major": 2,
       "version_minor": 0
      },
      "text/plain": [
       "HBox(children=(HTML(value='Epochs loop'), FloatProgress(value=0.0, max=30000.0), HTML(value='')))"
      ]
     },
     "metadata": {},
     "output_type": "display_data"
    },
    {
     "name": "stdout",
     "output_type": "stream",
     "text": [
      "\n",
      "Summary:\n",
      "-learning rate = 0.00527\n",
      "-Model saved after iteration 381.\n",
      "-Train.  Loss=0.0498978\n",
      "-Valid.  Loss=0.0828109\n",
      "'train_loss02_83.csv' saved.\n",
      "'valid_loss02_83.csv' saved.\n",
      "'model05_forward02_83_last.pth' saved.\n",
      "'model05_forward02_83_best.pth' saved.\n",
      "- train minibatches = 1\n",
      "- valid minibatches = 1\n",
      "- test minibatches = 1\n"
     ]
    },
    {
     "data": {
      "application/vnd.jupyter.widget-view+json": {
       "model_id": "b730d653a66b46abbbd85c5d569daa68",
       "version_major": 2,
       "version_minor": 0
      },
      "text/plain": [
       "HBox(children=(HTML(value='Epochs loop'), FloatProgress(value=0.0, max=30000.0), HTML(value='')))"
      ]
     },
     "metadata": {},
     "output_type": "display_data"
    },
    {
     "name": "stdout",
     "output_type": "stream",
     "text": [
      "\n",
      "Summary:\n",
      "-learning rate = 0.00527\n",
      "-Model saved after iteration 10839.\n",
      "-Train.  Loss=0.0063852\n",
      "-Valid.  Loss=0.0499344\n",
      "'train_loss02_84.csv' saved.\n",
      "'valid_loss02_84.csv' saved.\n",
      "'model05_forward02_84_last.pth' saved.\n",
      "'model05_forward02_84_best.pth' saved.\n",
      "- train minibatches = 1\n",
      "- valid minibatches = 1\n",
      "- test minibatches = 1\n"
     ]
    },
    {
     "data": {
      "application/vnd.jupyter.widget-view+json": {
       "model_id": "5cbd7b49f9d843588bded2813b0a35f7",
       "version_major": 2,
       "version_minor": 0
      },
      "text/plain": [
       "HBox(children=(HTML(value='Epochs loop'), FloatProgress(value=0.0, max=30000.0), HTML(value='')))"
      ]
     },
     "metadata": {},
     "output_type": "display_data"
    },
    {
     "name": "stdout",
     "output_type": "stream",
     "text": [
      "\n",
      "Summary:\n",
      "-learning rate = 0.00527\n",
      "-Model saved after iteration 29998.\n",
      "-Train.  Loss=0.0042610\n",
      "-Valid.  Loss=0.0552771\n",
      "'train_loss02_85.csv' saved.\n",
      "'valid_loss02_85.csv' saved.\n",
      "'model05_forward02_85_last.pth' saved.\n",
      "'model05_forward02_85_best.pth' saved.\n",
      "- train minibatches = 1\n",
      "- valid minibatches = 1\n",
      "- test minibatches = 1\n"
     ]
    },
    {
     "data": {
      "application/vnd.jupyter.widget-view+json": {
       "model_id": "b83e67fc46404233bf8921edd021755a",
       "version_major": 2,
       "version_minor": 0
      },
      "text/plain": [
       "HBox(children=(HTML(value='Epochs loop'), FloatProgress(value=0.0, max=30000.0), HTML(value='')))"
      ]
     },
     "metadata": {},
     "output_type": "display_data"
    },
    {
     "name": "stdout",
     "output_type": "stream",
     "text": [
      "\n",
      "Summary:\n",
      "-learning rate = 0.00527\n",
      "-Model saved after iteration 30000.\n",
      "-Train.  Loss=0.0033738\n",
      "-Valid.  Loss=0.0759216\n",
      "'train_loss02_86.csv' saved.\n",
      "'valid_loss02_86.csv' saved.\n",
      "'model05_forward02_86_last.pth' saved.\n",
      "'model05_forward02_86_best.pth' saved.\n",
      "- train minibatches = 1\n",
      "- valid minibatches = 1\n",
      "- test minibatches = 1\n"
     ]
    },
    {
     "data": {
      "application/vnd.jupyter.widget-view+json": {
       "model_id": "11fa25a8dce24a1f9d6568885f8df5dc",
       "version_major": 2,
       "version_minor": 0
      },
      "text/plain": [
       "HBox(children=(HTML(value='Epochs loop'), FloatProgress(value=0.0, max=30000.0), HTML(value='')))"
      ]
     },
     "metadata": {},
     "output_type": "display_data"
    },
    {
     "name": "stdout",
     "output_type": "stream",
     "text": [
      "\n",
      "Summary:\n",
      "-learning rate = 0.00527\n",
      "-Model saved after iteration 22307.\n",
      "-Train.  Loss=0.0037477\n",
      "-Valid.  Loss=0.0186420\n",
      "'train_loss02_87.csv' saved.\n",
      "'valid_loss02_87.csv' saved.\n",
      "'model05_forward02_87_last.pth' saved.\n",
      "'model05_forward02_87_best.pth' saved.\n",
      "- train minibatches = 1\n",
      "- valid minibatches = 1\n",
      "- test minibatches = 1\n"
     ]
    },
    {
     "data": {
      "application/vnd.jupyter.widget-view+json": {
       "model_id": "5b3a5e1ddc24466fa633d2c23488b144",
       "version_major": 2,
       "version_minor": 0
      },
      "text/plain": [
       "HBox(children=(HTML(value='Epochs loop'), FloatProgress(value=0.0, max=30000.0), HTML(value='')))"
      ]
     },
     "metadata": {},
     "output_type": "display_data"
    },
    {
     "name": "stdout",
     "output_type": "stream",
     "text": [
      "\n",
      "Summary:\n",
      "-learning rate = 0.00527\n",
      "-Model saved after iteration 12176.\n",
      "-Train.  Loss=0.0055372\n",
      "-Valid.  Loss=0.0341596\n",
      "'train_loss02_88.csv' saved.\n",
      "'valid_loss02_88.csv' saved.\n",
      "'model05_forward02_88_last.pth' saved.\n",
      "'model05_forward02_88_best.pth' saved.\n",
      "- train minibatches = 1\n",
      "- valid minibatches = 1\n",
      "- test minibatches = 1\n"
     ]
    },
    {
     "data": {
      "application/vnd.jupyter.widget-view+json": {
       "model_id": "d30f99c4882d497585f0375e882286cc",
       "version_major": 2,
       "version_minor": 0
      },
      "text/plain": [
       "HBox(children=(HTML(value='Epochs loop'), FloatProgress(value=0.0, max=30000.0), HTML(value='')))"
      ]
     },
     "metadata": {},
     "output_type": "display_data"
    },
    {
     "name": "stdout",
     "output_type": "stream",
     "text": [
      "\n",
      "Summary:\n",
      "-learning rate = 0.00527\n",
      "-Model saved after iteration 29995.\n",
      "-Train.  Loss=0.0034985\n",
      "-Valid.  Loss=0.0359670\n",
      "'train_loss02_89.csv' saved.\n",
      "'valid_loss02_89.csv' saved.\n",
      "'model05_forward02_89_last.pth' saved.\n",
      "'model05_forward02_89_best.pth' saved.\n",
      "- train minibatches = 1\n",
      "- valid minibatches = 1\n",
      "- test minibatches = 1\n"
     ]
    },
    {
     "data": {
      "application/vnd.jupyter.widget-view+json": {
       "model_id": "ca6d9f0595a94ec0911c61b8ac812c15",
       "version_major": 2,
       "version_minor": 0
      },
      "text/plain": [
       "HBox(children=(HTML(value='Epochs loop'), FloatProgress(value=0.0, max=30000.0), HTML(value='')))"
      ]
     },
     "metadata": {},
     "output_type": "display_data"
    },
    {
     "name": "stdout",
     "output_type": "stream",
     "text": [
      "\n",
      "Summary:\n",
      "-learning rate = 0.00527\n",
      "-Model saved after iteration 581.\n",
      "-Train.  Loss=0.0297358\n",
      "-Valid.  Loss=0.0598887\n",
      "'train_loss02_90.csv' saved.\n",
      "'valid_loss02_90.csv' saved.\n",
      "'model05_forward02_90_last.pth' saved.\n",
      "'model05_forward02_90_best.pth' saved.\n",
      "- train minibatches = 1\n",
      "- valid minibatches = 1\n",
      "- test minibatches = 1\n"
     ]
    },
    {
     "data": {
      "application/vnd.jupyter.widget-view+json": {
       "model_id": "872ce40b558b432795eb9a836555adb4",
       "version_major": 2,
       "version_minor": 0
      },
      "text/plain": [
       "HBox(children=(HTML(value='Epochs loop'), FloatProgress(value=0.0, max=30000.0), HTML(value='')))"
      ]
     },
     "metadata": {},
     "output_type": "display_data"
    },
    {
     "name": "stdout",
     "output_type": "stream",
     "text": [
      "\n",
      "Summary:\n",
      "-learning rate = 0.00527\n",
      "-Model saved after iteration 3800.\n",
      "-Train.  Loss=0.0112673\n",
      "-Valid.  Loss=0.0541262\n",
      "'train_loss02_91.csv' saved.\n",
      "'valid_loss02_91.csv' saved.\n",
      "'model05_forward02_91_last.pth' saved.\n",
      "'model05_forward02_91_best.pth' saved.\n",
      "- train minibatches = 1\n",
      "- valid minibatches = 1\n",
      "- test minibatches = 1\n"
     ]
    },
    {
     "data": {
      "application/vnd.jupyter.widget-view+json": {
       "model_id": "37321007db8040eab294af27fb7af72a",
       "version_major": 2,
       "version_minor": 0
      },
      "text/plain": [
       "HBox(children=(HTML(value='Epochs loop'), FloatProgress(value=0.0, max=30000.0), HTML(value='')))"
      ]
     },
     "metadata": {},
     "output_type": "display_data"
    },
    {
     "name": "stdout",
     "output_type": "stream",
     "text": [
      "\n",
      "Summary:\n",
      "-learning rate = 0.00527\n",
      "-Model saved after iteration 29998.\n",
      "-Train.  Loss=0.0047813\n",
      "-Valid.  Loss=0.0280518\n",
      "'train_loss02_92.csv' saved.\n",
      "'valid_loss02_92.csv' saved.\n",
      "'model05_forward02_92_last.pth' saved.\n",
      "'model05_forward02_92_best.pth' saved.\n",
      "- train minibatches = 1\n",
      "- valid minibatches = 1\n",
      "- test minibatches = 1\n"
     ]
    },
    {
     "data": {
      "application/vnd.jupyter.widget-view+json": {
       "model_id": "e933933a726f48a0b62aa841ae4cc74f",
       "version_major": 2,
       "version_minor": 0
      },
      "text/plain": [
       "HBox(children=(HTML(value='Epochs loop'), FloatProgress(value=0.0, max=30000.0), HTML(value='')))"
      ]
     },
     "metadata": {},
     "output_type": "display_data"
    },
    {
     "name": "stdout",
     "output_type": "stream",
     "text": [
      "\n",
      "Summary:\n",
      "-learning rate = 0.00527\n",
      "-Model saved after iteration 8106.\n",
      "-Train.  Loss=0.0067880\n",
      "-Valid.  Loss=0.0179122\n",
      "'train_loss02_93.csv' saved.\n",
      "'valid_loss02_93.csv' saved.\n",
      "'model05_forward02_93_last.pth' saved.\n",
      "'model05_forward02_93_best.pth' saved.\n",
      "- train minibatches = 1\n",
      "- valid minibatches = 1\n",
      "- test minibatches = 1\n"
     ]
    },
    {
     "data": {
      "application/vnd.jupyter.widget-view+json": {
       "model_id": "db6e7505703c426a9df2b16fe373d309",
       "version_major": 2,
       "version_minor": 0
      },
      "text/plain": [
       "HBox(children=(HTML(value='Epochs loop'), FloatProgress(value=0.0, max=30000.0), HTML(value='')))"
      ]
     },
     "metadata": {},
     "output_type": "display_data"
    },
    {
     "name": "stdout",
     "output_type": "stream",
     "text": [
      "\n",
      "Summary:\n",
      "-learning rate = 0.00527\n",
      "-Model saved after iteration 15862.\n",
      "-Train.  Loss=0.0036809\n",
      "-Valid.  Loss=0.0719128\n",
      "'train_loss02_94.csv' saved.\n",
      "'valid_loss02_94.csv' saved.\n",
      "'model05_forward02_94_last.pth' saved.\n",
      "'model05_forward02_94_best.pth' saved.\n",
      "- train minibatches = 1\n",
      "- valid minibatches = 1\n",
      "- test minibatches = 1\n"
     ]
    },
    {
     "data": {
      "application/vnd.jupyter.widget-view+json": {
       "model_id": "6ef1a849c4124333becbe632d6a0d25a",
       "version_major": 2,
       "version_minor": 0
      },
      "text/plain": [
       "HBox(children=(HTML(value='Epochs loop'), FloatProgress(value=0.0, max=30000.0), HTML(value='')))"
      ]
     },
     "metadata": {},
     "output_type": "display_data"
    },
    {
     "name": "stdout",
     "output_type": "stream",
     "text": [
      "\n",
      "Summary:\n",
      "-learning rate = 0.00527\n",
      "-Model saved after iteration 30000.\n",
      "-Train.  Loss=0.0026633\n",
      "-Valid.  Loss=0.0281397\n",
      "'train_loss02_95.csv' saved.\n",
      "'valid_loss02_95.csv' saved.\n",
      "'model05_forward02_95_last.pth' saved.\n",
      "'model05_forward02_95_best.pth' saved.\n",
      "- train minibatches = 1\n",
      "- valid minibatches = 1\n",
      "- test minibatches = 1\n"
     ]
    },
    {
     "data": {
      "application/vnd.jupyter.widget-view+json": {
       "model_id": "bda3ceb76b8c48c6a9709f46797de538",
       "version_major": 2,
       "version_minor": 0
      },
      "text/plain": [
       "HBox(children=(HTML(value='Epochs loop'), FloatProgress(value=0.0, max=30000.0), HTML(value='')))"
      ]
     },
     "metadata": {},
     "output_type": "display_data"
    },
    {
     "name": "stdout",
     "output_type": "stream",
     "text": [
      "\n",
      "Summary:\n",
      "-learning rate = 0.00527\n",
      "-Model saved after iteration 27429.\n",
      "-Train.  Loss=0.0042602\n",
      "-Valid.  Loss=0.0468470\n",
      "'train_loss02_96.csv' saved.\n",
      "'valid_loss02_96.csv' saved.\n",
      "'model05_forward02_96_last.pth' saved.\n",
      "'model05_forward02_96_best.pth' saved.\n",
      "- train minibatches = 1\n",
      "- valid minibatches = 1\n",
      "- test minibatches = 1\n"
     ]
    },
    {
     "data": {
      "application/vnd.jupyter.widget-view+json": {
       "model_id": "defaf3e8f264429cb67bfc3e653018bc",
       "version_major": 2,
       "version_minor": 0
      },
      "text/plain": [
       "HBox(children=(HTML(value='Epochs loop'), FloatProgress(value=0.0, max=30000.0), HTML(value='')))"
      ]
     },
     "metadata": {},
     "output_type": "display_data"
    },
    {
     "name": "stdout",
     "output_type": "stream",
     "text": [
      "\n",
      "Summary:\n",
      "-learning rate = 0.00527\n",
      "-Model saved after iteration 24798.\n",
      "-Train.  Loss=0.0046361\n",
      "-Valid.  Loss=0.0250596\n",
      "'train_loss02_97.csv' saved.\n",
      "'valid_loss02_97.csv' saved.\n",
      "'model05_forward02_97_last.pth' saved.\n",
      "'model05_forward02_97_best.pth' saved.\n",
      "- train minibatches = 1\n",
      "- valid minibatches = 1\n",
      "- test minibatches = 1\n"
     ]
    },
    {
     "data": {
      "application/vnd.jupyter.widget-view+json": {
       "model_id": "44be9808d62c442e8f4393fe7315e633",
       "version_major": 2,
       "version_minor": 0
      },
      "text/plain": [
       "HBox(children=(HTML(value='Epochs loop'), FloatProgress(value=0.0, max=30000.0), HTML(value='')))"
      ]
     },
     "metadata": {},
     "output_type": "display_data"
    },
    {
     "name": "stdout",
     "output_type": "stream",
     "text": [
      "\n",
      "Summary:\n",
      "-learning rate = 0.00527\n",
      "-Model saved after iteration 575.\n",
      "-Train.  Loss=0.0365034\n",
      "-Valid.  Loss=0.0434423\n",
      "'train_loss02_98.csv' saved.\n",
      "'valid_loss02_98.csv' saved.\n",
      "'model05_forward02_98_last.pth' saved.\n",
      "'model05_forward02_98_best.pth' saved.\n",
      "- train minibatches = 1\n",
      "- valid minibatches = 1\n",
      "- test minibatches = 1\n"
     ]
    },
    {
     "data": {
      "application/vnd.jupyter.widget-view+json": {
       "model_id": "a31240637cf14d51b60a63036db67dd7",
       "version_major": 2,
       "version_minor": 0
      },
      "text/plain": [
       "HBox(children=(HTML(value='Epochs loop'), FloatProgress(value=0.0, max=30000.0), HTML(value='')))"
      ]
     },
     "metadata": {},
     "output_type": "display_data"
    },
    {
     "name": "stdout",
     "output_type": "stream",
     "text": [
      "\n",
      "Summary:\n",
      "-learning rate = 0.00527\n",
      "-Model saved after iteration 24909.\n",
      "-Train.  Loss=0.0074797\n",
      "-Valid.  Loss=0.0136025\n",
      "'train_loss02_99.csv' saved.\n",
      "'valid_loss02_99.csv' saved.\n",
      "'model05_forward02_99_last.pth' saved.\n",
      "'model05_forward02_99_best.pth' saved.\n",
      "- train minibatches = 1\n",
      "- valid minibatches = 1\n",
      "- test minibatches = 1\n"
     ]
    },
    {
     "data": {
      "application/vnd.jupyter.widget-view+json": {
       "model_id": "84405d314c0d447b86780390e907a6be",
       "version_major": 2,
       "version_minor": 0
      },
      "text/plain": [
       "HBox(children=(HTML(value='Epochs loop'), FloatProgress(value=0.0, max=30000.0), HTML(value='')))"
      ]
     },
     "metadata": {},
     "output_type": "display_data"
    },
    {
     "name": "stdout",
     "output_type": "stream",
     "text": [
      "\n",
      "Summary:\n",
      "-learning rate = 0.00527\n",
      "-Model saved after iteration 22708.\n",
      "-Train.  Loss=0.0046457\n",
      "-Valid.  Loss=0.0204558\n",
      "'train_loss02_100.csv' saved.\n",
      "'valid_loss02_100.csv' saved.\n",
      "'model05_forward02_100_last.pth' saved.\n",
      "'model05_forward02_100_best.pth' saved.\n",
      "\n"
     ]
    }
   ],
   "source": [
    "# Find Accuracy, Loss +/- STD (Lockdown: path 1)\n",
    "target_idx = 1\n",
    "data_output = 'data_lockdown_05ResidentialBuilding'\n",
    "df_results = pd.DataFrame(columns=['train_mse', 'valid_mse', 'test_mse', \\\n",
    "                                   'train_r2', 'valid_r2', 'test_r2'])\n",
    "# df_results = pd.read_csv(os.path.join(data_output, 'accuracy_forward01.csv'), index_col=0)\n",
    "\n",
    "partitions = 100\n",
    "iterator = tqdm.notebook.tqdm(range(1, partitions + 1), desc='Partitions loop')\n",
    "for n in iterator:\n",
    "    X = pd.read_csv('dataset_05ResidentialBuilding/X.csv')\n",
    "    y = pd.read_csv('dataset_05ResidentialBuilding/y.csv')\n",
    "    split_data(X, y, seed1=seed1[n], seed2=seed2[n])\n",
    "\n",
    "# .normalize data sets\n",
    "    df_to_tensor()\n",
    "    normalize_data()\n",
    "    make_DataLoaders(target_idx=target_idx)\n",
    "\n",
    "# .train model (forward)\n",
    "    lr = best_lr_bward\n",
    "    layer_sizes = [5, 1]\n",
    "    epochs = 30000\n",
    "    data_out = \"data_lockdown_05ResidentialBuilding/partitions\"\n",
    "    lock_flag = False\n",
    "    features = xtrain.size(1)\n",
    "    fname = 'model05_forward02_'+str(n)\n",
    "    train_loss, valid_loss = train_model(\n",
    "                             lr, \n",
    "                             features, \n",
    "                             layer_sizes,\n",
    "                             lock_flag = lock_flag,\n",
    "                             epochs = epochs,\n",
    "                             early_stop = epochs, \n",
    "                             fname = fname)\n",
    "# .save relevant data\n",
    "    f3 = [fname+'_last.pth', fname+'_best.pth']\n",
    "    save_output(data_out, \n",
    "                'train_loss02_'+str(n)+'.csv', \n",
    "                'valid_loss02_'+str(n)+'.csv', f3)\n",
    "\n",
    "# .find MSE, R2, etc...\n",
    "    mm = MyNet(features, layer_sizes)\n",
    "    mm.load_state_dict(torch.load(os.path.join(data_out, fname+'_best.pth')))\n",
    "    mm = mm.to(device)\n",
    "    mm.eval()\n",
    "    \n",
    "    ypred = mm(xtrain)\n",
    "    mse = mean_squared_error(ytrain.detach().numpy()[:,target_idx], ypred.detach().numpy().ravel(), squared=True)\n",
    "    r2 = r2_score(ytrain.detach().numpy()[:,target_idx], ypred.detach().numpy().ravel())\n",
    "    df_results.loc[n, 'train_mse'] = mse\n",
    "    df_results.loc[n, 'train_r2']  = r2\n",
    "\n",
    "    ypred = mm(xvalid)\n",
    "    mse = mean_squared_error(yvalid.detach().numpy()[:,target_idx], ypred.detach().numpy().ravel(), squared=True)\n",
    "    r2 = r2_score(yvalid.detach().numpy()[:,target_idx], ypred.detach().numpy().ravel())\n",
    "    df_results.loc[n, 'valid_mse'] = mse\n",
    "    df_results.loc[n, 'valid_r2']  = r2\n",
    "\n",
    "    ypred = mm(xtest)\n",
    "    mse = mean_squared_error(ytest.detach().numpy()[:,target_idx], ypred.detach().numpy().ravel(), squared=True)\n",
    "    r2 = r2_score(ytest.detach().numpy()[:,target_idx], ypred.detach().numpy().ravel())\n",
    "    df_results.loc[n, 'test_mse'] = mse\n",
    "    df_results.loc[n, 'test_r2']  = r2\n",
    "\n",
    "    df_results.to_csv(os.path.join(data_output, 'accuracy05_fward02.csv'), index=True)"
   ]
  },
  {
   "cell_type": "code",
   "execution_count": 513,
   "metadata": {
    "ExecuteTime": {
     "end_time": "2021-02-25T04:39:38.001003Z",
     "start_time": "2021-02-25T01:08:58.500367Z"
    },
    "code_folding": [
     0
    ],
    "scrolled": true
   },
   "outputs": [
    {
     "data": {
      "application/vnd.jupyter.widget-view+json": {
       "model_id": "377f6900e33e486889a992a8ac47b9d5",
       "version_major": 2,
       "version_minor": 0
      },
      "text/plain": [
       "HBox(children=(HTML(value='Partitions loop'), FloatProgress(value=0.0), HTML(value='')))"
      ]
     },
     "metadata": {},
     "output_type": "display_data"
    },
    {
     "name": "stdout",
     "output_type": "stream",
     "text": [
      "- train minibatches = 1\n",
      "- valid minibatches = 1\n",
      "- test minibatches = 1\n"
     ]
    },
    {
     "data": {
      "application/vnd.jupyter.widget-view+json": {
       "model_id": "640a72a3a48143a98a4e54946a31d9ba",
       "version_major": 2,
       "version_minor": 0
      },
      "text/plain": [
       "HBox(children=(HTML(value='Epochs loop'), FloatProgress(value=0.0, max=20000.0), HTML(value='')))"
      ]
     },
     "metadata": {},
     "output_type": "display_data"
    },
    {
     "name": "stdout",
     "output_type": "stream",
     "text": [
      "\n",
      "Summary:\n",
      "-learning rate = 0.00527\n",
      "-Model saved after iteration 15644.\n",
      "-Train.  Loss=0.0133146\n",
      "-Valid.  Loss=0.0184429\n",
      "'train_loss_bward02_1.csv' saved.\n",
      "'valid_loss_bward02_1.csv' saved.\n",
      "'model05_backward02_1_best.pth' saved.\n",
      "- train minibatches = 1\n",
      "- valid minibatches = 1\n",
      "- test minibatches = 1\n"
     ]
    },
    {
     "data": {
      "application/vnd.jupyter.widget-view+json": {
       "model_id": "9e289073b6a94a84bddaecf0c8028278",
       "version_major": 2,
       "version_minor": 0
      },
      "text/plain": [
       "HBox(children=(HTML(value='Epochs loop'), FloatProgress(value=0.0, max=20000.0), HTML(value='')))"
      ]
     },
     "metadata": {},
     "output_type": "display_data"
    },
    {
     "name": "stdout",
     "output_type": "stream",
     "text": [
      "\n",
      "Summary:\n",
      "-learning rate = 0.00527\n",
      "-Model saved after iteration 14136.\n",
      "-Train.  Loss=0.0144670\n",
      "-Valid.  Loss=0.0110820\n",
      "'train_loss_bward02_2.csv' saved.\n",
      "'valid_loss_bward02_2.csv' saved.\n",
      "'model05_backward02_2_best.pth' saved.\n",
      "- train minibatches = 1\n",
      "- valid minibatches = 1\n",
      "- test minibatches = 1\n"
     ]
    },
    {
     "data": {
      "application/vnd.jupyter.widget-view+json": {
       "model_id": "7c5ab623ee644a4f93329d766c1f531e",
       "version_major": 2,
       "version_minor": 0
      },
      "text/plain": [
       "HBox(children=(HTML(value='Epochs loop'), FloatProgress(value=0.0, max=20000.0), HTML(value='')))"
      ]
     },
     "metadata": {},
     "output_type": "display_data"
    },
    {
     "name": "stdout",
     "output_type": "stream",
     "text": [
      "\n",
      "Summary:\n",
      "-learning rate = 0.00527\n",
      "-Model saved after iteration 2.\n",
      "-Train.  Loss=0.0040271\n",
      "-Valid.  Loss=0.0237503\n",
      "'train_loss_bward02_3.csv' saved.\n",
      "'valid_loss_bward02_3.csv' saved.\n",
      "'model05_backward02_3_best.pth' saved.\n",
      "- train minibatches = 1\n",
      "- valid minibatches = 1\n",
      "- test minibatches = 1\n"
     ]
    },
    {
     "data": {
      "application/vnd.jupyter.widget-view+json": {
       "model_id": "f593c5e01b9d47839cb709afcb6c6057",
       "version_major": 2,
       "version_minor": 0
      },
      "text/plain": [
       "HBox(children=(HTML(value='Epochs loop'), FloatProgress(value=0.0, max=20000.0), HTML(value='')))"
      ]
     },
     "metadata": {},
     "output_type": "display_data"
    },
    {
     "name": "stdout",
     "output_type": "stream",
     "text": [
      "\n",
      "Summary:\n",
      "-learning rate = 0.00527\n",
      "-Model saved after iteration 18286.\n",
      "-Train.  Loss=0.0180313\n",
      "-Valid.  Loss=0.0061922\n",
      "'train_loss_bward02_4.csv' saved.\n",
      "'valid_loss_bward02_4.csv' saved.\n",
      "'model05_backward02_4_best.pth' saved.\n",
      "- train minibatches = 1\n",
      "- valid minibatches = 1\n",
      "- test minibatches = 1\n"
     ]
    },
    {
     "data": {
      "application/vnd.jupyter.widget-view+json": {
       "model_id": "289ec19cd72c47a4a5f69f012fe1d446",
       "version_major": 2,
       "version_minor": 0
      },
      "text/plain": [
       "HBox(children=(HTML(value='Epochs loop'), FloatProgress(value=0.0, max=20000.0), HTML(value='')))"
      ]
     },
     "metadata": {},
     "output_type": "display_data"
    },
    {
     "name": "stdout",
     "output_type": "stream",
     "text": [
      "\n",
      "Summary:\n",
      "-learning rate = 0.00527\n",
      "-Model saved after iteration 15669.\n",
      "-Train.  Loss=0.0074347\n",
      "-Valid.  Loss=0.0571719\n",
      "'train_loss_bward02_5.csv' saved.\n",
      "'valid_loss_bward02_5.csv' saved.\n",
      "'model05_backward02_5_best.pth' saved.\n",
      "- train minibatches = 1\n",
      "- valid minibatches = 1\n",
      "- test minibatches = 1\n"
     ]
    },
    {
     "data": {
      "application/vnd.jupyter.widget-view+json": {
       "model_id": "c99dcbf04cbf47b4ad2bb63b656d6fdc",
       "version_major": 2,
       "version_minor": 0
      },
      "text/plain": [
       "HBox(children=(HTML(value='Epochs loop'), FloatProgress(value=0.0, max=20000.0), HTML(value='')))"
      ]
     },
     "metadata": {},
     "output_type": "display_data"
    },
    {
     "name": "stdout",
     "output_type": "stream",
     "text": [
      "\n",
      "Summary:\n",
      "-learning rate = 0.00527\n",
      "-Model saved after iteration 11580.\n",
      "-Train.  Loss=0.0131344\n",
      "-Valid.  Loss=0.0672312\n",
      "'train_loss_bward02_6.csv' saved.\n",
      "'valid_loss_bward02_6.csv' saved.\n",
      "'model05_backward02_6_best.pth' saved.\n",
      "- train minibatches = 1\n",
      "- valid minibatches = 1\n",
      "- test minibatches = 1\n"
     ]
    },
    {
     "data": {
      "application/vnd.jupyter.widget-view+json": {
       "model_id": "a3da660efbf445f7ba9c0e201f81e7da",
       "version_major": 2,
       "version_minor": 0
      },
      "text/plain": [
       "HBox(children=(HTML(value='Epochs loop'), FloatProgress(value=0.0, max=20000.0), HTML(value='')))"
      ]
     },
     "metadata": {},
     "output_type": "display_data"
    },
    {
     "name": "stdout",
     "output_type": "stream",
     "text": [
      "\n",
      "Summary:\n",
      "-learning rate = 0.00527\n",
      "-Model saved after iteration 5827.\n",
      "-Train.  Loss=0.0104081\n",
      "-Valid.  Loss=0.0208378\n",
      "'train_loss_bward02_7.csv' saved.\n",
      "'valid_loss_bward02_7.csv' saved.\n",
      "'model05_backward02_7_best.pth' saved.\n",
      "- train minibatches = 1\n",
      "- valid minibatches = 1\n",
      "- test minibatches = 1\n"
     ]
    },
    {
     "data": {
      "application/vnd.jupyter.widget-view+json": {
       "model_id": "cd3112718ef545978b3952e974baaa70",
       "version_major": 2,
       "version_minor": 0
      },
      "text/plain": [
       "HBox(children=(HTML(value='Epochs loop'), FloatProgress(value=0.0, max=20000.0), HTML(value='')))"
      ]
     },
     "metadata": {},
     "output_type": "display_data"
    },
    {
     "name": "stdout",
     "output_type": "stream",
     "text": [
      "\n",
      "Summary:\n",
      "-learning rate = 0.00527\n",
      "-Model saved after iteration 19144.\n",
      "-Train.  Loss=0.0158290\n",
      "-Valid.  Loss=0.0351263\n",
      "'train_loss_bward02_8.csv' saved.\n",
      "'valid_loss_bward02_8.csv' saved.\n",
      "'model05_backward02_8_best.pth' saved.\n",
      "- train minibatches = 1\n",
      "- valid minibatches = 1\n",
      "- test minibatches = 1\n"
     ]
    },
    {
     "data": {
      "application/vnd.jupyter.widget-view+json": {
       "model_id": "83f5b04124dc48979382d6aa51bb9581",
       "version_major": 2,
       "version_minor": 0
      },
      "text/plain": [
       "HBox(children=(HTML(value='Epochs loop'), FloatProgress(value=0.0, max=20000.0), HTML(value='')))"
      ]
     },
     "metadata": {},
     "output_type": "display_data"
    },
    {
     "name": "stdout",
     "output_type": "stream",
     "text": [
      "\n",
      "Summary:\n",
      "-learning rate = 0.00527\n",
      "-Model saved after iteration 342.\n",
      "-Train.  Loss=0.0050319\n",
      "-Valid.  Loss=0.0144453\n",
      "'train_loss_bward02_9.csv' saved.\n",
      "'valid_loss_bward02_9.csv' saved.\n",
      "'model05_backward02_9_best.pth' saved.\n",
      "- train minibatches = 1\n",
      "- valid minibatches = 1\n",
      "- test minibatches = 1\n"
     ]
    },
    {
     "data": {
      "application/vnd.jupyter.widget-view+json": {
       "model_id": "99da046e8bb84955aa8cb12d5373cff6",
       "version_major": 2,
       "version_minor": 0
      },
      "text/plain": [
       "HBox(children=(HTML(value='Epochs loop'), FloatProgress(value=0.0, max=20000.0), HTML(value='')))"
      ]
     },
     "metadata": {},
     "output_type": "display_data"
    },
    {
     "name": "stdout",
     "output_type": "stream",
     "text": [
      "\n",
      "Summary:\n",
      "-learning rate = 0.00527\n",
      "-Model saved after iteration 17670.\n",
      "-Train.  Loss=0.0240537\n",
      "-Valid.  Loss=0.0183365\n",
      "'train_loss_bward02_10.csv' saved.\n",
      "'valid_loss_bward02_10.csv' saved.\n",
      "'model05_backward02_10_best.pth' saved.\n",
      "- train minibatches = 1\n",
      "- valid minibatches = 1\n",
      "- test minibatches = 1\n"
     ]
    },
    {
     "data": {
      "application/vnd.jupyter.widget-view+json": {
       "model_id": "1d7df9ac883b4fcabcc1c34e6cd83b7e",
       "version_major": 2,
       "version_minor": 0
      },
      "text/plain": [
       "HBox(children=(HTML(value='Epochs loop'), FloatProgress(value=0.0, max=20000.0), HTML(value='')))"
      ]
     },
     "metadata": {},
     "output_type": "display_data"
    },
    {
     "name": "stdout",
     "output_type": "stream",
     "text": [
      "\n",
      "Summary:\n",
      "-learning rate = 0.00527\n",
      "-Model saved after iteration 13788.\n",
      "-Train.  Loss=0.0111536\n",
      "-Valid.  Loss=0.0107795\n",
      "'train_loss_bward02_11.csv' saved.\n",
      "'valid_loss_bward02_11.csv' saved.\n",
      "'model05_backward02_11_best.pth' saved.\n",
      "- train minibatches = 1\n",
      "- valid minibatches = 1\n",
      "- test minibatches = 1\n"
     ]
    },
    {
     "data": {
      "application/vnd.jupyter.widget-view+json": {
       "model_id": "17cce9729d7143f886a73a68260a2257",
       "version_major": 2,
       "version_minor": 0
      },
      "text/plain": [
       "HBox(children=(HTML(value='Epochs loop'), FloatProgress(value=0.0, max=20000.0), HTML(value='')))"
      ]
     },
     "metadata": {},
     "output_type": "display_data"
    },
    {
     "name": "stdout",
     "output_type": "stream",
     "text": [
      "\n",
      "Summary:\n",
      "-learning rate = 0.00527\n",
      "-Model saved after iteration 14917.\n",
      "-Train.  Loss=0.0088143\n",
      "-Valid.  Loss=0.0130513\n",
      "'train_loss_bward02_12.csv' saved.\n",
      "'valid_loss_bward02_12.csv' saved.\n",
      "'model05_backward02_12_best.pth' saved.\n",
      "- train minibatches = 1\n",
      "- valid minibatches = 1\n",
      "- test minibatches = 1\n"
     ]
    },
    {
     "data": {
      "application/vnd.jupyter.widget-view+json": {
       "model_id": "8204babbee7448a7b88cbc061a0fb633",
       "version_major": 2,
       "version_minor": 0
      },
      "text/plain": [
       "HBox(children=(HTML(value='Epochs loop'), FloatProgress(value=0.0, max=20000.0), HTML(value='')))"
      ]
     },
     "metadata": {},
     "output_type": "display_data"
    },
    {
     "name": "stdout",
     "output_type": "stream",
     "text": [
      "\n",
      "Summary:\n",
      "-learning rate = 0.00527\n",
      "-Model saved after iteration 1878.\n",
      "-Train.  Loss=0.0051412\n",
      "-Valid.  Loss=0.0133477\n",
      "'train_loss_bward02_13.csv' saved.\n",
      "'valid_loss_bward02_13.csv' saved.\n",
      "'model05_backward02_13_best.pth' saved.\n",
      "- train minibatches = 1\n",
      "- valid minibatches = 1\n",
      "- test minibatches = 1\n"
     ]
    },
    {
     "data": {
      "application/vnd.jupyter.widget-view+json": {
       "model_id": "05109e41a9d34c199a0959a55116fc63",
       "version_major": 2,
       "version_minor": 0
      },
      "text/plain": [
       "HBox(children=(HTML(value='Epochs loop'), FloatProgress(value=0.0, max=20000.0), HTML(value='')))"
      ]
     },
     "metadata": {},
     "output_type": "display_data"
    },
    {
     "name": "stdout",
     "output_type": "stream",
     "text": [
      "\n",
      "Summary:\n",
      "-learning rate = 0.00527\n",
      "-Model saved after iteration 1058.\n",
      "-Train.  Loss=0.0056574\n",
      "-Valid.  Loss=0.0188822\n",
      "'train_loss_bward02_14.csv' saved.\n",
      "'valid_loss_bward02_14.csv' saved.\n",
      "'model05_backward02_14_best.pth' saved.\n",
      "- train minibatches = 1\n",
      "- valid minibatches = 1\n",
      "- test minibatches = 1\n"
     ]
    },
    {
     "data": {
      "application/vnd.jupyter.widget-view+json": {
       "model_id": "dbaae9354d6b42738053f1a8587c7ff7",
       "version_major": 2,
       "version_minor": 0
      },
      "text/plain": [
       "HBox(children=(HTML(value='Epochs loop'), FloatProgress(value=0.0, max=20000.0), HTML(value='')))"
      ]
     },
     "metadata": {},
     "output_type": "display_data"
    },
    {
     "name": "stdout",
     "output_type": "stream",
     "text": [
      "\n",
      "Summary:\n",
      "-learning rate = 0.00527\n",
      "-Model saved after iteration 2151.\n",
      "-Train.  Loss=0.0060159\n",
      "-Valid.  Loss=0.0251375\n",
      "'train_loss_bward02_15.csv' saved.\n",
      "'valid_loss_bward02_15.csv' saved.\n",
      "'model05_backward02_15_best.pth' saved.\n",
      "- train minibatches = 1\n",
      "- valid minibatches = 1\n",
      "- test minibatches = 1\n"
     ]
    },
    {
     "data": {
      "application/vnd.jupyter.widget-view+json": {
       "model_id": "4fd3455360934f899f5cedd7e8e5e581",
       "version_major": 2,
       "version_minor": 0
      },
      "text/plain": [
       "HBox(children=(HTML(value='Epochs loop'), FloatProgress(value=0.0, max=20000.0), HTML(value='')))"
      ]
     },
     "metadata": {},
     "output_type": "display_data"
    },
    {
     "name": "stdout",
     "output_type": "stream",
     "text": [
      "\n",
      "Summary:\n",
      "-learning rate = 0.00527\n",
      "-Model saved after iteration 18897.\n",
      "-Train.  Loss=0.0203455\n",
      "-Valid.  Loss=0.0291898\n",
      "'train_loss_bward02_16.csv' saved.\n",
      "'valid_loss_bward02_16.csv' saved.\n",
      "'model05_backward02_16_best.pth' saved.\n",
      "- train minibatches = 1\n",
      "- valid minibatches = 1\n",
      "- test minibatches = 1\n"
     ]
    },
    {
     "data": {
      "application/vnd.jupyter.widget-view+json": {
       "model_id": "e6df2c52f8934d0996af5462a7e00a52",
       "version_major": 2,
       "version_minor": 0
      },
      "text/plain": [
       "HBox(children=(HTML(value='Epochs loop'), FloatProgress(value=0.0, max=20000.0), HTML(value='')))"
      ]
     },
     "metadata": {},
     "output_type": "display_data"
    },
    {
     "name": "stdout",
     "output_type": "stream",
     "text": [
      "\n",
      "Summary:\n",
      "-learning rate = 0.00527\n",
      "-Model saved after iteration 9517.\n",
      "-Train.  Loss=0.0063424\n",
      "-Valid.  Loss=0.0055796\n",
      "'train_loss_bward02_17.csv' saved.\n",
      "'valid_loss_bward02_17.csv' saved.\n",
      "'model05_backward02_17_best.pth' saved.\n",
      "- train minibatches = 1\n",
      "- valid minibatches = 1\n",
      "- test minibatches = 1\n"
     ]
    },
    {
     "data": {
      "application/vnd.jupyter.widget-view+json": {
       "model_id": "3a760442338f46a3b95de2384497f1a3",
       "version_major": 2,
       "version_minor": 0
      },
      "text/plain": [
       "HBox(children=(HTML(value='Epochs loop'), FloatProgress(value=0.0, max=20000.0), HTML(value='')))"
      ]
     },
     "metadata": {},
     "output_type": "display_data"
    },
    {
     "name": "stdout",
     "output_type": "stream",
     "text": [
      "\n",
      "Summary:\n",
      "-learning rate = 0.00527\n",
      "-Model saved after iteration 12079.\n",
      "-Train.  Loss=0.0110776\n",
      "-Valid.  Loss=0.0102357\n",
      "'train_loss_bward02_18.csv' saved.\n",
      "'valid_loss_bward02_18.csv' saved.\n",
      "'model05_backward02_18_best.pth' saved.\n",
      "- train minibatches = 1\n",
      "- valid minibatches = 1\n",
      "- test minibatches = 1\n"
     ]
    },
    {
     "data": {
      "application/vnd.jupyter.widget-view+json": {
       "model_id": "10be3233861c43d79ad5a71dd3dd9a00",
       "version_major": 2,
       "version_minor": 0
      },
      "text/plain": [
       "HBox(children=(HTML(value='Epochs loop'), FloatProgress(value=0.0, max=20000.0), HTML(value='')))"
      ]
     },
     "metadata": {},
     "output_type": "display_data"
    },
    {
     "name": "stdout",
     "output_type": "stream",
     "text": [
      "\n",
      "Summary:\n",
      "-learning rate = 0.00527\n",
      "-Model saved after iteration 18695.\n",
      "-Train.  Loss=0.0123995\n",
      "-Valid.  Loss=0.0490858\n",
      "'train_loss_bward02_19.csv' saved.\n",
      "'valid_loss_bward02_19.csv' saved.\n",
      "'model05_backward02_19_best.pth' saved.\n",
      "- train minibatches = 1\n",
      "- valid minibatches = 1\n",
      "- test minibatches = 1\n"
     ]
    },
    {
     "data": {
      "application/vnd.jupyter.widget-view+json": {
       "model_id": "82995b904ae34458980e44795d52ca6f",
       "version_major": 2,
       "version_minor": 0
      },
      "text/plain": [
       "HBox(children=(HTML(value='Epochs loop'), FloatProgress(value=0.0, max=20000.0), HTML(value='')))"
      ]
     },
     "metadata": {},
     "output_type": "display_data"
    },
    {
     "name": "stdout",
     "output_type": "stream",
     "text": [
      "\n",
      "Summary:\n",
      "-learning rate = 0.00527\n",
      "-Model saved after iteration 18241.\n",
      "-Train.  Loss=0.0183360\n",
      "-Valid.  Loss=0.0107522\n",
      "'train_loss_bward02_20.csv' saved.\n",
      "'valid_loss_bward02_20.csv' saved.\n",
      "'model05_backward02_20_best.pth' saved.\n",
      "- train minibatches = 1\n",
      "- valid minibatches = 1\n",
      "- test minibatches = 1\n"
     ]
    },
    {
     "data": {
      "application/vnd.jupyter.widget-view+json": {
       "model_id": "af7279d1f333456e9c431e7dc4e32635",
       "version_major": 2,
       "version_minor": 0
      },
      "text/plain": [
       "HBox(children=(HTML(value='Epochs loop'), FloatProgress(value=0.0, max=20000.0), HTML(value='')))"
      ]
     },
     "metadata": {},
     "output_type": "display_data"
    },
    {
     "name": "stdout",
     "output_type": "stream",
     "text": [
      "\n",
      "Summary:\n",
      "-learning rate = 0.00527\n",
      "-Model saved after iteration 4933.\n",
      "-Train.  Loss=0.0069689\n",
      "-Valid.  Loss=0.0397549\n",
      "'train_loss_bward02_21.csv' saved.\n",
      "'valid_loss_bward02_21.csv' saved.\n",
      "'model05_backward02_21_best.pth' saved.\n",
      "- train minibatches = 1\n",
      "- valid minibatches = 1\n",
      "- test minibatches = 1\n"
     ]
    },
    {
     "data": {
      "application/vnd.jupyter.widget-view+json": {
       "model_id": "a9f81475e6cf42ecb966e8bbe551ad9a",
       "version_major": 2,
       "version_minor": 0
      },
      "text/plain": [
       "HBox(children=(HTML(value='Epochs loop'), FloatProgress(value=0.0, max=20000.0), HTML(value='')))"
      ]
     },
     "metadata": {},
     "output_type": "display_data"
    },
    {
     "name": "stdout",
     "output_type": "stream",
     "text": [
      "\n",
      "Summary:\n",
      "-learning rate = 0.00527\n",
      "-Model saved after iteration 17753.\n",
      "-Train.  Loss=0.0175844\n",
      "-Valid.  Loss=0.0182061\n",
      "'train_loss_bward02_22.csv' saved.\n",
      "'valid_loss_bward02_22.csv' saved.\n",
      "'model05_backward02_22_best.pth' saved.\n",
      "- train minibatches = 1\n",
      "- valid minibatches = 1\n",
      "- test minibatches = 1\n"
     ]
    },
    {
     "data": {
      "application/vnd.jupyter.widget-view+json": {
       "model_id": "3935c18dea054d3f8cd1310438e4366e",
       "version_major": 2,
       "version_minor": 0
      },
      "text/plain": [
       "HBox(children=(HTML(value='Epochs loop'), FloatProgress(value=0.0, max=20000.0), HTML(value='')))"
      ]
     },
     "metadata": {},
     "output_type": "display_data"
    },
    {
     "name": "stdout",
     "output_type": "stream",
     "text": [
      "\n",
      "Summary:\n",
      "-learning rate = 0.00527\n",
      "-Model saved after iteration 11427.\n",
      "-Train.  Loss=0.0096905\n",
      "-Valid.  Loss=0.0111239\n",
      "'train_loss_bward02_23.csv' saved.\n",
      "'valid_loss_bward02_23.csv' saved.\n",
      "'model05_backward02_23_best.pth' saved.\n",
      "- train minibatches = 1\n",
      "- valid minibatches = 1\n",
      "- test minibatches = 1\n"
     ]
    },
    {
     "data": {
      "application/vnd.jupyter.widget-view+json": {
       "model_id": "1b9ad06ff4d2476088c05d7b8f8d70cb",
       "version_major": 2,
       "version_minor": 0
      },
      "text/plain": [
       "HBox(children=(HTML(value='Epochs loop'), FloatProgress(value=0.0, max=20000.0), HTML(value='')))"
      ]
     },
     "metadata": {},
     "output_type": "display_data"
    },
    {
     "name": "stdout",
     "output_type": "stream",
     "text": [
      "\n",
      "Summary:\n",
      "-learning rate = 0.00527\n",
      "-Model saved after iteration 13180.\n",
      "-Train.  Loss=0.0091108\n",
      "-Valid.  Loss=0.0132633\n",
      "'train_loss_bward02_24.csv' saved.\n",
      "'valid_loss_bward02_24.csv' saved.\n",
      "'model05_backward02_24_best.pth' saved.\n",
      "- train minibatches = 1\n",
      "- valid minibatches = 1\n",
      "- test minibatches = 1\n"
     ]
    },
    {
     "data": {
      "application/vnd.jupyter.widget-view+json": {
       "model_id": "e98730bfb6404858ac26f2695d6f4a6f",
       "version_major": 2,
       "version_minor": 0
      },
      "text/plain": [
       "HBox(children=(HTML(value='Epochs loop'), FloatProgress(value=0.0, max=20000.0), HTML(value='')))"
      ]
     },
     "metadata": {},
     "output_type": "display_data"
    },
    {
     "name": "stdout",
     "output_type": "stream",
     "text": [
      "\n",
      "Summary:\n",
      "-learning rate = 0.00527\n",
      "-Model saved after iteration 19230.\n",
      "-Train.  Loss=0.0172010\n",
      "-Valid.  Loss=0.0528113\n",
      "'train_loss_bward02_25.csv' saved.\n",
      "'valid_loss_bward02_25.csv' saved.\n",
      "'model05_backward02_25_best.pth' saved.\n",
      "- train minibatches = 1\n",
      "- valid minibatches = 1\n",
      "- test minibatches = 1\n"
     ]
    },
    {
     "data": {
      "application/vnd.jupyter.widget-view+json": {
       "model_id": "9cf3614f403e4e5299f05d470688f7d9",
       "version_major": 2,
       "version_minor": 0
      },
      "text/plain": [
       "HBox(children=(HTML(value='Epochs loop'), FloatProgress(value=0.0, max=20000.0), HTML(value='')))"
      ]
     },
     "metadata": {},
     "output_type": "display_data"
    },
    {
     "name": "stdout",
     "output_type": "stream",
     "text": [
      "\n",
      "Summary:\n",
      "-learning rate = 0.00527\n",
      "-Model saved after iteration 18320.\n",
      "-Train.  Loss=0.0152774\n",
      "-Valid.  Loss=0.0070135\n",
      "'train_loss_bward02_26.csv' saved.\n",
      "'valid_loss_bward02_26.csv' saved.\n",
      "'model05_backward02_26_best.pth' saved.\n",
      "- train minibatches = 1\n",
      "- valid minibatches = 1\n",
      "- test minibatches = 1\n"
     ]
    },
    {
     "data": {
      "application/vnd.jupyter.widget-view+json": {
       "model_id": "9a01088e18a94b61bab560d3a945c55d",
       "version_major": 2,
       "version_minor": 0
      },
      "text/plain": [
       "HBox(children=(HTML(value='Epochs loop'), FloatProgress(value=0.0, max=20000.0), HTML(value='')))"
      ]
     },
     "metadata": {},
     "output_type": "display_data"
    },
    {
     "name": "stdout",
     "output_type": "stream",
     "text": [
      "\n",
      "Summary:\n",
      "-learning rate = 0.00527\n",
      "-Model saved after iteration 16722.\n",
      "-Train.  Loss=0.0166576\n",
      "-Valid.  Loss=0.0310489\n",
      "'train_loss_bward02_27.csv' saved.\n",
      "'valid_loss_bward02_27.csv' saved.\n",
      "'model05_backward02_27_best.pth' saved.\n",
      "- train minibatches = 1\n",
      "- valid minibatches = 1\n",
      "- test minibatches = 1\n"
     ]
    },
    {
     "data": {
      "application/vnd.jupyter.widget-view+json": {
       "model_id": "5b01f103f9f742168b78921ebce2970a",
       "version_major": 2,
       "version_minor": 0
      },
      "text/plain": [
       "HBox(children=(HTML(value='Epochs loop'), FloatProgress(value=0.0, max=20000.0), HTML(value='')))"
      ]
     },
     "metadata": {},
     "output_type": "display_data"
    },
    {
     "name": "stdout",
     "output_type": "stream",
     "text": [
      "\n",
      "Summary:\n",
      "-learning rate = 0.00527\n",
      "-Model saved after iteration 16134.\n",
      "-Train.  Loss=0.0183657\n",
      "-Valid.  Loss=0.0118013\n",
      "'train_loss_bward02_28.csv' saved.\n",
      "'valid_loss_bward02_28.csv' saved.\n",
      "'model05_backward02_28_best.pth' saved.\n",
      "- train minibatches = 1\n",
      "- valid minibatches = 1\n",
      "- test minibatches = 1\n"
     ]
    },
    {
     "data": {
      "application/vnd.jupyter.widget-view+json": {
       "model_id": "0399001891e442a9a8ada1ca886daf65",
       "version_major": 2,
       "version_minor": 0
      },
      "text/plain": [
       "HBox(children=(HTML(value='Epochs loop'), FloatProgress(value=0.0, max=20000.0), HTML(value='')))"
      ]
     },
     "metadata": {},
     "output_type": "display_data"
    },
    {
     "name": "stdout",
     "output_type": "stream",
     "text": [
      "\n",
      "Summary:\n",
      "-learning rate = 0.00527\n",
      "-Model saved after iteration 18357.\n",
      "-Train.  Loss=0.0192919\n",
      "-Valid.  Loss=0.0153336\n",
      "'train_loss_bward02_29.csv' saved.\n",
      "'valid_loss_bward02_29.csv' saved.\n",
      "'model05_backward02_29_best.pth' saved.\n",
      "- train minibatches = 1\n",
      "- valid minibatches = 1\n",
      "- test minibatches = 1\n"
     ]
    },
    {
     "data": {
      "application/vnd.jupyter.widget-view+json": {
       "model_id": "16e395ee249946d899cb7bc79376a01f",
       "version_major": 2,
       "version_minor": 0
      },
      "text/plain": [
       "HBox(children=(HTML(value='Epochs loop'), FloatProgress(value=0.0, max=20000.0), HTML(value='')))"
      ]
     },
     "metadata": {},
     "output_type": "display_data"
    },
    {
     "name": "stdout",
     "output_type": "stream",
     "text": [
      "\n",
      "Summary:\n",
      "-learning rate = 0.00527\n",
      "-Model saved after iteration 14738.\n",
      "-Train.  Loss=0.0108235\n",
      "-Valid.  Loss=0.0162851\n",
      "'train_loss_bward02_30.csv' saved.\n",
      "'valid_loss_bward02_30.csv' saved.\n",
      "'model05_backward02_30_best.pth' saved.\n",
      "- train minibatches = 1\n",
      "- valid minibatches = 1\n",
      "- test minibatches = 1\n"
     ]
    },
    {
     "data": {
      "application/vnd.jupyter.widget-view+json": {
       "model_id": "2a701a851cd64961bf7c9ce4025ad7d8",
       "version_major": 2,
       "version_minor": 0
      },
      "text/plain": [
       "HBox(children=(HTML(value='Epochs loop'), FloatProgress(value=0.0, max=20000.0), HTML(value='')))"
      ]
     },
     "metadata": {},
     "output_type": "display_data"
    },
    {
     "name": "stdout",
     "output_type": "stream",
     "text": [
      "\n",
      "Summary:\n",
      "-learning rate = 0.00527\n",
      "-Model saved after iteration 14740.\n",
      "-Train.  Loss=0.0127303\n",
      "-Valid.  Loss=0.0126262\n",
      "'train_loss_bward02_31.csv' saved.\n",
      "'valid_loss_bward02_31.csv' saved.\n",
      "'model05_backward02_31_best.pth' saved.\n",
      "- train minibatches = 1\n",
      "- valid minibatches = 1\n",
      "- test minibatches = 1\n"
     ]
    },
    {
     "data": {
      "application/vnd.jupyter.widget-view+json": {
       "model_id": "abe1a1807715457e8a51779ebd4b1199",
       "version_major": 2,
       "version_minor": 0
      },
      "text/plain": [
       "HBox(children=(HTML(value='Epochs loop'), FloatProgress(value=0.0, max=20000.0), HTML(value='')))"
      ]
     },
     "metadata": {},
     "output_type": "display_data"
    },
    {
     "name": "stdout",
     "output_type": "stream",
     "text": [
      "\n",
      "Summary:\n",
      "-learning rate = 0.00527\n",
      "-Model saved after iteration 291.\n",
      "-Train.  Loss=0.0048107\n",
      "-Valid.  Loss=0.0349573\n",
      "'train_loss_bward02_32.csv' saved.\n",
      "'valid_loss_bward02_32.csv' saved.\n",
      "'model05_backward02_32_best.pth' saved.\n",
      "- train minibatches = 1\n",
      "- valid minibatches = 1\n",
      "- test minibatches = 1\n"
     ]
    },
    {
     "data": {
      "application/vnd.jupyter.widget-view+json": {
       "model_id": "56f0e4dd198a436096bb9cfd3e611896",
       "version_major": 2,
       "version_minor": 0
      },
      "text/plain": [
       "HBox(children=(HTML(value='Epochs loop'), FloatProgress(value=0.0, max=20000.0), HTML(value='')))"
      ]
     },
     "metadata": {},
     "output_type": "display_data"
    },
    {
     "name": "stdout",
     "output_type": "stream",
     "text": [
      "\n",
      "Summary:\n",
      "-learning rate = 0.00527\n",
      "-Model saved after iteration 10391.\n",
      "-Train.  Loss=0.0057968\n",
      "-Valid.  Loss=0.0120639\n",
      "'train_loss_bward02_33.csv' saved.\n",
      "'valid_loss_bward02_33.csv' saved.\n",
      "'model05_backward02_33_best.pth' saved.\n",
      "- train minibatches = 1\n",
      "- valid minibatches = 1\n",
      "- test minibatches = 1\n"
     ]
    },
    {
     "data": {
      "application/vnd.jupyter.widget-view+json": {
       "model_id": "8f275fda7d794a568b6bb3817b1b3e32",
       "version_major": 2,
       "version_minor": 0
      },
      "text/plain": [
       "HBox(children=(HTML(value='Epochs loop'), FloatProgress(value=0.0, max=20000.0), HTML(value='')))"
      ]
     },
     "metadata": {},
     "output_type": "display_data"
    },
    {
     "name": "stdout",
     "output_type": "stream",
     "text": [
      "\n",
      "Summary:\n",
      "-learning rate = 0.00527\n",
      "-Model saved after iteration 16614.\n",
      "-Train.  Loss=0.0118516\n",
      "-Valid.  Loss=0.0477389\n",
      "'train_loss_bward02_34.csv' saved.\n",
      "'valid_loss_bward02_34.csv' saved.\n",
      "'model05_backward02_34_best.pth' saved.\n",
      "- train minibatches = 1\n",
      "- valid minibatches = 1\n",
      "- test minibatches = 1\n"
     ]
    },
    {
     "data": {
      "application/vnd.jupyter.widget-view+json": {
       "model_id": "db255fafc3734590bcb1af2bfe0af17b",
       "version_major": 2,
       "version_minor": 0
      },
      "text/plain": [
       "HBox(children=(HTML(value='Epochs loop'), FloatProgress(value=0.0, max=20000.0), HTML(value='')))"
      ]
     },
     "metadata": {},
     "output_type": "display_data"
    },
    {
     "name": "stdout",
     "output_type": "stream",
     "text": [
      "\n",
      "Summary:\n",
      "-learning rate = 0.00527\n",
      "-Model saved after iteration 6318.\n",
      "-Train.  Loss=0.0074950\n",
      "-Valid.  Loss=0.0250477\n",
      "'train_loss_bward02_35.csv' saved.\n",
      "'valid_loss_bward02_35.csv' saved.\n",
      "'model05_backward02_35_best.pth' saved.\n",
      "- train minibatches = 1\n",
      "- valid minibatches = 1\n",
      "- test minibatches = 1\n"
     ]
    },
    {
     "data": {
      "application/vnd.jupyter.widget-view+json": {
       "model_id": "950670ef1869435e915f08b56fa86a01",
       "version_major": 2,
       "version_minor": 0
      },
      "text/plain": [
       "HBox(children=(HTML(value='Epochs loop'), FloatProgress(value=0.0, max=20000.0), HTML(value='')))"
      ]
     },
     "metadata": {},
     "output_type": "display_data"
    },
    {
     "name": "stdout",
     "output_type": "stream",
     "text": [
      "\n",
      "Summary:\n",
      "-learning rate = 0.00527\n",
      "-Model saved after iteration 302.\n",
      "-Train.  Loss=0.0047556\n",
      "-Valid.  Loss=0.0117217\n",
      "'train_loss_bward02_36.csv' saved.\n",
      "'valid_loss_bward02_36.csv' saved.\n",
      "'model05_backward02_36_best.pth' saved.\n",
      "- train minibatches = 1\n",
      "- valid minibatches = 1\n",
      "- test minibatches = 1\n"
     ]
    },
    {
     "data": {
      "application/vnd.jupyter.widget-view+json": {
       "model_id": "378cede49597463b87d0a1ddd62c2f04",
       "version_major": 2,
       "version_minor": 0
      },
      "text/plain": [
       "HBox(children=(HTML(value='Epochs loop'), FloatProgress(value=0.0, max=20000.0), HTML(value='')))"
      ]
     },
     "metadata": {},
     "output_type": "display_data"
    },
    {
     "name": "stdout",
     "output_type": "stream",
     "text": [
      "\n",
      "Summary:\n",
      "-learning rate = 0.00527\n",
      "-Model saved after iteration 2778.\n",
      "-Train.  Loss=0.0058822\n",
      "-Valid.  Loss=0.0097823\n",
      "'train_loss_bward02_37.csv' saved.\n",
      "'valid_loss_bward02_37.csv' saved.\n",
      "'model05_backward02_37_best.pth' saved.\n",
      "- train minibatches = 1\n",
      "- valid minibatches = 1\n",
      "- test minibatches = 1\n"
     ]
    },
    {
     "data": {
      "application/vnd.jupyter.widget-view+json": {
       "model_id": "ad9ee9fa0733407ea3b2812862dd57f2",
       "version_major": 2,
       "version_minor": 0
      },
      "text/plain": [
       "HBox(children=(HTML(value='Epochs loop'), FloatProgress(value=0.0, max=20000.0), HTML(value='')))"
      ]
     },
     "metadata": {},
     "output_type": "display_data"
    },
    {
     "name": "stdout",
     "output_type": "stream",
     "text": [
      "\n",
      "Summary:\n",
      "-learning rate = 0.00527\n",
      "-Model saved after iteration 14002.\n",
      "-Train.  Loss=0.0146530\n",
      "-Valid.  Loss=0.0091279\n",
      "'train_loss_bward02_38.csv' saved.\n",
      "'valid_loss_bward02_38.csv' saved.\n",
      "'model05_backward02_38_best.pth' saved.\n",
      "- train minibatches = 1\n",
      "- valid minibatches = 1\n",
      "- test minibatches = 1\n"
     ]
    },
    {
     "data": {
      "application/vnd.jupyter.widget-view+json": {
       "model_id": "da5c6cfbc97a4ed6af1f1ac97bd58cce",
       "version_major": 2,
       "version_minor": 0
      },
      "text/plain": [
       "HBox(children=(HTML(value='Epochs loop'), FloatProgress(value=0.0, max=20000.0), HTML(value='')))"
      ]
     },
     "metadata": {},
     "output_type": "display_data"
    },
    {
     "name": "stdout",
     "output_type": "stream",
     "text": [
      "\n",
      "Summary:\n",
      "-learning rate = 0.00527\n",
      "-Model saved after iteration 10368.\n",
      "-Train.  Loss=0.0139437\n",
      "-Valid.  Loss=0.0185253\n",
      "'train_loss_bward02_39.csv' saved.\n",
      "'valid_loss_bward02_39.csv' saved.\n",
      "'model05_backward02_39_best.pth' saved.\n",
      "- train minibatches = 1\n",
      "- valid minibatches = 1\n",
      "- test minibatches = 1\n"
     ]
    },
    {
     "data": {
      "application/vnd.jupyter.widget-view+json": {
       "model_id": "5a2a6008ad9a4830b7ab640e974200c2",
       "version_major": 2,
       "version_minor": 0
      },
      "text/plain": [
       "HBox(children=(HTML(value='Epochs loop'), FloatProgress(value=0.0, max=20000.0), HTML(value='')))"
      ]
     },
     "metadata": {},
     "output_type": "display_data"
    },
    {
     "name": "stdout",
     "output_type": "stream",
     "text": [
      "\n",
      "Summary:\n",
      "-learning rate = 0.00527\n",
      "-Model saved after iteration 13451.\n",
      "-Train.  Loss=0.0095250\n",
      "-Valid.  Loss=0.0610091\n",
      "'train_loss_bward02_40.csv' saved.\n",
      "'valid_loss_bward02_40.csv' saved.\n",
      "'model05_backward02_40_best.pth' saved.\n",
      "- train minibatches = 1\n",
      "- valid minibatches = 1\n",
      "- test minibatches = 1\n"
     ]
    },
    {
     "data": {
      "application/vnd.jupyter.widget-view+json": {
       "model_id": "40f282ce8b8948d3b918959acb51727b",
       "version_major": 2,
       "version_minor": 0
      },
      "text/plain": [
       "HBox(children=(HTML(value='Epochs loop'), FloatProgress(value=0.0, max=20000.0), HTML(value='')))"
      ]
     },
     "metadata": {},
     "output_type": "display_data"
    },
    {
     "name": "stdout",
     "output_type": "stream",
     "text": [
      "\n",
      "Summary:\n",
      "-learning rate = 0.00527\n",
      "-Model saved after iteration 4212.\n",
      "-Train.  Loss=0.0075997\n",
      "-Valid.  Loss=0.0130127\n",
      "'train_loss_bward02_41.csv' saved.\n",
      "'valid_loss_bward02_41.csv' saved.\n",
      "'model05_backward02_41_best.pth' saved.\n",
      "- train minibatches = 1\n",
      "- valid minibatches = 1\n",
      "- test minibatches = 1\n"
     ]
    },
    {
     "data": {
      "application/vnd.jupyter.widget-view+json": {
       "model_id": "f946fc49e4694a97abe68db01c279233",
       "version_major": 2,
       "version_minor": 0
      },
      "text/plain": [
       "HBox(children=(HTML(value='Epochs loop'), FloatProgress(value=0.0, max=20000.0), HTML(value='')))"
      ]
     },
     "metadata": {},
     "output_type": "display_data"
    },
    {
     "name": "stdout",
     "output_type": "stream",
     "text": [
      "\n",
      "Summary:\n",
      "-learning rate = 0.00527\n",
      "-Model saved after iteration 17447.\n",
      "-Train.  Loss=0.0122728\n",
      "-Valid.  Loss=0.0106955\n",
      "'train_loss_bward02_42.csv' saved.\n",
      "'valid_loss_bward02_42.csv' saved.\n",
      "'model05_backward02_42_best.pth' saved.\n",
      "- train minibatches = 1\n",
      "- valid minibatches = 1\n",
      "- test minibatches = 1\n"
     ]
    },
    {
     "data": {
      "application/vnd.jupyter.widget-view+json": {
       "model_id": "f6a8d5c8204a4fccacf3dc0903cc173d",
       "version_major": 2,
       "version_minor": 0
      },
      "text/plain": [
       "HBox(children=(HTML(value='Epochs loop'), FloatProgress(value=0.0, max=20000.0), HTML(value='')))"
      ]
     },
     "metadata": {},
     "output_type": "display_data"
    },
    {
     "name": "stdout",
     "output_type": "stream",
     "text": [
      "\n",
      "Summary:\n",
      "-learning rate = 0.00527\n",
      "-Model saved after iteration 8725.\n",
      "-Train.  Loss=0.0058505\n",
      "-Valid.  Loss=0.0195039\n",
      "'train_loss_bward02_43.csv' saved.\n",
      "'valid_loss_bward02_43.csv' saved.\n",
      "'model05_backward02_43_best.pth' saved.\n",
      "- train minibatches = 1\n",
      "- valid minibatches = 1\n",
      "- test minibatches = 1\n"
     ]
    },
    {
     "data": {
      "application/vnd.jupyter.widget-view+json": {
       "model_id": "258550854b5a497aad231d88a271081e",
       "version_major": 2,
       "version_minor": 0
      },
      "text/plain": [
       "HBox(children=(HTML(value='Epochs loop'), FloatProgress(value=0.0, max=20000.0), HTML(value='')))"
      ]
     },
     "metadata": {},
     "output_type": "display_data"
    },
    {
     "name": "stdout",
     "output_type": "stream",
     "text": [
      "\n",
      "Summary:\n",
      "-learning rate = 0.00527\n",
      "-Model saved after iteration 18479.\n",
      "-Train.  Loss=0.0120297\n",
      "-Valid.  Loss=0.0225600\n",
      "'train_loss_bward02_44.csv' saved.\n",
      "'valid_loss_bward02_44.csv' saved.\n",
      "'model05_backward02_44_best.pth' saved.\n",
      "- train minibatches = 1\n",
      "- valid minibatches = 1\n",
      "- test minibatches = 1\n"
     ]
    },
    {
     "data": {
      "application/vnd.jupyter.widget-view+json": {
       "model_id": "25583e4655014cbea30c2b90bbfbb965",
       "version_major": 2,
       "version_minor": 0
      },
      "text/plain": [
       "HBox(children=(HTML(value='Epochs loop'), FloatProgress(value=0.0, max=20000.0), HTML(value='')))"
      ]
     },
     "metadata": {},
     "output_type": "display_data"
    },
    {
     "name": "stdout",
     "output_type": "stream",
     "text": [
      "\n",
      "Summary:\n",
      "-learning rate = 0.00527\n",
      "-Model saved after iteration 15032.\n",
      "-Train.  Loss=0.0089900\n",
      "-Valid.  Loss=0.0111034\n",
      "'train_loss_bward02_45.csv' saved.\n",
      "'valid_loss_bward02_45.csv' saved.\n",
      "'model05_backward02_45_best.pth' saved.\n",
      "- train minibatches = 1\n",
      "- valid minibatches = 1\n",
      "- test minibatches = 1\n"
     ]
    },
    {
     "data": {
      "application/vnd.jupyter.widget-view+json": {
       "model_id": "4d0c457c004a4d43ab0981a616b20841",
       "version_major": 2,
       "version_minor": 0
      },
      "text/plain": [
       "HBox(children=(HTML(value='Epochs loop'), FloatProgress(value=0.0, max=20000.0), HTML(value='')))"
      ]
     },
     "metadata": {},
     "output_type": "display_data"
    },
    {
     "name": "stdout",
     "output_type": "stream",
     "text": [
      "\n",
      "Summary:\n",
      "-learning rate = 0.00527\n",
      "-Model saved after iteration 1702.\n",
      "-Train.  Loss=0.0045493\n",
      "-Valid.  Loss=0.0104059\n",
      "'train_loss_bward02_46.csv' saved.\n",
      "'valid_loss_bward02_46.csv' saved.\n",
      "'model05_backward02_46_best.pth' saved.\n",
      "- train minibatches = 1\n",
      "- valid minibatches = 1\n",
      "- test minibatches = 1\n"
     ]
    },
    {
     "data": {
      "application/vnd.jupyter.widget-view+json": {
       "model_id": "6469e499140c457b9d4fca46f360b8cf",
       "version_major": 2,
       "version_minor": 0
      },
      "text/plain": [
       "HBox(children=(HTML(value='Epochs loop'), FloatProgress(value=0.0, max=20000.0), HTML(value='')))"
      ]
     },
     "metadata": {},
     "output_type": "display_data"
    },
    {
     "name": "stdout",
     "output_type": "stream",
     "text": [
      "\n",
      "Summary:\n",
      "-learning rate = 0.00527\n",
      "-Model saved after iteration 6068.\n",
      "-Train.  Loss=0.0079505\n",
      "-Valid.  Loss=0.0162874\n",
      "'train_loss_bward02_47.csv' saved.\n",
      "'valid_loss_bward02_47.csv' saved.\n",
      "'model05_backward02_47_best.pth' saved.\n",
      "- train minibatches = 1\n",
      "- valid minibatches = 1\n",
      "- test minibatches = 1\n"
     ]
    },
    {
     "data": {
      "application/vnd.jupyter.widget-view+json": {
       "model_id": "4ffdee77671843b4a69cba8727529898",
       "version_major": 2,
       "version_minor": 0
      },
      "text/plain": [
       "HBox(children=(HTML(value='Epochs loop'), FloatProgress(value=0.0, max=20000.0), HTML(value='')))"
      ]
     },
     "metadata": {},
     "output_type": "display_data"
    },
    {
     "name": "stdout",
     "output_type": "stream",
     "text": [
      "\n",
      "Summary:\n",
      "-learning rate = 0.00527\n",
      "-Model saved after iteration 8242.\n",
      "-Train.  Loss=0.0097183\n",
      "-Valid.  Loss=0.0125003\n",
      "'train_loss_bward02_48.csv' saved.\n",
      "'valid_loss_bward02_48.csv' saved.\n",
      "'model05_backward02_48_best.pth' saved.\n",
      "- train minibatches = 1\n",
      "- valid minibatches = 1\n",
      "- test minibatches = 1\n"
     ]
    },
    {
     "data": {
      "application/vnd.jupyter.widget-view+json": {
       "model_id": "b4c7e956f31d4a1bac27285bfa38b3ae",
       "version_major": 2,
       "version_minor": 0
      },
      "text/plain": [
       "HBox(children=(HTML(value='Epochs loop'), FloatProgress(value=0.0, max=20000.0), HTML(value='')))"
      ]
     },
     "metadata": {},
     "output_type": "display_data"
    },
    {
     "name": "stdout",
     "output_type": "stream",
     "text": [
      "\n",
      "Summary:\n",
      "-learning rate = 0.00527\n",
      "-Model saved after iteration 14270.\n",
      "-Train.  Loss=0.0097200\n",
      "-Valid.  Loss=0.0289274\n",
      "'train_loss_bward02_49.csv' saved.\n",
      "'valid_loss_bward02_49.csv' saved.\n",
      "'model05_backward02_49_best.pth' saved.\n",
      "- train minibatches = 1\n",
      "- valid minibatches = 1\n",
      "- test minibatches = 1\n"
     ]
    },
    {
     "data": {
      "application/vnd.jupyter.widget-view+json": {
       "model_id": "243a88bc1bf5453e8443149b6f4e80e5",
       "version_major": 2,
       "version_minor": 0
      },
      "text/plain": [
       "HBox(children=(HTML(value='Epochs loop'), FloatProgress(value=0.0, max=20000.0), HTML(value='')))"
      ]
     },
     "metadata": {},
     "output_type": "display_data"
    },
    {
     "name": "stdout",
     "output_type": "stream",
     "text": [
      "\n",
      "Summary:\n",
      "-learning rate = 0.00527\n",
      "-Model saved after iteration 8859.\n",
      "-Train.  Loss=0.0070535\n",
      "-Valid.  Loss=0.0178360\n",
      "'train_loss_bward02_50.csv' saved.\n",
      "'valid_loss_bward02_50.csv' saved.\n",
      "'model05_backward02_50_best.pth' saved.\n",
      "- train minibatches = 1\n",
      "- valid minibatches = 1\n",
      "- test minibatches = 1\n"
     ]
    },
    {
     "data": {
      "application/vnd.jupyter.widget-view+json": {
       "model_id": "ba422ff155b149b1a7d76048d345b153",
       "version_major": 2,
       "version_minor": 0
      },
      "text/plain": [
       "HBox(children=(HTML(value='Epochs loop'), FloatProgress(value=0.0, max=20000.0), HTML(value='')))"
      ]
     },
     "metadata": {},
     "output_type": "display_data"
    },
    {
     "name": "stdout",
     "output_type": "stream",
     "text": [
      "\n",
      "Summary:\n",
      "-learning rate = 0.00527\n",
      "-Model saved after iteration 13783.\n",
      "-Train.  Loss=0.0122551\n",
      "-Valid.  Loss=0.0101998\n",
      "'train_loss_bward02_51.csv' saved.\n",
      "'valid_loss_bward02_51.csv' saved.\n",
      "'model05_backward02_51_best.pth' saved.\n",
      "- train minibatches = 1\n",
      "- valid minibatches = 1\n",
      "- test minibatches = 1\n"
     ]
    },
    {
     "data": {
      "application/vnd.jupyter.widget-view+json": {
       "model_id": "242fe1829c2e4d28b36b3a7157508797",
       "version_major": 2,
       "version_minor": 0
      },
      "text/plain": [
       "HBox(children=(HTML(value='Epochs loop'), FloatProgress(value=0.0, max=20000.0), HTML(value='')))"
      ]
     },
     "metadata": {},
     "output_type": "display_data"
    },
    {
     "name": "stdout",
     "output_type": "stream",
     "text": [
      "\n",
      "Summary:\n",
      "-learning rate = 0.00527\n",
      "-Model saved after iteration 1.\n",
      "-Train.  Loss=0.0044060\n",
      "-Valid.  Loss=0.0323346\n",
      "'train_loss_bward02_52.csv' saved.\n",
      "'valid_loss_bward02_52.csv' saved.\n",
      "'model05_backward02_52_best.pth' saved.\n",
      "- train minibatches = 1\n",
      "- valid minibatches = 1\n",
      "- test minibatches = 1\n"
     ]
    },
    {
     "data": {
      "application/vnd.jupyter.widget-view+json": {
       "model_id": "204bf14898984b178b794fe3b80fa061",
       "version_major": 2,
       "version_minor": 0
      },
      "text/plain": [
       "HBox(children=(HTML(value='Epochs loop'), FloatProgress(value=0.0, max=20000.0), HTML(value='')))"
      ]
     },
     "metadata": {},
     "output_type": "display_data"
    },
    {
     "name": "stdout",
     "output_type": "stream",
     "text": [
      "\n",
      "Summary:\n",
      "-learning rate = 0.00527\n",
      "-Model saved after iteration 15139.\n",
      "-Train.  Loss=0.0196645\n",
      "-Valid.  Loss=0.0390407\n",
      "'train_loss_bward02_53.csv' saved.\n",
      "'valid_loss_bward02_53.csv' saved.\n",
      "'model05_backward02_53_best.pth' saved.\n",
      "- train minibatches = 1\n",
      "- valid minibatches = 1\n",
      "- test minibatches = 1\n"
     ]
    },
    {
     "data": {
      "application/vnd.jupyter.widget-view+json": {
       "model_id": "ff7d2f474e04442f9086129f321c0526",
       "version_major": 2,
       "version_minor": 0
      },
      "text/plain": [
       "HBox(children=(HTML(value='Epochs loop'), FloatProgress(value=0.0, max=20000.0), HTML(value='')))"
      ]
     },
     "metadata": {},
     "output_type": "display_data"
    },
    {
     "name": "stdout",
     "output_type": "stream",
     "text": [
      "\n",
      "Summary:\n",
      "-learning rate = 0.00527\n",
      "-Model saved after iteration 17252.\n",
      "-Train.  Loss=0.0166394\n",
      "-Valid.  Loss=0.0105206\n",
      "'train_loss_bward02_54.csv' saved.\n",
      "'valid_loss_bward02_54.csv' saved.\n",
      "'model05_backward02_54_best.pth' saved.\n",
      "- train minibatches = 1\n",
      "- valid minibatches = 1\n",
      "- test minibatches = 1\n"
     ]
    },
    {
     "data": {
      "application/vnd.jupyter.widget-view+json": {
       "model_id": "d32f6a13b49641a989d251def8b40b45",
       "version_major": 2,
       "version_minor": 0
      },
      "text/plain": [
       "HBox(children=(HTML(value='Epochs loop'), FloatProgress(value=0.0, max=20000.0), HTML(value='')))"
      ]
     },
     "metadata": {},
     "output_type": "display_data"
    },
    {
     "name": "stdout",
     "output_type": "stream",
     "text": [
      "\n",
      "Summary:\n",
      "-learning rate = 0.00527\n",
      "-Model saved after iteration 1.\n",
      "-Train.  Loss=0.0043353\n",
      "-Valid.  Loss=0.0336164\n",
      "'train_loss_bward02_55.csv' saved.\n",
      "'valid_loss_bward02_55.csv' saved.\n",
      "'model05_backward02_55_best.pth' saved.\n",
      "- train minibatches = 1\n",
      "- valid minibatches = 1\n",
      "- test minibatches = 1\n"
     ]
    },
    {
     "data": {
      "application/vnd.jupyter.widget-view+json": {
       "model_id": "b489151f0bee4a5c91e88fc5f7b8fc08",
       "version_major": 2,
       "version_minor": 0
      },
      "text/plain": [
       "HBox(children=(HTML(value='Epochs loop'), FloatProgress(value=0.0, max=20000.0), HTML(value='')))"
      ]
     },
     "metadata": {},
     "output_type": "display_data"
    },
    {
     "name": "stdout",
     "output_type": "stream",
     "text": [
      "\n",
      "Summary:\n",
      "-learning rate = 0.00527\n",
      "-Model saved after iteration 271.\n",
      "-Train.  Loss=0.0049056\n",
      "-Valid.  Loss=0.0339488\n",
      "'train_loss_bward02_56.csv' saved.\n",
      "'valid_loss_bward02_56.csv' saved.\n",
      "'model05_backward02_56_best.pth' saved.\n",
      "- train minibatches = 1\n",
      "- valid minibatches = 1\n",
      "- test minibatches = 1\n"
     ]
    },
    {
     "data": {
      "application/vnd.jupyter.widget-view+json": {
       "model_id": "e889e74fe4b24c8ea24ed0e5d85b6069",
       "version_major": 2,
       "version_minor": 0
      },
      "text/plain": [
       "HBox(children=(HTML(value='Epochs loop'), FloatProgress(value=0.0, max=20000.0), HTML(value='')))"
      ]
     },
     "metadata": {},
     "output_type": "display_data"
    },
    {
     "name": "stdout",
     "output_type": "stream",
     "text": [
      "\n",
      "Summary:\n",
      "-learning rate = 0.00527\n",
      "-Model saved after iteration 8356.\n",
      "-Train.  Loss=0.0089372\n",
      "-Valid.  Loss=0.0435306\n",
      "'train_loss_bward02_57.csv' saved.\n",
      "'valid_loss_bward02_57.csv' saved.\n",
      "'model05_backward02_57_best.pth' saved.\n",
      "- train minibatches = 1\n",
      "- valid minibatches = 1\n",
      "- test minibatches = 1\n"
     ]
    },
    {
     "data": {
      "application/vnd.jupyter.widget-view+json": {
       "model_id": "c3e5fd1b941241b5a8ae03c6e4ae6db8",
       "version_major": 2,
       "version_minor": 0
      },
      "text/plain": [
       "HBox(children=(HTML(value='Epochs loop'), FloatProgress(value=0.0, max=20000.0), HTML(value='')))"
      ]
     },
     "metadata": {},
     "output_type": "display_data"
    },
    {
     "name": "stdout",
     "output_type": "stream",
     "text": [
      "\n",
      "Summary:\n",
      "-learning rate = 0.00527\n",
      "-Model saved after iteration 14072.\n",
      "-Train.  Loss=0.0097341\n",
      "-Valid.  Loss=0.0112034\n",
      "'train_loss_bward02_58.csv' saved.\n",
      "'valid_loss_bward02_58.csv' saved.\n",
      "'model05_backward02_58_best.pth' saved.\n",
      "- train minibatches = 1\n",
      "- valid minibatches = 1\n",
      "- test minibatches = 1\n"
     ]
    },
    {
     "data": {
      "application/vnd.jupyter.widget-view+json": {
       "model_id": "45271cab27124298bed56748108a4e60",
       "version_major": 2,
       "version_minor": 0
      },
      "text/plain": [
       "HBox(children=(HTML(value='Epochs loop'), FloatProgress(value=0.0, max=20000.0), HTML(value='')))"
      ]
     },
     "metadata": {},
     "output_type": "display_data"
    },
    {
     "name": "stdout",
     "output_type": "stream",
     "text": [
      "\n",
      "Summary:\n",
      "-learning rate = 0.00527\n",
      "-Model saved after iteration 16313.\n",
      "-Train.  Loss=0.0121812\n",
      "-Valid.  Loss=0.0144619\n",
      "'train_loss_bward02_59.csv' saved.\n",
      "'valid_loss_bward02_59.csv' saved.\n",
      "'model05_backward02_59_best.pth' saved.\n",
      "- train minibatches = 1\n",
      "- valid minibatches = 1\n",
      "- test minibatches = 1\n"
     ]
    },
    {
     "data": {
      "application/vnd.jupyter.widget-view+json": {
       "model_id": "cbc87c02d5fa43049b23fff1665a1e58",
       "version_major": 2,
       "version_minor": 0
      },
      "text/plain": [
       "HBox(children=(HTML(value='Epochs loop'), FloatProgress(value=0.0, max=20000.0), HTML(value='')))"
      ]
     },
     "metadata": {},
     "output_type": "display_data"
    },
    {
     "name": "stdout",
     "output_type": "stream",
     "text": [
      "\n",
      "Summary:\n",
      "-learning rate = 0.00527\n",
      "-Model saved after iteration 4867.\n",
      "-Train.  Loss=0.0065305\n",
      "-Valid.  Loss=0.0235357\n",
      "'train_loss_bward02_60.csv' saved.\n",
      "'valid_loss_bward02_60.csv' saved.\n",
      "'model05_backward02_60_best.pth' saved.\n",
      "- train minibatches = 1\n",
      "- valid minibatches = 1\n",
      "- test minibatches = 1\n"
     ]
    },
    {
     "data": {
      "application/vnd.jupyter.widget-view+json": {
       "model_id": "323e20216af147e5969d002d9e4fe732",
       "version_major": 2,
       "version_minor": 0
      },
      "text/plain": [
       "HBox(children=(HTML(value='Epochs loop'), FloatProgress(value=0.0, max=20000.0), HTML(value='')))"
      ]
     },
     "metadata": {},
     "output_type": "display_data"
    },
    {
     "name": "stdout",
     "output_type": "stream",
     "text": [
      "\n",
      "Summary:\n",
      "-learning rate = 0.00527\n",
      "-Model saved after iteration 18137.\n",
      "-Train.  Loss=0.0125760\n",
      "-Valid.  Loss=0.0094390\n",
      "'train_loss_bward02_61.csv' saved.\n",
      "'valid_loss_bward02_61.csv' saved.\n",
      "'model05_backward02_61_best.pth' saved.\n",
      "- train minibatches = 1\n",
      "- valid minibatches = 1\n",
      "- test minibatches = 1\n"
     ]
    },
    {
     "data": {
      "application/vnd.jupyter.widget-view+json": {
       "model_id": "afad5164856a44339a6395c1cefa4c19",
       "version_major": 2,
       "version_minor": 0
      },
      "text/plain": [
       "HBox(children=(HTML(value='Epochs loop'), FloatProgress(value=0.0, max=20000.0), HTML(value='')))"
      ]
     },
     "metadata": {},
     "output_type": "display_data"
    },
    {
     "name": "stdout",
     "output_type": "stream",
     "text": [
      "\n",
      "Summary:\n",
      "-learning rate = 0.00527\n",
      "-Model saved after iteration 937.\n",
      "-Train.  Loss=0.0050846\n",
      "-Valid.  Loss=0.0405808\n",
      "'train_loss_bward02_62.csv' saved.\n",
      "'valid_loss_bward02_62.csv' saved.\n",
      "'model05_backward02_62_best.pth' saved.\n",
      "- train minibatches = 1\n",
      "- valid minibatches = 1\n",
      "- test minibatches = 1\n"
     ]
    },
    {
     "data": {
      "application/vnd.jupyter.widget-view+json": {
       "model_id": "cbd3d6e369bf4fa9b9dca98d6e921386",
       "version_major": 2,
       "version_minor": 0
      },
      "text/plain": [
       "HBox(children=(HTML(value='Epochs loop'), FloatProgress(value=0.0, max=20000.0), HTML(value='')))"
      ]
     },
     "metadata": {},
     "output_type": "display_data"
    },
    {
     "name": "stdout",
     "output_type": "stream",
     "text": [
      "\n",
      "Summary:\n",
      "-learning rate = 0.00527\n",
      "-Model saved after iteration 2.\n",
      "-Train.  Loss=0.0042009\n",
      "-Valid.  Loss=0.0241846\n",
      "'train_loss_bward02_63.csv' saved.\n",
      "'valid_loss_bward02_63.csv' saved.\n",
      "'model05_backward02_63_best.pth' saved.\n",
      "- train minibatches = 1\n",
      "- valid minibatches = 1\n",
      "- test minibatches = 1\n"
     ]
    },
    {
     "data": {
      "application/vnd.jupyter.widget-view+json": {
       "model_id": "7334414a11134776ad757712b0fb0c4e",
       "version_major": 2,
       "version_minor": 0
      },
      "text/plain": [
       "HBox(children=(HTML(value='Epochs loop'), FloatProgress(value=0.0, max=20000.0), HTML(value='')))"
      ]
     },
     "metadata": {},
     "output_type": "display_data"
    },
    {
     "name": "stdout",
     "output_type": "stream",
     "text": [
      "\n",
      "Summary:\n",
      "-learning rate = 0.00527\n",
      "-Model saved after iteration 12981.\n",
      "-Train.  Loss=0.0074887\n",
      "-Valid.  Loss=0.0175617\n",
      "'train_loss_bward02_64.csv' saved.\n",
      "'valid_loss_bward02_64.csv' saved.\n",
      "'model05_backward02_64_best.pth' saved.\n",
      "- train minibatches = 1\n",
      "- valid minibatches = 1\n",
      "- test minibatches = 1\n"
     ]
    },
    {
     "data": {
      "application/vnd.jupyter.widget-view+json": {
       "model_id": "6bc96ed348974f10ad1617ad7c535a21",
       "version_major": 2,
       "version_minor": 0
      },
      "text/plain": [
       "HBox(children=(HTML(value='Epochs loop'), FloatProgress(value=0.0, max=20000.0), HTML(value='')))"
      ]
     },
     "metadata": {},
     "output_type": "display_data"
    },
    {
     "name": "stdout",
     "output_type": "stream",
     "text": [
      "\n",
      "Summary:\n",
      "-learning rate = 0.00527\n",
      "-Model saved after iteration 18267.\n",
      "-Train.  Loss=0.0122586\n",
      "-Valid.  Loss=0.0128200\n",
      "'train_loss_bward02_65.csv' saved.\n",
      "'valid_loss_bward02_65.csv' saved.\n",
      "'model05_backward02_65_best.pth' saved.\n",
      "- train minibatches = 1\n",
      "- valid minibatches = 1\n",
      "- test minibatches = 1\n"
     ]
    },
    {
     "data": {
      "application/vnd.jupyter.widget-view+json": {
       "model_id": "c69104bc17a7461fba362c730bec27d6",
       "version_major": 2,
       "version_minor": 0
      },
      "text/plain": [
       "HBox(children=(HTML(value='Epochs loop'), FloatProgress(value=0.0, max=20000.0), HTML(value='')))"
      ]
     },
     "metadata": {},
     "output_type": "display_data"
    },
    {
     "name": "stdout",
     "output_type": "stream",
     "text": [
      "\n",
      "Summary:\n",
      "-learning rate = 0.00527\n",
      "-Model saved after iteration 12109.\n",
      "-Train.  Loss=0.0106614\n",
      "-Valid.  Loss=0.0217875\n",
      "'train_loss_bward02_66.csv' saved.\n",
      "'valid_loss_bward02_66.csv' saved.\n",
      "'model05_backward02_66_best.pth' saved.\n",
      "- train minibatches = 1\n",
      "- valid minibatches = 1\n",
      "- test minibatches = 1\n"
     ]
    },
    {
     "data": {
      "application/vnd.jupyter.widget-view+json": {
       "model_id": "80cad397ac614fa0a77af604ea411823",
       "version_major": 2,
       "version_minor": 0
      },
      "text/plain": [
       "HBox(children=(HTML(value='Epochs loop'), FloatProgress(value=0.0, max=20000.0), HTML(value='')))"
      ]
     },
     "metadata": {},
     "output_type": "display_data"
    },
    {
     "name": "stdout",
     "output_type": "stream",
     "text": [
      "\n",
      "Summary:\n",
      "-learning rate = 0.00527\n",
      "-Model saved after iteration 12784.\n",
      "-Train.  Loss=0.0159744\n",
      "-Valid.  Loss=0.0578476\n",
      "'train_loss_bward02_67.csv' saved.\n",
      "'valid_loss_bward02_67.csv' saved.\n",
      "'model05_backward02_67_best.pth' saved.\n",
      "- train minibatches = 1\n",
      "- valid minibatches = 1\n",
      "- test minibatches = 1\n"
     ]
    },
    {
     "data": {
      "application/vnd.jupyter.widget-view+json": {
       "model_id": "2130ee33aae84572b3b1ac5672e44278",
       "version_major": 2,
       "version_minor": 0
      },
      "text/plain": [
       "HBox(children=(HTML(value='Epochs loop'), FloatProgress(value=0.0, max=20000.0), HTML(value='')))"
      ]
     },
     "metadata": {},
     "output_type": "display_data"
    },
    {
     "name": "stdout",
     "output_type": "stream",
     "text": [
      "\n",
      "Summary:\n",
      "-learning rate = 0.00527\n",
      "-Model saved after iteration 17849.\n",
      "-Train.  Loss=0.0219274\n",
      "-Valid.  Loss=0.0105397\n",
      "'train_loss_bward02_68.csv' saved.\n",
      "'valid_loss_bward02_68.csv' saved.\n",
      "'model05_backward02_68_best.pth' saved.\n",
      "- train minibatches = 1\n",
      "- valid minibatches = 1\n",
      "- test minibatches = 1\n"
     ]
    },
    {
     "data": {
      "application/vnd.jupyter.widget-view+json": {
       "model_id": "75875880da814346aff5410ccfeab36e",
       "version_major": 2,
       "version_minor": 0
      },
      "text/plain": [
       "HBox(children=(HTML(value='Epochs loop'), FloatProgress(value=0.0, max=20000.0), HTML(value='')))"
      ]
     },
     "metadata": {},
     "output_type": "display_data"
    },
    {
     "name": "stdout",
     "output_type": "stream",
     "text": [
      "\n",
      "Summary:\n",
      "-learning rate = 0.00527\n",
      "-Model saved after iteration 19039.\n",
      "-Train.  Loss=0.0190218\n",
      "-Valid.  Loss=0.0115437\n",
      "'train_loss_bward02_69.csv' saved.\n",
      "'valid_loss_bward02_69.csv' saved.\n",
      "'model05_backward02_69_best.pth' saved.\n",
      "- train minibatches = 1\n",
      "- valid minibatches = 1\n",
      "- test minibatches = 1\n"
     ]
    },
    {
     "data": {
      "application/vnd.jupyter.widget-view+json": {
       "model_id": "7ed9178b449e4e38935a8c0bb1d44355",
       "version_major": 2,
       "version_minor": 0
      },
      "text/plain": [
       "HBox(children=(HTML(value='Epochs loop'), FloatProgress(value=0.0, max=20000.0), HTML(value='')))"
      ]
     },
     "metadata": {},
     "output_type": "display_data"
    },
    {
     "name": "stdout",
     "output_type": "stream",
     "text": [
      "\n",
      "Summary:\n",
      "-learning rate = 0.00527\n",
      "-Model saved after iteration 16699.\n",
      "-Train.  Loss=0.0158427\n",
      "-Valid.  Loss=0.0200984\n",
      "'train_loss_bward02_70.csv' saved.\n",
      "'valid_loss_bward02_70.csv' saved.\n",
      "'model05_backward02_70_best.pth' saved.\n",
      "- train minibatches = 1\n",
      "- valid minibatches = 1\n",
      "- test minibatches = 1\n"
     ]
    },
    {
     "data": {
      "application/vnd.jupyter.widget-view+json": {
       "model_id": "8d5c01ee407042f3823566878d85ded1",
       "version_major": 2,
       "version_minor": 0
      },
      "text/plain": [
       "HBox(children=(HTML(value='Epochs loop'), FloatProgress(value=0.0, max=20000.0), HTML(value='')))"
      ]
     },
     "metadata": {},
     "output_type": "display_data"
    },
    {
     "name": "stdout",
     "output_type": "stream",
     "text": [
      "\n",
      "Summary:\n",
      "-learning rate = 0.00527\n",
      "-Model saved after iteration 1298.\n",
      "-Train.  Loss=0.0056360\n",
      "-Valid.  Loss=0.0148328\n",
      "'train_loss_bward02_71.csv' saved.\n",
      "'valid_loss_bward02_71.csv' saved.\n",
      "'model05_backward02_71_best.pth' saved.\n",
      "- train minibatches = 1\n",
      "- valid minibatches = 1\n",
      "- test minibatches = 1\n"
     ]
    },
    {
     "data": {
      "application/vnd.jupyter.widget-view+json": {
       "model_id": "341b780e7d074e83aaf0d0cab7f88c82",
       "version_major": 2,
       "version_minor": 0
      },
      "text/plain": [
       "HBox(children=(HTML(value='Epochs loop'), FloatProgress(value=0.0, max=20000.0), HTML(value='')))"
      ]
     },
     "metadata": {},
     "output_type": "display_data"
    },
    {
     "name": "stdout",
     "output_type": "stream",
     "text": [
      "\n",
      "Summary:\n",
      "-learning rate = 0.00527\n",
      "-Model saved after iteration 14555.\n",
      "-Train.  Loss=0.0143641\n",
      "-Valid.  Loss=0.0266772\n",
      "'train_loss_bward02_72.csv' saved.\n",
      "'valid_loss_bward02_72.csv' saved.\n",
      "'model05_backward02_72_best.pth' saved.\n",
      "- train minibatches = 1\n",
      "- valid minibatches = 1\n",
      "- test minibatches = 1\n"
     ]
    },
    {
     "data": {
      "application/vnd.jupyter.widget-view+json": {
       "model_id": "f8448ce4f3a0481c9865a842ed48fa24",
       "version_major": 2,
       "version_minor": 0
      },
      "text/plain": [
       "HBox(children=(HTML(value='Epochs loop'), FloatProgress(value=0.0, max=20000.0), HTML(value='')))"
      ]
     },
     "metadata": {},
     "output_type": "display_data"
    },
    {
     "name": "stdout",
     "output_type": "stream",
     "text": [
      "\n",
      "Summary:\n",
      "-learning rate = 0.00527\n",
      "-Model saved after iteration 36.\n",
      "-Train.  Loss=0.0044064\n",
      "-Valid.  Loss=0.0428313\n",
      "'train_loss_bward02_73.csv' saved.\n",
      "'valid_loss_bward02_73.csv' saved.\n",
      "'model05_backward02_73_best.pth' saved.\n",
      "- train minibatches = 1\n",
      "- valid minibatches = 1\n",
      "- test minibatches = 1\n"
     ]
    },
    {
     "data": {
      "application/vnd.jupyter.widget-view+json": {
       "model_id": "f1a627013ee44cfdbf50ff3b416e834e",
       "version_major": 2,
       "version_minor": 0
      },
      "text/plain": [
       "HBox(children=(HTML(value='Epochs loop'), FloatProgress(value=0.0, max=20000.0), HTML(value='')))"
      ]
     },
     "metadata": {},
     "output_type": "display_data"
    },
    {
     "name": "stdout",
     "output_type": "stream",
     "text": [
      "\n",
      "Summary:\n",
      "-learning rate = 0.00527\n",
      "-Model saved after iteration 13973.\n",
      "-Train.  Loss=0.0108357\n",
      "-Valid.  Loss=0.0329148\n",
      "'train_loss_bward02_74.csv' saved.\n",
      "'valid_loss_bward02_74.csv' saved.\n",
      "'model05_backward02_74_best.pth' saved.\n",
      "- train minibatches = 1\n",
      "- valid minibatches = 1\n",
      "- test minibatches = 1\n"
     ]
    },
    {
     "data": {
      "application/vnd.jupyter.widget-view+json": {
       "model_id": "67cbc493bb68414d8ffce182e109db26",
       "version_major": 2,
       "version_minor": 0
      },
      "text/plain": [
       "HBox(children=(HTML(value='Epochs loop'), FloatProgress(value=0.0, max=20000.0), HTML(value='')))"
      ]
     },
     "metadata": {},
     "output_type": "display_data"
    },
    {
     "name": "stdout",
     "output_type": "stream",
     "text": [
      "\n",
      "Summary:\n",
      "-learning rate = 0.00527\n",
      "-Model saved after iteration 11120.\n",
      "-Train.  Loss=0.0101646\n",
      "-Valid.  Loss=0.0207313\n",
      "'train_loss_bward02_75.csv' saved.\n",
      "'valid_loss_bward02_75.csv' saved.\n",
      "'model05_backward02_75_best.pth' saved.\n",
      "- train minibatches = 1\n",
      "- valid minibatches = 1\n",
      "- test minibatches = 1\n"
     ]
    },
    {
     "data": {
      "application/vnd.jupyter.widget-view+json": {
       "model_id": "b46379ad1b6d4849aafb4f75f3114f99",
       "version_major": 2,
       "version_minor": 0
      },
      "text/plain": [
       "HBox(children=(HTML(value='Epochs loop'), FloatProgress(value=0.0, max=20000.0), HTML(value='')))"
      ]
     },
     "metadata": {},
     "output_type": "display_data"
    },
    {
     "name": "stdout",
     "output_type": "stream",
     "text": [
      "\n",
      "Summary:\n",
      "-learning rate = 0.00527\n",
      "-Model saved after iteration 18264.\n",
      "-Train.  Loss=0.0188601\n",
      "-Valid.  Loss=0.0211050\n",
      "'train_loss_bward02_76.csv' saved.\n",
      "'valid_loss_bward02_76.csv' saved.\n",
      "'model05_backward02_76_best.pth' saved.\n",
      "- train minibatches = 1\n",
      "- valid minibatches = 1\n",
      "- test minibatches = 1\n"
     ]
    },
    {
     "data": {
      "application/vnd.jupyter.widget-view+json": {
       "model_id": "71986ca32d8c44c89409108e7669a35f",
       "version_major": 2,
       "version_minor": 0
      },
      "text/plain": [
       "HBox(children=(HTML(value='Epochs loop'), FloatProgress(value=0.0, max=20000.0), HTML(value='')))"
      ]
     },
     "metadata": {},
     "output_type": "display_data"
    },
    {
     "name": "stdout",
     "output_type": "stream",
     "text": [
      "\n",
      "Summary:\n",
      "-learning rate = 0.00527\n",
      "-Model saved after iteration 15437.\n",
      "-Train.  Loss=0.0147454\n",
      "-Valid.  Loss=0.0100571\n",
      "'train_loss_bward02_77.csv' saved.\n",
      "'valid_loss_bward02_77.csv' saved.\n",
      "'model05_backward02_77_best.pth' saved.\n",
      "- train minibatches = 1\n",
      "- valid minibatches = 1\n",
      "- test minibatches = 1\n"
     ]
    },
    {
     "data": {
      "application/vnd.jupyter.widget-view+json": {
       "model_id": "641084989fd347588b2ebf2b3fd3f382",
       "version_major": 2,
       "version_minor": 0
      },
      "text/plain": [
       "HBox(children=(HTML(value='Epochs loop'), FloatProgress(value=0.0, max=20000.0), HTML(value='')))"
      ]
     },
     "metadata": {},
     "output_type": "display_data"
    },
    {
     "name": "stdout",
     "output_type": "stream",
     "text": [
      "\n",
      "Summary:\n",
      "-learning rate = 0.00527\n",
      "-Model saved after iteration 13883.\n",
      "-Train.  Loss=0.0106080\n",
      "-Valid.  Loss=0.0079432\n",
      "'train_loss_bward02_78.csv' saved.\n",
      "'valid_loss_bward02_78.csv' saved.\n",
      "'model05_backward02_78_best.pth' saved.\n",
      "- train minibatches = 1\n",
      "- valid minibatches = 1\n",
      "- test minibatches = 1\n"
     ]
    },
    {
     "data": {
      "application/vnd.jupyter.widget-view+json": {
       "model_id": "113edc2efd7f459b90b882bc15fc35a0",
       "version_major": 2,
       "version_minor": 0
      },
      "text/plain": [
       "HBox(children=(HTML(value='Epochs loop'), FloatProgress(value=0.0, max=20000.0), HTML(value='')))"
      ]
     },
     "metadata": {},
     "output_type": "display_data"
    },
    {
     "name": "stdout",
     "output_type": "stream",
     "text": [
      "\n",
      "Summary:\n",
      "-learning rate = 0.00527\n",
      "-Model saved after iteration 3.\n",
      "-Train.  Loss=0.0029944\n",
      "-Valid.  Loss=0.0449117\n",
      "'train_loss_bward02_79.csv' saved.\n",
      "'valid_loss_bward02_79.csv' saved.\n",
      "'model05_backward02_79_best.pth' saved.\n",
      "- train minibatches = 1\n",
      "- valid minibatches = 1\n",
      "- test minibatches = 1\n"
     ]
    },
    {
     "data": {
      "application/vnd.jupyter.widget-view+json": {
       "model_id": "1633b01914de4ecc9df4c8db2c15d3f1",
       "version_major": 2,
       "version_minor": 0
      },
      "text/plain": [
       "HBox(children=(HTML(value='Epochs loop'), FloatProgress(value=0.0, max=20000.0), HTML(value='')))"
      ]
     },
     "metadata": {},
     "output_type": "display_data"
    },
    {
     "name": "stdout",
     "output_type": "stream",
     "text": [
      "\n",
      "Summary:\n",
      "-learning rate = 0.00527\n",
      "-Model saved after iteration 11721.\n",
      "-Train.  Loss=0.0090252\n",
      "-Valid.  Loss=0.0110954\n",
      "'train_loss_bward02_80.csv' saved.\n",
      "'valid_loss_bward02_80.csv' saved.\n",
      "'model05_backward02_80_best.pth' saved.\n",
      "- train minibatches = 1\n",
      "- valid minibatches = 1\n",
      "- test minibatches = 1\n"
     ]
    },
    {
     "data": {
      "application/vnd.jupyter.widget-view+json": {
       "model_id": "92b7451fa99f4cbd8d87b2b834a012d1",
       "version_major": 2,
       "version_minor": 0
      },
      "text/plain": [
       "HBox(children=(HTML(value='Epochs loop'), FloatProgress(value=0.0, max=20000.0), HTML(value='')))"
      ]
     },
     "metadata": {},
     "output_type": "display_data"
    },
    {
     "name": "stdout",
     "output_type": "stream",
     "text": [
      "\n",
      "Summary:\n",
      "-learning rate = 0.00527\n",
      "-Model saved after iteration 11802.\n",
      "-Train.  Loss=0.0125844\n",
      "-Valid.  Loss=0.0393015\n",
      "'train_loss_bward02_81.csv' saved.\n",
      "'valid_loss_bward02_81.csv' saved.\n",
      "'model05_backward02_81_best.pth' saved.\n",
      "- train minibatches = 1\n",
      "- valid minibatches = 1\n",
      "- test minibatches = 1\n"
     ]
    },
    {
     "data": {
      "application/vnd.jupyter.widget-view+json": {
       "model_id": "213b13d3cf224950ac5dc86716f915c2",
       "version_major": 2,
       "version_minor": 0
      },
      "text/plain": [
       "HBox(children=(HTML(value='Epochs loop'), FloatProgress(value=0.0, max=20000.0), HTML(value='')))"
      ]
     },
     "metadata": {},
     "output_type": "display_data"
    },
    {
     "name": "stdout",
     "output_type": "stream",
     "text": [
      "\n",
      "Summary:\n",
      "-learning rate = 0.00527\n",
      "-Model saved after iteration 15259.\n",
      "-Train.  Loss=0.0121385\n",
      "-Valid.  Loss=0.0369866\n",
      "'train_loss_bward02_82.csv' saved.\n",
      "'valid_loss_bward02_82.csv' saved.\n",
      "'model05_backward02_82_best.pth' saved.\n",
      "- train minibatches = 1\n",
      "- valid minibatches = 1\n",
      "- test minibatches = 1\n"
     ]
    },
    {
     "data": {
      "application/vnd.jupyter.widget-view+json": {
       "model_id": "541d4e7d13044eaaaa9599d6d2eeca6f",
       "version_major": 2,
       "version_minor": 0
      },
      "text/plain": [
       "HBox(children=(HTML(value='Epochs loop'), FloatProgress(value=0.0, max=20000.0), HTML(value='')))"
      ]
     },
     "metadata": {},
     "output_type": "display_data"
    },
    {
     "name": "stdout",
     "output_type": "stream",
     "text": [
      "\n",
      "Summary:\n",
      "-learning rate = 0.00527\n",
      "-Model saved after iteration 17593.\n",
      "-Train.  Loss=0.0168200\n",
      "-Valid.  Loss=0.0174798\n",
      "'train_loss_bward02_83.csv' saved.\n",
      "'valid_loss_bward02_83.csv' saved.\n",
      "'model05_backward02_83_best.pth' saved.\n",
      "- train minibatches = 1\n",
      "- valid minibatches = 1\n",
      "- test minibatches = 1\n"
     ]
    },
    {
     "data": {
      "application/vnd.jupyter.widget-view+json": {
       "model_id": "a1b7f8ff0b8e4a53b89c817876ac3947",
       "version_major": 2,
       "version_minor": 0
      },
      "text/plain": [
       "HBox(children=(HTML(value='Epochs loop'), FloatProgress(value=0.0, max=20000.0), HTML(value='')))"
      ]
     },
     "metadata": {},
     "output_type": "display_data"
    },
    {
     "name": "stdout",
     "output_type": "stream",
     "text": [
      "\n",
      "Summary:\n",
      "-learning rate = 0.00527\n",
      "-Model saved after iteration 17430.\n",
      "-Train.  Loss=0.0130724\n",
      "-Valid.  Loss=0.0383136\n",
      "'train_loss_bward02_84.csv' saved.\n",
      "'valid_loss_bward02_84.csv' saved.\n",
      "'model05_backward02_84_best.pth' saved.\n",
      "- train minibatches = 1\n",
      "- valid minibatches = 1\n",
      "- test minibatches = 1\n"
     ]
    },
    {
     "data": {
      "application/vnd.jupyter.widget-view+json": {
       "model_id": "fba4fe24ce8f46a39cfc9c2268999d8f",
       "version_major": 2,
       "version_minor": 0
      },
      "text/plain": [
       "HBox(children=(HTML(value='Epochs loop'), FloatProgress(value=0.0, max=20000.0), HTML(value='')))"
      ]
     },
     "metadata": {},
     "output_type": "display_data"
    },
    {
     "name": "stdout",
     "output_type": "stream",
     "text": [
      "\n",
      "Summary:\n",
      "-learning rate = 0.00527\n",
      "-Model saved after iteration 13173.\n",
      "-Train.  Loss=0.0073569\n",
      "-Valid.  Loss=0.0372657\n",
      "'train_loss_bward02_85.csv' saved.\n",
      "'valid_loss_bward02_85.csv' saved.\n",
      "'model05_backward02_85_best.pth' saved.\n",
      "- train minibatches = 1\n",
      "- valid minibatches = 1\n",
      "- test minibatches = 1\n"
     ]
    },
    {
     "data": {
      "application/vnd.jupyter.widget-view+json": {
       "model_id": "96c544c6d21c4fafb8d2ea16be42de44",
       "version_major": 2,
       "version_minor": 0
      },
      "text/plain": [
       "HBox(children=(HTML(value='Epochs loop'), FloatProgress(value=0.0, max=20000.0), HTML(value='')))"
      ]
     },
     "metadata": {},
     "output_type": "display_data"
    },
    {
     "name": "stdout",
     "output_type": "stream",
     "text": [
      "\n",
      "Summary:\n",
      "-learning rate = 0.00527\n",
      "-Model saved after iteration 19122.\n",
      "-Train.  Loss=0.0176355\n",
      "-Valid.  Loss=0.0218870\n",
      "'train_loss_bward02_86.csv' saved.\n",
      "'valid_loss_bward02_86.csv' saved.\n",
      "'model05_backward02_86_best.pth' saved.\n",
      "- train minibatches = 1\n",
      "- valid minibatches = 1\n",
      "- test minibatches = 1\n"
     ]
    },
    {
     "data": {
      "application/vnd.jupyter.widget-view+json": {
       "model_id": "1be3ce53659f40cf8533d085a02de32b",
       "version_major": 2,
       "version_minor": 0
      },
      "text/plain": [
       "HBox(children=(HTML(value='Epochs loop'), FloatProgress(value=0.0, max=20000.0), HTML(value='')))"
      ]
     },
     "metadata": {},
     "output_type": "display_data"
    },
    {
     "name": "stdout",
     "output_type": "stream",
     "text": [
      "\n",
      "Summary:\n",
      "-learning rate = 0.00527\n",
      "-Model saved after iteration 11443.\n",
      "-Train.  Loss=0.0068946\n",
      "-Valid.  Loss=0.0148817\n",
      "'train_loss_bward02_87.csv' saved.\n",
      "'valid_loss_bward02_87.csv' saved.\n",
      "'model05_backward02_87_best.pth' saved.\n",
      "- train minibatches = 1\n",
      "- valid minibatches = 1\n",
      "- test minibatches = 1\n"
     ]
    },
    {
     "data": {
      "application/vnd.jupyter.widget-view+json": {
       "model_id": "9976c6c209084355bc197b80e1449fab",
       "version_major": 2,
       "version_minor": 0
      },
      "text/plain": [
       "HBox(children=(HTML(value='Epochs loop'), FloatProgress(value=0.0, max=20000.0), HTML(value='')))"
      ]
     },
     "metadata": {},
     "output_type": "display_data"
    },
    {
     "name": "stdout",
     "output_type": "stream",
     "text": [
      "\n",
      "Summary:\n",
      "-learning rate = 0.00527\n",
      "-Model saved after iteration 14249.\n",
      "-Train.  Loss=0.0153290\n",
      "-Valid.  Loss=0.0224637\n",
      "'train_loss_bward02_88.csv' saved.\n",
      "'valid_loss_bward02_88.csv' saved.\n",
      "'model05_backward02_88_best.pth' saved.\n",
      "- train minibatches = 1\n",
      "- valid minibatches = 1\n",
      "- test minibatches = 1\n"
     ]
    },
    {
     "data": {
      "application/vnd.jupyter.widget-view+json": {
       "model_id": "f2c332b96d07442a82eb262dbabc1d81",
       "version_major": 2,
       "version_minor": 0
      },
      "text/plain": [
       "HBox(children=(HTML(value='Epochs loop'), FloatProgress(value=0.0, max=20000.0), HTML(value='')))"
      ]
     },
     "metadata": {},
     "output_type": "display_data"
    },
    {
     "name": "stdout",
     "output_type": "stream",
     "text": [
      "\n",
      "Summary:\n",
      "-learning rate = 0.00527\n",
      "-Model saved after iteration 2439.\n",
      "-Train.  Loss=0.0049511\n",
      "-Valid.  Loss=0.0349734\n",
      "'train_loss_bward02_89.csv' saved.\n",
      "'valid_loss_bward02_89.csv' saved.\n",
      "'model05_backward02_89_best.pth' saved.\n",
      "- train minibatches = 1\n",
      "- valid minibatches = 1\n",
      "- test minibatches = 1\n"
     ]
    },
    {
     "data": {
      "application/vnd.jupyter.widget-view+json": {
       "model_id": "473943c5e0604745aa788f9fa78cc89e",
       "version_major": 2,
       "version_minor": 0
      },
      "text/plain": [
       "HBox(children=(HTML(value='Epochs loop'), FloatProgress(value=0.0, max=20000.0), HTML(value='')))"
      ]
     },
     "metadata": {},
     "output_type": "display_data"
    },
    {
     "name": "stdout",
     "output_type": "stream",
     "text": [
      "\n",
      "Summary:\n",
      "-learning rate = 0.00527\n",
      "-Model saved after iteration 19359.\n",
      "-Train.  Loss=0.0429474\n",
      "-Valid.  Loss=0.0332515\n",
      "'train_loss_bward02_90.csv' saved.\n",
      "'valid_loss_bward02_90.csv' saved.\n",
      "'model05_backward02_90_best.pth' saved.\n",
      "- train minibatches = 1\n",
      "- valid minibatches = 1\n",
      "- test minibatches = 1\n"
     ]
    },
    {
     "data": {
      "application/vnd.jupyter.widget-view+json": {
       "model_id": "18507ff79d194245ad2d963fdfb4233c",
       "version_major": 2,
       "version_minor": 0
      },
      "text/plain": [
       "HBox(children=(HTML(value='Epochs loop'), FloatProgress(value=0.0, max=20000.0), HTML(value='')))"
      ]
     },
     "metadata": {},
     "output_type": "display_data"
    },
    {
     "name": "stdout",
     "output_type": "stream",
     "text": [
      "\n",
      "Summary:\n",
      "-learning rate = 0.00527\n",
      "-Model saved after iteration 18093.\n",
      "-Train.  Loss=0.0108732\n",
      "-Valid.  Loss=0.0224558\n",
      "'train_loss_bward02_91.csv' saved.\n",
      "'valid_loss_bward02_91.csv' saved.\n",
      "'model05_backward02_91_best.pth' saved.\n",
      "- train minibatches = 1\n",
      "- valid minibatches = 1\n",
      "- test minibatches = 1\n"
     ]
    },
    {
     "data": {
      "application/vnd.jupyter.widget-view+json": {
       "model_id": "645ca593f6564035b0aa2a1789c11d01",
       "version_major": 2,
       "version_minor": 0
      },
      "text/plain": [
       "HBox(children=(HTML(value='Epochs loop'), FloatProgress(value=0.0, max=20000.0), HTML(value='')))"
      ]
     },
     "metadata": {},
     "output_type": "display_data"
    },
    {
     "name": "stdout",
     "output_type": "stream",
     "text": [
      "\n",
      "Summary:\n",
      "-learning rate = 0.00527\n",
      "-Model saved after iteration 2.\n",
      "-Train.  Loss=0.0048241\n",
      "-Valid.  Loss=0.0278398\n",
      "'train_loss_bward02_92.csv' saved.\n",
      "'valid_loss_bward02_92.csv' saved.\n",
      "'model05_backward02_92_best.pth' saved.\n",
      "- train minibatches = 1\n",
      "- valid minibatches = 1\n",
      "- test minibatches = 1\n"
     ]
    },
    {
     "data": {
      "application/vnd.jupyter.widget-view+json": {
       "model_id": "85c22c2444c843c3ab7781d21a9f553c",
       "version_major": 2,
       "version_minor": 0
      },
      "text/plain": [
       "HBox(children=(HTML(value='Epochs loop'), FloatProgress(value=0.0, max=20000.0), HTML(value='')))"
      ]
     },
     "metadata": {},
     "output_type": "display_data"
    },
    {
     "name": "stdout",
     "output_type": "stream",
     "text": [
      "\n",
      "Summary:\n",
      "-learning rate = 0.00527\n",
      "-Model saved after iteration 2273.\n",
      "-Train.  Loss=0.0055377\n",
      "-Valid.  Loss=0.0160674\n",
      "'train_loss_bward02_93.csv' saved.\n",
      "'valid_loss_bward02_93.csv' saved.\n",
      "'model05_backward02_93_best.pth' saved.\n",
      "- train minibatches = 1\n",
      "- valid minibatches = 1\n",
      "- test minibatches = 1\n"
     ]
    },
    {
     "data": {
      "application/vnd.jupyter.widget-view+json": {
       "model_id": "1dbc62a439f448f289cf647b8016e519",
       "version_major": 2,
       "version_minor": 0
      },
      "text/plain": [
       "HBox(children=(HTML(value='Epochs loop'), FloatProgress(value=0.0, max=20000.0), HTML(value='')))"
      ]
     },
     "metadata": {},
     "output_type": "display_data"
    },
    {
     "name": "stdout",
     "output_type": "stream",
     "text": [
      "\n",
      "Summary:\n",
      "-learning rate = 0.00527\n",
      "-Model saved after iteration 8013.\n",
      "-Train.  Loss=0.0048926\n",
      "-Valid.  Loss=0.0714476\n",
      "'train_loss_bward02_94.csv' saved.\n",
      "'valid_loss_bward02_94.csv' saved.\n",
      "'model05_backward02_94_best.pth' saved.\n",
      "- train minibatches = 1\n",
      "- valid minibatches = 1\n",
      "- test minibatches = 1\n"
     ]
    },
    {
     "data": {
      "application/vnd.jupyter.widget-view+json": {
       "model_id": "fd67bee9e366451dad4baed75cd244b4",
       "version_major": 2,
       "version_minor": 0
      },
      "text/plain": [
       "HBox(children=(HTML(value='Epochs loop'), FloatProgress(value=0.0, max=20000.0), HTML(value='')))"
      ]
     },
     "metadata": {},
     "output_type": "display_data"
    },
    {
     "name": "stdout",
     "output_type": "stream",
     "text": [
      "\n",
      "Summary:\n",
      "-learning rate = 0.00527\n",
      "-Model saved after iteration 10869.\n",
      "-Train.  Loss=0.0078952\n",
      "-Valid.  Loss=0.0143115\n",
      "'train_loss_bward02_95.csv' saved.\n",
      "'valid_loss_bward02_95.csv' saved.\n",
      "'model05_backward02_95_best.pth' saved.\n",
      "- train minibatches = 1\n",
      "- valid minibatches = 1\n",
      "- test minibatches = 1\n"
     ]
    },
    {
     "data": {
      "application/vnd.jupyter.widget-view+json": {
       "model_id": "8c777acdfb07469d8d9f619df91c6181",
       "version_major": 2,
       "version_minor": 0
      },
      "text/plain": [
       "HBox(children=(HTML(value='Epochs loop'), FloatProgress(value=0.0, max=20000.0), HTML(value='')))"
      ]
     },
     "metadata": {},
     "output_type": "display_data"
    },
    {
     "name": "stdout",
     "output_type": "stream",
     "text": [
      "\n",
      "Summary:\n",
      "-learning rate = 0.00527\n",
      "-Model saved after iteration 2039.\n",
      "-Train.  Loss=0.0045771\n",
      "-Valid.  Loss=0.0437613\n",
      "'train_loss_bward02_96.csv' saved.\n",
      "'valid_loss_bward02_96.csv' saved.\n",
      "'model05_backward02_96_best.pth' saved.\n",
      "- train minibatches = 1\n",
      "- valid minibatches = 1\n",
      "- test minibatches = 1\n"
     ]
    },
    {
     "data": {
      "application/vnd.jupyter.widget-view+json": {
       "model_id": "2df5a03efacd46358a9ec91445fa3434",
       "version_major": 2,
       "version_minor": 0
      },
      "text/plain": [
       "HBox(children=(HTML(value='Epochs loop'), FloatProgress(value=0.0, max=20000.0), HTML(value='')))"
      ]
     },
     "metadata": {},
     "output_type": "display_data"
    },
    {
     "name": "stdout",
     "output_type": "stream",
     "text": [
      "\n",
      "Summary:\n",
      "-learning rate = 0.00527\n",
      "-Model saved after iteration 18930.\n",
      "-Train.  Loss=0.0175214\n",
      "-Valid.  Loss=0.0169241\n",
      "'train_loss_bward02_97.csv' saved.\n",
      "'valid_loss_bward02_97.csv' saved.\n",
      "'model05_backward02_97_best.pth' saved.\n",
      "- train minibatches = 1\n",
      "- valid minibatches = 1\n",
      "- test minibatches = 1\n"
     ]
    },
    {
     "data": {
      "application/vnd.jupyter.widget-view+json": {
       "model_id": "34e0c597c6a54626b214f4960841221a",
       "version_major": 2,
       "version_minor": 0
      },
      "text/plain": [
       "HBox(children=(HTML(value='Epochs loop'), FloatProgress(value=0.0, max=20000.0), HTML(value='')))"
      ]
     },
     "metadata": {},
     "output_type": "display_data"
    },
    {
     "name": "stdout",
     "output_type": "stream",
     "text": [
      "\n",
      "Summary:\n",
      "-learning rate = 0.00527\n",
      "-Model saved after iteration 17295.\n",
      "-Train.  Loss=0.0124114\n",
      "-Valid.  Loss=0.0262703\n",
      "'train_loss_bward02_98.csv' saved.\n",
      "'valid_loss_bward02_98.csv' saved.\n",
      "'model05_backward02_98_best.pth' saved.\n",
      "- train minibatches = 1\n",
      "- valid minibatches = 1\n",
      "- test minibatches = 1\n"
     ]
    },
    {
     "data": {
      "application/vnd.jupyter.widget-view+json": {
       "model_id": "20d1278c2fb24bc990c45145ea835474",
       "version_major": 2,
       "version_minor": 0
      },
      "text/plain": [
       "HBox(children=(HTML(value='Epochs loop'), FloatProgress(value=0.0, max=20000.0), HTML(value='')))"
      ]
     },
     "metadata": {},
     "output_type": "display_data"
    },
    {
     "name": "stdout",
     "output_type": "stream",
     "text": [
      "\n",
      "Summary:\n",
      "-learning rate = 0.00527\n",
      "-Model saved after iteration 1482.\n",
      "-Train.  Loss=0.0083479\n",
      "-Valid.  Loss=0.0129213\n",
      "'train_loss_bward02_99.csv' saved.\n",
      "'valid_loss_bward02_99.csv' saved.\n",
      "'model05_backward02_99_best.pth' saved.\n",
      "- train minibatches = 1\n",
      "- valid minibatches = 1\n",
      "- test minibatches = 1\n"
     ]
    },
    {
     "data": {
      "application/vnd.jupyter.widget-view+json": {
       "model_id": "c3c9488dd5124689b08497769dbc8f2c",
       "version_major": 2,
       "version_minor": 0
      },
      "text/plain": [
       "HBox(children=(HTML(value='Epochs loop'), FloatProgress(value=0.0, max=20000.0), HTML(value='')))"
      ]
     },
     "metadata": {},
     "output_type": "display_data"
    },
    {
     "name": "stdout",
     "output_type": "stream",
     "text": [
      "\n",
      "Summary:\n",
      "-learning rate = 0.00527\n",
      "-Model saved after iteration 15515.\n",
      "-Train.  Loss=0.0086090\n",
      "-Valid.  Loss=0.0190097\n",
      "'train_loss_bward02_100.csv' saved.\n",
      "'valid_loss_bward02_100.csv' saved.\n",
      "'model05_backward02_100_best.pth' saved.\n",
      "\n"
     ]
    }
   ],
   "source": [
    "# Find Accuracy, Loss +/- STD (lockdown: path 2)\n",
    "target_idx = 1\n",
    "data_output = 'data_lockdown_05ResidentialBuilding'\n",
    "df_results = pd.DataFrame(columns=['train_mse', 'valid_mse', 'test_mse', \\\n",
    "                                   'train_r2', 'valid_r2', 'test_r2'])\n",
    "# df_results = pd.read_csv(os.path.join(data_output, 'accuracy_forward01.csv'), index_col=0)\n",
    "\n",
    "partitions = 100\n",
    "iterator = tqdm.notebook.tqdm(range(1, partitions + 1), desc='Partitions loop')\n",
    "for n in iterator:\n",
    "    X = pd.read_csv('dataset_05ResidentialBuilding/X.csv')\n",
    "    y = pd.read_csv('dataset_05ResidentialBuilding/y.csv')\n",
    "    split_data(X, y, seed1=seed1[n], seed2=seed2[n])\n",
    "\n",
    "# .normalize data sets\n",
    "    df_to_tensor()\n",
    "    normalize_data()\n",
    "    make_DataLoaders(target_idx=target_idx)\n",
    "\n",
    "# .train model (forward)\n",
    "    lr = best_lr_bward\n",
    "    layer_sizes = [5, 1]\n",
    "    epochs = 20000\n",
    "    lock_flag = True\n",
    "    features = xtrain.size(1)\n",
    "    step = 1\n",
    "    data_out = \"data_lockdown_05ResidentialBuilding/partitions\"\n",
    "    model_forward_name = 'data_lockdown_05ResidentialBuilding/partitions/model05_forward02_'+str(n)+'_last.pth'\n",
    "    fname = 'model05_backward02_'+str(n)\n",
    "    train_loss, valid_loss = train_model(\n",
    "                             lr, \n",
    "                             features, \n",
    "                             layer_sizes,\n",
    "                             lock_flag = lock_flag,\n",
    "                             epochs = epochs,\n",
    "                             early_stop = epochs, \n",
    "                             fname = fname)\n",
    "# .save relevant data\n",
    "    f3 = [fname+'_best.pth']\n",
    "    save_output(data_out, \n",
    "                'train_loss_bward02_'+str(n)+'.csv', \n",
    "                'valid_loss_bward02_'+str(n)+'.csv', f3)\n",
    "\n",
    "# .find MSE, R2, etc...\n",
    "    mm = MyNet(features, layer_sizes)\n",
    "    mm.load_state_dict(torch.load(os.path.join(data_out, fname+'_best.pth')))\n",
    "    mm = mm.to(device)\n",
    "    mm.eval()\n",
    "    \n",
    "    ypred = mm(xtrain)\n",
    "    mse = mean_squared_error(ytrain.detach().numpy()[:,target_idx], ypred.detach().numpy().ravel(), squared=True)\n",
    "    r2 = r2_score(ytrain.detach().numpy()[:,target_idx], ypred.detach().numpy().ravel())\n",
    "    df_results.loc[n, 'train_mse'] = mse\n",
    "    df_results.loc[n, 'train_r2']  = r2\n",
    "\n",
    "    ypred = mm(xvalid)\n",
    "    mse = mean_squared_error(yvalid.detach().numpy()[:,target_idx], ypred.detach().numpy().ravel(), squared=True)\n",
    "    r2 = r2_score(yvalid.detach().numpy()[:,target_idx], ypred.detach().numpy().ravel())\n",
    "    df_results.loc[n, 'valid_mse'] = mse\n",
    "    df_results.loc[n, 'valid_r2']  = r2\n",
    "\n",
    "    ypred = mm(xtest)\n",
    "    mse = mean_squared_error(ytest.detach().numpy()[:,target_idx], ypred.detach().numpy().ravel(), squared=True)\n",
    "    r2 = r2_score(ytest.detach().numpy()[:,target_idx], ypred.detach().numpy().ravel())\n",
    "    df_results.loc[n, 'test_mse'] = mse\n",
    "    df_results.loc[n, 'test_r2']  = r2\n",
    "\n",
    "    df_results.to_csv(os.path.join(data_output, 'accuracy05_backward02.csv'), index=True)"
   ]
  },
  {
   "cell_type": "code",
   "execution_count": 514,
   "metadata": {
    "ExecuteTime": {
     "end_time": "2021-02-25T04:44:48.389478Z",
     "start_time": "2021-02-25T04:44:48.379136Z"
    },
    "code_folding": [
     0
    ]
   },
   "outputs": [
    {
     "name": "stdout",
     "output_type": "stream",
     "text": [
      "Train mse = 0.01111 +/- 0.00586\n",
      "Valid mse = 0.02360 +/- 0.01449\n",
      "Test mse = 0.02986 +/- 0.02018\n",
      "\n",
      "Train r2 = 0.98889 +/- 0.00586\n",
      "Valid r2 = 0.97767 +/- 0.01120\n",
      "Test r2 = 0.97132 +/- 0.01634\n"
     ]
    }
   ],
   "source": [
    "# Display results\n",
    "data_out = 'data_lockdown_05ResidentialBuilding'\n",
    "accuracy = pd.read_csv(os.path.join(data_out, 'accuracy05_backward02.csv'))\n",
    "print(\"Train mse = {:.5f} +/- {:.5f}\".format(accuracy['train_mse'].mean(), \n",
    "                                             accuracy['train_mse'].std()))\n",
    "print(\"Valid mse = {:.5f} +/- {:.5f}\".format(accuracy['valid_mse'].mean(), \n",
    "                                             accuracy['valid_mse'].std()))\n",
    "print(\"Test mse = {:.5f} +/- {:.5f}\".format(accuracy['test_mse'].mean(), \n",
    "                                            accuracy['test_mse'].std()))\n",
    "\n",
    "print(\"\")\n",
    "print(\"Train r2 = {:.5f} +/- {:.5f}\".format(accuracy['train_r2'].mean(), \n",
    "                                            accuracy['train_r2'].std()))\n",
    "print(\"Valid r2 = {:.5f} +/- {:.5f}\".format(accuracy['valid_r2'].mean(), \n",
    "                                            accuracy['valid_r2'].std()))\n",
    "print(\"Test r2 = {:.5f} +/- {:.5f}\".format(accuracy['test_r2'].mean(), \n",
    "                                           accuracy['test_r2'].std()))"
   ]
  },
  {
   "cell_type": "markdown",
   "metadata": {},
   "source": [
    "### Comparison"
   ]
  },
  {
   "cell_type": "markdown",
   "metadata": {},
   "source": [
    "#### Target 2"
   ]
  },
  {
   "cell_type": "code",
   "execution_count": 2,
   "metadata": {
    "ExecuteTime": {
     "end_time": "2021-06-18T20:04:58.033547Z",
     "start_time": "2021-06-18T20:04:58.018795Z"
    },
    "code_folding": []
   },
   "outputs": [],
   "source": [
    "# Read distributions\n",
    "accuracy_lockdown02 = pd.read_csv('data_lockdown_05ResidentialBuilding/accuracy05_backward02.csv', \n",
    "                                  index_col=0)\n",
    "accuracy_forward02  = pd.read_csv('data_unconstrained_05ResidentialBuilding/accuracy05_forward02.csv', \n",
    "                                  index_col=0)\n",
    "accuracy_xgb02      = pd.read_csv('data_xgb_05ResidentialBuilding/accuracy_xgb02.csv')\n",
    "accuracy_lasso02    = pd.read_csv('data_lasso_05ResidentialBuilding/accuracy_lasso02.csv')"
   ]
  },
  {
   "cell_type": "code",
   "execution_count": 538,
   "metadata": {
    "ExecuteTime": {
     "end_time": "2021-02-25T09:44:27.762672Z",
     "start_time": "2021-02-25T09:44:27.752826Z"
    },
    "code_folding": [
     0
    ]
   },
   "outputs": [
    {
     "name": "stdout",
     "output_type": "stream",
     "text": [
      "R2 on 'test' set:\n",
      "Lockdown = 0.9713 +/- 0.016\n",
      "Forward  = 0.9644 +/- 0.025\n",
      "xgboost  = 0.9531 +/- 0.021\n",
      "Lasso    = 0.9592 +/- 0.020\n",
      "\n",
      "R2 on 'validation' set:\n",
      "Lockdown = 0.9777 +/- 0.011\n",
      "Forward  = 0.9703 +/- 0.025\n",
      "xgboost  = 0.9513 +/- 0.025\n",
      "Lasso    = 0.9570 +/- 0.018\n"
     ]
    }
   ],
   "source": [
    "# R2 & MSE\n",
    "print(\"R2 on 'test' set:\")\n",
    "print(\"Lockdown = {:.4f} +/- {:.3f}\".format(accuracy_lockdown02['test_r2'].mean(), \n",
    "                                            accuracy_lockdown02['test_r2'].std()))\n",
    "print(\"Forward  = {:.4f} +/- {:.3f}\".format(accuracy_forward02['test_r2'].mean(), \n",
    "                                            accuracy_forward02['test_r2'].std()))\n",
    "print(\"xgboost  = {:.4f} +/- {:.3f}\".format(accuracy_xgb02['test_r2'].mean(), \n",
    "                                            accuracy_xgb02['test_r2'].std()))\n",
    "print(\"Lasso    = {:.4f} +/- {:.3f}\".format(accuracy_lasso02['test_r2'].mean(), \n",
    "                                            accuracy_lasso02['test_r2'].std()))\n",
    "\n",
    "print(\"\\nR2 on 'validation' set:\")\n",
    "print(\"Lockdown = {:.4f} +/- {:.3f}\".format(accuracy_lockdown02['valid_r2'].mean(), \n",
    "                                            accuracy_lockdown02['valid_r2'].std()))\n",
    "print(\"Forward  = {:.4f} +/- {:.3f}\".format(accuracy_forward02['valid_r2'].mean(), \n",
    "                                            accuracy_forward02['valid_r2'].std()))\n",
    "print(\"xgboost  = {:.4f} +/- {:.3f}\".format(accuracy_xgb02['valid_r2'].mean(), \n",
    "                                            accuracy_xgb02['valid_r2'].std()))\n",
    "print(\"Lasso    = {:.4f} +/- {:.3f}\".format(accuracy_lasso02['valid_r2'].mean(), \n",
    "                                            accuracy_lasso02['valid_r2'].std()))"
   ]
  },
  {
   "cell_type": "code",
   "execution_count": 539,
   "metadata": {
    "ExecuteTime": {
     "end_time": "2021-02-25T09:44:33.453520Z",
     "start_time": "2021-02-25T09:44:33.443762Z"
    },
    "code_folding": [
     0
    ]
   },
   "outputs": [
    {
     "name": "stdout",
     "output_type": "stream",
     "text": [
      "On 'test' set:\n",
      "Lockdown vs Forward: pvalue=1.534493e-03, statistic=3.258667e+00\n",
      "Lockdown vs xgboost: pvalue=2.167690e-16, statistic=9.863869e+00\n",
      "Lockdown vs lasso:   pvalue=7.133781e-11, statistic=7.305611e+00\n",
      "\n",
      "On 'validation' set:\n",
      "Lockdown vs Forward: pvalue=7.556816e-04, statistic=3.476596e+00\n",
      "Lockdown vs xgboost: pvalue=1.045720e-23, statistic=1.327374e+01\n",
      "Lockdown vs lasso:   pvalue=3.033514e-31, statistic=1.706374e+01\n"
     ]
    }
   ],
   "source": [
    "# Print out test results\n",
    "print(\"On 'test' set:\")\n",
    "statistic, pvalue = stats.ttest_rel(accuracy_lockdown02['test_r2'], accuracy_forward02['test_r2'])\n",
    "print(\"Lockdown vs Forward: pvalue={:e}, statistic={:e}\".format(pvalue, statistic))\n",
    "\n",
    "statistic, pvalue = stats.ttest_rel(accuracy_lockdown02['test_r2'], accuracy_xgb02['test_r2'])\n",
    "print(\"Lockdown vs xgboost: pvalue={:e}, statistic={:e}\".format(pvalue, statistic))\n",
    "\n",
    "statistic, pvalue = stats.ttest_rel(accuracy_lockdown02['test_r2'], accuracy_lasso02['test_r2'])\n",
    "print(\"Lockdown vs lasso:   pvalue={:e}, statistic={:e}\".format(pvalue, statistic))\n",
    "\n",
    "# \n",
    "print(\"\\nOn 'validation' set:\")\n",
    "statistic, pvalue = stats.ttest_rel(accuracy_lockdown02['valid_r2'], accuracy_forward02['valid_r2'])\n",
    "print(\"Lockdown vs Forward: pvalue={:e}, statistic={:e}\".format(pvalue, statistic))\n",
    "\n",
    "statistic, pvalue = stats.ttest_rel(accuracy_lockdown02['valid_r2'], accuracy_xgb02['valid_r2'])\n",
    "print(\"Lockdown vs xgboost: pvalue={:e}, statistic={:e}\".format(pvalue, statistic))\n",
    "\n",
    "statistic, pvalue = stats.ttest_rel(accuracy_lockdown02['valid_r2'], accuracy_lasso02['valid_r2'])\n",
    "print(\"Lockdown vs lasso:   pvalue={:e}, statistic={:e}\".format(pvalue, statistic))"
   ]
  },
  {
   "cell_type": "code",
   "execution_count": 3,
   "metadata": {
    "ExecuteTime": {
     "end_time": "2021-06-18T20:05:09.471521Z",
     "start_time": "2021-06-18T20:05:09.459790Z"
    }
   },
   "outputs": [
    {
     "name": "stdout",
     "output_type": "stream",
     "text": [
      "Lasso   = 0.197 +/- 0.046\n",
      "GB      = 0.212 +/- 0.047\n",
      "FCNN    = 0.180 +/- 0.057\n",
      "Lockout = 0.164 +/- 0.042\n",
      "\n",
      "On 'test' set:\n",
      "Lockdown vs Forward: pvalue=9.69e-04, statistic=-3.40e+00\n",
      "Lockdown vs xgboost: pvalue=9.82e-20, statistic=-1.14e+01\n",
      "Lockdown vs lasso:   pvalue=1.19e-13, statistic=-8.61e+00\n"
     ]
    }
   ],
   "source": [
    "# Relative Root Mean Squared Error\n",
    "rrmse_lasso = np.sqrt(1.0 - accuracy_lasso02['test_r2'])\n",
    "print(\"Lasso   = {:.3f} +/- {:.3f}\".format(rrmse_lasso.mean(), rrmse_lasso.std()))\n",
    "\n",
    "rrmse_GB = np.sqrt(1.0 - accuracy_xgb02['test_r2'])\n",
    "print(\"GB      = {:.3f} +/- {:.3f}\".format(rrmse_GB.mean(), rrmse_GB.std()))\n",
    "\n",
    "rrmse_fcnn = np.sqrt(1.0 - accuracy_forward02['test_r2'])\n",
    "print(\"FCNN    = {:.3f} +/- {:.3f}\".format(rrmse_fcnn.mean(), rrmse_fcnn.std()))\n",
    "\n",
    "rrmse_lockout = np.sqrt(1.0 - accuracy_lockdown02['test_r2'])\n",
    "print(\"Lockout = {:.3f} +/- {:.3f}\".format(rrmse_lockout.mean(), rrmse_lockout.std()))\n",
    "\n",
    "# Print out test results\n",
    "print(\"\\nOn 'test' set:\")\n",
    "statistic, pvalue = stats.ttest_rel(rrmse_lockout, rrmse_fcnn)\n",
    "print(\"Lockdown vs Forward: pvalue={:.2e}, statistic={:.2e}\".format(pvalue, statistic))\n",
    "\n",
    "statistic, pvalue = stats.ttest_rel(rrmse_lockout, rrmse_GB)\n",
    "print(\"Lockdown vs xgboost: pvalue={:.2e}, statistic={:.2e}\".format(pvalue, statistic))\n",
    "\n",
    "statistic, pvalue = stats.ttest_rel(rrmse_lockout, rrmse_lasso)\n",
    "print(\"Lockdown vs lasso:   pvalue={:.2e}, statistic={:.2e}\".format(pvalue, statistic))"
   ]
  }
 ],
 "metadata": {
  "kernelspec": {
   "display_name": "Python 3",
   "language": "python",
   "name": "python3"
  },
  "language_info": {
   "codemirror_mode": {
    "name": "ipython",
    "version": 3
   },
   "file_extension": ".py",
   "mimetype": "text/x-python",
   "name": "python",
   "nbconvert_exporter": "python",
   "pygments_lexer": "ipython3",
   "version": "3.8.3"
  },
  "toc": {
   "base_numbering": 1,
   "nav_menu": {},
   "number_sections": true,
   "sideBar": true,
   "skip_h1_title": true,
   "title_cell": "Table of Contents",
   "title_sidebar": "Contents",
   "toc_cell": false,
   "toc_position": {
    "height": "calc(100% - 180px)",
    "left": "10px",
    "top": "150px",
    "width": "393.2px"
   },
   "toc_section_display": true,
   "toc_window_display": true
  }
 },
 "nbformat": 4,
 "nbformat_minor": 2
}
