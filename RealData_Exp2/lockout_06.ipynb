{
 "cells": [
  {
   "cell_type": "markdown",
   "metadata": {},
   "source": [
    "# Lockout  for Classification: Arcene Data Set\n",
    "Author: Wilmer Arbelo Gonzalez"
   ]
  },
  {
   "cell_type": "markdown",
   "metadata": {},
   "source": [
    "## Import all necessary libraries"
   ]
  },
  {
   "cell_type": "code",
   "execution_count": 2,
   "metadata": {
    "ExecuteTime": {
     "end_time": "2021-06-24T21:40:54.021228Z",
     "start_time": "2021-06-24T21:40:52.522519Z"
    },
    "code_folding": [
     0
    ]
   },
   "outputs": [],
   "source": [
    "# Import libraries and modules\n",
    "import numpy as np\n",
    "import pandas as pd\n",
    "\n",
    "import xgboost as xgb\n",
    "\n",
    "from sklearn.metrics import r2_score, classification_report, confusion_matrix,           \\\n",
    "                            roc_curve, roc_auc_score, plot_confusion_matrix, f1_score,   \\\n",
    "                            balanced_accuracy_score, accuracy_score, mean_squared_error, \\\n",
    "                            log_loss\n",
    "from sklearn.datasets import make_friedman1\n",
    "from sklearn.model_selection import train_test_split, GridSearchCV\n",
    "from sklearn.linear_model import LogisticRegression, LinearRegression, SGDClassifier,    \\\n",
    "                                 Lasso, lasso_path\n",
    "from sklearn.preprocessing import StandardScaler, LabelBinarizer\n",
    "from sklearn.impute import SimpleImputer\n",
    "from sklearn.pipeline import Pipeline\n",
    "from sklearn_pandas import DataFrameMapper\n",
    "\n",
    "import scipy\n",
    "from scipy import stats\n",
    "\n",
    "import os\n",
    "import sys\n",
    "import shutil\n",
    "from pathlib import Path\n",
    "\n",
    "import matplotlib as mpl\n",
    "import matplotlib.pyplot as plt\n",
    "import matplotlib.cm as cm\n",
    "\n",
    "import albumentations as A\n",
    "from albumentations.pytorch import ToTensorV2\n",
    "import cv2\n",
    "import itertools\n",
    "\n",
    "import time\n",
    "import tqdm\n",
    "import copy\n",
    "\n",
    "import torch\n",
    "import torchvision\n",
    "import torchvision.transforms as transforms\n",
    "import torch.nn as nn\n",
    "import torch.nn.functional as F\n",
    "import torch.optim as optim\n",
    "import torchvision.models as models\n",
    "from torch.utils.data import Dataset\n",
    "\n",
    "import PIL\n",
    "import joblib\n",
    "import json\n",
    "\n",
    "# import mysgd"
   ]
  },
  {
   "cell_type": "markdown",
   "metadata": {},
   "source": [
    "## Datasets and DataLoaders"
   ]
  },
  {
   "cell_type": "code",
   "execution_count": 2,
   "metadata": {
    "ExecuteTime": {
     "end_time": "2021-02-10T04:45:19.550079Z",
     "start_time": "2021-02-10T04:45:19.542212Z"
    },
    "code_folding": [
     0
    ]
   },
   "outputs": [],
   "source": [
    "# Load data\n",
    "def load_data(fname):\n",
    "    \"\"\"\n",
    "    input (str or path): name of the folder with the data.\n",
    "    This function reads the data, transforms it to tensors, and makes it\n",
    "    global.\n",
    "    \"\"\"\n",
    "    global xtrain, xvalid, xtest, xtrain_valid, ytrain, yvalid, ytest, ytrain_valid\n",
    "# \n",
    "    df = pd.read_csv(os.path.join(fname, 'xtrain.csv'), index_col=False, header=None)\n",
    "    xtrain = torch.tensor(df.values).float()\n",
    "    df = pd.read_csv(os.path.join(fname, 'xvalid.csv'), index_col=False, header=None)\n",
    "    xvalid = torch.tensor(df.values).float()\n",
    "    df = pd.read_csv(os.path.join(fname, 'xtest.csv'), index_col=False, header=None)\n",
    "    xtest = torch.tensor(df.values).float()\n",
    "    df = pd.read_csv(os.path.join(fname, 'xtrain_valid.csv'), index_col=False, header=None)\n",
    "    xtrain_valid = torch.tensor(df.values).float()\n",
    "# \n",
    "    df = pd.read_csv(os.path.join(fname, 'ytrain.csv'), index_col=False, header=None)\n",
    "    ytrain = torch.tensor(df.values).long()\n",
    "    df = pd.read_csv(os.path.join(fname, 'yvalid.csv'), index_col=False, header=None)\n",
    "    yvalid = torch.tensor(df.values).long()\n",
    "    df = pd.read_csv(os.path.join(fname, 'ytest.csv'), index_col=False, header=None)\n",
    "    ytest = torch.tensor(df.values).long()\n",
    "    df = pd.read_csv(os.path.join(fname, 'ytrain_valid.csv'), index_col=False, header=None)\n",
    "    ytrain_valid = torch.tensor(df.values).long()\n"
   ]
  },
  {
   "cell_type": "code",
   "execution_count": 168,
   "metadata": {
    "ExecuteTime": {
     "end_time": "2021-02-17T01:24:48.760597Z",
     "start_time": "2021-02-17T01:24:48.757255Z"
    },
    "code_folding": [
     0
    ]
   },
   "outputs": [],
   "source": [
    "# Transform DataFrame to Tensor\n",
    "def df_to_tensor():\n",
    "    \"\"\"\n",
    "    This function transforms DataFrames to tensors and makes them global.\n",
    "    \"\"\"\n",
    "    global xtrain, xvalid, xtest, ytrain, yvalid, ytest\n",
    "# \n",
    "    xtrain = torch.tensor(xtrain.values).float()\n",
    "    xvalid = torch.tensor(xvalid.values).float()\n",
    "    xtest = torch.tensor(xtest.values).float()\n",
    "# \n",
    "    ytrain = torch.tensor(ytrain.values).long()\n",
    "    yvalid = torch.tensor(yvalid.values).long()\n",
    "    ytest = torch.tensor(ytest.values).long()"
   ]
  },
  {
   "cell_type": "markdown",
   "metadata": {},
   "source": [
    "### Read and Clean Data"
   ]
  },
  {
   "cell_type": "code",
   "execution_count": 4,
   "metadata": {
    "ExecuteTime": {
     "end_time": "2021-06-24T21:41:34.337508Z",
     "start_time": "2021-06-24T21:41:33.368538Z"
    },
    "code_folding": []
   },
   "outputs": [
    {
     "name": "stdout",
     "output_type": "stream",
     "text": [
      "- Number of features: 10000\n",
      "\n",
      "- Dataset (X) size: 200 points.\n",
      "- Dataset (y) size: 200 points.\n",
      "\n",
      "- Missing (X) values: 0 points.\n",
      "- Missing (y) values: 0 points.\n",
      "\n",
      "- Class probabilities:\n",
      "  label = 1: 44.0%\n",
      "  label = 0: 56.0%\n",
      "\n"
     ]
    }
   ],
   "source": [
    "# Read Dataset(s)\n",
    "df1 = pd.read_csv('dataset_06Arcene/arcene_train.data',\n",
    "                  sep='\\s+',\n",
    "                  header=None, \n",
    "                  index_col=False)\n",
    "df2 = pd.read_csv('dataset_06Arcene/arcene_valid.data',\n",
    "                  sep='\\s+',\n",
    "                  header=None, \n",
    "                  index_col=False)\n",
    "X = df1.append(df2, ignore_index=True)\n",
    "X = X.astype(float)\n",
    "\n",
    "# \n",
    "y1 = pd.read_csv('dataset_06Arcene/arcene_train.labels',\n",
    "                  sep='\\s+',\n",
    "                  header=None, \n",
    "                  index_col=False)\n",
    "y2 = pd.read_csv('dataset_06Arcene/arcene_valid.labels',\n",
    "                  sep='\\s+',\n",
    "                  header=None, \n",
    "                  index_col=False)\n",
    "y = y1.append(y2, ignore_index=True)\n",
    "y.replace({-1: 0}, inplace=True)\n",
    "\n",
    "n_features = X.shape[1]\n",
    "print(\"- Number of features: {}\\n\".format(n_features))\n",
    "\n",
    "print(\"- Dataset (X) size: {} points.\".format(len(X)))\n",
    "print(\"- Dataset (y) size: {} points.\\n\".format(len(y)))\n",
    "\n",
    "X = X.replace('?', np.nan)\n",
    "y = y.replace('?', np.nan)\n",
    "print(\"- Missing (X) values: {} points.\".format(X.isna().sum().sum()))\n",
    "print(\"- Missing (y) values: {} points.\\n\".format(y.isna().sum().sum()))\n",
    "\n",
    "print(\"- Class probabilities:\")\n",
    "print(\"  label = 1: {}%\".format(100*(y.iloc[:,0] == 1).sum()/len(y)))\n",
    "print(\"  label = 0: {}%\\n\".format(100*(y.iloc[:,0] == 0).sum()/len(y)))\n",
    "cols_all = X.columns.astype(str).tolist()\n"
   ]
  },
  {
   "cell_type": "markdown",
   "metadata": {},
   "source": [
    "### Split and Save"
   ]
  },
  {
   "cell_type": "code",
   "execution_count": 7,
   "metadata": {
    "ExecuteTime": {
     "end_time": "2021-02-10T04:47:18.699171Z",
     "start_time": "2021-02-10T04:47:18.692197Z"
    },
    "code_folding": [
     0
    ]
   },
   "outputs": [],
   "source": [
    "# # Random seeds for the splits\n",
    "# seed1 = torch.randint(0, 1000, (500,))\n",
    "# seed2 = torch.randint(1001, 2000, (500,))\n",
    "seed1 = pd.read_csv('seed1.csv', header=None).iloc[:,0].tolist()\n",
    "seed2 = pd.read_csv('seed2.csv', header=None).iloc[:,0].tolist()"
   ]
  },
  {
   "cell_type": "code",
   "execution_count": 8,
   "metadata": {
    "ExecuteTime": {
     "end_time": "2021-02-10T04:53:16.165066Z",
     "start_time": "2021-02-10T04:53:16.161853Z"
    },
    "code_folding": [
     0
    ]
   },
   "outputs": [],
   "source": [
    "# Split data (function)\n",
    "def split_data(dfX, dfy, seed1=0, seed2=42):\n",
    "    global xtrain, xvalid, xtest, xtrain_valid, ytrain, yvalid, ytest, ytrain_valid\n",
    "    xtrain_valid, xtest, ytrain_valid, ytest = train_test_split(dfX, dfy, \n",
    "                                                      test_size=0.2, \n",
    "                                                      random_state=seed1)\n",
    "    xtrain, xvalid, ytrain, yvalid = train_test_split(xtrain_valid, ytrain_valid, \n",
    "                                                      test_size=0.25, \n",
    "                                                      random_state=seed2)"
   ]
  },
  {
   "cell_type": "code",
   "execution_count": 47,
   "metadata": {
    "ExecuteTime": {
     "end_time": "2021-02-10T05:55:28.601694Z",
     "start_time": "2021-02-10T05:55:23.491396Z"
    },
    "code_folding": [
     0
    ]
   },
   "outputs": [
    {
     "name": "stdout",
     "output_type": "stream",
     "text": [
      "- xtrain size: (120, 10000)\n",
      "- xvalid size: (40, 10000)\n",
      "- xtest size: (40, 10000)\n",
      "- xtrain_valid size: (160, 10000)\n",
      "\n"
     ]
    }
   ],
   "source": [
    "# Set (xtrain, ytrain), (xvalid, yvalid), and (xtest, ytest)\n",
    "data_folder = 'dataset_06Arcene'\n",
    "split_data(X, y)\n",
    "\n",
    "# Save data on disk\n",
    "cols_all = X.columns.astype(str).tolist()\n",
    "xtrain.to_csv(os.path.join(data_folder, 'xtrain.csv'), index=False, header=False)\n",
    "xvalid.to_csv(os.path.join(data_folder, 'xvalid.csv'), index=False, header=False)\n",
    "xtest.to_csv(os.path.join(data_folder, 'xtest.csv'), index=False, header=False)\n",
    "xtrain_valid.to_csv(os.path.join(data_folder, 'xtrain_valid.csv'), index=False, header=False)\n",
    "X.to_csv(os.path.join(data_folder, 'X.csv'), index=False, header=False)\n",
    "\n",
    "ytrain.to_csv(os.path.join(data_folder, 'ytrain.csv'), index=False, header=False)\n",
    "yvalid.to_csv(os.path.join(data_folder, 'yvalid.csv'), index=False, header=False)\n",
    "ytest.to_csv(os.path.join(data_folder, 'ytest.csv'), index=False, header=False)\n",
    "ytrain_valid.to_csv(os.path.join(data_folder, 'ytrain_valid.csv'), index=False, header=False)\n",
    "y.to_csv(os.path.join(data_folder, 'y.csv'), index=False, header=False)\n",
    "\n",
    "# \n",
    "print(\"- xtrain size: {}\".format(xtrain.shape))\n",
    "print(\"- xvalid size: {}\".format(xvalid.shape))\n",
    "print(\"- xtest size: {}\".format(xtest.shape))\n",
    "print(\"- xtrain_valid size: {}\\n\".format(xtrain_valid.shape))"
   ]
  },
  {
   "cell_type": "markdown",
   "metadata": {},
   "source": [
    "* ### Create Datasets and DataLoaders"
   ]
  },
  {
   "cell_type": "code",
   "execution_count": 10,
   "metadata": {
    "ExecuteTime": {
     "end_time": "2021-02-10T04:55:21.200114Z",
     "start_time": "2021-02-10T04:55:21.196440Z"
    },
    "code_folding": [
     0
    ]
   },
   "outputs": [],
   "source": [
    "# Create Dataset class\n",
    "class MyDataset(Dataset):\n",
    "    '''\n",
    "    Input:\n",
    "        xtensor (torch tensor): data points; dimension [# of points, # of features]\n",
    "        ytensor (torch tensor): y values; dimension [# of points]\n",
    "    Output:\n",
    "        the usual...\n",
    "    '''\n",
    "    def __init__(self, xtensor, ytensor):\n",
    "        self.x = xtensor\n",
    "        self.y = ytensor\n",
    "    \n",
    "    def __len__(self):\n",
    "        return len(self.y)\n",
    "\n",
    "    def __getitem__(self, idx):\n",
    "        return self.x[idx,:], self.y[idx], idx"
   ]
  },
  {
   "cell_type": "code",
   "execution_count": 11,
   "metadata": {
    "ExecuteTime": {
     "end_time": "2021-02-10T04:55:49.807662Z",
     "start_time": "2021-02-10T04:55:49.803093Z"
    },
    "code_folding": [
     0
    ]
   },
   "outputs": [],
   "source": [
    "# Instantiate DataLoaders\n",
    "def make_DataLoaders(batch_size=100000, num_workers = 0):\n",
    "    \"\"\"\n",
    "    This function instantiate and makes global DataLoaders for training, \n",
    "    validation, and testing datasets. \n",
    "    \"\"\"\n",
    "# .create datasets\n",
    "    train_dataset = MyDataset(xtrain, ytrain)\n",
    "    valid_dataset = MyDataset(xvalid, yvalid)\n",
    "    test_dataset = MyDataset(xtest, ytest)\n",
    "    \n",
    "# .make dataloaders global variables\n",
    "    global train_dataloader, valid_dataloader, test_dataloader\n",
    "    train_dataloader = torch.utils.data.DataLoader(train_dataset, \n",
    "                                                   batch_size = batch_size,\n",
    "                                                   shuffle = True, \n",
    "                                                   num_workers=num_workers)\n",
    "    valid_dataloader = torch.utils.data.DataLoader(valid_dataset, \n",
    "                                                   batch_size = batch_size,\n",
    "                                                   shuffle = True, \n",
    "                                                   num_workers=num_workers)\n",
    "    test_dataloader = torch.utils.data.DataLoader(test_dataset, \n",
    "                                                   batch_size = batch_size,\n",
    "                                                   shuffle = False, \n",
    "                                                   num_workers=num_workers)\n",
    "    print('- train minibatches =', len(train_dataloader))\n",
    "    print('- valid minibatches =', len(valid_dataloader))\n",
    "    print('- test minibatches =', len(test_dataloader))"
   ]
  },
  {
   "cell_type": "code",
   "execution_count": 12,
   "metadata": {
    "ExecuteTime": {
     "end_time": "2021-02-10T04:56:07.591779Z",
     "start_time": "2021-02-10T04:56:07.587621Z"
    },
    "code_folding": [
     0
    ],
    "scrolled": true
   },
   "outputs": [
    {
     "name": "stdout",
     "output_type": "stream",
     "text": [
      "-Type of precessor to be used: 'cpu'\n"
     ]
    }
   ],
   "source": [
    "# Select type of processor to be used\n",
    "device = torch.device(\"cuda\" if torch.cuda.is_available() else \"cpu\")\n",
    "\n",
    "if device == torch.device('cuda'):\n",
    "    print(\"-Type of precessor to be used: 'gpu'\")\n",
    "    !nvidia-smi\n",
    "else:\n",
    "    print(\"-Type of precessor to be used: 'cpu'\")\n",
    "    \n",
    "# Choose device\n",
    "# torch.cuda.set_device(6)"
   ]
  },
  {
   "cell_type": "markdown",
   "metadata": {},
   "source": [
    "## Optimizer and Loss Function"
   ]
  },
  {
   "cell_type": "code",
   "execution_count": 13,
   "metadata": {
    "ExecuteTime": {
     "end_time": "2021-02-10T04:56:25.937665Z",
     "start_time": "2021-02-10T04:56:25.934832Z"
    },
    "code_folding": [
     0
    ]
   },
   "outputs": [],
   "source": [
    "# Set up SGD optimizer with a constant learning rate\n",
    "def setup_SGD(model, lr):\n",
    "    \"\"\"\n",
    "    Args:\n",
    "        model (nn.Module class): model previously instantiated\n",
    "        lr (float): learning rate\n",
    "    Returns:\n",
    "        instantiated optimizer\n",
    "    \"\"\"\n",
    "    return optim.SGD(model.parameters(), lr=lr, momentum=0,  weight_decay=0.0)"
   ]
  },
  {
   "cell_type": "code",
   "execution_count": null,
   "metadata": {
    "ExecuteTime": {
     "end_time": "2020-12-29T08:53:08.439980Z",
     "start_time": "2020-12-29T08:53:08.437911Z"
    },
    "code_folding": [
     0
    ]
   },
   "outputs": [],
   "source": [
    "# Set up Adam optimizer with a constant learning rate\n",
    "def setup_ADAM(model, lr):\n",
    "    \"\"\"\n",
    "    Args:\n",
    "        model (nn.Module class): model previously instantiated\n",
    "        lr (float): learning rate\n",
    "    Returns:\n",
    "        instantiated optimizer\n",
    "    \"\"\"\n",
    "    return optim.Adam(model.parameters(), lr=lr,  weight_decay=0.0)"
   ]
  },
  {
   "cell_type": "code",
   "execution_count": 14,
   "metadata": {
    "ExecuteTime": {
     "end_time": "2021-02-10T04:56:30.639847Z",
     "start_time": "2021-02-10T04:56:30.637107Z"
    },
    "code_folding": [
     0
    ]
   },
   "outputs": [],
   "source": [
    "# Type of Loss Function\n",
    "loss_type = nn.CrossEntropyLoss(reduction='mean')"
   ]
  },
  {
   "cell_type": "markdown",
   "metadata": {},
   "source": [
    "## Train model"
   ]
  },
  {
   "cell_type": "code",
   "execution_count": 15,
   "metadata": {
    "ExecuteTime": {
     "end_time": "2021-02-10T04:56:40.112218Z",
     "start_time": "2021-02-10T04:56:40.109527Z"
    },
    "code_folding": [
     0
    ]
   },
   "outputs": [],
   "source": [
    "# PyTorch sign function\n",
    "def sgn(x):\n",
    "    return torch.sign(x)"
   ]
  },
  {
   "cell_type": "code",
   "execution_count": 17,
   "metadata": {
    "ExecuteTime": {
     "end_time": "2021-02-10T04:58:51.618949Z",
     "start_time": "2021-02-10T04:58:51.615613Z"
    },
    "code_folding": [
     0
    ]
   },
   "outputs": [],
   "source": [
    "# Number of correct predictions in a multi-class classification problem\n",
    "def accuracy_multiclass(output, target):\n",
    "    \"\"\"\n",
    "    Args:\n",
    "        output (torch tensor): 2D tensor of shape (batch_size, n_classes) resulting \n",
    "                               of running the model.\n",
    "        target (torch tensor): 1D tensor with the corresponding class for each image.\n",
    "    Returns:\n",
    "        correct (int): number of correct predictions.\n",
    "    \"\"\"\n",
    "    correct = 0\n",
    "    prob_softmax = nn.Softmax(dim=1)\n",
    "    _, predictions = torch.max(prob_softmax(output), dim=1)\n",
    "    correct = (predictions == target).sum(dim=0)\n",
    "    return correct"
   ]
  },
  {
   "cell_type": "code",
   "execution_count": 18,
   "metadata": {
    "ExecuteTime": {
     "end_time": "2021-02-10T04:59:16.500771Z",
     "start_time": "2021-02-10T04:59:16.496175Z"
    },
    "code_folding": [
     0
    ]
   },
   "outputs": [],
   "source": [
    "# Compute accuracy\n",
    "def dataset_accuracy(data_loader, model, device):\n",
    "    \"\"\"\n",
    "    Args:\n",
    "        data_loader: torch DataLoader.\n",
    "        model:       torch model previously trained.\n",
    "        device: 'gpu' or 'cpu'.\n",
    "    Returns:\n",
    "        Accuracy for the given data set.\n",
    "    \"\"\"\n",
    "# Initialize some local variables\n",
    "    correct_total = 0\n",
    "    n_points = 0\n",
    "    \n",
    "# Put model in evaluation mode\n",
    "    model.eval()\n",
    "\n",
    "# Loop over mini batches (no gradients need to be computed)\n",
    "    with torch.no_grad():\n",
    "        for i, (xx, yy, _) in enumerate(data_loader, start=1):\n",
    "            batch_size = len(yy)\n",
    "            xx = xx.to(device)\n",
    "            yy = yy.to(device)\n",
    "            yy_pred = model(xx)\n",
    "        \n",
    "# .compute accuracy (target size must be [batch_size])\n",
    "            correct = accuracy_multiclass(yy_pred, yy.view(-1))\n",
    "            correct_total += correct\n",
    "        \n",
    "# .number of points used after the ith mini-batch\n",
    "            n_points += batch_size\n",
    "#\n",
    "    return correct_total.item()/n_points"
   ]
  },
  {
   "cell_type": "code",
   "execution_count": 242,
   "metadata": {
    "ExecuteTime": {
     "end_time": "2021-02-22T22:16:09.171430Z",
     "start_time": "2021-02-22T22:16:09.155421Z"
    },
    "code_folding": [
     0,
     10,
     16,
     69,
     124,
     143,
     154,
     157
    ]
   },
   "outputs": [],
   "source": [
    "# Train model (classification)\n",
    "def train_model(lr, features, layer_sizes, lock_flag=False, epochs=3000, \n",
    "                early_stop=300, fname='model'):\n",
    "    \"\"\"\n",
    "    \"\"\"\n",
    "# Set seed of random generators (for reproducibility purposes)\n",
    "#     torch.manual_seed(42)\n",
    "\n",
    "# Instantiate Model and Optimizer\n",
    "    model = MyNet(features, layer_sizes)\n",
    "    if lock_flag == True:\n",
    "        model.load_state_dict(torch.load(model_forward_name))\n",
    "    model = model.to(device)\n",
    "    optimizer = setup_SGD(model, lr)\n",
    "\n",
    "# LOCKDOWN SECTION 1:\n",
    "    if lock_flag == True:\n",
    "        n_iterations = epochs*len(train_dataloader)\n",
    "        layers = get_lockdown_layers(model)\n",
    "        t0 = []\n",
    "        t0_initial = []\n",
    "        sign_w0 = []\n",
    "        l = 0\n",
    "        for layer in layers:\n",
    "            ww = layer.weight.detach()\n",
    "            t0.append(abs(ww).sum())\n",
    "            sign_w0.append(torch.sign(ww))\n",
    "            t0_initial.append(t0[l])\n",
    "            l += 1\n",
    "    \n",
    "# DataFrames to store train/valid loss function\n",
    "    train_loss = pd.DataFrame(columns=['iteration', 'loss'])\n",
    "    valid_loss = pd.DataFrame(columns=['iteration', 'loss'])\n",
    "\n",
    "# Initialize some local variables...\n",
    "    iteration = 0\n",
    "    best_iter = 0\n",
    "    best_loss = 1e30\n",
    "    stop_flag = 0\n",
    "\n",
    "# Loop Over Number of Epochs\n",
    "    iterator = tqdm.notebook.tqdm(range(1, epochs + 1), desc='Epochs loop')\n",
    "    for n_epoch in iterator:\n",
    "# \n",
    "# .Loop Over Mini-batches\n",
    "        for ibatch, (xx, yy, _) in enumerate(train_dataloader, start=1):\n",
    "#\n",
    "# ..Compute Validation Loss\n",
    "            model_dict = copy.deepcopy(model.state_dict())\n",
    "            epoch_loss = valid_epoch(valid_dataloader, model, loss_type, device)\n",
    "            valid_loss = valid_loss.append({'iteration': iteration + 1, \n",
    "                                            'loss': epoch_loss}, \n",
    "                                            ignore_index=True)\n",
    "# ..Train Mini-batch:\n",
    "            model.train()\n",
    "            xx = xx.to(device)\n",
    "            yy = yy.to(device)\n",
    "            yy_pred = model(xx)\n",
    "\n",
    "# ..Compute Train Loss\n",
    "            loss = loss_type(yy_pred, yy.view(-1))\n",
    "            train_loss = train_loss.append({'iteration': iteration + 1,\n",
    "                                            'loss': loss.item()}, \n",
    "                                           ignore_index=True)\n",
    "# ..Backward Propagation\n",
    "            optimizer.zero_grad()\n",
    "            loss.backward()\n",
    "\n",
    "# ..LOCKDOWN SECTION 2:\n",
    "            if lock_flag == True:\n",
    "                l = 0\n",
    "                for layer in layers:\n",
    "# ...weights and gradients (2D)\n",
    "                    w2d = layer.weight.detach()\n",
    "                    g2d = layer.weight.grad.detach()\n",
    "                    w_shape = g2d.size()\n",
    "\n",
    "# ...flattens weights and compute P(W)\n",
    "                    w1d = torch.flatten(w2d)\n",
    "                    Pw = abs(w1d).sum()\n",
    "\n",
    "# ...find g=-grads, 'gamma', and sort gamma (in descending order)\n",
    "                    p1d = 1.0\n",
    "                    g1d = -torch.flatten(g2d)\n",
    "                    gamma = abs(g1d)/(p1d + 1e-10)\n",
    "                    _, indx1d = torch.sort(gamma, descending=True)\n",
    "\n",
    "# ...Modify Gradients Accordingly:\n",
    "                    grmin = torch.zeros(w_shape).fill_(1e-1).to(device)\n",
    "                    layer.weight.grad = torch.sign(g2d)*torch.max(abs(g2d), grmin)\n",
    "                    gr1d = torch.flatten(layer.weight.grad.detach())\n",
    "                    pjsj = lr*abs(gr1d[indx1d])\n",
    "\n",
    "# ...sign(g) != sign(w) elements\n",
    "                    mask_ds = (sgn(g1d[indx1d]) != sgn(w1d[indx1d])) & (w1d[indx1d] != 0.0)\n",
    "                    DS_sum = pjsj[mask_ds].sum()\n",
    "                    pjsj[mask_ds] = 0.0\n",
    "                    mask_dsc = ~mask_ds\n",
    "                    indx1d_dsc = indx1d[mask_dsc]\n",
    "\n",
    "# ...sum(pjsj), j={1,J-1}\n",
    "                    left_side = torch.cumsum(pjsj, dim=0) - pjsj\n",
    "                    pjsj_dsc = torch.zeros(len(g1d)).to(device)\n",
    "                    pjsj_dsc[:] = pjsj[:]\n",
    "\n",
    "# ...sum(pjsj) + Penalty, j={J+1,nJ}\n",
    "                    mask_w0 = (w1d[indx1d] == 0.0)\n",
    "                    pjsj_dsc[mask_w0] = 0.0\n",
    "                    right_side = pjsj_dsc.sum() - torch.cumsum(pjsj_dsc, dim=0) + DS_sum - Pw + t0[l]\n",
    "\n",
    "# ...delta_j and new steps\n",
    "                    ds = right_side - left_side\n",
    "                    mask_w0 = (~mask_w0).float()\n",
    "                    pjsj_new = -mask_w0**(1-sgn(ds))*sgn(g1d[indx1d])*sgn(ds)*torch.min(pjsj, abs(ds))\n",
    "\n",
    "# ...modify gradients\n",
    "                    indx2d = np.unravel_index(indx1d_dsc.cpu(), shape=w_shape)\n",
    "                    layer.weight.grad[indx2d] = pjsj_new[mask_dsc]/lr\n",
    "                    l = l + 1\n",
    "\n",
    "# ..Update Weights \n",
    "            optimizer.step()\n",
    "\n",
    "# ..LOCKDOWN SECTION 3:\n",
    "            if lock_flag == True:\n",
    "# ...Set Weights That Change Signs to Zero\n",
    "                l = 0\n",
    "                for layer in layers:\n",
    "                    ww = layer.weight.detach()\n",
    "                    sign_w = sgn(ww)\n",
    "                    mask0 = ((sign_w != sign_w0[l]) & (sign_w0[l] != 0.0))\n",
    "                    with torch.no_grad():\n",
    "                        layer.weight[mask0] = 0.0\n",
    "                    sign_w0[l] = sign_w\n",
    "                    \n",
    "# ...Tighten Constraint\n",
    "                    if iteration%step == 0:\n",
    "                        t0[l] = (1.0 - iteration/n_iterations)*t0_initial[l]\n",
    "                    l = l + 1\n",
    "                    \n",
    "\n",
    "# ..Early Stop\n",
    "            batch_loss = valid_loss.iloc[iteration, 1]\n",
    "            if batch_loss < best_loss:\n",
    "                torch.save(model_dict, fname+\"_best.pth\")\n",
    "                best_loss = batch_loss\n",
    "                best_iter = iteration\n",
    "            else:\n",
    "                if iteration - best_iter >= early_stop:\n",
    "                    stop_flag = 1\n",
    "                    break\n",
    "# \n",
    "            iteration += 1\n",
    "# \n",
    "        if stop_flag == 1:\n",
    "            break\n",
    "# \n",
    "    if lock_flag == False:\n",
    "        torch.save(model_dict, fname+\"_last.pth\")\n",
    "    print(\"Summary:\")\n",
    "    print(\"-learning rate = {:.5f}\".format(lr))\n",
    "    if stop_flag == 1:\n",
    "        print('-path 1 has early stopped:')\n",
    "        print(' {:d} iterations with no improvement in train loss.'.format(early_stop))\n",
    "    print(\"-Model saved after iteration {:d}.\".format(best_iter + 1))\n",
    "    print(\"-Train.  Loss={:.7f}\".format(train_loss.iloc[best_iter, 1]))\n",
    "    print(\"-Valid.  Loss={:.7f}\".format(valid_loss.iloc[best_iter, 1]))\n",
    "# \n",
    "    return train_loss, valid_loss"
   ]
  },
  {
   "cell_type": "code",
   "execution_count": 20,
   "metadata": {
    "ExecuteTime": {
     "end_time": "2021-02-10T05:04:10.915643Z",
     "start_time": "2021-02-10T05:04:10.911677Z"
    },
    "code_folding": [
     0
    ]
   },
   "outputs": [],
   "source": [
    "# Evaluate one epoch (classification)\n",
    "def valid_epoch(data_loader, model, loss_type, device):\n",
    "    \"\"\"\n",
    "    Args:\n",
    "        data_loader: torch DataLoader.\n",
    "        model:       torch model previously trained.\n",
    "        device: 'gpu' or 'cpu'.\n",
    "    Returns:\n",
    "        Values of Loss Function after one epoch.\n",
    "    \"\"\"\n",
    "# Initialize some local variables\n",
    "    loss_fun = 0.\n",
    "    n_points = 0\n",
    "    \n",
    "# Put model in evaluation mode\n",
    "    model.eval()\n",
    "\n",
    "# Loop over mini batches (no gradients need to be computed)\n",
    "    with torch.no_grad():\n",
    "        for i, (xx, yy, _) in enumerate(data_loader, start=1):\n",
    "            xx = xx.to(device)\n",
    "            yy = yy.to(device)\n",
    "            yy_pred = model(xx)\n",
    "        \n",
    "# .compute loss function\n",
    "            batch_size = len(yy)\n",
    "            loss = loss_type(yy_pred, yy.view(-1))\n",
    "            loss_fun += batch_size*loss.item()\n",
    "        \n",
    "# .number of points used after the ith mini-batch\n",
    "            n_points += batch_size\n",
    "#\n",
    "    return loss_fun/n_points"
   ]
  },
  {
   "cell_type": "markdown",
   "metadata": {},
   "source": [
    "## Results:"
   ]
  },
  {
   "cell_type": "markdown",
   "metadata": {},
   "source": [
    "### Lasso"
   ]
  },
  {
   "cell_type": "code",
   "execution_count": 21,
   "metadata": {
    "ExecuteTime": {
     "end_time": "2021-02-10T05:06:53.704645Z",
     "start_time": "2021-02-10T05:06:50.898944Z"
    },
    "code_folding": [
     0
    ]
   },
   "outputs": [],
   "source": [
    "# Load data\n",
    "load_data('dataset_06Arcene')\n",
    "\n",
    "# transform tensors to NumPy arrays\n",
    "xtrain = xtrain.numpy()\n",
    "xvalid = xvalid.numpy()\n",
    "xtest = xtest.numpy()\n",
    "\n",
    "ytrain = ytrain.numpy()\n",
    "yvalid = yvalid.numpy()\n",
    "ytest = ytest.numpy()"
   ]
  },
  {
   "cell_type": "code",
   "execution_count": 22,
   "metadata": {
    "ExecuteTime": {
     "end_time": "2021-02-10T05:07:14.642156Z",
     "start_time": "2021-02-10T05:07:14.612832Z"
    },
    "code_folding": [
     0
    ]
   },
   "outputs": [],
   "source": [
    "# Normalize data sets\n",
    "scaler = StandardScaler()\n",
    "scaler.fit(xtrain)\n",
    "xtrain = scaler.transform(xtrain)\n",
    "xvalid = scaler.transform(xvalid)\n",
    "xtest  = scaler.transform(xtest)"
   ]
  },
  {
   "cell_type": "code",
   "execution_count": 23,
   "metadata": {
    "ExecuteTime": {
     "end_time": "2021-02-10T05:09:42.409851Z",
     "start_time": "2021-02-10T05:09:42.405214Z"
    },
    "code_folding": [
     0
    ]
   },
   "outputs": [],
   "source": [
    "# Grid search space\n",
    "grid_C = np.geomspace(1e-2, 1e2, num=500)\n",
    "df_grid_loss = pd.DataFrame(columns = ['C', 'valid_loss', 'valid_accu'], \n",
    "                            index=range(len(grid_C)))\n",
    "\n",
    "params = {'penalty': 'l1', \n",
    "          'solver': 'liblinear',\n",
    "          'max_iter': 10000,\n",
    "          'random_state': 0,\n",
    "          'warm_start': True}"
   ]
  },
  {
   "cell_type": "code",
   "execution_count": 24,
   "metadata": {
    "ExecuteTime": {
     "end_time": "2021-02-10T05:11:02.076616Z",
     "start_time": "2021-02-10T05:10:31.013080Z"
    },
    "code_folding": [
     0
    ],
    "scrolled": true
   },
   "outputs": [
    {
     "data": {
      "application/vnd.jupyter.widget-view+json": {
       "model_id": "f71bf7df070742cf96f5afd36459ac7d",
       "version_major": 2,
       "version_minor": 0
      },
      "text/plain": [
       "HBox(children=(HTML(value='C-grid loop'), FloatProgress(value=0.0, max=500.0), HTML(value='')))"
      ]
     },
     "metadata": {},
     "output_type": "display_data"
    },
    {
     "name": "stdout",
     "output_type": "stream",
     "text": [
      "C=0.01000 | valid_logloss=0.69315,  valid_accu=0.57500\n",
      "C=0.01019 | valid_logloss=0.69315,  valid_accu=0.57500\n",
      "C=0.01038 | valid_logloss=0.69315,  valid_accu=0.57500\n",
      "C=0.01057 | valid_logloss=0.69315,  valid_accu=0.57500\n",
      "C=0.01077 | valid_logloss=0.69315,  valid_accu=0.57500\n",
      "C=0.01097 | valid_logloss=0.69315,  valid_accu=0.57500\n",
      "C=0.01117 | valid_logloss=0.69315,  valid_accu=0.57500\n",
      "C=0.01138 | valid_logloss=0.69315,  valid_accu=0.57500\n",
      "C=0.01159 | valid_logloss=0.69315,  valid_accu=0.57500\n",
      "C=0.01181 | valid_logloss=0.69315,  valid_accu=0.57500\n",
      "C=0.01203 | valid_logloss=0.69315,  valid_accu=0.57500\n",
      "C=0.01225 | valid_logloss=0.69315,  valid_accu=0.57500\n",
      "C=0.01248 | valid_logloss=0.69315,  valid_accu=0.57500\n",
      "C=0.01271 | valid_logloss=0.69315,  valid_accu=0.57500\n",
      "C=0.01295 | valid_logloss=0.69315,  valid_accu=0.57500\n",
      "C=0.01319 | valid_logloss=0.69315,  valid_accu=0.57500\n",
      "C=0.01344 | valid_logloss=0.69315,  valid_accu=0.57500\n",
      "C=0.01369 | valid_logloss=0.69315,  valid_accu=0.57500\n",
      "C=0.01394 | valid_logloss=0.69315,  valid_accu=0.57500\n",
      "C=0.01420 | valid_logloss=0.69315,  valid_accu=0.57500\n",
      "C=0.01447 | valid_logloss=0.69315,  valid_accu=0.57500\n",
      "C=0.01473 | valid_logloss=0.69315,  valid_accu=0.57500\n",
      "C=0.01501 | valid_logloss=0.69315,  valid_accu=0.57500\n",
      "C=0.01529 | valid_logloss=0.69315,  valid_accu=0.57500\n",
      "C=0.01557 | valid_logloss=0.69315,  valid_accu=0.57500\n",
      "C=0.01586 | valid_logloss=0.69315,  valid_accu=0.57500\n",
      "C=0.01616 | valid_logloss=0.69315,  valid_accu=0.57500\n",
      "C=0.01646 | valid_logloss=0.69315,  valid_accu=0.57500\n",
      "C=0.01677 | valid_logloss=0.69315,  valid_accu=0.57500\n",
      "C=0.01708 | valid_logloss=0.69315,  valid_accu=0.57500\n",
      "C=0.01740 | valid_logloss=0.69315,  valid_accu=0.57500\n",
      "C=0.01772 | valid_logloss=0.69315,  valid_accu=0.57500\n",
      "C=0.01805 | valid_logloss=0.69315,  valid_accu=0.57500\n",
      "C=0.01839 | valid_logloss=0.69315,  valid_accu=0.57500\n",
      "C=0.01873 | valid_logloss=0.69315,  valid_accu=0.57500\n",
      "C=0.01908 | valid_logloss=0.69315,  valid_accu=0.57500\n",
      "C=0.01943 | valid_logloss=0.69315,  valid_accu=0.57500\n",
      "C=0.01980 | valid_logloss=0.69315,  valid_accu=0.57500\n",
      "C=0.02017 | valid_logloss=0.69315,  valid_accu=0.57500\n",
      "C=0.02054 | valid_logloss=0.69315,  valid_accu=0.57500\n",
      "C=0.02092 | valid_logloss=0.69315,  valid_accu=0.57500\n",
      "C=0.02131 | valid_logloss=0.69315,  valid_accu=0.57500\n",
      "C=0.02171 | valid_logloss=0.69315,  valid_accu=0.57500\n",
      "C=0.02212 | valid_logloss=0.69315,  valid_accu=0.57500\n",
      "C=0.02253 | valid_logloss=0.69315,  valid_accu=0.57500\n",
      "C=0.02295 | valid_logloss=0.69315,  valid_accu=0.57500\n",
      "C=0.02337 | valid_logloss=0.69315,  valid_accu=0.57500\n",
      "C=0.02381 | valid_logloss=0.69315,  valid_accu=0.57500\n",
      "C=0.02425 | valid_logloss=0.69315,  valid_accu=0.57500\n",
      "C=0.02471 | valid_logloss=0.69315,  valid_accu=0.57500\n",
      "C=0.02517 | valid_logloss=0.69315,  valid_accu=0.57500\n",
      "C=0.02563 | valid_logloss=0.69315,  valid_accu=0.57500\n",
      "C=0.02611 | valid_logloss=0.69315,  valid_accu=0.57500\n",
      "C=0.02660 | valid_logloss=0.69315,  valid_accu=0.57500\n",
      "C=0.02709 | valid_logloss=0.69315,  valid_accu=0.57500\n",
      "C=0.02760 | valid_logloss=0.69315,  valid_accu=0.57500\n",
      "C=0.02811 | valid_logloss=0.69315,  valid_accu=0.57500\n",
      "C=0.02864 | valid_logloss=0.69315,  valid_accu=0.57500\n",
      "C=0.02917 | valid_logloss=0.69315,  valid_accu=0.57500\n",
      "C=0.02971 | valid_logloss=0.69315,  valid_accu=0.57500\n",
      "C=0.03027 | valid_logloss=0.69315,  valid_accu=0.57500\n",
      "C=0.03083 | valid_logloss=0.69315,  valid_accu=0.57500\n",
      "C=0.03140 | valid_logloss=0.69315,  valid_accu=0.57500\n",
      "C=0.03199 | valid_logloss=0.69212,  valid_accu=0.62500\n",
      "C=0.03259 | valid_logloss=0.68987,  valid_accu=0.62500\n",
      "C=0.03319 | valid_logloss=0.68777,  valid_accu=0.62500\n",
      "C=0.03381 | valid_logloss=0.68580,  valid_accu=0.62500\n",
      "C=0.03444 | valid_logloss=0.68396,  valid_accu=0.62500\n",
      "C=0.03508 | valid_logloss=0.68223,  valid_accu=0.62500\n",
      "C=0.03574 | valid_logloss=0.68063,  valid_accu=0.62500\n",
      "C=0.03640 | valid_logloss=0.67913,  valid_accu=0.62500\n",
      "C=0.03708 | valid_logloss=0.67759,  valid_accu=0.65000\n",
      "C=0.03777 | valid_logloss=0.67611,  valid_accu=0.65000\n",
      "C=0.03847 | valid_logloss=0.67471,  valid_accu=0.65000\n",
      "C=0.03919 | valid_logloss=0.67353,  valid_accu=0.62500\n",
      "C=0.03992 | valid_logloss=0.67232,  valid_accu=0.62500\n",
      "C=0.04066 | valid_logloss=0.67148,  valid_accu=0.62500\n",
      "C=0.04142 | valid_logloss=0.67059,  valid_accu=0.62500\n",
      "C=0.04219 | valid_logloss=0.66899,  valid_accu=0.62500\n",
      "C=0.04298 | valid_logloss=0.66817,  valid_accu=0.62500\n",
      "C=0.04378 | valid_logloss=0.66747,  valid_accu=0.62500\n",
      "C=0.04460 | valid_logloss=0.66651,  valid_accu=0.60000\n",
      "C=0.04543 | valid_logloss=0.66582,  valid_accu=0.60000\n",
      "C=0.04627 | valid_logloss=0.66502,  valid_accu=0.60000\n",
      "C=0.04714 | valid_logloss=0.66371,  valid_accu=0.60000\n",
      "C=0.04801 | valid_logloss=0.66286,  valid_accu=0.60000\n",
      "C=0.04891 | valid_logloss=0.66246,  valid_accu=0.60000\n",
      "C=0.04982 | valid_logloss=0.66140,  valid_accu=0.62500\n",
      "C=0.05075 | valid_logloss=0.66093,  valid_accu=0.62500\n",
      "C=0.05169 | valid_logloss=0.66002,  valid_accu=0.62500\n",
      "C=0.05266 | valid_logloss=0.65959,  valid_accu=0.62500\n",
      "C=0.05364 | valid_logloss=0.65884,  valid_accu=0.62500\n",
      "C=0.05464 | valid_logloss=0.65877,  valid_accu=0.62500\n",
      "C=0.05565 | valid_logloss=0.65749,  valid_accu=0.62500\n",
      "C=0.05669 | valid_logloss=0.65806,  valid_accu=0.62500\n",
      "C=0.05775 | valid_logloss=0.65698,  valid_accu=0.62500\n",
      "C=0.05882 | valid_logloss=0.65674,  valid_accu=0.62500\n",
      "C=0.05992 | valid_logloss=0.65625,  valid_accu=0.62500\n",
      "C=0.06103 | valid_logloss=0.65604,  valid_accu=0.62500\n",
      "C=0.06217 | valid_logloss=0.65556,  valid_accu=0.62500\n",
      "C=0.06333 | valid_logloss=0.65503,  valid_accu=0.62500\n",
      "C=0.06451 | valid_logloss=0.65314,  valid_accu=0.62500\n",
      "C=0.06571 | valid_logloss=0.65076,  valid_accu=0.62500\n",
      "C=0.06693 | valid_logloss=0.64993,  valid_accu=0.62500\n",
      "C=0.06818 | valid_logloss=0.64772,  valid_accu=0.62500\n",
      "C=0.06945 | valid_logloss=0.64604,  valid_accu=0.62500\n",
      "C=0.07075 | valid_logloss=0.64377,  valid_accu=0.62500\n",
      "C=0.07206 | valid_logloss=0.64342,  valid_accu=0.65000\n",
      "C=0.07341 | valid_logloss=0.64231,  valid_accu=0.60000\n",
      "C=0.07477 | valid_logloss=0.64168,  valid_accu=0.62500\n",
      "C=0.07617 | valid_logloss=0.63878,  valid_accu=0.62500\n",
      "C=0.07759 | valid_logloss=0.63746,  valid_accu=0.65000\n",
      "C=0.07903 | valid_logloss=0.63776,  valid_accu=0.65000\n",
      "C=0.08050 | valid_logloss=0.63692,  valid_accu=0.62500\n",
      "C=0.08200 | valid_logloss=0.63699,  valid_accu=0.62500\n",
      "C=0.08353 | valid_logloss=0.63792,  valid_accu=0.62500\n",
      "C=0.08509 | valid_logloss=0.63915,  valid_accu=0.60000\n",
      "C=0.08667 | valid_logloss=0.63741,  valid_accu=0.62500\n",
      "C=0.08829 | valid_logloss=0.63820,  valid_accu=0.62500\n",
      "C=0.08993 | valid_logloss=0.64034,  valid_accu=0.60000\n",
      "C=0.09161 | valid_logloss=0.64128,  valid_accu=0.60000\n",
      "C=0.09331 | valid_logloss=0.64094,  valid_accu=0.60000\n",
      "C=0.09505 | valid_logloss=0.64277,  valid_accu=0.60000\n",
      "C=0.09682 | valid_logloss=0.64258,  valid_accu=0.62500\n",
      "C=0.09863 | valid_logloss=0.64566,  valid_accu=0.60000\n",
      "C=0.10046 | valid_logloss=0.65093,  valid_accu=0.57500\n",
      "C=0.10233 | valid_logloss=0.64982,  valid_accu=0.57500\n",
      "C=0.10424 | valid_logloss=0.65179,  valid_accu=0.57500\n",
      "C=0.10618 | valid_logloss=0.65181,  valid_accu=0.60000\n",
      "C=0.10816 | valid_logloss=0.65462,  valid_accu=0.57500\n",
      "C=0.11018 | valid_logloss=0.65653,  valid_accu=0.60000\n",
      "C=0.11223 | valid_logloss=0.65616,  valid_accu=0.60000\n",
      "C=0.11432 | valid_logloss=0.65706,  valid_accu=0.60000\n",
      "C=0.11645 | valid_logloss=0.65865,  valid_accu=0.57500\n",
      "C=0.11862 | valid_logloss=0.66184,  valid_accu=0.57500\n",
      "C=0.12083 | valid_logloss=0.65954,  valid_accu=0.57500\n",
      "C=0.12308 | valid_logloss=0.65868,  valid_accu=0.60000\n",
      "C=0.12537 | valid_logloss=0.65940,  valid_accu=0.62500\n",
      "C=0.12771 | valid_logloss=0.66069,  valid_accu=0.62500\n",
      "C=0.13009 | valid_logloss=0.66222,  valid_accu=0.62500\n",
      "C=0.13251 | valid_logloss=0.65618,  valid_accu=0.60000\n",
      "C=0.13498 | valid_logloss=0.65672,  valid_accu=0.62500\n",
      "C=0.13749 | valid_logloss=0.65726,  valid_accu=0.67500\n",
      "C=0.14005 | valid_logloss=0.65550,  valid_accu=0.67500\n",
      "C=0.14266 | valid_logloss=0.65280,  valid_accu=0.67500\n",
      "C=0.14532 | valid_logloss=0.65242,  valid_accu=0.67500\n",
      "C=0.14803 | valid_logloss=0.65547,  valid_accu=0.67500\n",
      "C=0.15078 | valid_logloss=0.65348,  valid_accu=0.67500\n",
      "C=0.15359 | valid_logloss=0.65260,  valid_accu=0.67500\n",
      "C=0.15645 | valid_logloss=0.65260,  valid_accu=0.67500\n"
     ]
    },
    {
     "name": "stdout",
     "output_type": "stream",
     "text": [
      "C=0.15937 | valid_logloss=0.65448,  valid_accu=0.65000\n",
      "C=0.16234 | valid_logloss=0.64894,  valid_accu=0.67500\n",
      "C=0.16536 | valid_logloss=0.65102,  valid_accu=0.67500\n",
      "C=0.16844 | valid_logloss=0.65101,  valid_accu=0.65000\n",
      "C=0.17158 | valid_logloss=0.65301,  valid_accu=0.65000\n",
      "C=0.17478 | valid_logloss=0.65623,  valid_accu=0.65000\n",
      "C=0.17803 | valid_logloss=0.65420,  valid_accu=0.65000\n",
      "C=0.18135 | valid_logloss=0.65645,  valid_accu=0.65000\n",
      "C=0.18473 | valid_logloss=0.65202,  valid_accu=0.67500\n",
      "C=0.18817 | valid_logloss=0.65636,  valid_accu=0.67500\n",
      "C=0.19167 | valid_logloss=0.65931,  valid_accu=0.65000\n",
      "C=0.19525 | valid_logloss=0.65907,  valid_accu=0.67500\n",
      "C=0.19888 | valid_logloss=0.66241,  valid_accu=0.67500\n",
      "C=0.20259 | valid_logloss=0.66453,  valid_accu=0.67500\n",
      "C=0.20636 | valid_logloss=0.66316,  valid_accu=0.67500\n",
      "C=0.21021 | valid_logloss=0.66139,  valid_accu=0.67500\n",
      "C=0.21412 | valid_logloss=0.66620,  valid_accu=0.67500\n",
      "C=0.21811 | valid_logloss=0.66183,  valid_accu=0.67500\n",
      "C=0.22217 | valid_logloss=0.66561,  valid_accu=0.65000\n",
      "C=0.22631 | valid_logloss=0.66689,  valid_accu=0.67500\n",
      "C=0.23053 | valid_logloss=0.67616,  valid_accu=0.67500\n",
      "C=0.23482 | valid_logloss=0.66968,  valid_accu=0.67500\n",
      "C=0.23920 | valid_logloss=0.67230,  valid_accu=0.67500\n",
      "C=0.24365 | valid_logloss=0.67471,  valid_accu=0.67500\n",
      "C=0.24819 | valid_logloss=0.67353,  valid_accu=0.67500\n",
      "C=0.25282 | valid_logloss=0.68325,  valid_accu=0.67500\n",
      "C=0.25753 | valid_logloss=0.68089,  valid_accu=0.67500\n",
      "C=0.26232 | valid_logloss=0.67807,  valid_accu=0.67500\n",
      "C=0.26721 | valid_logloss=0.68453,  valid_accu=0.67500\n",
      "C=0.27219 | valid_logloss=0.67892,  valid_accu=0.67500\n",
      "C=0.27726 | valid_logloss=0.68489,  valid_accu=0.67500\n",
      "C=0.28242 | valid_logloss=0.68929,  valid_accu=0.67500\n",
      "C=0.28769 | valid_logloss=0.68317,  valid_accu=0.67500\n",
      "C=0.29304 | valid_logloss=0.68426,  valid_accu=0.67500\n",
      "C=0.29850 | valid_logloss=0.68861,  valid_accu=0.67500\n",
      "C=0.30406 | valid_logloss=0.68701,  valid_accu=0.67500\n",
      "C=0.30973 | valid_logloss=0.68857,  valid_accu=0.67500\n",
      "C=0.31550 | valid_logloss=0.68972,  valid_accu=0.67500\n",
      "C=0.32138 | valid_logloss=0.69520,  valid_accu=0.67500\n",
      "C=0.32736 | valid_logloss=0.68799,  valid_accu=0.67500\n",
      "C=0.33346 | valid_logloss=0.69109,  valid_accu=0.67500\n",
      "C=0.33967 | valid_logloss=0.69018,  valid_accu=0.67500\n",
      "C=0.34600 | valid_logloss=0.70247,  valid_accu=0.65000\n",
      "C=0.35245 | valid_logloss=0.69522,  valid_accu=0.67500\n",
      "C=0.35901 | valid_logloss=0.70071,  valid_accu=0.67500\n",
      "C=0.36570 | valid_logloss=0.70097,  valid_accu=0.67500\n",
      "C=0.37251 | valid_logloss=0.70512,  valid_accu=0.67500\n",
      "C=0.37945 | valid_logloss=0.70007,  valid_accu=0.67500\n",
      "C=0.38652 | valid_logloss=0.70351,  valid_accu=0.67500\n",
      "C=0.39372 | valid_logloss=0.71016,  valid_accu=0.65000\n",
      "C=0.40106 | valid_logloss=0.70796,  valid_accu=0.67500\n",
      "C=0.40853 | valid_logloss=0.71270,  valid_accu=0.67500\n",
      "C=0.41614 | valid_logloss=0.71445,  valid_accu=0.65000\n",
      "C=0.42389 | valid_logloss=0.70748,  valid_accu=0.65000\n",
      "C=0.43179 | valid_logloss=0.71332,  valid_accu=0.65000\n",
      "C=0.43983 | valid_logloss=0.69835,  valid_accu=0.67500\n",
      "C=0.44803 | valid_logloss=0.70886,  valid_accu=0.65000\n",
      "C=0.45637 | valid_logloss=0.72898,  valid_accu=0.65000\n",
      "C=0.46487 | valid_logloss=0.72415,  valid_accu=0.65000\n",
      "C=0.47353 | valid_logloss=0.73395,  valid_accu=0.65000\n",
      "C=0.48235 | valid_logloss=0.73005,  valid_accu=0.65000\n",
      "C=0.49134 | valid_logloss=0.72281,  valid_accu=0.65000\n",
      "C=0.50049 | valid_logloss=0.73071,  valid_accu=0.65000\n",
      "C=0.50982 | valid_logloss=0.71420,  valid_accu=0.65000\n",
      "C=0.51931 | valid_logloss=0.70783,  valid_accu=0.65000\n",
      "C=0.52899 | valid_logloss=0.73616,  valid_accu=0.65000\n",
      "C=0.53884 | valid_logloss=0.73259,  valid_accu=0.65000\n",
      "C=0.54888 | valid_logloss=0.73548,  valid_accu=0.65000\n",
      "C=0.55911 | valid_logloss=0.74465,  valid_accu=0.65000\n",
      "C=0.56952 | valid_logloss=0.74302,  valid_accu=0.65000\n",
      "C=0.58013 | valid_logloss=0.72324,  valid_accu=0.62500\n",
      "C=0.59094 | valid_logloss=0.72259,  valid_accu=0.65000\n",
      "C=0.60195 | valid_logloss=0.73834,  valid_accu=0.65000\n",
      "C=0.61316 | valid_logloss=0.73393,  valid_accu=0.65000\n",
      "C=0.62458 | valid_logloss=0.75696,  valid_accu=0.62500\n",
      "C=0.63622 | valid_logloss=0.72586,  valid_accu=0.65000\n",
      "C=0.64807 | valid_logloss=0.71297,  valid_accu=0.65000\n",
      "C=0.66014 | valid_logloss=0.72987,  valid_accu=0.62500\n",
      "C=0.67244 | valid_logloss=0.75161,  valid_accu=0.65000\n",
      "C=0.68497 | valid_logloss=0.73065,  valid_accu=0.65000\n",
      "C=0.69773 | valid_logloss=0.74548,  valid_accu=0.65000\n",
      "C=0.71073 | valid_logloss=0.74237,  valid_accu=0.65000\n",
      "C=0.72397 | valid_logloss=0.76409,  valid_accu=0.65000\n",
      "C=0.73745 | valid_logloss=0.73466,  valid_accu=0.65000\n",
      "C=0.75119 | valid_logloss=0.72861,  valid_accu=0.65000\n",
      "C=0.76519 | valid_logloss=0.75011,  valid_accu=0.65000\n",
      "C=0.77944 | valid_logloss=0.75692,  valid_accu=0.65000\n",
      "C=0.79396 | valid_logloss=0.73630,  valid_accu=0.65000\n",
      "C=0.80875 | valid_logloss=0.76535,  valid_accu=0.65000\n",
      "C=0.82382 | valid_logloss=0.76463,  valid_accu=0.65000\n",
      "C=0.83917 | valid_logloss=0.74053,  valid_accu=0.65000\n",
      "C=0.85480 | valid_logloss=0.78817,  valid_accu=0.65000\n",
      "C=0.87072 | valid_logloss=0.76383,  valid_accu=0.65000\n",
      "C=0.88694 | valid_logloss=0.77636,  valid_accu=0.62500\n",
      "C=0.90347 | valid_logloss=0.73635,  valid_accu=0.65000\n",
      "C=0.92030 | valid_logloss=0.78197,  valid_accu=0.65000\n",
      "C=0.93744 | valid_logloss=0.74770,  valid_accu=0.62500\n",
      "C=0.95490 | valid_logloss=0.74917,  valid_accu=0.62500\n",
      "C=0.97269 | valid_logloss=0.76914,  valid_accu=0.62500\n",
      "C=0.99081 | valid_logloss=0.77617,  valid_accu=0.62500\n",
      "C=1.00927 | valid_logloss=0.77084,  valid_accu=0.67500\n",
      "C=1.02807 | valid_logloss=0.76768,  valid_accu=0.65000\n",
      "C=1.04723 | valid_logloss=0.78079,  valid_accu=0.62500\n",
      "C=1.06673 | valid_logloss=0.78032,  valid_accu=0.65000\n",
      "C=1.08661 | valid_logloss=0.77347,  valid_accu=0.65000\n",
      "C=1.10685 | valid_logloss=0.78233,  valid_accu=0.65000\n",
      "C=1.12747 | valid_logloss=0.75353,  valid_accu=0.67500\n",
      "C=1.14847 | valid_logloss=0.79438,  valid_accu=0.65000\n",
      "C=1.16987 | valid_logloss=0.80679,  valid_accu=0.65000\n",
      "C=1.19166 | valid_logloss=0.78840,  valid_accu=0.62500\n",
      "C=1.21386 | valid_logloss=0.71034,  valid_accu=0.65000\n",
      "C=1.23647 | valid_logloss=0.79372,  valid_accu=0.65000\n",
      "C=1.25951 | valid_logloss=0.78718,  valid_accu=0.62500\n",
      "C=1.28297 | valid_logloss=0.77199,  valid_accu=0.65000\n",
      "C=1.30687 | valid_logloss=0.80088,  valid_accu=0.62500\n",
      "C=1.33122 | valid_logloss=0.81131,  valid_accu=0.62500\n",
      "C=1.35602 | valid_logloss=0.81399,  valid_accu=0.62500\n",
      "C=1.38128 | valid_logloss=0.80222,  valid_accu=0.65000\n",
      "C=1.40701 | valid_logloss=0.74411,  valid_accu=0.67500\n",
      "C=1.43322 | valid_logloss=0.78030,  valid_accu=0.65000\n",
      "C=1.45992 | valid_logloss=0.77292,  valid_accu=0.65000\n",
      "C=1.48712 | valid_logloss=0.75050,  valid_accu=0.65000\n",
      "C=1.51482 | valid_logloss=0.79169,  valid_accu=0.65000\n",
      "C=1.54304 | valid_logloss=0.78611,  valid_accu=0.67500\n",
      "C=1.57178 | valid_logloss=0.76389,  valid_accu=0.65000\n",
      "C=1.60106 | valid_logloss=0.81284,  valid_accu=0.65000\n",
      "C=1.63089 | valid_logloss=0.80847,  valid_accu=0.67500\n",
      "C=1.66127 | valid_logloss=0.81394,  valid_accu=0.65000\n",
      "C=1.69222 | valid_logloss=0.78680,  valid_accu=0.65000\n",
      "C=1.72374 | valid_logloss=0.81863,  valid_accu=0.65000\n",
      "C=1.75586 | valid_logloss=0.78916,  valid_accu=0.65000\n",
      "C=1.78857 | valid_logloss=0.80601,  valid_accu=0.65000\n",
      "C=1.82189 | valid_logloss=0.76726,  valid_accu=0.67500\n",
      "C=1.85583 | valid_logloss=0.84050,  valid_accu=0.65000\n",
      "C=1.89040 | valid_logloss=0.84773,  valid_accu=0.62500\n",
      "C=1.92561 | valid_logloss=0.85444,  valid_accu=0.65000\n",
      "C=1.96149 | valid_logloss=0.77439,  valid_accu=0.65000\n",
      "C=1.99803 | valid_logloss=0.81396,  valid_accu=0.65000\n",
      "C=2.03525 | valid_logloss=0.79932,  valid_accu=0.65000\n",
      "C=2.07316 | valid_logloss=0.85927,  valid_accu=0.62500\n",
      "C=2.11178 | valid_logloss=0.75996,  valid_accu=0.65000\n",
      "C=2.15112 | valid_logloss=0.81907,  valid_accu=0.65000\n",
      "C=2.19120 | valid_logloss=0.82453,  valid_accu=0.65000\n",
      "C=2.23202 | valid_logloss=0.79728,  valid_accu=0.65000\n",
      "C=2.27360 | valid_logloss=0.86896,  valid_accu=0.62500\n",
      "C=2.31595 | valid_logloss=0.83556,  valid_accu=0.65000\n",
      "C=2.35910 | valid_logloss=0.86013,  valid_accu=0.62500\n",
      "C=2.40304 | valid_logloss=0.77982,  valid_accu=0.67500\n",
      "C=2.44781 | valid_logloss=0.79575,  valid_accu=0.62500\n",
      "C=2.49341 | valid_logloss=0.81878,  valid_accu=0.65000\n",
      "C=2.53986 | valid_logloss=0.83630,  valid_accu=0.62500\n"
     ]
    },
    {
     "name": "stdout",
     "output_type": "stream",
     "text": [
      "C=2.58717 | valid_logloss=0.84664,  valid_accu=0.65000\n",
      "C=2.63537 | valid_logloss=0.81976,  valid_accu=0.62500\n",
      "C=2.68446 | valid_logloss=0.82861,  valid_accu=0.62500\n",
      "C=2.73447 | valid_logloss=0.81439,  valid_accu=0.62500\n",
      "C=2.78541 | valid_logloss=0.77816,  valid_accu=0.65000\n",
      "C=2.83730 | valid_logloss=0.77485,  valid_accu=0.65000\n",
      "C=2.89016 | valid_logloss=0.90260,  valid_accu=0.67500\n",
      "C=2.94400 | valid_logloss=0.79108,  valid_accu=0.65000\n",
      "C=2.99884 | valid_logloss=0.82730,  valid_accu=0.65000\n",
      "C=3.05471 | valid_logloss=0.85239,  valid_accu=0.62500\n",
      "C=3.11162 | valid_logloss=0.83938,  valid_accu=0.65000\n",
      "C=3.16958 | valid_logloss=0.89162,  valid_accu=0.62500\n",
      "C=3.22863 | valid_logloss=0.88021,  valid_accu=0.65000\n",
      "C=3.28877 | valid_logloss=0.83743,  valid_accu=0.62500\n",
      "C=3.35004 | valid_logloss=0.85855,  valid_accu=0.65000\n",
      "C=3.41245 | valid_logloss=0.89526,  valid_accu=0.62500\n",
      "C=3.47602 | valid_logloss=0.85009,  valid_accu=0.62500\n",
      "C=3.54077 | valid_logloss=0.79650,  valid_accu=0.65000\n",
      "C=3.60673 | valid_logloss=0.85908,  valid_accu=0.62500\n",
      "C=3.67392 | valid_logloss=0.86342,  valid_accu=0.65000\n",
      "C=3.74237 | valid_logloss=0.84803,  valid_accu=0.65000\n",
      "C=3.81208 | valid_logloss=0.82640,  valid_accu=0.65000\n",
      "C=3.88310 | valid_logloss=0.86872,  valid_accu=0.60000\n",
      "C=3.95544 | valid_logloss=0.93472,  valid_accu=0.62500\n",
      "C=4.02912 | valid_logloss=0.84280,  valid_accu=0.65000\n",
      "C=4.10418 | valid_logloss=0.93918,  valid_accu=0.62500\n",
      "C=4.18064 | valid_logloss=0.86416,  valid_accu=0.65000\n",
      "C=4.25852 | valid_logloss=0.89287,  valid_accu=0.67500\n",
      "C=4.33785 | valid_logloss=0.89171,  valid_accu=0.62500\n",
      "C=4.41866 | valid_logloss=0.90810,  valid_accu=0.62500\n",
      "C=4.50098 | valid_logloss=0.89883,  valid_accu=0.62500\n",
      "C=4.58482 | valid_logloss=0.88024,  valid_accu=0.62500\n",
      "C=4.67023 | valid_logloss=0.91526,  valid_accu=0.62500\n",
      "C=4.75724 | valid_logloss=0.93087,  valid_accu=0.62500\n",
      "C=4.84586 | valid_logloss=0.90276,  valid_accu=0.65000\n",
      "C=4.93613 | valid_logloss=0.86777,  valid_accu=0.62500\n",
      "C=5.02809 | valid_logloss=0.80096,  valid_accu=0.65000\n",
      "C=5.12176 | valid_logloss=0.92211,  valid_accu=0.65000\n",
      "C=5.21717 | valid_logloss=0.94697,  valid_accu=0.65000\n",
      "C=5.31436 | valid_logloss=0.84727,  valid_accu=0.60000\n",
      "C=5.41336 | valid_logloss=0.89883,  valid_accu=0.65000\n",
      "C=5.51421 | valid_logloss=0.92997,  valid_accu=0.67500\n",
      "C=5.61693 | valid_logloss=0.87614,  valid_accu=0.65000\n",
      "C=5.72157 | valid_logloss=0.90609,  valid_accu=0.62500\n",
      "C=5.82815 | valid_logloss=0.90875,  valid_accu=0.62500\n",
      "C=5.93673 | valid_logloss=0.97031,  valid_accu=0.67500\n",
      "C=6.04732 | valid_logloss=0.85468,  valid_accu=0.65000\n",
      "C=6.15998 | valid_logloss=0.96365,  valid_accu=0.62500\n",
      "C=6.27473 | valid_logloss=0.87264,  valid_accu=0.70000\n",
      "C=6.39162 | valid_logloss=0.84323,  valid_accu=0.70000\n",
      "C=6.51069 | valid_logloss=0.94325,  valid_accu=0.62500\n",
      "C=6.63198 | valid_logloss=0.90651,  valid_accu=0.60000\n",
      "C=6.75553 | valid_logloss=0.86996,  valid_accu=0.62500\n",
      "C=6.88138 | valid_logloss=0.98277,  valid_accu=0.65000\n",
      "C=7.00957 | valid_logloss=0.92844,  valid_accu=0.65000\n",
      "C=7.14015 | valid_logloss=0.89190,  valid_accu=0.65000\n",
      "C=7.27317 | valid_logloss=0.89524,  valid_accu=0.65000\n",
      "C=7.40866 | valid_logloss=0.91160,  valid_accu=0.62500\n",
      "C=7.54667 | valid_logloss=0.87426,  valid_accu=0.67500\n",
      "C=7.68726 | valid_logloss=0.78479,  valid_accu=0.65000\n",
      "C=7.83047 | valid_logloss=0.94787,  valid_accu=0.62500\n",
      "C=7.97634 | valid_logloss=0.93699,  valid_accu=0.62500\n",
      "C=8.12493 | valid_logloss=1.01171,  valid_accu=0.67500\n",
      "C=8.27629 | valid_logloss=0.98419,  valid_accu=0.62500\n",
      "C=8.43047 | valid_logloss=0.85351,  valid_accu=0.67500\n",
      "C=8.58752 | valid_logloss=0.92914,  valid_accu=0.65000\n",
      "C=8.74750 | valid_logloss=0.91413,  valid_accu=0.62500\n",
      "C=8.91045 | valid_logloss=0.88368,  valid_accu=0.67500\n",
      "C=9.07645 | valid_logloss=0.99156,  valid_accu=0.62500\n",
      "C=9.24553 | valid_logloss=0.91300,  valid_accu=0.65000\n",
      "C=9.41777 | valid_logloss=0.98224,  valid_accu=0.62500\n",
      "C=9.59321 | valid_logloss=0.86008,  valid_accu=0.65000\n",
      "C=9.77192 | valid_logloss=0.94052,  valid_accu=0.65000\n",
      "C=9.95396 | valid_logloss=0.86175,  valid_accu=0.70000\n",
      "C=10.13939 | valid_logloss=0.92603,  valid_accu=0.65000\n",
      "C=10.32828 | valid_logloss=0.97232,  valid_accu=0.62500\n",
      "C=10.52069 | valid_logloss=0.91044,  valid_accu=0.72500\n",
      "C=10.71668 | valid_logloss=0.92832,  valid_accu=0.65000\n",
      "C=10.91632 | valid_logloss=0.91394,  valid_accu=0.60000\n",
      "C=11.11968 | valid_logloss=0.88460,  valid_accu=0.67500\n",
      "C=11.32683 | valid_logloss=0.93893,  valid_accu=0.67500\n",
      "C=11.53783 | valid_logloss=0.97889,  valid_accu=0.62500\n",
      "C=11.75277 | valid_logloss=0.80387,  valid_accu=0.67500\n",
      "C=11.97171 | valid_logloss=0.90957,  valid_accu=0.62500\n",
      "C=12.19473 | valid_logloss=0.94707,  valid_accu=0.70000\n",
      "C=12.42191 | valid_logloss=0.91521,  valid_accu=0.62500\n",
      "C=12.65332 | valid_logloss=1.03883,  valid_accu=0.65000\n",
      "C=12.88904 | valid_logloss=1.00270,  valid_accu=0.65000\n",
      "C=13.12915 | valid_logloss=0.85938,  valid_accu=0.67500\n",
      "C=13.37373 | valid_logloss=0.96615,  valid_accu=0.65000\n",
      "C=13.62287 | valid_logloss=0.94051,  valid_accu=0.67500\n",
      "C=13.87665 | valid_logloss=0.98985,  valid_accu=0.65000\n",
      "C=14.13516 | valid_logloss=0.97781,  valid_accu=0.60000\n",
      "C=14.39848 | valid_logloss=0.91720,  valid_accu=0.67500\n",
      "C=14.66671 | valid_logloss=0.89645,  valid_accu=0.65000\n",
      "C=14.93993 | valid_logloss=0.92569,  valid_accu=0.65000\n",
      "C=15.21825 | valid_logloss=1.06446,  valid_accu=0.62500\n",
      "C=15.50175 | valid_logloss=0.95361,  valid_accu=0.67500\n",
      "C=15.79053 | valid_logloss=0.95798,  valid_accu=0.65000\n",
      "C=16.08469 | valid_logloss=1.04235,  valid_accu=0.67500\n",
      "C=16.38434 | valid_logloss=0.92332,  valid_accu=0.67500\n",
      "C=16.68956 | valid_logloss=0.98114,  valid_accu=0.65000\n",
      "C=17.00047 | valid_logloss=1.02473,  valid_accu=0.65000\n",
      "C=17.31717 | valid_logloss=0.93436,  valid_accu=0.65000\n",
      "C=17.63977 | valid_logloss=0.96690,  valid_accu=0.62500\n",
      "C=17.96838 | valid_logloss=0.94746,  valid_accu=0.67500\n",
      "C=18.30312 | valid_logloss=1.00211,  valid_accu=0.62500\n",
      "C=18.64409 | valid_logloss=1.00523,  valid_accu=0.70000\n",
      "C=18.99141 | valid_logloss=0.96540,  valid_accu=0.67500\n",
      "C=19.34520 | valid_logloss=0.95651,  valid_accu=0.65000\n",
      "C=19.70558 | valid_logloss=0.96160,  valid_accu=0.65000\n",
      "C=20.07267 | valid_logloss=0.97815,  valid_accu=0.67500\n",
      "C=20.44661 | valid_logloss=0.93685,  valid_accu=0.70000\n",
      "C=20.82751 | valid_logloss=0.99579,  valid_accu=0.60000\n",
      "C=21.21550 | valid_logloss=0.98570,  valid_accu=0.65000\n",
      "C=21.61073 | valid_logloss=0.90772,  valid_accu=0.67500\n",
      "C=22.01331 | valid_logloss=0.95794,  valid_accu=0.65000\n",
      "C=22.42340 | valid_logloss=0.97553,  valid_accu=0.65000\n",
      "C=22.84112 | valid_logloss=0.85373,  valid_accu=0.67500\n",
      "C=23.26663 | valid_logloss=1.01152,  valid_accu=0.65000\n",
      "C=23.70006 | valid_logloss=0.96125,  valid_accu=0.67500\n",
      "C=24.14157 | valid_logloss=0.94282,  valid_accu=0.65000\n",
      "C=24.59130 | valid_logloss=1.05663,  valid_accu=0.65000\n",
      "C=25.04942 | valid_logloss=0.96140,  valid_accu=0.67500\n",
      "C=25.51606 | valid_logloss=1.01158,  valid_accu=0.65000\n",
      "C=25.99140 | valid_logloss=0.95427,  valid_accu=0.65000\n",
      "C=26.47559 | valid_logloss=0.91467,  valid_accu=0.67500\n",
      "C=26.96881 | valid_logloss=1.00404,  valid_accu=0.67500\n",
      "C=27.47121 | valid_logloss=0.98710,  valid_accu=0.67500\n",
      "C=27.98297 | valid_logloss=0.94577,  valid_accu=0.72500\n",
      "C=28.50426 | valid_logloss=1.04965,  valid_accu=0.65000\n",
      "C=29.03527 | valid_logloss=1.06910,  valid_accu=0.65000\n",
      "C=29.57617 | valid_logloss=1.07494,  valid_accu=0.65000\n",
      "C=30.12714 | valid_logloss=0.98053,  valid_accu=0.67500\n",
      "C=30.68838 | valid_logloss=1.08583,  valid_accu=0.70000\n",
      "C=31.26007 | valid_logloss=1.08805,  valid_accu=0.67500\n",
      "C=31.84242 | valid_logloss=0.98782,  valid_accu=0.70000\n",
      "C=32.43561 | valid_logloss=1.07610,  valid_accu=0.70000\n",
      "C=33.03985 | valid_logloss=1.00451,  valid_accu=0.70000\n",
      "C=33.65535 | valid_logloss=1.07677,  valid_accu=0.65000\n",
      "C=34.28231 | valid_logloss=1.12613,  valid_accu=0.60000\n",
      "C=34.92096 | valid_logloss=1.07131,  valid_accu=0.65000\n",
      "C=35.57150 | valid_logloss=0.93579,  valid_accu=0.67500\n",
      "C=36.23416 | valid_logloss=1.04266,  valid_accu=0.65000\n",
      "C=36.90917 | valid_logloss=0.99384,  valid_accu=0.67500\n",
      "C=37.59675 | valid_logloss=1.02394,  valid_accu=0.65000\n",
      "C=38.29714 | valid_logloss=1.14703,  valid_accu=0.65000\n",
      "C=39.01058 | valid_logloss=1.07576,  valid_accu=0.62500\n",
      "C=39.73730 | valid_logloss=1.07808,  valid_accu=0.72500\n",
      "C=40.47757 | valid_logloss=0.99681,  valid_accu=0.65000\n"
     ]
    },
    {
     "name": "stdout",
     "output_type": "stream",
     "text": [
      "C=41.23163 | valid_logloss=1.05703,  valid_accu=0.67500\n",
      "C=41.99973 | valid_logloss=1.09810,  valid_accu=0.65000\n",
      "C=42.78214 | valid_logloss=1.00137,  valid_accu=0.65000\n",
      "C=43.57913 | valid_logloss=0.94464,  valid_accu=0.67500\n",
      "C=44.39097 | valid_logloss=1.10916,  valid_accu=0.60000\n",
      "C=45.21792 | valid_logloss=0.93987,  valid_accu=0.65000\n",
      "C=46.06029 | valid_logloss=1.03707,  valid_accu=0.62500\n",
      "C=46.91835 | valid_logloss=1.02025,  valid_accu=0.67500\n",
      "C=47.79239 | valid_logloss=1.14726,  valid_accu=0.62500\n",
      "C=48.68271 | valid_logloss=0.98253,  valid_accu=0.67500\n",
      "C=49.58962 | valid_logloss=0.92442,  valid_accu=0.70000\n",
      "C=50.51342 | valid_logloss=1.01372,  valid_accu=0.65000\n",
      "C=51.45444 | valid_logloss=1.03138,  valid_accu=0.62500\n",
      "C=52.41298 | valid_logloss=1.12289,  valid_accu=0.65000\n",
      "C=53.38938 | valid_logloss=1.05276,  valid_accu=0.65000\n",
      "C=54.38397 | valid_logloss=1.07259,  valid_accu=0.65000\n",
      "C=55.39709 | valid_logloss=1.02815,  valid_accu=0.65000\n",
      "C=56.42908 | valid_logloss=1.04319,  valid_accu=0.65000\n",
      "C=57.48030 | valid_logloss=1.02601,  valid_accu=0.67500\n",
      "C=58.55110 | valid_logloss=1.12427,  valid_accu=0.67500\n",
      "C=59.64185 | valid_logloss=1.14423,  valid_accu=0.65000\n",
      "C=60.75292 | valid_logloss=0.98340,  valid_accu=0.65000\n",
      "C=61.88468 | valid_logloss=1.03766,  valid_accu=0.67500\n",
      "C=63.03753 | valid_logloss=1.13855,  valid_accu=0.65000\n",
      "C=64.21186 | valid_logloss=1.06765,  valid_accu=0.65000\n",
      "C=65.40806 | valid_logloss=1.09920,  valid_accu=0.65000\n",
      "C=66.62655 | valid_logloss=0.99175,  valid_accu=0.67500\n",
      "C=67.86773 | valid_logloss=1.07158,  valid_accu=0.67500\n",
      "C=69.13204 | valid_logloss=1.14431,  valid_accu=0.62500\n",
      "C=70.41990 | valid_logloss=0.95322,  valid_accu=0.62500\n",
      "C=71.73175 | valid_logloss=0.99457,  valid_accu=0.67500\n",
      "C=73.06804 | valid_logloss=1.16492,  valid_accu=0.65000\n",
      "C=74.42922 | valid_logloss=1.02349,  valid_accu=0.70000\n",
      "C=75.81576 | valid_logloss=1.00458,  valid_accu=0.67500\n",
      "C=77.22814 | valid_logloss=1.04711,  valid_accu=0.65000\n",
      "C=78.66682 | valid_logloss=1.10452,  valid_accu=0.62500\n",
      "C=80.13230 | valid_logloss=1.03000,  valid_accu=0.65000\n",
      "C=81.62509 | valid_logloss=0.92784,  valid_accu=0.72500\n",
      "C=83.14568 | valid_logloss=0.87828,  valid_accu=0.70000\n",
      "C=84.69460 | valid_logloss=0.97538,  valid_accu=0.65000\n",
      "C=86.27237 | valid_logloss=1.07042,  valid_accu=0.65000\n",
      "C=87.87954 | valid_logloss=1.09542,  valid_accu=0.62500\n",
      "C=89.51665 | valid_logloss=1.11986,  valid_accu=0.67500\n",
      "C=91.18425 | valid_logloss=1.08892,  valid_accu=0.67500\n",
      "C=92.88292 | valid_logloss=0.97320,  valid_accu=0.67500\n",
      "C=94.61324 | valid_logloss=1.08516,  valid_accu=0.67500\n",
      "C=96.37579 | valid_logloss=1.00777,  valid_accu=0.62500\n",
      "C=98.17117 | valid_logloss=1.11908,  valid_accu=0.62500\n",
      "C=100.00000 | valid_logloss=1.07130,  valid_accu=0.67500\n",
      "\n"
     ]
    }
   ],
   "source": [
    "# Perform grid search\n",
    "iterator = tqdm.notebook.tqdm(range(1, len(grid_C) + 1), desc='C-grid loop')\n",
    "for n in iterator:\n",
    "    irow = n-1\n",
    "    params['C'] = grid_C[irow]\n",
    "    log_clf = LogisticRegression(**params).fit(xtrain, ytrain.ravel())\n",
    "    \n",
    "    ypred = log_clf.predict_proba(xvalid)\n",
    "    val_loss = log_loss(yvalid, ypred)\n",
    "    val_accu = log_clf.score(xvalid, yvalid.ravel())\n",
    "    \n",
    "    df_grid_loss.iloc[irow,:] = [params['C'], val_loss, val_accu]\n",
    "    print(\"C={:.5f} | valid_logloss={:.5f},  valid_accu={:.5f}\".format(params['C'], \n",
    "                                                                       val_loss, \n",
    "                                                                       val_accu))"
   ]
  },
  {
   "cell_type": "code",
   "execution_count": 28,
   "metadata": {
    "ExecuteTime": {
     "end_time": "2021-02-10T05:15:16.382778Z",
     "start_time": "2021-02-10T05:15:16.372962Z"
    },
    "code_folding": [
     0
    ]
   },
   "outputs": [
    {
     "name": "stdout",
     "output_type": "stream",
     "text": [
      "Best parameters:\n",
      "- Best C = 0.08050\n",
      "- Best valid loss = 0.63692\n"
     ]
    }
   ],
   "source": [
    "# Display grid search results\n",
    "data_out = 'data_lasso_06Arcene'\n",
    "df_grid_loss.to_csv(os.path.join(data_out, 'df_grid_loss.csv'), index=None)\n",
    "df_grid_loss = df_grid_loss.astype('float64')\n",
    "\n",
    "idx = df_grid_loss.valid_loss.idxmin()\n",
    "best_C    = df_grid_loss.iloc[idx, 0]\n",
    "best_loss = df_grid_loss.iloc[idx, 1]\n",
    "print(\"Best parameters:\")\n",
    "print(\"- Best C = {:.5f}\".format(best_C))\n",
    "print(\"- Best valid loss = {:.5f}\".format(best_loss))"
   ]
  },
  {
   "cell_type": "code",
   "execution_count": 29,
   "metadata": {
    "ExecuteTime": {
     "end_time": "2021-02-10T05:15:22.039250Z",
     "start_time": "2021-02-10T05:15:21.907852Z"
    },
    "code_folding": [
     0
    ]
   },
   "outputs": [
    {
     "data": {
      "image/png": "[encoded data removed]",
      "text/plain": [
       "<Figure size 720x432 with 1 Axes>"
      ]
     },
     "metadata": {
      "needs_background": "light"
     },
     "output_type": "display_data"
    }
   ],
   "source": [
    "# Plot Loss vs point in grid search\n",
    "data_out = 'data_lasso_06Arcene'\n",
    "df_grid_loss = pd.read_csv(os.path.join(data_out, 'df_grid_loss.csv'))\n",
    "fig, axes = plt.subplots(figsize=(10,6))\n",
    "axes.scatter(df_grid_loss.index, df_grid_loss['valid_loss'])\n",
    "axes.plot(df_grid_loss.index, df_grid_loss['valid_loss'])\n",
    "axes.set_xlabel(\"grid search point\")\n",
    "axes.set_ylabel(\"Valid Logloss\")\n",
    "plt.show()"
   ]
  },
  {
   "cell_type": "code",
   "execution_count": 30,
   "metadata": {
    "ExecuteTime": {
     "end_time": "2021-02-10T05:15:25.664955Z",
     "start_time": "2021-02-10T05:15:25.608152Z"
    },
    "code_folding": [
     0
    ]
   },
   "outputs": [],
   "source": [
    "# Train with best hyperparameters\n",
    "params['C'] = best_C\n",
    "log_clf = LogisticRegression(**params).fit(xtrain, ytrain.ravel())"
   ]
  },
  {
   "cell_type": "code",
   "execution_count": 31,
   "metadata": {
    "ExecuteTime": {
     "end_time": "2021-02-10T05:16:46.125917Z",
     "start_time": "2021-02-10T05:16:46.119267Z"
    },
    "code_folding": [
     0
    ]
   },
   "outputs": [
    {
     "name": "stdout",
     "output_type": "stream",
     "text": [
      "model saved at: 'data_lasso_06Arcene/lasso_model.pkl'\n",
      "best params saved at: 'data_lasso_06Arcene/lasso_best_params.json'\n"
     ]
    }
   ],
   "source": [
    "# Save model and model's best params\n",
    "data_out = 'data_lasso_06Arcene'\n",
    "joblib.dump(log_clf, os.path.join(data_out, 'lasso_model.pkl'))\n",
    "print(\"model saved at: '{}'\".format(os.path.join(data_out, 'lasso_model.pkl')))\n",
    "\n",
    "best_params = {}\n",
    "best_params['C'] = best_C\n",
    "with open(os.path.join(data_out, 'lasso_best_params.json'), 'w') as f:\n",
    "    json.dump(best_params, f)\n",
    "print(\"best params saved at: '{}'\".format(os.path.join(data_out, 'lasso_best_params.json')))"
   ]
  },
  {
   "cell_type": "code",
   "execution_count": 32,
   "metadata": {
    "ExecuteTime": {
     "end_time": "2021-02-10T05:18:20.181711Z",
     "start_time": "2021-02-10T05:18:20.152318Z"
    },
    "code_folding": [
     0
    ]
   },
   "outputs": [
    {
     "name": "stdout",
     "output_type": "stream",
     "text": [
      "model results saved at: 'data_lasso_06Arcene/results_target.csv'\n"
     ]
    },
    {
     "data": {
      "text/html": [
       "<div>\n",
       "<style scoped>\n",
       "    .dataframe tbody tr th:only-of-type {\n",
       "        vertical-align: middle;\n",
       "    }\n",
       "\n",
       "    .dataframe tbody tr th {\n",
       "        vertical-align: top;\n",
       "    }\n",
       "\n",
       "    .dataframe thead th {\n",
       "        text-align: right;\n",
       "    }\n",
       "</style>\n",
       "<table border=\"1\" class=\"dataframe\">\n",
       "  <thead>\n",
       "    <tr style=\"text-align: right;\">\n",
       "      <th></th>\n",
       "      <th>accuracy</th>\n",
       "      <th>roc_auc</th>\n",
       "    </tr>\n",
       "  </thead>\n",
       "  <tbody>\n",
       "    <tr>\n",
       "      <th>train</th>\n",
       "      <td>0.808333</td>\n",
       "      <td>0.811735</td>\n",
       "    </tr>\n",
       "    <tr>\n",
       "      <th>valid</th>\n",
       "      <td>0.625</td>\n",
       "      <td>0.650895</td>\n",
       "    </tr>\n",
       "    <tr>\n",
       "      <th>test</th>\n",
       "      <td>0.575</td>\n",
       "      <td>0.665242</td>\n",
       "    </tr>\n",
       "  </tbody>\n",
       "</table>\n",
       "</div>"
      ],
      "text/plain": [
       "       accuracy   roc_auc\n",
       "train  0.808333  0.811735\n",
       "valid     0.625  0.650895\n",
       "test      0.575  0.665242"
      ]
     },
     "execution_count": 32,
     "metadata": {},
     "output_type": "execute_result"
    }
   ],
   "source": [
    "# Find MSE, R2, Accuracy, etc...\n",
    "data_out = 'data_lasso_06Arcene'\n",
    "model = joblib.load(os.path.join(data_out, 'lasso_model.pkl'))\n",
    "\n",
    "df_results = pd.DataFrame(index=['train', 'valid', 'test'], \n",
    "                           columns=['accuracy', 'roc_auc'])\n",
    "\n",
    "ypred = model.predict(xtrain)\n",
    "df_results.loc['train', 'accuracy'] = accuracy_score(ytrain, ypred)\n",
    "df_results.loc['train', 'roc_auc']  = roc_auc_score(ytrain, ypred)\n",
    "\n",
    "ypred = model.predict(xvalid)\n",
    "df_results.loc['valid', 'accuracy'] = accuracy_score(yvalid, ypred)\n",
    "df_results.loc['valid', 'roc_auc']  = roc_auc_score(yvalid, ypred)\n",
    "\n",
    "ypred = model.predict(xtest)\n",
    "df_results.loc['test', 'accuracy'] = accuracy_score(ytest, ypred)\n",
    "df_results.loc['test', 'roc_auc']  = roc_auc_score(ytest, ypred)\n",
    "\n",
    "# Save data\n",
    "df_results.to_csv(os.path.join(data_out, 'results_target.csv'), index=True)\n",
    "print(\"model results saved at: '{}'\".format(os.path.join(data_out, 'results_target.csv')))\n",
    "df_results.head()"
   ]
  },
  {
   "cell_type": "code",
   "execution_count": 38,
   "metadata": {
    "ExecuteTime": {
     "end_time": "2021-02-10T05:34:10.397730Z",
     "start_time": "2021-02-10T05:31:35.871021Z"
    },
    "code_folding": [
     0
    ]
   },
   "outputs": [
    {
     "data": {
      "application/vnd.jupyter.widget-view+json": {
       "model_id": "f03f671c5d8144569dc9f12a98d733b6",
       "version_major": 2,
       "version_minor": 0
      },
      "text/plain": [
       "HBox(children=(HTML(value='Partitions loop'), FloatProgress(value=0.0), HTML(value='')))"
      ]
     },
     "metadata": {},
     "output_type": "display_data"
    },
    {
     "name": "stdout",
     "output_type": "stream",
     "text": [
      "\n"
     ]
    }
   ],
   "source": [
    "# Find Accuracy +/- STD\n",
    "data_out = 'data_lasso_06Arcene/partitions'\n",
    "df_results = pd.DataFrame(columns=['train_acc', 'valid_acc', 'test_acc', 'train_roc', 'valid_roc', 'test_roc'])\n",
    "\n",
    "model = joblib.load('data_lasso_06Arcene/lasso_model.pkl')\n",
    "\n",
    "partitions = 100\n",
    "iterator = tqdm.notebook.tqdm(range(1, partitions + 1), desc='Partitions loop')\n",
    "for n in iterator:\n",
    "    X = pd.read_csv('dataset_06Arcene/X.csv', header=None)\n",
    "    y = pd.read_csv('dataset_06Arcene/y.csv', header=None)\n",
    "    split_data(X, y, seed1=seed1[n], seed2=seed2[n])\n",
    "    \n",
    "# .normalize data sets\n",
    "    scaler = StandardScaler()\n",
    "    scaler.fit(xtrain)\n",
    "    xtrain = scaler.transform(xtrain)\n",
    "    xvalid = scaler.transform(xvalid)\n",
    "    xtest  = scaler.transform(xtest)\n",
    "    \n",
    "# .train model\n",
    "    ytrain = ytrain.values.ravel()\n",
    "    yvalid = yvalid.values.ravel()\n",
    "    ytest  = ytest.values.ravel()\n",
    "    model.fit(xtrain, ytrain)\n",
    "    \n",
    "# .compute/save accuracy\n",
    "    ypred = model.predict(xtrain)\n",
    "    df_results.loc[n, 'train_acc'] = accuracy_score(ytrain, ypred)\n",
    "    df_results.loc[n, 'train_roc']  = roc_auc_score(ytrain, ypred)\n",
    "\n",
    "    ypred = model.predict(xvalid)\n",
    "    df_results.loc[n, 'valid_acc'] = accuracy_score(yvalid, ypred)\n",
    "    df_results.loc[n, 'valid_roc']  = roc_auc_score(yvalid, ypred)\n",
    "\n",
    "    ypred = model.predict(xtest)\n",
    "    df_results.loc[n, 'test_acc'] = accuracy_score(ytest, ypred)\n",
    "    df_results.loc[n, 'test_roc']  = roc_auc_score(ytest, ypred)\n",
    "\n",
    "    joblib.dump(model, os.path.join(data_out, 'lasso_model_'+str(n)+'.pkl'))\n",
    "    df_results.to_csv(os.path.join(data_out, 'accuracy_lasso.csv'), index=True)"
   ]
  },
  {
   "cell_type": "code",
   "execution_count": 99,
   "metadata": {
    "ExecuteTime": {
     "end_time": "2021-02-10T08:10:21.622902Z",
     "start_time": "2021-02-10T08:10:21.613964Z"
    },
    "code_folding": [
     0
    ]
   },
   "outputs": [
    {
     "name": "stdout",
     "output_type": "stream",
     "text": [
      "Train accuracy = 0.83983 +/- 0.02854\n",
      "Valid accuracy = 0.71250 +/- 0.07312\n",
      "Test accuracy = 0.71100 +/- 0.06707\n"
     ]
    }
   ],
   "source": [
    "# Display results\n",
    "data_out = 'data_lasso_06Arcene'\n",
    "accuracy_lasso = pd.read_csv(os.path.join(data_out, 'accuracy_lasso.csv'))\n",
    "print(\"Train accuracy = {:.5f} +/- {:.5f}\".format(accuracy_lasso['train_acc'].mean(), \n",
    "                                                  accuracy_lasso['train_acc'].std()))\n",
    "print(\"Valid accuracy = {:.5f} +/- {:.5f}\".format(accuracy_lasso['valid_acc'].mean(), \n",
    "                                                  accuracy_lasso['valid_acc'].std()))\n",
    "print(\"Test accuracy = {:.5f} +/- {:.5f}\".format(accuracy_lasso['test_acc'].mean(), \n",
    "                                                 accuracy_lasso['test_acc'].std()))"
   ]
  },
  {
   "cell_type": "markdown",
   "metadata": {},
   "source": [
    "### Gradient Boosting"
   ]
  },
  {
   "cell_type": "code",
   "execution_count": 48,
   "metadata": {
    "ExecuteTime": {
     "end_time": "2021-02-10T05:55:44.516265Z",
     "start_time": "2021-02-10T05:55:41.532010Z"
    },
    "code_folding": [
     0
    ]
   },
   "outputs": [],
   "source": [
    "# Load data\n",
    "load_data('dataset_06Arcene')\n",
    "\n",
    "# transform tensors to NumPy arrays\n",
    "xtrain = xtrain.numpy()\n",
    "xvalid = xvalid.numpy()\n",
    "xtest = xtest.numpy()\n",
    "\n",
    "ytrain = ytrain.numpy()\n",
    "yvalid = yvalid.numpy()\n",
    "ytest = ytest.numpy()"
   ]
  },
  {
   "cell_type": "code",
   "execution_count": 49,
   "metadata": {
    "ExecuteTime": {
     "end_time": "2021-02-16T21:28:10.481823Z",
     "start_time": "2021-02-16T21:28:10.364105Z"
    },
    "code_folding": [
     0
    ]
   },
   "outputs": [],
   "source": [
    "# Normalize data sets\n",
    "scaler = StandardScaler()\n",
    "scaler.fit(xtrain)\n",
    "xtrain = scaler.transform(xtrain)\n",
    "xvalid = scaler.transform(xvalid)\n",
    "xtest  = scaler.transform(xtest)"
   ]
  },
  {
   "cell_type": "code",
   "execution_count": 50,
   "metadata": {
    "ExecuteTime": {
     "end_time": "2021-02-10T05:55:59.530175Z",
     "start_time": "2021-02-10T05:55:59.441596Z"
    },
    "code_folding": [
     0
    ]
   },
   "outputs": [],
   "source": [
    "# Build DMatrices\n",
    "dtrain = xgb.DMatrix(data=xtrain, label=ytrain, nthread=10, feature_names=cols_all)\n",
    "dvalid = xgb.DMatrix(data=xvalid, label=yvalid, nthread=10, feature_names=cols_all)\n",
    "dtest  = xgb.DMatrix(data=xtest,  label=ytest,  nthread=10, feature_names=cols_all)\n",
    "\n",
    "valid_list = [(dtrain, 'train'), (dvalid, 'valid')]"
   ]
  },
  {
   "cell_type": "code",
   "execution_count": 76,
   "metadata": {
    "ExecuteTime": {
     "end_time": "2021-02-10T07:16:33.950850Z",
     "start_time": "2021-02-10T07:16:33.946703Z"
    },
    "code_folding": [
     0
    ]
   },
   "outputs": [],
   "source": [
    "# Grid search space\n",
    "grid_eta   = np.geomspace(0.01, 1.0, num=100)\n",
    "grid_depth = [1, 2, 3, 4, 5]\n",
    "grid_param = [(eta, max_depth) for eta in grid_eta\n",
    "                               for max_depth in grid_depth]\n",
    "\n",
    "param = [('eta', 0.01), \n",
    "         ('max_depth', 2), \n",
    "         ('objective', 'binary:logistic'), \n",
    "         ('nthread', 4),\n",
    "         ('eval_metric', 'logloss')\n",
    "]"
   ]
  },
  {
   "cell_type": "code",
   "execution_count": 77,
   "metadata": {
    "ExecuteTime": {
     "end_time": "2021-02-10T07:29:23.166608Z",
     "start_time": "2021-02-10T07:16:38.740354Z"
    },
    "code_folding": [
     0
    ],
    "scrolled": true
   },
   "outputs": [
    {
     "name": "stdout",
     "output_type": "stream",
     "text": [
      "eta=0.01000, max_depth=1 | valid_logloss=0.61376 (iters=287)\n",
      "eta=0.01000, max_depth=2 | valid_logloss=0.56441 (iters=193)\n",
      "eta=0.01000, max_depth=3 | valid_logloss=0.51696 (iters=298)\n",
      "eta=0.01000, max_depth=4 | valid_logloss=0.53543 (iters=171)\n",
      "eta=0.01000, max_depth=5 | valid_logloss=0.53443 (iters=207)\n",
      "eta=0.01048, max_depth=1 | valid_logloss=0.61972 (iters=219)\n",
      "eta=0.01048, max_depth=2 | valid_logloss=0.57198 (iters=147)\n",
      "eta=0.01048, max_depth=3 | valid_logloss=0.52340 (iters=268)\n",
      "eta=0.01048, max_depth=4 | valid_logloss=0.52726 (iters=199)\n",
      "eta=0.01048, max_depth=5 | valid_logloss=0.53757 (iters=168)\n",
      "eta=0.01097, max_depth=1 | valid_logloss=0.62042 (iters=199)\n",
      "eta=0.01097, max_depth=2 | valid_logloss=0.56725 (iters=167)\n",
      "eta=0.01097, max_depth=3 | valid_logloss=0.52536 (iters=256)\n",
      "eta=0.01097, max_depth=4 | valid_logloss=0.52737 (iters=184)\n",
      "eta=0.01097, max_depth=5 | valid_logloss=0.53766 (iters=160)\n",
      "eta=0.01150, max_depth=1 | valid_logloss=0.62048 (iters=191)\n",
      "eta=0.01150, max_depth=2 | valid_logloss=0.56954 (iters=160)\n",
      "eta=0.01150, max_depth=3 | valid_logloss=0.55545 (iters=109)\n",
      "eta=0.01150, max_depth=4 | valid_logloss=0.53944 (iters=173)\n",
      "eta=0.01150, max_depth=5 | valid_logloss=0.54392 (iters=118)\n",
      "eta=0.01205, max_depth=1 | valid_logloss=0.61453 (iters=233)\n",
      "eta=0.01205, max_depth=2 | valid_logloss=0.57057 (iters=158)\n",
      "eta=0.01205, max_depth=3 | valid_logloss=0.51650 (iters=246)\n",
      "eta=0.01205, max_depth=4 | valid_logloss=0.53491 (iters=166)\n",
      "eta=0.01205, max_depth=5 | valid_logloss=0.53073 (iters=173)\n",
      "eta=0.01262, max_depth=1 | valid_logloss=0.61959 (iters=178)\n",
      "eta=0.01262, max_depth=2 | valid_logloss=0.56475 (iters=162)\n",
      "eta=0.01262, max_depth=3 | valid_logloss=0.52636 (iters=177)\n",
      "eta=0.01262, max_depth=4 | valid_logloss=0.52658 (iters=141)\n",
      "eta=0.01262, max_depth=5 | valid_logloss=0.53625 (iters=140)\n",
      "eta=0.01322, max_depth=1 | valid_logloss=0.61435 (iters=206)\n",
      "eta=0.01322, max_depth=2 | valid_logloss=0.56775 (iters=140)\n",
      "eta=0.01322, max_depth=3 | valid_logloss=0.55465 (iters=88)\n",
      "eta=0.01322, max_depth=4 | valid_logloss=0.53259 (iters=153)\n",
      "eta=0.01322, max_depth=5 | valid_logloss=0.53705 (iters=155)\n",
      "eta=0.01385, max_depth=1 | valid_logloss=0.61867 (iters=165)\n",
      "eta=0.01385, max_depth=2 | valid_logloss=0.56653 (iters=140)\n",
      "eta=0.01385, max_depth=3 | valid_logloss=0.51784 (iters=216)\n",
      "eta=0.01385, max_depth=4 | valid_logloss=0.53354 (iters=123)\n",
      "eta=0.01385, max_depth=5 | valid_logloss=0.53883 (iters=113)\n",
      "eta=0.01451, max_depth=1 | valid_logloss=0.61863 (iters=160)\n",
      "eta=0.01451, max_depth=2 | valid_logloss=0.56771 (iters=129)\n",
      "eta=0.01451, max_depth=3 | valid_logloss=0.51501 (iters=207)\n",
      "eta=0.01451, max_depth=4 | valid_logloss=0.52732 (iters=141)\n",
      "eta=0.01451, max_depth=5 | valid_logloss=0.52974 (iters=137)\n",
      "eta=0.01520, max_depth=1 | valid_logloss=0.61389 (iters=193)\n",
      "eta=0.01520, max_depth=2 | valid_logloss=0.56262 (iters=124)\n",
      "eta=0.01520, max_depth=3 | valid_logloss=0.52637 (iters=145)\n",
      "eta=0.01520, max_depth=4 | valid_logloss=0.54497 (iters=93)\n",
      "eta=0.01520, max_depth=5 | valid_logloss=0.54901 (iters=95)\n",
      "eta=0.01592, max_depth=1 | valid_logloss=0.61430 (iters=186)\n",
      "eta=0.01592, max_depth=2 | valid_logloss=0.56061 (iters=130)\n",
      "eta=0.01592, max_depth=3 | valid_logloss=0.51778 (iters=200)\n",
      "eta=0.01592, max_depth=4 | valid_logloss=0.52534 (iters=129)\n",
      "eta=0.01592, max_depth=5 | valid_logloss=0.54060 (iters=126)\n",
      "eta=0.01668, max_depth=1 | valid_logloss=0.61275 (iters=199)\n",
      "eta=0.01668, max_depth=2 | valid_logloss=0.56572 (iters=112)\n",
      "eta=0.01668, max_depth=3 | valid_logloss=0.55803 (iters=73)\n",
      "eta=0.01668, max_depth=4 | valid_logloss=0.53846 (iters=105)\n",
      "eta=0.01668, max_depth=5 | valid_logloss=0.54210 (iters=87)\n",
      "eta=0.01748, max_depth=1 | valid_logloss=0.61502 (iters=157)\n",
      "eta=0.01748, max_depth=2 | valid_logloss=0.56437 (iters=102)\n",
      "eta=0.01748, max_depth=3 | valid_logloss=0.52643 (iters=125)\n",
      "eta=0.01748, max_depth=4 | valid_logloss=0.53814 (iters=115)\n",
      "eta=0.01748, max_depth=5 | valid_logloss=0.53638 (iters=93)\n",
      "eta=0.01831, max_depth=1 | valid_logloss=0.61287 (iters=166)\n",
      "eta=0.01831, max_depth=2 | valid_logloss=0.55865 (iters=110)\n",
      "eta=0.01831, max_depth=3 | valid_logloss=0.55055 (iters=64)\n",
      "eta=0.01831, max_depth=4 | valid_logloss=0.53298 (iters=91)\n",
      "eta=0.01831, max_depth=5 | valid_logloss=0.54126 (iters=114)\n",
      "eta=0.01918, max_depth=1 | valid_logloss=0.61582 (iters=131)\n",
      "eta=0.01918, max_depth=2 | valid_logloss=0.56037 (iters=103)\n",
      "eta=0.01918, max_depth=3 | valid_logloss=0.51882 (iters=163)\n",
      "eta=0.01918, max_depth=4 | valid_logloss=0.53297 (iters=104)\n",
      "eta=0.01918, max_depth=5 | valid_logloss=0.53604 (iters=97)\n",
      "eta=0.02009, max_depth=1 | valid_logloss=0.61418 (iters=148)\n",
      "eta=0.02009, max_depth=2 | valid_logloss=0.55947 (iters=129)\n",
      "eta=0.02009, max_depth=3 | valid_logloss=0.51762 (iters=136)\n",
      "eta=0.02009, max_depth=4 | valid_logloss=0.53703 (iters=76)\n",
      "eta=0.02009, max_depth=5 | valid_logloss=0.53687 (iters=100)\n",
      "eta=0.02105, max_depth=1 | valid_logloss=0.61367 (iters=144)\n",
      "eta=0.02105, max_depth=2 | valid_logloss=0.56404 (iters=85)\n",
      "eta=0.02105, max_depth=3 | valid_logloss=0.55976 (iters=50)\n",
      "eta=0.02105, max_depth=4 | valid_logloss=0.54318 (iters=76)\n",
      "eta=0.02105, max_depth=5 | valid_logloss=0.53697 (iters=83)\n",
      "eta=0.02205, max_depth=1 | valid_logloss=0.61523 (iters=126)\n",
      "eta=0.02205, max_depth=2 | valid_logloss=0.56647 (iters=90)\n",
      "eta=0.02205, max_depth=3 | valid_logloss=0.51885 (iters=134)\n",
      "eta=0.02205, max_depth=4 | valid_logloss=0.53906 (iters=93)\n",
      "eta=0.02205, max_depth=5 | valid_logloss=0.54650 (iters=60)\n",
      "eta=0.02310, max_depth=1 | valid_logloss=0.61222 (iters=128)\n",
      "eta=0.02310, max_depth=2 | valid_logloss=0.56891 (iters=86)\n",
      "eta=0.02310, max_depth=3 | valid_logloss=0.55163 (iters=47)\n",
      "eta=0.02310, max_depth=4 | valid_logloss=0.54319 (iters=69)\n",
      "eta=0.02310, max_depth=5 | valid_logloss=0.53722 (iters=93)\n",
      "eta=0.02420, max_depth=1 | valid_logloss=0.61156 (iters=149)\n",
      "eta=0.02420, max_depth=2 | valid_logloss=0.56186 (iters=97)\n",
      "eta=0.02420, max_depth=3 | valid_logloss=0.52855 (iters=116)\n",
      "eta=0.02420, max_depth=4 | valid_logloss=0.53080 (iters=66)\n",
      "eta=0.02420, max_depth=5 | valid_logloss=0.52926 (iters=78)\n",
      "eta=0.02535, max_depth=1 | valid_logloss=0.61347 (iters=109)\n",
      "eta=0.02535, max_depth=2 | valid_logloss=0.56032 (iters=77)\n",
      "eta=0.02535, max_depth=3 | valid_logloss=0.52503 (iters=85)\n",
      "eta=0.02535, max_depth=4 | valid_logloss=0.54160 (iters=67)\n",
      "eta=0.02535, max_depth=5 | valid_logloss=0.53164 (iters=81)\n",
      "eta=0.02656, max_depth=1 | valid_logloss=0.61372 (iters=90)\n",
      "eta=0.02656, max_depth=2 | valid_logloss=0.56244 (iters=70)\n",
      "eta=0.02656, max_depth=3 | valid_logloss=0.51585 (iters=105)\n",
      "eta=0.02656, max_depth=4 | valid_logloss=0.53847 (iters=61)\n",
      "eta=0.02656, max_depth=5 | valid_logloss=0.53926 (iters=80)\n",
      "eta=0.02783, max_depth=1 | valid_logloss=0.61188 (iters=105)\n",
      "eta=0.02783, max_depth=2 | valid_logloss=0.55973 (iters=71)\n",
      "eta=0.02783, max_depth=3 | valid_logloss=0.51401 (iters=96)\n",
      "eta=0.02783, max_depth=4 | valid_logloss=0.54524 (iters=52)\n",
      "eta=0.02783, max_depth=5 | valid_logloss=0.54590 (iters=79)\n",
      "eta=0.02915, max_depth=1 | valid_logloss=0.61132 (iters=100)\n",
      "eta=0.02915, max_depth=2 | valid_logloss=0.55682 (iters=77)\n",
      "eta=0.02915, max_depth=3 | valid_logloss=0.51717 (iters=98)\n",
      "eta=0.02915, max_depth=4 | valid_logloss=0.54858 (iters=48)\n",
      "eta=0.02915, max_depth=5 | valid_logloss=0.55658 (iters=62)\n",
      "eta=0.03054, max_depth=1 | valid_logloss=0.61104 (iters=105)\n",
      "eta=0.03054, max_depth=2 | valid_logloss=0.57063 (iters=58)\n",
      "eta=0.03054, max_depth=3 | valid_logloss=0.52041 (iters=96)\n",
      "eta=0.03054, max_depth=4 | valid_logloss=0.54313 (iters=52)\n",
      "eta=0.03054, max_depth=5 | valid_logloss=0.54697 (iters=61)\n",
      "eta=0.03199, max_depth=1 | valid_logloss=0.60963 (iters=103)\n",
      "eta=0.03199, max_depth=2 | valid_logloss=0.56948 (iters=50)\n",
      "eta=0.03199, max_depth=3 | valid_logloss=0.53154 (iters=54)\n",
      "eta=0.03199, max_depth=4 | valid_logloss=0.53851 (iters=67)\n",
      "eta=0.03199, max_depth=5 | valid_logloss=0.53648 (iters=58)\n",
      "eta=0.03352, max_depth=1 | valid_logloss=0.61672 (iters=81)\n",
      "eta=0.03352, max_depth=2 | valid_logloss=0.56747 (iters=51)\n",
      "eta=0.03352, max_depth=3 | valid_logloss=0.51187 (iters=85)\n",
      "eta=0.03352, max_depth=4 | valid_logloss=0.52659 (iters=55)\n",
      "eta=0.03352, max_depth=5 | valid_logloss=0.54089 (iters=41)\n",
      "eta=0.03511, max_depth=1 | valid_logloss=0.61187 (iters=95)\n"
     ]
    },
    {
     "name": "stdout",
     "output_type": "stream",
     "text": [
      "eta=0.03511, max_depth=2 | valid_logloss=0.56538 (iters=50)\n",
      "eta=0.03511, max_depth=3 | valid_logloss=0.51212 (iters=84)\n",
      "eta=0.03511, max_depth=4 | valid_logloss=0.52725 (iters=53)\n",
      "eta=0.03511, max_depth=5 | valid_logloss=0.52980 (iters=58)\n",
      "eta=0.03678, max_depth=1 | valid_logloss=0.61432 (iters=77)\n",
      "eta=0.03678, max_depth=2 | valid_logloss=0.54430 (iters=83)\n",
      "eta=0.03678, max_depth=3 | valid_logloss=0.51161 (iters=94)\n",
      "eta=0.03678, max_depth=4 | valid_logloss=0.52899 (iters=53)\n",
      "eta=0.03678, max_depth=5 | valid_logloss=0.53298 (iters=41)\n",
      "eta=0.03854, max_depth=1 | valid_logloss=0.61362 (iters=78)\n",
      "eta=0.03854, max_depth=2 | valid_logloss=0.55656 (iters=58)\n",
      "eta=0.03854, max_depth=3 | valid_logloss=0.51626 (iters=77)\n",
      "eta=0.03854, max_depth=4 | valid_logloss=0.52547 (iters=41)\n",
      "eta=0.03854, max_depth=5 | valid_logloss=0.53210 (iters=46)\n",
      "eta=0.04037, max_depth=1 | valid_logloss=0.61216 (iters=87)\n",
      "eta=0.04037, max_depth=2 | valid_logloss=0.55876 (iters=54)\n",
      "eta=0.04037, max_depth=3 | valid_logloss=0.51107 (iters=82)\n",
      "eta=0.04037, max_depth=4 | valid_logloss=0.54085 (iters=49)\n",
      "eta=0.04037, max_depth=5 | valid_logloss=0.55576 (iters=57)\n",
      "eta=0.04229, max_depth=1 | valid_logloss=0.61197 (iters=76)\n",
      "eta=0.04229, max_depth=2 | valid_logloss=0.55741 (iters=58)\n",
      "eta=0.04229, max_depth=3 | valid_logloss=0.53051 (iters=50)\n",
      "eta=0.04229, max_depth=4 | valid_logloss=0.55145 (iters=39)\n",
      "eta=0.04229, max_depth=5 | valid_logloss=0.54980 (iters=31)\n",
      "eta=0.04431, max_depth=1 | valid_logloss=0.60941 (iters=68)\n",
      "eta=0.04431, max_depth=2 | valid_logloss=0.56590 (iters=62)\n",
      "eta=0.04431, max_depth=3 | valid_logloss=0.52891 (iters=44)\n",
      "eta=0.04431, max_depth=4 | valid_logloss=0.53190 (iters=36)\n",
      "eta=0.04431, max_depth=5 | valid_logloss=0.54863 (iters=35)\n",
      "eta=0.04642, max_depth=1 | valid_logloss=0.60762 (iters=66)\n",
      "eta=0.04642, max_depth=2 | valid_logloss=0.56672 (iters=35)\n",
      "eta=0.04642, max_depth=3 | valid_logloss=0.54548 (iters=25)\n",
      "eta=0.04642, max_depth=4 | valid_logloss=0.52634 (iters=43)\n",
      "eta=0.04642, max_depth=5 | valid_logloss=0.52597 (iters=47)\n",
      "eta=0.04863, max_depth=1 | valid_logloss=0.61029 (iters=70)\n",
      "eta=0.04863, max_depth=2 | valid_logloss=0.56368 (iters=43)\n",
      "eta=0.04863, max_depth=3 | valid_logloss=0.51122 (iters=53)\n",
      "eta=0.04863, max_depth=4 | valid_logloss=0.51397 (iters=41)\n",
      "eta=0.04863, max_depth=5 | valid_logloss=0.52672 (iters=38)\n",
      "eta=0.05094, max_depth=1 | valid_logloss=0.60978 (iters=44)\n",
      "eta=0.05094, max_depth=2 | valid_logloss=0.55387 (iters=42)\n",
      "eta=0.05094, max_depth=3 | valid_logloss=0.51994 (iters=55)\n",
      "eta=0.05094, max_depth=4 | valid_logloss=0.53135 (iters=44)\n",
      "eta=0.05094, max_depth=5 | valid_logloss=0.54033 (iters=31)\n",
      "eta=0.05337, max_depth=1 | valid_logloss=0.61843 (iters=47)\n",
      "eta=0.05337, max_depth=2 | valid_logloss=0.56631 (iters=32)\n",
      "eta=0.05337, max_depth=3 | valid_logloss=0.51933 (iters=48)\n",
      "eta=0.05337, max_depth=4 | valid_logloss=0.53116 (iters=36)\n",
      "eta=0.05337, max_depth=5 | valid_logloss=0.54046 (iters=44)\n",
      "eta=0.05591, max_depth=1 | valid_logloss=0.61030 (iters=57)\n",
      "eta=0.05591, max_depth=2 | valid_logloss=0.56106 (iters=28)\n",
      "eta=0.05591, max_depth=3 | valid_logloss=0.50253 (iters=36)\n",
      "eta=0.05591, max_depth=4 | valid_logloss=0.54295 (iters=40)\n",
      "eta=0.05591, max_depth=5 | valid_logloss=0.54342 (iters=44)\n",
      "eta=0.05857, max_depth=1 | valid_logloss=0.60602 (iters=46)\n",
      "eta=0.05857, max_depth=2 | valid_logloss=0.56414 (iters=39)\n",
      "eta=0.05857, max_depth=3 | valid_logloss=0.53614 (iters=39)\n",
      "eta=0.05857, max_depth=4 | valid_logloss=0.51668 (iters=34)\n",
      "eta=0.05857, max_depth=5 | valid_logloss=0.53695 (iters=55)\n",
      "eta=0.06136, max_depth=1 | valid_logloss=0.60747 (iters=59)\n",
      "eta=0.06136, max_depth=2 | valid_logloss=0.56704 (iters=49)\n",
      "eta=0.06136, max_depth=3 | valid_logloss=0.52667 (iters=39)\n",
      "eta=0.06136, max_depth=4 | valid_logloss=0.52204 (iters=38)\n",
      "eta=0.06136, max_depth=5 | valid_logloss=0.54364 (iters=30)\n",
      "eta=0.06428, max_depth=1 | valid_logloss=0.61222 (iters=57)\n",
      "eta=0.06428, max_depth=2 | valid_logloss=0.56841 (iters=35)\n",
      "eta=0.06428, max_depth=3 | valid_logloss=0.52420 (iters=42)\n",
      "eta=0.06428, max_depth=4 | valid_logloss=0.53884 (iters=27)\n",
      "eta=0.06428, max_depth=5 | valid_logloss=0.54477 (iters=24)\n",
      "eta=0.06734, max_depth=1 | valid_logloss=0.61243 (iters=31)\n",
      "eta=0.06734, max_depth=2 | valid_logloss=0.56008 (iters=44)\n",
      "eta=0.06734, max_depth=3 | valid_logloss=0.52052 (iters=56)\n",
      "eta=0.06734, max_depth=4 | valid_logloss=0.54122 (iters=21)\n",
      "eta=0.06734, max_depth=5 | valid_logloss=0.56221 (iters=23)\n",
      "eta=0.07055, max_depth=1 | valid_logloss=0.60583 (iters=41)\n",
      "eta=0.07055, max_depth=2 | valid_logloss=0.56006 (iters=25)\n",
      "eta=0.07055, max_depth=3 | valid_logloss=0.51111 (iters=52)\n",
      "eta=0.07055, max_depth=4 | valid_logloss=0.54338 (iters=27)\n",
      "eta=0.07055, max_depth=5 | valid_logloss=0.54653 (iters=35)\n",
      "eta=0.07391, max_depth=1 | valid_logloss=0.61204 (iters=47)\n",
      "eta=0.07391, max_depth=2 | valid_logloss=0.55671 (iters=25)\n",
      "eta=0.07391, max_depth=3 | valid_logloss=0.52016 (iters=41)\n",
      "eta=0.07391, max_depth=4 | valid_logloss=0.53053 (iters=31)\n",
      "eta=0.07391, max_depth=5 | valid_logloss=0.55093 (iters=24)\n",
      "eta=0.07743, max_depth=1 | valid_logloss=0.61525 (iters=39)\n",
      "eta=0.07743, max_depth=2 | valid_logloss=0.54618 (iters=33)\n",
      "eta=0.07743, max_depth=3 | valid_logloss=0.52198 (iters=34)\n",
      "eta=0.07743, max_depth=4 | valid_logloss=0.54727 (iters=26)\n",
      "eta=0.07743, max_depth=5 | valid_logloss=0.56294 (iters=19)\n",
      "eta=0.08111, max_depth=1 | valid_logloss=0.61244 (iters=42)\n",
      "eta=0.08111, max_depth=2 | valid_logloss=0.55603 (iters=24)\n",
      "eta=0.08111, max_depth=3 | valid_logloss=0.55178 (iters=13)\n",
      "eta=0.08111, max_depth=4 | valid_logloss=0.54821 (iters=39)\n",
      "eta=0.08111, max_depth=5 | valid_logloss=0.56134 (iters=25)\n",
      "eta=0.08498, max_depth=1 | valid_logloss=0.61523 (iters=35)\n",
      "eta=0.08498, max_depth=2 | valid_logloss=0.56617 (iters=20)\n",
      "eta=0.08498, max_depth=3 | valid_logloss=0.52670 (iters=33)\n",
      "eta=0.08498, max_depth=4 | valid_logloss=0.54716 (iters=28)\n",
      "eta=0.08498, max_depth=5 | valid_logloss=0.54638 (iters=20)\n",
      "eta=0.08902, max_depth=1 | valid_logloss=0.61514 (iters=32)\n",
      "eta=0.08902, max_depth=2 | valid_logloss=0.55911 (iters=28)\n",
      "eta=0.08902, max_depth=3 | valid_logloss=0.52540 (iters=23)\n",
      "eta=0.08902, max_depth=4 | valid_logloss=0.51592 (iters=31)\n",
      "eta=0.08902, max_depth=5 | valid_logloss=0.54834 (iters=22)\n",
      "eta=0.09326, max_depth=1 | valid_logloss=0.60454 (iters=31)\n",
      "eta=0.09326, max_depth=2 | valid_logloss=0.56621 (iters=22)\n",
      "eta=0.09326, max_depth=3 | valid_logloss=0.51357 (iters=40)\n",
      "eta=0.09326, max_depth=4 | valid_logloss=0.55829 (iters=16)\n",
      "eta=0.09326, max_depth=5 | valid_logloss=0.53170 (iters=31)\n",
      "eta=0.09770, max_depth=1 | valid_logloss=0.60523 (iters=30)\n",
      "eta=0.09770, max_depth=2 | valid_logloss=0.57158 (iters=19)\n",
      "eta=0.09770, max_depth=3 | valid_logloss=0.52620 (iters=15)\n",
      "eta=0.09770, max_depth=4 | valid_logloss=0.52112 (iters=16)\n",
      "eta=0.09770, max_depth=5 | valid_logloss=0.53465 (iters=21)\n",
      "eta=0.10235, max_depth=1 | valid_logloss=0.61432 (iters=28)\n",
      "eta=0.10235, max_depth=2 | valid_logloss=0.55781 (iters=28)\n",
      "eta=0.10235, max_depth=3 | valid_logloss=0.53470 (iters=15)\n",
      "eta=0.10235, max_depth=4 | valid_logloss=0.54360 (iters=16)\n",
      "eta=0.10235, max_depth=5 | valid_logloss=0.54460 (iters=15)\n",
      "eta=0.10723, max_depth=1 | valid_logloss=0.60040 (iters=30)\n",
      "eta=0.10723, max_depth=2 | valid_logloss=0.55881 (iters=24)\n",
      "eta=0.10723, max_depth=3 | valid_logloss=0.54016 (iters=15)\n",
      "eta=0.10723, max_depth=4 | valid_logloss=0.54583 (iters=15)\n",
      "eta=0.10723, max_depth=5 | valid_logloss=0.53924 (iters=31)\n",
      "eta=0.11233, max_depth=1 | valid_logloss=0.61137 (iters=29)\n",
      "eta=0.11233, max_depth=2 | valid_logloss=0.57545 (iters=15)\n",
      "eta=0.11233, max_depth=3 | valid_logloss=0.51505 (iters=24)\n",
      "eta=0.11233, max_depth=4 | valid_logloss=0.52299 (iters=17)\n",
      "eta=0.11233, max_depth=5 | valid_logloss=0.55251 (iters=24)\n",
      "eta=0.11768, max_depth=1 | valid_logloss=0.61196 (iters=28)\n",
      "eta=0.11768, max_depth=2 | valid_logloss=0.58298 (iters=17)\n",
      "eta=0.11768, max_depth=3 | valid_logloss=0.54918 (iters=10)\n",
      "eta=0.11768, max_depth=4 | valid_logloss=0.53600 (iters=16)\n",
      "eta=0.11768, max_depth=5 | valid_logloss=0.52309 (iters=16)\n",
      "eta=0.12328, max_depth=1 | valid_logloss=0.60936 (iters=19)\n",
      "eta=0.12328, max_depth=2 | valid_logloss=0.56812 (iters=15)\n",
      "eta=0.12328, max_depth=3 | valid_logloss=0.53929 (iters=20)\n"
     ]
    },
    {
     "name": "stdout",
     "output_type": "stream",
     "text": [
      "eta=0.12328, max_depth=4 | valid_logloss=0.52240 (iters=14)\n",
      "eta=0.12328, max_depth=5 | valid_logloss=0.50787 (iters=18)\n",
      "eta=0.12915, max_depth=1 | valid_logloss=0.60715 (iters=19)\n",
      "eta=0.12915, max_depth=2 | valid_logloss=0.55330 (iters=16)\n",
      "eta=0.12915, max_depth=3 | valid_logloss=0.52189 (iters=21)\n",
      "eta=0.12915, max_depth=4 | valid_logloss=0.50787 (iters=26)\n",
      "eta=0.12915, max_depth=5 | valid_logloss=0.53564 (iters=20)\n",
      "eta=0.13530, max_depth=1 | valid_logloss=0.60950 (iters=27)\n",
      "eta=0.13530, max_depth=2 | valid_logloss=0.55120 (iters=28)\n",
      "eta=0.13530, max_depth=3 | valid_logloss=0.53257 (iters=21)\n",
      "eta=0.13530, max_depth=4 | valid_logloss=0.54964 (iters=8)\n",
      "eta=0.13530, max_depth=5 | valid_logloss=0.52202 (iters=24)\n",
      "eta=0.14175, max_depth=1 | valid_logloss=0.60586 (iters=28)\n",
      "eta=0.14175, max_depth=2 | valid_logloss=0.55407 (iters=16)\n",
      "eta=0.14175, max_depth=3 | valid_logloss=0.53894 (iters=14)\n",
      "eta=0.14175, max_depth=4 | valid_logloss=0.51499 (iters=19)\n",
      "eta=0.14175, max_depth=5 | valid_logloss=0.54671 (iters=22)\n",
      "eta=0.14850, max_depth=1 | valid_logloss=0.60686 (iters=28)\n",
      "eta=0.14850, max_depth=2 | valid_logloss=0.55047 (iters=22)\n",
      "eta=0.14850, max_depth=3 | valid_logloss=0.54026 (iters=15)\n",
      "eta=0.14850, max_depth=4 | valid_logloss=0.54916 (iters=10)\n",
      "eta=0.14850, max_depth=5 | valid_logloss=0.52757 (iters=12)\n",
      "eta=0.15557, max_depth=1 | valid_logloss=0.61121 (iters=26)\n",
      "eta=0.15557, max_depth=2 | valid_logloss=0.55041 (iters=22)\n",
      "eta=0.15557, max_depth=3 | valid_logloss=0.53305 (iters=9)\n",
      "eta=0.15557, max_depth=4 | valid_logloss=0.53392 (iters=18)\n",
      "eta=0.15557, max_depth=5 | valid_logloss=0.54101 (iters=12)\n",
      "eta=0.16298, max_depth=1 | valid_logloss=0.60681 (iters=27)\n",
      "eta=0.16298, max_depth=2 | valid_logloss=0.57380 (iters=16)\n",
      "eta=0.16298, max_depth=3 | valid_logloss=0.57712 (iters=4)\n",
      "eta=0.16298, max_depth=4 | valid_logloss=0.51481 (iters=15)\n",
      "eta=0.16298, max_depth=5 | valid_logloss=0.53556 (iters=13)\n",
      "eta=0.17074, max_depth=1 | valid_logloss=0.60057 (iters=23)\n",
      "eta=0.17074, max_depth=2 | valid_logloss=0.58469 (iters=9)\n",
      "eta=0.17074, max_depth=3 | valid_logloss=0.50653 (iters=12)\n",
      "eta=0.17074, max_depth=4 | valid_logloss=0.51891 (iters=11)\n",
      "eta=0.17074, max_depth=5 | valid_logloss=0.52373 (iters=9)\n",
      "eta=0.17886, max_depth=1 | valid_logloss=0.60479 (iters=22)\n",
      "eta=0.17886, max_depth=2 | valid_logloss=0.53732 (iters=9)\n",
      "eta=0.17886, max_depth=3 | valid_logloss=0.50548 (iters=14)\n",
      "eta=0.17886, max_depth=4 | valid_logloss=0.54881 (iters=8)\n",
      "eta=0.17886, max_depth=5 | valid_logloss=0.56102 (iters=9)\n",
      "eta=0.18738, max_depth=1 | valid_logloss=0.60577 (iters=14)\n",
      "eta=0.18738, max_depth=2 | valid_logloss=0.56675 (iters=15)\n",
      "eta=0.18738, max_depth=3 | valid_logloss=0.56132 (iters=3)\n",
      "eta=0.18738, max_depth=4 | valid_logloss=0.55313 (iters=9)\n",
      "eta=0.18738, max_depth=5 | valid_logloss=0.57946 (iters=7)\n",
      "eta=0.19630, max_depth=1 | valid_logloss=0.60689 (iters=14)\n",
      "eta=0.19630, max_depth=2 | valid_logloss=0.56290 (iters=14)\n",
      "eta=0.19630, max_depth=3 | valid_logloss=0.52236 (iters=11)\n",
      "eta=0.19630, max_depth=4 | valid_logloss=0.54832 (iters=9)\n",
      "eta=0.19630, max_depth=5 | valid_logloss=0.57738 (iters=4)\n",
      "eta=0.20565, max_depth=1 | valid_logloss=0.60682 (iters=11)\n",
      "eta=0.20565, max_depth=2 | valid_logloss=0.58303 (iters=9)\n",
      "eta=0.20565, max_depth=3 | valid_logloss=0.54621 (iters=4)\n",
      "eta=0.20565, max_depth=4 | valid_logloss=0.54622 (iters=9)\n",
      "eta=0.20565, max_depth=5 | valid_logloss=0.56930 (iters=10)\n",
      "eta=0.21544, max_depth=1 | valid_logloss=0.61774 (iters=17)\n",
      "eta=0.21544, max_depth=2 | valid_logloss=0.57361 (iters=16)\n",
      "eta=0.21544, max_depth=3 | valid_logloss=0.54136 (iters=13)\n",
      "eta=0.21544, max_depth=4 | valid_logloss=0.55501 (iters=7)\n",
      "eta=0.21544, max_depth=5 | valid_logloss=0.56318 (iters=7)\n",
      "eta=0.22570, max_depth=1 | valid_logloss=0.62758 (iters=17)\n",
      "eta=0.22570, max_depth=2 | valid_logloss=0.58195 (iters=3)\n",
      "eta=0.22570, max_depth=3 | valid_logloss=0.51353 (iters=15)\n",
      "eta=0.22570, max_depth=4 | valid_logloss=0.56306 (iters=7)\n",
      "eta=0.22570, max_depth=5 | valid_logloss=0.59939 (iters=5)\n",
      "eta=0.23645, max_depth=1 | valid_logloss=0.61880 (iters=17)\n",
      "eta=0.23645, max_depth=2 | valid_logloss=0.56283 (iters=10)\n",
      "eta=0.23645, max_depth=3 | valid_logloss=0.49797 (iters=11)\n",
      "eta=0.23645, max_depth=4 | valid_logloss=0.55364 (iters=8)\n",
      "eta=0.23645, max_depth=5 | valid_logloss=0.57087 (iters=5)\n",
      "eta=0.24771, max_depth=1 | valid_logloss=0.60466 (iters=9)\n",
      "eta=0.24771, max_depth=2 | valid_logloss=0.52198 (iters=16)\n",
      "eta=0.24771, max_depth=3 | valid_logloss=0.53331 (iters=9)\n",
      "eta=0.24771, max_depth=4 | valid_logloss=0.54826 (iters=9)\n",
      "eta=0.24771, max_depth=5 | valid_logloss=0.56764 (iters=9)\n",
      "eta=0.25950, max_depth=1 | valid_logloss=0.61959 (iters=15)\n",
      "eta=0.25950, max_depth=2 | valid_logloss=0.52752 (iters=7)\n",
      "eta=0.25950, max_depth=3 | valid_logloss=0.52382 (iters=10)\n",
      "eta=0.25950, max_depth=4 | valid_logloss=0.50854 (iters=14)\n",
      "eta=0.25950, max_depth=5 | valid_logloss=0.56060 (iters=5)\n",
      "eta=0.27186, max_depth=1 | valid_logloss=0.60468 (iters=14)\n",
      "eta=0.27186, max_depth=2 | valid_logloss=0.52524 (iters=8)\n",
      "eta=0.27186, max_depth=3 | valid_logloss=0.52265 (iters=8)\n",
      "eta=0.27186, max_depth=4 | valid_logloss=0.54625 (iters=13)\n",
      "eta=0.27186, max_depth=5 | valid_logloss=0.54405 (iters=9)\n",
      "eta=0.28480, max_depth=1 | valid_logloss=0.60270 (iters=29)\n",
      "eta=0.28480, max_depth=2 | valid_logloss=0.52621 (iters=8)\n",
      "eta=0.28480, max_depth=3 | valid_logloss=0.50159 (iters=12)\n",
      "eta=0.28480, max_depth=4 | valid_logloss=0.55672 (iters=4)\n",
      "eta=0.28480, max_depth=5 | valid_logloss=0.55746 (iters=4)\n",
      "eta=0.29836, max_depth=1 | valid_logloss=0.62525 (iters=14)\n",
      "eta=0.29836, max_depth=2 | valid_logloss=0.50744 (iters=9)\n",
      "eta=0.29836, max_depth=3 | valid_logloss=0.51322 (iters=7)\n",
      "eta=0.29836, max_depth=4 | valid_logloss=0.56103 (iters=4)\n",
      "eta=0.29836, max_depth=5 | valid_logloss=0.55213 (iters=4)\n",
      "eta=0.31257, max_depth=1 | valid_logloss=0.58764 (iters=10)\n",
      "eta=0.31257, max_depth=2 | valid_logloss=0.51654 (iters=7)\n",
      "eta=0.31257, max_depth=3 | valid_logloss=0.50701 (iters=7)\n",
      "eta=0.31257, max_depth=4 | valid_logloss=0.53018 (iters=5)\n",
      "eta=0.31257, max_depth=5 | valid_logloss=0.55987 (iters=4)\n",
      "eta=0.32745, max_depth=1 | valid_logloss=0.59413 (iters=11)\n",
      "eta=0.32745, max_depth=2 | valid_logloss=0.51470 (iters=10)\n",
      "eta=0.32745, max_depth=3 | valid_logloss=0.51995 (iters=6)\n",
      "eta=0.32745, max_depth=4 | valid_logloss=0.53267 (iters=7)\n",
      "eta=0.32745, max_depth=5 | valid_logloss=0.55420 (iters=4)\n",
      "eta=0.34305, max_depth=1 | valid_logloss=0.60571 (iters=7)\n",
      "eta=0.34305, max_depth=2 | valid_logloss=0.51418 (iters=6)\n",
      "eta=0.34305, max_depth=3 | valid_logloss=0.52785 (iters=5)\n",
      "eta=0.34305, max_depth=4 | valid_logloss=0.51091 (iters=9)\n",
      "eta=0.34305, max_depth=5 | valid_logloss=0.54517 (iters=6)\n",
      "eta=0.35938, max_depth=1 | valid_logloss=0.60863 (iters=17)\n",
      "eta=0.35938, max_depth=2 | valid_logloss=0.52269 (iters=8)\n",
      "eta=0.35938, max_depth=3 | valid_logloss=0.51882 (iters=5)\n",
      "eta=0.35938, max_depth=4 | valid_logloss=0.48735 (iters=8)\n",
      "eta=0.35938, max_depth=5 | valid_logloss=0.48735 (iters=8)\n",
      "eta=0.37649, max_depth=1 | valid_logloss=0.61311 (iters=7)\n",
      "eta=0.37649, max_depth=2 | valid_logloss=0.51146 (iters=9)\n",
      "eta=0.37649, max_depth=3 | valid_logloss=0.52613 (iters=10)\n",
      "eta=0.37649, max_depth=4 | valid_logloss=0.55197 (iters=10)\n",
      "eta=0.37649, max_depth=5 | valid_logloss=0.55197 (iters=10)\n",
      "eta=0.39442, max_depth=1 | valid_logloss=0.61528 (iters=7)\n",
      "eta=0.39442, max_depth=2 | valid_logloss=0.50985 (iters=8)\n",
      "eta=0.39442, max_depth=3 | valid_logloss=0.44338 (iters=15)\n",
      "eta=0.39442, max_depth=4 | valid_logloss=0.51233 (iters=5)\n",
      "eta=0.39442, max_depth=5 | valid_logloss=0.54653 (iters=5)\n",
      "eta=0.41320, max_depth=1 | valid_logloss=0.62238 (iters=8)\n",
      "eta=0.41320, max_depth=2 | valid_logloss=0.51062 (iters=8)\n",
      "eta=0.41320, max_depth=3 | valid_logloss=0.47264 (iters=8)\n",
      "eta=0.41320, max_depth=4 | valid_logloss=0.56623 (iters=8)\n",
      "eta=0.41320, max_depth=5 | valid_logloss=0.54803 (iters=19)\n",
      "eta=0.43288, max_depth=1 | valid_logloss=0.62561 (iters=8)\n",
      "eta=0.43288, max_depth=2 | valid_logloss=0.52319 (iters=12)\n",
      "eta=0.43288, max_depth=3 | valid_logloss=0.49910 (iters=8)\n",
      "eta=0.43288, max_depth=4 | valid_logloss=0.52861 (iters=5)\n",
      "eta=0.43288, max_depth=5 | valid_logloss=0.52501 (iters=7)\n",
      "eta=0.45349, max_depth=1 | valid_logloss=0.62932 (iters=8)\n"
     ]
    },
    {
     "name": "stdout",
     "output_type": "stream",
     "text": [
      "eta=0.45349, max_depth=2 | valid_logloss=0.56780 (iters=6)\n",
      "eta=0.45349, max_depth=3 | valid_logloss=0.47670 (iters=10)\n",
      "eta=0.45349, max_depth=4 | valid_logloss=0.53930 (iters=7)\n",
      "eta=0.45349, max_depth=5 | valid_logloss=0.53930 (iters=7)\n",
      "eta=0.47508, max_depth=1 | valid_logloss=0.63896 (iters=11)\n",
      "eta=0.47508, max_depth=2 | valid_logloss=0.56279 (iters=6)\n",
      "eta=0.47508, max_depth=3 | valid_logloss=0.56958 (iters=4)\n",
      "eta=0.47508, max_depth=4 | valid_logloss=0.54651 (iters=10)\n",
      "eta=0.47508, max_depth=5 | valid_logloss=0.57772 (iters=4)\n",
      "eta=0.49770, max_depth=1 | valid_logloss=0.60795 (iters=6)\n",
      "eta=0.49770, max_depth=2 | valid_logloss=0.54069 (iters=11)\n",
      "eta=0.49770, max_depth=3 | valid_logloss=0.59178 (iters=2)\n",
      "eta=0.49770, max_depth=4 | valid_logloss=0.57421 (iters=4)\n",
      "eta=0.49770, max_depth=5 | valid_logloss=0.57421 (iters=4)\n",
      "eta=0.52140, max_depth=1 | valid_logloss=0.61011 (iters=6)\n",
      "eta=0.52140, max_depth=2 | valid_logloss=0.58200 (iters=4)\n",
      "eta=0.52140, max_depth=3 | valid_logloss=0.59222 (iters=2)\n",
      "eta=0.52140, max_depth=4 | valid_logloss=0.58034 (iters=12)\n",
      "eta=0.52140, max_depth=5 | valid_logloss=0.58034 (iters=12)\n",
      "eta=0.54623, max_depth=1 | valid_logloss=0.63455 (iters=5)\n",
      "eta=0.54623, max_depth=2 | valid_logloss=0.57991 (iters=3)\n",
      "eta=0.54623, max_depth=3 | valid_logloss=0.55741 (iters=13)\n",
      "eta=0.54623, max_depth=4 | valid_logloss=0.58269 (iters=4)\n",
      "eta=0.54623, max_depth=5 | valid_logloss=0.54440 (iters=7)\n",
      "eta=0.57224, max_depth=1 | valid_logloss=0.67050 (iters=0)\n",
      "eta=0.57224, max_depth=2 | valid_logloss=0.63656 (iters=0)\n",
      "eta=0.57224, max_depth=3 | valid_logloss=0.58268 (iters=6)\n",
      "eta=0.57224, max_depth=4 | valid_logloss=0.55108 (iters=7)\n",
      "eta=0.57224, max_depth=5 | valid_logloss=0.54047 (iters=6)\n",
      "eta=0.59948, max_depth=1 | valid_logloss=0.62169 (iters=7)\n",
      "eta=0.59948, max_depth=2 | valid_logloss=0.62688 (iters=4)\n",
      "eta=0.59948, max_depth=3 | valid_logloss=0.55377 (iters=6)\n",
      "eta=0.59948, max_depth=4 | valid_logloss=0.56672 (iters=4)\n",
      "eta=0.59948, max_depth=5 | valid_logloss=0.56672 (iters=4)\n",
      "eta=0.62803, max_depth=1 | valid_logloss=0.62570 (iters=6)\n",
      "eta=0.62803, max_depth=2 | valid_logloss=0.63882 (iters=0)\n",
      "eta=0.62803, max_depth=3 | valid_logloss=0.59459 (iters=1)\n",
      "eta=0.62803, max_depth=4 | valid_logloss=0.54247 (iters=2)\n",
      "eta=0.62803, max_depth=5 | valid_logloss=0.54247 (iters=2)\n",
      "eta=0.65793, max_depth=1 | valid_logloss=0.62986 (iters=6)\n",
      "eta=0.65793, max_depth=2 | valid_logloss=0.64054 (iters=0)\n",
      "eta=0.65793, max_depth=3 | valid_logloss=0.57484 (iters=6)\n",
      "eta=0.65793, max_depth=4 | valid_logloss=0.56157 (iters=4)\n",
      "eta=0.65793, max_depth=5 | valid_logloss=0.56157 (iters=4)\n",
      "eta=0.68926, max_depth=1 | valid_logloss=0.63468 (iters=6)\n",
      "eta=0.68926, max_depth=2 | valid_logloss=0.62681 (iters=5)\n",
      "eta=0.68926, max_depth=3 | valid_logloss=0.55322 (iters=2)\n",
      "eta=0.68926, max_depth=4 | valid_logloss=0.63577 (iters=0)\n",
      "eta=0.68926, max_depth=5 | valid_logloss=0.63577 (iters=0)\n",
      "eta=0.72208, max_depth=1 | valid_logloss=0.64023 (iters=6)\n",
      "eta=0.72208, max_depth=2 | valid_logloss=0.58562 (iters=6)\n",
      "eta=0.72208, max_depth=3 | valid_logloss=0.55681 (iters=2)\n",
      "eta=0.72208, max_depth=4 | valid_logloss=0.63980 (iters=0)\n",
      "eta=0.72208, max_depth=5 | valid_logloss=0.63980 (iters=0)\n",
      "eta=0.75646, max_depth=1 | valid_logloss=0.65301 (iters=4)\n",
      "eta=0.75646, max_depth=2 | valid_logloss=0.63570 (iters=5)\n",
      "eta=0.75646, max_depth=3 | valid_logloss=0.56463 (iters=2)\n",
      "eta=0.75646, max_depth=4 | valid_logloss=0.64455 (iters=0)\n",
      "eta=0.75646, max_depth=5 | valid_logloss=0.64455 (iters=0)\n",
      "eta=0.79248, max_depth=1 | valid_logloss=0.65942 (iters=4)\n",
      "eta=0.79248, max_depth=2 | valid_logloss=0.64018 (iters=4)\n",
      "eta=0.79248, max_depth=3 | valid_logloss=0.56795 (iters=10)\n",
      "eta=0.79248, max_depth=4 | valid_logloss=0.65011 (iters=0)\n",
      "eta=0.79248, max_depth=5 | valid_logloss=0.65011 (iters=0)\n",
      "eta=0.83022, max_depth=1 | valid_logloss=0.66672 (iters=4)\n",
      "eta=0.83022, max_depth=2 | valid_logloss=0.65196 (iters=3)\n",
      "eta=0.83022, max_depth=3 | valid_logloss=0.60899 (iters=9)\n",
      "eta=0.83022, max_depth=4 | valid_logloss=0.65653 (iters=0)\n",
      "eta=0.83022, max_depth=5 | valid_logloss=0.65653 (iters=0)\n",
      "eta=0.86975, max_depth=1 | valid_logloss=0.67500 (iters=4)\n",
      "eta=0.86975, max_depth=2 | valid_logloss=0.66225 (iters=0)\n",
      "eta=0.86975, max_depth=3 | valid_logloss=0.63663 (iters=2)\n",
      "eta=0.86975, max_depth=4 | valid_logloss=0.66389 (iters=0)\n",
      "eta=0.86975, max_depth=5 | valid_logloss=0.66389 (iters=0)\n",
      "eta=0.91116, max_depth=1 | valid_logloss=0.65972 (iters=2)\n",
      "eta=0.91116, max_depth=2 | valid_logloss=0.66831 (iters=0)\n",
      "eta=0.91116, max_depth=3 | valid_logloss=0.66353 (iters=2)\n",
      "eta=0.91116, max_depth=4 | valid_logloss=0.67227 (iters=0)\n",
      "eta=0.91116, max_depth=5 | valid_logloss=0.67227 (iters=0)\n",
      "eta=0.95455, max_depth=1 | valid_logloss=0.70544 (iters=0)\n",
      "eta=0.95455, max_depth=2 | valid_logloss=0.55591 (iters=4)\n",
      "eta=0.95455, max_depth=3 | valid_logloss=0.62322 (iters=7)\n",
      "eta=0.95455, max_depth=4 | valid_logloss=0.68175 (iters=0)\n",
      "eta=0.95455, max_depth=5 | valid_logloss=0.68175 (iters=0)\n",
      "eta=1.00000, max_depth=1 | valid_logloss=0.71193 (iters=0)\n",
      "eta=1.00000, max_depth=2 | valid_logloss=0.39565 (iters=11)\n",
      "eta=1.00000, max_depth=3 | valid_logloss=0.69755 (iters=1)\n",
      "eta=1.00000, max_depth=4 | valid_logloss=0.69241 (iters=0)\n",
      "eta=1.00000, max_depth=5 | valid_logloss=0.69241 (iters=0)\n"
     ]
    }
   ],
   "source": [
    "# Perform grid search\n",
    "data_out = 'data_xgb_06Arcene'\n",
    "df_grid_loss = pd.DataFrame(columns = ['eta', 'max_depth', 'valid_loss'], \n",
    "                            index = range(len(grid_param)))\n",
    "i = 0\n",
    "for eta, max_depth in grid_param:\n",
    "    param[0] = ('eta', eta)\n",
    "    param[1] = ('max_depth', max_depth)\n",
    "    \n",
    "    xgb_clf = xgb.train(param, dtrain, \n",
    "                        num_boost_round = 5000, \n",
    "                        evals = valid_list, \n",
    "                        early_stopping_rounds = 10, \n",
    "                        verbose_eval = False)\n",
    "    \n",
    "    print(\"eta={:.5f}, max_depth={} | valid_logloss={:.5f} (iters={})\".format(eta, \n",
    "                                                                              max_depth, \n",
    "                                                                              xgb_clf.best_score, \n",
    "                                                                              xgb_clf.best_iteration))\n",
    "    df_grid_loss.iloc[i,:] = [eta, max_depth, xgb_clf.best_score]\n",
    "    i += 1\n",
    "    \n",
    "# .save grid search results\n",
    "    df_grid_loss.to_csv(os.path.join(data_out, 'df_grid_loss.csv'), index=None)"
   ]
  },
  {
   "cell_type": "code",
   "execution_count": 84,
   "metadata": {
    "ExecuteTime": {
     "end_time": "2021-02-10T07:33:39.859715Z",
     "start_time": "2021-02-10T07:33:39.853056Z"
    },
    "code_folding": [
     0
    ]
   },
   "outputs": [
    {
     "name": "stdout",
     "output_type": "stream",
     "text": [
      "Best parameters:\n",
      "- Best eta = 0.394\n",
      "- Best max_depth = 3\n",
      "- Best valid loss = 0.443384\n"
     ]
    }
   ],
   "source": [
    "# Display grid search results\n",
    "data_out = 'data_xgb_06Arcene'\n",
    "df_grid_loss = pd.read_csv(os.path.join(data_out, 'df_grid_loss.csv'))\n",
    "df_grid_loss.sort_values(by=['valid_loss'], ascending=True, inplace=True)\n",
    "\n",
    "idx = 1\n",
    "best_eta   = df_grid_loss.iloc[idx, 0]\n",
    "best_depth = df_grid_loss.iloc[idx, 1]\n",
    "best_loss  = df_grid_loss.iloc[idx, 2]\n",
    "print(\"Best parameters:\")\n",
    "print(\"- Best eta = {:.3f}\".format(best_eta))\n",
    "print(\"- Best max_depth = {}\".format(best_depth))\n",
    "print(\"- Best valid loss = {}\".format(best_loss))"
   ]
  },
  {
   "cell_type": "code",
   "execution_count": 85,
   "metadata": {
    "ExecuteTime": {
     "end_time": "2021-02-10T07:33:43.424489Z",
     "start_time": "2021-02-10T07:33:43.306701Z"
    },
    "code_folding": [
     0
    ]
   },
   "outputs": [
    {
     "data": {
      "image/png": "[encoded data removed]",
      "text/plain": [
       "<Figure size 576x432 with 1 Axes>"
      ]
     },
     "metadata": {
      "needs_background": "light"
     },
     "output_type": "display_data"
    }
   ],
   "source": [
    "# Plot Loss vs point in grid search\n",
    "data_out = 'data_xgb_06Arcene'\n",
    "df_grid_loss = pd.read_csv(os.path.join(data_out, 'df_grid_loss.csv'))\n",
    "fig, axes = plt.subplots(figsize=(8,6))\n",
    "axes.scatter(df_grid_loss.index, df_grid_loss['valid_loss'])\n",
    "axes.plot(df_grid_loss.index, df_grid_loss['valid_loss'])\n",
    "axes.set_xlabel(\"grid search point\")\n",
    "axes.set_ylabel(\"Valid Logloss\")\n",
    "plt.show()"
   ]
  },
  {
   "cell_type": "code",
   "execution_count": 87,
   "metadata": {
    "ExecuteTime": {
     "end_time": "2021-02-10T07:34:26.997673Z",
     "start_time": "2021-02-10T07:34:26.008829Z"
    },
    "code_folding": [
     0
    ],
    "scrolled": true
   },
   "outputs": [
    {
     "name": "stdout",
     "output_type": "stream",
     "text": [
      "[0]\ttrain-logloss:0.45881\tvalid-logloss:0.63057\n",
      "Multiple eval metrics have been passed: 'valid-logloss' will be used for early stopping.\n",
      "\n",
      "Will train until valid-logloss hasn't improved in 30 rounds.\n",
      "[1]\ttrain-logloss:0.33798\tvalid-logloss:0.59750\n",
      "[2]\ttrain-logloss:0.25494\tvalid-logloss:0.56529\n",
      "[3]\ttrain-logloss:0.19714\tvalid-logloss:0.51886\n",
      "[4]\ttrain-logloss:0.15924\tvalid-logloss:0.50266\n",
      "[5]\ttrain-logloss:0.12399\tvalid-logloss:0.46418\n",
      "[6]\ttrain-logloss:0.10080\tvalid-logloss:0.45878\n",
      "[7]\ttrain-logloss:0.08468\tvalid-logloss:0.46874\n",
      "[8]\ttrain-logloss:0.07374\tvalid-logloss:0.47385\n",
      "[9]\ttrain-logloss:0.06386\tvalid-logloss:0.46781\n",
      "[10]\ttrain-logloss:0.05709\tvalid-logloss:0.45909\n",
      "[11]\ttrain-logloss:0.05155\tvalid-logloss:0.46495\n",
      "[12]\ttrain-logloss:0.04670\tvalid-logloss:0.46138\n",
      "[13]\ttrain-logloss:0.04320\tvalid-logloss:0.45790\n",
      "[14]\ttrain-logloss:0.03960\tvalid-logloss:0.45503\n",
      "[15]\ttrain-logloss:0.03661\tvalid-logloss:0.44338\n",
      "[16]\ttrain-logloss:0.03433\tvalid-logloss:0.44496\n",
      "[17]\ttrain-logloss:0.03228\tvalid-logloss:0.44597\n",
      "[18]\ttrain-logloss:0.03038\tvalid-logloss:0.45192\n",
      "[19]\ttrain-logloss:0.02862\tvalid-logloss:0.46683\n",
      "[20]\ttrain-logloss:0.02765\tvalid-logloss:0.46831\n",
      "[21]\ttrain-logloss:0.02604\tvalid-logloss:0.48595\n",
      "[22]\ttrain-logloss:0.02521\tvalid-logloss:0.48407\n",
      "[23]\ttrain-logloss:0.02446\tvalid-logloss:0.47525\n",
      "[24]\ttrain-logloss:0.02379\tvalid-logloss:0.47406\n",
      "[25]\ttrain-logloss:0.02315\tvalid-logloss:0.47311\n",
      "[26]\ttrain-logloss:0.02254\tvalid-logloss:0.47734\n",
      "[27]\ttrain-logloss:0.02195\tvalid-logloss:0.47390\n",
      "[28]\ttrain-logloss:0.02141\tvalid-logloss:0.48708\n",
      "[29]\ttrain-logloss:0.02090\tvalid-logloss:0.48420\n",
      "[30]\ttrain-logloss:0.02043\tvalid-logloss:0.48591\n",
      "[31]\ttrain-logloss:0.01999\tvalid-logloss:0.49032\n",
      "[32]\ttrain-logloss:0.01956\tvalid-logloss:0.49809\n",
      "[33]\ttrain-logloss:0.01914\tvalid-logloss:0.49971\n",
      "[34]\ttrain-logloss:0.01875\tvalid-logloss:0.49785\n",
      "[35]\ttrain-logloss:0.01837\tvalid-logloss:0.50214\n",
      "[36]\ttrain-logloss:0.01801\tvalid-logloss:0.49645\n",
      "[37]\ttrain-logloss:0.01767\tvalid-logloss:0.49629\n",
      "[38]\ttrain-logloss:0.01734\tvalid-logloss:0.49504\n",
      "[39]\ttrain-logloss:0.01704\tvalid-logloss:0.50203\n",
      "[40]\ttrain-logloss:0.01704\tvalid-logloss:0.50194\n",
      "[41]\ttrain-logloss:0.01704\tvalid-logloss:0.50188\n",
      "[42]\ttrain-logloss:0.01704\tvalid-logloss:0.50183\n",
      "[43]\ttrain-logloss:0.01704\tvalid-logloss:0.50180\n",
      "[44]\ttrain-logloss:0.01704\tvalid-logloss:0.50177\n",
      "[45]\ttrain-logloss:0.01704\tvalid-logloss:0.50175\n",
      "Stopping. Best iteration:\n",
      "[15]\ttrain-logloss:0.03661\tvalid-logloss:0.44338\n",
      "\n"
     ]
    }
   ],
   "source": [
    "# Train with best hyperparameters\n",
    "param[0] = ('eta', best_eta)\n",
    "param[1] = ('max_depth', best_depth)\n",
    "\n",
    "evals_result = {}\n",
    "xgb_clf = xgb.train(param, dtrain, \n",
    "                    num_boost_round = 5000, \n",
    "                    evals = valid_list, \n",
    "                    early_stopping_rounds = 30, \n",
    "                    verbose_eval = True, \n",
    "                    evals_result=evals_result)"
   ]
  },
  {
   "cell_type": "code",
   "execution_count": 88,
   "metadata": {
    "ExecuteTime": {
     "end_time": "2021-02-10T07:34:48.643472Z",
     "start_time": "2021-02-10T07:34:48.529733Z"
    },
    "code_folding": [
     0
    ]
   },
   "outputs": [
    {
     "data": {
      "image/png": "[encoded data removed]",
      "text/plain": [
       "<Figure size 432x288 with 1 Axes>"
      ]
     },
     "metadata": {
      "needs_background": "light"
     },
     "output_type": "display_data"
    }
   ],
   "source": [
    "# Plot of train/valid loss vs iter\n",
    "fig, axes = plt.subplots(figsize=(6,4))\n",
    "axes.plot(evals_result['train']['logloss'], label=\"train\")\n",
    "axes.plot(evals_result['valid']['logloss'], label=\"valid\")\n",
    "axes.legend()\n",
    "axes.set_ylabel(\"Logloss\")\n",
    "axes.set_xlabel(\"iteration\")\n",
    "# axes.set_xticks(np.arange(0, len(evals_result['train']['logloss']), 1))\n",
    "plt.show()"
   ]
  },
  {
   "cell_type": "code",
   "execution_count": 89,
   "metadata": {
    "ExecuteTime": {
     "end_time": "2021-02-10T07:36:14.941904Z",
     "start_time": "2021-02-10T07:36:14.935371Z"
    },
    "code_folding": [
     0
    ]
   },
   "outputs": [
    {
     "name": "stdout",
     "output_type": "stream",
     "text": [
      "model saved at: 'data_xgb_06Arcene/xgb_model.json'\n",
      "best params saved at: 'data_xgb_06Arcene/xgb_best_params.json'\n"
     ]
    }
   ],
   "source": [
    "# Save model and model's best params\n",
    "data_out = 'data_xgb_06Arcene'\n",
    "xgb_clf.save_model(os.path.join(data_out, 'xgb_model.json'))\n",
    "print(\"model saved at: '{}'\".format(os.path.join(data_out, 'xgb_model.json')))\n",
    "\n",
    "best_params = {}\n",
    "best_params['best_eta'] = best_eta\n",
    "best_params['best_depth'] = int(best_depth)\n",
    "with open(os.path.join(data_out, 'xgb_best_params.json'), 'w') as f:\n",
    "    json.dump(best_params, f)\n",
    "print(\"best params saved at: '{}'\".format(os.path.join(data_out, 'xgb_best_params.json')))"
   ]
  },
  {
   "cell_type": "code",
   "execution_count": 90,
   "metadata": {
    "ExecuteTime": {
     "end_time": "2021-02-10T07:37:56.165164Z",
     "start_time": "2021-02-10T07:37:56.156529Z"
    },
    "code_folding": [
     0
    ]
   },
   "outputs": [
    {
     "name": "stdout",
     "output_type": "stream",
     "text": [
      "feature map saved at: 'data_xgb_06Arcene/xgb_model_fmap.txt'\n"
     ]
    }
   ],
   "source": [
    "# Save feature map\n",
    "def ceate_feature_map(features, data_out):\n",
    "    f = open(os.path.join(data_out, 'xgb_model_fmap.txt'), 'w')\n",
    "    i = 0\n",
    "    for feat in features:\n",
    "        f.write('{0}\\t{1}\\tq\\n'.format(i, feat))\n",
    "        i = i + 1\n",
    "    f.close()\n",
    "\n",
    "data_out = 'data_xgb_06Arcene'\n",
    "ceate_feature_map(cols_all, data_out)\n",
    "print(\"feature map saved at: '{}'\".format(os.path.join(data_out, 'xgb_model_fmap.txt')))"
   ]
  },
  {
   "cell_type": "code",
   "execution_count": 92,
   "metadata": {
    "ExecuteTime": {
     "end_time": "2021-02-10T07:39:41.259589Z",
     "start_time": "2021-02-10T07:39:41.223582Z"
    },
    "code_folding": [
     0
    ]
   },
   "outputs": [
    {
     "name": "stdout",
     "output_type": "stream",
     "text": [
      "model results saved at: 'data_xgb_06Arcene/results_target_xgb.csv'\n"
     ]
    },
    {
     "data": {
      "text/html": [
       "<div>\n",
       "<style scoped>\n",
       "    .dataframe tbody tr th:only-of-type {\n",
       "        vertical-align: middle;\n",
       "    }\n",
       "\n",
       "    .dataframe tbody tr th {\n",
       "        vertical-align: top;\n",
       "    }\n",
       "\n",
       "    .dataframe thead th {\n",
       "        text-align: right;\n",
       "    }\n",
       "</style>\n",
       "<table border=\"1\" class=\"dataframe\">\n",
       "  <thead>\n",
       "    <tr style=\"text-align: right;\">\n",
       "      <th></th>\n",
       "      <th>accuracy</th>\n",
       "      <th>roc_auc</th>\n",
       "    </tr>\n",
       "  </thead>\n",
       "  <tbody>\n",
       "    <tr>\n",
       "      <th>train</th>\n",
       "      <td>1</td>\n",
       "      <td>1</td>\n",
       "    </tr>\n",
       "    <tr>\n",
       "      <th>valid</th>\n",
       "      <td>0.775</td>\n",
       "      <td>0.789003</td>\n",
       "    </tr>\n",
       "    <tr>\n",
       "      <th>test</th>\n",
       "      <td>0.725</td>\n",
       "      <td>0.736467</td>\n",
       "    </tr>\n",
       "  </tbody>\n",
       "</table>\n",
       "</div>"
      ],
      "text/plain": [
       "      accuracy   roc_auc\n",
       "train        1         1\n",
       "valid    0.775  0.789003\n",
       "test     0.725  0.736467"
      ]
     },
     "execution_count": 92,
     "metadata": {},
     "output_type": "execute_result"
    }
   ],
   "source": [
    "# Find MSE, R2, Accuracy, etc...\n",
    "data_out = 'data_xgb_06Arcene'\n",
    "model = xgb.Booster(model_file=os.path.join(data_out, 'xgb_model.json'))\n",
    "df_results = pd.DataFrame(index=['train', 'valid', 'test'], \n",
    "                          columns=['accuracy', 'roc_auc'])\n",
    "\n",
    "ypred = model.predict(dtrain)\n",
    "ypred = ypred.round().astype(int)\n",
    "df_results.loc['train', 'accuracy'] = accuracy_score(ytrain, ypred)\n",
    "df_results.loc['train', 'roc_auc']  = roc_auc_score(ytrain, ypred)\n",
    "\n",
    "ypred = model.predict(dvalid)\n",
    "ypred = ypred.round().astype(int)\n",
    "df_results.loc['valid', 'accuracy'] = accuracy_score(yvalid, ypred)\n",
    "df_results.loc['valid', 'roc_auc']  = roc_auc_score(yvalid, ypred)\n",
    "\n",
    "ypred = model.predict(dtest)\n",
    "ypred = ypred.round().astype(int)\n",
    "df_results.loc['test', 'accuracy'] = accuracy_score(ytest, ypred)\n",
    "df_results.loc['test', 'roc_auc']  = roc_auc_score(ytest, ypred)\n",
    "\n",
    "# Save data\n",
    "df_results.to_csv(os.path.join(data_out, 'results_target_xgb.csv'), index=True)\n",
    "print(\"model results saved at: '{}'\".format(os.path.join(data_out, 'results_target_xgb.csv')))\n",
    "df_results.head()"
   ]
  },
  {
   "cell_type": "code",
   "execution_count": 97,
   "metadata": {
    "ExecuteTime": {
     "end_time": "2021-02-10T07:52:22.443262Z",
     "start_time": "2021-02-10T07:49:03.902582Z"
    },
    "code_folding": [
     0
    ]
   },
   "outputs": [
    {
     "data": {
      "application/vnd.jupyter.widget-view+json": {
       "model_id": "64beef8cfb0b49c2951766aa51f9b9d6",
       "version_major": 2,
       "version_minor": 0
      },
      "text/plain": [
       "HBox(children=(HTML(value='Partitions loop'), FloatProgress(value=0.0), HTML(value='')))"
      ]
     },
     "metadata": {},
     "output_type": "display_data"
    },
    {
     "name": "stdout",
     "output_type": "stream",
     "text": [
      "\n"
     ]
    }
   ],
   "source": [
    "# Find Accuracy +/- STD\n",
    "data_out = 'data_xgb_06Arcene/partitions'\n",
    "df_results = pd.DataFrame(columns=['train_acc', 'valid_acc', 'test_acc', 'train_roc', 'valid_roc', 'test_roc'])\n",
    "\n",
    "with open('data_xgb_06Arcene/xgb_best_params.json') as f:\n",
    "    best_params = json.load(f)\n",
    "param = [('eta', best_params['best_eta']), \n",
    "         ('max_depth', best_params['best_depth']), \n",
    "         ('objective', 'binary:logistic'), \n",
    "         ('nthread', 8),\n",
    "         ('eval_metric', 'logloss')\n",
    "]\n",
    "\n",
    "partitions = 100\n",
    "iterator = tqdm.notebook.tqdm(range(1, partitions + 1), desc='Partitions loop')\n",
    "for n in iterator:\n",
    "    X = pd.read_csv('dataset_06Arcene/X.csv', header=None)\n",
    "    y = pd.read_csv('dataset_06Arcene/y.csv', header=None)\n",
    "    split_data(X, y, seed1=seed1[n], seed2=seed2[n])\n",
    "    \n",
    "# .build DMatrices\n",
    "    dtrain = xgb.DMatrix(data=xtrain, label=ytrain, nthread=16)\n",
    "    dvalid = xgb.DMatrix(data=xvalid, label=yvalid, nthread=16)\n",
    "    dtest  = xgb.DMatrix(data=xtest,  label=ytest,  nthread=16)\n",
    "    valid_list = [(dtrain, 'train'), (dvalid, 'valid')]\n",
    "\n",
    "# .train model\n",
    "    evals_result = {}\n",
    "    model = xgb.train(param, dtrain, \n",
    "                      num_boost_round = 5000, \n",
    "                      evals = valid_list, \n",
    "                      early_stopping_rounds = 20, \n",
    "                      verbose_eval = False, \n",
    "                      evals_result=evals_result)\n",
    "    \n",
    "# .compute/save accuracy\n",
    "    ypred = model.predict(dtrain)\n",
    "    ypred = ypred.round().astype(int)\n",
    "    df_results.loc[n, 'train_acc'] = accuracy_score(ytrain, ypred)\n",
    "    df_results.loc[n, 'train_roc'] = roc_auc_score(ytrain, ypred)\n",
    "\n",
    "    ypred = model.predict(dvalid)\n",
    "    ypred = ypred.round().astype(int)\n",
    "    df_results.loc[n, 'valid_acc'] = accuracy_score(yvalid, ypred)\n",
    "    df_results.loc[n, 'valid_roc'] = roc_auc_score(yvalid, ypred)\n",
    "\n",
    "    ypred = model.predict(dtest)\n",
    "    ypred = ypred.round().astype(int)\n",
    "    df_results.loc[n, 'test_acc'] = accuracy_score(ytest, ypred)\n",
    "    df_results.loc[n, 'test_roc'] = roc_auc_score(ytest, ypred)\n",
    "\n",
    "    model.save_model(os.path.join(data_out, 'xgb_model_'+str(n)+'.json'))\n",
    "    df_results.to_csv('data_xgb_06Arcene/accuracy_xgb.csv', index=None)"
   ]
  },
  {
   "cell_type": "code",
   "execution_count": 100,
   "metadata": {
    "ExecuteTime": {
     "end_time": "2021-02-10T08:10:57.808708Z",
     "start_time": "2021-02-10T08:10:57.800115Z"
    },
    "code_folding": [
     0
    ]
   },
   "outputs": [
    {
     "name": "stdout",
     "output_type": "stream",
     "text": [
      "Train accuracy = 1.00000 +/- 0.00000\n",
      "Valid accuracy = 0.75475 +/- 0.06860\n",
      "Test accuracy = 0.76250 +/- 0.07217\n"
     ]
    }
   ],
   "source": [
    "# Display results\n",
    "data_out = 'data_xgb_06Arcene'\n",
    "accuracy_xgb = pd.read_csv(os.path.join(data_out, 'accuracy_xgb.csv'))\n",
    "print(\"Train accuracy = {:.5f} +/- {:.5f}\".format(accuracy_xgb['train_acc'].mean(), \n",
    "                                                  accuracy_xgb['train_acc'].std()))\n",
    "print(\"Valid accuracy = {:.5f} +/- {:.5f}\".format(accuracy_xgb['valid_acc'].mean(), \n",
    "                                                  accuracy_xgb['valid_acc'].std()))\n",
    "print(\"Test accuracy = {:.5f} +/- {:.5f}\".format(accuracy_xgb['test_acc'].mean(), \n",
    "                                                 accuracy_xgb['test_acc'].std()))"
   ]
  },
  {
   "cell_type": "markdown",
   "metadata": {},
   "source": [
    "### Lockout"
   ]
  },
  {
   "cell_type": "code",
   "execution_count": 101,
   "metadata": {
    "ExecuteTime": {
     "end_time": "2021-02-10T20:41:32.383981Z",
     "start_time": "2021-02-10T20:41:32.380295Z"
    },
    "code_folding": [
     0
    ]
   },
   "outputs": [],
   "source": [
    "# Normalize Data Set\n",
    "def normalize_data():\n",
    "    \"\"\"\n",
    "    \"\"\"\n",
    "    global xtrain, xvalid, xtest\n",
    "    scaler = StandardScaler()\n",
    "    scaler.fit(xtrain.numpy())\n",
    "    xtrain = torch.from_numpy(scaler.transform(xtrain.numpy()))\n",
    "    xvalid = torch.from_numpy(scaler.transform(xvalid.numpy()))\n",
    "    xtest = torch.from_numpy(scaler.transform(xtest.numpy()))"
   ]
  },
  {
   "cell_type": "code",
   "execution_count": 102,
   "metadata": {
    "ExecuteTime": {
     "end_time": "2021-02-10T20:41:59.156132Z",
     "start_time": "2021-02-10T20:41:59.151143Z"
    },
    "code_folding": [
     0
    ]
   },
   "outputs": [],
   "source": [
    "# Save output data\n",
    "def save_output(data_out, f1, f2, f3, new_folder=False):\n",
    "    \"\"\"\n",
    "    \"\"\"\n",
    "# Save relevant data\n",
    "    if new_folder == True:\n",
    "        dirs = os.listdir()\n",
    "        if data_out in dirs:\n",
    "            print(\"'{}' directory deleted.\".format(data_out))\n",
    "            shutil.rmtree(data_out)\n",
    "            print(\"'{}' directory created.\\n\".format(data_out))\n",
    "            os.mkdir(data_out)\n",
    "        else:\n",
    "            print(\"'{}' directory created.\\n\".format(data_out))\n",
    "            os.mkdir(data_out)\n",
    "# \n",
    "    train_loss.to_csv(os.path.join(data_out, f1), index=False)\n",
    "    valid_loss.to_csv(os.path.join(data_out, f2), index=False)\n",
    "    print(\"'{}' saved.\".format(f1))\n",
    "    print(\"'{}' saved.\".format(f2))\n",
    "\n",
    "    for m in f3:\n",
    "        shutil.move(m, os.path.join(data_out, m))\n",
    "        print(\"'{}' saved.\".format(m))"
   ]
  },
  {
   "cell_type": "markdown",
   "metadata": {},
   "source": [
    "#### l1=5, l2=2; lockout=l1"
   ]
  },
  {
   "cell_type": "code",
   "execution_count": 103,
   "metadata": {
    "ExecuteTime": {
     "end_time": "2021-02-10T20:42:15.029104Z",
     "start_time": "2021-02-10T20:42:15.026327Z"
    },
    "code_folding": [
     0
    ]
   },
   "outputs": [],
   "source": [
    "# Set layers where lockdown is to be applied\n",
    "def get_lockdown_layers(model):\n",
    "    layers = [model.classifier[0]]\n",
    "    return layers"
   ]
  },
  {
   "cell_type": "code",
   "execution_count": 104,
   "metadata": {
    "ExecuteTime": {
     "end_time": "2021-02-10T20:42:22.046031Z",
     "start_time": "2021-02-10T20:42:22.042183Z"
    },
    "code_folding": [
     0
    ]
   },
   "outputs": [],
   "source": [
    "#  NN architecture with its corresponding forward method\n",
    "class MyNet(nn.Module):\n",
    "    \n",
    "# .Network architecture\n",
    "    def __init__(self, features, layer_sizes):\n",
    "        super(MyNet, self).__init__()\n",
    "        \n",
    "        self.classifier = nn.Sequential(\n",
    "            nn.Linear(features, layer_sizes[0], bias=True),\n",
    "            nn.ReLU(inplace=True),\n",
    "            nn.Linear(layer_sizes[0], layer_sizes[1], bias=True)\n",
    "        )\n",
    "\n",
    "# .Forward function\n",
    "    def forward(self, x):\n",
    "        x = self.classifier(x)\n",
    "        return x"
   ]
  },
  {
   "cell_type": "code",
   "execution_count": 240,
   "metadata": {
    "ExecuteTime": {
     "end_time": "2021-02-22T22:13:18.991722Z",
     "start_time": "2021-02-22T22:13:18.987663Z"
    },
    "code_folding": []
   },
   "outputs": [],
   "source": [
    "# Grid search space\n",
    "grid_lrs = np.geomspace(5e-4, 1e-1, num=10)\n",
    "df_grid_loss = pd.DataFrame(columns = ['lr', 'valid_loss', 'valid_acc'], \n",
    "                            index=range(len(grid_lrs)))"
   ]
  },
  {
   "cell_type": "code",
   "execution_count": 243,
   "metadata": {
    "ExecuteTime": {
     "end_time": "2021-02-22T23:18:08.132880Z",
     "start_time": "2021-02-22T22:16:14.815598Z"
    },
    "code_folding": [],
    "scrolled": true
   },
   "outputs": [
    {
     "name": "stdout",
     "output_type": "stream",
     "text": [
      "- train minibatches = 1\n",
      "- valid minibatches = 1\n",
      "- test minibatches = 1\n"
     ]
    },
    {
     "data": {
      "application/vnd.jupyter.widget-view+json": {
       "model_id": "6106094663db4522a5627299f769cbf4",
       "version_major": 2,
       "version_minor": 0
      },
      "text/plain": [
       "HBox(children=(HTML(value='lr-grid loop'), FloatProgress(value=0.0, max=10.0), HTML(value='')))"
      ]
     },
     "metadata": {},
     "output_type": "display_data"
    },
    {
     "data": {
      "application/vnd.jupyter.widget-view+json": {
       "model_id": "c594d428c6c1458a8a54da59bfbf99c5",
       "version_major": 2,
       "version_minor": 0
      },
      "text/plain": [
       "HBox(children=(HTML(value='Epochs loop'), FloatProgress(value=0.0, max=30000.0), HTML(value='')))"
      ]
     },
     "metadata": {},
     "output_type": "display_data"
    },
    {
     "name": "stdout",
     "output_type": "stream",
     "text": [
      "\n",
      "Summary:\n",
      "-learning rate = 0.00050\n",
      "-Model saved after iteration 619.\n",
      "-Train.  Loss=0.1772269\n",
      "-Valid.  Loss=0.5962036\n",
      "\n",
      "Best train loss = 0.0007888\n",
      "\n",
      "'train06_loss_1.csv' saved.\n",
      "'valid06_loss_1.csv' saved.\n",
      "'model06_forward_1_last.pth' saved.\n",
      "'model06_forward_1_best.pth' saved.\n"
     ]
    },
    {
     "data": {
      "application/vnd.jupyter.widget-view+json": {
       "model_id": "1449340117cf406b9c901fd8ae7230d8",
       "version_major": 2,
       "version_minor": 0
      },
      "text/plain": [
       "HBox(children=(HTML(value='Epochs loop'), FloatProgress(value=0.0, max=30000.0), HTML(value='')))"
      ]
     },
     "metadata": {},
     "output_type": "display_data"
    },
    {
     "name": "stdout",
     "output_type": "stream",
     "text": [
      "\n",
      "Summary:\n",
      "-learning rate = 0.00090\n",
      "-Model saved after iteration 76.\n",
      "-Train.  Loss=0.4755042\n",
      "-Valid.  Loss=0.7023974\n",
      "\n",
      "Best train loss = 0.0222556\n",
      "\n",
      "'train06_loss_2.csv' saved.\n",
      "'valid06_loss_2.csv' saved.\n",
      "'model06_forward_2_last.pth' saved.\n",
      "'model06_forward_2_best.pth' saved.\n"
     ]
    },
    {
     "data": {
      "application/vnd.jupyter.widget-view+json": {
       "model_id": "73afbac5e2b3433d9573c58d30c48b48",
       "version_major": 2,
       "version_minor": 0
      },
      "text/plain": [
       "HBox(children=(HTML(value='Epochs loop'), FloatProgress(value=0.0, max=30000.0), HTML(value='')))"
      ]
     },
     "metadata": {},
     "output_type": "display_data"
    },
    {
     "name": "stdout",
     "output_type": "stream",
     "text": [
      "\n",
      "Summary:\n",
      "-learning rate = 0.00162\n",
      "-Model saved after iteration 52.\n",
      "-Train.  Loss=0.3577821\n",
      "-Valid.  Loss=0.6089116\n",
      "\n",
      "Best train loss = 0.0001823\n",
      "\n",
      "'train06_loss_3.csv' saved.\n",
      "'valid06_loss_3.csv' saved.\n",
      "'model06_forward_3_last.pth' saved.\n",
      "'model06_forward_3_best.pth' saved.\n"
     ]
    },
    {
     "data": {
      "application/vnd.jupyter.widget-view+json": {
       "model_id": "d67b20ce4b1f4e5bb1e5e520da6ab668",
       "version_major": 2,
       "version_minor": 0
      },
      "text/plain": [
       "HBox(children=(HTML(value='Epochs loop'), FloatProgress(value=0.0, max=30000.0), HTML(value='')))"
      ]
     },
     "metadata": {},
     "output_type": "display_data"
    },
    {
     "name": "stdout",
     "output_type": "stream",
     "text": [
      "\n",
      "Summary:\n",
      "-learning rate = 0.00292\n",
      "-Model saved after iteration 133.\n",
      "-Train.  Loss=0.2399644\n",
      "-Valid.  Loss=0.6061637\n",
      "\n",
      "Best train loss = 0.0058889\n",
      "\n",
      "'train06_loss_4.csv' saved.\n",
      "'valid06_loss_4.csv' saved.\n",
      "'model06_forward_4_last.pth' saved.\n",
      "'model06_forward_4_best.pth' saved.\n"
     ]
    },
    {
     "data": {
      "application/vnd.jupyter.widget-view+json": {
       "model_id": "3516f144774340d5a76d8bdfa11a236d",
       "version_major": 2,
       "version_minor": 0
      },
      "text/plain": [
       "HBox(children=(HTML(value='Epochs loop'), FloatProgress(value=0.0, max=30000.0), HTML(value='')))"
      ]
     },
     "metadata": {},
     "output_type": "display_data"
    },
    {
     "name": "stdout",
     "output_type": "stream",
     "text": [
      "\n",
      "Summary:\n",
      "-learning rate = 0.00527\n",
      "-Model saved after iteration 46.\n",
      "-Train.  Loss=0.1534166\n",
      "-Valid.  Loss=0.5309490\n",
      "\n",
      "Best train loss = 0.0000461\n",
      "\n",
      "'train06_loss_5.csv' saved.\n",
      "'valid06_loss_5.csv' saved.\n",
      "'model06_forward_5_last.pth' saved.\n",
      "'model06_forward_5_best.pth' saved.\n"
     ]
    },
    {
     "data": {
      "application/vnd.jupyter.widget-view+json": {
       "model_id": "3077750da91e4bb19603426e20ab6d4f",
       "version_major": 2,
       "version_minor": 0
      },
      "text/plain": [
       "HBox(children=(HTML(value='Epochs loop'), FloatProgress(value=0.0, max=30000.0), HTML(value='')))"
      ]
     },
     "metadata": {},
     "output_type": "display_data"
    },
    {
     "name": "stdout",
     "output_type": "stream",
     "text": [
      "\n",
      "Summary:\n",
      "-learning rate = 0.00949\n",
      "-Model saved after iteration 26.\n",
      "-Train.  Loss=0.1818641\n",
      "-Valid.  Loss=0.5864490\n",
      "\n",
      "Best train loss = 0.0577803\n",
      "\n",
      "'train06_loss_6.csv' saved.\n",
      "'valid06_loss_6.csv' saved.\n",
      "'model06_forward_6_last.pth' saved.\n",
      "'model06_forward_6_best.pth' saved.\n"
     ]
    },
    {
     "data": {
      "application/vnd.jupyter.widget-view+json": {
       "model_id": "8e7f34a47fbf42fea4d6195d15507e3f",
       "version_major": 2,
       "version_minor": 0
      },
      "text/plain": [
       "HBox(children=(HTML(value='Epochs loop'), FloatProgress(value=0.0, max=30000.0), HTML(value='')))"
      ]
     },
     "metadata": {},
     "output_type": "display_data"
    },
    {
     "name": "stdout",
     "output_type": "stream",
     "text": [
      "\n",
      "Summary:\n",
      "-learning rate = 0.01710\n",
      "-Model saved after iteration 6.\n",
      "-Train.  Loss=0.5098477\n",
      "-Valid.  Loss=0.6594453\n",
      "\n",
      "Best train loss = 0.0010113\n",
      "\n",
      "'train06_loss_7.csv' saved.\n",
      "'valid06_loss_7.csv' saved.\n",
      "'model06_forward_7_last.pth' saved.\n",
      "'model06_forward_7_best.pth' saved.\n"
     ]
    },
    {
     "data": {
      "application/vnd.jupyter.widget-view+json": {
       "model_id": "a5c73c333b79470f90fe94683b1a4d7f",
       "version_major": 2,
       "version_minor": 0
      },
      "text/plain": [
       "HBox(children=(HTML(value='Epochs loop'), FloatProgress(value=0.0, max=30000.0), HTML(value='')))"
      ]
     },
     "metadata": {},
     "output_type": "display_data"
    },
    {
     "name": "stdout",
     "output_type": "stream",
     "text": [
      "\n",
      "Summary:\n",
      "-learning rate = 0.03081\n",
      "-Model saved after iteration 11.\n",
      "-Train.  Loss=0.2556333\n",
      "-Valid.  Loss=0.6627086\n",
      "\n",
      "Best train loss = 0.0005728\n",
      "\n",
      "'train06_loss_8.csv' saved.\n",
      "'valid06_loss_8.csv' saved.\n",
      "'model06_forward_8_last.pth' saved.\n",
      "'model06_forward_8_best.pth' saved.\n"
     ]
    },
    {
     "data": {
      "application/vnd.jupyter.widget-view+json": {
       "model_id": "52b06d090bad4a0a9fdbebff02ba71da",
       "version_major": 2,
       "version_minor": 0
      },
      "text/plain": [
       "HBox(children=(HTML(value='Epochs loop'), FloatProgress(value=0.0, max=30000.0), HTML(value='')))"
      ]
     },
     "metadata": {},
     "output_type": "display_data"
    },
    {
     "name": "stdout",
     "output_type": "stream",
     "text": [
      "\n",
      "Summary:\n",
      "-learning rate = 0.05550\n",
      "-Model saved after iteration 3.\n",
      "-Train.  Loss=0.5645226\n",
      "-Valid.  Loss=0.5902807\n",
      "\n",
      "Best train loss = 0.0003084\n",
      "\n",
      "'train06_loss_9.csv' saved.\n",
      "'valid06_loss_9.csv' saved.\n",
      "'model06_forward_9_last.pth' saved.\n",
      "'model06_forward_9_best.pth' saved.\n"
     ]
    },
    {
     "data": {
      "application/vnd.jupyter.widget-view+json": {
       "model_id": "08bc819aa84b47699885508f80676f63",
       "version_major": 2,
       "version_minor": 0
      },
      "text/plain": [
       "HBox(children=(HTML(value='Epochs loop'), FloatProgress(value=0.0, max=30000.0), HTML(value='')))"
      ]
     },
     "metadata": {},
     "output_type": "display_data"
    },
    {
     "name": "stdout",
     "output_type": "stream",
     "text": [
      "\n",
      "Summary:\n",
      "-learning rate = 0.10000\n",
      "-Model saved after iteration 24.\n",
      "-Train.  Loss=0.1783623\n",
      "-Valid.  Loss=0.6279147\n",
      "\n",
      "Best train loss = 0.0001693\n",
      "\n",
      "'train06_loss_10.csv' saved.\n",
      "'valid06_loss_10.csv' saved.\n",
      "'model06_forward_10_last.pth' saved.\n",
      "'model06_forward_10_best.pth' saved.\n",
      "\n"
     ]
    }
   ],
   "source": [
    "# Perform grid search (unconstrained)\n",
    "layer_sizes = [5, 2]\n",
    "epochs = 30000\n",
    "data_in = 'dataset_06Arcene'\n",
    "data_out = \"data_unconstrained_06Arcene/lrs\"\n",
    "lock_flag = False\n",
    "\n",
    "# Read data\n",
    "load_data(data_in)\n",
    "\n",
    "# Normalize data\n",
    "normalize_data()\n",
    "\n",
    "# Create DataLoaders\n",
    "make_DataLoaders()\n",
    "features = xtrain.size(1)\n",
    "\n",
    "# Train model\n",
    "iterator = tqdm.notebook.tqdm(range(1, len(grid_lrs) + 1), desc='lr-grid loop')\n",
    "for n in iterator:\n",
    "    irow = n-1\n",
    "    fname = 'model06_forward_'+str(n)\n",
    "    train_loss, valid_loss = train_model(\n",
    "                             grid_lrs[irow], \n",
    "                             features, \n",
    "                             layer_sizes,\n",
    "                             lock_flag = lock_flag,\n",
    "                             epochs=epochs,\n",
    "                             early_stop=epochs, \n",
    "                             fname=fname)\n",
    "    print('\\nBest train loss = {:.7f}\\n'.format(train_loss['loss'].min()))\n",
    "\n",
    "# .save relevant data\n",
    "    f3 = [fname+'_last.pth', fname+'_best.pth']\n",
    "    save_output(data_out, \n",
    "                'train06_loss_'+str(n)+'.csv', \n",
    "                'valid06_loss_'+str(n)+'.csv', f3)\n",
    "    \n",
    "# .find MSE, R2, etc...\n",
    "    mm = MyNet(features, layer_sizes)\n",
    "    mm.load_state_dict(torch.load(os.path.join(data_out, fname+'_best.pth')))\n",
    "    mm = mm.to(device)\n",
    "    mm.eval()\n",
    "\n",
    "# .save grid search results\n",
    "    ypred = mm(xvalid)\n",
    "    loss = loss_type(ypred, yvalid.view(-1))\n",
    "    accu = dataset_accuracy(valid_dataloader, mm, device)\n",
    "    df_grid_loss.iloc[irow,:] = [grid_lrs[irow], loss.detach().item(), accu]\n",
    "    df_grid_loss.to_csv(os.path.join(data_out, 'df_grid06_forward.csv'), index=None)"
   ]
  },
  {
   "cell_type": "code",
   "execution_count": 244,
   "metadata": {
    "ExecuteTime": {
     "end_time": "2021-02-22T23:21:55.223535Z",
     "start_time": "2021-02-22T23:21:55.078090Z"
    },
    "code_folding": [
     0
    ]
   },
   "outputs": [
    {
     "data": {
      "image/png": "[encoded data removed]",
      "text/plain": [
       "<Figure size 720x432 with 1 Axes>"
      ]
     },
     "metadata": {
      "needs_background": "light"
     },
     "output_type": "display_data"
    }
   ],
   "source": [
    "# Plot Loss vs point in grid search\n",
    "data_out = \"data_unconstrained_06Arcene/lrs\"\n",
    "df_grid_loss = pd.read_csv(os.path.join(data_out, 'df_grid06_forward.csv'))\n",
    "fig, axes = plt.subplots(figsize=(10,6))\n",
    "axes.scatter(np.log10(df_grid_loss.lr), df_grid_loss['valid_loss'])\n",
    "axes.plot(np.log10(df_grid_loss.lr), df_grid_loss['valid_loss'], label='loss')\n",
    "# axes.scatter(np.log10(df_grid_loss.lr), df_grid_loss['valid_r2'])\n",
    "# axes.plot(np.log10(df_grid_loss.lr), df_grid_loss['valid_r2'], label='r2')\n",
    "axes.set_xlabel(\"log10(lr)\")\n",
    "axes.set_ylabel(\"Validation metric\")\n",
    "axes.legend()\n",
    "plt.show()"
   ]
  },
  {
   "cell_type": "code",
   "execution_count": 257,
   "metadata": {
    "ExecuteTime": {
     "end_time": "2021-02-23T01:41:19.239040Z",
     "start_time": "2021-02-23T01:41:19.224327Z"
    },
    "code_folding": [
     0
    ]
   },
   "outputs": [
    {
     "name": "stdout",
     "output_type": "stream",
     "text": [
      "Best parameters (5):\n",
      "- Best lr = 0.00527\n",
      "- Best valid mse = 0.5309489965438843\n"
     ]
    },
    {
     "data": {
      "text/plain": [
       "'data_unconstrained_06Arcene/valid06_loss.csv'"
      ]
     },
     "execution_count": 257,
     "metadata": {},
     "output_type": "execute_result"
    }
   ],
   "source": [
    "# Display grid search results\n",
    "data_out = \"data_unconstrained_06Arcene/lrs\"\n",
    "df_grid_loss = pd.read_csv(os.path.join(data_out, 'df_grid06_forward.csv'))\n",
    "\n",
    "idx = df_grid_loss.valid_loss.idxmin()\n",
    "best_lr_fward = df_grid_loss.iloc[idx, 0]\n",
    "best_mse      = df_grid_loss.iloc[idx, 1]\n",
    "print(\"Best parameters ({}):\".format(idx+1))\n",
    "print(\"- Best lr = {:.5f}\".format(best_lr_fward))\n",
    "print(\"- Best valid mse = {}\".format(best_mse))\n",
    "\n",
    "# Copy best model to main directory\n",
    "shutil.copy(\"data_unconstrained_06Arcene/lrs/model06_forward_\"+str(idx+1)+\"_best.pth\", \n",
    "            \"data_unconstrained_06Arcene/model06_forward_best.pth\")\n",
    "shutil.copy(\"data_unconstrained_06Arcene/lrs/model06_forward_\"+str(idx+1)+\"_last.pth\", \n",
    "            \"data_unconstrained_06Arcene/model06_forward_last.pth\")\n",
    "\n",
    "shutil.copy(\"data_unconstrained_06Arcene/lrs/train06_loss_\"+str(idx+1)+\".csv\", \n",
    "            \"data_unconstrained_06Arcene/train06_loss.csv\")\n",
    "shutil.copy(\"data_unconstrained_06Arcene/lrs/valid06_loss_\"+str(idx+1)+\".csv\", \n",
    "            \"data_unconstrained_06Arcene/valid06_loss.csv\")"
   ]
  },
  {
   "cell_type": "code",
   "execution_count": 252,
   "metadata": {
    "ExecuteTime": {
     "end_time": "2021-02-22T23:54:51.413310Z",
     "start_time": "2021-02-22T23:54:51.408844Z"
    },
    "code_folding": []
   },
   "outputs": [],
   "source": [
    "# Grid search space\n",
    "grid_lrs = np.geomspace(5e-4, 1e-1, num=10)\n",
    "df_grid_loss = pd.DataFrame(columns = ['lr', 'valid_loss', 'valid_acc'], \n",
    "                            index=range(len(grid_lrs)))"
   ]
  },
  {
   "cell_type": "code",
   "execution_count": 253,
   "metadata": {
    "ExecuteTime": {
     "end_time": "2021-02-23T01:25:52.075232Z",
     "start_time": "2021-02-22T23:57:00.758259Z"
    },
    "code_folding": [
     0
    ],
    "scrolled": true
   },
   "outputs": [
    {
     "name": "stdout",
     "output_type": "stream",
     "text": [
      "- train minibatches = 1\n",
      "- valid minibatches = 1\n",
      "- test minibatches = 1\n"
     ]
    },
    {
     "data": {
      "application/vnd.jupyter.widget-view+json": {
       "model_id": "876cd0433242493ea610294c28c6037c",
       "version_major": 2,
       "version_minor": 0
      },
      "text/plain": [
       "HBox(children=(HTML(value='lr-grid loop'), FloatProgress(value=0.0, max=10.0), HTML(value='')))"
      ]
     },
     "metadata": {},
     "output_type": "display_data"
    },
    {
     "data": {
      "application/vnd.jupyter.widget-view+json": {
       "model_id": "025c224a34314023a3ac3ed83746364e",
       "version_major": 2,
       "version_minor": 0
      },
      "text/plain": [
       "HBox(children=(HTML(value='Epochs loop'), FloatProgress(value=0.0, max=20000.0), HTML(value='')))"
      ]
     },
     "metadata": {},
     "output_type": "display_data"
    },
    {
     "name": "stdout",
     "output_type": "stream",
     "text": [
      "\n",
      "Summary:\n",
      "-learning rate = 0.00050\n",
      "-Model saved after iteration 19613.\n",
      "-Train.  Loss=0.2444573\n",
      "-Valid.  Loss=0.5415932\n",
      "\n",
      "Best train loss = 0.0000000\n",
      "\n",
      "'train06_loss_1.csv' saved.\n",
      "'valid06_loss_1.csv' saved.\n",
      "'model06_backward_1_best.pth' saved.\n"
     ]
    },
    {
     "data": {
      "application/vnd.jupyter.widget-view+json": {
       "model_id": "c5c5784a56974011aec76e5200d8eee2",
       "version_major": 2,
       "version_minor": 0
      },
      "text/plain": [
       "HBox(children=(HTML(value='Epochs loop'), FloatProgress(value=0.0, max=20000.0), HTML(value='')))"
      ]
     },
     "metadata": {},
     "output_type": "display_data"
    },
    {
     "name": "stdout",
     "output_type": "stream",
     "text": [
      "\n",
      "Summary:\n",
      "-learning rate = 0.00090\n",
      "-Model saved after iteration 19369.\n",
      "-Train.  Loss=0.3175108\n",
      "-Valid.  Loss=0.6887647\n",
      "\n",
      "Best train loss = 0.0143216\n",
      "\n",
      "'train06_loss_2.csv' saved.\n",
      "'valid06_loss_2.csv' saved.\n",
      "'model06_backward_2_best.pth' saved.\n"
     ]
    },
    {
     "data": {
      "application/vnd.jupyter.widget-view+json": {
       "model_id": "fc5c25958b76471b85e9ba1d584dce6f",
       "version_major": 2,
       "version_minor": 0
      },
      "text/plain": [
       "HBox(children=(HTML(value='Epochs loop'), FloatProgress(value=0.0, max=20000.0), HTML(value='')))"
      ]
     },
     "metadata": {},
     "output_type": "display_data"
    },
    {
     "name": "stdout",
     "output_type": "stream",
     "text": [
      "\n",
      "Summary:\n",
      "-learning rate = 0.00162\n",
      "-Model saved after iteration 19451.\n",
      "-Train.  Loss=0.3043469\n",
      "-Valid.  Loss=0.6625994\n",
      "\n",
      "Best train loss = 0.0000000\n",
      "\n",
      "'train06_loss_3.csv' saved.\n",
      "'valid06_loss_3.csv' saved.\n",
      "'model06_backward_3_best.pth' saved.\n"
     ]
    },
    {
     "data": {
      "application/vnd.jupyter.widget-view+json": {
       "model_id": "b24cfe99c69c4cd7adcb63d0a6de592d",
       "version_major": 2,
       "version_minor": 0
      },
      "text/plain": [
       "HBox(children=(HTML(value='Epochs loop'), FloatProgress(value=0.0, max=20000.0), HTML(value='')))"
      ]
     },
     "metadata": {},
     "output_type": "display_data"
    },
    {
     "name": "stdout",
     "output_type": "stream",
     "text": [
      "\n",
      "Summary:\n",
      "-learning rate = 0.00292\n",
      "-Model saved after iteration 19539.\n",
      "-Train.  Loss=0.2667362\n",
      "-Valid.  Loss=0.6620946\n",
      "\n",
      "Best train loss = 0.0000063\n",
      "\n",
      "'train06_loss_4.csv' saved.\n",
      "'valid06_loss_4.csv' saved.\n",
      "'model06_backward_4_best.pth' saved.\n"
     ]
    },
    {
     "data": {
      "application/vnd.jupyter.widget-view+json": {
       "model_id": "b074108f6c4045b5a74ca623db432769",
       "version_major": 2,
       "version_minor": 0
      },
      "text/plain": [
       "HBox(children=(HTML(value='Epochs loop'), FloatProgress(value=0.0, max=20000.0), HTML(value='')))"
      ]
     },
     "metadata": {},
     "output_type": "display_data"
    },
    {
     "name": "stdout",
     "output_type": "stream",
     "text": [
      "\n",
      "Summary:\n",
      "-learning rate = 0.00527\n",
      "-Model saved after iteration 5.\n",
      "-Train.  Loss=0.0000351\n",
      "-Valid.  Loss=0.5971515\n",
      "\n",
      "Best train loss = 0.0000000\n",
      "\n",
      "'train06_loss_5.csv' saved.\n",
      "'valid06_loss_5.csv' saved.\n",
      "'model06_backward_5_best.pth' saved.\n"
     ]
    },
    {
     "data": {
      "application/vnd.jupyter.widget-view+json": {
       "model_id": "6a9f7efe8ba54e70b210956ed5bf138e",
       "version_major": 2,
       "version_minor": 0
      },
      "text/plain": [
       "HBox(children=(HTML(value='Epochs loop'), FloatProgress(value=0.0, max=20000.0), HTML(value='')))"
      ]
     },
     "metadata": {},
     "output_type": "display_data"
    },
    {
     "name": "stdout",
     "output_type": "stream",
     "text": [
      "\n",
      "Summary:\n",
      "-learning rate = 0.00949\n",
      "-Model saved after iteration 19195.\n",
      "-Train.  Loss=0.2364158\n",
      "-Valid.  Loss=0.5444075\n",
      "\n",
      "Best train loss = 0.0037206\n",
      "\n",
      "'train06_loss_6.csv' saved.\n",
      "'valid06_loss_6.csv' saved.\n",
      "'model06_backward_6_best.pth' saved.\n"
     ]
    },
    {
     "data": {
      "application/vnd.jupyter.widget-view+json": {
       "model_id": "8f2a1680a0f446adb6c86d516cb06f4a",
       "version_major": 2,
       "version_minor": 0
      },
      "text/plain": [
       "HBox(children=(HTML(value='Epochs loop'), FloatProgress(value=0.0, max=20000.0), HTML(value='')))"
      ]
     },
     "metadata": {},
     "output_type": "display_data"
    },
    {
     "name": "stdout",
     "output_type": "stream",
     "text": [
      "\n",
      "Summary:\n",
      "-learning rate = 0.01710\n",
      "-Model saved after iteration 19306.\n",
      "-Train.  Loss=0.4149508\n",
      "-Valid.  Loss=0.4115285\n",
      "\n",
      "Best train loss = 0.0000000\n",
      "\n",
      "'train06_loss_7.csv' saved.\n",
      "'valid06_loss_7.csv' saved.\n",
      "'model06_backward_7_best.pth' saved.\n"
     ]
    },
    {
     "data": {
      "application/vnd.jupyter.widget-view+json": {
       "model_id": "b725231454a04eb4aca2139ab97826e4",
       "version_major": 2,
       "version_minor": 0
      },
      "text/plain": [
       "HBox(children=(HTML(value='Epochs loop'), FloatProgress(value=0.0, max=20000.0), HTML(value='')))"
      ]
     },
     "metadata": {},
     "output_type": "display_data"
    },
    {
     "name": "stdout",
     "output_type": "stream",
     "text": [
      "\n",
      "Summary:\n",
      "-learning rate = 0.03081\n",
      "-Model saved after iteration 18116.\n",
      "-Train.  Loss=0.1542618\n",
      "-Valid.  Loss=0.4372530\n",
      "\n",
      "Best train loss = 0.0000000\n",
      "\n",
      "'train06_loss_8.csv' saved.\n",
      "'valid06_loss_8.csv' saved.\n",
      "'model06_backward_8_best.pth' saved.\n"
     ]
    },
    {
     "data": {
      "application/vnd.jupyter.widget-view+json": {
       "model_id": "e32518a1fe3f40a69c3a3f10a5b4754a",
       "version_major": 2,
       "version_minor": 0
      },
      "text/plain": [
       "HBox(children=(HTML(value='Epochs loop'), FloatProgress(value=0.0, max=20000.0), HTML(value='')))"
      ]
     },
     "metadata": {},
     "output_type": "display_data"
    },
    {
     "name": "stdout",
     "output_type": "stream",
     "text": [
      "\n",
      "Summary:\n",
      "-learning rate = 0.05550\n",
      "-Model saved after iteration 18165.\n",
      "-Train.  Loss=0.5403224\n",
      "-Valid.  Loss=0.5440348\n",
      "\n",
      "Best train loss = 0.0000001\n",
      "\n",
      "'train06_loss_9.csv' saved.\n",
      "'valid06_loss_9.csv' saved.\n",
      "'model06_backward_9_best.pth' saved.\n"
     ]
    },
    {
     "data": {
      "application/vnd.jupyter.widget-view+json": {
       "model_id": "db6f01b73ceb402484df0b59e0c1e3a2",
       "version_major": 2,
       "version_minor": 0
      },
      "text/plain": [
       "HBox(children=(HTML(value='Epochs loop'), FloatProgress(value=0.0, max=20000.0), HTML(value='')))"
      ]
     },
     "metadata": {},
     "output_type": "display_data"
    },
    {
     "name": "stdout",
     "output_type": "stream",
     "text": [
      "\n",
      "Summary:\n",
      "-learning rate = 0.10000\n",
      "-Model saved after iteration 18055.\n",
      "-Train.  Loss=0.4754596\n",
      "-Valid.  Loss=0.5579063\n",
      "\n",
      "Best train loss = 0.0001693\n",
      "\n",
      "'train06_loss_10.csv' saved.\n",
      "'valid06_loss_10.csv' saved.\n",
      "'model06_backward_10_best.pth' saved.\n",
      "\n"
     ]
    }
   ],
   "source": [
    "# Perform grid search (lockdown)\n",
    "layer_sizes = [5, 2]\n",
    "epochs = 20000\n",
    "data_in = 'dataset_06Arcene'\n",
    "data_out = \"data_lockdown_06Arcene/lrs\"\n",
    "lock_flag = True\n",
    "step = 1\n",
    "\n",
    "# Read data\n",
    "load_data(data_in)\n",
    "\n",
    "# Normalize data\n",
    "normalize_data()\n",
    "\n",
    "# Create DataLoaders\n",
    "make_DataLoaders()\n",
    "features = xtrain.size(1)\n",
    "\n",
    "# Train model\n",
    "iterator = tqdm.notebook.tqdm(range(1, len(grid_lrs) + 1), desc='lr-grid loop')\n",
    "for n in iterator:\n",
    "    irow = n-1\n",
    "    model_forward_name = 'data_unconstrained_06Arcene/lrs/model06_forward_'+str(n)+'_last.pth'\n",
    "    fname = 'model06_backward_'+str(n)\n",
    "    train_loss, valid_loss = train_model(\n",
    "                             grid_lrs[irow], \n",
    "                             features, \n",
    "                             layer_sizes,\n",
    "                             lock_flag = lock_flag,\n",
    "                             epochs=epochs,\n",
    "                             early_stop=epochs, \n",
    "                             fname=fname)\n",
    "    print('\\nBest train loss = {:.7f}\\n'.format(train_loss['loss'].min()))\n",
    "\n",
    "# .save relevant data\n",
    "    f3 = [fname+'_best.pth']\n",
    "    save_output(data_out, \n",
    "                'train06_loss_'+str(n)+'.csv', \n",
    "                'valid06_loss_'+str(n)+'.csv', f3)\n",
    "    \n",
    "# .find MSE, R2, etc...\n",
    "    mm = MyNet(features, layer_sizes)\n",
    "    mm.load_state_dict(torch.load(os.path.join(data_out, fname+'_best.pth')))\n",
    "    mm = mm.to(device)\n",
    "    mm.eval()\n",
    "\n",
    "# .save grid search results\n",
    "    ypred = mm(xvalid)\n",
    "    loss = loss_type(ypred, yvalid.view(-1))\n",
    "    accu = dataset_accuracy(valid_dataloader, mm, device)\n",
    "    df_grid_loss.iloc[irow,:] = [grid_lrs[irow], loss.detach().item(), accu]\n",
    "    df_grid_loss.to_csv(os.path.join(data_out, 'df_grid06_backward.csv'), index=None)"
   ]
  },
  {
   "cell_type": "code",
   "execution_count": 254,
   "metadata": {
    "ExecuteTime": {
     "end_time": "2021-02-23T01:59:48.423904Z",
     "start_time": "2021-02-23T01:59:48.404907Z"
    },
    "code_folding": [
     0
    ]
   },
   "outputs": [
    {
     "data": {
      "image/png": "[encoded data removed]",
      "text/plain": [
       "<Figure size 720x432 with 1 Axes>"
      ]
     },
     "metadata": {
      "needs_background": "light"
     },
     "output_type": "display_data"
    }
   ],
   "source": [
    "# Plot Loss vs point in grid search\n",
    "data_out = \"data_lockdown_06Arcene/lrs\"\n",
    "df_grid_loss = pd.read_csv(os.path.join(data_out, 'df_grid06_backward.csv'))\n",
    "fig, axes = plt.subplots(figsize=(10,6))\n",
    "axes.scatter(np.log10(df_grid_loss.lr), df_grid_loss['valid_loss'])\n",
    "axes.plot(np.log10(df_grid_loss.lr), df_grid_loss['valid_loss'], label='loss')\n",
    "# axes.scatter(np.log10(df_grid_loss.lr), df_grid_loss['valid_r2'])\n",
    "# axes.plot(np.log10(df_grid_loss.lr), df_grid_loss['valid_r2'], label='r2')\n",
    "axes.set_xlabel(\"log10(lr)\")\n",
    "axes.set_ylabel(\"Validation metric\")\n",
    "axes.legend()\n",
    "plt.show()"
   ]
  },
  {
   "cell_type": "code",
   "execution_count": 274,
   "metadata": {
    "ExecuteTime": {
     "end_time": "2021-02-23T01:59:48.423904Z",
     "start_time": "2021-02-23T01:59:48.404907Z"
    },
    "code_folding": [
     0
    ]
   },
   "outputs": [
    {
     "name": "stdout",
     "output_type": "stream",
     "text": [
      "Best parameters (7):\n",
      "- Best lr = 0.01710\n",
      "- Best valid mse = 0.4115285277366638\n"
     ]
    },
    {
     "data": {
      "text/plain": [
       "'data_lockdown_06Arcene/valid_loss.csv'"
      ]
     },
     "execution_count": 274,
     "metadata": {},
     "output_type": "execute_result"
    }
   ],
   "source": [
    "# Display grid search results\n",
    "data_out = \"data_lockdown_06Arcene/lrs\"\n",
    "df_grid_loss = pd.read_csv(os.path.join(data_out, 'df_grid06_backward.csv'))\n",
    "\n",
    "idx = df_grid_loss.valid_loss.idxmin()\n",
    "best_lr_bward = df_grid_loss.iloc[idx, 0]\n",
    "best_mse      = df_grid_loss.iloc[idx, 1]\n",
    "print(\"Best parameters ({}):\".format(idx+1))\n",
    "print(\"- Best lr = {:.5f}\".format(best_lr_bward))\n",
    "print(\"- Best valid mse = {}\".format(best_mse))\n",
    "\n",
    "# Copy best models to main directory\n",
    "shutil.copy(\"data_unconstrained_06Arcene/lrs/model06_forward_\"+str(idx+1)+\"_best.pth\", \n",
    "            \"data_lockdown_06Arcene/model06_fward_best.pth\")\n",
    "shutil.copy(\"data_unconstrained_06Arcene/lrs/model06_forward_\"+str(idx+1)+\"_last.pth\", \n",
    "            \"data_lockdown_06Arcene/model06_fward_last.pth\")\n",
    "shutil.copy(\"data_lockdown_06Arcene/lrs/model06_backward_\"+str(idx+1)+\"_best.pth\", \n",
    "            \"data_lockdown_06Arcene/model06_backward_best.pth\")\n",
    "\n",
    "shutil.copy(\"data_unconstrained_06Arcene/lrs/train06_loss_\"+str(idx+1)+\".csv\", \n",
    "            \"data_lockdown_06Arcene/train_loss_fward.csv\")\n",
    "shutil.copy(\"data_unconstrained_06Arcene/lrs/valid06_loss_\"+str(idx+1)+\".csv\", \n",
    "            \"data_lockdown_06Arcene/valid_loss_fward.csv\")\n",
    "shutil.copy(\"data_lockdown_06Arcene/lrs/train06_loss_\"+str(idx+1)+\".csv\", \n",
    "            \"data_lockdown_06Arcene/train_loss.csv\")\n",
    "shutil.copy(\"data_lockdown_06Arcene/lrs/valid06_loss_\"+str(idx+1)+\".csv\", \n",
    "            \"data_lockdown_06Arcene/valid_loss.csv\")"
   ]
  },
  {
   "cell_type": "code",
   "execution_count": 275,
   "metadata": {
    "ExecuteTime": {
     "end_time": "2021-02-23T02:00:19.461804Z",
     "start_time": "2021-02-23T02:00:19.407668Z"
    },
    "code_folding": [
     0
    ]
   },
   "outputs": [
    {
     "data": {
      "text/html": [
       "<div>\n",
       "<style scoped>\n",
       "    .dataframe tbody tr th:only-of-type {\n",
       "        vertical-align: middle;\n",
       "    }\n",
       "\n",
       "    .dataframe tbody tr th {\n",
       "        vertical-align: top;\n",
       "    }\n",
       "\n",
       "    .dataframe thead th {\n",
       "        text-align: right;\n",
       "    }\n",
       "</style>\n",
       "<table border=\"1\" class=\"dataframe\">\n",
       "  <thead>\n",
       "    <tr style=\"text-align: right;\">\n",
       "      <th></th>\n",
       "      <th></th>\n",
       "      <th>LOSS</th>\n",
       "      <th>ACCURACY</th>\n",
       "    </tr>\n",
       "  </thead>\n",
       "  <tbody>\n",
       "    <tr>\n",
       "      <th rowspan=\"2\" valign=\"top\">TRAIN</th>\n",
       "      <th>forward</th>\n",
       "      <td>0.153417</td>\n",
       "      <td>1</td>\n",
       "    </tr>\n",
       "    <tr>\n",
       "      <th>lockdown</th>\n",
       "      <td>0.414951</td>\n",
       "      <td>0.733333</td>\n",
       "    </tr>\n",
       "    <tr>\n",
       "      <th rowspan=\"2\" valign=\"top\">VALIDATION</th>\n",
       "      <th>forward</th>\n",
       "      <td>0.530949</td>\n",
       "      <td>0.7</td>\n",
       "    </tr>\n",
       "    <tr>\n",
       "      <th>lockdown</th>\n",
       "      <td>0.411529</td>\n",
       "      <td>0.775</td>\n",
       "    </tr>\n",
       "    <tr>\n",
       "      <th rowspan=\"2\" valign=\"top\">TEST</th>\n",
       "      <th>forward</th>\n",
       "      <td>0.4049</td>\n",
       "      <td>0.75</td>\n",
       "    </tr>\n",
       "    <tr>\n",
       "      <th>lockdown</th>\n",
       "      <td>0.449003</td>\n",
       "      <td>0.775</td>\n",
       "    </tr>\n",
       "  </tbody>\n",
       "</table>\n",
       "</div>"
      ],
      "text/plain": [
       "                         LOSS  ACCURACY\n",
       "TRAIN      forward   0.153417         1\n",
       "           lockdown  0.414951  0.733333\n",
       "VALIDATION forward   0.530949       0.7\n",
       "           lockdown  0.411529     0.775\n",
       "TEST       forward     0.4049      0.75\n",
       "           lockdown  0.449003     0.775"
      ]
     },
     "execution_count": 275,
     "metadata": {},
     "output_type": "execute_result"
    }
   ],
   "source": [
    "# Find Loss, Accuracy, etc...\n",
    "data_out = \"data_lockdown_06Arcene\"\n",
    "index = pd.MultiIndex.from_product([['TRAIN', 'VALIDATION', 'TEST'], ['forward', 'lockdown']])\n",
    "df_results = pd.DataFrame(index=index, columns=['LOSS', 'ACCURACY'])\n",
    "\n",
    "# Unconstrained results\n",
    "mm = MyNet(features, layer_sizes)\n",
    "mm.load_state_dict(torch.load('data_unconstrained_06Arcene/model06_forward_best.pth'))\n",
    "mm = mm.to(device)\n",
    "mm.eval()\n",
    "\n",
    "ypred = mm(xtrain)\n",
    "loss = loss_type(ypred, ytrain.view(-1))\n",
    "accu = dataset_accuracy(train_dataloader, mm, device)\n",
    "df_results.loc[('TRAIN', 'forward'), 'LOSS'] = loss.detach().item()\n",
    "df_results.loc[('TRAIN', 'forward'), 'ACCURACY'] = accu\n",
    "\n",
    "ypred = mm(xvalid)\n",
    "loss = loss_type(ypred, yvalid.view(-1))\n",
    "accu = dataset_accuracy(valid_dataloader, mm, device)\n",
    "df_results.loc[('VALIDATION', 'forward'), 'LOSS'] = loss.detach().item()\n",
    "df_results.loc[('VALIDATION', 'forward'), 'ACCURACY'] = accu\n",
    "\n",
    "ypred = mm(xtest)\n",
    "loss = loss_type(ypred, ytest.view(-1))\n",
    "accu = dataset_accuracy(test_dataloader, mm, device)\n",
    "df_results.loc[('TEST', 'forward'), 'LOSS'] = loss.detach().item()\n",
    "df_results.loc[('TEST', 'forward'), 'ACCURACY'] = accu\n",
    "\n",
    "# Lockdown results\n",
    "mm = MyNet(features, layer_sizes)\n",
    "mm.load_state_dict(torch.load('data_lockdown_06Arcene/model06_backward_best.pth'))\n",
    "mm = mm.to(device)\n",
    "mm.eval()\n",
    "\n",
    "ypred = mm(xtrain)\n",
    "loss = loss_type(ypred, ytrain.view(-1))\n",
    "accu = dataset_accuracy(train_dataloader, mm, device)\n",
    "df_results.loc[('TRAIN', 'lockdown'), 'LOSS'] = loss.detach().item()\n",
    "df_results.loc[('TRAIN', 'lockdown'), 'ACCURACY'] = accu\n",
    "\n",
    "ypred = mm(xvalid)\n",
    "loss = loss_type(ypred, yvalid.view(-1))\n",
    "accu = dataset_accuracy(valid_dataloader, mm, device)\n",
    "df_results.loc[('VALIDATION', 'lockdown'), 'LOSS'] = loss.detach().item()\n",
    "df_results.loc[('VALIDATION', 'lockdown'), 'ACCURACY'] = accu\n",
    "\n",
    "ypred = mm(xtest)\n",
    "loss = loss_type(ypred, ytest.view(-1))\n",
    "accu = dataset_accuracy(test_dataloader, mm, device)\n",
    "df_results.loc[('TEST', 'lockdown'), 'LOSS'] = loss.detach().item()\n",
    "df_results.loc[('TEST', 'lockdown'), 'ACCURACY'] = accu\n",
    "\n",
    "df_results.to_csv(os.path.join(data_out, 'results.csv'), index=True)\n",
    "df_results"
   ]
  },
  {
   "cell_type": "code",
   "execution_count": 282,
   "metadata": {
    "ExecuteTime": {
     "end_time": "2021-02-23T04:54:28.808564Z",
     "start_time": "2021-02-23T02:06:18.490375Z"
    },
    "code_folding": [
     0
    ],
    "scrolled": true
   },
   "outputs": [
    {
     "data": {
      "application/vnd.jupyter.widget-view+json": {
       "model_id": "ba298b9c584f4ac8a22e989f6dd91c61",
       "version_major": 2,
       "version_minor": 0
      },
      "text/plain": [
       "HBox(children=(HTML(value='Partitions loop'), FloatProgress(value=0.0), HTML(value='')))"
      ]
     },
     "metadata": {},
     "output_type": "display_data"
    },
    {
     "name": "stdout",
     "output_type": "stream",
     "text": [
      "- train minibatches = 1\n",
      "- valid minibatches = 1\n",
      "- test minibatches = 1\n"
     ]
    },
    {
     "data": {
      "application/vnd.jupyter.widget-view+json": {
       "model_id": "07677ec41e4b483e968f8cf6e1f29afb",
       "version_major": 2,
       "version_minor": 0
      },
      "text/plain": [
       "HBox(children=(HTML(value='Epochs loop'), FloatProgress(value=0.0, max=30000.0), HTML(value='')))"
      ]
     },
     "metadata": {},
     "output_type": "display_data"
    },
    {
     "name": "stdout",
     "output_type": "stream",
     "text": [
      "\n",
      "Summary:\n",
      "-learning rate = 0.00527\n",
      "-path 1 has early stopped:\n",
      " 5000 iterations with no improvement in train loss.\n",
      "-Model saved after iteration 52.\n",
      "-Train.  Loss=0.2495074\n",
      "-Valid.  Loss=0.4962537\n",
      "'train_loss_1.csv' saved.\n",
      "'valid_loss_1.csv' saved.\n",
      "'model06_forward_1_last.pth' saved.\n",
      "'model06_forward_1_best.pth' saved.\n",
      "- train minibatches = 1\n",
      "- valid minibatches = 1\n",
      "- test minibatches = 1\n"
     ]
    },
    {
     "data": {
      "application/vnd.jupyter.widget-view+json": {
       "model_id": "9c646a2fdb22414899362e66d90bfd25",
       "version_major": 2,
       "version_minor": 0
      },
      "text/plain": [
       "HBox(children=(HTML(value='Epochs loop'), FloatProgress(value=0.0, max=30000.0), HTML(value='')))"
      ]
     },
     "metadata": {},
     "output_type": "display_data"
    },
    {
     "name": "stdout",
     "output_type": "stream",
     "text": [
      "\n",
      "Summary:\n",
      "-learning rate = 0.00527\n",
      "-path 1 has early stopped:\n",
      " 5000 iterations with no improvement in train loss.\n",
      "-Model saved after iteration 140.\n",
      "-Train.  Loss=0.1191348\n",
      "-Valid.  Loss=0.4589560\n",
      "'train_loss_2.csv' saved.\n",
      "'valid_loss_2.csv' saved.\n",
      "'model06_forward_2_last.pth' saved.\n",
      "'model06_forward_2_best.pth' saved.\n",
      "- train minibatches = 1\n",
      "- valid minibatches = 1\n",
      "- test minibatches = 1\n"
     ]
    },
    {
     "data": {
      "application/vnd.jupyter.widget-view+json": {
       "model_id": "7c748565b7eb4fe2a34471ae7a7e9b1d",
       "version_major": 2,
       "version_minor": 0
      },
      "text/plain": [
       "HBox(children=(HTML(value='Epochs loop'), FloatProgress(value=0.0, max=30000.0), HTML(value='')))"
      ]
     },
     "metadata": {},
     "output_type": "display_data"
    },
    {
     "name": "stdout",
     "output_type": "stream",
     "text": [
      "\n",
      "Summary:\n",
      "-learning rate = 0.00527\n",
      "-path 1 has early stopped:\n",
      " 5000 iterations with no improvement in train loss.\n",
      "-Model saved after iteration 85.\n",
      "-Train.  Loss=0.1699090\n",
      "-Valid.  Loss=0.5015782\n",
      "'train_loss_3.csv' saved.\n",
      "'valid_loss_3.csv' saved.\n",
      "'model06_forward_3_last.pth' saved.\n",
      "'model06_forward_3_best.pth' saved.\n",
      "- train minibatches = 1\n",
      "- valid minibatches = 1\n",
      "- test minibatches = 1\n"
     ]
    },
    {
     "data": {
      "application/vnd.jupyter.widget-view+json": {
       "model_id": "14c7f3bb5a6c4ff5a252c7f402c46165",
       "version_major": 2,
       "version_minor": 0
      },
      "text/plain": [
       "HBox(children=(HTML(value='Epochs loop'), FloatProgress(value=0.0, max=30000.0), HTML(value='')))"
      ]
     },
     "metadata": {},
     "output_type": "display_data"
    },
    {
     "name": "stdout",
     "output_type": "stream",
     "text": [
      "\n",
      "Summary:\n",
      "-learning rate = 0.00527\n",
      "-path 1 has early stopped:\n",
      " 5000 iterations with no improvement in train loss.\n",
      "-Model saved after iteration 200.\n",
      "-Train.  Loss=0.1145268\n",
      "-Valid.  Loss=0.5276027\n",
      "'train_loss_4.csv' saved.\n",
      "'valid_loss_4.csv' saved.\n",
      "'model06_forward_4_last.pth' saved.\n",
      "'model06_forward_4_best.pth' saved.\n",
      "- train minibatches = 1\n",
      "- valid minibatches = 1\n",
      "- test minibatches = 1\n"
     ]
    },
    {
     "data": {
      "application/vnd.jupyter.widget-view+json": {
       "model_id": "26676b306cec4b03af5b4ec3faed3afa",
       "version_major": 2,
       "version_minor": 0
      },
      "text/plain": [
       "HBox(children=(HTML(value='Epochs loop'), FloatProgress(value=0.0, max=30000.0), HTML(value='')))"
      ]
     },
     "metadata": {},
     "output_type": "display_data"
    },
    {
     "name": "stdout",
     "output_type": "stream",
     "text": [
      "\n",
      "Summary:\n",
      "-learning rate = 0.00527\n",
      "-path 1 has early stopped:\n",
      " 5000 iterations with no improvement in train loss.\n",
      "-Model saved after iteration 44.\n",
      "-Train.  Loss=0.2828650\n",
      "-Valid.  Loss=0.4729902\n",
      "'train_loss_5.csv' saved.\n",
      "'valid_loss_5.csv' saved.\n",
      "'model06_forward_5_last.pth' saved.\n",
      "'model06_forward_5_best.pth' saved.\n",
      "- train minibatches = 1\n",
      "- valid minibatches = 1\n",
      "- test minibatches = 1\n"
     ]
    },
    {
     "data": {
      "application/vnd.jupyter.widget-view+json": {
       "model_id": "ad21e9207a7449299df268d0739ff725",
       "version_major": 2,
       "version_minor": 0
      },
      "text/plain": [
       "HBox(children=(HTML(value='Epochs loop'), FloatProgress(value=0.0, max=30000.0), HTML(value='')))"
      ]
     },
     "metadata": {},
     "output_type": "display_data"
    },
    {
     "name": "stdout",
     "output_type": "stream",
     "text": [
      "\n",
      "Summary:\n",
      "-learning rate = 0.00527\n",
      "-path 1 has early stopped:\n",
      " 5000 iterations with no improvement in train loss.\n",
      "-Model saved after iteration 47.\n",
      "-Train.  Loss=0.2205706\n",
      "-Valid.  Loss=0.4153580\n",
      "'train_loss_6.csv' saved.\n",
      "'valid_loss_6.csv' saved.\n",
      "'model06_forward_6_last.pth' saved.\n",
      "'model06_forward_6_best.pth' saved.\n",
      "- train minibatches = 1\n",
      "- valid minibatches = 1\n",
      "- test minibatches = 1\n"
     ]
    },
    {
     "data": {
      "application/vnd.jupyter.widget-view+json": {
       "model_id": "601c62c80ed441308422e2fa4bc70a55",
       "version_major": 2,
       "version_minor": 0
      },
      "text/plain": [
       "HBox(children=(HTML(value='Epochs loop'), FloatProgress(value=0.0, max=30000.0), HTML(value='')))"
      ]
     },
     "metadata": {},
     "output_type": "display_data"
    },
    {
     "name": "stdout",
     "output_type": "stream",
     "text": [
      "\n",
      "Summary:\n",
      "-learning rate = 0.00527\n",
      "-path 1 has early stopped:\n",
      " 5000 iterations with no improvement in train loss.\n",
      "-Model saved after iteration 272.\n",
      "-Train.  Loss=0.0270917\n",
      "-Valid.  Loss=0.3833446\n",
      "'train_loss_7.csv' saved.\n",
      "'valid_loss_7.csv' saved.\n",
      "'model06_forward_7_last.pth' saved.\n",
      "'model06_forward_7_best.pth' saved.\n",
      "- train minibatches = 1\n",
      "- valid minibatches = 1\n",
      "- test minibatches = 1\n"
     ]
    },
    {
     "data": {
      "application/vnd.jupyter.widget-view+json": {
       "model_id": "d09bf48aaefd4156af6138e7bdff2546",
       "version_major": 2,
       "version_minor": 0
      },
      "text/plain": [
       "HBox(children=(HTML(value='Epochs loop'), FloatProgress(value=0.0, max=30000.0), HTML(value='')))"
      ]
     },
     "metadata": {},
     "output_type": "display_data"
    },
    {
     "name": "stdout",
     "output_type": "stream",
     "text": [
      "\n",
      "Summary:\n",
      "-learning rate = 0.00527\n",
      "-path 1 has early stopped:\n",
      " 5000 iterations with no improvement in train loss.\n",
      "-Model saved after iteration 4120.\n",
      "-Train.  Loss=0.0123378\n",
      "-Valid.  Loss=0.2333841\n",
      "'train_loss_8.csv' saved.\n",
      "'valid_loss_8.csv' saved.\n",
      "'model06_forward_8_last.pth' saved.\n",
      "'model06_forward_8_best.pth' saved.\n",
      "- train minibatches = 1\n",
      "- valid minibatches = 1\n",
      "- test minibatches = 1\n"
     ]
    },
    {
     "data": {
      "application/vnd.jupyter.widget-view+json": {
       "model_id": "e21fe8d089c643a492c506b46c3aa23a",
       "version_major": 2,
       "version_minor": 0
      },
      "text/plain": [
       "HBox(children=(HTML(value='Epochs loop'), FloatProgress(value=0.0, max=30000.0), HTML(value='')))"
      ]
     },
     "metadata": {},
     "output_type": "display_data"
    },
    {
     "name": "stdout",
     "output_type": "stream",
     "text": [
      "\n",
      "Summary:\n",
      "-learning rate = 0.00527\n",
      "-path 1 has early stopped:\n",
      " 5000 iterations with no improvement in train loss.\n",
      "-Model saved after iteration 162.\n",
      "-Train.  Loss=0.1446682\n",
      "-Valid.  Loss=0.7072574\n",
      "'train_loss_9.csv' saved.\n",
      "'valid_loss_9.csv' saved.\n",
      "'model06_forward_9_last.pth' saved.\n",
      "'model06_forward_9_best.pth' saved.\n",
      "- train minibatches = 1\n",
      "- valid minibatches = 1\n",
      "- test minibatches = 1\n"
     ]
    },
    {
     "data": {
      "application/vnd.jupyter.widget-view+json": {
       "model_id": "2c011a4dfa8040708aff8dcb5a82d11f",
       "version_major": 2,
       "version_minor": 0
      },
      "text/plain": [
       "HBox(children=(HTML(value='Epochs loop'), FloatProgress(value=0.0, max=30000.0), HTML(value='')))"
      ]
     },
     "metadata": {},
     "output_type": "display_data"
    },
    {
     "name": "stdout",
     "output_type": "stream",
     "text": [
      "\n",
      "Summary:\n",
      "-learning rate = 0.00527\n",
      "-path 1 has early stopped:\n",
      " 5000 iterations with no improvement in train loss.\n",
      "-Model saved after iteration 22.\n",
      "-Train.  Loss=0.4589940\n",
      "-Valid.  Loss=0.5876127\n",
      "'train_loss_10.csv' saved.\n",
      "'valid_loss_10.csv' saved.\n",
      "'model06_forward_10_last.pth' saved.\n",
      "'model06_forward_10_best.pth' saved.\n",
      "- train minibatches = 1\n",
      "- valid minibatches = 1\n",
      "- test minibatches = 1\n"
     ]
    },
    {
     "data": {
      "application/vnd.jupyter.widget-view+json": {
       "model_id": "6e73c64029844bd3b28d5e65f0d251ca",
       "version_major": 2,
       "version_minor": 0
      },
      "text/plain": [
       "HBox(children=(HTML(value='Epochs loop'), FloatProgress(value=0.0, max=30000.0), HTML(value='')))"
      ]
     },
     "metadata": {},
     "output_type": "display_data"
    },
    {
     "name": "stdout",
     "output_type": "stream",
     "text": [
      "\n",
      "Summary:\n",
      "-learning rate = 0.00527\n",
      "-path 1 has early stopped:\n",
      " 5000 iterations with no improvement in train loss.\n",
      "-Model saved after iteration 745.\n",
      "-Train.  Loss=0.0044099\n",
      "-Valid.  Loss=0.5033709\n",
      "'train_loss_11.csv' saved.\n",
      "'valid_loss_11.csv' saved.\n",
      "'model06_forward_11_last.pth' saved.\n",
      "'model06_forward_11_best.pth' saved.\n",
      "- train minibatches = 1\n",
      "- valid minibatches = 1\n",
      "- test minibatches = 1\n"
     ]
    },
    {
     "data": {
      "application/vnd.jupyter.widget-view+json": {
       "model_id": "1ef74ada24aa4ecca999c57b2b174f48",
       "version_major": 2,
       "version_minor": 0
      },
      "text/plain": [
       "HBox(children=(HTML(value='Epochs loop'), FloatProgress(value=0.0, max=30000.0), HTML(value='')))"
      ]
     },
     "metadata": {},
     "output_type": "display_data"
    },
    {
     "name": "stdout",
     "output_type": "stream",
     "text": [
      "\n",
      "Summary:\n",
      "-learning rate = 0.00527\n",
      "-Model saved after iteration 29992.\n",
      "-Train.  Loss=0.0033057\n",
      "-Valid.  Loss=0.4262860\n",
      "'train_loss_12.csv' saved.\n",
      "'valid_loss_12.csv' saved.\n",
      "'model06_forward_12_last.pth' saved.\n",
      "'model06_forward_12_best.pth' saved.\n",
      "- train minibatches = 1\n",
      "- valid minibatches = 1\n",
      "- test minibatches = 1\n"
     ]
    },
    {
     "data": {
      "application/vnd.jupyter.widget-view+json": {
       "model_id": "047d4cd2ba5545c7bfd6afeb1c3cc4d0",
       "version_major": 2,
       "version_minor": 0
      },
      "text/plain": [
       "HBox(children=(HTML(value='Epochs loop'), FloatProgress(value=0.0, max=30000.0), HTML(value='')))"
      ]
     },
     "metadata": {},
     "output_type": "display_data"
    },
    {
     "name": "stdout",
     "output_type": "stream",
     "text": [
      "\n",
      "Summary:\n",
      "-learning rate = 0.00527\n",
      "-path 1 has early stopped:\n",
      " 5000 iterations with no improvement in train loss.\n",
      "-Model saved after iteration 39.\n",
      "-Train.  Loss=0.4204213\n",
      "-Valid.  Loss=0.6680477\n",
      "'train_loss_13.csv' saved.\n",
      "'valid_loss_13.csv' saved.\n",
      "'model06_forward_13_last.pth' saved.\n",
      "'model06_forward_13_best.pth' saved.\n",
      "- train minibatches = 1\n",
      "- valid minibatches = 1\n",
      "- test minibatches = 1\n"
     ]
    },
    {
     "data": {
      "application/vnd.jupyter.widget-view+json": {
       "model_id": "d28a2f206dbe4e6e9ca4c434e500282c",
       "version_major": 2,
       "version_minor": 0
      },
      "text/plain": [
       "HBox(children=(HTML(value='Epochs loop'), FloatProgress(value=0.0, max=30000.0), HTML(value='')))"
      ]
     },
     "metadata": {},
     "output_type": "display_data"
    },
    {
     "name": "stdout",
     "output_type": "stream",
     "text": [
      "\n",
      "Summary:\n",
      "-learning rate = 0.00527\n",
      "-path 1 has early stopped:\n",
      " 5000 iterations with no improvement in train loss.\n",
      "-Model saved after iteration 9755.\n",
      "-Train.  Loss=0.0106924\n",
      "-Valid.  Loss=0.5083029\n",
      "'train_loss_14.csv' saved.\n",
      "'valid_loss_14.csv' saved.\n",
      "'model06_forward_14_last.pth' saved.\n",
      "'model06_forward_14_best.pth' saved.\n",
      "- train minibatches = 1\n",
      "- valid minibatches = 1\n",
      "- test minibatches = 1\n"
     ]
    },
    {
     "data": {
      "application/vnd.jupyter.widget-view+json": {
       "model_id": "811cd2d2466047c7b9582a16cc6caa63",
       "version_major": 2,
       "version_minor": 0
      },
      "text/plain": [
       "HBox(children=(HTML(value='Epochs loop'), FloatProgress(value=0.0, max=30000.0), HTML(value='')))"
      ]
     },
     "metadata": {},
     "output_type": "display_data"
    },
    {
     "name": "stdout",
     "output_type": "stream",
     "text": [
      "\n",
      "Summary:\n",
      "-learning rate = 0.00527\n",
      "-path 1 has early stopped:\n",
      " 5000 iterations with no improvement in train loss.\n",
      "-Model saved after iteration 291.\n",
      "-Train.  Loss=0.0998483\n",
      "-Valid.  Loss=0.5314911\n",
      "'train_loss_15.csv' saved.\n",
      "'valid_loss_15.csv' saved.\n",
      "'model06_forward_15_last.pth' saved.\n",
      "'model06_forward_15_best.pth' saved.\n",
      "- train minibatches = 1\n",
      "- valid minibatches = 1\n",
      "- test minibatches = 1\n"
     ]
    },
    {
     "data": {
      "application/vnd.jupyter.widget-view+json": {
       "model_id": "58c53ec4ef924935a6e4218d8be44eab",
       "version_major": 2,
       "version_minor": 0
      },
      "text/plain": [
       "HBox(children=(HTML(value='Epochs loop'), FloatProgress(value=0.0, max=30000.0), HTML(value='')))"
      ]
     },
     "metadata": {},
     "output_type": "display_data"
    },
    {
     "name": "stdout",
     "output_type": "stream",
     "text": [
      "\n",
      "Summary:\n",
      "-learning rate = 0.00527\n",
      "-path 1 has early stopped:\n",
      " 5000 iterations with no improvement in train loss.\n",
      "-Model saved after iteration 98.\n",
      "-Train.  Loss=0.1245480\n",
      "-Valid.  Loss=0.8897694\n",
      "'train_loss_16.csv' saved.\n",
      "'valid_loss_16.csv' saved.\n",
      "'model06_forward_16_last.pth' saved.\n",
      "'model06_forward_16_best.pth' saved.\n",
      "- train minibatches = 1\n",
      "- valid minibatches = 1\n",
      "- test minibatches = 1\n"
     ]
    },
    {
     "data": {
      "application/vnd.jupyter.widget-view+json": {
       "model_id": "1b1daa4b6f1d42cca15536187c8fb290",
       "version_major": 2,
       "version_minor": 0
      },
      "text/plain": [
       "HBox(children=(HTML(value='Epochs loop'), FloatProgress(value=0.0, max=30000.0), HTML(value='')))"
      ]
     },
     "metadata": {},
     "output_type": "display_data"
    },
    {
     "name": "stdout",
     "output_type": "stream",
     "text": [
      "\n",
      "Summary:\n",
      "-learning rate = 0.00527\n",
      "-path 1 has early stopped:\n",
      " 5000 iterations with no improvement in train loss.\n",
      "-Model saved after iteration 265.\n",
      "-Train.  Loss=0.0896542\n",
      "-Valid.  Loss=0.2975403\n",
      "'train_loss_17.csv' saved.\n",
      "'valid_loss_17.csv' saved.\n",
      "'model06_forward_17_last.pth' saved.\n",
      "'model06_forward_17_best.pth' saved.\n",
      "- train minibatches = 1\n",
      "- valid minibatches = 1\n",
      "- test minibatches = 1\n"
     ]
    },
    {
     "data": {
      "application/vnd.jupyter.widget-view+json": {
       "model_id": "1ed98484380843b3ba44dccbfe6d4eab",
       "version_major": 2,
       "version_minor": 0
      },
      "text/plain": [
       "HBox(children=(HTML(value='Epochs loop'), FloatProgress(value=0.0, max=30000.0), HTML(value='')))"
      ]
     },
     "metadata": {},
     "output_type": "display_data"
    },
    {
     "name": "stdout",
     "output_type": "stream",
     "text": [
      "\n",
      "Summary:\n",
      "-learning rate = 0.00527\n",
      "-path 1 has early stopped:\n",
      " 5000 iterations with no improvement in train loss.\n",
      "-Model saved after iteration 19.\n",
      "-Train.  Loss=0.3097942\n",
      "-Valid.  Loss=0.5572806\n",
      "'train_loss_18.csv' saved.\n",
      "'valid_loss_18.csv' saved.\n",
      "'model06_forward_18_last.pth' saved.\n",
      "'model06_forward_18_best.pth' saved.\n",
      "- train minibatches = 1\n",
      "- valid minibatches = 1\n",
      "- test minibatches = 1\n"
     ]
    },
    {
     "data": {
      "application/vnd.jupyter.widget-view+json": {
       "model_id": "4a811d17bdb84d3db82a43d07214b0fa",
       "version_major": 2,
       "version_minor": 0
      },
      "text/plain": [
       "HBox(children=(HTML(value='Epochs loop'), FloatProgress(value=0.0, max=30000.0), HTML(value='')))"
      ]
     },
     "metadata": {},
     "output_type": "display_data"
    },
    {
     "name": "stdout",
     "output_type": "stream",
     "text": [
      "\n",
      "Summary:\n",
      "-learning rate = 0.00527\n",
      "-path 1 has early stopped:\n",
      " 5000 iterations with no improvement in train loss.\n",
      "-Model saved after iteration 38.\n",
      "-Train.  Loss=0.3636673\n",
      "-Valid.  Loss=0.6799409\n",
      "'train_loss_19.csv' saved.\n",
      "'valid_loss_19.csv' saved.\n",
      "'model06_forward_19_last.pth' saved.\n",
      "'model06_forward_19_best.pth' saved.\n",
      "- train minibatches = 1\n",
      "- valid minibatches = 1\n",
      "- test minibatches = 1\n"
     ]
    },
    {
     "data": {
      "application/vnd.jupyter.widget-view+json": {
       "model_id": "ae29a0d78e484ecb951e79b3c59619d3",
       "version_major": 2,
       "version_minor": 0
      },
      "text/plain": [
       "HBox(children=(HTML(value='Epochs loop'), FloatProgress(value=0.0, max=30000.0), HTML(value='')))"
      ]
     },
     "metadata": {},
     "output_type": "display_data"
    },
    {
     "name": "stdout",
     "output_type": "stream",
     "text": [
      "\n",
      "Summary:\n",
      "-learning rate = 0.00527\n",
      "-path 1 has early stopped:\n",
      " 5000 iterations with no improvement in train loss.\n",
      "-Model saved after iteration 59.\n",
      "-Train.  Loss=0.3273279\n",
      "-Valid.  Loss=0.5055822\n",
      "'train_loss_20.csv' saved.\n",
      "'valid_loss_20.csv' saved.\n",
      "'model06_forward_20_last.pth' saved.\n",
      "'model06_forward_20_best.pth' saved.\n",
      "- train minibatches = 1\n",
      "- valid minibatches = 1\n",
      "- test minibatches = 1\n"
     ]
    },
    {
     "data": {
      "application/vnd.jupyter.widget-view+json": {
       "model_id": "3a06cc93f5884111a9425630292cbf2e",
       "version_major": 2,
       "version_minor": 0
      },
      "text/plain": [
       "HBox(children=(HTML(value='Epochs loop'), FloatProgress(value=0.0, max=30000.0), HTML(value='')))"
      ]
     },
     "metadata": {},
     "output_type": "display_data"
    },
    {
     "name": "stdout",
     "output_type": "stream",
     "text": [
      "\n",
      "Summary:\n",
      "-learning rate = 0.00527\n",
      "-path 1 has early stopped:\n",
      " 5000 iterations with no improvement in train loss.\n",
      "-Model saved after iteration 240.\n",
      "-Train.  Loss=0.0357557\n",
      "-Valid.  Loss=0.3889656\n",
      "'train_loss_21.csv' saved.\n",
      "'valid_loss_21.csv' saved.\n",
      "'model06_forward_21_last.pth' saved.\n",
      "'model06_forward_21_best.pth' saved.\n",
      "- train minibatches = 1\n",
      "- valid minibatches = 1\n",
      "- test minibatches = 1\n"
     ]
    },
    {
     "data": {
      "application/vnd.jupyter.widget-view+json": {
       "model_id": "3443623cf1204de9babab1caa694b2d7",
       "version_major": 2,
       "version_minor": 0
      },
      "text/plain": [
       "HBox(children=(HTML(value='Epochs loop'), FloatProgress(value=0.0, max=30000.0), HTML(value='')))"
      ]
     },
     "metadata": {},
     "output_type": "display_data"
    },
    {
     "name": "stdout",
     "output_type": "stream",
     "text": [
      "\n",
      "Summary:\n",
      "-learning rate = 0.00527\n",
      "-path 1 has early stopped:\n",
      " 5000 iterations with no improvement in train loss.\n",
      "-Model saved after iteration 894.\n",
      "-Train.  Loss=0.0952376\n",
      "-Valid.  Loss=0.2558783\n",
      "'train_loss_22.csv' saved.\n",
      "'valid_loss_22.csv' saved.\n",
      "'model06_forward_22_last.pth' saved.\n",
      "'model06_forward_22_best.pth' saved.\n",
      "- train minibatches = 1\n",
      "- valid minibatches = 1\n",
      "- test minibatches = 1\n"
     ]
    },
    {
     "data": {
      "application/vnd.jupyter.widget-view+json": {
       "model_id": "9979738545a44aa3ac1dd91eccf8d0f2",
       "version_major": 2,
       "version_minor": 0
      },
      "text/plain": [
       "HBox(children=(HTML(value='Epochs loop'), FloatProgress(value=0.0, max=30000.0), HTML(value='')))"
      ]
     },
     "metadata": {},
     "output_type": "display_data"
    },
    {
     "name": "stdout",
     "output_type": "stream",
     "text": [
      "\n",
      "Summary:\n",
      "-learning rate = 0.00527\n",
      "-path 1 has early stopped:\n",
      " 5000 iterations with no improvement in train loss.\n",
      "-Model saved after iteration 349.\n",
      "-Train.  Loss=0.1349376\n",
      "-Valid.  Loss=0.5421999\n",
      "'train_loss_23.csv' saved.\n",
      "'valid_loss_23.csv' saved.\n",
      "'model06_forward_23_last.pth' saved.\n",
      "'model06_forward_23_best.pth' saved.\n",
      "- train minibatches = 1\n",
      "- valid minibatches = 1\n",
      "- test minibatches = 1\n"
     ]
    },
    {
     "data": {
      "application/vnd.jupyter.widget-view+json": {
       "model_id": "0b86545959844ba7a0dedf4a8607b6de",
       "version_major": 2,
       "version_minor": 0
      },
      "text/plain": [
       "HBox(children=(HTML(value='Epochs loop'), FloatProgress(value=0.0, max=30000.0), HTML(value='')))"
      ]
     },
     "metadata": {},
     "output_type": "display_data"
    },
    {
     "name": "stdout",
     "output_type": "stream",
     "text": [
      "\n",
      "Summary:\n",
      "-learning rate = 0.00527\n",
      "-path 1 has early stopped:\n",
      " 5000 iterations with no improvement in train loss.\n",
      "-Model saved after iteration 119.\n",
      "-Train.  Loss=0.1982773\n",
      "-Valid.  Loss=0.5134617\n",
      "'train_loss_24.csv' saved.\n",
      "'valid_loss_24.csv' saved.\n",
      "'model06_forward_24_last.pth' saved.\n",
      "'model06_forward_24_best.pth' saved.\n",
      "- train minibatches = 1\n",
      "- valid minibatches = 1\n",
      "- test minibatches = 1\n"
     ]
    },
    {
     "data": {
      "application/vnd.jupyter.widget-view+json": {
       "model_id": "47d9ac3ac2874233815f868573d1604c",
       "version_major": 2,
       "version_minor": 0
      },
      "text/plain": [
       "HBox(children=(HTML(value='Epochs loop'), FloatProgress(value=0.0, max=30000.0), HTML(value='')))"
      ]
     },
     "metadata": {},
     "output_type": "display_data"
    },
    {
     "name": "stdout",
     "output_type": "stream",
     "text": [
      "\n",
      "Summary:\n",
      "-learning rate = 0.00527\n",
      "-path 1 has early stopped:\n",
      " 5000 iterations with no improvement in train loss.\n",
      "-Model saved after iteration 13.\n",
      "-Train.  Loss=0.4375220\n",
      "-Valid.  Loss=0.8373443\n",
      "'train_loss_25.csv' saved.\n",
      "'valid_loss_25.csv' saved.\n",
      "'model06_forward_25_last.pth' saved.\n",
      "'model06_forward_25_best.pth' saved.\n",
      "- train minibatches = 1\n",
      "- valid minibatches = 1\n",
      "- test minibatches = 1\n"
     ]
    },
    {
     "data": {
      "application/vnd.jupyter.widget-view+json": {
       "model_id": "273a5d039adf4515bb31ac019d5c1d0f",
       "version_major": 2,
       "version_minor": 0
      },
      "text/plain": [
       "HBox(children=(HTML(value='Epochs loop'), FloatProgress(value=0.0, max=30000.0), HTML(value='')))"
      ]
     },
     "metadata": {},
     "output_type": "display_data"
    },
    {
     "name": "stdout",
     "output_type": "stream",
     "text": [
      "\n",
      "Summary:\n",
      "-learning rate = 0.00527\n",
      "-path 1 has early stopped:\n",
      " 5000 iterations with no improvement in train loss.\n",
      "-Model saved after iteration 24.\n",
      "-Train.  Loss=0.2409013\n",
      "-Valid.  Loss=0.5434418\n",
      "'train_loss_26.csv' saved.\n",
      "'valid_loss_26.csv' saved.\n",
      "'model06_forward_26_last.pth' saved.\n",
      "'model06_forward_26_best.pth' saved.\n",
      "- train minibatches = 1\n",
      "- valid minibatches = 1\n",
      "- test minibatches = 1\n"
     ]
    },
    {
     "data": {
      "application/vnd.jupyter.widget-view+json": {
       "model_id": "d643ef31776949d18162ef367202a263",
       "version_major": 2,
       "version_minor": 0
      },
      "text/plain": [
       "HBox(children=(HTML(value='Epochs loop'), FloatProgress(value=0.0, max=30000.0), HTML(value='')))"
      ]
     },
     "metadata": {},
     "output_type": "display_data"
    },
    {
     "name": "stdout",
     "output_type": "stream",
     "text": [
      "\n",
      "Summary:\n",
      "-learning rate = 0.00527\n",
      "-path 1 has early stopped:\n",
      " 5000 iterations with no improvement in train loss.\n",
      "-Model saved after iteration 2113.\n",
      "-Train.  Loss=0.0017060\n",
      "-Valid.  Loss=0.3484323\n",
      "'train_loss_27.csv' saved.\n",
      "'valid_loss_27.csv' saved.\n",
      "'model06_forward_27_last.pth' saved.\n",
      "'model06_forward_27_best.pth' saved.\n",
      "- train minibatches = 1\n",
      "- valid minibatches = 1\n",
      "- test minibatches = 1\n"
     ]
    },
    {
     "data": {
      "application/vnd.jupyter.widget-view+json": {
       "model_id": "3b5135fa139a4f9c96190ccbd759837d",
       "version_major": 2,
       "version_minor": 0
      },
      "text/plain": [
       "HBox(children=(HTML(value='Epochs loop'), FloatProgress(value=0.0, max=30000.0), HTML(value='')))"
      ]
     },
     "metadata": {},
     "output_type": "display_data"
    },
    {
     "name": "stdout",
     "output_type": "stream",
     "text": [
      "\n",
      "Summary:\n",
      "-learning rate = 0.00527\n",
      "-path 1 has early stopped:\n",
      " 5000 iterations with no improvement in train loss.\n",
      "-Model saved after iteration 105.\n",
      "-Train.  Loss=0.0704524\n",
      "-Valid.  Loss=0.3865390\n",
      "'train_loss_28.csv' saved.\n",
      "'valid_loss_28.csv' saved.\n",
      "'model06_forward_28_last.pth' saved.\n",
      "'model06_forward_28_best.pth' saved.\n",
      "- train minibatches = 1\n",
      "- valid minibatches = 1\n",
      "- test minibatches = 1\n"
     ]
    },
    {
     "data": {
      "application/vnd.jupyter.widget-view+json": {
       "model_id": "b8bca09bea064863b2011ac242c751dd",
       "version_major": 2,
       "version_minor": 0
      },
      "text/plain": [
       "HBox(children=(HTML(value='Epochs loop'), FloatProgress(value=0.0, max=30000.0), HTML(value='')))"
      ]
     },
     "metadata": {},
     "output_type": "display_data"
    },
    {
     "name": "stdout",
     "output_type": "stream",
     "text": [
      "\n",
      "Summary:\n",
      "-learning rate = 0.00527\n",
      "-path 1 has early stopped:\n",
      " 5000 iterations with no improvement in train loss.\n",
      "-Model saved after iteration 163.\n",
      "-Train.  Loss=0.0527716\n",
      "-Valid.  Loss=0.4098667\n",
      "'train_loss_29.csv' saved.\n",
      "'valid_loss_29.csv' saved.\n",
      "'model06_forward_29_last.pth' saved.\n",
      "'model06_forward_29_best.pth' saved.\n",
      "- train minibatches = 1\n",
      "- valid minibatches = 1\n",
      "- test minibatches = 1\n"
     ]
    },
    {
     "data": {
      "application/vnd.jupyter.widget-view+json": {
       "model_id": "fb99ae4eba374ddea3c70d925bf67aa3",
       "version_major": 2,
       "version_minor": 0
      },
      "text/plain": [
       "HBox(children=(HTML(value='Epochs loop'), FloatProgress(value=0.0, max=30000.0), HTML(value='')))"
      ]
     },
     "metadata": {},
     "output_type": "display_data"
    },
    {
     "name": "stdout",
     "output_type": "stream",
     "text": [
      "\n",
      "Summary:\n",
      "-learning rate = 0.00527\n",
      "-path 1 has early stopped:\n",
      " 5000 iterations with no improvement in train loss.\n",
      "-Model saved after iteration 63.\n",
      "-Train.  Loss=0.1887016\n",
      "-Valid.  Loss=0.6651482\n",
      "'train_loss_30.csv' saved.\n",
      "'valid_loss_30.csv' saved.\n",
      "'model06_forward_30_last.pth' saved.\n",
      "'model06_forward_30_best.pth' saved.\n",
      "- train minibatches = 1\n",
      "- valid minibatches = 1\n",
      "- test minibatches = 1\n"
     ]
    },
    {
     "data": {
      "application/vnd.jupyter.widget-view+json": {
       "model_id": "3e93eb65392749e595e726c5cb3be177",
       "version_major": 2,
       "version_minor": 0
      },
      "text/plain": [
       "HBox(children=(HTML(value='Epochs loop'), FloatProgress(value=0.0, max=30000.0), HTML(value='')))"
      ]
     },
     "metadata": {},
     "output_type": "display_data"
    },
    {
     "name": "stdout",
     "output_type": "stream",
     "text": [
      "\n",
      "Summary:\n",
      "-learning rate = 0.00527\n",
      "-path 1 has early stopped:\n",
      " 5000 iterations with no improvement in train loss.\n",
      "-Model saved after iteration 1415.\n",
      "-Train.  Loss=0.0727989\n",
      "-Valid.  Loss=0.5814348\n",
      "'train_loss_31.csv' saved.\n",
      "'valid_loss_31.csv' saved.\n",
      "'model06_forward_31_last.pth' saved.\n",
      "'model06_forward_31_best.pth' saved.\n",
      "- train minibatches = 1\n",
      "- valid minibatches = 1\n",
      "- test minibatches = 1\n"
     ]
    },
    {
     "data": {
      "application/vnd.jupyter.widget-view+json": {
       "model_id": "bf30aeb84e5a4636bea832d8c90cccf7",
       "version_major": 2,
       "version_minor": 0
      },
      "text/plain": [
       "HBox(children=(HTML(value='Epochs loop'), FloatProgress(value=0.0, max=30000.0), HTML(value='')))"
      ]
     },
     "metadata": {},
     "output_type": "display_data"
    },
    {
     "name": "stdout",
     "output_type": "stream",
     "text": [
      "\n",
      "Summary:\n",
      "-learning rate = 0.00527\n",
      "-path 1 has early stopped:\n",
      " 5000 iterations with no improvement in train loss.\n",
      "-Model saved after iteration 24.\n",
      "-Train.  Loss=0.2512462\n",
      "-Valid.  Loss=0.5826439\n",
      "'train_loss_32.csv' saved.\n",
      "'valid_loss_32.csv' saved.\n",
      "'model06_forward_32_last.pth' saved.\n",
      "'model06_forward_32_best.pth' saved.\n",
      "- train minibatches = 1\n",
      "- valid minibatches = 1\n",
      "- test minibatches = 1\n"
     ]
    },
    {
     "data": {
      "application/vnd.jupyter.widget-view+json": {
       "model_id": "073e2894cf1f44dbb67a854b6c896b58",
       "version_major": 2,
       "version_minor": 0
      },
      "text/plain": [
       "HBox(children=(HTML(value='Epochs loop'), FloatProgress(value=0.0, max=30000.0), HTML(value='')))"
      ]
     },
     "metadata": {},
     "output_type": "display_data"
    },
    {
     "name": "stdout",
     "output_type": "stream",
     "text": [
      "\n",
      "Summary:\n",
      "-learning rate = 0.00527\n",
      "-Model saved after iteration 29996.\n",
      "-Train.  Loss=0.0000486\n",
      "-Valid.  Loss=0.1052368\n",
      "'train_loss_33.csv' saved.\n",
      "'valid_loss_33.csv' saved.\n",
      "'model06_forward_33_last.pth' saved.\n",
      "'model06_forward_33_best.pth' saved.\n",
      "- train minibatches = 1\n",
      "- valid minibatches = 1\n",
      "- test minibatches = 1\n"
     ]
    },
    {
     "data": {
      "application/vnd.jupyter.widget-view+json": {
       "model_id": "8d017d7b80b14ac1a3d18b99f1da47af",
       "version_major": 2,
       "version_minor": 0
      },
      "text/plain": [
       "HBox(children=(HTML(value='Epochs loop'), FloatProgress(value=0.0, max=30000.0), HTML(value='')))"
      ]
     },
     "metadata": {},
     "output_type": "display_data"
    },
    {
     "name": "stdout",
     "output_type": "stream",
     "text": [
      "\n",
      "Summary:\n",
      "-learning rate = 0.00527\n",
      "-path 1 has early stopped:\n",
      " 5000 iterations with no improvement in train loss.\n",
      "-Model saved after iteration 141.\n",
      "-Train.  Loss=0.0574333\n",
      "-Valid.  Loss=0.3266942\n",
      "'train_loss_34.csv' saved.\n",
      "'valid_loss_34.csv' saved.\n",
      "'model06_forward_34_last.pth' saved.\n",
      "'model06_forward_34_best.pth' saved.\n",
      "- train minibatches = 1\n",
      "- valid minibatches = 1\n",
      "- test minibatches = 1\n"
     ]
    },
    {
     "data": {
      "application/vnd.jupyter.widget-view+json": {
       "model_id": "802b7642bf6b4183b5eb2c4e392f3462",
       "version_major": 2,
       "version_minor": 0
      },
      "text/plain": [
       "HBox(children=(HTML(value='Epochs loop'), FloatProgress(value=0.0, max=30000.0), HTML(value='')))"
      ]
     },
     "metadata": {},
     "output_type": "display_data"
    },
    {
     "name": "stdout",
     "output_type": "stream",
     "text": [
      "\n",
      "Summary:\n",
      "-learning rate = 0.00527\n",
      "-path 1 has early stopped:\n",
      " 5000 iterations with no improvement in train loss.\n",
      "-Model saved after iteration 207.\n",
      "-Train.  Loss=0.0810056\n",
      "-Valid.  Loss=0.4888825\n",
      "'train_loss_35.csv' saved.\n",
      "'valid_loss_35.csv' saved.\n",
      "'model06_forward_35_last.pth' saved.\n",
      "'model06_forward_35_best.pth' saved.\n",
      "- train minibatches = 1\n",
      "- valid minibatches = 1\n",
      "- test minibatches = 1\n"
     ]
    },
    {
     "data": {
      "application/vnd.jupyter.widget-view+json": {
       "model_id": "083b7b50f1bb484da2dd0c84cec94089",
       "version_major": 2,
       "version_minor": 0
      },
      "text/plain": [
       "HBox(children=(HTML(value='Epochs loop'), FloatProgress(value=0.0, max=30000.0), HTML(value='')))"
      ]
     },
     "metadata": {},
     "output_type": "display_data"
    },
    {
     "name": "stdout",
     "output_type": "stream",
     "text": [
      "\n",
      "Summary:\n",
      "-learning rate = 0.00527\n",
      "-path 1 has early stopped:\n",
      " 5000 iterations with no improvement in train loss.\n",
      "-Model saved after iteration 81.\n",
      "-Train.  Loss=0.3134827\n",
      "-Valid.  Loss=0.6071268\n",
      "'train_loss_36.csv' saved.\n",
      "'valid_loss_36.csv' saved.\n",
      "'model06_forward_36_last.pth' saved.\n",
      "'model06_forward_36_best.pth' saved.\n",
      "- train minibatches = 1\n",
      "- valid minibatches = 1\n",
      "- test minibatches = 1\n"
     ]
    },
    {
     "data": {
      "application/vnd.jupyter.widget-view+json": {
       "model_id": "0e23d759df9a47869accdafb7dedd055",
       "version_major": 2,
       "version_minor": 0
      },
      "text/plain": [
       "HBox(children=(HTML(value='Epochs loop'), FloatProgress(value=0.0, max=30000.0), HTML(value='')))"
      ]
     },
     "metadata": {},
     "output_type": "display_data"
    },
    {
     "name": "stdout",
     "output_type": "stream",
     "text": [
      "\n",
      "Summary:\n",
      "-learning rate = 0.00527\n",
      "-path 1 has early stopped:\n",
      " 5000 iterations with no improvement in train loss.\n",
      "-Model saved after iteration 46.\n",
      "-Train.  Loss=0.2449753\n",
      "-Valid.  Loss=0.4784644\n",
      "'train_loss_37.csv' saved.\n",
      "'valid_loss_37.csv' saved.\n",
      "'model06_forward_37_last.pth' saved.\n",
      "'model06_forward_37_best.pth' saved.\n",
      "- train minibatches = 1\n",
      "- valid minibatches = 1\n",
      "- test minibatches = 1\n"
     ]
    },
    {
     "data": {
      "application/vnd.jupyter.widget-view+json": {
       "model_id": "1ade97e8deac464796669073af874ef4",
       "version_major": 2,
       "version_minor": 0
      },
      "text/plain": [
       "HBox(children=(HTML(value='Epochs loop'), FloatProgress(value=0.0, max=30000.0), HTML(value='')))"
      ]
     },
     "metadata": {},
     "output_type": "display_data"
    },
    {
     "name": "stdout",
     "output_type": "stream",
     "text": [
      "\n",
      "Summary:\n",
      "-learning rate = 0.00527\n",
      "-path 1 has early stopped:\n",
      " 5000 iterations with no improvement in train loss.\n",
      "-Model saved after iteration 73.\n",
      "-Train.  Loss=0.2889284\n",
      "-Valid.  Loss=0.6831935\n",
      "'train_loss_38.csv' saved.\n",
      "'valid_loss_38.csv' saved.\n",
      "'model06_forward_38_last.pth' saved.\n",
      "'model06_forward_38_best.pth' saved.\n",
      "- train minibatches = 1\n",
      "- valid minibatches = 1\n",
      "- test minibatches = 1\n"
     ]
    },
    {
     "data": {
      "application/vnd.jupyter.widget-view+json": {
       "model_id": "565e9c8a30ea427eaafbb255c7a0f380",
       "version_major": 2,
       "version_minor": 0
      },
      "text/plain": [
       "HBox(children=(HTML(value='Epochs loop'), FloatProgress(value=0.0, max=30000.0), HTML(value='')))"
      ]
     },
     "metadata": {},
     "output_type": "display_data"
    },
    {
     "name": "stdout",
     "output_type": "stream",
     "text": [
      "\n",
      "Summary:\n",
      "-learning rate = 0.00527\n",
      "-path 1 has early stopped:\n",
      " 5000 iterations with no improvement in train loss.\n",
      "-Model saved after iteration 474.\n",
      "-Train.  Loss=0.0453703\n",
      "-Valid.  Loss=0.4300963\n",
      "'train_loss_39.csv' saved.\n",
      "'valid_loss_39.csv' saved.\n",
      "'model06_forward_39_last.pth' saved.\n",
      "'model06_forward_39_best.pth' saved.\n",
      "- train minibatches = 1\n",
      "- valid minibatches = 1\n",
      "- test minibatches = 1\n"
     ]
    },
    {
     "data": {
      "application/vnd.jupyter.widget-view+json": {
       "model_id": "20776dc16a7a4147bd5480c94c913878",
       "version_major": 2,
       "version_minor": 0
      },
      "text/plain": [
       "HBox(children=(HTML(value='Epochs loop'), FloatProgress(value=0.0, max=30000.0), HTML(value='')))"
      ]
     },
     "metadata": {},
     "output_type": "display_data"
    },
    {
     "name": "stdout",
     "output_type": "stream",
     "text": [
      "\n",
      "Summary:\n",
      "-learning rate = 0.00527\n",
      "-path 1 has early stopped:\n",
      " 5000 iterations with no improvement in train loss.\n",
      "-Model saved after iteration 1143.\n",
      "-Train.  Loss=0.0025107\n",
      "-Valid.  Loss=0.4682215\n",
      "'train_loss_40.csv' saved.\n",
      "'valid_loss_40.csv' saved.\n",
      "'model06_forward_40_last.pth' saved.\n",
      "'model06_forward_40_best.pth' saved.\n",
      "- train minibatches = 1\n",
      "- valid minibatches = 1\n",
      "- test minibatches = 1\n"
     ]
    },
    {
     "data": {
      "application/vnd.jupyter.widget-view+json": {
       "model_id": "b69fe1ee7170466884e1f45e1f754556",
       "version_major": 2,
       "version_minor": 0
      },
      "text/plain": [
       "HBox(children=(HTML(value='Epochs loop'), FloatProgress(value=0.0, max=30000.0), HTML(value='')))"
      ]
     },
     "metadata": {},
     "output_type": "display_data"
    },
    {
     "name": "stdout",
     "output_type": "stream",
     "text": [
      "\n",
      "Summary:\n",
      "-learning rate = 0.00527\n",
      "-Model saved after iteration 29993.\n",
      "-Train.  Loss=0.0000461\n",
      "-Valid.  Loss=0.1708994\n",
      "'train_loss_41.csv' saved.\n",
      "'valid_loss_41.csv' saved.\n",
      "'model06_forward_41_last.pth' saved.\n",
      "'model06_forward_41_best.pth' saved.\n",
      "- train minibatches = 1\n",
      "- valid minibatches = 1\n",
      "- test minibatches = 1\n"
     ]
    },
    {
     "data": {
      "application/vnd.jupyter.widget-view+json": {
       "model_id": "be3280647ab34eb1870f57eb675ded8d",
       "version_major": 2,
       "version_minor": 0
      },
      "text/plain": [
       "HBox(children=(HTML(value='Epochs loop'), FloatProgress(value=0.0, max=30000.0), HTML(value='')))"
      ]
     },
     "metadata": {},
     "output_type": "display_data"
    },
    {
     "name": "stdout",
     "output_type": "stream",
     "text": [
      "\n",
      "Summary:\n",
      "-learning rate = 0.00527\n",
      "-path 1 has early stopped:\n",
      " 5000 iterations with no improvement in train loss.\n",
      "-Model saved after iteration 139.\n",
      "-Train.  Loss=0.0557695\n",
      "-Valid.  Loss=0.5324684\n",
      "'train_loss_42.csv' saved.\n",
      "'valid_loss_42.csv' saved.\n",
      "'model06_forward_42_last.pth' saved.\n",
      "'model06_forward_42_best.pth' saved.\n",
      "- train minibatches = 1\n",
      "- valid minibatches = 1\n",
      "- test minibatches = 1\n"
     ]
    },
    {
     "data": {
      "application/vnd.jupyter.widget-view+json": {
       "model_id": "57f74a3f3dac4e31b329e4ed161400d0",
       "version_major": 2,
       "version_minor": 0
      },
      "text/plain": [
       "HBox(children=(HTML(value='Epochs loop'), FloatProgress(value=0.0, max=30000.0), HTML(value='')))"
      ]
     },
     "metadata": {},
     "output_type": "display_data"
    },
    {
     "name": "stdout",
     "output_type": "stream",
     "text": [
      "\n",
      "Summary:\n",
      "-learning rate = 0.00527\n",
      "-path 1 has early stopped:\n",
      " 5000 iterations with no improvement in train loss.\n",
      "-Model saved after iteration 258.\n",
      "-Train.  Loss=0.0230885\n",
      "-Valid.  Loss=0.4018843\n",
      "'train_loss_43.csv' saved.\n",
      "'valid_loss_43.csv' saved.\n",
      "'model06_forward_43_last.pth' saved.\n",
      "'model06_forward_43_best.pth' saved.\n",
      "- train minibatches = 1\n",
      "- valid minibatches = 1\n",
      "- test minibatches = 1\n"
     ]
    },
    {
     "data": {
      "application/vnd.jupyter.widget-view+json": {
       "model_id": "4b67657d1f5b4e25adcdf1eceeec4283",
       "version_major": 2,
       "version_minor": 0
      },
      "text/plain": [
       "HBox(children=(HTML(value='Epochs loop'), FloatProgress(value=0.0, max=30000.0), HTML(value='')))"
      ]
     },
     "metadata": {},
     "output_type": "display_data"
    },
    {
     "name": "stdout",
     "output_type": "stream",
     "text": [
      "\n",
      "Summary:\n",
      "-learning rate = 0.00527\n",
      "-path 1 has early stopped:\n",
      " 5000 iterations with no improvement in train loss.\n",
      "-Model saved after iteration 36.\n",
      "-Train.  Loss=0.2512372\n",
      "-Valid.  Loss=0.6758945\n",
      "'train_loss_44.csv' saved.\n",
      "'valid_loss_44.csv' saved.\n",
      "'model06_forward_44_last.pth' saved.\n",
      "'model06_forward_44_best.pth' saved.\n",
      "- train minibatches = 1\n",
      "- valid minibatches = 1\n",
      "- test minibatches = 1\n"
     ]
    },
    {
     "data": {
      "application/vnd.jupyter.widget-view+json": {
       "model_id": "7218e8a9552841949a96e3eac059310f",
       "version_major": 2,
       "version_minor": 0
      },
      "text/plain": [
       "HBox(children=(HTML(value='Epochs loop'), FloatProgress(value=0.0, max=30000.0), HTML(value='')))"
      ]
     },
     "metadata": {},
     "output_type": "display_data"
    },
    {
     "name": "stdout",
     "output_type": "stream",
     "text": [
      "\n",
      "Summary:\n",
      "-learning rate = 0.00527\n",
      "-path 1 has early stopped:\n",
      " 5000 iterations with no improvement in train loss.\n",
      "-Model saved after iteration 112.\n",
      "-Train.  Loss=0.1685449\n",
      "-Valid.  Loss=0.5157471\n",
      "'train_loss_45.csv' saved.\n",
      "'valid_loss_45.csv' saved.\n",
      "'model06_forward_45_last.pth' saved.\n",
      "'model06_forward_45_best.pth' saved.\n",
      "- train minibatches = 1\n",
      "- valid minibatches = 1\n",
      "- test minibatches = 1\n"
     ]
    },
    {
     "data": {
      "application/vnd.jupyter.widget-view+json": {
       "model_id": "052cb96d0feb4ce2ab9f63d15d75a7c9",
       "version_major": 2,
       "version_minor": 0
      },
      "text/plain": [
       "HBox(children=(HTML(value='Epochs loop'), FloatProgress(value=0.0, max=30000.0), HTML(value='')))"
      ]
     },
     "metadata": {},
     "output_type": "display_data"
    },
    {
     "name": "stdout",
     "output_type": "stream",
     "text": [
      "\n",
      "Summary:\n",
      "-learning rate = 0.00527\n",
      "-path 1 has early stopped:\n",
      " 5000 iterations with no improvement in train loss.\n",
      "-Model saved after iteration 46.\n",
      "-Train.  Loss=0.3704875\n",
      "-Valid.  Loss=0.7055072\n",
      "'train_loss_46.csv' saved.\n",
      "'valid_loss_46.csv' saved.\n",
      "'model06_forward_46_last.pth' saved.\n",
      "'model06_forward_46_best.pth' saved.\n",
      "- train minibatches = 1\n",
      "- valid minibatches = 1\n",
      "- test minibatches = 1\n"
     ]
    },
    {
     "data": {
      "application/vnd.jupyter.widget-view+json": {
       "model_id": "6726038f6929489c9ab07793846ec458",
       "version_major": 2,
       "version_minor": 0
      },
      "text/plain": [
       "HBox(children=(HTML(value='Epochs loop'), FloatProgress(value=0.0, max=30000.0), HTML(value='')))"
      ]
     },
     "metadata": {},
     "output_type": "display_data"
    },
    {
     "name": "stdout",
     "output_type": "stream",
     "text": [
      "\n",
      "Summary:\n",
      "-learning rate = 0.00527\n",
      "-path 1 has early stopped:\n",
      " 5000 iterations with no improvement in train loss.\n",
      "-Model saved after iteration 267.\n",
      "-Train.  Loss=0.0167165\n",
      "-Valid.  Loss=0.3853948\n",
      "'train_loss_47.csv' saved.\n",
      "'valid_loss_47.csv' saved.\n",
      "'model06_forward_47_last.pth' saved.\n",
      "'model06_forward_47_best.pth' saved.\n",
      "- train minibatches = 1\n",
      "- valid minibatches = 1\n",
      "- test minibatches = 1\n"
     ]
    },
    {
     "data": {
      "application/vnd.jupyter.widget-view+json": {
       "model_id": "af6d3fec4fbe46eda77080109ec99ae3",
       "version_major": 2,
       "version_minor": 0
      },
      "text/plain": [
       "HBox(children=(HTML(value='Epochs loop'), FloatProgress(value=0.0, max=30000.0), HTML(value='')))"
      ]
     },
     "metadata": {},
     "output_type": "display_data"
    },
    {
     "name": "stdout",
     "output_type": "stream",
     "text": [
      "\n",
      "Summary:\n",
      "-learning rate = 0.00527\n",
      "-path 1 has early stopped:\n",
      " 5000 iterations with no improvement in train loss.\n",
      "-Model saved after iteration 15.\n",
      "-Train.  Loss=0.4198885\n",
      "-Valid.  Loss=0.6262707\n",
      "'train_loss_48.csv' saved.\n",
      "'valid_loss_48.csv' saved.\n",
      "'model06_forward_48_last.pth' saved.\n",
      "'model06_forward_48_best.pth' saved.\n",
      "- train minibatches = 1\n",
      "- valid minibatches = 1\n",
      "- test minibatches = 1\n"
     ]
    },
    {
     "data": {
      "application/vnd.jupyter.widget-view+json": {
       "model_id": "3516409234f649cca49e73273b578321",
       "version_major": 2,
       "version_minor": 0
      },
      "text/plain": [
       "HBox(children=(HTML(value='Epochs loop'), FloatProgress(value=0.0, max=30000.0), HTML(value='')))"
      ]
     },
     "metadata": {},
     "output_type": "display_data"
    },
    {
     "name": "stdout",
     "output_type": "stream",
     "text": [
      "\n",
      "Summary:\n",
      "-learning rate = 0.00527\n",
      "-path 1 has early stopped:\n",
      " 5000 iterations with no improvement in train loss.\n",
      "-Model saved after iteration 40.\n",
      "-Train.  Loss=0.4260111\n",
      "-Valid.  Loss=0.5285096\n",
      "'train_loss_49.csv' saved.\n",
      "'valid_loss_49.csv' saved.\n",
      "'model06_forward_49_last.pth' saved.\n",
      "'model06_forward_49_best.pth' saved.\n",
      "- train minibatches = 1\n",
      "- valid minibatches = 1\n",
      "- test minibatches = 1\n"
     ]
    },
    {
     "data": {
      "application/vnd.jupyter.widget-view+json": {
       "model_id": "7413739a5e454722aa6abee7b8d72a5e",
       "version_major": 2,
       "version_minor": 0
      },
      "text/plain": [
       "HBox(children=(HTML(value='Epochs loop'), FloatProgress(value=0.0, max=30000.0), HTML(value='')))"
      ]
     },
     "metadata": {},
     "output_type": "display_data"
    },
    {
     "name": "stdout",
     "output_type": "stream",
     "text": [
      "\n",
      "Summary:\n",
      "-learning rate = 0.00527\n",
      "-path 1 has early stopped:\n",
      " 5000 iterations with no improvement in train loss.\n",
      "-Model saved after iteration 873.\n",
      "-Train.  Loss=0.1383712\n",
      "-Valid.  Loss=0.7013320\n",
      "'train_loss_50.csv' saved.\n",
      "'valid_loss_50.csv' saved.\n",
      "'model06_forward_50_last.pth' saved.\n",
      "'model06_forward_50_best.pth' saved.\n",
      "- train minibatches = 1\n",
      "- valid minibatches = 1\n",
      "- test minibatches = 1\n"
     ]
    },
    {
     "data": {
      "application/vnd.jupyter.widget-view+json": {
       "model_id": "9b87e9419bb6402faa4d3100189ab526",
       "version_major": 2,
       "version_minor": 0
      },
      "text/plain": [
       "HBox(children=(HTML(value='Epochs loop'), FloatProgress(value=0.0, max=30000.0), HTML(value='')))"
      ]
     },
     "metadata": {},
     "output_type": "display_data"
    },
    {
     "name": "stdout",
     "output_type": "stream",
     "text": [
      "\n",
      "Summary:\n",
      "-learning rate = 0.00527\n",
      "-path 1 has early stopped:\n",
      " 5000 iterations with no improvement in train loss.\n",
      "-Model saved after iteration 4.\n",
      "-Train.  Loss=0.5737576\n",
      "-Valid.  Loss=0.6795493\n",
      "'train_loss_51.csv' saved.\n",
      "'valid_loss_51.csv' saved.\n",
      "'model06_forward_51_last.pth' saved.\n",
      "'model06_forward_51_best.pth' saved.\n",
      "- train minibatches = 1\n",
      "- valid minibatches = 1\n",
      "- test minibatches = 1\n"
     ]
    },
    {
     "data": {
      "application/vnd.jupyter.widget-view+json": {
       "model_id": "012666aa9c8640be893b7c4a7207acb2",
       "version_major": 2,
       "version_minor": 0
      },
      "text/plain": [
       "HBox(children=(HTML(value='Epochs loop'), FloatProgress(value=0.0, max=30000.0), HTML(value='')))"
      ]
     },
     "metadata": {},
     "output_type": "display_data"
    },
    {
     "name": "stdout",
     "output_type": "stream",
     "text": [
      "\n",
      "Summary:\n",
      "-learning rate = 0.00527\n",
      "-path 1 has early stopped:\n",
      " 5000 iterations with no improvement in train loss.\n",
      "-Model saved after iteration 77.\n",
      "-Train.  Loss=0.1572305\n",
      "-Valid.  Loss=0.4787375\n",
      "'train_loss_52.csv' saved.\n",
      "'valid_loss_52.csv' saved.\n",
      "'model06_forward_52_last.pth' saved.\n",
      "'model06_forward_52_best.pth' saved.\n",
      "- train minibatches = 1\n",
      "- valid minibatches = 1\n",
      "- test minibatches = 1\n"
     ]
    },
    {
     "data": {
      "application/vnd.jupyter.widget-view+json": {
       "model_id": "c35546c37383487d9fde32e537cd914e",
       "version_major": 2,
       "version_minor": 0
      },
      "text/plain": [
       "HBox(children=(HTML(value='Epochs loop'), FloatProgress(value=0.0, max=30000.0), HTML(value='')))"
      ]
     },
     "metadata": {},
     "output_type": "display_data"
    },
    {
     "name": "stdout",
     "output_type": "stream",
     "text": [
      "\n",
      "Summary:\n",
      "-learning rate = 0.00527\n",
      "-path 1 has early stopped:\n",
      " 5000 iterations with no improvement in train loss.\n",
      "-Model saved after iteration 97.\n",
      "-Train.  Loss=0.1431617\n",
      "-Valid.  Loss=0.4921606\n",
      "'train_loss_53.csv' saved.\n",
      "'valid_loss_53.csv' saved.\n",
      "'model06_forward_53_last.pth' saved.\n",
      "'model06_forward_53_best.pth' saved.\n",
      "- train minibatches = 1\n",
      "- valid minibatches = 1\n",
      "- test minibatches = 1\n"
     ]
    },
    {
     "data": {
      "application/vnd.jupyter.widget-view+json": {
       "model_id": "efdd6fdd302e4dc68027f8535390591e",
       "version_major": 2,
       "version_minor": 0
      },
      "text/plain": [
       "HBox(children=(HTML(value='Epochs loop'), FloatProgress(value=0.0, max=30000.0), HTML(value='')))"
      ]
     },
     "metadata": {},
     "output_type": "display_data"
    },
    {
     "name": "stdout",
     "output_type": "stream",
     "text": [
      "\n",
      "Summary:\n",
      "-learning rate = 0.00527\n",
      "-path 1 has early stopped:\n",
      " 5000 iterations with no improvement in train loss.\n",
      "-Model saved after iteration 39.\n",
      "-Train.  Loss=0.2630530\n",
      "-Valid.  Loss=0.5047483\n",
      "'train_loss_54.csv' saved.\n",
      "'valid_loss_54.csv' saved.\n",
      "'model06_forward_54_last.pth' saved.\n",
      "'model06_forward_54_best.pth' saved.\n",
      "- train minibatches = 1\n",
      "- valid minibatches = 1\n",
      "- test minibatches = 1\n"
     ]
    },
    {
     "data": {
      "application/vnd.jupyter.widget-view+json": {
       "model_id": "89f20ba15d0947aead7bd3ec04c06332",
       "version_major": 2,
       "version_minor": 0
      },
      "text/plain": [
       "HBox(children=(HTML(value='Epochs loop'), FloatProgress(value=0.0, max=30000.0), HTML(value='')))"
      ]
     },
     "metadata": {},
     "output_type": "display_data"
    },
    {
     "name": "stdout",
     "output_type": "stream",
     "text": [
      "\n",
      "Summary:\n",
      "-learning rate = 0.00527\n",
      "-path 1 has early stopped:\n",
      " 5000 iterations with no improvement in train loss.\n",
      "-Model saved after iteration 320.\n",
      "-Train.  Loss=0.0230829\n",
      "-Valid.  Loss=0.6541907\n",
      "'train_loss_55.csv' saved.\n",
      "'valid_loss_55.csv' saved.\n",
      "'model06_forward_55_last.pth' saved.\n",
      "'model06_forward_55_best.pth' saved.\n",
      "- train minibatches = 1\n",
      "- valid minibatches = 1\n",
      "- test minibatches = 1\n"
     ]
    },
    {
     "data": {
      "application/vnd.jupyter.widget-view+json": {
       "model_id": "5f84859b4e6f47118df219fd74042ee0",
       "version_major": 2,
       "version_minor": 0
      },
      "text/plain": [
       "HBox(children=(HTML(value='Epochs loop'), FloatProgress(value=0.0, max=30000.0), HTML(value='')))"
      ]
     },
     "metadata": {},
     "output_type": "display_data"
    },
    {
     "name": "stdout",
     "output_type": "stream",
     "text": [
      "\n",
      "Summary:\n",
      "-learning rate = 0.00527\n",
      "-path 1 has early stopped:\n",
      " 5000 iterations with no improvement in train loss.\n",
      "-Model saved after iteration 140.\n",
      "-Train.  Loss=0.1219015\n",
      "-Valid.  Loss=0.4784652\n",
      "'train_loss_56.csv' saved.\n",
      "'valid_loss_56.csv' saved.\n",
      "'model06_forward_56_last.pth' saved.\n",
      "'model06_forward_56_best.pth' saved.\n",
      "- train minibatches = 1\n",
      "- valid minibatches = 1\n",
      "- test minibatches = 1\n"
     ]
    },
    {
     "data": {
      "application/vnd.jupyter.widget-view+json": {
       "model_id": "fc4f4f372e214c66b425180d864bde99",
       "version_major": 2,
       "version_minor": 0
      },
      "text/plain": [
       "HBox(children=(HTML(value='Epochs loop'), FloatProgress(value=0.0, max=30000.0), HTML(value='')))"
      ]
     },
     "metadata": {},
     "output_type": "display_data"
    },
    {
     "name": "stdout",
     "output_type": "stream",
     "text": [
      "\n",
      "Summary:\n",
      "-learning rate = 0.00527\n",
      "-path 1 has early stopped:\n",
      " 5000 iterations with no improvement in train loss.\n",
      "-Model saved after iteration 22.\n",
      "-Train.  Loss=0.3371089\n",
      "-Valid.  Loss=0.6505741\n",
      "'train_loss_57.csv' saved.\n",
      "'valid_loss_57.csv' saved.\n",
      "'model06_forward_57_last.pth' saved.\n",
      "'model06_forward_57_best.pth' saved.\n",
      "- train minibatches = 1\n",
      "- valid minibatches = 1\n",
      "- test minibatches = 1\n"
     ]
    },
    {
     "data": {
      "application/vnd.jupyter.widget-view+json": {
       "model_id": "d09f7ccffeb448cf948720c08c6b00f5",
       "version_major": 2,
       "version_minor": 0
      },
      "text/plain": [
       "HBox(children=(HTML(value='Epochs loop'), FloatProgress(value=0.0, max=30000.0), HTML(value='')))"
      ]
     },
     "metadata": {},
     "output_type": "display_data"
    },
    {
     "name": "stdout",
     "output_type": "stream",
     "text": [
      "\n",
      "Summary:\n",
      "-learning rate = 0.00527\n",
      "-path 1 has early stopped:\n",
      " 5000 iterations with no improvement in train loss.\n",
      "-Model saved after iteration 162.\n",
      "-Train.  Loss=0.0249660\n",
      "-Valid.  Loss=0.4563168\n",
      "'train_loss_58.csv' saved.\n",
      "'valid_loss_58.csv' saved.\n",
      "'model06_forward_58_last.pth' saved.\n",
      "'model06_forward_58_best.pth' saved.\n",
      "- train minibatches = 1\n",
      "- valid minibatches = 1\n",
      "- test minibatches = 1\n"
     ]
    },
    {
     "data": {
      "application/vnd.jupyter.widget-view+json": {
       "model_id": "f74a8dd790a34f66a3cca7e6143d7fb3",
       "version_major": 2,
       "version_minor": 0
      },
      "text/plain": [
       "HBox(children=(HTML(value='Epochs loop'), FloatProgress(value=0.0, max=30000.0), HTML(value='')))"
      ]
     },
     "metadata": {},
     "output_type": "display_data"
    },
    {
     "name": "stdout",
     "output_type": "stream",
     "text": [
      "\n",
      "Summary:\n",
      "-learning rate = 0.00527\n",
      "-path 1 has early stopped:\n",
      " 5000 iterations with no improvement in train loss.\n",
      "-Model saved after iteration 89.\n",
      "-Train.  Loss=0.1356013\n",
      "-Valid.  Loss=0.4605732\n",
      "'train_loss_59.csv' saved.\n",
      "'valid_loss_59.csv' saved.\n",
      "'model06_forward_59_last.pth' saved.\n",
      "'model06_forward_59_best.pth' saved.\n",
      "- train minibatches = 1\n",
      "- valid minibatches = 1\n",
      "- test minibatches = 1\n"
     ]
    },
    {
     "data": {
      "application/vnd.jupyter.widget-view+json": {
       "model_id": "f1bc8325acaf435299f7956ca0a5800e",
       "version_major": 2,
       "version_minor": 0
      },
      "text/plain": [
       "HBox(children=(HTML(value='Epochs loop'), FloatProgress(value=0.0, max=30000.0), HTML(value='')))"
      ]
     },
     "metadata": {},
     "output_type": "display_data"
    },
    {
     "name": "stdout",
     "output_type": "stream",
     "text": [
      "\n",
      "Summary:\n",
      "-learning rate = 0.00527\n",
      "-path 1 has early stopped:\n",
      " 5000 iterations with no improvement in train loss.\n",
      "-Model saved after iteration 190.\n",
      "-Train.  Loss=0.0680430\n",
      "-Valid.  Loss=0.5394089\n",
      "'train_loss_60.csv' saved.\n",
      "'valid_loss_60.csv' saved.\n",
      "'model06_forward_60_last.pth' saved.\n",
      "'model06_forward_60_best.pth' saved.\n",
      "- train minibatches = 1\n",
      "- valid minibatches = 1\n",
      "- test minibatches = 1\n"
     ]
    },
    {
     "data": {
      "application/vnd.jupyter.widget-view+json": {
       "model_id": "ff933782a8004cd5a56b17856e9ce90c",
       "version_major": 2,
       "version_minor": 0
      },
      "text/plain": [
       "HBox(children=(HTML(value='Epochs loop'), FloatProgress(value=0.0, max=30000.0), HTML(value='')))"
      ]
     },
     "metadata": {},
     "output_type": "display_data"
    },
    {
     "name": "stdout",
     "output_type": "stream",
     "text": [
      "\n",
      "Summary:\n",
      "-learning rate = 0.00527\n",
      "-path 1 has early stopped:\n",
      " 5000 iterations with no improvement in train loss.\n",
      "-Model saved after iteration 123.\n",
      "-Train.  Loss=0.1484570\n",
      "-Valid.  Loss=0.5028763\n",
      "'train_loss_61.csv' saved.\n",
      "'valid_loss_61.csv' saved.\n",
      "'model06_forward_61_last.pth' saved.\n",
      "'model06_forward_61_best.pth' saved.\n",
      "- train minibatches = 1\n",
      "- valid minibatches = 1\n",
      "- test minibatches = 1\n"
     ]
    },
    {
     "data": {
      "application/vnd.jupyter.widget-view+json": {
       "model_id": "1e144b6759c440139445e84ca463b2ad",
       "version_major": 2,
       "version_minor": 0
      },
      "text/plain": [
       "HBox(children=(HTML(value='Epochs loop'), FloatProgress(value=0.0, max=30000.0), HTML(value='')))"
      ]
     },
     "metadata": {},
     "output_type": "display_data"
    },
    {
     "name": "stdout",
     "output_type": "stream",
     "text": [
      "\n",
      "Summary:\n",
      "-learning rate = 0.00527\n",
      "-path 1 has early stopped:\n",
      " 5000 iterations with no improvement in train loss.\n",
      "-Model saved after iteration 48.\n",
      "-Train.  Loss=0.4096724\n",
      "-Valid.  Loss=0.5238703\n",
      "'train_loss_62.csv' saved.\n",
      "'valid_loss_62.csv' saved.\n",
      "'model06_forward_62_last.pth' saved.\n",
      "'model06_forward_62_best.pth' saved.\n",
      "- train minibatches = 1\n",
      "- valid minibatches = 1\n",
      "- test minibatches = 1\n"
     ]
    },
    {
     "data": {
      "application/vnd.jupyter.widget-view+json": {
       "model_id": "14c9bb80865a4d2592522a15543cf345",
       "version_major": 2,
       "version_minor": 0
      },
      "text/plain": [
       "HBox(children=(HTML(value='Epochs loop'), FloatProgress(value=0.0, max=30000.0), HTML(value='')))"
      ]
     },
     "metadata": {},
     "output_type": "display_data"
    },
    {
     "name": "stdout",
     "output_type": "stream",
     "text": [
      "\n",
      "Summary:\n",
      "-learning rate = 0.00527\n",
      "-path 1 has early stopped:\n",
      " 5000 iterations with no improvement in train loss.\n",
      "-Model saved after iteration 3021.\n",
      "-Train.  Loss=0.0371650\n",
      "-Valid.  Loss=0.4279439\n",
      "'train_loss_63.csv' saved.\n",
      "'valid_loss_63.csv' saved.\n",
      "'model06_forward_63_last.pth' saved.\n",
      "'model06_forward_63_best.pth' saved.\n",
      "- train minibatches = 1\n",
      "- valid minibatches = 1\n",
      "- test minibatches = 1\n"
     ]
    },
    {
     "data": {
      "application/vnd.jupyter.widget-view+json": {
       "model_id": "139af45578e64679a3c2d395c4c331dc",
       "version_major": 2,
       "version_minor": 0
      },
      "text/plain": [
       "HBox(children=(HTML(value='Epochs loop'), FloatProgress(value=0.0, max=30000.0), HTML(value='')))"
      ]
     },
     "metadata": {},
     "output_type": "display_data"
    },
    {
     "name": "stdout",
     "output_type": "stream",
     "text": [
      "\n",
      "Summary:\n",
      "-learning rate = 0.00527\n",
      "-path 1 has early stopped:\n",
      " 5000 iterations with no improvement in train loss.\n",
      "-Model saved after iteration 53.\n",
      "-Train.  Loss=0.1593549\n",
      "-Valid.  Loss=0.5746854\n",
      "'train_loss_64.csv' saved.\n",
      "'valid_loss_64.csv' saved.\n",
      "'model06_forward_64_last.pth' saved.\n",
      "'model06_forward_64_best.pth' saved.\n",
      "- train minibatches = 1\n",
      "- valid minibatches = 1\n",
      "- test minibatches = 1\n"
     ]
    },
    {
     "data": {
      "application/vnd.jupyter.widget-view+json": {
       "model_id": "f0be515d2872421dafd13588bcf76f58",
       "version_major": 2,
       "version_minor": 0
      },
      "text/plain": [
       "HBox(children=(HTML(value='Epochs loop'), FloatProgress(value=0.0, max=30000.0), HTML(value='')))"
      ]
     },
     "metadata": {},
     "output_type": "display_data"
    },
    {
     "name": "stdout",
     "output_type": "stream",
     "text": [
      "\n",
      "Summary:\n",
      "-learning rate = 0.00527\n",
      "-path 1 has early stopped:\n",
      " 5000 iterations with no improvement in train loss.\n",
      "-Model saved after iteration 316.\n",
      "-Train.  Loss=0.0158744\n",
      "-Valid.  Loss=0.3882264\n",
      "'train_loss_65.csv' saved.\n",
      "'valid_loss_65.csv' saved.\n",
      "'model06_forward_65_last.pth' saved.\n",
      "'model06_forward_65_best.pth' saved.\n",
      "- train minibatches = 1\n",
      "- valid minibatches = 1\n",
      "- test minibatches = 1\n"
     ]
    },
    {
     "data": {
      "application/vnd.jupyter.widget-view+json": {
       "model_id": "08f90757185f4f78ae68a42b9f61d9d4",
       "version_major": 2,
       "version_minor": 0
      },
      "text/plain": [
       "HBox(children=(HTML(value='Epochs loop'), FloatProgress(value=0.0, max=30000.0), HTML(value='')))"
      ]
     },
     "metadata": {},
     "output_type": "display_data"
    },
    {
     "name": "stdout",
     "output_type": "stream",
     "text": [
      "\n",
      "Summary:\n",
      "-learning rate = 0.00527\n",
      "-path 1 has early stopped:\n",
      " 5000 iterations with no improvement in train loss.\n",
      "-Model saved after iteration 271.\n",
      "-Train.  Loss=0.1489386\n",
      "-Valid.  Loss=0.2944798\n",
      "'train_loss_66.csv' saved.\n",
      "'valid_loss_66.csv' saved.\n",
      "'model06_forward_66_last.pth' saved.\n",
      "'model06_forward_66_best.pth' saved.\n",
      "- train minibatches = 1\n",
      "- valid minibatches = 1\n",
      "- test minibatches = 1\n"
     ]
    },
    {
     "data": {
      "application/vnd.jupyter.widget-view+json": {
       "model_id": "bfbacbc22d614c239e7cd05ca030a87d",
       "version_major": 2,
       "version_minor": 0
      },
      "text/plain": [
       "HBox(children=(HTML(value='Epochs loop'), FloatProgress(value=0.0, max=30000.0), HTML(value='')))"
      ]
     },
     "metadata": {},
     "output_type": "display_data"
    },
    {
     "name": "stdout",
     "output_type": "stream",
     "text": [
      "\n",
      "Summary:\n",
      "-learning rate = 0.00527\n",
      "-path 1 has early stopped:\n",
      " 5000 iterations with no improvement in train loss.\n",
      "-Model saved after iteration 1529.\n",
      "-Train.  Loss=0.0017019\n",
      "-Valid.  Loss=0.2714971\n",
      "'train_loss_67.csv' saved.\n",
      "'valid_loss_67.csv' saved.\n",
      "'model06_forward_67_last.pth' saved.\n",
      "'model06_forward_67_best.pth' saved.\n",
      "- train minibatches = 1\n",
      "- valid minibatches = 1\n",
      "- test minibatches = 1\n"
     ]
    },
    {
     "data": {
      "application/vnd.jupyter.widget-view+json": {
       "model_id": "738a9f159f9b411a9b5ea3f2fb8600b1",
       "version_major": 2,
       "version_minor": 0
      },
      "text/plain": [
       "HBox(children=(HTML(value='Epochs loop'), FloatProgress(value=0.0, max=30000.0), HTML(value='')))"
      ]
     },
     "metadata": {},
     "output_type": "display_data"
    },
    {
     "name": "stdout",
     "output_type": "stream",
     "text": [
      "\n",
      "Summary:\n",
      "-learning rate = 0.00527\n",
      "-path 1 has early stopped:\n",
      " 5000 iterations with no improvement in train loss.\n",
      "-Model saved after iteration 289.\n",
      "-Train.  Loss=0.0308075\n",
      "-Valid.  Loss=0.4940199\n",
      "'train_loss_68.csv' saved.\n",
      "'valid_loss_68.csv' saved.\n",
      "'model06_forward_68_last.pth' saved.\n",
      "'model06_forward_68_best.pth' saved.\n",
      "- train minibatches = 1\n",
      "- valid minibatches = 1\n",
      "- test minibatches = 1\n"
     ]
    },
    {
     "data": {
      "application/vnd.jupyter.widget-view+json": {
       "model_id": "669c4763fa6c4a8eb6b0afa7b34a2e0a",
       "version_major": 2,
       "version_minor": 0
      },
      "text/plain": [
       "HBox(children=(HTML(value='Epochs loop'), FloatProgress(value=0.0, max=30000.0), HTML(value='')))"
      ]
     },
     "metadata": {},
     "output_type": "display_data"
    },
    {
     "name": "stdout",
     "output_type": "stream",
     "text": [
      "\n",
      "Summary:\n",
      "-learning rate = 0.00527\n",
      "-Model saved after iteration 29213.\n",
      "-Train.  Loss=0.0035353\n",
      "-Valid.  Loss=0.2794177\n",
      "'train_loss_69.csv' saved.\n",
      "'valid_loss_69.csv' saved.\n",
      "'model06_forward_69_last.pth' saved.\n",
      "'model06_forward_69_best.pth' saved.\n",
      "- train minibatches = 1\n",
      "- valid minibatches = 1\n",
      "- test minibatches = 1\n"
     ]
    },
    {
     "data": {
      "application/vnd.jupyter.widget-view+json": {
       "model_id": "6ed5ddbb901a448d97b3e40811e826a4",
       "version_major": 2,
       "version_minor": 0
      },
      "text/plain": [
       "HBox(children=(HTML(value='Epochs loop'), FloatProgress(value=0.0, max=30000.0), HTML(value='')))"
      ]
     },
     "metadata": {},
     "output_type": "display_data"
    },
    {
     "name": "stdout",
     "output_type": "stream",
     "text": [
      "\n",
      "Summary:\n",
      "-learning rate = 0.00527\n",
      "-path 1 has early stopped:\n",
      " 5000 iterations with no improvement in train loss.\n",
      "-Model saved after iteration 46.\n",
      "-Train.  Loss=0.3284091\n",
      "-Valid.  Loss=0.5813042\n",
      "'train_loss_70.csv' saved.\n",
      "'valid_loss_70.csv' saved.\n",
      "'model06_forward_70_last.pth' saved.\n",
      "'model06_forward_70_best.pth' saved.\n",
      "- train minibatches = 1\n",
      "- valid minibatches = 1\n",
      "- test minibatches = 1\n"
     ]
    },
    {
     "data": {
      "application/vnd.jupyter.widget-view+json": {
       "model_id": "90a511f13d9c43d7b2a64349608ece2f",
       "version_major": 2,
       "version_minor": 0
      },
      "text/plain": [
       "HBox(children=(HTML(value='Epochs loop'), FloatProgress(value=0.0, max=30000.0), HTML(value='')))"
      ]
     },
     "metadata": {},
     "output_type": "display_data"
    },
    {
     "name": "stdout",
     "output_type": "stream",
     "text": [
      "\n",
      "Summary:\n",
      "-learning rate = 0.00527\n",
      "-path 1 has early stopped:\n",
      " 5000 iterations with no improvement in train loss.\n",
      "-Model saved after iteration 273.\n",
      "-Train.  Loss=0.0364551\n",
      "-Valid.  Loss=0.4809595\n",
      "'train_loss_71.csv' saved.\n",
      "'valid_loss_71.csv' saved.\n",
      "'model06_forward_71_last.pth' saved.\n",
      "'model06_forward_71_best.pth' saved.\n",
      "- train minibatches = 1\n",
      "- valid minibatches = 1\n",
      "- test minibatches = 1\n"
     ]
    },
    {
     "data": {
      "application/vnd.jupyter.widget-view+json": {
       "model_id": "13cd0a869692486c91054c8282469240",
       "version_major": 2,
       "version_minor": 0
      },
      "text/plain": [
       "HBox(children=(HTML(value='Epochs loop'), FloatProgress(value=0.0, max=30000.0), HTML(value='')))"
      ]
     },
     "metadata": {},
     "output_type": "display_data"
    },
    {
     "name": "stdout",
     "output_type": "stream",
     "text": [
      "\n",
      "Summary:\n",
      "-learning rate = 0.00527\n",
      "-path 1 has early stopped:\n",
      " 5000 iterations with no improvement in train loss.\n",
      "-Model saved after iteration 46.\n",
      "-Train.  Loss=0.2201889\n",
      "-Valid.  Loss=0.6046424\n",
      "'train_loss_72.csv' saved.\n",
      "'valid_loss_72.csv' saved.\n",
      "'model06_forward_72_last.pth' saved.\n",
      "'model06_forward_72_best.pth' saved.\n",
      "- train minibatches = 1\n",
      "- valid minibatches = 1\n",
      "- test minibatches = 1\n"
     ]
    },
    {
     "data": {
      "application/vnd.jupyter.widget-view+json": {
       "model_id": "5f3948a08c224310907b0ddc0311cdee",
       "version_major": 2,
       "version_minor": 0
      },
      "text/plain": [
       "HBox(children=(HTML(value='Epochs loop'), FloatProgress(value=0.0, max=30000.0), HTML(value='')))"
      ]
     },
     "metadata": {},
     "output_type": "display_data"
    },
    {
     "name": "stdout",
     "output_type": "stream",
     "text": [
      "\n",
      "Summary:\n",
      "-learning rate = 0.00527\n",
      "-path 1 has early stopped:\n",
      " 5000 iterations with no improvement in train loss.\n",
      "-Model saved after iteration 213.\n",
      "-Train.  Loss=0.0362860\n",
      "-Valid.  Loss=0.5965335\n",
      "'train_loss_73.csv' saved.\n",
      "'valid_loss_73.csv' saved.\n",
      "'model06_forward_73_last.pth' saved.\n",
      "'model06_forward_73_best.pth' saved.\n",
      "- train minibatches = 1\n",
      "- valid minibatches = 1\n",
      "- test minibatches = 1\n"
     ]
    },
    {
     "data": {
      "application/vnd.jupyter.widget-view+json": {
       "model_id": "e950f3ecc73b4f7780b19e3f8a4446a7",
       "version_major": 2,
       "version_minor": 0
      },
      "text/plain": [
       "HBox(children=(HTML(value='Epochs loop'), FloatProgress(value=0.0, max=30000.0), HTML(value='')))"
      ]
     },
     "metadata": {},
     "output_type": "display_data"
    },
    {
     "name": "stdout",
     "output_type": "stream",
     "text": [
      "\n",
      "Summary:\n",
      "-learning rate = 0.00527\n",
      "-path 1 has early stopped:\n",
      " 5000 iterations with no improvement in train loss.\n",
      "-Model saved after iteration 121.\n",
      "-Train.  Loss=0.2121152\n",
      "-Valid.  Loss=0.5074939\n",
      "'train_loss_74.csv' saved.\n",
      "'valid_loss_74.csv' saved.\n",
      "'model06_forward_74_last.pth' saved.\n",
      "'model06_forward_74_best.pth' saved.\n",
      "- train minibatches = 1\n",
      "- valid minibatches = 1\n",
      "- test minibatches = 1\n"
     ]
    },
    {
     "data": {
      "application/vnd.jupyter.widget-view+json": {
       "model_id": "730f6a42f6ac492ba4faef2c7975a364",
       "version_major": 2,
       "version_minor": 0
      },
      "text/plain": [
       "HBox(children=(HTML(value='Epochs loop'), FloatProgress(value=0.0, max=30000.0), HTML(value='')))"
      ]
     },
     "metadata": {},
     "output_type": "display_data"
    },
    {
     "name": "stdout",
     "output_type": "stream",
     "text": [
      "\n",
      "Summary:\n",
      "-learning rate = 0.00527\n",
      "-path 1 has early stopped:\n",
      " 5000 iterations with no improvement in train loss.\n",
      "-Model saved after iteration 225.\n",
      "-Train.  Loss=0.0939175\n",
      "-Valid.  Loss=0.3930847\n",
      "'train_loss_75.csv' saved.\n",
      "'valid_loss_75.csv' saved.\n",
      "'model06_forward_75_last.pth' saved.\n",
      "'model06_forward_75_best.pth' saved.\n",
      "- train minibatches = 1\n",
      "- valid minibatches = 1\n",
      "- test minibatches = 1\n"
     ]
    },
    {
     "data": {
      "application/vnd.jupyter.widget-view+json": {
       "model_id": "31f2d5c0dc5a4cb59e43e66ffde14905",
       "version_major": 2,
       "version_minor": 0
      },
      "text/plain": [
       "HBox(children=(HTML(value='Epochs loop'), FloatProgress(value=0.0, max=30000.0), HTML(value='')))"
      ]
     },
     "metadata": {},
     "output_type": "display_data"
    },
    {
     "name": "stdout",
     "output_type": "stream",
     "text": [
      "\n",
      "Summary:\n",
      "-learning rate = 0.00527\n",
      "-path 1 has early stopped:\n",
      " 5000 iterations with no improvement in train loss.\n",
      "-Model saved after iteration 64.\n",
      "-Train.  Loss=0.1784214\n",
      "-Valid.  Loss=0.4579874\n",
      "'train_loss_76.csv' saved.\n",
      "'valid_loss_76.csv' saved.\n",
      "'model06_forward_76_last.pth' saved.\n",
      "'model06_forward_76_best.pth' saved.\n",
      "- train minibatches = 1\n",
      "- valid minibatches = 1\n",
      "- test minibatches = 1\n"
     ]
    },
    {
     "data": {
      "application/vnd.jupyter.widget-view+json": {
       "model_id": "6bb87478f99f41299789f047bbc015a9",
       "version_major": 2,
       "version_minor": 0
      },
      "text/plain": [
       "HBox(children=(HTML(value='Epochs loop'), FloatProgress(value=0.0, max=30000.0), HTML(value='')))"
      ]
     },
     "metadata": {},
     "output_type": "display_data"
    },
    {
     "name": "stdout",
     "output_type": "stream",
     "text": [
      "\n",
      "Summary:\n",
      "-learning rate = 0.00527\n",
      "-path 1 has early stopped:\n",
      " 5000 iterations with no improvement in train loss.\n",
      "-Model saved after iteration 58.\n",
      "-Train.  Loss=0.1688687\n",
      "-Valid.  Loss=0.5672294\n",
      "'train_loss_77.csv' saved.\n",
      "'valid_loss_77.csv' saved.\n",
      "'model06_forward_77_last.pth' saved.\n",
      "'model06_forward_77_best.pth' saved.\n",
      "- train minibatches = 1\n",
      "- valid minibatches = 1\n",
      "- test minibatches = 1\n"
     ]
    },
    {
     "data": {
      "application/vnd.jupyter.widget-view+json": {
       "model_id": "ec5a4f9acd2e4263907b8e8ac72837b8",
       "version_major": 2,
       "version_minor": 0
      },
      "text/plain": [
       "HBox(children=(HTML(value='Epochs loop'), FloatProgress(value=0.0, max=30000.0), HTML(value='')))"
      ]
     },
     "metadata": {},
     "output_type": "display_data"
    },
    {
     "name": "stdout",
     "output_type": "stream",
     "text": [
      "\n",
      "Summary:\n",
      "-learning rate = 0.00527\n",
      "-path 1 has early stopped:\n",
      " 5000 iterations with no improvement in train loss.\n",
      "-Model saved after iteration 155.\n",
      "-Train.  Loss=0.1369176\n",
      "-Valid.  Loss=0.5140234\n",
      "'train_loss_78.csv' saved.\n",
      "'valid_loss_78.csv' saved.\n",
      "'model06_forward_78_last.pth' saved.\n",
      "'model06_forward_78_best.pth' saved.\n",
      "- train minibatches = 1\n",
      "- valid minibatches = 1\n",
      "- test minibatches = 1\n"
     ]
    },
    {
     "data": {
      "application/vnd.jupyter.widget-view+json": {
       "model_id": "be244a1e775449cbbf150d2b7f37f443",
       "version_major": 2,
       "version_minor": 0
      },
      "text/plain": [
       "HBox(children=(HTML(value='Epochs loop'), FloatProgress(value=0.0, max=30000.0), HTML(value='')))"
      ]
     },
     "metadata": {},
     "output_type": "display_data"
    },
    {
     "name": "stdout",
     "output_type": "stream",
     "text": [
      "\n",
      "Summary:\n",
      "-learning rate = 0.00527\n",
      "-path 1 has early stopped:\n",
      " 5000 iterations with no improvement in train loss.\n",
      "-Model saved after iteration 15.\n",
      "-Train.  Loss=0.3758466\n",
      "-Valid.  Loss=0.7088885\n",
      "'train_loss_79.csv' saved.\n",
      "'valid_loss_79.csv' saved.\n",
      "'model06_forward_79_last.pth' saved.\n",
      "'model06_forward_79_best.pth' saved.\n",
      "- train minibatches = 1\n",
      "- valid minibatches = 1\n",
      "- test minibatches = 1\n"
     ]
    },
    {
     "data": {
      "application/vnd.jupyter.widget-view+json": {
       "model_id": "b4b3b5d24e544535bf045b39f833148d",
       "version_major": 2,
       "version_minor": 0
      },
      "text/plain": [
       "HBox(children=(HTML(value='Epochs loop'), FloatProgress(value=0.0, max=30000.0), HTML(value='')))"
      ]
     },
     "metadata": {},
     "output_type": "display_data"
    },
    {
     "name": "stdout",
     "output_type": "stream",
     "text": [
      "\n",
      "Summary:\n",
      "-learning rate = 0.00527\n",
      "-path 1 has early stopped:\n",
      " 5000 iterations with no improvement in train loss.\n",
      "-Model saved after iteration 38.\n",
      "-Train.  Loss=0.2285505\n",
      "-Valid.  Loss=0.6033053\n",
      "'train_loss_80.csv' saved.\n",
      "'valid_loss_80.csv' saved.\n",
      "'model06_forward_80_last.pth' saved.\n",
      "'model06_forward_80_best.pth' saved.\n",
      "- train minibatches = 1\n",
      "- valid minibatches = 1\n",
      "- test minibatches = 1\n"
     ]
    },
    {
     "data": {
      "application/vnd.jupyter.widget-view+json": {
       "model_id": "ea27539c9f8d499a9b485a22c130d3bf",
       "version_major": 2,
       "version_minor": 0
      },
      "text/plain": [
       "HBox(children=(HTML(value='Epochs loop'), FloatProgress(value=0.0, max=30000.0), HTML(value='')))"
      ]
     },
     "metadata": {},
     "output_type": "display_data"
    },
    {
     "name": "stdout",
     "output_type": "stream",
     "text": [
      "\n",
      "Summary:\n",
      "-learning rate = 0.00527\n",
      "-path 1 has early stopped:\n",
      " 5000 iterations with no improvement in train loss.\n",
      "-Model saved after iteration 19.\n",
      "-Train.  Loss=0.3812865\n",
      "-Valid.  Loss=0.6988556\n",
      "'train_loss_81.csv' saved.\n",
      "'valid_loss_81.csv' saved.\n",
      "'model06_forward_81_last.pth' saved.\n",
      "'model06_forward_81_best.pth' saved.\n",
      "- train minibatches = 1\n",
      "- valid minibatches = 1\n",
      "- test minibatches = 1\n"
     ]
    },
    {
     "data": {
      "application/vnd.jupyter.widget-view+json": {
       "model_id": "b7931138146f401cbd6f75f6cebb3e12",
       "version_major": 2,
       "version_minor": 0
      },
      "text/plain": [
       "HBox(children=(HTML(value='Epochs loop'), FloatProgress(value=0.0, max=30000.0), HTML(value='')))"
      ]
     },
     "metadata": {},
     "output_type": "display_data"
    },
    {
     "name": "stdout",
     "output_type": "stream",
     "text": [
      "\n",
      "Summary:\n",
      "-learning rate = 0.00527\n",
      "-path 1 has early stopped:\n",
      " 5000 iterations with no improvement in train loss.\n",
      "-Model saved after iteration 482.\n",
      "-Train.  Loss=0.0645364\n",
      "-Valid.  Loss=0.3597291\n",
      "'train_loss_82.csv' saved.\n",
      "'valid_loss_82.csv' saved.\n",
      "'model06_forward_82_last.pth' saved.\n",
      "'model06_forward_82_best.pth' saved.\n",
      "- train minibatches = 1\n",
      "- valid minibatches = 1\n",
      "- test minibatches = 1\n"
     ]
    },
    {
     "data": {
      "application/vnd.jupyter.widget-view+json": {
       "model_id": "2747b60f9af540fc9f21188654627e48",
       "version_major": 2,
       "version_minor": 0
      },
      "text/plain": [
       "HBox(children=(HTML(value='Epochs loop'), FloatProgress(value=0.0, max=30000.0), HTML(value='')))"
      ]
     },
     "metadata": {},
     "output_type": "display_data"
    },
    {
     "name": "stdout",
     "output_type": "stream",
     "text": [
      "\n",
      "Summary:\n",
      "-learning rate = 0.00527\n",
      "-path 1 has early stopped:\n",
      " 5000 iterations with no improvement in train loss.\n",
      "-Model saved after iteration 127.\n",
      "-Train.  Loss=0.0797533\n",
      "-Valid.  Loss=0.5936232\n",
      "'train_loss_83.csv' saved.\n",
      "'valid_loss_83.csv' saved.\n",
      "'model06_forward_83_last.pth' saved.\n",
      "'model06_forward_83_best.pth' saved.\n",
      "- train minibatches = 1\n",
      "- valid minibatches = 1\n",
      "- test minibatches = 1\n"
     ]
    },
    {
     "data": {
      "application/vnd.jupyter.widget-view+json": {
       "model_id": "1a20efb22c6b48b498a039e0cdbef996",
       "version_major": 2,
       "version_minor": 0
      },
      "text/plain": [
       "HBox(children=(HTML(value='Epochs loop'), FloatProgress(value=0.0, max=30000.0), HTML(value='')))"
      ]
     },
     "metadata": {},
     "output_type": "display_data"
    },
    {
     "name": "stdout",
     "output_type": "stream",
     "text": [
      "\n",
      "Summary:\n",
      "-learning rate = 0.00527\n",
      "-path 1 has early stopped:\n",
      " 5000 iterations with no improvement in train loss.\n",
      "-Model saved after iteration 5.\n",
      "-Train.  Loss=0.5407755\n",
      "-Valid.  Loss=0.6902817\n",
      "'train_loss_84.csv' saved.\n",
      "'valid_loss_84.csv' saved.\n",
      "'model06_forward_84_last.pth' saved.\n",
      "'model06_forward_84_best.pth' saved.\n",
      "- train minibatches = 1\n",
      "- valid minibatches = 1\n",
      "- test minibatches = 1\n"
     ]
    },
    {
     "data": {
      "application/vnd.jupyter.widget-view+json": {
       "model_id": "b2a9927d7a89478c8194d03e22903996",
       "version_major": 2,
       "version_minor": 0
      },
      "text/plain": [
       "HBox(children=(HTML(value='Epochs loop'), FloatProgress(value=0.0, max=30000.0), HTML(value='')))"
      ]
     },
     "metadata": {},
     "output_type": "display_data"
    },
    {
     "name": "stdout",
     "output_type": "stream",
     "text": [
      "\n",
      "Summary:\n",
      "-learning rate = 0.00527\n",
      "-path 1 has early stopped:\n",
      " 5000 iterations with no improvement in train loss.\n",
      "-Model saved after iteration 108.\n",
      "-Train.  Loss=0.1769174\n",
      "-Valid.  Loss=0.4243699\n",
      "'train_loss_85.csv' saved.\n",
      "'valid_loss_85.csv' saved.\n",
      "'model06_forward_85_last.pth' saved.\n",
      "'model06_forward_85_best.pth' saved.\n",
      "- train minibatches = 1\n",
      "- valid minibatches = 1\n",
      "- test minibatches = 1\n"
     ]
    },
    {
     "data": {
      "application/vnd.jupyter.widget-view+json": {
       "model_id": "c312516129c3461fa536ea893db18684",
       "version_major": 2,
       "version_minor": 0
      },
      "text/plain": [
       "HBox(children=(HTML(value='Epochs loop'), FloatProgress(value=0.0, max=30000.0), HTML(value='')))"
      ]
     },
     "metadata": {},
     "output_type": "display_data"
    },
    {
     "name": "stdout",
     "output_type": "stream",
     "text": [
      "\n",
      "Summary:\n",
      "-learning rate = 0.00527\n",
      "-path 1 has early stopped:\n",
      " 5000 iterations with no improvement in train loss.\n",
      "-Model saved after iteration 111.\n",
      "-Train.  Loss=0.1252289\n",
      "-Valid.  Loss=0.4877569\n",
      "'train_loss_86.csv' saved.\n",
      "'valid_loss_86.csv' saved.\n",
      "'model06_forward_86_last.pth' saved.\n",
      "'model06_forward_86_best.pth' saved.\n",
      "- train minibatches = 1\n",
      "- valid minibatches = 1\n",
      "- test minibatches = 1\n"
     ]
    },
    {
     "data": {
      "application/vnd.jupyter.widget-view+json": {
       "model_id": "164cd62b232448deba552803dae762cc",
       "version_major": 2,
       "version_minor": 0
      },
      "text/plain": [
       "HBox(children=(HTML(value='Epochs loop'), FloatProgress(value=0.0, max=30000.0), HTML(value='')))"
      ]
     },
     "metadata": {},
     "output_type": "display_data"
    },
    {
     "name": "stdout",
     "output_type": "stream",
     "text": [
      "\n",
      "Summary:\n",
      "-learning rate = 0.00527\n",
      "-path 1 has early stopped:\n",
      " 5000 iterations with no improvement in train loss.\n",
      "-Model saved after iteration 174.\n",
      "-Train.  Loss=0.1121850\n",
      "-Valid.  Loss=0.4917653\n",
      "'train_loss_87.csv' saved.\n",
      "'valid_loss_87.csv' saved.\n",
      "'model06_forward_87_last.pth' saved.\n",
      "'model06_forward_87_best.pth' saved.\n",
      "- train minibatches = 1\n",
      "- valid minibatches = 1\n",
      "- test minibatches = 1\n"
     ]
    },
    {
     "data": {
      "application/vnd.jupyter.widget-view+json": {
       "model_id": "8046af2f2cb14760961aa203f1f8de9b",
       "version_major": 2,
       "version_minor": 0
      },
      "text/plain": [
       "HBox(children=(HTML(value='Epochs loop'), FloatProgress(value=0.0, max=30000.0), HTML(value='')))"
      ]
     },
     "metadata": {},
     "output_type": "display_data"
    },
    {
     "name": "stdout",
     "output_type": "stream",
     "text": [
      "\n",
      "Summary:\n",
      "-learning rate = 0.00527\n",
      "-path 1 has early stopped:\n",
      " 5000 iterations with no improvement in train loss.\n",
      "-Model saved after iteration 158.\n",
      "-Train.  Loss=0.1262664\n",
      "-Valid.  Loss=0.5895926\n",
      "'train_loss_88.csv' saved.\n",
      "'valid_loss_88.csv' saved.\n",
      "'model06_forward_88_last.pth' saved.\n",
      "'model06_forward_88_best.pth' saved.\n",
      "- train minibatches = 1\n",
      "- valid minibatches = 1\n",
      "- test minibatches = 1\n"
     ]
    },
    {
     "data": {
      "application/vnd.jupyter.widget-view+json": {
       "model_id": "f392df1036fa495795fa34e36a8f4804",
       "version_major": 2,
       "version_minor": 0
      },
      "text/plain": [
       "HBox(children=(HTML(value='Epochs loop'), FloatProgress(value=0.0, max=30000.0), HTML(value='')))"
      ]
     },
     "metadata": {},
     "output_type": "display_data"
    },
    {
     "name": "stdout",
     "output_type": "stream",
     "text": [
      "\n",
      "Summary:\n",
      "-learning rate = 0.00527\n",
      "-path 1 has early stopped:\n",
      " 5000 iterations with no improvement in train loss.\n",
      "-Model saved after iteration 60.\n",
      "-Train.  Loss=0.1387193\n",
      "-Valid.  Loss=0.5289112\n",
      "'train_loss_89.csv' saved.\n",
      "'valid_loss_89.csv' saved.\n",
      "'model06_forward_89_last.pth' saved.\n",
      "'model06_forward_89_best.pth' saved.\n",
      "- train minibatches = 1\n",
      "- valid minibatches = 1\n",
      "- test minibatches = 1\n"
     ]
    },
    {
     "data": {
      "application/vnd.jupyter.widget-view+json": {
       "model_id": "defe0df9778143b3ba7eb9c5c7a42a57",
       "version_major": 2,
       "version_minor": 0
      },
      "text/plain": [
       "HBox(children=(HTML(value='Epochs loop'), FloatProgress(value=0.0, max=30000.0), HTML(value='')))"
      ]
     },
     "metadata": {},
     "output_type": "display_data"
    },
    {
     "name": "stdout",
     "output_type": "stream",
     "text": [
      "\n",
      "Summary:\n",
      "-learning rate = 0.00527\n",
      "-Model saved after iteration 29911.\n",
      "-Train.  Loss=0.0033363\n",
      "-Valid.  Loss=0.1580691\n",
      "'train_loss_90.csv' saved.\n",
      "'valid_loss_90.csv' saved.\n",
      "'model06_forward_90_last.pth' saved.\n",
      "'model06_forward_90_best.pth' saved.\n",
      "- train minibatches = 1\n",
      "- valid minibatches = 1\n",
      "- test minibatches = 1\n"
     ]
    },
    {
     "data": {
      "application/vnd.jupyter.widget-view+json": {
       "model_id": "4b5baf5d6c514c64b567f557f932a1a8",
       "version_major": 2,
       "version_minor": 0
      },
      "text/plain": [
       "HBox(children=(HTML(value='Epochs loop'), FloatProgress(value=0.0, max=30000.0), HTML(value='')))"
      ]
     },
     "metadata": {},
     "output_type": "display_data"
    },
    {
     "name": "stdout",
     "output_type": "stream",
     "text": [
      "\n",
      "Summary:\n",
      "-learning rate = 0.00527\n",
      "-path 1 has early stopped:\n",
      " 5000 iterations with no improvement in train loss.\n",
      "-Model saved after iteration 523.\n",
      "-Train.  Loss=0.0102763\n",
      "-Valid.  Loss=0.2704309\n",
      "'train_loss_91.csv' saved.\n",
      "'valid_loss_91.csv' saved.\n",
      "'model06_forward_91_last.pth' saved.\n",
      "'model06_forward_91_best.pth' saved.\n",
      "- train minibatches = 1\n",
      "- valid minibatches = 1\n",
      "- test minibatches = 1\n"
     ]
    },
    {
     "data": {
      "application/vnd.jupyter.widget-view+json": {
       "model_id": "33eef8a978344b078cbbb62de66c28a9",
       "version_major": 2,
       "version_minor": 0
      },
      "text/plain": [
       "HBox(children=(HTML(value='Epochs loop'), FloatProgress(value=0.0, max=30000.0), HTML(value='')))"
      ]
     },
     "metadata": {},
     "output_type": "display_data"
    },
    {
     "name": "stdout",
     "output_type": "stream",
     "text": [
      "\n",
      "Summary:\n",
      "-learning rate = 0.00527\n",
      "-path 1 has early stopped:\n",
      " 5000 iterations with no improvement in train loss.\n",
      "-Model saved after iteration 35.\n",
      "-Train.  Loss=0.2122198\n",
      "-Valid.  Loss=0.4798982\n",
      "'train_loss_92.csv' saved.\n",
      "'valid_loss_92.csv' saved.\n",
      "'model06_forward_92_last.pth' saved.\n",
      "'model06_forward_92_best.pth' saved.\n",
      "- train minibatches = 1\n",
      "- valid minibatches = 1\n",
      "- test minibatches = 1\n"
     ]
    },
    {
     "data": {
      "application/vnd.jupyter.widget-view+json": {
       "model_id": "1bc68e812b354c0ab80dbfe8f7818d7e",
       "version_major": 2,
       "version_minor": 0
      },
      "text/plain": [
       "HBox(children=(HTML(value='Epochs loop'), FloatProgress(value=0.0, max=30000.0), HTML(value='')))"
      ]
     },
     "metadata": {},
     "output_type": "display_data"
    },
    {
     "name": "stdout",
     "output_type": "stream",
     "text": [
      "\n",
      "Summary:\n",
      "-learning rate = 0.00527\n",
      "-path 1 has early stopped:\n",
      " 5000 iterations with no improvement in train loss.\n",
      "-Model saved after iteration 9318.\n",
      "-Train.  Loss=0.0115800\n",
      "-Valid.  Loss=0.4195311\n",
      "'train_loss_93.csv' saved.\n",
      "'valid_loss_93.csv' saved.\n",
      "'model06_forward_93_last.pth' saved.\n",
      "'model06_forward_93_best.pth' saved.\n",
      "- train minibatches = 1\n",
      "- valid minibatches = 1\n",
      "- test minibatches = 1\n"
     ]
    },
    {
     "data": {
      "application/vnd.jupyter.widget-view+json": {
       "model_id": "e374f08d44e3412f9af724bded819ffc",
       "version_major": 2,
       "version_minor": 0
      },
      "text/plain": [
       "HBox(children=(HTML(value='Epochs loop'), FloatProgress(value=0.0, max=30000.0), HTML(value='')))"
      ]
     },
     "metadata": {},
     "output_type": "display_data"
    },
    {
     "name": "stdout",
     "output_type": "stream",
     "text": [
      "\n",
      "Summary:\n",
      "-learning rate = 0.00527\n",
      "-path 1 has early stopped:\n",
      " 5000 iterations with no improvement in train loss.\n",
      "-Model saved after iteration 10807.\n",
      "-Train.  Loss=0.0095038\n",
      "-Valid.  Loss=0.2810182\n",
      "'train_loss_94.csv' saved.\n",
      "'valid_loss_94.csv' saved.\n",
      "'model06_forward_94_last.pth' saved.\n",
      "'model06_forward_94_best.pth' saved.\n",
      "- train minibatches = 1\n",
      "- valid minibatches = 1\n",
      "- test minibatches = 1\n"
     ]
    },
    {
     "data": {
      "application/vnd.jupyter.widget-view+json": {
       "model_id": "d4fe785198d84643bdcc534d6c0121a6",
       "version_major": 2,
       "version_minor": 0
      },
      "text/plain": [
       "HBox(children=(HTML(value='Epochs loop'), FloatProgress(value=0.0, max=30000.0), HTML(value='')))"
      ]
     },
     "metadata": {},
     "output_type": "display_data"
    },
    {
     "name": "stdout",
     "output_type": "stream",
     "text": [
      "\n",
      "Summary:\n",
      "-learning rate = 0.00527\n",
      "-path 1 has early stopped:\n",
      " 5000 iterations with no improvement in train loss.\n",
      "-Model saved after iteration 90.\n",
      "-Train.  Loss=0.1574937\n",
      "-Valid.  Loss=0.4936058\n",
      "'train_loss_95.csv' saved.\n",
      "'valid_loss_95.csv' saved.\n",
      "'model06_forward_95_last.pth' saved.\n",
      "'model06_forward_95_best.pth' saved.\n",
      "- train minibatches = 1\n",
      "- valid minibatches = 1\n",
      "- test minibatches = 1\n"
     ]
    },
    {
     "data": {
      "application/vnd.jupyter.widget-view+json": {
       "model_id": "70be3980579749d4acad24f598ca98db",
       "version_major": 2,
       "version_minor": 0
      },
      "text/plain": [
       "HBox(children=(HTML(value='Epochs loop'), FloatProgress(value=0.0, max=30000.0), HTML(value='')))"
      ]
     },
     "metadata": {},
     "output_type": "display_data"
    },
    {
     "name": "stdout",
     "output_type": "stream",
     "text": [
      "\n",
      "Summary:\n",
      "-learning rate = 0.00527\n",
      "-path 1 has early stopped:\n",
      " 5000 iterations with no improvement in train loss.\n",
      "-Model saved after iteration 114.\n",
      "-Train.  Loss=0.1025467\n",
      "-Valid.  Loss=0.3419952\n",
      "'train_loss_96.csv' saved.\n",
      "'valid_loss_96.csv' saved.\n",
      "'model06_forward_96_last.pth' saved.\n",
      "'model06_forward_96_best.pth' saved.\n",
      "- train minibatches = 1\n",
      "- valid minibatches = 1\n",
      "- test minibatches = 1\n"
     ]
    },
    {
     "data": {
      "application/vnd.jupyter.widget-view+json": {
       "model_id": "713896974dce47439b26868ed6b68369",
       "version_major": 2,
       "version_minor": 0
      },
      "text/plain": [
       "HBox(children=(HTML(value='Epochs loop'), FloatProgress(value=0.0, max=30000.0), HTML(value='')))"
      ]
     },
     "metadata": {},
     "output_type": "display_data"
    },
    {
     "name": "stdout",
     "output_type": "stream",
     "text": [
      "\n",
      "Summary:\n",
      "-learning rate = 0.00527\n",
      "-path 1 has early stopped:\n",
      " 5000 iterations with no improvement in train loss.\n",
      "-Model saved after iteration 4227.\n",
      "-Train.  Loss=0.0258664\n",
      "-Valid.  Loss=0.4069370\n",
      "'train_loss_97.csv' saved.\n",
      "'valid_loss_97.csv' saved.\n",
      "'model06_forward_97_last.pth' saved.\n",
      "'model06_forward_97_best.pth' saved.\n",
      "- train minibatches = 1\n",
      "- valid minibatches = 1\n",
      "- test minibatches = 1\n"
     ]
    },
    {
     "data": {
      "application/vnd.jupyter.widget-view+json": {
       "model_id": "a6bac9500448438e86db060fce66ae1f",
       "version_major": 2,
       "version_minor": 0
      },
      "text/plain": [
       "HBox(children=(HTML(value='Epochs loop'), FloatProgress(value=0.0, max=30000.0), HTML(value='')))"
      ]
     },
     "metadata": {},
     "output_type": "display_data"
    },
    {
     "name": "stdout",
     "output_type": "stream",
     "text": [
      "\n",
      "Summary:\n",
      "-learning rate = 0.00527\n",
      "-path 1 has early stopped:\n",
      " 5000 iterations with no improvement in train loss.\n",
      "-Model saved after iteration 40.\n",
      "-Train.  Loss=0.3124095\n",
      "-Valid.  Loss=0.5914261\n",
      "'train_loss_98.csv' saved.\n",
      "'valid_loss_98.csv' saved.\n",
      "'model06_forward_98_last.pth' saved.\n",
      "'model06_forward_98_best.pth' saved.\n",
      "- train minibatches = 1\n",
      "- valid minibatches = 1\n",
      "- test minibatches = 1\n"
     ]
    },
    {
     "data": {
      "application/vnd.jupyter.widget-view+json": {
       "model_id": "eade790d18dc4f85bf46316620218526",
       "version_major": 2,
       "version_minor": 0
      },
      "text/plain": [
       "HBox(children=(HTML(value='Epochs loop'), FloatProgress(value=0.0, max=30000.0), HTML(value='')))"
      ]
     },
     "metadata": {},
     "output_type": "display_data"
    },
    {
     "name": "stdout",
     "output_type": "stream",
     "text": [
      "\n",
      "Summary:\n",
      "-learning rate = 0.00527\n",
      "-path 1 has early stopped:\n",
      " 5000 iterations with no improvement in train loss.\n",
      "-Model saved after iteration 71.\n",
      "-Train.  Loss=0.1767577\n",
      "-Valid.  Loss=0.4732135\n",
      "'train_loss_99.csv' saved.\n",
      "'valid_loss_99.csv' saved.\n",
      "'model06_forward_99_last.pth' saved.\n",
      "'model06_forward_99_best.pth' saved.\n",
      "- train minibatches = 1\n",
      "- valid minibatches = 1\n",
      "- test minibatches = 1\n"
     ]
    },
    {
     "data": {
      "application/vnd.jupyter.widget-view+json": {
       "model_id": "9e5e4e391e264aedb8cfd7126ab5af9c",
       "version_major": 2,
       "version_minor": 0
      },
      "text/plain": [
       "HBox(children=(HTML(value='Epochs loop'), FloatProgress(value=0.0, max=30000.0), HTML(value='')))"
      ]
     },
     "metadata": {},
     "output_type": "display_data"
    },
    {
     "name": "stdout",
     "output_type": "stream",
     "text": [
      "\n",
      "Summary:\n",
      "-learning rate = 0.00527\n",
      "-path 1 has early stopped:\n",
      " 5000 iterations with no improvement in train loss.\n",
      "-Model saved after iteration 77.\n",
      "-Train.  Loss=0.1139548\n",
      "-Valid.  Loss=0.5143640\n",
      "'train_loss_100.csv' saved.\n",
      "'valid_loss_100.csv' saved.\n",
      "'model06_forward_100_last.pth' saved.\n",
      "'model06_forward_100_best.pth' saved.\n",
      "\n"
     ]
    }
   ],
   "source": [
    "# Find Accuracy, Loss +/- STD (Forward)\n",
    "data_output = 'data_unconstrained_06Arcene'\n",
    "accuracy_forward = pd.DataFrame(columns=['train_acc', 'valid_acc', 'test_acc', \n",
    "                                         'train_loss', 'valid_loss', 'test_loss'])\n",
    "\n",
    "partitions = 100\n",
    "iterator = tqdm.notebook.tqdm(range(1, partitions + 1), desc='Partitions loop')\n",
    "for n in iterator:\n",
    "    X = pd.read_csv('dataset_06Arcene/X.csv', header=None)\n",
    "    y = pd.read_csv('dataset_06Arcene/y.csv', header=None)\n",
    "    split_data(X, y, seed1=seed1[n], seed2=seed2[n])\n",
    "\n",
    "# .normalize data sets\n",
    "    df_to_tensor()\n",
    "    normalize_data()\n",
    "    make_DataLoaders()\n",
    "\n",
    "# .train model (forward)\n",
    "    lr = best_lr_fward\n",
    "    layer_sizes = [5, 2]\n",
    "    epochs = 30000\n",
    "    data_out = \"data_unconstrained_06Arcene/partitions\"\n",
    "    lock_flag = False\n",
    "    features = xtrain.size(1)\n",
    "    fname = 'model06_forward_'+str(n)\n",
    "    train_loss, valid_loss = train_model(\n",
    "                             lr, \n",
    "                             features, \n",
    "                             layer_sizes,\n",
    "                             lock_flag = lock_flag,\n",
    "                             epochs = epochs,\n",
    "                             early_stop = 5000, \n",
    "                             fname = fname)\n",
    "# .save relevant data\n",
    "    f3 = [fname+'_last.pth', fname+'_best.pth']\n",
    "    save_output(data_out, \n",
    "                'train_loss_'+str(n)+'.csv', \n",
    "                'valid_loss_'+str(n)+'.csv', f3)\n",
    "\n",
    "# .find Loss, Accurary, etc...\n",
    "    mm = MyNet(features, layer_sizes)\n",
    "    mm.load_state_dict(torch.load(os.path.join(data_out, fname+'_best.pth')))\n",
    "    mm = mm.to(device)\n",
    "    mm.eval()\n",
    "    \n",
    "    ypred = mm(xtrain)\n",
    "    loss = loss_type(ypred, ytrain.view(-1))\n",
    "    accu = dataset_accuracy(train_dataloader, mm, device)\n",
    "    accuracy_forward.loc[n, 'train_loss'] = loss.detach().item()\n",
    "    accuracy_forward.loc[n, 'train_acc'] = accu\n",
    "\n",
    "    ypred = mm(xvalid)\n",
    "    loss = loss_type(ypred, yvalid.view(-1))\n",
    "    accu = dataset_accuracy(valid_dataloader, mm, device)\n",
    "    accuracy_forward.loc[n, 'valid_loss'] = loss.detach().item()\n",
    "    accuracy_forward.loc[n, 'valid_acc'] = accu\n",
    "\n",
    "    ypred = mm(xtest)\n",
    "    loss = loss_type(ypred, ytest.view(-1))\n",
    "    accu = dataset_accuracy(test_dataloader, mm, device)\n",
    "    accuracy_forward.loc[n, 'test_loss'] = loss.detach().item()\n",
    "    accuracy_forward.loc[n, 'test_acc'] = accu\n",
    "\n",
    "    accuracy_forward.to_csv(os.path.join(data_out, 'accuracy06_forward.csv'), index=True)"
   ]
  },
  {
   "cell_type": "code",
   "execution_count": 295,
   "metadata": {
    "ExecuteTime": {
     "end_time": "2021-02-24T19:17:15.246542Z",
     "start_time": "2021-02-24T19:17:15.238047Z"
    },
    "code_folding": [
     0
    ]
   },
   "outputs": [
    {
     "name": "stdout",
     "output_type": "stream",
     "text": [
      "Train accuracy = 0.952 +/- 0.068\n",
      "Train accuracy = 0.766 +/- 0.084\n",
      "Test accuracy = 0.761 +/- 0.082\n"
     ]
    }
   ],
   "source": [
    "# Display results\n",
    "accuracy_forward = pd.read_csv('data_unconstrained_06Arcene/accuracy06_forward.csv', index_col=0)\n",
    "print(\"Train accuracy = {:.3f} +/- {:.3f}\".format(accuracy_forward['train_acc'].mean(), \n",
    "                                                  accuracy_forward['train_acc'].std()))\n",
    "print(\"Train accuracy = {:.3f} +/- {:.3f}\".format(accuracy_forward['valid_acc'].mean(), \n",
    "                                                  accuracy_forward['valid_acc'].std()))\n",
    "print(\"Test accuracy = {:.3f} +/- {:.3f}\".format(accuracy_forward['test_acc'].mean(), \n",
    "                                                 accuracy_forward['test_acc'].std()))"
   ]
  },
  {
   "cell_type": "code",
   "execution_count": 287,
   "metadata": {
    "ExecuteTime": {
     "end_time": "2021-02-23T11:22:11.178662Z",
     "start_time": "2021-02-23T05:22:15.736641Z"
    },
    "code_folding": [
     0
    ],
    "scrolled": true
   },
   "outputs": [
    {
     "data": {
      "application/vnd.jupyter.widget-view+json": {
       "model_id": "5055da558ed94b3da4c1b431554161ba",
       "version_major": 2,
       "version_minor": 0
      },
      "text/plain": [
       "HBox(children=(HTML(value='Partitions loop'), FloatProgress(value=0.0), HTML(value='')))"
      ]
     },
     "metadata": {},
     "output_type": "display_data"
    },
    {
     "name": "stdout",
     "output_type": "stream",
     "text": [
      "- train minibatches = 1\n",
      "- valid minibatches = 1\n",
      "- test minibatches = 1\n"
     ]
    },
    {
     "data": {
      "application/vnd.jupyter.widget-view+json": {
       "model_id": "8c07aaba6f6547d69327f43a0ae441fb",
       "version_major": 2,
       "version_minor": 0
      },
      "text/plain": [
       "HBox(children=(HTML(value='Epochs loop'), FloatProgress(value=0.0, max=15000.0), HTML(value='')))"
      ]
     },
     "metadata": {},
     "output_type": "display_data"
    },
    {
     "name": "stdout",
     "output_type": "stream",
     "text": [
      "\n",
      "Summary:\n",
      "-learning rate = 0.01710\n",
      "-Model saved after iteration 35.\n",
      "-Train.  Loss=0.1785934\n",
      "-Valid.  Loss=0.5289820\n",
      "'train_loss_forward_1.csv' saved.\n",
      "'valid_loss_forward_1.csv' saved.\n",
      "'model06_forward_1_last.pth' saved.\n",
      "'model06_forward_1_best.pth' saved.\n",
      "- train minibatches = 1\n",
      "- valid minibatches = 1\n",
      "- test minibatches = 1\n"
     ]
    },
    {
     "data": {
      "application/vnd.jupyter.widget-view+json": {
       "model_id": "7c2209b112324f7db39a465f0356ca77",
       "version_major": 2,
       "version_minor": 0
      },
      "text/plain": [
       "HBox(children=(HTML(value='Epochs loop'), FloatProgress(value=0.0, max=15000.0), HTML(value='')))"
      ]
     },
     "metadata": {},
     "output_type": "display_data"
    },
    {
     "name": "stdout",
     "output_type": "stream",
     "text": [
      "\n",
      "Summary:\n",
      "-learning rate = 0.01710\n",
      "-Model saved after iteration 40.\n",
      "-Train.  Loss=0.0719761\n",
      "-Valid.  Loss=0.5055405\n",
      "'train_loss_forward_2.csv' saved.\n",
      "'valid_loss_forward_2.csv' saved.\n",
      "'model06_forward_2_last.pth' saved.\n",
      "'model06_forward_2_best.pth' saved.\n",
      "- train minibatches = 1\n",
      "- valid minibatches = 1\n",
      "- test minibatches = 1\n"
     ]
    },
    {
     "data": {
      "application/vnd.jupyter.widget-view+json": {
       "model_id": "b75c1d891f4343c0b04c1b30c76a8ce2",
       "version_major": 2,
       "version_minor": 0
      },
      "text/plain": [
       "HBox(children=(HTML(value='Epochs loop'), FloatProgress(value=0.0, max=15000.0), HTML(value='')))"
      ]
     },
     "metadata": {},
     "output_type": "display_data"
    },
    {
     "name": "stdout",
     "output_type": "stream",
     "text": [
      "\n",
      "Summary:\n",
      "-learning rate = 0.01710\n",
      "-Model saved after iteration 12.\n",
      "-Train.  Loss=0.2782602\n",
      "-Valid.  Loss=0.4403192\n",
      "'train_loss_forward_3.csv' saved.\n",
      "'valid_loss_forward_3.csv' saved.\n",
      "'model06_forward_3_last.pth' saved.\n",
      "'model06_forward_3_best.pth' saved.\n",
      "- train minibatches = 1\n",
      "- valid minibatches = 1\n",
      "- test minibatches = 1\n"
     ]
    },
    {
     "data": {
      "application/vnd.jupyter.widget-view+json": {
       "model_id": "6421333eb9ff4ecc8e11dabc623c8666",
       "version_major": 2,
       "version_minor": 0
      },
      "text/plain": [
       "HBox(children=(HTML(value='Epochs loop'), FloatProgress(value=0.0, max=15000.0), HTML(value='')))"
      ]
     },
     "metadata": {},
     "output_type": "display_data"
    },
    {
     "name": "stdout",
     "output_type": "stream",
     "text": [
      "\n",
      "Summary:\n",
      "-learning rate = 0.01710\n",
      "-Model saved after iteration 117.\n",
      "-Train.  Loss=0.0187099\n",
      "-Valid.  Loss=0.3836417\n",
      "'train_loss_forward_4.csv' saved.\n",
      "'valid_loss_forward_4.csv' saved.\n",
      "'model06_forward_4_last.pth' saved.\n",
      "'model06_forward_4_best.pth' saved.\n",
      "- train minibatches = 1\n",
      "- valid minibatches = 1\n",
      "- test minibatches = 1\n"
     ]
    },
    {
     "data": {
      "application/vnd.jupyter.widget-view+json": {
       "model_id": "3e8bfc5c47cc474697874f08a309f704",
       "version_major": 2,
       "version_minor": 0
      },
      "text/plain": [
       "HBox(children=(HTML(value='Epochs loop'), FloatProgress(value=0.0, max=15000.0), HTML(value='')))"
      ]
     },
     "metadata": {},
     "output_type": "display_data"
    },
    {
     "name": "stdout",
     "output_type": "stream",
     "text": [
      "\n",
      "Summary:\n",
      "-learning rate = 0.01710\n",
      "-Model saved after iteration 3.\n",
      "-Train.  Loss=0.5241767\n",
      "-Valid.  Loss=0.6522638\n",
      "'train_loss_forward_5.csv' saved.\n",
      "'valid_loss_forward_5.csv' saved.\n",
      "'model06_forward_5_last.pth' saved.\n",
      "'model06_forward_5_best.pth' saved.\n",
      "- train minibatches = 1\n",
      "- valid minibatches = 1\n",
      "- test minibatches = 1\n"
     ]
    },
    {
     "data": {
      "application/vnd.jupyter.widget-view+json": {
       "model_id": "8ae137fe7af249d1855d839803988ae0",
       "version_major": 2,
       "version_minor": 0
      },
      "text/plain": [
       "HBox(children=(HTML(value='Epochs loop'), FloatProgress(value=0.0, max=15000.0), HTML(value='')))"
      ]
     },
     "metadata": {},
     "output_type": "display_data"
    },
    {
     "name": "stdout",
     "output_type": "stream",
     "text": [
      "\n",
      "Summary:\n",
      "-learning rate = 0.01710\n",
      "-Model saved after iteration 87.\n",
      "-Train.  Loss=0.0308534\n",
      "-Valid.  Loss=0.4494195\n",
      "'train_loss_forward_6.csv' saved.\n",
      "'valid_loss_forward_6.csv' saved.\n",
      "'model06_forward_6_last.pth' saved.\n",
      "'model06_forward_6_best.pth' saved.\n",
      "- train minibatches = 1\n",
      "- valid minibatches = 1\n",
      "- test minibatches = 1\n"
     ]
    },
    {
     "data": {
      "application/vnd.jupyter.widget-view+json": {
       "model_id": "890730d492dc463e90c7254c038b75be",
       "version_major": 2,
       "version_minor": 0
      },
      "text/plain": [
       "HBox(children=(HTML(value='Epochs loop'), FloatProgress(value=0.0, max=15000.0), HTML(value='')))"
      ]
     },
     "metadata": {},
     "output_type": "display_data"
    },
    {
     "name": "stdout",
     "output_type": "stream",
     "text": [
      "\n",
      "Summary:\n",
      "-learning rate = 0.01710\n",
      "-Model saved after iteration 70.\n",
      "-Train.  Loss=0.0693349\n",
      "-Valid.  Loss=0.3961725\n",
      "'train_loss_forward_7.csv' saved.\n",
      "'valid_loss_forward_7.csv' saved.\n",
      "'model06_forward_7_last.pth' saved.\n",
      "'model06_forward_7_best.pth' saved.\n",
      "- train minibatches = 1\n",
      "- valid minibatches = 1\n",
      "- test minibatches = 1\n"
     ]
    },
    {
     "data": {
      "application/vnd.jupyter.widget-view+json": {
       "model_id": "b03dd68bc1bd4faf8c19896d46023d17",
       "version_major": 2,
       "version_minor": 0
      },
      "text/plain": [
       "HBox(children=(HTML(value='Epochs loop'), FloatProgress(value=0.0, max=15000.0), HTML(value='')))"
      ]
     },
     "metadata": {},
     "output_type": "display_data"
    },
    {
     "name": "stdout",
     "output_type": "stream",
     "text": [
      "\n",
      "Summary:\n",
      "-learning rate = 0.01710\n",
      "-Model saved after iteration 2169.\n",
      "-Train.  Loss=0.0173034\n",
      "-Valid.  Loss=0.3212900\n",
      "'train_loss_forward_8.csv' saved.\n",
      "'valid_loss_forward_8.csv' saved.\n",
      "'model06_forward_8_last.pth' saved.\n",
      "'model06_forward_8_best.pth' saved.\n",
      "- train minibatches = 1\n",
      "- valid minibatches = 1\n",
      "- test minibatches = 1\n"
     ]
    },
    {
     "data": {
      "application/vnd.jupyter.widget-view+json": {
       "model_id": "b8ab52d9d7cf40b18ca90f4e19495d71",
       "version_major": 2,
       "version_minor": 0
      },
      "text/plain": [
       "HBox(children=(HTML(value='Epochs loop'), FloatProgress(value=0.0, max=15000.0), HTML(value='')))"
      ]
     },
     "metadata": {},
     "output_type": "display_data"
    },
    {
     "name": "stdout",
     "output_type": "stream",
     "text": [
      "\n",
      "Summary:\n",
      "-learning rate = 0.01710\n",
      "-Model saved after iteration 31.\n",
      "-Train.  Loss=0.2507316\n",
      "-Valid.  Loss=0.5701480\n",
      "'train_loss_forward_9.csv' saved.\n",
      "'valid_loss_forward_9.csv' saved.\n",
      "'model06_forward_9_last.pth' saved.\n",
      "'model06_forward_9_best.pth' saved.\n",
      "- train minibatches = 1\n",
      "- valid minibatches = 1\n",
      "- test minibatches = 1\n"
     ]
    },
    {
     "data": {
      "application/vnd.jupyter.widget-view+json": {
       "model_id": "c710f446b576459d994ef1cc0c7bd2f2",
       "version_major": 2,
       "version_minor": 0
      },
      "text/plain": [
       "HBox(children=(HTML(value='Epochs loop'), FloatProgress(value=0.0, max=15000.0), HTML(value='')))"
      ]
     },
     "metadata": {},
     "output_type": "display_data"
    },
    {
     "name": "stdout",
     "output_type": "stream",
     "text": [
      "\n",
      "Summary:\n",
      "-learning rate = 0.01710\n",
      "-Model saved after iteration 31.\n",
      "-Train.  Loss=0.1934906\n",
      "-Valid.  Loss=0.5660297\n",
      "'train_loss_forward_10.csv' saved.\n",
      "'valid_loss_forward_10.csv' saved.\n",
      "'model06_forward_10_last.pth' saved.\n",
      "'model06_forward_10_best.pth' saved.\n",
      "- train minibatches = 1\n",
      "- valid minibatches = 1\n",
      "- test minibatches = 1\n"
     ]
    },
    {
     "data": {
      "application/vnd.jupyter.widget-view+json": {
       "model_id": "95e448f2c61b4298b29b55aec6212fa7",
       "version_major": 2,
       "version_minor": 0
      },
      "text/plain": [
       "HBox(children=(HTML(value='Epochs loop'), FloatProgress(value=0.0, max=15000.0), HTML(value='')))"
      ]
     },
     "metadata": {},
     "output_type": "display_data"
    },
    {
     "name": "stdout",
     "output_type": "stream",
     "text": [
      "\n",
      "Summary:\n",
      "-learning rate = 0.01710\n",
      "-Model saved after iteration 14.\n",
      "-Train.  Loss=0.2159340\n",
      "-Valid.  Loss=0.6612001\n",
      "'train_loss_forward_11.csv' saved.\n",
      "'valid_loss_forward_11.csv' saved.\n",
      "'model06_forward_11_last.pth' saved.\n",
      "'model06_forward_11_best.pth' saved.\n",
      "- train minibatches = 1\n",
      "- valid minibatches = 1\n",
      "- test minibatches = 1\n"
     ]
    },
    {
     "data": {
      "application/vnd.jupyter.widget-view+json": {
       "model_id": "62ff9e4b6b9347dfb81d0332d0ce9853",
       "version_major": 2,
       "version_minor": 0
      },
      "text/plain": [
       "HBox(children=(HTML(value='Epochs loop'), FloatProgress(value=0.0, max=15000.0), HTML(value='')))"
      ]
     },
     "metadata": {},
     "output_type": "display_data"
    },
    {
     "name": "stdout",
     "output_type": "stream",
     "text": [
      "\n",
      "Summary:\n",
      "-learning rate = 0.01710\n",
      "-Model saved after iteration 10311.\n",
      "-Train.  Loss=0.0029915\n",
      "-Valid.  Loss=0.4067538\n",
      "'train_loss_forward_12.csv' saved.\n",
      "'valid_loss_forward_12.csv' saved.\n",
      "'model06_forward_12_last.pth' saved.\n",
      "'model06_forward_12_best.pth' saved.\n",
      "- train minibatches = 1\n",
      "- valid minibatches = 1\n",
      "- test minibatches = 1\n"
     ]
    },
    {
     "data": {
      "application/vnd.jupyter.widget-view+json": {
       "model_id": "c8a39a0d728f4bd5becf402ffb1e350a",
       "version_major": 2,
       "version_minor": 0
      },
      "text/plain": [
       "HBox(children=(HTML(value='Epochs loop'), FloatProgress(value=0.0, max=15000.0), HTML(value='')))"
      ]
     },
     "metadata": {},
     "output_type": "display_data"
    },
    {
     "name": "stdout",
     "output_type": "stream",
     "text": [
      "\n",
      "Summary:\n",
      "-learning rate = 0.01710\n",
      "-Model saved after iteration 5.\n",
      "-Train.  Loss=0.4997804\n",
      "-Valid.  Loss=0.6510047\n",
      "'train_loss_forward_13.csv' saved.\n",
      "'valid_loss_forward_13.csv' saved.\n",
      "'model06_forward_13_last.pth' saved.\n",
      "'model06_forward_13_best.pth' saved.\n",
      "- train minibatches = 1\n",
      "- valid minibatches = 1\n",
      "- test minibatches = 1\n"
     ]
    },
    {
     "data": {
      "application/vnd.jupyter.widget-view+json": {
       "model_id": "fa51df75f6624f2ba1e3c2f0f3c8fd6d",
       "version_major": 2,
       "version_minor": 0
      },
      "text/plain": [
       "HBox(children=(HTML(value='Epochs loop'), FloatProgress(value=0.0, max=15000.0), HTML(value='')))"
      ]
     },
     "metadata": {},
     "output_type": "display_data"
    },
    {
     "name": "stdout",
     "output_type": "stream",
     "text": [
      "\n",
      "Summary:\n",
      "-learning rate = 0.01710\n",
      "-Model saved after iteration 74.\n",
      "-Train.  Loss=0.0962357\n",
      "-Valid.  Loss=0.3993062\n",
      "'train_loss_forward_14.csv' saved.\n",
      "'valid_loss_forward_14.csv' saved.\n",
      "'model06_forward_14_last.pth' saved.\n",
      "'model06_forward_14_best.pth' saved.\n",
      "- train minibatches = 1\n",
      "- valid minibatches = 1\n",
      "- test minibatches = 1\n"
     ]
    },
    {
     "data": {
      "application/vnd.jupyter.widget-view+json": {
       "model_id": "85ed8147c03b4f8ca731b8bc2bc256af",
       "version_major": 2,
       "version_minor": 0
      },
      "text/plain": [
       "HBox(children=(HTML(value='Epochs loop'), FloatProgress(value=0.0, max=15000.0), HTML(value='')))"
      ]
     },
     "metadata": {},
     "output_type": "display_data"
    },
    {
     "name": "stdout",
     "output_type": "stream",
     "text": [
      "\n",
      "Summary:\n",
      "-learning rate = 0.01710\n",
      "-Model saved after iteration 10.\n",
      "-Train.  Loss=0.3533938\n",
      "-Valid.  Loss=0.4691718\n",
      "'train_loss_forward_15.csv' saved.\n",
      "'valid_loss_forward_15.csv' saved.\n",
      "'model06_forward_15_last.pth' saved.\n",
      "'model06_forward_15_best.pth' saved.\n",
      "- train minibatches = 1\n",
      "- valid minibatches = 1\n",
      "- test minibatches = 1\n"
     ]
    },
    {
     "data": {
      "application/vnd.jupyter.widget-view+json": {
       "model_id": "7f1c234996c849349244ceccc627cfa2",
       "version_major": 2,
       "version_minor": 0
      },
      "text/plain": [
       "HBox(children=(HTML(value='Epochs loop'), FloatProgress(value=0.0, max=15000.0), HTML(value='')))"
      ]
     },
     "metadata": {},
     "output_type": "display_data"
    },
    {
     "name": "stdout",
     "output_type": "stream",
     "text": [
      "\n",
      "Summary:\n",
      "-learning rate = 0.01710\n",
      "-Model saved after iteration 9.\n",
      "-Train.  Loss=0.2362533\n",
      "-Valid.  Loss=0.5018934\n",
      "'train_loss_forward_16.csv' saved.\n",
      "'valid_loss_forward_16.csv' saved.\n",
      "'model06_forward_16_last.pth' saved.\n",
      "'model06_forward_16_best.pth' saved.\n",
      "- train minibatches = 1\n",
      "- valid minibatches = 1\n",
      "- test minibatches = 1\n"
     ]
    },
    {
     "data": {
      "application/vnd.jupyter.widget-view+json": {
       "model_id": "653ad763ce0645b0999750c0ae3cb15e",
       "version_major": 2,
       "version_minor": 0
      },
      "text/plain": [
       "HBox(children=(HTML(value='Epochs loop'), FloatProgress(value=0.0, max=15000.0), HTML(value='')))"
      ]
     },
     "metadata": {},
     "output_type": "display_data"
    },
    {
     "name": "stdout",
     "output_type": "stream",
     "text": [
      "\n",
      "Summary:\n",
      "-learning rate = 0.01710\n",
      "-Model saved after iteration 245.\n",
      "-Train.  Loss=0.0056387\n",
      "-Valid.  Loss=0.3289688\n",
      "'train_loss_forward_17.csv' saved.\n",
      "'valid_loss_forward_17.csv' saved.\n",
      "'model06_forward_17_last.pth' saved.\n",
      "'model06_forward_17_best.pth' saved.\n",
      "- train minibatches = 1\n",
      "- valid minibatches = 1\n",
      "- test minibatches = 1\n"
     ]
    },
    {
     "data": {
      "application/vnd.jupyter.widget-view+json": {
       "model_id": "d1be29fd85e04e86a3a647a84758db77",
       "version_major": 2,
       "version_minor": 0
      },
      "text/plain": [
       "HBox(children=(HTML(value='Epochs loop'), FloatProgress(value=0.0, max=15000.0), HTML(value='')))"
      ]
     },
     "metadata": {},
     "output_type": "display_data"
    },
    {
     "name": "stdout",
     "output_type": "stream",
     "text": [
      "\n",
      "Summary:\n",
      "-learning rate = 0.01710\n",
      "-Model saved after iteration 44.\n",
      "-Train.  Loss=0.1368073\n",
      "-Valid.  Loss=0.5412322\n",
      "'train_loss_forward_18.csv' saved.\n",
      "'valid_loss_forward_18.csv' saved.\n",
      "'model06_forward_18_last.pth' saved.\n",
      "'model06_forward_18_best.pth' saved.\n",
      "- train minibatches = 1\n",
      "- valid minibatches = 1\n",
      "- test minibatches = 1\n"
     ]
    },
    {
     "data": {
      "application/vnd.jupyter.widget-view+json": {
       "model_id": "0c6db27c2eb440b7a80cee34d42b05ae",
       "version_major": 2,
       "version_minor": 0
      },
      "text/plain": [
       "HBox(children=(HTML(value='Epochs loop'), FloatProgress(value=0.0, max=15000.0), HTML(value='')))"
      ]
     },
     "metadata": {},
     "output_type": "display_data"
    },
    {
     "name": "stdout",
     "output_type": "stream",
     "text": [
      "\n",
      "Summary:\n",
      "-learning rate = 0.01710\n",
      "-Model saved after iteration 2.\n",
      "-Train.  Loss=0.5898141\n",
      "-Valid.  Loss=0.8721586\n",
      "'train_loss_forward_19.csv' saved.\n",
      "'valid_loss_forward_19.csv' saved.\n",
      "'model06_forward_19_last.pth' saved.\n",
      "'model06_forward_19_best.pth' saved.\n",
      "- train minibatches = 1\n",
      "- valid minibatches = 1\n",
      "- test minibatches = 1\n"
     ]
    },
    {
     "data": {
      "application/vnd.jupyter.widget-view+json": {
       "model_id": "c4c3402153044e758ce863f07cea960c",
       "version_major": 2,
       "version_minor": 0
      },
      "text/plain": [
       "HBox(children=(HTML(value='Epochs loop'), FloatProgress(value=0.0, max=15000.0), HTML(value='')))"
      ]
     },
     "metadata": {},
     "output_type": "display_data"
    },
    {
     "name": "stdout",
     "output_type": "stream",
     "text": [
      "\n",
      "Summary:\n",
      "-learning rate = 0.01710\n",
      "-Model saved after iteration 221.\n",
      "-Train.  Loss=0.0094857\n",
      "-Valid.  Loss=0.3093500\n",
      "'train_loss_forward_20.csv' saved.\n",
      "'valid_loss_forward_20.csv' saved.\n",
      "'model06_forward_20_last.pth' saved.\n",
      "'model06_forward_20_best.pth' saved.\n",
      "- train minibatches = 1\n",
      "- valid minibatches = 1\n",
      "- test minibatches = 1\n"
     ]
    },
    {
     "data": {
      "application/vnd.jupyter.widget-view+json": {
       "model_id": "d21adb8f20834275b145ae2259e58df7",
       "version_major": 2,
       "version_minor": 0
      },
      "text/plain": [
       "HBox(children=(HTML(value='Epochs loop'), FloatProgress(value=0.0, max=15000.0), HTML(value='')))"
      ]
     },
     "metadata": {},
     "output_type": "display_data"
    },
    {
     "name": "stdout",
     "output_type": "stream",
     "text": [
      "\n",
      "Summary:\n",
      "-learning rate = 0.01710\n",
      "-Model saved after iteration 30.\n",
      "-Train.  Loss=0.1397514\n",
      "-Valid.  Loss=0.4048398\n",
      "'train_loss_forward_21.csv' saved.\n",
      "'valid_loss_forward_21.csv' saved.\n",
      "'model06_forward_21_last.pth' saved.\n",
      "'model06_forward_21_best.pth' saved.\n",
      "- train minibatches = 1\n",
      "- valid minibatches = 1\n",
      "- test minibatches = 1\n"
     ]
    },
    {
     "data": {
      "application/vnd.jupyter.widget-view+json": {
       "model_id": "9c4b3aad958b47889086d6933ec6b551",
       "version_major": 2,
       "version_minor": 0
      },
      "text/plain": [
       "HBox(children=(HTML(value='Epochs loop'), FloatProgress(value=0.0, max=15000.0), HTML(value='')))"
      ]
     },
     "metadata": {},
     "output_type": "display_data"
    },
    {
     "name": "stdout",
     "output_type": "stream",
     "text": [
      "\n",
      "Summary:\n",
      "-learning rate = 0.01710\n",
      "-Model saved after iteration 12.\n",
      "-Train.  Loss=0.3000487\n",
      "-Valid.  Loss=0.4789959\n",
      "'train_loss_forward_22.csv' saved.\n",
      "'valid_loss_forward_22.csv' saved.\n",
      "'model06_forward_22_last.pth' saved.\n",
      "'model06_forward_22_best.pth' saved.\n",
      "- train minibatches = 1\n",
      "- valid minibatches = 1\n",
      "- test minibatches = 1\n"
     ]
    },
    {
     "data": {
      "application/vnd.jupyter.widget-view+json": {
       "model_id": "061ecc47a8c0431782cd58c27de8ba12",
       "version_major": 2,
       "version_minor": 0
      },
      "text/plain": [
       "HBox(children=(HTML(value='Epochs loop'), FloatProgress(value=0.0, max=15000.0), HTML(value='')))"
      ]
     },
     "metadata": {},
     "output_type": "display_data"
    },
    {
     "name": "stdout",
     "output_type": "stream",
     "text": [
      "\n",
      "Summary:\n",
      "-learning rate = 0.01710\n",
      "-Model saved after iteration 9.\n",
      "-Train.  Loss=0.2850294\n",
      "-Valid.  Loss=0.4762163\n",
      "'train_loss_forward_23.csv' saved.\n",
      "'valid_loss_forward_23.csv' saved.\n",
      "'model06_forward_23_last.pth' saved.\n",
      "'model06_forward_23_best.pth' saved.\n",
      "- train minibatches = 1\n",
      "- valid minibatches = 1\n",
      "- test minibatches = 1\n"
     ]
    },
    {
     "data": {
      "application/vnd.jupyter.widget-view+json": {
       "model_id": "0c6ead8732d9416e9563eb2c59d5b506",
       "version_major": 2,
       "version_minor": 0
      },
      "text/plain": [
       "HBox(children=(HTML(value='Epochs loop'), FloatProgress(value=0.0, max=15000.0), HTML(value='')))"
      ]
     },
     "metadata": {},
     "output_type": "display_data"
    },
    {
     "name": "stdout",
     "output_type": "stream",
     "text": [
      "\n",
      "Summary:\n",
      "-learning rate = 0.01710\n",
      "-Model saved after iteration 756.\n",
      "-Train.  Loss=0.0437677\n",
      "-Valid.  Loss=0.5591820\n",
      "'train_loss_forward_24.csv' saved.\n",
      "'valid_loss_forward_24.csv' saved.\n",
      "'model06_forward_24_last.pth' saved.\n",
      "'model06_forward_24_best.pth' saved.\n",
      "- train minibatches = 1\n",
      "- valid minibatches = 1\n",
      "- test minibatches = 1\n"
     ]
    },
    {
     "data": {
      "application/vnd.jupyter.widget-view+json": {
       "model_id": "6cb2dc1b192544eb82a606fc5228a132",
       "version_major": 2,
       "version_minor": 0
      },
      "text/plain": [
       "HBox(children=(HTML(value='Epochs loop'), FloatProgress(value=0.0, max=15000.0), HTML(value='')))"
      ]
     },
     "metadata": {},
     "output_type": "display_data"
    },
    {
     "name": "stdout",
     "output_type": "stream",
     "text": [
      "\n",
      "Summary:\n",
      "-learning rate = 0.01710\n",
      "-Model saved after iteration 9.\n",
      "-Train.  Loss=0.2884051\n",
      "-Valid.  Loss=0.5818654\n",
      "'train_loss_forward_25.csv' saved.\n",
      "'valid_loss_forward_25.csv' saved.\n",
      "'model06_forward_25_last.pth' saved.\n",
      "'model06_forward_25_best.pth' saved.\n",
      "- train minibatches = 1\n",
      "- valid minibatches = 1\n",
      "- test minibatches = 1\n"
     ]
    },
    {
     "data": {
      "application/vnd.jupyter.widget-view+json": {
       "model_id": "b12043b8df064fbe8fda667883c550c4",
       "version_major": 2,
       "version_minor": 0
      },
      "text/plain": [
       "HBox(children=(HTML(value='Epochs loop'), FloatProgress(value=0.0, max=15000.0), HTML(value='')))"
      ]
     },
     "metadata": {},
     "output_type": "display_data"
    },
    {
     "name": "stdout",
     "output_type": "stream",
     "text": [
      "\n",
      "Summary:\n",
      "-learning rate = 0.01710\n",
      "-Model saved after iteration 14.\n",
      "-Train.  Loss=0.3004066\n",
      "-Valid.  Loss=0.5413464\n",
      "'train_loss_forward_26.csv' saved.\n",
      "'valid_loss_forward_26.csv' saved.\n",
      "'model06_forward_26_last.pth' saved.\n",
      "'model06_forward_26_best.pth' saved.\n",
      "- train minibatches = 1\n",
      "- valid minibatches = 1\n",
      "- test minibatches = 1\n"
     ]
    },
    {
     "data": {
      "application/vnd.jupyter.widget-view+json": {
       "model_id": "21792f3f23de4aefaf013382b9d29d66",
       "version_major": 2,
       "version_minor": 0
      },
      "text/plain": [
       "HBox(children=(HTML(value='Epochs loop'), FloatProgress(value=0.0, max=15000.0), HTML(value='')))"
      ]
     },
     "metadata": {},
     "output_type": "display_data"
    },
    {
     "name": "stdout",
     "output_type": "stream",
     "text": [
      "\n",
      "Summary:\n",
      "-learning rate = 0.01710\n",
      "-Model saved after iteration 205.\n",
      "-Train.  Loss=0.0446938\n",
      "-Valid.  Loss=0.6464925\n",
      "'train_loss_forward_27.csv' saved.\n",
      "'valid_loss_forward_27.csv' saved.\n",
      "'model06_forward_27_last.pth' saved.\n",
      "'model06_forward_27_best.pth' saved.\n",
      "- train minibatches = 1\n",
      "- valid minibatches = 1\n",
      "- test minibatches = 1\n"
     ]
    },
    {
     "data": {
      "application/vnd.jupyter.widget-view+json": {
       "model_id": "9c9f81cf7973438d8064e25a0a57e352",
       "version_major": 2,
       "version_minor": 0
      },
      "text/plain": [
       "HBox(children=(HTML(value='Epochs loop'), FloatProgress(value=0.0, max=15000.0), HTML(value='')))"
      ]
     },
     "metadata": {},
     "output_type": "display_data"
    },
    {
     "name": "stdout",
     "output_type": "stream",
     "text": [
      "\n",
      "Summary:\n",
      "-learning rate = 0.01710\n",
      "-Model saved after iteration 42.\n",
      "-Train.  Loss=0.1106884\n",
      "-Valid.  Loss=0.3668635\n",
      "'train_loss_forward_28.csv' saved.\n",
      "'valid_loss_forward_28.csv' saved.\n",
      "'model06_forward_28_last.pth' saved.\n",
      "'model06_forward_28_best.pth' saved.\n",
      "- train minibatches = 1\n",
      "- valid minibatches = 1\n",
      "- test minibatches = 1\n"
     ]
    },
    {
     "data": {
      "application/vnd.jupyter.widget-view+json": {
       "model_id": "41b63805b3494b1b96450f71c415e9c6",
       "version_major": 2,
       "version_minor": 0
      },
      "text/plain": [
       "HBox(children=(HTML(value='Epochs loop'), FloatProgress(value=0.0, max=15000.0), HTML(value='')))"
      ]
     },
     "metadata": {},
     "output_type": "display_data"
    },
    {
     "name": "stdout",
     "output_type": "stream",
     "text": [
      "\n",
      "Summary:\n",
      "-learning rate = 0.01710\n",
      "-Model saved after iteration 33.\n",
      "-Train.  Loss=0.1464351\n",
      "-Valid.  Loss=0.4961539\n",
      "'train_loss_forward_29.csv' saved.\n",
      "'valid_loss_forward_29.csv' saved.\n",
      "'model06_forward_29_last.pth' saved.\n",
      "'model06_forward_29_best.pth' saved.\n",
      "- train minibatches = 1\n",
      "- valid minibatches = 1\n",
      "- test minibatches = 1\n"
     ]
    },
    {
     "data": {
      "application/vnd.jupyter.widget-view+json": {
       "model_id": "d29cfae1c49a4f7892bcd12141d31e78",
       "version_major": 2,
       "version_minor": 0
      },
      "text/plain": [
       "HBox(children=(HTML(value='Epochs loop'), FloatProgress(value=0.0, max=15000.0), HTML(value='')))"
      ]
     },
     "metadata": {},
     "output_type": "display_data"
    },
    {
     "name": "stdout",
     "output_type": "stream",
     "text": [
      "\n",
      "Summary:\n",
      "-learning rate = 0.01710\n",
      "-Model saved after iteration 13.\n",
      "-Train.  Loss=0.3710419\n",
      "-Valid.  Loss=0.6998602\n",
      "'train_loss_forward_30.csv' saved.\n",
      "'valid_loss_forward_30.csv' saved.\n",
      "'model06_forward_30_last.pth' saved.\n",
      "'model06_forward_30_best.pth' saved.\n",
      "- train minibatches = 1\n",
      "- valid minibatches = 1\n",
      "- test minibatches = 1\n"
     ]
    },
    {
     "data": {
      "application/vnd.jupyter.widget-view+json": {
       "model_id": "daf12e96f89f43cd9dbb66b60913ba17",
       "version_major": 2,
       "version_minor": 0
      },
      "text/plain": [
       "HBox(children=(HTML(value='Epochs loop'), FloatProgress(value=0.0, max=15000.0), HTML(value='')))"
      ]
     },
     "metadata": {},
     "output_type": "display_data"
    },
    {
     "name": "stdout",
     "output_type": "stream",
     "text": [
      "\n",
      "Summary:\n",
      "-learning rate = 0.01710\n",
      "-Model saved after iteration 72.\n",
      "-Train.  Loss=0.0287939\n",
      "-Valid.  Loss=0.4562552\n",
      "'train_loss_forward_31.csv' saved.\n",
      "'valid_loss_forward_31.csv' saved.\n",
      "'model06_forward_31_last.pth' saved.\n",
      "'model06_forward_31_best.pth' saved.\n",
      "- train minibatches = 1\n",
      "- valid minibatches = 1\n",
      "- test minibatches = 1\n"
     ]
    },
    {
     "data": {
      "application/vnd.jupyter.widget-view+json": {
       "model_id": "0bd98c955d0a4172933a95e02ff0ca82",
       "version_major": 2,
       "version_minor": 0
      },
      "text/plain": [
       "HBox(children=(HTML(value='Epochs loop'), FloatProgress(value=0.0, max=15000.0), HTML(value='')))"
      ]
     },
     "metadata": {},
     "output_type": "display_data"
    },
    {
     "name": "stdout",
     "output_type": "stream",
     "text": [
      "\n",
      "Summary:\n",
      "-learning rate = 0.01710\n",
      "-Model saved after iteration 170.\n",
      "-Train.  Loss=0.0591219\n",
      "-Valid.  Loss=0.3781465\n",
      "'train_loss_forward_32.csv' saved.\n",
      "'valid_loss_forward_32.csv' saved.\n",
      "'model06_forward_32_last.pth' saved.\n",
      "'model06_forward_32_best.pth' saved.\n",
      "- train minibatches = 1\n",
      "- valid minibatches = 1\n",
      "- test minibatches = 1\n"
     ]
    },
    {
     "data": {
      "application/vnd.jupyter.widget-view+json": {
       "model_id": "817b86f2c1b44aa9b8297b64f63f015f",
       "version_major": 2,
       "version_minor": 0
      },
      "text/plain": [
       "HBox(children=(HTML(value='Epochs loop'), FloatProgress(value=0.0, max=15000.0), HTML(value='')))"
      ]
     },
     "metadata": {},
     "output_type": "display_data"
    },
    {
     "name": "stdout",
     "output_type": "stream",
     "text": [
      "\n",
      "Summary:\n",
      "-learning rate = 0.01710\n",
      "-Model saved after iteration 132.\n",
      "-Train.  Loss=0.0571955\n",
      "-Valid.  Loss=0.3455334\n",
      "'train_loss_forward_33.csv' saved.\n",
      "'valid_loss_forward_33.csv' saved.\n",
      "'model06_forward_33_last.pth' saved.\n",
      "'model06_forward_33_best.pth' saved.\n",
      "- train minibatches = 1\n",
      "- valid minibatches = 1\n",
      "- test minibatches = 1\n"
     ]
    },
    {
     "data": {
      "application/vnd.jupyter.widget-view+json": {
       "model_id": "b0590d68a1f448e1981be21694fb65c6",
       "version_major": 2,
       "version_minor": 0
      },
      "text/plain": [
       "HBox(children=(HTML(value='Epochs loop'), FloatProgress(value=0.0, max=15000.0), HTML(value='')))"
      ]
     },
     "metadata": {},
     "output_type": "display_data"
    },
    {
     "name": "stdout",
     "output_type": "stream",
     "text": [
      "\n",
      "Summary:\n",
      "-learning rate = 0.01710\n",
      "-Model saved after iteration 35.\n",
      "-Train.  Loss=0.0747577\n",
      "-Valid.  Loss=0.4157161\n",
      "'train_loss_forward_34.csv' saved.\n",
      "'valid_loss_forward_34.csv' saved.\n",
      "'model06_forward_34_last.pth' saved.\n",
      "'model06_forward_34_best.pth' saved.\n",
      "- train minibatches = 1\n",
      "- valid minibatches = 1\n",
      "- test minibatches = 1\n"
     ]
    },
    {
     "data": {
      "application/vnd.jupyter.widget-view+json": {
       "model_id": "9c7b7ee3cf184c49bc373017e10da507",
       "version_major": 2,
       "version_minor": 0
      },
      "text/plain": [
       "HBox(children=(HTML(value='Epochs loop'), FloatProgress(value=0.0, max=15000.0), HTML(value='')))"
      ]
     },
     "metadata": {},
     "output_type": "display_data"
    },
    {
     "name": "stdout",
     "output_type": "stream",
     "text": [
      "\n",
      "Summary:\n",
      "-learning rate = 0.01710\n",
      "-Model saved after iteration 124.\n",
      "-Train.  Loss=0.0111732\n",
      "-Valid.  Loss=0.5612121\n",
      "'train_loss_forward_35.csv' saved.\n",
      "'valid_loss_forward_35.csv' saved.\n",
      "'model06_forward_35_last.pth' saved.\n",
      "'model06_forward_35_best.pth' saved.\n",
      "- train minibatches = 1\n",
      "- valid minibatches = 1\n",
      "- test minibatches = 1\n"
     ]
    },
    {
     "data": {
      "application/vnd.jupyter.widget-view+json": {
       "model_id": "3fd46b52602044e0b1ba9bb0c1857b22",
       "version_major": 2,
       "version_minor": 0
      },
      "text/plain": [
       "HBox(children=(HTML(value='Epochs loop'), FloatProgress(value=0.0, max=15000.0), HTML(value='')))"
      ]
     },
     "metadata": {},
     "output_type": "display_data"
    },
    {
     "name": "stdout",
     "output_type": "stream",
     "text": [
      "\n",
      "Summary:\n",
      "-learning rate = 0.01710\n",
      "-Model saved after iteration 41.\n",
      "-Train.  Loss=0.1128987\n",
      "-Valid.  Loss=0.4786746\n",
      "'train_loss_forward_36.csv' saved.\n",
      "'valid_loss_forward_36.csv' saved.\n",
      "'model06_forward_36_last.pth' saved.\n",
      "'model06_forward_36_best.pth' saved.\n",
      "- train minibatches = 1\n",
      "- valid minibatches = 1\n",
      "- test minibatches = 1\n"
     ]
    },
    {
     "data": {
      "application/vnd.jupyter.widget-view+json": {
       "model_id": "149c5e5184c9427aa53d465563100c49",
       "version_major": 2,
       "version_minor": 0
      },
      "text/plain": [
       "HBox(children=(HTML(value='Epochs loop'), FloatProgress(value=0.0, max=15000.0), HTML(value='')))"
      ]
     },
     "metadata": {},
     "output_type": "display_data"
    },
    {
     "name": "stdout",
     "output_type": "stream",
     "text": [
      "\n",
      "Summary:\n",
      "-learning rate = 0.01710\n",
      "-Model saved after iteration 7.\n",
      "-Train.  Loss=0.3069280\n",
      "-Valid.  Loss=0.4914157\n",
      "'train_loss_forward_37.csv' saved.\n",
      "'valid_loss_forward_37.csv' saved.\n",
      "'model06_forward_37_last.pth' saved.\n",
      "'model06_forward_37_best.pth' saved.\n",
      "- train minibatches = 1\n",
      "- valid minibatches = 1\n",
      "- test minibatches = 1\n"
     ]
    },
    {
     "data": {
      "application/vnd.jupyter.widget-view+json": {
       "model_id": "6fbfa0ff13534f9189dded52b32f666f",
       "version_major": 2,
       "version_minor": 0
      },
      "text/plain": [
       "HBox(children=(HTML(value='Epochs loop'), FloatProgress(value=0.0, max=15000.0), HTML(value='')))"
      ]
     },
     "metadata": {},
     "output_type": "display_data"
    },
    {
     "name": "stdout",
     "output_type": "stream",
     "text": [
      "\n",
      "Summary:\n",
      "-learning rate = 0.01710\n",
      "-Model saved after iteration 21.\n",
      "-Train.  Loss=0.1625314\n",
      "-Valid.  Loss=0.4524907\n",
      "'train_loss_forward_38.csv' saved.\n",
      "'valid_loss_forward_38.csv' saved.\n",
      "'model06_forward_38_last.pth' saved.\n",
      "'model06_forward_38_best.pth' saved.\n",
      "- train minibatches = 1\n",
      "- valid minibatches = 1\n",
      "- test minibatches = 1\n"
     ]
    },
    {
     "data": {
      "application/vnd.jupyter.widget-view+json": {
       "model_id": "2191f24888fa459293535e2dc5ef19d4",
       "version_major": 2,
       "version_minor": 0
      },
      "text/plain": [
       "HBox(children=(HTML(value='Epochs loop'), FloatProgress(value=0.0, max=15000.0), HTML(value='')))"
      ]
     },
     "metadata": {},
     "output_type": "display_data"
    },
    {
     "name": "stdout",
     "output_type": "stream",
     "text": [
      "\n",
      "Summary:\n",
      "-learning rate = 0.01710\n",
      "-Model saved after iteration 211.\n",
      "-Train.  Loss=0.0095636\n",
      "-Valid.  Loss=0.5218571\n",
      "'train_loss_forward_39.csv' saved.\n",
      "'valid_loss_forward_39.csv' saved.\n",
      "'model06_forward_39_last.pth' saved.\n",
      "'model06_forward_39_best.pth' saved.\n",
      "- train minibatches = 1\n",
      "- valid minibatches = 1\n",
      "- test minibatches = 1\n"
     ]
    },
    {
     "data": {
      "application/vnd.jupyter.widget-view+json": {
       "model_id": "6562183e4ebc43dab1835f0f8090d3e9",
       "version_major": 2,
       "version_minor": 0
      },
      "text/plain": [
       "HBox(children=(HTML(value='Epochs loop'), FloatProgress(value=0.0, max=15000.0), HTML(value='')))"
      ]
     },
     "metadata": {},
     "output_type": "display_data"
    },
    {
     "name": "stdout",
     "output_type": "stream",
     "text": [
      "\n",
      "Summary:\n",
      "-learning rate = 0.01710\n",
      "-Model saved after iteration 37.\n",
      "-Train.  Loss=0.0742183\n",
      "-Valid.  Loss=0.6138958\n",
      "'train_loss_forward_40.csv' saved.\n",
      "'valid_loss_forward_40.csv' saved.\n",
      "'model06_forward_40_last.pth' saved.\n",
      "'model06_forward_40_best.pth' saved.\n",
      "- train minibatches = 1\n",
      "- valid minibatches = 1\n",
      "- test minibatches = 1\n"
     ]
    },
    {
     "data": {
      "application/vnd.jupyter.widget-view+json": {
       "model_id": "7be793877c7c485e9c3a17a5defb1512",
       "version_major": 2,
       "version_minor": 0
      },
      "text/plain": [
       "HBox(children=(HTML(value='Epochs loop'), FloatProgress(value=0.0, max=15000.0), HTML(value='')))"
      ]
     },
     "metadata": {},
     "output_type": "display_data"
    },
    {
     "name": "stdout",
     "output_type": "stream",
     "text": [
      "\n",
      "Summary:\n",
      "-learning rate = 0.01710\n",
      "-Model saved after iteration 14981.\n",
      "-Train.  Loss=0.0021020\n",
      "-Valid.  Loss=0.2272696\n",
      "'train_loss_forward_41.csv' saved.\n",
      "'valid_loss_forward_41.csv' saved.\n",
      "'model06_forward_41_last.pth' saved.\n",
      "'model06_forward_41_best.pth' saved.\n",
      "- train minibatches = 1\n",
      "- valid minibatches = 1\n",
      "- test minibatches = 1\n"
     ]
    },
    {
     "data": {
      "application/vnd.jupyter.widget-view+json": {
       "model_id": "2a112fed32714be1918d28fc705440c0",
       "version_major": 2,
       "version_minor": 0
      },
      "text/plain": [
       "HBox(children=(HTML(value='Epochs loop'), FloatProgress(value=0.0, max=15000.0), HTML(value='')))"
      ]
     },
     "metadata": {},
     "output_type": "display_data"
    },
    {
     "name": "stdout",
     "output_type": "stream",
     "text": [
      "\n",
      "Summary:\n",
      "-learning rate = 0.01710\n",
      "-Model saved after iteration 9.\n",
      "-Train.  Loss=0.3420520\n",
      "-Valid.  Loss=0.5686225\n",
      "'train_loss_forward_42.csv' saved.\n",
      "'valid_loss_forward_42.csv' saved.\n",
      "'model06_forward_42_last.pth' saved.\n",
      "'model06_forward_42_best.pth' saved.\n",
      "- train minibatches = 1\n",
      "- valid minibatches = 1\n",
      "- test minibatches = 1\n"
     ]
    },
    {
     "data": {
      "application/vnd.jupyter.widget-view+json": {
       "model_id": "85fb7d32dc2d419382aa727cff741d9f",
       "version_major": 2,
       "version_minor": 0
      },
      "text/plain": [
       "HBox(children=(HTML(value='Epochs loop'), FloatProgress(value=0.0, max=15000.0), HTML(value='')))"
      ]
     },
     "metadata": {},
     "output_type": "display_data"
    },
    {
     "name": "stdout",
     "output_type": "stream",
     "text": [
      "\n",
      "Summary:\n",
      "-learning rate = 0.01710\n",
      "-Model saved after iteration 20.\n",
      "-Train.  Loss=0.2317518\n",
      "-Valid.  Loss=0.4857933\n",
      "'train_loss_forward_43.csv' saved.\n",
      "'valid_loss_forward_43.csv' saved.\n",
      "'model06_forward_43_last.pth' saved.\n",
      "'model06_forward_43_best.pth' saved.\n",
      "- train minibatches = 1\n",
      "- valid minibatches = 1\n",
      "- test minibatches = 1\n"
     ]
    },
    {
     "data": {
      "application/vnd.jupyter.widget-view+json": {
       "model_id": "65f4bd28a8954ecca926ca131368edd4",
       "version_major": 2,
       "version_minor": 0
      },
      "text/plain": [
       "HBox(children=(HTML(value='Epochs loop'), FloatProgress(value=0.0, max=15000.0), HTML(value='')))"
      ]
     },
     "metadata": {},
     "output_type": "display_data"
    },
    {
     "name": "stdout",
     "output_type": "stream",
     "text": [
      "\n",
      "Summary:\n",
      "-learning rate = 0.01710\n",
      "-Model saved after iteration 19.\n",
      "-Train.  Loss=0.2039018\n",
      "-Valid.  Loss=0.5644943\n",
      "'train_loss_forward_44.csv' saved.\n",
      "'valid_loss_forward_44.csv' saved.\n",
      "'model06_forward_44_last.pth' saved.\n",
      "'model06_forward_44_best.pth' saved.\n",
      "- train minibatches = 1\n",
      "- valid minibatches = 1\n",
      "- test minibatches = 1\n"
     ]
    },
    {
     "data": {
      "application/vnd.jupyter.widget-view+json": {
       "model_id": "18c12e00f1704366b44a5320454d79de",
       "version_major": 2,
       "version_minor": 0
      },
      "text/plain": [
       "HBox(children=(HTML(value='Epochs loop'), FloatProgress(value=0.0, max=15000.0), HTML(value='')))"
      ]
     },
     "metadata": {},
     "output_type": "display_data"
    },
    {
     "name": "stdout",
     "output_type": "stream",
     "text": [
      "\n",
      "Summary:\n",
      "-learning rate = 0.01710\n",
      "-Model saved after iteration 21.\n",
      "-Train.  Loss=0.3318617\n",
      "-Valid.  Loss=0.5458124\n",
      "'train_loss_forward_45.csv' saved.\n",
      "'valid_loss_forward_45.csv' saved.\n",
      "'model06_forward_45_last.pth' saved.\n",
      "'model06_forward_45_best.pth' saved.\n",
      "- train minibatches = 1\n",
      "- valid minibatches = 1\n",
      "- test minibatches = 1\n"
     ]
    },
    {
     "data": {
      "application/vnd.jupyter.widget-view+json": {
       "model_id": "b734329a7768410591a557f55a26be49",
       "version_major": 2,
       "version_minor": 0
      },
      "text/plain": [
       "HBox(children=(HTML(value='Epochs loop'), FloatProgress(value=0.0, max=15000.0), HTML(value='')))"
      ]
     },
     "metadata": {},
     "output_type": "display_data"
    },
    {
     "name": "stdout",
     "output_type": "stream",
     "text": [
      "\n",
      "Summary:\n",
      "-learning rate = 0.01710\n",
      "-Model saved after iteration 18.\n",
      "-Train.  Loss=0.1277231\n",
      "-Valid.  Loss=0.5919380\n",
      "'train_loss_forward_46.csv' saved.\n",
      "'valid_loss_forward_46.csv' saved.\n",
      "'model06_forward_46_last.pth' saved.\n",
      "'model06_forward_46_best.pth' saved.\n",
      "- train minibatches = 1\n",
      "- valid minibatches = 1\n",
      "- test minibatches = 1\n"
     ]
    },
    {
     "data": {
      "application/vnd.jupyter.widget-view+json": {
       "model_id": "bc911fe9d843402cb11569dda74e332c",
       "version_major": 2,
       "version_minor": 0
      },
      "text/plain": [
       "HBox(children=(HTML(value='Epochs loop'), FloatProgress(value=0.0, max=15000.0), HTML(value='')))"
      ]
     },
     "metadata": {},
     "output_type": "display_data"
    },
    {
     "name": "stdout",
     "output_type": "stream",
     "text": [
      "\n",
      "Summary:\n",
      "-learning rate = 0.01710\n",
      "-Model saved after iteration 20.\n",
      "-Train.  Loss=0.1397563\n",
      "-Valid.  Loss=0.5638579\n",
      "'train_loss_forward_47.csv' saved.\n",
      "'valid_loss_forward_47.csv' saved.\n",
      "'model06_forward_47_last.pth' saved.\n",
      "'model06_forward_47_best.pth' saved.\n",
      "- train minibatches = 1\n",
      "- valid minibatches = 1\n",
      "- test minibatches = 1\n"
     ]
    },
    {
     "data": {
      "application/vnd.jupyter.widget-view+json": {
       "model_id": "403950d071b947a8bb119f7eb967573a",
       "version_major": 2,
       "version_minor": 0
      },
      "text/plain": [
       "HBox(children=(HTML(value='Epochs loop'), FloatProgress(value=0.0, max=15000.0), HTML(value='')))"
      ]
     },
     "metadata": {},
     "output_type": "display_data"
    },
    {
     "name": "stdout",
     "output_type": "stream",
     "text": [
      "\n",
      "Summary:\n",
      "-learning rate = 0.01710\n",
      "-Model saved after iteration 18.\n",
      "-Train.  Loss=0.2276023\n",
      "-Valid.  Loss=0.5010799\n",
      "'train_loss_forward_48.csv' saved.\n",
      "'valid_loss_forward_48.csv' saved.\n",
      "'model06_forward_48_last.pth' saved.\n",
      "'model06_forward_48_best.pth' saved.\n",
      "- train minibatches = 1\n",
      "- valid minibatches = 1\n",
      "- test minibatches = 1\n"
     ]
    },
    {
     "data": {
      "application/vnd.jupyter.widget-view+json": {
       "model_id": "21804cb500ad4139b06c66a8ee9f0a82",
       "version_major": 2,
       "version_minor": 0
      },
      "text/plain": [
       "HBox(children=(HTML(value='Epochs loop'), FloatProgress(value=0.0, max=15000.0), HTML(value='')))"
      ]
     },
     "metadata": {},
     "output_type": "display_data"
    },
    {
     "name": "stdout",
     "output_type": "stream",
     "text": [
      "\n",
      "Summary:\n",
      "-learning rate = 0.01710\n",
      "-Model saved after iteration 7.\n",
      "-Train.  Loss=0.3599285\n",
      "-Valid.  Loss=0.5539103\n",
      "'train_loss_forward_49.csv' saved.\n",
      "'valid_loss_forward_49.csv' saved.\n",
      "'model06_forward_49_last.pth' saved.\n",
      "'model06_forward_49_best.pth' saved.\n",
      "- train minibatches = 1\n",
      "- valid minibatches = 1\n",
      "- test minibatches = 1\n"
     ]
    },
    {
     "data": {
      "application/vnd.jupyter.widget-view+json": {
       "model_id": "a3e909508bc94ea08f1a1f00a166e07b",
       "version_major": 2,
       "version_minor": 0
      },
      "text/plain": [
       "HBox(children=(HTML(value='Epochs loop'), FloatProgress(value=0.0, max=15000.0), HTML(value='')))"
      ]
     },
     "metadata": {},
     "output_type": "display_data"
    },
    {
     "name": "stdout",
     "output_type": "stream",
     "text": [
      "\n",
      "Summary:\n",
      "-learning rate = 0.01710\n",
      "-Model saved after iteration 1.\n",
      "-Train.  Loss=0.7030081\n",
      "-Valid.  Loss=0.8603626\n",
      "'train_loss_forward_50.csv' saved.\n",
      "'valid_loss_forward_50.csv' saved.\n",
      "'model06_forward_50_last.pth' saved.\n",
      "'model06_forward_50_best.pth' saved.\n",
      "- train minibatches = 1\n",
      "- valid minibatches = 1\n",
      "- test minibatches = 1\n"
     ]
    },
    {
     "data": {
      "application/vnd.jupyter.widget-view+json": {
       "model_id": "8a2ac865bf3c4c5ab4fc79db5af19bd0",
       "version_major": 2,
       "version_minor": 0
      },
      "text/plain": [
       "HBox(children=(HTML(value='Epochs loop'), FloatProgress(value=0.0, max=15000.0), HTML(value='')))"
      ]
     },
     "metadata": {},
     "output_type": "display_data"
    },
    {
     "name": "stdout",
     "output_type": "stream",
     "text": [
      "\n",
      "Summary:\n",
      "-learning rate = 0.01710\n",
      "-Model saved after iteration 9.\n",
      "-Train.  Loss=0.2828182\n",
      "-Valid.  Loss=0.5855121\n",
      "'train_loss_forward_51.csv' saved.\n",
      "'valid_loss_forward_51.csv' saved.\n",
      "'model06_forward_51_last.pth' saved.\n",
      "'model06_forward_51_best.pth' saved.\n",
      "- train minibatches = 1\n",
      "- valid minibatches = 1\n",
      "- test minibatches = 1\n"
     ]
    },
    {
     "data": {
      "application/vnd.jupyter.widget-view+json": {
       "model_id": "60a8bd58065f4c97a1d0c7568154c21d",
       "version_major": 2,
       "version_minor": 0
      },
      "text/plain": [
       "HBox(children=(HTML(value='Epochs loop'), FloatProgress(value=0.0, max=15000.0), HTML(value='')))"
      ]
     },
     "metadata": {},
     "output_type": "display_data"
    },
    {
     "name": "stdout",
     "output_type": "stream",
     "text": [
      "\n",
      "Summary:\n",
      "-learning rate = 0.01710\n",
      "-Model saved after iteration 17.\n",
      "-Train.  Loss=0.1455900\n",
      "-Valid.  Loss=0.3944448\n",
      "'train_loss_forward_52.csv' saved.\n",
      "'valid_loss_forward_52.csv' saved.\n",
      "'model06_forward_52_last.pth' saved.\n",
      "'model06_forward_52_best.pth' saved.\n",
      "- train minibatches = 1\n",
      "- valid minibatches = 1\n",
      "- test minibatches = 1\n"
     ]
    },
    {
     "data": {
      "application/vnd.jupyter.widget-view+json": {
       "model_id": "41553e91339c41fd90cd0945887eab1d",
       "version_major": 2,
       "version_minor": 0
      },
      "text/plain": [
       "HBox(children=(HTML(value='Epochs loop'), FloatProgress(value=0.0, max=15000.0), HTML(value='')))"
      ]
     },
     "metadata": {},
     "output_type": "display_data"
    },
    {
     "name": "stdout",
     "output_type": "stream",
     "text": [
      "\n",
      "Summary:\n",
      "-learning rate = 0.01710\n",
      "-Model saved after iteration 236.\n",
      "-Train.  Loss=0.0056275\n",
      "-Valid.  Loss=0.3856663\n",
      "'train_loss_forward_53.csv' saved.\n",
      "'valid_loss_forward_53.csv' saved.\n",
      "'model06_forward_53_last.pth' saved.\n",
      "'model06_forward_53_best.pth' saved.\n",
      "- train minibatches = 1\n",
      "- valid minibatches = 1\n",
      "- test minibatches = 1\n"
     ]
    },
    {
     "data": {
      "application/vnd.jupyter.widget-view+json": {
       "model_id": "b4a420cae7534e01b56ef61cd9c31803",
       "version_major": 2,
       "version_minor": 0
      },
      "text/plain": [
       "HBox(children=(HTML(value='Epochs loop'), FloatProgress(value=0.0, max=15000.0), HTML(value='')))"
      ]
     },
     "metadata": {},
     "output_type": "display_data"
    },
    {
     "name": "stdout",
     "output_type": "stream",
     "text": [
      "\n",
      "Summary:\n",
      "-learning rate = 0.01710\n",
      "-Model saved after iteration 12.\n",
      "-Train.  Loss=0.2019754\n",
      "-Valid.  Loss=0.4619483\n",
      "'train_loss_forward_54.csv' saved.\n",
      "'valid_loss_forward_54.csv' saved.\n",
      "'model06_forward_54_last.pth' saved.\n",
      "'model06_forward_54_best.pth' saved.\n",
      "- train minibatches = 1\n",
      "- valid minibatches = 1\n",
      "- test minibatches = 1\n"
     ]
    },
    {
     "data": {
      "application/vnd.jupyter.widget-view+json": {
       "model_id": "1cf085411cfd486ab96925f4eb9d1b42",
       "version_major": 2,
       "version_minor": 0
      },
      "text/plain": [
       "HBox(children=(HTML(value='Epochs loop'), FloatProgress(value=0.0, max=15000.0), HTML(value='')))"
      ]
     },
     "metadata": {},
     "output_type": "display_data"
    },
    {
     "name": "stdout",
     "output_type": "stream",
     "text": [
      "\n",
      "Summary:\n",
      "-learning rate = 0.01710\n",
      "-Model saved after iteration 5.\n",
      "-Train.  Loss=0.3812786\n",
      "-Valid.  Loss=0.6929292\n",
      "'train_loss_forward_55.csv' saved.\n",
      "'valid_loss_forward_55.csv' saved.\n",
      "'model06_forward_55_last.pth' saved.\n",
      "'model06_forward_55_best.pth' saved.\n",
      "- train minibatches = 1\n",
      "- valid minibatches = 1\n",
      "- test minibatches = 1\n"
     ]
    },
    {
     "data": {
      "application/vnd.jupyter.widget-view+json": {
       "model_id": "fc1bb6ac2f37401cbf350048353c04d9",
       "version_major": 2,
       "version_minor": 0
      },
      "text/plain": [
       "HBox(children=(HTML(value='Epochs loop'), FloatProgress(value=0.0, max=15000.0), HTML(value='')))"
      ]
     },
     "metadata": {},
     "output_type": "display_data"
    },
    {
     "name": "stdout",
     "output_type": "stream",
     "text": [
      "\n",
      "Summary:\n",
      "-learning rate = 0.01710\n",
      "-Model saved after iteration 224.\n",
      "-Train.  Loss=0.0046039\n",
      "-Valid.  Loss=0.3008913\n",
      "'train_loss_forward_56.csv' saved.\n",
      "'valid_loss_forward_56.csv' saved.\n",
      "'model06_forward_56_last.pth' saved.\n",
      "'model06_forward_56_best.pth' saved.\n",
      "- train minibatches = 1\n",
      "- valid minibatches = 1\n",
      "- test minibatches = 1\n"
     ]
    },
    {
     "data": {
      "application/vnd.jupyter.widget-view+json": {
       "model_id": "f6f5ff73357145ad8a038dd84d866d49",
       "version_major": 2,
       "version_minor": 0
      },
      "text/plain": [
       "HBox(children=(HTML(value='Epochs loop'), FloatProgress(value=0.0, max=15000.0), HTML(value='')))"
      ]
     },
     "metadata": {},
     "output_type": "display_data"
    },
    {
     "name": "stdout",
     "output_type": "stream",
     "text": [
      "\n",
      "Summary:\n",
      "-learning rate = 0.01710\n",
      "-Model saved after iteration 10.\n",
      "-Train.  Loss=0.4780470\n",
      "-Valid.  Loss=0.4834997\n",
      "'train_loss_forward_57.csv' saved.\n",
      "'valid_loss_forward_57.csv' saved.\n",
      "'model06_forward_57_last.pth' saved.\n",
      "'model06_forward_57_best.pth' saved.\n",
      "- train minibatches = 1\n",
      "- valid minibatches = 1\n",
      "- test minibatches = 1\n"
     ]
    },
    {
     "data": {
      "application/vnd.jupyter.widget-view+json": {
       "model_id": "577abd44726548088eeeb3dcbf2a5fd7",
       "version_major": 2,
       "version_minor": 0
      },
      "text/plain": [
       "HBox(children=(HTML(value='Epochs loop'), FloatProgress(value=0.0, max=15000.0), HTML(value='')))"
      ]
     },
     "metadata": {},
     "output_type": "display_data"
    },
    {
     "name": "stdout",
     "output_type": "stream",
     "text": [
      "\n",
      "Summary:\n",
      "-learning rate = 0.01710\n",
      "-Model saved after iteration 20.\n",
      "-Train.  Loss=0.4883533\n",
      "-Valid.  Loss=0.8861310\n",
      "'train_loss_forward_58.csv' saved.\n",
      "'valid_loss_forward_58.csv' saved.\n",
      "'model06_forward_58_last.pth' saved.\n",
      "'model06_forward_58_best.pth' saved.\n",
      "- train minibatches = 1\n",
      "- valid minibatches = 1\n",
      "- test minibatches = 1\n"
     ]
    },
    {
     "data": {
      "application/vnd.jupyter.widget-view+json": {
       "model_id": "aab3baee5eea47539320c1141f5da751",
       "version_major": 2,
       "version_minor": 0
      },
      "text/plain": [
       "HBox(children=(HTML(value='Epochs loop'), FloatProgress(value=0.0, max=15000.0), HTML(value='')))"
      ]
     },
     "metadata": {},
     "output_type": "display_data"
    },
    {
     "name": "stdout",
     "output_type": "stream",
     "text": [
      "\n",
      "Summary:\n",
      "-learning rate = 0.01710\n",
      "-Model saved after iteration 42.\n",
      "-Train.  Loss=0.1167139\n",
      "-Valid.  Loss=0.4119651\n",
      "'train_loss_forward_59.csv' saved.\n",
      "'valid_loss_forward_59.csv' saved.\n",
      "'model06_forward_59_last.pth' saved.\n",
      "'model06_forward_59_best.pth' saved.\n",
      "- train minibatches = 1\n",
      "- valid minibatches = 1\n",
      "- test minibatches = 1\n"
     ]
    },
    {
     "data": {
      "application/vnd.jupyter.widget-view+json": {
       "model_id": "507c073ddc15419dace4343e076e81c3",
       "version_major": 2,
       "version_minor": 0
      },
      "text/plain": [
       "HBox(children=(HTML(value='Epochs loop'), FloatProgress(value=0.0, max=15000.0), HTML(value='')))"
      ]
     },
     "metadata": {},
     "output_type": "display_data"
    },
    {
     "name": "stdout",
     "output_type": "stream",
     "text": [
      "\n",
      "Summary:\n",
      "-learning rate = 0.01710\n",
      "-Model saved after iteration 70.\n",
      "-Train.  Loss=0.0720587\n",
      "-Valid.  Loss=0.5095146\n",
      "'train_loss_forward_60.csv' saved.\n",
      "'valid_loss_forward_60.csv' saved.\n",
      "'model06_forward_60_last.pth' saved.\n",
      "'model06_forward_60_best.pth' saved.\n",
      "- train minibatches = 1\n",
      "- valid minibatches = 1\n",
      "- test minibatches = 1\n"
     ]
    },
    {
     "data": {
      "application/vnd.jupyter.widget-view+json": {
       "model_id": "3125b06bbb484749bb8cb56c434a0cc0",
       "version_major": 2,
       "version_minor": 0
      },
      "text/plain": [
       "HBox(children=(HTML(value='Epochs loop'), FloatProgress(value=0.0, max=15000.0), HTML(value='')))"
      ]
     },
     "metadata": {},
     "output_type": "display_data"
    },
    {
     "name": "stdout",
     "output_type": "stream",
     "text": [
      "\n",
      "Summary:\n",
      "-learning rate = 0.01710\n",
      "-Model saved after iteration 14.\n",
      "-Train.  Loss=0.1430160\n",
      "-Valid.  Loss=0.4694901\n",
      "'train_loss_forward_61.csv' saved.\n",
      "'valid_loss_forward_61.csv' saved.\n",
      "'model06_forward_61_last.pth' saved.\n",
      "'model06_forward_61_best.pth' saved.\n",
      "- train minibatches = 1\n",
      "- valid minibatches = 1\n",
      "- test minibatches = 1\n"
     ]
    },
    {
     "data": {
      "application/vnd.jupyter.widget-view+json": {
       "model_id": "abc6212093e646f0bd71a89e4ead73f5",
       "version_major": 2,
       "version_minor": 0
      },
      "text/plain": [
       "HBox(children=(HTML(value='Epochs loop'), FloatProgress(value=0.0, max=15000.0), HTML(value='')))"
      ]
     },
     "metadata": {},
     "output_type": "display_data"
    },
    {
     "name": "stdout",
     "output_type": "stream",
     "text": [
      "\n",
      "Summary:\n",
      "-learning rate = 0.01710\n",
      "-Model saved after iteration 18.\n",
      "-Train.  Loss=0.2556833\n",
      "-Valid.  Loss=0.5556620\n",
      "'train_loss_forward_62.csv' saved.\n",
      "'valid_loss_forward_62.csv' saved.\n",
      "'model06_forward_62_last.pth' saved.\n",
      "'model06_forward_62_best.pth' saved.\n",
      "- train minibatches = 1\n",
      "- valid minibatches = 1\n",
      "- test minibatches = 1\n"
     ]
    },
    {
     "data": {
      "application/vnd.jupyter.widget-view+json": {
       "model_id": "3a6898f0eb0a4156b4b4468bb8f027a5",
       "version_major": 2,
       "version_minor": 0
      },
      "text/plain": [
       "HBox(children=(HTML(value='Epochs loop'), FloatProgress(value=0.0, max=15000.0), HTML(value='')))"
      ]
     },
     "metadata": {},
     "output_type": "display_data"
    },
    {
     "name": "stdout",
     "output_type": "stream",
     "text": [
      "\n",
      "Summary:\n",
      "-learning rate = 0.01710\n",
      "-Model saved after iteration 59.\n",
      "-Train.  Loss=0.0325855\n",
      "-Valid.  Loss=0.3446719\n",
      "'train_loss_forward_63.csv' saved.\n",
      "'valid_loss_forward_63.csv' saved.\n",
      "'model06_forward_63_last.pth' saved.\n",
      "'model06_forward_63_best.pth' saved.\n",
      "- train minibatches = 1\n",
      "- valid minibatches = 1\n",
      "- test minibatches = 1\n"
     ]
    },
    {
     "data": {
      "application/vnd.jupyter.widget-view+json": {
       "model_id": "fadc6f01dacb44778323d0708da13d28",
       "version_major": 2,
       "version_minor": 0
      },
      "text/plain": [
       "HBox(children=(HTML(value='Epochs loop'), FloatProgress(value=0.0, max=15000.0), HTML(value='')))"
      ]
     },
     "metadata": {},
     "output_type": "display_data"
    },
    {
     "name": "stdout",
     "output_type": "stream",
     "text": [
      "\n",
      "Summary:\n",
      "-learning rate = 0.01710\n",
      "-Model saved after iteration 35.\n",
      "-Train.  Loss=0.0597510\n",
      "-Valid.  Loss=0.3856693\n",
      "'train_loss_forward_64.csv' saved.\n",
      "'valid_loss_forward_64.csv' saved.\n",
      "'model06_forward_64_last.pth' saved.\n",
      "'model06_forward_64_best.pth' saved.\n",
      "- train minibatches = 1\n",
      "- valid minibatches = 1\n",
      "- test minibatches = 1\n"
     ]
    },
    {
     "data": {
      "application/vnd.jupyter.widget-view+json": {
       "model_id": "389fefd3a2ab4b98add12750f75a58a9",
       "version_major": 2,
       "version_minor": 0
      },
      "text/plain": [
       "HBox(children=(HTML(value='Epochs loop'), FloatProgress(value=0.0, max=15000.0), HTML(value='')))"
      ]
     },
     "metadata": {},
     "output_type": "display_data"
    },
    {
     "name": "stdout",
     "output_type": "stream",
     "text": [
      "\n",
      "Summary:\n",
      "-learning rate = 0.01710\n",
      "-Model saved after iteration 56.\n",
      "-Train.  Loss=0.1498039\n",
      "-Valid.  Loss=0.3672437\n",
      "'train_loss_forward_65.csv' saved.\n",
      "'valid_loss_forward_65.csv' saved.\n",
      "'model06_forward_65_last.pth' saved.\n",
      "'model06_forward_65_best.pth' saved.\n",
      "- train minibatches = 1\n",
      "- valid minibatches = 1\n",
      "- test minibatches = 1\n"
     ]
    },
    {
     "data": {
      "application/vnd.jupyter.widget-view+json": {
       "model_id": "f5e05ff5ff48419b9368e468c450c324",
       "version_major": 2,
       "version_minor": 0
      },
      "text/plain": [
       "HBox(children=(HTML(value='Epochs loop'), FloatProgress(value=0.0, max=15000.0), HTML(value='')))"
      ]
     },
     "metadata": {},
     "output_type": "display_data"
    },
    {
     "name": "stdout",
     "output_type": "stream",
     "text": [
      "\n",
      "Summary:\n",
      "-learning rate = 0.01710\n",
      "-Model saved after iteration 45.\n",
      "-Train.  Loss=0.1312498\n",
      "-Valid.  Loss=0.3044720\n",
      "'train_loss_forward_66.csv' saved.\n",
      "'valid_loss_forward_66.csv' saved.\n",
      "'model06_forward_66_last.pth' saved.\n",
      "'model06_forward_66_best.pth' saved.\n",
      "- train minibatches = 1\n",
      "- valid minibatches = 1\n",
      "- test minibatches = 1\n"
     ]
    },
    {
     "data": {
      "application/vnd.jupyter.widget-view+json": {
       "model_id": "dedc499a4849489b9b0c4f01006011e4",
       "version_major": 2,
       "version_minor": 0
      },
      "text/plain": [
       "HBox(children=(HTML(value='Epochs loop'), FloatProgress(value=0.0, max=15000.0), HTML(value='')))"
      ]
     },
     "metadata": {},
     "output_type": "display_data"
    },
    {
     "name": "stdout",
     "output_type": "stream",
     "text": [
      "\n",
      "Summary:\n",
      "-learning rate = 0.01710\n",
      "-Model saved after iteration 11102.\n",
      "-Train.  Loss=0.0000390\n",
      "-Valid.  Loss=0.3286622\n",
      "'train_loss_forward_67.csv' saved.\n",
      "'valid_loss_forward_67.csv' saved.\n",
      "'model06_forward_67_last.pth' saved.\n",
      "'model06_forward_67_best.pth' saved.\n",
      "- train minibatches = 1\n",
      "- valid minibatches = 1\n",
      "- test minibatches = 1\n"
     ]
    },
    {
     "data": {
      "application/vnd.jupyter.widget-view+json": {
       "model_id": "27c29229fcf843a3932dcdcf3aa79c3c",
       "version_major": 2,
       "version_minor": 0
      },
      "text/plain": [
       "HBox(children=(HTML(value='Epochs loop'), FloatProgress(value=0.0, max=15000.0), HTML(value='')))"
      ]
     },
     "metadata": {},
     "output_type": "display_data"
    },
    {
     "name": "stdout",
     "output_type": "stream",
     "text": [
      "\n",
      "Summary:\n",
      "-learning rate = 0.01710\n",
      "-Model saved after iteration 31.\n",
      "-Train.  Loss=0.0728957\n",
      "-Valid.  Loss=0.4188454\n",
      "'train_loss_forward_68.csv' saved.\n",
      "'valid_loss_forward_68.csv' saved.\n",
      "'model06_forward_68_last.pth' saved.\n",
      "'model06_forward_68_best.pth' saved.\n",
      "- train minibatches = 1\n",
      "- valid minibatches = 1\n",
      "- test minibatches = 1\n"
     ]
    },
    {
     "data": {
      "application/vnd.jupyter.widget-view+json": {
       "model_id": "5f922b3465f549e193d1824aba20ac16",
       "version_major": 2,
       "version_minor": 0
      },
      "text/plain": [
       "HBox(children=(HTML(value='Epochs loop'), FloatProgress(value=0.0, max=15000.0), HTML(value='')))"
      ]
     },
     "metadata": {},
     "output_type": "display_data"
    },
    {
     "name": "stdout",
     "output_type": "stream",
     "text": [
      "\n",
      "Summary:\n",
      "-learning rate = 0.01710\n",
      "-Model saved after iteration 102.\n",
      "-Train.  Loss=0.0584011\n",
      "-Valid.  Loss=0.2972098\n",
      "'train_loss_forward_69.csv' saved.\n",
      "'valid_loss_forward_69.csv' saved.\n",
      "'model06_forward_69_last.pth' saved.\n",
      "'model06_forward_69_best.pth' saved.\n",
      "- train minibatches = 1\n",
      "- valid minibatches = 1\n",
      "- test minibatches = 1\n"
     ]
    },
    {
     "data": {
      "application/vnd.jupyter.widget-view+json": {
       "model_id": "8052909463f64c5a8814a8d04e61361c",
       "version_major": 2,
       "version_minor": 0
      },
      "text/plain": [
       "HBox(children=(HTML(value='Epochs loop'), FloatProgress(value=0.0, max=15000.0), HTML(value='')))"
      ]
     },
     "metadata": {},
     "output_type": "display_data"
    },
    {
     "name": "stdout",
     "output_type": "stream",
     "text": [
      "\n",
      "Summary:\n",
      "-learning rate = 0.01710\n",
      "-Model saved after iteration 156.\n",
      "-Train.  Loss=0.1436035\n",
      "-Valid.  Loss=0.3930793\n",
      "'train_loss_forward_70.csv' saved.\n",
      "'valid_loss_forward_70.csv' saved.\n",
      "'model06_forward_70_last.pth' saved.\n",
      "'model06_forward_70_best.pth' saved.\n",
      "- train minibatches = 1\n",
      "- valid minibatches = 1\n",
      "- test minibatches = 1\n"
     ]
    },
    {
     "data": {
      "application/vnd.jupyter.widget-view+json": {
       "model_id": "ed34d388252f49189fa95687e78020fa",
       "version_major": 2,
       "version_minor": 0
      },
      "text/plain": [
       "HBox(children=(HTML(value='Epochs loop'), FloatProgress(value=0.0, max=15000.0), HTML(value='')))"
      ]
     },
     "metadata": {},
     "output_type": "display_data"
    },
    {
     "name": "stdout",
     "output_type": "stream",
     "text": [
      "\n",
      "Summary:\n",
      "-learning rate = 0.01710\n",
      "-Model saved after iteration 46.\n",
      "-Train.  Loss=0.1802511\n",
      "-Valid.  Loss=0.4983550\n",
      "'train_loss_forward_71.csv' saved.\n",
      "'valid_loss_forward_71.csv' saved.\n",
      "'model06_forward_71_last.pth' saved.\n",
      "'model06_forward_71_best.pth' saved.\n",
      "- train minibatches = 1\n",
      "- valid minibatches = 1\n",
      "- test minibatches = 1\n"
     ]
    },
    {
     "data": {
      "application/vnd.jupyter.widget-view+json": {
       "model_id": "3eb68d780c46418a9345b29e3149b74b",
       "version_major": 2,
       "version_minor": 0
      },
      "text/plain": [
       "HBox(children=(HTML(value='Epochs loop'), FloatProgress(value=0.0, max=15000.0), HTML(value='')))"
      ]
     },
     "metadata": {},
     "output_type": "display_data"
    },
    {
     "name": "stdout",
     "output_type": "stream",
     "text": [
      "\n",
      "Summary:\n",
      "-learning rate = 0.01710\n",
      "-Model saved after iteration 28.\n",
      "-Train.  Loss=0.2283722\n",
      "-Valid.  Loss=0.5427161\n",
      "'train_loss_forward_72.csv' saved.\n",
      "'valid_loss_forward_72.csv' saved.\n",
      "'model06_forward_72_last.pth' saved.\n",
      "'model06_forward_72_best.pth' saved.\n",
      "- train minibatches = 1\n",
      "- valid minibatches = 1\n",
      "- test minibatches = 1\n"
     ]
    },
    {
     "data": {
      "application/vnd.jupyter.widget-view+json": {
       "model_id": "8e1815edcd0b4b7294536abba8dbc83c",
       "version_major": 2,
       "version_minor": 0
      },
      "text/plain": [
       "HBox(children=(HTML(value='Epochs loop'), FloatProgress(value=0.0, max=15000.0), HTML(value='')))"
      ]
     },
     "metadata": {},
     "output_type": "display_data"
    },
    {
     "name": "stdout",
     "output_type": "stream",
     "text": [
      "\n",
      "Summary:\n",
      "-learning rate = 0.01710\n",
      "-Model saved after iteration 50.\n",
      "-Train.  Loss=0.1128339\n",
      "-Valid.  Loss=0.5916765\n",
      "'train_loss_forward_73.csv' saved.\n",
      "'valid_loss_forward_73.csv' saved.\n",
      "'model06_forward_73_last.pth' saved.\n",
      "'model06_forward_73_best.pth' saved.\n",
      "- train minibatches = 1\n",
      "- valid minibatches = 1\n",
      "- test minibatches = 1\n"
     ]
    },
    {
     "data": {
      "application/vnd.jupyter.widget-view+json": {
       "model_id": "8956d42ebdce48fdaf76140df57930f3",
       "version_major": 2,
       "version_minor": 0
      },
      "text/plain": [
       "HBox(children=(HTML(value='Epochs loop'), FloatProgress(value=0.0, max=15000.0), HTML(value='')))"
      ]
     },
     "metadata": {},
     "output_type": "display_data"
    },
    {
     "name": "stdout",
     "output_type": "stream",
     "text": [
      "\n",
      "Summary:\n",
      "-learning rate = 0.01710\n",
      "-Model saved after iteration 493.\n",
      "-Train.  Loss=0.0683524\n",
      "-Valid.  Loss=0.5532268\n",
      "'train_loss_forward_74.csv' saved.\n",
      "'valid_loss_forward_74.csv' saved.\n",
      "'model06_forward_74_last.pth' saved.\n",
      "'model06_forward_74_best.pth' saved.\n",
      "- train minibatches = 1\n",
      "- valid minibatches = 1\n",
      "- test minibatches = 1\n"
     ]
    },
    {
     "data": {
      "application/vnd.jupyter.widget-view+json": {
       "model_id": "f6fdf73fb7194f4e87dcd165cb3b04cf",
       "version_major": 2,
       "version_minor": 0
      },
      "text/plain": [
       "HBox(children=(HTML(value='Epochs loop'), FloatProgress(value=0.0, max=15000.0), HTML(value='')))"
      ]
     },
     "metadata": {},
     "output_type": "display_data"
    },
    {
     "name": "stdout",
     "output_type": "stream",
     "text": [
      "\n",
      "Summary:\n",
      "-learning rate = 0.01710\n",
      "-Model saved after iteration 233.\n",
      "-Train.  Loss=0.0778515\n",
      "-Valid.  Loss=0.4004377\n",
      "'train_loss_forward_75.csv' saved.\n",
      "'valid_loss_forward_75.csv' saved.\n",
      "'model06_forward_75_last.pth' saved.\n",
      "'model06_forward_75_best.pth' saved.\n",
      "- train minibatches = 1\n",
      "- valid minibatches = 1\n",
      "- test minibatches = 1\n"
     ]
    },
    {
     "data": {
      "application/vnd.jupyter.widget-view+json": {
       "model_id": "b680fa0e2f6643c2831d1276325102ad",
       "version_major": 2,
       "version_minor": 0
      },
      "text/plain": [
       "HBox(children=(HTML(value='Epochs loop'), FloatProgress(value=0.0, max=15000.0), HTML(value='')))"
      ]
     },
     "metadata": {},
     "output_type": "display_data"
    },
    {
     "name": "stdout",
     "output_type": "stream",
     "text": [
      "\n",
      "Summary:\n",
      "-learning rate = 0.01710\n",
      "-Model saved after iteration 22.\n",
      "-Train.  Loss=0.1803916\n",
      "-Valid.  Loss=0.5757728\n",
      "'train_loss_forward_76.csv' saved.\n",
      "'valid_loss_forward_76.csv' saved.\n",
      "'model06_forward_76_last.pth' saved.\n",
      "'model06_forward_76_best.pth' saved.\n",
      "- train minibatches = 1\n",
      "- valid minibatches = 1\n",
      "- test minibatches = 1\n"
     ]
    },
    {
     "data": {
      "application/vnd.jupyter.widget-view+json": {
       "model_id": "d0659446b34f4c279a1c8d59d4c745ae",
       "version_major": 2,
       "version_minor": 0
      },
      "text/plain": [
       "HBox(children=(HTML(value='Epochs loop'), FloatProgress(value=0.0, max=15000.0), HTML(value='')))"
      ]
     },
     "metadata": {},
     "output_type": "display_data"
    },
    {
     "name": "stdout",
     "output_type": "stream",
     "text": [
      "\n",
      "Summary:\n",
      "-learning rate = 0.01710\n",
      "-Model saved after iteration 45.\n",
      "-Train.  Loss=0.1402137\n",
      "-Valid.  Loss=0.5602465\n",
      "'train_loss_forward_77.csv' saved.\n",
      "'valid_loss_forward_77.csv' saved.\n",
      "'model06_forward_77_last.pth' saved.\n",
      "'model06_forward_77_best.pth' saved.\n",
      "- train minibatches = 1\n",
      "- valid minibatches = 1\n",
      "- test minibatches = 1\n"
     ]
    },
    {
     "data": {
      "application/vnd.jupyter.widget-view+json": {
       "model_id": "fcb9588a5c894045bfc1da0395004b17",
       "version_major": 2,
       "version_minor": 0
      },
      "text/plain": [
       "HBox(children=(HTML(value='Epochs loop'), FloatProgress(value=0.0, max=15000.0), HTML(value='')))"
      ]
     },
     "metadata": {},
     "output_type": "display_data"
    },
    {
     "name": "stdout",
     "output_type": "stream",
     "text": [
      "\n",
      "Summary:\n",
      "-learning rate = 0.01710\n",
      "-Model saved after iteration 36.\n",
      "-Train.  Loss=0.0972960\n",
      "-Valid.  Loss=0.4382003\n",
      "'train_loss_forward_78.csv' saved.\n",
      "'valid_loss_forward_78.csv' saved.\n",
      "'model06_forward_78_last.pth' saved.\n",
      "'model06_forward_78_best.pth' saved.\n",
      "- train minibatches = 1\n",
      "- valid minibatches = 1\n",
      "- test minibatches = 1\n"
     ]
    },
    {
     "data": {
      "application/vnd.jupyter.widget-view+json": {
       "model_id": "972cb90b00ed4ce18a905a1c76aacc73",
       "version_major": 2,
       "version_minor": 0
      },
      "text/plain": [
       "HBox(children=(HTML(value='Epochs loop'), FloatProgress(value=0.0, max=15000.0), HTML(value='')))"
      ]
     },
     "metadata": {},
     "output_type": "display_data"
    },
    {
     "name": "stdout",
     "output_type": "stream",
     "text": [
      "\n",
      "Summary:\n",
      "-learning rate = 0.01710\n",
      "-Model saved after iteration 17.\n",
      "-Train.  Loss=0.0932390\n",
      "-Valid.  Loss=0.5465710\n",
      "'train_loss_forward_79.csv' saved.\n",
      "'valid_loss_forward_79.csv' saved.\n",
      "'model06_forward_79_last.pth' saved.\n",
      "'model06_forward_79_best.pth' saved.\n",
      "- train minibatches = 1\n",
      "- valid minibatches = 1\n",
      "- test minibatches = 1\n"
     ]
    },
    {
     "data": {
      "application/vnd.jupyter.widget-view+json": {
       "model_id": "35c120316a5b486db62032a697337e8a",
       "version_major": 2,
       "version_minor": 0
      },
      "text/plain": [
       "HBox(children=(HTML(value='Epochs loop'), FloatProgress(value=0.0, max=15000.0), HTML(value='')))"
      ]
     },
     "metadata": {},
     "output_type": "display_data"
    },
    {
     "name": "stdout",
     "output_type": "stream",
     "text": [
      "\n",
      "Summary:\n",
      "-learning rate = 0.01710\n",
      "-Model saved after iteration 11.\n",
      "-Train.  Loss=0.2083255\n",
      "-Valid.  Loss=0.4915813\n",
      "'train_loss_forward_80.csv' saved.\n",
      "'valid_loss_forward_80.csv' saved.\n",
      "'model06_forward_80_last.pth' saved.\n",
      "'model06_forward_80_best.pth' saved.\n",
      "- train minibatches = 1\n",
      "- valid minibatches = 1\n",
      "- test minibatches = 1\n"
     ]
    },
    {
     "data": {
      "application/vnd.jupyter.widget-view+json": {
       "model_id": "6ffbeeb99f9b4e33ae777e8d25ec1bd7",
       "version_major": 2,
       "version_minor": 0
      },
      "text/plain": [
       "HBox(children=(HTML(value='Epochs loop'), FloatProgress(value=0.0, max=15000.0), HTML(value='')))"
      ]
     },
     "metadata": {},
     "output_type": "display_data"
    },
    {
     "name": "stdout",
     "output_type": "stream",
     "text": [
      "\n",
      "Summary:\n",
      "-learning rate = 0.01710\n",
      "-Model saved after iteration 27.\n",
      "-Train.  Loss=0.1864105\n",
      "-Valid.  Loss=0.4330539\n",
      "'train_loss_forward_81.csv' saved.\n",
      "'valid_loss_forward_81.csv' saved.\n",
      "'model06_forward_81_last.pth' saved.\n",
      "'model06_forward_81_best.pth' saved.\n",
      "- train minibatches = 1\n",
      "- valid minibatches = 1\n",
      "- test minibatches = 1\n"
     ]
    },
    {
     "data": {
      "application/vnd.jupyter.widget-view+json": {
       "model_id": "12332050321a455bb402c1284a3eb7e8",
       "version_major": 2,
       "version_minor": 0
      },
      "text/plain": [
       "HBox(children=(HTML(value='Epochs loop'), FloatProgress(value=0.0, max=15000.0), HTML(value='')))"
      ]
     },
     "metadata": {},
     "output_type": "display_data"
    },
    {
     "name": "stdout",
     "output_type": "stream",
     "text": [
      "\n",
      "Summary:\n",
      "-learning rate = 0.01710\n",
      "-Model saved after iteration 63.\n",
      "-Train.  Loss=0.1108449\n",
      "-Valid.  Loss=0.3555377\n",
      "'train_loss_forward_82.csv' saved.\n",
      "'valid_loss_forward_82.csv' saved.\n",
      "'model06_forward_82_last.pth' saved.\n",
      "'model06_forward_82_best.pth' saved.\n",
      "- train minibatches = 1\n",
      "- valid minibatches = 1\n",
      "- test minibatches = 1\n"
     ]
    },
    {
     "data": {
      "application/vnd.jupyter.widget-view+json": {
       "model_id": "7245671b742e49d18539cff0b530b871",
       "version_major": 2,
       "version_minor": 0
      },
      "text/plain": [
       "HBox(children=(HTML(value='Epochs loop'), FloatProgress(value=0.0, max=15000.0), HTML(value='')))"
      ]
     },
     "metadata": {},
     "output_type": "display_data"
    },
    {
     "name": "stdout",
     "output_type": "stream",
     "text": [
      "\n",
      "Summary:\n",
      "-learning rate = 0.01710\n",
      "-Model saved after iteration 8.\n",
      "-Train.  Loss=0.3052233\n",
      "-Valid.  Loss=0.4774863\n",
      "'train_loss_forward_83.csv' saved.\n",
      "'valid_loss_forward_83.csv' saved.\n",
      "'model06_forward_83_last.pth' saved.\n",
      "'model06_forward_83_best.pth' saved.\n",
      "- train minibatches = 1\n",
      "- valid minibatches = 1\n",
      "- test minibatches = 1\n"
     ]
    },
    {
     "data": {
      "application/vnd.jupyter.widget-view+json": {
       "model_id": "d754c6ca4ec7415594a9e99e77ebabdc",
       "version_major": 2,
       "version_minor": 0
      },
      "text/plain": [
       "HBox(children=(HTML(value='Epochs loop'), FloatProgress(value=0.0, max=15000.0), HTML(value='')))"
      ]
     },
     "metadata": {},
     "output_type": "display_data"
    },
    {
     "name": "stdout",
     "output_type": "stream",
     "text": [
      "\n",
      "Summary:\n",
      "-learning rate = 0.01710\n",
      "-Model saved after iteration 7.\n",
      "-Train.  Loss=0.3653386\n",
      "-Valid.  Loss=0.8672096\n",
      "'train_loss_forward_84.csv' saved.\n",
      "'valid_loss_forward_84.csv' saved.\n",
      "'model06_forward_84_last.pth' saved.\n",
      "'model06_forward_84_best.pth' saved.\n",
      "- train minibatches = 1\n",
      "- valid minibatches = 1\n",
      "- test minibatches = 1\n"
     ]
    },
    {
     "data": {
      "application/vnd.jupyter.widget-view+json": {
       "model_id": "2c0f7d0aa9b84c8bb75dc3f55e08e579",
       "version_major": 2,
       "version_minor": 0
      },
      "text/plain": [
       "HBox(children=(HTML(value='Epochs loop'), FloatProgress(value=0.0, max=15000.0), HTML(value='')))"
      ]
     },
     "metadata": {},
     "output_type": "display_data"
    },
    {
     "name": "stdout",
     "output_type": "stream",
     "text": [
      "\n",
      "Summary:\n",
      "-learning rate = 0.01710\n",
      "-Model saved after iteration 85.\n",
      "-Train.  Loss=0.1162427\n",
      "-Valid.  Loss=0.3042558\n",
      "'train_loss_forward_85.csv' saved.\n",
      "'valid_loss_forward_85.csv' saved.\n",
      "'model06_forward_85_last.pth' saved.\n",
      "'model06_forward_85_best.pth' saved.\n",
      "- train minibatches = 1\n",
      "- valid minibatches = 1\n",
      "- test minibatches = 1\n"
     ]
    },
    {
     "data": {
      "application/vnd.jupyter.widget-view+json": {
       "model_id": "0cdb7a0b279c4e2eb56d81d8ad040f65",
       "version_major": 2,
       "version_minor": 0
      },
      "text/plain": [
       "HBox(children=(HTML(value='Epochs loop'), FloatProgress(value=0.0, max=15000.0), HTML(value='')))"
      ]
     },
     "metadata": {},
     "output_type": "display_data"
    },
    {
     "name": "stdout",
     "output_type": "stream",
     "text": [
      "\n",
      "Summary:\n",
      "-learning rate = 0.01710\n",
      "-Model saved after iteration 69.\n",
      "-Train.  Loss=0.0878205\n",
      "-Valid.  Loss=0.5137522\n",
      "'train_loss_forward_86.csv' saved.\n",
      "'valid_loss_forward_86.csv' saved.\n",
      "'model06_forward_86_last.pth' saved.\n",
      "'model06_forward_86_best.pth' saved.\n",
      "- train minibatches = 1\n",
      "- valid minibatches = 1\n",
      "- test minibatches = 1\n"
     ]
    },
    {
     "data": {
      "application/vnd.jupyter.widget-view+json": {
       "model_id": "781dab7f55974cb5b70c8ccedc03f570",
       "version_major": 2,
       "version_minor": 0
      },
      "text/plain": [
       "HBox(children=(HTML(value='Epochs loop'), FloatProgress(value=0.0, max=15000.0), HTML(value='')))"
      ]
     },
     "metadata": {},
     "output_type": "display_data"
    },
    {
     "name": "stdout",
     "output_type": "stream",
     "text": [
      "\n",
      "Summary:\n",
      "-learning rate = 0.01710\n",
      "-Model saved after iteration 91.\n",
      "-Train.  Loss=0.0414032\n",
      "-Valid.  Loss=0.5078889\n",
      "'train_loss_forward_87.csv' saved.\n",
      "'valid_loss_forward_87.csv' saved.\n",
      "'model06_forward_87_last.pth' saved.\n",
      "'model06_forward_87_best.pth' saved.\n",
      "- train minibatches = 1\n",
      "- valid minibatches = 1\n",
      "- test minibatches = 1\n"
     ]
    },
    {
     "data": {
      "application/vnd.jupyter.widget-view+json": {
       "model_id": "9b6fb8f6795f41268cb51d22c6c50e55",
       "version_major": 2,
       "version_minor": 0
      },
      "text/plain": [
       "HBox(children=(HTML(value='Epochs loop'), FloatProgress(value=0.0, max=15000.0), HTML(value='')))"
      ]
     },
     "metadata": {},
     "output_type": "display_data"
    },
    {
     "name": "stdout",
     "output_type": "stream",
     "text": [
      "\n",
      "Summary:\n",
      "-learning rate = 0.01710\n",
      "-Model saved after iteration 108.\n",
      "-Train.  Loss=0.0154797\n",
      "-Valid.  Loss=0.2879706\n",
      "'train_loss_forward_88.csv' saved.\n",
      "'valid_loss_forward_88.csv' saved.\n",
      "'model06_forward_88_last.pth' saved.\n",
      "'model06_forward_88_best.pth' saved.\n",
      "- train minibatches = 1\n",
      "- valid minibatches = 1\n",
      "- test minibatches = 1\n"
     ]
    },
    {
     "data": {
      "application/vnd.jupyter.widget-view+json": {
       "model_id": "5c9748153f9d41798060e71c8d0a07a6",
       "version_major": 2,
       "version_minor": 0
      },
      "text/plain": [
       "HBox(children=(HTML(value='Epochs loop'), FloatProgress(value=0.0, max=15000.0), HTML(value='')))"
      ]
     },
     "metadata": {},
     "output_type": "display_data"
    },
    {
     "name": "stdout",
     "output_type": "stream",
     "text": [
      "\n",
      "Summary:\n",
      "-learning rate = 0.01710\n",
      "-Model saved after iteration 12.\n",
      "-Train.  Loss=0.2264758\n",
      "-Valid.  Loss=0.5589100\n",
      "'train_loss_forward_89.csv' saved.\n",
      "'valid_loss_forward_89.csv' saved.\n",
      "'model06_forward_89_last.pth' saved.\n",
      "'model06_forward_89_best.pth' saved.\n",
      "- train minibatches = 1\n",
      "- valid minibatches = 1\n",
      "- test minibatches = 1\n"
     ]
    },
    {
     "data": {
      "application/vnd.jupyter.widget-view+json": {
       "model_id": "2fb207d667614930a2db9b5712a38b5a",
       "version_major": 2,
       "version_minor": 0
      },
      "text/plain": [
       "HBox(children=(HTML(value='Epochs loop'), FloatProgress(value=0.0, max=15000.0), HTML(value='')))"
      ]
     },
     "metadata": {},
     "output_type": "display_data"
    },
    {
     "name": "stdout",
     "output_type": "stream",
     "text": [
      "\n",
      "Summary:\n",
      "-learning rate = 0.01710\n",
      "-Model saved after iteration 167.\n",
      "-Train.  Loss=0.0295408\n",
      "-Valid.  Loss=0.2815381\n",
      "'train_loss_forward_90.csv' saved.\n",
      "'valid_loss_forward_90.csv' saved.\n",
      "'model06_forward_90_last.pth' saved.\n",
      "'model06_forward_90_best.pth' saved.\n",
      "- train minibatches = 1\n",
      "- valid minibatches = 1\n",
      "- test minibatches = 1\n"
     ]
    },
    {
     "data": {
      "application/vnd.jupyter.widget-view+json": {
       "model_id": "6305a3f54eef4bdd9c1a51c4fb1635b7",
       "version_major": 2,
       "version_minor": 0
      },
      "text/plain": [
       "HBox(children=(HTML(value='Epochs loop'), FloatProgress(value=0.0, max=15000.0), HTML(value='')))"
      ]
     },
     "metadata": {},
     "output_type": "display_data"
    },
    {
     "name": "stdout",
     "output_type": "stream",
     "text": [
      "\n",
      "Summary:\n",
      "-learning rate = 0.01710\n",
      "-Model saved after iteration 44.\n",
      "-Train.  Loss=0.0912333\n",
      "-Valid.  Loss=0.3583743\n",
      "'train_loss_forward_91.csv' saved.\n",
      "'valid_loss_forward_91.csv' saved.\n",
      "'model06_forward_91_last.pth' saved.\n",
      "'model06_forward_91_best.pth' saved.\n",
      "- train minibatches = 1\n",
      "- valid minibatches = 1\n",
      "- test minibatches = 1\n"
     ]
    },
    {
     "data": {
      "application/vnd.jupyter.widget-view+json": {
       "model_id": "c3b3e5228e394d9abbebe2a2e7ae9078",
       "version_major": 2,
       "version_minor": 0
      },
      "text/plain": [
       "HBox(children=(HTML(value='Epochs loop'), FloatProgress(value=0.0, max=15000.0), HTML(value='')))"
      ]
     },
     "metadata": {},
     "output_type": "display_data"
    },
    {
     "name": "stdout",
     "output_type": "stream",
     "text": [
      "\n",
      "Summary:\n",
      "-learning rate = 0.01710\n",
      "-Model saved after iteration 14728.\n",
      "-Train.  Loss=0.0020550\n",
      "-Valid.  Loss=0.3405493\n",
      "'train_loss_forward_92.csv' saved.\n",
      "'valid_loss_forward_92.csv' saved.\n",
      "'model06_forward_92_last.pth' saved.\n",
      "'model06_forward_92_best.pth' saved.\n",
      "- train minibatches = 1\n",
      "- valid minibatches = 1\n",
      "- test minibatches = 1\n"
     ]
    },
    {
     "data": {
      "application/vnd.jupyter.widget-view+json": {
       "model_id": "0bb9acc44bcf4acc80fc195f764a4792",
       "version_major": 2,
       "version_minor": 0
      },
      "text/plain": [
       "HBox(children=(HTML(value='Epochs loop'), FloatProgress(value=0.0, max=15000.0), HTML(value='')))"
      ]
     },
     "metadata": {},
     "output_type": "display_data"
    },
    {
     "name": "stdout",
     "output_type": "stream",
     "text": [
      "\n",
      "Summary:\n",
      "-learning rate = 0.01710\n",
      "-Model saved after iteration 13.\n",
      "-Train.  Loss=0.3291269\n",
      "-Valid.  Loss=0.5574934\n",
      "'train_loss_forward_93.csv' saved.\n",
      "'valid_loss_forward_93.csv' saved.\n",
      "'model06_forward_93_last.pth' saved.\n",
      "'model06_forward_93_best.pth' saved.\n",
      "- train minibatches = 1\n",
      "- valid minibatches = 1\n",
      "- test minibatches = 1\n"
     ]
    },
    {
     "data": {
      "application/vnd.jupyter.widget-view+json": {
       "model_id": "5d00ef5a4d464c2e9302f1dee1311066",
       "version_major": 2,
       "version_minor": 0
      },
      "text/plain": [
       "HBox(children=(HTML(value='Epochs loop'), FloatProgress(value=0.0, max=15000.0), HTML(value='')))"
      ]
     },
     "metadata": {},
     "output_type": "display_data"
    },
    {
     "name": "stdout",
     "output_type": "stream",
     "text": [
      "\n",
      "Summary:\n",
      "-learning rate = 0.01710\n",
      "-Model saved after iteration 112.\n",
      "-Train.  Loss=0.0204664\n",
      "-Valid.  Loss=0.3079807\n",
      "'train_loss_forward_94.csv' saved.\n",
      "'valid_loss_forward_94.csv' saved.\n",
      "'model06_forward_94_last.pth' saved.\n",
      "'model06_forward_94_best.pth' saved.\n",
      "- train minibatches = 1\n",
      "- valid minibatches = 1\n",
      "- test minibatches = 1\n"
     ]
    },
    {
     "data": {
      "application/vnd.jupyter.widget-view+json": {
       "model_id": "729915c731014b849420946eac800a0e",
       "version_major": 2,
       "version_minor": 0
      },
      "text/plain": [
       "HBox(children=(HTML(value='Epochs loop'), FloatProgress(value=0.0, max=15000.0), HTML(value='')))"
      ]
     },
     "metadata": {},
     "output_type": "display_data"
    },
    {
     "name": "stdout",
     "output_type": "stream",
     "text": [
      "\n",
      "Summary:\n",
      "-learning rate = 0.01710\n",
      "-Model saved after iteration 15.\n",
      "-Train.  Loss=0.2900539\n",
      "-Valid.  Loss=0.5529689\n",
      "'train_loss_forward_95.csv' saved.\n",
      "'valid_loss_forward_95.csv' saved.\n",
      "'model06_forward_95_last.pth' saved.\n",
      "'model06_forward_95_best.pth' saved.\n",
      "- train minibatches = 1\n",
      "- valid minibatches = 1\n",
      "- test minibatches = 1\n"
     ]
    },
    {
     "data": {
      "application/vnd.jupyter.widget-view+json": {
       "model_id": "b88438b7680746799072265b255629a8",
       "version_major": 2,
       "version_minor": 0
      },
      "text/plain": [
       "HBox(children=(HTML(value='Epochs loop'), FloatProgress(value=0.0, max=15000.0), HTML(value='')))"
      ]
     },
     "metadata": {},
     "output_type": "display_data"
    },
    {
     "name": "stdout",
     "output_type": "stream",
     "text": [
      "\n",
      "Summary:\n",
      "-learning rate = 0.01710\n",
      "-Model saved after iteration 339.\n",
      "-Train.  Loss=0.0060796\n",
      "-Valid.  Loss=0.2655489\n",
      "'train_loss_forward_96.csv' saved.\n",
      "'valid_loss_forward_96.csv' saved.\n",
      "'model06_forward_96_last.pth' saved.\n",
      "'model06_forward_96_best.pth' saved.\n",
      "- train minibatches = 1\n",
      "- valid minibatches = 1\n",
      "- test minibatches = 1\n"
     ]
    },
    {
     "data": {
      "application/vnd.jupyter.widget-view+json": {
       "model_id": "cd1c4be3c1c34aeeb4140ec93274875c",
       "version_major": 2,
       "version_minor": 0
      },
      "text/plain": [
       "HBox(children=(HTML(value='Epochs loop'), FloatProgress(value=0.0, max=15000.0), HTML(value='')))"
      ]
     },
     "metadata": {},
     "output_type": "display_data"
    },
    {
     "name": "stdout",
     "output_type": "stream",
     "text": [
      "\n",
      "Summary:\n",
      "-learning rate = 0.01710\n",
      "-Model saved after iteration 55.\n",
      "-Train.  Loss=0.0421146\n",
      "-Valid.  Loss=0.3347925\n",
      "'train_loss_forward_97.csv' saved.\n",
      "'valid_loss_forward_97.csv' saved.\n",
      "'model06_forward_97_last.pth' saved.\n",
      "'model06_forward_97_best.pth' saved.\n",
      "- train minibatches = 1\n",
      "- valid minibatches = 1\n",
      "- test minibatches = 1\n"
     ]
    },
    {
     "data": {
      "application/vnd.jupyter.widget-view+json": {
       "model_id": "10585f8cb3b34113b5572d624a9ba981",
       "version_major": 2,
       "version_minor": 0
      },
      "text/plain": [
       "HBox(children=(HTML(value='Epochs loop'), FloatProgress(value=0.0, max=15000.0), HTML(value='')))"
      ]
     },
     "metadata": {},
     "output_type": "display_data"
    },
    {
     "name": "stdout",
     "output_type": "stream",
     "text": [
      "\n",
      "Summary:\n",
      "-learning rate = 0.01710\n",
      "-Model saved after iteration 15.\n",
      "-Train.  Loss=0.1868729\n",
      "-Valid.  Loss=0.5214278\n",
      "'train_loss_forward_98.csv' saved.\n",
      "'valid_loss_forward_98.csv' saved.\n",
      "'model06_forward_98_last.pth' saved.\n",
      "'model06_forward_98_best.pth' saved.\n",
      "- train minibatches = 1\n",
      "- valid minibatches = 1\n",
      "- test minibatches = 1\n"
     ]
    },
    {
     "data": {
      "application/vnd.jupyter.widget-view+json": {
       "model_id": "08520ce57acf40db97e5a7a332a05712",
       "version_major": 2,
       "version_minor": 0
      },
      "text/plain": [
       "HBox(children=(HTML(value='Epochs loop'), FloatProgress(value=0.0, max=15000.0), HTML(value='')))"
      ]
     },
     "metadata": {},
     "output_type": "display_data"
    },
    {
     "name": "stdout",
     "output_type": "stream",
     "text": [
      "\n",
      "Summary:\n",
      "-learning rate = 0.01710\n",
      "-Model saved after iteration 51.\n",
      "-Train.  Loss=0.0589585\n",
      "-Valid.  Loss=0.4677227\n",
      "'train_loss_forward_99.csv' saved.\n",
      "'valid_loss_forward_99.csv' saved.\n",
      "'model06_forward_99_last.pth' saved.\n",
      "'model06_forward_99_best.pth' saved.\n",
      "- train minibatches = 1\n",
      "- valid minibatches = 1\n",
      "- test minibatches = 1\n"
     ]
    },
    {
     "data": {
      "application/vnd.jupyter.widget-view+json": {
       "model_id": "3630039c8a0443009d5c7fa6dd6136bd",
       "version_major": 2,
       "version_minor": 0
      },
      "text/plain": [
       "HBox(children=(HTML(value='Epochs loop'), FloatProgress(value=0.0, max=15000.0), HTML(value='')))"
      ]
     },
     "metadata": {},
     "output_type": "display_data"
    },
    {
     "name": "stdout",
     "output_type": "stream",
     "text": [
      "\n",
      "Summary:\n",
      "-learning rate = 0.01710\n",
      "-Model saved after iteration 21.\n",
      "-Train.  Loss=0.2547140\n",
      "-Valid.  Loss=0.4745397\n",
      "'train_loss_forward_100.csv' saved.\n",
      "'valid_loss_forward_100.csv' saved.\n",
      "'model06_forward_100_last.pth' saved.\n",
      "'model06_forward_100_best.pth' saved.\n",
      "\n"
     ]
    }
   ],
   "source": [
    "# Find Accuracy, Loss +/- STD (Lockdown: path 1)\n",
    "accuracy_forward = pd.DataFrame(columns=['train_acc', 'valid_acc', 'test_acc', \n",
    "                                         'train_loss', 'valid_loss', 'test_loss'])\n",
    "\n",
    "partitions = 100\n",
    "iterator = tqdm.notebook.tqdm(range(1, partitions + 1), desc='Partitions loop')\n",
    "for n in iterator:\n",
    "    X = pd.read_csv('dataset_06Arcene/X.csv', header=None)\n",
    "    y = pd.read_csv('dataset_06Arcene/y.csv', header=None)\n",
    "    split_data(X, y, seed1=seed1[n], seed2=seed2[n])\n",
    "\n",
    "# .normalize data sets\n",
    "    df_to_tensor()\n",
    "    normalize_data()\n",
    "    make_DataLoaders()\n",
    "\n",
    "# .train model (forward)\n",
    "    lr = best_lr_bward\n",
    "    layer_sizes = [5, 2]\n",
    "    epochs = 15000\n",
    "    data_out = \"data_lockdown_06Arcene/partitions\"\n",
    "    lock_flag = False\n",
    "    features = xtrain.size(1)\n",
    "    fname = 'model06_forward_'+str(n)\n",
    "    train_loss, valid_loss = train_model(\n",
    "                             lr, \n",
    "                             features, \n",
    "                             layer_sizes,\n",
    "                             lock_flag = lock_flag,\n",
    "                             epochs = epochs,\n",
    "                             early_stop = epochs, \n",
    "                             fname = fname)\n",
    "# .save relevant data\n",
    "    f3 = [fname+'_last.pth', fname+'_best.pth']\n",
    "    save_output(data_out, \n",
    "                'train_loss_forward_'+str(n)+'.csv', \n",
    "                'valid_loss_forward_'+str(n)+'.csv', f3)\n",
    "\n",
    "# .find Loss, Accurary, etc...\n",
    "    mm = MyNet(features, layer_sizes)\n",
    "    mm.load_state_dict(torch.load(os.path.join(data_out, fname+'_best.pth')))\n",
    "    mm = mm.to(device)\n",
    "    mm.eval()\n",
    "    \n",
    "    ypred = mm(xtrain)\n",
    "    loss = loss_type(ypred, ytrain.view(-1))\n",
    "    accu = dataset_accuracy(train_dataloader, mm, device)\n",
    "    accuracy_forward.loc[n, 'train_loss'] = loss.detach().item()\n",
    "    accuracy_forward.loc[n, 'train_acc'] = accu\n",
    "\n",
    "    ypred = mm(xvalid)\n",
    "    loss = loss_type(ypred, yvalid.view(-1))\n",
    "    accu = dataset_accuracy(valid_dataloader, mm, device)\n",
    "    accuracy_forward.loc[n, 'valid_loss'] = loss.detach().item()\n",
    "    accuracy_forward.loc[n, 'valid_acc'] = accu\n",
    "\n",
    "    ypred = mm(xtest)\n",
    "    loss = loss_type(ypred, ytest.view(-1))\n",
    "    accu = dataset_accuracy(test_dataloader, mm, device)\n",
    "    accuracy_forward.loc[n, 'test_loss'] = loss.detach().item()\n",
    "    accuracy_forward.loc[n, 'test_acc'] = accu\n",
    "\n",
    "    accuracy_forward.to_csv(os.path.join(data_out, 'accuracy06_forward.csv'), index=True)"
   ]
  },
  {
   "cell_type": "code",
   "execution_count": 293,
   "metadata": {
    "ExecuteTime": {
     "end_time": "2021-02-24T11:04:05.393747Z",
     "start_time": "2021-02-23T21:31:11.921267Z"
    },
    "code_folding": [
     0
    ],
    "scrolled": true
   },
   "outputs": [
    {
     "data": {
      "application/vnd.jupyter.widget-view+json": {
       "model_id": "ea37ae5425ce4aa799304dca674decd0",
       "version_major": 2,
       "version_minor": 0
      },
      "text/plain": [
       "HBox(children=(HTML(value='Partitions loop'), FloatProgress(value=0.0), HTML(value='')))"
      ]
     },
     "metadata": {},
     "output_type": "display_data"
    },
    {
     "name": "stdout",
     "output_type": "stream",
     "text": [
      "- train minibatches = 1\n",
      "- valid minibatches = 1\n",
      "- test minibatches = 1\n"
     ]
    },
    {
     "data": {
      "application/vnd.jupyter.widget-view+json": {
       "model_id": "dbb15487efbc4aa2a746aa8e9f960cda",
       "version_major": 2,
       "version_minor": 0
      },
      "text/plain": [
       "HBox(children=(HTML(value='Epochs loop'), FloatProgress(value=0.0, max=20000.0), HTML(value='')))"
      ]
     },
     "metadata": {},
     "output_type": "display_data"
    },
    {
     "name": "stdout",
     "output_type": "stream",
     "text": [
      "\n",
      "Summary:\n",
      "-learning rate = 0.01710\n",
      "-Model saved after iteration 16248.\n",
      "-Train.  Loss=0.0014417\n",
      "-Valid.  Loss=0.1630321\n",
      "'train_loss_backward_1.csv' saved.\n",
      "'valid_loss_backward_1.csv' saved.\n",
      "'model06_backward_1_best.pth' saved.\n",
      "- train minibatches = 1\n",
      "- valid minibatches = 1\n",
      "- test minibatches = 1\n"
     ]
    },
    {
     "data": {
      "application/vnd.jupyter.widget-view+json": {
       "model_id": "b147b1f24fe44f26b34a6f81b37b2586",
       "version_major": 2,
       "version_minor": 0
      },
      "text/plain": [
       "HBox(children=(HTML(value='Epochs loop'), FloatProgress(value=0.0, max=20000.0), HTML(value='')))"
      ]
     },
     "metadata": {},
     "output_type": "display_data"
    },
    {
     "name": "stdout",
     "output_type": "stream",
     "text": [
      "\n",
      "Summary:\n",
      "-learning rate = 0.01710\n",
      "-Model saved after iteration 19258.\n",
      "-Train.  Loss=0.3447371\n",
      "-Valid.  Loss=0.4064302\n",
      "'train_loss_backward_2.csv' saved.\n",
      "'valid_loss_backward_2.csv' saved.\n",
      "'model06_backward_2_best.pth' saved.\n",
      "- train minibatches = 1\n",
      "- valid minibatches = 1\n",
      "- test minibatches = 1\n"
     ]
    },
    {
     "data": {
      "application/vnd.jupyter.widget-view+json": {
       "model_id": "b52964446e02467fb8a93b43b20069b2",
       "version_major": 2,
       "version_minor": 0
      },
      "text/plain": [
       "HBox(children=(HTML(value='Epochs loop'), FloatProgress(value=0.0, max=20000.0), HTML(value='')))"
      ]
     },
     "metadata": {},
     "output_type": "display_data"
    },
    {
     "name": "stdout",
     "output_type": "stream",
     "text": [
      "\n",
      "Summary:\n",
      "-learning rate = 0.01710\n",
      "-Model saved after iteration 19698.\n",
      "-Train.  Loss=0.3735449\n",
      "-Valid.  Loss=0.4922633\n",
      "'train_loss_backward_3.csv' saved.\n",
      "'valid_loss_backward_3.csv' saved.\n",
      "'model06_backward_3_best.pth' saved.\n",
      "- train minibatches = 1\n",
      "- valid minibatches = 1\n",
      "- test minibatches = 1\n"
     ]
    },
    {
     "data": {
      "application/vnd.jupyter.widget-view+json": {
       "model_id": "329848d303c3466b97c467a98ea92ed0",
       "version_major": 2,
       "version_minor": 0
      },
      "text/plain": [
       "HBox(children=(HTML(value='Epochs loop'), FloatProgress(value=0.0, max=20000.0), HTML(value='')))"
      ]
     },
     "metadata": {},
     "output_type": "display_data"
    },
    {
     "name": "stdout",
     "output_type": "stream",
     "text": [
      "\n",
      "Summary:\n",
      "-learning rate = 0.01710\n",
      "-Model saved after iteration 18567.\n",
      "-Train.  Loss=0.1881416\n",
      "-Valid.  Loss=0.4002174\n",
      "'train_loss_backward_4.csv' saved.\n",
      "'valid_loss_backward_4.csv' saved.\n",
      "'model06_backward_4_best.pth' saved.\n",
      "- train minibatches = 1\n",
      "- valid minibatches = 1\n",
      "- test minibatches = 1\n"
     ]
    },
    {
     "data": {
      "application/vnd.jupyter.widget-view+json": {
       "model_id": "7ebaed4e11b649d7ac79cf840c59fb2c",
       "version_major": 2,
       "version_minor": 0
      },
      "text/plain": [
       "HBox(children=(HTML(value='Epochs loop'), FloatProgress(value=0.0, max=20000.0), HTML(value='')))"
      ]
     },
     "metadata": {},
     "output_type": "display_data"
    },
    {
     "name": "stdout",
     "output_type": "stream",
     "text": [
      "\n",
      "Summary:\n",
      "-learning rate = 0.01710\n",
      "-Model saved after iteration 18970.\n",
      "-Train.  Loss=0.2127626\n",
      "-Valid.  Loss=0.4066021\n",
      "'train_loss_backward_5.csv' saved.\n",
      "'valid_loss_backward_5.csv' saved.\n",
      "'model06_backward_5_best.pth' saved.\n",
      "- train minibatches = 1\n",
      "- valid minibatches = 1\n",
      "- test minibatches = 1\n"
     ]
    },
    {
     "data": {
      "application/vnd.jupyter.widget-view+json": {
       "model_id": "b7ab87573b8c4f90af73e60026e7bd19",
       "version_major": 2,
       "version_minor": 0
      },
      "text/plain": [
       "HBox(children=(HTML(value='Epochs loop'), FloatProgress(value=0.0, max=20000.0), HTML(value='')))"
      ]
     },
     "metadata": {},
     "output_type": "display_data"
    },
    {
     "name": "stdout",
     "output_type": "stream",
     "text": [
      "\n",
      "Summary:\n",
      "-learning rate = 0.01710\n",
      "-Model saved after iteration 17.\n",
      "-Train.  Loss=0.0033223\n",
      "-Valid.  Loss=0.0833429\n",
      "'train_loss_backward_6.csv' saved.\n",
      "'valid_loss_backward_6.csv' saved.\n",
      "'model06_backward_6_best.pth' saved.\n",
      "- train minibatches = 1\n",
      "- valid minibatches = 1\n",
      "- test minibatches = 1\n"
     ]
    },
    {
     "data": {
      "application/vnd.jupyter.widget-view+json": {
       "model_id": "446fe13519f149c8beda32d440e77bca",
       "version_major": 2,
       "version_minor": 0
      },
      "text/plain": [
       "HBox(children=(HTML(value='Epochs loop'), FloatProgress(value=0.0, max=20000.0), HTML(value='')))"
      ]
     },
     "metadata": {},
     "output_type": "display_data"
    },
    {
     "name": "stdout",
     "output_type": "stream",
     "text": [
      "\n",
      "Summary:\n",
      "-learning rate = 0.01710\n",
      "-Model saved after iteration 9.\n",
      "-Train.  Loss=0.0020959\n",
      "-Valid.  Loss=0.2110427\n",
      "'train_loss_backward_7.csv' saved.\n",
      "'valid_loss_backward_7.csv' saved.\n",
      "'model06_backward_7_best.pth' saved.\n",
      "- train minibatches = 1\n",
      "- valid minibatches = 1\n",
      "- test minibatches = 1\n"
     ]
    },
    {
     "data": {
      "application/vnd.jupyter.widget-view+json": {
       "model_id": "ac7a2827c9a749bd9e92aef31558f9fd",
       "version_major": 2,
       "version_minor": 0
      },
      "text/plain": [
       "HBox(children=(HTML(value='Epochs loop'), FloatProgress(value=0.0, max=20000.0), HTML(value='')))"
      ]
     },
     "metadata": {},
     "output_type": "display_data"
    },
    {
     "name": "stdout",
     "output_type": "stream",
     "text": [
      "\n",
      "Summary:\n",
      "-learning rate = 0.01710\n",
      "-Model saved after iteration 75.\n",
      "-Train.  Loss=0.0021042\n",
      "-Valid.  Loss=0.1251646\n",
      "'train_loss_backward_8.csv' saved.\n",
      "'valid_loss_backward_8.csv' saved.\n",
      "'model06_backward_8_best.pth' saved.\n",
      "- train minibatches = 1\n",
      "- valid minibatches = 1\n",
      "- test minibatches = 1\n"
     ]
    },
    {
     "data": {
      "application/vnd.jupyter.widget-view+json": {
       "model_id": "dea722ba296545718ae79aa293e70737",
       "version_major": 2,
       "version_minor": 0
      },
      "text/plain": [
       "HBox(children=(HTML(value='Epochs loop'), FloatProgress(value=0.0, max=20000.0), HTML(value='')))"
      ]
     },
     "metadata": {},
     "output_type": "display_data"
    },
    {
     "name": "stdout",
     "output_type": "stream",
     "text": [
      "\n",
      "Summary:\n",
      "-learning rate = 0.01710\n",
      "-Model saved after iteration 19121.\n",
      "-Train.  Loss=0.2771714\n",
      "-Valid.  Loss=0.4531333\n",
      "'train_loss_backward_9.csv' saved.\n",
      "'valid_loss_backward_9.csv' saved.\n",
      "'model06_backward_9_best.pth' saved.\n",
      "- train minibatches = 1\n",
      "- valid minibatches = 1\n",
      "- test minibatches = 1\n"
     ]
    },
    {
     "data": {
      "application/vnd.jupyter.widget-view+json": {
       "model_id": "44f3225dc6924e4a9b09efefdf77cb64",
       "version_major": 2,
       "version_minor": 0
      },
      "text/plain": [
       "HBox(children=(HTML(value='Epochs loop'), FloatProgress(value=0.0, max=20000.0), HTML(value='')))"
      ]
     },
     "metadata": {},
     "output_type": "display_data"
    },
    {
     "name": "stdout",
     "output_type": "stream",
     "text": [
      "\n",
      "Summary:\n",
      "-learning rate = 0.01710\n",
      "-Model saved after iteration 19141.\n",
      "-Train.  Loss=0.2937735\n",
      "-Valid.  Loss=0.4392827\n",
      "'train_loss_backward_10.csv' saved.\n",
      "'valid_loss_backward_10.csv' saved.\n",
      "'model06_backward_10_best.pth' saved.\n",
      "- train minibatches = 1\n",
      "- valid minibatches = 1\n",
      "- test minibatches = 1\n"
     ]
    },
    {
     "data": {
      "application/vnd.jupyter.widget-view+json": {
       "model_id": "a7a901408ebd427b86a4d7ddf0c7858d",
       "version_major": 2,
       "version_minor": 0
      },
      "text/plain": [
       "HBox(children=(HTML(value='Epochs loop'), FloatProgress(value=0.0, max=20000.0), HTML(value='')))"
      ]
     },
     "metadata": {},
     "output_type": "display_data"
    },
    {
     "name": "stdout",
     "output_type": "stream",
     "text": [
      "\n",
      "Summary:\n",
      "-learning rate = 0.01710\n",
      "-Model saved after iteration 18260.\n",
      "-Train.  Loss=0.3863719\n",
      "-Valid.  Loss=0.3721876\n",
      "'train_loss_backward_11.csv' saved.\n",
      "'valid_loss_backward_11.csv' saved.\n",
      "'model06_backward_11_best.pth' saved.\n",
      "- train minibatches = 1\n",
      "- valid minibatches = 1\n",
      "- test minibatches = 1\n"
     ]
    },
    {
     "data": {
      "application/vnd.jupyter.widget-view+json": {
       "model_id": "90cad335b9194fda96d4c95324d8b0b7",
       "version_major": 2,
       "version_minor": 0
      },
      "text/plain": [
       "HBox(children=(HTML(value='Epochs loop'), FloatProgress(value=0.0, max=20000.0), HTML(value='')))"
      ]
     },
     "metadata": {},
     "output_type": "display_data"
    },
    {
     "name": "stdout",
     "output_type": "stream",
     "text": [
      "\n",
      "Summary:\n",
      "-learning rate = 0.01710\n",
      "-Model saved after iteration 18773.\n",
      "-Train.  Loss=0.2265031\n",
      "-Valid.  Loss=0.2600451\n",
      "'train_loss_backward_12.csv' saved.\n",
      "'valid_loss_backward_12.csv' saved.\n",
      "'model06_backward_12_best.pth' saved.\n",
      "- train minibatches = 1\n",
      "- valid minibatches = 1\n",
      "- test minibatches = 1\n"
     ]
    },
    {
     "data": {
      "application/vnd.jupyter.widget-view+json": {
       "model_id": "1c965c1d9efb4575b43409f2fd272738",
       "version_major": 2,
       "version_minor": 0
      },
      "text/plain": [
       "HBox(children=(HTML(value='Epochs loop'), FloatProgress(value=0.0, max=20000.0), HTML(value='')))"
      ]
     },
     "metadata": {},
     "output_type": "display_data"
    },
    {
     "name": "stdout",
     "output_type": "stream",
     "text": [
      "\n",
      "Summary:\n",
      "-learning rate = 0.01710\n",
      "-Model saved after iteration 19739.\n",
      "-Train.  Loss=0.4841992\n",
      "-Valid.  Loss=0.4932008\n",
      "'train_loss_backward_13.csv' saved.\n",
      "'valid_loss_backward_13.csv' saved.\n",
      "'model06_backward_13_best.pth' saved.\n",
      "- train minibatches = 1\n",
      "- valid minibatches = 1\n",
      "- test minibatches = 1\n"
     ]
    },
    {
     "data": {
      "application/vnd.jupyter.widget-view+json": {
       "model_id": "6f55dfcf04854813877bb9a841d3319e",
       "version_major": 2,
       "version_minor": 0
      },
      "text/plain": [
       "HBox(children=(HTML(value='Epochs loop'), FloatProgress(value=0.0, max=20000.0), HTML(value='')))"
      ]
     },
     "metadata": {},
     "output_type": "display_data"
    },
    {
     "name": "stdout",
     "output_type": "stream",
     "text": [
      "\n",
      "Summary:\n",
      "-learning rate = 0.01710\n",
      "-Model saved after iteration 5.\n",
      "-Train.  Loss=0.0273930\n",
      "-Valid.  Loss=0.1384596\n",
      "'train_loss_backward_14.csv' saved.\n",
      "'valid_loss_backward_14.csv' saved.\n",
      "'model06_backward_14_best.pth' saved.\n",
      "- train minibatches = 1\n",
      "- valid minibatches = 1\n",
      "- test minibatches = 1\n"
     ]
    },
    {
     "data": {
      "application/vnd.jupyter.widget-view+json": {
       "model_id": "f89cf2b6f3e842588ddc26b47f24db4e",
       "version_major": 2,
       "version_minor": 0
      },
      "text/plain": [
       "HBox(children=(HTML(value='Epochs loop'), FloatProgress(value=0.0, max=20000.0), HTML(value='')))"
      ]
     },
     "metadata": {},
     "output_type": "display_data"
    },
    {
     "name": "stdout",
     "output_type": "stream",
     "text": [
      "\n",
      "Summary:\n",
      "-learning rate = 0.01710\n",
      "-Model saved after iteration 16700.\n",
      "-Train.  Loss=0.0239654\n",
      "-Valid.  Loss=0.3118415\n",
      "'train_loss_backward_15.csv' saved.\n",
      "'valid_loss_backward_15.csv' saved.\n",
      "'model06_backward_15_best.pth' saved.\n",
      "- train minibatches = 1\n",
      "- valid minibatches = 1\n",
      "- test minibatches = 1\n"
     ]
    },
    {
     "data": {
      "application/vnd.jupyter.widget-view+json": {
       "model_id": "5b1c65978b2b45b09f3a039602edc07f",
       "version_major": 2,
       "version_minor": 0
      },
      "text/plain": [
       "HBox(children=(HTML(value='Epochs loop'), FloatProgress(value=0.0, max=20000.0), HTML(value='')))"
      ]
     },
     "metadata": {},
     "output_type": "display_data"
    },
    {
     "name": "stdout",
     "output_type": "stream",
     "text": [
      "\n",
      "Summary:\n",
      "-learning rate = 0.01710\n",
      "-Model saved after iteration 18838.\n",
      "-Train.  Loss=0.1853969\n",
      "-Valid.  Loss=0.3517616\n",
      "'train_loss_backward_16.csv' saved.\n",
      "'valid_loss_backward_16.csv' saved.\n",
      "'model06_backward_16_best.pth' saved.\n",
      "- train minibatches = 1\n",
      "- valid minibatches = 1\n",
      "- test minibatches = 1\n"
     ]
    },
    {
     "data": {
      "application/vnd.jupyter.widget-view+json": {
       "model_id": "80918ef93041467eb641a92bbf171eaf",
       "version_major": 2,
       "version_minor": 0
      },
      "text/plain": [
       "HBox(children=(HTML(value='Epochs loop'), FloatProgress(value=0.0, max=20000.0), HTML(value='')))"
      ]
     },
     "metadata": {},
     "output_type": "display_data"
    },
    {
     "name": "stdout",
     "output_type": "stream",
     "text": [
      "\n",
      "Summary:\n",
      "-learning rate = 0.01710\n",
      "-Model saved after iteration 19229.\n",
      "-Train.  Loss=0.3938657\n",
      "-Valid.  Loss=0.3612874\n",
      "'train_loss_backward_17.csv' saved.\n",
      "'valid_loss_backward_17.csv' saved.\n",
      "'model06_backward_17_best.pth' saved.\n",
      "- train minibatches = 1\n",
      "- valid minibatches = 1\n",
      "- test minibatches = 1\n"
     ]
    },
    {
     "data": {
      "application/vnd.jupyter.widget-view+json": {
       "model_id": "cc0991baf95c4f779f63d1c313930b45",
       "version_major": 2,
       "version_minor": 0
      },
      "text/plain": [
       "HBox(children=(HTML(value='Epochs loop'), FloatProgress(value=0.0, max=20000.0), HTML(value='')))"
      ]
     },
     "metadata": {},
     "output_type": "display_data"
    },
    {
     "name": "stdout",
     "output_type": "stream",
     "text": [
      "\n",
      "Summary:\n",
      "-learning rate = 0.01710\n",
      "-Model saved after iteration 19500.\n",
      "-Train.  Loss=0.4016068\n",
      "-Valid.  Loss=0.4808623\n",
      "'train_loss_backward_18.csv' saved.\n",
      "'valid_loss_backward_18.csv' saved.\n",
      "'model06_backward_18_best.pth' saved.\n",
      "- train minibatches = 1\n",
      "- valid minibatches = 1\n",
      "- test minibatches = 1\n"
     ]
    },
    {
     "data": {
      "application/vnd.jupyter.widget-view+json": {
       "model_id": "8ed5c2a93dd04365b4321b5d1dbf213c",
       "version_major": 2,
       "version_minor": 0
      },
      "text/plain": [
       "HBox(children=(HTML(value='Epochs loop'), FloatProgress(value=0.0, max=20000.0), HTML(value='')))"
      ]
     },
     "metadata": {},
     "output_type": "display_data"
    },
    {
     "name": "stdout",
     "output_type": "stream",
     "text": [
      "\n",
      "Summary:\n",
      "-learning rate = 0.01710\n",
      "-Model saved after iteration 18539.\n",
      "-Train.  Loss=0.1581110\n",
      "-Valid.  Loss=0.4487846\n",
      "'train_loss_backward_19.csv' saved.\n",
      "'valid_loss_backward_19.csv' saved.\n",
      "'model06_backward_19_best.pth' saved.\n",
      "- train minibatches = 1\n",
      "- valid minibatches = 1\n",
      "- test minibatches = 1\n"
     ]
    },
    {
     "data": {
      "application/vnd.jupyter.widget-view+json": {
       "model_id": "b6e561675f1448688b294546bc2052cd",
       "version_major": 2,
       "version_minor": 0
      },
      "text/plain": [
       "HBox(children=(HTML(value='Epochs loop'), FloatProgress(value=0.0, max=20000.0), HTML(value='')))"
      ]
     },
     "metadata": {},
     "output_type": "display_data"
    },
    {
     "name": "stdout",
     "output_type": "stream",
     "text": [
      "\n",
      "Summary:\n",
      "-learning rate = 0.01710\n",
      "-Model saved after iteration 19013.\n",
      "-Train.  Loss=0.1858633\n",
      "-Valid.  Loss=0.2354183\n",
      "'train_loss_backward_20.csv' saved.\n",
      "'valid_loss_backward_20.csv' saved.\n",
      "'model06_backward_20_best.pth' saved.\n",
      "- train minibatches = 1\n",
      "- valid minibatches = 1\n",
      "- test minibatches = 1\n"
     ]
    },
    {
     "data": {
      "application/vnd.jupyter.widget-view+json": {
       "model_id": "19f72cb13daa43508652374773394897",
       "version_major": 2,
       "version_minor": 0
      },
      "text/plain": [
       "HBox(children=(HTML(value='Epochs loop'), FloatProgress(value=0.0, max=20000.0), HTML(value='')))"
      ]
     },
     "metadata": {},
     "output_type": "display_data"
    },
    {
     "name": "stdout",
     "output_type": "stream",
     "text": [
      "\n",
      "Summary:\n",
      "-learning rate = 0.01710\n",
      "-Model saved after iteration 19260.\n",
      "-Train.  Loss=0.3198422\n",
      "-Valid.  Loss=0.3928868\n",
      "'train_loss_backward_21.csv' saved.\n",
      "'valid_loss_backward_21.csv' saved.\n",
      "'model06_backward_21_best.pth' saved.\n",
      "- train minibatches = 1\n",
      "- valid minibatches = 1\n",
      "- test minibatches = 1\n"
     ]
    },
    {
     "data": {
      "application/vnd.jupyter.widget-view+json": {
       "model_id": "a36c340ccb0e4a1192b6c4201b725b15",
       "version_major": 2,
       "version_minor": 0
      },
      "text/plain": [
       "HBox(children=(HTML(value='Epochs loop'), FloatProgress(value=0.0, max=20000.0), HTML(value='')))"
      ]
     },
     "metadata": {},
     "output_type": "display_data"
    },
    {
     "name": "stdout",
     "output_type": "stream",
     "text": [
      "\n",
      "Summary:\n",
      "-learning rate = 0.01710\n",
      "-Model saved after iteration 19326.\n",
      "-Train.  Loss=0.4243256\n",
      "-Valid.  Loss=0.3601408\n",
      "'train_loss_backward_22.csv' saved.\n",
      "'valid_loss_backward_22.csv' saved.\n",
      "'model06_backward_22_best.pth' saved.\n",
      "- train minibatches = 1\n",
      "- valid minibatches = 1\n",
      "- test minibatches = 1\n"
     ]
    },
    {
     "data": {
      "application/vnd.jupyter.widget-view+json": {
       "model_id": "9102e2609a9141cfa5304dd9bac2695f",
       "version_major": 2,
       "version_minor": 0
      },
      "text/plain": [
       "HBox(children=(HTML(value='Epochs loop'), FloatProgress(value=0.0, max=20000.0), HTML(value='')))"
      ]
     },
     "metadata": {},
     "output_type": "display_data"
    },
    {
     "name": "stdout",
     "output_type": "stream",
     "text": [
      "\n",
      "Summary:\n",
      "-learning rate = 0.01710\n",
      "-Model saved after iteration 18404.\n",
      "-Train.  Loss=0.0987028\n",
      "-Valid.  Loss=0.3806261\n",
      "'train_loss_backward_23.csv' saved.\n",
      "'valid_loss_backward_23.csv' saved.\n",
      "'model06_backward_23_best.pth' saved.\n",
      "- train minibatches = 1\n",
      "- valid minibatches = 1\n",
      "- test minibatches = 1\n"
     ]
    },
    {
     "data": {
      "application/vnd.jupyter.widget-view+json": {
       "model_id": "c5f1c640ed8d41579ac59a93457e0c54",
       "version_major": 2,
       "version_minor": 0
      },
      "text/plain": [
       "HBox(children=(HTML(value='Epochs loop'), FloatProgress(value=0.0, max=20000.0), HTML(value='')))"
      ]
     },
     "metadata": {},
     "output_type": "display_data"
    },
    {
     "name": "stdout",
     "output_type": "stream",
     "text": [
      "\n",
      "Summary:\n",
      "-learning rate = 0.01710\n",
      "-Model saved after iteration 19239.\n",
      "-Train.  Loss=0.4016247\n",
      "-Valid.  Loss=0.4596453\n",
      "'train_loss_backward_24.csv' saved.\n",
      "'valid_loss_backward_24.csv' saved.\n",
      "'model06_backward_24_best.pth' saved.\n",
      "- train minibatches = 1\n",
      "- valid minibatches = 1\n",
      "- test minibatches = 1\n"
     ]
    },
    {
     "data": {
      "application/vnd.jupyter.widget-view+json": {
       "model_id": "5b2adc1161cb4e8784aa570c6b54f6a2",
       "version_major": 2,
       "version_minor": 0
      },
      "text/plain": [
       "HBox(children=(HTML(value='Epochs loop'), FloatProgress(value=0.0, max=20000.0), HTML(value='')))"
      ]
     },
     "metadata": {},
     "output_type": "display_data"
    },
    {
     "name": "stdout",
     "output_type": "stream",
     "text": [
      "\n",
      "Summary:\n",
      "-learning rate = 0.01710\n",
      "-Model saved after iteration 19343.\n",
      "-Train.  Loss=0.6322170\n",
      "-Valid.  Loss=0.3330288\n",
      "'train_loss_backward_25.csv' saved.\n",
      "'valid_loss_backward_25.csv' saved.\n",
      "'model06_backward_25_best.pth' saved.\n",
      "- train minibatches = 1\n",
      "- valid minibatches = 1\n",
      "- test minibatches = 1\n"
     ]
    },
    {
     "data": {
      "application/vnd.jupyter.widget-view+json": {
       "model_id": "8e42c21938634766a3af52117345c856",
       "version_major": 2,
       "version_minor": 0
      },
      "text/plain": [
       "HBox(children=(HTML(value='Epochs loop'), FloatProgress(value=0.0, max=20000.0), HTML(value='')))"
      ]
     },
     "metadata": {},
     "output_type": "display_data"
    },
    {
     "name": "stdout",
     "output_type": "stream",
     "text": [
      "\n",
      "Summary:\n",
      "-learning rate = 0.01710\n",
      "-Model saved after iteration 19252.\n",
      "-Train.  Loss=0.3497700\n",
      "-Valid.  Loss=0.4375748\n",
      "'train_loss_backward_26.csv' saved.\n",
      "'valid_loss_backward_26.csv' saved.\n",
      "'model06_backward_26_best.pth' saved.\n",
      "- train minibatches = 1\n",
      "- valid minibatches = 1\n",
      "- test minibatches = 1\n"
     ]
    },
    {
     "data": {
      "application/vnd.jupyter.widget-view+json": {
       "model_id": "a88d5c30e7844e4480662863886f4f24",
       "version_major": 2,
       "version_minor": 0
      },
      "text/plain": [
       "HBox(children=(HTML(value='Epochs loop'), FloatProgress(value=0.0, max=20000.0), HTML(value='')))"
      ]
     },
     "metadata": {},
     "output_type": "display_data"
    },
    {
     "name": "stdout",
     "output_type": "stream",
     "text": [
      "\n",
      "Summary:\n",
      "-learning rate = 0.01710\n",
      "-Model saved after iteration 9.\n",
      "-Train.  Loss=0.0020812\n",
      "-Valid.  Loss=0.2556489\n",
      "'train_loss_backward_27.csv' saved.\n",
      "'valid_loss_backward_27.csv' saved.\n",
      "'model06_backward_27_best.pth' saved.\n",
      "- train minibatches = 1\n",
      "- valid minibatches = 1\n",
      "- test minibatches = 1\n"
     ]
    },
    {
     "data": {
      "application/vnd.jupyter.widget-view+json": {
       "model_id": "7ffa4f5ffd014364888a36886c570caf",
       "version_major": 2,
       "version_minor": 0
      },
      "text/plain": [
       "HBox(children=(HTML(value='Epochs loop'), FloatProgress(value=0.0, max=20000.0), HTML(value='')))"
      ]
     },
     "metadata": {},
     "output_type": "display_data"
    },
    {
     "name": "stdout",
     "output_type": "stream",
     "text": [
      "\n",
      "Summary:\n",
      "-learning rate = 0.01710\n",
      "-Model saved after iteration 19231.\n",
      "-Train.  Loss=0.3329218\n",
      "-Valid.  Loss=0.3636825\n",
      "'train_loss_backward_28.csv' saved.\n",
      "'valid_loss_backward_28.csv' saved.\n",
      "'model06_backward_28_best.pth' saved.\n",
      "- train minibatches = 1\n",
      "- valid minibatches = 1\n",
      "- test minibatches = 1\n"
     ]
    },
    {
     "data": {
      "application/vnd.jupyter.widget-view+json": {
       "model_id": "a14ac0e15903404aa9e30b58eda75993",
       "version_major": 2,
       "version_minor": 0
      },
      "text/plain": [
       "HBox(children=(HTML(value='Epochs loop'), FloatProgress(value=0.0, max=20000.0), HTML(value='')))"
      ]
     },
     "metadata": {},
     "output_type": "display_data"
    },
    {
     "name": "stdout",
     "output_type": "stream",
     "text": [
      "\n",
      "Summary:\n",
      "-learning rate = 0.01710\n",
      "-Model saved after iteration 19111.\n",
      "-Train.  Loss=0.2584598\n",
      "-Valid.  Loss=0.4598031\n",
      "'train_loss_backward_29.csv' saved.\n",
      "'valid_loss_backward_29.csv' saved.\n",
      "'model06_backward_29_best.pth' saved.\n",
      "- train minibatches = 1\n",
      "- valid minibatches = 1\n",
      "- test minibatches = 1\n"
     ]
    },
    {
     "data": {
      "application/vnd.jupyter.widget-view+json": {
       "model_id": "f3089a4506644244b0b89d39848ca550",
       "version_major": 2,
       "version_minor": 0
      },
      "text/plain": [
       "HBox(children=(HTML(value='Epochs loop'), FloatProgress(value=0.0, max=20000.0), HTML(value='')))"
      ]
     },
     "metadata": {},
     "output_type": "display_data"
    },
    {
     "name": "stdout",
     "output_type": "stream",
     "text": [
      "\n",
      "Summary:\n",
      "-learning rate = 0.01710\n",
      "-Model saved after iteration 19284.\n",
      "-Train.  Loss=0.3826594\n",
      "-Valid.  Loss=0.3990813\n",
      "'train_loss_backward_30.csv' saved.\n",
      "'valid_loss_backward_30.csv' saved.\n",
      "'model06_backward_30_best.pth' saved.\n",
      "- train minibatches = 1\n",
      "- valid minibatches = 1\n",
      "- test minibatches = 1\n"
     ]
    },
    {
     "data": {
      "application/vnd.jupyter.widget-view+json": {
       "model_id": "6894146e245a4534bd2938b0e875d1a0",
       "version_major": 2,
       "version_minor": 0
      },
      "text/plain": [
       "HBox(children=(HTML(value='Epochs loop'), FloatProgress(value=0.0, max=20000.0), HTML(value='')))"
      ]
     },
     "metadata": {},
     "output_type": "display_data"
    },
    {
     "name": "stdout",
     "output_type": "stream",
     "text": [
      "\n",
      "Summary:\n",
      "-learning rate = 0.01710\n",
      "-Model saved after iteration 17812.\n",
      "-Train.  Loss=0.0784059\n",
      "-Valid.  Loss=0.3474309\n",
      "'train_loss_backward_31.csv' saved.\n",
      "'valid_loss_backward_31.csv' saved.\n",
      "'model06_backward_31_best.pth' saved.\n",
      "- train minibatches = 1\n",
      "- valid minibatches = 1\n",
      "- test minibatches = 1\n"
     ]
    },
    {
     "data": {
      "application/vnd.jupyter.widget-view+json": {
       "model_id": "e394f2b7617f4976b08f4c5665642ece",
       "version_major": 2,
       "version_minor": 0
      },
      "text/plain": [
       "HBox(children=(HTML(value='Epochs loop'), FloatProgress(value=0.0, max=20000.0), HTML(value='')))"
      ]
     },
     "metadata": {},
     "output_type": "display_data"
    },
    {
     "name": "stdout",
     "output_type": "stream",
     "text": [
      "\n",
      "Summary:\n",
      "-learning rate = 0.01710\n",
      "-Model saved after iteration 18785.\n",
      "-Train.  Loss=0.1608523\n",
      "-Valid.  Loss=0.3499178\n",
      "'train_loss_backward_32.csv' saved.\n",
      "'valid_loss_backward_32.csv' saved.\n",
      "'model06_backward_32_best.pth' saved.\n",
      "- train minibatches = 1\n",
      "- valid minibatches = 1\n",
      "- test minibatches = 1\n"
     ]
    },
    {
     "data": {
      "application/vnd.jupyter.widget-view+json": {
       "model_id": "1631eb59d2d840afa0013ebb12efd38e",
       "version_major": 2,
       "version_minor": 0
      },
      "text/plain": [
       "HBox(children=(HTML(value='Epochs loop'), FloatProgress(value=0.0, max=20000.0), HTML(value='')))"
      ]
     },
     "metadata": {},
     "output_type": "display_data"
    },
    {
     "name": "stdout",
     "output_type": "stream",
     "text": [
      "\n",
      "Summary:\n",
      "-learning rate = 0.01710\n",
      "-Model saved after iteration 37.\n",
      "-Train.  Loss=0.0000002\n",
      "-Valid.  Loss=0.2399538\n",
      "'train_loss_backward_33.csv' saved.\n",
      "'valid_loss_backward_33.csv' saved.\n",
      "'model06_backward_33_best.pth' saved.\n",
      "- train minibatches = 1\n",
      "- valid minibatches = 1\n",
      "- test minibatches = 1\n"
     ]
    },
    {
     "data": {
      "application/vnd.jupyter.widget-view+json": {
       "model_id": "5799768e31844a468c0a3dc1549c5dd4",
       "version_major": 2,
       "version_minor": 0
      },
      "text/plain": [
       "HBox(children=(HTML(value='Epochs loop'), FloatProgress(value=0.0, max=20000.0), HTML(value='')))"
      ]
     },
     "metadata": {},
     "output_type": "display_data"
    },
    {
     "name": "stdout",
     "output_type": "stream",
     "text": [
      "\n",
      "Summary:\n",
      "-learning rate = 0.01710\n",
      "-Model saved after iteration 18955.\n",
      "-Train.  Loss=0.2169504\n",
      "-Valid.  Loss=0.3717547\n",
      "'train_loss_backward_34.csv' saved.\n",
      "'valid_loss_backward_34.csv' saved.\n",
      "'model06_backward_34_best.pth' saved.\n",
      "- train minibatches = 1\n",
      "- valid minibatches = 1\n",
      "- test minibatches = 1\n"
     ]
    },
    {
     "data": {
      "application/vnd.jupyter.widget-view+json": {
       "model_id": "43bb910ff9374b819ede889b8647b1be",
       "version_major": 2,
       "version_minor": 0
      },
      "text/plain": [
       "HBox(children=(HTML(value='Epochs loop'), FloatProgress(value=0.0, max=20000.0), HTML(value='')))"
      ]
     },
     "metadata": {},
     "output_type": "display_data"
    },
    {
     "name": "stdout",
     "output_type": "stream",
     "text": [
      "\n",
      "Summary:\n",
      "-learning rate = 0.01710\n",
      "-Model saved after iteration 19461.\n",
      "-Train.  Loss=0.2345248\n",
      "-Valid.  Loss=0.5396637\n",
      "'train_loss_backward_35.csv' saved.\n",
      "'valid_loss_backward_35.csv' saved.\n",
      "'model06_backward_35_best.pth' saved.\n",
      "- train minibatches = 1\n",
      "- valid minibatches = 1\n",
      "- test minibatches = 1\n"
     ]
    },
    {
     "data": {
      "application/vnd.jupyter.widget-view+json": {
       "model_id": "61cba63d4e5b470492d4c414c3f74465",
       "version_major": 2,
       "version_minor": 0
      },
      "text/plain": [
       "HBox(children=(HTML(value='Epochs loop'), FloatProgress(value=0.0, max=20000.0), HTML(value='')))"
      ]
     },
     "metadata": {},
     "output_type": "display_data"
    },
    {
     "name": "stdout",
     "output_type": "stream",
     "text": [
      "\n",
      "Summary:\n",
      "-learning rate = 0.01710\n",
      "-Model saved after iteration 19248.\n",
      "-Train.  Loss=0.3043169\n",
      "-Valid.  Loss=0.4217098\n",
      "'train_loss_backward_36.csv' saved.\n",
      "'valid_loss_backward_36.csv' saved.\n",
      "'model06_backward_36_best.pth' saved.\n",
      "- train minibatches = 1\n",
      "- valid minibatches = 1\n",
      "- test minibatches = 1\n"
     ]
    },
    {
     "data": {
      "application/vnd.jupyter.widget-view+json": {
       "model_id": "c30581ba6ecd4694a302e8aafa2d1f2f",
       "version_major": 2,
       "version_minor": 0
      },
      "text/plain": [
       "HBox(children=(HTML(value='Epochs loop'), FloatProgress(value=0.0, max=20000.0), HTML(value='')))"
      ]
     },
     "metadata": {},
     "output_type": "display_data"
    },
    {
     "name": "stdout",
     "output_type": "stream",
     "text": [
      "\n",
      "Summary:\n",
      "-learning rate = 0.01710\n",
      "-Model saved after iteration 19621.\n",
      "-Train.  Loss=0.4306921\n",
      "-Valid.  Loss=0.4898249\n",
      "'train_loss_backward_37.csv' saved.\n",
      "'valid_loss_backward_37.csv' saved.\n",
      "'model06_backward_37_best.pth' saved.\n",
      "- train minibatches = 1\n",
      "- valid minibatches = 1\n",
      "- test minibatches = 1\n"
     ]
    },
    {
     "data": {
      "application/vnd.jupyter.widget-view+json": {
       "model_id": "6642162588b94db8b4b3909486e10204",
       "version_major": 2,
       "version_minor": 0
      },
      "text/plain": [
       "HBox(children=(HTML(value='Epochs loop'), FloatProgress(value=0.0, max=20000.0), HTML(value='')))"
      ]
     },
     "metadata": {},
     "output_type": "display_data"
    },
    {
     "name": "stdout",
     "output_type": "stream",
     "text": [
      "\n",
      "Summary:\n",
      "-learning rate = 0.01710\n",
      "-Model saved after iteration 18379.\n",
      "-Train.  Loss=0.3519016\n",
      "-Valid.  Loss=0.4137268\n",
      "'train_loss_backward_38.csv' saved.\n",
      "'valid_loss_backward_38.csv' saved.\n",
      "'model06_backward_38_best.pth' saved.\n",
      "- train minibatches = 1\n",
      "- valid minibatches = 1\n",
      "- test minibatches = 1\n"
     ]
    },
    {
     "data": {
      "application/vnd.jupyter.widget-view+json": {
       "model_id": "2fd012e82c224375b9c051a17269abc7",
       "version_major": 2,
       "version_minor": 0
      },
      "text/plain": [
       "HBox(children=(HTML(value='Epochs loop'), FloatProgress(value=0.0, max=20000.0), HTML(value='')))"
      ]
     },
     "metadata": {},
     "output_type": "display_data"
    },
    {
     "name": "stdout",
     "output_type": "stream",
     "text": [
      "\n",
      "Summary:\n",
      "-learning rate = 0.01710\n",
      "-Model saved after iteration 15434.\n",
      "-Train.  Loss=0.0036696\n",
      "-Valid.  Loss=0.3823652\n",
      "'train_loss_backward_39.csv' saved.\n",
      "'valid_loss_backward_39.csv' saved.\n",
      "'model06_backward_39_best.pth' saved.\n",
      "- train minibatches = 1\n",
      "- valid minibatches = 1\n",
      "- test minibatches = 1\n"
     ]
    },
    {
     "data": {
      "application/vnd.jupyter.widget-view+json": {
       "model_id": "567c1b1c95a7421a97ca1283c26c8119",
       "version_major": 2,
       "version_minor": 0
      },
      "text/plain": [
       "HBox(children=(HTML(value='Epochs loop'), FloatProgress(value=0.0, max=20000.0), HTML(value='')))"
      ]
     },
     "metadata": {},
     "output_type": "display_data"
    },
    {
     "name": "stdout",
     "output_type": "stream",
     "text": [
      "\n",
      "Summary:\n",
      "-learning rate = 0.01710\n",
      "-Model saved after iteration 43.\n",
      "-Train.  Loss=0.0000001\n",
      "-Valid.  Loss=0.3681719\n",
      "'train_loss_backward_40.csv' saved.\n",
      "'valid_loss_backward_40.csv' saved.\n",
      "'model06_backward_40_best.pth' saved.\n",
      "- train minibatches = 1\n",
      "- valid minibatches = 1\n",
      "- test minibatches = 1\n"
     ]
    },
    {
     "data": {
      "application/vnd.jupyter.widget-view+json": {
       "model_id": "9adc2a5db73240048686bdf516188ca3",
       "version_major": 2,
       "version_minor": 0
      },
      "text/plain": [
       "HBox(children=(HTML(value='Epochs loop'), FloatProgress(value=0.0, max=20000.0), HTML(value='')))"
      ]
     },
     "metadata": {},
     "output_type": "display_data"
    },
    {
     "name": "stdout",
     "output_type": "stream",
     "text": [
      "\n",
      "Summary:\n",
      "-learning rate = 0.01710\n",
      "-Model saved after iteration 8.\n",
      "-Train.  Loss=0.0021170\n",
      "-Valid.  Loss=0.0789310\n",
      "'train_loss_backward_41.csv' saved.\n",
      "'valid_loss_backward_41.csv' saved.\n",
      "'model06_backward_41_best.pth' saved.\n",
      "- train minibatches = 1\n",
      "- valid minibatches = 1\n",
      "- test minibatches = 1\n"
     ]
    },
    {
     "data": {
      "application/vnd.jupyter.widget-view+json": {
       "model_id": "156f93fb35414da986882523840d6104",
       "version_major": 2,
       "version_minor": 0
      },
      "text/plain": [
       "HBox(children=(HTML(value='Epochs loop'), FloatProgress(value=0.0, max=20000.0), HTML(value='')))"
      ]
     },
     "metadata": {},
     "output_type": "display_data"
    },
    {
     "name": "stdout",
     "output_type": "stream",
     "text": [
      "\n",
      "Summary:\n",
      "-learning rate = 0.01710\n",
      "-Model saved after iteration 19825.\n",
      "-Train.  Loss=0.4487030\n",
      "-Valid.  Loss=0.5255809\n",
      "'train_loss_backward_42.csv' saved.\n",
      "'valid_loss_backward_42.csv' saved.\n",
      "'model06_backward_42_best.pth' saved.\n",
      "- train minibatches = 1\n",
      "- valid minibatches = 1\n",
      "- test minibatches = 1\n"
     ]
    },
    {
     "data": {
      "application/vnd.jupyter.widget-view+json": {
       "model_id": "2aaba9ff3e2342779b0652224797b970",
       "version_major": 2,
       "version_minor": 0
      },
      "text/plain": [
       "HBox(children=(HTML(value='Epochs loop'), FloatProgress(value=0.0, max=20000.0), HTML(value='')))"
      ]
     },
     "metadata": {},
     "output_type": "display_data"
    },
    {
     "name": "stdout",
     "output_type": "stream",
     "text": [
      "\n",
      "Summary:\n",
      "-learning rate = 0.01710\n",
      "-Model saved after iteration 19363.\n",
      "-Train.  Loss=0.2558474\n",
      "-Valid.  Loss=0.5080679\n",
      "'train_loss_backward_43.csv' saved.\n",
      "'valid_loss_backward_43.csv' saved.\n",
      "'model06_backward_43_best.pth' saved.\n",
      "- train minibatches = 1\n",
      "- valid minibatches = 1\n",
      "- test minibatches = 1\n"
     ]
    },
    {
     "data": {
      "application/vnd.jupyter.widget-view+json": {
       "model_id": "96b1fe32ee1a49b99bb949368470da26",
       "version_major": 2,
       "version_minor": 0
      },
      "text/plain": [
       "HBox(children=(HTML(value='Epochs loop'), FloatProgress(value=0.0, max=20000.0), HTML(value='')))"
      ]
     },
     "metadata": {},
     "output_type": "display_data"
    },
    {
     "name": "stdout",
     "output_type": "stream",
     "text": [
      "\n",
      "Summary:\n",
      "-learning rate = 0.01710\n",
      "-Model saved after iteration 18763.\n",
      "-Train.  Loss=0.1034411\n",
      "-Valid.  Loss=0.4250664\n",
      "'train_loss_backward_44.csv' saved.\n",
      "'valid_loss_backward_44.csv' saved.\n",
      "'model06_backward_44_best.pth' saved.\n",
      "- train minibatches = 1\n",
      "- valid minibatches = 1\n",
      "- test minibatches = 1\n"
     ]
    },
    {
     "data": {
      "application/vnd.jupyter.widget-view+json": {
       "model_id": "de815b2b91514ffdbd3f8a20b8c2cbb2",
       "version_major": 2,
       "version_minor": 0
      },
      "text/plain": [
       "HBox(children=(HTML(value='Epochs loop'), FloatProgress(value=0.0, max=20000.0), HTML(value='')))"
      ]
     },
     "metadata": {},
     "output_type": "display_data"
    },
    {
     "name": "stdout",
     "output_type": "stream",
     "text": [
      "\n",
      "Summary:\n",
      "-learning rate = 0.01710\n",
      "-Model saved after iteration 165.\n",
      "-Train.  Loss=0.0020016\n",
      "-Valid.  Loss=0.4067644\n",
      "'train_loss_backward_45.csv' saved.\n",
      "'valid_loss_backward_45.csv' saved.\n",
      "'model06_backward_45_best.pth' saved.\n",
      "- train minibatches = 1\n",
      "- valid minibatches = 1\n",
      "- test minibatches = 1\n"
     ]
    },
    {
     "data": {
      "application/vnd.jupyter.widget-view+json": {
       "model_id": "e95838acd6af4ce99f62c069cab0a1e4",
       "version_major": 2,
       "version_minor": 0
      },
      "text/plain": [
       "HBox(children=(HTML(value='Epochs loop'), FloatProgress(value=0.0, max=20000.0), HTML(value='')))"
      ]
     },
     "metadata": {},
     "output_type": "display_data"
    },
    {
     "name": "stdout",
     "output_type": "stream",
     "text": [
      "\n",
      "Summary:\n",
      "-learning rate = 0.01710\n",
      "-Model saved after iteration 19645.\n",
      "-Train.  Loss=0.4613635\n",
      "-Valid.  Loss=0.5130664\n",
      "'train_loss_backward_46.csv' saved.\n",
      "'valid_loss_backward_46.csv' saved.\n",
      "'model06_backward_46_best.pth' saved.\n",
      "- train minibatches = 1\n",
      "- valid minibatches = 1\n",
      "- test minibatches = 1\n"
     ]
    },
    {
     "data": {
      "application/vnd.jupyter.widget-view+json": {
       "model_id": "998ab2b0352a45b0ab92b04882990868",
       "version_major": 2,
       "version_minor": 0
      },
      "text/plain": [
       "HBox(children=(HTML(value='Epochs loop'), FloatProgress(value=0.0, max=20000.0), HTML(value='')))"
      ]
     },
     "metadata": {},
     "output_type": "display_data"
    },
    {
     "name": "stdout",
     "output_type": "stream",
     "text": [
      "\n",
      "Summary:\n",
      "-learning rate = 0.01710\n",
      "-Model saved after iteration 217.\n",
      "-Train.  Loss=0.0020125\n",
      "-Valid.  Loss=0.3626549\n",
      "'train_loss_backward_47.csv' saved.\n",
      "'valid_loss_backward_47.csv' saved.\n",
      "'model06_backward_47_best.pth' saved.\n",
      "- train minibatches = 1\n",
      "- valid minibatches = 1\n",
      "- test minibatches = 1\n"
     ]
    },
    {
     "data": {
      "application/vnd.jupyter.widget-view+json": {
       "model_id": "26e2295480a24a23b98a09a228652e01",
       "version_major": 2,
       "version_minor": 0
      },
      "text/plain": [
       "HBox(children=(HTML(value='Epochs loop'), FloatProgress(value=0.0, max=20000.0), HTML(value='')))"
      ]
     },
     "metadata": {},
     "output_type": "display_data"
    },
    {
     "name": "stdout",
     "output_type": "stream",
     "text": [
      "\n",
      "Summary:\n",
      "-learning rate = 0.01710\n",
      "-Model saved after iteration 18981.\n",
      "-Train.  Loss=0.2910748\n",
      "-Valid.  Loss=0.3619327\n",
      "'train_loss_backward_48.csv' saved.\n",
      "'valid_loss_backward_48.csv' saved.\n",
      "'model06_backward_48_best.pth' saved.\n",
      "- train minibatches = 1\n",
      "- valid minibatches = 1\n",
      "- test minibatches = 1\n"
     ]
    },
    {
     "data": {
      "application/vnd.jupyter.widget-view+json": {
       "model_id": "237f69eaef2648f2a6c2439d62f1be46",
       "version_major": 2,
       "version_minor": 0
      },
      "text/plain": [
       "HBox(children=(HTML(value='Epochs loop'), FloatProgress(value=0.0, max=20000.0), HTML(value='')))"
      ]
     },
     "metadata": {},
     "output_type": "display_data"
    },
    {
     "name": "stdout",
     "output_type": "stream",
     "text": [
      "\n",
      "Summary:\n",
      "-learning rate = 0.01710\n",
      "-Model saved after iteration 19130.\n",
      "-Train.  Loss=0.2998001\n",
      "-Valid.  Loss=0.4324824\n",
      "'train_loss_backward_49.csv' saved.\n",
      "'valid_loss_backward_49.csv' saved.\n",
      "'model06_backward_49_best.pth' saved.\n",
      "- train minibatches = 1\n",
      "- valid minibatches = 1\n",
      "- test minibatches = 1\n"
     ]
    },
    {
     "data": {
      "application/vnd.jupyter.widget-view+json": {
       "model_id": "8338f3899de24e9ead1b33eff2fd846c",
       "version_major": 2,
       "version_minor": 0
      },
      "text/plain": [
       "HBox(children=(HTML(value='Epochs loop'), FloatProgress(value=0.0, max=20000.0), HTML(value='')))"
      ]
     },
     "metadata": {},
     "output_type": "display_data"
    },
    {
     "name": "stdout",
     "output_type": "stream",
     "text": [
      "\n",
      "Summary:\n",
      "-learning rate = 0.01710\n",
      "-Model saved after iteration 19579.\n",
      "-Train.  Loss=0.3180643\n",
      "-Valid.  Loss=0.5096990\n",
      "'train_loss_backward_50.csv' saved.\n",
      "'valid_loss_backward_50.csv' saved.\n",
      "'model06_backward_50_best.pth' saved.\n",
      "- train minibatches = 1\n",
      "- valid minibatches = 1\n",
      "- test minibatches = 1\n"
     ]
    },
    {
     "data": {
      "application/vnd.jupyter.widget-view+json": {
       "model_id": "6b99c4cd05ba43f79361552030d19f1c",
       "version_major": 2,
       "version_minor": 0
      },
      "text/plain": [
       "HBox(children=(HTML(value='Epochs loop'), FloatProgress(value=0.0, max=20000.0), HTML(value='')))"
      ]
     },
     "metadata": {},
     "output_type": "display_data"
    },
    {
     "name": "stdout",
     "output_type": "stream",
     "text": [
      "\n",
      "Summary:\n",
      "-learning rate = 0.01710\n",
      "-Model saved after iteration 16818.\n",
      "-Train.  Loss=0.0675330\n",
      "-Valid.  Loss=0.2110333\n",
      "'train_loss_backward_51.csv' saved.\n",
      "'valid_loss_backward_51.csv' saved.\n",
      "'model06_backward_51_best.pth' saved.\n",
      "- train minibatches = 1\n",
      "- valid minibatches = 1\n",
      "- test minibatches = 1\n"
     ]
    },
    {
     "data": {
      "application/vnd.jupyter.widget-view+json": {
       "model_id": "2fd308ab692a40c49a501afe2bd7b9e8",
       "version_major": 2,
       "version_minor": 0
      },
      "text/plain": [
       "HBox(children=(HTML(value='Epochs loop'), FloatProgress(value=0.0, max=20000.0), HTML(value='')))"
      ]
     },
     "metadata": {},
     "output_type": "display_data"
    },
    {
     "name": "stdout",
     "output_type": "stream",
     "text": [
      "\n",
      "Summary:\n",
      "-learning rate = 0.01710\n",
      "-Model saved after iteration 19294.\n",
      "-Train.  Loss=0.2477077\n",
      "-Valid.  Loss=0.4678445\n",
      "'train_loss_backward_52.csv' saved.\n",
      "'valid_loss_backward_52.csv' saved.\n",
      "'model06_backward_52_best.pth' saved.\n",
      "- train minibatches = 1\n",
      "- valid minibatches = 1\n",
      "- test minibatches = 1\n"
     ]
    },
    {
     "data": {
      "application/vnd.jupyter.widget-view+json": {
       "model_id": "31cff77eed4b49858ee71b565821d16b",
       "version_major": 2,
       "version_minor": 0
      },
      "text/plain": [
       "HBox(children=(HTML(value='Epochs loop'), FloatProgress(value=0.0, max=20000.0), HTML(value='')))"
      ]
     },
     "metadata": {},
     "output_type": "display_data"
    },
    {
     "name": "stdout",
     "output_type": "stream",
     "text": [
      "\n",
      "Summary:\n",
      "-learning rate = 0.01710\n",
      "-Model saved after iteration 19012.\n",
      "-Train.  Loss=0.2294451\n",
      "-Valid.  Loss=0.4082767\n",
      "'train_loss_backward_53.csv' saved.\n",
      "'valid_loss_backward_53.csv' saved.\n",
      "'model06_backward_53_best.pth' saved.\n",
      "- train minibatches = 1\n",
      "- valid minibatches = 1\n",
      "- test minibatches = 1\n"
     ]
    },
    {
     "data": {
      "application/vnd.jupyter.widget-view+json": {
       "model_id": "4e8eb3ef759a4f9e82214fb937beea38",
       "version_major": 2,
       "version_minor": 0
      },
      "text/plain": [
       "HBox(children=(HTML(value='Epochs loop'), FloatProgress(value=0.0, max=20000.0), HTML(value='')))"
      ]
     },
     "metadata": {},
     "output_type": "display_data"
    },
    {
     "name": "stdout",
     "output_type": "stream",
     "text": [
      "\n",
      "Summary:\n",
      "-learning rate = 0.01710\n",
      "-Model saved after iteration 19511.\n",
      "-Train.  Loss=0.5112169\n",
      "-Valid.  Loss=0.4183632\n",
      "'train_loss_backward_54.csv' saved.\n",
      "'valid_loss_backward_54.csv' saved.\n",
      "'model06_backward_54_best.pth' saved.\n",
      "- train minibatches = 1\n",
      "- valid minibatches = 1\n",
      "- test minibatches = 1\n"
     ]
    },
    {
     "data": {
      "application/vnd.jupyter.widget-view+json": {
       "model_id": "a8c90d0859de4889bc065a054b7d20d4",
       "version_major": 2,
       "version_minor": 0
      },
      "text/plain": [
       "HBox(children=(HTML(value='Epochs loop'), FloatProgress(value=0.0, max=20000.0), HTML(value='')))"
      ]
     },
     "metadata": {},
     "output_type": "display_data"
    },
    {
     "name": "stdout",
     "output_type": "stream",
     "text": [
      "\n",
      "Summary:\n",
      "-learning rate = 0.01710\n",
      "-Model saved after iteration 19341.\n",
      "-Train.  Loss=0.3777701\n",
      "-Valid.  Loss=0.5737817\n",
      "'train_loss_backward_55.csv' saved.\n",
      "'valid_loss_backward_55.csv' saved.\n",
      "'model06_backward_55_best.pth' saved.\n",
      "- train minibatches = 1\n",
      "- valid minibatches = 1\n",
      "- test minibatches = 1\n"
     ]
    },
    {
     "data": {
      "application/vnd.jupyter.widget-view+json": {
       "model_id": "d85209c1224f48349632ec2a81dfddd4",
       "version_major": 2,
       "version_minor": 0
      },
      "text/plain": [
       "HBox(children=(HTML(value='Epochs loop'), FloatProgress(value=0.0, max=20000.0), HTML(value='')))"
      ]
     },
     "metadata": {},
     "output_type": "display_data"
    },
    {
     "name": "stdout",
     "output_type": "stream",
     "text": [
      "\n",
      "Summary:\n",
      "-learning rate = 0.01710\n",
      "-Model saved after iteration 163.\n",
      "-Train.  Loss=0.0000000\n",
      "-Valid.  Loss=0.1220477\n",
      "'train_loss_backward_56.csv' saved.\n",
      "'valid_loss_backward_56.csv' saved.\n",
      "'model06_backward_56_best.pth' saved.\n",
      "- train minibatches = 1\n",
      "- valid minibatches = 1\n",
      "- test minibatches = 1\n"
     ]
    },
    {
     "data": {
      "application/vnd.jupyter.widget-view+json": {
       "model_id": "12702f92240f41b1bb901053b8715e00",
       "version_major": 2,
       "version_minor": 0
      },
      "text/plain": [
       "HBox(children=(HTML(value='Epochs loop'), FloatProgress(value=0.0, max=20000.0), HTML(value='')))"
      ]
     },
     "metadata": {},
     "output_type": "display_data"
    },
    {
     "name": "stdout",
     "output_type": "stream",
     "text": [
      "\n",
      "Summary:\n",
      "-learning rate = 0.01710\n",
      "-Model saved after iteration 19040.\n",
      "-Train.  Loss=0.4002284\n",
      "-Valid.  Loss=0.4588770\n",
      "'train_loss_backward_57.csv' saved.\n",
      "'valid_loss_backward_57.csv' saved.\n",
      "'model06_backward_57_best.pth' saved.\n",
      "- train minibatches = 1\n",
      "- valid minibatches = 1\n",
      "- test minibatches = 1\n"
     ]
    },
    {
     "data": {
      "application/vnd.jupyter.widget-view+json": {
       "model_id": "ba30113bb3b74c0a8b9c7ab4f3e66bfc",
       "version_major": 2,
       "version_minor": 0
      },
      "text/plain": [
       "HBox(children=(HTML(value='Epochs loop'), FloatProgress(value=0.0, max=20000.0), HTML(value='')))"
      ]
     },
     "metadata": {},
     "output_type": "display_data"
    },
    {
     "name": "stdout",
     "output_type": "stream",
     "text": [
      "\n",
      "Summary:\n",
      "-learning rate = 0.01710\n",
      "-Model saved after iteration 18317.\n",
      "-Train.  Loss=0.1075020\n",
      "-Valid.  Loss=0.4775516\n",
      "'train_loss_backward_58.csv' saved.\n",
      "'valid_loss_backward_58.csv' saved.\n",
      "'model06_backward_58_best.pth' saved.\n",
      "- train minibatches = 1\n",
      "- valid minibatches = 1\n",
      "- test minibatches = 1\n"
     ]
    },
    {
     "data": {
      "application/vnd.jupyter.widget-view+json": {
       "model_id": "6e28ed6af8d84878a730e42e987e25dc",
       "version_major": 2,
       "version_minor": 0
      },
      "text/plain": [
       "HBox(children=(HTML(value='Epochs loop'), FloatProgress(value=0.0, max=20000.0), HTML(value='')))"
      ]
     },
     "metadata": {},
     "output_type": "display_data"
    },
    {
     "name": "stdout",
     "output_type": "stream",
     "text": [
      "\n",
      "Summary:\n",
      "-learning rate = 0.01710\n",
      "-Model saved after iteration 19231.\n",
      "-Train.  Loss=0.2804104\n",
      "-Valid.  Loss=0.3990288\n",
      "'train_loss_backward_59.csv' saved.\n",
      "'valid_loss_backward_59.csv' saved.\n",
      "'model06_backward_59_best.pth' saved.\n",
      "- train minibatches = 1\n",
      "- valid minibatches = 1\n",
      "- test minibatches = 1\n"
     ]
    },
    {
     "data": {
      "application/vnd.jupyter.widget-view+json": {
       "model_id": "1a99051345514c8c889994c256b2d4bd",
       "version_major": 2,
       "version_minor": 0
      },
      "text/plain": [
       "HBox(children=(HTML(value='Epochs loop'), FloatProgress(value=0.0, max=20000.0), HTML(value='')))"
      ]
     },
     "metadata": {},
     "output_type": "display_data"
    },
    {
     "name": "stdout",
     "output_type": "stream",
     "text": [
      "\n",
      "Summary:\n",
      "-learning rate = 0.01710\n",
      "-Model saved after iteration 18983.\n",
      "-Train.  Loss=0.3212325\n",
      "-Valid.  Loss=0.4292619\n",
      "'train_loss_backward_60.csv' saved.\n",
      "'valid_loss_backward_60.csv' saved.\n",
      "'model06_backward_60_best.pth' saved.\n",
      "- train minibatches = 1\n",
      "- valid minibatches = 1\n",
      "- test minibatches = 1\n"
     ]
    },
    {
     "data": {
      "application/vnd.jupyter.widget-view+json": {
       "model_id": "a6f72e4dc2bd458eacdd008b50afe05e",
       "version_major": 2,
       "version_minor": 0
      },
      "text/plain": [
       "HBox(children=(HTML(value='Epochs loop'), FloatProgress(value=0.0, max=20000.0), HTML(value='')))"
      ]
     },
     "metadata": {},
     "output_type": "display_data"
    },
    {
     "name": "stdout",
     "output_type": "stream",
     "text": [
      "\n",
      "Summary:\n",
      "-learning rate = 0.01710\n",
      "-Model saved after iteration 19398.\n",
      "-Train.  Loss=0.4325877\n",
      "-Valid.  Loss=0.4647039\n",
      "'train_loss_backward_61.csv' saved.\n",
      "'valid_loss_backward_61.csv' saved.\n",
      "'model06_backward_61_best.pth' saved.\n",
      "- train minibatches = 1\n",
      "- valid minibatches = 1\n",
      "- test minibatches = 1\n"
     ]
    },
    {
     "data": {
      "application/vnd.jupyter.widget-view+json": {
       "model_id": "6663082480c04935b073b939647ce2cd",
       "version_major": 2,
       "version_minor": 0
      },
      "text/plain": [
       "HBox(children=(HTML(value='Epochs loop'), FloatProgress(value=0.0, max=20000.0), HTML(value='')))"
      ]
     },
     "metadata": {},
     "output_type": "display_data"
    },
    {
     "name": "stdout",
     "output_type": "stream",
     "text": [
      "\n",
      "Summary:\n",
      "-learning rate = 0.01710\n",
      "-Model saved after iteration 18514.\n",
      "-Train.  Loss=0.0799937\n",
      "-Valid.  Loss=0.1580632\n",
      "'train_loss_backward_62.csv' saved.\n",
      "'valid_loss_backward_62.csv' saved.\n",
      "'model06_backward_62_best.pth' saved.\n",
      "- train minibatches = 1\n",
      "- valid minibatches = 1\n",
      "- test minibatches = 1\n"
     ]
    },
    {
     "data": {
      "application/vnd.jupyter.widget-view+json": {
       "model_id": "d207de279eb849cc9e49c37a648dad1c",
       "version_major": 2,
       "version_minor": 0
      },
      "text/plain": [
       "HBox(children=(HTML(value='Epochs loop'), FloatProgress(value=0.0, max=20000.0), HTML(value='')))"
      ]
     },
     "metadata": {},
     "output_type": "display_data"
    },
    {
     "name": "stdout",
     "output_type": "stream",
     "text": [
      "\n",
      "Summary:\n",
      "-learning rate = 0.01710\n",
      "-Model saved after iteration 18850.\n",
      "-Train.  Loss=0.4080411\n",
      "-Valid.  Loss=0.3348635\n",
      "'train_loss_backward_63.csv' saved.\n",
      "'valid_loss_backward_63.csv' saved.\n",
      "'model06_backward_63_best.pth' saved.\n",
      "- train minibatches = 1\n",
      "- valid minibatches = 1\n",
      "- test minibatches = 1\n"
     ]
    },
    {
     "data": {
      "application/vnd.jupyter.widget-view+json": {
       "model_id": "e52fffea0cf54a43867cd46d5759aa4d",
       "version_major": 2,
       "version_minor": 0
      },
      "text/plain": [
       "HBox(children=(HTML(value='Epochs loop'), FloatProgress(value=0.0, max=20000.0), HTML(value='')))"
      ]
     },
     "metadata": {},
     "output_type": "display_data"
    },
    {
     "name": "stdout",
     "output_type": "stream",
     "text": [
      "\n",
      "Summary:\n",
      "-learning rate = 0.01710\n",
      "-Model saved after iteration 18820.\n",
      "-Train.  Loss=0.1957631\n",
      "-Valid.  Loss=0.4095868\n",
      "'train_loss_backward_64.csv' saved.\n",
      "'valid_loss_backward_64.csv' saved.\n",
      "'model06_backward_64_best.pth' saved.\n",
      "- train minibatches = 1\n",
      "- valid minibatches = 1\n",
      "- test minibatches = 1\n"
     ]
    },
    {
     "data": {
      "application/vnd.jupyter.widget-view+json": {
       "model_id": "e7cae5a733d840e3ba0a0f3ec216603d",
       "version_major": 2,
       "version_minor": 0
      },
      "text/plain": [
       "HBox(children=(HTML(value='Epochs loop'), FloatProgress(value=0.0, max=20000.0), HTML(value='')))"
      ]
     },
     "metadata": {},
     "output_type": "display_data"
    },
    {
     "name": "stdout",
     "output_type": "stream",
     "text": [
      "\n",
      "Summary:\n",
      "-learning rate = 0.01710\n",
      "-Model saved after iteration 19631.\n",
      "-Train.  Loss=0.3583216\n",
      "-Valid.  Loss=0.4094332\n",
      "'train_loss_backward_65.csv' saved.\n",
      "'valid_loss_backward_65.csv' saved.\n",
      "'model06_backward_65_best.pth' saved.\n",
      "- train minibatches = 1\n",
      "- valid minibatches = 1\n",
      "- test minibatches = 1\n"
     ]
    },
    {
     "data": {
      "application/vnd.jupyter.widget-view+json": {
       "model_id": "4c173a2c78694cc3a845a2ad12cc1ae6",
       "version_major": 2,
       "version_minor": 0
      },
      "text/plain": [
       "HBox(children=(HTML(value='Epochs loop'), FloatProgress(value=0.0, max=20000.0), HTML(value='')))"
      ]
     },
     "metadata": {},
     "output_type": "display_data"
    },
    {
     "name": "stdout",
     "output_type": "stream",
     "text": [
      "\n",
      "Summary:\n",
      "-learning rate = 0.01710\n",
      "-Model saved after iteration 19544.\n",
      "-Train.  Loss=0.4994661\n",
      "-Valid.  Loss=0.2836494\n",
      "'train_loss_backward_66.csv' saved.\n",
      "'valid_loss_backward_66.csv' saved.\n",
      "'model06_backward_66_best.pth' saved.\n",
      "- train minibatches = 1\n",
      "- valid minibatches = 1\n",
      "- test minibatches = 1\n"
     ]
    },
    {
     "data": {
      "application/vnd.jupyter.widget-view+json": {
       "model_id": "44bfb84dd5584a7da1a9869534ad1199",
       "version_major": 2,
       "version_minor": 0
      },
      "text/plain": [
       "HBox(children=(HTML(value='Epochs loop'), FloatProgress(value=0.0, max=20000.0), HTML(value='')))"
      ]
     },
     "metadata": {},
     "output_type": "display_data"
    },
    {
     "name": "stdout",
     "output_type": "stream",
     "text": [
      "\n",
      "Summary:\n",
      "-learning rate = 0.01710\n",
      "-Model saved after iteration 19.\n",
      "-Train.  Loss=0.0000190\n",
      "-Valid.  Loss=0.1605612\n",
      "'train_loss_backward_67.csv' saved.\n",
      "'valid_loss_backward_67.csv' saved.\n",
      "'model06_backward_67_best.pth' saved.\n",
      "- train minibatches = 1\n",
      "- valid minibatches = 1\n",
      "- test minibatches = 1\n"
     ]
    },
    {
     "data": {
      "application/vnd.jupyter.widget-view+json": {
       "model_id": "b65b25e2d8014fae9527f0bc8c86913b",
       "version_major": 2,
       "version_minor": 0
      },
      "text/plain": [
       "HBox(children=(HTML(value='Epochs loop'), FloatProgress(value=0.0, max=20000.0), HTML(value='')))"
      ]
     },
     "metadata": {},
     "output_type": "display_data"
    },
    {
     "name": "stdout",
     "output_type": "stream",
     "text": [
      "\n",
      "Summary:\n",
      "-learning rate = 0.01710\n",
      "-Model saved after iteration 14909.\n",
      "-Train.  Loss=0.0050012\n",
      "-Valid.  Loss=0.3723939\n",
      "'train_loss_backward_68.csv' saved.\n",
      "'valid_loss_backward_68.csv' saved.\n",
      "'model06_backward_68_best.pth' saved.\n",
      "- train minibatches = 1\n",
      "- valid minibatches = 1\n",
      "- test minibatches = 1\n"
     ]
    },
    {
     "data": {
      "application/vnd.jupyter.widget-view+json": {
       "model_id": "0fec7e439c8d46c78583ea5cfb602be7",
       "version_major": 2,
       "version_minor": 0
      },
      "text/plain": [
       "HBox(children=(HTML(value='Epochs loop'), FloatProgress(value=0.0, max=20000.0), HTML(value='')))"
      ]
     },
     "metadata": {},
     "output_type": "display_data"
    },
    {
     "name": "stdout",
     "output_type": "stream",
     "text": [
      "\n",
      "Summary:\n",
      "-learning rate = 0.01710\n",
      "-Model saved after iteration 40.\n",
      "-Train.  Loss=0.0000002\n",
      "-Valid.  Loss=0.1359400\n",
      "'train_loss_backward_69.csv' saved.\n",
      "'valid_loss_backward_69.csv' saved.\n",
      "'model06_backward_69_best.pth' saved.\n",
      "- train minibatches = 1\n",
      "- valid minibatches = 1\n",
      "- test minibatches = 1\n"
     ]
    },
    {
     "data": {
      "application/vnd.jupyter.widget-view+json": {
       "model_id": "637a20c105454afaa0f084c741c39ba4",
       "version_major": 2,
       "version_minor": 0
      },
      "text/plain": [
       "HBox(children=(HTML(value='Epochs loop'), FloatProgress(value=0.0, max=20000.0), HTML(value='')))"
      ]
     },
     "metadata": {},
     "output_type": "display_data"
    },
    {
     "name": "stdout",
     "output_type": "stream",
     "text": [
      "\n",
      "Summary:\n",
      "-learning rate = 0.01710\n",
      "-Model saved after iteration 11.\n",
      "-Train.  Loss=0.0022429\n",
      "-Valid.  Loss=0.3394740\n",
      "'train_loss_backward_70.csv' saved.\n",
      "'valid_loss_backward_70.csv' saved.\n",
      "'model06_backward_70_best.pth' saved.\n",
      "- train minibatches = 1\n",
      "- valid minibatches = 1\n",
      "- test minibatches = 1\n"
     ]
    },
    {
     "data": {
      "application/vnd.jupyter.widget-view+json": {
       "model_id": "306cba0bfd9b4a52a82b8fb9df7a1d50",
       "version_major": 2,
       "version_minor": 0
      },
      "text/plain": [
       "HBox(children=(HTML(value='Epochs loop'), FloatProgress(value=0.0, max=20000.0), HTML(value='')))"
      ]
     },
     "metadata": {},
     "output_type": "display_data"
    },
    {
     "name": "stdout",
     "output_type": "stream",
     "text": [
      "\n",
      "Summary:\n",
      "-learning rate = 0.01710\n",
      "-Model saved after iteration 274.\n",
      "-Train.  Loss=0.0019218\n",
      "-Valid.  Loss=0.2208415\n",
      "'train_loss_backward_71.csv' saved.\n",
      "'valid_loss_backward_71.csv' saved.\n",
      "'model06_backward_71_best.pth' saved.\n",
      "- train minibatches = 1\n",
      "- valid minibatches = 1\n",
      "- test minibatches = 1\n"
     ]
    },
    {
     "data": {
      "application/vnd.jupyter.widget-view+json": {
       "model_id": "1cd4178e67b94e6e8139a5d6b0d778c3",
       "version_major": 2,
       "version_minor": 0
      },
      "text/plain": [
       "HBox(children=(HTML(value='Epochs loop'), FloatProgress(value=0.0, max=20000.0), HTML(value='')))"
      ]
     },
     "metadata": {},
     "output_type": "display_data"
    },
    {
     "name": "stdout",
     "output_type": "stream",
     "text": [
      "\n",
      "Summary:\n",
      "-learning rate = 0.01710\n",
      "-Model saved after iteration 247.\n",
      "-Train.  Loss=0.0000001\n",
      "-Valid.  Loss=0.2044595\n",
      "'train_loss_backward_72.csv' saved.\n",
      "'valid_loss_backward_72.csv' saved.\n",
      "'model06_backward_72_best.pth' saved.\n",
      "- train minibatches = 1\n",
      "- valid minibatches = 1\n",
      "- test minibatches = 1\n"
     ]
    },
    {
     "data": {
      "application/vnd.jupyter.widget-view+json": {
       "model_id": "1066c104e8fb4ae093f3f4838f4bdf90",
       "version_major": 2,
       "version_minor": 0
      },
      "text/plain": [
       "HBox(children=(HTML(value='Epochs loop'), FloatProgress(value=0.0, max=20000.0), HTML(value='')))"
      ]
     },
     "metadata": {},
     "output_type": "display_data"
    },
    {
     "name": "stdout",
     "output_type": "stream",
     "text": [
      "\n",
      "Summary:\n",
      "-learning rate = 0.01710\n",
      "-Model saved after iteration 19214.\n",
      "-Train.  Loss=0.3604409\n",
      "-Valid.  Loss=0.4440978\n",
      "'train_loss_backward_73.csv' saved.\n",
      "'valid_loss_backward_73.csv' saved.\n",
      "'model06_backward_73_best.pth' saved.\n",
      "- train minibatches = 1\n",
      "- valid minibatches = 1\n",
      "- test minibatches = 1\n"
     ]
    },
    {
     "data": {
      "application/vnd.jupyter.widget-view+json": {
       "model_id": "c843dc3b14014a9c961d36126148033d",
       "version_major": 2,
       "version_minor": 0
      },
      "text/plain": [
       "HBox(children=(HTML(value='Epochs loop'), FloatProgress(value=0.0, max=20000.0), HTML(value='')))"
      ]
     },
     "metadata": {},
     "output_type": "display_data"
    },
    {
     "name": "stdout",
     "output_type": "stream",
     "text": [
      "\n",
      "Summary:\n",
      "-learning rate = 0.01710\n",
      "-Model saved after iteration 19178.\n",
      "-Train.  Loss=0.3309861\n",
      "-Valid.  Loss=0.4191276\n",
      "'train_loss_backward_74.csv' saved.\n",
      "'valid_loss_backward_74.csv' saved.\n",
      "'model06_backward_74_best.pth' saved.\n",
      "- train minibatches = 1\n",
      "- valid minibatches = 1\n",
      "- test minibatches = 1\n"
     ]
    },
    {
     "data": {
      "application/vnd.jupyter.widget-view+json": {
       "model_id": "5c555e07bb644bf98ec3a3da09d25f32",
       "version_major": 2,
       "version_minor": 0
      },
      "text/plain": [
       "HBox(children=(HTML(value='Epochs loop'), FloatProgress(value=0.0, max=20000.0), HTML(value='')))"
      ]
     },
     "metadata": {},
     "output_type": "display_data"
    },
    {
     "name": "stdout",
     "output_type": "stream",
     "text": [
      "\n",
      "Summary:\n",
      "-learning rate = 0.01710\n",
      "-Model saved after iteration 9.\n",
      "-Train.  Loss=0.0021585\n",
      "-Valid.  Loss=0.1607870\n",
      "'train_loss_backward_75.csv' saved.\n",
      "'valid_loss_backward_75.csv' saved.\n",
      "'model06_backward_75_best.pth' saved.\n",
      "- train minibatches = 1\n",
      "- valid minibatches = 1\n",
      "- test minibatches = 1\n"
     ]
    },
    {
     "data": {
      "application/vnd.jupyter.widget-view+json": {
       "model_id": "0d34d3a4f53747199193f665524f875e",
       "version_major": 2,
       "version_minor": 0
      },
      "text/plain": [
       "HBox(children=(HTML(value='Epochs loop'), FloatProgress(value=0.0, max=20000.0), HTML(value='')))"
      ]
     },
     "metadata": {},
     "output_type": "display_data"
    },
    {
     "name": "stdout",
     "output_type": "stream",
     "text": [
      "\n",
      "Summary:\n",
      "-learning rate = 0.01710\n",
      "-Model saved after iteration 19044.\n",
      "-Train.  Loss=0.3170293\n",
      "-Valid.  Loss=0.2605759\n",
      "'train_loss_backward_76.csv' saved.\n",
      "'valid_loss_backward_76.csv' saved.\n",
      "'model06_backward_76_best.pth' saved.\n",
      "- train minibatches = 1\n",
      "- valid minibatches = 1\n",
      "- test minibatches = 1\n"
     ]
    },
    {
     "data": {
      "application/vnd.jupyter.widget-view+json": {
       "model_id": "49d7b66e48574c0bab2797df743fb585",
       "version_major": 2,
       "version_minor": 0
      },
      "text/plain": [
       "HBox(children=(HTML(value='Epochs loop'), FloatProgress(value=0.0, max=20000.0), HTML(value='')))"
      ]
     },
     "metadata": {},
     "output_type": "display_data"
    },
    {
     "name": "stdout",
     "output_type": "stream",
     "text": [
      "\n",
      "Summary:\n",
      "-learning rate = 0.01710\n",
      "-Model saved after iteration 18968.\n",
      "-Train.  Loss=0.1185389\n",
      "-Valid.  Loss=0.3806663\n",
      "'train_loss_backward_77.csv' saved.\n",
      "'valid_loss_backward_77.csv' saved.\n",
      "'model06_backward_77_best.pth' saved.\n",
      "- train minibatches = 1\n",
      "- valid minibatches = 1\n",
      "- test minibatches = 1\n"
     ]
    },
    {
     "data": {
      "application/vnd.jupyter.widget-view+json": {
       "model_id": "152a58af9abd4ddb94507f6a5f31ad50",
       "version_major": 2,
       "version_minor": 0
      },
      "text/plain": [
       "HBox(children=(HTML(value='Epochs loop'), FloatProgress(value=0.0, max=20000.0), HTML(value='')))"
      ]
     },
     "metadata": {},
     "output_type": "display_data"
    },
    {
     "name": "stdout",
     "output_type": "stream",
     "text": [
      "\n",
      "Summary:\n",
      "-learning rate = 0.01710\n",
      "-Model saved after iteration 18880.\n",
      "-Train.  Loss=0.2739095\n",
      "-Valid.  Loss=0.3695634\n",
      "'train_loss_backward_78.csv' saved.\n",
      "'valid_loss_backward_78.csv' saved.\n",
      "'model06_backward_78_best.pth' saved.\n",
      "- train minibatches = 1\n",
      "- valid minibatches = 1\n",
      "- test minibatches = 1\n"
     ]
    },
    {
     "data": {
      "application/vnd.jupyter.widget-view+json": {
       "model_id": "147a09da43234d16b486c1841d7dfeeb",
       "version_major": 2,
       "version_minor": 0
      },
      "text/plain": [
       "HBox(children=(HTML(value='Epochs loop'), FloatProgress(value=0.0, max=20000.0), HTML(value='')))"
      ]
     },
     "metadata": {},
     "output_type": "display_data"
    },
    {
     "name": "stdout",
     "output_type": "stream",
     "text": [
      "\n",
      "Summary:\n",
      "-learning rate = 0.01710\n",
      "-Model saved after iteration 19086.\n",
      "-Train.  Loss=0.4106501\n",
      "-Valid.  Loss=0.4760336\n",
      "'train_loss_backward_79.csv' saved.\n",
      "'valid_loss_backward_79.csv' saved.\n",
      "'model06_backward_79_best.pth' saved.\n",
      "- train minibatches = 1\n",
      "- valid minibatches = 1\n",
      "- test minibatches = 1\n"
     ]
    },
    {
     "data": {
      "application/vnd.jupyter.widget-view+json": {
       "model_id": "bd1db3d589ea40658985d2f39f7d1c49",
       "version_major": 2,
       "version_minor": 0
      },
      "text/plain": [
       "HBox(children=(HTML(value='Epochs loop'), FloatProgress(value=0.0, max=20000.0), HTML(value='')))"
      ]
     },
     "metadata": {},
     "output_type": "display_data"
    },
    {
     "name": "stdout",
     "output_type": "stream",
     "text": [
      "\n",
      "Summary:\n",
      "-learning rate = 0.01710\n",
      "-Model saved after iteration 17376.\n",
      "-Train.  Loss=0.1415358\n",
      "-Valid.  Loss=0.3652399\n",
      "'train_loss_backward_80.csv' saved.\n",
      "'valid_loss_backward_80.csv' saved.\n",
      "'model06_backward_80_best.pth' saved.\n",
      "- train minibatches = 1\n",
      "- valid minibatches = 1\n",
      "- test minibatches = 1\n"
     ]
    },
    {
     "data": {
      "application/vnd.jupyter.widget-view+json": {
       "model_id": "8bc72dc0baf74d85942e9cb20bb18811",
       "version_major": 2,
       "version_minor": 0
      },
      "text/plain": [
       "HBox(children=(HTML(value='Epochs loop'), FloatProgress(value=0.0, max=20000.0), HTML(value='')))"
      ]
     },
     "metadata": {},
     "output_type": "display_data"
    },
    {
     "name": "stdout",
     "output_type": "stream",
     "text": [
      "\n",
      "Summary:\n",
      "-learning rate = 0.01710\n",
      "-Model saved after iteration 19142.\n",
      "-Train.  Loss=0.3711323\n",
      "-Valid.  Loss=0.3912955\n",
      "'train_loss_backward_81.csv' saved.\n",
      "'valid_loss_backward_81.csv' saved.\n",
      "'model06_backward_81_best.pth' saved.\n",
      "- train minibatches = 1\n",
      "- valid minibatches = 1\n",
      "- test minibatches = 1\n"
     ]
    },
    {
     "data": {
      "application/vnd.jupyter.widget-view+json": {
       "model_id": "d98e407aa9d44ea6a59f2d55979a9831",
       "version_major": 2,
       "version_minor": 0
      },
      "text/plain": [
       "HBox(children=(HTML(value='Epochs loop'), FloatProgress(value=0.0, max=20000.0), HTML(value='')))"
      ]
     },
     "metadata": {},
     "output_type": "display_data"
    },
    {
     "name": "stdout",
     "output_type": "stream",
     "text": [
      "\n",
      "Summary:\n",
      "-learning rate = 0.01710\n",
      "-Model saved after iteration 5.\n",
      "-Train.  Loss=0.0021331\n",
      "-Valid.  Loss=0.1961513\n",
      "'train_loss_backward_82.csv' saved.\n",
      "'valid_loss_backward_82.csv' saved.\n",
      "'model06_backward_82_best.pth' saved.\n",
      "- train minibatches = 1\n",
      "- valid minibatches = 1\n",
      "- test minibatches = 1\n"
     ]
    },
    {
     "data": {
      "application/vnd.jupyter.widget-view+json": {
       "model_id": "ca8d2e1d1a554e10ae607de9213911c8",
       "version_major": 2,
       "version_minor": 0
      },
      "text/plain": [
       "HBox(children=(HTML(value='Epochs loop'), FloatProgress(value=0.0, max=20000.0), HTML(value='')))"
      ]
     },
     "metadata": {},
     "output_type": "display_data"
    },
    {
     "name": "stdout",
     "output_type": "stream",
     "text": [
      "\n",
      "Summary:\n",
      "-learning rate = 0.01710\n",
      "-Model saved after iteration 19526.\n",
      "-Train.  Loss=0.6075460\n",
      "-Valid.  Loss=0.5389948\n",
      "'train_loss_backward_83.csv' saved.\n",
      "'valid_loss_backward_83.csv' saved.\n",
      "'model06_backward_83_best.pth' saved.\n",
      "- train minibatches = 1\n",
      "- valid minibatches = 1\n",
      "- test minibatches = 1\n"
     ]
    },
    {
     "data": {
      "application/vnd.jupyter.widget-view+json": {
       "model_id": "b9df6957a48843048a8fe2dd6da0db6e",
       "version_major": 2,
       "version_minor": 0
      },
      "text/plain": [
       "HBox(children=(HTML(value='Epochs loop'), FloatProgress(value=0.0, max=20000.0), HTML(value='')))"
      ]
     },
     "metadata": {},
     "output_type": "display_data"
    },
    {
     "name": "stdout",
     "output_type": "stream",
     "text": [
      "\n",
      "Summary:\n",
      "-learning rate = 0.01710\n",
      "-Model saved after iteration 19788.\n",
      "-Train.  Loss=0.4296977\n",
      "-Valid.  Loss=0.5606037\n",
      "'train_loss_backward_84.csv' saved.\n",
      "'valid_loss_backward_84.csv' saved.\n",
      "'model06_backward_84_best.pth' saved.\n",
      "- train minibatches = 1\n",
      "- valid minibatches = 1\n",
      "- test minibatches = 1\n"
     ]
    },
    {
     "data": {
      "application/vnd.jupyter.widget-view+json": {
       "model_id": "0e44c45d1bd74065a18c892eca7cfa37",
       "version_major": 2,
       "version_minor": 0
      },
      "text/plain": [
       "HBox(children=(HTML(value='Epochs loop'), FloatProgress(value=0.0, max=20000.0), HTML(value='')))"
      ]
     },
     "metadata": {},
     "output_type": "display_data"
    },
    {
     "name": "stdout",
     "output_type": "stream",
     "text": [
      "\n",
      "Summary:\n",
      "-learning rate = 0.01710\n",
      "-Model saved after iteration 66.\n",
      "-Train.  Loss=0.0020300\n",
      "-Valid.  Loss=0.1398119\n",
      "'train_loss_backward_85.csv' saved.\n",
      "'valid_loss_backward_85.csv' saved.\n",
      "'model06_backward_85_best.pth' saved.\n",
      "- train minibatches = 1\n",
      "- valid minibatches = 1\n",
      "- test minibatches = 1\n"
     ]
    },
    {
     "data": {
      "application/vnd.jupyter.widget-view+json": {
       "model_id": "cf05a0a8bedc45299cf8626bce5d4345",
       "version_major": 2,
       "version_minor": 0
      },
      "text/plain": [
       "HBox(children=(HTML(value='Epochs loop'), FloatProgress(value=0.0, max=20000.0), HTML(value='')))"
      ]
     },
     "metadata": {},
     "output_type": "display_data"
    },
    {
     "name": "stdout",
     "output_type": "stream",
     "text": [
      "\n",
      "Summary:\n",
      "-learning rate = 0.01710\n",
      "-Model saved after iteration 19693.\n",
      "-Train.  Loss=0.4608196\n",
      "-Valid.  Loss=0.4490257\n",
      "'train_loss_backward_86.csv' saved.\n",
      "'valid_loss_backward_86.csv' saved.\n",
      "'model06_backward_86_best.pth' saved.\n",
      "- train minibatches = 1\n",
      "- valid minibatches = 1\n",
      "- test minibatches = 1\n"
     ]
    },
    {
     "data": {
      "application/vnd.jupyter.widget-view+json": {
       "model_id": "eea47b027e81425c8c6a4d2b049e2e8a",
       "version_major": 2,
       "version_minor": 0
      },
      "text/plain": [
       "HBox(children=(HTML(value='Epochs loop'), FloatProgress(value=0.0, max=20000.0), HTML(value='')))"
      ]
     },
     "metadata": {},
     "output_type": "display_data"
    },
    {
     "name": "stdout",
     "output_type": "stream",
     "text": [
      "\n",
      "Summary:\n",
      "-learning rate = 0.01710\n",
      "-Model saved after iteration 18786.\n",
      "-Train.  Loss=0.1654885\n",
      "-Valid.  Loss=0.3138037\n",
      "'train_loss_backward_87.csv' saved.\n",
      "'valid_loss_backward_87.csv' saved.\n",
      "'model06_backward_87_best.pth' saved.\n",
      "- train minibatches = 1\n",
      "- valid minibatches = 1\n",
      "- test minibatches = 1\n"
     ]
    },
    {
     "data": {
      "application/vnd.jupyter.widget-view+json": {
       "model_id": "69b85395abbb4895b2f0154e8e41c430",
       "version_major": 2,
       "version_minor": 0
      },
      "text/plain": [
       "HBox(children=(HTML(value='Epochs loop'), FloatProgress(value=0.0, max=20000.0), HTML(value='')))"
      ]
     },
     "metadata": {},
     "output_type": "display_data"
    },
    {
     "name": "stdout",
     "output_type": "stream",
     "text": [
      "\n",
      "Summary:\n",
      "-learning rate = 0.01710\n",
      "-Model saved after iteration 17764.\n",
      "-Train.  Loss=0.1699380\n",
      "-Valid.  Loss=0.3888687\n",
      "'train_loss_backward_88.csv' saved.\n",
      "'valid_loss_backward_88.csv' saved.\n",
      "'model06_backward_88_best.pth' saved.\n",
      "- train minibatches = 1\n",
      "- valid minibatches = 1\n",
      "- test minibatches = 1\n"
     ]
    },
    {
     "data": {
      "application/vnd.jupyter.widget-view+json": {
       "model_id": "3eb31dee615441119d1c3d243aec4a99",
       "version_major": 2,
       "version_minor": 0
      },
      "text/plain": [
       "HBox(children=(HTML(value='Epochs loop'), FloatProgress(value=0.0, max=20000.0), HTML(value='')))"
      ]
     },
     "metadata": {},
     "output_type": "display_data"
    },
    {
     "name": "stdout",
     "output_type": "stream",
     "text": [
      "\n",
      "Summary:\n",
      "-learning rate = 0.01710\n",
      "-Model saved after iteration 18803.\n",
      "-Train.  Loss=0.1782177\n",
      "-Valid.  Loss=0.4486125\n",
      "'train_loss_backward_89.csv' saved.\n",
      "'valid_loss_backward_89.csv' saved.\n",
      "'model06_backward_89_best.pth' saved.\n",
      "- train minibatches = 1\n",
      "- valid minibatches = 1\n",
      "- test minibatches = 1\n"
     ]
    },
    {
     "data": {
      "application/vnd.jupyter.widget-view+json": {
       "model_id": "53362288885c418ea6216c1dc0956b4d",
       "version_major": 2,
       "version_minor": 0
      },
      "text/plain": [
       "HBox(children=(HTML(value='Epochs loop'), FloatProgress(value=0.0, max=20000.0), HTML(value='')))"
      ]
     },
     "metadata": {},
     "output_type": "display_data"
    },
    {
     "name": "stdout",
     "output_type": "stream",
     "text": [
      "\n",
      "Summary:\n",
      "-learning rate = 0.01710\n",
      "-Model saved after iteration 20.\n",
      "-Train.  Loss=0.0006485\n",
      "-Valid.  Loss=0.1591340\n",
      "'train_loss_backward_90.csv' saved.\n",
      "'valid_loss_backward_90.csv' saved.\n",
      "'model06_backward_90_best.pth' saved.\n",
      "- train minibatches = 1\n",
      "- valid minibatches = 1\n",
      "- test minibatches = 1\n"
     ]
    },
    {
     "data": {
      "application/vnd.jupyter.widget-view+json": {
       "model_id": "73ab4cdcd9714c359ea2c551e68f32cd",
       "version_major": 2,
       "version_minor": 0
      },
      "text/plain": [
       "HBox(children=(HTML(value='Epochs loop'), FloatProgress(value=0.0, max=20000.0), HTML(value='')))"
      ]
     },
     "metadata": {},
     "output_type": "display_data"
    },
    {
     "name": "stdout",
     "output_type": "stream",
     "text": [
      "\n",
      "Summary:\n",
      "-learning rate = 0.01710\n",
      "-Model saved after iteration 15.\n",
      "-Train.  Loss=0.0023811\n",
      "-Valid.  Loss=0.2128977\n",
      "'train_loss_backward_91.csv' saved.\n",
      "'valid_loss_backward_91.csv' saved.\n",
      "'model06_backward_91_best.pth' saved.\n",
      "- train minibatches = 1\n",
      "- valid minibatches = 1\n",
      "- test minibatches = 1\n"
     ]
    },
    {
     "data": {
      "application/vnd.jupyter.widget-view+json": {
       "model_id": "358fa4d220ac48b6b18bfcc5a770de66",
       "version_major": 2,
       "version_minor": 0
      },
      "text/plain": [
       "HBox(children=(HTML(value='Epochs loop'), FloatProgress(value=0.0, max=20000.0), HTML(value='')))"
      ]
     },
     "metadata": {},
     "output_type": "display_data"
    },
    {
     "name": "stdout",
     "output_type": "stream",
     "text": [
      "\n",
      "Summary:\n",
      "-learning rate = 0.01710\n",
      "-Model saved after iteration 1.\n",
      "-Train.  Loss=0.0020170\n",
      "-Valid.  Loss=0.3408783\n",
      "'train_loss_backward_92.csv' saved.\n",
      "'valid_loss_backward_92.csv' saved.\n",
      "'model06_backward_92_best.pth' saved.\n",
      "- train minibatches = 1\n",
      "- valid minibatches = 1\n",
      "- test minibatches = 1\n"
     ]
    },
    {
     "data": {
      "application/vnd.jupyter.widget-view+json": {
       "model_id": "6d385a65e4054c90a0c81a4ad6b64454",
       "version_major": 2,
       "version_minor": 0
      },
      "text/plain": [
       "HBox(children=(HTML(value='Epochs loop'), FloatProgress(value=0.0, max=20000.0), HTML(value='')))"
      ]
     },
     "metadata": {},
     "output_type": "display_data"
    },
    {
     "name": "stdout",
     "output_type": "stream",
     "text": [
      "\n",
      "Summary:\n",
      "-learning rate = 0.01710\n",
      "-Model saved after iteration 18.\n",
      "-Train.  Loss=0.0020225\n",
      "-Valid.  Loss=0.3380044\n",
      "'train_loss_backward_93.csv' saved.\n",
      "'valid_loss_backward_93.csv' saved.\n",
      "'model06_backward_93_best.pth' saved.\n",
      "- train minibatches = 1\n",
      "- valid minibatches = 1\n",
      "- test minibatches = 1\n"
     ]
    },
    {
     "data": {
      "application/vnd.jupyter.widget-view+json": {
       "model_id": "a74aeb0676844f2a814f2b1370b11817",
       "version_major": 2,
       "version_minor": 0
      },
      "text/plain": [
       "HBox(children=(HTML(value='Epochs loop'), FloatProgress(value=0.0, max=20000.0), HTML(value='')))"
      ]
     },
     "metadata": {},
     "output_type": "display_data"
    },
    {
     "name": "stdout",
     "output_type": "stream",
     "text": [
      "\n",
      "Summary:\n",
      "-learning rate = 0.01710\n",
      "-Model saved after iteration 18648.\n",
      "-Train.  Loss=0.6135342\n",
      "-Valid.  Loss=0.2853238\n",
      "'train_loss_backward_94.csv' saved.\n",
      "'valid_loss_backward_94.csv' saved.\n",
      "'model06_backward_94_best.pth' saved.\n",
      "- train minibatches = 1\n",
      "- valid minibatches = 1\n",
      "- test minibatches = 1\n"
     ]
    },
    {
     "data": {
      "application/vnd.jupyter.widget-view+json": {
       "model_id": "4ebb0e6daa9e479fae0f0d2194919734",
       "version_major": 2,
       "version_minor": 0
      },
      "text/plain": [
       "HBox(children=(HTML(value='Epochs loop'), FloatProgress(value=0.0, max=20000.0), HTML(value='')))"
      ]
     },
     "metadata": {},
     "output_type": "display_data"
    },
    {
     "name": "stdout",
     "output_type": "stream",
     "text": [
      "\n",
      "Summary:\n",
      "-learning rate = 0.01710\n",
      "-Model saved after iteration 18013.\n",
      "-Train.  Loss=0.1135259\n",
      "-Valid.  Loss=0.3826305\n",
      "'train_loss_backward_95.csv' saved.\n",
      "'valid_loss_backward_95.csv' saved.\n",
      "'model06_backward_95_best.pth' saved.\n",
      "- train minibatches = 1\n",
      "- valid minibatches = 1\n",
      "- test minibatches = 1\n"
     ]
    },
    {
     "data": {
      "application/vnd.jupyter.widget-view+json": {
       "model_id": "0ba8e0967a3e41b89649c6b8ec772697",
       "version_major": 2,
       "version_minor": 0
      },
      "text/plain": [
       "HBox(children=(HTML(value='Epochs loop'), FloatProgress(value=0.0, max=20000.0), HTML(value='')))"
      ]
     },
     "metadata": {},
     "output_type": "display_data"
    },
    {
     "name": "stdout",
     "output_type": "stream",
     "text": [
      "\n",
      "Summary:\n",
      "-learning rate = 0.01710\n",
      "-Model saved after iteration 155.\n",
      "-Train.  Loss=0.0000000\n",
      "-Valid.  Loss=0.2952295\n",
      "'train_loss_backward_96.csv' saved.\n",
      "'valid_loss_backward_96.csv' saved.\n",
      "'model06_backward_96_best.pth' saved.\n",
      "- train minibatches = 1\n",
      "- valid minibatches = 1\n",
      "- test minibatches = 1\n"
     ]
    },
    {
     "data": {
      "application/vnd.jupyter.widget-view+json": {
       "model_id": "734965c6bff94c0bbde5772bf42ae7cd",
       "version_major": 2,
       "version_minor": 0
      },
      "text/plain": [
       "HBox(children=(HTML(value='Epochs loop'), FloatProgress(value=0.0, max=20000.0), HTML(value='')))"
      ]
     },
     "metadata": {},
     "output_type": "display_data"
    },
    {
     "name": "stdout",
     "output_type": "stream",
     "text": [
      "\n",
      "Summary:\n",
      "-learning rate = 0.01710\n",
      "-Model saved after iteration 19341.\n",
      "-Train.  Loss=0.3718340\n",
      "-Valid.  Loss=0.4421827\n",
      "'train_loss_backward_97.csv' saved.\n",
      "'valid_loss_backward_97.csv' saved.\n",
      "'model06_backward_97_best.pth' saved.\n",
      "- train minibatches = 1\n",
      "- valid minibatches = 1\n",
      "- test minibatches = 1\n"
     ]
    },
    {
     "data": {
      "application/vnd.jupyter.widget-view+json": {
       "model_id": "59dd2b94dd574e1893161efa265bc039",
       "version_major": 2,
       "version_minor": 0
      },
      "text/plain": [
       "HBox(children=(HTML(value='Epochs loop'), FloatProgress(value=0.0, max=20000.0), HTML(value='')))"
      ]
     },
     "metadata": {},
     "output_type": "display_data"
    },
    {
     "name": "stdout",
     "output_type": "stream",
     "text": [
      "\n",
      "Summary:\n",
      "-learning rate = 0.01710\n",
      "-Model saved after iteration 19704.\n",
      "-Train.  Loss=0.4395564\n",
      "-Valid.  Loss=0.4546482\n",
      "'train_loss_backward_98.csv' saved.\n",
      "'valid_loss_backward_98.csv' saved.\n",
      "'model06_backward_98_best.pth' saved.\n",
      "- train minibatches = 1\n",
      "- valid minibatches = 1\n",
      "- test minibatches = 1\n"
     ]
    },
    {
     "data": {
      "application/vnd.jupyter.widget-view+json": {
       "model_id": "7cf332cbe7704d68859f3ef4b30ff21a",
       "version_major": 2,
       "version_minor": 0
      },
      "text/plain": [
       "HBox(children=(HTML(value='Epochs loop'), FloatProgress(value=0.0, max=20000.0), HTML(value='')))"
      ]
     },
     "metadata": {},
     "output_type": "display_data"
    },
    {
     "name": "stdout",
     "output_type": "stream",
     "text": [
      "\n",
      "Summary:\n",
      "-learning rate = 0.01710\n",
      "-Model saved after iteration 19268.\n",
      "-Train.  Loss=0.2840334\n",
      "-Valid.  Loss=0.3826322\n",
      "'train_loss_backward_99.csv' saved.\n",
      "'valid_loss_backward_99.csv' saved.\n",
      "'model06_backward_99_best.pth' saved.\n",
      "- train minibatches = 1\n",
      "- valid minibatches = 1\n",
      "- test minibatches = 1\n"
     ]
    },
    {
     "data": {
      "application/vnd.jupyter.widget-view+json": {
       "model_id": "830255b982ac478db927a9a22d850d3d",
       "version_major": 2,
       "version_minor": 0
      },
      "text/plain": [
       "HBox(children=(HTML(value='Epochs loop'), FloatProgress(value=0.0, max=20000.0), HTML(value='')))"
      ]
     },
     "metadata": {},
     "output_type": "display_data"
    },
    {
     "name": "stdout",
     "output_type": "stream",
     "text": [
      "\n",
      "Summary:\n",
      "-learning rate = 0.01710\n",
      "-Model saved after iteration 19127.\n",
      "-Train.  Loss=0.3220825\n",
      "-Valid.  Loss=0.4093539\n",
      "'train_loss_backward_100.csv' saved.\n",
      "'valid_loss_backward_100.csv' saved.\n",
      "'model06_backward_100_best.pth' saved.\n",
      "\n"
     ]
    }
   ],
   "source": [
    "# Find Accuracy, Loss +/- STD (Lockdown: path 2)\n",
    "data_output = 'data_lockdown_06Arcene'\n",
    "accuracy_forward = pd.DataFrame(columns=['train_acc', 'valid_acc', 'test_acc', \n",
    "                                         'train_loss', 'valid_loss', 'test_loss'])\n",
    "\n",
    "partitions = 100\n",
    "iterator = tqdm.notebook.tqdm(range(1, partitions + 1), desc='Partitions loop')\n",
    "for n in iterator:\n",
    "    X = pd.read_csv('dataset_06Arcene/X.csv', header=None)\n",
    "    y = pd.read_csv('dataset_06Arcene/y.csv', header=None)\n",
    "    split_data(X, y, seed1=seed1[n], seed2=seed2[n])\n",
    "\n",
    "# .normalize data sets\n",
    "    df_to_tensor()\n",
    "    normalize_data()\n",
    "    make_DataLoaders()\n",
    "\n",
    "# .train model (forward)\n",
    "    lr = best_lr_bward\n",
    "    layer_sizes = [5, 2]\n",
    "    epochs = 20000\n",
    "    data_out = \"data_lockdown_06Arcene/partitions\"\n",
    "    lock_flag = True\n",
    "    features = xtrain.size(1)\n",
    "    step = 1\n",
    "    model_forward_name = 'data_lockdown_06Arcene/partitions/model06_forward_'+str(n)+'_last.pth'\n",
    "    fname = 'model06_backward_'+str(n)\n",
    "    train_loss, valid_loss = train_model(\n",
    "                             lr, \n",
    "                             features, \n",
    "                             layer_sizes,\n",
    "                             lock_flag = lock_flag,\n",
    "                             epochs = epochs,\n",
    "                             early_stop = epochs, \n",
    "                             fname = fname)\n",
    "# .save relevant data\n",
    "    f3 = [fname+'_best.pth']\n",
    "    save_output(data_out, \n",
    "                'train_loss_backward_'+str(n)+'.csv', \n",
    "                'valid_loss_backward_'+str(n)+'.csv', f3)\n",
    "\n",
    "# .find Loss, Accurary, etc...\n",
    "    mm = MyNet(features, layer_sizes)\n",
    "    mm.load_state_dict(torch.load(os.path.join(data_out, fname+'_best.pth')))\n",
    "    mm = mm.to(device)\n",
    "    mm.eval()\n",
    "    \n",
    "    ypred = mm(xtrain)\n",
    "    loss = loss_type(ypred, ytrain.view(-1))\n",
    "    accu = dataset_accuracy(train_dataloader, mm, device)\n",
    "    accuracy_forward.loc[n, 'train_loss'] = loss.detach().item()\n",
    "    accuracy_forward.loc[n, 'train_acc'] = accu\n",
    "\n",
    "    ypred = mm(xvalid)\n",
    "    loss = loss_type(ypred, yvalid.view(-1))\n",
    "    accu = dataset_accuracy(valid_dataloader, mm, device)\n",
    "    accuracy_forward.loc[n, 'valid_loss'] = loss.detach().item()\n",
    "    accuracy_forward.loc[n, 'valid_acc'] = accu\n",
    "\n",
    "    ypred = mm(xtest)\n",
    "    loss = loss_type(ypred, ytest.view(-1))\n",
    "    accu = dataset_accuracy(test_dataloader, mm, device)\n",
    "    accuracy_forward.loc[n, 'test_loss'] = loss.detach().item()\n",
    "    accuracy_forward.loc[n, 'test_acc'] = accu\n",
    "\n",
    "    accuracy_forward.to_csv(os.path.join(data_out, 'accuracy06_backward.csv'), index=True)"
   ]
  },
  {
   "cell_type": "code",
   "execution_count": 296,
   "metadata": {
    "ExecuteTime": {
     "end_time": "2021-02-25T00:00:53.240431Z",
     "start_time": "2021-02-25T00:00:53.232541Z"
    },
    "code_folding": [
     0
    ]
   },
   "outputs": [
    {
     "name": "stdout",
     "output_type": "stream",
     "text": [
      "Train accuracy = 0.9152 +/- 0.0882\n",
      "Train accuracy = 0.8395 +/- 0.0674\n",
      "Test accuracy = 0.7408 +/- 0.0807\n"
     ]
    }
   ],
   "source": [
    "# Display results\n",
    "accuracy_forward = pd.read_csv('data_lockdown_06Arcene/accuracy06_backward.csv', index_col=0)\n",
    "print(\"Train accuracy = {:.4f} +/- {:.4f}\".format(accuracy_forward['train_acc'].mean(), \n",
    "                                                  accuracy_forward['train_acc'].std()))\n",
    "print(\"Train accuracy = {:.4f} +/- {:.4f}\".format(accuracy_forward['valid_acc'].mean(), \n",
    "                                                  accuracy_forward['valid_acc'].std()))\n",
    "print(\"Test accuracy = {:.4f} +/- {:.4f}\".format(accuracy_forward['test_acc'].mean(), \n",
    "                                                 accuracy_forward['test_acc'].std()))"
   ]
  },
  {
   "cell_type": "markdown",
   "metadata": {},
   "source": [
    "* ### Comparison"
   ]
  },
  {
   "cell_type": "code",
   "execution_count": 2,
   "metadata": {
    "ExecuteTime": {
     "end_time": "2021-06-18T20:44:12.821650Z",
     "start_time": "2021-06-18T20:44:12.805042Z"
    },
    "code_folding": []
   },
   "outputs": [],
   "source": [
    "# Read distributions\n",
    "accuracy_lockdown = pd.read_csv('data_lockdown_06Arcene/accuracy06_backward.csv', index_col=0)\n",
    "accuracy_forward  = pd.read_csv('data_unconstrained_06Arcene/accuracy06_forward.csv', index_col=0)\n",
    "accuracy_xgb      = pd.read_csv('data_xgb_06Arcene/accuracy_xgb.csv')\n",
    "accuracy_lasso    = pd.read_csv('data_lasso_06Arcene/accuracy_lasso.csv', index_col=0)"
   ]
  },
  {
   "cell_type": "code",
   "execution_count": 301,
   "metadata": {
    "ExecuteTime": {
     "end_time": "2021-02-25T00:08:06.184647Z",
     "start_time": "2021-02-25T00:08:06.176696Z"
    },
    "code_folding": [
     0
    ]
   },
   "outputs": [
    {
     "name": "stdout",
     "output_type": "stream",
     "text": [
      "R2 on 'test' set:\n",
      "Lockdown = 0.7408 +/- 0.081\n",
      "Forward  = 0.7610 +/- 0.082\n",
      "xgboost  = 0.7625 +/- 0.072\n",
      "Lasso    = 0.7110 +/- 0.067\n",
      "\n",
      "R2 on 'validation' set:\n",
      "Lockdown = 0.8395 +/- 0.067\n",
      "Forward  = 0.7658 +/- 0.084\n",
      "xgboost  = 0.7548 +/- 0.069\n",
      "Lasso    = 0.7125 +/- 0.073\n"
     ]
    }
   ],
   "source": [
    "# Accuracy & Loss\n",
    "print(\"R2 on 'test' set:\")\n",
    "print(\"Lockdown = {:.4f} +/- {:.3f}\".format(accuracy_lockdown['test_acc'].mean(), \n",
    "                                            accuracy_lockdown['test_acc'].std()))\n",
    "print(\"Forward  = {:.4f} +/- {:.3f}\".format(accuracy_forward['test_acc'].mean(), \n",
    "                                            accuracy_forward['test_acc'].std()))\n",
    "print(\"xgboost  = {:.4f} +/- {:.3f}\".format(accuracy_xgb['test_acc'].mean(), \n",
    "                                            accuracy_xgb['test_acc'].std()))\n",
    "print(\"Lasso    = {:.4f} +/- {:.3f}\".format(accuracy_lasso['test_acc'].mean(), \n",
    "                                            accuracy_lasso['test_acc'].std()))\n",
    "\n",
    "print(\"\\nR2 on 'validation' set:\")\n",
    "print(\"Lockdown = {:.4f} +/- {:.3f}\".format(accuracy_lockdown['valid_acc'].mean(), \n",
    "                                            accuracy_lockdown['valid_acc'].std()))\n",
    "print(\"Forward  = {:.4f} +/- {:.3f}\".format(accuracy_forward['valid_acc'].mean(), \n",
    "                                            accuracy_forward['valid_acc'].std()))\n",
    "print(\"xgboost  = {:.4f} +/- {:.3f}\".format(accuracy_xgb['valid_acc'].mean(), \n",
    "                                            accuracy_xgb['valid_acc'].std()))\n",
    "print(\"Lasso    = {:.4f} +/- {:.3f}\".format(accuracy_lasso['valid_acc'].mean(), \n",
    "                                            accuracy_lasso['valid_acc'].std()))"
   ]
  },
  {
   "cell_type": "code",
   "execution_count": 304,
   "metadata": {
    "ExecuteTime": {
     "end_time": "2021-02-25T00:10:35.096235Z",
     "start_time": "2021-02-25T00:10:35.089393Z"
    },
    "code_folding": [
     0
    ]
   },
   "outputs": [
    {
     "name": "stdout",
     "output_type": "stream",
     "text": [
      "On 'test' set:\n",
      "Lockdown vs Forward: pvalue=4.194067e-02, statistic=-2.060836e+00\n",
      "Lockdown vs xgboost: pvalue=1.819462e-02, statistic=-2.401488e+00\n",
      "Lockdown vs lasso:   pvalue=3.842283e-03, statistic=2.960652e+00\n",
      "\n",
      "On 'validation' set:\n",
      "Lockdown vs Forward: pvalue=2.181670e-14, statistic=8.945038e+00\n",
      "Lockdown vs xgboost: pvalue=6.511080e-18, statistic=1.056238e+01\n",
      "Lockdown vs lasso:   pvalue=5.803888e-26, statistic=1.436922e+01\n"
     ]
    }
   ],
   "source": [
    "# Print out test results\n",
    "print(\"On 'test' set:\")\n",
    "statistic, pvalue = stats.ttest_rel(accuracy_lockdown['test_acc'], accuracy_forward['test_acc'])\n",
    "print(\"Lockdown vs Forward: pvalue={:e}, statistic={:e}\".format(pvalue, statistic))\n",
    "\n",
    "statistic, pvalue = stats.ttest_rel(accuracy_lockdown['test_acc'], accuracy_xgb['test_acc'])\n",
    "print(\"Lockdown vs xgboost: pvalue={:e}, statistic={:e}\".format(pvalue, statistic))\n",
    "\n",
    "statistic, pvalue = stats.ttest_rel(accuracy_lockdown['test_acc'], accuracy_lasso['test_acc'])\n",
    "print(\"Lockdown vs lasso:   pvalue={:e}, statistic={:e}\".format(pvalue, statistic))\n",
    "\n",
    "# \n",
    "print(\"\\nOn 'validation' set:\")\n",
    "statistic, pvalue = stats.ttest_rel(accuracy_lockdown['valid_acc'], accuracy_forward['valid_acc'])\n",
    "print(\"Lockdown vs Forward: pvalue={:e}, statistic={:e}\".format(pvalue, statistic))\n",
    "\n",
    "statistic, pvalue = stats.ttest_rel(accuracy_lockdown['valid_acc'], accuracy_xgb['valid_acc'])\n",
    "print(\"Lockdown vs xgboost: pvalue={:e}, statistic={:e}\".format(pvalue, statistic))\n",
    "\n",
    "statistic, pvalue = stats.ttest_rel(accuracy_lockdown['valid_acc'], accuracy_lasso['valid_acc'])\n",
    "print(\"Lockdown vs lasso:   pvalue={:e}, statistic={:e}\".format(pvalue, statistic))"
   ]
  },
  {
   "cell_type": "code",
   "execution_count": 4,
   "metadata": {
    "ExecuteTime": {
     "end_time": "2021-06-18T20:48:17.096716Z",
     "start_time": "2021-06-18T20:48:17.082347Z"
    },
    "code_folding": [
     0
    ]
   },
   "outputs": [
    {
     "name": "stdout",
     "output_type": "stream",
     "text": [
      "Lasso   = 0.289 +/- 0.067\n",
      "GB      = 0.237 +/- 0.072\n",
      "FCNN    = 0.239 +/- 0.082\n",
      "Lockout = 0.259 +/- 0.081\n",
      "\n",
      "On 'test' set:\n",
      "Lockdown vs Forward: pvalue=4.19e-02, statistic=2.06e+00\n",
      "Lockdown vs xgboost: pvalue=1.82e-02, statistic=2.40e+00\n",
      "Lockdown vs lasso:   pvalue=3.84e-03, statistic=-2.96e+00\n"
     ]
    }
   ],
   "source": [
    "# Relative Root Mean Squared Error\n",
    "rrmse_lasso = 1.0 - accuracy_lasso['test_acc']\n",
    "print(\"Lasso   = {:.3f} +/- {:.3f}\".format(rrmse_lasso.mean(), rrmse_lasso.std()))\n",
    "\n",
    "rrmse_GB = 1.0 - accuracy_xgb['test_acc']\n",
    "print(\"GB      = {:.3f} +/- {:.3f}\".format(rrmse_GB.mean(), rrmse_GB.std()))\n",
    "\n",
    "rrmse_fcnn = 1.0 - accuracy_forward['test_acc']\n",
    "print(\"FCNN    = {:.3f} +/- {:.3f}\".format(rrmse_fcnn.mean(), rrmse_fcnn.std()))\n",
    "\n",
    "rrmse_lockout = 1.0 - accuracy_lockdown['test_acc']\n",
    "print(\"Lockout = {:.3f} +/- {:.3f}\".format(rrmse_lockout.mean(), rrmse_lockout.std()))\n",
    "\n",
    "# Print out test results\n",
    "print(\"\\nOn 'test' set:\")\n",
    "statistic, pvalue = stats.ttest_rel(rrmse_lockout, rrmse_fcnn)\n",
    "print(\"Lockdown vs Forward: pvalue={:.2e}, statistic={:.2e}\".format(pvalue, statistic))\n",
    "\n",
    "statistic, pvalue = stats.ttest_rel(rrmse_lockout, rrmse_GB)\n",
    "print(\"Lockdown vs xgboost: pvalue={:.2e}, statistic={:.2e}\".format(pvalue, statistic))\n",
    "\n",
    "statistic, pvalue = stats.ttest_rel(rrmse_lockout, rrmse_lasso)\n",
    "print(\"Lockdown vs lasso:   pvalue={:.2e}, statistic={:.2e}\".format(pvalue, statistic))"
   ]
  }
 ],
 "metadata": {
  "kernelspec": {
   "display_name": "Python 3",
   "language": "python",
   "name": "python3"
  },
  "language_info": {
   "codemirror_mode": {
    "name": "ipython",
    "version": 3
   },
   "file_extension": ".py",
   "mimetype": "text/x-python",
   "name": "python",
   "nbconvert_exporter": "python",
   "pygments_lexer": "ipython3",
   "version": "3.8.3"
  },
  "toc": {
   "base_numbering": 1,
   "nav_menu": {},
   "number_sections": true,
   "sideBar": true,
   "skip_h1_title": true,
   "title_cell": "Table of Contents",
   "title_sidebar": "Contents",
   "toc_cell": false,
   "toc_position": {
    "height": "calc(100% - 180px)",
    "left": "10px",
    "top": "150px",
    "width": "302.2px"
   },
   "toc_section_display": true,
   "toc_window_display": true
  }
 },
 "nbformat": 4,
 "nbformat_minor": 2
}
