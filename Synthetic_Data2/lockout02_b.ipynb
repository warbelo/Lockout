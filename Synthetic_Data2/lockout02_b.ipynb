{
 "cells": [
  {
   "cell_type": "markdown",
   "id": "variable-biology",
   "metadata": {},
   "source": [
    "# Synthetic Dataset 2b: Friedman Function"
   ]
  },
  {
   "cell_type": "code",
   "execution_count": 1,
   "id": "higher-documentary",
   "metadata": {
    "ExecuteTime": {
     "end_time": "2021-07-08T20:29:23.307791Z",
     "start_time": "2021-07-08T20:29:21.856596Z"
    },
    "code_folding": [
     0
    ]
   },
   "outputs": [],
   "source": [
    "# Import libraries and modules\n",
    "import numpy as np\n",
    "import pandas as pd\n",
    "\n",
    "import xgboost as xgb\n",
    "from xgboost import plot_tree\n",
    "\n",
    "from sklearn.metrics import r2_score, classification_report, confusion_matrix,           \\\n",
    "                            roc_curve, roc_auc_score, plot_confusion_matrix, f1_score,   \\\n",
    "                            balanced_accuracy_score, accuracy_score, mean_squared_error, \\\n",
    "                            log_loss\n",
    "from sklearn.datasets import make_friedman1\n",
    "from sklearn.model_selection import train_test_split, GridSearchCV\n",
    "from sklearn.linear_model import LogisticRegression, LinearRegression, SGDClassifier,    \\\n",
    "                                 Lasso, lasso_path\n",
    "from sklearn.preprocessing import StandardScaler, LabelBinarizer\n",
    "from sklearn.impute import SimpleImputer\n",
    "from sklearn.pipeline import Pipeline\n",
    "from sklearn_pandas import DataFrameMapper\n",
    "\n",
    "import scipy\n",
    "from scipy import stats\n",
    "\n",
    "import os\n",
    "import shutil\n",
    "from pathlib import Path\n",
    "\n",
    "import matplotlib as mpl\n",
    "import matplotlib.pyplot as plt\n",
    "import matplotlib.cm as cm\n",
    "\n",
    "import albumentations as A\n",
    "from albumentations.pytorch import ToTensorV2\n",
    "import cv2\n",
    "import itertools\n",
    "\n",
    "import time\n",
    "import tqdm\n",
    "import copy\n",
    "\n",
    "import torch\n",
    "import torchvision\n",
    "import torchvision.transforms as transforms\n",
    "import torch.nn as nn\n",
    "import torch.nn.functional as F\n",
    "import torch.optim as optim\n",
    "import torchvision.models as models\n",
    "from torch.utils.data import Dataset\n",
    "\n",
    "import PIL\n",
    "import joblib\n",
    "import json\n",
    "\n",
    "# import mysgd"
   ]
  },
  {
   "cell_type": "code",
   "execution_count": 2,
   "id": "presidential-education",
   "metadata": {
    "ExecuteTime": {
     "end_time": "2021-07-08T20:29:28.004714Z",
     "start_time": "2021-07-08T20:29:27.996824Z"
    },
    "code_folding": [
     0
    ]
   },
   "outputs": [
    {
     "data": {
      "text/plain": [
       "<module 'lockout' from '/Users/arbelogonzalezw/Documents/ML_WORK/LIBS/Lockout_copy/lockout.py'>"
      ]
     },
     "execution_count": 2,
     "metadata": {},
     "output_type": "execute_result"
    }
   ],
   "source": [
    "# Import user-defined modules\n",
    "import sys\n",
    "import imp\n",
    "sys.path.append('/Users/arbelogonzalezw/Documents/ML_WORK/LIBS/Lockout_copy/')\n",
    "import tools_general as tg\n",
    "import tools_pytorch as tp\n",
    "import lockout       as ld\n",
    "imp.reload(tg)\n",
    "imp.reload(tp)\n",
    "imp.reload(ld)"
   ]
  },
  {
   "cell_type": "markdown",
   "id": "dominican-paris",
   "metadata": {},
   "source": [
    "## Generate and save data"
   ]
  },
  {
   "cell_type": "code",
   "execution_count": 90,
   "id": "suspended-upset",
   "metadata": {
    "ExecuteTime": {
     "end_time": "2021-05-06T07:06:12.779973Z",
     "start_time": "2021-05-06T07:06:12.753819Z"
    },
    "code_folding": [
     0
    ]
   },
   "outputs": [
    {
     "name": "stdout",
     "output_type": "stream",
     "text": [
      "MEAN of 'ytrain' before adding noise = 14.72258186340332\n",
      "STD of 'ytrain' before adding noise = 4.893546104431152\n",
      "\n",
      "Gaussian noise added to 'ytrain with:\n",
      "- mean = 0.0\n",
      "- std = 2.446773052215576\n"
     ]
    }
   ],
   "source": [
    "# Generate 'train, valid, & test datasets\n",
    "torch.manual_seed(42)\n",
    "samples = 1000\n",
    "n_features = 200\n",
    "generate_flag = True\n",
    "pi = torch.Tensor([np.pi])\n",
    "\n",
    "xtrain = torch.rand(samples,n_features)\n",
    "ytrain = torch.zeros(samples)\n",
    "ytrain[:] = 10.0*torch.sin(pi*xtrain[:,0]*xtrain[:,1]) + 20.0*(xtrain[:,2] - 0.5)**2 + \\\n",
    "            10.0*xtrain[:,3] + 5.0*xtrain[:,4]\n",
    "\n",
    "xvalid = torch.rand(samples,n_features)\n",
    "yvalid = torch.zeros(samples)\n",
    "yvalid[:] = 10.0*torch.sin(pi*xvalid[:,0]*xvalid[:,1]) + 20.0*(xvalid[:,2] - 0.5)**2 + \\\n",
    "            10.0*xvalid[:,3] + 5.0*xvalid[:,4]\n",
    "\n",
    "xtest = torch.rand(samples,n_features)\n",
    "ytest = torch.zeros(samples)\n",
    "ytest[:] = 10.0*torch.sin(pi*xtest[:,0]*xtest[:,1]) + 20.0*(xtest[:,2] - 0.5)**2 +     \\\n",
    "            10.0*xtest[:,3] + 5.0*xtest[:,4]\n",
    "\n",
    "y_std = ytrain.std()\n",
    "print(\"MEAN of 'ytrain' before adding noise =\", ytrain.mean().item())\n",
    "print(\"STD of 'ytrain' before adding noise =\", y_std.item())\n",
    "\n",
    "y_std = 0.5*y_std\n",
    "y_mean = 0.0\n",
    "print(\"\\nGaussian noise added to 'ytrain with:\")\n",
    "print(\"- mean =\", y_mean)\n",
    "print(\"- std =\", y_std.item())\n",
    "\n",
    "ynoise1 = torch.normal(mean=y_mean, std=y_std, size=(samples, 1))\n",
    "ytrain[:] += ynoise1[:,0]\n",
    "# ynoise2 = torch.normal(mean=y_mean, std=y_std, size=(samples, 1))\n",
    "# yvalid[:] += ynoise2[:,0]"
   ]
  },
  {
   "cell_type": "code",
   "execution_count": 91,
   "id": "defined-reconstruction",
   "metadata": {
    "ExecuteTime": {
     "end_time": "2021-05-06T07:06:22.231499Z",
     "start_time": "2021-05-06T07:06:22.225834Z"
    },
    "code_folding": [
     0
    ]
   },
   "outputs": [],
   "source": [
    "# Convert to Pandas DataFrames\n",
    "cols_X = [str(i) for i in range(1, n_features+1)]\n",
    "df_xtrain = pd.DataFrame(xtrain.numpy(), columns=cols_X)\n",
    "df_xvalid = pd.DataFrame(xvalid.numpy(), columns=cols_X)\n",
    "df_xtest  = pd.DataFrame(xtest.numpy(), columns=cols_X)\n",
    "cols_X = df_xtrain.columns.tolist()\n",
    "\n",
    "cols_Y = ['target']\n",
    "df_ytrain = pd.DataFrame(ytrain.numpy(), columns=cols_Y)\n",
    "df_yvalid = pd.DataFrame(yvalid.numpy(), columns=cols_Y)\n",
    "df_ytest = pd.DataFrame(ytest.numpy(), columns=cols_Y)"
   ]
  },
  {
   "cell_type": "code",
   "execution_count": 92,
   "id": "hazardous-pitch",
   "metadata": {
    "ExecuteTime": {
     "end_time": "2021-05-06T07:06:37.053763Z",
     "start_time": "2021-05-06T07:06:36.129777Z"
    },
    "code_folding": [
     0
    ]
   },
   "outputs": [
    {
     "name": "stdout",
     "output_type": "stream",
     "text": [
      "- xtrain size: (1000, 200)\n",
      "- xvalid size: (1000, 200)\n",
      "- xtest size: (1000, 200)\n"
     ]
    }
   ],
   "source": [
    "# Save data set\n",
    "tg.save_data(df_xtrain, df_xtrain, df_xvalid, df_xtest, \n",
    "             df_ytrain, df_ytrain, df_yvalid, df_ytest, 'dataset_b/')\n",
    "tg.save_list(cols_X, 'dataset_b/X.columns')\n",
    "tg.save_list(cols_Y, 'dataset_b/Y.columns')\n",
    "\n",
    "# \n",
    "print(\"- xtrain size: {}\".format(df_xtrain.shape))\n",
    "print(\"- xvalid size: {}\".format(df_xvalid.shape))\n",
    "print(\"- xtest size: {}\".format(df_xtest.shape))"
   ]
  },
  {
   "cell_type": "markdown",
   "id": "answering-mason",
   "metadata": {},
   "source": [
    "## Load Data"
   ]
  },
  {
   "cell_type": "code",
   "execution_count": 16,
   "id": "three-mapping",
   "metadata": {
    "ExecuteTime": {
     "end_time": "2021-06-17T03:28:43.759736Z",
     "start_time": "2021-06-17T03:28:43.755882Z"
    },
    "code_folding": [
     0
    ]
   },
   "outputs": [
    {
     "name": "stdout",
     "output_type": "stream",
     "text": [
      "-Type of precessor to be used: 'cpu'\n"
     ]
    }
   ],
   "source": [
    "# Select type of processor to be used\n",
    "device = torch.device(\"cuda\" if torch.cuda.is_available() else \"cpu\")\n",
    "\n",
    "if device == torch.device('cuda'):\n",
    "    print(\"-Type of precessor to be used: 'gpu'\")\n",
    "    !nvidia-smi\n",
    "else:\n",
    "    print(\"-Type of precessor to be used: 'cpu'\")\n",
    "    \n",
    "# Choose device\n",
    "# torch.cuda.set_device(6)"
   ]
  },
  {
   "cell_type": "code",
   "execution_count": 17,
   "id": "responsible-network",
   "metadata": {
    "ExecuteTime": {
     "end_time": "2021-06-17T03:28:45.805202Z",
     "start_time": "2021-06-17T03:28:45.644708Z"
    }
   },
   "outputs": [],
   "source": [
    "# Read data\n",
    "_, x_train, x_valid, x_test, _, y_train, y_valid, y_test = tp.load_data_reg('dataset_b/')\n",
    "cols_X = tg.read_list('dataset_b/X.columns')\n",
    "cols_Y = tg.read_list('dataset_b/Y.columns')"
   ]
  },
  {
   "cell_type": "code",
   "execution_count": 18,
   "id": "weighted-semester",
   "metadata": {
    "ExecuteTime": {
     "end_time": "2021-06-17T03:28:47.734111Z",
     "start_time": "2021-06-17T03:28:47.725609Z"
    }
   },
   "outputs": [],
   "source": [
    "# Normalize data\n",
    "xtrain, xvalid, xtest, ytrain, yvalid, ytest = tp.normalize_xy(x_train, x_valid, x_test, \n",
    "                                                               y_train, y_valid, y_test)"
   ]
  },
  {
   "cell_type": "code",
   "execution_count": 19,
   "id": "excess-combination",
   "metadata": {
    "ExecuteTime": {
     "end_time": "2021-06-17T03:28:49.585324Z",
     "start_time": "2021-06-17T03:28:49.581800Z"
    }
   },
   "outputs": [
    {
     "name": "stdout",
     "output_type": "stream",
     "text": [
      "(train, valid, test) = (1, 1, 1)\n"
     ]
    }
   ],
   "source": [
    "# Create dataloaders\n",
    "dl_train, dl_valid, dl_test = tp.make_DataLoaders(xtrain, xvalid, xtest, ytrain, yvalid, ytest, \n",
    "                                                  tp.dataset_tabular, batch_size=10000)"
   ]
  },
  {
   "cell_type": "code",
   "execution_count": 20,
   "id": "atmospheric-object",
   "metadata": {
    "ExecuteTime": {
     "end_time": "2021-06-17T03:28:52.882751Z",
     "start_time": "2021-06-17T03:28:52.878153Z"
    }
   },
   "outputs": [],
   "source": [
    "# NN architecture with its corresponding forward method\n",
    "class MyNetRes(nn.Module):\n",
    "    \n",
    "# .Network architecture\n",
    "    def __init__(self, features, layer_sizes):\n",
    "        super(MyNetRes, self).__init__()\n",
    "        \n",
    "        self.nodes_out = layer_sizes[-1]\n",
    "        self.relu = nn.ReLU(inplace=True)\n",
    "        self.fc1 = nn.Linear(features, layer_sizes[0], bias=True)\n",
    "        self.fc2 = nn.Linear(layer_sizes[0]-layer_sizes[-1], layer_sizes[1], bias=True)\n",
    "\n",
    "# .Forward function\n",
    "    def forward(self, x):\n",
    "        x = self.fc1(x)\n",
    "        x1 = x[:,-self.nodes_out:]\n",
    "        x2 = x[:,:-self.nodes_out]\n",
    "        x2 = self.relu(x2)\n",
    "        x2 = self.fc2(x2)\n",
    "        x = x1 + x2\n",
    "        return x"
   ]
  },
  {
   "cell_type": "code",
   "execution_count": 21,
   "id": "described-metropolitan",
   "metadata": {
    "ExecuteTime": {
     "end_time": "2021-06-17T03:28:55.851801Z",
     "start_time": "2021-06-17T03:28:55.848183Z"
    },
    "code_folding": []
   },
   "outputs": [],
   "source": [
    "# NN architecture with its corresponding forward method\n",
    "class MyNet(nn.Module):\n",
    "    \n",
    "# .Network architecture\n",
    "    def __init__(self, features, layer_sizes):\n",
    "        super(MyNet, self).__init__()\n",
    "        \n",
    "        self.classifier = nn.Sequential(\n",
    "            nn.Linear(features, layer_sizes[0], bias=True),\n",
    "            nn.ReLU(inplace=True),\n",
    "            nn.Linear(layer_sizes[0], layer_sizes[1], bias=True)\n",
    "        )\n",
    "\n",
    "# .Forward function\n",
    "    def forward(self, x):\n",
    "        x = self.classifier(x)\n",
    "        return x"
   ]
  },
  {
   "cell_type": "markdown",
   "id": "artificial-battle",
   "metadata": {},
   "source": [
    "## Lasso"
   ]
  },
  {
   "cell_type": "code",
   "execution_count": 134,
   "id": "miniature-ordering",
   "metadata": {
    "ExecuteTime": {
     "end_time": "2021-05-06T16:43:38.394918Z",
     "start_time": "2021-05-06T16:43:38.391005Z"
    },
    "code_folding": []
   },
   "outputs": [],
   "source": [
    "# Grid search space\n",
    "grid_alpha = np.geomspace(1e-4, 1.0, num=500)\n",
    "data_lasso = pd.DataFrame(columns = ['iteration', 'alpha', 'sparcity', \n",
    "                                     'valid_loss', 'train_loss', 'test_loss',\n",
    "                                     'valid_accu', 'train_accu', 'test_accu'])\n",
    "\n",
    "params = {'max_iter': 100000,\n",
    "          'random_state': 42,\n",
    "          'warm_start': True}"
   ]
  },
  {
   "cell_type": "code",
   "execution_count": 135,
   "id": "atomic-sound",
   "metadata": {
    "ExecuteTime": {
     "end_time": "2021-05-06T16:43:45.255356Z",
     "start_time": "2021-05-06T16:43:42.104462Z"
    },
    "code_folding": [],
    "scrolled": true
   },
   "outputs": [
    {
     "data": {
      "application/vnd.jupyter.widget-view+json": {
       "model_id": "5ace4b1e224f4269a1087763020b5588",
       "version_major": 2,
       "version_minor": 0
      },
      "text/plain": [
       "alpha-grid loop:   0%|          | 0/500 [00:00<?, ?it/s]"
      ]
     },
     "metadata": {},
     "output_type": "display_data"
    }
   ],
   "source": [
    "# Perform grid search\n",
    "t0_list = []\n",
    "iterator = tqdm.notebook.tqdm(range(1, len(grid_alpha) + 1), desc='alpha-grid loop')\n",
    "for n in iterator:\n",
    "    irow = n-1\n",
    "    dict_tmp = {'iteration': n, 'alpha': grid_alpha[irow]}\n",
    "    params['alpha'] = grid_alpha[irow]\n",
    "    log_reg = Lasso(**params).fit(xtrain.numpy(), ytrain.numpy().ravel())\n",
    "    \n",
    "    ypred = log_reg.predict(xtrain.numpy())\n",
    "    mse = mean_squared_error(ytrain.numpy(), ypred, squared=True)\n",
    "    r2  = r2_score(ytrain.numpy(), ypred)\n",
    "    dict_tmp.update({'train_loss': mse, 'train_accu': r2})\n",
    "    \n",
    "    ypred = log_reg.predict(xvalid.numpy())\n",
    "    mse = mean_squared_error(yvalid.numpy(), ypred, squared=True)\n",
    "    r2  = r2_score(yvalid.numpy(), ypred)\n",
    "    dict_tmp.update({'valid_loss': mse, 'valid_accu': r2})\n",
    "    \n",
    "    ypred = log_reg.predict(xtest.numpy())\n",
    "    mse = mean_squared_error(ytest.numpy(), ypred, squared=True)\n",
    "    r2  = r2_score(ytest.numpy(), ypred)\n",
    "    dict_tmp.update({'test_loss': mse, 'test_accu': r2})\n",
    "    \n",
    "    ctmp = abs(log_reg.coef_)\n",
    "    sparcity = (ctmp != 0.).sum()/float(len(ctmp))\n",
    "    dict_tmp.update({'sparcity': sparcity})\n",
    "    t0_list.append(ctmp.sum())\n",
    "    \n",
    "    df_tmp = pd.DataFrame(dict_tmp, index=[0])\n",
    "    data_lasso = data_lasso.append(df_tmp, ignore_index=True)\n",
    "    \n",
    "# Save grid search results\n",
    "data_lasso.to_csv('grid_search_lasso_b.csv', index=None)"
   ]
  },
  {
   "cell_type": "code",
   "execution_count": 136,
   "id": "nominated-microphone",
   "metadata": {
    "ExecuteTime": {
     "end_time": "2021-05-06T16:43:49.182662Z",
     "start_time": "2021-05-06T16:43:49.045192Z"
    },
    "code_folding": [
     0
    ]
   },
   "outputs": [
    {
     "data": {
      "image/png": "[encoded data removed]",
      "text/plain": [
       "<Figure size 720x432 with 1 Axes>"
      ]
     },
     "metadata": {
      "needs_background": "light"
     },
     "output_type": "display_data"
    }
   ],
   "source": [
    "# Plot Loss vs point in grid search\n",
    "data_lasso = pd.read_csv('grid_search_lasso_b.csv')\n",
    "\n",
    "fig, axes = plt.subplots(figsize=(10,6))\n",
    "\n",
    "axes.scatter(np.log10(data_lasso.alpha), data_lasso['valid_loss'])\n",
    "axes.plot(np.log10(data_lasso.alpha), data_lasso['valid_loss'], label='Loss')\n",
    "\n",
    "axes.scatter(np.log10(data_lasso.alpha), data_lasso['valid_accu'])\n",
    "axes.plot(np.log10(data_lasso.alpha), data_lasso['valid_accu'], label='Accu')\n",
    "\n",
    "axes.set_xlabel(\"log10(alpha)\")\n",
    "axes.set_ylabel(\"Validation metric\")\n",
    "axes.legend()\n",
    "plt.show()"
   ]
  },
  {
   "cell_type": "code",
   "execution_count": 137,
   "id": "cloudy-aircraft",
   "metadata": {
    "ExecuteTime": {
     "end_time": "2021-05-06T16:43:54.318292Z",
     "start_time": "2021-05-06T16:43:54.163737Z"
    },
    "code_folding": []
   },
   "outputs": [
    {
     "data": {
      "image/png": "[encoded data removed]",
      "text/plain": [
       "<Figure size 720x432 with 1 Axes>"
      ]
     },
     "metadata": {
      "needs_background": "light"
     },
     "output_type": "display_data"
    }
   ],
   "source": [
    "# Plot Acc vs sparsity\n",
    "data_lasso = pd.read_csv('grid_search_lasso_b.csv')\n",
    "\n",
    "fig, axes = plt.subplots(figsize=(10,6))\n",
    "\n",
    "axes.scatter(data_lasso['sparcity'], data_lasso['train_accu'], s=10)\n",
    "axes.plot(data_lasso['sparcity'], data_lasso['train_accu'], label='Train Accu')\n",
    "\n",
    "axes.scatter(data_lasso['sparcity'], data_lasso['valid_accu'], s=10)\n",
    "axes.plot(data_lasso['sparcity'], data_lasso['valid_accu'], label='Valid Accu')\n",
    "\n",
    "axes.scatter(data_lasso['sparcity'], data_lasso['test_accu'], s=10)\n",
    "axes.plot(data_lasso['sparcity'], data_lasso['test_accu'], label='Test Accu')\n",
    "\n",
    "axes.set_xlabel(\"density\")\n",
    "axes.set_ylabel(\"Accuracy\")\n",
    "axes.legend()\n",
    "plt.show()"
   ]
  },
  {
   "cell_type": "code",
   "execution_count": 138,
   "id": "planned-routine",
   "metadata": {
    "ExecuteTime": {
     "end_time": "2021-05-06T16:43:57.655168Z",
     "start_time": "2021-05-06T16:43:57.648931Z"
    }
   },
   "outputs": [
    {
     "name": "stdout",
     "output_type": "stream",
     "text": [
      "Parameters at Valid. Min.:\n",
      "\n",
      "iteration     328.000000\n",
      "alpha           0.041806\n",
      "sparcity        0.080000\n",
      "valid_loss      0.216944\n",
      "train_loss      0.395240\n",
      "test_loss       0.222172\n",
      "valid_accu      0.713646\n",
      "train_accu      0.604760\n",
      "test_accu       0.710599\n",
      "Name: 327, dtype: float64\n"
     ]
    }
   ],
   "source": [
    "# Display grid search results\n",
    "data_lasso = pd.read_csv('grid_search_lasso_b.csv')\n",
    "\n",
    "idx = data_lasso.valid_loss.idxmin()\n",
    "best_alpha = data_lasso.loc[idx, 'alpha']\n",
    "\n",
    "print(\"Parameters at Valid. Min.:\\n\")\n",
    "print(data_lasso.iloc[idx, :])\n"
   ]
  },
  {
   "cell_type": "code",
   "execution_count": 139,
   "id": "killing-flour",
   "metadata": {
    "ExecuteTime": {
     "end_time": "2021-05-06T16:44:00.816543Z",
     "start_time": "2021-05-06T16:44:00.809854Z"
    },
    "code_folding": []
   },
   "outputs": [
    {
     "data": {
      "text/plain": [
       "['model_lasso_valid_min_b.pkl']"
      ]
     },
     "execution_count": 139,
     "metadata": {},
     "output_type": "execute_result"
    }
   ],
   "source": [
    "# Train with best hyperparameters\n",
    "params['alpha'] = best_alpha\n",
    "log_reg = Lasso(**params).fit(xtrain, ytrain.numpy().ravel())\n",
    "joblib.dump(log_reg, 'model_lasso_valid_min_b.pkl')"
   ]
  },
  {
   "cell_type": "code",
   "execution_count": 140,
   "id": "adapted-investor",
   "metadata": {
    "ExecuteTime": {
     "end_time": "2021-05-06T16:44:04.224863Z",
     "start_time": "2021-05-06T16:44:04.208783Z"
    },
    "code_folding": []
   },
   "outputs": [
    {
     "data": {
      "text/html": [
       "<div>\n",
       "<style scoped>\n",
       "    .dataframe tbody tr th:only-of-type {\n",
       "        vertical-align: middle;\n",
       "    }\n",
       "\n",
       "    .dataframe tbody tr th {\n",
       "        vertical-align: top;\n",
       "    }\n",
       "\n",
       "    .dataframe thead th {\n",
       "        text-align: right;\n",
       "    }\n",
       "</style>\n",
       "<table border=\"1\" class=\"dataframe\">\n",
       "  <thead>\n",
       "    <tr style=\"text-align: right;\">\n",
       "      <th></th>\n",
       "      <th>accuracy</th>\n",
       "      <th>loss</th>\n",
       "    </tr>\n",
       "  </thead>\n",
       "  <tbody>\n",
       "    <tr>\n",
       "      <th>train</th>\n",
       "      <td>0.60476</td>\n",
       "      <td>0.39524</td>\n",
       "    </tr>\n",
       "    <tr>\n",
       "      <th>valid</th>\n",
       "      <td>0.713646</td>\n",
       "      <td>0.216945</td>\n",
       "    </tr>\n",
       "    <tr>\n",
       "      <th>test</th>\n",
       "      <td>0.710599</td>\n",
       "      <td>0.222172</td>\n",
       "    </tr>\n",
       "  </tbody>\n",
       "</table>\n",
       "</div>"
      ],
      "text/plain": [
       "       accuracy      loss\n",
       "train   0.60476   0.39524\n",
       "valid  0.713646  0.216945\n",
       "test   0.710599  0.222172"
      ]
     },
     "execution_count": 140,
     "metadata": {},
     "output_type": "execute_result"
    }
   ],
   "source": [
    "# Find MSE, R2, Accuracy, etc...\n",
    "model = joblib.load('model_lasso_valid_min_b.pkl')\n",
    "\n",
    "df_results = pd.DataFrame(index=['train', 'valid', 'test'], \n",
    "                          columns=['accuracy', 'loss'])\n",
    "\n",
    "ypred = model.predict(xtrain.numpy())\n",
    "df_results.loc['train', 'accuracy'] = r2_score(ytrain.numpy(), ypred)\n",
    "df_results.loc['train', 'loss'] = mean_squared_error(ytrain.numpy(), ypred, squared=True)\n",
    "\n",
    "ypred = model.predict(xvalid.numpy())\n",
    "df_results.loc['valid', 'accuracy'] = r2_score(yvalid, ypred)\n",
    "df_results.loc['valid', 'loss'] = mean_squared_error(yvalid.numpy(), ypred, squared=True)\n",
    "\n",
    "ypred = model.predict(xtest.numpy())\n",
    "df_results.loc['test', 'accuracy'] = r2_score(ytest.numpy(), ypred)\n",
    "df_results.loc['test', 'loss'] = mean_squared_error(ytest.numpy(), ypred, squared=True)\n",
    "\n",
    "# Save data\n",
    "df_results.to_csv('accuracy_lasso_valid_min_b.csv', index=True)\n",
    "df_results.head()"
   ]
  },
  {
   "cell_type": "markdown",
   "id": "inside-satin",
   "metadata": {
    "ExecuteTime": {
     "end_time": "2021-05-11T21:44:20.662749Z",
     "start_time": "2021-05-11T21:44:20.659460Z"
    }
   },
   "source": [
    "## Forward ResNet"
   ]
  },
  {
   "cell_type": "code",
   "execution_count": 61,
   "id": "fossil-battle",
   "metadata": {
    "ExecuteTime": {
     "end_time": "2021-06-17T09:39:04.278433Z",
     "start_time": "2021-06-17T09:39:04.274663Z"
    }
   },
   "outputs": [
    {
     "data": {
      "text/plain": [
       "MyNetRes(\n",
       "  (relu): ReLU(inplace=True)\n",
       "  (fc1): Linear(in_features=200, out_features=11, bias=True)\n",
       "  (fc2): Linear(in_features=10, out_features=1, bias=True)\n",
       ")"
      ]
     },
     "execution_count": 61,
     "metadata": {},
     "output_type": "execute_result"
    }
   ],
   "source": [
    "# Load best forward model\n",
    "n_features = len(cols_X)\n",
    "n_layers = [11, 1]\n",
    "model = MyNetRes(n_features, n_layers)\n",
    "model.eval()"
   ]
  },
  {
   "cell_type": "code",
   "execution_count": 41,
   "id": "eight-emergency",
   "metadata": {
    "ExecuteTime": {
     "end_time": "2021-06-17T05:57:06.480305Z",
     "start_time": "2021-06-17T05:56:31.199449Z"
    }
   },
   "outputs": [
    {
     "data": {
      "application/vnd.jupyter.widget-view+json": {
       "model_id": "d073246ec0e54add9b1014d306499939",
       "version_major": 2,
       "version_minor": 0
      },
      "text/plain": [
       "Epochs:   0%|          | 0/10000 [00:00<?, ?it/s]"
      ]
     },
     "metadata": {},
     "output_type": "display_data"
    },
    {
     "name": "stdout",
     "output_type": "stream",
     "text": [
      "Early stopping = True\n",
      "Last iteration = 653\n",
      "Best validation at iteration = 164\n"
     ]
    },
    {
     "data": {
      "image/png": "[encoded data removed]",
      "text/plain": [
       "<Figure size 576x432 with 1 Axes>"
      ]
     },
     "metadata": {
      "needs_background": "light"
     },
     "output_type": "display_data"
    }
   ],
   "source": [
    "# TRAIN FORWARD\n",
    "lockdown_unconstraint = ld.Lockout(model, lr=1e-3, loss_type=1, optim_id=2)\n",
    "\n",
    "lockdown_unconstraint.train(dl_train, dl_valid, epochs=10000, early_stop=20, tol_loss=1e-6,\n",
    "                            train_how=\"unconstraint\", reset_weights=True)\n",
    "\n",
    "lockdown_unconstraint.path_data.plot(x=\"iteration\", \n",
    "                                     y=['train_loss', 'valid_loss'], \n",
    "                                     figsize=(8,6))\n",
    "plt.show()"
   ]
  },
  {
   "cell_type": "code",
   "execution_count": 42,
   "id": "sublime-mother",
   "metadata": {
    "ExecuteTime": {
     "end_time": "2021-06-17T05:57:56.257003Z",
     "start_time": "2021-06-17T05:57:56.243614Z"
    }
   },
   "outputs": [],
   "source": [
    "# Save model, data\n",
    "tp.save_model(lockdown_unconstraint.model_best_valid, 'model_forward_valid_min_b_resnet.pth')\n",
    "tp.save_model(lockdown_unconstraint.model_last, 'model_forward_last_b_resnet.pth')\n",
    "lockdown_unconstraint.path_data.to_csv('data_forward_b_resnet.csv')"
   ]
  },
  {
   "cell_type": "code",
   "execution_count": 43,
   "id": "working-prototype",
   "metadata": {
    "ExecuteTime": {
     "end_time": "2021-06-17T05:58:01.663444Z",
     "start_time": "2021-06-17T05:58:01.654398Z"
    },
    "code_folding": [
     0
    ]
   },
   "outputs": [
    {
     "name": "stdout",
     "output_type": "stream",
     "text": [
      "Train R2 = 0.9307\n",
      "Valid R2 = 0.2704\n",
      "Test R2  = 0.2568\n"
     ]
    }
   ],
   "source": [
    "# Accuracy\n",
    "mm = MyNetRes(n_features, n_layers)\n",
    "mm.load_state_dict(torch.load('./model_forward_valid_min_b_resnet.pth'))\n",
    "mm.eval()\n",
    "\n",
    "xtrain = xtrain.to(device)\n",
    "ypred = mm(xtrain)\n",
    "r2 = r2_score(ytrain.detach().numpy(), ypred.detach().numpy())\n",
    "print(\"Train R2 = {:.4f}\".format(r2))\n",
    "\n",
    "xvalid = xvalid.to(device)\n",
    "ypred = mm(xvalid)\n",
    "r2 = r2_score(yvalid.detach().numpy(), ypred.detach().numpy())\n",
    "print(\"Valid R2 = {:.4f}\".format(r2))\n",
    "\n",
    "xtest = xtest.to(device)\n",
    "ypred = mm(xtest)\n",
    "r2 = r2_score(ytest.detach().numpy(), ypred.detach().numpy())\n",
    "print(\"Test R2  = {:.4f}\".format(r2))"
   ]
  },
  {
   "cell_type": "markdown",
   "id": "matched-clone",
   "metadata": {},
   "source": [
    "## Forward"
   ]
  },
  {
   "cell_type": "code",
   "execution_count": 56,
   "id": "trying-wagner",
   "metadata": {
    "ExecuteTime": {
     "end_time": "2021-06-17T09:31:45.279384Z",
     "start_time": "2021-06-17T09:31:45.275568Z"
    }
   },
   "outputs": [
    {
     "data": {
      "text/plain": [
       "MyNet(\n",
       "  (classifier): Sequential(\n",
       "    (0): Linear(in_features=200, out_features=10, bias=True)\n",
       "    (1): ReLU(inplace=True)\n",
       "    (2): Linear(in_features=10, out_features=1, bias=True)\n",
       "  )\n",
       ")"
      ]
     },
     "execution_count": 56,
     "metadata": {},
     "output_type": "execute_result"
    }
   ],
   "source": [
    "# Load best forward model\n",
    "n_features = len(cols_X)\n",
    "n_layers = [10, 1]\n",
    "model = MyNet(n_features, n_layers)\n",
    "model.eval()"
   ]
  },
  {
   "cell_type": "code",
   "execution_count": 24,
   "id": "intimate-vacation",
   "metadata": {
    "ExecuteTime": {
     "end_time": "2021-06-17T03:30:04.115101Z",
     "start_time": "2021-06-17T03:29:25.141861Z"
    }
   },
   "outputs": [
    {
     "data": {
      "application/vnd.jupyter.widget-view+json": {
       "model_id": "3dad169761ed4882a1572fefbe74f16c",
       "version_major": 2,
       "version_minor": 0
      },
      "text/plain": [
       "Epochs:   0%|          | 0/10000 [00:00<?, ?it/s]"
      ]
     },
     "metadata": {},
     "output_type": "display_data"
    },
    {
     "name": "stdout",
     "output_type": "stream",
     "text": [
      "Early stopping = True\n",
      "Last iteration = 731\n",
      "Best validation at iteration = 172\n"
     ]
    },
    {
     "data": {
      "image/png": "[encoded data removed]",
      "text/plain": [
       "<Figure size 576x432 with 1 Axes>"
      ]
     },
     "metadata": {
      "needs_background": "light"
     },
     "output_type": "display_data"
    }
   ],
   "source": [
    "# TRAIN FORWARD\n",
    "lockdown_unconstraint = ld.Lockout(model, lr=1e-3, loss_type=1, optim_id=2)\n",
    "\n",
    "lockdown_unconstraint.train(dl_train, dl_valid, epochs=10000, early_stop=20, tol_loss=1e-6,\n",
    "                            train_how=\"unconstraint\", reset_weights=True)\n",
    "\n",
    "lockdown_unconstraint.path_data.plot(x=\"iteration\", \n",
    "                                     y=['train_loss', 'valid_loss'], \n",
    "                                     figsize=(8,6))\n",
    "plt.show()"
   ]
  },
  {
   "cell_type": "code",
   "execution_count": 25,
   "id": "complex-completion",
   "metadata": {
    "ExecuteTime": {
     "end_time": "2021-06-17T03:30:34.610325Z",
     "start_time": "2021-06-17T03:30:34.594653Z"
    }
   },
   "outputs": [],
   "source": [
    "# Save model, data\n",
    "tp.save_model(lockdown_unconstraint.model_best_valid, 'model_forward_valid_min_b.pth')\n",
    "tp.save_model(lockdown_unconstraint.model_last, 'model_forward_last_b.pth')\n",
    "lockdown_unconstraint.path_data.to_csv('data_forward_b.csv')"
   ]
  },
  {
   "cell_type": "code",
   "execution_count": 26,
   "id": "minute-perspective",
   "metadata": {
    "ExecuteTime": {
     "end_time": "2021-06-17T03:30:38.249910Z",
     "start_time": "2021-06-17T03:30:38.239490Z"
    },
    "code_folding": []
   },
   "outputs": [
    {
     "name": "stdout",
     "output_type": "stream",
     "text": [
      "Train R2 = 0.8972\n",
      "Valid R2 = 0.1523\n",
      "Test R2  = 0.1318\n"
     ]
    }
   ],
   "source": [
    "# Accuracy\n",
    "mm = MyNet(n_features, n_layers)\n",
    "mm.load_state_dict(torch.load('./model_forward_valid_min_b.pth'))\n",
    "mm.eval()\n",
    "\n",
    "xtrain = xtrain.to(device)\n",
    "ypred = mm(xtrain)\n",
    "r2 = r2_score(ytrain.detach().numpy(), ypred.detach().numpy())\n",
    "print(\"Train R2 = {:.4f}\".format(r2))\n",
    "\n",
    "xvalid = xvalid.to(device)\n",
    "ypred = mm(xvalid)\n",
    "r2 = r2_score(yvalid.detach().numpy(), ypred.detach().numpy())\n",
    "print(\"Valid R2 = {:.4f}\".format(r2))\n",
    "\n",
    "xtest = xtest.to(device)\n",
    "ypred = mm(xtest)\n",
    "r2 = r2_score(ytest.detach().numpy(), ypred.detach().numpy())\n",
    "print(\"Test R2  = {:.4f}\".format(r2))"
   ]
  },
  {
   "cell_type": "markdown",
   "id": "neural-cannon",
   "metadata": {},
   "source": [
    "## LassoNet"
   ]
  },
  {
   "cell_type": "code",
   "execution_count": 154,
   "id": "acute-howard",
   "metadata": {
    "ExecuteTime": {
     "end_time": "2021-05-11T18:51:17.127225Z",
     "start_time": "2021-05-11T18:50:58.194257Z"
    },
    "scrolled": true
   },
   "outputs": [
    {
     "name": "stdout",
     "output_type": "stream",
     "text": [
      "MEAN of 'ytrain' before adding noise = 7.253311634063721\n",
      "STD of 'ytrain' before adding noise = 3.6737632751464844\n",
      "\n",
      "Gaussian noise added to 'ytrain with:\n",
      "- mean = 0.0\n",
      "- std = 1.8368816375732422\n",
      "Initialized dense model in 771 epochs, val loss 1.10e+01, regularization 7.36e+00\n",
      "Lambda = 1.10e+01, selected 200 features in 100 epochs\n",
      "val_loss (excl regularization) 1.10e+01, regularization 2.09e+00\n",
      "Lambda = 1.12e+01, selected 200 features in 85 epochs\n",
      "val_loss (excl regularization) 1.09e+01, regularization 1.79e+00\n",
      "Lambda = 1.14e+01, selected 200 features in 10 epochs\n",
      "val_loss (excl regularization) 1.09e+01, regularization 1.77e+00\n",
      "Lambda = 1.17e+01, selected 200 features in 10 epochs\n",
      "val_loss (excl regularization) 1.09e+01, regularization 1.74e+00\n",
      "Lambda = 1.19e+01, selected 200 features in 10 epochs\n",
      "val_loss (excl regularization) 1.09e+01, regularization 1.72e+00\n",
      "Lambda = 1.21e+01, selected 200 features in 10 epochs\n",
      "val_loss (excl regularization) 1.09e+01, regularization 1.69e+00\n",
      "Lambda = 1.24e+01, selected 200 features in 10 epochs\n",
      "val_loss (excl regularization) 1.09e+01, regularization 1.67e+00\n",
      "Lambda = 1.26e+01, selected 200 features in 10 epochs\n",
      "val_loss (excl regularization) 1.09e+01, regularization 1.65e+00\n",
      "Lambda = 1.29e+01, selected 200 features in 10 epochs\n",
      "val_loss (excl regularization) 1.08e+01, regularization 1.63e+00\n",
      "Lambda = 1.31e+01, selected 200 features in 10 epochs\n",
      "val_loss (excl regularization) 1.08e+01, regularization 1.61e+00\n",
      "Lambda = 1.34e+01, selected 200 features in 10 epochs\n",
      "val_loss (excl regularization) 1.08e+01, regularization 1.59e+00\n",
      "Lambda = 1.37e+01, selected 200 features in 10 epochs\n",
      "val_loss (excl regularization) 1.08e+01, regularization 1.57e+00\n",
      "Lambda = 1.39e+01, selected 200 features in 10 epochs\n",
      "val_loss (excl regularization) 1.08e+01, regularization 1.55e+00\n",
      "Lambda = 1.42e+01, selected 200 features in 10 epochs\n",
      "val_loss (excl regularization) 1.08e+01, regularization 1.53e+00\n",
      "Lambda = 1.45e+01, selected 200 features in 10 epochs\n",
      "val_loss (excl regularization) 1.08e+01, regularization 1.52e+00\n",
      "Lambda = 1.48e+01, selected 200 features in 10 epochs\n",
      "val_loss (excl regularization) 1.08e+01, regularization 1.50e+00\n",
      "Lambda = 1.51e+01, selected 200 features in 10 epochs\n",
      "val_loss (excl regularization) 1.08e+01, regularization 1.48e+00\n",
      "Lambda = 1.54e+01, selected 200 features in 10 epochs\n",
      "val_loss (excl regularization) 1.08e+01, regularization 1.47e+00\n",
      "Lambda = 1.57e+01, selected 200 features in 10 epochs\n",
      "val_loss (excl regularization) 1.08e+01, regularization 1.45e+00\n",
      "Lambda = 1.60e+01, selected 200 features in 10 epochs\n",
      "val_loss (excl regularization) 1.08e+01, regularization 1.43e+00\n",
      "Lambda = 1.63e+01, selected 200 features in 10 epochs\n",
      "val_loss (excl regularization) 1.08e+01, regularization 1.42e+00\n",
      "Lambda = 1.66e+01, selected 200 features in 10 epochs\n",
      "val_loss (excl regularization) 1.08e+01, regularization 1.40e+00\n",
      "Lambda = 1.70e+01, selected 200 features in 10 epochs\n",
      "val_loss (excl regularization) 1.08e+01, regularization 1.39e+00\n",
      "Lambda = 1.73e+01, selected 200 features in 10 epochs\n",
      "val_loss (excl regularization) 1.08e+01, regularization 1.37e+00\n",
      "Lambda = 1.77e+01, selected 200 features in 10 epochs\n",
      "val_loss (excl regularization) 1.08e+01, regularization 1.36e+00\n",
      "Lambda = 1.80e+01, selected 200 features in 10 epochs\n",
      "val_loss (excl regularization) 1.08e+01, regularization 1.34e+00\n",
      "Lambda = 1.84e+01, selected 200 features in 10 epochs\n",
      "val_loss (excl regularization) 1.08e+01, regularization 1.33e+00\n",
      "Lambda = 1.87e+01, selected 200 features in 10 epochs\n",
      "val_loss (excl regularization) 1.08e+01, regularization 1.31e+00\n",
      "Lambda = 1.91e+01, selected 200 features in 10 epochs\n",
      "val_loss (excl regularization) 1.07e+01, regularization 1.30e+00\n",
      "Lambda = 1.95e+01, selected 200 features in 10 epochs\n",
      "val_loss (excl regularization) 1.07e+01, regularization 1.28e+00\n",
      "Lambda = 1.99e+01, selected 200 features in 10 epochs\n",
      "val_loss (excl regularization) 1.07e+01, regularization 1.27e+00\n",
      "Lambda = 2.03e+01, selected 200 features in 10 epochs\n",
      "val_loss (excl regularization) 1.07e+01, regularization 1.26e+00\n",
      "Lambda = 2.07e+01, selected 200 features in 10 epochs\n",
      "val_loss (excl regularization) 1.07e+01, regularization 1.24e+00\n",
      "Lambda = 2.11e+01, selected 200 features in 10 epochs\n",
      "val_loss (excl regularization) 1.07e+01, regularization 1.23e+00\n",
      "Lambda = 2.15e+01, selected 200 features in 10 epochs\n",
      "val_loss (excl regularization) 1.07e+01, regularization 1.22e+00\n",
      "Lambda = 2.20e+01, selected 200 features in 10 epochs\n",
      "val_loss (excl regularization) 1.07e+01, regularization 1.20e+00\n",
      "Lambda = 2.24e+01, selected 200 features in 10 epochs\n",
      "val_loss (excl regularization) 1.07e+01, regularization 1.19e+00\n",
      "Lambda = 2.29e+01, selected 200 features in 10 epochs\n",
      "val_loss (excl regularization) 1.07e+01, regularization 1.18e+00\n",
      "Lambda = 2.33e+01, selected 200 features in 10 epochs\n",
      "val_loss (excl regularization) 1.07e+01, regularization 1.16e+00\n",
      "Lambda = 2.38e+01, selected 200 features in 10 epochs\n",
      "val_loss (excl regularization) 1.07e+01, regularization 1.15e+00\n",
      "Lambda = 2.43e+01, selected 200 features in 10 epochs\n",
      "val_loss (excl regularization) 1.07e+01, regularization 1.14e+00\n",
      "Lambda = 2.47e+01, selected 200 features in 10 epochs\n",
      "val_loss (excl regularization) 1.07e+01, regularization 1.12e+00\n",
      "Lambda = 2.52e+01, selected 200 features in 10 epochs\n",
      "val_loss (excl regularization) 1.07e+01, regularization 1.11e+00\n",
      "Lambda = 2.57e+01, selected 200 features in 10 epochs\n",
      "val_loss (excl regularization) 1.07e+01, regularization 1.10e+00\n",
      "Lambda = 2.63e+01, selected 200 features in 10 epochs\n",
      "val_loss (excl regularization) 1.07e+01, regularization 1.09e+00\n",
      "Lambda = 2.68e+01, selected 200 features in 10 epochs\n",
      "val_loss (excl regularization) 1.07e+01, regularization 1.07e+00\n",
      "Lambda = 2.73e+01, selected 200 features in 10 epochs\n",
      "val_loss (excl regularization) 1.07e+01, regularization 1.06e+00\n",
      "Lambda = 2.79e+01, selected 200 features in 10 epochs\n",
      "val_loss (excl regularization) 1.07e+01, regularization 1.05e+00\n",
      "Lambda = 2.84e+01, selected 200 features in 10 epochs\n",
      "val_loss (excl regularization) 1.07e+01, regularization 1.03e+00\n",
      "Lambda = 2.90e+01, selected 200 features in 10 epochs\n",
      "val_loss (excl regularization) 1.07e+01, regularization 1.02e+00\n",
      "Lambda = 2.96e+01, selected 200 features in 10 epochs\n",
      "val_loss (excl regularization) 1.07e+01, regularization 1.01e+00\n",
      "Lambda = 3.02e+01, selected 200 features in 10 epochs\n",
      "val_loss (excl regularization) 1.07e+01, regularization 9.98e-01\n",
      "Lambda = 3.08e+01, selected 200 features in 10 epochs\n",
      "val_loss (excl regularization) 1.07e+01, regularization 9.85e-01\n",
      "Lambda = 3.14e+01, selected 200 features in 10 epochs\n",
      "val_loss (excl regularization) 1.06e+01, regularization 9.73e-01\n",
      "Lambda = 3.20e+01, selected 200 features in 10 epochs\n",
      "val_loss (excl regularization) 1.06e+01, regularization 9.60e-01\n",
      "Lambda = 3.26e+01, selected 200 features in 10 epochs\n",
      "val_loss (excl regularization) 1.06e+01, regularization 9.48e-01\n",
      "Lambda = 3.33e+01, selected 200 features in 10 epochs\n",
      "val_loss (excl regularization) 1.06e+01, regularization 9.36e-01\n",
      "Lambda = 3.40e+01, selected 200 features in 20 epochs\n",
      "val_loss (excl regularization) 1.06e+01, regularization 9.11e-01\n",
      "Lambda = 3.46e+01, selected 200 features in 20 epochs\n",
      "val_loss (excl regularization) 1.06e+01, regularization 8.87e-01\n",
      "Lambda = 3.53e+01, selected 200 features in 40 epochs\n",
      "val_loss (excl regularization) 1.06e+01, regularization 8.41e-01\n",
      "Lambda = 3.60e+01, selected 200 features in 30 epochs\n",
      "val_loss (excl regularization) 1.06e+01, regularization 8.07e-01\n",
      "Lambda = 3.68e+01, selected 200 features in 20 epochs\n",
      "val_loss (excl regularization) 1.06e+01, regularization 7.86e-01\n",
      "Lambda = 3.75e+01, selected 200 features in 40 epochs\n",
      "val_loss (excl regularization) 1.06e+01, regularization 7.44e-01\n",
      "Lambda = 3.82e+01, selected 200 features in 40 epochs\n",
      "val_loss (excl regularization) 1.05e+01, regularization 7.04e-01\n",
      "Lambda = 3.90e+01, selected 200 features in 40 epochs\n",
      "val_loss (excl regularization) 1.05e+01, regularization 6.65e-01\n",
      "Lambda = 3.98e+01, selected 200 features in 50 epochs\n",
      "val_loss (excl regularization) 1.05e+01, regularization 6.20e-01\n",
      "Lambda = 4.06e+01, selected 200 features in 50 epochs\n",
      "val_loss (excl regularization) 1.05e+01, regularization 5.77e-01\n"
     ]
    },
    {
     "name": "stdout",
     "output_type": "stream",
     "text": [
      "Lambda = 4.14e+01, selected 200 features in 50 epochs\n",
      "val_loss (excl regularization) 1.05e+01, regularization 5.36e-01\n",
      "Lambda = 4.22e+01, selected 200 features in 80 epochs\n",
      "val_loss (excl regularization) 1.04e+01, regularization 4.76e-01\n",
      "Lambda = 4.31e+01, selected 200 features in 40 epochs\n",
      "val_loss (excl regularization) 1.04e+01, regularization 4.48e-01\n",
      "Lambda = 4.39e+01, selected 199 features in 50 epochs\n",
      "val_loss (excl regularization) 1.04e+01, regularization 4.14e-01\n",
      "Lambda = 4.48e+01, selected 196 features in 30 epochs\n",
      "val_loss (excl regularization) 1.03e+01, regularization 3.95e-01\n",
      "Lambda = 4.57e+01, selected 195 features in 30 epochs\n",
      "val_loss (excl regularization) 1.03e+01, regularization 3.77e-01\n",
      "Lambda = 4.66e+01, selected 190 features in 20 epochs\n",
      "val_loss (excl regularization) 1.03e+01, regularization 3.65e-01\n",
      "Lambda = 4.76e+01, selected 187 features in 20 epochs\n",
      "val_loss (excl regularization) 1.03e+01, regularization 3.54e-01\n",
      "Lambda = 4.85e+01, selected 182 features in 20 epochs\n",
      "val_loss (excl regularization) 1.03e+01, regularization 3.43e-01\n",
      "Lambda = 4.95e+01, selected 178 features in 20 epochs\n",
      "val_loss (excl regularization) 1.03e+01, regularization 3.32e-01\n",
      "Lambda = 5.05e+01, selected 178 features in 10 epochs\n",
      "val_loss (excl regularization) 1.03e+01, regularization 3.27e-01\n",
      "Lambda = 5.15e+01, selected 173 features in 20 epochs\n",
      "val_loss (excl regularization) 1.03e+01, regularization 3.17e-01\n",
      "Lambda = 5.25e+01, selected 171 features in 20 epochs\n",
      "val_loss (excl regularization) 1.02e+01, regularization 3.07e-01\n",
      "Lambda = 5.36e+01, selected 168 features in 10 epochs\n",
      "val_loss (excl regularization) 1.02e+01, regularization 3.02e-01\n",
      "Lambda = 5.46e+01, selected 163 features in 20 epochs\n",
      "val_loss (excl regularization) 1.02e+01, regularization 2.93e-01\n",
      "Lambda = 5.57e+01, selected 158 features in 10 epochs\n",
      "val_loss (excl regularization) 1.02e+01, regularization 2.88e-01\n",
      "Lambda = 5.68e+01, selected 155 features in 10 epochs\n",
      "val_loss (excl regularization) 1.02e+01, regularization 2.84e-01\n",
      "Lambda = 5.80e+01, selected 155 features in 20 epochs\n",
      "val_loss (excl regularization) 1.02e+01, regularization 2.75e-01\n",
      "Lambda = 5.91e+01, selected 149 features in 20 epochs\n",
      "val_loss (excl regularization) 1.02e+01, regularization 2.67e-01\n",
      "Lambda = 6.03e+01, selected 149 features in 10 epochs\n",
      "val_loss (excl regularization) 1.02e+01, regularization 2.63e-01\n",
      "Lambda = 6.15e+01, selected 146 features in 10 epochs\n",
      "val_loss (excl regularization) 1.02e+01, regularization 2.58e-01\n",
      "Lambda = 6.27e+01, selected 145 features in 10 epochs\n",
      "val_loss (excl regularization) 1.02e+01, regularization 2.54e-01\n",
      "Lambda = 6.40e+01, selected 143 features in 20 epochs\n",
      "val_loss (excl regularization) 1.02e+01, regularization 2.46e-01\n",
      "Lambda = 6.53e+01, selected 142 features in 10 epochs\n",
      "val_loss (excl regularization) 1.02e+01, regularization 2.42e-01\n",
      "Lambda = 6.66e+01, selected 141 features in 20 epochs\n",
      "val_loss (excl regularization) 1.02e+01, regularization 2.35e-01\n",
      "Lambda = 6.79e+01, selected 139 features in 20 epochs\n",
      "val_loss (excl regularization) 1.01e+01, regularization 2.27e-01\n",
      "Lambda = 6.93e+01, selected 139 features in 20 epochs\n",
      "val_loss (excl regularization) 1.01e+01, regularization 2.20e-01\n",
      "Lambda = 7.07e+01, selected 137 features in 10 epochs\n",
      "val_loss (excl regularization) 1.01e+01, regularization 2.17e-01\n",
      "Lambda = 7.21e+01, selected 135 features in 20 epochs\n",
      "val_loss (excl regularization) 1.01e+01, regularization 2.10e-01\n",
      "Lambda = 7.35e+01, selected 133 features in 10 epochs\n",
      "val_loss (excl regularization) 1.01e+01, regularization 2.06e-01\n",
      "Lambda = 7.50e+01, selected 130 features in 20 epochs\n",
      "val_loss (excl regularization) 1.01e+01, regularization 2.00e-01\n",
      "Lambda = 7.65e+01, selected 129 features in 10 epochs\n",
      "val_loss (excl regularization) 1.01e+01, regularization 1.97e-01\n",
      "Lambda = 7.80e+01, selected 128 features in 20 epochs\n",
      "val_loss (excl regularization) 1.01e+01, regularization 1.91e-01\n",
      "Lambda = 7.96e+01, selected 127 features in 10 epochs\n",
      "val_loss (excl regularization) 1.01e+01, regularization 1.88e-01\n",
      "Lambda = 8.12e+01, selected 123 features in 20 epochs\n",
      "val_loss (excl regularization) 1.00e+01, regularization 1.82e-01\n",
      "Lambda = 8.28e+01, selected 120 features in 20 epochs\n",
      "val_loss (excl regularization) 1.00e+01, regularization 1.76e-01\n",
      "Lambda = 8.44e+01, selected 115 features in 10 epochs\n",
      "val_loss (excl regularization) 1.00e+01, regularization 1.73e-01\n",
      "Lambda = 8.61e+01, selected 115 features in 10 epochs\n",
      "val_loss (excl regularization) 1.00e+01, regularization 1.70e-01\n",
      "Lambda = 8.79e+01, selected 112 features in 20 epochs\n",
      "val_loss (excl regularization) 9.99e+00, regularization 1.65e-01\n",
      "Lambda = 8.96e+01, selected 112 features in 10 epochs\n",
      "val_loss (excl regularization) 9.99e+00, regularization 1.63e-01\n",
      "Lambda = 9.14e+01, selected 112 features in 10 epochs\n",
      "val_loss (excl regularization) 9.98e+00, regularization 1.60e-01\n",
      "Lambda = 9.32e+01, selected 109 features in 10 epochs\n",
      "val_loss (excl regularization) 9.97e+00, regularization 1.57e-01\n",
      "Lambda = 9.51e+01, selected 107 features in 20 epochs\n",
      "val_loss (excl regularization) 9.96e+00, regularization 1.53e-01\n",
      "Lambda = 9.70e+01, selected 104 features in 10 epochs\n",
      "val_loss (excl regularization) 9.95e+00, regularization 1.50e-01\n",
      "Lambda = 9.89e+01, selected 102 features in 10 epochs\n",
      "val_loss (excl regularization) 9.95e+00, regularization 1.48e-01\n",
      "Lambda = 1.01e+02, selected 100 features in 10 epochs\n",
      "val_loss (excl regularization) 9.94e+00, regularization 1.46e-01\n",
      "Lambda = 1.03e+02, selected 97 features in 10 epochs\n",
      "val_loss (excl regularization) 9.94e+00, regularization 1.43e-01\n",
      "Lambda = 1.05e+02, selected 97 features in 10 epochs\n",
      "val_loss (excl regularization) 9.93e+00, regularization 1.41e-01\n",
      "Lambda = 1.07e+02, selected 97 features in 10 epochs\n",
      "val_loss (excl regularization) 9.93e+00, regularization 1.39e-01\n",
      "Lambda = 1.09e+02, selected 95 features in 20 epochs\n",
      "val_loss (excl regularization) 9.92e+00, regularization 1.34e-01\n",
      "Lambda = 1.11e+02, selected 95 features in 10 epochs\n",
      "val_loss (excl regularization) 9.92e+00, regularization 1.32e-01\n",
      "Lambda = 1.14e+02, selected 93 features in 10 epochs\n",
      "val_loss (excl regularization) 9.91e+00, regularization 1.30e-01\n",
      "Lambda = 1.16e+02, selected 92 features in 10 epochs\n",
      "val_loss (excl regularization) 9.91e+00, regularization 1.28e-01\n",
      "Lambda = 1.18e+02, selected 90 features in 20 epochs\n",
      "val_loss (excl regularization) 9.90e+00, regularization 1.24e-01\n",
      "Lambda = 1.21e+02, selected 89 features in 10 epochs\n",
      "val_loss (excl regularization) 9.89e+00, regularization 1.22e-01\n",
      "Lambda = 1.23e+02, selected 89 features in 10 epochs\n",
      "val_loss (excl regularization) 9.88e+00, regularization 1.20e-01\n",
      "Lambda = 1.25e+02, selected 88 features in 20 epochs\n",
      "val_loss (excl regularization) 9.87e+00, regularization 1.17e-01\n",
      "Lambda = 1.28e+02, selected 88 features in 10 epochs\n",
      "val_loss (excl regularization) 9.87e+00, regularization 1.15e-01\n",
      "Lambda = 1.31e+02, selected 88 features in 10 epochs\n",
      "val_loss (excl regularization) 9.86e+00, regularization 1.13e-01\n",
      "Lambda = 1.33e+02, selected 87 features in 20 epochs\n",
      "val_loss (excl regularization) 9.85e+00, regularization 1.10e-01\n",
      "Lambda = 1.36e+02, selected 86 features in 10 epochs\n",
      "val_loss (excl regularization) 9.84e+00, regularization 1.08e-01\n",
      "Lambda = 1.39e+02, selected 86 features in 10 epochs\n",
      "val_loss (excl regularization) 9.84e+00, regularization 1.06e-01\n",
      "Lambda = 1.41e+02, selected 86 features in 20 epochs\n",
      "val_loss (excl regularization) 9.82e+00, regularization 1.03e-01\n",
      "Lambda = 1.44e+02, selected 86 features in 10 epochs\n",
      "val_loss (excl regularization) 9.82e+00, regularization 1.01e-01\n",
      "Lambda = 1.47e+02, selected 86 features in 10 epochs\n",
      "val_loss (excl regularization) 9.81e+00, regularization 9.99e-02\n",
      "Lambda = 1.50e+02, selected 84 features in 20 epochs\n",
      "val_loss (excl regularization) 9.81e+00, regularization 9.68e-02\n",
      "Lambda = 1.53e+02, selected 80 features in 10 epochs\n",
      "val_loss (excl regularization) 9.80e+00, regularization 9.53e-02\n",
      "Lambda = 1.56e+02, selected 78 features in 10 epochs\n",
      "val_loss (excl regularization) 9.79e+00, regularization 9.39e-02\n",
      "Lambda = 1.59e+02, selected 75 features in 10 epochs\n",
      "val_loss (excl regularization) 9.79e+00, regularization 9.24e-02\n",
      "Lambda = 1.62e+02, selected 73 features in 20 epochs\n",
      "val_loss (excl regularization) 9.77e+00, regularization 8.96e-02\n"
     ]
    },
    {
     "name": "stdout",
     "output_type": "stream",
     "text": [
      "Lambda = 1.66e+02, selected 73 features in 10 epochs\n",
      "val_loss (excl regularization) 9.77e+00, regularization 8.83e-02\n",
      "Lambda = 1.69e+02, selected 71 features in 10 epochs\n",
      "val_loss (excl regularization) 9.76e+00, regularization 8.70e-02\n",
      "Lambda = 1.72e+02, selected 70 features in 10 epochs\n",
      "val_loss (excl regularization) 9.76e+00, regularization 8.56e-02\n",
      "Lambda = 1.76e+02, selected 69 features in 20 epochs\n",
      "val_loss (excl regularization) 9.75e+00, regularization 8.31e-02\n",
      "Lambda = 1.79e+02, selected 69 features in 10 epochs\n",
      "val_loss (excl regularization) 9.74e+00, regularization 8.19e-02\n",
      "Lambda = 1.83e+02, selected 68 features in 10 epochs\n",
      "val_loss (excl regularization) 9.74e+00, regularization 8.06e-02\n",
      "Lambda = 1.86e+02, selected 67 features in 10 epochs\n",
      "val_loss (excl regularization) 9.73e+00, regularization 7.93e-02\n",
      "Lambda = 1.90e+02, selected 64 features in 20 epochs\n",
      "val_loss (excl regularization) 9.73e+00, regularization 7.69e-02\n",
      "Lambda = 1.94e+02, selected 64 features in 10 epochs\n",
      "val_loss (excl regularization) 9.72e+00, regularization 7.58e-02\n",
      "Lambda = 1.98e+02, selected 62 features in 10 epochs\n",
      "val_loss (excl regularization) 9.72e+00, regularization 7.46e-02\n",
      "Lambda = 2.02e+02, selected 61 features in 10 epochs\n",
      "val_loss (excl regularization) 9.72e+00, regularization 7.34e-02\n",
      "Lambda = 2.06e+02, selected 61 features in 20 epochs\n",
      "val_loss (excl regularization) 9.71e+00, regularization 7.12e-02\n",
      "Lambda = 2.10e+02, selected 59 features in 10 epochs\n",
      "val_loss (excl regularization) 9.71e+00, regularization 7.01e-02\n",
      "Lambda = 2.14e+02, selected 59 features in 10 epochs\n",
      "val_loss (excl regularization) 9.71e+00, regularization 6.90e-02\n",
      "Lambda = 2.18e+02, selected 58 features in 20 epochs\n",
      "val_loss (excl regularization) 9.70e+00, regularization 6.70e-02\n",
      "Lambda = 2.23e+02, selected 57 features in 10 epochs\n",
      "val_loss (excl regularization) 9.70e+00, regularization 6.61e-02\n",
      "Lambda = 2.27e+02, selected 57 features in 10 epochs\n",
      "val_loss (excl regularization) 9.69e+00, regularization 6.51e-02\n",
      "Lambda = 2.32e+02, selected 54 features in 20 epochs\n",
      "val_loss (excl regularization) 9.68e+00, regularization 6.32e-02\n",
      "Lambda = 2.36e+02, selected 53 features in 10 epochs\n",
      "val_loss (excl regularization) 9.68e+00, regularization 6.24e-02\n",
      "Lambda = 2.41e+02, selected 52 features in 10 epochs\n",
      "val_loss (excl regularization) 9.67e+00, regularization 6.14e-02\n",
      "Lambda = 2.46e+02, selected 51 features in 10 epochs\n",
      "val_loss (excl regularization) 9.67e+00, regularization 6.04e-02\n",
      "Lambda = 2.51e+02, selected 50 features in 20 epochs\n",
      "val_loss (excl regularization) 9.66e+00, regularization 5.87e-02\n",
      "Lambda = 2.56e+02, selected 50 features in 10 epochs\n",
      "val_loss (excl regularization) 9.66e+00, regularization 5.78e-02\n",
      "Lambda = 2.61e+02, selected 48 features in 10 epochs\n",
      "val_loss (excl regularization) 9.65e+00, regularization 5.69e-02\n",
      "Lambda = 2.66e+02, selected 47 features in 20 epochs\n",
      "val_loss (excl regularization) 9.65e+00, regularization 5.53e-02\n",
      "Lambda = 2.72e+02, selected 47 features in 10 epochs\n",
      "val_loss (excl regularization) 9.65e+00, regularization 5.45e-02\n",
      "Lambda = 2.77e+02, selected 46 features in 10 epochs\n",
      "val_loss (excl regularization) 9.64e+00, regularization 5.36e-02\n",
      "Lambda = 2.83e+02, selected 44 features in 20 epochs\n",
      "val_loss (excl regularization) 9.64e+00, regularization 5.21e-02\n",
      "Lambda = 2.88e+02, selected 43 features in 10 epochs\n",
      "val_loss (excl regularization) 9.64e+00, regularization 5.14e-02\n",
      "Lambda = 2.94e+02, selected 43 features in 10 epochs\n",
      "val_loss (excl regularization) 9.64e+00, regularization 5.06e-02\n",
      "Lambda = 3.00e+02, selected 42 features in 20 epochs\n",
      "val_loss (excl regularization) 9.64e+00, regularization 4.91e-02\n",
      "Lambda = 3.06e+02, selected 41 features in 10 epochs\n",
      "val_loss (excl regularization) 9.64e+00, regularization 4.84e-02\n",
      "Lambda = 3.12e+02, selected 40 features in 10 epochs\n",
      "val_loss (excl regularization) 9.64e+00, regularization 4.77e-02\n",
      "Lambda = 3.18e+02, selected 40 features in 20 epochs\n",
      "val_loss (excl regularization) 9.64e+00, regularization 4.63e-02\n",
      "Lambda = 3.25e+02, selected 40 features in 10 epochs\n",
      "val_loss (excl regularization) 9.64e+00, regularization 4.57e-02\n",
      "Lambda = 3.31e+02, selected 38 features in 10 epochs\n",
      "val_loss (excl regularization) 9.64e+00, regularization 4.50e-02\n",
      "Lambda = 3.38e+02, selected 36 features in 20 epochs\n",
      "val_loss (excl regularization) 9.64e+00, regularization 4.37e-02\n",
      "Lambda = 3.45e+02, selected 35 features in 10 epochs\n",
      "val_loss (excl regularization) 9.64e+00, regularization 4.31e-02\n",
      "Lambda = 3.51e+02, selected 33 features in 10 epochs\n",
      "val_loss (excl regularization) 9.64e+00, regularization 4.25e-02\n",
      "Lambda = 3.58e+02, selected 32 features in 10 epochs\n",
      "val_loss (excl regularization) 9.64e+00, regularization 4.18e-02\n",
      "Lambda = 3.66e+02, selected 30 features in 20 epochs\n",
      "val_loss (excl regularization) 9.64e+00, regularization 4.06e-02\n",
      "Lambda = 3.73e+02, selected 29 features in 10 epochs\n",
      "val_loss (excl regularization) 9.64e+00, regularization 4.01e-02\n",
      "Lambda = 3.80e+02, selected 28 features in 10 epochs\n",
      "val_loss (excl regularization) 9.64e+00, regularization 3.95e-02\n",
      "Lambda = 3.88e+02, selected 25 features in 10 epochs\n",
      "val_loss (excl regularization) 9.64e+00, regularization 3.89e-02\n",
      "Lambda = 3.96e+02, selected 24 features in 20 epochs\n",
      "val_loss (excl regularization) 9.64e+00, regularization 3.78e-02\n",
      "Lambda = 4.04e+02, selected 23 features in 10 epochs\n",
      "val_loss (excl regularization) 9.64e+00, regularization 3.73e-02\n",
      "Lambda = 4.12e+02, selected 21 features in 10 epochs\n",
      "val_loss (excl regularization) 9.64e+00, regularization 3.68e-02\n",
      "Lambda = 4.20e+02, selected 21 features in 10 epochs\n",
      "val_loss (excl regularization) 9.64e+00, regularization 3.63e-02\n",
      "Lambda = 4.28e+02, selected 17 features in 10 epochs\n",
      "val_loss (excl regularization) 9.63e+00, regularization 3.58e-02\n",
      "Lambda = 4.37e+02, selected 16 features in 10 epochs\n",
      "val_loss (excl regularization) 9.63e+00, regularization 3.53e-02\n",
      "Lambda = 4.46e+02, selected 16 features in 10 epochs\n",
      "val_loss (excl regularization) 9.62e+00, regularization 3.48e-02\n",
      "Lambda = 4.55e+02, selected 15 features in 10 epochs\n",
      "val_loss (excl regularization) 9.62e+00, regularization 3.43e-02\n",
      "Lambda = 4.64e+02, selected 14 features in 10 epochs\n",
      "val_loss (excl regularization) 9.62e+00, regularization 3.38e-02\n",
      "Lambda = 4.73e+02, selected 14 features in 10 epochs\n",
      "val_loss (excl regularization) 9.61e+00, regularization 3.34e-02\n",
      "Lambda = 4.82e+02, selected 13 features in 10 epochs\n",
      "val_loss (excl regularization) 9.61e+00, regularization 3.29e-02\n",
      "Lambda = 4.92e+02, selected 13 features in 10 epochs\n",
      "val_loss (excl regularization) 9.61e+00, regularization 3.25e-02\n",
      "Lambda = 5.02e+02, selected 13 features in 10 epochs\n",
      "val_loss (excl regularization) 9.60e+00, regularization 3.20e-02\n",
      "Lambda = 5.12e+02, selected 13 features in 10 epochs\n",
      "val_loss (excl regularization) 9.60e+00, regularization 3.16e-02\n",
      "Lambda = 5.22e+02, selected 12 features in 10 epochs\n",
      "val_loss (excl regularization) 9.60e+00, regularization 3.11e-02\n",
      "Lambda = 5.33e+02, selected 12 features in 10 epochs\n",
      "val_loss (excl regularization) 9.60e+00, regularization 3.07e-02\n",
      "Lambda = 5.43e+02, selected 11 features in 10 epochs\n",
      "val_loss (excl regularization) 9.59e+00, regularization 3.02e-02\n",
      "Lambda = 5.54e+02, selected 11 features in 10 epochs\n",
      "val_loss (excl regularization) 9.60e+00, regularization 2.98e-02\n",
      "Lambda = 5.65e+02, selected 10 features in 10 epochs\n",
      "val_loss (excl regularization) 9.60e+00, regularization 2.94e-02\n",
      "Lambda = 5.77e+02, selected 10 features in 10 epochs\n",
      "val_loss (excl regularization) 9.60e+00, regularization 2.90e-02\n",
      "Lambda = 5.88e+02, selected 10 features in 10 epochs\n",
      "val_loss (excl regularization) 9.60e+00, regularization 2.86e-02\n",
      "Lambda = 6.00e+02, selected 9 features in 10 epochs\n",
      "val_loss (excl regularization) 9.60e+00, regularization 2.82e-02\n",
      "Lambda = 6.12e+02, selected 8 features in 10 epochs\n",
      "val_loss (excl regularization) 9.61e+00, regularization 2.79e-02\n",
      "Lambda = 6.24e+02, selected 8 features in 10 epochs\n",
      "val_loss (excl regularization) 9.61e+00, regularization 2.75e-02\n",
      "Lambda = 6.37e+02, selected 8 features in 10 epochs\n",
      "val_loss (excl regularization) 9.61e+00, regularization 2.72e-02\n",
      "Lambda = 6.49e+02, selected 8 features in 10 epochs\n",
      "val_loss (excl regularization) 9.61e+00, regularization 2.68e-02\n",
      "Lambda = 6.62e+02, selected 7 features in 10 epochs\n",
      "val_loss (excl regularization) 9.62e+00, regularization 2.65e-02\n"
     ]
    },
    {
     "name": "stdout",
     "output_type": "stream",
     "text": [
      "Lambda = 6.75e+02, selected 7 features in 10 epochs\n",
      "val_loss (excl regularization) 9.62e+00, regularization 2.62e-02\n",
      "Lambda = 6.89e+02, selected 6 features in 10 epochs\n",
      "val_loss (excl regularization) 9.62e+00, regularization 2.59e-02\n",
      "Lambda = 7.03e+02, selected 5 features in 10 epochs\n",
      "val_loss (excl regularization) 9.61e+00, regularization 2.56e-02\n",
      "Lambda = 7.17e+02, selected 5 features in 10 epochs\n",
      "val_loss (excl regularization) 9.61e+00, regularization 2.54e-02\n",
      "Lambda = 7.31e+02, selected 5 features in 10 epochs\n",
      "val_loss (excl regularization) 9.61e+00, regularization 2.52e-02\n",
      "Lambda = 7.46e+02, selected 5 features in 10 epochs\n",
      "val_loss (excl regularization) 9.61e+00, regularization 2.49e-02\n",
      "Lambda = 7.61e+02, selected 5 features in 10 epochs\n",
      "val_loss (excl regularization) 9.61e+00, regularization 2.47e-02\n",
      "Lambda = 7.76e+02, selected 5 features in 10 epochs\n",
      "val_loss (excl regularization) 9.61e+00, regularization 2.44e-02\n",
      "Lambda = 7.91e+02, selected 5 features in 10 epochs\n",
      "val_loss (excl regularization) 9.61e+00, regularization 2.42e-02\n",
      "Lambda = 8.07e+02, selected 5 features in 10 epochs\n",
      "val_loss (excl regularization) 9.61e+00, regularization 2.39e-02\n",
      "Lambda = 8.23e+02, selected 5 features in 10 epochs\n",
      "val_loss (excl regularization) 9.61e+00, regularization 2.37e-02\n",
      "Lambda = 8.40e+02, selected 5 features in 10 epochs\n",
      "val_loss (excl regularization) 9.62e+00, regularization 2.34e-02\n",
      "Lambda = 8.57e+02, selected 5 features in 10 epochs\n",
      "val_loss (excl regularization) 9.62e+00, regularization 2.31e-02\n",
      "Lambda = 8.74e+02, selected 5 features in 10 epochs\n",
      "val_loss (excl regularization) 9.62e+00, regularization 2.29e-02\n",
      "Lambda = 8.91e+02, selected 4 features in 10 epochs\n",
      "val_loss (excl regularization) 9.62e+00, regularization 2.26e-02\n",
      "Lambda = 9.09e+02, selected 3 features in 10 epochs\n",
      "val_loss (excl regularization) 9.63e+00, regularization 2.24e-02\n",
      "Lambda = 9.27e+02, selected 2 features in 10 epochs\n",
      "val_loss (excl regularization) 9.63e+00, regularization 2.22e-02\n",
      "Lambda = 9.46e+02, selected 2 features in 10 epochs\n",
      "val_loss (excl regularization) 9.64e+00, regularization 2.20e-02\n",
      "Lambda = 9.65e+02, selected 2 features in 10 epochs\n",
      "val_loss (excl regularization) 9.65e+00, regularization 2.18e-02\n",
      "Lambda = 9.84e+02, selected 2 features in 10 epochs\n",
      "val_loss (excl regularization) 9.65e+00, regularization 2.17e-02\n",
      "Lambda = 1.00e+03, selected 2 features in 10 epochs\n",
      "val_loss (excl regularization) 9.66e+00, regularization 2.15e-02\n",
      "Lambda = 1.02e+03, selected 2 features in 10 epochs\n",
      "val_loss (excl regularization) 9.67e+00, regularization 2.13e-02\n",
      "Lambda = 1.04e+03, selected 2 features in 10 epochs\n",
      "val_loss (excl regularization) 9.67e+00, regularization 2.11e-02\n",
      "Lambda = 1.07e+03, selected 2 features in 10 epochs\n",
      "val_loss (excl regularization) 9.68e+00, regularization 2.09e-02\n",
      "Lambda = 1.09e+03, selected 2 features in 10 epochs\n",
      "val_loss (excl regularization) 9.69e+00, regularization 2.08e-02\n",
      "Lambda = 1.11e+03, selected 2 features in 10 epochs\n",
      "val_loss (excl regularization) 9.69e+00, regularization 2.06e-02\n",
      "Lambda = 1.13e+03, selected 2 features in 10 epochs\n",
      "val_loss (excl regularization) 9.70e+00, regularization 2.04e-02\n",
      "Lambda = 1.15e+03, selected 2 features in 10 epochs\n",
      "val_loss (excl regularization) 9.71e+00, regularization 2.02e-02\n",
      "Lambda = 1.18e+03, selected 2 features in 10 epochs\n",
      "val_loss (excl regularization) 9.71e+00, regularization 2.01e-02\n",
      "Lambda = 1.20e+03, selected 2 features in 10 epochs\n",
      "val_loss (excl regularization) 9.72e+00, regularization 1.99e-02\n",
      "Lambda = 1.22e+03, selected 2 features in 10 epochs\n",
      "val_loss (excl regularization) 9.73e+00, regularization 1.97e-02\n",
      "Lambda = 1.25e+03, selected 2 features in 10 epochs\n",
      "val_loss (excl regularization) 9.74e+00, regularization 1.95e-02\n",
      "Lambda = 1.27e+03, selected 2 features in 10 epochs\n",
      "val_loss (excl regularization) 9.75e+00, regularization 1.93e-02\n",
      "Lambda = 1.30e+03, selected 2 features in 10 epochs\n",
      "val_loss (excl regularization) 9.76e+00, regularization 1.91e-02\n",
      "Lambda = 1.32e+03, selected 2 features in 10 epochs\n",
      "val_loss (excl regularization) 9.77e+00, regularization 1.90e-02\n",
      "Lambda = 1.35e+03, selected 2 features in 10 epochs\n",
      "val_loss (excl regularization) 9.78e+00, regularization 1.88e-02\n",
      "Lambda = 1.38e+03, selected 2 features in 10 epochs\n",
      "val_loss (excl regularization) 9.79e+00, regularization 1.86e-02\n",
      "Lambda = 1.41e+03, selected 2 features in 10 epochs\n",
      "val_loss (excl regularization) 9.80e+00, regularization 1.84e-02\n",
      "Lambda = 1.43e+03, selected 2 features in 10 epochs\n",
      "val_loss (excl regularization) 9.81e+00, regularization 1.82e-02\n",
      "Lambda = 1.46e+03, selected 2 features in 10 epochs\n",
      "val_loss (excl regularization) 9.82e+00, regularization 1.80e-02\n",
      "Lambda = 1.49e+03, selected 2 features in 10 epochs\n",
      "val_loss (excl regularization) 9.83e+00, regularization 1.78e-02\n",
      "Lambda = 1.52e+03, selected 2 features in 10 epochs\n",
      "val_loss (excl regularization) 9.85e+00, regularization 1.76e-02\n",
      "Lambda = 1.55e+03, selected 2 features in 10 epochs\n",
      "val_loss (excl regularization) 9.86e+00, regularization 1.74e-02\n",
      "Lambda = 1.58e+03, selected 2 features in 10 epochs\n",
      "val_loss (excl regularization) 9.87e+00, regularization 1.72e-02\n",
      "Lambda = 1.61e+03, selected 2 features in 10 epochs\n",
      "val_loss (excl regularization) 9.89e+00, regularization 1.70e-02\n",
      "Lambda = 1.65e+03, selected 2 features in 10 epochs\n",
      "val_loss (excl regularization) 9.90e+00, regularization 1.69e-02\n",
      "Lambda = 1.68e+03, selected 2 features in 10 epochs\n",
      "val_loss (excl regularization) 9.92e+00, regularization 1.67e-02\n",
      "Lambda = 1.71e+03, selected 2 features in 10 epochs\n",
      "val_loss (excl regularization) 9.93e+00, regularization 1.65e-02\n",
      "Lambda = 1.75e+03, selected 2 features in 10 epochs\n",
      "val_loss (excl regularization) 9.94e+00, regularization 1.63e-02\n",
      "Lambda = 1.78e+03, selected 2 features in 10 epochs\n",
      "val_loss (excl regularization) 9.95e+00, regularization 1.61e-02\n",
      "Lambda = 1.82e+03, selected 2 features in 10 epochs\n",
      "val_loss (excl regularization) 9.97e+00, regularization 1.60e-02\n",
      "Lambda = 1.85e+03, selected 2 features in 10 epochs\n",
      "val_loss (excl regularization) 9.98e+00, regularization 1.58e-02\n",
      "Lambda = 1.89e+03, selected 2 features in 10 epochs\n",
      "val_loss (excl regularization) 1.00e+01, regularization 1.56e-02\n",
      "Lambda = 1.93e+03, selected 2 features in 10 epochs\n",
      "val_loss (excl regularization) 1.00e+01, regularization 1.55e-02\n",
      "Lambda = 1.97e+03, selected 2 features in 10 epochs\n",
      "val_loss (excl regularization) 1.00e+01, regularization 1.53e-02\n",
      "Lambda = 2.01e+03, selected 2 features in 10 epochs\n",
      "val_loss (excl regularization) 1.01e+01, regularization 1.51e-02\n",
      "Lambda = 2.05e+03, selected 2 features in 10 epochs\n",
      "val_loss (excl regularization) 1.01e+01, regularization 1.49e-02\n",
      "Lambda = 2.09e+03, selected 2 features in 10 epochs\n",
      "val_loss (excl regularization) 1.01e+01, regularization 1.48e-02\n",
      "Lambda = 2.13e+03, selected 2 features in 10 epochs\n",
      "val_loss (excl regularization) 1.01e+01, regularization 1.46e-02\n",
      "Lambda = 2.17e+03, selected 2 features in 10 epochs\n",
      "val_loss (excl regularization) 1.01e+01, regularization 1.44e-02\n",
      "Lambda = 2.22e+03, selected 2 features in 10 epochs\n",
      "val_loss (excl regularization) 1.02e+01, regularization 1.42e-02\n",
      "Lambda = 2.26e+03, selected 2 features in 10 epochs\n",
      "val_loss (excl regularization) 1.02e+01, regularization 1.41e-02\n",
      "Lambda = 2.31e+03, selected 2 features in 10 epochs\n",
      "val_loss (excl regularization) 1.02e+01, regularization 1.39e-02\n",
      "Lambda = 2.35e+03, selected 2 features in 10 epochs\n",
      "val_loss (excl regularization) 1.02e+01, regularization 1.37e-02\n",
      "Lambda = 2.40e+03, selected 2 features in 10 epochs\n",
      "val_loss (excl regularization) 1.03e+01, regularization 1.36e-02\n",
      "Lambda = 2.45e+03, selected 2 features in 10 epochs\n",
      "val_loss (excl regularization) 1.03e+01, regularization 1.34e-02\n",
      "Lambda = 2.50e+03, selected 2 features in 10 epochs\n",
      "val_loss (excl regularization) 1.03e+01, regularization 1.32e-02\n",
      "Lambda = 2.55e+03, selected 2 features in 10 epochs\n",
      "val_loss (excl regularization) 1.03e+01, regularization 1.30e-02\n",
      "Lambda = 2.60e+03, selected 2 features in 10 epochs\n",
      "val_loss (excl regularization) 1.04e+01, regularization 1.29e-02\n",
      "Lambda = 2.65e+03, selected 2 features in 10 epochs\n",
      "val_loss (excl regularization) 1.04e+01, regularization 1.27e-02\n",
      "Lambda = 2.70e+03, selected 2 features in 10 epochs\n",
      "val_loss (excl regularization) 1.04e+01, regularization 1.25e-02\n",
      "Lambda = 2.76e+03, selected 2 features in 10 epochs\n",
      "val_loss (excl regularization) 1.05e+01, regularization 1.24e-02\n"
     ]
    },
    {
     "name": "stdout",
     "output_type": "stream",
     "text": [
      "Lambda = 2.81e+03, selected 2 features in 10 epochs\n",
      "val_loss (excl regularization) 1.05e+01, regularization 1.22e-02\n",
      "Lambda = 2.87e+03, selected 2 features in 20 epochs\n",
      "val_loss (excl regularization) 1.05e+01, regularization 1.19e-02\n",
      "Lambda = 2.92e+03, selected 2 features in 10 epochs\n",
      "val_loss (excl regularization) 1.06e+01, regularization 1.18e-02\n",
      "Lambda = 2.98e+03, selected 2 features in 10 epochs\n",
      "val_loss (excl regularization) 1.06e+01, regularization 1.17e-02\n",
      "Lambda = 3.04e+03, selected 2 features in 20 epochs\n",
      "val_loss (excl regularization) 1.06e+01, regularization 1.14e-02\n",
      "Lambda = 3.10e+03, selected 2 features in 10 epochs\n",
      "val_loss (excl regularization) 1.07e+01, regularization 1.13e-02\n",
      "Lambda = 3.17e+03, selected 2 features in 10 epochs\n",
      "val_loss (excl regularization) 1.07e+01, regularization 1.11e-02\n",
      "Lambda = 3.23e+03, selected 2 features in 20 epochs\n",
      "val_loss (excl regularization) 1.07e+01, regularization 1.09e-02\n",
      "Lambda = 3.29e+03, selected 2 features in 10 epochs\n",
      "val_loss (excl regularization) 1.08e+01, regularization 1.08e-02\n",
      "Lambda = 3.36e+03, selected 2 features in 10 epochs\n",
      "val_loss (excl regularization) 1.08e+01, regularization 1.06e-02\n",
      "Lambda = 3.43e+03, selected 2 features in 20 epochs\n",
      "val_loss (excl regularization) 1.09e+01, regularization 1.04e-02\n",
      "Lambda = 3.49e+03, selected 2 features in 10 epochs\n",
      "val_loss (excl regularization) 1.09e+01, regularization 1.03e-02\n",
      "Lambda = 3.56e+03, selected 2 features in 19 epochs\n",
      "val_loss (excl regularization) 1.09e+01, regularization 1.00e-02\n",
      "Lambda = 3.64e+03, selected 2 features in 10 epochs\n",
      "val_loss (excl regularization) 1.10e+01, regularization 9.92e-03\n",
      "Lambda = 3.71e+03, selected 2 features in 19 epochs\n",
      "val_loss (excl regularization) 1.10e+01, regularization 9.71e-03\n",
      "Lambda = 3.78e+03, selected 2 features in 10 epochs\n",
      "val_loss (excl regularization) 1.11e+01, regularization 9.58e-03\n",
      "Lambda = 3.86e+03, selected 2 features in 19 epochs\n",
      "val_loss (excl regularization) 1.11e+01, regularization 9.36e-03\n",
      "Lambda = 3.94e+03, selected 2 features in 10 epochs\n",
      "val_loss (excl regularization) 1.11e+01, regularization 9.23e-03\n",
      "Lambda = 4.01e+03, selected 2 features in 18 epochs\n",
      "val_loss (excl regularization) 1.12e+01, regularization 9.01e-03\n",
      "Lambda = 4.09e+03, selected 2 features in 10 epochs\n",
      "val_loss (excl regularization) 1.12e+01, regularization 8.89e-03\n",
      "Lambda = 4.18e+03, selected 2 features in 19 epochs\n",
      "val_loss (excl regularization) 1.13e+01, regularization 8.68e-03\n",
      "Lambda = 4.26e+03, selected 2 features in 10 epochs\n",
      "val_loss (excl regularization) 1.13e+01, regularization 8.56e-03\n",
      "Lambda = 4.35e+03, selected 2 features in 19 epochs\n",
      "val_loss (excl regularization) 1.14e+01, regularization 8.37e-03\n",
      "Lambda = 4.43e+03, selected 2 features in 10 epochs\n",
      "val_loss (excl regularization) 1.14e+01, regularization 8.26e-03\n",
      "Lambda = 4.52e+03, selected 2 features in 17 epochs\n",
      "val_loss (excl regularization) 1.15e+01, regularization 8.06e-03\n",
      "Lambda = 4.61e+03, selected 2 features in 19 epochs\n",
      "val_loss (excl regularization) 1.16e+01, regularization 7.89e-03\n",
      "Lambda = 4.70e+03, selected 2 features in 20 epochs\n",
      "val_loss (excl regularization) 1.16e+01, regularization 7.74e-03\n",
      "Lambda = 4.80e+03, selected 2 features in 20 epochs\n",
      "val_loss (excl regularization) 1.17e+01, regularization 7.58e-03\n",
      "Lambda = 4.89e+03, selected 2 features in 19 epochs\n",
      "val_loss (excl regularization) 1.17e+01, regularization 7.42e-03\n",
      "Lambda = 4.99e+03, selected 2 features in 19 epochs\n",
      "val_loss (excl regularization) 1.18e+01, regularization 7.26e-03\n",
      "Lambda = 5.09e+03, selected 2 features in 19 epochs\n",
      "val_loss (excl regularization) 1.19e+01, regularization 7.10e-03\n",
      "Lambda = 5.19e+03, selected 2 features in 18 epochs\n",
      "val_loss (excl regularization) 1.19e+01, regularization 6.95e-03\n",
      "Lambda = 5.30e+03, selected 2 features in 17 epochs\n",
      "val_loss (excl regularization) 1.20e+01, regularization 6.78e-03\n",
      "Lambda = 5.40e+03, selected 2 features in 17 epochs\n",
      "val_loss (excl regularization) 1.21e+01, regularization 6.62e-03\n",
      "Lambda = 5.51e+03, selected 2 features in 17 epochs\n",
      "val_loss (excl regularization) 1.21e+01, regularization 6.46e-03\n",
      "Lambda = 5.62e+03, selected 2 features in 17 epochs\n",
      "val_loss (excl regularization) 1.22e+01, regularization 6.30e-03\n",
      "Lambda = 5.73e+03, selected 2 features in 16 epochs\n",
      "val_loss (excl regularization) 1.23e+01, regularization 6.14e-03\n",
      "Lambda = 5.85e+03, selected 2 features in 16 epochs\n",
      "val_loss (excl regularization) 1.24e+01, regularization 5.97e-03\n",
      "Lambda = 5.97e+03, selected 2 features in 15 epochs\n",
      "val_loss (excl regularization) 1.25e+01, regularization 5.81e-03\n",
      "Lambda = 6.08e+03, selected 2 features in 15 epochs\n",
      "val_loss (excl regularization) 1.26e+01, regularization 5.64e-03\n",
      "Lambda = 6.21e+03, selected 2 features in 15 epochs\n",
      "val_loss (excl regularization) 1.27e+01, regularization 5.47e-03\n",
      "Lambda = 6.33e+03, selected 2 features in 15 epochs\n",
      "val_loss (excl regularization) 1.28e+01, regularization 5.31e-03\n",
      "Lambda = 6.46e+03, selected 2 features in 22 epochs\n",
      "val_loss (excl regularization) 1.29e+01, regularization 5.14e-03\n",
      "Lambda = 6.59e+03, selected 2 features in 16 epochs\n",
      "val_loss (excl regularization) 1.30e+01, regularization 5.01e-03\n",
      "Lambda = 6.72e+03, selected 2 features in 20 epochs\n",
      "val_loss (excl regularization) 1.31e+01, regularization 4.82e-03\n",
      "Lambda = 6.85e+03, selected 2 features in 22 epochs\n",
      "val_loss (excl regularization) 1.32e+01, regularization 4.66e-03\n",
      "Lambda = 6.99e+03, selected 2 features in 15 epochs\n",
      "val_loss (excl regularization) 1.33e+01, regularization 4.52e-03\n",
      "Lambda = 7.13e+03, selected 2 features in 19 epochs\n",
      "val_loss (excl regularization) 1.34e+01, regularization 4.32e-03\n",
      "Lambda = 7.27e+03, selected 2 features in 20 epochs\n",
      "val_loss (excl regularization) 1.35e+01, regularization 4.16e-03\n",
      "Lambda = 7.42e+03, selected 2 features in 20 epochs\n",
      "val_loss (excl regularization) 1.37e+01, regularization 3.99e-03\n",
      "Lambda = 7.57e+03, selected 2 features in 19 epochs\n",
      "val_loss (excl regularization) 1.38e+01, regularization 3.82e-03\n",
      "Lambda = 7.72e+03, selected 2 features in 20 epochs\n",
      "val_loss (excl regularization) 1.39e+01, regularization 3.65e-03\n",
      "Lambda = 7.87e+03, selected 2 features in 19 epochs\n",
      "val_loss (excl regularization) 1.41e+01, regularization 3.47e-03\n",
      "Lambda = 8.03e+03, selected 2 features in 18 epochs\n",
      "val_loss (excl regularization) 1.42e+01, regularization 3.30e-03\n",
      "Lambda = 8.19e+03, selected 2 features in 22 epochs\n",
      "val_loss (excl regularization) 1.44e+01, regularization 3.12e-03\n",
      "Lambda = 8.35e+03, selected 2 features in 18 epochs\n",
      "val_loss (excl regularization) 1.45e+01, regularization 2.95e-03\n",
      "Lambda = 8.52e+03, selected 2 features in 20 epochs\n",
      "val_loss (excl regularization) 1.47e+01, regularization 2.75e-03\n",
      "Lambda = 8.69e+03, selected 2 features in 20 epochs\n",
      "val_loss (excl regularization) 1.49e+01, regularization 2.58e-03\n",
      "Lambda = 8.86e+03, selected 2 features in 20 epochs\n",
      "val_loss (excl regularization) 1.50e+01, regularization 2.39e-03\n",
      "Lambda = 9.04e+03, selected 2 features in 19 epochs\n",
      "val_loss (excl regularization) 1.52e+01, regularization 2.20e-03\n",
      "Lambda = 9.22e+03, selected 2 features in 19 epochs\n",
      "val_loss (excl regularization) 1.54e+01, regularization 2.00e-03\n",
      "Lambda = 9.41e+03, selected 2 features in 19 epochs\n",
      "val_loss (excl regularization) 1.56e+01, regularization 1.80e-03\n",
      "Lambda = 9.59e+03, selected 2 features in 22 epochs\n",
      "val_loss (excl regularization) 1.58e+01, regularization 1.61e-03\n",
      "Lambda = 9.79e+03, selected 2 features in 20 epochs\n",
      "val_loss (excl regularization) 1.61e+01, regularization 1.41e-03\n",
      "Lambda = 9.98e+03, selected 2 features in 20 epochs\n",
      "val_loss (excl regularization) 1.63e+01, regularization 1.19e-03\n",
      "Lambda = 1.02e+04, selected 2 features in 28 epochs\n",
      "val_loss (excl regularization) 1.65e+01, regularization 1.00e-03\n",
      "Lambda = 1.04e+04, selected 2 features in 25 epochs\n",
      "val_loss (excl regularization) 1.68e+01, regularization 7.67e-04\n",
      "Lambda = 1.06e+04, selected 2 features in 28 epochs\n",
      "val_loss (excl regularization) 1.71e+01, regularization 5.38e-04\n",
      "Lambda = 1.08e+04, selected 1 features in 20 epochs\n",
      "val_loss (excl regularization) 1.73e+01, regularization 3.57e-04\n",
      "Lambda = 1.10e+04, selected 1 features in 20 epochs\n",
      "val_loss (excl regularization) 1.74e+01, regularization 2.38e-04\n",
      "Lambda = 1.12e+04, selected 1 features in 22 epochs\n",
      "val_loss (excl regularization) 1.76e+01, regularization 1.22e-04\n"
     ]
    },
    {
     "name": "stdout",
     "output_type": "stream",
     "text": [
      "Lambda = 1.15e+04, selected 0 features in 19 epochs\r\n",
      "val_loss (excl regularization) 1.78e+01, regularization 0.00e+00\r\n"
     ]
    }
   ],
   "source": [
    "!python '/Users/arbelogonzalezw/Documents/ML_WORK/LassoNet/lassonet/examples/miceprotein.py'"
   ]
  },
  {
   "cell_type": "markdown",
   "id": "bearing-imperial",
   "metadata": {},
   "source": [
    "## Lockout ResNet"
   ]
  },
  {
   "cell_type": "code",
   "execution_count": 45,
   "id": "intense-asbestos",
   "metadata": {
    "ExecuteTime": {
     "end_time": "2021-06-17T05:58:35.052586Z",
     "start_time": "2021-06-17T05:58:35.041937Z"
    }
   },
   "outputs": [],
   "source": [
    "# TRAIN WITH LOCKOUT\n",
    "model = MyNetRes(n_features, n_layers)\n",
    "model.load_state_dict(torch.load('./model_forward_last_b_resnet.pth'))\n",
    "model.eval()\n",
    "\n",
    "regul_type = [('fc1.weight', 1)]\n",
    "regul_path = [('fc1.weight', True)]\n",
    "\n",
    "t0_grid = {'fc1.weight': torch.from_numpy(np.geomspace(122.119652, 1e-2, num=100, endpoint=False))}\n",
    "t0      = {'fc1.weight': torch.tensor(24.869976)}\n",
    "\n",
    "lockdown_reg = ld.Lockout(model, lr=1e-2, \n",
    "                          regul_type=regul_type,\n",
    "                          regul_path=regul_path, \n",
    "                          loss_type=1, tol_grads=1e-3)"
   ]
  },
  {
   "cell_type": "code",
   "execution_count": 46,
   "id": "turned-flesh",
   "metadata": {
    "ExecuteTime": {
     "end_time": "2021-06-17T08:13:36.401989Z",
     "start_time": "2021-06-17T05:58:40.914564Z"
    }
   },
   "outputs": [
    {
     "data": {
      "application/vnd.jupyter.widget-view+json": {
       "model_id": "dd0a692760a349a08291479996756687",
       "version_major": 2,
       "version_minor": 0
      },
      "text/plain": [
       "Epochs1:   0%|          | 0/100000 [00:00<?, ?it/s]"
      ]
     },
     "metadata": {},
     "output_type": "display_data"
    },
    {
     "name": "stdout",
     "output_type": "stream",
     "text": [
      "Path 1: Early stopping = True\n",
      "        Last iteration = 20\n"
     ]
    },
    {
     "data": {
      "application/vnd.jupyter.widget-view+json": {
       "model_id": "64fd5ee298164cdc8302008c21bd7b40",
       "version_major": 2,
       "version_minor": 0
      },
      "text/plain": [
       "Epochs2:   0%|          | 0/100000 [00:00<?, ?it/s]"
      ]
     },
     "metadata": {},
     "output_type": "display_data"
    },
    {
     "name": "stdout",
     "output_type": "stream",
     "text": [
      "Best validation at iteration = 99259\n"
     ]
    }
   ],
   "source": [
    "lockdown_reg.train(dl_train, dl_valid, dl_test, epochs=100000, early_stop=20, tol_loss=1e-4,\n",
    "                   train_how=\"decrease_t0\")"
   ]
  },
  {
   "cell_type": "code",
   "execution_count": 47,
   "id": "legitimate-median",
   "metadata": {
    "ExecuteTime": {
     "end_time": "2021-06-17T09:28:45.698548Z",
     "start_time": "2021-06-17T09:28:44.681930Z"
    }
   },
   "outputs": [],
   "source": [
    "# Save model, data\n",
    "tp.save_model(lockdown_reg.model_best_valid, 'model_lockdown_valid_min_b_resnet.pth')\n",
    "tp.save_model(lockdown_reg.model_last, 'model_lockdown_last_b_resnet.pth')\n",
    "lockdown_reg.path_data.to_csv('data_lockdown_b_resnet.csv')"
   ]
  },
  {
   "cell_type": "code",
   "execution_count": 48,
   "id": "wound-bahrain",
   "metadata": {
    "ExecuteTime": {
     "end_time": "2021-06-17T09:29:01.287150Z",
     "start_time": "2021-06-17T09:29:01.016036Z"
    }
   },
   "outputs": [
    {
     "data": {
      "image/png": "[encoded data removed]",
      "text/plain": [
       "<Figure size 576x432 with 1 Axes>"
      ]
     },
     "metadata": {
      "needs_background": "light"
     },
     "output_type": "display_data"
    }
   ],
   "source": [
    "# Relevant plots\n",
    "df = pd.read_csv('data_lockdown_b_resnet.csv')\n",
    "df.plot(x=\"iteration\", y=['t0_calc__fc1.weight', 't0_used__fc1.weight'], \n",
    "        figsize=(8,6))\n",
    "plt.show()"
   ]
  },
  {
   "cell_type": "code",
   "execution_count": 49,
   "id": "tested-tutorial",
   "metadata": {
    "ExecuteTime": {
     "end_time": "2021-06-17T09:29:26.582583Z",
     "start_time": "2021-06-17T09:29:26.573818Z"
    }
   },
   "outputs": [
    {
     "name": "stdout",
     "output_type": "stream",
     "text": [
      "Train R2 = 0.7557\n",
      "Valid R2 = 0.8661\n",
      "Test R2  = 0.8648\n"
     ]
    }
   ],
   "source": [
    "# Accuracy\n",
    "mm = MyNetRes(n_features, n_layers)\n",
    "mm.load_state_dict(torch.load('./model_lockdown_valid_min_b_resnet.pth'))\n",
    "mm.eval()\n",
    "\n",
    "xtrain = xtrain.to(device)\n",
    "ypred = mm(xtrain)\n",
    "r2 = r2_score(ytrain.detach().numpy(), ypred.detach().numpy())\n",
    "print(\"Train R2 = {:.4f}\".format(r2))\n",
    "\n",
    "xvalid = xvalid.to(device)\n",
    "ypred = mm(xvalid)\n",
    "r2 = r2_score(yvalid.detach().numpy(), ypred.detach().numpy())\n",
    "print(\"Valid R2 = {:.4f}\".format(r2))\n",
    "\n",
    "xtest = xtest.to(device)\n",
    "ypred = mm(xtest)\n",
    "r2 = r2_score(ytest.detach().numpy(), ypred.detach().numpy())\n",
    "print(\"Test R2  = {:.4f}\".format(r2))"
   ]
  },
  {
   "cell_type": "code",
   "execution_count": 50,
   "id": "lovely-advisory",
   "metadata": {
    "ExecuteTime": {
     "end_time": "2021-06-17T09:29:54.405742Z",
     "start_time": "2021-06-17T09:29:53.987716Z"
    }
   },
   "outputs": [
    {
     "data": {
      "image/png": "[encoded data removed]",
      "text/plain": [
       "<Figure size 648x432 with 1 Axes>"
      ]
     },
     "metadata": {
      "needs_background": "light"
     },
     "output_type": "display_data"
    }
   ],
   "source": [
    "# Accuracy vs Sparcity\n",
    "data_lockdown = pd.read_csv('data_lockdown_b_resnet.csv', index_col=0)\n",
    "data_tmp_res = pd.DataFrame(columns=['sparcity', 'train_accu', 'valid_accu', 'test_accu', 't0_used'])\n",
    "xgrid, step = np.linspace(0., 1., num=100,endpoint=True, retstep=True)\n",
    "for x in xgrid:\n",
    "    msk = (data_lockdown['sparcity__fc1.weight'] >= x) &    \\\n",
    "          (data_lockdown['sparcity__fc1.weight'] < x+step)\n",
    "    train_accu = data_lockdown.loc[msk, 'train_accu'].mean()\n",
    "    valid_accu = data_lockdown.loc[msk, 'valid_accu'].mean()\n",
    "    test_accu  = data_lockdown.loc[msk, 'test_accu'].mean()\n",
    "    t0_used = data_lockdown.loc[msk, 't0_used__fc1.weight'].mean()\n",
    "    data_tmp_res = data_tmp_res.append({'sparcity': x, \n",
    "                                'train_accu': train_accu, \n",
    "                                'valid_accu': valid_accu, \n",
    "                                'test_accu': test_accu, \n",
    "                                't0_used': t0_used}, ignore_index=True)\n",
    "data_tmp_res.dropna(axis='index', how='any', inplace=True)\n",
    "\n",
    "fig, axes = plt.subplots(figsize=(9,6))\n",
    "\n",
    "axes.plot(200*data_tmp_res['sparcity'], data_tmp_res['test_accu'], \".-\", label='Lockdown-ResNet')\n",
    "\n",
    "axes.grid(True)\n",
    "axes.set_xlabel(\"density\")\n",
    "axes.set_ylabel(\"test accuracy\")\n",
    "axes.legend()\n",
    "\n",
    "plt.show()"
   ]
  },
  {
   "cell_type": "code",
   "execution_count": 51,
   "id": "healthy-swimming",
   "metadata": {
    "ExecuteTime": {
     "end_time": "2021-06-17T09:30:30.298684Z",
     "start_time": "2021-06-17T09:30:29.939701Z"
    }
   },
   "outputs": [
    {
     "data": {
      "image/png": "[encoded data removed]",
      "text/plain": [
       "<Figure size 1080x432 with 1 Axes>"
      ]
     },
     "metadata": {
      "needs_background": "light"
     },
     "output_type": "display_data"
    }
   ],
   "source": [
    "# 1000, 200, std=0.5\n",
    "data_lockdown = pd.read_csv('data_lockdown_b_resnet.csv', index_col=0)\n",
    "\n",
    "fig, axes = plt.subplots(figsize=(15,6))\n",
    "\n",
    "axes.plot(200*data_lockdown['sparcity__fc1.weight'], \n",
    "          data_lockdown['train_accu'], label='Train')\n",
    "axes.plot(200*data_lockdown['sparcity__fc1.weight'], \n",
    "          data_lockdown['valid_accu'], label='Valid')\n",
    "axes.plot(200*data_lockdown['sparcity__fc1.weight'], \n",
    "          data_lockdown['test_accu'], label='Test')\n",
    "\n",
    "axes.legend()\n",
    "plt.show()"
   ]
  },
  {
   "cell_type": "markdown",
   "id": "still-clark",
   "metadata": {},
   "source": [
    "* ## Lockout"
   ]
  },
  {
   "cell_type": "code",
   "execution_count": 29,
   "id": "isolated-creator",
   "metadata": {
    "ExecuteTime": {
     "end_time": "2021-06-17T03:31:11.736809Z",
     "start_time": "2021-06-17T03:31:11.729309Z"
    }
   },
   "outputs": [],
   "source": [
    "# TRAIN WITH LOCKOUT\n",
    "model = MyNet(n_features, n_layers)\n",
    "model.load_state_dict(torch.load('./model_forward_last_b.pth'))\n",
    "model.eval()\n",
    "\n",
    "regul_type = [('classifier.0.weight', 1)]\n",
    "regul_path = [('classifier.0.weight', True)]\n",
    "\n",
    "t0_grid = {'classifier.0.weight': torch.from_numpy(np.geomspace(74.083328, 1e-2, num=100, endpoint=False))}\n",
    "t0      = {'classifier.0.weight': torch.tensor(24.869976)}\n",
    "\n",
    "lockdown_reg = ld.Lockout(model, lr=1e-2, \n",
    "                          regul_type=regul_type,\n",
    "                          regul_path=regul_path, \n",
    "                          loss_type=1, tol_grads=1e-2)"
   ]
  },
  {
   "cell_type": "code",
   "execution_count": 30,
   "id": "cross-yeast",
   "metadata": {
    "ExecuteTime": {
     "end_time": "2021-06-17T05:44:22.904400Z",
     "start_time": "2021-06-17T03:31:16.814296Z"
    }
   },
   "outputs": [
    {
     "data": {
      "application/vnd.jupyter.widget-view+json": {
       "model_id": "7b770222bd024174a19db366b60b8d9a",
       "version_major": 2,
       "version_minor": 0
      },
      "text/plain": [
       "Epochs1:   0%|          | 0/100000 [00:00<?, ?it/s]"
      ]
     },
     "metadata": {},
     "output_type": "display_data"
    },
    {
     "name": "stdout",
     "output_type": "stream",
     "text": [
      "Path 1: Early stopping = True\n",
      "        Last iteration = 20\n"
     ]
    },
    {
     "data": {
      "application/vnd.jupyter.widget-view+json": {
       "model_id": "a60a5838356e414c845f16da7401abb6",
       "version_major": 2,
       "version_minor": 0
      },
      "text/plain": [
       "Epochs2:   0%|          | 0/100000 [00:00<?, ?it/s]"
      ]
     },
     "metadata": {},
     "output_type": "display_data"
    },
    {
     "name": "stdout",
     "output_type": "stream",
     "text": [
      "Best validation at iteration = 99197\n"
     ]
    }
   ],
   "source": [
    "lockdown_reg.train(dl_train, dl_valid, dl_test, epochs=100000, early_stop=20, tol_loss=1e-4,\n",
    "                   train_how=\"decrease_t0\")"
   ]
  },
  {
   "cell_type": "code",
   "execution_count": 31,
   "id": "internal-iraqi",
   "metadata": {
    "ExecuteTime": {
     "end_time": "2021-06-17T05:52:11.300406Z",
     "start_time": "2021-06-17T05:52:10.159752Z"
    },
    "code_folding": []
   },
   "outputs": [],
   "source": [
    "# Save model, data\n",
    "tp.save_model(lockdown_reg.model_best_valid, 'model_lockdown_valid_min_b.pth')\n",
    "tp.save_model(lockdown_reg.model_last, 'model_lockdown_last_b.pth')\n",
    "lockdown_reg.path_data.to_csv('data_lockdown_b.csv')"
   ]
  },
  {
   "cell_type": "code",
   "execution_count": 64,
   "id": "parallel-chile",
   "metadata": {
    "ExecuteTime": {
     "end_time": "2021-06-17T09:42:45.180662Z",
     "start_time": "2021-06-17T09:42:44.827545Z"
    },
    "code_folding": []
   },
   "outputs": [
    {
     "data": {
      "image/png": "[encoded data removed]",
      "text/plain": [
       "<Figure size 576x432 with 1 Axes>"
      ]
     },
     "metadata": {
      "needs_background": "light"
     },
     "output_type": "display_data"
    }
   ],
   "source": [
    "# Relevant plots\n",
    "df = pd.read_csv('data_lockdown_b.csv')\n",
    "df.plot(x=\"iteration\", y=['train_loss', 'valid_loss', 'test_loss'], figsize=(8,6))\n",
    "plt.show()"
   ]
  },
  {
   "cell_type": "code",
   "execution_count": 53,
   "id": "disciplinary-jurisdiction",
   "metadata": {
    "ExecuteTime": {
     "end_time": "2021-06-17T09:31:12.662919Z",
     "start_time": "2021-06-17T09:31:12.395508Z"
    },
    "code_folding": []
   },
   "outputs": [
    {
     "data": {
      "image/png": "[encoded data removed]",
      "text/plain": [
       "<Figure size 576x432 with 1 Axes>"
      ]
     },
     "metadata": {
      "needs_background": "light"
     },
     "output_type": "display_data"
    }
   ],
   "source": [
    "# Relevant plots\n",
    "df = pd.read_csv('data_lockdown_b.csv')\n",
    "df.plot(x=\"iteration\", y=['t0_calc__classifier.0.weight', 't0_used__classifier.0.weight'], \n",
    "        figsize=(8,6))\n",
    "plt.show()"
   ]
  },
  {
   "cell_type": "code",
   "execution_count": 70,
   "id": "freelance-catholic",
   "metadata": {
    "ExecuteTime": {
     "end_time": "2021-06-17T09:45:18.902487Z",
     "start_time": "2021-06-17T09:45:18.581514Z"
    },
    "code_folding": []
   },
   "outputs": [
    {
     "data": {
      "image/png": "[encoded data removed]",
      "text/plain": [
       "<Figure size 576x432 with 1 Axes>"
      ]
     },
     "metadata": {
      "needs_background": "light"
     },
     "output_type": "display_data"
    }
   ],
   "source": [
    "# Relevant plots\n",
    "df = pd.read_csv('data_lockdown_b.csv')\n",
    "df.plot(x=\"iteration\", y=['sparcity__classifier.0.weight', 'valid_loss'], \n",
    "        figsize=(8,6))\n",
    "plt.xlim(95000,100020)\n",
    "plt.show()"
   ]
  },
  {
   "cell_type": "code",
   "execution_count": 57,
   "id": "associate-shower",
   "metadata": {
    "ExecuteTime": {
     "end_time": "2021-06-17T09:32:01.326311Z",
     "start_time": "2021-06-17T09:32:01.318540Z"
    },
    "code_folding": []
   },
   "outputs": [
    {
     "name": "stdout",
     "output_type": "stream",
     "text": [
      "Train R2 = 0.7709\n",
      "Valid R2 = 0.8678\n",
      "Test R2  = 0.8635\n"
     ]
    }
   ],
   "source": [
    "# Accuracy\n",
    "mm = MyNet(n_features, n_layers)\n",
    "mm.load_state_dict(torch.load('./model_lockdown_valid_min_b.pth'))\n",
    "mm.eval()\n",
    "\n",
    "xtrain = xtrain.to(device)\n",
    "ypred = mm(xtrain)\n",
    "r2 = r2_score(ytrain.detach().numpy(), ypred.detach().numpy())\n",
    "print(\"Train R2 = {:.4f}\".format(r2))\n",
    "\n",
    "xvalid = xvalid.to(device)\n",
    "ypred = mm(xvalid)\n",
    "r2 = r2_score(yvalid.detach().numpy(), ypred.detach().numpy())\n",
    "print(\"Valid R2 = {:.4f}\".format(r2))\n",
    "\n",
    "xtest = xtest.to(device)\n",
    "ypred = mm(xtest)\n",
    "r2 = r2_score(ytest.detach().numpy(), ypred.detach().numpy())\n",
    "print(\"Test R2  = {:.4f}\".format(r2))"
   ]
  },
  {
   "cell_type": "code",
   "execution_count": 58,
   "id": "incorporated-spine",
   "metadata": {
    "ExecuteTime": {
     "end_time": "2021-06-17T09:33:22.761213Z",
     "start_time": "2021-06-17T09:33:22.423944Z"
    },
    "code_folding": [
     0
    ]
   },
   "outputs": [
    {
     "data": {
      "image/png": "[encoded data removed]",
      "text/plain": [
       "<Figure size 1080x432 with 1 Axes>"
      ]
     },
     "metadata": {
      "needs_background": "light"
     },
     "output_type": "display_data"
    }
   ],
   "source": [
    "# 1000, 200, std=0.5\n",
    "data_lockdown = pd.read_csv('data_lockdown_b.csv', index_col=0)\n",
    "# data_lockdown = data_lockdown.sort_values(by=['iteration'], \n",
    "#                                           ascending=True)\n",
    "\n",
    "fig, axes = plt.subplots(figsize=(15,6))\n",
    "\n",
    "axes.plot(data_lockdown['sparcity__classifier.0.weight'], \n",
    "          data_lockdown['train_accu'], label='Train')\n",
    "axes.plot(data_lockdown['sparcity__classifier.0.weight'], \n",
    "          data_lockdown['valid_accu'], label='Valid')\n",
    "axes.plot(data_lockdown['sparcity__classifier.0.weight'], \n",
    "          data_lockdown['test_accu'], label='Test')\n",
    "\n",
    "axes.legend()\n",
    "plt.show()"
   ]
  },
  {
   "cell_type": "code",
   "execution_count": 12,
   "id": "surprised-reward",
   "metadata": {
    "ExecuteTime": {
     "end_time": "2021-06-18T17:30:35.281120Z",
     "start_time": "2021-06-18T17:30:34.389432Z"
    },
    "code_folding": []
   },
   "outputs": [
    {
     "data": {
      "image/png": "[encoded data removed]",
      "text/plain": [
       "<Figure size 648x432 with 1 Axes>"
      ]
     },
     "metadata": {
      "needs_background": "light"
     },
     "output_type": "display_data"
    }
   ],
   "source": [
    "# Acc. v Sparcity (smooth)\n",
    "data_lockdown     = pd.read_csv('data_lockdown_b.csv',        index_col=0)\n",
    "data_lockdown_res = pd.read_csv('data_lockdown_b_resnet.csv', index_col=0)\n",
    "data_lasso        = pd.read_csv('grid_search_lasso_b.csv')\n",
    "data_lassonet     = pd.read_csv('lassonet_data_b.csv')\n",
    "\n",
    "data_tmp     = pd.DataFrame(columns=['sparcity', 'test_accu', 't0_used'])\n",
    "data_tmp_res = pd.DataFrame(columns=['sparcity', 'test_accu', 't0_used'])\n",
    "\n",
    "xgrid, step = np.linspace(0., 1., num=100,endpoint=True, retstep=True)\n",
    "for x in xgrid:\n",
    "    msk = (data_lockdown['sparcity__classifier.0.weight'] >= x) &    \\\n",
    "          (data_lockdown['sparcity__classifier.0.weight'] < x+step)\n",
    "    test_accu  = data_lockdown.loc[msk, 'test_accu'].mean()\n",
    "    t0_used = data_lockdown.loc[msk, 't0_used__classifier.0.weight'].mean()\n",
    "    data_tmp = data_tmp.append({'sparcity': x, \n",
    "                                'test_accu': test_accu, \n",
    "                                't0_used': t0_used}, ignore_index=True)\n",
    "\n",
    "    msk = (data_lockdown_res['sparcity__fc1.weight'] >= x) &    \\\n",
    "          (data_lockdown_res['sparcity__fc1.weight'] < x+step)\n",
    "    test_accu  = data_lockdown_res.loc[msk, 'test_accu'].mean()\n",
    "    t0_used = data_lockdown_res.loc[msk, 't0_used__fc1.weight'].mean()\n",
    "    data_tmp_res = data_tmp_res.append({'sparcity': x, \n",
    "                                'test_accu': test_accu, \n",
    "                                't0_used': t0_used}, ignore_index=True)\n",
    "\n",
    "data_tmp.dropna(axis='index', how='any', inplace=True)\n",
    "data_tmp_res.dropna(axis='index', how='any', inplace=True)\n",
    "\n",
    "# Accuracy vs Sparcity\n",
    "fig, axes = plt.subplots(figsize=(9,6))\n",
    "\n",
    "axes.plot(200*data_lasso['sparcity'], np.sqrt(1.0 - data_lasso['test_accu']), \n",
    "          \"-\", label='Lasso', linewidth=4, markersize=10)\n",
    "axes.plot(data_lassonet['features'], np.sqrt(1.0 -  data_lassonet['accuracy']), \n",
    "          \"-\", label='LassoNet', linewidth=4, markersize=10)\n",
    "axes.plot(200*data_tmp['sparcity'], np.sqrt(1.0 -  data_tmp['test_accu']), \n",
    "          \"-\", label='Lockdown', linewidth=4, markersize=10, color=\"tab:red\")\n",
    "axes.plot(200*data_tmp_res['sparcity'], np.sqrt(1.0 -  data_tmp_res['test_accu']), \n",
    "          \"-\", label='Lockdown-ResNet', linewidth=4, markersize=10, color=\"tab:green\")\n",
    "\n",
    "axes.grid(True, zorder=2)\n",
    "axes.set_xlabel(\"number of selected features\", fontsize=16)\n",
    "axes.set_ylabel(\"Relative Root Mean Squared Error\", fontsize=16)\n",
    "axes.legend(fontsize=16)\n",
    "axes.tick_params(axis='both', which='major', labelsize=14)\n",
    "axes.set_ylim(0.3, 1.0)\n",
    "\n",
    "plt.tight_layout()\n",
    "plt.savefig(\"outputs_b/error_vs_density_b.pdf\", bbox_inches='tight')\n",
    "plt.show()"
   ]
  },
  {
   "cell_type": "code",
   "execution_count": 59,
   "id": "expanded-biography",
   "metadata": {
    "ExecuteTime": {
     "end_time": "2021-06-17T09:34:31.553087Z",
     "start_time": "2021-06-17T09:34:31.100081Z"
    },
    "code_folding": [
     0
    ]
   },
   "outputs": [
    {
     "data": {
      "image/png": "[encoded data removed]",
      "text/plain": [
       "<Figure size 648x432 with 1 Axes>"
      ]
     },
     "metadata": {
      "needs_background": "light"
     },
     "output_type": "display_data"
    }
   ],
   "source": [
    "# Acc. v Sparcity (smooth)\n",
    "data_lockdown = pd.read_csv('data_lockdown_b.csv', index_col=0)\n",
    "data_tmp = pd.DataFrame(columns=['sparcity', 'train_accu', 'valid_accu', 'test_accu', 't0_used'])\n",
    "xgrid, step = np.linspace(0., 1., num=100,endpoint=True, retstep=True)\n",
    "for x in xgrid:\n",
    "    msk = (data_lockdown['sparcity__classifier.0.weight'] >= x) &    \\\n",
    "          (data_lockdown['sparcity__classifier.0.weight'] < x+step)\n",
    "    train_accu = data_lockdown.loc[msk, 'train_accu'].mean()\n",
    "    valid_accu = data_lockdown.loc[msk, 'valid_accu'].mean()\n",
    "    test_accu  = data_lockdown.loc[msk, 'test_accu'].mean()\n",
    "    t0_used = data_lockdown.loc[msk, 't0_used__classifier.0.weight'].mean()\n",
    "    data_tmp = data_tmp.append({'sparcity': x, \n",
    "                                'train_accu': train_accu, \n",
    "                                'valid_accu': valid_accu, \n",
    "                                'test_accu': test_accu, \n",
    "                                't0_used': t0_used}, ignore_index=True)\n",
    "data_tmp.dropna(axis='index', how='any', inplace=True)\n",
    "\n",
    "# Accuracy vs Sparcity\n",
    "data_lasso = pd.read_csv('grid_search_lasso_b.csv')\n",
    "data_lassonet = pd.read_csv('lassonet_data_b.csv')\n",
    "\n",
    "fig, axes = plt.subplots(figsize=(9,6))\n",
    "\n",
    "axes.plot(200*data_tmp['sparcity'], data_tmp['test_accu'], \".-\", label='Lockdown')\n",
    "axes.plot(data_lassonet['features'], data_lassonet['accuracy'], \".-\", label='LassoNet')\n",
    "axes.plot(200*data_lasso['sparcity'], data_lasso['test_accu'], \".-\", label='Lasso')\n",
    "axes.plot(200*data_tmp_res['sparcity'], data_tmp_res['test_accu'], \".-\", label='Lockdown-ResNet')\n",
    "\n",
    "axes.grid(True)\n",
    "axes.set_xlabel(\"density\")\n",
    "axes.set_ylabel(\"test accuracy\")\n",
    "axes.legend()\n",
    "\n",
    "plt.show()"
   ]
  }
 ],
 "metadata": {
  "kernelspec": {
   "display_name": "Python 3",
   "language": "python",
   "name": "python3"
  },
  "language_info": {
   "codemirror_mode": {
    "name": "ipython",
    "version": 3
   },
   "file_extension": ".py",
   "mimetype": "text/x-python",
   "name": "python",
   "nbconvert_exporter": "python",
   "pygments_lexer": "ipython3",
   "version": "3.8.3"
  },
  "toc": {
   "base_numbering": 1,
   "nav_menu": {},
   "number_sections": true,
   "sideBar": true,
   "skip_h1_title": true,
   "title_cell": "Table of Contents",
   "title_sidebar": "Contents",
   "toc_cell": false,
   "toc_position": {
    "height": "calc(100% - 180px)",
    "left": "10px",
    "top": "150px",
    "width": "236px"
   },
   "toc_section_display": true,
   "toc_window_display": true
  }
 },
 "nbformat": 4,
 "nbformat_minor": 5
}
