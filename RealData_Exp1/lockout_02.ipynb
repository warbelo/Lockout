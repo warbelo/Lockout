{
 "cells": [
  {
   "cell_type": "markdown",
   "metadata": {},
   "source": [
    "# Lockdown  for Classification: Response to Radiation Therapy"
   ]
  },
  {
   "cell_type": "markdown",
   "metadata": {},
   "source": [
    "## Import all necessary libraries"
   ]
  },
  {
   "cell_type": "code",
   "execution_count": 1,
   "metadata": {
    "ExecuteTime": {
     "end_time": "2021-06-23T19:45:41.325785Z",
     "start_time": "2021-06-23T19:45:38.824356Z"
    },
    "code_folding": [
     0
    ]
   },
   "outputs": [],
   "source": [
    "# Import libraries and modules\n",
    "import numpy as np\n",
    "import pandas as pd\n",
    "\n",
    "import xgboost as xgb\n",
    "from xgboost import plot_tree\n",
    "\n",
    "from sklearn.metrics import r2_score, classification_report, confusion_matrix,           \\\n",
    "                            roc_curve, roc_auc_score, plot_confusion_matrix, f1_score,   \\\n",
    "                            balanced_accuracy_score, accuracy_score, mean_squared_error, \\\n",
    "                            log_loss\n",
    "from sklearn.datasets import make_friedman1\n",
    "from sklearn.model_selection import train_test_split, GridSearchCV\n",
    "from sklearn.linear_model import LogisticRegression, LinearRegression, SGDClassifier,    \\\n",
    "                                 Lasso, lasso_path\n",
    "from sklearn.preprocessing import StandardScaler, LabelBinarizer\n",
    "from sklearn.impute import SimpleImputer\n",
    "from sklearn.pipeline import Pipeline\n",
    "from sklearn_pandas import DataFrameMapper\n",
    "\n",
    "import scipy\n",
    "from scipy import stats\n",
    "\n",
    "import os\n",
    "import sys\n",
    "import shutil\n",
    "from pathlib import Path\n",
    "\n",
    "import matplotlib as mpl\n",
    "import matplotlib.pyplot as plt\n",
    "import matplotlib.cm as cm\n",
    "\n",
    "import albumentations as A\n",
    "from albumentations.pytorch import ToTensorV2\n",
    "import cv2\n",
    "import itertools\n",
    "\n",
    "import time\n",
    "import tqdm\n",
    "import copy\n",
    "\n",
    "import torch\n",
    "import torchvision\n",
    "import torchvision.transforms as transforms\n",
    "import torch.nn as nn\n",
    "import torch.nn.functional as F\n",
    "import torch.optim as optim\n",
    "import torchvision.models as models\n",
    "from torch.utils.data import Dataset\n",
    "\n",
    "import PIL\n",
    "import joblib\n",
    "import json\n",
    "\n",
    "# import mysgd"
   ]
  },
  {
   "cell_type": "markdown",
   "metadata": {},
   "source": [
    "## Datasets and DataLoaders"
   ]
  },
  {
   "cell_type": "code",
   "execution_count": 2,
   "metadata": {
    "ExecuteTime": {
     "end_time": "2021-04-12T20:12:12.471824Z",
     "start_time": "2021-04-12T20:12:12.464462Z"
    },
    "code_folding": [
     0
    ]
   },
   "outputs": [],
   "source": [
    "# Load data\n",
    "def load_data(fname):\n",
    "    \"\"\"\n",
    "    input (str or path): name of the folder with the data.\n",
    "    This function reads the data, transforms it to tensors, and makes it\n",
    "    global.\n",
    "    \"\"\"\n",
    "    global xtrain, xvalid, xtest, xtrain_valid, ytrain, yvalid, ytest, ytrain_valid\n",
    "# \n",
    "    df = pd.read_csv(os.path.join(fname, 'xtrain.csv'), index_col=False, header=None)\n",
    "    xtrain = torch.tensor(df.values).float()\n",
    "    df = pd.read_csv(os.path.join(fname, 'xvalid.csv'), index_col=False, header=None)\n",
    "    xvalid = torch.tensor(df.values).float()\n",
    "    df = pd.read_csv(os.path.join(fname, 'xtest.csv'), index_col=False, header=None)\n",
    "    xtest = torch.tensor(df.values).float()\n",
    "    df = pd.read_csv(os.path.join(fname, 'xtrain_valid.csv'), index_col=False, header=None)\n",
    "    xtrain_valid = torch.tensor(df.values).float()\n",
    "# \n",
    "    df = pd.read_csv(os.path.join(fname, 'ytrain.csv'), index_col=False, header=None)\n",
    "    ytrain = torch.tensor(df.values).long()\n",
    "    df = pd.read_csv(os.path.join(fname, 'yvalid.csv'), index_col=False, header=None)\n",
    "    yvalid = torch.tensor(df.values).long()\n",
    "    df = pd.read_csv(os.path.join(fname, 'ytest.csv'), index_col=False, header=None)\n",
    "    ytest = torch.tensor(df.values).long()\n",
    "    df = pd.read_csv(os.path.join(fname, 'ytrain_valid.csv'), index_col=False, header=None)\n",
    "    ytrain_valid = torch.tensor(df.values).long()"
   ]
  },
  {
   "cell_type": "code",
   "execution_count": 3,
   "metadata": {
    "ExecuteTime": {
     "end_time": "2021-04-12T20:12:15.674813Z",
     "start_time": "2021-04-12T20:12:15.670964Z"
    },
    "code_folding": [
     0
    ]
   },
   "outputs": [],
   "source": [
    "# Transform DataFrame to Tensor\n",
    "def df_to_tensor():\n",
    "    \"\"\"\n",
    "    This function transforms DataFrames to tensors and makes them global.\n",
    "    \"\"\"\n",
    "    global xtrain, xvalid, xtest, ytrain, yvalid, ytest\n",
    "# \n",
    "    xtrain = torch.tensor(xtrain.values).float()\n",
    "    xvalid = torch.tensor(xvalid.values).float()\n",
    "    xtest = torch.tensor(xtest.values).float()\n",
    "# \n",
    "    ytrain = torch.tensor(ytrain.values).long()\n",
    "    yvalid = torch.tensor(yvalid.values).long()\n",
    "    ytest = torch.tensor(ytest.values).long()"
   ]
  },
  {
   "cell_type": "markdown",
   "metadata": {},
   "source": [
    "* ### Read and Clean Data"
   ]
  },
  {
   "cell_type": "code",
   "execution_count": 3,
   "metadata": {
    "ExecuteTime": {
     "end_time": "2021-06-23T19:47:32.046503Z",
     "start_time": "2021-06-23T19:47:23.158672Z"
    },
    "code_folding": [
     0
    ]
   },
   "outputs": [],
   "source": [
    "# Read X and y\n",
    "X = pd.read_csv('dataset_11Radiotherapy/GDS3017_gene_profile.csv', index_col=0)\n",
    "dfy = pd.read_csv('dataset_11Radiotherapy/GDS3017_output.csv', index_col=0)"
   ]
  },
  {
   "cell_type": "code",
   "execution_count": 4,
   "metadata": {
    "ExecuteTime": {
     "end_time": "2021-06-23T19:47:38.536409Z",
     "start_time": "2021-06-23T19:47:32.889356Z"
    },
    "code_folding": [
     0
    ],
    "scrolled": true
   },
   "outputs": [],
   "source": [
    "# Impute with mean\n",
    "X.dropna(axis=1, how='all', inplace=True)\n",
    "X.fillna(X.mean(), inplace=True)\n",
    "cols_all = X.columns\n",
    "\n",
    "# Set target\n",
    "dfy.replace({'agent': {\"radiotherapy\": 1, \"chemoradiotherapy\": 0}}, inplace=True)\n",
    "y = pd.DataFrame(dfy['agent'])"
   ]
  },
  {
   "cell_type": "code",
   "execution_count": 6,
   "metadata": {
    "ExecuteTime": {
     "end_time": "2021-04-12T20:12:41.868395Z",
     "start_time": "2021-04-12T20:12:41.738464Z"
    },
    "code_folding": [
     0
    ]
   },
   "outputs": [
    {
     "name": "stdout",
     "output_type": "stream",
     "text": [
      "- Number of features: 54352\n",
      "\n",
      "- Dataset shape: (156, 54352)\n",
      "\n",
      "- Missing (X) values: 0 points.\n",
      "- Missing (y) values: 0 points.\n",
      "\n",
      "- Class probabilities:\n",
      "  label = 1: 51.282051282051285%\n",
      "  label = 0: 48.717948717948715%\n",
      "\n"
     ]
    }
   ],
   "source": [
    "# Display data set info\n",
    "n_features = X.shape[1]\n",
    "print(\"- Number of features: {}\\n\".format(n_features))\n",
    "\n",
    "print(\"- Dataset shape: {}\\n\".format(X.shape))\n",
    "\n",
    "print(\"- Missing (X) values: {} points.\".format(X.isna().sum().sum()))\n",
    "print(\"- Missing (y) values: {} points.\\n\".format(y.isna().sum().sum()))\n",
    "\n",
    "print(\"- Class probabilities:\")\n",
    "print(\"  label = 1: {}%\".format(100*(y.iloc[:,0] == 1).sum()/len(y)))\n",
    "print(\"  label = 0: {}%\\n\".format(100*(y.iloc[:,0] == 0).sum()/len(y)))"
   ]
  },
  {
   "cell_type": "markdown",
   "metadata": {},
   "source": [
    "* ### Split and Save"
   ]
  },
  {
   "cell_type": "code",
   "execution_count": 7,
   "metadata": {
    "ExecuteTime": {
     "end_time": "2021-04-12T20:12:41.878242Z",
     "start_time": "2021-04-12T20:12:41.870873Z"
    },
    "code_folding": [
     0
    ]
   },
   "outputs": [],
   "source": [
    "# # Random seeds for the splits\n",
    "# seed1 = torch.randint(0, 1000, (500,))\n",
    "# seed2 = torch.randint(1001, 2000, (500,))\n",
    "seed1 = pd.read_csv('seed1.csv', header=None).iloc[:,0].tolist()\n",
    "seed2 = pd.read_csv('seed2.csv', header=None).iloc[:,0].tolist()"
   ]
  },
  {
   "cell_type": "code",
   "execution_count": 8,
   "metadata": {
    "ExecuteTime": {
     "end_time": "2021-04-12T20:12:41.883430Z",
     "start_time": "2021-04-12T20:12:41.880151Z"
    },
    "code_folding": [
     0
    ]
   },
   "outputs": [],
   "source": [
    "# Split data (function)\n",
    "def split_data(dfX, dfy, seed1=0, seed2=42):\n",
    "    global xtrain, xvalid, xtest, xtrain_valid, ytrain, yvalid, ytest, ytrain_valid\n",
    "    xtrain_valid, xtest, ytrain_valid, ytest = train_test_split(dfX, dfy, \n",
    "                                                      test_size=0.2, \n",
    "                                                      random_state=seed1)\n",
    "    xtrain, xvalid, ytrain, yvalid = train_test_split(xtrain_valid, ytrain_valid, \n",
    "                                                      test_size=0.25, \n",
    "                                                      random_state=seed2)"
   ]
  },
  {
   "cell_type": "code",
   "execution_count": 10,
   "metadata": {
    "ExecuteTime": {
     "end_time": "2021-03-02T17:27:01.070099Z",
     "start_time": "2021-03-02T17:26:28.341906Z"
    },
    "code_folding": [
     0
    ]
   },
   "outputs": [
    {
     "name": "stdout",
     "output_type": "stream",
     "text": [
      "- xtrain size: (93, 54352)\n",
      "- xvalid size: (31, 54352)\n",
      "- xtest size: (32, 54352)\n",
      "- xtrain_valid size: (124, 54352)\n",
      "\n"
     ]
    }
   ],
   "source": [
    "# Set (xtrain, ytrain), (xvalid, yvalid), and (xtest, ytest)\n",
    "data_folder = 'dataset_11Radiotherapy'\n",
    "split_data(X, y)\n",
    "\n",
    "# Save data on disk\n",
    "xtrain.to_csv(os.path.join(data_folder, 'xtrain.csv'), index=False, header=False)\n",
    "xvalid.to_csv(os.path.join(data_folder, 'xvalid.csv'), index=False, header=False)\n",
    "xtest.to_csv(os.path.join(data_folder, 'xtest.csv'), index=False, header=False)\n",
    "xtrain_valid.to_csv(os.path.join(data_folder, 'xtrain_valid.csv'), index=False, header=False)\n",
    "X.to_csv(os.path.join(data_folder, 'X.csv'), index=False, header=False)\n",
    "\n",
    "ytrain.to_csv(os.path.join(data_folder, 'ytrain.csv'), index=False, header=False)\n",
    "yvalid.to_csv(os.path.join(data_folder, 'yvalid.csv'), index=False, header=False)\n",
    "ytest.to_csv(os.path.join(data_folder, 'ytest.csv'), index=False, header=False)\n",
    "ytrain_valid.to_csv(os.path.join(data_folder, 'ytrain_valid.csv'), index=False, header=False)\n",
    "y.to_csv(os.path.join(data_folder, 'y.csv'), index=False, header=False)\n",
    "\n",
    "# \n",
    "print(\"- xtrain size: {}\".format(xtrain.shape))\n",
    "print(\"- xvalid size: {}\".format(xvalid.shape))\n",
    "print(\"- xtest size: {}\".format(xtest.shape))\n",
    "print(\"- xtrain_valid size: {}\\n\".format(xtrain_valid.shape))"
   ]
  },
  {
   "cell_type": "markdown",
   "metadata": {},
   "source": [
    "* ### Create Datasets and DataLoaders"
   ]
  },
  {
   "cell_type": "code",
   "execution_count": 11,
   "metadata": {
    "ExecuteTime": {
     "end_time": "2021-03-02T17:27:01.074036Z",
     "start_time": "2021-03-02T17:27:01.071467Z"
    },
    "code_folding": [
     0
    ]
   },
   "outputs": [],
   "source": [
    "# Create Dataset class\n",
    "class MyDataset(Dataset):\n",
    "    '''\n",
    "    Input:\n",
    "        xtensor (torch tensor): data points; dimension [# of points, # of features]\n",
    "        ytensor (torch tensor): y values; dimension [# of points]\n",
    "    Output:\n",
    "        the usual...\n",
    "    '''\n",
    "    def __init__(self, xtensor, ytensor):\n",
    "        self.x = xtensor\n",
    "        self.y = ytensor\n",
    "    \n",
    "    def __len__(self):\n",
    "        return len(self.y)\n",
    "\n",
    "    def __getitem__(self, idx):\n",
    "        return self.x[idx,:], self.y[idx], idx"
   ]
  },
  {
   "cell_type": "code",
   "execution_count": 12,
   "metadata": {
    "ExecuteTime": {
     "end_time": "2021-03-02T17:27:01.081154Z",
     "start_time": "2021-03-02T17:27:01.075641Z"
    },
    "code_folding": [
     0
    ]
   },
   "outputs": [],
   "source": [
    "# Instantiate DataLoaders\n",
    "def make_DataLoaders(batch_size=100000, num_workers = 0):\n",
    "    \"\"\"\n",
    "    This function instantiate and makes global DataLoaders for training, \n",
    "    validation, and testing datasets. \n",
    "    \"\"\"\n",
    "# .create datasets\n",
    "    train_dataset = MyDataset(xtrain, ytrain)\n",
    "    valid_dataset = MyDataset(xvalid, yvalid)\n",
    "    test_dataset = MyDataset(xtest, ytest)\n",
    "    \n",
    "# .make dataloaders global variables\n",
    "    global train_dataloader, valid_dataloader, test_dataloader\n",
    "    train_dataloader = torch.utils.data.DataLoader(train_dataset, \n",
    "                                                   batch_size = batch_size,\n",
    "                                                   shuffle = True, \n",
    "                                                   num_workers=num_workers)\n",
    "    valid_dataloader = torch.utils.data.DataLoader(valid_dataset, \n",
    "                                                   batch_size = batch_size,\n",
    "                                                   shuffle = True, \n",
    "                                                   num_workers=num_workers)\n",
    "    test_dataloader = torch.utils.data.DataLoader(test_dataset, \n",
    "                                                   batch_size = batch_size,\n",
    "                                                   shuffle = False, \n",
    "                                                   num_workers=num_workers)\n",
    "    print('- train minibatches =', len(train_dataloader))\n",
    "    print('- valid minibatches =', len(valid_dataloader))\n",
    "    print('- test minibatches =', len(test_dataloader))"
   ]
  },
  {
   "cell_type": "code",
   "execution_count": 13,
   "metadata": {
    "ExecuteTime": {
     "end_time": "2021-03-02T17:27:01.085496Z",
     "start_time": "2021-03-02T17:27:01.082854Z"
    },
    "code_folding": [
     0
    ],
    "scrolled": true
   },
   "outputs": [
    {
     "name": "stdout",
     "output_type": "stream",
     "text": [
      "-Type of precessor to be used: 'cpu'\n"
     ]
    }
   ],
   "source": [
    "# Select type of processor to be used\n",
    "device = torch.device(\"cuda\" if torch.cuda.is_available() else \"cpu\")\n",
    "\n",
    "if device == torch.device('cuda'):\n",
    "    print(\"-Type of precessor to be used: 'gpu'\")\n",
    "    !nvidia-smi\n",
    "else:\n",
    "    print(\"-Type of precessor to be used: 'cpu'\")\n",
    "    \n",
    "# Choose device\n",
    "# torch.cuda.set_device(6)"
   ]
  },
  {
   "cell_type": "markdown",
   "metadata": {},
   "source": [
    "## Optimizer and Loss Function"
   ]
  },
  {
   "cell_type": "code",
   "execution_count": 14,
   "metadata": {
    "ExecuteTime": {
     "end_time": "2021-03-02T17:27:01.088471Z",
     "start_time": "2021-03-02T17:27:01.086639Z"
    },
    "code_folding": [
     0
    ]
   },
   "outputs": [],
   "source": [
    "# Set up SGD optimizer with a constant learning rate\n",
    "def setup_SGD(model, lr):\n",
    "    \"\"\"\n",
    "    Args:\n",
    "        model (nn.Module class): model previously instantiated\n",
    "        lr (float): learning rate\n",
    "    Returns:\n",
    "        instantiated optimizer\n",
    "    \"\"\"\n",
    "    return optim.SGD(model.parameters(), lr=lr, momentum=0,  weight_decay=0.0)"
   ]
  },
  {
   "cell_type": "code",
   "execution_count": 15,
   "metadata": {
    "ExecuteTime": {
     "end_time": "2021-03-02T17:27:01.094642Z",
     "start_time": "2021-03-02T17:27:01.089870Z"
    },
    "code_folding": [
     0
    ]
   },
   "outputs": [],
   "source": [
    "# Set up Adam optimizer with a constant learning rate\n",
    "def setup_ADAM(model, lr):\n",
    "    \"\"\"\n",
    "    Args:\n",
    "        model (nn.Module class): model previously instantiated\n",
    "        lr (float): learning rate\n",
    "    Returns:\n",
    "        instantiated optimizer\n",
    "    \"\"\"\n",
    "    return optim.Adam(model.parameters(), lr=lr,  weight_decay=0.0)"
   ]
  },
  {
   "cell_type": "code",
   "execution_count": 16,
   "metadata": {
    "ExecuteTime": {
     "end_time": "2021-03-02T17:27:01.105168Z",
     "start_time": "2021-03-02T17:27:01.096545Z"
    },
    "code_folding": [
     0
    ]
   },
   "outputs": [],
   "source": [
    "# Type of Loss Function\n",
    "loss_type = nn.CrossEntropyLoss(reduction='mean')"
   ]
  },
  {
   "cell_type": "markdown",
   "metadata": {},
   "source": [
    "## Train model"
   ]
  },
  {
   "cell_type": "code",
   "execution_count": 17,
   "metadata": {
    "ExecuteTime": {
     "end_time": "2021-03-02T17:27:01.109467Z",
     "start_time": "2021-03-02T17:27:01.107711Z"
    },
    "code_folding": [
     0
    ]
   },
   "outputs": [],
   "source": [
    "# PyTorch sign function\n",
    "def sgn(x):\n",
    "    return torch.sign(x)"
   ]
  },
  {
   "cell_type": "code",
   "execution_count": 18,
   "metadata": {
    "ExecuteTime": {
     "end_time": "2021-03-02T17:27:04.285757Z",
     "start_time": "2021-03-02T17:27:04.283431Z"
    },
    "code_folding": [
     0
    ]
   },
   "outputs": [],
   "source": [
    "# Number of correct predictions in a multi-class classification problem\n",
    "def accuracy_multiclass(output, target):\n",
    "    \"\"\"\n",
    "    Args:\n",
    "        output (torch tensor): 2D tensor of shape (batch_size, n_classes) resulting \n",
    "                               of running the model.\n",
    "        target (torch tensor): 1D tensor with the corresponding class for each image.\n",
    "    Returns:\n",
    "        correct (int): number of correct predictions.\n",
    "    \"\"\"\n",
    "    correct = 0\n",
    "    prob_softmax = nn.Softmax(dim=1)\n",
    "    _, predictions = torch.max(prob_softmax(output), dim=1)\n",
    "    correct = (predictions == target).sum(dim=0)\n",
    "    return correct"
   ]
  },
  {
   "cell_type": "code",
   "execution_count": 19,
   "metadata": {
    "ExecuteTime": {
     "end_time": "2021-03-02T17:27:06.388414Z",
     "start_time": "2021-03-02T17:27:06.385334Z"
    },
    "code_folding": [
     0
    ]
   },
   "outputs": [],
   "source": [
    "# Compute accuracy\n",
    "def dataset_accuracy(data_loader, model, device):\n",
    "    \"\"\"\n",
    "    Args:\n",
    "        data_loader: torch DataLoader.\n",
    "        model:       torch model previously trained.\n",
    "        device: 'gpu' or 'cpu'.\n",
    "    Returns:\n",
    "        Accuracy for the given data set.\n",
    "    \"\"\"\n",
    "# Initialize some local variables\n",
    "    correct_total = 0\n",
    "    n_points = 0\n",
    "    \n",
    "# Put model in evaluation mode\n",
    "    model.eval()\n",
    "\n",
    "# Loop over mini batches (no gradients need to be computed)\n",
    "    with torch.no_grad():\n",
    "        for i, (xx, yy, _) in enumerate(data_loader, start=1):\n",
    "            batch_size = len(yy)\n",
    "            xx = xx.to(device)\n",
    "            yy = yy.to(device)\n",
    "            yy_pred = model(xx)\n",
    "        \n",
    "# .compute accuracy (target size must be [batch_size])\n",
    "            correct = accuracy_multiclass(yy_pred, yy.view(-1))\n",
    "            correct_total += correct\n",
    "        \n",
    "# .number of points used after the ith mini-batch\n",
    "            n_points += batch_size\n",
    "#\n",
    "    return correct_total.item()/n_points"
   ]
  },
  {
   "cell_type": "code",
   "execution_count": 20,
   "metadata": {
    "ExecuteTime": {
     "end_time": "2021-03-02T17:27:08.190319Z",
     "start_time": "2021-03-02T17:27:08.174973Z"
    },
    "code_folding": [
     0,
     16,
     69,
     124,
     143,
     148
    ]
   },
   "outputs": [],
   "source": [
    "# Train model (classification)\n",
    "def train_model(lr, features, layer_sizes, lock_flag=False, epochs=3000, \n",
    "                early_stop=300, fname='model'):\n",
    "    \"\"\"\n",
    "    \"\"\"\n",
    "# Set seed of random generators (for reproducibility purposes)\n",
    "#     torch.manual_seed(42)\n",
    "\n",
    "# Instantiate Model and Optimizer\n",
    "    model = MyNet(features, layer_sizes)\n",
    "    if lock_flag == True:\n",
    "        model.load_state_dict(torch.load(model_forward_name))\n",
    "    model = model.to(device)\n",
    "    optimizer = setup_SGD(model, lr)\n",
    "\n",
    "# LOCKDOWN SECTION 1:\n",
    "    if lock_flag == True:\n",
    "        n_iterations = epochs*len(train_dataloader)\n",
    "        layers = get_lockdown_layers(model)\n",
    "        t0 = []\n",
    "        t0_initial = []\n",
    "        sign_w0 = []\n",
    "        l = 0\n",
    "        for layer in layers:\n",
    "            ww = layer.weight.detach()\n",
    "            t0.append(abs(ww).sum())\n",
    "            sign_w0.append(torch.sign(ww))\n",
    "            t0_initial.append(t0[l])\n",
    "            l += 1\n",
    "    \n",
    "# DataFrames to store train/valid loss function\n",
    "    train_loss = pd.DataFrame(columns=['iteration', 'loss'])\n",
    "    valid_loss = pd.DataFrame(columns=['iteration', 'loss'])\n",
    "\n",
    "# Initialize some local variables...\n",
    "    iteration = 0\n",
    "    best_iter = 0\n",
    "    best_loss = 1e30\n",
    "    stop_flag = 0\n",
    "\n",
    "# Loop Over Number of Epochs\n",
    "    iterator = tqdm.notebook.tqdm(range(1, epochs + 1), desc='Epochs loop')\n",
    "    for n_epoch in iterator:\n",
    "# \n",
    "# .Loop Over Mini-batches\n",
    "        for ibatch, (xx, yy, _) in enumerate(train_dataloader, start=1):\n",
    "#\n",
    "# ..Compute Validation Loss\n",
    "            model_dict = copy.deepcopy(model.state_dict())\n",
    "            epoch_loss = valid_epoch(valid_dataloader, model, loss_type, device)\n",
    "            valid_loss = valid_loss.append({'iteration': iteration + 1, \n",
    "                                            'loss': epoch_loss}, \n",
    "                                            ignore_index=True)\n",
    "# ..Train Mini-batch:\n",
    "            model.train()\n",
    "            xx = xx.to(device)\n",
    "            yy = yy.to(device)\n",
    "            yy_pred = model(xx)\n",
    "\n",
    "# ..Compute Train Loss\n",
    "            loss = loss_type(yy_pred, yy.view(-1))\n",
    "            train_loss = train_loss.append({'iteration': iteration + 1,\n",
    "                                            'loss': loss.item()}, \n",
    "                                           ignore_index=True)\n",
    "# ..Backward Propagation\n",
    "            optimizer.zero_grad()\n",
    "            loss.backward()\n",
    "\n",
    "# ..LOCKDOWN SECTION 2:\n",
    "            if lock_flag == True:\n",
    "                l = 0\n",
    "                for layer in layers:\n",
    "# ...weights and gradients (2D)\n",
    "                    w2d = layer.weight.detach()\n",
    "                    g2d = layer.weight.grad.detach()\n",
    "                    w_shape = g2d.size()\n",
    "\n",
    "# ...flattens weights and compute P(W)\n",
    "                    w1d = torch.flatten(w2d)\n",
    "                    Pw = abs(w1d).sum()\n",
    "\n",
    "# ...find g=-grads, 'gamma', and sort gamma (in descending order)\n",
    "                    p1d = 1.0\n",
    "                    g1d = -torch.flatten(g2d)\n",
    "                    gamma = abs(g1d)/(p1d + 1e-10)\n",
    "                    _, indx1d = torch.sort(gamma, descending=True)\n",
    "\n",
    "# ...Modify Gradients Accordingly:\n",
    "                    grmin = torch.zeros(w_shape).fill_(1e-1).to(device)\n",
    "                    layer.weight.grad = torch.sign(g2d)*torch.max(abs(g2d), grmin)\n",
    "                    gr1d = torch.flatten(layer.weight.grad.detach())\n",
    "                    pjsj = lr*abs(gr1d[indx1d])\n",
    "\n",
    "# ...sign(g) != sign(w) elements\n",
    "                    mask_ds = (sgn(g1d[indx1d]) != sgn(w1d[indx1d])) & (w1d[indx1d] != 0.0)\n",
    "                    DS_sum = pjsj[mask_ds].sum()\n",
    "                    pjsj[mask_ds] = 0.0\n",
    "                    mask_dsc = ~mask_ds\n",
    "                    indx1d_dsc = indx1d[mask_dsc]\n",
    "\n",
    "# ...sum(pjsj), j={1,J-1}\n",
    "                    left_side = torch.cumsum(pjsj, dim=0) - pjsj\n",
    "                    pjsj_dsc = torch.zeros(len(g1d)).to(device)\n",
    "                    pjsj_dsc[:] = pjsj[:]\n",
    "\n",
    "# ...sum(pjsj) + Penalty, j={J+1,nJ}\n",
    "                    mask_w0 = (w1d[indx1d] == 0.0)\n",
    "                    pjsj_dsc[mask_w0] = 0.0\n",
    "                    right_side = pjsj_dsc.sum() - torch.cumsum(pjsj_dsc, dim=0) + DS_sum - Pw + t0[l]\n",
    "\n",
    "# ...delta_j and new steps\n",
    "                    ds = right_side - left_side\n",
    "                    mask_w0 = (~mask_w0).float()\n",
    "                    pjsj_new = -mask_w0**(1-sgn(ds))*sgn(g1d[indx1d])*sgn(ds)*torch.min(pjsj, abs(ds))\n",
    "\n",
    "# ...modify gradients\n",
    "                    indx2d = np.unravel_index(indx1d_dsc.cpu(), shape=w_shape)\n",
    "                    layer.weight.grad[indx2d] = pjsj_new[mask_dsc]/lr\n",
    "                    l = l + 1\n",
    "\n",
    "# ..Update Weights \n",
    "            optimizer.step()\n",
    "\n",
    "# ..LOCKDOWN SECTION 3:\n",
    "            if lock_flag == True:\n",
    "# ...Set Weights That Change Signs to Zero\n",
    "                l = 0\n",
    "                for layer in layers:\n",
    "                    ww = layer.weight.detach()\n",
    "                    sign_w = sgn(ww)\n",
    "                    mask0 = ((sign_w != sign_w0[l]) & (sign_w0[l] != 0.0))\n",
    "                    with torch.no_grad():\n",
    "                        layer.weight[mask0] = 0.0\n",
    "                    sign_w0[l] = sign_w\n",
    "                    \n",
    "# ...Tighten Constraint\n",
    "                    if iteration%step == 0:\n",
    "                        t0[l] = (1.0 - iteration/n_iterations)*t0_initial[l]\n",
    "                    l = l + 1\n",
    "                    \n",
    "\n",
    "# ..Early Stop\n",
    "            batch_loss = valid_loss.iloc[iteration, 1]\n",
    "            if batch_loss < best_loss:\n",
    "                torch.save(model_dict, fname+\"_best.pth\")\n",
    "                best_loss = batch_loss\n",
    "                best_iter = iteration\n",
    "            else:\n",
    "                if iteration - best_iter >= early_stop:\n",
    "                    stop_flag = 1\n",
    "                    break\n",
    "# \n",
    "            iteration += 1\n",
    "# \n",
    "        if stop_flag == 1:\n",
    "            break\n",
    "# \n",
    "    if lock_flag == False:\n",
    "        torch.save(model_dict, fname+\"_last.pth\")\n",
    "    print(\"Summary:\")\n",
    "    print(\"-learning rate = {:.5f}\".format(lr))\n",
    "    if stop_flag == 1:\n",
    "        print('-path 1 has early stopped:')\n",
    "        print(' {:d} iterations with no improvement in train loss.'.format(early_stop))\n",
    "    print(\"-Model saved after iteration {:d}.\".format(best_iter + 1))\n",
    "    print(\"-Train.  Loss={:.7f}\".format(train_loss.iloc[best_iter, 1]))\n",
    "    print(\"-Valid.  Loss={:.7f}\".format(valid_loss.iloc[best_iter, 1]))\n",
    "# \n",
    "    return train_loss, valid_loss"
   ]
  },
  {
   "cell_type": "code",
   "execution_count": 21,
   "metadata": {
    "ExecuteTime": {
     "end_time": "2021-03-02T17:27:10.023958Z",
     "start_time": "2021-03-02T17:27:10.020924Z"
    },
    "code_folding": [
     0
    ]
   },
   "outputs": [],
   "source": [
    "# Evaluate one epoch (classification)\n",
    "def valid_epoch(data_loader, model, loss_type, device):\n",
    "    \"\"\"\n",
    "    Args:\n",
    "        data_loader: torch DataLoader.\n",
    "        model:       torch model previously trained.\n",
    "        device: 'gpu' or 'cpu'.\n",
    "    Returns:\n",
    "        Values of Loss Function after one epoch.\n",
    "    \"\"\"\n",
    "# Initialize some local variables\n",
    "    loss_fun = 0.\n",
    "    n_points = 0\n",
    "    \n",
    "# Put model in evaluation mode\n",
    "    model.eval()\n",
    "\n",
    "# Loop over mini batches (no gradients need to be computed)\n",
    "    with torch.no_grad():\n",
    "        for i, (xx, yy, _) in enumerate(data_loader, start=1):\n",
    "            xx = xx.to(device)\n",
    "            yy = yy.to(device)\n",
    "            yy_pred = model(xx)\n",
    "        \n",
    "# .compute loss function\n",
    "            batch_size = len(yy)\n",
    "            loss = loss_type(yy_pred, yy.view(-1))\n",
    "            loss_fun += batch_size*loss.item()\n",
    "        \n",
    "# .number of points used after the ith mini-batch\n",
    "            n_points += batch_size\n",
    "#\n",
    "    return loss_fun/n_points"
   ]
  },
  {
   "cell_type": "markdown",
   "metadata": {},
   "source": [
    "## Results:"
   ]
  },
  {
   "cell_type": "markdown",
   "metadata": {
    "ExecuteTime": {
     "end_time": "2021-01-11T21:44:23.113884Z",
     "start_time": "2021-01-11T21:44:23.111235Z"
    }
   },
   "source": [
    "* ### Lasso"
   ]
  },
  {
   "cell_type": "code",
   "execution_count": 9,
   "metadata": {
    "ExecuteTime": {
     "end_time": "2021-04-12T20:13:14.381932Z",
     "start_time": "2021-04-12T20:12:46.572759Z"
    },
    "code_folding": [
     0
    ]
   },
   "outputs": [],
   "source": [
    "# Load data\n",
    "load_data('dataset_11Radiotherapy')\n",
    "\n",
    "# transform tensors to NumPy arrays\n",
    "xtrain = xtrain.numpy()\n",
    "xvalid = xvalid.numpy()\n",
    "xtest = xtest.numpy()\n",
    "\n",
    "ytrain = ytrain.numpy()\n",
    "yvalid = yvalid.numpy()\n",
    "ytest = ytest.numpy()"
   ]
  },
  {
   "cell_type": "code",
   "execution_count": 10,
   "metadata": {
    "ExecuteTime": {
     "end_time": "2021-04-12T20:13:14.497593Z",
     "start_time": "2021-04-12T20:13:14.384169Z"
    },
    "code_folding": [
     0
    ]
   },
   "outputs": [],
   "source": [
    "# Normalize data sets\n",
    "scaler = StandardScaler()\n",
    "scaler.fit(xtrain)\n",
    "xtrain = scaler.transform(xtrain)\n",
    "xvalid = scaler.transform(xvalid)\n",
    "xtest  = scaler.transform(xtest)"
   ]
  },
  {
   "cell_type": "code",
   "execution_count": 11,
   "metadata": {
    "ExecuteTime": {
     "end_time": "2021-04-12T20:13:14.505192Z",
     "start_time": "2021-04-12T20:13:14.500326Z"
    },
    "code_folding": [
     0
    ]
   },
   "outputs": [],
   "source": [
    "# Grid search space\n",
    "grid_C = np.geomspace(1e-2, 1e3, num=1000)\n",
    "df_grid_loss = pd.DataFrame(columns = ['C', 'valid_loss', 'valid_accu'], \n",
    "                            index=range(len(grid_C)))\n",
    "\n",
    "params = {'penalty': 'l1', \n",
    "          'solver': 'liblinear',\n",
    "          'max_iter': 10000,\n",
    "          'random_state': 42,\n",
    "          'warm_start': True}"
   ]
  },
  {
   "cell_type": "code",
   "execution_count": 12,
   "metadata": {
    "ExecuteTime": {
     "end_time": "2021-04-12T20:19:21.427541Z",
     "start_time": "2021-04-12T20:13:24.754109Z"
    },
    "code_folding": [
     0
    ],
    "scrolled": true
   },
   "outputs": [
    {
     "data": {
      "application/vnd.jupyter.widget-view+json": {
       "model_id": "6f776fe27a7549f292979179d60a0e5c",
       "version_major": 2,
       "version_minor": 0
      },
      "text/plain": [
       "C-grid loop:   0%|          | 0/1000 [00:00<?, ?it/s]"
      ]
     },
     "metadata": {},
     "output_type": "display_data"
    },
    {
     "name": "stdout",
     "output_type": "stream",
     "text": [
      "C=0.01000 | valid_logloss=0.69315,  valid_accu=0.48387\n",
      "C=0.01012 | valid_logloss=0.69315,  valid_accu=0.48387\n",
      "C=0.01023 | valid_logloss=0.69315,  valid_accu=0.48387\n",
      "C=0.01035 | valid_logloss=0.69315,  valid_accu=0.48387\n",
      "C=0.01047 | valid_logloss=0.69315,  valid_accu=0.48387\n",
      "C=0.01059 | valid_logloss=0.69315,  valid_accu=0.48387\n",
      "C=0.01072 | valid_logloss=0.69315,  valid_accu=0.48387\n",
      "C=0.01084 | valid_logloss=0.69315,  valid_accu=0.48387\n",
      "C=0.01097 | valid_logloss=0.69315,  valid_accu=0.48387\n",
      "C=0.01109 | valid_logloss=0.69315,  valid_accu=0.48387\n",
      "C=0.01122 | valid_logloss=0.69315,  valid_accu=0.48387\n",
      "C=0.01135 | valid_logloss=0.69315,  valid_accu=0.48387\n",
      "C=0.01148 | valid_logloss=0.69315,  valid_accu=0.48387\n",
      "C=0.01162 | valid_logloss=0.69315,  valid_accu=0.48387\n",
      "C=0.01175 | valid_logloss=0.69315,  valid_accu=0.48387\n",
      "C=0.01189 | valid_logloss=0.69315,  valid_accu=0.48387\n",
      "C=0.01202 | valid_logloss=0.69315,  valid_accu=0.48387\n",
      "C=0.01216 | valid_logloss=0.69315,  valid_accu=0.48387\n",
      "C=0.01231 | valid_logloss=0.69315,  valid_accu=0.48387\n",
      "C=0.01245 | valid_logloss=0.69315,  valid_accu=0.48387\n",
      "C=0.01259 | valid_logloss=0.69315,  valid_accu=0.48387\n",
      "C=0.01274 | valid_logloss=0.69315,  valid_accu=0.48387\n",
      "C=0.01289 | valid_logloss=0.69315,  valid_accu=0.48387\n",
      "C=0.01304 | valid_logloss=0.69315,  valid_accu=0.48387\n",
      "C=0.01319 | valid_logloss=0.69315,  valid_accu=0.48387\n",
      "C=0.01334 | valid_logloss=0.69315,  valid_accu=0.48387\n",
      "C=0.01349 | valid_logloss=0.69315,  valid_accu=0.48387\n",
      "C=0.01365 | valid_logloss=0.69315,  valid_accu=0.48387\n",
      "C=0.01381 | valid_logloss=0.69315,  valid_accu=0.48387\n",
      "C=0.01397 | valid_logloss=0.69315,  valid_accu=0.48387\n",
      "C=0.01413 | valid_logloss=0.69315,  valid_accu=0.48387\n",
      "C=0.01429 | valid_logloss=0.69315,  valid_accu=0.48387\n",
      "C=0.01446 | valid_logloss=0.69315,  valid_accu=0.48387\n",
      "C=0.01463 | valid_logloss=0.69315,  valid_accu=0.48387\n",
      "C=0.01480 | valid_logloss=0.69315,  valid_accu=0.48387\n",
      "C=0.01497 | valid_logloss=0.69315,  valid_accu=0.48387\n",
      "C=0.01514 | valid_logloss=0.69315,  valid_accu=0.48387\n",
      "C=0.01532 | valid_logloss=0.69315,  valid_accu=0.48387\n",
      "C=0.01549 | valid_logloss=0.69315,  valid_accu=0.48387\n",
      "C=0.01567 | valid_logloss=0.69315,  valid_accu=0.48387\n",
      "C=0.01586 | valid_logloss=0.69315,  valid_accu=0.48387\n",
      "C=0.01604 | valid_logloss=0.69315,  valid_accu=0.48387\n",
      "C=0.01623 | valid_logloss=0.69315,  valid_accu=0.48387\n",
      "C=0.01641 | valid_logloss=0.69315,  valid_accu=0.48387\n",
      "C=0.01660 | valid_logloss=0.69315,  valid_accu=0.48387\n",
      "C=0.01680 | valid_logloss=0.69315,  valid_accu=0.48387\n",
      "C=0.01699 | valid_logloss=0.69315,  valid_accu=0.48387\n",
      "C=0.01719 | valid_logloss=0.69315,  valid_accu=0.48387\n",
      "C=0.01739 | valid_logloss=0.69315,  valid_accu=0.48387\n",
      "C=0.01759 | valid_logloss=0.69315,  valid_accu=0.48387\n",
      "C=0.01779 | valid_logloss=0.69315,  valid_accu=0.48387\n",
      "C=0.01800 | valid_logloss=0.69315,  valid_accu=0.48387\n",
      "C=0.01821 | valid_logloss=0.69315,  valid_accu=0.48387\n",
      "C=0.01842 | valid_logloss=0.69315,  valid_accu=0.48387\n",
      "C=0.01863 | valid_logloss=0.69315,  valid_accu=0.48387\n",
      "C=0.01885 | valid_logloss=0.69315,  valid_accu=0.48387\n",
      "C=0.01907 | valid_logloss=0.69315,  valid_accu=0.48387\n",
      "C=0.01929 | valid_logloss=0.69315,  valid_accu=0.48387\n",
      "C=0.01951 | valid_logloss=0.69315,  valid_accu=0.48387\n",
      "C=0.01974 | valid_logloss=0.69315,  valid_accu=0.48387\n",
      "C=0.01997 | valid_logloss=0.69315,  valid_accu=0.48387\n",
      "C=0.02020 | valid_logloss=0.69315,  valid_accu=0.48387\n",
      "C=0.02043 | valid_logloss=0.69315,  valid_accu=0.48387\n",
      "C=0.02067 | valid_logloss=0.69315,  valid_accu=0.48387\n",
      "C=0.02091 | valid_logloss=0.69315,  valid_accu=0.48387\n",
      "C=0.02115 | valid_logloss=0.69315,  valid_accu=0.48387\n",
      "C=0.02140 | valid_logloss=0.69315,  valid_accu=0.48387\n",
      "C=0.02164 | valid_logloss=0.69315,  valid_accu=0.48387\n",
      "C=0.02189 | valid_logloss=0.69315,  valid_accu=0.48387\n",
      "C=0.02215 | valid_logloss=0.69315,  valid_accu=0.48387\n",
      "C=0.02241 | valid_logloss=0.69315,  valid_accu=0.48387\n",
      "C=0.02266 | valid_logloss=0.69315,  valid_accu=0.48387\n",
      "C=0.02293 | valid_logloss=0.69315,  valid_accu=0.48387\n",
      "C=0.02319 | valid_logloss=0.69315,  valid_accu=0.48387\n",
      "C=0.02346 | valid_logloss=0.69315,  valid_accu=0.48387\n",
      "C=0.02373 | valid_logloss=0.69315,  valid_accu=0.48387\n",
      "C=0.02401 | valid_logloss=0.69315,  valid_accu=0.48387\n",
      "C=0.02429 | valid_logloss=0.69315,  valid_accu=0.48387\n",
      "C=0.02457 | valid_logloss=0.69315,  valid_accu=0.48387\n",
      "C=0.02485 | valid_logloss=0.69315,  valid_accu=0.48387\n",
      "C=0.02514 | valid_logloss=0.69315,  valid_accu=0.48387\n",
      "C=0.02543 | valid_logloss=0.69315,  valid_accu=0.48387\n",
      "C=0.02573 | valid_logloss=0.69315,  valid_accu=0.48387\n",
      "C=0.02603 | valid_logloss=0.69315,  valid_accu=0.48387\n",
      "C=0.02633 | valid_logloss=0.69315,  valid_accu=0.48387\n",
      "C=0.02663 | valid_logloss=0.69315,  valid_accu=0.48387\n",
      "C=0.02694 | valid_logloss=0.69315,  valid_accu=0.48387\n",
      "C=0.02725 | valid_logloss=0.69315,  valid_accu=0.48387\n",
      "C=0.02757 | valid_logloss=0.69315,  valid_accu=0.48387\n",
      "C=0.02789 | valid_logloss=0.69315,  valid_accu=0.48387\n",
      "C=0.02821 | valid_logloss=0.69315,  valid_accu=0.48387\n",
      "C=0.02854 | valid_logloss=0.69315,  valid_accu=0.48387\n",
      "C=0.02887 | valid_logloss=0.69315,  valid_accu=0.48387\n",
      "C=0.02921 | valid_logloss=0.69315,  valid_accu=0.48387\n",
      "C=0.02954 | valid_logloss=0.69315,  valid_accu=0.48387\n",
      "C=0.02989 | valid_logloss=0.69315,  valid_accu=0.48387\n",
      "C=0.03023 | valid_logloss=0.69315,  valid_accu=0.48387\n",
      "C=0.03058 | valid_logloss=0.69315,  valid_accu=0.48387\n",
      "C=0.03094 | valid_logloss=0.69315,  valid_accu=0.48387\n",
      "C=0.03130 | valid_logloss=0.69315,  valid_accu=0.48387\n",
      "C=0.03166 | valid_logloss=0.69315,  valid_accu=0.48387\n",
      "C=0.03203 | valid_logloss=0.69315,  valid_accu=0.48387\n",
      "C=0.03240 | valid_logloss=0.69315,  valid_accu=0.48387\n",
      "C=0.03277 | valid_logloss=0.69315,  valid_accu=0.48387\n",
      "C=0.03315 | valid_logloss=0.69315,  valid_accu=0.48387\n",
      "C=0.03354 | valid_logloss=0.69315,  valid_accu=0.48387\n",
      "C=0.03393 | valid_logloss=0.69315,  valid_accu=0.48387\n",
      "C=0.03432 | valid_logloss=0.69315,  valid_accu=0.48387\n",
      "C=0.03472 | valid_logloss=0.69315,  valid_accu=0.48387\n",
      "C=0.03512 | valid_logloss=0.69315,  valid_accu=0.48387\n",
      "C=0.03553 | valid_logloss=0.69315,  valid_accu=0.48387\n",
      "C=0.03594 | valid_logloss=0.69315,  valid_accu=0.48387\n",
      "C=0.03635 | valid_logloss=0.69259,  valid_accu=0.61290\n",
      "C=0.03678 | valid_logloss=0.69073,  valid_accu=0.61290\n",
      "C=0.03720 | valid_logloss=0.68894,  valid_accu=0.61290\n",
      "C=0.03763 | valid_logloss=0.68721,  valid_accu=0.61290\n",
      "C=0.03807 | valid_logloss=0.68553,  valid_accu=0.61290\n",
      "C=0.03851 | valid_logloss=0.68391,  valid_accu=0.61290\n",
      "C=0.03896 | valid_logloss=0.68235,  valid_accu=0.61290\n",
      "C=0.03941 | valid_logloss=0.68083,  valid_accu=0.61290\n",
      "C=0.03987 | valid_logloss=0.67937,  valid_accu=0.61290\n",
      "C=0.04033 | valid_logloss=0.67795,  valid_accu=0.61290\n",
      "C=0.04080 | valid_logloss=0.67659,  valid_accu=0.61290\n",
      "C=0.04127 | valid_logloss=0.67527,  valid_accu=0.61290\n",
      "C=0.04175 | valid_logloss=0.67328,  valid_accu=0.61290\n",
      "C=0.04223 | valid_logloss=0.67108,  valid_accu=0.64516\n",
      "C=0.04272 | valid_logloss=0.66896,  valid_accu=0.64516\n",
      "C=0.04322 | valid_logloss=0.66692,  valid_accu=0.67742\n",
      "C=0.04372 | valid_logloss=0.66495,  valid_accu=0.67742\n",
      "C=0.04422 | valid_logloss=0.66296,  valid_accu=0.70968\n",
      "C=0.04474 | valid_logloss=0.66075,  valid_accu=0.67742\n",
      "C=0.04525 | valid_logloss=0.65862,  valid_accu=0.70968\n",
      "C=0.04578 | valid_logloss=0.65620,  valid_accu=0.70968\n",
      "C=0.04631 | valid_logloss=0.65383,  valid_accu=0.70968\n",
      "C=0.04685 | valid_logloss=0.65153,  valid_accu=0.70968\n",
      "C=0.04739 | valid_logloss=0.64931,  valid_accu=0.70968\n",
      "C=0.04794 | valid_logloss=0.64716,  valid_accu=0.70968\n",
      "C=0.04849 | valid_logloss=0.64509,  valid_accu=0.70968\n",
      "C=0.04906 | valid_logloss=0.64310,  valid_accu=0.70968\n",
      "C=0.04962 | valid_logloss=0.64117,  valid_accu=0.74194\n",
      "C=0.05020 | valid_logloss=0.63931,  valid_accu=0.74194\n",
      "C=0.05078 | valid_logloss=0.63742,  valid_accu=0.74194\n",
      "C=0.05137 | valid_logloss=0.63543,  valid_accu=0.74194\n",
      "C=0.05197 | valid_logloss=0.63349,  valid_accu=0.74194\n",
      "C=0.05257 | valid_logloss=0.63150,  valid_accu=0.74194\n",
      "C=0.05318 | valid_logloss=0.62973,  valid_accu=0.74194\n",
      "C=0.05379 | valid_logloss=0.62799,  valid_accu=0.74194\n",
      "C=0.05442 | valid_logloss=0.62596,  valid_accu=0.74194\n",
      "C=0.05505 | valid_logloss=0.62390,  valid_accu=0.74194\n"
     ]
    },
    {
     "name": "stdout",
     "output_type": "stream",
     "text": [
      "C=0.05569 | valid_logloss=0.62199,  valid_accu=0.74194\n",
      "C=0.05633 | valid_logloss=0.62003,  valid_accu=0.74194\n",
      "C=0.05698 | valid_logloss=0.61826,  valid_accu=0.74194\n",
      "C=0.05764 | valid_logloss=0.61596,  valid_accu=0.74194\n",
      "C=0.05831 | valid_logloss=0.61297,  valid_accu=0.74194\n",
      "C=0.05899 | valid_logloss=0.60959,  valid_accu=0.77419\n",
      "C=0.05967 | valid_logloss=0.60662,  valid_accu=0.77419\n",
      "C=0.06036 | valid_logloss=0.60355,  valid_accu=0.77419\n",
      "C=0.06106 | valid_logloss=0.60060,  valid_accu=0.77419\n",
      "C=0.06177 | valid_logloss=0.59746,  valid_accu=0.77419\n",
      "C=0.06249 | valid_logloss=0.59461,  valid_accu=0.80645\n",
      "C=0.06321 | valid_logloss=0.59158,  valid_accu=0.80645\n",
      "C=0.06394 | valid_logloss=0.58839,  valid_accu=0.80645\n",
      "C=0.06469 | valid_logloss=0.58555,  valid_accu=0.80645\n",
      "C=0.06544 | valid_logloss=0.58275,  valid_accu=0.80645\n",
      "C=0.06619 | valid_logloss=0.58043,  valid_accu=0.80645\n",
      "C=0.06696 | valid_logloss=0.57687,  valid_accu=0.80645\n",
      "C=0.06774 | valid_logloss=0.57403,  valid_accu=0.80645\n",
      "C=0.06852 | valid_logloss=0.57104,  valid_accu=0.80645\n",
      "C=0.06932 | valid_logloss=0.56789,  valid_accu=0.80645\n",
      "C=0.07012 | valid_logloss=0.56521,  valid_accu=0.80645\n",
      "C=0.07093 | valid_logloss=0.56256,  valid_accu=0.80645\n",
      "C=0.07176 | valid_logloss=0.56026,  valid_accu=0.83871\n",
      "C=0.07259 | valid_logloss=0.55818,  valid_accu=0.83871\n",
      "C=0.07343 | valid_logloss=0.55556,  valid_accu=0.83871\n",
      "C=0.07428 | valid_logloss=0.55268,  valid_accu=0.83871\n",
      "C=0.07514 | valid_logloss=0.54991,  valid_accu=0.83871\n",
      "C=0.07601 | valid_logloss=0.54679,  valid_accu=0.83871\n",
      "C=0.07689 | valid_logloss=0.54321,  valid_accu=0.83871\n",
      "C=0.07778 | valid_logloss=0.54054,  valid_accu=0.83871\n",
      "C=0.07869 | valid_logloss=0.53700,  valid_accu=0.83871\n",
      "C=0.07960 | valid_logloss=0.53489,  valid_accu=0.83871\n",
      "C=0.08052 | valid_logloss=0.53204,  valid_accu=0.83871\n",
      "C=0.08145 | valid_logloss=0.52943,  valid_accu=0.83871\n",
      "C=0.08240 | valid_logloss=0.52733,  valid_accu=0.83871\n",
      "C=0.08335 | valid_logloss=0.52354,  valid_accu=0.83871\n",
      "C=0.08432 | valid_logloss=0.52232,  valid_accu=0.83871\n",
      "C=0.08530 | valid_logloss=0.51899,  valid_accu=0.83871\n",
      "C=0.08629 | valid_logloss=0.51623,  valid_accu=0.87097\n",
      "C=0.08729 | valid_logloss=0.51167,  valid_accu=0.87097\n",
      "C=0.08830 | valid_logloss=0.50980,  valid_accu=0.87097\n",
      "C=0.08932 | valid_logloss=0.50708,  valid_accu=0.87097\n",
      "C=0.09036 | valid_logloss=0.50545,  valid_accu=0.87097\n",
      "C=0.09140 | valid_logloss=0.50155,  valid_accu=0.87097\n",
      "C=0.09246 | valid_logloss=0.49830,  valid_accu=0.87097\n",
      "C=0.09353 | valid_logloss=0.49667,  valid_accu=0.87097\n",
      "C=0.09462 | valid_logloss=0.49454,  valid_accu=0.87097\n",
      "C=0.09572 | valid_logloss=0.49197,  valid_accu=0.87097\n",
      "C=0.09682 | valid_logloss=0.48929,  valid_accu=0.87097\n",
      "C=0.09795 | valid_logloss=0.48734,  valid_accu=0.87097\n",
      "C=0.09908 | valid_logloss=0.48464,  valid_accu=0.87097\n",
      "C=0.10023 | valid_logloss=0.48184,  valid_accu=0.87097\n",
      "C=0.10139 | valid_logloss=0.48252,  valid_accu=0.87097\n",
      "C=0.10257 | valid_logloss=0.47925,  valid_accu=0.90323\n",
      "C=0.10376 | valid_logloss=0.47837,  valid_accu=0.90323\n",
      "C=0.10496 | valid_logloss=0.47523,  valid_accu=0.93548\n",
      "C=0.10618 | valid_logloss=0.47568,  valid_accu=0.93548\n",
      "C=0.10741 | valid_logloss=0.47117,  valid_accu=0.93548\n",
      "C=0.10865 | valid_logloss=0.47110,  valid_accu=0.93548\n",
      "C=0.10991 | valid_logloss=0.46914,  valid_accu=0.93548\n",
      "C=0.11118 | valid_logloss=0.46959,  valid_accu=0.93548\n",
      "C=0.11247 | valid_logloss=0.46563,  valid_accu=0.93548\n",
      "C=0.11378 | valid_logloss=0.46406,  valid_accu=0.93548\n",
      "C=0.11510 | valid_logloss=0.46307,  valid_accu=0.93548\n",
      "C=0.11643 | valid_logloss=0.46280,  valid_accu=0.93548\n",
      "C=0.11778 | valid_logloss=0.46067,  valid_accu=0.93548\n",
      "C=0.11915 | valid_logloss=0.46079,  valid_accu=0.93548\n",
      "C=0.12053 | valid_logloss=0.45955,  valid_accu=0.93548\n",
      "C=0.12192 | valid_logloss=0.46037,  valid_accu=0.93548\n",
      "C=0.12334 | valid_logloss=0.45533,  valid_accu=0.93548\n",
      "C=0.12477 | valid_logloss=0.45616,  valid_accu=0.93548\n",
      "C=0.12621 | valid_logloss=0.45561,  valid_accu=0.93548\n",
      "C=0.12768 | valid_logloss=0.45506,  valid_accu=0.93548\n",
      "C=0.12915 | valid_logloss=0.45261,  valid_accu=0.93548\n",
      "C=0.13065 | valid_logloss=0.45277,  valid_accu=0.93548\n",
      "C=0.13217 | valid_logloss=0.45115,  valid_accu=0.93548\n",
      "C=0.13370 | valid_logloss=0.44996,  valid_accu=0.93548\n",
      "C=0.13525 | valid_logloss=0.45119,  valid_accu=0.93548\n",
      "C=0.13682 | valid_logloss=0.44856,  valid_accu=0.93548\n",
      "C=0.13840 | valid_logloss=0.44688,  valid_accu=0.93548\n",
      "C=0.14001 | valid_logloss=0.44743,  valid_accu=0.93548\n",
      "C=0.14163 | valid_logloss=0.44723,  valid_accu=0.93548\n",
      "C=0.14327 | valid_logloss=0.44897,  valid_accu=0.93548\n",
      "C=0.14493 | valid_logloss=0.44589,  valid_accu=0.93548\n",
      "C=0.14661 | valid_logloss=0.44752,  valid_accu=0.93548\n",
      "C=0.14831 | valid_logloss=0.44404,  valid_accu=0.93548\n",
      "C=0.15003 | valid_logloss=0.44421,  valid_accu=0.93548\n",
      "C=0.15177 | valid_logloss=0.44222,  valid_accu=0.93548\n",
      "C=0.15353 | valid_logloss=0.44982,  valid_accu=0.93548\n",
      "C=0.15531 | valid_logloss=0.44595,  valid_accu=0.93548\n",
      "C=0.15711 | valid_logloss=0.44238,  valid_accu=0.93548\n",
      "C=0.15893 | valid_logloss=0.44532,  valid_accu=0.93548\n",
      "C=0.16077 | valid_logloss=0.43977,  valid_accu=0.93548\n",
      "C=0.16263 | valid_logloss=0.44503,  valid_accu=0.93548\n",
      "C=0.16452 | valid_logloss=0.44295,  valid_accu=0.93548\n",
      "C=0.16643 | valid_logloss=0.43841,  valid_accu=0.93548\n",
      "C=0.16836 | valid_logloss=0.44370,  valid_accu=0.93548\n",
      "C=0.17031 | valid_logloss=0.44541,  valid_accu=0.93548\n",
      "C=0.17228 | valid_logloss=0.43735,  valid_accu=0.93548\n",
      "C=0.17428 | valid_logloss=0.44546,  valid_accu=0.93548\n",
      "C=0.17630 | valid_logloss=0.43908,  valid_accu=0.93548\n",
      "C=0.17834 | valid_logloss=0.43906,  valid_accu=0.93548\n",
      "C=0.18041 | valid_logloss=0.44708,  valid_accu=0.93548\n",
      "C=0.18250 | valid_logloss=0.44084,  valid_accu=0.93548\n",
      "C=0.18461 | valid_logloss=0.43732,  valid_accu=0.93548\n",
      "C=0.18675 | valid_logloss=0.44636,  valid_accu=0.93548\n",
      "C=0.18892 | valid_logloss=0.43574,  valid_accu=0.93548\n",
      "C=0.19111 | valid_logloss=0.43891,  valid_accu=0.93548\n",
      "C=0.19332 | valid_logloss=0.44278,  valid_accu=0.93548\n",
      "C=0.19557 | valid_logloss=0.43502,  valid_accu=0.93548\n",
      "C=0.19783 | valid_logloss=0.43233,  valid_accu=0.93548\n",
      "C=0.20012 | valid_logloss=0.43394,  valid_accu=0.93548\n",
      "C=0.20244 | valid_logloss=0.43829,  valid_accu=0.93548\n",
      "C=0.20479 | valid_logloss=0.43702,  valid_accu=0.93548\n",
      "C=0.20716 | valid_logloss=0.44289,  valid_accu=0.93548\n",
      "C=0.20957 | valid_logloss=0.44278,  valid_accu=0.93548\n",
      "C=0.21200 | valid_logloss=0.44536,  valid_accu=0.93548\n",
      "C=0.21445 | valid_logloss=0.43236,  valid_accu=0.93548\n",
      "C=0.21694 | valid_logloss=0.43729,  valid_accu=0.93548\n",
      "C=0.21945 | valid_logloss=0.43111,  valid_accu=0.93548\n",
      "C=0.22200 | valid_logloss=0.42714,  valid_accu=0.93548\n",
      "C=0.22457 | valid_logloss=0.45051,  valid_accu=0.93548\n",
      "C=0.22717 | valid_logloss=0.44157,  valid_accu=0.93548\n",
      "C=0.22981 | valid_logloss=0.44611,  valid_accu=0.93548\n",
      "C=0.23247 | valid_logloss=0.44204,  valid_accu=0.93548\n",
      "C=0.23516 | valid_logloss=0.44535,  valid_accu=0.93548\n",
      "C=0.23789 | valid_logloss=0.43309,  valid_accu=0.93548\n",
      "C=0.24065 | valid_logloss=0.44126,  valid_accu=0.93548\n",
      "C=0.24344 | valid_logloss=0.43686,  valid_accu=0.93548\n",
      "C=0.24626 | valid_logloss=0.43369,  valid_accu=0.93548\n",
      "C=0.24911 | valid_logloss=0.44222,  valid_accu=0.93548\n",
      "C=0.25200 | valid_logloss=0.44940,  valid_accu=0.93548\n",
      "C=0.25492 | valid_logloss=0.44464,  valid_accu=0.93548\n",
      "C=0.25788 | valid_logloss=0.42720,  valid_accu=0.93548\n",
      "C=0.26087 | valid_logloss=0.44887,  valid_accu=0.93548\n",
      "C=0.26389 | valid_logloss=0.44100,  valid_accu=0.93548\n",
      "C=0.26695 | valid_logloss=0.45280,  valid_accu=0.93548\n",
      "C=0.27004 | valid_logloss=0.44326,  valid_accu=0.93548\n",
      "C=0.27317 | valid_logloss=0.44934,  valid_accu=0.93548\n",
      "C=0.27634 | valid_logloss=0.44867,  valid_accu=0.93548\n",
      "C=0.27954 | valid_logloss=0.43077,  valid_accu=0.93548\n",
      "C=0.28278 | valid_logloss=0.44588,  valid_accu=0.93548\n",
      "C=0.28606 | valid_logloss=0.45623,  valid_accu=0.93548\n",
      "C=0.28938 | valid_logloss=0.45221,  valid_accu=0.93548\n",
      "C=0.29273 | valid_logloss=0.44903,  valid_accu=0.93548\n",
      "C=0.29612 | valid_logloss=0.43178,  valid_accu=0.93548\n",
      "C=0.29955 | valid_logloss=0.45497,  valid_accu=0.93548\n",
      "C=0.30303 | valid_logloss=0.45693,  valid_accu=0.93548\n",
      "C=0.30654 | valid_logloss=0.44860,  valid_accu=0.93548\n"
     ]
    },
    {
     "name": "stdout",
     "output_type": "stream",
     "text": [
      "C=0.31009 | valid_logloss=0.43549,  valid_accu=0.93548\n",
      "C=0.31369 | valid_logloss=0.44409,  valid_accu=0.93548\n",
      "C=0.31732 | valid_logloss=0.43599,  valid_accu=0.93548\n",
      "C=0.32100 | valid_logloss=0.46120,  valid_accu=0.93548\n",
      "C=0.32472 | valid_logloss=0.46350,  valid_accu=0.93548\n",
      "C=0.32849 | valid_logloss=0.44526,  valid_accu=0.93548\n",
      "C=0.33229 | valid_logloss=0.45265,  valid_accu=0.93548\n",
      "C=0.33614 | valid_logloss=0.44719,  valid_accu=0.93548\n",
      "C=0.34004 | valid_logloss=0.46096,  valid_accu=0.93548\n",
      "C=0.34398 | valid_logloss=0.44691,  valid_accu=0.93548\n",
      "C=0.34797 | valid_logloss=0.44282,  valid_accu=0.93548\n",
      "C=0.35200 | valid_logloss=0.45083,  valid_accu=0.93548\n",
      "C=0.35608 | valid_logloss=0.45484,  valid_accu=0.93548\n",
      "C=0.36021 | valid_logloss=0.47579,  valid_accu=0.93548\n",
      "C=0.36439 | valid_logloss=0.47467,  valid_accu=0.93548\n",
      "C=0.36861 | valid_logloss=0.42590,  valid_accu=0.93548\n",
      "C=0.37288 | valid_logloss=0.43884,  valid_accu=0.93548\n",
      "C=0.37720 | valid_logloss=0.46285,  valid_accu=0.93548\n",
      "C=0.38158 | valid_logloss=0.46852,  valid_accu=0.93548\n",
      "C=0.38600 | valid_logloss=0.45968,  valid_accu=0.93548\n",
      "C=0.39047 | valid_logloss=0.44846,  valid_accu=0.93548\n",
      "C=0.39500 | valid_logloss=0.46023,  valid_accu=0.93548\n",
      "C=0.39958 | valid_logloss=0.46457,  valid_accu=0.93548\n",
      "C=0.40421 | valid_logloss=0.44889,  valid_accu=0.93548\n",
      "C=0.40889 | valid_logloss=0.45348,  valid_accu=0.93548\n",
      "C=0.41363 | valid_logloss=0.46113,  valid_accu=0.93548\n",
      "C=0.41843 | valid_logloss=0.44880,  valid_accu=0.93548\n",
      "C=0.42328 | valid_logloss=0.44985,  valid_accu=0.93548\n",
      "C=0.42819 | valid_logloss=0.46118,  valid_accu=0.93548\n",
      "C=0.43315 | valid_logloss=0.46377,  valid_accu=0.93548\n",
      "C=0.43817 | valid_logloss=0.47141,  valid_accu=0.93548\n",
      "C=0.44325 | valid_logloss=0.47104,  valid_accu=0.93548\n",
      "C=0.44839 | valid_logloss=0.46195,  valid_accu=0.93548\n",
      "C=0.45358 | valid_logloss=0.48189,  valid_accu=0.93548\n",
      "C=0.45884 | valid_logloss=0.47092,  valid_accu=0.93548\n",
      "C=0.46416 | valid_logloss=0.44948,  valid_accu=0.93548\n",
      "C=0.46954 | valid_logloss=0.45933,  valid_accu=0.93548\n",
      "C=0.47498 | valid_logloss=0.44942,  valid_accu=0.93548\n",
      "C=0.48049 | valid_logloss=0.44600,  valid_accu=0.93548\n",
      "C=0.48606 | valid_logloss=0.46633,  valid_accu=0.93548\n",
      "C=0.49169 | valid_logloss=0.46422,  valid_accu=0.93548\n",
      "C=0.49739 | valid_logloss=0.42879,  valid_accu=0.93548\n",
      "C=0.50315 | valid_logloss=0.47169,  valid_accu=0.93548\n",
      "C=0.50899 | valid_logloss=0.47532,  valid_accu=0.93548\n",
      "C=0.51489 | valid_logloss=0.45583,  valid_accu=0.93548\n",
      "C=0.52085 | valid_logloss=0.47478,  valid_accu=0.93548\n",
      "C=0.52689 | valid_logloss=0.45897,  valid_accu=0.93548\n",
      "C=0.53300 | valid_logloss=0.48279,  valid_accu=0.93548\n",
      "C=0.53918 | valid_logloss=0.45148,  valid_accu=0.93548\n",
      "C=0.54543 | valid_logloss=0.45632,  valid_accu=0.93548\n",
      "C=0.55175 | valid_logloss=0.47968,  valid_accu=0.93548\n",
      "C=0.55814 | valid_logloss=0.48484,  valid_accu=0.93548\n",
      "C=0.56461 | valid_logloss=0.50126,  valid_accu=0.93548\n",
      "C=0.57116 | valid_logloss=0.47559,  valid_accu=0.93548\n",
      "C=0.57778 | valid_logloss=0.45844,  valid_accu=0.93548\n",
      "C=0.58448 | valid_logloss=0.48379,  valid_accu=0.93548\n",
      "C=0.59125 | valid_logloss=0.46511,  valid_accu=0.93548\n",
      "C=0.59810 | valid_logloss=0.47756,  valid_accu=0.93548\n",
      "C=0.60504 | valid_logloss=0.48617,  valid_accu=0.93548\n",
      "C=0.61205 | valid_logloss=0.47735,  valid_accu=0.93548\n",
      "C=0.61914 | valid_logloss=0.46418,  valid_accu=0.93548\n",
      "C=0.62632 | valid_logloss=0.46098,  valid_accu=0.93548\n",
      "C=0.63358 | valid_logloss=0.51438,  valid_accu=0.93548\n",
      "C=0.64092 | valid_logloss=0.48279,  valid_accu=0.93548\n",
      "C=0.64835 | valid_logloss=0.45589,  valid_accu=0.93548\n",
      "C=0.65587 | valid_logloss=0.45959,  valid_accu=0.93548\n",
      "C=0.66347 | valid_logloss=0.44032,  valid_accu=0.93548\n",
      "C=0.67116 | valid_logloss=0.46168,  valid_accu=0.93548\n",
      "C=0.67894 | valid_logloss=0.47091,  valid_accu=0.93548\n",
      "C=0.68681 | valid_logloss=0.48168,  valid_accu=0.93548\n",
      "C=0.69477 | valid_logloss=0.48299,  valid_accu=0.93548\n",
      "C=0.70282 | valid_logloss=0.51537,  valid_accu=0.93548\n",
      "C=0.71097 | valid_logloss=0.48755,  valid_accu=0.93548\n",
      "C=0.71921 | valid_logloss=0.48595,  valid_accu=0.93548\n",
      "C=0.72755 | valid_logloss=0.51029,  valid_accu=0.93548\n",
      "C=0.73598 | valid_logloss=0.48782,  valid_accu=0.93548\n",
      "C=0.74451 | valid_logloss=0.47218,  valid_accu=0.93548\n",
      "C=0.75314 | valid_logloss=0.46962,  valid_accu=0.93548\n",
      "C=0.76187 | valid_logloss=0.48554,  valid_accu=0.93548\n",
      "C=0.77070 | valid_logloss=0.51342,  valid_accu=0.93548\n",
      "C=0.77964 | valid_logloss=0.48210,  valid_accu=0.93548\n",
      "C=0.78867 | valid_logloss=0.50095,  valid_accu=0.93548\n",
      "C=0.79781 | valid_logloss=0.51126,  valid_accu=0.93548\n",
      "C=0.80706 | valid_logloss=0.45540,  valid_accu=0.93548\n",
      "C=0.81642 | valid_logloss=0.50040,  valid_accu=0.93548\n",
      "C=0.82588 | valid_logloss=0.48441,  valid_accu=0.93548\n",
      "C=0.83545 | valid_logloss=0.47998,  valid_accu=0.93548\n",
      "C=0.84514 | valid_logloss=0.50839,  valid_accu=0.93548\n",
      "C=0.85493 | valid_logloss=0.48577,  valid_accu=0.93548\n",
      "C=0.86484 | valid_logloss=0.48701,  valid_accu=0.93548\n",
      "C=0.87487 | valid_logloss=0.48505,  valid_accu=0.93548\n",
      "C=0.88501 | valid_logloss=0.52372,  valid_accu=0.93548\n",
      "C=0.89527 | valid_logloss=0.46612,  valid_accu=0.93548\n",
      "C=0.90564 | valid_logloss=0.50551,  valid_accu=0.93548\n",
      "C=0.91614 | valid_logloss=0.48621,  valid_accu=0.93548\n",
      "C=0.92676 | valid_logloss=0.48958,  valid_accu=0.93548\n",
      "C=0.93750 | valid_logloss=0.50964,  valid_accu=0.93548\n",
      "C=0.94837 | valid_logloss=0.48722,  valid_accu=0.93548\n",
      "C=0.95936 | valid_logloss=0.50870,  valid_accu=0.93548\n",
      "C=0.97048 | valid_logloss=0.48519,  valid_accu=0.93548\n",
      "C=0.98173 | valid_logloss=0.49599,  valid_accu=0.93548\n",
      "C=0.99311 | valid_logloss=0.47415,  valid_accu=0.93548\n",
      "C=1.00462 | valid_logloss=0.44782,  valid_accu=0.93548\n",
      "C=1.01627 | valid_logloss=0.46115,  valid_accu=0.93548\n",
      "C=1.02804 | valid_logloss=0.53378,  valid_accu=0.93548\n",
      "C=1.03996 | valid_logloss=0.41432,  valid_accu=0.93548\n",
      "C=1.05202 | valid_logloss=0.51622,  valid_accu=0.93548\n",
      "C=1.06421 | valid_logloss=0.47259,  valid_accu=0.93548\n",
      "C=1.07654 | valid_logloss=0.50343,  valid_accu=0.93548\n",
      "C=1.08902 | valid_logloss=0.51162,  valid_accu=0.93548\n",
      "C=1.10165 | valid_logloss=0.49539,  valid_accu=0.93548\n",
      "C=1.11442 | valid_logloss=0.52671,  valid_accu=0.93548\n",
      "C=1.12733 | valid_logloss=0.52039,  valid_accu=0.93548\n",
      "C=1.14040 | valid_logloss=0.56806,  valid_accu=0.93548\n",
      "C=1.15362 | valid_logloss=0.53128,  valid_accu=0.93548\n",
      "C=1.16699 | valid_logloss=0.48605,  valid_accu=0.93548\n",
      "C=1.18052 | valid_logloss=0.46801,  valid_accu=0.93548\n",
      "C=1.19420 | valid_logloss=0.46602,  valid_accu=0.93548\n",
      "C=1.20804 | valid_logloss=0.52556,  valid_accu=0.93548\n",
      "C=1.22204 | valid_logloss=0.49303,  valid_accu=0.93548\n",
      "C=1.23621 | valid_logloss=0.49199,  valid_accu=0.93548\n",
      "C=1.25054 | valid_logloss=0.45861,  valid_accu=0.93548\n",
      "C=1.26503 | valid_logloss=0.53023,  valid_accu=0.93548\n",
      "C=1.27970 | valid_logloss=0.49184,  valid_accu=0.93548\n",
      "C=1.29453 | valid_logloss=0.55167,  valid_accu=0.93548\n",
      "C=1.30954 | valid_logloss=0.50193,  valid_accu=0.93548\n",
      "C=1.32471 | valid_logloss=0.51532,  valid_accu=0.93548\n",
      "C=1.34007 | valid_logloss=0.51146,  valid_accu=0.93548\n",
      "C=1.35560 | valid_logloss=0.54187,  valid_accu=0.93548\n",
      "C=1.37131 | valid_logloss=0.49541,  valid_accu=0.93548\n",
      "C=1.38721 | valid_logloss=0.48721,  valid_accu=0.93548\n",
      "C=1.40329 | valid_logloss=0.52216,  valid_accu=0.93548\n",
      "C=1.41955 | valid_logloss=0.48718,  valid_accu=0.93548\n",
      "C=1.43601 | valid_logloss=0.51857,  valid_accu=0.93548\n",
      "C=1.45265 | valid_logloss=0.48908,  valid_accu=0.93548\n",
      "C=1.46949 | valid_logloss=0.51273,  valid_accu=0.93548\n",
      "C=1.48652 | valid_logloss=0.51899,  valid_accu=0.93548\n",
      "C=1.50376 | valid_logloss=0.49834,  valid_accu=0.93548\n",
      "C=1.52119 | valid_logloss=0.54286,  valid_accu=0.93548\n",
      "C=1.53882 | valid_logloss=0.54182,  valid_accu=0.93548\n",
      "C=1.55665 | valid_logloss=0.54947,  valid_accu=0.93548\n",
      "C=1.57470 | valid_logloss=0.52111,  valid_accu=0.93548\n",
      "C=1.59295 | valid_logloss=0.50885,  valid_accu=0.93548\n",
      "C=1.61141 | valid_logloss=0.52881,  valid_accu=0.93548\n",
      "C=1.63009 | valid_logloss=0.56755,  valid_accu=0.93548\n",
      "C=1.64899 | valid_logloss=0.55634,  valid_accu=0.93548\n",
      "C=1.66810 | valid_logloss=0.55795,  valid_accu=0.93548\n",
      "C=1.68744 | valid_logloss=0.53773,  valid_accu=0.93548\n",
      "C=1.70699 | valid_logloss=0.53649,  valid_accu=0.93548\n"
     ]
    },
    {
     "name": "stdout",
     "output_type": "stream",
     "text": [
      "C=1.72678 | valid_logloss=0.55302,  valid_accu=0.93548\n",
      "C=1.74680 | valid_logloss=0.53647,  valid_accu=0.93548\n",
      "C=1.76704 | valid_logloss=0.56185,  valid_accu=0.93548\n",
      "C=1.78753 | valid_logloss=0.54312,  valid_accu=0.93548\n",
      "C=1.80824 | valid_logloss=0.50285,  valid_accu=0.93548\n",
      "C=1.82920 | valid_logloss=0.48820,  valid_accu=0.93548\n",
      "C=1.85041 | valid_logloss=0.51559,  valid_accu=0.93548\n",
      "C=1.87186 | valid_logloss=0.59650,  valid_accu=0.93548\n",
      "C=1.89355 | valid_logloss=0.54371,  valid_accu=0.93548\n",
      "C=1.91550 | valid_logloss=0.51818,  valid_accu=0.93548\n",
      "C=1.93770 | valid_logloss=0.55265,  valid_accu=0.93548\n",
      "C=1.96016 | valid_logloss=0.52377,  valid_accu=0.93548\n",
      "C=1.98288 | valid_logloss=0.47131,  valid_accu=0.93548\n",
      "C=2.00587 | valid_logloss=0.49163,  valid_accu=0.93548\n",
      "C=2.02912 | valid_logloss=0.58714,  valid_accu=0.93548\n",
      "C=2.05264 | valid_logloss=0.55416,  valid_accu=0.93548\n",
      "C=2.07643 | valid_logloss=0.49022,  valid_accu=0.93548\n",
      "C=2.10050 | valid_logloss=0.45108,  valid_accu=0.93548\n",
      "C=2.12485 | valid_logloss=0.53895,  valid_accu=0.93548\n",
      "C=2.14947 | valid_logloss=0.53916,  valid_accu=0.93548\n",
      "C=2.17439 | valid_logloss=0.51877,  valid_accu=0.93548\n",
      "C=2.19959 | valid_logloss=0.46682,  valid_accu=0.93548\n",
      "C=2.22509 | valid_logloss=0.51082,  valid_accu=0.93548\n",
      "C=2.25088 | valid_logloss=0.58196,  valid_accu=0.93548\n",
      "C=2.27697 | valid_logloss=0.52431,  valid_accu=0.93548\n",
      "C=2.30336 | valid_logloss=0.57049,  valid_accu=0.93548\n",
      "C=2.33006 | valid_logloss=0.56411,  valid_accu=0.93548\n",
      "C=2.35707 | valid_logloss=0.52375,  valid_accu=0.93548\n",
      "C=2.38439 | valid_logloss=0.53846,  valid_accu=0.93548\n",
      "C=2.41203 | valid_logloss=0.60897,  valid_accu=0.93548\n",
      "C=2.43999 | valid_logloss=0.52318,  valid_accu=0.93548\n",
      "C=2.46827 | valid_logloss=0.59302,  valid_accu=0.93548\n",
      "C=2.49688 | valid_logloss=0.56055,  valid_accu=0.93548\n",
      "C=2.52582 | valid_logloss=0.58494,  valid_accu=0.93548\n",
      "C=2.55510 | valid_logloss=0.55450,  valid_accu=0.93548\n",
      "C=2.58471 | valid_logloss=0.51626,  valid_accu=0.93548\n",
      "C=2.61467 | valid_logloss=0.54651,  valid_accu=0.93548\n",
      "C=2.64498 | valid_logloss=0.55811,  valid_accu=0.93548\n",
      "C=2.67564 | valid_logloss=0.55400,  valid_accu=0.93548\n",
      "C=2.70665 | valid_logloss=0.55922,  valid_accu=0.93548\n",
      "C=2.73803 | valid_logloss=0.58070,  valid_accu=0.93548\n",
      "C=2.76976 | valid_logloss=0.56003,  valid_accu=0.93548\n",
      "C=2.80187 | valid_logloss=0.49804,  valid_accu=0.93548\n",
      "C=2.83434 | valid_logloss=0.55551,  valid_accu=0.93548\n",
      "C=2.86720 | valid_logloss=0.58409,  valid_accu=0.93548\n",
      "C=2.90043 | valid_logloss=0.58883,  valid_accu=0.93548\n",
      "C=2.93405 | valid_logloss=0.55399,  valid_accu=0.93548\n",
      "C=2.96806 | valid_logloss=0.52960,  valid_accu=0.93548\n",
      "C=3.00246 | valid_logloss=0.51325,  valid_accu=0.93548\n",
      "C=3.03726 | valid_logloss=0.53521,  valid_accu=0.93548\n",
      "C=3.07247 | valid_logloss=0.50765,  valid_accu=0.93548\n",
      "C=3.10808 | valid_logloss=0.56575,  valid_accu=0.93548\n",
      "C=3.14411 | valid_logloss=0.51665,  valid_accu=0.93548\n",
      "C=3.18055 | valid_logloss=0.56600,  valid_accu=0.93548\n",
      "C=3.21742 | valid_logloss=0.57379,  valid_accu=0.93548\n",
      "C=3.25471 | valid_logloss=0.52919,  valid_accu=0.93548\n",
      "C=3.29244 | valid_logloss=0.57590,  valid_accu=0.93548\n",
      "C=3.33060 | valid_logloss=0.50348,  valid_accu=0.93548\n",
      "C=3.36921 | valid_logloss=0.57336,  valid_accu=0.93548\n",
      "C=3.40826 | valid_logloss=0.56573,  valid_accu=0.93548\n",
      "C=3.44776 | valid_logloss=0.58996,  valid_accu=0.93548\n",
      "C=3.48773 | valid_logloss=0.53026,  valid_accu=0.93548\n",
      "C=3.52815 | valid_logloss=0.55547,  valid_accu=0.93548\n",
      "C=3.56905 | valid_logloss=0.55495,  valid_accu=0.93548\n",
      "C=3.61042 | valid_logloss=0.58096,  valid_accu=0.93548\n",
      "C=3.65227 | valid_logloss=0.53936,  valid_accu=0.93548\n",
      "C=3.69460 | valid_logloss=0.62484,  valid_accu=0.93548\n",
      "C=3.73743 | valid_logloss=0.54066,  valid_accu=0.93548\n",
      "C=3.78075 | valid_logloss=0.60163,  valid_accu=0.93548\n",
      "C=3.82457 | valid_logloss=0.58574,  valid_accu=0.93548\n",
      "C=3.86890 | valid_logloss=0.53136,  valid_accu=0.93548\n",
      "C=3.91375 | valid_logloss=0.53430,  valid_accu=0.93548\n",
      "C=3.95911 | valid_logloss=0.51218,  valid_accu=0.93548\n",
      "C=4.00500 | valid_logloss=0.57223,  valid_accu=0.93548\n",
      "C=4.05142 | valid_logloss=0.59643,  valid_accu=0.93548\n",
      "C=4.09838 | valid_logloss=0.56110,  valid_accu=0.93548\n",
      "C=4.14589 | valid_logloss=0.60244,  valid_accu=0.93548\n",
      "C=4.19394 | valid_logloss=0.52343,  valid_accu=0.93548\n",
      "C=4.24256 | valid_logloss=0.58946,  valid_accu=0.93548\n",
      "C=4.29173 | valid_logloss=0.61335,  valid_accu=0.93548\n",
      "C=4.34148 | valid_logloss=0.54459,  valid_accu=0.93548\n",
      "C=4.39180 | valid_logloss=0.60793,  valid_accu=0.93548\n",
      "C=4.44271 | valid_logloss=0.57222,  valid_accu=0.93548\n",
      "C=4.49420 | valid_logloss=0.53118,  valid_accu=0.93548\n",
      "C=4.54630 | valid_logloss=0.57091,  valid_accu=0.93548\n",
      "C=4.59899 | valid_logloss=0.56461,  valid_accu=0.93548\n",
      "C=4.65230 | valid_logloss=0.60125,  valid_accu=0.93548\n",
      "C=4.70622 | valid_logloss=0.60871,  valid_accu=0.93548\n",
      "C=4.76078 | valid_logloss=0.63681,  valid_accu=0.93548\n",
      "C=4.81596 | valid_logloss=0.57902,  valid_accu=0.93548\n",
      "C=4.87178 | valid_logloss=0.65888,  valid_accu=0.93548\n",
      "C=4.92825 | valid_logloss=0.57496,  valid_accu=0.93548\n",
      "C=4.98537 | valid_logloss=0.54814,  valid_accu=0.93548\n",
      "C=5.04316 | valid_logloss=0.61347,  valid_accu=0.93548\n",
      "C=5.10162 | valid_logloss=0.55740,  valid_accu=0.93548\n",
      "C=5.16075 | valid_logloss=0.54380,  valid_accu=0.93548\n",
      "C=5.22057 | valid_logloss=0.55812,  valid_accu=0.93548\n",
      "C=5.28108 | valid_logloss=0.56345,  valid_accu=0.93548\n",
      "C=5.34229 | valid_logloss=0.56296,  valid_accu=0.93548\n",
      "C=5.40422 | valid_logloss=0.57092,  valid_accu=0.93548\n",
      "C=5.46686 | valid_logloss=0.63884,  valid_accu=0.93548\n",
      "C=5.53022 | valid_logloss=0.64984,  valid_accu=0.93548\n",
      "C=5.59433 | valid_logloss=0.57144,  valid_accu=0.93548\n",
      "C=5.65917 | valid_logloss=0.54908,  valid_accu=0.93548\n",
      "C=5.72477 | valid_logloss=0.60190,  valid_accu=0.93548\n",
      "C=5.79112 | valid_logloss=0.56807,  valid_accu=0.93548\n",
      "C=5.85825 | valid_logloss=0.57966,  valid_accu=0.93548\n",
      "C=5.92615 | valid_logloss=0.51537,  valid_accu=0.93548\n",
      "C=5.99484 | valid_logloss=0.62098,  valid_accu=0.93548\n",
      "C=6.06433 | valid_logloss=0.56800,  valid_accu=0.93548\n",
      "C=6.13462 | valid_logloss=0.58940,  valid_accu=0.93548\n",
      "C=6.20573 | valid_logloss=0.61208,  valid_accu=0.93548\n",
      "C=6.27766 | valid_logloss=0.62495,  valid_accu=0.93548\n",
      "C=6.35043 | valid_logloss=0.60482,  valid_accu=0.93548\n",
      "C=6.42403 | valid_logloss=0.58896,  valid_accu=0.93548\n",
      "C=6.49850 | valid_logloss=0.61929,  valid_accu=0.93548\n",
      "C=6.57382 | valid_logloss=0.52565,  valid_accu=0.93548\n",
      "C=6.65002 | valid_logloss=0.56459,  valid_accu=0.93548\n",
      "C=6.72710 | valid_logloss=0.58396,  valid_accu=0.93548\n",
      "C=6.80507 | valid_logloss=0.59260,  valid_accu=0.93548\n",
      "C=6.88395 | valid_logloss=0.60168,  valid_accu=0.93548\n",
      "C=6.96374 | valid_logloss=0.62679,  valid_accu=0.93548\n",
      "C=7.04446 | valid_logloss=0.58297,  valid_accu=0.93548\n",
      "C=7.12612 | valid_logloss=0.60859,  valid_accu=0.93548\n",
      "C=7.20872 | valid_logloss=0.60625,  valid_accu=0.93548\n",
      "C=7.29227 | valid_logloss=0.61147,  valid_accu=0.93548\n",
      "C=7.37680 | valid_logloss=0.54096,  valid_accu=0.93548\n",
      "C=7.46230 | valid_logloss=0.67943,  valid_accu=0.93548\n",
      "C=7.54880 | valid_logloss=0.52211,  valid_accu=0.93548\n",
      "C=7.63630 | valid_logloss=0.59861,  valid_accu=0.93548\n",
      "C=7.72481 | valid_logloss=0.59249,  valid_accu=0.93548\n",
      "C=7.81435 | valid_logloss=0.60973,  valid_accu=0.93548\n",
      "C=7.90493 | valid_logloss=0.51168,  valid_accu=0.93548\n",
      "C=7.99655 | valid_logloss=0.60158,  valid_accu=0.93548\n",
      "C=8.08924 | valid_logloss=0.59674,  valid_accu=0.93548\n",
      "C=8.18301 | valid_logloss=0.57709,  valid_accu=0.93548\n",
      "C=8.27786 | valid_logloss=0.63720,  valid_accu=0.93548\n",
      "C=8.37381 | valid_logloss=0.62295,  valid_accu=0.93548\n",
      "C=8.47087 | valid_logloss=0.59226,  valid_accu=0.93548\n",
      "C=8.56906 | valid_logloss=0.54099,  valid_accu=0.93548\n",
      "C=8.66838 | valid_logloss=0.62166,  valid_accu=0.93548\n",
      "C=8.76886 | valid_logloss=0.63278,  valid_accu=0.93548\n",
      "C=8.87050 | valid_logloss=0.59075,  valid_accu=0.93548\n",
      "C=8.97332 | valid_logloss=0.62878,  valid_accu=0.93548\n",
      "C=9.07733 | valid_logloss=0.61300,  valid_accu=0.93548\n",
      "C=9.18254 | valid_logloss=0.53130,  valid_accu=0.93548\n",
      "C=9.28898 | valid_logloss=0.53607,  valid_accu=0.93548\n",
      "C=9.39665 | valid_logloss=0.62629,  valid_accu=0.93548\n",
      "C=9.50557 | valid_logloss=0.65258,  valid_accu=0.93548\n"
     ]
    },
    {
     "name": "stdout",
     "output_type": "stream",
     "text": [
      "C=9.61575 | valid_logloss=0.53990,  valid_accu=0.93548\n",
      "C=9.72720 | valid_logloss=0.56056,  valid_accu=0.93548\n",
      "C=9.83995 | valid_logloss=0.61005,  valid_accu=0.93548\n",
      "C=9.95401 | valid_logloss=0.58663,  valid_accu=0.93548\n",
      "C=10.06939 | valid_logloss=0.59982,  valid_accu=0.93548\n",
      "C=10.18610 | valid_logloss=0.60183,  valid_accu=0.93548\n",
      "C=10.30417 | valid_logloss=0.62003,  valid_accu=0.93548\n",
      "C=10.42361 | valid_logloss=0.61329,  valid_accu=0.93548\n",
      "C=10.54443 | valid_logloss=0.62487,  valid_accu=0.93548\n",
      "C=10.66665 | valid_logloss=0.59312,  valid_accu=0.93548\n",
      "C=10.79029 | valid_logloss=0.58610,  valid_accu=0.93548\n",
      "C=10.91536 | valid_logloss=0.55546,  valid_accu=0.93548\n",
      "C=11.04188 | valid_logloss=0.64048,  valid_accu=0.93548\n",
      "C=11.16987 | valid_logloss=0.71498,  valid_accu=0.93548\n",
      "C=11.29934 | valid_logloss=0.62274,  valid_accu=0.93548\n",
      "C=11.43031 | valid_logloss=0.53436,  valid_accu=0.93548\n",
      "C=11.56280 | valid_logloss=0.63475,  valid_accu=0.93548\n",
      "C=11.69683 | valid_logloss=0.65386,  valid_accu=0.93548\n",
      "C=11.83241 | valid_logloss=0.65317,  valid_accu=0.93548\n",
      "C=11.96956 | valid_logloss=0.55415,  valid_accu=0.93548\n",
      "C=12.10830 | valid_logloss=0.58743,  valid_accu=0.93548\n",
      "C=12.24865 | valid_logloss=0.73052,  valid_accu=0.93548\n",
      "C=12.39062 | valid_logloss=0.61172,  valid_accu=0.93548\n",
      "C=12.53424 | valid_logloss=0.61194,  valid_accu=0.93548\n",
      "C=12.67953 | valid_logloss=0.55960,  valid_accu=0.93548\n",
      "C=12.82650 | valid_logloss=0.63998,  valid_accu=0.93548\n",
      "C=12.97517 | valid_logloss=0.59562,  valid_accu=0.93548\n",
      "C=13.12557 | valid_logloss=0.58231,  valid_accu=0.93548\n",
      "C=13.27771 | valid_logloss=0.61274,  valid_accu=0.93548\n",
      "C=13.43161 | valid_logloss=0.53167,  valid_accu=0.93548\n",
      "C=13.58730 | valid_logloss=0.64769,  valid_accu=0.93548\n",
      "C=13.74479 | valid_logloss=0.72842,  valid_accu=0.93548\n",
      "C=13.90411 | valid_logloss=0.67050,  valid_accu=0.93548\n",
      "C=14.06527 | valid_logloss=0.61132,  valid_accu=0.93548\n",
      "C=14.22830 | valid_logloss=0.65640,  valid_accu=0.93548\n",
      "C=14.39323 | valid_logloss=0.59023,  valid_accu=0.93548\n",
      "C=14.56006 | valid_logloss=0.66733,  valid_accu=0.93548\n",
      "C=14.72883 | valid_logloss=0.67521,  valid_accu=0.93548\n",
      "C=14.89955 | valid_logloss=0.63737,  valid_accu=0.93548\n",
      "C=15.07225 | valid_logloss=0.62013,  valid_accu=0.93548\n",
      "C=15.24696 | valid_logloss=0.63840,  valid_accu=0.93548\n",
      "C=15.42369 | valid_logloss=0.54417,  valid_accu=0.93548\n",
      "C=15.60246 | valid_logloss=0.64540,  valid_accu=0.93548\n",
      "C=15.78331 | valid_logloss=0.52784,  valid_accu=0.93548\n",
      "C=15.96626 | valid_logloss=0.70440,  valid_accu=0.93548\n",
      "C=16.15133 | valid_logloss=0.60016,  valid_accu=0.93548\n",
      "C=16.33854 | valid_logloss=0.62949,  valid_accu=0.93548\n",
      "C=16.52792 | valid_logloss=0.59650,  valid_accu=0.93548\n",
      "C=16.71950 | valid_logloss=0.64509,  valid_accu=0.93548\n",
      "C=16.91330 | valid_logloss=0.69273,  valid_accu=0.93548\n",
      "C=17.10934 | valid_logloss=0.67373,  valid_accu=0.93548\n",
      "C=17.30766 | valid_logloss=0.64421,  valid_accu=0.93548\n",
      "C=17.50827 | valid_logloss=0.67812,  valid_accu=0.93548\n",
      "C=17.71121 | valid_logloss=0.63473,  valid_accu=0.93548\n",
      "C=17.91650 | valid_logloss=0.68849,  valid_accu=0.93548\n",
      "C=18.12418 | valid_logloss=0.70194,  valid_accu=0.93548\n",
      "C=18.33425 | valid_logloss=0.64968,  valid_accu=0.93548\n",
      "C=18.54677 | valid_logloss=0.71824,  valid_accu=0.93548\n",
      "C=18.76175 | valid_logloss=0.65156,  valid_accu=0.93548\n",
      "C=18.97922 | valid_logloss=0.62918,  valid_accu=0.93548\n",
      "C=19.19921 | valid_logloss=0.72163,  valid_accu=0.93548\n",
      "C=19.42175 | valid_logloss=0.59362,  valid_accu=0.93548\n",
      "C=19.64687 | valid_logloss=0.64008,  valid_accu=0.93548\n",
      "C=19.87460 | valid_logloss=0.57853,  valid_accu=0.93548\n",
      "C=20.10496 | valid_logloss=0.61447,  valid_accu=0.93548\n",
      "C=20.33800 | valid_logloss=0.60033,  valid_accu=0.93548\n",
      "C=20.57374 | valid_logloss=0.65937,  valid_accu=0.93548\n",
      "C=20.81222 | valid_logloss=0.73002,  valid_accu=0.93548\n",
      "C=21.05345 | valid_logloss=0.73523,  valid_accu=0.93548\n",
      "C=21.29749 | valid_logloss=0.64980,  valid_accu=0.93548\n",
      "C=21.54435 | valid_logloss=0.62392,  valid_accu=0.93548\n",
      "C=21.79407 | valid_logloss=0.66383,  valid_accu=0.93548\n",
      "C=22.04669 | valid_logloss=0.66198,  valid_accu=0.93548\n",
      "C=22.30223 | valid_logloss=0.69127,  valid_accu=0.93548\n",
      "C=22.56074 | valid_logloss=0.63148,  valid_accu=0.93548\n",
      "C=22.82224 | valid_logloss=0.64036,  valid_accu=0.93548\n",
      "C=23.08678 | valid_logloss=0.63181,  valid_accu=0.93548\n",
      "C=23.35438 | valid_logloss=0.70828,  valid_accu=0.93548\n",
      "C=23.62508 | valid_logloss=0.72613,  valid_accu=0.93548\n",
      "C=23.89893 | valid_logloss=0.69241,  valid_accu=0.93548\n",
      "C=24.17594 | valid_logloss=0.73436,  valid_accu=0.93548\n",
      "C=24.45617 | valid_logloss=0.66095,  valid_accu=0.93548\n",
      "C=24.73964 | valid_logloss=0.63233,  valid_accu=0.93548\n",
      "C=25.02640 | valid_logloss=0.69618,  valid_accu=0.93548\n",
      "C=25.31648 | valid_logloss=0.69689,  valid_accu=0.93548\n",
      "C=25.60993 | valid_logloss=0.72273,  valid_accu=0.93548\n",
      "C=25.90678 | valid_logloss=0.67339,  valid_accu=0.93548\n",
      "C=26.20707 | valid_logloss=0.69798,  valid_accu=0.93548\n",
      "C=26.51084 | valid_logloss=0.74884,  valid_accu=0.93548\n",
      "C=26.81813 | valid_logloss=0.67396,  valid_accu=0.93548\n",
      "C=27.12898 | valid_logloss=0.65505,  valid_accu=0.93548\n",
      "C=27.44343 | valid_logloss=0.67607,  valid_accu=0.93548\n",
      "C=27.76153 | valid_logloss=0.67391,  valid_accu=0.93548\n",
      "C=28.08332 | valid_logloss=0.63065,  valid_accu=0.93548\n",
      "C=28.40884 | valid_logloss=0.64079,  valid_accu=0.93548\n",
      "C=28.73813 | valid_logloss=0.70693,  valid_accu=0.93548\n",
      "C=29.07123 | valid_logloss=0.66782,  valid_accu=0.93548\n",
      "C=29.40820 | valid_logloss=0.69518,  valid_accu=0.93548\n",
      "C=29.74908 | valid_logloss=0.74670,  valid_accu=0.93548\n",
      "C=30.09390 | valid_logloss=0.72838,  valid_accu=0.93548\n",
      "C=30.44272 | valid_logloss=0.68337,  valid_accu=0.93548\n",
      "C=30.79559 | valid_logloss=0.68436,  valid_accu=0.93548\n",
      "C=31.15254 | valid_logloss=0.64085,  valid_accu=0.93548\n",
      "C=31.51363 | valid_logloss=0.66996,  valid_accu=0.93548\n",
      "C=31.87891 | valid_logloss=0.73827,  valid_accu=0.93548\n",
      "C=32.24842 | valid_logloss=0.62598,  valid_accu=0.93548\n",
      "C=32.62222 | valid_logloss=0.68413,  valid_accu=0.93548\n",
      "C=33.00035 | valid_logloss=0.69600,  valid_accu=0.93548\n",
      "C=33.38286 | valid_logloss=0.68091,  valid_accu=0.93548\n",
      "C=33.76980 | valid_logloss=0.67981,  valid_accu=0.93548\n",
      "C=34.16123 | valid_logloss=0.72961,  valid_accu=0.93548\n",
      "C=34.55720 | valid_logloss=0.71826,  valid_accu=0.93548\n",
      "C=34.95776 | valid_logloss=0.69871,  valid_accu=0.93548\n",
      "C=35.36296 | valid_logloss=0.69558,  valid_accu=0.93548\n",
      "C=35.77285 | valid_logloss=0.68611,  valid_accu=0.93548\n",
      "C=36.18750 | valid_logloss=0.65006,  valid_accu=0.93548\n",
      "C=36.60695 | valid_logloss=0.57278,  valid_accu=0.93548\n",
      "C=37.03127 | valid_logloss=0.61851,  valid_accu=0.93548\n",
      "C=37.46050 | valid_logloss=0.68460,  valid_accu=0.93548\n",
      "C=37.89471 | valid_logloss=0.75097,  valid_accu=0.93548\n",
      "C=38.33395 | valid_logloss=0.73474,  valid_accu=0.93548\n",
      "C=38.77828 | valid_logloss=0.69827,  valid_accu=0.93548\n",
      "C=39.22777 | valid_logloss=0.72207,  valid_accu=0.93548\n",
      "C=39.68246 | valid_logloss=0.66697,  valid_accu=0.93548\n",
      "C=40.14242 | valid_logloss=0.67470,  valid_accu=0.93548\n",
      "C=40.60772 | valid_logloss=0.74452,  valid_accu=0.93548\n",
      "C=41.07841 | valid_logloss=0.64324,  valid_accu=0.93548\n",
      "C=41.55455 | valid_logloss=0.76910,  valid_accu=0.93548\n",
      "C=42.03622 | valid_logloss=0.74296,  valid_accu=0.93548\n",
      "C=42.52346 | valid_logloss=0.75227,  valid_accu=0.93548\n",
      "C=43.01636 | valid_logloss=0.76168,  valid_accu=0.93548\n",
      "C=43.51497 | valid_logloss=0.78720,  valid_accu=0.93548\n",
      "C=44.01935 | valid_logloss=0.80382,  valid_accu=0.93548\n",
      "C=44.52959 | valid_logloss=0.74685,  valid_accu=0.93548\n",
      "C=45.04573 | valid_logloss=0.72896,  valid_accu=0.93548\n",
      "C=45.56786 | valid_logloss=0.79180,  valid_accu=0.93548\n",
      "C=46.09604 | valid_logloss=0.82829,  valid_accu=0.93548\n",
      "C=46.63035 | valid_logloss=0.70303,  valid_accu=0.93548\n",
      "C=47.17085 | valid_logloss=0.71830,  valid_accu=0.93548\n",
      "C=47.71761 | valid_logloss=0.68772,  valid_accu=0.93548\n",
      "C=48.27071 | valid_logloss=0.74538,  valid_accu=0.93548\n",
      "C=48.83022 | valid_logloss=0.70639,  valid_accu=0.93548\n",
      "C=49.39622 | valid_logloss=0.80087,  valid_accu=0.93548\n",
      "C=49.96877 | valid_logloss=0.71723,  valid_accu=0.93548\n",
      "C=50.54797 | valid_logloss=0.81218,  valid_accu=0.93548\n",
      "C=51.13388 | valid_logloss=0.77449,  valid_accu=0.93548\n",
      "C=51.72657 | valid_logloss=0.71552,  valid_accu=0.93548\n"
     ]
    },
    {
     "name": "stdout",
     "output_type": "stream",
     "text": [
      "C=52.32614 | valid_logloss=0.77435,  valid_accu=0.93548\n",
      "C=52.93266 | valid_logloss=0.77425,  valid_accu=0.93548\n",
      "C=53.54621 | valid_logloss=0.71647,  valid_accu=0.93548\n",
      "C=54.16687 | valid_logloss=0.80552,  valid_accu=0.93548\n",
      "C=54.79472 | valid_logloss=0.78419,  valid_accu=0.93548\n",
      "C=55.42986 | valid_logloss=0.74026,  valid_accu=0.93548\n",
      "C=56.07235 | valid_logloss=0.79849,  valid_accu=0.93548\n",
      "C=56.72229 | valid_logloss=0.74718,  valid_accu=0.93548\n",
      "C=57.37976 | valid_logloss=0.74236,  valid_accu=0.93548\n",
      "C=58.04486 | valid_logloss=0.72507,  valid_accu=0.93548\n",
      "C=58.71766 | valid_logloss=0.73761,  valid_accu=0.93548\n",
      "C=59.39827 | valid_logloss=0.74346,  valid_accu=0.93548\n",
      "C=60.08676 | valid_logloss=0.75415,  valid_accu=0.93548\n",
      "C=60.78323 | valid_logloss=0.78067,  valid_accu=0.93548\n",
      "C=61.48778 | valid_logloss=0.76063,  valid_accu=0.93548\n",
      "C=62.20049 | valid_logloss=0.72240,  valid_accu=0.93548\n",
      "C=62.92146 | valid_logloss=0.74592,  valid_accu=0.93548\n",
      "C=63.65079 | valid_logloss=0.72317,  valid_accu=0.93548\n",
      "C=64.38857 | valid_logloss=0.75070,  valid_accu=0.93548\n",
      "C=65.13491 | valid_logloss=0.75747,  valid_accu=0.93548\n",
      "C=65.88990 | valid_logloss=0.80505,  valid_accu=0.93548\n",
      "C=66.65363 | valid_logloss=0.82614,  valid_accu=0.93548\n",
      "C=67.42622 | valid_logloss=0.79257,  valid_accu=0.93548\n",
      "C=68.20777 | valid_logloss=0.82872,  valid_accu=0.93548\n",
      "C=68.99837 | valid_logloss=0.74149,  valid_accu=0.93548\n",
      "C=69.79814 | valid_logloss=0.79164,  valid_accu=0.93548\n",
      "C=70.60718 | valid_logloss=0.81344,  valid_accu=0.93548\n",
      "C=71.42559 | valid_logloss=0.81427,  valid_accu=0.93548\n",
      "C=72.25349 | valid_logloss=0.80126,  valid_accu=0.93548\n",
      "C=73.09099 | valid_logloss=0.78784,  valid_accu=0.93548\n",
      "C=73.93820 | valid_logloss=0.83315,  valid_accu=0.93548\n",
      "C=74.79523 | valid_logloss=0.76146,  valid_accu=0.93548\n",
      "C=75.66219 | valid_logloss=0.81579,  valid_accu=0.93548\n",
      "C=76.53919 | valid_logloss=0.80106,  valid_accu=0.93548\n",
      "C=77.42637 | valid_logloss=0.81513,  valid_accu=0.93548\n",
      "C=78.32383 | valid_logloss=0.71381,  valid_accu=0.93548\n",
      "C=79.23169 | valid_logloss=0.85069,  valid_accu=0.93548\n",
      "C=80.15007 | valid_logloss=0.74141,  valid_accu=0.93548\n",
      "C=81.07910 | valid_logloss=0.79490,  valid_accu=0.93548\n",
      "C=82.01889 | valid_logloss=0.82124,  valid_accu=0.93548\n",
      "C=82.96959 | valid_logloss=0.83199,  valid_accu=0.93548\n",
      "C=83.93129 | valid_logloss=0.86346,  valid_accu=0.93548\n",
      "C=84.90415 | valid_logloss=0.79106,  valid_accu=0.93548\n",
      "C=85.88829 | valid_logloss=0.75026,  valid_accu=0.93548\n",
      "C=86.88383 | valid_logloss=0.77729,  valid_accu=0.93548\n",
      "C=87.89091 | valid_logloss=0.80699,  valid_accu=0.93548\n",
      "C=88.90966 | valid_logloss=0.85537,  valid_accu=0.93548\n",
      "C=89.94022 | valid_logloss=0.75991,  valid_accu=0.93548\n",
      "C=90.98273 | valid_logloss=0.79059,  valid_accu=0.93548\n",
      "C=92.03732 | valid_logloss=0.73562,  valid_accu=0.93548\n",
      "C=93.10413 | valid_logloss=0.72863,  valid_accu=0.93548\n",
      "C=94.18332 | valid_logloss=0.76543,  valid_accu=0.93548\n",
      "C=95.27500 | valid_logloss=0.79713,  valid_accu=0.93548\n",
      "C=96.37935 | valid_logloss=0.73611,  valid_accu=0.93548\n",
      "C=97.49649 | valid_logloss=0.72733,  valid_accu=0.93548\n",
      "C=98.62658 | valid_logloss=0.77939,  valid_accu=0.93548\n",
      "C=99.76978 | valid_logloss=0.81380,  valid_accu=0.93548\n",
      "C=100.92622 | valid_logloss=0.86521,  valid_accu=0.93548\n",
      "C=102.09607 | valid_logloss=0.69851,  valid_accu=0.93548\n",
      "C=103.27947 | valid_logloss=0.74753,  valid_accu=0.93548\n",
      "C=104.47660 | valid_logloss=0.89069,  valid_accu=0.93548\n",
      "C=105.68760 | valid_logloss=0.83054,  valid_accu=0.93548\n",
      "C=106.91263 | valid_logloss=0.79517,  valid_accu=0.93548\n",
      "C=108.15187 | valid_logloss=0.77807,  valid_accu=0.93548\n",
      "C=109.40547 | valid_logloss=0.79205,  valid_accu=0.93548\n",
      "C=110.67360 | valid_logloss=0.85043,  valid_accu=0.93548\n",
      "C=111.95643 | valid_logloss=0.72306,  valid_accu=0.93548\n",
      "C=113.25413 | valid_logloss=0.77114,  valid_accu=0.93548\n",
      "C=114.56687 | valid_logloss=0.86933,  valid_accu=0.93548\n",
      "C=115.89483 | valid_logloss=0.77274,  valid_accu=0.93548\n",
      "C=117.23818 | valid_logloss=0.77822,  valid_accu=0.93548\n",
      "C=118.59710 | valid_logloss=0.77397,  valid_accu=0.93548\n",
      "C=119.97177 | valid_logloss=0.83536,  valid_accu=0.93548\n",
      "C=121.36238 | valid_logloss=0.73192,  valid_accu=0.93548\n",
      "C=122.76910 | valid_logloss=0.89515,  valid_accu=0.93548\n",
      "C=124.19214 | valid_logloss=0.85554,  valid_accu=0.93548\n",
      "C=125.63166 | valid_logloss=0.84296,  valid_accu=0.93548\n",
      "C=127.08787 | valid_logloss=0.82730,  valid_accu=0.93548\n",
      "C=128.56096 | valid_logloss=0.80310,  valid_accu=0.93548\n",
      "C=130.05113 | valid_logloss=0.82555,  valid_accu=0.93548\n",
      "C=131.55856 | valid_logloss=0.80922,  valid_accu=0.93548\n",
      "C=133.08347 | valid_logloss=0.87442,  valid_accu=0.93548\n",
      "C=134.62606 | valid_logloss=0.84417,  valid_accu=0.93548\n",
      "C=136.18652 | valid_logloss=0.87457,  valid_accu=0.93548\n",
      "C=137.76508 | valid_logloss=0.80595,  valid_accu=0.93548\n",
      "C=139.36193 | valid_logloss=0.90789,  valid_accu=0.93548\n",
      "C=140.97729 | valid_logloss=0.89928,  valid_accu=0.93548\n",
      "C=142.61137 | valid_logloss=0.79460,  valid_accu=0.93548\n",
      "C=144.26440 | valid_logloss=0.87018,  valid_accu=0.93548\n",
      "C=145.93658 | valid_logloss=0.88574,  valid_accu=0.93548\n",
      "C=147.62815 | valid_logloss=0.86659,  valid_accu=0.93548\n",
      "C=149.33932 | valid_logloss=0.84617,  valid_accu=0.93548\n",
      "C=151.07033 | valid_logloss=0.89206,  valid_accu=0.93548\n",
      "C=152.82140 | valid_logloss=0.80905,  valid_accu=0.93548\n",
      "C=154.59277 | valid_logloss=0.87581,  valid_accu=0.93548\n",
      "C=156.38468 | valid_logloss=0.85998,  valid_accu=0.93548\n",
      "C=158.19735 | valid_logloss=0.88413,  valid_accu=0.93548\n",
      "C=160.03103 | valid_logloss=0.86017,  valid_accu=0.93548\n",
      "C=161.88597 | valid_logloss=0.83457,  valid_accu=0.93548\n",
      "C=163.76241 | valid_logloss=0.79718,  valid_accu=0.93548\n",
      "C=165.66060 | valid_logloss=0.89073,  valid_accu=0.93548\n",
      "C=167.58079 | valid_logloss=0.81556,  valid_accu=0.93548\n",
      "C=169.52323 | valid_logloss=0.88952,  valid_accu=0.93548\n",
      "C=171.48820 | valid_logloss=0.83996,  valid_accu=0.93548\n",
      "C=173.47594 | valid_logloss=0.92584,  valid_accu=0.93548\n",
      "C=175.48671 | valid_logloss=0.79471,  valid_accu=0.93548\n",
      "C=177.52080 | valid_logloss=0.90750,  valid_accu=0.93548\n",
      "C=179.57846 | valid_logloss=0.80943,  valid_accu=0.93548\n",
      "C=181.65998 | valid_logloss=0.87463,  valid_accu=0.93548\n",
      "C=183.76562 | valid_logloss=0.86803,  valid_accu=0.93548\n",
      "C=185.89567 | valid_logloss=0.83375,  valid_accu=0.93548\n",
      "C=188.05041 | valid_logloss=0.85903,  valid_accu=0.93548\n",
      "C=190.23012 | valid_logloss=0.80090,  valid_accu=0.93548\n",
      "C=192.43510 | valid_logloss=0.92678,  valid_accu=0.93548\n",
      "C=194.66563 | valid_logloss=0.90209,  valid_accu=0.93548\n",
      "C=196.92203 | valid_logloss=0.95240,  valid_accu=0.93548\n",
      "C=199.20457 | valid_logloss=0.87188,  valid_accu=0.93548\n",
      "C=201.51357 | valid_logloss=0.85392,  valid_accu=0.93548\n",
      "C=203.84934 | valid_logloss=0.90732,  valid_accu=0.93548\n",
      "C=206.21218 | valid_logloss=0.85986,  valid_accu=0.93548\n",
      "C=208.60241 | valid_logloss=0.91364,  valid_accu=0.93548\n",
      "C=211.02034 | valid_logloss=0.87205,  valid_accu=0.93548\n",
      "C=213.46630 | valid_logloss=0.87245,  valid_accu=0.93548\n",
      "C=215.94062 | valid_logloss=0.92225,  valid_accu=0.93548\n",
      "C=218.44361 | valid_logloss=0.90975,  valid_accu=0.93548\n",
      "C=220.97561 | valid_logloss=0.92723,  valid_accu=0.93548\n",
      "C=223.53696 | valid_logloss=0.88516,  valid_accu=0.93548\n",
      "C=226.12801 | valid_logloss=0.85075,  valid_accu=0.93548\n",
      "C=228.74908 | valid_logloss=0.94414,  valid_accu=0.93548\n",
      "C=231.40054 | valid_logloss=0.90952,  valid_accu=0.93548\n",
      "C=234.08273 | valid_logloss=0.85946,  valid_accu=0.93548\n",
      "C=236.79601 | valid_logloss=0.90324,  valid_accu=0.93548\n",
      "C=239.54074 | valid_logloss=0.80673,  valid_accu=0.93548\n",
      "C=242.31728 | valid_logloss=0.94915,  valid_accu=0.93548\n",
      "C=245.12601 | valid_logloss=0.75657,  valid_accu=0.93548\n",
      "C=247.96729 | valid_logloss=0.83351,  valid_accu=0.93548\n",
      "C=250.84151 | valid_logloss=0.89199,  valid_accu=0.93548\n",
      "C=253.74904 | valid_logloss=0.91716,  valid_accu=0.93548\n",
      "C=256.69027 | valid_logloss=0.95987,  valid_accu=0.93548\n",
      "C=259.66560 | valid_logloss=0.90315,  valid_accu=0.93548\n",
      "C=262.67541 | valid_logloss=0.85974,  valid_accu=0.93548\n",
      "C=265.72011 | valid_logloss=0.88925,  valid_accu=0.93548\n",
      "C=268.80010 | valid_logloss=0.90367,  valid_accu=0.93548\n",
      "C=271.91579 | valid_logloss=0.84237,  valid_accu=0.93548\n",
      "C=275.06760 | valid_logloss=0.87508,  valid_accu=0.93548\n"
     ]
    },
    {
     "name": "stdout",
     "output_type": "stream",
     "text": [
      "C=278.25594 | valid_logloss=0.78240,  valid_accu=0.93548\n",
      "C=281.48124 | valid_logloss=0.92709,  valid_accu=0.93548\n",
      "C=284.74392 | valid_logloss=0.88197,  valid_accu=0.93548\n",
      "C=288.04442 | valid_logloss=0.79121,  valid_accu=0.93548\n",
      "C=291.38317 | valid_logloss=0.88754,  valid_accu=0.93548\n",
      "C=294.76063 | valid_logloss=0.81773,  valid_accu=0.93548\n",
      "C=298.17723 | valid_logloss=0.98050,  valid_accu=0.93548\n",
      "C=301.63343 | valid_logloss=0.90451,  valid_accu=0.93548\n",
      "C=305.12970 | valid_logloss=0.86165,  valid_accu=0.93548\n",
      "C=308.66649 | valid_logloss=0.99697,  valid_accu=0.93548\n",
      "C=312.24428 | valid_logloss=0.90427,  valid_accu=0.93548\n",
      "C=315.86354 | valid_logloss=0.91453,  valid_accu=0.93548\n",
      "C=319.52475 | valid_logloss=0.82456,  valid_accu=0.93548\n",
      "C=323.22840 | valid_logloss=0.93638,  valid_accu=0.93548\n",
      "C=326.97497 | valid_logloss=0.92778,  valid_accu=0.93548\n",
      "C=330.76498 | valid_logloss=0.80059,  valid_accu=0.93548\n",
      "C=334.59891 | valid_logloss=0.87828,  valid_accu=0.93548\n",
      "C=338.47729 | valid_logloss=0.99307,  valid_accu=0.93548\n",
      "C=342.40061 | valid_logloss=0.83015,  valid_accu=0.93548\n",
      "C=346.36942 | valid_logloss=0.96769,  valid_accu=0.93548\n",
      "C=350.38422 | valid_logloss=0.87148,  valid_accu=0.93548\n",
      "C=354.44557 | valid_logloss=0.86842,  valid_accu=0.93548\n",
      "C=358.55399 | valid_logloss=0.99331,  valid_accu=0.93548\n",
      "C=362.71003 | valid_logloss=0.87335,  valid_accu=0.93548\n",
      "C=366.91424 | valid_logloss=0.97039,  valid_accu=0.93548\n",
      "C=371.16718 | valid_logloss=0.97205,  valid_accu=0.93548\n",
      "C=375.46942 | valid_logloss=0.90716,  valid_accu=0.93548\n",
      "C=379.82153 | valid_logloss=0.98989,  valid_accu=0.93548\n",
      "C=384.22408 | valid_logloss=0.95839,  valid_accu=0.93548\n",
      "C=388.67767 | valid_logloss=0.97285,  valid_accu=0.93548\n",
      "C=393.18288 | valid_logloss=0.91701,  valid_accu=0.93548\n",
      "C=397.74030 | valid_logloss=0.92283,  valid_accu=0.93548\n",
      "C=402.35055 | valid_logloss=0.88754,  valid_accu=0.93548\n",
      "C=407.01425 | valid_logloss=0.90345,  valid_accu=0.93548\n",
      "C=411.73199 | valid_logloss=0.87615,  valid_accu=0.93548\n",
      "C=416.50442 | valid_logloss=0.90407,  valid_accu=0.93548\n",
      "C=421.33217 | valid_logloss=0.90315,  valid_accu=0.93548\n",
      "C=426.21588 | valid_logloss=0.93567,  valid_accu=0.93548\n",
      "C=431.15620 | valid_logloss=0.94870,  valid_accu=0.93548\n",
      "C=436.15378 | valid_logloss=0.91249,  valid_accu=0.93548\n",
      "C=441.20929 | valid_logloss=0.98651,  valid_accu=0.93548\n",
      "C=446.32339 | valid_logloss=0.96675,  valid_accu=0.93548\n",
      "C=451.49678 | valid_logloss=0.83555,  valid_accu=0.93548\n",
      "C=456.73013 | valid_logloss=0.83415,  valid_accu=0.93548\n",
      "C=462.02414 | valid_logloss=0.91750,  valid_accu=0.93548\n",
      "C=467.37951 | valid_logloss=0.88425,  valid_accu=0.93548\n",
      "C=472.79696 | valid_logloss=0.92316,  valid_accu=0.93548\n",
      "C=478.27720 | valid_logloss=0.89905,  valid_accu=0.93548\n",
      "C=483.82097 | valid_logloss=0.89797,  valid_accu=0.93548\n",
      "C=489.42899 | valid_logloss=0.90658,  valid_accu=0.93548\n",
      "C=495.10202 | valid_logloss=0.87966,  valid_accu=0.93548\n",
      "C=500.84080 | valid_logloss=0.90638,  valid_accu=0.93548\n",
      "C=506.64610 | valid_logloss=0.91919,  valid_accu=0.93548\n",
      "C=512.51869 | valid_logloss=0.99679,  valid_accu=0.93548\n",
      "C=518.45935 | valid_logloss=0.88768,  valid_accu=0.93548\n",
      "C=524.46887 | valid_logloss=0.86322,  valid_accu=0.93548\n",
      "C=530.54805 | valid_logloss=1.00635,  valid_accu=0.93548\n",
      "C=536.69769 | valid_logloss=1.00144,  valid_accu=0.93548\n",
      "C=542.91862 | valid_logloss=0.95533,  valid_accu=0.93548\n",
      "C=549.21165 | valid_logloss=0.94907,  valid_accu=0.93548\n",
      "C=555.57762 | valid_logloss=0.88807,  valid_accu=0.93548\n",
      "C=562.01738 | valid_logloss=0.91888,  valid_accu=0.93548\n",
      "C=568.53179 | valid_logloss=0.94407,  valid_accu=0.93548\n",
      "C=575.12171 | valid_logloss=1.02826,  valid_accu=0.93548\n",
      "C=581.78801 | valid_logloss=0.95251,  valid_accu=0.93548\n",
      "C=588.53158 | valid_logloss=0.90859,  valid_accu=0.93548\n",
      "C=595.35331 | valid_logloss=0.95062,  valid_accu=0.93548\n",
      "C=602.25412 | valid_logloss=0.98268,  valid_accu=0.93548\n",
      "C=609.23492 | valid_logloss=0.91232,  valid_accu=0.93548\n",
      "C=616.29663 | valid_logloss=0.97285,  valid_accu=0.93548\n",
      "C=623.44019 | valid_logloss=0.92747,  valid_accu=0.93548\n",
      "C=630.66655 | valid_logloss=1.03379,  valid_accu=0.93548\n",
      "C=637.97668 | valid_logloss=0.86758,  valid_accu=0.93548\n",
      "C=645.37154 | valid_logloss=1.00625,  valid_accu=0.93548\n",
      "C=652.85211 | valid_logloss=0.97934,  valid_accu=0.93548\n",
      "C=660.41940 | valid_logloss=1.04961,  valid_accu=0.93548\n",
      "C=668.07439 | valid_logloss=1.06679,  valid_accu=0.93548\n",
      "C=675.81812 | valid_logloss=0.94581,  valid_accu=0.93548\n",
      "C=683.65160 | valid_logloss=1.09461,  valid_accu=0.93548\n",
      "C=691.57588 | valid_logloss=0.96836,  valid_accu=0.93548\n",
      "C=699.59202 | valid_logloss=1.01936,  valid_accu=0.93548\n",
      "C=707.70107 | valid_logloss=1.01770,  valid_accu=0.93548\n",
      "C=715.90411 | valid_logloss=0.98417,  valid_accu=0.93548\n",
      "C=724.20223 | valid_logloss=1.01401,  valid_accu=0.93548\n",
      "C=732.59654 | valid_logloss=1.01743,  valid_accu=0.93548\n",
      "C=741.08815 | valid_logloss=0.94659,  valid_accu=0.93548\n",
      "C=749.67819 | valid_logloss=1.02403,  valid_accu=0.93548\n",
      "C=758.36779 | valid_logloss=0.94610,  valid_accu=0.93548\n",
      "C=767.15812 | valid_logloss=1.04249,  valid_accu=0.93548\n",
      "C=776.05033 | valid_logloss=1.00352,  valid_accu=0.93548\n",
      "C=785.04562 | valid_logloss=1.04596,  valid_accu=0.93548\n",
      "C=794.14517 | valid_logloss=0.89404,  valid_accu=0.93548\n",
      "C=803.35020 | valid_logloss=0.99198,  valid_accu=0.93548\n",
      "C=812.66192 | valid_logloss=0.96658,  valid_accu=0.93548\n",
      "C=822.08158 | valid_logloss=0.94343,  valid_accu=0.93548\n",
      "C=831.61042 | valid_logloss=0.94589,  valid_accu=0.93548\n",
      "C=841.24970 | valid_logloss=1.02640,  valid_accu=0.93548\n",
      "C=851.00072 | valid_logloss=0.99601,  valid_accu=0.93548\n",
      "C=860.86477 | valid_logloss=0.93075,  valid_accu=0.93548\n",
      "C=870.84315 | valid_logloss=0.99570,  valid_accu=0.93548\n",
      "C=880.93719 | valid_logloss=0.98940,  valid_accu=0.93548\n",
      "C=891.14823 | valid_logloss=0.88345,  valid_accu=0.93548\n",
      "C=901.47763 | valid_logloss=0.96660,  valid_accu=0.93548\n",
      "C=911.92676 | valid_logloss=1.03892,  valid_accu=0.93548\n",
      "C=922.49701 | valid_logloss=1.03183,  valid_accu=0.93548\n",
      "C=933.18977 | valid_logloss=0.96458,  valid_accu=0.93548\n",
      "C=944.00648 | valid_logloss=1.01436,  valid_accu=0.93548\n",
      "C=954.94856 | valid_logloss=1.01690,  valid_accu=0.93548\n",
      "C=966.01748 | valid_logloss=1.01401,  valid_accu=0.93548\n",
      "C=977.21470 | valid_logloss=0.92308,  valid_accu=0.93548\n",
      "C=988.54170 | valid_logloss=1.07928,  valid_accu=0.93548\n",
      "C=1000.00000 | valid_logloss=1.03779,  valid_accu=0.93548\n"
     ]
    }
   ],
   "source": [
    "# Perform grid search\n",
    "data_out = 'data_lasso_11Radiotherapy'\n",
    "iterator = tqdm.notebook.tqdm(range(1, len(grid_C) + 1), desc='C-grid loop')\n",
    "for n in iterator:\n",
    "    irow = n-1\n",
    "    params['C'] = grid_C[irow]\n",
    "    log_clf = LogisticRegression(**params).fit(xtrain, ytrain.ravel())\n",
    "    \n",
    "    ypred = log_clf.predict_proba(xvalid)\n",
    "    val_loss = log_loss(yvalid, ypred)\n",
    "    val_accu = log_clf.score(xvalid, yvalid.ravel())\n",
    "    \n",
    "    df_grid_loss.iloc[irow,:] = [params['C'], val_loss, val_accu]\n",
    "    print(\"C={:.5f} | valid_logloss={:.5f},  valid_accu={:.5f}\".format(params['C'], \n",
    "                                                                       val_loss, \n",
    "                                                                       val_accu))\n",
    "    \n",
    "df_grid_loss.to_csv(os.path.join(data_out, 'df_grid_loss.csv'), index=None)"
   ]
  },
  {
   "cell_type": "code",
   "execution_count": 13,
   "metadata": {
    "ExecuteTime": {
     "end_time": "2021-04-12T20:22:18.185548Z",
     "start_time": "2021-04-12T20:22:18.177444Z"
    },
    "code_folding": []
   },
   "outputs": [
    {
     "name": "stdout",
     "output_type": "stream",
     "text": [
      "Best parameters (403):\n",
      "- Best C = 1.03996\n",
      "- Best valid loss = 0.41432\n"
     ]
    }
   ],
   "source": [
    "# Display grid search results\n",
    "data_out = 'data_lasso_11Radiotherapy'\n",
    "df_grid_loss = pd.read_csv(os.path.join(data_out, 'df_grid_loss.csv'))\n",
    "\n",
    "idx = df_grid_loss.valid_loss.idxmin()\n",
    "best_C   = df_grid_loss.iloc[idx, 0]\n",
    "best_loss  = df_grid_loss.iloc[idx, 1]\n",
    "print(\"Best parameters ({}):\".format(idx))\n",
    "print(\"- Best C = {:.5f}\".format(best_C))\n",
    "print(\"- Best valid loss = {:.5f}\".format(best_loss))"
   ]
  },
  {
   "cell_type": "code",
   "execution_count": 14,
   "metadata": {
    "ExecuteTime": {
     "end_time": "2021-04-12T20:22:23.322328Z",
     "start_time": "2021-04-12T20:22:23.148689Z"
    },
    "code_folding": [
     0
    ]
   },
   "outputs": [
    {
     "data": {
      "image/png": "[encoded data removed]",
      "text/plain": [
       "<Figure size 720x432 with 1 Axes>"
      ]
     },
     "metadata": {
      "needs_background": "light"
     },
     "output_type": "display_data"
    }
   ],
   "source": [
    "# Plot Loss vs point in grid search\n",
    "data_out = 'data_lasso_11Radiotherapy'\n",
    "df_grid_loss = pd.read_csv(os.path.join(data_out, 'df_grid_loss.csv'))\n",
    "fig, axes = plt.subplots(figsize=(10,6))\n",
    "axes.scatter(df_grid_loss.index, df_grid_loss['valid_loss'])\n",
    "axes.plot(df_grid_loss.index, df_grid_loss['valid_loss'])\n",
    "axes.set_xlabel(\"grid search point\")\n",
    "axes.set_ylabel(\"Valid Logloss\")\n",
    "plt.show()"
   ]
  },
  {
   "cell_type": "code",
   "execution_count": 15,
   "metadata": {
    "ExecuteTime": {
     "end_time": "2021-04-12T20:22:32.937342Z",
     "start_time": "2021-04-12T20:22:32.654165Z"
    },
    "code_folding": [
     0
    ]
   },
   "outputs": [],
   "source": [
    "# Train with best hyperparameters\n",
    "params['C'] = best_C\n",
    "log_clf = LogisticRegression(**params).fit(xtrain, ytrain.ravel())"
   ]
  },
  {
   "cell_type": "code",
   "execution_count": 16,
   "metadata": {
    "ExecuteTime": {
     "end_time": "2021-04-12T20:22:34.876457Z",
     "start_time": "2021-04-12T20:22:34.869409Z"
    },
    "code_folding": [
     0
    ]
   },
   "outputs": [
    {
     "name": "stdout",
     "output_type": "stream",
     "text": [
      "model saved at: 'data_lasso_11Radiotherapy/lasso_model_val.pkl'\n",
      "best params saved at: 'data_lasso_11Radiotherapy/lasso_best_params.json'\n"
     ]
    }
   ],
   "source": [
    "# Save model and model's best params\n",
    "data_out = 'data_lasso_11Radiotherapy'\n",
    "joblib.dump(log_clf, os.path.join(data_out, 'lasso_model_val.pkl'))\n",
    "print(\"model saved at: '{}'\".format(os.path.join(data_out, 'lasso_model_val.pkl')))\n",
    "\n",
    "best_params = {}\n",
    "best_params['C'] = best_C\n",
    "with open(os.path.join(data_out, 'lasso_best_params.json'), 'w') as f:\n",
    "    json.dump(best_params, f)\n",
    "print(\"best params saved at: '{}'\".format(os.path.join(data_out, 'lasso_best_params.json')))"
   ]
  },
  {
   "cell_type": "code",
   "execution_count": 17,
   "metadata": {
    "ExecuteTime": {
     "end_time": "2021-04-12T20:22:44.360592Z",
     "start_time": "2021-04-12T20:22:44.286009Z"
    },
    "code_folding": [
     0
    ]
   },
   "outputs": [
    {
     "name": "stdout",
     "output_type": "stream",
     "text": [
      "model results saved at: 'data_lasso_11Radiotherapy/results_target_val.csv'\n"
     ]
    },
    {
     "data": {
      "text/html": [
       "<div>\n",
       "<style scoped>\n",
       "    .dataframe tbody tr th:only-of-type {\n",
       "        vertical-align: middle;\n",
       "    }\n",
       "\n",
       "    .dataframe tbody tr th {\n",
       "        vertical-align: top;\n",
       "    }\n",
       "\n",
       "    .dataframe thead th {\n",
       "        text-align: right;\n",
       "    }\n",
       "</style>\n",
       "<table border=\"1\" class=\"dataframe\">\n",
       "  <thead>\n",
       "    <tr style=\"text-align: right;\">\n",
       "      <th></th>\n",
       "      <th>accuracy</th>\n",
       "      <th>roc_auc</th>\n",
       "    </tr>\n",
       "  </thead>\n",
       "  <tbody>\n",
       "    <tr>\n",
       "      <th>train</th>\n",
       "      <td>1</td>\n",
       "      <td>1</td>\n",
       "    </tr>\n",
       "    <tr>\n",
       "      <th>valid</th>\n",
       "      <td>0.935484</td>\n",
       "      <td>0.9375</td>\n",
       "    </tr>\n",
       "    <tr>\n",
       "      <th>test</th>\n",
       "      <td>0.9375</td>\n",
       "      <td>0.9375</td>\n",
       "    </tr>\n",
       "  </tbody>\n",
       "</table>\n",
       "</div>"
      ],
      "text/plain": [
       "       accuracy roc_auc\n",
       "train         1       1\n",
       "valid  0.935484  0.9375\n",
       "test     0.9375  0.9375"
      ]
     },
     "execution_count": 17,
     "metadata": {},
     "output_type": "execute_result"
    }
   ],
   "source": [
    "# Find MSE, R2, Accuracy, etc...\n",
    "data_out = 'data_lasso_11Radiotherapy'\n",
    "model = joblib.load(os.path.join(data_out, 'lasso_model_val.pkl'))\n",
    "\n",
    "df_results = pd.DataFrame(index=['train', 'valid', 'test'], \n",
    "                           columns=['accuracy', 'roc_auc'])\n",
    "\n",
    "ypred = model.predict(xtrain)\n",
    "df_results.loc['train', 'accuracy'] = accuracy_score(ytrain, ypred)\n",
    "df_results.loc['train', 'roc_auc']  = roc_auc_score(ytrain, ypred)\n",
    "\n",
    "ypred = model.predict(xvalid)\n",
    "df_results.loc['valid', 'accuracy'] = accuracy_score(yvalid, ypred)\n",
    "df_results.loc['valid', 'roc_auc']  = roc_auc_score(yvalid, ypred)\n",
    "\n",
    "ypred = model.predict(xtest)\n",
    "df_results.loc['test', 'accuracy'] = accuracy_score(ytest, ypred)\n",
    "df_results.loc['test', 'roc_auc']  = roc_auc_score(ytest, ypred)\n",
    "\n",
    "# Save data\n",
    "df_results.to_csv(os.path.join(data_out, 'results_target_val.csv'), index=True)\n",
    "print(\"model results saved at: '{}'\".format(os.path.join(data_out, 'results_target_val.csv')))\n",
    "df_results.head()"
   ]
  },
  {
   "cell_type": "code",
   "execution_count": 19,
   "metadata": {
    "ExecuteTime": {
     "end_time": "2021-04-12T20:29:11.857494Z",
     "start_time": "2021-04-12T20:26:25.810375Z"
    },
    "code_folding": [
     0
    ]
   },
   "outputs": [
    {
     "data": {
      "application/vnd.jupyter.widget-view+json": {
       "model_id": "73d1d88c8825429a94e0ce5b4364875e",
       "version_major": 2,
       "version_minor": 0
      },
      "text/plain": [
       "Partitions loop:   0%|          | 0/100 [00:00<?, ?it/s]"
      ]
     },
     "metadata": {},
     "output_type": "display_data"
    }
   ],
   "source": [
    "# Find Accuracy +/- STD\n",
    "data_in  = 'data_lasso_11Radiotherapy'\n",
    "data_out = 'data_lasso_11Radiotherapy/partitions'\n",
    "df_results = pd.DataFrame(columns=['train_acc', 'valid_acc', 'test_acc', 'train_roc', 'valid_roc', 'test_roc'])\n",
    "\n",
    "model = joblib.load(os.path.join(data_in, 'lasso_model_val.pkl'))\n",
    "\n",
    "partitions = 100\n",
    "iterator = tqdm.notebook.tqdm(range(1, partitions + 1), desc='Partitions loop')\n",
    "for n in iterator:\n",
    "    split_data(X, y, seed1=seed1[n], seed2=seed2[n])\n",
    "    \n",
    "# .normalize data sets\n",
    "    scaler = StandardScaler()\n",
    "    scaler.fit(xtrain)\n",
    "    xtrain = scaler.transform(xtrain)\n",
    "    xvalid = scaler.transform(xvalid)\n",
    "    xtest  = scaler.transform(xtest)\n",
    "    \n",
    "# .train model\n",
    "    ytrain = ytrain.values.ravel()\n",
    "    yvalid = yvalid.values.ravel()\n",
    "    ytest  = ytest.values.ravel()\n",
    "    model.fit(xtrain, ytrain)\n",
    "    \n",
    "# .compute/save accuracy\n",
    "    ypred = model.predict(xtrain)\n",
    "    df_results.loc[n, 'train_acc'] = accuracy_score(ytrain, ypred)\n",
    "    df_results.loc[n, 'train_roc']  = roc_auc_score(ytrain, ypred)\n",
    "\n",
    "    ypred = model.predict(xvalid)\n",
    "    df_results.loc[n, 'valid_acc'] = accuracy_score(yvalid, ypred)\n",
    "    df_results.loc[n, 'valid_roc']  = roc_auc_score(yvalid, ypred)\n",
    "\n",
    "    ypred = model.predict(xtest)\n",
    "    df_results.loc[n, 'test_acc'] = accuracy_score(ytest, ypred)\n",
    "    df_results.loc[n, 'test_roc']  = roc_auc_score(ytest, ypred)\n",
    "\n",
    "    joblib.dump(model, os.path.join(data_out, 'lasso_model_val_'+str(n)+'.pkl'))\n",
    "    df_results.to_csv(os.path.join(data_out, 'accuracy_lasso_val.csv'), index=True)"
   ]
  },
  {
   "cell_type": "code",
   "execution_count": 21,
   "metadata": {
    "ExecuteTime": {
     "end_time": "2021-04-12T20:55:37.831826Z",
     "start_time": "2021-04-12T20:55:37.825355Z"
    },
    "code_folding": []
   },
   "outputs": [
    {
     "name": "stdout",
     "output_type": "stream",
     "text": [
      "Train accuracy = 1.000 +/- 0.000\n",
      "Valid accuracy = 0.938 +/- 0.052\n",
      "Test accuracy = 0.932 +/- 0.070\n"
     ]
    }
   ],
   "source": [
    "# Display results\n",
    "data_out = 'data_lasso_11Radiotherapy/partitions'\n",
    "accuracy_lasso = pd.read_csv(os.path.join(data_out, 'accuracy_lasso_val.csv'))\n",
    "print(\"Train accuracy = {:.3f} +/- {:.3f}\".format(accuracy_lasso['train_acc'].mean(), \n",
    "                                                  accuracy_lasso['train_acc'].std()))\n",
    "print(\"Valid accuracy = {:.3f} +/- {:.3f}\".format(accuracy_lasso['valid_acc'].mean(), \n",
    "                                                  accuracy_lasso['valid_acc'].std()))\n",
    "print(\"Test accuracy = {:.3f} +/- {:.3f}\".format(accuracy_lasso['test_acc'].mean(), \n",
    "                                                 accuracy_lasso['test_acc'].std()))"
   ]
  },
  {
   "cell_type": "markdown",
   "metadata": {},
   "source": [
    "* ### Gradient Boosting"
   ]
  },
  {
   "cell_type": "code",
   "execution_count": 193,
   "metadata": {
    "ExecuteTime": {
     "end_time": "2021-02-25T02:31:15.342186Z",
     "start_time": "2021-02-25T02:30:54.919275Z"
    },
    "code_folding": [
     0
    ]
   },
   "outputs": [],
   "source": [
    "# Load data\n",
    "load_data('dataset_11Radiotherapy')\n",
    "\n",
    "# transform tensors to NumPy arrays\n",
    "xtrain = xtrain.numpy()\n",
    "xvalid = xvalid.numpy()\n",
    "xtest = xtest.numpy()\n",
    "\n",
    "ytrain = ytrain.numpy()\n",
    "yvalid = yvalid.numpy()\n",
    "ytest = ytest.numpy()"
   ]
  },
  {
   "cell_type": "code",
   "execution_count": 194,
   "metadata": {
    "ExecuteTime": {
     "end_time": "2021-02-25T02:31:15.433676Z",
     "start_time": "2021-02-25T02:31:15.344095Z"
    },
    "code_folding": [
     0
    ]
   },
   "outputs": [],
   "source": [
    "# Normalize data sets\n",
    "scaler = StandardScaler()\n",
    "scaler.fit(xtrain)\n",
    "xtrain = scaler.transform(xtrain)\n",
    "xvalid = scaler.transform(xvalid)\n",
    "xtest  = scaler.transform(xtest)"
   ]
  },
  {
   "cell_type": "code",
   "execution_count": 195,
   "metadata": {
    "ExecuteTime": {
     "end_time": "2021-02-25T02:31:15.897687Z",
     "start_time": "2021-02-25T02:31:15.436092Z"
    },
    "code_folding": [
     0
    ]
   },
   "outputs": [],
   "source": [
    "# Build DMatrices\n",
    "dtrain = xgb.DMatrix(data=xtrain, label=ytrain, nthread=10, feature_names=cols_all)\n",
    "dvalid = xgb.DMatrix(data=xvalid, label=yvalid, nthread=10, feature_names=cols_all)\n",
    "dtest  = xgb.DMatrix(data=xtest,  label=ytest,  nthread=10, feature_names=cols_all)\n",
    "\n",
    "valid_list = [(dtrain, 'train'), (dvalid, 'valid')]"
   ]
  },
  {
   "cell_type": "code",
   "execution_count": 196,
   "metadata": {
    "ExecuteTime": {
     "end_time": "2021-02-25T02:31:53.901966Z",
     "start_time": "2021-02-25T02:31:53.898043Z"
    },
    "code_folding": [
     0
    ]
   },
   "outputs": [],
   "source": [
    "# Grid search space\n",
    "grid_eta   = np.geomspace(0.01, 0.99, num=100)\n",
    "grid_depth = [1, 2, 3, 4, 5]\n",
    "grid_param = [(eta, max_depth) for eta in grid_eta\n",
    "                               for max_depth in grid_depth]\n",
    "\n",
    "param = [('eta', 0.01), \n",
    "         ('max_depth', 2), \n",
    "         ('objective', 'binary:logistic'), \n",
    "         ('nthread', 10),\n",
    "         ('eval_metric', 'logloss')\n",
    "]"
   ]
  },
  {
   "cell_type": "code",
   "execution_count": 197,
   "metadata": {
    "ExecuteTime": {
     "end_time": "2021-02-25T04:30:15.794496Z",
     "start_time": "2021-02-25T02:32:14.698089Z"
    },
    "code_folding": [
     0
    ],
    "scrolled": true
   },
   "outputs": [
    {
     "name": "stdout",
     "output_type": "stream",
     "text": [
      "eta=0.01, max_depth=1 | valid_logloss=0.29871 (iters=919)\n",
      "eta=0.01, max_depth=2 | valid_logloss=0.20671 (iters=539)\n",
      "eta=0.01, max_depth=3 | valid_logloss=0.24940 (iters=545)\n",
      "eta=0.01, max_depth=4 | valid_logloss=0.24954 (iters=528)\n",
      "eta=0.01, max_depth=5 | valid_logloss=0.24954 (iters=528)\n",
      "eta=0.010475094057619858, max_depth=1 | valid_logloss=0.29836 (iters=839)\n",
      "eta=0.010475094057619858, max_depth=2 | valid_logloss=0.21246 (iters=518)\n",
      "eta=0.010475094057619858, max_depth=3 | valid_logloss=0.24616 (iters=505)\n",
      "eta=0.010475094057619858, max_depth=4 | valid_logloss=0.24868 (iters=549)\n",
      "eta=0.010475094057619858, max_depth=5 | valid_logloss=0.24868 (iters=549)\n",
      "eta=0.010972759551598283, max_depth=1 | valid_logloss=0.29863 (iters=805)\n",
      "eta=0.010972759551598283, max_depth=2 | valid_logloss=0.21305 (iters=491)\n",
      "eta=0.010972759551598283, max_depth=3 | valid_logloss=0.24249 (iters=481)\n",
      "eta=0.010972759551598283, max_depth=4 | valid_logloss=0.24564 (iters=474)\n",
      "eta=0.010972759551598283, max_depth=5 | valid_logloss=0.24564 (iters=474)\n",
      "eta=0.01149406883746387, max_depth=1 | valid_logloss=0.29993 (iters=727)\n",
      "eta=0.01149406883746387, max_depth=2 | valid_logloss=0.21299 (iters=449)\n",
      "eta=0.01149406883746387, max_depth=3 | valid_logloss=0.24772 (iters=473)\n",
      "eta=0.01149406883746387, max_depth=4 | valid_logloss=0.24518 (iters=472)\n",
      "eta=0.01149406883746387, max_depth=5 | valid_logloss=0.24518 (iters=472)\n",
      "eta=0.012040145217719136, max_depth=1 | valid_logloss=0.29947 (iters=713)\n",
      "eta=0.012040145217719136, max_depth=2 | valid_logloss=0.20858 (iters=430)\n",
      "eta=0.012040145217719136, max_depth=3 | valid_logloss=0.24707 (iters=505)\n",
      "eta=0.012040145217719136, max_depth=4 | valid_logloss=0.25023 (iters=446)\n",
      "eta=0.012040145217719136, max_depth=5 | valid_logloss=0.25023 (iters=446)\n",
      "eta=0.01261216536230098, max_depth=1 | valid_logloss=0.29875 (iters=686)\n",
      "eta=0.01261216536230098, max_depth=2 | valid_logloss=0.20833 (iters=444)\n",
      "eta=0.01261216536230098, max_depth=3 | valid_logloss=0.24593 (iters=428)\n",
      "eta=0.01261216536230098, max_depth=4 | valid_logloss=0.24452 (iters=411)\n",
      "eta=0.01261216536230098, max_depth=5 | valid_logloss=0.24452 (iters=411)\n",
      "eta=0.0132113618440358, max_depth=1 | valid_logloss=0.30079 (iters=612)\n",
      "eta=0.0132113618440358, max_depth=2 | valid_logloss=0.21092 (iters=420)\n",
      "eta=0.0132113618440358, max_depth=3 | valid_logloss=0.24591 (iters=433)\n",
      "eta=0.0132113618440358, max_depth=4 | valid_logloss=0.24796 (iters=384)\n",
      "eta=0.0132113618440358, max_depth=5 | valid_logloss=0.24796 (iters=384)\n",
      "eta=0.01383902579455251, max_depth=1 | valid_logloss=0.30120 (iters=586)\n",
      "eta=0.01383902579455251, max_depth=2 | valid_logloss=0.21247 (iters=404)\n",
      "eta=0.01383902579455251, max_depth=3 | valid_logloss=0.24785 (iters=403)\n",
      "eta=0.01383902579455251, max_depth=4 | valid_logloss=0.24768 (iters=385)\n",
      "eta=0.01383902579455251, max_depth=5 | valid_logloss=0.24768 (iters=385)\n",
      "eta=0.014496509686376493, max_depth=1 | valid_logloss=0.29943 (iters=571)\n",
      "eta=0.014496509686376493, max_depth=2 | valid_logloss=0.20820 (iters=368)\n",
      "eta=0.014496509686376493, max_depth=3 | valid_logloss=0.24898 (iters=396)\n",
      "eta=0.014496509686376493, max_depth=4 | valid_logloss=0.24960 (iters=374)\n",
      "eta=0.014496509686376493, max_depth=5 | valid_logloss=0.24960 (iters=374)\n",
      "eta=0.01518523024719911, max_depth=1 | valid_logloss=0.30003 (iters=556)\n",
      "eta=0.01518523024719911, max_depth=2 | valid_logloss=0.21279 (iters=343)\n",
      "eta=0.01518523024719911, max_depth=3 | valid_logloss=0.25039 (iters=394)\n",
      "eta=0.01518523024719911, max_depth=4 | valid_logloss=0.24790 (iters=350)\n",
      "eta=0.01518523024719911, max_depth=5 | valid_logloss=0.24790 (iters=350)\n",
      "eta=0.015906671512602468, max_depth=1 | valid_logloss=0.30042 (iters=525)\n",
      "eta=0.015906671512602468, max_depth=2 | valid_logloss=0.21148 (iters=336)\n",
      "eta=0.015906671512602468, max_depth=3 | valid_logloss=0.25236 (iters=380)\n",
      "eta=0.015906671512602468, max_depth=4 | valid_logloss=0.25236 (iters=380)\n",
      "eta=0.015906671512602468, max_depth=5 | valid_logloss=0.25236 (iters=380)\n",
      "eta=0.01666238802381732, max_depth=1 | valid_logloss=0.30167 (iters=491)\n",
      "eta=0.01666238802381732, max_depth=2 | valid_logloss=0.20752 (iters=320)\n",
      "eta=0.01666238802381732, max_depth=3 | valid_logloss=0.24701 (iters=342)\n",
      "eta=0.01666238802381732, max_depth=4 | valid_logloss=0.24701 (iters=342)\n",
      "eta=0.01666238802381732, max_depth=5 | valid_logloss=0.24701 (iters=342)\n",
      "eta=0.017454008177404508, max_depth=1 | valid_logloss=0.29872 (iters=519)\n",
      "eta=0.017454008177404508, max_depth=2 | valid_logloss=0.20642 (iters=325)\n",
      "eta=0.017454008177404508, max_depth=3 | valid_logloss=0.25082 (iters=314)\n",
      "eta=0.017454008177404508, max_depth=4 | valid_logloss=0.25082 (iters=314)\n",
      "eta=0.017454008177404508, max_depth=5 | valid_logloss=0.25082 (iters=314)\n",
      "eta=0.018283237734077824, max_depth=1 | valid_logloss=0.29710 (iters=491)\n",
      "eta=0.018283237734077824, max_depth=2 | valid_logloss=0.20834 (iters=310)\n",
      "eta=0.018283237734077824, max_depth=3 | valid_logloss=0.24877 (iters=290)\n",
      "eta=0.018283237734077824, max_depth=4 | valid_logloss=0.25236 (iters=292)\n",
      "eta=0.018283237734077824, max_depth=5 | valid_logloss=0.25236 (iters=292)\n",
      "eta=0.019151863494228975, max_depth=1 | valid_logloss=0.29688 (iters=478)\n",
      "eta=0.019151863494228975, max_depth=2 | valid_logloss=0.21723 (iters=275)\n",
      "eta=0.019151863494228975, max_depth=3 | valid_logloss=0.24202 (iters=282)\n",
      "eta=0.019151863494228975, max_depth=4 | valid_logloss=0.24202 (iters=282)\n",
      "eta=0.019151863494228975, max_depth=5 | valid_logloss=0.24202 (iters=282)\n",
      "eta=0.020061757148074462, max_depth=1 | valid_logloss=0.29727 (iters=433)\n",
      "eta=0.020061757148074462, max_depth=2 | valid_logloss=0.20970 (iters=260)\n",
      "eta=0.020061757148074462, max_depth=3 | valid_logloss=0.24418 (iters=273)\n",
      "eta=0.020061757148074462, max_depth=4 | valid_logloss=0.24554 (iters=288)\n",
      "eta=0.020061757148074462, max_depth=5 | valid_logloss=0.24554 (iters=288)\n",
      "eta=0.021014879308720747, max_depth=1 | valid_logloss=0.29793 (iters=404)\n",
      "eta=0.021014879308720747, max_depth=2 | valid_logloss=0.20814 (iters=249)\n",
      "eta=0.021014879308720747, max_depth=3 | valid_logloss=0.25128 (iters=263)\n",
      "eta=0.021014879308720747, max_depth=4 | valid_logloss=0.25728 (iters=260)\n",
      "eta=0.021014879308720747, max_depth=5 | valid_logloss=0.25728 (iters=260)\n",
      "eta=0.02201328373683792, max_depth=1 | valid_logloss=0.29851 (iters=381)\n",
      "eta=0.02201328373683792, max_depth=2 | valid_logloss=0.21971 (iters=235)\n",
      "eta=0.02201328373683792, max_depth=3 | valid_logloss=0.25199 (iters=236)\n",
      "eta=0.02201328373683792, max_depth=4 | valid_logloss=0.24458 (iters=242)\n",
      "eta=0.02201328373683792, max_depth=5 | valid_logloss=0.24458 (iters=242)\n",
      "eta=0.023059121766045073, max_depth=1 | valid_logloss=0.29848 (iters=392)\n",
      "eta=0.023059121766045073, max_depth=2 | valid_logloss=0.21344 (iters=231)\n",
      "eta=0.023059121766045073, max_depth=3 | valid_logloss=0.24711 (iters=248)\n",
      "eta=0.023059121766045073, max_depth=4 | valid_logloss=0.24711 (iters=248)\n",
      "eta=0.023059121766045073, max_depth=5 | valid_logloss=0.24711 (iters=248)\n",
      "eta=0.02415464693854314, max_depth=1 | valid_logloss=0.29829 (iters=343)\n",
      "eta=0.02415464693854314, max_depth=2 | valid_logloss=0.21540 (iters=213)\n",
      "eta=0.02415464693854314, max_depth=3 | valid_logloss=0.25124 (iters=244)\n",
      "eta=0.02415464693854314, max_depth=4 | valid_logloss=0.24253 (iters=217)\n",
      "eta=0.02415464693854314, max_depth=5 | valid_logloss=0.24253 (iters=217)\n",
      "eta=0.025302219860983893, max_depth=1 | valid_logloss=0.29888 (iters=365)\n",
      "eta=0.025302219860983893, max_depth=2 | valid_logloss=0.21230 (iters=222)\n",
      "eta=0.025302219860983893, max_depth=3 | valid_logloss=0.24702 (iters=226)\n",
      "eta=0.025302219860983893, max_depth=4 | valid_logloss=0.24702 (iters=226)\n",
      "eta=0.025302219860983893, max_depth=5 | valid_logloss=0.24702 (iters=226)\n",
      "eta=0.02650431329103835, max_depth=1 | valid_logloss=0.29734 (iters=338)\n",
      "eta=0.02650431329103835, max_depth=2 | valid_logloss=0.21147 (iters=212)\n",
      "eta=0.02650431329103835, max_depth=3 | valid_logloss=0.24512 (iters=216)\n",
      "eta=0.02650431329103835, max_depth=4 | valid_logloss=0.25296 (iters=209)\n",
      "eta=0.02650431329103835, max_depth=5 | valid_logloss=0.25296 (iters=209)\n",
      "eta=0.02776351746562508, max_depth=1 | valid_logloss=0.29736 (iters=326)\n",
      "eta=0.02776351746562508, max_depth=2 | valid_logloss=0.20534 (iters=201)\n",
      "eta=0.02776351746562508, max_depth=3 | valid_logloss=0.25196 (iters=208)\n"
     ]
    },
    {
     "name": "stdout",
     "output_type": "stream",
     "text": [
      "eta=0.02776351746562508, max_depth=4 | valid_logloss=0.24295 (iters=209)\n",
      "eta=0.02776351746562508, max_depth=5 | valid_logloss=0.24295 (iters=209)\n",
      "eta=0.02908254568227944, max_depth=1 | valid_logloss=0.29656 (iters=320)\n",
      "eta=0.02908254568227944, max_depth=2 | valid_logloss=0.21290 (iters=173)\n",
      "eta=0.02908254568227944, max_depth=3 | valid_logloss=0.25206 (iters=171)\n",
      "eta=0.02908254568227944, max_depth=4 | valid_logloss=0.24563 (iters=180)\n",
      "eta=0.02908254568227944, max_depth=5 | valid_logloss=0.24563 (iters=180)\n",
      "eta=0.03046424014569034, max_depth=1 | valid_logloss=0.29475 (iters=279)\n",
      "eta=0.03046424014569034, max_depth=2 | valid_logloss=0.20694 (iters=182)\n",
      "eta=0.03046424014569034, max_depth=3 | valid_logloss=0.25379 (iters=175)\n",
      "eta=0.03046424014569034, max_depth=4 | valid_logloss=0.25379 (iters=175)\n",
      "eta=0.03046424014569034, max_depth=5 | valid_logloss=0.25379 (iters=175)\n",
      "eta=0.03191157809200251, max_depth=1 | valid_logloss=0.29682 (iters=275)\n",
      "eta=0.03191157809200251, max_depth=2 | valid_logloss=0.21253 (iters=176)\n",
      "eta=0.03191157809200251, max_depth=3 | valid_logloss=0.25195 (iters=157)\n",
      "eta=0.03191157809200251, max_depth=4 | valid_logloss=0.25013 (iters=167)\n",
      "eta=0.03191157809200251, max_depth=5 | valid_logloss=0.25013 (iters=167)\n",
      "eta=0.03342767820408074, max_depth=1 | valid_logloss=0.29507 (iters=284)\n",
      "eta=0.03342767820408074, max_depth=2 | valid_logloss=0.21296 (iters=150)\n",
      "eta=0.03342767820408074, max_depth=3 | valid_logloss=0.24891 (iters=178)\n",
      "eta=0.03342767820408074, max_depth=4 | valid_logloss=0.24891 (iters=178)\n",
      "eta=0.03342767820408074, max_depth=5 | valid_logloss=0.24891 (iters=178)\n",
      "eta=0.0350158073315595, max_depth=1 | valid_logloss=0.29656 (iters=252)\n",
      "eta=0.0350158073315595, max_depth=2 | valid_logloss=0.21322 (iters=158)\n",
      "eta=0.0350158073315595, max_depth=3 | valid_logloss=0.25129 (iters=187)\n",
      "eta=0.0350158073315595, max_depth=4 | valid_logloss=0.25484 (iters=185)\n",
      "eta=0.0350158073315595, max_depth=5 | valid_logloss=0.25484 (iters=185)\n",
      "eta=0.03667938753015807, max_depth=1 | valid_logloss=0.29687 (iters=237)\n",
      "eta=0.03667938753015807, max_depth=2 | valid_logloss=0.20942 (iters=145)\n",
      "eta=0.03667938753015807, max_depth=3 | valid_logloss=0.25162 (iters=138)\n",
      "eta=0.03667938753015807, max_depth=4 | valid_logloss=0.25470 (iters=150)\n",
      "eta=0.03667938753015807, max_depth=5 | valid_logloss=0.25470 (iters=150)\n",
      "eta=0.038422003435429467, max_depth=1 | valid_logloss=0.29647 (iters=238)\n",
      "eta=0.038422003435429467, max_depth=2 | valid_logloss=0.21337 (iters=141)\n",
      "eta=0.038422003435429467, max_depth=3 | valid_logloss=0.24407 (iters=145)\n",
      "eta=0.038422003435429467, max_depth=4 | valid_logloss=0.24407 (iters=145)\n",
      "eta=0.038422003435429467, max_depth=5 | valid_logloss=0.24407 (iters=145)\n",
      "eta=0.04024740998683167, max_depth=1 | valid_logloss=0.29222 (iters=232)\n",
      "eta=0.04024740998683167, max_depth=2 | valid_logloss=0.21720 (iters=121)\n",
      "eta=0.04024740998683167, max_depth=3 | valid_logloss=0.26590 (iters=126)\n",
      "eta=0.04024740998683167, max_depth=4 | valid_logloss=0.25742 (iters=149)\n",
      "eta=0.04024740998683167, max_depth=5 | valid_logloss=0.25742 (iters=149)\n",
      "eta=0.042159540518765054, max_depth=1 | valid_logloss=0.29273 (iters=253)\n",
      "eta=0.042159540518765054, max_depth=2 | valid_logloss=0.21371 (iters=119)\n",
      "eta=0.042159540518765054, max_depth=3 | valid_logloss=0.25289 (iters=125)\n",
      "eta=0.042159540518765054, max_depth=4 | valid_logloss=0.25289 (iters=125)\n",
      "eta=0.042159540518765054, max_depth=5 | valid_logloss=0.25289 (iters=125)\n",
      "eta=0.04416251523600994, max_depth=1 | valid_logloss=0.29597 (iters=202)\n",
      "eta=0.04416251523600994, max_depth=2 | valid_logloss=0.21457 (iters=120)\n",
      "eta=0.04416251523600994, max_depth=3 | valid_logloss=0.25488 (iters=126)\n",
      "eta=0.04416251523600994, max_depth=4 | valid_logloss=0.25488 (iters=126)\n",
      "eta=0.04416251523600994, max_depth=5 | valid_logloss=0.25488 (iters=126)\n",
      "eta=0.04626065009182741, max_depth=1 | valid_logloss=0.29553 (iters=192)\n",
      "eta=0.04626065009182741, max_depth=2 | valid_logloss=0.21292 (iters=115)\n",
      "eta=0.04626065009182741, max_depth=3 | valid_logloss=0.26637 (iters=130)\n",
      "eta=0.04626065009182741, max_depth=4 | valid_logloss=0.26637 (iters=130)\n",
      "eta=0.04626065009182741, max_depth=5 | valid_logloss=0.26637 (iters=130)\n",
      "eta=0.04845846608785328, max_depth=1 | valid_logloss=0.29236 (iters=200)\n",
      "eta=0.04845846608785328, max_depth=2 | valid_logloss=0.21533 (iters=110)\n",
      "eta=0.04845846608785328, max_depth=3 | valid_logloss=0.25040 (iters=111)\n",
      "eta=0.04845846608785328, max_depth=4 | valid_logloss=0.25040 (iters=111)\n",
      "eta=0.04845846608785328, max_depth=5 | valid_logloss=0.25040 (iters=111)\n",
      "eta=0.05076069901582452, max_depth=1 | valid_logloss=0.29396 (iters=193)\n",
      "eta=0.05076069901582452, max_depth=2 | valid_logloss=0.21038 (iters=102)\n",
      "eta=0.05076069901582452, max_depth=3 | valid_logloss=0.26552 (iters=97)\n",
      "eta=0.05076069901582452, max_depth=4 | valid_logloss=0.26552 (iters=97)\n",
      "eta=0.05076069901582452, max_depth=5 | valid_logloss=0.26552 (iters=97)\n",
      "eta=0.05317230966212936, max_depth=1 | valid_logloss=0.29143 (iters=182)\n",
      "eta=0.05317230966212936, max_depth=2 | valid_logloss=0.21844 (iters=97)\n",
      "eta=0.05317230966212936, max_depth=3 | valid_logloss=0.24224 (iters=87)\n",
      "eta=0.05317230966212936, max_depth=4 | valid_logloss=0.24224 (iters=87)\n",
      "eta=0.05317230966212936, max_depth=5 | valid_logloss=0.24224 (iters=87)\n",
      "eta=0.05569849449716941, max_depth=1 | valid_logloss=0.29646 (iters=159)\n",
      "eta=0.05569849449716941, max_depth=2 | valid_logloss=0.20894 (iters=102)\n",
      "eta=0.05569849449716941, max_depth=3 | valid_logloss=0.24959 (iters=105)\n",
      "eta=0.05569849449716941, max_depth=4 | valid_logloss=0.24959 (iters=105)\n",
      "eta=0.05569849449716941, max_depth=5 | valid_logloss=0.24959 (iters=105)\n",
      "eta=0.05834469687256716, max_depth=1 | valid_logloss=0.29356 (iters=159)\n",
      "eta=0.05834469687256716, max_depth=2 | valid_logloss=0.21529 (iters=90)\n",
      "eta=0.05834469687256716, max_depth=3 | valid_logloss=0.25429 (iters=85)\n",
      "eta=0.05834469687256716, max_depth=4 | valid_logloss=0.25082 (iters=83)\n",
      "eta=0.05834469687256716, max_depth=5 | valid_logloss=0.25082 (iters=83)\n",
      "eta=0.06111661875034601, max_depth=1 | valid_logloss=0.29517 (iters=141)\n",
      "eta=0.06111661875034601, max_depth=2 | valid_logloss=0.21526 (iters=75)\n",
      "eta=0.06111661875034601, max_depth=3 | valid_logloss=0.25937 (iters=92)\n",
      "eta=0.06111661875034601, max_depth=4 | valid_logloss=0.25937 (iters=92)\n",
      "eta=0.06111661875034601, max_depth=5 | valid_logloss=0.25937 (iters=92)\n",
      "eta=0.06402023298935679, max_depth=1 | valid_logloss=0.29192 (iters=166)\n",
      "eta=0.06402023298935679, max_depth=2 | valid_logloss=0.21432 (iters=80)\n",
      "eta=0.06402023298935679, max_depth=3 | valid_logloss=0.25690 (iters=76)\n",
      "eta=0.06402023298935679, max_depth=4 | valid_logloss=0.25690 (iters=76)\n",
      "eta=0.06402023298935679, max_depth=5 | valid_logloss=0.25690 (iters=76)\n",
      "eta=0.06706179621542499, max_depth=1 | valid_logloss=0.29304 (iters=116)\n",
      "eta=0.06706179621542499, max_depth=2 | valid_logloss=0.20187 (iters=84)\n",
      "eta=0.06706179621542499, max_depth=3 | valid_logloss=0.26176 (iters=101)\n",
      "eta=0.06706179621542499, max_depth=4 | valid_logloss=0.26176 (iters=101)\n",
      "eta=0.06706179621542499, max_depth=5 | valid_logloss=0.26176 (iters=101)\n",
      "eta=0.07024786230295121, max_depth=1 | valid_logloss=0.29007 (iters=132)\n",
      "eta=0.07024786230295121, max_depth=2 | valid_logloss=0.21943 (iters=66)\n",
      "eta=0.07024786230295121, max_depth=3 | valid_logloss=0.25932 (iters=73)\n",
      "eta=0.07024786230295121, max_depth=4 | valid_logloss=0.25932 (iters=73)\n",
      "eta=0.07024786230295121, max_depth=5 | valid_logloss=0.25932 (iters=73)\n",
      "eta=0.07358529649701423, max_depth=1 | valid_logloss=0.29030 (iters=153)\n",
      "eta=0.07358529649701423, max_depth=2 | valid_logloss=0.21828 (iters=76)\n",
      "eta=0.07358529649701423, max_depth=3 | valid_logloss=0.25871 (iters=68)\n",
      "eta=0.07358529649701423, max_depth=4 | valid_logloss=0.25871 (iters=68)\n",
      "eta=0.07358529649701423, max_depth=5 | valid_logloss=0.25871 (iters=68)\n",
      "eta=0.07708129020640686, max_depth=1 | valid_logloss=0.29293 (iters=135)\n",
      "eta=0.07708129020640686, max_depth=2 | valid_logloss=0.21079 (iters=86)\n",
      "eta=0.07708129020640686, max_depth=3 | valid_logloss=0.25526 (iters=85)\n",
      "eta=0.07708129020640686, max_depth=4 | valid_logloss=0.25526 (iters=85)\n",
      "eta=0.07708129020640686, max_depth=5 | valid_logloss=0.25526 (iters=85)\n",
      "eta=0.08074337649948042, max_depth=1 | valid_logloss=0.29106 (iters=141)\n"
     ]
    },
    {
     "name": "stdout",
     "output_type": "stream",
     "text": [
      "eta=0.08074337649948042, max_depth=2 | valid_logloss=0.21922 (iters=73)\n",
      "eta=0.08074337649948042, max_depth=3 | valid_logloss=0.26037 (iters=74)\n",
      "eta=0.08074337649948042, max_depth=4 | valid_logloss=0.26037 (iters=74)\n",
      "eta=0.08074337649948042, max_depth=5 | valid_logloss=0.26037 (iters=74)\n",
      "eta=0.08457944633618701, max_depth=1 | valid_logloss=0.29039 (iters=113)\n",
      "eta=0.08457944633618701, max_depth=2 | valid_logloss=0.20487 (iters=64)\n",
      "eta=0.08457944633618701, max_depth=3 | valid_logloss=0.27043 (iters=79)\n",
      "eta=0.08457944633618701, max_depth=4 | valid_logloss=0.27043 (iters=79)\n",
      "eta=0.08457944633618701, max_depth=5 | valid_logloss=0.27043 (iters=79)\n",
      "eta=0.088597765571297, max_depth=1 | valid_logloss=0.29096 (iters=88)\n",
      "eta=0.088597765571297, max_depth=2 | valid_logloss=0.21521 (iters=64)\n",
      "eta=0.088597765571297, max_depth=3 | valid_logloss=0.26196 (iters=62)\n",
      "eta=0.088597765571297, max_depth=4 | valid_logloss=0.26196 (iters=62)\n",
      "eta=0.088597765571297, max_depth=5 | valid_logloss=0.26196 (iters=62)\n",
      "eta=0.09280699276542904, max_depth=1 | valid_logloss=0.28821 (iters=105)\n",
      "eta=0.09280699276542904, max_depth=2 | valid_logloss=0.21135 (iters=57)\n",
      "eta=0.09280699276542904, max_depth=3 | valid_logloss=0.25032 (iters=59)\n",
      "eta=0.09280699276542904, max_depth=4 | valid_logloss=0.25032 (iters=59)\n",
      "eta=0.09280699276542904, max_depth=5 | valid_logloss=0.25032 (iters=59)\n",
      "eta=0.09721619784227144, max_depth=1 | valid_logloss=0.29590 (iters=85)\n",
      "eta=0.09721619784227144, max_depth=2 | valid_logloss=0.22333 (iters=49)\n",
      "eta=0.09721619784227144, max_depth=3 | valid_logloss=0.26406 (iters=64)\n",
      "eta=0.09721619784227144, max_depth=4 | valid_logloss=0.26406 (iters=64)\n",
      "eta=0.09721619784227144, max_depth=5 | valid_logloss=0.26406 (iters=64)\n",
      "eta=0.10183488163219744, max_depth=1 | valid_logloss=0.28691 (iters=101)\n",
      "eta=0.10183488163219744, max_depth=2 | valid_logloss=0.22440 (iters=51)\n",
      "eta=0.10183488163219744, max_depth=3 | valid_logloss=0.26751 (iters=50)\n",
      "eta=0.10183488163219744, max_depth=4 | valid_logloss=0.26751 (iters=50)\n",
      "eta=0.10183488163219744, max_depth=5 | valid_logloss=0.26751 (iters=50)\n",
      "eta=0.10667299634438523, max_depth=1 | valid_logloss=0.28683 (iters=74)\n",
      "eta=0.10667299634438523, max_depth=2 | valid_logloss=0.23156 (iters=62)\n",
      "eta=0.10667299634438523, max_depth=3 | valid_logloss=0.26362 (iters=51)\n",
      "eta=0.10667299634438523, max_depth=4 | valid_logloss=0.26362 (iters=51)\n",
      "eta=0.10667299634438523, max_depth=5 | valid_logloss=0.26362 (iters=51)\n",
      "eta=0.11174096701155745, max_depth=1 | valid_logloss=0.28841 (iters=78)\n",
      "eta=0.11174096701155745, max_depth=2 | valid_logloss=0.22439 (iters=51)\n",
      "eta=0.11174096701155745, max_depth=3 | valid_logloss=0.25977 (iters=43)\n",
      "eta=0.11174096701155745, max_depth=4 | valid_logloss=0.25977 (iters=43)\n",
      "eta=0.11174096701155745, max_depth=5 | valid_logloss=0.25977 (iters=43)\n",
      "eta=0.11704971395354619, max_depth=1 | valid_logloss=0.28390 (iters=82)\n",
      "eta=0.11704971395354619, max_depth=2 | valid_logloss=0.22446 (iters=44)\n",
      "eta=0.11704971395354619, max_depth=3 | valid_logloss=0.25847 (iters=42)\n",
      "eta=0.11704971395354619, max_depth=4 | valid_logloss=0.25847 (iters=42)\n",
      "eta=0.11704971395354619, max_depth=5 | valid_logloss=0.25847 (iters=42)\n",
      "eta=0.12261067630808957, max_depth=1 | valid_logloss=0.29292 (iters=99)\n",
      "eta=0.12261067630808957, max_depth=2 | valid_logloss=0.20962 (iters=41)\n",
      "eta=0.12261067630808957, max_depth=3 | valid_logloss=0.27611 (iters=42)\n",
      "eta=0.12261067630808957, max_depth=4 | valid_logloss=0.27611 (iters=42)\n",
      "eta=0.12261067630808957, max_depth=5 | valid_logloss=0.27611 (iters=42)\n",
      "eta=0.12843583667956207, max_depth=1 | valid_logloss=0.28676 (iters=75)\n",
      "eta=0.12843583667956207, max_depth=2 | valid_logloss=0.20487 (iters=45)\n",
      "eta=0.12843583667956207, max_depth=3 | valid_logloss=0.26820 (iters=46)\n",
      "eta=0.12843583667956207, max_depth=4 | valid_logloss=0.26820 (iters=46)\n",
      "eta=0.12843583667956207, max_depth=5 | valid_logloss=0.26820 (iters=46)\n",
      "eta=0.13453774695875154, max_depth=1 | valid_logloss=0.29263 (iters=78)\n",
      "eta=0.13453774695875154, max_depth=2 | valid_logloss=0.20510 (iters=42)\n",
      "eta=0.13453774695875154, max_depth=3 | valid_logloss=0.23564 (iters=48)\n",
      "eta=0.13453774695875154, max_depth=4 | valid_logloss=0.23564 (iters=48)\n",
      "eta=0.13453774695875154, max_depth=5 | valid_logloss=0.23564 (iters=48)\n",
      "eta=0.1409295553693182, max_depth=1 | valid_logloss=0.28799 (iters=57)\n",
      "eta=0.1409295553693182, max_depth=2 | valid_logloss=0.23115 (iters=37)\n",
      "eta=0.1409295553693182, max_depth=3 | valid_logloss=0.25172 (iters=51)\n",
      "eta=0.1409295553693182, max_depth=4 | valid_logloss=0.25172 (iters=51)\n",
      "eta=0.1409295553693182, max_depth=5 | valid_logloss=0.25172 (iters=51)\n",
      "eta=0.14762503479921538, max_depth=1 | valid_logloss=0.29690 (iters=48)\n",
      "eta=0.14762503479921538, max_depth=2 | valid_logloss=0.22082 (iters=32)\n",
      "eta=0.14762503479921538, max_depth=3 | valid_logloss=0.24378 (iters=42)\n",
      "eta=0.14762503479921538, max_depth=4 | valid_logloss=0.24378 (iters=42)\n",
      "eta=0.14762503479921538, max_depth=5 | valid_logloss=0.24378 (iters=42)\n",
      "eta=0.15463861247811855, max_depth=1 | valid_logloss=0.28049 (iters=68)\n",
      "eta=0.15463861247811855, max_depth=2 | valid_logloss=0.23546 (iters=34)\n",
      "eta=0.15463861247811855, max_depth=3 | valid_logloss=0.23112 (iters=40)\n",
      "eta=0.15463861247811855, max_depth=4 | valid_logloss=0.23112 (iters=40)\n",
      "eta=0.15463861247811855, max_depth=5 | valid_logloss=0.23112 (iters=40)\n",
      "eta=0.16198540106481188, max_depth=1 | valid_logloss=0.28974 (iters=47)\n",
      "eta=0.16198540106481188, max_depth=2 | valid_logloss=0.18751 (iters=34)\n",
      "eta=0.16198540106481188, max_depth=3 | valid_logloss=0.24192 (iters=41)\n",
      "eta=0.16198540106481188, max_depth=4 | valid_logloss=0.24192 (iters=41)\n",
      "eta=0.16198540106481188, max_depth=5 | valid_logloss=0.24192 (iters=41)\n",
      "eta=0.169681231211518, max_depth=1 | valid_logloss=0.29906 (iters=48)\n",
      "eta=0.169681231211518, max_depth=2 | valid_logloss=0.20877 (iters=27)\n",
      "eta=0.169681231211518, max_depth=3 | valid_logloss=0.25697 (iters=35)\n",
      "eta=0.169681231211518, max_depth=4 | valid_logloss=0.25697 (iters=35)\n",
      "eta=0.169681231211518, max_depth=5 | valid_logloss=0.25697 (iters=35)\n",
      "eta=0.17774268567533932, max_depth=1 | valid_logloss=0.28785 (iters=47)\n",
      "eta=0.17774268567533932, max_depth=2 | valid_logloss=0.18442 (iters=40)\n",
      "eta=0.17774268567533932, max_depth=3 | valid_logloss=0.24660 (iters=33)\n",
      "eta=0.17774268567533932, max_depth=4 | valid_logloss=0.24660 (iters=33)\n",
      "eta=0.17774268567533932, max_depth=5 | valid_logloss=0.24660 (iters=33)\n",
      "eta=0.1861871350503141, max_depth=1 | valid_logloss=0.28889 (iters=46)\n",
      "eta=0.1861871350503141, max_depth=2 | valid_logloss=0.19823 (iters=23)\n",
      "eta=0.1861871350503141, max_depth=3 | valid_logloss=0.24969 (iters=24)\n",
      "eta=0.1861871350503141, max_depth=4 | valid_logloss=0.24969 (iters=24)\n",
      "eta=0.1861871350503141, max_depth=5 | valid_logloss=0.24969 (iters=24)\n",
      "eta=0.1950327751970811, max_depth=1 | valid_logloss=0.30019 (iters=48)\n",
      "eta=0.1950327751970811, max_depth=2 | valid_logloss=0.20874 (iters=32)\n",
      "eta=0.1950327751970811, max_depth=3 | valid_logloss=0.27612 (iters=31)\n",
      "eta=0.1950327751970811, max_depth=4 | valid_logloss=0.27612 (iters=31)\n",
      "eta=0.1950327751970811, max_depth=5 | valid_logloss=0.27612 (iters=31)\n",
      "eta=0.20429866645080536, max_depth=1 | valid_logloss=0.29505 (iters=49)\n",
      "eta=0.20429866645080536, max_depth=2 | valid_logloss=0.21026 (iters=31)\n",
      "eta=0.20429866645080536, max_depth=3 | valid_logloss=0.24521 (iters=22)\n",
      "eta=0.20429866645080536, max_depth=4 | valid_logloss=0.24521 (iters=22)\n",
      "eta=0.20429866645080536, max_depth=5 | valid_logloss=0.24521 (iters=22)\n",
      "eta=0.21400477469184925, max_depth=1 | valid_logloss=0.28238 (iters=43)\n",
      "eta=0.21400477469184925, max_depth=2 | valid_logloss=0.21171 (iters=36)\n",
      "eta=0.21400477469184925, max_depth=3 | valid_logloss=0.23260 (iters=26)\n",
      "eta=0.21400477469184925, max_depth=4 | valid_logloss=0.23260 (iters=26)\n",
      "eta=0.21400477469184925, max_depth=5 | valid_logloss=0.23260 (iters=26)\n",
      "eta=0.22417201436768663, max_depth=1 | valid_logloss=0.28070 (iters=39)\n",
      "eta=0.22417201436768663, max_depth=2 | valid_logloss=0.21567 (iters=23)\n",
      "eta=0.22417201436768663, max_depth=3 | valid_logloss=0.27815 (iters=29)\n",
      "eta=0.22417201436768663, max_depth=4 | valid_logloss=0.27815 (iters=29)\n",
      "eta=0.22417201436768663, max_depth=5 | valid_logloss=0.27815 (iters=29)\n",
      "eta=0.23482229355876275, max_depth=1 | valid_logloss=0.27953 (iters=39)\n"
     ]
    },
    {
     "name": "stdout",
     "output_type": "stream",
     "text": [
      "eta=0.23482229355876275, max_depth=2 | valid_logloss=0.19323 (iters=22)\n",
      "eta=0.23482229355876275, max_depth=3 | valid_logloss=0.25451 (iters=25)\n",
      "eta=0.23482229355876275, max_depth=4 | valid_logloss=0.25451 (iters=25)\n",
      "eta=0.23482229355876275, max_depth=5 | valid_logloss=0.25451 (iters=25)\n",
      "eta=0.24597856118540598, max_depth=1 | valid_logloss=0.29061 (iters=38)\n",
      "eta=0.24597856118540598, max_depth=2 | valid_logloss=0.20275 (iters=25)\n",
      "eta=0.24597856118540598, max_depth=3 | valid_logloss=0.25350 (iters=20)\n",
      "eta=0.24597856118540598, max_depth=4 | valid_logloss=0.25350 (iters=20)\n",
      "eta=0.24597856118540598, max_depth=5 | valid_logloss=0.25350 (iters=20)\n",
      "eta=0.25766485645751286, max_depth=1 | valid_logloss=0.30914 (iters=26)\n",
      "eta=0.25766485645751286, max_depth=2 | valid_logloss=0.21615 (iters=25)\n",
      "eta=0.25766485645751286, max_depth=3 | valid_logloss=0.27471 (iters=17)\n",
      "eta=0.25766485645751286, max_depth=4 | valid_logloss=0.27471 (iters=17)\n",
      "eta=0.25766485645751286, max_depth=5 | valid_logloss=0.27471 (iters=17)\n",
      "eta=0.26990636067355667, max_depth=1 | valid_logloss=0.31191 (iters=40)\n",
      "eta=0.26990636067355667, max_depth=2 | valid_logloss=0.19519 (iters=22)\n",
      "eta=0.26990636067355667, max_depth=3 | valid_logloss=0.23863 (iters=24)\n",
      "eta=0.26990636067355667, max_depth=4 | valid_logloss=0.23863 (iters=24)\n",
      "eta=0.26990636067355667, max_depth=5 | valid_logloss=0.23863 (iters=24)\n",
      "eta=0.2827294514805375, max_depth=1 | valid_logloss=0.28078 (iters=28)\n",
      "eta=0.2827294514805375, max_depth=2 | valid_logloss=0.20928 (iters=16)\n",
      "eta=0.2827294514805375, max_depth=3 | valid_logloss=0.26352 (iters=28)\n",
      "eta=0.2827294514805375, max_depth=4 | valid_logloss=0.26352 (iters=28)\n",
      "eta=0.2827294514805375, max_depth=5 | valid_logloss=0.26352 (iters=28)\n",
      "eta=0.29616175971179, max_depth=1 | valid_logloss=0.27898 (iters=28)\n",
      "eta=0.29616175971179, max_depth=2 | valid_logloss=0.23076 (iters=23)\n",
      "eta=0.29616175971179, max_depth=3 | valid_logloss=0.29381 (iters=14)\n",
      "eta=0.29616175971179, max_depth=4 | valid_logloss=0.29381 (iters=14)\n",
      "eta=0.29616175971179, max_depth=5 | valid_logloss=0.29381 (iters=14)\n",
      "eta=0.31023222892512115, max_depth=1 | valid_logloss=0.28095 (iters=24)\n",
      "eta=0.31023222892512115, max_depth=2 | valid_logloss=0.26143 (iters=20)\n",
      "eta=0.31023222892512115, max_depth=3 | valid_logloss=0.28783 (iters=12)\n",
      "eta=0.31023222892512115, max_depth=4 | valid_logloss=0.28783 (iters=12)\n",
      "eta=0.31023222892512115, max_depth=5 | valid_logloss=0.28783 (iters=12)\n",
      "eta=0.32497117776956996, max_depth=1 | valid_logloss=0.28404 (iters=31)\n",
      "eta=0.32497117776956996, max_depth=2 | valid_logloss=0.22838 (iters=16)\n",
      "eta=0.32497117776956996, max_depth=3 | valid_logloss=0.22581 (iters=13)\n",
      "eta=0.32497117776956996, max_depth=4 | valid_logloss=0.22581 (iters=13)\n",
      "eta=0.32497117776956996, max_depth=5 | valid_logloss=0.22581 (iters=13)\n",
      "eta=0.3404103653151748, max_depth=1 | valid_logloss=0.30365 (iters=24)\n",
      "eta=0.3404103653151748, max_depth=2 | valid_logloss=0.21697 (iters=12)\n",
      "eta=0.3404103653151748, max_depth=3 | valid_logloss=0.26420 (iters=18)\n",
      "eta=0.3404103653151748, max_depth=4 | valid_logloss=0.26420 (iters=18)\n",
      "eta=0.3404103653151748, max_depth=5 | valid_logloss=0.26420 (iters=18)\n",
      "eta=0.35658305948651925, max_depth=1 | valid_logloss=0.31173 (iters=24)\n",
      "eta=0.35658305948651925, max_depth=2 | valid_logloss=0.24331 (iters=14)\n",
      "eta=0.35658305948651925, max_depth=3 | valid_logloss=0.22871 (iters=13)\n",
      "eta=0.35658305948651925, max_depth=4 | valid_logloss=0.22871 (iters=13)\n",
      "eta=0.35658305948651925, max_depth=5 | valid_logloss=0.22871 (iters=13)\n",
      "eta=0.37352410874751435, max_depth=1 | valid_logloss=0.26879 (iters=28)\n",
      "eta=0.37352410874751435, max_depth=2 | valid_logloss=0.24580 (iters=11)\n",
      "eta=0.37352410874751435, max_depth=3 | valid_logloss=0.22817 (iters=11)\n",
      "eta=0.37352410874751435, max_depth=4 | valid_logloss=0.22817 (iters=11)\n",
      "eta=0.37352410874751435, max_depth=5 | valid_logloss=0.22817 (iters=11)\n",
      "eta=0.3912700171918841, max_depth=1 | valid_logloss=0.27679 (iters=24)\n",
      "eta=0.3912700171918841, max_depth=2 | valid_logloss=0.29302 (iters=19)\n",
      "eta=0.3912700171918841, max_depth=3 | valid_logloss=0.25287 (iters=11)\n",
      "eta=0.3912700171918841, max_depth=4 | valid_logloss=0.25287 (iters=11)\n",
      "eta=0.3912700171918841, max_depth=5 | valid_logloss=0.25287 (iters=11)\n",
      "eta=0.4098590232011524, max_depth=1 | valid_logloss=0.32459 (iters=25)\n",
      "eta=0.4098590232011524, max_depth=2 | valid_logloss=0.25821 (iters=14)\n",
      "eta=0.4098590232011524, max_depth=3 | valid_logloss=0.23872 (iters=11)\n",
      "eta=0.4098590232011524, max_depth=4 | valid_logloss=0.23872 (iters=11)\n",
      "eta=0.4098590232011524, max_depth=5 | valid_logloss=0.23872 (iters=11)\n",
      "eta=0.4293311818396271, max_depth=1 | valid_logloss=0.28547 (iters=26)\n",
      "eta=0.4293311818396271, max_depth=2 | valid_logloss=0.23882 (iters=10)\n",
      "eta=0.4293311818396271, max_depth=3 | valid_logloss=0.26474 (iters=10)\n",
      "eta=0.4293311818396271, max_depth=4 | valid_logloss=0.26474 (iters=10)\n",
      "eta=0.4293311818396271, max_depth=5 | valid_logloss=0.26474 (iters=10)\n",
      "eta=0.4497284511639188, max_depth=1 | valid_logloss=0.30494 (iters=21)\n",
      "eta=0.4497284511639188, max_depth=2 | valid_logloss=0.29453 (iters=6)\n",
      "eta=0.4497284511639188, max_depth=3 | valid_logloss=0.24405 (iters=12)\n",
      "eta=0.4497284511639188, max_depth=4 | valid_logloss=0.24405 (iters=12)\n",
      "eta=0.4497284511639188, max_depth=5 | valid_logloss=0.24405 (iters=12)\n",
      "eta=0.4710947826329748, max_depth=1 | valid_logloss=0.29576 (iters=20)\n",
      "eta=0.4710947826329748, max_depth=2 | valid_logloss=0.28677 (iters=10)\n",
      "eta=0.4710947826329748, max_depth=3 | valid_logloss=0.27699 (iters=9)\n",
      "eta=0.4710947826329748, max_depth=4 | valid_logloss=0.27699 (iters=9)\n",
      "eta=0.4710947826329748, max_depth=5 | valid_logloss=0.27699 (iters=9)\n",
      "eta=0.4934762158134392, max_depth=1 | valid_logloss=0.29711 (iters=24)\n",
      "eta=0.4934762158134392, max_depth=2 | valid_logloss=0.30931 (iters=9)\n",
      "eta=0.4934762158134392, max_depth=3 | valid_logloss=0.30522 (iters=7)\n",
      "eta=0.4934762158134392, max_depth=4 | valid_logloss=0.30522 (iters=7)\n",
      "eta=0.4934762158134392, max_depth=5 | valid_logloss=0.30522 (iters=7)\n",
      "eta=0.5169209775844091, max_depth=1 | valid_logloss=0.29923 (iters=24)\n",
      "eta=0.5169209775844091, max_depth=2 | valid_logloss=0.26226 (iters=10)\n",
      "eta=0.5169209775844091, max_depth=3 | valid_logloss=0.23214 (iters=9)\n",
      "eta=0.5169209775844091, max_depth=4 | valid_logloss=0.23214 (iters=9)\n",
      "eta=0.5169209775844091, max_depth=5 | valid_logloss=0.23214 (iters=9)\n",
      "eta=0.5414795860553491, max_depth=1 | valid_logloss=0.32980 (iters=14)\n",
      "eta=0.5414795860553491, max_depth=2 | valid_logloss=0.26303 (iters=12)\n",
      "eta=0.5414795860553491, max_depth=3 | valid_logloss=0.30606 (iters=7)\n",
      "eta=0.5414795860553491, max_depth=4 | valid_logloss=0.30606 (iters=7)\n",
      "eta=0.5414795860553491, max_depth=5 | valid_logloss=0.30606 (iters=7)\n",
      "eta=0.5672049594210845, max_depth=1 | valid_logloss=0.32664 (iters=22)\n",
      "eta=0.5672049594210845, max_depth=2 | valid_logloss=0.32597 (iters=8)\n",
      "eta=0.5672049594210845, max_depth=3 | valid_logloss=0.28833 (iters=9)\n",
      "eta=0.5672049594210845, max_depth=4 | valid_logloss=0.28833 (iters=9)\n",
      "eta=0.5672049594210845, max_depth=5 | valid_logloss=0.28833 (iters=9)\n",
      "eta=0.5941525299884314, max_depth=1 | valid_logloss=0.34304 (iters=16)\n",
      "eta=0.5941525299884314, max_depth=2 | valid_logloss=0.34060 (iters=10)\n",
      "eta=0.5941525299884314, max_depth=3 | valid_logloss=0.32028 (iters=9)\n",
      "eta=0.5941525299884314, max_depth=4 | valid_logloss=0.32028 (iters=9)\n",
      "eta=0.5941525299884314, max_depth=5 | valid_logloss=0.32028 (iters=9)\n",
      "eta=0.6223803636201621, max_depth=1 | valid_logloss=0.34673 (iters=16)\n",
      "eta=0.6223803636201621, max_depth=2 | valid_logloss=0.29964 (iters=11)\n",
      "eta=0.6223803636201621, max_depth=3 | valid_logloss=0.28499 (iters=11)\n",
      "eta=0.6223803636201621, max_depth=4 | valid_logloss=0.28499 (iters=11)\n",
      "eta=0.6223803636201621, max_depth=5 | valid_logloss=0.28499 (iters=11)\n",
      "eta=0.6519492848536846, max_depth=1 | valid_logloss=0.37097 (iters=12)\n",
      "eta=0.6519492848536846, max_depth=2 | valid_logloss=0.31309 (iters=8)\n",
      "eta=0.6519492848536846, max_depth=3 | valid_logloss=0.27534 (iters=8)\n",
      "eta=0.6519492848536846, max_depth=4 | valid_logloss=0.27534 (iters=8)\n",
      "eta=0.6519492848536846, max_depth=5 | valid_logloss=0.27534 (iters=8)\n",
      "eta=0.6829230079640347, max_depth=1 | valid_logloss=0.31730 (iters=11)\n",
      "eta=0.6829230079640347, max_depth=2 | valid_logloss=0.37333 (iters=7)\n"
     ]
    },
    {
     "name": "stdout",
     "output_type": "stream",
     "text": [
      "eta=0.6829230079640347, max_depth=3 | valid_logloss=0.29135 (iters=6)\n",
      "eta=0.6829230079640347, max_depth=4 | valid_logloss=0.29135 (iters=6)\n",
      "eta=0.6829230079640347, max_depth=5 | valid_logloss=0.29135 (iters=6)\n",
      "eta=0.7153682742535938, max_depth=1 | valid_logloss=0.31926 (iters=11)\n",
      "eta=0.7153682742535938, max_depth=2 | valid_logloss=0.37771 (iters=6)\n",
      "eta=0.7153682742535938, max_depth=3 | valid_logloss=0.31770 (iters=7)\n",
      "eta=0.7153682742535938, max_depth=4 | valid_logloss=0.31770 (iters=7)\n",
      "eta=0.7153682742535938, max_depth=5 | valid_logloss=0.31770 (iters=7)\n",
      "eta=0.7493549958643593, max_depth=1 | valid_logloss=0.25277 (iters=11)\n",
      "eta=0.7493549958643593, max_depth=2 | valid_logloss=0.33235 (iters=7)\n",
      "eta=0.7493549958643593, max_depth=3 | valid_logloss=0.26031 (iters=7)\n",
      "eta=0.7493549958643593, max_depth=4 | valid_logloss=0.26031 (iters=7)\n",
      "eta=0.7493549958643593, max_depth=5 | valid_logloss=0.26031 (iters=7)\n",
      "eta=0.7849564064226502, max_depth=1 | valid_logloss=0.36606 (iters=7)\n",
      "eta=0.7849564064226502, max_depth=2 | valid_logloss=0.36639 (iters=9)\n",
      "eta=0.7849564064226502, max_depth=3 | valid_logloss=0.33213 (iters=4)\n",
      "eta=0.7849564064226502, max_depth=4 | valid_logloss=0.33213 (iters=4)\n",
      "eta=0.7849564064226502, max_depth=5 | valid_logloss=0.33213 (iters=4)\n",
      "eta=0.822249218840854, max_depth=1 | valid_logloss=0.35917 (iters=11)\n",
      "eta=0.822249218840854, max_depth=2 | valid_logloss=0.40154 (iters=7)\n",
      "eta=0.822249218840854, max_depth=3 | valid_logloss=0.31218 (iters=4)\n",
      "eta=0.822249218840854, max_depth=4 | valid_logloss=0.31218 (iters=4)\n",
      "eta=0.822249218840854, max_depth=5 | valid_logloss=0.31218 (iters=4)\n",
      "eta=0.8613137906162399, max_depth=1 | valid_logloss=0.35914 (iters=25)\n",
      "eta=0.8613137906162399, max_depth=2 | valid_logloss=0.23985 (iters=7)\n",
      "eta=0.8613137906162399, max_depth=3 | valid_logloss=0.35260 (iters=4)\n",
      "eta=0.8613137906162399, max_depth=4 | valid_logloss=0.35260 (iters=4)\n",
      "eta=0.8613137906162399, max_depth=5 | valid_logloss=0.35260 (iters=4)\n",
      "eta=0.9022342969830204, max_depth=1 | valid_logloss=0.37033 (iters=7)\n",
      "eta=0.9022342969830204, max_depth=2 | valid_logloss=0.36229 (iters=6)\n",
      "eta=0.9022342969830204, max_depth=3 | valid_logloss=0.40852 (iters=3)\n",
      "eta=0.9022342969830204, max_depth=4 | valid_logloss=0.40852 (iters=3)\n",
      "eta=0.9022342969830204, max_depth=5 | valid_logloss=0.40852 (iters=3)\n",
      "eta=0.9450989122907666, max_depth=1 | valid_logloss=0.37363 (iters=7)\n",
      "eta=0.9450989122907666, max_depth=2 | valid_logloss=0.35200 (iters=4)\n",
      "eta=0.9450989122907666, max_depth=3 | valid_logloss=0.29368 (iters=7)\n",
      "eta=0.9450989122907666, max_depth=4 | valid_logloss=0.29368 (iters=7)\n",
      "eta=0.9450989122907666, max_depth=5 | valid_logloss=0.29368 (iters=7)\n",
      "eta=0.99, max_depth=1 | valid_logloss=0.37799 (iters=7)\n",
      "eta=0.99, max_depth=2 | valid_logloss=0.35716 (iters=4)\n",
      "eta=0.99, max_depth=3 | valid_logloss=0.39080 (iters=7)\n",
      "eta=0.99, max_depth=4 | valid_logloss=0.39080 (iters=7)\n",
      "eta=0.99, max_depth=5 | valid_logloss=0.39080 (iters=7)\n"
     ]
    }
   ],
   "source": [
    "# Perform grid search\n",
    "df_grid_loss = pd.DataFrame(columns = ['eta', 'max_depth', 'valid_loss'], \n",
    "                            index = range(len(grid_param)))\n",
    "i = 0\n",
    "for eta, max_depth in grid_param:\n",
    "    param[0] = ('eta', eta)\n",
    "    param[1] = ('max_depth', max_depth)\n",
    "    \n",
    "    xgb_clf = xgb.train(param, dtrain, \n",
    "                        num_boost_round = 5000, \n",
    "                        evals = valid_list, \n",
    "                        early_stopping_rounds = 20, \n",
    "                        verbose_eval = False)\n",
    "    \n",
    "    print(\"eta={}, max_depth={} | valid_logloss={:.5f} (iters={})\".format(eta, \n",
    "                                                                          max_depth, \n",
    "                                                                          xgb_clf.best_score, \n",
    "                                                                          xgb_clf.best_iteration))\n",
    "    df_grid_loss.iloc[i,:] = [eta, max_depth, xgb_clf.best_score]\n",
    "    i += 1\n",
    "    \n",
    "# Save grid search results\n",
    "    data_out = 'data_xgb_11Radiotherapy'\n",
    "    df_grid_loss.to_csv(os.path.join(data_out, 'df_grid_loss.csv'), index=None)"
   ]
  },
  {
   "cell_type": "code",
   "execution_count": 198,
   "metadata": {
    "ExecuteTime": {
     "end_time": "2021-02-25T04:33:51.822229Z",
     "start_time": "2021-02-25T04:33:51.814927Z"
    },
    "code_folding": [
     0
    ]
   },
   "outputs": [
    {
     "name": "stdout",
     "output_type": "stream",
     "text": [
      "Best parameters:\n",
      "- Best eta = 0.178\n",
      "- Best max_depth = 2\n",
      "- Best valid loss = 0.184424\n"
     ]
    }
   ],
   "source": [
    "# Display grid search results\n",
    "data_out = 'data_xgb_11Radiotherapy'\n",
    "df_grid_loss = pd.read_csv(os.path.join(data_out, 'df_grid_loss.csv'))\n",
    "\n",
    "idx = df_grid_loss.valid_loss.idxmin()\n",
    "best_eta   = df_grid_loss.iloc[idx, 0]\n",
    "best_depth = df_grid_loss.iloc[idx, 1]\n",
    "best_loss  = df_grid_loss.iloc[idx, 2]\n",
    "print(\"Best parameters:\")\n",
    "print(\"- Best eta = {:.3f}\".format(best_eta))\n",
    "print(\"- Best max_depth = {}\".format(best_depth))\n",
    "print(\"- Best valid loss = {}\".format(best_loss))"
   ]
  },
  {
   "cell_type": "code",
   "execution_count": 199,
   "metadata": {
    "ExecuteTime": {
     "end_time": "2021-02-25T04:33:55.223185Z",
     "start_time": "2021-02-25T04:33:55.110075Z"
    },
    "code_folding": [
     0
    ]
   },
   "outputs": [
    {
     "data": {
      "image/png": "[encoded data removed]",
      "text/plain": [
       "<Figure size 576x432 with 1 Axes>"
      ]
     },
     "metadata": {
      "needs_background": "light"
     },
     "output_type": "display_data"
    }
   ],
   "source": [
    "# Plot Loss vs point in grid search\n",
    "data_out = 'data_xgb_11Radiotherapy'\n",
    "df_grid_loss = pd.read_csv(os.path.join(data_out, 'df_grid_loss.csv'))\n",
    "fig, axes = plt.subplots(figsize=(8,6))\n",
    "axes.scatter(df_grid_loss.index, df_grid_loss['valid_loss'])\n",
    "axes.plot(df_grid_loss.index, df_grid_loss['valid_loss'])\n",
    "axes.set_xlabel(\"grid search point\")\n",
    "axes.set_ylabel(\"Valid Logloss\")\n",
    "plt.show()"
   ]
  },
  {
   "cell_type": "code",
   "execution_count": 200,
   "metadata": {
    "ExecuteTime": {
     "end_time": "2021-02-25T04:34:16.263958Z",
     "start_time": "2021-02-25T04:34:08.475302Z"
    },
    "code_folding": [
     0
    ],
    "scrolled": true
   },
   "outputs": [
    {
     "name": "stdout",
     "output_type": "stream",
     "text": [
      "[0]\ttrain-logloss:0.59202\tvalid-logloss:0.63378\n",
      "Multiple eval metrics have been passed: 'valid-logloss' will be used for early stopping.\n",
      "\n",
      "Will train until valid-logloss hasn't improved in 50 rounds.\n",
      "[1]\ttrain-logloss:0.49765\tvalid-logloss:0.57696\n",
      "[2]\ttrain-logloss:0.41401\tvalid-logloss:0.52264\n",
      "[3]\ttrain-logloss:0.36568\tvalid-logloss:0.48060\n",
      "[4]\ttrain-logloss:0.31999\tvalid-logloss:0.45458\n",
      "[5]\ttrain-logloss:0.27386\tvalid-logloss:0.41585\n",
      "[6]\ttrain-logloss:0.23995\tvalid-logloss:0.39216\n",
      "[7]\ttrain-logloss:0.20788\tvalid-logloss:0.37390\n",
      "[8]\ttrain-logloss:0.18409\tvalid-logloss:0.35565\n",
      "[9]\ttrain-logloss:0.16582\tvalid-logloss:0.33334\n",
      "[10]\ttrain-logloss:0.15103\tvalid-logloss:0.30996\n",
      "[11]\ttrain-logloss:0.13677\tvalid-logloss:0.29328\n",
      "[12]\ttrain-logloss:0.12195\tvalid-logloss:0.28450\n",
      "[13]\ttrain-logloss:0.10918\tvalid-logloss:0.26335\n",
      "[14]\ttrain-logloss:0.09823\tvalid-logloss:0.24657\n",
      "[15]\ttrain-logloss:0.08947\tvalid-logloss:0.24617\n",
      "[16]\ttrain-logloss:0.08183\tvalid-logloss:0.23863\n",
      "[17]\ttrain-logloss:0.07536\tvalid-logloss:0.23140\n",
      "[18]\ttrain-logloss:0.06989\tvalid-logloss:0.22137\n",
      "[19]\ttrain-logloss:0.06469\tvalid-logloss:0.21447\n",
      "[20]\ttrain-logloss:0.06072\tvalid-logloss:0.20563\n",
      "[21]\ttrain-logloss:0.05697\tvalid-logloss:0.20143\n",
      "[22]\ttrain-logloss:0.05351\tvalid-logloss:0.20087\n",
      "[23]\ttrain-logloss:0.05033\tvalid-logloss:0.19551\n",
      "[24]\ttrain-logloss:0.04777\tvalid-logloss:0.19176\n",
      "[25]\ttrain-logloss:0.04565\tvalid-logloss:0.19254\n",
      "[26]\ttrain-logloss:0.04354\tvalid-logloss:0.18887\n",
      "[27]\ttrain-logloss:0.04116\tvalid-logloss:0.18785\n",
      "[28]\ttrain-logloss:0.03891\tvalid-logloss:0.18654\n",
      "[29]\ttrain-logloss:0.03775\tvalid-logloss:0.18474\n",
      "[30]\ttrain-logloss:0.03665\tvalid-logloss:0.18538\n",
      "[31]\ttrain-logloss:0.03558\tvalid-logloss:0.18694\n",
      "[32]\ttrain-logloss:0.03457\tvalid-logloss:0.18785\n",
      "[33]\ttrain-logloss:0.03362\tvalid-logloss:0.18979\n",
      "[34]\ttrain-logloss:0.03268\tvalid-logloss:0.19052\n",
      "[35]\ttrain-logloss:0.03179\tvalid-logloss:0.18990\n",
      "[36]\ttrain-logloss:0.03093\tvalid-logloss:0.18938\n",
      "[37]\ttrain-logloss:0.03012\tvalid-logloss:0.19038\n",
      "[38]\ttrain-logloss:0.02936\tvalid-logloss:0.18724\n",
      "[39]\ttrain-logloss:0.02863\tvalid-logloss:0.18550\n",
      "[40]\ttrain-logloss:0.02791\tvalid-logloss:0.18442\n",
      "[41]\ttrain-logloss:0.02723\tvalid-logloss:0.18641\n",
      "[42]\ttrain-logloss:0.02660\tvalid-logloss:0.18630\n",
      "[43]\ttrain-logloss:0.02598\tvalid-logloss:0.18753\n",
      "[44]\ttrain-logloss:0.02538\tvalid-logloss:0.18969\n",
      "[45]\ttrain-logloss:0.02480\tvalid-logloss:0.19090\n",
      "[46]\ttrain-logloss:0.02425\tvalid-logloss:0.19290\n",
      "[47]\ttrain-logloss:0.02371\tvalid-logloss:0.19476\n",
      "[48]\ttrain-logloss:0.02319\tvalid-logloss:0.19581\n",
      "[49]\ttrain-logloss:0.02271\tvalid-logloss:0.19433\n",
      "[50]\ttrain-logloss:0.02224\tvalid-logloss:0.19576\n",
      "[51]\ttrain-logloss:0.02224\tvalid-logloss:0.19568\n",
      "[52]\ttrain-logloss:0.02224\tvalid-logloss:0.19560\n",
      "[53]\ttrain-logloss:0.02224\tvalid-logloss:0.19554\n",
      "[54]\ttrain-logloss:0.02224\tvalid-logloss:0.19548\n",
      "[55]\ttrain-logloss:0.02224\tvalid-logloss:0.19543\n",
      "[56]\ttrain-logloss:0.02224\tvalid-logloss:0.19539\n",
      "[57]\ttrain-logloss:0.02224\tvalid-logloss:0.19535\n",
      "[58]\ttrain-logloss:0.02224\tvalid-logloss:0.19532\n",
      "[59]\ttrain-logloss:0.02224\tvalid-logloss:0.19529\n",
      "[60]\ttrain-logloss:0.02224\tvalid-logloss:0.19526\n",
      "[61]\ttrain-logloss:0.02224\tvalid-logloss:0.19524\n",
      "[62]\ttrain-logloss:0.02224\tvalid-logloss:0.19522\n",
      "[63]\ttrain-logloss:0.02224\tvalid-logloss:0.19520\n",
      "[64]\ttrain-logloss:0.02224\tvalid-logloss:0.19518\n",
      "[65]\ttrain-logloss:0.02224\tvalid-logloss:0.19517\n",
      "[66]\ttrain-logloss:0.02224\tvalid-logloss:0.19516\n",
      "[67]\ttrain-logloss:0.02224\tvalid-logloss:0.19515\n",
      "[68]\ttrain-logloss:0.02224\tvalid-logloss:0.19514\n",
      "[69]\ttrain-logloss:0.02224\tvalid-logloss:0.19513\n",
      "[70]\ttrain-logloss:0.02224\tvalid-logloss:0.19512\n",
      "[71]\ttrain-logloss:0.02224\tvalid-logloss:0.19512\n",
      "[72]\ttrain-logloss:0.02224\tvalid-logloss:0.19511\n",
      "[73]\ttrain-logloss:0.02224\tvalid-logloss:0.19511\n",
      "[74]\ttrain-logloss:0.02224\tvalid-logloss:0.19510\n",
      "[75]\ttrain-logloss:0.02224\tvalid-logloss:0.19510\n",
      "[76]\ttrain-logloss:0.02224\tvalid-logloss:0.19509\n",
      "[77]\ttrain-logloss:0.02224\tvalid-logloss:0.19509\n",
      "[78]\ttrain-logloss:0.02224\tvalid-logloss:0.19509\n",
      "[79]\ttrain-logloss:0.02224\tvalid-logloss:0.19509\n",
      "[80]\ttrain-logloss:0.02224\tvalid-logloss:0.19508\n",
      "[81]\ttrain-logloss:0.02224\tvalid-logloss:0.19508\n",
      "[82]\ttrain-logloss:0.02224\tvalid-logloss:0.19508\n",
      "[83]\ttrain-logloss:0.02224\tvalid-logloss:0.19508\n",
      "[84]\ttrain-logloss:0.02224\tvalid-logloss:0.19508\n",
      "[85]\ttrain-logloss:0.02224\tvalid-logloss:0.19507\n",
      "[86]\ttrain-logloss:0.02224\tvalid-logloss:0.19507\n",
      "[87]\ttrain-logloss:0.02224\tvalid-logloss:0.19507\n",
      "[88]\ttrain-logloss:0.02224\tvalid-logloss:0.19507\n",
      "[89]\ttrain-logloss:0.02224\tvalid-logloss:0.19507\n",
      "[90]\ttrain-logloss:0.02224\tvalid-logloss:0.19507\n",
      "Stopping. Best iteration:\n",
      "[40]\ttrain-logloss:0.02791\tvalid-logloss:0.18442\n",
      "\n"
     ]
    }
   ],
   "source": [
    "# Train with best hyperparameters\n",
    "param[0] = ('eta', best_eta)\n",
    "param[1] = ('max_depth', best_depth)\n",
    "\n",
    "evals_result = {}\n",
    "xgb_clf = xgb.train(param, dtrain, \n",
    "                    num_boost_round = 5000, \n",
    "                    evals = valid_list, \n",
    "                    early_stopping_rounds = 50, \n",
    "                    verbose_eval = True, \n",
    "                    evals_result=evals_result)"
   ]
  },
  {
   "cell_type": "code",
   "execution_count": 201,
   "metadata": {
    "ExecuteTime": {
     "end_time": "2021-02-25T04:34:20.677223Z",
     "start_time": "2021-02-25T04:34:20.555597Z"
    },
    "code_folding": [
     0
    ]
   },
   "outputs": [
    {
     "data": {
      "image/png": "[encoded data removed]",
      "text/plain": [
       "<Figure size 432x288 with 1 Axes>"
      ]
     },
     "metadata": {
      "needs_background": "light"
     },
     "output_type": "display_data"
    }
   ],
   "source": [
    "# Plot of train/valid loss vs iter\n",
    "fig, axes = plt.subplots(figsize=(6,4))\n",
    "axes.plot(evals_result['train']['logloss'], label=\"train\")\n",
    "axes.plot(evals_result['valid']['logloss'], label=\"valid\")\n",
    "axes.legend()\n",
    "axes.set_ylabel(\"Logloss\")\n",
    "axes.set_xlabel(\"iteration\")\n",
    "# axes.set_xticks(np.arange(0, len(evals_result['train']['logloss']), 1))\n",
    "plt.show()"
   ]
  },
  {
   "cell_type": "code",
   "execution_count": 202,
   "metadata": {
    "ExecuteTime": {
     "end_time": "2021-02-25T04:34:29.249037Z",
     "start_time": "2021-02-25T04:34:28.800781Z"
    },
    "code_folding": [
     0
    ]
   },
   "outputs": [
    {
     "data": {
      "image/png": "[encoded data removed]",
      "text/plain": [
       "<Figure size 864x720 with 1 Axes>"
      ]
     },
     "metadata": {
      "needs_background": "light"
     },
     "output_type": "display_data"
    }
   ],
   "source": [
    "# Plot tree(s)\n",
    "fig, axes = plt.subplots(figsize=(12,10))\n",
    "plot_tree(xgb_clf, ax=axes, num_trees=26)\n",
    "plt.show()"
   ]
  },
  {
   "cell_type": "code",
   "execution_count": 203,
   "metadata": {
    "ExecuteTime": {
     "end_time": "2021-02-25T04:34:40.521053Z",
     "start_time": "2021-02-25T04:34:40.511707Z"
    },
    "code_folding": [
     0
    ]
   },
   "outputs": [
    {
     "name": "stdout",
     "output_type": "stream",
     "text": [
      "model saved at: 'data_xgb_11Radiotherapy/xgb_model.json'\n",
      "best params saved at: 'data_xgb_11Radiotherapy/xgb_best_params.json'\n"
     ]
    }
   ],
   "source": [
    "# Save model and model's best params\n",
    "data_out = 'data_xgb_11Radiotherapy'\n",
    "xgb_clf.save_model(os.path.join(data_out, 'xgb_model.json'))\n",
    "print(\"model saved at: '{}'\".format(os.path.join(data_out, 'xgb_model.json')))\n",
    "\n",
    "best_params = {}\n",
    "best_params['best_eta'] = best_eta\n",
    "best_params['best_depth'] = int(best_depth)\n",
    "with open(os.path.join(data_out, 'xgb_best_params.json'), 'w') as f:\n",
    "    json.dump(best_params, f)\n",
    "print(\"best params saved at: '{}'\".format(os.path.join(data_out, 'xgb_best_params.json')))"
   ]
  },
  {
   "cell_type": "code",
   "execution_count": 204,
   "metadata": {
    "ExecuteTime": {
     "end_time": "2021-02-25T04:34:44.820585Z",
     "start_time": "2021-02-25T04:34:44.786136Z"
    },
    "code_folding": [
     0
    ]
   },
   "outputs": [
    {
     "name": "stdout",
     "output_type": "stream",
     "text": [
      "feature map saved at: 'data_xgb_11Radiotherapy/xgb_model_fmap.txt'\n"
     ]
    }
   ],
   "source": [
    "# Save feature map\n",
    "def ceate_feature_map(features, data_out):\n",
    "    f = open(os.path.join(data_out, 'xgb_model_fmap.txt'), 'w')\n",
    "    i = 0\n",
    "    for feat in features:\n",
    "        f.write('{0}\\t{1}\\tq\\n'.format(i, feat))\n",
    "        i = i + 1\n",
    "    f.close()\n",
    "\n",
    "data_out = 'data_xgb_11Radiotherapy'\n",
    "ceate_feature_map(cols_all, data_out)\n",
    "print(\"feature map saved at: '{}'\".format(os.path.join(data_out, 'xgb_model_fmap.txt')))"
   ]
  },
  {
   "cell_type": "code",
   "execution_count": 205,
   "metadata": {
    "ExecuteTime": {
     "end_time": "2021-02-25T04:34:47.718192Z",
     "start_time": "2021-02-25T04:34:47.621440Z"
    },
    "code_folding": [
     0
    ]
   },
   "outputs": [
    {
     "name": "stdout",
     "output_type": "stream",
     "text": [
      "model results saved at: 'data_xgb_11Radiotherapy/results_target_xgb.csv'\n"
     ]
    },
    {
     "data": {
      "text/html": [
       "<div>\n",
       "<style scoped>\n",
       "    .dataframe tbody tr th:only-of-type {\n",
       "        vertical-align: middle;\n",
       "    }\n",
       "\n",
       "    .dataframe tbody tr th {\n",
       "        vertical-align: top;\n",
       "    }\n",
       "\n",
       "    .dataframe thead th {\n",
       "        text-align: right;\n",
       "    }\n",
       "</style>\n",
       "<table border=\"1\" class=\"dataframe\">\n",
       "  <thead>\n",
       "    <tr style=\"text-align: right;\">\n",
       "      <th></th>\n",
       "      <th>accuracy</th>\n",
       "      <th>roc_auc</th>\n",
       "    </tr>\n",
       "  </thead>\n",
       "  <tbody>\n",
       "    <tr>\n",
       "      <th>train</th>\n",
       "      <td>1</td>\n",
       "      <td>1</td>\n",
       "    </tr>\n",
       "    <tr>\n",
       "      <th>valid</th>\n",
       "      <td>0.935484</td>\n",
       "      <td>0.9375</td>\n",
       "    </tr>\n",
       "    <tr>\n",
       "      <th>test</th>\n",
       "      <td>0.90625</td>\n",
       "      <td>0.90625</td>\n",
       "    </tr>\n",
       "  </tbody>\n",
       "</table>\n",
       "</div>"
      ],
      "text/plain": [
       "       accuracy  roc_auc\n",
       "train         1        1\n",
       "valid  0.935484   0.9375\n",
       "test    0.90625  0.90625"
      ]
     },
     "execution_count": 205,
     "metadata": {},
     "output_type": "execute_result"
    }
   ],
   "source": [
    "# Find MSE, R2, Accuracy, etc...\n",
    "data_out = 'data_xgb_11Radiotherapy'\n",
    "model = xgb.Booster(model_file=os.path.join(data_out, 'xgb_model.json'))\n",
    "df_results = pd.DataFrame(index=['train', 'valid', 'test'], \n",
    "                           columns=['accuracy', 'roc_auc'])\n",
    "\n",
    "ypred = model.predict(dtrain)\n",
    "ypred = ypred.round().astype(int)\n",
    "df_results.loc['train', 'accuracy'] = accuracy_score(ytrain, ypred)\n",
    "df_results.loc['train', 'roc_auc']  = roc_auc_score(ytrain, ypred)\n",
    "\n",
    "ypred = model.predict(dvalid)\n",
    "ypred = ypred.round().astype(int)\n",
    "df_results.loc['valid', 'accuracy'] = accuracy_score(yvalid, ypred)\n",
    "df_results.loc['valid', 'roc_auc']  = roc_auc_score(yvalid, ypred)\n",
    "\n",
    "ypred = model.predict(dtest)\n",
    "ypred = ypred.round().astype(int)\n",
    "df_results.loc['test', 'accuracy'] = accuracy_score(ytest, ypred)\n",
    "df_results.loc['test', 'roc_auc']  = roc_auc_score(ytest, ypred)\n",
    "\n",
    "# Save data\n",
    "df_results.to_csv(os.path.join(data_out, 'results_target_xgb.csv'), index=True)\n",
    "print(\"model results saved at: '{}'\".format(os.path.join(data_out, 'results_target_xgb.csv')))\n",
    "df_results.head()"
   ]
  },
  {
   "cell_type": "code",
   "execution_count": 212,
   "metadata": {
    "ExecuteTime": {
     "end_time": "2021-02-25T04:53:49.151583Z",
     "start_time": "2021-02-25T04:42:14.431563Z"
    },
    "code_folding": [
     0
    ]
   },
   "outputs": [
    {
     "data": {
      "application/vnd.jupyter.widget-view+json": {
       "model_id": "240d6df2d8df422c93a390ece7086132",
       "version_major": 2,
       "version_minor": 0
      },
      "text/plain": [
       "Partitions loop:   0%|          | 0/100 [00:00<?, ?it/s]"
      ]
     },
     "metadata": {},
     "output_type": "display_data"
    }
   ],
   "source": [
    "# Find Accuracy +/- STD\n",
    "data_in  = 'data_xgb_11Radiotherapy'\n",
    "data_out = 'data_xgb_11Radiotherapy/partitions'\n",
    "df_results = pd.DataFrame(columns=['train_acc', 'valid_acc', 'test_acc', 'train_roc', 'valid_roc', 'test_roc'])\n",
    "\n",
    "with open(os.path.join(data_in, 'xgb_best_params.json')) as f:\n",
    "    best_params = json.load(f)\n",
    "param = [('eta', best_params['best_eta']), \n",
    "         ('max_depth', best_params['best_depth']), \n",
    "         ('objective', 'binary:logistic'), \n",
    "         ('nthread', 16),\n",
    "         ('eval_metric', 'logloss')\n",
    "]\n",
    "\n",
    "partitions = 100\n",
    "iterator = tqdm.notebook.tqdm(range(1, partitions + 1), desc='Partitions loop')\n",
    "X = pd.read_csv('dataset_11Radiotherapy/X.csv', header=None)\n",
    "y = pd.read_csv('dataset_11Radiotherapy/y.csv', header=None)\n",
    "for n in iterator:\n",
    "    split_data(X, y, seed1=seed1[n], seed2=seed2[n])\n",
    "    \n",
    "# .build DMatrices\n",
    "    dtrain = xgb.DMatrix(data=xtrain, label=ytrain, nthread=16)\n",
    "    dvalid = xgb.DMatrix(data=xvalid, label=yvalid, nthread=16)\n",
    "    dtest  = xgb.DMatrix(data=xtest,  label=ytest,  nthread=16)\n",
    "    valid_list = [(dtrain, 'train'), (dvalid, 'valid')]\n",
    "\n",
    "# .train model\n",
    "    evals_result = {}\n",
    "    model = xgb.train(param, dtrain, \n",
    "                      num_boost_round = 5000, \n",
    "                      evals = valid_list, \n",
    "                      early_stopping_rounds = 20, \n",
    "                      verbose_eval = False, \n",
    "                      evals_result=evals_result)\n",
    "    \n",
    "# .compute/save accuracy\n",
    "    ypred = model.predict(dtrain)\n",
    "    ypred = ypred.round().astype(int)\n",
    "    df_results.loc[n, 'train_acc'] = accuracy_score(ytrain, ypred)\n",
    "    df_results.loc[n, 'train_roc']  = roc_auc_score(ytrain, ypred)\n",
    "\n",
    "    ypred = model.predict(dvalid)\n",
    "    ypred = ypred.round().astype(int)\n",
    "    df_results.loc[n, 'valid_acc'] = accuracy_score(yvalid, ypred)\n",
    "    df_results.loc[n, 'valid_roc']  = roc_auc_score(yvalid, ypred)\n",
    "\n",
    "    ypred = model.predict(dtest)\n",
    "    ypred = ypred.round().astype(int)\n",
    "    df_results.loc[n, 'test_acc'] = accuracy_score(ytest, ypred)\n",
    "    df_results.loc[n, 'test_roc']  = roc_auc_score(ytest, ypred)\n",
    "\n",
    "    model.save_model(os.path.join(data_out, 'xgb_model_'+str(n)+'.json'))\n",
    "    df_results.to_csv(os.path.join(data_out, 'accuracy_xgb.csv'), index=None)"
   ]
  },
  {
   "cell_type": "code",
   "execution_count": 213,
   "metadata": {
    "ExecuteTime": {
     "end_time": "2021-02-25T05:06:49.672398Z",
     "start_time": "2021-02-25T05:06:49.664717Z"
    },
    "code_folding": [
     0
    ]
   },
   "outputs": [
    {
     "name": "stdout",
     "output_type": "stream",
     "text": [
      "Train accuracy = 1.000 +/- 0.000\n",
      "Valid accuracy = 0.888 +/- 0.067\n",
      "Test accuracy = 0.887 +/- 0.061\n"
     ]
    }
   ],
   "source": [
    "# Display results\n",
    "data_out = 'data_xgb_11Radiotherapy'\n",
    "accuracy_xgb = pd.read_csv(os.path.join(data_out, 'accuracy_xgb.csv'))\n",
    "print(\"Train accuracy = {:.3f} +/- {:.3f}\".format(accuracy_xgb['train_acc'].mean(), \n",
    "                                                  accuracy_xgb['train_acc'].std()))\n",
    "print(\"Valid accuracy = {:.3f} +/- {:.3f}\".format(accuracy_xgb['valid_acc'].mean(), \n",
    "                                                  accuracy_xgb['valid_acc'].std()))\n",
    "print(\"Test accuracy = {:.3f} +/- {:.3f}\".format(accuracy_xgb['test_acc'].mean(), \n",
    "                                                 accuracy_xgb['test_acc'].std()))"
   ]
  },
  {
   "cell_type": "markdown",
   "metadata": {},
   "source": [
    "* ### Lockdown"
   ]
  },
  {
   "cell_type": "code",
   "execution_count": 22,
   "metadata": {
    "ExecuteTime": {
     "end_time": "2021-03-02T17:27:16.007951Z",
     "start_time": "2021-03-02T17:27:16.005620Z"
    },
    "code_folding": [
     0
    ]
   },
   "outputs": [],
   "source": [
    "# Normalize Data Set\n",
    "def normalize_data():\n",
    "    \"\"\"\n",
    "    \"\"\"\n",
    "    global xtrain, xvalid, xtest\n",
    "    scaler = StandardScaler()\n",
    "    scaler.fit(xtrain.numpy())\n",
    "    xtrain = torch.from_numpy(scaler.transform(xtrain.numpy()))\n",
    "    xvalid = torch.from_numpy(scaler.transform(xvalid.numpy()))\n",
    "    xtest = torch.from_numpy(scaler.transform(xtest.numpy()))"
   ]
  },
  {
   "cell_type": "code",
   "execution_count": 23,
   "metadata": {
    "ExecuteTime": {
     "end_time": "2021-03-02T17:27:17.673101Z",
     "start_time": "2021-03-02T17:27:17.669680Z"
    },
    "code_folding": [
     0
    ]
   },
   "outputs": [],
   "source": [
    "# Save output data\n",
    "def save_output(data_out, f1, f2, f3, new_folder=False):\n",
    "    \"\"\"\n",
    "    \"\"\"\n",
    "# Save relevant data\n",
    "    if new_folder == True:\n",
    "        dirs = os.listdir()\n",
    "        if data_out in dirs:\n",
    "            print(\"'{}' directory deleted.\".format(data_out))\n",
    "            shutil.rmtree(data_out)\n",
    "            print(\"'{}' directory created.\\n\".format(data_out))\n",
    "            os.mkdir(data_out)\n",
    "        else:\n",
    "            print(\"'{}' directory created.\\n\".format(data_out))\n",
    "            os.mkdir(data_out)\n",
    "# \n",
    "    train_loss.to_csv(os.path.join(data_out, f1), index=False)\n",
    "    valid_loss.to_csv(os.path.join(data_out, f2), index=False)\n",
    "    print(\"'{}' saved.\".format(f1))\n",
    "    print(\"'{}' saved.\".format(f2))\n",
    "\n",
    "    for m in f3:\n",
    "        shutil.move(m, os.path.join(data_out, m))\n",
    "        print(\"'{}' saved.\".format(m))"
   ]
  },
  {
   "cell_type": "markdown",
   "metadata": {},
   "source": [
    "* #### l1=5, l2=2; lockdown=l1"
   ]
  },
  {
   "cell_type": "code",
   "execution_count": 24,
   "metadata": {
    "ExecuteTime": {
     "end_time": "2021-03-02T17:27:19.697297Z",
     "start_time": "2021-03-02T17:27:19.695537Z"
    },
    "code_folding": [
     0
    ]
   },
   "outputs": [],
   "source": [
    "# Set layers where lockdown is to be applied\n",
    "def get_lockdown_layers(model):\n",
    "    layers = [model.classifier[0]]\n",
    "    return layers"
   ]
  },
  {
   "cell_type": "code",
   "execution_count": 25,
   "metadata": {
    "ExecuteTime": {
     "end_time": "2021-03-02T17:27:21.868999Z",
     "start_time": "2021-03-02T17:27:21.866247Z"
    },
    "code_folding": [
     0
    ]
   },
   "outputs": [],
   "source": [
    "#  NN architecture with its corresponding forward method\n",
    "class MyNet(nn.Module):\n",
    "    \n",
    "# .Network architecture\n",
    "    def __init__(self, features, layer_sizes):\n",
    "        super(MyNet, self).__init__()\n",
    "        \n",
    "        self.classifier = nn.Sequential(\n",
    "            nn.Linear(features, layer_sizes[0], bias=True),\n",
    "            nn.ReLU(inplace=True),\n",
    "            nn.Linear(layer_sizes[0], layer_sizes[1], bias=True)\n",
    "        )\n",
    "\n",
    "# .Forward function\n",
    "    def forward(self, x):\n",
    "        x = self.classifier(x)\n",
    "        return x"
   ]
  },
  {
   "cell_type": "code",
   "execution_count": 233,
   "metadata": {
    "ExecuteTime": {
     "end_time": "2021-02-25T07:28:22.436119Z",
     "start_time": "2021-02-25T07:28:22.432180Z"
    },
    "code_folding": []
   },
   "outputs": [],
   "source": [
    "# Grid search space\n",
    "grid_lrs = np.geomspace(5e-4, 5e-2, num=10)\n",
    "df_grid_loss = pd.DataFrame(columns = ['lr', 'valid_loss', 'valid_acc'], \n",
    "                            index=range(len(grid_lrs)))"
   ]
  },
  {
   "cell_type": "code",
   "execution_count": 234,
   "metadata": {
    "ExecuteTime": {
     "end_time": "2021-02-25T09:25:45.475320Z",
     "start_time": "2021-02-25T07:28:27.852242Z"
    },
    "code_folding": [
     0
    ],
    "scrolled": true
   },
   "outputs": [
    {
     "name": "stdout",
     "output_type": "stream",
     "text": [
      "- train minibatches = 1\n",
      "- valid minibatches = 1\n",
      "- test minibatches = 1\n"
     ]
    },
    {
     "data": {
      "application/vnd.jupyter.widget-view+json": {
       "model_id": "70849d21bbfd4a07b35254d2af1fa78f",
       "version_major": 2,
       "version_minor": 0
      },
      "text/plain": [
       "lr-grid loop:   0%|          | 0/10 [00:00<?, ?it/s]"
      ]
     },
     "metadata": {},
     "output_type": "display_data"
    },
    {
     "data": {
      "application/vnd.jupyter.widget-view+json": {
       "model_id": "b43dd7f08aed442381acb9daa5827b58",
       "version_major": 2,
       "version_minor": 0
      },
      "text/plain": [
       "Epochs loop:   0%|          | 0/20000 [00:00<?, ?it/s]"
      ]
     },
     "metadata": {},
     "output_type": "display_data"
    },
    {
     "name": "stdout",
     "output_type": "stream",
     "text": [
      "Summary:\n",
      "-learning rate = 0.00050\n",
      "-Model saved after iteration 272.\n",
      "-Train.  Loss=0.0730791\n",
      "-Valid.  Loss=0.3257526\n",
      "\n",
      "Best train loss = 0.0149676\n",
      "\n",
      "'train_loss05_1.csv' saved.\n",
      "'valid_loss05_1.csv' saved.\n",
      "'model11_forward05_1_last.pth' saved.\n",
      "'model11_forward05_1_best.pth' saved.\n"
     ]
    },
    {
     "data": {
      "application/vnd.jupyter.widget-view+json": {
       "model_id": "57a14152dc1c4370910c7bf2455412de",
       "version_major": 2,
       "version_minor": 0
      },
      "text/plain": [
       "Epochs loop:   0%|          | 0/20000 [00:00<?, ?it/s]"
      ]
     },
     "metadata": {},
     "output_type": "display_data"
    },
    {
     "name": "stdout",
     "output_type": "stream",
     "text": [
      "Summary:\n",
      "-learning rate = 0.00083\n",
      "-Model saved after iteration 701.\n",
      "-Train.  Loss=0.0497148\n",
      "-Valid.  Loss=0.2207381\n",
      "\n",
      "Best train loss = 0.0001750\n",
      "\n",
      "'train_loss05_2.csv' saved.\n",
      "'valid_loss05_2.csv' saved.\n",
      "'model11_forward05_2_last.pth' saved.\n",
      "'model11_forward05_2_best.pth' saved.\n"
     ]
    },
    {
     "data": {
      "application/vnd.jupyter.widget-view+json": {
       "model_id": "71b975d7755842239e0e0ab74625b84e",
       "version_major": 2,
       "version_minor": 0
      },
      "text/plain": [
       "Epochs loop:   0%|          | 0/20000 [00:00<?, ?it/s]"
      ]
     },
     "metadata": {},
     "output_type": "display_data"
    },
    {
     "name": "stdout",
     "output_type": "stream",
     "text": [
      "Summary:\n",
      "-learning rate = 0.00139\n",
      "-Model saved after iteration 191.\n",
      "-Train.  Loss=0.0368455\n",
      "-Valid.  Loss=0.4606292\n",
      "\n",
      "Best train loss = 0.0001048\n",
      "\n",
      "'train_loss05_3.csv' saved.\n",
      "'valid_loss05_3.csv' saved.\n",
      "'model11_forward05_3_last.pth' saved.\n",
      "'model11_forward05_3_best.pth' saved.\n"
     ]
    },
    {
     "data": {
      "application/vnd.jupyter.widget-view+json": {
       "model_id": "351a629e308c4717b892ba1cabf67560",
       "version_major": 2,
       "version_minor": 0
      },
      "text/plain": [
       "Epochs loop:   0%|          | 0/20000 [00:00<?, ?it/s]"
      ]
     },
     "metadata": {},
     "output_type": "display_data"
    },
    {
     "name": "stdout",
     "output_type": "stream",
     "text": [
      "Summary:\n",
      "-learning rate = 0.00232\n",
      "-Model saved after iteration 94.\n",
      "-Train.  Loss=0.0525662\n",
      "-Valid.  Loss=0.2899057\n",
      "\n",
      "Best train loss = 0.0042455\n",
      "\n",
      "'train_loss05_4.csv' saved.\n",
      "'valid_loss05_4.csv' saved.\n",
      "'model11_forward05_4_last.pth' saved.\n",
      "'model11_forward05_4_best.pth' saved.\n"
     ]
    },
    {
     "data": {
      "application/vnd.jupyter.widget-view+json": {
       "model_id": "7bca091167f2425d9d7836f4cdeaee91",
       "version_major": 2,
       "version_minor": 0
      },
      "text/plain": [
       "Epochs loop:   0%|          | 0/20000 [00:00<?, ?it/s]"
      ]
     },
     "metadata": {},
     "output_type": "display_data"
    },
    {
     "name": "stdout",
     "output_type": "stream",
     "text": [
      "Summary:\n",
      "-learning rate = 0.00387\n",
      "-Model saved after iteration 18.\n",
      "-Train.  Loss=0.1145675\n",
      "-Valid.  Loss=0.5029849\n",
      "\n",
      "Best train loss = 0.0000314\n",
      "\n",
      "'train_loss05_5.csv' saved.\n",
      "'valid_loss05_5.csv' saved.\n",
      "'model11_forward05_5_last.pth' saved.\n",
      "'model11_forward05_5_best.pth' saved.\n"
     ]
    },
    {
     "data": {
      "application/vnd.jupyter.widget-view+json": {
       "model_id": "29d350caf1cb41d18a96a071a162631d",
       "version_major": 2,
       "version_minor": 0
      },
      "text/plain": [
       "Epochs loop:   0%|          | 0/20000 [00:00<?, ?it/s]"
      ]
     },
     "metadata": {},
     "output_type": "display_data"
    },
    {
     "name": "stdout",
     "output_type": "stream",
     "text": [
      "Summary:\n",
      "-learning rate = 0.00646\n",
      "-Model saved after iteration 103.\n",
      "-Train.  Loss=0.0090201\n",
      "-Valid.  Loss=0.6597723\n",
      "\n",
      "Best train loss = 0.0000153\n",
      "\n",
      "'train_loss05_6.csv' saved.\n",
      "'valid_loss05_6.csv' saved.\n",
      "'model11_forward05_6_last.pth' saved.\n",
      "'model11_forward05_6_best.pth' saved.\n"
     ]
    },
    {
     "data": {
      "application/vnd.jupyter.widget-view+json": {
       "model_id": "f888de462aaa46799524475e5cf4d25d",
       "version_major": 2,
       "version_minor": 0
      },
      "text/plain": [
       "Epochs loop:   0%|          | 0/20000 [00:00<?, ?it/s]"
      ]
     },
     "metadata": {},
     "output_type": "display_data"
    },
    {
     "name": "stdout",
     "output_type": "stream",
     "text": [
      "Summary:\n",
      "-learning rate = 0.01077\n",
      "-Model saved after iteration 1.\n",
      "-Train.  Loss=0.7396039\n",
      "-Valid.  Loss=0.7524709\n",
      "\n",
      "Best train loss = 0.0023782\n",
      "\n",
      "'train_loss05_7.csv' saved.\n",
      "'valid_loss05_7.csv' saved.\n",
      "'model11_forward05_7_last.pth' saved.\n",
      "'model11_forward05_7_best.pth' saved.\n"
     ]
    },
    {
     "data": {
      "application/vnd.jupyter.widget-view+json": {
       "model_id": "c2b7d680dfcc481c9855c1f84bd26b1a",
       "version_major": 2,
       "version_minor": 0
      },
      "text/plain": [
       "Epochs loop:   0%|          | 0/20000 [00:00<?, ?it/s]"
      ]
     },
     "metadata": {},
     "output_type": "display_data"
    },
    {
     "name": "stdout",
     "output_type": "stream",
     "text": [
      "Summary:\n",
      "-learning rate = 0.01797\n",
      "-Model saved after iteration 1.\n",
      "-Train.  Loss=0.7225013\n",
      "-Valid.  Loss=0.7194833\n",
      "\n",
      "Best train loss = 0.0014254\n",
      "\n",
      "'train_loss05_8.csv' saved.\n",
      "'valid_loss05_8.csv' saved.\n",
      "'model11_forward05_8_last.pth' saved.\n",
      "'model11_forward05_8_best.pth' saved.\n"
     ]
    },
    {
     "data": {
      "application/vnd.jupyter.widget-view+json": {
       "model_id": "8dc191d1de56415db02da2ea900fdfe3",
       "version_major": 2,
       "version_minor": 0
      },
      "text/plain": [
       "Epochs loop:   0%|          | 0/20000 [00:00<?, ?it/s]"
      ]
     },
     "metadata": {},
     "output_type": "display_data"
    },
    {
     "name": "stdout",
     "output_type": "stream",
     "text": [
      "Summary:\n",
      "-learning rate = 0.02997\n",
      "-Model saved after iteration 64.\n",
      "-Train.  Loss=0.0337897\n",
      "-Valid.  Loss=0.2567480\n",
      "\n",
      "Best train loss = 0.0008359\n",
      "\n",
      "'train_loss05_9.csv' saved.\n",
      "'valid_loss05_9.csv' saved.\n",
      "'model11_forward05_9_last.pth' saved.\n",
      "'model11_forward05_9_best.pth' saved.\n"
     ]
    },
    {
     "data": {
      "application/vnd.jupyter.widget-view+json": {
       "model_id": "bad1fd0bbafe48839e05965fc99ba37d",
       "version_major": 2,
       "version_minor": 0
      },
      "text/plain": [
       "Epochs loop:   0%|          | 0/20000 [00:00<?, ?it/s]"
      ]
     },
     "metadata": {},
     "output_type": "display_data"
    },
    {
     "name": "stdout",
     "output_type": "stream",
     "text": [
      "Summary:\n",
      "-learning rate = 0.05000\n",
      "-Model saved after iteration 1.\n",
      "-Train.  Loss=0.7355057\n",
      "-Valid.  Loss=0.6893207\n",
      "\n",
      "Best train loss = 0.0005050\n",
      "\n",
      "'train_loss05_10.csv' saved.\n",
      "'valid_loss05_10.csv' saved.\n",
      "'model11_forward05_10_last.pth' saved.\n",
      "'model11_forward05_10_best.pth' saved.\n"
     ]
    }
   ],
   "source": [
    "# Perform grid search (unconstrained)\n",
    "layer_sizes = [5, 2]\n",
    "epochs = 20000\n",
    "data_in = 'dataset_11Radiotherapy'\n",
    "data_out = \"data_unconstrained_11Radiotherapy/lrs\"\n",
    "lock_flag = False\n",
    "\n",
    "# Read data\n",
    "load_data(data_in)\n",
    "\n",
    "# Normalize data\n",
    "normalize_data()\n",
    "\n",
    "# Create DataLoaders\n",
    "make_DataLoaders()\n",
    "features = xtrain.size(1)\n",
    "\n",
    "# Train model\n",
    "iterator = tqdm.notebook.tqdm(range(1, len(grid_lrs) + 1), desc='lr-grid loop')\n",
    "for n in iterator:\n",
    "    irow = n-1\n",
    "    fname = 'model11_forward05_'+str(n)\n",
    "    train_loss, valid_loss = train_model(\n",
    "                             grid_lrs[irow], \n",
    "                             features, \n",
    "                             layer_sizes,\n",
    "                             lock_flag = lock_flag,\n",
    "                             epochs=epochs,\n",
    "                             early_stop=epochs, \n",
    "                             fname=fname)\n",
    "    print('\\nBest train loss = {:.7f}\\n'.format(train_loss['loss'].min()))\n",
    "\n",
    "# .save relevant data\n",
    "    f3 = [fname+'_last.pth', fname+'_best.pth']\n",
    "    save_output(data_out, \n",
    "                'train_loss05_'+str(n)+'.csv', \n",
    "                'valid_loss05_'+str(n)+'.csv', f3)\n",
    "    \n",
    "# .find MSE, R2, etc...\n",
    "    mm = MyNet(features, layer_sizes)\n",
    "    mm.load_state_dict(torch.load(os.path.join(data_out, fname+'_best.pth')))\n",
    "    mm = mm.to(device)\n",
    "    mm.eval()\n",
    "\n",
    "# .save grid search results\n",
    "    ypred = mm(xvalid)\n",
    "    loss = loss_type(ypred, yvalid.view(-1))\n",
    "    accu = dataset_accuracy(valid_dataloader, mm, device)\n",
    "    df_grid_loss.iloc[irow,:] = [grid_lrs[irow], loss.detach().item(), accu]\n",
    "    df_grid_loss.to_csv(os.path.join(data_out, 'df_grid_forward05.csv'), index=None)"
   ]
  },
  {
   "cell_type": "code",
   "execution_count": 251,
   "metadata": {
    "ExecuteTime": {
     "end_time": "2021-02-25T19:12:39.133554Z",
     "start_time": "2021-02-25T19:12:39.014883Z"
    },
    "code_folding": [
     0
    ]
   },
   "outputs": [
    {
     "data": {
      "image/png": "[encoded data removed]",
      "text/plain": [
       "<Figure size 720x432 with 1 Axes>"
      ]
     },
     "metadata": {
      "needs_background": "light"
     },
     "output_type": "display_data"
    }
   ],
   "source": [
    "# Plot Loss vs point in grid search\n",
    "data_out = \"data_unconstrained_11Radiotherapy/lrs\"\n",
    "df_grid_loss = pd.read_csv(os.path.join(data_out, 'df_grid_forward05.csv'))\n",
    "fig, axes = plt.subplots(figsize=(10,6))\n",
    "axes.scatter(np.log10(df_grid_loss.lr), df_grid_loss['valid_loss'])\n",
    "axes.plot(np.log10(df_grid_loss.lr), df_grid_loss['valid_loss'], label='loss')\n",
    "# axes.scatter(np.log10(df_grid_loss.lr), df_grid_loss['valid_r2'])\n",
    "# axes.plot(np.log10(df_grid_loss.lr), df_grid_loss['valid_r2'], label='r2')\n",
    "axes.set_xlabel(\"log10(lr)\")\n",
    "axes.set_ylabel(\"Validation metric\")\n",
    "axes.legend()\n",
    "plt.show()"
   ]
  },
  {
   "cell_type": "code",
   "execution_count": 252,
   "metadata": {
    "ExecuteTime": {
     "end_time": "2021-02-25T19:12:44.482558Z",
     "start_time": "2021-02-25T19:12:44.471785Z"
    },
    "code_folding": [
     0
    ]
   },
   "outputs": [
    {
     "name": "stdout",
     "output_type": "stream",
     "text": [
      "Best parameters (2):\n",
      "- Best lr = 0.00083\n",
      "- Best valid loss = 0.22073815762996676\n"
     ]
    },
    {
     "data": {
      "text/plain": [
       "'data_unconstrained_11Radiotherapy/valid_loss05.csv'"
      ]
     },
     "execution_count": 252,
     "metadata": {},
     "output_type": "execute_result"
    }
   ],
   "source": [
    "# Display grid search results\n",
    "data_out = \"data_unconstrained_11Radiotherapy/lrs\"\n",
    "df_grid_loss = pd.read_csv(os.path.join(data_out, 'df_grid_forward05.csv'))\n",
    "\n",
    "idx = df_grid_loss.valid_loss.idxmin()\n",
    "best_lr_fward = df_grid_loss.iloc[idx, 0]\n",
    "best_mse      = df_grid_loss.iloc[idx, 1]\n",
    "print(\"Best parameters ({}):\".format(idx+1))\n",
    "print(\"- Best lr = {:.5f}\".format(best_lr_fward))\n",
    "print(\"- Best valid loss = {}\".format(best_mse))\n",
    "\n",
    "# Copy best model to main directory\n",
    "shutil.copy(\"data_unconstrained_11Radiotherapy/lrs/model11_forward05_\"+str(idx+1)+\"_best.pth\", \n",
    "            \"data_unconstrained_11Radiotherapy/model11_forward05_best.pth\")\n",
    "shutil.copy(\"data_unconstrained_11Radiotherapy/lrs/model11_forward05_\"+str(idx+1)+\"_last.pth\", \n",
    "            \"data_unconstrained_11Radiotherapy/model11_forward05_last.pth\")\n",
    "\n",
    "shutil.copy(\"data_unconstrained_11Radiotherapy/lrs/train_loss05_\"+str(idx+1)+\".csv\", \n",
    "            \"data_unconstrained_11Radiotherapy/train_loss05.csv\")\n",
    "shutil.copy(\"data_unconstrained_11Radiotherapy/lrs/valid_loss05_\"+str(idx+1)+\".csv\", \n",
    "            \"data_unconstrained_11Radiotherapy/valid_loss05.csv\")"
   ]
  },
  {
   "cell_type": "code",
   "execution_count": 239,
   "metadata": {
    "ExecuteTime": {
     "end_time": "2021-02-25T09:31:41.287761Z",
     "start_time": "2021-02-25T09:31:41.282172Z"
    },
    "code_folding": []
   },
   "outputs": [],
   "source": [
    "# Grid search space\n",
    "grid_lrs = np.geomspace(5e-4, 5e-2, num=10)\n",
    "df_grid_loss = pd.DataFrame(columns = ['lr', 'valid_loss', 'valid_acc'], \n",
    "                            index=range(len(grid_lrs)))"
   ]
  },
  {
   "cell_type": "code",
   "execution_count": 240,
   "metadata": {
    "ExecuteTime": {
     "end_time": "2021-02-25T12:04:15.417275Z",
     "start_time": "2021-02-25T09:33:59.107984Z"
    },
    "code_folding": [
     0
    ]
   },
   "outputs": [
    {
     "name": "stdout",
     "output_type": "stream",
     "text": [
      "- train minibatches = 1\n",
      "- valid minibatches = 1\n",
      "- test minibatches = 1\n"
     ]
    },
    {
     "data": {
      "application/vnd.jupyter.widget-view+json": {
       "model_id": "47ce72cb4dd647269a89d2773be242da",
       "version_major": 2,
       "version_minor": 0
      },
      "text/plain": [
       "lr-grid loop:   0%|          | 0/10 [00:00<?, ?it/s]"
      ]
     },
     "metadata": {},
     "output_type": "display_data"
    },
    {
     "data": {
      "application/vnd.jupyter.widget-view+json": {
       "model_id": "2e26225f44c14a5692c0cecaa543f4e7",
       "version_major": 2,
       "version_minor": 0
      },
      "text/plain": [
       "Epochs loop:   0%|          | 0/10000 [00:00<?, ?it/s]"
      ]
     },
     "metadata": {},
     "output_type": "display_data"
    },
    {
     "name": "stdout",
     "output_type": "stream",
     "text": [
      "Summary:\n",
      "-learning rate = 0.00050\n",
      "-Model saved after iteration 10000.\n",
      "-Train.  Loss=0.0605777\n",
      "-Valid.  Loss=0.2926506\n",
      "\n",
      "Best train loss = 0.0137832\n",
      "\n",
      "'train_loss05_1.csv' saved.\n",
      "'valid_loss05_1.csv' saved.\n",
      "'model11_backward05_1_best.pth' saved.\n"
     ]
    },
    {
     "data": {
      "application/vnd.jupyter.widget-view+json": {
       "model_id": "d12bfdc509ee42b08a1241c1b555a034",
       "version_major": 2,
       "version_minor": 0
      },
      "text/plain": [
       "Epochs loop:   0%|          | 0/10000 [00:00<?, ?it/s]"
      ]
     },
     "metadata": {},
     "output_type": "display_data"
    },
    {
     "name": "stdout",
     "output_type": "stream",
     "text": [
      "Summary:\n",
      "-learning rate = 0.00083\n",
      "-Model saved after iteration 10000.\n",
      "-Train.  Loss=0.0294446\n",
      "-Valid.  Loss=0.4010619\n",
      "\n",
      "Best train loss = 0.0000000\n",
      "\n",
      "'train_loss05_2.csv' saved.\n",
      "'valid_loss05_2.csv' saved.\n",
      "'model11_backward05_2_best.pth' saved.\n"
     ]
    },
    {
     "data": {
      "application/vnd.jupyter.widget-view+json": {
       "model_id": "6e5d5ea1a9f7470d9123c440c54a41c0",
       "version_major": 2,
       "version_minor": 0
      },
      "text/plain": [
       "Epochs loop:   0%|          | 0/10000 [00:00<?, ?it/s]"
      ]
     },
     "metadata": {},
     "output_type": "display_data"
    },
    {
     "name": "stdout",
     "output_type": "stream",
     "text": [
      "Summary:\n",
      "-learning rate = 0.00139\n",
      "-Model saved after iteration 9752.\n",
      "-Train.  Loss=0.0591627\n",
      "-Valid.  Loss=0.3011671\n",
      "\n",
      "Best train loss = 0.0000000\n",
      "\n",
      "'train_loss05_3.csv' saved.\n",
      "'valid_loss05_3.csv' saved.\n",
      "'model11_backward05_3_best.pth' saved.\n"
     ]
    },
    {
     "data": {
      "application/vnd.jupyter.widget-view+json": {
       "model_id": "f8bcd07eef79403e8a9728af20253fa9",
       "version_major": 2,
       "version_minor": 0
      },
      "text/plain": [
       "Epochs loop:   0%|          | 0/10000 [00:00<?, ?it/s]"
      ]
     },
     "metadata": {},
     "output_type": "display_data"
    },
    {
     "name": "stdout",
     "output_type": "stream",
     "text": [
      "Summary:\n",
      "-learning rate = 0.00232\n",
      "-Model saved after iteration 9817.\n",
      "-Train.  Loss=0.0842750\n",
      "-Valid.  Loss=0.3336459\n",
      "\n",
      "Best train loss = 0.0000000\n",
      "\n",
      "'train_loss05_4.csv' saved.\n",
      "'valid_loss05_4.csv' saved.\n",
      "'model11_backward05_4_best.pth' saved.\n"
     ]
    },
    {
     "data": {
      "application/vnd.jupyter.widget-view+json": {
       "model_id": "f2118b00899640dc85550467811149e0",
       "version_major": 2,
       "version_minor": 0
      },
      "text/plain": [
       "Epochs loop:   0%|          | 0/10000 [00:00<?, ?it/s]"
      ]
     },
     "metadata": {},
     "output_type": "display_data"
    },
    {
     "name": "stdout",
     "output_type": "stream",
     "text": [
      "Summary:\n",
      "-learning rate = 0.00387\n",
      "-Model saved after iteration 9789.\n",
      "-Train.  Loss=0.0715348\n",
      "-Valid.  Loss=0.3789994\n",
      "\n",
      "Best train loss = 0.0000000\n",
      "\n",
      "'train_loss05_5.csv' saved.\n",
      "'valid_loss05_5.csv' saved.\n",
      "'model11_backward05_5_best.pth' saved.\n"
     ]
    },
    {
     "data": {
      "application/vnd.jupyter.widget-view+json": {
       "model_id": "aca50e5e21224ebcbb619b9b0b579b9c",
       "version_major": 2,
       "version_minor": 0
      },
      "text/plain": [
       "Epochs loop:   0%|          | 0/10000 [00:00<?, ?it/s]"
      ]
     },
     "metadata": {},
     "output_type": "display_data"
    },
    {
     "name": "stdout",
     "output_type": "stream",
     "text": [
      "Summary:\n",
      "-learning rate = 0.00646\n",
      "-Model saved after iteration 9755.\n",
      "-Train.  Loss=0.1237884\n",
      "-Valid.  Loss=0.2664996\n",
      "\n",
      "Best train loss = 0.0000000\n",
      "\n",
      "'train_loss05_6.csv' saved.\n",
      "'valid_loss05_6.csv' saved.\n",
      "'model11_backward05_6_best.pth' saved.\n"
     ]
    },
    {
     "data": {
      "application/vnd.jupyter.widget-view+json": {
       "model_id": "144e05a44e5348e4b4f2456cc203f1a8",
       "version_major": 2,
       "version_minor": 0
      },
      "text/plain": [
       "Epochs loop:   0%|          | 0/10000 [00:00<?, ?it/s]"
      ]
     },
     "metadata": {},
     "output_type": "display_data"
    },
    {
     "name": "stdout",
     "output_type": "stream",
     "text": [
      "Summary:\n",
      "-learning rate = 0.01077\n",
      "-Model saved after iteration 9737.\n",
      "-Train.  Loss=0.2823010\n",
      "-Valid.  Loss=0.2913175\n",
      "\n",
      "Best train loss = 0.0000002\n",
      "\n",
      "'train_loss05_7.csv' saved.\n",
      "'valid_loss05_7.csv' saved.\n",
      "'model11_backward05_7_best.pth' saved.\n"
     ]
    },
    {
     "data": {
      "application/vnd.jupyter.widget-view+json": {
       "model_id": "9449ee2d26c841f1afa157d6487470e5",
       "version_major": 2,
       "version_minor": 0
      },
      "text/plain": [
       "Epochs loop:   0%|          | 0/10000 [00:00<?, ?it/s]"
      ]
     },
     "metadata": {},
     "output_type": "display_data"
    },
    {
     "name": "stdout",
     "output_type": "stream",
     "text": [
      "Summary:\n",
      "-learning rate = 0.01797\n",
      "-Model saved after iteration 7237.\n",
      "-Train.  Loss=0.0041282\n",
      "-Valid.  Loss=0.2643746\n",
      "\n",
      "Best train loss = 0.0000000\n",
      "\n",
      "'train_loss05_8.csv' saved.\n",
      "'valid_loss05_8.csv' saved.\n",
      "'model11_backward05_8_best.pth' saved.\n"
     ]
    },
    {
     "data": {
      "application/vnd.jupyter.widget-view+json": {
       "model_id": "bc7d5ea745df4f0b9d3e9dfe898fc14e",
       "version_major": 2,
       "version_minor": 0
      },
      "text/plain": [
       "Epochs loop:   0%|          | 0/10000 [00:00<?, ?it/s]"
      ]
     },
     "metadata": {},
     "output_type": "display_data"
    },
    {
     "name": "stdout",
     "output_type": "stream",
     "text": [
      "Summary:\n",
      "-learning rate = 0.02997\n",
      "-Model saved after iteration 6699.\n",
      "-Train.  Loss=0.0167302\n",
      "-Valid.  Loss=0.2454522\n",
      "\n",
      "Best train loss = 0.0000002\n",
      "\n",
      "'train_loss05_9.csv' saved.\n",
      "'valid_loss05_9.csv' saved.\n",
      "'model11_backward05_9_best.pth' saved.\n"
     ]
    },
    {
     "data": {
      "application/vnd.jupyter.widget-view+json": {
       "model_id": "b6e80a299258429a84619d7411808f69",
       "version_major": 2,
       "version_minor": 0
      },
      "text/plain": [
       "Epochs loop:   0%|          | 0/10000 [00:00<?, ?it/s]"
      ]
     },
     "metadata": {},
     "output_type": "display_data"
    },
    {
     "name": "stdout",
     "output_type": "stream",
     "text": [
      "Summary:\n",
      "-learning rate = 0.05000\n",
      "-Model saved after iteration 1.\n",
      "-Train.  Loss=0.0005050\n",
      "-Valid.  Loss=995381957623808.0000000\n",
      "\n",
      "Best train loss = 0.0003357\n",
      "\n",
      "'train_loss05_10.csv' saved.\n",
      "'valid_loss05_10.csv' saved.\n",
      "'model11_backward05_10_best.pth' saved.\n"
     ]
    }
   ],
   "source": [
    "# Perform grid search (lockdown: path 2)\n",
    "layer_sizes = [5, 2]\n",
    "epochs = 10000\n",
    "data_in = 'dataset_11Radiotherapy'\n",
    "data_out = \"data_lockdown_11Radiotherapy/lrs\"\n",
    "lock_flag = True\n",
    "step = 1\n",
    "\n",
    "# Read data\n",
    "load_data(data_in)\n",
    "\n",
    "# Normalize data\n",
    "normalize_data()\n",
    "\n",
    "# Create DataLoaders\n",
    "make_DataLoaders()\n",
    "features = xtrain.size(1)\n",
    "\n",
    "# Train model\n",
    "iterator = tqdm.notebook.tqdm(range(1, len(grid_lrs) + 1), desc='lr-grid loop')\n",
    "for n in iterator:\n",
    "    irow = n-1\n",
    "    model_forward_name = 'data_unconstrained_11Radiotherapy/lrs/model11_forward05_'+str(n)+'_last.pth'\n",
    "    fname = 'model11_backward05_'+str(n)\n",
    "    train_loss, valid_loss = train_model(\n",
    "                             grid_lrs[irow], \n",
    "                             features, \n",
    "                             layer_sizes,\n",
    "                             lock_flag = lock_flag,\n",
    "                             epochs=epochs,\n",
    "                             early_stop=epochs, \n",
    "                             fname=fname)\n",
    "    print('\\nBest train loss = {:.7f}\\n'.format(train_loss['loss'].min()))\n",
    "\n",
    "# .save relevant data\n",
    "    f3 = [fname+'_best.pth']\n",
    "    save_output(data_out, \n",
    "                'train_loss05_'+str(n)+'.csv', \n",
    "                'valid_loss05_'+str(n)+'.csv', f3)\n",
    "    \n",
    "# .find MSE, R2, etc...\n",
    "    mm = MyNet(features, layer_sizes)\n",
    "    mm.load_state_dict(torch.load(os.path.join(data_out, fname+'_best.pth')))\n",
    "    mm = mm.to(device)\n",
    "    mm.eval()\n",
    "\n",
    "# .save grid search results\n",
    "    ypred = mm(xvalid)\n",
    "    loss = loss_type(ypred, yvalid.view(-1))\n",
    "    accu = dataset_accuracy(valid_dataloader, mm, device)\n",
    "    df_grid_loss.iloc[irow,:] = [grid_lrs[irow], loss.detach().item(), accu]\n",
    "    df_grid_loss.to_csv(os.path.join(data_out, 'df_grid_backward05.csv'), index=None)"
   ]
  },
  {
   "cell_type": "code",
   "execution_count": 254,
   "metadata": {
    "ExecuteTime": {
     "end_time": "2021-02-25T19:13:36.602192Z",
     "start_time": "2021-02-25T19:13:36.479192Z"
    },
    "code_folding": [
     0
    ]
   },
   "outputs": [
    {
     "data": {
      "image/png": "[encoded data removed]",
      "text/plain": [
       "<Figure size 720x432 with 1 Axes>"
      ]
     },
     "metadata": {
      "needs_background": "light"
     },
     "output_type": "display_data"
    }
   ],
   "source": [
    "# Plot Loss vs point in grid search\n",
    "data_out = \"data_lockdown_11Radiotherapy/lrs\"\n",
    "df_grid_loss = pd.read_csv(os.path.join(data_out, 'df_grid_backward05.csv'))\n",
    "fig, axes = plt.subplots(figsize=(10,6))\n",
    "axes.scatter(np.log10(df_grid_loss.lr), df_grid_loss['valid_loss'])\n",
    "axes.plot(np.log10(df_grid_loss.lr), df_grid_loss['valid_loss'], label='loss')\n",
    "# axes.scatter(np.log10(df_grid_loss.lr), df_grid_loss['valid_r2'])\n",
    "# axes.plot(np.log10(df_grid_loss.lr), df_grid_loss['valid_r2'], label='r2')\n",
    "axes.set_xlabel(\"log10(lr)\")\n",
    "axes.set_ylabel(\"Validation metric\")\n",
    "axes.legend()\n",
    "plt.show()"
   ]
  },
  {
   "cell_type": "code",
   "execution_count": 255,
   "metadata": {
    "ExecuteTime": {
     "end_time": "2021-02-25T19:13:41.465377Z",
     "start_time": "2021-02-25T19:13:41.451294Z"
    },
    "code_folding": [
     0
    ]
   },
   "outputs": [
    {
     "name": "stdout",
     "output_type": "stream",
     "text": [
      "Best parameters (9):\n",
      "- Best lr = 0.02997\n",
      "- Best valid loss = 0.245452255\n"
     ]
    },
    {
     "data": {
      "text/plain": [
       "'data_lockdown_11Radiotherapy/valid_loss05.csv'"
      ]
     },
     "execution_count": 255,
     "metadata": {},
     "output_type": "execute_result"
    }
   ],
   "source": [
    "# Display grid search results\n",
    "data_out = \"data_lockdown_11Radiotherapy/lrs\"\n",
    "df_grid_loss = pd.read_csv(os.path.join(data_out, 'df_grid_backward05.csv'))\n",
    "\n",
    "idx = df_grid_loss.valid_loss.idxmin()\n",
    "best_lr_bward = df_grid_loss.iloc[idx, 0]\n",
    "best_mse      = df_grid_loss.iloc[idx, 1]\n",
    "print(\"Best parameters ({}):\".format(idx+1))\n",
    "print(\"- Best lr = {:.5f}\".format(best_lr_bward))\n",
    "print(\"- Best valid loss = {}\".format(best_mse))\n",
    "\n",
    "# Copy best models to main directory\n",
    "shutil.copy(\"data_unconstrained_11Radiotherapy/lrs/model11_forward05_\"+str(idx+1)+\"_best.pth\", \n",
    "            \"data_lockdown_11Radiotherapy/model11_fward05_best.pth\")\n",
    "shutil.copy(\"data_unconstrained_11Radiotherapy/lrs/model11_forward05_\"+str(idx+1)+\"_last.pth\", \n",
    "            \"data_lockdown_11Radiotherapy/model11_fward05_last.pth\")\n",
    "shutil.copy(\"data_lockdown_11Radiotherapy/lrs/model11_backward05_\"+str(idx+1)+\"_best.pth\", \n",
    "            \"data_lockdown_11Radiotherapy/model11_backward05_best.pth\")\n",
    "\n",
    "shutil.copy(\"data_unconstrained_11Radiotherapy/lrs/train_loss05_\"+str(idx+1)+\".csv\", \n",
    "            \"data_lockdown_11Radiotherapy/train_loss_fward05.csv\")\n",
    "shutil.copy(\"data_unconstrained_11Radiotherapy/lrs/valid_loss05_\"+str(idx+1)+\".csv\", \n",
    "            \"data_lockdown_11Radiotherapy/valid_loss_fward05.csv\")\n",
    "shutil.copy(\"data_lockdown_11Radiotherapy/lrs/train_loss05_\"+str(idx+1)+\".csv\", \n",
    "            \"data_lockdown_11Radiotherapy/train_loss05.csv\")\n",
    "shutil.copy(\"data_lockdown_11Radiotherapy/lrs/valid_loss05_\"+str(idx+1)+\".csv\", \n",
    "            \"data_lockdown_11Radiotherapy/valid_loss05.csv\")"
   ]
  },
  {
   "cell_type": "code",
   "execution_count": 256,
   "metadata": {
    "ExecuteTime": {
     "end_time": "2021-02-25T19:14:46.172357Z",
     "start_time": "2021-02-25T19:14:46.089534Z"
    },
    "code_folding": [
     0
    ]
   },
   "outputs": [
    {
     "data": {
      "text/html": [
       "<div>\n",
       "<style scoped>\n",
       "    .dataframe tbody tr th:only-of-type {\n",
       "        vertical-align: middle;\n",
       "    }\n",
       "\n",
       "    .dataframe tbody tr th {\n",
       "        vertical-align: top;\n",
       "    }\n",
       "\n",
       "    .dataframe thead th {\n",
       "        text-align: right;\n",
       "    }\n",
       "</style>\n",
       "<table border=\"1\" class=\"dataframe\">\n",
       "  <thead>\n",
       "    <tr style=\"text-align: right;\">\n",
       "      <th></th>\n",
       "      <th></th>\n",
       "      <th>LOSS</th>\n",
       "      <th>ACCURACY</th>\n",
       "    </tr>\n",
       "  </thead>\n",
       "  <tbody>\n",
       "    <tr>\n",
       "      <th rowspan=\"2\" valign=\"top\">TRAIN</th>\n",
       "      <th>forward</th>\n",
       "      <td>0.0497148</td>\n",
       "      <td>0.989247</td>\n",
       "    </tr>\n",
       "    <tr>\n",
       "      <th>lockdown</th>\n",
       "      <td>0.0167302</td>\n",
       "      <td>1</td>\n",
       "    </tr>\n",
       "    <tr>\n",
       "      <th rowspan=\"2\" valign=\"top\">VALIDATION</th>\n",
       "      <th>forward</th>\n",
       "      <td>0.220738</td>\n",
       "      <td>0.935484</td>\n",
       "    </tr>\n",
       "    <tr>\n",
       "      <th>lockdown</th>\n",
       "      <td>0.245452</td>\n",
       "      <td>0.935484</td>\n",
       "    </tr>\n",
       "    <tr>\n",
       "      <th rowspan=\"2\" valign=\"top\">TEST</th>\n",
       "      <th>forward</th>\n",
       "      <td>0.319842</td>\n",
       "      <td>0.875</td>\n",
       "    </tr>\n",
       "    <tr>\n",
       "      <th>lockdown</th>\n",
       "      <td>0.263531</td>\n",
       "      <td>0.9375</td>\n",
       "    </tr>\n",
       "  </tbody>\n",
       "</table>\n",
       "</div>"
      ],
      "text/plain": [
       "                          LOSS  ACCURACY\n",
       "TRAIN      forward   0.0497148  0.989247\n",
       "           lockdown  0.0167302         1\n",
       "VALIDATION forward    0.220738  0.935484\n",
       "           lockdown   0.245452  0.935484\n",
       "TEST       forward    0.319842     0.875\n",
       "           lockdown   0.263531    0.9375"
      ]
     },
     "execution_count": 256,
     "metadata": {},
     "output_type": "execute_result"
    }
   ],
   "source": [
    "# Find Loss, Accuracy, etc...\n",
    "data_out = \"data_lockdown_11Radiotherapy\"\n",
    "index = pd.MultiIndex.from_product([['TRAIN', 'VALIDATION', 'TEST'], ['forward', 'lockdown']])\n",
    "df_results = pd.DataFrame(index=index, columns=['LOSS', 'ACCURACY'])\n",
    "\n",
    "# Unconstrained results\n",
    "mm = MyNet(features, layer_sizes)\n",
    "mm.load_state_dict(torch.load('data_unconstrained_11Radiotherapy/model11_forward05_best.pth'))\n",
    "mm = mm.to(device)\n",
    "mm.eval()\n",
    "\n",
    "ypred = mm(xtrain)\n",
    "loss = loss_type(ypred, ytrain.view(-1))\n",
    "accu = dataset_accuracy(train_dataloader, mm, device)\n",
    "df_results.loc[('TRAIN', 'forward'), 'LOSS'] = loss.detach().item()\n",
    "df_results.loc[('TRAIN', 'forward'), 'ACCURACY'] = accu\n",
    "\n",
    "ypred = mm(xvalid)\n",
    "loss = loss_type(ypred, yvalid.view(-1))\n",
    "accu = dataset_accuracy(valid_dataloader, mm, device)\n",
    "df_results.loc[('VALIDATION', 'forward'), 'LOSS'] = loss.detach().item()\n",
    "df_results.loc[('VALIDATION', 'forward'), 'ACCURACY'] = accu\n",
    "\n",
    "ypred = mm(xtest)\n",
    "loss = loss_type(ypred, ytest.view(-1))\n",
    "accu = dataset_accuracy(test_dataloader, mm, device)\n",
    "df_results.loc[('TEST', 'forward'), 'LOSS'] = loss.detach().item()\n",
    "df_results.loc[('TEST', 'forward'), 'ACCURACY'] = accu\n",
    "\n",
    "# Lockdown results\n",
    "mm = MyNet(features, layer_sizes)\n",
    "mm.load_state_dict(torch.load('data_lockdown_11Radiotherapy/model11_backward05_best.pth'))\n",
    "mm = mm.to(device)\n",
    "mm.eval()\n",
    "\n",
    "ypred = mm(xtrain)\n",
    "loss = loss_type(ypred, ytrain.view(-1))\n",
    "accu = dataset_accuracy(train_dataloader, mm, device)\n",
    "df_results.loc[('TRAIN', 'lockdown'), 'LOSS'] = loss.detach().item()\n",
    "df_results.loc[('TRAIN', 'lockdown'), 'ACCURACY'] = accu\n",
    "\n",
    "ypred = mm(xvalid)\n",
    "loss = loss_type(ypred, yvalid.view(-1))\n",
    "accu = dataset_accuracy(valid_dataloader, mm, device)\n",
    "df_results.loc[('VALIDATION', 'lockdown'), 'LOSS'] = loss.detach().item()\n",
    "df_results.loc[('VALIDATION', 'lockdown'), 'ACCURACY'] = accu\n",
    "\n",
    "ypred = mm(xtest)\n",
    "loss = loss_type(ypred, ytest.view(-1))\n",
    "accu = dataset_accuracy(test_dataloader, mm, device)\n",
    "df_results.loc[('TEST', 'lockdown'), 'LOSS'] = loss.detach().item()\n",
    "df_results.loc[('TEST', 'lockdown'), 'ACCURACY'] = accu\n",
    "\n",
    "df_results.to_csv(os.path.join(data_out, 'results05.csv'), index=True)\n",
    "df_results"
   ]
  },
  {
   "cell_type": "code",
   "execution_count": 13,
   "metadata": {
    "ExecuteTime": {
     "end_time": "2021-06-23T20:07:12.379602Z",
     "start_time": "2021-06-23T20:07:12.102462Z"
    },
    "code_folding": []
   },
   "outputs": [
    {
     "data": {
      "image/png": "[encoded data removed]",
      "text/plain": [
       "<Figure size 1080x432 with 1 Axes>"
      ]
     },
     "metadata": {
      "needs_background": "light"
     },
     "output_type": "display_data"
    },
    {
     "name": "stdout",
     "output_type": "stream",
     "text": [
      "Feature importance graph saved at: 'data_lockdown_11Radiotherapy/feature_importance05.pdf'\n",
      "feature importance .csv saved at: 'data_lockdown_11Radiotherapy/feature_importance_lockdown05.csv'\n"
     ]
    }
   ],
   "source": [
    "# Weight importance (Lockdown: layer 1)\n",
    "layer_sizes = [5, 2]\n",
    "data_out = \"data_lockdown_11Radiotherapy\"\n",
    "m1 = torch.load('data_lockdown_11Radiotherapy/model11_backward05_best.pth')\n",
    "feature_importance1 = pd.Series(abs(m1['classifier.0.weight']).sum(dim=0), index=cols_all)\n",
    "feature_importance1 = feature_importance1/feature_importance1.max()\n",
    "feature_importance_sorted1 = feature_importance1.sort_values(ascending=False)\n",
    "\n",
    "idx = feature_importance_sorted1 > 1e-2\n",
    "\n",
    "fig, axes = plt.subplots(figsize=(15,6))\n",
    "x_pos = np.arange(idx.sum())\n",
    "axes.fill_between(x_pos, 0, feature_importance_sorted1[idx], zorder=2)\n",
    "# axes.set_xticks(x_pos)\n",
    "# axes.set_xticklabels(feature_importance_sorted1.index[idx], rotation='vertical')\n",
    "axes.set_xlim(-1,idx.sum())\n",
    "axes.set_ylabel('Performance')\n",
    "axes.set_title('Feature Importance (Lockdown): layer 1')\n",
    "axes.grid(True, zorder=1)\n",
    "\n",
    "plt.tight_layout()\n",
    "plt.savefig(os.path.join(data_out, 'feature_importance05.pdf'), bbox_inches='tight')\n",
    "plt.show()\n",
    "print(\"Feature importance graph saved at: '{}'\".format(os.path.join(data_out, 'feature_importance05.pdf')))\n",
    "\n",
    "feature_importance_sorted1.to_csv(os.path.join(data_out, 'feature_importance_lockdown05.csv'))\n",
    "print(\"feature importance .csv saved at: '{}'\".format(os.path.join(data_out, \n",
    "                                                                   'feature_importance_lockdown05.csv')))"
   ]
  },
  {
   "cell_type": "code",
   "execution_count": 39,
   "metadata": {
    "ExecuteTime": {
     "end_time": "2021-03-02T17:32:42.553133Z",
     "start_time": "2021-03-02T17:32:42.129014Z"
    },
    "code_folding": [
     0
    ]
   },
   "outputs": [
    {
     "data": {
      "image/png": "[encoded data removed]",
      "text/plain": [
       "<Figure size 1080x432 with 1 Axes>"
      ]
     },
     "metadata": {
      "needs_background": "light"
     },
     "output_type": "display_data"
    },
    {
     "name": "stdout",
     "output_type": "stream",
     "text": [
      "Feature importance graph saved at: 'data_unconstrained_11Radiotherapy/feature_importance05.pdf'\n",
      "feature importance .csv saved at: 'data_unconstrained_11Radiotherapy/feature_importance_forward05.csv'\n"
     ]
    }
   ],
   "source": [
    "# Weight importance (Forward: layer 1)\n",
    "layer_sizes = [5, 2]\n",
    "data_out = \"data_unconstrained_11Radiotherapy\"\n",
    "m1 = torch.load('data_unconstrained_11Radiotherapy/model11_forward05_best.pth')\n",
    "feature_importance1 = pd.Series(abs(m1['classifier.0.weight']).sum(dim=0), index=cols_all)\n",
    "feature_importance1 = feature_importance1/feature_importance1.sum()\n",
    "feature_importance_sorted1 = feature_importance1.sort_values(ascending=False)\n",
    "\n",
    "idx = feature_importance_sorted1 >= 0\n",
    "\n",
    "fig, axes = plt.subplots(figsize=(15,6))\n",
    "x_pos = np.arange(idx.sum())\n",
    "axes.fill_between(x_pos, 0, feature_importance_sorted1[idx], zorder=2, lw=3)\n",
    "# axes.set_xticks(x_pos)\n",
    "# axes.set_xticklabels(feature_importance_sorted1.index[idx], rotation='vertical')\n",
    "# axes.set_xlim(-1,idx.sum())\n",
    "axes.set_ylabel('Performance')\n",
    "axes.set_title('Feature Importance (Forward): layer 1: features = {}, nodes = {}'.format(n_features, \n",
    "                                                                                          layer_sizes[0]))\n",
    "axes.grid(True, zorder=1)\n",
    "\n",
    "plt.tight_layout()\n",
    "plt.savefig(os.path.join(data_out, 'feature_importance05.pdf'), bbox_inches='tight')\n",
    "plt.show()\n",
    "print(\"Feature importance graph saved at: '{}'\".format(os.path.join(data_out, 'feature_importance05.pdf')))\n",
    "\n",
    "feature_importance_sorted1.to_csv(os.path.join(data_out, 'feature_importance_forward05.csv'))\n",
    "print(\"feature importance .csv saved at: '{}'\".format(os.path.join(data_out, 'feature_importance_forward05.csv')))"
   ]
  },
  {
   "cell_type": "code",
   "execution_count": 6,
   "metadata": {
    "ExecuteTime": {
     "end_time": "2021-06-23T19:48:41.226993Z",
     "start_time": "2021-06-23T19:48:40.643988Z"
    },
    "code_folding": [
     0
    ]
   },
   "outputs": [
    {
     "data": {
      "image/png": "[encoded data removed]",
      "text/plain": [
       "<Figure size 1080x432 with 1 Axes>"
      ]
     },
     "metadata": {
      "needs_background": "light"
     },
     "output_type": "display_data"
    }
   ],
   "source": [
    "# Gene importance\n",
    "data_out = \"data_lockdown_11Radiotherapy\"\n",
    "m1 = torch.load('data_lockdown_11Radiotherapy/model11_backward05_best.pth')\n",
    "feature_importance1 = pd.Series(abs(m1['classifier.0.weight']).sum(dim=0), index=cols_all)\n",
    "feature_importance1 = feature_importance1/feature_importance1.max()\n",
    "feature_importance_sorted1 = feature_importance1.sort_values(ascending=False)\n",
    "idx1 = feature_importance_sorted1 >= 0\n",
    "\n",
    "data_out = \"data_unconstrained_11Radiotherapy\"\n",
    "m2 = torch.load('data_unconstrained_11Radiotherapy/model11_forward05_best.pth')\n",
    "feature_importance2 = pd.Series(abs(m2['classifier.0.weight']).sum(dim=0), index=cols_all)\n",
    "feature_importance2 = feature_importance2/feature_importance2.max()\n",
    "feature_importance_sorted2 = feature_importance2.sort_values(ascending=False)\n",
    "idx2 = feature_importance_sorted2 >= 0\n",
    "\n",
    "fig, axes = plt.subplots(figsize=(15,6))\n",
    "x_pos = np.arange(idx2.sum())\n",
    "axes.fill_between(x_pos, 0, feature_importance_sorted2[idx2], label='Standard', zorder=2, color='red')\n",
    "axes.fill_between(x_pos, 0, feature_importance_sorted1[idx1], label='Lockdown', zorder=2, color='limegreen')\n",
    "axes.set_xlim(-1,idx2.sum())\n",
    "axes.set_ylabel('Importance', fontsize=14)\n",
    "axes.set_xlabel('Genes', fontsize=14)\n",
    "# axes.set_title('Genes Importance: genes = {}'.format(features), fontsize=14)\n",
    "axes.set_title('Genes Importance', fontsize=14)\n",
    "axes.legend(fontsize=14)\n",
    "axes.grid(True, zorder=1)\n",
    "plt.yticks(fontsize=12)\n",
    "plt.xticks(fontsize=12)\n",
    "\n",
    "plt.tight_layout()\n",
    "plt.savefig(os.path.join(\"data_lockdown_11Radiotherapy\", 'feature_importance.pdf'), bbox_inches='tight')\n",
    "plt.show()\n",
    "# print(\"Feature importance graph saved at: '{}'\".format(os.path.join(data_out, 'feature_importance05.pdf')))\n",
    "\n",
    "# feature_importance_sorted1.to_csv(os.path.join(data_out, 'feature_importance_lockdown05.csv'))\n",
    "# print(\"feature importance .csv saved at: '{}'\".format(os.path.join(data_out, 'feature_importance_lockdown05.csv')))"
   ]
  },
  {
   "cell_type": "code",
   "execution_count": 52,
   "metadata": {
    "ExecuteTime": {
     "end_time": "2021-06-24T21:30:57.412502Z",
     "start_time": "2021-06-24T21:30:56.865325Z"
    },
    "code_folding": []
   },
   "outputs": [
    {
     "data": {
      "image/png": "[encoded data removed]",
      "text/plain": [
       "<Figure size 720x432 with 1 Axes>"
      ]
     },
     "metadata": {
      "needs_background": "light"
     },
     "output_type": "display_data"
    }
   ],
   "source": [
    "# Gene importance\n",
    "data_out = \"data_lockdown_11Radiotherapy\"\n",
    "m1 = torch.load('data_lockdown_11Radiotherapy/model11_backward05_best.pth')\n",
    "feature_importance1 = pd.Series(abs(m1['classifier.0.weight']).sum(dim=0), index=cols_all)\n",
    "feature_importance1 = feature_importance1/feature_importance1.max()\n",
    "feature_importance_sorted1 = feature_importance1.sort_values(ascending=False)\n",
    "idx1 = feature_importance_sorted1 >= 0\n",
    "\n",
    "data_out = \"data_unconstrained_11Radiotherapy\"\n",
    "m2 = torch.load('data_unconstrained_11Radiotherapy/model11_forward05_best.pth')\n",
    "feature_importance2 = pd.Series(abs(m2['classifier.0.weight']).sum(dim=0), index=cols_all)\n",
    "feature_importance2 = feature_importance2/feature_importance2.max()\n",
    "feature_importance_sorted2 = feature_importance2.sort_values(ascending=False)\n",
    "idx2 = feature_importance_sorted2 >= 0\n",
    "\n",
    "fig, axes = plt.subplots(figsize=(10,6))\n",
    "x_pos = np.arange(idx2.sum())\n",
    "axes.fill_between(x_pos, 0, feature_importance_sorted2[idx2], label='Early Stopping', \n",
    "                  zorder=2, color='tab:red')\n",
    "axes.fill_between(x_pos, 0, feature_importance_sorted1[idx1], label='Lockout(L1)', \n",
    "                  zorder=2, color='limegreen')\n",
    "axes.set_xlim(-1,idx2.sum())\n",
    "axes.set_ylabel('Importance', fontsize=16)\n",
    "axes.set_xlabel('feature', fontsize=16)\n",
    "# axes.set_title('Genes Importance: genes = {}'.format(features), fontsize=14)\n",
    "axes.set_title('Feature Importance', fontsize=16)\n",
    "axes.legend(fontsize=14)\n",
    "axes.grid(True, zorder=1)\n",
    "axes.tick_params(axis='both', which='major', labelsize=14)\n",
    "\n",
    "plt.tight_layout()\n",
    "plt.savefig(os.path.join(\"data_lockdown_11Radiotherapy\", 'feature_importance_2.pdf'), bbox_inches='tight')\n",
    "plt.show()\n",
    "# print(\"Feature importance graph saved at: '{}'\".format(os.path.join(data_out, 'feature_importance05.pdf')))"
   ]
  },
  {
   "cell_type": "code",
   "execution_count": 265,
   "metadata": {
    "ExecuteTime": {
     "end_time": "2021-02-26T05:07:28.677429Z",
     "start_time": "2021-02-25T19:30:32.990399Z"
    },
    "code_folding": [
     0
    ],
    "scrolled": true
   },
   "outputs": [
    {
     "data": {
      "application/vnd.jupyter.widget-view+json": {
       "model_id": "e9c1c60f9b6148bd9d7a1ca8a7a8fcfe",
       "version_major": 2,
       "version_minor": 0
      },
      "text/plain": [
       "Partitions loop:   0%|          | 0/100 [00:00<?, ?it/s]"
      ]
     },
     "metadata": {},
     "output_type": "display_data"
    },
    {
     "name": "stdout",
     "output_type": "stream",
     "text": [
      "- train minibatches = 1\n",
      "- valid minibatches = 1\n",
      "- test minibatches = 1\n"
     ]
    },
    {
     "data": {
      "application/vnd.jupyter.widget-view+json": {
       "model_id": "7d0a0f0c6725417b8cb4d8f5d61dfc53",
       "version_major": 2,
       "version_minor": 0
      },
      "text/plain": [
       "Epochs loop:   0%|          | 0/20000 [00:00<?, ?it/s]"
      ]
     },
     "metadata": {},
     "output_type": "display_data"
    },
    {
     "name": "stdout",
     "output_type": "stream",
     "text": [
      "Summary:\n",
      "-learning rate = 0.00083\n",
      "-path 1 has early stopped:\n",
      " 4000 iterations with no improvement in train loss.\n",
      "-Model saved after iteration 63.\n",
      "-Train.  Loss=0.1335604\n",
      "-Valid.  Loss=0.5149336\n",
      "'train_loss05_1.csv' saved.\n",
      "'valid_loss05_1.csv' saved.\n",
      "'model11_forward05_1_last.pth' saved.\n",
      "'model11_forward05_1_best.pth' saved.\n",
      "- train minibatches = 1\n",
      "- valid minibatches = 1\n",
      "- test minibatches = 1\n"
     ]
    },
    {
     "data": {
      "application/vnd.jupyter.widget-view+json": {
       "model_id": "ed30f0f27c8e44f5bab6641fe035d5ad",
       "version_major": 2,
       "version_minor": 0
      },
      "text/plain": [
       "Epochs loop:   0%|          | 0/20000 [00:00<?, ?it/s]"
      ]
     },
     "metadata": {},
     "output_type": "display_data"
    },
    {
     "name": "stdout",
     "output_type": "stream",
     "text": [
      "Summary:\n",
      "-learning rate = 0.00083\n",
      "-Model saved after iteration 20000.\n",
      "-Train.  Loss=0.0324949\n",
      "-Valid.  Loss=0.1404966\n",
      "'train_loss05_2.csv' saved.\n",
      "'valid_loss05_2.csv' saved.\n",
      "'model11_forward05_2_last.pth' saved.\n",
      "'model11_forward05_2_best.pth' saved.\n",
      "- train minibatches = 1\n",
      "- valid minibatches = 1\n",
      "- test minibatches = 1\n"
     ]
    },
    {
     "data": {
      "application/vnd.jupyter.widget-view+json": {
       "model_id": "51b2032d5caf4217806f952b32581075",
       "version_major": 2,
       "version_minor": 0
      },
      "text/plain": [
       "Epochs loop:   0%|          | 0/20000 [00:00<?, ?it/s]"
      ]
     },
     "metadata": {},
     "output_type": "display_data"
    },
    {
     "name": "stdout",
     "output_type": "stream",
     "text": [
      "Summary:\n",
      "-learning rate = 0.00083\n",
      "-Model saved after iteration 20000.\n",
      "-Train.  Loss=0.0129125\n",
      "-Valid.  Loss=0.0953405\n",
      "'train_loss05_3.csv' saved.\n",
      "'valid_loss05_3.csv' saved.\n",
      "'model11_forward05_3_last.pth' saved.\n",
      "'model11_forward05_3_best.pth' saved.\n",
      "- train minibatches = 1\n",
      "- valid minibatches = 1\n",
      "- test minibatches = 1\n"
     ]
    },
    {
     "data": {
      "application/vnd.jupyter.widget-view+json": {
       "model_id": "698978472b664327b853afad18cee935",
       "version_major": 2,
       "version_minor": 0
      },
      "text/plain": [
       "Epochs loop:   0%|          | 0/20000 [00:00<?, ?it/s]"
      ]
     },
     "metadata": {},
     "output_type": "display_data"
    },
    {
     "name": "stdout",
     "output_type": "stream",
     "text": [
      "Summary:\n",
      "-learning rate = 0.00083\n",
      "-Model saved after iteration 19935.\n",
      "-Train.  Loss=0.0191420\n",
      "-Valid.  Loss=0.1291979\n",
      "'train_loss05_4.csv' saved.\n",
      "'valid_loss05_4.csv' saved.\n",
      "'model11_forward05_4_last.pth' saved.\n",
      "'model11_forward05_4_best.pth' saved.\n",
      "- train minibatches = 1\n",
      "- valid minibatches = 1\n",
      "- test minibatches = 1\n"
     ]
    },
    {
     "data": {
      "application/vnd.jupyter.widget-view+json": {
       "model_id": "cdfd429af96d476589a0f7b9ff2ba054",
       "version_major": 2,
       "version_minor": 0
      },
      "text/plain": [
       "Epochs loop:   0%|          | 0/20000 [00:00<?, ?it/s]"
      ]
     },
     "metadata": {},
     "output_type": "display_data"
    },
    {
     "name": "stdout",
     "output_type": "stream",
     "text": [
      "Summary:\n",
      "-learning rate = 0.00083\n",
      "-path 1 has early stopped:\n",
      " 4000 iterations with no improvement in train loss.\n",
      "-Model saved after iteration 105.\n",
      "-Train.  Loss=0.1388262\n",
      "-Valid.  Loss=0.5422871\n",
      "'train_loss05_5.csv' saved.\n",
      "'valid_loss05_5.csv' saved.\n",
      "'model11_forward05_5_last.pth' saved.\n",
      "'model11_forward05_5_best.pth' saved.\n",
      "- train minibatches = 1\n",
      "- valid minibatches = 1\n",
      "- test minibatches = 1\n"
     ]
    },
    {
     "data": {
      "application/vnd.jupyter.widget-view+json": {
       "model_id": "82e65e05c0d74154ad1faf87b7ccc1b5",
       "version_major": 2,
       "version_minor": 0
      },
      "text/plain": [
       "Epochs loop:   0%|          | 0/20000 [00:00<?, ?it/s]"
      ]
     },
     "metadata": {},
     "output_type": "display_data"
    },
    {
     "name": "stdout",
     "output_type": "stream",
     "text": [
      "Summary:\n",
      "-learning rate = 0.00083\n",
      "-path 1 has early stopped:\n",
      " 4000 iterations with no improvement in train loss.\n",
      "-Model saved after iteration 25.\n",
      "-Train.  Loss=0.3662592\n",
      "-Valid.  Loss=0.5554268\n",
      "'train_loss05_6.csv' saved.\n",
      "'valid_loss05_6.csv' saved.\n",
      "'model11_forward05_6_last.pth' saved.\n",
      "'model11_forward05_6_best.pth' saved.\n",
      "- train minibatches = 1\n",
      "- valid minibatches = 1\n",
      "- test minibatches = 1\n"
     ]
    },
    {
     "data": {
      "application/vnd.jupyter.widget-view+json": {
       "model_id": "f6ba7a036c6e4528875a12e99bb5414c",
       "version_major": 2,
       "version_minor": 0
      },
      "text/plain": [
       "Epochs loop:   0%|          | 0/20000 [00:00<?, ?it/s]"
      ]
     },
     "metadata": {},
     "output_type": "display_data"
    },
    {
     "name": "stdout",
     "output_type": "stream",
     "text": [
      "Summary:\n",
      "-learning rate = 0.00083\n",
      "-path 1 has early stopped:\n",
      " 4000 iterations with no improvement in train loss.\n",
      "-Model saved after iteration 3813.\n",
      "-Train.  Loss=0.0016796\n",
      "-Valid.  Loss=0.3205439\n",
      "'train_loss05_7.csv' saved.\n",
      "'valid_loss05_7.csv' saved.\n",
      "'model11_forward05_7_last.pth' saved.\n",
      "'model11_forward05_7_best.pth' saved.\n",
      "- train minibatches = 1\n",
      "- valid minibatches = 1\n",
      "- test minibatches = 1\n"
     ]
    },
    {
     "data": {
      "application/vnd.jupyter.widget-view+json": {
       "model_id": "de776f3ba1f94357a4bbc0d6acc92e36",
       "version_major": 2,
       "version_minor": 0
      },
      "text/plain": [
       "Epochs loop:   0%|          | 0/20000 [00:00<?, ?it/s]"
      ]
     },
     "metadata": {},
     "output_type": "display_data"
    },
    {
     "name": "stdout",
     "output_type": "stream",
     "text": [
      "Summary:\n",
      "-learning rate = 0.00083\n",
      "-path 1 has early stopped:\n",
      " 4000 iterations with no improvement in train loss.\n",
      "-Model saved after iteration 3155.\n",
      "-Train.  Loss=0.0016855\n",
      "-Valid.  Loss=0.2257426\n",
      "'train_loss05_8.csv' saved.\n",
      "'valid_loss05_8.csv' saved.\n",
      "'model11_forward05_8_last.pth' saved.\n",
      "'model11_forward05_8_best.pth' saved.\n",
      "- train minibatches = 1\n",
      "- valid minibatches = 1\n",
      "- test minibatches = 1\n"
     ]
    },
    {
     "data": {
      "application/vnd.jupyter.widget-view+json": {
       "model_id": "3290276fc5a5496ca4218cb1a351aaac",
       "version_major": 2,
       "version_minor": 0
      },
      "text/plain": [
       "Epochs loop:   0%|          | 0/20000 [00:00<?, ?it/s]"
      ]
     },
     "metadata": {},
     "output_type": "display_data"
    },
    {
     "name": "stdout",
     "output_type": "stream",
     "text": [
      "Summary:\n",
      "-learning rate = 0.00083\n",
      "-Model saved after iteration 20000.\n",
      "-Train.  Loss=0.0001783\n",
      "-Valid.  Loss=0.0561803\n",
      "'train_loss05_9.csv' saved.\n",
      "'valid_loss05_9.csv' saved.\n",
      "'model11_forward05_9_last.pth' saved.\n",
      "'model11_forward05_9_best.pth' saved.\n",
      "- train minibatches = 1\n",
      "- valid minibatches = 1\n",
      "- test minibatches = 1\n"
     ]
    },
    {
     "data": {
      "application/vnd.jupyter.widget-view+json": {
       "model_id": "83091ba57db944c8b72ebf5da635b7d8",
       "version_major": 2,
       "version_minor": 0
      },
      "text/plain": [
       "Epochs loop:   0%|          | 0/20000 [00:00<?, ?it/s]"
      ]
     },
     "metadata": {},
     "output_type": "display_data"
    },
    {
     "name": "stdout",
     "output_type": "stream",
     "text": [
      "Summary:\n",
      "-learning rate = 0.00083\n",
      "-path 1 has early stopped:\n",
      " 4000 iterations with no improvement in train loss.\n",
      "-Model saved after iteration 833.\n",
      "-Train.  Loss=0.1098945\n",
      "-Valid.  Loss=0.3726572\n",
      "'train_loss05_10.csv' saved.\n",
      "'valid_loss05_10.csv' saved.\n",
      "'model11_forward05_10_last.pth' saved.\n",
      "'model11_forward05_10_best.pth' saved.\n",
      "- train minibatches = 1\n",
      "- valid minibatches = 1\n",
      "- test minibatches = 1\n"
     ]
    },
    {
     "data": {
      "application/vnd.jupyter.widget-view+json": {
       "model_id": "b46ece912ffc473bbad926b362c928a1",
       "version_major": 2,
       "version_minor": 0
      },
      "text/plain": [
       "Epochs loop:   0%|          | 0/20000 [00:00<?, ?it/s]"
      ]
     },
     "metadata": {},
     "output_type": "display_data"
    },
    {
     "name": "stdout",
     "output_type": "stream",
     "text": [
      "Summary:\n",
      "-learning rate = 0.00083\n",
      "-path 1 has early stopped:\n",
      " 4000 iterations with no improvement in train loss.\n",
      "-Model saved after iteration 151.\n",
      "-Train.  Loss=0.2273855\n",
      "-Valid.  Loss=0.6007250\n",
      "'train_loss05_11.csv' saved.\n",
      "'valid_loss05_11.csv' saved.\n",
      "'model11_forward05_11_last.pth' saved.\n",
      "'model11_forward05_11_best.pth' saved.\n",
      "- train minibatches = 1\n",
      "- valid minibatches = 1\n",
      "- test minibatches = 1\n"
     ]
    },
    {
     "data": {
      "application/vnd.jupyter.widget-view+json": {
       "model_id": "6e68bef00f7e4dac8a787a788ee96ae9",
       "version_major": 2,
       "version_minor": 0
      },
      "text/plain": [
       "Epochs loop:   0%|          | 0/20000 [00:00<?, ?it/s]"
      ]
     },
     "metadata": {},
     "output_type": "display_data"
    },
    {
     "name": "stdout",
     "output_type": "stream",
     "text": [
      "Summary:\n",
      "-learning rate = 0.00083\n",
      "-path 1 has early stopped:\n",
      " 4000 iterations with no improvement in train loss.\n",
      "-Model saved after iteration 828.\n",
      "-Train.  Loss=0.0716162\n",
      "-Valid.  Loss=0.4090062\n",
      "'train_loss05_12.csv' saved.\n",
      "'valid_loss05_12.csv' saved.\n",
      "'model11_forward05_12_last.pth' saved.\n",
      "'model11_forward05_12_best.pth' saved.\n",
      "- train minibatches = 1\n",
      "- valid minibatches = 1\n",
      "- test minibatches = 1\n"
     ]
    },
    {
     "data": {
      "application/vnd.jupyter.widget-view+json": {
       "model_id": "eea8667d058e4e9486f25410c44c7fb9",
       "version_major": 2,
       "version_minor": 0
      },
      "text/plain": [
       "Epochs loop:   0%|          | 0/20000 [00:00<?, ?it/s]"
      ]
     },
     "metadata": {},
     "output_type": "display_data"
    },
    {
     "name": "stdout",
     "output_type": "stream",
     "text": [
      "Summary:\n",
      "-learning rate = 0.00083\n",
      "-path 1 has early stopped:\n",
      " 4000 iterations with no improvement in train loss.\n",
      "-Model saved after iteration 2076.\n",
      "-Train.  Loss=0.0080496\n",
      "-Valid.  Loss=0.3071591\n",
      "'train_loss05_13.csv' saved.\n",
      "'valid_loss05_13.csv' saved.\n",
      "'model11_forward05_13_last.pth' saved.\n",
      "'model11_forward05_13_best.pth' saved.\n",
      "- train minibatches = 1\n",
      "- valid minibatches = 1\n",
      "- test minibatches = 1\n"
     ]
    },
    {
     "data": {
      "application/vnd.jupyter.widget-view+json": {
       "model_id": "d206905de74f41a49cd2279d9e9a0663",
       "version_major": 2,
       "version_minor": 0
      },
      "text/plain": [
       "Epochs loop:   0%|          | 0/20000 [00:00<?, ?it/s]"
      ]
     },
     "metadata": {},
     "output_type": "display_data"
    },
    {
     "name": "stdout",
     "output_type": "stream",
     "text": [
      "Summary:\n",
      "-learning rate = 0.00083\n",
      "-path 1 has early stopped:\n",
      " 4000 iterations with no improvement in train loss.\n",
      "-Model saved after iteration 594.\n",
      "-Train.  Loss=0.0308108\n",
      "-Valid.  Loss=0.4506240\n",
      "'train_loss05_14.csv' saved.\n",
      "'valid_loss05_14.csv' saved.\n",
      "'model11_forward05_14_last.pth' saved.\n",
      "'model11_forward05_14_best.pth' saved.\n",
      "- train minibatches = 1\n",
      "- valid minibatches = 1\n",
      "- test minibatches = 1\n"
     ]
    },
    {
     "data": {
      "application/vnd.jupyter.widget-view+json": {
       "model_id": "b581cb4fa9e94d27a21c327ac079485a",
       "version_major": 2,
       "version_minor": 0
      },
      "text/plain": [
       "Epochs loop:   0%|          | 0/20000 [00:00<?, ?it/s]"
      ]
     },
     "metadata": {},
     "output_type": "display_data"
    },
    {
     "name": "stdout",
     "output_type": "stream",
     "text": [
      "Summary:\n",
      "-learning rate = 0.00083\n",
      "-path 1 has early stopped:\n",
      " 4000 iterations with no improvement in train loss.\n",
      "-Model saved after iteration 484.\n",
      "-Train.  Loss=0.0232917\n",
      "-Valid.  Loss=0.3826814\n",
      "'train_loss05_15.csv' saved.\n",
      "'valid_loss05_15.csv' saved.\n",
      "'model11_forward05_15_last.pth' saved.\n",
      "'model11_forward05_15_best.pth' saved.\n",
      "- train minibatches = 1\n",
      "- valid minibatches = 1\n",
      "- test minibatches = 1\n"
     ]
    },
    {
     "data": {
      "application/vnd.jupyter.widget-view+json": {
       "model_id": "636e04cff511436b8e01227e5f986837",
       "version_major": 2,
       "version_minor": 0
      },
      "text/plain": [
       "Epochs loop:   0%|          | 0/20000 [00:00<?, ?it/s]"
      ]
     },
     "metadata": {},
     "output_type": "display_data"
    },
    {
     "name": "stdout",
     "output_type": "stream",
     "text": [
      "Summary:\n",
      "-learning rate = 0.00083\n",
      "-path 1 has early stopped:\n",
      " 4000 iterations with no improvement in train loss.\n",
      "-Model saved after iteration 1390.\n",
      "-Train.  Loss=0.1140697\n",
      "-Valid.  Loss=0.2926486\n",
      "'train_loss05_16.csv' saved.\n",
      "'valid_loss05_16.csv' saved.\n",
      "'model11_forward05_16_last.pth' saved.\n",
      "'model11_forward05_16_best.pth' saved.\n",
      "- train minibatches = 1\n",
      "- valid minibatches = 1\n",
      "- test minibatches = 1\n"
     ]
    },
    {
     "data": {
      "application/vnd.jupyter.widget-view+json": {
       "model_id": "b4d9137d7f3349ab94b80e2686c21590",
       "version_major": 2,
       "version_minor": 0
      },
      "text/plain": [
       "Epochs loop:   0%|          | 0/20000 [00:00<?, ?it/s]"
      ]
     },
     "metadata": {},
     "output_type": "display_data"
    },
    {
     "name": "stdout",
     "output_type": "stream",
     "text": [
      "Summary:\n",
      "-learning rate = 0.00083\n",
      "-Model saved after iteration 19909.\n",
      "-Train.  Loss=0.0255618\n",
      "-Valid.  Loss=0.1854184\n",
      "'train_loss05_17.csv' saved.\n",
      "'valid_loss05_17.csv' saved.\n",
      "'model11_forward05_17_last.pth' saved.\n",
      "'model11_forward05_17_best.pth' saved.\n",
      "- train minibatches = 1\n",
      "- valid minibatches = 1\n",
      "- test minibatches = 1\n"
     ]
    },
    {
     "data": {
      "application/vnd.jupyter.widget-view+json": {
       "model_id": "f0194c170d8e4843ac309a85e31db020",
       "version_major": 2,
       "version_minor": 0
      },
      "text/plain": [
       "Epochs loop:   0%|          | 0/20000 [00:00<?, ?it/s]"
      ]
     },
     "metadata": {},
     "output_type": "display_data"
    },
    {
     "name": "stdout",
     "output_type": "stream",
     "text": [
      "Summary:\n",
      "-learning rate = 0.00083\n",
      "-Model saved after iteration 20000.\n",
      "-Train.  Loss=0.0001897\n",
      "-Valid.  Loss=0.0412369\n",
      "'train_loss05_18.csv' saved.\n",
      "'valid_loss05_18.csv' saved.\n",
      "'model11_forward05_18_last.pth' saved.\n",
      "'model11_forward05_18_best.pth' saved.\n",
      "- train minibatches = 1\n",
      "- valid minibatches = 1\n",
      "- test minibatches = 1\n"
     ]
    },
    {
     "data": {
      "application/vnd.jupyter.widget-view+json": {
       "model_id": "72ccc981312748789b28147c417c2420",
       "version_major": 2,
       "version_minor": 0
      },
      "text/plain": [
       "Epochs loop:   0%|          | 0/20000 [00:00<?, ?it/s]"
      ]
     },
     "metadata": {},
     "output_type": "display_data"
    },
    {
     "name": "stdout",
     "output_type": "stream",
     "text": [
      "Summary:\n",
      "-learning rate = 0.00083\n",
      "-path 1 has early stopped:\n",
      " 4000 iterations with no improvement in train loss.\n",
      "-Model saved after iteration 10715.\n",
      "-Train.  Loss=0.0004269\n",
      "-Valid.  Loss=0.1578191\n",
      "'train_loss05_19.csv' saved.\n",
      "'valid_loss05_19.csv' saved.\n",
      "'model11_forward05_19_last.pth' saved.\n",
      "'model11_forward05_19_best.pth' saved.\n",
      "- train minibatches = 1\n",
      "- valid minibatches = 1\n",
      "- test minibatches = 1\n"
     ]
    },
    {
     "data": {
      "application/vnd.jupyter.widget-view+json": {
       "model_id": "a707b053504c44b4bfab306095230c69",
       "version_major": 2,
       "version_minor": 0
      },
      "text/plain": [
       "Epochs loop:   0%|          | 0/20000 [00:00<?, ?it/s]"
      ]
     },
     "metadata": {},
     "output_type": "display_data"
    },
    {
     "name": "stdout",
     "output_type": "stream",
     "text": [
      "Summary:\n",
      "-learning rate = 0.00083\n",
      "-path 1 has early stopped:\n",
      " 4000 iterations with no improvement in train loss.\n",
      "-Model saved after iteration 736.\n",
      "-Train.  Loss=0.0136777\n",
      "-Valid.  Loss=0.2386154\n",
      "'train_loss05_20.csv' saved.\n",
      "'valid_loss05_20.csv' saved.\n",
      "'model11_forward05_20_last.pth' saved.\n",
      "'model11_forward05_20_best.pth' saved.\n",
      "- train minibatches = 1\n",
      "- valid minibatches = 1\n",
      "- test minibatches = 1\n"
     ]
    },
    {
     "data": {
      "application/vnd.jupyter.widget-view+json": {
       "model_id": "b36475a26e5d4be8994043af408cdd3f",
       "version_major": 2,
       "version_minor": 0
      },
      "text/plain": [
       "Epochs loop:   0%|          | 0/20000 [00:00<?, ?it/s]"
      ]
     },
     "metadata": {},
     "output_type": "display_data"
    },
    {
     "name": "stdout",
     "output_type": "stream",
     "text": [
      "Summary:\n",
      "-learning rate = 0.00083\n",
      "-path 1 has early stopped:\n",
      " 4000 iterations with no improvement in train loss.\n",
      "-Model saved after iteration 1448.\n",
      "-Train.  Loss=0.0348556\n",
      "-Valid.  Loss=0.3561080\n",
      "'train_loss05_21.csv' saved.\n",
      "'valid_loss05_21.csv' saved.\n",
      "'model11_forward05_21_last.pth' saved.\n",
      "'model11_forward05_21_best.pth' saved.\n",
      "- train minibatches = 1\n",
      "- valid minibatches = 1\n",
      "- test minibatches = 1\n"
     ]
    },
    {
     "data": {
      "application/vnd.jupyter.widget-view+json": {
       "model_id": "946aa80e3aa34ab3acac3d3e6924763d",
       "version_major": 2,
       "version_minor": 0
      },
      "text/plain": [
       "Epochs loop:   0%|          | 0/20000 [00:00<?, ?it/s]"
      ]
     },
     "metadata": {},
     "output_type": "display_data"
    },
    {
     "name": "stdout",
     "output_type": "stream",
     "text": [
      "Summary:\n",
      "-learning rate = 0.00083\n",
      "-path 1 has early stopped:\n",
      " 4000 iterations with no improvement in train loss.\n",
      "-Model saved after iteration 317.\n",
      "-Train.  Loss=0.1098043\n",
      "-Valid.  Loss=0.5708882\n",
      "'train_loss05_22.csv' saved.\n",
      "'valid_loss05_22.csv' saved.\n",
      "'model11_forward05_22_last.pth' saved.\n",
      "'model11_forward05_22_best.pth' saved.\n",
      "- train minibatches = 1\n",
      "- valid minibatches = 1\n",
      "- test minibatches = 1\n"
     ]
    },
    {
     "data": {
      "application/vnd.jupyter.widget-view+json": {
       "model_id": "b868f0a5bbb84333880b89776854fe7f",
       "version_major": 2,
       "version_minor": 0
      },
      "text/plain": [
       "Epochs loop:   0%|          | 0/20000 [00:00<?, ?it/s]"
      ]
     },
     "metadata": {},
     "output_type": "display_data"
    },
    {
     "name": "stdout",
     "output_type": "stream",
     "text": [
      "Summary:\n",
      "-learning rate = 0.00083\n",
      "-path 1 has early stopped:\n",
      " 4000 iterations with no improvement in train loss.\n",
      "-Model saved after iteration 636.\n",
      "-Train.  Loss=0.0314202\n",
      "-Valid.  Loss=0.2747200\n",
      "'train_loss05_23.csv' saved.\n",
      "'valid_loss05_23.csv' saved.\n",
      "'model11_forward05_23_last.pth' saved.\n",
      "'model11_forward05_23_best.pth' saved.\n",
      "- train minibatches = 1\n",
      "- valid minibatches = 1\n",
      "- test minibatches = 1\n"
     ]
    },
    {
     "data": {
      "application/vnd.jupyter.widget-view+json": {
       "model_id": "15e9209da28442cd85764077eb161be0",
       "version_major": 2,
       "version_minor": 0
      },
      "text/plain": [
       "Epochs loop:   0%|          | 0/20000 [00:00<?, ?it/s]"
      ]
     },
     "metadata": {},
     "output_type": "display_data"
    },
    {
     "name": "stdout",
     "output_type": "stream",
     "text": [
      "Summary:\n",
      "-learning rate = 0.00083\n",
      "-path 1 has early stopped:\n",
      " 4000 iterations with no improvement in train loss.\n",
      "-Model saved after iteration 317.\n",
      "-Train.  Loss=0.1289121\n",
      "-Valid.  Loss=0.5894797\n",
      "'train_loss05_24.csv' saved.\n",
      "'valid_loss05_24.csv' saved.\n",
      "'model11_forward05_24_last.pth' saved.\n",
      "'model11_forward05_24_best.pth' saved.\n",
      "- train minibatches = 1\n",
      "- valid minibatches = 1\n",
      "- test minibatches = 1\n"
     ]
    },
    {
     "data": {
      "application/vnd.jupyter.widget-view+json": {
       "model_id": "f930069fb58245b788849f308d61a7e0",
       "version_major": 2,
       "version_minor": 0
      },
      "text/plain": [
       "Epochs loop:   0%|          | 0/20000 [00:00<?, ?it/s]"
      ]
     },
     "metadata": {},
     "output_type": "display_data"
    },
    {
     "name": "stdout",
     "output_type": "stream",
     "text": [
      "Summary:\n",
      "-learning rate = 0.00083\n",
      "-path 1 has early stopped:\n",
      " 4000 iterations with no improvement in train loss.\n",
      "-Model saved after iteration 647.\n",
      "-Train.  Loss=0.0945405\n",
      "-Valid.  Loss=0.2996541\n",
      "'train_loss05_25.csv' saved.\n",
      "'valid_loss05_25.csv' saved.\n",
      "'model11_forward05_25_last.pth' saved.\n",
      "'model11_forward05_25_best.pth' saved.\n",
      "- train minibatches = 1\n",
      "- valid minibatches = 1\n",
      "- test minibatches = 1\n"
     ]
    },
    {
     "data": {
      "application/vnd.jupyter.widget-view+json": {
       "model_id": "6a8eb322871a4a2a96698bd2f5e4ec6c",
       "version_major": 2,
       "version_minor": 0
      },
      "text/plain": [
       "Epochs loop:   0%|          | 0/20000 [00:00<?, ?it/s]"
      ]
     },
     "metadata": {},
     "output_type": "display_data"
    },
    {
     "name": "stdout",
     "output_type": "stream",
     "text": [
      "Summary:\n",
      "-learning rate = 0.00083\n",
      "-path 1 has early stopped:\n",
      " 4000 iterations with no improvement in train loss.\n",
      "-Model saved after iteration 73.\n",
      "-Train.  Loss=0.2111995\n",
      "-Valid.  Loss=0.4749172\n",
      "'train_loss05_26.csv' saved.\n",
      "'valid_loss05_26.csv' saved.\n",
      "'model11_forward05_26_last.pth' saved.\n",
      "'model11_forward05_26_best.pth' saved.\n",
      "- train minibatches = 1\n",
      "- valid minibatches = 1\n",
      "- test minibatches = 1\n"
     ]
    },
    {
     "data": {
      "application/vnd.jupyter.widget-view+json": {
       "model_id": "27059f5b10c842c9a0f744ca77b988b7",
       "version_major": 2,
       "version_minor": 0
      },
      "text/plain": [
       "Epochs loop:   0%|          | 0/20000 [00:00<?, ?it/s]"
      ]
     },
     "metadata": {},
     "output_type": "display_data"
    },
    {
     "name": "stdout",
     "output_type": "stream",
     "text": [
      "Summary:\n",
      "-learning rate = 0.00083\n",
      "-path 1 has early stopped:\n",
      " 4000 iterations with no improvement in train loss.\n",
      "-Model saved after iteration 87.\n",
      "-Train.  Loss=0.0932707\n",
      "-Valid.  Loss=0.5938113\n",
      "'train_loss05_27.csv' saved.\n",
      "'valid_loss05_27.csv' saved.\n",
      "'model11_forward05_27_last.pth' saved.\n",
      "'model11_forward05_27_best.pth' saved.\n",
      "- train minibatches = 1\n",
      "- valid minibatches = 1\n",
      "- test minibatches = 1\n"
     ]
    },
    {
     "data": {
      "application/vnd.jupyter.widget-view+json": {
       "model_id": "cc9f687b33e844c28b8da62a502fb816",
       "version_major": 2,
       "version_minor": 0
      },
      "text/plain": [
       "Epochs loop:   0%|          | 0/20000 [00:00<?, ?it/s]"
      ]
     },
     "metadata": {},
     "output_type": "display_data"
    },
    {
     "name": "stdout",
     "output_type": "stream",
     "text": [
      "Summary:\n",
      "-learning rate = 0.00083\n",
      "-path 1 has early stopped:\n",
      " 4000 iterations with no improvement in train loss.\n",
      "-Model saved after iteration 1909.\n",
      "-Train.  Loss=0.0156588\n",
      "-Valid.  Loss=0.2568664\n",
      "'train_loss05_28.csv' saved.\n",
      "'valid_loss05_28.csv' saved.\n",
      "'model11_forward05_28_last.pth' saved.\n",
      "'model11_forward05_28_best.pth' saved.\n",
      "- train minibatches = 1\n",
      "- valid minibatches = 1\n",
      "- test minibatches = 1\n"
     ]
    },
    {
     "data": {
      "application/vnd.jupyter.widget-view+json": {
       "model_id": "c471f7c306094cbb98c89107704640ab",
       "version_major": 2,
       "version_minor": 0
      },
      "text/plain": [
       "Epochs loop:   0%|          | 0/20000 [00:00<?, ?it/s]"
      ]
     },
     "metadata": {},
     "output_type": "display_data"
    },
    {
     "name": "stdout",
     "output_type": "stream",
     "text": [
      "Summary:\n",
      "-learning rate = 0.00083\n",
      "-path 1 has early stopped:\n",
      " 4000 iterations with no improvement in train loss.\n",
      "-Model saved after iteration 50.\n",
      "-Train.  Loss=0.2946023\n",
      "-Valid.  Loss=0.6033328\n",
      "'train_loss05_29.csv' saved.\n",
      "'valid_loss05_29.csv' saved.\n",
      "'model11_forward05_29_last.pth' saved.\n",
      "'model11_forward05_29_best.pth' saved.\n",
      "- train minibatches = 1\n",
      "- valid minibatches = 1\n",
      "- test minibatches = 1\n"
     ]
    },
    {
     "data": {
      "application/vnd.jupyter.widget-view+json": {
       "model_id": "7869812101ba47e6ac1eebad245422ac",
       "version_major": 2,
       "version_minor": 0
      },
      "text/plain": [
       "Epochs loop:   0%|          | 0/20000 [00:00<?, ?it/s]"
      ]
     },
     "metadata": {},
     "output_type": "display_data"
    },
    {
     "name": "stdout",
     "output_type": "stream",
     "text": [
      "Summary:\n",
      "-learning rate = 0.00083\n",
      "-path 1 has early stopped:\n",
      " 4000 iterations with no improvement in train loss.\n",
      "-Model saved after iteration 49.\n",
      "-Train.  Loss=0.2714553\n",
      "-Valid.  Loss=0.4989989\n",
      "'train_loss05_30.csv' saved.\n",
      "'valid_loss05_30.csv' saved.\n",
      "'model11_forward05_30_last.pth' saved.\n",
      "'model11_forward05_30_best.pth' saved.\n",
      "- train minibatches = 1\n",
      "- valid minibatches = 1\n",
      "- test minibatches = 1\n"
     ]
    },
    {
     "data": {
      "application/vnd.jupyter.widget-view+json": {
       "model_id": "be6820283c334a24985c85037d818974",
       "version_major": 2,
       "version_minor": 0
      },
      "text/plain": [
       "Epochs loop:   0%|          | 0/20000 [00:00<?, ?it/s]"
      ]
     },
     "metadata": {},
     "output_type": "display_data"
    },
    {
     "name": "stdout",
     "output_type": "stream",
     "text": [
      "Summary:\n",
      "-learning rate = 0.00083\n",
      "-path 1 has early stopped:\n",
      " 4000 iterations with no improvement in train loss.\n",
      "-Model saved after iteration 148.\n",
      "-Train.  Loss=0.0894466\n",
      "-Valid.  Loss=0.3774474\n",
      "'train_loss05_31.csv' saved.\n",
      "'valid_loss05_31.csv' saved.\n",
      "'model11_forward05_31_last.pth' saved.\n",
      "'model11_forward05_31_best.pth' saved.\n",
      "- train minibatches = 1\n",
      "- valid minibatches = 1\n",
      "- test minibatches = 1\n"
     ]
    },
    {
     "data": {
      "application/vnd.jupyter.widget-view+json": {
       "model_id": "281d5680d5c748e89df23ed4ab4bee40",
       "version_major": 2,
       "version_minor": 0
      },
      "text/plain": [
       "Epochs loop:   0%|          | 0/20000 [00:00<?, ?it/s]"
      ]
     },
     "metadata": {},
     "output_type": "display_data"
    },
    {
     "name": "stdout",
     "output_type": "stream",
     "text": [
      "Summary:\n",
      "-learning rate = 0.00083\n",
      "-path 1 has early stopped:\n",
      " 4000 iterations with no improvement in train loss.\n",
      "-Model saved after iteration 65.\n",
      "-Train.  Loss=0.1253797\n",
      "-Valid.  Loss=0.4353362\n",
      "'train_loss05_32.csv' saved.\n",
      "'valid_loss05_32.csv' saved.\n",
      "'model11_forward05_32_last.pth' saved.\n",
      "'model11_forward05_32_best.pth' saved.\n",
      "- train minibatches = 1\n",
      "- valid minibatches = 1\n",
      "- test minibatches = 1\n"
     ]
    },
    {
     "data": {
      "application/vnd.jupyter.widget-view+json": {
       "model_id": "09b4d1723eac446cbd6ecc62525d6d03",
       "version_major": 2,
       "version_minor": 0
      },
      "text/plain": [
       "Epochs loop:   0%|          | 0/20000 [00:00<?, ?it/s]"
      ]
     },
     "metadata": {},
     "output_type": "display_data"
    },
    {
     "name": "stdout",
     "output_type": "stream",
     "text": [
      "Summary:\n",
      "-learning rate = 0.00083\n",
      "-Model saved after iteration 19888.\n",
      "-Train.  Loss=0.0262956\n",
      "-Valid.  Loss=0.1805301\n",
      "'train_loss05_33.csv' saved.\n",
      "'valid_loss05_33.csv' saved.\n",
      "'model11_forward05_33_last.pth' saved.\n",
      "'model11_forward05_33_best.pth' saved.\n",
      "- train minibatches = 1\n",
      "- valid minibatches = 1\n",
      "- test minibatches = 1\n"
     ]
    },
    {
     "data": {
      "application/vnd.jupyter.widget-view+json": {
       "model_id": "da584594afe94c0685378085a50d76cf",
       "version_major": 2,
       "version_minor": 0
      },
      "text/plain": [
       "Epochs loop:   0%|          | 0/20000 [00:00<?, ?it/s]"
      ]
     },
     "metadata": {},
     "output_type": "display_data"
    },
    {
     "name": "stdout",
     "output_type": "stream",
     "text": [
      "Summary:\n",
      "-learning rate = 0.00083\n",
      "-path 1 has early stopped:\n",
      " 4000 iterations with no improvement in train loss.\n",
      "-Model saved after iteration 428.\n",
      "-Train.  Loss=0.0194815\n",
      "-Valid.  Loss=0.2710802\n",
      "'train_loss05_34.csv' saved.\n",
      "'valid_loss05_34.csv' saved.\n",
      "'model11_forward05_34_last.pth' saved.\n",
      "'model11_forward05_34_best.pth' saved.\n",
      "- train minibatches = 1\n",
      "- valid minibatches = 1\n",
      "- test minibatches = 1\n"
     ]
    },
    {
     "data": {
      "application/vnd.jupyter.widget-view+json": {
       "model_id": "916459e1728b4f2ba187e0d520faa14e",
       "version_major": 2,
       "version_minor": 0
      },
      "text/plain": [
       "Epochs loop:   0%|          | 0/20000 [00:00<?, ?it/s]"
      ]
     },
     "metadata": {},
     "output_type": "display_data"
    },
    {
     "name": "stdout",
     "output_type": "stream",
     "text": [
      "Summary:\n",
      "-learning rate = 0.00083\n",
      "-path 1 has early stopped:\n",
      " 4000 iterations with no improvement in train loss.\n",
      "-Model saved after iteration 369.\n",
      "-Train.  Loss=0.0728454\n",
      "-Valid.  Loss=0.4013389\n",
      "'train_loss05_35.csv' saved.\n",
      "'valid_loss05_35.csv' saved.\n",
      "'model11_forward05_35_last.pth' saved.\n",
      "'model11_forward05_35_best.pth' saved.\n",
      "- train minibatches = 1\n",
      "- valid minibatches = 1\n",
      "- test minibatches = 1\n"
     ]
    },
    {
     "data": {
      "application/vnd.jupyter.widget-view+json": {
       "model_id": "4c75e5afdfa84d91a83589c11d7d477e",
       "version_major": 2,
       "version_minor": 0
      },
      "text/plain": [
       "Epochs loop:   0%|          | 0/20000 [00:00<?, ?it/s]"
      ]
     },
     "metadata": {},
     "output_type": "display_data"
    },
    {
     "name": "stdout",
     "output_type": "stream",
     "text": [
      "Summary:\n",
      "-learning rate = 0.00083\n",
      "-path 1 has early stopped:\n",
      " 4000 iterations with no improvement in train loss.\n",
      "-Model saved after iteration 4400.\n",
      "-Train.  Loss=0.0014216\n",
      "-Valid.  Loss=0.1344796\n",
      "'train_loss05_36.csv' saved.\n",
      "'valid_loss05_36.csv' saved.\n",
      "'model11_forward05_36_last.pth' saved.\n",
      "'model11_forward05_36_best.pth' saved.\n",
      "- train minibatches = 1\n",
      "- valid minibatches = 1\n",
      "- test minibatches = 1\n"
     ]
    },
    {
     "data": {
      "application/vnd.jupyter.widget-view+json": {
       "model_id": "89b1b5c9cf73413c94d026c74b16b1bb",
       "version_major": 2,
       "version_minor": 0
      },
      "text/plain": [
       "Epochs loop:   0%|          | 0/20000 [00:00<?, ?it/s]"
      ]
     },
     "metadata": {},
     "output_type": "display_data"
    },
    {
     "name": "stdout",
     "output_type": "stream",
     "text": [
      "Summary:\n",
      "-learning rate = 0.00083\n",
      "-path 1 has early stopped:\n",
      " 4000 iterations with no improvement in train loss.\n",
      "-Model saved after iteration 486.\n",
      "-Train.  Loss=0.0694612\n",
      "-Valid.  Loss=0.4463312\n",
      "'train_loss05_37.csv' saved.\n",
      "'valid_loss05_37.csv' saved.\n",
      "'model11_forward05_37_last.pth' saved.\n",
      "'model11_forward05_37_best.pth' saved.\n",
      "- train minibatches = 1\n",
      "- valid minibatches = 1\n",
      "- test minibatches = 1\n"
     ]
    },
    {
     "data": {
      "application/vnd.jupyter.widget-view+json": {
       "model_id": "60021997dc0442399d1563dd4b440ef8",
       "version_major": 2,
       "version_minor": 0
      },
      "text/plain": [
       "Epochs loop:   0%|          | 0/20000 [00:00<?, ?it/s]"
      ]
     },
     "metadata": {},
     "output_type": "display_data"
    },
    {
     "name": "stdout",
     "output_type": "stream",
     "text": [
      "Summary:\n",
      "-learning rate = 0.00083\n",
      "-path 1 has early stopped:\n",
      " 4000 iterations with no improvement in train loss.\n",
      "-Model saved after iteration 2744.\n",
      "-Train.  Loss=0.0021989\n",
      "-Valid.  Loss=0.1278833\n",
      "'train_loss05_38.csv' saved.\n",
      "'valid_loss05_38.csv' saved.\n",
      "'model11_forward05_38_last.pth' saved.\n",
      "'model11_forward05_38_best.pth' saved.\n",
      "- train minibatches = 1\n",
      "- valid minibatches = 1\n",
      "- test minibatches = 1\n"
     ]
    },
    {
     "data": {
      "application/vnd.jupyter.widget-view+json": {
       "model_id": "5c5136084ce64307b1b3a38309131e66",
       "version_major": 2,
       "version_minor": 0
      },
      "text/plain": [
       "Epochs loop:   0%|          | 0/20000 [00:00<?, ?it/s]"
      ]
     },
     "metadata": {},
     "output_type": "display_data"
    },
    {
     "name": "stdout",
     "output_type": "stream",
     "text": [
      "Summary:\n",
      "-learning rate = 0.00083\n",
      "-path 1 has early stopped:\n",
      " 4000 iterations with no improvement in train loss.\n",
      "-Model saved after iteration 16.\n",
      "-Train.  Loss=0.4940935\n",
      "-Valid.  Loss=0.6840287\n",
      "'train_loss05_39.csv' saved.\n",
      "'valid_loss05_39.csv' saved.\n",
      "'model11_forward05_39_last.pth' saved.\n",
      "'model11_forward05_39_best.pth' saved.\n",
      "- train minibatches = 1\n",
      "- valid minibatches = 1\n",
      "- test minibatches = 1\n"
     ]
    },
    {
     "data": {
      "application/vnd.jupyter.widget-view+json": {
       "model_id": "6b777b410e674d8681ac88df57eb7fca",
       "version_major": 2,
       "version_minor": 0
      },
      "text/plain": [
       "Epochs loop:   0%|          | 0/20000 [00:00<?, ?it/s]"
      ]
     },
     "metadata": {},
     "output_type": "display_data"
    },
    {
     "name": "stdout",
     "output_type": "stream",
     "text": [
      "Summary:\n",
      "-learning rate = 0.00083\n",
      "-path 1 has early stopped:\n",
      " 4000 iterations with no improvement in train loss.\n",
      "-Model saved after iteration 195.\n",
      "-Train.  Loss=0.1740389\n",
      "-Valid.  Loss=0.4505655\n",
      "'train_loss05_40.csv' saved.\n",
      "'valid_loss05_40.csv' saved.\n",
      "'model11_forward05_40_last.pth' saved.\n",
      "'model11_forward05_40_best.pth' saved.\n",
      "- train minibatches = 1\n",
      "- valid minibatches = 1\n",
      "- test minibatches = 1\n"
     ]
    },
    {
     "data": {
      "application/vnd.jupyter.widget-view+json": {
       "model_id": "9d68230d254c42d29f260af28746cd41",
       "version_major": 2,
       "version_minor": 0
      },
      "text/plain": [
       "Epochs loop:   0%|          | 0/20000 [00:00<?, ?it/s]"
      ]
     },
     "metadata": {},
     "output_type": "display_data"
    },
    {
     "name": "stdout",
     "output_type": "stream",
     "text": [
      "Summary:\n",
      "-learning rate = 0.00083\n",
      "-path 1 has early stopped:\n",
      " 4000 iterations with no improvement in train loss.\n",
      "-Model saved after iteration 83.\n",
      "-Train.  Loss=0.1621696\n",
      "-Valid.  Loss=0.5366385\n",
      "'train_loss05_41.csv' saved.\n",
      "'valid_loss05_41.csv' saved.\n",
      "'model11_forward05_41_last.pth' saved.\n",
      "'model11_forward05_41_best.pth' saved.\n",
      "- train minibatches = 1\n",
      "- valid minibatches = 1\n",
      "- test minibatches = 1\n"
     ]
    },
    {
     "data": {
      "application/vnd.jupyter.widget-view+json": {
       "model_id": "4fe544b40a4d41b3aed0793a60a21899",
       "version_major": 2,
       "version_minor": 0
      },
      "text/plain": [
       "Epochs loop:   0%|          | 0/20000 [00:00<?, ?it/s]"
      ]
     },
     "metadata": {},
     "output_type": "display_data"
    },
    {
     "name": "stdout",
     "output_type": "stream",
     "text": [
      "Summary:\n",
      "-learning rate = 0.00083\n",
      "-path 1 has early stopped:\n",
      " 4000 iterations with no improvement in train loss.\n",
      "-Model saved after iteration 73.\n",
      "-Train.  Loss=0.1746731\n",
      "-Valid.  Loss=0.4266544\n",
      "'train_loss05_42.csv' saved.\n",
      "'valid_loss05_42.csv' saved.\n",
      "'model11_forward05_42_last.pth' saved.\n",
      "'model11_forward05_42_best.pth' saved.\n",
      "- train minibatches = 1\n",
      "- valid minibatches = 1\n",
      "- test minibatches = 1\n"
     ]
    },
    {
     "data": {
      "application/vnd.jupyter.widget-view+json": {
       "model_id": "13bc74126ff043eb9b2d8b8aa4d4e376",
       "version_major": 2,
       "version_minor": 0
      },
      "text/plain": [
       "Epochs loop:   0%|          | 0/20000 [00:00<?, ?it/s]"
      ]
     },
     "metadata": {},
     "output_type": "display_data"
    },
    {
     "name": "stdout",
     "output_type": "stream",
     "text": [
      "Summary:\n",
      "-learning rate = 0.00083\n",
      "-path 1 has early stopped:\n",
      " 4000 iterations with no improvement in train loss.\n",
      "-Model saved after iteration 5086.\n",
      "-Train.  Loss=0.0676681\n",
      "-Valid.  Loss=0.3209167\n",
      "'train_loss05_43.csv' saved.\n",
      "'valid_loss05_43.csv' saved.\n",
      "'model11_forward05_43_last.pth' saved.\n",
      "'model11_forward05_43_best.pth' saved.\n",
      "- train minibatches = 1\n",
      "- valid minibatches = 1\n",
      "- test minibatches = 1\n"
     ]
    },
    {
     "data": {
      "application/vnd.jupyter.widget-view+json": {
       "model_id": "f37a30ccd5474b7b95d3d3849d086ad2",
       "version_major": 2,
       "version_minor": 0
      },
      "text/plain": [
       "Epochs loop:   0%|          | 0/20000 [00:00<?, ?it/s]"
      ]
     },
     "metadata": {},
     "output_type": "display_data"
    },
    {
     "name": "stdout",
     "output_type": "stream",
     "text": [
      "Summary:\n",
      "-learning rate = 0.00083\n",
      "-Model saved after iteration 19897.\n",
      "-Train.  Loss=0.0328771\n",
      "-Valid.  Loss=0.3286371\n",
      "'train_loss05_44.csv' saved.\n",
      "'valid_loss05_44.csv' saved.\n",
      "'model11_forward05_44_last.pth' saved.\n",
      "'model11_forward05_44_best.pth' saved.\n",
      "- train minibatches = 1\n",
      "- valid minibatches = 1\n",
      "- test minibatches = 1\n"
     ]
    },
    {
     "data": {
      "application/vnd.jupyter.widget-view+json": {
       "model_id": "d4805b94a51d4161b517e29f0c4c8a9f",
       "version_major": 2,
       "version_minor": 0
      },
      "text/plain": [
       "Epochs loop:   0%|          | 0/20000 [00:00<?, ?it/s]"
      ]
     },
     "metadata": {},
     "output_type": "display_data"
    },
    {
     "name": "stdout",
     "output_type": "stream",
     "text": [
      "Summary:\n",
      "-learning rate = 0.00083\n",
      "-path 1 has early stopped:\n",
      " 4000 iterations with no improvement in train loss.\n",
      "-Model saved after iteration 312.\n",
      "-Train.  Loss=0.0781748\n",
      "-Valid.  Loss=0.6675249\n",
      "'train_loss05_45.csv' saved.\n",
      "'valid_loss05_45.csv' saved.\n",
      "'model11_forward05_45_last.pth' saved.\n",
      "'model11_forward05_45_best.pth' saved.\n",
      "- train minibatches = 1\n",
      "- valid minibatches = 1\n",
      "- test minibatches = 1\n"
     ]
    },
    {
     "data": {
      "application/vnd.jupyter.widget-view+json": {
       "model_id": "f984e9bacdad4fd4baf25b5e01d60124",
       "version_major": 2,
       "version_minor": 0
      },
      "text/plain": [
       "Epochs loop:   0%|          | 0/20000 [00:00<?, ?it/s]"
      ]
     },
     "metadata": {},
     "output_type": "display_data"
    },
    {
     "name": "stdout",
     "output_type": "stream",
     "text": [
      "Summary:\n",
      "-learning rate = 0.00083\n",
      "-Model saved after iteration 19985.\n",
      "-Train.  Loss=0.0350455\n",
      "-Valid.  Loss=0.3455293\n",
      "'train_loss05_46.csv' saved.\n",
      "'valid_loss05_46.csv' saved.\n",
      "'model11_forward05_46_last.pth' saved.\n",
      "'model11_forward05_46_best.pth' saved.\n",
      "- train minibatches = 1\n",
      "- valid minibatches = 1\n",
      "- test minibatches = 1\n"
     ]
    },
    {
     "data": {
      "application/vnd.jupyter.widget-view+json": {
       "model_id": "6f1f3210f6344ff68acd6be721e1814b",
       "version_major": 2,
       "version_minor": 0
      },
      "text/plain": [
       "Epochs loop:   0%|          | 0/20000 [00:00<?, ?it/s]"
      ]
     },
     "metadata": {},
     "output_type": "display_data"
    },
    {
     "name": "stdout",
     "output_type": "stream",
     "text": [
      "Summary:\n",
      "-learning rate = 0.00083\n",
      "-path 1 has early stopped:\n",
      " 4000 iterations with no improvement in train loss.\n",
      "-Model saved after iteration 425.\n",
      "-Train.  Loss=0.0313910\n",
      "-Valid.  Loss=0.3257322\n",
      "'train_loss05_47.csv' saved.\n",
      "'valid_loss05_47.csv' saved.\n",
      "'model11_forward05_47_last.pth' saved.\n",
      "'model11_forward05_47_best.pth' saved.\n",
      "- train minibatches = 1\n",
      "- valid minibatches = 1\n",
      "- test minibatches = 1\n"
     ]
    },
    {
     "data": {
      "application/vnd.jupyter.widget-view+json": {
       "model_id": "2a73e99bc7b545639469a2178bcf5f40",
       "version_major": 2,
       "version_minor": 0
      },
      "text/plain": [
       "Epochs loop:   0%|          | 0/20000 [00:00<?, ?it/s]"
      ]
     },
     "metadata": {},
     "output_type": "display_data"
    },
    {
     "name": "stdout",
     "output_type": "stream",
     "text": [
      "Summary:\n",
      "-learning rate = 0.00083\n",
      "-path 1 has early stopped:\n",
      " 4000 iterations with no improvement in train loss.\n",
      "-Model saved after iteration 356.\n",
      "-Train.  Loss=0.0403886\n",
      "-Valid.  Loss=0.5593055\n",
      "'train_loss05_48.csv' saved.\n",
      "'valid_loss05_48.csv' saved.\n",
      "'model11_forward05_48_last.pth' saved.\n",
      "'model11_forward05_48_best.pth' saved.\n",
      "- train minibatches = 1\n",
      "- valid minibatches = 1\n",
      "- test minibatches = 1\n"
     ]
    },
    {
     "data": {
      "application/vnd.jupyter.widget-view+json": {
       "model_id": "9fdbe20f050241faaf415c1f7be2dd5f",
       "version_major": 2,
       "version_minor": 0
      },
      "text/plain": [
       "Epochs loop:   0%|          | 0/20000 [00:00<?, ?it/s]"
      ]
     },
     "metadata": {},
     "output_type": "display_data"
    },
    {
     "name": "stdout",
     "output_type": "stream",
     "text": [
      "Summary:\n",
      "-learning rate = 0.00083\n",
      "-path 1 has early stopped:\n",
      " 4000 iterations with no improvement in train loss.\n",
      "-Model saved after iteration 42.\n",
      "-Train.  Loss=0.2876187\n",
      "-Valid.  Loss=0.4361669\n",
      "'train_loss05_49.csv' saved.\n",
      "'valid_loss05_49.csv' saved.\n",
      "'model11_forward05_49_last.pth' saved.\n",
      "'model11_forward05_49_best.pth' saved.\n",
      "- train minibatches = 1\n",
      "- valid minibatches = 1\n",
      "- test minibatches = 1\n"
     ]
    },
    {
     "data": {
      "application/vnd.jupyter.widget-view+json": {
       "model_id": "de0f5a87fc6b49f8a5bf54021c6d29d1",
       "version_major": 2,
       "version_minor": 0
      },
      "text/plain": [
       "Epochs loop:   0%|          | 0/20000 [00:00<?, ?it/s]"
      ]
     },
     "metadata": {},
     "output_type": "display_data"
    },
    {
     "name": "stdout",
     "output_type": "stream",
     "text": [
      "Summary:\n",
      "-learning rate = 0.00083\n",
      "-path 1 has early stopped:\n",
      " 4000 iterations with no improvement in train loss.\n",
      "-Model saved after iteration 437.\n",
      "-Train.  Loss=0.1182180\n",
      "-Valid.  Loss=0.5748913\n",
      "'train_loss05_50.csv' saved.\n",
      "'valid_loss05_50.csv' saved.\n",
      "'model11_forward05_50_last.pth' saved.\n",
      "'model11_forward05_50_best.pth' saved.\n",
      "- train minibatches = 1\n",
      "- valid minibatches = 1\n",
      "- test minibatches = 1\n"
     ]
    },
    {
     "data": {
      "application/vnd.jupyter.widget-view+json": {
       "model_id": "23160bf202634401851bc65e0619942b",
       "version_major": 2,
       "version_minor": 0
      },
      "text/plain": [
       "Epochs loop:   0%|          | 0/20000 [00:00<?, ?it/s]"
      ]
     },
     "metadata": {},
     "output_type": "display_data"
    },
    {
     "name": "stdout",
     "output_type": "stream",
     "text": [
      "Summary:\n",
      "-learning rate = 0.00083\n",
      "-path 1 has early stopped:\n",
      " 4000 iterations with no improvement in train loss.\n",
      "-Model saved after iteration 951.\n",
      "-Train.  Loss=0.0249515\n",
      "-Valid.  Loss=0.6831976\n",
      "'train_loss05_51.csv' saved.\n",
      "'valid_loss05_51.csv' saved.\n",
      "'model11_forward05_51_last.pth' saved.\n",
      "'model11_forward05_51_best.pth' saved.\n",
      "- train minibatches = 1\n",
      "- valid minibatches = 1\n",
      "- test minibatches = 1\n"
     ]
    },
    {
     "data": {
      "application/vnd.jupyter.widget-view+json": {
       "model_id": "2739b1796cb34798866edc8a7f6f1443",
       "version_major": 2,
       "version_minor": 0
      },
      "text/plain": [
       "Epochs loop:   0%|          | 0/20000 [00:00<?, ?it/s]"
      ]
     },
     "metadata": {},
     "output_type": "display_data"
    },
    {
     "name": "stdout",
     "output_type": "stream",
     "text": [
      "Summary:\n",
      "-learning rate = 0.00083\n",
      "-path 1 has early stopped:\n",
      " 4000 iterations with no improvement in train loss.\n",
      "-Model saved after iteration 63.\n",
      "-Train.  Loss=0.2762476\n",
      "-Valid.  Loss=0.6050944\n",
      "'train_loss05_52.csv' saved.\n",
      "'valid_loss05_52.csv' saved.\n",
      "'model11_forward05_52_last.pth' saved.\n",
      "'model11_forward05_52_best.pth' saved.\n",
      "- train minibatches = 1\n",
      "- valid minibatches = 1\n",
      "- test minibatches = 1\n"
     ]
    },
    {
     "data": {
      "application/vnd.jupyter.widget-view+json": {
       "model_id": "55c468fc0e7447fc96c2bf413b0c6509",
       "version_major": 2,
       "version_minor": 0
      },
      "text/plain": [
       "Epochs loop:   0%|          | 0/20000 [00:00<?, ?it/s]"
      ]
     },
     "metadata": {},
     "output_type": "display_data"
    },
    {
     "name": "stdout",
     "output_type": "stream",
     "text": [
      "Summary:\n",
      "-learning rate = 0.00083\n",
      "-path 1 has early stopped:\n",
      " 4000 iterations with no improvement in train loss.\n",
      "-Model saved after iteration 718.\n",
      "-Train.  Loss=0.0080205\n",
      "-Valid.  Loss=0.3626057\n",
      "'train_loss05_53.csv' saved.\n",
      "'valid_loss05_53.csv' saved.\n",
      "'model11_forward05_53_last.pth' saved.\n",
      "'model11_forward05_53_best.pth' saved.\n",
      "- train minibatches = 1\n",
      "- valid minibatches = 1\n",
      "- test minibatches = 1\n"
     ]
    },
    {
     "data": {
      "application/vnd.jupyter.widget-view+json": {
       "model_id": "7a65f5bb64d2479ca19942efc23ab5d3",
       "version_major": 2,
       "version_minor": 0
      },
      "text/plain": [
       "Epochs loop:   0%|          | 0/20000 [00:00<?, ?it/s]"
      ]
     },
     "metadata": {},
     "output_type": "display_data"
    },
    {
     "name": "stdout",
     "output_type": "stream",
     "text": [
      "Summary:\n",
      "-learning rate = 0.00083\n",
      "-path 1 has early stopped:\n",
      " 4000 iterations with no improvement in train loss.\n",
      "-Model saved after iteration 62.\n",
      "-Train.  Loss=0.2384423\n",
      "-Valid.  Loss=0.5722604\n",
      "'train_loss05_54.csv' saved.\n",
      "'valid_loss05_54.csv' saved.\n",
      "'model11_forward05_54_last.pth' saved.\n",
      "'model11_forward05_54_best.pth' saved.\n",
      "- train minibatches = 1\n",
      "- valid minibatches = 1\n",
      "- test minibatches = 1\n"
     ]
    },
    {
     "data": {
      "application/vnd.jupyter.widget-view+json": {
       "model_id": "37a68ff7ca914d878a8f0b3bfaefd00b",
       "version_major": 2,
       "version_minor": 0
      },
      "text/plain": [
       "Epochs loop:   0%|          | 0/20000 [00:00<?, ?it/s]"
      ]
     },
     "metadata": {},
     "output_type": "display_data"
    },
    {
     "name": "stdout",
     "output_type": "stream",
     "text": [
      "Summary:\n",
      "-learning rate = 0.00083\n",
      "-path 1 has early stopped:\n",
      " 4000 iterations with no improvement in train loss.\n",
      "-Model saved after iteration 317.\n",
      "-Train.  Loss=0.0722570\n",
      "-Valid.  Loss=0.3726177\n",
      "'train_loss05_55.csv' saved.\n",
      "'valid_loss05_55.csv' saved.\n",
      "'model11_forward05_55_last.pth' saved.\n",
      "'model11_forward05_55_best.pth' saved.\n",
      "- train minibatches = 1\n",
      "- valid minibatches = 1\n",
      "- test minibatches = 1\n"
     ]
    },
    {
     "data": {
      "application/vnd.jupyter.widget-view+json": {
       "model_id": "14c02a1dd19e481791be610d567fb040",
       "version_major": 2,
       "version_minor": 0
      },
      "text/plain": [
       "Epochs loop:   0%|          | 0/20000 [00:00<?, ?it/s]"
      ]
     },
     "metadata": {},
     "output_type": "display_data"
    },
    {
     "name": "stdout",
     "output_type": "stream",
     "text": [
      "Summary:\n",
      "-learning rate = 0.00083\n",
      "-path 1 has early stopped:\n",
      " 4000 iterations with no improvement in train loss.\n",
      "-Model saved after iteration 64.\n",
      "-Train.  Loss=0.1219466\n",
      "-Valid.  Loss=0.6084040\n",
      "'train_loss05_56.csv' saved.\n",
      "'valid_loss05_56.csv' saved.\n",
      "'model11_forward05_56_last.pth' saved.\n",
      "'model11_forward05_56_best.pth' saved.\n",
      "- train minibatches = 1\n",
      "- valid minibatches = 1\n",
      "- test minibatches = 1\n"
     ]
    },
    {
     "data": {
      "application/vnd.jupyter.widget-view+json": {
       "model_id": "06cf06319a884faeada87619d65275bb",
       "version_major": 2,
       "version_minor": 0
      },
      "text/plain": [
       "Epochs loop:   0%|          | 0/20000 [00:00<?, ?it/s]"
      ]
     },
     "metadata": {},
     "output_type": "display_data"
    },
    {
     "name": "stdout",
     "output_type": "stream",
     "text": [
      "Summary:\n",
      "-learning rate = 0.00083\n",
      "-path 1 has early stopped:\n",
      " 4000 iterations with no improvement in train loss.\n",
      "-Model saved after iteration 186.\n",
      "-Train.  Loss=0.2244807\n",
      "-Valid.  Loss=0.6567595\n",
      "'train_loss05_57.csv' saved.\n",
      "'valid_loss05_57.csv' saved.\n",
      "'model11_forward05_57_last.pth' saved.\n",
      "'model11_forward05_57_best.pth' saved.\n",
      "- train minibatches = 1\n",
      "- valid minibatches = 1\n",
      "- test minibatches = 1\n"
     ]
    },
    {
     "data": {
      "application/vnd.jupyter.widget-view+json": {
       "model_id": "eb034a5512e04315907bf47efc83eecc",
       "version_major": 2,
       "version_minor": 0
      },
      "text/plain": [
       "Epochs loop:   0%|          | 0/20000 [00:00<?, ?it/s]"
      ]
     },
     "metadata": {},
     "output_type": "display_data"
    },
    {
     "name": "stdout",
     "output_type": "stream",
     "text": [
      "Summary:\n",
      "-learning rate = 0.00083\n",
      "-Model saved after iteration 19612.\n",
      "-Train.  Loss=0.0358189\n",
      "-Valid.  Loss=0.3596672\n",
      "'train_loss05_58.csv' saved.\n",
      "'valid_loss05_58.csv' saved.\n",
      "'model11_forward05_58_last.pth' saved.\n",
      "'model11_forward05_58_best.pth' saved.\n",
      "- train minibatches = 1\n",
      "- valid minibatches = 1\n",
      "- test minibatches = 1\n"
     ]
    },
    {
     "data": {
      "application/vnd.jupyter.widget-view+json": {
       "model_id": "2423418f54db4d628a8b33ae8762ce9f",
       "version_major": 2,
       "version_minor": 0
      },
      "text/plain": [
       "Epochs loop:   0%|          | 0/20000 [00:00<?, ?it/s]"
      ]
     },
     "metadata": {},
     "output_type": "display_data"
    },
    {
     "name": "stdout",
     "output_type": "stream",
     "text": [
      "Summary:\n",
      "-learning rate = 0.00083\n",
      "-Model saved after iteration 19940.\n",
      "-Train.  Loss=0.0328200\n",
      "-Valid.  Loss=0.1667214\n",
      "'train_loss05_59.csv' saved.\n",
      "'valid_loss05_59.csv' saved.\n",
      "'model11_forward05_59_last.pth' saved.\n",
      "'model11_forward05_59_best.pth' saved.\n",
      "- train minibatches = 1\n",
      "- valid minibatches = 1\n",
      "- test minibatches = 1\n"
     ]
    },
    {
     "data": {
      "application/vnd.jupyter.widget-view+json": {
       "model_id": "2b3ef11cc5884b4d8a6f3f231c33fdbf",
       "version_major": 2,
       "version_minor": 0
      },
      "text/plain": [
       "Epochs loop:   0%|          | 0/20000 [00:00<?, ?it/s]"
      ]
     },
     "metadata": {},
     "output_type": "display_data"
    },
    {
     "name": "stdout",
     "output_type": "stream",
     "text": [
      "Summary:\n",
      "-learning rate = 0.00083\n",
      "-Model saved after iteration 19481.\n",
      "-Train.  Loss=0.0341911\n",
      "-Valid.  Loss=0.2230922\n",
      "'train_loss05_60.csv' saved.\n",
      "'valid_loss05_60.csv' saved.\n",
      "'model11_forward05_60_last.pth' saved.\n",
      "'model11_forward05_60_best.pth' saved.\n",
      "- train minibatches = 1\n",
      "- valid minibatches = 1\n",
      "- test minibatches = 1\n"
     ]
    },
    {
     "data": {
      "application/vnd.jupyter.widget-view+json": {
       "model_id": "58f4067d88e448f99e70291188927271",
       "version_major": 2,
       "version_minor": 0
      },
      "text/plain": [
       "Epochs loop:   0%|          | 0/20000 [00:00<?, ?it/s]"
      ]
     },
     "metadata": {},
     "output_type": "display_data"
    },
    {
     "name": "stdout",
     "output_type": "stream",
     "text": [
      "Summary:\n",
      "-learning rate = 0.00083\n",
      "-Model saved after iteration 19986.\n",
      "-Train.  Loss=0.0332424\n",
      "-Valid.  Loss=0.3553813\n",
      "'train_loss05_61.csv' saved.\n",
      "'valid_loss05_61.csv' saved.\n",
      "'model11_forward05_61_last.pth' saved.\n",
      "'model11_forward05_61_best.pth' saved.\n",
      "- train minibatches = 1\n",
      "- valid minibatches = 1\n",
      "- test minibatches = 1\n"
     ]
    },
    {
     "data": {
      "application/vnd.jupyter.widget-view+json": {
       "model_id": "6634a6c316a44add86e40ffe01fb4fcd",
       "version_major": 2,
       "version_minor": 0
      },
      "text/plain": [
       "Epochs loop:   0%|          | 0/20000 [00:00<?, ?it/s]"
      ]
     },
     "metadata": {},
     "output_type": "display_data"
    },
    {
     "name": "stdout",
     "output_type": "stream",
     "text": [
      "Summary:\n",
      "-learning rate = 0.00083\n",
      "-path 1 has early stopped:\n",
      " 4000 iterations with no improvement in train loss.\n",
      "-Model saved after iteration 1417.\n",
      "-Train.  Loss=0.0026797\n",
      "-Valid.  Loss=0.3077207\n",
      "'train_loss05_62.csv' saved.\n",
      "'valid_loss05_62.csv' saved.\n",
      "'model11_forward05_62_last.pth' saved.\n",
      "'model11_forward05_62_best.pth' saved.\n",
      "- train minibatches = 1\n",
      "- valid minibatches = 1\n",
      "- test minibatches = 1\n"
     ]
    },
    {
     "data": {
      "application/vnd.jupyter.widget-view+json": {
       "model_id": "d55e284bd73f4d7395e9a4988972ee1c",
       "version_major": 2,
       "version_minor": 0
      },
      "text/plain": [
       "Epochs loop:   0%|          | 0/20000 [00:00<?, ?it/s]"
      ]
     },
     "metadata": {},
     "output_type": "display_data"
    },
    {
     "name": "stdout",
     "output_type": "stream",
     "text": [
      "Summary:\n",
      "-learning rate = 0.00083\n",
      "-path 1 has early stopped:\n",
      " 4000 iterations with no improvement in train loss.\n",
      "-Model saved after iteration 279.\n",
      "-Train.  Loss=0.1819704\n",
      "-Valid.  Loss=0.6944970\n",
      "'train_loss05_63.csv' saved.\n",
      "'valid_loss05_63.csv' saved.\n",
      "'model11_forward05_63_last.pth' saved.\n",
      "'model11_forward05_63_best.pth' saved.\n",
      "- train minibatches = 1\n",
      "- valid minibatches = 1\n",
      "- test minibatches = 1\n"
     ]
    },
    {
     "data": {
      "application/vnd.jupyter.widget-view+json": {
       "model_id": "e448d9bfcbb84238889b97d97c050448",
       "version_major": 2,
       "version_minor": 0
      },
      "text/plain": [
       "Epochs loop:   0%|          | 0/20000 [00:00<?, ?it/s]"
      ]
     },
     "metadata": {},
     "output_type": "display_data"
    },
    {
     "name": "stdout",
     "output_type": "stream",
     "text": [
      "Summary:\n",
      "-learning rate = 0.00083\n",
      "-path 1 has early stopped:\n",
      " 4000 iterations with no improvement in train loss.\n",
      "-Model saved after iteration 158.\n",
      "-Train.  Loss=0.1479692\n",
      "-Valid.  Loss=0.4308334\n",
      "'train_loss05_64.csv' saved.\n",
      "'valid_loss05_64.csv' saved.\n",
      "'model11_forward05_64_last.pth' saved.\n",
      "'model11_forward05_64_best.pth' saved.\n",
      "- train minibatches = 1\n",
      "- valid minibatches = 1\n",
      "- test minibatches = 1\n"
     ]
    },
    {
     "data": {
      "application/vnd.jupyter.widget-view+json": {
       "model_id": "1656e4a994b44abdb724a9fe725bc42c",
       "version_major": 2,
       "version_minor": 0
      },
      "text/plain": [
       "Epochs loop:   0%|          | 0/20000 [00:00<?, ?it/s]"
      ]
     },
     "metadata": {},
     "output_type": "display_data"
    },
    {
     "name": "stdout",
     "output_type": "stream",
     "text": [
      "Summary:\n",
      "-learning rate = 0.00083\n",
      "-Model saved after iteration 20000.\n",
      "-Train.  Loss=0.0002127\n",
      "-Valid.  Loss=0.0731425\n",
      "'train_loss05_65.csv' saved.\n",
      "'valid_loss05_65.csv' saved.\n",
      "'model11_forward05_65_last.pth' saved.\n",
      "'model11_forward05_65_best.pth' saved.\n",
      "- train minibatches = 1\n",
      "- valid minibatches = 1\n",
      "- test minibatches = 1\n"
     ]
    },
    {
     "data": {
      "application/vnd.jupyter.widget-view+json": {
       "model_id": "c59817f316c244d9ad92a5d3d7531c6d",
       "version_major": 2,
       "version_minor": 0
      },
      "text/plain": [
       "Epochs loop:   0%|          | 0/20000 [00:00<?, ?it/s]"
      ]
     },
     "metadata": {},
     "output_type": "display_data"
    },
    {
     "name": "stdout",
     "output_type": "stream",
     "text": [
      "Summary:\n",
      "-learning rate = 0.00083\n",
      "-Model saved after iteration 19949.\n",
      "-Train.  Loss=0.0327511\n",
      "-Valid.  Loss=0.4570211\n",
      "'train_loss05_66.csv' saved.\n",
      "'valid_loss05_66.csv' saved.\n",
      "'model11_forward05_66_last.pth' saved.\n",
      "'model11_forward05_66_best.pth' saved.\n",
      "- train minibatches = 1\n",
      "- valid minibatches = 1\n",
      "- test minibatches = 1\n"
     ]
    },
    {
     "data": {
      "application/vnd.jupyter.widget-view+json": {
       "model_id": "8cb08142fa5b4e99a464c812b777b227",
       "version_major": 2,
       "version_minor": 0
      },
      "text/plain": [
       "Epochs loop:   0%|          | 0/20000 [00:00<?, ?it/s]"
      ]
     },
     "metadata": {},
     "output_type": "display_data"
    },
    {
     "name": "stdout",
     "output_type": "stream",
     "text": [
      "Summary:\n",
      "-learning rate = 0.00083\n",
      "-path 1 has early stopped:\n",
      " 4000 iterations with no improvement in train loss.\n",
      "-Model saved after iteration 1000.\n",
      "-Train.  Loss=0.0367218\n",
      "-Valid.  Loss=0.2148622\n",
      "'train_loss05_67.csv' saved.\n",
      "'valid_loss05_67.csv' saved.\n",
      "'model11_forward05_67_last.pth' saved.\n",
      "'model11_forward05_67_best.pth' saved.\n",
      "- train minibatches = 1\n",
      "- valid minibatches = 1\n",
      "- test minibatches = 1\n"
     ]
    },
    {
     "data": {
      "application/vnd.jupyter.widget-view+json": {
       "model_id": "dc710cdbd9c9459e8408670173608212",
       "version_major": 2,
       "version_minor": 0
      },
      "text/plain": [
       "Epochs loop:   0%|          | 0/20000 [00:00<?, ?it/s]"
      ]
     },
     "metadata": {},
     "output_type": "display_data"
    },
    {
     "name": "stdout",
     "output_type": "stream",
     "text": [
      "Summary:\n",
      "-learning rate = 0.00083\n",
      "-path 1 has early stopped:\n",
      " 4000 iterations with no improvement in train loss.\n",
      "-Model saved after iteration 92.\n",
      "-Train.  Loss=0.0605472\n",
      "-Valid.  Loss=0.3712963\n",
      "'train_loss05_68.csv' saved.\n",
      "'valid_loss05_68.csv' saved.\n",
      "'model11_forward05_68_last.pth' saved.\n",
      "'model11_forward05_68_best.pth' saved.\n",
      "- train minibatches = 1\n",
      "- valid minibatches = 1\n",
      "- test minibatches = 1\n"
     ]
    },
    {
     "data": {
      "application/vnd.jupyter.widget-view+json": {
       "model_id": "0c243d9c2bb44e18843d226ca5f8127b",
       "version_major": 2,
       "version_minor": 0
      },
      "text/plain": [
       "Epochs loop:   0%|          | 0/20000 [00:00<?, ?it/s]"
      ]
     },
     "metadata": {},
     "output_type": "display_data"
    },
    {
     "name": "stdout",
     "output_type": "stream",
     "text": [
      "Summary:\n",
      "-learning rate = 0.00083\n",
      "-path 1 has early stopped:\n",
      " 4000 iterations with no improvement in train loss.\n",
      "-Model saved after iteration 201.\n",
      "-Train.  Loss=0.0952081\n",
      "-Valid.  Loss=0.5028311\n",
      "'train_loss05_69.csv' saved.\n",
      "'valid_loss05_69.csv' saved.\n",
      "'model11_forward05_69_last.pth' saved.\n",
      "'model11_forward05_69_best.pth' saved.\n",
      "- train minibatches = 1\n",
      "- valid minibatches = 1\n",
      "- test minibatches = 1\n"
     ]
    },
    {
     "data": {
      "application/vnd.jupyter.widget-view+json": {
       "model_id": "bdba44d0b5da4abca9a10ed1ee9ebcd4",
       "version_major": 2,
       "version_minor": 0
      },
      "text/plain": [
       "Epochs loop:   0%|          | 0/20000 [00:00<?, ?it/s]"
      ]
     },
     "metadata": {},
     "output_type": "display_data"
    },
    {
     "name": "stdout",
     "output_type": "stream",
     "text": [
      "Summary:\n",
      "-learning rate = 0.00083\n",
      "-Model saved after iteration 20000.\n",
      "-Train.  Loss=0.0347030\n",
      "-Valid.  Loss=0.2721327\n",
      "'train_loss05_70.csv' saved.\n",
      "'valid_loss05_70.csv' saved.\n",
      "'model11_forward05_70_last.pth' saved.\n",
      "'model11_forward05_70_best.pth' saved.\n",
      "- train minibatches = 1\n",
      "- valid minibatches = 1\n",
      "- test minibatches = 1\n"
     ]
    },
    {
     "data": {
      "application/vnd.jupyter.widget-view+json": {
       "model_id": "4634f4da279640a8ad03030790f1e2f9",
       "version_major": 2,
       "version_minor": 0
      },
      "text/plain": [
       "Epochs loop:   0%|          | 0/20000 [00:00<?, ?it/s]"
      ]
     },
     "metadata": {},
     "output_type": "display_data"
    },
    {
     "name": "stdout",
     "output_type": "stream",
     "text": [
      "Summary:\n",
      "-learning rate = 0.00083\n",
      "-path 1 has early stopped:\n",
      " 4000 iterations with no improvement in train loss.\n",
      "-Model saved after iteration 293.\n",
      "-Train.  Loss=0.0712010\n",
      "-Valid.  Loss=0.4299513\n",
      "'train_loss05_71.csv' saved.\n",
      "'valid_loss05_71.csv' saved.\n",
      "'model11_forward05_71_last.pth' saved.\n",
      "'model11_forward05_71_best.pth' saved.\n",
      "- train minibatches = 1\n",
      "- valid minibatches = 1\n",
      "- test minibatches = 1\n"
     ]
    },
    {
     "data": {
      "application/vnd.jupyter.widget-view+json": {
       "model_id": "9e40af38dcc74e14b955cb3958354823",
       "version_major": 2,
       "version_minor": 0
      },
      "text/plain": [
       "Epochs loop:   0%|          | 0/20000 [00:00<?, ?it/s]"
      ]
     },
     "metadata": {},
     "output_type": "display_data"
    },
    {
     "name": "stdout",
     "output_type": "stream",
     "text": [
      "Summary:\n",
      "-learning rate = 0.00083\n",
      "-path 1 has early stopped:\n",
      " 4000 iterations with no improvement in train loss.\n",
      "-Model saved after iteration 4704.\n",
      "-Train.  Loss=0.0544716\n",
      "-Valid.  Loss=0.2889841\n",
      "'train_loss05_72.csv' saved.\n",
      "'valid_loss05_72.csv' saved.\n",
      "'model11_forward05_72_last.pth' saved.\n",
      "'model11_forward05_72_best.pth' saved.\n",
      "- train minibatches = 1\n",
      "- valid minibatches = 1\n",
      "- test minibatches = 1\n"
     ]
    },
    {
     "data": {
      "application/vnd.jupyter.widget-view+json": {
       "model_id": "23462b9af0bd43fbb832082e252d9194",
       "version_major": 2,
       "version_minor": 0
      },
      "text/plain": [
       "Epochs loop:   0%|          | 0/20000 [00:00<?, ?it/s]"
      ]
     },
     "metadata": {},
     "output_type": "display_data"
    },
    {
     "name": "stdout",
     "output_type": "stream",
     "text": [
      "Summary:\n",
      "-learning rate = 0.00083\n",
      "-path 1 has early stopped:\n",
      " 4000 iterations with no improvement in train loss.\n",
      "-Model saved after iteration 530.\n",
      "-Train.  Loss=0.1111460\n",
      "-Valid.  Loss=0.4368952\n",
      "'train_loss05_73.csv' saved.\n",
      "'valid_loss05_73.csv' saved.\n",
      "'model11_forward05_73_last.pth' saved.\n",
      "'model11_forward05_73_best.pth' saved.\n",
      "- train minibatches = 1\n",
      "- valid minibatches = 1\n",
      "- test minibatches = 1\n"
     ]
    },
    {
     "data": {
      "application/vnd.jupyter.widget-view+json": {
       "model_id": "1e085275c7b74e64ab19d0119cafccbf",
       "version_major": 2,
       "version_minor": 0
      },
      "text/plain": [
       "Epochs loop:   0%|          | 0/20000 [00:00<?, ?it/s]"
      ]
     },
     "metadata": {},
     "output_type": "display_data"
    },
    {
     "name": "stdout",
     "output_type": "stream",
     "text": [
      "Summary:\n",
      "-learning rate = 0.00083\n",
      "-path 1 has early stopped:\n",
      " 4000 iterations with no improvement in train loss.\n",
      "-Model saved after iteration 223.\n",
      "-Train.  Loss=0.1207011\n",
      "-Valid.  Loss=0.3112230\n",
      "'train_loss05_74.csv' saved.\n",
      "'valid_loss05_74.csv' saved.\n",
      "'model11_forward05_74_last.pth' saved.\n",
      "'model11_forward05_74_best.pth' saved.\n",
      "- train minibatches = 1\n",
      "- valid minibatches = 1\n",
      "- test minibatches = 1\n"
     ]
    },
    {
     "data": {
      "application/vnd.jupyter.widget-view+json": {
       "model_id": "a4d070368fa64360bce026990b64ea5e",
       "version_major": 2,
       "version_minor": 0
      },
      "text/plain": [
       "Epochs loop:   0%|          | 0/20000 [00:00<?, ?it/s]"
      ]
     },
     "metadata": {},
     "output_type": "display_data"
    },
    {
     "name": "stdout",
     "output_type": "stream",
     "text": [
      "Summary:\n",
      "-learning rate = 0.00083\n",
      "-Model saved after iteration 20000.\n",
      "-Train.  Loss=0.0051259\n",
      "-Valid.  Loss=0.0180835\n",
      "'train_loss05_75.csv' saved.\n",
      "'valid_loss05_75.csv' saved.\n",
      "'model11_forward05_75_last.pth' saved.\n",
      "'model11_forward05_75_best.pth' saved.\n",
      "- train minibatches = 1\n",
      "- valid minibatches = 1\n",
      "- test minibatches = 1\n"
     ]
    },
    {
     "data": {
      "application/vnd.jupyter.widget-view+json": {
       "model_id": "c71cff2d904946c3a7ed58d2992db8c4",
       "version_major": 2,
       "version_minor": 0
      },
      "text/plain": [
       "Epochs loop:   0%|          | 0/20000 [00:00<?, ?it/s]"
      ]
     },
     "metadata": {},
     "output_type": "display_data"
    },
    {
     "name": "stdout",
     "output_type": "stream",
     "text": [
      "Summary:\n",
      "-learning rate = 0.00083\n",
      "-path 1 has early stopped:\n",
      " 4000 iterations with no improvement in train loss.\n",
      "-Model saved after iteration 750.\n",
      "-Train.  Loss=0.0141988\n",
      "-Valid.  Loss=0.3663514\n",
      "'train_loss05_76.csv' saved.\n",
      "'valid_loss05_76.csv' saved.\n",
      "'model11_forward05_76_last.pth' saved.\n",
      "'model11_forward05_76_best.pth' saved.\n",
      "- train minibatches = 1\n",
      "- valid minibatches = 1\n",
      "- test minibatches = 1\n"
     ]
    },
    {
     "data": {
      "application/vnd.jupyter.widget-view+json": {
       "model_id": "46713f29a96e4f6c97935e4bdfde1600",
       "version_major": 2,
       "version_minor": 0
      },
      "text/plain": [
       "Epochs loop:   0%|          | 0/20000 [00:00<?, ?it/s]"
      ]
     },
     "metadata": {},
     "output_type": "display_data"
    },
    {
     "name": "stdout",
     "output_type": "stream",
     "text": [
      "Summary:\n",
      "-learning rate = 0.00083\n",
      "-Model saved after iteration 19993.\n",
      "-Train.  Loss=0.0066801\n",
      "-Valid.  Loss=0.1560025\n",
      "'train_loss05_77.csv' saved.\n",
      "'valid_loss05_77.csv' saved.\n",
      "'model11_forward05_77_last.pth' saved.\n",
      "'model11_forward05_77_best.pth' saved.\n",
      "- train minibatches = 1\n",
      "- valid minibatches = 1\n",
      "- test minibatches = 1\n"
     ]
    },
    {
     "data": {
      "application/vnd.jupyter.widget-view+json": {
       "model_id": "09e3fffbac614ccd934c3d73f5d423ab",
       "version_major": 2,
       "version_minor": 0
      },
      "text/plain": [
       "Epochs loop:   0%|          | 0/20000 [00:00<?, ?it/s]"
      ]
     },
     "metadata": {},
     "output_type": "display_data"
    },
    {
     "name": "stdout",
     "output_type": "stream",
     "text": [
      "Summary:\n",
      "-learning rate = 0.00083\n",
      "-path 1 has early stopped:\n",
      " 4000 iterations with no improvement in train loss.\n",
      "-Model saved after iteration 1407.\n",
      "-Train.  Loss=0.0126566\n",
      "-Valid.  Loss=0.3669958\n",
      "'train_loss05_78.csv' saved.\n",
      "'valid_loss05_78.csv' saved.\n",
      "'model11_forward05_78_last.pth' saved.\n",
      "'model11_forward05_78_best.pth' saved.\n",
      "- train minibatches = 1\n",
      "- valid minibatches = 1\n",
      "- test minibatches = 1\n"
     ]
    },
    {
     "data": {
      "application/vnd.jupyter.widget-view+json": {
       "model_id": "5b63f3751f8546cfb0291ae76d3cb1d3",
       "version_major": 2,
       "version_minor": 0
      },
      "text/plain": [
       "Epochs loop:   0%|          | 0/20000 [00:00<?, ?it/s]"
      ]
     },
     "metadata": {},
     "output_type": "display_data"
    },
    {
     "name": "stdout",
     "output_type": "stream",
     "text": [
      "Summary:\n",
      "-learning rate = 0.00083\n",
      "-path 1 has early stopped:\n",
      " 4000 iterations with no improvement in train loss.\n",
      "-Model saved after iteration 787.\n",
      "-Train.  Loss=0.0356280\n",
      "-Valid.  Loss=0.2361716\n",
      "'train_loss05_79.csv' saved.\n",
      "'valid_loss05_79.csv' saved.\n",
      "'model11_forward05_79_last.pth' saved.\n",
      "'model11_forward05_79_best.pth' saved.\n",
      "- train minibatches = 1\n",
      "- valid minibatches = 1\n",
      "- test minibatches = 1\n"
     ]
    },
    {
     "data": {
      "application/vnd.jupyter.widget-view+json": {
       "model_id": "cb618fb3eb6c4f909545339d7f88c023",
       "version_major": 2,
       "version_minor": 0
      },
      "text/plain": [
       "Epochs loop:   0%|          | 0/20000 [00:00<?, ?it/s]"
      ]
     },
     "metadata": {},
     "output_type": "display_data"
    },
    {
     "name": "stdout",
     "output_type": "stream",
     "text": [
      "Summary:\n",
      "-learning rate = 0.00083\n",
      "-path 1 has early stopped:\n",
      " 4000 iterations with no improvement in train loss.\n",
      "-Model saved after iteration 239.\n",
      "-Train.  Loss=0.1114152\n",
      "-Valid.  Loss=0.3882507\n",
      "'train_loss05_80.csv' saved.\n",
      "'valid_loss05_80.csv' saved.\n",
      "'model11_forward05_80_last.pth' saved.\n",
      "'model11_forward05_80_best.pth' saved.\n",
      "- train minibatches = 1\n",
      "- valid minibatches = 1\n",
      "- test minibatches = 1\n"
     ]
    },
    {
     "data": {
      "application/vnd.jupyter.widget-view+json": {
       "model_id": "122296c05e8c4744b9cc12cd37cd311f",
       "version_major": 2,
       "version_minor": 0
      },
      "text/plain": [
       "Epochs loop:   0%|          | 0/20000 [00:00<?, ?it/s]"
      ]
     },
     "metadata": {},
     "output_type": "display_data"
    },
    {
     "name": "stdout",
     "output_type": "stream",
     "text": [
      "Summary:\n",
      "-learning rate = 0.00083\n",
      "-path 1 has early stopped:\n",
      " 4000 iterations with no improvement in train loss.\n",
      "-Model saved after iteration 129.\n",
      "-Train.  Loss=0.2264026\n",
      "-Valid.  Loss=0.5608525\n",
      "'train_loss05_81.csv' saved.\n",
      "'valid_loss05_81.csv' saved.\n",
      "'model11_forward05_81_last.pth' saved.\n",
      "'model11_forward05_81_best.pth' saved.\n",
      "- train minibatches = 1\n",
      "- valid minibatches = 1\n",
      "- test minibatches = 1\n"
     ]
    },
    {
     "data": {
      "application/vnd.jupyter.widget-view+json": {
       "model_id": "0e52a692ef2a40e793ecd4a6530f85a3",
       "version_major": 2,
       "version_minor": 0
      },
      "text/plain": [
       "Epochs loop:   0%|          | 0/20000 [00:00<?, ?it/s]"
      ]
     },
     "metadata": {},
     "output_type": "display_data"
    },
    {
     "name": "stdout",
     "output_type": "stream",
     "text": [
      "Summary:\n",
      "-learning rate = 0.00083\n",
      "-path 1 has early stopped:\n",
      " 4000 iterations with no improvement in train loss.\n",
      "-Model saved after iteration 585.\n",
      "-Train.  Loss=0.0598690\n",
      "-Valid.  Loss=0.3785726\n",
      "'train_loss05_82.csv' saved.\n",
      "'valid_loss05_82.csv' saved.\n",
      "'model11_forward05_82_last.pth' saved.\n",
      "'model11_forward05_82_best.pth' saved.\n",
      "- train minibatches = 1\n",
      "- valid minibatches = 1\n",
      "- test minibatches = 1\n"
     ]
    },
    {
     "data": {
      "application/vnd.jupyter.widget-view+json": {
       "model_id": "c779d60127c947ad80fe56340fad0d40",
       "version_major": 2,
       "version_minor": 0
      },
      "text/plain": [
       "Epochs loop:   0%|          | 0/20000 [00:00<?, ?it/s]"
      ]
     },
     "metadata": {},
     "output_type": "display_data"
    },
    {
     "name": "stdout",
     "output_type": "stream",
     "text": [
      "Summary:\n",
      "-learning rate = 0.00083\n",
      "-path 1 has early stopped:\n",
      " 4000 iterations with no improvement in train loss.\n",
      "-Model saved after iteration 910.\n",
      "-Train.  Loss=0.0197724\n",
      "-Valid.  Loss=0.3250287\n",
      "'train_loss05_83.csv' saved.\n",
      "'valid_loss05_83.csv' saved.\n",
      "'model11_forward05_83_last.pth' saved.\n",
      "'model11_forward05_83_best.pth' saved.\n",
      "- train minibatches = 1\n",
      "- valid minibatches = 1\n",
      "- test minibatches = 1\n"
     ]
    },
    {
     "data": {
      "application/vnd.jupyter.widget-view+json": {
       "model_id": "49c823d8a21847d78bee9776c2ee4ce6",
       "version_major": 2,
       "version_minor": 0
      },
      "text/plain": [
       "Epochs loop:   0%|          | 0/20000 [00:00<?, ?it/s]"
      ]
     },
     "metadata": {},
     "output_type": "display_data"
    },
    {
     "name": "stdout",
     "output_type": "stream",
     "text": [
      "Summary:\n",
      "-learning rate = 0.00083\n",
      "-path 1 has early stopped:\n",
      " 4000 iterations with no improvement in train loss.\n",
      "-Model saved after iteration 96.\n",
      "-Train.  Loss=0.2366052\n",
      "-Valid.  Loss=0.4996273\n",
      "'train_loss05_84.csv' saved.\n",
      "'valid_loss05_84.csv' saved.\n",
      "'model11_forward05_84_last.pth' saved.\n",
      "'model11_forward05_84_best.pth' saved.\n",
      "- train minibatches = 1\n",
      "- valid minibatches = 1\n",
      "- test minibatches = 1\n"
     ]
    },
    {
     "data": {
      "application/vnd.jupyter.widget-view+json": {
       "model_id": "55ebc5d507fd4b528f0d97764e3b169f",
       "version_major": 2,
       "version_minor": 0
      },
      "text/plain": [
       "Epochs loop:   0%|          | 0/20000 [00:00<?, ?it/s]"
      ]
     },
     "metadata": {},
     "output_type": "display_data"
    },
    {
     "name": "stdout",
     "output_type": "stream",
     "text": [
      "Summary:\n",
      "-learning rate = 0.00083\n",
      "-Model saved after iteration 19914.\n",
      "-Train.  Loss=0.0151020\n",
      "-Valid.  Loss=0.1396834\n",
      "'train_loss05_85.csv' saved.\n",
      "'valid_loss05_85.csv' saved.\n",
      "'model11_forward05_85_last.pth' saved.\n",
      "'model11_forward05_85_best.pth' saved.\n",
      "- train minibatches = 1\n",
      "- valid minibatches = 1\n",
      "- test minibatches = 1\n"
     ]
    },
    {
     "data": {
      "application/vnd.jupyter.widget-view+json": {
       "model_id": "2cae480d41d940cdab195eed28e9ed9d",
       "version_major": 2,
       "version_minor": 0
      },
      "text/plain": [
       "Epochs loop:   0%|          | 0/20000 [00:00<?, ?it/s]"
      ]
     },
     "metadata": {},
     "output_type": "display_data"
    },
    {
     "name": "stdout",
     "output_type": "stream",
     "text": [
      "Summary:\n",
      "-learning rate = 0.00083\n",
      "-path 1 has early stopped:\n",
      " 4000 iterations with no improvement in train loss.\n",
      "-Model saved after iteration 67.\n",
      "-Train.  Loss=0.1832528\n",
      "-Valid.  Loss=0.5489323\n",
      "'train_loss05_86.csv' saved.\n",
      "'valid_loss05_86.csv' saved.\n",
      "'model11_forward05_86_last.pth' saved.\n",
      "'model11_forward05_86_best.pth' saved.\n",
      "- train minibatches = 1\n",
      "- valid minibatches = 1\n",
      "- test minibatches = 1\n"
     ]
    },
    {
     "data": {
      "application/vnd.jupyter.widget-view+json": {
       "model_id": "87febe22ed5f474c82149aa2156dbd7e",
       "version_major": 2,
       "version_minor": 0
      },
      "text/plain": [
       "Epochs loop:   0%|          | 0/20000 [00:00<?, ?it/s]"
      ]
     },
     "metadata": {},
     "output_type": "display_data"
    },
    {
     "name": "stdout",
     "output_type": "stream",
     "text": [
      "Summary:\n",
      "-learning rate = 0.00083\n",
      "-path 1 has early stopped:\n",
      " 4000 iterations with no improvement in train loss.\n",
      "-Model saved after iteration 1440.\n",
      "-Train.  Loss=0.0566525\n",
      "-Valid.  Loss=0.3501612\n",
      "'train_loss05_87.csv' saved.\n",
      "'valid_loss05_87.csv' saved.\n",
      "'model11_forward05_87_last.pth' saved.\n",
      "'model11_forward05_87_best.pth' saved.\n",
      "- train minibatches = 1\n",
      "- valid minibatches = 1\n",
      "- test minibatches = 1\n"
     ]
    },
    {
     "data": {
      "application/vnd.jupyter.widget-view+json": {
       "model_id": "7c2c1ed2c5f84ed9b9462b749c3c0173",
       "version_major": 2,
       "version_minor": 0
      },
      "text/plain": [
       "Epochs loop:   0%|          | 0/20000 [00:00<?, ?it/s]"
      ]
     },
     "metadata": {},
     "output_type": "display_data"
    },
    {
     "name": "stdout",
     "output_type": "stream",
     "text": [
      "Summary:\n",
      "-learning rate = 0.00083\n",
      "-Model saved after iteration 19589.\n",
      "-Train.  Loss=0.0230084\n",
      "-Valid.  Loss=0.1483525\n",
      "'train_loss05_88.csv' saved.\n",
      "'valid_loss05_88.csv' saved.\n",
      "'model11_forward05_88_last.pth' saved.\n",
      "'model11_forward05_88_best.pth' saved.\n",
      "- train minibatches = 1\n",
      "- valid minibatches = 1\n",
      "- test minibatches = 1\n"
     ]
    },
    {
     "data": {
      "application/vnd.jupyter.widget-view+json": {
       "model_id": "b51a0b44121d4e188db6dd7924e94b04",
       "version_major": 2,
       "version_minor": 0
      },
      "text/plain": [
       "Epochs loop:   0%|          | 0/20000 [00:00<?, ?it/s]"
      ]
     },
     "metadata": {},
     "output_type": "display_data"
    },
    {
     "name": "stdout",
     "output_type": "stream",
     "text": [
      "Summary:\n",
      "-learning rate = 0.00083\n",
      "-path 1 has early stopped:\n",
      " 4000 iterations with no improvement in train loss.\n",
      "-Model saved after iteration 405.\n",
      "-Train.  Loss=0.0970395\n",
      "-Valid.  Loss=0.2686287\n",
      "'train_loss05_89.csv' saved.\n",
      "'valid_loss05_89.csv' saved.\n",
      "'model11_forward05_89_last.pth' saved.\n",
      "'model11_forward05_89_best.pth' saved.\n",
      "- train minibatches = 1\n",
      "- valid minibatches = 1\n",
      "- test minibatches = 1\n"
     ]
    },
    {
     "data": {
      "application/vnd.jupyter.widget-view+json": {
       "model_id": "2726c989375c47f6b5326ff243a17c91",
       "version_major": 2,
       "version_minor": 0
      },
      "text/plain": [
       "Epochs loop:   0%|          | 0/20000 [00:00<?, ?it/s]"
      ]
     },
     "metadata": {},
     "output_type": "display_data"
    },
    {
     "name": "stdout",
     "output_type": "stream",
     "text": [
      "Summary:\n",
      "-learning rate = 0.00083\n",
      "-path 1 has early stopped:\n",
      " 4000 iterations with no improvement in train loss.\n",
      "-Model saved after iteration 5146.\n",
      "-Train.  Loss=0.0008118\n",
      "-Valid.  Loss=0.2393420\n",
      "'train_loss05_90.csv' saved.\n",
      "'valid_loss05_90.csv' saved.\n",
      "'model11_forward05_90_last.pth' saved.\n",
      "'model11_forward05_90_best.pth' saved.\n",
      "- train minibatches = 1\n",
      "- valid minibatches = 1\n",
      "- test minibatches = 1\n"
     ]
    },
    {
     "data": {
      "application/vnd.jupyter.widget-view+json": {
       "model_id": "17365fdffa58499f996d252d67263d02",
       "version_major": 2,
       "version_minor": 0
      },
      "text/plain": [
       "Epochs loop:   0%|          | 0/20000 [00:00<?, ?it/s]"
      ]
     },
     "metadata": {},
     "output_type": "display_data"
    },
    {
     "name": "stdout",
     "output_type": "stream",
     "text": [
      "Summary:\n",
      "-learning rate = 0.00083\n",
      "-path 1 has early stopped:\n",
      " 4000 iterations with no improvement in train loss.\n",
      "-Model saved after iteration 518.\n",
      "-Train.  Loss=0.0118598\n",
      "-Valid.  Loss=0.2154988\n",
      "'train_loss05_91.csv' saved.\n",
      "'valid_loss05_91.csv' saved.\n",
      "'model11_forward05_91_last.pth' saved.\n",
      "'model11_forward05_91_best.pth' saved.\n",
      "- train minibatches = 1\n",
      "- valid minibatches = 1\n",
      "- test minibatches = 1\n"
     ]
    },
    {
     "data": {
      "application/vnd.jupyter.widget-view+json": {
       "model_id": "03e6d6564af6487daa085a86fdf63394",
       "version_major": 2,
       "version_minor": 0
      },
      "text/plain": [
       "Epochs loop:   0%|          | 0/20000 [00:00<?, ?it/s]"
      ]
     },
     "metadata": {},
     "output_type": "display_data"
    },
    {
     "name": "stdout",
     "output_type": "stream",
     "text": [
      "Summary:\n",
      "-learning rate = 0.00083\n",
      "-path 1 has early stopped:\n",
      " 4000 iterations with no improvement in train loss.\n",
      "-Model saved after iteration 2201.\n",
      "-Train.  Loss=0.0027721\n",
      "-Valid.  Loss=0.3417881\n",
      "'train_loss05_92.csv' saved.\n",
      "'valid_loss05_92.csv' saved.\n",
      "'model11_forward05_92_last.pth' saved.\n",
      "'model11_forward05_92_best.pth' saved.\n",
      "- train minibatches = 1\n",
      "- valid minibatches = 1\n",
      "- test minibatches = 1\n"
     ]
    },
    {
     "data": {
      "application/vnd.jupyter.widget-view+json": {
       "model_id": "ab7bae6f6aa847f58de7f1978b639b31",
       "version_major": 2,
       "version_minor": 0
      },
      "text/plain": [
       "Epochs loop:   0%|          | 0/20000 [00:00<?, ?it/s]"
      ]
     },
     "metadata": {},
     "output_type": "display_data"
    },
    {
     "name": "stdout",
     "output_type": "stream",
     "text": [
      "Summary:\n",
      "-learning rate = 0.00083\n",
      "-path 1 has early stopped:\n",
      " 4000 iterations with no improvement in train loss.\n",
      "-Model saved after iteration 90.\n",
      "-Train.  Loss=0.0925032\n",
      "-Valid.  Loss=0.4565919\n",
      "'train_loss05_93.csv' saved.\n",
      "'valid_loss05_93.csv' saved.\n",
      "'model11_forward05_93_last.pth' saved.\n",
      "'model11_forward05_93_best.pth' saved.\n",
      "- train minibatches = 1\n",
      "- valid minibatches = 1\n",
      "- test minibatches = 1\n"
     ]
    },
    {
     "data": {
      "application/vnd.jupyter.widget-view+json": {
       "model_id": "18e4055237eb42aaa5cd00d2641b6cfb",
       "version_major": 2,
       "version_minor": 0
      },
      "text/plain": [
       "Epochs loop:   0%|          | 0/20000 [00:00<?, ?it/s]"
      ]
     },
     "metadata": {},
     "output_type": "display_data"
    },
    {
     "name": "stdout",
     "output_type": "stream",
     "text": [
      "Summary:\n",
      "-learning rate = 0.00083\n",
      "-path 1 has early stopped:\n",
      " 4000 iterations with no improvement in train loss.\n",
      "-Model saved after iteration 54.\n",
      "-Train.  Loss=0.2461686\n",
      "-Valid.  Loss=0.5377849\n",
      "'train_loss05_94.csv' saved.\n",
      "'valid_loss05_94.csv' saved.\n",
      "'model11_forward05_94_last.pth' saved.\n",
      "'model11_forward05_94_best.pth' saved.\n",
      "- train minibatches = 1\n",
      "- valid minibatches = 1\n",
      "- test minibatches = 1\n"
     ]
    },
    {
     "data": {
      "application/vnd.jupyter.widget-view+json": {
       "model_id": "50c0df6c14be4d348aebc8c443468a47",
       "version_major": 2,
       "version_minor": 0
      },
      "text/plain": [
       "Epochs loop:   0%|          | 0/20000 [00:00<?, ?it/s]"
      ]
     },
     "metadata": {},
     "output_type": "display_data"
    },
    {
     "name": "stdout",
     "output_type": "stream",
     "text": [
      "Summary:\n",
      "-learning rate = 0.00083\n",
      "-path 1 has early stopped:\n",
      " 4000 iterations with no improvement in train loss.\n",
      "-Model saved after iteration 978.\n",
      "-Train.  Loss=0.0441351\n",
      "-Valid.  Loss=0.3288106\n",
      "'train_loss05_95.csv' saved.\n",
      "'valid_loss05_95.csv' saved.\n",
      "'model11_forward05_95_last.pth' saved.\n",
      "'model11_forward05_95_best.pth' saved.\n",
      "- train minibatches = 1\n",
      "- valid minibatches = 1\n",
      "- test minibatches = 1\n"
     ]
    },
    {
     "data": {
      "application/vnd.jupyter.widget-view+json": {
       "model_id": "81cc3ebcda8648bd889a190d373be732",
       "version_major": 2,
       "version_minor": 0
      },
      "text/plain": [
       "Epochs loop:   0%|          | 0/20000 [00:00<?, ?it/s]"
      ]
     },
     "metadata": {},
     "output_type": "display_data"
    },
    {
     "name": "stdout",
     "output_type": "stream",
     "text": [
      "Summary:\n",
      "-learning rate = 0.00083\n",
      "-path 1 has early stopped:\n",
      " 4000 iterations with no improvement in train loss.\n",
      "-Model saved after iteration 5600.\n",
      "-Train.  Loss=0.0008576\n",
      "-Valid.  Loss=0.1875309\n",
      "'train_loss05_96.csv' saved.\n",
      "'valid_loss05_96.csv' saved.\n",
      "'model11_forward05_96_last.pth' saved.\n",
      "'model11_forward05_96_best.pth' saved.\n",
      "- train minibatches = 1\n",
      "- valid minibatches = 1\n",
      "- test minibatches = 1\n"
     ]
    },
    {
     "data": {
      "application/vnd.jupyter.widget-view+json": {
       "model_id": "a544e25f2ec6428ea2732ab4d24a9b4b",
       "version_major": 2,
       "version_minor": 0
      },
      "text/plain": [
       "Epochs loop:   0%|          | 0/20000 [00:00<?, ?it/s]"
      ]
     },
     "metadata": {},
     "output_type": "display_data"
    },
    {
     "name": "stdout",
     "output_type": "stream",
     "text": [
      "Summary:\n",
      "-learning rate = 0.00083\n",
      "-path 1 has early stopped:\n",
      " 4000 iterations with no improvement in train loss.\n",
      "-Model saved after iteration 12208.\n",
      "-Train.  Loss=0.0490388\n",
      "-Valid.  Loss=0.2457811\n",
      "'train_loss05_97.csv' saved.\n",
      "'valid_loss05_97.csv' saved.\n",
      "'model11_forward05_97_last.pth' saved.\n",
      "'model11_forward05_97_best.pth' saved.\n",
      "- train minibatches = 1\n",
      "- valid minibatches = 1\n",
      "- test minibatches = 1\n"
     ]
    },
    {
     "data": {
      "application/vnd.jupyter.widget-view+json": {
       "model_id": "74323b849eb94e57a9e5dec92db48af2",
       "version_major": 2,
       "version_minor": 0
      },
      "text/plain": [
       "Epochs loop:   0%|          | 0/20000 [00:00<?, ?it/s]"
      ]
     },
     "metadata": {},
     "output_type": "display_data"
    },
    {
     "name": "stdout",
     "output_type": "stream",
     "text": [
      "Summary:\n",
      "-learning rate = 0.00083\n",
      "-Model saved after iteration 19647.\n",
      "-Train.  Loss=0.0278867\n",
      "-Valid.  Loss=0.3560093\n",
      "'train_loss05_98.csv' saved.\n",
      "'valid_loss05_98.csv' saved.\n",
      "'model11_forward05_98_last.pth' saved.\n",
      "'model11_forward05_98_best.pth' saved.\n",
      "- train minibatches = 1\n",
      "- valid minibatches = 1\n",
      "- test minibatches = 1\n"
     ]
    },
    {
     "data": {
      "application/vnd.jupyter.widget-view+json": {
       "model_id": "1c9ed02e8c824bae8c6c4dc848b7e7fe",
       "version_major": 2,
       "version_minor": 0
      },
      "text/plain": [
       "Epochs loop:   0%|          | 0/20000 [00:00<?, ?it/s]"
      ]
     },
     "metadata": {},
     "output_type": "display_data"
    },
    {
     "name": "stdout",
     "output_type": "stream",
     "text": [
      "Summary:\n",
      "-learning rate = 0.00083\n",
      "-Model saved after iteration 19932.\n",
      "-Train.  Loss=0.0313921\n",
      "-Valid.  Loss=0.2314256\n",
      "'train_loss05_99.csv' saved.\n",
      "'valid_loss05_99.csv' saved.\n",
      "'model11_forward05_99_last.pth' saved.\n",
      "'model11_forward05_99_best.pth' saved.\n",
      "- train minibatches = 1\n",
      "- valid minibatches = 1\n",
      "- test minibatches = 1\n"
     ]
    },
    {
     "data": {
      "application/vnd.jupyter.widget-view+json": {
       "model_id": "620fb625030848bea14576ea6ca6a546",
       "version_major": 2,
       "version_minor": 0
      },
      "text/plain": [
       "Epochs loop:   0%|          | 0/20000 [00:00<?, ?it/s]"
      ]
     },
     "metadata": {},
     "output_type": "display_data"
    },
    {
     "name": "stdout",
     "output_type": "stream",
     "text": [
      "Summary:\n",
      "-learning rate = 0.00083\n",
      "-Model saved after iteration 19992.\n",
      "-Train.  Loss=0.0268086\n",
      "-Valid.  Loss=0.2547036\n",
      "'train_loss05_100.csv' saved.\n",
      "'valid_loss05_100.csv' saved.\n",
      "'model11_forward05_100_last.pth' saved.\n",
      "'model11_forward05_100_best.pth' saved.\n"
     ]
    }
   ],
   "source": [
    "# Find Accuracy, Loss +/- STD (Forward)\n",
    "data_output = 'data_unconstrained_11Radiotherapy'\n",
    "accuracy_forward = pd.DataFrame(columns=['train_acc', 'valid_acc', 'test_acc', \n",
    "                                         'train_loss', 'valid_loss', 'test_loss'])\n",
    "\n",
    "partitions = 100\n",
    "iterator = tqdm.notebook.tqdm(range(1, partitions + 1), desc='Partitions loop')\n",
    "for n in iterator:\n",
    "    X = pd.read_csv('dataset_11Radiotherapy/X.csv', header=None)\n",
    "    y = pd.read_csv('dataset_11Radiotherapy/y.csv', header=None)\n",
    "    split_data(X, y, seed1=seed1[n], seed2=seed2[n])\n",
    "\n",
    "# .normalize data sets\n",
    "    df_to_tensor()\n",
    "    normalize_data()\n",
    "    make_DataLoaders()\n",
    "\n",
    "# .train model (forward)\n",
    "    lr = best_lr_fward\n",
    "    layer_sizes = [5, 2]\n",
    "    epochs = 20000\n",
    "    data_out = \"data_unconstrained_11Radiotherapy/partitions\"\n",
    "    lock_flag = False\n",
    "    features = xtrain.size(1)\n",
    "    fname = 'model11_forward05_'+str(n)\n",
    "    train_loss, valid_loss = train_model(\n",
    "                             lr, \n",
    "                             features, \n",
    "                             layer_sizes,\n",
    "                             lock_flag = lock_flag,\n",
    "                             epochs = epochs,\n",
    "                             early_stop = 4000, \n",
    "                             fname = fname)\n",
    "# .save relevant data\n",
    "    f3 = [fname+'_last.pth', fname+'_best.pth']\n",
    "    save_output(data_out, \n",
    "                'train_loss05_'+str(n)+'.csv', \n",
    "                'valid_loss05_'+str(n)+'.csv', f3)\n",
    "\n",
    "# .find Loss, Accurary, etc...\n",
    "    mm = MyNet(features, layer_sizes)\n",
    "    mm.load_state_dict(torch.load(os.path.join(data_out, fname+'_best.pth')))\n",
    "    mm = mm.to(device)\n",
    "    mm.eval()\n",
    "    \n",
    "    ypred = mm(xtrain)\n",
    "    loss = loss_type(ypred, ytrain.view(-1))\n",
    "    accu = dataset_accuracy(train_dataloader, mm, device)\n",
    "    accuracy_forward.loc[n, 'train_loss'] = loss.detach().item()\n",
    "    accuracy_forward.loc[n, 'train_acc'] = accu\n",
    "\n",
    "    ypred = mm(xvalid)\n",
    "    loss = loss_type(ypred, yvalid.view(-1))\n",
    "    accu = dataset_accuracy(valid_dataloader, mm, device)\n",
    "    accuracy_forward.loc[n, 'valid_loss'] = loss.detach().item()\n",
    "    accuracy_forward.loc[n, 'valid_acc'] = accu\n",
    "\n",
    "    ypred = mm(xtest)\n",
    "    loss = loss_type(ypred, ytest.view(-1))\n",
    "    accu = dataset_accuracy(test_dataloader, mm, device)\n",
    "    accuracy_forward.loc[n, 'test_loss'] = loss.detach().item()\n",
    "    accuracy_forward.loc[n, 'test_acc'] = accu\n",
    "\n",
    "    accuracy_forward.to_csv(os.path.join(data_out, 'accuracy11_forward05.csv'), index=True)"
   ]
  },
  {
   "cell_type": "code",
   "execution_count": 266,
   "metadata": {
    "ExecuteTime": {
     "end_time": "2021-02-26T07:24:08.568590Z",
     "start_time": "2021-02-26T07:24:08.562373Z"
    },
    "code_folding": [
     0
    ]
   },
   "outputs": [
    {
     "name": "stdout",
     "output_type": "stream",
     "text": [
      "Train accuracy = 0.970 +/- 0.075\n",
      "Train accuracy = 0.842 +/- 0.094\n",
      "Test accuracy = 0.823 +/- 0.099\n"
     ]
    }
   ],
   "source": [
    "# Display results\n",
    "accuracy_forward = pd.read_csv('data_unconstrained_11Radiotherapy/accuracy11_forward05.csv', index_col=0)\n",
    "print(\"Train accuracy = {:.3f} +/- {:.3f}\".format(accuracy_forward['train_acc'].mean(), \n",
    "                                                  accuracy_forward['train_acc'].std()))\n",
    "print(\"Train accuracy = {:.3f} +/- {:.3f}\".format(accuracy_forward['valid_acc'].mean(), \n",
    "                                                  accuracy_forward['valid_acc'].std()))\n",
    "print(\"Test accuracy = {:.3f} +/- {:.3f}\".format(accuracy_forward['test_acc'].mean(), \n",
    "                                                 accuracy_forward['test_acc'].std()))"
   ]
  },
  {
   "cell_type": "code",
   "execution_count": 272,
   "metadata": {
    "ExecuteTime": {
     "end_time": "2021-02-26T20:46:05.882423Z",
     "start_time": "2021-02-26T07:40:18.411105Z"
    },
    "code_folding": [
     0
    ],
    "scrolled": true
   },
   "outputs": [
    {
     "data": {
      "application/vnd.jupyter.widget-view+json": {
       "model_id": "b280373c24b34bdeb7387164ceb3918f",
       "version_major": 2,
       "version_minor": 0
      },
      "text/plain": [
       "Partitions loop:   0%|          | 0/100 [00:00<?, ?it/s]"
      ]
     },
     "metadata": {},
     "output_type": "display_data"
    },
    {
     "name": "stdout",
     "output_type": "stream",
     "text": [
      "- train minibatches = 1\n",
      "- valid minibatches = 1\n",
      "- test minibatches = 1\n"
     ]
    },
    {
     "data": {
      "application/vnd.jupyter.widget-view+json": {
       "model_id": "aada933789824ce0b471110a0c90f520",
       "version_major": 2,
       "version_minor": 0
      },
      "text/plain": [
       "Epochs loop:   0%|          | 0/12000 [00:00<?, ?it/s]"
      ]
     },
     "metadata": {},
     "output_type": "display_data"
    },
    {
     "name": "stdout",
     "output_type": "stream",
     "text": [
      "Summary:\n",
      "-learning rate = 0.02997\n",
      "-Model saved after iteration 12.\n",
      "-Train.  Loss=0.1220349\n",
      "-Valid.  Loss=0.4624990\n",
      "'train_loss_fward05_1.csv' saved.\n",
      "'valid_loss_fward05_1.csv' saved.\n",
      "'model11_fward05_1_last.pth' saved.\n",
      "'model11_fward05_1_best.pth' saved.\n",
      "- train minibatches = 1\n",
      "- valid minibatches = 1\n",
      "- test minibatches = 1\n"
     ]
    },
    {
     "data": {
      "application/vnd.jupyter.widget-view+json": {
       "model_id": "53c0573da51c46aea26aa6f2d7a5b7e2",
       "version_major": 2,
       "version_minor": 0
      },
      "text/plain": [
       "Epochs loop:   0%|          | 0/12000 [00:00<?, ?it/s]"
      ]
     },
     "metadata": {},
     "output_type": "display_data"
    },
    {
     "name": "stdout",
     "output_type": "stream",
     "text": [
      "Summary:\n",
      "-learning rate = 0.02997\n",
      "-Model saved after iteration 354.\n",
      "-Train.  Loss=0.0003326\n",
      "-Valid.  Loss=0.0898229\n",
      "'train_loss_fward05_2.csv' saved.\n",
      "'valid_loss_fward05_2.csv' saved.\n",
      "'model11_fward05_2_last.pth' saved.\n",
      "'model11_fward05_2_best.pth' saved.\n",
      "- train minibatches = 1\n",
      "- valid minibatches = 1\n",
      "- test minibatches = 1\n"
     ]
    },
    {
     "data": {
      "application/vnd.jupyter.widget-view+json": {
       "model_id": "34bc21fe3243477cb57fee960cc57e85",
       "version_major": 2,
       "version_minor": 0
      },
      "text/plain": [
       "Epochs loop:   0%|          | 0/12000 [00:00<?, ?it/s]"
      ]
     },
     "metadata": {},
     "output_type": "display_data"
    },
    {
     "name": "stdout",
     "output_type": "stream",
     "text": [
      "Summary:\n",
      "-learning rate = 0.02997\n",
      "-Model saved after iteration 11674.\n",
      "-Train.  Loss=0.0000069\n",
      "-Valid.  Loss=0.0680286\n",
      "'train_loss_fward05_3.csv' saved.\n",
      "'valid_loss_fward05_3.csv' saved.\n",
      "'model11_fward05_3_last.pth' saved.\n",
      "'model11_fward05_3_best.pth' saved.\n",
      "- train minibatches = 1\n",
      "- valid minibatches = 1\n",
      "- test minibatches = 1\n"
     ]
    },
    {
     "data": {
      "application/vnd.jupyter.widget-view+json": {
       "model_id": "e4c365abadc34588952957ad41b8e2bf",
       "version_major": 2,
       "version_minor": 0
      },
      "text/plain": [
       "Epochs loop:   0%|          | 0/12000 [00:00<?, ?it/s]"
      ]
     },
     "metadata": {},
     "output_type": "display_data"
    },
    {
     "name": "stdout",
     "output_type": "stream",
     "text": [
      "Summary:\n",
      "-learning rate = 0.02997\n",
      "-Model saved after iteration 11.\n",
      "-Train.  Loss=0.1496314\n",
      "-Valid.  Loss=0.3016249\n",
      "'train_loss_fward05_4.csv' saved.\n",
      "'valid_loss_fward05_4.csv' saved.\n",
      "'model11_fward05_4_last.pth' saved.\n",
      "'model11_fward05_4_best.pth' saved.\n",
      "- train minibatches = 1\n",
      "- valid minibatches = 1\n",
      "- test minibatches = 1\n"
     ]
    },
    {
     "data": {
      "application/vnd.jupyter.widget-view+json": {
       "model_id": "6f1b78539b72474ead354e15a2b51068",
       "version_major": 2,
       "version_minor": 0
      },
      "text/plain": [
       "Epochs loop:   0%|          | 0/12000 [00:00<?, ?it/s]"
      ]
     },
     "metadata": {},
     "output_type": "display_data"
    },
    {
     "name": "stdout",
     "output_type": "stream",
     "text": [
      "Summary:\n",
      "-learning rate = 0.02997\n",
      "-Model saved after iteration 1.\n",
      "-Train.  Loss=0.7311434\n",
      "-Valid.  Loss=0.7988397\n",
      "'train_loss_fward05_5.csv' saved.\n",
      "'valid_loss_fward05_5.csv' saved.\n",
      "'model11_fward05_5_last.pth' saved.\n",
      "'model11_fward05_5_best.pth' saved.\n",
      "- train minibatches = 1\n",
      "- valid minibatches = 1\n",
      "- test minibatches = 1\n"
     ]
    },
    {
     "data": {
      "application/vnd.jupyter.widget-view+json": {
       "model_id": "693c2f1a1c47463ead3f41431e14bd70",
       "version_major": 2,
       "version_minor": 0
      },
      "text/plain": [
       "Epochs loop:   0%|          | 0/12000 [00:00<?, ?it/s]"
      ]
     },
     "metadata": {},
     "output_type": "display_data"
    },
    {
     "name": "stdout",
     "output_type": "stream",
     "text": [
      "Summary:\n",
      "-learning rate = 0.02997\n",
      "-Model saved after iteration 11.\n",
      "-Train.  Loss=0.1134661\n",
      "-Valid.  Loss=0.3977333\n",
      "'train_loss_fward05_6.csv' saved.\n",
      "'valid_loss_fward05_6.csv' saved.\n",
      "'model11_fward05_6_last.pth' saved.\n",
      "'model11_fward05_6_best.pth' saved.\n",
      "- train minibatches = 1\n",
      "- valid minibatches = 1\n",
      "- test minibatches = 1\n"
     ]
    },
    {
     "data": {
      "application/vnd.jupyter.widget-view+json": {
       "model_id": "d6394039e67240b3b69b66d0e94d860b",
       "version_major": 2,
       "version_minor": 0
      },
      "text/plain": [
       "Epochs loop:   0%|          | 0/12000 [00:00<?, ?it/s]"
      ]
     },
     "metadata": {},
     "output_type": "display_data"
    },
    {
     "name": "stdout",
     "output_type": "stream",
     "text": [
      "Summary:\n",
      "-learning rate = 0.02997\n",
      "-Model saved after iteration 11981.\n",
      "-Train.  Loss=0.0014374\n",
      "-Valid.  Loss=0.1704652\n",
      "'train_loss_fward05_7.csv' saved.\n",
      "'valid_loss_fward05_7.csv' saved.\n",
      "'model11_fward05_7_last.pth' saved.\n",
      "'model11_fward05_7_best.pth' saved.\n",
      "- train minibatches = 1\n",
      "- valid minibatches = 1\n",
      "- test minibatches = 1\n"
     ]
    },
    {
     "data": {
      "application/vnd.jupyter.widget-view+json": {
       "model_id": "cd06ca769fa34a57865829f0087f6fac",
       "version_major": 2,
       "version_minor": 0
      },
      "text/plain": [
       "Epochs loop:   0%|          | 0/12000 [00:00<?, ?it/s]"
      ]
     },
     "metadata": {},
     "output_type": "display_data"
    },
    {
     "name": "stdout",
     "output_type": "stream",
     "text": [
      "Summary:\n",
      "-learning rate = 0.02997\n",
      "-Model saved after iteration 15.\n",
      "-Train.  Loss=0.0408358\n",
      "-Valid.  Loss=0.4122205\n",
      "'train_loss_fward05_8.csv' saved.\n",
      "'valid_loss_fward05_8.csv' saved.\n",
      "'model11_fward05_8_last.pth' saved.\n",
      "'model11_fward05_8_best.pth' saved.\n",
      "- train minibatches = 1\n",
      "- valid minibatches = 1\n",
      "- test minibatches = 1\n"
     ]
    },
    {
     "data": {
      "application/vnd.jupyter.widget-view+json": {
       "model_id": "8a3b3e55e18542869fe648205de7e0c8",
       "version_major": 2,
       "version_minor": 0
      },
      "text/plain": [
       "Epochs loop:   0%|          | 0/12000 [00:00<?, ?it/s]"
      ]
     },
     "metadata": {},
     "output_type": "display_data"
    },
    {
     "name": "stdout",
     "output_type": "stream",
     "text": [
      "Summary:\n",
      "-learning rate = 0.02997\n",
      "-Model saved after iteration 9584.\n",
      "-Train.  Loss=0.0017537\n",
      "-Valid.  Loss=0.0230730\n",
      "'train_loss_fward05_9.csv' saved.\n",
      "'valid_loss_fward05_9.csv' saved.\n",
      "'model11_fward05_9_last.pth' saved.\n",
      "'model11_fward05_9_best.pth' saved.\n",
      "- train minibatches = 1\n",
      "- valid minibatches = 1\n",
      "- test minibatches = 1\n"
     ]
    },
    {
     "data": {
      "application/vnd.jupyter.widget-view+json": {
       "model_id": "9eab5e0446294492aa83ce30fa53b2fc",
       "version_major": 2,
       "version_minor": 0
      },
      "text/plain": [
       "Epochs loop:   0%|          | 0/12000 [00:00<?, ?it/s]"
      ]
     },
     "metadata": {},
     "output_type": "display_data"
    },
    {
     "name": "stdout",
     "output_type": "stream",
     "text": [
      "Summary:\n",
      "-learning rate = 0.02997\n",
      "-Model saved after iteration 743.\n",
      "-Train.  Loss=0.0265126\n",
      "-Valid.  Loss=0.4422141\n",
      "'train_loss_fward05_10.csv' saved.\n",
      "'valid_loss_fward05_10.csv' saved.\n",
      "'model11_fward05_10_last.pth' saved.\n",
      "'model11_fward05_10_best.pth' saved.\n",
      "- train minibatches = 1\n",
      "- valid minibatches = 1\n",
      "- test minibatches = 1\n"
     ]
    },
    {
     "data": {
      "application/vnd.jupyter.widget-view+json": {
       "model_id": "1b9ff88e285446539cdc8a1c3e1efe80",
       "version_major": 2,
       "version_minor": 0
      },
      "text/plain": [
       "Epochs loop:   0%|          | 0/12000 [00:00<?, ?it/s]"
      ]
     },
     "metadata": {},
     "output_type": "display_data"
    },
    {
     "name": "stdout",
     "output_type": "stream",
     "text": [
      "Summary:\n",
      "-learning rate = 0.02997\n",
      "-Model saved after iteration 10.\n",
      "-Train.  Loss=0.1742295\n",
      "-Valid.  Loss=0.5226566\n",
      "'train_loss_fward05_11.csv' saved.\n",
      "'valid_loss_fward05_11.csv' saved.\n",
      "'model11_fward05_11_last.pth' saved.\n",
      "'model11_fward05_11_best.pth' saved.\n",
      "- train minibatches = 1\n",
      "- valid minibatches = 1\n",
      "- test minibatches = 1\n"
     ]
    },
    {
     "data": {
      "application/vnd.jupyter.widget-view+json": {
       "model_id": "b90b91e77c4445958981273b49be0f5a",
       "version_major": 2,
       "version_minor": 0
      },
      "text/plain": [
       "Epochs loop:   0%|          | 0/12000 [00:00<?, ?it/s]"
      ]
     },
     "metadata": {},
     "output_type": "display_data"
    },
    {
     "name": "stdout",
     "output_type": "stream",
     "text": [
      "Summary:\n",
      "-learning rate = 0.02997\n",
      "-Model saved after iteration 1.\n",
      "-Train.  Loss=0.7280025\n",
      "-Valid.  Loss=0.7544386\n",
      "'train_loss_fward05_12.csv' saved.\n",
      "'valid_loss_fward05_12.csv' saved.\n",
      "'model11_fward05_12_last.pth' saved.\n",
      "'model11_fward05_12_best.pth' saved.\n",
      "- train minibatches = 1\n",
      "- valid minibatches = 1\n",
      "- test minibatches = 1\n"
     ]
    },
    {
     "data": {
      "application/vnd.jupyter.widget-view+json": {
       "model_id": "7adba6c4fe304f83ab6410500cf6d0c7",
       "version_major": 2,
       "version_minor": 0
      },
      "text/plain": [
       "Epochs loop:   0%|          | 0/12000 [00:00<?, ?it/s]"
      ]
     },
     "metadata": {},
     "output_type": "display_data"
    },
    {
     "name": "stdout",
     "output_type": "stream",
     "text": [
      "Summary:\n",
      "-learning rate = 0.02997\n",
      "-Model saved after iteration 32.\n",
      "-Train.  Loss=0.0576488\n",
      "-Valid.  Loss=0.5388229\n",
      "'train_loss_fward05_13.csv' saved.\n",
      "'valid_loss_fward05_13.csv' saved.\n",
      "'model11_fward05_13_last.pth' saved.\n",
      "'model11_fward05_13_best.pth' saved.\n",
      "- train minibatches = 1\n",
      "- valid minibatches = 1\n",
      "- test minibatches = 1\n"
     ]
    },
    {
     "data": {
      "application/vnd.jupyter.widget-view+json": {
       "model_id": "85247f9dc6d445a3b2f14f8e8b8bca0f",
       "version_major": 2,
       "version_minor": 0
      },
      "text/plain": [
       "Epochs loop:   0%|          | 0/12000 [00:00<?, ?it/s]"
      ]
     },
     "metadata": {},
     "output_type": "display_data"
    },
    {
     "name": "stdout",
     "output_type": "stream",
     "text": [
      "Summary:\n",
      "-learning rate = 0.02997\n",
      "-Model saved after iteration 33.\n",
      "-Train.  Loss=0.0136952\n",
      "-Valid.  Loss=0.2605249\n",
      "'train_loss_fward05_14.csv' saved.\n",
      "'valid_loss_fward05_14.csv' saved.\n",
      "'model11_fward05_14_last.pth' saved.\n",
      "'model11_fward05_14_best.pth' saved.\n",
      "- train minibatches = 1\n",
      "- valid minibatches = 1\n",
      "- test minibatches = 1\n"
     ]
    },
    {
     "data": {
      "application/vnd.jupyter.widget-view+json": {
       "model_id": "f6a81500946f404988e5c96f94c6d40c",
       "version_major": 2,
       "version_minor": 0
      },
      "text/plain": [
       "Epochs loop:   0%|          | 0/12000 [00:00<?, ?it/s]"
      ]
     },
     "metadata": {},
     "output_type": "display_data"
    },
    {
     "name": "stdout",
     "output_type": "stream",
     "text": [
      "Summary:\n",
      "-learning rate = 0.02997\n",
      "-Model saved after iteration 16.\n",
      "-Train.  Loss=0.0267585\n",
      "-Valid.  Loss=0.3705237\n",
      "'train_loss_fward05_15.csv' saved.\n",
      "'valid_loss_fward05_15.csv' saved.\n",
      "'model11_fward05_15_last.pth' saved.\n",
      "'model11_fward05_15_best.pth' saved.\n",
      "- train minibatches = 1\n",
      "- valid minibatches = 1\n",
      "- test minibatches = 1\n"
     ]
    },
    {
     "data": {
      "application/vnd.jupyter.widget-view+json": {
       "model_id": "ebec6f4660a1415aaaa53d9a18be6b44",
       "version_major": 2,
       "version_minor": 0
      },
      "text/plain": [
       "Epochs loop:   0%|          | 0/12000 [00:00<?, ?it/s]"
      ]
     },
     "metadata": {},
     "output_type": "display_data"
    },
    {
     "name": "stdout",
     "output_type": "stream",
     "text": [
      "Summary:\n",
      "-learning rate = 0.02997\n",
      "-Model saved after iteration 79.\n",
      "-Train.  Loss=0.1740313\n",
      "-Valid.  Loss=0.2958742\n",
      "'train_loss_fward05_16.csv' saved.\n",
      "'valid_loss_fward05_16.csv' saved.\n",
      "'model11_fward05_16_last.pth' saved.\n",
      "'model11_fward05_16_best.pth' saved.\n",
      "- train minibatches = 1\n",
      "- valid minibatches = 1\n",
      "- test minibatches = 1\n"
     ]
    },
    {
     "data": {
      "application/vnd.jupyter.widget-view+json": {
       "model_id": "cf477b116c594282be6e2ca3b55fe183",
       "version_major": 2,
       "version_minor": 0
      },
      "text/plain": [
       "Epochs loop:   0%|          | 0/12000 [00:00<?, ?it/s]"
      ]
     },
     "metadata": {},
     "output_type": "display_data"
    },
    {
     "name": "stdout",
     "output_type": "stream",
     "text": [
      "Summary:\n",
      "-learning rate = 0.02997\n",
      "-Model saved after iteration 357.\n",
      "-Train.  Loss=0.0514214\n",
      "-Valid.  Loss=0.3445007\n",
      "'train_loss_fward05_17.csv' saved.\n",
      "'valid_loss_fward05_17.csv' saved.\n",
      "'model11_fward05_17_last.pth' saved.\n",
      "'model11_fward05_17_best.pth' saved.\n",
      "- train minibatches = 1\n",
      "- valid minibatches = 1\n",
      "- test minibatches = 1\n"
     ]
    },
    {
     "data": {
      "application/vnd.jupyter.widget-view+json": {
       "model_id": "b8e5b8ce71af4b36852f41bb25678720",
       "version_major": 2,
       "version_minor": 0
      },
      "text/plain": [
       "Epochs loop:   0%|          | 0/12000 [00:00<?, ?it/s]"
      ]
     },
     "metadata": {},
     "output_type": "display_data"
    },
    {
     "name": "stdout",
     "output_type": "stream",
     "text": [
      "Summary:\n",
      "-learning rate = 0.02997\n",
      "-Model saved after iteration 380.\n",
      "-Train.  Loss=0.0317136\n",
      "-Valid.  Loss=0.1806865\n",
      "'train_loss_fward05_18.csv' saved.\n",
      "'valid_loss_fward05_18.csv' saved.\n",
      "'model11_fward05_18_last.pth' saved.\n",
      "'model11_fward05_18_best.pth' saved.\n",
      "- train minibatches = 1\n",
      "- valid minibatches = 1\n",
      "- test minibatches = 1\n"
     ]
    },
    {
     "data": {
      "application/vnd.jupyter.widget-view+json": {
       "model_id": "690dd681cefe4d348d5cc8731ab31972",
       "version_major": 2,
       "version_minor": 0
      },
      "text/plain": [
       "Epochs loop:   0%|          | 0/12000 [00:00<?, ?it/s]"
      ]
     },
     "metadata": {},
     "output_type": "display_data"
    },
    {
     "name": "stdout",
     "output_type": "stream",
     "text": [
      "Summary:\n",
      "-learning rate = 0.02997\n",
      "-Model saved after iteration 5725.\n",
      "-Train.  Loss=0.0269274\n",
      "-Valid.  Loss=0.1577498\n",
      "'train_loss_fward05_19.csv' saved.\n",
      "'valid_loss_fward05_19.csv' saved.\n",
      "'model11_fward05_19_last.pth' saved.\n",
      "'model11_fward05_19_best.pth' saved.\n",
      "- train minibatches = 1\n",
      "- valid minibatches = 1\n",
      "- test minibatches = 1\n"
     ]
    },
    {
     "data": {
      "application/vnd.jupyter.widget-view+json": {
       "model_id": "9f388d42a63e4e27970f93f02c4b3ba4",
       "version_major": 2,
       "version_minor": 0
      },
      "text/plain": [
       "Epochs loop:   0%|          | 0/12000 [00:00<?, ?it/s]"
      ]
     },
     "metadata": {},
     "output_type": "display_data"
    },
    {
     "name": "stdout",
     "output_type": "stream",
     "text": [
      "Summary:\n",
      "-learning rate = 0.02997\n",
      "-Model saved after iteration 10396.\n",
      "-Train.  Loss=0.0000075\n",
      "-Valid.  Loss=0.0625073\n",
      "'train_loss_fward05_20.csv' saved.\n",
      "'valid_loss_fward05_20.csv' saved.\n",
      "'model11_fward05_20_last.pth' saved.\n",
      "'model11_fward05_20_best.pth' saved.\n",
      "- train minibatches = 1\n",
      "- valid minibatches = 1\n",
      "- test minibatches = 1\n"
     ]
    },
    {
     "data": {
      "application/vnd.jupyter.widget-view+json": {
       "model_id": "a50e4ffc2cfe49abae39b23fdccac177",
       "version_major": 2,
       "version_minor": 0
      },
      "text/plain": [
       "Epochs loop:   0%|          | 0/12000 [00:00<?, ?it/s]"
      ]
     },
     "metadata": {},
     "output_type": "display_data"
    },
    {
     "name": "stdout",
     "output_type": "stream",
     "text": [
      "Summary:\n",
      "-learning rate = 0.02997\n",
      "-Model saved after iteration 722.\n",
      "-Train.  Loss=0.0001498\n",
      "-Valid.  Loss=0.3073490\n",
      "'train_loss_fward05_21.csv' saved.\n",
      "'valid_loss_fward05_21.csv' saved.\n",
      "'model11_fward05_21_last.pth' saved.\n",
      "'model11_fward05_21_best.pth' saved.\n",
      "- train minibatches = 1\n",
      "- valid minibatches = 1\n",
      "- test minibatches = 1\n"
     ]
    },
    {
     "data": {
      "application/vnd.jupyter.widget-view+json": {
       "model_id": "f304409a2a284d5b91f3801d846e392b",
       "version_major": 2,
       "version_minor": 0
      },
      "text/plain": [
       "Epochs loop:   0%|          | 0/12000 [00:00<?, ?it/s]"
      ]
     },
     "metadata": {},
     "output_type": "display_data"
    },
    {
     "name": "stdout",
     "output_type": "stream",
     "text": [
      "Summary:\n",
      "-learning rate = 0.02997\n",
      "-Model saved after iteration 1.\n",
      "-Train.  Loss=0.7161159\n",
      "-Valid.  Loss=0.9794181\n",
      "'train_loss_fward05_22.csv' saved.\n",
      "'valid_loss_fward05_22.csv' saved.\n",
      "'model11_fward05_22_last.pth' saved.\n",
      "'model11_fward05_22_best.pth' saved.\n",
      "- train minibatches = 1\n",
      "- valid minibatches = 1\n",
      "- test minibatches = 1\n"
     ]
    },
    {
     "data": {
      "application/vnd.jupyter.widget-view+json": {
       "model_id": "b024da8c9dfa491f9afe9d87541e5a2f",
       "version_major": 2,
       "version_minor": 0
      },
      "text/plain": [
       "Epochs loop:   0%|          | 0/12000 [00:00<?, ?it/s]"
      ]
     },
     "metadata": {},
     "output_type": "display_data"
    },
    {
     "name": "stdout",
     "output_type": "stream",
     "text": [
      "Summary:\n",
      "-learning rate = 0.02997\n",
      "-Model saved after iteration 19.\n",
      "-Train.  Loss=0.0325834\n",
      "-Valid.  Loss=0.1936499\n",
      "'train_loss_fward05_23.csv' saved.\n",
      "'valid_loss_fward05_23.csv' saved.\n",
      "'model11_fward05_23_last.pth' saved.\n",
      "'model11_fward05_23_best.pth' saved.\n",
      "- train minibatches = 1\n",
      "- valid minibatches = 1\n",
      "- test minibatches = 1\n"
     ]
    },
    {
     "data": {
      "application/vnd.jupyter.widget-view+json": {
       "model_id": "141654212d1f421a85b6f4b290707d48",
       "version_major": 2,
       "version_minor": 0
      },
      "text/plain": [
       "Epochs loop:   0%|          | 0/12000 [00:00<?, ?it/s]"
      ]
     },
     "metadata": {},
     "output_type": "display_data"
    },
    {
     "name": "stdout",
     "output_type": "stream",
     "text": [
      "Summary:\n",
      "-learning rate = 0.02997\n",
      "-Model saved after iteration 1.\n",
      "-Train.  Loss=0.7064257\n",
      "-Valid.  Loss=0.8590131\n",
      "'train_loss_fward05_24.csv' saved.\n",
      "'valid_loss_fward05_24.csv' saved.\n",
      "'model11_fward05_24_last.pth' saved.\n",
      "'model11_fward05_24_best.pth' saved.\n",
      "- train minibatches = 1\n",
      "- valid minibatches = 1\n",
      "- test minibatches = 1\n"
     ]
    },
    {
     "data": {
      "application/vnd.jupyter.widget-view+json": {
       "model_id": "c023e0e6d4144c13bc807e3a537c17fe",
       "version_major": 2,
       "version_minor": 0
      },
      "text/plain": [
       "Epochs loop:   0%|          | 0/12000 [00:00<?, ?it/s]"
      ]
     },
     "metadata": {},
     "output_type": "display_data"
    },
    {
     "name": "stdout",
     "output_type": "stream",
     "text": [
      "Summary:\n",
      "-learning rate = 0.02997\n",
      "-Model saved after iteration 39.\n",
      "-Train.  Loss=0.2110091\n",
      "-Valid.  Loss=0.3279168\n",
      "'train_loss_fward05_25.csv' saved.\n",
      "'valid_loss_fward05_25.csv' saved.\n",
      "'model11_fward05_25_last.pth' saved.\n",
      "'model11_fward05_25_best.pth' saved.\n",
      "- train minibatches = 1\n",
      "- valid minibatches = 1\n",
      "- test minibatches = 1\n"
     ]
    },
    {
     "data": {
      "application/vnd.jupyter.widget-view+json": {
       "model_id": "c11095e767fb43c2b63ca4a0b119d395",
       "version_major": 2,
       "version_minor": 0
      },
      "text/plain": [
       "Epochs loop:   0%|          | 0/12000 [00:00<?, ?it/s]"
      ]
     },
     "metadata": {},
     "output_type": "display_data"
    },
    {
     "name": "stdout",
     "output_type": "stream",
     "text": [
      "Summary:\n",
      "-learning rate = 0.02997\n",
      "-Model saved after iteration 1.\n",
      "-Train.  Loss=0.8331236\n",
      "-Valid.  Loss=0.9231788\n",
      "'train_loss_fward05_26.csv' saved.\n",
      "'valid_loss_fward05_26.csv' saved.\n",
      "'model11_fward05_26_last.pth' saved.\n",
      "'model11_fward05_26_best.pth' saved.\n",
      "- train minibatches = 1\n",
      "- valid minibatches = 1\n",
      "- test minibatches = 1\n"
     ]
    },
    {
     "data": {
      "application/vnd.jupyter.widget-view+json": {
       "model_id": "c062d1f47aed4f1e95cbcc5cc174388c",
       "version_major": 2,
       "version_minor": 0
      },
      "text/plain": [
       "Epochs loop:   0%|          | 0/12000 [00:00<?, ?it/s]"
      ]
     },
     "metadata": {},
     "output_type": "display_data"
    },
    {
     "name": "stdout",
     "output_type": "stream",
     "text": [
      "Summary:\n",
      "-learning rate = 0.02997\n",
      "-Model saved after iteration 11.\n",
      "-Train.  Loss=0.1388017\n",
      "-Valid.  Loss=0.5801442\n",
      "'train_loss_fward05_27.csv' saved.\n",
      "'valid_loss_fward05_27.csv' saved.\n",
      "'model11_fward05_27_last.pth' saved.\n",
      "'model11_fward05_27_best.pth' saved.\n",
      "- train minibatches = 1\n",
      "- valid minibatches = 1\n",
      "- test minibatches = 1\n"
     ]
    },
    {
     "data": {
      "application/vnd.jupyter.widget-view+json": {
       "model_id": "548ef44639784211ad2bf1c215d3c36b",
       "version_major": 2,
       "version_minor": 0
      },
      "text/plain": [
       "Epochs loop:   0%|          | 0/12000 [00:00<?, ?it/s]"
      ]
     },
     "metadata": {},
     "output_type": "display_data"
    },
    {
     "name": "stdout",
     "output_type": "stream",
     "text": [
      "Summary:\n",
      "-learning rate = 0.02997\n",
      "-Model saved after iteration 29.\n",
      "-Train.  Loss=0.0499019\n",
      "-Valid.  Loss=0.2307047\n",
      "'train_loss_fward05_28.csv' saved.\n",
      "'valid_loss_fward05_28.csv' saved.\n",
      "'model11_fward05_28_last.pth' saved.\n",
      "'model11_fward05_28_best.pth' saved.\n",
      "- train minibatches = 1\n",
      "- valid minibatches = 1\n",
      "- test minibatches = 1\n"
     ]
    },
    {
     "data": {
      "application/vnd.jupyter.widget-view+json": {
       "model_id": "da1db1cba885438f94eb711eafb1122b",
       "version_major": 2,
       "version_minor": 0
      },
      "text/plain": [
       "Epochs loop:   0%|          | 0/12000 [00:00<?, ?it/s]"
      ]
     },
     "metadata": {},
     "output_type": "display_data"
    },
    {
     "name": "stdout",
     "output_type": "stream",
     "text": [
      "Summary:\n",
      "-learning rate = 0.02997\n",
      "-Model saved after iteration 10.\n",
      "-Train.  Loss=0.1802971\n",
      "-Valid.  Loss=0.6400368\n",
      "'train_loss_fward05_29.csv' saved.\n",
      "'valid_loss_fward05_29.csv' saved.\n",
      "'model11_fward05_29_last.pth' saved.\n",
      "'model11_fward05_29_best.pth' saved.\n",
      "- train minibatches = 1\n",
      "- valid minibatches = 1\n",
      "- test minibatches = 1\n"
     ]
    },
    {
     "data": {
      "application/vnd.jupyter.widget-view+json": {
       "model_id": "14989c4e1e2743fea1da0f8e4b8f4c2a",
       "version_major": 2,
       "version_minor": 0
      },
      "text/plain": [
       "Epochs loop:   0%|          | 0/12000 [00:00<?, ?it/s]"
      ]
     },
     "metadata": {},
     "output_type": "display_data"
    },
    {
     "name": "stdout",
     "output_type": "stream",
     "text": [
      "Summary:\n",
      "-learning rate = 0.02997\n",
      "-Model saved after iteration 12000.\n",
      "-Train.  Loss=0.0000043\n",
      "-Valid.  Loss=0.6496287\n",
      "'train_loss_fward05_30.csv' saved.\n",
      "'valid_loss_fward05_30.csv' saved.\n",
      "'model11_fward05_30_last.pth' saved.\n",
      "'model11_fward05_30_best.pth' saved.\n",
      "- train minibatches = 1\n",
      "- valid minibatches = 1\n",
      "- test minibatches = 1\n"
     ]
    },
    {
     "data": {
      "application/vnd.jupyter.widget-view+json": {
       "model_id": "46705ae3a99549deb5a81c8574b2aec5",
       "version_major": 2,
       "version_minor": 0
      },
      "text/plain": [
       "Epochs loop:   0%|          | 0/12000 [00:00<?, ?it/s]"
      ]
     },
     "metadata": {},
     "output_type": "display_data"
    },
    {
     "name": "stdout",
     "output_type": "stream",
     "text": [
      "Summary:\n",
      "-learning rate = 0.02997\n",
      "-Model saved after iteration 5714.\n",
      "-Train.  Loss=0.0000106\n",
      "-Valid.  Loss=0.6284564\n",
      "'train_loss_fward05_31.csv' saved.\n",
      "'valid_loss_fward05_31.csv' saved.\n",
      "'model11_fward05_31_last.pth' saved.\n",
      "'model11_fward05_31_best.pth' saved.\n",
      "- train minibatches = 1\n",
      "- valid minibatches = 1\n",
      "- test minibatches = 1\n"
     ]
    },
    {
     "data": {
      "application/vnd.jupyter.widget-view+json": {
       "model_id": "ca442fbdcacb4f3e8b0db65b9dce8e89",
       "version_major": 2,
       "version_minor": 0
      },
      "text/plain": [
       "Epochs loop:   0%|          | 0/12000 [00:00<?, ?it/s]"
      ]
     },
     "metadata": {},
     "output_type": "display_data"
    },
    {
     "name": "stdout",
     "output_type": "stream",
     "text": [
      "Summary:\n",
      "-learning rate = 0.02997\n",
      "-Model saved after iteration 11.\n",
      "-Train.  Loss=0.0769030\n",
      "-Valid.  Loss=0.2166794\n",
      "'train_loss_fward05_32.csv' saved.\n",
      "'valid_loss_fward05_32.csv' saved.\n",
      "'model11_fward05_32_last.pth' saved.\n",
      "'model11_fward05_32_best.pth' saved.\n",
      "- train minibatches = 1\n",
      "- valid minibatches = 1\n",
      "- test minibatches = 1\n"
     ]
    },
    {
     "data": {
      "application/vnd.jupyter.widget-view+json": {
       "model_id": "4c37914c833340eab70791a76d78bc70",
       "version_major": 2,
       "version_minor": 0
      },
      "text/plain": [
       "Epochs loop:   0%|          | 0/12000 [00:00<?, ?it/s]"
      ]
     },
     "metadata": {},
     "output_type": "display_data"
    },
    {
     "name": "stdout",
     "output_type": "stream",
     "text": [
      "Summary:\n",
      "-learning rate = 0.02997\n",
      "-Model saved after iteration 4121.\n",
      "-Train.  Loss=0.0041924\n",
      "-Valid.  Loss=0.2372838\n",
      "'train_loss_fward05_33.csv' saved.\n",
      "'valid_loss_fward05_33.csv' saved.\n",
      "'model11_fward05_33_last.pth' saved.\n",
      "'model11_fward05_33_best.pth' saved.\n",
      "- train minibatches = 1\n",
      "- valid minibatches = 1\n",
      "- test minibatches = 1\n"
     ]
    },
    {
     "data": {
      "application/vnd.jupyter.widget-view+json": {
       "model_id": "aaef45f2a86e4034a4ae5e8e1205c191",
       "version_major": 2,
       "version_minor": 0
      },
      "text/plain": [
       "Epochs loop:   0%|          | 0/12000 [00:00<?, ?it/s]"
      ]
     },
     "metadata": {},
     "output_type": "display_data"
    },
    {
     "name": "stdout",
     "output_type": "stream",
     "text": [
      "Summary:\n",
      "-learning rate = 0.02997\n",
      "-Model saved after iteration 32.\n",
      "-Train.  Loss=0.0944413\n",
      "-Valid.  Loss=0.2802839\n",
      "'train_loss_fward05_34.csv' saved.\n",
      "'valid_loss_fward05_34.csv' saved.\n",
      "'model11_fward05_34_last.pth' saved.\n",
      "'model11_fward05_34_best.pth' saved.\n",
      "- train minibatches = 1\n",
      "- valid minibatches = 1\n",
      "- test minibatches = 1\n"
     ]
    },
    {
     "data": {
      "application/vnd.jupyter.widget-view+json": {
       "model_id": "8e3d0cc4fcf54babbd4f915c59937878",
       "version_major": 2,
       "version_minor": 0
      },
      "text/plain": [
       "Epochs loop:   0%|          | 0/12000 [00:00<?, ?it/s]"
      ]
     },
     "metadata": {},
     "output_type": "display_data"
    },
    {
     "name": "stdout",
     "output_type": "stream",
     "text": [
      "Summary:\n",
      "-learning rate = 0.02997\n",
      "-Model saved after iteration 13.\n",
      "-Train.  Loss=0.2297381\n",
      "-Valid.  Loss=0.4217756\n",
      "'train_loss_fward05_35.csv' saved.\n",
      "'valid_loss_fward05_35.csv' saved.\n",
      "'model11_fward05_35_last.pth' saved.\n",
      "'model11_fward05_35_best.pth' saved.\n",
      "- train minibatches = 1\n",
      "- valid minibatches = 1\n",
      "- test minibatches = 1\n"
     ]
    },
    {
     "data": {
      "application/vnd.jupyter.widget-view+json": {
       "model_id": "c97aa04bd03e43f68f1eacde611b0391",
       "version_major": 2,
       "version_minor": 0
      },
      "text/plain": [
       "Epochs loop:   0%|          | 0/12000 [00:00<?, ?it/s]"
      ]
     },
     "metadata": {},
     "output_type": "display_data"
    },
    {
     "name": "stdout",
     "output_type": "stream",
     "text": [
      "Summary:\n",
      "-learning rate = 0.02997\n",
      "-Model saved after iteration 27.\n",
      "-Train.  Loss=0.0189400\n",
      "-Valid.  Loss=0.2404357\n",
      "'train_loss_fward05_36.csv' saved.\n",
      "'valid_loss_fward05_36.csv' saved.\n",
      "'model11_fward05_36_last.pth' saved.\n",
      "'model11_fward05_36_best.pth' saved.\n",
      "- train minibatches = 1\n",
      "- valid minibatches = 1\n",
      "- test minibatches = 1\n"
     ]
    },
    {
     "data": {
      "application/vnd.jupyter.widget-view+json": {
       "model_id": "284e82b51e374989a01b7cfd945b0a4a",
       "version_major": 2,
       "version_minor": 0
      },
      "text/plain": [
       "Epochs loop:   0%|          | 0/12000 [00:00<?, ?it/s]"
      ]
     },
     "metadata": {},
     "output_type": "display_data"
    },
    {
     "name": "stdout",
     "output_type": "stream",
     "text": [
      "Summary:\n",
      "-learning rate = 0.02997\n",
      "-Model saved after iteration 42.\n",
      "-Train.  Loss=0.1196922\n",
      "-Valid.  Loss=0.5982051\n",
      "'train_loss_fward05_37.csv' saved.\n",
      "'valid_loss_fward05_37.csv' saved.\n",
      "'model11_fward05_37_last.pth' saved.\n",
      "'model11_fward05_37_best.pth' saved.\n",
      "- train minibatches = 1\n",
      "- valid minibatches = 1\n",
      "- test minibatches = 1\n"
     ]
    },
    {
     "data": {
      "application/vnd.jupyter.widget-view+json": {
       "model_id": "da2446772d39473ba1224cac3d79d89a",
       "version_major": 2,
       "version_minor": 0
      },
      "text/plain": [
       "Epochs loop:   0%|          | 0/12000 [00:00<?, ?it/s]"
      ]
     },
     "metadata": {},
     "output_type": "display_data"
    },
    {
     "name": "stdout",
     "output_type": "stream",
     "text": [
      "Summary:\n",
      "-learning rate = 0.02997\n",
      "-Model saved after iteration 80.\n",
      "-Train.  Loss=0.0024137\n",
      "-Valid.  Loss=0.2840764\n",
      "'train_loss_fward05_38.csv' saved.\n",
      "'valid_loss_fward05_38.csv' saved.\n",
      "'model11_fward05_38_last.pth' saved.\n",
      "'model11_fward05_38_best.pth' saved.\n",
      "- train minibatches = 1\n",
      "- valid minibatches = 1\n",
      "- test minibatches = 1\n"
     ]
    },
    {
     "data": {
      "application/vnd.jupyter.widget-view+json": {
       "model_id": "282d89be2fe34c8097ea123d433d0534",
       "version_major": 2,
       "version_minor": 0
      },
      "text/plain": [
       "Epochs loop:   0%|          | 0/12000 [00:00<?, ?it/s]"
      ]
     },
     "metadata": {},
     "output_type": "display_data"
    },
    {
     "name": "stdout",
     "output_type": "stream",
     "text": [
      "Summary:\n",
      "-learning rate = 0.02997\n",
      "-Model saved after iteration 8.\n",
      "-Train.  Loss=0.2256546\n",
      "-Valid.  Loss=0.6462185\n",
      "'train_loss_fward05_39.csv' saved.\n",
      "'valid_loss_fward05_39.csv' saved.\n",
      "'model11_fward05_39_last.pth' saved.\n",
      "'model11_fward05_39_best.pth' saved.\n",
      "- train minibatches = 1\n",
      "- valid minibatches = 1\n",
      "- test minibatches = 1\n"
     ]
    },
    {
     "data": {
      "application/vnd.jupyter.widget-view+json": {
       "model_id": "cd94492bacc049b5bf6e571c1a02d28e",
       "version_major": 2,
       "version_minor": 0
      },
      "text/plain": [
       "Epochs loop:   0%|          | 0/12000 [00:00<?, ?it/s]"
      ]
     },
     "metadata": {},
     "output_type": "display_data"
    },
    {
     "name": "stdout",
     "output_type": "stream",
     "text": [
      "Summary:\n",
      "-learning rate = 0.02997\n",
      "-Model saved after iteration 18.\n",
      "-Train.  Loss=0.1105360\n",
      "-Valid.  Loss=0.3891918\n",
      "'train_loss_fward05_40.csv' saved.\n",
      "'valid_loss_fward05_40.csv' saved.\n",
      "'model11_fward05_40_last.pth' saved.\n",
      "'model11_fward05_40_best.pth' saved.\n",
      "- train minibatches = 1\n",
      "- valid minibatches = 1\n",
      "- test minibatches = 1\n"
     ]
    },
    {
     "data": {
      "application/vnd.jupyter.widget-view+json": {
       "model_id": "295de06df0cb41f4a73fd30457263ea2",
       "version_major": 2,
       "version_minor": 0
      },
      "text/plain": [
       "Epochs loop:   0%|          | 0/12000 [00:00<?, ?it/s]"
      ]
     },
     "metadata": {},
     "output_type": "display_data"
    },
    {
     "name": "stdout",
     "output_type": "stream",
     "text": [
      "Summary:\n",
      "-learning rate = 0.02997\n",
      "-Model saved after iteration 19.\n",
      "-Train.  Loss=0.0226526\n",
      "-Valid.  Loss=0.4142925\n",
      "'train_loss_fward05_41.csv' saved.\n",
      "'valid_loss_fward05_41.csv' saved.\n",
      "'model11_fward05_41_last.pth' saved.\n",
      "'model11_fward05_41_best.pth' saved.\n",
      "- train minibatches = 1\n",
      "- valid minibatches = 1\n",
      "- test minibatches = 1\n"
     ]
    },
    {
     "data": {
      "application/vnd.jupyter.widget-view+json": {
       "model_id": "673a2a43a3be4802a202c752767e19b8",
       "version_major": 2,
       "version_minor": 0
      },
      "text/plain": [
       "Epochs loop:   0%|          | 0/12000 [00:00<?, ?it/s]"
      ]
     },
     "metadata": {},
     "output_type": "display_data"
    },
    {
     "name": "stdout",
     "output_type": "stream",
     "text": [
      "Summary:\n",
      "-learning rate = 0.02997\n",
      "-Model saved after iteration 50.\n",
      "-Train.  Loss=0.1134525\n",
      "-Valid.  Loss=0.4527654\n",
      "'train_loss_fward05_42.csv' saved.\n",
      "'valid_loss_fward05_42.csv' saved.\n",
      "'model11_fward05_42_last.pth' saved.\n",
      "'model11_fward05_42_best.pth' saved.\n",
      "- train minibatches = 1\n",
      "- valid minibatches = 1\n",
      "- test minibatches = 1\n"
     ]
    },
    {
     "data": {
      "application/vnd.jupyter.widget-view+json": {
       "model_id": "ce26e6df541d4cb3ad2bcac2de34c5b4",
       "version_major": 2,
       "version_minor": 0
      },
      "text/plain": [
       "Epochs loop:   0%|          | 0/12000 [00:00<?, ?it/s]"
      ]
     },
     "metadata": {},
     "output_type": "display_data"
    },
    {
     "name": "stdout",
     "output_type": "stream",
     "text": [
      "Summary:\n",
      "-learning rate = 0.02997\n",
      "-Model saved after iteration 10910.\n",
      "-Train.  Loss=0.0016445\n",
      "-Valid.  Loss=0.2719246\n",
      "'train_loss_fward05_43.csv' saved.\n",
      "'valid_loss_fward05_43.csv' saved.\n",
      "'model11_fward05_43_last.pth' saved.\n",
      "'model11_fward05_43_best.pth' saved.\n",
      "- train minibatches = 1\n",
      "- valid minibatches = 1\n",
      "- test minibatches = 1\n"
     ]
    },
    {
     "data": {
      "application/vnd.jupyter.widget-view+json": {
       "model_id": "a6885ece715a40b582315f15193ae17e",
       "version_major": 2,
       "version_minor": 0
      },
      "text/plain": [
       "Epochs loop:   0%|          | 0/12000 [00:00<?, ?it/s]"
      ]
     },
     "metadata": {},
     "output_type": "display_data"
    },
    {
     "name": "stdout",
     "output_type": "stream",
     "text": [
      "Summary:\n",
      "-learning rate = 0.02997\n",
      "-Model saved after iteration 28.\n",
      "-Train.  Loss=0.0636156\n",
      "-Valid.  Loss=0.2841236\n",
      "'train_loss_fward05_44.csv' saved.\n",
      "'valid_loss_fward05_44.csv' saved.\n",
      "'model11_fward05_44_last.pth' saved.\n",
      "'model11_fward05_44_best.pth' saved.\n",
      "- train minibatches = 1\n",
      "- valid minibatches = 1\n",
      "- test minibatches = 1\n"
     ]
    },
    {
     "data": {
      "application/vnd.jupyter.widget-view+json": {
       "model_id": "438c2b3d01664e889f6335466a4bae24",
       "version_major": 2,
       "version_minor": 0
      },
      "text/plain": [
       "Epochs loop:   0%|          | 0/12000 [00:00<?, ?it/s]"
      ]
     },
     "metadata": {},
     "output_type": "display_data"
    },
    {
     "name": "stdout",
     "output_type": "stream",
     "text": [
      "Summary:\n",
      "-learning rate = 0.02997\n",
      "-Model saved after iteration 2.\n",
      "-Train.  Loss=0.5075752\n",
      "-Valid.  Loss=0.5825516\n",
      "'train_loss_fward05_45.csv' saved.\n",
      "'valid_loss_fward05_45.csv' saved.\n",
      "'model11_fward05_45_last.pth' saved.\n",
      "'model11_fward05_45_best.pth' saved.\n",
      "- train minibatches = 1\n",
      "- valid minibatches = 1\n",
      "- test minibatches = 1\n"
     ]
    },
    {
     "data": {
      "application/vnd.jupyter.widget-view+json": {
       "model_id": "684838d27e044b6e87a89f5e0592148f",
       "version_major": 2,
       "version_minor": 0
      },
      "text/plain": [
       "Epochs loop:   0%|          | 0/12000 [00:00<?, ?it/s]"
      ]
     },
     "metadata": {},
     "output_type": "display_data"
    },
    {
     "name": "stdout",
     "output_type": "stream",
     "text": [
      "Summary:\n",
      "-learning rate = 0.02997\n",
      "-Model saved after iteration 11.\n",
      "-Train.  Loss=0.1779226\n",
      "-Valid.  Loss=0.4837031\n",
      "'train_loss_fward05_46.csv' saved.\n",
      "'valid_loss_fward05_46.csv' saved.\n",
      "'model11_fward05_46_last.pth' saved.\n",
      "'model11_fward05_46_best.pth' saved.\n",
      "- train minibatches = 1\n",
      "- valid minibatches = 1\n",
      "- test minibatches = 1\n"
     ]
    },
    {
     "data": {
      "application/vnd.jupyter.widget-view+json": {
       "model_id": "2bc8aa761ee7465b97a27055af9fbf26",
       "version_major": 2,
       "version_minor": 0
      },
      "text/plain": [
       "Epochs loop:   0%|          | 0/12000 [00:00<?, ?it/s]"
      ]
     },
     "metadata": {},
     "output_type": "display_data"
    },
    {
     "name": "stdout",
     "output_type": "stream",
     "text": [
      "Summary:\n",
      "-learning rate = 0.02997\n",
      "-Model saved after iteration 15.\n",
      "-Train.  Loss=0.1065823\n",
      "-Valid.  Loss=0.4213661\n",
      "'train_loss_fward05_47.csv' saved.\n",
      "'valid_loss_fward05_47.csv' saved.\n",
      "'model11_fward05_47_last.pth' saved.\n",
      "'model11_fward05_47_best.pth' saved.\n",
      "- train minibatches = 1\n",
      "- valid minibatches = 1\n",
      "- test minibatches = 1\n"
     ]
    },
    {
     "data": {
      "application/vnd.jupyter.widget-view+json": {
       "model_id": "01fa2434709a48ac9f5f3dfc831e22c8",
       "version_major": 2,
       "version_minor": 0
      },
      "text/plain": [
       "Epochs loop:   0%|          | 0/12000 [00:00<?, ?it/s]"
      ]
     },
     "metadata": {},
     "output_type": "display_data"
    },
    {
     "name": "stdout",
     "output_type": "stream",
     "text": [
      "Summary:\n",
      "-learning rate = 0.02997\n",
      "-Model saved after iteration 34.\n",
      "-Train.  Loss=0.0078062\n",
      "-Valid.  Loss=0.3707195\n",
      "'train_loss_fward05_48.csv' saved.\n",
      "'valid_loss_fward05_48.csv' saved.\n",
      "'model11_fward05_48_last.pth' saved.\n",
      "'model11_fward05_48_best.pth' saved.\n",
      "- train minibatches = 1\n",
      "- valid minibatches = 1\n",
      "- test minibatches = 1\n"
     ]
    },
    {
     "data": {
      "application/vnd.jupyter.widget-view+json": {
       "model_id": "0cc91a80445e42f0931e951286f09258",
       "version_major": 2,
       "version_minor": 0
      },
      "text/plain": [
       "Epochs loop:   0%|          | 0/12000 [00:00<?, ?it/s]"
      ]
     },
     "metadata": {},
     "output_type": "display_data"
    },
    {
     "name": "stdout",
     "output_type": "stream",
     "text": [
      "Summary:\n",
      "-learning rate = 0.02997\n",
      "-Model saved after iteration 1549.\n",
      "-Train.  Loss=0.0125890\n",
      "-Valid.  Loss=0.2039485\n",
      "'train_loss_fward05_49.csv' saved.\n",
      "'valid_loss_fward05_49.csv' saved.\n",
      "'model11_fward05_49_last.pth' saved.\n",
      "'model11_fward05_49_best.pth' saved.\n",
      "- train minibatches = 1\n",
      "- valid minibatches = 1\n",
      "- test minibatches = 1\n"
     ]
    },
    {
     "data": {
      "application/vnd.jupyter.widget-view+json": {
       "model_id": "48b0f6b1eea945f7a96cfdf31bf9191d",
       "version_major": 2,
       "version_minor": 0
      },
      "text/plain": [
       "Epochs loop:   0%|          | 0/12000 [00:00<?, ?it/s]"
      ]
     },
     "metadata": {},
     "output_type": "display_data"
    },
    {
     "name": "stdout",
     "output_type": "stream",
     "text": [
      "Summary:\n",
      "-learning rate = 0.02997\n",
      "-Model saved after iteration 496.\n",
      "-Train.  Loss=0.0003463\n",
      "-Valid.  Loss=0.4916774\n",
      "'train_loss_fward05_50.csv' saved.\n",
      "'valid_loss_fward05_50.csv' saved.\n",
      "'model11_fward05_50_last.pth' saved.\n",
      "'model11_fward05_50_best.pth' saved.\n",
      "- train minibatches = 1\n",
      "- valid minibatches = 1\n",
      "- test minibatches = 1\n"
     ]
    },
    {
     "data": {
      "application/vnd.jupyter.widget-view+json": {
       "model_id": "183ba7509b8b42dea7e663ecd8e46cc1",
       "version_major": 2,
       "version_minor": 0
      },
      "text/plain": [
       "Epochs loop:   0%|          | 0/12000 [00:00<?, ?it/s]"
      ]
     },
     "metadata": {},
     "output_type": "display_data"
    },
    {
     "name": "stdout",
     "output_type": "stream",
     "text": [
      "Summary:\n",
      "-learning rate = 0.02997\n",
      "-Model saved after iteration 1.\n",
      "-Train.  Loss=0.6875172\n",
      "-Valid.  Loss=0.6905040\n",
      "'train_loss_fward05_51.csv' saved.\n",
      "'valid_loss_fward05_51.csv' saved.\n",
      "'model11_fward05_51_last.pth' saved.\n",
      "'model11_fward05_51_best.pth' saved.\n",
      "- train minibatches = 1\n",
      "- valid minibatches = 1\n",
      "- test minibatches = 1\n"
     ]
    },
    {
     "data": {
      "application/vnd.jupyter.widget-view+json": {
       "model_id": "bdd594982eca4512b5ff6dc633b8d20e",
       "version_major": 2,
       "version_minor": 0
      },
      "text/plain": [
       "Epochs loop:   0%|          | 0/12000 [00:00<?, ?it/s]"
      ]
     },
     "metadata": {},
     "output_type": "display_data"
    },
    {
     "name": "stdout",
     "output_type": "stream",
     "text": [
      "Summary:\n",
      "-learning rate = 0.02997\n",
      "-Model saved after iteration 1.\n",
      "-Train.  Loss=0.7147021\n",
      "-Valid.  Loss=0.7332180\n",
      "'train_loss_fward05_52.csv' saved.\n",
      "'valid_loss_fward05_52.csv' saved.\n",
      "'model11_fward05_52_last.pth' saved.\n",
      "'model11_fward05_52_best.pth' saved.\n",
      "- train minibatches = 1\n",
      "- valid minibatches = 1\n",
      "- test minibatches = 1\n"
     ]
    },
    {
     "data": {
      "application/vnd.jupyter.widget-view+json": {
       "model_id": "9b077d8ce240494d990596a7d2fec304",
       "version_major": 2,
       "version_minor": 0
      },
      "text/plain": [
       "Epochs loop:   0%|          | 0/12000 [00:00<?, ?it/s]"
      ]
     },
     "metadata": {},
     "output_type": "display_data"
    },
    {
     "name": "stdout",
     "output_type": "stream",
     "text": [
      "Summary:\n",
      "-learning rate = 0.02997\n",
      "-Model saved after iteration 10785.\n",
      "-Train.  Loss=0.0015768\n",
      "-Valid.  Loss=0.1758459\n",
      "'train_loss_fward05_53.csv' saved.\n",
      "'valid_loss_fward05_53.csv' saved.\n",
      "'model11_fward05_53_last.pth' saved.\n",
      "'model11_fward05_53_best.pth' saved.\n",
      "- train minibatches = 1\n",
      "- valid minibatches = 1\n",
      "- test minibatches = 1\n"
     ]
    },
    {
     "data": {
      "application/vnd.jupyter.widget-view+json": {
       "model_id": "b3384afa57d34703b3f56a986736f026",
       "version_major": 2,
       "version_minor": 0
      },
      "text/plain": [
       "Epochs loop:   0%|          | 0/12000 [00:00<?, ?it/s]"
      ]
     },
     "metadata": {},
     "output_type": "display_data"
    },
    {
     "name": "stdout",
     "output_type": "stream",
     "text": [
      "Summary:\n",
      "-learning rate = 0.02997\n",
      "-Model saved after iteration 24.\n",
      "-Train.  Loss=0.1671624\n",
      "-Valid.  Loss=0.5188691\n",
      "'train_loss_fward05_54.csv' saved.\n",
      "'valid_loss_fward05_54.csv' saved.\n",
      "'model11_fward05_54_last.pth' saved.\n",
      "'model11_fward05_54_best.pth' saved.\n",
      "- train minibatches = 1\n",
      "- valid minibatches = 1\n",
      "- test minibatches = 1\n"
     ]
    },
    {
     "data": {
      "application/vnd.jupyter.widget-view+json": {
       "model_id": "f81eea2ca9a5414cb230ffe4f4d3600a",
       "version_major": 2,
       "version_minor": 0
      },
      "text/plain": [
       "Epochs loop:   0%|          | 0/12000 [00:00<?, ?it/s]"
      ]
     },
     "metadata": {},
     "output_type": "display_data"
    },
    {
     "name": "stdout",
     "output_type": "stream",
     "text": [
      "Summary:\n",
      "-learning rate = 0.02997\n",
      "-Model saved after iteration 1.\n",
      "-Train.  Loss=0.7307770\n",
      "-Valid.  Loss=0.7205059\n",
      "'train_loss_fward05_55.csv' saved.\n",
      "'valid_loss_fward05_55.csv' saved.\n",
      "'model11_fward05_55_last.pth' saved.\n",
      "'model11_fward05_55_best.pth' saved.\n",
      "- train minibatches = 1\n",
      "- valid minibatches = 1\n",
      "- test minibatches = 1\n"
     ]
    },
    {
     "data": {
      "application/vnd.jupyter.widget-view+json": {
       "model_id": "acf4991aadbd419cb63415a26aed28a4",
       "version_major": 2,
       "version_minor": 0
      },
      "text/plain": [
       "Epochs loop:   0%|          | 0/12000 [00:00<?, ?it/s]"
      ]
     },
     "metadata": {},
     "output_type": "display_data"
    },
    {
     "name": "stdout",
     "output_type": "stream",
     "text": [
      "Summary:\n",
      "-learning rate = 0.02997\n",
      "-Model saved after iteration 1.\n",
      "-Train.  Loss=0.7737049\n",
      "-Valid.  Loss=0.6459806\n",
      "'train_loss_fward05_56.csv' saved.\n",
      "'valid_loss_fward05_56.csv' saved.\n",
      "'model11_fward05_56_last.pth' saved.\n",
      "'model11_fward05_56_best.pth' saved.\n",
      "- train minibatches = 1\n",
      "- valid minibatches = 1\n",
      "- test minibatches = 1\n"
     ]
    },
    {
     "data": {
      "application/vnd.jupyter.widget-view+json": {
       "model_id": "805142a014c74bdbb3eddfdeb9553cda",
       "version_major": 2,
       "version_minor": 0
      },
      "text/plain": [
       "Epochs loop:   0%|          | 0/12000 [00:00<?, ?it/s]"
      ]
     },
     "metadata": {},
     "output_type": "display_data"
    },
    {
     "name": "stdout",
     "output_type": "stream",
     "text": [
      "Summary:\n",
      "-learning rate = 0.02997\n",
      "-Model saved after iteration 1.\n",
      "-Train.  Loss=0.6832589\n",
      "-Valid.  Loss=0.7180657\n",
      "'train_loss_fward05_57.csv' saved.\n",
      "'valid_loss_fward05_57.csv' saved.\n",
      "'model11_fward05_57_last.pth' saved.\n",
      "'model11_fward05_57_best.pth' saved.\n",
      "- train minibatches = 1\n",
      "- valid minibatches = 1\n",
      "- test minibatches = 1\n"
     ]
    },
    {
     "data": {
      "application/vnd.jupyter.widget-view+json": {
       "model_id": "9c88b8de0446487384e91d1cb7e03aec",
       "version_major": 2,
       "version_minor": 0
      },
      "text/plain": [
       "Epochs loop:   0%|          | 0/12000 [00:00<?, ?it/s]"
      ]
     },
     "metadata": {},
     "output_type": "display_data"
    },
    {
     "name": "stdout",
     "output_type": "stream",
     "text": [
      "Summary:\n",
      "-learning rate = 0.02997\n",
      "-Model saved after iteration 215.\n",
      "-Train.  Loss=0.0527730\n",
      "-Valid.  Loss=0.4740810\n",
      "'train_loss_fward05_58.csv' saved.\n",
      "'valid_loss_fward05_58.csv' saved.\n",
      "'model11_fward05_58_last.pth' saved.\n",
      "'model11_fward05_58_best.pth' saved.\n",
      "- train minibatches = 1\n",
      "- valid minibatches = 1\n",
      "- test minibatches = 1\n"
     ]
    },
    {
     "data": {
      "application/vnd.jupyter.widget-view+json": {
       "model_id": "813eb6e9024b46ed823ea0aae730965c",
       "version_major": 2,
       "version_minor": 0
      },
      "text/plain": [
       "Epochs loop:   0%|          | 0/12000 [00:00<?, ?it/s]"
      ]
     },
     "metadata": {},
     "output_type": "display_data"
    },
    {
     "name": "stdout",
     "output_type": "stream",
     "text": [
      "Summary:\n",
      "-learning rate = 0.02997\n",
      "-Model saved after iteration 1968.\n",
      "-Train.  Loss=0.0000472\n",
      "-Valid.  Loss=0.1373469\n",
      "'train_loss_fward05_59.csv' saved.\n",
      "'valid_loss_fward05_59.csv' saved.\n",
      "'model11_fward05_59_last.pth' saved.\n",
      "'model11_fward05_59_best.pth' saved.\n",
      "- train minibatches = 1\n",
      "- valid minibatches = 1\n",
      "- test minibatches = 1\n"
     ]
    },
    {
     "data": {
      "application/vnd.jupyter.widget-view+json": {
       "model_id": "d3f22e56290c442bb41731fb55909129",
       "version_major": 2,
       "version_minor": 0
      },
      "text/plain": [
       "Epochs loop:   0%|          | 0/12000 [00:00<?, ?it/s]"
      ]
     },
     "metadata": {},
     "output_type": "display_data"
    },
    {
     "name": "stdout",
     "output_type": "stream",
     "text": [
      "Summary:\n",
      "-learning rate = 0.02997\n",
      "-Model saved after iteration 2640.\n",
      "-Train.  Loss=0.0000280\n",
      "-Valid.  Loss=0.2961897\n",
      "'train_loss_fward05_60.csv' saved.\n",
      "'valid_loss_fward05_60.csv' saved.\n",
      "'model11_fward05_60_last.pth' saved.\n",
      "'model11_fward05_60_best.pth' saved.\n",
      "- train minibatches = 1\n",
      "- valid minibatches = 1\n",
      "- test minibatches = 1\n"
     ]
    },
    {
     "data": {
      "application/vnd.jupyter.widget-view+json": {
       "model_id": "97d43ecc11b3439fbdb3b14e51feede0",
       "version_major": 2,
       "version_minor": 0
      },
      "text/plain": [
       "Epochs loop:   0%|          | 0/12000 [00:00<?, ?it/s]"
      ]
     },
     "metadata": {},
     "output_type": "display_data"
    },
    {
     "name": "stdout",
     "output_type": "stream",
     "text": [
      "Summary:\n",
      "-learning rate = 0.02997\n",
      "-Model saved after iteration 45.\n",
      "-Train.  Loss=0.0064018\n",
      "-Valid.  Loss=0.1534264\n",
      "'train_loss_fward05_61.csv' saved.\n",
      "'valid_loss_fward05_61.csv' saved.\n",
      "'model11_fward05_61_last.pth' saved.\n",
      "'model11_fward05_61_best.pth' saved.\n",
      "- train minibatches = 1\n",
      "- valid minibatches = 1\n",
      "- test minibatches = 1\n"
     ]
    },
    {
     "data": {
      "application/vnd.jupyter.widget-view+json": {
       "model_id": "0b74c83655a14e9fbb37081903f1ac68",
       "version_major": 2,
       "version_minor": 0
      },
      "text/plain": [
       "Epochs loop:   0%|          | 0/12000 [00:00<?, ?it/s]"
      ]
     },
     "metadata": {},
     "output_type": "display_data"
    },
    {
     "name": "stdout",
     "output_type": "stream",
     "text": [
      "Summary:\n",
      "-learning rate = 0.02997\n",
      "-Model saved after iteration 14.\n",
      "-Train.  Loss=0.1590580\n",
      "-Valid.  Loss=0.2860195\n",
      "'train_loss_fward05_62.csv' saved.\n",
      "'valid_loss_fward05_62.csv' saved.\n",
      "'model11_fward05_62_last.pth' saved.\n",
      "'model11_fward05_62_best.pth' saved.\n",
      "- train minibatches = 1\n",
      "- valid minibatches = 1\n",
      "- test minibatches = 1\n"
     ]
    },
    {
     "data": {
      "application/vnd.jupyter.widget-view+json": {
       "model_id": "9aeabb0ead8e42fcacd69f212074ae5b",
       "version_major": 2,
       "version_minor": 0
      },
      "text/plain": [
       "Epochs loop:   0%|          | 0/12000 [00:00<?, ?it/s]"
      ]
     },
     "metadata": {},
     "output_type": "display_data"
    },
    {
     "name": "stdout",
     "output_type": "stream",
     "text": [
      "Summary:\n",
      "-learning rate = 0.02997\n",
      "-Model saved after iteration 9.\n",
      "-Train.  Loss=0.1345480\n",
      "-Valid.  Loss=0.7259454\n",
      "'train_loss_fward05_63.csv' saved.\n",
      "'valid_loss_fward05_63.csv' saved.\n",
      "'model11_fward05_63_last.pth' saved.\n",
      "'model11_fward05_63_best.pth' saved.\n",
      "- train minibatches = 1\n",
      "- valid minibatches = 1\n",
      "- test minibatches = 1\n"
     ]
    },
    {
     "data": {
      "application/vnd.jupyter.widget-view+json": {
       "model_id": "5d98445050b64f2a9237bbeeca2cc482",
       "version_major": 2,
       "version_minor": 0
      },
      "text/plain": [
       "Epochs loop:   0%|          | 0/12000 [00:00<?, ?it/s]"
      ]
     },
     "metadata": {},
     "output_type": "display_data"
    },
    {
     "name": "stdout",
     "output_type": "stream",
     "text": [
      "Summary:\n",
      "-learning rate = 0.02997\n",
      "-Model saved after iteration 7.\n",
      "-Train.  Loss=0.1296456\n",
      "-Valid.  Loss=0.5415676\n",
      "'train_loss_fward05_64.csv' saved.\n",
      "'valid_loss_fward05_64.csv' saved.\n",
      "'model11_fward05_64_last.pth' saved.\n",
      "'model11_fward05_64_best.pth' saved.\n",
      "- train minibatches = 1\n",
      "- valid minibatches = 1\n",
      "- test minibatches = 1\n"
     ]
    },
    {
     "data": {
      "application/vnd.jupyter.widget-view+json": {
       "model_id": "89a93cc3241e4670bbe2a99e2b143bd7",
       "version_major": 2,
       "version_minor": 0
      },
      "text/plain": [
       "Epochs loop:   0%|          | 0/12000 [00:00<?, ?it/s]"
      ]
     },
     "metadata": {},
     "output_type": "display_data"
    },
    {
     "name": "stdout",
     "output_type": "stream",
     "text": [
      "Summary:\n",
      "-learning rate = 0.02997\n",
      "-Model saved after iteration 93.\n",
      "-Train.  Loss=0.0166622\n",
      "-Valid.  Loss=0.2474779\n",
      "'train_loss_fward05_65.csv' saved.\n",
      "'valid_loss_fward05_65.csv' saved.\n",
      "'model11_fward05_65_last.pth' saved.\n",
      "'model11_fward05_65_best.pth' saved.\n",
      "- train minibatches = 1\n",
      "- valid minibatches = 1\n",
      "- test minibatches = 1\n"
     ]
    },
    {
     "data": {
      "application/vnd.jupyter.widget-view+json": {
       "model_id": "34247a268e834da086025529060ce897",
       "version_major": 2,
       "version_minor": 0
      },
      "text/plain": [
       "Epochs loop:   0%|          | 0/12000 [00:00<?, ?it/s]"
      ]
     },
     "metadata": {},
     "output_type": "display_data"
    },
    {
     "name": "stdout",
     "output_type": "stream",
     "text": [
      "Summary:\n",
      "-learning rate = 0.02997\n",
      "-Model saved after iteration 144.\n",
      "-Train.  Loss=0.1081606\n",
      "-Valid.  Loss=0.3092664\n",
      "'train_loss_fward05_66.csv' saved.\n",
      "'valid_loss_fward05_66.csv' saved.\n",
      "'model11_fward05_66_last.pth' saved.\n",
      "'model11_fward05_66_best.pth' saved.\n",
      "- train minibatches = 1\n",
      "- valid minibatches = 1\n",
      "- test minibatches = 1\n"
     ]
    },
    {
     "data": {
      "application/vnd.jupyter.widget-view+json": {
       "model_id": "de67339fd6f84f3f9b32b02aa538d0ef",
       "version_major": 2,
       "version_minor": 0
      },
      "text/plain": [
       "Epochs loop:   0%|          | 0/12000 [00:00<?, ?it/s]"
      ]
     },
     "metadata": {},
     "output_type": "display_data"
    },
    {
     "name": "stdout",
     "output_type": "stream",
     "text": [
      "Summary:\n",
      "-learning rate = 0.02997\n",
      "-Model saved after iteration 6.\n",
      "-Train.  Loss=0.2153961\n",
      "-Valid.  Loss=0.2997867\n",
      "'train_loss_fward05_67.csv' saved.\n",
      "'valid_loss_fward05_67.csv' saved.\n",
      "'model11_fward05_67_last.pth' saved.\n",
      "'model11_fward05_67_best.pth' saved.\n",
      "- train minibatches = 1\n",
      "- valid minibatches = 1\n",
      "- test minibatches = 1\n"
     ]
    },
    {
     "data": {
      "application/vnd.jupyter.widget-view+json": {
       "model_id": "29531eff29bf471f8d44615b6f4325f8",
       "version_major": 2,
       "version_minor": 0
      },
      "text/plain": [
       "Epochs loop:   0%|          | 0/12000 [00:00<?, ?it/s]"
      ]
     },
     "metadata": {},
     "output_type": "display_data"
    },
    {
     "name": "stdout",
     "output_type": "stream",
     "text": [
      "Summary:\n",
      "-learning rate = 0.02997\n",
      "-Model saved after iteration 9.\n",
      "-Train.  Loss=0.1529643\n",
      "-Valid.  Loss=0.2924210\n",
      "'train_loss_fward05_68.csv' saved.\n",
      "'valid_loss_fward05_68.csv' saved.\n",
      "'model11_fward05_68_last.pth' saved.\n",
      "'model11_fward05_68_best.pth' saved.\n",
      "- train minibatches = 1\n",
      "- valid minibatches = 1\n",
      "- test minibatches = 1\n"
     ]
    },
    {
     "data": {
      "application/vnd.jupyter.widget-view+json": {
       "model_id": "aed4a95861174a4f818386dd91542223",
       "version_major": 2,
       "version_minor": 0
      },
      "text/plain": [
       "Epochs loop:   0%|          | 0/12000 [00:00<?, ?it/s]"
      ]
     },
     "metadata": {},
     "output_type": "display_data"
    },
    {
     "name": "stdout",
     "output_type": "stream",
     "text": [
      "Summary:\n",
      "-learning rate = 0.02997\n",
      "-Model saved after iteration 30.\n",
      "-Train.  Loss=0.0926123\n",
      "-Valid.  Loss=0.5490329\n",
      "'train_loss_fward05_69.csv' saved.\n",
      "'valid_loss_fward05_69.csv' saved.\n",
      "'model11_fward05_69_last.pth' saved.\n",
      "'model11_fward05_69_best.pth' saved.\n",
      "- train minibatches = 1\n",
      "- valid minibatches = 1\n",
      "- test minibatches = 1\n"
     ]
    },
    {
     "data": {
      "application/vnd.jupyter.widget-view+json": {
       "model_id": "cea00966cb0249538e266b1067dc52f3",
       "version_major": 2,
       "version_minor": 0
      },
      "text/plain": [
       "Epochs loop:   0%|          | 0/12000 [00:00<?, ?it/s]"
      ]
     },
     "metadata": {},
     "output_type": "display_data"
    },
    {
     "name": "stdout",
     "output_type": "stream",
     "text": [
      "Summary:\n",
      "-learning rate = 0.02997\n",
      "-Model saved after iteration 123.\n",
      "-Train.  Loss=0.0162712\n",
      "-Valid.  Loss=0.1801049\n",
      "'train_loss_fward05_70.csv' saved.\n",
      "'valid_loss_fward05_70.csv' saved.\n",
      "'model11_fward05_70_last.pth' saved.\n",
      "'model11_fward05_70_best.pth' saved.\n",
      "- train minibatches = 1\n",
      "- valid minibatches = 1\n",
      "- test minibatches = 1\n"
     ]
    },
    {
     "data": {
      "application/vnd.jupyter.widget-view+json": {
       "model_id": "9c70a748fc554006a8b300c654286e4d",
       "version_major": 2,
       "version_minor": 0
      },
      "text/plain": [
       "Epochs loop:   0%|          | 0/12000 [00:00<?, ?it/s]"
      ]
     },
     "metadata": {},
     "output_type": "display_data"
    },
    {
     "name": "stdout",
     "output_type": "stream",
     "text": [
      "Summary:\n",
      "-learning rate = 0.02997\n",
      "-Model saved after iteration 23.\n",
      "-Train.  Loss=0.0771752\n",
      "-Valid.  Loss=0.3893318\n",
      "'train_loss_fward05_71.csv' saved.\n",
      "'valid_loss_fward05_71.csv' saved.\n",
      "'model11_fward05_71_last.pth' saved.\n",
      "'model11_fward05_71_best.pth' saved.\n",
      "- train minibatches = 1\n",
      "- valid minibatches = 1\n",
      "- test minibatches = 1\n"
     ]
    },
    {
     "data": {
      "application/vnd.jupyter.widget-view+json": {
       "model_id": "ad52082ac07a4a75a5daa47c82f264fb",
       "version_major": 2,
       "version_minor": 0
      },
      "text/plain": [
       "Epochs loop:   0%|          | 0/12000 [00:00<?, ?it/s]"
      ]
     },
     "metadata": {},
     "output_type": "display_data"
    },
    {
     "name": "stdout",
     "output_type": "stream",
     "text": [
      "Summary:\n",
      "-learning rate = 0.02997\n",
      "-Model saved after iteration 4376.\n",
      "-Train.  Loss=0.0039171\n",
      "-Valid.  Loss=0.2804238\n",
      "'train_loss_fward05_72.csv' saved.\n",
      "'valid_loss_fward05_72.csv' saved.\n",
      "'model11_fward05_72_last.pth' saved.\n",
      "'model11_fward05_72_best.pth' saved.\n",
      "- train minibatches = 1\n",
      "- valid minibatches = 1\n",
      "- test minibatches = 1\n"
     ]
    },
    {
     "data": {
      "application/vnd.jupyter.widget-view+json": {
       "model_id": "d4855570b6b540aaab8e451f4a4f173b",
       "version_major": 2,
       "version_minor": 0
      },
      "text/plain": [
       "Epochs loop:   0%|          | 0/12000 [00:00<?, ?it/s]"
      ]
     },
     "metadata": {},
     "output_type": "display_data"
    },
    {
     "name": "stdout",
     "output_type": "stream",
     "text": [
      "Summary:\n",
      "-learning rate = 0.02997\n",
      "-Model saved after iteration 11999.\n",
      "-Train.  Loss=0.0000061\n",
      "-Valid.  Loss=0.0630111\n",
      "'train_loss_fward05_73.csv' saved.\n",
      "'valid_loss_fward05_73.csv' saved.\n",
      "'model11_fward05_73_last.pth' saved.\n",
      "'model11_fward05_73_best.pth' saved.\n",
      "- train minibatches = 1\n",
      "- valid minibatches = 1\n",
      "- test minibatches = 1\n"
     ]
    },
    {
     "data": {
      "application/vnd.jupyter.widget-view+json": {
       "model_id": "485fe05949c2489391e403761b34e22d",
       "version_major": 2,
       "version_minor": 0
      },
      "text/plain": [
       "Epochs loop:   0%|          | 0/12000 [00:00<?, ?it/s]"
      ]
     },
     "metadata": {},
     "output_type": "display_data"
    },
    {
     "name": "stdout",
     "output_type": "stream",
     "text": [
      "Summary:\n",
      "-learning rate = 0.02997\n",
      "-Model saved after iteration 56.\n",
      "-Train.  Loss=0.0093099\n",
      "-Valid.  Loss=0.3243597\n",
      "'train_loss_fward05_74.csv' saved.\n",
      "'valid_loss_fward05_74.csv' saved.\n",
      "'model11_fward05_74_last.pth' saved.\n",
      "'model11_fward05_74_best.pth' saved.\n",
      "- train minibatches = 1\n",
      "- valid minibatches = 1\n",
      "- test minibatches = 1\n"
     ]
    },
    {
     "data": {
      "application/vnd.jupyter.widget-view+json": {
       "model_id": "79f4fe131b8d4159a42c42e1d91f49ed",
       "version_major": 2,
       "version_minor": 0
      },
      "text/plain": [
       "Epochs loop:   0%|          | 0/12000 [00:00<?, ?it/s]"
      ]
     },
     "metadata": {},
     "output_type": "display_data"
    },
    {
     "name": "stdout",
     "output_type": "stream",
     "text": [
      "Summary:\n",
      "-learning rate = 0.02997\n",
      "-Model saved after iteration 12000.\n",
      "-Train.  Loss=0.0013404\n",
      "-Valid.  Loss=0.0236460\n",
      "'train_loss_fward05_75.csv' saved.\n",
      "'valid_loss_fward05_75.csv' saved.\n",
      "'model11_fward05_75_last.pth' saved.\n",
      "'model11_fward05_75_best.pth' saved.\n",
      "- train minibatches = 1\n",
      "- valid minibatches = 1\n",
      "- test minibatches = 1\n"
     ]
    },
    {
     "data": {
      "application/vnd.jupyter.widget-view+json": {
       "model_id": "6a2f575d0db244608c0227199e55210a",
       "version_major": 2,
       "version_minor": 0
      },
      "text/plain": [
       "Epochs loop:   0%|          | 0/12000 [00:00<?, ?it/s]"
      ]
     },
     "metadata": {},
     "output_type": "display_data"
    },
    {
     "name": "stdout",
     "output_type": "stream",
     "text": [
      "Summary:\n",
      "-learning rate = 0.02997\n",
      "-Model saved after iteration 6.\n",
      "-Train.  Loss=0.2278600\n",
      "-Valid.  Loss=0.4731342\n",
      "'train_loss_fward05_76.csv' saved.\n",
      "'valid_loss_fward05_76.csv' saved.\n",
      "'model11_fward05_76_last.pth' saved.\n",
      "'model11_fward05_76_best.pth' saved.\n",
      "- train minibatches = 1\n",
      "- valid minibatches = 1\n",
      "- test minibatches = 1\n"
     ]
    },
    {
     "data": {
      "application/vnd.jupyter.widget-view+json": {
       "model_id": "54f55063466a4d80a851f22c8958634e",
       "version_major": 2,
       "version_minor": 0
      },
      "text/plain": [
       "Epochs loop:   0%|          | 0/12000 [00:00<?, ?it/s]"
      ]
     },
     "metadata": {},
     "output_type": "display_data"
    },
    {
     "name": "stdout",
     "output_type": "stream",
     "text": [
      "Summary:\n",
      "-learning rate = 0.02997\n",
      "-Model saved after iteration 729.\n",
      "-Train.  Loss=0.0001352\n",
      "-Valid.  Loss=0.1256419\n",
      "'train_loss_fward05_77.csv' saved.\n",
      "'valid_loss_fward05_77.csv' saved.\n",
      "'model11_fward05_77_last.pth' saved.\n",
      "'model11_fward05_77_best.pth' saved.\n",
      "- train minibatches = 1\n",
      "- valid minibatches = 1\n",
      "- test minibatches = 1\n"
     ]
    },
    {
     "data": {
      "application/vnd.jupyter.widget-view+json": {
       "model_id": "75cae5417a714f2383cb74a57812b980",
       "version_major": 2,
       "version_minor": 0
      },
      "text/plain": [
       "Epochs loop:   0%|          | 0/12000 [00:00<?, ?it/s]"
      ]
     },
     "metadata": {},
     "output_type": "display_data"
    },
    {
     "name": "stdout",
     "output_type": "stream",
     "text": [
      "Summary:\n",
      "-learning rate = 0.02997\n",
      "-Model saved after iteration 1214.\n",
      "-Train.  Loss=0.0129713\n",
      "-Valid.  Loss=0.1850000\n",
      "'train_loss_fward05_78.csv' saved.\n",
      "'valid_loss_fward05_78.csv' saved.\n",
      "'model11_fward05_78_last.pth' saved.\n",
      "'model11_fward05_78_best.pth' saved.\n",
      "- train minibatches = 1\n",
      "- valid minibatches = 1\n",
      "- test minibatches = 1\n"
     ]
    },
    {
     "data": {
      "application/vnd.jupyter.widget-view+json": {
       "model_id": "8c8a84dbccb5493d94258160bde358a8",
       "version_major": 2,
       "version_minor": 0
      },
      "text/plain": [
       "Epochs loop:   0%|          | 0/12000 [00:00<?, ?it/s]"
      ]
     },
     "metadata": {},
     "output_type": "display_data"
    },
    {
     "name": "stdout",
     "output_type": "stream",
     "text": [
      "Summary:\n",
      "-learning rate = 0.02997\n",
      "-Model saved after iteration 11973.\n",
      "-Train.  Loss=0.0014980\n",
      "-Valid.  Loss=0.0448067\n",
      "'train_loss_fward05_79.csv' saved.\n",
      "'valid_loss_fward05_79.csv' saved.\n",
      "'model11_fward05_79_last.pth' saved.\n",
      "'model11_fward05_79_best.pth' saved.\n",
      "- train minibatches = 1\n",
      "- valid minibatches = 1\n",
      "- test minibatches = 1\n"
     ]
    },
    {
     "data": {
      "application/vnd.jupyter.widget-view+json": {
       "model_id": "e9f6edb7db074c1fac5f50274a69c5d5",
       "version_major": 2,
       "version_minor": 0
      },
      "text/plain": [
       "Epochs loop:   0%|          | 0/12000 [00:00<?, ?it/s]"
      ]
     },
     "metadata": {},
     "output_type": "display_data"
    },
    {
     "name": "stdout",
     "output_type": "stream",
     "text": [
      "Summary:\n",
      "-learning rate = 0.02997\n",
      "-Model saved after iteration 83.\n",
      "-Train.  Loss=0.0466062\n",
      "-Valid.  Loss=0.3241965\n",
      "'train_loss_fward05_80.csv' saved.\n",
      "'valid_loss_fward05_80.csv' saved.\n",
      "'model11_fward05_80_last.pth' saved.\n",
      "'model11_fward05_80_best.pth' saved.\n",
      "- train minibatches = 1\n",
      "- valid minibatches = 1\n",
      "- test minibatches = 1\n"
     ]
    },
    {
     "data": {
      "application/vnd.jupyter.widget-view+json": {
       "model_id": "48fa10a49d354511a27bce5c7591115c",
       "version_major": 2,
       "version_minor": 0
      },
      "text/plain": [
       "Epochs loop:   0%|          | 0/12000 [00:00<?, ?it/s]"
      ]
     },
     "metadata": {},
     "output_type": "display_data"
    },
    {
     "name": "stdout",
     "output_type": "stream",
     "text": [
      "Summary:\n",
      "-learning rate = 0.02997\n",
      "-Model saved after iteration 50.\n",
      "-Train.  Loss=0.0829081\n",
      "-Valid.  Loss=0.5748364\n",
      "'train_loss_fward05_81.csv' saved.\n",
      "'valid_loss_fward05_81.csv' saved.\n",
      "'model11_fward05_81_last.pth' saved.\n",
      "'model11_fward05_81_best.pth' saved.\n",
      "- train minibatches = 1\n",
      "- valid minibatches = 1\n",
      "- test minibatches = 1\n"
     ]
    },
    {
     "data": {
      "application/vnd.jupyter.widget-view+json": {
       "model_id": "5b245a91fff348d08339b0a20fb8f92a",
       "version_major": 2,
       "version_minor": 0
      },
      "text/plain": [
       "Epochs loop:   0%|          | 0/12000 [00:00<?, ?it/s]"
      ]
     },
     "metadata": {},
     "output_type": "display_data"
    },
    {
     "name": "stdout",
     "output_type": "stream",
     "text": [
      "Summary:\n",
      "-learning rate = 0.02997\n",
      "-Model saved after iteration 5241.\n",
      "-Train.  Loss=0.0032702\n",
      "-Valid.  Loss=0.1912880\n",
      "'train_loss_fward05_82.csv' saved.\n",
      "'valid_loss_fward05_82.csv' saved.\n",
      "'model11_fward05_82_last.pth' saved.\n",
      "'model11_fward05_82_best.pth' saved.\n",
      "- train minibatches = 1\n",
      "- valid minibatches = 1\n",
      "- test minibatches = 1\n"
     ]
    },
    {
     "data": {
      "application/vnd.jupyter.widget-view+json": {
       "model_id": "f6174142e1c44e19a6793e0cb5b2b5ba",
       "version_major": 2,
       "version_minor": 0
      },
      "text/plain": [
       "Epochs loop:   0%|          | 0/12000 [00:00<?, ?it/s]"
      ]
     },
     "metadata": {},
     "output_type": "display_data"
    },
    {
     "name": "stdout",
     "output_type": "stream",
     "text": [
      "Summary:\n",
      "-learning rate = 0.02997\n",
      "-Model saved after iteration 20.\n",
      "-Train.  Loss=0.1474268\n",
      "-Valid.  Loss=0.5880582\n",
      "'train_loss_fward05_83.csv' saved.\n",
      "'valid_loss_fward05_83.csv' saved.\n",
      "'model11_fward05_83_last.pth' saved.\n",
      "'model11_fward05_83_best.pth' saved.\n",
      "- train minibatches = 1\n",
      "- valid minibatches = 1\n",
      "- test minibatches = 1\n"
     ]
    },
    {
     "data": {
      "application/vnd.jupyter.widget-view+json": {
       "model_id": "9555d94947514db89e79b94d0397d4a8",
       "version_major": 2,
       "version_minor": 0
      },
      "text/plain": [
       "Epochs loop:   0%|          | 0/12000 [00:00<?, ?it/s]"
      ]
     },
     "metadata": {},
     "output_type": "display_data"
    },
    {
     "name": "stdout",
     "output_type": "stream",
     "text": [
      "Summary:\n",
      "-learning rate = 0.02997\n",
      "-Model saved after iteration 16.\n",
      "-Train.  Loss=0.1994313\n",
      "-Valid.  Loss=0.5111312\n",
      "'train_loss_fward05_84.csv' saved.\n",
      "'valid_loss_fward05_84.csv' saved.\n",
      "'model11_fward05_84_last.pth' saved.\n",
      "'model11_fward05_84_best.pth' saved.\n",
      "- train minibatches = 1\n",
      "- valid minibatches = 1\n",
      "- test minibatches = 1\n"
     ]
    },
    {
     "data": {
      "application/vnd.jupyter.widget-view+json": {
       "model_id": "70a303ea90444ba09ae517b16a7b1261",
       "version_major": 2,
       "version_minor": 0
      },
      "text/plain": [
       "Epochs loop:   0%|          | 0/12000 [00:00<?, ?it/s]"
      ]
     },
     "metadata": {},
     "output_type": "display_data"
    },
    {
     "name": "stdout",
     "output_type": "stream",
     "text": [
      "Summary:\n",
      "-learning rate = 0.02997\n",
      "-Model saved after iteration 16.\n",
      "-Train.  Loss=0.1144155\n",
      "-Valid.  Loss=0.3135445\n",
      "'train_loss_fward05_85.csv' saved.\n",
      "'valid_loss_fward05_85.csv' saved.\n",
      "'model11_fward05_85_last.pth' saved.\n",
      "'model11_fward05_85_best.pth' saved.\n",
      "- train minibatches = 1\n",
      "- valid minibatches = 1\n",
      "- test minibatches = 1\n"
     ]
    },
    {
     "data": {
      "application/vnd.jupyter.widget-view+json": {
       "model_id": "994a582498f7443a819e0de24d64f153",
       "version_major": 2,
       "version_minor": 0
      },
      "text/plain": [
       "Epochs loop:   0%|          | 0/12000 [00:00<?, ?it/s]"
      ]
     },
     "metadata": {},
     "output_type": "display_data"
    },
    {
     "name": "stdout",
     "output_type": "stream",
     "text": [
      "Summary:\n",
      "-learning rate = 0.02997\n",
      "-Model saved after iteration 25.\n",
      "-Train.  Loss=0.0236572\n",
      "-Valid.  Loss=0.5122390\n",
      "'train_loss_fward05_86.csv' saved.\n",
      "'valid_loss_fward05_86.csv' saved.\n",
      "'model11_fward05_86_last.pth' saved.\n",
      "'model11_fward05_86_best.pth' saved.\n",
      "- train minibatches = 1\n",
      "- valid minibatches = 1\n",
      "- test minibatches = 1\n"
     ]
    },
    {
     "data": {
      "application/vnd.jupyter.widget-view+json": {
       "model_id": "09a7d552fd644d68803d596debb4f9f0",
       "version_major": 2,
       "version_minor": 0
      },
      "text/plain": [
       "Epochs loop:   0%|          | 0/12000 [00:00<?, ?it/s]"
      ]
     },
     "metadata": {},
     "output_type": "display_data"
    },
    {
     "name": "stdout",
     "output_type": "stream",
     "text": [
      "Summary:\n",
      "-learning rate = 0.02997\n",
      "-Model saved after iteration 1.\n",
      "-Train.  Loss=0.6871126\n",
      "-Valid.  Loss=0.7328981\n",
      "'train_loss_fward05_87.csv' saved.\n",
      "'valid_loss_fward05_87.csv' saved.\n",
      "'model11_fward05_87_last.pth' saved.\n",
      "'model11_fward05_87_best.pth' saved.\n",
      "- train minibatches = 1\n",
      "- valid minibatches = 1\n",
      "- test minibatches = 1\n"
     ]
    },
    {
     "data": {
      "application/vnd.jupyter.widget-view+json": {
       "model_id": "e9665f0bc0fe4235adf47f803e909dfe",
       "version_major": 2,
       "version_minor": 0
      },
      "text/plain": [
       "Epochs loop:   0%|          | 0/12000 [00:00<?, ?it/s]"
      ]
     },
     "metadata": {},
     "output_type": "display_data"
    },
    {
     "name": "stdout",
     "output_type": "stream",
     "text": [
      "Summary:\n",
      "-learning rate = 0.02997\n",
      "-Model saved after iteration 8.\n",
      "-Train.  Loss=0.2420624\n",
      "-Valid.  Loss=0.5787350\n",
      "'train_loss_fward05_88.csv' saved.\n",
      "'valid_loss_fward05_88.csv' saved.\n",
      "'model11_fward05_88_last.pth' saved.\n",
      "'model11_fward05_88_best.pth' saved.\n",
      "- train minibatches = 1\n",
      "- valid minibatches = 1\n",
      "- test minibatches = 1\n"
     ]
    },
    {
     "data": {
      "application/vnd.jupyter.widget-view+json": {
       "model_id": "936bd317adab4938a765b1adc6d6bad8",
       "version_major": 2,
       "version_minor": 0
      },
      "text/plain": [
       "Epochs loop:   0%|          | 0/12000 [00:00<?, ?it/s]"
      ]
     },
     "metadata": {},
     "output_type": "display_data"
    },
    {
     "name": "stdout",
     "output_type": "stream",
     "text": [
      "Summary:\n",
      "-learning rate = 0.02997\n",
      "-Model saved after iteration 540.\n",
      "-Train.  Loss=0.0373714\n",
      "-Valid.  Loss=0.3078791\n",
      "'train_loss_fward05_89.csv' saved.\n",
      "'valid_loss_fward05_89.csv' saved.\n",
      "'model11_fward05_89_last.pth' saved.\n",
      "'model11_fward05_89_best.pth' saved.\n",
      "- train minibatches = 1\n",
      "- valid minibatches = 1\n",
      "- test minibatches = 1\n"
     ]
    },
    {
     "data": {
      "application/vnd.jupyter.widget-view+json": {
       "model_id": "7350bb7bac074081b1e1c417f18413b9",
       "version_major": 2,
       "version_minor": 0
      },
      "text/plain": [
       "Epochs loop:   0%|          | 0/12000 [00:00<?, ?it/s]"
      ]
     },
     "metadata": {},
     "output_type": "display_data"
    },
    {
     "name": "stdout",
     "output_type": "stream",
     "text": [
      "Summary:\n",
      "-learning rate = 0.02997\n",
      "-Model saved after iteration 8824.\n",
      "-Train.  Loss=0.0019455\n",
      "-Valid.  Loss=0.3609922\n",
      "'train_loss_fward05_90.csv' saved.\n",
      "'valid_loss_fward05_90.csv' saved.\n",
      "'model11_fward05_90_last.pth' saved.\n",
      "'model11_fward05_90_best.pth' saved.\n",
      "- train minibatches = 1\n",
      "- valid minibatches = 1\n",
      "- test minibatches = 1\n"
     ]
    },
    {
     "data": {
      "application/vnd.jupyter.widget-view+json": {
       "model_id": "abbae96c13ed48c7b7a65fbd8fb5378c",
       "version_major": 2,
       "version_minor": 0
      },
      "text/plain": [
       "Epochs loop:   0%|          | 0/12000 [00:00<?, ?it/s]"
      ]
     },
     "metadata": {},
     "output_type": "display_data"
    },
    {
     "name": "stdout",
     "output_type": "stream",
     "text": [
      "Summary:\n",
      "-learning rate = 0.02997\n",
      "-Model saved after iteration 1.\n",
      "-Train.  Loss=0.7296146\n",
      "-Valid.  Loss=0.7208247\n",
      "'train_loss_fward05_91.csv' saved.\n",
      "'valid_loss_fward05_91.csv' saved.\n",
      "'model11_fward05_91_last.pth' saved.\n",
      "'model11_fward05_91_best.pth' saved.\n",
      "- train minibatches = 1\n",
      "- valid minibatches = 1\n",
      "- test minibatches = 1\n"
     ]
    },
    {
     "data": {
      "application/vnd.jupyter.widget-view+json": {
       "model_id": "2d29c8c174864fd7a7dbd9a3a5b29256",
       "version_major": 2,
       "version_minor": 0
      },
      "text/plain": [
       "Epochs loop:   0%|          | 0/12000 [00:00<?, ?it/s]"
      ]
     },
     "metadata": {},
     "output_type": "display_data"
    },
    {
     "name": "stdout",
     "output_type": "stream",
     "text": [
      "Summary:\n",
      "-learning rate = 0.02997\n",
      "-Model saved after iteration 672.\n",
      "-Train.  Loss=0.0500043\n",
      "-Valid.  Loss=0.5912678\n",
      "'train_loss_fward05_92.csv' saved.\n",
      "'valid_loss_fward05_92.csv' saved.\n",
      "'model11_fward05_92_last.pth' saved.\n",
      "'model11_fward05_92_best.pth' saved.\n",
      "- train minibatches = 1\n",
      "- valid minibatches = 1\n",
      "- test minibatches = 1\n"
     ]
    },
    {
     "data": {
      "application/vnd.jupyter.widget-view+json": {
       "model_id": "5411cec12d7f464fbd4abd91046f023c",
       "version_major": 2,
       "version_minor": 0
      },
      "text/plain": [
       "Epochs loop:   0%|          | 0/12000 [00:00<?, ?it/s]"
      ]
     },
     "metadata": {},
     "output_type": "display_data"
    },
    {
     "name": "stdout",
     "output_type": "stream",
     "text": [
      "Summary:\n",
      "-learning rate = 0.02997\n",
      "-Model saved after iteration 6.\n",
      "-Train.  Loss=0.5270812\n",
      "-Valid.  Loss=0.5435134\n",
      "'train_loss_fward05_93.csv' saved.\n",
      "'valid_loss_fward05_93.csv' saved.\n",
      "'model11_fward05_93_last.pth' saved.\n",
      "'model11_fward05_93_best.pth' saved.\n",
      "- train minibatches = 1\n",
      "- valid minibatches = 1\n",
      "- test minibatches = 1\n"
     ]
    },
    {
     "data": {
      "application/vnd.jupyter.widget-view+json": {
       "model_id": "883d122f3aec4d698dfd64f5f85f2b8e",
       "version_major": 2,
       "version_minor": 0
      },
      "text/plain": [
       "Epochs loop:   0%|          | 0/12000 [00:00<?, ?it/s]"
      ]
     },
     "metadata": {},
     "output_type": "display_data"
    },
    {
     "name": "stdout",
     "output_type": "stream",
     "text": [
      "Summary:\n",
      "-learning rate = 0.02997\n",
      "-Model saved after iteration 9.\n",
      "-Train.  Loss=0.1290119\n",
      "-Valid.  Loss=0.3353836\n",
      "'train_loss_fward05_94.csv' saved.\n",
      "'valid_loss_fward05_94.csv' saved.\n",
      "'model11_fward05_94_last.pth' saved.\n",
      "'model11_fward05_94_best.pth' saved.\n",
      "- train minibatches = 1\n",
      "- valid minibatches = 1\n",
      "- test minibatches = 1\n"
     ]
    },
    {
     "data": {
      "application/vnd.jupyter.widget-view+json": {
       "model_id": "84be845bc87d46d68cceec3afaf973a7",
       "version_major": 2,
       "version_minor": 0
      },
      "text/plain": [
       "Epochs loop:   0%|          | 0/12000 [00:00<?, ?it/s]"
      ]
     },
     "metadata": {},
     "output_type": "display_data"
    },
    {
     "name": "stdout",
     "output_type": "stream",
     "text": [
      "Summary:\n",
      "-learning rate = 0.02997\n",
      "-Model saved after iteration 861.\n",
      "-Train.  Loss=0.0161192\n",
      "-Valid.  Loss=0.3216428\n",
      "'train_loss_fward05_95.csv' saved.\n",
      "'valid_loss_fward05_95.csv' saved.\n",
      "'model11_fward05_95_last.pth' saved.\n",
      "'model11_fward05_95_best.pth' saved.\n",
      "- train minibatches = 1\n",
      "- valid minibatches = 1\n",
      "- test minibatches = 1\n"
     ]
    },
    {
     "data": {
      "application/vnd.jupyter.widget-view+json": {
       "model_id": "c34daf68dacc45ccb59f29f9efd664e6",
       "version_major": 2,
       "version_minor": 0
      },
      "text/plain": [
       "Epochs loop:   0%|          | 0/12000 [00:00<?, ?it/s]"
      ]
     },
     "metadata": {},
     "output_type": "display_data"
    },
    {
     "name": "stdout",
     "output_type": "stream",
     "text": [
      "Summary:\n",
      "-learning rate = 0.02997\n",
      "-Model saved after iteration 30.\n",
      "-Train.  Loss=0.0100005\n",
      "-Valid.  Loss=0.2326717\n",
      "'train_loss_fward05_96.csv' saved.\n",
      "'valid_loss_fward05_96.csv' saved.\n",
      "'model11_fward05_96_last.pth' saved.\n",
      "'model11_fward05_96_best.pth' saved.\n",
      "- train minibatches = 1\n",
      "- valid minibatches = 1\n",
      "- test minibatches = 1\n"
     ]
    },
    {
     "data": {
      "application/vnd.jupyter.widget-view+json": {
       "model_id": "57eee8fec1a246ba822721f42094cd69",
       "version_major": 2,
       "version_minor": 0
      },
      "text/plain": [
       "Epochs loop:   0%|          | 0/12000 [00:00<?, ?it/s]"
      ]
     },
     "metadata": {},
     "output_type": "display_data"
    },
    {
     "name": "stdout",
     "output_type": "stream",
     "text": [
      "Summary:\n",
      "-learning rate = 0.02997\n",
      "-Model saved after iteration 209.\n",
      "-Train.  Loss=0.0978806\n",
      "-Valid.  Loss=0.4211892\n",
      "'train_loss_fward05_97.csv' saved.\n",
      "'valid_loss_fward05_97.csv' saved.\n",
      "'model11_fward05_97_last.pth' saved.\n",
      "'model11_fward05_97_best.pth' saved.\n",
      "- train minibatches = 1\n",
      "- valid minibatches = 1\n",
      "- test minibatches = 1\n"
     ]
    },
    {
     "data": {
      "application/vnd.jupyter.widget-view+json": {
       "model_id": "cde5f53eb47b42e58cc36c988687701b",
       "version_major": 2,
       "version_minor": 0
      },
      "text/plain": [
       "Epochs loop:   0%|          | 0/12000 [00:00<?, ?it/s]"
      ]
     },
     "metadata": {},
     "output_type": "display_data"
    },
    {
     "name": "stdout",
     "output_type": "stream",
     "text": [
      "Summary:\n",
      "-learning rate = 0.02997\n",
      "-Model saved after iteration 63.\n",
      "-Train.  Loss=0.0841789\n",
      "-Valid.  Loss=0.3644560\n",
      "'train_loss_fward05_98.csv' saved.\n",
      "'valid_loss_fward05_98.csv' saved.\n",
      "'model11_fward05_98_last.pth' saved.\n",
      "'model11_fward05_98_best.pth' saved.\n",
      "- train minibatches = 1\n",
      "- valid minibatches = 1\n",
      "- test minibatches = 1\n"
     ]
    },
    {
     "data": {
      "application/vnd.jupyter.widget-view+json": {
       "model_id": "fc10a765d89a4c96baa240594c0a89e2",
       "version_major": 2,
       "version_minor": 0
      },
      "text/plain": [
       "Epochs loop:   0%|          | 0/12000 [00:00<?, ?it/s]"
      ]
     },
     "metadata": {},
     "output_type": "display_data"
    },
    {
     "name": "stdout",
     "output_type": "stream",
     "text": [
      "Summary:\n",
      "-learning rate = 0.02997\n",
      "-Model saved after iteration 11966.\n",
      "-Train.  Loss=0.0014212\n",
      "-Valid.  Loss=0.4290014\n",
      "'train_loss_fward05_99.csv' saved.\n",
      "'valid_loss_fward05_99.csv' saved.\n",
      "'model11_fward05_99_last.pth' saved.\n",
      "'model11_fward05_99_best.pth' saved.\n",
      "- train minibatches = 1\n",
      "- valid minibatches = 1\n",
      "- test minibatches = 1\n"
     ]
    },
    {
     "data": {
      "application/vnd.jupyter.widget-view+json": {
       "model_id": "e7c03712d01a4cb4ba5ac882ee494d96",
       "version_major": 2,
       "version_minor": 0
      },
      "text/plain": [
       "Epochs loop:   0%|          | 0/12000 [00:00<?, ?it/s]"
      ]
     },
     "metadata": {},
     "output_type": "display_data"
    },
    {
     "name": "stdout",
     "output_type": "stream",
     "text": [
      "Summary:\n",
      "-learning rate = 0.02997\n",
      "-Model saved after iteration 193.\n",
      "-Train.  Loss=0.0007182\n",
      "-Valid.  Loss=0.2681146\n",
      "'train_loss_fward05_100.csv' saved.\n",
      "'valid_loss_fward05_100.csv' saved.\n",
      "'model11_fward05_100_last.pth' saved.\n",
      "'model11_fward05_100_best.pth' saved.\n"
     ]
    }
   ],
   "source": [
    "# Find Accuracy, Loss +/- STD (Lockdown: path 1)\n",
    "data_output = 'data_lockdown_11Radiotherapy'\n",
    "accuracy_forward = pd.DataFrame(columns=['train_acc', 'valid_acc', 'test_acc', \n",
    "                                         'train_loss', 'valid_loss', 'test_loss'])\n",
    "\n",
    "partitions = 100\n",
    "iterator = tqdm.notebook.tqdm(range(1, partitions + 1), desc='Partitions loop')\n",
    "for n in iterator:\n",
    "    X = pd.read_csv('dataset_11Radiotherapy/X.csv', header=None)\n",
    "    y = pd.read_csv('dataset_11Radiotherapy/y.csv', header=None)\n",
    "    split_data(X, y, seed1=seed1[n], seed2=seed2[n])\n",
    "\n",
    "# .normalize data sets\n",
    "    df_to_tensor()\n",
    "    normalize_data()\n",
    "    make_DataLoaders()\n",
    "\n",
    "# .train model (forward)\n",
    "    lr = best_lr_bward\n",
    "    layer_sizes = [5, 2]\n",
    "    epochs = 12000\n",
    "    data_out = \"data_lockdown_11Radiotherapy/partitions\"\n",
    "    lock_flag = False\n",
    "    features = xtrain.size(1)\n",
    "    fname = 'model11_fward05_'+str(n)\n",
    "    train_loss, valid_loss = train_model(\n",
    "                             lr, \n",
    "                             features, \n",
    "                             layer_sizes,\n",
    "                             lock_flag = lock_flag,\n",
    "                             epochs = epochs,\n",
    "                             early_stop = epochs, \n",
    "                             fname = fname)\n",
    "# .save relevant data\n",
    "    f3 = [fname+'_last.pth', fname+'_best.pth']\n",
    "    save_output(data_out, \n",
    "                'train_loss_fward05_'+str(n)+'.csv', \n",
    "                'valid_loss_fward05_'+str(n)+'.csv', f3)\n",
    "\n",
    "# .find Loss, Accurary, etc...\n",
    "    mm = MyNet(features, layer_sizes)\n",
    "    mm.load_state_dict(torch.load(os.path.join(data_out, fname+'_best.pth')))\n",
    "    mm = mm.to(device)\n",
    "    mm.eval()\n",
    "    \n",
    "    ypred = mm(xtrain)\n",
    "    loss = loss_type(ypred, ytrain.view(-1))\n",
    "    accu = dataset_accuracy(train_dataloader, mm, device)\n",
    "    accuracy_forward.loc[n, 'train_loss'] = loss.detach().item()\n",
    "    accuracy_forward.loc[n, 'train_acc'] = accu\n",
    "\n",
    "    ypred = mm(xvalid)\n",
    "    loss = loss_type(ypred, yvalid.view(-1))\n",
    "    accu = dataset_accuracy(valid_dataloader, mm, device)\n",
    "    accuracy_forward.loc[n, 'valid_loss'] = loss.detach().item()\n",
    "    accuracy_forward.loc[n, 'valid_acc'] = accu\n",
    "\n",
    "    ypred = mm(xtest)\n",
    "    loss = loss_type(ypred, ytest.view(-1))\n",
    "    accu = dataset_accuracy(test_dataloader, mm, device)\n",
    "    accuracy_forward.loc[n, 'test_loss'] = loss.detach().item()\n",
    "    accuracy_forward.loc[n, 'test_acc'] = accu\n",
    "\n",
    "    accuracy_forward.to_csv(os.path.join(data_out, 'accuracy_fward05.csv'), index=True)"
   ]
  },
  {
   "cell_type": "code",
   "execution_count": 273,
   "metadata": {
    "ExecuteTime": {
     "end_time": "2021-02-28T02:37:28.289652Z",
     "start_time": "2021-02-26T21:29:11.686855Z"
    },
    "code_folding": [
     0
    ],
    "scrolled": true
   },
   "outputs": [
    {
     "data": {
      "application/vnd.jupyter.widget-view+json": {
       "model_id": "dbdc3566894946bcaae335957c6081e3",
       "version_major": 2,
       "version_minor": 0
      },
      "text/plain": [
       "Partitions loop:   0%|          | 0/100 [00:00<?, ?it/s]"
      ]
     },
     "metadata": {},
     "output_type": "display_data"
    },
    {
     "name": "stdout",
     "output_type": "stream",
     "text": [
      "- train minibatches = 1\n",
      "- valid minibatches = 1\n",
      "- test minibatches = 1\n"
     ]
    },
    {
     "data": {
      "application/vnd.jupyter.widget-view+json": {
       "model_id": "1058217e4c3a441bbcdf7ef89e619a9a",
       "version_major": 2,
       "version_minor": 0
      },
      "text/plain": [
       "Epochs loop:   0%|          | 0/10000 [00:00<?, ?it/s]"
      ]
     },
     "metadata": {},
     "output_type": "display_data"
    },
    {
     "name": "stdout",
     "output_type": "stream",
     "text": [
      "Summary:\n",
      "-learning rate = 0.02997\n",
      "-Model saved after iteration 632.\n",
      "-Train.  Loss=0.0011511\n",
      "-Valid.  Loss=0.1964992\n",
      "'train_loss_bward_1.csv' saved.\n",
      "'valid_loss_bward_1.csv' saved.\n",
      "'model11_backward05_1_best.pth' saved.\n",
      "- train minibatches = 1\n",
      "- valid minibatches = 1\n",
      "- test minibatches = 1\n"
     ]
    },
    {
     "data": {
      "application/vnd.jupyter.widget-view+json": {
       "model_id": "2ff391c1c8544e4aa4de4d2087f31bbd",
       "version_major": 2,
       "version_minor": 0
      },
      "text/plain": [
       "Epochs loop:   0%|          | 0/10000 [00:00<?, ?it/s]"
      ]
     },
     "metadata": {},
     "output_type": "display_data"
    },
    {
     "name": "stdout",
     "output_type": "stream",
     "text": [
      "Summary:\n",
      "-learning rate = 0.02997\n",
      "-Model saved after iteration 2137.\n",
      "-Train.  Loss=0.0000037\n",
      "-Valid.  Loss=0.0000031\n",
      "'train_loss_bward_2.csv' saved.\n",
      "'valid_loss_bward_2.csv' saved.\n",
      "'model11_backward05_2_best.pth' saved.\n",
      "- train minibatches = 1\n",
      "- valid minibatches = 1\n",
      "- test minibatches = 1\n"
     ]
    },
    {
     "data": {
      "application/vnd.jupyter.widget-view+json": {
       "model_id": "2c752754140e40e980b607c5d854c95f",
       "version_major": 2,
       "version_minor": 0
      },
      "text/plain": [
       "Epochs loop:   0%|          | 0/10000 [00:00<?, ?it/s]"
      ]
     },
     "metadata": {},
     "output_type": "display_data"
    },
    {
     "name": "stdout",
     "output_type": "stream",
     "text": [
      "Summary:\n",
      "-learning rate = 0.02997\n",
      "-Model saved after iteration 2506.\n",
      "-Train.  Loss=0.0000009\n",
      "-Valid.  Loss=0.0000855\n",
      "'train_loss_bward_3.csv' saved.\n",
      "'valid_loss_bward_3.csv' saved.\n",
      "'model11_backward05_3_best.pth' saved.\n",
      "- train minibatches = 1\n",
      "- valid minibatches = 1\n",
      "- test minibatches = 1\n"
     ]
    },
    {
     "data": {
      "application/vnd.jupyter.widget-view+json": {
       "model_id": "f28ffc1756964577b0d54d70442212bf",
       "version_major": 2,
       "version_minor": 0
      },
      "text/plain": [
       "Epochs loop:   0%|          | 0/10000 [00:00<?, ?it/s]"
      ]
     },
     "metadata": {},
     "output_type": "display_data"
    },
    {
     "name": "stdout",
     "output_type": "stream",
     "text": [
      "Summary:\n",
      "-learning rate = 0.02997\n",
      "-Model saved after iteration 807.\n",
      "-Train.  Loss=0.1385452\n",
      "-Valid.  Loss=0.0008133\n",
      "'train_loss_bward_4.csv' saved.\n",
      "'valid_loss_bward_4.csv' saved.\n",
      "'model11_backward05_4_best.pth' saved.\n",
      "- train minibatches = 1\n",
      "- valid minibatches = 1\n",
      "- test minibatches = 1\n"
     ]
    },
    {
     "data": {
      "application/vnd.jupyter.widget-view+json": {
       "model_id": "866972587d2e4d6bba19a1abce633653",
       "version_major": 2,
       "version_minor": 0
      },
      "text/plain": [
       "Epochs loop:   0%|          | 0/10000 [00:00<?, ?it/s]"
      ]
     },
     "metadata": {},
     "output_type": "display_data"
    },
    {
     "name": "stdout",
     "output_type": "stream",
     "text": [
      "Summary:\n",
      "-learning rate = 0.02997\n",
      "-Model saved after iteration 1387.\n",
      "-Train.  Loss=0.0002107\n",
      "-Valid.  Loss=0.0001234\n",
      "'train_loss_bward_5.csv' saved.\n",
      "'valid_loss_bward_5.csv' saved.\n",
      "'model11_backward05_5_best.pth' saved.\n",
      "- train minibatches = 1\n",
      "- valid minibatches = 1\n",
      "- test minibatches = 1\n"
     ]
    },
    {
     "data": {
      "application/vnd.jupyter.widget-view+json": {
       "model_id": "cb3f53c866844fae91b2181bd83bf010",
       "version_major": 2,
       "version_minor": 0
      },
      "text/plain": [
       "Epochs loop:   0%|          | 0/10000 [00:00<?, ?it/s]"
      ]
     },
     "metadata": {},
     "output_type": "display_data"
    },
    {
     "name": "stdout",
     "output_type": "stream",
     "text": [
      "Summary:\n",
      "-learning rate = 0.02997\n",
      "-Model saved after iteration 1161.\n",
      "-Train.  Loss=0.0001211\n",
      "-Valid.  Loss=0.0970198\n",
      "'train_loss_bward_6.csv' saved.\n",
      "'valid_loss_bward_6.csv' saved.\n",
      "'model11_backward05_6_best.pth' saved.\n",
      "- train minibatches = 1\n",
      "- valid minibatches = 1\n",
      "- test minibatches = 1\n"
     ]
    },
    {
     "data": {
      "application/vnd.jupyter.widget-view+json": {
       "model_id": "316996f7c4214626883db0cb15d4e06b",
       "version_major": 2,
       "version_minor": 0
      },
      "text/plain": [
       "Epochs loop:   0%|          | 0/10000 [00:00<?, ?it/s]"
      ]
     },
     "metadata": {},
     "output_type": "display_data"
    },
    {
     "name": "stdout",
     "output_type": "stream",
     "text": [
      "Summary:\n",
      "-learning rate = 0.02997\n",
      "-Model saved after iteration 1276.\n",
      "-Train.  Loss=0.0000001\n",
      "-Valid.  Loss=0.0000006\n",
      "'train_loss_bward_7.csv' saved.\n",
      "'valid_loss_bward_7.csv' saved.\n",
      "'model11_backward05_7_best.pth' saved.\n",
      "- train minibatches = 1\n",
      "- valid minibatches = 1\n",
      "- test minibatches = 1\n"
     ]
    },
    {
     "data": {
      "application/vnd.jupyter.widget-view+json": {
       "model_id": "b06e6f9ac3f649b8919a1322423e448f",
       "version_major": 2,
       "version_minor": 0
      },
      "text/plain": [
       "Epochs loop:   0%|          | 0/10000 [00:00<?, ?it/s]"
      ]
     },
     "metadata": {},
     "output_type": "display_data"
    },
    {
     "name": "stdout",
     "output_type": "stream",
     "text": [
      "Summary:\n",
      "-learning rate = 0.02997\n",
      "-Model saved after iteration 7810.\n",
      "-Train.  Loss=0.0213418\n",
      "-Valid.  Loss=0.0095683\n",
      "'train_loss_bward_8.csv' saved.\n",
      "'valid_loss_bward_8.csv' saved.\n",
      "'model11_backward05_8_best.pth' saved.\n",
      "- train minibatches = 1\n",
      "- valid minibatches = 1\n",
      "- test minibatches = 1\n"
     ]
    },
    {
     "data": {
      "application/vnd.jupyter.widget-view+json": {
       "model_id": "2a26f1cc11c84f0b98502d97b9ea08f5",
       "version_major": 2,
       "version_minor": 0
      },
      "text/plain": [
       "Epochs loop:   0%|          | 0/10000 [00:00<?, ?it/s]"
      ]
     },
     "metadata": {},
     "output_type": "display_data"
    },
    {
     "name": "stdout",
     "output_type": "stream",
     "text": [
      "Summary:\n",
      "-learning rate = 0.02997\n",
      "-Model saved after iteration 1680.\n",
      "-Train.  Loss=0.0000001\n",
      "-Valid.  Loss=0.0000026\n",
      "'train_loss_bward_9.csv' saved.\n",
      "'valid_loss_bward_9.csv' saved.\n",
      "'model11_backward05_9_best.pth' saved.\n",
      "- train minibatches = 1\n",
      "- valid minibatches = 1\n",
      "- test minibatches = 1\n"
     ]
    },
    {
     "data": {
      "application/vnd.jupyter.widget-view+json": {
       "model_id": "c6f920e232f748b8aeba1b18e0c06c80",
       "version_major": 2,
       "version_minor": 0
      },
      "text/plain": [
       "Epochs loop:   0%|          | 0/10000 [00:00<?, ?it/s]"
      ]
     },
     "metadata": {},
     "output_type": "display_data"
    },
    {
     "name": "stdout",
     "output_type": "stream",
     "text": [
      "Summary:\n",
      "-learning rate = 0.02997\n",
      "-Model saved after iteration 1487.\n",
      "-Train.  Loss=0.0304667\n",
      "-Valid.  Loss=0.0266464\n",
      "'train_loss_bward_10.csv' saved.\n",
      "'valid_loss_bward_10.csv' saved.\n",
      "'model11_backward05_10_best.pth' saved.\n",
      "- train minibatches = 1\n",
      "- valid minibatches = 1\n",
      "- test minibatches = 1\n"
     ]
    },
    {
     "data": {
      "application/vnd.jupyter.widget-view+json": {
       "model_id": "feca82542ce94b95aaded688afe99c2a",
       "version_major": 2,
       "version_minor": 0
      },
      "text/plain": [
       "Epochs loop:   0%|          | 0/10000 [00:00<?, ?it/s]"
      ]
     },
     "metadata": {},
     "output_type": "display_data"
    },
    {
     "name": "stdout",
     "output_type": "stream",
     "text": [
      "Summary:\n",
      "-learning rate = 0.02997\n",
      "-Model saved after iteration 2201.\n",
      "-Train.  Loss=0.0000830\n",
      "-Valid.  Loss=0.0008874\n",
      "'train_loss_bward_11.csv' saved.\n",
      "'valid_loss_bward_11.csv' saved.\n",
      "'model11_backward05_11_best.pth' saved.\n",
      "- train minibatches = 1\n",
      "- valid minibatches = 1\n",
      "- test minibatches = 1\n"
     ]
    },
    {
     "data": {
      "application/vnd.jupyter.widget-view+json": {
       "model_id": "7af96ce1a6b34256be5b2e4ffdc4f03e",
       "version_major": 2,
       "version_minor": 0
      },
      "text/plain": [
       "Epochs loop:   0%|          | 0/10000 [00:00<?, ?it/s]"
      ]
     },
     "metadata": {},
     "output_type": "display_data"
    },
    {
     "name": "stdout",
     "output_type": "stream",
     "text": [
      "Summary:\n",
      "-learning rate = 0.02997\n",
      "-Model saved after iteration 4545.\n",
      "-Train.  Loss=0.0062750\n",
      "-Valid.  Loss=0.0564602\n",
      "'train_loss_bward_12.csv' saved.\n",
      "'valid_loss_bward_12.csv' saved.\n",
      "'model11_backward05_12_best.pth' saved.\n",
      "- train minibatches = 1\n",
      "- valid minibatches = 1\n",
      "- test minibatches = 1\n"
     ]
    },
    {
     "data": {
      "application/vnd.jupyter.widget-view+json": {
       "model_id": "5f5015bd765e4c56a121bfdf17e67cdc",
       "version_major": 2,
       "version_minor": 0
      },
      "text/plain": [
       "Epochs loop:   0%|          | 0/10000 [00:00<?, ?it/s]"
      ]
     },
     "metadata": {},
     "output_type": "display_data"
    },
    {
     "name": "stdout",
     "output_type": "stream",
     "text": [
      "Summary:\n",
      "-learning rate = 0.02997\n",
      "-Model saved after iteration 941.\n",
      "-Train.  Loss=0.0013484\n",
      "-Valid.  Loss=0.0024972\n",
      "'train_loss_bward_13.csv' saved.\n",
      "'valid_loss_bward_13.csv' saved.\n",
      "'model11_backward05_13_best.pth' saved.\n",
      "- train minibatches = 1\n",
      "- valid minibatches = 1\n",
      "- test minibatches = 1\n"
     ]
    },
    {
     "data": {
      "application/vnd.jupyter.widget-view+json": {
       "model_id": "0b7290c09144478ea52dd0c132bf95e1",
       "version_major": 2,
       "version_minor": 0
      },
      "text/plain": [
       "Epochs loop:   0%|          | 0/10000 [00:00<?, ?it/s]"
      ]
     },
     "metadata": {},
     "output_type": "display_data"
    },
    {
     "name": "stdout",
     "output_type": "stream",
     "text": [
      "Summary:\n",
      "-learning rate = 0.02997\n",
      "-Model saved after iteration 4054.\n",
      "-Train.  Loss=0.0055265\n",
      "-Valid.  Loss=0.0169440\n",
      "'train_loss_bward_14.csv' saved.\n",
      "'valid_loss_bward_14.csv' saved.\n",
      "'model11_backward05_14_best.pth' saved.\n",
      "- train minibatches = 1\n",
      "- valid minibatches = 1\n",
      "- test minibatches = 1\n"
     ]
    },
    {
     "data": {
      "application/vnd.jupyter.widget-view+json": {
       "model_id": "88e5c385a60d4206a5288e41a7eb98e3",
       "version_major": 2,
       "version_minor": 0
      },
      "text/plain": [
       "Epochs loop:   0%|          | 0/10000 [00:00<?, ?it/s]"
      ]
     },
     "metadata": {},
     "output_type": "display_data"
    },
    {
     "name": "stdout",
     "output_type": "stream",
     "text": [
      "Summary:\n",
      "-learning rate = 0.02997\n",
      "-Model saved after iteration 3435.\n",
      "-Train.  Loss=0.0129791\n",
      "-Valid.  Loss=0.0466692\n",
      "'train_loss_bward_15.csv' saved.\n",
      "'valid_loss_bward_15.csv' saved.\n",
      "'model11_backward05_15_best.pth' saved.\n",
      "- train minibatches = 1\n",
      "- valid minibatches = 1\n",
      "- test minibatches = 1\n"
     ]
    },
    {
     "data": {
      "application/vnd.jupyter.widget-view+json": {
       "model_id": "0ff98fbd16ca4ce6bfd94c32b1fcc2c6",
       "version_major": 2,
       "version_minor": 0
      },
      "text/plain": [
       "Epochs loop:   0%|          | 0/10000 [00:00<?, ?it/s]"
      ]
     },
     "metadata": {},
     "output_type": "display_data"
    },
    {
     "name": "stdout",
     "output_type": "stream",
     "text": [
      "Summary:\n",
      "-learning rate = 0.02997\n",
      "-Model saved after iteration 3507.\n",
      "-Train.  Loss=0.0056227\n",
      "-Valid.  Loss=0.0000152\n",
      "'train_loss_bward_16.csv' saved.\n",
      "'valid_loss_bward_16.csv' saved.\n",
      "'model11_backward05_16_best.pth' saved.\n",
      "- train minibatches = 1\n",
      "- valid minibatches = 1\n",
      "- test minibatches = 1\n"
     ]
    },
    {
     "data": {
      "application/vnd.jupyter.widget-view+json": {
       "model_id": "307201a3fe9441e2b392f9c127bfb833",
       "version_major": 2,
       "version_minor": 0
      },
      "text/plain": [
       "Epochs loop:   0%|          | 0/10000 [00:00<?, ?it/s]"
      ]
     },
     "metadata": {},
     "output_type": "display_data"
    },
    {
     "name": "stdout",
     "output_type": "stream",
     "text": [
      "Summary:\n",
      "-learning rate = 0.02997\n",
      "-Model saved after iteration 237.\n",
      "-Train.  Loss=0.0000000\n",
      "-Valid.  Loss=0.0000425\n",
      "'train_loss_bward_17.csv' saved.\n",
      "'valid_loss_bward_17.csv' saved.\n",
      "'model11_backward05_17_best.pth' saved.\n",
      "- train minibatches = 1\n",
      "- valid minibatches = 1\n",
      "- test minibatches = 1\n"
     ]
    },
    {
     "data": {
      "application/vnd.jupyter.widget-view+json": {
       "model_id": "1d8b8562ac3c4145a3f86606c5d45fa7",
       "version_major": 2,
       "version_minor": 0
      },
      "text/plain": [
       "Epochs loop:   0%|          | 0/10000 [00:00<?, ?it/s]"
      ]
     },
     "metadata": {},
     "output_type": "display_data"
    },
    {
     "name": "stdout",
     "output_type": "stream",
     "text": [
      "Summary:\n",
      "-learning rate = 0.02997\n",
      "-Model saved after iteration 1286.\n",
      "-Train.  Loss=0.0001095\n",
      "-Valid.  Loss=0.0000001\n",
      "'train_loss_bward_18.csv' saved.\n",
      "'valid_loss_bward_18.csv' saved.\n",
      "'model11_backward05_18_best.pth' saved.\n",
      "- train minibatches = 1\n",
      "- valid minibatches = 1\n",
      "- test minibatches = 1\n"
     ]
    },
    {
     "data": {
      "application/vnd.jupyter.widget-view+json": {
       "model_id": "bd544a16b7814bb594344a4a65eaf490",
       "version_major": 2,
       "version_minor": 0
      },
      "text/plain": [
       "Epochs loop:   0%|          | 0/10000 [00:00<?, ?it/s]"
      ]
     },
     "metadata": {},
     "output_type": "display_data"
    },
    {
     "name": "stdout",
     "output_type": "stream",
     "text": [
      "Summary:\n",
      "-learning rate = 0.02997\n",
      "-Model saved after iteration 681.\n",
      "-Train.  Loss=0.0097611\n",
      "-Valid.  Loss=0.0000000\n",
      "'train_loss_bward_19.csv' saved.\n",
      "'valid_loss_bward_19.csv' saved.\n",
      "'model11_backward05_19_best.pth' saved.\n",
      "- train minibatches = 1\n",
      "- valid minibatches = 1\n",
      "- test minibatches = 1\n"
     ]
    },
    {
     "data": {
      "application/vnd.jupyter.widget-view+json": {
       "model_id": "97fd8082bf69448a806b8740946be9be",
       "version_major": 2,
       "version_minor": 0
      },
      "text/plain": [
       "Epochs loop:   0%|          | 0/10000 [00:00<?, ?it/s]"
      ]
     },
     "metadata": {},
     "output_type": "display_data"
    },
    {
     "name": "stdout",
     "output_type": "stream",
     "text": [
      "Summary:\n",
      "-learning rate = 0.02997\n",
      "-Model saved after iteration 1630.\n",
      "-Train.  Loss=0.0000248\n",
      "-Valid.  Loss=0.0008506\n",
      "'train_loss_bward_20.csv' saved.\n",
      "'valid_loss_bward_20.csv' saved.\n",
      "'model11_backward05_20_best.pth' saved.\n",
      "- train minibatches = 1\n",
      "- valid minibatches = 1\n",
      "- test minibatches = 1\n"
     ]
    },
    {
     "data": {
      "application/vnd.jupyter.widget-view+json": {
       "model_id": "9cc6f4c937be4b54813dbc9de5f77347",
       "version_major": 2,
       "version_minor": 0
      },
      "text/plain": [
       "Epochs loop:   0%|          | 0/10000 [00:00<?, ?it/s]"
      ]
     },
     "metadata": {},
     "output_type": "display_data"
    },
    {
     "name": "stdout",
     "output_type": "stream",
     "text": [
      "Summary:\n",
      "-learning rate = 0.02997\n",
      "-Model saved after iteration 2358.\n",
      "-Train.  Loss=0.0128313\n",
      "-Valid.  Loss=0.0107781\n",
      "'train_loss_bward_21.csv' saved.\n",
      "'valid_loss_bward_21.csv' saved.\n",
      "'model11_backward05_21_best.pth' saved.\n",
      "- train minibatches = 1\n",
      "- valid minibatches = 1\n",
      "- test minibatches = 1\n"
     ]
    },
    {
     "data": {
      "application/vnd.jupyter.widget-view+json": {
       "model_id": "e9e124fa6abd4855864bb43756c58499",
       "version_major": 2,
       "version_minor": 0
      },
      "text/plain": [
       "Epochs loop:   0%|          | 0/10000 [00:00<?, ?it/s]"
      ]
     },
     "metadata": {},
     "output_type": "display_data"
    },
    {
     "name": "stdout",
     "output_type": "stream",
     "text": [
      "Summary:\n",
      "-learning rate = 0.02997\n",
      "-Model saved after iteration 3206.\n",
      "-Train.  Loss=0.0014054\n",
      "-Valid.  Loss=0.0648219\n",
      "'train_loss_bward_22.csv' saved.\n",
      "'valid_loss_bward_22.csv' saved.\n",
      "'model11_backward05_22_best.pth' saved.\n",
      "- train minibatches = 1\n",
      "- valid minibatches = 1\n",
      "- test minibatches = 1\n"
     ]
    },
    {
     "data": {
      "application/vnd.jupyter.widget-view+json": {
       "model_id": "099ad967a09b401697d681e31a1072ec",
       "version_major": 2,
       "version_minor": 0
      },
      "text/plain": [
       "Epochs loop:   0%|          | 0/10000 [00:00<?, ?it/s]"
      ]
     },
     "metadata": {},
     "output_type": "display_data"
    },
    {
     "name": "stdout",
     "output_type": "stream",
     "text": [
      "Summary:\n",
      "-learning rate = 0.02997\n",
      "-Model saved after iteration 7776.\n",
      "-Train.  Loss=0.0477165\n",
      "-Valid.  Loss=0.1490299\n",
      "'train_loss_bward_23.csv' saved.\n",
      "'valid_loss_bward_23.csv' saved.\n",
      "'model11_backward05_23_best.pth' saved.\n",
      "- train minibatches = 1\n",
      "- valid minibatches = 1\n",
      "- test minibatches = 1\n"
     ]
    },
    {
     "data": {
      "application/vnd.jupyter.widget-view+json": {
       "model_id": "1cc18305601a49f7b9a100fe8a955952",
       "version_major": 2,
       "version_minor": 0
      },
      "text/plain": [
       "Epochs loop:   0%|          | 0/10000 [00:00<?, ?it/s]"
      ]
     },
     "metadata": {},
     "output_type": "display_data"
    },
    {
     "name": "stdout",
     "output_type": "stream",
     "text": [
      "Summary:\n",
      "-learning rate = 0.02997\n",
      "-Model saved after iteration 327.\n",
      "-Train.  Loss=0.0014407\n",
      "-Valid.  Loss=0.0332526\n",
      "'train_loss_bward_24.csv' saved.\n",
      "'valid_loss_bward_24.csv' saved.\n",
      "'model11_backward05_24_best.pth' saved.\n",
      "- train minibatches = 1\n",
      "- valid minibatches = 1\n",
      "- test minibatches = 1\n"
     ]
    },
    {
     "data": {
      "application/vnd.jupyter.widget-view+json": {
       "model_id": "6a8db548519e401686d342032056baba",
       "version_major": 2,
       "version_minor": 0
      },
      "text/plain": [
       "Epochs loop:   0%|          | 0/10000 [00:00<?, ?it/s]"
      ]
     },
     "metadata": {},
     "output_type": "display_data"
    },
    {
     "name": "stdout",
     "output_type": "stream",
     "text": [
      "Summary:\n",
      "-learning rate = 0.02997\n",
      "-Model saved after iteration 1493.\n",
      "-Train.  Loss=0.0053772\n",
      "-Valid.  Loss=0.0004676\n",
      "'train_loss_bward_25.csv' saved.\n",
      "'valid_loss_bward_25.csv' saved.\n",
      "'model11_backward05_25_best.pth' saved.\n",
      "- train minibatches = 1\n",
      "- valid minibatches = 1\n",
      "- test minibatches = 1\n"
     ]
    },
    {
     "data": {
      "application/vnd.jupyter.widget-view+json": {
       "model_id": "3c8edecd4d5149659d4d76df4d13dcf3",
       "version_major": 2,
       "version_minor": 0
      },
      "text/plain": [
       "Epochs loop:   0%|          | 0/10000 [00:00<?, ?it/s]"
      ]
     },
     "metadata": {},
     "output_type": "display_data"
    },
    {
     "name": "stdout",
     "output_type": "stream",
     "text": [
      "Summary:\n",
      "-learning rate = 0.02997\n",
      "-Model saved after iteration 7914.\n",
      "-Train.  Loss=0.0414250\n",
      "-Valid.  Loss=0.3008279\n",
      "'train_loss_bward_26.csv' saved.\n",
      "'valid_loss_bward_26.csv' saved.\n",
      "'model11_backward05_26_best.pth' saved.\n",
      "- train minibatches = 1\n",
      "- valid minibatches = 1\n",
      "- test minibatches = 1\n"
     ]
    },
    {
     "data": {
      "application/vnd.jupyter.widget-view+json": {
       "model_id": "762203a0866641af9b7acb0b071bd949",
       "version_major": 2,
       "version_minor": 0
      },
      "text/plain": [
       "Epochs loop:   0%|          | 0/10000 [00:00<?, ?it/s]"
      ]
     },
     "metadata": {},
     "output_type": "display_data"
    },
    {
     "name": "stdout",
     "output_type": "stream",
     "text": [
      "Summary:\n",
      "-learning rate = 0.02997\n",
      "-Model saved after iteration 3470.\n",
      "-Train.  Loss=0.0138442\n",
      "-Valid.  Loss=0.1007072\n",
      "'train_loss_bward_27.csv' saved.\n",
      "'valid_loss_bward_27.csv' saved.\n",
      "'model11_backward05_27_best.pth' saved.\n",
      "- train minibatches = 1\n",
      "- valid minibatches = 1\n",
      "- test minibatches = 1\n"
     ]
    },
    {
     "data": {
      "application/vnd.jupyter.widget-view+json": {
       "model_id": "76abd31f7a644f2bb19d94b54930a241",
       "version_major": 2,
       "version_minor": 0
      },
      "text/plain": [
       "Epochs loop:   0%|          | 0/10000 [00:00<?, ?it/s]"
      ]
     },
     "metadata": {},
     "output_type": "display_data"
    },
    {
     "name": "stdout",
     "output_type": "stream",
     "text": [
      "Summary:\n",
      "-learning rate = 0.02997\n",
      "-Model saved after iteration 1409.\n",
      "-Train.  Loss=0.0035881\n",
      "-Valid.  Loss=0.0000150\n",
      "'train_loss_bward_28.csv' saved.\n",
      "'valid_loss_bward_28.csv' saved.\n",
      "'model11_backward05_28_best.pth' saved.\n",
      "- train minibatches = 1\n",
      "- valid minibatches = 1\n",
      "- test minibatches = 1\n"
     ]
    },
    {
     "data": {
      "application/vnd.jupyter.widget-view+json": {
       "model_id": "ebbb05f884064195a070d018b5274986",
       "version_major": 2,
       "version_minor": 0
      },
      "text/plain": [
       "Epochs loop:   0%|          | 0/10000 [00:00<?, ?it/s]"
      ]
     },
     "metadata": {},
     "output_type": "display_data"
    },
    {
     "name": "stdout",
     "output_type": "stream",
     "text": [
      "Summary:\n",
      "-learning rate = 0.02997\n",
      "-Model saved after iteration 1134.\n",
      "-Train.  Loss=0.0091553\n",
      "-Valid.  Loss=0.0100422\n",
      "'train_loss_bward_29.csv' saved.\n",
      "'valid_loss_bward_29.csv' saved.\n",
      "'model11_backward05_29_best.pth' saved.\n",
      "- train minibatches = 1\n",
      "- valid minibatches = 1\n",
      "- test minibatches = 1\n"
     ]
    },
    {
     "data": {
      "application/vnd.jupyter.widget-view+json": {
       "model_id": "8bad80f576fc4fdea82ed9d2db36b53f",
       "version_major": 2,
       "version_minor": 0
      },
      "text/plain": [
       "Epochs loop:   0%|          | 0/10000 [00:00<?, ?it/s]"
      ]
     },
     "metadata": {},
     "output_type": "display_data"
    },
    {
     "name": "stdout",
     "output_type": "stream",
     "text": [
      "Summary:\n",
      "-learning rate = 0.02997\n",
      "-Model saved after iteration 2988.\n",
      "-Train.  Loss=0.0052933\n",
      "-Valid.  Loss=0.0091289\n",
      "'train_loss_bward_30.csv' saved.\n",
      "'valid_loss_bward_30.csv' saved.\n",
      "'model11_backward05_30_best.pth' saved.\n",
      "- train minibatches = 1\n",
      "- valid minibatches = 1\n",
      "- test minibatches = 1\n"
     ]
    },
    {
     "data": {
      "application/vnd.jupyter.widget-view+json": {
       "model_id": "4622fa37523045d691bd233f37317cda",
       "version_major": 2,
       "version_minor": 0
      },
      "text/plain": [
       "Epochs loop:   0%|          | 0/10000 [00:00<?, ?it/s]"
      ]
     },
     "metadata": {},
     "output_type": "display_data"
    },
    {
     "name": "stdout",
     "output_type": "stream",
     "text": [
      "Summary:\n",
      "-learning rate = 0.02997\n",
      "-Model saved after iteration 1535.\n",
      "-Train.  Loss=0.0000723\n",
      "-Valid.  Loss=0.0815593\n",
      "'train_loss_bward_31.csv' saved.\n",
      "'valid_loss_bward_31.csv' saved.\n",
      "'model11_backward05_31_best.pth' saved.\n",
      "- train minibatches = 1\n",
      "- valid minibatches = 1\n",
      "- test minibatches = 1\n"
     ]
    },
    {
     "data": {
      "application/vnd.jupyter.widget-view+json": {
       "model_id": "9bf5916fa4874f53bc72a6d0e38aa505",
       "version_major": 2,
       "version_minor": 0
      },
      "text/plain": [
       "Epochs loop:   0%|          | 0/10000 [00:00<?, ?it/s]"
      ]
     },
     "metadata": {},
     "output_type": "display_data"
    },
    {
     "name": "stdout",
     "output_type": "stream",
     "text": [
      "Summary:\n",
      "-learning rate = 0.02997\n",
      "-Model saved after iteration 961.\n",
      "-Train.  Loss=0.0007252\n",
      "-Valid.  Loss=0.0021960\n",
      "'train_loss_bward_32.csv' saved.\n",
      "'valid_loss_bward_32.csv' saved.\n",
      "'model11_backward05_32_best.pth' saved.\n",
      "- train minibatches = 1\n",
      "- valid minibatches = 1\n",
      "- test minibatches = 1\n"
     ]
    },
    {
     "data": {
      "application/vnd.jupyter.widget-view+json": {
       "model_id": "f4cb51063c0e4fe1a945de6df1a57d09",
       "version_major": 2,
       "version_minor": 0
      },
      "text/plain": [
       "Epochs loop:   0%|          | 0/10000 [00:00<?, ?it/s]"
      ]
     },
     "metadata": {},
     "output_type": "display_data"
    },
    {
     "name": "stdout",
     "output_type": "stream",
     "text": [
      "Summary:\n",
      "-learning rate = 0.02997\n",
      "-Model saved after iteration 5058.\n",
      "-Train.  Loss=0.0015395\n",
      "-Valid.  Loss=0.0081684\n",
      "'train_loss_bward_33.csv' saved.\n",
      "'valid_loss_bward_33.csv' saved.\n",
      "'model11_backward05_33_best.pth' saved.\n",
      "- train minibatches = 1\n",
      "- valid minibatches = 1\n",
      "- test minibatches = 1\n"
     ]
    },
    {
     "data": {
      "application/vnd.jupyter.widget-view+json": {
       "model_id": "8f8d893f892741de84a0a967a706e9ee",
       "version_major": 2,
       "version_minor": 0
      },
      "text/plain": [
       "Epochs loop:   0%|          | 0/10000 [00:00<?, ?it/s]"
      ]
     },
     "metadata": {},
     "output_type": "display_data"
    },
    {
     "name": "stdout",
     "output_type": "stream",
     "text": [
      "Summary:\n",
      "-learning rate = 0.02997\n",
      "-Model saved after iteration 3213.\n",
      "-Train.  Loss=0.0001323\n",
      "-Valid.  Loss=0.0002129\n",
      "'train_loss_bward_34.csv' saved.\n",
      "'valid_loss_bward_34.csv' saved.\n",
      "'model11_backward05_34_best.pth' saved.\n",
      "- train minibatches = 1\n",
      "- valid minibatches = 1\n",
      "- test minibatches = 1\n"
     ]
    },
    {
     "data": {
      "application/vnd.jupyter.widget-view+json": {
       "model_id": "50cad915eff74b888475120191da9749",
       "version_major": 2,
       "version_minor": 0
      },
      "text/plain": [
       "Epochs loop:   0%|          | 0/10000 [00:00<?, ?it/s]"
      ]
     },
     "metadata": {},
     "output_type": "display_data"
    },
    {
     "name": "stdout",
     "output_type": "stream",
     "text": [
      "Summary:\n",
      "-learning rate = 0.02997\n",
      "-Model saved after iteration 580.\n",
      "-Train.  Loss=0.0013951\n",
      "-Valid.  Loss=0.0908000\n",
      "'train_loss_bward_35.csv' saved.\n",
      "'valid_loss_bward_35.csv' saved.\n",
      "'model11_backward05_35_best.pth' saved.\n",
      "- train minibatches = 1\n",
      "- valid minibatches = 1\n",
      "- test minibatches = 1\n"
     ]
    },
    {
     "data": {
      "application/vnd.jupyter.widget-view+json": {
       "model_id": "765e5ea1656a43f49b65af126c9fe038",
       "version_major": 2,
       "version_minor": 0
      },
      "text/plain": [
       "Epochs loop:   0%|          | 0/10000 [00:00<?, ?it/s]"
      ]
     },
     "metadata": {},
     "output_type": "display_data"
    },
    {
     "name": "stdout",
     "output_type": "stream",
     "text": [
      "Summary:\n",
      "-learning rate = 0.02997\n",
      "-Model saved after iteration 4053.\n",
      "-Train.  Loss=0.0000351\n",
      "-Valid.  Loss=0.0012856\n",
      "'train_loss_bward_36.csv' saved.\n",
      "'valid_loss_bward_36.csv' saved.\n",
      "'model11_backward05_36_best.pth' saved.\n",
      "- train minibatches = 1\n",
      "- valid minibatches = 1\n",
      "- test minibatches = 1\n"
     ]
    },
    {
     "data": {
      "application/vnd.jupyter.widget-view+json": {
       "model_id": "613a6aa62cb84e5b8671a93008f3a41e",
       "version_major": 2,
       "version_minor": 0
      },
      "text/plain": [
       "Epochs loop:   0%|          | 0/10000 [00:00<?, ?it/s]"
      ]
     },
     "metadata": {},
     "output_type": "display_data"
    },
    {
     "name": "stdout",
     "output_type": "stream",
     "text": [
      "Summary:\n",
      "-learning rate = 0.02997\n",
      "-Model saved after iteration 3646.\n",
      "-Train.  Loss=0.0014424\n",
      "-Valid.  Loss=0.0325683\n",
      "'train_loss_bward_37.csv' saved.\n",
      "'valid_loss_bward_37.csv' saved.\n",
      "'model11_backward05_37_best.pth' saved.\n",
      "- train minibatches = 1\n",
      "- valid minibatches = 1\n",
      "- test minibatches = 1\n"
     ]
    },
    {
     "data": {
      "application/vnd.jupyter.widget-view+json": {
       "model_id": "9ea62f147da44add876c788fb9a679d8",
       "version_major": 2,
       "version_minor": 0
      },
      "text/plain": [
       "Epochs loop:   0%|          | 0/10000 [00:00<?, ?it/s]"
      ]
     },
     "metadata": {},
     "output_type": "display_data"
    },
    {
     "name": "stdout",
     "output_type": "stream",
     "text": [
      "Summary:\n",
      "-learning rate = 0.02997\n",
      "-Model saved after iteration 1066.\n",
      "-Train.  Loss=0.0157639\n",
      "-Valid.  Loss=0.0000009\n",
      "'train_loss_bward_38.csv' saved.\n",
      "'valid_loss_bward_38.csv' saved.\n",
      "'model11_backward05_38_best.pth' saved.\n",
      "- train minibatches = 1\n",
      "- valid minibatches = 1\n",
      "- test minibatches = 1\n"
     ]
    },
    {
     "data": {
      "application/vnd.jupyter.widget-view+json": {
       "model_id": "9dbd47f61e8d4fa493a2fa45ab62a8dd",
       "version_major": 2,
       "version_minor": 0
      },
      "text/plain": [
       "Epochs loop:   0%|          | 0/10000 [00:00<?, ?it/s]"
      ]
     },
     "metadata": {},
     "output_type": "display_data"
    },
    {
     "name": "stdout",
     "output_type": "stream",
     "text": [
      "Summary:\n",
      "-learning rate = 0.02997\n",
      "-Model saved after iteration 3460.\n",
      "-Train.  Loss=0.0000585\n",
      "-Valid.  Loss=0.0447416\n",
      "'train_loss_bward_39.csv' saved.\n",
      "'valid_loss_bward_39.csv' saved.\n",
      "'model11_backward05_39_best.pth' saved.\n",
      "- train minibatches = 1\n",
      "- valid minibatches = 1\n",
      "- test minibatches = 1\n"
     ]
    },
    {
     "data": {
      "application/vnd.jupyter.widget-view+json": {
       "model_id": "ed9d136ba83a425199bd2b5b80d60b59",
       "version_major": 2,
       "version_minor": 0
      },
      "text/plain": [
       "Epochs loop:   0%|          | 0/10000 [00:00<?, ?it/s]"
      ]
     },
     "metadata": {},
     "output_type": "display_data"
    },
    {
     "name": "stdout",
     "output_type": "stream",
     "text": [
      "Summary:\n",
      "-learning rate = 0.02997\n",
      "-Model saved after iteration 3728.\n",
      "-Train.  Loss=0.0011455\n",
      "-Valid.  Loss=0.0076279\n",
      "'train_loss_bward_40.csv' saved.\n",
      "'valid_loss_bward_40.csv' saved.\n",
      "'model11_backward05_40_best.pth' saved.\n",
      "- train minibatches = 1\n",
      "- valid minibatches = 1\n",
      "- test minibatches = 1\n"
     ]
    },
    {
     "data": {
      "application/vnd.jupyter.widget-view+json": {
       "model_id": "ec9872599a4e4ccb87ec57a151da08ad",
       "version_major": 2,
       "version_minor": 0
      },
      "text/plain": [
       "Epochs loop:   0%|          | 0/10000 [00:00<?, ?it/s]"
      ]
     },
     "metadata": {},
     "output_type": "display_data"
    },
    {
     "name": "stdout",
     "output_type": "stream",
     "text": [
      "Summary:\n",
      "-learning rate = 0.02997\n",
      "-Model saved after iteration 198.\n",
      "-Train.  Loss=0.0148014\n",
      "-Valid.  Loss=0.0149950\n",
      "'train_loss_bward_41.csv' saved.\n",
      "'valid_loss_bward_41.csv' saved.\n",
      "'model11_backward05_41_best.pth' saved.\n",
      "- train minibatches = 1\n",
      "- valid minibatches = 1\n",
      "- test minibatches = 1\n"
     ]
    },
    {
     "data": {
      "application/vnd.jupyter.widget-view+json": {
       "model_id": "78f07091273945d69a8fea6c41d436a6",
       "version_major": 2,
       "version_minor": 0
      },
      "text/plain": [
       "Epochs loop:   0%|          | 0/10000 [00:00<?, ?it/s]"
      ]
     },
     "metadata": {},
     "output_type": "display_data"
    },
    {
     "name": "stdout",
     "output_type": "stream",
     "text": [
      "Summary:\n",
      "-learning rate = 0.02997\n",
      "-Model saved after iteration 6262.\n",
      "-Train.  Loss=0.0063883\n",
      "-Valid.  Loss=0.0042185\n",
      "'train_loss_bward_42.csv' saved.\n",
      "'valid_loss_bward_42.csv' saved.\n",
      "'model11_backward05_42_best.pth' saved.\n",
      "- train minibatches = 1\n",
      "- valid minibatches = 1\n",
      "- test minibatches = 1\n"
     ]
    },
    {
     "data": {
      "application/vnd.jupyter.widget-view+json": {
       "model_id": "23e30e569622435ba37ab85a52ba814e",
       "version_major": 2,
       "version_minor": 0
      },
      "text/plain": [
       "Epochs loop:   0%|          | 0/10000 [00:00<?, ?it/s]"
      ]
     },
     "metadata": {},
     "output_type": "display_data"
    },
    {
     "name": "stdout",
     "output_type": "stream",
     "text": [
      "Summary:\n",
      "-learning rate = 0.02997\n",
      "-Model saved after iteration 566.\n",
      "-Train.  Loss=0.0008592\n",
      "-Valid.  Loss=0.0026529\n",
      "'train_loss_bward_43.csv' saved.\n",
      "'valid_loss_bward_43.csv' saved.\n",
      "'model11_backward05_43_best.pth' saved.\n",
      "- train minibatches = 1\n",
      "- valid minibatches = 1\n",
      "- test minibatches = 1\n"
     ]
    },
    {
     "data": {
      "application/vnd.jupyter.widget-view+json": {
       "model_id": "5a6374422bc94999923dd677844da410",
       "version_major": 2,
       "version_minor": 0
      },
      "text/plain": [
       "Epochs loop:   0%|          | 0/10000 [00:00<?, ?it/s]"
      ]
     },
     "metadata": {},
     "output_type": "display_data"
    },
    {
     "name": "stdout",
     "output_type": "stream",
     "text": [
      "Summary:\n",
      "-learning rate = 0.02997\n",
      "-Model saved after iteration 3619.\n",
      "-Train.  Loss=0.0012088\n",
      "-Valid.  Loss=0.0012242\n",
      "'train_loss_bward_44.csv' saved.\n",
      "'valid_loss_bward_44.csv' saved.\n",
      "'model11_backward05_44_best.pth' saved.\n",
      "- train minibatches = 1\n",
      "- valid minibatches = 1\n",
      "- test minibatches = 1\n"
     ]
    },
    {
     "data": {
      "application/vnd.jupyter.widget-view+json": {
       "model_id": "6976742ca85a40e987aef3d2868f9466",
       "version_major": 2,
       "version_minor": 0
      },
      "text/plain": [
       "Epochs loop:   0%|          | 0/10000 [00:00<?, ?it/s]"
      ]
     },
     "metadata": {},
     "output_type": "display_data"
    },
    {
     "name": "stdout",
     "output_type": "stream",
     "text": [
      "Summary:\n",
      "-learning rate = 0.02997\n",
      "-Model saved after iteration 2732.\n",
      "-Train.  Loss=0.0010625\n",
      "-Valid.  Loss=0.0030452\n",
      "'train_loss_bward_45.csv' saved.\n",
      "'valid_loss_bward_45.csv' saved.\n",
      "'model11_backward05_45_best.pth' saved.\n",
      "- train minibatches = 1\n",
      "- valid minibatches = 1\n",
      "- test minibatches = 1\n"
     ]
    },
    {
     "data": {
      "application/vnd.jupyter.widget-view+json": {
       "model_id": "eaefdfd16b4a4c5f8bf67bbe079efbac",
       "version_major": 2,
       "version_minor": 0
      },
      "text/plain": [
       "Epochs loop:   0%|          | 0/10000 [00:00<?, ?it/s]"
      ]
     },
     "metadata": {},
     "output_type": "display_data"
    },
    {
     "name": "stdout",
     "output_type": "stream",
     "text": [
      "Summary:\n",
      "-learning rate = 0.02997\n",
      "-Model saved after iteration 1324.\n",
      "-Train.  Loss=0.0007424\n",
      "-Valid.  Loss=0.0003139\n",
      "'train_loss_bward_46.csv' saved.\n",
      "'valid_loss_bward_46.csv' saved.\n",
      "'model11_backward05_46_best.pth' saved.\n",
      "- train minibatches = 1\n",
      "- valid minibatches = 1\n",
      "- test minibatches = 1\n"
     ]
    },
    {
     "data": {
      "application/vnd.jupyter.widget-view+json": {
       "model_id": "c30dd3db2002412391b0ab1c0734f17e",
       "version_major": 2,
       "version_minor": 0
      },
      "text/plain": [
       "Epochs loop:   0%|          | 0/10000 [00:00<?, ?it/s]"
      ]
     },
     "metadata": {},
     "output_type": "display_data"
    },
    {
     "name": "stdout",
     "output_type": "stream",
     "text": [
      "Summary:\n",
      "-learning rate = 0.02997\n",
      "-Model saved after iteration 570.\n",
      "-Train.  Loss=0.0025917\n",
      "-Valid.  Loss=0.1427970\n",
      "'train_loss_bward_47.csv' saved.\n",
      "'valid_loss_bward_47.csv' saved.\n",
      "'model11_backward05_47_best.pth' saved.\n",
      "- train minibatches = 1\n",
      "- valid minibatches = 1\n",
      "- test minibatches = 1\n"
     ]
    },
    {
     "data": {
      "application/vnd.jupyter.widget-view+json": {
       "model_id": "3c9fa50ddd3641d7b9c8137c2d8407a3",
       "version_major": 2,
       "version_minor": 0
      },
      "text/plain": [
       "Epochs loop:   0%|          | 0/10000 [00:00<?, ?it/s]"
      ]
     },
     "metadata": {},
     "output_type": "display_data"
    },
    {
     "name": "stdout",
     "output_type": "stream",
     "text": [
      "Summary:\n",
      "-learning rate = 0.02997\n",
      "-Model saved after iteration 947.\n",
      "-Train.  Loss=0.0001142\n",
      "-Valid.  Loss=0.0129520\n",
      "'train_loss_bward_48.csv' saved.\n",
      "'valid_loss_bward_48.csv' saved.\n",
      "'model11_backward05_48_best.pth' saved.\n",
      "- train minibatches = 1\n",
      "- valid minibatches = 1\n",
      "- test minibatches = 1\n"
     ]
    },
    {
     "data": {
      "application/vnd.jupyter.widget-view+json": {
       "model_id": "9e2060973576444b8928053e2adb55dd",
       "version_major": 2,
       "version_minor": 0
      },
      "text/plain": [
       "Epochs loop:   0%|          | 0/10000 [00:00<?, ?it/s]"
      ]
     },
     "metadata": {},
     "output_type": "display_data"
    },
    {
     "name": "stdout",
     "output_type": "stream",
     "text": [
      "Summary:\n",
      "-learning rate = 0.02997\n",
      "-Model saved after iteration 2611.\n",
      "-Train.  Loss=0.0000001\n",
      "-Valid.  Loss=0.0000005\n",
      "'train_loss_bward_49.csv' saved.\n",
      "'valid_loss_bward_49.csv' saved.\n",
      "'model11_backward05_49_best.pth' saved.\n",
      "- train minibatches = 1\n",
      "- valid minibatches = 1\n",
      "- test minibatches = 1\n"
     ]
    },
    {
     "data": {
      "application/vnd.jupyter.widget-view+json": {
       "model_id": "807c9510384c441e89b4f74efa7ec959",
       "version_major": 2,
       "version_minor": 0
      },
      "text/plain": [
       "Epochs loop:   0%|          | 0/10000 [00:00<?, ?it/s]"
      ]
     },
     "metadata": {},
     "output_type": "display_data"
    },
    {
     "name": "stdout",
     "output_type": "stream",
     "text": [
      "Summary:\n",
      "-learning rate = 0.02997\n",
      "-Model saved after iteration 6322.\n",
      "-Train.  Loss=0.3965542\n",
      "-Valid.  Loss=0.0527710\n",
      "'train_loss_bward_50.csv' saved.\n",
      "'valid_loss_bward_50.csv' saved.\n",
      "'model11_backward05_50_best.pth' saved.\n",
      "- train minibatches = 1\n",
      "- valid minibatches = 1\n",
      "- test minibatches = 1\n"
     ]
    },
    {
     "data": {
      "application/vnd.jupyter.widget-view+json": {
       "model_id": "8934b54215fc48c1b4ff5f45a7025d7f",
       "version_major": 2,
       "version_minor": 0
      },
      "text/plain": [
       "Epochs loop:   0%|          | 0/10000 [00:00<?, ?it/s]"
      ]
     },
     "metadata": {},
     "output_type": "display_data"
    },
    {
     "name": "stdout",
     "output_type": "stream",
     "text": [
      "Summary:\n",
      "-learning rate = 0.02997\n",
      "-Model saved after iteration 7560.\n",
      "-Train.  Loss=0.0048865\n",
      "-Valid.  Loss=0.3444200\n",
      "'train_loss_bward_51.csv' saved.\n",
      "'valid_loss_bward_51.csv' saved.\n",
      "'model11_backward05_51_best.pth' saved.\n",
      "- train minibatches = 1\n",
      "- valid minibatches = 1\n",
      "- test minibatches = 1\n"
     ]
    },
    {
     "data": {
      "application/vnd.jupyter.widget-view+json": {
       "model_id": "179197d2304c4db5b67e92057bf43ccb",
       "version_major": 2,
       "version_minor": 0
      },
      "text/plain": [
       "Epochs loop:   0%|          | 0/10000 [00:00<?, ?it/s]"
      ]
     },
     "metadata": {},
     "output_type": "display_data"
    },
    {
     "name": "stdout",
     "output_type": "stream",
     "text": [
      "Summary:\n",
      "-learning rate = 0.02997\n",
      "-Model saved after iteration 3184.\n",
      "-Train.  Loss=0.0097013\n",
      "-Valid.  Loss=0.3265831\n",
      "'train_loss_bward_52.csv' saved.\n",
      "'valid_loss_bward_52.csv' saved.\n",
      "'model11_backward05_52_best.pth' saved.\n",
      "- train minibatches = 1\n",
      "- valid minibatches = 1\n",
      "- test minibatches = 1\n"
     ]
    },
    {
     "data": {
      "application/vnd.jupyter.widget-view+json": {
       "model_id": "d389136a5f184d54805b7a8162ecf891",
       "version_major": 2,
       "version_minor": 0
      },
      "text/plain": [
       "Epochs loop:   0%|          | 0/10000 [00:00<?, ?it/s]"
      ]
     },
     "metadata": {},
     "output_type": "display_data"
    },
    {
     "name": "stdout",
     "output_type": "stream",
     "text": [
      "Summary:\n",
      "-learning rate = 0.02997\n",
      "-Model saved after iteration 1343.\n",
      "-Train.  Loss=0.0002078\n",
      "-Valid.  Loss=0.0002763\n",
      "'train_loss_bward_53.csv' saved.\n",
      "'valid_loss_bward_53.csv' saved.\n",
      "'model11_backward05_53_best.pth' saved.\n",
      "- train minibatches = 1\n",
      "- valid minibatches = 1\n",
      "- test minibatches = 1\n"
     ]
    },
    {
     "data": {
      "application/vnd.jupyter.widget-view+json": {
       "model_id": "7c65d1e88ae54c988e2352164484e5c9",
       "version_major": 2,
       "version_minor": 0
      },
      "text/plain": [
       "Epochs loop:   0%|          | 0/10000 [00:00<?, ?it/s]"
      ]
     },
     "metadata": {},
     "output_type": "display_data"
    },
    {
     "name": "stdout",
     "output_type": "stream",
     "text": [
      "Summary:\n",
      "-learning rate = 0.02997\n",
      "-Model saved after iteration 7280.\n",
      "-Train.  Loss=0.0314017\n",
      "-Valid.  Loss=0.1125066\n",
      "'train_loss_bward_54.csv' saved.\n",
      "'valid_loss_bward_54.csv' saved.\n",
      "'model11_backward05_54_best.pth' saved.\n",
      "- train minibatches = 1\n",
      "- valid minibatches = 1\n",
      "- test minibatches = 1\n"
     ]
    },
    {
     "data": {
      "application/vnd.jupyter.widget-view+json": {
       "model_id": "c918cf7c935d479ea4594bdf368b6da7",
       "version_major": 2,
       "version_minor": 0
      },
      "text/plain": [
       "Epochs loop:   0%|          | 0/10000 [00:00<?, ?it/s]"
      ]
     },
     "metadata": {},
     "output_type": "display_data"
    },
    {
     "name": "stdout",
     "output_type": "stream",
     "text": [
      "Summary:\n",
      "-learning rate = 0.02997\n",
      "-Model saved after iteration 3000.\n",
      "-Train.  Loss=0.0000075\n",
      "-Valid.  Loss=0.0182690\n",
      "'train_loss_bward_55.csv' saved.\n",
      "'valid_loss_bward_55.csv' saved.\n",
      "'model11_backward05_55_best.pth' saved.\n",
      "- train minibatches = 1\n",
      "- valid minibatches = 1\n",
      "- test minibatches = 1\n"
     ]
    },
    {
     "data": {
      "application/vnd.jupyter.widget-view+json": {
       "model_id": "cb625adbbbb14e149724d6829c6f852c",
       "version_major": 2,
       "version_minor": 0
      },
      "text/plain": [
       "Epochs loop:   0%|          | 0/10000 [00:00<?, ?it/s]"
      ]
     },
     "metadata": {},
     "output_type": "display_data"
    },
    {
     "name": "stdout",
     "output_type": "stream",
     "text": [
      "Summary:\n",
      "-learning rate = 0.02997\n",
      "-Model saved after iteration 1526.\n",
      "-Train.  Loss=0.0380976\n",
      "-Valid.  Loss=0.0900473\n",
      "'train_loss_bward_56.csv' saved.\n",
      "'valid_loss_bward_56.csv' saved.\n",
      "'model11_backward05_56_best.pth' saved.\n",
      "- train minibatches = 1\n",
      "- valid minibatches = 1\n",
      "- test minibatches = 1\n"
     ]
    },
    {
     "data": {
      "application/vnd.jupyter.widget-view+json": {
       "model_id": "8d0d88f9c41b486f87c3e5ac036394ec",
       "version_major": 2,
       "version_minor": 0
      },
      "text/plain": [
       "Epochs loop:   0%|          | 0/10000 [00:00<?, ?it/s]"
      ]
     },
     "metadata": {},
     "output_type": "display_data"
    },
    {
     "name": "stdout",
     "output_type": "stream",
     "text": [
      "Summary:\n",
      "-learning rate = 0.02997\n",
      "-Model saved after iteration 2356.\n",
      "-Train.  Loss=0.0001560\n",
      "-Valid.  Loss=0.0024170\n",
      "'train_loss_bward_57.csv' saved.\n",
      "'valid_loss_bward_57.csv' saved.\n",
      "'model11_backward05_57_best.pth' saved.\n",
      "- train minibatches = 1\n",
      "- valid minibatches = 1\n",
      "- test minibatches = 1\n"
     ]
    },
    {
     "data": {
      "application/vnd.jupyter.widget-view+json": {
       "model_id": "32e1b56ba7364085b26b4687141ae976",
       "version_major": 2,
       "version_minor": 0
      },
      "text/plain": [
       "Epochs loop:   0%|          | 0/10000 [00:00<?, ?it/s]"
      ]
     },
     "metadata": {},
     "output_type": "display_data"
    },
    {
     "name": "stdout",
     "output_type": "stream",
     "text": [
      "Summary:\n",
      "-learning rate = 0.02997\n",
      "-Model saved after iteration 1237.\n",
      "-Train.  Loss=0.0002515\n",
      "-Valid.  Loss=0.0000184\n",
      "'train_loss_bward_58.csv' saved.\n",
      "'valid_loss_bward_58.csv' saved.\n",
      "'model11_backward05_58_best.pth' saved.\n",
      "- train minibatches = 1\n",
      "- valid minibatches = 1\n",
      "- test minibatches = 1\n"
     ]
    },
    {
     "data": {
      "application/vnd.jupyter.widget-view+json": {
       "model_id": "270f30aee820493ebb0c3d1ca17c588d",
       "version_major": 2,
       "version_minor": 0
      },
      "text/plain": [
       "Epochs loop:   0%|          | 0/10000 [00:00<?, ?it/s]"
      ]
     },
     "metadata": {},
     "output_type": "display_data"
    },
    {
     "name": "stdout",
     "output_type": "stream",
     "text": [
      "Summary:\n",
      "-learning rate = 0.02997\n",
      "-Model saved after iteration 2427.\n",
      "-Train.  Loss=0.0000709\n",
      "-Valid.  Loss=0.0000037\n",
      "'train_loss_bward_59.csv' saved.\n",
      "'valid_loss_bward_59.csv' saved.\n",
      "'model11_backward05_59_best.pth' saved.\n",
      "- train minibatches = 1\n",
      "- valid minibatches = 1\n",
      "- test minibatches = 1\n"
     ]
    },
    {
     "data": {
      "application/vnd.jupyter.widget-view+json": {
       "model_id": "07a42401a81444728fcdad8017917c3f",
       "version_major": 2,
       "version_minor": 0
      },
      "text/plain": [
       "Epochs loop:   0%|          | 0/10000 [00:00<?, ?it/s]"
      ]
     },
     "metadata": {},
     "output_type": "display_data"
    },
    {
     "name": "stdout",
     "output_type": "stream",
     "text": [
      "Summary:\n",
      "-learning rate = 0.02997\n",
      "-Model saved after iteration 1225.\n",
      "-Train.  Loss=0.0002466\n",
      "-Valid.  Loss=0.0041472\n",
      "'train_loss_bward_60.csv' saved.\n",
      "'valid_loss_bward_60.csv' saved.\n",
      "'model11_backward05_60_best.pth' saved.\n",
      "- train minibatches = 1\n",
      "- valid minibatches = 1\n",
      "- test minibatches = 1\n"
     ]
    },
    {
     "data": {
      "application/vnd.jupyter.widget-view+json": {
       "model_id": "a0ca9a7f35f144b19fc0bc927fc1fac7",
       "version_major": 2,
       "version_minor": 0
      },
      "text/plain": [
       "Epochs loop:   0%|          | 0/10000 [00:00<?, ?it/s]"
      ]
     },
     "metadata": {},
     "output_type": "display_data"
    },
    {
     "name": "stdout",
     "output_type": "stream",
     "text": [
      "Summary:\n",
      "-learning rate = 0.02997\n",
      "-Model saved after iteration 236.\n",
      "-Train.  Loss=0.0000323\n",
      "-Valid.  Loss=0.0000235\n",
      "'train_loss_bward_61.csv' saved.\n",
      "'valid_loss_bward_61.csv' saved.\n",
      "'model11_backward05_61_best.pth' saved.\n",
      "- train minibatches = 1\n",
      "- valid minibatches = 1\n",
      "- test minibatches = 1\n"
     ]
    },
    {
     "data": {
      "application/vnd.jupyter.widget-view+json": {
       "model_id": "ed1a5fb332ed41358fd2c3cdee35b702",
       "version_major": 2,
       "version_minor": 0
      },
      "text/plain": [
       "Epochs loop:   0%|          | 0/10000 [00:00<?, ?it/s]"
      ]
     },
     "metadata": {},
     "output_type": "display_data"
    },
    {
     "name": "stdout",
     "output_type": "stream",
     "text": [
      "Summary:\n",
      "-learning rate = 0.02997\n",
      "-Model saved after iteration 2151.\n",
      "-Train.  Loss=0.0009965\n",
      "-Valid.  Loss=0.0227705\n",
      "'train_loss_bward_62.csv' saved.\n",
      "'valid_loss_bward_62.csv' saved.\n",
      "'model11_backward05_62_best.pth' saved.\n",
      "- train minibatches = 1\n",
      "- valid minibatches = 1\n",
      "- test minibatches = 1\n"
     ]
    },
    {
     "data": {
      "application/vnd.jupyter.widget-view+json": {
       "model_id": "f991a731ec27498a8d5c0ab85af3afbf",
       "version_major": 2,
       "version_minor": 0
      },
      "text/plain": [
       "Epochs loop:   0%|          | 0/10000 [00:00<?, ?it/s]"
      ]
     },
     "metadata": {},
     "output_type": "display_data"
    },
    {
     "name": "stdout",
     "output_type": "stream",
     "text": [
      "Summary:\n",
      "-learning rate = 0.02997\n",
      "-Model saved after iteration 657.\n",
      "-Train.  Loss=0.0000400\n",
      "-Valid.  Loss=0.0011767\n",
      "'train_loss_bward_63.csv' saved.\n",
      "'valid_loss_bward_63.csv' saved.\n",
      "'model11_backward05_63_best.pth' saved.\n",
      "- train minibatches = 1\n",
      "- valid minibatches = 1\n",
      "- test minibatches = 1\n"
     ]
    },
    {
     "data": {
      "application/vnd.jupyter.widget-view+json": {
       "model_id": "309f3937d4a749bbabee55dd93b3eddf",
       "version_major": 2,
       "version_minor": 0
      },
      "text/plain": [
       "Epochs loop:   0%|          | 0/10000 [00:00<?, ?it/s]"
      ]
     },
     "metadata": {},
     "output_type": "display_data"
    },
    {
     "name": "stdout",
     "output_type": "stream",
     "text": [
      "Summary:\n",
      "-learning rate = 0.02997\n",
      "-Model saved after iteration 3588.\n",
      "-Train.  Loss=0.0020186\n",
      "-Valid.  Loss=0.0646493\n",
      "'train_loss_bward_64.csv' saved.\n",
      "'valid_loss_bward_64.csv' saved.\n",
      "'model11_backward05_64_best.pth' saved.\n",
      "- train minibatches = 1\n",
      "- valid minibatches = 1\n",
      "- test minibatches = 1\n"
     ]
    },
    {
     "data": {
      "application/vnd.jupyter.widget-view+json": {
       "model_id": "69adab2bd66349c88547b8535d3d2211",
       "version_major": 2,
       "version_minor": 0
      },
      "text/plain": [
       "Epochs loop:   0%|          | 0/10000 [00:00<?, ?it/s]"
      ]
     },
     "metadata": {},
     "output_type": "display_data"
    },
    {
     "name": "stdout",
     "output_type": "stream",
     "text": [
      "Summary:\n",
      "-learning rate = 0.02997\n",
      "-Model saved after iteration 1881.\n",
      "-Train.  Loss=0.0000000\n",
      "-Valid.  Loss=0.0000001\n",
      "'train_loss_bward_65.csv' saved.\n",
      "'valid_loss_bward_65.csv' saved.\n",
      "'model11_backward05_65_best.pth' saved.\n",
      "- train minibatches = 1\n",
      "- valid minibatches = 1\n",
      "- test minibatches = 1\n"
     ]
    },
    {
     "data": {
      "application/vnd.jupyter.widget-view+json": {
       "model_id": "1c399874670c435e8b9d27f4e1a3903b",
       "version_major": 2,
       "version_minor": 0
      },
      "text/plain": [
       "Epochs loop:   0%|          | 0/10000 [00:00<?, ?it/s]"
      ]
     },
     "metadata": {},
     "output_type": "display_data"
    },
    {
     "name": "stdout",
     "output_type": "stream",
     "text": [
      "Summary:\n",
      "-learning rate = 0.02997\n",
      "-Model saved after iteration 615.\n",
      "-Train.  Loss=0.0002178\n",
      "-Valid.  Loss=0.0005796\n",
      "'train_loss_bward_66.csv' saved.\n",
      "'valid_loss_bward_66.csv' saved.\n",
      "'model11_backward05_66_best.pth' saved.\n",
      "- train minibatches = 1\n",
      "- valid minibatches = 1\n",
      "- test minibatches = 1\n"
     ]
    },
    {
     "data": {
      "application/vnd.jupyter.widget-view+json": {
       "model_id": "01dc94de3fa446abb12759a9c591d1fe",
       "version_major": 2,
       "version_minor": 0
      },
      "text/plain": [
       "Epochs loop:   0%|          | 0/10000 [00:00<?, ?it/s]"
      ]
     },
     "metadata": {},
     "output_type": "display_data"
    },
    {
     "name": "stdout",
     "output_type": "stream",
     "text": [
      "Summary:\n",
      "-learning rate = 0.02997\n",
      "-Model saved after iteration 6664.\n",
      "-Train.  Loss=0.0344349\n",
      "-Valid.  Loss=0.1513725\n",
      "'train_loss_bward_67.csv' saved.\n",
      "'valid_loss_bward_67.csv' saved.\n",
      "'model11_backward05_67_best.pth' saved.\n",
      "- train minibatches = 1\n",
      "- valid minibatches = 1\n",
      "- test minibatches = 1\n"
     ]
    },
    {
     "data": {
      "application/vnd.jupyter.widget-view+json": {
       "model_id": "9fbb4e0ab9144f1b804f7263cdeb0826",
       "version_major": 2,
       "version_minor": 0
      },
      "text/plain": [
       "Epochs loop:   0%|          | 0/10000 [00:00<?, ?it/s]"
      ]
     },
     "metadata": {},
     "output_type": "display_data"
    },
    {
     "name": "stdout",
     "output_type": "stream",
     "text": [
      "Summary:\n",
      "-learning rate = 0.02997\n",
      "-Model saved after iteration 546.\n",
      "-Train.  Loss=0.0001145\n",
      "-Valid.  Loss=0.0125028\n",
      "'train_loss_bward_68.csv' saved.\n",
      "'valid_loss_bward_68.csv' saved.\n",
      "'model11_backward05_68_best.pth' saved.\n",
      "- train minibatches = 1\n",
      "- valid minibatches = 1\n",
      "- test minibatches = 1\n"
     ]
    },
    {
     "data": {
      "application/vnd.jupyter.widget-view+json": {
       "model_id": "06099c1eb71e4720845c01e91eb5ee72",
       "version_major": 2,
       "version_minor": 0
      },
      "text/plain": [
       "Epochs loop:   0%|          | 0/10000 [00:00<?, ?it/s]"
      ]
     },
     "metadata": {},
     "output_type": "display_data"
    },
    {
     "name": "stdout",
     "output_type": "stream",
     "text": [
      "Summary:\n",
      "-learning rate = 0.02997\n",
      "-Model saved after iteration 2258.\n",
      "-Train.  Loss=0.0003973\n",
      "-Valid.  Loss=0.0003812\n",
      "'train_loss_bward_69.csv' saved.\n",
      "'valid_loss_bward_69.csv' saved.\n",
      "'model11_backward05_69_best.pth' saved.\n",
      "- train minibatches = 1\n",
      "- valid minibatches = 1\n",
      "- test minibatches = 1\n"
     ]
    },
    {
     "data": {
      "application/vnd.jupyter.widget-view+json": {
       "model_id": "6b5577edfb844ac3aeaa05a8e787155e",
       "version_major": 2,
       "version_minor": 0
      },
      "text/plain": [
       "Epochs loop:   0%|          | 0/10000 [00:00<?, ?it/s]"
      ]
     },
     "metadata": {},
     "output_type": "display_data"
    },
    {
     "name": "stdout",
     "output_type": "stream",
     "text": [
      "Summary:\n",
      "-learning rate = 0.02997\n",
      "-Model saved after iteration 1724.\n",
      "-Train.  Loss=0.0000218\n",
      "-Valid.  Loss=0.0000487\n",
      "'train_loss_bward_70.csv' saved.\n",
      "'valid_loss_bward_70.csv' saved.\n",
      "'model11_backward05_70_best.pth' saved.\n",
      "- train minibatches = 1\n",
      "- valid minibatches = 1\n",
      "- test minibatches = 1\n"
     ]
    },
    {
     "data": {
      "application/vnd.jupyter.widget-view+json": {
       "model_id": "3d8ed03301ec4095b6e0d41c138ac4a4",
       "version_major": 2,
       "version_minor": 0
      },
      "text/plain": [
       "Epochs loop:   0%|          | 0/10000 [00:00<?, ?it/s]"
      ]
     },
     "metadata": {},
     "output_type": "display_data"
    },
    {
     "name": "stdout",
     "output_type": "stream",
     "text": [
      "Summary:\n",
      "-learning rate = 0.02997\n",
      "-Model saved after iteration 2048.\n",
      "-Train.  Loss=0.0001151\n",
      "-Valid.  Loss=0.0011214\n",
      "'train_loss_bward_71.csv' saved.\n",
      "'valid_loss_bward_71.csv' saved.\n",
      "'model11_backward05_71_best.pth' saved.\n",
      "- train minibatches = 1\n",
      "- valid minibatches = 1\n",
      "- test minibatches = 1\n"
     ]
    },
    {
     "data": {
      "application/vnd.jupyter.widget-view+json": {
       "model_id": "b43a22d7a26948f9a7f45b9af001a8c6",
       "version_major": 2,
       "version_minor": 0
      },
      "text/plain": [
       "Epochs loop:   0%|          | 0/10000 [00:00<?, ?it/s]"
      ]
     },
     "metadata": {},
     "output_type": "display_data"
    },
    {
     "name": "stdout",
     "output_type": "stream",
     "text": [
      "Summary:\n",
      "-learning rate = 0.02997\n",
      "-Model saved after iteration 1666.\n",
      "-Train.  Loss=0.0007168\n",
      "-Valid.  Loss=0.0010405\n",
      "'train_loss_bward_72.csv' saved.\n",
      "'valid_loss_bward_72.csv' saved.\n",
      "'model11_backward05_72_best.pth' saved.\n",
      "- train minibatches = 1\n",
      "- valid minibatches = 1\n",
      "- test minibatches = 1\n"
     ]
    },
    {
     "data": {
      "application/vnd.jupyter.widget-view+json": {
       "model_id": "a5a375052a454fe3a7698f35f483db84",
       "version_major": 2,
       "version_minor": 0
      },
      "text/plain": [
       "Epochs loop:   0%|          | 0/10000 [00:00<?, ?it/s]"
      ]
     },
     "metadata": {},
     "output_type": "display_data"
    },
    {
     "name": "stdout",
     "output_type": "stream",
     "text": [
      "Summary:\n",
      "-learning rate = 0.02997\n",
      "-Model saved after iteration 632.\n",
      "-Train.  Loss=0.0000010\n",
      "-Valid.  Loss=0.0000042\n",
      "'train_loss_bward_73.csv' saved.\n",
      "'valid_loss_bward_73.csv' saved.\n",
      "'model11_backward05_73_best.pth' saved.\n",
      "- train minibatches = 1\n",
      "- valid minibatches = 1\n",
      "- test minibatches = 1\n"
     ]
    },
    {
     "data": {
      "application/vnd.jupyter.widget-view+json": {
       "model_id": "5adb213cc717473fa1e3a9a4939fcfee",
       "version_major": 2,
       "version_minor": 0
      },
      "text/plain": [
       "Epochs loop:   0%|          | 0/10000 [00:00<?, ?it/s]"
      ]
     },
     "metadata": {},
     "output_type": "display_data"
    },
    {
     "name": "stdout",
     "output_type": "stream",
     "text": [
      "Summary:\n",
      "-learning rate = 0.02997\n",
      "-Model saved after iteration 56.\n",
      "-Train.  Loss=0.2777639\n",
      "-Valid.  Loss=0.1753254\n",
      "'train_loss_bward_74.csv' saved.\n",
      "'valid_loss_bward_74.csv' saved.\n",
      "'model11_backward05_74_best.pth' saved.\n",
      "- train minibatches = 1\n",
      "- valid minibatches = 1\n",
      "- test minibatches = 1\n"
     ]
    },
    {
     "data": {
      "application/vnd.jupyter.widget-view+json": {
       "model_id": "f113f032e3674df9b007c4f0058fe047",
       "version_major": 2,
       "version_minor": 0
      },
      "text/plain": [
       "Epochs loop:   0%|          | 0/10000 [00:00<?, ?it/s]"
      ]
     },
     "metadata": {},
     "output_type": "display_data"
    },
    {
     "name": "stdout",
     "output_type": "stream",
     "text": [
      "Summary:\n",
      "-learning rate = 0.02997\n",
      "-Model saved after iteration 1280.\n",
      "-Train.  Loss=0.0000022\n",
      "-Valid.  Loss=0.0000065\n",
      "'train_loss_bward_75.csv' saved.\n",
      "'valid_loss_bward_75.csv' saved.\n",
      "'model11_backward05_75_best.pth' saved.\n",
      "- train minibatches = 1\n",
      "- valid minibatches = 1\n",
      "- test minibatches = 1\n"
     ]
    },
    {
     "data": {
      "application/vnd.jupyter.widget-view+json": {
       "model_id": "c61b5abe08b845f184f81dd3f23bddb9",
       "version_major": 2,
       "version_minor": 0
      },
      "text/plain": [
       "Epochs loop:   0%|          | 0/10000 [00:00<?, ?it/s]"
      ]
     },
     "metadata": {},
     "output_type": "display_data"
    },
    {
     "name": "stdout",
     "output_type": "stream",
     "text": [
      "Summary:\n",
      "-learning rate = 0.02997\n",
      "-Model saved after iteration 2333.\n",
      "-Train.  Loss=0.0005797\n",
      "-Valid.  Loss=0.0006800\n",
      "'train_loss_bward_76.csv' saved.\n",
      "'valid_loss_bward_76.csv' saved.\n",
      "'model11_backward05_76_best.pth' saved.\n",
      "- train minibatches = 1\n",
      "- valid minibatches = 1\n",
      "- test minibatches = 1\n"
     ]
    },
    {
     "data": {
      "application/vnd.jupyter.widget-view+json": {
       "model_id": "29a0884936174c59b5303d5f26fd891f",
       "version_major": 2,
       "version_minor": 0
      },
      "text/plain": [
       "Epochs loop:   0%|          | 0/10000 [00:00<?, ?it/s]"
      ]
     },
     "metadata": {},
     "output_type": "display_data"
    },
    {
     "name": "stdout",
     "output_type": "stream",
     "text": [
      "Summary:\n",
      "-learning rate = 0.02997\n",
      "-Model saved after iteration 1434.\n",
      "-Train.  Loss=0.0122942\n",
      "-Valid.  Loss=0.0027762\n",
      "'train_loss_bward_77.csv' saved.\n",
      "'valid_loss_bward_77.csv' saved.\n",
      "'model11_backward05_77_best.pth' saved.\n",
      "- train minibatches = 1\n",
      "- valid minibatches = 1\n",
      "- test minibatches = 1\n"
     ]
    },
    {
     "data": {
      "application/vnd.jupyter.widget-view+json": {
       "model_id": "ee89a6853f4c44f59d49938579f48a26",
       "version_major": 2,
       "version_minor": 0
      },
      "text/plain": [
       "Epochs loop:   0%|          | 0/10000 [00:00<?, ?it/s]"
      ]
     },
     "metadata": {},
     "output_type": "display_data"
    },
    {
     "name": "stdout",
     "output_type": "stream",
     "text": [
      "Summary:\n",
      "-learning rate = 0.02997\n",
      "-Model saved after iteration 1470.\n",
      "-Train.  Loss=0.0004499\n",
      "-Valid.  Loss=0.0004506\n",
      "'train_loss_bward_78.csv' saved.\n",
      "'valid_loss_bward_78.csv' saved.\n",
      "'model11_backward05_78_best.pth' saved.\n",
      "- train minibatches = 1\n",
      "- valid minibatches = 1\n",
      "- test minibatches = 1\n"
     ]
    },
    {
     "data": {
      "application/vnd.jupyter.widget-view+json": {
       "model_id": "53814ea1b9fe4421bc4facb721b1fe00",
       "version_major": 2,
       "version_minor": 0
      },
      "text/plain": [
       "Epochs loop:   0%|          | 0/10000 [00:00<?, ?it/s]"
      ]
     },
     "metadata": {},
     "output_type": "display_data"
    },
    {
     "name": "stdout",
     "output_type": "stream",
     "text": [
      "Summary:\n",
      "-learning rate = 0.02997\n",
      "-Model saved after iteration 1263.\n",
      "-Train.  Loss=0.0265641\n",
      "-Valid.  Loss=0.0018090\n",
      "'train_loss_bward_79.csv' saved.\n",
      "'valid_loss_bward_79.csv' saved.\n",
      "'model11_backward05_79_best.pth' saved.\n",
      "- train minibatches = 1\n",
      "- valid minibatches = 1\n",
      "- test minibatches = 1\n"
     ]
    },
    {
     "data": {
      "application/vnd.jupyter.widget-view+json": {
       "model_id": "6d685c29f514402e8a163634adbc4ee6",
       "version_major": 2,
       "version_minor": 0
      },
      "text/plain": [
       "Epochs loop:   0%|          | 0/10000 [00:00<?, ?it/s]"
      ]
     },
     "metadata": {},
     "output_type": "display_data"
    },
    {
     "name": "stdout",
     "output_type": "stream",
     "text": [
      "Summary:\n",
      "-learning rate = 0.02997\n",
      "-Model saved after iteration 1774.\n",
      "-Train.  Loss=0.0004070\n",
      "-Valid.  Loss=0.0025189\n",
      "'train_loss_bward_80.csv' saved.\n",
      "'valid_loss_bward_80.csv' saved.\n",
      "'model11_backward05_80_best.pth' saved.\n",
      "- train minibatches = 1\n",
      "- valid minibatches = 1\n",
      "- test minibatches = 1\n"
     ]
    },
    {
     "data": {
      "application/vnd.jupyter.widget-view+json": {
       "model_id": "0ea2d8e85df649ce829eb2190ba453e9",
       "version_major": 2,
       "version_minor": 0
      },
      "text/plain": [
       "Epochs loop:   0%|          | 0/10000 [00:00<?, ?it/s]"
      ]
     },
     "metadata": {},
     "output_type": "display_data"
    },
    {
     "name": "stdout",
     "output_type": "stream",
     "text": [
      "Summary:\n",
      "-learning rate = 0.02997\n",
      "-Model saved after iteration 2535.\n",
      "-Train.  Loss=0.0000254\n",
      "-Valid.  Loss=0.0019848\n",
      "'train_loss_bward_81.csv' saved.\n",
      "'valid_loss_bward_81.csv' saved.\n",
      "'model11_backward05_81_best.pth' saved.\n",
      "- train minibatches = 1\n",
      "- valid minibatches = 1\n",
      "- test minibatches = 1\n"
     ]
    },
    {
     "data": {
      "application/vnd.jupyter.widget-view+json": {
       "model_id": "72b7d8c63890496789efbfa67a59e0f2",
       "version_major": 2,
       "version_minor": 0
      },
      "text/plain": [
       "Epochs loop:   0%|          | 0/10000 [00:00<?, ?it/s]"
      ]
     },
     "metadata": {},
     "output_type": "display_data"
    },
    {
     "name": "stdout",
     "output_type": "stream",
     "text": [
      "Summary:\n",
      "-learning rate = 0.02997\n",
      "-Model saved after iteration 870.\n",
      "-Train.  Loss=0.0001163\n",
      "-Valid.  Loss=0.0001164\n",
      "'train_loss_bward_82.csv' saved.\n",
      "'valid_loss_bward_82.csv' saved.\n",
      "'model11_backward05_82_best.pth' saved.\n",
      "- train minibatches = 1\n",
      "- valid minibatches = 1\n",
      "- test minibatches = 1\n"
     ]
    },
    {
     "data": {
      "application/vnd.jupyter.widget-view+json": {
       "model_id": "9eff9d72c8924c30bb13ae50398c2329",
       "version_major": 2,
       "version_minor": 0
      },
      "text/plain": [
       "Epochs loop:   0%|          | 0/10000 [00:00<?, ?it/s]"
      ]
     },
     "metadata": {},
     "output_type": "display_data"
    },
    {
     "name": "stdout",
     "output_type": "stream",
     "text": [
      "Summary:\n",
      "-learning rate = 0.02997\n",
      "-Model saved after iteration 5533.\n",
      "-Train.  Loss=0.0132793\n",
      "-Valid.  Loss=0.3212934\n",
      "'train_loss_bward_83.csv' saved.\n",
      "'valid_loss_bward_83.csv' saved.\n",
      "'model11_backward05_83_best.pth' saved.\n",
      "- train minibatches = 1\n",
      "- valid minibatches = 1\n",
      "- test minibatches = 1\n"
     ]
    },
    {
     "data": {
      "application/vnd.jupyter.widget-view+json": {
       "model_id": "e6c0141fb6fd4952b0612a48c4045921",
       "version_major": 2,
       "version_minor": 0
      },
      "text/plain": [
       "Epochs loop:   0%|          | 0/10000 [00:00<?, ?it/s]"
      ]
     },
     "metadata": {},
     "output_type": "display_data"
    },
    {
     "name": "stdout",
     "output_type": "stream",
     "text": [
      "Summary:\n",
      "-learning rate = 0.02997\n",
      "-Model saved after iteration 617.\n",
      "-Train.  Loss=0.0005928\n",
      "-Valid.  Loss=0.0043115\n",
      "'train_loss_bward_84.csv' saved.\n",
      "'valid_loss_bward_84.csv' saved.\n",
      "'model11_backward05_84_best.pth' saved.\n",
      "- train minibatches = 1\n",
      "- valid minibatches = 1\n",
      "- test minibatches = 1\n"
     ]
    },
    {
     "data": {
      "application/vnd.jupyter.widget-view+json": {
       "model_id": "067812c584e04f59b115f502295ab488",
       "version_major": 2,
       "version_minor": 0
      },
      "text/plain": [
       "Epochs loop:   0%|          | 0/10000 [00:00<?, ?it/s]"
      ]
     },
     "metadata": {},
     "output_type": "display_data"
    },
    {
     "name": "stdout",
     "output_type": "stream",
     "text": [
      "Summary:\n",
      "-learning rate = 0.02997\n",
      "-Model saved after iteration 1419.\n",
      "-Train.  Loss=0.0025617\n",
      "-Valid.  Loss=0.0000304\n",
      "'train_loss_bward_85.csv' saved.\n",
      "'valid_loss_bward_85.csv' saved.\n",
      "'model11_backward05_85_best.pth' saved.\n",
      "- train minibatches = 1\n",
      "- valid minibatches = 1\n",
      "- test minibatches = 1\n"
     ]
    },
    {
     "data": {
      "application/vnd.jupyter.widget-view+json": {
       "model_id": "b791ed43b77e452fa2b11f7ce330e6dc",
       "version_major": 2,
       "version_minor": 0
      },
      "text/plain": [
       "Epochs loop:   0%|          | 0/10000 [00:00<?, ?it/s]"
      ]
     },
     "metadata": {},
     "output_type": "display_data"
    },
    {
     "name": "stdout",
     "output_type": "stream",
     "text": [
      "Summary:\n",
      "-learning rate = 0.02997\n",
      "-Model saved after iteration 1916.\n",
      "-Train.  Loss=0.2204275\n",
      "-Valid.  Loss=0.0124435\n",
      "'train_loss_bward_86.csv' saved.\n",
      "'valid_loss_bward_86.csv' saved.\n",
      "'model11_backward05_86_best.pth' saved.\n",
      "- train minibatches = 1\n",
      "- valid minibatches = 1\n",
      "- test minibatches = 1\n"
     ]
    },
    {
     "data": {
      "application/vnd.jupyter.widget-view+json": {
       "model_id": "4b525f3464ff4b3897f18bd045b3d3cf",
       "version_major": 2,
       "version_minor": 0
      },
      "text/plain": [
       "Epochs loop:   0%|          | 0/10000 [00:00<?, ?it/s]"
      ]
     },
     "metadata": {},
     "output_type": "display_data"
    },
    {
     "name": "stdout",
     "output_type": "stream",
     "text": [
      "Summary:\n",
      "-learning rate = 0.02997\n",
      "-Model saved after iteration 5419.\n",
      "-Train.  Loss=0.0009381\n",
      "-Valid.  Loss=0.0315456\n",
      "'train_loss_bward_87.csv' saved.\n",
      "'valid_loss_bward_87.csv' saved.\n",
      "'model11_backward05_87_best.pth' saved.\n",
      "- train minibatches = 1\n",
      "- valid minibatches = 1\n",
      "- test minibatches = 1\n"
     ]
    },
    {
     "data": {
      "application/vnd.jupyter.widget-view+json": {
       "model_id": "cc3e02798615441aa5d6211233d7de83",
       "version_major": 2,
       "version_minor": 0
      },
      "text/plain": [
       "Epochs loop:   0%|          | 0/10000 [00:00<?, ?it/s]"
      ]
     },
     "metadata": {},
     "output_type": "display_data"
    },
    {
     "name": "stdout",
     "output_type": "stream",
     "text": [
      "Summary:\n",
      "-learning rate = 0.02997\n",
      "-Model saved after iteration 580.\n",
      "-Train.  Loss=0.0008438\n",
      "-Valid.  Loss=0.0036739\n",
      "'train_loss_bward_88.csv' saved.\n",
      "'valid_loss_bward_88.csv' saved.\n",
      "'model11_backward05_88_best.pth' saved.\n",
      "- train minibatches = 1\n",
      "- valid minibatches = 1\n",
      "- test minibatches = 1\n"
     ]
    },
    {
     "data": {
      "application/vnd.jupyter.widget-view+json": {
       "model_id": "b6077ec76b32464587ed2f1b2cc2ae37",
       "version_major": 2,
       "version_minor": 0
      },
      "text/plain": [
       "Epochs loop:   0%|          | 0/10000 [00:00<?, ?it/s]"
      ]
     },
     "metadata": {},
     "output_type": "display_data"
    },
    {
     "name": "stdout",
     "output_type": "stream",
     "text": [
      "Summary:\n",
      "-learning rate = 0.02997\n",
      "-Model saved after iteration 6092.\n",
      "-Train.  Loss=0.0025184\n",
      "-Valid.  Loss=0.0320212\n",
      "'train_loss_bward_89.csv' saved.\n",
      "'valid_loss_bward_89.csv' saved.\n",
      "'model11_backward05_89_best.pth' saved.\n",
      "- train minibatches = 1\n",
      "- valid minibatches = 1\n",
      "- test minibatches = 1\n"
     ]
    },
    {
     "data": {
      "application/vnd.jupyter.widget-view+json": {
       "model_id": "0ea1b6ebe52c4b06bd8eeabca17afdd0",
       "version_major": 2,
       "version_minor": 0
      },
      "text/plain": [
       "Epochs loop:   0%|          | 0/10000 [00:00<?, ?it/s]"
      ]
     },
     "metadata": {},
     "output_type": "display_data"
    },
    {
     "name": "stdout",
     "output_type": "stream",
     "text": [
      "Summary:\n",
      "-learning rate = 0.02997\n",
      "-Model saved after iteration 1548.\n",
      "-Train.  Loss=0.0000166\n",
      "-Valid.  Loss=0.0000247\n",
      "'train_loss_bward_90.csv' saved.\n",
      "'valid_loss_bward_90.csv' saved.\n",
      "'model11_backward05_90_best.pth' saved.\n",
      "- train minibatches = 1\n",
      "- valid minibatches = 1\n",
      "- test minibatches = 1\n"
     ]
    },
    {
     "data": {
      "application/vnd.jupyter.widget-view+json": {
       "model_id": "c7cc00d2b0ee4e39be33f592668889df",
       "version_major": 2,
       "version_minor": 0
      },
      "text/plain": [
       "Epochs loop:   0%|          | 0/10000 [00:00<?, ?it/s]"
      ]
     },
     "metadata": {},
     "output_type": "display_data"
    },
    {
     "name": "stdout",
     "output_type": "stream",
     "text": [
      "Summary:\n",
      "-learning rate = 0.02997\n",
      "-Model saved after iteration 1222.\n",
      "-Train.  Loss=0.0912454\n",
      "-Valid.  Loss=0.0006714\n",
      "'train_loss_bward_91.csv' saved.\n",
      "'valid_loss_bward_91.csv' saved.\n",
      "'model11_backward05_91_best.pth' saved.\n",
      "- train minibatches = 1\n",
      "- valid minibatches = 1\n",
      "- test minibatches = 1\n"
     ]
    },
    {
     "data": {
      "application/vnd.jupyter.widget-view+json": {
       "model_id": "bea16768eb824a258d057e8b60c24dae",
       "version_major": 2,
       "version_minor": 0
      },
      "text/plain": [
       "Epochs loop:   0%|          | 0/10000 [00:00<?, ?it/s]"
      ]
     },
     "metadata": {},
     "output_type": "display_data"
    },
    {
     "name": "stdout",
     "output_type": "stream",
     "text": [
      "Summary:\n",
      "-learning rate = 0.02997\n",
      "-Model saved after iteration 1988.\n",
      "-Train.  Loss=0.0014233\n",
      "-Valid.  Loss=0.0000150\n",
      "'train_loss_bward_92.csv' saved.\n",
      "'valid_loss_bward_92.csv' saved.\n",
      "'model11_backward05_92_best.pth' saved.\n",
      "- train minibatches = 1\n",
      "- valid minibatches = 1\n",
      "- test minibatches = 1\n"
     ]
    },
    {
     "data": {
      "application/vnd.jupyter.widget-view+json": {
       "model_id": "b8c377e21148411aaa7e473bcbbb9122",
       "version_major": 2,
       "version_minor": 0
      },
      "text/plain": [
       "Epochs loop:   0%|          | 0/10000 [00:00<?, ?it/s]"
      ]
     },
     "metadata": {},
     "output_type": "display_data"
    },
    {
     "name": "stdout",
     "output_type": "stream",
     "text": [
      "Summary:\n",
      "-learning rate = 0.02997\n",
      "-Model saved after iteration 1339.\n",
      "-Train.  Loss=0.0012242\n",
      "-Valid.  Loss=0.0001619\n",
      "'train_loss_bward_93.csv' saved.\n",
      "'valid_loss_bward_93.csv' saved.\n",
      "'model11_backward05_93_best.pth' saved.\n",
      "- train minibatches = 1\n",
      "- valid minibatches = 1\n",
      "- test minibatches = 1\n"
     ]
    },
    {
     "data": {
      "application/vnd.jupyter.widget-view+json": {
       "model_id": "151062cef1d24e68b5c04f6c6157ac24",
       "version_major": 2,
       "version_minor": 0
      },
      "text/plain": [
       "Epochs loop:   0%|          | 0/10000 [00:00<?, ?it/s]"
      ]
     },
     "metadata": {},
     "output_type": "display_data"
    },
    {
     "name": "stdout",
     "output_type": "stream",
     "text": [
      "Summary:\n",
      "-learning rate = 0.02997\n",
      "-Model saved after iteration 2154.\n",
      "-Train.  Loss=0.0007966\n",
      "-Valid.  Loss=0.0010991\n",
      "'train_loss_bward_94.csv' saved.\n",
      "'valid_loss_bward_94.csv' saved.\n",
      "'model11_backward05_94_best.pth' saved.\n",
      "- train minibatches = 1\n",
      "- valid minibatches = 1\n",
      "- test minibatches = 1\n"
     ]
    },
    {
     "data": {
      "application/vnd.jupyter.widget-view+json": {
       "model_id": "8196bc286f8e4a2286649ac46bca6d77",
       "version_major": 2,
       "version_minor": 0
      },
      "text/plain": [
       "Epochs loop:   0%|          | 0/10000 [00:00<?, ?it/s]"
      ]
     },
     "metadata": {},
     "output_type": "display_data"
    },
    {
     "name": "stdout",
     "output_type": "stream",
     "text": [
      "Summary:\n",
      "-learning rate = 0.02997\n",
      "-Model saved after iteration 2086.\n",
      "-Train.  Loss=0.0000258\n",
      "-Valid.  Loss=0.0001189\n",
      "'train_loss_bward_95.csv' saved.\n",
      "'valid_loss_bward_95.csv' saved.\n",
      "'model11_backward05_95_best.pth' saved.\n",
      "- train minibatches = 1\n",
      "- valid minibatches = 1\n",
      "- test minibatches = 1\n"
     ]
    },
    {
     "data": {
      "application/vnd.jupyter.widget-view+json": {
       "model_id": "60042ec437b2474681840729470f6d4e",
       "version_major": 2,
       "version_minor": 0
      },
      "text/plain": [
       "Epochs loop:   0%|          | 0/10000 [00:00<?, ?it/s]"
      ]
     },
     "metadata": {},
     "output_type": "display_data"
    },
    {
     "name": "stdout",
     "output_type": "stream",
     "text": [
      "Summary:\n",
      "-learning rate = 0.02997\n",
      "-Model saved after iteration 1041.\n",
      "-Train.  Loss=0.0000086\n",
      "-Valid.  Loss=0.0003168\n",
      "'train_loss_bward_96.csv' saved.\n",
      "'valid_loss_bward_96.csv' saved.\n",
      "'model11_backward05_96_best.pth' saved.\n",
      "- train minibatches = 1\n",
      "- valid minibatches = 1\n",
      "- test minibatches = 1\n"
     ]
    },
    {
     "data": {
      "application/vnd.jupyter.widget-view+json": {
       "model_id": "a7ffa832e83a4876a24b8fa2ea1ab827",
       "version_major": 2,
       "version_minor": 0
      },
      "text/plain": [
       "Epochs loop:   0%|          | 0/10000 [00:00<?, ?it/s]"
      ]
     },
     "metadata": {},
     "output_type": "display_data"
    },
    {
     "name": "stdout",
     "output_type": "stream",
     "text": [
      "Summary:\n",
      "-learning rate = 0.02997\n",
      "-Model saved after iteration 3149.\n",
      "-Train.  Loss=0.0356904\n",
      "-Valid.  Loss=0.0001368\n",
      "'train_loss_bward_97.csv' saved.\n",
      "'valid_loss_bward_97.csv' saved.\n",
      "'model11_backward05_97_best.pth' saved.\n",
      "- train minibatches = 1\n",
      "- valid minibatches = 1\n",
      "- test minibatches = 1\n"
     ]
    },
    {
     "data": {
      "application/vnd.jupyter.widget-view+json": {
       "model_id": "5f30be8359ac41c4bc2484482353be77",
       "version_major": 2,
       "version_minor": 0
      },
      "text/plain": [
       "Epochs loop:   0%|          | 0/10000 [00:00<?, ?it/s]"
      ]
     },
     "metadata": {},
     "output_type": "display_data"
    },
    {
     "name": "stdout",
     "output_type": "stream",
     "text": [
      "Summary:\n",
      "-learning rate = 0.02997\n",
      "-Model saved after iteration 1204.\n",
      "-Train.  Loss=0.0004445\n",
      "-Valid.  Loss=0.1538986\n",
      "'train_loss_bward_98.csv' saved.\n",
      "'valid_loss_bward_98.csv' saved.\n",
      "'model11_backward05_98_best.pth' saved.\n",
      "- train minibatches = 1\n",
      "- valid minibatches = 1\n",
      "- test minibatches = 1\n"
     ]
    },
    {
     "data": {
      "application/vnd.jupyter.widget-view+json": {
       "model_id": "74379f3c1357410abbd7e06135a15e2f",
       "version_major": 2,
       "version_minor": 0
      },
      "text/plain": [
       "Epochs loop:   0%|          | 0/10000 [00:00<?, ?it/s]"
      ]
     },
     "metadata": {},
     "output_type": "display_data"
    },
    {
     "name": "stdout",
     "output_type": "stream",
     "text": [
      "Summary:\n",
      "-learning rate = 0.02997\n",
      "-Model saved after iteration 1370.\n",
      "-Train.  Loss=0.0000547\n",
      "-Valid.  Loss=0.0040620\n",
      "'train_loss_bward_99.csv' saved.\n",
      "'valid_loss_bward_99.csv' saved.\n",
      "'model11_backward05_99_best.pth' saved.\n",
      "- train minibatches = 1\n",
      "- valid minibatches = 1\n",
      "- test minibatches = 1\n"
     ]
    },
    {
     "data": {
      "application/vnd.jupyter.widget-view+json": {
       "model_id": "e74f6e120a674a2784d38851a5560dc8",
       "version_major": 2,
       "version_minor": 0
      },
      "text/plain": [
       "Epochs loop:   0%|          | 0/10000 [00:00<?, ?it/s]"
      ]
     },
     "metadata": {},
     "output_type": "display_data"
    },
    {
     "name": "stdout",
     "output_type": "stream",
     "text": [
      "Summary:\n",
      "-learning rate = 0.02997\n",
      "-Model saved after iteration 949.\n",
      "-Train.  Loss=0.0007418\n",
      "-Valid.  Loss=0.0166532\n",
      "'train_loss_bward_100.csv' saved.\n",
      "'valid_loss_bward_100.csv' saved.\n",
      "'model11_backward05_100_best.pth' saved.\n"
     ]
    }
   ],
   "source": [
    "# Find Accuracy, Loss +/- STD (Lockdown: path 2)\n",
    "data_output = 'data_lockdown_11Radiotherapy'\n",
    "accuracy_forward = pd.DataFrame(columns=['train_acc', 'valid_acc', 'test_acc', \n",
    "                                         'train_loss', 'valid_loss', 'test_loss'])\n",
    "\n",
    "partitions = 100\n",
    "iterator = tqdm.notebook.tqdm(range(1, partitions + 1), desc='Partitions loop')\n",
    "for n in iterator:\n",
    "    X = pd.read_csv('dataset_11Radiotherapy/X.csv', header=None)\n",
    "    y = pd.read_csv('dataset_11Radiotherapy/y.csv', header=None)\n",
    "    split_data(X, y, seed1=seed1[n], seed2=seed2[n])\n",
    "\n",
    "# .normalize data sets\n",
    "    df_to_tensor()\n",
    "    normalize_data()\n",
    "    make_DataLoaders()\n",
    "\n",
    "# .train model (forward)\n",
    "    lr = best_lr_bward\n",
    "    layer_sizes = [5, 2]\n",
    "    epochs = 10000\n",
    "    data_out = \"data_lockdown_11Radiotherapy/partitions\"\n",
    "    lock_flag = True\n",
    "    features = xtrain.size(1)\n",
    "    step = 1\n",
    "    model_forward_name = 'data_lockdown_11Radiotherapy/partitions/model11_fward05_'+str(n)+'_last.pth'\n",
    "    fname = 'model11_backward05_'+str(n)\n",
    "    train_loss, valid_loss = train_model(\n",
    "                             lr, \n",
    "                             features, \n",
    "                             layer_sizes,\n",
    "                             lock_flag = lock_flag,\n",
    "                             epochs = epochs,\n",
    "                             early_stop = epochs, \n",
    "                             fname = fname)\n",
    "# .save relevant data\n",
    "    f3 = [fname+'_best.pth']\n",
    "    save_output(data_out, \n",
    "                'train_loss_bward_'+str(n)+'.csv', \n",
    "                'valid_loss_bward_'+str(n)+'.csv', f3)\n",
    "\n",
    "# .find Loss, Accurary, etc...\n",
    "    mm = MyNet(features, layer_sizes)\n",
    "    mm.load_state_dict(torch.load(os.path.join(data_out, fname+'_best.pth')))\n",
    "    mm = mm.to(device)\n",
    "    mm.eval()\n",
    "    \n",
    "    ypred = mm(xtrain)\n",
    "    loss = loss_type(ypred, ytrain.view(-1))\n",
    "    accu = dataset_accuracy(train_dataloader, mm, device)\n",
    "    accuracy_forward.loc[n, 'train_loss'] = loss.detach().item()\n",
    "    accuracy_forward.loc[n, 'train_acc'] = accu\n",
    "\n",
    "    ypred = mm(xvalid)\n",
    "    loss = loss_type(ypred, yvalid.view(-1))\n",
    "    accu = dataset_accuracy(valid_dataloader, mm, device)\n",
    "    accuracy_forward.loc[n, 'valid_loss'] = loss.detach().item()\n",
    "    accuracy_forward.loc[n, 'valid_acc'] = accu\n",
    "\n",
    "    ypred = mm(xtest)\n",
    "    loss = loss_type(ypred, ytest.view(-1))\n",
    "    accu = dataset_accuracy(test_dataloader, mm, device)\n",
    "    accuracy_forward.loc[n, 'test_loss'] = loss.detach().item()\n",
    "    accuracy_forward.loc[n, 'test_acc'] = accu\n",
    "\n",
    "    accuracy_forward.to_csv(os.path.join(data_out, 'accuracy_bward05.csv'), index=True)"
   ]
  },
  {
   "cell_type": "code",
   "execution_count": 274,
   "metadata": {
    "ExecuteTime": {
     "end_time": "2021-02-28T02:42:53.548852Z",
     "start_time": "2021-02-28T02:42:53.539992Z"
    },
    "code_folding": [
     0
    ]
   },
   "outputs": [
    {
     "name": "stdout",
     "output_type": "stream",
     "text": [
      "Train accuracy = 0.9965 +/- 0.0157\n",
      "Train accuracy = 0.9881 +/- 0.0281\n",
      "Test accuracy = 0.9328 +/- 0.0605\n"
     ]
    }
   ],
   "source": [
    "# Display results\n",
    "accuracy_forward = pd.read_csv('data_lockdown_11Radiotherapy/accuracy11_backward05.csv', index_col=0)\n",
    "print(\"Train accuracy = {:.4f} +/- {:.4f}\".format(accuracy_forward['train_acc'].mean(), \n",
    "                                                  accuracy_forward['train_acc'].std()))\n",
    "print(\"Train accuracy = {:.4f} +/- {:.4f}\".format(accuracy_forward['valid_acc'].mean(), \n",
    "                                                  accuracy_forward['valid_acc'].std()))\n",
    "print(\"Test accuracy = {:.4f} +/- {:.4f}\".format(accuracy_forward['test_acc'].mean(), \n",
    "                                                 accuracy_forward['test_acc'].std()))"
   ]
  },
  {
   "cell_type": "code",
   "execution_count": 58,
   "metadata": {
    "ExecuteTime": {
     "end_time": "2021-03-07T07:52:04.109269Z",
     "start_time": "2021-03-07T07:52:03.828528Z"
    },
    "code_folding": [
     0
    ],
    "collapsed": true
   },
   "outputs": [
    {
     "data": {
      "image/png": "[encoded data removed]",
      "text/plain": [
       "<Figure size 576x360 with 1 Axes>"
      ]
     },
     "metadata": {
      "needs_background": "light"
     },
     "output_type": "display_data"
    }
   ],
   "source": [
    "# Plot unconstrained loss function vs iterations\n",
    "train_loss = pd.read_csv('data_lockdown_14BreastCancer/partitions/train_loss_fward05_1.csv')\n",
    "valid_loss = pd.read_csv('data_lockdown_14BreastCancer/partitions/valid_loss_fward05_1.csv')\n",
    "\n",
    "fig, axes = plt.subplots(figsize=(8,5))\n",
    "\n",
    "axes.plot(train_loss[\"iteration\"].tolist(), train_loss[\"loss\"].tolist(), label=\"Train\")\n",
    "axes.plot(valid_loss[\"iteration\"].tolist(), valid_loss[\"loss\"].tolist(), label=\"Valid\")\n",
    "axes.legend()\n",
    "axes.set_xlabel(\"iteration\")\n",
    "axes.set_ylabel(\"Loss\")\n",
    "axes.set_title(\"Unconstrained: Communities and Crime Unnormalized\")\n",
    "axes.grid(True, zorder=2)\n",
    "\n",
    "plt.tight_layout()\n",
    "# plt.savefig(\"data_unconstrained_friedman1_04/loss_vs_iter_forward.pdf\", bbox_inches='tight')\n",
    "plt.show()"
   ]
  },
  {
   "cell_type": "code",
   "execution_count": 61,
   "metadata": {
    "ExecuteTime": {
     "end_time": "2021-03-07T07:53:49.239406Z",
     "start_time": "2021-03-07T07:53:48.883940Z"
    },
    "code_folding": [
     0
    ],
    "collapsed": true
   },
   "outputs": [
    {
     "data": {
      "image/png": "[encoded data removed]",
      "text/plain": [
       "<Figure size 576x360 with 1 Axes>"
      ]
     },
     "metadata": {
      "needs_background": "light"
     },
     "output_type": "display_data"
    }
   ],
   "source": [
    "# Plot unconstrained loss function vs iterations\n",
    "train_loss = pd.read_csv('data_lockdown_13LungCancer/partitions/train_loss_fward05_95.csv')\n",
    "valid_loss = pd.read_csv('data_lockdown_13LungCancer/partitions/valid_loss_fward05_95.csv')\n",
    "\n",
    "fig, axes = plt.subplots(figsize=(8,5))\n",
    "\n",
    "axes.plot(train_loss[\"iteration\"].tolist(), train_loss[\"loss\"].tolist(), label=\"Train\")\n",
    "axes.plot(valid_loss[\"iteration\"].tolist(), valid_loss[\"loss\"].tolist(), label=\"Valid\")\n",
    "axes.legend()\n",
    "axes.set_xlabel(\"iteration\")\n",
    "axes.set_ylabel(\"Loss\")\n",
    "axes.set_title(\"Unconstrained: Communities and Crime Unnormalized\")\n",
    "axes.grid(True, zorder=2)\n",
    "\n",
    "plt.tight_layout()\n",
    "# plt.savefig(\"data_unconstrained_friedman1_04/loss_vs_iter_forward.pdf\", bbox_inches='tight')\n",
    "plt.show()"
   ]
  },
  {
   "cell_type": "markdown",
   "metadata": {
    "ExecuteTime": {
     "end_time": "2021-02-23T22:30:32.007297Z",
     "start_time": "2021-02-23T22:30:32.002004Z"
    }
   },
   "source": [
    "* ### Comparison"
   ]
  },
  {
   "cell_type": "code",
   "execution_count": 4,
   "metadata": {
    "ExecuteTime": {
     "end_time": "2021-06-19T01:00:25.810713Z",
     "start_time": "2021-06-19T01:00:25.800130Z"
    },
    "code_folding": []
   },
   "outputs": [],
   "source": [
    "# Read distributions\n",
    "accuracy_lockdown = pd.read_csv('data_lockdown_11Radiotherapy/accuracy11_backward05.csv', index_col=0)\n",
    "accuracy_forward  = pd.read_csv('data_unconstrained_11Radiotherapy/accuracy11_forward05.csv', index_col=0)\n",
    "accuracy_xgb      = pd.read_csv('data_xgb_11Radiotherapy/accuracy11_xgb.csv')\n",
    "accuracy_lasso    = pd.read_csv('data_lasso_11Radiotherapy/accuracy11_lasso_val.csv', index_col=0)"
   ]
  },
  {
   "cell_type": "code",
   "execution_count": 292,
   "metadata": {
    "ExecuteTime": {
     "end_time": "2021-02-28T02:49:37.414933Z",
     "start_time": "2021-02-28T02:49:37.404895Z"
    },
    "code_folding": [
     0
    ]
   },
   "outputs": [
    {
     "name": "stdout",
     "output_type": "stream",
     "text": [
      "Accuracy on 'test' set:\n",
      "Lockdown = 0.9328 +/- 0.060\n",
      "Forward  = 0.8225 +/- 0.099\n",
      "xgboost  = 0.8872 +/- 0.061\n",
      "Lasso    = 0.9319 +/- 0.070\n",
      "\n",
      "Accuracy on 'validation' set:\n",
      "Lockdown = 0.9881 +/- 0.028\n",
      "Forward  = 0.8423 +/- 0.094\n",
      "xgboost  = 0.8884 +/- 0.067\n",
      "Lasso    = 0.9384 +/- 0.052\n"
     ]
    }
   ],
   "source": [
    "# Accuracy & Loss\n",
    "print(\"Accuracy on 'test' set:\")\n",
    "print(\"Lockdown = {:.4f} +/- {:.3f}\".format(accuracy_lockdown['test_acc'].mean(), \n",
    "                                            accuracy_lockdown['test_acc'].std()))\n",
    "print(\"Forward  = {:.4f} +/- {:.3f}\".format(accuracy_forward['test_acc'].mean(), \n",
    "                                            accuracy_forward['test_acc'].std()))\n",
    "print(\"xgboost  = {:.4f} +/- {:.3f}\".format(accuracy_xgb['test_acc'].mean(), \n",
    "                                            accuracy_xgb['test_acc'].std()))\n",
    "print(\"Lasso    = {:.4f} +/- {:.3f}\".format(accuracy_lasso['test_acc'].mean(), \n",
    "                                            accuracy_lasso['test_acc'].std()))\n",
    "\n",
    "print(\"\\nAccuracy on 'validation' set:\")\n",
    "print(\"Lockdown = {:.4f} +/- {:.3f}\".format(accuracy_lockdown['valid_acc'].mean(), \n",
    "                                            accuracy_lockdown['valid_acc'].std()))\n",
    "print(\"Forward  = {:.4f} +/- {:.3f}\".format(accuracy_forward['valid_acc'].mean(), \n",
    "                                            accuracy_forward['valid_acc'].std()))\n",
    "print(\"xgboost  = {:.4f} +/- {:.3f}\".format(accuracy_xgb['valid_acc'].mean(), \n",
    "                                            accuracy_xgb['valid_acc'].std()))\n",
    "print(\"Lasso    = {:.4f} +/- {:.3f}\".format(accuracy_lasso['valid_acc'].mean(), \n",
    "                                            accuracy_lasso['valid_acc'].std()))"
   ]
  },
  {
   "cell_type": "code",
   "execution_count": 293,
   "metadata": {
    "ExecuteTime": {
     "end_time": "2021-02-28T02:49:49.461640Z",
     "start_time": "2021-02-28T02:49:49.452607Z"
    },
    "code_folding": [
     0
    ]
   },
   "outputs": [
    {
     "name": "stdout",
     "output_type": "stream",
     "text": [
      "On 'test' set:\n",
      "Lockdown vs Forward: pvalue=3.273102e-20, statistic=1.162461e+01\n",
      "Lockdown vs xgboost: pvalue=2.098814e-10, statistic=7.081283e+00\n",
      "Lockdown vs lasso:   pvalue=8.790696e-01, statistic=1.525424e-01\n",
      "\n",
      "On 'validation' set:\n",
      "Lockdown vs Forward: pvalue=1.190889e-28, statistic=1.571537e+01\n",
      "Lockdown vs xgboost: pvalue=1.636761e-28, statistic=1.564500e+01\n",
      "Lockdown vs lasso:   pvalue=7.477341e-20, statistic=1.145793e+01\n"
     ]
    }
   ],
   "source": [
    "# Print out test results\n",
    "print(\"On 'test' set:\")\n",
    "statistic, pvalue = stats.ttest_rel(accuracy_lockdown['test_acc'], accuracy_forward['test_acc'])\n",
    "print(\"Lockdown vs Forward: pvalue={:e}, statistic={:e}\".format(pvalue, statistic))\n",
    "\n",
    "statistic, pvalue = stats.ttest_rel(accuracy_lockdown['test_acc'], accuracy_xgb['test_acc'])\n",
    "print(\"Lockdown vs xgboost: pvalue={:e}, statistic={:e}\".format(pvalue, statistic))\n",
    "\n",
    "statistic, pvalue = stats.ttest_rel(accuracy_lockdown['test_acc'], accuracy_lasso['test_acc'])\n",
    "print(\"Lockdown vs lasso:   pvalue={:e}, statistic={:e}\".format(pvalue, statistic))\n",
    "\n",
    "# \n",
    "print(\"\\nOn 'validation' set:\")\n",
    "statistic, pvalue = stats.ttest_rel(accuracy_lockdown['valid_acc'], accuracy_forward['valid_acc'])\n",
    "print(\"Lockdown vs Forward: pvalue={:e}, statistic={:e}\".format(pvalue, statistic))\n",
    "\n",
    "statistic, pvalue = stats.ttest_rel(accuracy_lockdown['valid_acc'], accuracy_xgb['valid_acc'])\n",
    "print(\"Lockdown vs xgboost: pvalue={:e}, statistic={:e}\".format(pvalue, statistic))\n",
    "\n",
    "statistic, pvalue = stats.ttest_rel(accuracy_lockdown['valid_acc'], accuracy_lasso['valid_acc'])\n",
    "print(\"Lockdown vs lasso:   pvalue={:e}, statistic={:e}\".format(pvalue, statistic))"
   ]
  },
  {
   "cell_type": "code",
   "execution_count": 7,
   "metadata": {
    "ExecuteTime": {
     "end_time": "2021-06-19T01:01:44.594347Z",
     "start_time": "2021-06-19T01:01:44.578605Z"
    }
   },
   "outputs": [
    {
     "name": "stdout",
     "output_type": "stream",
     "text": [
      "Lasso   = 0.068 +/- 0.070\n",
      "GB      = 0.113 +/- 0.061\n",
      "FCNN    = 0.177 +/- 0.099\n",
      "Lockout = 0.067 +/- 0.060\n",
      "\n",
      "On 'test' set:\n",
      "Lockdown vs Forward: pvalue=3.27e-20, statistic=-1.16e+01\n",
      "Lockdown vs xgboost: pvalue=2.10e-10, statistic=-7.08e+00\n",
      "Lockdown vs lasso:   pvalue=8.79e-01, statistic=-1.53e-01\n"
     ]
    }
   ],
   "source": [
    "# Relative Root Mean Squared Error\n",
    "rrmse_lasso = 1.0 - accuracy_lasso['test_acc']\n",
    "print(\"Lasso   = {:.3f} +/- {:.3f}\".format(rrmse_lasso.mean(), rrmse_lasso.std()))\n",
    "\n",
    "rrmse_GB = 1.0 - accuracy_xgb['test_acc']\n",
    "print(\"GB      = {:.3f} +/- {:.3f}\".format(rrmse_GB.mean(), rrmse_GB.std()))\n",
    "\n",
    "rrmse_fcnn = 1.0 - accuracy_forward['test_acc']\n",
    "print(\"FCNN    = {:.3f} +/- {:.3f}\".format(rrmse_fcnn.mean(), rrmse_fcnn.std()))\n",
    "\n",
    "rrmse_lockout = 1.0 - accuracy_lockdown['test_acc']\n",
    "print(\"Lockout = {:.3f} +/- {:.3f}\".format(rrmse_lockout.mean(), rrmse_lockout.std()))\n",
    "\n",
    "# Print out test results\n",
    "print(\"\\nOn 'test' set:\")\n",
    "statistic, pvalue = stats.ttest_rel(rrmse_lockout, rrmse_fcnn)\n",
    "print(\"Lockdown vs Forward: pvalue={:.2e}, statistic={:.2e}\".format(pvalue, statistic))\n",
    "\n",
    "statistic, pvalue = stats.ttest_rel(rrmse_lockout, rrmse_GB)\n",
    "print(\"Lockdown vs xgboost: pvalue={:.2e}, statistic={:.2e}\".format(pvalue, statistic))\n",
    "\n",
    "statistic, pvalue = stats.ttest_rel(rrmse_lockout, rrmse_lasso)\n",
    "print(\"Lockdown vs lasso:   pvalue={:.2e}, statistic={:.2e}\".format(pvalue, statistic))"
   ]
  }
 ],
 "metadata": {
  "kernelspec": {
   "display_name": "Python 3",
   "language": "python",
   "name": "python3"
  },
  "language_info": {
   "codemirror_mode": {
    "name": "ipython",
    "version": 3
   },
   "file_extension": ".py",
   "mimetype": "text/x-python",
   "name": "python",
   "nbconvert_exporter": "python",
   "pygments_lexer": "ipython3",
   "version": "3.8.3"
  },
  "toc": {
   "base_numbering": 1,
   "nav_menu": {},
   "number_sections": true,
   "sideBar": true,
   "skip_h1_title": true,
   "title_cell": "Table of Contents",
   "title_sidebar": "Contents",
   "toc_cell": false,
   "toc_position": {
    "height": "calc(100% - 180px)",
    "left": "10px",
    "top": "150px",
    "width": "339.2px"
   },
   "toc_section_display": true,
   "toc_window_display": true
  }
 },
 "nbformat": 4,
 "nbformat_minor": 2
}
