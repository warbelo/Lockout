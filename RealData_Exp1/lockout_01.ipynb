{
 "cells": [
  {
   "cell_type": "markdown",
   "metadata": {},
   "source": [
    "# Lockdown  for Classification: Female Non Smoker Lung Carcinoma"
   ]
  },
  {
   "cell_type": "markdown",
   "metadata": {},
   "source": [
    "## Import all necessary libraries"
   ]
  },
  {
   "cell_type": "code",
   "execution_count": 1,
   "metadata": {
    "ExecuteTime": {
     "end_time": "2021-06-18T23:17:51.703066Z",
     "start_time": "2021-06-18T23:17:49.723801Z"
    },
    "code_folding": [
     0
    ]
   },
   "outputs": [],
   "source": [
    "# Import libraries and modules\n",
    "import numpy as np\n",
    "import pandas as pd\n",
    "\n",
    "import xgboost as xgb\n",
    "from xgboost import plot_tree\n",
    "\n",
    "from sklearn.metrics import r2_score, classification_report, confusion_matrix,           \\\n",
    "                            roc_curve, roc_auc_score, plot_confusion_matrix, f1_score,   \\\n",
    "                            balanced_accuracy_score, accuracy_score, mean_squared_error, \\\n",
    "                            log_loss\n",
    "from sklearn.datasets import make_friedman1\n",
    "from sklearn.model_selection import train_test_split, GridSearchCV\n",
    "from sklearn.linear_model import LogisticRegression, LinearRegression, SGDClassifier,    \\\n",
    "                                 Lasso, lasso_path\n",
    "from sklearn.preprocessing import StandardScaler, LabelBinarizer\n",
    "from sklearn.impute import SimpleImputer\n",
    "from sklearn.pipeline import Pipeline\n",
    "from sklearn_pandas import DataFrameMapper\n",
    "\n",
    "import scipy\n",
    "from scipy import stats\n",
    "\n",
    "import os\n",
    "import sys\n",
    "import shutil\n",
    "from pathlib import Path\n",
    "\n",
    "import matplotlib as mpl\n",
    "import matplotlib.pyplot as plt\n",
    "import matplotlib.cm as cm\n",
    "\n",
    "import albumentations as A\n",
    "from albumentations.pytorch import ToTensorV2\n",
    "import cv2\n",
    "import itertools\n",
    "\n",
    "import time\n",
    "import tqdm\n",
    "import copy\n",
    "\n",
    "import torch\n",
    "import torchvision\n",
    "import torchvision.transforms as transforms\n",
    "import torch.nn as nn\n",
    "import torch.nn.functional as F\n",
    "import torch.optim as optim\n",
    "import torchvision.models as models\n",
    "from torch.utils.data import Dataset\n",
    "\n",
    "import PIL\n",
    "import joblib\n",
    "import json\n",
    "\n",
    "# import mysgd"
   ]
  },
  {
   "cell_type": "markdown",
   "metadata": {},
   "source": [
    "## Datasets and DataLoaders"
   ]
  },
  {
   "cell_type": "code",
   "execution_count": 2,
   "metadata": {
    "ExecuteTime": {
     "end_time": "2021-04-12T22:56:12.510565Z",
     "start_time": "2021-04-12T22:56:12.503586Z"
    },
    "code_folding": [
     0
    ]
   },
   "outputs": [],
   "source": [
    "# Load data\n",
    "def load_data(fname):\n",
    "    \"\"\"\n",
    "    input (str or path): name of the folder with the data.\n",
    "    This function reads the data, transforms it to tensors, and makes it\n",
    "    global.\n",
    "    \"\"\"\n",
    "    global xtrain, xvalid, xtest, xtrain_valid, ytrain, yvalid, ytest, ytrain_valid\n",
    "# \n",
    "    df = pd.read_csv(os.path.join(fname, 'xtrain.csv'), index_col=False, header=None)\n",
    "    xtrain = torch.tensor(df.values).float()\n",
    "    df = pd.read_csv(os.path.join(fname, 'xvalid.csv'), index_col=False, header=None)\n",
    "    xvalid = torch.tensor(df.values).float()\n",
    "    df = pd.read_csv(os.path.join(fname, 'xtest.csv'), index_col=False, header=None)\n",
    "    xtest = torch.tensor(df.values).float()\n",
    "    df = pd.read_csv(os.path.join(fname, 'xtrain_valid.csv'), index_col=False, header=None)\n",
    "    xtrain_valid = torch.tensor(df.values).float()\n",
    "# \n",
    "    df = pd.read_csv(os.path.join(fname, 'ytrain.csv'), index_col=False, header=None)\n",
    "    ytrain = torch.tensor(df.values).long()\n",
    "    df = pd.read_csv(os.path.join(fname, 'yvalid.csv'), index_col=False, header=None)\n",
    "    yvalid = torch.tensor(df.values).long()\n",
    "    df = pd.read_csv(os.path.join(fname, 'ytest.csv'), index_col=False, header=None)\n",
    "    ytest = torch.tensor(df.values).long()\n",
    "    df = pd.read_csv(os.path.join(fname, 'ytrain_valid.csv'), index_col=False, header=None)\n",
    "    ytrain_valid = torch.tensor(df.values).long()\n"
   ]
  },
  {
   "cell_type": "code",
   "execution_count": 3,
   "metadata": {
    "ExecuteTime": {
     "end_time": "2021-04-12T22:56:14.553437Z",
     "start_time": "2021-04-12T22:56:14.549745Z"
    },
    "code_folding": [
     0
    ]
   },
   "outputs": [],
   "source": [
    "# Transform DataFrame to Tensor\n",
    "def df_to_tensor():\n",
    "    \"\"\"\n",
    "    This function transforms DataFrames to tensors and makes them global.\n",
    "    \"\"\"\n",
    "    global xtrain, xvalid, xtest, ytrain, yvalid, ytest\n",
    "# \n",
    "    xtrain = torch.tensor(xtrain.values).float()\n",
    "    xvalid = torch.tensor(xvalid.values).float()\n",
    "    xtest = torch.tensor(xtest.values).float()\n",
    "# \n",
    "    ytrain = torch.tensor(ytrain.values).long()\n",
    "    yvalid = torch.tensor(yvalid.values).long()\n",
    "    ytest = torch.tensor(ytest.values).long()"
   ]
  },
  {
   "cell_type": "markdown",
   "metadata": {},
   "source": [
    "* ### Read and Clean Data"
   ]
  },
  {
   "cell_type": "code",
   "execution_count": 4,
   "metadata": {
    "ExecuteTime": {
     "end_time": "2021-04-12T22:56:30.879771Z",
     "start_time": "2021-04-12T22:56:19.612096Z"
    },
    "code_folding": [
     0
    ]
   },
   "outputs": [],
   "source": [
    "# Read X and y\n",
    "X = pd.read_csv('dataset_10LungCarcinoma/GDS3837_gene_profile.csv', index_col=0)\n",
    "dfy = pd.read_csv('dataset_10LungCarcinoma/GDS3837_output.csv', index_col=0)"
   ]
  },
  {
   "cell_type": "code",
   "execution_count": 5,
   "metadata": {
    "ExecuteTime": {
     "end_time": "2021-04-12T22:56:30.940416Z",
     "start_time": "2021-04-12T22:56:30.882139Z"
    },
    "code_folding": [
     0
    ]
   },
   "outputs": [],
   "source": [
    "# Change column names\n",
    "cols = X.columns.tolist()\n",
    "for i in range(len(cols)):\n",
    "    cols[i] = cols[i].lower()\n",
    "    cols[i] = cols[i].replace('-', '_')\n",
    "    cols[i] = cols[i].replace('.', '_')\n",
    "    cols[i] = cols[i].strip()\n",
    "X.columns = cols\n",
    "cols_all = X.columns\n",
    "\n",
    "cols = dfy.columns.tolist()\n",
    "for i in range(len(cols)):\n",
    "    cols[i] = cols[i].lower()\n",
    "    cols[i] = cols[i].replace('-', '_')\n",
    "    cols[i] = cols[i].replace('.', '_')\n",
    "    cols[i] = cols[i].strip()\n",
    "dfy.columns = cols\n",
    "\n",
    "# Set target\n",
    "dfy['disease_state'] = dfy['disease_state'].str.replace(' ', '_')\n",
    "dfy.replace({'disease_state': {\"lung_cancer\": 1, \"control\": 0}}, inplace=True)\n",
    "y = pd.DataFrame(dfy['disease_state'])"
   ]
  },
  {
   "cell_type": "code",
   "execution_count": 6,
   "metadata": {
    "ExecuteTime": {
     "end_time": "2021-04-12T22:56:31.085355Z",
     "start_time": "2021-04-12T22:56:30.943351Z"
    },
    "code_folding": [
     0
    ]
   },
   "outputs": [
    {
     "name": "stdout",
     "output_type": "stream",
     "text": [
      "- Number of features: 54675\n",
      "\n",
      "- Dataset shape: (120, 54675)\n",
      "\n",
      "- Missing (X) values: 0 points.\n",
      "- Missing (y) values: 0 points.\n",
      "\n",
      "- Class probabilities:\n",
      "  label = 1: 50.0%\n",
      "  label = 0: 50.0%\n",
      "\n"
     ]
    }
   ],
   "source": [
    "# Display data set info\n",
    "n_features = X.shape[1]\n",
    "print(\"- Number of features: {}\\n\".format(n_features))\n",
    "\n",
    "print(\"- Dataset shape: {}\\n\".format(X.shape))\n",
    "\n",
    "print(\"- Missing (X) values: {} points.\".format(X.isna().sum().sum()))\n",
    "print(\"- Missing (y) values: {} points.\\n\".format(y.isna().sum().sum()))\n",
    "\n",
    "print(\"- Class probabilities:\")\n",
    "print(\"  label = 1: {}%\".format(100*(y.iloc[:,0] == 1).sum()/len(y)))\n",
    "print(\"  label = 0: {}%\\n\".format(100*(y.iloc[:,0] == 0).sum()/len(y)))\n"
   ]
  },
  {
   "cell_type": "markdown",
   "metadata": {},
   "source": [
    "* ### Split and Save"
   ]
  },
  {
   "cell_type": "code",
   "execution_count": 7,
   "metadata": {
    "ExecuteTime": {
     "end_time": "2021-04-12T22:56:31.093727Z",
     "start_time": "2021-04-12T22:56:31.087571Z"
    },
    "code_folding": [
     0
    ]
   },
   "outputs": [],
   "source": [
    "# # Random seeds for the splits\n",
    "# seed1 = torch.randint(0, 1000, (500,))\n",
    "# seed2 = torch.randint(1001, 2000, (500,))\n",
    "seed1 = pd.read_csv('seed1.csv', header=None).iloc[:,0].tolist()\n",
    "seed2 = pd.read_csv('seed2.csv', header=None).iloc[:,0].tolist()"
   ]
  },
  {
   "cell_type": "code",
   "execution_count": 8,
   "metadata": {
    "ExecuteTime": {
     "end_time": "2021-04-12T22:56:31.099336Z",
     "start_time": "2021-04-12T22:56:31.095717Z"
    },
    "code_folding": [
     0
    ]
   },
   "outputs": [],
   "source": [
    "# Split data (function)\n",
    "def split_data(dfX, dfy, seed1=0, seed2=42):\n",
    "    global xtrain, xvalid, xtest, xtrain_valid, ytrain, yvalid, ytest, ytrain_valid\n",
    "    xtrain_valid, xtest, ytrain_valid, ytest = train_test_split(dfX, dfy, \n",
    "                                                      test_size=0.2, \n",
    "                                                      random_state=seed1)\n",
    "    xtrain, xvalid, ytrain, yvalid = train_test_split(xtrain_valid, ytrain_valid, \n",
    "                                                      test_size=0.25, \n",
    "                                                      random_state=seed2)"
   ]
  },
  {
   "cell_type": "code",
   "execution_count": 10,
   "metadata": {
    "ExecuteTime": {
     "end_time": "2021-03-04T08:42:43.819922Z",
     "start_time": "2021-03-04T08:42:08.007294Z"
    },
    "code_folding": [
     0
    ]
   },
   "outputs": [
    {
     "name": "stdout",
     "output_type": "stream",
     "text": [
      "- xtrain size: (72, 54675)\n",
      "- xvalid size: (24, 54675)\n",
      "- xtest size: (24, 54675)\n",
      "- xtrain_valid size: (96, 54675)\n",
      "\n"
     ]
    }
   ],
   "source": [
    "# Set (xtrain, ytrain), (xvalid, yvalid), and (xtest, ytest)\n",
    "data_folder = 'dataset_10LungCarcinoma'\n",
    "split_data(X, y)\n",
    "\n",
    "# Save data on disk\n",
    "xtrain.to_csv(os.path.join(data_folder, 'xtrain.csv'), index=False, header=False)\n",
    "xvalid.to_csv(os.path.join(data_folder, 'xvalid.csv'), index=False, header=False)\n",
    "xtest.to_csv(os.path.join(data_folder, 'xtest.csv'), index=False, header=False)\n",
    "xtrain_valid.to_csv(os.path.join(data_folder, 'xtrain_valid.csv'), index=False, header=False)\n",
    "X.to_csv(os.path.join(data_folder, 'X.csv'), index=False, header=False)\n",
    "\n",
    "ytrain.to_csv(os.path.join(data_folder, 'ytrain.csv'), index=False, header=False)\n",
    "yvalid.to_csv(os.path.join(data_folder, 'yvalid.csv'), index=False, header=False)\n",
    "ytest.to_csv(os.path.join(data_folder, 'ytest.csv'), index=False, header=False)\n",
    "ytrain_valid.to_csv(os.path.join(data_folder, 'ytrain_valid.csv'), index=False, header=False)\n",
    "y.to_csv(os.path.join(data_folder, 'y.csv'), index=False, header=False)\n",
    "\n",
    "# \n",
    "print(\"- xtrain size: {}\".format(xtrain.shape))\n",
    "print(\"- xvalid size: {}\".format(xvalid.shape))\n",
    "print(\"- xtest size: {}\".format(xtest.shape))\n",
    "print(\"- xtrain_valid size: {}\\n\".format(xtrain_valid.shape))"
   ]
  },
  {
   "cell_type": "markdown",
   "metadata": {},
   "source": [
    "* ### Create Datasets and DataLoaders"
   ]
  },
  {
   "cell_type": "code",
   "execution_count": 10,
   "metadata": {
    "ExecuteTime": {
     "end_time": "2021-03-02T17:36:02.072020Z",
     "start_time": "2021-03-02T17:36:02.069496Z"
    },
    "code_folding": [
     0
    ]
   },
   "outputs": [],
   "source": [
    "# Create Dataset class\n",
    "class MyDataset(Dataset):\n",
    "    '''\n",
    "    Input:\n",
    "        xtensor (torch tensor): data points; dimension [# of points, # of features]\n",
    "        ytensor (torch tensor): y values; dimension [# of points]\n",
    "    Output:\n",
    "        the usual...\n",
    "    '''\n",
    "    def __init__(self, xtensor, ytensor):\n",
    "        self.x = xtensor\n",
    "        self.y = ytensor\n",
    "    \n",
    "    def __len__(self):\n",
    "        return len(self.y)\n",
    "\n",
    "    def __getitem__(self, idx):\n",
    "        return self.x[idx,:], self.y[idx], idx"
   ]
  },
  {
   "cell_type": "code",
   "execution_count": 11,
   "metadata": {
    "ExecuteTime": {
     "end_time": "2021-03-02T17:36:02.078574Z",
     "start_time": "2021-03-02T17:36:02.073634Z"
    },
    "code_folding": [
     0
    ]
   },
   "outputs": [],
   "source": [
    "# Instantiate DataLoaders\n",
    "def make_DataLoaders(batch_size=100000, num_workers = 0):\n",
    "    \"\"\"\n",
    "    This function instantiate and makes global DataLoaders for training, \n",
    "    validation, and testing datasets. \n",
    "    \"\"\"\n",
    "# .create datasets\n",
    "    train_dataset = MyDataset(xtrain, ytrain)\n",
    "    valid_dataset = MyDataset(xvalid, yvalid)\n",
    "    test_dataset = MyDataset(xtest, ytest)\n",
    "    \n",
    "# .make dataloaders global variables\n",
    "    global train_dataloader, valid_dataloader, test_dataloader\n",
    "    train_dataloader = torch.utils.data.DataLoader(train_dataset, \n",
    "                                                   batch_size = batch_size,\n",
    "                                                   shuffle = True, \n",
    "                                                   num_workers=num_workers)\n",
    "    valid_dataloader = torch.utils.data.DataLoader(valid_dataset, \n",
    "                                                   batch_size = batch_size,\n",
    "                                                   shuffle = True, \n",
    "                                                   num_workers=num_workers)\n",
    "    test_dataloader = torch.utils.data.DataLoader(test_dataset, \n",
    "                                                   batch_size = batch_size,\n",
    "                                                   shuffle = False, \n",
    "                                                   num_workers=num_workers)\n",
    "    print('- train minibatches =', len(train_dataloader))\n",
    "    print('- valid minibatches =', len(valid_dataloader))\n",
    "    print('- test minibatches =', len(test_dataloader))"
   ]
  },
  {
   "cell_type": "code",
   "execution_count": 13,
   "metadata": {
    "ExecuteTime": {
     "end_time": "2021-03-02T17:36:04.971981Z",
     "start_time": "2021-03-02T17:36:04.966831Z"
    },
    "code_folding": [
     0
    ],
    "scrolled": true
   },
   "outputs": [
    {
     "name": "stdout",
     "output_type": "stream",
     "text": [
      "-Type of precessor to be used: 'cpu'\n"
     ]
    }
   ],
   "source": [
    "# Select type of processor to be used\n",
    "device = torch.device(\"cuda\" if torch.cuda.is_available() else \"cpu\")\n",
    "\n",
    "if device == torch.device('cuda'):\n",
    "    print(\"-Type of precessor to be used: 'gpu'\")\n",
    "    !nvidia-smi\n",
    "else:\n",
    "    print(\"-Type of precessor to be used: 'cpu'\")\n",
    "    \n",
    "# Choose device\n",
    "# torch.cuda.set_device(6)"
   ]
  },
  {
   "cell_type": "markdown",
   "metadata": {},
   "source": [
    "## Optimizer and Loss Function"
   ]
  },
  {
   "cell_type": "code",
   "execution_count": 14,
   "metadata": {
    "ExecuteTime": {
     "end_time": "2021-03-02T17:36:08.670590Z",
     "start_time": "2021-03-02T17:36:08.668399Z"
    },
    "code_folding": [
     0
    ]
   },
   "outputs": [],
   "source": [
    "# Set up SGD optimizer with a constant learning rate\n",
    "def setup_SGD(model, lr):\n",
    "    \"\"\"\n",
    "    Args:\n",
    "        model (nn.Module class): model previously instantiated\n",
    "        lr (float): learning rate\n",
    "    Returns:\n",
    "        instantiated optimizer\n",
    "    \"\"\"\n",
    "    return optim.SGD(model.parameters(), lr=lr, momentum=0,  weight_decay=0.0)"
   ]
  },
  {
   "cell_type": "code",
   "execution_count": 15,
   "metadata": {
    "ExecuteTime": {
     "end_time": "2021-03-02T17:36:10.571965Z",
     "start_time": "2021-03-02T17:36:10.569961Z"
    },
    "code_folding": [
     0
    ]
   },
   "outputs": [],
   "source": [
    "# Set up Adam optimizer with a constant learning rate\n",
    "def setup_ADAM(model, lr):\n",
    "    \"\"\"\n",
    "    Args:\n",
    "        model (nn.Module class): model previously instantiated\n",
    "        lr (float): learning rate\n",
    "    Returns:\n",
    "        instantiated optimizer\n",
    "    \"\"\"\n",
    "    return optim.Adam(model.parameters(), lr=lr,  weight_decay=0.0)"
   ]
  },
  {
   "cell_type": "code",
   "execution_count": 16,
   "metadata": {
    "ExecuteTime": {
     "end_time": "2021-03-02T17:36:12.236394Z",
     "start_time": "2021-03-02T17:36:12.234641Z"
    },
    "code_folding": [
     0
    ]
   },
   "outputs": [],
   "source": [
    "# Type of Loss Function\n",
    "loss_type = nn.CrossEntropyLoss(reduction='mean')"
   ]
  },
  {
   "cell_type": "markdown",
   "metadata": {},
   "source": [
    "## Train model"
   ]
  },
  {
   "cell_type": "code",
   "execution_count": 17,
   "metadata": {
    "ExecuteTime": {
     "end_time": "2021-03-02T17:36:14.598978Z",
     "start_time": "2021-03-02T17:36:14.596916Z"
    },
    "code_folding": [
     0
    ]
   },
   "outputs": [],
   "source": [
    "# PyTorch sign function\n",
    "def sgn(x):\n",
    "    return torch.sign(x)"
   ]
  },
  {
   "cell_type": "code",
   "execution_count": 18,
   "metadata": {
    "ExecuteTime": {
     "end_time": "2021-03-02T17:36:16.748100Z",
     "start_time": "2021-03-02T17:36:16.745661Z"
    },
    "code_folding": [
     0
    ]
   },
   "outputs": [],
   "source": [
    "# Number of correct predictions in a multi-class classification problem\n",
    "def accuracy_multiclass(output, target):\n",
    "    \"\"\"\n",
    "    Args:\n",
    "        output (torch tensor): 2D tensor of shape (batch_size, n_classes) resulting \n",
    "                               of running the model.\n",
    "        target (torch tensor): 1D tensor with the corresponding class for each image.\n",
    "    Returns:\n",
    "        correct (int): number of correct predictions.\n",
    "    \"\"\"\n",
    "    correct = 0\n",
    "    prob_softmax = nn.Softmax(dim=1)\n",
    "    _, predictions = torch.max(prob_softmax(output), dim=1)\n",
    "    correct = (predictions == target).sum(dim=0)\n",
    "    return correct"
   ]
  },
  {
   "cell_type": "code",
   "execution_count": 19,
   "metadata": {
    "ExecuteTime": {
     "end_time": "2021-03-02T17:36:18.919642Z",
     "start_time": "2021-03-02T17:36:18.916740Z"
    },
    "code_folding": [
     0
    ]
   },
   "outputs": [],
   "source": [
    "# Compute accuracy\n",
    "def dataset_accuracy(data_loader, model, device):\n",
    "    \"\"\"\n",
    "    Args:\n",
    "        data_loader: torch DataLoader.\n",
    "        model:       torch model previously trained.\n",
    "        device: 'gpu' or 'cpu'.\n",
    "    Returns:\n",
    "        Accuracy for the given data set.\n",
    "    \"\"\"\n",
    "# Initialize some local variables\n",
    "    correct_total = 0\n",
    "    n_points = 0\n",
    "    \n",
    "# Put model in evaluation mode\n",
    "    model.eval()\n",
    "\n",
    "# Loop over mini batches (no gradients need to be computed)\n",
    "    with torch.no_grad():\n",
    "        for i, (xx, yy, _) in enumerate(data_loader, start=1):\n",
    "            batch_size = len(yy)\n",
    "            xx = xx.to(device)\n",
    "            yy = yy.to(device)\n",
    "            yy_pred = model(xx)\n",
    "        \n",
    "# .compute accuracy (target size must be [batch_size])\n",
    "            correct = accuracy_multiclass(yy_pred, yy.view(-1))\n",
    "            correct_total += correct\n",
    "        \n",
    "# .number of points used after the ith mini-batch\n",
    "            n_points += batch_size\n",
    "#\n",
    "    return correct_total.item()/n_points"
   ]
  },
  {
   "cell_type": "code",
   "execution_count": 20,
   "metadata": {
    "ExecuteTime": {
     "end_time": "2021-03-02T17:36:21.483310Z",
     "start_time": "2021-03-02T17:36:21.470801Z"
    },
    "code_folding": [
     0,
     10,
     16,
     69,
     124,
     143,
     147,
     154,
     157
    ]
   },
   "outputs": [],
   "source": [
    "# Train model (classification)\n",
    "def train_model(lr, features, layer_sizes, lock_flag=False, epochs=3000, \n",
    "                early_stop=300, fname='model'):\n",
    "    \"\"\"\n",
    "    \"\"\"\n",
    "# Set seed of random generators (for reproducibility purposes)\n",
    "#     torch.manual_seed(42)\n",
    "\n",
    "# Instantiate Model and Optimizer\n",
    "    model = MyNet(features, layer_sizes)\n",
    "    if lock_flag == True:\n",
    "        model.load_state_dict(torch.load(model_forward_name))\n",
    "    model = model.to(device)\n",
    "    optimizer = setup_SGD(model, lr)\n",
    "\n",
    "# LOCKDOWN SECTION 1:\n",
    "    if lock_flag == True:\n",
    "        n_iterations = epochs*len(train_dataloader)\n",
    "        layers = get_lockdown_layers(model)\n",
    "        t0 = []\n",
    "        t0_initial = []\n",
    "        sign_w0 = []\n",
    "        l = 0\n",
    "        for layer in layers:\n",
    "            ww = layer.weight.detach()\n",
    "            t0.append(abs(ww).sum())\n",
    "            sign_w0.append(torch.sign(ww))\n",
    "            t0_initial.append(t0[l])\n",
    "            l += 1\n",
    "    \n",
    "# DataFrames to store train/valid loss function\n",
    "    train_loss = pd.DataFrame(columns=['iteration', 'loss'])\n",
    "    valid_loss = pd.DataFrame(columns=['iteration', 'loss'])\n",
    "\n",
    "# Initialize some local variables...\n",
    "    iteration = 0\n",
    "    best_iter = 0\n",
    "    best_loss = 1e30\n",
    "    stop_flag = 0\n",
    "\n",
    "# Loop Over Number of Epochs\n",
    "    iterator = tqdm.notebook.tqdm(range(1, epochs + 1), desc='Epochs loop')\n",
    "    for n_epoch in iterator:\n",
    "# \n",
    "# .Loop Over Mini-batches\n",
    "        for ibatch, (xx, yy, _) in enumerate(train_dataloader, start=1):\n",
    "#\n",
    "# ..Compute Validation Loss\n",
    "            model_dict = copy.deepcopy(model.state_dict())\n",
    "            epoch_loss = valid_epoch(valid_dataloader, model, loss_type, device)\n",
    "            valid_loss = valid_loss.append({'iteration': iteration + 1, \n",
    "                                            'loss': epoch_loss}, \n",
    "                                            ignore_index=True)\n",
    "# ..Train Mini-batch:\n",
    "            model.train()\n",
    "            xx = xx.to(device)\n",
    "            yy = yy.to(device)\n",
    "            yy_pred = model(xx)\n",
    "\n",
    "# ..Compute Train Loss\n",
    "            loss = loss_type(yy_pred, yy.view(-1))\n",
    "            train_loss = train_loss.append({'iteration': iteration + 1,\n",
    "                                            'loss': loss.item()}, \n",
    "                                           ignore_index=True)\n",
    "# ..Backward Propagation\n",
    "            optimizer.zero_grad()\n",
    "            loss.backward()\n",
    "\n",
    "# ..LOCKDOWN SECTION 2:\n",
    "            if lock_flag == True:\n",
    "                l = 0\n",
    "                for layer in layers:\n",
    "# ...weights and gradients (2D)\n",
    "                    w2d = layer.weight.detach()\n",
    "                    g2d = layer.weight.grad.detach()\n",
    "                    w_shape = g2d.size()\n",
    "\n",
    "# ...flattens weights and compute P(W)\n",
    "                    w1d = torch.flatten(w2d)\n",
    "                    Pw = abs(w1d).sum()\n",
    "\n",
    "# ...find g=-grads, 'gamma', and sort gamma (in descending order)\n",
    "                    p1d = 1.0\n",
    "                    g1d = -torch.flatten(g2d)\n",
    "                    gamma = abs(g1d)/(p1d + 1e-10)\n",
    "                    _, indx1d = torch.sort(gamma, descending=True)\n",
    "\n",
    "# ...Modify Gradients Accordingly:\n",
    "                    grmin = torch.zeros(w_shape).fill_(1e-1).to(device)\n",
    "                    layer.weight.grad = torch.sign(g2d)*torch.max(abs(g2d), grmin)\n",
    "                    gr1d = torch.flatten(layer.weight.grad.detach())\n",
    "                    pjsj = lr*abs(gr1d[indx1d])\n",
    "\n",
    "# ...sign(g) != sign(w) elements\n",
    "                    mask_ds = (sgn(g1d[indx1d]) != sgn(w1d[indx1d])) & (w1d[indx1d] != 0.0)\n",
    "                    DS_sum = pjsj[mask_ds].sum()\n",
    "                    pjsj[mask_ds] = 0.0\n",
    "                    mask_dsc = ~mask_ds\n",
    "                    indx1d_dsc = indx1d[mask_dsc]\n",
    "\n",
    "# ...sum(pjsj), j={1,J-1}\n",
    "                    left_side = torch.cumsum(pjsj, dim=0) - pjsj\n",
    "                    pjsj_dsc = torch.zeros(len(g1d)).to(device)\n",
    "                    pjsj_dsc[:] = pjsj[:]\n",
    "\n",
    "# ...sum(pjsj) + Penalty, j={J+1,nJ}\n",
    "                    mask_w0 = (w1d[indx1d] == 0.0)\n",
    "                    pjsj_dsc[mask_w0] = 0.0\n",
    "                    right_side = pjsj_dsc.sum() - torch.cumsum(pjsj_dsc, dim=0) + DS_sum - Pw + t0[l]\n",
    "\n",
    "# ...delta_j and new steps\n",
    "                    ds = right_side - left_side\n",
    "                    mask_w0 = (~mask_w0).float()\n",
    "                    pjsj_new = -mask_w0**(1-sgn(ds))*sgn(g1d[indx1d])*sgn(ds)*torch.min(pjsj, abs(ds))\n",
    "\n",
    "# ...modify gradients\n",
    "                    indx2d = np.unravel_index(indx1d_dsc.cpu(), shape=w_shape)\n",
    "                    layer.weight.grad[indx2d] = pjsj_new[mask_dsc]/lr\n",
    "                    l = l + 1\n",
    "\n",
    "# ..Update Weights \n",
    "            optimizer.step()\n",
    "\n",
    "# ..LOCKDOWN SECTION 3:\n",
    "            if lock_flag == True:\n",
    "# ...Set Weights That Change Signs to Zero\n",
    "                l = 0\n",
    "                for layer in layers:\n",
    "                    ww = layer.weight.detach()\n",
    "                    sign_w = sgn(ww)\n",
    "                    mask0 = ((sign_w != sign_w0[l]) & (sign_w0[l] != 0.0))\n",
    "                    with torch.no_grad():\n",
    "                        layer.weight[mask0] = 0.0\n",
    "                    sign_w0[l] = sign_w\n",
    "                    \n",
    "# ...Tighten Constraint\n",
    "                    if iteration%step == 0:\n",
    "                        t0[l] = (1.0 - iteration/n_iterations)*t0_initial[l]\n",
    "                    l = l + 1\n",
    "                    \n",
    "\n",
    "# ..Early Stop\n",
    "            batch_loss = valid_loss.iloc[iteration, 1]\n",
    "            if batch_loss < best_loss:\n",
    "                torch.save(model_dict, fname+\"_best.pth\")\n",
    "                best_loss = batch_loss\n",
    "                best_iter = iteration\n",
    "            else:\n",
    "                if iteration - best_iter >= early_stop:\n",
    "                    stop_flag = 1\n",
    "                    break\n",
    "# \n",
    "            iteration += 1\n",
    "# \n",
    "        if stop_flag == 1:\n",
    "            break\n",
    "# \n",
    "    if lock_flag == False:\n",
    "        torch.save(model_dict, fname+\"_last.pth\")\n",
    "    print(\"Summary:\")\n",
    "    print(\"-learning rate = {:.5f}\".format(lr))\n",
    "    if stop_flag == 1:\n",
    "        print('-path 1 has early stopped:')\n",
    "        print(' {:d} iterations with no improvement in train loss.'.format(early_stop))\n",
    "    print(\"-Model saved after iteration {:d}.\".format(best_iter + 1))\n",
    "    print(\"-Train.  Loss={:.7f}\".format(train_loss.iloc[best_iter, 1]))\n",
    "    print(\"-Valid.  Loss={:.7f}\".format(valid_loss.iloc[best_iter, 1]))\n",
    "# \n",
    "    return train_loss, valid_loss"
   ]
  },
  {
   "cell_type": "code",
   "execution_count": 21,
   "metadata": {
    "ExecuteTime": {
     "end_time": "2021-03-02T17:36:23.362732Z",
     "start_time": "2021-03-02T17:36:23.359841Z"
    },
    "code_folding": [
     0
    ]
   },
   "outputs": [],
   "source": [
    "# Evaluate one epoch (classification)\n",
    "def valid_epoch(data_loader, model, loss_type, device):\n",
    "    \"\"\"\n",
    "    Args:\n",
    "        data_loader: torch DataLoader.\n",
    "        model:       torch model previously trained.\n",
    "        device: 'gpu' or 'cpu'.\n",
    "    Returns:\n",
    "        Values of Loss Function after one epoch.\n",
    "    \"\"\"\n",
    "# Initialize some local variables\n",
    "    loss_fun = 0.\n",
    "    n_points = 0\n",
    "    \n",
    "# Put model in evaluation mode\n",
    "    model.eval()\n",
    "\n",
    "# Loop over mini batches (no gradients need to be computed)\n",
    "    with torch.no_grad():\n",
    "        for i, (xx, yy, _) in enumerate(data_loader, start=1):\n",
    "            xx = xx.to(device)\n",
    "            yy = yy.to(device)\n",
    "            yy_pred = model(xx)\n",
    "        \n",
    "# .compute loss function\n",
    "            batch_size = len(yy)\n",
    "            loss = loss_type(yy_pred, yy.view(-1))\n",
    "            loss_fun += batch_size*loss.item()\n",
    "        \n",
    "# .number of points used after the ith mini-batch\n",
    "            n_points += batch_size\n",
    "#\n",
    "    return loss_fun/n_points"
   ]
  },
  {
   "cell_type": "markdown",
   "metadata": {},
   "source": [
    "## Results:"
   ]
  },
  {
   "cell_type": "markdown",
   "metadata": {
    "ExecuteTime": {
     "end_time": "2021-01-11T21:44:23.113884Z",
     "start_time": "2021-01-11T21:44:23.111235Z"
    }
   },
   "source": [
    "* ### Lasso"
   ]
  },
  {
   "cell_type": "code",
   "execution_count": 9,
   "metadata": {
    "ExecuteTime": {
     "end_time": "2021-04-12T22:56:59.815052Z",
     "start_time": "2021-04-12T22:56:35.800671Z"
    },
    "code_folding": [
     0
    ]
   },
   "outputs": [],
   "source": [
    "# Load data\n",
    "load_data('dataset_10LungCarcinoma')\n",
    "\n",
    "# transform tensors to NumPy arrays\n",
    "xtrain = xtrain.numpy()\n",
    "xvalid = xvalid.numpy()\n",
    "xtest = xtest.numpy()\n",
    "\n",
    "ytrain = ytrain.numpy()\n",
    "yvalid = yvalid.numpy()\n",
    "ytest = ytest.numpy()"
   ]
  },
  {
   "cell_type": "code",
   "execution_count": 10,
   "metadata": {
    "ExecuteTime": {
     "end_time": "2021-04-12T22:56:59.896200Z",
     "start_time": "2021-04-12T22:56:59.817370Z"
    },
    "code_folding": [
     0
    ]
   },
   "outputs": [],
   "source": [
    "# Normalize data sets\n",
    "scaler = StandardScaler()\n",
    "scaler.fit(xtrain)\n",
    "xtrain = scaler.transform(xtrain)\n",
    "xvalid = scaler.transform(xvalid)\n",
    "xtest  = scaler.transform(xtest)"
   ]
  },
  {
   "cell_type": "code",
   "execution_count": 11,
   "metadata": {
    "ExecuteTime": {
     "end_time": "2021-04-12T22:56:59.904112Z",
     "start_time": "2021-04-12T22:56:59.899060Z"
    },
    "code_folding": []
   },
   "outputs": [],
   "source": [
    "# Grid search space\n",
    "grid_C = np.geomspace(1e-2, 1e3, num=500)\n",
    "df_grid_loss = pd.DataFrame(columns = ['C', 'valid_loss', 'valid_accu'], \n",
    "                            index=range(len(grid_C)))\n",
    "\n",
    "params = {'penalty': 'l1', \n",
    "          'solver': 'liblinear',\n",
    "          'max_iter': 10000,\n",
    "          'random_state': 42,\n",
    "          'warm_start': True}"
   ]
  },
  {
   "cell_type": "code",
   "execution_count": 12,
   "metadata": {
    "ExecuteTime": {
     "end_time": "2021-04-12T22:59:26.212116Z",
     "start_time": "2021-04-12T22:56:59.906344Z"
    },
    "code_folding": [
     0
    ],
    "scrolled": true
   },
   "outputs": [
    {
     "data": {
      "application/vnd.jupyter.widget-view+json": {
       "model_id": "9c953848a8d147c481b4f29c60e9d430",
       "version_major": 2,
       "version_minor": 0
      },
      "text/plain": [
       "C-grid loop:   0%|          | 0/500 [00:00<?, ?it/s]"
      ]
     },
     "metadata": {},
     "output_type": "display_data"
    },
    {
     "name": "stdout",
     "output_type": "stream",
     "text": [
      "C=0.01000 | valid_logloss=0.69315,  valid_accu=0.45833\n",
      "C=0.01023 | valid_logloss=0.69315,  valid_accu=0.45833\n",
      "C=0.01047 | valid_logloss=0.69315,  valid_accu=0.45833\n",
      "C=0.01072 | valid_logloss=0.69315,  valid_accu=0.45833\n",
      "C=0.01097 | valid_logloss=0.69315,  valid_accu=0.45833\n",
      "C=0.01122 | valid_logloss=0.69315,  valid_accu=0.45833\n",
      "C=0.01148 | valid_logloss=0.69315,  valid_accu=0.45833\n",
      "C=0.01175 | valid_logloss=0.69315,  valid_accu=0.45833\n",
      "C=0.01203 | valid_logloss=0.69315,  valid_accu=0.45833\n",
      "C=0.01231 | valid_logloss=0.69315,  valid_accu=0.45833\n",
      "C=0.01260 | valid_logloss=0.69315,  valid_accu=0.45833\n",
      "C=0.01289 | valid_logloss=0.69315,  valid_accu=0.45833\n",
      "C=0.01319 | valid_logloss=0.69315,  valid_accu=0.45833\n",
      "C=0.01350 | valid_logloss=0.69315,  valid_accu=0.45833\n",
      "C=0.01381 | valid_logloss=0.69315,  valid_accu=0.45833\n",
      "C=0.01414 | valid_logloss=0.69315,  valid_accu=0.45833\n",
      "C=0.01447 | valid_logloss=0.69315,  valid_accu=0.45833\n",
      "C=0.01480 | valid_logloss=0.69315,  valid_accu=0.45833\n",
      "C=0.01515 | valid_logloss=0.69315,  valid_accu=0.45833\n",
      "C=0.01550 | valid_logloss=0.69315,  valid_accu=0.45833\n",
      "C=0.01586 | valid_logloss=0.69315,  valid_accu=0.45833\n",
      "C=0.01623 | valid_logloss=0.69315,  valid_accu=0.45833\n",
      "C=0.01661 | valid_logloss=0.69315,  valid_accu=0.45833\n",
      "C=0.01700 | valid_logloss=0.69315,  valid_accu=0.45833\n",
      "C=0.01740 | valid_logloss=0.69315,  valid_accu=0.45833\n",
      "C=0.01780 | valid_logloss=0.69315,  valid_accu=0.45833\n",
      "C=0.01822 | valid_logloss=0.69315,  valid_accu=0.45833\n",
      "C=0.01864 | valid_logloss=0.69315,  valid_accu=0.45833\n",
      "C=0.01908 | valid_logloss=0.69315,  valid_accu=0.45833\n",
      "C=0.01952 | valid_logloss=0.69315,  valid_accu=0.45833\n",
      "C=0.01998 | valid_logloss=0.69315,  valid_accu=0.45833\n",
      "C=0.02045 | valid_logloss=0.69315,  valid_accu=0.45833\n",
      "C=0.02092 | valid_logloss=0.69315,  valid_accu=0.45833\n",
      "C=0.02141 | valid_logloss=0.69315,  valid_accu=0.45833\n",
      "C=0.02191 | valid_logloss=0.69315,  valid_accu=0.45833\n",
      "C=0.02242 | valid_logloss=0.69315,  valid_accu=0.45833\n",
      "C=0.02295 | valid_logloss=0.69315,  valid_accu=0.45833\n",
      "C=0.02348 | valid_logloss=0.69315,  valid_accu=0.45833\n",
      "C=0.02403 | valid_logloss=0.69315,  valid_accu=0.45833\n",
      "C=0.02459 | valid_logloss=0.69315,  valid_accu=0.45833\n",
      "C=0.02517 | valid_logloss=0.69315,  valid_accu=0.45833\n",
      "C=0.02575 | valid_logloss=0.69315,  valid_accu=0.45833\n",
      "C=0.02635 | valid_logloss=0.69315,  valid_accu=0.45833\n",
      "C=0.02697 | valid_logloss=0.69315,  valid_accu=0.45833\n",
      "C=0.02760 | valid_logloss=0.69315,  valid_accu=0.45833\n",
      "C=0.02824 | valid_logloss=0.69315,  valid_accu=0.45833\n",
      "C=0.02890 | valid_logloss=0.69315,  valid_accu=0.45833\n",
      "C=0.02958 | valid_logloss=0.69315,  valid_accu=0.45833\n",
      "C=0.03027 | valid_logloss=0.69315,  valid_accu=0.45833\n",
      "C=0.03097 | valid_logloss=0.69315,  valid_accu=0.45833\n",
      "C=0.03170 | valid_logloss=0.68677,  valid_accu=0.87500\n",
      "C=0.03244 | valid_logloss=0.67282,  valid_accu=0.87500\n",
      "C=0.03319 | valid_logloss=0.65949,  valid_accu=0.87500\n",
      "C=0.03397 | valid_logloss=0.64673,  valid_accu=0.87500\n",
      "C=0.03476 | valid_logloss=0.63449,  valid_accu=0.87500\n",
      "C=0.03557 | valid_logloss=0.62276,  valid_accu=0.87500\n",
      "C=0.03640 | valid_logloss=0.61151,  valid_accu=0.87500\n",
      "C=0.03725 | valid_logloss=0.60068,  valid_accu=0.87500\n",
      "C=0.03812 | valid_logloss=0.59028,  valid_accu=0.87500\n",
      "C=0.03901 | valid_logloss=0.58026,  valid_accu=0.87500\n",
      "C=0.03992 | valid_logloss=0.57063,  valid_accu=0.87500\n",
      "C=0.04085 | valid_logloss=0.55653,  valid_accu=0.91667\n",
      "C=0.04181 | valid_logloss=0.54307,  valid_accu=0.91667\n",
      "C=0.04278 | valid_logloss=0.52945,  valid_accu=0.91667\n",
      "C=0.04378 | valid_logloss=0.51710,  valid_accu=0.91667\n",
      "C=0.04480 | valid_logloss=0.50309,  valid_accu=0.91667\n",
      "C=0.04585 | valid_logloss=0.49031,  valid_accu=0.91667\n",
      "C=0.04692 | valid_logloss=0.48082,  valid_accu=0.91667\n",
      "C=0.04801 | valid_logloss=0.46695,  valid_accu=0.95833\n",
      "C=0.04913 | valid_logloss=0.45377,  valid_accu=0.95833\n",
      "C=0.05028 | valid_logloss=0.44656,  valid_accu=0.95833\n",
      "C=0.05145 | valid_logloss=0.43474,  valid_accu=0.95833\n",
      "C=0.05266 | valid_logloss=0.42921,  valid_accu=0.95833\n",
      "C=0.05388 | valid_logloss=0.41750,  valid_accu=0.95833\n",
      "C=0.05514 | valid_logloss=0.40406,  valid_accu=0.95833\n",
      "C=0.05643 | valid_logloss=0.38973,  valid_accu=1.00000\n",
      "C=0.05775 | valid_logloss=0.38764,  valid_accu=1.00000\n",
      "C=0.05909 | valid_logloss=0.37317,  valid_accu=1.00000\n",
      "C=0.06047 | valid_logloss=0.36628,  valid_accu=1.00000\n",
      "C=0.06188 | valid_logloss=0.35594,  valid_accu=1.00000\n",
      "C=0.06333 | valid_logloss=0.34885,  valid_accu=1.00000\n",
      "C=0.06481 | valid_logloss=0.33836,  valid_accu=1.00000\n",
      "C=0.06632 | valid_logloss=0.32713,  valid_accu=1.00000\n",
      "C=0.06787 | valid_logloss=0.32691,  valid_accu=1.00000\n",
      "C=0.06945 | valid_logloss=0.32298,  valid_accu=1.00000\n",
      "C=0.07107 | valid_logloss=0.31567,  valid_accu=1.00000\n",
      "C=0.07273 | valid_logloss=0.29267,  valid_accu=1.00000\n",
      "C=0.07443 | valid_logloss=0.28521,  valid_accu=1.00000\n",
      "C=0.07617 | valid_logloss=0.29568,  valid_accu=1.00000\n",
      "C=0.07794 | valid_logloss=0.28824,  valid_accu=1.00000\n",
      "C=0.07976 | valid_logloss=0.27991,  valid_accu=1.00000\n",
      "C=0.08163 | valid_logloss=0.27842,  valid_accu=1.00000\n",
      "C=0.08353 | valid_logloss=0.27131,  valid_accu=1.00000\n",
      "C=0.08548 | valid_logloss=0.25851,  valid_accu=1.00000\n",
      "C=0.08747 | valid_logloss=0.24874,  valid_accu=1.00000\n",
      "C=0.08952 | valid_logloss=0.24389,  valid_accu=1.00000\n",
      "C=0.09161 | valid_logloss=0.24139,  valid_accu=1.00000\n",
      "C=0.09374 | valid_logloss=0.23710,  valid_accu=1.00000\n",
      "C=0.09593 | valid_logloss=0.23861,  valid_accu=1.00000\n",
      "C=0.09817 | valid_logloss=0.23090,  valid_accu=1.00000\n",
      "C=0.10046 | valid_logloss=0.23047,  valid_accu=1.00000\n",
      "C=0.10281 | valid_logloss=0.21375,  valid_accu=1.00000\n",
      "C=0.10521 | valid_logloss=0.22721,  valid_accu=1.00000\n",
      "C=0.10766 | valid_logloss=0.22231,  valid_accu=1.00000\n",
      "C=0.11018 | valid_logloss=0.20952,  valid_accu=1.00000\n",
      "C=0.11275 | valid_logloss=0.20841,  valid_accu=1.00000\n",
      "C=0.11538 | valid_logloss=0.20751,  valid_accu=1.00000\n",
      "C=0.11807 | valid_logloss=0.20525,  valid_accu=1.00000\n",
      "C=0.12083 | valid_logloss=0.19369,  valid_accu=1.00000\n",
      "C=0.12365 | valid_logloss=0.19114,  valid_accu=1.00000\n",
      "C=0.12653 | valid_logloss=0.17848,  valid_accu=1.00000\n",
      "C=0.12949 | valid_logloss=0.18276,  valid_accu=1.00000\n",
      "C=0.13251 | valid_logloss=0.17571,  valid_accu=1.00000\n",
      "C=0.13560 | valid_logloss=0.18173,  valid_accu=1.00000\n",
      "C=0.13877 | valid_logloss=0.17477,  valid_accu=1.00000\n",
      "C=0.14201 | valid_logloss=0.16719,  valid_accu=1.00000\n",
      "C=0.14532 | valid_logloss=0.16352,  valid_accu=1.00000\n",
      "C=0.14871 | valid_logloss=0.15738,  valid_accu=1.00000\n",
      "C=0.15218 | valid_logloss=0.16492,  valid_accu=1.00000\n",
      "C=0.15573 | valid_logloss=0.16764,  valid_accu=1.00000\n",
      "C=0.15937 | valid_logloss=0.15128,  valid_accu=1.00000\n",
      "C=0.16309 | valid_logloss=0.15619,  valid_accu=1.00000\n",
      "C=0.16690 | valid_logloss=0.14966,  valid_accu=1.00000\n",
      "C=0.17079 | valid_logloss=0.15095,  valid_accu=1.00000\n",
      "C=0.17478 | valid_logloss=0.14266,  valid_accu=1.00000\n",
      "C=0.17886 | valid_logloss=0.14777,  valid_accu=1.00000\n",
      "C=0.18303 | valid_logloss=0.13994,  valid_accu=1.00000\n",
      "C=0.18730 | valid_logloss=0.14525,  valid_accu=1.00000\n",
      "C=0.19167 | valid_logloss=0.14064,  valid_accu=1.00000\n",
      "C=0.19615 | valid_logloss=0.14559,  valid_accu=0.95833\n",
      "C=0.20073 | valid_logloss=0.13811,  valid_accu=1.00000\n",
      "C=0.20541 | valid_logloss=0.15239,  valid_accu=0.95833\n",
      "C=0.21021 | valid_logloss=0.13524,  valid_accu=1.00000\n",
      "C=0.21511 | valid_logloss=0.12565,  valid_accu=1.00000\n",
      "C=0.22013 | valid_logloss=0.11300,  valid_accu=1.00000\n",
      "C=0.22527 | valid_logloss=0.13829,  valid_accu=1.00000\n",
      "C=0.23053 | valid_logloss=0.13183,  valid_accu=0.95833\n",
      "C=0.23591 | valid_logloss=0.12341,  valid_accu=1.00000\n",
      "C=0.24142 | valid_logloss=0.12319,  valid_accu=1.00000\n",
      "C=0.24705 | valid_logloss=0.12687,  valid_accu=0.95833\n",
      "C=0.25282 | valid_logloss=0.10982,  valid_accu=1.00000\n",
      "C=0.25872 | valid_logloss=0.11310,  valid_accu=1.00000\n",
      "C=0.26476 | valid_logloss=0.11111,  valid_accu=1.00000\n",
      "C=0.27094 | valid_logloss=0.11433,  valid_accu=1.00000\n",
      "C=0.27726 | valid_logloss=0.10984,  valid_accu=1.00000\n",
      "C=0.28373 | valid_logloss=0.12207,  valid_accu=0.95833\n",
      "C=0.29035 | valid_logloss=0.10469,  valid_accu=1.00000\n",
      "C=0.29713 | valid_logloss=0.10407,  valid_accu=1.00000\n",
      "C=0.30406 | valid_logloss=0.11239,  valid_accu=1.00000\n"
     ]
    },
    {
     "name": "stdout",
     "output_type": "stream",
     "text": [
      "C=0.31116 | valid_logloss=0.10381,  valid_accu=1.00000\n",
      "C=0.31842 | valid_logloss=0.11428,  valid_accu=0.95833\n",
      "C=0.32586 | valid_logloss=0.10491,  valid_accu=1.00000\n",
      "C=0.33346 | valid_logloss=0.09997,  valid_accu=1.00000\n",
      "C=0.34124 | valid_logloss=0.10610,  valid_accu=0.95833\n",
      "C=0.34921 | valid_logloss=0.10689,  valid_accu=1.00000\n",
      "C=0.35736 | valid_logloss=0.09352,  valid_accu=1.00000\n",
      "C=0.36570 | valid_logloss=0.10538,  valid_accu=0.95833\n",
      "C=0.37424 | valid_logloss=0.10071,  valid_accu=1.00000\n",
      "C=0.38297 | valid_logloss=0.09629,  valid_accu=1.00000\n",
      "C=0.39191 | valid_logloss=0.09766,  valid_accu=1.00000\n",
      "C=0.40106 | valid_logloss=0.09696,  valid_accu=0.95833\n",
      "C=0.41042 | valid_logloss=0.08951,  valid_accu=1.00000\n",
      "C=0.42000 | valid_logloss=0.09677,  valid_accu=0.95833\n",
      "C=0.42980 | valid_logloss=0.10380,  valid_accu=0.95833\n",
      "C=0.43983 | valid_logloss=0.09254,  valid_accu=1.00000\n",
      "C=0.45010 | valid_logloss=0.08444,  valid_accu=1.00000\n",
      "C=0.46060 | valid_logloss=0.08515,  valid_accu=1.00000\n",
      "C=0.47135 | valid_logloss=0.10498,  valid_accu=0.95833\n",
      "C=0.48235 | valid_logloss=0.09271,  valid_accu=0.95833\n",
      "C=0.49361 | valid_logloss=0.09328,  valid_accu=0.95833\n",
      "C=0.50513 | valid_logloss=0.08071,  valid_accu=1.00000\n",
      "C=0.51692 | valid_logloss=0.08289,  valid_accu=0.95833\n",
      "C=0.52899 | valid_logloss=0.08388,  valid_accu=0.95833\n",
      "C=0.54134 | valid_logloss=0.07011,  valid_accu=1.00000\n",
      "C=0.55397 | valid_logloss=0.08651,  valid_accu=1.00000\n",
      "C=0.56690 | valid_logloss=0.06658,  valid_accu=1.00000\n",
      "C=0.58013 | valid_logloss=0.07638,  valid_accu=0.95833\n",
      "C=0.59367 | valid_logloss=0.07159,  valid_accu=1.00000\n",
      "C=0.60753 | valid_logloss=0.07208,  valid_accu=1.00000\n",
      "C=0.62171 | valid_logloss=0.07625,  valid_accu=0.95833\n",
      "C=0.63622 | valid_logloss=0.07083,  valid_accu=1.00000\n",
      "C=0.65107 | valid_logloss=0.06226,  valid_accu=1.00000\n",
      "C=0.66627 | valid_logloss=0.06852,  valid_accu=1.00000\n",
      "C=0.68182 | valid_logloss=0.07812,  valid_accu=0.95833\n",
      "C=0.69773 | valid_logloss=0.05990,  valid_accu=1.00000\n",
      "C=0.71402 | valid_logloss=0.07163,  valid_accu=0.95833\n",
      "C=0.73068 | valid_logloss=0.06929,  valid_accu=0.95833\n",
      "C=0.74773 | valid_logloss=0.06165,  valid_accu=1.00000\n",
      "C=0.76519 | valid_logloss=0.06357,  valid_accu=1.00000\n",
      "C=0.78305 | valid_logloss=0.05517,  valid_accu=1.00000\n",
      "C=0.80132 | valid_logloss=0.06563,  valid_accu=1.00000\n",
      "C=0.82003 | valid_logloss=0.06730,  valid_accu=1.00000\n",
      "C=0.83917 | valid_logloss=0.06509,  valid_accu=0.95833\n",
      "C=0.85875 | valid_logloss=0.09160,  valid_accu=0.95833\n",
      "C=0.87880 | valid_logloss=0.05655,  valid_accu=1.00000\n",
      "C=0.89931 | valid_logloss=0.09439,  valid_accu=0.95833\n",
      "C=0.92030 | valid_logloss=0.04930,  valid_accu=1.00000\n",
      "C=0.94178 | valid_logloss=0.07738,  valid_accu=0.95833\n",
      "C=0.96376 | valid_logloss=0.05725,  valid_accu=1.00000\n",
      "C=0.98625 | valid_logloss=0.07454,  valid_accu=0.95833\n",
      "C=1.00927 | valid_logloss=0.06143,  valid_accu=1.00000\n",
      "C=1.03283 | valid_logloss=0.04550,  valid_accu=1.00000\n",
      "C=1.05693 | valid_logloss=0.04659,  valid_accu=1.00000\n",
      "C=1.08160 | valid_logloss=0.07179,  valid_accu=0.95833\n",
      "C=1.10685 | valid_logloss=0.05705,  valid_accu=1.00000\n",
      "C=1.13268 | valid_logloss=0.06112,  valid_accu=0.95833\n",
      "C=1.15912 | valid_logloss=0.05083,  valid_accu=1.00000\n",
      "C=1.18617 | valid_logloss=0.04791,  valid_accu=1.00000\n",
      "C=1.21386 | valid_logloss=0.05031,  valid_accu=1.00000\n",
      "C=1.24219 | valid_logloss=0.04674,  valid_accu=1.00000\n",
      "C=1.27118 | valid_logloss=0.05161,  valid_accu=1.00000\n",
      "C=1.30085 | valid_logloss=0.07621,  valid_accu=0.95833\n",
      "C=1.33122 | valid_logloss=0.06467,  valid_accu=0.95833\n",
      "C=1.36229 | valid_logloss=0.04684,  valid_accu=1.00000\n",
      "C=1.39408 | valid_logloss=0.05330,  valid_accu=1.00000\n",
      "C=1.42662 | valid_logloss=0.05877,  valid_accu=0.95833\n",
      "C=1.45992 | valid_logloss=0.07836,  valid_accu=0.95833\n",
      "C=1.49399 | valid_logloss=0.03944,  valid_accu=1.00000\n",
      "C=1.52886 | valid_logloss=0.06608,  valid_accu=0.95833\n",
      "C=1.56455 | valid_logloss=0.07058,  valid_accu=0.95833\n",
      "C=1.60106 | valid_logloss=0.06883,  valid_accu=0.95833\n",
      "C=1.63843 | valid_logloss=0.05682,  valid_accu=1.00000\n",
      "C=1.67668 | valid_logloss=0.03885,  valid_accu=1.00000\n",
      "C=1.71581 | valid_logloss=0.05054,  valid_accu=1.00000\n",
      "C=1.75586 | valid_logloss=0.03799,  valid_accu=1.00000\n",
      "C=1.79684 | valid_logloss=0.03648,  valid_accu=1.00000\n",
      "C=1.83878 | valid_logloss=0.03529,  valid_accu=1.00000\n",
      "C=1.88169 | valid_logloss=0.03497,  valid_accu=1.00000\n",
      "C=1.92561 | valid_logloss=0.02785,  valid_accu=1.00000\n",
      "C=1.97056 | valid_logloss=0.04458,  valid_accu=1.00000\n",
      "C=2.01655 | valid_logloss=0.05773,  valid_accu=0.95833\n",
      "C=2.06362 | valid_logloss=0.04130,  valid_accu=1.00000\n",
      "C=2.11178 | valid_logloss=0.02373,  valid_accu=1.00000\n",
      "C=2.16107 | valid_logloss=0.04568,  valid_accu=1.00000\n",
      "C=2.21151 | valid_logloss=0.03780,  valid_accu=1.00000\n",
      "C=2.26313 | valid_logloss=0.04127,  valid_accu=1.00000\n",
      "C=2.31595 | valid_logloss=0.04432,  valid_accu=1.00000\n",
      "C=2.37001 | valid_logloss=0.04869,  valid_accu=0.95833\n",
      "C=2.42532 | valid_logloss=0.04274,  valid_accu=1.00000\n",
      "C=2.48193 | valid_logloss=0.02877,  valid_accu=1.00000\n",
      "C=2.53986 | valid_logloss=0.05535,  valid_accu=0.95833\n",
      "C=2.59914 | valid_logloss=0.03149,  valid_accu=1.00000\n",
      "C=2.65980 | valid_logloss=0.02601,  valid_accu=1.00000\n",
      "C=2.72188 | valid_logloss=0.03362,  valid_accu=1.00000\n",
      "C=2.78541 | valid_logloss=0.03738,  valid_accu=1.00000\n",
      "C=2.85043 | valid_logloss=0.03939,  valid_accu=1.00000\n",
      "C=2.91696 | valid_logloss=0.03626,  valid_accu=1.00000\n",
      "C=2.98504 | valid_logloss=0.02474,  valid_accu=1.00000\n",
      "C=3.05471 | valid_logloss=0.02442,  valid_accu=1.00000\n",
      "C=3.12601 | valid_logloss=0.04682,  valid_accu=0.95833\n",
      "C=3.19897 | valid_logloss=0.03242,  valid_accu=1.00000\n",
      "C=3.27363 | valid_logloss=0.03769,  valid_accu=1.00000\n",
      "C=3.35004 | valid_logloss=0.05749,  valid_accu=0.95833\n",
      "C=3.42823 | valid_logloss=0.05407,  valid_accu=0.95833\n",
      "C=3.50825 | valid_logloss=0.03796,  valid_accu=1.00000\n",
      "C=3.59013 | valid_logloss=0.02644,  valid_accu=1.00000\n",
      "C=3.67392 | valid_logloss=0.04146,  valid_accu=1.00000\n",
      "C=3.75967 | valid_logloss=0.02423,  valid_accu=1.00000\n",
      "C=3.84743 | valid_logloss=0.02983,  valid_accu=1.00000\n",
      "C=3.93723 | valid_logloss=0.02938,  valid_accu=1.00000\n",
      "C=4.02912 | valid_logloss=0.03665,  valid_accu=1.00000\n",
      "C=4.12316 | valid_logloss=0.02916,  valid_accu=1.00000\n",
      "C=4.21940 | valid_logloss=0.03165,  valid_accu=1.00000\n",
      "C=4.31788 | valid_logloss=0.04443,  valid_accu=1.00000\n",
      "C=4.41866 | valid_logloss=0.02626,  valid_accu=1.00000\n",
      "C=4.52179 | valid_logloss=0.03419,  valid_accu=1.00000\n",
      "C=4.62733 | valid_logloss=0.03597,  valid_accu=1.00000\n",
      "C=4.73533 | valid_logloss=0.02714,  valid_accu=1.00000\n",
      "C=4.84586 | valid_logloss=0.02981,  valid_accu=1.00000\n",
      "C=4.95896 | valid_logloss=0.03635,  valid_accu=1.00000\n",
      "C=5.07471 | valid_logloss=0.02310,  valid_accu=1.00000\n",
      "C=5.19315 | valid_logloss=0.02523,  valid_accu=1.00000\n",
      "C=5.31436 | valid_logloss=0.03370,  valid_accu=1.00000\n",
      "C=5.43840 | valid_logloss=0.02311,  valid_accu=1.00000\n",
      "C=5.56533 | valid_logloss=0.03635,  valid_accu=1.00000\n",
      "C=5.69523 | valid_logloss=0.02445,  valid_accu=1.00000\n",
      "C=5.82815 | valid_logloss=0.01942,  valid_accu=1.00000\n",
      "C=5.96418 | valid_logloss=0.03016,  valid_accu=1.00000\n",
      "C=6.10339 | valid_logloss=0.01997,  valid_accu=1.00000\n",
      "C=6.24584 | valid_logloss=0.03542,  valid_accu=1.00000\n",
      "C=6.39162 | valid_logloss=0.02594,  valid_accu=1.00000\n",
      "C=6.54081 | valid_logloss=0.02445,  valid_accu=1.00000\n",
      "C=6.69347 | valid_logloss=0.02416,  valid_accu=1.00000\n",
      "C=6.84970 | valid_logloss=0.03168,  valid_accu=1.00000\n",
      "C=7.00957 | valid_logloss=0.02093,  valid_accu=1.00000\n",
      "C=7.17317 | valid_logloss=0.01630,  valid_accu=1.00000\n",
      "C=7.34060 | valid_logloss=0.01648,  valid_accu=1.00000\n",
      "C=7.51193 | valid_logloss=0.01573,  valid_accu=1.00000\n",
      "C=7.68726 | valid_logloss=0.02280,  valid_accu=1.00000\n",
      "C=7.86668 | valid_logloss=0.01875,  valid_accu=1.00000\n",
      "C=8.05029 | valid_logloss=0.03561,  valid_accu=1.00000\n",
      "C=8.23819 | valid_logloss=0.03217,  valid_accu=1.00000\n",
      "C=8.43047 | valid_logloss=0.03467,  valid_accu=1.00000\n",
      "C=8.62724 | valid_logloss=0.01687,  valid_accu=1.00000\n",
      "C=8.82860 | valid_logloss=0.04323,  valid_accu=0.95833\n",
      "C=9.03466 | valid_logloss=0.01753,  valid_accu=1.00000\n",
      "C=9.24553 | valid_logloss=0.04737,  valid_accu=0.95833\n",
      "C=9.46132 | valid_logloss=0.01869,  valid_accu=1.00000\n"
     ]
    },
    {
     "name": "stdout",
     "output_type": "stream",
     "text": [
      "C=9.68215 | valid_logloss=0.01293,  valid_accu=1.00000\n",
      "C=9.90814 | valid_logloss=0.01521,  valid_accu=1.00000\n",
      "C=10.13939 | valid_logloss=0.01520,  valid_accu=1.00000\n",
      "C=10.37605 | valid_logloss=0.02353,  valid_accu=1.00000\n",
      "C=10.61823 | valid_logloss=0.01089,  valid_accu=1.00000\n",
      "C=10.86606 | valid_logloss=0.01479,  valid_accu=1.00000\n",
      "C=11.11968 | valid_logloss=0.02042,  valid_accu=1.00000\n",
      "C=11.37921 | valid_logloss=0.01165,  valid_accu=1.00000\n",
      "C=11.64481 | valid_logloss=0.01910,  valid_accu=1.00000\n",
      "C=11.91660 | valid_logloss=0.02178,  valid_accu=1.00000\n",
      "C=12.19473 | valid_logloss=0.01321,  valid_accu=1.00000\n",
      "C=12.47936 | valid_logloss=0.01506,  valid_accu=1.00000\n",
      "C=12.77063 | valid_logloss=0.01979,  valid_accu=1.00000\n",
      "C=13.06870 | valid_logloss=0.01299,  valid_accu=1.00000\n",
      "C=13.37373 | valid_logloss=0.01276,  valid_accu=1.00000\n",
      "C=13.68587 | valid_logloss=0.01428,  valid_accu=1.00000\n",
      "C=14.00531 | valid_logloss=0.01939,  valid_accu=1.00000\n",
      "C=14.33219 | valid_logloss=0.01985,  valid_accu=1.00000\n",
      "C=14.66671 | valid_logloss=0.01994,  valid_accu=1.00000\n",
      "C=15.00903 | valid_logloss=0.01226,  valid_accu=1.00000\n",
      "C=15.35935 | valid_logloss=0.02100,  valid_accu=1.00000\n",
      "C=15.71784 | valid_logloss=0.01416,  valid_accu=1.00000\n",
      "C=16.08469 | valid_logloss=0.03889,  valid_accu=0.95833\n",
      "C=16.46012 | valid_logloss=0.01779,  valid_accu=1.00000\n",
      "C=16.84430 | valid_logloss=0.01916,  valid_accu=1.00000\n",
      "C=17.23745 | valid_logloss=0.01273,  valid_accu=1.00000\n",
      "C=17.63977 | valid_logloss=0.01696,  valid_accu=1.00000\n",
      "C=18.05149 | valid_logloss=0.00960,  valid_accu=1.00000\n",
      "C=18.47281 | valid_logloss=0.01203,  valid_accu=1.00000\n",
      "C=18.90397 | valid_logloss=0.01969,  valid_accu=1.00000\n",
      "C=19.34520 | valid_logloss=0.01309,  valid_accu=1.00000\n",
      "C=19.79672 | valid_logloss=0.04168,  valid_accu=0.95833\n",
      "C=20.25878 | valid_logloss=0.00931,  valid_accu=1.00000\n",
      "C=20.73162 | valid_logloss=0.02976,  valid_accu=1.00000\n",
      "C=21.21550 | valid_logloss=0.01251,  valid_accu=1.00000\n",
      "C=21.71068 | valid_logloss=0.01028,  valid_accu=1.00000\n",
      "C=22.21741 | valid_logloss=0.00813,  valid_accu=1.00000\n",
      "C=22.73597 | valid_logloss=0.00950,  valid_accu=1.00000\n",
      "C=23.26663 | valid_logloss=0.00854,  valid_accu=1.00000\n",
      "C=23.80968 | valid_logloss=0.01130,  valid_accu=1.00000\n",
      "C=24.36540 | valid_logloss=0.02581,  valid_accu=1.00000\n",
      "C=24.93409 | valid_logloss=0.01615,  valid_accu=1.00000\n",
      "C=25.51606 | valid_logloss=0.00707,  valid_accu=1.00000\n",
      "C=26.11161 | valid_logloss=0.01288,  valid_accu=1.00000\n",
      "C=26.72106 | valid_logloss=0.01511,  valid_accu=1.00000\n",
      "C=27.34474 | valid_logloss=0.00967,  valid_accu=1.00000\n",
      "C=27.98297 | valid_logloss=0.01267,  valid_accu=1.00000\n",
      "C=28.63610 | valid_logloss=0.01060,  valid_accu=1.00000\n",
      "C=29.30447 | valid_logloss=0.00877,  valid_accu=1.00000\n",
      "C=29.98844 | valid_logloss=0.00687,  valid_accu=1.00000\n",
      "C=30.68838 | valid_logloss=0.01040,  valid_accu=1.00000\n",
      "C=31.40465 | valid_logloss=0.01509,  valid_accu=1.00000\n",
      "C=32.13764 | valid_logloss=0.01708,  valid_accu=1.00000\n",
      "C=32.88774 | valid_logloss=0.00775,  valid_accu=1.00000\n",
      "C=33.65535 | valid_logloss=0.01031,  valid_accu=1.00000\n",
      "C=34.44087 | valid_logloss=0.01038,  valid_accu=1.00000\n",
      "C=35.24473 | valid_logloss=0.00999,  valid_accu=1.00000\n",
      "C=36.06735 | valid_logloss=0.02079,  valid_accu=1.00000\n",
      "C=36.90917 | valid_logloss=0.00842,  valid_accu=1.00000\n",
      "C=37.77064 | valid_logloss=0.01876,  valid_accu=1.00000\n",
      "C=38.65221 | valid_logloss=0.01350,  valid_accu=1.00000\n",
      "C=39.55436 | valid_logloss=0.01216,  valid_accu=1.00000\n",
      "C=40.47757 | valid_logloss=0.00931,  valid_accu=1.00000\n",
      "C=41.42232 | valid_logloss=0.00501,  valid_accu=1.00000\n",
      "C=42.38913 | valid_logloss=0.01540,  valid_accu=1.00000\n",
      "C=43.37850 | valid_logloss=0.01407,  valid_accu=1.00000\n",
      "C=44.39097 | valid_logloss=0.00900,  valid_accu=1.00000\n",
      "C=45.42706 | valid_logloss=0.01086,  valid_accu=1.00000\n",
      "C=46.48734 | valid_logloss=0.00764,  valid_accu=1.00000\n",
      "C=47.57236 | valid_logloss=0.02484,  valid_accu=1.00000\n",
      "C=48.68271 | valid_logloss=0.02659,  valid_accu=1.00000\n",
      "C=49.81898 | valid_logloss=0.00921,  valid_accu=1.00000\n",
      "C=50.98176 | valid_logloss=0.01638,  valid_accu=1.00000\n",
      "C=52.17169 | valid_logloss=0.00774,  valid_accu=1.00000\n",
      "C=53.38938 | valid_logloss=0.01322,  valid_accu=1.00000\n",
      "C=54.63550 | valid_logloss=0.01354,  valid_accu=1.00000\n",
      "C=55.91071 | valid_logloss=0.00654,  valid_accu=1.00000\n",
      "C=57.21568 | valid_logloss=0.00998,  valid_accu=1.00000\n",
      "C=58.55110 | valid_logloss=0.01019,  valid_accu=1.00000\n",
      "C=59.91770 | valid_logloss=0.00768,  valid_accu=1.00000\n",
      "C=61.31619 | valid_logloss=0.01072,  valid_accu=1.00000\n",
      "C=62.74732 | valid_logloss=0.01082,  valid_accu=1.00000\n",
      "C=64.21186 | valid_logloss=0.00505,  valid_accu=1.00000\n",
      "C=65.71058 | valid_logloss=0.00758,  valid_accu=1.00000\n",
      "C=67.24427 | valid_logloss=0.01158,  valid_accu=1.00000\n",
      "C=68.81377 | valid_logloss=0.01005,  valid_accu=1.00000\n",
      "C=70.41990 | valid_logloss=0.00696,  valid_accu=1.00000\n",
      "C=72.06351 | valid_logloss=0.01234,  valid_accu=1.00000\n",
      "C=73.74549 | valid_logloss=0.00424,  valid_accu=1.00000\n",
      "C=75.46673 | valid_logloss=0.00780,  valid_accu=1.00000\n",
      "C=77.22814 | valid_logloss=0.00642,  valid_accu=1.00000\n",
      "C=79.03066 | valid_logloss=0.00749,  valid_accu=1.00000\n",
      "C=80.87525 | valid_logloss=0.00360,  valid_accu=1.00000\n",
      "C=82.76289 | valid_logloss=0.00657,  valid_accu=1.00000\n",
      "C=84.69460 | valid_logloss=0.00698,  valid_accu=1.00000\n",
      "C=86.67139 | valid_logloss=0.00628,  valid_accu=1.00000\n",
      "C=88.69432 | valid_logloss=0.00639,  valid_accu=1.00000\n",
      "C=90.76446 | valid_logloss=0.00685,  valid_accu=1.00000\n",
      "C=92.88292 | valid_logloss=0.00884,  valid_accu=1.00000\n",
      "C=95.05083 | valid_logloss=0.00393,  valid_accu=1.00000\n",
      "C=97.26934 | valid_logloss=0.00450,  valid_accu=1.00000\n",
      "C=99.53962 | valid_logloss=0.00573,  valid_accu=1.00000\n",
      "C=101.86290 | valid_logloss=0.01969,  valid_accu=1.00000\n",
      "C=104.24040 | valid_logloss=0.00715,  valid_accu=1.00000\n",
      "C=106.67339 | valid_logloss=0.00703,  valid_accu=1.00000\n",
      "C=109.16317 | valid_logloss=0.00432,  valid_accu=1.00000\n",
      "C=111.71107 | valid_logloss=0.00292,  valid_accu=1.00000\n",
      "C=114.31843 | valid_logloss=0.00369,  valid_accu=1.00000\n",
      "C=116.98664 | valid_logloss=0.00828,  valid_accu=1.00000\n",
      "C=119.71713 | valid_logloss=0.00728,  valid_accu=1.00000\n",
      "C=122.51136 | valid_logloss=0.00426,  valid_accu=1.00000\n",
      "C=125.37080 | valid_logloss=0.00659,  valid_accu=1.00000\n",
      "C=128.29698 | valid_logloss=0.00351,  valid_accu=1.00000\n",
      "C=131.29146 | valid_logloss=0.00754,  valid_accu=1.00000\n",
      "C=134.35583 | valid_logloss=0.00914,  valid_accu=1.00000\n",
      "C=137.49172 | valid_logloss=0.01409,  valid_accu=1.00000\n",
      "C=140.70081 | valid_logloss=0.00388,  valid_accu=1.00000\n",
      "C=143.98480 | valid_logloss=0.00481,  valid_accu=1.00000\n",
      "C=147.34543 | valid_logloss=0.00892,  valid_accu=1.00000\n",
      "C=150.78450 | valid_logloss=0.00539,  valid_accu=1.00000\n",
      "C=154.30385 | valid_logloss=0.00681,  valid_accu=1.00000\n",
      "C=157.90533 | valid_logloss=0.00551,  valid_accu=1.00000\n",
      "C=161.59088 | valid_logloss=0.00585,  valid_accu=1.00000\n",
      "C=165.36244 | valid_logloss=0.00956,  valid_accu=1.00000\n",
      "C=169.22204 | valid_logloss=0.00623,  valid_accu=1.00000\n",
      "C=173.17171 | valid_logloss=0.00455,  valid_accu=1.00000\n",
      "C=177.21358 | valid_logloss=0.00390,  valid_accu=1.00000\n",
      "C=181.34978 | valid_logloss=0.01150,  valid_accu=1.00000\n",
      "C=185.58252 | valid_logloss=0.00660,  valid_accu=1.00000\n",
      "C=189.91406 | valid_logloss=0.00725,  valid_accu=1.00000\n",
      "C=194.34669 | valid_logloss=0.00873,  valid_accu=1.00000\n",
      "C=198.88279 | valid_logloss=0.00532,  valid_accu=1.00000\n",
      "C=203.52475 | valid_logloss=0.00476,  valid_accu=1.00000\n",
      "C=208.27506 | valid_logloss=0.00587,  valid_accu=1.00000\n",
      "C=213.13625 | valid_logloss=0.00486,  valid_accu=1.00000\n",
      "C=218.11089 | valid_logloss=0.00485,  valid_accu=1.00000\n",
      "C=223.20165 | valid_logloss=0.01384,  valid_accu=1.00000\n",
      "C=228.41122 | valid_logloss=0.00922,  valid_accu=1.00000\n",
      "C=233.74239 | valid_logloss=0.01082,  valid_accu=1.00000\n",
      "C=239.19798 | valid_logloss=0.00480,  valid_accu=1.00000\n",
      "C=244.78092 | valid_logloss=0.00497,  valid_accu=1.00000\n",
      "C=250.49415 | valid_logloss=0.00672,  valid_accu=1.00000\n",
      "C=256.34074 | valid_logloss=0.00792,  valid_accu=1.00000\n",
      "C=262.32379 | valid_logloss=0.00453,  valid_accu=1.00000\n",
      "C=268.44648 | valid_logloss=0.00768,  valid_accu=1.00000\n",
      "C=274.71208 | valid_logloss=0.00523,  valid_accu=1.00000\n"
     ]
    },
    {
     "name": "stdout",
     "output_type": "stream",
     "text": [
      "C=281.12392 | valid_logloss=0.00782,  valid_accu=1.00000\n",
      "C=287.68541 | valid_logloss=0.00863,  valid_accu=1.00000\n",
      "C=294.40005 | valid_logloss=0.00858,  valid_accu=1.00000\n",
      "C=301.27141 | valid_logloss=0.01020,  valid_accu=1.00000\n",
      "C=308.30315 | valid_logloss=0.00793,  valid_accu=1.00000\n",
      "C=315.49901 | valid_logloss=0.01312,  valid_accu=1.00000\n",
      "C=322.86282 | valid_logloss=0.02169,  valid_accu=1.00000\n",
      "C=330.39851 | valid_logloss=0.00668,  valid_accu=1.00000\n",
      "C=338.11008 | valid_logloss=0.01278,  valid_accu=1.00000\n",
      "C=346.00164 | valid_logloss=0.00554,  valid_accu=1.00000\n",
      "C=354.07739 | valid_logloss=0.01152,  valid_accu=1.00000\n",
      "C=362.34163 | valid_logloss=0.00526,  valid_accu=1.00000\n",
      "C=370.79876 | valid_logloss=0.01194,  valid_accu=1.00000\n",
      "C=379.45328 | valid_logloss=0.01297,  valid_accu=1.00000\n",
      "C=388.30980 | valid_logloss=0.00566,  valid_accu=1.00000\n",
      "C=397.37304 | valid_logloss=0.00346,  valid_accu=1.00000\n",
      "C=406.64781 | valid_logloss=0.00306,  valid_accu=1.00000\n",
      "C=416.13906 | valid_logloss=0.00256,  valid_accu=1.00000\n",
      "C=425.85183 | valid_logloss=0.00402,  valid_accu=1.00000\n",
      "C=435.79130 | valid_logloss=0.00366,  valid_accu=1.00000\n",
      "C=445.96276 | valid_logloss=0.00343,  valid_accu=1.00000\n",
      "C=456.37163 | valid_logloss=0.00326,  valid_accu=1.00000\n",
      "C=467.02344 | valid_logloss=0.01052,  valid_accu=1.00000\n",
      "C=477.92386 | valid_logloss=0.00804,  valid_accu=1.00000\n",
      "C=489.07871 | valid_logloss=0.00399,  valid_accu=1.00000\n",
      "C=500.49391 | valid_logloss=0.00416,  valid_accu=1.00000\n",
      "C=512.17554 | valid_logloss=0.00369,  valid_accu=1.00000\n",
      "C=524.12983 | valid_logloss=0.00588,  valid_accu=1.00000\n",
      "C=536.36313 | valid_logloss=0.00927,  valid_accu=1.00000\n",
      "C=548.88196 | valid_logloss=0.00419,  valid_accu=1.00000\n",
      "C=561.69298 | valid_logloss=0.00383,  valid_accu=1.00000\n",
      "C=574.80302 | valid_logloss=0.00556,  valid_accu=1.00000\n",
      "C=588.21904 | valid_logloss=0.00573,  valid_accu=1.00000\n",
      "C=601.94820 | valid_logloss=0.00941,  valid_accu=1.00000\n",
      "C=615.99780 | valid_logloss=0.00548,  valid_accu=1.00000\n",
      "C=630.37532 | valid_logloss=0.00935,  valid_accu=1.00000\n",
      "C=645.08841 | valid_logloss=0.00519,  valid_accu=1.00000\n",
      "C=660.14491 | valid_logloss=0.00302,  valid_accu=1.00000\n",
      "C=675.55283 | valid_logloss=0.00472,  valid_accu=1.00000\n",
      "C=691.32038 | valid_logloss=0.00471,  valid_accu=1.00000\n",
      "C=707.45594 | valid_logloss=0.00839,  valid_accu=1.00000\n",
      "C=723.96811 | valid_logloss=0.00538,  valid_accu=1.00000\n",
      "C=740.86568 | valid_logloss=0.00566,  valid_accu=1.00000\n",
      "C=758.15765 | valid_logloss=0.00385,  valid_accu=1.00000\n",
      "C=775.85321 | valid_logloss=0.01025,  valid_accu=1.00000\n",
      "C=793.96178 | valid_logloss=0.00535,  valid_accu=1.00000\n",
      "C=812.49302 | valid_logloss=0.00913,  valid_accu=1.00000\n",
      "C=831.45678 | valid_logloss=0.00807,  valid_accu=1.00000\n",
      "C=850.86316 | valid_logloss=0.01634,  valid_accu=1.00000\n",
      "C=870.72248 | valid_logloss=0.00484,  valid_accu=1.00000\n",
      "C=891.04533 | valid_logloss=0.00676,  valid_accu=1.00000\n",
      "C=911.84252 | valid_logloss=0.00677,  valid_accu=1.00000\n",
      "C=933.12512 | valid_logloss=0.01189,  valid_accu=1.00000\n",
      "C=954.90446 | valid_logloss=0.00907,  valid_accu=1.00000\n",
      "C=977.19213 | valid_logloss=0.00738,  valid_accu=1.00000\n",
      "C=1000.00000 | valid_logloss=0.01219,  valid_accu=1.00000\n"
     ]
    },
    {
     "ename": "NameError",
     "evalue": "name 'data_out' is not defined",
     "output_type": "error",
     "traceback": [
      "\u001b[0;31m---------------------------------------------------------------------------\u001b[0m",
      "\u001b[0;31mNameError\u001b[0m                                 Traceback (most recent call last)",
      "\u001b[0;32m<ipython-input-12-55b6be9d1783>\u001b[0m in \u001b[0;36m<module>\u001b[0;34m\u001b[0m\n\u001b[1;32m     14\u001b[0m                                                                        \u001b[0mval_loss\u001b[0m\u001b[0;34m,\u001b[0m\u001b[0;34m\u001b[0m\u001b[0;34m\u001b[0m\u001b[0m\n\u001b[1;32m     15\u001b[0m                                                                        val_accu))\n\u001b[0;32m---> 16\u001b[0;31m \u001b[0mdf_grid_loss\u001b[0m\u001b[0;34m.\u001b[0m\u001b[0mto_csv\u001b[0m\u001b[0;34m(\u001b[0m\u001b[0mos\u001b[0m\u001b[0;34m.\u001b[0m\u001b[0mpath\u001b[0m\u001b[0;34m.\u001b[0m\u001b[0mjoin\u001b[0m\u001b[0;34m(\u001b[0m\u001b[0mdata_out\u001b[0m\u001b[0;34m,\u001b[0m \u001b[0;34m'df_grid_loss.csv'\u001b[0m\u001b[0;34m)\u001b[0m\u001b[0;34m,\u001b[0m \u001b[0mindex\u001b[0m\u001b[0;34m=\u001b[0m\u001b[0;32mNone\u001b[0m\u001b[0;34m)\u001b[0m\u001b[0;34m\u001b[0m\u001b[0;34m\u001b[0m\u001b[0m\n\u001b[0m",
      "\u001b[0;31mNameError\u001b[0m: name 'data_out' is not defined"
     ]
    }
   ],
   "source": [
    "# Perform grid search\n",
    "iterator = tqdm.notebook.tqdm(range(1, len(grid_C) + 1), desc='C-grid loop')\n",
    "for n in iterator:\n",
    "    irow = n-1\n",
    "    params['C'] = grid_C[irow]\n",
    "    log_clf = LogisticRegression(**params).fit(xtrain, ytrain.ravel())\n",
    "    \n",
    "    ypred = log_clf.predict_proba(xvalid)\n",
    "    val_loss = log_loss(yvalid, ypred)\n",
    "    val_accu = log_clf.score(xvalid, yvalid.ravel())\n",
    "    \n",
    "    df_grid_loss.iloc[irow,:] = [params['C'], val_loss, val_accu]\n",
    "    print(\"C={:.5f} | valid_logloss={:.5f},  valid_accu={:.5f}\".format(params['C'], \n",
    "                                                                       val_loss, \n",
    "                                                                       val_accu))\n",
    "df_grid_loss.to_csv(os.path.join(data_out, 'df_grid_loss.csv'), index=None)"
   ]
  },
  {
   "cell_type": "code",
   "execution_count": 14,
   "metadata": {
    "ExecuteTime": {
     "end_time": "2021-04-12T23:01:05.554942Z",
     "start_time": "2021-04-12T23:01:05.548300Z"
    },
    "code_folding": []
   },
   "outputs": [
    {
     "name": "stdout",
     "output_type": "stream",
     "text": [
      "Best parameters:\n",
      "- Best C = 645.37154\n",
      "- Best valid loss = 0.00119\n"
     ]
    }
   ],
   "source": [
    "# Display grid search results\n",
    "data_out = 'data_lasso_10LungCarcinoma'\n",
    "df_grid_loss = pd.read_csv(os.path.join(data_out, 'df_grid_loss.csv'))\n",
    "\n",
    "idx = df_grid_loss.valid_loss.idxmin()\n",
    "best_C   = df_grid_loss.iloc[idx, 0]\n",
    "best_loss  = df_grid_loss.iloc[idx, 1]\n",
    "print(\"Best parameters:\")\n",
    "print(\"- Best C = {:.5f}\".format(best_C))\n",
    "print(\"- Best valid loss = {:.5f}\".format(best_loss))"
   ]
  },
  {
   "cell_type": "code",
   "execution_count": 15,
   "metadata": {
    "ExecuteTime": {
     "end_time": "2021-04-12T23:01:12.073729Z",
     "start_time": "2021-04-12T23:01:11.894262Z"
    },
    "code_folding": [
     0
    ]
   },
   "outputs": [
    {
     "data": {
      "image/png": "[encoded data removed]",
      "text/plain": [
       "<Figure size 720x432 with 1 Axes>"
      ]
     },
     "metadata": {
      "needs_background": "light"
     },
     "output_type": "display_data"
    }
   ],
   "source": [
    "# Plot Loss vs point in grid search\n",
    "data_out = 'data_lasso_10LungCarcinoma'\n",
    "df_grid_loss = pd.read_csv(os.path.join(data_out, 'df_grid_loss.csv'))\n",
    "fig, axes = plt.subplots(figsize=(10,6))\n",
    "axes.scatter(df_grid_loss.index, df_grid_loss['valid_loss'])\n",
    "axes.plot(df_grid_loss.index, df_grid_loss['valid_loss'])\n",
    "axes.set_xlabel(\"grid search point\")\n",
    "axes.set_ylabel(\"Valid Logloss\")\n",
    "plt.show()"
   ]
  },
  {
   "cell_type": "code",
   "execution_count": 16,
   "metadata": {
    "ExecuteTime": {
     "end_time": "2021-04-12T23:01:17.150127Z",
     "start_time": "2021-04-12T23:01:16.718583Z"
    },
    "code_folding": [
     0
    ]
   },
   "outputs": [],
   "source": [
    "# Train with best hyperparameters\n",
    "params['C'] = best_C\n",
    "log_clf = LogisticRegression(**params).fit(xtrain, ytrain.ravel())"
   ]
  },
  {
   "cell_type": "code",
   "execution_count": 17,
   "metadata": {
    "ExecuteTime": {
     "end_time": "2021-04-12T23:01:18.874511Z",
     "start_time": "2021-04-12T23:01:18.867650Z"
    },
    "code_folding": [
     0
    ]
   },
   "outputs": [
    {
     "name": "stdout",
     "output_type": "stream",
     "text": [
      "model saved at: 'data_lasso_10LungCarcinoma/lasso_model_val.pkl'\n",
      "best params saved at: 'data_lasso_10LungCarcinoma/lasso_best_params.json'\n"
     ]
    }
   ],
   "source": [
    "# Save model and model's best params\n",
    "data_out = 'data_lasso_10LungCarcinoma'\n",
    "joblib.dump(log_clf, os.path.join(data_out, 'lasso_model_val.pkl'))\n",
    "print(\"model saved at: '{}'\".format(os.path.join(data_out, 'lasso_model_val.pkl')))\n",
    "\n",
    "best_params = {}\n",
    "best_params['C'] = best_C\n",
    "with open(os.path.join(data_out, 'lasso_best_params.json'), 'w') as f:\n",
    "    json.dump(best_params, f)\n",
    "print(\"best params saved at: '{}'\".format(os.path.join(data_out, 'lasso_best_params.json')))"
   ]
  },
  {
   "cell_type": "code",
   "execution_count": 18,
   "metadata": {
    "ExecuteTime": {
     "end_time": "2021-04-12T23:01:21.699103Z",
     "start_time": "2021-04-12T23:01:21.635652Z"
    },
    "code_folding": [
     0
    ]
   },
   "outputs": [
    {
     "name": "stdout",
     "output_type": "stream",
     "text": [
      "model results saved at: 'data_lasso_10LungCarcinoma/results_target_val.csv'\n"
     ]
    },
    {
     "data": {
      "text/html": [
       "<div>\n",
       "<style scoped>\n",
       "    .dataframe tbody tr th:only-of-type {\n",
       "        vertical-align: middle;\n",
       "    }\n",
       "\n",
       "    .dataframe tbody tr th {\n",
       "        vertical-align: top;\n",
       "    }\n",
       "\n",
       "    .dataframe thead th {\n",
       "        text-align: right;\n",
       "    }\n",
       "</style>\n",
       "<table border=\"1\" class=\"dataframe\">\n",
       "  <thead>\n",
       "    <tr style=\"text-align: right;\">\n",
       "      <th></th>\n",
       "      <th>accuracy</th>\n",
       "      <th>roc_auc</th>\n",
       "    </tr>\n",
       "  </thead>\n",
       "  <tbody>\n",
       "    <tr>\n",
       "      <th>train</th>\n",
       "      <td>1</td>\n",
       "      <td>1</td>\n",
       "    </tr>\n",
       "    <tr>\n",
       "      <th>valid</th>\n",
       "      <td>1</td>\n",
       "      <td>1</td>\n",
       "    </tr>\n",
       "    <tr>\n",
       "      <th>test</th>\n",
       "      <td>0.958333</td>\n",
       "      <td>0.95</td>\n",
       "    </tr>\n",
       "  </tbody>\n",
       "</table>\n",
       "</div>"
      ],
      "text/plain": [
       "       accuracy roc_auc\n",
       "train         1       1\n",
       "valid         1       1\n",
       "test   0.958333    0.95"
      ]
     },
     "execution_count": 18,
     "metadata": {},
     "output_type": "execute_result"
    }
   ],
   "source": [
    "# Find MSE, R2, Accuracy, etc...\n",
    "data_out = 'data_lasso_10LungCarcinoma'\n",
    "model = joblib.load(os.path.join(data_out, 'lasso_model_val.pkl'))\n",
    "\n",
    "df_results = pd.DataFrame(index=['train', 'valid', 'test'], \n",
    "                           columns=['accuracy', 'roc_auc'])\n",
    "\n",
    "ypred = model.predict(xtrain)\n",
    "df_results.loc['train', 'accuracy'] = accuracy_score(ytrain, ypred)\n",
    "df_results.loc['train', 'roc_auc']  = roc_auc_score(ytrain, ypred)\n",
    "\n",
    "ypred = model.predict(xvalid)\n",
    "df_results.loc['valid', 'accuracy'] = accuracy_score(yvalid, ypred)\n",
    "df_results.loc['valid', 'roc_auc']  = roc_auc_score(yvalid, ypred)\n",
    "\n",
    "ypred = model.predict(xtest)\n",
    "df_results.loc['test', 'accuracy'] = accuracy_score(ytest, ypred)\n",
    "df_results.loc['test', 'roc_auc']  = roc_auc_score(ytest, ypred)\n",
    "\n",
    "# Save data\n",
    "df_results.to_csv(os.path.join(data_out, 'results_target_val.csv'), index=True)\n",
    "print(\"model results saved at: '{}'\".format(os.path.join(data_out, 'results_target_val.csv')))\n",
    "df_results.head()"
   ]
  },
  {
   "cell_type": "code",
   "execution_count": 26,
   "metadata": {
    "ExecuteTime": {
     "end_time": "2021-04-12T19:23:32.773909Z",
     "start_time": "2021-04-12T19:21:34.995756Z"
    },
    "code_folding": [
     0
    ]
   },
   "outputs": [
    {
     "data": {
      "application/vnd.jupyter.widget-view+json": {
       "model_id": "f573fb4384f445f4bfe548cbf309ee5f",
       "version_major": 2,
       "version_minor": 0
      },
      "text/plain": [
       "Partitions loop:   0%|          | 0/100 [00:00<?, ?it/s]"
      ]
     },
     "metadata": {},
     "output_type": "display_data"
    }
   ],
   "source": [
    "# Find Accuracy +/- STD\n",
    "data_out = 'data_lasso_10LungCarcinoma'\n",
    "df_results = pd.DataFrame(columns=['train_acc', 'valid_acc', 'test_acc', 'train_roc', 'valid_roc', 'test_roc'])\n",
    "\n",
    "model = joblib.load(os.path.join(data_out, 'lasso_model_val.pkl'))\n",
    "\n",
    "partitions = 100\n",
    "iterator = tqdm.notebook.tqdm(range(1, partitions + 1), desc='Partitions loop')\n",
    "X = pd.read_csv('dataset_10LungCarcinoma/X.csv', header=None)\n",
    "y = pd.read_csv('dataset_10LungCarcinoma/y.csv', header=None)\n",
    "for n in iterator:\n",
    "    split_data(X, y, seed1=seed1[n], seed2=seed2[n])\n",
    "    \n",
    "# .normalize data sets\n",
    "    scaler = StandardScaler()\n",
    "    scaler.fit(xtrain)\n",
    "    xtrain = scaler.transform(xtrain)\n",
    "    xvalid = scaler.transform(xvalid)\n",
    "    xtest  = scaler.transform(xtest)\n",
    "    \n",
    "# .train model\n",
    "    ytrain = ytrain.values.ravel()\n",
    "    yvalid = yvalid.values.ravel()\n",
    "    ytest  = ytest.values.ravel()\n",
    "    model.fit(xtrain, ytrain)\n",
    "    \n",
    "# .compute/save accuracy\n",
    "    ypred = model.predict(xtrain)\n",
    "    df_results.loc[n, 'train_acc'] = accuracy_score(ytrain, ypred)\n",
    "    df_results.loc[n, 'train_roc']  = roc_auc_score(ytrain, ypred)\n",
    "\n",
    "    ypred = model.predict(xvalid)\n",
    "    df_results.loc[n, 'valid_acc'] = accuracy_score(yvalid, ypred)\n",
    "    df_results.loc[n, 'valid_roc']  = roc_auc_score(yvalid, ypred)\n",
    "\n",
    "    ypred = model.predict(xtest)\n",
    "    df_results.loc[n, 'test_acc'] = accuracy_score(ytest, ypred)\n",
    "    df_results.loc[n, 'test_roc']  = roc_auc_score(ytest, ypred)\n",
    "\n",
    "    joblib.dump(model, os.path.join(data_out, 'lasso_model_val_'+str(n)+'.pkl'))\n",
    "    df_results.to_csv(os.path.join(data_out, 'accuracy10_lasso_val.csv'), index=None)"
   ]
  },
  {
   "cell_type": "code",
   "execution_count": 27,
   "metadata": {
    "ExecuteTime": {
     "end_time": "2021-04-12T20:14:31.341656Z",
     "start_time": "2021-04-12T20:14:31.332729Z"
    },
    "code_folding": [
     0
    ]
   },
   "outputs": [
    {
     "name": "stdout",
     "output_type": "stream",
     "text": [
      "Train accuracy = 1.000 +/- 0.000\n",
      "Valid accuracy = 0.950 +/- 0.041\n",
      "Test accuracy = 0.947 +/- 0.041\n"
     ]
    }
   ],
   "source": [
    "# Display results\n",
    "data_out = 'data_lasso_10LungCarcinoma'\n",
    "accuracy_lasso = pd.read_csv(os.path.join(data_out, 'accuracy10_lasso_val.csv'))\n",
    "print(\"Train accuracy = {:.3f} +/- {:.3f}\".format(accuracy_lasso['train_acc'].mean(), \n",
    "                                                  accuracy_lasso['train_acc'].std()))\n",
    "print(\"Valid accuracy = {:.3f} +/- {:.3f}\".format(accuracy_lasso['valid_acc'].mean(), \n",
    "                                                  accuracy_lasso['valid_acc'].std()))\n",
    "print(\"Test accuracy = {:.3f} +/- {:.3f}\".format(accuracy_lasso['test_acc'].mean(), \n",
    "                                                 accuracy_lasso['test_acc'].std()))"
   ]
  },
  {
   "cell_type": "markdown",
   "metadata": {},
   "source": [
    "* ### Gradient Boosting"
   ]
  },
  {
   "cell_type": "code",
   "execution_count": 192,
   "metadata": {
    "ExecuteTime": {
     "end_time": "2021-02-25T02:27:48.233399Z",
     "start_time": "2021-02-25T02:27:30.957578Z"
    },
    "code_folding": [
     0
    ]
   },
   "outputs": [],
   "source": [
    "# Load data\n",
    "load_data('dataset_10LungCarcinoma')\n",
    "\n",
    "# transform tensors to NumPy arrays\n",
    "xtrain = xtrain.numpy()\n",
    "xvalid = xvalid.numpy()\n",
    "xtest = xtest.numpy()\n",
    "\n",
    "ytrain = ytrain.numpy()\n",
    "yvalid = yvalid.numpy()\n",
    "ytest = ytest.numpy()"
   ]
  },
  {
   "cell_type": "code",
   "execution_count": 193,
   "metadata": {
    "ExecuteTime": {
     "end_time": "2021-02-25T02:27:53.117574Z",
     "start_time": "2021-02-25T02:27:53.050911Z"
    },
    "code_folding": [
     0
    ]
   },
   "outputs": [],
   "source": [
    "# Normalize data sets\n",
    "scaler = StandardScaler()\n",
    "scaler.fit(xtrain)\n",
    "xtrain = scaler.transform(xtrain)\n",
    "xvalid = scaler.transform(xvalid)\n",
    "xtest  = scaler.transform(xtest)"
   ]
  },
  {
   "cell_type": "code",
   "execution_count": 194,
   "metadata": {
    "ExecuteTime": {
     "end_time": "2021-02-25T02:27:58.525014Z",
     "start_time": "2021-02-25T02:27:58.135318Z"
    },
    "code_folding": [
     0
    ]
   },
   "outputs": [],
   "source": [
    "# Build DMatrices\n",
    "dtrain = xgb.DMatrix(data=xtrain, label=ytrain, nthread=10, feature_names=cols_all)\n",
    "dvalid = xgb.DMatrix(data=xvalid, label=yvalid, nthread=10, feature_names=cols_all)\n",
    "dtest  = xgb.DMatrix(data=xtest,  label=ytest,  nthread=10, feature_names=cols_all)\n",
    "\n",
    "valid_list = [(dtrain, 'train'), (dvalid, 'valid')]"
   ]
  },
  {
   "cell_type": "code",
   "execution_count": 195,
   "metadata": {
    "ExecuteTime": {
     "end_time": "2021-02-25T02:28:17.667599Z",
     "start_time": "2021-02-25T02:28:17.663960Z"
    },
    "code_folding": [
     0
    ]
   },
   "outputs": [],
   "source": [
    "# Grid search space\n",
    "grid_eta   = np.linspace(0.01, 0.99, num=100)\n",
    "grid_depth = [1, 2, 3, 4, 5]\n",
    "grid_param = [(eta, max_depth) for eta in grid_eta\n",
    "                               for max_depth in grid_depth]\n",
    "\n",
    "param = [('eta', 0.01), \n",
    "         ('max_depth', 2), \n",
    "         ('objective', 'binary:logistic'), \n",
    "         ('nthread', 16),\n",
    "         ('eval_metric', 'logloss')\n",
    "]"
   ]
  },
  {
   "cell_type": "code",
   "execution_count": 40,
   "metadata": {
    "ExecuteTime": {
     "end_time": "2021-02-03T00:01:55.609709Z",
     "start_time": "2021-02-02T23:41:10.541891Z"
    },
    "code_folding": [
     0
    ],
    "scrolled": true
   },
   "outputs": [
    {
     "name": "stdout",
     "output_type": "stream",
     "text": [
      "eta=0.010, max_depth=1 | valid_logloss=0.06549 (iters=540)\n",
      "eta=0.010, max_depth=2 | valid_logloss=0.05970 (iters=497)\n",
      "eta=0.010, max_depth=3 | valid_logloss=0.05970 (iters=497)\n",
      "eta=0.010, max_depth=4 | valid_logloss=0.05970 (iters=497)\n",
      "eta=0.010, max_depth=5 | valid_logloss=0.05970 (iters=497)\n",
      "eta=0.020, max_depth=1 | valid_logloss=0.06395 (iters=271)\n",
      "eta=0.020, max_depth=2 | valid_logloss=0.06224 (iters=249)\n",
      "eta=0.020, max_depth=3 | valid_logloss=0.06224 (iters=249)\n",
      "eta=0.020, max_depth=4 | valid_logloss=0.06224 (iters=249)\n",
      "eta=0.020, max_depth=5 | valid_logloss=0.06224 (iters=249)\n",
      "eta=0.030, max_depth=1 | valid_logloss=0.06352 (iters=180)\n",
      "eta=0.030, max_depth=2 | valid_logloss=0.06093 (iters=166)\n",
      "eta=0.030, max_depth=3 | valid_logloss=0.06093 (iters=166)\n",
      "eta=0.030, max_depth=4 | valid_logloss=0.06093 (iters=166)\n",
      "eta=0.030, max_depth=5 | valid_logloss=0.06093 (iters=166)\n",
      "eta=0.040, max_depth=1 | valid_logloss=0.06516 (iters=135)\n",
      "eta=0.040, max_depth=2 | valid_logloss=0.05765 (iters=123)\n",
      "eta=0.040, max_depth=3 | valid_logloss=0.05765 (iters=123)\n",
      "eta=0.040, max_depth=4 | valid_logloss=0.05765 (iters=123)\n",
      "eta=0.040, max_depth=5 | valid_logloss=0.05765 (iters=123)\n",
      "eta=0.050, max_depth=1 | valid_logloss=0.06417 (iters=108)\n",
      "eta=0.050, max_depth=2 | valid_logloss=0.06088 (iters=99)\n",
      "eta=0.050, max_depth=3 | valid_logloss=0.06088 (iters=99)\n",
      "eta=0.050, max_depth=4 | valid_logloss=0.06088 (iters=99)\n",
      "eta=0.050, max_depth=5 | valid_logloss=0.06088 (iters=99)\n",
      "eta=0.059, max_depth=1 | valid_logloss=0.06359 (iters=89)\n",
      "eta=0.059, max_depth=2 | valid_logloss=0.05798 (iters=82)\n",
      "eta=0.059, max_depth=3 | valid_logloss=0.05798 (iters=82)\n",
      "eta=0.059, max_depth=4 | valid_logloss=0.05798 (iters=82)\n",
      "eta=0.059, max_depth=5 | valid_logloss=0.05798 (iters=82)\n",
      "eta=0.069, max_depth=1 | valid_logloss=0.06534 (iters=76)\n",
      "eta=0.069, max_depth=2 | valid_logloss=0.05526 (iters=70)\n",
      "eta=0.069, max_depth=3 | valid_logloss=0.05526 (iters=70)\n",
      "eta=0.069, max_depth=4 | valid_logloss=0.05526 (iters=70)\n",
      "eta=0.069, max_depth=5 | valid_logloss=0.05526 (iters=70)\n",
      "eta=0.079, max_depth=1 | valid_logloss=0.06173 (iters=67)\n",
      "eta=0.079, max_depth=2 | valid_logloss=0.06177 (iters=61)\n",
      "eta=0.079, max_depth=3 | valid_logloss=0.06177 (iters=61)\n",
      "eta=0.079, max_depth=4 | valid_logloss=0.06177 (iters=61)\n",
      "eta=0.079, max_depth=5 | valid_logloss=0.06177 (iters=61)\n",
      "eta=0.089, max_depth=1 | valid_logloss=0.06254 (iters=59)\n",
      "eta=0.089, max_depth=2 | valid_logloss=0.05829 (iters=54)\n",
      "eta=0.089, max_depth=3 | valid_logloss=0.05829 (iters=54)\n",
      "eta=0.089, max_depth=4 | valid_logloss=0.05829 (iters=54)\n",
      "eta=0.089, max_depth=5 | valid_logloss=0.05829 (iters=54)\n",
      "eta=0.099, max_depth=1 | valid_logloss=0.05977 (iters=53)\n",
      "eta=0.099, max_depth=2 | valid_logloss=0.05833 (iters=49)\n",
      "eta=0.099, max_depth=3 | valid_logloss=0.05833 (iters=49)\n",
      "eta=0.099, max_depth=4 | valid_logloss=0.05833 (iters=49)\n",
      "eta=0.099, max_depth=5 | valid_logloss=0.05833 (iters=49)\n",
      "eta=0.109, max_depth=1 | valid_logloss=0.06369 (iters=48)\n",
      "eta=0.109, max_depth=2 | valid_logloss=0.06356 (iters=44)\n",
      "eta=0.109, max_depth=3 | valid_logloss=0.06356 (iters=44)\n",
      "eta=0.109, max_depth=4 | valid_logloss=0.06356 (iters=44)\n",
      "eta=0.109, max_depth=5 | valid_logloss=0.06356 (iters=44)\n",
      "eta=0.119, max_depth=1 | valid_logloss=0.06686 (iters=44)\n",
      "eta=0.119, max_depth=2 | valid_logloss=0.05470 (iters=40)\n",
      "eta=0.119, max_depth=3 | valid_logloss=0.05470 (iters=40)\n",
      "eta=0.119, max_depth=4 | valid_logloss=0.05470 (iters=40)\n",
      "eta=0.119, max_depth=5 | valid_logloss=0.05470 (iters=40)\n",
      "eta=0.129, max_depth=1 | valid_logloss=0.06733 (iters=40)\n",
      "eta=0.129, max_depth=2 | valid_logloss=0.05330 (iters=37)\n",
      "eta=0.129, max_depth=3 | valid_logloss=0.05330 (iters=37)\n",
      "eta=0.129, max_depth=4 | valid_logloss=0.05330 (iters=37)\n",
      "eta=0.129, max_depth=5 | valid_logloss=0.05330 (iters=37)\n",
      "eta=0.139, max_depth=1 | valid_logloss=0.06242 (iters=37)\n",
      "eta=0.139, max_depth=2 | valid_logloss=0.05718 (iters=34)\n",
      "eta=0.139, max_depth=3 | valid_logloss=0.05718 (iters=34)\n",
      "eta=0.139, max_depth=4 | valid_logloss=0.05718 (iters=34)\n",
      "eta=0.139, max_depth=5 | valid_logloss=0.05718 (iters=34)\n",
      "eta=0.149, max_depth=1 | valid_logloss=0.06471 (iters=35)\n",
      "eta=0.149, max_depth=2 | valid_logloss=0.05795 (iters=32)\n",
      "eta=0.149, max_depth=3 | valid_logloss=0.05795 (iters=32)\n",
      "eta=0.149, max_depth=4 | valid_logloss=0.05795 (iters=32)\n",
      "eta=0.149, max_depth=5 | valid_logloss=0.05795 (iters=32)\n",
      "eta=0.158, max_depth=1 | valid_logloss=0.06039 (iters=32)\n",
      "eta=0.158, max_depth=2 | valid_logloss=0.05803 (iters=29)\n",
      "eta=0.158, max_depth=3 | valid_logloss=0.05803 (iters=29)\n",
      "eta=0.158, max_depth=4 | valid_logloss=0.05803 (iters=29)\n",
      "eta=0.158, max_depth=5 | valid_logloss=0.05803 (iters=29)\n",
      "eta=0.168, max_depth=1 | valid_logloss=0.06175 (iters=30)\n",
      "eta=0.168, max_depth=2 | valid_logloss=0.05229 (iters=28)\n",
      "eta=0.168, max_depth=3 | valid_logloss=0.05229 (iters=28)\n",
      "eta=0.168, max_depth=4 | valid_logloss=0.05229 (iters=28)\n",
      "eta=0.168, max_depth=5 | valid_logloss=0.05229 (iters=28)\n",
      "eta=0.178, max_depth=1 | valid_logloss=0.06302 (iters=29)\n",
      "eta=0.178, max_depth=2 | valid_logloss=0.06895 (iters=26)\n",
      "eta=0.178, max_depth=3 | valid_logloss=0.06895 (iters=26)\n",
      "eta=0.178, max_depth=4 | valid_logloss=0.06895 (iters=26)\n",
      "eta=0.178, max_depth=5 | valid_logloss=0.06895 (iters=26)\n",
      "eta=0.188, max_depth=1 | valid_logloss=0.06477 (iters=27)\n",
      "eta=0.188, max_depth=2 | valid_logloss=0.05502 (iters=25)\n",
      "eta=0.188, max_depth=3 | valid_logloss=0.05502 (iters=25)\n",
      "eta=0.188, max_depth=4 | valid_logloss=0.05502 (iters=25)\n",
      "eta=0.188, max_depth=5 | valid_logloss=0.05502 (iters=25)\n",
      "eta=0.198, max_depth=1 | valid_logloss=0.06509 (iters=26)\n",
      "eta=0.198, max_depth=2 | valid_logloss=0.05852 (iters=23)\n",
      "eta=0.198, max_depth=3 | valid_logloss=0.05852 (iters=23)\n",
      "eta=0.198, max_depth=4 | valid_logloss=0.05852 (iters=23)\n",
      "eta=0.198, max_depth=5 | valid_logloss=0.05852 (iters=23)\n",
      "eta=0.208, max_depth=1 | valid_logloss=0.06366 (iters=24)\n",
      "eta=0.208, max_depth=2 | valid_logloss=0.05744 (iters=22)\n",
      "eta=0.208, max_depth=3 | valid_logloss=0.05744 (iters=22)\n",
      "eta=0.208, max_depth=4 | valid_logloss=0.05744 (iters=22)\n",
      "eta=0.208, max_depth=5 | valid_logloss=0.05744 (iters=22)\n",
      "eta=0.218, max_depth=1 | valid_logloss=0.07037 (iters=23)\n",
      "eta=0.218, max_depth=2 | valid_logloss=0.06007 (iters=26)\n",
      "eta=0.218, max_depth=3 | valid_logloss=0.06007 (iters=26)\n",
      "eta=0.218, max_depth=4 | valid_logloss=0.06007 (iters=26)\n",
      "eta=0.218, max_depth=5 | valid_logloss=0.06007 (iters=26)\n",
      "eta=0.228, max_depth=1 | valid_logloss=0.06598 (iters=22)\n",
      "eta=0.228, max_depth=2 | valid_logloss=0.05223 (iters=40)\n",
      "eta=0.228, max_depth=3 | valid_logloss=0.05223 (iters=40)\n",
      "eta=0.228, max_depth=4 | valid_logloss=0.05223 (iters=40)\n",
      "eta=0.228, max_depth=5 | valid_logloss=0.05223 (iters=40)\n",
      "eta=0.238, max_depth=1 | valid_logloss=0.07472 (iters=21)\n",
      "eta=0.238, max_depth=2 | valid_logloss=0.05620 (iters=19)\n",
      "eta=0.238, max_depth=3 | valid_logloss=0.05620 (iters=19)\n",
      "eta=0.238, max_depth=4 | valid_logloss=0.05620 (iters=19)\n",
      "eta=0.238, max_depth=5 | valid_logloss=0.05620 (iters=19)\n",
      "eta=0.248, max_depth=1 | valid_logloss=0.06546 (iters=20)\n",
      "eta=0.248, max_depth=2 | valid_logloss=0.05752 (iters=19)\n",
      "eta=0.248, max_depth=3 | valid_logloss=0.05752 (iters=19)\n",
      "eta=0.248, max_depth=4 | valid_logloss=0.05752 (iters=19)\n",
      "eta=0.248, max_depth=5 | valid_logloss=0.05752 (iters=19)\n",
      "eta=0.257, max_depth=1 | valid_logloss=0.07820 (iters=19)\n",
      "eta=0.257, max_depth=2 | valid_logloss=0.05602 (iters=18)\n",
      "eta=0.257, max_depth=3 | valid_logloss=0.05602 (iters=18)\n",
      "eta=0.257, max_depth=4 | valid_logloss=0.05602 (iters=18)\n",
      "eta=0.257, max_depth=5 | valid_logloss=0.05602 (iters=18)\n",
      "eta=0.267, max_depth=1 | valid_logloss=0.07495 (iters=18)\n",
      "eta=0.267, max_depth=2 | valid_logloss=0.04946 (iters=17)\n",
      "eta=0.267, max_depth=3 | valid_logloss=0.04946 (iters=17)\n",
      "eta=0.267, max_depth=4 | valid_logloss=0.04946 (iters=17)\n",
      "eta=0.267, max_depth=5 | valid_logloss=0.04946 (iters=17)\n",
      "eta=0.277, max_depth=1 | valid_logloss=0.07555 (iters=18)\n",
      "eta=0.277, max_depth=2 | valid_logloss=0.05580 (iters=17)\n",
      "eta=0.277, max_depth=3 | valid_logloss=0.05580 (iters=17)\n",
      "eta=0.277, max_depth=4 | valid_logloss=0.05580 (iters=17)\n",
      "eta=0.277, max_depth=5 | valid_logloss=0.05580 (iters=17)\n",
      "eta=0.287, max_depth=1 | valid_logloss=0.06231 (iters=16)\n"
     ]
    },
    {
     "name": "stdout",
     "output_type": "stream",
     "text": [
      "eta=0.287, max_depth=2 | valid_logloss=0.05924 (iters=16)\n",
      "eta=0.287, max_depth=3 | valid_logloss=0.05924 (iters=16)\n",
      "eta=0.287, max_depth=4 | valid_logloss=0.05924 (iters=16)\n",
      "eta=0.287, max_depth=5 | valid_logloss=0.05924 (iters=16)\n",
      "eta=0.297, max_depth=1 | valid_logloss=0.05928 (iters=16)\n",
      "eta=0.297, max_depth=2 | valid_logloss=0.06279 (iters=15)\n",
      "eta=0.297, max_depth=3 | valid_logloss=0.06279 (iters=15)\n",
      "eta=0.297, max_depth=4 | valid_logloss=0.06279 (iters=15)\n",
      "eta=0.297, max_depth=5 | valid_logloss=0.06279 (iters=15)\n",
      "eta=0.307, max_depth=1 | valid_logloss=0.06229 (iters=16)\n",
      "eta=0.307, max_depth=2 | valid_logloss=0.05412 (iters=29)\n",
      "eta=0.307, max_depth=3 | valid_logloss=0.05412 (iters=29)\n",
      "eta=0.307, max_depth=4 | valid_logloss=0.05412 (iters=29)\n",
      "eta=0.307, max_depth=5 | valid_logloss=0.05412 (iters=29)\n",
      "eta=0.317, max_depth=1 | valid_logloss=0.05958 (iters=14)\n",
      "eta=0.317, max_depth=2 | valid_logloss=0.05486 (iters=14)\n",
      "eta=0.317, max_depth=3 | valid_logloss=0.05486 (iters=14)\n",
      "eta=0.317, max_depth=4 | valid_logloss=0.05486 (iters=14)\n",
      "eta=0.317, max_depth=5 | valid_logloss=0.05486 (iters=14)\n",
      "eta=0.327, max_depth=1 | valid_logloss=0.05529 (iters=15)\n",
      "eta=0.327, max_depth=2 | valid_logloss=0.06211 (iters=14)\n",
      "eta=0.327, max_depth=3 | valid_logloss=0.06211 (iters=14)\n",
      "eta=0.327, max_depth=4 | valid_logloss=0.06211 (iters=14)\n",
      "eta=0.327, max_depth=5 | valid_logloss=0.06211 (iters=14)\n",
      "eta=0.337, max_depth=1 | valid_logloss=0.05675 (iters=14)\n",
      "eta=0.337, max_depth=2 | valid_logloss=0.06638 (iters=14)\n",
      "eta=0.337, max_depth=3 | valid_logloss=0.06638 (iters=14)\n",
      "eta=0.337, max_depth=4 | valid_logloss=0.06638 (iters=14)\n",
      "eta=0.337, max_depth=5 | valid_logloss=0.06638 (iters=14)\n",
      "eta=0.347, max_depth=1 | valid_logloss=0.06043 (iters=14)\n",
      "eta=0.347, max_depth=2 | valid_logloss=0.06806 (iters=13)\n",
      "eta=0.347, max_depth=3 | valid_logloss=0.06806 (iters=13)\n",
      "eta=0.347, max_depth=4 | valid_logloss=0.06806 (iters=13)\n",
      "eta=0.347, max_depth=5 | valid_logloss=0.06806 (iters=13)\n",
      "eta=0.356, max_depth=1 | valid_logloss=0.06648 (iters=17)\n",
      "eta=0.356, max_depth=2 | valid_logloss=0.05663 (iters=13)\n",
      "eta=0.356, max_depth=3 | valid_logloss=0.05663 (iters=13)\n",
      "eta=0.356, max_depth=4 | valid_logloss=0.05663 (iters=13)\n",
      "eta=0.356, max_depth=5 | valid_logloss=0.05663 (iters=13)\n",
      "eta=0.366, max_depth=1 | valid_logloss=0.06717 (iters=12)\n",
      "eta=0.366, max_depth=2 | valid_logloss=0.05202 (iters=12)\n",
      "eta=0.366, max_depth=3 | valid_logloss=0.05202 (iters=12)\n",
      "eta=0.366, max_depth=4 | valid_logloss=0.05202 (iters=12)\n",
      "eta=0.366, max_depth=5 | valid_logloss=0.05202 (iters=12)\n",
      "eta=0.376, max_depth=1 | valid_logloss=0.06134 (iters=13)\n",
      "eta=0.376, max_depth=2 | valid_logloss=0.05611 (iters=12)\n",
      "eta=0.376, max_depth=3 | valid_logloss=0.05611 (iters=12)\n",
      "eta=0.376, max_depth=4 | valid_logloss=0.05611 (iters=12)\n",
      "eta=0.376, max_depth=5 | valid_logloss=0.05611 (iters=12)\n",
      "eta=0.386, max_depth=1 | valid_logloss=0.06100 (iters=12)\n",
      "eta=0.386, max_depth=2 | valid_logloss=0.05560 (iters=12)\n",
      "eta=0.386, max_depth=3 | valid_logloss=0.05560 (iters=12)\n",
      "eta=0.386, max_depth=4 | valid_logloss=0.05560 (iters=12)\n",
      "eta=0.386, max_depth=5 | valid_logloss=0.05560 (iters=12)\n",
      "eta=0.396, max_depth=1 | valid_logloss=0.06246 (iters=12)\n",
      "eta=0.396, max_depth=2 | valid_logloss=0.05144 (iters=13)\n",
      "eta=0.396, max_depth=3 | valid_logloss=0.05144 (iters=13)\n",
      "eta=0.396, max_depth=4 | valid_logloss=0.05144 (iters=13)\n",
      "eta=0.396, max_depth=5 | valid_logloss=0.05144 (iters=13)\n",
      "eta=0.406, max_depth=1 | valid_logloss=0.06028 (iters=12)\n",
      "eta=0.406, max_depth=2 | valid_logloss=0.05877 (iters=11)\n",
      "eta=0.406, max_depth=3 | valid_logloss=0.05877 (iters=11)\n",
      "eta=0.406, max_depth=4 | valid_logloss=0.05877 (iters=11)\n",
      "eta=0.406, max_depth=5 | valid_logloss=0.05877 (iters=11)\n",
      "eta=0.416, max_depth=1 | valid_logloss=0.06683 (iters=11)\n",
      "eta=0.416, max_depth=2 | valid_logloss=0.05491 (iters=10)\n",
      "eta=0.416, max_depth=3 | valid_logloss=0.05491 (iters=10)\n",
      "eta=0.416, max_depth=4 | valid_logloss=0.05491 (iters=10)\n",
      "eta=0.416, max_depth=5 | valid_logloss=0.05491 (iters=10)\n",
      "eta=0.426, max_depth=1 | valid_logloss=0.04639 (iters=11)\n",
      "eta=0.426, max_depth=2 | valid_logloss=0.05355 (iters=9)\n",
      "eta=0.426, max_depth=3 | valid_logloss=0.05355 (iters=9)\n",
      "eta=0.426, max_depth=4 | valid_logloss=0.05355 (iters=9)\n",
      "eta=0.426, max_depth=5 | valid_logloss=0.05355 (iters=9)\n",
      "eta=0.436, max_depth=1 | valid_logloss=0.04462 (iters=11)\n",
      "eta=0.436, max_depth=2 | valid_logloss=0.05307 (iters=9)\n",
      "eta=0.436, max_depth=3 | valid_logloss=0.05307 (iters=9)\n",
      "eta=0.436, max_depth=4 | valid_logloss=0.05307 (iters=9)\n",
      "eta=0.436, max_depth=5 | valid_logloss=0.05307 (iters=9)\n",
      "eta=0.446, max_depth=1 | valid_logloss=0.04688 (iters=31)\n",
      "eta=0.446, max_depth=2 | valid_logloss=0.05088 (iters=10)\n",
      "eta=0.446, max_depth=3 | valid_logloss=0.05088 (iters=10)\n",
      "eta=0.446, max_depth=4 | valid_logloss=0.05088 (iters=10)\n",
      "eta=0.446, max_depth=5 | valid_logloss=0.05088 (iters=10)\n",
      "eta=0.455, max_depth=1 | valid_logloss=0.04189 (iters=21)\n",
      "eta=0.455, max_depth=2 | valid_logloss=0.05641 (iters=9)\n",
      "eta=0.455, max_depth=3 | valid_logloss=0.05641 (iters=9)\n",
      "eta=0.455, max_depth=4 | valid_logloss=0.05641 (iters=9)\n",
      "eta=0.455, max_depth=5 | valid_logloss=0.05641 (iters=9)\n",
      "eta=0.465, max_depth=1 | valid_logloss=0.04503 (iters=10)\n",
      "eta=0.465, max_depth=2 | valid_logloss=0.06833 (iters=8)\n",
      "eta=0.465, max_depth=3 | valid_logloss=0.06833 (iters=8)\n",
      "eta=0.465, max_depth=4 | valid_logloss=0.06833 (iters=8)\n",
      "eta=0.465, max_depth=5 | valid_logloss=0.06833 (iters=8)\n",
      "eta=0.475, max_depth=1 | valid_logloss=0.04287 (iters=20)\n",
      "eta=0.475, max_depth=2 | valid_logloss=0.06653 (iters=8)\n",
      "eta=0.475, max_depth=3 | valid_logloss=0.06653 (iters=8)\n",
      "eta=0.475, max_depth=4 | valid_logloss=0.06653 (iters=8)\n",
      "eta=0.475, max_depth=5 | valid_logloss=0.06653 (iters=8)\n",
      "eta=0.485, max_depth=1 | valid_logloss=0.04528 (iters=9)\n",
      "eta=0.485, max_depth=2 | valid_logloss=0.06466 (iters=8)\n",
      "eta=0.485, max_depth=3 | valid_logloss=0.06466 (iters=8)\n",
      "eta=0.485, max_depth=4 | valid_logloss=0.06466 (iters=8)\n",
      "eta=0.485, max_depth=5 | valid_logloss=0.06466 (iters=8)\n",
      "eta=0.495, max_depth=1 | valid_logloss=0.04372 (iters=9)\n",
      "eta=0.495, max_depth=2 | valid_logloss=0.06342 (iters=7)\n",
      "eta=0.495, max_depth=3 | valid_logloss=0.06342 (iters=7)\n",
      "eta=0.495, max_depth=4 | valid_logloss=0.06342 (iters=7)\n",
      "eta=0.495, max_depth=5 | valid_logloss=0.06342 (iters=7)\n",
      "eta=0.505, max_depth=1 | valid_logloss=0.04224 (iters=9)\n",
      "eta=0.505, max_depth=2 | valid_logloss=0.06166 (iters=7)\n",
      "eta=0.505, max_depth=3 | valid_logloss=0.06166 (iters=7)\n",
      "eta=0.505, max_depth=4 | valid_logloss=0.06166 (iters=7)\n",
      "eta=0.505, max_depth=5 | valid_logloss=0.06166 (iters=7)\n",
      "eta=0.515, max_depth=1 | valid_logloss=0.05106 (iters=9)\n",
      "eta=0.515, max_depth=2 | valid_logloss=0.05998 (iters=7)\n",
      "eta=0.515, max_depth=3 | valid_logloss=0.05998 (iters=7)\n",
      "eta=0.515, max_depth=4 | valid_logloss=0.05998 (iters=7)\n",
      "eta=0.515, max_depth=5 | valid_logloss=0.05998 (iters=7)\n",
      "eta=0.525, max_depth=1 | valid_logloss=0.04985 (iters=9)\n",
      "eta=0.525, max_depth=2 | valid_logloss=0.05482 (iters=7)\n",
      "eta=0.525, max_depth=3 | valid_logloss=0.05482 (iters=7)\n",
      "eta=0.525, max_depth=4 | valid_logloss=0.05482 (iters=7)\n",
      "eta=0.525, max_depth=5 | valid_logloss=0.05482 (iters=7)\n",
      "eta=0.535, max_depth=1 | valid_logloss=0.04686 (iters=8)\n",
      "eta=0.535, max_depth=2 | valid_logloss=0.05335 (iters=7)\n",
      "eta=0.535, max_depth=3 | valid_logloss=0.05335 (iters=7)\n",
      "eta=0.535, max_depth=4 | valid_logloss=0.05335 (iters=7)\n",
      "eta=0.535, max_depth=5 | valid_logloss=0.05335 (iters=7)\n",
      "eta=0.545, max_depth=1 | valid_logloss=0.04545 (iters=8)\n",
      "eta=0.545, max_depth=2 | valid_logloss=0.05212 (iters=7)\n",
      "eta=0.545, max_depth=3 | valid_logloss=0.05212 (iters=7)\n",
      "eta=0.545, max_depth=4 | valid_logloss=0.05212 (iters=7)\n",
      "eta=0.545, max_depth=5 | valid_logloss=0.05212 (iters=7)\n",
      "eta=0.554, max_depth=1 | valid_logloss=0.04748 (iters=20)\n",
      "eta=0.554, max_depth=2 | valid_logloss=0.06127 (iters=7)\n",
      "eta=0.554, max_depth=3 | valid_logloss=0.06127 (iters=7)\n",
      "eta=0.554, max_depth=4 | valid_logloss=0.06127 (iters=7)\n",
      "eta=0.554, max_depth=5 | valid_logloss=0.06127 (iters=7)\n",
      "eta=0.564, max_depth=1 | valid_logloss=0.04462 (iters=8)\n",
      "eta=0.564, max_depth=2 | valid_logloss=0.06155 (iters=7)\n",
      "eta=0.564, max_depth=3 | valid_logloss=0.06155 (iters=7)\n",
      "eta=0.564, max_depth=4 | valid_logloss=0.06155 (iters=7)\n"
     ]
    },
    {
     "name": "stdout",
     "output_type": "stream",
     "text": [
      "eta=0.564, max_depth=5 | valid_logloss=0.06155 (iters=7)\n",
      "eta=0.574, max_depth=1 | valid_logloss=0.04332 (iters=8)\n",
      "eta=0.574, max_depth=2 | valid_logloss=0.04920 (iters=7)\n",
      "eta=0.574, max_depth=3 | valid_logloss=0.04920 (iters=7)\n",
      "eta=0.574, max_depth=4 | valid_logloss=0.04920 (iters=7)\n",
      "eta=0.574, max_depth=5 | valid_logloss=0.04920 (iters=7)\n",
      "eta=0.584, max_depth=1 | valid_logloss=0.04224 (iters=8)\n",
      "eta=0.584, max_depth=2 | valid_logloss=0.05439 (iters=7)\n",
      "eta=0.584, max_depth=3 | valid_logloss=0.05439 (iters=7)\n",
      "eta=0.584, max_depth=4 | valid_logloss=0.05439 (iters=7)\n",
      "eta=0.584, max_depth=5 | valid_logloss=0.05439 (iters=7)\n",
      "eta=0.594, max_depth=1 | valid_logloss=0.04749 (iters=7)\n",
      "eta=0.594, max_depth=2 | valid_logloss=0.05557 (iters=6)\n",
      "eta=0.594, max_depth=3 | valid_logloss=0.05557 (iters=6)\n",
      "eta=0.594, max_depth=4 | valid_logloss=0.05557 (iters=6)\n",
      "eta=0.594, max_depth=5 | valid_logloss=0.05557 (iters=6)\n",
      "eta=0.604, max_depth=1 | valid_logloss=0.04828 (iters=7)\n",
      "eta=0.604, max_depth=2 | valid_logloss=0.05046 (iters=6)\n",
      "eta=0.604, max_depth=3 | valid_logloss=0.05046 (iters=6)\n",
      "eta=0.604, max_depth=4 | valid_logloss=0.05046 (iters=6)\n",
      "eta=0.604, max_depth=5 | valid_logloss=0.05046 (iters=6)\n",
      "eta=0.614, max_depth=1 | valid_logloss=0.04704 (iters=7)\n",
      "eta=0.614, max_depth=2 | valid_logloss=0.05442 (iters=6)\n",
      "eta=0.614, max_depth=3 | valid_logloss=0.05442 (iters=6)\n",
      "eta=0.614, max_depth=4 | valid_logloss=0.05442 (iters=6)\n",
      "eta=0.614, max_depth=5 | valid_logloss=0.05442 (iters=6)\n",
      "eta=0.624, max_depth=1 | valid_logloss=0.05097 (iters=7)\n",
      "eta=0.624, max_depth=2 | valid_logloss=0.05304 (iters=15)\n",
      "eta=0.624, max_depth=3 | valid_logloss=0.05304 (iters=15)\n",
      "eta=0.624, max_depth=4 | valid_logloss=0.05304 (iters=15)\n",
      "eta=0.624, max_depth=5 | valid_logloss=0.05304 (iters=15)\n",
      "eta=0.634, max_depth=1 | valid_logloss=0.04964 (iters=7)\n",
      "eta=0.634, max_depth=2 | valid_logloss=0.05359 (iters=17)\n",
      "eta=0.634, max_depth=3 | valid_logloss=0.05359 (iters=17)\n",
      "eta=0.634, max_depth=4 | valid_logloss=0.05359 (iters=17)\n",
      "eta=0.634, max_depth=5 | valid_logloss=0.05359 (iters=17)\n",
      "eta=0.644, max_depth=1 | valid_logloss=0.04835 (iters=7)\n",
      "eta=0.644, max_depth=2 | valid_logloss=0.04788 (iters=15)\n",
      "eta=0.644, max_depth=3 | valid_logloss=0.04788 (iters=15)\n",
      "eta=0.644, max_depth=4 | valid_logloss=0.04788 (iters=15)\n",
      "eta=0.644, max_depth=5 | valid_logloss=0.04788 (iters=15)\n",
      "eta=0.653, max_depth=1 | valid_logloss=0.04351 (iters=18)\n",
      "eta=0.653, max_depth=2 | valid_logloss=0.05365 (iters=18)\n",
      "eta=0.653, max_depth=3 | valid_logloss=0.05365 (iters=18)\n",
      "eta=0.653, max_depth=4 | valid_logloss=0.05365 (iters=18)\n",
      "eta=0.653, max_depth=5 | valid_logloss=0.05365 (iters=18)\n",
      "eta=0.663, max_depth=1 | valid_logloss=0.04478 (iters=17)\n",
      "eta=0.663, max_depth=2 | valid_logloss=0.05906 (iters=5)\n",
      "eta=0.663, max_depth=3 | valid_logloss=0.05906 (iters=5)\n",
      "eta=0.663, max_depth=4 | valid_logloss=0.05906 (iters=5)\n",
      "eta=0.663, max_depth=5 | valid_logloss=0.05906 (iters=5)\n",
      "eta=0.673, max_depth=1 | valid_logloss=0.04745 (iters=17)\n",
      "eta=0.673, max_depth=2 | valid_logloss=0.05790 (iters=5)\n",
      "eta=0.673, max_depth=3 | valid_logloss=0.05790 (iters=5)\n",
      "eta=0.673, max_depth=4 | valid_logloss=0.05790 (iters=5)\n",
      "eta=0.673, max_depth=5 | valid_logloss=0.05790 (iters=5)\n",
      "eta=0.683, max_depth=1 | valid_logloss=0.04619 (iters=16)\n",
      "eta=0.683, max_depth=2 | valid_logloss=0.05680 (iters=5)\n",
      "eta=0.683, max_depth=3 | valid_logloss=0.05680 (iters=5)\n",
      "eta=0.683, max_depth=4 | valid_logloss=0.05680 (iters=5)\n",
      "eta=0.683, max_depth=5 | valid_logloss=0.05680 (iters=5)\n",
      "eta=0.693, max_depth=1 | valid_logloss=0.04497 (iters=19)\n",
      "eta=0.693, max_depth=2 | valid_logloss=0.04348 (iters=11)\n",
      "eta=0.693, max_depth=3 | valid_logloss=0.04348 (iters=11)\n",
      "eta=0.693, max_depth=4 | valid_logloss=0.04348 (iters=11)\n",
      "eta=0.693, max_depth=5 | valid_logloss=0.04348 (iters=11)\n",
      "eta=0.703, max_depth=1 | valid_logloss=0.04380 (iters=16)\n",
      "eta=0.703, max_depth=2 | valid_logloss=0.04731 (iters=15)\n",
      "eta=0.703, max_depth=3 | valid_logloss=0.04731 (iters=15)\n",
      "eta=0.703, max_depth=4 | valid_logloss=0.04731 (iters=15)\n",
      "eta=0.703, max_depth=5 | valid_logloss=0.04731 (iters=15)\n",
      "eta=0.713, max_depth=1 | valid_logloss=0.04267 (iters=16)\n",
      "eta=0.713, max_depth=2 | valid_logloss=0.04998 (iters=4)\n",
      "eta=0.713, max_depth=3 | valid_logloss=0.04998 (iters=4)\n",
      "eta=0.713, max_depth=4 | valid_logloss=0.04998 (iters=4)\n",
      "eta=0.713, max_depth=5 | valid_logloss=0.04998 (iters=4)\n",
      "eta=0.723, max_depth=1 | valid_logloss=0.04158 (iters=16)\n",
      "eta=0.723, max_depth=2 | valid_logloss=0.05081 (iters=4)\n",
      "eta=0.723, max_depth=3 | valid_logloss=0.05081 (iters=4)\n",
      "eta=0.723, max_depth=4 | valid_logloss=0.05081 (iters=4)\n",
      "eta=0.723, max_depth=5 | valid_logloss=0.05081 (iters=4)\n",
      "eta=0.733, max_depth=1 | valid_logloss=0.04052 (iters=19)\n",
      "eta=0.733, max_depth=2 | valid_logloss=0.04982 (iters=4)\n",
      "eta=0.733, max_depth=3 | valid_logloss=0.04982 (iters=4)\n",
      "eta=0.733, max_depth=4 | valid_logloss=0.04982 (iters=4)\n",
      "eta=0.733, max_depth=5 | valid_logloss=0.04982 (iters=4)\n",
      "eta=0.743, max_depth=1 | valid_logloss=0.03950 (iters=18)\n",
      "eta=0.743, max_depth=2 | valid_logloss=0.04855 (iters=4)\n",
      "eta=0.743, max_depth=3 | valid_logloss=0.04855 (iters=4)\n",
      "eta=0.743, max_depth=4 | valid_logloss=0.04855 (iters=4)\n",
      "eta=0.743, max_depth=5 | valid_logloss=0.04855 (iters=4)\n",
      "eta=0.752, max_depth=1 | valid_logloss=0.04972 (iters=14)\n",
      "eta=0.752, max_depth=2 | valid_logloss=0.04763 (iters=4)\n",
      "eta=0.752, max_depth=3 | valid_logloss=0.04763 (iters=4)\n",
      "eta=0.752, max_depth=4 | valid_logloss=0.04763 (iters=4)\n",
      "eta=0.752, max_depth=5 | valid_logloss=0.04763 (iters=4)\n",
      "eta=0.762, max_depth=1 | valid_logloss=0.05366 (iters=5)\n",
      "eta=0.762, max_depth=2 | valid_logloss=0.04675 (iters=4)\n",
      "eta=0.762, max_depth=3 | valid_logloss=0.04675 (iters=4)\n",
      "eta=0.762, max_depth=4 | valid_logloss=0.04675 (iters=4)\n",
      "eta=0.762, max_depth=5 | valid_logloss=0.04675 (iters=4)\n",
      "eta=0.772, max_depth=1 | valid_logloss=0.05269 (iters=5)\n",
      "eta=0.772, max_depth=2 | valid_logloss=0.04591 (iters=4)\n",
      "eta=0.772, max_depth=3 | valid_logloss=0.04591 (iters=4)\n",
      "eta=0.772, max_depth=4 | valid_logloss=0.04591 (iters=4)\n",
      "eta=0.772, max_depth=5 | valid_logloss=0.04591 (iters=4)\n",
      "eta=0.782, max_depth=1 | valid_logloss=0.05175 (iters=5)\n",
      "eta=0.782, max_depth=2 | valid_logloss=0.04510 (iters=4)\n",
      "eta=0.782, max_depth=3 | valid_logloss=0.04510 (iters=4)\n",
      "eta=0.782, max_depth=4 | valid_logloss=0.04510 (iters=4)\n",
      "eta=0.782, max_depth=5 | valid_logloss=0.04510 (iters=4)\n",
      "eta=0.792, max_depth=1 | valid_logloss=0.05902 (iters=5)\n",
      "eta=0.792, max_depth=2 | valid_logloss=0.04432 (iters=4)\n",
      "eta=0.792, max_depth=3 | valid_logloss=0.04432 (iters=4)\n",
      "eta=0.792, max_depth=4 | valid_logloss=0.04432 (iters=4)\n",
      "eta=0.792, max_depth=5 | valid_logloss=0.04432 (iters=4)\n",
      "eta=0.802, max_depth=1 | valid_logloss=0.05791 (iters=5)\n",
      "eta=0.802, max_depth=2 | valid_logloss=0.04357 (iters=4)\n",
      "eta=0.802, max_depth=3 | valid_logloss=0.04357 (iters=4)\n",
      "eta=0.802, max_depth=4 | valid_logloss=0.04357 (iters=4)\n",
      "eta=0.802, max_depth=5 | valid_logloss=0.04357 (iters=4)\n",
      "eta=0.812, max_depth=1 | valid_logloss=0.05683 (iters=5)\n",
      "eta=0.812, max_depth=2 | valid_logloss=0.04286 (iters=4)\n",
      "eta=0.812, max_depth=3 | valid_logloss=0.04286 (iters=4)\n",
      "eta=0.812, max_depth=4 | valid_logloss=0.04286 (iters=4)\n",
      "eta=0.812, max_depth=5 | valid_logloss=0.04286 (iters=4)\n",
      "eta=0.822, max_depth=1 | valid_logloss=0.04846 (iters=11)\n",
      "eta=0.822, max_depth=2 | valid_logloss=0.04217 (iters=4)\n",
      "eta=0.822, max_depth=3 | valid_logloss=0.04217 (iters=4)\n",
      "eta=0.822, max_depth=4 | valid_logloss=0.04217 (iters=4)\n",
      "eta=0.822, max_depth=5 | valid_logloss=0.04217 (iters=4)\n",
      "eta=0.832, max_depth=1 | valid_logloss=0.04766 (iters=11)\n",
      "eta=0.832, max_depth=2 | valid_logloss=0.04151 (iters=4)\n",
      "eta=0.832, max_depth=3 | valid_logloss=0.04151 (iters=4)\n",
      "eta=0.832, max_depth=4 | valid_logloss=0.04151 (iters=4)\n",
      "eta=0.832, max_depth=5 | valid_logloss=0.04151 (iters=4)\n",
      "eta=0.842, max_depth=1 | valid_logloss=0.05179 (iters=9)\n",
      "eta=0.842, max_depth=2 | valid_logloss=0.04088 (iters=4)\n",
      "eta=0.842, max_depth=3 | valid_logloss=0.04088 (iters=4)\n",
      "eta=0.842, max_depth=4 | valid_logloss=0.04088 (iters=4)\n",
      "eta=0.842, max_depth=5 | valid_logloss=0.04088 (iters=4)\n",
      "eta=0.851, max_depth=1 | valid_logloss=0.04936 (iters=13)\n",
      "eta=0.851, max_depth=2 | valid_logloss=0.04027 (iters=4)\n",
      "eta=0.851, max_depth=3 | valid_logloss=0.04027 (iters=4)\n"
     ]
    },
    {
     "name": "stdout",
     "output_type": "stream",
     "text": [
      "eta=0.851, max_depth=4 | valid_logloss=0.04027 (iters=4)\n",
      "eta=0.851, max_depth=5 | valid_logloss=0.04027 (iters=4)\n",
      "eta=0.861, max_depth=1 | valid_logloss=0.05317 (iters=3)\n",
      "eta=0.861, max_depth=2 | valid_logloss=0.03969 (iters=4)\n",
      "eta=0.861, max_depth=3 | valid_logloss=0.03969 (iters=4)\n",
      "eta=0.861, max_depth=4 | valid_logloss=0.03969 (iters=4)\n",
      "eta=0.861, max_depth=5 | valid_logloss=0.03969 (iters=4)\n",
      "eta=0.871, max_depth=1 | valid_logloss=0.05219 (iters=3)\n",
      "eta=0.871, max_depth=2 | valid_logloss=0.05970 (iters=3)\n",
      "eta=0.871, max_depth=3 | valid_logloss=0.05970 (iters=3)\n",
      "eta=0.871, max_depth=4 | valid_logloss=0.05970 (iters=3)\n",
      "eta=0.871, max_depth=5 | valid_logloss=0.05970 (iters=3)\n",
      "eta=0.881, max_depth=1 | valid_logloss=0.05124 (iters=3)\n",
      "eta=0.881, max_depth=2 | valid_logloss=0.03163 (iters=9)\n",
      "eta=0.881, max_depth=3 | valid_logloss=0.03163 (iters=9)\n",
      "eta=0.881, max_depth=4 | valid_logloss=0.03163 (iters=9)\n",
      "eta=0.881, max_depth=5 | valid_logloss=0.03163 (iters=9)\n",
      "eta=0.891, max_depth=1 | valid_logloss=0.05033 (iters=3)\n",
      "eta=0.891, max_depth=2 | valid_logloss=0.03119 (iters=6)\n",
      "eta=0.891, max_depth=3 | valid_logloss=0.03119 (iters=6)\n",
      "eta=0.891, max_depth=4 | valid_logloss=0.03119 (iters=6)\n",
      "eta=0.891, max_depth=5 | valid_logloss=0.03119 (iters=6)\n",
      "eta=0.901, max_depth=1 | valid_logloss=0.04945 (iters=3)\n",
      "eta=0.901, max_depth=2 | valid_logloss=0.03075 (iters=4)\n",
      "eta=0.901, max_depth=3 | valid_logloss=0.03075 (iters=4)\n",
      "eta=0.901, max_depth=4 | valid_logloss=0.03075 (iters=4)\n",
      "eta=0.901, max_depth=5 | valid_logloss=0.03075 (iters=4)\n",
      "eta=0.911, max_depth=1 | valid_logloss=0.04860 (iters=3)\n",
      "eta=0.911, max_depth=2 | valid_logloss=0.03034 (iters=4)\n",
      "eta=0.911, max_depth=3 | valid_logloss=0.03034 (iters=4)\n",
      "eta=0.911, max_depth=4 | valid_logloss=0.03034 (iters=4)\n",
      "eta=0.911, max_depth=5 | valid_logloss=0.03034 (iters=4)\n",
      "eta=0.921, max_depth=1 | valid_logloss=0.04778 (iters=3)\n",
      "eta=0.921, max_depth=2 | valid_logloss=0.02995 (iters=4)\n",
      "eta=0.921, max_depth=3 | valid_logloss=0.02995 (iters=4)\n",
      "eta=0.921, max_depth=4 | valid_logloss=0.02995 (iters=4)\n",
      "eta=0.921, max_depth=5 | valid_logloss=0.02995 (iters=4)\n",
      "eta=0.931, max_depth=1 | valid_logloss=0.04699 (iters=3)\n",
      "eta=0.931, max_depth=2 | valid_logloss=0.02957 (iters=4)\n",
      "eta=0.931, max_depth=3 | valid_logloss=0.02957 (iters=4)\n",
      "eta=0.931, max_depth=4 | valid_logloss=0.02957 (iters=4)\n",
      "eta=0.931, max_depth=5 | valid_logloss=0.02957 (iters=4)\n",
      "eta=0.941, max_depth=1 | valid_logloss=0.04623 (iters=3)\n",
      "eta=0.941, max_depth=2 | valid_logloss=0.04342 (iters=4)\n",
      "eta=0.941, max_depth=3 | valid_logloss=0.04342 (iters=4)\n",
      "eta=0.941, max_depth=4 | valid_logloss=0.04342 (iters=4)\n",
      "eta=0.941, max_depth=5 | valid_logloss=0.04342 (iters=4)\n",
      "eta=0.950, max_depth=1 | valid_logloss=0.04549 (iters=3)\n",
      "eta=0.950, max_depth=2 | valid_logloss=0.04308 (iters=4)\n",
      "eta=0.950, max_depth=3 | valid_logloss=0.04308 (iters=4)\n",
      "eta=0.950, max_depth=4 | valid_logloss=0.04308 (iters=4)\n",
      "eta=0.950, max_depth=5 | valid_logloss=0.04308 (iters=4)\n",
      "eta=0.960, max_depth=1 | valid_logloss=0.04478 (iters=3)\n",
      "eta=0.960, max_depth=2 | valid_logloss=0.04276 (iters=4)\n",
      "eta=0.960, max_depth=3 | valid_logloss=0.04276 (iters=4)\n",
      "eta=0.960, max_depth=4 | valid_logloss=0.04276 (iters=4)\n",
      "eta=0.960, max_depth=5 | valid_logloss=0.04276 (iters=4)\n",
      "eta=0.970, max_depth=1 | valid_logloss=0.04410 (iters=3)\n",
      "eta=0.970, max_depth=2 | valid_logloss=0.04246 (iters=4)\n",
      "eta=0.970, max_depth=3 | valid_logloss=0.04246 (iters=4)\n",
      "eta=0.970, max_depth=4 | valid_logloss=0.04246 (iters=4)\n",
      "eta=0.970, max_depth=5 | valid_logloss=0.04246 (iters=4)\n",
      "eta=0.980, max_depth=1 | valid_logloss=0.03238 (iters=14)\n",
      "eta=0.980, max_depth=2 | valid_logloss=0.04260 (iters=3)\n",
      "eta=0.980, max_depth=3 | valid_logloss=0.04260 (iters=3)\n",
      "eta=0.980, max_depth=4 | valid_logloss=0.04260 (iters=3)\n",
      "eta=0.980, max_depth=5 | valid_logloss=0.04260 (iters=3)\n",
      "eta=0.990, max_depth=1 | valid_logloss=0.04281 (iters=3)\n",
      "eta=0.990, max_depth=2 | valid_logloss=0.03076 (iters=10)\n",
      "eta=0.990, max_depth=3 | valid_logloss=0.03076 (iters=10)\n",
      "eta=0.990, max_depth=4 | valid_logloss=0.03076 (iters=10)\n",
      "eta=0.990, max_depth=5 | valid_logloss=0.03076 (iters=10)\n"
     ]
    }
   ],
   "source": [
    "# Perform grid search\n",
    "df_grid_loss = pd.DataFrame(columns = ['eta', 'max_depth', 'valid_loss'], \n",
    "                            index = range(len(grid_param)))\n",
    "i = 0\n",
    "for eta, max_depth in grid_param:\n",
    "    param[0] = ('eta', eta)\n",
    "    param[1] = ('max_depth', max_depth)\n",
    "    \n",
    "    xgb_clf = xgb.train(param, dtrain, \n",
    "                        num_boost_round = 5000, \n",
    "                        evals = valid_list, \n",
    "                        early_stopping_rounds = 10, \n",
    "                        verbose_eval = False)\n",
    "    \n",
    "    print(\"eta={:.3f}, max_depth={} | valid_logloss={:.5f} (iters={})\".format(eta, \n",
    "                                                                              max_depth, \n",
    "                                                                              xgb_clf.best_score, \n",
    "                                                                              xgb_clf.best_iteration))\n",
    "    df_grid_loss.iloc[i,:] = [eta, max_depth, xgb_clf.best_score]\n",
    "    i += 1"
   ]
  },
  {
   "cell_type": "code",
   "execution_count": 196,
   "metadata": {
    "ExecuteTime": {
     "end_time": "2021-02-25T02:28:25.130717Z",
     "start_time": "2021-02-25T02:28:25.122732Z"
    },
    "code_folding": [
     0
    ]
   },
   "outputs": [
    {
     "name": "stdout",
     "output_type": "stream",
     "text": [
      "Best parameters:\n",
      "- Best eta = 0.931\n",
      "- Best max_depth = 2\n",
      "- Best valid loss = 0.02957\n"
     ]
    }
   ],
   "source": [
    "# Display grid search results\n",
    "data_out = 'data_xgb_10LungCarcinoma'\n",
    "df_grid_loss = pd.read_csv(os.path.join(data_out, 'df_grid_loss.csv'))\n",
    "df_grid_loss[\"valid_loss\"] = df_grid_loss[\"valid_loss\"].astype('float64')\n",
    "df_grid_loss[\"eta\"] = df_grid_loss[\"eta\"].astype('float64')\n",
    "df_grid_loss[\"max_depth\"] = df_grid_loss[\"max_depth\"].astype('int')\n",
    "\n",
    "idx = df_grid_loss.valid_loss.idxmin()\n",
    "best_eta   = df_grid_loss.iloc[idx, 0]\n",
    "best_depth = df_grid_loss.iloc[idx, 1]\n",
    "best_loss  = df_grid_loss.iloc[idx, 2]\n",
    "print(\"Best parameters:\")\n",
    "print(\"- Best eta = {:.3f}\".format(best_eta))\n",
    "print(\"- Best max_depth = {}\".format(best_depth))\n",
    "print(\"- Best valid loss = {}\".format(best_loss))"
   ]
  },
  {
   "cell_type": "code",
   "execution_count": 197,
   "metadata": {
    "ExecuteTime": {
     "end_time": "2021-02-25T02:28:49.869498Z",
     "start_time": "2021-02-25T02:28:49.747250Z"
    },
    "code_folding": [
     0
    ]
   },
   "outputs": [
    {
     "data": {
      "image/png": "[encoded data removed]",
      "text/plain": [
       "<Figure size 576x432 with 1 Axes>"
      ]
     },
     "metadata": {
      "needs_background": "light"
     },
     "output_type": "display_data"
    }
   ],
   "source": [
    "# Plot Loss vs point in grid search\n",
    "data_out = 'data_xgb_10LungCarcinoma'\n",
    "df_grid_loss = pd.read_csv(os.path.join(data_out, 'df_grid_loss.csv'))\n",
    "fig, axes = plt.subplots(figsize=(8,6))\n",
    "axes.scatter(df_grid_loss.index, df_grid_loss['valid_loss'])\n",
    "axes.plot(df_grid_loss.index, df_grid_loss['valid_loss'])\n",
    "axes.set_xlabel(\"grid search point\")\n",
    "axes.set_ylabel(\"Valid Logloss\")\n",
    "plt.show()"
   ]
  },
  {
   "cell_type": "code",
   "execution_count": 198,
   "metadata": {
    "ExecuteTime": {
     "end_time": "2021-02-25T02:28:54.437969Z",
     "start_time": "2021-02-25T02:28:53.122547Z"
    },
    "code_folding": [
     0
    ]
   },
   "outputs": [
    {
     "name": "stdout",
     "output_type": "stream",
     "text": [
      "[0]\ttrain-logloss:0.20210\tvalid-logloss:0.26430\n",
      "Multiple eval metrics have been passed: 'valid-logloss' will be used for early stopping.\n",
      "\n",
      "Will train until valid-logloss hasn't improved in 10 rounds.\n",
      "[1]\ttrain-logloss:0.09403\tvalid-logloss:0.13412\n",
      "[2]\ttrain-logloss:0.05447\tvalid-logloss:0.07305\n",
      "[3]\ttrain-logloss:0.03507\tvalid-logloss:0.04538\n",
      "[4]\ttrain-logloss:0.02441\tvalid-logloss:0.02957\n",
      "[5]\ttrain-logloss:0.02441\tvalid-logloss:0.02959\n",
      "[6]\ttrain-logloss:0.02441\tvalid-logloss:0.02960\n",
      "[7]\ttrain-logloss:0.02441\tvalid-logloss:0.02960\n",
      "[8]\ttrain-logloss:0.02441\tvalid-logloss:0.02960\n",
      "[9]\ttrain-logloss:0.02441\tvalid-logloss:0.02960\n",
      "[10]\ttrain-logloss:0.02441\tvalid-logloss:0.02960\n",
      "[11]\ttrain-logloss:0.02441\tvalid-logloss:0.02960\n",
      "[12]\ttrain-logloss:0.02441\tvalid-logloss:0.02960\n",
      "[13]\ttrain-logloss:0.02441\tvalid-logloss:0.02960\n",
      "[14]\ttrain-logloss:0.02441\tvalid-logloss:0.02960\n",
      "Stopping. Best iteration:\n",
      "[4]\ttrain-logloss:0.02441\tvalid-logloss:0.02957\n",
      "\n"
     ]
    }
   ],
   "source": [
    "# Train with best hyperparameters\n",
    "param[0] = ('eta', best_eta)\n",
    "param[1] = ('max_depth', best_depth)\n",
    "\n",
    "evals_result = {}\n",
    "xgb_clf = xgb.train(param, dtrain, \n",
    "                    num_boost_round = 5000, \n",
    "                    evals = valid_list, \n",
    "                    early_stopping_rounds = 10, \n",
    "                    verbose_eval = True, \n",
    "                    evals_result=evals_result)"
   ]
  },
  {
   "cell_type": "code",
   "execution_count": 199,
   "metadata": {
    "ExecuteTime": {
     "end_time": "2021-02-25T02:29:01.130838Z",
     "start_time": "2021-02-25T02:29:01.007677Z"
    },
    "code_folding": [
     0
    ]
   },
   "outputs": [
    {
     "data": {
      "image/png": "[encoded data removed]",
      "text/plain": [
       "<Figure size 432x288 with 1 Axes>"
      ]
     },
     "metadata": {
      "needs_background": "light"
     },
     "output_type": "display_data"
    }
   ],
   "source": [
    "# Plot of train/valid loss vs iter\n",
    "fig, axes = plt.subplots(figsize=(6,4))\n",
    "axes.plot(evals_result['train']['logloss'], label=\"train\")\n",
    "axes.plot(evals_result['valid']['logloss'], label=\"valid\")\n",
    "axes.legend()\n",
    "axes.set_ylabel(\"Logloss\")\n",
    "axes.set_xlabel(\"iteration\")\n",
    "# axes.set_xticks(np.arange(0, len(evals_result['train']['logloss']), 1))\n",
    "plt.show()"
   ]
  },
  {
   "cell_type": "code",
   "execution_count": 203,
   "metadata": {
    "ExecuteTime": {
     "end_time": "2021-02-25T02:29:41.235849Z",
     "start_time": "2021-02-25T02:29:40.482624Z"
    },
    "code_folding": [
     0
    ]
   },
   "outputs": [
    {
     "data": {
      "text/plain": [
       "<AxesSubplot:>"
      ]
     },
     "execution_count": 203,
     "metadata": {},
     "output_type": "execute_result"
    },
    {
     "data": {
      "image/png": "[encoded data removed]",
      "text/plain": [
       "<Figure size 1152x864 with 1 Axes>"
      ]
     },
     "metadata": {
      "needs_background": "light"
     },
     "output_type": "display_data"
    }
   ],
   "source": [
    "# Plot a tree\n",
    "fig, axes = plt.subplots(figsize=(16,12))\n",
    "plot_tree(xgb_clf, ax=axes, num_trees=1)"
   ]
  },
  {
   "cell_type": "code",
   "execution_count": 47,
   "metadata": {
    "ExecuteTime": {
     "end_time": "2021-02-03T02:15:55.995265Z",
     "start_time": "2021-02-03T02:15:55.991029Z"
    },
    "code_folding": [
     0
    ]
   },
   "outputs": [
    {
     "name": "stdout",
     "output_type": "stream",
     "text": [
      "model saved at: 'data_xgb_10LungCarcinoma/xgb_model_val.json'\n",
      "best params saved at: 'data_xgb_10LungCarcinoma/xgb_best_params_val.json'\n"
     ]
    }
   ],
   "source": [
    "# Save model and model's best params\n",
    "data_out = 'data_xgb_10LungCarcinoma'\n",
    "xgb_clf.save_model(os.path.join(data_out, 'xgb_model_val.json'))\n",
    "print(\"model saved at: '{}'\".format(os.path.join(data_out, 'xgb_model_val.json')))\n",
    "\n",
    "best_params = {}\n",
    "best_params['best_eta'] = best_eta\n",
    "best_params['best_depth'] = int(best_depth)\n",
    "with open(os.path.join(data_out, 'xgb_best_params_val.json'), 'w') as f:\n",
    "    json.dump(best_params, f)\n",
    "print(\"best params saved at: '{}'\".format(os.path.join(data_out, 'xgb_best_params_val.json')))"
   ]
  },
  {
   "cell_type": "code",
   "execution_count": 48,
   "metadata": {
    "ExecuteTime": {
     "end_time": "2021-02-03T02:16:45.175952Z",
     "start_time": "2021-02-03T02:16:45.149224Z"
    },
    "code_folding": [
     0
    ]
   },
   "outputs": [
    {
     "name": "stdout",
     "output_type": "stream",
     "text": [
      "feature map saved at: 'data_xgb_10LungCarcinoma/xgb_model_fmap.txt'\n"
     ]
    }
   ],
   "source": [
    "# Save feature map\n",
    "def ceate_feature_map(features, data_out):\n",
    "    f = open(os.path.join(data_out, 'xgb_model_fmap.txt'), 'w')\n",
    "    i = 0\n",
    "    for feat in features:\n",
    "        f.write('{0}\\t{1}\\tq\\n'.format(i, feat))\n",
    "        i = i + 1\n",
    "    f.close()\n",
    "\n",
    "data_out = 'data_xgb_10LungCarcinoma'\n",
    "ceate_feature_map(cols_all, data_out)\n",
    "print(\"feature map saved at: '{}'\".format(os.path.join(data_out, 'xgb_model_fmap.txt')))"
   ]
  },
  {
   "cell_type": "code",
   "execution_count": 49,
   "metadata": {
    "ExecuteTime": {
     "end_time": "2021-02-03T02:18:12.713590Z",
     "start_time": "2021-02-03T02:18:12.634449Z"
    },
    "code_folding": [
     0
    ]
   },
   "outputs": [
    {
     "name": "stdout",
     "output_type": "stream",
     "text": [
      "model results saved at: 'data_xgb_10LungCarcinoma/results_target_xgb_val.csv'\n"
     ]
    },
    {
     "data": {
      "text/html": [
       "<div>\n",
       "<style scoped>\n",
       "    .dataframe tbody tr th:only-of-type {\n",
       "        vertical-align: middle;\n",
       "    }\n",
       "\n",
       "    .dataframe tbody tr th {\n",
       "        vertical-align: top;\n",
       "    }\n",
       "\n",
       "    .dataframe thead th {\n",
       "        text-align: right;\n",
       "    }\n",
       "</style>\n",
       "<table border=\"1\" class=\"dataframe\">\n",
       "  <thead>\n",
       "    <tr style=\"text-align: right;\">\n",
       "      <th></th>\n",
       "      <th>accuracy</th>\n",
       "      <th>roc_auc</th>\n",
       "    </tr>\n",
       "  </thead>\n",
       "  <tbody>\n",
       "    <tr>\n",
       "      <th>train</th>\n",
       "      <td>1</td>\n",
       "      <td>1</td>\n",
       "    </tr>\n",
       "    <tr>\n",
       "      <th>valid</th>\n",
       "      <td>1</td>\n",
       "      <td>1</td>\n",
       "    </tr>\n",
       "    <tr>\n",
       "      <th>test</th>\n",
       "      <td>0.916667</td>\n",
       "      <td>0.9</td>\n",
       "    </tr>\n",
       "  </tbody>\n",
       "</table>\n",
       "</div>"
      ],
      "text/plain": [
       "       accuracy roc_auc\n",
       "train         1       1\n",
       "valid         1       1\n",
       "test   0.916667     0.9"
      ]
     },
     "execution_count": 49,
     "metadata": {},
     "output_type": "execute_result"
    }
   ],
   "source": [
    "# Find MSE, R2, Accuracy, etc...\n",
    "data_out = 'data_xgb_10LungCarcinoma'\n",
    "model = xgb.Booster(model_file=os.path.join(data_out, 'xgb_model_val.json'))\n",
    "df_results = pd.DataFrame(index=['train', 'valid', 'test'], \n",
    "                           columns=['accuracy', 'roc_auc'])\n",
    "\n",
    "ypred = model.predict(dtrain)\n",
    "ypred = ypred.round().astype(int)\n",
    "df_results.loc['train', 'accuracy'] = accuracy_score(ytrain, ypred)\n",
    "df_results.loc['train', 'roc_auc']  = roc_auc_score(ytrain, ypred)\n",
    "\n",
    "ypred = model.predict(dvalid)\n",
    "ypred = ypred.round().astype(int)\n",
    "df_results.loc['valid', 'accuracy'] = accuracy_score(yvalid, ypred)\n",
    "df_results.loc['valid', 'roc_auc']  = roc_auc_score(yvalid, ypred)\n",
    "\n",
    "ypred = model.predict(dtest)\n",
    "ypred = ypred.round().astype(int)\n",
    "df_results.loc['test', 'accuracy'] = accuracy_score(ytest, ypred)\n",
    "df_results.loc['test', 'roc_auc']  = roc_auc_score(ytest, ypred)\n",
    "\n",
    "# Save data\n",
    "df_results.to_csv(os.path.join(data_out, 'results_target_xgb_val.csv'), index=True)\n",
    "print(\"model results saved at: '{}'\".format(os.path.join(data_out, 'results_target_xgb_val.csv')))\n",
    "df_results.head()"
   ]
  },
  {
   "cell_type": "code",
   "execution_count": 51,
   "metadata": {
    "ExecuteTime": {
     "end_time": "2021-02-03T02:33:45.478465Z",
     "start_time": "2021-02-03T02:27:35.008732Z"
    },
    "code_folding": [
     0
    ]
   },
   "outputs": [
    {
     "data": {
      "application/vnd.jupyter.widget-view+json": {
       "model_id": "a96e675b20b64485be647de3256549ac",
       "version_major": 2,
       "version_minor": 0
      },
      "text/plain": [
       "HBox(children=(HTML(value='Partitions loop'), FloatProgress(value=0.0), HTML(value='')))"
      ]
     },
     "metadata": {},
     "output_type": "display_data"
    },
    {
     "name": "stdout",
     "output_type": "stream",
     "text": [
      "\n"
     ]
    }
   ],
   "source": [
    "# Find Accuracy +/- STD\n",
    "data_out = 'data_xgb_10LungCarcinoma'\n",
    "df_results = pd.DataFrame(columns=['train_acc', 'valid_acc', 'test_acc', 'train_roc', 'valid_roc', 'test_roc'])\n",
    "\n",
    "with open(os.path.join(data_out, 'xgb_best_params_val.json')) as f:\n",
    "    best_params = json.load(f)\n",
    "param = [('eta', best_params['best_eta']), \n",
    "         ('max_depth', best_params['best_depth']), \n",
    "         ('objective', 'binary:logistic'), \n",
    "         ('nthread', 16),\n",
    "         ('eval_metric', 'logloss')\n",
    "]\n",
    "\n",
    "partitions = 100\n",
    "iterator = tqdm.notebook.tqdm(range(1, partitions + 1), desc='Partitions loop')\n",
    "for n in iterator:\n",
    "    split_data(X, y, seed1=seed1[n], seed2=seed2[n])\n",
    "    \n",
    "# .build DMatrices\n",
    "    dtrain = xgb.DMatrix(data=xtrain, label=ytrain, nthread=16)\n",
    "    dvalid = xgb.DMatrix(data=xvalid, label=yvalid, nthread=16)\n",
    "    dtest  = xgb.DMatrix(data=xtest,  label=ytest,  nthread=16)\n",
    "    valid_list = [(dtrain, 'train'), (dvalid, 'valid')]\n",
    "\n",
    "# .train model\n",
    "    evals_result = {}\n",
    "    model = xgb.train(param, dtrain, \n",
    "                      num_boost_round = 5000, \n",
    "                      evals = valid_list, \n",
    "                      early_stopping_rounds = 20, \n",
    "                      verbose_eval = False, \n",
    "                      evals_result=evals_result)\n",
    "    \n",
    "# .compute/save accuracy\n",
    "    ypred = model.predict(dtrain)\n",
    "    ypred = ypred.round().astype(int)\n",
    "    df_results.loc[n, 'train_acc'] = accuracy_score(ytrain, ypred)\n",
    "    df_results.loc[n, 'train_roc']  = roc_auc_score(ytrain, ypred)\n",
    "\n",
    "    ypred = model.predict(dvalid)\n",
    "    ypred = ypred.round().astype(int)\n",
    "    df_results.loc[n, 'valid_acc'] = accuracy_score(yvalid, ypred)\n",
    "    df_results.loc[n, 'valid_roc']  = roc_auc_score(yvalid, ypred)\n",
    "\n",
    "    ypred = model.predict(dtest)\n",
    "    ypred = ypred.round().astype(int)\n",
    "    df_results.loc[n, 'test_acc'] = accuracy_score(ytest, ypred)\n",
    "    df_results.loc[n, 'test_roc']  = roc_auc_score(ytest, ypred)\n",
    "\n",
    "    model.save_model(os.path.join(data_out, 'xgb_model_val_'+str(n)+'.json'))\n",
    "    df_results.to_csv(os.path.join(data_out, 'accuracy10_xgb_val.csv'), index=None)"
   ]
  },
  {
   "cell_type": "code",
   "execution_count": 52,
   "metadata": {
    "ExecuteTime": {
     "end_time": "2021-02-03T02:33:52.887616Z",
     "start_time": "2021-02-03T02:33:52.881881Z"
    },
    "code_folding": [
     0
    ]
   },
   "outputs": [
    {
     "name": "stdout",
     "output_type": "stream",
     "text": [
      "Train accuracy = 1.000 +/- 0.000\n",
      "Valid accuracy = 0.930 +/- 0.060\n",
      "Test accuracy = 0.928 +/- 0.057\n"
     ]
    }
   ],
   "source": [
    "# Display results\n",
    "data_out = 'data_xgb_10LungCarcinoma'\n",
    "accuracy_xgb = pd.read_csv(os.path.join(data_out, 'accuracy_xgb_val.csv'))\n",
    "print(\"Train accuracy = {:.3f} +/- {:.3f}\".format(accuracy_xgb['train_acc'].mean(), \n",
    "                                                  accuracy_xgb['train_acc'].std()))\n",
    "print(\"Valid accuracy = {:.3f} +/- {:.3f}\".format(accuracy_xgb['valid_acc'].mean(), \n",
    "                                                  accuracy_xgb['valid_acc'].std()))\n",
    "print(\"Test accuracy = {:.3f} +/- {:.3f}\".format(accuracy_xgb['test_acc'].mean(), \n",
    "                                                 accuracy_xgb['test_acc'].std()))"
   ]
  },
  {
   "cell_type": "markdown",
   "metadata": {},
   "source": [
    "* ### Lockdown"
   ]
  },
  {
   "cell_type": "code",
   "execution_count": 22,
   "metadata": {
    "ExecuteTime": {
     "end_time": "2021-03-02T17:36:36.388971Z",
     "start_time": "2021-03-02T17:36:36.386623Z"
    },
    "code_folding": [
     0
    ]
   },
   "outputs": [],
   "source": [
    "# Normalize Data Set\n",
    "def normalize_data():\n",
    "    \"\"\"\n",
    "    \"\"\"\n",
    "    global xtrain, xvalid, xtest\n",
    "    scaler = StandardScaler()\n",
    "    scaler.fit(xtrain.numpy())\n",
    "    xtrain = torch.from_numpy(scaler.transform(xtrain.numpy()))\n",
    "    xvalid = torch.from_numpy(scaler.transform(xvalid.numpy()))\n",
    "    xtest = torch.from_numpy(scaler.transform(xtest.numpy()))"
   ]
  },
  {
   "cell_type": "code",
   "execution_count": 23,
   "metadata": {
    "ExecuteTime": {
     "end_time": "2021-03-02T17:36:37.908512Z",
     "start_time": "2021-03-02T17:36:37.905274Z"
    },
    "code_folding": [
     0
    ]
   },
   "outputs": [],
   "source": [
    "# Save output data\n",
    "def save_output(data_out, f1, f2, f3, new_folder=False):\n",
    "    \"\"\"\n",
    "    \"\"\"\n",
    "# Save relevant data\n",
    "    if new_folder == True:\n",
    "        dirs = os.listdir()\n",
    "        if data_out in dirs:\n",
    "            print(\"'{}' directory deleted.\".format(data_out))\n",
    "            shutil.rmtree(data_out)\n",
    "            print(\"'{}' directory created.\\n\".format(data_out))\n",
    "            os.mkdir(data_out)\n",
    "        else:\n",
    "            print(\"'{}' directory created.\\n\".format(data_out))\n",
    "            os.mkdir(data_out)\n",
    "# \n",
    "    train_loss.to_csv(os.path.join(data_out, f1), index=False)\n",
    "    valid_loss.to_csv(os.path.join(data_out, f2), index=False)\n",
    "    print(\"'{}' saved.\".format(f1))\n",
    "    print(\"'{}' saved.\".format(f2))\n",
    "\n",
    "    for m in f3:\n",
    "        shutil.move(m, os.path.join(data_out, m))\n",
    "        print(\"'{}' saved.\".format(m))"
   ]
  },
  {
   "cell_type": "markdown",
   "metadata": {},
   "source": [
    "* #### l1=5, l2=2; lockdown=l1"
   ]
  },
  {
   "cell_type": "code",
   "execution_count": 24,
   "metadata": {
    "ExecuteTime": {
     "end_time": "2021-03-02T17:36:46.659249Z",
     "start_time": "2021-03-02T17:36:46.657403Z"
    },
    "code_folding": [
     0
    ]
   },
   "outputs": [],
   "source": [
    "# Set layers where lockdown is to be applied\n",
    "def get_lockdown_layers(model):\n",
    "    layers = [model.classifier[0]]\n",
    "    return layers"
   ]
  },
  {
   "cell_type": "code",
   "execution_count": 25,
   "metadata": {
    "ExecuteTime": {
     "end_time": "2021-03-02T17:36:48.909399Z",
     "start_time": "2021-03-02T17:36:48.906815Z"
    },
    "code_folding": [
     0
    ]
   },
   "outputs": [],
   "source": [
    "#  NN architecture with its corresponding forward method\n",
    "class MyNet(nn.Module):\n",
    "    \n",
    "# .Network architecture\n",
    "    def __init__(self, features, layer_sizes):\n",
    "        super(MyNet, self).__init__()\n",
    "        \n",
    "        self.classifier = nn.Sequential(\n",
    "            nn.Linear(features, layer_sizes[0], bias=True),\n",
    "            nn.ReLU(inplace=True),\n",
    "            nn.Linear(layer_sizes[0], layer_sizes[1], bias=True)\n",
    "        )\n",
    "\n",
    "# .Forward function\n",
    "    def forward(self, x):\n",
    "        x = self.classifier(x)\n",
    "        return x"
   ]
  },
  {
   "cell_type": "code",
   "execution_count": 87,
   "metadata": {
    "ExecuteTime": {
     "end_time": "2021-02-22T07:57:26.148049Z",
     "start_time": "2021-02-22T07:57:26.143617Z"
    },
    "code_folding": []
   },
   "outputs": [],
   "source": [
    "# Grid search space\n",
    "grid_lrs = np.geomspace(5e-4, 1e-1, num=10)\n",
    "df_grid_loss = pd.DataFrame(columns = ['lr', 'valid_loss', 'valid_acc'], \n",
    "                            index=range(len(grid_lrs)))"
   ]
  },
  {
   "cell_type": "code",
   "execution_count": 90,
   "metadata": {
    "ExecuteTime": {
     "end_time": "2021-02-22T09:22:02.795327Z",
     "start_time": "2021-02-22T07:59:49.076775Z"
    },
    "code_folding": [
     0
    ],
    "scrolled": true
   },
   "outputs": [
    {
     "name": "stdout",
     "output_type": "stream",
     "text": [
      "- train minibatches = 1\n",
      "- valid minibatches = 1\n",
      "- test minibatches = 1\n"
     ]
    },
    {
     "data": {
      "application/vnd.jupyter.widget-view+json": {
       "model_id": "",
       "version_major": 2,
       "version_minor": 0
      },
      "text/plain": [
       "lr-grid loop:   0%|          | 0/10 [00:00<?, ?it/s]"
      ]
     },
     "metadata": {},
     "output_type": "display_data"
    },
    {
     "data": {
      "application/vnd.jupyter.widget-view+json": {
       "model_id": "",
       "version_major": 2,
       "version_minor": 0
      },
      "text/plain": [
       "Epochs loop:   0%|          | 0/20000 [00:00<?, ?it/s]"
      ]
     },
     "metadata": {},
     "output_type": "display_data"
    },
    {
     "name": "stdout",
     "output_type": "stream",
     "text": [
      "Summary:\n",
      "-learning rate = 0.00050\n",
      "-Model saved after iteration 20000.\n",
      "-Train.  Loss=0.0135803\n",
      "-Valid.  Loss=0.0098447\n",
      "\n",
      "Best train loss = 0.0135803\n",
      "\n",
      "'train_loss05_1.csv' saved.\n",
      "'valid_loss05_1.csv' saved.\n",
      "'model10_forward05_1_last.pth' saved.\n",
      "'model10_forward05_1_best.pth' saved.\n"
     ]
    },
    {
     "data": {
      "application/vnd.jupyter.widget-view+json": {
       "model_id": "",
       "version_major": 2,
       "version_minor": 0
      },
      "text/plain": [
       "Epochs loop:   0%|          | 0/20000 [00:00<?, ?it/s]"
      ]
     },
     "metadata": {},
     "output_type": "display_data"
    },
    {
     "name": "stdout",
     "output_type": "stream",
     "text": [
      "Summary:\n",
      "-learning rate = 0.00090\n",
      "-Model saved after iteration 19578.\n",
      "-Train.  Loss=0.0251933\n",
      "-Valid.  Loss=0.0017510\n",
      "\n",
      "Best train loss = 0.0248840\n",
      "\n",
      "'train_loss05_2.csv' saved.\n",
      "'valid_loss05_2.csv' saved.\n",
      "'model10_forward05_2_last.pth' saved.\n",
      "'model10_forward05_2_best.pth' saved.\n"
     ]
    },
    {
     "data": {
      "application/vnd.jupyter.widget-view+json": {
       "model_id": "",
       "version_major": 2,
       "version_minor": 0
      },
      "text/plain": [
       "Epochs loop:   0%|          | 0/20000 [00:00<?, ?it/s]"
      ]
     },
     "metadata": {},
     "output_type": "display_data"
    },
    {
     "name": "stdout",
     "output_type": "stream",
     "text": [
      "Summary:\n",
      "-learning rate = 0.00162\n",
      "-Model saved after iteration 18989.\n",
      "-Train.  Loss=0.0271896\n",
      "-Valid.  Loss=0.0034851\n",
      "\n",
      "Best train loss = 0.0271481\n",
      "\n",
      "'train_loss05_3.csv' saved.\n",
      "'valid_loss05_3.csv' saved.\n",
      "'model10_forward05_3_last.pth' saved.\n",
      "'model10_forward05_3_best.pth' saved.\n"
     ]
    },
    {
     "data": {
      "application/vnd.jupyter.widget-view+json": {
       "model_id": "",
       "version_major": 2,
       "version_minor": 0
      },
      "text/plain": [
       "Epochs loop:   0%|          | 0/20000 [00:00<?, ?it/s]"
      ]
     },
     "metadata": {},
     "output_type": "display_data"
    },
    {
     "name": "stdout",
     "output_type": "stream",
     "text": [
      "Summary:\n",
      "-learning rate = 0.00292\n",
      "-Model saved after iteration 20000.\n",
      "-Train.  Loss=0.0062225\n",
      "-Valid.  Loss=0.0046508\n",
      "\n",
      "Best train loss = 0.0062225\n",
      "\n",
      "'train_loss05_4.csv' saved.\n",
      "'valid_loss05_4.csv' saved.\n",
      "'model10_forward05_4_last.pth' saved.\n",
      "'model10_forward05_4_best.pth' saved.\n"
     ]
    },
    {
     "data": {
      "application/vnd.jupyter.widget-view+json": {
       "model_id": "",
       "version_major": 2,
       "version_minor": 0
      },
      "text/plain": [
       "Epochs loop:   0%|          | 0/20000 [00:00<?, ?it/s]"
      ]
     },
     "metadata": {},
     "output_type": "display_data"
    },
    {
     "name": "stdout",
     "output_type": "stream",
     "text": [
      "Summary:\n",
      "-learning rate = 0.00527\n",
      "-Model saved after iteration 18290.\n",
      "-Train.  Loss=0.0047238\n",
      "-Valid.  Loss=0.0214368\n",
      "\n",
      "Best train loss = 0.0044053\n",
      "\n",
      "'train_loss05_5.csv' saved.\n",
      "'valid_loss05_5.csv' saved.\n",
      "'model10_forward05_5_last.pth' saved.\n",
      "'model10_forward05_5_best.pth' saved.\n"
     ]
    },
    {
     "data": {
      "application/vnd.jupyter.widget-view+json": {
       "model_id": "",
       "version_major": 2,
       "version_minor": 0
      },
      "text/plain": [
       "Epochs loop:   0%|          | 0/20000 [00:00<?, ?it/s]"
      ]
     },
     "metadata": {},
     "output_type": "display_data"
    },
    {
     "name": "stdout",
     "output_type": "stream",
     "text": [
      "Summary:\n",
      "-learning rate = 0.00949\n",
      "-Model saved after iteration 20000.\n",
      "-Train.  Loss=0.0028828\n",
      "-Valid.  Loss=0.0049827\n",
      "\n",
      "Best train loss = 0.0028828\n",
      "\n",
      "'train_loss05_6.csv' saved.\n",
      "'valid_loss05_6.csv' saved.\n",
      "'model10_forward05_6_last.pth' saved.\n",
      "'model10_forward05_6_best.pth' saved.\n"
     ]
    },
    {
     "data": {
      "application/vnd.jupyter.widget-view+json": {
       "model_id": "",
       "version_major": 2,
       "version_minor": 0
      },
      "text/plain": [
       "Epochs loop:   0%|          | 0/20000 [00:00<?, ?it/s]"
      ]
     },
     "metadata": {},
     "output_type": "display_data"
    },
    {
     "name": "stdout",
     "output_type": "stream",
     "text": [
      "Summary:\n",
      "-learning rate = 0.01710\n",
      "-Model saved after iteration 7206.\n",
      "-Train.  Loss=0.0193458\n",
      "-Valid.  Loss=0.0260214\n",
      "\n",
      "Best train loss = 0.0192582\n",
      "\n",
      "'train_loss05_7.csv' saved.\n",
      "'valid_loss05_7.csv' saved.\n",
      "'model10_forward05_7_last.pth' saved.\n",
      "'model10_forward05_7_best.pth' saved.\n"
     ]
    },
    {
     "data": {
      "application/vnd.jupyter.widget-view+json": {
       "model_id": "",
       "version_major": 2,
       "version_minor": 0
      },
      "text/plain": [
       "Epochs loop:   0%|          | 0/20000 [00:00<?, ?it/s]"
      ]
     },
     "metadata": {},
     "output_type": "display_data"
    },
    {
     "name": "stdout",
     "output_type": "stream",
     "text": [
      "Summary:\n",
      "-learning rate = 0.03081\n",
      "-Model saved after iteration 20000.\n",
      "-Train.  Loss=0.0000021\n",
      "-Valid.  Loss=0.0031025\n",
      "\n",
      "Best train loss = 0.0000021\n",
      "\n",
      "'train_loss05_8.csv' saved.\n",
      "'valid_loss05_8.csv' saved.\n",
      "'model10_forward05_8_last.pth' saved.\n",
      "'model10_forward05_8_best.pth' saved.\n"
     ]
    },
    {
     "data": {
      "application/vnd.jupyter.widget-view+json": {
       "model_id": "",
       "version_major": 2,
       "version_minor": 0
      },
      "text/plain": [
       "Epochs loop:   0%|          | 0/20000 [00:00<?, ?it/s]"
      ]
     },
     "metadata": {},
     "output_type": "display_data"
    },
    {
     "name": "stdout",
     "output_type": "stream",
     "text": [
      "Summary:\n",
      "-learning rate = 0.05550\n",
      "-Model saved after iteration 20000.\n",
      "-Train.  Loss=0.0000006\n",
      "-Valid.  Loss=0.0003961\n",
      "\n",
      "Best train loss = 0.0000006\n",
      "\n",
      "'train_loss05_9.csv' saved.\n",
      "'valid_loss05_9.csv' saved.\n",
      "'model10_forward05_9_last.pth' saved.\n",
      "'model10_forward05_9_best.pth' saved.\n"
     ]
    },
    {
     "data": {
      "application/vnd.jupyter.widget-view+json": {
       "model_id": "",
       "version_major": 2,
       "version_minor": 0
      },
      "text/plain": [
       "Epochs loop:   0%|          | 0/20000 [00:00<?, ?it/s]"
      ]
     },
     "metadata": {},
     "output_type": "display_data"
    },
    {
     "name": "stdout",
     "output_type": "stream",
     "text": [
      "Summary:\n",
      "-learning rate = 0.10000\n",
      "-Model saved after iteration 193.\n",
      "-Train.  Loss=0.0109547\n",
      "-Valid.  Loss=0.0063389\n",
      "\n",
      "Best train loss = 0.0002563\n",
      "\n",
      "'train_loss05_10.csv' saved.\n",
      "'valid_loss05_10.csv' saved.\n",
      "'model10_forward05_10_last.pth' saved.\n",
      "'model10_forward05_10_best.pth' saved.\n"
     ]
    }
   ],
   "source": [
    "# Perform grid search (unconstrained)\n",
    "layer_sizes = [5, 2]\n",
    "epochs = 20000\n",
    "data_in = 'dataset_10LungCarcinoma'\n",
    "data_out = \"data_unconstrained_10LungCarcinoma\"\n",
    "lock_flag = False\n",
    "\n",
    "# Read data\n",
    "load_data(data_in)\n",
    "\n",
    "# Normalize data\n",
    "normalize_data()\n",
    "\n",
    "# Create DataLoaders\n",
    "make_DataLoaders()\n",
    "features = xtrain.size(1)\n",
    "\n",
    "# Train model\n",
    "iterator = tqdm.notebook.tqdm(range(1, len(grid_lrs) + 1), desc='lr-grid loop')\n",
    "for n in iterator:\n",
    "    irow = n-1\n",
    "    fname = 'model10_forward05_'+str(n)\n",
    "    train_loss, valid_loss = train_model(\n",
    "                             grid_lrs[irow], \n",
    "                             features, \n",
    "                             layer_sizes,\n",
    "                             lock_flag = lock_flag,\n",
    "                             epochs=epochs,\n",
    "                             early_stop=epochs, \n",
    "                             fname=fname)\n",
    "    print('\\nBest train loss = {:.7f}\\n'.format(train_loss['loss'].min()))\n",
    "\n",
    "# .save relevant data\n",
    "    f3 = [fname+'_last.pth', fname+'_best.pth']\n",
    "    save_output(data_out, \n",
    "                'train_loss05_'+str(n)+'.csv', \n",
    "                'valid_loss05_'+str(n)+'.csv', f3)\n",
    "    \n",
    "# .find MSE, R2, etc...\n",
    "    mm = MyNet(features, layer_sizes)\n",
    "    mm.load_state_dict(torch.load(os.path.join(data_out, fname+'_best.pth')))\n",
    "    mm = mm.to(device)\n",
    "    mm.eval()\n",
    "\n",
    "# .save grid search results\n",
    "    ypred = mm(xvalid)\n",
    "    loss = loss_type(ypred, yvalid.view(-1))\n",
    "    accu = dataset_accuracy(valid_dataloader, mm, device)\n",
    "    df_grid_loss.iloc[irow,:] = [grid_lrs[irow], loss.detach().item(), accu]\n",
    "    df_grid_loss.to_csv(os.path.join(data_out, 'df_grid_forward05.csv'), index=None)"
   ]
  },
  {
   "cell_type": "code",
   "execution_count": 92,
   "metadata": {
    "ExecuteTime": {
     "end_time": "2021-02-22T17:47:10.437332Z",
     "start_time": "2021-02-22T17:47:10.330099Z"
    },
    "code_folding": [
     0
    ]
   },
   "outputs": [
    {
     "data": {
      "image/png": "[encoded data removed]",
      "text/plain": [
       "<Figure size 720x432 with 1 Axes>"
      ]
     },
     "metadata": {
      "needs_background": "light"
     },
     "output_type": "display_data"
    }
   ],
   "source": [
    "# Plot Loss vs point in grid search\n",
    "data_out = \"data_unconstrained_10LungCarcinoma/lrs\"\n",
    "df_grid_loss = pd.read_csv(os.path.join(data_out, 'df_grid_forward05.csv'))\n",
    "fig, axes = plt.subplots(figsize=(10,6))\n",
    "axes.scatter(np.log10(df_grid_loss.lr), df_grid_loss['valid_loss'])\n",
    "axes.plot(np.log10(df_grid_loss.lr), df_grid_loss['valid_loss'], label='loss')\n",
    "# axes.scatter(np.log10(df_grid_loss.lr), df_grid_loss['valid_r2'])\n",
    "# axes.plot(np.log10(df_grid_loss.lr), df_grid_loss['valid_r2'], label='r2')\n",
    "axes.set_xlabel(\"log10(lr)\")\n",
    "axes.set_ylabel(\"Validation metric\")\n",
    "axes.legend()\n",
    "plt.show()"
   ]
  },
  {
   "cell_type": "code",
   "execution_count": 234,
   "metadata": {
    "ExecuteTime": {
     "end_time": "2021-02-25T19:02:27.261476Z",
     "start_time": "2021-02-25T19:02:27.242194Z"
    },
    "code_folding": [
     0
    ]
   },
   "outputs": [
    {
     "name": "stdout",
     "output_type": "stream",
     "text": [
      "Best parameters (9):\n",
      "- Best lr = 0.05550\n",
      "- Best valid loss = 0.00039606308564543724\n"
     ]
    },
    {
     "data": {
      "text/plain": [
       "'data_unconstrained_10LungCarcinoma/valid_loss05.csv'"
      ]
     },
     "execution_count": 234,
     "metadata": {},
     "output_type": "execute_result"
    }
   ],
   "source": [
    "# Display grid search results\n",
    "data_out = \"data_unconstrained_10LungCarcinoma/lrs\"\n",
    "df_grid_loss = pd.read_csv(os.path.join(data_out, 'df_grid_forward05.csv'))\n",
    "\n",
    "idx = df_grid_loss.valid_loss.idxmin()\n",
    "best_lr_fward = df_grid_loss.iloc[idx, 0]\n",
    "best_mse      = df_grid_loss.iloc[idx, 1]\n",
    "print(\"Best parameters ({}):\".format(idx+1))\n",
    "print(\"- Best lr = {:.5f}\".format(best_lr_fward))\n",
    "print(\"- Best valid loss = {}\".format(best_mse))\n",
    "\n",
    "# Copy best model to main directory\n",
    "shutil.copy(\"data_unconstrained_10LungCarcinoma/lrs/model10_forward05_\"+str(idx+1)+\"_best.pth\", \n",
    "            \"data_unconstrained_10LungCarcinoma/model10_forward05_best.pth\")\n",
    "shutil.copy(\"data_unconstrained_10LungCarcinoma/lrs/model10_forward05_\"+str(idx+1)+\"_last.pth\", \n",
    "            \"data_unconstrained_10LungCarcinoma/model10_forward05_last.pth\")\n",
    "\n",
    "shutil.copy(\"data_unconstrained_10LungCarcinoma/lrs/train_loss05_\"+str(idx+1)+\".csv\", \n",
    "            \"data_unconstrained_10LungCarcinoma/train_loss05.csv\")\n",
    "shutil.copy(\"data_unconstrained_10LungCarcinoma/lrs/valid_loss05_\"+str(idx+1)+\".csv\", \n",
    "            \"data_unconstrained_10LungCarcinoma/valid_loss05.csv\")"
   ]
  },
  {
   "cell_type": "code",
   "execution_count": 97,
   "metadata": {
    "ExecuteTime": {
     "end_time": "2021-02-22T18:25:15.400896Z",
     "start_time": "2021-02-22T18:25:15.397119Z"
    },
    "code_folding": [
     0
    ]
   },
   "outputs": [],
   "source": [
    "# Grid search space\n",
    "grid_lrs = np.geomspace(5e-4, 1e-1, num=10)\n",
    "df_grid_loss = pd.DataFrame(columns = ['lr', 'valid_loss', 'valid_acc'], \n",
    "                            index=range(len(grid_lrs)))"
   ]
  },
  {
   "cell_type": "code",
   "execution_count": 98,
   "metadata": {
    "ExecuteTime": {
     "end_time": "2021-02-22T20:56:35.281372Z",
     "start_time": "2021-02-22T18:27:28.853513Z"
    },
    "code_folding": [
     0
    ],
    "scrolled": true
   },
   "outputs": [
    {
     "name": "stdout",
     "output_type": "stream",
     "text": [
      "- train minibatches = 1\n",
      "- valid minibatches = 1\n",
      "- test minibatches = 1\n"
     ]
    },
    {
     "data": {
      "application/vnd.jupyter.widget-view+json": {
       "model_id": "277b317243904f06a77fcb2bb4188743",
       "version_major": 2,
       "version_minor": 0
      },
      "text/plain": [
       "lr-grid loop:   0%|          | 0/10 [00:00<?, ?it/s]"
      ]
     },
     "metadata": {},
     "output_type": "display_data"
    },
    {
     "data": {
      "application/vnd.jupyter.widget-view+json": {
       "model_id": "525e3b9750564b61bfe2fee89fe88989",
       "version_major": 2,
       "version_minor": 0
      },
      "text/plain": [
       "Epochs loop:   0%|          | 0/10000 [00:00<?, ?it/s]"
      ]
     },
     "metadata": {},
     "output_type": "display_data"
    },
    {
     "name": "stdout",
     "output_type": "stream",
     "text": [
      "Summary:\n",
      "-learning rate = 0.00050\n",
      "-Model saved after iteration 187.\n",
      "-Train.  Loss=0.0133876\n",
      "-Valid.  Loss=0.0000343\n",
      "\n",
      "Best train loss = 0.0128236\n",
      "\n",
      "'train_loss05_1.csv' saved.\n",
      "'valid_loss05_1.csv' saved.\n",
      "'model10_backward05_1_best.pth' saved.\n"
     ]
    },
    {
     "data": {
      "application/vnd.jupyter.widget-view+json": {
       "model_id": "3336f8049aea46739025fba90c5571bc",
       "version_major": 2,
       "version_minor": 0
      },
      "text/plain": [
       "Epochs loop:   0%|          | 0/10000 [00:00<?, ?it/s]"
      ]
     },
     "metadata": {},
     "output_type": "display_data"
    },
    {
     "name": "stdout",
     "output_type": "stream",
     "text": [
      "Summary:\n",
      "-learning rate = 0.00090\n",
      "-Model saved after iteration 69.\n",
      "-Train.  Loss=0.0247473\n",
      "-Valid.  Loss=0.0000000\n",
      "\n",
      "Best train loss = 0.0108573\n",
      "\n",
      "'train_loss05_2.csv' saved.\n",
      "'valid_loss05_2.csv' saved.\n",
      "'model10_backward05_2_best.pth' saved.\n"
     ]
    },
    {
     "data": {
      "application/vnd.jupyter.widget-view+json": {
       "model_id": "5f031a343f6f4e909cdc0f1183837d18",
       "version_major": 2,
       "version_minor": 0
      },
      "text/plain": [
       "Epochs loop:   0%|          | 0/10000 [00:00<?, ?it/s]"
      ]
     },
     "metadata": {},
     "output_type": "display_data"
    },
    {
     "name": "stdout",
     "output_type": "stream",
     "text": [
      "Summary:\n",
      "-learning rate = 0.00162\n",
      "-Model saved after iteration 33.\n",
      "-Train.  Loss=0.0000000\n",
      "-Valid.  Loss=0.0000045\n",
      "\n",
      "Best train loss = 0.0000000\n",
      "\n",
      "'train_loss05_3.csv' saved.\n",
      "'valid_loss05_3.csv' saved.\n",
      "'model10_backward05_3_best.pth' saved.\n"
     ]
    },
    {
     "data": {
      "application/vnd.jupyter.widget-view+json": {
       "model_id": "3bd5453cb84743aeb15be99d8f6a1d40",
       "version_major": 2,
       "version_minor": 0
      },
      "text/plain": [
       "Epochs loop:   0%|          | 0/10000 [00:00<?, ?it/s]"
      ]
     },
     "metadata": {},
     "output_type": "display_data"
    },
    {
     "name": "stdout",
     "output_type": "stream",
     "text": [
      "Summary:\n",
      "-learning rate = 0.00292\n",
      "-Model saved after iteration 29.\n",
      "-Train.  Loss=0.0000594\n",
      "-Valid.  Loss=0.0000015\n",
      "\n",
      "Best train loss = 0.0000000\n",
      "\n",
      "'train_loss05_4.csv' saved.\n",
      "'valid_loss05_4.csv' saved.\n",
      "'model10_backward05_4_best.pth' saved.\n"
     ]
    },
    {
     "data": {
      "application/vnd.jupyter.widget-view+json": {
       "model_id": "f98250eea1d74e2e9f47f51aad843988",
       "version_major": 2,
       "version_minor": 0
      },
      "text/plain": [
       "Epochs loop:   0%|          | 0/10000 [00:00<?, ?it/s]"
      ]
     },
     "metadata": {},
     "output_type": "display_data"
    },
    {
     "name": "stdout",
     "output_type": "stream",
     "text": [
      "Summary:\n",
      "-learning rate = 0.00527\n",
      "-Model saved after iteration 1232.\n",
      "-Train.  Loss=0.0000000\n",
      "-Valid.  Loss=0.0000000\n",
      "\n",
      "Best train loss = 0.0000000\n",
      "\n",
      "'train_loss05_5.csv' saved.\n",
      "'valid_loss05_5.csv' saved.\n",
      "'model10_backward05_5_best.pth' saved.\n"
     ]
    },
    {
     "data": {
      "application/vnd.jupyter.widget-view+json": {
       "model_id": "872d9630f7fa4afa902b18c0bde4dc54",
       "version_major": 2,
       "version_minor": 0
      },
      "text/plain": [
       "Epochs loop:   0%|          | 0/10000 [00:00<?, ?it/s]"
      ]
     },
     "metadata": {},
     "output_type": "display_data"
    },
    {
     "name": "stdout",
     "output_type": "stream",
     "text": [
      "Summary:\n",
      "-learning rate = 0.00949\n",
      "-Model saved after iteration 579.\n",
      "-Train.  Loss=0.0027389\n",
      "-Valid.  Loss=0.0000000\n",
      "\n",
      "Best train loss = 0.0019060\n",
      "\n",
      "'train_loss05_6.csv' saved.\n",
      "'valid_loss05_6.csv' saved.\n",
      "'model10_backward05_6_best.pth' saved.\n"
     ]
    },
    {
     "data": {
      "application/vnd.jupyter.widget-view+json": {
       "model_id": "76dee87c496545a2b9348d4617122133",
       "version_major": 2,
       "version_minor": 0
      },
      "text/plain": [
       "Epochs loop:   0%|          | 0/10000 [00:00<?, ?it/s]"
      ]
     },
     "metadata": {},
     "output_type": "display_data"
    },
    {
     "name": "stdout",
     "output_type": "stream",
     "text": [
      "Summary:\n",
      "-learning rate = 0.01710\n",
      "-Model saved after iteration 299.\n",
      "-Train.  Loss=0.0000007\n",
      "-Valid.  Loss=0.0000000\n",
      "\n",
      "Best train loss = 0.0000000\n",
      "\n",
      "'train_loss05_7.csv' saved.\n",
      "'valid_loss05_7.csv' saved.\n",
      "'model10_backward05_7_best.pth' saved.\n"
     ]
    },
    {
     "data": {
      "application/vnd.jupyter.widget-view+json": {
       "model_id": "1528d8239eca4560a6288d8b18642d89",
       "version_major": 2,
       "version_minor": 0
      },
      "text/plain": [
       "Epochs loop:   0%|          | 0/10000 [00:00<?, ?it/s]"
      ]
     },
     "metadata": {},
     "output_type": "display_data"
    },
    {
     "name": "stdout",
     "output_type": "stream",
     "text": [
      "Summary:\n",
      "-learning rate = 0.03081\n",
      "-Model saved after iteration 134.\n",
      "-Train.  Loss=0.0000001\n",
      "-Valid.  Loss=0.0000000\n",
      "\n",
      "Best train loss = 0.0000000\n",
      "\n",
      "'train_loss05_8.csv' saved.\n",
      "'valid_loss05_8.csv' saved.\n",
      "'model10_backward05_8_best.pth' saved.\n"
     ]
    },
    {
     "data": {
      "application/vnd.jupyter.widget-view+json": {
       "model_id": "f17546e916b44a1b97b7c762099fdc94",
       "version_major": 2,
       "version_minor": 0
      },
      "text/plain": [
       "Epochs loop:   0%|          | 0/10000 [00:00<?, ?it/s]"
      ]
     },
     "metadata": {},
     "output_type": "display_data"
    },
    {
     "name": "stdout",
     "output_type": "stream",
     "text": [
      "Summary:\n",
      "-learning rate = 0.05550\n",
      "-Model saved after iteration 34.\n",
      "-Train.  Loss=0.0601776\n",
      "-Valid.  Loss=0.0000000\n",
      "\n",
      "Best train loss = 0.0000000\n",
      "\n",
      "'train_loss05_9.csv' saved.\n",
      "'valid_loss05_9.csv' saved.\n",
      "'model10_backward05_9_best.pth' saved.\n"
     ]
    },
    {
     "data": {
      "application/vnd.jupyter.widget-view+json": {
       "model_id": "0d311b3a5b7e44e0aad93384c5b08fe0",
       "version_major": 2,
       "version_minor": 0
      },
      "text/plain": [
       "Epochs loop:   0%|          | 0/10000 [00:00<?, ?it/s]"
      ]
     },
     "metadata": {},
     "output_type": "display_data"
    },
    {
     "name": "stdout",
     "output_type": "stream",
     "text": [
      "Summary:\n",
      "-learning rate = 0.10000\n",
      "-Model saved after iteration 1.\n",
      "-Train.  Loss=0.0002563\n",
      "-Valid.  Loss=0.0173571\n",
      "\n",
      "Best train loss = 0.0002563\n",
      "\n",
      "'train_loss05_10.csv' saved.\n",
      "'valid_loss05_10.csv' saved.\n",
      "'model10_backward05_10_best.pth' saved.\n"
     ]
    }
   ],
   "source": [
    "# Perform grid search (lockdown: path 2)\n",
    "layer_sizes = [5, 2]\n",
    "epochs = 10000\n",
    "data_in = 'dataset_10LungCarcinoma'\n",
    "data_out = \"data_lockdown_10LungCarcinoma/lrs\"\n",
    "lock_flag = True\n",
    "step = 1\n",
    "\n",
    "# Read data\n",
    "load_data(data_in)\n",
    "\n",
    "# Normalize data\n",
    "normalize_data()\n",
    "\n",
    "# Create DataLoaders\n",
    "make_DataLoaders()\n",
    "features = xtrain.size(1)\n",
    "\n",
    "# Train model\n",
    "iterator = tqdm.notebook.tqdm(range(1, len(grid_lrs) + 1), desc='lr-grid loop')\n",
    "for n in iterator:\n",
    "    irow = n-1\n",
    "    model_forward_name = 'data_unconstrained_10LungCarcinoma/lrs/model10_forward05_'+str(n)+'_last.pth'\n",
    "    fname = 'model10_backward05_'+str(n)\n",
    "    train_loss, valid_loss = train_model(\n",
    "                             grid_lrs[irow], \n",
    "                             features, \n",
    "                             layer_sizes,\n",
    "                             lock_flag = lock_flag,\n",
    "                             epochs=epochs,\n",
    "                             early_stop=epochs, \n",
    "                             fname=fname)\n",
    "    print('\\nBest train loss = {:.7f}\\n'.format(train_loss['loss'].min()))\n",
    "\n",
    "# .save relevant data\n",
    "    f3 = [fname+'_best.pth']\n",
    "    save_output(data_out, \n",
    "                'train_loss05_'+str(n)+'.csv', \n",
    "                'valid_loss05_'+str(n)+'.csv', f3)\n",
    "    \n",
    "# .find MSE, R2, etc...\n",
    "    mm = MyNet(features, layer_sizes)\n",
    "    mm.load_state_dict(torch.load(os.path.join(data_out, fname+'_best.pth')))\n",
    "    mm = mm.to(device)\n",
    "    mm.eval()\n",
    "\n",
    "# .save grid search results\n",
    "    ypred = mm(xvalid)\n",
    "    loss = loss_type(ypred, yvalid.view(-1))\n",
    "    accu = dataset_accuracy(valid_dataloader, mm, device)\n",
    "    df_grid_loss.iloc[irow,:] = [grid_lrs[irow], loss.detach().item(), accu]\n",
    "    df_grid_loss.to_csv(os.path.join(data_out, 'df_grid_backward05.csv'), index=None)"
   ]
  },
  {
   "cell_type": "code",
   "execution_count": 107,
   "metadata": {
    "ExecuteTime": {
     "end_time": "2021-02-22T21:12:58.665864Z",
     "start_time": "2021-02-22T21:12:58.536436Z"
    },
    "code_folding": [
     0
    ]
   },
   "outputs": [
    {
     "data": {
      "image/png": "[encoded data removed]",
      "text/plain": [
       "<Figure size 720x432 with 1 Axes>"
      ]
     },
     "metadata": {
      "needs_background": "light"
     },
     "output_type": "display_data"
    }
   ],
   "source": [
    "# Plot Loss vs point in grid search\n",
    "data_out = \"data_lockdown_10LungCarcinoma/lrs\"\n",
    "df_grid_loss = pd.read_csv(os.path.join(data_out, 'df_grid_backward05.csv'))\n",
    "fig, axes = plt.subplots(figsize=(10,6))\n",
    "axes.scatter(np.log10(df_grid_loss.lr), df_grid_loss['valid_loss'])\n",
    "axes.plot(np.log10(df_grid_loss.lr), df_grid_loss['valid_loss'], label='loss')\n",
    "# axes.scatter(np.log10(df_grid_loss.lr), df_grid_loss['valid_r2'])\n",
    "# axes.plot(np.log10(df_grid_loss.lr), df_grid_loss['valid_r2'], label='r2')\n",
    "axes.set_xlabel(\"log10(lr)\")\n",
    "axes.set_ylabel(\"Validation metric\")\n",
    "axes.legend()\n",
    "plt.show()"
   ]
  },
  {
   "cell_type": "code",
   "execution_count": 235,
   "metadata": {
    "ExecuteTime": {
     "end_time": "2021-02-25T19:03:23.628541Z",
     "start_time": "2021-02-25T19:03:23.609344Z"
    },
    "code_folding": [
     0
    ]
   },
   "outputs": [
    {
     "name": "stdout",
     "output_type": "stream",
     "text": [
      "Best parameters (5):\n",
      "- Best lr = 0.00527\n",
      "- Best valid loss = 0.0\n"
     ]
    },
    {
     "data": {
      "text/plain": [
       "'data_lockdown_10LungCarcinoma/valid_loss05.csv'"
      ]
     },
     "execution_count": 235,
     "metadata": {},
     "output_type": "execute_result"
    }
   ],
   "source": [
    "# Display grid search results\n",
    "data_out = \"data_lockdown_10LungCarcinoma/lrs\"\n",
    "df_grid_loss = pd.read_csv(os.path.join(data_out, 'df_grid_backward05.csv'))\n",
    "\n",
    "idx = df_grid_loss.valid_loss.idxmin()\n",
    "idx = 4\n",
    "best_lr_bward = df_grid_loss.iloc[idx, 0]\n",
    "best_mse      = df_grid_loss.iloc[idx, 1]\n",
    "print(\"Best parameters ({}):\".format(idx+1))\n",
    "print(\"- Best lr = {:.5f}\".format(best_lr_bward))\n",
    "print(\"- Best valid loss = {}\".format(best_mse))\n",
    "\n",
    "# Copy best models to main directory\n",
    "shutil.copy(\"data_unconstrained_10LungCarcinoma/lrs/model10_forward05_\"+str(idx+1)+\"_best.pth\", \n",
    "            \"data_lockdown_10LungCarcinoma/model10_fward05_best.pth\")\n",
    "shutil.copy(\"data_unconstrained_10LungCarcinoma/lrs/model10_forward05_\"+str(idx+1)+\"_last.pth\", \n",
    "            \"data_lockdown_10LungCarcinoma/model10_fward05_last.pth\")\n",
    "shutil.copy(\"data_lockdown_10LungCarcinoma/lrs/model10_backward05_\"+str(idx+1)+\"_best.pth\", \n",
    "            \"data_lockdown_10LungCarcinoma/model10_backward05_best.pth\")\n",
    "\n",
    "shutil.copy(\"data_unconstrained_10LungCarcinoma/lrs/train_loss05_\"+str(idx+1)+\".csv\", \n",
    "            \"data_lockdown_10LungCarcinoma/train_loss_fward05.csv\")\n",
    "shutil.copy(\"data_unconstrained_10LungCarcinoma/lrs/valid_loss05_\"+str(idx+1)+\".csv\", \n",
    "            \"data_lockdown_10LungCarcinoma/valid_loss_fward05.csv\")\n",
    "shutil.copy(\"data_lockdown_10LungCarcinoma/lrs/train_loss05_\"+str(idx+1)+\".csv\", \n",
    "            \"data_lockdown_10LungCarcinoma/train_loss05.csv\")\n",
    "shutil.copy(\"data_lockdown_10LungCarcinoma/lrs/valid_loss05_\"+str(idx+1)+\".csv\", \n",
    "            \"data_lockdown_10LungCarcinoma/valid_loss05.csv\")"
   ]
  },
  {
   "cell_type": "code",
   "execution_count": 156,
   "metadata": {
    "ExecuteTime": {
     "end_time": "2021-02-22T22:08:39.217064Z",
     "start_time": "2021-02-22T22:08:39.127683Z"
    },
    "code_folding": [
     0
    ]
   },
   "outputs": [
    {
     "data": {
      "text/html": [
       "<div>\n",
       "<style scoped>\n",
       "    .dataframe tbody tr th:only-of-type {\n",
       "        vertical-align: middle;\n",
       "    }\n",
       "\n",
       "    .dataframe tbody tr th {\n",
       "        vertical-align: top;\n",
       "    }\n",
       "\n",
       "    .dataframe thead th {\n",
       "        text-align: right;\n",
       "    }\n",
       "</style>\n",
       "<table border=\"1\" class=\"dataframe\">\n",
       "  <thead>\n",
       "    <tr style=\"text-align: right;\">\n",
       "      <th></th>\n",
       "      <th></th>\n",
       "      <th>LOSS</th>\n",
       "      <th>ACCURACY</th>\n",
       "    </tr>\n",
       "  </thead>\n",
       "  <tbody>\n",
       "    <tr>\n",
       "      <th rowspan=\"2\" valign=\"top\">TRAIN</th>\n",
       "      <th>forward</th>\n",
       "      <td>5.9439e-07</td>\n",
       "      <td>1</td>\n",
       "    </tr>\n",
       "    <tr>\n",
       "      <th>lockdown</th>\n",
       "      <td>0</td>\n",
       "      <td>1</td>\n",
       "    </tr>\n",
       "    <tr>\n",
       "      <th rowspan=\"2\" valign=\"top\">VALIDATION</th>\n",
       "      <th>forward</th>\n",
       "      <td>0.000396063</td>\n",
       "      <td>1</td>\n",
       "    </tr>\n",
       "    <tr>\n",
       "      <th>lockdown</th>\n",
       "      <td>0</td>\n",
       "      <td>1</td>\n",
       "    </tr>\n",
       "    <tr>\n",
       "      <th rowspan=\"2\" valign=\"top\">TEST</th>\n",
       "      <th>forward</th>\n",
       "      <td>0.872922</td>\n",
       "      <td>0.916667</td>\n",
       "    </tr>\n",
       "    <tr>\n",
       "      <th>lockdown</th>\n",
       "      <td>0.785675</td>\n",
       "      <td>0.916667</td>\n",
       "    </tr>\n",
       "  </tbody>\n",
       "</table>\n",
       "</div>"
      ],
      "text/plain": [
       "                            LOSS  ACCURACY\n",
       "TRAIN      forward    5.9439e-07         1\n",
       "           lockdown            0         1\n",
       "VALIDATION forward   0.000396063         1\n",
       "           lockdown            0         1\n",
       "TEST       forward      0.872922  0.916667\n",
       "           lockdown     0.785675  0.916667"
      ]
     },
     "execution_count": 156,
     "metadata": {},
     "output_type": "execute_result"
    }
   ],
   "source": [
    "# Find Loss, Accuracy, etc...\n",
    "data_out = \"data_lockdown_10LungCarcinoma\"\n",
    "index = pd.MultiIndex.from_product([['TRAIN', 'VALIDATION', 'TEST'], ['forward', 'lockdown']])\n",
    "df_results = pd.DataFrame(index=index, columns=['LOSS', 'ACCURACY'])\n",
    "\n",
    "# Unconstrained results\n",
    "mm = MyNet(features, layer_sizes)\n",
    "mm.load_state_dict(torch.load('data_unconstrained_10LungCarcinoma/model10_forward05_best.pth'))\n",
    "mm = mm.to(device)\n",
    "mm.eval()\n",
    "\n",
    "ypred = mm(xtrain)\n",
    "loss = loss_type(ypred, ytrain.view(-1))\n",
    "accu = dataset_accuracy(train_dataloader, mm, device)\n",
    "df_results.loc[('TRAIN', 'forward'), 'LOSS'] = loss.detach().item()\n",
    "df_results.loc[('TRAIN', 'forward'), 'ACCURACY'] = accu\n",
    "\n",
    "ypred = mm(xvalid)\n",
    "loss = loss_type(ypred, yvalid.view(-1))\n",
    "accu = dataset_accuracy(valid_dataloader, mm, device)\n",
    "df_results.loc[('VALIDATION', 'forward'), 'LOSS'] = loss.detach().item()\n",
    "df_results.loc[('VALIDATION', 'forward'), 'ACCURACY'] = accu\n",
    "\n",
    "ypred = mm(xtest)\n",
    "loss = loss_type(ypred, ytest.view(-1))\n",
    "accu = dataset_accuracy(test_dataloader, mm, device)\n",
    "df_results.loc[('TEST', 'forward'), 'LOSS'] = loss.detach().item()\n",
    "df_results.loc[('TEST', 'forward'), 'ACCURACY'] = accu\n",
    "\n",
    "# Lockdown results\n",
    "mm = MyNet(features, layer_sizes)\n",
    "mm.load_state_dict(torch.load('data_lockdown_10LungCarcinoma/model10_backward05_best.pth'))\n",
    "mm = mm.to(device)\n",
    "mm.eval()\n",
    "\n",
    "ypred = mm(xtrain)\n",
    "loss = loss_type(ypred, ytrain.view(-1))\n",
    "accu = dataset_accuracy(train_dataloader, mm, device)\n",
    "df_results.loc[('TRAIN', 'lockdown'), 'LOSS'] = loss.detach().item()\n",
    "df_results.loc[('TRAIN', 'lockdown'), 'ACCURACY'] = accu\n",
    "\n",
    "ypred = mm(xvalid)\n",
    "loss = loss_type(ypred, yvalid.view(-1))\n",
    "accu = dataset_accuracy(valid_dataloader, mm, device)\n",
    "df_results.loc[('VALIDATION', 'lockdown'), 'LOSS'] = loss.detach().item()\n",
    "df_results.loc[('VALIDATION', 'lockdown'), 'ACCURACY'] = accu\n",
    "\n",
    "ypred = mm(xtest)\n",
    "loss = loss_type(ypred, ytest.view(-1))\n",
    "accu = dataset_accuracy(test_dataloader, mm, device)\n",
    "df_results.loc[('TEST', 'lockdown'), 'LOSS'] = loss.detach().item()\n",
    "df_results.loc[('TEST', 'lockdown'), 'ACCURACY'] = accu\n",
    "\n",
    "df_results.to_csv(os.path.join(data_out, 'results05.csv'), index=True)\n",
    "df_results"
   ]
  },
  {
   "cell_type": "code",
   "execution_count": 26,
   "metadata": {
    "ExecuteTime": {
     "end_time": "2021-03-02T17:37:43.957869Z",
     "start_time": "2021-03-02T17:37:43.600756Z"
    },
    "code_folding": [
     0
    ]
   },
   "outputs": [
    {
     "data": {
      "image/png": "[encoded data removed]",
      "text/plain": [
       "<Figure size 1080x432 with 1 Axes>"
      ]
     },
     "metadata": {
      "needs_background": "light"
     },
     "output_type": "display_data"
    },
    {
     "name": "stdout",
     "output_type": "stream",
     "text": [
      "Feature importance graph saved at: 'data_lockdown_10LungCarcinoma/feature_importance05.pdf'\n",
      "feature importance .csv saved at: 'data_lockdown_10LungCarcinoma/feature_importance_lockdown05.csv'\n"
     ]
    }
   ],
   "source": [
    "# Weight importance (Lockdown: layer 1)\n",
    "target_idx = 1\n",
    "data_out = \"data_lockdown_10LungCarcinoma\"\n",
    "layer_sizes = [5, 2]\n",
    "m1 = torch.load('data_lockdown_10LungCarcinoma/model10_backward05_best.pth')\n",
    "feature_importance1 = pd.Series(abs(m1['classifier.0.weight']).sum(dim=0), index=cols_all)\n",
    "feature_importance1 = feature_importance1/feature_importance1.max()\n",
    "feature_importance_sorted1 = feature_importance1.sort_values(ascending=False)\n",
    "\n",
    "idx = feature_importance_sorted1 >= 1e-4\n",
    "\n",
    "fig, axes = plt.subplots(figsize=(15,6))\n",
    "x_pos = np.arange(idx.sum())\n",
    "axes.fill_between(x_pos, 0, feature_importance_sorted1[idx], zorder=2)\n",
    "# axes.set_xticks(x_pos)\n",
    "# axes.set_xticklabels(feature_importance_sorted1.index[idx], rotation='vertical')\n",
    "axes.set_xlim(-1,idx.sum())\n",
    "axes.set_ylabel('Performance')\n",
    "axes.set_title('Feature Importance (Lockdown): layer 1: features = {}, nodes = {}'.format(n_features, \n",
    "                                                                                          layer_sizes[0]))\n",
    "axes.grid(True, zorder=1)\n",
    "\n",
    "plt.tight_layout()\n",
    "plt.savefig(os.path.join(data_out, 'feature_importance05.pdf'), bbox_inches='tight')\n",
    "plt.show()\n",
    "print(\"Feature importance graph saved at: '{}'\".format(os.path.join(data_out, 'feature_importance05.pdf')))\n",
    "\n",
    "feature_importance_sorted1.to_csv(os.path.join(data_out, 'feature_importance_lockdown05.csv'))\n",
    "print(\"feature importance .csv saved at: '{}'\".format(os.path.join(data_out, 'feature_importance_lockdown05.csv')))"
   ]
  },
  {
   "cell_type": "code",
   "execution_count": 27,
   "metadata": {
    "ExecuteTime": {
     "end_time": "2021-03-02T17:38:09.392678Z",
     "start_time": "2021-03-02T17:38:09.001310Z"
    },
    "code_folding": [
     0
    ]
   },
   "outputs": [
    {
     "data": {
      "image/png": "[encoded data removed]",
      "text/plain": [
       "<Figure size 1080x432 with 1 Axes>"
      ]
     },
     "metadata": {
      "needs_background": "light"
     },
     "output_type": "display_data"
    },
    {
     "name": "stdout",
     "output_type": "stream",
     "text": [
      "Feature importance graph saved at: 'data_unconstrained_10LungCarcinoma/feature_importance05.pdf'\n",
      "feature importance .csv saved at: 'data_unconstrained_10LungCarcinoma/feature_importance_forward05.csv'\n"
     ]
    }
   ],
   "source": [
    "# Weight importance (Forward: layer 1)\n",
    "target_idx = 1\n",
    "data_out = \"data_unconstrained_10LungCarcinoma\"\n",
    "layer_sizes = [5, 2]\n",
    "m1 = torch.load('data_unconstrained_10LungCarcinoma/model10_forward05_best.pth')\n",
    "feature_importance1 = pd.Series(abs(m1['classifier.0.weight']).sum(dim=0), index=cols_all)\n",
    "feature_importance1 = feature_importance1/feature_importance1.max()\n",
    "feature_importance_sorted1 = feature_importance1.sort_values(ascending=False)\n",
    "\n",
    "idx = feature_importance_sorted1 >= 0\n",
    "\n",
    "fig, axes = plt.subplots(figsize=(15,6))\n",
    "x_pos = np.arange(idx.sum())\n",
    "axes.fill_between(x_pos, 0, feature_importance_sorted1[idx], zorder=2, lw=3)\n",
    "# axes.set_xticks(x_pos)\n",
    "# axes.set_xticklabels(feature_importance_sorted1.index[idx], rotation='vertical')\n",
    "# axes.set_xlim(-1,idx.sum())\n",
    "axes.set_ylabel('Performance')\n",
    "axes.set_title('Feature Importance (Forward): layer 1: features = {}, nodes = {}'.format(n_features, \n",
    "                                                                                          layer_sizes[0]))\n",
    "axes.grid(True, zorder=1)\n",
    "\n",
    "plt.tight_layout()\n",
    "plt.savefig(os.path.join(data_out, 'feature_importance05.pdf'), bbox_inches='tight')\n",
    "plt.show()\n",
    "print(\"Feature importance graph saved at: '{}'\".format(os.path.join(data_out, 'feature_importance05.pdf')))\n",
    "\n",
    "feature_importance_sorted1.to_csv(os.path.join(data_out, 'feature_importance_forward05.csv'))\n",
    "print(\"feature importance .csv saved at: '{}'\".format(os.path.join(data_out, 'feature_importance_forward05.csv')))"
   ]
  },
  {
   "cell_type": "code",
   "execution_count": 28,
   "metadata": {
    "ExecuteTime": {
     "end_time": "2021-03-02T17:38:15.562109Z",
     "start_time": "2021-03-02T17:38:14.997110Z"
    },
    "code_folding": [
     0
    ]
   },
   "outputs": [
    {
     "data": {
      "image/png": "[encoded data removed]",
      "text/plain": [
       "<Figure size 1080x432 with 1 Axes>"
      ]
     },
     "metadata": {
      "needs_background": "light"
     },
     "output_type": "display_data"
    }
   ],
   "source": [
    "# Gene importance\n",
    "data_out = \"data_lockdown_10LungCarcinoma\"\n",
    "m1 = torch.load('data_lockdown_10LungCarcinoma/model10_backward05_best.pth')\n",
    "feature_importance1 = pd.Series(abs(m1['classifier.0.weight']).sum(dim=0), index=cols_all)\n",
    "feature_importance1 = feature_importance1/feature_importance1.max()\n",
    "feature_importance_sorted1 = feature_importance1.sort_values(ascending=False)\n",
    "idx1 = feature_importance_sorted1 >= 0\n",
    "\n",
    "data_out = \"data_unconstrained_10LungCarcinoma\"\n",
    "m2 = torch.load('data_unconstrained_10LungCarcinoma/model10_forward05_best.pth')\n",
    "feature_importance2 = pd.Series(abs(m2['classifier.0.weight']).sum(dim=0), index=cols_all)\n",
    "feature_importance2 = feature_importance2/feature_importance2.max()\n",
    "feature_importance_sorted2 = feature_importance2.sort_values(ascending=False)\n",
    "idx2 = feature_importance_sorted2 >= 0\n",
    "\n",
    "fig, axes = plt.subplots(figsize=(15,6))\n",
    "x_pos = np.arange(idx2.sum())\n",
    "axes.fill_between(x_pos, 0, feature_importance_sorted2[idx2], label='Standard', zorder=2, color='red')\n",
    "axes.fill_between(x_pos, 0, feature_importance_sorted1[idx1], label='Lockdown', zorder=2, color='limegreen')\n",
    "axes.set_xlim(-1,idx.sum())\n",
    "axes.set_ylabel('Importance', fontsize=14)\n",
    "axes.set_xlabel('Genes', fontsize=14)\n",
    "# axes.set_title('Genes Importance: genes = {}'.format(features), fontsize=14)\n",
    "axes.set_title('Genes Importance')\n",
    "axes.legend(fontsize=14)\n",
    "axes.grid(True, zorder=1)\n",
    "plt.yticks(fontsize=12)\n",
    "plt.xticks(fontsize=12)\n",
    "\n",
    "plt.tight_layout()\n",
    "plt.savefig(os.path.join(\"data_lockdown_10LungCarcinoma\", 'feature_importance.pdf'), bbox_inches='tight')\n",
    "plt.show()\n",
    "# print(\"Feature importance graph saved at: '{}'\".format(os.path.join(data_out, 'feature_importance05.pdf')))\n",
    "\n",
    "# feature_importance_sorted1.to_csv(os.path.join(data_out, 'feature_importance_lockdown05.csv'))\n",
    "# print(\"feature importance .csv saved at: '{}'\".format(os.path.join(data_out, 'feature_importance_lockdown05.csv')))"
   ]
  },
  {
   "cell_type": "code",
   "execution_count": 163,
   "metadata": {
    "ExecuteTime": {
     "end_time": "2021-02-23T05:53:18.833702Z",
     "start_time": "2021-02-22T23:41:19.501944Z"
    },
    "code_folding": [
     0
    ],
    "scrolled": true
   },
   "outputs": [
    {
     "data": {
      "application/vnd.jupyter.widget-view+json": {
       "model_id": "",
       "version_major": 2,
       "version_minor": 0
      },
      "text/plain": [
       "Partitions loop:   0%|          | 0/100 [00:00<?, ?it/s]"
      ]
     },
     "metadata": {},
     "output_type": "display_data"
    },
    {
     "name": "stdout",
     "output_type": "stream",
     "text": [
      "- train minibatches = 1\n",
      "- valid minibatches = 1\n",
      "- test minibatches = 1\n"
     ]
    },
    {
     "data": {
      "application/vnd.jupyter.widget-view+json": {
       "model_id": "",
       "version_major": 2,
       "version_minor": 0
      },
      "text/plain": [
       "Epochs loop:   0%|          | 0/20000 [00:00<?, ?it/s]"
      ]
     },
     "metadata": {},
     "output_type": "display_data"
    },
    {
     "name": "stdout",
     "output_type": "stream",
     "text": [
      "Summary:\n",
      "-learning rate = 0.05550\n",
      "-path 1 has early stopped:\n",
      " 4000 iterations with no improvement in train loss.\n",
      "-Model saved after iteration 802.\n",
      "-Train.  Loss=0.0050907\n",
      "-Valid.  Loss=0.1322764\n",
      "'train_loss05_1.csv' saved.\n",
      "'valid_loss05_1.csv' saved.\n",
      "'model10_forward05_1_last.pth' saved.\n",
      "'model10_forward05_1_best.pth' saved.\n",
      "- train minibatches = 1\n",
      "- valid minibatches = 1\n",
      "- test minibatches = 1\n"
     ]
    },
    {
     "data": {
      "application/vnd.jupyter.widget-view+json": {
       "model_id": "",
       "version_major": 2,
       "version_minor": 0
      },
      "text/plain": [
       "Epochs loop:   0%|          | 0/20000 [00:00<?, ?it/s]"
      ]
     },
     "metadata": {},
     "output_type": "display_data"
    },
    {
     "name": "stdout",
     "output_type": "stream",
     "text": [
      "Summary:\n",
      "-learning rate = 0.05550\n",
      "-path 1 has early stopped:\n",
      " 4000 iterations with no improvement in train loss.\n",
      "-Model saved after iteration 1.\n",
      "-Train.  Loss=0.7413365\n",
      "-Valid.  Loss=0.8313867\n",
      "'train_loss05_2.csv' saved.\n",
      "'valid_loss05_2.csv' saved.\n",
      "'model10_forward05_2_last.pth' saved.\n",
      "'model10_forward05_2_best.pth' saved.\n",
      "- train minibatches = 1\n",
      "- valid minibatches = 1\n",
      "- test minibatches = 1\n"
     ]
    },
    {
     "data": {
      "application/vnd.jupyter.widget-view+json": {
       "model_id": "",
       "version_major": 2,
       "version_minor": 0
      },
      "text/plain": [
       "Epochs loop:   0%|          | 0/20000 [00:00<?, ?it/s]"
      ]
     },
     "metadata": {},
     "output_type": "display_data"
    },
    {
     "name": "stdout",
     "output_type": "stream",
     "text": [
      "Summary:\n",
      "-learning rate = 0.05550\n",
      "-path 1 has early stopped:\n",
      " 4000 iterations with no improvement in train loss.\n",
      "-Model saved after iteration 4.\n",
      "-Train.  Loss=0.1006961\n",
      "-Valid.  Loss=0.4563310\n",
      "'train_loss05_3.csv' saved.\n",
      "'valid_loss05_3.csv' saved.\n",
      "'model10_forward05_3_last.pth' saved.\n",
      "'model10_forward05_3_best.pth' saved.\n",
      "- train minibatches = 1\n",
      "- valid minibatches = 1\n",
      "- test minibatches = 1\n"
     ]
    },
    {
     "data": {
      "application/vnd.jupyter.widget-view+json": {
       "model_id": "",
       "version_major": 2,
       "version_minor": 0
      },
      "text/plain": [
       "Epochs loop:   0%|          | 0/20000 [00:00<?, ?it/s]"
      ]
     },
     "metadata": {},
     "output_type": "display_data"
    },
    {
     "name": "stdout",
     "output_type": "stream",
     "text": [
      "Summary:\n",
      "-learning rate = 0.05550\n",
      "-path 1 has early stopped:\n",
      " 4000 iterations with no improvement in train loss.\n",
      "-Model saved after iteration 3.\n",
      "-Train.  Loss=0.1399562\n",
      "-Valid.  Loss=0.0565629\n",
      "'train_loss05_4.csv' saved.\n",
      "'valid_loss05_4.csv' saved.\n",
      "'model10_forward05_4_last.pth' saved.\n",
      "'model10_forward05_4_best.pth' saved.\n",
      "- train minibatches = 1\n",
      "- valid minibatches = 1\n",
      "- test minibatches = 1\n"
     ]
    },
    {
     "data": {
      "application/vnd.jupyter.widget-view+json": {
       "model_id": "",
       "version_major": 2,
       "version_minor": 0
      },
      "text/plain": [
       "Epochs loop:   0%|          | 0/20000 [00:00<?, ?it/s]"
      ]
     },
     "metadata": {},
     "output_type": "display_data"
    },
    {
     "name": "stdout",
     "output_type": "stream",
     "text": [
      "Summary:\n",
      "-learning rate = 0.05550\n",
      "-path 1 has early stopped:\n",
      " 4000 iterations with no improvement in train loss.\n",
      "-Model saved after iteration 1.\n",
      "-Train.  Loss=0.8045654\n",
      "-Valid.  Loss=0.7588447\n",
      "'train_loss05_5.csv' saved.\n",
      "'valid_loss05_5.csv' saved.\n",
      "'model10_forward05_5_last.pth' saved.\n",
      "'model10_forward05_5_best.pth' saved.\n",
      "- train minibatches = 1\n",
      "- valid minibatches = 1\n",
      "- test minibatches = 1\n"
     ]
    },
    {
     "data": {
      "application/vnd.jupyter.widget-view+json": {
       "model_id": "",
       "version_major": 2,
       "version_minor": 0
      },
      "text/plain": [
       "Epochs loop:   0%|          | 0/20000 [00:00<?, ?it/s]"
      ]
     },
     "metadata": {},
     "output_type": "display_data"
    },
    {
     "name": "stdout",
     "output_type": "stream",
     "text": [
      "Summary:\n",
      "-learning rate = 0.05550\n",
      "-path 1 has early stopped:\n",
      " 4000 iterations with no improvement in train loss.\n",
      "-Model saved after iteration 2.\n",
      "-Train.  Loss=0.6923080\n",
      "-Valid.  Loss=0.2701603\n",
      "'train_loss05_6.csv' saved.\n",
      "'valid_loss05_6.csv' saved.\n",
      "'model10_forward05_6_last.pth' saved.\n",
      "'model10_forward05_6_best.pth' saved.\n",
      "- train minibatches = 1\n",
      "- valid minibatches = 1\n",
      "- test minibatches = 1\n"
     ]
    },
    {
     "data": {
      "application/vnd.jupyter.widget-view+json": {
       "model_id": "",
       "version_major": 2,
       "version_minor": 0
      },
      "text/plain": [
       "Epochs loop:   0%|          | 0/20000 [00:00<?, ?it/s]"
      ]
     },
     "metadata": {},
     "output_type": "display_data"
    },
    {
     "name": "stdout",
     "output_type": "stream",
     "text": [
      "Summary:\n",
      "-learning rate = 0.05550\n",
      "-path 1 has early stopped:\n",
      " 4000 iterations with no improvement in train loss.\n",
      "-Model saved after iteration 409.\n",
      "-Train.  Loss=0.0093874\n",
      "-Valid.  Loss=0.0646212\n",
      "'train_loss05_7.csv' saved.\n",
      "'valid_loss05_7.csv' saved.\n",
      "'model10_forward05_7_last.pth' saved.\n",
      "'model10_forward05_7_best.pth' saved.\n",
      "- train minibatches = 1\n",
      "- valid minibatches = 1\n",
      "- test minibatches = 1\n"
     ]
    },
    {
     "data": {
      "application/vnd.jupyter.widget-view+json": {
       "model_id": "",
       "version_major": 2,
       "version_minor": 0
      },
      "text/plain": [
       "Epochs loop:   0%|          | 0/20000 [00:00<?, ?it/s]"
      ]
     },
     "metadata": {},
     "output_type": "display_data"
    },
    {
     "name": "stdout",
     "output_type": "stream",
     "text": [
      "Summary:\n",
      "-learning rate = 0.05550\n",
      "-path 1 has early stopped:\n",
      " 4000 iterations with no improvement in train loss.\n",
      "-Model saved after iteration 8723.\n",
      "-Train.  Loss=0.0011059\n",
      "-Valid.  Loss=0.0113723\n",
      "'train_loss05_8.csv' saved.\n",
      "'valid_loss05_8.csv' saved.\n",
      "'model10_forward05_8_last.pth' saved.\n",
      "'model10_forward05_8_best.pth' saved.\n",
      "- train minibatches = 1\n",
      "- valid minibatches = 1\n",
      "- test minibatches = 1\n"
     ]
    },
    {
     "data": {
      "application/vnd.jupyter.widget-view+json": {
       "model_id": "",
       "version_major": 2,
       "version_minor": 0
      },
      "text/plain": [
       "Epochs loop:   0%|          | 0/20000 [00:00<?, ?it/s]"
      ]
     },
     "metadata": {},
     "output_type": "display_data"
    },
    {
     "name": "stdout",
     "output_type": "stream",
     "text": [
      "Summary:\n",
      "-learning rate = 0.05550\n",
      "-path 1 has early stopped:\n",
      " 4000 iterations with no improvement in train loss.\n",
      "-Model saved after iteration 1.\n",
      "-Train.  Loss=0.6968183\n",
      "-Valid.  Loss=0.6532403\n",
      "'train_loss05_9.csv' saved.\n",
      "'valid_loss05_9.csv' saved.\n",
      "'model10_forward05_9_last.pth' saved.\n",
      "'model10_forward05_9_best.pth' saved.\n",
      "- train minibatches = 1\n",
      "- valid minibatches = 1\n",
      "- test minibatches = 1\n"
     ]
    },
    {
     "data": {
      "application/vnd.jupyter.widget-view+json": {
       "model_id": "",
       "version_major": 2,
       "version_minor": 0
      },
      "text/plain": [
       "Epochs loop:   0%|          | 0/20000 [00:00<?, ?it/s]"
      ]
     },
     "metadata": {},
     "output_type": "display_data"
    },
    {
     "name": "stdout",
     "output_type": "stream",
     "text": [
      "Summary:\n",
      "-learning rate = 0.05550\n",
      "-path 1 has early stopped:\n",
      " 4000 iterations with no improvement in train loss.\n",
      "-Model saved after iteration 3.\n",
      "-Train.  Loss=0.0430987\n",
      "-Valid.  Loss=0.6120726\n",
      "'train_loss05_10.csv' saved.\n",
      "'valid_loss05_10.csv' saved.\n",
      "'model10_forward05_10_last.pth' saved.\n",
      "'model10_forward05_10_best.pth' saved.\n",
      "- train minibatches = 1\n",
      "- valid minibatches = 1\n",
      "- test minibatches = 1\n"
     ]
    },
    {
     "data": {
      "application/vnd.jupyter.widget-view+json": {
       "model_id": "",
       "version_major": 2,
       "version_minor": 0
      },
      "text/plain": [
       "Epochs loop:   0%|          | 0/20000 [00:00<?, ?it/s]"
      ]
     },
     "metadata": {},
     "output_type": "display_data"
    },
    {
     "name": "stdout",
     "output_type": "stream",
     "text": [
      "Summary:\n",
      "-learning rate = 0.05550\n",
      "-path 1 has early stopped:\n",
      " 4000 iterations with no improvement in train loss.\n",
      "-Model saved after iteration 3.\n",
      "-Train.  Loss=0.1903075\n",
      "-Valid.  Loss=0.5957804\n",
      "'train_loss05_11.csv' saved.\n",
      "'valid_loss05_11.csv' saved.\n",
      "'model10_forward05_11_last.pth' saved.\n",
      "'model10_forward05_11_best.pth' saved.\n",
      "- train minibatches = 1\n",
      "- valid minibatches = 1\n",
      "- test minibatches = 1\n"
     ]
    },
    {
     "data": {
      "application/vnd.jupyter.widget-view+json": {
       "model_id": "",
       "version_major": 2,
       "version_minor": 0
      },
      "text/plain": [
       "Epochs loop:   0%|          | 0/20000 [00:00<?, ?it/s]"
      ]
     },
     "metadata": {},
     "output_type": "display_data"
    },
    {
     "name": "stdout",
     "output_type": "stream",
     "text": [
      "Summary:\n",
      "-learning rate = 0.05550\n",
      "-path 1 has early stopped:\n",
      " 4000 iterations with no improvement in train loss.\n",
      "-Model saved after iteration 10257.\n",
      "-Train.  Loss=0.0192552\n",
      "-Valid.  Loss=0.0010041\n",
      "'train_loss05_12.csv' saved.\n",
      "'valid_loss05_12.csv' saved.\n",
      "'model10_forward05_12_last.pth' saved.\n",
      "'model10_forward05_12_best.pth' saved.\n",
      "- train minibatches = 1\n",
      "- valid minibatches = 1\n",
      "- test minibatches = 1\n"
     ]
    },
    {
     "data": {
      "application/vnd.jupyter.widget-view+json": {
       "model_id": "",
       "version_major": 2,
       "version_minor": 0
      },
      "text/plain": [
       "Epochs loop:   0%|          | 0/20000 [00:00<?, ?it/s]"
      ]
     },
     "metadata": {},
     "output_type": "display_data"
    },
    {
     "name": "stdout",
     "output_type": "stream",
     "text": [
      "Summary:\n",
      "-learning rate = 0.05550\n",
      "-Model saved after iteration 19206.\n",
      "-Train.  Loss=0.0004905\n",
      "-Valid.  Loss=0.0052828\n",
      "'train_loss05_13.csv' saved.\n",
      "'valid_loss05_13.csv' saved.\n",
      "'model10_forward05_13_last.pth' saved.\n",
      "'model10_forward05_13_best.pth' saved.\n",
      "- train minibatches = 1\n",
      "- valid minibatches = 1\n",
      "- test minibatches = 1\n"
     ]
    },
    {
     "data": {
      "application/vnd.jupyter.widget-view+json": {
       "model_id": "",
       "version_major": 2,
       "version_minor": 0
      },
      "text/plain": [
       "Epochs loop:   0%|          | 0/20000 [00:00<?, ?it/s]"
      ]
     },
     "metadata": {},
     "output_type": "display_data"
    },
    {
     "name": "stdout",
     "output_type": "stream",
     "text": [
      "Summary:\n",
      "-learning rate = 0.05550\n",
      "-path 1 has early stopped:\n",
      " 4000 iterations with no improvement in train loss.\n",
      "-Model saved after iteration 879.\n",
      "-Train.  Loss=0.0186452\n",
      "-Valid.  Loss=0.6692455\n",
      "'train_loss05_14.csv' saved.\n",
      "'valid_loss05_14.csv' saved.\n",
      "'model10_forward05_14_last.pth' saved.\n",
      "'model10_forward05_14_best.pth' saved.\n",
      "- train minibatches = 1\n",
      "- valid minibatches = 1\n",
      "- test minibatches = 1\n"
     ]
    },
    {
     "data": {
      "application/vnd.jupyter.widget-view+json": {
       "model_id": "",
       "version_major": 2,
       "version_minor": 0
      },
      "text/plain": [
       "Epochs loop:   0%|          | 0/20000 [00:00<?, ?it/s]"
      ]
     },
     "metadata": {},
     "output_type": "display_data"
    },
    {
     "name": "stdout",
     "output_type": "stream",
     "text": [
      "Summary:\n",
      "-learning rate = 0.05550\n",
      "-path 1 has early stopped:\n",
      " 4000 iterations with no improvement in train loss.\n",
      "-Model saved after iteration 9.\n",
      "-Train.  Loss=0.0354750\n",
      "-Valid.  Loss=0.6839622\n",
      "'train_loss05_15.csv' saved.\n",
      "'valid_loss05_15.csv' saved.\n",
      "'model10_forward05_15_last.pth' saved.\n",
      "'model10_forward05_15_best.pth' saved.\n",
      "- train minibatches = 1\n",
      "- valid minibatches = 1\n",
      "- test minibatches = 1\n"
     ]
    },
    {
     "data": {
      "application/vnd.jupyter.widget-view+json": {
       "model_id": "",
       "version_major": 2,
       "version_minor": 0
      },
      "text/plain": [
       "Epochs loop:   0%|          | 0/20000 [00:00<?, ?it/s]"
      ]
     },
     "metadata": {},
     "output_type": "display_data"
    },
    {
     "name": "stdout",
     "output_type": "stream",
     "text": [
      "Summary:\n",
      "-learning rate = 0.05550\n",
      "-path 1 has early stopped:\n",
      " 4000 iterations with no improvement in train loss.\n",
      "-Model saved after iteration 6.\n",
      "-Train.  Loss=0.0395206\n",
      "-Valid.  Loss=0.2473801\n",
      "'train_loss05_16.csv' saved.\n",
      "'valid_loss05_16.csv' saved.\n",
      "'model10_forward05_16_last.pth' saved.\n",
      "'model10_forward05_16_best.pth' saved.\n",
      "- train minibatches = 1\n",
      "- valid minibatches = 1\n",
      "- test minibatches = 1\n"
     ]
    },
    {
     "data": {
      "application/vnd.jupyter.widget-view+json": {
       "model_id": "",
       "version_major": 2,
       "version_minor": 0
      },
      "text/plain": [
       "Epochs loop:   0%|          | 0/20000 [00:00<?, ?it/s]"
      ]
     },
     "metadata": {},
     "output_type": "display_data"
    },
    {
     "name": "stdout",
     "output_type": "stream",
     "text": [
      "Summary:\n",
      "-learning rate = 0.05550\n",
      "-path 1 has early stopped:\n",
      " 4000 iterations with no improvement in train loss.\n",
      "-Model saved after iteration 3.\n",
      "-Train.  Loss=0.0447947\n",
      "-Valid.  Loss=0.5419448\n",
      "'train_loss05_17.csv' saved.\n",
      "'valid_loss05_17.csv' saved.\n",
      "'model10_forward05_17_last.pth' saved.\n",
      "'model10_forward05_17_best.pth' saved.\n",
      "- train minibatches = 1\n",
      "- valid minibatches = 1\n",
      "- test minibatches = 1\n"
     ]
    },
    {
     "data": {
      "application/vnd.jupyter.widget-view+json": {
       "model_id": "",
       "version_major": 2,
       "version_minor": 0
      },
      "text/plain": [
       "Epochs loop:   0%|          | 0/20000 [00:00<?, ?it/s]"
      ]
     },
     "metadata": {},
     "output_type": "display_data"
    },
    {
     "name": "stdout",
     "output_type": "stream",
     "text": [
      "Summary:\n",
      "-learning rate = 0.05550\n",
      "-path 1 has early stopped:\n",
      " 4000 iterations with no improvement in train loss.\n",
      "-Model saved after iteration 3.\n",
      "-Train.  Loss=0.1414577\n",
      "-Valid.  Loss=0.1134328\n",
      "'train_loss05_18.csv' saved.\n",
      "'valid_loss05_18.csv' saved.\n",
      "'model10_forward05_18_last.pth' saved.\n",
      "'model10_forward05_18_best.pth' saved.\n",
      "- train minibatches = 1\n",
      "- valid minibatches = 1\n",
      "- test minibatches = 1\n"
     ]
    },
    {
     "data": {
      "application/vnd.jupyter.widget-view+json": {
       "model_id": "",
       "version_major": 2,
       "version_minor": 0
      },
      "text/plain": [
       "Epochs loop:   0%|          | 0/20000 [00:00<?, ?it/s]"
      ]
     },
     "metadata": {},
     "output_type": "display_data"
    },
    {
     "name": "stdout",
     "output_type": "stream",
     "text": [
      "Summary:\n",
      "-learning rate = 0.05550\n",
      "-Model saved after iteration 20000.\n",
      "-Train.  Loss=0.0265218\n",
      "-Valid.  Loss=0.3989471\n",
      "'train_loss05_19.csv' saved.\n",
      "'valid_loss05_19.csv' saved.\n",
      "'model10_forward05_19_last.pth' saved.\n",
      "'model10_forward05_19_best.pth' saved.\n",
      "- train minibatches = 1\n",
      "- valid minibatches = 1\n",
      "- test minibatches = 1\n"
     ]
    },
    {
     "data": {
      "application/vnd.jupyter.widget-view+json": {
       "model_id": "",
       "version_major": 2,
       "version_minor": 0
      },
      "text/plain": [
       "Epochs loop:   0%|          | 0/20000 [00:00<?, ?it/s]"
      ]
     },
     "metadata": {},
     "output_type": "display_data"
    },
    {
     "name": "stdout",
     "output_type": "stream",
     "text": [
      "Summary:\n",
      "-learning rate = 0.05550\n",
      "-path 1 has early stopped:\n",
      " 4000 iterations with no improvement in train loss.\n",
      "-Model saved after iteration 2.\n",
      "-Train.  Loss=0.3504232\n",
      "-Valid.  Loss=0.3357358\n",
      "'train_loss05_20.csv' saved.\n",
      "'valid_loss05_20.csv' saved.\n",
      "'model10_forward05_20_last.pth' saved.\n",
      "'model10_forward05_20_best.pth' saved.\n",
      "- train minibatches = 1\n",
      "- valid minibatches = 1\n",
      "- test minibatches = 1\n"
     ]
    },
    {
     "data": {
      "application/vnd.jupyter.widget-view+json": {
       "model_id": "",
       "version_major": 2,
       "version_minor": 0
      },
      "text/plain": [
       "Epochs loop:   0%|          | 0/20000 [00:00<?, ?it/s]"
      ]
     },
     "metadata": {},
     "output_type": "display_data"
    },
    {
     "name": "stdout",
     "output_type": "stream",
     "text": [
      "Summary:\n",
      "-learning rate = 0.05550\n",
      "-path 1 has early stopped:\n",
      " 4000 iterations with no improvement in train loss.\n",
      "-Model saved after iteration 13.\n",
      "-Train.  Loss=0.0317763\n",
      "-Valid.  Loss=0.0633826\n",
      "'train_loss05_21.csv' saved.\n",
      "'valid_loss05_21.csv' saved.\n",
      "'model10_forward05_21_last.pth' saved.\n",
      "'model10_forward05_21_best.pth' saved.\n",
      "- train minibatches = 1\n",
      "- valid minibatches = 1\n",
      "- test minibatches = 1\n"
     ]
    },
    {
     "data": {
      "application/vnd.jupyter.widget-view+json": {
       "model_id": "",
       "version_major": 2,
       "version_minor": 0
      },
      "text/plain": [
       "Epochs loop:   0%|          | 0/20000 [00:00<?, ?it/s]"
      ]
     },
     "metadata": {},
     "output_type": "display_data"
    },
    {
     "name": "stdout",
     "output_type": "stream",
     "text": [
      "Summary:\n",
      "-learning rate = 0.05550\n",
      "-path 1 has early stopped:\n",
      " 4000 iterations with no improvement in train loss.\n",
      "-Model saved after iteration 1.\n",
      "-Train.  Loss=0.6675731\n",
      "-Valid.  Loss=0.6598244\n",
      "'train_loss05_22.csv' saved.\n",
      "'valid_loss05_22.csv' saved.\n",
      "'model10_forward05_22_last.pth' saved.\n",
      "'model10_forward05_22_best.pth' saved.\n",
      "- train minibatches = 1\n",
      "- valid minibatches = 1\n",
      "- test minibatches = 1\n"
     ]
    },
    {
     "data": {
      "application/vnd.jupyter.widget-view+json": {
       "model_id": "",
       "version_major": 2,
       "version_minor": 0
      },
      "text/plain": [
       "Epochs loop:   0%|          | 0/20000 [00:00<?, ?it/s]"
      ]
     },
     "metadata": {},
     "output_type": "display_data"
    },
    {
     "name": "stdout",
     "output_type": "stream",
     "text": [
      "Summary:\n",
      "-learning rate = 0.05550\n",
      "-path 1 has early stopped:\n",
      " 4000 iterations with no improvement in train loss.\n",
      "-Model saved after iteration 3.\n",
      "-Train.  Loss=0.1212937\n",
      "-Valid.  Loss=0.0116992\n",
      "'train_loss05_23.csv' saved.\n",
      "'valid_loss05_23.csv' saved.\n",
      "'model10_forward05_23_last.pth' saved.\n",
      "'model10_forward05_23_best.pth' saved.\n",
      "- train minibatches = 1\n",
      "- valid minibatches = 1\n",
      "- test minibatches = 1\n"
     ]
    },
    {
     "data": {
      "application/vnd.jupyter.widget-view+json": {
       "model_id": "",
       "version_major": 2,
       "version_minor": 0
      },
      "text/plain": [
       "Epochs loop:   0%|          | 0/20000 [00:00<?, ?it/s]"
      ]
     },
     "metadata": {},
     "output_type": "display_data"
    },
    {
     "name": "stdout",
     "output_type": "stream",
     "text": [
      "Summary:\n",
      "-learning rate = 0.05550\n",
      "-path 1 has early stopped:\n",
      " 4000 iterations with no improvement in train loss.\n",
      "-Model saved after iteration 1.\n",
      "-Train.  Loss=0.7255193\n",
      "-Valid.  Loss=0.7704609\n",
      "'train_loss05_24.csv' saved.\n",
      "'valid_loss05_24.csv' saved.\n",
      "'model10_forward05_24_last.pth' saved.\n",
      "'model10_forward05_24_best.pth' saved.\n",
      "- train minibatches = 1\n",
      "- valid minibatches = 1\n",
      "- test minibatches = 1\n"
     ]
    },
    {
     "data": {
      "application/vnd.jupyter.widget-view+json": {
       "model_id": "",
       "version_major": 2,
       "version_minor": 0
      },
      "text/plain": [
       "Epochs loop:   0%|          | 0/20000 [00:00<?, ?it/s]"
      ]
     },
     "metadata": {},
     "output_type": "display_data"
    },
    {
     "name": "stdout",
     "output_type": "stream",
     "text": [
      "Summary:\n",
      "-learning rate = 0.05550\n",
      "-path 1 has early stopped:\n",
      " 4000 iterations with no improvement in train loss.\n",
      "-Model saved after iteration 2.\n",
      "-Train.  Loss=0.5313760\n",
      "-Valid.  Loss=0.4018217\n",
      "'train_loss05_25.csv' saved.\n",
      "'valid_loss05_25.csv' saved.\n",
      "'model10_forward05_25_last.pth' saved.\n",
      "'model10_forward05_25_best.pth' saved.\n",
      "- train minibatches = 1\n",
      "- valid minibatches = 1\n",
      "- test minibatches = 1\n"
     ]
    },
    {
     "data": {
      "application/vnd.jupyter.widget-view+json": {
       "model_id": "",
       "version_major": 2,
       "version_minor": 0
      },
      "text/plain": [
       "Epochs loop:   0%|          | 0/20000 [00:00<?, ?it/s]"
      ]
     },
     "metadata": {},
     "output_type": "display_data"
    },
    {
     "name": "stdout",
     "output_type": "stream",
     "text": [
      "Summary:\n",
      "-learning rate = 0.05550\n",
      "-Model saved after iteration 20000.\n",
      "-Train.  Loss=0.0005004\n",
      "-Valid.  Loss=0.0040941\n",
      "'train_loss05_26.csv' saved.\n",
      "'valid_loss05_26.csv' saved.\n",
      "'model10_forward05_26_last.pth' saved.\n",
      "'model10_forward05_26_best.pth' saved.\n",
      "- train minibatches = 1\n",
      "- valid minibatches = 1\n",
      "- test minibatches = 1\n"
     ]
    },
    {
     "data": {
      "application/vnd.jupyter.widget-view+json": {
       "model_id": "",
       "version_major": 2,
       "version_minor": 0
      },
      "text/plain": [
       "Epochs loop:   0%|          | 0/20000 [00:00<?, ?it/s]"
      ]
     },
     "metadata": {},
     "output_type": "display_data"
    },
    {
     "name": "stdout",
     "output_type": "stream",
     "text": [
      "Summary:\n",
      "-learning rate = 0.05550\n",
      "-path 1 has early stopped:\n",
      " 4000 iterations with no improvement in train loss.\n",
      "-Model saved after iteration 2.\n",
      "-Train.  Loss=0.3617542\n",
      "-Valid.  Loss=0.3739280\n",
      "'train_loss05_27.csv' saved.\n",
      "'valid_loss05_27.csv' saved.\n",
      "'model10_forward05_27_last.pth' saved.\n",
      "'model10_forward05_27_best.pth' saved.\n",
      "- train minibatches = 1\n",
      "- valid minibatches = 1\n",
      "- test minibatches = 1\n"
     ]
    },
    {
     "data": {
      "application/vnd.jupyter.widget-view+json": {
       "model_id": "",
       "version_major": 2,
       "version_minor": 0
      },
      "text/plain": [
       "Epochs loop:   0%|          | 0/20000 [00:00<?, ?it/s]"
      ]
     },
     "metadata": {},
     "output_type": "display_data"
    },
    {
     "name": "stdout",
     "output_type": "stream",
     "text": [
      "Summary:\n",
      "-learning rate = 0.05550\n",
      "-Model saved after iteration 20000.\n",
      "-Train.  Loss=0.0004074\n",
      "-Valid.  Loss=0.0130330\n",
      "'train_loss05_28.csv' saved.\n",
      "'valid_loss05_28.csv' saved.\n",
      "'model10_forward05_28_last.pth' saved.\n",
      "'model10_forward05_28_best.pth' saved.\n",
      "- train minibatches = 1\n",
      "- valid minibatches = 1\n",
      "- test minibatches = 1\n"
     ]
    },
    {
     "data": {
      "application/vnd.jupyter.widget-view+json": {
       "model_id": "",
       "version_major": 2,
       "version_minor": 0
      },
      "text/plain": [
       "Epochs loop:   0%|          | 0/20000 [00:00<?, ?it/s]"
      ]
     },
     "metadata": {},
     "output_type": "display_data"
    },
    {
     "name": "stdout",
     "output_type": "stream",
     "text": [
      "Summary:\n",
      "-learning rate = 0.05550\n",
      "-path 1 has early stopped:\n",
      " 4000 iterations with no improvement in train loss.\n",
      "-Model saved after iteration 3.\n",
      "-Train.  Loss=0.1002328\n",
      "-Valid.  Loss=0.4325794\n",
      "'train_loss05_29.csv' saved.\n",
      "'valid_loss05_29.csv' saved.\n",
      "'model10_forward05_29_last.pth' saved.\n",
      "'model10_forward05_29_best.pth' saved.\n",
      "- train minibatches = 1\n",
      "- valid minibatches = 1\n",
      "- test minibatches = 1\n"
     ]
    },
    {
     "data": {
      "application/vnd.jupyter.widget-view+json": {
       "model_id": "",
       "version_major": 2,
       "version_minor": 0
      },
      "text/plain": [
       "Epochs loop:   0%|          | 0/20000 [00:00<?, ?it/s]"
      ]
     },
     "metadata": {},
     "output_type": "display_data"
    },
    {
     "name": "stdout",
     "output_type": "stream",
     "text": [
      "Summary:\n",
      "-learning rate = 0.05550\n",
      "-path 1 has early stopped:\n",
      " 4000 iterations with no improvement in train loss.\n",
      "-Model saved after iteration 212.\n",
      "-Train.  Loss=0.1222185\n",
      "-Valid.  Loss=0.2050586\n",
      "'train_loss05_30.csv' saved.\n",
      "'valid_loss05_30.csv' saved.\n",
      "'model10_forward05_30_last.pth' saved.\n",
      "'model10_forward05_30_best.pth' saved.\n",
      "- train minibatches = 1\n",
      "- valid minibatches = 1\n",
      "- test minibatches = 1\n"
     ]
    },
    {
     "data": {
      "application/vnd.jupyter.widget-view+json": {
       "model_id": "",
       "version_major": 2,
       "version_minor": 0
      },
      "text/plain": [
       "Epochs loop:   0%|          | 0/20000 [00:00<?, ?it/s]"
      ]
     },
     "metadata": {},
     "output_type": "display_data"
    },
    {
     "name": "stdout",
     "output_type": "stream",
     "text": [
      "Summary:\n",
      "-learning rate = 0.05550\n",
      "-path 1 has early stopped:\n",
      " 4000 iterations with no improvement in train loss.\n",
      "-Model saved after iteration 2.\n",
      "-Train.  Loss=0.6925607\n",
      "-Valid.  Loss=0.1929929\n",
      "'train_loss05_31.csv' saved.\n",
      "'valid_loss05_31.csv' saved.\n",
      "'model10_forward05_31_last.pth' saved.\n",
      "'model10_forward05_31_best.pth' saved.\n",
      "- train minibatches = 1\n",
      "- valid minibatches = 1\n",
      "- test minibatches = 1\n"
     ]
    },
    {
     "data": {
      "application/vnd.jupyter.widget-view+json": {
       "model_id": "",
       "version_major": 2,
       "version_minor": 0
      },
      "text/plain": [
       "Epochs loop:   0%|          | 0/20000 [00:00<?, ?it/s]"
      ]
     },
     "metadata": {},
     "output_type": "display_data"
    },
    {
     "name": "stdout",
     "output_type": "stream",
     "text": [
      "Summary:\n",
      "-learning rate = 0.05550\n",
      "-path 1 has early stopped:\n",
      " 4000 iterations with no improvement in train loss.\n",
      "-Model saved after iteration 21.\n",
      "-Train.  Loss=0.0222184\n",
      "-Valid.  Loss=0.2988527\n",
      "'train_loss05_32.csv' saved.\n",
      "'valid_loss05_32.csv' saved.\n",
      "'model10_forward05_32_last.pth' saved.\n",
      "'model10_forward05_32_best.pth' saved.\n",
      "- train minibatches = 1\n",
      "- valid minibatches = 1\n",
      "- test minibatches = 1\n"
     ]
    },
    {
     "data": {
      "application/vnd.jupyter.widget-view+json": {
       "model_id": "",
       "version_major": 2,
       "version_minor": 0
      },
      "text/plain": [
       "Epochs loop:   0%|          | 0/20000 [00:00<?, ?it/s]"
      ]
     },
     "metadata": {},
     "output_type": "display_data"
    },
    {
     "name": "stdout",
     "output_type": "stream",
     "text": [
      "Summary:\n",
      "-learning rate = 0.05550\n",
      "-path 1 has early stopped:\n",
      " 4000 iterations with no improvement in train loss.\n",
      "-Model saved after iteration 2.\n",
      "-Train.  Loss=1.9429460\n",
      "-Valid.  Loss=0.0000360\n",
      "'train_loss05_33.csv' saved.\n",
      "'valid_loss05_33.csv' saved.\n",
      "'model10_forward05_33_last.pth' saved.\n",
      "'model10_forward05_33_best.pth' saved.\n",
      "- train minibatches = 1\n",
      "- valid minibatches = 1\n",
      "- test minibatches = 1\n"
     ]
    },
    {
     "data": {
      "application/vnd.jupyter.widget-view+json": {
       "model_id": "",
       "version_major": 2,
       "version_minor": 0
      },
      "text/plain": [
       "Epochs loop:   0%|          | 0/20000 [00:00<?, ?it/s]"
      ]
     },
     "metadata": {},
     "output_type": "display_data"
    },
    {
     "name": "stdout",
     "output_type": "stream",
     "text": [
      "Summary:\n",
      "-learning rate = 0.05550\n",
      "-path 1 has early stopped:\n",
      " 4000 iterations with no improvement in train loss.\n",
      "-Model saved after iteration 4.\n",
      "-Train.  Loss=0.0291140\n",
      "-Valid.  Loss=0.0929821\n",
      "'train_loss05_34.csv' saved.\n",
      "'valid_loss05_34.csv' saved.\n",
      "'model10_forward05_34_last.pth' saved.\n",
      "'model10_forward05_34_best.pth' saved.\n",
      "- train minibatches = 1\n",
      "- valid minibatches = 1\n",
      "- test minibatches = 1\n"
     ]
    },
    {
     "data": {
      "application/vnd.jupyter.widget-view+json": {
       "model_id": "",
       "version_major": 2,
       "version_minor": 0
      },
      "text/plain": [
       "Epochs loop:   0%|          | 0/20000 [00:00<?, ?it/s]"
      ]
     },
     "metadata": {},
     "output_type": "display_data"
    },
    {
     "name": "stdout",
     "output_type": "stream",
     "text": [
      "Summary:\n",
      "-learning rate = 0.05550\n",
      "-path 1 has early stopped:\n",
      " 4000 iterations with no improvement in train loss.\n",
      "-Model saved after iteration 1.\n",
      "-Train.  Loss=0.8498368\n",
      "-Valid.  Loss=0.7834495\n",
      "'train_loss05_35.csv' saved.\n",
      "'valid_loss05_35.csv' saved.\n",
      "'model10_forward05_35_last.pth' saved.\n",
      "'model10_forward05_35_best.pth' saved.\n",
      "- train minibatches = 1\n",
      "- valid minibatches = 1\n",
      "- test minibatches = 1\n"
     ]
    },
    {
     "data": {
      "application/vnd.jupyter.widget-view+json": {
       "model_id": "",
       "version_major": 2,
       "version_minor": 0
      },
      "text/plain": [
       "Epochs loop:   0%|          | 0/20000 [00:00<?, ?it/s]"
      ]
     },
     "metadata": {},
     "output_type": "display_data"
    },
    {
     "name": "stdout",
     "output_type": "stream",
     "text": [
      "Summary:\n",
      "-learning rate = 0.05550\n",
      "-Model saved after iteration 20000.\n",
      "-Train.  Loss=0.0312416\n",
      "-Valid.  Loss=0.0048937\n",
      "'train_loss05_36.csv' saved.\n",
      "'valid_loss05_36.csv' saved.\n",
      "'model10_forward05_36_last.pth' saved.\n",
      "'model10_forward05_36_best.pth' saved.\n",
      "- train minibatches = 1\n",
      "- valid minibatches = 1\n",
      "- test minibatches = 1\n"
     ]
    },
    {
     "data": {
      "application/vnd.jupyter.widget-view+json": {
       "model_id": "",
       "version_major": 2,
       "version_minor": 0
      },
      "text/plain": [
       "Epochs loop:   0%|          | 0/20000 [00:00<?, ?it/s]"
      ]
     },
     "metadata": {},
     "output_type": "display_data"
    },
    {
     "name": "stdout",
     "output_type": "stream",
     "text": [
      "Summary:\n",
      "-learning rate = 0.05550\n",
      "-path 1 has early stopped:\n",
      " 4000 iterations with no improvement in train loss.\n",
      "-Model saved after iteration 1.\n",
      "-Train.  Loss=0.7065368\n",
      "-Valid.  Loss=0.7438772\n",
      "'train_loss05_37.csv' saved.\n",
      "'valid_loss05_37.csv' saved.\n",
      "'model10_forward05_37_last.pth' saved.\n",
      "'model10_forward05_37_best.pth' saved.\n",
      "- train minibatches = 1\n",
      "- valid minibatches = 1\n",
      "- test minibatches = 1\n"
     ]
    },
    {
     "data": {
      "application/vnd.jupyter.widget-view+json": {
       "model_id": "",
       "version_major": 2,
       "version_minor": 0
      },
      "text/plain": [
       "Epochs loop:   0%|          | 0/20000 [00:00<?, ?it/s]"
      ]
     },
     "metadata": {},
     "output_type": "display_data"
    },
    {
     "name": "stdout",
     "output_type": "stream",
     "text": [
      "Summary:\n",
      "-learning rate = 0.05550\n",
      "-Model saved after iteration 19777.\n",
      "-Train.  Loss=0.0004626\n",
      "-Valid.  Loss=0.0000498\n",
      "'train_loss05_38.csv' saved.\n",
      "'valid_loss05_38.csv' saved.\n",
      "'model10_forward05_38_last.pth' saved.\n",
      "'model10_forward05_38_best.pth' saved.\n",
      "- train minibatches = 1\n",
      "- valid minibatches = 1\n",
      "- test minibatches = 1\n"
     ]
    },
    {
     "data": {
      "application/vnd.jupyter.widget-view+json": {
       "model_id": "",
       "version_major": 2,
       "version_minor": 0
      },
      "text/plain": [
       "Epochs loop:   0%|          | 0/20000 [00:00<?, ?it/s]"
      ]
     },
     "metadata": {},
     "output_type": "display_data"
    },
    {
     "name": "stdout",
     "output_type": "stream",
     "text": [
      "Summary:\n",
      "-learning rate = 0.05550\n",
      "-path 1 has early stopped:\n",
      " 4000 iterations with no improvement in train loss.\n",
      "-Model saved after iteration 4.\n",
      "-Train.  Loss=0.0841318\n",
      "-Valid.  Loss=0.6385001\n",
      "'train_loss05_39.csv' saved.\n",
      "'valid_loss05_39.csv' saved.\n",
      "'model10_forward05_39_last.pth' saved.\n",
      "'model10_forward05_39_best.pth' saved.\n",
      "- train minibatches = 1\n",
      "- valid minibatches = 1\n",
      "- test minibatches = 1\n"
     ]
    },
    {
     "data": {
      "application/vnd.jupyter.widget-view+json": {
       "model_id": "",
       "version_major": 2,
       "version_minor": 0
      },
      "text/plain": [
       "Epochs loop:   0%|          | 0/20000 [00:00<?, ?it/s]"
      ]
     },
     "metadata": {},
     "output_type": "display_data"
    },
    {
     "name": "stdout",
     "output_type": "stream",
     "text": [
      "Summary:\n",
      "-learning rate = 0.05550\n",
      "-path 1 has early stopped:\n",
      " 4000 iterations with no improvement in train loss.\n",
      "-Model saved after iteration 3.\n",
      "-Train.  Loss=0.0287748\n",
      "-Valid.  Loss=0.4520464\n",
      "'train_loss05_40.csv' saved.\n",
      "'valid_loss05_40.csv' saved.\n",
      "'model10_forward05_40_last.pth' saved.\n",
      "'model10_forward05_40_best.pth' saved.\n",
      "- train minibatches = 1\n",
      "- valid minibatches = 1\n",
      "- test minibatches = 1\n"
     ]
    },
    {
     "data": {
      "application/vnd.jupyter.widget-view+json": {
       "model_id": "",
       "version_major": 2,
       "version_minor": 0
      },
      "text/plain": [
       "Epochs loop:   0%|          | 0/20000 [00:00<?, ?it/s]"
      ]
     },
     "metadata": {},
     "output_type": "display_data"
    },
    {
     "name": "stdout",
     "output_type": "stream",
     "text": [
      "Summary:\n",
      "-learning rate = 0.05550\n",
      "-Model saved after iteration 20000.\n",
      "-Train.  Loss=0.0265216\n",
      "-Valid.  Loss=0.3909638\n",
      "'train_loss05_41.csv' saved.\n",
      "'valid_loss05_41.csv' saved.\n",
      "'model10_forward05_41_last.pth' saved.\n",
      "'model10_forward05_41_best.pth' saved.\n",
      "- train minibatches = 1\n",
      "- valid minibatches = 1\n",
      "- test minibatches = 1\n"
     ]
    },
    {
     "data": {
      "application/vnd.jupyter.widget-view+json": {
       "model_id": "",
       "version_major": 2,
       "version_minor": 0
      },
      "text/plain": [
       "Epochs loop:   0%|          | 0/20000 [00:00<?, ?it/s]"
      ]
     },
     "metadata": {},
     "output_type": "display_data"
    },
    {
     "name": "stdout",
     "output_type": "stream",
     "text": [
      "Summary:\n",
      "-learning rate = 0.05550\n",
      "-path 1 has early stopped:\n",
      " 4000 iterations with no improvement in train loss.\n",
      "-Model saved after iteration 1.\n",
      "-Train.  Loss=0.7525686\n",
      "-Valid.  Loss=0.6315749\n",
      "'train_loss05_42.csv' saved.\n",
      "'valid_loss05_42.csv' saved.\n",
      "'model10_forward05_42_last.pth' saved.\n",
      "'model10_forward05_42_best.pth' saved.\n",
      "- train minibatches = 1\n",
      "- valid minibatches = 1\n",
      "- test minibatches = 1\n"
     ]
    },
    {
     "data": {
      "application/vnd.jupyter.widget-view+json": {
       "model_id": "",
       "version_major": 2,
       "version_minor": 0
      },
      "text/plain": [
       "Epochs loop:   0%|          | 0/20000 [00:00<?, ?it/s]"
      ]
     },
     "metadata": {},
     "output_type": "display_data"
    },
    {
     "name": "stdout",
     "output_type": "stream",
     "text": [
      "Summary:\n",
      "-learning rate = 0.05550\n",
      "-path 1 has early stopped:\n",
      " 4000 iterations with no improvement in train loss.\n",
      "-Model saved after iteration 2.\n",
      "-Train.  Loss=1.0676702\n",
      "-Valid.  Loss=0.0119810\n",
      "'train_loss05_43.csv' saved.\n",
      "'valid_loss05_43.csv' saved.\n",
      "'model10_forward05_43_last.pth' saved.\n",
      "'model10_forward05_43_best.pth' saved.\n",
      "- train minibatches = 1\n",
      "- valid minibatches = 1\n",
      "- test minibatches = 1\n"
     ]
    },
    {
     "data": {
      "application/vnd.jupyter.widget-view+json": {
       "model_id": "",
       "version_major": 2,
       "version_minor": 0
      },
      "text/plain": [
       "Epochs loop:   0%|          | 0/20000 [00:00<?, ?it/s]"
      ]
     },
     "metadata": {},
     "output_type": "display_data"
    },
    {
     "name": "stdout",
     "output_type": "stream",
     "text": [
      "Summary:\n",
      "-learning rate = 0.05550\n",
      "-path 1 has early stopped:\n",
      " 4000 iterations with no improvement in train loss.\n",
      "-Model saved after iteration 3.\n",
      "-Train.  Loss=0.1564080\n",
      "-Valid.  Loss=0.4538931\n",
      "'train_loss05_44.csv' saved.\n",
      "'valid_loss05_44.csv' saved.\n",
      "'model10_forward05_44_last.pth' saved.\n",
      "'model10_forward05_44_best.pth' saved.\n",
      "- train minibatches = 1\n",
      "- valid minibatches = 1\n",
      "- test minibatches = 1\n"
     ]
    },
    {
     "data": {
      "application/vnd.jupyter.widget-view+json": {
       "model_id": "",
       "version_major": 2,
       "version_minor": 0
      },
      "text/plain": [
       "Epochs loop:   0%|          | 0/20000 [00:00<?, ?it/s]"
      ]
     },
     "metadata": {},
     "output_type": "display_data"
    },
    {
     "name": "stdout",
     "output_type": "stream",
     "text": [
      "Summary:\n",
      "-learning rate = 0.05550\n",
      "-path 1 has early stopped:\n",
      " 4000 iterations with no improvement in train loss.\n",
      "-Model saved after iteration 13289.\n",
      "-Train.  Loss=0.0007003\n",
      "-Valid.  Loss=0.0014146\n",
      "'train_loss05_45.csv' saved.\n",
      "'valid_loss05_45.csv' saved.\n",
      "'model10_forward05_45_last.pth' saved.\n",
      "'model10_forward05_45_best.pth' saved.\n",
      "- train minibatches = 1\n",
      "- valid minibatches = 1\n",
      "- test minibatches = 1\n"
     ]
    },
    {
     "data": {
      "application/vnd.jupyter.widget-view+json": {
       "model_id": "",
       "version_major": 2,
       "version_minor": 0
      },
      "text/plain": [
       "Epochs loop:   0%|          | 0/20000 [00:00<?, ?it/s]"
      ]
     },
     "metadata": {},
     "output_type": "display_data"
    },
    {
     "name": "stdout",
     "output_type": "stream",
     "text": [
      "Summary:\n",
      "-learning rate = 0.05550\n",
      "-path 1 has early stopped:\n",
      " 4000 iterations with no improvement in train loss.\n",
      "-Model saved after iteration 3.\n",
      "-Train.  Loss=0.0463561\n",
      "-Valid.  Loss=0.6050398\n",
      "'train_loss05_46.csv' saved.\n",
      "'valid_loss05_46.csv' saved.\n",
      "'model10_forward05_46_last.pth' saved.\n",
      "'model10_forward05_46_best.pth' saved.\n",
      "- train minibatches = 1\n",
      "- valid minibatches = 1\n",
      "- test minibatches = 1\n"
     ]
    },
    {
     "data": {
      "application/vnd.jupyter.widget-view+json": {
       "model_id": "",
       "version_major": 2,
       "version_minor": 0
      },
      "text/plain": [
       "Epochs loop:   0%|          | 0/20000 [00:00<?, ?it/s]"
      ]
     },
     "metadata": {},
     "output_type": "display_data"
    },
    {
     "name": "stdout",
     "output_type": "stream",
     "text": [
      "Summary:\n",
      "-learning rate = 0.05550\n",
      "-Model saved after iteration 17372.\n",
      "-Train.  Loss=0.0006330\n",
      "-Valid.  Loss=0.0002139\n",
      "'train_loss05_47.csv' saved.\n",
      "'valid_loss05_47.csv' saved.\n",
      "'model10_forward05_47_last.pth' saved.\n",
      "'model10_forward05_47_best.pth' saved.\n",
      "- train minibatches = 1\n",
      "- valid minibatches = 1\n",
      "- test minibatches = 1\n"
     ]
    },
    {
     "data": {
      "application/vnd.jupyter.widget-view+json": {
       "model_id": "",
       "version_major": 2,
       "version_minor": 0
      },
      "text/plain": [
       "Epochs loop:   0%|          | 0/20000 [00:00<?, ?it/s]"
      ]
     },
     "metadata": {},
     "output_type": "display_data"
    },
    {
     "name": "stdout",
     "output_type": "stream",
     "text": [
      "Summary:\n",
      "-learning rate = 0.05550\n",
      "-path 1 has early stopped:\n",
      " 4000 iterations with no improvement in train loss.\n",
      "-Model saved after iteration 1.\n",
      "-Train.  Loss=0.7860399\n",
      "-Valid.  Loss=0.7957759\n",
      "'train_loss05_48.csv' saved.\n",
      "'valid_loss05_48.csv' saved.\n",
      "'model10_forward05_48_last.pth' saved.\n",
      "'model10_forward05_48_best.pth' saved.\n",
      "- train minibatches = 1\n",
      "- valid minibatches = 1\n",
      "- test minibatches = 1\n"
     ]
    },
    {
     "data": {
      "application/vnd.jupyter.widget-view+json": {
       "model_id": "",
       "version_major": 2,
       "version_minor": 0
      },
      "text/plain": [
       "Epochs loop:   0%|          | 0/20000 [00:00<?, ?it/s]"
      ]
     },
     "metadata": {},
     "output_type": "display_data"
    },
    {
     "name": "stdout",
     "output_type": "stream",
     "text": [
      "Summary:\n",
      "-learning rate = 0.05550\n",
      "-path 1 has early stopped:\n",
      " 4000 iterations with no improvement in train loss.\n",
      "-Model saved after iteration 3.\n",
      "-Train.  Loss=0.0630485\n",
      "-Valid.  Loss=0.0995150\n",
      "'train_loss05_49.csv' saved.\n",
      "'valid_loss05_49.csv' saved.\n",
      "'model10_forward05_49_last.pth' saved.\n",
      "'model10_forward05_49_best.pth' saved.\n",
      "- train minibatches = 1\n",
      "- valid minibatches = 1\n",
      "- test minibatches = 1\n"
     ]
    },
    {
     "data": {
      "application/vnd.jupyter.widget-view+json": {
       "model_id": "",
       "version_major": 2,
       "version_minor": 0
      },
      "text/plain": [
       "Epochs loop:   0%|          | 0/20000 [00:00<?, ?it/s]"
      ]
     },
     "metadata": {},
     "output_type": "display_data"
    },
    {
     "name": "stdout",
     "output_type": "stream",
     "text": [
      "Summary:\n",
      "-learning rate = 0.05550\n",
      "-path 1 has early stopped:\n",
      " 4000 iterations with no improvement in train loss.\n",
      "-Model saved after iteration 1.\n",
      "-Train.  Loss=0.7483262\n",
      "-Valid.  Loss=0.7049965\n",
      "'train_loss05_50.csv' saved.\n",
      "'valid_loss05_50.csv' saved.\n",
      "'model10_forward05_50_last.pth' saved.\n",
      "'model10_forward05_50_best.pth' saved.\n",
      "- train minibatches = 1\n",
      "- valid minibatches = 1\n",
      "- test minibatches = 1\n"
     ]
    },
    {
     "data": {
      "application/vnd.jupyter.widget-view+json": {
       "model_id": "",
       "version_major": 2,
       "version_minor": 0
      },
      "text/plain": [
       "Epochs loop:   0%|          | 0/20000 [00:00<?, ?it/s]"
      ]
     },
     "metadata": {},
     "output_type": "display_data"
    },
    {
     "name": "stdout",
     "output_type": "stream",
     "text": [
      "Summary:\n",
      "-learning rate = 0.05550\n",
      "-path 1 has early stopped:\n",
      " 4000 iterations with no improvement in train loss.\n",
      "-Model saved after iteration 36.\n",
      "-Train.  Loss=0.0022492\n",
      "-Valid.  Loss=0.0281327\n",
      "'train_loss05_51.csv' saved.\n",
      "'valid_loss05_51.csv' saved.\n",
      "'model10_forward05_51_last.pth' saved.\n",
      "'model10_forward05_51_best.pth' saved.\n",
      "- train minibatches = 1\n",
      "- valid minibatches = 1\n",
      "- test minibatches = 1\n"
     ]
    },
    {
     "data": {
      "application/vnd.jupyter.widget-view+json": {
       "model_id": "",
       "version_major": 2,
       "version_minor": 0
      },
      "text/plain": [
       "Epochs loop:   0%|          | 0/20000 [00:00<?, ?it/s]"
      ]
     },
     "metadata": {},
     "output_type": "display_data"
    },
    {
     "name": "stdout",
     "output_type": "stream",
     "text": [
      "Summary:\n",
      "-learning rate = 0.05550\n",
      "-path 1 has early stopped:\n",
      " 4000 iterations with no improvement in train loss.\n",
      "-Model saved after iteration 277.\n",
      "-Train.  Loss=0.0332898\n",
      "-Valid.  Loss=0.0385200\n",
      "'train_loss05_52.csv' saved.\n",
      "'valid_loss05_52.csv' saved.\n",
      "'model10_forward05_52_last.pth' saved.\n",
      "'model10_forward05_52_best.pth' saved.\n",
      "- train minibatches = 1\n",
      "- valid minibatches = 1\n",
      "- test minibatches = 1\n"
     ]
    },
    {
     "data": {
      "application/vnd.jupyter.widget-view+json": {
       "model_id": "",
       "version_major": 2,
       "version_minor": 0
      },
      "text/plain": [
       "Epochs loop:   0%|          | 0/20000 [00:00<?, ?it/s]"
      ]
     },
     "metadata": {},
     "output_type": "display_data"
    },
    {
     "name": "stdout",
     "output_type": "stream",
     "text": [
      "Summary:\n",
      "-learning rate = 0.05550\n",
      "-path 1 has early stopped:\n",
      " 4000 iterations with no improvement in train loss.\n",
      "-Model saved after iteration 2.\n",
      "-Train.  Loss=0.3078769\n",
      "-Valid.  Loss=0.2023311\n",
      "'train_loss05_53.csv' saved.\n",
      "'valid_loss05_53.csv' saved.\n",
      "'model10_forward05_53_last.pth' saved.\n",
      "'model10_forward05_53_best.pth' saved.\n",
      "- train minibatches = 1\n",
      "- valid minibatches = 1\n",
      "- test minibatches = 1\n"
     ]
    },
    {
     "data": {
      "application/vnd.jupyter.widget-view+json": {
       "model_id": "",
       "version_major": 2,
       "version_minor": 0
      },
      "text/plain": [
       "Epochs loop:   0%|          | 0/20000 [00:00<?, ?it/s]"
      ]
     },
     "metadata": {},
     "output_type": "display_data"
    },
    {
     "name": "stdout",
     "output_type": "stream",
     "text": [
      "Summary:\n",
      "-learning rate = 0.05550\n",
      "-path 1 has early stopped:\n",
      " 4000 iterations with no improvement in train loss.\n",
      "-Model saved after iteration 12.\n",
      "-Train.  Loss=0.0390254\n",
      "-Valid.  Loss=0.3704179\n",
      "'train_loss05_54.csv' saved.\n",
      "'valid_loss05_54.csv' saved.\n",
      "'model10_forward05_54_last.pth' saved.\n",
      "'model10_forward05_54_best.pth' saved.\n",
      "- train minibatches = 1\n",
      "- valid minibatches = 1\n",
      "- test minibatches = 1\n"
     ]
    },
    {
     "data": {
      "application/vnd.jupyter.widget-view+json": {
       "model_id": "",
       "version_major": 2,
       "version_minor": 0
      },
      "text/plain": [
       "Epochs loop:   0%|          | 0/20000 [00:00<?, ?it/s]"
      ]
     },
     "metadata": {},
     "output_type": "display_data"
    },
    {
     "name": "stdout",
     "output_type": "stream",
     "text": [
      "Summary:\n",
      "-learning rate = 0.05550\n",
      "-path 1 has early stopped:\n",
      " 4000 iterations with no improvement in train loss.\n",
      "-Model saved after iteration 4.\n",
      "-Train.  Loss=0.0333583\n",
      "-Valid.  Loss=0.3273937\n",
      "'train_loss05_55.csv' saved.\n",
      "'valid_loss05_55.csv' saved.\n",
      "'model10_forward05_55_last.pth' saved.\n",
      "'model10_forward05_55_best.pth' saved.\n",
      "- train minibatches = 1\n",
      "- valid minibatches = 1\n",
      "- test minibatches = 1\n"
     ]
    },
    {
     "data": {
      "application/vnd.jupyter.widget-view+json": {
       "model_id": "",
       "version_major": 2,
       "version_minor": 0
      },
      "text/plain": [
       "Epochs loop:   0%|          | 0/20000 [00:00<?, ?it/s]"
      ]
     },
     "metadata": {},
     "output_type": "display_data"
    },
    {
     "name": "stdout",
     "output_type": "stream",
     "text": [
      "Summary:\n",
      "-learning rate = 0.05550\n",
      "-path 1 has early stopped:\n",
      " 4000 iterations with no improvement in train loss.\n",
      "-Model saved after iteration 3.\n",
      "-Train.  Loss=0.0923958\n",
      "-Valid.  Loss=0.2133589\n",
      "'train_loss05_56.csv' saved.\n",
      "'valid_loss05_56.csv' saved.\n",
      "'model10_forward05_56_last.pth' saved.\n",
      "'model10_forward05_56_best.pth' saved.\n",
      "- train minibatches = 1\n",
      "- valid minibatches = 1\n",
      "- test minibatches = 1\n"
     ]
    },
    {
     "data": {
      "application/vnd.jupyter.widget-view+json": {
       "model_id": "",
       "version_major": 2,
       "version_minor": 0
      },
      "text/plain": [
       "Epochs loop:   0%|          | 0/20000 [00:00<?, ?it/s]"
      ]
     },
     "metadata": {},
     "output_type": "display_data"
    },
    {
     "name": "stdout",
     "output_type": "stream",
     "text": [
      "Summary:\n",
      "-learning rate = 0.05550\n",
      "-path 1 has early stopped:\n",
      " 4000 iterations with no improvement in train loss.\n",
      "-Model saved after iteration 4.\n",
      "-Train.  Loss=0.0644363\n",
      "-Valid.  Loss=0.2865987\n",
      "'train_loss05_57.csv' saved.\n",
      "'valid_loss05_57.csv' saved.\n",
      "'model10_forward05_57_last.pth' saved.\n",
      "'model10_forward05_57_best.pth' saved.\n",
      "- train minibatches = 1\n",
      "- valid minibatches = 1\n",
      "- test minibatches = 1\n"
     ]
    },
    {
     "data": {
      "application/vnd.jupyter.widget-view+json": {
       "model_id": "",
       "version_major": 2,
       "version_minor": 0
      },
      "text/plain": [
       "Epochs loop:   0%|          | 0/20000 [00:00<?, ?it/s]"
      ]
     },
     "metadata": {},
     "output_type": "display_data"
    },
    {
     "name": "stdout",
     "output_type": "stream",
     "text": [
      "Summary:\n",
      "-learning rate = 0.05550\n",
      "-path 1 has early stopped:\n",
      " 4000 iterations with no improvement in train loss.\n",
      "-Model saved after iteration 1.\n",
      "-Train.  Loss=0.7192451\n",
      "-Valid.  Loss=0.7230431\n",
      "'train_loss05_58.csv' saved.\n",
      "'valid_loss05_58.csv' saved.\n",
      "'model10_forward05_58_last.pth' saved.\n",
      "'model10_forward05_58_best.pth' saved.\n",
      "- train minibatches = 1\n",
      "- valid minibatches = 1\n",
      "- test minibatches = 1\n"
     ]
    },
    {
     "data": {
      "application/vnd.jupyter.widget-view+json": {
       "model_id": "",
       "version_major": 2,
       "version_minor": 0
      },
      "text/plain": [
       "Epochs loop:   0%|          | 0/20000 [00:00<?, ?it/s]"
      ]
     },
     "metadata": {},
     "output_type": "display_data"
    },
    {
     "name": "stdout",
     "output_type": "stream",
     "text": [
      "Summary:\n",
      "-learning rate = 0.05550\n",
      "-path 1 has early stopped:\n",
      " 4000 iterations with no improvement in train loss.\n",
      "-Model saved after iteration 5.\n",
      "-Train.  Loss=0.0791504\n",
      "-Valid.  Loss=0.1412007\n",
      "'train_loss05_59.csv' saved.\n",
      "'valid_loss05_59.csv' saved.\n",
      "'model10_forward05_59_last.pth' saved.\n",
      "'model10_forward05_59_best.pth' saved.\n",
      "- train minibatches = 1\n",
      "- valid minibatches = 1\n",
      "- test minibatches = 1\n"
     ]
    },
    {
     "data": {
      "application/vnd.jupyter.widget-view+json": {
       "model_id": "",
       "version_major": 2,
       "version_minor": 0
      },
      "text/plain": [
       "Epochs loop:   0%|          | 0/20000 [00:00<?, ?it/s]"
      ]
     },
     "metadata": {},
     "output_type": "display_data"
    },
    {
     "name": "stdout",
     "output_type": "stream",
     "text": [
      "Summary:\n",
      "-learning rate = 0.05550\n",
      "-path 1 has early stopped:\n",
      " 4000 iterations with no improvement in train loss.\n",
      "-Model saved after iteration 5.\n",
      "-Train.  Loss=0.0377000\n",
      "-Valid.  Loss=0.3640548\n",
      "'train_loss05_60.csv' saved.\n",
      "'valid_loss05_60.csv' saved.\n",
      "'model10_forward05_60_last.pth' saved.\n",
      "'model10_forward05_60_best.pth' saved.\n",
      "- train minibatches = 1\n",
      "- valid minibatches = 1\n",
      "- test minibatches = 1\n"
     ]
    },
    {
     "data": {
      "application/vnd.jupyter.widget-view+json": {
       "model_id": "",
       "version_major": 2,
       "version_minor": 0
      },
      "text/plain": [
       "Epochs loop:   0%|          | 0/20000 [00:00<?, ?it/s]"
      ]
     },
     "metadata": {},
     "output_type": "display_data"
    },
    {
     "name": "stdout",
     "output_type": "stream",
     "text": [
      "Summary:\n",
      "-learning rate = 0.05550\n",
      "-path 1 has early stopped:\n",
      " 4000 iterations with no improvement in train loss.\n",
      "-Model saved after iteration 4.\n",
      "-Train.  Loss=0.0672600\n",
      "-Valid.  Loss=0.2593489\n",
      "'train_loss05_61.csv' saved.\n",
      "'valid_loss05_61.csv' saved.\n",
      "'model10_forward05_61_last.pth' saved.\n",
      "'model10_forward05_61_best.pth' saved.\n",
      "- train minibatches = 1\n",
      "- valid minibatches = 1\n",
      "- test minibatches = 1\n"
     ]
    },
    {
     "data": {
      "application/vnd.jupyter.widget-view+json": {
       "model_id": "",
       "version_major": 2,
       "version_minor": 0
      },
      "text/plain": [
       "Epochs loop:   0%|          | 0/20000 [00:00<?, ?it/s]"
      ]
     },
     "metadata": {},
     "output_type": "display_data"
    },
    {
     "name": "stdout",
     "output_type": "stream",
     "text": [
      "Summary:\n",
      "-learning rate = 0.05550\n",
      "-path 1 has early stopped:\n",
      " 4000 iterations with no improvement in train loss.\n",
      "-Model saved after iteration 6.\n",
      "-Train.  Loss=0.0173209\n",
      "-Valid.  Loss=0.3791538\n",
      "'train_loss05_62.csv' saved.\n",
      "'valid_loss05_62.csv' saved.\n",
      "'model10_forward05_62_last.pth' saved.\n",
      "'model10_forward05_62_best.pth' saved.\n",
      "- train minibatches = 1\n",
      "- valid minibatches = 1\n",
      "- test minibatches = 1\n"
     ]
    },
    {
     "data": {
      "application/vnd.jupyter.widget-view+json": {
       "model_id": "",
       "version_major": 2,
       "version_minor": 0
      },
      "text/plain": [
       "Epochs loop:   0%|          | 0/20000 [00:00<?, ?it/s]"
      ]
     },
     "metadata": {},
     "output_type": "display_data"
    },
    {
     "name": "stdout",
     "output_type": "stream",
     "text": [
      "Summary:\n",
      "-learning rate = 0.05550\n",
      "-path 1 has early stopped:\n",
      " 4000 iterations with no improvement in train loss.\n",
      "-Model saved after iteration 7.\n",
      "-Train.  Loss=0.0352533\n",
      "-Valid.  Loss=0.6223828\n",
      "'train_loss05_63.csv' saved.\n",
      "'valid_loss05_63.csv' saved.\n",
      "'model10_forward05_63_last.pth' saved.\n",
      "'model10_forward05_63_best.pth' saved.\n",
      "- train minibatches = 1\n",
      "- valid minibatches = 1\n",
      "- test minibatches = 1\n"
     ]
    },
    {
     "data": {
      "application/vnd.jupyter.widget-view+json": {
       "model_id": "",
       "version_major": 2,
       "version_minor": 0
      },
      "text/plain": [
       "Epochs loop:   0%|          | 0/20000 [00:00<?, ?it/s]"
      ]
     },
     "metadata": {},
     "output_type": "display_data"
    },
    {
     "name": "stdout",
     "output_type": "stream",
     "text": [
      "Summary:\n",
      "-learning rate = 0.05550\n",
      "-path 1 has early stopped:\n",
      " 4000 iterations with no improvement in train loss.\n",
      "-Model saved after iteration 5.\n",
      "-Train.  Loss=0.0450267\n",
      "-Valid.  Loss=0.1889754\n",
      "'train_loss05_64.csv' saved.\n",
      "'valid_loss05_64.csv' saved.\n",
      "'model10_forward05_64_last.pth' saved.\n",
      "'model10_forward05_64_best.pth' saved.\n",
      "- train minibatches = 1\n",
      "- valid minibatches = 1\n",
      "- test minibatches = 1\n"
     ]
    },
    {
     "data": {
      "application/vnd.jupyter.widget-view+json": {
       "model_id": "",
       "version_major": 2,
       "version_minor": 0
      },
      "text/plain": [
       "Epochs loop:   0%|          | 0/20000 [00:00<?, ?it/s]"
      ]
     },
     "metadata": {},
     "output_type": "display_data"
    },
    {
     "name": "stdout",
     "output_type": "stream",
     "text": [
      "Summary:\n",
      "-learning rate = 0.05550\n",
      "-path 1 has early stopped:\n",
      " 4000 iterations with no improvement in train loss.\n",
      "-Model saved after iteration 5.\n",
      "-Train.  Loss=0.0716930\n",
      "-Valid.  Loss=0.2198055\n",
      "'train_loss05_65.csv' saved.\n",
      "'valid_loss05_65.csv' saved.\n",
      "'model10_forward05_65_last.pth' saved.\n",
      "'model10_forward05_65_best.pth' saved.\n",
      "- train minibatches = 1\n",
      "- valid minibatches = 1\n",
      "- test minibatches = 1\n"
     ]
    },
    {
     "data": {
      "application/vnd.jupyter.widget-view+json": {
       "model_id": "",
       "version_major": 2,
       "version_minor": 0
      },
      "text/plain": [
       "Epochs loop:   0%|          | 0/20000 [00:00<?, ?it/s]"
      ]
     },
     "metadata": {},
     "output_type": "display_data"
    },
    {
     "name": "stdout",
     "output_type": "stream",
     "text": [
      "Summary:\n",
      "-learning rate = 0.05550\n",
      "-path 1 has early stopped:\n",
      " 4000 iterations with no improvement in train loss.\n",
      "-Model saved after iteration 859.\n",
      "-Train.  Loss=0.0391788\n",
      "-Valid.  Loss=0.4686568\n",
      "'train_loss05_66.csv' saved.\n",
      "'valid_loss05_66.csv' saved.\n",
      "'model10_forward05_66_last.pth' saved.\n",
      "'model10_forward05_66_best.pth' saved.\n",
      "- train minibatches = 1\n",
      "- valid minibatches = 1\n",
      "- test minibatches = 1\n"
     ]
    },
    {
     "data": {
      "application/vnd.jupyter.widget-view+json": {
       "model_id": "",
       "version_major": 2,
       "version_minor": 0
      },
      "text/plain": [
       "Epochs loop:   0%|          | 0/20000 [00:00<?, ?it/s]"
      ]
     },
     "metadata": {},
     "output_type": "display_data"
    },
    {
     "name": "stdout",
     "output_type": "stream",
     "text": [
      "Summary:\n",
      "-learning rate = 0.05550\n",
      "-path 1 has early stopped:\n",
      " 4000 iterations with no improvement in train loss.\n",
      "-Model saved after iteration 235.\n",
      "-Train.  Loss=0.0404839\n",
      "-Valid.  Loss=0.1182309\n",
      "'train_loss05_67.csv' saved.\n",
      "'valid_loss05_67.csv' saved.\n",
      "'model10_forward05_67_last.pth' saved.\n",
      "'model10_forward05_67_best.pth' saved.\n",
      "- train minibatches = 1\n",
      "- valid minibatches = 1\n",
      "- test minibatches = 1\n"
     ]
    },
    {
     "data": {
      "application/vnd.jupyter.widget-view+json": {
       "model_id": "",
       "version_major": 2,
       "version_minor": 0
      },
      "text/plain": [
       "Epochs loop:   0%|          | 0/20000 [00:00<?, ?it/s]"
      ]
     },
     "metadata": {},
     "output_type": "display_data"
    },
    {
     "name": "stdout",
     "output_type": "stream",
     "text": [
      "Summary:\n",
      "-learning rate = 0.05550\n",
      "-path 1 has early stopped:\n",
      " 4000 iterations with no improvement in train loss.\n",
      "-Model saved after iteration 5.\n",
      "-Train.  Loss=0.0585169\n",
      "-Valid.  Loss=0.2313100\n",
      "'train_loss05_68.csv' saved.\n",
      "'valid_loss05_68.csv' saved.\n",
      "'model10_forward05_68_last.pth' saved.\n",
      "'model10_forward05_68_best.pth' saved.\n",
      "- train minibatches = 1\n",
      "- valid minibatches = 1\n",
      "- test minibatches = 1\n"
     ]
    },
    {
     "data": {
      "application/vnd.jupyter.widget-view+json": {
       "model_id": "",
       "version_major": 2,
       "version_minor": 0
      },
      "text/plain": [
       "Epochs loop:   0%|          | 0/20000 [00:00<?, ?it/s]"
      ]
     },
     "metadata": {},
     "output_type": "display_data"
    },
    {
     "name": "stdout",
     "output_type": "stream",
     "text": [
      "Summary:\n",
      "-learning rate = 0.05550\n",
      "-path 1 has early stopped:\n",
      " 4000 iterations with no improvement in train loss.\n",
      "-Model saved after iteration 3.\n",
      "-Train.  Loss=0.0369112\n",
      "-Valid.  Loss=0.3003416\n",
      "'train_loss05_69.csv' saved.\n",
      "'valid_loss05_69.csv' saved.\n",
      "'model10_forward05_69_last.pth' saved.\n",
      "'model10_forward05_69_best.pth' saved.\n",
      "- train minibatches = 1\n",
      "- valid minibatches = 1\n",
      "- test minibatches = 1\n"
     ]
    },
    {
     "data": {
      "application/vnd.jupyter.widget-view+json": {
       "model_id": "",
       "version_major": 2,
       "version_minor": 0
      },
      "text/plain": [
       "Epochs loop:   0%|          | 0/20000 [00:00<?, ?it/s]"
      ]
     },
     "metadata": {},
     "output_type": "display_data"
    },
    {
     "name": "stdout",
     "output_type": "stream",
     "text": [
      "Summary:\n",
      "-learning rate = 0.05550\n",
      "-Model saved after iteration 19779.\n",
      "-Train.  Loss=0.0004663\n",
      "-Valid.  Loss=0.0000311\n",
      "'train_loss05_70.csv' saved.\n",
      "'valid_loss05_70.csv' saved.\n",
      "'model10_forward05_70_last.pth' saved.\n",
      "'model10_forward05_70_best.pth' saved.\n",
      "- train minibatches = 1\n",
      "- valid minibatches = 1\n",
      "- test minibatches = 1\n"
     ]
    },
    {
     "data": {
      "application/vnd.jupyter.widget-view+json": {
       "model_id": "",
       "version_major": 2,
       "version_minor": 0
      },
      "text/plain": [
       "Epochs loop:   0%|          | 0/20000 [00:00<?, ?it/s]"
      ]
     },
     "metadata": {},
     "output_type": "display_data"
    },
    {
     "name": "stdout",
     "output_type": "stream",
     "text": [
      "Summary:\n",
      "-learning rate = 0.05550\n",
      "-path 1 has early stopped:\n",
      " 4000 iterations with no improvement in train loss.\n",
      "-Model saved after iteration 138.\n",
      "-Train.  Loss=0.0538900\n",
      "-Valid.  Loss=0.0159950\n",
      "'train_loss05_71.csv' saved.\n",
      "'valid_loss05_71.csv' saved.\n",
      "'model10_forward05_71_last.pth' saved.\n",
      "'model10_forward05_71_best.pth' saved.\n",
      "- train minibatches = 1\n",
      "- valid minibatches = 1\n",
      "- test minibatches = 1\n"
     ]
    },
    {
     "data": {
      "application/vnd.jupyter.widget-view+json": {
       "model_id": "",
       "version_major": 2,
       "version_minor": 0
      },
      "text/plain": [
       "Epochs loop:   0%|          | 0/20000 [00:00<?, ?it/s]"
      ]
     },
     "metadata": {},
     "output_type": "display_data"
    },
    {
     "name": "stdout",
     "output_type": "stream",
     "text": [
      "Summary:\n",
      "-learning rate = 0.05550\n",
      "-path 1 has early stopped:\n",
      " 4000 iterations with no improvement in train loss.\n",
      "-Model saved after iteration 4.\n",
      "-Train.  Loss=0.0253118\n",
      "-Valid.  Loss=0.2260043\n",
      "'train_loss05_72.csv' saved.\n",
      "'valid_loss05_72.csv' saved.\n",
      "'model10_forward05_72_last.pth' saved.\n",
      "'model10_forward05_72_best.pth' saved.\n",
      "- train minibatches = 1\n",
      "- valid minibatches = 1\n",
      "- test minibatches = 1\n"
     ]
    },
    {
     "data": {
      "application/vnd.jupyter.widget-view+json": {
       "model_id": "",
       "version_major": 2,
       "version_minor": 0
      },
      "text/plain": [
       "Epochs loop:   0%|          | 0/20000 [00:00<?, ?it/s]"
      ]
     },
     "metadata": {},
     "output_type": "display_data"
    },
    {
     "name": "stdout",
     "output_type": "stream",
     "text": [
      "Summary:\n",
      "-learning rate = 0.05550\n",
      "-path 1 has early stopped:\n",
      " 4000 iterations with no improvement in train loss.\n",
      "-Model saved after iteration 2.\n",
      "-Train.  Loss=1.4191458\n",
      "-Valid.  Loss=0.0170005\n",
      "'train_loss05_73.csv' saved.\n",
      "'valid_loss05_73.csv' saved.\n",
      "'model10_forward05_73_last.pth' saved.\n",
      "'model10_forward05_73_best.pth' saved.\n",
      "- train minibatches = 1\n",
      "- valid minibatches = 1\n",
      "- test minibatches = 1\n"
     ]
    },
    {
     "data": {
      "application/vnd.jupyter.widget-view+json": {
       "model_id": "",
       "version_major": 2,
       "version_minor": 0
      },
      "text/plain": [
       "Epochs loop:   0%|          | 0/20000 [00:00<?, ?it/s]"
      ]
     },
     "metadata": {},
     "output_type": "display_data"
    },
    {
     "name": "stdout",
     "output_type": "stream",
     "text": [
      "Summary:\n",
      "-learning rate = 0.05550\n",
      "-path 1 has early stopped:\n",
      " 4000 iterations with no improvement in train loss.\n",
      "-Model saved after iteration 3.\n",
      "-Train.  Loss=0.0530975\n",
      "-Valid.  Loss=0.6068513\n",
      "'train_loss05_74.csv' saved.\n",
      "'valid_loss05_74.csv' saved.\n",
      "'model10_forward05_74_last.pth' saved.\n",
      "'model10_forward05_74_best.pth' saved.\n",
      "- train minibatches = 1\n",
      "- valid minibatches = 1\n",
      "- test minibatches = 1\n"
     ]
    },
    {
     "data": {
      "application/vnd.jupyter.widget-view+json": {
       "model_id": "",
       "version_major": 2,
       "version_minor": 0
      },
      "text/plain": [
       "Epochs loop:   0%|          | 0/20000 [00:00<?, ?it/s]"
      ]
     },
     "metadata": {},
     "output_type": "display_data"
    },
    {
     "name": "stdout",
     "output_type": "stream",
     "text": [
      "Summary:\n",
      "-learning rate = 0.05550\n",
      "-path 1 has early stopped:\n",
      " 4000 iterations with no improvement in train loss.\n",
      "-Model saved after iteration 3.\n",
      "-Train.  Loss=0.0886446\n",
      "-Valid.  Loss=0.2898483\n",
      "'train_loss05_75.csv' saved.\n",
      "'valid_loss05_75.csv' saved.\n",
      "'model10_forward05_75_last.pth' saved.\n",
      "'model10_forward05_75_best.pth' saved.\n",
      "- train minibatches = 1\n",
      "- valid minibatches = 1\n",
      "- test minibatches = 1\n"
     ]
    },
    {
     "data": {
      "application/vnd.jupyter.widget-view+json": {
       "model_id": "",
       "version_major": 2,
       "version_minor": 0
      },
      "text/plain": [
       "Epochs loop:   0%|          | 0/20000 [00:00<?, ?it/s]"
      ]
     },
     "metadata": {},
     "output_type": "display_data"
    },
    {
     "name": "stdout",
     "output_type": "stream",
     "text": [
      "Summary:\n",
      "-learning rate = 0.05550\n",
      "-path 1 has early stopped:\n",
      " 4000 iterations with no improvement in train loss.\n",
      "-Model saved after iteration 3.\n",
      "-Train.  Loss=0.0837033\n",
      "-Valid.  Loss=0.2371826\n",
      "'train_loss05_76.csv' saved.\n",
      "'valid_loss05_76.csv' saved.\n",
      "'model10_forward05_76_last.pth' saved.\n",
      "'model10_forward05_76_best.pth' saved.\n",
      "- train minibatches = 1\n",
      "- valid minibatches = 1\n",
      "- test minibatches = 1\n"
     ]
    },
    {
     "data": {
      "application/vnd.jupyter.widget-view+json": {
       "model_id": "",
       "version_major": 2,
       "version_minor": 0
      },
      "text/plain": [
       "Epochs loop:   0%|          | 0/20000 [00:00<?, ?it/s]"
      ]
     },
     "metadata": {},
     "output_type": "display_data"
    },
    {
     "name": "stdout",
     "output_type": "stream",
     "text": [
      "Summary:\n",
      "-learning rate = 0.05550\n",
      "-path 1 has early stopped:\n",
      " 4000 iterations with no improvement in train loss.\n",
      "-Model saved after iteration 1.\n",
      "-Train.  Loss=0.6649885\n",
      "-Valid.  Loss=0.6716035\n",
      "'train_loss05_77.csv' saved.\n",
      "'valid_loss05_77.csv' saved.\n",
      "'model10_forward05_77_last.pth' saved.\n",
      "'model10_forward05_77_best.pth' saved.\n",
      "- train minibatches = 1\n",
      "- valid minibatches = 1\n",
      "- test minibatches = 1\n"
     ]
    },
    {
     "data": {
      "application/vnd.jupyter.widget-view+json": {
       "model_id": "",
       "version_major": 2,
       "version_minor": 0
      },
      "text/plain": [
       "Epochs loop:   0%|          | 0/20000 [00:00<?, ?it/s]"
      ]
     },
     "metadata": {},
     "output_type": "display_data"
    },
    {
     "name": "stdout",
     "output_type": "stream",
     "text": [
      "Summary:\n",
      "-learning rate = 0.05550\n",
      "-path 1 has early stopped:\n",
      " 4000 iterations with no improvement in train loss.\n",
      "-Model saved after iteration 1.\n",
      "-Train.  Loss=0.6863842\n",
      "-Valid.  Loss=0.6841442\n",
      "'train_loss05_78.csv' saved.\n",
      "'valid_loss05_78.csv' saved.\n",
      "'model10_forward05_78_last.pth' saved.\n",
      "'model10_forward05_78_best.pth' saved.\n",
      "- train minibatches = 1\n",
      "- valid minibatches = 1\n",
      "- test minibatches = 1\n"
     ]
    },
    {
     "data": {
      "application/vnd.jupyter.widget-view+json": {
       "model_id": "",
       "version_major": 2,
       "version_minor": 0
      },
      "text/plain": [
       "Epochs loop:   0%|          | 0/20000 [00:00<?, ?it/s]"
      ]
     },
     "metadata": {},
     "output_type": "display_data"
    },
    {
     "name": "stdout",
     "output_type": "stream",
     "text": [
      "Summary:\n",
      "-learning rate = 0.05550\n",
      "-Model saved after iteration 20000.\n",
      "-Train.  Loss=0.0265220\n",
      "-Valid.  Loss=0.0013359\n",
      "'train_loss05_79.csv' saved.\n",
      "'valid_loss05_79.csv' saved.\n",
      "'model10_forward05_79_last.pth' saved.\n",
      "'model10_forward05_79_best.pth' saved.\n",
      "- train minibatches = 1\n",
      "- valid minibatches = 1\n",
      "- test minibatches = 1\n"
     ]
    },
    {
     "data": {
      "application/vnd.jupyter.widget-view+json": {
       "model_id": "",
       "version_major": 2,
       "version_minor": 0
      },
      "text/plain": [
       "Epochs loop:   0%|          | 0/20000 [00:00<?, ?it/s]"
      ]
     },
     "metadata": {},
     "output_type": "display_data"
    },
    {
     "name": "stdout",
     "output_type": "stream",
     "text": [
      "Summary:\n",
      "-learning rate = 0.05550\n",
      "-path 1 has early stopped:\n",
      " 4000 iterations with no improvement in train loss.\n",
      "-Model saved after iteration 3.\n",
      "-Train.  Loss=0.4464158\n",
      "-Valid.  Loss=0.2454049\n",
      "'train_loss05_80.csv' saved.\n",
      "'valid_loss05_80.csv' saved.\n",
      "'model10_forward05_80_last.pth' saved.\n",
      "'model10_forward05_80_best.pth' saved.\n",
      "- train minibatches = 1\n",
      "- valid minibatches = 1\n",
      "- test minibatches = 1\n"
     ]
    },
    {
     "data": {
      "application/vnd.jupyter.widget-view+json": {
       "model_id": "",
       "version_major": 2,
       "version_minor": 0
      },
      "text/plain": [
       "Epochs loop:   0%|          | 0/20000 [00:00<?, ?it/s]"
      ]
     },
     "metadata": {},
     "output_type": "display_data"
    },
    {
     "name": "stdout",
     "output_type": "stream",
     "text": [
      "Summary:\n",
      "-learning rate = 0.05550\n",
      "-path 1 has early stopped:\n",
      " 4000 iterations with no improvement in train loss.\n",
      "-Model saved after iteration 4.\n",
      "-Train.  Loss=0.0583027\n",
      "-Valid.  Loss=0.6019262\n",
      "'train_loss05_81.csv' saved.\n",
      "'valid_loss05_81.csv' saved.\n",
      "'model10_forward05_81_last.pth' saved.\n",
      "'model10_forward05_81_best.pth' saved.\n",
      "- train minibatches = 1\n",
      "- valid minibatches = 1\n",
      "- test minibatches = 1\n"
     ]
    },
    {
     "data": {
      "application/vnd.jupyter.widget-view+json": {
       "model_id": "",
       "version_major": 2,
       "version_minor": 0
      },
      "text/plain": [
       "Epochs loop:   0%|          | 0/20000 [00:00<?, ?it/s]"
      ]
     },
     "metadata": {},
     "output_type": "display_data"
    },
    {
     "name": "stdout",
     "output_type": "stream",
     "text": [
      "Summary:\n",
      "-learning rate = 0.05550\n",
      "-path 1 has early stopped:\n",
      " 4000 iterations with no improvement in train loss.\n",
      "-Model saved after iteration 2.\n",
      "-Train.  Loss=1.2669557\n",
      "-Valid.  Loss=0.7473812\n",
      "'train_loss05_82.csv' saved.\n",
      "'valid_loss05_82.csv' saved.\n",
      "'model10_forward05_82_last.pth' saved.\n",
      "'model10_forward05_82_best.pth' saved.\n",
      "- train minibatches = 1\n",
      "- valid minibatches = 1\n",
      "- test minibatches = 1\n"
     ]
    },
    {
     "data": {
      "application/vnd.jupyter.widget-view+json": {
       "model_id": "",
       "version_major": 2,
       "version_minor": 0
      },
      "text/plain": [
       "Epochs loop:   0%|          | 0/20000 [00:00<?, ?it/s]"
      ]
     },
     "metadata": {},
     "output_type": "display_data"
    },
    {
     "name": "stdout",
     "output_type": "stream",
     "text": [
      "Summary:\n",
      "-learning rate = 0.05550\n",
      "-path 1 has early stopped:\n",
      " 4000 iterations with no improvement in train loss.\n",
      "-Model saved after iteration 1.\n",
      "-Train.  Loss=0.6980003\n",
      "-Valid.  Loss=0.7005165\n",
      "'train_loss05_83.csv' saved.\n",
      "'valid_loss05_83.csv' saved.\n",
      "'model10_forward05_83_last.pth' saved.\n",
      "'model10_forward05_83_best.pth' saved.\n",
      "- train minibatches = 1\n",
      "- valid minibatches = 1\n",
      "- test minibatches = 1\n"
     ]
    },
    {
     "data": {
      "application/vnd.jupyter.widget-view+json": {
       "model_id": "",
       "version_major": 2,
       "version_minor": 0
      },
      "text/plain": [
       "Epochs loop:   0%|          | 0/20000 [00:00<?, ?it/s]"
      ]
     },
     "metadata": {},
     "output_type": "display_data"
    },
    {
     "name": "stdout",
     "output_type": "stream",
     "text": [
      "Summary:\n",
      "-learning rate = 0.05550\n",
      "-path 1 has early stopped:\n",
      " 4000 iterations with no improvement in train loss.\n",
      "-Model saved after iteration 338.\n",
      "-Train.  Loss=0.0723306\n",
      "-Valid.  Loss=0.1468954\n",
      "'train_loss05_84.csv' saved.\n",
      "'valid_loss05_84.csv' saved.\n",
      "'model10_forward05_84_last.pth' saved.\n",
      "'model10_forward05_84_best.pth' saved.\n",
      "- train minibatches = 1\n",
      "- valid minibatches = 1\n",
      "- test minibatches = 1\n"
     ]
    },
    {
     "data": {
      "application/vnd.jupyter.widget-view+json": {
       "model_id": "",
       "version_major": 2,
       "version_minor": 0
      },
      "text/plain": [
       "Epochs loop:   0%|          | 0/20000 [00:00<?, ?it/s]"
      ]
     },
     "metadata": {},
     "output_type": "display_data"
    },
    {
     "name": "stdout",
     "output_type": "stream",
     "text": [
      "Summary:\n",
      "-learning rate = 0.05550\n",
      "-path 1 has early stopped:\n",
      " 4000 iterations with no improvement in train loss.\n",
      "-Model saved after iteration 1.\n",
      "-Train.  Loss=0.6929188\n",
      "-Valid.  Loss=0.5748630\n",
      "'train_loss05_85.csv' saved.\n",
      "'valid_loss05_85.csv' saved.\n",
      "'model10_forward05_85_last.pth' saved.\n",
      "'model10_forward05_85_best.pth' saved.\n",
      "- train minibatches = 1\n",
      "- valid minibatches = 1\n",
      "- test minibatches = 1\n"
     ]
    },
    {
     "data": {
      "application/vnd.jupyter.widget-view+json": {
       "model_id": "",
       "version_major": 2,
       "version_minor": 0
      },
      "text/plain": [
       "Epochs loop:   0%|          | 0/20000 [00:00<?, ?it/s]"
      ]
     },
     "metadata": {},
     "output_type": "display_data"
    },
    {
     "name": "stdout",
     "output_type": "stream",
     "text": [
      "Summary:\n",
      "-learning rate = 0.05550\n",
      "-path 1 has early stopped:\n",
      " 4000 iterations with no improvement in train loss.\n",
      "-Model saved after iteration 1.\n",
      "-Train.  Loss=0.6435043\n",
      "-Valid.  Loss=0.6768329\n",
      "'train_loss05_86.csv' saved.\n",
      "'valid_loss05_86.csv' saved.\n",
      "'model10_forward05_86_last.pth' saved.\n",
      "'model10_forward05_86_best.pth' saved.\n",
      "- train minibatches = 1\n",
      "- valid minibatches = 1\n",
      "- test minibatches = 1\n"
     ]
    },
    {
     "data": {
      "application/vnd.jupyter.widget-view+json": {
       "model_id": "",
       "version_major": 2,
       "version_minor": 0
      },
      "text/plain": [
       "Epochs loop:   0%|          | 0/20000 [00:00<?, ?it/s]"
      ]
     },
     "metadata": {},
     "output_type": "display_data"
    },
    {
     "name": "stdout",
     "output_type": "stream",
     "text": [
      "Summary:\n",
      "-learning rate = 0.05550\n",
      "-Model saved after iteration 20000.\n",
      "-Train.  Loss=0.0004577\n",
      "-Valid.  Loss=0.4413286\n",
      "'train_loss05_87.csv' saved.\n",
      "'valid_loss05_87.csv' saved.\n",
      "'model10_forward05_87_last.pth' saved.\n",
      "'model10_forward05_87_best.pth' saved.\n",
      "- train minibatches = 1\n",
      "- valid minibatches = 1\n",
      "- test minibatches = 1\n"
     ]
    },
    {
     "data": {
      "application/vnd.jupyter.widget-view+json": {
       "model_id": "",
       "version_major": 2,
       "version_minor": 0
      },
      "text/plain": [
       "Epochs loop:   0%|          | 0/20000 [00:00<?, ?it/s]"
      ]
     },
     "metadata": {},
     "output_type": "display_data"
    },
    {
     "name": "stdout",
     "output_type": "stream",
     "text": [
      "Summary:\n",
      "-learning rate = 0.05550\n",
      "-Model saved after iteration 20000.\n",
      "-Train.  Loss=0.0192551\n",
      "-Valid.  Loss=0.0016227\n",
      "'train_loss05_88.csv' saved.\n",
      "'valid_loss05_88.csv' saved.\n",
      "'model10_forward05_88_last.pth' saved.\n",
      "'model10_forward05_88_best.pth' saved.\n",
      "- train minibatches = 1\n",
      "- valid minibatches = 1\n",
      "- test minibatches = 1\n"
     ]
    },
    {
     "data": {
      "application/vnd.jupyter.widget-view+json": {
       "model_id": "",
       "version_major": 2,
       "version_minor": 0
      },
      "text/plain": [
       "Epochs loop:   0%|          | 0/20000 [00:00<?, ?it/s]"
      ]
     },
     "metadata": {},
     "output_type": "display_data"
    },
    {
     "name": "stdout",
     "output_type": "stream",
     "text": [
      "Summary:\n",
      "-learning rate = 0.05550\n",
      "-path 1 has early stopped:\n",
      " 4000 iterations with no improvement in train loss.\n",
      "-Model saved after iteration 4.\n",
      "-Train.  Loss=0.0740662\n",
      "-Valid.  Loss=0.2676983\n",
      "'train_loss05_89.csv' saved.\n",
      "'valid_loss05_89.csv' saved.\n",
      "'model10_forward05_89_last.pth' saved.\n",
      "'model10_forward05_89_best.pth' saved.\n",
      "- train minibatches = 1\n",
      "- valid minibatches = 1\n",
      "- test minibatches = 1\n"
     ]
    },
    {
     "data": {
      "application/vnd.jupyter.widget-view+json": {
       "model_id": "",
       "version_major": 2,
       "version_minor": 0
      },
      "text/plain": [
       "Epochs loop:   0%|          | 0/20000 [00:00<?, ?it/s]"
      ]
     },
     "metadata": {},
     "output_type": "display_data"
    },
    {
     "name": "stdout",
     "output_type": "stream",
     "text": [
      "Summary:\n",
      "-learning rate = 0.05550\n",
      "-path 1 has early stopped:\n",
      " 4000 iterations with no improvement in train loss.\n",
      "-Model saved after iteration 1.\n",
      "-Train.  Loss=0.7265905\n",
      "-Valid.  Loss=0.7212360\n",
      "'train_loss05_90.csv' saved.\n",
      "'valid_loss05_90.csv' saved.\n",
      "'model10_forward05_90_last.pth' saved.\n",
      "'model10_forward05_90_best.pth' saved.\n",
      "- train minibatches = 1\n",
      "- valid minibatches = 1\n",
      "- test minibatches = 1\n"
     ]
    },
    {
     "data": {
      "application/vnd.jupyter.widget-view+json": {
       "model_id": "",
       "version_major": 2,
       "version_minor": 0
      },
      "text/plain": [
       "Epochs loop:   0%|          | 0/20000 [00:00<?, ?it/s]"
      ]
     },
     "metadata": {},
     "output_type": "display_data"
    },
    {
     "name": "stdout",
     "output_type": "stream",
     "text": [
      "Summary:\n",
      "-learning rate = 0.05550\n",
      "-path 1 has early stopped:\n",
      " 4000 iterations with no improvement in train loss.\n",
      "-Model saved after iteration 1.\n",
      "-Train.  Loss=0.7931736\n",
      "-Valid.  Loss=0.8141995\n",
      "'train_loss05_91.csv' saved.\n",
      "'valid_loss05_91.csv' saved.\n",
      "'model10_forward05_91_last.pth' saved.\n",
      "'model10_forward05_91_best.pth' saved.\n",
      "- train minibatches = 1\n",
      "- valid minibatches = 1\n",
      "- test minibatches = 1\n"
     ]
    },
    {
     "data": {
      "application/vnd.jupyter.widget-view+json": {
       "model_id": "",
       "version_major": 2,
       "version_minor": 0
      },
      "text/plain": [
       "Epochs loop:   0%|          | 0/20000 [00:00<?, ?it/s]"
      ]
     },
     "metadata": {},
     "output_type": "display_data"
    },
    {
     "name": "stdout",
     "output_type": "stream",
     "text": [
      "Summary:\n",
      "-learning rate = 0.05550\n",
      "-Model saved after iteration 20000.\n",
      "-Train.  Loss=0.0192550\n",
      "-Valid.  Loss=0.0008187\n",
      "'train_loss05_92.csv' saved.\n",
      "'valid_loss05_92.csv' saved.\n",
      "'model10_forward05_92_last.pth' saved.\n",
      "'model10_forward05_92_best.pth' saved.\n",
      "- train minibatches = 1\n",
      "- valid minibatches = 1\n",
      "- test minibatches = 1\n"
     ]
    },
    {
     "data": {
      "application/vnd.jupyter.widget-view+json": {
       "model_id": "",
       "version_major": 2,
       "version_minor": 0
      },
      "text/plain": [
       "Epochs loop:   0%|          | 0/20000 [00:00<?, ?it/s]"
      ]
     },
     "metadata": {},
     "output_type": "display_data"
    },
    {
     "name": "stdout",
     "output_type": "stream",
     "text": [
      "Summary:\n",
      "-learning rate = 0.05550\n",
      "-path 1 has early stopped:\n",
      " 4000 iterations with no improvement in train loss.\n",
      "-Model saved after iteration 1411.\n",
      "-Train.  Loss=0.0389640\n",
      "-Valid.  Loss=0.0045134\n",
      "'train_loss05_93.csv' saved.\n",
      "'valid_loss05_93.csv' saved.\n",
      "'model10_forward05_93_last.pth' saved.\n",
      "'model10_forward05_93_best.pth' saved.\n",
      "- train minibatches = 1\n",
      "- valid minibatches = 1\n",
      "- test minibatches = 1\n"
     ]
    },
    {
     "data": {
      "application/vnd.jupyter.widget-view+json": {
       "model_id": "",
       "version_major": 2,
       "version_minor": 0
      },
      "text/plain": [
       "Epochs loop:   0%|          | 0/20000 [00:00<?, ?it/s]"
      ]
     },
     "metadata": {},
     "output_type": "display_data"
    },
    {
     "name": "stdout",
     "output_type": "stream",
     "text": [
      "Summary:\n",
      "-learning rate = 0.05550\n",
      "-path 1 has early stopped:\n",
      " 4000 iterations with no improvement in train loss.\n",
      "-Model saved after iteration 1.\n",
      "-Train.  Loss=0.6824499\n",
      "-Valid.  Loss=0.7241831\n",
      "'train_loss05_94.csv' saved.\n",
      "'valid_loss05_94.csv' saved.\n",
      "'model10_forward05_94_last.pth' saved.\n",
      "'model10_forward05_94_best.pth' saved.\n",
      "- train minibatches = 1\n",
      "- valid minibatches = 1\n",
      "- test minibatches = 1\n"
     ]
    },
    {
     "data": {
      "application/vnd.jupyter.widget-view+json": {
       "model_id": "",
       "version_major": 2,
       "version_minor": 0
      },
      "text/plain": [
       "Epochs loop:   0%|          | 0/20000 [00:00<?, ?it/s]"
      ]
     },
     "metadata": {},
     "output_type": "display_data"
    },
    {
     "name": "stdout",
     "output_type": "stream",
     "text": [
      "Summary:\n",
      "-learning rate = 0.05550\n",
      "-path 1 has early stopped:\n",
      " 4000 iterations with no improvement in train loss.\n",
      "-Model saved after iteration 1.\n",
      "-Train.  Loss=0.8048890\n",
      "-Valid.  Loss=0.8429632\n",
      "'train_loss05_95.csv' saved.\n",
      "'valid_loss05_95.csv' saved.\n",
      "'model10_forward05_95_last.pth' saved.\n",
      "'model10_forward05_95_best.pth' saved.\n",
      "- train minibatches = 1\n",
      "- valid minibatches = 1\n",
      "- test minibatches = 1\n"
     ]
    },
    {
     "data": {
      "application/vnd.jupyter.widget-view+json": {
       "model_id": "",
       "version_major": 2,
       "version_minor": 0
      },
      "text/plain": [
       "Epochs loop:   0%|          | 0/20000 [00:00<?, ?it/s]"
      ]
     },
     "metadata": {},
     "output_type": "display_data"
    },
    {
     "name": "stdout",
     "output_type": "stream",
     "text": [
      "Summary:\n",
      "-learning rate = 0.05550\n",
      "-Model saved after iteration 20000.\n",
      "-Train.  Loss=0.0265223\n",
      "-Valid.  Loss=0.0006885\n",
      "'train_loss05_96.csv' saved.\n",
      "'valid_loss05_96.csv' saved.\n",
      "'model10_forward05_96_last.pth' saved.\n",
      "'model10_forward05_96_best.pth' saved.\n",
      "- train minibatches = 1\n",
      "- valid minibatches = 1\n",
      "- test minibatches = 1\n"
     ]
    },
    {
     "data": {
      "application/vnd.jupyter.widget-view+json": {
       "model_id": "",
       "version_major": 2,
       "version_minor": 0
      },
      "text/plain": [
       "Epochs loop:   0%|          | 0/20000 [00:00<?, ?it/s]"
      ]
     },
     "metadata": {},
     "output_type": "display_data"
    },
    {
     "name": "stdout",
     "output_type": "stream",
     "text": [
      "Summary:\n",
      "-learning rate = 0.05550\n",
      "-Model saved after iteration 20000.\n",
      "-Train.  Loss=0.0467375\n",
      "-Valid.  Loss=0.0213856\n",
      "'train_loss05_97.csv' saved.\n",
      "'valid_loss05_97.csv' saved.\n",
      "'model10_forward05_97_last.pth' saved.\n",
      "'model10_forward05_97_best.pth' saved.\n",
      "- train minibatches = 1\n",
      "- valid minibatches = 1\n",
      "- test minibatches = 1\n"
     ]
    },
    {
     "data": {
      "application/vnd.jupyter.widget-view+json": {
       "model_id": "",
       "version_major": 2,
       "version_minor": 0
      },
      "text/plain": [
       "Epochs loop:   0%|          | 0/20000 [00:00<?, ?it/s]"
      ]
     },
     "metadata": {},
     "output_type": "display_data"
    },
    {
     "name": "stdout",
     "output_type": "stream",
     "text": [
      "Summary:\n",
      "-learning rate = 0.05550\n",
      "-path 1 has early stopped:\n",
      " 4000 iterations with no improvement in train loss.\n",
      "-Model saved after iteration 2519.\n",
      "-Train.  Loss=0.0265337\n",
      "-Valid.  Loss=0.0119138\n",
      "'train_loss05_98.csv' saved.\n",
      "'valid_loss05_98.csv' saved.\n",
      "'model10_forward05_98_last.pth' saved.\n",
      "'model10_forward05_98_best.pth' saved.\n",
      "- train minibatches = 1\n",
      "- valid minibatches = 1\n",
      "- test minibatches = 1\n"
     ]
    },
    {
     "data": {
      "application/vnd.jupyter.widget-view+json": {
       "model_id": "",
       "version_major": 2,
       "version_minor": 0
      },
      "text/plain": [
       "Epochs loop:   0%|          | 0/20000 [00:00<?, ?it/s]"
      ]
     },
     "metadata": {},
     "output_type": "display_data"
    },
    {
     "name": "stdout",
     "output_type": "stream",
     "text": [
      "Summary:\n",
      "-learning rate = 0.05550\n",
      "-Model saved after iteration 20000.\n",
      "-Train.  Loss=0.0265222\n",
      "-Valid.  Loss=0.0028425\n",
      "'train_loss05_99.csv' saved.\n",
      "'valid_loss05_99.csv' saved.\n",
      "'model10_forward05_99_last.pth' saved.\n",
      "'model10_forward05_99_best.pth' saved.\n",
      "- train minibatches = 1\n",
      "- valid minibatches = 1\n",
      "- test minibatches = 1\n"
     ]
    },
    {
     "data": {
      "application/vnd.jupyter.widget-view+json": {
       "model_id": "",
       "version_major": 2,
       "version_minor": 0
      },
      "text/plain": [
       "Epochs loop:   0%|          | 0/20000 [00:00<?, ?it/s]"
      ]
     },
     "metadata": {},
     "output_type": "display_data"
    },
    {
     "name": "stdout",
     "output_type": "stream",
     "text": [
      "Summary:\n",
      "-learning rate = 0.05550\n",
      "-path 1 has early stopped:\n",
      " 4000 iterations with no improvement in train loss.\n",
      "-Model saved after iteration 1.\n",
      "-Train.  Loss=0.7219505\n",
      "-Valid.  Loss=0.7034624\n",
      "'train_loss05_100.csv' saved.\n",
      "'valid_loss05_100.csv' saved.\n",
      "'model10_forward05_100_last.pth' saved.\n",
      "'model10_forward05_100_best.pth' saved.\n"
     ]
    }
   ],
   "source": [
    "# Find Accuracy, Loss +/- STD (Forward)\n",
    "data_output = 'data_unconstrained_10LungCarcinoma'\n",
    "accuracy_forward = pd.DataFrame(columns=['train_acc', 'valid_acc', 'test_acc', \n",
    "                                         'train_loss', 'valid_loss', 'test_loss'])\n",
    "\n",
    "partitions = 100\n",
    "iterator = tqdm.notebook.tqdm(range(1, partitions + 1), desc='Partitions loop')\n",
    "for n in iterator:\n",
    "    X = pd.read_csv('dataset_10LungCarcinoma/X.csv', header=None)\n",
    "    y = pd.read_csv('dataset_10LungCarcinoma/y.csv', header=None)\n",
    "    split_data(X, y, seed1=seed1[n], seed2=seed2[n])\n",
    "\n",
    "# .normalize data sets\n",
    "    df_to_tensor()\n",
    "    normalize_data()\n",
    "    make_DataLoaders()\n",
    "\n",
    "# .train model (forward)\n",
    "    lr = best_lr_fward\n",
    "    layer_sizes = [5, 2]\n",
    "    epochs = 20000\n",
    "    data_out = \"data_unconstrained_10LungCarcinoma/partitions\"\n",
    "    lock_flag = False\n",
    "    features = xtrain.size(1)\n",
    "    fname = 'model10_forward05_'+str(n)\n",
    "    train_loss, valid_loss = train_model(\n",
    "                             lr, \n",
    "                             features, \n",
    "                             layer_sizes,\n",
    "                             lock_flag = lock_flag,\n",
    "                             epochs = epochs,\n",
    "                             early_stop = 4000, \n",
    "                             fname = fname)\n",
    "# .save relevant data\n",
    "    f3 = [fname+'_last.pth', fname+'_best.pth']\n",
    "    save_output(data_out, \n",
    "                'train_loss05_'+str(n)+'.csv', \n",
    "                'valid_loss05_'+str(n)+'.csv', f3)\n",
    "\n",
    "# .find Loss, Accurary, etc...\n",
    "    mm = MyNet(features, layer_sizes)\n",
    "    mm.load_state_dict(torch.load(os.path.join(data_out, fname+'_best.pth')))\n",
    "    mm = mm.to(device)\n",
    "    mm.eval()\n",
    "    \n",
    "    ypred = mm(xtrain)\n",
    "    loss = loss_type(ypred, ytrain.view(-1))\n",
    "    accu = dataset_accuracy(train_dataloader, mm, device)\n",
    "    accuracy_forward.loc[n, 'train_loss'] = loss.detach().item()\n",
    "    accuracy_forward.loc[n, 'train_acc'] = accu\n",
    "\n",
    "    ypred = mm(xvalid)\n",
    "    loss = loss_type(ypred, yvalid.view(-1))\n",
    "    accu = dataset_accuracy(valid_dataloader, mm, device)\n",
    "    accuracy_forward.loc[n, 'valid_loss'] = loss.detach().item()\n",
    "    accuracy_forward.loc[n, 'valid_acc'] = accu\n",
    "\n",
    "    ypred = mm(xtest)\n",
    "    loss = loss_type(ypred, ytest.view(-1))\n",
    "    accu = dataset_accuracy(test_dataloader, mm, device)\n",
    "    accuracy_forward.loc[n, 'test_loss'] = loss.detach().item()\n",
    "    accuracy_forward.loc[n, 'test_acc'] = accu\n",
    "\n",
    "    accuracy_forward.to_csv(os.path.join(data_out, 'accuracy10_forward05.csv'), index=True)"
   ]
  },
  {
   "cell_type": "code",
   "execution_count": 170,
   "metadata": {
    "ExecuteTime": {
     "end_time": "2021-02-25T00:19:18.438545Z",
     "start_time": "2021-02-25T00:19:18.430394Z"
    },
    "code_folding": [
     0
    ]
   },
   "outputs": [
    {
     "name": "stdout",
     "output_type": "stream",
     "text": [
      "Train accuracy = 0.878 +/- 0.193\n",
      "Train accuracy = 0.855 +/- 0.184\n",
      "Test accuracy = 0.832 +/- 0.188\n"
     ]
    }
   ],
   "source": [
    "# Display results\n",
    "accuracy_forward = pd.read_csv('data_unconstrained_10LungCarcinoma/accuracy10_forward05.csv', index_col=0)\n",
    "print(\"Train accuracy = {:.3f} +/- {:.3f}\".format(accuracy_forward['train_acc'].mean(), \n",
    "                                                  accuracy_forward['train_acc'].std()))\n",
    "print(\"Train accuracy = {:.3f} +/- {:.3f}\".format(accuracy_forward['valid_acc'].mean(), \n",
    "                                                  accuracy_forward['valid_acc'].std()))\n",
    "print(\"Test accuracy = {:.3f} +/- {:.3f}\".format(accuracy_forward['test_acc'].mean(), \n",
    "                                                 accuracy_forward['test_acc'].std()))"
   ]
  },
  {
   "cell_type": "code",
   "execution_count": 168,
   "metadata": {
    "ExecuteTime": {
     "end_time": "2021-02-23T17:32:27.962364Z",
     "start_time": "2021-02-23T06:42:51.852014Z"
    },
    "code_folding": [
     0
    ],
    "scrolled": true
   },
   "outputs": [
    {
     "data": {
      "application/vnd.jupyter.widget-view+json": {
       "model_id": "06510f311e204473ab973c2cf144437f",
       "version_major": 2,
       "version_minor": 0
      },
      "text/plain": [
       "Partitions loop:   0%|          | 0/100 [00:00<?, ?it/s]"
      ]
     },
     "metadata": {},
     "output_type": "display_data"
    },
    {
     "name": "stdout",
     "output_type": "stream",
     "text": [
      "- train minibatches = 1\n",
      "- valid minibatches = 1\n",
      "- test minibatches = 1\n"
     ]
    },
    {
     "data": {
      "application/vnd.jupyter.widget-view+json": {
       "model_id": "66bb521ab7e44d26b61592725e7d75d2",
       "version_major": 2,
       "version_minor": 0
      },
      "text/plain": [
       "Epochs loop:   0%|          | 0/15000 [00:00<?, ?it/s]"
      ]
     },
     "metadata": {},
     "output_type": "display_data"
    },
    {
     "name": "stdout",
     "output_type": "stream",
     "text": [
      "Summary:\n",
      "-learning rate = 0.00527\n",
      "-Model saved after iteration 647.\n",
      "-Train.  Loss=0.0109797\n",
      "-Valid.  Loss=0.1181068\n",
      "'train_loss_fward05_1.csv' saved.\n",
      "'valid_loss_fward05_1.csv' saved.\n",
      "'model10_fward05_1_last.pth' saved.\n",
      "'model10_fward05_1_best.pth' saved.\n",
      "- train minibatches = 1\n",
      "- valid minibatches = 1\n",
      "- test minibatches = 1\n"
     ]
    },
    {
     "data": {
      "application/vnd.jupyter.widget-view+json": {
       "model_id": "7c4bc922cd484ca5887645c638b59e98",
       "version_major": 2,
       "version_minor": 0
      },
      "text/plain": [
       "Epochs loop:   0%|          | 0/15000 [00:00<?, ?it/s]"
      ]
     },
     "metadata": {},
     "output_type": "display_data"
    },
    {
     "name": "stdout",
     "output_type": "stream",
     "text": [
      "Summary:\n",
      "-learning rate = 0.00527\n",
      "-Model saved after iteration 11.\n",
      "-Train.  Loss=0.1313166\n",
      "-Valid.  Loss=0.3924191\n",
      "'train_loss_fward05_2.csv' saved.\n",
      "'valid_loss_fward05_2.csv' saved.\n",
      "'model10_fward05_2_last.pth' saved.\n",
      "'model10_fward05_2_best.pth' saved.\n",
      "- train minibatches = 1\n",
      "- valid minibatches = 1\n",
      "- test minibatches = 1\n"
     ]
    },
    {
     "data": {
      "application/vnd.jupyter.widget-view+json": {
       "model_id": "79b0a1f41a70433ebc263504684794c6",
       "version_major": 2,
       "version_minor": 0
      },
      "text/plain": [
       "Epochs loop:   0%|          | 0/15000 [00:00<?, ?it/s]"
      ]
     },
     "metadata": {},
     "output_type": "display_data"
    },
    {
     "name": "stdout",
     "output_type": "stream",
     "text": [
      "Summary:\n",
      "-learning rate = 0.00527\n",
      "-Model saved after iteration 68.\n",
      "-Train.  Loss=0.0442155\n",
      "-Valid.  Loss=0.1270333\n",
      "'train_loss_fward05_3.csv' saved.\n",
      "'valid_loss_fward05_3.csv' saved.\n",
      "'model10_fward05_3_last.pth' saved.\n",
      "'model10_fward05_3_best.pth' saved.\n",
      "- train minibatches = 1\n",
      "- valid minibatches = 1\n",
      "- test minibatches = 1\n"
     ]
    },
    {
     "data": {
      "application/vnd.jupyter.widget-view+json": {
       "model_id": "d0daaa09ba504b3892ce904e97097abd",
       "version_major": 2,
       "version_minor": 0
      },
      "text/plain": [
       "Epochs loop:   0%|          | 0/15000 [00:00<?, ?it/s]"
      ]
     },
     "metadata": {},
     "output_type": "display_data"
    },
    {
     "name": "stdout",
     "output_type": "stream",
     "text": [
      "Summary:\n",
      "-learning rate = 0.00527\n",
      "-Model saved after iteration 16.\n",
      "-Train.  Loss=0.0554452\n",
      "-Valid.  Loss=0.2773005\n",
      "'train_loss_fward05_4.csv' saved.\n",
      "'valid_loss_fward05_4.csv' saved.\n",
      "'model10_fward05_4_last.pth' saved.\n",
      "'model10_fward05_4_best.pth' saved.\n",
      "- train minibatches = 1\n",
      "- valid minibatches = 1\n",
      "- test minibatches = 1\n"
     ]
    },
    {
     "data": {
      "application/vnd.jupyter.widget-view+json": {
       "model_id": "fd7e6a03d73543b5af54dadba22bcd41",
       "version_major": 2,
       "version_minor": 0
      },
      "text/plain": [
       "Epochs loop:   0%|          | 0/15000 [00:00<?, ?it/s]"
      ]
     },
     "metadata": {},
     "output_type": "display_data"
    },
    {
     "name": "stdout",
     "output_type": "stream",
     "text": [
      "Summary:\n",
      "-learning rate = 0.00527\n",
      "-Model saved after iteration 133.\n",
      "-Train.  Loss=0.0109427\n",
      "-Valid.  Loss=0.3075769\n",
      "'train_loss_fward05_5.csv' saved.\n",
      "'valid_loss_fward05_5.csv' saved.\n",
      "'model10_fward05_5_last.pth' saved.\n",
      "'model10_fward05_5_best.pth' saved.\n",
      "- train minibatches = 1\n",
      "- valid minibatches = 1\n",
      "- test minibatches = 1\n"
     ]
    },
    {
     "data": {
      "application/vnd.jupyter.widget-view+json": {
       "model_id": "93e8301923a541508c4af47fcfdaff3e",
       "version_major": 2,
       "version_minor": 0
      },
      "text/plain": [
       "Epochs loop:   0%|          | 0/15000 [00:00<?, ?it/s]"
      ]
     },
     "metadata": {},
     "output_type": "display_data"
    },
    {
     "name": "stdout",
     "output_type": "stream",
     "text": [
      "Summary:\n",
      "-learning rate = 0.00527\n",
      "-Model saved after iteration 22.\n",
      "-Train.  Loss=0.0975141\n",
      "-Valid.  Loss=0.1786823\n",
      "'train_loss_fward05_6.csv' saved.\n",
      "'valid_loss_fward05_6.csv' saved.\n",
      "'model10_fward05_6_last.pth' saved.\n",
      "'model10_fward05_6_best.pth' saved.\n",
      "- train minibatches = 1\n",
      "- valid minibatches = 1\n",
      "- test minibatches = 1\n"
     ]
    },
    {
     "data": {
      "application/vnd.jupyter.widget-view+json": {
       "model_id": "a60ef1df563b424bb14c25adad04fede",
       "version_major": 2,
       "version_minor": 0
      },
      "text/plain": [
       "Epochs loop:   0%|          | 0/15000 [00:00<?, ?it/s]"
      ]
     },
     "metadata": {},
     "output_type": "display_data"
    },
    {
     "name": "stdout",
     "output_type": "stream",
     "text": [
      "Summary:\n",
      "-learning rate = 0.00527\n",
      "-Model saved after iteration 2022.\n",
      "-Train.  Loss=0.0183069\n",
      "-Valid.  Loss=0.0252589\n",
      "'train_loss_fward05_7.csv' saved.\n",
      "'valid_loss_fward05_7.csv' saved.\n",
      "'model10_fward05_7_last.pth' saved.\n",
      "'model10_fward05_7_best.pth' saved.\n",
      "- train minibatches = 1\n",
      "- valid minibatches = 1\n",
      "- test minibatches = 1\n"
     ]
    },
    {
     "data": {
      "application/vnd.jupyter.widget-view+json": {
       "model_id": "e65da295c49c4f15a819e7dad450577e",
       "version_major": 2,
       "version_minor": 0
      },
      "text/plain": [
       "Epochs loop:   0%|          | 0/15000 [00:00<?, ?it/s]"
      ]
     },
     "metadata": {},
     "output_type": "display_data"
    },
    {
     "name": "stdout",
     "output_type": "stream",
     "text": [
      "Summary:\n",
      "-learning rate = 0.00527\n",
      "-Model saved after iteration 15000.\n",
      "-Train.  Loss=0.0067455\n",
      "-Valid.  Loss=0.0050511\n",
      "'train_loss_fward05_8.csv' saved.\n",
      "'valid_loss_fward05_8.csv' saved.\n",
      "'model10_fward05_8_last.pth' saved.\n",
      "'model10_fward05_8_best.pth' saved.\n",
      "- train minibatches = 1\n",
      "- valid minibatches = 1\n",
      "- test minibatches = 1\n"
     ]
    },
    {
     "data": {
      "application/vnd.jupyter.widget-view+json": {
       "model_id": "cc805c98e6e84043ad96df3ab3c6370d",
       "version_major": 2,
       "version_minor": 0
      },
      "text/plain": [
       "Epochs loop:   0%|          | 0/15000 [00:00<?, ?it/s]"
      ]
     },
     "metadata": {},
     "output_type": "display_data"
    },
    {
     "name": "stdout",
     "output_type": "stream",
     "text": [
      "Summary:\n",
      "-learning rate = 0.00527\n",
      "-Model saved after iteration 39.\n",
      "-Train.  Loss=0.0594636\n",
      "-Valid.  Loss=0.2231632\n",
      "'train_loss_fward05_9.csv' saved.\n",
      "'valid_loss_fward05_9.csv' saved.\n",
      "'model10_fward05_9_last.pth' saved.\n",
      "'model10_fward05_9_best.pth' saved.\n",
      "- train minibatches = 1\n",
      "- valid minibatches = 1\n",
      "- test minibatches = 1\n"
     ]
    },
    {
     "data": {
      "application/vnd.jupyter.widget-view+json": {
       "model_id": "a55a311a8df249b8b9a3cea0333cb81f",
       "version_major": 2,
       "version_minor": 0
      },
      "text/plain": [
       "Epochs loop:   0%|          | 0/15000 [00:00<?, ?it/s]"
      ]
     },
     "metadata": {},
     "output_type": "display_data"
    },
    {
     "name": "stdout",
     "output_type": "stream",
     "text": [
      "Summary:\n",
      "-learning rate = 0.00527\n",
      "-Model saved after iteration 4.\n",
      "-Train.  Loss=0.0511398\n",
      "-Valid.  Loss=0.3925395\n",
      "'train_loss_fward05_10.csv' saved.\n",
      "'valid_loss_fward05_10.csv' saved.\n",
      "'model10_fward05_10_last.pth' saved.\n",
      "'model10_fward05_10_best.pth' saved.\n",
      "- train minibatches = 1\n",
      "- valid minibatches = 1\n",
      "- test minibatches = 1\n"
     ]
    },
    {
     "data": {
      "application/vnd.jupyter.widget-view+json": {
       "model_id": "b8b35cf6416b467f89166142fbee4a4b",
       "version_major": 2,
       "version_minor": 0
      },
      "text/plain": [
       "Epochs loop:   0%|          | 0/15000 [00:00<?, ?it/s]"
      ]
     },
     "metadata": {},
     "output_type": "display_data"
    },
    {
     "name": "stdout",
     "output_type": "stream",
     "text": [
      "Summary:\n",
      "-learning rate = 0.00527\n",
      "-Model saved after iteration 26.\n",
      "-Train.  Loss=0.0498220\n",
      "-Valid.  Loss=0.1713434\n",
      "'train_loss_fward05_11.csv' saved.\n",
      "'valid_loss_fward05_11.csv' saved.\n",
      "'model10_fward05_11_last.pth' saved.\n",
      "'model10_fward05_11_best.pth' saved.\n",
      "- train minibatches = 1\n",
      "- valid minibatches = 1\n",
      "- test minibatches = 1\n"
     ]
    },
    {
     "data": {
      "application/vnd.jupyter.widget-view+json": {
       "model_id": "315eb9da966744a59b64e83b64d9f33e",
       "version_major": 2,
       "version_minor": 0
      },
      "text/plain": [
       "Epochs loop:   0%|          | 0/15000 [00:00<?, ?it/s]"
      ]
     },
     "metadata": {},
     "output_type": "display_data"
    },
    {
     "name": "stdout",
     "output_type": "stream",
     "text": [
      "Summary:\n",
      "-learning rate = 0.00527\n",
      "-Model saved after iteration 15000.\n",
      "-Train.  Loss=0.0062652\n",
      "-Valid.  Loss=0.0396555\n",
      "'train_loss_fward05_12.csv' saved.\n",
      "'valid_loss_fward05_12.csv' saved.\n",
      "'model10_fward05_12_last.pth' saved.\n",
      "'model10_fward05_12_best.pth' saved.\n",
      "- train minibatches = 1\n",
      "- valid minibatches = 1\n",
      "- test minibatches = 1\n"
     ]
    },
    {
     "data": {
      "application/vnd.jupyter.widget-view+json": {
       "model_id": "40977c3bd09f4559ab7fb1799af84194",
       "version_major": 2,
       "version_minor": 0
      },
      "text/plain": [
       "Epochs loop:   0%|          | 0/15000 [00:00<?, ?it/s]"
      ]
     },
     "metadata": {},
     "output_type": "display_data"
    },
    {
     "name": "stdout",
     "output_type": "stream",
     "text": [
      "Summary:\n",
      "-learning rate = 0.00527\n",
      "-Model saved after iteration 14824.\n",
      "-Train.  Loss=0.0049654\n",
      "-Valid.  Loss=0.0032366\n",
      "'train_loss_fward05_13.csv' saved.\n",
      "'valid_loss_fward05_13.csv' saved.\n",
      "'model10_fward05_13_last.pth' saved.\n",
      "'model10_fward05_13_best.pth' saved.\n",
      "- train minibatches = 1\n",
      "- valid minibatches = 1\n",
      "- test minibatches = 1\n"
     ]
    },
    {
     "data": {
      "application/vnd.jupyter.widget-view+json": {
       "model_id": "531b8dade2b3465682440544f16d6a9b",
       "version_major": 2,
       "version_minor": 0
      },
      "text/plain": [
       "Epochs loop:   0%|          | 0/15000 [00:00<?, ?it/s]"
      ]
     },
     "metadata": {},
     "output_type": "display_data"
    },
    {
     "name": "stdout",
     "output_type": "stream",
     "text": [
      "Summary:\n",
      "-learning rate = 0.00527\n",
      "-Model saved after iteration 43.\n",
      "-Train.  Loss=0.0613387\n",
      "-Valid.  Loss=0.1631494\n",
      "'train_loss_fward05_14.csv' saved.\n",
      "'valid_loss_fward05_14.csv' saved.\n",
      "'model10_fward05_14_last.pth' saved.\n",
      "'model10_fward05_14_best.pth' saved.\n",
      "- train minibatches = 1\n",
      "- valid minibatches = 1\n",
      "- test minibatches = 1\n"
     ]
    },
    {
     "data": {
      "application/vnd.jupyter.widget-view+json": {
       "model_id": "49dfed10ec714f37b6d69855de124064",
       "version_major": 2,
       "version_minor": 0
      },
      "text/plain": [
       "Epochs loop:   0%|          | 0/15000 [00:00<?, ?it/s]"
      ]
     },
     "metadata": {},
     "output_type": "display_data"
    },
    {
     "name": "stdout",
     "output_type": "stream",
     "text": [
      "Summary:\n",
      "-learning rate = 0.00527\n",
      "-Model saved after iteration 14.\n",
      "-Train.  Loss=0.0774139\n",
      "-Valid.  Loss=0.2242642\n",
      "'train_loss_fward05_15.csv' saved.\n",
      "'valid_loss_fward05_15.csv' saved.\n",
      "'model10_fward05_15_last.pth' saved.\n",
      "'model10_fward05_15_best.pth' saved.\n",
      "- train minibatches = 1\n",
      "- valid minibatches = 1\n",
      "- test minibatches = 1\n"
     ]
    },
    {
     "data": {
      "application/vnd.jupyter.widget-view+json": {
       "model_id": "10434f0e6cb14ce89a6a1445a87449e1",
       "version_major": 2,
       "version_minor": 0
      },
      "text/plain": [
       "Epochs loop:   0%|          | 0/15000 [00:00<?, ?it/s]"
      ]
     },
     "metadata": {},
     "output_type": "display_data"
    },
    {
     "name": "stdout",
     "output_type": "stream",
     "text": [
      "Summary:\n",
      "-learning rate = 0.00527\n",
      "-Model saved after iteration 35.\n",
      "-Train.  Loss=0.0356333\n",
      "-Valid.  Loss=0.2406251\n",
      "'train_loss_fward05_16.csv' saved.\n",
      "'valid_loss_fward05_16.csv' saved.\n",
      "'model10_fward05_16_last.pth' saved.\n",
      "'model10_fward05_16_best.pth' saved.\n",
      "- train minibatches = 1\n",
      "- valid minibatches = 1\n",
      "- test minibatches = 1\n"
     ]
    },
    {
     "data": {
      "application/vnd.jupyter.widget-view+json": {
       "model_id": "fdf79f8884ee423192bcf823174cf7bb",
       "version_major": 2,
       "version_minor": 0
      },
      "text/plain": [
       "Epochs loop:   0%|          | 0/15000 [00:00<?, ?it/s]"
      ]
     },
     "metadata": {},
     "output_type": "display_data"
    },
    {
     "name": "stdout",
     "output_type": "stream",
     "text": [
      "Summary:\n",
      "-learning rate = 0.00527\n",
      "-Model saved after iteration 2857.\n",
      "-Train.  Loss=0.0355657\n",
      "-Valid.  Loss=0.1207829\n",
      "'train_loss_fward05_17.csv' saved.\n",
      "'valid_loss_fward05_17.csv' saved.\n",
      "'model10_fward05_17_last.pth' saved.\n",
      "'model10_fward05_17_best.pth' saved.\n",
      "- train minibatches = 1\n",
      "- valid minibatches = 1\n",
      "- test minibatches = 1\n"
     ]
    },
    {
     "data": {
      "application/vnd.jupyter.widget-view+json": {
       "model_id": "2f488b73a9a445e8973b053609b8cc0f",
       "version_major": 2,
       "version_minor": 0
      },
      "text/plain": [
       "Epochs loop:   0%|          | 0/15000 [00:00<?, ?it/s]"
      ]
     },
     "metadata": {},
     "output_type": "display_data"
    },
    {
     "name": "stdout",
     "output_type": "stream",
     "text": [
      "Summary:\n",
      "-learning rate = 0.00527\n",
      "-Model saved after iteration 31.\n",
      "-Train.  Loss=0.0674505\n",
      "-Valid.  Loss=0.1080428\n",
      "'train_loss_fward05_18.csv' saved.\n",
      "'valid_loss_fward05_18.csv' saved.\n",
      "'model10_fward05_18_last.pth' saved.\n",
      "'model10_fward05_18_best.pth' saved.\n",
      "- train minibatches = 1\n",
      "- valid minibatches = 1\n",
      "- test minibatches = 1\n"
     ]
    },
    {
     "data": {
      "application/vnd.jupyter.widget-view+json": {
       "model_id": "df9923e1c77c4f63bc11bfb3d18a6329",
       "version_major": 2,
       "version_minor": 0
      },
      "text/plain": [
       "Epochs loop:   0%|          | 0/15000 [00:00<?, ?it/s]"
      ]
     },
     "metadata": {},
     "output_type": "display_data"
    },
    {
     "name": "stdout",
     "output_type": "stream",
     "text": [
      "Summary:\n",
      "-learning rate = 0.00527\n",
      "-Model saved after iteration 21.\n",
      "-Train.  Loss=0.0574884\n",
      "-Valid.  Loss=0.1367364\n",
      "'train_loss_fward05_19.csv' saved.\n",
      "'valid_loss_fward05_19.csv' saved.\n",
      "'model10_fward05_19_last.pth' saved.\n",
      "'model10_fward05_19_best.pth' saved.\n",
      "- train minibatches = 1\n",
      "- valid minibatches = 1\n",
      "- test minibatches = 1\n"
     ]
    },
    {
     "data": {
      "application/vnd.jupyter.widget-view+json": {
       "model_id": "a63af22e2b31475db50b27b9e1fe0e0e",
       "version_major": 2,
       "version_minor": 0
      },
      "text/plain": [
       "Epochs loop:   0%|          | 0/15000 [00:00<?, ?it/s]"
      ]
     },
     "metadata": {},
     "output_type": "display_data"
    },
    {
     "name": "stdout",
     "output_type": "stream",
     "text": [
      "Summary:\n",
      "-learning rate = 0.00527\n",
      "-Model saved after iteration 6.\n",
      "-Train.  Loss=0.1264207\n",
      "-Valid.  Loss=0.3129166\n",
      "'train_loss_fward05_20.csv' saved.\n",
      "'valid_loss_fward05_20.csv' saved.\n",
      "'model10_fward05_20_last.pth' saved.\n",
      "'model10_fward05_20_best.pth' saved.\n",
      "- train minibatches = 1\n",
      "- valid minibatches = 1\n",
      "- test minibatches = 1\n"
     ]
    },
    {
     "data": {
      "application/vnd.jupyter.widget-view+json": {
       "model_id": "e3058fd6eef44a599a36c6beac107b5e",
       "version_major": 2,
       "version_minor": 0
      },
      "text/plain": [
       "Epochs loop:   0%|          | 0/15000 [00:00<?, ?it/s]"
      ]
     },
     "metadata": {},
     "output_type": "display_data"
    },
    {
     "name": "stdout",
     "output_type": "stream",
     "text": [
      "Summary:\n",
      "-learning rate = 0.00527\n",
      "-Model saved after iteration 115.\n",
      "-Train.  Loss=0.0395129\n",
      "-Valid.  Loss=0.0609597\n",
      "'train_loss_fward05_21.csv' saved.\n",
      "'valid_loss_fward05_21.csv' saved.\n",
      "'model10_fward05_21_last.pth' saved.\n",
      "'model10_fward05_21_best.pth' saved.\n",
      "- train minibatches = 1\n",
      "- valid minibatches = 1\n",
      "- test minibatches = 1\n"
     ]
    },
    {
     "data": {
      "application/vnd.jupyter.widget-view+json": {
       "model_id": "4a6051e750a54afda5f44cfafb43c5da",
       "version_major": 2,
       "version_minor": 0
      },
      "text/plain": [
       "Epochs loop:   0%|          | 0/15000 [00:00<?, ?it/s]"
      ]
     },
     "metadata": {},
     "output_type": "display_data"
    },
    {
     "name": "stdout",
     "output_type": "stream",
     "text": [
      "Summary:\n",
      "-learning rate = 0.00527\n",
      "-Model saved after iteration 45.\n",
      "-Train.  Loss=0.0396230\n",
      "-Valid.  Loss=0.2518399\n",
      "'train_loss_fward05_22.csv' saved.\n",
      "'valid_loss_fward05_22.csv' saved.\n",
      "'model10_fward05_22_last.pth' saved.\n",
      "'model10_fward05_22_best.pth' saved.\n",
      "- train minibatches = 1\n",
      "- valid minibatches = 1\n",
      "- test minibatches = 1\n"
     ]
    },
    {
     "data": {
      "application/vnd.jupyter.widget-view+json": {
       "model_id": "0de204e4f7c0466f9d451be5f2043e86",
       "version_major": 2,
       "version_minor": 0
      },
      "text/plain": [
       "Epochs loop:   0%|          | 0/15000 [00:00<?, ?it/s]"
      ]
     },
     "metadata": {},
     "output_type": "display_data"
    },
    {
     "name": "stdout",
     "output_type": "stream",
     "text": [
      "Summary:\n",
      "-learning rate = 0.00527\n",
      "-Model saved after iteration 15000.\n",
      "-Train.  Loss=0.0265883\n",
      "-Valid.  Loss=0.0040957\n",
      "'train_loss_fward05_23.csv' saved.\n",
      "'valid_loss_fward05_23.csv' saved.\n",
      "'model10_fward05_23_last.pth' saved.\n",
      "'model10_fward05_23_best.pth' saved.\n",
      "- train minibatches = 1\n",
      "- valid minibatches = 1\n",
      "- test minibatches = 1\n"
     ]
    },
    {
     "data": {
      "application/vnd.jupyter.widget-view+json": {
       "model_id": "28f8dcc8e63446b78bdc31deedbb61fd",
       "version_major": 2,
       "version_minor": 0
      },
      "text/plain": [
       "Epochs loop:   0%|          | 0/15000 [00:00<?, ?it/s]"
      ]
     },
     "metadata": {},
     "output_type": "display_data"
    },
    {
     "name": "stdout",
     "output_type": "stream",
     "text": [
      "Summary:\n",
      "-learning rate = 0.00527\n",
      "-Model saved after iteration 18.\n",
      "-Train.  Loss=0.1066368\n",
      "-Valid.  Loss=0.4266274\n",
      "'train_loss_fward05_24.csv' saved.\n",
      "'valid_loss_fward05_24.csv' saved.\n",
      "'model10_fward05_24_last.pth' saved.\n",
      "'model10_fward05_24_best.pth' saved.\n",
      "- train minibatches = 1\n",
      "- valid minibatches = 1\n",
      "- test minibatches = 1\n"
     ]
    },
    {
     "data": {
      "application/vnd.jupyter.widget-view+json": {
       "model_id": "b606e594988c4b98addcbdfdaca72397",
       "version_major": 2,
       "version_minor": 0
      },
      "text/plain": [
       "Epochs loop:   0%|          | 0/15000 [00:00<?, ?it/s]"
      ]
     },
     "metadata": {},
     "output_type": "display_data"
    },
    {
     "name": "stdout",
     "output_type": "stream",
     "text": [
      "Summary:\n",
      "-learning rate = 0.00527\n",
      "-Model saved after iteration 4.\n",
      "-Train.  Loss=0.0980600\n",
      "-Valid.  Loss=0.3324859\n",
      "'train_loss_fward05_25.csv' saved.\n",
      "'valid_loss_fward05_25.csv' saved.\n",
      "'model10_fward05_25_last.pth' saved.\n",
      "'model10_fward05_25_best.pth' saved.\n",
      "- train minibatches = 1\n",
      "- valid minibatches = 1\n",
      "- test minibatches = 1\n"
     ]
    },
    {
     "data": {
      "application/vnd.jupyter.widget-view+json": {
       "model_id": "f17cb895697d4add98b90b37d149c05a",
       "version_major": 2,
       "version_minor": 0
      },
      "text/plain": [
       "Epochs loop:   0%|          | 0/15000 [00:00<?, ?it/s]"
      ]
     },
     "metadata": {},
     "output_type": "display_data"
    },
    {
     "name": "stdout",
     "output_type": "stream",
     "text": [
      "Summary:\n",
      "-learning rate = 0.00527\n",
      "-Model saved after iteration 88.\n",
      "-Train.  Loss=0.0317747\n",
      "-Valid.  Loss=0.0826414\n",
      "'train_loss_fward05_26.csv' saved.\n",
      "'valid_loss_fward05_26.csv' saved.\n",
      "'model10_fward05_26_last.pth' saved.\n",
      "'model10_fward05_26_best.pth' saved.\n",
      "- train minibatches = 1\n",
      "- valid minibatches = 1\n",
      "- test minibatches = 1\n"
     ]
    },
    {
     "data": {
      "application/vnd.jupyter.widget-view+json": {
       "model_id": "975cf16decd646e787a9d70cfd009c9b",
       "version_major": 2,
       "version_minor": 0
      },
      "text/plain": [
       "Epochs loop:   0%|          | 0/15000 [00:00<?, ?it/s]"
      ]
     },
     "metadata": {},
     "output_type": "display_data"
    },
    {
     "name": "stdout",
     "output_type": "stream",
     "text": [
      "Summary:\n",
      "-learning rate = 0.00527\n",
      "-Model saved after iteration 12.\n",
      "-Train.  Loss=0.0552530\n",
      "-Valid.  Loss=0.2806620\n",
      "'train_loss_fward05_27.csv' saved.\n",
      "'valid_loss_fward05_27.csv' saved.\n",
      "'model10_fward05_27_last.pth' saved.\n",
      "'model10_fward05_27_best.pth' saved.\n",
      "- train minibatches = 1\n",
      "- valid minibatches = 1\n",
      "- test minibatches = 1\n"
     ]
    },
    {
     "data": {
      "application/vnd.jupyter.widget-view+json": {
       "model_id": "972c4f2a051845e6a7aaf7b8e9b23732",
       "version_major": 2,
       "version_minor": 0
      },
      "text/plain": [
       "Epochs loop:   0%|          | 0/15000 [00:00<?, ?it/s]"
      ]
     },
     "metadata": {},
     "output_type": "display_data"
    },
    {
     "name": "stdout",
     "output_type": "stream",
     "text": [
      "Summary:\n",
      "-learning rate = 0.00527\n",
      "-Model saved after iteration 40.\n",
      "-Train.  Loss=0.0280826\n",
      "-Valid.  Loss=0.1022466\n",
      "'train_loss_fward05_28.csv' saved.\n",
      "'valid_loss_fward05_28.csv' saved.\n",
      "'model10_fward05_28_last.pth' saved.\n",
      "'model10_fward05_28_best.pth' saved.\n",
      "- train minibatches = 1\n",
      "- valid minibatches = 1\n",
      "- test minibatches = 1\n"
     ]
    },
    {
     "data": {
      "application/vnd.jupyter.widget-view+json": {
       "model_id": "50967ccd23934b0d861176f0a6ef0cbf",
       "version_major": 2,
       "version_minor": 0
      },
      "text/plain": [
       "Epochs loop:   0%|          | 0/15000 [00:00<?, ?it/s]"
      ]
     },
     "metadata": {},
     "output_type": "display_data"
    },
    {
     "name": "stdout",
     "output_type": "stream",
     "text": [
      "Summary:\n",
      "-learning rate = 0.00527\n",
      "-Model saved after iteration 124.\n",
      "-Train.  Loss=0.0303671\n",
      "-Valid.  Loss=0.1362726\n",
      "'train_loss_fward05_29.csv' saved.\n",
      "'valid_loss_fward05_29.csv' saved.\n",
      "'model10_fward05_29_last.pth' saved.\n",
      "'model10_fward05_29_best.pth' saved.\n",
      "- train minibatches = 1\n",
      "- valid minibatches = 1\n",
      "- test minibatches = 1\n"
     ]
    },
    {
     "data": {
      "application/vnd.jupyter.widget-view+json": {
       "model_id": "a0676530b28c4d4e811874cf911cdcac",
       "version_major": 2,
       "version_minor": 0
      },
      "text/plain": [
       "Epochs loop:   0%|          | 0/15000 [00:00<?, ?it/s]"
      ]
     },
     "metadata": {},
     "output_type": "display_data"
    },
    {
     "name": "stdout",
     "output_type": "stream",
     "text": [
      "Summary:\n",
      "-learning rate = 0.00527\n",
      "-Model saved after iteration 8.\n",
      "-Train.  Loss=0.0380786\n",
      "-Valid.  Loss=0.2786801\n",
      "'train_loss_fward05_30.csv' saved.\n",
      "'valid_loss_fward05_30.csv' saved.\n",
      "'model10_fward05_30_last.pth' saved.\n",
      "'model10_fward05_30_best.pth' saved.\n",
      "- train minibatches = 1\n",
      "- valid minibatches = 1\n",
      "- test minibatches = 1\n"
     ]
    },
    {
     "data": {
      "application/vnd.jupyter.widget-view+json": {
       "model_id": "cbffe7c15f7442eca4bde9a7df1213f7",
       "version_major": 2,
       "version_minor": 0
      },
      "text/plain": [
       "Epochs loop:   0%|          | 0/15000 [00:00<?, ?it/s]"
      ]
     },
     "metadata": {},
     "output_type": "display_data"
    },
    {
     "name": "stdout",
     "output_type": "stream",
     "text": [
      "Summary:\n",
      "-learning rate = 0.00527\n",
      "-Model saved after iteration 29.\n",
      "-Train.  Loss=0.0439637\n",
      "-Valid.  Loss=0.2233297\n",
      "'train_loss_fward05_31.csv' saved.\n",
      "'valid_loss_fward05_31.csv' saved.\n",
      "'model10_fward05_31_last.pth' saved.\n",
      "'model10_fward05_31_best.pth' saved.\n",
      "- train minibatches = 1\n",
      "- valid minibatches = 1\n",
      "- test minibatches = 1\n"
     ]
    },
    {
     "data": {
      "application/vnd.jupyter.widget-view+json": {
       "model_id": "8ce88307bebf4fd7907570e87640ddfd",
       "version_major": 2,
       "version_minor": 0
      },
      "text/plain": [
       "Epochs loop:   0%|          | 0/15000 [00:00<?, ?it/s]"
      ]
     },
     "metadata": {},
     "output_type": "display_data"
    },
    {
     "name": "stdout",
     "output_type": "stream",
     "text": [
      "Summary:\n",
      "-learning rate = 0.00527\n",
      "-Model saved after iteration 221.\n",
      "-Train.  Loss=0.0202192\n",
      "-Valid.  Loss=0.2570674\n",
      "'train_loss_fward05_32.csv' saved.\n",
      "'valid_loss_fward05_32.csv' saved.\n",
      "'model10_fward05_32_last.pth' saved.\n",
      "'model10_fward05_32_best.pth' saved.\n",
      "- train minibatches = 1\n",
      "- valid minibatches = 1\n",
      "- test minibatches = 1\n"
     ]
    },
    {
     "data": {
      "application/vnd.jupyter.widget-view+json": {
       "model_id": "b65a7f3894cc4ec6a1e4a8b6f9845fa5",
       "version_major": 2,
       "version_minor": 0
      },
      "text/plain": [
       "Epochs loop:   0%|          | 0/15000 [00:00<?, ?it/s]"
      ]
     },
     "metadata": {},
     "output_type": "display_data"
    },
    {
     "name": "stdout",
     "output_type": "stream",
     "text": [
      "Summary:\n",
      "-learning rate = 0.00527\n",
      "-Model saved after iteration 14943.\n",
      "-Train.  Loss=0.0035881\n",
      "-Valid.  Loss=0.0180465\n",
      "'train_loss_fward05_33.csv' saved.\n",
      "'valid_loss_fward05_33.csv' saved.\n",
      "'model10_fward05_33_last.pth' saved.\n",
      "'model10_fward05_33_best.pth' saved.\n",
      "- train minibatches = 1\n",
      "- valid minibatches = 1\n",
      "- test minibatches = 1\n"
     ]
    },
    {
     "data": {
      "application/vnd.jupyter.widget-view+json": {
       "model_id": "b2186026a92f41009cc43d1269686185",
       "version_major": 2,
       "version_minor": 0
      },
      "text/plain": [
       "Epochs loop:   0%|          | 0/15000 [00:00<?, ?it/s]"
      ]
     },
     "metadata": {},
     "output_type": "display_data"
    },
    {
     "name": "stdout",
     "output_type": "stream",
     "text": [
      "Summary:\n",
      "-learning rate = 0.00527\n",
      "-Model saved after iteration 219.\n",
      "-Train.  Loss=0.0310519\n",
      "-Valid.  Loss=0.1112642\n",
      "'train_loss_fward05_34.csv' saved.\n",
      "'valid_loss_fward05_34.csv' saved.\n",
      "'model10_fward05_34_last.pth' saved.\n",
      "'model10_fward05_34_best.pth' saved.\n",
      "- train minibatches = 1\n",
      "- valid minibatches = 1\n",
      "- test minibatches = 1\n"
     ]
    },
    {
     "data": {
      "application/vnd.jupyter.widget-view+json": {
       "model_id": "5c5db96078624678b2181fda525765de",
       "version_major": 2,
       "version_minor": 0
      },
      "text/plain": [
       "Epochs loop:   0%|          | 0/15000 [00:00<?, ?it/s]"
      ]
     },
     "metadata": {},
     "output_type": "display_data"
    },
    {
     "name": "stdout",
     "output_type": "stream",
     "text": [
      "Summary:\n",
      "-learning rate = 0.00527\n",
      "-Model saved after iteration 15.\n",
      "-Train.  Loss=0.0506479\n",
      "-Valid.  Loss=0.1606201\n",
      "'train_loss_fward05_35.csv' saved.\n",
      "'valid_loss_fward05_35.csv' saved.\n",
      "'model10_fward05_35_last.pth' saved.\n",
      "'model10_fward05_35_best.pth' saved.\n",
      "- train minibatches = 1\n",
      "- valid minibatches = 1\n",
      "- test minibatches = 1\n"
     ]
    },
    {
     "data": {
      "application/vnd.jupyter.widget-view+json": {
       "model_id": "e4b918d4cf414546a060238910fdaf4d",
       "version_major": 2,
       "version_minor": 0
      },
      "text/plain": [
       "Epochs loop:   0%|          | 0/15000 [00:00<?, ?it/s]"
      ]
     },
     "metadata": {},
     "output_type": "display_data"
    },
    {
     "name": "stdout",
     "output_type": "stream",
     "text": [
      "Summary:\n",
      "-learning rate = 0.00527\n",
      "-Model saved after iteration 15000.\n",
      "-Train.  Loss=0.0061672\n",
      "-Valid.  Loss=0.0006817\n",
      "'train_loss_fward05_36.csv' saved.\n",
      "'valid_loss_fward05_36.csv' saved.\n",
      "'model10_fward05_36_last.pth' saved.\n",
      "'model10_fward05_36_best.pth' saved.\n",
      "- train minibatches = 1\n",
      "- valid minibatches = 1\n",
      "- test minibatches = 1\n"
     ]
    },
    {
     "data": {
      "application/vnd.jupyter.widget-view+json": {
       "model_id": "37d1b9552be9495a863291a02a04467f",
       "version_major": 2,
       "version_minor": 0
      },
      "text/plain": [
       "Epochs loop:   0%|          | 0/15000 [00:00<?, ?it/s]"
      ]
     },
     "metadata": {},
     "output_type": "display_data"
    },
    {
     "name": "stdout",
     "output_type": "stream",
     "text": [
      "Summary:\n",
      "-learning rate = 0.00527\n",
      "-Model saved after iteration 23.\n",
      "-Train.  Loss=0.0684776\n",
      "-Valid.  Loss=0.2981339\n",
      "'train_loss_fward05_37.csv' saved.\n",
      "'valid_loss_fward05_37.csv' saved.\n",
      "'model10_fward05_37_last.pth' saved.\n",
      "'model10_fward05_37_best.pth' saved.\n",
      "- train minibatches = 1\n",
      "- valid minibatches = 1\n",
      "- test minibatches = 1\n"
     ]
    },
    {
     "data": {
      "application/vnd.jupyter.widget-view+json": {
       "model_id": "339196ac089e42e680d2d453bc5b5fb3",
       "version_major": 2,
       "version_minor": 0
      },
      "text/plain": [
       "Epochs loop:   0%|          | 0/15000 [00:00<?, ?it/s]"
      ]
     },
     "metadata": {},
     "output_type": "display_data"
    },
    {
     "name": "stdout",
     "output_type": "stream",
     "text": [
      "Summary:\n",
      "-learning rate = 0.00527\n",
      "-Model saved after iteration 15000.\n",
      "-Train.  Loss=0.0265498\n",
      "-Valid.  Loss=0.0002488\n",
      "'train_loss_fward05_38.csv' saved.\n",
      "'valid_loss_fward05_38.csv' saved.\n",
      "'model10_fward05_38_last.pth' saved.\n",
      "'model10_fward05_38_best.pth' saved.\n",
      "- train minibatches = 1\n",
      "- valid minibatches = 1\n",
      "- test minibatches = 1\n"
     ]
    },
    {
     "data": {
      "application/vnd.jupyter.widget-view+json": {
       "model_id": "791a199bb1b14e45a1c3e04bc910f28b",
       "version_major": 2,
       "version_minor": 0
      },
      "text/plain": [
       "Epochs loop:   0%|          | 0/15000 [00:00<?, ?it/s]"
      ]
     },
     "metadata": {},
     "output_type": "display_data"
    },
    {
     "name": "stdout",
     "output_type": "stream",
     "text": [
      "Summary:\n",
      "-learning rate = 0.00527\n",
      "-Model saved after iteration 22.\n",
      "-Train.  Loss=0.0551727\n",
      "-Valid.  Loss=0.2436064\n",
      "'train_loss_fward05_39.csv' saved.\n",
      "'valid_loss_fward05_39.csv' saved.\n",
      "'model10_fward05_39_last.pth' saved.\n",
      "'model10_fward05_39_best.pth' saved.\n",
      "- train minibatches = 1\n",
      "- valid minibatches = 1\n",
      "- test minibatches = 1\n"
     ]
    },
    {
     "data": {
      "application/vnd.jupyter.widget-view+json": {
       "model_id": "1507cb2258654a9bae52b20051bbf848",
       "version_major": 2,
       "version_minor": 0
      },
      "text/plain": [
       "Epochs loop:   0%|          | 0/15000 [00:00<?, ?it/s]"
      ]
     },
     "metadata": {},
     "output_type": "display_data"
    },
    {
     "name": "stdout",
     "output_type": "stream",
     "text": [
      "Summary:\n",
      "-learning rate = 0.00527\n",
      "-Model saved after iteration 34.\n",
      "-Train.  Loss=0.0382565\n",
      "-Valid.  Loss=0.1366042\n",
      "'train_loss_fward05_40.csv' saved.\n",
      "'valid_loss_fward05_40.csv' saved.\n",
      "'model10_fward05_40_last.pth' saved.\n",
      "'model10_fward05_40_best.pth' saved.\n",
      "- train minibatches = 1\n",
      "- valid minibatches = 1\n",
      "- test minibatches = 1\n"
     ]
    },
    {
     "data": {
      "application/vnd.jupyter.widget-view+json": {
       "model_id": "64bdc8d1665f45e582270aa0ee1c4786",
       "version_major": 2,
       "version_minor": 0
      },
      "text/plain": [
       "Epochs loop:   0%|          | 0/15000 [00:00<?, ?it/s]"
      ]
     },
     "metadata": {},
     "output_type": "display_data"
    },
    {
     "name": "stdout",
     "output_type": "stream",
     "text": [
      "Summary:\n",
      "-learning rate = 0.00527\n",
      "-Model saved after iteration 4517.\n",
      "-Train.  Loss=0.0117825\n",
      "-Valid.  Loss=0.1329175\n",
      "'train_loss_fward05_41.csv' saved.\n",
      "'valid_loss_fward05_41.csv' saved.\n",
      "'model10_fward05_41_last.pth' saved.\n",
      "'model10_fward05_41_best.pth' saved.\n",
      "- train minibatches = 1\n",
      "- valid minibatches = 1\n",
      "- test minibatches = 1\n"
     ]
    },
    {
     "data": {
      "application/vnd.jupyter.widget-view+json": {
       "model_id": "758777718625429f8b4a032d8460b410",
       "version_major": 2,
       "version_minor": 0
      },
      "text/plain": [
       "Epochs loop:   0%|          | 0/15000 [00:00<?, ?it/s]"
      ]
     },
     "metadata": {},
     "output_type": "display_data"
    },
    {
     "name": "stdout",
     "output_type": "stream",
     "text": [
      "Summary:\n",
      "-learning rate = 0.00527\n",
      "-Model saved after iteration 44.\n",
      "-Train.  Loss=0.0538069\n",
      "-Valid.  Loss=0.1441543\n",
      "'train_loss_fward05_42.csv' saved.\n",
      "'valid_loss_fward05_42.csv' saved.\n",
      "'model10_fward05_42_last.pth' saved.\n",
      "'model10_fward05_42_best.pth' saved.\n",
      "- train minibatches = 1\n",
      "- valid minibatches = 1\n",
      "- test minibatches = 1\n"
     ]
    },
    {
     "data": {
      "application/vnd.jupyter.widget-view+json": {
       "model_id": "90d2d6082f0146cc921e04ff350fd5fa",
       "version_major": 2,
       "version_minor": 0
      },
      "text/plain": [
       "Epochs loop:   0%|          | 0/15000 [00:00<?, ?it/s]"
      ]
     },
     "metadata": {},
     "output_type": "display_data"
    },
    {
     "name": "stdout",
     "output_type": "stream",
     "text": [
      "Summary:\n",
      "-learning rate = 0.00527\n",
      "-Model saved after iteration 41.\n",
      "-Train.  Loss=0.0475091\n",
      "-Valid.  Loss=0.1092334\n",
      "'train_loss_fward05_43.csv' saved.\n",
      "'valid_loss_fward05_43.csv' saved.\n",
      "'model10_fward05_43_last.pth' saved.\n",
      "'model10_fward05_43_best.pth' saved.\n",
      "- train minibatches = 1\n",
      "- valid minibatches = 1\n",
      "- test minibatches = 1\n"
     ]
    },
    {
     "data": {
      "application/vnd.jupyter.widget-view+json": {
       "model_id": "d976757051354d9d94fbb5c96c99554e",
       "version_major": 2,
       "version_minor": 0
      },
      "text/plain": [
       "Epochs loop:   0%|          | 0/15000 [00:00<?, ?it/s]"
      ]
     },
     "metadata": {},
     "output_type": "display_data"
    },
    {
     "name": "stdout",
     "output_type": "stream",
     "text": [
      "Summary:\n",
      "-learning rate = 0.00527\n",
      "-Model saved after iteration 8.\n",
      "-Train.  Loss=0.1023188\n",
      "-Valid.  Loss=0.3209890\n",
      "'train_loss_fward05_44.csv' saved.\n",
      "'valid_loss_fward05_44.csv' saved.\n",
      "'model10_fward05_44_last.pth' saved.\n",
      "'model10_fward05_44_best.pth' saved.\n",
      "- train minibatches = 1\n",
      "- valid minibatches = 1\n",
      "- test minibatches = 1\n"
     ]
    },
    {
     "data": {
      "application/vnd.jupyter.widget-view+json": {
       "model_id": "8c58173dc69c46a39ce6d7f1aac404ce",
       "version_major": 2,
       "version_minor": 0
      },
      "text/plain": [
       "Epochs loop:   0%|          | 0/15000 [00:00<?, ?it/s]"
      ]
     },
     "metadata": {},
     "output_type": "display_data"
    },
    {
     "name": "stdout",
     "output_type": "stream",
     "text": [
      "Summary:\n",
      "-learning rate = 0.00527\n",
      "-Model saved after iteration 45.\n",
      "-Train.  Loss=0.0214172\n",
      "-Valid.  Loss=0.1236380\n",
      "'train_loss_fward05_45.csv' saved.\n",
      "'valid_loss_fward05_45.csv' saved.\n",
      "'model10_fward05_45_last.pth' saved.\n",
      "'model10_fward05_45_best.pth' saved.\n",
      "- train minibatches = 1\n",
      "- valid minibatches = 1\n",
      "- test minibatches = 1\n"
     ]
    },
    {
     "data": {
      "application/vnd.jupyter.widget-view+json": {
       "model_id": "7f51b85ddbbc4159a6a4fc42cf575e4b",
       "version_major": 2,
       "version_minor": 0
      },
      "text/plain": [
       "Epochs loop:   0%|          | 0/15000 [00:00<?, ?it/s]"
      ]
     },
     "metadata": {},
     "output_type": "display_data"
    },
    {
     "name": "stdout",
     "output_type": "stream",
     "text": [
      "Summary:\n",
      "-learning rate = 0.00527\n",
      "-Model saved after iteration 12.\n",
      "-Train.  Loss=0.0817813\n",
      "-Valid.  Loss=0.3229947\n",
      "'train_loss_fward05_46.csv' saved.\n",
      "'valid_loss_fward05_46.csv' saved.\n",
      "'model10_fward05_46_last.pth' saved.\n",
      "'model10_fward05_46_best.pth' saved.\n",
      "- train minibatches = 1\n",
      "- valid minibatches = 1\n",
      "- test minibatches = 1\n"
     ]
    },
    {
     "data": {
      "application/vnd.jupyter.widget-view+json": {
       "model_id": "fd7c3fd9a11f427b89eee6ae8e44dd2a",
       "version_major": 2,
       "version_minor": 0
      },
      "text/plain": [
       "Epochs loop:   0%|          | 0/15000 [00:00<?, ?it/s]"
      ]
     },
     "metadata": {},
     "output_type": "display_data"
    },
    {
     "name": "stdout",
     "output_type": "stream",
     "text": [
      "Summary:\n",
      "-learning rate = 0.00527\n",
      "-Model saved after iteration 15000.\n",
      "-Train.  Loss=0.0193452\n",
      "-Valid.  Loss=0.0028964\n",
      "'train_loss_fward05_47.csv' saved.\n",
      "'valid_loss_fward05_47.csv' saved.\n",
      "'model10_fward05_47_last.pth' saved.\n",
      "'model10_fward05_47_best.pth' saved.\n",
      "- train minibatches = 1\n",
      "- valid minibatches = 1\n",
      "- test minibatches = 1\n"
     ]
    },
    {
     "data": {
      "application/vnd.jupyter.widget-view+json": {
       "model_id": "6ec1053daee94c6fa46835c300eb34cd",
       "version_major": 2,
       "version_minor": 0
      },
      "text/plain": [
       "Epochs loop:   0%|          | 0/15000 [00:00<?, ?it/s]"
      ]
     },
     "metadata": {},
     "output_type": "display_data"
    },
    {
     "name": "stdout",
     "output_type": "stream",
     "text": [
      "Summary:\n",
      "-learning rate = 0.00527\n",
      "-Model saved after iteration 10.\n",
      "-Train.  Loss=0.0883457\n",
      "-Valid.  Loss=0.4439694\n",
      "'train_loss_fward05_48.csv' saved.\n",
      "'valid_loss_fward05_48.csv' saved.\n",
      "'model10_fward05_48_last.pth' saved.\n",
      "'model10_fward05_48_best.pth' saved.\n",
      "- train minibatches = 1\n",
      "- valid minibatches = 1\n",
      "- test minibatches = 1\n"
     ]
    },
    {
     "data": {
      "application/vnd.jupyter.widget-view+json": {
       "model_id": "0fcbe0ca9d68493fa40b29a590d139c6",
       "version_major": 2,
       "version_minor": 0
      },
      "text/plain": [
       "Epochs loop:   0%|          | 0/15000 [00:00<?, ?it/s]"
      ]
     },
     "metadata": {},
     "output_type": "display_data"
    },
    {
     "name": "stdout",
     "output_type": "stream",
     "text": [
      "Summary:\n",
      "-learning rate = 0.00527\n",
      "-Model saved after iteration 15000.\n",
      "-Train.  Loss=0.0267245\n",
      "-Valid.  Loss=0.0003524\n",
      "'train_loss_fward05_49.csv' saved.\n",
      "'valid_loss_fward05_49.csv' saved.\n",
      "'model10_fward05_49_last.pth' saved.\n",
      "'model10_fward05_49_best.pth' saved.\n",
      "- train minibatches = 1\n",
      "- valid minibatches = 1\n",
      "- test minibatches = 1\n"
     ]
    },
    {
     "data": {
      "application/vnd.jupyter.widget-view+json": {
       "model_id": "f2cd75991ae64446bc6a424fd93f3062",
       "version_major": 2,
       "version_minor": 0
      },
      "text/plain": [
       "Epochs loop:   0%|          | 0/15000 [00:00<?, ?it/s]"
      ]
     },
     "metadata": {},
     "output_type": "display_data"
    },
    {
     "name": "stdout",
     "output_type": "stream",
     "text": [
      "Summary:\n",
      "-learning rate = 0.00527\n",
      "-Model saved after iteration 3.\n",
      "-Train.  Loss=0.0905610\n",
      "-Valid.  Loss=0.3557631\n",
      "'train_loss_fward05_50.csv' saved.\n",
      "'valid_loss_fward05_50.csv' saved.\n",
      "'model10_fward05_50_last.pth' saved.\n",
      "'model10_fward05_50_best.pth' saved.\n",
      "- train minibatches = 1\n",
      "- valid minibatches = 1\n",
      "- test minibatches = 1\n"
     ]
    },
    {
     "data": {
      "application/vnd.jupyter.widget-view+json": {
       "model_id": "561973ed2fc04da2943477b5fabe0d2c",
       "version_major": 2,
       "version_minor": 0
      },
      "text/plain": [
       "Epochs loop:   0%|          | 0/15000 [00:00<?, ?it/s]"
      ]
     },
     "metadata": {},
     "output_type": "display_data"
    },
    {
     "name": "stdout",
     "output_type": "stream",
     "text": [
      "Summary:\n",
      "-learning rate = 0.00527\n",
      "-Model saved after iteration 15000.\n",
      "-Train.  Loss=0.0064288\n",
      "-Valid.  Loss=0.0010008\n",
      "'train_loss_fward05_51.csv' saved.\n",
      "'valid_loss_fward05_51.csv' saved.\n",
      "'model10_fward05_51_last.pth' saved.\n",
      "'model10_fward05_51_best.pth' saved.\n",
      "- train minibatches = 1\n",
      "- valid minibatches = 1\n",
      "- test minibatches = 1\n"
     ]
    },
    {
     "data": {
      "application/vnd.jupyter.widget-view+json": {
       "model_id": "2ed39eee5b3246ba9889efdae18dedc2",
       "version_major": 2,
       "version_minor": 0
      },
      "text/plain": [
       "Epochs loop:   0%|          | 0/15000 [00:00<?, ?it/s]"
      ]
     },
     "metadata": {},
     "output_type": "display_data"
    },
    {
     "name": "stdout",
     "output_type": "stream",
     "text": [
      "Summary:\n",
      "-learning rate = 0.00527\n",
      "-Model saved after iteration 15000.\n",
      "-Train.  Loss=0.0419770\n",
      "-Valid.  Loss=0.0045227\n",
      "'train_loss_fward05_52.csv' saved.\n",
      "'valid_loss_fward05_52.csv' saved.\n",
      "'model10_fward05_52_last.pth' saved.\n",
      "'model10_fward05_52_best.pth' saved.\n",
      "- train minibatches = 1\n",
      "- valid minibatches = 1\n",
      "- test minibatches = 1\n"
     ]
    },
    {
     "data": {
      "application/vnd.jupyter.widget-view+json": {
       "model_id": "ffec126f141d4d72a3de5805c4cdf19f",
       "version_major": 2,
       "version_minor": 0
      },
      "text/plain": [
       "Epochs loop:   0%|          | 0/15000 [00:00<?, ?it/s]"
      ]
     },
     "metadata": {},
     "output_type": "display_data"
    },
    {
     "name": "stdout",
     "output_type": "stream",
     "text": [
      "Summary:\n",
      "-learning rate = 0.00527\n",
      "-Model saved after iteration 25.\n",
      "-Train.  Loss=0.0621804\n",
      "-Valid.  Loss=0.1604569\n",
      "'train_loss_fward05_53.csv' saved.\n",
      "'valid_loss_fward05_53.csv' saved.\n",
      "'model10_fward05_53_last.pth' saved.\n",
      "'model10_fward05_53_best.pth' saved.\n",
      "- train minibatches = 1\n",
      "- valid minibatches = 1\n",
      "- test minibatches = 1\n"
     ]
    },
    {
     "data": {
      "application/vnd.jupyter.widget-view+json": {
       "model_id": "072abf075d4e45c2a4c5370fba6910b9",
       "version_major": 2,
       "version_minor": 0
      },
      "text/plain": [
       "Epochs loop:   0%|          | 0/15000 [00:00<?, ?it/s]"
      ]
     },
     "metadata": {},
     "output_type": "display_data"
    },
    {
     "name": "stdout",
     "output_type": "stream",
     "text": [
      "Summary:\n",
      "-learning rate = 0.00527\n",
      "-Model saved after iteration 30.\n",
      "-Train.  Loss=0.0374841\n",
      "-Valid.  Loss=0.1980470\n",
      "'train_loss_fward05_54.csv' saved.\n",
      "'valid_loss_fward05_54.csv' saved.\n",
      "'model10_fward05_54_last.pth' saved.\n",
      "'model10_fward05_54_best.pth' saved.\n",
      "- train minibatches = 1\n",
      "- valid minibatches = 1\n",
      "- test minibatches = 1\n"
     ]
    },
    {
     "data": {
      "application/vnd.jupyter.widget-view+json": {
       "model_id": "e6c1edcfd44643ca9fbd80bad8ac0918",
       "version_major": 2,
       "version_minor": 0
      },
      "text/plain": [
       "Epochs loop:   0%|          | 0/15000 [00:00<?, ?it/s]"
      ]
     },
     "metadata": {},
     "output_type": "display_data"
    },
    {
     "name": "stdout",
     "output_type": "stream",
     "text": [
      "Summary:\n",
      "-learning rate = 0.00527\n",
      "-Model saved after iteration 45.\n",
      "-Train.  Loss=0.0358935\n",
      "-Valid.  Loss=0.2593444\n",
      "'train_loss_fward05_55.csv' saved.\n",
      "'valid_loss_fward05_55.csv' saved.\n",
      "'model10_fward05_55_last.pth' saved.\n",
      "'model10_fward05_55_best.pth' saved.\n",
      "- train minibatches = 1\n",
      "- valid minibatches = 1\n",
      "- test minibatches = 1\n"
     ]
    },
    {
     "data": {
      "application/vnd.jupyter.widget-view+json": {
       "model_id": "ca0509f2ec294fdcb93db3dfbc3e3091",
       "version_major": 2,
       "version_minor": 0
      },
      "text/plain": [
       "Epochs loop:   0%|          | 0/15000 [00:00<?, ?it/s]"
      ]
     },
     "metadata": {},
     "output_type": "display_data"
    },
    {
     "name": "stdout",
     "output_type": "stream",
     "text": [
      "Summary:\n",
      "-learning rate = 0.00527\n",
      "-Model saved after iteration 53.\n",
      "-Train.  Loss=0.0674049\n",
      "-Valid.  Loss=0.2992007\n",
      "'train_loss_fward05_56.csv' saved.\n",
      "'valid_loss_fward05_56.csv' saved.\n",
      "'model10_fward05_56_last.pth' saved.\n",
      "'model10_fward05_56_best.pth' saved.\n",
      "- train minibatches = 1\n",
      "- valid minibatches = 1\n",
      "- test minibatches = 1\n"
     ]
    },
    {
     "data": {
      "application/vnd.jupyter.widget-view+json": {
       "model_id": "6f37a40765f04bdda4f2b018115ea702",
       "version_major": 2,
       "version_minor": 0
      },
      "text/plain": [
       "Epochs loop:   0%|          | 0/15000 [00:00<?, ?it/s]"
      ]
     },
     "metadata": {},
     "output_type": "display_data"
    },
    {
     "name": "stdout",
     "output_type": "stream",
     "text": [
      "Summary:\n",
      "-learning rate = 0.00527\n",
      "-Model saved after iteration 25.\n",
      "-Train.  Loss=0.0463459\n",
      "-Valid.  Loss=0.3303700\n",
      "'train_loss_fward05_57.csv' saved.\n",
      "'valid_loss_fward05_57.csv' saved.\n",
      "'model10_fward05_57_last.pth' saved.\n",
      "'model10_fward05_57_best.pth' saved.\n",
      "- train minibatches = 1\n",
      "- valid minibatches = 1\n",
      "- test minibatches = 1\n"
     ]
    },
    {
     "data": {
      "application/vnd.jupyter.widget-view+json": {
       "model_id": "3729d8ef65dc4e0e9ee8ec2276a3233b",
       "version_major": 2,
       "version_minor": 0
      },
      "text/plain": [
       "Epochs loop:   0%|          | 0/15000 [00:00<?, ?it/s]"
      ]
     },
     "metadata": {},
     "output_type": "display_data"
    },
    {
     "name": "stdout",
     "output_type": "stream",
     "text": [
      "Summary:\n",
      "-learning rate = 0.00527\n",
      "-Model saved after iteration 34.\n",
      "-Train.  Loss=0.0557875\n",
      "-Valid.  Loss=0.4241643\n",
      "'train_loss_fward05_58.csv' saved.\n",
      "'valid_loss_fward05_58.csv' saved.\n",
      "'model10_fward05_58_last.pth' saved.\n",
      "'model10_fward05_58_best.pth' saved.\n",
      "- train minibatches = 1\n",
      "- valid minibatches = 1\n",
      "- test minibatches = 1\n"
     ]
    },
    {
     "data": {
      "application/vnd.jupyter.widget-view+json": {
       "model_id": "c3e492a476b64070a933e66364dd14b7",
       "version_major": 2,
       "version_minor": 0
      },
      "text/plain": [
       "Epochs loop:   0%|          | 0/15000 [00:00<?, ?it/s]"
      ]
     },
     "metadata": {},
     "output_type": "display_data"
    },
    {
     "name": "stdout",
     "output_type": "stream",
     "text": [
      "Summary:\n",
      "-learning rate = 0.00527\n",
      "-Model saved after iteration 11.\n",
      "-Train.  Loss=0.0641588\n",
      "-Valid.  Loss=0.2381881\n",
      "'train_loss_fward05_59.csv' saved.\n",
      "'valid_loss_fward05_59.csv' saved.\n",
      "'model10_fward05_59_last.pth' saved.\n",
      "'model10_fward05_59_best.pth' saved.\n",
      "- train minibatches = 1\n",
      "- valid minibatches = 1\n",
      "- test minibatches = 1\n"
     ]
    },
    {
     "data": {
      "application/vnd.jupyter.widget-view+json": {
       "model_id": "ce5a8198b1e0432fa60ac9e02be1770d",
       "version_major": 2,
       "version_minor": 0
      },
      "text/plain": [
       "Epochs loop:   0%|          | 0/15000 [00:00<?, ?it/s]"
      ]
     },
     "metadata": {},
     "output_type": "display_data"
    },
    {
     "name": "stdout",
     "output_type": "stream",
     "text": [
      "Summary:\n",
      "-learning rate = 0.00527\n",
      "-Model saved after iteration 133.\n",
      "-Train.  Loss=0.0629551\n",
      "-Valid.  Loss=0.1893276\n",
      "'train_loss_fward05_60.csv' saved.\n",
      "'valid_loss_fward05_60.csv' saved.\n",
      "'model10_fward05_60_last.pth' saved.\n",
      "'model10_fward05_60_best.pth' saved.\n",
      "- train minibatches = 1\n",
      "- valid minibatches = 1\n",
      "- test minibatches = 1\n"
     ]
    },
    {
     "data": {
      "application/vnd.jupyter.widget-view+json": {
       "model_id": "54f10f77fc384897accbc001be514773",
       "version_major": 2,
       "version_minor": 0
      },
      "text/plain": [
       "Epochs loop:   0%|          | 0/15000 [00:00<?, ?it/s]"
      ]
     },
     "metadata": {},
     "output_type": "display_data"
    },
    {
     "name": "stdout",
     "output_type": "stream",
     "text": [
      "Summary:\n",
      "-learning rate = 0.00527\n",
      "-Model saved after iteration 2.\n",
      "-Train.  Loss=0.2167259\n",
      "-Valid.  Loss=0.2771629\n",
      "'train_loss_fward05_61.csv' saved.\n",
      "'valid_loss_fward05_61.csv' saved.\n",
      "'model10_fward05_61_last.pth' saved.\n",
      "'model10_fward05_61_best.pth' saved.\n",
      "- train minibatches = 1\n",
      "- valid minibatches = 1\n",
      "- test minibatches = 1\n"
     ]
    },
    {
     "data": {
      "application/vnd.jupyter.widget-view+json": {
       "model_id": "06adc7f923f14368b36769ece50eb88c",
       "version_major": 2,
       "version_minor": 0
      },
      "text/plain": [
       "Epochs loop:   0%|          | 0/15000 [00:00<?, ?it/s]"
      ]
     },
     "metadata": {},
     "output_type": "display_data"
    },
    {
     "name": "stdout",
     "output_type": "stream",
     "text": [
      "Summary:\n",
      "-learning rate = 0.00527\n",
      "-Model saved after iteration 3.\n",
      "-Train.  Loss=0.1207466\n",
      "-Valid.  Loss=0.2076104\n",
      "'train_loss_fward05_62.csv' saved.\n",
      "'valid_loss_fward05_62.csv' saved.\n",
      "'model10_fward05_62_last.pth' saved.\n",
      "'model10_fward05_62_best.pth' saved.\n",
      "- train minibatches = 1\n",
      "- valid minibatches = 1\n",
      "- test minibatches = 1\n"
     ]
    },
    {
     "data": {
      "application/vnd.jupyter.widget-view+json": {
       "model_id": "b8e44ed9720343c8a2099658a21cfd05",
       "version_major": 2,
       "version_minor": 0
      },
      "text/plain": [
       "Epochs loop:   0%|          | 0/15000 [00:00<?, ?it/s]"
      ]
     },
     "metadata": {},
     "output_type": "display_data"
    },
    {
     "name": "stdout",
     "output_type": "stream",
     "text": [
      "Summary:\n",
      "-learning rate = 0.00527\n",
      "-Model saved after iteration 61.\n",
      "-Train.  Loss=0.0597405\n",
      "-Valid.  Loss=0.1556142\n",
      "'train_loss_fward05_63.csv' saved.\n",
      "'valid_loss_fward05_63.csv' saved.\n",
      "'model10_fward05_63_last.pth' saved.\n",
      "'model10_fward05_63_best.pth' saved.\n",
      "- train minibatches = 1\n",
      "- valid minibatches = 1\n",
      "- test minibatches = 1\n"
     ]
    },
    {
     "data": {
      "application/vnd.jupyter.widget-view+json": {
       "model_id": "0978d9ccd35243668bb7e0a2a486e07d",
       "version_major": 2,
       "version_minor": 0
      },
      "text/plain": [
       "Epochs loop:   0%|          | 0/15000 [00:00<?, ?it/s]"
      ]
     },
     "metadata": {},
     "output_type": "display_data"
    },
    {
     "name": "stdout",
     "output_type": "stream",
     "text": [
      "Summary:\n",
      "-learning rate = 0.00527\n",
      "-Model saved after iteration 2.\n",
      "-Train.  Loss=0.1451825\n",
      "-Valid.  Loss=0.1754452\n",
      "'train_loss_fward05_64.csv' saved.\n",
      "'valid_loss_fward05_64.csv' saved.\n",
      "'model10_fward05_64_last.pth' saved.\n",
      "'model10_fward05_64_best.pth' saved.\n",
      "- train minibatches = 1\n",
      "- valid minibatches = 1\n",
      "- test minibatches = 1\n"
     ]
    },
    {
     "data": {
      "application/vnd.jupyter.widget-view+json": {
       "model_id": "e0aab986d7eb486fb0389b73eba1b9e0",
       "version_major": 2,
       "version_minor": 0
      },
      "text/plain": [
       "Epochs loop:   0%|          | 0/15000 [00:00<?, ?it/s]"
      ]
     },
     "metadata": {},
     "output_type": "display_data"
    },
    {
     "name": "stdout",
     "output_type": "stream",
     "text": [
      "Summary:\n",
      "-learning rate = 0.00527\n",
      "-Model saved after iteration 3.\n",
      "-Train.  Loss=0.1306890\n",
      "-Valid.  Loss=0.1652248\n",
      "'train_loss_fward05_65.csv' saved.\n",
      "'valid_loss_fward05_65.csv' saved.\n",
      "'model10_fward05_65_last.pth' saved.\n",
      "'model10_fward05_65_best.pth' saved.\n",
      "- train minibatches = 1\n",
      "- valid minibatches = 1\n",
      "- test minibatches = 1\n"
     ]
    },
    {
     "data": {
      "application/vnd.jupyter.widget-view+json": {
       "model_id": "f7f590b6319b49559e3013662989f61f",
       "version_major": 2,
       "version_minor": 0
      },
      "text/plain": [
       "Epochs loop:   0%|          | 0/15000 [00:00<?, ?it/s]"
      ]
     },
     "metadata": {},
     "output_type": "display_data"
    },
    {
     "name": "stdout",
     "output_type": "stream",
     "text": [
      "Summary:\n",
      "-learning rate = 0.00527\n",
      "-Model saved after iteration 8.\n",
      "-Train.  Loss=0.0730671\n",
      "-Valid.  Loss=0.1462507\n",
      "'train_loss_fward05_66.csv' saved.\n",
      "'valid_loss_fward05_66.csv' saved.\n",
      "'model10_fward05_66_last.pth' saved.\n",
      "'model10_fward05_66_best.pth' saved.\n",
      "- train minibatches = 1\n",
      "- valid minibatches = 1\n",
      "- test minibatches = 1\n"
     ]
    },
    {
     "data": {
      "application/vnd.jupyter.widget-view+json": {
       "model_id": "20e365df1a334b72b2f15f3281c20642",
       "version_major": 2,
       "version_minor": 0
      },
      "text/plain": [
       "Epochs loop:   0%|          | 0/15000 [00:00<?, ?it/s]"
      ]
     },
     "metadata": {},
     "output_type": "display_data"
    },
    {
     "name": "stdout",
     "output_type": "stream",
     "text": [
      "Summary:\n",
      "-learning rate = 0.00527\n",
      "-Model saved after iteration 15000.\n",
      "-Train.  Loss=0.0265845\n",
      "-Valid.  Loss=0.0110813\n",
      "'train_loss_fward05_67.csv' saved.\n",
      "'valid_loss_fward05_67.csv' saved.\n",
      "'model10_fward05_67_last.pth' saved.\n",
      "'model10_fward05_67_best.pth' saved.\n",
      "- train minibatches = 1\n",
      "- valid minibatches = 1\n",
      "- test minibatches = 1\n"
     ]
    },
    {
     "data": {
      "application/vnd.jupyter.widget-view+json": {
       "model_id": "f9e32cadb08a4ef4bc355a533c1c42a7",
       "version_major": 2,
       "version_minor": 0
      },
      "text/plain": [
       "Epochs loop:   0%|          | 0/15000 [00:00<?, ?it/s]"
      ]
     },
     "metadata": {},
     "output_type": "display_data"
    },
    {
     "name": "stdout",
     "output_type": "stream",
     "text": [
      "Summary:\n",
      "-learning rate = 0.00527\n",
      "-Model saved after iteration 5.\n",
      "-Train.  Loss=0.0717748\n",
      "-Valid.  Loss=0.2747706\n",
      "'train_loss_fward05_68.csv' saved.\n",
      "'valid_loss_fward05_68.csv' saved.\n",
      "'model10_fward05_68_last.pth' saved.\n",
      "'model10_fward05_68_best.pth' saved.\n",
      "- train minibatches = 1\n",
      "- valid minibatches = 1\n",
      "- test minibatches = 1\n"
     ]
    },
    {
     "data": {
      "application/vnd.jupyter.widget-view+json": {
       "model_id": "9140633e59f744abbd474b52fe203f51",
       "version_major": 2,
       "version_minor": 0
      },
      "text/plain": [
       "Epochs loop:   0%|          | 0/15000 [00:00<?, ?it/s]"
      ]
     },
     "metadata": {},
     "output_type": "display_data"
    },
    {
     "name": "stdout",
     "output_type": "stream",
     "text": [
      "Summary:\n",
      "-learning rate = 0.00527\n",
      "-Model saved after iteration 169.\n",
      "-Train.  Loss=0.0224427\n",
      "-Valid.  Loss=0.2740371\n",
      "'train_loss_fward05_69.csv' saved.\n",
      "'valid_loss_fward05_69.csv' saved.\n",
      "'model10_fward05_69_last.pth' saved.\n",
      "'model10_fward05_69_best.pth' saved.\n",
      "- train minibatches = 1\n",
      "- valid minibatches = 1\n",
      "- test minibatches = 1\n"
     ]
    },
    {
     "data": {
      "application/vnd.jupyter.widget-view+json": {
       "model_id": "5d6eb2425bf14f89941b2e3c067e0654",
       "version_major": 2,
       "version_minor": 0
      },
      "text/plain": [
       "Epochs loop:   0%|          | 0/15000 [00:00<?, ?it/s]"
      ]
     },
     "metadata": {},
     "output_type": "display_data"
    },
    {
     "name": "stdout",
     "output_type": "stream",
     "text": [
      "Summary:\n",
      "-learning rate = 0.00527\n",
      "-Model saved after iteration 14626.\n",
      "-Train.  Loss=0.0623971\n",
      "-Valid.  Loss=0.0631798\n",
      "'train_loss_fward05_70.csv' saved.\n",
      "'valid_loss_fward05_70.csv' saved.\n",
      "'model10_fward05_70_last.pth' saved.\n",
      "'model10_fward05_70_best.pth' saved.\n",
      "- train minibatches = 1\n",
      "- valid minibatches = 1\n",
      "- test minibatches = 1\n"
     ]
    },
    {
     "data": {
      "application/vnd.jupyter.widget-view+json": {
       "model_id": "18828da381bf47828aeb8977dc4bbf08",
       "version_major": 2,
       "version_minor": 0
      },
      "text/plain": [
       "Epochs loop:   0%|          | 0/15000 [00:00<?, ?it/s]"
      ]
     },
     "metadata": {},
     "output_type": "display_data"
    },
    {
     "name": "stdout",
     "output_type": "stream",
     "text": [
      "Summary:\n",
      "-learning rate = 0.00527\n",
      "-Model saved after iteration 13036.\n",
      "-Train.  Loss=0.0085365\n",
      "-Valid.  Loss=0.0235325\n",
      "'train_loss_fward05_71.csv' saved.\n",
      "'valid_loss_fward05_71.csv' saved.\n",
      "'model10_fward05_71_last.pth' saved.\n",
      "'model10_fward05_71_best.pth' saved.\n",
      "- train minibatches = 1\n",
      "- valid minibatches = 1\n",
      "- test minibatches = 1\n"
     ]
    },
    {
     "data": {
      "application/vnd.jupyter.widget-view+json": {
       "model_id": "a50640b0cbdc47ccbe0beb87debd71b0",
       "version_major": 2,
       "version_minor": 0
      },
      "text/plain": [
       "Epochs loop:   0%|          | 0/15000 [00:00<?, ?it/s]"
      ]
     },
     "metadata": {},
     "output_type": "display_data"
    },
    {
     "name": "stdout",
     "output_type": "stream",
     "text": [
      "Summary:\n",
      "-learning rate = 0.00527\n",
      "-Model saved after iteration 36.\n",
      "-Train.  Loss=0.0496081\n",
      "-Valid.  Loss=0.3133761\n",
      "'train_loss_fward05_72.csv' saved.\n",
      "'valid_loss_fward05_72.csv' saved.\n",
      "'model10_fward05_72_last.pth' saved.\n",
      "'model10_fward05_72_best.pth' saved.\n",
      "- train minibatches = 1\n",
      "- valid minibatches = 1\n",
      "- test minibatches = 1\n"
     ]
    },
    {
     "data": {
      "application/vnd.jupyter.widget-view+json": {
       "model_id": "b21ecb38b26a4fe19b4990ca4450272d",
       "version_major": 2,
       "version_minor": 0
      },
      "text/plain": [
       "Epochs loop:   0%|          | 0/15000 [00:00<?, ?it/s]"
      ]
     },
     "metadata": {},
     "output_type": "display_data"
    },
    {
     "name": "stdout",
     "output_type": "stream",
     "text": [
      "Summary:\n",
      "-learning rate = 0.00527\n",
      "-Model saved after iteration 47.\n",
      "-Train.  Loss=0.0279197\n",
      "-Valid.  Loss=0.1072131\n",
      "'train_loss_fward05_73.csv' saved.\n",
      "'valid_loss_fward05_73.csv' saved.\n",
      "'model10_fward05_73_last.pth' saved.\n",
      "'model10_fward05_73_best.pth' saved.\n",
      "- train minibatches = 1\n",
      "- valid minibatches = 1\n",
      "- test minibatches = 1\n"
     ]
    },
    {
     "data": {
      "application/vnd.jupyter.widget-view+json": {
       "model_id": "81c78667ccd04f4db936457452a4c8d0",
       "version_major": 2,
       "version_minor": 0
      },
      "text/plain": [
       "Epochs loop:   0%|          | 0/15000 [00:00<?, ?it/s]"
      ]
     },
     "metadata": {},
     "output_type": "display_data"
    },
    {
     "name": "stdout",
     "output_type": "stream",
     "text": [
      "Summary:\n",
      "-learning rate = 0.00527\n",
      "-Model saved after iteration 33.\n",
      "-Train.  Loss=0.0516281\n",
      "-Valid.  Loss=0.1830062\n",
      "'train_loss_fward05_74.csv' saved.\n",
      "'valid_loss_fward05_74.csv' saved.\n",
      "'model10_fward05_74_last.pth' saved.\n",
      "'model10_fward05_74_best.pth' saved.\n",
      "- train minibatches = 1\n",
      "- valid minibatches = 1\n",
      "- test minibatches = 1\n"
     ]
    },
    {
     "data": {
      "application/vnd.jupyter.widget-view+json": {
       "model_id": "16cbd35774da45b597b05de5c7f724be",
       "version_major": 2,
       "version_minor": 0
      },
      "text/plain": [
       "Epochs loop:   0%|          | 0/15000 [00:00<?, ?it/s]"
      ]
     },
     "metadata": {},
     "output_type": "display_data"
    },
    {
     "name": "stdout",
     "output_type": "stream",
     "text": [
      "Summary:\n",
      "-learning rate = 0.00527\n",
      "-Model saved after iteration 140.\n",
      "-Train.  Loss=0.0335353\n",
      "-Valid.  Loss=0.1927228\n",
      "'train_loss_fward05_75.csv' saved.\n",
      "'valid_loss_fward05_75.csv' saved.\n",
      "'model10_fward05_75_last.pth' saved.\n",
      "'model10_fward05_75_best.pth' saved.\n",
      "- train minibatches = 1\n",
      "- valid minibatches = 1\n",
      "- test minibatches = 1\n"
     ]
    },
    {
     "data": {
      "application/vnd.jupyter.widget-view+json": {
       "model_id": "aa51db515b014845a8a1ad420da079af",
       "version_major": 2,
       "version_minor": 0
      },
      "text/plain": [
       "Epochs loop:   0%|          | 0/15000 [00:00<?, ?it/s]"
      ]
     },
     "metadata": {},
     "output_type": "display_data"
    },
    {
     "name": "stdout",
     "output_type": "stream",
     "text": [
      "Summary:\n",
      "-learning rate = 0.00527\n",
      "-Model saved after iteration 35.\n",
      "-Train.  Loss=0.0593022\n",
      "-Valid.  Loss=0.1892970\n",
      "'train_loss_fward05_76.csv' saved.\n",
      "'valid_loss_fward05_76.csv' saved.\n",
      "'model10_fward05_76_last.pth' saved.\n",
      "'model10_fward05_76_best.pth' saved.\n",
      "- train minibatches = 1\n",
      "- valid minibatches = 1\n",
      "- test minibatches = 1\n"
     ]
    },
    {
     "data": {
      "application/vnd.jupyter.widget-view+json": {
       "model_id": "397b3a40e28d490b9c54f9ce6eea82cf",
       "version_major": 2,
       "version_minor": 0
      },
      "text/plain": [
       "Epochs loop:   0%|          | 0/15000 [00:00<?, ?it/s]"
      ]
     },
     "metadata": {},
     "output_type": "display_data"
    },
    {
     "name": "stdout",
     "output_type": "stream",
     "text": [
      "Summary:\n",
      "-learning rate = 0.00527\n",
      "-Model saved after iteration 14950.\n",
      "-Train.  Loss=0.0066290\n",
      "-Valid.  Loss=0.3263863\n",
      "'train_loss_fward05_77.csv' saved.\n",
      "'valid_loss_fward05_77.csv' saved.\n",
      "'model10_fward05_77_last.pth' saved.\n",
      "'model10_fward05_77_best.pth' saved.\n",
      "- train minibatches = 1\n",
      "- valid minibatches = 1\n",
      "- test minibatches = 1\n"
     ]
    },
    {
     "data": {
      "application/vnd.jupyter.widget-view+json": {
       "model_id": "35a8b2fec33a4f46a31a9272560bb677",
       "version_major": 2,
       "version_minor": 0
      },
      "text/plain": [
       "Epochs loop:   0%|          | 0/15000 [00:00<?, ?it/s]"
      ]
     },
     "metadata": {},
     "output_type": "display_data"
    },
    {
     "name": "stdout",
     "output_type": "stream",
     "text": [
      "Summary:\n",
      "-learning rate = 0.00527\n",
      "-Model saved after iteration 14.\n",
      "-Train.  Loss=0.0720917\n",
      "-Valid.  Loss=0.3381422\n",
      "'train_loss_fward05_78.csv' saved.\n",
      "'valid_loss_fward05_78.csv' saved.\n",
      "'model10_fward05_78_last.pth' saved.\n",
      "'model10_fward05_78_best.pth' saved.\n",
      "- train minibatches = 1\n",
      "- valid minibatches = 1\n",
      "- test minibatches = 1\n"
     ]
    },
    {
     "data": {
      "application/vnd.jupyter.widget-view+json": {
       "model_id": "af44fb7243ea4c32b13283685c04b16d",
       "version_major": 2,
       "version_minor": 0
      },
      "text/plain": [
       "Epochs loop:   0%|          | 0/15000 [00:00<?, ?it/s]"
      ]
     },
     "metadata": {},
     "output_type": "display_data"
    },
    {
     "name": "stdout",
     "output_type": "stream",
     "text": [
      "Summary:\n",
      "-learning rate = 0.00527\n",
      "-Model saved after iteration 15000.\n",
      "-Train.  Loss=0.0265549\n",
      "-Valid.  Loss=0.0069408\n",
      "'train_loss_fward05_79.csv' saved.\n",
      "'valid_loss_fward05_79.csv' saved.\n",
      "'model10_fward05_79_last.pth' saved.\n",
      "'model10_fward05_79_best.pth' saved.\n",
      "- train minibatches = 1\n",
      "- valid minibatches = 1\n",
      "- test minibatches = 1\n"
     ]
    },
    {
     "data": {
      "application/vnd.jupyter.widget-view+json": {
       "model_id": "0fbec901b22e47398770526082d5efce",
       "version_major": 2,
       "version_minor": 0
      },
      "text/plain": [
       "Epochs loop:   0%|          | 0/15000 [00:00<?, ?it/s]"
      ]
     },
     "metadata": {},
     "output_type": "display_data"
    },
    {
     "name": "stdout",
     "output_type": "stream",
     "text": [
      "Summary:\n",
      "-learning rate = 0.00527\n",
      "-Model saved after iteration 302.\n",
      "-Train.  Loss=0.0394465\n",
      "-Valid.  Loss=0.1282571\n",
      "'train_loss_fward05_80.csv' saved.\n",
      "'valid_loss_fward05_80.csv' saved.\n",
      "'model10_fward05_80_last.pth' saved.\n",
      "'model10_fward05_80_best.pth' saved.\n",
      "- train minibatches = 1\n",
      "- valid minibatches = 1\n",
      "- test minibatches = 1\n"
     ]
    },
    {
     "data": {
      "application/vnd.jupyter.widget-view+json": {
       "model_id": "5cb183d68ee043fb8c27b85cff7b589c",
       "version_major": 2,
       "version_minor": 0
      },
      "text/plain": [
       "Epochs loop:   0%|          | 0/15000 [00:00<?, ?it/s]"
      ]
     },
     "metadata": {},
     "output_type": "display_data"
    },
    {
     "name": "stdout",
     "output_type": "stream",
     "text": [
      "Summary:\n",
      "-learning rate = 0.00527\n",
      "-Model saved after iteration 26.\n",
      "-Train.  Loss=0.0861493\n",
      "-Valid.  Loss=0.2463056\n",
      "'train_loss_fward05_81.csv' saved.\n",
      "'valid_loss_fward05_81.csv' saved.\n",
      "'model10_fward05_81_last.pth' saved.\n",
      "'model10_fward05_81_best.pth' saved.\n",
      "- train minibatches = 1\n",
      "- valid minibatches = 1\n",
      "- test minibatches = 1\n"
     ]
    },
    {
     "data": {
      "application/vnd.jupyter.widget-view+json": {
       "model_id": "ef1e25a0339f41ccb8cfb75e8c4e0a37",
       "version_major": 2,
       "version_minor": 0
      },
      "text/plain": [
       "Epochs loop:   0%|          | 0/15000 [00:00<?, ?it/s]"
      ]
     },
     "metadata": {},
     "output_type": "display_data"
    },
    {
     "name": "stdout",
     "output_type": "stream",
     "text": [
      "Summary:\n",
      "-learning rate = 0.00527\n",
      "-Model saved after iteration 59.\n",
      "-Train.  Loss=0.0385719\n",
      "-Valid.  Loss=0.2460006\n",
      "'train_loss_fward05_82.csv' saved.\n",
      "'valid_loss_fward05_82.csv' saved.\n",
      "'model10_fward05_82_last.pth' saved.\n",
      "'model10_fward05_82_best.pth' saved.\n",
      "- train minibatches = 1\n",
      "- valid minibatches = 1\n",
      "- test minibatches = 1\n"
     ]
    },
    {
     "data": {
      "application/vnd.jupyter.widget-view+json": {
       "model_id": "6f451dd35b4f47bbb5f061c91cdce0b3",
       "version_major": 2,
       "version_minor": 0
      },
      "text/plain": [
       "Epochs loop:   0%|          | 0/15000 [00:00<?, ?it/s]"
      ]
     },
     "metadata": {},
     "output_type": "display_data"
    },
    {
     "name": "stdout",
     "output_type": "stream",
     "text": [
      "Summary:\n",
      "-learning rate = 0.00527\n",
      "-Model saved after iteration 39.\n",
      "-Train.  Loss=0.0474420\n",
      "-Valid.  Loss=0.2280463\n",
      "'train_loss_fward05_83.csv' saved.\n",
      "'valid_loss_fward05_83.csv' saved.\n",
      "'model10_fward05_83_last.pth' saved.\n",
      "'model10_fward05_83_best.pth' saved.\n",
      "- train minibatches = 1\n",
      "- valid minibatches = 1\n",
      "- test minibatches = 1\n"
     ]
    },
    {
     "data": {
      "application/vnd.jupyter.widget-view+json": {
       "model_id": "b49ee792147b45dfbe15ddc2bfd45fcf",
       "version_major": 2,
       "version_minor": 0
      },
      "text/plain": [
       "Epochs loop:   0%|          | 0/15000 [00:00<?, ?it/s]"
      ]
     },
     "metadata": {},
     "output_type": "display_data"
    },
    {
     "name": "stdout",
     "output_type": "stream",
     "text": [
      "Summary:\n",
      "-learning rate = 0.00527\n",
      "-Model saved after iteration 113.\n",
      "-Train.  Loss=0.0170678\n",
      "-Valid.  Loss=0.1218328\n",
      "'train_loss_fward05_84.csv' saved.\n",
      "'valid_loss_fward05_84.csv' saved.\n",
      "'model10_fward05_84_last.pth' saved.\n",
      "'model10_fward05_84_best.pth' saved.\n",
      "- train minibatches = 1\n",
      "- valid minibatches = 1\n",
      "- test minibatches = 1\n"
     ]
    },
    {
     "data": {
      "application/vnd.jupyter.widget-view+json": {
       "model_id": "7dc5c9d13ecd48838549ddd62a1cd369",
       "version_major": 2,
       "version_minor": 0
      },
      "text/plain": [
       "Epochs loop:   0%|          | 0/15000 [00:00<?, ?it/s]"
      ]
     },
     "metadata": {},
     "output_type": "display_data"
    },
    {
     "name": "stdout",
     "output_type": "stream",
     "text": [
      "Summary:\n",
      "-learning rate = 0.00527\n",
      "-Model saved after iteration 8.\n",
      "-Train.  Loss=0.0273963\n",
      "-Valid.  Loss=0.3948072\n",
      "'train_loss_fward05_85.csv' saved.\n",
      "'valid_loss_fward05_85.csv' saved.\n",
      "'model10_fward05_85_last.pth' saved.\n",
      "'model10_fward05_85_best.pth' saved.\n",
      "- train minibatches = 1\n",
      "- valid minibatches = 1\n",
      "- test minibatches = 1\n"
     ]
    },
    {
     "data": {
      "application/vnd.jupyter.widget-view+json": {
       "model_id": "0a0dc1058fea4dbdb248a471287e9eec",
       "version_major": 2,
       "version_minor": 0
      },
      "text/plain": [
       "Epochs loop:   0%|          | 0/15000 [00:00<?, ?it/s]"
      ]
     },
     "metadata": {},
     "output_type": "display_data"
    },
    {
     "name": "stdout",
     "output_type": "stream",
     "text": [
      "Summary:\n",
      "-learning rate = 0.00527\n",
      "-Model saved after iteration 35.\n",
      "-Train.  Loss=0.0360764\n",
      "-Valid.  Loss=0.2212848\n",
      "'train_loss_fward05_86.csv' saved.\n",
      "'valid_loss_fward05_86.csv' saved.\n",
      "'model10_fward05_86_last.pth' saved.\n",
      "'model10_fward05_86_best.pth' saved.\n",
      "- train minibatches = 1\n",
      "- valid minibatches = 1\n",
      "- test minibatches = 1\n"
     ]
    },
    {
     "data": {
      "application/vnd.jupyter.widget-view+json": {
       "model_id": "8d7319e1998d47989fc05d895b1e011d",
       "version_major": 2,
       "version_minor": 0
      },
      "text/plain": [
       "Epochs loop:   0%|          | 0/15000 [00:00<?, ?it/s]"
      ]
     },
     "metadata": {},
     "output_type": "display_data"
    },
    {
     "name": "stdout",
     "output_type": "stream",
     "text": [
      "Summary:\n",
      "-learning rate = 0.00527\n",
      "-Model saved after iteration 26.\n",
      "-Train.  Loss=0.0834219\n",
      "-Valid.  Loss=0.1303451\n",
      "'train_loss_fward05_87.csv' saved.\n",
      "'valid_loss_fward05_87.csv' saved.\n",
      "'model10_fward05_87_last.pth' saved.\n",
      "'model10_fward05_87_best.pth' saved.\n",
      "- train minibatches = 1\n",
      "- valid minibatches = 1\n",
      "- test minibatches = 1\n"
     ]
    },
    {
     "data": {
      "application/vnd.jupyter.widget-view+json": {
       "model_id": "8a40b9f2cae849e8bc5472ed0e72b2bc",
       "version_major": 2,
       "version_minor": 0
      },
      "text/plain": [
       "Epochs loop:   0%|          | 0/15000 [00:00<?, ?it/s]"
      ]
     },
     "metadata": {},
     "output_type": "display_data"
    },
    {
     "name": "stdout",
     "output_type": "stream",
     "text": [
      "Summary:\n",
      "-learning rate = 0.00527\n",
      "-Model saved after iteration 15000.\n",
      "-Train.  Loss=0.0069036\n",
      "-Valid.  Loss=0.0125328\n",
      "'train_loss_fward05_88.csv' saved.\n",
      "'valid_loss_fward05_88.csv' saved.\n",
      "'model10_fward05_88_last.pth' saved.\n",
      "'model10_fward05_88_best.pth' saved.\n",
      "- train minibatches = 1\n",
      "- valid minibatches = 1\n",
      "- test minibatches = 1\n"
     ]
    },
    {
     "data": {
      "application/vnd.jupyter.widget-view+json": {
       "model_id": "0e5da414ef4e4caebddd262ab18a4bc8",
       "version_major": 2,
       "version_minor": 0
      },
      "text/plain": [
       "Epochs loop:   0%|          | 0/15000 [00:00<?, ?it/s]"
      ]
     },
     "metadata": {},
     "output_type": "display_data"
    },
    {
     "name": "stdout",
     "output_type": "stream",
     "text": [
      "Summary:\n",
      "-learning rate = 0.00527\n",
      "-Model saved after iteration 54.\n",
      "-Train.  Loss=0.0390235\n",
      "-Valid.  Loss=0.2128192\n",
      "'train_loss_fward05_89.csv' saved.\n",
      "'valid_loss_fward05_89.csv' saved.\n",
      "'model10_fward05_89_last.pth' saved.\n",
      "'model10_fward05_89_best.pth' saved.\n",
      "- train minibatches = 1\n",
      "- valid minibatches = 1\n",
      "- test minibatches = 1\n"
     ]
    },
    {
     "data": {
      "application/vnd.jupyter.widget-view+json": {
       "model_id": "71c351195f0e40d092c2115d4a9612d4",
       "version_major": 2,
       "version_minor": 0
      },
      "text/plain": [
       "Epochs loop:   0%|          | 0/15000 [00:00<?, ?it/s]"
      ]
     },
     "metadata": {},
     "output_type": "display_data"
    },
    {
     "name": "stdout",
     "output_type": "stream",
     "text": [
      "Summary:\n",
      "-learning rate = 0.00527\n",
      "-Model saved after iteration 10.\n",
      "-Train.  Loss=0.0831963\n",
      "-Valid.  Loss=0.4236811\n",
      "'train_loss_fward05_90.csv' saved.\n",
      "'valid_loss_fward05_90.csv' saved.\n",
      "'model10_fward05_90_last.pth' saved.\n",
      "'model10_fward05_90_best.pth' saved.\n",
      "- train minibatches = 1\n",
      "- valid minibatches = 1\n",
      "- test minibatches = 1\n"
     ]
    },
    {
     "data": {
      "application/vnd.jupyter.widget-view+json": {
       "model_id": "55c0f4d70c3c428a93b2884919e69ddd",
       "version_major": 2,
       "version_minor": 0
      },
      "text/plain": [
       "Epochs loop:   0%|          | 0/15000 [00:00<?, ?it/s]"
      ]
     },
     "metadata": {},
     "output_type": "display_data"
    },
    {
     "name": "stdout",
     "output_type": "stream",
     "text": [
      "Summary:\n",
      "-learning rate = 0.00527\n",
      "-Model saved after iteration 18.\n",
      "-Train.  Loss=0.0761929\n",
      "-Valid.  Loss=0.1888448\n",
      "'train_loss_fward05_91.csv' saved.\n",
      "'valid_loss_fward05_91.csv' saved.\n",
      "'model10_fward05_91_last.pth' saved.\n",
      "'model10_fward05_91_best.pth' saved.\n",
      "- train minibatches = 1\n",
      "- valid minibatches = 1\n",
      "- test minibatches = 1\n"
     ]
    },
    {
     "data": {
      "application/vnd.jupyter.widget-view+json": {
       "model_id": "39e23dcbfe894c6381cf8ae34e5ed01d",
       "version_major": 2,
       "version_minor": 0
      },
      "text/plain": [
       "Epochs loop:   0%|          | 0/15000 [00:00<?, ?it/s]"
      ]
     },
     "metadata": {},
     "output_type": "display_data"
    },
    {
     "name": "stdout",
     "output_type": "stream",
     "text": [
      "Summary:\n",
      "-learning rate = 0.00527\n",
      "-Model saved after iteration 15000.\n",
      "-Train.  Loss=0.0059071\n",
      "-Valid.  Loss=0.0009643\n",
      "'train_loss_fward05_92.csv' saved.\n",
      "'valid_loss_fward05_92.csv' saved.\n",
      "'model10_fward05_92_last.pth' saved.\n",
      "'model10_fward05_92_best.pth' saved.\n",
      "- train minibatches = 1\n",
      "- valid minibatches = 1\n",
      "- test minibatches = 1\n"
     ]
    },
    {
     "data": {
      "application/vnd.jupyter.widget-view+json": {
       "model_id": "a2580f19f5254ae59a4ddea74b5a5ac0",
       "version_major": 2,
       "version_minor": 0
      },
      "text/plain": [
       "Epochs loop:   0%|          | 0/15000 [00:00<?, ?it/s]"
      ]
     },
     "metadata": {},
     "output_type": "display_data"
    },
    {
     "name": "stdout",
     "output_type": "stream",
     "text": [
      "Summary:\n",
      "-learning rate = 0.00527\n",
      "-Model saved after iteration 15000.\n",
      "-Train.  Loss=0.0070563\n",
      "-Valid.  Loss=0.0197141\n",
      "'train_loss_fward05_93.csv' saved.\n",
      "'valid_loss_fward05_93.csv' saved.\n",
      "'model10_fward05_93_last.pth' saved.\n",
      "'model10_fward05_93_best.pth' saved.\n",
      "- train minibatches = 1\n",
      "- valid minibatches = 1\n",
      "- test minibatches = 1\n"
     ]
    },
    {
     "data": {
      "application/vnd.jupyter.widget-view+json": {
       "model_id": "e0ecfc96d7b84bab812c1130c14550a3",
       "version_major": 2,
       "version_minor": 0
      },
      "text/plain": [
       "Epochs loop:   0%|          | 0/15000 [00:00<?, ?it/s]"
      ]
     },
     "metadata": {},
     "output_type": "display_data"
    },
    {
     "name": "stdout",
     "output_type": "stream",
     "text": [
      "Summary:\n",
      "-learning rate = 0.00527\n",
      "-Model saved after iteration 11.\n",
      "-Train.  Loss=0.1162062\n",
      "-Valid.  Loss=0.2170898\n",
      "'train_loss_fward05_94.csv' saved.\n",
      "'valid_loss_fward05_94.csv' saved.\n",
      "'model10_fward05_94_last.pth' saved.\n",
      "'model10_fward05_94_best.pth' saved.\n",
      "- train minibatches = 1\n",
      "- valid minibatches = 1\n",
      "- test minibatches = 1\n"
     ]
    },
    {
     "data": {
      "application/vnd.jupyter.widget-view+json": {
       "model_id": "1352446ec923496c9b5c41980f25d464",
       "version_major": 2,
       "version_minor": 0
      },
      "text/plain": [
       "Epochs loop:   0%|          | 0/15000 [00:00<?, ?it/s]"
      ]
     },
     "metadata": {},
     "output_type": "display_data"
    },
    {
     "name": "stdout",
     "output_type": "stream",
     "text": [
      "Summary:\n",
      "-learning rate = 0.00527\n",
      "-Model saved after iteration 6.\n",
      "-Train.  Loss=0.0581508\n",
      "-Valid.  Loss=0.3232884\n",
      "'train_loss_fward05_95.csv' saved.\n",
      "'valid_loss_fward05_95.csv' saved.\n",
      "'model10_fward05_95_last.pth' saved.\n",
      "'model10_fward05_95_best.pth' saved.\n",
      "- train minibatches = 1\n",
      "- valid minibatches = 1\n",
      "- test minibatches = 1\n"
     ]
    },
    {
     "data": {
      "application/vnd.jupyter.widget-view+json": {
       "model_id": "bf1075822fe347fa8cdce96ce49f78cd",
       "version_major": 2,
       "version_minor": 0
      },
      "text/plain": [
       "Epochs loop:   0%|          | 0/15000 [00:00<?, ?it/s]"
      ]
     },
     "metadata": {},
     "output_type": "display_data"
    },
    {
     "name": "stdout",
     "output_type": "stream",
     "text": [
      "Summary:\n",
      "-learning rate = 0.00527\n",
      "-Model saved after iteration 13686.\n",
      "-Train.  Loss=0.0266925\n",
      "-Valid.  Loss=0.0046715\n",
      "'train_loss_fward05_96.csv' saved.\n",
      "'valid_loss_fward05_96.csv' saved.\n",
      "'model10_fward05_96_last.pth' saved.\n",
      "'model10_fward05_96_best.pth' saved.\n",
      "- train minibatches = 1\n",
      "- valid minibatches = 1\n",
      "- test minibatches = 1\n"
     ]
    },
    {
     "data": {
      "application/vnd.jupyter.widget-view+json": {
       "model_id": "ff532f16115f46ee98ba4a783b810257",
       "version_major": 2,
       "version_minor": 0
      },
      "text/plain": [
       "Epochs loop:   0%|          | 0/15000 [00:00<?, ?it/s]"
      ]
     },
     "metadata": {},
     "output_type": "display_data"
    },
    {
     "name": "stdout",
     "output_type": "stream",
     "text": [
      "Summary:\n",
      "-learning rate = 0.00527\n",
      "-Model saved after iteration 15000.\n",
      "-Train.  Loss=0.0266950\n",
      "-Valid.  Loss=0.0076609\n",
      "'train_loss_fward05_97.csv' saved.\n",
      "'valid_loss_fward05_97.csv' saved.\n",
      "'model10_fward05_97_last.pth' saved.\n",
      "'model10_fward05_97_best.pth' saved.\n",
      "- train minibatches = 1\n",
      "- valid minibatches = 1\n",
      "- test minibatches = 1\n"
     ]
    },
    {
     "data": {
      "application/vnd.jupyter.widget-view+json": {
       "model_id": "e593c2785c0e44ebb4826388c1426332",
       "version_major": 2,
       "version_minor": 0
      },
      "text/plain": [
       "Epochs loop:   0%|          | 0/15000 [00:00<?, ?it/s]"
      ]
     },
     "metadata": {},
     "output_type": "display_data"
    },
    {
     "name": "stdout",
     "output_type": "stream",
     "text": [
      "Summary:\n",
      "-learning rate = 0.00527\n",
      "-Model saved after iteration 14997.\n",
      "-Train.  Loss=0.0000182\n",
      "-Valid.  Loss=0.0252284\n",
      "'train_loss_fward05_98.csv' saved.\n",
      "'valid_loss_fward05_98.csv' saved.\n",
      "'model10_fward05_98_last.pth' saved.\n",
      "'model10_fward05_98_best.pth' saved.\n",
      "- train minibatches = 1\n",
      "- valid minibatches = 1\n",
      "- test minibatches = 1\n"
     ]
    },
    {
     "data": {
      "application/vnd.jupyter.widget-view+json": {
       "model_id": "12619ed8fc8b4a888fc976fa87d62c63",
       "version_major": 2,
       "version_minor": 0
      },
      "text/plain": [
       "Epochs loop:   0%|          | 0/15000 [00:00<?, ?it/s]"
      ]
     },
     "metadata": {},
     "output_type": "display_data"
    },
    {
     "name": "stdout",
     "output_type": "stream",
     "text": [
      "Summary:\n",
      "-learning rate = 0.00527\n",
      "-Model saved after iteration 13811.\n",
      "-Train.  Loss=0.0385246\n",
      "-Valid.  Loss=0.0057475\n",
      "'train_loss_fward05_99.csv' saved.\n",
      "'valid_loss_fward05_99.csv' saved.\n",
      "'model10_fward05_99_last.pth' saved.\n",
      "'model10_fward05_99_best.pth' saved.\n",
      "- train minibatches = 1\n",
      "- valid minibatches = 1\n",
      "- test minibatches = 1\n"
     ]
    },
    {
     "data": {
      "application/vnd.jupyter.widget-view+json": {
       "model_id": "94b5854ce84d431f90ae468bc4759ddf",
       "version_major": 2,
       "version_minor": 0
      },
      "text/plain": [
       "Epochs loop:   0%|          | 0/15000 [00:00<?, ?it/s]"
      ]
     },
     "metadata": {},
     "output_type": "display_data"
    },
    {
     "name": "stdout",
     "output_type": "stream",
     "text": [
      "Summary:\n",
      "-learning rate = 0.00527\n",
      "-Model saved after iteration 17.\n",
      "-Train.  Loss=0.0743286\n",
      "-Valid.  Loss=0.3065131\n",
      "'train_loss_fward05_100.csv' saved.\n",
      "'valid_loss_fward05_100.csv' saved.\n",
      "'model10_fward05_100_last.pth' saved.\n",
      "'model10_fward05_100_best.pth' saved.\n"
     ]
    }
   ],
   "source": [
    "# Find Accuracy, Loss +/- STD (Lockdown: path 1)\n",
    "data_output = 'data_lockdown_10LungCarcinoma'\n",
    "accuracy_forward = pd.DataFrame(columns=['train_acc', 'valid_acc', 'test_acc', \n",
    "                                         'train_loss', 'valid_loss', 'test_loss'])\n",
    "\n",
    "partitions = 100\n",
    "iterator = tqdm.notebook.tqdm(range(1, partitions + 1), desc='Partitions loop')\n",
    "for n in iterator:\n",
    "    X = pd.read_csv('dataset_10LungCarcinoma/X.csv', header=None)\n",
    "    y = pd.read_csv('dataset_10LungCarcinoma/y.csv', header=None)\n",
    "    split_data(X, y, seed1=seed1[n], seed2=seed2[n])\n",
    "\n",
    "# .normalize data sets\n",
    "    df_to_tensor()\n",
    "    normalize_data()\n",
    "    make_DataLoaders()\n",
    "\n",
    "# .train model (forward)\n",
    "    lr = best_lr_bward\n",
    "    layer_sizes = [5, 2]\n",
    "    epochs = 15000\n",
    "    data_out = \"data_lockdown_10LungCarcinoma/partitions\"\n",
    "    lock_flag = False\n",
    "    features = xtrain.size(1)\n",
    "    fname = 'model10_fward05_'+str(n)\n",
    "    train_loss, valid_loss = train_model(\n",
    "                             lr, \n",
    "                             features, \n",
    "                             layer_sizes,\n",
    "                             lock_flag = lock_flag,\n",
    "                             epochs = epochs,\n",
    "                             early_stop = epochs, \n",
    "                             fname = fname)\n",
    "# .save relevant data\n",
    "    f3 = [fname+'_last.pth', fname+'_best.pth']\n",
    "    save_output(data_out, \n",
    "                'train_loss_fward05_'+str(n)+'.csv', \n",
    "                'valid_loss_fward05_'+str(n)+'.csv', f3)\n",
    "\n",
    "# .find Loss, Accurary, etc...\n",
    "    mm = MyNet(features, layer_sizes)\n",
    "    mm.load_state_dict(torch.load(os.path.join(data_out, fname+'_best.pth')))\n",
    "    mm = mm.to(device)\n",
    "    mm.eval()\n",
    "    \n",
    "    ypred = mm(xtrain)\n",
    "    loss = loss_type(ypred, ytrain.view(-1))\n",
    "    accu = dataset_accuracy(train_dataloader, mm, device)\n",
    "    accuracy_forward.loc[n, 'train_loss'] = loss.detach().item()\n",
    "    accuracy_forward.loc[n, 'train_acc'] = accu\n",
    "\n",
    "    ypred = mm(xvalid)\n",
    "    loss = loss_type(ypred, yvalid.view(-1))\n",
    "    accu = dataset_accuracy(valid_dataloader, mm, device)\n",
    "    accuracy_forward.loc[n, 'valid_loss'] = loss.detach().item()\n",
    "    accuracy_forward.loc[n, 'valid_acc'] = accu\n",
    "\n",
    "    ypred = mm(xtest)\n",
    "    loss = loss_type(ypred, ytest.view(-1))\n",
    "    accu = dataset_accuracy(test_dataloader, mm, device)\n",
    "    accuracy_forward.loc[n, 'test_loss'] = loss.detach().item()\n",
    "    accuracy_forward.loc[n, 'test_acc'] = accu\n",
    "\n",
    "    accuracy_forward.to_csv(os.path.join(data_out, 'accuracy_fward05.csv'), index=True)"
   ]
  },
  {
   "cell_type": "code",
   "execution_count": 169,
   "metadata": {
    "ExecuteTime": {
     "end_time": "2021-02-24T23:32:20.531911Z",
     "start_time": "2021-02-23T19:33:04.379578Z"
    },
    "code_folding": [
     0
    ],
    "scrolled": true
   },
   "outputs": [
    {
     "data": {
      "application/vnd.jupyter.widget-view+json": {
       "model_id": "c70e1ba053274ed6a8ef46e2787ab5e0",
       "version_major": 2,
       "version_minor": 0
      },
      "text/plain": [
       "Partitions loop:   0%|          | 0/100 [00:00<?, ?it/s]"
      ]
     },
     "metadata": {},
     "output_type": "display_data"
    },
    {
     "name": "stdout",
     "output_type": "stream",
     "text": [
      "- train minibatches = 1\n",
      "- valid minibatches = 1\n",
      "- test minibatches = 1\n"
     ]
    },
    {
     "data": {
      "application/vnd.jupyter.widget-view+json": {
       "model_id": "658beb349c5141c599cba6fd7e04d88a",
       "version_major": 2,
       "version_minor": 0
      },
      "text/plain": [
       "Epochs loop:   0%|          | 0/10000 [00:00<?, ?it/s]"
      ]
     },
     "metadata": {},
     "output_type": "display_data"
    },
    {
     "name": "stdout",
     "output_type": "stream",
     "text": [
      "Summary:\n",
      "-learning rate = 0.00527\n",
      "-Model saved after iteration 6472.\n",
      "-Train.  Loss=0.0034721\n",
      "-Valid.  Loss=0.1185677\n",
      "'train_loss_bward_1.csv' saved.\n",
      "'valid_loss_bward_1.csv' saved.\n",
      "'model10_backward05_1_best.pth' saved.\n",
      "- train minibatches = 1\n",
      "- valid minibatches = 1\n",
      "- test minibatches = 1\n"
     ]
    },
    {
     "data": {
      "application/vnd.jupyter.widget-view+json": {
       "model_id": "a0e75d4043ed4d27ba2ffeb5ab25d0b5",
       "version_major": 2,
       "version_minor": 0
      },
      "text/plain": [
       "Epochs loop:   0%|          | 0/10000 [00:00<?, ?it/s]"
      ]
     },
     "metadata": {},
     "output_type": "display_data"
    },
    {
     "name": "stdout",
     "output_type": "stream",
     "text": [
      "Summary:\n",
      "-learning rate = 0.00527\n",
      "-Model saved after iteration 10000.\n",
      "-Train.  Loss=0.0031264\n",
      "-Valid.  Loss=0.2550870\n",
      "'train_loss_bward_2.csv' saved.\n",
      "'valid_loss_bward_2.csv' saved.\n",
      "'model10_backward05_2_best.pth' saved.\n",
      "- train minibatches = 1\n",
      "- valid minibatches = 1\n",
      "- test minibatches = 1\n"
     ]
    },
    {
     "data": {
      "application/vnd.jupyter.widget-view+json": {
       "model_id": "76b43e5cc68e4392a83fd0c971d51d60",
       "version_major": 2,
       "version_minor": 0
      },
      "text/plain": [
       "Epochs loop:   0%|          | 0/10000 [00:00<?, ?it/s]"
      ]
     },
     "metadata": {},
     "output_type": "display_data"
    },
    {
     "name": "stdout",
     "output_type": "stream",
     "text": [
      "Summary:\n",
      "-learning rate = 0.00527\n",
      "-Model saved after iteration 2911.\n",
      "-Train.  Loss=0.0000000\n",
      "-Valid.  Loss=0.0004455\n",
      "'train_loss_bward_3.csv' saved.\n",
      "'valid_loss_bward_3.csv' saved.\n",
      "'model10_backward05_3_best.pth' saved.\n",
      "- train minibatches = 1\n",
      "- valid minibatches = 1\n",
      "- test minibatches = 1\n"
     ]
    },
    {
     "data": {
      "application/vnd.jupyter.widget-view+json": {
       "model_id": "cc74a9fde320449fbf4df1af11160607",
       "version_major": 2,
       "version_minor": 0
      },
      "text/plain": [
       "Epochs loop:   0%|          | 0/10000 [00:00<?, ?it/s]"
      ]
     },
     "metadata": {},
     "output_type": "display_data"
    },
    {
     "name": "stdout",
     "output_type": "stream",
     "text": [
      "Summary:\n",
      "-learning rate = 0.00527\n",
      "-Model saved after iteration 9686.\n",
      "-Train.  Loss=0.0186617\n",
      "-Valid.  Loss=0.1933593\n",
      "'train_loss_bward_4.csv' saved.\n",
      "'valid_loss_bward_4.csv' saved.\n",
      "'model10_backward05_4_best.pth' saved.\n",
      "- train minibatches = 1\n",
      "- valid minibatches = 1\n",
      "- test minibatches = 1\n"
     ]
    },
    {
     "data": {
      "application/vnd.jupyter.widget-view+json": {
       "model_id": "2cd08e865189440dbb3987669a6ea448",
       "version_major": 2,
       "version_minor": 0
      },
      "text/plain": [
       "Epochs loop:   0%|          | 0/10000 [00:00<?, ?it/s]"
      ]
     },
     "metadata": {},
     "output_type": "display_data"
    },
    {
     "name": "stdout",
     "output_type": "stream",
     "text": [
      "Summary:\n",
      "-learning rate = 0.00527\n",
      "-Model saved after iteration 10000.\n",
      "-Train.  Loss=0.0099255\n",
      "-Valid.  Loss=0.3238008\n",
      "'train_loss_bward_5.csv' saved.\n",
      "'valid_loss_bward_5.csv' saved.\n",
      "'model10_backward05_5_best.pth' saved.\n",
      "- train minibatches = 1\n",
      "- valid minibatches = 1\n",
      "- test minibatches = 1\n"
     ]
    },
    {
     "data": {
      "application/vnd.jupyter.widget-view+json": {
       "model_id": "05d0c07fd0504df5a96e1c18f382930b",
       "version_major": 2,
       "version_minor": 0
      },
      "text/plain": [
       "Epochs loop:   0%|          | 0/10000 [00:00<?, ?it/s]"
      ]
     },
     "metadata": {},
     "output_type": "display_data"
    },
    {
     "name": "stdout",
     "output_type": "stream",
     "text": [
      "Summary:\n",
      "-learning rate = 0.00527\n",
      "-Model saved after iteration 9611.\n",
      "-Train.  Loss=0.0160235\n",
      "-Valid.  Loss=0.2009962\n",
      "'train_loss_bward_6.csv' saved.\n",
      "'valid_loss_bward_6.csv' saved.\n",
      "'model10_backward05_6_best.pth' saved.\n",
      "- train minibatches = 1\n",
      "- valid minibatches = 1\n",
      "- test minibatches = 1\n"
     ]
    },
    {
     "data": {
      "application/vnd.jupyter.widget-view+json": {
       "model_id": "a94f46933c624d0e9bfad56325672ac3",
       "version_major": 2,
       "version_minor": 0
      },
      "text/plain": [
       "Epochs loop:   0%|          | 0/10000 [00:00<?, ?it/s]"
      ]
     },
     "metadata": {},
     "output_type": "display_data"
    },
    {
     "name": "stdout",
     "output_type": "stream",
     "text": [
      "Summary:\n",
      "-learning rate = 0.00527\n",
      "-Model saved after iteration 694.\n",
      "-Train.  Loss=0.0000000\n",
      "-Valid.  Loss=0.0000000\n",
      "'train_loss_bward_7.csv' saved.\n",
      "'valid_loss_bward_7.csv' saved.\n",
      "'model10_backward05_7_best.pth' saved.\n",
      "- train minibatches = 1\n",
      "- valid minibatches = 1\n",
      "- test minibatches = 1\n"
     ]
    },
    {
     "data": {
      "application/vnd.jupyter.widget-view+json": {
       "model_id": "13111daeb40b4444bb486f57301757b7",
       "version_major": 2,
       "version_minor": 0
      },
      "text/plain": [
       "Epochs loop:   0%|          | 0/10000 [00:00<?, ?it/s]"
      ]
     },
     "metadata": {},
     "output_type": "display_data"
    },
    {
     "name": "stdout",
     "output_type": "stream",
     "text": [
      "Summary:\n",
      "-learning rate = 0.00527\n",
      "-Model saved after iteration 124.\n",
      "-Train.  Loss=0.0044484\n",
      "-Valid.  Loss=0.0000000\n",
      "'train_loss_bward_8.csv' saved.\n",
      "'valid_loss_bward_8.csv' saved.\n",
      "'model10_backward05_8_best.pth' saved.\n",
      "- train minibatches = 1\n",
      "- valid minibatches = 1\n",
      "- test minibatches = 1\n"
     ]
    },
    {
     "data": {
      "application/vnd.jupyter.widget-view+json": {
       "model_id": "eebcd715ea0549bb9073e2f185bc2b3f",
       "version_major": 2,
       "version_minor": 0
      },
      "text/plain": [
       "Epochs loop:   0%|          | 0/10000 [00:00<?, ?it/s]"
      ]
     },
     "metadata": {},
     "output_type": "display_data"
    },
    {
     "name": "stdout",
     "output_type": "stream",
     "text": [
      "Summary:\n",
      "-learning rate = 0.00527\n",
      "-Model saved after iteration 9630.\n",
      "-Train.  Loss=0.0159583\n",
      "-Valid.  Loss=0.2481568\n",
      "'train_loss_bward_9.csv' saved.\n",
      "'valid_loss_bward_9.csv' saved.\n",
      "'model10_backward05_9_best.pth' saved.\n",
      "- train minibatches = 1\n",
      "- valid minibatches = 1\n",
      "- test minibatches = 1\n"
     ]
    },
    {
     "data": {
      "application/vnd.jupyter.widget-view+json": {
       "model_id": "c5234df69df149039ffa139a72c80d6e",
       "version_major": 2,
       "version_minor": 0
      },
      "text/plain": [
       "Epochs loop:   0%|          | 0/10000 [00:00<?, ?it/s]"
      ]
     },
     "metadata": {},
     "output_type": "display_data"
    },
    {
     "name": "stdout",
     "output_type": "stream",
     "text": [
      "Summary:\n",
      "-learning rate = 0.00527\n",
      "-Model saved after iteration 9806.\n",
      "-Train.  Loss=0.0273810\n",
      "-Valid.  Loss=0.2848838\n",
      "'train_loss_bward_10.csv' saved.\n",
      "'valid_loss_bward_10.csv' saved.\n",
      "'model10_backward05_10_best.pth' saved.\n",
      "- train minibatches = 1\n",
      "- valid minibatches = 1\n",
      "- test minibatches = 1\n"
     ]
    },
    {
     "data": {
      "application/vnd.jupyter.widget-view+json": {
       "model_id": "4669388a8c174259983c71a462fe1047",
       "version_major": 2,
       "version_minor": 0
      },
      "text/plain": [
       "Epochs loop:   0%|          | 0/10000 [00:00<?, ?it/s]"
      ]
     },
     "metadata": {},
     "output_type": "display_data"
    },
    {
     "name": "stdout",
     "output_type": "stream",
     "text": [
      "Summary:\n",
      "-learning rate = 0.00527\n",
      "-Model saved after iteration 9782.\n",
      "-Train.  Loss=0.0370947\n",
      "-Valid.  Loss=0.1926189\n",
      "'train_loss_bward_11.csv' saved.\n",
      "'valid_loss_bward_11.csv' saved.\n",
      "'model10_backward05_11_best.pth' saved.\n",
      "- train minibatches = 1\n",
      "- valid minibatches = 1\n",
      "- test minibatches = 1\n"
     ]
    },
    {
     "data": {
      "application/vnd.jupyter.widget-view+json": {
       "model_id": "66925d7742984e30a7446e23e51c1b9f",
       "version_major": 2,
       "version_minor": 0
      },
      "text/plain": [
       "Epochs loop:   0%|          | 0/10000 [00:00<?, ?it/s]"
      ]
     },
     "metadata": {},
     "output_type": "display_data"
    },
    {
     "name": "stdout",
     "output_type": "stream",
     "text": [
      "Summary:\n",
      "-learning rate = 0.00527\n",
      "-Model saved after iteration 3015.\n",
      "-Train.  Loss=0.0000001\n",
      "-Valid.  Loss=0.0007519\n",
      "'train_loss_bward_12.csv' saved.\n",
      "'valid_loss_bward_12.csv' saved.\n",
      "'model10_backward05_12_best.pth' saved.\n",
      "- train minibatches = 1\n",
      "- valid minibatches = 1\n",
      "- test minibatches = 1\n"
     ]
    },
    {
     "data": {
      "application/vnd.jupyter.widget-view+json": {
       "model_id": "4a3919b441ab4d789db7ab226e3193dd",
       "version_major": 2,
       "version_minor": 0
      },
      "text/plain": [
       "Epochs loop:   0%|          | 0/10000 [00:00<?, ?it/s]"
      ]
     },
     "metadata": {},
     "output_type": "display_data"
    },
    {
     "name": "stdout",
     "output_type": "stream",
     "text": [
      "Summary:\n",
      "-learning rate = 0.00527\n",
      "-Model saved after iteration 53.\n",
      "-Train.  Loss=0.2212179\n",
      "-Valid.  Loss=0.0000000\n",
      "'train_loss_bward_13.csv' saved.\n",
      "'valid_loss_bward_13.csv' saved.\n",
      "'model10_backward05_13_best.pth' saved.\n",
      "- train minibatches = 1\n",
      "- valid minibatches = 1\n",
      "- test minibatches = 1\n"
     ]
    },
    {
     "data": {
      "application/vnd.jupyter.widget-view+json": {
       "model_id": "a1386b1e80774d4ca264b8e92463592b",
       "version_major": 2,
       "version_minor": 0
      },
      "text/plain": [
       "Epochs loop:   0%|          | 0/10000 [00:00<?, ?it/s]"
      ]
     },
     "metadata": {},
     "output_type": "display_data"
    },
    {
     "name": "stdout",
     "output_type": "stream",
     "text": [
      "Summary:\n",
      "-learning rate = 0.00527\n",
      "-Model saved after iteration 9896.\n",
      "-Train.  Loss=0.0390347\n",
      "-Valid.  Loss=0.1944517\n",
      "'train_loss_bward_14.csv' saved.\n",
      "'valid_loss_bward_14.csv' saved.\n",
      "'model10_backward05_14_best.pth' saved.\n",
      "- train minibatches = 1\n",
      "- valid minibatches = 1\n",
      "- test minibatches = 1\n"
     ]
    },
    {
     "data": {
      "application/vnd.jupyter.widget-view+json": {
       "model_id": "6774a5ff9f824dce87fb7a13c01dd065",
       "version_major": 2,
       "version_minor": 0
      },
      "text/plain": [
       "Epochs loop:   0%|          | 0/10000 [00:00<?, ?it/s]"
      ]
     },
     "metadata": {},
     "output_type": "display_data"
    },
    {
     "name": "stdout",
     "output_type": "stream",
     "text": [
      "Summary:\n",
      "-learning rate = 0.00527\n",
      "-Model saved after iteration 10000.\n",
      "-Train.  Loss=0.0286758\n",
      "-Valid.  Loss=0.1910934\n",
      "'train_loss_bward_15.csv' saved.\n",
      "'valid_loss_bward_15.csv' saved.\n",
      "'model10_backward05_15_best.pth' saved.\n",
      "- train minibatches = 1\n",
      "- valid minibatches = 1\n",
      "- test minibatches = 1\n"
     ]
    },
    {
     "data": {
      "application/vnd.jupyter.widget-view+json": {
       "model_id": "dd60888b8fd1400c9c2dde2403f7b49d",
       "version_major": 2,
       "version_minor": 0
      },
      "text/plain": [
       "Epochs loop:   0%|          | 0/10000 [00:00<?, ?it/s]"
      ]
     },
     "metadata": {},
     "output_type": "display_data"
    },
    {
     "name": "stdout",
     "output_type": "stream",
     "text": [
      "Summary:\n",
      "-learning rate = 0.00527\n",
      "-Model saved after iteration 9569.\n",
      "-Train.  Loss=0.0059951\n",
      "-Valid.  Loss=0.1743391\n",
      "'train_loss_bward_16.csv' saved.\n",
      "'valid_loss_bward_16.csv' saved.\n",
      "'model10_backward05_16_best.pth' saved.\n",
      "- train minibatches = 1\n",
      "- valid minibatches = 1\n",
      "- test minibatches = 1\n"
     ]
    },
    {
     "data": {
      "application/vnd.jupyter.widget-view+json": {
       "model_id": "ac0e1b51fb9748099a7e6f12b44438b9",
       "version_major": 2,
       "version_minor": 0
      },
      "text/plain": [
       "Epochs loop:   0%|          | 0/10000 [00:00<?, ?it/s]"
      ]
     },
     "metadata": {},
     "output_type": "display_data"
    },
    {
     "name": "stdout",
     "output_type": "stream",
     "text": [
      "Summary:\n",
      "-learning rate = 0.00527\n",
      "-Model saved after iteration 684.\n",
      "-Train.  Loss=0.0062499\n",
      "-Valid.  Loss=0.0062821\n",
      "'train_loss_bward_17.csv' saved.\n",
      "'valid_loss_bward_17.csv' saved.\n",
      "'model10_backward05_17_best.pth' saved.\n",
      "- train minibatches = 1\n",
      "- valid minibatches = 1\n",
      "- test minibatches = 1\n"
     ]
    },
    {
     "data": {
      "application/vnd.jupyter.widget-view+json": {
       "model_id": "b8c6209a44cf43be9541aa301233f676",
       "version_major": 2,
       "version_minor": 0
      },
      "text/plain": [
       "Epochs loop:   0%|          | 0/10000 [00:00<?, ?it/s]"
      ]
     },
     "metadata": {},
     "output_type": "display_data"
    },
    {
     "name": "stdout",
     "output_type": "stream",
     "text": [
      "Summary:\n",
      "-learning rate = 0.00527\n",
      "-Model saved after iteration 9.\n",
      "-Train.  Loss=0.0206404\n",
      "-Valid.  Loss=0.0449508\n",
      "'train_loss_bward_18.csv' saved.\n",
      "'valid_loss_bward_18.csv' saved.\n",
      "'model10_backward05_18_best.pth' saved.\n",
      "- train minibatches = 1\n",
      "- valid minibatches = 1\n",
      "- test minibatches = 1\n"
     ]
    },
    {
     "data": {
      "application/vnd.jupyter.widget-view+json": {
       "model_id": "15c74eb87d7b4429ac855ae3c38a6691",
       "version_major": 2,
       "version_minor": 0
      },
      "text/plain": [
       "Epochs loop:   0%|          | 0/10000 [00:00<?, ?it/s]"
      ]
     },
     "metadata": {},
     "output_type": "display_data"
    },
    {
     "name": "stdout",
     "output_type": "stream",
     "text": [
      "Summary:\n",
      "-learning rate = 0.00527\n",
      "-Model saved after iteration 7554.\n",
      "-Train.  Loss=0.0000380\n",
      "-Valid.  Loss=0.0002805\n",
      "'train_loss_bward_19.csv' saved.\n",
      "'valid_loss_bward_19.csv' saved.\n",
      "'model10_backward05_19_best.pth' saved.\n",
      "- train minibatches = 1\n",
      "- valid minibatches = 1\n",
      "- test minibatches = 1\n"
     ]
    },
    {
     "data": {
      "application/vnd.jupyter.widget-view+json": {
       "model_id": "bf95b4f7385b458180f738fa3dd827cd",
       "version_major": 2,
       "version_minor": 0
      },
      "text/plain": [
       "Epochs loop:   0%|          | 0/10000 [00:00<?, ?it/s]"
      ]
     },
     "metadata": {},
     "output_type": "display_data"
    },
    {
     "name": "stdout",
     "output_type": "stream",
     "text": [
      "Summary:\n",
      "-learning rate = 0.00527\n",
      "-Model saved after iteration 10000.\n",
      "-Train.  Loss=0.0524242\n",
      "-Valid.  Loss=0.3637048\n",
      "'train_loss_bward_20.csv' saved.\n",
      "'valid_loss_bward_20.csv' saved.\n",
      "'model10_backward05_20_best.pth' saved.\n",
      "- train minibatches = 1\n",
      "- valid minibatches = 1\n",
      "- test minibatches = 1\n"
     ]
    },
    {
     "data": {
      "application/vnd.jupyter.widget-view+json": {
       "model_id": "248acb9fc45345728df561ffd9e5bb2d",
       "version_major": 2,
       "version_minor": 0
      },
      "text/plain": [
       "Epochs loop:   0%|          | 0/10000 [00:00<?, ?it/s]"
      ]
     },
     "metadata": {},
     "output_type": "display_data"
    },
    {
     "name": "stdout",
     "output_type": "stream",
     "text": [
      "Summary:\n",
      "-learning rate = 0.00527\n",
      "-Model saved after iteration 9332.\n",
      "-Train.  Loss=0.0019364\n",
      "-Valid.  Loss=0.0330896\n",
      "'train_loss_bward_21.csv' saved.\n",
      "'valid_loss_bward_21.csv' saved.\n",
      "'model10_backward05_21_best.pth' saved.\n",
      "- train minibatches = 1\n",
      "- valid minibatches = 1\n",
      "- test minibatches = 1\n"
     ]
    },
    {
     "data": {
      "application/vnd.jupyter.widget-view+json": {
       "model_id": "f07b62ddd4bb439a87ae2346fb39e1c5",
       "version_major": 2,
       "version_minor": 0
      },
      "text/plain": [
       "Epochs loop:   0%|          | 0/10000 [00:00<?, ?it/s]"
      ]
     },
     "metadata": {},
     "output_type": "display_data"
    },
    {
     "name": "stdout",
     "output_type": "stream",
     "text": [
      "Summary:\n",
      "-learning rate = 0.00527\n",
      "-Model saved after iteration 9528.\n",
      "-Train.  Loss=0.0025029\n",
      "-Valid.  Loss=0.2675730\n",
      "'train_loss_bward_22.csv' saved.\n",
      "'valid_loss_bward_22.csv' saved.\n",
      "'model10_backward05_22_best.pth' saved.\n",
      "- train minibatches = 1\n",
      "- valid minibatches = 1\n",
      "- test minibatches = 1\n"
     ]
    },
    {
     "data": {
      "application/vnd.jupyter.widget-view+json": {
       "model_id": "6f78ab78335841368b0f69111838237e",
       "version_major": 2,
       "version_minor": 0
      },
      "text/plain": [
       "Epochs loop:   0%|          | 0/10000 [00:00<?, ?it/s]"
      ]
     },
     "metadata": {},
     "output_type": "display_data"
    },
    {
     "name": "stdout",
     "output_type": "stream",
     "text": [
      "Summary:\n",
      "-learning rate = 0.00527\n",
      "-Model saved after iteration 4345.\n",
      "-Train.  Loss=0.0000000\n",
      "-Valid.  Loss=0.0000007\n",
      "'train_loss_bward_23.csv' saved.\n",
      "'valid_loss_bward_23.csv' saved.\n",
      "'model10_backward05_23_best.pth' saved.\n",
      "- train minibatches = 1\n",
      "- valid minibatches = 1\n",
      "- test minibatches = 1\n"
     ]
    },
    {
     "data": {
      "application/vnd.jupyter.widget-view+json": {
       "model_id": "634dc3369b4f47198aebee38807b2511",
       "version_major": 2,
       "version_minor": 0
      },
      "text/plain": [
       "Epochs loop:   0%|          | 0/10000 [00:00<?, ?it/s]"
      ]
     },
     "metadata": {},
     "output_type": "display_data"
    },
    {
     "name": "stdout",
     "output_type": "stream",
     "text": [
      "Summary:\n",
      "-learning rate = 0.00527\n",
      "-Model saved after iteration 10000.\n",
      "-Train.  Loss=0.0612846\n",
      "-Valid.  Loss=0.3284047\n",
      "'train_loss_bward_24.csv' saved.\n",
      "'valid_loss_bward_24.csv' saved.\n",
      "'model10_backward05_24_best.pth' saved.\n",
      "- train minibatches = 1\n",
      "- valid minibatches = 1\n",
      "- test minibatches = 1\n"
     ]
    },
    {
     "data": {
      "application/vnd.jupyter.widget-view+json": {
       "model_id": "667962068907490192550905cb18f380",
       "version_major": 2,
       "version_minor": 0
      },
      "text/plain": [
       "Epochs loop:   0%|          | 0/10000 [00:00<?, ?it/s]"
      ]
     },
     "metadata": {},
     "output_type": "display_data"
    },
    {
     "name": "stdout",
     "output_type": "stream",
     "text": [
      "Summary:\n",
      "-learning rate = 0.00527\n",
      "-Model saved after iteration 9746.\n",
      "-Train.  Loss=0.0217432\n",
      "-Valid.  Loss=0.1598987\n",
      "'train_loss_bward_25.csv' saved.\n",
      "'valid_loss_bward_25.csv' saved.\n",
      "'model10_backward05_25_best.pth' saved.\n",
      "- train minibatches = 1\n",
      "- valid minibatches = 1\n",
      "- test minibatches = 1\n"
     ]
    },
    {
     "data": {
      "application/vnd.jupyter.widget-view+json": {
       "model_id": "241f08f320ca43799e48131c4921e9d8",
       "version_major": 2,
       "version_minor": 0
      },
      "text/plain": [
       "Epochs loop:   0%|          | 0/10000 [00:00<?, ?it/s]"
      ]
     },
     "metadata": {},
     "output_type": "display_data"
    },
    {
     "name": "stdout",
     "output_type": "stream",
     "text": [
      "Summary:\n",
      "-learning rate = 0.00527\n",
      "-Model saved after iteration 333.\n",
      "-Train.  Loss=0.0059083\n",
      "-Valid.  Loss=0.0006354\n",
      "'train_loss_bward_26.csv' saved.\n",
      "'valid_loss_bward_26.csv' saved.\n",
      "'model10_backward05_26_best.pth' saved.\n",
      "- train minibatches = 1\n",
      "- valid minibatches = 1\n",
      "- test minibatches = 1\n"
     ]
    },
    {
     "data": {
      "application/vnd.jupyter.widget-view+json": {
       "model_id": "82b9c53e0572431d91fecd00bc74a23a",
       "version_major": 2,
       "version_minor": 0
      },
      "text/plain": [
       "Epochs loop:   0%|          | 0/10000 [00:00<?, ?it/s]"
      ]
     },
     "metadata": {},
     "output_type": "display_data"
    },
    {
     "name": "stdout",
     "output_type": "stream",
     "text": [
      "Summary:\n",
      "-learning rate = 0.00527\n",
      "-Model saved after iteration 9860.\n",
      "-Train.  Loss=0.0205582\n",
      "-Valid.  Loss=0.2159556\n",
      "'train_loss_bward_27.csv' saved.\n",
      "'valid_loss_bward_27.csv' saved.\n",
      "'model10_backward05_27_best.pth' saved.\n",
      "- train minibatches = 1\n",
      "- valid minibatches = 1\n",
      "- test minibatches = 1\n"
     ]
    },
    {
     "data": {
      "application/vnd.jupyter.widget-view+json": {
       "model_id": "e734b39b191e4a8ba033771f96c43443",
       "version_major": 2,
       "version_minor": 0
      },
      "text/plain": [
       "Epochs loop:   0%|          | 0/10000 [00:00<?, ?it/s]"
      ]
     },
     "metadata": {},
     "output_type": "display_data"
    },
    {
     "name": "stdout",
     "output_type": "stream",
     "text": [
      "Summary:\n",
      "-learning rate = 0.00527\n",
      "-Model saved after iteration 7652.\n",
      "-Train.  Loss=0.0021339\n",
      "-Valid.  Loss=0.0004078\n",
      "'train_loss_bward_28.csv' saved.\n",
      "'valid_loss_bward_28.csv' saved.\n",
      "'model10_backward05_28_best.pth' saved.\n",
      "- train minibatches = 1\n",
      "- valid minibatches = 1\n",
      "- test minibatches = 1\n"
     ]
    },
    {
     "data": {
      "application/vnd.jupyter.widget-view+json": {
       "model_id": "f7f9d8b704064418933f1c6f2d1c5c31",
       "version_major": 2,
       "version_minor": 0
      },
      "text/plain": [
       "Epochs loop:   0%|          | 0/10000 [00:00<?, ?it/s]"
      ]
     },
     "metadata": {},
     "output_type": "display_data"
    },
    {
     "name": "stdout",
     "output_type": "stream",
     "text": [
      "Summary:\n",
      "-learning rate = 0.00527\n",
      "-Model saved after iteration 3535.\n",
      "-Train.  Loss=0.0057661\n",
      "-Valid.  Loss=0.0412849\n",
      "'train_loss_bward_29.csv' saved.\n",
      "'valid_loss_bward_29.csv' saved.\n",
      "'model10_backward05_29_best.pth' saved.\n",
      "- train minibatches = 1\n",
      "- valid minibatches = 1\n",
      "- test minibatches = 1\n"
     ]
    },
    {
     "data": {
      "application/vnd.jupyter.widget-view+json": {
       "model_id": "dccf49c341a7492babb1f09f17bd274c",
       "version_major": 2,
       "version_minor": 0
      },
      "text/plain": [
       "Epochs loop:   0%|          | 0/10000 [00:00<?, ?it/s]"
      ]
     },
     "metadata": {},
     "output_type": "display_data"
    },
    {
     "name": "stdout",
     "output_type": "stream",
     "text": [
      "Summary:\n",
      "-learning rate = 0.00527\n",
      "-Model saved after iteration 9739.\n",
      "-Train.  Loss=0.0212212\n",
      "-Valid.  Loss=0.2166849\n",
      "'train_loss_bward_30.csv' saved.\n",
      "'valid_loss_bward_30.csv' saved.\n",
      "'model10_backward05_30_best.pth' saved.\n",
      "- train minibatches = 1\n",
      "- valid minibatches = 1\n",
      "- test minibatches = 1\n"
     ]
    },
    {
     "data": {
      "application/vnd.jupyter.widget-view+json": {
       "model_id": "cbc416872e7d40e290507d8c363bb2a2",
       "version_major": 2,
       "version_minor": 0
      },
      "text/plain": [
       "Epochs loop:   0%|          | 0/10000 [00:00<?, ?it/s]"
      ]
     },
     "metadata": {},
     "output_type": "display_data"
    },
    {
     "name": "stdout",
     "output_type": "stream",
     "text": [
      "Summary:\n",
      "-learning rate = 0.00527\n",
      "-Model saved after iteration 9686.\n",
      "-Train.  Loss=0.0122182\n",
      "-Valid.  Loss=0.1558445\n",
      "'train_loss_bward_31.csv' saved.\n",
      "'valid_loss_bward_31.csv' saved.\n",
      "'model10_backward05_31_best.pth' saved.\n",
      "- train minibatches = 1\n",
      "- valid minibatches = 1\n",
      "- test minibatches = 1\n"
     ]
    },
    {
     "data": {
      "application/vnd.jupyter.widget-view+json": {
       "model_id": "b91598b956a347b196109abd850e8198",
       "version_major": 2,
       "version_minor": 0
      },
      "text/plain": [
       "Epochs loop:   0%|          | 0/10000 [00:00<?, ?it/s]"
      ]
     },
     "metadata": {},
     "output_type": "display_data"
    },
    {
     "name": "stdout",
     "output_type": "stream",
     "text": [
      "Summary:\n",
      "-learning rate = 0.00527\n",
      "-Model saved after iteration 7150.\n",
      "-Train.  Loss=0.0081037\n",
      "-Valid.  Loss=0.0018988\n",
      "'train_loss_bward_32.csv' saved.\n",
      "'valid_loss_bward_32.csv' saved.\n",
      "'model10_backward05_32_best.pth' saved.\n",
      "- train minibatches = 1\n",
      "- valid minibatches = 1\n",
      "- test minibatches = 1\n"
     ]
    },
    {
     "data": {
      "application/vnd.jupyter.widget-view+json": {
       "model_id": "77c2f86c39f246efa08575a70475a7dc",
       "version_major": 2,
       "version_minor": 0
      },
      "text/plain": [
       "Epochs loop:   0%|          | 0/10000 [00:00<?, ?it/s]"
      ]
     },
     "metadata": {},
     "output_type": "display_data"
    },
    {
     "name": "stdout",
     "output_type": "stream",
     "text": [
      "Summary:\n",
      "-learning rate = 0.00527\n",
      "-Model saved after iteration 585.\n",
      "-Train.  Loss=0.0544512\n",
      "-Valid.  Loss=0.0000000\n",
      "'train_loss_bward_33.csv' saved.\n",
      "'valid_loss_bward_33.csv' saved.\n",
      "'model10_backward05_33_best.pth' saved.\n",
      "- train minibatches = 1\n",
      "- valid minibatches = 1\n",
      "- test minibatches = 1\n"
     ]
    },
    {
     "data": {
      "application/vnd.jupyter.widget-view+json": {
       "model_id": "222e354bc8c64fcdb0dc5bb0d085e820",
       "version_major": 2,
       "version_minor": 0
      },
      "text/plain": [
       "Epochs loop:   0%|          | 0/10000 [00:00<?, ?it/s]"
      ]
     },
     "metadata": {},
     "output_type": "display_data"
    },
    {
     "name": "stdout",
     "output_type": "stream",
     "text": [
      "Summary:\n",
      "-learning rate = 0.00527\n",
      "-Model saved after iteration 24.\n",
      "-Train.  Loss=0.0139678\n",
      "-Valid.  Loss=0.0003505\n",
      "'train_loss_bward_34.csv' saved.\n",
      "'valid_loss_bward_34.csv' saved.\n",
      "'model10_backward05_34_best.pth' saved.\n",
      "- train minibatches = 1\n",
      "- valid minibatches = 1\n",
      "- test minibatches = 1\n"
     ]
    },
    {
     "data": {
      "application/vnd.jupyter.widget-view+json": {
       "model_id": "20dd77dbc8a2450c9cf9f8efdf9542a7",
       "version_major": 2,
       "version_minor": 0
      },
      "text/plain": [
       "Epochs loop:   0%|          | 0/10000 [00:00<?, ?it/s]"
      ]
     },
     "metadata": {},
     "output_type": "display_data"
    },
    {
     "name": "stdout",
     "output_type": "stream",
     "text": [
      "Summary:\n",
      "-learning rate = 0.00527\n",
      "-Model saved after iteration 9486.\n",
      "-Train.  Loss=0.0033267\n",
      "-Valid.  Loss=0.0574115\n",
      "'train_loss_bward_35.csv' saved.\n",
      "'valid_loss_bward_35.csv' saved.\n",
      "'model10_backward05_35_best.pth' saved.\n",
      "- train minibatches = 1\n",
      "- valid minibatches = 1\n",
      "- test minibatches = 1\n"
     ]
    },
    {
     "data": {
      "application/vnd.jupyter.widget-view+json": {
       "model_id": "1b6ea941699e458a98490f1678030501",
       "version_major": 2,
       "version_minor": 0
      },
      "text/plain": [
       "Epochs loop:   0%|          | 0/10000 [00:00<?, ?it/s]"
      ]
     },
     "metadata": {},
     "output_type": "display_data"
    },
    {
     "name": "stdout",
     "output_type": "stream",
     "text": [
      "Summary:\n",
      "-learning rate = 0.00527\n",
      "-Model saved after iteration 252.\n",
      "-Train.  Loss=0.0000001\n",
      "-Valid.  Loss=0.0000003\n",
      "'train_loss_bward_36.csv' saved.\n",
      "'valid_loss_bward_36.csv' saved.\n",
      "'model10_backward05_36_best.pth' saved.\n",
      "- train minibatches = 1\n",
      "- valid minibatches = 1\n",
      "- test minibatches = 1\n"
     ]
    },
    {
     "data": {
      "application/vnd.jupyter.widget-view+json": {
       "model_id": "7fad30ae27de4157a9d5a5b0f7be58ff",
       "version_major": 2,
       "version_minor": 0
      },
      "text/plain": [
       "Epochs loop:   0%|          | 0/10000 [00:00<?, ?it/s]"
      ]
     },
     "metadata": {},
     "output_type": "display_data"
    },
    {
     "name": "stdout",
     "output_type": "stream",
     "text": [
      "Summary:\n",
      "-learning rate = 0.00527\n",
      "-Model saved after iteration 10000.\n",
      "-Train.  Loss=0.0206452\n",
      "-Valid.  Loss=0.3621814\n",
      "'train_loss_bward_37.csv' saved.\n",
      "'valid_loss_bward_37.csv' saved.\n",
      "'model10_backward05_37_best.pth' saved.\n",
      "- train minibatches = 1\n",
      "- valid minibatches = 1\n",
      "- test minibatches = 1\n"
     ]
    },
    {
     "data": {
      "application/vnd.jupyter.widget-view+json": {
       "model_id": "59b65a6098a74eedb4d0407141d29b56",
       "version_major": 2,
       "version_minor": 0
      },
      "text/plain": [
       "Epochs loop:   0%|          | 0/10000 [00:00<?, ?it/s]"
      ]
     },
     "metadata": {},
     "output_type": "display_data"
    },
    {
     "name": "stdout",
     "output_type": "stream",
     "text": [
      "Summary:\n",
      "-learning rate = 0.00527\n",
      "-Model saved after iteration 59.\n",
      "-Train.  Loss=0.0116776\n",
      "-Valid.  Loss=0.0000000\n",
      "'train_loss_bward_38.csv' saved.\n",
      "'valid_loss_bward_38.csv' saved.\n",
      "'model10_backward05_38_best.pth' saved.\n",
      "- train minibatches = 1\n",
      "- valid minibatches = 1\n",
      "- test minibatches = 1\n"
     ]
    },
    {
     "data": {
      "application/vnd.jupyter.widget-view+json": {
       "model_id": "a822a7ac5f5249f7a2d77aadd573145c",
       "version_major": 2,
       "version_minor": 0
      },
      "text/plain": [
       "Epochs loop:   0%|          | 0/10000 [00:00<?, ?it/s]"
      ]
     },
     "metadata": {},
     "output_type": "display_data"
    },
    {
     "name": "stdout",
     "output_type": "stream",
     "text": [
      "Summary:\n",
      "-learning rate = 0.00527\n",
      "-Model saved after iteration 10000.\n",
      "-Train.  Loss=0.0093906\n",
      "-Valid.  Loss=0.1593818\n",
      "'train_loss_bward_39.csv' saved.\n",
      "'valid_loss_bward_39.csv' saved.\n",
      "'model10_backward05_39_best.pth' saved.\n",
      "- train minibatches = 1\n",
      "- valid minibatches = 1\n",
      "- test minibatches = 1\n"
     ]
    },
    {
     "data": {
      "application/vnd.jupyter.widget-view+json": {
       "model_id": "cbcbbaa6bd4d427b8c1c9607e3afada2",
       "version_major": 2,
       "version_minor": 0
      },
      "text/plain": [
       "Epochs loop:   0%|          | 0/10000 [00:00<?, ?it/s]"
      ]
     },
     "metadata": {},
     "output_type": "display_data"
    },
    {
     "name": "stdout",
     "output_type": "stream",
     "text": [
      "Summary:\n",
      "-learning rate = 0.00527\n",
      "-Model saved after iteration 9718.\n",
      "-Train.  Loss=0.0118240\n",
      "-Valid.  Loss=0.1030002\n",
      "'train_loss_bward_40.csv' saved.\n",
      "'valid_loss_bward_40.csv' saved.\n",
      "'model10_backward05_40_best.pth' saved.\n",
      "- train minibatches = 1\n",
      "- valid minibatches = 1\n",
      "- test minibatches = 1\n"
     ]
    },
    {
     "data": {
      "application/vnd.jupyter.widget-view+json": {
       "model_id": "98f5a874972247abaf9055ef1d6936b4",
       "version_major": 2,
       "version_minor": 0
      },
      "text/plain": [
       "Epochs loop:   0%|          | 0/10000 [00:00<?, ?it/s]"
      ]
     },
     "metadata": {},
     "output_type": "display_data"
    },
    {
     "name": "stdout",
     "output_type": "stream",
     "text": [
      "Summary:\n",
      "-learning rate = 0.00527\n",
      "-Model saved after iteration 6211.\n",
      "-Train.  Loss=0.0024906\n",
      "-Valid.  Loss=0.0000002\n",
      "'train_loss_bward_41.csv' saved.\n",
      "'valid_loss_bward_41.csv' saved.\n",
      "'model10_backward05_41_best.pth' saved.\n",
      "- train minibatches = 1\n",
      "- valid minibatches = 1\n",
      "- test minibatches = 1\n"
     ]
    },
    {
     "data": {
      "application/vnd.jupyter.widget-view+json": {
       "model_id": "5d8c1ff4d7814f23983a5cf6f83c4918",
       "version_major": 2,
       "version_minor": 0
      },
      "text/plain": [
       "Epochs loop:   0%|          | 0/10000 [00:00<?, ?it/s]"
      ]
     },
     "metadata": {},
     "output_type": "display_data"
    },
    {
     "name": "stdout",
     "output_type": "stream",
     "text": [
      "Summary:\n",
      "-learning rate = 0.00527\n",
      "-Model saved after iteration 1635.\n",
      "-Train.  Loss=0.0110829\n",
      "-Valid.  Loss=0.1060515\n",
      "'train_loss_bward_42.csv' saved.\n",
      "'valid_loss_bward_42.csv' saved.\n",
      "'model10_backward05_42_best.pth' saved.\n",
      "- train minibatches = 1\n",
      "- valid minibatches = 1\n",
      "- test minibatches = 1\n"
     ]
    },
    {
     "data": {
      "application/vnd.jupyter.widget-view+json": {
       "model_id": "ee3e12c67e4b4c6d83e0a30e46f4b6bd",
       "version_major": 2,
       "version_minor": 0
      },
      "text/plain": [
       "Epochs loop:   0%|          | 0/10000 [00:00<?, ?it/s]"
      ]
     },
     "metadata": {},
     "output_type": "display_data"
    },
    {
     "name": "stdout",
     "output_type": "stream",
     "text": [
      "Summary:\n",
      "-learning rate = 0.00527\n",
      "-Model saved after iteration 5283.\n",
      "-Train.  Loss=0.0000002\n",
      "-Valid.  Loss=0.0000025\n",
      "'train_loss_bward_43.csv' saved.\n",
      "'valid_loss_bward_43.csv' saved.\n",
      "'model10_backward05_43_best.pth' saved.\n",
      "- train minibatches = 1\n",
      "- valid minibatches = 1\n",
      "- test minibatches = 1\n"
     ]
    },
    {
     "data": {
      "application/vnd.jupyter.widget-view+json": {
       "model_id": "541df16820ef4bfca15a490534797fe1",
       "version_major": 2,
       "version_minor": 0
      },
      "text/plain": [
       "Epochs loop:   0%|          | 0/10000 [00:00<?, ?it/s]"
      ]
     },
     "metadata": {},
     "output_type": "display_data"
    },
    {
     "name": "stdout",
     "output_type": "stream",
     "text": [
      "Summary:\n",
      "-learning rate = 0.00527\n",
      "-Model saved after iteration 9619.\n",
      "-Train.  Loss=0.0149161\n",
      "-Valid.  Loss=0.2084972\n",
      "'train_loss_bward_44.csv' saved.\n",
      "'valid_loss_bward_44.csv' saved.\n",
      "'model10_backward05_44_best.pth' saved.\n",
      "- train minibatches = 1\n",
      "- valid minibatches = 1\n",
      "- test minibatches = 1\n"
     ]
    },
    {
     "data": {
      "application/vnd.jupyter.widget-view+json": {
       "model_id": "1573d3b7de0a4043ab848ada1646ee30",
       "version_major": 2,
       "version_minor": 0
      },
      "text/plain": [
       "Epochs loop:   0%|          | 0/10000 [00:00<?, ?it/s]"
      ]
     },
     "metadata": {},
     "output_type": "display_data"
    },
    {
     "name": "stdout",
     "output_type": "stream",
     "text": [
      "Summary:\n",
      "-learning rate = 0.00527\n",
      "-Model saved after iteration 18.\n",
      "-Train.  Loss=0.0000000\n",
      "-Valid.  Loss=0.0003755\n",
      "'train_loss_bward_45.csv' saved.\n",
      "'valid_loss_bward_45.csv' saved.\n",
      "'model10_backward05_45_best.pth' saved.\n",
      "- train minibatches = 1\n",
      "- valid minibatches = 1\n",
      "- test minibatches = 1\n"
     ]
    },
    {
     "data": {
      "application/vnd.jupyter.widget-view+json": {
       "model_id": "3fe14ca412904b2db21d12a483b4d0f4",
       "version_major": 2,
       "version_minor": 0
      },
      "text/plain": [
       "Epochs loop:   0%|          | 0/10000 [00:00<?, ?it/s]"
      ]
     },
     "metadata": {},
     "output_type": "display_data"
    },
    {
     "name": "stdout",
     "output_type": "stream",
     "text": [
      "Summary:\n",
      "-learning rate = 0.00527\n",
      "-Model saved after iteration 9795.\n",
      "-Train.  Loss=0.0417600\n",
      "-Valid.  Loss=0.3857669\n",
      "'train_loss_bward_46.csv' saved.\n",
      "'valid_loss_bward_46.csv' saved.\n",
      "'model10_backward05_46_best.pth' saved.\n",
      "- train minibatches = 1\n",
      "- valid minibatches = 1\n",
      "- test minibatches = 1\n"
     ]
    },
    {
     "data": {
      "application/vnd.jupyter.widget-view+json": {
       "model_id": "faaeaa9c0306491991a7c22051702507",
       "version_major": 2,
       "version_minor": 0
      },
      "text/plain": [
       "Epochs loop:   0%|          | 0/10000 [00:00<?, ?it/s]"
      ]
     },
     "metadata": {},
     "output_type": "display_data"
    },
    {
     "name": "stdout",
     "output_type": "stream",
     "text": [
      "Summary:\n",
      "-learning rate = 0.00527\n",
      "-Model saved after iteration 94.\n",
      "-Train.  Loss=0.0106393\n",
      "-Valid.  Loss=0.0000000\n",
      "'train_loss_bward_47.csv' saved.\n",
      "'valid_loss_bward_47.csv' saved.\n",
      "'model10_backward05_47_best.pth' saved.\n",
      "- train minibatches = 1\n",
      "- valid minibatches = 1\n",
      "- test minibatches = 1\n"
     ]
    },
    {
     "data": {
      "application/vnd.jupyter.widget-view+json": {
       "model_id": "5e705b9c2d6340e0813a21645093547b",
       "version_major": 2,
       "version_minor": 0
      },
      "text/plain": [
       "Epochs loop:   0%|          | 0/10000 [00:00<?, ?it/s]"
      ]
     },
     "metadata": {},
     "output_type": "display_data"
    },
    {
     "name": "stdout",
     "output_type": "stream",
     "text": [
      "Summary:\n",
      "-learning rate = 0.00527\n",
      "-Model saved after iteration 10000.\n",
      "-Train.  Loss=0.0617044\n",
      "-Valid.  Loss=0.3083812\n",
      "'train_loss_bward_48.csv' saved.\n",
      "'valid_loss_bward_48.csv' saved.\n",
      "'model10_backward05_48_best.pth' saved.\n",
      "- train minibatches = 1\n",
      "- valid minibatches = 1\n",
      "- test minibatches = 1\n"
     ]
    },
    {
     "data": {
      "application/vnd.jupyter.widget-view+json": {
       "model_id": "de1c7e6e7df7462aa105ae6c121ba5ed",
       "version_major": 2,
       "version_minor": 0
      },
      "text/plain": [
       "Epochs loop:   0%|          | 0/10000 [00:00<?, ?it/s]"
      ]
     },
     "metadata": {},
     "output_type": "display_data"
    },
    {
     "name": "stdout",
     "output_type": "stream",
     "text": [
      "Summary:\n",
      "-learning rate = 0.00527\n",
      "-Model saved after iteration 178.\n",
      "-Train.  Loss=0.0000001\n",
      "-Valid.  Loss=0.0000000\n",
      "'train_loss_bward_49.csv' saved.\n",
      "'valid_loss_bward_49.csv' saved.\n",
      "'model10_backward05_49_best.pth' saved.\n",
      "- train minibatches = 1\n",
      "- valid minibatches = 1\n",
      "- test minibatches = 1\n"
     ]
    },
    {
     "data": {
      "application/vnd.jupyter.widget-view+json": {
       "model_id": "821d1aa386994374b2944c32f98547b7",
       "version_major": 2,
       "version_minor": 0
      },
      "text/plain": [
       "Epochs loop:   0%|          | 0/10000 [00:00<?, ?it/s]"
      ]
     },
     "metadata": {},
     "output_type": "display_data"
    },
    {
     "name": "stdout",
     "output_type": "stream",
     "text": [
      "Summary:\n",
      "-learning rate = 0.00527\n",
      "-Model saved after iteration 10000.\n",
      "-Train.  Loss=0.0319510\n",
      "-Valid.  Loss=0.2364768\n",
      "'train_loss_bward_50.csv' saved.\n",
      "'valid_loss_bward_50.csv' saved.\n",
      "'model10_backward05_50_best.pth' saved.\n",
      "- train minibatches = 1\n",
      "- valid minibatches = 1\n",
      "- test minibatches = 1\n"
     ]
    },
    {
     "data": {
      "application/vnd.jupyter.widget-view+json": {
       "model_id": "2b694b0d781a4b0e890bc82ab0359a69",
       "version_major": 2,
       "version_minor": 0
      },
      "text/plain": [
       "Epochs loop:   0%|          | 0/10000 [00:00<?, ?it/s]"
      ]
     },
     "metadata": {},
     "output_type": "display_data"
    },
    {
     "name": "stdout",
     "output_type": "stream",
     "text": [
      "Summary:\n",
      "-learning rate = 0.00527\n",
      "-Model saved after iteration 149.\n",
      "-Train.  Loss=0.0000003\n",
      "-Valid.  Loss=0.0000002\n",
      "'train_loss_bward_51.csv' saved.\n",
      "'valid_loss_bward_51.csv' saved.\n",
      "'model10_backward05_51_best.pth' saved.\n",
      "- train minibatches = 1\n",
      "- valid minibatches = 1\n",
      "- test minibatches = 1\n"
     ]
    },
    {
     "data": {
      "application/vnd.jupyter.widget-view+json": {
       "model_id": "bb58f0f102ed49a384f01900b7bfce8f",
       "version_major": 2,
       "version_minor": 0
      },
      "text/plain": [
       "Epochs loop:   0%|          | 0/10000 [00:00<?, ?it/s]"
      ]
     },
     "metadata": {},
     "output_type": "display_data"
    },
    {
     "name": "stdout",
     "output_type": "stream",
     "text": [
      "Summary:\n",
      "-learning rate = 0.00527\n",
      "-Model saved after iteration 21.\n",
      "-Train.  Loss=0.0248364\n",
      "-Valid.  Loss=0.0000110\n",
      "'train_loss_bward_52.csv' saved.\n",
      "'valid_loss_bward_52.csv' saved.\n",
      "'model10_backward05_52_best.pth' saved.\n",
      "- train minibatches = 1\n",
      "- valid minibatches = 1\n",
      "- test minibatches = 1\n"
     ]
    },
    {
     "data": {
      "application/vnd.jupyter.widget-view+json": {
       "model_id": "afd763295b9742b3a6a1658a59ea51c6",
       "version_major": 2,
       "version_minor": 0
      },
      "text/plain": [
       "Epochs loop:   0%|          | 0/10000 [00:00<?, ?it/s]"
      ]
     },
     "metadata": {},
     "output_type": "display_data"
    },
    {
     "name": "stdout",
     "output_type": "stream",
     "text": [
      "Summary:\n",
      "-learning rate = 0.00527\n",
      "-Model saved after iteration 1636.\n",
      "-Train.  Loss=0.0000000\n",
      "-Valid.  Loss=0.0541061\n",
      "'train_loss_bward_53.csv' saved.\n",
      "'valid_loss_bward_53.csv' saved.\n",
      "'model10_backward05_53_best.pth' saved.\n",
      "- train minibatches = 1\n",
      "- valid minibatches = 1\n",
      "- test minibatches = 1\n"
     ]
    },
    {
     "data": {
      "application/vnd.jupyter.widget-view+json": {
       "model_id": "dd34fc6b862b41928d8001646466f318",
       "version_major": 2,
       "version_minor": 0
      },
      "text/plain": [
       "Epochs loop:   0%|          | 0/10000 [00:00<?, ?it/s]"
      ]
     },
     "metadata": {},
     "output_type": "display_data"
    },
    {
     "name": "stdout",
     "output_type": "stream",
     "text": [
      "Summary:\n",
      "-learning rate = 0.00527\n",
      "-Model saved after iteration 7018.\n",
      "-Train.  Loss=0.0000023\n",
      "-Valid.  Loss=0.0101782\n",
      "'train_loss_bward_54.csv' saved.\n",
      "'valid_loss_bward_54.csv' saved.\n",
      "'model10_backward05_54_best.pth' saved.\n",
      "- train minibatches = 1\n",
      "- valid minibatches = 1\n",
      "- test minibatches = 1\n"
     ]
    },
    {
     "data": {
      "application/vnd.jupyter.widget-view+json": {
       "model_id": "3d46433f9fd342f4bdfd98de1ef3668b",
       "version_major": 2,
       "version_minor": 0
      },
      "text/plain": [
       "Epochs loop:   0%|          | 0/10000 [00:00<?, ?it/s]"
      ]
     },
     "metadata": {},
     "output_type": "display_data"
    },
    {
     "name": "stdout",
     "output_type": "stream",
     "text": [
      "Summary:\n",
      "-learning rate = 0.00527\n",
      "-Model saved after iteration 9770.\n",
      "-Train.  Loss=0.0230392\n",
      "-Valid.  Loss=0.1935823\n",
      "'train_loss_bward_55.csv' saved.\n",
      "'valid_loss_bward_55.csv' saved.\n",
      "'model10_backward05_55_best.pth' saved.\n",
      "- train minibatches = 1\n",
      "- valid minibatches = 1\n",
      "- test minibatches = 1\n"
     ]
    },
    {
     "data": {
      "application/vnd.jupyter.widget-view+json": {
       "model_id": "665268c0661b48359645f727ef0b6940",
       "version_major": 2,
       "version_minor": 0
      },
      "text/plain": [
       "Epochs loop:   0%|          | 0/10000 [00:00<?, ?it/s]"
      ]
     },
     "metadata": {},
     "output_type": "display_data"
    },
    {
     "name": "stdout",
     "output_type": "stream",
     "text": [
      "Summary:\n",
      "-learning rate = 0.00527\n",
      "-Model saved after iteration 9422.\n",
      "-Train.  Loss=0.0109536\n",
      "-Valid.  Loss=0.1142812\n",
      "'train_loss_bward_56.csv' saved.\n",
      "'valid_loss_bward_56.csv' saved.\n",
      "'model10_backward05_56_best.pth' saved.\n",
      "- train minibatches = 1\n",
      "- valid minibatches = 1\n",
      "- test minibatches = 1\n"
     ]
    },
    {
     "data": {
      "application/vnd.jupyter.widget-view+json": {
       "model_id": "c37e7893ccf74d119fa02d5b3efb07ed",
       "version_major": 2,
       "version_minor": 0
      },
      "text/plain": [
       "Epochs loop:   0%|          | 0/10000 [00:00<?, ?it/s]"
      ]
     },
     "metadata": {},
     "output_type": "display_data"
    },
    {
     "name": "stdout",
     "output_type": "stream",
     "text": [
      "Summary:\n",
      "-learning rate = 0.00527\n",
      "-Model saved after iteration 9764.\n",
      "-Train.  Loss=0.0411442\n",
      "-Valid.  Loss=0.2144899\n",
      "'train_loss_bward_57.csv' saved.\n",
      "'valid_loss_bward_57.csv' saved.\n",
      "'model10_backward05_57_best.pth' saved.\n",
      "- train minibatches = 1\n",
      "- valid minibatches = 1\n",
      "- test minibatches = 1\n"
     ]
    },
    {
     "data": {
      "application/vnd.jupyter.widget-view+json": {
       "model_id": "4dac8d7ae64d43f4b5535968b02f3ea0",
       "version_major": 2,
       "version_minor": 0
      },
      "text/plain": [
       "Epochs loop:   0%|          | 0/10000 [00:00<?, ?it/s]"
      ]
     },
     "metadata": {},
     "output_type": "display_data"
    },
    {
     "name": "stdout",
     "output_type": "stream",
     "text": [
      "Summary:\n",
      "-learning rate = 0.00527\n",
      "-Model saved after iteration 9822.\n",
      "-Train.  Loss=0.0855567\n",
      "-Valid.  Loss=0.2869042\n",
      "'train_loss_bward_58.csv' saved.\n",
      "'valid_loss_bward_58.csv' saved.\n",
      "'model10_backward05_58_best.pth' saved.\n",
      "- train minibatches = 1\n",
      "- valid minibatches = 1\n",
      "- test minibatches = 1\n"
     ]
    },
    {
     "data": {
      "application/vnd.jupyter.widget-view+json": {
       "model_id": "d1b3ef2842a542ab9018450e18450036",
       "version_major": 2,
       "version_minor": 0
      },
      "text/plain": [
       "Epochs loop:   0%|          | 0/10000 [00:00<?, ?it/s]"
      ]
     },
     "metadata": {},
     "output_type": "display_data"
    },
    {
     "name": "stdout",
     "output_type": "stream",
     "text": [
      "Summary:\n",
      "-learning rate = 0.00527\n",
      "-Model saved after iteration 9652.\n",
      "-Train.  Loss=0.0149372\n",
      "-Valid.  Loss=0.3896332\n",
      "'train_loss_bward_59.csv' saved.\n",
      "'valid_loss_bward_59.csv' saved.\n",
      "'model10_backward05_59_best.pth' saved.\n",
      "- train minibatches = 1\n",
      "- valid minibatches = 1\n",
      "- test minibatches = 1\n"
     ]
    },
    {
     "data": {
      "application/vnd.jupyter.widget-view+json": {
       "model_id": "6fcd484c1a854de398853fde5045ea73",
       "version_major": 2,
       "version_minor": 0
      },
      "text/plain": [
       "Epochs loop:   0%|          | 0/10000 [00:00<?, ?it/s]"
      ]
     },
     "metadata": {},
     "output_type": "display_data"
    },
    {
     "name": "stdout",
     "output_type": "stream",
     "text": [
      "Summary:\n",
      "-learning rate = 0.00527\n",
      "-Model saved after iteration 8773.\n",
      "-Train.  Loss=0.0000337\n",
      "-Valid.  Loss=0.1171534\n",
      "'train_loss_bward_60.csv' saved.\n",
      "'valid_loss_bward_60.csv' saved.\n",
      "'model10_backward05_60_best.pth' saved.\n",
      "- train minibatches = 1\n",
      "- valid minibatches = 1\n",
      "- test minibatches = 1\n"
     ]
    },
    {
     "data": {
      "application/vnd.jupyter.widget-view+json": {
       "model_id": "3c6f23ec48e14bcc837bf2a5d7aa62ae",
       "version_major": 2,
       "version_minor": 0
      },
      "text/plain": [
       "Epochs loop:   0%|          | 0/10000 [00:00<?, ?it/s]"
      ]
     },
     "metadata": {},
     "output_type": "display_data"
    },
    {
     "name": "stdout",
     "output_type": "stream",
     "text": [
      "Summary:\n",
      "-learning rate = 0.00527\n",
      "-Model saved after iteration 9938.\n",
      "-Train.  Loss=0.1152921\n",
      "-Valid.  Loss=0.2721414\n",
      "'train_loss_bward_61.csv' saved.\n",
      "'valid_loss_bward_61.csv' saved.\n",
      "'model10_backward05_61_best.pth' saved.\n",
      "- train minibatches = 1\n",
      "- valid minibatches = 1\n",
      "- test minibatches = 1\n"
     ]
    },
    {
     "data": {
      "application/vnd.jupyter.widget-view+json": {
       "model_id": "b4fb360ca2d54f00bb1ed693a2991524",
       "version_major": 2,
       "version_minor": 0
      },
      "text/plain": [
       "Epochs loop:   0%|          | 0/10000 [00:00<?, ?it/s]"
      ]
     },
     "metadata": {},
     "output_type": "display_data"
    },
    {
     "name": "stdout",
     "output_type": "stream",
     "text": [
      "Summary:\n",
      "-learning rate = 0.00527\n",
      "-Model saved after iteration 9866.\n",
      "-Train.  Loss=0.0568933\n",
      "-Valid.  Loss=0.2306753\n",
      "'train_loss_bward_62.csv' saved.\n",
      "'valid_loss_bward_62.csv' saved.\n",
      "'model10_backward05_62_best.pth' saved.\n",
      "- train minibatches = 1\n",
      "- valid minibatches = 1\n",
      "- test minibatches = 1\n"
     ]
    },
    {
     "data": {
      "application/vnd.jupyter.widget-view+json": {
       "model_id": "5b1a21064e4045b4ab450117867e6b11",
       "version_major": 2,
       "version_minor": 0
      },
      "text/plain": [
       "Epochs loop:   0%|          | 0/10000 [00:00<?, ?it/s]"
      ]
     },
     "metadata": {},
     "output_type": "display_data"
    },
    {
     "name": "stdout",
     "output_type": "stream",
     "text": [
      "Summary:\n",
      "-learning rate = 0.00527\n",
      "-Model saved after iteration 9618.\n",
      "-Train.  Loss=0.0144284\n",
      "-Valid.  Loss=0.1509123\n",
      "'train_loss_bward_63.csv' saved.\n",
      "'valid_loss_bward_63.csv' saved.\n",
      "'model10_backward05_63_best.pth' saved.\n",
      "- train minibatches = 1\n",
      "- valid minibatches = 1\n",
      "- test minibatches = 1\n"
     ]
    },
    {
     "data": {
      "application/vnd.jupyter.widget-view+json": {
       "model_id": "6c36f7fc2131458083e679599b97a66d",
       "version_major": 2,
       "version_minor": 0
      },
      "text/plain": [
       "Epochs loop:   0%|          | 0/10000 [00:00<?, ?it/s]"
      ]
     },
     "metadata": {},
     "output_type": "display_data"
    },
    {
     "name": "stdout",
     "output_type": "stream",
     "text": [
      "Summary:\n",
      "-learning rate = 0.00527\n",
      "-Model saved after iteration 9558.\n",
      "-Train.  Loss=0.0105071\n",
      "-Valid.  Loss=0.1540533\n",
      "'train_loss_bward_64.csv' saved.\n",
      "'valid_loss_bward_64.csv' saved.\n",
      "'model10_backward05_64_best.pth' saved.\n",
      "- train minibatches = 1\n",
      "- valid minibatches = 1\n",
      "- test minibatches = 1\n"
     ]
    },
    {
     "data": {
      "application/vnd.jupyter.widget-view+json": {
       "model_id": "24ce4b2729774ee7b8720589b4b66880",
       "version_major": 2,
       "version_minor": 0
      },
      "text/plain": [
       "Epochs loop:   0%|          | 0/10000 [00:00<?, ?it/s]"
      ]
     },
     "metadata": {},
     "output_type": "display_data"
    },
    {
     "name": "stdout",
     "output_type": "stream",
     "text": [
      "Summary:\n",
      "-learning rate = 0.00527\n",
      "-Model saved after iteration 9688.\n",
      "-Train.  Loss=0.0109334\n",
      "-Valid.  Loss=0.1383391\n",
      "'train_loss_bward_65.csv' saved.\n",
      "'valid_loss_bward_65.csv' saved.\n",
      "'model10_backward05_65_best.pth' saved.\n",
      "- train minibatches = 1\n",
      "- valid minibatches = 1\n",
      "- test minibatches = 1\n"
     ]
    },
    {
     "data": {
      "application/vnd.jupyter.widget-view+json": {
       "model_id": "f4e154dbdbd14bdeae7a89dcb6aefcd2",
       "version_major": 2,
       "version_minor": 0
      },
      "text/plain": [
       "Epochs loop:   0%|          | 0/10000 [00:00<?, ?it/s]"
      ]
     },
     "metadata": {},
     "output_type": "display_data"
    },
    {
     "name": "stdout",
     "output_type": "stream",
     "text": [
      "Summary:\n",
      "-learning rate = 0.00527\n",
      "-Model saved after iteration 9862.\n",
      "-Train.  Loss=0.0561495\n",
      "-Valid.  Loss=0.1912341\n",
      "'train_loss_bward_66.csv' saved.\n",
      "'valid_loss_bward_66.csv' saved.\n",
      "'model10_backward05_66_best.pth' saved.\n",
      "- train minibatches = 1\n",
      "- valid minibatches = 1\n",
      "- test minibatches = 1\n"
     ]
    },
    {
     "data": {
      "application/vnd.jupyter.widget-view+json": {
       "model_id": "97124071806847b88221c3ef99908756",
       "version_major": 2,
       "version_minor": 0
      },
      "text/plain": [
       "Epochs loop:   0%|          | 0/10000 [00:00<?, ?it/s]"
      ]
     },
     "metadata": {},
     "output_type": "display_data"
    },
    {
     "name": "stdout",
     "output_type": "stream",
     "text": [
      "Summary:\n",
      "-learning rate = 0.00527\n",
      "-Model saved after iteration 115.\n",
      "-Train.  Loss=0.0212150\n",
      "-Valid.  Loss=0.0000021\n",
      "'train_loss_bward_67.csv' saved.\n",
      "'valid_loss_bward_67.csv' saved.\n",
      "'model10_backward05_67_best.pth' saved.\n",
      "- train minibatches = 1\n",
      "- valid minibatches = 1\n",
      "- test minibatches = 1\n"
     ]
    },
    {
     "data": {
      "application/vnd.jupyter.widget-view+json": {
       "model_id": "aa2cb38bfa274b5ab3738f84ad067c11",
       "version_major": 2,
       "version_minor": 0
      },
      "text/plain": [
       "Epochs loop:   0%|          | 0/10000 [00:00<?, ?it/s]"
      ]
     },
     "metadata": {},
     "output_type": "display_data"
    },
    {
     "name": "stdout",
     "output_type": "stream",
     "text": [
      "Summary:\n",
      "-learning rate = 0.00527\n",
      "-Model saved after iteration 3.\n",
      "-Train.  Loss=0.0538372\n",
      "-Valid.  Loss=0.0621707\n",
      "'train_loss_bward_68.csv' saved.\n",
      "'valid_loss_bward_68.csv' saved.\n",
      "'model10_backward05_68_best.pth' saved.\n",
      "- train minibatches = 1\n",
      "- valid minibatches = 1\n",
      "- test minibatches = 1\n"
     ]
    },
    {
     "data": {
      "application/vnd.jupyter.widget-view+json": {
       "model_id": "eda68ae8850243c888e3fbbfac089576",
       "version_major": 2,
       "version_minor": 0
      },
      "text/plain": [
       "Epochs loop:   0%|          | 0/10000 [00:00<?, ?it/s]"
      ]
     },
     "metadata": {},
     "output_type": "display_data"
    },
    {
     "name": "stdout",
     "output_type": "stream",
     "text": [
      "Summary:\n",
      "-learning rate = 0.00527\n",
      "-Model saved after iteration 9719.\n",
      "-Train.  Loss=0.0183820\n",
      "-Valid.  Loss=0.1748617\n",
      "'train_loss_bward_69.csv' saved.\n",
      "'valid_loss_bward_69.csv' saved.\n",
      "'model10_backward05_69_best.pth' saved.\n",
      "- train minibatches = 1\n",
      "- valid minibatches = 1\n",
      "- test minibatches = 1\n"
     ]
    },
    {
     "data": {
      "application/vnd.jupyter.widget-view+json": {
       "model_id": "7bc5762e07074d4db19a695c5d9025be",
       "version_major": 2,
       "version_minor": 0
      },
      "text/plain": [
       "Epochs loop:   0%|          | 0/10000 [00:00<?, ?it/s]"
      ]
     },
     "metadata": {},
     "output_type": "display_data"
    },
    {
     "name": "stdout",
     "output_type": "stream",
     "text": [
      "Summary:\n",
      "-learning rate = 0.00527\n",
      "-Model saved after iteration 8507.\n",
      "-Train.  Loss=0.0064337\n",
      "-Valid.  Loss=0.0086656\n",
      "'train_loss_bward_70.csv' saved.\n",
      "'valid_loss_bward_70.csv' saved.\n",
      "'model10_backward05_70_best.pth' saved.\n",
      "- train minibatches = 1\n",
      "- valid minibatches = 1\n",
      "- test minibatches = 1\n"
     ]
    },
    {
     "data": {
      "application/vnd.jupyter.widget-view+json": {
       "model_id": "53b00c0ba9ee43bc9f477a2f0f8cdd4e",
       "version_major": 2,
       "version_minor": 0
      },
      "text/plain": [
       "Epochs loop:   0%|          | 0/10000 [00:00<?, ?it/s]"
      ]
     },
     "metadata": {},
     "output_type": "display_data"
    },
    {
     "name": "stdout",
     "output_type": "stream",
     "text": [
      "Summary:\n",
      "-learning rate = 0.00527\n",
      "-Model saved after iteration 2191.\n",
      "-Train.  Loss=0.0041835\n",
      "-Valid.  Loss=0.0000003\n",
      "'train_loss_bward_71.csv' saved.\n",
      "'valid_loss_bward_71.csv' saved.\n",
      "'model10_backward05_71_best.pth' saved.\n",
      "- train minibatches = 1\n",
      "- valid minibatches = 1\n",
      "- test minibatches = 1\n"
     ]
    },
    {
     "data": {
      "application/vnd.jupyter.widget-view+json": {
       "model_id": "39a7d98d4b4c4289961b4e3537523ea1",
       "version_major": 2,
       "version_minor": 0
      },
      "text/plain": [
       "Epochs loop:   0%|          | 0/10000 [00:00<?, ?it/s]"
      ]
     },
     "metadata": {},
     "output_type": "display_data"
    },
    {
     "name": "stdout",
     "output_type": "stream",
     "text": [
      "Summary:\n",
      "-learning rate = 0.00527\n",
      "-Model saved after iteration 9933.\n",
      "-Train.  Loss=0.0336803\n",
      "-Valid.  Loss=0.2026924\n",
      "'train_loss_bward_72.csv' saved.\n",
      "'valid_loss_bward_72.csv' saved.\n",
      "'model10_backward05_72_best.pth' saved.\n",
      "- train minibatches = 1\n",
      "- valid minibatches = 1\n",
      "- test minibatches = 1\n"
     ]
    },
    {
     "data": {
      "application/vnd.jupyter.widget-view+json": {
       "model_id": "95fa7fbd702447168c6e13438b9139a8",
       "version_major": 2,
       "version_minor": 0
      },
      "text/plain": [
       "Epochs loop:   0%|          | 0/10000 [00:00<?, ?it/s]"
      ]
     },
     "metadata": {},
     "output_type": "display_data"
    },
    {
     "name": "stdout",
     "output_type": "stream",
     "text": [
      "Summary:\n",
      "-learning rate = 0.00527\n",
      "-Model saved after iteration 6574.\n",
      "-Train.  Loss=0.0005002\n",
      "-Valid.  Loss=0.0000067\n",
      "'train_loss_bward_73.csv' saved.\n",
      "'valid_loss_bward_73.csv' saved.\n",
      "'model10_backward05_73_best.pth' saved.\n",
      "- train minibatches = 1\n",
      "- valid minibatches = 1\n",
      "- test minibatches = 1\n"
     ]
    },
    {
     "data": {
      "application/vnd.jupyter.widget-view+json": {
       "model_id": "f4bb4055a054413bbd96328ec5d922ec",
       "version_major": 2,
       "version_minor": 0
      },
      "text/plain": [
       "Epochs loop:   0%|          | 0/10000 [00:00<?, ?it/s]"
      ]
     },
     "metadata": {},
     "output_type": "display_data"
    },
    {
     "name": "stdout",
     "output_type": "stream",
     "text": [
      "Summary:\n",
      "-learning rate = 0.00527\n",
      "-Model saved after iteration 9713.\n",
      "-Train.  Loss=0.0359308\n",
      "-Valid.  Loss=0.2030074\n",
      "'train_loss_bward_74.csv' saved.\n",
      "'valid_loss_bward_74.csv' saved.\n",
      "'model10_backward05_74_best.pth' saved.\n",
      "- train minibatches = 1\n",
      "- valid minibatches = 1\n",
      "- test minibatches = 1\n"
     ]
    },
    {
     "data": {
      "application/vnd.jupyter.widget-view+json": {
       "model_id": "1931b60ea3354a2a91649ae83eac7e6a",
       "version_major": 2,
       "version_minor": 0
      },
      "text/plain": [
       "Epochs loop:   0%|          | 0/10000 [00:00<?, ?it/s]"
      ]
     },
     "metadata": {},
     "output_type": "display_data"
    },
    {
     "name": "stdout",
     "output_type": "stream",
     "text": [
      "Summary:\n",
      "-learning rate = 0.00527\n",
      "-Model saved after iteration 4727.\n",
      "-Train.  Loss=0.0000001\n",
      "-Valid.  Loss=0.0331295\n",
      "'train_loss_bward_75.csv' saved.\n",
      "'valid_loss_bward_75.csv' saved.\n",
      "'model10_backward05_75_best.pth' saved.\n",
      "- train minibatches = 1\n",
      "- valid minibatches = 1\n",
      "- test minibatches = 1\n"
     ]
    },
    {
     "data": {
      "application/vnd.jupyter.widget-view+json": {
       "model_id": "f3824dd9a6c548b5836fbd57036a77c4",
       "version_major": 2,
       "version_minor": 0
      },
      "text/plain": [
       "Epochs loop:   0%|          | 0/10000 [00:00<?, ?it/s]"
      ]
     },
     "metadata": {},
     "output_type": "display_data"
    },
    {
     "name": "stdout",
     "output_type": "stream",
     "text": [
      "Summary:\n",
      "-learning rate = 0.00527\n",
      "-Model saved after iteration 9742.\n",
      "-Train.  Loss=0.0279142\n",
      "-Valid.  Loss=0.1823090\n",
      "'train_loss_bward_76.csv' saved.\n",
      "'valid_loss_bward_76.csv' saved.\n",
      "'model10_backward05_76_best.pth' saved.\n",
      "- train minibatches = 1\n",
      "- valid minibatches = 1\n",
      "- test minibatches = 1\n"
     ]
    },
    {
     "data": {
      "application/vnd.jupyter.widget-view+json": {
       "model_id": "73587b43e9d94c018255110f45b3e236",
       "version_major": 2,
       "version_minor": 0
      },
      "text/plain": [
       "Epochs loop:   0%|          | 0/10000 [00:00<?, ?it/s]"
      ]
     },
     "metadata": {},
     "output_type": "display_data"
    },
    {
     "name": "stdout",
     "output_type": "stream",
     "text": [
      "Summary:\n",
      "-learning rate = 0.00527\n",
      "-Model saved after iteration 6036.\n",
      "-Train.  Loss=0.0003284\n",
      "-Valid.  Loss=0.0586641\n",
      "'train_loss_bward_77.csv' saved.\n",
      "'valid_loss_bward_77.csv' saved.\n",
      "'model10_backward05_77_best.pth' saved.\n",
      "- train minibatches = 1\n",
      "- valid minibatches = 1\n",
      "- test minibatches = 1\n"
     ]
    },
    {
     "data": {
      "application/vnd.jupyter.widget-view+json": {
       "model_id": "815aa34e340f41dea2e1a084afac6008",
       "version_major": 2,
       "version_minor": 0
      },
      "text/plain": [
       "Epochs loop:   0%|          | 0/10000 [00:00<?, ?it/s]"
      ]
     },
     "metadata": {},
     "output_type": "display_data"
    },
    {
     "name": "stdout",
     "output_type": "stream",
     "text": [
      "Summary:\n",
      "-learning rate = 0.00527\n",
      "-Model saved after iteration 9763.\n",
      "-Train.  Loss=0.0552291\n",
      "-Valid.  Loss=0.2193336\n",
      "'train_loss_bward_78.csv' saved.\n",
      "'valid_loss_bward_78.csv' saved.\n",
      "'model10_backward05_78_best.pth' saved.\n",
      "- train minibatches = 1\n",
      "- valid minibatches = 1\n",
      "- test minibatches = 1\n"
     ]
    },
    {
     "data": {
      "application/vnd.jupyter.widget-view+json": {
       "model_id": "b00de2240f5b4536a834376b13937dab",
       "version_major": 2,
       "version_minor": 0
      },
      "text/plain": [
       "Epochs loop:   0%|          | 0/10000 [00:00<?, ?it/s]"
      ]
     },
     "metadata": {},
     "output_type": "display_data"
    },
    {
     "name": "stdout",
     "output_type": "stream",
     "text": [
      "Summary:\n",
      "-learning rate = 0.00527\n",
      "-Model saved after iteration 185.\n",
      "-Train.  Loss=0.0116594\n",
      "-Valid.  Loss=0.0000000\n",
      "'train_loss_bward_79.csv' saved.\n",
      "'valid_loss_bward_79.csv' saved.\n",
      "'model10_backward05_79_best.pth' saved.\n",
      "- train minibatches = 1\n",
      "- valid minibatches = 1\n",
      "- test minibatches = 1\n"
     ]
    },
    {
     "data": {
      "application/vnd.jupyter.widget-view+json": {
       "model_id": "4e9f24fa006046ed9541520440189c33",
       "version_major": 2,
       "version_minor": 0
      },
      "text/plain": [
       "Epochs loop:   0%|          | 0/10000 [00:00<?, ?it/s]"
      ]
     },
     "metadata": {},
     "output_type": "display_data"
    },
    {
     "name": "stdout",
     "output_type": "stream",
     "text": [
      "Summary:\n",
      "-learning rate = 0.00527\n",
      "-Model saved after iteration 5375.\n",
      "-Train.  Loss=0.0000002\n",
      "-Valid.  Loss=0.0899916\n",
      "'train_loss_bward_80.csv' saved.\n",
      "'valid_loss_bward_80.csv' saved.\n",
      "'model10_backward05_80_best.pth' saved.\n",
      "- train minibatches = 1\n",
      "- valid minibatches = 1\n",
      "- test minibatches = 1\n"
     ]
    },
    {
     "data": {
      "application/vnd.jupyter.widget-view+json": {
       "model_id": "8051740d74f8498497bb2daa83b60229",
       "version_major": 2,
       "version_minor": 0
      },
      "text/plain": [
       "Epochs loop:   0%|          | 0/10000 [00:00<?, ?it/s]"
      ]
     },
     "metadata": {},
     "output_type": "display_data"
    },
    {
     "name": "stdout",
     "output_type": "stream",
     "text": [
      "Summary:\n",
      "-learning rate = 0.00527\n",
      "-Model saved after iteration 9922.\n",
      "-Train.  Loss=0.0905246\n",
      "-Valid.  Loss=0.2134867\n",
      "'train_loss_bward_81.csv' saved.\n",
      "'valid_loss_bward_81.csv' saved.\n",
      "'model10_backward05_81_best.pth' saved.\n",
      "- train minibatches = 1\n",
      "- valid minibatches = 1\n",
      "- test minibatches = 1\n"
     ]
    },
    {
     "data": {
      "application/vnd.jupyter.widget-view+json": {
       "model_id": "cef210f10096494b91dc29da5e137e47",
       "version_major": 2,
       "version_minor": 0
      },
      "text/plain": [
       "Epochs loop:   0%|          | 0/10000 [00:00<?, ?it/s]"
      ]
     },
     "metadata": {},
     "output_type": "display_data"
    },
    {
     "name": "stdout",
     "output_type": "stream",
     "text": [
      "Summary:\n",
      "-learning rate = 0.00527\n",
      "-Model saved after iteration 8937.\n",
      "-Train.  Loss=0.0039801\n",
      "-Valid.  Loss=0.1833063\n",
      "'train_loss_bward_82.csv' saved.\n",
      "'valid_loss_bward_82.csv' saved.\n",
      "'model10_backward05_82_best.pth' saved.\n",
      "- train minibatches = 1\n",
      "- valid minibatches = 1\n",
      "- test minibatches = 1\n"
     ]
    },
    {
     "data": {
      "application/vnd.jupyter.widget-view+json": {
       "model_id": "f6efd614350943839cd866748d918a9f",
       "version_major": 2,
       "version_minor": 0
      },
      "text/plain": [
       "Epochs loop:   0%|          | 0/10000 [00:00<?, ?it/s]"
      ]
     },
     "metadata": {},
     "output_type": "display_data"
    },
    {
     "name": "stdout",
     "output_type": "stream",
     "text": [
      "Summary:\n",
      "-learning rate = 0.00527\n",
      "-Model saved after iteration 2524.\n",
      "-Train.  Loss=0.0054526\n",
      "-Valid.  Loss=0.2340146\n",
      "'train_loss_bward_83.csv' saved.\n",
      "'valid_loss_bward_83.csv' saved.\n",
      "'model10_backward05_83_best.pth' saved.\n",
      "- train minibatches = 1\n",
      "- valid minibatches = 1\n",
      "- test minibatches = 1\n"
     ]
    },
    {
     "data": {
      "application/vnd.jupyter.widget-view+json": {
       "model_id": "354445e0c2824ea29b7e38ac85b3fd8b",
       "version_major": 2,
       "version_minor": 0
      },
      "text/plain": [
       "Epochs loop:   0%|          | 0/10000 [00:00<?, ?it/s]"
      ]
     },
     "metadata": {},
     "output_type": "display_data"
    },
    {
     "name": "stdout",
     "output_type": "stream",
     "text": [
      "Summary:\n",
      "-learning rate = 0.00527\n",
      "-Model saved after iteration 9612.\n",
      "-Train.  Loss=0.0040042\n",
      "-Valid.  Loss=0.0304622\n",
      "'train_loss_bward_84.csv' saved.\n",
      "'valid_loss_bward_84.csv' saved.\n",
      "'model10_backward05_84_best.pth' saved.\n",
      "- train minibatches = 1\n",
      "- valid minibatches = 1\n",
      "- test minibatches = 1\n"
     ]
    },
    {
     "data": {
      "application/vnd.jupyter.widget-view+json": {
       "model_id": "2f32c9ec4dbf41c4b1936d8a9e259a01",
       "version_major": 2,
       "version_minor": 0
      },
      "text/plain": [
       "Epochs loop:   0%|          | 0/10000 [00:00<?, ?it/s]"
      ]
     },
     "metadata": {},
     "output_type": "display_data"
    },
    {
     "name": "stdout",
     "output_type": "stream",
     "text": [
      "Summary:\n",
      "-learning rate = 0.00527\n",
      "-Model saved after iteration 9837.\n",
      "-Train.  Loss=0.0492003\n",
      "-Valid.  Loss=0.1672847\n",
      "'train_loss_bward_85.csv' saved.\n",
      "'valid_loss_bward_85.csv' saved.\n",
      "'model10_backward05_85_best.pth' saved.\n",
      "- train minibatches = 1\n",
      "- valid minibatches = 1\n",
      "- test minibatches = 1\n"
     ]
    },
    {
     "data": {
      "application/vnd.jupyter.widget-view+json": {
       "model_id": "44c92928202840709c66d2c09e0d3a23",
       "version_major": 2,
       "version_minor": 0
      },
      "text/plain": [
       "Epochs loop:   0%|          | 0/10000 [00:00<?, ?it/s]"
      ]
     },
     "metadata": {},
     "output_type": "display_data"
    },
    {
     "name": "stdout",
     "output_type": "stream",
     "text": [
      "Summary:\n",
      "-learning rate = 0.00527\n",
      "-Model saved after iteration 10000.\n",
      "-Train.  Loss=0.0061226\n",
      "-Valid.  Loss=0.2602643\n",
      "'train_loss_bward_86.csv' saved.\n",
      "'valid_loss_bward_86.csv' saved.\n",
      "'model10_backward05_86_best.pth' saved.\n",
      "- train minibatches = 1\n",
      "- valid minibatches = 1\n",
      "- test minibatches = 1\n"
     ]
    },
    {
     "data": {
      "application/vnd.jupyter.widget-view+json": {
       "model_id": "499727f80fa24a2eb02a35285193ae16",
       "version_major": 2,
       "version_minor": 0
      },
      "text/plain": [
       "Epochs loop:   0%|          | 0/10000 [00:00<?, ?it/s]"
      ]
     },
     "metadata": {},
     "output_type": "display_data"
    },
    {
     "name": "stdout",
     "output_type": "stream",
     "text": [
      "Summary:\n",
      "-learning rate = 0.00527\n",
      "-Model saved after iteration 9532.\n",
      "-Train.  Loss=0.0046691\n",
      "-Valid.  Loss=0.1513136\n",
      "'train_loss_bward_87.csv' saved.\n",
      "'valid_loss_bward_87.csv' saved.\n",
      "'model10_backward05_87_best.pth' saved.\n",
      "- train minibatches = 1\n",
      "- valid minibatches = 1\n",
      "- test minibatches = 1\n"
     ]
    },
    {
     "data": {
      "application/vnd.jupyter.widget-view+json": {
       "model_id": "7c60f8e029a54ffdbae4e23475843bc5",
       "version_major": 2,
       "version_minor": 0
      },
      "text/plain": [
       "Epochs loop:   0%|          | 0/10000 [00:00<?, ?it/s]"
      ]
     },
     "metadata": {},
     "output_type": "display_data"
    },
    {
     "name": "stdout",
     "output_type": "stream",
     "text": [
      "Summary:\n",
      "-learning rate = 0.00527\n",
      "-Model saved after iteration 1041.\n",
      "-Train.  Loss=0.0156376\n",
      "-Valid.  Loss=0.0000063\n",
      "'train_loss_bward_88.csv' saved.\n",
      "'valid_loss_bward_88.csv' saved.\n",
      "'model10_backward05_88_best.pth' saved.\n",
      "- train minibatches = 1\n",
      "- valid minibatches = 1\n",
      "- test minibatches = 1\n"
     ]
    },
    {
     "data": {
      "application/vnd.jupyter.widget-view+json": {
       "model_id": "d8aa1062c83344d2b7994da4be773f43",
       "version_major": 2,
       "version_minor": 0
      },
      "text/plain": [
       "Epochs loop:   0%|          | 0/10000 [00:00<?, ?it/s]"
      ]
     },
     "metadata": {},
     "output_type": "display_data"
    },
    {
     "name": "stdout",
     "output_type": "stream",
     "text": [
      "Summary:\n",
      "-learning rate = 0.00527\n",
      "-Model saved after iteration 9596.\n",
      "-Train.  Loss=0.0100687\n",
      "-Valid.  Loss=0.1603924\n",
      "'train_loss_bward_89.csv' saved.\n",
      "'valid_loss_bward_89.csv' saved.\n",
      "'model10_backward05_89_best.pth' saved.\n",
      "- train minibatches = 1\n",
      "- valid minibatches = 1\n",
      "- test minibatches = 1\n"
     ]
    },
    {
     "data": {
      "application/vnd.jupyter.widget-view+json": {
       "model_id": "5f16cd2e2f044b07a1410e0df16ee21b",
       "version_major": 2,
       "version_minor": 0
      },
      "text/plain": [
       "Epochs loop:   0%|          | 0/10000 [00:00<?, ?it/s]"
      ]
     },
     "metadata": {},
     "output_type": "display_data"
    },
    {
     "name": "stdout",
     "output_type": "stream",
     "text": [
      "Summary:\n",
      "-learning rate = 0.00527\n",
      "-Model saved after iteration 10000.\n",
      "-Train.  Loss=0.0492280\n",
      "-Valid.  Loss=0.3170443\n",
      "'train_loss_bward_90.csv' saved.\n",
      "'valid_loss_bward_90.csv' saved.\n",
      "'model10_backward05_90_best.pth' saved.\n",
      "- train minibatches = 1\n",
      "- valid minibatches = 1\n",
      "- test minibatches = 1\n"
     ]
    },
    {
     "data": {
      "application/vnd.jupyter.widget-view+json": {
       "model_id": "4c6809e843d94cf7aff722ec2f454265",
       "version_major": 2,
       "version_minor": 0
      },
      "text/plain": [
       "Epochs loop:   0%|          | 0/10000 [00:00<?, ?it/s]"
      ]
     },
     "metadata": {},
     "output_type": "display_data"
    },
    {
     "name": "stdout",
     "output_type": "stream",
     "text": [
      "Summary:\n",
      "-learning rate = 0.00527\n",
      "-Model saved after iteration 6.\n",
      "-Train.  Loss=0.0000134\n",
      "-Valid.  Loss=0.1334366\n",
      "'train_loss_bward_91.csv' saved.\n",
      "'valid_loss_bward_91.csv' saved.\n",
      "'model10_backward05_91_best.pth' saved.\n",
      "- train minibatches = 1\n",
      "- valid minibatches = 1\n",
      "- test minibatches = 1\n"
     ]
    },
    {
     "data": {
      "application/vnd.jupyter.widget-view+json": {
       "model_id": "b91d0b7f9f164255a18c824c6b812046",
       "version_major": 2,
       "version_minor": 0
      },
      "text/plain": [
       "Epochs loop:   0%|          | 0/10000 [00:00<?, ?it/s]"
      ]
     },
     "metadata": {},
     "output_type": "display_data"
    },
    {
     "name": "stdout",
     "output_type": "stream",
     "text": [
      "Summary:\n",
      "-learning rate = 0.00527\n",
      "-Model saved after iteration 92.\n",
      "-Train.  Loss=0.0000000\n",
      "-Valid.  Loss=0.0000004\n",
      "'train_loss_bward_92.csv' saved.\n",
      "'valid_loss_bward_92.csv' saved.\n",
      "'model10_backward05_92_best.pth' saved.\n",
      "- train minibatches = 1\n",
      "- valid minibatches = 1\n",
      "- test minibatches = 1\n"
     ]
    },
    {
     "data": {
      "application/vnd.jupyter.widget-view+json": {
       "model_id": "41f9d489ca224e16a1040ac93cbc49e5",
       "version_major": 2,
       "version_minor": 0
      },
      "text/plain": [
       "Epochs loop:   0%|          | 0/10000 [00:00<?, ?it/s]"
      ]
     },
     "metadata": {},
     "output_type": "display_data"
    },
    {
     "name": "stdout",
     "output_type": "stream",
     "text": [
      "Summary:\n",
      "-learning rate = 0.00527\n",
      "-Model saved after iteration 401.\n",
      "-Train.  Loss=0.0027614\n",
      "-Valid.  Loss=0.0000000\n",
      "'train_loss_bward_93.csv' saved.\n",
      "'valid_loss_bward_93.csv' saved.\n",
      "'model10_backward05_93_best.pth' saved.\n",
      "- train minibatches = 1\n",
      "- valid minibatches = 1\n",
      "- test minibatches = 1\n"
     ]
    },
    {
     "data": {
      "application/vnd.jupyter.widget-view+json": {
       "model_id": "727112723a99493b871c3114604ea846",
       "version_major": 2,
       "version_minor": 0
      },
      "text/plain": [
       "Epochs loop:   0%|          | 0/10000 [00:00<?, ?it/s]"
      ]
     },
     "metadata": {},
     "output_type": "display_data"
    },
    {
     "name": "stdout",
     "output_type": "stream",
     "text": [
      "Summary:\n",
      "-learning rate = 0.00527\n",
      "-Model saved after iteration 9691.\n",
      "-Train.  Loss=0.0228813\n",
      "-Valid.  Loss=0.1517062\n",
      "'train_loss_bward_94.csv' saved.\n",
      "'valid_loss_bward_94.csv' saved.\n",
      "'model10_backward05_94_best.pth' saved.\n",
      "- train minibatches = 1\n",
      "- valid minibatches = 1\n",
      "- test minibatches = 1\n"
     ]
    },
    {
     "data": {
      "application/vnd.jupyter.widget-view+json": {
       "model_id": "9e69ddde7e1948dd9924238e28829d2d",
       "version_major": 2,
       "version_minor": 0
      },
      "text/plain": [
       "Epochs loop:   0%|          | 0/10000 [00:00<?, ?it/s]"
      ]
     },
     "metadata": {},
     "output_type": "display_data"
    },
    {
     "name": "stdout",
     "output_type": "stream",
     "text": [
      "Summary:\n",
      "-learning rate = 0.00527\n",
      "-Model saved after iteration 9901.\n",
      "-Train.  Loss=0.0382833\n",
      "-Valid.  Loss=0.3323320\n",
      "'train_loss_bward_95.csv' saved.\n",
      "'valid_loss_bward_95.csv' saved.\n",
      "'model10_backward05_95_best.pth' saved.\n",
      "- train minibatches = 1\n",
      "- valid minibatches = 1\n",
      "- test minibatches = 1\n"
     ]
    },
    {
     "data": {
      "application/vnd.jupyter.widget-view+json": {
       "model_id": "cdc7104835f440a9aec9df95c9aa16af",
       "version_major": 2,
       "version_minor": 0
      },
      "text/plain": [
       "Epochs loop:   0%|          | 0/10000 [00:00<?, ?it/s]"
      ]
     },
     "metadata": {},
     "output_type": "display_data"
    },
    {
     "name": "stdout",
     "output_type": "stream",
     "text": [
      "Summary:\n",
      "-learning rate = 0.00527\n",
      "-Model saved after iteration 58.\n",
      "-Train.  Loss=0.0137645\n",
      "-Valid.  Loss=0.0000000\n",
      "'train_loss_bward_96.csv' saved.\n",
      "'valid_loss_bward_96.csv' saved.\n",
      "'model10_backward05_96_best.pth' saved.\n",
      "- train minibatches = 1\n",
      "- valid minibatches = 1\n",
      "- test minibatches = 1\n"
     ]
    },
    {
     "data": {
      "application/vnd.jupyter.widget-view+json": {
       "model_id": "14d72433933c4cc2b01881f3e2e48f28",
       "version_major": 2,
       "version_minor": 0
      },
      "text/plain": [
       "Epochs loop:   0%|          | 0/10000 [00:00<?, ?it/s]"
      ]
     },
     "metadata": {},
     "output_type": "display_data"
    },
    {
     "name": "stdout",
     "output_type": "stream",
     "text": [
      "Summary:\n",
      "-learning rate = 0.00527\n",
      "-Model saved after iteration 189.\n",
      "-Train.  Loss=0.0064808\n",
      "-Valid.  Loss=0.0000000\n",
      "'train_loss_bward_97.csv' saved.\n",
      "'valid_loss_bward_97.csv' saved.\n",
      "'model10_backward05_97_best.pth' saved.\n",
      "- train minibatches = 1\n",
      "- valid minibatches = 1\n",
      "- test minibatches = 1\n"
     ]
    },
    {
     "data": {
      "application/vnd.jupyter.widget-view+json": {
       "model_id": "3b80b21a24ae4cfd84aca3131d21f59f",
       "version_major": 2,
       "version_minor": 0
      },
      "text/plain": [
       "Epochs loop:   0%|          | 0/10000 [00:00<?, ?it/s]"
      ]
     },
     "metadata": {},
     "output_type": "display_data"
    },
    {
     "name": "stdout",
     "output_type": "stream",
     "text": [
      "Summary:\n",
      "-learning rate = 0.00527\n",
      "-Model saved after iteration 4553.\n",
      "-Train.  Loss=0.0000000\n",
      "-Valid.  Loss=0.0000269\n",
      "'train_loss_bward_98.csv' saved.\n",
      "'valid_loss_bward_98.csv' saved.\n",
      "'model10_backward05_98_best.pth' saved.\n",
      "- train minibatches = 1\n",
      "- valid minibatches = 1\n",
      "- test minibatches = 1\n"
     ]
    },
    {
     "data": {
      "application/vnd.jupyter.widget-view+json": {
       "model_id": "cacacb0586ce491482a8edabbaa7815e",
       "version_major": 2,
       "version_minor": 0
      },
      "text/plain": [
       "Epochs loop:   0%|          | 0/10000 [00:00<?, ?it/s]"
      ]
     },
     "metadata": {},
     "output_type": "display_data"
    },
    {
     "name": "stdout",
     "output_type": "stream",
     "text": [
      "Summary:\n",
      "-learning rate = 0.00527\n",
      "-Model saved after iteration 5331.\n",
      "-Train.  Loss=0.0000000\n",
      "-Valid.  Loss=0.0000019\n",
      "'train_loss_bward_99.csv' saved.\n",
      "'valid_loss_bward_99.csv' saved.\n",
      "'model10_backward05_99_best.pth' saved.\n",
      "- train minibatches = 1\n",
      "- valid minibatches = 1\n",
      "- test minibatches = 1\n"
     ]
    },
    {
     "data": {
      "application/vnd.jupyter.widget-view+json": {
       "model_id": "3d0376da2dd542a0892bc24a6a6e4b08",
       "version_major": 2,
       "version_minor": 0
      },
      "text/plain": [
       "Epochs loop:   0%|          | 0/10000 [00:00<?, ?it/s]"
      ]
     },
     "metadata": {},
     "output_type": "display_data"
    },
    {
     "name": "stdout",
     "output_type": "stream",
     "text": [
      "Summary:\n",
      "-learning rate = 0.00527\n",
      "-Model saved after iteration 9706.\n",
      "-Train.  Loss=0.0196044\n",
      "-Valid.  Loss=0.2266322\n",
      "'train_loss_bward_100.csv' saved.\n",
      "'valid_loss_bward_100.csv' saved.\n",
      "'model10_backward05_100_best.pth' saved.\n"
     ]
    }
   ],
   "source": [
    "# Find Accuracy, Loss +/- STD (Lockdown: path 2)\n",
    "data_output = 'data_lockdown_10LungCarcinoma'\n",
    "accuracy_forward = pd.DataFrame(columns=['train_acc', 'valid_acc', 'test_acc', \n",
    "                                         'train_loss', 'valid_loss', 'test_loss'])\n",
    "\n",
    "partitions = 100\n",
    "iterator = tqdm.notebook.tqdm(range(1, partitions + 1), desc='Partitions loop')\n",
    "for n in iterator:\n",
    "    X = pd.read_csv('dataset_10LungCarcinoma/X.csv', header=None)\n",
    "    y = pd.read_csv('dataset_10LungCarcinoma/y.csv', header=None)\n",
    "    split_data(X, y, seed1=seed1[n], seed2=seed2[n])\n",
    "\n",
    "# .normalize data sets\n",
    "    df_to_tensor()\n",
    "    normalize_data()\n",
    "    make_DataLoaders()\n",
    "\n",
    "# .train model (forward)\n",
    "    lr = best_lr_bward\n",
    "    layer_sizes = [5, 2]\n",
    "    epochs = 10000\n",
    "    data_out = \"data_lockdown_10LungCarcinoma/partitions\"\n",
    "    lock_flag = True\n",
    "    features = xtrain.size(1)\n",
    "    step = 1\n",
    "    model_forward_name = 'data_lockdown_10LungCarcinoma/partitions/model10_fward05_'+str(n)+'_last.pth'\n",
    "    fname = 'model10_backward05_'+str(n)\n",
    "    train_loss, valid_loss = train_model(\n",
    "                             lr, \n",
    "                             features, \n",
    "                             layer_sizes,\n",
    "                             lock_flag = lock_flag,\n",
    "                             epochs = epochs,\n",
    "                             early_stop = epochs, \n",
    "                             fname = fname)\n",
    "# .save relevant data\n",
    "    f3 = [fname+'_best.pth']\n",
    "    save_output(data_out, \n",
    "                'train_loss_bward_'+str(n)+'.csv', \n",
    "                'valid_loss_bward_'+str(n)+'.csv', f3)\n",
    "\n",
    "# .find Loss, Accurary, etc...\n",
    "    mm = MyNet(features, layer_sizes)\n",
    "    mm.load_state_dict(torch.load(os.path.join(data_out, fname+'_best.pth')))\n",
    "    mm = mm.to(device)\n",
    "    mm.eval()\n",
    "    \n",
    "    ypred = mm(xtrain)\n",
    "    loss = loss_type(ypred, ytrain.view(-1))\n",
    "    accu = dataset_accuracy(train_dataloader, mm, device)\n",
    "    accuracy_forward.loc[n, 'train_loss'] = loss.detach().item()\n",
    "    accuracy_forward.loc[n, 'train_acc'] = accu\n",
    "\n",
    "    ypred = mm(xvalid)\n",
    "    loss = loss_type(ypred, yvalid.view(-1))\n",
    "    accu = dataset_accuracy(valid_dataloader, mm, device)\n",
    "    accuracy_forward.loc[n, 'valid_loss'] = loss.detach().item()\n",
    "    accuracy_forward.loc[n, 'valid_acc'] = accu\n",
    "\n",
    "    ypred = mm(xtest)\n",
    "    loss = loss_type(ypred, ytest.view(-1))\n",
    "    accu = dataset_accuracy(test_dataloader, mm, device)\n",
    "    accuracy_forward.loc[n, 'test_loss'] = loss.detach().item()\n",
    "    accuracy_forward.loc[n, 'test_acc'] = accu\n",
    "\n",
    "    accuracy_forward.to_csv(os.path.join(data_out, 'accuracy_bward05.csv'), index=True)"
   ]
  },
  {
   "cell_type": "code",
   "execution_count": 173,
   "metadata": {
    "ExecuteTime": {
     "end_time": "2021-02-25T00:24:19.680064Z",
     "start_time": "2021-02-25T00:24:19.671539Z"
    },
    "code_folding": [
     0
    ]
   },
   "outputs": [
    {
     "name": "stdout",
     "output_type": "stream",
     "text": [
      "Train accuracy = 0.9983 +/- 0.0049\n",
      "Train accuracy = 0.9571 +/- 0.0433\n",
      "Test accuracy = 0.9458 +/- 0.0421\n"
     ]
    }
   ],
   "source": [
    "# Display results\n",
    "accuracy_forward = pd.read_csv('data_lockdown_10LungCarcinoma/accuracy10_backward05.csv', index_col=0)\n",
    "print(\"Train accuracy = {:.4f} +/- {:.4f}\".format(accuracy_forward['train_acc'].mean(), \n",
    "                                                  accuracy_forward['train_acc'].std()))\n",
    "print(\"Train accuracy = {:.4f} +/- {:.4f}\".format(accuracy_forward['valid_acc'].mean(), \n",
    "                                                  accuracy_forward['valid_acc'].std()))\n",
    "print(\"Test accuracy = {:.4f} +/- {:.4f}\".format(accuracy_forward['test_acc'].mean(), \n",
    "                                                 accuracy_forward['test_acc'].std()))"
   ]
  },
  {
   "cell_type": "code",
   "execution_count": 74,
   "metadata": {
    "ExecuteTime": {
     "end_time": "2021-02-18T08:04:36.901697Z",
     "start_time": "2021-02-18T08:04:36.650376Z"
    },
    "code_folding": [
     0
    ],
    "collapsed": true
   },
   "outputs": [
    {
     "data": {
      "image/png": "[encoded data removed]",
      "text/plain": [
       "<Figure size 576x360 with 1 Axes>"
      ]
     },
     "metadata": {
      "needs_background": "light"
     },
     "output_type": "display_data"
    }
   ],
   "source": [
    "# Plot lockdown loss function vs iterations\n",
    "train_loss = pd.read_csv('data_lockdown_10LungCarcinoma/train_loss05.csv')\n",
    "valid_loss = pd.read_csv('data_lockdown_10LungCarcinoma/valid_loss05.csv')\n",
    "\n",
    "fig, axes = plt.subplots(figsize=(8,5))\n",
    "\n",
    "axes.plot(train_loss[\"iteration\"].tolist(), train_loss[\"loss\"].tolist(), label=\"Train\")\n",
    "axes.plot(valid_loss[\"iteration\"].tolist(), valid_loss[\"loss\"].tolist(), label=\"Valid\")\n",
    "axes.legend()\n",
    "axes.set_xlabel(\"iteration\")\n",
    "axes.set_ylabel(\"Loss\")\n",
    "axes.set_title(\"Lockdown: Lung Cancer\")\n",
    "axes.grid(True, zorder=2)\n",
    "\n",
    "plt.tight_layout()\n",
    "# plt.savefig(\"data_lockdown_10LungCarcinoma/loss_vs_iter_forward_02.pdf\", bbox_inches='tight')\n",
    "plt.show()"
   ]
  },
  {
   "cell_type": "code",
   "execution_count": 75,
   "metadata": {
    "ExecuteTime": {
     "end_time": "2021-02-18T08:05:55.311510Z",
     "start_time": "2021-02-18T08:05:55.081028Z"
    },
    "code_folding": [
     0
    ],
    "collapsed": true
   },
   "outputs": [
    {
     "data": {
      "image/png": "[encoded data removed]",
      "text/plain": [
       "<Figure size 576x360 with 1 Axes>"
      ]
     },
     "metadata": {
      "needs_background": "light"
     },
     "output_type": "display_data"
    }
   ],
   "source": [
    "# Plot unconstrained loss function vs iterations\n",
    "train_loss = pd.read_csv('data_lockdown_10LungCarcinoma/train_loss_fward05.csv')\n",
    "valid_loss = pd.read_csv('data_lockdown_10LungCarcinoma/valid_loss_fward05.csv')\n",
    "\n",
    "fig, axes = plt.subplots(figsize=(8,5))\n",
    "\n",
    "axes.plot(train_loss[\"iteration\"].tolist(), train_loss[\"loss\"].tolist(), label=\"Train\")\n",
    "axes.plot(valid_loss[\"iteration\"].tolist(), valid_loss[\"loss\"].tolist(), label=\"Valid\")\n",
    "axes.legend()\n",
    "axes.set_xlabel(\"iteration\")\n",
    "axes.set_ylabel(\"Loss\")\n",
    "axes.set_title(\"Unconstrained: Lung Cancer\")\n",
    "axes.grid(True, zorder=2)\n",
    "# axes.set_xlim(0,100)\n",
    "\n",
    "plt.tight_layout()\n",
    "# plt.savefig(\"data_unconstrained_10LungCarcinoma/loss_vs_iter_forward_02.pdf\", bbox_inches='tight')\n",
    "plt.show()"
   ]
  },
  {
   "cell_type": "code",
   "execution_count": 42,
   "metadata": {
    "ExecuteTime": {
     "end_time": "2021-02-17T08:37:23.336947Z",
     "start_time": "2021-02-17T08:37:23.047191Z"
    },
    "code_folding": [
     0
    ],
    "collapsed": true
   },
   "outputs": [
    {
     "data": {
      "image/png": "[encoded data removed]",
      "text/plain": [
       "<Figure size 576x360 with 1 Axes>"
      ]
     },
     "metadata": {
      "needs_background": "light"
     },
     "output_type": "display_data"
    }
   ],
   "source": [
    "# Plot unconstrained loss function vs iterations\n",
    "train_loss = pd.read_csv('data_unconstrained_10LungCarcinoma/train_loss05.csv')\n",
    "valid_loss = pd.read_csv('data_unconstrained_10LungCarcinoma/valid_loss05.csv')\n",
    "\n",
    "fig, axes = plt.subplots(figsize=(8,5))\n",
    "\n",
    "axes.plot(train_loss[\"iteration\"].tolist(), train_loss[\"loss\"].tolist(), label=\"Train\")\n",
    "axes.plot(valid_loss[\"iteration\"].tolist(), valid_loss[\"loss\"].tolist(), label=\"Valid\")\n",
    "axes.legend()\n",
    "axes.set_xlabel(\"iteration\")\n",
    "axes.set_ylabel(\"Loss\")\n",
    "axes.set_title(\"Unconstrained: Lung Cancer\")\n",
    "axes.grid(True, zorder=2)\n",
    "# axes.set_xlim(0,100)\n",
    "\n",
    "plt.tight_layout()\n",
    "# plt.savefig(\"data_unconstrained_10LungCarcinoma/loss_vs_iter_forward_02.pdf\", bbox_inches='tight')\n",
    "plt.show()"
   ]
  },
  {
   "cell_type": "markdown",
   "metadata": {
    "ExecuteTime": {
     "end_time": "2021-01-13T19:26:46.508315Z",
     "start_time": "2021-01-13T19:26:46.504652Z"
    }
   },
   "source": [
    "* ### Comparison"
   ]
  },
  {
   "cell_type": "code",
   "execution_count": 2,
   "metadata": {
    "ExecuteTime": {
     "end_time": "2021-06-19T00:45:38.893648Z",
     "start_time": "2021-06-19T00:45:38.875385Z"
    },
    "code_folding": []
   },
   "outputs": [],
   "source": [
    "# Read distributions\n",
    "accuracy_lockdown = pd.read_csv('data_lockdown_10LungCarcinoma/accuracy10_backward05.csv', index_col=0)\n",
    "accuracy_forward  = pd.read_csv('data_unconstrained_10LungCarcinoma/accuracy10_forward05.csv', index_col=0)\n",
    "accuracy_xgb      = pd.read_csv('data_xgb_10LungCarcinoma/accuracy10_xgb_val.csv')\n",
    "accuracy_lasso    = pd.read_csv('data_lasso_10LungCarcinoma/accuracy10_lasso_val.csv')"
   ]
  },
  {
   "cell_type": "code",
   "execution_count": 232,
   "metadata": {
    "ExecuteTime": {
     "end_time": "2021-02-25T18:54:15.014669Z",
     "start_time": "2021-02-25T18:54:15.008289Z"
    },
    "code_folding": [
     0
    ]
   },
   "outputs": [
    {
     "name": "stdout",
     "output_type": "stream",
     "text": [
      "Accuracy on 'test' set:\n",
      "Lockdown = 0.9458 +/- 0.042\n",
      "Forward  = 0.8317 +/- 0.188\n",
      "xgboost  = 0.9283 +/- 0.057\n",
      "Lasso    = 0.9500 +/- 0.041\n",
      "\n",
      "Accuracy on 'validation' set:\n",
      "Lockdown = 0.9571 +/- 0.043\n",
      "Forward  = 0.8550 +/- 0.184\n",
      "xgboost  = 0.9300 +/- 0.060\n",
      "Lasso    = 0.9517 +/- 0.041\n"
     ]
    }
   ],
   "source": [
    "# Accuracy & Loss\n",
    "print(\"Accuracy on 'test' set:\")\n",
    "print(\"Lockdown = {:.4f} +/- {:.3f}\".format(accuracy_lockdown['test_acc'].mean(), \n",
    "                                            accuracy_lockdown['test_acc'].std()))\n",
    "print(\"Forward  = {:.4f} +/- {:.3f}\".format(accuracy_forward['test_acc'].mean(), \n",
    "                                            accuracy_forward['test_acc'].std()))\n",
    "print(\"xgboost  = {:.4f} +/- {:.3f}\".format(accuracy_xgb['test_acc'].mean(), \n",
    "                                            accuracy_xgb['test_acc'].std()))\n",
    "print(\"Lasso    = {:.4f} +/- {:.3f}\".format(accuracy_lasso['test_acc'].mean(), \n",
    "                                            accuracy_lasso['test_acc'].std()))\n",
    "\n",
    "print(\"\\nAccuracy on 'validation' set:\")\n",
    "print(\"Lockdown = {:.4f} +/- {:.3f}\".format(accuracy_lockdown['valid_acc'].mean(), \n",
    "                                            accuracy_lockdown['valid_acc'].std()))\n",
    "print(\"Forward  = {:.4f} +/- {:.3f}\".format(accuracy_forward['valid_acc'].mean(), \n",
    "                                            accuracy_forward['valid_acc'].std()))\n",
    "print(\"xgboost  = {:.4f} +/- {:.3f}\".format(accuracy_xgb['valid_acc'].mean(), \n",
    "                                            accuracy_xgb['valid_acc'].std()))\n",
    "print(\"Lasso    = {:.4f} +/- {:.3f}\".format(accuracy_lasso['valid_acc'].mean(), \n",
    "                                            accuracy_lasso['valid_acc'].std()))"
   ]
  },
  {
   "cell_type": "code",
   "execution_count": 187,
   "metadata": {
    "ExecuteTime": {
     "end_time": "2021-02-25T00:41:36.849359Z",
     "start_time": "2021-02-25T00:41:36.842858Z"
    },
    "code_folding": [
     0
    ]
   },
   "outputs": [
    {
     "name": "stdout",
     "output_type": "stream",
     "text": [
      "On 'test' set:\n",
      "Lockdown vs Forward: pvalue=5.482765e-08, statistic=5.883393e+00\n",
      "Lockdown vs xgboost: pvalue=3.283717e-03, statistic=3.013072e+00\n",
      "Lockdown vs lasso:   pvalue=1.905809e-01, statistic=-1.317893e+00\n",
      "\n",
      "On 'validation' set:\n",
      "Lockdown vs Forward: pvalue=8.718655e-09, statistic=6.288402e+00\n",
      "Lockdown vs xgboost: pvalue=6.951425e-07, statistic=5.302766e+00\n",
      "Lockdown vs lasso:   pvalue=4.172560e-02, statistic=2.063048e+00\n"
     ]
    }
   ],
   "source": [
    "# Print out test results\n",
    "print(\"On 'test' set:\")\n",
    "statistic, pvalue = stats.ttest_rel(accuracy_lockdown['test_acc'], accuracy_forward['test_acc'])\n",
    "print(\"Lockdown vs Forward: pvalue={:e}, statistic={:e}\".format(pvalue, statistic))\n",
    "\n",
    "statistic, pvalue = stats.ttest_rel(accuracy_lockdown['test_acc'], accuracy_xgb['test_acc'])\n",
    "print(\"Lockdown vs xgboost: pvalue={:e}, statistic={:e}\".format(pvalue, statistic))\n",
    "\n",
    "statistic, pvalue = stats.ttest_rel(accuracy_lockdown['test_acc'], accuracy_lasso['test_acc'])\n",
    "print(\"Lockdown vs lasso:   pvalue={:e}, statistic={:e}\".format(pvalue, statistic))\n",
    "\n",
    "# \n",
    "print(\"\\nOn 'validation' set:\")\n",
    "statistic, pvalue = stats.ttest_rel(accuracy_lockdown['valid_acc'], accuracy_forward['valid_acc'])\n",
    "print(\"Lockdown vs Forward: pvalue={:e}, statistic={:e}\".format(pvalue, statistic))\n",
    "\n",
    "statistic, pvalue = stats.ttest_rel(accuracy_lockdown['valid_acc'], accuracy_xgb['valid_acc'])\n",
    "print(\"Lockdown vs xgboost: pvalue={:e}, statistic={:e}\".format(pvalue, statistic))\n",
    "\n",
    "statistic, pvalue = stats.ttest_rel(accuracy_lockdown['valid_acc'], accuracy_lasso['valid_acc'])\n",
    "print(\"Lockdown vs lasso:   pvalue={:e}, statistic={:e}\".format(pvalue, statistic))"
   ]
  },
  {
   "cell_type": "code",
   "execution_count": 3,
   "metadata": {
    "ExecuteTime": {
     "end_time": "2021-06-19T00:45:46.378451Z",
     "start_time": "2021-06-19T00:45:46.362853Z"
    }
   },
   "outputs": [
    {
     "name": "stdout",
     "output_type": "stream",
     "text": [
      "Lasso   = 0.053 +/- 0.041\n",
      "GB      = 0.072 +/- 0.057\n",
      "FCNN    = 0.168 +/- 0.188\n",
      "Lockout = 0.054 +/- 0.042\n",
      "\n",
      "On 'test' set:\n",
      "Lockdown vs Forward: pvalue=5.48e-08, statistic=-5.88e+00\n",
      "Lockdown vs xgboost: pvalue=3.28e-03, statistic=-3.01e+00\n",
      "Lockdown vs lasso:   pvalue=7.07e-01, statistic=3.76e-01\n"
     ]
    }
   ],
   "source": [
    "# Relative Root Mean Squared Error\n",
    "rrmse_lasso = 1.0 - accuracy_lasso['test_acc']\n",
    "print(\"Lasso   = {:.3f} +/- {:.3f}\".format(rrmse_lasso.mean(), rrmse_lasso.std()))\n",
    "\n",
    "rrmse_GB = 1.0 - accuracy_xgb['test_acc']\n",
    "print(\"GB      = {:.3f} +/- {:.3f}\".format(rrmse_GB.mean(), rrmse_GB.std()))\n",
    "\n",
    "rrmse_fcnn = 1.0 - accuracy_forward['test_acc']\n",
    "print(\"FCNN    = {:.3f} +/- {:.3f}\".format(rrmse_fcnn.mean(), rrmse_fcnn.std()))\n",
    "\n",
    "rrmse_lockout = 1.0 - accuracy_lockdown['test_acc']\n",
    "print(\"Lockout = {:.3f} +/- {:.3f}\".format(rrmse_lockout.mean(), rrmse_lockout.std()))\n",
    "\n",
    "# Print out test results\n",
    "print(\"\\nOn 'test' set:\")\n",
    "statistic, pvalue = stats.ttest_rel(rrmse_lockout, rrmse_fcnn)\n",
    "print(\"Lockdown vs Forward: pvalue={:.2e}, statistic={:.2e}\".format(pvalue, statistic))\n",
    "\n",
    "statistic, pvalue = stats.ttest_rel(rrmse_lockout, rrmse_GB)\n",
    "print(\"Lockdown vs xgboost: pvalue={:.2e}, statistic={:.2e}\".format(pvalue, statistic))\n",
    "\n",
    "statistic, pvalue = stats.ttest_rel(rrmse_lockout, rrmse_lasso)\n",
    "print(\"Lockdown vs lasso:   pvalue={:.2e}, statistic={:.2e}\".format(pvalue, statistic))"
   ]
  }
 ],
 "metadata": {
  "kernelspec": {
   "display_name": "Python 3",
   "language": "python",
   "name": "python3"
  },
  "language_info": {
   "codemirror_mode": {
    "name": "ipython",
    "version": 3
   },
   "file_extension": ".py",
   "mimetype": "text/x-python",
   "name": "python",
   "nbconvert_exporter": "python",
   "pygments_lexer": "ipython3",
   "version": "3.8.3"
  },
  "toc": {
   "base_numbering": 1,
   "nav_menu": {},
   "number_sections": true,
   "sideBar": true,
   "skip_h1_title": true,
   "title_cell": "Table of Contents",
   "title_sidebar": "Contents",
   "toc_cell": false,
   "toc_position": {
    "height": "calc(100% - 180px)",
    "left": "10px",
    "top": "150px",
    "width": "332.2px"
   },
   "toc_section_display": true,
   "toc_window_display": true
  }
 },
 "nbformat": 4,
 "nbformat_minor": 2
}
