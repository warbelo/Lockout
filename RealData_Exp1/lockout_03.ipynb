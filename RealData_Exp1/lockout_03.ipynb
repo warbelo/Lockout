{
 "cells": [
  {
   "cell_type": "markdown",
   "metadata": {},
   "source": [
    "# Lockdown  for Classification: Hepatocellular Carcinoma"
   ]
  },
  {
   "cell_type": "markdown",
   "metadata": {},
   "source": [
    "## Import all necessary libraries"
   ]
  },
  {
   "cell_type": "code",
   "execution_count": 1,
   "metadata": {
    "ExecuteTime": {
     "end_time": "2021-06-22T04:21:42.342095Z",
     "start_time": "2021-06-22T04:21:39.378703Z"
    },
    "code_folding": [
     0
    ]
   },
   "outputs": [],
   "source": [
    "# Import libraries and modules\n",
    "import numpy as np\n",
    "import pandas as pd\n",
    "\n",
    "import xgboost as xgb\n",
    "from xgboost import plot_tree\n",
    "\n",
    "from sklearn.metrics import r2_score, classification_report, confusion_matrix,           \\\n",
    "                            roc_curve, roc_auc_score, plot_confusion_matrix, f1_score,   \\\n",
    "                            balanced_accuracy_score, accuracy_score, mean_squared_error, \\\n",
    "                            log_loss\n",
    "from sklearn.datasets import make_friedman1\n",
    "from sklearn.model_selection import train_test_split, GridSearchCV\n",
    "from sklearn.linear_model import LogisticRegression, LinearRegression, SGDClassifier,    \\\n",
    "                                 Lasso, lasso_path\n",
    "from sklearn.preprocessing import StandardScaler, LabelBinarizer\n",
    "from sklearn.impute import SimpleImputer\n",
    "from sklearn.pipeline import Pipeline\n",
    "from sklearn_pandas import DataFrameMapper\n",
    "\n",
    "import scipy\n",
    "from scipy import stats\n",
    "\n",
    "import os\n",
    "import sys\n",
    "import shutil\n",
    "from pathlib import Path\n",
    "\n",
    "import matplotlib as mpl\n",
    "import matplotlib.pyplot as plt\n",
    "import matplotlib.cm as cm\n",
    "\n",
    "import albumentations as A\n",
    "from albumentations.pytorch import ToTensorV2\n",
    "import cv2\n",
    "import itertools\n",
    "\n",
    "import time\n",
    "import tqdm\n",
    "import copy\n",
    "\n",
    "import torch\n",
    "import torchvision\n",
    "import torchvision.transforms as transforms\n",
    "import torch.nn as nn\n",
    "import torch.nn.functional as F\n",
    "import torch.optim as optim\n",
    "import torchvision.models as models\n",
    "from torch.utils.data import Dataset\n",
    "\n",
    "import PIL\n",
    "import joblib\n",
    "import json\n",
    "\n",
    "# import mysgd"
   ]
  },
  {
   "cell_type": "markdown",
   "metadata": {},
   "source": [
    "## Datasets and DataLoaders"
   ]
  },
  {
   "cell_type": "code",
   "execution_count": 2,
   "metadata": {
    "ExecuteTime": {
     "end_time": "2021-04-13T01:07:18.867531Z",
     "start_time": "2021-04-13T01:07:18.858601Z"
    },
    "code_folding": [
     0
    ]
   },
   "outputs": [],
   "source": [
    "# Load data\n",
    "def load_data(fname):\n",
    "    \"\"\"\n",
    "    input (str or path): name of the folder with the data.\n",
    "    This function reads the data, transforms it to tensors, and makes it\n",
    "    global.\n",
    "    \"\"\"\n",
    "    global xtrain, xvalid, xtest, xtrain_valid, ytrain, yvalid, ytest, ytrain_valid\n",
    "# \n",
    "    df = pd.read_csv(os.path.join(fname, 'xtrain.csv'), index_col=False, header=None)\n",
    "    xtrain = torch.tensor(df.values).float()\n",
    "    df = pd.read_csv(os.path.join(fname, 'xvalid.csv'), index_col=False, header=None)\n",
    "    xvalid = torch.tensor(df.values).float()\n",
    "    df = pd.read_csv(os.path.join(fname, 'xtest.csv'), index_col=False, header=None)\n",
    "    xtest = torch.tensor(df.values).float()\n",
    "    df = pd.read_csv(os.path.join(fname, 'xtrain_valid.csv'), index_col=False, header=None)\n",
    "    xtrain_valid = torch.tensor(df.values).float()\n",
    "# \n",
    "    df = pd.read_csv(os.path.join(fname, 'ytrain.csv'), index_col=False, header=None)\n",
    "    ytrain = torch.tensor(df.values).long()\n",
    "    df = pd.read_csv(os.path.join(fname, 'yvalid.csv'), index_col=False, header=None)\n",
    "    yvalid = torch.tensor(df.values).long()\n",
    "    df = pd.read_csv(os.path.join(fname, 'ytest.csv'), index_col=False, header=None)\n",
    "    ytest = torch.tensor(df.values).long()\n",
    "    df = pd.read_csv(os.path.join(fname, 'ytrain_valid.csv'), index_col=False, header=None)\n",
    "    ytrain_valid = torch.tensor(df.values).long()"
   ]
  },
  {
   "cell_type": "code",
   "execution_count": 3,
   "metadata": {
    "ExecuteTime": {
     "end_time": "2021-04-13T01:07:21.254989Z",
     "start_time": "2021-04-13T01:07:21.250272Z"
    },
    "code_folding": [
     0
    ]
   },
   "outputs": [],
   "source": [
    "# Transform DataFrame to Tensor\n",
    "def df_to_tensor():\n",
    "    \"\"\"\n",
    "    This function transforms DataFrames to tensors and makes them global.\n",
    "    \"\"\"\n",
    "    global xtrain, xvalid, xtest, ytrain, yvalid, ytest\n",
    "# \n",
    "    xtrain = torch.tensor(xtrain.values).float()\n",
    "    xvalid = torch.tensor(xvalid.values).float()\n",
    "    xtest = torch.tensor(xtest.values).float()\n",
    "# \n",
    "    ytrain = torch.tensor(ytrain.values).long()\n",
    "    yvalid = torch.tensor(yvalid.values).long()\n",
    "    ytest = torch.tensor(ytest.values).long()"
   ]
  },
  {
   "cell_type": "markdown",
   "metadata": {},
   "source": [
    "* ### Read and Clean Data"
   ]
  },
  {
   "cell_type": "code",
   "execution_count": 4,
   "metadata": {
    "ExecuteTime": {
     "end_time": "2021-04-13T01:07:26.239394Z",
     "start_time": "2021-04-13T01:07:26.030733Z"
    },
    "code_folding": []
   },
   "outputs": [],
   "source": [
    "# Read X and y\n",
    "X = pd.read_csv('dataset_13LungCancer/GSE137140_gene_profile.csv', index_col=0)\n",
    "dfy = pd.read_csv('dataset_13LungCancer/GSE137140_output.csv', index_col=1)"
   ]
  },
  {
   "cell_type": "code",
   "execution_count": 5,
   "metadata": {
    "ExecuteTime": {
     "end_time": "2021-04-13T01:07:28.221902Z",
     "start_time": "2021-04-13T01:07:28.190970Z"
    },
    "code_folding": []
   },
   "outputs": [],
   "source": [
    "# Clean missing values and output classes\n",
    "X.dropna(axis=1, how='any', inplace=True)\n",
    "\n",
    "indx = dfy.index[dfy['disease state:ch1'] == 'Lung cancer, post-operation']\n",
    "X.drop(axis='index', index=indx, inplace=True)\n",
    "dfy.drop(axis='index', index=indx, inplace=True)\n",
    "\n",
    "X.columns = X.columns.str.lower()\n",
    "cols_all = X.columns\n",
    "dfy.rename(columns={'disease state:ch1': 'disease_state'}, inplace=True)\n",
    "\n",
    "# Set target\n",
    "dfy.replace({'disease_state': {\"Lung cancer, pre-operation\": 1, \"Non-cancer control\": 0}}, inplace=True)\n",
    "y = pd.DataFrame(dfy['disease_state'])"
   ]
  },
  {
   "cell_type": "code",
   "execution_count": 6,
   "metadata": {
    "ExecuteTime": {
     "end_time": "2021-04-13T01:07:31.725969Z",
     "start_time": "2021-04-13T01:07:31.712143Z"
    },
    "code_folding": [
     0
    ]
   },
   "outputs": [
    {
     "name": "stdout",
     "output_type": "stream",
     "text": [
      "- Number of features: 228\n",
      "\n",
      "- Dataset shape: (3744, 228)\n",
      "\n",
      "- Missing (X) values: 0 points.\n",
      "- Missing (y) values: 0 points.\n",
      "\n",
      "- Class probabilities:\n",
      "  label = 1: 41.82692307692308%\n",
      "  label = 0: 58.17307692307692%\n",
      "\n"
     ]
    }
   ],
   "source": [
    "# Display data set info\n",
    "n_features = X.shape[1]\n",
    "print(\"- Number of features: {}\\n\".format(n_features))\n",
    "\n",
    "print(\"- Dataset shape: {}\\n\".format(X.shape))\n",
    "\n",
    "print(\"- Missing (X) values: {} points.\".format(X.isna().sum().sum()))\n",
    "print(\"- Missing (y) values: {} points.\\n\".format(y.isna().sum().sum()))\n",
    "\n",
    "print(\"- Class probabilities:\")\n",
    "print(\"  label = 1: {}%\".format(100*(y.iloc[:,0] == 1).sum()/len(y)))\n",
    "print(\"  label = 0: {}%\\n\".format(100*(y.iloc[:,0] == 0).sum()/len(y)))"
   ]
  },
  {
   "cell_type": "markdown",
   "metadata": {},
   "source": [
    "* ### Split and Save"
   ]
  },
  {
   "cell_type": "code",
   "execution_count": 7,
   "metadata": {
    "ExecuteTime": {
     "end_time": "2021-04-13T01:07:36.288349Z",
     "start_time": "2021-04-13T01:07:36.279523Z"
    },
    "code_folding": []
   },
   "outputs": [],
   "source": [
    "# # Random seeds for the splits\n",
    "# seed1 = torch.randint(0, 1000, (500,))\n",
    "# seed2 = torch.randint(1001, 2000, (500,))\n",
    "seed1 = pd.read_csv('seed1.csv', header=None).iloc[:,0].tolist()\n",
    "seed2 = pd.read_csv('seed2.csv', header=None).iloc[:,0].tolist()"
   ]
  },
  {
   "cell_type": "code",
   "execution_count": 8,
   "metadata": {
    "ExecuteTime": {
     "end_time": "2021-04-13T01:07:37.907922Z",
     "start_time": "2021-04-13T01:07:37.904414Z"
    },
    "code_folding": [
     0
    ]
   },
   "outputs": [],
   "source": [
    "# Split data (function)\n",
    "def split_data(dfX, dfy, seed1=0, seed2=42):\n",
    "    global xtrain, xvalid, xtest, xtrain_valid, ytrain, yvalid, ytest, ytrain_valid\n",
    "    xtrain_valid, xtest, ytrain_valid, ytest = train_test_split(dfX, dfy, \n",
    "                                                      test_size=0.2, \n",
    "                                                      random_state=seed1)\n",
    "    xtrain, xvalid, ytrain, yvalid = train_test_split(xtrain_valid, ytrain_valid, \n",
    "                                                      test_size=0.25, \n",
    "                                                      random_state=seed2)"
   ]
  },
  {
   "cell_type": "code",
   "execution_count": 10,
   "metadata": {
    "ExecuteTime": {
     "end_time": "2021-03-03T08:29:48.057157Z",
     "start_time": "2021-03-03T08:29:45.288266Z"
    },
    "code_folding": [
     0
    ]
   },
   "outputs": [
    {
     "name": "stdout",
     "output_type": "stream",
     "text": [
      "- xtrain size: (2246, 228)\n",
      "- xvalid size: (749, 228)\n",
      "- xtest size: (749, 228)\n",
      "- xtrain_valid size: (2995, 228)\n",
      "\n"
     ]
    }
   ],
   "source": [
    "# Set (xtrain, ytrain), (xvalid, yvalid), and (xtest, ytest)\n",
    "data_folder = 'dataset_13LungCancer'\n",
    "split_data(X, y)\n",
    "\n",
    "# Save data on disk\n",
    "xtrain.to_csv(os.path.join(data_folder, 'xtrain.csv'), index=False, header=False)\n",
    "xvalid.to_csv(os.path.join(data_folder, 'xvalid.csv'), index=False, header=False)\n",
    "xtest.to_csv(os.path.join(data_folder, 'xtest.csv'), index=False, header=False)\n",
    "xtrain_valid.to_csv(os.path.join(data_folder, 'xtrain_valid.csv'), index=False, header=False)\n",
    "X.to_csv(os.path.join(data_folder, 'X.csv'), index=False, header=False)\n",
    "\n",
    "ytrain.to_csv(os.path.join(data_folder, 'ytrain.csv'), index=False, header=False)\n",
    "yvalid.to_csv(os.path.join(data_folder, 'yvalid.csv'), index=False, header=False)\n",
    "ytest.to_csv(os.path.join(data_folder, 'ytest.csv'), index=False, header=False)\n",
    "ytrain_valid.to_csv(os.path.join(data_folder, 'ytrain_valid.csv'), index=False, header=False)\n",
    "y.to_csv(os.path.join(data_folder, 'y.csv'), index=False, header=False)\n",
    "\n",
    "# \n",
    "print(\"- xtrain size: {}\".format(xtrain.shape))\n",
    "print(\"- xvalid size: {}\".format(xvalid.shape))\n",
    "print(\"- xtest size: {}\".format(xtest.shape))\n",
    "print(\"- xtrain_valid size: {}\\n\".format(xtrain_valid.shape))"
   ]
  },
  {
   "cell_type": "markdown",
   "metadata": {},
   "source": [
    "* ### Create Datasets and DataLoaders"
   ]
  },
  {
   "cell_type": "code",
   "execution_count": 11,
   "metadata": {
    "ExecuteTime": {
     "end_time": "2021-03-03T08:30:15.034712Z",
     "start_time": "2021-03-03T08:30:15.031182Z"
    },
    "code_folding": [
     0
    ]
   },
   "outputs": [],
   "source": [
    "# Create Dataset class\n",
    "class MyDataset(Dataset):\n",
    "    '''\n",
    "    Input:\n",
    "        xtensor (torch tensor): data points; dimension [# of points, # of features]\n",
    "        ytensor (torch tensor): y values; dimension [# of points]\n",
    "    Output:\n",
    "        the usual...\n",
    "    '''\n",
    "    def __init__(self, xtensor, ytensor):\n",
    "        self.x = xtensor\n",
    "        self.y = ytensor\n",
    "    \n",
    "    def __len__(self):\n",
    "        return len(self.y)\n",
    "\n",
    "    def __getitem__(self, idx):\n",
    "        return self.x[idx,:], self.y[idx], idx"
   ]
  },
  {
   "cell_type": "code",
   "execution_count": 12,
   "metadata": {
    "ExecuteTime": {
     "end_time": "2021-03-03T08:30:17.295940Z",
     "start_time": "2021-03-03T08:30:17.291886Z"
    },
    "code_folding": [
     0
    ]
   },
   "outputs": [],
   "source": [
    "# Instantiate DataLoaders\n",
    "def make_DataLoaders(batch_size=100000, num_workers = 0):\n",
    "    \"\"\"\n",
    "    This function instantiate and makes global DataLoaders for training, \n",
    "    validation, and testing datasets. \n",
    "    \"\"\"\n",
    "# .create datasets\n",
    "    train_dataset = MyDataset(xtrain, ytrain)\n",
    "    valid_dataset = MyDataset(xvalid, yvalid)\n",
    "    test_dataset = MyDataset(xtest, ytest)\n",
    "    \n",
    "# .make dataloaders global variables\n",
    "    global train_dataloader, valid_dataloader, test_dataloader\n",
    "    train_dataloader = torch.utils.data.DataLoader(train_dataset, \n",
    "                                                   batch_size = batch_size,\n",
    "                                                   shuffle = True, \n",
    "                                                   num_workers=num_workers)\n",
    "    valid_dataloader = torch.utils.data.DataLoader(valid_dataset, \n",
    "                                                   batch_size = batch_size,\n",
    "                                                   shuffle = True, \n",
    "                                                   num_workers=num_workers)\n",
    "    test_dataloader = torch.utils.data.DataLoader(test_dataset, \n",
    "                                                   batch_size = batch_size,\n",
    "                                                   shuffle = False, \n",
    "                                                   num_workers=num_workers)\n",
    "    print('- train minibatches =', len(train_dataloader))\n",
    "    print('- valid minibatches =', len(valid_dataloader))\n",
    "    print('- test minibatches =', len(test_dataloader))"
   ]
  },
  {
   "cell_type": "code",
   "execution_count": 13,
   "metadata": {
    "ExecuteTime": {
     "end_time": "2021-03-03T08:30:19.185503Z",
     "start_time": "2021-03-03T08:30:19.181739Z"
    },
    "code_folding": [
     0
    ],
    "scrolled": true
   },
   "outputs": [
    {
     "name": "stdout",
     "output_type": "stream",
     "text": [
      "-Type of precessor to be used: 'cpu'\n"
     ]
    }
   ],
   "source": [
    "# Select type of processor to be used\n",
    "device = torch.device(\"cuda\" if torch.cuda.is_available() else \"cpu\")\n",
    "\n",
    "if device == torch.device('cuda'):\n",
    "    print(\"-Type of precessor to be used: 'gpu'\")\n",
    "    !nvidia-smi\n",
    "else:\n",
    "    print(\"-Type of precessor to be used: 'cpu'\")\n",
    "    \n",
    "# Choose device\n",
    "# torch.cuda.set_device(6)"
   ]
  },
  {
   "cell_type": "markdown",
   "metadata": {},
   "source": [
    "## Optimizer and Loss Function"
   ]
  },
  {
   "cell_type": "code",
   "execution_count": 14,
   "metadata": {
    "ExecuteTime": {
     "end_time": "2021-03-03T08:30:22.570445Z",
     "start_time": "2021-03-03T08:30:22.567510Z"
    },
    "code_folding": [
     0
    ]
   },
   "outputs": [],
   "source": [
    "# Set up SGD optimizer with a constant learning rate\n",
    "def setup_SGD(model, lr):\n",
    "    \"\"\"\n",
    "    Args:\n",
    "        model (nn.Module class): model previously instantiated\n",
    "        lr (float): learning rate\n",
    "    Returns:\n",
    "        instantiated optimizer\n",
    "    \"\"\"\n",
    "    return optim.SGD(model.parameters(), lr=lr, momentum=0,  weight_decay=0.0)"
   ]
  },
  {
   "cell_type": "code",
   "execution_count": 15,
   "metadata": {
    "ExecuteTime": {
     "end_time": "2021-03-03T08:30:25.742804Z",
     "start_time": "2021-03-03T08:30:25.739859Z"
    },
    "code_folding": [
     0
    ]
   },
   "outputs": [],
   "source": [
    "# Set up Adam optimizer with a constant learning rate\n",
    "def setup_ADAM(model, lr):\n",
    "    \"\"\"\n",
    "    Args:\n",
    "        model (nn.Module class): model previously instantiated\n",
    "        lr (float): learning rate\n",
    "    Returns:\n",
    "        instantiated optimizer\n",
    "    \"\"\"\n",
    "    return optim.Adam(model.parameters(), lr=lr,  weight_decay=0.0)"
   ]
  },
  {
   "cell_type": "code",
   "execution_count": 16,
   "metadata": {
    "ExecuteTime": {
     "end_time": "2021-03-03T08:30:27.598067Z",
     "start_time": "2021-03-03T08:30:27.595816Z"
    },
    "code_folding": [
     0
    ]
   },
   "outputs": [],
   "source": [
    "# Type of Loss Function\n",
    "loss_type = nn.CrossEntropyLoss(reduction='mean')"
   ]
  },
  {
   "cell_type": "markdown",
   "metadata": {},
   "source": [
    "## Train model"
   ]
  },
  {
   "cell_type": "code",
   "execution_count": 17,
   "metadata": {
    "ExecuteTime": {
     "end_time": "2021-03-03T08:30:30.512306Z",
     "start_time": "2021-03-03T08:30:30.509921Z"
    },
    "code_folding": [
     0
    ]
   },
   "outputs": [],
   "source": [
    "# PyTorch sign function\n",
    "def sgn(x):\n",
    "    return torch.sign(x)"
   ]
  },
  {
   "cell_type": "code",
   "execution_count": 18,
   "metadata": {
    "ExecuteTime": {
     "end_time": "2021-03-03T08:30:32.458565Z",
     "start_time": "2021-03-03T08:30:32.455352Z"
    },
    "code_folding": [
     0
    ]
   },
   "outputs": [],
   "source": [
    "# Number of correct predictions in a multi-class classification problem\n",
    "def accuracy_multiclass(output, target):\n",
    "    \"\"\"\n",
    "    Args:\n",
    "        output (torch tensor): 2D tensor of shape (batch_size, n_classes) resulting \n",
    "                               of running the model.\n",
    "        target (torch tensor): 1D tensor with the corresponding class for each image.\n",
    "    Returns:\n",
    "        correct (int): number of correct predictions.\n",
    "    \"\"\"\n",
    "    correct = 0\n",
    "    prob_softmax = nn.Softmax(dim=1)\n",
    "    _, predictions = torch.max(prob_softmax(output), dim=1)\n",
    "    correct = (predictions == target).sum(dim=0)\n",
    "    return correct"
   ]
  },
  {
   "cell_type": "code",
   "execution_count": 19,
   "metadata": {
    "ExecuteTime": {
     "end_time": "2021-03-03T08:30:34.203199Z",
     "start_time": "2021-03-03T08:30:34.199339Z"
    },
    "code_folding": [
     0
    ]
   },
   "outputs": [],
   "source": [
    "# Compute accuracy\n",
    "def dataset_accuracy(data_loader, model, device):\n",
    "    \"\"\"\n",
    "    Args:\n",
    "        data_loader: torch DataLoader.\n",
    "        model:       torch model previously trained.\n",
    "        device: 'gpu' or 'cpu'.\n",
    "    Returns:\n",
    "        Accuracy for the given data set.\n",
    "    \"\"\"\n",
    "# Initialize some local variables\n",
    "    correct_total = 0\n",
    "    n_points = 0\n",
    "    \n",
    "# Put model in evaluation mode\n",
    "    model.eval()\n",
    "\n",
    "# Loop over mini batches (no gradients need to be computed)\n",
    "    with torch.no_grad():\n",
    "        for i, (xx, yy, _) in enumerate(data_loader, start=1):\n",
    "            batch_size = len(yy)\n",
    "            xx = xx.to(device)\n",
    "            yy = yy.to(device)\n",
    "            yy_pred = model(xx)\n",
    "        \n",
    "# .compute accuracy (target size must be [batch_size])\n",
    "            correct = accuracy_multiclass(yy_pred, yy.view(-1))\n",
    "            correct_total += correct\n",
    "        \n",
    "# .number of points used after the ith mini-batch\n",
    "            n_points += batch_size\n",
    "#\n",
    "    return correct_total.item()/n_points"
   ]
  },
  {
   "cell_type": "code",
   "execution_count": 97,
   "metadata": {
    "ExecuteTime": {
     "end_time": "2021-03-04T16:43:37.904602Z",
     "start_time": "2021-03-04T16:43:37.886562Z"
    },
    "code_folding": [
     0,
     16,
     69,
     124,
     143,
     148
    ]
   },
   "outputs": [],
   "source": [
    "# Train model (classification)\n",
    "def train_model(lr, features, layer_sizes, lock_flag=False, epochs=3000, \n",
    "                early_stop=300, fname='model'):\n",
    "    \"\"\"\n",
    "    \"\"\"\n",
    "# Set seed of random generators (for reproducibility purposes)\n",
    "    torch.manual_seed(42)\n",
    "\n",
    "# Instantiate Model and Optimizer\n",
    "    model = MyNet(features, layer_sizes)\n",
    "    if lock_flag == True:\n",
    "        model.load_state_dict(torch.load(model_forward_name))\n",
    "    model = model.to(device)\n",
    "    optimizer = setup_SGD(model, lr)\n",
    "\n",
    "# LOCKDOWN SECTION 1:\n",
    "    if lock_flag == True:\n",
    "        n_iterations = epochs*len(train_dataloader)\n",
    "        layers = get_lockdown_layers(model)\n",
    "        t0 = []\n",
    "        t0_initial = []\n",
    "        sign_w0 = []\n",
    "        l = 0\n",
    "        for layer in layers:\n",
    "            ww = layer.weight.detach()\n",
    "            t0.append(abs(ww).sum())\n",
    "            sign_w0.append(torch.sign(ww))\n",
    "            t0_initial.append(t0[l])\n",
    "            l += 1\n",
    "    \n",
    "# DataFrames to store train/valid loss function\n",
    "    train_loss = pd.DataFrame(columns=['iteration', 'loss'])\n",
    "    valid_loss = pd.DataFrame(columns=['iteration', 'loss'])\n",
    "\n",
    "# Initialize some local variables...\n",
    "    iteration = 0\n",
    "    best_iter = 0\n",
    "    best_loss = 1e30\n",
    "    stop_flag = 0\n",
    "\n",
    "# Loop Over Number of Epochs\n",
    "    iterator = tqdm.notebook.tqdm(range(1, epochs + 1), desc='Epochs loop')\n",
    "    for n_epoch in iterator:\n",
    "# \n",
    "# .Loop Over Mini-batches\n",
    "        for ibatch, (xx, yy, _) in enumerate(train_dataloader, start=1):\n",
    "#\n",
    "# ..Compute Validation Loss\n",
    "            model_dict = copy.deepcopy(model.state_dict())\n",
    "            epoch_loss = valid_epoch(valid_dataloader, model, loss_type, device)\n",
    "            valid_loss = valid_loss.append({'iteration': iteration + 1, \n",
    "                                            'loss': epoch_loss}, \n",
    "                                            ignore_index=True)\n",
    "# ..Train Mini-batch:\n",
    "            model.train()\n",
    "            xx = xx.to(device)\n",
    "            yy = yy.to(device)\n",
    "            yy_pred = model(xx)\n",
    "\n",
    "# ..Compute Train Loss\n",
    "            loss = loss_type(yy_pred, yy.view(-1))\n",
    "            train_loss = train_loss.append({'iteration': iteration + 1,\n",
    "                                            'loss': loss.item()}, \n",
    "                                           ignore_index=True)\n",
    "# ..Backward Propagation\n",
    "            optimizer.zero_grad()\n",
    "            loss.backward()\n",
    "\n",
    "# ..LOCKDOWN SECTION 2:\n",
    "            if lock_flag == True:\n",
    "                l = 0\n",
    "                for layer in layers:\n",
    "# ...weights and gradients (2D)\n",
    "                    w2d = layer.weight.detach()\n",
    "                    g2d = layer.weight.grad.detach()\n",
    "                    w_shape = g2d.size()\n",
    "\n",
    "# ...flattens weights and compute P(W)\n",
    "                    w1d = torch.flatten(w2d)\n",
    "                    Pw = abs(w1d).sum()\n",
    "\n",
    "# ...find g=-grads, 'gamma', and sort gamma (in descending order)\n",
    "                    p1d = 1.0\n",
    "                    g1d = -torch.flatten(g2d)\n",
    "                    gamma = abs(g1d)/(p1d + 1e-10)\n",
    "                    _, indx1d = torch.sort(gamma, descending=True)\n",
    "\n",
    "# ...Modify Gradients Accordingly:\n",
    "                    grmin = torch.zeros(w_shape).fill_(1e-1).to(device)\n",
    "                    layer.weight.grad = torch.sign(g2d)*torch.max(abs(g2d), grmin)\n",
    "                    gr1d = torch.flatten(layer.weight.grad.detach())\n",
    "                    pjsj = lr*abs(gr1d[indx1d])\n",
    "\n",
    "# ...sign(g) != sign(w) elements\n",
    "                    mask_ds = (sgn(g1d[indx1d]) != sgn(w1d[indx1d])) & (w1d[indx1d] != 0.0)\n",
    "                    DS_sum = pjsj[mask_ds].sum()\n",
    "                    pjsj[mask_ds] = 0.0\n",
    "                    mask_dsc = ~mask_ds\n",
    "                    indx1d_dsc = indx1d[mask_dsc]\n",
    "\n",
    "# ...sum(pjsj), j={1,J-1}\n",
    "                    left_side = torch.cumsum(pjsj, dim=0) - pjsj\n",
    "                    pjsj_dsc = torch.zeros(len(g1d)).to(device)\n",
    "                    pjsj_dsc[:] = pjsj[:]\n",
    "\n",
    "# ...sum(pjsj) + Penalty, j={J+1,nJ}\n",
    "                    mask_w0 = (w1d[indx1d] == 0.0)\n",
    "                    pjsj_dsc[mask_w0] = 0.0\n",
    "                    right_side = pjsj_dsc.sum() - torch.cumsum(pjsj_dsc, dim=0) + DS_sum - Pw + t0[l]\n",
    "\n",
    "# ...delta_j and new steps\n",
    "                    ds = right_side - left_side\n",
    "                    mask_w0 = (~mask_w0).float()\n",
    "                    pjsj_new = -mask_w0**(1-sgn(ds))*sgn(g1d[indx1d])*sgn(ds)*torch.min(pjsj, abs(ds))\n",
    "\n",
    "# ...modify gradients\n",
    "                    indx2d = np.unravel_index(indx1d_dsc.cpu(), shape=w_shape)\n",
    "                    layer.weight.grad[indx2d] = pjsj_new[mask_dsc]/lr\n",
    "                    l = l + 1\n",
    "\n",
    "# ..Update Weights \n",
    "            optimizer.step()\n",
    "\n",
    "# ..LOCKDOWN SECTION 3:\n",
    "            if lock_flag == True:\n",
    "# ...Set Weights That Change Signs to Zero\n",
    "                l = 0\n",
    "                for layer in layers:\n",
    "                    ww = layer.weight.detach()\n",
    "                    sign_w = sgn(ww)\n",
    "                    mask0 = ((sign_w != sign_w0[l]) & (sign_w0[l] != 0.0))\n",
    "                    with torch.no_grad():\n",
    "                        layer.weight[mask0] = 0.0\n",
    "                    sign_w0[l] = sign_w\n",
    "                    \n",
    "# ...Tighten Constraint\n",
    "                    if iteration%step == 0:\n",
    "                        t0[l] = (1.0 - iteration/n_iterations)*t0_initial[l]\n",
    "                    l = l + 1\n",
    "                    \n",
    "\n",
    "# ..Early Stop\n",
    "            batch_loss = valid_loss.iloc[iteration, 1]\n",
    "            if batch_loss < best_loss:\n",
    "                torch.save(model_dict, fname+\"_best.pth\")\n",
    "                best_loss = batch_loss\n",
    "                best_iter = iteration\n",
    "            else:\n",
    "                if iteration - best_iter >= early_stop:\n",
    "                    stop_flag = 1\n",
    "                    break\n",
    "# \n",
    "            iteration += 1\n",
    "# \n",
    "        if stop_flag == 1:\n",
    "            break\n",
    "# \n",
    "    if lock_flag == False:\n",
    "        torch.save(model_dict, fname+\"_last.pth\")\n",
    "    print(\"Summary:\")\n",
    "    print(\"-learning rate = {:.5f}\".format(lr))\n",
    "    if stop_flag == 1:\n",
    "        print('-path 1 has early stopped:')\n",
    "        print(' {:d} iterations with no improvement in train loss.'.format(early_stop))\n",
    "    print(\"-Model saved after iteration {:d}.\".format(best_iter + 1))\n",
    "    print(\"-Train.  Loss={:.7f}\".format(train_loss.iloc[best_iter, 1]))\n",
    "    print(\"-Valid.  Loss={:.7f}\".format(valid_loss.iloc[best_iter, 1]))\n",
    "# \n",
    "    return train_loss, valid_loss"
   ]
  },
  {
   "cell_type": "code",
   "execution_count": 22,
   "metadata": {
    "ExecuteTime": {
     "end_time": "2021-03-03T08:30:44.698285Z",
     "start_time": "2021-03-03T08:30:44.694467Z"
    },
    "code_folding": [
     0
    ]
   },
   "outputs": [],
   "source": [
    "# Evaluate one epoch (classification)\n",
    "def valid_epoch(data_loader, model, loss_type, device):\n",
    "    \"\"\"\n",
    "    Args:\n",
    "        data_loader: torch DataLoader.\n",
    "        model:       torch model previously trained.\n",
    "        device: 'gpu' or 'cpu'.\n",
    "    Returns:\n",
    "        Values of Loss Function after one epoch.\n",
    "    \"\"\"\n",
    "# Initialize some local variables\n",
    "    loss_fun = 0.\n",
    "    n_points = 0\n",
    "    \n",
    "# Put model in evaluation mode\n",
    "    model.eval()\n",
    "\n",
    "# Loop over mini batches (no gradients need to be computed)\n",
    "    with torch.no_grad():\n",
    "        for i, (xx, yy, _) in enumerate(data_loader, start=1):\n",
    "            xx = xx.to(device)\n",
    "            yy = yy.to(device)\n",
    "            yy_pred = model(xx)\n",
    "        \n",
    "# .compute loss function\n",
    "            batch_size = len(yy)\n",
    "            loss = loss_type(yy_pred, yy.view(-1))\n",
    "            loss_fun += batch_size*loss.item()\n",
    "        \n",
    "# .number of points used after the ith mini-batch\n",
    "            n_points += batch_size\n",
    "#\n",
    "    return loss_fun/n_points"
   ]
  },
  {
   "cell_type": "markdown",
   "metadata": {},
   "source": [
    "## Results:"
   ]
  },
  {
   "cell_type": "markdown",
   "metadata": {
    "ExecuteTime": {
     "end_time": "2021-01-11T21:44:23.113884Z",
     "start_time": "2021-01-11T21:44:23.111235Z"
    }
   },
   "source": [
    "* ### Lasso"
   ]
  },
  {
   "cell_type": "code",
   "execution_count": 9,
   "metadata": {
    "ExecuteTime": {
     "end_time": "2021-04-13T01:07:52.089261Z",
     "start_time": "2021-04-13T01:07:51.748631Z"
    },
    "code_folding": [
     0
    ]
   },
   "outputs": [],
   "source": [
    "# Load data\n",
    "load_data('dataset_13LungCancer')\n",
    "\n",
    "# transform tensors to NumPy arrays\n",
    "xtrain = xtrain.numpy()\n",
    "xvalid = xvalid.numpy()\n",
    "xtest = xtest.numpy()\n",
    "\n",
    "ytrain = ytrain.numpy()\n",
    "yvalid = yvalid.numpy()\n",
    "ytest = ytest.numpy()"
   ]
  },
  {
   "cell_type": "code",
   "execution_count": 10,
   "metadata": {
    "ExecuteTime": {
     "end_time": "2021-04-13T01:07:53.782190Z",
     "start_time": "2021-04-13T01:07:53.770609Z"
    },
    "code_folding": [
     0
    ]
   },
   "outputs": [],
   "source": [
    "# Normalize data sets\n",
    "scaler = StandardScaler()\n",
    "scaler.fit(xtrain)\n",
    "xtrain = scaler.transform(xtrain)\n",
    "xvalid = scaler.transform(xvalid)\n",
    "xtest  = scaler.transform(xtest)"
   ]
  },
  {
   "cell_type": "code",
   "execution_count": 11,
   "metadata": {
    "ExecuteTime": {
     "end_time": "2021-04-13T01:07:58.073949Z",
     "start_time": "2021-04-13T01:07:58.068821Z"
    },
    "code_folding": [
     0
    ]
   },
   "outputs": [],
   "source": [
    "# Grid search space\n",
    "grid_C = np.geomspace(1e-2, 1e3, num=1000)\n",
    "df_grid_loss = pd.DataFrame(columns = ['C', 'valid_loss', 'valid_accu'], \n",
    "                            index=range(len(grid_C)))\n",
    "\n",
    "params = {'penalty': 'l1', \n",
    "          'solver': 'liblinear',\n",
    "          'max_iter': 10000,\n",
    "          'random_state': 42,\n",
    "          'warm_start': True}"
   ]
  },
  {
   "cell_type": "code",
   "execution_count": 12,
   "metadata": {
    "ExecuteTime": {
     "end_time": "2021-04-13T01:09:21.718746Z",
     "start_time": "2021-04-13T01:08:05.677019Z"
    },
    "code_folding": [
     0
    ],
    "scrolled": true
   },
   "outputs": [
    {
     "data": {
      "application/vnd.jupyter.widget-view+json": {
       "model_id": "03fb93fc106743c4955c77a262376268",
       "version_major": 2,
       "version_minor": 0
      },
      "text/plain": [
       "C-grid loop:   0%|          | 0/1000 [00:00<?, ?it/s]"
      ]
     },
     "metadata": {},
     "output_type": "display_data"
    },
    {
     "name": "stdout",
     "output_type": "stream",
     "text": [
      "C=0.01000 | valid_logloss=0.16766,  valid_accu=0.96262\n",
      "C=0.01012 | valid_logloss=0.16674,  valid_accu=0.96262\n",
      "C=0.01023 | valid_logloss=0.16568,  valid_accu=0.96262\n",
      "C=0.01035 | valid_logloss=0.16489,  valid_accu=0.96395\n",
      "C=0.01047 | valid_logloss=0.16374,  valid_accu=0.96395\n",
      "C=0.01059 | valid_logloss=0.16289,  valid_accu=0.96529\n",
      "C=0.01072 | valid_logloss=0.16186,  valid_accu=0.96529\n",
      "C=0.01084 | valid_logloss=0.16076,  valid_accu=0.96529\n",
      "C=0.01097 | valid_logloss=0.16000,  valid_accu=0.96395\n",
      "C=0.01109 | valid_logloss=0.15906,  valid_accu=0.96395\n",
      "C=0.01122 | valid_logloss=0.15795,  valid_accu=0.96395\n",
      "C=0.01135 | valid_logloss=0.15738,  valid_accu=0.96395\n",
      "C=0.01148 | valid_logloss=0.15655,  valid_accu=0.96395\n",
      "C=0.01162 | valid_logloss=0.15560,  valid_accu=0.96395\n",
      "C=0.01175 | valid_logloss=0.15464,  valid_accu=0.96395\n",
      "C=0.01189 | valid_logloss=0.15374,  valid_accu=0.96395\n",
      "C=0.01202 | valid_logloss=0.15278,  valid_accu=0.96395\n",
      "C=0.01216 | valid_logloss=0.15199,  valid_accu=0.96395\n",
      "C=0.01231 | valid_logloss=0.15117,  valid_accu=0.96395\n",
      "C=0.01245 | valid_logloss=0.15025,  valid_accu=0.96395\n",
      "C=0.01259 | valid_logloss=0.14942,  valid_accu=0.96395\n",
      "C=0.01274 | valid_logloss=0.14869,  valid_accu=0.96662\n",
      "C=0.01289 | valid_logloss=0.14808,  valid_accu=0.96662\n",
      "C=0.01304 | valid_logloss=0.14703,  valid_accu=0.96662\n",
      "C=0.01319 | valid_logloss=0.14623,  valid_accu=0.96662\n",
      "C=0.01334 | valid_logloss=0.14555,  valid_accu=0.96662\n",
      "C=0.01349 | valid_logloss=0.14478,  valid_accu=0.96796\n",
      "C=0.01365 | valid_logloss=0.14379,  valid_accu=0.96796\n",
      "C=0.01381 | valid_logloss=0.14303,  valid_accu=0.96796\n",
      "C=0.01397 | valid_logloss=0.14228,  valid_accu=0.96796\n",
      "C=0.01413 | valid_logloss=0.14170,  valid_accu=0.96796\n",
      "C=0.01429 | valid_logloss=0.14092,  valid_accu=0.96796\n",
      "C=0.01446 | valid_logloss=0.14003,  valid_accu=0.96796\n",
      "C=0.01463 | valid_logloss=0.13930,  valid_accu=0.96929\n",
      "C=0.01480 | valid_logloss=0.13871,  valid_accu=0.96796\n",
      "C=0.01497 | valid_logloss=0.13797,  valid_accu=0.96929\n",
      "C=0.01514 | valid_logloss=0.13720,  valid_accu=0.96929\n",
      "C=0.01532 | valid_logloss=0.13645,  valid_accu=0.96929\n",
      "C=0.01549 | valid_logloss=0.13552,  valid_accu=0.96929\n",
      "C=0.01567 | valid_logloss=0.13507,  valid_accu=0.96929\n",
      "C=0.01586 | valid_logloss=0.13412,  valid_accu=0.96929\n",
      "C=0.01604 | valid_logloss=0.13346,  valid_accu=0.96929\n",
      "C=0.01623 | valid_logloss=0.13271,  valid_accu=0.96929\n",
      "C=0.01641 | valid_logloss=0.13195,  valid_accu=0.96929\n",
      "C=0.01660 | valid_logloss=0.13136,  valid_accu=0.96929\n",
      "C=0.01680 | valid_logloss=0.13057,  valid_accu=0.96929\n",
      "C=0.01699 | valid_logloss=0.12958,  valid_accu=0.96929\n",
      "C=0.01719 | valid_logloss=0.12904,  valid_accu=0.96929\n",
      "C=0.01739 | valid_logloss=0.12828,  valid_accu=0.96929\n",
      "C=0.01759 | valid_logloss=0.12755,  valid_accu=0.96929\n",
      "C=0.01779 | valid_logloss=0.12698,  valid_accu=0.96929\n",
      "C=0.01800 | valid_logloss=0.12636,  valid_accu=0.96929\n",
      "C=0.01821 | valid_logloss=0.12545,  valid_accu=0.96929\n",
      "C=0.01842 | valid_logloss=0.12505,  valid_accu=0.96929\n",
      "C=0.01863 | valid_logloss=0.12422,  valid_accu=0.96929\n",
      "C=0.01885 | valid_logloss=0.12350,  valid_accu=0.96929\n",
      "C=0.01907 | valid_logloss=0.12281,  valid_accu=0.96929\n",
      "C=0.01929 | valid_logloss=0.12215,  valid_accu=0.96929\n",
      "C=0.01951 | valid_logloss=0.12156,  valid_accu=0.96929\n",
      "C=0.01974 | valid_logloss=0.12103,  valid_accu=0.96929\n",
      "C=0.01997 | valid_logloss=0.12001,  valid_accu=0.96929\n",
      "C=0.02020 | valid_logloss=0.11925,  valid_accu=0.96929\n",
      "C=0.02043 | valid_logloss=0.11869,  valid_accu=0.96929\n",
      "C=0.02067 | valid_logloss=0.11794,  valid_accu=0.96929\n",
      "C=0.02091 | valid_logloss=0.11719,  valid_accu=0.96929\n",
      "C=0.02115 | valid_logloss=0.11659,  valid_accu=0.96929\n",
      "C=0.02140 | valid_logloss=0.11590,  valid_accu=0.97063\n",
      "C=0.02164 | valid_logloss=0.11539,  valid_accu=0.97063\n",
      "C=0.02189 | valid_logloss=0.11454,  valid_accu=0.97063\n",
      "C=0.02215 | valid_logloss=0.11373,  valid_accu=0.97063\n",
      "C=0.02241 | valid_logloss=0.11290,  valid_accu=0.97063\n",
      "C=0.02266 | valid_logloss=0.11232,  valid_accu=0.97063\n",
      "C=0.02293 | valid_logloss=0.11148,  valid_accu=0.97063\n",
      "C=0.02319 | valid_logloss=0.11096,  valid_accu=0.97063\n",
      "C=0.02346 | valid_logloss=0.11022,  valid_accu=0.97196\n",
      "C=0.02373 | valid_logloss=0.10968,  valid_accu=0.97196\n",
      "C=0.02401 | valid_logloss=0.10876,  valid_accu=0.97196\n",
      "C=0.02429 | valid_logloss=0.10795,  valid_accu=0.97196\n",
      "C=0.02457 | valid_logloss=0.10727,  valid_accu=0.97196\n",
      "C=0.02485 | valid_logloss=0.10711,  valid_accu=0.97196\n",
      "C=0.02514 | valid_logloss=0.10606,  valid_accu=0.97196\n",
      "C=0.02543 | valid_logloss=0.10557,  valid_accu=0.97196\n",
      "C=0.02573 | valid_logloss=0.10493,  valid_accu=0.97196\n",
      "C=0.02603 | valid_logloss=0.10398,  valid_accu=0.97196\n",
      "C=0.02633 | valid_logloss=0.10354,  valid_accu=0.97196\n",
      "C=0.02663 | valid_logloss=0.10277,  valid_accu=0.97196\n",
      "C=0.02694 | valid_logloss=0.10204,  valid_accu=0.97196\n",
      "C=0.02725 | valid_logloss=0.10159,  valid_accu=0.97196\n",
      "C=0.02757 | valid_logloss=0.10093,  valid_accu=0.97196\n",
      "C=0.02789 | valid_logloss=0.10016,  valid_accu=0.97063\n",
      "C=0.02821 | valid_logloss=0.09962,  valid_accu=0.97063\n",
      "C=0.02854 | valid_logloss=0.09913,  valid_accu=0.97063\n",
      "C=0.02887 | valid_logloss=0.09853,  valid_accu=0.97063\n",
      "C=0.02921 | valid_logloss=0.09786,  valid_accu=0.97063\n",
      "C=0.02954 | valid_logloss=0.09733,  valid_accu=0.97063\n",
      "C=0.02989 | valid_logloss=0.09668,  valid_accu=0.97063\n",
      "C=0.03023 | valid_logloss=0.09613,  valid_accu=0.97063\n",
      "C=0.03058 | valid_logloss=0.09550,  valid_accu=0.97063\n",
      "C=0.03094 | valid_logloss=0.09497,  valid_accu=0.97063\n",
      "C=0.03130 | valid_logloss=0.09452,  valid_accu=0.97063\n",
      "C=0.03166 | valid_logloss=0.09370,  valid_accu=0.97063\n",
      "C=0.03203 | valid_logloss=0.09319,  valid_accu=0.97063\n",
      "C=0.03240 | valid_logloss=0.09284,  valid_accu=0.97063\n",
      "C=0.03277 | valid_logloss=0.09219,  valid_accu=0.97063\n",
      "C=0.03315 | valid_logloss=0.09169,  valid_accu=0.97063\n",
      "C=0.03354 | valid_logloss=0.09127,  valid_accu=0.97063\n",
      "C=0.03393 | valid_logloss=0.09057,  valid_accu=0.97063\n",
      "C=0.03432 | valid_logloss=0.09010,  valid_accu=0.97196\n",
      "C=0.03472 | valid_logloss=0.08958,  valid_accu=0.97196\n",
      "C=0.03512 | valid_logloss=0.08909,  valid_accu=0.97196\n",
      "C=0.03553 | valid_logloss=0.08865,  valid_accu=0.97196\n",
      "C=0.03594 | valid_logloss=0.08813,  valid_accu=0.97196\n",
      "C=0.03635 | valid_logloss=0.08775,  valid_accu=0.97196\n",
      "C=0.03678 | valid_logloss=0.08723,  valid_accu=0.97330\n",
      "C=0.03720 | valid_logloss=0.08651,  valid_accu=0.97330\n",
      "C=0.03763 | valid_logloss=0.08604,  valid_accu=0.97330\n",
      "C=0.03807 | valid_logloss=0.08577,  valid_accu=0.97330\n",
      "C=0.03851 | valid_logloss=0.08501,  valid_accu=0.97330\n",
      "C=0.03896 | valid_logloss=0.08471,  valid_accu=0.97330\n",
      "C=0.03941 | valid_logloss=0.08445,  valid_accu=0.97330\n",
      "C=0.03987 | valid_logloss=0.08387,  valid_accu=0.97330\n",
      "C=0.04033 | valid_logloss=0.08352,  valid_accu=0.97330\n",
      "C=0.04080 | valid_logloss=0.08295,  valid_accu=0.97196\n",
      "C=0.04127 | valid_logloss=0.08255,  valid_accu=0.97463\n",
      "C=0.04175 | valid_logloss=0.08227,  valid_accu=0.97330\n",
      "C=0.04223 | valid_logloss=0.08182,  valid_accu=0.97330\n",
      "C=0.04272 | valid_logloss=0.08130,  valid_accu=0.97330\n",
      "C=0.04322 | valid_logloss=0.08082,  valid_accu=0.97330\n",
      "C=0.04372 | valid_logloss=0.08042,  valid_accu=0.97330\n",
      "C=0.04422 | valid_logloss=0.08011,  valid_accu=0.97330\n",
      "C=0.04474 | valid_logloss=0.07958,  valid_accu=0.97330\n",
      "C=0.04525 | valid_logloss=0.07923,  valid_accu=0.97330\n",
      "C=0.04578 | valid_logloss=0.07884,  valid_accu=0.97330\n",
      "C=0.04631 | valid_logloss=0.07852,  valid_accu=0.97330\n",
      "C=0.04685 | valid_logloss=0.07823,  valid_accu=0.97330\n",
      "C=0.04739 | valid_logloss=0.07766,  valid_accu=0.97330\n",
      "C=0.04794 | valid_logloss=0.07736,  valid_accu=0.97330\n",
      "C=0.04849 | valid_logloss=0.07711,  valid_accu=0.97330\n",
      "C=0.04906 | valid_logloss=0.07669,  valid_accu=0.97330\n",
      "C=0.04962 | valid_logloss=0.07635,  valid_accu=0.97330\n",
      "C=0.05020 | valid_logloss=0.07600,  valid_accu=0.97196\n",
      "C=0.05078 | valid_logloss=0.07566,  valid_accu=0.97196\n",
      "C=0.05137 | valid_logloss=0.07534,  valid_accu=0.97196\n",
      "C=0.05197 | valid_logloss=0.07494,  valid_accu=0.97196\n",
      "C=0.05257 | valid_logloss=0.07454,  valid_accu=0.97196\n",
      "C=0.05318 | valid_logloss=0.07423,  valid_accu=0.97196\n",
      "C=0.05379 | valid_logloss=0.07401,  valid_accu=0.97196\n",
      "C=0.05442 | valid_logloss=0.07367,  valid_accu=0.97196\n",
      "C=0.05505 | valid_logloss=0.07343,  valid_accu=0.97196\n"
     ]
    },
    {
     "name": "stdout",
     "output_type": "stream",
     "text": [
      "C=0.05569 | valid_logloss=0.07326,  valid_accu=0.97196\n",
      "C=0.05633 | valid_logloss=0.07265,  valid_accu=0.97196\n",
      "C=0.05698 | valid_logloss=0.07234,  valid_accu=0.97196\n",
      "C=0.05764 | valid_logloss=0.07212,  valid_accu=0.97196\n",
      "C=0.05831 | valid_logloss=0.07176,  valid_accu=0.97196\n",
      "C=0.05899 | valid_logloss=0.07152,  valid_accu=0.97196\n",
      "C=0.05967 | valid_logloss=0.07126,  valid_accu=0.97196\n",
      "C=0.06036 | valid_logloss=0.07096,  valid_accu=0.97196\n",
      "C=0.06106 | valid_logloss=0.07060,  valid_accu=0.97196\n",
      "C=0.06177 | valid_logloss=0.07027,  valid_accu=0.97330\n",
      "C=0.06249 | valid_logloss=0.07012,  valid_accu=0.97196\n",
      "C=0.06321 | valid_logloss=0.06970,  valid_accu=0.97330\n",
      "C=0.06394 | valid_logloss=0.06950,  valid_accu=0.97330\n",
      "C=0.06469 | valid_logloss=0.06917,  valid_accu=0.97330\n",
      "C=0.06544 | valid_logloss=0.06884,  valid_accu=0.97330\n",
      "C=0.06619 | valid_logloss=0.06881,  valid_accu=0.97330\n",
      "C=0.06696 | valid_logloss=0.06845,  valid_accu=0.97330\n",
      "C=0.06774 | valid_logloss=0.06833,  valid_accu=0.97330\n",
      "C=0.06852 | valid_logloss=0.06793,  valid_accu=0.97330\n",
      "C=0.06932 | valid_logloss=0.06771,  valid_accu=0.97330\n",
      "C=0.07012 | valid_logloss=0.06735,  valid_accu=0.97330\n",
      "C=0.07093 | valid_logloss=0.06720,  valid_accu=0.97463\n",
      "C=0.07176 | valid_logloss=0.06699,  valid_accu=0.97463\n",
      "C=0.07259 | valid_logloss=0.06666,  valid_accu=0.97463\n",
      "C=0.07343 | valid_logloss=0.06654,  valid_accu=0.97463\n",
      "C=0.07428 | valid_logloss=0.06615,  valid_accu=0.97463\n",
      "C=0.07514 | valid_logloss=0.06614,  valid_accu=0.97463\n",
      "C=0.07601 | valid_logloss=0.06572,  valid_accu=0.97463\n",
      "C=0.07689 | valid_logloss=0.06546,  valid_accu=0.97463\n",
      "C=0.07778 | valid_logloss=0.06538,  valid_accu=0.97463\n",
      "C=0.07869 | valid_logloss=0.06516,  valid_accu=0.97463\n",
      "C=0.07960 | valid_logloss=0.06495,  valid_accu=0.97463\n",
      "C=0.08052 | valid_logloss=0.06466,  valid_accu=0.97463\n",
      "C=0.08145 | valid_logloss=0.06456,  valid_accu=0.97463\n",
      "C=0.08240 | valid_logloss=0.06421,  valid_accu=0.97463\n",
      "C=0.08335 | valid_logloss=0.06423,  valid_accu=0.97463\n",
      "C=0.08432 | valid_logloss=0.06373,  valid_accu=0.97597\n",
      "C=0.08530 | valid_logloss=0.06366,  valid_accu=0.97597\n",
      "C=0.08629 | valid_logloss=0.06338,  valid_accu=0.97597\n",
      "C=0.08729 | valid_logloss=0.06310,  valid_accu=0.97597\n",
      "C=0.08830 | valid_logloss=0.06289,  valid_accu=0.97597\n",
      "C=0.08932 | valid_logloss=0.06274,  valid_accu=0.97597\n",
      "C=0.09036 | valid_logloss=0.06253,  valid_accu=0.97597\n",
      "C=0.09140 | valid_logloss=0.06243,  valid_accu=0.97597\n",
      "C=0.09246 | valid_logloss=0.06202,  valid_accu=0.97597\n",
      "C=0.09353 | valid_logloss=0.06190,  valid_accu=0.97597\n",
      "C=0.09462 | valid_logloss=0.06148,  valid_accu=0.97597\n",
      "C=0.09572 | valid_logloss=0.06136,  valid_accu=0.97864\n",
      "C=0.09682 | valid_logloss=0.06112,  valid_accu=0.97730\n",
      "C=0.09795 | valid_logloss=0.06084,  valid_accu=0.97864\n",
      "C=0.09908 | valid_logloss=0.06061,  valid_accu=0.97864\n",
      "C=0.10023 | valid_logloss=0.06038,  valid_accu=0.97864\n",
      "C=0.10139 | valid_logloss=0.06019,  valid_accu=0.97864\n",
      "C=0.10257 | valid_logloss=0.06008,  valid_accu=0.97864\n",
      "C=0.10376 | valid_logloss=0.05975,  valid_accu=0.97864\n",
      "C=0.10496 | valid_logloss=0.05967,  valid_accu=0.97864\n",
      "C=0.10618 | valid_logloss=0.05945,  valid_accu=0.97864\n",
      "C=0.10741 | valid_logloss=0.05922,  valid_accu=0.97864\n",
      "C=0.10865 | valid_logloss=0.05894,  valid_accu=0.97864\n",
      "C=0.10991 | valid_logloss=0.05881,  valid_accu=0.97997\n",
      "C=0.11118 | valid_logloss=0.05848,  valid_accu=0.97864\n",
      "C=0.11247 | valid_logloss=0.05848,  valid_accu=0.97864\n",
      "C=0.11378 | valid_logloss=0.05814,  valid_accu=0.97997\n",
      "C=0.11510 | valid_logloss=0.05786,  valid_accu=0.97997\n",
      "C=0.11643 | valid_logloss=0.05771,  valid_accu=0.97997\n",
      "C=0.11778 | valid_logloss=0.05758,  valid_accu=0.97997\n",
      "C=0.11915 | valid_logloss=0.05730,  valid_accu=0.97997\n",
      "C=0.12053 | valid_logloss=0.05711,  valid_accu=0.97997\n",
      "C=0.12192 | valid_logloss=0.05702,  valid_accu=0.97997\n",
      "C=0.12334 | valid_logloss=0.05670,  valid_accu=0.98131\n",
      "C=0.12477 | valid_logloss=0.05664,  valid_accu=0.98131\n",
      "C=0.12621 | valid_logloss=0.05630,  valid_accu=0.98131\n",
      "C=0.12768 | valid_logloss=0.05610,  valid_accu=0.98131\n",
      "C=0.12915 | valid_logloss=0.05589,  valid_accu=0.98131\n",
      "C=0.13065 | valid_logloss=0.05584,  valid_accu=0.98131\n",
      "C=0.13217 | valid_logloss=0.05553,  valid_accu=0.98131\n",
      "C=0.13370 | valid_logloss=0.05534,  valid_accu=0.98131\n",
      "C=0.13525 | valid_logloss=0.05509,  valid_accu=0.98131\n",
      "C=0.13682 | valid_logloss=0.05493,  valid_accu=0.98131\n",
      "C=0.13840 | valid_logloss=0.05480,  valid_accu=0.98131\n",
      "C=0.14001 | valid_logloss=0.05460,  valid_accu=0.98131\n",
      "C=0.14163 | valid_logloss=0.05448,  valid_accu=0.98131\n",
      "C=0.14327 | valid_logloss=0.05433,  valid_accu=0.98131\n",
      "C=0.14493 | valid_logloss=0.05416,  valid_accu=0.98131\n",
      "C=0.14661 | valid_logloss=0.05395,  valid_accu=0.98131\n",
      "C=0.14831 | valid_logloss=0.05384,  valid_accu=0.98131\n",
      "C=0.15003 | valid_logloss=0.05360,  valid_accu=0.98131\n",
      "C=0.15177 | valid_logloss=0.05359,  valid_accu=0.98131\n",
      "C=0.15353 | valid_logloss=0.05341,  valid_accu=0.98131\n",
      "C=0.15531 | valid_logloss=0.05329,  valid_accu=0.98131\n",
      "C=0.15711 | valid_logloss=0.05314,  valid_accu=0.98131\n",
      "C=0.15893 | valid_logloss=0.05304,  valid_accu=0.98131\n",
      "C=0.16077 | valid_logloss=0.05288,  valid_accu=0.98131\n",
      "C=0.16263 | valid_logloss=0.05269,  valid_accu=0.98131\n",
      "C=0.16452 | valid_logloss=0.05259,  valid_accu=0.98131\n",
      "C=0.16643 | valid_logloss=0.05249,  valid_accu=0.98131\n",
      "C=0.16836 | valid_logloss=0.05236,  valid_accu=0.98131\n",
      "C=0.17031 | valid_logloss=0.05224,  valid_accu=0.98131\n",
      "C=0.17228 | valid_logloss=0.05217,  valid_accu=0.98131\n",
      "C=0.17428 | valid_logloss=0.05201,  valid_accu=0.98131\n",
      "C=0.17630 | valid_logloss=0.05194,  valid_accu=0.98131\n",
      "C=0.17834 | valid_logloss=0.05180,  valid_accu=0.98131\n",
      "C=0.18041 | valid_logloss=0.05171,  valid_accu=0.98131\n",
      "C=0.18250 | valid_logloss=0.05152,  valid_accu=0.98264\n",
      "C=0.18461 | valid_logloss=0.05148,  valid_accu=0.98264\n",
      "C=0.18675 | valid_logloss=0.05130,  valid_accu=0.98264\n",
      "C=0.18892 | valid_logloss=0.05123,  valid_accu=0.98264\n",
      "C=0.19111 | valid_logloss=0.05108,  valid_accu=0.98264\n",
      "C=0.19332 | valid_logloss=0.05099,  valid_accu=0.98264\n",
      "C=0.19557 | valid_logloss=0.05092,  valid_accu=0.98264\n",
      "C=0.19783 | valid_logloss=0.05078,  valid_accu=0.98264\n",
      "C=0.20012 | valid_logloss=0.05068,  valid_accu=0.98264\n",
      "C=0.20244 | valid_logloss=0.05053,  valid_accu=0.98264\n",
      "C=0.20479 | valid_logloss=0.05046,  valid_accu=0.98264\n",
      "C=0.20716 | valid_logloss=0.05041,  valid_accu=0.98264\n",
      "C=0.20957 | valid_logloss=0.05027,  valid_accu=0.98264\n",
      "C=0.21200 | valid_logloss=0.05021,  valid_accu=0.98264\n",
      "C=0.21445 | valid_logloss=0.05003,  valid_accu=0.98264\n",
      "C=0.21694 | valid_logloss=0.04996,  valid_accu=0.98264\n",
      "C=0.21945 | valid_logloss=0.04985,  valid_accu=0.98264\n",
      "C=0.22200 | valid_logloss=0.04977,  valid_accu=0.98264\n",
      "C=0.22457 | valid_logloss=0.04980,  valid_accu=0.98264\n",
      "C=0.22717 | valid_logloss=0.04969,  valid_accu=0.98264\n",
      "C=0.22981 | valid_logloss=0.04943,  valid_accu=0.98264\n",
      "C=0.23247 | valid_logloss=0.04947,  valid_accu=0.98264\n",
      "C=0.23516 | valid_logloss=0.04941,  valid_accu=0.98264\n",
      "C=0.23789 | valid_logloss=0.04936,  valid_accu=0.98264\n",
      "C=0.24065 | valid_logloss=0.04921,  valid_accu=0.98264\n",
      "C=0.24344 | valid_logloss=0.04907,  valid_accu=0.98264\n",
      "C=0.24626 | valid_logloss=0.04916,  valid_accu=0.98264\n",
      "C=0.24911 | valid_logloss=0.04904,  valid_accu=0.98264\n",
      "C=0.25200 | valid_logloss=0.04895,  valid_accu=0.98264\n",
      "C=0.25492 | valid_logloss=0.04892,  valid_accu=0.98264\n",
      "C=0.25788 | valid_logloss=0.04882,  valid_accu=0.98264\n",
      "C=0.26087 | valid_logloss=0.04873,  valid_accu=0.98264\n",
      "C=0.26389 | valid_logloss=0.04874,  valid_accu=0.98264\n",
      "C=0.26695 | valid_logloss=0.04865,  valid_accu=0.98398\n",
      "C=0.27004 | valid_logloss=0.04849,  valid_accu=0.98264\n",
      "C=0.27317 | valid_logloss=0.04855,  valid_accu=0.98264\n",
      "C=0.27634 | valid_logloss=0.04849,  valid_accu=0.98264\n",
      "C=0.27954 | valid_logloss=0.04842,  valid_accu=0.98264\n",
      "C=0.28278 | valid_logloss=0.04827,  valid_accu=0.98264\n",
      "C=0.28606 | valid_logloss=0.04833,  valid_accu=0.98264\n",
      "C=0.28938 | valid_logloss=0.04827,  valid_accu=0.98264\n",
      "C=0.29273 | valid_logloss=0.04816,  valid_accu=0.98264\n",
      "C=0.29612 | valid_logloss=0.04823,  valid_accu=0.98264\n",
      "C=0.29955 | valid_logloss=0.04808,  valid_accu=0.98264\n",
      "C=0.30303 | valid_logloss=0.04806,  valid_accu=0.98264\n",
      "C=0.30654 | valid_logloss=0.04795,  valid_accu=0.98264\n"
     ]
    },
    {
     "name": "stdout",
     "output_type": "stream",
     "text": [
      "C=0.31009 | valid_logloss=0.04790,  valid_accu=0.98264\n",
      "C=0.31369 | valid_logloss=0.04789,  valid_accu=0.98264\n",
      "C=0.31732 | valid_logloss=0.04785,  valid_accu=0.98398\n",
      "C=0.32100 | valid_logloss=0.04764,  valid_accu=0.98398\n",
      "C=0.32472 | valid_logloss=0.04768,  valid_accu=0.98398\n",
      "C=0.32849 | valid_logloss=0.04761,  valid_accu=0.98398\n",
      "C=0.33229 | valid_logloss=0.04762,  valid_accu=0.98264\n",
      "C=0.33614 | valid_logloss=0.04756,  valid_accu=0.98398\n",
      "C=0.34004 | valid_logloss=0.04740,  valid_accu=0.98398\n",
      "C=0.34398 | valid_logloss=0.04746,  valid_accu=0.98398\n",
      "C=0.34797 | valid_logloss=0.04738,  valid_accu=0.98398\n",
      "C=0.35200 | valid_logloss=0.04741,  valid_accu=0.98398\n",
      "C=0.35608 | valid_logloss=0.04743,  valid_accu=0.98398\n",
      "C=0.36021 | valid_logloss=0.04729,  valid_accu=0.98531\n",
      "C=0.36439 | valid_logloss=0.04725,  valid_accu=0.98264\n",
      "C=0.36861 | valid_logloss=0.04731,  valid_accu=0.98264\n",
      "C=0.37288 | valid_logloss=0.04729,  valid_accu=0.98264\n",
      "C=0.37720 | valid_logloss=0.04713,  valid_accu=0.98398\n",
      "C=0.38158 | valid_logloss=0.04722,  valid_accu=0.98264\n",
      "C=0.38600 | valid_logloss=0.04721,  valid_accu=0.98398\n",
      "C=0.39047 | valid_logloss=0.04721,  valid_accu=0.98131\n",
      "C=0.39500 | valid_logloss=0.04718,  valid_accu=0.98264\n",
      "C=0.39958 | valid_logloss=0.04713,  valid_accu=0.98131\n",
      "C=0.40421 | valid_logloss=0.04716,  valid_accu=0.98131\n",
      "C=0.40889 | valid_logloss=0.04717,  valid_accu=0.98131\n",
      "C=0.41363 | valid_logloss=0.04708,  valid_accu=0.98131\n",
      "C=0.41843 | valid_logloss=0.04719,  valid_accu=0.98131\n",
      "C=0.42328 | valid_logloss=0.04714,  valid_accu=0.98264\n",
      "C=0.42819 | valid_logloss=0.04726,  valid_accu=0.98131\n",
      "C=0.43315 | valid_logloss=0.04718,  valid_accu=0.98131\n",
      "C=0.43817 | valid_logloss=0.04709,  valid_accu=0.98131\n",
      "C=0.44325 | valid_logloss=0.04717,  valid_accu=0.98131\n",
      "C=0.44839 | valid_logloss=0.04722,  valid_accu=0.98131\n",
      "C=0.45358 | valid_logloss=0.04718,  valid_accu=0.98131\n",
      "C=0.45884 | valid_logloss=0.04730,  valid_accu=0.98131\n",
      "C=0.46416 | valid_logloss=0.04730,  valid_accu=0.98131\n",
      "C=0.46954 | valid_logloss=0.04729,  valid_accu=0.98131\n",
      "C=0.47498 | valid_logloss=0.04719,  valid_accu=0.98131\n",
      "C=0.48049 | valid_logloss=0.04738,  valid_accu=0.98131\n",
      "C=0.48606 | valid_logloss=0.04725,  valid_accu=0.98131\n",
      "C=0.49169 | valid_logloss=0.04737,  valid_accu=0.98131\n",
      "C=0.49739 | valid_logloss=0.04735,  valid_accu=0.98131\n",
      "C=0.50315 | valid_logloss=0.04751,  valid_accu=0.98131\n",
      "C=0.50899 | valid_logloss=0.04748,  valid_accu=0.98131\n",
      "C=0.51489 | valid_logloss=0.04757,  valid_accu=0.98131\n",
      "C=0.52085 | valid_logloss=0.04759,  valid_accu=0.98131\n",
      "C=0.52689 | valid_logloss=0.04756,  valid_accu=0.98131\n",
      "C=0.53300 | valid_logloss=0.04761,  valid_accu=0.98131\n",
      "C=0.53918 | valid_logloss=0.04762,  valid_accu=0.98131\n",
      "C=0.54543 | valid_logloss=0.04772,  valid_accu=0.98131\n",
      "C=0.55175 | valid_logloss=0.04781,  valid_accu=0.98131\n",
      "C=0.55814 | valid_logloss=0.04795,  valid_accu=0.98131\n",
      "C=0.56461 | valid_logloss=0.04780,  valid_accu=0.98131\n",
      "C=0.57116 | valid_logloss=0.04786,  valid_accu=0.98131\n",
      "C=0.57778 | valid_logloss=0.04794,  valid_accu=0.98131\n",
      "C=0.58448 | valid_logloss=0.04808,  valid_accu=0.98131\n",
      "C=0.59125 | valid_logloss=0.04828,  valid_accu=0.98131\n",
      "C=0.59810 | valid_logloss=0.04826,  valid_accu=0.98131\n",
      "C=0.60504 | valid_logloss=0.04815,  valid_accu=0.98131\n",
      "C=0.61205 | valid_logloss=0.04831,  valid_accu=0.98131\n",
      "C=0.61914 | valid_logloss=0.04832,  valid_accu=0.98131\n",
      "C=0.62632 | valid_logloss=0.04849,  valid_accu=0.98131\n",
      "C=0.63358 | valid_logloss=0.04849,  valid_accu=0.98131\n",
      "C=0.64092 | valid_logloss=0.04846,  valid_accu=0.98131\n",
      "C=0.64835 | valid_logloss=0.04854,  valid_accu=0.98131\n",
      "C=0.65587 | valid_logloss=0.04862,  valid_accu=0.98131\n",
      "C=0.66347 | valid_logloss=0.04864,  valid_accu=0.98131\n",
      "C=0.67116 | valid_logloss=0.04878,  valid_accu=0.98131\n",
      "C=0.67894 | valid_logloss=0.04881,  valid_accu=0.98131\n",
      "C=0.68681 | valid_logloss=0.04888,  valid_accu=0.98131\n",
      "C=0.69477 | valid_logloss=0.04893,  valid_accu=0.98131\n",
      "C=0.70282 | valid_logloss=0.04892,  valid_accu=0.98131\n",
      "C=0.71097 | valid_logloss=0.04899,  valid_accu=0.98131\n",
      "C=0.71921 | valid_logloss=0.04907,  valid_accu=0.98131\n",
      "C=0.72755 | valid_logloss=0.04923,  valid_accu=0.98131\n",
      "C=0.73598 | valid_logloss=0.04931,  valid_accu=0.98131\n",
      "C=0.74451 | valid_logloss=0.04935,  valid_accu=0.98131\n",
      "C=0.75314 | valid_logloss=0.04939,  valid_accu=0.98131\n",
      "C=0.76187 | valid_logloss=0.04946,  valid_accu=0.98131\n",
      "C=0.77070 | valid_logloss=0.04950,  valid_accu=0.98131\n",
      "C=0.77964 | valid_logloss=0.04968,  valid_accu=0.98131\n",
      "C=0.78867 | valid_logloss=0.04965,  valid_accu=0.98131\n",
      "C=0.79781 | valid_logloss=0.04972,  valid_accu=0.98131\n",
      "C=0.80706 | valid_logloss=0.04991,  valid_accu=0.98131\n",
      "C=0.81642 | valid_logloss=0.04992,  valid_accu=0.98131\n",
      "C=0.82588 | valid_logloss=0.04997,  valid_accu=0.98131\n",
      "C=0.83545 | valid_logloss=0.05006,  valid_accu=0.98131\n",
      "C=0.84514 | valid_logloss=0.05012,  valid_accu=0.98131\n",
      "C=0.85493 | valid_logloss=0.05009,  valid_accu=0.98131\n",
      "C=0.86484 | valid_logloss=0.05029,  valid_accu=0.98131\n",
      "C=0.87487 | valid_logloss=0.05038,  valid_accu=0.98131\n",
      "C=0.88501 | valid_logloss=0.05045,  valid_accu=0.98131\n",
      "C=0.89527 | valid_logloss=0.05055,  valid_accu=0.98131\n",
      "C=0.90564 | valid_logloss=0.05067,  valid_accu=0.98131\n",
      "C=0.91614 | valid_logloss=0.05054,  valid_accu=0.98131\n",
      "C=0.92676 | valid_logloss=0.05094,  valid_accu=0.98131\n",
      "C=0.93750 | valid_logloss=0.05084,  valid_accu=0.98131\n",
      "C=0.94837 | valid_logloss=0.05085,  valid_accu=0.98131\n",
      "C=0.95936 | valid_logloss=0.05105,  valid_accu=0.98131\n",
      "C=0.97048 | valid_logloss=0.05113,  valid_accu=0.98131\n",
      "C=0.98173 | valid_logloss=0.05120,  valid_accu=0.98131\n",
      "C=0.99311 | valid_logloss=0.05130,  valid_accu=0.98131\n",
      "C=1.00462 | valid_logloss=0.05134,  valid_accu=0.98131\n",
      "C=1.01627 | valid_logloss=0.05139,  valid_accu=0.98131\n",
      "C=1.02804 | valid_logloss=0.05151,  valid_accu=0.98131\n",
      "C=1.03996 | valid_logloss=0.05168,  valid_accu=0.98131\n",
      "C=1.05202 | valid_logloss=0.05171,  valid_accu=0.98131\n",
      "C=1.06421 | valid_logloss=0.05191,  valid_accu=0.98131\n",
      "C=1.07654 | valid_logloss=0.05191,  valid_accu=0.98131\n",
      "C=1.08902 | valid_logloss=0.05202,  valid_accu=0.98131\n",
      "C=1.10165 | valid_logloss=0.05214,  valid_accu=0.98131\n",
      "C=1.11442 | valid_logloss=0.05220,  valid_accu=0.98131\n",
      "C=1.12733 | valid_logloss=0.05230,  valid_accu=0.98264\n",
      "C=1.14040 | valid_logloss=0.05237,  valid_accu=0.98131\n",
      "C=1.15362 | valid_logloss=0.05247,  valid_accu=0.98131\n",
      "C=1.16699 | valid_logloss=0.05269,  valid_accu=0.98131\n",
      "C=1.18052 | valid_logloss=0.05259,  valid_accu=0.98264\n",
      "C=1.19420 | valid_logloss=0.05281,  valid_accu=0.98264\n",
      "C=1.20804 | valid_logloss=0.05289,  valid_accu=0.98264\n",
      "C=1.22204 | valid_logloss=0.05311,  valid_accu=0.98264\n",
      "C=1.23621 | valid_logloss=0.05319,  valid_accu=0.98264\n",
      "C=1.25054 | valid_logloss=0.05321,  valid_accu=0.98264\n",
      "C=1.26503 | valid_logloss=0.05341,  valid_accu=0.98264\n",
      "C=1.27970 | valid_logloss=0.05344,  valid_accu=0.98264\n",
      "C=1.29453 | valid_logloss=0.05353,  valid_accu=0.98264\n",
      "C=1.30954 | valid_logloss=0.05361,  valid_accu=0.98264\n",
      "C=1.32471 | valid_logloss=0.05359,  valid_accu=0.98264\n",
      "C=1.34007 | valid_logloss=0.05379,  valid_accu=0.98264\n",
      "C=1.35560 | valid_logloss=0.05384,  valid_accu=0.98264\n",
      "C=1.37131 | valid_logloss=0.05378,  valid_accu=0.98264\n",
      "C=1.38721 | valid_logloss=0.05409,  valid_accu=0.98264\n",
      "C=1.40329 | valid_logloss=0.05427,  valid_accu=0.98264\n",
      "C=1.41955 | valid_logloss=0.05439,  valid_accu=0.98264\n",
      "C=1.43601 | valid_logloss=0.05437,  valid_accu=0.98264\n",
      "C=1.45265 | valid_logloss=0.05411,  valid_accu=0.98264\n",
      "C=1.46949 | valid_logloss=0.05464,  valid_accu=0.98264\n",
      "C=1.48652 | valid_logloss=0.05437,  valid_accu=0.98264\n",
      "C=1.50376 | valid_logloss=0.05482,  valid_accu=0.98264\n",
      "C=1.52119 | valid_logloss=0.05485,  valid_accu=0.98264\n",
      "C=1.53882 | valid_logloss=0.05501,  valid_accu=0.98264\n",
      "C=1.55665 | valid_logloss=0.05486,  valid_accu=0.98264\n",
      "C=1.57470 | valid_logloss=0.05524,  valid_accu=0.98264\n",
      "C=1.59295 | valid_logloss=0.05537,  valid_accu=0.98264\n",
      "C=1.61141 | valid_logloss=0.05548,  valid_accu=0.98264\n",
      "C=1.63009 | valid_logloss=0.05562,  valid_accu=0.98264\n",
      "C=1.64899 | valid_logloss=0.05570,  valid_accu=0.98264\n",
      "C=1.66810 | valid_logloss=0.05581,  valid_accu=0.98131\n",
      "C=1.68744 | valid_logloss=0.05597,  valid_accu=0.98264\n",
      "C=1.70699 | valid_logloss=0.05567,  valid_accu=0.98264\n",
      "C=1.72678 | valid_logloss=0.05611,  valid_accu=0.98131\n",
      "C=1.74680 | valid_logloss=0.05606,  valid_accu=0.98264\n"
     ]
    },
    {
     "name": "stdout",
     "output_type": "stream",
     "text": [
      "C=1.76704 | valid_logloss=0.05628,  valid_accu=0.98131\n",
      "C=1.78753 | valid_logloss=0.05643,  valid_accu=0.98131\n",
      "C=1.80824 | valid_logloss=0.05601,  valid_accu=0.98131\n",
      "C=1.82920 | valid_logloss=0.05594,  valid_accu=0.98131\n",
      "C=1.85041 | valid_logloss=0.05683,  valid_accu=0.98131\n",
      "C=1.87186 | valid_logloss=0.05683,  valid_accu=0.98131\n",
      "C=1.89355 | valid_logloss=0.05675,  valid_accu=0.98131\n",
      "C=1.91550 | valid_logloss=0.05710,  valid_accu=0.98131\n",
      "C=1.93770 | valid_logloss=0.05736,  valid_accu=0.98131\n",
      "C=1.96016 | valid_logloss=0.05742,  valid_accu=0.98131\n",
      "C=1.98288 | valid_logloss=0.05741,  valid_accu=0.98264\n",
      "C=2.00587 | valid_logloss=0.05760,  valid_accu=0.98131\n",
      "C=2.02912 | valid_logloss=0.05753,  valid_accu=0.98264\n",
      "C=2.05264 | valid_logloss=0.05780,  valid_accu=0.98264\n",
      "C=2.07643 | valid_logloss=0.05788,  valid_accu=0.98131\n",
      "C=2.10050 | valid_logloss=0.05793,  valid_accu=0.98264\n",
      "C=2.12485 | valid_logloss=0.05778,  valid_accu=0.98264\n",
      "C=2.14947 | valid_logloss=0.05782,  valid_accu=0.98264\n",
      "C=2.17439 | valid_logloss=0.05804,  valid_accu=0.98264\n",
      "C=2.19959 | valid_logloss=0.05866,  valid_accu=0.98131\n",
      "C=2.22509 | valid_logloss=0.05887,  valid_accu=0.98131\n",
      "C=2.25088 | valid_logloss=0.05831,  valid_accu=0.98131\n",
      "C=2.27697 | valid_logloss=0.05856,  valid_accu=0.98264\n",
      "C=2.30336 | valid_logloss=0.05908,  valid_accu=0.98131\n",
      "C=2.33006 | valid_logloss=0.05823,  valid_accu=0.98264\n",
      "C=2.35707 | valid_logloss=0.05882,  valid_accu=0.97997\n",
      "C=2.38439 | valid_logloss=0.05885,  valid_accu=0.98264\n",
      "C=2.41203 | valid_logloss=0.05962,  valid_accu=0.98131\n",
      "C=2.43999 | valid_logloss=0.05916,  valid_accu=0.98131\n",
      "C=2.46827 | valid_logloss=0.05918,  valid_accu=0.98264\n",
      "C=2.49688 | valid_logloss=0.05991,  valid_accu=0.98131\n",
      "C=2.52582 | valid_logloss=0.05946,  valid_accu=0.98131\n",
      "C=2.55510 | valid_logloss=0.05913,  valid_accu=0.98264\n",
      "C=2.58471 | valid_logloss=0.06034,  valid_accu=0.98131\n",
      "C=2.61467 | valid_logloss=0.06035,  valid_accu=0.97997\n",
      "C=2.64498 | valid_logloss=0.06071,  valid_accu=0.98131\n",
      "C=2.67564 | valid_logloss=0.06071,  valid_accu=0.98131\n",
      "C=2.70665 | valid_logloss=0.06042,  valid_accu=0.98264\n",
      "C=2.73803 | valid_logloss=0.06090,  valid_accu=0.98131\n",
      "C=2.76976 | valid_logloss=0.06021,  valid_accu=0.98264\n",
      "C=2.80187 | valid_logloss=0.06055,  valid_accu=0.98264\n",
      "C=2.83434 | valid_logloss=0.06011,  valid_accu=0.98264\n",
      "C=2.86720 | valid_logloss=0.06158,  valid_accu=0.98131\n",
      "C=2.90043 | valid_logloss=0.06162,  valid_accu=0.97997\n",
      "C=2.93405 | valid_logloss=0.06006,  valid_accu=0.98264\n",
      "C=2.96806 | valid_logloss=0.06064,  valid_accu=0.98131\n",
      "C=3.00246 | valid_logloss=0.06059,  valid_accu=0.98264\n",
      "C=3.03726 | valid_logloss=0.06220,  valid_accu=0.98131\n",
      "C=3.07247 | valid_logloss=0.06226,  valid_accu=0.97997\n",
      "C=3.10808 | valid_logloss=0.06205,  valid_accu=0.98131\n",
      "C=3.14411 | valid_logloss=0.06191,  valid_accu=0.98131\n",
      "C=3.18055 | valid_logloss=0.06148,  valid_accu=0.98264\n",
      "C=3.21742 | valid_logloss=0.06184,  valid_accu=0.98264\n",
      "C=3.25471 | valid_logloss=0.06181,  valid_accu=0.98264\n",
      "C=3.29244 | valid_logloss=0.06183,  valid_accu=0.97997\n",
      "C=3.33060 | valid_logloss=0.06198,  valid_accu=0.98131\n",
      "C=3.36921 | valid_logloss=0.06227,  valid_accu=0.98264\n",
      "C=3.40826 | valid_logloss=0.06346,  valid_accu=0.98131\n",
      "C=3.44776 | valid_logloss=0.06191,  valid_accu=0.98264\n",
      "C=3.48773 | valid_logloss=0.06291,  valid_accu=0.98264\n",
      "C=3.52815 | valid_logloss=0.06251,  valid_accu=0.98264\n",
      "C=3.56905 | valid_logloss=0.06372,  valid_accu=0.98131\n",
      "C=3.61042 | valid_logloss=0.06280,  valid_accu=0.98264\n",
      "C=3.65227 | valid_logloss=0.06311,  valid_accu=0.98264\n",
      "C=3.69460 | valid_logloss=0.06364,  valid_accu=0.98264\n",
      "C=3.73743 | valid_logloss=0.06422,  valid_accu=0.97997\n",
      "C=3.78075 | valid_logloss=0.06353,  valid_accu=0.98264\n",
      "C=3.82457 | valid_logloss=0.06380,  valid_accu=0.98264\n",
      "C=3.86890 | valid_logloss=0.06377,  valid_accu=0.98131\n",
      "C=3.91375 | valid_logloss=0.06374,  valid_accu=0.98264\n",
      "C=3.95911 | valid_logloss=0.06392,  valid_accu=0.98131\n",
      "C=4.00500 | valid_logloss=0.06376,  valid_accu=0.98131\n",
      "C=4.05142 | valid_logloss=0.06555,  valid_accu=0.97997\n",
      "C=4.09838 | valid_logloss=0.06531,  valid_accu=0.97997\n",
      "C=4.14589 | valid_logloss=0.06454,  valid_accu=0.98131\n",
      "C=4.19394 | valid_logloss=0.06493,  valid_accu=0.98131\n",
      "C=4.24256 | valid_logloss=0.06568,  valid_accu=0.98131\n",
      "C=4.29173 | valid_logloss=0.06520,  valid_accu=0.98131\n",
      "C=4.34148 | valid_logloss=0.06446,  valid_accu=0.97864\n",
      "C=4.39180 | valid_logloss=0.06626,  valid_accu=0.98131\n",
      "C=4.44271 | valid_logloss=0.06650,  valid_accu=0.97997\n",
      "C=4.49420 | valid_logloss=0.06494,  valid_accu=0.98131\n",
      "C=4.54630 | valid_logloss=0.06525,  valid_accu=0.97997\n",
      "C=4.59899 | valid_logloss=0.06690,  valid_accu=0.98131\n",
      "C=4.65230 | valid_logloss=0.06592,  valid_accu=0.97864\n",
      "C=4.70622 | valid_logloss=0.06717,  valid_accu=0.97997\n",
      "C=4.76078 | valid_logloss=0.06548,  valid_accu=0.98131\n",
      "C=4.81596 | valid_logloss=0.06598,  valid_accu=0.98131\n",
      "C=4.87178 | valid_logloss=0.06597,  valid_accu=0.98131\n",
      "C=4.92825 | valid_logloss=0.06636,  valid_accu=0.97997\n",
      "C=4.98537 | valid_logloss=0.06653,  valid_accu=0.98131\n",
      "C=5.04316 | valid_logloss=0.06689,  valid_accu=0.97864\n",
      "C=5.10162 | valid_logloss=0.06829,  valid_accu=0.98131\n",
      "C=5.16075 | valid_logloss=0.06815,  valid_accu=0.97997\n",
      "C=5.22057 | valid_logloss=0.06767,  valid_accu=0.97864\n",
      "C=5.28108 | valid_logloss=0.06875,  valid_accu=0.97997\n",
      "C=5.34229 | valid_logloss=0.06849,  valid_accu=0.97997\n",
      "C=5.40422 | valid_logloss=0.06772,  valid_accu=0.97597\n",
      "C=5.46686 | valid_logloss=0.06726,  valid_accu=0.97997\n",
      "C=5.53022 | valid_logloss=0.06833,  valid_accu=0.97864\n",
      "C=5.59433 | valid_logloss=0.06737,  valid_accu=0.97997\n",
      "C=5.65917 | valid_logloss=0.06786,  valid_accu=0.97997\n",
      "C=5.72477 | valid_logloss=0.06959,  valid_accu=0.97997\n",
      "C=5.79112 | valid_logloss=0.06751,  valid_accu=0.97997\n",
      "C=5.85825 | valid_logloss=0.06970,  valid_accu=0.97997\n",
      "C=5.92615 | valid_logloss=0.06807,  valid_accu=0.97997\n",
      "C=5.99484 | valid_logloss=0.06931,  valid_accu=0.97997\n",
      "C=6.06433 | valid_logloss=0.07006,  valid_accu=0.97997\n",
      "C=6.13462 | valid_logloss=0.06859,  valid_accu=0.97997\n",
      "C=6.20573 | valid_logloss=0.06927,  valid_accu=0.97864\n",
      "C=6.27766 | valid_logloss=0.07054,  valid_accu=0.97997\n",
      "C=6.35043 | valid_logloss=0.07081,  valid_accu=0.97997\n",
      "C=6.42403 | valid_logloss=0.06852,  valid_accu=0.97997\n",
      "C=6.49850 | valid_logloss=0.07000,  valid_accu=0.97730\n",
      "C=6.57382 | valid_logloss=0.07083,  valid_accu=0.97997\n",
      "C=6.65002 | valid_logloss=0.07152,  valid_accu=0.97997\n",
      "C=6.72710 | valid_logloss=0.07133,  valid_accu=0.97997\n",
      "C=6.80507 | valid_logloss=0.07166,  valid_accu=0.97864\n",
      "C=6.88395 | valid_logloss=0.06981,  valid_accu=0.97864\n",
      "C=6.96374 | valid_logloss=0.07143,  valid_accu=0.97864\n",
      "C=7.04446 | valid_logloss=0.07086,  valid_accu=0.97864\n",
      "C=7.12612 | valid_logloss=0.07151,  valid_accu=0.97864\n",
      "C=7.20872 | valid_logloss=0.07196,  valid_accu=0.97730\n",
      "C=7.29227 | valid_logloss=0.07145,  valid_accu=0.97730\n",
      "C=7.37680 | valid_logloss=0.07271,  valid_accu=0.97730\n",
      "C=7.46230 | valid_logloss=0.07223,  valid_accu=0.97730\n",
      "C=7.54880 | valid_logloss=0.07252,  valid_accu=0.97864\n",
      "C=7.63630 | valid_logloss=0.07225,  valid_accu=0.97730\n",
      "C=7.72481 | valid_logloss=0.07303,  valid_accu=0.97730\n",
      "C=7.81435 | valid_logloss=0.07108,  valid_accu=0.97864\n",
      "C=7.90493 | valid_logloss=0.07200,  valid_accu=0.97864\n",
      "C=7.99655 | valid_logloss=0.07331,  valid_accu=0.97864\n",
      "C=8.08924 | valid_logloss=0.07307,  valid_accu=0.97730\n",
      "C=8.18301 | valid_logloss=0.07395,  valid_accu=0.97864\n",
      "C=8.27786 | valid_logloss=0.07369,  valid_accu=0.97864\n",
      "C=8.37381 | valid_logloss=0.07303,  valid_accu=0.97864\n",
      "C=8.47087 | valid_logloss=0.07318,  valid_accu=0.97864\n",
      "C=8.56906 | valid_logloss=0.07340,  valid_accu=0.97864\n",
      "C=8.66838 | valid_logloss=0.07337,  valid_accu=0.97997\n",
      "C=8.76886 | valid_logloss=0.07479,  valid_accu=0.97997\n",
      "C=8.87050 | valid_logloss=0.07456,  valid_accu=0.97864\n",
      "C=8.97332 | valid_logloss=0.07279,  valid_accu=0.98131\n",
      "C=9.07733 | valid_logloss=0.07479,  valid_accu=0.97997\n",
      "C=9.18254 | valid_logloss=0.07426,  valid_accu=0.97997\n",
      "C=9.28898 | valid_logloss=0.07420,  valid_accu=0.98131\n",
      "C=9.39665 | valid_logloss=0.07532,  valid_accu=0.97864\n",
      "C=9.50557 | valid_logloss=0.07508,  valid_accu=0.97997\n",
      "C=9.61575 | valid_logloss=0.07429,  valid_accu=0.97864\n",
      "C=9.72720 | valid_logloss=0.07632,  valid_accu=0.98131\n",
      "C=9.83995 | valid_logloss=0.07547,  valid_accu=0.97997\n",
      "C=9.95401 | valid_logloss=0.07619,  valid_accu=0.98131\n"
     ]
    },
    {
     "name": "stdout",
     "output_type": "stream",
     "text": [
      "C=10.06939 | valid_logloss=0.07535,  valid_accu=0.97997\n",
      "C=10.18610 | valid_logloss=0.07590,  valid_accu=0.97864\n",
      "C=10.30417 | valid_logloss=0.07727,  valid_accu=0.97864\n",
      "C=10.42361 | valid_logloss=0.07603,  valid_accu=0.97864\n",
      "C=10.54443 | valid_logloss=0.07674,  valid_accu=0.97864\n",
      "C=10.66665 | valid_logloss=0.07692,  valid_accu=0.97864\n",
      "C=10.79029 | valid_logloss=0.07636,  valid_accu=0.97864\n",
      "C=10.91536 | valid_logloss=0.07705,  valid_accu=0.97864\n",
      "C=11.04188 | valid_logloss=0.07692,  valid_accu=0.97730\n",
      "C=11.16987 | valid_logloss=0.07787,  valid_accu=0.97864\n",
      "C=11.29934 | valid_logloss=0.07752,  valid_accu=0.97730\n",
      "C=11.43031 | valid_logloss=0.07727,  valid_accu=0.97864\n",
      "C=11.56280 | valid_logloss=0.07793,  valid_accu=0.97730\n",
      "C=11.69683 | valid_logloss=0.07828,  valid_accu=0.97864\n",
      "C=11.83241 | valid_logloss=0.07907,  valid_accu=0.98131\n",
      "C=11.96956 | valid_logloss=0.07964,  valid_accu=0.97997\n",
      "C=12.10830 | valid_logloss=0.08078,  valid_accu=0.97997\n",
      "C=12.24865 | valid_logloss=0.08006,  valid_accu=0.97997\n",
      "C=12.39062 | valid_logloss=0.07938,  valid_accu=0.97997\n",
      "C=12.53424 | valid_logloss=0.07792,  valid_accu=0.97997\n",
      "C=12.67953 | valid_logloss=0.07950,  valid_accu=0.97730\n",
      "C=12.82650 | valid_logloss=0.07885,  valid_accu=0.97864\n",
      "C=12.97517 | valid_logloss=0.07896,  valid_accu=0.97730\n",
      "C=13.12557 | valid_logloss=0.07956,  valid_accu=0.97864\n",
      "C=13.27771 | valid_logloss=0.07819,  valid_accu=0.97864\n",
      "C=13.43161 | valid_logloss=0.08030,  valid_accu=0.97730\n",
      "C=13.58730 | valid_logloss=0.08188,  valid_accu=0.97997\n",
      "C=13.74479 | valid_logloss=0.08209,  valid_accu=0.97997\n",
      "C=13.90411 | valid_logloss=0.07986,  valid_accu=0.97997\n",
      "C=14.06527 | valid_logloss=0.08055,  valid_accu=0.97864\n",
      "C=14.22830 | valid_logloss=0.08166,  valid_accu=0.97864\n",
      "C=14.39323 | valid_logloss=0.08105,  valid_accu=0.97864\n",
      "C=14.56006 | valid_logloss=0.08117,  valid_accu=0.97997\n",
      "C=14.72883 | valid_logloss=0.08057,  valid_accu=0.97997\n",
      "C=14.89955 | valid_logloss=0.08111,  valid_accu=0.97997\n",
      "C=15.07225 | valid_logloss=0.08239,  valid_accu=0.97730\n",
      "C=15.24696 | valid_logloss=0.08106,  valid_accu=0.97864\n",
      "C=15.42369 | valid_logloss=0.08083,  valid_accu=0.97864\n",
      "C=15.60246 | valid_logloss=0.08096,  valid_accu=0.97997\n",
      "C=15.78331 | valid_logloss=0.08125,  valid_accu=0.97997\n",
      "C=15.96626 | valid_logloss=0.08382,  valid_accu=0.97597\n",
      "C=16.15133 | valid_logloss=0.08109,  valid_accu=0.97730\n",
      "C=16.33854 | valid_logloss=0.08209,  valid_accu=0.97864\n",
      "C=16.52792 | valid_logloss=0.08447,  valid_accu=0.97730\n",
      "C=16.71950 | valid_logloss=0.08295,  valid_accu=0.97997\n",
      "C=16.91330 | valid_logloss=0.08484,  valid_accu=0.97730\n",
      "C=17.10934 | valid_logloss=0.08648,  valid_accu=0.97597\n",
      "C=17.30766 | valid_logloss=0.08539,  valid_accu=0.97730\n",
      "C=17.50827 | valid_logloss=0.08331,  valid_accu=0.97730\n",
      "C=17.71121 | valid_logloss=0.08282,  valid_accu=0.97997\n",
      "C=17.91650 | valid_logloss=0.08382,  valid_accu=0.97864\n",
      "C=18.12418 | valid_logloss=0.08340,  valid_accu=0.97864\n",
      "C=18.33425 | valid_logloss=0.08566,  valid_accu=0.97864\n",
      "C=18.54677 | valid_logloss=0.08585,  valid_accu=0.97864\n",
      "C=18.76175 | valid_logloss=0.08427,  valid_accu=0.97730\n",
      "C=18.97922 | valid_logloss=0.08387,  valid_accu=0.97864\n",
      "C=19.19921 | valid_logloss=0.08406,  valid_accu=0.97864\n",
      "C=19.42175 | valid_logloss=0.08468,  valid_accu=0.97864\n",
      "C=19.64687 | valid_logloss=0.08498,  valid_accu=0.97730\n",
      "C=19.87460 | valid_logloss=0.08541,  valid_accu=0.97730\n",
      "C=20.10496 | valid_logloss=0.08660,  valid_accu=0.97597\n",
      "C=20.33800 | valid_logloss=0.08600,  valid_accu=0.97864\n",
      "C=20.57374 | valid_logloss=0.08500,  valid_accu=0.97730\n",
      "C=20.81222 | valid_logloss=0.08658,  valid_accu=0.97730\n",
      "C=21.05345 | valid_logloss=0.08664,  valid_accu=0.97730\n",
      "C=21.29749 | valid_logloss=0.08653,  valid_accu=0.97730\n",
      "C=21.54435 | valid_logloss=0.08600,  valid_accu=0.97730\n",
      "C=21.79407 | valid_logloss=0.08424,  valid_accu=0.97864\n",
      "C=22.04669 | valid_logloss=0.08619,  valid_accu=0.97864\n",
      "C=22.30223 | valid_logloss=0.08901,  valid_accu=0.97730\n",
      "C=22.56074 | valid_logloss=0.08701,  valid_accu=0.97997\n",
      "C=22.82224 | valid_logloss=0.08691,  valid_accu=0.98131\n",
      "C=23.08678 | valid_logloss=0.08858,  valid_accu=0.97730\n",
      "C=23.35438 | valid_logloss=0.08955,  valid_accu=0.97864\n",
      "C=23.62508 | valid_logloss=0.08975,  valid_accu=0.97864\n",
      "C=23.89893 | valid_logloss=0.09126,  valid_accu=0.97597\n",
      "C=24.17594 | valid_logloss=0.09039,  valid_accu=0.97730\n",
      "C=24.45617 | valid_logloss=0.08995,  valid_accu=0.97730\n",
      "C=24.73964 | valid_logloss=0.09158,  valid_accu=0.97597\n",
      "C=25.02640 | valid_logloss=0.09187,  valid_accu=0.97463\n",
      "C=25.31648 | valid_logloss=0.09235,  valid_accu=0.97597\n",
      "C=25.60993 | valid_logloss=0.08884,  valid_accu=0.97730\n",
      "C=25.90678 | valid_logloss=0.09259,  valid_accu=0.97597\n",
      "C=26.20707 | valid_logloss=0.09150,  valid_accu=0.97730\n",
      "C=26.51084 | valid_logloss=0.09012,  valid_accu=0.97864\n",
      "C=26.81813 | valid_logloss=0.09018,  valid_accu=0.97730\n",
      "C=27.12898 | valid_logloss=0.09035,  valid_accu=0.97730\n",
      "C=27.44343 | valid_logloss=0.09075,  valid_accu=0.97730\n",
      "C=27.76153 | valid_logloss=0.09022,  valid_accu=0.97730\n",
      "C=28.08332 | valid_logloss=0.09053,  valid_accu=0.97730\n",
      "C=28.40884 | valid_logloss=0.09071,  valid_accu=0.97730\n",
      "C=28.73813 | valid_logloss=0.09121,  valid_accu=0.97864\n",
      "C=29.07123 | valid_logloss=0.09205,  valid_accu=0.97730\n",
      "C=29.40820 | valid_logloss=0.09109,  valid_accu=0.97597\n",
      "C=29.74908 | valid_logloss=0.09126,  valid_accu=0.97597\n",
      "C=30.09390 | valid_logloss=0.09142,  valid_accu=0.97597\n",
      "C=30.44272 | valid_logloss=0.09155,  valid_accu=0.97997\n",
      "C=30.79559 | valid_logloss=0.09177,  valid_accu=0.97864\n",
      "C=31.15254 | valid_logloss=0.09319,  valid_accu=0.97730\n",
      "C=31.51363 | valid_logloss=0.09145,  valid_accu=0.97730\n",
      "C=31.87891 | valid_logloss=0.08986,  valid_accu=0.97730\n",
      "C=32.24842 | valid_logloss=0.09206,  valid_accu=0.97597\n",
      "C=32.62222 | valid_logloss=0.09223,  valid_accu=0.97597\n",
      "C=33.00035 | valid_logloss=0.09535,  valid_accu=0.97597\n",
      "C=33.38286 | valid_logloss=0.09405,  valid_accu=0.97597\n",
      "C=33.76980 | valid_logloss=0.09353,  valid_accu=0.97730\n",
      "C=34.16123 | valid_logloss=0.09375,  valid_accu=0.97730\n",
      "C=34.55720 | valid_logloss=0.09391,  valid_accu=0.97730\n",
      "C=34.95776 | valid_logloss=0.09453,  valid_accu=0.97730\n",
      "C=35.36296 | valid_logloss=0.09471,  valid_accu=0.97730\n",
      "C=35.77285 | valid_logloss=0.09488,  valid_accu=0.97730\n",
      "C=36.18750 | valid_logloss=0.09503,  valid_accu=0.97730\n",
      "C=36.60695 | valid_logloss=0.09505,  valid_accu=0.97730\n",
      "C=37.03127 | valid_logloss=0.09373,  valid_accu=0.97463\n",
      "C=37.46050 | valid_logloss=0.09468,  valid_accu=0.97597\n",
      "C=37.89471 | valid_logloss=0.09520,  valid_accu=0.97597\n",
      "C=38.33395 | valid_logloss=0.09543,  valid_accu=0.97597\n",
      "C=38.77828 | valid_logloss=0.09731,  valid_accu=0.97730\n",
      "C=39.22777 | valid_logloss=0.09828,  valid_accu=0.97730\n",
      "C=39.68246 | valid_logloss=0.09845,  valid_accu=0.97730\n",
      "C=40.14242 | valid_logloss=0.09468,  valid_accu=0.97730\n",
      "C=40.60772 | valid_logloss=0.09482,  valid_accu=0.97730\n",
      "C=41.07841 | valid_logloss=0.09772,  valid_accu=0.97864\n",
      "C=41.55455 | valid_logloss=0.09655,  valid_accu=0.97597\n",
      "C=42.03622 | valid_logloss=0.09892,  valid_accu=0.97597\n",
      "C=42.52346 | valid_logloss=0.09825,  valid_accu=0.97730\n",
      "C=43.01636 | valid_logloss=0.09827,  valid_accu=0.97597\n",
      "C=43.51497 | valid_logloss=0.09710,  valid_accu=0.97597\n",
      "C=44.01935 | valid_logloss=0.09828,  valid_accu=0.97730\n",
      "C=44.52959 | valid_logloss=0.09875,  valid_accu=0.97597\n",
      "C=45.04573 | valid_logloss=0.09883,  valid_accu=0.97463\n",
      "C=45.56786 | valid_logloss=0.09898,  valid_accu=0.97463\n",
      "C=46.09604 | valid_logloss=0.09936,  valid_accu=0.97597\n",
      "C=46.63035 | valid_logloss=0.09803,  valid_accu=0.97730\n",
      "C=47.17085 | valid_logloss=0.09818,  valid_accu=0.97730\n",
      "C=47.71761 | valid_logloss=0.09993,  valid_accu=0.97463\n",
      "C=48.27071 | valid_logloss=0.10069,  valid_accu=0.97730\n",
      "C=48.83022 | valid_logloss=0.09737,  valid_accu=0.97597\n",
      "C=49.39622 | valid_logloss=0.09774,  valid_accu=0.97730\n",
      "C=49.96877 | valid_logloss=0.10020,  valid_accu=0.97463\n",
      "C=50.54797 | valid_logloss=0.09919,  valid_accu=0.97730\n",
      "C=51.13388 | valid_logloss=0.09933,  valid_accu=0.97730\n",
      "C=51.72657 | valid_logloss=0.09794,  valid_accu=0.97730\n",
      "C=52.32614 | valid_logloss=0.09808,  valid_accu=0.97730\n",
      "C=52.93266 | valid_logloss=0.09900,  valid_accu=0.97864\n",
      "C=53.54621 | valid_logloss=0.09807,  valid_accu=0.97864\n",
      "C=54.16687 | valid_logloss=0.09957,  valid_accu=0.97597\n",
      "C=54.79472 | valid_logloss=0.09996,  valid_accu=0.97463\n"
     ]
    },
    {
     "name": "stdout",
     "output_type": "stream",
     "text": [
      "C=55.42986 | valid_logloss=0.10027,  valid_accu=0.97597\n",
      "C=56.07235 | valid_logloss=0.10039,  valid_accu=0.97597\n",
      "C=56.72229 | valid_logloss=0.10527,  valid_accu=0.97730\n",
      "C=57.37976 | valid_logloss=0.10610,  valid_accu=0.97730\n",
      "C=58.04486 | valid_logloss=0.10161,  valid_accu=0.97597\n",
      "C=58.71766 | valid_logloss=0.10022,  valid_accu=0.97597\n",
      "C=59.39827 | valid_logloss=0.10036,  valid_accu=0.97597\n",
      "C=60.08676 | valid_logloss=0.10049,  valid_accu=0.97597\n",
      "C=60.78323 | valid_logloss=0.10080,  valid_accu=0.97597\n",
      "C=61.48778 | valid_logloss=0.10094,  valid_accu=0.97597\n",
      "C=62.20049 | valid_logloss=0.10108,  valid_accu=0.97597\n",
      "C=62.92146 | valid_logloss=0.10122,  valid_accu=0.97597\n",
      "C=63.65079 | valid_logloss=0.10136,  valid_accu=0.97597\n",
      "C=64.38857 | valid_logloss=0.10150,  valid_accu=0.97597\n",
      "C=65.13491 | valid_logloss=0.10164,  valid_accu=0.97597\n",
      "C=65.88990 | valid_logloss=0.10178,  valid_accu=0.97597\n",
      "C=66.65363 | valid_logloss=0.10192,  valid_accu=0.97597\n",
      "C=67.42622 | valid_logloss=0.10261,  valid_accu=0.97597\n",
      "C=68.20777 | valid_logloss=0.10375,  valid_accu=0.97597\n",
      "C=68.99837 | valid_logloss=0.10088,  valid_accu=0.97730\n",
      "C=69.79814 | valid_logloss=0.10099,  valid_accu=0.97730\n",
      "C=70.60718 | valid_logloss=0.10050,  valid_accu=0.97730\n",
      "C=71.42559 | valid_logloss=0.10061,  valid_accu=0.97730\n",
      "C=72.25349 | valid_logloss=0.10071,  valid_accu=0.97730\n",
      "C=73.09099 | valid_logloss=0.10837,  valid_accu=0.97997\n",
      "C=73.93820 | valid_logloss=0.10253,  valid_accu=0.97597\n",
      "C=74.79523 | valid_logloss=0.10228,  valid_accu=0.97597\n",
      "C=75.66219 | valid_logloss=0.10239,  valid_accu=0.97597\n",
      "C=76.53919 | valid_logloss=0.10250,  valid_accu=0.97597\n",
      "C=77.42637 | valid_logloss=0.10261,  valid_accu=0.97597\n",
      "C=78.32383 | valid_logloss=0.10272,  valid_accu=0.97597\n",
      "C=79.23169 | valid_logloss=0.10283,  valid_accu=0.97597\n",
      "C=80.15007 | valid_logloss=0.10297,  valid_accu=0.97597\n",
      "C=81.07910 | valid_logloss=0.10307,  valid_accu=0.97597\n",
      "C=82.01889 | valid_logloss=0.10506,  valid_accu=0.97597\n",
      "C=82.96959 | valid_logloss=0.10517,  valid_accu=0.97597\n",
      "C=83.93129 | valid_logloss=0.10528,  valid_accu=0.97597\n",
      "C=84.90415 | valid_logloss=0.10539,  valid_accu=0.97597\n",
      "C=85.88829 | valid_logloss=0.10530,  valid_accu=0.97463\n",
      "C=86.88383 | valid_logloss=0.10541,  valid_accu=0.97463\n",
      "C=87.89091 | valid_logloss=0.10552,  valid_accu=0.97463\n",
      "C=88.90966 | valid_logloss=0.10563,  valid_accu=0.97463\n",
      "C=89.94022 | valid_logloss=0.10574,  valid_accu=0.97463\n",
      "C=90.98273 | valid_logloss=0.10427,  valid_accu=0.97597\n",
      "C=92.03732 | valid_logloss=0.10437,  valid_accu=0.97597\n",
      "C=93.10413 | valid_logloss=0.10448,  valid_accu=0.97597\n",
      "C=94.18332 | valid_logloss=0.10699,  valid_accu=0.97730\n",
      "C=95.27500 | valid_logloss=0.10710,  valid_accu=0.97730\n",
      "C=96.37935 | valid_logloss=0.10721,  valid_accu=0.97730\n",
      "C=97.49649 | valid_logloss=0.10667,  valid_accu=0.97597\n",
      "C=98.62658 | valid_logloss=0.10677,  valid_accu=0.97597\n",
      "C=99.76978 | valid_logloss=0.10687,  valid_accu=0.97597\n",
      "C=100.92622 | valid_logloss=0.10697,  valid_accu=0.97597\n",
      "C=102.09607 | valid_logloss=0.10707,  valid_accu=0.97597\n",
      "C=103.27947 | valid_logloss=0.10712,  valid_accu=0.97597\n",
      "C=104.47660 | valid_logloss=0.10722,  valid_accu=0.97597\n",
      "C=105.68760 | valid_logloss=0.10761,  valid_accu=0.97597\n",
      "C=106.91263 | valid_logloss=0.10770,  valid_accu=0.97597\n",
      "C=108.15187 | valid_logloss=0.10780,  valid_accu=0.97597\n",
      "C=109.40547 | valid_logloss=0.10790,  valid_accu=0.97597\n",
      "C=110.67360 | valid_logloss=0.10799,  valid_accu=0.97597\n",
      "C=111.95643 | valid_logloss=0.10808,  valid_accu=0.97597\n",
      "C=113.25413 | valid_logloss=0.10818,  valid_accu=0.97597\n",
      "C=114.56687 | valid_logloss=0.10827,  valid_accu=0.97597\n",
      "C=115.89483 | valid_logloss=0.10836,  valid_accu=0.97597\n",
      "C=117.23818 | valid_logloss=0.10845,  valid_accu=0.97597\n",
      "C=118.59710 | valid_logloss=0.10854,  valid_accu=0.97597\n",
      "C=119.97177 | valid_logloss=0.10863,  valid_accu=0.97597\n",
      "C=121.36238 | valid_logloss=0.10872,  valid_accu=0.97597\n",
      "C=122.76910 | valid_logloss=0.10881,  valid_accu=0.97597\n",
      "C=124.19214 | valid_logloss=0.10890,  valid_accu=0.97597\n",
      "C=125.63166 | valid_logloss=0.10898,  valid_accu=0.97597\n",
      "C=127.08787 | valid_logloss=0.10907,  valid_accu=0.97597\n",
      "C=128.56096 | valid_logloss=0.10915,  valid_accu=0.97597\n",
      "C=130.05113 | valid_logloss=0.10871,  valid_accu=0.97597\n",
      "C=131.55856 | valid_logloss=0.10881,  valid_accu=0.97597\n",
      "C=133.08347 | valid_logloss=0.10889,  valid_accu=0.97597\n",
      "C=134.62606 | valid_logloss=0.10898,  valid_accu=0.97597\n",
      "C=136.18652 | valid_logloss=0.10906,  valid_accu=0.97597\n",
      "C=137.76508 | valid_logloss=0.10914,  valid_accu=0.97597\n",
      "C=139.36193 | valid_logloss=0.10851,  valid_accu=0.97597\n",
      "C=140.97729 | valid_logloss=0.10858,  valid_accu=0.97597\n",
      "C=142.61137 | valid_logloss=0.10865,  valid_accu=0.97597\n",
      "C=144.26440 | valid_logloss=0.10872,  valid_accu=0.97597\n",
      "C=145.93658 | valid_logloss=0.10879,  valid_accu=0.97597\n",
      "C=147.62815 | valid_logloss=0.10886,  valid_accu=0.97597\n",
      "C=149.33932 | valid_logloss=0.10893,  valid_accu=0.97597\n",
      "C=151.07033 | valid_logloss=0.10900,  valid_accu=0.97597\n",
      "C=152.82140 | valid_logloss=0.10906,  valid_accu=0.97597\n",
      "C=154.59277 | valid_logloss=0.10913,  valid_accu=0.97597\n",
      "C=156.38468 | valid_logloss=0.10919,  valid_accu=0.97597\n",
      "C=158.19735 | valid_logloss=0.10926,  valid_accu=0.97597\n",
      "C=160.03103 | valid_logloss=0.10932,  valid_accu=0.97463\n",
      "C=161.88597 | valid_logloss=0.10939,  valid_accu=0.97463\n",
      "C=163.76241 | valid_logloss=0.10945,  valid_accu=0.97463\n",
      "C=165.66060 | valid_logloss=0.11256,  valid_accu=0.97330\n",
      "C=167.58079 | valid_logloss=0.11264,  valid_accu=0.97330\n",
      "C=169.52323 | valid_logloss=0.11271,  valid_accu=0.97330\n",
      "C=171.48820 | valid_logloss=0.11278,  valid_accu=0.97330\n",
      "C=173.47594 | valid_logloss=0.11285,  valid_accu=0.97330\n",
      "C=175.48671 | valid_logloss=0.11239,  valid_accu=0.97330\n",
      "C=177.52080 | valid_logloss=0.11247,  valid_accu=0.97330\n",
      "C=179.57846 | valid_logloss=0.11254,  valid_accu=0.97330\n",
      "C=181.65998 | valid_logloss=0.11260,  valid_accu=0.97330\n",
      "C=183.76562 | valid_logloss=0.11267,  valid_accu=0.97330\n",
      "C=185.89567 | valid_logloss=0.11274,  valid_accu=0.97330\n",
      "C=188.05041 | valid_logloss=0.11281,  valid_accu=0.97330\n",
      "C=190.23012 | valid_logloss=0.11288,  valid_accu=0.97330\n",
      "C=192.43510 | valid_logloss=0.11294,  valid_accu=0.97330\n",
      "C=194.66563 | valid_logloss=0.11301,  valid_accu=0.97330\n",
      "C=196.92203 | valid_logloss=0.11307,  valid_accu=0.97330\n",
      "C=199.20457 | valid_logloss=0.11535,  valid_accu=0.97463\n",
      "C=201.51357 | valid_logloss=0.11543,  valid_accu=0.97463\n",
      "C=203.84934 | valid_logloss=0.11550,  valid_accu=0.97463\n",
      "C=206.21218 | valid_logloss=0.11557,  valid_accu=0.97463\n",
      "C=208.60241 | valid_logloss=0.11564,  valid_accu=0.97463\n",
      "C=211.02034 | valid_logloss=0.11571,  valid_accu=0.97463\n",
      "C=213.46630 | valid_logloss=0.11578,  valid_accu=0.97463\n",
      "C=215.94062 | valid_logloss=0.11585,  valid_accu=0.97463\n",
      "C=218.44361 | valid_logloss=0.11592,  valid_accu=0.97463\n",
      "C=220.97561 | valid_logloss=0.11599,  valid_accu=0.97463\n",
      "C=223.53696 | valid_logloss=0.11605,  valid_accu=0.97463\n",
      "C=226.12801 | valid_logloss=0.11612,  valid_accu=0.97463\n",
      "C=228.74908 | valid_logloss=0.11619,  valid_accu=0.97463\n",
      "C=231.40054 | valid_logloss=0.11625,  valid_accu=0.97463\n",
      "C=234.08273 | valid_logloss=0.11632,  valid_accu=0.97463\n",
      "C=236.79601 | valid_logloss=0.11638,  valid_accu=0.97463\n",
      "C=239.54074 | valid_logloss=0.11645,  valid_accu=0.97463\n",
      "C=242.31728 | valid_logloss=0.11651,  valid_accu=0.97463\n",
      "C=245.12601 | valid_logloss=0.11657,  valid_accu=0.97463\n",
      "C=247.96729 | valid_logloss=0.11663,  valid_accu=0.97463\n",
      "C=250.84151 | valid_logloss=0.11669,  valid_accu=0.97463\n",
      "C=253.74904 | valid_logloss=0.11675,  valid_accu=0.97463\n",
      "C=256.69027 | valid_logloss=0.11681,  valid_accu=0.97463\n",
      "C=259.66560 | valid_logloss=0.11687,  valid_accu=0.97463\n",
      "C=262.67541 | valid_logloss=0.11693,  valid_accu=0.97463\n",
      "C=265.72011 | valid_logloss=0.11699,  valid_accu=0.97463\n",
      "C=268.80010 | valid_logloss=0.11705,  valid_accu=0.97463\n",
      "C=271.91579 | valid_logloss=0.11140,  valid_accu=0.97330\n",
      "C=275.06760 | valid_logloss=0.11145,  valid_accu=0.97330\n",
      "C=278.25594 | valid_logloss=0.11149,  valid_accu=0.97330\n",
      "C=281.48124 | valid_logloss=0.11153,  valid_accu=0.97330\n",
      "C=284.74392 | valid_logloss=0.11157,  valid_accu=0.97330\n",
      "C=288.04442 | valid_logloss=0.11161,  valid_accu=0.97330\n",
      "C=291.38317 | valid_logloss=0.11165,  valid_accu=0.97330\n",
      "C=294.76063 | valid_logloss=0.11169,  valid_accu=0.97330\n",
      "C=298.17723 | valid_logloss=0.11173,  valid_accu=0.97330\n"
     ]
    },
    {
     "name": "stdout",
     "output_type": "stream",
     "text": [
      "C=301.63343 | valid_logloss=0.11177,  valid_accu=0.97330\n",
      "C=305.12970 | valid_logloss=0.11181,  valid_accu=0.97330\n",
      "C=308.66649 | valid_logloss=0.11184,  valid_accu=0.97330\n",
      "C=312.24428 | valid_logloss=0.11188,  valid_accu=0.97330\n",
      "C=315.86354 | valid_logloss=0.11192,  valid_accu=0.97330\n",
      "C=319.52475 | valid_logloss=0.11195,  valid_accu=0.97330\n",
      "C=323.22840 | valid_logloss=0.11199,  valid_accu=0.97330\n",
      "C=326.97497 | valid_logloss=0.11203,  valid_accu=0.97330\n",
      "C=330.76498 | valid_logloss=0.11206,  valid_accu=0.97330\n",
      "C=334.59891 | valid_logloss=0.11210,  valid_accu=0.97330\n",
      "C=338.47729 | valid_logloss=0.11213,  valid_accu=0.97330\n",
      "C=342.40061 | valid_logloss=0.11216,  valid_accu=0.97330\n",
      "C=346.36942 | valid_logloss=0.11220,  valid_accu=0.97330\n",
      "C=350.38422 | valid_logloss=0.11223,  valid_accu=0.97330\n",
      "C=354.44557 | valid_logloss=0.11226,  valid_accu=0.97330\n",
      "C=358.55399 | valid_logloss=0.11230,  valid_accu=0.97330\n",
      "C=362.71003 | valid_logloss=0.11233,  valid_accu=0.97330\n",
      "C=366.91424 | valid_logloss=0.11236,  valid_accu=0.97330\n",
      "C=371.16718 | valid_logloss=0.11239,  valid_accu=0.97330\n",
      "C=375.46942 | valid_logloss=0.11242,  valid_accu=0.97330\n",
      "C=379.82153 | valid_logloss=0.11245,  valid_accu=0.97330\n",
      "C=384.22408 | valid_logloss=0.11248,  valid_accu=0.97330\n",
      "C=388.67767 | valid_logloss=0.11251,  valid_accu=0.97330\n",
      "C=393.18288 | valid_logloss=0.11254,  valid_accu=0.97330\n",
      "C=397.74030 | valid_logloss=0.11257,  valid_accu=0.97330\n",
      "C=402.35055 | valid_logloss=0.11260,  valid_accu=0.97330\n",
      "C=407.01425 | valid_logloss=0.11263,  valid_accu=0.97330\n",
      "C=411.73199 | valid_logloss=0.11266,  valid_accu=0.97330\n",
      "C=416.50442 | valid_logloss=0.11269,  valid_accu=0.97330\n",
      "C=421.33217 | valid_logloss=0.11271,  valid_accu=0.97330\n",
      "C=426.21588 | valid_logloss=0.11274,  valid_accu=0.97330\n",
      "C=431.15620 | valid_logloss=0.11277,  valid_accu=0.97330\n",
      "C=436.15378 | valid_logloss=0.11280,  valid_accu=0.97330\n",
      "C=441.20929 | valid_logloss=0.11282,  valid_accu=0.97330\n",
      "C=446.32339 | valid_logloss=0.11285,  valid_accu=0.97330\n",
      "C=451.49678 | valid_logloss=0.11288,  valid_accu=0.97330\n",
      "C=456.73013 | valid_logloss=0.11290,  valid_accu=0.97330\n",
      "C=462.02414 | valid_logloss=0.11293,  valid_accu=0.97330\n",
      "C=467.37951 | valid_logloss=0.11295,  valid_accu=0.97330\n",
      "C=472.79696 | valid_logloss=0.11298,  valid_accu=0.97330\n",
      "C=478.27720 | valid_logloss=0.11300,  valid_accu=0.97330\n",
      "C=483.82097 | valid_logloss=0.11303,  valid_accu=0.97330\n",
      "C=489.42899 | valid_logloss=0.11305,  valid_accu=0.97196\n",
      "C=495.10202 | valid_logloss=0.11307,  valid_accu=0.97196\n",
      "C=500.84080 | valid_logloss=0.11310,  valid_accu=0.97196\n",
      "C=506.64610 | valid_logloss=0.11312,  valid_accu=0.97196\n",
      "C=512.51869 | valid_logloss=0.11315,  valid_accu=0.97196\n",
      "C=518.45935 | valid_logloss=0.11317,  valid_accu=0.97196\n",
      "C=524.46887 | valid_logloss=0.11319,  valid_accu=0.97196\n",
      "C=530.54805 | valid_logloss=0.11321,  valid_accu=0.97196\n",
      "C=536.69769 | valid_logloss=0.11324,  valid_accu=0.97196\n",
      "C=542.91862 | valid_logloss=0.11326,  valid_accu=0.97196\n",
      "C=549.21165 | valid_logloss=0.11328,  valid_accu=0.97196\n",
      "C=555.57762 | valid_logloss=0.11330,  valid_accu=0.97196\n",
      "C=562.01738 | valid_logloss=0.11332,  valid_accu=0.97196\n",
      "C=568.53179 | valid_logloss=0.11334,  valid_accu=0.97196\n",
      "C=575.12171 | valid_logloss=0.11336,  valid_accu=0.97196\n",
      "C=581.78801 | valid_logloss=0.11339,  valid_accu=0.97196\n",
      "C=588.53158 | valid_logloss=0.11341,  valid_accu=0.97196\n",
      "C=595.35331 | valid_logloss=0.11343,  valid_accu=0.97196\n",
      "C=602.25412 | valid_logloss=0.11345,  valid_accu=0.97196\n",
      "C=609.23492 | valid_logloss=0.11347,  valid_accu=0.97196\n",
      "C=616.29663 | valid_logloss=0.11349,  valid_accu=0.97196\n",
      "C=623.44019 | valid_logloss=0.11351,  valid_accu=0.97196\n",
      "C=630.66655 | valid_logloss=0.11352,  valid_accu=0.97196\n",
      "C=637.97668 | valid_logloss=0.11354,  valid_accu=0.97196\n",
      "C=645.37154 | valid_logloss=0.11356,  valid_accu=0.97196\n",
      "C=652.85211 | valid_logloss=0.11358,  valid_accu=0.97196\n",
      "C=660.41940 | valid_logloss=0.11360,  valid_accu=0.97196\n",
      "C=668.07439 | valid_logloss=0.11362,  valid_accu=0.97196\n",
      "C=675.81812 | valid_logloss=0.11364,  valid_accu=0.97196\n",
      "C=683.65160 | valid_logloss=0.11365,  valid_accu=0.97196\n",
      "C=691.57588 | valid_logloss=0.11367,  valid_accu=0.97196\n",
      "C=699.59202 | valid_logloss=0.11369,  valid_accu=0.97196\n",
      "C=707.70107 | valid_logloss=0.11371,  valid_accu=0.97196\n",
      "C=715.90411 | valid_logloss=0.11372,  valid_accu=0.97196\n",
      "C=724.20223 | valid_logloss=0.11374,  valid_accu=0.97196\n",
      "C=732.59654 | valid_logloss=0.11376,  valid_accu=0.97196\n",
      "C=741.08815 | valid_logloss=0.11377,  valid_accu=0.97196\n",
      "C=749.67819 | valid_logloss=0.11379,  valid_accu=0.97196\n",
      "C=758.36779 | valid_logloss=0.11380,  valid_accu=0.97196\n",
      "C=767.15812 | valid_logloss=0.11382,  valid_accu=0.97196\n",
      "C=776.05033 | valid_logloss=0.11384,  valid_accu=0.97196\n",
      "C=785.04562 | valid_logloss=0.11385,  valid_accu=0.97196\n",
      "C=794.14517 | valid_logloss=0.11387,  valid_accu=0.97196\n",
      "C=803.35020 | valid_logloss=0.11388,  valid_accu=0.97196\n",
      "C=812.66192 | valid_logloss=0.11390,  valid_accu=0.97196\n",
      "C=822.08158 | valid_logloss=0.11391,  valid_accu=0.97196\n",
      "C=831.61042 | valid_logloss=0.11393,  valid_accu=0.97196\n",
      "C=841.24970 | valid_logloss=0.11394,  valid_accu=0.97196\n",
      "C=851.00072 | valid_logloss=0.11396,  valid_accu=0.97196\n",
      "C=860.86477 | valid_logloss=0.11397,  valid_accu=0.97196\n",
      "C=870.84315 | valid_logloss=0.11398,  valid_accu=0.97196\n",
      "C=880.93719 | valid_logloss=0.11400,  valid_accu=0.97196\n",
      "C=891.14823 | valid_logloss=0.11401,  valid_accu=0.97196\n",
      "C=901.47763 | valid_logloss=0.11403,  valid_accu=0.97196\n",
      "C=911.92676 | valid_logloss=0.11404,  valid_accu=0.97196\n",
      "C=922.49701 | valid_logloss=0.11405,  valid_accu=0.97196\n",
      "C=933.18977 | valid_logloss=0.11407,  valid_accu=0.97196\n",
      "C=944.00648 | valid_logloss=0.11408,  valid_accu=0.97196\n",
      "C=954.94856 | valid_logloss=0.11409,  valid_accu=0.97196\n",
      "C=966.01748 | valid_logloss=0.11410,  valid_accu=0.97196\n",
      "C=977.21470 | valid_logloss=0.11412,  valid_accu=0.97196\n",
      "C=988.54170 | valid_logloss=0.11413,  valid_accu=0.97196\n",
      "C=1000.00000 | valid_logloss=0.11414,  valid_accu=0.97196\n"
     ]
    }
   ],
   "source": [
    "# Perform grid search\n",
    "data_out = 'data_lasso_13LungCancer'\n",
    "iterator = tqdm.notebook.tqdm(range(1, len(grid_C) + 1), desc='C-grid loop')\n",
    "for n in iterator:\n",
    "    irow = n-1\n",
    "    params['C'] = grid_C[irow]\n",
    "    log_clf = LogisticRegression(**params).fit(xtrain, ytrain.ravel())\n",
    "    \n",
    "    ypred = log_clf.predict_proba(xvalid)\n",
    "    val_loss = log_loss(yvalid, ypred)\n",
    "    val_accu = log_clf.score(xvalid, yvalid.ravel())\n",
    "    \n",
    "    df_grid_loss.iloc[irow,:] = [params['C'], val_loss, val_accu]\n",
    "    print(\"C={:.5f} | valid_logloss={:.5f},  valid_accu={:.5f}\".format(params['C'], \n",
    "                                                                       val_loss, \n",
    "                                                                       val_accu))\n",
    "    \n",
    "df_grid_loss.to_csv(os.path.join(data_out, 'df_grid_loss.csv'), index=None)"
   ]
  },
  {
   "cell_type": "code",
   "execution_count": 13,
   "metadata": {
    "ExecuteTime": {
     "end_time": "2021-04-13T01:09:32.777809Z",
     "start_time": "2021-04-13T01:09:32.765747Z"
    },
    "code_folding": [
     0
    ]
   },
   "outputs": [
    {
     "name": "stdout",
     "output_type": "stream",
     "text": [
      "Best parameters (323):\n",
      "- Best C = 0.41363\n",
      "- Best valid loss = 0.04708\n"
     ]
    }
   ],
   "source": [
    "# Display grid search results\n",
    "data_out = 'data_lasso_13LungCancer'\n",
    "df_grid_loss = pd.read_csv(os.path.join(data_out, 'df_grid_loss.csv'))\n",
    "\n",
    "idx = df_grid_loss.valid_loss.idxmin()\n",
    "best_C   = df_grid_loss.iloc[idx, 0]\n",
    "best_loss  = df_grid_loss.iloc[idx, 1]\n",
    "print(\"Best parameters ({}):\".format(idx))\n",
    "print(\"- Best C = {:.5f}\".format(best_C))\n",
    "print(\"- Best valid loss = {:.5f}\".format(best_loss))"
   ]
  },
  {
   "cell_type": "code",
   "execution_count": 14,
   "metadata": {
    "ExecuteTime": {
     "end_time": "2021-04-13T01:09:42.482439Z",
     "start_time": "2021-04-13T01:09:42.305822Z"
    },
    "code_folding": [
     0
    ]
   },
   "outputs": [
    {
     "data": {
      "image/png": "[encoded data removed]",
      "text/plain": [
       "<Figure size 720x432 with 1 Axes>"
      ]
     },
     "metadata": {
      "needs_background": "light"
     },
     "output_type": "display_data"
    }
   ],
   "source": [
    "# Plot Loss vs point in grid search\n",
    "data_out = 'data_lasso_13LungCancer'\n",
    "df_grid_loss = pd.read_csv(os.path.join(data_out, 'df_grid_loss.csv'))\n",
    "fig, axes = plt.subplots(figsize=(10,6))\n",
    "axes.scatter(df_grid_loss.index, df_grid_loss['valid_loss'])\n",
    "axes.plot(df_grid_loss.index, df_grid_loss['valid_loss'])\n",
    "axes.set_xlabel(\"grid search point\")\n",
    "axes.set_ylabel(\"Valid Logloss\")\n",
    "plt.show()"
   ]
  },
  {
   "cell_type": "code",
   "execution_count": 15,
   "metadata": {
    "ExecuteTime": {
     "end_time": "2021-04-13T01:09:50.977862Z",
     "start_time": "2021-04-13T01:09:50.922814Z"
    },
    "code_folding": [
     0
    ]
   },
   "outputs": [],
   "source": [
    "# Train with best hyperparameters\n",
    "params['C'] = best_C\n",
    "log_clf = LogisticRegression(**params).fit(xtrain, ytrain.ravel())"
   ]
  },
  {
   "cell_type": "code",
   "execution_count": 16,
   "metadata": {
    "ExecuteTime": {
     "end_time": "2021-04-13T01:10:00.032103Z",
     "start_time": "2021-04-13T01:10:00.023758Z"
    },
    "code_folding": [
     0
    ]
   },
   "outputs": [
    {
     "name": "stdout",
     "output_type": "stream",
     "text": [
      "model saved at: 'data_lasso_13LungCancer/lasso_model_val.pkl'\n",
      "best params saved at: 'data_lasso_13LungCancer/lasso_best_params.json'\n"
     ]
    }
   ],
   "source": [
    "# Save model and model's best params\n",
    "data_out = 'data_lasso_13LungCancer'\n",
    "joblib.dump(log_clf, os.path.join(data_out, 'lasso_model_val.pkl'))\n",
    "print(\"model saved at: '{}'\".format(os.path.join(data_out, 'lasso_model_val.pkl')))\n",
    "\n",
    "best_params = {}\n",
    "best_params['C'] = best_C\n",
    "with open(os.path.join(data_out, 'lasso_best_params.json'), 'w') as f:\n",
    "    json.dump(best_params, f)\n",
    "print(\"best params saved at: '{}'\".format(os.path.join(data_out, 'lasso_best_params.json')))"
   ]
  },
  {
   "cell_type": "code",
   "execution_count": 17,
   "metadata": {
    "ExecuteTime": {
     "end_time": "2021-04-13T01:10:10.553282Z",
     "start_time": "2021-04-13T01:10:10.518685Z"
    },
    "code_folding": [
     0
    ]
   },
   "outputs": [
    {
     "name": "stdout",
     "output_type": "stream",
     "text": [
      "model results saved at: 'data_lasso_13LungCancer/results_target_val.csv'\n"
     ]
    },
    {
     "data": {
      "text/html": [
       "<div>\n",
       "<style scoped>\n",
       "    .dataframe tbody tr th:only-of-type {\n",
       "        vertical-align: middle;\n",
       "    }\n",
       "\n",
       "    .dataframe tbody tr th {\n",
       "        vertical-align: top;\n",
       "    }\n",
       "\n",
       "    .dataframe thead th {\n",
       "        text-align: right;\n",
       "    }\n",
       "</style>\n",
       "<table border=\"1\" class=\"dataframe\">\n",
       "  <thead>\n",
       "    <tr style=\"text-align: right;\">\n",
       "      <th></th>\n",
       "      <th>accuracy</th>\n",
       "      <th>roc_auc</th>\n",
       "    </tr>\n",
       "  </thead>\n",
       "  <tbody>\n",
       "    <tr>\n",
       "      <th>train</th>\n",
       "      <td>0.995102</td>\n",
       "      <td>0.994862</td>\n",
       "    </tr>\n",
       "    <tr>\n",
       "      <th>valid</th>\n",
       "      <td>0.981308</td>\n",
       "      <td>0.981341</td>\n",
       "    </tr>\n",
       "    <tr>\n",
       "      <th>test</th>\n",
       "      <td>0.971963</td>\n",
       "      <td>0.973613</td>\n",
       "    </tr>\n",
       "  </tbody>\n",
       "</table>\n",
       "</div>"
      ],
      "text/plain": [
       "       accuracy   roc_auc\n",
       "train  0.995102  0.994862\n",
       "valid  0.981308  0.981341\n",
       "test   0.971963  0.973613"
      ]
     },
     "execution_count": 17,
     "metadata": {},
     "output_type": "execute_result"
    }
   ],
   "source": [
    "# Find MSE, R2, Accuracy, etc...\n",
    "data_out = 'data_lasso_13LungCancer'\n",
    "model = joblib.load(os.path.join(data_out, 'lasso_model_val.pkl'))\n",
    "\n",
    "df_results = pd.DataFrame(index=['train', 'valid', 'test'], \n",
    "                           columns=['accuracy', 'roc_auc'])\n",
    "\n",
    "ypred = model.predict(xtrain)\n",
    "df_results.loc['train', 'accuracy'] = accuracy_score(ytrain, ypred)\n",
    "df_results.loc['train', 'roc_auc']  = roc_auc_score(ytrain, ypred)\n",
    "\n",
    "ypred = model.predict(xvalid)\n",
    "df_results.loc['valid', 'accuracy'] = accuracy_score(yvalid, ypred)\n",
    "df_results.loc['valid', 'roc_auc']  = roc_auc_score(yvalid, ypred)\n",
    "\n",
    "ypred = model.predict(xtest)\n",
    "df_results.loc['test', 'accuracy'] = accuracy_score(ytest, ypred)\n",
    "df_results.loc['test', 'roc_auc']  = roc_auc_score(ytest, ypred)\n",
    "\n",
    "# Save data\n",
    "df_results.to_csv(os.path.join(data_out, 'results_target_val.csv'), index=True)\n",
    "print(\"model results saved at: '{}'\".format(os.path.join(data_out, 'results_target_val.csv')))\n",
    "df_results.head()"
   ]
  },
  {
   "cell_type": "code",
   "execution_count": 125,
   "metadata": {
    "ExecuteTime": {
     "end_time": "2021-03-02T20:34:57.493725Z",
     "start_time": "2021-03-02T20:34:49.449269Z"
    },
    "code_folding": [
     0
    ]
   },
   "outputs": [
    {
     "data": {
      "application/vnd.jupyter.widget-view+json": {
       "model_id": "662690d90ea6416ba3afc0971673064d",
       "version_major": 2,
       "version_minor": 0
      },
      "text/plain": [
       "Partitions loop:   0%|          | 0/100 [00:00<?, ?it/s]"
      ]
     },
     "metadata": {},
     "output_type": "display_data"
    }
   ],
   "source": [
    "# Find Accuracy +/- STD\n",
    "data_in  = 'data_lasso_13LungCancer'\n",
    "data_out = 'data_lasso_13LungCancer/partitions'\n",
    "df_results = pd.DataFrame(columns=['train_acc', 'valid_acc', 'test_acc', 'train_roc', 'valid_roc', 'test_roc'])\n",
    "\n",
    "model = joblib.load(os.path.join(data_in, 'lasso_model_val.pkl'))\n",
    "\n",
    "partitions = 100\n",
    "iterator = tqdm.notebook.tqdm(range(1, partitions + 1), desc='Partitions loop')\n",
    "for n in iterator:\n",
    "    split_data(X, y, seed1=seed1[n], seed2=seed2[n])\n",
    "    \n",
    "# .normalize data sets\n",
    "    scaler = StandardScaler()\n",
    "    scaler.fit(xtrain)\n",
    "    xtrain = scaler.transform(xtrain)\n",
    "    xvalid = scaler.transform(xvalid)\n",
    "    xtest  = scaler.transform(xtest)\n",
    "    \n",
    "# .train model\n",
    "    ytrain = ytrain.values.ravel()\n",
    "    yvalid = yvalid.values.ravel()\n",
    "    ytest  = ytest.values.ravel()\n",
    "    model.fit(xtrain, ytrain)\n",
    "    \n",
    "# .compute/save accuracy\n",
    "    ypred = model.predict(xtrain)\n",
    "    df_results.loc[n, 'train_acc'] = accuracy_score(ytrain, ypred)\n",
    "    df_results.loc[n, 'train_roc']  = roc_auc_score(ytrain, ypred)\n",
    "\n",
    "    ypred = model.predict(xvalid)\n",
    "    df_results.loc[n, 'valid_acc'] = accuracy_score(yvalid, ypred)\n",
    "    df_results.loc[n, 'valid_roc']  = roc_auc_score(yvalid, ypred)\n",
    "\n",
    "    ypred = model.predict(xtest)\n",
    "    df_results.loc[n, 'test_acc'] = accuracy_score(ytest, ypred)\n",
    "    df_results.loc[n, 'test_roc']  = roc_auc_score(ytest, ypred)\n",
    "\n",
    "    joblib.dump(model, os.path.join(data_out, 'lasso_model_val_'+str(n)+'.pkl'))\n",
    "    df_results.to_csv(os.path.join(data_out, 'accuracy_lasso_val.csv'), index=True)"
   ]
  },
  {
   "cell_type": "code",
   "execution_count": 127,
   "metadata": {
    "ExecuteTime": {
     "end_time": "2021-03-02T20:35:43.962241Z",
     "start_time": "2021-03-02T20:35:43.952491Z"
    },
    "code_folding": [
     0
    ]
   },
   "outputs": [
    {
     "name": "stdout",
     "output_type": "stream",
     "text": [
      "Train accuracy = 0.994 +/- 0.001\n",
      "Valid accuracy = 0.979 +/- 0.005\n",
      "Test accuracy = 0.980 +/- 0.005\n"
     ]
    }
   ],
   "source": [
    "# Display results\n",
    "data_out = 'data_lasso_13LungCancer'\n",
    "accuracy_lasso = pd.read_csv(os.path.join(data_out, 'accuracy13_lasso_val.csv'))\n",
    "print(\"Train accuracy = {:.3f} +/- {:.3f}\".format(accuracy_lasso['train_acc'].mean(), \n",
    "                                                  accuracy_lasso['train_acc'].std()))\n",
    "print(\"Valid accuracy = {:.3f} +/- {:.3f}\".format(accuracy_lasso['valid_acc'].mean(), \n",
    "                                                  accuracy_lasso['valid_acc'].std()))\n",
    "print(\"Test accuracy = {:.3f} +/- {:.3f}\".format(accuracy_lasso['test_acc'].mean(), \n",
    "                                                 accuracy_lasso['test_acc'].std()))"
   ]
  },
  {
   "cell_type": "markdown",
   "metadata": {},
   "source": [
    "* ### Gradient Boosting"
   ]
  },
  {
   "cell_type": "code",
   "execution_count": 128,
   "metadata": {
    "ExecuteTime": {
     "end_time": "2021-03-02T20:36:28.540781Z",
     "start_time": "2021-03-02T20:36:28.261942Z"
    },
    "code_folding": [
     0
    ]
   },
   "outputs": [],
   "source": [
    "# Load data\n",
    "load_data('dataset_13LungCancer')\n",
    "\n",
    "# transform tensors to NumPy arrays\n",
    "xtrain = xtrain.numpy()\n",
    "xvalid = xvalid.numpy()\n",
    "xtest = xtest.numpy()\n",
    "\n",
    "ytrain = ytrain.numpy()\n",
    "yvalid = yvalid.numpy()\n",
    "ytest = ytest.numpy()"
   ]
  },
  {
   "cell_type": "code",
   "execution_count": 129,
   "metadata": {
    "ExecuteTime": {
     "end_time": "2021-03-02T20:36:33.412600Z",
     "start_time": "2021-03-02T20:36:33.401950Z"
    },
    "code_folding": [
     0
    ]
   },
   "outputs": [],
   "source": [
    "# Normalize data sets\n",
    "scaler = StandardScaler()\n",
    "scaler.fit(xtrain)\n",
    "xtrain = scaler.transform(xtrain)\n",
    "xvalid = scaler.transform(xvalid)\n",
    "xtest  = scaler.transform(xtest)"
   ]
  },
  {
   "cell_type": "code",
   "execution_count": 196,
   "metadata": {
    "ExecuteTime": {
     "end_time": "2021-03-02T22:03:48.770722Z",
     "start_time": "2021-03-02T22:03:48.722727Z"
    },
    "code_folding": []
   },
   "outputs": [],
   "source": [
    "# Build DMatrices\n",
    "dtrain = xgb.DMatrix(data=xtrain, label=ytrain, nthread=10, feature_names=cols_all)\n",
    "dvalid = xgb.DMatrix(data=xvalid, label=yvalid, nthread=10, feature_names=cols_all)\n",
    "dtest  = xgb.DMatrix(data=xtest,  label=ytest,  nthread=10, feature_names=cols_all)\n",
    "\n",
    "valid_list = [(dtrain, 'train'), (dvalid, 'valid')]"
   ]
  },
  {
   "cell_type": "code",
   "execution_count": 134,
   "metadata": {
    "ExecuteTime": {
     "end_time": "2021-03-02T20:38:34.942709Z",
     "start_time": "2021-03-02T20:38:34.938774Z"
    },
    "code_folding": []
   },
   "outputs": [],
   "source": [
    "# Grid search space\n",
    "grid_eta   = np.geomspace(0.01, 0.99, num=100)\n",
    "grid_depth = [1, 2, 3, 4, 5, 6, 7]\n",
    "grid_param = [(eta, max_depth) for eta in grid_eta\n",
    "                               for max_depth in grid_depth]\n",
    "\n",
    "param = [('eta', 0.01), \n",
    "         ('max_depth', 2), \n",
    "         ('objective', 'binary:logistic'), \n",
    "         ('nthread', 16),\n",
    "         ('eval_metric', 'logloss')\n",
    "]"
   ]
  },
  {
   "cell_type": "code",
   "execution_count": 136,
   "metadata": {
    "ExecuteTime": {
     "end_time": "2021-03-02T21:01:20.560433Z",
     "start_time": "2021-03-02T20:39:29.262236Z"
    },
    "code_folding": [],
    "scrolled": true
   },
   "outputs": [
    {
     "name": "stdout",
     "output_type": "stream",
     "text": [
      "eta=0.01, max_depth=1 | valid_logloss=0.04955 (iters=5131)\n",
      "eta=0.01, max_depth=2 | valid_logloss=0.04320 (iters=2525)\n",
      "eta=0.01, max_depth=3 | valid_logloss=0.05004 (iters=1351)\n",
      "eta=0.01, max_depth=4 | valid_logloss=0.04849 (iters=1632)\n",
      "eta=0.01, max_depth=5 | valid_logloss=0.05013 (iters=1602)\n",
      "eta=0.01, max_depth=6 | valid_logloss=0.04947 (iters=1445)\n",
      "eta=0.01, max_depth=7 | valid_logloss=0.04866 (iters=2068)\n",
      "eta=0.010475094057619858, max_depth=1 | valid_logloss=0.04845 (iters=5463)\n",
      "eta=0.010475094057619858, max_depth=2 | valid_logloss=0.04352 (iters=2517)\n",
      "eta=0.010475094057619858, max_depth=3 | valid_logloss=0.04825 (iters=1753)\n",
      "eta=0.010475094057619858, max_depth=4 | valid_logloss=0.04856 (iters=1470)\n",
      "eta=0.010475094057619858, max_depth=5 | valid_logloss=0.05104 (iters=1335)\n",
      "eta=0.010475094057619858, max_depth=6 | valid_logloss=0.04953 (iters=1477)\n",
      "eta=0.010475094057619858, max_depth=7 | valid_logloss=0.04944 (iters=1693)\n",
      "eta=0.010972759551598283, max_depth=1 | valid_logloss=0.04863 (iters=5101)\n",
      "eta=0.010972759551598283, max_depth=2 | valid_logloss=0.04347 (iters=2277)\n",
      "eta=0.010972759551598283, max_depth=3 | valid_logloss=0.04970 (iters=1194)\n",
      "eta=0.010972759551598283, max_depth=4 | valid_logloss=0.04903 (iters=1445)\n",
      "eta=0.010972759551598283, max_depth=5 | valid_logloss=0.04966 (iters=1847)\n",
      "eta=0.010972759551598283, max_depth=6 | valid_logloss=0.04979 (iters=1471)\n",
      "eta=0.010972759551598283, max_depth=7 | valid_logloss=0.04970 (iters=1441)\n",
      "eta=0.01149406883746387, max_depth=1 | valid_logloss=0.04721 (iters=5718)\n",
      "eta=0.01149406883746387, max_depth=2 | valid_logloss=0.04302 (iters=2151)\n",
      "eta=0.01149406883746387, max_depth=3 | valid_logloss=0.05061 (iters=1032)\n",
      "eta=0.01149406883746387, max_depth=4 | valid_logloss=0.04855 (iters=1335)\n",
      "eta=0.01149406883746387, max_depth=5 | valid_logloss=0.05049 (iters=1428)\n",
      "eta=0.01149406883746387, max_depth=6 | valid_logloss=0.04979 (iters=1351)\n",
      "eta=0.01149406883746387, max_depth=7 | valid_logloss=0.05028 (iters=1504)\n",
      "eta=0.012040145217719136, max_depth=1 | valid_logloss=0.04708 (iters=5505)\n",
      "eta=0.012040145217719136, max_depth=2 | valid_logloss=0.04340 (iters=1975)\n",
      "eta=0.012040145217719136, max_depth=3 | valid_logloss=0.04998 (iters=1110)\n",
      "eta=0.012040145217719136, max_depth=4 | valid_logloss=0.04920 (iters=1366)\n",
      "eta=0.012040145217719136, max_depth=5 | valid_logloss=0.05019 (iters=1355)\n",
      "eta=0.012040145217719136, max_depth=6 | valid_logloss=0.04994 (iters=1326)\n",
      "eta=0.012040145217719136, max_depth=7 | valid_logloss=0.04846 (iters=1649)\n",
      "eta=0.01261216536230098, max_depth=1 | valid_logloss=0.05022 (iters=3811)\n",
      "eta=0.01261216536230098, max_depth=2 | valid_logloss=0.04317 (iters=1970)\n",
      "eta=0.01261216536230098, max_depth=3 | valid_logloss=0.05034 (iters=987)\n",
      "eta=0.01261216536230098, max_depth=4 | valid_logloss=0.04699 (iters=1466)\n",
      "eta=0.01261216536230098, max_depth=5 | valid_logloss=0.04983 (iters=1263)\n",
      "eta=0.01261216536230098, max_depth=6 | valid_logloss=0.04948 (iters=1172)\n",
      "eta=0.01261216536230098, max_depth=7 | valid_logloss=0.04961 (iters=1620)\n",
      "eta=0.0132113618440358, max_depth=1 | valid_logloss=0.05356 (iters=2733)\n",
      "eta=0.0132113618440358, max_depth=2 | valid_logloss=0.04373 (iters=1819)\n",
      "eta=0.0132113618440358, max_depth=3 | valid_logloss=0.05067 (iters=939)\n",
      "eta=0.0132113618440358, max_depth=4 | valid_logloss=0.04855 (iters=1217)\n",
      "eta=0.0132113618440358, max_depth=5 | valid_logloss=0.05033 (iters=1256)\n",
      "eta=0.0132113618440358, max_depth=6 | valid_logloss=0.04924 (iters=1483)\n",
      "eta=0.0132113618440358, max_depth=7 | valid_logloss=0.04940 (iters=1331)\n",
      "eta=0.01383902579455251, max_depth=1 | valid_logloss=0.04980 (iters=3622)\n",
      "eta=0.01383902579455251, max_depth=2 | valid_logloss=0.04364 (iters=1754)\n",
      "eta=0.01383902579455251, max_depth=3 | valid_logloss=0.05025 (iters=895)\n",
      "eta=0.01383902579455251, max_depth=4 | valid_logloss=0.04755 (iters=1437)\n",
      "eta=0.01383902579455251, max_depth=5 | valid_logloss=0.05144 (iters=1164)\n",
      "eta=0.01383902579455251, max_depth=6 | valid_logloss=0.04918 (iters=1472)\n",
      "eta=0.01383902579455251, max_depth=7 | valid_logloss=0.04965 (iters=1181)\n",
      "eta=0.014496509686376493, max_depth=1 | valid_logloss=0.05001 (iters=3361)\n",
      "eta=0.014496509686376493, max_depth=2 | valid_logloss=0.04311 (iters=1776)\n",
      "eta=0.014496509686376493, max_depth=3 | valid_logloss=0.05053 (iters=958)\n",
      "eta=0.014496509686376493, max_depth=4 | valid_logloss=0.04802 (iters=1070)\n",
      "eta=0.014496509686376493, max_depth=5 | valid_logloss=0.05052 (iters=1177)\n",
      "eta=0.014496509686376493, max_depth=6 | valid_logloss=0.05019 (iters=1120)\n",
      "eta=0.014496509686376493, max_depth=7 | valid_logloss=0.05047 (iters=1286)\n",
      "eta=0.01518523024719911, max_depth=1 | valid_logloss=0.04732 (iters=4267)\n",
      "eta=0.01518523024719911, max_depth=2 | valid_logloss=0.04321 (iters=1683)\n",
      "eta=0.01518523024719911, max_depth=3 | valid_logloss=0.05027 (iters=903)\n",
      "eta=0.01518523024719911, max_depth=4 | valid_logloss=0.04835 (iters=1281)\n",
      "eta=0.01518523024719911, max_depth=5 | valid_logloss=0.05044 (iters=1250)\n",
      "eta=0.01518523024719911, max_depth=6 | valid_logloss=0.05030 (iters=1069)\n",
      "eta=0.01518523024719911, max_depth=7 | valid_logloss=0.05026 (iters=1141)\n",
      "eta=0.015906671512602468, max_depth=1 | valid_logloss=0.04859 (iters=3531)\n",
      "eta=0.015906671512602468, max_depth=2 | valid_logloss=0.04320 (iters=1654)\n",
      "eta=0.015906671512602468, max_depth=3 | valid_logloss=0.04981 (iters=875)\n",
      "eta=0.015906671512602468, max_depth=4 | valid_logloss=0.04888 (iters=1190)\n",
      "eta=0.015906671512602468, max_depth=5 | valid_logloss=0.05003 (iters=1293)\n",
      "eta=0.015906671512602468, max_depth=6 | valid_logloss=0.04998 (iters=984)\n",
      "eta=0.015906671512602468, max_depth=7 | valid_logloss=0.04908 (iters=1199)\n",
      "eta=0.01666238802381732, max_depth=1 | valid_logloss=0.05013 (iters=2930)\n",
      "eta=0.01666238802381732, max_depth=2 | valid_logloss=0.04335 (iters=1434)\n",
      "eta=0.01666238802381732, max_depth=3 | valid_logloss=0.04780 (iters=1206)\n",
      "eta=0.01666238802381732, max_depth=4 | valid_logloss=0.04852 (iters=972)\n",
      "eta=0.01666238802381732, max_depth=5 | valid_logloss=0.05019 (iters=1243)\n",
      "eta=0.01666238802381732, max_depth=6 | valid_logloss=0.04980 (iters=1196)\n",
      "eta=0.01666238802381732, max_depth=7 | valid_logloss=0.05006 (iters=1075)\n",
      "eta=0.017454008177404508, max_depth=1 | valid_logloss=0.04917 (iters=3062)\n",
      "eta=0.017454008177404508, max_depth=2 | valid_logloss=0.04320 (iters=1426)\n",
      "eta=0.017454008177404508, max_depth=3 | valid_logloss=0.04788 (iters=1137)\n",
      "eta=0.017454008177404508, max_depth=4 | valid_logloss=0.04838 (iters=943)\n",
      "eta=0.017454008177404508, max_depth=5 | valid_logloss=0.05090 (iters=848)\n",
      "eta=0.017454008177404508, max_depth=6 | valid_logloss=0.04958 (iters=814)\n",
      "eta=0.017454008177404508, max_depth=7 | valid_logloss=0.04997 (iters=1137)\n",
      "eta=0.018283237734077824, max_depth=1 | valid_logloss=0.04850 (iters=3101)\n",
      "eta=0.018283237734077824, max_depth=2 | valid_logloss=0.04366 (iters=1396)\n",
      "eta=0.018283237734077824, max_depth=3 | valid_logloss=0.05029 (iters=740)\n",
      "eta=0.018283237734077824, max_depth=4 | valid_logloss=0.04799 (iters=874)\n",
      "eta=0.018283237734077824, max_depth=5 | valid_logloss=0.04983 (iters=1083)\n",
      "eta=0.018283237734077824, max_depth=6 | valid_logloss=0.04994 (iters=772)\n",
      "eta=0.018283237734077824, max_depth=7 | valid_logloss=0.04859 (iters=1183)\n",
      "eta=0.019151863494228975, max_depth=1 | valid_logloss=0.04788 (iters=3174)\n",
      "eta=0.019151863494228975, max_depth=2 | valid_logloss=0.04314 (iters=1398)\n",
      "eta=0.019151863494228975, max_depth=3 | valid_logloss=0.05113 (iters=665)\n",
      "eta=0.019151863494228975, max_depth=4 | valid_logloss=0.04840 (iters=888)\n",
      "eta=0.019151863494228975, max_depth=5 | valid_logloss=0.04930 (iters=1099)\n",
      "eta=0.019151863494228975, max_depth=6 | valid_logloss=0.04843 (iters=957)\n",
      "eta=0.019151863494228975, max_depth=7 | valid_logloss=0.04852 (iters=1044)\n",
      "eta=0.020061757148074462, max_depth=1 | valid_logloss=0.04873 (iters=2740)\n",
      "eta=0.020061757148074462, max_depth=2 | valid_logloss=0.04373 (iters=1214)\n",
      "eta=0.020061757148074462, max_depth=3 | valid_logloss=0.04972 (iters=622)\n",
      "eta=0.020061757148074462, max_depth=4 | valid_logloss=0.04860 (iters=987)\n",
      "eta=0.020061757148074462, max_depth=5 | valid_logloss=0.05103 (iters=735)\n",
      "eta=0.020061757148074462, max_depth=6 | valid_logloss=0.05108 (iters=693)\n",
      "eta=0.020061757148074462, max_depth=7 | valid_logloss=0.04756 (iters=1037)\n"
     ]
    },
    {
     "name": "stdout",
     "output_type": "stream",
     "text": [
      "eta=0.021014879308720747, max_depth=1 | valid_logloss=0.04952 (iters=2431)\n",
      "eta=0.021014879308720747, max_depth=2 | valid_logloss=0.04317 (iters=1187)\n",
      "eta=0.021014879308720747, max_depth=3 | valid_logloss=0.04996 (iters=648)\n",
      "eta=0.021014879308720747, max_depth=4 | valid_logloss=0.04789 (iters=877)\n",
      "eta=0.021014879308720747, max_depth=5 | valid_logloss=0.05083 (iters=836)\n",
      "eta=0.021014879308720747, max_depth=6 | valid_logloss=0.04897 (iters=1011)\n",
      "eta=0.021014879308720747, max_depth=7 | valid_logloss=0.04839 (iters=1023)\n",
      "eta=0.02201328373683792, max_depth=1 | valid_logloss=0.04943 (iters=2347)\n",
      "eta=0.02201328373683792, max_depth=2 | valid_logloss=0.04290 (iters=1169)\n",
      "eta=0.02201328373683792, max_depth=3 | valid_logloss=0.04961 (iters=620)\n",
      "eta=0.02201328373683792, max_depth=4 | valid_logloss=0.04748 (iters=880)\n",
      "eta=0.02201328373683792, max_depth=5 | valid_logloss=0.05166 (iters=599)\n",
      "eta=0.02201328373683792, max_depth=6 | valid_logloss=0.04818 (iters=905)\n",
      "eta=0.02201328373683792, max_depth=7 | valid_logloss=0.04903 (iters=945)\n",
      "eta=0.023059121766045073, max_depth=1 | valid_logloss=0.04744 (iters=2752)\n",
      "eta=0.023059121766045073, max_depth=2 | valid_logloss=0.04321 (iters=1188)\n",
      "eta=0.023059121766045073, max_depth=3 | valid_logloss=0.04764 (iters=836)\n",
      "eta=0.023059121766045073, max_depth=4 | valid_logloss=0.04782 (iters=884)\n",
      "eta=0.023059121766045073, max_depth=5 | valid_logloss=0.05014 (iters=678)\n",
      "eta=0.023059121766045073, max_depth=6 | valid_logloss=0.04882 (iters=900)\n",
      "eta=0.023059121766045073, max_depth=7 | valid_logloss=0.04914 (iters=801)\n",
      "eta=0.02415464693854314, max_depth=1 | valid_logloss=0.04806 (iters=2425)\n",
      "eta=0.02415464693854314, max_depth=2 | valid_logloss=0.04287 (iters=1079)\n",
      "eta=0.02415464693854314, max_depth=3 | valid_logloss=0.05068 (iters=485)\n",
      "eta=0.02415464693854314, max_depth=4 | valid_logloss=0.04840 (iters=666)\n",
      "eta=0.02415464693854314, max_depth=5 | valid_logloss=0.04952 (iters=866)\n",
      "eta=0.02415464693854314, max_depth=6 | valid_logloss=0.05024 (iters=826)\n",
      "eta=0.02415464693854314, max_depth=7 | valid_logloss=0.04965 (iters=729)\n",
      "eta=0.025302219860983893, max_depth=1 | valid_logloss=0.04667 (iters=2755)\n",
      "eta=0.025302219860983893, max_depth=2 | valid_logloss=0.04308 (iters=1176)\n",
      "eta=0.025302219860983893, max_depth=3 | valid_logloss=0.04954 (iters=517)\n",
      "eta=0.025302219860983893, max_depth=4 | valid_logloss=0.04773 (iters=773)\n",
      "eta=0.025302219860983893, max_depth=5 | valid_logloss=0.05051 (iters=723)\n",
      "eta=0.025302219860983893, max_depth=6 | valid_logloss=0.05142 (iters=636)\n",
      "eta=0.025302219860983893, max_depth=7 | valid_logloss=0.04902 (iters=705)\n",
      "eta=0.02650431329103835, max_depth=1 | valid_logloss=0.04791 (iters=2235)\n",
      "eta=0.02650431329103835, max_depth=2 | valid_logloss=0.04301 (iters=993)\n",
      "eta=0.02650431329103835, max_depth=3 | valid_logloss=0.05047 (iters=464)\n",
      "eta=0.02650431329103835, max_depth=4 | valid_logloss=0.04912 (iters=630)\n",
      "eta=0.02650431329103835, max_depth=5 | valid_logloss=0.05049 (iters=778)\n",
      "eta=0.02650431329103835, max_depth=6 | valid_logloss=0.04947 (iters=812)\n",
      "eta=0.02650431329103835, max_depth=7 | valid_logloss=0.04975 (iters=631)\n",
      "eta=0.02776351746562508, max_depth=1 | valid_logloss=0.04854 (iters=2008)\n",
      "eta=0.02776351746562508, max_depth=2 | valid_logloss=0.04301 (iters=958)\n",
      "eta=0.02776351746562508, max_depth=3 | valid_logloss=0.05028 (iters=454)\n",
      "eta=0.02776351746562508, max_depth=4 | valid_logloss=0.04908 (iters=573)\n",
      "eta=0.02776351746562508, max_depth=5 | valid_logloss=0.04903 (iters=737)\n",
      "eta=0.02776351746562508, max_depth=6 | valid_logloss=0.04989 (iters=722)\n",
      "eta=0.02776351746562508, max_depth=7 | valid_logloss=0.05035 (iters=656)\n",
      "eta=0.02908254568227944, max_depth=1 | valid_logloss=0.04760 (iters=2135)\n",
      "eta=0.02908254568227944, max_depth=2 | valid_logloss=0.04271 (iters=871)\n",
      "eta=0.02908254568227944, max_depth=3 | valid_logloss=0.04822 (iters=669)\n",
      "eta=0.02908254568227944, max_depth=4 | valid_logloss=0.04841 (iters=659)\n",
      "eta=0.02908254568227944, max_depth=5 | valid_logloss=0.04914 (iters=694)\n",
      "eta=0.02908254568227944, max_depth=6 | valid_logloss=0.04848 (iters=626)\n",
      "eta=0.02908254568227944, max_depth=7 | valid_logloss=0.04880 (iters=719)\n",
      "eta=0.03046424014569034, max_depth=1 | valid_logloss=0.04464 (iters=2977)\n",
      "eta=0.03046424014569034, max_depth=2 | valid_logloss=0.04306 (iters=893)\n",
      "eta=0.03046424014569034, max_depth=3 | valid_logloss=0.04956 (iters=446)\n",
      "eta=0.03046424014569034, max_depth=4 | valid_logloss=0.04844 (iters=565)\n",
      "eta=0.03046424014569034, max_depth=5 | valid_logloss=0.05023 (iters=639)\n",
      "eta=0.03046424014569034, max_depth=6 | valid_logloss=0.05029 (iters=702)\n",
      "eta=0.03046424014569034, max_depth=7 | valid_logloss=0.04860 (iters=705)\n",
      "eta=0.03191157809200251, max_depth=1 | valid_logloss=0.04814 (iters=1860)\n",
      "eta=0.03191157809200251, max_depth=2 | valid_logloss=0.04347 (iters=780)\n",
      "eta=0.03191157809200251, max_depth=3 | valid_logloss=0.04830 (iters=661)\n",
      "eta=0.03191157809200251, max_depth=4 | valid_logloss=0.04787 (iters=607)\n",
      "eta=0.03191157809200251, max_depth=5 | valid_logloss=0.05163 (iters=474)\n",
      "eta=0.03191157809200251, max_depth=6 | valid_logloss=0.04888 (iters=682)\n",
      "eta=0.03191157809200251, max_depth=7 | valid_logloss=0.04876 (iters=586)\n",
      "eta=0.03342767820408074, max_depth=1 | valid_logloss=0.04973 (iters=1512)\n",
      "eta=0.03342767820408074, max_depth=2 | valid_logloss=0.04283 (iters=726)\n",
      "eta=0.03342767820408074, max_depth=3 | valid_logloss=0.04976 (iters=377)\n",
      "eta=0.03342767820408074, max_depth=4 | valid_logloss=0.04744 (iters=596)\n",
      "eta=0.03342767820408074, max_depth=5 | valid_logloss=0.05004 (iters=456)\n",
      "eta=0.03342767820408074, max_depth=6 | valid_logloss=0.04846 (iters=625)\n",
      "eta=0.03342767820408074, max_depth=7 | valid_logloss=0.04773 (iters=561)\n",
      "eta=0.0350158073315595, max_depth=1 | valid_logloss=0.04985 (iters=1434)\n",
      "eta=0.0350158073315595, max_depth=2 | valid_logloss=0.04278 (iters=801)\n",
      "eta=0.0350158073315595, max_depth=3 | valid_logloss=0.04930 (iters=377)\n",
      "eta=0.0350158073315595, max_depth=4 | valid_logloss=0.04881 (iters=554)\n",
      "eta=0.0350158073315595, max_depth=5 | valid_logloss=0.05086 (iters=579)\n",
      "eta=0.0350158073315595, max_depth=6 | valid_logloss=0.04898 (iters=590)\n",
      "eta=0.0350158073315595, max_depth=7 | valid_logloss=0.05078 (iters=627)\n",
      "eta=0.03667938753015807, max_depth=1 | valid_logloss=0.04609 (iters=1957)\n",
      "eta=0.03667938753015807, max_depth=2 | valid_logloss=0.04348 (iters=661)\n",
      "eta=0.03667938753015807, max_depth=3 | valid_logloss=0.05082 (iters=343)\n",
      "eta=0.03667938753015807, max_depth=4 | valid_logloss=0.04738 (iters=520)\n",
      "eta=0.03667938753015807, max_depth=5 | valid_logloss=0.04978 (iters=596)\n",
      "eta=0.03667938753015807, max_depth=6 | valid_logloss=0.05017 (iters=561)\n",
      "eta=0.03667938753015807, max_depth=7 | valid_logloss=0.05015 (iters=561)\n",
      "eta=0.038422003435429467, max_depth=1 | valid_logloss=0.04624 (iters=1861)\n",
      "eta=0.038422003435429467, max_depth=2 | valid_logloss=0.04293 (iters=655)\n",
      "eta=0.038422003435429467, max_depth=3 | valid_logloss=0.04804 (iters=529)\n",
      "eta=0.038422003435429467, max_depth=4 | valid_logloss=0.04598 (iters=449)\n",
      "eta=0.038422003435429467, max_depth=5 | valid_logloss=0.04971 (iters=535)\n",
      "eta=0.038422003435429467, max_depth=6 | valid_logloss=0.05066 (iters=536)\n",
      "eta=0.038422003435429467, max_depth=7 | valid_logloss=0.05038 (iters=551)\n",
      "eta=0.04024740998683167, max_depth=1 | valid_logloss=0.04721 (iters=1609)\n",
      "eta=0.04024740998683167, max_depth=2 | valid_logloss=0.04278 (iters=657)\n",
      "eta=0.04024740998683167, max_depth=3 | valid_logloss=0.05023 (iters=280)\n",
      "eta=0.04024740998683167, max_depth=4 | valid_logloss=0.04898 (iters=478)\n",
      "eta=0.04024740998683167, max_depth=5 | valid_logloss=0.05006 (iters=472)\n",
      "eta=0.04024740998683167, max_depth=6 | valid_logloss=0.04851 (iters=532)\n",
      "eta=0.04024740998683167, max_depth=7 | valid_logloss=0.05003 (iters=509)\n",
      "eta=0.042159540518765054, max_depth=1 | valid_logloss=0.05022 (iters=1139)\n",
      "eta=0.042159540518765054, max_depth=2 | valid_logloss=0.04213 (iters=667)\n",
      "eta=0.042159540518765054, max_depth=3 | valid_logloss=0.04846 (iters=458)\n",
      "eta=0.042159540518765054, max_depth=4 | valid_logloss=0.04825 (iters=469)\n",
      "eta=0.042159540518765054, max_depth=5 | valid_logloss=0.05155 (iters=478)\n",
      "eta=0.042159540518765054, max_depth=6 | valid_logloss=0.04928 (iters=525)\n",
      "eta=0.042159540518765054, max_depth=7 | valid_logloss=0.05044 (iters=504)\n"
     ]
    },
    {
     "name": "stdout",
     "output_type": "stream",
     "text": [
      "eta=0.04416251523600994, max_depth=1 | valid_logloss=0.04577 (iters=1692)\n",
      "eta=0.04416251523600994, max_depth=2 | valid_logloss=0.04341 (iters=649)\n",
      "eta=0.04416251523600994, max_depth=3 | valid_logloss=0.04964 (iters=463)\n",
      "eta=0.04416251523600994, max_depth=4 | valid_logloss=0.04743 (iters=419)\n",
      "eta=0.04416251523600994, max_depth=5 | valid_logloss=0.04915 (iters=487)\n",
      "eta=0.04416251523600994, max_depth=6 | valid_logloss=0.04903 (iters=475)\n",
      "eta=0.04416251523600994, max_depth=7 | valid_logloss=0.05129 (iters=491)\n",
      "eta=0.04626065009182741, max_depth=1 | valid_logloss=0.04663 (iters=1551)\n",
      "eta=0.04626065009182741, max_depth=2 | valid_logloss=0.04402 (iters=583)\n",
      "eta=0.04626065009182741, max_depth=3 | valid_logloss=0.04656 (iters=421)\n",
      "eta=0.04626065009182741, max_depth=4 | valid_logloss=0.04749 (iters=433)\n",
      "eta=0.04626065009182741, max_depth=5 | valid_logloss=0.05034 (iters=428)\n",
      "eta=0.04626065009182741, max_depth=6 | valid_logloss=0.05145 (iters=453)\n",
      "eta=0.04626065009182741, max_depth=7 | valid_logloss=0.05019 (iters=453)\n",
      "eta=0.04845846608785328, max_depth=1 | valid_logloss=0.04562 (iters=1595)\n",
      "eta=0.04845846608785328, max_depth=2 | valid_logloss=0.04202 (iters=546)\n",
      "eta=0.04845846608785328, max_depth=3 | valid_logloss=0.04694 (iters=412)\n",
      "eta=0.04845846608785328, max_depth=4 | valid_logloss=0.04558 (iters=475)\n",
      "eta=0.04845846608785328, max_depth=5 | valid_logloss=0.05067 (iters=399)\n",
      "eta=0.04845846608785328, max_depth=6 | valid_logloss=0.04954 (iters=431)\n",
      "eta=0.04845846608785328, max_depth=7 | valid_logloss=0.04934 (iters=500)\n",
      "eta=0.05076069901582452, max_depth=1 | valid_logloss=0.04655 (iters=1385)\n",
      "eta=0.05076069901582452, max_depth=2 | valid_logloss=0.04371 (iters=521)\n",
      "eta=0.05076069901582452, max_depth=3 | valid_logloss=0.04901 (iters=387)\n",
      "eta=0.05076069901582452, max_depth=4 | valid_logloss=0.04676 (iters=416)\n",
      "eta=0.05076069901582452, max_depth=5 | valid_logloss=0.04978 (iters=411)\n",
      "eta=0.05076069901582452, max_depth=6 | valid_logloss=0.04953 (iters=429)\n",
      "eta=0.05076069901582452, max_depth=7 | valid_logloss=0.04991 (iters=406)\n",
      "eta=0.05317230966212936, max_depth=1 | valid_logloss=0.04953 (iters=932)\n",
      "eta=0.05317230966212936, max_depth=2 | valid_logloss=0.04224 (iters=554)\n",
      "eta=0.05317230966212936, max_depth=3 | valid_logloss=0.04728 (iters=338)\n",
      "eta=0.05317230966212936, max_depth=4 | valid_logloss=0.04787 (iters=391)\n",
      "eta=0.05317230966212936, max_depth=5 | valid_logloss=0.05189 (iters=278)\n",
      "eta=0.05317230966212936, max_depth=6 | valid_logloss=0.05007 (iters=364)\n",
      "eta=0.05317230966212936, max_depth=7 | valid_logloss=0.04950 (iters=392)\n",
      "eta=0.05569849449716941, max_depth=1 | valid_logloss=0.04531 (iters=1432)\n",
      "eta=0.05569849449716941, max_depth=2 | valid_logloss=0.04362 (iters=554)\n",
      "eta=0.05569849449716941, max_depth=3 | valid_logloss=0.05080 (iters=209)\n",
      "eta=0.05569849449716941, max_depth=4 | valid_logloss=0.04858 (iters=311)\n",
      "eta=0.05569849449716941, max_depth=5 | valid_logloss=0.04924 (iters=385)\n",
      "eta=0.05569849449716941, max_depth=6 | valid_logloss=0.04842 (iters=359)\n",
      "eta=0.05569849449716941, max_depth=7 | valid_logloss=0.05112 (iters=392)\n",
      "eta=0.05834469687256716, max_depth=1 | valid_logloss=0.04841 (iters=977)\n",
      "eta=0.05834469687256716, max_depth=2 | valid_logloss=0.04245 (iters=526)\n",
      "eta=0.05834469687256716, max_depth=3 | valid_logloss=0.04590 (iters=383)\n",
      "eta=0.05834469687256716, max_depth=4 | valid_logloss=0.04784 (iters=321)\n",
      "eta=0.05834469687256716, max_depth=5 | valid_logloss=0.05010 (iters=321)\n",
      "eta=0.05834469687256716, max_depth=6 | valid_logloss=0.05133 (iters=364)\n",
      "eta=0.05834469687256716, max_depth=7 | valid_logloss=0.05152 (iters=298)\n",
      "eta=0.06111661875034601, max_depth=1 | valid_logloss=0.04643 (iters=1137)\n",
      "eta=0.06111661875034601, max_depth=2 | valid_logloss=0.04238 (iters=462)\n",
      "eta=0.06111661875034601, max_depth=3 | valid_logloss=0.04769 (iters=323)\n",
      "eta=0.06111661875034601, max_depth=4 | valid_logloss=0.04667 (iters=262)\n",
      "eta=0.06111661875034601, max_depth=5 | valid_logloss=0.05085 (iters=347)\n",
      "eta=0.06111661875034601, max_depth=6 | valid_logloss=0.05108 (iters=340)\n",
      "eta=0.06111661875034601, max_depth=7 | valid_logloss=0.05210 (iters=251)\n",
      "eta=0.06402023298935679, max_depth=1 | valid_logloss=0.04513 (iters=1337)\n",
      "eta=0.06402023298935679, max_depth=2 | valid_logloss=0.04182 (iters=412)\n",
      "eta=0.06402023298935679, max_depth=3 | valid_logloss=0.05121 (iters=219)\n",
      "eta=0.06402023298935679, max_depth=4 | valid_logloss=0.04733 (iters=314)\n",
      "eta=0.06402023298935679, max_depth=5 | valid_logloss=0.05197 (iters=295)\n",
      "eta=0.06402023298935679, max_depth=6 | valid_logloss=0.05042 (iters=363)\n",
      "eta=0.06402023298935679, max_depth=7 | valid_logloss=0.04899 (iters=340)\n",
      "eta=0.06706179621542499, max_depth=1 | valid_logloss=0.04966 (iters=724)\n",
      "eta=0.06706179621542499, max_depth=2 | valid_logloss=0.04330 (iters=374)\n",
      "eta=0.06706179621542499, max_depth=3 | valid_logloss=0.04784 (iters=386)\n",
      "eta=0.06706179621542499, max_depth=4 | valid_logloss=0.04709 (iters=267)\n",
      "eta=0.06706179621542499, max_depth=5 | valid_logloss=0.04918 (iters=303)\n",
      "eta=0.06706179621542499, max_depth=6 | valid_logloss=0.04697 (iters=315)\n",
      "eta=0.06706179621542499, max_depth=7 | valid_logloss=0.05138 (iters=313)\n",
      "eta=0.07024786230295121, max_depth=1 | valid_logloss=0.04505 (iters=1205)\n",
      "eta=0.07024786230295121, max_depth=2 | valid_logloss=0.04164 (iters=441)\n",
      "eta=0.07024786230295121, max_depth=3 | valid_logloss=0.04557 (iters=358)\n",
      "eta=0.07024786230295121, max_depth=4 | valid_logloss=0.04712 (iters=296)\n",
      "eta=0.07024786230295121, max_depth=5 | valid_logloss=0.04816 (iters=287)\n",
      "eta=0.07024786230295121, max_depth=6 | valid_logloss=0.05191 (iters=212)\n",
      "eta=0.07024786230295121, max_depth=7 | valid_logloss=0.04992 (iters=317)\n",
      "eta=0.07358529649701423, max_depth=1 | valid_logloss=0.04775 (iters=805)\n",
      "eta=0.07358529649701423, max_depth=2 | valid_logloss=0.04238 (iters=488)\n",
      "eta=0.07358529649701423, max_depth=3 | valid_logloss=0.04814 (iters=231)\n",
      "eta=0.07358529649701423, max_depth=4 | valid_logloss=0.04932 (iters=210)\n",
      "eta=0.07358529649701423, max_depth=5 | valid_logloss=0.05162 (iters=280)\n",
      "eta=0.07358529649701423, max_depth=6 | valid_logloss=0.04940 (iters=331)\n",
      "eta=0.07358529649701423, max_depth=7 | valid_logloss=0.04864 (iters=484)\n",
      "eta=0.07708129020640686, max_depth=1 | valid_logloss=0.04447 (iters=1160)\n",
      "eta=0.07708129020640686, max_depth=2 | valid_logloss=0.04299 (iters=342)\n",
      "eta=0.07708129020640686, max_depth=3 | valid_logloss=0.04798 (iters=253)\n",
      "eta=0.07708129020640686, max_depth=4 | valid_logloss=0.04819 (iters=262)\n",
      "eta=0.07708129020640686, max_depth=5 | valid_logloss=0.05054 (iters=253)\n",
      "eta=0.07708129020640686, max_depth=6 | valid_logloss=0.05296 (iters=523)\n",
      "eta=0.07708129020640686, max_depth=7 | valid_logloss=0.05268 (iters=269)\n",
      "eta=0.08074337649948042, max_depth=1 | valid_logloss=0.04717 (iters=746)\n",
      "eta=0.08074337649948042, max_depth=2 | valid_logloss=0.04269 (iters=360)\n",
      "eta=0.08074337649948042, max_depth=3 | valid_logloss=0.04893 (iters=245)\n",
      "eta=0.08074337649948042, max_depth=4 | valid_logloss=0.04918 (iters=227)\n",
      "eta=0.08074337649948042, max_depth=5 | valid_logloss=0.05163 (iters=245)\n",
      "eta=0.08074337649948042, max_depth=6 | valid_logloss=0.05005 (iters=257)\n",
      "eta=0.08074337649948042, max_depth=7 | valid_logloss=0.05006 (iters=454)\n",
      "eta=0.08457944633618701, max_depth=1 | valid_logloss=0.04653 (iters=759)\n",
      "eta=0.08457944633618701, max_depth=2 | valid_logloss=0.04291 (iters=322)\n",
      "eta=0.08457944633618701, max_depth=3 | valid_logloss=0.05044 (iters=201)\n",
      "eta=0.08457944633618701, max_depth=4 | valid_logloss=0.04781 (iters=206)\n",
      "eta=0.08457944633618701, max_depth=5 | valid_logloss=0.04815 (iters=260)\n",
      "eta=0.08457944633618701, max_depth=6 | valid_logloss=0.05114 (iters=231)\n",
      "eta=0.08457944633618701, max_depth=7 | valid_logloss=0.04863 (iters=247)\n",
      "eta=0.088597765571297, max_depth=1 | valid_logloss=0.04927 (iters=576)\n",
      "eta=0.088597765571297, max_depth=2 | valid_logloss=0.04224 (iters=279)\n",
      "eta=0.088597765571297, max_depth=3 | valid_logloss=0.04800 (iters=180)\n",
      "eta=0.088597765571297, max_depth=4 | valid_logloss=0.04881 (iters=212)\n",
      "eta=0.088597765571297, max_depth=5 | valid_logloss=0.04842 (iters=234)\n",
      "eta=0.088597765571297, max_depth=6 | valid_logloss=0.04961 (iters=252)\n",
      "eta=0.088597765571297, max_depth=7 | valid_logloss=0.05347 (iters=227)\n",
      "eta=0.09280699276542904, max_depth=1 | valid_logloss=0.04491 (iters=912)\n"
     ]
    },
    {
     "name": "stdout",
     "output_type": "stream",
     "text": [
      "eta=0.09280699276542904, max_depth=2 | valid_logloss=0.04196 (iters=349)\n",
      "eta=0.09280699276542904, max_depth=3 | valid_logloss=0.04933 (iters=204)\n",
      "eta=0.09280699276542904, max_depth=4 | valid_logloss=0.04513 (iters=219)\n",
      "eta=0.09280699276542904, max_depth=5 | valid_logloss=0.05040 (iters=132)\n",
      "eta=0.09280699276542904, max_depth=6 | valid_logloss=0.04759 (iters=219)\n",
      "eta=0.09280699276542904, max_depth=7 | valid_logloss=0.04979 (iters=180)\n",
      "eta=0.09721619784227144, max_depth=1 | valid_logloss=0.05446 (iters=301)\n",
      "eta=0.09721619784227144, max_depth=2 | valid_logloss=0.04091 (iters=304)\n",
      "eta=0.09721619784227144, max_depth=3 | valid_logloss=0.04694 (iters=202)\n",
      "eta=0.09721619784227144, max_depth=4 | valid_logloss=0.04899 (iters=194)\n",
      "eta=0.09721619784227144, max_depth=5 | valid_logloss=0.04959 (iters=225)\n",
      "eta=0.09721619784227144, max_depth=6 | valid_logloss=0.05099 (iters=189)\n",
      "eta=0.09721619784227144, max_depth=7 | valid_logloss=0.05203 (iters=222)\n",
      "eta=0.10183488163219744, max_depth=1 | valid_logloss=0.04421 (iters=978)\n",
      "eta=0.10183488163219744, max_depth=2 | valid_logloss=0.04236 (iters=321)\n",
      "eta=0.10183488163219744, max_depth=3 | valid_logloss=0.04686 (iters=178)\n",
      "eta=0.10183488163219744, max_depth=4 | valid_logloss=0.04995 (iters=198)\n",
      "eta=0.10183488163219744, max_depth=5 | valid_logloss=0.05218 (iters=220)\n",
      "eta=0.10183488163219744, max_depth=6 | valid_logloss=0.05138 (iters=188)\n",
      "eta=0.10183488163219744, max_depth=7 | valid_logloss=0.05378 (iters=341)\n",
      "eta=0.10667299634438523, max_depth=1 | valid_logloss=0.04394 (iters=882)\n",
      "eta=0.10667299634438523, max_depth=2 | valid_logloss=0.04242 (iters=264)\n",
      "eta=0.10667299634438523, max_depth=3 | valid_logloss=0.04676 (iters=157)\n",
      "eta=0.10667299634438523, max_depth=4 | valid_logloss=0.04890 (iters=217)\n",
      "eta=0.10667299634438523, max_depth=5 | valid_logloss=0.05201 (iters=139)\n",
      "eta=0.10667299634438523, max_depth=6 | valid_logloss=0.05058 (iters=352)\n",
      "eta=0.10667299634438523, max_depth=7 | valid_logloss=0.05019 (iters=210)\n",
      "eta=0.11174096701155745, max_depth=1 | valid_logloss=0.04523 (iters=737)\n",
      "eta=0.11174096701155745, max_depth=2 | valid_logloss=0.04392 (iters=254)\n",
      "eta=0.11174096701155745, max_depth=3 | valid_logloss=0.04703 (iters=191)\n",
      "eta=0.11174096701155745, max_depth=4 | valid_logloss=0.05172 (iters=223)\n",
      "eta=0.11174096701155745, max_depth=5 | valid_logloss=0.05017 (iters=191)\n",
      "eta=0.11174096701155745, max_depth=6 | valid_logloss=0.05254 (iters=169)\n",
      "eta=0.11174096701155745, max_depth=7 | valid_logloss=0.05144 (iters=187)\n",
      "eta=0.11704971395354619, max_depth=1 | valid_logloss=0.04886 (iters=481)\n",
      "eta=0.11704971395354619, max_depth=2 | valid_logloss=0.04453 (iters=253)\n",
      "eta=0.11704971395354619, max_depth=3 | valid_logloss=0.04523 (iters=209)\n",
      "eta=0.11704971395354619, max_depth=4 | valid_logloss=0.04774 (iters=165)\n",
      "eta=0.11704971395354619, max_depth=5 | valid_logloss=0.05072 (iters=170)\n",
      "eta=0.11704971395354619, max_depth=6 | valid_logloss=0.05169 (iters=188)\n",
      "eta=0.11704971395354619, max_depth=7 | valid_logloss=0.05374 (iters=181)\n",
      "eta=0.12261067630808957, max_depth=1 | valid_logloss=0.04444 (iters=753)\n",
      "eta=0.12261067630808957, max_depth=2 | valid_logloss=0.04309 (iters=243)\n",
      "eta=0.12261067630808957, max_depth=3 | valid_logloss=0.04642 (iters=184)\n",
      "eta=0.12261067630808957, max_depth=4 | valid_logloss=0.04815 (iters=180)\n",
      "eta=0.12261067630808957, max_depth=5 | valid_logloss=0.04911 (iters=119)\n",
      "eta=0.12261067630808957, max_depth=6 | valid_logloss=0.05059 (iters=292)\n",
      "eta=0.12261067630808957, max_depth=7 | valid_logloss=0.05284 (iters=183)\n",
      "eta=0.12843583667956207, max_depth=1 | valid_logloss=0.04491 (iters=624)\n",
      "eta=0.12843583667956207, max_depth=2 | valid_logloss=0.04359 (iters=218)\n",
      "eta=0.12843583667956207, max_depth=3 | valid_logloss=0.04610 (iters=207)\n",
      "eta=0.12843583667956207, max_depth=4 | valid_logloss=0.04903 (iters=168)\n",
      "eta=0.12843583667956207, max_depth=5 | valid_logloss=0.05121 (iters=169)\n",
      "eta=0.12843583667956207, max_depth=6 | valid_logloss=0.05178 (iters=295)\n",
      "eta=0.12843583667956207, max_depth=7 | valid_logloss=0.05371 (iters=165)\n",
      "eta=0.13453774695875154, max_depth=1 | valid_logloss=0.04720 (iters=466)\n",
      "eta=0.13453774695875154, max_depth=2 | valid_logloss=0.04289 (iters=270)\n",
      "eta=0.13453774695875154, max_depth=3 | valid_logloss=0.04763 (iters=162)\n",
      "eta=0.13453774695875154, max_depth=4 | valid_logloss=0.04893 (iters=158)\n",
      "eta=0.13453774695875154, max_depth=5 | valid_logloss=0.04910 (iters=252)\n",
      "eta=0.13453774695875154, max_depth=6 | valid_logloss=0.05329 (iters=134)\n",
      "eta=0.13453774695875154, max_depth=7 | valid_logloss=0.05400 (iters=173)\n",
      "eta=0.1409295553693182, max_depth=1 | valid_logloss=0.04475 (iters=664)\n",
      "eta=0.1409295553693182, max_depth=2 | valid_logloss=0.04618 (iters=234)\n",
      "eta=0.1409295553693182, max_depth=3 | valid_logloss=0.04831 (iters=150)\n",
      "eta=0.1409295553693182, max_depth=4 | valid_logloss=0.04851 (iters=181)\n",
      "eta=0.1409295553693182, max_depth=5 | valid_logloss=0.05049 (iters=153)\n",
      "eta=0.1409295553693182, max_depth=6 | valid_logloss=0.04699 (iters=159)\n",
      "eta=0.1409295553693182, max_depth=7 | valid_logloss=0.04477 (iters=249)\n",
      "eta=0.14762503479921538, max_depth=1 | valid_logloss=0.04441 (iters=573)\n",
      "eta=0.14762503479921538, max_depth=2 | valid_logloss=0.04256 (iters=259)\n",
      "eta=0.14762503479921538, max_depth=3 | valid_logloss=0.04590 (iters=162)\n",
      "eta=0.14762503479921538, max_depth=4 | valid_logloss=0.04377 (iters=151)\n",
      "eta=0.14762503479921538, max_depth=5 | valid_logloss=0.04974 (iters=142)\n",
      "eta=0.14762503479921538, max_depth=6 | valid_logloss=0.04652 (iters=222)\n",
      "eta=0.14762503479921538, max_depth=7 | valid_logloss=0.04952 (iters=151)\n",
      "eta=0.15463861247811855, max_depth=1 | valid_logloss=0.04506 (iters=483)\n",
      "eta=0.15463861247811855, max_depth=2 | valid_logloss=0.04186 (iters=174)\n",
      "eta=0.15463861247811855, max_depth=3 | valid_logloss=0.04700 (iters=105)\n",
      "eta=0.15463861247811855, max_depth=4 | valid_logloss=0.05130 (iters=87)\n",
      "eta=0.15463861247811855, max_depth=5 | valid_logloss=0.05483 (iters=125)\n",
      "eta=0.15463861247811855, max_depth=6 | valid_logloss=0.05185 (iters=151)\n",
      "eta=0.15463861247811855, max_depth=7 | valid_logloss=0.05100 (iters=261)\n",
      "eta=0.16198540106481188, max_depth=1 | valid_logloss=0.04479 (iters=423)\n",
      "eta=0.16198540106481188, max_depth=2 | valid_logloss=0.04272 (iters=209)\n",
      "eta=0.16198540106481188, max_depth=3 | valid_logloss=0.05126 (iters=92)\n",
      "eta=0.16198540106481188, max_depth=4 | valid_logloss=0.05204 (iters=102)\n",
      "eta=0.16198540106481188, max_depth=5 | valid_logloss=0.05464 (iters=82)\n",
      "eta=0.16198540106481188, max_depth=6 | valid_logloss=0.05116 (iters=139)\n",
      "eta=0.16198540106481188, max_depth=7 | valid_logloss=0.05132 (iters=127)\n",
      "eta=0.169681231211518, max_depth=1 | valid_logloss=0.04512 (iters=490)\n",
      "eta=0.169681231211518, max_depth=2 | valid_logloss=0.04269 (iters=182)\n",
      "eta=0.169681231211518, max_depth=3 | valid_logloss=0.04968 (iters=130)\n",
      "eta=0.169681231211518, max_depth=4 | valid_logloss=0.05029 (iters=75)\n",
      "eta=0.169681231211518, max_depth=5 | valid_logloss=0.05097 (iters=106)\n",
      "eta=0.169681231211518, max_depth=6 | valid_logloss=0.05365 (iters=117)\n",
      "eta=0.169681231211518, max_depth=7 | valid_logloss=0.05032 (iters=130)\n",
      "eta=0.17774268567533932, max_depth=1 | valid_logloss=0.04382 (iters=495)\n",
      "eta=0.17774268567533932, max_depth=2 | valid_logloss=0.04287 (iters=197)\n",
      "eta=0.17774268567533932, max_depth=3 | valid_logloss=0.04932 (iters=165)\n",
      "eta=0.17774268567533932, max_depth=4 | valid_logloss=0.04957 (iters=114)\n",
      "eta=0.17774268567533932, max_depth=5 | valid_logloss=0.05044 (iters=110)\n",
      "eta=0.17774268567533932, max_depth=6 | valid_logloss=0.04929 (iters=128)\n",
      "eta=0.17774268567533932, max_depth=7 | valid_logloss=0.04773 (iters=201)\n",
      "eta=0.1861871350503141, max_depth=1 | valid_logloss=0.04401 (iters=466)\n",
      "eta=0.1861871350503141, max_depth=2 | valid_logloss=0.04381 (iters=160)\n",
      "eta=0.1861871350503141, max_depth=3 | valid_logloss=0.04878 (iters=106)\n",
      "eta=0.1861871350503141, max_depth=4 | valid_logloss=0.05192 (iters=118)\n",
      "eta=0.1861871350503141, max_depth=5 | valid_logloss=0.05239 (iters=110)\n",
      "eta=0.1861871350503141, max_depth=6 | valid_logloss=0.05089 (iters=194)\n",
      "eta=0.1861871350503141, max_depth=7 | valid_logloss=0.05268 (iters=114)\n",
      "eta=0.1950327751970811, max_depth=1 | valid_logloss=0.04484 (iters=486)\n",
      "eta=0.1950327751970811, max_depth=2 | valid_logloss=0.04538 (iters=169)\n"
     ]
    },
    {
     "name": "stdout",
     "output_type": "stream",
     "text": [
      "eta=0.1950327751970811, max_depth=3 | valid_logloss=0.05102 (iters=97)\n",
      "eta=0.1950327751970811, max_depth=4 | valid_logloss=0.04907 (iters=210)\n",
      "eta=0.1950327751970811, max_depth=5 | valid_logloss=0.04500 (iters=112)\n",
      "eta=0.1950327751970811, max_depth=6 | valid_logloss=0.04930 (iters=153)\n",
      "eta=0.1950327751970811, max_depth=7 | valid_logloss=0.05212 (iters=104)\n",
      "eta=0.20429866645080536, max_depth=1 | valid_logloss=0.04507 (iters=379)\n",
      "eta=0.20429866645080536, max_depth=2 | valid_logloss=0.04409 (iters=138)\n",
      "eta=0.20429866645080536, max_depth=3 | valid_logloss=0.05186 (iters=116)\n",
      "eta=0.20429866645080536, max_depth=4 | valid_logloss=0.05591 (iters=103)\n",
      "eta=0.20429866645080536, max_depth=5 | valid_logloss=0.05069 (iters=182)\n",
      "eta=0.20429866645080536, max_depth=6 | valid_logloss=0.04771 (iters=182)\n",
      "eta=0.20429866645080536, max_depth=7 | valid_logloss=0.04951 (iters=181)\n",
      "eta=0.21400477469184925, max_depth=1 | valid_logloss=0.04484 (iters=371)\n",
      "eta=0.21400477469184925, max_depth=2 | valid_logloss=0.04460 (iters=173)\n",
      "eta=0.21400477469184925, max_depth=3 | valid_logloss=0.05010 (iters=91)\n",
      "eta=0.21400477469184925, max_depth=4 | valid_logloss=0.04658 (iters=94)\n",
      "eta=0.21400477469184925, max_depth=5 | valid_logloss=0.05257 (iters=84)\n",
      "eta=0.21400477469184925, max_depth=6 | valid_logloss=0.05444 (iters=102)\n",
      "eta=0.21400477469184925, max_depth=7 | valid_logloss=0.04996 (iters=99)\n",
      "eta=0.22417201436768663, max_depth=1 | valid_logloss=0.04554 (iters=361)\n",
      "eta=0.22417201436768663, max_depth=2 | valid_logloss=0.04494 (iters=134)\n",
      "eta=0.22417201436768663, max_depth=3 | valid_logloss=0.04872 (iters=118)\n",
      "eta=0.22417201436768663, max_depth=4 | valid_logloss=0.05081 (iters=95)\n",
      "eta=0.22417201436768663, max_depth=5 | valid_logloss=0.04834 (iters=175)\n",
      "eta=0.22417201436768663, max_depth=6 | valid_logloss=0.05277 (iters=82)\n",
      "eta=0.22417201436768663, max_depth=7 | valid_logloss=0.05330 (iters=81)\n",
      "eta=0.23482229355876275, max_depth=1 | valid_logloss=0.04447 (iters=431)\n",
      "eta=0.23482229355876275, max_depth=2 | valid_logloss=0.04299 (iters=131)\n",
      "eta=0.23482229355876275, max_depth=3 | valid_logloss=0.05302 (iters=75)\n",
      "eta=0.23482229355876275, max_depth=4 | valid_logloss=0.05136 (iters=79)\n",
      "eta=0.23482229355876275, max_depth=5 | valid_logloss=0.05366 (iters=84)\n",
      "eta=0.23482229355876275, max_depth=6 | valid_logloss=0.05436 (iters=168)\n",
      "eta=0.23482229355876275, max_depth=7 | valid_logloss=0.05066 (iters=98)\n",
      "eta=0.24597856118540598, max_depth=1 | valid_logloss=0.04560 (iters=325)\n",
      "eta=0.24597856118540598, max_depth=2 | valid_logloss=0.04428 (iters=82)\n",
      "eta=0.24597856118540598, max_depth=3 | valid_logloss=0.05035 (iters=47)\n",
      "eta=0.24597856118540598, max_depth=4 | valid_logloss=0.05409 (iters=88)\n",
      "eta=0.24597856118540598, max_depth=5 | valid_logloss=0.05230 (iters=67)\n",
      "eta=0.24597856118540598, max_depth=6 | valid_logloss=0.05013 (iters=133)\n",
      "eta=0.24597856118540598, max_depth=7 | valid_logloss=0.05055 (iters=65)\n",
      "eta=0.25766485645751286, max_depth=1 | valid_logloss=0.04591 (iters=308)\n",
      "eta=0.25766485645751286, max_depth=2 | valid_logloss=0.04348 (iters=160)\n",
      "eta=0.25766485645751286, max_depth=3 | valid_logloss=0.05560 (iters=57)\n",
      "eta=0.25766485645751286, max_depth=4 | valid_logloss=0.05119 (iters=99)\n",
      "eta=0.25766485645751286, max_depth=5 | valid_logloss=0.05004 (iters=73)\n",
      "eta=0.25766485645751286, max_depth=6 | valid_logloss=0.05512 (iters=82)\n",
      "eta=0.25766485645751286, max_depth=7 | valid_logloss=0.05293 (iters=41)\n",
      "eta=0.26990636067355667, max_depth=1 | valid_logloss=0.04430 (iters=290)\n",
      "eta=0.26990636067355667, max_depth=2 | valid_logloss=0.04447 (iters=104)\n",
      "eta=0.26990636067355667, max_depth=3 | valid_logloss=0.04867 (iters=61)\n",
      "eta=0.26990636067355667, max_depth=4 | valid_logloss=0.05844 (iters=76)\n",
      "eta=0.26990636067355667, max_depth=5 | valid_logloss=0.04872 (iters=130)\n",
      "eta=0.26990636067355667, max_depth=6 | valid_logloss=0.05586 (iters=133)\n",
      "eta=0.26990636067355667, max_depth=7 | valid_logloss=0.04968 (iters=111)\n",
      "eta=0.2827294514805375, max_depth=1 | valid_logloss=0.04300 (iters=260)\n",
      "eta=0.2827294514805375, max_depth=2 | valid_logloss=0.04987 (iters=162)\n",
      "eta=0.2827294514805375, max_depth=3 | valid_logloss=0.04639 (iters=67)\n",
      "eta=0.2827294514805375, max_depth=4 | valid_logloss=0.04773 (iters=70)\n",
      "eta=0.2827294514805375, max_depth=5 | valid_logloss=0.05279 (iters=68)\n",
      "eta=0.2827294514805375, max_depth=6 | valid_logloss=0.05843 (iters=135)\n",
      "eta=0.2827294514805375, max_depth=7 | valid_logloss=0.05989 (iters=105)\n",
      "eta=0.29616175971179, max_depth=1 | valid_logloss=0.04533 (iters=246)\n",
      "eta=0.29616175971179, max_depth=2 | valid_logloss=0.04789 (iters=90)\n",
      "eta=0.29616175971179, max_depth=3 | valid_logloss=0.04557 (iters=71)\n",
      "eta=0.29616175971179, max_depth=4 | valid_logloss=0.04926 (iters=73)\n",
      "eta=0.29616175971179, max_depth=5 | valid_logloss=0.05533 (iters=116)\n",
      "eta=0.29616175971179, max_depth=6 | valid_logloss=0.05731 (iters=78)\n",
      "eta=0.29616175971179, max_depth=7 | valid_logloss=0.05323 (iters=104)\n",
      "eta=0.31023222892512115, max_depth=1 | valid_logloss=0.04612 (iters=212)\n",
      "eta=0.31023222892512115, max_depth=2 | valid_logloss=0.04784 (iters=111)\n",
      "eta=0.31023222892512115, max_depth=3 | valid_logloss=0.04544 (iters=77)\n",
      "eta=0.31023222892512115, max_depth=4 | valid_logloss=0.04859 (iters=63)\n",
      "eta=0.31023222892512115, max_depth=5 | valid_logloss=0.05289 (iters=41)\n",
      "eta=0.31023222892512115, max_depth=6 | valid_logloss=0.05319 (iters=93)\n",
      "eta=0.31023222892512115, max_depth=7 | valid_logloss=0.05740 (iters=142)\n",
      "eta=0.32497117776956996, max_depth=1 | valid_logloss=0.04561 (iters=217)\n",
      "eta=0.32497117776956996, max_depth=2 | valid_logloss=0.04292 (iters=108)\n",
      "eta=0.32497117776956996, max_depth=3 | valid_logloss=0.04438 (iters=55)\n",
      "eta=0.32497117776956996, max_depth=4 | valid_logloss=0.05134 (iters=60)\n",
      "eta=0.32497117776956996, max_depth=5 | valid_logloss=0.04867 (iters=110)\n",
      "eta=0.32497117776956996, max_depth=6 | valid_logloss=0.04870 (iters=104)\n",
      "eta=0.32497117776956996, max_depth=7 | valid_logloss=0.05556 (iters=59)\n",
      "eta=0.3404103653151748, max_depth=1 | valid_logloss=0.04279 (iters=214)\n",
      "eta=0.3404103653151748, max_depth=2 | valid_logloss=0.05349 (iters=67)\n",
      "eta=0.3404103653151748, max_depth=3 | valid_logloss=0.04859 (iters=51)\n",
      "eta=0.3404103653151748, max_depth=4 | valid_logloss=0.05196 (iters=51)\n",
      "eta=0.3404103653151748, max_depth=5 | valid_logloss=0.05048 (iters=53)\n",
      "eta=0.3404103653151748, max_depth=6 | valid_logloss=0.05344 (iters=88)\n",
      "eta=0.3404103653151748, max_depth=7 | valid_logloss=0.06338 (iters=106)\n",
      "eta=0.35658305948651925, max_depth=1 | valid_logloss=0.04581 (iters=212)\n",
      "eta=0.35658305948651925, max_depth=2 | valid_logloss=0.04727 (iters=64)\n",
      "eta=0.35658305948651925, max_depth=3 | valid_logloss=0.04719 (iters=51)\n",
      "eta=0.35658305948651925, max_depth=4 | valid_logloss=0.05504 (iters=75)\n",
      "eta=0.35658305948651925, max_depth=5 | valid_logloss=0.05477 (iters=129)\n",
      "eta=0.35658305948651925, max_depth=6 | valid_logloss=0.06367 (iters=62)\n",
      "eta=0.35658305948651925, max_depth=7 | valid_logloss=0.05605 (iters=51)\n",
      "eta=0.37352410874751435, max_depth=1 | valid_logloss=0.04631 (iters=176)\n",
      "eta=0.37352410874751435, max_depth=2 | valid_logloss=0.04963 (iters=79)\n",
      "eta=0.37352410874751435, max_depth=3 | valid_logloss=0.05746 (iters=122)\n",
      "eta=0.37352410874751435, max_depth=4 | valid_logloss=0.05273 (iters=80)\n",
      "eta=0.37352410874751435, max_depth=5 | valid_logloss=0.05892 (iters=101)\n",
      "eta=0.37352410874751435, max_depth=6 | valid_logloss=0.05695 (iters=95)\n",
      "eta=0.37352410874751435, max_depth=7 | valid_logloss=0.05999 (iters=59)\n",
      "eta=0.3912700171918841, max_depth=1 | valid_logloss=0.04432 (iters=186)\n",
      "eta=0.3912700171918841, max_depth=2 | valid_logloss=0.05360 (iters=69)\n",
      "eta=0.3912700171918841, max_depth=3 | valid_logloss=0.05132 (iters=55)\n",
      "eta=0.3912700171918841, max_depth=4 | valid_logloss=0.04652 (iters=65)\n",
      "eta=0.3912700171918841, max_depth=5 | valid_logloss=0.05451 (iters=100)\n",
      "eta=0.3912700171918841, max_depth=6 | valid_logloss=0.04958 (iters=42)\n",
      "eta=0.3912700171918841, max_depth=7 | valid_logloss=0.06362 (iters=48)\n",
      "eta=0.4098590232011524, max_depth=1 | valid_logloss=0.04406 (iters=215)\n",
      "eta=0.4098590232011524, max_depth=2 | valid_logloss=0.04430 (iters=91)\n",
      "eta=0.4098590232011524, max_depth=3 | valid_logloss=0.05005 (iters=62)\n",
      "eta=0.4098590232011524, max_depth=4 | valid_logloss=0.05377 (iters=17)\n"
     ]
    },
    {
     "name": "stdout",
     "output_type": "stream",
     "text": [
      "eta=0.4098590232011524, max_depth=5 | valid_logloss=0.05885 (iters=80)\n",
      "eta=0.4098590232011524, max_depth=6 | valid_logloss=0.05437 (iters=90)\n",
      "eta=0.4098590232011524, max_depth=7 | valid_logloss=0.06048 (iters=67)\n",
      "eta=0.4293311818396271, max_depth=1 | valid_logloss=0.04550 (iters=152)\n",
      "eta=0.4293311818396271, max_depth=2 | valid_logloss=0.05092 (iters=71)\n",
      "eta=0.4293311818396271, max_depth=3 | valid_logloss=0.05152 (iters=62)\n",
      "eta=0.4293311818396271, max_depth=4 | valid_logloss=0.05118 (iters=44)\n",
      "eta=0.4293311818396271, max_depth=5 | valid_logloss=0.05313 (iters=93)\n",
      "eta=0.4293311818396271, max_depth=6 | valid_logloss=0.06355 (iters=36)\n",
      "eta=0.4293311818396271, max_depth=7 | valid_logloss=0.05346 (iters=65)\n",
      "eta=0.4497284511639188, max_depth=1 | valid_logloss=0.04265 (iters=233)\n",
      "eta=0.4497284511639188, max_depth=2 | valid_logloss=0.04302 (iters=51)\n",
      "eta=0.4497284511639188, max_depth=3 | valid_logloss=0.05675 (iters=81)\n",
      "eta=0.4497284511639188, max_depth=4 | valid_logloss=0.04694 (iters=88)\n",
      "eta=0.4497284511639188, max_depth=5 | valid_logloss=0.06031 (iters=82)\n",
      "eta=0.4497284511639188, max_depth=6 | valid_logloss=0.05715 (iters=30)\n",
      "eta=0.4497284511639188, max_depth=7 | valid_logloss=0.06060 (iters=19)\n",
      "eta=0.4710947826329748, max_depth=1 | valid_logloss=0.04494 (iters=147)\n",
      "eta=0.4710947826329748, max_depth=2 | valid_logloss=0.04823 (iters=58)\n",
      "eta=0.4710947826329748, max_depth=3 | valid_logloss=0.06149 (iters=17)\n",
      "eta=0.4710947826329748, max_depth=4 | valid_logloss=0.04579 (iters=41)\n",
      "eta=0.4710947826329748, max_depth=5 | valid_logloss=0.05332 (iters=52)\n",
      "eta=0.4710947826329748, max_depth=6 | valid_logloss=0.05914 (iters=67)\n",
      "eta=0.4710947826329748, max_depth=7 | valid_logloss=0.06343 (iters=33)\n",
      "eta=0.4934762158134392, max_depth=1 | valid_logloss=0.04453 (iters=154)\n",
      "eta=0.4934762158134392, max_depth=2 | valid_logloss=0.04414 (iters=88)\n",
      "eta=0.4934762158134392, max_depth=3 | valid_logloss=0.06007 (iters=98)\n",
      "eta=0.4934762158134392, max_depth=4 | valid_logloss=0.05337 (iters=45)\n",
      "eta=0.4934762158134392, max_depth=5 | valid_logloss=0.05717 (iters=76)\n",
      "eta=0.4934762158134392, max_depth=6 | valid_logloss=0.05500 (iters=70)\n",
      "eta=0.4934762158134392, max_depth=7 | valid_logloss=0.06205 (iters=64)\n",
      "eta=0.5169209775844091, max_depth=1 | valid_logloss=0.04753 (iters=167)\n",
      "eta=0.5169209775844091, max_depth=2 | valid_logloss=0.05055 (iters=63)\n",
      "eta=0.5169209775844091, max_depth=3 | valid_logloss=0.06374 (iters=44)\n",
      "eta=0.5169209775844091, max_depth=4 | valid_logloss=0.04684 (iters=40)\n",
      "eta=0.5169209775844091, max_depth=5 | valid_logloss=0.05292 (iters=84)\n",
      "eta=0.5169209775844091, max_depth=6 | valid_logloss=0.05733 (iters=61)\n",
      "eta=0.5169209775844091, max_depth=7 | valid_logloss=0.06055 (iters=64)\n",
      "eta=0.5414795860553491, max_depth=1 | valid_logloss=0.04426 (iters=171)\n",
      "eta=0.5414795860553491, max_depth=2 | valid_logloss=0.04911 (iters=71)\n",
      "eta=0.5414795860553491, max_depth=3 | valid_logloss=0.06002 (iters=29)\n",
      "eta=0.5414795860553491, max_depth=4 | valid_logloss=0.04954 (iters=25)\n",
      "eta=0.5414795860553491, max_depth=5 | valid_logloss=0.05193 (iters=69)\n",
      "eta=0.5414795860553491, max_depth=6 | valid_logloss=0.04962 (iters=38)\n",
      "eta=0.5414795860553491, max_depth=7 | valid_logloss=0.06393 (iters=45)\n",
      "eta=0.5672049594210845, max_depth=1 | valid_logloss=0.04718 (iters=87)\n",
      "eta=0.5672049594210845, max_depth=2 | valid_logloss=0.05512 (iters=50)\n",
      "eta=0.5672049594210845, max_depth=3 | valid_logloss=0.05571 (iters=42)\n",
      "eta=0.5672049594210845, max_depth=4 | valid_logloss=0.04865 (iters=44)\n",
      "eta=0.5672049594210845, max_depth=5 | valid_logloss=0.05099 (iters=63)\n",
      "eta=0.5672049594210845, max_depth=6 | valid_logloss=0.05192 (iters=48)\n",
      "eta=0.5672049594210845, max_depth=7 | valid_logloss=0.06183 (iters=27)\n",
      "eta=0.5941525299884314, max_depth=1 | valid_logloss=0.04558 (iters=114)\n",
      "eta=0.5941525299884314, max_depth=2 | valid_logloss=0.05409 (iters=41)\n",
      "eta=0.5941525299884314, max_depth=3 | valid_logloss=0.05307 (iters=55)\n",
      "eta=0.5941525299884314, max_depth=4 | valid_logloss=0.05822 (iters=70)\n",
      "eta=0.5941525299884314, max_depth=5 | valid_logloss=0.06107 (iters=76)\n",
      "eta=0.5941525299884314, max_depth=6 | valid_logloss=0.05776 (iters=56)\n",
      "eta=0.5941525299884314, max_depth=7 | valid_logloss=0.05716 (iters=45)\n",
      "eta=0.6223803636201621, max_depth=1 | valid_logloss=0.05001 (iters=81)\n",
      "eta=0.6223803636201621, max_depth=2 | valid_logloss=0.04811 (iters=30)\n",
      "eta=0.6223803636201621, max_depth=3 | valid_logloss=0.06725 (iters=14)\n",
      "eta=0.6223803636201621, max_depth=4 | valid_logloss=0.04920 (iters=68)\n",
      "eta=0.6223803636201621, max_depth=5 | valid_logloss=0.05754 (iters=25)\n",
      "eta=0.6223803636201621, max_depth=6 | valid_logloss=0.06036 (iters=16)\n",
      "eta=0.6223803636201621, max_depth=7 | valid_logloss=0.05845 (iters=62)\n",
      "eta=0.6519492848536846, max_depth=1 | valid_logloss=0.05484 (iters=71)\n",
      "eta=0.6519492848536846, max_depth=2 | valid_logloss=0.05681 (iters=84)\n",
      "eta=0.6519492848536846, max_depth=3 | valid_logloss=0.05337 (iters=19)\n",
      "eta=0.6519492848536846, max_depth=4 | valid_logloss=0.05418 (iters=24)\n",
      "eta=0.6519492848536846, max_depth=5 | valid_logloss=0.06258 (iters=34)\n",
      "eta=0.6519492848536846, max_depth=6 | valid_logloss=0.05777 (iters=47)\n",
      "eta=0.6519492848536846, max_depth=7 | valid_logloss=0.06522 (iters=48)\n",
      "eta=0.6829230079640347, max_depth=1 | valid_logloss=0.04871 (iters=112)\n",
      "eta=0.6829230079640347, max_depth=2 | valid_logloss=0.05377 (iters=36)\n",
      "eta=0.6829230079640347, max_depth=3 | valid_logloss=0.06028 (iters=35)\n",
      "eta=0.6829230079640347, max_depth=4 | valid_logloss=0.05388 (iters=31)\n",
      "eta=0.6829230079640347, max_depth=5 | valid_logloss=0.05525 (iters=52)\n",
      "eta=0.6829230079640347, max_depth=6 | valid_logloss=0.06058 (iters=23)\n",
      "eta=0.6829230079640347, max_depth=7 | valid_logloss=0.06235 (iters=34)\n",
      "eta=0.7153682742535938, max_depth=1 | valid_logloss=0.04541 (iters=144)\n",
      "eta=0.7153682742535938, max_depth=2 | valid_logloss=0.05680 (iters=35)\n",
      "eta=0.7153682742535938, max_depth=3 | valid_logloss=0.06571 (iters=20)\n",
      "eta=0.7153682742535938, max_depth=4 | valid_logloss=0.05763 (iters=48)\n",
      "eta=0.7153682742535938, max_depth=5 | valid_logloss=0.05778 (iters=69)\n",
      "eta=0.7153682742535938, max_depth=6 | valid_logloss=0.07456 (iters=62)\n",
      "eta=0.7153682742535938, max_depth=7 | valid_logloss=0.06078 (iters=53)\n",
      "eta=0.7493549958643593, max_depth=1 | valid_logloss=0.04536 (iters=102)\n",
      "eta=0.7493549958643593, max_depth=2 | valid_logloss=0.05875 (iters=38)\n",
      "eta=0.7493549958643593, max_depth=3 | valid_logloss=0.05578 (iters=40)\n",
      "eta=0.7493549958643593, max_depth=4 | valid_logloss=0.06824 (iters=44)\n",
      "eta=0.7493549958643593, max_depth=5 | valid_logloss=0.06003 (iters=34)\n",
      "eta=0.7493549958643593, max_depth=6 | valid_logloss=0.06553 (iters=42)\n",
      "eta=0.7493549958643593, max_depth=7 | valid_logloss=0.05878 (iters=48)\n",
      "eta=0.7849564064226502, max_depth=1 | valid_logloss=0.04621 (iters=115)\n",
      "eta=0.7849564064226502, max_depth=2 | valid_logloss=0.06505 (iters=65)\n",
      "eta=0.7849564064226502, max_depth=3 | valid_logloss=0.05820 (iters=26)\n",
      "eta=0.7849564064226502, max_depth=4 | valid_logloss=0.06585 (iters=31)\n",
      "eta=0.7849564064226502, max_depth=5 | valid_logloss=0.06047 (iters=41)\n",
      "eta=0.7849564064226502, max_depth=6 | valid_logloss=0.06996 (iters=8)\n",
      "eta=0.7849564064226502, max_depth=7 | valid_logloss=0.06505 (iters=40)\n",
      "eta=0.822249218840854, max_depth=1 | valid_logloss=0.05281 (iters=121)\n",
      "eta=0.822249218840854, max_depth=2 | valid_logloss=0.05588 (iters=25)\n",
      "eta=0.822249218840854, max_depth=3 | valid_logloss=0.07082 (iters=39)\n",
      "eta=0.822249218840854, max_depth=4 | valid_logloss=0.07360 (iters=9)\n",
      "eta=0.822249218840854, max_depth=5 | valid_logloss=0.05227 (iters=50)\n",
      "eta=0.822249218840854, max_depth=6 | valid_logloss=0.06847 (iters=47)\n",
      "eta=0.822249218840854, max_depth=7 | valid_logloss=0.06172 (iters=40)\n",
      "eta=0.8613137906162399, max_depth=1 | valid_logloss=0.05382 (iters=75)\n",
      "eta=0.8613137906162399, max_depth=2 | valid_logloss=0.05680 (iters=31)\n",
      "eta=0.8613137906162399, max_depth=3 | valid_logloss=0.06854 (iters=36)\n",
      "eta=0.8613137906162399, max_depth=4 | valid_logloss=0.05869 (iters=34)\n",
      "eta=0.8613137906162399, max_depth=5 | valid_logloss=0.05497 (iters=14)\n",
      "eta=0.8613137906162399, max_depth=6 | valid_logloss=0.06695 (iters=39)\n",
      "eta=0.8613137906162399, max_depth=7 | valid_logloss=0.07121 (iters=28)\n",
      "eta=0.9022342969830204, max_depth=1 | valid_logloss=0.04013 (iters=120)\n"
     ]
    },
    {
     "name": "stdout",
     "output_type": "stream",
     "text": [
      "eta=0.9022342969830204, max_depth=2 | valid_logloss=0.06377 (iters=65)\n",
      "eta=0.9022342969830204, max_depth=3 | valid_logloss=0.05649 (iters=22)\n",
      "eta=0.9022342969830204, max_depth=4 | valid_logloss=0.07613 (iters=21)\n",
      "eta=0.9022342969830204, max_depth=5 | valid_logloss=0.06401 (iters=28)\n",
      "eta=0.9022342969830204, max_depth=6 | valid_logloss=0.07849 (iters=48)\n",
      "eta=0.9022342969830204, max_depth=7 | valid_logloss=0.08336 (iters=22)\n",
      "eta=0.9450989122907666, max_depth=1 | valid_logloss=0.05214 (iters=75)\n",
      "eta=0.9450989122907666, max_depth=2 | valid_logloss=0.05642 (iters=71)\n",
      "eta=0.9450989122907666, max_depth=3 | valid_logloss=0.07998 (iters=5)\n",
      "eta=0.9450989122907666, max_depth=4 | valid_logloss=0.06937 (iters=19)\n",
      "eta=0.9450989122907666, max_depth=5 | valid_logloss=0.07765 (iters=32)\n",
      "eta=0.9450989122907666, max_depth=6 | valid_logloss=0.07272 (iters=14)\n",
      "eta=0.9450989122907666, max_depth=7 | valid_logloss=0.07117 (iters=32)\n",
      "eta=0.99, max_depth=1 | valid_logloss=0.05267 (iters=57)\n",
      "eta=0.99, max_depth=2 | valid_logloss=0.08030 (iters=33)\n",
      "eta=0.99, max_depth=3 | valid_logloss=0.05542 (iters=33)\n",
      "eta=0.99, max_depth=4 | valid_logloss=0.07735 (iters=36)\n",
      "eta=0.99, max_depth=5 | valid_logloss=0.08468 (iters=5)\n",
      "eta=0.99, max_depth=6 | valid_logloss=0.08386 (iters=26)\n",
      "eta=0.99, max_depth=7 | valid_logloss=0.06163 (iters=31)\n"
     ]
    }
   ],
   "source": [
    "# Perform grid search\n",
    "df_grid_loss = pd.DataFrame(columns = ['eta', 'max_depth', 'valid_loss'], \n",
    "                            index = range(len(grid_param)))\n",
    "i = 0\n",
    "for eta, max_depth in grid_param:\n",
    "    param[0] = ('eta', eta)\n",
    "    param[1] = ('max_depth', max_depth)\n",
    "    \n",
    "    xgb_clf = xgb.train(param, dtrain, \n",
    "                        num_boost_round = 10000, \n",
    "                        evals = valid_list, \n",
    "                        early_stopping_rounds = 30, \n",
    "                        verbose_eval = False)\n",
    "    \n",
    "    print(\"eta={}, max_depth={} | valid_logloss={:.5f} (iters={})\".format(eta, \n",
    "                                                                          max_depth, \n",
    "                                                                          xgb_clf.best_score, \n",
    "                                                                          xgb_clf.best_iteration))\n",
    "    df_grid_loss.iloc[i,:] = [eta, max_depth, xgb_clf.best_score]\n",
    "    i += 1\n",
    "    \n",
    "# Save grid search results\n",
    "    data_out = 'data_xgb_13LungCancer'\n",
    "    df_grid_loss.to_csv(os.path.join(data_out, 'df_grid_loss.csv'), index=None)"
   ]
  },
  {
   "cell_type": "code",
   "execution_count": 150,
   "metadata": {
    "ExecuteTime": {
     "end_time": "2021-03-02T21:40:31.543573Z",
     "start_time": "2021-03-02T21:40:31.536111Z"
    },
    "code_folding": []
   },
   "outputs": [
    {
     "name": "stdout",
     "output_type": "stream",
     "text": [
      "Best parameters:\n",
      "- Best eta = 0.097\n",
      "- Best max_depth = 2\n",
      "- Best valid loss = 0.040909\n"
     ]
    }
   ],
   "source": [
    "# Display grid search results\n",
    "data_out = 'data_xgb_13LungCancer'\n",
    "df_grid_loss = pd.read_csv(os.path.join(data_out, 'df_grid_loss.csv'))\n",
    "df_grid_loss.sort_values(by=['valid_loss'], inplace=True)\n",
    "\n",
    "# idx = df_grid_loss.valid_loss.idxmin()\n",
    "idx = 1\n",
    "best_eta   = df_grid_loss.iloc[idx, 0]\n",
    "best_depth = df_grid_loss.iloc[idx, 1]\n",
    "best_loss  = df_grid_loss.iloc[idx, 2]\n",
    "print(\"Best parameters:\")\n",
    "print(\"- Best eta = {:.3f}\".format(best_eta))\n",
    "print(\"- Best max_depth = {}\".format(best_depth))\n",
    "print(\"- Best valid loss = {}\".format(best_loss))"
   ]
  },
  {
   "cell_type": "code",
   "execution_count": 151,
   "metadata": {
    "ExecuteTime": {
     "end_time": "2021-03-02T21:40:34.447221Z",
     "start_time": "2021-03-02T21:40:34.314233Z"
    },
    "code_folding": []
   },
   "outputs": [
    {
     "data": {
      "image/png": "[encoded data removed]",
      "text/plain": [
       "<Figure size 576x432 with 1 Axes>"
      ]
     },
     "metadata": {
      "needs_background": "light"
     },
     "output_type": "display_data"
    }
   ],
   "source": [
    "# Plot Loss vs point in grid search\n",
    "data_out = 'data_xgb_13LungCancer'\n",
    "df_grid_loss = pd.read_csv(os.path.join(data_out, 'df_grid_loss.csv'))\n",
    "fig, axes = plt.subplots(figsize=(8,6))\n",
    "axes.scatter(df_grid_loss.index, df_grid_loss['valid_loss'])\n",
    "axes.plot(df_grid_loss.index, df_grid_loss['valid_loss'])\n",
    "axes.set_xlabel(\"grid search point\")\n",
    "axes.set_ylabel(\"Valid Logloss\")\n",
    "plt.show()"
   ]
  },
  {
   "cell_type": "code",
   "execution_count": 181,
   "metadata": {
    "ExecuteTime": {
     "end_time": "2021-03-02T22:00:25.985419Z",
     "start_time": "2021-03-02T22:00:24.526296Z"
    },
    "code_folding": [],
    "scrolled": true
   },
   "outputs": [
    {
     "name": "stdout",
     "output_type": "stream",
     "text": [
      "[0]\ttrain-logloss:0.61406\tvalid-logloss:0.61438\n",
      "Multiple eval metrics have been passed: 'valid-logloss' will be used for early stopping.\n",
      "\n",
      "Will train until valid-logloss hasn't improved in 100 rounds.\n",
      "[1]\ttrain-logloss:0.54884\tvalid-logloss:0.54865\n",
      "[2]\ttrain-logloss:0.49382\tvalid-logloss:0.49434\n",
      "[3]\ttrain-logloss:0.44713\tvalid-logloss:0.44775\n",
      "[4]\ttrain-logloss:0.40710\tvalid-logloss:0.40797\n",
      "[5]\ttrain-logloss:0.37242\tvalid-logloss:0.37356\n",
      "[6]\ttrain-logloss:0.34239\tvalid-logloss:0.34335\n",
      "[7]\ttrain-logloss:0.31597\tvalid-logloss:0.31760\n",
      "[8]\ttrain-logloss:0.29270\tvalid-logloss:0.29336\n",
      "[9]\ttrain-logloss:0.27220\tvalid-logloss:0.27290\n",
      "[10]\ttrain-logloss:0.25387\tvalid-logloss:0.25497\n",
      "[11]\ttrain-logloss:0.23675\tvalid-logloss:0.23838\n",
      "[12]\ttrain-logloss:0.22165\tvalid-logloss:0.22332\n",
      "[13]\ttrain-logloss:0.20807\tvalid-logloss:0.21001\n",
      "[14]\ttrain-logloss:0.19609\tvalid-logloss:0.19804\n",
      "[15]\ttrain-logloss:0.18519\tvalid-logloss:0.18721\n",
      "[16]\ttrain-logloss:0.17573\tvalid-logloss:0.17788\n",
      "[17]\ttrain-logloss:0.16679\tvalid-logloss:0.16877\n",
      "[18]\ttrain-logloss:0.15835\tvalid-logloss:0.16025\n",
      "[19]\ttrain-logloss:0.15110\tvalid-logloss:0.15284\n",
      "[20]\ttrain-logloss:0.14439\tvalid-logloss:0.14635\n",
      "[21]\ttrain-logloss:0.13811\tvalid-logloss:0.13943\n",
      "[22]\ttrain-logloss:0.13233\tvalid-logloss:0.13348\n",
      "[23]\ttrain-logloss:0.12672\tvalid-logloss:0.12869\n",
      "[24]\ttrain-logloss:0.12213\tvalid-logloss:0.12443\n",
      "[25]\ttrain-logloss:0.11771\tvalid-logloss:0.11943\n",
      "[26]\ttrain-logloss:0.11378\tvalid-logloss:0.11564\n",
      "[27]\ttrain-logloss:0.10987\tvalid-logloss:0.11230\n",
      "[28]\ttrain-logloss:0.10631\tvalid-logloss:0.10906\n",
      "[29]\ttrain-logloss:0.10316\tvalid-logloss:0.10658\n",
      "[30]\ttrain-logloss:0.10013\tvalid-logloss:0.10387\n",
      "[31]\ttrain-logloss:0.09746\tvalid-logloss:0.10106\n",
      "[32]\ttrain-logloss:0.09483\tvalid-logloss:0.09937\n",
      "[33]\ttrain-logloss:0.09238\tvalid-logloss:0.09775\n",
      "[34]\ttrain-logloss:0.09000\tvalid-logloss:0.09585\n",
      "[35]\ttrain-logloss:0.08779\tvalid-logloss:0.09441\n",
      "[36]\ttrain-logloss:0.08530\tvalid-logloss:0.09196\n",
      "[37]\ttrain-logloss:0.08328\tvalid-logloss:0.09075\n",
      "[38]\ttrain-logloss:0.08107\tvalid-logloss:0.08855\n",
      "[39]\ttrain-logloss:0.07930\tvalid-logloss:0.08818\n",
      "[40]\ttrain-logloss:0.07762\tvalid-logloss:0.08701\n",
      "[41]\ttrain-logloss:0.07562\tvalid-logloss:0.08507\n",
      "[42]\ttrain-logloss:0.07368\tvalid-logloss:0.08370\n",
      "[43]\ttrain-logloss:0.07220\tvalid-logloss:0.08236\n",
      "[44]\ttrain-logloss:0.07076\tvalid-logloss:0.08114\n",
      "[45]\ttrain-logloss:0.06937\tvalid-logloss:0.08055\n",
      "[46]\ttrain-logloss:0.06781\tvalid-logloss:0.07884\n",
      "[47]\ttrain-logloss:0.06655\tvalid-logloss:0.07837\n",
      "[48]\ttrain-logloss:0.06531\tvalid-logloss:0.07829\n",
      "[49]\ttrain-logloss:0.06407\tvalid-logloss:0.07763\n",
      "[50]\ttrain-logloss:0.06271\tvalid-logloss:0.07648\n",
      "[51]\ttrain-logloss:0.06157\tvalid-logloss:0.07566\n",
      "[52]\ttrain-logloss:0.06023\tvalid-logloss:0.07519\n",
      "[53]\ttrain-logloss:0.05915\tvalid-logloss:0.07498\n",
      "[54]\ttrain-logloss:0.05797\tvalid-logloss:0.07380\n",
      "[55]\ttrain-logloss:0.05696\tvalid-logloss:0.07320\n",
      "[56]\ttrain-logloss:0.05595\tvalid-logloss:0.07291\n",
      "[57]\ttrain-logloss:0.05462\tvalid-logloss:0.07197\n",
      "[58]\ttrain-logloss:0.05373\tvalid-logloss:0.07156\n",
      "[59]\ttrain-logloss:0.05276\tvalid-logloss:0.07031\n",
      "[60]\ttrain-logloss:0.05191\tvalid-logloss:0.07029\n",
      "[61]\ttrain-logloss:0.05079\tvalid-logloss:0.06926\n",
      "[62]\ttrain-logloss:0.04990\tvalid-logloss:0.06842\n",
      "[63]\ttrain-logloss:0.04902\tvalid-logloss:0.06790\n",
      "[64]\ttrain-logloss:0.04806\tvalid-logloss:0.06743\n",
      "[65]\ttrain-logloss:0.04734\tvalid-logloss:0.06676\n",
      "[66]\ttrain-logloss:0.04654\tvalid-logloss:0.06629\n",
      "[67]\ttrain-logloss:0.04576\tvalid-logloss:0.06567\n",
      "[68]\ttrain-logloss:0.04514\tvalid-logloss:0.06533\n",
      "[69]\ttrain-logloss:0.04436\tvalid-logloss:0.06456\n",
      "[70]\ttrain-logloss:0.04372\tvalid-logloss:0.06416\n",
      "[71]\ttrain-logloss:0.04300\tvalid-logloss:0.06331\n",
      "[72]\ttrain-logloss:0.04242\tvalid-logloss:0.06306\n",
      "[73]\ttrain-logloss:0.04175\tvalid-logloss:0.06302\n",
      "[74]\ttrain-logloss:0.04114\tvalid-logloss:0.06268\n",
      "[75]\ttrain-logloss:0.04051\tvalid-logloss:0.06265\n",
      "[76]\ttrain-logloss:0.03986\tvalid-logloss:0.06244\n",
      "[77]\ttrain-logloss:0.03922\tvalid-logloss:0.06187\n",
      "[78]\ttrain-logloss:0.03860\tvalid-logloss:0.06165\n",
      "[79]\ttrain-logloss:0.03805\tvalid-logloss:0.06152\n",
      "[80]\ttrain-logloss:0.03754\tvalid-logloss:0.06119\n",
      "[81]\ttrain-logloss:0.03697\tvalid-logloss:0.06080\n",
      "[82]\ttrain-logloss:0.03631\tvalid-logloss:0.06014\n",
      "[83]\ttrain-logloss:0.03588\tvalid-logloss:0.06029\n",
      "[84]\ttrain-logloss:0.03533\tvalid-logloss:0.05963\n",
      "[85]\ttrain-logloss:0.03476\tvalid-logloss:0.05927\n",
      "[86]\ttrain-logloss:0.03419\tvalid-logloss:0.05883\n",
      "[87]\ttrain-logloss:0.03362\tvalid-logloss:0.05909\n",
      "[88]\ttrain-logloss:0.03314\tvalid-logloss:0.05883\n",
      "[89]\ttrain-logloss:0.03259\tvalid-logloss:0.05835\n",
      "[90]\ttrain-logloss:0.03214\tvalid-logloss:0.05795\n",
      "[91]\ttrain-logloss:0.03165\tvalid-logloss:0.05755\n",
      "[92]\ttrain-logloss:0.03129\tvalid-logloss:0.05740\n",
      "[93]\ttrain-logloss:0.03081\tvalid-logloss:0.05677\n",
      "[94]\ttrain-logloss:0.03046\tvalid-logloss:0.05659\n",
      "[95]\ttrain-logloss:0.03000\tvalid-logloss:0.05618\n",
      "[96]\ttrain-logloss:0.02957\tvalid-logloss:0.05581\n",
      "[97]\ttrain-logloss:0.02916\tvalid-logloss:0.05532\n",
      "[98]\ttrain-logloss:0.02866\tvalid-logloss:0.05488\n",
      "[99]\ttrain-logloss:0.02825\tvalid-logloss:0.05492\n",
      "[100]\ttrain-logloss:0.02786\tvalid-logloss:0.05473\n",
      "[101]\ttrain-logloss:0.02748\tvalid-logloss:0.05431\n",
      "[102]\ttrain-logloss:0.02710\tvalid-logloss:0.05401\n",
      "[103]\ttrain-logloss:0.02680\tvalid-logloss:0.05394\n",
      "[104]\ttrain-logloss:0.02652\tvalid-logloss:0.05386\n",
      "[105]\ttrain-logloss:0.02624\tvalid-logloss:0.05375\n",
      "[106]\ttrain-logloss:0.02599\tvalid-logloss:0.05378\n",
      "[107]\ttrain-logloss:0.02565\tvalid-logloss:0.05377\n",
      "[108]\ttrain-logloss:0.02529\tvalid-logloss:0.05345\n",
      "[109]\ttrain-logloss:0.02494\tvalid-logloss:0.05386\n",
      "[110]\ttrain-logloss:0.02460\tvalid-logloss:0.05351\n",
      "[111]\ttrain-logloss:0.02427\tvalid-logloss:0.05345\n",
      "[112]\ttrain-logloss:0.02404\tvalid-logloss:0.05338\n",
      "[113]\ttrain-logloss:0.02381\tvalid-logloss:0.05319\n",
      "[114]\ttrain-logloss:0.02352\tvalid-logloss:0.05326\n",
      "[115]\ttrain-logloss:0.02322\tvalid-logloss:0.05292\n",
      "[116]\ttrain-logloss:0.02298\tvalid-logloss:0.05282\n",
      "[117]\ttrain-logloss:0.02269\tvalid-logloss:0.05285\n",
      "[118]\ttrain-logloss:0.02237\tvalid-logloss:0.05235\n",
      "[119]\ttrain-logloss:0.02209\tvalid-logloss:0.05227\n",
      "[120]\ttrain-logloss:0.02181\tvalid-logloss:0.05200\n",
      "[121]\ttrain-logloss:0.02150\tvalid-logloss:0.05165\n",
      "[122]\ttrain-logloss:0.02121\tvalid-logloss:0.05124\n",
      "[123]\ttrain-logloss:0.02090\tvalid-logloss:0.05112\n",
      "[124]\ttrain-logloss:0.02062\tvalid-logloss:0.05096\n",
      "[125]\ttrain-logloss:0.02035\tvalid-logloss:0.05095\n",
      "[126]\ttrain-logloss:0.02016\tvalid-logloss:0.05095\n",
      "[127]\ttrain-logloss:0.01991\tvalid-logloss:0.05065\n",
      "[128]\ttrain-logloss:0.01974\tvalid-logloss:0.05053\n",
      "[129]\ttrain-logloss:0.01958\tvalid-logloss:0.05041\n",
      "[130]\ttrain-logloss:0.01929\tvalid-logloss:0.05042\n",
      "[131]\ttrain-logloss:0.01904\tvalid-logloss:0.05041\n",
      "[132]\ttrain-logloss:0.01881\tvalid-logloss:0.05031\n",
      "[133]\ttrain-logloss:0.01858\tvalid-logloss:0.05014\n",
      "[134]\ttrain-logloss:0.01837\tvalid-logloss:0.04986\n",
      "[135]\ttrain-logloss:0.01812\tvalid-logloss:0.04969\n",
      "[136]\ttrain-logloss:0.01787\tvalid-logloss:0.04956\n",
      "[137]\ttrain-logloss:0.01766\tvalid-logloss:0.04968\n",
      "[138]\ttrain-logloss:0.01745\tvalid-logloss:0.04938\n",
      "[139]\ttrain-logloss:0.01725\tvalid-logloss:0.04915\n",
      "[140]\ttrain-logloss:0.01699\tvalid-logloss:0.04924\n",
      "[141]\ttrain-logloss:0.01678\tvalid-logloss:0.04937\n",
      "[142]\ttrain-logloss:0.01656\tvalid-logloss:0.04922\n",
      "[143]\ttrain-logloss:0.01637\tvalid-logloss:0.04897\n",
      "[144]\ttrain-logloss:0.01612\tvalid-logloss:0.04882\n",
      "[145]\ttrain-logloss:0.01593\tvalid-logloss:0.04864\n",
      "[146]\ttrain-logloss:0.01574\tvalid-logloss:0.04854\n",
      "[147]\ttrain-logloss:0.01561\tvalid-logloss:0.04856\n",
      "[148]\ttrain-logloss:0.01543\tvalid-logloss:0.04857\n",
      "[149]\ttrain-logloss:0.01524\tvalid-logloss:0.04833\n",
      "[150]\ttrain-logloss:0.01503\tvalid-logloss:0.04848\n",
      "[151]\ttrain-logloss:0.01485\tvalid-logloss:0.04824\n",
      "[152]\ttrain-logloss:0.01469\tvalid-logloss:0.04807\n",
      "[153]\ttrain-logloss:0.01451\tvalid-logloss:0.04805\n",
      "[154]\ttrain-logloss:0.01436\tvalid-logloss:0.04785\n",
      "[155]\ttrain-logloss:0.01424\tvalid-logloss:0.04785\n",
      "[156]\ttrain-logloss:0.01408\tvalid-logloss:0.04760\n",
      "[157]\ttrain-logloss:0.01392\tvalid-logloss:0.04751\n",
      "[158]\ttrain-logloss:0.01378\tvalid-logloss:0.04757\n",
      "[159]\ttrain-logloss:0.01361\tvalid-logloss:0.04763\n",
      "[160]\ttrain-logloss:0.01351\tvalid-logloss:0.04732\n",
      "[161]\ttrain-logloss:0.01335\tvalid-logloss:0.04702\n",
      "[162]\ttrain-logloss:0.01321\tvalid-logloss:0.04687\n",
      "[163]\ttrain-logloss:0.01307\tvalid-logloss:0.04669\n"
     ]
    },
    {
     "name": "stdout",
     "output_type": "stream",
     "text": [
      "[164]\ttrain-logloss:0.01298\tvalid-logloss:0.04668\n",
      "[165]\ttrain-logloss:0.01283\tvalid-logloss:0.04665\n",
      "[166]\ttrain-logloss:0.01268\tvalid-logloss:0.04650\n",
      "[167]\ttrain-logloss:0.01260\tvalid-logloss:0.04645\n",
      "[168]\ttrain-logloss:0.01241\tvalid-logloss:0.04646\n",
      "[169]\ttrain-logloss:0.01225\tvalid-logloss:0.04660\n",
      "[170]\ttrain-logloss:0.01213\tvalid-logloss:0.04642\n",
      "[171]\ttrain-logloss:0.01205\tvalid-logloss:0.04638\n",
      "[172]\ttrain-logloss:0.01189\tvalid-logloss:0.04620\n",
      "[173]\ttrain-logloss:0.01174\tvalid-logloss:0.04626\n",
      "[174]\ttrain-logloss:0.01162\tvalid-logloss:0.04615\n",
      "[175]\ttrain-logloss:0.01150\tvalid-logloss:0.04603\n",
      "[176]\ttrain-logloss:0.01139\tvalid-logloss:0.04585\n",
      "[177]\ttrain-logloss:0.01128\tvalid-logloss:0.04558\n",
      "[178]\ttrain-logloss:0.01112\tvalid-logloss:0.04532\n",
      "[179]\ttrain-logloss:0.01101\tvalid-logloss:0.04526\n",
      "[180]\ttrain-logloss:0.01087\tvalid-logloss:0.04543\n",
      "[181]\ttrain-logloss:0.01080\tvalid-logloss:0.04518\n",
      "[182]\ttrain-logloss:0.01069\tvalid-logloss:0.04515\n",
      "[183]\ttrain-logloss:0.01060\tvalid-logloss:0.04519\n",
      "[184]\ttrain-logloss:0.01049\tvalid-logloss:0.04516\n",
      "[185]\ttrain-logloss:0.01036\tvalid-logloss:0.04534\n",
      "[186]\ttrain-logloss:0.01024\tvalid-logloss:0.04531\n",
      "[187]\ttrain-logloss:0.01012\tvalid-logloss:0.04509\n",
      "[188]\ttrain-logloss:0.01003\tvalid-logloss:0.04485\n",
      "[189]\ttrain-logloss:0.00993\tvalid-logloss:0.04472\n",
      "[190]\ttrain-logloss:0.00984\tvalid-logloss:0.04471\n",
      "[191]\ttrain-logloss:0.00978\tvalid-logloss:0.04451\n",
      "[192]\ttrain-logloss:0.00969\tvalid-logloss:0.04449\n",
      "[193]\ttrain-logloss:0.00958\tvalid-logloss:0.04450\n",
      "[194]\ttrain-logloss:0.00952\tvalid-logloss:0.04450\n",
      "[195]\ttrain-logloss:0.00943\tvalid-logloss:0.04471\n",
      "[196]\ttrain-logloss:0.00930\tvalid-logloss:0.04463\n",
      "[197]\ttrain-logloss:0.00920\tvalid-logloss:0.04463\n",
      "[198]\ttrain-logloss:0.00911\tvalid-logloss:0.04462\n",
      "[199]\ttrain-logloss:0.00902\tvalid-logloss:0.04453\n",
      "[200]\ttrain-logloss:0.00892\tvalid-logloss:0.04455\n",
      "[201]\ttrain-logloss:0.00884\tvalid-logloss:0.04444\n",
      "[202]\ttrain-logloss:0.00876\tvalid-logloss:0.04432\n",
      "[203]\ttrain-logloss:0.00868\tvalid-logloss:0.04413\n",
      "[204]\ttrain-logloss:0.00857\tvalid-logloss:0.04420\n",
      "[205]\ttrain-logloss:0.00849\tvalid-logloss:0.04412\n",
      "[206]\ttrain-logloss:0.00844\tvalid-logloss:0.04395\n",
      "[207]\ttrain-logloss:0.00836\tvalid-logloss:0.04383\n",
      "[208]\ttrain-logloss:0.00829\tvalid-logloss:0.04385\n",
      "[209]\ttrain-logloss:0.00819\tvalid-logloss:0.04393\n",
      "[210]\ttrain-logloss:0.00813\tvalid-logloss:0.04372\n",
      "[211]\ttrain-logloss:0.00803\tvalid-logloss:0.04366\n",
      "[212]\ttrain-logloss:0.00794\tvalid-logloss:0.04355\n",
      "[213]\ttrain-logloss:0.00787\tvalid-logloss:0.04344\n",
      "[214]\ttrain-logloss:0.00778\tvalid-logloss:0.04324\n",
      "[215]\ttrain-logloss:0.00769\tvalid-logloss:0.04327\n",
      "[216]\ttrain-logloss:0.00761\tvalid-logloss:0.04323\n",
      "[217]\ttrain-logloss:0.00754\tvalid-logloss:0.04299\n",
      "[218]\ttrain-logloss:0.00746\tvalid-logloss:0.04310\n",
      "[219]\ttrain-logloss:0.00739\tvalid-logloss:0.04293\n",
      "[220]\ttrain-logloss:0.00730\tvalid-logloss:0.04295\n",
      "[221]\ttrain-logloss:0.00726\tvalid-logloss:0.04281\n",
      "[222]\ttrain-logloss:0.00719\tvalid-logloss:0.04264\n",
      "[223]\ttrain-logloss:0.00711\tvalid-logloss:0.04274\n",
      "[224]\ttrain-logloss:0.00705\tvalid-logloss:0.04284\n",
      "[225]\ttrain-logloss:0.00698\tvalid-logloss:0.04282\n",
      "[226]\ttrain-logloss:0.00692\tvalid-logloss:0.04277\n",
      "[227]\ttrain-logloss:0.00686\tvalid-logloss:0.04277\n",
      "[228]\ttrain-logloss:0.00679\tvalid-logloss:0.04287\n",
      "[229]\ttrain-logloss:0.00673\tvalid-logloss:0.04301\n",
      "[230]\ttrain-logloss:0.00666\tvalid-logloss:0.04297\n",
      "[231]\ttrain-logloss:0.00660\tvalid-logloss:0.04287\n",
      "[232]\ttrain-logloss:0.00656\tvalid-logloss:0.04284\n",
      "[233]\ttrain-logloss:0.00650\tvalid-logloss:0.04282\n",
      "[234]\ttrain-logloss:0.00645\tvalid-logloss:0.04285\n",
      "[235]\ttrain-logloss:0.00639\tvalid-logloss:0.04264\n",
      "[236]\ttrain-logloss:0.00632\tvalid-logloss:0.04257\n",
      "[237]\ttrain-logloss:0.00625\tvalid-logloss:0.04257\n",
      "[238]\ttrain-logloss:0.00619\tvalid-logloss:0.04242\n",
      "[239]\ttrain-logloss:0.00613\tvalid-logloss:0.04248\n",
      "[240]\ttrain-logloss:0.00609\tvalid-logloss:0.04260\n",
      "[241]\ttrain-logloss:0.00602\tvalid-logloss:0.04258\n",
      "[242]\ttrain-logloss:0.00596\tvalid-logloss:0.04239\n",
      "[243]\ttrain-logloss:0.00592\tvalid-logloss:0.04223\n",
      "[244]\ttrain-logloss:0.00585\tvalid-logloss:0.04234\n",
      "[245]\ttrain-logloss:0.00581\tvalid-logloss:0.04231\n",
      "[246]\ttrain-logloss:0.00575\tvalid-logloss:0.04228\n",
      "[247]\ttrain-logloss:0.00572\tvalid-logloss:0.04222\n",
      "[248]\ttrain-logloss:0.00566\tvalid-logloss:0.04216\n",
      "[249]\ttrain-logloss:0.00560\tvalid-logloss:0.04225\n",
      "[250]\ttrain-logloss:0.00555\tvalid-logloss:0.04224\n",
      "[251]\ttrain-logloss:0.00549\tvalid-logloss:0.04215\n",
      "[252]\ttrain-logloss:0.00544\tvalid-logloss:0.04219\n",
      "[253]\ttrain-logloss:0.00540\tvalid-logloss:0.04238\n",
      "[254]\ttrain-logloss:0.00536\tvalid-logloss:0.04220\n",
      "[255]\ttrain-logloss:0.00532\tvalid-logloss:0.04204\n",
      "[256]\ttrain-logloss:0.00528\tvalid-logloss:0.04190\n",
      "[257]\ttrain-logloss:0.00523\tvalid-logloss:0.04190\n",
      "[258]\ttrain-logloss:0.00518\tvalid-logloss:0.04202\n",
      "[259]\ttrain-logloss:0.00514\tvalid-logloss:0.04185\n",
      "[260]\ttrain-logloss:0.00511\tvalid-logloss:0.04196\n",
      "[261]\ttrain-logloss:0.00507\tvalid-logloss:0.04210\n",
      "[262]\ttrain-logloss:0.00502\tvalid-logloss:0.04204\n",
      "[263]\ttrain-logloss:0.00498\tvalid-logloss:0.04198\n",
      "[264]\ttrain-logloss:0.00493\tvalid-logloss:0.04209\n",
      "[265]\ttrain-logloss:0.00490\tvalid-logloss:0.04197\n",
      "[266]\ttrain-logloss:0.00487\tvalid-logloss:0.04183\n",
      "[267]\ttrain-logloss:0.00483\tvalid-logloss:0.04183\n",
      "[268]\ttrain-logloss:0.00480\tvalid-logloss:0.04185\n",
      "[269]\ttrain-logloss:0.00475\tvalid-logloss:0.04205\n",
      "[270]\ttrain-logloss:0.00471\tvalid-logloss:0.04190\n",
      "[271]\ttrain-logloss:0.00468\tvalid-logloss:0.04193\n",
      "[272]\ttrain-logloss:0.00464\tvalid-logloss:0.04166\n",
      "[273]\ttrain-logloss:0.00460\tvalid-logloss:0.04157\n",
      "[274]\ttrain-logloss:0.00456\tvalid-logloss:0.04148\n",
      "[275]\ttrain-logloss:0.00453\tvalid-logloss:0.04148\n",
      "[276]\ttrain-logloss:0.00449\tvalid-logloss:0.04162\n",
      "[277]\ttrain-logloss:0.00445\tvalid-logloss:0.04153\n",
      "[278]\ttrain-logloss:0.00441\tvalid-logloss:0.04153\n",
      "[279]\ttrain-logloss:0.00437\tvalid-logloss:0.04162\n",
      "[280]\ttrain-logloss:0.00434\tvalid-logloss:0.04149\n",
      "[281]\ttrain-logloss:0.00431\tvalid-logloss:0.04131\n",
      "[282]\ttrain-logloss:0.00427\tvalid-logloss:0.04134\n",
      "[283]\ttrain-logloss:0.00425\tvalid-logloss:0.04133\n",
      "[284]\ttrain-logloss:0.00422\tvalid-logloss:0.04134\n",
      "[285]\ttrain-logloss:0.00419\tvalid-logloss:0.04136\n",
      "[286]\ttrain-logloss:0.00416\tvalid-logloss:0.04143\n",
      "[287]\ttrain-logloss:0.00414\tvalid-logloss:0.04141\n",
      "[288]\ttrain-logloss:0.00411\tvalid-logloss:0.04138\n",
      "[289]\ttrain-logloss:0.00408\tvalid-logloss:0.04137\n",
      "[290]\ttrain-logloss:0.00405\tvalid-logloss:0.04129\n",
      "[291]\ttrain-logloss:0.00403\tvalid-logloss:0.04137\n",
      "[292]\ttrain-logloss:0.00399\tvalid-logloss:0.04147\n",
      "[293]\ttrain-logloss:0.00397\tvalid-logloss:0.04142\n",
      "[294]\ttrain-logloss:0.00394\tvalid-logloss:0.04152\n",
      "[295]\ttrain-logloss:0.00391\tvalid-logloss:0.04141\n",
      "[296]\ttrain-logloss:0.00389\tvalid-logloss:0.04124\n",
      "[297]\ttrain-logloss:0.00387\tvalid-logloss:0.04125\n",
      "[298]\ttrain-logloss:0.00384\tvalid-logloss:0.04134\n",
      "[299]\ttrain-logloss:0.00380\tvalid-logloss:0.04129\n",
      "[300]\ttrain-logloss:0.00378\tvalid-logloss:0.04115\n",
      "[301]\ttrain-logloss:0.00376\tvalid-logloss:0.04115\n",
      "[302]\ttrain-logloss:0.00373\tvalid-logloss:0.04107\n",
      "[303]\ttrain-logloss:0.00371\tvalid-logloss:0.04104\n",
      "[304]\ttrain-logloss:0.00368\tvalid-logloss:0.04091\n",
      "[305]\ttrain-logloss:0.00365\tvalid-logloss:0.04093\n",
      "[306]\ttrain-logloss:0.00363\tvalid-logloss:0.04118\n",
      "[307]\ttrain-logloss:0.00360\tvalid-logloss:0.04105\n",
      "[308]\ttrain-logloss:0.00357\tvalid-logloss:0.04113\n",
      "[309]\ttrain-logloss:0.00354\tvalid-logloss:0.04126\n",
      "[310]\ttrain-logloss:0.00351\tvalid-logloss:0.04126\n",
      "[311]\ttrain-logloss:0.00349\tvalid-logloss:0.04116\n",
      "[312]\ttrain-logloss:0.00347\tvalid-logloss:0.04118\n",
      "[313]\ttrain-logloss:0.00345\tvalid-logloss:0.04108\n",
      "[314]\ttrain-logloss:0.00342\tvalid-logloss:0.04118\n",
      "[315]\ttrain-logloss:0.00340\tvalid-logloss:0.04136\n",
      "[316]\ttrain-logloss:0.00338\tvalid-logloss:0.04128\n",
      "[317]\ttrain-logloss:0.00336\tvalid-logloss:0.04130\n",
      "[318]\ttrain-logloss:0.00333\tvalid-logloss:0.04155\n",
      "[319]\ttrain-logloss:0.00331\tvalid-logloss:0.04155\n",
      "[320]\ttrain-logloss:0.00329\tvalid-logloss:0.04147\n",
      "[321]\ttrain-logloss:0.00327\tvalid-logloss:0.04140\n",
      "[322]\ttrain-logloss:0.00325\tvalid-logloss:0.04148\n",
      "[323]\ttrain-logloss:0.00323\tvalid-logloss:0.04127\n",
      "[324]\ttrain-logloss:0.00322\tvalid-logloss:0.04130\n",
      "[325]\ttrain-logloss:0.00319\tvalid-logloss:0.04143\n",
      "[326]\ttrain-logloss:0.00318\tvalid-logloss:0.04140\n",
      "[327]\ttrain-logloss:0.00316\tvalid-logloss:0.04138\n"
     ]
    },
    {
     "name": "stdout",
     "output_type": "stream",
     "text": [
      "[328]\ttrain-logloss:0.00314\tvalid-logloss:0.04129\n",
      "[329]\ttrain-logloss:0.00312\tvalid-logloss:0.04135\n",
      "[330]\ttrain-logloss:0.00309\tvalid-logloss:0.04148\n",
      "[331]\ttrain-logloss:0.00308\tvalid-logloss:0.04145\n",
      "[332]\ttrain-logloss:0.00305\tvalid-logloss:0.04140\n",
      "[333]\ttrain-logloss:0.00304\tvalid-logloss:0.04126\n",
      "[334]\ttrain-logloss:0.00303\tvalid-logloss:0.04124\n",
      "[335]\ttrain-logloss:0.00301\tvalid-logloss:0.04128\n",
      "[336]\ttrain-logloss:0.00300\tvalid-logloss:0.04132\n",
      "[337]\ttrain-logloss:0.00297\tvalid-logloss:0.04151\n",
      "[338]\ttrain-logloss:0.00295\tvalid-logloss:0.04153\n",
      "[339]\ttrain-logloss:0.00294\tvalid-logloss:0.04140\n",
      "[340]\ttrain-logloss:0.00292\tvalid-logloss:0.04134\n",
      "[341]\ttrain-logloss:0.00290\tvalid-logloss:0.04133\n",
      "[342]\ttrain-logloss:0.00288\tvalid-logloss:0.04128\n",
      "[343]\ttrain-logloss:0.00286\tvalid-logloss:0.04127\n",
      "[344]\ttrain-logloss:0.00284\tvalid-logloss:0.04136\n",
      "[345]\ttrain-logloss:0.00283\tvalid-logloss:0.04134\n",
      "[346]\ttrain-logloss:0.00281\tvalid-logloss:0.04141\n",
      "[347]\ttrain-logloss:0.00280\tvalid-logloss:0.04136\n",
      "[348]\ttrain-logloss:0.00278\tvalid-logloss:0.04130\n",
      "[349]\ttrain-logloss:0.00276\tvalid-logloss:0.04137\n",
      "[350]\ttrain-logloss:0.00275\tvalid-logloss:0.04136\n",
      "[351]\ttrain-logloss:0.00274\tvalid-logloss:0.04133\n",
      "[352]\ttrain-logloss:0.00272\tvalid-logloss:0.04136\n",
      "[353]\ttrain-logloss:0.00271\tvalid-logloss:0.04136\n",
      "[354]\ttrain-logloss:0.00269\tvalid-logloss:0.04149\n",
      "[355]\ttrain-logloss:0.00267\tvalid-logloss:0.04139\n",
      "[356]\ttrain-logloss:0.00266\tvalid-logloss:0.04151\n",
      "[357]\ttrain-logloss:0.00265\tvalid-logloss:0.04153\n",
      "[358]\ttrain-logloss:0.00263\tvalid-logloss:0.04155\n",
      "[359]\ttrain-logloss:0.00262\tvalid-logloss:0.04159\n",
      "[360]\ttrain-logloss:0.00261\tvalid-logloss:0.04145\n",
      "[361]\ttrain-logloss:0.00260\tvalid-logloss:0.04149\n",
      "[362]\ttrain-logloss:0.00259\tvalid-logloss:0.04146\n",
      "[363]\ttrain-logloss:0.00258\tvalid-logloss:0.04143\n",
      "[364]\ttrain-logloss:0.00256\tvalid-logloss:0.04142\n",
      "[365]\ttrain-logloss:0.00255\tvalid-logloss:0.04144\n",
      "[366]\ttrain-logloss:0.00253\tvalid-logloss:0.04149\n",
      "[367]\ttrain-logloss:0.00252\tvalid-logloss:0.04147\n",
      "[368]\ttrain-logloss:0.00251\tvalid-logloss:0.04142\n",
      "[369]\ttrain-logloss:0.00249\tvalid-logloss:0.04144\n",
      "[370]\ttrain-logloss:0.00248\tvalid-logloss:0.04150\n",
      "[371]\ttrain-logloss:0.00247\tvalid-logloss:0.04150\n",
      "[372]\ttrain-logloss:0.00246\tvalid-logloss:0.04154\n",
      "[373]\ttrain-logloss:0.00245\tvalid-logloss:0.04154\n",
      "[374]\ttrain-logloss:0.00243\tvalid-logloss:0.04156\n",
      "[375]\ttrain-logloss:0.00243\tvalid-logloss:0.04152\n",
      "[376]\ttrain-logloss:0.00241\tvalid-logloss:0.04170\n",
      "[377]\ttrain-logloss:0.00240\tvalid-logloss:0.04173\n",
      "[378]\ttrain-logloss:0.00239\tvalid-logloss:0.04170\n",
      "[379]\ttrain-logloss:0.00238\tvalid-logloss:0.04171\n",
      "[380]\ttrain-logloss:0.00237\tvalid-logloss:0.04165\n",
      "[381]\ttrain-logloss:0.00236\tvalid-logloss:0.04170\n",
      "[382]\ttrain-logloss:0.00235\tvalid-logloss:0.04167\n",
      "[383]\ttrain-logloss:0.00234\tvalid-logloss:0.04174\n",
      "[384]\ttrain-logloss:0.00232\tvalid-logloss:0.04171\n",
      "[385]\ttrain-logloss:0.00231\tvalid-logloss:0.04172\n",
      "[386]\ttrain-logloss:0.00230\tvalid-logloss:0.04182\n",
      "[387]\ttrain-logloss:0.00229\tvalid-logloss:0.04180\n",
      "[388]\ttrain-logloss:0.00228\tvalid-logloss:0.04184\n",
      "[389]\ttrain-logloss:0.00227\tvalid-logloss:0.04189\n",
      "[390]\ttrain-logloss:0.00226\tvalid-logloss:0.04196\n",
      "[391]\ttrain-logloss:0.00225\tvalid-logloss:0.04209\n",
      "[392]\ttrain-logloss:0.00224\tvalid-logloss:0.04202\n",
      "[393]\ttrain-logloss:0.00223\tvalid-logloss:0.04219\n",
      "[394]\ttrain-logloss:0.00222\tvalid-logloss:0.04222\n",
      "[395]\ttrain-logloss:0.00221\tvalid-logloss:0.04222\n",
      "[396]\ttrain-logloss:0.00220\tvalid-logloss:0.04225\n",
      "[397]\ttrain-logloss:0.00220\tvalid-logloss:0.04225\n",
      "[398]\ttrain-logloss:0.00219\tvalid-logloss:0.04219\n",
      "[399]\ttrain-logloss:0.00218\tvalid-logloss:0.04208\n",
      "[400]\ttrain-logloss:0.00217\tvalid-logloss:0.04191\n",
      "[401]\ttrain-logloss:0.00216\tvalid-logloss:0.04195\n",
      "[402]\ttrain-logloss:0.00215\tvalid-logloss:0.04193\n",
      "[403]\ttrain-logloss:0.00214\tvalid-logloss:0.04197\n",
      "[404]\ttrain-logloss:0.00214\tvalid-logloss:0.04199\n",
      "Stopping. Best iteration:\n",
      "[304]\ttrain-logloss:0.00368\tvalid-logloss:0.04091\n",
      "\n"
     ]
    }
   ],
   "source": [
    "# Train with best hyperparameters\n",
    "param[0] = ('eta', best_eta)\n",
    "param[1] = ('max_depth', best_depth)\n",
    "\n",
    "evals_result = {}\n",
    "xgb_clf = xgb.train(param, dtrain, \n",
    "                    num_boost_round = 5000, \n",
    "                    evals = valid_list, \n",
    "                    early_stopping_rounds = 100, \n",
    "                    verbose_eval = True, \n",
    "                    evals_result=evals_result)"
   ]
  },
  {
   "cell_type": "code",
   "execution_count": 182,
   "metadata": {
    "ExecuteTime": {
     "end_time": "2021-03-02T22:00:29.080922Z",
     "start_time": "2021-03-02T22:00:28.935139Z"
    },
    "code_folding": [
     0
    ]
   },
   "outputs": [
    {
     "data": {
      "image/png": "[encoded data removed]",
      "text/plain": [
       "<Figure size 432x288 with 1 Axes>"
      ]
     },
     "metadata": {
      "needs_background": "light"
     },
     "output_type": "display_data"
    }
   ],
   "source": [
    "# Plot of train/valid loss vs iter\n",
    "fig, axes = plt.subplots(figsize=(6,4))\n",
    "axes.plot(evals_result['train']['logloss'], label=\"train\")\n",
    "axes.plot(evals_result['valid']['logloss'], label=\"valid\")\n",
    "axes.legend()\n",
    "axes.set_ylabel(\"Logloss\")\n",
    "axes.set_xlabel(\"iteration\")\n",
    "# axes.set_xticks(np.arange(0, len(evals_result['train']['logloss']), 1))\n",
    "plt.show()"
   ]
  },
  {
   "cell_type": "code",
   "execution_count": 183,
   "metadata": {
    "ExecuteTime": {
     "end_time": "2021-03-02T22:00:34.366000Z",
     "start_time": "2021-03-02T22:00:33.783509Z"
    },
    "code_folding": []
   },
   "outputs": [
    {
     "data": {
      "image/png": "[encoded data removed]",
      "text/plain": [
       "<Figure size 864x720 with 1 Axes>"
      ]
     },
     "metadata": {
      "needs_background": "light"
     },
     "output_type": "display_data"
    }
   ],
   "source": [
    "# Plot tree(s)\n",
    "fig, axes = plt.subplots(figsize=(12,10))\n",
    "plot_tree(xgb_clf, ax=axes, num_trees=26)\n",
    "plt.show()"
   ]
  },
  {
   "cell_type": "code",
   "execution_count": 184,
   "metadata": {
    "ExecuteTime": {
     "end_time": "2021-03-02T22:00:38.371836Z",
     "start_time": "2021-03-02T22:00:38.339749Z"
    },
    "code_folding": []
   },
   "outputs": [
    {
     "name": "stdout",
     "output_type": "stream",
     "text": [
      "model saved at: 'data_xgb_13LungCancer/xgb_model.json'\n",
      "best params saved at: 'data_xgb_13LungCancer/xgb_best_params.json'\n"
     ]
    }
   ],
   "source": [
    "# Save model and model's best params\n",
    "data_out = 'data_xgb_13LungCancer'\n",
    "xgb_clf.save_model(os.path.join(data_out, 'xgb_model.json'))\n",
    "print(\"model saved at: '{}'\".format(os.path.join(data_out, 'xgb_model.json')))\n",
    "\n",
    "best_params = {}\n",
    "best_params['best_eta'] = best_eta\n",
    "best_params['best_depth'] = int(best_depth)\n",
    "with open(os.path.join(data_out, 'xgb_best_params.json'), 'w') as f:\n",
    "    json.dump(best_params, f)\n",
    "print(\"best params saved at: '{}'\".format(os.path.join(data_out, 'xgb_best_params.json')))"
   ]
  },
  {
   "cell_type": "code",
   "execution_count": 197,
   "metadata": {
    "ExecuteTime": {
     "end_time": "2021-03-02T22:03:55.972304Z",
     "start_time": "2021-03-02T22:03:55.967532Z"
    },
    "code_folding": []
   },
   "outputs": [
    {
     "name": "stdout",
     "output_type": "stream",
     "text": [
      "feature map saved at: 'data_xgb_13LungCancer/xgb_model_fmap.txt'\n"
     ]
    }
   ],
   "source": [
    "# Save feature map\n",
    "def ceate_feature_map(features, data_out):\n",
    "    f = open(os.path.join(data_out, 'xgb_model_fmap.txt'), 'w')\n",
    "    i = 0\n",
    "    for feat in features:\n",
    "        f.write('{0}\\t{1}\\tq\\n'.format(i, feat))\n",
    "        i = i + 1\n",
    "    f.close()\n",
    "\n",
    "data_out = 'data_xgb_13LungCancer'\n",
    "ceate_feature_map(cols_all, data_out)\n",
    "print(\"feature map saved at: '{}'\".format(os.path.join(data_out, 'xgb_model_fmap.txt')))"
   ]
  },
  {
   "cell_type": "code",
   "execution_count": 198,
   "metadata": {
    "ExecuteTime": {
     "end_time": "2021-03-02T22:03:59.641547Z",
     "start_time": "2021-03-02T22:03:59.590301Z"
    },
    "code_folding": []
   },
   "outputs": [
    {
     "name": "stdout",
     "output_type": "stream",
     "text": [
      "model results saved at: 'data_xgb_13LungCancer/results_target_xgb.csv'\n"
     ]
    },
    {
     "data": {
      "text/html": [
       "<div>\n",
       "<style scoped>\n",
       "    .dataframe tbody tr th:only-of-type {\n",
       "        vertical-align: middle;\n",
       "    }\n",
       "\n",
       "    .dataframe tbody tr th {\n",
       "        vertical-align: top;\n",
       "    }\n",
       "\n",
       "    .dataframe thead th {\n",
       "        text-align: right;\n",
       "    }\n",
       "</style>\n",
       "<table border=\"1\" class=\"dataframe\">\n",
       "  <thead>\n",
       "    <tr style=\"text-align: right;\">\n",
       "      <th></th>\n",
       "      <th>accuracy</th>\n",
       "      <th>roc_auc</th>\n",
       "    </tr>\n",
       "  </thead>\n",
       "  <tbody>\n",
       "    <tr>\n",
       "      <th>train</th>\n",
       "      <td>1</td>\n",
       "      <td>1</td>\n",
       "    </tr>\n",
       "    <tr>\n",
       "      <th>valid</th>\n",
       "      <td>0.982644</td>\n",
       "      <td>0.98182</td>\n",
       "    </tr>\n",
       "    <tr>\n",
       "      <th>test</th>\n",
       "      <td>0.981308</td>\n",
       "      <td>0.983406</td>\n",
       "    </tr>\n",
       "  </tbody>\n",
       "</table>\n",
       "</div>"
      ],
      "text/plain": [
       "       accuracy   roc_auc\n",
       "train         1         1\n",
       "valid  0.982644   0.98182\n",
       "test   0.981308  0.983406"
      ]
     },
     "execution_count": 198,
     "metadata": {},
     "output_type": "execute_result"
    }
   ],
   "source": [
    "# Find MSE, R2, Accuracy, etc...\n",
    "data_out = 'data_xgb_13LungCancer'\n",
    "model = xgb.Booster(model_file=os.path.join(data_out, 'xgb_model.json'))\n",
    "df_results = pd.DataFrame(index=['train', 'valid', 'test'], \n",
    "                           columns=['accuracy', 'roc_auc'])\n",
    "\n",
    "ypred = model.predict(dtrain)\n",
    "ypred = ypred.round().astype(int)\n",
    "df_results.loc['train', 'accuracy'] = accuracy_score(ytrain, ypred)\n",
    "df_results.loc['train', 'roc_auc']  = roc_auc_score(ytrain, ypred)\n",
    "\n",
    "ypred = model.predict(dvalid)\n",
    "ypred = ypred.round().astype(int)\n",
    "df_results.loc['valid', 'accuracy'] = accuracy_score(yvalid, ypred)\n",
    "df_results.loc['valid', 'roc_auc']  = roc_auc_score(yvalid, ypred)\n",
    "\n",
    "ypred = model.predict(dtest)\n",
    "ypred = ypred.round().astype(int)\n",
    "df_results.loc['test', 'accuracy'] = accuracy_score(ytest, ypred)\n",
    "df_results.loc['test', 'roc_auc']  = roc_auc_score(ytest, ypred)\n",
    "\n",
    "# Save data\n",
    "df_results.to_csv(os.path.join(data_out, 'results_target_xgb.csv'), index=True)\n",
    "print(\"model results saved at: '{}'\".format(os.path.join(data_out, 'results_target_xgb.csv')))\n",
    "df_results.head()"
   ]
  },
  {
   "cell_type": "code",
   "execution_count": 201,
   "metadata": {
    "ExecuteTime": {
     "end_time": "2021-03-02T22:08:27.642471Z",
     "start_time": "2021-03-02T22:06:59.906606Z"
    },
    "code_folding": [
     0
    ]
   },
   "outputs": [
    {
     "data": {
      "application/vnd.jupyter.widget-view+json": {
       "model_id": "f19e5e83b120466ebf6c17a706a7e1ba",
       "version_major": 2,
       "version_minor": 0
      },
      "text/plain": [
       "Partitions loop:   0%|          | 0/100 [00:00<?, ?it/s]"
      ]
     },
     "metadata": {},
     "output_type": "display_data"
    }
   ],
   "source": [
    "# Find Accuracy +/- STD\n",
    "data_in  = 'data_xgb_13LungCancer'\n",
    "data_out = 'data_xgb_13LungCancer/partitions'\n",
    "df_results = pd.DataFrame(columns=['train_acc', 'valid_acc', 'test_acc', 'train_roc', 'valid_roc', 'test_roc'])\n",
    "\n",
    "with open(os.path.join(data_in, 'xgb_best_params.json')) as f:\n",
    "    best_params = json.load(f)\n",
    "param = [('eta', best_params['best_eta']), \n",
    "         ('max_depth', best_params['best_depth']), \n",
    "         ('objective', 'binary:logistic'), \n",
    "         ('nthread', 16),\n",
    "         ('eval_metric', 'logloss')\n",
    "]\n",
    "\n",
    "partitions = 100\n",
    "iterator = tqdm.notebook.tqdm(range(1, partitions + 1), desc='Partitions loop')\n",
    "X = pd.read_csv('dataset_13LungCancer/X.csv', header=None)\n",
    "y = pd.read_csv('dataset_13LungCancer/y.csv', header=None)\n",
    "for n in iterator:\n",
    "    split_data(X, y, seed1=seed1[n], seed2=seed2[n])\n",
    "    \n",
    "# .build DMatrices\n",
    "    dtrain = xgb.DMatrix(data=xtrain, label=ytrain, nthread=16)\n",
    "    dvalid = xgb.DMatrix(data=xvalid, label=yvalid, nthread=16)\n",
    "    dtest  = xgb.DMatrix(data=xtest,  label=ytest,  nthread=16)\n",
    "    valid_list = [(dtrain, 'train'), (dvalid, 'valid')]\n",
    "\n",
    "# .train model\n",
    "    evals_result = {}\n",
    "    model = xgb.train(param, dtrain, \n",
    "                      num_boost_round = 5000, \n",
    "                      evals = valid_list, \n",
    "                      early_stopping_rounds = 20, \n",
    "                      verbose_eval = False, \n",
    "                      evals_result=evals_result)\n",
    "    \n",
    "# .compute/save accuracy\n",
    "    ypred = model.predict(dtrain)\n",
    "    ypred = ypred.round().astype(int)\n",
    "    df_results.loc[n, 'train_acc'] = accuracy_score(ytrain, ypred)\n",
    "    df_results.loc[n, 'train_roc']  = roc_auc_score(ytrain, ypred)\n",
    "\n",
    "    ypred = model.predict(dvalid)\n",
    "    ypred = ypred.round().astype(int)\n",
    "    df_results.loc[n, 'valid_acc'] = accuracy_score(yvalid, ypred)\n",
    "    df_results.loc[n, 'valid_roc']  = roc_auc_score(yvalid, ypred)\n",
    "\n",
    "    ypred = model.predict(dtest)\n",
    "    ypred = ypred.round().astype(int)\n",
    "    df_results.loc[n, 'test_acc'] = accuracy_score(ytest, ypred)\n",
    "    df_results.loc[n, 'test_roc']  = roc_auc_score(ytest, ypred)\n",
    "\n",
    "    model.save_model(os.path.join(data_out, 'xgb_model_'+str(n)+'.json'))\n",
    "    df_results.to_csv(os.path.join(data_out, 'accuracy_xgb.csv'), index=None)"
   ]
  },
  {
   "cell_type": "code",
   "execution_count": 202,
   "metadata": {
    "ExecuteTime": {
     "end_time": "2021-03-02T22:09:10.394394Z",
     "start_time": "2021-03-02T22:09:10.386026Z"
    },
    "code_folding": []
   },
   "outputs": [
    {
     "name": "stdout",
     "output_type": "stream",
     "text": [
      "Train accuracy = 1.000 +/- 0.000\n",
      "Valid accuracy = 0.981 +/- 0.006\n",
      "Test accuracy = 0.981 +/- 0.005\n"
     ]
    }
   ],
   "source": [
    "# Display results\n",
    "data_out = 'data_xgb_13LungCancer'\n",
    "accuracy_xgb = pd.read_csv(os.path.join(data_out, 'accuracy13_xgb.csv'))\n",
    "print(\"Train accuracy = {:.3f} +/- {:.3f}\".format(accuracy_xgb['train_acc'].mean(), \n",
    "                                                  accuracy_xgb['train_acc'].std()))\n",
    "print(\"Valid accuracy = {:.3f} +/- {:.3f}\".format(accuracy_xgb['valid_acc'].mean(), \n",
    "                                                  accuracy_xgb['valid_acc'].std()))\n",
    "print(\"Test accuracy = {:.3f} +/- {:.3f}\".format(accuracy_xgb['test_acc'].mean(), \n",
    "                                                 accuracy_xgb['test_acc'].std()))"
   ]
  },
  {
   "cell_type": "markdown",
   "metadata": {},
   "source": [
    "* ### Lockdown"
   ]
  },
  {
   "cell_type": "code",
   "execution_count": 23,
   "metadata": {
    "ExecuteTime": {
     "end_time": "2021-03-03T08:30:53.753175Z",
     "start_time": "2021-03-03T08:30:53.749994Z"
    },
    "code_folding": [
     0
    ]
   },
   "outputs": [],
   "source": [
    "# Normalize Data Set\n",
    "def normalize_data():\n",
    "    \"\"\"\n",
    "    \"\"\"\n",
    "    global xtrain, xvalid, xtest\n",
    "    scaler = StandardScaler()\n",
    "    scaler.fit(xtrain.numpy())\n",
    "    xtrain = torch.from_numpy(scaler.transform(xtrain.numpy()))\n",
    "    xvalid = torch.from_numpy(scaler.transform(xvalid.numpy()))\n",
    "    xtest = torch.from_numpy(scaler.transform(xtest.numpy()))"
   ]
  },
  {
   "cell_type": "code",
   "execution_count": 24,
   "metadata": {
    "ExecuteTime": {
     "end_time": "2021-03-03T08:30:55.587900Z",
     "start_time": "2021-03-03T08:30:55.583387Z"
    },
    "code_folding": [
     0
    ]
   },
   "outputs": [],
   "source": [
    "# Save output data\n",
    "def save_output(data_out, f1, f2, f3, new_folder=False):\n",
    "    \"\"\"\n",
    "    \"\"\"\n",
    "# Save relevant data\n",
    "    if new_folder == True:\n",
    "        dirs = os.listdir()\n",
    "        if data_out in dirs:\n",
    "            print(\"'{}' directory deleted.\".format(data_out))\n",
    "            shutil.rmtree(data_out)\n",
    "            print(\"'{}' directory created.\\n\".format(data_out))\n",
    "            os.mkdir(data_out)\n",
    "        else:\n",
    "            print(\"'{}' directory created.\\n\".format(data_out))\n",
    "            os.mkdir(data_out)\n",
    "# \n",
    "    train_loss.to_csv(os.path.join(data_out, f1), index=False)\n",
    "    valid_loss.to_csv(os.path.join(data_out, f2), index=False)\n",
    "    print(\"'{}' saved.\".format(f1))\n",
    "    print(\"'{}' saved.\".format(f2))\n",
    "\n",
    "    for m in f3:\n",
    "        shutil.move(m, os.path.join(data_out, m))\n",
    "        print(\"'{}' saved.\".format(m))"
   ]
  },
  {
   "cell_type": "markdown",
   "metadata": {},
   "source": [
    "* #### l1=5, l2=2; lockdown=l1"
   ]
  },
  {
   "cell_type": "code",
   "execution_count": 25,
   "metadata": {
    "ExecuteTime": {
     "end_time": "2021-03-03T08:30:59.680760Z",
     "start_time": "2021-03-03T08:30:59.678330Z"
    },
    "code_folding": [
     0
    ]
   },
   "outputs": [],
   "source": [
    "# Set layers where lockdown is to be applied\n",
    "def get_lockdown_layers(model):\n",
    "    layers = [model.classifier[0]]\n",
    "    return layers"
   ]
  },
  {
   "cell_type": "code",
   "execution_count": 26,
   "metadata": {
    "ExecuteTime": {
     "end_time": "2021-03-03T08:31:02.258364Z",
     "start_time": "2021-03-03T08:31:02.254696Z"
    },
    "code_folding": [
     0
    ]
   },
   "outputs": [],
   "source": [
    "#  NN architecture with its corresponding forward method\n",
    "class MyNet(nn.Module):\n",
    "    \n",
    "# .Network architecture\n",
    "    def __init__(self, features, layer_sizes):\n",
    "        super(MyNet, self).__init__()\n",
    "        \n",
    "        self.classifier = nn.Sequential(\n",
    "            nn.Linear(features, layer_sizes[0], bias=True),\n",
    "            nn.ReLU(inplace=True),\n",
    "            nn.Linear(layer_sizes[0], layer_sizes[1], bias=True)\n",
    "        )\n",
    "\n",
    "# .Forward function\n",
    "    def forward(self, x):\n",
    "        x = self.classifier(x)\n",
    "        return x"
   ]
  },
  {
   "cell_type": "code",
   "execution_count": 119,
   "metadata": {
    "ExecuteTime": {
     "end_time": "2021-03-04T17:16:10.710439Z",
     "start_time": "2021-03-04T17:16:10.706242Z"
    },
    "code_folding": []
   },
   "outputs": [],
   "source": [
    "# Grid search space\n",
    "grid_lrs = np.geomspace(5e-4, 1e-1, num=10)\n",
    "df_grid_loss = pd.DataFrame(columns = ['lr', 'valid_loss', 'valid_acc'], \n",
    "                            index=range(len(grid_lrs)))"
   ]
  },
  {
   "cell_type": "code",
   "execution_count": 120,
   "metadata": {
    "ExecuteTime": {
     "end_time": "2021-03-04T23:39:49.463439Z",
     "start_time": "2021-03-04T17:17:06.851339Z"
    },
    "code_folding": [],
    "scrolled": true
   },
   "outputs": [
    {
     "name": "stdout",
     "output_type": "stream",
     "text": [
      "- train minibatches = 1\n",
      "- valid minibatches = 1\n",
      "- test minibatches = 1\n"
     ]
    },
    {
     "data": {
      "application/vnd.jupyter.widget-view+json": {
       "model_id": "45fdb65e6447490ba6bf46828b4c2806",
       "version_major": 2,
       "version_minor": 0
      },
      "text/plain": [
       "lr-grid loop:   0%|          | 0/10 [00:00<?, ?it/s]"
      ]
     },
     "metadata": {},
     "output_type": "display_data"
    },
    {
     "data": {
      "application/vnd.jupyter.widget-view+json": {
       "model_id": "344592ebc4c547beb9530805df9d6821",
       "version_major": 2,
       "version_minor": 0
      },
      "text/plain": [
       "Epochs loop:   0%|          | 0/50000 [00:00<?, ?it/s]"
      ]
     },
     "metadata": {},
     "output_type": "display_data"
    },
    {
     "name": "stdout",
     "output_type": "stream",
     "text": [
      "Summary:\n",
      "-learning rate = 0.00050\n",
      "-Model saved after iteration 50000.\n",
      "-Train.  Loss=0.0374694\n",
      "-Valid.  Loss=0.0721759\n",
      "\n",
      "Best train loss = 0.0374694\n",
      "\n",
      "'train_loss05_1.csv' saved.\n",
      "'valid_loss05_1.csv' saved.\n",
      "'model13_forward05_1_last.pth' saved.\n",
      "'model13_forward05_1_best.pth' saved.\n"
     ]
    },
    {
     "data": {
      "application/vnd.jupyter.widget-view+json": {
       "model_id": "99d6269a63604001ab5662f2a304d92e",
       "version_major": 2,
       "version_minor": 0
      },
      "text/plain": [
       "Epochs loop:   0%|          | 0/50000 [00:00<?, ?it/s]"
      ]
     },
     "metadata": {},
     "output_type": "display_data"
    },
    {
     "name": "stdout",
     "output_type": "stream",
     "text": [
      "Summary:\n",
      "-learning rate = 0.00090\n",
      "-Model saved after iteration 50000.\n",
      "-Train.  Loss=0.0177359\n",
      "-Valid.  Loss=0.0673790\n",
      "\n",
      "Best train loss = 0.0177359\n",
      "\n",
      "'train_loss05_2.csv' saved.\n",
      "'valid_loss05_2.csv' saved.\n",
      "'model13_forward05_2_last.pth' saved.\n",
      "'model13_forward05_2_best.pth' saved.\n"
     ]
    },
    {
     "data": {
      "application/vnd.jupyter.widget-view+json": {
       "model_id": "716a1ff1b528443ab24b1fd13d46c220",
       "version_major": 2,
       "version_minor": 0
      },
      "text/plain": [
       "Epochs loop:   0%|          | 0/50000 [00:00<?, ?it/s]"
      ]
     },
     "metadata": {},
     "output_type": "display_data"
    },
    {
     "name": "stdout",
     "output_type": "stream",
     "text": [
      "Summary:\n",
      "-learning rate = 0.00162\n",
      "-Model saved after iteration 31560.\n",
      "-Train.  Loss=0.0150918\n",
      "-Valid.  Loss=0.0672074\n",
      "\n",
      "Best train loss = 0.0089321\n",
      "\n",
      "'train_loss05_3.csv' saved.\n",
      "'valid_loss05_3.csv' saved.\n",
      "'model13_forward05_3_last.pth' saved.\n",
      "'model13_forward05_3_best.pth' saved.\n"
     ]
    },
    {
     "data": {
      "application/vnd.jupyter.widget-view+json": {
       "model_id": "5c9dd0ade0cd49319ca323de96b00bdf",
       "version_major": 2,
       "version_minor": 0
      },
      "text/plain": [
       "Epochs loop:   0%|          | 0/50000 [00:00<?, ?it/s]"
      ]
     },
     "metadata": {},
     "output_type": "display_data"
    },
    {
     "name": "stdout",
     "output_type": "stream",
     "text": [
      "Summary:\n",
      "-learning rate = 0.00292\n",
      "-Model saved after iteration 17516.\n",
      "-Train.  Loss=0.0150948\n",
      "-Valid.  Loss=0.0672053\n",
      "\n",
      "Best train loss = 0.0051252\n",
      "\n",
      "'train_loss05_4.csv' saved.\n",
      "'valid_loss05_4.csv' saved.\n",
      "'model13_forward05_4_last.pth' saved.\n",
      "'model13_forward05_4_best.pth' saved.\n"
     ]
    },
    {
     "data": {
      "application/vnd.jupyter.widget-view+json": {
       "model_id": "6a87a6c556564258b22d6db64672b663",
       "version_major": 2,
       "version_minor": 0
      },
      "text/plain": [
       "Epochs loop:   0%|          | 0/50000 [00:00<?, ?it/s]"
      ]
     },
     "metadata": {},
     "output_type": "display_data"
    },
    {
     "name": "stdout",
     "output_type": "stream",
     "text": [
      "Summary:\n",
      "-learning rate = 0.00527\n",
      "-Model saved after iteration 9742.\n",
      "-Train.  Loss=0.0150590\n",
      "-Valid.  Loss=0.0671993\n",
      "\n",
      "Best train loss = 0.0032547\n",
      "\n",
      "'train_loss05_5.csv' saved.\n",
      "'valid_loss05_5.csv' saved.\n",
      "'model13_forward05_5_last.pth' saved.\n",
      "'model13_forward05_5_best.pth' saved.\n"
     ]
    },
    {
     "data": {
      "application/vnd.jupyter.widget-view+json": {
       "model_id": "7b5e56ab887d451facd7e80230a66272",
       "version_major": 2,
       "version_minor": 0
      },
      "text/plain": [
       "Epochs loop:   0%|          | 0/50000 [00:00<?, ?it/s]"
      ]
     },
     "metadata": {},
     "output_type": "display_data"
    },
    {
     "name": "stdout",
     "output_type": "stream",
     "text": [
      "Summary:\n",
      "-learning rate = 0.00949\n",
      "-Model saved after iteration 5409.\n",
      "-Train.  Loss=0.0150580\n",
      "-Valid.  Loss=0.0671953\n",
      "\n",
      "Best train loss = 0.0026226\n",
      "\n",
      "'train_loss05_6.csv' saved.\n",
      "'valid_loss05_6.csv' saved.\n",
      "'model13_forward05_6_last.pth' saved.\n",
      "'model13_forward05_6_best.pth' saved.\n"
     ]
    },
    {
     "data": {
      "application/vnd.jupyter.widget-view+json": {
       "model_id": "992f518e65af498b97cd8011d2e03801",
       "version_major": 2,
       "version_minor": 0
      },
      "text/plain": [
       "Epochs loop:   0%|          | 0/50000 [00:00<?, ?it/s]"
      ]
     },
     "metadata": {},
     "output_type": "display_data"
    },
    {
     "name": "stdout",
     "output_type": "stream",
     "text": [
      "Summary:\n",
      "-learning rate = 0.01710\n",
      "-Model saved after iteration 3004.\n",
      "-Train.  Loss=0.0150563\n",
      "-Valid.  Loss=0.0671888\n",
      "\n",
      "Best train loss = 0.0023577\n",
      "\n",
      "'train_loss05_7.csv' saved.\n",
      "'valid_loss05_7.csv' saved.\n",
      "'model13_forward05_7_last.pth' saved.\n",
      "'model13_forward05_7_best.pth' saved.\n"
     ]
    },
    {
     "data": {
      "application/vnd.jupyter.widget-view+json": {
       "model_id": "16d0b57dab66417eae67225884cccb32",
       "version_major": 2,
       "version_minor": 0
      },
      "text/plain": [
       "Epochs loop:   0%|          | 0/50000 [00:00<?, ?it/s]"
      ]
     },
     "metadata": {},
     "output_type": "display_data"
    },
    {
     "name": "stdout",
     "output_type": "stream",
     "text": [
      "Summary:\n",
      "-learning rate = 0.03081\n",
      "-Model saved after iteration 1671.\n",
      "-Train.  Loss=0.0150350\n",
      "-Valid.  Loss=0.0671765\n",
      "\n",
      "Best train loss = 0.0022367\n",
      "\n",
      "'train_loss05_8.csv' saved.\n",
      "'valid_loss05_8.csv' saved.\n",
      "'model13_forward05_8_last.pth' saved.\n",
      "'model13_forward05_8_best.pth' saved.\n"
     ]
    },
    {
     "data": {
      "application/vnd.jupyter.widget-view+json": {
       "model_id": "f071f2d0573c46a9a772f5ab8944d566",
       "version_major": 2,
       "version_minor": 0
      },
      "text/plain": [
       "Epochs loop:   0%|          | 0/50000 [00:00<?, ?it/s]"
      ]
     },
     "metadata": {},
     "output_type": "display_data"
    },
    {
     "name": "stdout",
     "output_type": "stream",
     "text": [
      "Summary:\n",
      "-learning rate = 0.05550\n",
      "-Model saved after iteration 916.\n",
      "-Train.  Loss=0.0153061\n",
      "-Valid.  Loss=0.0671560\n",
      "\n",
      "Best train loss = 0.0021783\n",
      "\n",
      "'train_loss05_9.csv' saved.\n",
      "'valid_loss05_9.csv' saved.\n",
      "'model13_forward05_9_last.pth' saved.\n",
      "'model13_forward05_9_best.pth' saved.\n"
     ]
    },
    {
     "data": {
      "application/vnd.jupyter.widget-view+json": {
       "model_id": "af39fc51d8614a99acd4e6c721ec6bc5",
       "version_major": 2,
       "version_minor": 0
      },
      "text/plain": [
       "Epochs loop:   0%|          | 0/50000 [00:00<?, ?it/s]"
      ]
     },
     "metadata": {},
     "output_type": "display_data"
    },
    {
     "name": "stdout",
     "output_type": "stream",
     "text": [
      "Summary:\n",
      "-learning rate = 0.10000\n",
      "-Model saved after iteration 512.\n",
      "-Train.  Loss=0.0152548\n",
      "-Valid.  Loss=0.0670715\n",
      "\n",
      "Best train loss = 0.0010663\n",
      "\n",
      "'train_loss05_10.csv' saved.\n",
      "'valid_loss05_10.csv' saved.\n",
      "'model13_forward05_10_last.pth' saved.\n",
      "'model13_forward05_10_best.pth' saved.\n"
     ]
    }
   ],
   "source": [
    "# Perform grid search (unconstrained)\n",
    "layer_sizes = [5, 2]\n",
    "epochs = 50000\n",
    "data_in = 'dataset_13LungCancer'\n",
    "data_out = \"data_unconstrained_13LungCancer/lrs\"\n",
    "lock_flag = False\n",
    "\n",
    "# Read data\n",
    "load_data(data_in)\n",
    "\n",
    "# Normalize data\n",
    "normalize_data()\n",
    "\n",
    "# Create DataLoaders\n",
    "make_DataLoaders()\n",
    "features = xtrain.size(1)\n",
    "\n",
    "# Train model\n",
    "iterator = tqdm.notebook.tqdm(range(1, len(grid_lrs) + 1), desc='lr-grid loop')\n",
    "for n in iterator:\n",
    "    irow = n-1\n",
    "    fname = 'model13_forward05_'+str(n)\n",
    "    train_loss, valid_loss = train_model(\n",
    "                             grid_lrs[irow], \n",
    "                             features, \n",
    "                             layer_sizes,\n",
    "                             lock_flag = lock_flag,\n",
    "                             epochs=epochs,\n",
    "                             early_stop=epochs, \n",
    "                             fname=fname)\n",
    "    print('\\nBest train loss = {:.7f}\\n'.format(train_loss['loss'].min()))\n",
    "\n",
    "# .save relevant data\n",
    "    f3 = [fname+'_last.pth', fname+'_best.pth']\n",
    "    save_output(data_out, \n",
    "                'train_loss05_'+str(n)+'.csv', \n",
    "                'valid_loss05_'+str(n)+'.csv', f3)\n",
    "    \n",
    "# .find MSE, R2, etc...\n",
    "    mm = MyNet(features, layer_sizes)\n",
    "    mm.load_state_dict(torch.load(os.path.join(data_out, fname+'_best.pth')))\n",
    "    mm = mm.to(device)\n",
    "    mm.eval()\n",
    "\n",
    "# .save grid search results\n",
    "    ypred = mm(xvalid)\n",
    "    loss = loss_type(ypred, yvalid.view(-1))\n",
    "    accu = dataset_accuracy(valid_dataloader, mm, device)\n",
    "    df_grid_loss.iloc[irow,:] = [grid_lrs[irow], loss.detach().item(), accu]\n",
    "    df_grid_loss.to_csv(os.path.join(data_out, 'df_grid_forward05.csv'), index=None)"
   ]
  },
  {
   "cell_type": "code",
   "execution_count": 122,
   "metadata": {
    "ExecuteTime": {
     "end_time": "2021-03-05T07:03:43.313616Z",
     "start_time": "2021-03-05T07:03:43.208898Z"
    },
    "code_folding": []
   },
   "outputs": [
    {
     "data": {
      "image/png": "[encoded data removed]",
      "text/plain": [
       "<Figure size 720x432 with 1 Axes>"
      ]
     },
     "metadata": {
      "needs_background": "light"
     },
     "output_type": "display_data"
    }
   ],
   "source": [
    "# Plot Loss vs point in grid search\n",
    "data_out = \"data_unconstrained_13LungCancer/lrs\"\n",
    "df_grid_loss = pd.read_csv(os.path.join(data_out, 'df_grid_forward05.csv'))\n",
    "fig, axes = plt.subplots(figsize=(10,6))\n",
    "axes.scatter(np.log10(df_grid_loss.lr), df_grid_loss['valid_loss'])\n",
    "axes.plot(np.log10(df_grid_loss.lr), df_grid_loss['valid_loss'], label='loss')\n",
    "# axes.scatter(np.log10(df_grid_loss.lr), df_grid_loss['valid_r2'])\n",
    "# axes.plot(np.log10(df_grid_loss.lr), df_grid_loss['valid_r2'], label='r2')\n",
    "axes.set_xlabel(\"log10(lr)\")\n",
    "axes.set_ylabel(\"Validation metric\")\n",
    "axes.legend()\n",
    "plt.show()"
   ]
  },
  {
   "cell_type": "code",
   "execution_count": 123,
   "metadata": {
    "ExecuteTime": {
     "end_time": "2021-03-05T07:04:19.953434Z",
     "start_time": "2021-03-05T07:04:19.933958Z"
    },
    "code_folding": []
   },
   "outputs": [
    {
     "name": "stdout",
     "output_type": "stream",
     "text": [
      "Best parameters (10):\n",
      "- Best lr = 0.10000\n",
      "- Best valid loss = 0.06707156449556351\n"
     ]
    },
    {
     "data": {
      "text/plain": [
       "'data_unconstrained_13LungCancer/valid_loss05.csv'"
      ]
     },
     "execution_count": 123,
     "metadata": {},
     "output_type": "execute_result"
    }
   ],
   "source": [
    "# Display grid search results\n",
    "data_out = \"data_unconstrained_13LungCancer/lrs\"\n",
    "df_grid_loss = pd.read_csv(os.path.join(data_out, 'df_grid_forward05.csv'))\n",
    "\n",
    "idx = df_grid_loss.valid_loss.idxmin()\n",
    "best_lr_fward = df_grid_loss.iloc[idx, 0]\n",
    "best_mse      = df_grid_loss.iloc[idx, 1]\n",
    "print(\"Best parameters ({}):\".format(idx+1))\n",
    "print(\"- Best lr = {:.5f}\".format(best_lr_fward))\n",
    "print(\"- Best valid loss = {}\".format(best_mse))\n",
    "\n",
    "# Copy best model to main directory\n",
    "shutil.copy(\"data_unconstrained_13LungCancer/lrs/model13_forward05_\"+str(idx+1)+\"_best.pth\", \n",
    "            \"data_unconstrained_13LungCancer/model13_forward05_best.pth\")\n",
    "shutil.copy(\"data_unconstrained_13LungCancer/lrs/model13_forward05_\"+str(idx+1)+\"_last.pth\", \n",
    "            \"data_unconstrained_13LungCancer/model13_forward05_last.pth\")\n",
    "\n",
    "shutil.copy(\"data_unconstrained_13LungCancer/lrs/train_loss05_\"+str(idx+1)+\".csv\", \n",
    "            \"data_unconstrained_13LungCancer/train_loss05.csv\")\n",
    "shutil.copy(\"data_unconstrained_13LungCancer/lrs/valid_loss05_\"+str(idx+1)+\".csv\", \n",
    "            \"data_unconstrained_13LungCancer/valid_loss05.csv\")"
   ]
  },
  {
   "cell_type": "code",
   "execution_count": 126,
   "metadata": {
    "ExecuteTime": {
     "end_time": "2021-03-05T07:07:36.333399Z",
     "start_time": "2021-03-05T07:07:36.330145Z"
    },
    "code_folding": []
   },
   "outputs": [],
   "source": [
    "# Grid search space\n",
    "grid_lrs = np.geomspace(5e-4, 1e-1, num=10)\n",
    "df_grid_loss = pd.DataFrame(columns = ['lr', 'valid_loss', 'valid_acc'], \n",
    "                            index=range(len(grid_lrs)))"
   ]
  },
  {
   "cell_type": "code",
   "execution_count": 127,
   "metadata": {
    "ExecuteTime": {
     "end_time": "2021-03-05T08:27:19.314207Z",
     "start_time": "2021-03-05T07:08:36.342558Z"
    },
    "code_folding": [],
    "scrolled": true
   },
   "outputs": [
    {
     "name": "stdout",
     "output_type": "stream",
     "text": [
      "- train minibatches = 1\n",
      "- valid minibatches = 1\n",
      "- test minibatches = 1\n"
     ]
    },
    {
     "data": {
      "application/vnd.jupyter.widget-view+json": {
       "model_id": "23cc48614b404291b90c2b278b323064",
       "version_major": 2,
       "version_minor": 0
      },
      "text/plain": [
       "lr-grid loop:   0%|          | 0/10 [00:00<?, ?it/s]"
      ]
     },
     "metadata": {},
     "output_type": "display_data"
    },
    {
     "data": {
      "application/vnd.jupyter.widget-view+json": {
       "model_id": "f77c1a3af46845599a1cc836e8097a3b",
       "version_major": 2,
       "version_minor": 0
      },
      "text/plain": [
       "Epochs loop:   0%|          | 0/10000 [00:00<?, ?it/s]"
      ]
     },
     "metadata": {},
     "output_type": "display_data"
    },
    {
     "name": "stdout",
     "output_type": "stream",
     "text": [
      "Summary:\n",
      "-learning rate = 0.00050\n",
      "-Model saved after iteration 5416.\n",
      "-Train.  Loss=0.0248306\n",
      "-Valid.  Loss=0.0536819\n",
      "\n",
      "Best train loss = 0.0182633\n",
      "\n",
      "'train_loss05_1.csv' saved.\n",
      "'valid_loss05_1.csv' saved.\n",
      "'model13_backward05_1_best.pth' saved.\n"
     ]
    },
    {
     "data": {
      "application/vnd.jupyter.widget-view+json": {
       "model_id": "0f2bb4906cda403f820918ed809fa84b",
       "version_major": 2,
       "version_minor": 0
      },
      "text/plain": [
       "Epochs loop:   0%|          | 0/10000 [00:00<?, ?it/s]"
      ]
     },
     "metadata": {},
     "output_type": "display_data"
    },
    {
     "name": "stdout",
     "output_type": "stream",
     "text": [
      "Summary:\n",
      "-learning rate = 0.00090\n",
      "-Model saved after iteration 6660.\n",
      "-Train.  Loss=0.0196311\n",
      "-Valid.  Loss=0.0486038\n",
      "\n",
      "Best train loss = 0.0073197\n",
      "\n",
      "'train_loss05_2.csv' saved.\n",
      "'valid_loss05_2.csv' saved.\n",
      "'model13_backward05_2_best.pth' saved.\n"
     ]
    },
    {
     "data": {
      "application/vnd.jupyter.widget-view+json": {
       "model_id": "9d05df8d64c24f16a8e86322481f9890",
       "version_major": 2,
       "version_minor": 0
      },
      "text/plain": [
       "Epochs loop:   0%|          | 0/10000 [00:00<?, ?it/s]"
      ]
     },
     "metadata": {},
     "output_type": "display_data"
    },
    {
     "name": "stdout",
     "output_type": "stream",
     "text": [
      "Summary:\n",
      "-learning rate = 0.00162\n",
      "-Model saved after iteration 7144.\n",
      "-Train.  Loss=0.0152456\n",
      "-Valid.  Loss=0.0461635\n",
      "\n",
      "Best train loss = 0.0034572\n",
      "\n",
      "'train_loss05_3.csv' saved.\n",
      "'valid_loss05_3.csv' saved.\n",
      "'model13_backward05_3_best.pth' saved.\n"
     ]
    },
    {
     "data": {
      "application/vnd.jupyter.widget-view+json": {
       "model_id": "ab6d0658402743bebce63c4d0fb05e0f",
       "version_major": 2,
       "version_minor": 0
      },
      "text/plain": [
       "Epochs loop:   0%|          | 0/10000 [00:00<?, ?it/s]"
      ]
     },
     "metadata": {},
     "output_type": "display_data"
    },
    {
     "name": "stdout",
     "output_type": "stream",
     "text": [
      "Summary:\n",
      "-learning rate = 0.00292\n",
      "-Model saved after iteration 7427.\n",
      "-Train.  Loss=0.0120842\n",
      "-Valid.  Loss=0.0447339\n",
      "\n",
      "Best train loss = 0.0023240\n",
      "\n",
      "'train_loss05_4.csv' saved.\n",
      "'valid_loss05_4.csv' saved.\n",
      "'model13_backward05_4_best.pth' saved.\n"
     ]
    },
    {
     "data": {
      "application/vnd.jupyter.widget-view+json": {
       "model_id": "38745ff47b6940a6b02c4865b096b675",
       "version_major": 2,
       "version_minor": 0
      },
      "text/plain": [
       "Epochs loop:   0%|          | 0/10000 [00:00<?, ?it/s]"
      ]
     },
     "metadata": {},
     "output_type": "display_data"
    },
    {
     "name": "stdout",
     "output_type": "stream",
     "text": [
      "Summary:\n",
      "-learning rate = 0.00527\n",
      "-Model saved after iteration 8233.\n",
      "-Train.  Loss=0.0170905\n",
      "-Valid.  Loss=0.0422992\n",
      "\n",
      "Best train loss = 0.0019299\n",
      "\n",
      "'train_loss05_5.csv' saved.\n",
      "'valid_loss05_5.csv' saved.\n",
      "'model13_backward05_5_best.pth' saved.\n"
     ]
    },
    {
     "data": {
      "application/vnd.jupyter.widget-view+json": {
       "model_id": "ede6922c4f5e4c78be79d373b57291d0",
       "version_major": 2,
       "version_minor": 0
      },
      "text/plain": [
       "Epochs loop:   0%|          | 0/10000 [00:00<?, ?it/s]"
      ]
     },
     "metadata": {},
     "output_type": "display_data"
    },
    {
     "name": "stdout",
     "output_type": "stream",
     "text": [
      "Summary:\n",
      "-learning rate = 0.00949\n",
      "-Model saved after iteration 8979.\n",
      "-Train.  Loss=0.0282080\n",
      "-Valid.  Loss=0.0475971\n",
      "\n",
      "Best train loss = 0.0018368\n",
      "\n",
      "'train_loss05_6.csv' saved.\n",
      "'valid_loss05_6.csv' saved.\n",
      "'model13_backward05_6_best.pth' saved.\n"
     ]
    },
    {
     "data": {
      "application/vnd.jupyter.widget-view+json": {
       "model_id": "9ce0acc75373423380afccb356c34d2a",
       "version_major": 2,
       "version_minor": 0
      },
      "text/plain": [
       "Epochs loop:   0%|          | 0/10000 [00:00<?, ?it/s]"
      ]
     },
     "metadata": {},
     "output_type": "display_data"
    },
    {
     "name": "stdout",
     "output_type": "stream",
     "text": [
      "Summary:\n",
      "-learning rate = 0.01710\n",
      "-Model saved after iteration 9265.\n",
      "-Train.  Loss=0.0345687\n",
      "-Valid.  Loss=0.0488183\n",
      "\n",
      "Best train loss = 0.0019125\n",
      "\n",
      "'train_loss05_7.csv' saved.\n",
      "'valid_loss05_7.csv' saved.\n",
      "'model13_backward05_7_best.pth' saved.\n"
     ]
    },
    {
     "data": {
      "application/vnd.jupyter.widget-view+json": {
       "model_id": "e0f54473c6304d8a8c386240e8de074c",
       "version_major": 2,
       "version_minor": 0
      },
      "text/plain": [
       "Epochs loop:   0%|          | 0/10000 [00:00<?, ?it/s]"
      ]
     },
     "metadata": {},
     "output_type": "display_data"
    },
    {
     "name": "stdout",
     "output_type": "stream",
     "text": [
      "Summary:\n",
      "-learning rate = 0.03081\n",
      "-Model saved after iteration 9569.\n",
      "-Train.  Loss=0.0458497\n",
      "-Valid.  Loss=0.0552858\n",
      "\n",
      "Best train loss = 0.0018353\n",
      "\n",
      "'train_loss05_8.csv' saved.\n",
      "'valid_loss05_8.csv' saved.\n",
      "'model13_backward05_8_best.pth' saved.\n"
     ]
    },
    {
     "data": {
      "application/vnd.jupyter.widget-view+json": {
       "model_id": "2a145296dadf4d35b464a0b13dc0bf1a",
       "version_major": 2,
       "version_minor": 0
      },
      "text/plain": [
       "Epochs loop:   0%|          | 0/10000 [00:00<?, ?it/s]"
      ]
     },
     "metadata": {},
     "output_type": "display_data"
    },
    {
     "name": "stdout",
     "output_type": "stream",
     "text": [
      "Summary:\n",
      "-learning rate = 0.05550\n",
      "-Model saved after iteration 9769.\n",
      "-Train.  Loss=0.0648041\n",
      "-Valid.  Loss=0.0610051\n",
      "\n",
      "Best train loss = 0.0019328\n",
      "\n",
      "'train_loss05_9.csv' saved.\n",
      "'valid_loss05_9.csv' saved.\n",
      "'model13_backward05_9_best.pth' saved.\n"
     ]
    },
    {
     "data": {
      "application/vnd.jupyter.widget-view+json": {
       "model_id": "523a98a8255e4a07bbba5327e238a2af",
       "version_major": 2,
       "version_minor": 0
      },
      "text/plain": [
       "Epochs loop:   0%|          | 0/10000 [00:00<?, ?it/s]"
      ]
     },
     "metadata": {},
     "output_type": "display_data"
    },
    {
     "name": "stdout",
     "output_type": "stream",
     "text": [
      "Summary:\n",
      "-learning rate = 0.10000\n",
      "-Model saved after iteration 9502.\n",
      "-Train.  Loss=0.0697413\n",
      "-Valid.  Loss=0.0636000\n",
      "\n",
      "Best train loss = 0.0010664\n",
      "\n",
      "'train_loss05_10.csv' saved.\n",
      "'valid_loss05_10.csv' saved.\n",
      "'model13_backward05_10_best.pth' saved.\n"
     ]
    }
   ],
   "source": [
    "# Perform grid search (lockdown: path 2)\n",
    "layer_sizes = [5, 2]\n",
    "epochs = 10000\n",
    "data_in = 'dataset_13LungCancer'\n",
    "data_out = \"data_lockdown_13LungCancer/lrs\"\n",
    "lock_flag = True\n",
    "step = 1\n",
    "\n",
    "# Read data\n",
    "load_data(data_in)\n",
    "\n",
    "# Normalize data\n",
    "normalize_data()\n",
    "\n",
    "# Create DataLoaders\n",
    "make_DataLoaders()\n",
    "features = xtrain.size(1)\n",
    "\n",
    "# Train model\n",
    "iterator = tqdm.notebook.tqdm(range(1, len(grid_lrs) + 1), desc='lr-grid loop')\n",
    "for n in iterator:\n",
    "    irow = n-1\n",
    "    model_forward_name = 'data_unconstrained_13LungCancer/lrs/model13_forward05_'+str(n)+'_last.pth'\n",
    "    fname = 'model13_backward05_'+str(n)\n",
    "    train_loss, valid_loss = train_model(\n",
    "                             grid_lrs[irow], \n",
    "                             features, \n",
    "                             layer_sizes,\n",
    "                             lock_flag = lock_flag,\n",
    "                             epochs=epochs,\n",
    "                             early_stop=epochs, \n",
    "                             fname=fname)\n",
    "    print('\\nBest train loss = {:.7f}\\n'.format(train_loss['loss'].min()))\n",
    "\n",
    "# .save relevant data\n",
    "    f3 = [fname+'_best.pth']\n",
    "    save_output(data_out, \n",
    "                'train_loss05_'+str(n)+'.csv', \n",
    "                'valid_loss05_'+str(n)+'.csv', f3)\n",
    "    \n",
    "# .find MSE, R2, etc...\n",
    "    mm = MyNet(features, layer_sizes)\n",
    "    mm.load_state_dict(torch.load(os.path.join(data_out, fname+'_best.pth')))\n",
    "    mm = mm.to(device)\n",
    "    mm.eval()\n",
    "\n",
    "# .save grid search results\n",
    "    ypred = mm(xvalid)\n",
    "    loss = loss_type(ypred, yvalid.view(-1))\n",
    "    accu = dataset_accuracy(valid_dataloader, mm, device)\n",
    "    df_grid_loss.iloc[irow,:] = [grid_lrs[irow], loss.detach().item(), accu]\n",
    "    df_grid_loss.to_csv(os.path.join(data_out, 'df_grid_backward05.csv'), index=None)"
   ]
  },
  {
   "cell_type": "code",
   "execution_count": 128,
   "metadata": {
    "ExecuteTime": {
     "end_time": "2021-03-05T08:27:35.399816Z",
     "start_time": "2021-03-05T08:27:35.249225Z"
    },
    "code_folding": []
   },
   "outputs": [
    {
     "data": {
      "image/png": "[encoded data removed]",
      "text/plain": [
       "<Figure size 720x432 with 1 Axes>"
      ]
     },
     "metadata": {
      "needs_background": "light"
     },
     "output_type": "display_data"
    }
   ],
   "source": [
    "# Plot Loss vs point in grid search\n",
    "data_out = \"data_lockdown_13LungCancer/lrs\"\n",
    "df_grid_loss = pd.read_csv(os.path.join(data_out, 'df_grid_backward05.csv'))\n",
    "fig, axes = plt.subplots(figsize=(10,6))\n",
    "axes.scatter(np.log10(df_grid_loss.lr), df_grid_loss['valid_loss'])\n",
    "axes.plot(np.log10(df_grid_loss.lr), df_grid_loss['valid_loss'], label='loss')\n",
    "# axes.scatter(np.log10(df_grid_loss.lr), df_grid_loss['valid_r2'])\n",
    "# axes.plot(np.log10(df_grid_loss.lr), df_grid_loss['valid_r2'], label='r2')\n",
    "axes.set_xlabel(\"log10(lr)\")\n",
    "axes.set_ylabel(\"Validation metric\")\n",
    "axes.legend()\n",
    "plt.show()"
   ]
  },
  {
   "cell_type": "code",
   "execution_count": 129,
   "metadata": {
    "ExecuteTime": {
     "end_time": "2021-03-05T08:28:55.361221Z",
     "start_time": "2021-03-05T08:28:55.330493Z"
    },
    "code_folding": []
   },
   "outputs": [
    {
     "name": "stdout",
     "output_type": "stream",
     "text": [
      "Best parameters (5):\n",
      "- Best lr = 0.00527\n",
      "- Best valid loss = 0.04229918122291565\n"
     ]
    },
    {
     "data": {
      "text/plain": [
       "'data_lockdown_13LungCancer/valid_loss05.csv'"
      ]
     },
     "execution_count": 129,
     "metadata": {},
     "output_type": "execute_result"
    }
   ],
   "source": [
    "# Display grid search results\n",
    "data_out = \"data_lockdown_13LungCancer/lrs\"\n",
    "df_grid_loss = pd.read_csv(os.path.join(data_out, 'df_grid_backward05.csv'))\n",
    "\n",
    "idx = df_grid_loss.valid_loss.idxmin()\n",
    "# idx = df_grid_loss.valid_acc.idxmax()\n",
    "best_lr_bward = df_grid_loss.iloc[idx, 0]\n",
    "best_mse      = df_grid_loss.iloc[idx, 1]\n",
    "print(\"Best parameters ({}):\".format(idx+1))\n",
    "print(\"- Best lr = {:.5f}\".format(best_lr_bward))\n",
    "print(\"- Best valid loss = {}\".format(best_mse))\n",
    "\n",
    "# Copy best models to main directory\n",
    "shutil.copy(\"data_unconstrained_13LungCancer/lrs/model13_forward05_\"+str(idx+1)+\"_best.pth\", \n",
    "            \"data_lockdown_13LungCancer/model13_fward05_best.pth\")\n",
    "shutil.copy(\"data_unconstrained_13LungCancer/lrs/model13_forward05_\"+str(idx+1)+\"_last.pth\", \n",
    "            \"data_lockdown_13LungCancer/model13_fward05_last.pth\")\n",
    "shutil.copy(\"data_lockdown_13LungCancer/lrs/model13_backward05_\"+str(idx+1)+\"_best.pth\", \n",
    "            \"data_lockdown_13LungCancer/model13_backward05_best.pth\")\n",
    "\n",
    "shutil.copy(\"data_unconstrained_13LungCancer/lrs/train_loss05_\"+str(idx+1)+\".csv\", \n",
    "            \"data_lockdown_13LungCancer/train_loss_fward05.csv\")\n",
    "shutil.copy(\"data_unconstrained_13LungCancer/lrs/valid_loss05_\"+str(idx+1)+\".csv\", \n",
    "            \"data_lockdown_13LungCancer/valid_loss_fward05.csv\")\n",
    "shutil.copy(\"data_lockdown_13LungCancer/lrs/train_loss05_\"+str(idx+1)+\".csv\", \n",
    "            \"data_lockdown_13LungCancer/train_loss05.csv\")\n",
    "shutil.copy(\"data_lockdown_13LungCancer/lrs/valid_loss05_\"+str(idx+1)+\".csv\", \n",
    "            \"data_lockdown_13LungCancer/valid_loss05.csv\")"
   ]
  },
  {
   "cell_type": "code",
   "execution_count": 130,
   "metadata": {
    "ExecuteTime": {
     "end_time": "2021-03-05T08:29:17.363339Z",
     "start_time": "2021-03-05T08:29:17.233701Z"
    },
    "code_folding": []
   },
   "outputs": [
    {
     "data": {
      "text/html": [
       "<div>\n",
       "<style scoped>\n",
       "    .dataframe tbody tr th:only-of-type {\n",
       "        vertical-align: middle;\n",
       "    }\n",
       "\n",
       "    .dataframe tbody tr th {\n",
       "        vertical-align: top;\n",
       "    }\n",
       "\n",
       "    .dataframe thead th {\n",
       "        text-align: right;\n",
       "    }\n",
       "</style>\n",
       "<table border=\"1\" class=\"dataframe\">\n",
       "  <thead>\n",
       "    <tr style=\"text-align: right;\">\n",
       "      <th></th>\n",
       "      <th></th>\n",
       "      <th>LOSS</th>\n",
       "      <th>ACCURACY</th>\n",
       "    </tr>\n",
       "  </thead>\n",
       "  <tbody>\n",
       "    <tr>\n",
       "      <th rowspan=\"2\" valign=\"top\">TRAIN</th>\n",
       "      <th>forward</th>\n",
       "      <td>0.0152548</td>\n",
       "      <td>0.99911</td>\n",
       "    </tr>\n",
       "    <tr>\n",
       "      <th>lockdown</th>\n",
       "      <td>0.0170906</td>\n",
       "      <td>0.998219</td>\n",
       "    </tr>\n",
       "    <tr>\n",
       "      <th rowspan=\"2\" valign=\"top\">VALIDATION</th>\n",
       "      <th>forward</th>\n",
       "      <td>0.0670716</td>\n",
       "      <td>0.975968</td>\n",
       "    </tr>\n",
       "    <tr>\n",
       "      <th>lockdown</th>\n",
       "      <td>0.0422992</td>\n",
       "      <td>0.985314</td>\n",
       "    </tr>\n",
       "    <tr>\n",
       "      <th rowspan=\"2\" valign=\"top\">TEST</th>\n",
       "      <th>forward</th>\n",
       "      <td>0.0595673</td>\n",
       "      <td>0.978638</td>\n",
       "    </tr>\n",
       "    <tr>\n",
       "      <th>lockdown</th>\n",
       "      <td>0.0558264</td>\n",
       "      <td>0.971963</td>\n",
       "    </tr>\n",
       "  </tbody>\n",
       "</table>\n",
       "</div>"
      ],
      "text/plain": [
       "                          LOSS  ACCURACY\n",
       "TRAIN      forward   0.0152548   0.99911\n",
       "           lockdown  0.0170906  0.998219\n",
       "VALIDATION forward   0.0670716  0.975968\n",
       "           lockdown  0.0422992  0.985314\n",
       "TEST       forward   0.0595673  0.978638\n",
       "           lockdown  0.0558264  0.971963"
      ]
     },
     "execution_count": 130,
     "metadata": {},
     "output_type": "execute_result"
    }
   ],
   "source": [
    "# Find Loss, Accuracy, etc...\n",
    "layer_sizes = [5, 2]\n",
    "data_out = \"data_lockdown_13LungCancer\"\n",
    "index = pd.MultiIndex.from_product([['TRAIN', 'VALIDATION', 'TEST'], ['forward', 'lockdown']])\n",
    "df_results = pd.DataFrame(index=index, columns=['LOSS', 'ACCURACY'])\n",
    "\n",
    "# Unconstrained results\n",
    "mm = MyNet(features, layer_sizes)\n",
    "mm.load_state_dict(torch.load('data_unconstrained_13LungCancer/model13_forward05_best.pth'))\n",
    "mm = mm.to(device)\n",
    "mm.eval()\n",
    "\n",
    "ypred = mm(xtrain)\n",
    "loss = loss_type(ypred, ytrain.view(-1))\n",
    "accu = dataset_accuracy(train_dataloader, mm, device)\n",
    "df_results.loc[('TRAIN', 'forward'), 'LOSS'] = loss.detach().item()\n",
    "df_results.loc[('TRAIN', 'forward'), 'ACCURACY'] = accu\n",
    "\n",
    "ypred = mm(xvalid)\n",
    "loss = loss_type(ypred, yvalid.view(-1))\n",
    "accu = dataset_accuracy(valid_dataloader, mm, device)\n",
    "df_results.loc[('VALIDATION', 'forward'), 'LOSS'] = loss.detach().item()\n",
    "df_results.loc[('VALIDATION', 'forward'), 'ACCURACY'] = accu\n",
    "\n",
    "ypred = mm(xtest)\n",
    "loss = loss_type(ypred, ytest.view(-1))\n",
    "accu = dataset_accuracy(test_dataloader, mm, device)\n",
    "df_results.loc[('TEST', 'forward'), 'LOSS'] = loss.detach().item()\n",
    "df_results.loc[('TEST', 'forward'), 'ACCURACY'] = accu\n",
    "\n",
    "# Lockdown results\n",
    "mm = MyNet(features, layer_sizes)\n",
    "mm.load_state_dict(torch.load('data_lockdown_13LungCancer/model13_backward05_best.pth'))\n",
    "mm = mm.to(device)\n",
    "mm.eval()\n",
    "\n",
    "ypred = mm(xtrain)\n",
    "loss = loss_type(ypred, ytrain.view(-1))\n",
    "accu = dataset_accuracy(train_dataloader, mm, device)\n",
    "df_results.loc[('TRAIN', 'lockdown'), 'LOSS'] = loss.detach().item()\n",
    "df_results.loc[('TRAIN', 'lockdown'), 'ACCURACY'] = accu\n",
    "\n",
    "ypred = mm(xvalid)\n",
    "loss = loss_type(ypred, yvalid.view(-1))\n",
    "accu = dataset_accuracy(valid_dataloader, mm, device)\n",
    "df_results.loc[('VALIDATION', 'lockdown'), 'LOSS'] = loss.detach().item()\n",
    "df_results.loc[('VALIDATION', 'lockdown'), 'ACCURACY'] = accu\n",
    "\n",
    "ypred = mm(xtest)\n",
    "loss = loss_type(ypred, ytest.view(-1))\n",
    "accu = dataset_accuracy(test_dataloader, mm, device)\n",
    "df_results.loc[('TEST', 'lockdown'), 'LOSS'] = loss.detach().item()\n",
    "df_results.loc[('TEST', 'lockdown'), 'ACCURACY'] = accu\n",
    "\n",
    "df_results.to_csv(os.path.join(data_out, 'results05.csv'), index=True)\n",
    "df_results"
   ]
  },
  {
   "cell_type": "code",
   "execution_count": 131,
   "metadata": {
    "ExecuteTime": {
     "end_time": "2021-03-05T08:30:35.714956Z",
     "start_time": "2021-03-05T08:30:35.438280Z"
    },
    "code_folding": []
   },
   "outputs": [
    {
     "data": {
      "image/png": "[encoded data removed]",
      "text/plain": [
       "<Figure size 1080x432 with 1 Axes>"
      ]
     },
     "metadata": {
      "needs_background": "light"
     },
     "output_type": "display_data"
    },
    {
     "name": "stdout",
     "output_type": "stream",
     "text": [
      "Feature importance graph saved at: 'data_lockdown_13LungCancer/feature_importance05.pdf'\n",
      "feature importance .csv saved at: 'data_lockdown_13LungCancer/feature_importance_lockdown05.csv'\n"
     ]
    }
   ],
   "source": [
    "# Weight importance (Lockdown: layer 1)\n",
    "data_out = \"data_lockdown_13LungCancer\"\n",
    "m1 = torch.load('data_lockdown_13LungCancer/model13_backward05_best.pth')\n",
    "feature_importance1 = pd.Series(abs(m1['classifier.0.weight']).sum(dim=0), index=cols_all)\n",
    "feature_importance1 = feature_importance1/feature_importance1.max()\n",
    "feature_importance_sorted1 = feature_importance1.sort_values(ascending=False)\n",
    "\n",
    "idx = feature_importance_sorted1 >= 0\n",
    "\n",
    "fig, axes = plt.subplots(figsize=(15,6))\n",
    "x_pos = np.arange(idx.sum())\n",
    "axes.fill_between(x_pos, 0, feature_importance_sorted1[idx], zorder=2)\n",
    "# axes.bar(x_pos, feature_importance_sorted1[idx], zorder=2)\n",
    "# axes.set_xticks(x_pos)\n",
    "# axes.set_xticklabels(feature_importance_sorted1.index[idx], rotation='vertical')\n",
    "axes.set_xlim(-1,idx.sum())\n",
    "axes.set_ylabel('Performance')\n",
    "axes.set_title('Feature Importance (Lockdown): layer 1: features = {}, nodes = {}'.format(n_features, \n",
    "                                                                                          layer_sizes[0]))\n",
    "axes.grid(True, zorder=1)\n",
    "\n",
    "plt.tight_layout()\n",
    "plt.savefig(os.path.join(data_out, 'feature_importance05.pdf'), bbox_inches='tight')\n",
    "plt.show()\n",
    "print(\"Feature importance graph saved at: '{}'\".format(os.path.join(data_out, 'feature_importance05.pdf')))\n",
    "\n",
    "feature_importance_sorted1.to_csv(os.path.join(data_out, 'feature_importance_lockdown05.csv'))\n",
    "print(\"feature importance .csv saved at: '{}'\".format(os.path.join(data_out, 'feature_importance_lockdown05.csv')))"
   ]
  },
  {
   "cell_type": "code",
   "execution_count": 125,
   "metadata": {
    "ExecuteTime": {
     "end_time": "2021-03-05T07:06:33.589340Z",
     "start_time": "2021-03-05T07:06:33.403237Z"
    },
    "code_folding": [
     0
    ]
   },
   "outputs": [
    {
     "data": {
      "image/png": "[encoded data removed]",
      "text/plain": [
       "<Figure size 1080x432 with 1 Axes>"
      ]
     },
     "metadata": {
      "needs_background": "light"
     },
     "output_type": "display_data"
    },
    {
     "name": "stdout",
     "output_type": "stream",
     "text": [
      "Feature importance graph saved at: 'data_unconstrained_13LungCancer/feature_importance05.pdf'\n",
      "feature importance .csv saved at: 'data_unconstrained_13LungCancer/feature_importance_forward05.csv'\n"
     ]
    }
   ],
   "source": [
    "# Weight importance (Forward: layer 1)\n",
    "data_out = \"data_unconstrained_13LungCancer\"\n",
    "m1 = torch.load('data_unconstrained_13LungCancer/model13_forward05_best.pth')\n",
    "feature_importance1 = pd.Series(abs(m1['classifier.0.weight']).sum(dim=0), index=cols_all)\n",
    "feature_importance1 = feature_importance1/feature_importance1.sum()\n",
    "feature_importance_sorted1 = feature_importance1.sort_values(ascending=False)\n",
    "\n",
    "idx = feature_importance_sorted1 >= 0\n",
    "\n",
    "fig, axes = plt.subplots(figsize=(15,6))\n",
    "x_pos = np.arange(idx.sum())\n",
    "axes.fill_between(x_pos, 0, feature_importance_sorted1[idx], zorder=2, lw=3)\n",
    "# axes.set_xticks(x_pos)\n",
    "# axes.set_xticklabels(feature_importance_sorted1.index[idx], rotation='vertical')\n",
    "# axes.set_xlim(-1,idx.sum())\n",
    "axes.set_ylabel('Performance')\n",
    "axes.set_title('Feature Importance (Forward): layer 1: features = {}, nodes = {}'.format(n_features, \n",
    "                                                                                          layer_sizes[0]))\n",
    "axes.grid(True, zorder=1)\n",
    "\n",
    "plt.tight_layout()\n",
    "plt.savefig(os.path.join(data_out, 'feature_importance05.pdf'), bbox_inches='tight')\n",
    "plt.show()\n",
    "print(\"Feature importance graph saved at: '{}'\".format(os.path.join(data_out, 'feature_importance05.pdf')))\n",
    "\n",
    "feature_importance_sorted1.to_csv(os.path.join(data_out, 'feature_importance_forward05.csv'))\n",
    "print(\"feature importance .csv saved at: '{}'\".format(os.path.join(data_out, 'feature_importance_forward05.csv')))"
   ]
  },
  {
   "cell_type": "code",
   "execution_count": 133,
   "metadata": {
    "ExecuteTime": {
     "end_time": "2021-03-05T08:39:25.158522Z",
     "start_time": "2021-03-05T08:39:24.803012Z"
    },
    "code_folding": [
     0
    ]
   },
   "outputs": [
    {
     "data": {
      "image/png": "[encoded data removed]",
      "text/plain": [
       "<Figure size 1080x432 with 1 Axes>"
      ]
     },
     "metadata": {
      "needs_background": "light"
     },
     "output_type": "display_data"
    }
   ],
   "source": [
    "# Gene importance\n",
    "data_out = \"data_lockdown_13LungCancer\"\n",
    "m1 = torch.load('data_lockdown_13LungCancer/model13_backward05_best.pth')\n",
    "feature_importance1 = pd.Series(abs(m1['classifier.0.weight']).sum(dim=0), index=cols_all)\n",
    "feature_importance1 = feature_importance1/feature_importance1.max()\n",
    "feature_importance_sorted1 = feature_importance1.sort_values(ascending=False)\n",
    "idx1 = feature_importance_sorted1 >= 0\n",
    "\n",
    "data_out = \"data_unconstrained_13LungCancer\"\n",
    "m2 = torch.load('data_unconstrained_13LungCancer/model13_forward05_best.pth')\n",
    "feature_importance2 = pd.Series(abs(m2['classifier.0.weight']).sum(dim=0), index=cols_all)\n",
    "feature_importance2 = feature_importance2/feature_importance2.max()\n",
    "feature_importance_sorted2 = feature_importance2.sort_values(ascending=False)\n",
    "idx2 = feature_importance_sorted2 >= 0\n",
    "\n",
    "fig, axes = plt.subplots(figsize=(15,6))\n",
    "x_pos = np.arange(idx2.sum())\n",
    "axes.fill_between(x_pos, 0, feature_importance_sorted2[idx2], label='Standard', zorder=2, color='red')\n",
    "axes.fill_between(x_pos, 0, feature_importance_sorted1[idx1], label='Lockdown', zorder=2, color='limegreen')\n",
    "axes.set_xlim(-1,idx.sum())\n",
    "axes.set_ylabel('Importance', fontsize=14)\n",
    "axes.set_xlabel('Genes', fontsize=14)\n",
    "# axes.set_title('Genes Importance: genes = {}'.format(features), fontsize=14)\n",
    "axes.set_title('Genes Importance', fontsize=14)\n",
    "axes.legend(fontsize=14)\n",
    "axes.grid(True, zorder=1)\n",
    "plt.yticks(fontsize=12)\n",
    "plt.xticks(fontsize=12)\n",
    "\n",
    "data_out = \"data_lockdown_13LungCancer\"\n",
    "plt.tight_layout()\n",
    "plt.savefig(os.path.join(data_out, 'feature_importance.pdf'), bbox_inches='tight')\n",
    "plt.show()\n",
    "# print(\"Feature importance graph saved at: '{}'\".format(os.path.join(data_out, 'feature_importance05.pdf')))\n",
    "\n",
    "# feature_importance_sorted1.to_csv(os.path.join(data_out, 'feature_importance_lockdown05.csv'))\n",
    "# print(\"feature importance .csv saved at: '{}'\".format(os.path.join(data_out, 'feature_importance_lockdown05.csv')))"
   ]
  },
  {
   "cell_type": "code",
   "execution_count": 135,
   "metadata": {
    "ExecuteTime": {
     "end_time": "2021-03-05T19:54:18.033705Z",
     "start_time": "2021-03-05T08:44:04.309996Z"
    },
    "code_folding": [],
    "scrolled": true
   },
   "outputs": [
    {
     "data": {
      "application/vnd.jupyter.widget-view+json": {
       "model_id": "c516387478384963913415526642618f",
       "version_major": 2,
       "version_minor": 0
      },
      "text/plain": [
       "Partitions loop:   0%|          | 0/100 [00:00<?, ?it/s]"
      ]
     },
     "metadata": {},
     "output_type": "display_data"
    },
    {
     "name": "stdout",
     "output_type": "stream",
     "text": [
      "- train minibatches = 1\n",
      "- valid minibatches = 1\n",
      "- test minibatches = 1\n"
     ]
    },
    {
     "data": {
      "application/vnd.jupyter.widget-view+json": {
       "model_id": "985a71bdc4d54822b803241df1424072",
       "version_major": 2,
       "version_minor": 0
      },
      "text/plain": [
       "Epochs loop:   0%|          | 0/40000 [00:00<?, ?it/s]"
      ]
     },
     "metadata": {},
     "output_type": "display_data"
    },
    {
     "name": "stdout",
     "output_type": "stream",
     "text": [
      "Summary:\n",
      "-learning rate = 0.10000\n",
      "-path 1 has early stopped:\n",
      " 8000 iterations with no improvement in train loss.\n",
      "-Model saved after iteration 2095.\n",
      "-Train.  Loss=0.0045287\n",
      "-Valid.  Loss=0.0474883\n",
      "'train_loss05_1.csv' saved.\n",
      "'valid_loss05_1.csv' saved.\n",
      "'model13_forward05_1_last.pth' saved.\n",
      "'model13_forward05_1_best.pth' saved.\n",
      "- train minibatches = 1\n",
      "- valid minibatches = 1\n",
      "- test minibatches = 1\n"
     ]
    },
    {
     "data": {
      "application/vnd.jupyter.widget-view+json": {
       "model_id": "763a0648895a4ae192d7642536adf7d4",
       "version_major": 2,
       "version_minor": 0
      },
      "text/plain": [
       "Epochs loop:   0%|          | 0/40000 [00:00<?, ?it/s]"
      ]
     },
     "metadata": {},
     "output_type": "display_data"
    },
    {
     "name": "stdout",
     "output_type": "stream",
     "text": [
      "Summary:\n",
      "-learning rate = 0.10000\n",
      "-path 1 has early stopped:\n",
      " 8000 iterations with no improvement in train loss.\n",
      "-Model saved after iteration 683.\n",
      "-Train.  Loss=0.0113633\n",
      "-Valid.  Loss=0.0634574\n",
      "'train_loss05_2.csv' saved.\n",
      "'valid_loss05_2.csv' saved.\n",
      "'model13_forward05_2_last.pth' saved.\n",
      "'model13_forward05_2_best.pth' saved.\n",
      "- train minibatches = 1\n",
      "- valid minibatches = 1\n",
      "- test minibatches = 1\n"
     ]
    },
    {
     "data": {
      "application/vnd.jupyter.widget-view+json": {
       "model_id": "185e8cee77db466d93edeb268da1c61a",
       "version_major": 2,
       "version_minor": 0
      },
      "text/plain": [
       "Epochs loop:   0%|          | 0/40000 [00:00<?, ?it/s]"
      ]
     },
     "metadata": {},
     "output_type": "display_data"
    },
    {
     "name": "stdout",
     "output_type": "stream",
     "text": [
      "Summary:\n",
      "-learning rate = 0.10000\n",
      "-path 1 has early stopped:\n",
      " 8000 iterations with no improvement in train loss.\n",
      "-Model saved after iteration 673.\n",
      "-Train.  Loss=0.0131478\n",
      "-Valid.  Loss=0.0613100\n",
      "'train_loss05_3.csv' saved.\n",
      "'valid_loss05_3.csv' saved.\n",
      "'model13_forward05_3_last.pth' saved.\n",
      "'model13_forward05_3_best.pth' saved.\n",
      "- train minibatches = 1\n",
      "- valid minibatches = 1\n",
      "- test minibatches = 1\n"
     ]
    },
    {
     "data": {
      "application/vnd.jupyter.widget-view+json": {
       "model_id": "3bd97d007159490992ab7af351942532",
       "version_major": 2,
       "version_minor": 0
      },
      "text/plain": [
       "Epochs loop:   0%|          | 0/40000 [00:00<?, ?it/s]"
      ]
     },
     "metadata": {},
     "output_type": "display_data"
    },
    {
     "name": "stdout",
     "output_type": "stream",
     "text": [
      "Summary:\n",
      "-learning rate = 0.10000\n",
      "-path 1 has early stopped:\n",
      " 8000 iterations with no improvement in train loss.\n",
      "-Model saved after iteration 424.\n",
      "-Train.  Loss=0.0228017\n",
      "-Valid.  Loss=0.0777426\n",
      "'train_loss05_4.csv' saved.\n",
      "'valid_loss05_4.csv' saved.\n",
      "'model13_forward05_4_last.pth' saved.\n",
      "'model13_forward05_4_best.pth' saved.\n",
      "- train minibatches = 1\n",
      "- valid minibatches = 1\n",
      "- test minibatches = 1\n"
     ]
    },
    {
     "data": {
      "application/vnd.jupyter.widget-view+json": {
       "model_id": "12df48bff400490289cc64bbcb7c06b0",
       "version_major": 2,
       "version_minor": 0
      },
      "text/plain": [
       "Epochs loop:   0%|          | 0/40000 [00:00<?, ?it/s]"
      ]
     },
     "metadata": {},
     "output_type": "display_data"
    },
    {
     "name": "stdout",
     "output_type": "stream",
     "text": [
      "Summary:\n",
      "-learning rate = 0.10000\n",
      "-path 1 has early stopped:\n",
      " 8000 iterations with no improvement in train loss.\n",
      "-Model saved after iteration 338.\n",
      "-Train.  Loss=0.0259218\n",
      "-Valid.  Loss=0.0808668\n",
      "'train_loss05_5.csv' saved.\n",
      "'valid_loss05_5.csv' saved.\n",
      "'model13_forward05_5_last.pth' saved.\n",
      "'model13_forward05_5_best.pth' saved.\n",
      "- train minibatches = 1\n",
      "- valid minibatches = 1\n",
      "- test minibatches = 1\n"
     ]
    },
    {
     "data": {
      "application/vnd.jupyter.widget-view+json": {
       "model_id": "d4303e1be8c74d3da626a6d361a06444",
       "version_major": 2,
       "version_minor": 0
      },
      "text/plain": [
       "Epochs loop:   0%|          | 0/40000 [00:00<?, ?it/s]"
      ]
     },
     "metadata": {},
     "output_type": "display_data"
    },
    {
     "name": "stdout",
     "output_type": "stream",
     "text": [
      "Summary:\n",
      "-learning rate = 0.10000\n",
      "-path 1 has early stopped:\n",
      " 8000 iterations with no improvement in train loss.\n",
      "-Model saved after iteration 452.\n",
      "-Train.  Loss=0.0194932\n",
      "-Valid.  Loss=0.0942464\n",
      "'train_loss05_6.csv' saved.\n",
      "'valid_loss05_6.csv' saved.\n",
      "'model13_forward05_6_last.pth' saved.\n",
      "'model13_forward05_6_best.pth' saved.\n",
      "- train minibatches = 1\n",
      "- valid minibatches = 1\n",
      "- test minibatches = 1\n"
     ]
    },
    {
     "data": {
      "application/vnd.jupyter.widget-view+json": {
       "model_id": "7a698c9510374681836cd50cd7bc05e4",
       "version_major": 2,
       "version_minor": 0
      },
      "text/plain": [
       "Epochs loop:   0%|          | 0/40000 [00:00<?, ?it/s]"
      ]
     },
     "metadata": {},
     "output_type": "display_data"
    },
    {
     "name": "stdout",
     "output_type": "stream",
     "text": [
      "Summary:\n",
      "-learning rate = 0.10000\n",
      "-path 1 has early stopped:\n",
      " 8000 iterations with no improvement in train loss.\n",
      "-Model saved after iteration 593.\n",
      "-Train.  Loss=0.0142955\n",
      "-Valid.  Loss=0.0519399\n",
      "'train_loss05_7.csv' saved.\n",
      "'valid_loss05_7.csv' saved.\n",
      "'model13_forward05_7_last.pth' saved.\n",
      "'model13_forward05_7_best.pth' saved.\n",
      "- train minibatches = 1\n",
      "- valid minibatches = 1\n",
      "- test minibatches = 1\n"
     ]
    },
    {
     "data": {
      "application/vnd.jupyter.widget-view+json": {
       "model_id": "245e88dcbf464fec920b443393e6e609",
       "version_major": 2,
       "version_minor": 0
      },
      "text/plain": [
       "Epochs loop:   0%|          | 0/40000 [00:00<?, ?it/s]"
      ]
     },
     "metadata": {},
     "output_type": "display_data"
    },
    {
     "name": "stdout",
     "output_type": "stream",
     "text": [
      "Summary:\n",
      "-learning rate = 0.10000\n",
      "-path 1 has early stopped:\n",
      " 8000 iterations with no improvement in train loss.\n",
      "-Model saved after iteration 987.\n",
      "-Train.  Loss=0.0115375\n",
      "-Valid.  Loss=0.0504336\n",
      "'train_loss05_8.csv' saved.\n",
      "'valid_loss05_8.csv' saved.\n",
      "'model13_forward05_8_last.pth' saved.\n",
      "'model13_forward05_8_best.pth' saved.\n",
      "- train minibatches = 1\n",
      "- valid minibatches = 1\n",
      "- test minibatches = 1\n"
     ]
    },
    {
     "data": {
      "application/vnd.jupyter.widget-view+json": {
       "model_id": "eebeb74326894e12b632f254cc472731",
       "version_major": 2,
       "version_minor": 0
      },
      "text/plain": [
       "Epochs loop:   0%|          | 0/40000 [00:00<?, ?it/s]"
      ]
     },
     "metadata": {},
     "output_type": "display_data"
    },
    {
     "name": "stdout",
     "output_type": "stream",
     "text": [
      "Summary:\n",
      "-learning rate = 0.10000\n",
      "-path 1 has early stopped:\n",
      " 8000 iterations with no improvement in train loss.\n",
      "-Model saved after iteration 775.\n",
      "-Train.  Loss=0.0110979\n",
      "-Valid.  Loss=0.0657175\n",
      "'train_loss05_9.csv' saved.\n",
      "'valid_loss05_9.csv' saved.\n",
      "'model13_forward05_9_last.pth' saved.\n",
      "'model13_forward05_9_best.pth' saved.\n",
      "- train minibatches = 1\n",
      "- valid minibatches = 1\n",
      "- test minibatches = 1\n"
     ]
    },
    {
     "data": {
      "application/vnd.jupyter.widget-view+json": {
       "model_id": "3ba676ae710c4fd8a009095fa9d25c2d",
       "version_major": 2,
       "version_minor": 0
      },
      "text/plain": [
       "Epochs loop:   0%|          | 0/40000 [00:00<?, ?it/s]"
      ]
     },
     "metadata": {},
     "output_type": "display_data"
    },
    {
     "name": "stdout",
     "output_type": "stream",
     "text": [
      "Summary:\n",
      "-learning rate = 0.10000\n",
      "-path 1 has early stopped:\n",
      " 8000 iterations with no improvement in train loss.\n",
      "-Model saved after iteration 440.\n",
      "-Train.  Loss=0.0185638\n",
      "-Valid.  Loss=0.0797061\n",
      "'train_loss05_10.csv' saved.\n",
      "'valid_loss05_10.csv' saved.\n",
      "'model13_forward05_10_last.pth' saved.\n",
      "'model13_forward05_10_best.pth' saved.\n",
      "- train minibatches = 1\n",
      "- valid minibatches = 1\n",
      "- test minibatches = 1\n"
     ]
    },
    {
     "data": {
      "application/vnd.jupyter.widget-view+json": {
       "model_id": "41d66227d2b847bcbd875797128b63fb",
       "version_major": 2,
       "version_minor": 0
      },
      "text/plain": [
       "Epochs loop:   0%|          | 0/40000 [00:00<?, ?it/s]"
      ]
     },
     "metadata": {},
     "output_type": "display_data"
    },
    {
     "name": "stdout",
     "output_type": "stream",
     "text": [
      "Summary:\n",
      "-learning rate = 0.10000\n",
      "-path 1 has early stopped:\n",
      " 8000 iterations with no improvement in train loss.\n",
      "-Model saved after iteration 508.\n",
      "-Train.  Loss=0.0160430\n",
      "-Valid.  Loss=0.0619835\n",
      "'train_loss05_11.csv' saved.\n",
      "'valid_loss05_11.csv' saved.\n",
      "'model13_forward05_11_last.pth' saved.\n",
      "'model13_forward05_11_best.pth' saved.\n",
      "- train minibatches = 1\n",
      "- valid minibatches = 1\n",
      "- test minibatches = 1\n"
     ]
    },
    {
     "data": {
      "application/vnd.jupyter.widget-view+json": {
       "model_id": "8a27dbe26dfa442896b8d6e862ae0576",
       "version_major": 2,
       "version_minor": 0
      },
      "text/plain": [
       "Epochs loop:   0%|          | 0/40000 [00:00<?, ?it/s]"
      ]
     },
     "metadata": {},
     "output_type": "display_data"
    },
    {
     "name": "stdout",
     "output_type": "stream",
     "text": [
      "Summary:\n",
      "-learning rate = 0.10000\n",
      "-path 1 has early stopped:\n",
      " 8000 iterations with no improvement in train loss.\n",
      "-Model saved after iteration 452.\n",
      "-Train.  Loss=0.0199355\n",
      "-Valid.  Loss=0.0715534\n",
      "'train_loss05_12.csv' saved.\n",
      "'valid_loss05_12.csv' saved.\n",
      "'model13_forward05_12_last.pth' saved.\n",
      "'model13_forward05_12_best.pth' saved.\n",
      "- train minibatches = 1\n",
      "- valid minibatches = 1\n",
      "- test minibatches = 1\n"
     ]
    },
    {
     "data": {
      "application/vnd.jupyter.widget-view+json": {
       "model_id": "0392bf442fd04a7ba6498b997312e13d",
       "version_major": 2,
       "version_minor": 0
      },
      "text/plain": [
       "Epochs loop:   0%|          | 0/40000 [00:00<?, ?it/s]"
      ]
     },
     "metadata": {},
     "output_type": "display_data"
    },
    {
     "name": "stdout",
     "output_type": "stream",
     "text": [
      "Summary:\n",
      "-learning rate = 0.10000\n",
      "-path 1 has early stopped:\n",
      " 8000 iterations with no improvement in train loss.\n",
      "-Model saved after iteration 433.\n",
      "-Train.  Loss=0.0204547\n",
      "-Valid.  Loss=0.0713823\n",
      "'train_loss05_13.csv' saved.\n",
      "'valid_loss05_13.csv' saved.\n",
      "'model13_forward05_13_last.pth' saved.\n",
      "'model13_forward05_13_best.pth' saved.\n",
      "- train minibatches = 1\n",
      "- valid minibatches = 1\n",
      "- test minibatches = 1\n"
     ]
    },
    {
     "data": {
      "application/vnd.jupyter.widget-view+json": {
       "model_id": "bc56f6865be647cea0489d4528bfd251",
       "version_major": 2,
       "version_minor": 0
      },
      "text/plain": [
       "Epochs loop:   0%|          | 0/40000 [00:00<?, ?it/s]"
      ]
     },
     "metadata": {},
     "output_type": "display_data"
    },
    {
     "name": "stdout",
     "output_type": "stream",
     "text": [
      "Summary:\n",
      "-learning rate = 0.10000\n",
      "-path 1 has early stopped:\n",
      " 8000 iterations with no improvement in train loss.\n",
      "-Model saved after iteration 399.\n",
      "-Train.  Loss=0.0213335\n",
      "-Valid.  Loss=0.0835219\n",
      "'train_loss05_14.csv' saved.\n",
      "'valid_loss05_14.csv' saved.\n",
      "'model13_forward05_14_last.pth' saved.\n",
      "'model13_forward05_14_best.pth' saved.\n",
      "- train minibatches = 1\n",
      "- valid minibatches = 1\n",
      "- test minibatches = 1\n"
     ]
    },
    {
     "data": {
      "application/vnd.jupyter.widget-view+json": {
       "model_id": "39b1c1bc2f684903bf967c8cafda48fb",
       "version_major": 2,
       "version_minor": 0
      },
      "text/plain": [
       "Epochs loop:   0%|          | 0/40000 [00:00<?, ?it/s]"
      ]
     },
     "metadata": {},
     "output_type": "display_data"
    },
    {
     "name": "stdout",
     "output_type": "stream",
     "text": [
      "Summary:\n",
      "-learning rate = 0.10000\n",
      "-path 1 has early stopped:\n",
      " 8000 iterations with no improvement in train loss.\n",
      "-Model saved after iteration 393.\n",
      "-Train.  Loss=0.0218555\n",
      "-Valid.  Loss=0.0705414\n",
      "'train_loss05_15.csv' saved.\n",
      "'valid_loss05_15.csv' saved.\n",
      "'model13_forward05_15_last.pth' saved.\n",
      "'model13_forward05_15_best.pth' saved.\n",
      "- train minibatches = 1\n",
      "- valid minibatches = 1\n",
      "- test minibatches = 1\n"
     ]
    },
    {
     "data": {
      "application/vnd.jupyter.widget-view+json": {
       "model_id": "627fad727885468eb5fcea7bdc71fc30",
       "version_major": 2,
       "version_minor": 0
      },
      "text/plain": [
       "Epochs loop:   0%|          | 0/40000 [00:00<?, ?it/s]"
      ]
     },
     "metadata": {},
     "output_type": "display_data"
    },
    {
     "name": "stdout",
     "output_type": "stream",
     "text": [
      "Summary:\n",
      "-learning rate = 0.10000\n",
      "-path 1 has early stopped:\n",
      " 8000 iterations with no improvement in train loss.\n",
      "-Model saved after iteration 553.\n",
      "-Train.  Loss=0.0168608\n",
      "-Valid.  Loss=0.0528954\n",
      "'train_loss05_16.csv' saved.\n",
      "'valid_loss05_16.csv' saved.\n",
      "'model13_forward05_16_last.pth' saved.\n",
      "'model13_forward05_16_best.pth' saved.\n",
      "- train minibatches = 1\n",
      "- valid minibatches = 1\n",
      "- test minibatches = 1\n"
     ]
    },
    {
     "data": {
      "application/vnd.jupyter.widget-view+json": {
       "model_id": "25f1358b267c48bdb7c0e56126ff1b47",
       "version_major": 2,
       "version_minor": 0
      },
      "text/plain": [
       "Epochs loop:   0%|          | 0/40000 [00:00<?, ?it/s]"
      ]
     },
     "metadata": {},
     "output_type": "display_data"
    },
    {
     "name": "stdout",
     "output_type": "stream",
     "text": [
      "Summary:\n",
      "-learning rate = 0.10000\n",
      "-path 1 has early stopped:\n",
      " 8000 iterations with no improvement in train loss.\n",
      "-Model saved after iteration 1123.\n",
      "-Train.  Loss=0.0070226\n",
      "-Valid.  Loss=0.0532664\n",
      "'train_loss05_17.csv' saved.\n",
      "'valid_loss05_17.csv' saved.\n",
      "'model13_forward05_17_last.pth' saved.\n",
      "'model13_forward05_17_best.pth' saved.\n",
      "- train minibatches = 1\n",
      "- valid minibatches = 1\n",
      "- test minibatches = 1\n"
     ]
    },
    {
     "data": {
      "application/vnd.jupyter.widget-view+json": {
       "model_id": "6ce2bd6e60b344a09fdba9f15ca02142",
       "version_major": 2,
       "version_minor": 0
      },
      "text/plain": [
       "Epochs loop:   0%|          | 0/40000 [00:00<?, ?it/s]"
      ]
     },
     "metadata": {},
     "output_type": "display_data"
    },
    {
     "name": "stdout",
     "output_type": "stream",
     "text": [
      "Summary:\n",
      "-learning rate = 0.10000\n",
      "-path 1 has early stopped:\n",
      " 8000 iterations with no improvement in train loss.\n",
      "-Model saved after iteration 328.\n",
      "-Train.  Loss=0.0290893\n",
      "-Valid.  Loss=0.0766887\n",
      "'train_loss05_18.csv' saved.\n",
      "'valid_loss05_18.csv' saved.\n",
      "'model13_forward05_18_last.pth' saved.\n",
      "'model13_forward05_18_best.pth' saved.\n",
      "- train minibatches = 1\n",
      "- valid minibatches = 1\n",
      "- test minibatches = 1\n"
     ]
    },
    {
     "data": {
      "application/vnd.jupyter.widget-view+json": {
       "model_id": "f75a0e9bbaa140a8bd7b7197f8d19c14",
       "version_major": 2,
       "version_minor": 0
      },
      "text/plain": [
       "Epochs loop:   0%|          | 0/40000 [00:00<?, ?it/s]"
      ]
     },
     "metadata": {},
     "output_type": "display_data"
    },
    {
     "name": "stdout",
     "output_type": "stream",
     "text": [
      "Summary:\n",
      "-learning rate = 0.10000\n",
      "-path 1 has early stopped:\n",
      " 8000 iterations with no improvement in train loss.\n",
      "-Model saved after iteration 395.\n",
      "-Train.  Loss=0.0226887\n",
      "-Valid.  Loss=0.0778570\n",
      "'train_loss05_19.csv' saved.\n",
      "'valid_loss05_19.csv' saved.\n",
      "'model13_forward05_19_last.pth' saved.\n",
      "'model13_forward05_19_best.pth' saved.\n",
      "- train minibatches = 1\n",
      "- valid minibatches = 1\n",
      "- test minibatches = 1\n"
     ]
    },
    {
     "data": {
      "application/vnd.jupyter.widget-view+json": {
       "model_id": "51004444e8574f8cb468e34ce9f00ff2",
       "version_major": 2,
       "version_minor": 0
      },
      "text/plain": [
       "Epochs loop:   0%|          | 0/40000 [00:00<?, ?it/s]"
      ]
     },
     "metadata": {},
     "output_type": "display_data"
    },
    {
     "name": "stdout",
     "output_type": "stream",
     "text": [
      "Summary:\n",
      "-learning rate = 0.10000\n",
      "-path 1 has early stopped:\n",
      " 8000 iterations with no improvement in train loss.\n",
      "-Model saved after iteration 1271.\n",
      "-Train.  Loss=0.0053879\n",
      "-Valid.  Loss=0.0459194\n",
      "'train_loss05_20.csv' saved.\n",
      "'valid_loss05_20.csv' saved.\n",
      "'model13_forward05_20_last.pth' saved.\n",
      "'model13_forward05_20_best.pth' saved.\n",
      "- train minibatches = 1\n",
      "- valid minibatches = 1\n",
      "- test minibatches = 1\n"
     ]
    },
    {
     "data": {
      "application/vnd.jupyter.widget-view+json": {
       "model_id": "78638e0aefc34fa5b699934e9f2bfd67",
       "version_major": 2,
       "version_minor": 0
      },
      "text/plain": [
       "Epochs loop:   0%|          | 0/40000 [00:00<?, ?it/s]"
      ]
     },
     "metadata": {},
     "output_type": "display_data"
    },
    {
     "name": "stdout",
     "output_type": "stream",
     "text": [
      "Summary:\n",
      "-learning rate = 0.10000\n",
      "-path 1 has early stopped:\n",
      " 8000 iterations with no improvement in train loss.\n",
      "-Model saved after iteration 679.\n",
      "-Train.  Loss=0.0107503\n",
      "-Valid.  Loss=0.0634884\n",
      "'train_loss05_21.csv' saved.\n",
      "'valid_loss05_21.csv' saved.\n",
      "'model13_forward05_21_last.pth' saved.\n",
      "'model13_forward05_21_best.pth' saved.\n",
      "- train minibatches = 1\n",
      "- valid minibatches = 1\n",
      "- test minibatches = 1\n"
     ]
    },
    {
     "data": {
      "application/vnd.jupyter.widget-view+json": {
       "model_id": "c82db5eaaa224ab0b46084ceda67c85b",
       "version_major": 2,
       "version_minor": 0
      },
      "text/plain": [
       "Epochs loop:   0%|          | 0/40000 [00:00<?, ?it/s]"
      ]
     },
     "metadata": {},
     "output_type": "display_data"
    },
    {
     "name": "stdout",
     "output_type": "stream",
     "text": [
      "Summary:\n",
      "-learning rate = 0.10000\n",
      "-path 1 has early stopped:\n",
      " 8000 iterations with no improvement in train loss.\n",
      "-Model saved after iteration 627.\n",
      "-Train.  Loss=0.0144585\n",
      "-Valid.  Loss=0.0590608\n",
      "'train_loss05_22.csv' saved.\n",
      "'valid_loss05_22.csv' saved.\n",
      "'model13_forward05_22_last.pth' saved.\n",
      "'model13_forward05_22_best.pth' saved.\n",
      "- train minibatches = 1\n",
      "- valid minibatches = 1\n",
      "- test minibatches = 1\n"
     ]
    },
    {
     "data": {
      "application/vnd.jupyter.widget-view+json": {
       "model_id": "089cc190fb8f4bf293b773043c495eea",
       "version_major": 2,
       "version_minor": 0
      },
      "text/plain": [
       "Epochs loop:   0%|          | 0/40000 [00:00<?, ?it/s]"
      ]
     },
     "metadata": {},
     "output_type": "display_data"
    },
    {
     "name": "stdout",
     "output_type": "stream",
     "text": [
      "Summary:\n",
      "-learning rate = 0.10000\n",
      "-path 1 has early stopped:\n",
      " 8000 iterations with no improvement in train loss.\n",
      "-Model saved after iteration 736.\n",
      "-Train.  Loss=0.0109447\n",
      "-Valid.  Loss=0.0412561\n",
      "'train_loss05_23.csv' saved.\n",
      "'valid_loss05_23.csv' saved.\n",
      "'model13_forward05_23_last.pth' saved.\n",
      "'model13_forward05_23_best.pth' saved.\n",
      "- train minibatches = 1\n",
      "- valid minibatches = 1\n",
      "- test minibatches = 1\n"
     ]
    },
    {
     "data": {
      "application/vnd.jupyter.widget-view+json": {
       "model_id": "1b2f40fb92114216835acb0ba494233f",
       "version_major": 2,
       "version_minor": 0
      },
      "text/plain": [
       "Epochs loop:   0%|          | 0/40000 [00:00<?, ?it/s]"
      ]
     },
     "metadata": {},
     "output_type": "display_data"
    },
    {
     "name": "stdout",
     "output_type": "stream",
     "text": [
      "Summary:\n",
      "-learning rate = 0.10000\n",
      "-path 1 has early stopped:\n",
      " 8000 iterations with no improvement in train loss.\n",
      "-Model saved after iteration 708.\n",
      "-Train.  Loss=0.0103183\n",
      "-Valid.  Loss=0.0664393\n",
      "'train_loss05_24.csv' saved.\n",
      "'valid_loss05_24.csv' saved.\n",
      "'model13_forward05_24_last.pth' saved.\n",
      "'model13_forward05_24_best.pth' saved.\n",
      "- train minibatches = 1\n",
      "- valid minibatches = 1\n",
      "- test minibatches = 1\n"
     ]
    },
    {
     "data": {
      "application/vnd.jupyter.widget-view+json": {
       "model_id": "5c2f19c5be3b4c98937c8dad4a16fc32",
       "version_major": 2,
       "version_minor": 0
      },
      "text/plain": [
       "Epochs loop:   0%|          | 0/40000 [00:00<?, ?it/s]"
      ]
     },
     "metadata": {},
     "output_type": "display_data"
    },
    {
     "name": "stdout",
     "output_type": "stream",
     "text": [
      "Summary:\n",
      "-learning rate = 0.10000\n",
      "-path 1 has early stopped:\n",
      " 8000 iterations with no improvement in train loss.\n",
      "-Model saved after iteration 487.\n",
      "-Train.  Loss=0.0171766\n",
      "-Valid.  Loss=0.0669320\n",
      "'train_loss05_25.csv' saved.\n",
      "'valid_loss05_25.csv' saved.\n",
      "'model13_forward05_25_last.pth' saved.\n",
      "'model13_forward05_25_best.pth' saved.\n",
      "- train minibatches = 1\n",
      "- valid minibatches = 1\n",
      "- test minibatches = 1\n"
     ]
    },
    {
     "data": {
      "application/vnd.jupyter.widget-view+json": {
       "model_id": "eb8f0498938f401f90f3afdbdfcf2586",
       "version_major": 2,
       "version_minor": 0
      },
      "text/plain": [
       "Epochs loop:   0%|          | 0/40000 [00:00<?, ?it/s]"
      ]
     },
     "metadata": {},
     "output_type": "display_data"
    },
    {
     "name": "stdout",
     "output_type": "stream",
     "text": [
      "Summary:\n",
      "-learning rate = 0.10000\n",
      "-path 1 has early stopped:\n",
      " 8000 iterations with no improvement in train loss.\n",
      "-Model saved after iteration 590.\n",
      "-Train.  Loss=0.0132154\n",
      "-Valid.  Loss=0.0540786\n",
      "'train_loss05_26.csv' saved.\n",
      "'valid_loss05_26.csv' saved.\n",
      "'model13_forward05_26_last.pth' saved.\n",
      "'model13_forward05_26_best.pth' saved.\n",
      "- train minibatches = 1\n",
      "- valid minibatches = 1\n",
      "- test minibatches = 1\n"
     ]
    },
    {
     "data": {
      "application/vnd.jupyter.widget-view+json": {
       "model_id": "5b27ab2d93f941a79dab977b884cfefe",
       "version_major": 2,
       "version_minor": 0
      },
      "text/plain": [
       "Epochs loop:   0%|          | 0/40000 [00:00<?, ?it/s]"
      ]
     },
     "metadata": {},
     "output_type": "display_data"
    },
    {
     "name": "stdout",
     "output_type": "stream",
     "text": [
      "Summary:\n",
      "-learning rate = 0.10000\n",
      "-path 1 has early stopped:\n",
      " 8000 iterations with no improvement in train loss.\n",
      "-Model saved after iteration 547.\n",
      "-Train.  Loss=0.0139842\n",
      "-Valid.  Loss=0.0800904\n",
      "'train_loss05_27.csv' saved.\n",
      "'valid_loss05_27.csv' saved.\n",
      "'model13_forward05_27_last.pth' saved.\n",
      "'model13_forward05_27_best.pth' saved.\n",
      "- train minibatches = 1\n",
      "- valid minibatches = 1\n",
      "- test minibatches = 1\n"
     ]
    },
    {
     "data": {
      "application/vnd.jupyter.widget-view+json": {
       "model_id": "79933eaa4fb04e57a00bc661145e57dc",
       "version_major": 2,
       "version_minor": 0
      },
      "text/plain": [
       "Epochs loop:   0%|          | 0/40000 [00:00<?, ?it/s]"
      ]
     },
     "metadata": {},
     "output_type": "display_data"
    },
    {
     "name": "stdout",
     "output_type": "stream",
     "text": [
      "Summary:\n",
      "-learning rate = 0.10000\n",
      "-path 1 has early stopped:\n",
      " 8000 iterations with no improvement in train loss.\n",
      "-Model saved after iteration 1032.\n",
      "-Train.  Loss=0.0086364\n",
      "-Valid.  Loss=0.0461160\n",
      "'train_loss05_28.csv' saved.\n",
      "'valid_loss05_28.csv' saved.\n",
      "'model13_forward05_28_last.pth' saved.\n",
      "'model13_forward05_28_best.pth' saved.\n",
      "- train minibatches = 1\n",
      "- valid minibatches = 1\n",
      "- test minibatches = 1\n"
     ]
    },
    {
     "data": {
      "application/vnd.jupyter.widget-view+json": {
       "model_id": "6365b725fbe5483abe7177a09e7a0eb7",
       "version_major": 2,
       "version_minor": 0
      },
      "text/plain": [
       "Epochs loop:   0%|          | 0/40000 [00:00<?, ?it/s]"
      ]
     },
     "metadata": {},
     "output_type": "display_data"
    },
    {
     "name": "stdout",
     "output_type": "stream",
     "text": [
      "Summary:\n",
      "-learning rate = 0.10000\n",
      "-path 1 has early stopped:\n",
      " 8000 iterations with no improvement in train loss.\n",
      "-Model saved after iteration 543.\n",
      "-Train.  Loss=0.0159978\n",
      "-Valid.  Loss=0.0604399\n",
      "'train_loss05_29.csv' saved.\n",
      "'valid_loss05_29.csv' saved.\n",
      "'model13_forward05_29_last.pth' saved.\n",
      "'model13_forward05_29_best.pth' saved.\n",
      "- train minibatches = 1\n",
      "- valid minibatches = 1\n",
      "- test minibatches = 1\n"
     ]
    },
    {
     "data": {
      "application/vnd.jupyter.widget-view+json": {
       "model_id": "128b9aaba08b4f94bbb644c31c1e9f68",
       "version_major": 2,
       "version_minor": 0
      },
      "text/plain": [
       "Epochs loop:   0%|          | 0/40000 [00:00<?, ?it/s]"
      ]
     },
     "metadata": {},
     "output_type": "display_data"
    },
    {
     "name": "stdout",
     "output_type": "stream",
     "text": [
      "Summary:\n",
      "-learning rate = 0.10000\n",
      "-path 1 has early stopped:\n",
      " 8000 iterations with no improvement in train loss.\n",
      "-Model saved after iteration 503.\n",
      "-Train.  Loss=0.0190108\n",
      "-Valid.  Loss=0.0659665\n",
      "'train_loss05_30.csv' saved.\n",
      "'valid_loss05_30.csv' saved.\n",
      "'model13_forward05_30_last.pth' saved.\n",
      "'model13_forward05_30_best.pth' saved.\n",
      "- train minibatches = 1\n",
      "- valid minibatches = 1\n",
      "- test minibatches = 1\n"
     ]
    },
    {
     "data": {
      "application/vnd.jupyter.widget-view+json": {
       "model_id": "bd297ad748514ae9baf10c735c526aea",
       "version_major": 2,
       "version_minor": 0
      },
      "text/plain": [
       "Epochs loop:   0%|          | 0/40000 [00:00<?, ?it/s]"
      ]
     },
     "metadata": {},
     "output_type": "display_data"
    },
    {
     "name": "stdout",
     "output_type": "stream",
     "text": [
      "Summary:\n",
      "-learning rate = 0.10000\n",
      "-path 1 has early stopped:\n",
      " 8000 iterations with no improvement in train loss.\n",
      "-Model saved after iteration 1031.\n",
      "-Train.  Loss=0.0072971\n",
      "-Valid.  Loss=0.0449833\n",
      "'train_loss05_31.csv' saved.\n",
      "'valid_loss05_31.csv' saved.\n",
      "'model13_forward05_31_last.pth' saved.\n",
      "'model13_forward05_31_best.pth' saved.\n",
      "- train minibatches = 1\n",
      "- valid minibatches = 1\n",
      "- test minibatches = 1\n"
     ]
    },
    {
     "data": {
      "application/vnd.jupyter.widget-view+json": {
       "model_id": "7f35539176bc44f5a160b95cc980a6f5",
       "version_major": 2,
       "version_minor": 0
      },
      "text/plain": [
       "Epochs loop:   0%|          | 0/40000 [00:00<?, ?it/s]"
      ]
     },
     "metadata": {},
     "output_type": "display_data"
    },
    {
     "name": "stdout",
     "output_type": "stream",
     "text": [
      "Summary:\n",
      "-learning rate = 0.10000\n",
      "-path 1 has early stopped:\n",
      " 8000 iterations with no improvement in train loss.\n",
      "-Model saved after iteration 524.\n",
      "-Train.  Loss=0.0189088\n",
      "-Valid.  Loss=0.0576783\n",
      "'train_loss05_32.csv' saved.\n",
      "'valid_loss05_32.csv' saved.\n",
      "'model13_forward05_32_last.pth' saved.\n",
      "'model13_forward05_32_best.pth' saved.\n",
      "- train minibatches = 1\n",
      "- valid minibatches = 1\n",
      "- test minibatches = 1\n"
     ]
    },
    {
     "data": {
      "application/vnd.jupyter.widget-view+json": {
       "model_id": "2cb796c1e97d4a7fbcdd9ed3e29aeadc",
       "version_major": 2,
       "version_minor": 0
      },
      "text/plain": [
       "Epochs loop:   0%|          | 0/40000 [00:00<?, ?it/s]"
      ]
     },
     "metadata": {},
     "output_type": "display_data"
    },
    {
     "name": "stdout",
     "output_type": "stream",
     "text": [
      "Summary:\n",
      "-learning rate = 0.10000\n",
      "-path 1 has early stopped:\n",
      " 8000 iterations with no improvement in train loss.\n",
      "-Model saved after iteration 597.\n",
      "-Train.  Loss=0.0133478\n",
      "-Valid.  Loss=0.0670248\n",
      "'train_loss05_33.csv' saved.\n",
      "'valid_loss05_33.csv' saved.\n",
      "'model13_forward05_33_last.pth' saved.\n",
      "'model13_forward05_33_best.pth' saved.\n",
      "- train minibatches = 1\n",
      "- valid minibatches = 1\n",
      "- test minibatches = 1\n"
     ]
    },
    {
     "data": {
      "application/vnd.jupyter.widget-view+json": {
       "model_id": "90d4b572e11945e5b988f1d70c866dba",
       "version_major": 2,
       "version_minor": 0
      },
      "text/plain": [
       "Epochs loop:   0%|          | 0/40000 [00:00<?, ?it/s]"
      ]
     },
     "metadata": {},
     "output_type": "display_data"
    },
    {
     "name": "stdout",
     "output_type": "stream",
     "text": [
      "Summary:\n",
      "-learning rate = 0.10000\n",
      "-path 1 has early stopped:\n",
      " 8000 iterations with no improvement in train loss.\n",
      "-Model saved after iteration 345.\n",
      "-Train.  Loss=0.0233083\n",
      "-Valid.  Loss=0.0984663\n",
      "'train_loss05_34.csv' saved.\n",
      "'valid_loss05_34.csv' saved.\n",
      "'model13_forward05_34_last.pth' saved.\n",
      "'model13_forward05_34_best.pth' saved.\n",
      "- train minibatches = 1\n",
      "- valid minibatches = 1\n",
      "- test minibatches = 1\n"
     ]
    },
    {
     "data": {
      "application/vnd.jupyter.widget-view+json": {
       "model_id": "d55bec02a991421a814ab3262ca40428",
       "version_major": 2,
       "version_minor": 0
      },
      "text/plain": [
       "Epochs loop:   0%|          | 0/40000 [00:00<?, ?it/s]"
      ]
     },
     "metadata": {},
     "output_type": "display_data"
    },
    {
     "name": "stdout",
     "output_type": "stream",
     "text": [
      "Summary:\n",
      "-learning rate = 0.10000\n",
      "-path 1 has early stopped:\n",
      " 8000 iterations with no improvement in train loss.\n",
      "-Model saved after iteration 585.\n",
      "-Train.  Loss=0.0161302\n",
      "-Valid.  Loss=0.0384131\n",
      "'train_loss05_35.csv' saved.\n",
      "'valid_loss05_35.csv' saved.\n",
      "'model13_forward05_35_last.pth' saved.\n",
      "'model13_forward05_35_best.pth' saved.\n",
      "- train minibatches = 1\n",
      "- valid minibatches = 1\n",
      "- test minibatches = 1\n"
     ]
    },
    {
     "data": {
      "application/vnd.jupyter.widget-view+json": {
       "model_id": "0ef41edfb6964938bdd3a2dbf128afb4",
       "version_major": 2,
       "version_minor": 0
      },
      "text/plain": [
       "Epochs loop:   0%|          | 0/40000 [00:00<?, ?it/s]"
      ]
     },
     "metadata": {},
     "output_type": "display_data"
    },
    {
     "name": "stdout",
     "output_type": "stream",
     "text": [
      "Summary:\n",
      "-learning rate = 0.10000\n",
      "-path 1 has early stopped:\n",
      " 8000 iterations with no improvement in train loss.\n",
      "-Model saved after iteration 660.\n",
      "-Train.  Loss=0.0142798\n",
      "-Valid.  Loss=0.0549180\n",
      "'train_loss05_36.csv' saved.\n",
      "'valid_loss05_36.csv' saved.\n",
      "'model13_forward05_36_last.pth' saved.\n",
      "'model13_forward05_36_best.pth' saved.\n",
      "- train minibatches = 1\n",
      "- valid minibatches = 1\n",
      "- test minibatches = 1\n"
     ]
    },
    {
     "data": {
      "application/vnd.jupyter.widget-view+json": {
       "model_id": "290db46a856040119ae69a81aad946ee",
       "version_major": 2,
       "version_minor": 0
      },
      "text/plain": [
       "Epochs loop:   0%|          | 0/40000 [00:00<?, ?it/s]"
      ]
     },
     "metadata": {},
     "output_type": "display_data"
    },
    {
     "name": "stdout",
     "output_type": "stream",
     "text": [
      "Summary:\n",
      "-learning rate = 0.10000\n",
      "-path 1 has early stopped:\n",
      " 8000 iterations with no improvement in train loss.\n",
      "-Model saved after iteration 551.\n",
      "-Train.  Loss=0.0151432\n",
      "-Valid.  Loss=0.0389560\n",
      "'train_loss05_37.csv' saved.\n",
      "'valid_loss05_37.csv' saved.\n",
      "'model13_forward05_37_last.pth' saved.\n",
      "'model13_forward05_37_best.pth' saved.\n",
      "- train minibatches = 1\n",
      "- valid minibatches = 1\n",
      "- test minibatches = 1\n"
     ]
    },
    {
     "data": {
      "application/vnd.jupyter.widget-view+json": {
       "model_id": "214ad82f0beb4fee8036cfc05a4d6f08",
       "version_major": 2,
       "version_minor": 0
      },
      "text/plain": [
       "Epochs loop:   0%|          | 0/40000 [00:00<?, ?it/s]"
      ]
     },
     "metadata": {},
     "output_type": "display_data"
    },
    {
     "name": "stdout",
     "output_type": "stream",
     "text": [
      "Summary:\n",
      "-learning rate = 0.10000\n",
      "-path 1 has early stopped:\n",
      " 8000 iterations with no improvement in train loss.\n",
      "-Model saved after iteration 601.\n",
      "-Train.  Loss=0.0150200\n",
      "-Valid.  Loss=0.0594062\n",
      "'train_loss05_38.csv' saved.\n",
      "'valid_loss05_38.csv' saved.\n",
      "'model13_forward05_38_last.pth' saved.\n",
      "'model13_forward05_38_best.pth' saved.\n",
      "- train minibatches = 1\n",
      "- valid minibatches = 1\n",
      "- test minibatches = 1\n"
     ]
    },
    {
     "data": {
      "application/vnd.jupyter.widget-view+json": {
       "model_id": "5efbfedb0096409ea96a5c20f00fef0f",
       "version_major": 2,
       "version_minor": 0
      },
      "text/plain": [
       "Epochs loop:   0%|          | 0/40000 [00:00<?, ?it/s]"
      ]
     },
     "metadata": {},
     "output_type": "display_data"
    },
    {
     "name": "stdout",
     "output_type": "stream",
     "text": [
      "Summary:\n",
      "-learning rate = 0.10000\n",
      "-path 1 has early stopped:\n",
      " 8000 iterations with no improvement in train loss.\n",
      "-Model saved after iteration 511.\n",
      "-Train.  Loss=0.0160018\n",
      "-Valid.  Loss=0.0563262\n",
      "'train_loss05_39.csv' saved.\n",
      "'valid_loss05_39.csv' saved.\n",
      "'model13_forward05_39_last.pth' saved.\n",
      "'model13_forward05_39_best.pth' saved.\n",
      "- train minibatches = 1\n",
      "- valid minibatches = 1\n",
      "- test minibatches = 1\n"
     ]
    },
    {
     "data": {
      "application/vnd.jupyter.widget-view+json": {
       "model_id": "3f1e33de9897400c9906df875b7cb47e",
       "version_major": 2,
       "version_minor": 0
      },
      "text/plain": [
       "Epochs loop:   0%|          | 0/40000 [00:00<?, ?it/s]"
      ]
     },
     "metadata": {},
     "output_type": "display_data"
    },
    {
     "name": "stdout",
     "output_type": "stream",
     "text": [
      "Summary:\n",
      "-learning rate = 0.10000\n",
      "-path 1 has early stopped:\n",
      " 8000 iterations with no improvement in train loss.\n",
      "-Model saved after iteration 554.\n",
      "-Train.  Loss=0.0148435\n",
      "-Valid.  Loss=0.0657218\n",
      "'train_loss05_40.csv' saved.\n",
      "'valid_loss05_40.csv' saved.\n",
      "'model13_forward05_40_last.pth' saved.\n",
      "'model13_forward05_40_best.pth' saved.\n",
      "- train minibatches = 1\n",
      "- valid minibatches = 1\n",
      "- test minibatches = 1\n"
     ]
    },
    {
     "data": {
      "application/vnd.jupyter.widget-view+json": {
       "model_id": "ff95bf5f5379476e923fd1264c8cff19",
       "version_major": 2,
       "version_minor": 0
      },
      "text/plain": [
       "Epochs loop:   0%|          | 0/40000 [00:00<?, ?it/s]"
      ]
     },
     "metadata": {},
     "output_type": "display_data"
    },
    {
     "name": "stdout",
     "output_type": "stream",
     "text": [
      "Summary:\n",
      "-learning rate = 0.10000\n",
      "-path 1 has early stopped:\n",
      " 8000 iterations with no improvement in train loss.\n",
      "-Model saved after iteration 441.\n",
      "-Train.  Loss=0.0202526\n",
      "-Valid.  Loss=0.0679992\n",
      "'train_loss05_41.csv' saved.\n",
      "'valid_loss05_41.csv' saved.\n",
      "'model13_forward05_41_last.pth' saved.\n",
      "'model13_forward05_41_best.pth' saved.\n",
      "- train minibatches = 1\n",
      "- valid minibatches = 1\n",
      "- test minibatches = 1\n"
     ]
    },
    {
     "data": {
      "application/vnd.jupyter.widget-view+json": {
       "model_id": "dcb364a1ed584f918d4d3fce7fa7850f",
       "version_major": 2,
       "version_minor": 0
      },
      "text/plain": [
       "Epochs loop:   0%|          | 0/40000 [00:00<?, ?it/s]"
      ]
     },
     "metadata": {},
     "output_type": "display_data"
    },
    {
     "name": "stdout",
     "output_type": "stream",
     "text": [
      "Summary:\n",
      "-learning rate = 0.10000\n",
      "-path 1 has early stopped:\n",
      " 8000 iterations with no improvement in train loss.\n",
      "-Model saved after iteration 525.\n",
      "-Train.  Loss=0.0160976\n",
      "-Valid.  Loss=0.0547111\n",
      "'train_loss05_42.csv' saved.\n",
      "'valid_loss05_42.csv' saved.\n",
      "'model13_forward05_42_last.pth' saved.\n",
      "'model13_forward05_42_best.pth' saved.\n",
      "- train minibatches = 1\n",
      "- valid minibatches = 1\n",
      "- test minibatches = 1\n"
     ]
    },
    {
     "data": {
      "application/vnd.jupyter.widget-view+json": {
       "model_id": "537f7cdde45949dba7a2f496b01b9e4f",
       "version_major": 2,
       "version_minor": 0
      },
      "text/plain": [
       "Epochs loop:   0%|          | 0/40000 [00:00<?, ?it/s]"
      ]
     },
     "metadata": {},
     "output_type": "display_data"
    },
    {
     "name": "stdout",
     "output_type": "stream",
     "text": [
      "Summary:\n",
      "-learning rate = 0.10000\n",
      "-path 1 has early stopped:\n",
      " 8000 iterations with no improvement in train loss.\n",
      "-Model saved after iteration 518.\n",
      "-Train.  Loss=0.0170772\n",
      "-Valid.  Loss=0.0737230\n",
      "'train_loss05_43.csv' saved.\n",
      "'valid_loss05_43.csv' saved.\n",
      "'model13_forward05_43_last.pth' saved.\n",
      "'model13_forward05_43_best.pth' saved.\n",
      "- train minibatches = 1\n",
      "- valid minibatches = 1\n",
      "- test minibatches = 1\n"
     ]
    },
    {
     "data": {
      "application/vnd.jupyter.widget-view+json": {
       "model_id": "6b8fcd063828465ab879886d33131a73",
       "version_major": 2,
       "version_minor": 0
      },
      "text/plain": [
       "Epochs loop:   0%|          | 0/40000 [00:00<?, ?it/s]"
      ]
     },
     "metadata": {},
     "output_type": "display_data"
    },
    {
     "name": "stdout",
     "output_type": "stream",
     "text": [
      "Summary:\n",
      "-learning rate = 0.10000\n",
      "-path 1 has early stopped:\n",
      " 8000 iterations with no improvement in train loss.\n",
      "-Model saved after iteration 529.\n",
      "-Train.  Loss=0.0141719\n",
      "-Valid.  Loss=0.0703406\n",
      "'train_loss05_44.csv' saved.\n",
      "'valid_loss05_44.csv' saved.\n",
      "'model13_forward05_44_last.pth' saved.\n",
      "'model13_forward05_44_best.pth' saved.\n",
      "- train minibatches = 1\n",
      "- valid minibatches = 1\n",
      "- test minibatches = 1\n"
     ]
    },
    {
     "data": {
      "application/vnd.jupyter.widget-view+json": {
       "model_id": "ba6658380d474c1ab4e6d74660208f9b",
       "version_major": 2,
       "version_minor": 0
      },
      "text/plain": [
       "Epochs loop:   0%|          | 0/40000 [00:00<?, ?it/s]"
      ]
     },
     "metadata": {},
     "output_type": "display_data"
    },
    {
     "name": "stdout",
     "output_type": "stream",
     "text": [
      "Summary:\n",
      "-learning rate = 0.10000\n",
      "-path 1 has early stopped:\n",
      " 8000 iterations with no improvement in train loss.\n",
      "-Model saved after iteration 680.\n",
      "-Train.  Loss=0.0120341\n",
      "-Valid.  Loss=0.0549054\n",
      "'train_loss05_45.csv' saved.\n",
      "'valid_loss05_45.csv' saved.\n",
      "'model13_forward05_45_last.pth' saved.\n",
      "'model13_forward05_45_best.pth' saved.\n",
      "- train minibatches = 1\n",
      "- valid minibatches = 1\n",
      "- test minibatches = 1\n"
     ]
    },
    {
     "data": {
      "application/vnd.jupyter.widget-view+json": {
       "model_id": "026e0d1ae2ce48eeba8e7c1da885172c",
       "version_major": 2,
       "version_minor": 0
      },
      "text/plain": [
       "Epochs loop:   0%|          | 0/40000 [00:00<?, ?it/s]"
      ]
     },
     "metadata": {},
     "output_type": "display_data"
    },
    {
     "name": "stdout",
     "output_type": "stream",
     "text": [
      "Summary:\n",
      "-learning rate = 0.10000\n",
      "-path 1 has early stopped:\n",
      " 8000 iterations with no improvement in train loss.\n",
      "-Model saved after iteration 460.\n",
      "-Train.  Loss=0.0178124\n",
      "-Valid.  Loss=0.0676140\n",
      "'train_loss05_46.csv' saved.\n",
      "'valid_loss05_46.csv' saved.\n",
      "'model13_forward05_46_last.pth' saved.\n",
      "'model13_forward05_46_best.pth' saved.\n",
      "- train minibatches = 1\n",
      "- valid minibatches = 1\n",
      "- test minibatches = 1\n"
     ]
    },
    {
     "data": {
      "application/vnd.jupyter.widget-view+json": {
       "model_id": "9102d9bcfde8440f8ed88210a055ea9b",
       "version_major": 2,
       "version_minor": 0
      },
      "text/plain": [
       "Epochs loop:   0%|          | 0/40000 [00:00<?, ?it/s]"
      ]
     },
     "metadata": {},
     "output_type": "display_data"
    },
    {
     "name": "stdout",
     "output_type": "stream",
     "text": [
      "Summary:\n",
      "-learning rate = 0.10000\n",
      "-path 1 has early stopped:\n",
      " 8000 iterations with no improvement in train loss.\n",
      "-Model saved after iteration 470.\n",
      "-Train.  Loss=0.0176803\n",
      "-Valid.  Loss=0.0850250\n",
      "'train_loss05_47.csv' saved.\n",
      "'valid_loss05_47.csv' saved.\n",
      "'model13_forward05_47_last.pth' saved.\n",
      "'model13_forward05_47_best.pth' saved.\n",
      "- train minibatches = 1\n",
      "- valid minibatches = 1\n",
      "- test minibatches = 1\n"
     ]
    },
    {
     "data": {
      "application/vnd.jupyter.widget-view+json": {
       "model_id": "ee572b6be0114e3c9232cfaef5ae8a2b",
       "version_major": 2,
       "version_minor": 0
      },
      "text/plain": [
       "Epochs loop:   0%|          | 0/40000 [00:00<?, ?it/s]"
      ]
     },
     "metadata": {},
     "output_type": "display_data"
    },
    {
     "name": "stdout",
     "output_type": "stream",
     "text": [
      "Summary:\n",
      "-learning rate = 0.10000\n",
      "-path 1 has early stopped:\n",
      " 8000 iterations with no improvement in train loss.\n",
      "-Model saved after iteration 431.\n",
      "-Train.  Loss=0.0209997\n",
      "-Valid.  Loss=0.0695290\n",
      "'train_loss05_48.csv' saved.\n",
      "'valid_loss05_48.csv' saved.\n",
      "'model13_forward05_48_last.pth' saved.\n",
      "'model13_forward05_48_best.pth' saved.\n",
      "- train minibatches = 1\n",
      "- valid minibatches = 1\n",
      "- test minibatches = 1\n"
     ]
    },
    {
     "data": {
      "application/vnd.jupyter.widget-view+json": {
       "model_id": "d6111b2effbb471aa11726ec2f9f7c4a",
       "version_major": 2,
       "version_minor": 0
      },
      "text/plain": [
       "Epochs loop:   0%|          | 0/40000 [00:00<?, ?it/s]"
      ]
     },
     "metadata": {},
     "output_type": "display_data"
    },
    {
     "name": "stdout",
     "output_type": "stream",
     "text": [
      "Summary:\n",
      "-learning rate = 0.10000\n",
      "-path 1 has early stopped:\n",
      " 8000 iterations with no improvement in train loss.\n",
      "-Model saved after iteration 460.\n",
      "-Train.  Loss=0.0190455\n",
      "-Valid.  Loss=0.0917542\n",
      "'train_loss05_49.csv' saved.\n",
      "'valid_loss05_49.csv' saved.\n",
      "'model13_forward05_49_last.pth' saved.\n",
      "'model13_forward05_49_best.pth' saved.\n",
      "- train minibatches = 1\n",
      "- valid minibatches = 1\n",
      "- test minibatches = 1\n"
     ]
    },
    {
     "data": {
      "application/vnd.jupyter.widget-view+json": {
       "model_id": "64472b3f2d09495986be65540c06a5b5",
       "version_major": 2,
       "version_minor": 0
      },
      "text/plain": [
       "Epochs loop:   0%|          | 0/40000 [00:00<?, ?it/s]"
      ]
     },
     "metadata": {},
     "output_type": "display_data"
    },
    {
     "name": "stdout",
     "output_type": "stream",
     "text": [
      "Summary:\n",
      "-learning rate = 0.10000\n",
      "-path 1 has early stopped:\n",
      " 8000 iterations with no improvement in train loss.\n",
      "-Model saved after iteration 481.\n",
      "-Train.  Loss=0.0185426\n",
      "-Valid.  Loss=0.0806087\n",
      "'train_loss05_50.csv' saved.\n",
      "'valid_loss05_50.csv' saved.\n",
      "'model13_forward05_50_last.pth' saved.\n",
      "'model13_forward05_50_best.pth' saved.\n",
      "- train minibatches = 1\n",
      "- valid minibatches = 1\n",
      "- test minibatches = 1\n"
     ]
    },
    {
     "data": {
      "application/vnd.jupyter.widget-view+json": {
       "model_id": "102da9b269424b0f9937fe414df89e1c",
       "version_major": 2,
       "version_minor": 0
      },
      "text/plain": [
       "Epochs loop:   0%|          | 0/40000 [00:00<?, ?it/s]"
      ]
     },
     "metadata": {},
     "output_type": "display_data"
    },
    {
     "name": "stdout",
     "output_type": "stream",
     "text": [
      "Summary:\n",
      "-learning rate = 0.10000\n",
      "-path 1 has early stopped:\n",
      " 8000 iterations with no improvement in train loss.\n",
      "-Model saved after iteration 484.\n",
      "-Train.  Loss=0.0194237\n",
      "-Valid.  Loss=0.0741022\n",
      "'train_loss05_51.csv' saved.\n",
      "'valid_loss05_51.csv' saved.\n",
      "'model13_forward05_51_last.pth' saved.\n",
      "'model13_forward05_51_best.pth' saved.\n",
      "- train minibatches = 1\n",
      "- valid minibatches = 1\n",
      "- test minibatches = 1\n"
     ]
    },
    {
     "data": {
      "application/vnd.jupyter.widget-view+json": {
       "model_id": "26fcdcba446f46929d3985ede4b2b244",
       "version_major": 2,
       "version_minor": 0
      },
      "text/plain": [
       "Epochs loop:   0%|          | 0/40000 [00:00<?, ?it/s]"
      ]
     },
     "metadata": {},
     "output_type": "display_data"
    },
    {
     "name": "stdout",
     "output_type": "stream",
     "text": [
      "Summary:\n",
      "-learning rate = 0.10000\n",
      "-path 1 has early stopped:\n",
      " 8000 iterations with no improvement in train loss.\n",
      "-Model saved after iteration 468.\n",
      "-Train.  Loss=0.0165214\n",
      "-Valid.  Loss=0.0668386\n",
      "'train_loss05_52.csv' saved.\n",
      "'valid_loss05_52.csv' saved.\n",
      "'model13_forward05_52_last.pth' saved.\n",
      "'model13_forward05_52_best.pth' saved.\n",
      "- train minibatches = 1\n",
      "- valid minibatches = 1\n",
      "- test minibatches = 1\n"
     ]
    },
    {
     "data": {
      "application/vnd.jupyter.widget-view+json": {
       "model_id": "59c32a81bd854314ab244d758dd75f25",
       "version_major": 2,
       "version_minor": 0
      },
      "text/plain": [
       "Epochs loop:   0%|          | 0/40000 [00:00<?, ?it/s]"
      ]
     },
     "metadata": {},
     "output_type": "display_data"
    },
    {
     "name": "stdout",
     "output_type": "stream",
     "text": [
      "Summary:\n",
      "-learning rate = 0.10000\n",
      "-path 1 has early stopped:\n",
      " 8000 iterations with no improvement in train loss.\n",
      "-Model saved after iteration 385.\n",
      "-Train.  Loss=0.0222026\n",
      "-Valid.  Loss=0.0880227\n",
      "'train_loss05_53.csv' saved.\n",
      "'valid_loss05_53.csv' saved.\n",
      "'model13_forward05_53_last.pth' saved.\n",
      "'model13_forward05_53_best.pth' saved.\n",
      "- train minibatches = 1\n",
      "- valid minibatches = 1\n",
      "- test minibatches = 1\n"
     ]
    },
    {
     "data": {
      "application/vnd.jupyter.widget-view+json": {
       "model_id": "4a9d657c247d49f89a1a753016f73e7b",
       "version_major": 2,
       "version_minor": 0
      },
      "text/plain": [
       "Epochs loop:   0%|          | 0/40000 [00:00<?, ?it/s]"
      ]
     },
     "metadata": {},
     "output_type": "display_data"
    },
    {
     "name": "stdout",
     "output_type": "stream",
     "text": [
      "Summary:\n",
      "-learning rate = 0.10000\n",
      "-path 1 has early stopped:\n",
      " 8000 iterations with no improvement in train loss.\n",
      "-Model saved after iteration 447.\n",
      "-Train.  Loss=0.0204966\n",
      "-Valid.  Loss=0.0586368\n",
      "'train_loss05_54.csv' saved.\n",
      "'valid_loss05_54.csv' saved.\n",
      "'model13_forward05_54_last.pth' saved.\n",
      "'model13_forward05_54_best.pth' saved.\n",
      "- train minibatches = 1\n",
      "- valid minibatches = 1\n",
      "- test minibatches = 1\n"
     ]
    },
    {
     "data": {
      "application/vnd.jupyter.widget-view+json": {
       "model_id": "7884fe3de25a4c91867acae649ab94db",
       "version_major": 2,
       "version_minor": 0
      },
      "text/plain": [
       "Epochs loop:   0%|          | 0/40000 [00:00<?, ?it/s]"
      ]
     },
     "metadata": {},
     "output_type": "display_data"
    },
    {
     "name": "stdout",
     "output_type": "stream",
     "text": [
      "Summary:\n",
      "-learning rate = 0.10000\n",
      "-path 1 has early stopped:\n",
      " 8000 iterations with no improvement in train loss.\n",
      "-Model saved after iteration 540.\n",
      "-Train.  Loss=0.0153345\n",
      "-Valid.  Loss=0.0637103\n",
      "'train_loss05_55.csv' saved.\n",
      "'valid_loss05_55.csv' saved.\n",
      "'model13_forward05_55_last.pth' saved.\n",
      "'model13_forward05_55_best.pth' saved.\n",
      "- train minibatches = 1\n",
      "- valid minibatches = 1\n",
      "- test minibatches = 1\n"
     ]
    },
    {
     "data": {
      "application/vnd.jupyter.widget-view+json": {
       "model_id": "7f37e2333e2d452cadec4692810ac633",
       "version_major": 2,
       "version_minor": 0
      },
      "text/plain": [
       "Epochs loop:   0%|          | 0/40000 [00:00<?, ?it/s]"
      ]
     },
     "metadata": {},
     "output_type": "display_data"
    },
    {
     "name": "stdout",
     "output_type": "stream",
     "text": [
      "Summary:\n",
      "-learning rate = 0.10000\n",
      "-path 1 has early stopped:\n",
      " 8000 iterations with no improvement in train loss.\n",
      "-Model saved after iteration 459.\n",
      "-Train.  Loss=0.0216483\n",
      "-Valid.  Loss=0.0599559\n",
      "'train_loss05_56.csv' saved.\n",
      "'valid_loss05_56.csv' saved.\n",
      "'model13_forward05_56_last.pth' saved.\n",
      "'model13_forward05_56_best.pth' saved.\n",
      "- train minibatches = 1\n",
      "- valid minibatches = 1\n",
      "- test minibatches = 1\n"
     ]
    },
    {
     "data": {
      "application/vnd.jupyter.widget-view+json": {
       "model_id": "503acb3a41a040eca55087e784f69e0d",
       "version_major": 2,
       "version_minor": 0
      },
      "text/plain": [
       "Epochs loop:   0%|          | 0/40000 [00:00<?, ?it/s]"
      ]
     },
     "metadata": {},
     "output_type": "display_data"
    },
    {
     "name": "stdout",
     "output_type": "stream",
     "text": [
      "Summary:\n",
      "-learning rate = 0.10000\n",
      "-path 1 has early stopped:\n",
      " 8000 iterations with no improvement in train loss.\n",
      "-Model saved after iteration 1336.\n",
      "-Train.  Loss=0.0074541\n",
      "-Valid.  Loss=0.0497199\n",
      "'train_loss05_57.csv' saved.\n",
      "'valid_loss05_57.csv' saved.\n",
      "'model13_forward05_57_last.pth' saved.\n",
      "'model13_forward05_57_best.pth' saved.\n",
      "- train minibatches = 1\n",
      "- valid minibatches = 1\n",
      "- test minibatches = 1\n"
     ]
    },
    {
     "data": {
      "application/vnd.jupyter.widget-view+json": {
       "model_id": "f28adcb0ec0243c8ba1bc2073f4a6bdd",
       "version_major": 2,
       "version_minor": 0
      },
      "text/plain": [
       "Epochs loop:   0%|          | 0/40000 [00:00<?, ?it/s]"
      ]
     },
     "metadata": {},
     "output_type": "display_data"
    },
    {
     "name": "stdout",
     "output_type": "stream",
     "text": [
      "Summary:\n",
      "-learning rate = 0.10000\n",
      "-path 1 has early stopped:\n",
      " 8000 iterations with no improvement in train loss.\n",
      "-Model saved after iteration 461.\n",
      "-Train.  Loss=0.0190460\n",
      "-Valid.  Loss=0.0811079\n",
      "'train_loss05_58.csv' saved.\n",
      "'valid_loss05_58.csv' saved.\n",
      "'model13_forward05_58_last.pth' saved.\n",
      "'model13_forward05_58_best.pth' saved.\n",
      "- train minibatches = 1\n",
      "- valid minibatches = 1\n",
      "- test minibatches = 1\n"
     ]
    },
    {
     "data": {
      "application/vnd.jupyter.widget-view+json": {
       "model_id": "e39fd03e6843458ea3cb7f7c6c586b78",
       "version_major": 2,
       "version_minor": 0
      },
      "text/plain": [
       "Epochs loop:   0%|          | 0/40000 [00:00<?, ?it/s]"
      ]
     },
     "metadata": {},
     "output_type": "display_data"
    },
    {
     "name": "stdout",
     "output_type": "stream",
     "text": [
      "Summary:\n",
      "-learning rate = 0.10000\n",
      "-path 1 has early stopped:\n",
      " 8000 iterations with no improvement in train loss.\n",
      "-Model saved after iteration 708.\n",
      "-Train.  Loss=0.0124981\n",
      "-Valid.  Loss=0.0368256\n",
      "'train_loss05_59.csv' saved.\n",
      "'valid_loss05_59.csv' saved.\n",
      "'model13_forward05_59_last.pth' saved.\n",
      "'model13_forward05_59_best.pth' saved.\n",
      "- train minibatches = 1\n",
      "- valid minibatches = 1\n",
      "- test minibatches = 1\n"
     ]
    },
    {
     "data": {
      "application/vnd.jupyter.widget-view+json": {
       "model_id": "ba0d3e9e7d74464488730b93cf9c4bc2",
       "version_major": 2,
       "version_minor": 0
      },
      "text/plain": [
       "Epochs loop:   0%|          | 0/40000 [00:00<?, ?it/s]"
      ]
     },
     "metadata": {},
     "output_type": "display_data"
    },
    {
     "name": "stdout",
     "output_type": "stream",
     "text": [
      "Summary:\n",
      "-learning rate = 0.10000\n",
      "-path 1 has early stopped:\n",
      " 8000 iterations with no improvement in train loss.\n",
      "-Model saved after iteration 578.\n",
      "-Train.  Loss=0.0135025\n",
      "-Valid.  Loss=0.0690002\n",
      "'train_loss05_60.csv' saved.\n",
      "'valid_loss05_60.csv' saved.\n",
      "'model13_forward05_60_last.pth' saved.\n",
      "'model13_forward05_60_best.pth' saved.\n",
      "- train minibatches = 1\n",
      "- valid minibatches = 1\n",
      "- test minibatches = 1\n"
     ]
    },
    {
     "data": {
      "application/vnd.jupyter.widget-view+json": {
       "model_id": "f627288f3c334d0d99a4681134338127",
       "version_major": 2,
       "version_minor": 0
      },
      "text/plain": [
       "Epochs loop:   0%|          | 0/40000 [00:00<?, ?it/s]"
      ]
     },
     "metadata": {},
     "output_type": "display_data"
    },
    {
     "name": "stdout",
     "output_type": "stream",
     "text": [
      "Summary:\n",
      "-learning rate = 0.10000\n",
      "-path 1 has early stopped:\n",
      " 8000 iterations with no improvement in train loss.\n",
      "-Model saved after iteration 509.\n",
      "-Train.  Loss=0.0158434\n",
      "-Valid.  Loss=0.0652271\n",
      "'train_loss05_61.csv' saved.\n",
      "'valid_loss05_61.csv' saved.\n",
      "'model13_forward05_61_last.pth' saved.\n",
      "'model13_forward05_61_best.pth' saved.\n",
      "- train minibatches = 1\n",
      "- valid minibatches = 1\n",
      "- test minibatches = 1\n"
     ]
    },
    {
     "data": {
      "application/vnd.jupyter.widget-view+json": {
       "model_id": "d9280c21b01a423881c92df4245b4d08",
       "version_major": 2,
       "version_minor": 0
      },
      "text/plain": [
       "Epochs loop:   0%|          | 0/40000 [00:00<?, ?it/s]"
      ]
     },
     "metadata": {},
     "output_type": "display_data"
    },
    {
     "name": "stdout",
     "output_type": "stream",
     "text": [
      "Summary:\n",
      "-learning rate = 0.10000\n",
      "-path 1 has early stopped:\n",
      " 8000 iterations with no improvement in train loss.\n",
      "-Model saved after iteration 662.\n",
      "-Train.  Loss=0.0117657\n",
      "-Valid.  Loss=0.0658753\n",
      "'train_loss05_62.csv' saved.\n",
      "'valid_loss05_62.csv' saved.\n",
      "'model13_forward05_62_last.pth' saved.\n",
      "'model13_forward05_62_best.pth' saved.\n",
      "- train minibatches = 1\n",
      "- valid minibatches = 1\n",
      "- test minibatches = 1\n"
     ]
    },
    {
     "data": {
      "application/vnd.jupyter.widget-view+json": {
       "model_id": "4ff8976b2215438883b249e3f2299c77",
       "version_major": 2,
       "version_minor": 0
      },
      "text/plain": [
       "Epochs loop:   0%|          | 0/40000 [00:00<?, ?it/s]"
      ]
     },
     "metadata": {},
     "output_type": "display_data"
    },
    {
     "name": "stdout",
     "output_type": "stream",
     "text": [
      "Summary:\n",
      "-learning rate = 0.10000\n",
      "-path 1 has early stopped:\n",
      " 8000 iterations with no improvement in train loss.\n",
      "-Model saved after iteration 614.\n",
      "-Train.  Loss=0.0159314\n",
      "-Valid.  Loss=0.0575273\n",
      "'train_loss05_63.csv' saved.\n",
      "'valid_loss05_63.csv' saved.\n",
      "'model13_forward05_63_last.pth' saved.\n",
      "'model13_forward05_63_best.pth' saved.\n",
      "- train minibatches = 1\n",
      "- valid minibatches = 1\n",
      "- test minibatches = 1\n"
     ]
    },
    {
     "data": {
      "application/vnd.jupyter.widget-view+json": {
       "model_id": "d0de2c38f58e46188c90bd8c77156f55",
       "version_major": 2,
       "version_minor": 0
      },
      "text/plain": [
       "Epochs loop:   0%|          | 0/40000 [00:00<?, ?it/s]"
      ]
     },
     "metadata": {},
     "output_type": "display_data"
    },
    {
     "name": "stdout",
     "output_type": "stream",
     "text": [
      "Summary:\n",
      "-learning rate = 0.10000\n",
      "-path 1 has early stopped:\n",
      " 8000 iterations with no improvement in train loss.\n",
      "-Model saved after iteration 466.\n",
      "-Train.  Loss=0.0177751\n",
      "-Valid.  Loss=0.0883926\n",
      "'train_loss05_64.csv' saved.\n",
      "'valid_loss05_64.csv' saved.\n",
      "'model13_forward05_64_last.pth' saved.\n",
      "'model13_forward05_64_best.pth' saved.\n",
      "- train minibatches = 1\n",
      "- valid minibatches = 1\n",
      "- test minibatches = 1\n"
     ]
    },
    {
     "data": {
      "application/vnd.jupyter.widget-view+json": {
       "model_id": "868fb3d48651473ea1d57c3d63d84cbc",
       "version_major": 2,
       "version_minor": 0
      },
      "text/plain": [
       "Epochs loop:   0%|          | 0/40000 [00:00<?, ?it/s]"
      ]
     },
     "metadata": {},
     "output_type": "display_data"
    },
    {
     "name": "stdout",
     "output_type": "stream",
     "text": [
      "Summary:\n",
      "-learning rate = 0.10000\n",
      "-path 1 has early stopped:\n",
      " 8000 iterations with no improvement in train loss.\n",
      "-Model saved after iteration 929.\n",
      "-Train.  Loss=0.0083224\n",
      "-Valid.  Loss=0.0607243\n",
      "'train_loss05_65.csv' saved.\n",
      "'valid_loss05_65.csv' saved.\n",
      "'model13_forward05_65_last.pth' saved.\n",
      "'model13_forward05_65_best.pth' saved.\n",
      "- train minibatches = 1\n",
      "- valid minibatches = 1\n",
      "- test minibatches = 1\n"
     ]
    },
    {
     "data": {
      "application/vnd.jupyter.widget-view+json": {
       "model_id": "c68085273edc453dbc8bda89cfde1a85",
       "version_major": 2,
       "version_minor": 0
      },
      "text/plain": [
       "Epochs loop:   0%|          | 0/40000 [00:00<?, ?it/s]"
      ]
     },
     "metadata": {},
     "output_type": "display_data"
    },
    {
     "name": "stdout",
     "output_type": "stream",
     "text": [
      "Summary:\n",
      "-learning rate = 0.10000\n",
      "-path 1 has early stopped:\n",
      " 8000 iterations with no improvement in train loss.\n",
      "-Model saved after iteration 630.\n",
      "-Train.  Loss=0.0137778\n",
      "-Valid.  Loss=0.0521603\n",
      "'train_loss05_66.csv' saved.\n",
      "'valid_loss05_66.csv' saved.\n",
      "'model13_forward05_66_last.pth' saved.\n",
      "'model13_forward05_66_best.pth' saved.\n",
      "- train minibatches = 1\n",
      "- valid minibatches = 1\n",
      "- test minibatches = 1\n"
     ]
    },
    {
     "data": {
      "application/vnd.jupyter.widget-view+json": {
       "model_id": "32b64ed94e0b4f80b662521d737cb185",
       "version_major": 2,
       "version_minor": 0
      },
      "text/plain": [
       "Epochs loop:   0%|          | 0/40000 [00:00<?, ?it/s]"
      ]
     },
     "metadata": {},
     "output_type": "display_data"
    },
    {
     "name": "stdout",
     "output_type": "stream",
     "text": [
      "Summary:\n",
      "-learning rate = 0.10000\n",
      "-path 1 has early stopped:\n",
      " 8000 iterations with no improvement in train loss.\n",
      "-Model saved after iteration 297.\n",
      "-Train.  Loss=0.0332017\n",
      "-Valid.  Loss=0.0746281\n",
      "'train_loss05_67.csv' saved.\n",
      "'valid_loss05_67.csv' saved.\n",
      "'model13_forward05_67_last.pth' saved.\n",
      "'model13_forward05_67_best.pth' saved.\n",
      "- train minibatches = 1\n",
      "- valid minibatches = 1\n",
      "- test minibatches = 1\n"
     ]
    },
    {
     "data": {
      "application/vnd.jupyter.widget-view+json": {
       "model_id": "86890f554d2a441e8622d6e589688baf",
       "version_major": 2,
       "version_minor": 0
      },
      "text/plain": [
       "Epochs loop:   0%|          | 0/40000 [00:00<?, ?it/s]"
      ]
     },
     "metadata": {},
     "output_type": "display_data"
    },
    {
     "name": "stdout",
     "output_type": "stream",
     "text": [
      "Summary:\n",
      "-learning rate = 0.10000\n",
      "-path 1 has early stopped:\n",
      " 8000 iterations with no improvement in train loss.\n",
      "-Model saved after iteration 423.\n",
      "-Train.  Loss=0.0200012\n",
      "-Valid.  Loss=0.0800553\n",
      "'train_loss05_68.csv' saved.\n",
      "'valid_loss05_68.csv' saved.\n",
      "'model13_forward05_68_last.pth' saved.\n",
      "'model13_forward05_68_best.pth' saved.\n",
      "- train minibatches = 1\n",
      "- valid minibatches = 1\n",
      "- test minibatches = 1\n"
     ]
    },
    {
     "data": {
      "application/vnd.jupyter.widget-view+json": {
       "model_id": "120049fd64da41549e444e618f37d9be",
       "version_major": 2,
       "version_minor": 0
      },
      "text/plain": [
       "Epochs loop:   0%|          | 0/40000 [00:00<?, ?it/s]"
      ]
     },
     "metadata": {},
     "output_type": "display_data"
    },
    {
     "name": "stdout",
     "output_type": "stream",
     "text": [
      "Summary:\n",
      "-learning rate = 0.10000\n",
      "-path 1 has early stopped:\n",
      " 8000 iterations with no improvement in train loss.\n",
      "-Model saved after iteration 629.\n",
      "-Train.  Loss=0.0143459\n",
      "-Valid.  Loss=0.0528732\n",
      "'train_loss05_69.csv' saved.\n",
      "'valid_loss05_69.csv' saved.\n",
      "'model13_forward05_69_last.pth' saved.\n",
      "'model13_forward05_69_best.pth' saved.\n",
      "- train minibatches = 1\n",
      "- valid minibatches = 1\n",
      "- test minibatches = 1\n"
     ]
    },
    {
     "data": {
      "application/vnd.jupyter.widget-view+json": {
       "model_id": "525e2ee9591f44c692c499c0315d513c",
       "version_major": 2,
       "version_minor": 0
      },
      "text/plain": [
       "Epochs loop:   0%|          | 0/40000 [00:00<?, ?it/s]"
      ]
     },
     "metadata": {},
     "output_type": "display_data"
    },
    {
     "name": "stdout",
     "output_type": "stream",
     "text": [
      "Summary:\n",
      "-learning rate = 0.10000\n",
      "-path 1 has early stopped:\n",
      " 8000 iterations with no improvement in train loss.\n",
      "-Model saved after iteration 459.\n",
      "-Train.  Loss=0.0186551\n",
      "-Valid.  Loss=0.0833336\n",
      "'train_loss05_70.csv' saved.\n",
      "'valid_loss05_70.csv' saved.\n",
      "'model13_forward05_70_last.pth' saved.\n",
      "'model13_forward05_70_best.pth' saved.\n",
      "- train minibatches = 1\n",
      "- valid minibatches = 1\n",
      "- test minibatches = 1\n"
     ]
    },
    {
     "data": {
      "application/vnd.jupyter.widget-view+json": {
       "model_id": "7fca9dbd2b624a5f993c7585f6758abc",
       "version_major": 2,
       "version_minor": 0
      },
      "text/plain": [
       "Epochs loop:   0%|          | 0/40000 [00:00<?, ?it/s]"
      ]
     },
     "metadata": {},
     "output_type": "display_data"
    },
    {
     "name": "stdout",
     "output_type": "stream",
     "text": [
      "Summary:\n",
      "-learning rate = 0.10000\n",
      "-path 1 has early stopped:\n",
      " 8000 iterations with no improvement in train loss.\n",
      "-Model saved after iteration 404.\n",
      "-Train.  Loss=0.0214109\n",
      "-Valid.  Loss=0.0766748\n",
      "'train_loss05_71.csv' saved.\n",
      "'valid_loss05_71.csv' saved.\n",
      "'model13_forward05_71_last.pth' saved.\n",
      "'model13_forward05_71_best.pth' saved.\n",
      "- train minibatches = 1\n",
      "- valid minibatches = 1\n",
      "- test minibatches = 1\n"
     ]
    },
    {
     "data": {
      "application/vnd.jupyter.widget-view+json": {
       "model_id": "7c2b6481a401424fba7c9ac5188fabc3",
       "version_major": 2,
       "version_minor": 0
      },
      "text/plain": [
       "Epochs loop:   0%|          | 0/40000 [00:00<?, ?it/s]"
      ]
     },
     "metadata": {},
     "output_type": "display_data"
    },
    {
     "name": "stdout",
     "output_type": "stream",
     "text": [
      "Summary:\n",
      "-learning rate = 0.10000\n",
      "-path 1 has early stopped:\n",
      " 8000 iterations with no improvement in train loss.\n",
      "-Model saved after iteration 582.\n",
      "-Train.  Loss=0.0145181\n",
      "-Valid.  Loss=0.0595532\n",
      "'train_loss05_72.csv' saved.\n",
      "'valid_loss05_72.csv' saved.\n",
      "'model13_forward05_72_last.pth' saved.\n",
      "'model13_forward05_72_best.pth' saved.\n",
      "- train minibatches = 1\n",
      "- valid minibatches = 1\n",
      "- test minibatches = 1\n"
     ]
    },
    {
     "data": {
      "application/vnd.jupyter.widget-view+json": {
       "model_id": "077609f5024c44cd9c2bc4e96c4fc77f",
       "version_major": 2,
       "version_minor": 0
      },
      "text/plain": [
       "Epochs loop:   0%|          | 0/40000 [00:00<?, ?it/s]"
      ]
     },
     "metadata": {},
     "output_type": "display_data"
    },
    {
     "name": "stdout",
     "output_type": "stream",
     "text": [
      "Summary:\n",
      "-learning rate = 0.10000\n",
      "-path 1 has early stopped:\n",
      " 8000 iterations with no improvement in train loss.\n",
      "-Model saved after iteration 439.\n",
      "-Train.  Loss=0.0177441\n",
      "-Valid.  Loss=0.0817470\n",
      "'train_loss05_73.csv' saved.\n",
      "'valid_loss05_73.csv' saved.\n",
      "'model13_forward05_73_last.pth' saved.\n",
      "'model13_forward05_73_best.pth' saved.\n",
      "- train minibatches = 1\n",
      "- valid minibatches = 1\n",
      "- test minibatches = 1\n"
     ]
    },
    {
     "data": {
      "application/vnd.jupyter.widget-view+json": {
       "model_id": "6abb9f2d2c46435cbab73fd079c148e1",
       "version_major": 2,
       "version_minor": 0
      },
      "text/plain": [
       "Epochs loop:   0%|          | 0/40000 [00:00<?, ?it/s]"
      ]
     },
     "metadata": {},
     "output_type": "display_data"
    },
    {
     "name": "stdout",
     "output_type": "stream",
     "text": [
      "Summary:\n",
      "-learning rate = 0.10000\n",
      "-path 1 has early stopped:\n",
      " 8000 iterations with no improvement in train loss.\n",
      "-Model saved after iteration 906.\n",
      "-Train.  Loss=0.0104644\n",
      "-Valid.  Loss=0.0724698\n",
      "'train_loss05_74.csv' saved.\n",
      "'valid_loss05_74.csv' saved.\n",
      "'model13_forward05_74_last.pth' saved.\n",
      "'model13_forward05_74_best.pth' saved.\n",
      "- train minibatches = 1\n",
      "- valid minibatches = 1\n",
      "- test minibatches = 1\n"
     ]
    },
    {
     "data": {
      "application/vnd.jupyter.widget-view+json": {
       "model_id": "eca61e7c2f694eca8761e70e2ad83eaa",
       "version_major": 2,
       "version_minor": 0
      },
      "text/plain": [
       "Epochs loop:   0%|          | 0/40000 [00:00<?, ?it/s]"
      ]
     },
     "metadata": {},
     "output_type": "display_data"
    },
    {
     "name": "stdout",
     "output_type": "stream",
     "text": [
      "Summary:\n",
      "-learning rate = 0.10000\n",
      "-path 1 has early stopped:\n",
      " 8000 iterations with no improvement in train loss.\n",
      "-Model saved after iteration 609.\n",
      "-Train.  Loss=0.0134673\n",
      "-Valid.  Loss=0.0701154\n",
      "'train_loss05_75.csv' saved.\n",
      "'valid_loss05_75.csv' saved.\n",
      "'model13_forward05_75_last.pth' saved.\n",
      "'model13_forward05_75_best.pth' saved.\n",
      "- train minibatches = 1\n",
      "- valid minibatches = 1\n",
      "- test minibatches = 1\n"
     ]
    },
    {
     "data": {
      "application/vnd.jupyter.widget-view+json": {
       "model_id": "c9df5ccca30d4455b101cc4e50919fc9",
       "version_major": 2,
       "version_minor": 0
      },
      "text/plain": [
       "Epochs loop:   0%|          | 0/40000 [00:00<?, ?it/s]"
      ]
     },
     "metadata": {},
     "output_type": "display_data"
    },
    {
     "name": "stdout",
     "output_type": "stream",
     "text": [
      "Summary:\n",
      "-learning rate = 0.10000\n",
      "-path 1 has early stopped:\n",
      " 8000 iterations with no improvement in train loss.\n",
      "-Model saved after iteration 424.\n",
      "-Train.  Loss=0.0208008\n",
      "-Valid.  Loss=0.0779865\n",
      "'train_loss05_76.csv' saved.\n",
      "'valid_loss05_76.csv' saved.\n",
      "'model13_forward05_76_last.pth' saved.\n",
      "'model13_forward05_76_best.pth' saved.\n",
      "- train minibatches = 1\n",
      "- valid minibatches = 1\n",
      "- test minibatches = 1\n"
     ]
    },
    {
     "data": {
      "application/vnd.jupyter.widget-view+json": {
       "model_id": "28708b350c724777b1d4b8d0cd2f1ae8",
       "version_major": 2,
       "version_minor": 0
      },
      "text/plain": [
       "Epochs loop:   0%|          | 0/40000 [00:00<?, ?it/s]"
      ]
     },
     "metadata": {},
     "output_type": "display_data"
    },
    {
     "name": "stdout",
     "output_type": "stream",
     "text": [
      "Summary:\n",
      "-learning rate = 0.10000\n",
      "-path 1 has early stopped:\n",
      " 8000 iterations with no improvement in train loss.\n",
      "-Model saved after iteration 746.\n",
      "-Train.  Loss=0.0109390\n",
      "-Valid.  Loss=0.0479484\n",
      "'train_loss05_77.csv' saved.\n",
      "'valid_loss05_77.csv' saved.\n",
      "'model13_forward05_77_last.pth' saved.\n",
      "'model13_forward05_77_best.pth' saved.\n",
      "- train minibatches = 1\n",
      "- valid minibatches = 1\n",
      "- test minibatches = 1\n"
     ]
    },
    {
     "data": {
      "application/vnd.jupyter.widget-view+json": {
       "model_id": "59e61ce2df514431abec8e54510e3b12",
       "version_major": 2,
       "version_minor": 0
      },
      "text/plain": [
       "Epochs loop:   0%|          | 0/40000 [00:00<?, ?it/s]"
      ]
     },
     "metadata": {},
     "output_type": "display_data"
    },
    {
     "name": "stdout",
     "output_type": "stream",
     "text": [
      "Summary:\n",
      "-learning rate = 0.10000\n",
      "-path 1 has early stopped:\n",
      " 8000 iterations with no improvement in train loss.\n",
      "-Model saved after iteration 832.\n",
      "-Train.  Loss=0.0088667\n",
      "-Valid.  Loss=0.0437204\n",
      "'train_loss05_78.csv' saved.\n",
      "'valid_loss05_78.csv' saved.\n",
      "'model13_forward05_78_last.pth' saved.\n",
      "'model13_forward05_78_best.pth' saved.\n",
      "- train minibatches = 1\n",
      "- valid minibatches = 1\n",
      "- test minibatches = 1\n"
     ]
    },
    {
     "data": {
      "application/vnd.jupyter.widget-view+json": {
       "model_id": "60cdcce41350443db5beccb4d258bab8",
       "version_major": 2,
       "version_minor": 0
      },
      "text/plain": [
       "Epochs loop:   0%|          | 0/40000 [00:00<?, ?it/s]"
      ]
     },
     "metadata": {},
     "output_type": "display_data"
    },
    {
     "name": "stdout",
     "output_type": "stream",
     "text": [
      "Summary:\n",
      "-learning rate = 0.10000\n",
      "-path 1 has early stopped:\n",
      " 8000 iterations with no improvement in train loss.\n",
      "-Model saved after iteration 444.\n",
      "-Train.  Loss=0.0199069\n",
      "-Valid.  Loss=0.0645868\n",
      "'train_loss05_79.csv' saved.\n",
      "'valid_loss05_79.csv' saved.\n",
      "'model13_forward05_79_last.pth' saved.\n",
      "'model13_forward05_79_best.pth' saved.\n",
      "- train minibatches = 1\n",
      "- valid minibatches = 1\n",
      "- test minibatches = 1\n"
     ]
    },
    {
     "data": {
      "application/vnd.jupyter.widget-view+json": {
       "model_id": "798b58445e444f82a298122f7f8a3613",
       "version_major": 2,
       "version_minor": 0
      },
      "text/plain": [
       "Epochs loop:   0%|          | 0/40000 [00:00<?, ?it/s]"
      ]
     },
     "metadata": {},
     "output_type": "display_data"
    },
    {
     "name": "stdout",
     "output_type": "stream",
     "text": [
      "Summary:\n",
      "-learning rate = 0.10000\n",
      "-path 1 has early stopped:\n",
      " 8000 iterations with no improvement in train loss.\n",
      "-Model saved after iteration 498.\n",
      "-Train.  Loss=0.0173775\n",
      "-Valid.  Loss=0.0642646\n",
      "'train_loss05_80.csv' saved.\n",
      "'valid_loss05_80.csv' saved.\n",
      "'model13_forward05_80_last.pth' saved.\n",
      "'model13_forward05_80_best.pth' saved.\n",
      "- train minibatches = 1\n",
      "- valid minibatches = 1\n",
      "- test minibatches = 1\n"
     ]
    },
    {
     "data": {
      "application/vnd.jupyter.widget-view+json": {
       "model_id": "0460f1d2fbde46a59bb60d6e7f36c2ac",
       "version_major": 2,
       "version_minor": 0
      },
      "text/plain": [
       "Epochs loop:   0%|          | 0/40000 [00:00<?, ?it/s]"
      ]
     },
     "metadata": {},
     "output_type": "display_data"
    },
    {
     "name": "stdout",
     "output_type": "stream",
     "text": [
      "Summary:\n",
      "-learning rate = 0.10000\n",
      "-path 1 has early stopped:\n",
      " 8000 iterations with no improvement in train loss.\n",
      "-Model saved after iteration 613.\n",
      "-Train.  Loss=0.0120191\n",
      "-Valid.  Loss=0.0869245\n",
      "'train_loss05_81.csv' saved.\n",
      "'valid_loss05_81.csv' saved.\n",
      "'model13_forward05_81_last.pth' saved.\n",
      "'model13_forward05_81_best.pth' saved.\n",
      "- train minibatches = 1\n",
      "- valid minibatches = 1\n",
      "- test minibatches = 1\n"
     ]
    },
    {
     "data": {
      "application/vnd.jupyter.widget-view+json": {
       "model_id": "a01bc10e117a47e5b58ccf196bd95b86",
       "version_major": 2,
       "version_minor": 0
      },
      "text/plain": [
       "Epochs loop:   0%|          | 0/40000 [00:00<?, ?it/s]"
      ]
     },
     "metadata": {},
     "output_type": "display_data"
    },
    {
     "name": "stdout",
     "output_type": "stream",
     "text": [
      "Summary:\n",
      "-learning rate = 0.10000\n",
      "-path 1 has early stopped:\n",
      " 8000 iterations with no improvement in train loss.\n",
      "-Model saved after iteration 310.\n",
      "-Train.  Loss=0.0286117\n",
      "-Valid.  Loss=0.0776226\n",
      "'train_loss05_82.csv' saved.\n",
      "'valid_loss05_82.csv' saved.\n",
      "'model13_forward05_82_last.pth' saved.\n",
      "'model13_forward05_82_best.pth' saved.\n",
      "- train minibatches = 1\n",
      "- valid minibatches = 1\n",
      "- test minibatches = 1\n"
     ]
    },
    {
     "data": {
      "application/vnd.jupyter.widget-view+json": {
       "model_id": "d08c58e28dba4bf5be9ff81a41844522",
       "version_major": 2,
       "version_minor": 0
      },
      "text/plain": [
       "Epochs loop:   0%|          | 0/40000 [00:00<?, ?it/s]"
      ]
     },
     "metadata": {},
     "output_type": "display_data"
    },
    {
     "name": "stdout",
     "output_type": "stream",
     "text": [
      "Summary:\n",
      "-learning rate = 0.10000\n",
      "-path 1 has early stopped:\n",
      " 8000 iterations with no improvement in train loss.\n",
      "-Model saved after iteration 443.\n",
      "-Train.  Loss=0.0214361\n",
      "-Valid.  Loss=0.0521240\n",
      "'train_loss05_83.csv' saved.\n",
      "'valid_loss05_83.csv' saved.\n",
      "'model13_forward05_83_last.pth' saved.\n",
      "'model13_forward05_83_best.pth' saved.\n",
      "- train minibatches = 1\n",
      "- valid minibatches = 1\n",
      "- test minibatches = 1\n"
     ]
    },
    {
     "data": {
      "application/vnd.jupyter.widget-view+json": {
       "model_id": "71dc080c9883464fba09277740894e05",
       "version_major": 2,
       "version_minor": 0
      },
      "text/plain": [
       "Epochs loop:   0%|          | 0/40000 [00:00<?, ?it/s]"
      ]
     },
     "metadata": {},
     "output_type": "display_data"
    },
    {
     "name": "stdout",
     "output_type": "stream",
     "text": [
      "Summary:\n",
      "-learning rate = 0.10000\n",
      "-path 1 has early stopped:\n",
      " 8000 iterations with no improvement in train loss.\n",
      "-Model saved after iteration 569.\n",
      "-Train.  Loss=0.0150802\n",
      "-Valid.  Loss=0.0502523\n",
      "'train_loss05_84.csv' saved.\n",
      "'valid_loss05_84.csv' saved.\n",
      "'model13_forward05_84_last.pth' saved.\n",
      "'model13_forward05_84_best.pth' saved.\n",
      "- train minibatches = 1\n",
      "- valid minibatches = 1\n",
      "- test minibatches = 1\n"
     ]
    },
    {
     "data": {
      "application/vnd.jupyter.widget-view+json": {
       "model_id": "f18c59d38a9240f38299190cfbff5885",
       "version_major": 2,
       "version_minor": 0
      },
      "text/plain": [
       "Epochs loop:   0%|          | 0/40000 [00:00<?, ?it/s]"
      ]
     },
     "metadata": {},
     "output_type": "display_data"
    },
    {
     "name": "stdout",
     "output_type": "stream",
     "text": [
      "Summary:\n",
      "-learning rate = 0.10000\n",
      "-path 1 has early stopped:\n",
      " 8000 iterations with no improvement in train loss.\n",
      "-Model saved after iteration 479.\n",
      "-Train.  Loss=0.0194322\n",
      "-Valid.  Loss=0.0796272\n",
      "'train_loss05_85.csv' saved.\n",
      "'valid_loss05_85.csv' saved.\n",
      "'model13_forward05_85_last.pth' saved.\n",
      "'model13_forward05_85_best.pth' saved.\n",
      "- train minibatches = 1\n",
      "- valid minibatches = 1\n",
      "- test minibatches = 1\n"
     ]
    },
    {
     "data": {
      "application/vnd.jupyter.widget-view+json": {
       "model_id": "b34b7bca60d946c08bb47521812a22b0",
       "version_major": 2,
       "version_minor": 0
      },
      "text/plain": [
       "Epochs loop:   0%|          | 0/40000 [00:00<?, ?it/s]"
      ]
     },
     "metadata": {},
     "output_type": "display_data"
    },
    {
     "name": "stdout",
     "output_type": "stream",
     "text": [
      "Summary:\n",
      "-learning rate = 0.10000\n",
      "-path 1 has early stopped:\n",
      " 8000 iterations with no improvement in train loss.\n",
      "-Model saved after iteration 780.\n",
      "-Train.  Loss=0.0110244\n",
      "-Valid.  Loss=0.0457530\n",
      "'train_loss05_86.csv' saved.\n",
      "'valid_loss05_86.csv' saved.\n",
      "'model13_forward05_86_last.pth' saved.\n",
      "'model13_forward05_86_best.pth' saved.\n",
      "- train minibatches = 1\n",
      "- valid minibatches = 1\n",
      "- test minibatches = 1\n"
     ]
    },
    {
     "data": {
      "application/vnd.jupyter.widget-view+json": {
       "model_id": "75b5950a44e541bbb6b21ff7d40bbd1f",
       "version_major": 2,
       "version_minor": 0
      },
      "text/plain": [
       "Epochs loop:   0%|          | 0/40000 [00:00<?, ?it/s]"
      ]
     },
     "metadata": {},
     "output_type": "display_data"
    },
    {
     "name": "stdout",
     "output_type": "stream",
     "text": [
      "Summary:\n",
      "-learning rate = 0.10000\n",
      "-path 1 has early stopped:\n",
      " 8000 iterations with no improvement in train loss.\n",
      "-Model saved after iteration 464.\n",
      "-Train.  Loss=0.0177940\n",
      "-Valid.  Loss=0.0613991\n",
      "'train_loss05_87.csv' saved.\n",
      "'valid_loss05_87.csv' saved.\n",
      "'model13_forward05_87_last.pth' saved.\n",
      "'model13_forward05_87_best.pth' saved.\n",
      "- train minibatches = 1\n",
      "- valid minibatches = 1\n",
      "- test minibatches = 1\n"
     ]
    },
    {
     "data": {
      "application/vnd.jupyter.widget-view+json": {
       "model_id": "b6ec4ec3ae3f40d4be59516ac20c84b6",
       "version_major": 2,
       "version_minor": 0
      },
      "text/plain": [
       "Epochs loop:   0%|          | 0/40000 [00:00<?, ?it/s]"
      ]
     },
     "metadata": {},
     "output_type": "display_data"
    },
    {
     "name": "stdout",
     "output_type": "stream",
     "text": [
      "Summary:\n",
      "-learning rate = 0.10000\n",
      "-path 1 has early stopped:\n",
      " 8000 iterations with no improvement in train loss.\n",
      "-Model saved after iteration 589.\n",
      "-Train.  Loss=0.0163646\n",
      "-Valid.  Loss=0.0562208\n",
      "'train_loss05_88.csv' saved.\n",
      "'valid_loss05_88.csv' saved.\n",
      "'model13_forward05_88_last.pth' saved.\n",
      "'model13_forward05_88_best.pth' saved.\n",
      "- train minibatches = 1\n",
      "- valid minibatches = 1\n",
      "- test minibatches = 1\n"
     ]
    },
    {
     "data": {
      "application/vnd.jupyter.widget-view+json": {
       "model_id": "fc75f20db9374defadbbcaee818139e1",
       "version_major": 2,
       "version_minor": 0
      },
      "text/plain": [
       "Epochs loop:   0%|          | 0/40000 [00:00<?, ?it/s]"
      ]
     },
     "metadata": {},
     "output_type": "display_data"
    },
    {
     "name": "stdout",
     "output_type": "stream",
     "text": [
      "Summary:\n",
      "-learning rate = 0.10000\n",
      "-path 1 has early stopped:\n",
      " 8000 iterations with no improvement in train loss.\n",
      "-Model saved after iteration 552.\n",
      "-Train.  Loss=0.0155223\n",
      "-Valid.  Loss=0.0552637\n",
      "'train_loss05_89.csv' saved.\n",
      "'valid_loss05_89.csv' saved.\n",
      "'model13_forward05_89_last.pth' saved.\n",
      "'model13_forward05_89_best.pth' saved.\n",
      "- train minibatches = 1\n",
      "- valid minibatches = 1\n",
      "- test minibatches = 1\n"
     ]
    },
    {
     "data": {
      "application/vnd.jupyter.widget-view+json": {
       "model_id": "b302cdec4f4848f789b7eb86cef0c288",
       "version_major": 2,
       "version_minor": 0
      },
      "text/plain": [
       "Epochs loop:   0%|          | 0/40000 [00:00<?, ?it/s]"
      ]
     },
     "metadata": {},
     "output_type": "display_data"
    },
    {
     "name": "stdout",
     "output_type": "stream",
     "text": [
      "Summary:\n",
      "-learning rate = 0.10000\n",
      "-path 1 has early stopped:\n",
      " 8000 iterations with no improvement in train loss.\n",
      "-Model saved after iteration 620.\n",
      "-Train.  Loss=0.0143709\n",
      "-Valid.  Loss=0.0623416\n",
      "'train_loss05_90.csv' saved.\n",
      "'valid_loss05_90.csv' saved.\n",
      "'model13_forward05_90_last.pth' saved.\n",
      "'model13_forward05_90_best.pth' saved.\n",
      "- train minibatches = 1\n",
      "- valid minibatches = 1\n",
      "- test minibatches = 1\n"
     ]
    },
    {
     "data": {
      "application/vnd.jupyter.widget-view+json": {
       "model_id": "60d4814152b242b1ab86a8313dd58da3",
       "version_major": 2,
       "version_minor": 0
      },
      "text/plain": [
       "Epochs loop:   0%|          | 0/40000 [00:00<?, ?it/s]"
      ]
     },
     "metadata": {},
     "output_type": "display_data"
    },
    {
     "name": "stdout",
     "output_type": "stream",
     "text": [
      "Summary:\n",
      "-learning rate = 0.10000\n",
      "-path 1 has early stopped:\n",
      " 8000 iterations with no improvement in train loss.\n",
      "-Model saved after iteration 487.\n",
      "-Train.  Loss=0.0180864\n",
      "-Valid.  Loss=0.0692716\n",
      "'train_loss05_91.csv' saved.\n",
      "'valid_loss05_91.csv' saved.\n",
      "'model13_forward05_91_last.pth' saved.\n",
      "'model13_forward05_91_best.pth' saved.\n",
      "- train minibatches = 1\n",
      "- valid minibatches = 1\n",
      "- test minibatches = 1\n"
     ]
    },
    {
     "data": {
      "application/vnd.jupyter.widget-view+json": {
       "model_id": "e95d3dc1d41d49a2bf5267c833b1a34c",
       "version_major": 2,
       "version_minor": 0
      },
      "text/plain": [
       "Epochs loop:   0%|          | 0/40000 [00:00<?, ?it/s]"
      ]
     },
     "metadata": {},
     "output_type": "display_data"
    },
    {
     "name": "stdout",
     "output_type": "stream",
     "text": [
      "Summary:\n",
      "-learning rate = 0.10000\n",
      "-path 1 has early stopped:\n",
      " 8000 iterations with no improvement in train loss.\n",
      "-Model saved after iteration 419.\n",
      "-Train.  Loss=0.0208263\n",
      "-Valid.  Loss=0.0820006\n",
      "'train_loss05_92.csv' saved.\n",
      "'valid_loss05_92.csv' saved.\n",
      "'model13_forward05_92_last.pth' saved.\n",
      "'model13_forward05_92_best.pth' saved.\n",
      "- train minibatches = 1\n",
      "- valid minibatches = 1\n",
      "- test minibatches = 1\n"
     ]
    },
    {
     "data": {
      "application/vnd.jupyter.widget-view+json": {
       "model_id": "944f4c24c1ba4eeb87dff4f9866475a4",
       "version_major": 2,
       "version_minor": 0
      },
      "text/plain": [
       "Epochs loop:   0%|          | 0/40000 [00:00<?, ?it/s]"
      ]
     },
     "metadata": {},
     "output_type": "display_data"
    },
    {
     "name": "stdout",
     "output_type": "stream",
     "text": [
      "Summary:\n",
      "-learning rate = 0.10000\n",
      "-path 1 has early stopped:\n",
      " 8000 iterations with no improvement in train loss.\n",
      "-Model saved after iteration 503.\n",
      "-Train.  Loss=0.0164602\n",
      "-Valid.  Loss=0.0718623\n",
      "'train_loss05_93.csv' saved.\n",
      "'valid_loss05_93.csv' saved.\n",
      "'model13_forward05_93_last.pth' saved.\n",
      "'model13_forward05_93_best.pth' saved.\n",
      "- train minibatches = 1\n",
      "- valid minibatches = 1\n",
      "- test minibatches = 1\n"
     ]
    },
    {
     "data": {
      "application/vnd.jupyter.widget-view+json": {
       "model_id": "6666531986454207a4a2c9adbed1c560",
       "version_major": 2,
       "version_minor": 0
      },
      "text/plain": [
       "Epochs loop:   0%|          | 0/40000 [00:00<?, ?it/s]"
      ]
     },
     "metadata": {},
     "output_type": "display_data"
    },
    {
     "name": "stdout",
     "output_type": "stream",
     "text": [
      "Summary:\n",
      "-learning rate = 0.10000\n",
      "-path 1 has early stopped:\n",
      " 8000 iterations with no improvement in train loss.\n",
      "-Model saved after iteration 502.\n",
      "-Train.  Loss=0.0183073\n",
      "-Valid.  Loss=0.0570395\n",
      "'train_loss05_94.csv' saved.\n",
      "'valid_loss05_94.csv' saved.\n",
      "'model13_forward05_94_last.pth' saved.\n",
      "'model13_forward05_94_best.pth' saved.\n",
      "- train minibatches = 1\n",
      "- valid minibatches = 1\n",
      "- test minibatches = 1\n"
     ]
    },
    {
     "data": {
      "application/vnd.jupyter.widget-view+json": {
       "model_id": "75a9b8804326492da6a13ee5a7794788",
       "version_major": 2,
       "version_minor": 0
      },
      "text/plain": [
       "Epochs loop:   0%|          | 0/40000 [00:00<?, ?it/s]"
      ]
     },
     "metadata": {},
     "output_type": "display_data"
    },
    {
     "name": "stdout",
     "output_type": "stream",
     "text": [
      "Summary:\n",
      "-learning rate = 0.10000\n",
      "-path 1 has early stopped:\n",
      " 8000 iterations with no improvement in train loss.\n",
      "-Model saved after iteration 986.\n",
      "-Train.  Loss=0.0073484\n",
      "-Valid.  Loss=0.0779089\n",
      "'train_loss05_95.csv' saved.\n",
      "'valid_loss05_95.csv' saved.\n",
      "'model13_forward05_95_last.pth' saved.\n",
      "'model13_forward05_95_best.pth' saved.\n",
      "- train minibatches = 1\n",
      "- valid minibatches = 1\n",
      "- test minibatches = 1\n"
     ]
    },
    {
     "data": {
      "application/vnd.jupyter.widget-view+json": {
       "model_id": "1fb9380df8af4e628c10df25b75f3d6d",
       "version_major": 2,
       "version_minor": 0
      },
      "text/plain": [
       "Epochs loop:   0%|          | 0/40000 [00:00<?, ?it/s]"
      ]
     },
     "metadata": {},
     "output_type": "display_data"
    },
    {
     "name": "stdout",
     "output_type": "stream",
     "text": [
      "Summary:\n",
      "-learning rate = 0.10000\n",
      "-path 1 has early stopped:\n",
      " 8000 iterations with no improvement in train loss.\n",
      "-Model saved after iteration 803.\n",
      "-Train.  Loss=0.0093156\n",
      "-Valid.  Loss=0.0437349\n",
      "'train_loss05_96.csv' saved.\n",
      "'valid_loss05_96.csv' saved.\n",
      "'model13_forward05_96_last.pth' saved.\n",
      "'model13_forward05_96_best.pth' saved.\n",
      "- train minibatches = 1\n",
      "- valid minibatches = 1\n",
      "- test minibatches = 1\n"
     ]
    },
    {
     "data": {
      "application/vnd.jupyter.widget-view+json": {
       "model_id": "82107095addf4b1588e36a386c67d41b",
       "version_major": 2,
       "version_minor": 0
      },
      "text/plain": [
       "Epochs loop:   0%|          | 0/40000 [00:00<?, ?it/s]"
      ]
     },
     "metadata": {},
     "output_type": "display_data"
    },
    {
     "name": "stdout",
     "output_type": "stream",
     "text": [
      "Summary:\n",
      "-learning rate = 0.10000\n",
      "-path 1 has early stopped:\n",
      " 8000 iterations with no improvement in train loss.\n",
      "-Model saved after iteration 604.\n",
      "-Train.  Loss=0.0149223\n",
      "-Valid.  Loss=0.0712319\n",
      "'train_loss05_97.csv' saved.\n",
      "'valid_loss05_97.csv' saved.\n",
      "'model13_forward05_97_last.pth' saved.\n",
      "'model13_forward05_97_best.pth' saved.\n",
      "- train minibatches = 1\n",
      "- valid minibatches = 1\n",
      "- test minibatches = 1\n"
     ]
    },
    {
     "data": {
      "application/vnd.jupyter.widget-view+json": {
       "model_id": "20f11a1ed4774b69a1fc31c1bfdbc978",
       "version_major": 2,
       "version_minor": 0
      },
      "text/plain": [
       "Epochs loop:   0%|          | 0/40000 [00:00<?, ?it/s]"
      ]
     },
     "metadata": {},
     "output_type": "display_data"
    },
    {
     "name": "stdout",
     "output_type": "stream",
     "text": [
      "Summary:\n",
      "-learning rate = 0.10000\n",
      "-path 1 has early stopped:\n",
      " 8000 iterations with no improvement in train loss.\n",
      "-Model saved after iteration 423.\n",
      "-Train.  Loss=0.0238224\n",
      "-Valid.  Loss=0.0521458\n",
      "'train_loss05_98.csv' saved.\n",
      "'valid_loss05_98.csv' saved.\n",
      "'model13_forward05_98_last.pth' saved.\n",
      "'model13_forward05_98_best.pth' saved.\n",
      "- train minibatches = 1\n",
      "- valid minibatches = 1\n",
      "- test minibatches = 1\n"
     ]
    },
    {
     "data": {
      "application/vnd.jupyter.widget-view+json": {
       "model_id": "bd76a4c06d7d4f1ebf8a85c7ec2b62be",
       "version_major": 2,
       "version_minor": 0
      },
      "text/plain": [
       "Epochs loop:   0%|          | 0/40000 [00:00<?, ?it/s]"
      ]
     },
     "metadata": {},
     "output_type": "display_data"
    },
    {
     "name": "stdout",
     "output_type": "stream",
     "text": [
      "Summary:\n",
      "-learning rate = 0.10000\n",
      "-path 1 has early stopped:\n",
      " 8000 iterations with no improvement in train loss.\n",
      "-Model saved after iteration 460.\n",
      "-Train.  Loss=0.0190794\n",
      "-Valid.  Loss=0.0525062\n",
      "'train_loss05_99.csv' saved.\n",
      "'valid_loss05_99.csv' saved.\n",
      "'model13_forward05_99_last.pth' saved.\n",
      "'model13_forward05_99_best.pth' saved.\n",
      "- train minibatches = 1\n",
      "- valid minibatches = 1\n",
      "- test minibatches = 1\n"
     ]
    },
    {
     "data": {
      "application/vnd.jupyter.widget-view+json": {
       "model_id": "c736edcea1fb44adad8f1c1d7a0c9797",
       "version_major": 2,
       "version_minor": 0
      },
      "text/plain": [
       "Epochs loop:   0%|          | 0/40000 [00:00<?, ?it/s]"
      ]
     },
     "metadata": {},
     "output_type": "display_data"
    },
    {
     "name": "stdout",
     "output_type": "stream",
     "text": [
      "Summary:\n",
      "-learning rate = 0.10000\n",
      "-path 1 has early stopped:\n",
      " 8000 iterations with no improvement in train loss.\n",
      "-Model saved after iteration 574.\n",
      "-Train.  Loss=0.0146593\n",
      "-Valid.  Loss=0.0692622\n",
      "'train_loss05_100.csv' saved.\n",
      "'valid_loss05_100.csv' saved.\n",
      "'model13_forward05_100_last.pth' saved.\n",
      "'model13_forward05_100_best.pth' saved.\n"
     ]
    }
   ],
   "source": [
    "# Find Accuracy, Loss +/- STD (Forward)\n",
    "data_output = 'data_unconstrained_13LungCancer'\n",
    "accuracy_forward = pd.DataFrame(columns=['train_acc', 'valid_acc', 'test_acc', \n",
    "                                         'train_loss', 'valid_loss', 'test_loss'])\n",
    "\n",
    "partitions = 100\n",
    "iterator = tqdm.notebook.tqdm(range(1, partitions + 1), desc='Partitions loop')\n",
    "for n in iterator:\n",
    "    X = pd.read_csv('dataset_13LungCancer/X.csv', header=None)\n",
    "    y = pd.read_csv('dataset_13LungCancer/y.csv', header=None)\n",
    "    split_data(X, y, seed1=seed1[n], seed2=seed2[n])\n",
    "\n",
    "# .normalize data sets\n",
    "    df_to_tensor()\n",
    "    normalize_data()\n",
    "    make_DataLoaders()\n",
    "\n",
    "# .train model (forward)\n",
    "    lr = best_lr_fward\n",
    "    layer_sizes = [5, 2]\n",
    "    epochs = 40000\n",
    "    data_out = \"data_unconstrained_13LungCancer/partitions\"\n",
    "    lock_flag = False\n",
    "    features = xtrain.size(1)\n",
    "    fname = 'model13_forward05_'+str(n)\n",
    "    train_loss, valid_loss = train_model(\n",
    "                             lr, \n",
    "                             features, \n",
    "                             layer_sizes,\n",
    "                             lock_flag = lock_flag,\n",
    "                             epochs = epochs,\n",
    "                             early_stop = 8000, \n",
    "                             fname = fname)\n",
    "# .save relevant data\n",
    "    f3 = [fname+'_last.pth', fname+'_best.pth']\n",
    "    save_output(data_out, \n",
    "                'train_loss05_'+str(n)+'.csv', \n",
    "                'valid_loss05_'+str(n)+'.csv', f3)\n",
    "\n",
    "# .find Loss, Accurary, etc...\n",
    "    mm = MyNet(features, layer_sizes)\n",
    "    mm.load_state_dict(torch.load(os.path.join(data_out, fname+'_best.pth')))\n",
    "    mm = mm.to(device)\n",
    "    mm.eval()\n",
    "    \n",
    "    ypred = mm(xtrain)\n",
    "    loss = loss_type(ypred, ytrain.view(-1))\n",
    "    accu = dataset_accuracy(train_dataloader, mm, device)\n",
    "    accuracy_forward.loc[n, 'train_loss'] = loss.detach().item()\n",
    "    accuracy_forward.loc[n, 'train_acc'] = accu\n",
    "\n",
    "    ypred = mm(xvalid)\n",
    "    loss = loss_type(ypred, yvalid.view(-1))\n",
    "    accu = dataset_accuracy(valid_dataloader, mm, device)\n",
    "    accuracy_forward.loc[n, 'valid_loss'] = loss.detach().item()\n",
    "    accuracy_forward.loc[n, 'valid_acc'] = accu\n",
    "\n",
    "    ypred = mm(xtest)\n",
    "    loss = loss_type(ypred, ytest.view(-1))\n",
    "    accu = dataset_accuracy(test_dataloader, mm, device)\n",
    "    accuracy_forward.loc[n, 'test_loss'] = loss.detach().item()\n",
    "    accuracy_forward.loc[n, 'test_acc'] = accu\n",
    "\n",
    "    accuracy_forward.to_csv(os.path.join(data_output, 'accuracy13_forward05.csv'), index=True)"
   ]
  },
  {
   "cell_type": "code",
   "execution_count": 136,
   "metadata": {
    "ExecuteTime": {
     "end_time": "2021-03-05T20:13:44.588104Z",
     "start_time": "2021-03-05T20:13:44.579835Z"
    },
    "code_folding": [
     0
    ]
   },
   "outputs": [
    {
     "name": "stdout",
     "output_type": "stream",
     "text": [
      "Train accuracy = 0.998 +/- 0.001\n",
      "Train accuracy = 0.976 +/- 0.006\n",
      "Test accuracy = 0.976 +/- 0.005\n"
     ]
    }
   ],
   "source": [
    "# Display results\n",
    "accuracy_forward = pd.read_csv('data_unconstrained_13LungCancer/accuracy13_forward05.csv', index_col=0)\n",
    "print(\"Train accuracy = {:.3f} +/- {:.3f}\".format(accuracy_forward['train_acc'].mean(), \n",
    "                                                  accuracy_forward['train_acc'].std()))\n",
    "print(\"Train accuracy = {:.3f} +/- {:.3f}\".format(accuracy_forward['valid_acc'].mean(), \n",
    "                                                  accuracy_forward['valid_acc'].std()))\n",
    "print(\"Test accuracy = {:.3f} +/- {:.3f}\".format(accuracy_forward['test_acc'].mean(), \n",
    "                                                 accuracy_forward['test_acc'].std()))"
   ]
  },
  {
   "cell_type": "code",
   "execution_count": 139,
   "metadata": {
    "ExecuteTime": {
     "end_time": "2021-03-07T09:04:45.866148Z",
     "start_time": "2021-03-05T20:22:33.237497Z"
    },
    "code_folding": [
     0
    ],
    "scrolled": true
   },
   "outputs": [
    {
     "data": {
      "application/vnd.jupyter.widget-view+json": {
       "model_id": "0ac6b04fb1684240bbb5934c8e27f61b",
       "version_major": 2,
       "version_minor": 0
      },
      "text/plain": [
       "Partitions loop:   0%|          | 0/100 [00:00<?, ?it/s]"
      ]
     },
     "metadata": {},
     "output_type": "display_data"
    },
    {
     "name": "stdout",
     "output_type": "stream",
     "text": [
      "- train minibatches = 1\n",
      "- valid minibatches = 1\n",
      "- test minibatches = 1\n"
     ]
    },
    {
     "data": {
      "application/vnd.jupyter.widget-view+json": {
       "model_id": "08924d0766564b928158ab92f595ccd5",
       "version_major": 2,
       "version_minor": 0
      },
      "text/plain": [
       "Epochs loop:   0%|          | 0/30000 [00:00<?, ?it/s]"
      ]
     },
     "metadata": {},
     "output_type": "display_data"
    },
    {
     "name": "stdout",
     "output_type": "stream",
     "text": [
      "Summary:\n",
      "-learning rate = 0.00527\n",
      "-Model saved after iteration 30000.\n",
      "-Train.  Loss=0.0066996\n",
      "-Valid.  Loss=0.0489792\n",
      "'train_loss_fward05_1.csv' saved.\n",
      "'valid_loss_fward05_1.csv' saved.\n",
      "'model13_fward05_1_last.pth' saved.\n",
      "'model13_fward05_1_best.pth' saved.\n",
      "- train minibatches = 1\n",
      "- valid minibatches = 1\n",
      "- test minibatches = 1\n"
     ]
    },
    {
     "data": {
      "application/vnd.jupyter.widget-view+json": {
       "model_id": "c8abcaee373d4907afb50698d18152b8",
       "version_major": 2,
       "version_minor": 0
      },
      "text/plain": [
       "Epochs loop:   0%|          | 0/30000 [00:00<?, ?it/s]"
      ]
     },
     "metadata": {},
     "output_type": "display_data"
    },
    {
     "name": "stdout",
     "output_type": "stream",
     "text": [
      "Summary:\n",
      "-learning rate = 0.00527\n",
      "-Model saved after iteration 12935.\n",
      "-Train.  Loss=0.0113097\n",
      "-Valid.  Loss=0.0631542\n",
      "'train_loss_fward05_2.csv' saved.\n",
      "'valid_loss_fward05_2.csv' saved.\n",
      "'model13_fward05_2_last.pth' saved.\n",
      "'model13_fward05_2_best.pth' saved.\n",
      "- train minibatches = 1\n",
      "- valid minibatches = 1\n",
      "- test minibatches = 1\n"
     ]
    },
    {
     "data": {
      "application/vnd.jupyter.widget-view+json": {
       "model_id": "d130cb8fd6f045ea859e0b509433b3d8",
       "version_major": 2,
       "version_minor": 0
      },
      "text/plain": [
       "Epochs loop:   0%|          | 0/30000 [00:00<?, ?it/s]"
      ]
     },
     "metadata": {},
     "output_type": "display_data"
    },
    {
     "name": "stdout",
     "output_type": "stream",
     "text": [
      "Summary:\n",
      "-learning rate = 0.00527\n",
      "-Model saved after iteration 12669.\n",
      "-Train.  Loss=0.0131713\n",
      "-Valid.  Loss=0.0611705\n",
      "'train_loss_fward05_3.csv' saved.\n",
      "'valid_loss_fward05_3.csv' saved.\n",
      "'model13_fward05_3_last.pth' saved.\n",
      "'model13_fward05_3_best.pth' saved.\n",
      "- train minibatches = 1\n",
      "- valid minibatches = 1\n",
      "- test minibatches = 1\n"
     ]
    },
    {
     "data": {
      "application/vnd.jupyter.widget-view+json": {
       "model_id": "7597b90f8d1941ff8580896fc142cb65",
       "version_major": 2,
       "version_minor": 0
      },
      "text/plain": [
       "Epochs loop:   0%|          | 0/30000 [00:00<?, ?it/s]"
      ]
     },
     "metadata": {},
     "output_type": "display_data"
    },
    {
     "name": "stdout",
     "output_type": "stream",
     "text": [
      "Summary:\n",
      "-learning rate = 0.00527\n",
      "-Model saved after iteration 8004.\n",
      "-Train.  Loss=0.0226214\n",
      "-Valid.  Loss=0.0775108\n",
      "'train_loss_fward05_4.csv' saved.\n",
      "'valid_loss_fward05_4.csv' saved.\n",
      "'model13_fward05_4_last.pth' saved.\n",
      "'model13_fward05_4_best.pth' saved.\n",
      "- train minibatches = 1\n",
      "- valid minibatches = 1\n",
      "- test minibatches = 1\n"
     ]
    },
    {
     "data": {
      "application/vnd.jupyter.widget-view+json": {
       "model_id": "a959d48465b14ff1a78e996e283e1384",
       "version_major": 2,
       "version_minor": 0
      },
      "text/plain": [
       "Epochs loop:   0%|          | 0/30000 [00:00<?, ?it/s]"
      ]
     },
     "metadata": {},
     "output_type": "display_data"
    },
    {
     "name": "stdout",
     "output_type": "stream",
     "text": [
      "Summary:\n",
      "-learning rate = 0.00527\n",
      "-Model saved after iteration 6349.\n",
      "-Train.  Loss=0.0259206\n",
      "-Valid.  Loss=0.0809531\n",
      "'train_loss_fward05_5.csv' saved.\n",
      "'valid_loss_fward05_5.csv' saved.\n",
      "'model13_fward05_5_last.pth' saved.\n",
      "'model13_fward05_5_best.pth' saved.\n",
      "- train minibatches = 1\n",
      "- valid minibatches = 1\n",
      "- test minibatches = 1\n"
     ]
    },
    {
     "data": {
      "application/vnd.jupyter.widget-view+json": {
       "model_id": "87f6029c3d364fe38cefae43f9bb4b4d",
       "version_major": 2,
       "version_minor": 0
      },
      "text/plain": [
       "Epochs loop:   0%|          | 0/30000 [00:00<?, ?it/s]"
      ]
     },
     "metadata": {},
     "output_type": "display_data"
    },
    {
     "name": "stdout",
     "output_type": "stream",
     "text": [
      "Summary:\n",
      "-learning rate = 0.00527\n",
      "-Model saved after iteration 8476.\n",
      "-Train.  Loss=0.0194332\n",
      "-Valid.  Loss=0.0949927\n",
      "'train_loss_fward05_6.csv' saved.\n",
      "'valid_loss_fward05_6.csv' saved.\n",
      "'model13_fward05_6_last.pth' saved.\n",
      "'model13_fward05_6_best.pth' saved.\n",
      "- train minibatches = 1\n",
      "- valid minibatches = 1\n",
      "- test minibatches = 1\n"
     ]
    },
    {
     "data": {
      "application/vnd.jupyter.widget-view+json": {
       "model_id": "c1953c2b982244a49916f77035fcdef7",
       "version_major": 2,
       "version_minor": 0
      },
      "text/plain": [
       "Epochs loop:   0%|          | 0/30000 [00:00<?, ?it/s]"
      ]
     },
     "metadata": {},
     "output_type": "display_data"
    },
    {
     "name": "stdout",
     "output_type": "stream",
     "text": [
      "Summary:\n",
      "-learning rate = 0.00527\n",
      "-Model saved after iteration 10832.\n",
      "-Train.  Loss=0.0148293\n",
      "-Valid.  Loss=0.0521342\n",
      "'train_loss_fward05_7.csv' saved.\n",
      "'valid_loss_fward05_7.csv' saved.\n",
      "'model13_fward05_7_last.pth' saved.\n",
      "'model13_fward05_7_best.pth' saved.\n",
      "- train minibatches = 1\n",
      "- valid minibatches = 1\n",
      "- test minibatches = 1\n"
     ]
    },
    {
     "data": {
      "application/vnd.jupyter.widget-view+json": {
       "model_id": "dd9a4424eb2e4984bde249c9345a6063",
       "version_major": 2,
       "version_minor": 0
      },
      "text/plain": [
       "Epochs loop:   0%|          | 0/30000 [00:00<?, ?it/s]"
      ]
     },
     "metadata": {},
     "output_type": "display_data"
    },
    {
     "name": "stdout",
     "output_type": "stream",
     "text": [
      "Summary:\n",
      "-learning rate = 0.00527\n",
      "-Model saved after iteration 19158.\n",
      "-Train.  Loss=0.0118429\n",
      "-Valid.  Loss=0.0524212\n",
      "'train_loss_fward05_8.csv' saved.\n",
      "'valid_loss_fward05_8.csv' saved.\n",
      "'model13_fward05_8_last.pth' saved.\n",
      "'model13_fward05_8_best.pth' saved.\n",
      "- train minibatches = 1\n",
      "- valid minibatches = 1\n",
      "- test minibatches = 1\n"
     ]
    },
    {
     "data": {
      "application/vnd.jupyter.widget-view+json": {
       "model_id": "7fc9014287d84b338b3a0fa2257b9c3b",
       "version_major": 2,
       "version_minor": 0
      },
      "text/plain": [
       "Epochs loop:   0%|          | 0/30000 [00:00<?, ?it/s]"
      ]
     },
     "metadata": {},
     "output_type": "display_data"
    },
    {
     "name": "stdout",
     "output_type": "stream",
     "text": [
      "Summary:\n",
      "-learning rate = 0.00527\n",
      "-Model saved after iteration 14729.\n",
      "-Train.  Loss=0.0110240\n",
      "-Valid.  Loss=0.0657372\n",
      "'train_loss_fward05_9.csv' saved.\n",
      "'valid_loss_fward05_9.csv' saved.\n",
      "'model13_fward05_9_last.pth' saved.\n",
      "'model13_fward05_9_best.pth' saved.\n",
      "- train minibatches = 1\n",
      "- valid minibatches = 1\n",
      "- test minibatches = 1\n"
     ]
    },
    {
     "data": {
      "application/vnd.jupyter.widget-view+json": {
       "model_id": "29bb758d82af43868d959e00237df0eb",
       "version_major": 2,
       "version_minor": 0
      },
      "text/plain": [
       "Epochs loop:   0%|          | 0/30000 [00:00<?, ?it/s]"
      ]
     },
     "metadata": {},
     "output_type": "display_data"
    },
    {
     "name": "stdout",
     "output_type": "stream",
     "text": [
      "Summary:\n",
      "-learning rate = 0.00527\n",
      "-Model saved after iteration 8220.\n",
      "-Train.  Loss=0.0187128\n",
      "-Valid.  Loss=0.0797847\n",
      "'train_loss_fward05_10.csv' saved.\n",
      "'valid_loss_fward05_10.csv' saved.\n",
      "'model13_fward05_10_last.pth' saved.\n",
      "'model13_fward05_10_best.pth' saved.\n",
      "- train minibatches = 1\n",
      "- valid minibatches = 1\n",
      "- test minibatches = 1\n"
     ]
    },
    {
     "data": {
      "application/vnd.jupyter.widget-view+json": {
       "model_id": "6a7f1125c91f4e16b1aac8565cda403e",
       "version_major": 2,
       "version_minor": 0
      },
      "text/plain": [
       "Epochs loop:   0%|          | 0/30000 [00:00<?, ?it/s]"
      ]
     },
     "metadata": {},
     "output_type": "display_data"
    },
    {
     "name": "stdout",
     "output_type": "stream",
     "text": [
      "Summary:\n",
      "-learning rate = 0.00527\n",
      "-Model saved after iteration 9785.\n",
      "-Train.  Loss=0.0155846\n",
      "-Valid.  Loss=0.0618848\n",
      "'train_loss_fward05_11.csv' saved.\n",
      "'valid_loss_fward05_11.csv' saved.\n",
      "'model13_fward05_11_last.pth' saved.\n",
      "'model13_fward05_11_best.pth' saved.\n",
      "- train minibatches = 1\n",
      "- valid minibatches = 1\n",
      "- test minibatches = 1\n"
     ]
    },
    {
     "data": {
      "application/vnd.jupyter.widget-view+json": {
       "model_id": "230c50d1b3804411b6a1288107eaf230",
       "version_major": 2,
       "version_minor": 0
      },
      "text/plain": [
       "Epochs loop:   0%|          | 0/30000 [00:00<?, ?it/s]"
      ]
     },
     "metadata": {},
     "output_type": "display_data"
    },
    {
     "name": "stdout",
     "output_type": "stream",
     "text": [
      "Summary:\n",
      "-learning rate = 0.00527\n",
      "-Model saved after iteration 8478.\n",
      "-Train.  Loss=0.0200478\n",
      "-Valid.  Loss=0.0710367\n",
      "'train_loss_fward05_12.csv' saved.\n",
      "'valid_loss_fward05_12.csv' saved.\n",
      "'model13_fward05_12_last.pth' saved.\n",
      "'model13_fward05_12_best.pth' saved.\n",
      "- train minibatches = 1\n",
      "- valid minibatches = 1\n",
      "- test minibatches = 1\n"
     ]
    },
    {
     "data": {
      "application/vnd.jupyter.widget-view+json": {
       "model_id": "e36dd8eea8aa44c69d0e766c6707c849",
       "version_major": 2,
       "version_minor": 0
      },
      "text/plain": [
       "Epochs loop:   0%|          | 0/30000 [00:00<?, ?it/s]"
      ]
     },
     "metadata": {},
     "output_type": "display_data"
    },
    {
     "name": "stdout",
     "output_type": "stream",
     "text": [
      "Summary:\n",
      "-learning rate = 0.00527\n",
      "-Model saved after iteration 8177.\n",
      "-Train.  Loss=0.0198536\n",
      "-Valid.  Loss=0.0721237\n",
      "'train_loss_fward05_13.csv' saved.\n",
      "'valid_loss_fward05_13.csv' saved.\n",
      "'model13_fward05_13_last.pth' saved.\n",
      "'model13_fward05_13_best.pth' saved.\n",
      "- train minibatches = 1\n",
      "- valid minibatches = 1\n",
      "- test minibatches = 1\n"
     ]
    },
    {
     "data": {
      "application/vnd.jupyter.widget-view+json": {
       "model_id": "88a819ee4bda4731a62a5793e814a370",
       "version_major": 2,
       "version_minor": 0
      },
      "text/plain": [
       "Epochs loop:   0%|          | 0/30000 [00:00<?, ?it/s]"
      ]
     },
     "metadata": {},
     "output_type": "display_data"
    },
    {
     "name": "stdout",
     "output_type": "stream",
     "text": [
      "Summary:\n",
      "-learning rate = 0.00527\n",
      "-Model saved after iteration 7655.\n",
      "-Train.  Loss=0.0207729\n",
      "-Valid.  Loss=0.0834187\n",
      "'train_loss_fward05_14.csv' saved.\n",
      "'valid_loss_fward05_14.csv' saved.\n",
      "'model13_fward05_14_last.pth' saved.\n",
      "'model13_fward05_14_best.pth' saved.\n",
      "- train minibatches = 1\n",
      "- valid minibatches = 1\n",
      "- test minibatches = 1\n"
     ]
    },
    {
     "data": {
      "application/vnd.jupyter.widget-view+json": {
       "model_id": "de6b2bf5977f44768aad88ef420d8d39",
       "version_major": 2,
       "version_minor": 0
      },
      "text/plain": [
       "Epochs loop:   0%|          | 0/30000 [00:00<?, ?it/s]"
      ]
     },
     "metadata": {},
     "output_type": "display_data"
    },
    {
     "name": "stdout",
     "output_type": "stream",
     "text": [
      "Summary:\n",
      "-learning rate = 0.00527\n",
      "-Model saved after iteration 7372.\n",
      "-Train.  Loss=0.0216067\n",
      "-Valid.  Loss=0.0699623\n",
      "'train_loss_fward05_15.csv' saved.\n",
      "'valid_loss_fward05_15.csv' saved.\n",
      "'model13_fward05_15_last.pth' saved.\n",
      "'model13_fward05_15_best.pth' saved.\n",
      "- train minibatches = 1\n",
      "- valid minibatches = 1\n",
      "- test minibatches = 1\n"
     ]
    },
    {
     "data": {
      "application/vnd.jupyter.widget-view+json": {
       "model_id": "6e34f5c919064fa38fefc7c4a09da511",
       "version_major": 2,
       "version_minor": 0
      },
      "text/plain": [
       "Epochs loop:   0%|          | 0/30000 [00:00<?, ?it/s]"
      ]
     },
     "metadata": {},
     "output_type": "display_data"
    },
    {
     "name": "stdout",
     "output_type": "stream",
     "text": [
      "Summary:\n",
      "-learning rate = 0.00527\n",
      "-Model saved after iteration 10121.\n",
      "-Train.  Loss=0.0174604\n",
      "-Valid.  Loss=0.0529373\n",
      "'train_loss_fward05_16.csv' saved.\n",
      "'valid_loss_fward05_16.csv' saved.\n",
      "'model13_fward05_16_last.pth' saved.\n",
      "'model13_fward05_16_best.pth' saved.\n",
      "- train minibatches = 1\n",
      "- valid minibatches = 1\n",
      "- test minibatches = 1\n"
     ]
    },
    {
     "data": {
      "application/vnd.jupyter.widget-view+json": {
       "model_id": "560b012738fa48c1b314eb3043f2b04b",
       "version_major": 2,
       "version_minor": 0
      },
      "text/plain": [
       "Epochs loop:   0%|          | 0/30000 [00:00<?, ?it/s]"
      ]
     },
     "metadata": {},
     "output_type": "display_data"
    },
    {
     "name": "stdout",
     "output_type": "stream",
     "text": [
      "Summary:\n",
      "-learning rate = 0.00527\n",
      "-Model saved after iteration 20641.\n",
      "-Train.  Loss=0.0072151\n",
      "-Valid.  Loss=0.0532320\n",
      "'train_loss_fward05_17.csv' saved.\n",
      "'valid_loss_fward05_17.csv' saved.\n",
      "'model13_fward05_17_last.pth' saved.\n",
      "'model13_fward05_17_best.pth' saved.\n",
      "- train minibatches = 1\n",
      "- valid minibatches = 1\n",
      "- test minibatches = 1\n"
     ]
    },
    {
     "data": {
      "application/vnd.jupyter.widget-view+json": {
       "model_id": "d290d6f19afd423780425533626c6cde",
       "version_major": 2,
       "version_minor": 0
      },
      "text/plain": [
       "Epochs loop:   0%|          | 0/30000 [00:00<?, ?it/s]"
      ]
     },
     "metadata": {},
     "output_type": "display_data"
    },
    {
     "name": "stdout",
     "output_type": "stream",
     "text": [
      "Summary:\n",
      "-learning rate = 0.00527\n",
      "-Model saved after iteration 6192.\n",
      "-Train.  Loss=0.0288734\n",
      "-Valid.  Loss=0.0767989\n",
      "'train_loss_fward05_18.csv' saved.\n",
      "'valid_loss_fward05_18.csv' saved.\n",
      "'model13_fward05_18_last.pth' saved.\n",
      "'model13_fward05_18_best.pth' saved.\n",
      "- train minibatches = 1\n",
      "- valid minibatches = 1\n",
      "- test minibatches = 1\n"
     ]
    },
    {
     "data": {
      "application/vnd.jupyter.widget-view+json": {
       "model_id": "8ef6033a1264405890a267ac2989ab3e",
       "version_major": 2,
       "version_minor": 0
      },
      "text/plain": [
       "Epochs loop:   0%|          | 0/30000 [00:00<?, ?it/s]"
      ]
     },
     "metadata": {},
     "output_type": "display_data"
    },
    {
     "name": "stdout",
     "output_type": "stream",
     "text": [
      "Summary:\n",
      "-learning rate = 0.00527\n",
      "-Model saved after iteration 7489.\n",
      "-Train.  Loss=0.0224780\n",
      "-Valid.  Loss=0.0777379\n",
      "'train_loss_fward05_19.csv' saved.\n",
      "'valid_loss_fward05_19.csv' saved.\n",
      "'model13_fward05_19_last.pth' saved.\n",
      "'model13_fward05_19_best.pth' saved.\n",
      "- train minibatches = 1\n",
      "- valid minibatches = 1\n",
      "- test minibatches = 1\n"
     ]
    },
    {
     "data": {
      "application/vnd.jupyter.widget-view+json": {
       "model_id": "5cc9e7cc92514cd9a3c3049b3c33561b",
       "version_major": 2,
       "version_minor": 0
      },
      "text/plain": [
       "Epochs loop:   0%|          | 0/30000 [00:00<?, ?it/s]"
      ]
     },
     "metadata": {},
     "output_type": "display_data"
    },
    {
     "name": "stdout",
     "output_type": "stream",
     "text": [
      "Summary:\n",
      "-learning rate = 0.00527\n",
      "-Model saved after iteration 24042.\n",
      "-Train.  Loss=0.0053952\n",
      "-Valid.  Loss=0.0458905\n",
      "'train_loss_fward05_20.csv' saved.\n",
      "'valid_loss_fward05_20.csv' saved.\n",
      "'model13_fward05_20_last.pth' saved.\n",
      "'model13_fward05_20_best.pth' saved.\n",
      "- train minibatches = 1\n",
      "- valid minibatches = 1\n",
      "- test minibatches = 1\n"
     ]
    },
    {
     "data": {
      "application/vnd.jupyter.widget-view+json": {
       "model_id": "d1e5d0a0530c4427ac1e797d22b7f23c",
       "version_major": 2,
       "version_minor": 0
      },
      "text/plain": [
       "Epochs loop:   0%|          | 0/30000 [00:00<?, ?it/s]"
      ]
     },
     "metadata": {},
     "output_type": "display_data"
    },
    {
     "name": "stdout",
     "output_type": "stream",
     "text": [
      "Summary:\n",
      "-learning rate = 0.00527\n",
      "-Model saved after iteration 12827.\n",
      "-Train.  Loss=0.0107208\n",
      "-Valid.  Loss=0.0633617\n",
      "'train_loss_fward05_21.csv' saved.\n",
      "'valid_loss_fward05_21.csv' saved.\n",
      "'model13_fward05_21_last.pth' saved.\n",
      "'model13_fward05_21_best.pth' saved.\n",
      "- train minibatches = 1\n",
      "- valid minibatches = 1\n",
      "- test minibatches = 1\n"
     ]
    },
    {
     "data": {
      "application/vnd.jupyter.widget-view+json": {
       "model_id": "7943c46ac4a143159c2a148e4e9d51bb",
       "version_major": 2,
       "version_minor": 0
      },
      "text/plain": [
       "Epochs loop:   0%|          | 0/30000 [00:00<?, ?it/s]"
      ]
     },
     "metadata": {},
     "output_type": "display_data"
    },
    {
     "name": "stdout",
     "output_type": "stream",
     "text": [
      "Summary:\n",
      "-learning rate = 0.00527\n",
      "-Model saved after iteration 12306.\n",
      "-Train.  Loss=0.0141716\n",
      "-Valid.  Loss=0.0590683\n",
      "'train_loss_fward05_22.csv' saved.\n",
      "'valid_loss_fward05_22.csv' saved.\n",
      "'model13_fward05_22_last.pth' saved.\n",
      "'model13_fward05_22_best.pth' saved.\n",
      "- train minibatches = 1\n",
      "- valid minibatches = 1\n",
      "- test minibatches = 1\n"
     ]
    },
    {
     "data": {
      "application/vnd.jupyter.widget-view+json": {
       "model_id": "46d54986a259476f9a5c6ae0d37f33df",
       "version_major": 2,
       "version_minor": 0
      },
      "text/plain": [
       "Epochs loop:   0%|          | 0/30000 [00:00<?, ?it/s]"
      ]
     },
     "metadata": {},
     "output_type": "display_data"
    },
    {
     "name": "stdout",
     "output_type": "stream",
     "text": [
      "Summary:\n",
      "-learning rate = 0.00527\n",
      "-Model saved after iteration 14456.\n",
      "-Train.  Loss=0.0103389\n",
      "-Valid.  Loss=0.0413704\n",
      "'train_loss_fward05_23.csv' saved.\n",
      "'valid_loss_fward05_23.csv' saved.\n",
      "'model13_fward05_23_last.pth' saved.\n",
      "'model13_fward05_23_best.pth' saved.\n",
      "- train minibatches = 1\n",
      "- valid minibatches = 1\n",
      "- test minibatches = 1\n"
     ]
    },
    {
     "data": {
      "application/vnd.jupyter.widget-view+json": {
       "model_id": "8ade134844a04bd6a7a08fa1655a9ab8",
       "version_major": 2,
       "version_minor": 0
      },
      "text/plain": [
       "Epochs loop:   0%|          | 0/30000 [00:00<?, ?it/s]"
      ]
     },
     "metadata": {},
     "output_type": "display_data"
    },
    {
     "name": "stdout",
     "output_type": "stream",
     "text": [
      "Summary:\n",
      "-learning rate = 0.00527\n",
      "-Model saved after iteration 12981.\n",
      "-Train.  Loss=0.0107406\n",
      "-Valid.  Loss=0.0664414\n",
      "'train_loss_fward05_24.csv' saved.\n",
      "'valid_loss_fward05_24.csv' saved.\n",
      "'model13_fward05_24_last.pth' saved.\n",
      "'model13_fward05_24_best.pth' saved.\n",
      "- train minibatches = 1\n",
      "- valid minibatches = 1\n",
      "- test minibatches = 1\n"
     ]
    },
    {
     "data": {
      "application/vnd.jupyter.widget-view+json": {
       "model_id": "9725eedfc02a403f841450cc92a35783",
       "version_major": 2,
       "version_minor": 0
      },
      "text/plain": [
       "Epochs loop:   0%|          | 0/30000 [00:00<?, ?it/s]"
      ]
     },
     "metadata": {},
     "output_type": "display_data"
    },
    {
     "name": "stdout",
     "output_type": "stream",
     "text": [
      "Summary:\n",
      "-learning rate = 0.00527\n",
      "-Model saved after iteration 9326.\n",
      "-Train.  Loss=0.0167598\n",
      "-Valid.  Loss=0.0669158\n",
      "'train_loss_fward05_25.csv' saved.\n",
      "'valid_loss_fward05_25.csv' saved.\n",
      "'model13_fward05_25_last.pth' saved.\n",
      "'model13_fward05_25_best.pth' saved.\n",
      "- train minibatches = 1\n",
      "- valid minibatches = 1\n",
      "- test minibatches = 1\n"
     ]
    },
    {
     "data": {
      "application/vnd.jupyter.widget-view+json": {
       "model_id": "0f1a93b254a045c88bb54341adc778b0",
       "version_major": 2,
       "version_minor": 0
      },
      "text/plain": [
       "Epochs loop:   0%|          | 0/30000 [00:00<?, ?it/s]"
      ]
     },
     "metadata": {},
     "output_type": "display_data"
    },
    {
     "name": "stdout",
     "output_type": "stream",
     "text": [
      "Summary:\n",
      "-learning rate = 0.00527\n",
      "-Model saved after iteration 10841.\n",
      "-Train.  Loss=0.0136259\n",
      "-Valid.  Loss=0.0541545\n",
      "'train_loss_fward05_26.csv' saved.\n",
      "'valid_loss_fward05_26.csv' saved.\n",
      "'model13_fward05_26_last.pth' saved.\n",
      "'model13_fward05_26_best.pth' saved.\n",
      "- train minibatches = 1\n",
      "- valid minibatches = 1\n",
      "- test minibatches = 1\n"
     ]
    },
    {
     "data": {
      "application/vnd.jupyter.widget-view+json": {
       "model_id": "3ad2b5b955374363aeb80603e3c45edd",
       "version_major": 2,
       "version_minor": 0
      },
      "text/plain": [
       "Epochs loop:   0%|          | 0/30000 [00:00<?, ?it/s]"
      ]
     },
     "metadata": {},
     "output_type": "display_data"
    },
    {
     "name": "stdout",
     "output_type": "stream",
     "text": [
      "Summary:\n",
      "-learning rate = 0.00527\n",
      "-Model saved after iteration 10295.\n",
      "-Train.  Loss=0.0140047\n",
      "-Valid.  Loss=0.0802044\n",
      "'train_loss_fward05_27.csv' saved.\n",
      "'valid_loss_fward05_27.csv' saved.\n",
      "'model13_fward05_27_last.pth' saved.\n",
      "'model13_fward05_27_best.pth' saved.\n",
      "- train minibatches = 1\n",
      "- valid minibatches = 1\n",
      "- test minibatches = 1\n"
     ]
    },
    {
     "data": {
      "application/vnd.jupyter.widget-view+json": {
       "model_id": "92f31d44b9754cfcbf74229794a5448d",
       "version_major": 2,
       "version_minor": 0
      },
      "text/plain": [
       "Epochs loop:   0%|          | 0/30000 [00:00<?, ?it/s]"
      ]
     },
     "metadata": {},
     "output_type": "display_data"
    },
    {
     "name": "stdout",
     "output_type": "stream",
     "text": [
      "Summary:\n",
      "-learning rate = 0.00527\n",
      "-Model saved after iteration 19094.\n",
      "-Train.  Loss=0.0088472\n",
      "-Valid.  Loss=0.0459954\n",
      "'train_loss_fward05_28.csv' saved.\n",
      "'valid_loss_fward05_28.csv' saved.\n",
      "'model13_fward05_28_last.pth' saved.\n",
      "'model13_fward05_28_best.pth' saved.\n",
      "- train minibatches = 1\n",
      "- valid minibatches = 1\n",
      "- test minibatches = 1\n"
     ]
    },
    {
     "data": {
      "application/vnd.jupyter.widget-view+json": {
       "model_id": "6476d2ff99c3404683a631f1c4115cbc",
       "version_major": 2,
       "version_minor": 0
      },
      "text/plain": [
       "Epochs loop:   0%|          | 0/30000 [00:00<?, ?it/s]"
      ]
     },
     "metadata": {},
     "output_type": "display_data"
    },
    {
     "name": "stdout",
     "output_type": "stream",
     "text": [
      "Summary:\n",
      "-learning rate = 0.00527\n",
      "-Model saved after iteration 9650.\n",
      "-Train.  Loss=0.0166874\n",
      "-Valid.  Loss=0.0608092\n",
      "'train_loss_fward05_29.csv' saved.\n",
      "'valid_loss_fward05_29.csv' saved.\n",
      "'model13_fward05_29_last.pth' saved.\n",
      "'model13_fward05_29_best.pth' saved.\n",
      "- train minibatches = 1\n",
      "- valid minibatches = 1\n",
      "- test minibatches = 1\n"
     ]
    },
    {
     "data": {
      "application/vnd.jupyter.widget-view+json": {
       "model_id": "f2675866526244c4b9bd39f237b12065",
       "version_major": 2,
       "version_minor": 0
      },
      "text/plain": [
       "Epochs loop:   0%|          | 0/30000 [00:00<?, ?it/s]"
      ]
     },
     "metadata": {},
     "output_type": "display_data"
    },
    {
     "name": "stdout",
     "output_type": "stream",
     "text": [
      "Summary:\n",
      "-learning rate = 0.00527\n",
      "-Model saved after iteration 9749.\n",
      "-Train.  Loss=0.0184367\n",
      "-Valid.  Loss=0.0659852\n",
      "'train_loss_fward05_30.csv' saved.\n",
      "'valid_loss_fward05_30.csv' saved.\n",
      "'model13_fward05_30_last.pth' saved.\n",
      "'model13_fward05_30_best.pth' saved.\n",
      "- train minibatches = 1\n",
      "- valid minibatches = 1\n",
      "- test minibatches = 1\n"
     ]
    },
    {
     "data": {
      "application/vnd.jupyter.widget-view+json": {
       "model_id": "16dea79a2d184a1287b7e30ef02ff1e5",
       "version_major": 2,
       "version_minor": 0
      },
      "text/plain": [
       "Epochs loop:   0%|          | 0/30000 [00:00<?, ?it/s]"
      ]
     },
     "metadata": {},
     "output_type": "display_data"
    },
    {
     "name": "stdout",
     "output_type": "stream",
     "text": [
      "Summary:\n",
      "-learning rate = 0.00527\n",
      "-Model saved after iteration 19277.\n",
      "-Train.  Loss=0.0073947\n",
      "-Valid.  Loss=0.0450083\n",
      "'train_loss_fward05_31.csv' saved.\n",
      "'valid_loss_fward05_31.csv' saved.\n",
      "'model13_fward05_31_last.pth' saved.\n",
      "'model13_fward05_31_best.pth' saved.\n",
      "- train minibatches = 1\n",
      "- valid minibatches = 1\n",
      "- test minibatches = 1\n"
     ]
    },
    {
     "data": {
      "application/vnd.jupyter.widget-view+json": {
       "model_id": "cfcf50afb3c441e88c90141ff98506c5",
       "version_major": 2,
       "version_minor": 0
      },
      "text/plain": [
       "Epochs loop:   0%|          | 0/30000 [00:00<?, ?it/s]"
      ]
     },
     "metadata": {},
     "output_type": "display_data"
    },
    {
     "name": "stdout",
     "output_type": "stream",
     "text": [
      "Summary:\n",
      "-learning rate = 0.00527\n",
      "-Model saved after iteration 8769.\n",
      "-Train.  Loss=0.0214896\n",
      "-Valid.  Loss=0.0584317\n",
      "'train_loss_fward05_32.csv' saved.\n",
      "'valid_loss_fward05_32.csv' saved.\n",
      "'model13_fward05_32_last.pth' saved.\n",
      "'model13_fward05_32_best.pth' saved.\n",
      "- train minibatches = 1\n",
      "- valid minibatches = 1\n",
      "- test minibatches = 1\n"
     ]
    },
    {
     "data": {
      "application/vnd.jupyter.widget-view+json": {
       "model_id": "3bcfc370354b49879e782292bb1f678c",
       "version_major": 2,
       "version_minor": 0
      },
      "text/plain": [
       "Epochs loop:   0%|          | 0/30000 [00:00<?, ?it/s]"
      ]
     },
     "metadata": {},
     "output_type": "display_data"
    },
    {
     "name": "stdout",
     "output_type": "stream",
     "text": [
      "Summary:\n",
      "-learning rate = 0.00527\n",
      "-Model saved after iteration 12801.\n",
      "-Train.  Loss=0.0111768\n",
      "-Valid.  Loss=0.0664424\n",
      "'train_loss_fward05_33.csv' saved.\n",
      "'valid_loss_fward05_33.csv' saved.\n",
      "'model13_fward05_33_last.pth' saved.\n",
      "'model13_fward05_33_best.pth' saved.\n",
      "- train minibatches = 1\n",
      "- valid minibatches = 1\n",
      "- test minibatches = 1\n"
     ]
    },
    {
     "data": {
      "application/vnd.jupyter.widget-view+json": {
       "model_id": "cf93a85cfbe640b9a030bb83f05df117",
       "version_major": 2,
       "version_minor": 0
      },
      "text/plain": [
       "Epochs loop:   0%|          | 0/30000 [00:00<?, ?it/s]"
      ]
     },
     "metadata": {},
     "output_type": "display_data"
    },
    {
     "name": "stdout",
     "output_type": "stream",
     "text": [
      "Summary:\n",
      "-learning rate = 0.00527\n",
      "-Model saved after iteration 6381.\n",
      "-Train.  Loss=0.0238191\n",
      "-Valid.  Loss=0.0982147\n",
      "'train_loss_fward05_34.csv' saved.\n",
      "'valid_loss_fward05_34.csv' saved.\n",
      "'model13_fward05_34_last.pth' saved.\n",
      "'model13_fward05_34_best.pth' saved.\n",
      "- train minibatches = 1\n",
      "- valid minibatches = 1\n",
      "- test minibatches = 1\n"
     ]
    },
    {
     "data": {
      "application/vnd.jupyter.widget-view+json": {
       "model_id": "ccb12cd2f39c4c0b94dcf368fa2667fd",
       "version_major": 2,
       "version_minor": 0
      },
      "text/plain": [
       "Epochs loop:   0%|          | 0/30000 [00:00<?, ?it/s]"
      ]
     },
     "metadata": {},
     "output_type": "display_data"
    },
    {
     "name": "stdout",
     "output_type": "stream",
     "text": [
      "Summary:\n",
      "-learning rate = 0.00527\n",
      "-Model saved after iteration 11027.\n",
      "-Train.  Loss=0.0161921\n",
      "-Valid.  Loss=0.0380920\n",
      "'train_loss_fward05_35.csv' saved.\n",
      "'valid_loss_fward05_35.csv' saved.\n",
      "'model13_fward05_35_last.pth' saved.\n",
      "'model13_fward05_35_best.pth' saved.\n",
      "- train minibatches = 1\n",
      "- valid minibatches = 1\n",
      "- test minibatches = 1\n"
     ]
    },
    {
     "data": {
      "application/vnd.jupyter.widget-view+json": {
       "model_id": "8ba28a75b8c5407db9247446e7d97fb9",
       "version_major": 2,
       "version_minor": 0
      },
      "text/plain": [
       "Epochs loop:   0%|          | 0/30000 [00:00<?, ?it/s]"
      ]
     },
     "metadata": {},
     "output_type": "display_data"
    },
    {
     "name": "stdout",
     "output_type": "stream",
     "text": [
      "Summary:\n",
      "-learning rate = 0.00527\n",
      "-Model saved after iteration 12727.\n",
      "-Train.  Loss=0.0139557\n",
      "-Valid.  Loss=0.0550750\n",
      "'train_loss_fward05_36.csv' saved.\n",
      "'valid_loss_fward05_36.csv' saved.\n",
      "'model13_fward05_36_last.pth' saved.\n",
      "'model13_fward05_36_best.pth' saved.\n",
      "- train minibatches = 1\n",
      "- valid minibatches = 1\n",
      "- test minibatches = 1\n"
     ]
    },
    {
     "data": {
      "application/vnd.jupyter.widget-view+json": {
       "model_id": "3daa4959a5d64299bad7a98b4ec1e86e",
       "version_major": 2,
       "version_minor": 0
      },
      "text/plain": [
       "Epochs loop:   0%|          | 0/30000 [00:00<?, ?it/s]"
      ]
     },
     "metadata": {},
     "output_type": "display_data"
    },
    {
     "name": "stdout",
     "output_type": "stream",
     "text": [
      "Summary:\n",
      "-learning rate = 0.00527\n",
      "-Model saved after iteration 10380.\n",
      "-Train.  Loss=0.0151707\n",
      "-Valid.  Loss=0.0389599\n",
      "'train_loss_fward05_37.csv' saved.\n",
      "'valid_loss_fward05_37.csv' saved.\n",
      "'model13_fward05_37_last.pth' saved.\n",
      "'model13_fward05_37_best.pth' saved.\n",
      "- train minibatches = 1\n",
      "- valid minibatches = 1\n",
      "- test minibatches = 1\n"
     ]
    },
    {
     "data": {
      "application/vnd.jupyter.widget-view+json": {
       "model_id": "36fe2c7e1e6d4ef0a009c6f63da01717",
       "version_major": 2,
       "version_minor": 0
      },
      "text/plain": [
       "Epochs loop:   0%|          | 0/30000 [00:00<?, ?it/s]"
      ]
     },
     "metadata": {},
     "output_type": "display_data"
    },
    {
     "name": "stdout",
     "output_type": "stream",
     "text": [
      "Summary:\n",
      "-learning rate = 0.00527\n",
      "-Model saved after iteration 12230.\n",
      "-Train.  Loss=0.0136135\n",
      "-Valid.  Loss=0.0594085\n",
      "'train_loss_fward05_38.csv' saved.\n",
      "'valid_loss_fward05_38.csv' saved.\n",
      "'model13_fward05_38_last.pth' saved.\n",
      "'model13_fward05_38_best.pth' saved.\n",
      "- train minibatches = 1\n",
      "- valid minibatches = 1\n",
      "- test minibatches = 1\n"
     ]
    },
    {
     "data": {
      "application/vnd.jupyter.widget-view+json": {
       "model_id": "140045a0fd7d4ffc97fe4e65f1d8cc78",
       "version_major": 2,
       "version_minor": 0
      },
      "text/plain": [
       "Epochs loop:   0%|          | 0/30000 [00:00<?, ?it/s]"
      ]
     },
     "metadata": {},
     "output_type": "display_data"
    },
    {
     "name": "stdout",
     "output_type": "stream",
     "text": [
      "Summary:\n",
      "-learning rate = 0.00527\n",
      "-Model saved after iteration 9505.\n",
      "-Train.  Loss=0.0162319\n",
      "-Valid.  Loss=0.0563352\n",
      "'train_loss_fward05_39.csv' saved.\n",
      "'valid_loss_fward05_39.csv' saved.\n",
      "'model13_fward05_39_last.pth' saved.\n",
      "'model13_fward05_39_best.pth' saved.\n",
      "- train minibatches = 1\n",
      "- valid minibatches = 1\n",
      "- test minibatches = 1\n"
     ]
    },
    {
     "data": {
      "application/vnd.jupyter.widget-view+json": {
       "model_id": "e2217bfd933c45cbba7a88f9aa5357fc",
       "version_major": 2,
       "version_minor": 0
      },
      "text/plain": [
       "Epochs loop:   0%|          | 0/30000 [00:00<?, ?it/s]"
      ]
     },
     "metadata": {},
     "output_type": "display_data"
    },
    {
     "name": "stdout",
     "output_type": "stream",
     "text": [
      "Summary:\n",
      "-learning rate = 0.00527\n",
      "-Model saved after iteration 10564.\n",
      "-Train.  Loss=0.0146512\n",
      "-Valid.  Loss=0.0657625\n",
      "'train_loss_fward05_40.csv' saved.\n",
      "'valid_loss_fward05_40.csv' saved.\n",
      "'model13_fward05_40_last.pth' saved.\n",
      "'model13_fward05_40_best.pth' saved.\n",
      "- train minibatches = 1\n",
      "- valid minibatches = 1\n",
      "- test minibatches = 1\n"
     ]
    },
    {
     "data": {
      "application/vnd.jupyter.widget-view+json": {
       "model_id": "8375d62233cf4a46b8aaeffd65f973b6",
       "version_major": 2,
       "version_minor": 0
      },
      "text/plain": [
       "Epochs loop:   0%|          | 0/30000 [00:00<?, ?it/s]"
      ]
     },
     "metadata": {},
     "output_type": "display_data"
    },
    {
     "name": "stdout",
     "output_type": "stream",
     "text": [
      "Summary:\n",
      "-learning rate = 0.00527\n",
      "-Model saved after iteration 8990.\n",
      "-Train.  Loss=0.0184286\n",
      "-Valid.  Loss=0.0674172\n",
      "'train_loss_fward05_41.csv' saved.\n",
      "'valid_loss_fward05_41.csv' saved.\n",
      "'model13_fward05_41_last.pth' saved.\n",
      "'model13_fward05_41_best.pth' saved.\n",
      "- train minibatches = 1\n",
      "- valid minibatches = 1\n",
      "- test minibatches = 1\n"
     ]
    },
    {
     "data": {
      "application/vnd.jupyter.widget-view+json": {
       "model_id": "fcbca2d26b5e432aa180bd9044bdf849",
       "version_major": 2,
       "version_minor": 0
      },
      "text/plain": [
       "Epochs loop:   0%|          | 0/30000 [00:00<?, ?it/s]"
      ]
     },
     "metadata": {},
     "output_type": "display_data"
    },
    {
     "name": "stdout",
     "output_type": "stream",
     "text": [
      "Summary:\n",
      "-learning rate = 0.00527\n",
      "-Model saved after iteration 9983.\n",
      "-Train.  Loss=0.0159048\n",
      "-Valid.  Loss=0.0546468\n",
      "'train_loss_fward05_42.csv' saved.\n",
      "'valid_loss_fward05_42.csv' saved.\n",
      "'model13_fward05_42_last.pth' saved.\n",
      "'model13_fward05_42_best.pth' saved.\n",
      "- train minibatches = 1\n",
      "- valid minibatches = 1\n",
      "- test minibatches = 1\n"
     ]
    },
    {
     "data": {
      "application/vnd.jupyter.widget-view+json": {
       "model_id": "269bca33d09441fa86d875dfb36a9bf6",
       "version_major": 2,
       "version_minor": 0
      },
      "text/plain": [
       "Epochs loop:   0%|          | 0/30000 [00:00<?, ?it/s]"
      ]
     },
     "metadata": {},
     "output_type": "display_data"
    },
    {
     "name": "stdout",
     "output_type": "stream",
     "text": [
      "Summary:\n",
      "-learning rate = 0.00527\n",
      "-Model saved after iteration 9692.\n",
      "-Train.  Loss=0.0172174\n",
      "-Valid.  Loss=0.0739106\n",
      "'train_loss_fward05_43.csv' saved.\n",
      "'valid_loss_fward05_43.csv' saved.\n",
      "'model13_fward05_43_last.pth' saved.\n",
      "'model13_fward05_43_best.pth' saved.\n",
      "- train minibatches = 1\n",
      "- valid minibatches = 1\n",
      "- test minibatches = 1\n"
     ]
    },
    {
     "data": {
      "application/vnd.jupyter.widget-view+json": {
       "model_id": "b033d11d436f4fa1958f834bb2ca0ca0",
       "version_major": 2,
       "version_minor": 0
      },
      "text/plain": [
       "Epochs loop:   0%|          | 0/30000 [00:00<?, ?it/s]"
      ]
     },
     "metadata": {},
     "output_type": "display_data"
    },
    {
     "name": "stdout",
     "output_type": "stream",
     "text": [
      "Summary:\n",
      "-learning rate = 0.00527\n",
      "-Model saved after iteration 10001.\n",
      "-Train.  Loss=0.0140953\n",
      "-Valid.  Loss=0.0703272\n",
      "'train_loss_fward05_44.csv' saved.\n",
      "'valid_loss_fward05_44.csv' saved.\n",
      "'model13_fward05_44_last.pth' saved.\n",
      "'model13_fward05_44_best.pth' saved.\n",
      "- train minibatches = 1\n",
      "- valid minibatches = 1\n",
      "- test minibatches = 1\n"
     ]
    },
    {
     "data": {
      "application/vnd.jupyter.widget-view+json": {
       "model_id": "30b1ed688e3e4e9cb2679c07e005e52b",
       "version_major": 2,
       "version_minor": 0
      },
      "text/plain": [
       "Epochs loop:   0%|          | 0/30000 [00:00<?, ?it/s]"
      ]
     },
     "metadata": {},
     "output_type": "display_data"
    },
    {
     "name": "stdout",
     "output_type": "stream",
     "text": [
      "Summary:\n",
      "-learning rate = 0.00527\n",
      "-Model saved after iteration 12393.\n",
      "-Train.  Loss=0.0121857\n",
      "-Valid.  Loss=0.0551046\n",
      "'train_loss_fward05_45.csv' saved.\n",
      "'valid_loss_fward05_45.csv' saved.\n",
      "'model13_fward05_45_last.pth' saved.\n",
      "'model13_fward05_45_best.pth' saved.\n",
      "- train minibatches = 1\n",
      "- valid minibatches = 1\n",
      "- test minibatches = 1\n"
     ]
    },
    {
     "data": {
      "application/vnd.jupyter.widget-view+json": {
       "model_id": "2241c8d56aa9485c8192530105705b3e",
       "version_major": 2,
       "version_minor": 0
      },
      "text/plain": [
       "Epochs loop:   0%|          | 0/30000 [00:00<?, ?it/s]"
      ]
     },
     "metadata": {},
     "output_type": "display_data"
    },
    {
     "name": "stdout",
     "output_type": "stream",
     "text": [
      "Summary:\n",
      "-learning rate = 0.00527\n",
      "-Model saved after iteration 8641.\n",
      "-Train.  Loss=0.0178726\n",
      "-Valid.  Loss=0.0677125\n",
      "'train_loss_fward05_46.csv' saved.\n",
      "'valid_loss_fward05_46.csv' saved.\n",
      "'model13_fward05_46_last.pth' saved.\n",
      "'model13_fward05_46_best.pth' saved.\n",
      "- train minibatches = 1\n",
      "- valid minibatches = 1\n",
      "- test minibatches = 1\n"
     ]
    },
    {
     "data": {
      "application/vnd.jupyter.widget-view+json": {
       "model_id": "99889445502b4a979535a5c5fed0b3aa",
       "version_major": 2,
       "version_minor": 0
      },
      "text/plain": [
       "Epochs loop:   0%|          | 0/30000 [00:00<?, ?it/s]"
      ]
     },
     "metadata": {},
     "output_type": "display_data"
    },
    {
     "name": "stdout",
     "output_type": "stream",
     "text": [
      "Summary:\n",
      "-learning rate = 0.00527\n",
      "-Model saved after iteration 8770.\n",
      "-Train.  Loss=0.0179284\n",
      "-Valid.  Loss=0.0849776\n",
      "'train_loss_fward05_47.csv' saved.\n",
      "'valid_loss_fward05_47.csv' saved.\n",
      "'model13_fward05_47_last.pth' saved.\n",
      "'model13_fward05_47_best.pth' saved.\n",
      "- train minibatches = 1\n",
      "- valid minibatches = 1\n",
      "- test minibatches = 1\n"
     ]
    },
    {
     "data": {
      "application/vnd.jupyter.widget-view+json": {
       "model_id": "ca3b2a73d1f54d69a38dd7049b79730d",
       "version_major": 2,
       "version_minor": 0
      },
      "text/plain": [
       "Epochs loop:   0%|          | 0/30000 [00:00<?, ?it/s]"
      ]
     },
     "metadata": {},
     "output_type": "display_data"
    },
    {
     "name": "stdout",
     "output_type": "stream",
     "text": [
      "Summary:\n",
      "-learning rate = 0.00527\n",
      "-Model saved after iteration 8163.\n",
      "-Train.  Loss=0.0208513\n",
      "-Valid.  Loss=0.0694756\n",
      "'train_loss_fward05_48.csv' saved.\n",
      "'valid_loss_fward05_48.csv' saved.\n",
      "'model13_fward05_48_last.pth' saved.\n",
      "'model13_fward05_48_best.pth' saved.\n",
      "- train minibatches = 1\n",
      "- valid minibatches = 1\n",
      "- test minibatches = 1\n"
     ]
    },
    {
     "data": {
      "application/vnd.jupyter.widget-view+json": {
       "model_id": "4e482413864641f7bb08c54fa4dc89c5",
       "version_major": 2,
       "version_minor": 0
      },
      "text/plain": [
       "Epochs loop:   0%|          | 0/30000 [00:00<?, ?it/s]"
      ]
     },
     "metadata": {},
     "output_type": "display_data"
    },
    {
     "name": "stdout",
     "output_type": "stream",
     "text": [
      "Summary:\n",
      "-learning rate = 0.00527\n",
      "-Model saved after iteration 8440.\n",
      "-Train.  Loss=0.0196519\n",
      "-Valid.  Loss=0.0916070\n",
      "'train_loss_fward05_49.csv' saved.\n",
      "'valid_loss_fward05_49.csv' saved.\n",
      "'model13_fward05_49_last.pth' saved.\n",
      "'model13_fward05_49_best.pth' saved.\n",
      "- train minibatches = 1\n",
      "- valid minibatches = 1\n",
      "- test minibatches = 1\n"
     ]
    },
    {
     "data": {
      "application/vnd.jupyter.widget-view+json": {
       "model_id": "fe14e4b242464c1fb0344ffa0e64cc9b",
       "version_major": 2,
       "version_minor": 0
      },
      "text/plain": [
       "Epochs loop:   0%|          | 0/30000 [00:00<?, ?it/s]"
      ]
     },
     "metadata": {},
     "output_type": "display_data"
    },
    {
     "name": "stdout",
     "output_type": "stream",
     "text": [
      "Summary:\n",
      "-learning rate = 0.00527\n",
      "-Model saved after iteration 9648.\n",
      "-Train.  Loss=0.0172895\n",
      "-Valid.  Loss=0.0801735\n",
      "'train_loss_fward05_50.csv' saved.\n",
      "'valid_loss_fward05_50.csv' saved.\n",
      "'model13_fward05_50_last.pth' saved.\n",
      "'model13_fward05_50_best.pth' saved.\n",
      "- train minibatches = 1\n",
      "- valid minibatches = 1\n",
      "- test minibatches = 1\n"
     ]
    },
    {
     "data": {
      "application/vnd.jupyter.widget-view+json": {
       "model_id": "f32d0cbb43bc4f1b91b4767bf1e9e277",
       "version_major": 2,
       "version_minor": 0
      },
      "text/plain": [
       "Epochs loop:   0%|          | 0/30000 [00:00<?, ?it/s]"
      ]
     },
     "metadata": {},
     "output_type": "display_data"
    },
    {
     "name": "stdout",
     "output_type": "stream",
     "text": [
      "Summary:\n",
      "-learning rate = 0.00527\n",
      "-Model saved after iteration 8850.\n",
      "-Train.  Loss=0.0200915\n",
      "-Valid.  Loss=0.0742662\n",
      "'train_loss_fward05_51.csv' saved.\n",
      "'valid_loss_fward05_51.csv' saved.\n",
      "'model13_fward05_51_last.pth' saved.\n",
      "'model13_fward05_51_best.pth' saved.\n",
      "- train minibatches = 1\n",
      "- valid minibatches = 1\n",
      "- test minibatches = 1\n"
     ]
    },
    {
     "data": {
      "application/vnd.jupyter.widget-view+json": {
       "model_id": "fa53396bc6d54328b864fd8d8db64124",
       "version_major": 2,
       "version_minor": 0
      },
      "text/plain": [
       "Epochs loop:   0%|          | 0/30000 [00:00<?, ?it/s]"
      ]
     },
     "metadata": {},
     "output_type": "display_data"
    },
    {
     "name": "stdout",
     "output_type": "stream",
     "text": [
      "Summary:\n",
      "-learning rate = 0.00527\n",
      "-Model saved after iteration 8174.\n",
      "-Train.  Loss=0.0181203\n",
      "-Valid.  Loss=0.0669723\n",
      "'train_loss_fward05_52.csv' saved.\n",
      "'valid_loss_fward05_52.csv' saved.\n",
      "'model13_fward05_52_last.pth' saved.\n",
      "'model13_fward05_52_best.pth' saved.\n",
      "- train minibatches = 1\n",
      "- valid minibatches = 1\n",
      "- test minibatches = 1\n"
     ]
    },
    {
     "data": {
      "application/vnd.jupyter.widget-view+json": {
       "model_id": "dbfe5e0b0652454399e5f3832c9dcdac",
       "version_major": 2,
       "version_minor": 0
      },
      "text/plain": [
       "Epochs loop:   0%|          | 0/30000 [00:00<?, ?it/s]"
      ]
     },
     "metadata": {},
     "output_type": "display_data"
    },
    {
     "name": "stdout",
     "output_type": "stream",
     "text": [
      "Summary:\n",
      "-learning rate = 0.00527\n",
      "-Model saved after iteration 7238.\n",
      "-Train.  Loss=0.0222087\n",
      "-Valid.  Loss=0.0880121\n",
      "'train_loss_fward05_53.csv' saved.\n",
      "'valid_loss_fward05_53.csv' saved.\n",
      "'model13_fward05_53_last.pth' saved.\n",
      "'model13_fward05_53_best.pth' saved.\n",
      "- train minibatches = 1\n",
      "- valid minibatches = 1\n",
      "- test minibatches = 1\n"
     ]
    },
    {
     "data": {
      "application/vnd.jupyter.widget-view+json": {
       "model_id": "bcfceb122060443297d3c00758eac9a8",
       "version_major": 2,
       "version_minor": 0
      },
      "text/plain": [
       "Epochs loop:   0%|          | 0/30000 [00:00<?, ?it/s]"
      ]
     },
     "metadata": {},
     "output_type": "display_data"
    },
    {
     "name": "stdout",
     "output_type": "stream",
     "text": [
      "Summary:\n",
      "-learning rate = 0.00527\n",
      "-Model saved after iteration 8366.\n",
      "-Train.  Loss=0.0205762\n",
      "-Valid.  Loss=0.0586325\n",
      "'train_loss_fward05_54.csv' saved.\n",
      "'valid_loss_fward05_54.csv' saved.\n",
      "'model13_fward05_54_last.pth' saved.\n",
      "'model13_fward05_54_best.pth' saved.\n",
      "- train minibatches = 1\n",
      "- valid minibatches = 1\n",
      "- test minibatches = 1\n"
     ]
    },
    {
     "data": {
      "application/vnd.jupyter.widget-view+json": {
       "model_id": "821a48a534fa472e8c602da4bd5dff40",
       "version_major": 2,
       "version_minor": 0
      },
      "text/plain": [
       "Epochs loop:   0%|          | 0/30000 [00:00<?, ?it/s]"
      ]
     },
     "metadata": {},
     "output_type": "display_data"
    },
    {
     "name": "stdout",
     "output_type": "stream",
     "text": [
      "Summary:\n",
      "-learning rate = 0.00527\n",
      "-Model saved after iteration 10044.\n",
      "-Train.  Loss=0.0155645\n",
      "-Valid.  Loss=0.0636560\n",
      "'train_loss_fward05_55.csv' saved.\n",
      "'valid_loss_fward05_55.csv' saved.\n",
      "'model13_fward05_55_last.pth' saved.\n",
      "'model13_fward05_55_best.pth' saved.\n",
      "- train minibatches = 1\n",
      "- valid minibatches = 1\n",
      "- test minibatches = 1\n"
     ]
    },
    {
     "data": {
      "application/vnd.jupyter.widget-view+json": {
       "model_id": "6322b8af1cda4d01b59764a630cc6f0f",
       "version_major": 2,
       "version_minor": 0
      },
      "text/plain": [
       "Epochs loop:   0%|          | 0/30000 [00:00<?, ?it/s]"
      ]
     },
     "metadata": {},
     "output_type": "display_data"
    },
    {
     "name": "stdout",
     "output_type": "stream",
     "text": [
      "Summary:\n",
      "-learning rate = 0.00527\n",
      "-Model saved after iteration 8641.\n",
      "-Train.  Loss=0.0216049\n",
      "-Valid.  Loss=0.0602390\n",
      "'train_loss_fward05_56.csv' saved.\n",
      "'valid_loss_fward05_56.csv' saved.\n",
      "'model13_fward05_56_last.pth' saved.\n",
      "'model13_fward05_56_best.pth' saved.\n",
      "- train minibatches = 1\n",
      "- valid minibatches = 1\n",
      "- test minibatches = 1\n"
     ]
    },
    {
     "data": {
      "application/vnd.jupyter.widget-view+json": {
       "model_id": "ace73d285a3a479886620c3efd832ad6",
       "version_major": 2,
       "version_minor": 0
      },
      "text/plain": [
       "Epochs loop:   0%|          | 0/30000 [00:00<?, ?it/s]"
      ]
     },
     "metadata": {},
     "output_type": "display_data"
    },
    {
     "name": "stdout",
     "output_type": "stream",
     "text": [
      "Summary:\n",
      "-learning rate = 0.00527\n",
      "-Model saved after iteration 25940.\n",
      "-Train.  Loss=0.0073166\n",
      "-Valid.  Loss=0.0497702\n",
      "'train_loss_fward05_57.csv' saved.\n",
      "'valid_loss_fward05_57.csv' saved.\n",
      "'model13_fward05_57_last.pth' saved.\n",
      "'model13_fward05_57_best.pth' saved.\n",
      "- train minibatches = 1\n",
      "- valid minibatches = 1\n",
      "- test minibatches = 1\n"
     ]
    },
    {
     "data": {
      "application/vnd.jupyter.widget-view+json": {
       "model_id": "0920008966ef427097ac7f649bd90ea8",
       "version_major": 2,
       "version_minor": 0
      },
      "text/plain": [
       "Epochs loop:   0%|          | 0/30000 [00:00<?, ?it/s]"
      ]
     },
     "metadata": {},
     "output_type": "display_data"
    },
    {
     "name": "stdout",
     "output_type": "stream",
     "text": [
      "Summary:\n",
      "-learning rate = 0.00527\n",
      "-Model saved after iteration 7822.\n",
      "-Train.  Loss=0.0215205\n",
      "-Valid.  Loss=0.0817529\n",
      "'train_loss_fward05_58.csv' saved.\n",
      "'valid_loss_fward05_58.csv' saved.\n",
      "'model13_fward05_58_last.pth' saved.\n",
      "'model13_fward05_58_best.pth' saved.\n",
      "- train minibatches = 1\n",
      "- valid minibatches = 1\n",
      "- test minibatches = 1\n"
     ]
    },
    {
     "data": {
      "application/vnd.jupyter.widget-view+json": {
       "model_id": "6b9943c30c994577bc3d407960ce06eb",
       "version_major": 2,
       "version_minor": 0
      },
      "text/plain": [
       "Epochs loop:   0%|          | 0/30000 [00:00<?, ?it/s]"
      ]
     },
     "metadata": {},
     "output_type": "display_data"
    },
    {
     "name": "stdout",
     "output_type": "stream",
     "text": [
      "Summary:\n",
      "-learning rate = 0.00527\n",
      "-Model saved after iteration 13304.\n",
      "-Train.  Loss=0.0125518\n",
      "-Valid.  Loss=0.0367939\n",
      "'train_loss_fward05_59.csv' saved.\n",
      "'valid_loss_fward05_59.csv' saved.\n",
      "'model13_fward05_59_last.pth' saved.\n",
      "'model13_fward05_59_best.pth' saved.\n",
      "- train minibatches = 1\n",
      "- valid minibatches = 1\n",
      "- test minibatches = 1\n"
     ]
    },
    {
     "data": {
      "application/vnd.jupyter.widget-view+json": {
       "model_id": "6b5b6a14ac074d2f8b56860e05920dbb",
       "version_major": 2,
       "version_minor": 0
      },
      "text/plain": [
       "Epochs loop:   0%|          | 0/30000 [00:00<?, ?it/s]"
      ]
     },
     "metadata": {},
     "output_type": "display_data"
    },
    {
     "name": "stdout",
     "output_type": "stream",
     "text": [
      "Summary:\n",
      "-learning rate = 0.00527\n",
      "-Model saved after iteration 10682.\n",
      "-Train.  Loss=0.0138222\n",
      "-Valid.  Loss=0.0690263\n",
      "'train_loss_fward05_60.csv' saved.\n",
      "'valid_loss_fward05_60.csv' saved.\n",
      "'model13_fward05_60_last.pth' saved.\n",
      "'model13_fward05_60_best.pth' saved.\n",
      "- train minibatches = 1\n",
      "- valid minibatches = 1\n",
      "- test minibatches = 1\n"
     ]
    },
    {
     "data": {
      "application/vnd.jupyter.widget-view+json": {
       "model_id": "bdb444292d71471baca3250cef8bbe22",
       "version_major": 2,
       "version_minor": 0
      },
      "text/plain": [
       "Epochs loop:   0%|          | 0/30000 [00:00<?, ?it/s]"
      ]
     },
     "metadata": {},
     "output_type": "display_data"
    },
    {
     "name": "stdout",
     "output_type": "stream",
     "text": [
      "Summary:\n",
      "-learning rate = 0.00527\n",
      "-Model saved after iteration 9668.\n",
      "-Train.  Loss=0.0156737\n",
      "-Valid.  Loss=0.0652843\n",
      "'train_loss_fward05_61.csv' saved.\n",
      "'valid_loss_fward05_61.csv' saved.\n",
      "'model13_fward05_61_last.pth' saved.\n",
      "'model13_fward05_61_best.pth' saved.\n",
      "- train minibatches = 1\n",
      "- valid minibatches = 1\n",
      "- test minibatches = 1\n"
     ]
    },
    {
     "data": {
      "application/vnd.jupyter.widget-view+json": {
       "model_id": "bcf45009d29345619efaf29378e0a2c0",
       "version_major": 2,
       "version_minor": 0
      },
      "text/plain": [
       "Epochs loop:   0%|          | 0/30000 [00:00<?, ?it/s]"
      ]
     },
     "metadata": {},
     "output_type": "display_data"
    },
    {
     "name": "stdout",
     "output_type": "stream",
     "text": [
      "Summary:\n",
      "-learning rate = 0.00527\n",
      "-Model saved after iteration 12450.\n",
      "-Train.  Loss=0.0117864\n",
      "-Valid.  Loss=0.0659140\n",
      "'train_loss_fward05_62.csv' saved.\n",
      "'valid_loss_fward05_62.csv' saved.\n",
      "'model13_fward05_62_last.pth' saved.\n",
      "'model13_fward05_62_best.pth' saved.\n",
      "- train minibatches = 1\n",
      "- valid minibatches = 1\n",
      "- test minibatches = 1\n"
     ]
    },
    {
     "data": {
      "application/vnd.jupyter.widget-view+json": {
       "model_id": "76d8e1e2310444cebe6816cfd4518405",
       "version_major": 2,
       "version_minor": 0
      },
      "text/plain": [
       "Epochs loop:   0%|          | 0/30000 [00:00<?, ?it/s]"
      ]
     },
     "metadata": {},
     "output_type": "display_data"
    },
    {
     "name": "stdout",
     "output_type": "stream",
     "text": [
      "Summary:\n",
      "-learning rate = 0.00527\n",
      "-Model saved after iteration 13294.\n",
      "-Train.  Loss=0.0131875\n",
      "-Valid.  Loss=0.0572259\n",
      "'train_loss_fward05_63.csv' saved.\n",
      "'valid_loss_fward05_63.csv' saved.\n",
      "'model13_fward05_63_last.pth' saved.\n",
      "'model13_fward05_63_best.pth' saved.\n",
      "- train minibatches = 1\n",
      "- valid minibatches = 1\n",
      "- test minibatches = 1\n"
     ]
    },
    {
     "data": {
      "application/vnd.jupyter.widget-view+json": {
       "model_id": "5bb1f081b231497281ae52951e647b32",
       "version_major": 2,
       "version_minor": 0
      },
      "text/plain": [
       "Epochs loop:   0%|          | 0/30000 [00:00<?, ?it/s]"
      ]
     },
     "metadata": {},
     "output_type": "display_data"
    },
    {
     "name": "stdout",
     "output_type": "stream",
     "text": [
      "Summary:\n",
      "-learning rate = 0.00527\n",
      "-Model saved after iteration 8889.\n",
      "-Train.  Loss=0.0175175\n",
      "-Valid.  Loss=0.0887390\n",
      "'train_loss_fward05_64.csv' saved.\n",
      "'valid_loss_fward05_64.csv' saved.\n",
      "'model13_fward05_64_last.pth' saved.\n",
      "'model13_fward05_64_best.pth' saved.\n",
      "- train minibatches = 1\n",
      "- valid minibatches = 1\n",
      "- test minibatches = 1\n"
     ]
    },
    {
     "data": {
      "application/vnd.jupyter.widget-view+json": {
       "model_id": "16fa0e8bb4e44b4cbe4d8ffa495faa1d",
       "version_major": 2,
       "version_minor": 0
      },
      "text/plain": [
       "Epochs loop:   0%|          | 0/30000 [00:00<?, ?it/s]"
      ]
     },
     "metadata": {},
     "output_type": "display_data"
    },
    {
     "name": "stdout",
     "output_type": "stream",
     "text": [
      "Summary:\n",
      "-learning rate = 0.00527\n",
      "-Model saved after iteration 13752.\n",
      "-Train.  Loss=0.0112252\n",
      "-Valid.  Loss=0.0620852\n",
      "'train_loss_fward05_65.csv' saved.\n",
      "'valid_loss_fward05_65.csv' saved.\n",
      "'model13_fward05_65_last.pth' saved.\n",
      "'model13_fward05_65_best.pth' saved.\n",
      "- train minibatches = 1\n",
      "- valid minibatches = 1\n",
      "- test minibatches = 1\n"
     ]
    },
    {
     "data": {
      "application/vnd.jupyter.widget-view+json": {
       "model_id": "03495a30fcdd4de5b6b1028806bcabb3",
       "version_major": 2,
       "version_minor": 0
      },
      "text/plain": [
       "Epochs loop:   0%|          | 0/30000 [00:00<?, ?it/s]"
      ]
     },
     "metadata": {},
     "output_type": "display_data"
    },
    {
     "name": "stdout",
     "output_type": "stream",
     "text": [
      "Summary:\n",
      "-learning rate = 0.00527\n",
      "-Model saved after iteration 11806.\n",
      "-Train.  Loss=0.0137966\n",
      "-Valid.  Loss=0.0521685\n",
      "'train_loss_fward05_66.csv' saved.\n",
      "'valid_loss_fward05_66.csv' saved.\n",
      "'model13_fward05_66_last.pth' saved.\n",
      "'model13_fward05_66_best.pth' saved.\n",
      "- train minibatches = 1\n",
      "- valid minibatches = 1\n",
      "- test minibatches = 1\n"
     ]
    },
    {
     "data": {
      "application/vnd.jupyter.widget-view+json": {
       "model_id": "6d402b49ec6d48bf85b683a0f9e27a76",
       "version_major": 2,
       "version_minor": 0
      },
      "text/plain": [
       "Epochs loop:   0%|          | 0/30000 [00:00<?, ?it/s]"
      ]
     },
     "metadata": {},
     "output_type": "display_data"
    },
    {
     "name": "stdout",
     "output_type": "stream",
     "text": [
      "Summary:\n",
      "-learning rate = 0.00527\n",
      "-Model saved after iteration 5728.\n",
      "-Train.  Loss=0.0321430\n",
      "-Valid.  Loss=0.0747301\n",
      "'train_loss_fward05_67.csv' saved.\n",
      "'valid_loss_fward05_67.csv' saved.\n",
      "'model13_fward05_67_last.pth' saved.\n",
      "'model13_fward05_67_best.pth' saved.\n",
      "- train minibatches = 1\n",
      "- valid minibatches = 1\n",
      "- test minibatches = 1\n"
     ]
    },
    {
     "data": {
      "application/vnd.jupyter.widget-view+json": {
       "model_id": "0b964e1b69c4410c9c374f2875f81e53",
       "version_major": 2,
       "version_minor": 0
      },
      "text/plain": [
       "Epochs loop:   0%|          | 0/30000 [00:00<?, ?it/s]"
      ]
     },
     "metadata": {},
     "output_type": "display_data"
    },
    {
     "name": "stdout",
     "output_type": "stream",
     "text": [
      "Summary:\n",
      "-learning rate = 0.00527\n",
      "-Model saved after iteration 8122.\n",
      "-Train.  Loss=0.0195329\n",
      "-Valid.  Loss=0.0800331\n",
      "'train_loss_fward05_68.csv' saved.\n",
      "'valid_loss_fward05_68.csv' saved.\n",
      "'model13_fward05_68_last.pth' saved.\n",
      "'model13_fward05_68_best.pth' saved.\n",
      "- train minibatches = 1\n",
      "- valid minibatches = 1\n",
      "- test minibatches = 1\n"
     ]
    },
    {
     "data": {
      "application/vnd.jupyter.widget-view+json": {
       "model_id": "4596be5290e04c3588a8f2274f6dfa86",
       "version_major": 2,
       "version_minor": 0
      },
      "text/plain": [
       "Epochs loop:   0%|          | 0/30000 [00:00<?, ?it/s]"
      ]
     },
     "metadata": {},
     "output_type": "display_data"
    },
    {
     "name": "stdout",
     "output_type": "stream",
     "text": [
      "Summary:\n",
      "-learning rate = 0.00527\n",
      "-Model saved after iteration 11978.\n",
      "-Train.  Loss=0.0142073\n",
      "-Valid.  Loss=0.0529312\n",
      "'train_loss_fward05_69.csv' saved.\n",
      "'valid_loss_fward05_69.csv' saved.\n",
      "'model13_fward05_69_last.pth' saved.\n",
      "'model13_fward05_69_best.pth' saved.\n",
      "- train minibatches = 1\n",
      "- valid minibatches = 1\n",
      "- test minibatches = 1\n"
     ]
    },
    {
     "data": {
      "application/vnd.jupyter.widget-view+json": {
       "model_id": "dfcd7ab3a1f3435c9dcdf7a1a5396460",
       "version_major": 2,
       "version_minor": 0
      },
      "text/plain": [
       "Epochs loop:   0%|          | 0/30000 [00:00<?, ?it/s]"
      ]
     },
     "metadata": {},
     "output_type": "display_data"
    },
    {
     "name": "stdout",
     "output_type": "stream",
     "text": [
      "Summary:\n",
      "-learning rate = 0.00527\n",
      "-Model saved after iteration 8415.\n",
      "-Train.  Loss=0.0188298\n",
      "-Valid.  Loss=0.0833745\n",
      "'train_loss_fward05_70.csv' saved.\n",
      "'valid_loss_fward05_70.csv' saved.\n",
      "'model13_fward05_70_last.pth' saved.\n",
      "'model13_fward05_70_best.pth' saved.\n",
      "- train minibatches = 1\n",
      "- valid minibatches = 1\n",
      "- test minibatches = 1\n"
     ]
    },
    {
     "data": {
      "application/vnd.jupyter.widget-view+json": {
       "model_id": "f3849f590cea448bb800d103a70c3d71",
       "version_major": 2,
       "version_minor": 0
      },
      "text/plain": [
       "Epochs loop:   0%|          | 0/30000 [00:00<?, ?it/s]"
      ]
     },
     "metadata": {},
     "output_type": "display_data"
    },
    {
     "name": "stdout",
     "output_type": "stream",
     "text": [
      "Summary:\n",
      "-learning rate = 0.00527\n",
      "-Model saved after iteration 7458.\n",
      "-Train.  Loss=0.0219151\n",
      "-Valid.  Loss=0.0765788\n",
      "'train_loss_fward05_71.csv' saved.\n",
      "'valid_loss_fward05_71.csv' saved.\n",
      "'model13_fward05_71_last.pth' saved.\n",
      "'model13_fward05_71_best.pth' saved.\n",
      "- train minibatches = 1\n",
      "- valid minibatches = 1\n",
      "- test minibatches = 1\n"
     ]
    },
    {
     "data": {
      "application/vnd.jupyter.widget-view+json": {
       "model_id": "fa31e8c7c6664b8f97e9c459e2ca02ef",
       "version_major": 2,
       "version_minor": 0
      },
      "text/plain": [
       "Epochs loop:   0%|          | 0/30000 [00:00<?, ?it/s]"
      ]
     },
     "metadata": {},
     "output_type": "display_data"
    },
    {
     "name": "stdout",
     "output_type": "stream",
     "text": [
      "Summary:\n",
      "-learning rate = 0.00527\n",
      "-Model saved after iteration 11186.\n",
      "-Train.  Loss=0.0141587\n",
      "-Valid.  Loss=0.0596141\n",
      "'train_loss_fward05_72.csv' saved.\n",
      "'valid_loss_fward05_72.csv' saved.\n",
      "'model13_fward05_72_last.pth' saved.\n",
      "'model13_fward05_72_best.pth' saved.\n",
      "- train minibatches = 1\n",
      "- valid minibatches = 1\n",
      "- test minibatches = 1\n"
     ]
    },
    {
     "data": {
      "application/vnd.jupyter.widget-view+json": {
       "model_id": "761a5315dbad4ac9883692563006567f",
       "version_major": 2,
       "version_minor": 0
      },
      "text/plain": [
       "Epochs loop:   0%|          | 0/30000 [00:00<?, ?it/s]"
      ]
     },
     "metadata": {},
     "output_type": "display_data"
    },
    {
     "name": "stdout",
     "output_type": "stream",
     "text": [
      "Summary:\n",
      "-learning rate = 0.00527\n",
      "-Model saved after iteration 8290.\n",
      "-Train.  Loss=0.0176893\n",
      "-Valid.  Loss=0.0816306\n",
      "'train_loss_fward05_73.csv' saved.\n",
      "'valid_loss_fward05_73.csv' saved.\n",
      "'model13_fward05_73_last.pth' saved.\n",
      "'model13_fward05_73_best.pth' saved.\n",
      "- train minibatches = 1\n",
      "- valid minibatches = 1\n",
      "- test minibatches = 1\n"
     ]
    },
    {
     "data": {
      "application/vnd.jupyter.widget-view+json": {
       "model_id": "abf7f990d463474390ebafac55a2721d",
       "version_major": 2,
       "version_minor": 0
      },
      "text/plain": [
       "Epochs loop:   0%|          | 0/30000 [00:00<?, ?it/s]"
      ]
     },
     "metadata": {},
     "output_type": "display_data"
    },
    {
     "name": "stdout",
     "output_type": "stream",
     "text": [
      "Summary:\n",
      "-learning rate = 0.00527\n",
      "-Model saved after iteration 18999.\n",
      "-Train.  Loss=0.0096302\n",
      "-Valid.  Loss=0.0724414\n",
      "'train_loss_fward05_74.csv' saved.\n",
      "'valid_loss_fward05_74.csv' saved.\n",
      "'model13_fward05_74_last.pth' saved.\n",
      "'model13_fward05_74_best.pth' saved.\n",
      "- train minibatches = 1\n",
      "- valid minibatches = 1\n",
      "- test minibatches = 1\n"
     ]
    },
    {
     "data": {
      "application/vnd.jupyter.widget-view+json": {
       "model_id": "38fd40957f8c47c2a25e7ed07de155d3",
       "version_major": 2,
       "version_minor": 0
      },
      "text/plain": [
       "Epochs loop:   0%|          | 0/30000 [00:00<?, ?it/s]"
      ]
     },
     "metadata": {},
     "output_type": "display_data"
    },
    {
     "name": "stdout",
     "output_type": "stream",
     "text": [
      "Summary:\n",
      "-learning rate = 0.00527\n",
      "-Model saved after iteration 11532.\n",
      "-Train.  Loss=0.0133861\n",
      "-Valid.  Loss=0.0701814\n",
      "'train_loss_fward05_75.csv' saved.\n",
      "'valid_loss_fward05_75.csv' saved.\n",
      "'model13_fward05_75_last.pth' saved.\n",
      "'model13_fward05_75_best.pth' saved.\n",
      "- train minibatches = 1\n",
      "- valid minibatches = 1\n",
      "- test minibatches = 1\n"
     ]
    },
    {
     "data": {
      "application/vnd.jupyter.widget-view+json": {
       "model_id": "71ba970c889143b9a07a5d573040503d",
       "version_major": 2,
       "version_minor": 0
      },
      "text/plain": [
       "Epochs loop:   0%|          | 0/30000 [00:00<?, ?it/s]"
      ]
     },
     "metadata": {},
     "output_type": "display_data"
    },
    {
     "name": "stdout",
     "output_type": "stream",
     "text": [
      "Summary:\n",
      "-learning rate = 0.00527\n",
      "-Model saved after iteration 8128.\n",
      "-Train.  Loss=0.0202823\n",
      "-Valid.  Loss=0.0782237\n",
      "'train_loss_fward05_76.csv' saved.\n",
      "'valid_loss_fward05_76.csv' saved.\n",
      "'model13_fward05_76_last.pth' saved.\n",
      "'model13_fward05_76_best.pth' saved.\n",
      "- train minibatches = 1\n",
      "- valid minibatches = 1\n",
      "- test minibatches = 1\n"
     ]
    },
    {
     "data": {
      "application/vnd.jupyter.widget-view+json": {
       "model_id": "52ee375da7c84f44bf24f682e77a1073",
       "version_major": 2,
       "version_minor": 0
      },
      "text/plain": [
       "Epochs loop:   0%|          | 0/30000 [00:00<?, ?it/s]"
      ]
     },
     "metadata": {},
     "output_type": "display_data"
    },
    {
     "name": "stdout",
     "output_type": "stream",
     "text": [
      "Summary:\n",
      "-learning rate = 0.00527\n",
      "-Model saved after iteration 14069.\n",
      "-Train.  Loss=0.0109506\n",
      "-Valid.  Loss=0.0480940\n",
      "'train_loss_fward05_77.csv' saved.\n",
      "'valid_loss_fward05_77.csv' saved.\n",
      "'model13_fward05_77_last.pth' saved.\n",
      "'model13_fward05_77_best.pth' saved.\n",
      "- train minibatches = 1\n",
      "- valid minibatches = 1\n",
      "- test minibatches = 1\n"
     ]
    },
    {
     "data": {
      "application/vnd.jupyter.widget-view+json": {
       "model_id": "f3ae258d21b9486e827f2a0fd6faae10",
       "version_major": 2,
       "version_minor": 0
      },
      "text/plain": [
       "Epochs loop:   0%|          | 0/30000 [00:00<?, ?it/s]"
      ]
     },
     "metadata": {},
     "output_type": "display_data"
    },
    {
     "name": "stdout",
     "output_type": "stream",
     "text": [
      "Summary:\n",
      "-learning rate = 0.00527\n",
      "-Model saved after iteration 16021.\n",
      "-Train.  Loss=0.0086308\n",
      "-Valid.  Loss=0.0436344\n",
      "'train_loss_fward05_78.csv' saved.\n",
      "'valid_loss_fward05_78.csv' saved.\n",
      "'model13_fward05_78_last.pth' saved.\n",
      "'model13_fward05_78_best.pth' saved.\n",
      "- train minibatches = 1\n",
      "- valid minibatches = 1\n",
      "- test minibatches = 1\n"
     ]
    },
    {
     "data": {
      "application/vnd.jupyter.widget-view+json": {
       "model_id": "3adc3f4b7b2f419eb468a35757fc6a09",
       "version_major": 2,
       "version_minor": 0
      },
      "text/plain": [
       "Epochs loop:   0%|          | 0/30000 [00:00<?, ?it/s]"
      ]
     },
     "metadata": {},
     "output_type": "display_data"
    },
    {
     "name": "stdout",
     "output_type": "stream",
     "text": [
      "Summary:\n",
      "-learning rate = 0.00527\n",
      "-Model saved after iteration 8442.\n",
      "-Train.  Loss=0.0196551\n",
      "-Valid.  Loss=0.0646658\n",
      "'train_loss_fward05_79.csv' saved.\n",
      "'valid_loss_fward05_79.csv' saved.\n",
      "'model13_fward05_79_last.pth' saved.\n",
      "'model13_fward05_79_best.pth' saved.\n",
      "- train minibatches = 1\n",
      "- valid minibatches = 1\n",
      "- test minibatches = 1\n"
     ]
    },
    {
     "data": {
      "application/vnd.jupyter.widget-view+json": {
       "model_id": "ec9e463bdf34452e8d2718eadee759d2",
       "version_major": 2,
       "version_minor": 0
      },
      "text/plain": [
       "Epochs loop:   0%|          | 0/30000 [00:00<?, ?it/s]"
      ]
     },
     "metadata": {},
     "output_type": "display_data"
    },
    {
     "name": "stdout",
     "output_type": "stream",
     "text": [
      "Summary:\n",
      "-learning rate = 0.00527\n",
      "-Model saved after iteration 9856.\n",
      "-Train.  Loss=0.0163883\n",
      "-Valid.  Loss=0.0642421\n",
      "'train_loss_fward05_80.csv' saved.\n",
      "'valid_loss_fward05_80.csv' saved.\n",
      "'model13_fward05_80_last.pth' saved.\n",
      "'model13_fward05_80_best.pth' saved.\n",
      "- train minibatches = 1\n",
      "- valid minibatches = 1\n",
      "- test minibatches = 1\n"
     ]
    },
    {
     "data": {
      "application/vnd.jupyter.widget-view+json": {
       "model_id": "224bb00c183b49c1a370c4dbe3d3f1ed",
       "version_major": 2,
       "version_minor": 0
      },
      "text/plain": [
       "Epochs loop:   0%|          | 0/30000 [00:00<?, ?it/s]"
      ]
     },
     "metadata": {},
     "output_type": "display_data"
    },
    {
     "name": "stdout",
     "output_type": "stream",
     "text": [
      "Summary:\n",
      "-learning rate = 0.00527\n",
      "-Model saved after iteration 11435.\n",
      "-Train.  Loss=0.0120427\n",
      "-Valid.  Loss=0.0860947\n",
      "'train_loss_fward05_81.csv' saved.\n",
      "'valid_loss_fward05_81.csv' saved.\n",
      "'model13_fward05_81_last.pth' saved.\n",
      "'model13_fward05_81_best.pth' saved.\n",
      "- train minibatches = 1\n",
      "- valid minibatches = 1\n",
      "- test minibatches = 1\n"
     ]
    },
    {
     "data": {
      "application/vnd.jupyter.widget-view+json": {
       "model_id": "cff3e8f6ed5646a18a9129552780dbe7",
       "version_major": 2,
       "version_minor": 0
      },
      "text/plain": [
       "Epochs loop:   0%|          | 0/30000 [00:00<?, ?it/s]"
      ]
     },
     "metadata": {},
     "output_type": "display_data"
    },
    {
     "name": "stdout",
     "output_type": "stream",
     "text": [
      "Summary:\n",
      "-learning rate = 0.00527\n",
      "-Model saved after iteration 5769.\n",
      "-Train.  Loss=0.0289251\n",
      "-Valid.  Loss=0.0775698\n",
      "'train_loss_fward05_82.csv' saved.\n",
      "'valid_loss_fward05_82.csv' saved.\n",
      "'model13_fward05_82_last.pth' saved.\n",
      "'model13_fward05_82_best.pth' saved.\n",
      "- train minibatches = 1\n",
      "- valid minibatches = 1\n",
      "- test minibatches = 1\n"
     ]
    },
    {
     "data": {
      "application/vnd.jupyter.widget-view+json": {
       "model_id": "c1953b8242384f7885a89e34c4142eba",
       "version_major": 2,
       "version_minor": 0
      },
      "text/plain": [
       "Epochs loop:   0%|          | 0/30000 [00:00<?, ?it/s]"
      ]
     },
     "metadata": {},
     "output_type": "display_data"
    },
    {
     "name": "stdout",
     "output_type": "stream",
     "text": [
      "Summary:\n",
      "-learning rate = 0.00527\n",
      "-Model saved after iteration 8412.\n",
      "-Train.  Loss=0.0211734\n",
      "-Valid.  Loss=0.0521788\n",
      "'train_loss_fward05_83.csv' saved.\n",
      "'valid_loss_fward05_83.csv' saved.\n",
      "'model13_fward05_83_last.pth' saved.\n",
      "'model13_fward05_83_best.pth' saved.\n",
      "- train minibatches = 1\n",
      "- valid minibatches = 1\n",
      "- test minibatches = 1\n"
     ]
    },
    {
     "data": {
      "application/vnd.jupyter.widget-view+json": {
       "model_id": "5a0b3c408daa49b1b71e749461d1a5e0",
       "version_major": 2,
       "version_minor": 0
      },
      "text/plain": [
       "Epochs loop:   0%|          | 0/30000 [00:00<?, ?it/s]"
      ]
     },
     "metadata": {},
     "output_type": "display_data"
    },
    {
     "name": "stdout",
     "output_type": "stream",
     "text": [
      "Summary:\n",
      "-learning rate = 0.00527\n",
      "-Model saved after iteration 10670.\n",
      "-Train.  Loss=0.0151827\n",
      "-Valid.  Loss=0.0503948\n",
      "'train_loss_fward05_84.csv' saved.\n",
      "'valid_loss_fward05_84.csv' saved.\n",
      "'model13_fward05_84_last.pth' saved.\n",
      "'model13_fward05_84_best.pth' saved.\n",
      "- train minibatches = 1\n",
      "- valid minibatches = 1\n",
      "- test minibatches = 1\n"
     ]
    },
    {
     "data": {
      "application/vnd.jupyter.widget-view+json": {
       "model_id": "a93c76b2e6c243a688c7760bee6b7bb4",
       "version_major": 2,
       "version_minor": 0
      },
      "text/plain": [
       "Epochs loop:   0%|          | 0/30000 [00:00<?, ?it/s]"
      ]
     },
     "metadata": {},
     "output_type": "display_data"
    },
    {
     "name": "stdout",
     "output_type": "stream",
     "text": [
      "Summary:\n",
      "-learning rate = 0.00527\n",
      "-Model saved after iteration 8687.\n",
      "-Train.  Loss=0.0203118\n",
      "-Valid.  Loss=0.0791000\n",
      "'train_loss_fward05_85.csv' saved.\n",
      "'valid_loss_fward05_85.csv' saved.\n",
      "'model13_fward05_85_last.pth' saved.\n",
      "'model13_fward05_85_best.pth' saved.\n",
      "- train minibatches = 1\n",
      "- valid minibatches = 1\n",
      "- test minibatches = 1\n"
     ]
    },
    {
     "data": {
      "application/vnd.jupyter.widget-view+json": {
       "model_id": "507870a2484f46b2b963400bccbf0dc4",
       "version_major": 2,
       "version_minor": 0
      },
      "text/plain": [
       "Epochs loop:   0%|          | 0/30000 [00:00<?, ?it/s]"
      ]
     },
     "metadata": {},
     "output_type": "display_data"
    },
    {
     "name": "stdout",
     "output_type": "stream",
     "text": [
      "Summary:\n",
      "-learning rate = 0.00527\n",
      "-Model saved after iteration 14265.\n",
      "-Train.  Loss=0.0113659\n",
      "-Valid.  Loss=0.0458090\n",
      "'train_loss_fward05_86.csv' saved.\n",
      "'valid_loss_fward05_86.csv' saved.\n",
      "'model13_fward05_86_last.pth' saved.\n",
      "'model13_fward05_86_best.pth' saved.\n",
      "- train minibatches = 1\n",
      "- valid minibatches = 1\n",
      "- test minibatches = 1\n"
     ]
    },
    {
     "data": {
      "application/vnd.jupyter.widget-view+json": {
       "model_id": "aab32cdff81340beba60558f607f8e20",
       "version_major": 2,
       "version_minor": 0
      },
      "text/plain": [
       "Epochs loop:   0%|          | 0/30000 [00:00<?, ?it/s]"
      ]
     },
     "metadata": {},
     "output_type": "display_data"
    },
    {
     "name": "stdout",
     "output_type": "stream",
     "text": [
      "Summary:\n",
      "-learning rate = 0.00527\n",
      "-Model saved after iteration 8857.\n",
      "-Train.  Loss=0.0175043\n",
      "-Valid.  Loss=0.0616089\n",
      "'train_loss_fward05_87.csv' saved.\n",
      "'valid_loss_fward05_87.csv' saved.\n",
      "'model13_fward05_87_last.pth' saved.\n",
      "'model13_fward05_87_best.pth' saved.\n",
      "- train minibatches = 1\n",
      "- valid minibatches = 1\n",
      "- test minibatches = 1\n"
     ]
    },
    {
     "data": {
      "application/vnd.jupyter.widget-view+json": {
       "model_id": "3a772bd3ed55428999a8034bf17d8330",
       "version_major": 2,
       "version_minor": 0
      },
      "text/plain": [
       "Epochs loop:   0%|          | 0/30000 [00:00<?, ?it/s]"
      ]
     },
     "metadata": {},
     "output_type": "display_data"
    },
    {
     "name": "stdout",
     "output_type": "stream",
     "text": [
      "Summary:\n",
      "-learning rate = 0.00527\n",
      "-Model saved after iteration 10886.\n",
      "-Train.  Loss=0.0166507\n",
      "-Valid.  Loss=0.0560266\n",
      "'train_loss_fward05_88.csv' saved.\n",
      "'valid_loss_fward05_88.csv' saved.\n",
      "'model13_fward05_88_last.pth' saved.\n",
      "'model13_fward05_88_best.pth' saved.\n",
      "- train minibatches = 1\n",
      "- valid minibatches = 1\n",
      "- test minibatches = 1\n"
     ]
    },
    {
     "data": {
      "application/vnd.jupyter.widget-view+json": {
       "model_id": "5fe055af8a0a49459ff36dba9f9a275f",
       "version_major": 2,
       "version_minor": 0
      },
      "text/plain": [
       "Epochs loop:   0%|          | 0/30000 [00:00<?, ?it/s]"
      ]
     },
     "metadata": {},
     "output_type": "display_data"
    },
    {
     "name": "stdout",
     "output_type": "stream",
     "text": [
      "Summary:\n",
      "-learning rate = 0.00527\n",
      "-Model saved after iteration 9563.\n",
      "-Train.  Loss=0.0165827\n",
      "-Valid.  Loss=0.0564258\n",
      "'train_loss_fward05_89.csv' saved.\n",
      "'valid_loss_fward05_89.csv' saved.\n",
      "'model13_fward05_89_last.pth' saved.\n",
      "'model13_fward05_89_best.pth' saved.\n",
      "- train minibatches = 1\n",
      "- valid minibatches = 1\n",
      "- test minibatches = 1\n"
     ]
    },
    {
     "data": {
      "application/vnd.jupyter.widget-view+json": {
       "model_id": "688effecdc364be18a2d3f4659322aeb",
       "version_major": 2,
       "version_minor": 0
      },
      "text/plain": [
       "Epochs loop:   0%|          | 0/30000 [00:00<?, ?it/s]"
      ]
     },
     "metadata": {},
     "output_type": "display_data"
    },
    {
     "name": "stdout",
     "output_type": "stream",
     "text": [
      "Summary:\n",
      "-learning rate = 0.00527\n",
      "-Model saved after iteration 10863.\n",
      "-Train.  Loss=0.0157881\n",
      "-Valid.  Loss=0.0624213\n",
      "'train_loss_fward05_90.csv' saved.\n",
      "'valid_loss_fward05_90.csv' saved.\n",
      "'model13_fward05_90_last.pth' saved.\n",
      "'model13_fward05_90_best.pth' saved.\n",
      "- train minibatches = 1\n",
      "- valid minibatches = 1\n",
      "- test minibatches = 1\n"
     ]
    },
    {
     "data": {
      "application/vnd.jupyter.widget-view+json": {
       "model_id": "56a2bd0bd7db496380abb547d1d1eaa2",
       "version_major": 2,
       "version_minor": 0
      },
      "text/plain": [
       "Epochs loop:   0%|          | 0/30000 [00:00<?, ?it/s]"
      ]
     },
     "metadata": {},
     "output_type": "display_data"
    },
    {
     "name": "stdout",
     "output_type": "stream",
     "text": [
      "Summary:\n",
      "-learning rate = 0.00527\n",
      "-Model saved after iteration 9047.\n",
      "-Train.  Loss=0.0183647\n",
      "-Valid.  Loss=0.0695462\n",
      "'train_loss_fward05_91.csv' saved.\n",
      "'valid_loss_fward05_91.csv' saved.\n",
      "'model13_fward05_91_last.pth' saved.\n",
      "'model13_fward05_91_best.pth' saved.\n",
      "- train minibatches = 1\n",
      "- valid minibatches = 1\n",
      "- test minibatches = 1\n"
     ]
    },
    {
     "data": {
      "application/vnd.jupyter.widget-view+json": {
       "model_id": "037b9d96e35e4bd8b28b8346b5f040f5",
       "version_major": 2,
       "version_minor": 0
      },
      "text/plain": [
       "Epochs loop:   0%|          | 0/30000 [00:00<?, ?it/s]"
      ]
     },
     "metadata": {},
     "output_type": "display_data"
    },
    {
     "name": "stdout",
     "output_type": "stream",
     "text": [
      "Summary:\n",
      "-learning rate = 0.00527\n",
      "-Model saved after iteration 7596.\n",
      "-Train.  Loss=0.0217602\n",
      "-Valid.  Loss=0.0819534\n",
      "'train_loss_fward05_92.csv' saved.\n",
      "'valid_loss_fward05_92.csv' saved.\n",
      "'model13_fward05_92_last.pth' saved.\n",
      "'model13_fward05_92_best.pth' saved.\n",
      "- train minibatches = 1\n",
      "- valid minibatches = 1\n",
      "- test minibatches = 1\n"
     ]
    },
    {
     "data": {
      "application/vnd.jupyter.widget-view+json": {
       "model_id": "70d0a2cf876d4db39f963af7e91fbf10",
       "version_major": 2,
       "version_minor": 0
      },
      "text/plain": [
       "Epochs loop:   0%|          | 0/30000 [00:00<?, ?it/s]"
      ]
     },
     "metadata": {},
     "output_type": "display_data"
    },
    {
     "name": "stdout",
     "output_type": "stream",
     "text": [
      "Summary:\n",
      "-learning rate = 0.00527\n",
      "-Model saved after iteration 9545.\n",
      "-Train.  Loss=0.0161810\n",
      "-Valid.  Loss=0.0725262\n",
      "'train_loss_fward05_93.csv' saved.\n",
      "'valid_loss_fward05_93.csv' saved.\n",
      "'model13_fward05_93_last.pth' saved.\n",
      "'model13_fward05_93_best.pth' saved.\n",
      "- train minibatches = 1\n",
      "- valid minibatches = 1\n",
      "- test minibatches = 1\n"
     ]
    },
    {
     "data": {
      "application/vnd.jupyter.widget-view+json": {
       "model_id": "6cdd225177bf4682a2ead87e4fc30b4e",
       "version_major": 2,
       "version_minor": 0
      },
      "text/plain": [
       "Epochs loop:   0%|          | 0/30000 [00:00<?, ?it/s]"
      ]
     },
     "metadata": {},
     "output_type": "display_data"
    },
    {
     "name": "stdout",
     "output_type": "stream",
     "text": [
      "Summary:\n",
      "-learning rate = 0.00527\n",
      "-Model saved after iteration 10575.\n",
      "-Train.  Loss=0.0159981\n",
      "-Valid.  Loss=0.0568541\n",
      "'train_loss_fward05_94.csv' saved.\n",
      "'valid_loss_fward05_94.csv' saved.\n",
      "'model13_fward05_94_last.pth' saved.\n",
      "'model13_fward05_94_best.pth' saved.\n",
      "- train minibatches = 1\n",
      "- valid minibatches = 1\n",
      "- test minibatches = 1\n"
     ]
    },
    {
     "data": {
      "application/vnd.jupyter.widget-view+json": {
       "model_id": "f4ef9ba900d54f6dbe6658e513cb59a9",
       "version_major": 2,
       "version_minor": 0
      },
      "text/plain": [
       "Epochs loop:   0%|          | 0/30000 [00:00<?, ?it/s]"
      ]
     },
     "metadata": {},
     "output_type": "display_data"
    },
    {
     "name": "stdout",
     "output_type": "stream",
     "text": [
      "Summary:\n",
      "-learning rate = 0.00527\n",
      "-Model saved after iteration 18856.\n",
      "-Train.  Loss=0.0072602\n",
      "-Valid.  Loss=0.0778615\n",
      "'train_loss_fward05_95.csv' saved.\n",
      "'valid_loss_fward05_95.csv' saved.\n",
      "'model13_fward05_95_last.pth' saved.\n",
      "'model13_fward05_95_best.pth' saved.\n",
      "- train minibatches = 1\n",
      "- valid minibatches = 1\n",
      "- test minibatches = 1\n"
     ]
    },
    {
     "data": {
      "application/vnd.jupyter.widget-view+json": {
       "model_id": "d2e850d87c10454b8f8a7f4b9d75e828",
       "version_major": 2,
       "version_minor": 0
      },
      "text/plain": [
       "Epochs loop:   0%|          | 0/30000 [00:00<?, ?it/s]"
      ]
     },
     "metadata": {},
     "output_type": "display_data"
    },
    {
     "name": "stdout",
     "output_type": "stream",
     "text": [
      "Summary:\n",
      "-learning rate = 0.00527\n",
      "-Model saved after iteration 15143.\n",
      "-Train.  Loss=0.0093410\n",
      "-Valid.  Loss=0.0437621\n",
      "'train_loss_fward05_96.csv' saved.\n",
      "'valid_loss_fward05_96.csv' saved.\n",
      "'model13_fward05_96_last.pth' saved.\n",
      "'model13_fward05_96_best.pth' saved.\n",
      "- train minibatches = 1\n",
      "- valid minibatches = 1\n",
      "- test minibatches = 1\n"
     ]
    },
    {
     "data": {
      "application/vnd.jupyter.widget-view+json": {
       "model_id": "1ca826dcd73a42238a2e1866722c4624",
       "version_major": 2,
       "version_minor": 0
      },
      "text/plain": [
       "Epochs loop:   0%|          | 0/30000 [00:00<?, ?it/s]"
      ]
     },
     "metadata": {},
     "output_type": "display_data"
    },
    {
     "name": "stdout",
     "output_type": "stream",
     "text": [
      "Summary:\n",
      "-learning rate = 0.00527\n",
      "-Model saved after iteration 11540.\n",
      "-Train.  Loss=0.0147327\n",
      "-Valid.  Loss=0.0712008\n",
      "'train_loss_fward05_97.csv' saved.\n",
      "'valid_loss_fward05_97.csv' saved.\n",
      "'model13_fward05_97_last.pth' saved.\n",
      "'model13_fward05_97_best.pth' saved.\n",
      "- train minibatches = 1\n",
      "- valid minibatches = 1\n",
      "- test minibatches = 1\n"
     ]
    },
    {
     "data": {
      "application/vnd.jupyter.widget-view+json": {
       "model_id": "ccaa67b61b4d402a8cd2299168f88cd4",
       "version_major": 2,
       "version_minor": 0
      },
      "text/plain": [
       "Epochs loop:   0%|          | 0/30000 [00:00<?, ?it/s]"
      ]
     },
     "metadata": {},
     "output_type": "display_data"
    },
    {
     "name": "stdout",
     "output_type": "stream",
     "text": [
      "Summary:\n",
      "-learning rate = 0.00527\n",
      "-Model saved after iteration 7887.\n",
      "-Train.  Loss=0.0240432\n",
      "-Valid.  Loss=0.0521190\n",
      "'train_loss_fward05_98.csv' saved.\n",
      "'valid_loss_fward05_98.csv' saved.\n",
      "'model13_fward05_98_last.pth' saved.\n",
      "'model13_fward05_98_best.pth' saved.\n",
      "- train minibatches = 1\n",
      "- valid minibatches = 1\n",
      "- test minibatches = 1\n"
     ]
    },
    {
     "data": {
      "application/vnd.jupyter.widget-view+json": {
       "model_id": "a22a7b877fd34be585a354dcb5a0bcbd",
       "version_major": 2,
       "version_minor": 0
      },
      "text/plain": [
       "Epochs loop:   0%|          | 0/30000 [00:00<?, ?it/s]"
      ]
     },
     "metadata": {},
     "output_type": "display_data"
    },
    {
     "name": "stdout",
     "output_type": "stream",
     "text": [
      "Summary:\n",
      "-learning rate = 0.00527\n",
      "-Model saved after iteration 8759.\n",
      "-Train.  Loss=0.0190366\n",
      "-Valid.  Loss=0.0524734\n",
      "'train_loss_fward05_99.csv' saved.\n",
      "'valid_loss_fward05_99.csv' saved.\n",
      "'model13_fward05_99_last.pth' saved.\n",
      "'model13_fward05_99_best.pth' saved.\n",
      "- train minibatches = 1\n",
      "- valid minibatches = 1\n",
      "- test minibatches = 1\n"
     ]
    },
    {
     "data": {
      "application/vnd.jupyter.widget-view+json": {
       "model_id": "61930d1f732c4004bdef04412f4a0d26",
       "version_major": 2,
       "version_minor": 0
      },
      "text/plain": [
       "Epochs loop:   0%|          | 0/30000 [00:00<?, ?it/s]"
      ]
     },
     "metadata": {},
     "output_type": "display_data"
    },
    {
     "name": "stdout",
     "output_type": "stream",
     "text": [
      "Summary:\n",
      "-learning rate = 0.00527\n",
      "-Model saved after iteration 10942.\n",
      "-Train.  Loss=0.0144198\n",
      "-Valid.  Loss=0.0693149\n",
      "'train_loss_fward05_100.csv' saved.\n",
      "'valid_loss_fward05_100.csv' saved.\n",
      "'model13_fward05_100_last.pth' saved.\n",
      "'model13_fward05_100_best.pth' saved.\n"
     ]
    }
   ],
   "source": [
    "# Find Accuracy, Loss +/- STD (Lockdown: path 1)\n",
    "data_output = 'data_lockdown_13LungCancer'\n",
    "accuracy_forward = pd.DataFrame(columns=['train_acc', 'valid_acc', 'test_acc', \n",
    "                                         'train_loss', 'valid_loss', 'test_loss'])\n",
    "\n",
    "partitions = 100\n",
    "iterator = tqdm.notebook.tqdm(range(1, partitions + 1), desc='Partitions loop')\n",
    "for n in iterator:\n",
    "    X = pd.read_csv('dataset_13LungCancer/X.csv', header=None)\n",
    "    y = pd.read_csv('dataset_13LungCancer/y.csv', header=None)\n",
    "    split_data(X, y, seed1=seed1[n], seed2=seed2[n])\n",
    "\n",
    "# .normalize data sets\n",
    "    df_to_tensor()\n",
    "    normalize_data()\n",
    "    make_DataLoaders()\n",
    "\n",
    "# .train model (forward)\n",
    "    lr = best_lr_bward\n",
    "    layer_sizes = [5, 2]\n",
    "    epochs = 30000\n",
    "    data_out = \"data_lockdown_13LungCancer/partitions\"\n",
    "    lock_flag = False\n",
    "    features = xtrain.size(1)\n",
    "    fname = 'model13_fward05_'+str(n)\n",
    "    train_loss, valid_loss = train_model(\n",
    "                             lr, \n",
    "                             features, \n",
    "                             layer_sizes,\n",
    "                             lock_flag = lock_flag,\n",
    "                             epochs = epochs,\n",
    "                             early_stop = epochs, \n",
    "                             fname = fname)\n",
    "# .save relevant data\n",
    "    f3 = [fname+'_last.pth', fname+'_best.pth']\n",
    "    save_output(data_out, \n",
    "                'train_loss_fward05_'+str(n)+'.csv', \n",
    "                'valid_loss_fward05_'+str(n)+'.csv', f3)\n",
    "\n",
    "# .find Loss, Accurary, etc...\n",
    "    mm = MyNet(features, layer_sizes)\n",
    "    mm.load_state_dict(torch.load(os.path.join(data_out, fname+'_best.pth')))\n",
    "    mm = mm.to(device)\n",
    "    mm.eval()\n",
    "    \n",
    "    ypred = mm(xtrain)\n",
    "    loss = loss_type(ypred, ytrain.view(-1))\n",
    "    accu = dataset_accuracy(train_dataloader, mm, device)\n",
    "    accuracy_forward.loc[n, 'train_loss'] = loss.detach().item()\n",
    "    accuracy_forward.loc[n, 'train_acc'] = accu\n",
    "\n",
    "    ypred = mm(xvalid)\n",
    "    loss = loss_type(ypred, yvalid.view(-1))\n",
    "    accu = dataset_accuracy(valid_dataloader, mm, device)\n",
    "    accuracy_forward.loc[n, 'valid_loss'] = loss.detach().item()\n",
    "    accuracy_forward.loc[n, 'valid_acc'] = accu\n",
    "\n",
    "    ypred = mm(xtest)\n",
    "    loss = loss_type(ypred, ytest.view(-1))\n",
    "    accu = dataset_accuracy(test_dataloader, mm, device)\n",
    "    accuracy_forward.loc[n, 'test_loss'] = loss.detach().item()\n",
    "    accuracy_forward.loc[n, 'test_acc'] = accu\n",
    "\n",
    "    accuracy_forward.to_csv(os.path.join(data_out, 'accuracy13_fward05.csv'), index=True)"
   ]
  },
  {
   "cell_type": "code",
   "execution_count": 140,
   "metadata": {
    "ExecuteTime": {
     "end_time": "2021-03-08T20:01:35.531323Z",
     "start_time": "2021-03-08T07:20:14.194730Z"
    },
    "code_folding": [
     0
    ],
    "scrolled": true
   },
   "outputs": [
    {
     "data": {
      "application/vnd.jupyter.widget-view+json": {
       "model_id": "acc1cfe6823e4e78aa56ca489e9b83a2",
       "version_major": 2,
       "version_minor": 0
      },
      "text/plain": [
       "Partitions loop:   0%|          | 0/100 [00:00<?, ?it/s]"
      ]
     },
     "metadata": {},
     "output_type": "display_data"
    },
    {
     "name": "stdout",
     "output_type": "stream",
     "text": [
      "- train minibatches = 1\n",
      "- valid minibatches = 1\n",
      "- test minibatches = 1\n"
     ]
    },
    {
     "data": {
      "application/vnd.jupyter.widget-view+json": {
       "model_id": "9f2b4b558423474199666b06f21c6bc9",
       "version_major": 2,
       "version_minor": 0
      },
      "text/plain": [
       "Epochs loop:   0%|          | 0/10000 [00:00<?, ?it/s]"
      ]
     },
     "metadata": {},
     "output_type": "display_data"
    },
    {
     "name": "stdout",
     "output_type": "stream",
     "text": [
      "Summary:\n",
      "-learning rate = 0.00527\n",
      "-Model saved after iteration 3899.\n",
      "-Train.  Loss=0.0030705\n",
      "-Valid.  Loss=0.0325698\n",
      "'train_loss_bward_1.csv' saved.\n",
      "'valid_loss_bward_1.csv' saved.\n",
      "'model13_backward05_1_best.pth' saved.\n",
      "- train minibatches = 1\n",
      "- valid minibatches = 1\n",
      "- test minibatches = 1\n"
     ]
    },
    {
     "data": {
      "application/vnd.jupyter.widget-view+json": {
       "model_id": "87b8f84a4d7d453fb93c86bc6cddb0c9",
       "version_major": 2,
       "version_minor": 0
      },
      "text/plain": [
       "Epochs loop:   0%|          | 0/10000 [00:00<?, ?it/s]"
      ]
     },
     "metadata": {},
     "output_type": "display_data"
    },
    {
     "name": "stdout",
     "output_type": "stream",
     "text": [
      "Summary:\n",
      "-learning rate = 0.00527\n",
      "-Model saved after iteration 7061.\n",
      "-Train.  Loss=0.0088971\n",
      "-Valid.  Loss=0.0375144\n",
      "'train_loss_bward_2.csv' saved.\n",
      "'valid_loss_bward_2.csv' saved.\n",
      "'model13_backward05_2_best.pth' saved.\n",
      "- train minibatches = 1\n",
      "- valid minibatches = 1\n",
      "- test minibatches = 1\n"
     ]
    },
    {
     "data": {
      "application/vnd.jupyter.widget-view+json": {
       "model_id": "207c0b18e5ce44c591a7c76af347cee5",
       "version_major": 2,
       "version_minor": 0
      },
      "text/plain": [
       "Epochs loop:   0%|          | 0/10000 [00:00<?, ?it/s]"
      ]
     },
     "metadata": {},
     "output_type": "display_data"
    },
    {
     "name": "stdout",
     "output_type": "stream",
     "text": [
      "Summary:\n",
      "-learning rate = 0.00527\n",
      "-Model saved after iteration 7263.\n",
      "-Train.  Loss=0.0125138\n",
      "-Valid.  Loss=0.0445113\n",
      "'train_loss_bward_3.csv' saved.\n",
      "'valid_loss_bward_3.csv' saved.\n",
      "'model13_backward05_3_best.pth' saved.\n",
      "- train minibatches = 1\n",
      "- valid minibatches = 1\n",
      "- test minibatches = 1\n"
     ]
    },
    {
     "data": {
      "application/vnd.jupyter.widget-view+json": {
       "model_id": "f1538da591054de591d85cb53d45ac52",
       "version_major": 2,
       "version_minor": 0
      },
      "text/plain": [
       "Epochs loop:   0%|          | 0/10000 [00:00<?, ?it/s]"
      ]
     },
     "metadata": {},
     "output_type": "display_data"
    },
    {
     "name": "stdout",
     "output_type": "stream",
     "text": [
      "Summary:\n",
      "-learning rate = 0.00527\n",
      "-Model saved after iteration 7831.\n",
      "-Train.  Loss=0.0190094\n",
      "-Valid.  Loss=0.0666146\n",
      "'train_loss_bward_4.csv' saved.\n",
      "'valid_loss_bward_4.csv' saved.\n",
      "'model13_backward05_4_best.pth' saved.\n",
      "- train minibatches = 1\n",
      "- valid minibatches = 1\n",
      "- test minibatches = 1\n"
     ]
    },
    {
     "data": {
      "application/vnd.jupyter.widget-view+json": {
       "model_id": "55ef7007b592484bb831f4991c279939",
       "version_major": 2,
       "version_minor": 0
      },
      "text/plain": [
       "Epochs loop:   0%|          | 0/10000 [00:00<?, ?it/s]"
      ]
     },
     "metadata": {},
     "output_type": "display_data"
    },
    {
     "name": "stdout",
     "output_type": "stream",
     "text": [
      "Summary:\n",
      "-learning rate = 0.00527\n",
      "-Model saved after iteration 8257.\n",
      "-Train.  Loss=0.0213324\n",
      "-Valid.  Loss=0.0624939\n",
      "'train_loss_bward_5.csv' saved.\n",
      "'valid_loss_bward_5.csv' saved.\n",
      "'model13_backward05_5_best.pth' saved.\n",
      "- train minibatches = 1\n",
      "- valid minibatches = 1\n",
      "- test minibatches = 1\n"
     ]
    },
    {
     "data": {
      "application/vnd.jupyter.widget-view+json": {
       "model_id": "d6c01ac35e3d455d8c617ae1af6d603b",
       "version_major": 2,
       "version_minor": 0
      },
      "text/plain": [
       "Epochs loop:   0%|          | 0/10000 [00:00<?, ?it/s]"
      ]
     },
     "metadata": {},
     "output_type": "display_data"
    },
    {
     "name": "stdout",
     "output_type": "stream",
     "text": [
      "Summary:\n",
      "-learning rate = 0.00527\n",
      "-Model saved after iteration 7803.\n",
      "-Train.  Loss=0.0172743\n",
      "-Valid.  Loss=0.0618691\n",
      "'train_loss_bward_6.csv' saved.\n",
      "'valid_loss_bward_6.csv' saved.\n",
      "'model13_backward05_6_best.pth' saved.\n",
      "- train minibatches = 1\n",
      "- valid minibatches = 1\n",
      "- test minibatches = 1\n"
     ]
    },
    {
     "data": {
      "application/vnd.jupyter.widget-view+json": {
       "model_id": "2b1882c143c847438568994bbbb17895",
       "version_major": 2,
       "version_minor": 0
      },
      "text/plain": [
       "Epochs loop:   0%|          | 0/10000 [00:00<?, ?it/s]"
      ]
     },
     "metadata": {},
     "output_type": "display_data"
    },
    {
     "name": "stdout",
     "output_type": "stream",
     "text": [
      "Summary:\n",
      "-learning rate = 0.00527\n",
      "-Model saved after iteration 6825.\n",
      "-Train.  Loss=0.0098315\n",
      "-Valid.  Loss=0.0496546\n",
      "'train_loss_bward_7.csv' saved.\n",
      "'valid_loss_bward_7.csv' saved.\n",
      "'model13_backward05_7_best.pth' saved.\n",
      "- train minibatches = 1\n",
      "- valid minibatches = 1\n",
      "- test minibatches = 1\n"
     ]
    },
    {
     "data": {
      "application/vnd.jupyter.widget-view+json": {
       "model_id": "02c5bc23666548f5b0b2506c4a626317",
       "version_major": 2,
       "version_minor": 0
      },
      "text/plain": [
       "Epochs loop:   0%|          | 0/10000 [00:00<?, ?it/s]"
      ]
     },
     "metadata": {},
     "output_type": "display_data"
    },
    {
     "name": "stdout",
     "output_type": "stream",
     "text": [
      "Summary:\n",
      "-learning rate = 0.00527\n",
      "-Model saved after iteration 6787.\n",
      "-Train.  Loss=0.0102573\n",
      "-Valid.  Loss=0.0368329\n",
      "'train_loss_bward_8.csv' saved.\n",
      "'valid_loss_bward_8.csv' saved.\n",
      "'model13_backward05_8_best.pth' saved.\n",
      "- train minibatches = 1\n",
      "- valid minibatches = 1\n",
      "- test minibatches = 1\n"
     ]
    },
    {
     "data": {
      "application/vnd.jupyter.widget-view+json": {
       "model_id": "30da4ad3d797413c90e792f139a35875",
       "version_major": 2,
       "version_minor": 0
      },
      "text/plain": [
       "Epochs loop:   0%|          | 0/10000 [00:00<?, ?it/s]"
      ]
     },
     "metadata": {},
     "output_type": "display_data"
    },
    {
     "name": "stdout",
     "output_type": "stream",
     "text": [
      "Summary:\n",
      "-learning rate = 0.00527\n",
      "-Model saved after iteration 4106.\n",
      "-Train.  Loss=0.0038870\n",
      "-Valid.  Loss=0.0409567\n",
      "'train_loss_bward_9.csv' saved.\n",
      "'valid_loss_bward_9.csv' saved.\n",
      "'model13_backward05_9_best.pth' saved.\n",
      "- train minibatches = 1\n",
      "- valid minibatches = 1\n",
      "- test minibatches = 1\n"
     ]
    },
    {
     "data": {
      "application/vnd.jupyter.widget-view+json": {
       "model_id": "a3b1f6acf9dd4b8cb89082e23d3bfa54",
       "version_major": 2,
       "version_minor": 0
      },
      "text/plain": [
       "Epochs loop:   0%|          | 0/10000 [00:00<?, ?it/s]"
      ]
     },
     "metadata": {},
     "output_type": "display_data"
    },
    {
     "name": "stdout",
     "output_type": "stream",
     "text": [
      "Summary:\n",
      "-learning rate = 0.00527\n",
      "-Model saved after iteration 7984.\n",
      "-Train.  Loss=0.0182098\n",
      "-Valid.  Loss=0.0643672\n",
      "'train_loss_bward_10.csv' saved.\n",
      "'valid_loss_bward_10.csv' saved.\n",
      "'model13_backward05_10_best.pth' saved.\n",
      "- train minibatches = 1\n",
      "- valid minibatches = 1\n",
      "- test minibatches = 1\n"
     ]
    },
    {
     "data": {
      "application/vnd.jupyter.widget-view+json": {
       "model_id": "0e1951b85a814a7cb25087f5cfe3dbf3",
       "version_major": 2,
       "version_minor": 0
      },
      "text/plain": [
       "Epochs loop:   0%|          | 0/10000 [00:00<?, ?it/s]"
      ]
     },
     "metadata": {},
     "output_type": "display_data"
    },
    {
     "name": "stdout",
     "output_type": "stream",
     "text": [
      "Summary:\n",
      "-learning rate = 0.00527\n",
      "-Model saved after iteration 7875.\n",
      "-Train.  Loss=0.0171112\n",
      "-Valid.  Loss=0.0524874\n",
      "'train_loss_bward_11.csv' saved.\n",
      "'valid_loss_bward_11.csv' saved.\n",
      "'model13_backward05_11_best.pth' saved.\n",
      "- train minibatches = 1\n",
      "- valid minibatches = 1\n",
      "- test minibatches = 1\n"
     ]
    },
    {
     "data": {
      "application/vnd.jupyter.widget-view+json": {
       "model_id": "19a62337535b440e988be97c764debd9",
       "version_major": 2,
       "version_minor": 0
      },
      "text/plain": [
       "Epochs loop:   0%|          | 0/10000 [00:00<?, ?it/s]"
      ]
     },
     "metadata": {},
     "output_type": "display_data"
    },
    {
     "name": "stdout",
     "output_type": "stream",
     "text": [
      "Summary:\n",
      "-learning rate = 0.00527\n",
      "-Model saved after iteration 7898.\n",
      "-Train.  Loss=0.0178253\n",
      "-Valid.  Loss=0.0494192\n",
      "'train_loss_bward_12.csv' saved.\n",
      "'valid_loss_bward_12.csv' saved.\n",
      "'model13_backward05_12_best.pth' saved.\n",
      "- train minibatches = 1\n",
      "- valid minibatches = 1\n",
      "- test minibatches = 1\n"
     ]
    },
    {
     "data": {
      "application/vnd.jupyter.widget-view+json": {
       "model_id": "2f41fd31c20c46f58efc6dc958c339f2",
       "version_major": 2,
       "version_minor": 0
      },
      "text/plain": [
       "Epochs loop:   0%|          | 0/10000 [00:00<?, ?it/s]"
      ]
     },
     "metadata": {},
     "output_type": "display_data"
    },
    {
     "name": "stdout",
     "output_type": "stream",
     "text": [
      "Summary:\n",
      "-learning rate = 0.00527\n",
      "-Model saved after iteration 7470.\n",
      "-Train.  Loss=0.0133095\n",
      "-Valid.  Loss=0.0557543\n",
      "'train_loss_bward_13.csv' saved.\n",
      "'valid_loss_bward_13.csv' saved.\n",
      "'model13_backward05_13_best.pth' saved.\n",
      "- train minibatches = 1\n",
      "- valid minibatches = 1\n",
      "- test minibatches = 1\n"
     ]
    },
    {
     "data": {
      "application/vnd.jupyter.widget-view+json": {
       "model_id": "e4d5a7e82e704a03bea738dd93f4f814",
       "version_major": 2,
       "version_minor": 0
      },
      "text/plain": [
       "Epochs loop:   0%|          | 0/10000 [00:00<?, ?it/s]"
      ]
     },
     "metadata": {},
     "output_type": "display_data"
    },
    {
     "name": "stdout",
     "output_type": "stream",
     "text": [
      "Summary:\n",
      "-learning rate = 0.00527\n",
      "-Model saved after iteration 8166.\n",
      "-Train.  Loss=0.0190881\n",
      "-Valid.  Loss=0.0606936\n",
      "'train_loss_bward_14.csv' saved.\n",
      "'valid_loss_bward_14.csv' saved.\n",
      "'model13_backward05_14_best.pth' saved.\n",
      "- train minibatches = 1\n",
      "- valid minibatches = 1\n",
      "- test minibatches = 1\n"
     ]
    },
    {
     "data": {
      "application/vnd.jupyter.widget-view+json": {
       "model_id": "cce119df7a0c4da0a98648ed8ecbe898",
       "version_major": 2,
       "version_minor": 0
      },
      "text/plain": [
       "Epochs loop:   0%|          | 0/10000 [00:00<?, ?it/s]"
      ]
     },
     "metadata": {},
     "output_type": "display_data"
    },
    {
     "name": "stdout",
     "output_type": "stream",
     "text": [
      "Summary:\n",
      "-learning rate = 0.00527\n",
      "-Model saved after iteration 7564.\n",
      "-Train.  Loss=0.0130019\n",
      "-Valid.  Loss=0.0470994\n",
      "'train_loss_bward_15.csv' saved.\n",
      "'valid_loss_bward_15.csv' saved.\n",
      "'model13_backward05_15_best.pth' saved.\n",
      "- train minibatches = 1\n",
      "- valid minibatches = 1\n",
      "- test minibatches = 1\n"
     ]
    },
    {
     "data": {
      "application/vnd.jupyter.widget-view+json": {
       "model_id": "7b7b68adb5e94045b59ec14a9f654c8e",
       "version_major": 2,
       "version_minor": 0
      },
      "text/plain": [
       "Epochs loop:   0%|          | 0/10000 [00:00<?, ?it/s]"
      ]
     },
     "metadata": {},
     "output_type": "display_data"
    },
    {
     "name": "stdout",
     "output_type": "stream",
     "text": [
      "Summary:\n",
      "-learning rate = 0.00527\n",
      "-Model saved after iteration 4810.\n",
      "-Train.  Loss=0.0047969\n",
      "-Valid.  Loss=0.0398157\n",
      "'train_loss_bward_16.csv' saved.\n",
      "'valid_loss_bward_16.csv' saved.\n",
      "'model13_backward05_16_best.pth' saved.\n",
      "- train minibatches = 1\n",
      "- valid minibatches = 1\n",
      "- test minibatches = 1\n"
     ]
    },
    {
     "data": {
      "application/vnd.jupyter.widget-view+json": {
       "model_id": "34c11ff021df4507a5b3e776e0fea8e7",
       "version_major": 2,
       "version_minor": 0
      },
      "text/plain": [
       "Epochs loop:   0%|          | 0/10000 [00:00<?, ?it/s]"
      ]
     },
     "metadata": {},
     "output_type": "display_data"
    },
    {
     "name": "stdout",
     "output_type": "stream",
     "text": [
      "Summary:\n",
      "-learning rate = 0.00527\n",
      "-Model saved after iteration 5466.\n",
      "-Train.  Loss=0.0060718\n",
      "-Valid.  Loss=0.0411874\n",
      "'train_loss_bward_17.csv' saved.\n",
      "'valid_loss_bward_17.csv' saved.\n",
      "'model13_backward05_17_best.pth' saved.\n",
      "- train minibatches = 1\n",
      "- valid minibatches = 1\n",
      "- test minibatches = 1\n"
     ]
    },
    {
     "data": {
      "application/vnd.jupyter.widget-view+json": {
       "model_id": "2ac72657f8424085b1c784cf57b9c52d",
       "version_major": 2,
       "version_minor": 0
      },
      "text/plain": [
       "Epochs loop:   0%|          | 0/10000 [00:00<?, ?it/s]"
      ]
     },
     "metadata": {},
     "output_type": "display_data"
    },
    {
     "name": "stdout",
     "output_type": "stream",
     "text": [
      "Summary:\n",
      "-learning rate = 0.00527\n",
      "-Model saved after iteration 8270.\n",
      "-Train.  Loss=0.0238018\n",
      "-Valid.  Loss=0.0634978\n",
      "'train_loss_bward_18.csv' saved.\n",
      "'valid_loss_bward_18.csv' saved.\n",
      "'model13_backward05_18_best.pth' saved.\n",
      "- train minibatches = 1\n",
      "- valid minibatches = 1\n",
      "- test minibatches = 1\n"
     ]
    },
    {
     "data": {
      "application/vnd.jupyter.widget-view+json": {
       "model_id": "6d13a704b0b842279337f81c3c5063f7",
       "version_major": 2,
       "version_minor": 0
      },
      "text/plain": [
       "Epochs loop:   0%|          | 0/10000 [00:00<?, ?it/s]"
      ]
     },
     "metadata": {},
     "output_type": "display_data"
    },
    {
     "name": "stdout",
     "output_type": "stream",
     "text": [
      "Summary:\n",
      "-learning rate = 0.00527\n",
      "-Model saved after iteration 7731.\n",
      "-Train.  Loss=0.0177586\n",
      "-Valid.  Loss=0.0535167\n",
      "'train_loss_bward_19.csv' saved.\n",
      "'valid_loss_bward_19.csv' saved.\n",
      "'model13_backward05_19_best.pth' saved.\n",
      "- train minibatches = 1\n",
      "- valid minibatches = 1\n",
      "- test minibatches = 1\n"
     ]
    },
    {
     "data": {
      "application/vnd.jupyter.widget-view+json": {
       "model_id": "763e9bea5d874753b46d81bad0738419",
       "version_major": 2,
       "version_minor": 0
      },
      "text/plain": [
       "Epochs loop:   0%|          | 0/10000 [00:00<?, ?it/s]"
      ]
     },
     "metadata": {},
     "output_type": "display_data"
    },
    {
     "name": "stdout",
     "output_type": "stream",
     "text": [
      "Summary:\n",
      "-learning rate = 0.00527\n",
      "-Model saved after iteration 3269.\n",
      "-Train.  Loss=0.0021983\n",
      "-Valid.  Loss=0.0346019\n",
      "'train_loss_bward_20.csv' saved.\n",
      "'valid_loss_bward_20.csv' saved.\n",
      "'model13_backward05_20_best.pth' saved.\n",
      "- train minibatches = 1\n",
      "- valid minibatches = 1\n",
      "- test minibatches = 1\n"
     ]
    },
    {
     "data": {
      "application/vnd.jupyter.widget-view+json": {
       "model_id": "c0253e636f484d5382fab8c8c1177664",
       "version_major": 2,
       "version_minor": 0
      },
      "text/plain": [
       "Epochs loop:   0%|          | 0/10000 [00:00<?, ?it/s]"
      ]
     },
     "metadata": {},
     "output_type": "display_data"
    },
    {
     "name": "stdout",
     "output_type": "stream",
     "text": [
      "Summary:\n",
      "-learning rate = 0.00527\n",
      "-Model saved after iteration 8062.\n",
      "-Train.  Loss=0.0176111\n",
      "-Valid.  Loss=0.0460594\n",
      "'train_loss_bward_21.csv' saved.\n",
      "'valid_loss_bward_21.csv' saved.\n",
      "'model13_backward05_21_best.pth' saved.\n",
      "- train minibatches = 1\n",
      "- valid minibatches = 1\n",
      "- test minibatches = 1\n"
     ]
    },
    {
     "data": {
      "application/vnd.jupyter.widget-view+json": {
       "model_id": "f850f24626fe46a1a6411973a700062d",
       "version_major": 2,
       "version_minor": 0
      },
      "text/plain": [
       "Epochs loop:   0%|          | 0/10000 [00:00<?, ?it/s]"
      ]
     },
     "metadata": {},
     "output_type": "display_data"
    },
    {
     "name": "stdout",
     "output_type": "stream",
     "text": [
      "Summary:\n",
      "-learning rate = 0.00527\n",
      "-Model saved after iteration 7542.\n",
      "-Train.  Loss=0.0147212\n",
      "-Valid.  Loss=0.0501098\n",
      "'train_loss_bward_22.csv' saved.\n",
      "'valid_loss_bward_22.csv' saved.\n",
      "'model13_backward05_22_best.pth' saved.\n",
      "- train minibatches = 1\n",
      "- valid minibatches = 1\n",
      "- test minibatches = 1\n"
     ]
    },
    {
     "data": {
      "application/vnd.jupyter.widget-view+json": {
       "model_id": "271b21d6f8994b63b9ca88df8a98a2a8",
       "version_major": 2,
       "version_minor": 0
      },
      "text/plain": [
       "Epochs loop:   0%|          | 0/10000 [00:00<?, ?it/s]"
      ]
     },
     "metadata": {},
     "output_type": "display_data"
    },
    {
     "name": "stdout",
     "output_type": "stream",
     "text": [
      "Summary:\n",
      "-learning rate = 0.00527\n",
      "-Model saved after iteration 6588.\n",
      "-Train.  Loss=0.0079117\n",
      "-Valid.  Loss=0.0295066\n",
      "'train_loss_bward_23.csv' saved.\n",
      "'valid_loss_bward_23.csv' saved.\n",
      "'model13_backward05_23_best.pth' saved.\n",
      "- train minibatches = 1\n",
      "- valid minibatches = 1\n",
      "- test minibatches = 1\n"
     ]
    },
    {
     "data": {
      "application/vnd.jupyter.widget-view+json": {
       "model_id": "3fddd7ac014b4a0ab60a376f20ee87f6",
       "version_major": 2,
       "version_minor": 0
      },
      "text/plain": [
       "Epochs loop:   0%|          | 0/10000 [00:00<?, ?it/s]"
      ]
     },
     "metadata": {},
     "output_type": "display_data"
    },
    {
     "name": "stdout",
     "output_type": "stream",
     "text": [
      "Summary:\n",
      "-learning rate = 0.00527\n",
      "-Model saved after iteration 3764.\n",
      "-Train.  Loss=0.0026179\n",
      "-Valid.  Loss=0.0526321\n",
      "'train_loss_bward_24.csv' saved.\n",
      "'valid_loss_bward_24.csv' saved.\n",
      "'model13_backward05_24_best.pth' saved.\n",
      "- train minibatches = 1\n",
      "- valid minibatches = 1\n",
      "- test minibatches = 1\n"
     ]
    },
    {
     "data": {
      "application/vnd.jupyter.widget-view+json": {
       "model_id": "3b0d4a7ba89f4a2b9fe996726289ba9a",
       "version_major": 2,
       "version_minor": 0
      },
      "text/plain": [
       "Epochs loop:   0%|          | 0/10000 [00:00<?, ?it/s]"
      ]
     },
     "metadata": {},
     "output_type": "display_data"
    },
    {
     "name": "stdout",
     "output_type": "stream",
     "text": [
      "Summary:\n",
      "-learning rate = 0.00527\n",
      "-Model saved after iteration 7727.\n",
      "-Train.  Loss=0.0168176\n",
      "-Valid.  Loss=0.0671177\n",
      "'train_loss_bward_25.csv' saved.\n",
      "'valid_loss_bward_25.csv' saved.\n",
      "'model13_backward05_25_best.pth' saved.\n",
      "- train minibatches = 1\n",
      "- valid minibatches = 1\n",
      "- test minibatches = 1\n"
     ]
    },
    {
     "data": {
      "application/vnd.jupyter.widget-view+json": {
       "model_id": "24449f2c4d7046c1ab39663214b2d1d2",
       "version_major": 2,
       "version_minor": 0
      },
      "text/plain": [
       "Epochs loop:   0%|          | 0/10000 [00:00<?, ?it/s]"
      ]
     },
     "metadata": {},
     "output_type": "display_data"
    },
    {
     "name": "stdout",
     "output_type": "stream",
     "text": [
      "Summary:\n",
      "-learning rate = 0.00527\n",
      "-Model saved after iteration 6135.\n",
      "-Train.  Loss=0.0066643\n",
      "-Valid.  Loss=0.0340227\n",
      "'train_loss_bward_26.csv' saved.\n",
      "'valid_loss_bward_26.csv' saved.\n",
      "'model13_backward05_26_best.pth' saved.\n",
      "- train minibatches = 1\n",
      "- valid minibatches = 1\n",
      "- test minibatches = 1\n"
     ]
    },
    {
     "data": {
      "application/vnd.jupyter.widget-view+json": {
       "model_id": "472fc0ab26ce428ebf7da8b41b463926",
       "version_major": 2,
       "version_minor": 0
      },
      "text/plain": [
       "Epochs loop:   0%|          | 0/10000 [00:00<?, ?it/s]"
      ]
     },
     "metadata": {},
     "output_type": "display_data"
    },
    {
     "name": "stdout",
     "output_type": "stream",
     "text": [
      "Summary:\n",
      "-learning rate = 0.00527\n",
      "-Model saved after iteration 8099.\n",
      "-Train.  Loss=0.0195379\n",
      "-Valid.  Loss=0.0617849\n",
      "'train_loss_bward_27.csv' saved.\n",
      "'valid_loss_bward_27.csv' saved.\n",
      "'model13_backward05_27_best.pth' saved.\n",
      "- train minibatches = 1\n",
      "- valid minibatches = 1\n",
      "- test minibatches = 1\n"
     ]
    },
    {
     "data": {
      "application/vnd.jupyter.widget-view+json": {
       "model_id": "5eb2a514aebf4b57af12887aae4dc80f",
       "version_major": 2,
       "version_minor": 0
      },
      "text/plain": [
       "Epochs loop:   0%|          | 0/10000 [00:00<?, ?it/s]"
      ]
     },
     "metadata": {},
     "output_type": "display_data"
    },
    {
     "name": "stdout",
     "output_type": "stream",
     "text": [
      "Summary:\n",
      "-learning rate = 0.00527\n",
      "-Model saved after iteration 5200.\n",
      "-Train.  Loss=0.0051891\n",
      "-Valid.  Loss=0.0245224\n",
      "'train_loss_bward_28.csv' saved.\n",
      "'valid_loss_bward_28.csv' saved.\n",
      "'model13_backward05_28_best.pth' saved.\n",
      "- train minibatches = 1\n",
      "- valid minibatches = 1\n",
      "- test minibatches = 1\n"
     ]
    },
    {
     "data": {
      "application/vnd.jupyter.widget-view+json": {
       "model_id": "d0304e3304204664a8c95133b752393a",
       "version_major": 2,
       "version_minor": 0
      },
      "text/plain": [
       "Epochs loop:   0%|          | 0/10000 [00:00<?, ?it/s]"
      ]
     },
     "metadata": {},
     "output_type": "display_data"
    },
    {
     "name": "stdout",
     "output_type": "stream",
     "text": [
      "Summary:\n",
      "-learning rate = 0.00527\n",
      "-Model saved after iteration 6230.\n",
      "-Train.  Loss=0.0070103\n",
      "-Valid.  Loss=0.0327084\n",
      "'train_loss_bward_29.csv' saved.\n",
      "'valid_loss_bward_29.csv' saved.\n",
      "'model13_backward05_29_best.pth' saved.\n",
      "- train minibatches = 1\n",
      "- valid minibatches = 1\n",
      "- test minibatches = 1\n"
     ]
    },
    {
     "data": {
      "application/vnd.jupyter.widget-view+json": {
       "model_id": "26ff3a23bc704f079fa32bbdbdcad78b",
       "version_major": 2,
       "version_minor": 0
      },
      "text/plain": [
       "Epochs loop:   0%|          | 0/10000 [00:00<?, ?it/s]"
      ]
     },
     "metadata": {},
     "output_type": "display_data"
    },
    {
     "name": "stdout",
     "output_type": "stream",
     "text": [
      "Summary:\n",
      "-learning rate = 0.00527\n",
      "-Model saved after iteration 7312.\n",
      "-Train.  Loss=0.0132416\n",
      "-Valid.  Loss=0.0519129\n",
      "'train_loss_bward_30.csv' saved.\n",
      "'valid_loss_bward_30.csv' saved.\n",
      "'model13_backward05_30_best.pth' saved.\n",
      "- train minibatches = 1\n",
      "- valid minibatches = 1\n",
      "- test minibatches = 1\n"
     ]
    },
    {
     "data": {
      "application/vnd.jupyter.widget-view+json": {
       "model_id": "0a8c242bc1d94327b6743876552512d2",
       "version_major": 2,
       "version_minor": 0
      },
      "text/plain": [
       "Epochs loop:   0%|          | 0/10000 [00:00<?, ?it/s]"
      ]
     },
     "metadata": {},
     "output_type": "display_data"
    },
    {
     "name": "stdout",
     "output_type": "stream",
     "text": [
      "Summary:\n",
      "-learning rate = 0.00527\n",
      "-Model saved after iteration 4600.\n",
      "-Train.  Loss=0.0023060\n",
      "-Valid.  Loss=0.0308770\n",
      "'train_loss_bward_31.csv' saved.\n",
      "'valid_loss_bward_31.csv' saved.\n",
      "'model13_backward05_31_best.pth' saved.\n",
      "- train minibatches = 1\n",
      "- valid minibatches = 1\n",
      "- test minibatches = 1\n"
     ]
    },
    {
     "data": {
      "application/vnd.jupyter.widget-view+json": {
       "model_id": "46df38758707442796aea57ff2086749",
       "version_major": 2,
       "version_minor": 0
      },
      "text/plain": [
       "Epochs loop:   0%|          | 0/10000 [00:00<?, ?it/s]"
      ]
     },
     "metadata": {},
     "output_type": "display_data"
    },
    {
     "name": "stdout",
     "output_type": "stream",
     "text": [
      "Summary:\n",
      "-learning rate = 0.00527\n",
      "-Model saved after iteration 7435.\n",
      "-Train.  Loss=0.0171454\n",
      "-Valid.  Loss=0.0545211\n",
      "'train_loss_bward_32.csv' saved.\n",
      "'valid_loss_bward_32.csv' saved.\n",
      "'model13_backward05_32_best.pth' saved.\n",
      "- train minibatches = 1\n",
      "- valid minibatches = 1\n",
      "- test minibatches = 1\n"
     ]
    },
    {
     "data": {
      "application/vnd.jupyter.widget-view+json": {
       "model_id": "9732d63ca74a4da2ad5b7e85a058292e",
       "version_major": 2,
       "version_minor": 0
      },
      "text/plain": [
       "Epochs loop:   0%|          | 0/10000 [00:00<?, ?it/s]"
      ]
     },
     "metadata": {},
     "output_type": "display_data"
    },
    {
     "name": "stdout",
     "output_type": "stream",
     "text": [
      "Summary:\n",
      "-learning rate = 0.00527\n",
      "-Model saved after iteration 7659.\n",
      "-Train.  Loss=0.0153748\n",
      "-Valid.  Loss=0.0428662\n",
      "'train_loss_bward_33.csv' saved.\n",
      "'valid_loss_bward_33.csv' saved.\n",
      "'model13_backward05_33_best.pth' saved.\n",
      "- train minibatches = 1\n",
      "- valid minibatches = 1\n",
      "- test minibatches = 1\n"
     ]
    },
    {
     "data": {
      "application/vnd.jupyter.widget-view+json": {
       "model_id": "99768f3854c942b5b0c93a5418c20750",
       "version_major": 2,
       "version_minor": 0
      },
      "text/plain": [
       "Epochs loop:   0%|          | 0/10000 [00:00<?, ?it/s]"
      ]
     },
     "metadata": {},
     "output_type": "display_data"
    },
    {
     "name": "stdout",
     "output_type": "stream",
     "text": [
      "Summary:\n",
      "-learning rate = 0.00527\n",
      "-Model saved after iteration 8303.\n",
      "-Train.  Loss=0.0233595\n",
      "-Valid.  Loss=0.0795198\n",
      "'train_loss_bward_34.csv' saved.\n",
      "'valid_loss_bward_34.csv' saved.\n",
      "'model13_backward05_34_best.pth' saved.\n",
      "- train minibatches = 1\n",
      "- valid minibatches = 1\n",
      "- test minibatches = 1\n"
     ]
    },
    {
     "data": {
      "application/vnd.jupyter.widget-view+json": {
       "model_id": "4d468fc2124d4758b4a054ce30f53e40",
       "version_major": 2,
       "version_minor": 0
      },
      "text/plain": [
       "Epochs loop:   0%|          | 0/10000 [00:00<?, ?it/s]"
      ]
     },
     "metadata": {},
     "output_type": "display_data"
    },
    {
     "name": "stdout",
     "output_type": "stream",
     "text": [
      "Summary:\n",
      "-learning rate = 0.00527\n",
      "-Model saved after iteration 4887.\n",
      "-Train.  Loss=0.0054382\n",
      "-Valid.  Loss=0.0344506\n",
      "'train_loss_bward_35.csv' saved.\n",
      "'valid_loss_bward_35.csv' saved.\n",
      "'model13_backward05_35_best.pth' saved.\n",
      "- train minibatches = 1\n",
      "- valid minibatches = 1\n",
      "- test minibatches = 1\n"
     ]
    },
    {
     "data": {
      "application/vnd.jupyter.widget-view+json": {
       "model_id": "41a2eb2b7abd468fabd3a1ff720f5588",
       "version_major": 2,
       "version_minor": 0
      },
      "text/plain": [
       "Epochs loop:   0%|          | 0/10000 [00:00<?, ?it/s]"
      ]
     },
     "metadata": {},
     "output_type": "display_data"
    },
    {
     "name": "stdout",
     "output_type": "stream",
     "text": [
      "Summary:\n",
      "-learning rate = 0.00527\n",
      "-Model saved after iteration 7224.\n",
      "-Train.  Loss=0.0123197\n",
      "-Valid.  Loss=0.0429999\n",
      "'train_loss_bward_36.csv' saved.\n",
      "'valid_loss_bward_36.csv' saved.\n",
      "'model13_backward05_36_best.pth' saved.\n",
      "- train minibatches = 1\n",
      "- valid minibatches = 1\n",
      "- test minibatches = 1\n"
     ]
    },
    {
     "data": {
      "application/vnd.jupyter.widget-view+json": {
       "model_id": "324d338024bd42d69f218515129295d0",
       "version_major": 2,
       "version_minor": 0
      },
      "text/plain": [
       "Epochs loop:   0%|          | 0/10000 [00:00<?, ?it/s]"
      ]
     },
     "metadata": {},
     "output_type": "display_data"
    },
    {
     "name": "stdout",
     "output_type": "stream",
     "text": [
      "Summary:\n",
      "-learning rate = 0.00527\n",
      "-Model saved after iteration 6510.\n",
      "-Train.  Loss=0.0099410\n",
      "-Valid.  Loss=0.0244818\n",
      "'train_loss_bward_37.csv' saved.\n",
      "'valid_loss_bward_37.csv' saved.\n",
      "'model13_backward05_37_best.pth' saved.\n",
      "- train minibatches = 1\n",
      "- valid minibatches = 1\n",
      "- test minibatches = 1\n"
     ]
    },
    {
     "data": {
      "application/vnd.jupyter.widget-view+json": {
       "model_id": "345593d508724e90b853157219c3d1a2",
       "version_major": 2,
       "version_minor": 0
      },
      "text/plain": [
       "Epochs loop:   0%|          | 0/10000 [00:00<?, ?it/s]"
      ]
     },
     "metadata": {},
     "output_type": "display_data"
    },
    {
     "name": "stdout",
     "output_type": "stream",
     "text": [
      "Summary:\n",
      "-learning rate = 0.00527\n",
      "-Model saved after iteration 6298.\n",
      "-Train.  Loss=0.0075321\n",
      "-Valid.  Loss=0.0334118\n",
      "'train_loss_bward_38.csv' saved.\n",
      "'valid_loss_bward_38.csv' saved.\n",
      "'model13_backward05_38_best.pth' saved.\n",
      "- train minibatches = 1\n",
      "- valid minibatches = 1\n",
      "- test minibatches = 1\n"
     ]
    },
    {
     "data": {
      "application/vnd.jupyter.widget-view+json": {
       "model_id": "d2a6c20c930644328ec185f67119e284",
       "version_major": 2,
       "version_minor": 0
      },
      "text/plain": [
       "Epochs loop:   0%|          | 0/10000 [00:00<?, ?it/s]"
      ]
     },
     "metadata": {},
     "output_type": "display_data"
    },
    {
     "name": "stdout",
     "output_type": "stream",
     "text": [
      "Summary:\n",
      "-learning rate = 0.00527\n",
      "-Model saved after iteration 8724.\n",
      "-Train.  Loss=0.0318833\n",
      "-Valid.  Loss=0.0540486\n",
      "'train_loss_bward_39.csv' saved.\n",
      "'valid_loss_bward_39.csv' saved.\n",
      "'model13_backward05_39_best.pth' saved.\n",
      "- train minibatches = 1\n",
      "- valid minibatches = 1\n",
      "- test minibatches = 1\n"
     ]
    },
    {
     "data": {
      "application/vnd.jupyter.widget-view+json": {
       "model_id": "0ba41d3bc7e6456fa15256828236e7e0",
       "version_major": 2,
       "version_minor": 0
      },
      "text/plain": [
       "Epochs loop:   0%|          | 0/10000 [00:00<?, ?it/s]"
      ]
     },
     "metadata": {},
     "output_type": "display_data"
    },
    {
     "name": "stdout",
     "output_type": "stream",
     "text": [
      "Summary:\n",
      "-learning rate = 0.00527\n",
      "-Model saved after iteration 7919.\n",
      "-Train.  Loss=0.0197028\n",
      "-Valid.  Loss=0.0513469\n",
      "'train_loss_bward_40.csv' saved.\n",
      "'valid_loss_bward_40.csv' saved.\n",
      "'model13_backward05_40_best.pth' saved.\n",
      "- train minibatches = 1\n",
      "- valid minibatches = 1\n",
      "- test minibatches = 1\n"
     ]
    },
    {
     "data": {
      "application/vnd.jupyter.widget-view+json": {
       "model_id": "6901ae0e321747e8b190c27b8393a10c",
       "version_major": 2,
       "version_minor": 0
      },
      "text/plain": [
       "Epochs loop:   0%|          | 0/10000 [00:00<?, ?it/s]"
      ]
     },
     "metadata": {},
     "output_type": "display_data"
    },
    {
     "name": "stdout",
     "output_type": "stream",
     "text": [
      "Summary:\n",
      "-learning rate = 0.00527\n",
      "-Model saved after iteration 8120.\n",
      "-Train.  Loss=0.0224589\n",
      "-Valid.  Loss=0.0501680\n",
      "'train_loss_bward_41.csv' saved.\n",
      "'valid_loss_bward_41.csv' saved.\n",
      "'model13_backward05_41_best.pth' saved.\n",
      "- train minibatches = 1\n",
      "- valid minibatches = 1\n",
      "- test minibatches = 1\n"
     ]
    },
    {
     "data": {
      "application/vnd.jupyter.widget-view+json": {
       "model_id": "226c2f6f50664376897ffb80ad9dc202",
       "version_major": 2,
       "version_minor": 0
      },
      "text/plain": [
       "Epochs loop:   0%|          | 0/10000 [00:00<?, ?it/s]"
      ]
     },
     "metadata": {},
     "output_type": "display_data"
    },
    {
     "name": "stdout",
     "output_type": "stream",
     "text": [
      "Summary:\n",
      "-learning rate = 0.00527\n",
      "-Model saved after iteration 7861.\n",
      "-Train.  Loss=0.0160288\n",
      "-Valid.  Loss=0.0492597\n",
      "'train_loss_bward_42.csv' saved.\n",
      "'valid_loss_bward_42.csv' saved.\n",
      "'model13_backward05_42_best.pth' saved.\n",
      "- train minibatches = 1\n",
      "- valid minibatches = 1\n",
      "- test minibatches = 1\n"
     ]
    },
    {
     "data": {
      "application/vnd.jupyter.widget-view+json": {
       "model_id": "ca9aa48a710c45258f08d36fd081fbad",
       "version_major": 2,
       "version_minor": 0
      },
      "text/plain": [
       "Epochs loop:   0%|          | 0/10000 [00:00<?, ?it/s]"
      ]
     },
     "metadata": {},
     "output_type": "display_data"
    },
    {
     "name": "stdout",
     "output_type": "stream",
     "text": [
      "Summary:\n",
      "-learning rate = 0.00527\n",
      "-Model saved after iteration 6645.\n",
      "-Train.  Loss=0.0076177\n",
      "-Valid.  Loss=0.0556098\n",
      "'train_loss_bward_43.csv' saved.\n",
      "'valid_loss_bward_43.csv' saved.\n",
      "'model13_backward05_43_best.pth' saved.\n",
      "- train minibatches = 1\n",
      "- valid minibatches = 1\n",
      "- test minibatches = 1\n"
     ]
    },
    {
     "data": {
      "application/vnd.jupyter.widget-view+json": {
       "model_id": "0749524c46f54074be362d50158a149b",
       "version_major": 2,
       "version_minor": 0
      },
      "text/plain": [
       "Epochs loop:   0%|          | 0/10000 [00:00<?, ?it/s]"
      ]
     },
     "metadata": {},
     "output_type": "display_data"
    },
    {
     "name": "stdout",
     "output_type": "stream",
     "text": [
      "Summary:\n",
      "-learning rate = 0.00527\n",
      "-Model saved after iteration 7860.\n",
      "-Train.  Loss=0.0168301\n",
      "-Valid.  Loss=0.0457706\n",
      "'train_loss_bward_44.csv' saved.\n",
      "'valid_loss_bward_44.csv' saved.\n",
      "'model13_backward05_44_best.pth' saved.\n",
      "- train minibatches = 1\n",
      "- valid minibatches = 1\n",
      "- test minibatches = 1\n"
     ]
    },
    {
     "data": {
      "application/vnd.jupyter.widget-view+json": {
       "model_id": "1efe21ae7b1d4da1b30c0484a715d3c3",
       "version_major": 2,
       "version_minor": 0
      },
      "text/plain": [
       "Epochs loop:   0%|          | 0/10000 [00:00<?, ?it/s]"
      ]
     },
     "metadata": {},
     "output_type": "display_data"
    },
    {
     "name": "stdout",
     "output_type": "stream",
     "text": [
      "Summary:\n",
      "-learning rate = 0.00527\n",
      "-Model saved after iteration 6713.\n",
      "-Train.  Loss=0.0101541\n",
      "-Valid.  Loss=0.0388530\n",
      "'train_loss_bward_45.csv' saved.\n",
      "'valid_loss_bward_45.csv' saved.\n",
      "'model13_backward05_45_best.pth' saved.\n",
      "- train minibatches = 1\n",
      "- valid minibatches = 1\n",
      "- test minibatches = 1\n"
     ]
    },
    {
     "data": {
      "application/vnd.jupyter.widget-view+json": {
       "model_id": "51f9779e63564077b5990131ed7dd65d",
       "version_major": 2,
       "version_minor": 0
      },
      "text/plain": [
       "Epochs loop:   0%|          | 0/10000 [00:00<?, ?it/s]"
      ]
     },
     "metadata": {},
     "output_type": "display_data"
    },
    {
     "name": "stdout",
     "output_type": "stream",
     "text": [
      "Summary:\n",
      "-learning rate = 0.00527\n",
      "-Model saved after iteration 6809.\n",
      "-Train.  Loss=0.0089734\n",
      "-Valid.  Loss=0.0352795\n",
      "'train_loss_bward_46.csv' saved.\n",
      "'valid_loss_bward_46.csv' saved.\n",
      "'model13_backward05_46_best.pth' saved.\n",
      "- train minibatches = 1\n",
      "- valid minibatches = 1\n",
      "- test minibatches = 1\n"
     ]
    },
    {
     "data": {
      "application/vnd.jupyter.widget-view+json": {
       "model_id": "c703657ea17e4dc0b5027084bdd0f863",
       "version_major": 2,
       "version_minor": 0
      },
      "text/plain": [
       "Epochs loop:   0%|          | 0/10000 [00:00<?, ?it/s]"
      ]
     },
     "metadata": {},
     "output_type": "display_data"
    },
    {
     "name": "stdout",
     "output_type": "stream",
     "text": [
      "Summary:\n",
      "-learning rate = 0.00527\n",
      "-Model saved after iteration 7715.\n",
      "-Train.  Loss=0.0154189\n",
      "-Valid.  Loss=0.0578627\n",
      "'train_loss_bward_47.csv' saved.\n",
      "'valid_loss_bward_47.csv' saved.\n",
      "'model13_backward05_47_best.pth' saved.\n",
      "- train minibatches = 1\n",
      "- valid minibatches = 1\n",
      "- test minibatches = 1\n"
     ]
    },
    {
     "data": {
      "application/vnd.jupyter.widget-view+json": {
       "model_id": "6f175e27fceb4c658306dcfc81df6f0f",
       "version_major": 2,
       "version_minor": 0
      },
      "text/plain": [
       "Epochs loop:   0%|          | 0/10000 [00:00<?, ?it/s]"
      ]
     },
     "metadata": {},
     "output_type": "display_data"
    },
    {
     "name": "stdout",
     "output_type": "stream",
     "text": [
      "Summary:\n",
      "-learning rate = 0.00527\n",
      "-Model saved after iteration 7136.\n",
      "-Train.  Loss=0.0094972\n",
      "-Valid.  Loss=0.0456592\n",
      "'train_loss_bward_48.csv' saved.\n",
      "'valid_loss_bward_48.csv' saved.\n",
      "'model13_backward05_48_best.pth' saved.\n",
      "- train minibatches = 1\n",
      "- valid minibatches = 1\n",
      "- test minibatches = 1\n"
     ]
    },
    {
     "data": {
      "application/vnd.jupyter.widget-view+json": {
       "model_id": "10931e0f99c34251b3c49f8169c3f3bf",
       "version_major": 2,
       "version_minor": 0
      },
      "text/plain": [
       "Epochs loop:   0%|          | 0/10000 [00:00<?, ?it/s]"
      ]
     },
     "metadata": {},
     "output_type": "display_data"
    },
    {
     "name": "stdout",
     "output_type": "stream",
     "text": [
      "Summary:\n",
      "-learning rate = 0.00527\n",
      "-Model saved after iteration 7924.\n",
      "-Train.  Loss=0.0169578\n",
      "-Valid.  Loss=0.0561558\n",
      "'train_loss_bward_49.csv' saved.\n",
      "'valid_loss_bward_49.csv' saved.\n",
      "'model13_backward05_49_best.pth' saved.\n",
      "- train minibatches = 1\n",
      "- valid minibatches = 1\n",
      "- test minibatches = 1\n"
     ]
    },
    {
     "data": {
      "application/vnd.jupyter.widget-view+json": {
       "model_id": "eff95db6efd64a559e4b4aac99038b95",
       "version_major": 2,
       "version_minor": 0
      },
      "text/plain": [
       "Epochs loop:   0%|          | 0/10000 [00:00<?, ?it/s]"
      ]
     },
     "metadata": {},
     "output_type": "display_data"
    },
    {
     "name": "stdout",
     "output_type": "stream",
     "text": [
      "Summary:\n",
      "-learning rate = 0.00527\n",
      "-Model saved after iteration 7587.\n",
      "-Train.  Loss=0.0162629\n",
      "-Valid.  Loss=0.0564607\n",
      "'train_loss_bward_50.csv' saved.\n",
      "'valid_loss_bward_50.csv' saved.\n",
      "'model13_backward05_50_best.pth' saved.\n",
      "- train minibatches = 1\n",
      "- valid minibatches = 1\n",
      "- test minibatches = 1\n"
     ]
    },
    {
     "data": {
      "application/vnd.jupyter.widget-view+json": {
       "model_id": "e1878e8377614a9094f4c84aaa028be9",
       "version_major": 2,
       "version_minor": 0
      },
      "text/plain": [
       "Epochs loop:   0%|          | 0/10000 [00:00<?, ?it/s]"
      ]
     },
     "metadata": {},
     "output_type": "display_data"
    },
    {
     "name": "stdout",
     "output_type": "stream",
     "text": [
      "Summary:\n",
      "-learning rate = 0.00527\n",
      "-Model saved after iteration 7841.\n",
      "-Train.  Loss=0.0173266\n",
      "-Valid.  Loss=0.0525401\n",
      "'train_loss_bward_51.csv' saved.\n",
      "'valid_loss_bward_51.csv' saved.\n",
      "'model13_backward05_51_best.pth' saved.\n",
      "- train minibatches = 1\n",
      "- valid minibatches = 1\n",
      "- test minibatches = 1\n"
     ]
    },
    {
     "data": {
      "application/vnd.jupyter.widget-view+json": {
       "model_id": "efe8d15483064f85853b249c9565f35e",
       "version_major": 2,
       "version_minor": 0
      },
      "text/plain": [
       "Epochs loop:   0%|          | 0/10000 [00:00<?, ?it/s]"
      ]
     },
     "metadata": {},
     "output_type": "display_data"
    },
    {
     "name": "stdout",
     "output_type": "stream",
     "text": [
      "Summary:\n",
      "-learning rate = 0.00527\n",
      "-Model saved after iteration 7658.\n",
      "-Train.  Loss=0.0155932\n",
      "-Valid.  Loss=0.0439765\n",
      "'train_loss_bward_52.csv' saved.\n",
      "'valid_loss_bward_52.csv' saved.\n",
      "'model13_backward05_52_best.pth' saved.\n",
      "- train minibatches = 1\n",
      "- valid minibatches = 1\n",
      "- test minibatches = 1\n"
     ]
    },
    {
     "data": {
      "application/vnd.jupyter.widget-view+json": {
       "model_id": "4a250b6357f040339731eb93833d25fb",
       "version_major": 2,
       "version_minor": 0
      },
      "text/plain": [
       "Epochs loop:   0%|          | 0/10000 [00:00<?, ?it/s]"
      ]
     },
     "metadata": {},
     "output_type": "display_data"
    },
    {
     "name": "stdout",
     "output_type": "stream",
     "text": [
      "Summary:\n",
      "-learning rate = 0.00527\n",
      "-Model saved after iteration 7456.\n",
      "-Train.  Loss=0.0138971\n",
      "-Valid.  Loss=0.0710501\n",
      "'train_loss_bward_53.csv' saved.\n",
      "'valid_loss_bward_53.csv' saved.\n",
      "'model13_backward05_53_best.pth' saved.\n",
      "- train minibatches = 1\n",
      "- valid minibatches = 1\n",
      "- test minibatches = 1\n"
     ]
    },
    {
     "data": {
      "application/vnd.jupyter.widget-view+json": {
       "model_id": "5f6063ff79de463bbe37dadd2e169473",
       "version_major": 2,
       "version_minor": 0
      },
      "text/plain": [
       "Epochs loop:   0%|          | 0/10000 [00:00<?, ?it/s]"
      ]
     },
     "metadata": {},
     "output_type": "display_data"
    },
    {
     "name": "stdout",
     "output_type": "stream",
     "text": [
      "Summary:\n",
      "-learning rate = 0.00527\n",
      "-Model saved after iteration 3562.\n",
      "-Train.  Loss=0.0033135\n",
      "-Valid.  Loss=0.0341119\n",
      "'train_loss_bward_54.csv' saved.\n",
      "'valid_loss_bward_54.csv' saved.\n",
      "'model13_backward05_54_best.pth' saved.\n",
      "- train minibatches = 1\n",
      "- valid minibatches = 1\n",
      "- test minibatches = 1\n"
     ]
    },
    {
     "data": {
      "application/vnd.jupyter.widget-view+json": {
       "model_id": "3eac6a281a874fbd8ba163d84cc866f0",
       "version_major": 2,
       "version_minor": 0
      },
      "text/plain": [
       "Epochs loop:   0%|          | 0/10000 [00:00<?, ?it/s]"
      ]
     },
     "metadata": {},
     "output_type": "display_data"
    },
    {
     "name": "stdout",
     "output_type": "stream",
     "text": [
      "Summary:\n",
      "-learning rate = 0.00527\n",
      "-Model saved after iteration 7856.\n",
      "-Train.  Loss=0.0185640\n",
      "-Valid.  Loss=0.0415684\n",
      "'train_loss_bward_55.csv' saved.\n",
      "'valid_loss_bward_55.csv' saved.\n",
      "'model13_backward05_55_best.pth' saved.\n",
      "- train minibatches = 1\n",
      "- valid minibatches = 1\n",
      "- test minibatches = 1\n"
     ]
    },
    {
     "data": {
      "application/vnd.jupyter.widget-view+json": {
       "model_id": "120d01f2e5f346639e4140264928a31e",
       "version_major": 2,
       "version_minor": 0
      },
      "text/plain": [
       "Epochs loop:   0%|          | 0/10000 [00:00<?, ?it/s]"
      ]
     },
     "metadata": {},
     "output_type": "display_data"
    },
    {
     "name": "stdout",
     "output_type": "stream",
     "text": [
      "Summary:\n",
      "-learning rate = 0.00527\n",
      "-Model saved after iteration 7235.\n",
      "-Train.  Loss=0.0123215\n",
      "-Valid.  Loss=0.0479163\n",
      "'train_loss_bward_56.csv' saved.\n",
      "'valid_loss_bward_56.csv' saved.\n",
      "'model13_backward05_56_best.pth' saved.\n",
      "- train minibatches = 1\n",
      "- valid minibatches = 1\n",
      "- test minibatches = 1\n"
     ]
    },
    {
     "data": {
      "application/vnd.jupyter.widget-view+json": {
       "model_id": "588c8137eabf4187875923653e0ce362",
       "version_major": 2,
       "version_minor": 0
      },
      "text/plain": [
       "Epochs loop:   0%|          | 0/10000 [00:00<?, ?it/s]"
      ]
     },
     "metadata": {},
     "output_type": "display_data"
    },
    {
     "name": "stdout",
     "output_type": "stream",
     "text": [
      "Summary:\n",
      "-learning rate = 0.00527\n",
      "-Model saved after iteration 2996.\n",
      "-Train.  Loss=0.0043473\n",
      "-Valid.  Loss=0.0413379\n",
      "'train_loss_bward_57.csv' saved.\n",
      "'valid_loss_bward_57.csv' saved.\n",
      "'model13_backward05_57_best.pth' saved.\n",
      "- train minibatches = 1\n",
      "- valid minibatches = 1\n",
      "- test minibatches = 1\n"
     ]
    },
    {
     "data": {
      "application/vnd.jupyter.widget-view+json": {
       "model_id": "e61bc3fb1ecc44988117033838883fc8",
       "version_major": 2,
       "version_minor": 0
      },
      "text/plain": [
       "Epochs loop:   0%|          | 0/10000 [00:00<?, ?it/s]"
      ]
     },
     "metadata": {},
     "output_type": "display_data"
    },
    {
     "name": "stdout",
     "output_type": "stream",
     "text": [
      "Summary:\n",
      "-learning rate = 0.00527\n",
      "-Model saved after iteration 8393.\n",
      "-Train.  Loss=0.0266999\n",
      "-Valid.  Loss=0.0576374\n",
      "'train_loss_bward_58.csv' saved.\n",
      "'valid_loss_bward_58.csv' saved.\n",
      "'model13_backward05_58_best.pth' saved.\n",
      "- train minibatches = 1\n",
      "- valid minibatches = 1\n",
      "- test minibatches = 1\n"
     ]
    },
    {
     "data": {
      "application/vnd.jupyter.widget-view+json": {
       "model_id": "2ac8366aa97b454cacc6965100be707e",
       "version_major": 2,
       "version_minor": 0
      },
      "text/plain": [
       "Epochs loop:   0%|          | 0/10000 [00:00<?, ?it/s]"
      ]
     },
     "metadata": {},
     "output_type": "display_data"
    },
    {
     "name": "stdout",
     "output_type": "stream",
     "text": [
      "Summary:\n",
      "-learning rate = 0.00527\n",
      "-Model saved after iteration 2957.\n",
      "-Train.  Loss=0.0039455\n",
      "-Valid.  Loss=0.0390018\n",
      "'train_loss_bward_59.csv' saved.\n",
      "'valid_loss_bward_59.csv' saved.\n",
      "'model13_backward05_59_best.pth' saved.\n",
      "- train minibatches = 1\n",
      "- valid minibatches = 1\n",
      "- test minibatches = 1\n"
     ]
    },
    {
     "data": {
      "application/vnd.jupyter.widget-view+json": {
       "model_id": "ce95b52e43fe4a1688926115167d8acf",
       "version_major": 2,
       "version_minor": 0
      },
      "text/plain": [
       "Epochs loop:   0%|          | 0/10000 [00:00<?, ?it/s]"
      ]
     },
     "metadata": {},
     "output_type": "display_data"
    },
    {
     "name": "stdout",
     "output_type": "stream",
     "text": [
      "Summary:\n",
      "-learning rate = 0.00527\n",
      "-Model saved after iteration 4915.\n",
      "-Train.  Loss=0.0038207\n",
      "-Valid.  Loss=0.0525219\n",
      "'train_loss_bward_60.csv' saved.\n",
      "'valid_loss_bward_60.csv' saved.\n",
      "'model13_backward05_60_best.pth' saved.\n",
      "- train minibatches = 1\n",
      "- valid minibatches = 1\n",
      "- test minibatches = 1\n"
     ]
    },
    {
     "data": {
      "application/vnd.jupyter.widget-view+json": {
       "model_id": "b35f3a9fceea443dbecaa56f6be513a4",
       "version_major": 2,
       "version_minor": 0
      },
      "text/plain": [
       "Epochs loop:   0%|          | 0/10000 [00:00<?, ?it/s]"
      ]
     },
     "metadata": {},
     "output_type": "display_data"
    },
    {
     "name": "stdout",
     "output_type": "stream",
     "text": [
      "Summary:\n",
      "-learning rate = 0.00527\n",
      "-Model saved after iteration 7507.\n",
      "-Train.  Loss=0.0133336\n",
      "-Valid.  Loss=0.0462729\n",
      "'train_loss_bward_61.csv' saved.\n",
      "'valid_loss_bward_61.csv' saved.\n",
      "'model13_backward05_61_best.pth' saved.\n",
      "- train minibatches = 1\n",
      "- valid minibatches = 1\n",
      "- test minibatches = 1\n"
     ]
    },
    {
     "data": {
      "application/vnd.jupyter.widget-view+json": {
       "model_id": "40937b672c7541f698fa699db3810162",
       "version_major": 2,
       "version_minor": 0
      },
      "text/plain": [
       "Epochs loop:   0%|          | 0/10000 [00:00<?, ?it/s]"
      ]
     },
     "metadata": {},
     "output_type": "display_data"
    },
    {
     "name": "stdout",
     "output_type": "stream",
     "text": [
      "Summary:\n",
      "-learning rate = 0.00527\n",
      "-Model saved after iteration 7115.\n",
      "-Train.  Loss=0.0094736\n",
      "-Valid.  Loss=0.0421759\n",
      "'train_loss_bward_62.csv' saved.\n",
      "'valid_loss_bward_62.csv' saved.\n",
      "'model13_backward05_62_best.pth' saved.\n",
      "- train minibatches = 1\n",
      "- valid minibatches = 1\n",
      "- test minibatches = 1\n"
     ]
    },
    {
     "data": {
      "application/vnd.jupyter.widget-view+json": {
       "model_id": "4de31b711ddd4b59963a7202569eada6",
       "version_major": 2,
       "version_minor": 0
      },
      "text/plain": [
       "Epochs loop:   0%|          | 0/10000 [00:00<?, ?it/s]"
      ]
     },
     "metadata": {},
     "output_type": "display_data"
    },
    {
     "name": "stdout",
     "output_type": "stream",
     "text": [
      "Summary:\n",
      "-learning rate = 0.00527\n",
      "-Model saved after iteration 7063.\n",
      "-Train.  Loss=0.0115220\n",
      "-Valid.  Loss=0.0416634\n",
      "'train_loss_bward_63.csv' saved.\n",
      "'valid_loss_bward_63.csv' saved.\n",
      "'model13_backward05_63_best.pth' saved.\n",
      "- train minibatches = 1\n",
      "- valid minibatches = 1\n",
      "- test minibatches = 1\n"
     ]
    },
    {
     "data": {
      "application/vnd.jupyter.widget-view+json": {
       "model_id": "876676e7ad964e889fdd4379683a12d0",
       "version_major": 2,
       "version_minor": 0
      },
      "text/plain": [
       "Epochs loop:   0%|          | 0/10000 [00:00<?, ?it/s]"
      ]
     },
     "metadata": {},
     "output_type": "display_data"
    },
    {
     "name": "stdout",
     "output_type": "stream",
     "text": [
      "Summary:\n",
      "-learning rate = 0.00527\n",
      "-Model saved after iteration 7575.\n",
      "-Train.  Loss=0.0160774\n",
      "-Valid.  Loss=0.0575592\n",
      "'train_loss_bward_64.csv' saved.\n",
      "'valid_loss_bward_64.csv' saved.\n",
      "'model13_backward05_64_best.pth' saved.\n",
      "- train minibatches = 1\n",
      "- valid minibatches = 1\n",
      "- test minibatches = 1\n"
     ]
    },
    {
     "data": {
      "application/vnd.jupyter.widget-view+json": {
       "model_id": "e9dba185a7664790918c5aef604c9302",
       "version_major": 2,
       "version_minor": 0
      },
      "text/plain": [
       "Epochs loop:   0%|          | 0/10000 [00:00<?, ?it/s]"
      ]
     },
     "metadata": {},
     "output_type": "display_data"
    },
    {
     "name": "stdout",
     "output_type": "stream",
     "text": [
      "Summary:\n",
      "-learning rate = 0.00527\n",
      "-Model saved after iteration 7895.\n",
      "-Train.  Loss=0.0173903\n",
      "-Valid.  Loss=0.0569973\n",
      "'train_loss_bward_65.csv' saved.\n",
      "'valid_loss_bward_65.csv' saved.\n",
      "'model13_backward05_65_best.pth' saved.\n",
      "- train minibatches = 1\n",
      "- valid minibatches = 1\n",
      "- test minibatches = 1\n"
     ]
    },
    {
     "data": {
      "application/vnd.jupyter.widget-view+json": {
       "model_id": "e6d24c30d13f442189144602f41717b9",
       "version_major": 2,
       "version_minor": 0
      },
      "text/plain": [
       "Epochs loop:   0%|          | 0/10000 [00:00<?, ?it/s]"
      ]
     },
     "metadata": {},
     "output_type": "display_data"
    },
    {
     "name": "stdout",
     "output_type": "stream",
     "text": [
      "Summary:\n",
      "-learning rate = 0.00527\n",
      "-Model saved after iteration 7791.\n",
      "-Train.  Loss=0.0173140\n",
      "-Valid.  Loss=0.0554313\n",
      "'train_loss_bward_66.csv' saved.\n",
      "'valid_loss_bward_66.csv' saved.\n",
      "'model13_backward05_66_best.pth' saved.\n",
      "- train minibatches = 1\n",
      "- valid minibatches = 1\n",
      "- test minibatches = 1\n"
     ]
    },
    {
     "data": {
      "application/vnd.jupyter.widget-view+json": {
       "model_id": "98cc79b525be471f85cc3e48999cc45f",
       "version_major": 2,
       "version_minor": 0
      },
      "text/plain": [
       "Epochs loop:   0%|          | 0/10000 [00:00<?, ?it/s]"
      ]
     },
     "metadata": {},
     "output_type": "display_data"
    },
    {
     "name": "stdout",
     "output_type": "stream",
     "text": [
      "Summary:\n",
      "-learning rate = 0.00527\n",
      "-Model saved after iteration 8249.\n",
      "-Train.  Loss=0.0254262\n",
      "-Valid.  Loss=0.0464910\n",
      "'train_loss_bward_67.csv' saved.\n",
      "'valid_loss_bward_67.csv' saved.\n",
      "'model13_backward05_67_best.pth' saved.\n",
      "- train minibatches = 1\n",
      "- valid minibatches = 1\n",
      "- test minibatches = 1\n"
     ]
    },
    {
     "data": {
      "application/vnd.jupyter.widget-view+json": {
       "model_id": "28c7bff5fe4b4c729a3ba671d3901b99",
       "version_major": 2,
       "version_minor": 0
      },
      "text/plain": [
       "Epochs loop:   0%|          | 0/10000 [00:00<?, ?it/s]"
      ]
     },
     "metadata": {},
     "output_type": "display_data"
    },
    {
     "name": "stdout",
     "output_type": "stream",
     "text": [
      "Summary:\n",
      "-learning rate = 0.00527\n",
      "-Model saved after iteration 7844.\n",
      "-Train.  Loss=0.0147745\n",
      "-Valid.  Loss=0.0626250\n",
      "'train_loss_bward_68.csv' saved.\n",
      "'valid_loss_bward_68.csv' saved.\n",
      "'model13_backward05_68_best.pth' saved.\n",
      "- train minibatches = 1\n",
      "- valid minibatches = 1\n",
      "- test minibatches = 1\n"
     ]
    },
    {
     "data": {
      "application/vnd.jupyter.widget-view+json": {
       "model_id": "7cf0d1f4719f42e28e32c6113a56b770",
       "version_major": 2,
       "version_minor": 0
      },
      "text/plain": [
       "Epochs loop:   0%|          | 0/10000 [00:00<?, ?it/s]"
      ]
     },
     "metadata": {},
     "output_type": "display_data"
    },
    {
     "name": "stdout",
     "output_type": "stream",
     "text": [
      "Summary:\n",
      "-learning rate = 0.00527\n",
      "-Model saved after iteration 7513.\n",
      "-Train.  Loss=0.0155143\n",
      "-Valid.  Loss=0.0440443\n",
      "'train_loss_bward_69.csv' saved.\n",
      "'valid_loss_bward_69.csv' saved.\n",
      "'model13_backward05_69_best.pth' saved.\n",
      "- train minibatches = 1\n",
      "- valid minibatches = 1\n",
      "- test minibatches = 1\n"
     ]
    },
    {
     "data": {
      "application/vnd.jupyter.widget-view+json": {
       "model_id": "90f3c3627954478296d08e6589d22d91",
       "version_major": 2,
       "version_minor": 0
      },
      "text/plain": [
       "Epochs loop:   0%|          | 0/10000 [00:00<?, ?it/s]"
      ]
     },
     "metadata": {},
     "output_type": "display_data"
    },
    {
     "name": "stdout",
     "output_type": "stream",
     "text": [
      "Summary:\n",
      "-learning rate = 0.00527\n",
      "-Model saved after iteration 8672.\n",
      "-Train.  Loss=0.0301588\n",
      "-Valid.  Loss=0.0663923\n",
      "'train_loss_bward_70.csv' saved.\n",
      "'valid_loss_bward_70.csv' saved.\n",
      "'model13_backward05_70_best.pth' saved.\n",
      "- train minibatches = 1\n",
      "- valid minibatches = 1\n",
      "- test minibatches = 1\n"
     ]
    },
    {
     "data": {
      "application/vnd.jupyter.widget-view+json": {
       "model_id": "b0825267de014e04b59c31d91a101a4f",
       "version_major": 2,
       "version_minor": 0
      },
      "text/plain": [
       "Epochs loop:   0%|          | 0/10000 [00:00<?, ?it/s]"
      ]
     },
     "metadata": {},
     "output_type": "display_data"
    },
    {
     "name": "stdout",
     "output_type": "stream",
     "text": [
      "Summary:\n",
      "-learning rate = 0.00527\n",
      "-Model saved after iteration 8036.\n",
      "-Train.  Loss=0.0178401\n",
      "-Valid.  Loss=0.0683440\n",
      "'train_loss_bward_71.csv' saved.\n",
      "'valid_loss_bward_71.csv' saved.\n",
      "'model13_backward05_71_best.pth' saved.\n",
      "- train minibatches = 1\n",
      "- valid minibatches = 1\n",
      "- test minibatches = 1\n"
     ]
    },
    {
     "data": {
      "application/vnd.jupyter.widget-view+json": {
       "model_id": "d2e40374f29748e2a56876dbd5a9b51d",
       "version_major": 2,
       "version_minor": 0
      },
      "text/plain": [
       "Epochs loop:   0%|          | 0/10000 [00:00<?, ?it/s]"
      ]
     },
     "metadata": {},
     "output_type": "display_data"
    },
    {
     "name": "stdout",
     "output_type": "stream",
     "text": [
      "Summary:\n",
      "-learning rate = 0.00527\n",
      "-Model saved after iteration 8178.\n",
      "-Train.  Loss=0.0226905\n",
      "-Valid.  Loss=0.0465638\n",
      "'train_loss_bward_72.csv' saved.\n",
      "'valid_loss_bward_72.csv' saved.\n",
      "'model13_backward05_72_best.pth' saved.\n",
      "- train minibatches = 1\n",
      "- valid minibatches = 1\n",
      "- test minibatches = 1\n"
     ]
    },
    {
     "data": {
      "application/vnd.jupyter.widget-view+json": {
       "model_id": "5af2abd27f964a5cb349b8a2bac53f8c",
       "version_major": 2,
       "version_minor": 0
      },
      "text/plain": [
       "Epochs loop:   0%|          | 0/10000 [00:00<?, ?it/s]"
      ]
     },
     "metadata": {},
     "output_type": "display_data"
    },
    {
     "name": "stdout",
     "output_type": "stream",
     "text": [
      "Summary:\n",
      "-learning rate = 0.00527\n",
      "-Model saved after iteration 8101.\n",
      "-Train.  Loss=0.0196871\n",
      "-Valid.  Loss=0.0543147\n",
      "'train_loss_bward_73.csv' saved.\n",
      "'valid_loss_bward_73.csv' saved.\n",
      "'model13_backward05_73_best.pth' saved.\n",
      "- train minibatches = 1\n",
      "- valid minibatches = 1\n",
      "- test minibatches = 1\n"
     ]
    },
    {
     "data": {
      "application/vnd.jupyter.widget-view+json": {
       "model_id": "3884c6820ecb4bddbc42f81c2041ad2d",
       "version_major": 2,
       "version_minor": 0
      },
      "text/plain": [
       "Epochs loop:   0%|          | 0/10000 [00:00<?, ?it/s]"
      ]
     },
     "metadata": {},
     "output_type": "display_data"
    },
    {
     "name": "stdout",
     "output_type": "stream",
     "text": [
      "Summary:\n",
      "-learning rate = 0.00527\n",
      "-Model saved after iteration 6052.\n",
      "-Train.  Loss=0.0068052\n",
      "-Valid.  Loss=0.0564696\n",
      "'train_loss_bward_74.csv' saved.\n",
      "'valid_loss_bward_74.csv' saved.\n",
      "'model13_backward05_74_best.pth' saved.\n",
      "- train minibatches = 1\n",
      "- valid minibatches = 1\n",
      "- test minibatches = 1\n"
     ]
    },
    {
     "data": {
      "application/vnd.jupyter.widget-view+json": {
       "model_id": "297b782ad0d541d09880cfb21e059f6b",
       "version_major": 2,
       "version_minor": 0
      },
      "text/plain": [
       "Epochs loop:   0%|          | 0/10000 [00:00<?, ?it/s]"
      ]
     },
     "metadata": {},
     "output_type": "display_data"
    },
    {
     "name": "stdout",
     "output_type": "stream",
     "text": [
      "Summary:\n",
      "-learning rate = 0.00527\n",
      "-Model saved after iteration 7326.\n",
      "-Train.  Loss=0.0136058\n",
      "-Valid.  Loss=0.0548434\n",
      "'train_loss_bward_75.csv' saved.\n",
      "'valid_loss_bward_75.csv' saved.\n",
      "'model13_backward05_75_best.pth' saved.\n",
      "- train minibatches = 1\n",
      "- valid minibatches = 1\n",
      "- test minibatches = 1\n"
     ]
    },
    {
     "data": {
      "application/vnd.jupyter.widget-view+json": {
       "model_id": "392c897ef47545c8a34d9cd9fe85f667",
       "version_major": 2,
       "version_minor": 0
      },
      "text/plain": [
       "Epochs loop:   0%|          | 0/10000 [00:00<?, ?it/s]"
      ]
     },
     "metadata": {},
     "output_type": "display_data"
    },
    {
     "name": "stdout",
     "output_type": "stream",
     "text": [
      "Summary:\n",
      "-learning rate = 0.00527\n",
      "-Model saved after iteration 8056.\n",
      "-Train.  Loss=0.0202924\n",
      "-Valid.  Loss=0.0643185\n",
      "'train_loss_bward_76.csv' saved.\n",
      "'valid_loss_bward_76.csv' saved.\n",
      "'model13_backward05_76_best.pth' saved.\n",
      "- train minibatches = 1\n",
      "- valid minibatches = 1\n",
      "- test minibatches = 1\n"
     ]
    },
    {
     "data": {
      "application/vnd.jupyter.widget-view+json": {
       "model_id": "9e6d3342c81b49348d416ef5c6c83d1e",
       "version_major": 2,
       "version_minor": 0
      },
      "text/plain": [
       "Epochs loop:   0%|          | 0/10000 [00:00<?, ?it/s]"
      ]
     },
     "metadata": {},
     "output_type": "display_data"
    },
    {
     "name": "stdout",
     "output_type": "stream",
     "text": [
      "Summary:\n",
      "-learning rate = 0.00527\n",
      "-Model saved after iteration 1099.\n",
      "-Train.  Loss=0.0026441\n",
      "-Valid.  Loss=0.0410824\n",
      "'train_loss_bward_77.csv' saved.\n",
      "'valid_loss_bward_77.csv' saved.\n",
      "'model13_backward05_77_best.pth' saved.\n",
      "- train minibatches = 1\n",
      "- valid minibatches = 1\n",
      "- test minibatches = 1\n"
     ]
    },
    {
     "data": {
      "application/vnd.jupyter.widget-view+json": {
       "model_id": "940d0749fda641eeb83d91295e0c6da6",
       "version_major": 2,
       "version_minor": 0
      },
      "text/plain": [
       "Epochs loop:   0%|          | 0/10000 [00:00<?, ?it/s]"
      ]
     },
     "metadata": {},
     "output_type": "display_data"
    },
    {
     "name": "stdout",
     "output_type": "stream",
     "text": [
      "Summary:\n",
      "-learning rate = 0.00527\n",
      "-Model saved after iteration 76.\n",
      "-Train.  Loss=0.0037684\n",
      "-Valid.  Loss=0.0447395\n",
      "'train_loss_bward_78.csv' saved.\n",
      "'valid_loss_bward_78.csv' saved.\n",
      "'model13_backward05_78_best.pth' saved.\n",
      "- train minibatches = 1\n",
      "- valid minibatches = 1\n",
      "- test minibatches = 1\n"
     ]
    },
    {
     "data": {
      "application/vnd.jupyter.widget-view+json": {
       "model_id": "4d9402b77d6d4459b40d355b3ca66809",
       "version_major": 2,
       "version_minor": 0
      },
      "text/plain": [
       "Epochs loop:   0%|          | 0/10000 [00:00<?, ?it/s]"
      ]
     },
     "metadata": {},
     "output_type": "display_data"
    },
    {
     "name": "stdout",
     "output_type": "stream",
     "text": [
      "Summary:\n",
      "-learning rate = 0.00527\n",
      "-Model saved after iteration 6762.\n",
      "-Train.  Loss=0.0091904\n",
      "-Valid.  Loss=0.0437475\n",
      "'train_loss_bward_79.csv' saved.\n",
      "'valid_loss_bward_79.csv' saved.\n",
      "'model13_backward05_79_best.pth' saved.\n",
      "- train minibatches = 1\n",
      "- valid minibatches = 1\n",
      "- test minibatches = 1\n"
     ]
    },
    {
     "data": {
      "application/vnd.jupyter.widget-view+json": {
       "model_id": "cffef16ea2a34a33ad32bc7c17b148c8",
       "version_major": 2,
       "version_minor": 0
      },
      "text/plain": [
       "Epochs loop:   0%|          | 0/10000 [00:00<?, ?it/s]"
      ]
     },
     "metadata": {},
     "output_type": "display_data"
    },
    {
     "name": "stdout",
     "output_type": "stream",
     "text": [
      "Summary:\n",
      "-learning rate = 0.00527\n",
      "-Model saved after iteration 6229.\n",
      "-Train.  Loss=0.0075509\n",
      "-Valid.  Loss=0.0459802\n",
      "'train_loss_bward_80.csv' saved.\n",
      "'valid_loss_bward_80.csv' saved.\n",
      "'model13_backward05_80_best.pth' saved.\n",
      "- train minibatches = 1\n",
      "- valid minibatches = 1\n",
      "- test minibatches = 1\n"
     ]
    },
    {
     "data": {
      "application/vnd.jupyter.widget-view+json": {
       "model_id": "1f94a3d786c94742a42fda46121a1685",
       "version_major": 2,
       "version_minor": 0
      },
      "text/plain": [
       "Epochs loop:   0%|          | 0/10000 [00:00<?, ?it/s]"
      ]
     },
     "metadata": {},
     "output_type": "display_data"
    },
    {
     "name": "stdout",
     "output_type": "stream",
     "text": [
      "Summary:\n",
      "-learning rate = 0.00527\n",
      "-Model saved after iteration 8491.\n",
      "-Train.  Loss=0.0245794\n",
      "-Valid.  Loss=0.0635554\n",
      "'train_loss_bward_81.csv' saved.\n",
      "'valid_loss_bward_81.csv' saved.\n",
      "'model13_backward05_81_best.pth' saved.\n",
      "- train minibatches = 1\n",
      "- valid minibatches = 1\n",
      "- test minibatches = 1\n"
     ]
    },
    {
     "data": {
      "application/vnd.jupyter.widget-view+json": {
       "model_id": "f63fc4b56deb4ef4baef38ef205f1ca1",
       "version_major": 2,
       "version_minor": 0
      },
      "text/plain": [
       "Epochs loop:   0%|          | 0/10000 [00:00<?, ?it/s]"
      ]
     },
     "metadata": {},
     "output_type": "display_data"
    },
    {
     "name": "stdout",
     "output_type": "stream",
     "text": [
      "Summary:\n",
      "-learning rate = 0.00527\n",
      "-Model saved after iteration 7856.\n",
      "-Train.  Loss=0.0171736\n",
      "-Valid.  Loss=0.0635320\n",
      "'train_loss_bward_82.csv' saved.\n",
      "'valid_loss_bward_82.csv' saved.\n",
      "'model13_backward05_82_best.pth' saved.\n",
      "- train minibatches = 1\n",
      "- valid minibatches = 1\n",
      "- test minibatches = 1\n"
     ]
    },
    {
     "data": {
      "application/vnd.jupyter.widget-view+json": {
       "model_id": "a864c3bfdaa74056b821893827dd2147",
       "version_major": 2,
       "version_minor": 0
      },
      "text/plain": [
       "Epochs loop:   0%|          | 0/10000 [00:00<?, ?it/s]"
      ]
     },
     "metadata": {},
     "output_type": "display_data"
    },
    {
     "name": "stdout",
     "output_type": "stream",
     "text": [
      "Summary:\n",
      "-learning rate = 0.00527\n",
      "-Model saved after iteration 7813.\n",
      "-Train.  Loss=0.0196857\n",
      "-Valid.  Loss=0.0426861\n",
      "'train_loss_bward_83.csv' saved.\n",
      "'valid_loss_bward_83.csv' saved.\n",
      "'model13_backward05_83_best.pth' saved.\n",
      "- train minibatches = 1\n",
      "- valid minibatches = 1\n",
      "- test minibatches = 1\n"
     ]
    },
    {
     "data": {
      "application/vnd.jupyter.widget-view+json": {
       "model_id": "c93a2814d5884d29aafd24807a533574",
       "version_major": 2,
       "version_minor": 0
      },
      "text/plain": [
       "Epochs loop:   0%|          | 0/10000 [00:00<?, ?it/s]"
      ]
     },
     "metadata": {},
     "output_type": "display_data"
    },
    {
     "name": "stdout",
     "output_type": "stream",
     "text": [
      "Summary:\n",
      "-learning rate = 0.00527\n",
      "-Model saved after iteration 7132.\n",
      "-Train.  Loss=0.0113922\n",
      "-Valid.  Loss=0.0387248\n",
      "'train_loss_bward_84.csv' saved.\n",
      "'valid_loss_bward_84.csv' saved.\n",
      "'model13_backward05_84_best.pth' saved.\n",
      "- train minibatches = 1\n",
      "- valid minibatches = 1\n",
      "- test minibatches = 1\n"
     ]
    },
    {
     "data": {
      "application/vnd.jupyter.widget-view+json": {
       "model_id": "bd35cd7a7aa84a26859ed3fa5e867ddb",
       "version_major": 2,
       "version_minor": 0
      },
      "text/plain": [
       "Epochs loop:   0%|          | 0/10000 [00:00<?, ?it/s]"
      ]
     },
     "metadata": {},
     "output_type": "display_data"
    },
    {
     "name": "stdout",
     "output_type": "stream",
     "text": [
      "Summary:\n",
      "-learning rate = 0.00527\n",
      "-Model saved after iteration 7267.\n",
      "-Train.  Loss=0.0126018\n",
      "-Valid.  Loss=0.0711969\n",
      "'train_loss_bward_85.csv' saved.\n",
      "'valid_loss_bward_85.csv' saved.\n",
      "'model13_backward05_85_best.pth' saved.\n",
      "- train minibatches = 1\n",
      "- valid minibatches = 1\n",
      "- test minibatches = 1\n"
     ]
    },
    {
     "data": {
      "application/vnd.jupyter.widget-view+json": {
       "model_id": "83fe810072794a2a85cd825ca91f72b5",
       "version_major": 2,
       "version_minor": 0
      },
      "text/plain": [
       "Epochs loop:   0%|          | 0/10000 [00:00<?, ?it/s]"
      ]
     },
     "metadata": {},
     "output_type": "display_data"
    },
    {
     "name": "stdout",
     "output_type": "stream",
     "text": [
      "Summary:\n",
      "-learning rate = 0.00527\n",
      "-Model saved after iteration 7638.\n",
      "-Train.  Loss=0.0192489\n",
      "-Valid.  Loss=0.0382915\n",
      "'train_loss_bward_86.csv' saved.\n",
      "'valid_loss_bward_86.csv' saved.\n",
      "'model13_backward05_86_best.pth' saved.\n",
      "- train minibatches = 1\n",
      "- valid minibatches = 1\n",
      "- test minibatches = 1\n"
     ]
    },
    {
     "data": {
      "application/vnd.jupyter.widget-view+json": {
       "model_id": "a6d8ff649485476eb4668d12229413e8",
       "version_major": 2,
       "version_minor": 0
      },
      "text/plain": [
       "Epochs loop:   0%|          | 0/10000 [00:00<?, ?it/s]"
      ]
     },
     "metadata": {},
     "output_type": "display_data"
    },
    {
     "name": "stdout",
     "output_type": "stream",
     "text": [
      "Summary:\n",
      "-learning rate = 0.00527\n",
      "-Model saved after iteration 5715.\n",
      "-Train.  Loss=0.0056913\n",
      "-Valid.  Loss=0.0368643\n",
      "'train_loss_bward_87.csv' saved.\n",
      "'valid_loss_bward_87.csv' saved.\n",
      "'model13_backward05_87_best.pth' saved.\n",
      "- train minibatches = 1\n",
      "- valid minibatches = 1\n",
      "- test minibatches = 1\n"
     ]
    },
    {
     "data": {
      "application/vnd.jupyter.widget-view+json": {
       "model_id": "0cce74a2e5d64f499540a225383bd12e",
       "version_major": 2,
       "version_minor": 0
      },
      "text/plain": [
       "Epochs loop:   0%|          | 0/10000 [00:00<?, ?it/s]"
      ]
     },
     "metadata": {},
     "output_type": "display_data"
    },
    {
     "name": "stdout",
     "output_type": "stream",
     "text": [
      "Summary:\n",
      "-learning rate = 0.00527\n",
      "-Model saved after iteration 6247.\n",
      "-Train.  Loss=0.0088277\n",
      "-Valid.  Loss=0.0392693\n",
      "'train_loss_bward_88.csv' saved.\n",
      "'valid_loss_bward_88.csv' saved.\n",
      "'model13_backward05_88_best.pth' saved.\n",
      "- train minibatches = 1\n",
      "- valid minibatches = 1\n",
      "- test minibatches = 1\n"
     ]
    },
    {
     "data": {
      "application/vnd.jupyter.widget-view+json": {
       "model_id": "bb235d06423d4c2f95022b83b99be506",
       "version_major": 2,
       "version_minor": 0
      },
      "text/plain": [
       "Epochs loop:   0%|          | 0/10000 [00:00<?, ?it/s]"
      ]
     },
     "metadata": {},
     "output_type": "display_data"
    },
    {
     "name": "stdout",
     "output_type": "stream",
     "text": [
      "Summary:\n",
      "-learning rate = 0.00527\n",
      "-Model saved after iteration 4975.\n",
      "-Train.  Loss=0.0062199\n",
      "-Valid.  Loss=0.0387554\n",
      "'train_loss_bward_89.csv' saved.\n",
      "'valid_loss_bward_89.csv' saved.\n",
      "'model13_backward05_89_best.pth' saved.\n",
      "- train minibatches = 1\n",
      "- valid minibatches = 1\n",
      "- test minibatches = 1\n"
     ]
    },
    {
     "data": {
      "application/vnd.jupyter.widget-view+json": {
       "model_id": "0846d0beb7994d5c87fcab0282fc1ae4",
       "version_major": 2,
       "version_minor": 0
      },
      "text/plain": [
       "Epochs loop:   0%|          | 0/10000 [00:00<?, ?it/s]"
      ]
     },
     "metadata": {},
     "output_type": "display_data"
    },
    {
     "name": "stdout",
     "output_type": "stream",
     "text": [
      "Summary:\n",
      "-learning rate = 0.00527\n",
      "-Model saved after iteration 7842.\n",
      "-Train.  Loss=0.0186445\n",
      "-Valid.  Loss=0.0558290\n",
      "'train_loss_bward_90.csv' saved.\n",
      "'valid_loss_bward_90.csv' saved.\n",
      "'model13_backward05_90_best.pth' saved.\n",
      "- train minibatches = 1\n",
      "- valid minibatches = 1\n",
      "- test minibatches = 1\n"
     ]
    },
    {
     "data": {
      "application/vnd.jupyter.widget-view+json": {
       "model_id": "0d0e854b240e4d2fae10e91f66ade7d0",
       "version_major": 2,
       "version_minor": 0
      },
      "text/plain": [
       "Epochs loop:   0%|          | 0/10000 [00:00<?, ?it/s]"
      ]
     },
     "metadata": {},
     "output_type": "display_data"
    },
    {
     "name": "stdout",
     "output_type": "stream",
     "text": [
      "Summary:\n",
      "-learning rate = 0.00527\n",
      "-Model saved after iteration 5712.\n",
      "-Train.  Loss=0.0054623\n",
      "-Valid.  Loss=0.0529441\n",
      "'train_loss_bward_91.csv' saved.\n",
      "'valid_loss_bward_91.csv' saved.\n",
      "'model13_backward05_91_best.pth' saved.\n",
      "- train minibatches = 1\n",
      "- valid minibatches = 1\n",
      "- test minibatches = 1\n"
     ]
    },
    {
     "data": {
      "application/vnd.jupyter.widget-view+json": {
       "model_id": "fa85336fcb9e48b6be4b048df6440e3c",
       "version_major": 2,
       "version_minor": 0
      },
      "text/plain": [
       "Epochs loop:   0%|          | 0/10000 [00:00<?, ?it/s]"
      ]
     },
     "metadata": {},
     "output_type": "display_data"
    },
    {
     "name": "stdout",
     "output_type": "stream",
     "text": [
      "Summary:\n",
      "-learning rate = 0.00527\n",
      "-Model saved after iteration 8022.\n",
      "-Train.  Loss=0.0204749\n",
      "-Valid.  Loss=0.0583366\n",
      "'train_loss_bward_92.csv' saved.\n",
      "'valid_loss_bward_92.csv' saved.\n",
      "'model13_backward05_92_best.pth' saved.\n",
      "- train minibatches = 1\n",
      "- valid minibatches = 1\n",
      "- test minibatches = 1\n"
     ]
    },
    {
     "data": {
      "application/vnd.jupyter.widget-view+json": {
       "model_id": "d418eb774e9f4357a3dc3c01afc6fdad",
       "version_major": 2,
       "version_minor": 0
      },
      "text/plain": [
       "Epochs loop:   0%|          | 0/10000 [00:00<?, ?it/s]"
      ]
     },
     "metadata": {},
     "output_type": "display_data"
    },
    {
     "name": "stdout",
     "output_type": "stream",
     "text": [
      "Summary:\n",
      "-learning rate = 0.00527\n",
      "-Model saved after iteration 8228.\n",
      "-Train.  Loss=0.0219858\n",
      "-Valid.  Loss=0.0487570\n",
      "'train_loss_bward_93.csv' saved.\n",
      "'valid_loss_bward_93.csv' saved.\n",
      "'model13_backward05_93_best.pth' saved.\n",
      "- train minibatches = 1\n",
      "- valid minibatches = 1\n",
      "- test minibatches = 1\n"
     ]
    },
    {
     "data": {
      "application/vnd.jupyter.widget-view+json": {
       "model_id": "8942267e38f64cf49e05e8ef7f60eda3",
       "version_major": 2,
       "version_minor": 0
      },
      "text/plain": [
       "Epochs loop:   0%|          | 0/10000 [00:00<?, ?it/s]"
      ]
     },
     "metadata": {},
     "output_type": "display_data"
    },
    {
     "name": "stdout",
     "output_type": "stream",
     "text": [
      "Summary:\n",
      "-learning rate = 0.00527\n",
      "-Model saved after iteration 7117.\n",
      "-Train.  Loss=0.0122362\n",
      "-Valid.  Loss=0.0541841\n",
      "'train_loss_bward_94.csv' saved.\n",
      "'valid_loss_bward_94.csv' saved.\n",
      "'model13_backward05_94_best.pth' saved.\n",
      "- train minibatches = 1\n",
      "- valid minibatches = 1\n",
      "- test minibatches = 1\n"
     ]
    },
    {
     "data": {
      "application/vnd.jupyter.widget-view+json": {
       "model_id": "8d49bdecd0d94c5788129538e873d405",
       "version_major": 2,
       "version_minor": 0
      },
      "text/plain": [
       "Epochs loop:   0%|          | 0/10000 [00:00<?, ?it/s]"
      ]
     },
     "metadata": {},
     "output_type": "display_data"
    },
    {
     "name": "stdout",
     "output_type": "stream",
     "text": [
      "Summary:\n",
      "-learning rate = 0.00527\n",
      "-Model saved after iteration 7399.\n",
      "-Train.  Loss=0.0129022\n",
      "-Valid.  Loss=0.0572089\n",
      "'train_loss_bward_95.csv' saved.\n",
      "'valid_loss_bward_95.csv' saved.\n",
      "'model13_backward05_95_best.pth' saved.\n",
      "- train minibatches = 1\n",
      "- valid minibatches = 1\n",
      "- test minibatches = 1\n"
     ]
    },
    {
     "data": {
      "application/vnd.jupyter.widget-view+json": {
       "model_id": "a60cc9c4902443f8b9eeef0b5140b29d",
       "version_major": 2,
       "version_minor": 0
      },
      "text/plain": [
       "Epochs loop:   0%|          | 0/10000 [00:00<?, ?it/s]"
      ]
     },
     "metadata": {},
     "output_type": "display_data"
    },
    {
     "name": "stdout",
     "output_type": "stream",
     "text": [
      "Summary:\n",
      "-learning rate = 0.00527\n",
      "-Model saved after iteration 7702.\n",
      "-Train.  Loss=0.0148587\n",
      "-Valid.  Loss=0.0414218\n",
      "'train_loss_bward_96.csv' saved.\n",
      "'valid_loss_bward_96.csv' saved.\n",
      "'model13_backward05_96_best.pth' saved.\n",
      "- train minibatches = 1\n",
      "- valid minibatches = 1\n",
      "- test minibatches = 1\n"
     ]
    },
    {
     "data": {
      "application/vnd.jupyter.widget-view+json": {
       "model_id": "3975acda3b134c77b787badec0c68bc1",
       "version_major": 2,
       "version_minor": 0
      },
      "text/plain": [
       "Epochs loop:   0%|          | 0/10000 [00:00<?, ?it/s]"
      ]
     },
     "metadata": {},
     "output_type": "display_data"
    },
    {
     "name": "stdout",
     "output_type": "stream",
     "text": [
      "Summary:\n",
      "-learning rate = 0.00527\n",
      "-Model saved after iteration 7720.\n",
      "-Train.  Loss=0.0164125\n",
      "-Valid.  Loss=0.0537282\n",
      "'train_loss_bward_97.csv' saved.\n",
      "'valid_loss_bward_97.csv' saved.\n",
      "'model13_backward05_97_best.pth' saved.\n",
      "- train minibatches = 1\n",
      "- valid minibatches = 1\n",
      "- test minibatches = 1\n"
     ]
    },
    {
     "data": {
      "application/vnd.jupyter.widget-view+json": {
       "model_id": "a8a7a02225c44ea08dae26fc8cfe41d6",
       "version_major": 2,
       "version_minor": 0
      },
      "text/plain": [
       "Epochs loop:   0%|          | 0/10000 [00:00<?, ?it/s]"
      ]
     },
     "metadata": {},
     "output_type": "display_data"
    },
    {
     "name": "stdout",
     "output_type": "stream",
     "text": [
      "Summary:\n",
      "-learning rate = 0.00527\n",
      "-Model saved after iteration 7475.\n",
      "-Train.  Loss=0.0158646\n",
      "-Valid.  Loss=0.0476315\n",
      "'train_loss_bward_98.csv' saved.\n",
      "'valid_loss_bward_98.csv' saved.\n",
      "'model13_backward05_98_best.pth' saved.\n",
      "- train minibatches = 1\n",
      "- valid minibatches = 1\n",
      "- test minibatches = 1\n"
     ]
    },
    {
     "data": {
      "application/vnd.jupyter.widget-view+json": {
       "model_id": "53651a13c4344ce395cce39e69006615",
       "version_major": 2,
       "version_minor": 0
      },
      "text/plain": [
       "Epochs loop:   0%|          | 0/10000 [00:00<?, ?it/s]"
      ]
     },
     "metadata": {},
     "output_type": "display_data"
    },
    {
     "name": "stdout",
     "output_type": "stream",
     "text": [
      "Summary:\n",
      "-learning rate = 0.00527\n",
      "-Model saved after iteration 7261.\n",
      "-Train.  Loss=0.0109664\n",
      "-Valid.  Loss=0.0523644\n",
      "'train_loss_bward_99.csv' saved.\n",
      "'valid_loss_bward_99.csv' saved.\n",
      "'model13_backward05_99_best.pth' saved.\n",
      "- train minibatches = 1\n",
      "- valid minibatches = 1\n",
      "- test minibatches = 1\n"
     ]
    },
    {
     "data": {
      "application/vnd.jupyter.widget-view+json": {
       "model_id": "57db410c59b241e7a44ffd139ad97e48",
       "version_major": 2,
       "version_minor": 0
      },
      "text/plain": [
       "Epochs loop:   0%|          | 0/10000 [00:00<?, ?it/s]"
      ]
     },
     "metadata": {},
     "output_type": "display_data"
    },
    {
     "name": "stdout",
     "output_type": "stream",
     "text": [
      "Summary:\n",
      "-learning rate = 0.00527\n",
      "-Model saved after iteration 7536.\n",
      "-Train.  Loss=0.0142106\n",
      "-Valid.  Loss=0.0454350\n",
      "'train_loss_bward_100.csv' saved.\n",
      "'valid_loss_bward_100.csv' saved.\n",
      "'model13_backward05_100_best.pth' saved.\n"
     ]
    }
   ],
   "source": [
    "# Find Accuracy, Loss +/- STD (Lockdown: path 2)\n",
    "data_output = 'data_lockdown_13LungCancer'\n",
    "accuracy_forward = pd.DataFrame(columns=['train_acc', 'valid_acc', 'test_acc', \n",
    "                                         'train_loss', 'valid_loss', 'test_loss'])\n",
    "\n",
    "partitions = 100\n",
    "iterator = tqdm.notebook.tqdm(range(1, partitions + 1), desc='Partitions loop')\n",
    "for n in iterator:\n",
    "    X = pd.read_csv('dataset_13LungCancer/X.csv', header=None)\n",
    "    y = pd.read_csv('dataset_13LungCancer/y.csv', header=None)\n",
    "    split_data(X, y, seed1=seed1[n], seed2=seed2[n])\n",
    "\n",
    "# .normalize data sets\n",
    "    df_to_tensor()\n",
    "    normalize_data()\n",
    "    make_DataLoaders()\n",
    "\n",
    "# .train model (forward)\n",
    "    lr = best_lr_bward\n",
    "    layer_sizes = [5, 2]\n",
    "    epochs = 10000\n",
    "    data_out = \"data_lockdown_13LungCancer/partitions\"\n",
    "    lock_flag = True\n",
    "    features = xtrain.size(1)\n",
    "    step = 1\n",
    "    model_forward_name = 'data_lockdown_13LungCancer/partitions/model13_fward05_'+str(n)+'_last.pth'\n",
    "    fname = 'model13_backward05_'+str(n)\n",
    "    train_loss, valid_loss = train_model(\n",
    "                             lr, \n",
    "                             features, \n",
    "                             layer_sizes,\n",
    "                             lock_flag = lock_flag,\n",
    "                             epochs = epochs,\n",
    "                             early_stop = epochs, \n",
    "                             fname = fname)\n",
    "# .save relevant data\n",
    "    f3 = [fname+'_best.pth']\n",
    "    save_output(data_out, \n",
    "                'train_loss_bward_'+str(n)+'.csv', \n",
    "                'valid_loss_bward_'+str(n)+'.csv', f3)\n",
    "\n",
    "# .find Loss, Accurary, etc...\n",
    "    mm = MyNet(features, layer_sizes)\n",
    "    mm.load_state_dict(torch.load(os.path.join(data_out, fname+'_best.pth')))\n",
    "    mm = mm.to(device)\n",
    "    mm.eval()\n",
    "    \n",
    "    ypred = mm(xtrain)\n",
    "    loss = loss_type(ypred, ytrain.view(-1))\n",
    "    accu = dataset_accuracy(train_dataloader, mm, device)\n",
    "    accuracy_forward.loc[n, 'train_loss'] = loss.detach().item()\n",
    "    accuracy_forward.loc[n, 'train_acc'] = accu\n",
    "\n",
    "    ypred = mm(xvalid)\n",
    "    loss = loss_type(ypred, yvalid.view(-1))\n",
    "    accu = dataset_accuracy(valid_dataloader, mm, device)\n",
    "    accuracy_forward.loc[n, 'valid_loss'] = loss.detach().item()\n",
    "    accuracy_forward.loc[n, 'valid_acc'] = accu\n",
    "\n",
    "    ypred = mm(xtest)\n",
    "    loss = loss_type(ypred, ytest.view(-1))\n",
    "    accu = dataset_accuracy(test_dataloader, mm, device)\n",
    "    accuracy_forward.loc[n, 'test_loss'] = loss.detach().item()\n",
    "    accuracy_forward.loc[n, 'test_acc'] = accu\n",
    "\n",
    "    accuracy_forward.to_csv(os.path.join(data_out, 'accuracy13_backward05.csv'), index=True)"
   ]
  },
  {
   "cell_type": "code",
   "execution_count": 141,
   "metadata": {
    "ExecuteTime": {
     "end_time": "2021-03-08T20:26:09.446013Z",
     "start_time": "2021-03-08T20:26:09.436849Z"
    },
    "code_folding": [
     0
    ]
   },
   "outputs": [
    {
     "name": "stdout",
     "output_type": "stream",
     "text": [
      "Train accuracy = 0.9988 +/- 0.0014\n",
      "Train accuracy = 0.9816 +/- 0.0051\n",
      "Test accuracy = 0.9810 +/- 0.0044\n"
     ]
    }
   ],
   "source": [
    "# Display results\n",
    "accuracy_forward = pd.read_csv('data_lockdown_13LungCancer/accuracy13_backward05.csv', index_col=0)\n",
    "print(\"Train accuracy = {:.4f} +/- {:.4f}\".format(accuracy_forward['train_acc'].mean(), \n",
    "                                                  accuracy_forward['train_acc'].std()))\n",
    "print(\"Train accuracy = {:.4f} +/- {:.4f}\".format(accuracy_forward['valid_acc'].mean(), \n",
    "                                                  accuracy_forward['valid_acc'].std()))\n",
    "print(\"Test accuracy = {:.4f} +/- {:.4f}\".format(accuracy_forward['test_acc'].mean(), \n",
    "                                                 accuracy_forward['test_acc'].std()))"
   ]
  },
  {
   "cell_type": "code",
   "execution_count": 149,
   "metadata": {
    "ExecuteTime": {
     "end_time": "2021-03-10T17:48:34.816250Z",
     "start_time": "2021-03-10T17:48:34.663265Z"
    },
    "code_folding": []
   },
   "outputs": [
    {
     "data": {
      "image/png": "[encoded data removed]",
      "text/plain": [
       "<Figure size 576x360 with 1 Axes>"
      ]
     },
     "metadata": {
      "needs_background": "light"
     },
     "output_type": "display_data"
    }
   ],
   "source": [
    "# Plot unconstrained loss function vs iterations\n",
    "train_loss = pd.read_csv('data_lockdown_13LungCancer/lrs/train_loss05_5.csv')\n",
    "valid_loss = pd.read_csv('data_lockdown_13LungCancer/lrs/valid_loss05_5.csv')\n",
    "\n",
    "fig, axes = plt.subplots(figsize=(8,5))\n",
    "\n",
    "axes.plot(train_loss[\"iteration\"].tolist(), train_loss[\"loss\"].tolist(), label=\"Train\")\n",
    "axes.plot(valid_loss[\"iteration\"].tolist(), valid_loss[\"loss\"].tolist(), label=\"Valid\")\n",
    "axes.legend()\n",
    "axes.set_xlabel(\"iteration\")\n",
    "axes.set_ylabel(\"Loss\")\n",
    "axes.set_title(\"Unconstrained: Communities and Crime Unnormalized\")\n",
    "axes.grid(True, zorder=2)\n",
    "\n",
    "plt.tight_layout()\n",
    "# plt.savefig(\"data_unconstrained_friedman1_04/loss_vs_iter_forward.pdf\", bbox_inches='tight')\n",
    "plt.show()"
   ]
  },
  {
   "cell_type": "markdown",
   "metadata": {
    "ExecuteTime": {
     "end_time": "2021-02-23T22:30:32.007297Z",
     "start_time": "2021-02-23T22:30:32.002004Z"
    }
   },
   "source": [
    "* ### Comparison"
   ]
  },
  {
   "cell_type": "code",
   "execution_count": 2,
   "metadata": {
    "ExecuteTime": {
     "end_time": "2021-06-19T01:12:33.008432Z",
     "start_time": "2021-06-19T01:12:32.992454Z"
    },
    "code_folding": [
     0
    ]
   },
   "outputs": [],
   "source": [
    "# Read distributions\n",
    "accuracy_lockdown = pd.read_csv('data_lockdown_13LungCancer/accuracy13_backward05.csv', index_col=0)\n",
    "accuracy_forward  = pd.read_csv('data_unconstrained_13LungCancer/accuracy13_forward05.csv', index_col=0)\n",
    "accuracy_xgb      = pd.read_csv('data_xgb_13LungCancer/accuracy13_xgb.csv')\n",
    "accuracy_lasso    = pd.read_csv('data_lasso_13LungCancer/accuracy13_lasso_val.csv', index_col=0)"
   ]
  },
  {
   "cell_type": "code",
   "execution_count": 147,
   "metadata": {
    "ExecuteTime": {
     "end_time": "2021-03-08T20:27:46.346139Z",
     "start_time": "2021-03-08T20:27:46.336567Z"
    },
    "code_folding": [
     0
    ]
   },
   "outputs": [
    {
     "name": "stdout",
     "output_type": "stream",
     "text": [
      "Accuracy on 'test' set:\n",
      "Lockdown = 0.9810 +/- 0.004\n",
      "Forward  = 0.9763 +/- 0.005\n",
      "xgboost  = 0.9814 +/- 0.005\n",
      "Lasso    = 0.9798 +/- 0.005\n",
      "\n",
      "Accuracy on 'validation' set:\n",
      "Lockdown = 0.9816 +/- 0.005\n",
      "Forward  = 0.9758 +/- 0.006\n",
      "xgboost  = 0.9809 +/- 0.006\n",
      "Lasso    = 0.9794 +/- 0.005\n"
     ]
    }
   ],
   "source": [
    "# Accuracy & Loss\n",
    "print(\"Accuracy on 'test' set:\")\n",
    "print(\"Lockdown = {:.4f} +/- {:.3f}\".format(accuracy_lockdown['test_acc'].mean(), \n",
    "                                            accuracy_lockdown['test_acc'].std()))\n",
    "print(\"Forward  = {:.4f} +/- {:.3f}\".format(accuracy_forward['test_acc'].mean(), \n",
    "                                            accuracy_forward['test_acc'].std()))\n",
    "print(\"xgboost  = {:.4f} +/- {:.3f}\".format(accuracy_xgb['test_acc'].mean(), \n",
    "                                            accuracy_xgb['test_acc'].std()))\n",
    "print(\"Lasso    = {:.4f} +/- {:.3f}\".format(accuracy_lasso['test_acc'].mean(), \n",
    "                                            accuracy_lasso['test_acc'].std()))\n",
    "\n",
    "print(\"\\nAccuracy on 'validation' set:\")\n",
    "print(\"Lockdown = {:.4f} +/- {:.3f}\".format(accuracy_lockdown['valid_acc'].mean(), \n",
    "                                            accuracy_lockdown['valid_acc'].std()))\n",
    "print(\"Forward  = {:.4f} +/- {:.3f}\".format(accuracy_forward['valid_acc'].mean(), \n",
    "                                            accuracy_forward['valid_acc'].std()))\n",
    "print(\"xgboost  = {:.4f} +/- {:.3f}\".format(accuracy_xgb['valid_acc'].mean(), \n",
    "                                            accuracy_xgb['valid_acc'].std()))\n",
    "print(\"Lasso    = {:.4f} +/- {:.3f}\".format(accuracy_lasso['valid_acc'].mean(), \n",
    "                                            accuracy_lasso['valid_acc'].std()))"
   ]
  },
  {
   "cell_type": "code",
   "execution_count": 148,
   "metadata": {
    "ExecuteTime": {
     "end_time": "2021-03-08T20:27:58.775746Z",
     "start_time": "2021-03-08T20:27:58.766544Z"
    },
    "code_folding": [
     0
    ]
   },
   "outputs": [
    {
     "name": "stdout",
     "output_type": "stream",
     "text": [
      "On 'test' set:\n",
      "Lockdown vs Forward: pvalue=6.481277e-22, statistic=1.242189e+01\n",
      "Lockdown vs xgboost: pvalue=3.197485e-01, statistic=-1.000000e+00\n",
      "Lockdown vs lasso:   pvalue=3.662937e-04, statistic=3.690418e+00\n",
      "\n",
      "On 'validation' set:\n",
      "Lockdown vs Forward: pvalue=6.200489e-23, statistic=1.290451e+01\n",
      "Lockdown vs xgboost: pvalue=1.028423e-01, statistic=1.646449e+00\n",
      "Lockdown vs lasso:   pvalue=5.890593e-08, statistic=5.867357e+00\n"
     ]
    }
   ],
   "source": [
    "# Print out test results\n",
    "print(\"On 'test' set:\")\n",
    "statistic, pvalue = stats.ttest_rel(accuracy_lockdown['test_acc'], accuracy_forward['test_acc'])\n",
    "print(\"Lockdown vs Forward: pvalue={:e}, statistic={:e}\".format(pvalue, statistic))\n",
    "\n",
    "statistic, pvalue = stats.ttest_rel(accuracy_lockdown['test_acc'], accuracy_xgb['test_acc'])\n",
    "print(\"Lockdown vs xgboost: pvalue={:e}, statistic={:e}\".format(pvalue, statistic))\n",
    "\n",
    "statistic, pvalue = stats.ttest_rel(accuracy_lockdown['test_acc'], accuracy_lasso['test_acc'])\n",
    "print(\"Lockdown vs lasso:   pvalue={:e}, statistic={:e}\".format(pvalue, statistic))\n",
    "\n",
    "# \n",
    "print(\"\\nOn 'validation' set:\")\n",
    "statistic, pvalue = stats.ttest_rel(accuracy_lockdown['valid_acc'], accuracy_forward['valid_acc'])\n",
    "print(\"Lockdown vs Forward: pvalue={:e}, statistic={:e}\".format(pvalue, statistic))\n",
    "\n",
    "statistic, pvalue = stats.ttest_rel(accuracy_lockdown['valid_acc'], accuracy_xgb['valid_acc'])\n",
    "print(\"Lockdown vs xgboost: pvalue={:e}, statistic={:e}\".format(pvalue, statistic))\n",
    "\n",
    "statistic, pvalue = stats.ttest_rel(accuracy_lockdown['valid_acc'], accuracy_lasso['valid_acc'])\n",
    "print(\"Lockdown vs lasso:   pvalue={:e}, statistic={:e}\".format(pvalue, statistic))"
   ]
  },
  {
   "cell_type": "code",
   "execution_count": 3,
   "metadata": {
    "ExecuteTime": {
     "end_time": "2021-06-19T01:12:49.487646Z",
     "start_time": "2021-06-19T01:12:49.473069Z"
    },
    "code_folding": [
     0
    ]
   },
   "outputs": [
    {
     "name": "stdout",
     "output_type": "stream",
     "text": [
      "Lasso   = 0.020 +/- 0.005\n",
      "GB      = 0.019 +/- 0.005\n",
      "FCNN    = 0.024 +/- 0.005\n",
      "Lockout = 0.019 +/- 0.004\n",
      "\n",
      "On 'test' set:\n",
      "Lockdown vs Forward: pvalue=6.48e-22, statistic=-1.24e+01\n",
      "Lockdown vs xgboost: pvalue=3.20e-01, statistic=1.00e+00\n",
      "Lockdown vs lasso:   pvalue=3.66e-04, statistic=-3.69e+00\n"
     ]
    }
   ],
   "source": [
    "# Relative Root Mean Squared Error\n",
    "rrmse_lasso = 1.0 - accuracy_lasso['test_acc']\n",
    "print(\"Lasso   = {:.3f} +/- {:.3f}\".format(rrmse_lasso.mean(), rrmse_lasso.std()))\n",
    "\n",
    "rrmse_GB = 1.0 - accuracy_xgb['test_acc']\n",
    "print(\"GB      = {:.3f} +/- {:.3f}\".format(rrmse_GB.mean(), rrmse_GB.std()))\n",
    "\n",
    "rrmse_fcnn = 1.0 - accuracy_forward['test_acc']\n",
    "print(\"FCNN    = {:.3f} +/- {:.3f}\".format(rrmse_fcnn.mean(), rrmse_fcnn.std()))\n",
    "\n",
    "rrmse_lockout = 1.0 - accuracy_lockdown['test_acc']\n",
    "print(\"Lockout = {:.3f} +/- {:.3f}\".format(rrmse_lockout.mean(), rrmse_lockout.std()))\n",
    "\n",
    "# Print out test results\n",
    "print(\"\\nOn 'test' set:\")\n",
    "statistic, pvalue = stats.ttest_rel(rrmse_lockout, rrmse_fcnn)\n",
    "print(\"Lockdown vs Forward: pvalue={:.2e}, statistic={:.2e}\".format(pvalue, statistic))\n",
    "\n",
    "statistic, pvalue = stats.ttest_rel(rrmse_lockout, rrmse_GB)\n",
    "print(\"Lockdown vs xgboost: pvalue={:.2e}, statistic={:.2e}\".format(pvalue, statistic))\n",
    "\n",
    "statistic, pvalue = stats.ttest_rel(rrmse_lockout, rrmse_lasso)\n",
    "print(\"Lockdown vs lasso:   pvalue={:.2e}, statistic={:.2e}\".format(pvalue, statistic))"
   ]
  }
 ],
 "metadata": {
  "kernelspec": {
   "display_name": "Python 3",
   "language": "python",
   "name": "python3"
  },
  "language_info": {
   "codemirror_mode": {
    "name": "ipython",
    "version": 3
   },
   "file_extension": ".py",
   "mimetype": "text/x-python",
   "name": "python",
   "nbconvert_exporter": "python",
   "pygments_lexer": "ipython3",
   "version": "3.8.3"
  },
  "toc": {
   "base_numbering": 1,
   "nav_menu": {},
   "number_sections": true,
   "sideBar": true,
   "skip_h1_title": true,
   "title_cell": "Table of Contents",
   "title_sidebar": "Contents",
   "toc_cell": false,
   "toc_position": {
    "height": "calc(100% - 180px)",
    "left": "10px",
    "top": "150px",
    "width": "339.2px"
   },
   "toc_section_display": true,
   "toc_window_display": true
  }
 },
 "nbformat": 4,
 "nbformat_minor": 2
}
