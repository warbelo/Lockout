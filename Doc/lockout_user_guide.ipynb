{
 "cells": [
  {
   "cell_type": "markdown",
   "id": "stable-shade",
   "metadata": {
    "ExecuteTime": {
     "end_time": "2021-07-30T09:00:40.636991Z",
     "start_time": "2021-07-30T09:00:40.627039Z"
    }
   },
   "source": [
    "# Lockout: Quick User's Guide"
   ]
  },
  {
   "cell_type": "markdown",
   "id": "guilty-manitoba",
   "metadata": {},
   "source": [
    "A synthetic dataset was generated and partitioned into training, validation, and testing subsets and it is used througout this guide."
   ]
  },
  {
   "cell_type": "markdown",
   "id": "medieval-seeking",
   "metadata": {},
   "source": [
    "## Create DataLoaders\n",
    "Change this section according to your particular problem to build training, validation, and testing DataLoaders."
   ]
  },
  {
   "cell_type": "code",
   "execution_count": 36,
   "id": "psychological-typing",
   "metadata": {
    "ExecuteTime": {
     "end_time": "2021-08-03T19:49:32.181766Z",
     "start_time": "2021-08-03T19:49:32.145866Z"
    }
   },
   "outputs": [],
   "source": [
    "from lockout.pytorch_utils import load_data_reg, normalize_xy, make_DataLoaders\n",
    "from lockout.utils import read_list\n",
    "\n",
    "# Read Data\n",
    "_, x_train, x_valid, x_test, _, y_train, y_valid, y_test = load_data_reg('dataset/')\n",
    "\n",
    "# Normalize Data\n",
    "xtrain, xvalid, xtest, ytrain, yvalid, ytest = normalize_xy(x_train, x_valid, x_test, \n",
    "                                                            y_train, y_valid, y_test)\n",
    "\n",
    "# Create DataLoaders\n",
    "dl_train, dl_valid, dl_test = make_DataLoaders(xtrain, xvalid, xtest, ytrain, yvalid, ytest)"
   ]
  },
  {
   "cell_type": "markdown",
   "id": "cleared-matter",
   "metadata": {},
   "source": [
    "## Neural Network Architecture\n",
    "Change this section to use a different architecture."
   ]
  },
  {
   "cell_type": "code",
   "execution_count": 2,
   "id": "dense-supply",
   "metadata": {
    "ExecuteTime": {
     "end_time": "2021-08-03T18:15:58.639048Z",
     "start_time": "2021-08-03T18:15:58.634464Z"
    }
   },
   "outputs": [
    {
     "data": {
      "text/plain": [
       "FCNN(\n",
       "  (linear_layers): ModuleList(\n",
       "    (0): Linear(in_features=100, out_features=10, bias=True)\n",
       "    (1): Linear(in_features=10, out_features=1, bias=True)\n",
       "  )\n",
       "  (relu): ReLU(inplace=True)\n",
       ")"
      ]
     },
     "execution_count": 2,
     "metadata": {},
     "output_type": "execute_result"
    }
   ],
   "source": [
    "from lockout.pytorch_utils import FCNN\n",
    "\n",
    "# Number of Input features\n",
    "n_features  = 100       \n",
    "\n",
    "# Nodes per layer:\n",
    "# - len(layer_sizes) = number of layers in the network\n",
    "# - layer_sizes[i]   = number of nodes in the ith layer\n",
    "layer_sizes = [10, 1]   \n",
    "\n",
    "# Instantiate Neural Network (with ReLUs)\n",
    "model_init = FCNN(n_features, layer_sizes)\n",
    "model_init"
   ]
  },
  {
   "cell_type": "markdown",
   "id": "twelve-health",
   "metadata": {},
   "source": [
    "## Unconstrained Training\n",
    "Change this section to use different hyperparameters. This problem is a regression task."
   ]
  },
  {
   "cell_type": "code",
   "execution_count": 3,
   "id": "drawn-example",
   "metadata": {
    "ExecuteTime": {
     "end_time": "2021-08-02T05:50:10.966451Z",
     "start_time": "2021-08-02T05:48:33.870785Z"
    }
   },
   "outputs": [
    {
     "name": "stderr",
     "output_type": "stream",
     "text": [
      "Epochs:  53%|█████▎    | 5314/10000 [01:37<01:25, 54.74it/s]"
     ]
    },
    {
     "name": "stdout",
     "output_type": "stream",
     "text": [
      "Early stopping = True\n",
      "Last iteration = 5315\n",
      "Best validation at iteration = 348\n"
     ]
    },
    {
     "name": "stderr",
     "output_type": "stream",
     "text": [
      "\n"
     ]
    }
   ],
   "source": [
    "from lockout import Lockout\n",
    "\n",
    "# Learning rate\n",
    "lr = 1e-2\n",
    "\n",
    "# Loss function id:\n",
    "# - loss_type = 1: Mean Squared Error\n",
    "# - loss_type = 2: Mean Cross Entropy Loss\n",
    "loss_type = 1\n",
    "\n",
    "# Optimizer id:\n",
    "# - optim_id = 1: Stochastic Gradient Descend\n",
    "# - optim_id = 2: Adam\n",
    "optim_id = 1\n",
    "\n",
    "# Instantiate Lockout\n",
    "lockout_forward = Lockout(model_init, \n",
    "                          lr=lr, \n",
    "                          loss_type=loss_type, \n",
    "                          optim_id=optim_id)\n",
    "\n",
    "# Train Neural Network Without Regularization\n",
    "lockout_forward.train(dl_train, dl_valid, \n",
    "                      train_how=\"unconstrained\",\n",
    "                      epochs=10000,              # Max number of epochs\n",
    "                      early_stopping=20,         # Epoch used for convergence condition\n",
    "                      tol_loss=1e-6,             # Tolerance in training loss used for convergence condition\n",
    "                      reset_weights=True)        # Whether or not to reset weights before training"
   ]
  },
  {
   "cell_type": "code",
   "execution_count": 23,
   "id": "funded-interference",
   "metadata": {
    "ExecuteTime": {
     "end_time": "2021-08-02T08:26:36.511823Z",
     "start_time": "2021-08-02T08:26:36.507099Z"
    }
   },
   "outputs": [],
   "source": [
    "from lockout.pytorch_utils import save_model\n",
    "\n",
    "# Retrieve and Save Unconstrained Model\n",
    "model_forward_unconstrained = lockout_forward.model_last\n",
    "save_model(model_forward_unconstrained, 'model_forward_unconstrained.pth')\n",
    "\n",
    "# Retrieve and Save Model At Validation Minimum\n",
    "model_forward_best = lockout_forward.model_best_valid\n",
    "save_model(model_forward_best, 'model_forward_best.pth')"
   ]
  },
  {
   "cell_type": "code",
   "execution_count": 42,
   "id": "fiscal-virtue",
   "metadata": {
    "ExecuteTime": {
     "end_time": "2021-08-02T20:01:06.427006Z",
     "start_time": "2021-08-02T20:01:06.420906Z"
    }
   },
   "outputs": [
    {
     "data": {
      "text/html": [
       "<div>\n",
       "<style scoped>\n",
       "    .dataframe tbody tr th:only-of-type {\n",
       "        vertical-align: middle;\n",
       "    }\n",
       "\n",
       "    .dataframe tbody tr th {\n",
       "        vertical-align: top;\n",
       "    }\n",
       "\n",
       "    .dataframe thead th {\n",
       "        text-align: right;\n",
       "    }\n",
       "</style>\n",
       "<table border=\"1\" class=\"dataframe\">\n",
       "  <thead>\n",
       "    <tr style=\"text-align: right;\">\n",
       "      <th></th>\n",
       "      <th>iteration</th>\n",
       "      <th>train_loss</th>\n",
       "      <th>valid_loss</th>\n",
       "      <th>train_accu</th>\n",
       "      <th>valid_accu</th>\n",
       "    </tr>\n",
       "  </thead>\n",
       "  <tbody>\n",
       "    <tr>\n",
       "      <th>0</th>\n",
       "      <td>1</td>\n",
       "      <td>1.118341</td>\n",
       "      <td>1.188415</td>\n",
       "      <td>-0.118341</td>\n",
       "      <td>-0.105266</td>\n",
       "    </tr>\n",
       "    <tr>\n",
       "      <th>1</th>\n",
       "      <td>2</td>\n",
       "      <td>1.111329</td>\n",
       "      <td>1.182360</td>\n",
       "      <td>-0.111329</td>\n",
       "      <td>-0.099634</td>\n",
       "    </tr>\n",
       "    <tr>\n",
       "      <th>2</th>\n",
       "      <td>3</td>\n",
       "      <td>1.104635</td>\n",
       "      <td>1.176597</td>\n",
       "      <td>-0.104635</td>\n",
       "      <td>-0.094275</td>\n",
       "    </tr>\n",
       "    <tr>\n",
       "      <th>3</th>\n",
       "      <td>4</td>\n",
       "      <td>1.098198</td>\n",
       "      <td>1.171101</td>\n",
       "      <td>-0.098198</td>\n",
       "      <td>-0.089162</td>\n",
       "    </tr>\n",
       "    <tr>\n",
       "      <th>4</th>\n",
       "      <td>5</td>\n",
       "      <td>1.091971</td>\n",
       "      <td>1.165862</td>\n",
       "      <td>-0.091972</td>\n",
       "      <td>-0.084290</td>\n",
       "    </tr>\n",
       "  </tbody>\n",
       "</table>\n",
       "</div>"
      ],
      "text/plain": [
       "  iteration  train_loss  valid_loss  train_accu  valid_accu\n",
       "0         1    1.118341    1.188415   -0.118341   -0.105266\n",
       "1         2    1.111329    1.182360   -0.111329   -0.099634\n",
       "2         3    1.104635    1.176597   -0.104635   -0.094275\n",
       "3         4    1.098198    1.171101   -0.098198   -0.089162\n",
       "4         5    1.091971    1.165862   -0.091972   -0.084290"
      ]
     },
     "execution_count": 42,
     "metadata": {},
     "output_type": "execute_result"
    }
   ],
   "source": [
    "# Path Data\n",
    "df0 = lockout_forward.path_data\n",
    "df0.head()"
   ]
  },
  {
   "cell_type": "code",
   "execution_count": 43,
   "id": "double-realtor",
   "metadata": {
    "ExecuteTime": {
     "end_time": "2021-08-02T20:01:26.031897Z",
     "start_time": "2021-08-02T20:01:25.757960Z"
    }
   },
   "outputs": [
    {
     "data": {
      "image/png": "[encoded data removed]",
      "text/plain": [
       "<Figure size 648x432 with 1 Axes>"
      ]
     },
     "metadata": {
      "needs_background": "light"
     },
     "output_type": "display_data"
    }
   ],
   "source": [
    "# Plot loss vs iteration\n",
    "import matplotlib.pyplot as plt\n",
    "import numpy as np\n",
    "\n",
    "fig, axes = plt.subplots(figsize=(9,6))\n",
    "\n",
    "axes.plot(df0[\"iteration\"], df0[\"train_loss\"], label=\"Training\", linewidth=4)\n",
    "axes.plot(df0[\"iteration\"], df0[\"valid_loss\"], label=\"Validation\", linewidth=4)\n",
    "axes.legend(fontsize=16)\n",
    "axes.set_xlabel(\"iteration\", fontsize=16)\n",
    "axes.set_ylabel(\"Loss Function\", fontsize=16)\n",
    "axes.tick_params(axis='both', which='major', labelsize=14)\n",
    "axes.set_title(\"Unconstrained\", fontsize=16)\n",
    "axes.grid(True, zorder=2)\n",
    "\n",
    "plt.tight_layout()\n",
    "plt.savefig(\"loss_vs_iter_forward.pdf\", bbox_inches='tight')\n",
    "plt.show()"
   ]
  },
  {
   "cell_type": "markdown",
   "id": "finished-commodity",
   "metadata": {
    "ExecuteTime": {
     "end_time": "2021-08-02T06:36:00.537470Z",
     "start_time": "2021-08-02T06:36:00.535104Z"
    }
   },
   "source": [
    "## Lockout Training: Option 1\n",
    "Within this option, the network is first trained until the regularization path is found (path 1). Then, the constraint value $t_0$ is iteratively decreased (path 2) with a step size\n",
    "\\begin{equation}\n",
    "    \\Delta t_0 =\\frac{{t_0}_{\\mathrm{final}} - {t_0}_{\\mathrm{initial}}}{\\mathrm{epochs}}.\n",
    "\\end{equation}\n",
    "A small $\\Delta t_0$ is necessary to stay on the regularization path."
   ]
  },
  {
   "cell_type": "code",
   "execution_count": 55,
   "id": "parliamentary-sydney",
   "metadata": {
    "ExecuteTime": {
     "end_time": "2021-08-02T20:31:13.340943Z",
     "start_time": "2021-08-02T20:23:44.010435Z"
    }
   },
   "outputs": [
    {
     "name": "stderr",
     "output_type": "stream",
     "text": [
      "Epochs1:  39%|███▉      | 1970/5000 [00:39<01:00, 50.05it/s]\n"
     ]
    },
    {
     "name": "stdout",
     "output_type": "stream",
     "text": [
      "Path 1: Early stopping = True\n",
      "        Last iteration = 1971\n"
     ]
    },
    {
     "name": "stderr",
     "output_type": "stream",
     "text": [
      "Epochs2: 100%|██████████| 20000/20000 [06:49<00:00, 48.79it/s]"
     ]
    },
    {
     "name": "stdout",
     "output_type": "stream",
     "text": [
      "Best validation at iteration = 19840\n"
     ]
    },
    {
     "name": "stderr",
     "output_type": "stream",
     "text": [
      "\n"
     ]
    }
   ],
   "source": [
    "from lockout import Lockout\n",
    "\n",
    "# List of tuples (or dictionary) of the form [(layer_name, regul_id)] where:\n",
    "# - layer_name: layer name in the input model (string)\n",
    "# - regul_id = 1: L1 regularization\n",
    "# - regul_id = 2: Log regularization\n",
    "regul_type = [('linear_layers.0.weight', 1)]\n",
    "\n",
    "# List of tuples (or dictionary) of the form [(layer_name, path_flg)] where:\n",
    "# - path_flg = True: the constraint t0 will be iteratively changed in this layer\n",
    "# - path_flg = False: the constraint t0 will be kept constant in this layer\n",
    "regul_path = [('linear_layers.0.weight', True)]\n",
    "\n",
    "# Instantiate Lockout\n",
    "lockout_option1 = Lockout(lockout_forward.model_best_valid,  # initial network\n",
    "                          lr=1e-2, \n",
    "                          loss_type=1,\n",
    "                          regul_type=regul_type,\n",
    "                          regul_path=regul_path)\n",
    "\n",
    "# Train Neural Network With Lockout\n",
    "lockout_option1.train(dl_train, dl_valid, \n",
    "                      train_how=\"decrease_t0\", \n",
    "                      epochs=5000,              # Max number of epochs used in Path 1\n",
    "                      epochs2=20000,            # Max number of epochs used in Path 2\n",
    "                      early_stopping=20, \n",
    "                      tol_loss=1e-5)"
   ]
  },
  {
   "cell_type": "code",
   "execution_count": 60,
   "id": "honest-democrat",
   "metadata": {
    "ExecuteTime": {
     "end_time": "2021-08-02T20:32:01.361507Z",
     "start_time": "2021-08-02T20:32:01.358546Z"
    }
   },
   "outputs": [],
   "source": [
    "# Save Model At Validation Minimum\n",
    "model_lockout_option1 = lockout_option1.model_best_valid\n",
    "save_model(model_lockout_option1, 'model_lockout_option1.pth')"
   ]
  },
  {
   "cell_type": "code",
   "execution_count": 72,
   "id": "initial-essay",
   "metadata": {
    "ExecuteTime": {
     "end_time": "2021-08-02T21:09:50.805538Z",
     "start_time": "2021-08-02T21:09:50.798295Z"
    }
   },
   "outputs": [
    {
     "data": {
      "text/html": [
       "<div>\n",
       "<style scoped>\n",
       "    .dataframe tbody tr th:only-of-type {\n",
       "        vertical-align: middle;\n",
       "    }\n",
       "\n",
       "    .dataframe tbody tr th {\n",
       "        vertical-align: top;\n",
       "    }\n",
       "\n",
       "    .dataframe thead th {\n",
       "        text-align: right;\n",
       "    }\n",
       "</style>\n",
       "<table border=\"1\" class=\"dataframe\">\n",
       "  <thead>\n",
       "    <tr style=\"text-align: right;\">\n",
       "      <th></th>\n",
       "      <th>iteration</th>\n",
       "      <th>sparcity__linear_layers.0.weight</th>\n",
       "      <th>t0_calc__linear_layers.0.weight</th>\n",
       "      <th>t0_used__linear_layers.0.weight</th>\n",
       "      <th>train_loss</th>\n",
       "      <th>valid_loss</th>\n",
       "      <th>train_accu</th>\n",
       "      <th>valid_accu</th>\n",
       "    </tr>\n",
       "  </thead>\n",
       "  <tbody>\n",
       "    <tr>\n",
       "      <th>0</th>\n",
       "      <td>1</td>\n",
       "      <td>1.0</td>\n",
       "      <td>54.207119</td>\n",
       "      <td>54.207119</td>\n",
       "      <td>0.326455</td>\n",
       "      <td>0.728214</td>\n",
       "      <td>0.673545</td>\n",
       "      <td>0.322737</td>\n",
       "    </tr>\n",
       "    <tr>\n",
       "      <th>1</th>\n",
       "      <td>2</td>\n",
       "      <td>1.0</td>\n",
       "      <td>54.207310</td>\n",
       "      <td>54.207119</td>\n",
       "      <td>0.325617</td>\n",
       "      <td>0.728189</td>\n",
       "      <td>0.674384</td>\n",
       "      <td>0.322760</td>\n",
       "    </tr>\n",
       "    <tr>\n",
       "      <th>2</th>\n",
       "      <td>3</td>\n",
       "      <td>1.0</td>\n",
       "      <td>54.207184</td>\n",
       "      <td>54.207119</td>\n",
       "      <td>0.324770</td>\n",
       "      <td>0.728236</td>\n",
       "      <td>0.675230</td>\n",
       "      <td>0.322716</td>\n",
       "    </tr>\n",
       "    <tr>\n",
       "      <th>3</th>\n",
       "      <td>4</td>\n",
       "      <td>1.0</td>\n",
       "      <td>54.207195</td>\n",
       "      <td>54.207119</td>\n",
       "      <td>0.323921</td>\n",
       "      <td>0.728168</td>\n",
       "      <td>0.676079</td>\n",
       "      <td>0.322780</td>\n",
       "    </tr>\n",
       "    <tr>\n",
       "      <th>4</th>\n",
       "      <td>5</td>\n",
       "      <td>1.0</td>\n",
       "      <td>54.207092</td>\n",
       "      <td>54.207119</td>\n",
       "      <td>0.323038</td>\n",
       "      <td>0.728198</td>\n",
       "      <td>0.676962</td>\n",
       "      <td>0.322752</td>\n",
       "    </tr>\n",
       "  </tbody>\n",
       "</table>\n",
       "</div>"
      ],
      "text/plain": [
       "  iteration  sparcity__linear_layers.0.weight  \\\n",
       "0         1                               1.0   \n",
       "1         2                               1.0   \n",
       "2         3                               1.0   \n",
       "3         4                               1.0   \n",
       "4         5                               1.0   \n",
       "\n",
       "   t0_calc__linear_layers.0.weight  t0_used__linear_layers.0.weight  \\\n",
       "0                        54.207119                        54.207119   \n",
       "1                        54.207310                        54.207119   \n",
       "2                        54.207184                        54.207119   \n",
       "3                        54.207195                        54.207119   \n",
       "4                        54.207092                        54.207119   \n",
       "\n",
       "   train_loss  valid_loss  train_accu  valid_accu  \n",
       "0    0.326455    0.728214    0.673545    0.322737  \n",
       "1    0.325617    0.728189    0.674384    0.322760  \n",
       "2    0.324770    0.728236    0.675230    0.322716  \n",
       "3    0.323921    0.728168    0.676079    0.322780  \n",
       "4    0.323038    0.728198    0.676962    0.322752  "
      ]
     },
     "execution_count": 72,
     "metadata": {},
     "output_type": "execute_result"
    }
   ],
   "source": [
    "# Path Data\n",
    "df1 = lockout_option1.path_data\n",
    "df1.head()"
   ]
  },
  {
   "cell_type": "code",
   "execution_count": 73,
   "id": "structured-cholesterol",
   "metadata": {
    "ExecuteTime": {
     "end_time": "2021-08-02T21:09:56.624738Z",
     "start_time": "2021-08-02T21:09:56.264521Z"
    }
   },
   "outputs": [
    {
     "data": {
      "image/png": "[encoded data removed]",
      "text/plain": [
       "<Figure size 576x432 with 1 Axes>"
      ]
     },
     "metadata": {
      "needs_background": "light"
     },
     "output_type": "display_data"
    }
   ],
   "source": [
    "# Plot loss vs iteration\n",
    "import matplotlib.pyplot as plt\n",
    "import numpy as np\n",
    "\n",
    "fig, axes = plt.subplots(figsize=(8,6))\n",
    "\n",
    "axes.plot(df1[\"iteration\"], df1[\"train_loss\"], label=\"Training\", linewidth=4)\n",
    "axes.plot(df1[\"iteration\"], df1[\"valid_loss\"], label=\"Validation\", linewidth=4)\n",
    "axes.legend(fontsize=16)\n",
    "axes.set_xlabel(\"iteration\", fontsize=16)\n",
    "axes.set_ylabel(\"Loss Function\", fontsize=16)\n",
    "axes.tick_params(axis='both', which='major', labelsize=14)\n",
    "axes.set_title(\"Unconstrained\", fontsize=16)\n",
    "axes.grid(True, zorder=2)\n",
    "\n",
    "plt.tight_layout()\n",
    "plt.savefig(\"loss_vs_iter_lockout1.pdf\", bbox_inches='tight')\n",
    "plt.show()"
   ]
  },
  {
   "cell_type": "code",
   "execution_count": 65,
   "id": "duplicate-engineer",
   "metadata": {
    "ExecuteTime": {
     "end_time": "2021-08-02T20:34:13.305674Z",
     "start_time": "2021-08-02T20:34:13.044899Z"
    },
    "code_folding": [
     0
    ]
   },
   "outputs": [
    {
     "data": {
      "image/png": "[encoded data removed]",
      "text/plain": [
       "<Figure size 1152x504 with 2 Axes>"
      ]
     },
     "metadata": {
      "needs_background": "light"
     },
     "output_type": "display_data"
    }
   ],
   "source": [
    "# Plot loss vs iteration\n",
    "import matplotlib.pyplot as plt\n",
    "import numpy as np\n",
    "\n",
    "fig, axes = plt.subplots(nrows=1, ncols=2, figsize=(16,7))\n",
    "\n",
    "axes[0].plot(df0[\"iteration\"], df0[\"train_loss\"], label=\"Training\", linewidth=4)\n",
    "axes[0].plot(df0[\"iteration\"], df0[\"valid_loss\"], label=\"Validation\", linewidth=4)\n",
    "axes[0].legend(fontsize=16)\n",
    "axes[0].set_xlabel(\"iteration\", fontsize=16)\n",
    "axes[0].set_ylabel(\"Loss Function\", fontsize=16)\n",
    "axes[0].tick_params(axis='both', which='major', labelsize=14)\n",
    "axes[0].set_title(\"Unconstrained\", fontsize=16)\n",
    "axes[0].grid(True, zorder=2)\n",
    "axes[0].set_ylim(0,1.3)\n",
    "\n",
    "axes[1].plot(df1[\"iteration\"], df1[\"train_loss\"], label=\"Training\", linewidth=4)\n",
    "axes[1].plot(df1[\"iteration\"], df1[\"valid_loss\"], label=\"Validation\", linewidth=4)\n",
    "axes[1].legend(fontsize=16)\n",
    "axes[1].set_xlabel(\"iteration\", fontsize=16)\n",
    "axes[1].set_ylabel(\"Loss Function\", fontsize=16)\n",
    "axes[1].tick_params(axis='both', which='major', labelsize=14)\n",
    "axes[1].set_title(\"Lockout\", fontsize=16)\n",
    "axes[1].grid(True, zorder=2)\n",
    "axes[1].set_ylim(0,1.3)\n",
    "\n",
    "plt.tight_layout()\n",
    "plt.show()"
   ]
  },
  {
   "cell_type": "code",
   "execution_count": 74,
   "id": "attractive-vulnerability",
   "metadata": {
    "ExecuteTime": {
     "end_time": "2021-08-02T21:10:01.931116Z",
     "start_time": "2021-08-02T21:10:01.911502Z"
    }
   },
   "outputs": [
    {
     "name": "stdout",
     "output_type": "stream",
     "text": [
      "Test R2 (unconstrained) = 0.655\n",
      "Test R2 (lockout)       = 0.972\n"
     ]
    }
   ],
   "source": [
    "# Compute Test Accuracy\n",
    "import torch\n",
    "from lockout.pytorch_utils import dataset_r2\n",
    "\n",
    "device = torch.device('cpu')\n",
    "r2_test_forward, _  = dataset_r2(dl_test, model_forward_best, device)\n",
    "r2_test_lockout1, _ = dataset_r2(dl_test, model_lockout_option1, device)\n",
    "print(\"Test R2 (unconstrained) = {:.3f}\".format(r2_test_forward))\n",
    "print(\"Test R2 (lockout)       = {:.3f}\".format(r2_test_lockout1))"
   ]
  },
  {
   "cell_type": "code",
   "execution_count": 78,
   "id": "functional-field",
   "metadata": {
    "ExecuteTime": {
     "end_time": "2021-08-02T21:16:25.501774Z",
     "start_time": "2021-08-02T21:16:25.321344Z"
    }
   },
   "outputs": [
    {
     "data": {
      "image/png": "[encoded data removed]",
      "text/plain": [
       "<Figure size 648x432 with 1 Axes>"
      ]
     },
     "metadata": {
      "needs_background": "light"
     },
     "output_type": "display_data"
    }
   ],
   "source": [
    "# Graph Feature Importance\n",
    "import matplotlib.pyplot as plt\n",
    "import numpy as np\n",
    "from lockout.pytorch_utils import get_features_importance\n",
    "\n",
    "importance = get_features_importance(model_lockout_option1, 'linear_layers.0.weight')\n",
    "\n",
    "fig, axes = plt.subplots(figsize=(9,6))\n",
    "x_pos = np.arange(len(importance))\n",
    "axes.bar(x_pos, importance, zorder=2)\n",
    "axes.set_xticks(x_pos)\n",
    "axes.set_xticklabels(importance.index, rotation='vertical')\n",
    "axes.set_xlim(-1,len(x_pos))\n",
    "axes.tick_params(axis='both', which='major', labelsize=14)\n",
    "axes.set_ylabel('Importance', fontsize=16)\n",
    "axes.set_xlabel('feature', fontsize=16)\n",
    "axes.set_title('Lockout', fontsize=16)\n",
    "axes.grid(True, zorder=1)\n",
    "\n",
    "plt.tight_layout()\n",
    "plt.savefig('feature_importance_lockout1.pdf', bbox_inches='tight')\n",
    "plt.show()"
   ]
  },
  {
   "cell_type": "markdown",
   "id": "discrete-standing",
   "metadata": {
    "ExecuteTime": {
     "end_time": "2021-08-02T06:36:00.537470Z",
     "start_time": "2021-08-02T06:36:00.535104Z"
    }
   },
   "source": [
    "## Lockout Training: Option 2\n",
    "Within this option, a discrete set $t_0$ values are sampled. The set of $t_0$s can be either:<br>\n",
    "a) Entered externally as a 1D torch tensor:"
   ]
  },
  {
   "cell_type": "code",
   "execution_count": 128,
   "id": "fatty-penguin",
   "metadata": {
    "ExecuteTime": {
     "end_time": "2021-08-03T01:58:21.734482Z",
     "start_time": "2021-08-03T01:53:26.736358Z"
    },
    "scrolled": true
   },
   "outputs": [
    {
     "name": "stdout",
     "output_type": "stream",
     "text": [
      "n = 1\n"
     ]
    },
    {
     "name": "stderr",
     "output_type": "stream",
     "text": [
      "Epochs1:  19%|█▉        | 968/5000 [00:18<01:19, 50.95it/s]\n"
     ]
    },
    {
     "name": "stdout",
     "output_type": "stream",
     "text": [
      "Early stopping = True (969)\n",
      "\n",
      "n = 2\n"
     ]
    },
    {
     "name": "stderr",
     "output_type": "stream",
     "text": [
      "Epochs1:  72%|███████▎  | 145/200 [00:02<00:01, 49.56it/s]\n"
     ]
    },
    {
     "name": "stdout",
     "output_type": "stream",
     "text": [
      "Early stopping = True (146)\n",
      "\n",
      "n = 3\n"
     ]
    },
    {
     "name": "stderr",
     "output_type": "stream",
     "text": [
      "Epochs1:  90%|█████████ | 180/200 [00:03<00:00, 53.58it/s]\n"
     ]
    },
    {
     "name": "stdout",
     "output_type": "stream",
     "text": [
      "Early stopping = True (181)\n",
      "\n",
      "n = 4\n"
     ]
    },
    {
     "name": "stderr",
     "output_type": "stream",
     "text": [
      "Epochs1:  70%|██████▉   | 139/200 [00:02<00:01, 48.92it/s]\n"
     ]
    },
    {
     "name": "stdout",
     "output_type": "stream",
     "text": [
      "Early stopping = True (140)\n",
      "\n",
      "n = 5\n"
     ]
    },
    {
     "name": "stderr",
     "output_type": "stream",
     "text": [
      "Epochs1:  86%|████████▌ | 172/200 [00:03<00:00, 49.86it/s]\n"
     ]
    },
    {
     "name": "stdout",
     "output_type": "stream",
     "text": [
      "Early stopping = True (173)\n",
      "\n",
      "n = 6\n"
     ]
    },
    {
     "name": "stderr",
     "output_type": "stream",
     "text": [
      "Epochs1:  68%|██████▊   | 137/200 [00:02<00:01, 49.29it/s]\n"
     ]
    },
    {
     "name": "stdout",
     "output_type": "stream",
     "text": [
      "Early stopping = True (138)\n",
      "\n",
      "n = 7\n"
     ]
    },
    {
     "name": "stderr",
     "output_type": "stream",
     "text": [
      "Epochs1:  72%|███████▎  | 145/200 [00:02<00:01, 52.37it/s]\n"
     ]
    },
    {
     "name": "stdout",
     "output_type": "stream",
     "text": [
      "Early stopping = True (146)\n",
      "\n",
      "n = 8\n"
     ]
    },
    {
     "name": "stderr",
     "output_type": "stream",
     "text": [
      "Epochs1:  86%|████████▋ | 173/200 [00:03<00:00, 50.39it/s]\n"
     ]
    },
    {
     "name": "stdout",
     "output_type": "stream",
     "text": [
      "Early stopping = True (174)\n",
      "\n",
      "n = 9\n"
     ]
    },
    {
     "name": "stderr",
     "output_type": "stream",
     "text": [
      "Epochs1:  81%|████████  | 162/200 [00:03<00:00, 49.43it/s]\n"
     ]
    },
    {
     "name": "stdout",
     "output_type": "stream",
     "text": [
      "Early stopping = True (163)\n",
      "\n",
      "n = 10\n"
     ]
    },
    {
     "name": "stderr",
     "output_type": "stream",
     "text": [
      "Epochs1:  80%|████████  | 160/200 [00:03<00:00, 49.88it/s]\n"
     ]
    },
    {
     "name": "stdout",
     "output_type": "stream",
     "text": [
      "Early stopping = True (161)\n",
      "\n",
      "n = 11\n"
     ]
    },
    {
     "name": "stderr",
     "output_type": "stream",
     "text": [
      "Epochs1:  72%|███████▎  | 145/200 [00:02<00:01, 53.02it/s]\n"
     ]
    },
    {
     "name": "stdout",
     "output_type": "stream",
     "text": [
      "Early stopping = True (146)\n",
      "\n",
      "n = 12\n"
     ]
    },
    {
     "name": "stderr",
     "output_type": "stream",
     "text": [
      "Epochs1:  96%|█████████▌| 191/200 [00:03<00:00, 50.31it/s]\n"
     ]
    },
    {
     "name": "stdout",
     "output_type": "stream",
     "text": [
      "Early stopping = True (192)\n",
      "\n",
      "n = 13\n"
     ]
    },
    {
     "name": "stderr",
     "output_type": "stream",
     "text": [
      "Epochs1:  59%|█████▉    | 118/200 [00:02<00:01, 48.09it/s]\n"
     ]
    },
    {
     "name": "stdout",
     "output_type": "stream",
     "text": [
      "Early stopping = True (119)\n",
      "\n",
      "n = 14\n"
     ]
    },
    {
     "name": "stderr",
     "output_type": "stream",
     "text": [
      "Epochs1:  76%|███████▋  | 153/200 [00:03<00:00, 49.63it/s]\n"
     ]
    },
    {
     "name": "stdout",
     "output_type": "stream",
     "text": [
      "Early stopping = True (154)\n",
      "\n",
      "n = 15\n"
     ]
    },
    {
     "name": "stderr",
     "output_type": "stream",
     "text": [
      "Epochs1: 100%|██████████| 200/200 [00:03<00:00, 51.22it/s]\n"
     ]
    },
    {
     "name": "stdout",
     "output_type": "stream",
     "text": [
      "Early stopping = False (200)\n",
      "\n",
      "n = 16\n"
     ]
    },
    {
     "name": "stderr",
     "output_type": "stream",
     "text": [
      "Epochs1:  44%|████▎     | 87/200 [00:01<00:02, 53.06it/s]\n"
     ]
    },
    {
     "name": "stdout",
     "output_type": "stream",
     "text": [
      "Early stopping = True (88)\n",
      "\n",
      "n = 17\n"
     ]
    },
    {
     "name": "stderr",
     "output_type": "stream",
     "text": [
      "Epochs1: 100%|██████████| 200/200 [00:03<00:00, 50.81it/s]\n"
     ]
    },
    {
     "name": "stdout",
     "output_type": "stream",
     "text": [
      "Early stopping = False (200)\n",
      "\n",
      "n = 18\n"
     ]
    },
    {
     "name": "stderr",
     "output_type": "stream",
     "text": [
      "Epochs1: 100%|██████████| 200/200 [00:03<00:00, 50.77it/s]\n"
     ]
    },
    {
     "name": "stdout",
     "output_type": "stream",
     "text": [
      "Early stopping = False (200)\n",
      "\n",
      "n = 19\n"
     ]
    },
    {
     "name": "stderr",
     "output_type": "stream",
     "text": [
      "Epochs1: 100%|██████████| 200/200 [00:03<00:00, 51.16it/s]\n"
     ]
    },
    {
     "name": "stdout",
     "output_type": "stream",
     "text": [
      "Early stopping = False (200)\n",
      "\n",
      "n = 20\n"
     ]
    },
    {
     "name": "stderr",
     "output_type": "stream",
     "text": [
      "Epochs1: 100%|██████████| 200/200 [00:03<00:00, 50.86it/s]\n"
     ]
    },
    {
     "name": "stdout",
     "output_type": "stream",
     "text": [
      "Early stopping = False (200)\n",
      "\n",
      "n = 21\n"
     ]
    },
    {
     "name": "stderr",
     "output_type": "stream",
     "text": [
      "Epochs1: 100%|██████████| 200/200 [00:03<00:00, 50.88it/s]\n"
     ]
    },
    {
     "name": "stdout",
     "output_type": "stream",
     "text": [
      "Early stopping = False (200)\n",
      "\n",
      "n = 22\n"
     ]
    },
    {
     "name": "stderr",
     "output_type": "stream",
     "text": [
      "Epochs1: 100%|██████████| 200/200 [00:03<00:00, 50.55it/s]\n"
     ]
    },
    {
     "name": "stdout",
     "output_type": "stream",
     "text": [
      "Early stopping = False (200)\n",
      "\n",
      "n = 23\n"
     ]
    },
    {
     "name": "stderr",
     "output_type": "stream",
     "text": [
      "Epochs1: 100%|██████████| 200/200 [00:03<00:00, 51.35it/s]\n"
     ]
    },
    {
     "name": "stdout",
     "output_type": "stream",
     "text": [
      "Early stopping = False (200)\n",
      "\n",
      "n = 24\n"
     ]
    },
    {
     "name": "stderr",
     "output_type": "stream",
     "text": [
      "Epochs1: 100%|██████████| 200/200 [00:03<00:00, 50.89it/s]\n"
     ]
    },
    {
     "name": "stdout",
     "output_type": "stream",
     "text": [
      "Early stopping = False (200)\n",
      "\n",
      "n = 25\n"
     ]
    },
    {
     "name": "stderr",
     "output_type": "stream",
     "text": [
      "Epochs1: 100%|██████████| 200/200 [00:03<00:00, 54.00it/s]\n"
     ]
    },
    {
     "name": "stdout",
     "output_type": "stream",
     "text": [
      "Early stopping = False (200)\n",
      "\n",
      "n = 26\n"
     ]
    },
    {
     "name": "stderr",
     "output_type": "stream",
     "text": [
      "Epochs1: 100%|██████████| 200/200 [00:04<00:00, 48.71it/s]\n"
     ]
    },
    {
     "name": "stdout",
     "output_type": "stream",
     "text": [
      "Early stopping = False (200)\n",
      "\n",
      "n = 27\n"
     ]
    },
    {
     "name": "stderr",
     "output_type": "stream",
     "text": [
      "Epochs1: 100%|██████████| 200/200 [00:03<00:00, 54.05it/s]\n"
     ]
    },
    {
     "name": "stdout",
     "output_type": "stream",
     "text": [
      "Early stopping = False (200)\n",
      "\n",
      "n = 28\n"
     ]
    },
    {
     "name": "stderr",
     "output_type": "stream",
     "text": [
      "Epochs1: 100%|██████████| 200/200 [00:04<00:00, 48.66it/s]\n"
     ]
    },
    {
     "name": "stdout",
     "output_type": "stream",
     "text": [
      "Early stopping = False (200)\n",
      "\n",
      "n = 29\n"
     ]
    },
    {
     "name": "stderr",
     "output_type": "stream",
     "text": [
      "Epochs1: 100%|██████████| 200/200 [00:03<00:00, 54.06it/s]\n"
     ]
    },
    {
     "name": "stdout",
     "output_type": "stream",
     "text": [
      "Early stopping = False (200)\n",
      "\n",
      "n = 30\n"
     ]
    },
    {
     "name": "stderr",
     "output_type": "stream",
     "text": [
      "Epochs1: 100%|██████████| 200/200 [00:04<00:00, 48.74it/s]\n"
     ]
    },
    {
     "name": "stdout",
     "output_type": "stream",
     "text": [
      "Early stopping = False (200)\n",
      "\n",
      "n = 31\n"
     ]
    },
    {
     "name": "stderr",
     "output_type": "stream",
     "text": [
      "Epochs1: 100%|██████████| 200/200 [00:03<00:00, 52.81it/s]\n"
     ]
    },
    {
     "name": "stdout",
     "output_type": "stream",
     "text": [
      "Early stopping = False (200)\n",
      "\n",
      "n = 32\n"
     ]
    },
    {
     "name": "stderr",
     "output_type": "stream",
     "text": [
      "Epochs1: 100%|██████████| 200/200 [00:03<00:00, 50.87it/s]\n"
     ]
    },
    {
     "name": "stdout",
     "output_type": "stream",
     "text": [
      "Early stopping = False (200)\n",
      "\n",
      "n = 33\n"
     ]
    },
    {
     "name": "stderr",
     "output_type": "stream",
     "text": [
      "Epochs1: 100%|██████████| 200/200 [00:03<00:00, 51.31it/s]\n"
     ]
    },
    {
     "name": "stdout",
     "output_type": "stream",
     "text": [
      "Early stopping = False (200)\n",
      "\n",
      "n = 34\n"
     ]
    },
    {
     "name": "stderr",
     "output_type": "stream",
     "text": [
      "Epochs1: 100%|██████████| 200/200 [00:03<00:00, 51.51it/s]\n"
     ]
    },
    {
     "name": "stdout",
     "output_type": "stream",
     "text": [
      "Early stopping = False (200)\n",
      "\n",
      "n = 35\n"
     ]
    },
    {
     "name": "stderr",
     "output_type": "stream",
     "text": [
      "Epochs1: 100%|██████████| 200/200 [00:03<00:00, 51.31it/s]\n"
     ]
    },
    {
     "name": "stdout",
     "output_type": "stream",
     "text": [
      "Early stopping = False (200)\n",
      "\n",
      "n = 36\n"
     ]
    },
    {
     "name": "stderr",
     "output_type": "stream",
     "text": [
      "Epochs1: 100%|██████████| 200/200 [00:03<00:00, 51.49it/s]\n"
     ]
    },
    {
     "name": "stdout",
     "output_type": "stream",
     "text": [
      "Early stopping = False (200)\n",
      "\n",
      "n = 37\n"
     ]
    },
    {
     "name": "stderr",
     "output_type": "stream",
     "text": [
      "Epochs1: 100%|██████████| 200/200 [00:03<00:00, 51.37it/s]\n"
     ]
    },
    {
     "name": "stdout",
     "output_type": "stream",
     "text": [
      "Early stopping = False (200)\n",
      "\n",
      "n = 38\n"
     ]
    },
    {
     "name": "stderr",
     "output_type": "stream",
     "text": [
      "Epochs1: 100%|██████████| 200/200 [00:03<00:00, 51.32it/s]\n"
     ]
    },
    {
     "name": "stdout",
     "output_type": "stream",
     "text": [
      "Early stopping = False (200)\n",
      "\n",
      "n = 39\n"
     ]
    },
    {
     "name": "stderr",
     "output_type": "stream",
     "text": [
      "Epochs1: 100%|██████████| 200/200 [00:03<00:00, 51.21it/s]\n"
     ]
    },
    {
     "name": "stdout",
     "output_type": "stream",
     "text": [
      "Early stopping = False (200)\n",
      "\n",
      "n = 40\n"
     ]
    },
    {
     "name": "stderr",
     "output_type": "stream",
     "text": [
      "Epochs1: 100%|██████████| 200/200 [00:03<00:00, 51.56it/s]\n"
     ]
    },
    {
     "name": "stdout",
     "output_type": "stream",
     "text": [
      "Early stopping = False (200)\n",
      "\n",
      "n = 41\n"
     ]
    },
    {
     "name": "stderr",
     "output_type": "stream",
     "text": [
      "Epochs1: 100%|██████████| 200/200 [00:03<00:00, 50.62it/s]\n"
     ]
    },
    {
     "name": "stdout",
     "output_type": "stream",
     "text": [
      "Early stopping = False (200)\n",
      "\n",
      "n = 42\n"
     ]
    },
    {
     "name": "stderr",
     "output_type": "stream",
     "text": [
      "Epochs1: 100%|██████████| 200/200 [00:03<00:00, 50.70it/s]\n"
     ]
    },
    {
     "name": "stdout",
     "output_type": "stream",
     "text": [
      "Early stopping = False (200)\n",
      "\n",
      "n = 43\n"
     ]
    },
    {
     "name": "stderr",
     "output_type": "stream",
     "text": [
      "Epochs1: 100%|██████████| 200/200 [00:03<00:00, 50.90it/s]\n"
     ]
    },
    {
     "name": "stdout",
     "output_type": "stream",
     "text": [
      "Early stopping = False (200)\n",
      "\n",
      "n = 44\n"
     ]
    },
    {
     "name": "stderr",
     "output_type": "stream",
     "text": [
      "Epochs1: 100%|██████████| 200/200 [00:03<00:00, 50.26it/s]\n"
     ]
    },
    {
     "name": "stdout",
     "output_type": "stream",
     "text": [
      "Early stopping = False (200)\n",
      "\n",
      "n = 45\n"
     ]
    },
    {
     "name": "stderr",
     "output_type": "stream",
     "text": [
      "Epochs1: 100%|██████████| 200/200 [00:03<00:00, 50.69it/s]\n"
     ]
    },
    {
     "name": "stdout",
     "output_type": "stream",
     "text": [
      "Early stopping = False (200)\n",
      "\n",
      "n = 46\n"
     ]
    },
    {
     "name": "stderr",
     "output_type": "stream",
     "text": [
      "Epochs1: 100%|██████████| 200/200 [00:03<00:00, 54.06it/s]\n"
     ]
    },
    {
     "name": "stdout",
     "output_type": "stream",
     "text": [
      "Early stopping = False (200)\n",
      "\n",
      "n = 47\n"
     ]
    },
    {
     "name": "stderr",
     "output_type": "stream",
     "text": [
      "Epochs1: 100%|██████████| 200/200 [00:04<00:00, 48.30it/s]\n"
     ]
    },
    {
     "name": "stdout",
     "output_type": "stream",
     "text": [
      "Early stopping = False (200)\n",
      "\n",
      "n = 48\n"
     ]
    },
    {
     "name": "stderr",
     "output_type": "stream",
     "text": [
      "Epochs1:  32%|███▏      | 64/200 [00:01<00:02, 52.85it/s]\n"
     ]
    },
    {
     "name": "stdout",
     "output_type": "stream",
     "text": [
      "Early stopping = True (65)\n",
      "\n",
      "n = 49\n"
     ]
    },
    {
     "name": "stderr",
     "output_type": "stream",
     "text": [
      "Epochs1:  26%|██▌       | 52/200 [00:00<00:02, 53.03it/s]\n"
     ]
    },
    {
     "name": "stdout",
     "output_type": "stream",
     "text": [
      "Early stopping = True (53)\n",
      "\n",
      "n = 50\n"
     ]
    },
    {
     "name": "stderr",
     "output_type": "stream",
     "text": [
      "Epochs1: 100%|██████████| 200/200 [00:03<00:00, 51.09it/s]\n"
     ]
    },
    {
     "name": "stdout",
     "output_type": "stream",
     "text": [
      "Early stopping = False (200)\n",
      "\n",
      "n = 51\n"
     ]
    },
    {
     "name": "stderr",
     "output_type": "stream",
     "text": [
      "Epochs1: 100%|██████████| 200/200 [00:03<00:00, 51.06it/s]\n"
     ]
    },
    {
     "name": "stdout",
     "output_type": "stream",
     "text": [
      "Early stopping = False (200)\n",
      "\n",
      "n = 52\n"
     ]
    },
    {
     "name": "stderr",
     "output_type": "stream",
     "text": [
      "Epochs1: 100%|██████████| 200/200 [00:03<00:00, 50.90it/s]\n"
     ]
    },
    {
     "name": "stdout",
     "output_type": "stream",
     "text": [
      "Early stopping = False (200)\n",
      "\n",
      "n = 53\n"
     ]
    },
    {
     "name": "stderr",
     "output_type": "stream",
     "text": [
      "Epochs1: 100%|██████████| 200/200 [00:03<00:00, 51.13it/s]\n"
     ]
    },
    {
     "name": "stdout",
     "output_type": "stream",
     "text": [
      "Early stopping = False (200)\n",
      "\n",
      "n = 54\n"
     ]
    },
    {
     "name": "stderr",
     "output_type": "stream",
     "text": [
      "Epochs1: 100%|██████████| 200/200 [00:03<00:00, 50.99it/s]\n"
     ]
    },
    {
     "name": "stdout",
     "output_type": "stream",
     "text": [
      "Early stopping = False (200)\n",
      "\n",
      "n = 55\n"
     ]
    },
    {
     "name": "stderr",
     "output_type": "stream",
     "text": [
      "Epochs1: 100%|██████████| 200/200 [00:04<00:00, 49.48it/s]\n"
     ]
    },
    {
     "name": "stdout",
     "output_type": "stream",
     "text": [
      "Early stopping = False (200)\n",
      "\n",
      "n = 56\n"
     ]
    },
    {
     "name": "stderr",
     "output_type": "stream",
     "text": [
      "Epochs1: 100%|██████████| 200/200 [00:04<00:00, 49.56it/s]\n"
     ]
    },
    {
     "name": "stdout",
     "output_type": "stream",
     "text": [
      "Early stopping = False (200)\n",
      "\n",
      "n = 57\n"
     ]
    },
    {
     "name": "stderr",
     "output_type": "stream",
     "text": [
      "Epochs1: 100%|██████████| 200/200 [00:03<00:00, 50.33it/s]\n"
     ]
    },
    {
     "name": "stdout",
     "output_type": "stream",
     "text": [
      "Early stopping = False (200)\n",
      "\n",
      "n = 58\n"
     ]
    },
    {
     "name": "stderr",
     "output_type": "stream",
     "text": [
      "Epochs1: 100%|██████████| 200/200 [00:03<00:00, 50.20it/s]\n"
     ]
    },
    {
     "name": "stdout",
     "output_type": "stream",
     "text": [
      "Early stopping = False (200)\n",
      "\n",
      "n = 59\n"
     ]
    },
    {
     "name": "stderr",
     "output_type": "stream",
     "text": [
      "Epochs1: 100%|██████████| 200/200 [00:03<00:00, 50.86it/s]\n"
     ]
    },
    {
     "name": "stdout",
     "output_type": "stream",
     "text": [
      "Early stopping = False (200)\n",
      "\n",
      "n = 60\n"
     ]
    },
    {
     "name": "stderr",
     "output_type": "stream",
     "text": [
      "Epochs1: 100%|██████████| 200/200 [00:03<00:00, 53.05it/s]\n"
     ]
    },
    {
     "name": "stdout",
     "output_type": "stream",
     "text": [
      "Early stopping = False (200)\n",
      "\n",
      "n = 61\n"
     ]
    },
    {
     "name": "stderr",
     "output_type": "stream",
     "text": [
      "Epochs1: 100%|██████████| 200/200 [00:04<00:00, 48.00it/s]\n"
     ]
    },
    {
     "name": "stdout",
     "output_type": "stream",
     "text": [
      "Early stopping = False (200)\n",
      "\n",
      "n = 62\n"
     ]
    },
    {
     "name": "stderr",
     "output_type": "stream",
     "text": [
      "Epochs1: 100%|██████████| 200/200 [00:03<00:00, 53.90it/s]\n"
     ]
    },
    {
     "name": "stdout",
     "output_type": "stream",
     "text": [
      "Early stopping = False (200)\n",
      "\n",
      "n = 63\n"
     ]
    },
    {
     "name": "stderr",
     "output_type": "stream",
     "text": [
      "Epochs1: 100%|██████████| 200/200 [00:04<00:00, 48.83it/s]\n"
     ]
    },
    {
     "name": "stdout",
     "output_type": "stream",
     "text": [
      "Early stopping = False (200)\n",
      "\n",
      "n = 64\n"
     ]
    },
    {
     "name": "stderr",
     "output_type": "stream",
     "text": [
      "Epochs1: 100%|██████████| 200/200 [00:03<00:00, 54.04it/s]\n"
     ]
    },
    {
     "name": "stdout",
     "output_type": "stream",
     "text": [
      "Early stopping = False (200)\n",
      "\n",
      "n = 65\n"
     ]
    },
    {
     "name": "stderr",
     "output_type": "stream",
     "text": [
      "Epochs1: 100%|██████████| 200/200 [00:03<00:00, 50.98it/s]\n"
     ]
    },
    {
     "name": "stdout",
     "output_type": "stream",
     "text": [
      "Early stopping = False (200)\n",
      "\n",
      "n = 66\n"
     ]
    },
    {
     "name": "stderr",
     "output_type": "stream",
     "text": [
      "Epochs1: 100%|██████████| 200/200 [00:03<00:00, 51.14it/s]\n"
     ]
    },
    {
     "name": "stdout",
     "output_type": "stream",
     "text": [
      "Early stopping = False (200)\n",
      "\n",
      "n = 67\n"
     ]
    },
    {
     "name": "stderr",
     "output_type": "stream",
     "text": [
      "Epochs1: 100%|██████████| 200/200 [00:03<00:00, 51.22it/s]\n"
     ]
    },
    {
     "name": "stdout",
     "output_type": "stream",
     "text": [
      "Early stopping = False (200)\n",
      "\n",
      "n = 68\n"
     ]
    },
    {
     "name": "stderr",
     "output_type": "stream",
     "text": [
      "Epochs1: 100%|██████████| 200/200 [00:04<00:00, 49.96it/s]\n"
     ]
    },
    {
     "name": "stdout",
     "output_type": "stream",
     "text": [
      "Early stopping = False (200)\n",
      "\n",
      "n = 69\n"
     ]
    },
    {
     "name": "stderr",
     "output_type": "stream",
     "text": [
      "Epochs1: 100%|██████████| 200/200 [00:03<00:00, 50.37it/s]\n"
     ]
    },
    {
     "name": "stdout",
     "output_type": "stream",
     "text": [
      "Early stopping = False (200)\n",
      "\n",
      "n = 70\n"
     ]
    },
    {
     "name": "stderr",
     "output_type": "stream",
     "text": [
      "Epochs1: 100%|██████████| 200/200 [00:03<00:00, 50.72it/s]\n"
     ]
    },
    {
     "name": "stdout",
     "output_type": "stream",
     "text": [
      "Early stopping = False (200)\n",
      "\n",
      "n = 71\n"
     ]
    },
    {
     "name": "stderr",
     "output_type": "stream",
     "text": [
      "Epochs1: 100%|██████████| 200/200 [00:03<00:00, 50.58it/s]\n"
     ]
    },
    {
     "name": "stdout",
     "output_type": "stream",
     "text": [
      "Early stopping = False (200)\n",
      "\n",
      "n = 72\n"
     ]
    },
    {
     "name": "stderr",
     "output_type": "stream",
     "text": [
      "Epochs1: 100%|██████████| 200/200 [00:03<00:00, 50.86it/s]\n"
     ]
    },
    {
     "name": "stdout",
     "output_type": "stream",
     "text": [
      "Early stopping = False (200)\n",
      "\n",
      "n = 73\n"
     ]
    },
    {
     "name": "stderr",
     "output_type": "stream",
     "text": [
      "Epochs1: 100%|██████████| 200/200 [00:03<00:00, 51.04it/s]\n"
     ]
    },
    {
     "name": "stdout",
     "output_type": "stream",
     "text": [
      "Early stopping = False (200)\n",
      "\n",
      "n = 74\n"
     ]
    },
    {
     "name": "stderr",
     "output_type": "stream",
     "text": [
      "Epochs1:  11%|█         | 22/200 [00:00<00:03, 50.16it/s]\n"
     ]
    },
    {
     "name": "stdout",
     "output_type": "stream",
     "text": [
      "Early stopping = True (23)\n",
      "\n",
      "n = 75\n"
     ]
    },
    {
     "name": "stderr",
     "output_type": "stream",
     "text": [
      "Epochs1:  10%|█         | 21/200 [00:00<00:03, 49.79it/s]\n"
     ]
    },
    {
     "name": "stdout",
     "output_type": "stream",
     "text": [
      "Early stopping = True (22)\n",
      "\n",
      "n = 76\n"
     ]
    },
    {
     "name": "stderr",
     "output_type": "stream",
     "text": [
      "Epochs1:  10%|█         | 21/200 [00:00<00:03, 50.71it/s]\n"
     ]
    },
    {
     "name": "stdout",
     "output_type": "stream",
     "text": [
      "Early stopping = True (22)\n",
      "\n",
      "n = 77\n"
     ]
    },
    {
     "name": "stderr",
     "output_type": "stream",
     "text": [
      "Epochs1:  10%|█         | 21/200 [00:00<00:05, 34.40it/s]\n"
     ]
    },
    {
     "name": "stdout",
     "output_type": "stream",
     "text": [
      "Early stopping = True (22)\n",
      "\n",
      "n = 78\n"
     ]
    },
    {
     "name": "stderr",
     "output_type": "stream",
     "text": [
      "Epochs1:  10%|█         | 21/200 [00:00<00:03, 50.72it/s]\n"
     ]
    },
    {
     "name": "stdout",
     "output_type": "stream",
     "text": [
      "Early stopping = True (22)\n",
      "\n",
      "n = 79\n"
     ]
    },
    {
     "name": "stderr",
     "output_type": "stream",
     "text": [
      "Epochs1:  10%|█         | 21/200 [00:00<00:03, 49.92it/s]\n"
     ]
    },
    {
     "name": "stdout",
     "output_type": "stream",
     "text": [
      "Early stopping = True (22)\n",
      "\n",
      "n = 80\n"
     ]
    },
    {
     "name": "stderr",
     "output_type": "stream",
     "text": [
      "Epochs1:  10%|█         | 21/200 [00:00<00:03, 50.04it/s]\n"
     ]
    },
    {
     "name": "stdout",
     "output_type": "stream",
     "text": [
      "Early stopping = True (22)\n",
      "\n",
      "n = 81\n"
     ]
    },
    {
     "name": "stderr",
     "output_type": "stream",
     "text": [
      "Epochs1:  10%|█         | 21/200 [00:00<00:03, 50.48it/s]\n"
     ]
    },
    {
     "name": "stdout",
     "output_type": "stream",
     "text": [
      "Early stopping = True (22)\n",
      "\n",
      "n = 82\n"
     ]
    },
    {
     "name": "stderr",
     "output_type": "stream",
     "text": [
      "Epochs1:  10%|█         | 21/200 [00:00<00:03, 50.38it/s]\n"
     ]
    },
    {
     "name": "stdout",
     "output_type": "stream",
     "text": [
      "Early stopping = True (22)\n",
      "\n",
      "n = 83\n"
     ]
    },
    {
     "name": "stderr",
     "output_type": "stream",
     "text": [
      "Epochs1:  10%|█         | 21/200 [00:00<00:03, 50.37it/s]\n"
     ]
    },
    {
     "name": "stdout",
     "output_type": "stream",
     "text": [
      "Early stopping = True (22)\n",
      "\n",
      "n = 84\n"
     ]
    },
    {
     "name": "stderr",
     "output_type": "stream",
     "text": [
      "Epochs1:  10%|█         | 21/200 [00:00<00:03, 50.59it/s]\n"
     ]
    },
    {
     "name": "stdout",
     "output_type": "stream",
     "text": [
      "Early stopping = True (22)\n",
      "\n",
      "n = 85\n"
     ]
    },
    {
     "name": "stderr",
     "output_type": "stream",
     "text": [
      "Epochs1:  10%|█         | 21/200 [00:00<00:03, 50.59it/s]\n"
     ]
    },
    {
     "name": "stdout",
     "output_type": "stream",
     "text": [
      "Early stopping = True (22)\n",
      "\n",
      "n = 86\n"
     ]
    },
    {
     "name": "stderr",
     "output_type": "stream",
     "text": [
      "Epochs1:  10%|█         | 21/200 [00:00<00:03, 49.69it/s]\n"
     ]
    },
    {
     "name": "stdout",
     "output_type": "stream",
     "text": [
      "Early stopping = True (22)\n",
      "\n",
      "n = 87\n"
     ]
    },
    {
     "name": "stderr",
     "output_type": "stream",
     "text": [
      "Epochs1:  10%|█         | 21/200 [00:00<00:03, 49.89it/s]\n"
     ]
    },
    {
     "name": "stdout",
     "output_type": "stream",
     "text": [
      "Early stopping = True (22)\n",
      "\n",
      "n = 88\n"
     ]
    },
    {
     "name": "stderr",
     "output_type": "stream",
     "text": [
      "Epochs1:  10%|█         | 21/200 [00:00<00:03, 50.45it/s]\n"
     ]
    },
    {
     "name": "stdout",
     "output_type": "stream",
     "text": [
      "Early stopping = True (22)\n",
      "\n",
      "n = 89\n"
     ]
    },
    {
     "name": "stderr",
     "output_type": "stream",
     "text": [
      "Epochs1:  10%|█         | 21/200 [00:00<00:05, 33.96it/s]\n"
     ]
    },
    {
     "name": "stdout",
     "output_type": "stream",
     "text": [
      "Early stopping = True (22)\n",
      "\n",
      "n = 90\n"
     ]
    },
    {
     "name": "stderr",
     "output_type": "stream",
     "text": [
      "Epochs1:  10%|█         | 21/200 [00:00<00:03, 50.47it/s]\n"
     ]
    },
    {
     "name": "stdout",
     "output_type": "stream",
     "text": [
      "Early stopping = True (22)\n",
      "\n",
      "n = 91\n"
     ]
    },
    {
     "name": "stderr",
     "output_type": "stream",
     "text": [
      "Epochs1:  10%|█         | 21/200 [00:00<00:03, 50.20it/s]\n"
     ]
    },
    {
     "name": "stdout",
     "output_type": "stream",
     "text": [
      "Early stopping = True (22)\n",
      "\n",
      "n = 92\n"
     ]
    },
    {
     "name": "stderr",
     "output_type": "stream",
     "text": [
      "Epochs1:  10%|█         | 21/200 [00:00<00:03, 48.71it/s]\n"
     ]
    },
    {
     "name": "stdout",
     "output_type": "stream",
     "text": [
      "Early stopping = True (22)\n",
      "\n",
      "n = 93\n"
     ]
    },
    {
     "name": "stderr",
     "output_type": "stream",
     "text": [
      "Epochs1:  10%|█         | 21/200 [00:00<00:03, 50.21it/s]\n"
     ]
    },
    {
     "name": "stdout",
     "output_type": "stream",
     "text": [
      "Early stopping = True (22)\n",
      "\n",
      "n = 94\n"
     ]
    },
    {
     "name": "stderr",
     "output_type": "stream",
     "text": [
      "Epochs1:  10%|█         | 21/200 [00:00<00:03, 50.17it/s]\n"
     ]
    },
    {
     "name": "stdout",
     "output_type": "stream",
     "text": [
      "Early stopping = True (22)\n",
      "\n",
      "n = 95\n"
     ]
    },
    {
     "name": "stderr",
     "output_type": "stream",
     "text": [
      "Epochs1:  10%|█         | 21/200 [00:00<00:05, 33.69it/s]\n"
     ]
    },
    {
     "name": "stdout",
     "output_type": "stream",
     "text": [
      "Early stopping = True (22)\n",
      "\n",
      "n = 96\n"
     ]
    },
    {
     "name": "stderr",
     "output_type": "stream",
     "text": [
      "Epochs1:  10%|█         | 21/200 [00:00<00:03, 51.05it/s]\n"
     ]
    },
    {
     "name": "stdout",
     "output_type": "stream",
     "text": [
      "Early stopping = True (22)\n",
      "\n",
      "n = 97\n"
     ]
    },
    {
     "name": "stderr",
     "output_type": "stream",
     "text": [
      "Epochs1:  10%|█         | 21/200 [00:00<00:03, 50.29it/s]\n"
     ]
    },
    {
     "name": "stdout",
     "output_type": "stream",
     "text": [
      "Early stopping = True (22)\n",
      "\n",
      "n = 98\n"
     ]
    },
    {
     "name": "stderr",
     "output_type": "stream",
     "text": [
      "Epochs1:  10%|█         | 21/200 [00:00<00:03, 50.29it/s]\n"
     ]
    },
    {
     "name": "stdout",
     "output_type": "stream",
     "text": [
      "Early stopping = True (22)\n",
      "\n",
      "n = 99\n"
     ]
    },
    {
     "name": "stderr",
     "output_type": "stream",
     "text": [
      "Epochs1:  10%|█         | 21/200 [00:00<00:03, 50.38it/s]\n"
     ]
    },
    {
     "name": "stdout",
     "output_type": "stream",
     "text": [
      "Early stopping = True (22)\n",
      "\n",
      "n = 100\n"
     ]
    },
    {
     "name": "stderr",
     "output_type": "stream",
     "text": [
      "Epochs1:  10%|█         | 21/200 [00:00<00:03, 50.45it/s]"
     ]
    },
    {
     "name": "stdout",
     "output_type": "stream",
     "text": [
      "Early stopping = True (22)\n",
      "\n",
      "Best validation at iteration = 47\n"
     ]
    },
    {
     "name": "stderr",
     "output_type": "stream",
     "text": [
      "\n"
     ]
    }
   ],
   "source": [
    "from lockout import Lockout\n",
    "\n",
    "regul_type = [('linear_layers.0.weight', 1)]\n",
    "regul_path = [('linear_layers.0.weight', True)]\n",
    "\n",
    "# List of tuples (or dictionary) of the form [(layer_name, t0_sampled)] where:\n",
    "# - layer_name: layer name in the input model (string)\n",
    "# - t0_sampled: 1D tensor with the constraint values t0 to be sampled in the layer\n",
    "t0_sampled = torch.from_numpy(np.geomspace(53.504620, 1e-3, num=100, endpoint=True))\n",
    "t0_grid    = {'linear_layers.0.weight': t0_sampled}\n",
    "\n",
    "# Instantiate Lockout\n",
    "lockout_option2a = Lockout(lockout_forward.model_best_valid,  # initial network\n",
    "                          lr=1e-2, \n",
    "                          loss_type=1,\n",
    "                          regul_type=regul_type,\n",
    "                          regul_path=regul_path, \n",
    "                          t0_grid=t0_grid)\n",
    "\n",
    "# Train Neural Network With Lockout\n",
    "lockout_option2a.train(dl_train, dl_valid, \n",
    "                      train_how=\"sampling_t0\", \n",
    "                      epochs=5000,             # Max number of epochs used for first t0\n",
    "                      epochs2=200,             # Max number of epochs used for the rest of the t0 values\n",
    "                      early_stopping=20, \n",
    "                      tol_loss=1e-4)"
   ]
  },
  {
   "cell_type": "code",
   "execution_count": 129,
   "id": "qualified-indiana",
   "metadata": {
    "ExecuteTime": {
     "end_time": "2021-08-03T02:00:43.783267Z",
     "start_time": "2021-08-03T02:00:43.780422Z"
    }
   },
   "outputs": [],
   "source": [
    "# Save Model At Validation Minimum\n",
    "model_lockout_option2a = lockout_option2a.model_best_valid\n",
    "save_model(model_lockout_option2a, 'model_lockout_option2a.pth')"
   ]
  },
  {
   "cell_type": "code",
   "execution_count": 130,
   "id": "cross-racing",
   "metadata": {
    "ExecuteTime": {
     "end_time": "2021-08-03T02:01:11.865496Z",
     "start_time": "2021-08-03T02:01:11.858313Z"
    }
   },
   "outputs": [
    {
     "data": {
      "text/html": [
       "<div>\n",
       "<style scoped>\n",
       "    .dataframe tbody tr th:only-of-type {\n",
       "        vertical-align: middle;\n",
       "    }\n",
       "\n",
       "    .dataframe tbody tr th {\n",
       "        vertical-align: top;\n",
       "    }\n",
       "\n",
       "    .dataframe thead th {\n",
       "        text-align: right;\n",
       "    }\n",
       "</style>\n",
       "<table border=\"1\" class=\"dataframe\">\n",
       "  <thead>\n",
       "    <tr style=\"text-align: right;\">\n",
       "      <th></th>\n",
       "      <th>iteration</th>\n",
       "      <th>sparcity__linear_layers.0.weight</th>\n",
       "      <th>t0_calc__linear_layers.0.weight</th>\n",
       "      <th>t0_used__linear_layers.0.weight</th>\n",
       "      <th>train_loss</th>\n",
       "      <th>valid_loss</th>\n",
       "      <th>train_accu</th>\n",
       "      <th>valid_accu</th>\n",
       "    </tr>\n",
       "  </thead>\n",
       "  <tbody>\n",
       "    <tr>\n",
       "      <th>0</th>\n",
       "      <td>969</td>\n",
       "      <td>1.0</td>\n",
       "      <td>53.504848</td>\n",
       "      <td>53.504620</td>\n",
       "      <td>0.036792</td>\n",
       "      <td>0.882386</td>\n",
       "      <td>0.963208</td>\n",
       "      <td>0.179351</td>\n",
       "    </tr>\n",
       "    <tr>\n",
       "      <th>1</th>\n",
       "      <td>146</td>\n",
       "      <td>1.0</td>\n",
       "      <td>47.933159</td>\n",
       "      <td>47.932464</td>\n",
       "      <td>0.038469</td>\n",
       "      <td>0.869678</td>\n",
       "      <td>0.961531</td>\n",
       "      <td>0.191170</td>\n",
       "    </tr>\n",
       "    <tr>\n",
       "      <th>2</th>\n",
       "      <td>181</td>\n",
       "      <td>1.0</td>\n",
       "      <td>42.942211</td>\n",
       "      <td>42.940612</td>\n",
       "      <td>0.038247</td>\n",
       "      <td>0.862440</td>\n",
       "      <td>0.961753</td>\n",
       "      <td>0.197902</td>\n",
       "    </tr>\n",
       "    <tr>\n",
       "      <th>3</th>\n",
       "      <td>140</td>\n",
       "      <td>1.0</td>\n",
       "      <td>38.469421</td>\n",
       "      <td>38.468628</td>\n",
       "      <td>0.043386</td>\n",
       "      <td>0.850439</td>\n",
       "      <td>0.956614</td>\n",
       "      <td>0.209064</td>\n",
       "    </tr>\n",
       "    <tr>\n",
       "      <th>4</th>\n",
       "      <td>173</td>\n",
       "      <td>1.0</td>\n",
       "      <td>34.464169</td>\n",
       "      <td>34.462372</td>\n",
       "      <td>0.046387</td>\n",
       "      <td>0.840710</td>\n",
       "      <td>0.953613</td>\n",
       "      <td>0.218112</td>\n",
       "    </tr>\n",
       "  </tbody>\n",
       "</table>\n",
       "</div>"
      ],
      "text/plain": [
       "  iteration  sparcity__linear_layers.0.weight  \\\n",
       "0       969                               1.0   \n",
       "1       146                               1.0   \n",
       "2       181                               1.0   \n",
       "3       140                               1.0   \n",
       "4       173                               1.0   \n",
       "\n",
       "   t0_calc__linear_layers.0.weight  t0_used__linear_layers.0.weight  \\\n",
       "0                        53.504848                        53.504620   \n",
       "1                        47.933159                        47.932464   \n",
       "2                        42.942211                        42.940612   \n",
       "3                        38.469421                        38.468628   \n",
       "4                        34.464169                        34.462372   \n",
       "\n",
       "   train_loss  valid_loss  train_accu  valid_accu  \n",
       "0    0.036792    0.882386    0.963208    0.179351  \n",
       "1    0.038469    0.869678    0.961531    0.191170  \n",
       "2    0.038247    0.862440    0.961753    0.197902  \n",
       "3    0.043386    0.850439    0.956614    0.209064  \n",
       "4    0.046387    0.840710    0.953613    0.218112  "
      ]
     },
     "execution_count": 130,
     "metadata": {},
     "output_type": "execute_result"
    }
   ],
   "source": [
    "# Path Data\n",
    "df2a = lockout_option2a.path_data\n",
    "df2a.head()"
   ]
  },
  {
   "cell_type": "code",
   "execution_count": 133,
   "id": "consistent-hormone",
   "metadata": {
    "ExecuteTime": {
     "end_time": "2021-08-03T02:13:22.756444Z",
     "start_time": "2021-08-03T02:13:22.576985Z"
    }
   },
   "outputs": [
    {
     "data": {
      "image/png": "[encoded data removed]",
      "text/plain": [
       "<Figure size 648x432 with 1 Axes>"
      ]
     },
     "metadata": {
      "needs_background": "light"
     },
     "output_type": "display_data"
    }
   ],
   "source": [
    "# Graph Feature Importance\n",
    "import matplotlib.pyplot as plt\n",
    "import numpy as np\n",
    "from lockout.pytorch_utils import get_features_importance\n",
    "\n",
    "importance = get_features_importance(model_lockout_option2a, 'linear_layers.0.weight')\n",
    "\n",
    "fig, axes = plt.subplots(figsize=(9,6))\n",
    "x_pos = np.arange(len(importance))\n",
    "axes.bar(x_pos, importance, zorder=2)\n",
    "axes.set_xticks(x_pos)\n",
    "axes.set_xticklabels(importance.index, rotation='vertical')\n",
    "axes.set_xlim(-1,len(x_pos))\n",
    "axes.tick_params(axis='both', which='major', labelsize=14)\n",
    "axes.set_ylabel('Importance', fontsize=16)\n",
    "axes.set_xlabel('feature', fontsize=16)\n",
    "axes.set_title('Lockout', fontsize=16)\n",
    "axes.grid(True, zorder=1)\n",
    "\n",
    "plt.tight_layout()\n",
    "plt.savefig('feature_importance_lockout2a.pdf', bbox_inches='tight')\n",
    "plt.show()"
   ]
  },
  {
   "cell_type": "code",
   "execution_count": 132,
   "id": "charged-bosnia",
   "metadata": {
    "ExecuteTime": {
     "end_time": "2021-08-03T02:03:29.102200Z",
     "start_time": "2021-08-03T02:03:29.082777Z"
    }
   },
   "outputs": [
    {
     "name": "stdout",
     "output_type": "stream",
     "text": [
      "Test R2 (unconstrained) = 0.655\n",
      "Test R2 (lockout)       = 0.953\n"
     ]
    }
   ],
   "source": [
    "# Compute Test Accuracy\n",
    "import torch\n",
    "from lockout.pytorch_utils import dataset_r2\n",
    "\n",
    "device = torch.device('cpu')\n",
    "r2_test_forward, _   = dataset_r2(dl_test, model_forward_best, device)\n",
    "r2_test_lockout2a, _ = dataset_r2(dl_test, model_lockout_option2a, device)\n",
    "print(\"Test R2 (unconstrained) = {:.3f}\".format(r2_test_forward))\n",
    "print(\"Test R2 (lockout)       = {:.3f}\".format(r2_test_lockout2a))"
   ]
  },
  {
   "cell_type": "markdown",
   "id": "regulation-integration",
   "metadata": {},
   "source": [
    "b) Generated internally, in which case the $t_0$ points are linearly sampled"
   ]
  },
  {
   "cell_type": "code",
   "execution_count": 135,
   "id": "underlying-orientation",
   "metadata": {
    "ExecuteTime": {
     "end_time": "2021-08-03T02:41:53.727568Z",
     "start_time": "2021-08-03T02:38:00.269024Z"
    },
    "scrolled": true
   },
   "outputs": [
    {
     "name": "stdout",
     "output_type": "stream",
     "text": [
      "n = 1\n"
     ]
    },
    {
     "name": "stderr",
     "output_type": "stream",
     "text": [
      "Epochs1:  20%|█▉        | 979/5000 [00:19<01:18, 51.33it/s]\n"
     ]
    },
    {
     "name": "stdout",
     "output_type": "stream",
     "text": [
      "Early stopping = True (980)\n",
      "\n",
      "n = 2\n"
     ]
    },
    {
     "name": "stderr",
     "output_type": "stream",
     "text": [
      "Epochs1:  12%|█▏        | 23/200 [00:00<00:03, 51.66it/s]\n"
     ]
    },
    {
     "name": "stdout",
     "output_type": "stream",
     "text": [
      "Early stopping = True (24)\n",
      "\n",
      "n = 3\n"
     ]
    },
    {
     "name": "stderr",
     "output_type": "stream",
     "text": [
      "Epochs1:  12%|█▏        | 23/200 [00:00<00:03, 50.83it/s]\n"
     ]
    },
    {
     "name": "stdout",
     "output_type": "stream",
     "text": [
      "Early stopping = True (24)\n",
      "\n",
      "n = 4\n"
     ]
    },
    {
     "name": "stderr",
     "output_type": "stream",
     "text": [
      "Epochs1:  12%|█▏        | 23/200 [00:00<00:03, 51.10it/s]\n"
     ]
    },
    {
     "name": "stdout",
     "output_type": "stream",
     "text": [
      "Early stopping = True (24)\n",
      "\n",
      "n = 5\n"
     ]
    },
    {
     "name": "stderr",
     "output_type": "stream",
     "text": [
      "Epochs1:  12%|█▏        | 24/200 [00:00<00:03, 51.00it/s]\n"
     ]
    },
    {
     "name": "stdout",
     "output_type": "stream",
     "text": [
      "Early stopping = True (25)\n",
      "\n",
      "n = 6\n"
     ]
    },
    {
     "name": "stderr",
     "output_type": "stream",
     "text": [
      "Epochs1:  12%|█▏        | 23/200 [00:00<00:03, 50.16it/s]\n"
     ]
    },
    {
     "name": "stdout",
     "output_type": "stream",
     "text": [
      "Early stopping = True (24)\n",
      "\n",
      "n = 7\n"
     ]
    },
    {
     "name": "stderr",
     "output_type": "stream",
     "text": [
      "Epochs1:  12%|█▏        | 23/200 [00:00<00:03, 51.55it/s]\n"
     ]
    },
    {
     "name": "stdout",
     "output_type": "stream",
     "text": [
      "Early stopping = True (24)\n",
      "\n",
      "n = 8\n"
     ]
    },
    {
     "name": "stderr",
     "output_type": "stream",
     "text": [
      "Epochs1:  12%|█▏        | 23/200 [00:00<00:03, 51.13it/s]\n"
     ]
    },
    {
     "name": "stdout",
     "output_type": "stream",
     "text": [
      "Early stopping = True (24)\n",
      "\n",
      "n = 9\n"
     ]
    },
    {
     "name": "stderr",
     "output_type": "stream",
     "text": [
      "Epochs1:  12%|█▏        | 23/200 [00:00<00:03, 50.89it/s]\n"
     ]
    },
    {
     "name": "stdout",
     "output_type": "stream",
     "text": [
      "Early stopping = True (24)\n",
      "\n",
      "n = 10\n"
     ]
    },
    {
     "name": "stderr",
     "output_type": "stream",
     "text": [
      "Epochs1:  12%|█▏        | 23/200 [00:00<00:04, 35.69it/s]\n"
     ]
    },
    {
     "name": "stdout",
     "output_type": "stream",
     "text": [
      "Early stopping = True (24)\n",
      "\n",
      "n = 11\n"
     ]
    },
    {
     "name": "stderr",
     "output_type": "stream",
     "text": [
      "Epochs1:  12%|█▏        | 23/200 [00:00<00:03, 50.98it/s]\n"
     ]
    },
    {
     "name": "stdout",
     "output_type": "stream",
     "text": [
      "Early stopping = True (24)\n",
      "\n",
      "n = 12\n"
     ]
    },
    {
     "name": "stderr",
     "output_type": "stream",
     "text": [
      "Epochs1:  12%|█▏        | 23/200 [00:00<00:03, 50.60it/s]\n"
     ]
    },
    {
     "name": "stdout",
     "output_type": "stream",
     "text": [
      "Early stopping = True (24)\n",
      "\n",
      "n = 13\n"
     ]
    },
    {
     "name": "stderr",
     "output_type": "stream",
     "text": [
      "Epochs1:  12%|█▏        | 23/200 [00:00<00:03, 50.60it/s]\n"
     ]
    },
    {
     "name": "stdout",
     "output_type": "stream",
     "text": [
      "Early stopping = True (24)\n",
      "\n",
      "n = 14\n"
     ]
    },
    {
     "name": "stderr",
     "output_type": "stream",
     "text": [
      "Epochs1:  12%|█▏        | 23/200 [00:00<00:03, 50.52it/s]\n"
     ]
    },
    {
     "name": "stdout",
     "output_type": "stream",
     "text": [
      "Early stopping = True (24)\n",
      "\n",
      "n = 15\n"
     ]
    },
    {
     "name": "stderr",
     "output_type": "stream",
     "text": [
      "Epochs1:  12%|█▏        | 23/200 [00:00<00:03, 50.69it/s]\n"
     ]
    },
    {
     "name": "stdout",
     "output_type": "stream",
     "text": [
      "Early stopping = True (24)\n",
      "\n",
      "n = 16\n"
     ]
    },
    {
     "name": "stderr",
     "output_type": "stream",
     "text": [
      "Epochs1:  12%|█▏        | 23/200 [00:00<00:04, 35.41it/s]\n"
     ]
    },
    {
     "name": "stdout",
     "output_type": "stream",
     "text": [
      "Early stopping = True (24)\n",
      "\n",
      "n = 17\n"
     ]
    },
    {
     "name": "stderr",
     "output_type": "stream",
     "text": [
      "Epochs1:  12%|█▏        | 23/200 [00:00<00:03, 50.48it/s]\n"
     ]
    },
    {
     "name": "stdout",
     "output_type": "stream",
     "text": [
      "Early stopping = True (24)\n",
      "\n",
      "n = 18\n"
     ]
    },
    {
     "name": "stderr",
     "output_type": "stream",
     "text": [
      "Epochs1:  12%|█▏        | 23/200 [00:00<00:03, 50.23it/s]\n"
     ]
    },
    {
     "name": "stdout",
     "output_type": "stream",
     "text": [
      "Early stopping = True (24)\n",
      "\n",
      "n = 19\n"
     ]
    },
    {
     "name": "stderr",
     "output_type": "stream",
     "text": [
      "Epochs1:  12%|█▏        | 23/200 [00:00<00:03, 50.74it/s]\n"
     ]
    },
    {
     "name": "stdout",
     "output_type": "stream",
     "text": [
      "Early stopping = True (24)\n",
      "\n",
      "n = 20\n"
     ]
    },
    {
     "name": "stderr",
     "output_type": "stream",
     "text": [
      "Epochs1:  12%|█▏        | 23/200 [00:00<00:03, 50.92it/s]\n"
     ]
    },
    {
     "name": "stdout",
     "output_type": "stream",
     "text": [
      "Early stopping = True (24)\n",
      "\n",
      "n = 21\n"
     ]
    },
    {
     "name": "stderr",
     "output_type": "stream",
     "text": [
      "Epochs1:  12%|█▏        | 23/200 [00:00<00:03, 51.11it/s]\n"
     ]
    },
    {
     "name": "stdout",
     "output_type": "stream",
     "text": [
      "Early stopping = True (24)\n",
      "\n",
      "n = 22\n"
     ]
    },
    {
     "name": "stderr",
     "output_type": "stream",
     "text": [
      "Epochs1:  12%|█▏        | 23/200 [00:00<00:03, 50.88it/s]\n"
     ]
    },
    {
     "name": "stdout",
     "output_type": "stream",
     "text": [
      "Early stopping = True (24)\n",
      "\n",
      "n = 23\n"
     ]
    },
    {
     "name": "stderr",
     "output_type": "stream",
     "text": [
      "Epochs1:  12%|█▏        | 23/200 [00:00<00:03, 50.52it/s]\n"
     ]
    },
    {
     "name": "stdout",
     "output_type": "stream",
     "text": [
      "Early stopping = True (24)\n",
      "\n",
      "n = 24\n"
     ]
    },
    {
     "name": "stderr",
     "output_type": "stream",
     "text": [
      "Epochs1:  12%|█▏        | 23/200 [00:00<00:03, 50.20it/s]\n"
     ]
    },
    {
     "name": "stdout",
     "output_type": "stream",
     "text": [
      "Early stopping = True (24)\n",
      "\n",
      "n = 25\n"
     ]
    },
    {
     "name": "stderr",
     "output_type": "stream",
     "text": [
      "Epochs1:  12%|█▏        | 23/200 [00:00<00:03, 50.87it/s]\n"
     ]
    },
    {
     "name": "stdout",
     "output_type": "stream",
     "text": [
      "Early stopping = True (24)\n",
      "\n",
      "n = 26\n"
     ]
    },
    {
     "name": "stderr",
     "output_type": "stream",
     "text": [
      "Epochs1:  12%|█▏        | 23/200 [00:00<00:03, 49.93it/s]\n"
     ]
    },
    {
     "name": "stdout",
     "output_type": "stream",
     "text": [
      "Early stopping = True (24)\n",
      "\n",
      "n = 27\n"
     ]
    },
    {
     "name": "stderr",
     "output_type": "stream",
     "text": [
      "Epochs1:  12%|█▏        | 23/200 [00:00<00:05, 33.91it/s]\n"
     ]
    },
    {
     "name": "stdout",
     "output_type": "stream",
     "text": [
      "Early stopping = True (24)\n",
      "\n",
      "n = 28\n"
     ]
    },
    {
     "name": "stderr",
     "output_type": "stream",
     "text": [
      "Epochs1:  12%|█▏        | 23/200 [00:00<00:03, 50.24it/s]\n"
     ]
    },
    {
     "name": "stdout",
     "output_type": "stream",
     "text": [
      "Early stopping = True (24)\n",
      "\n",
      "n = 29\n"
     ]
    },
    {
     "name": "stderr",
     "output_type": "stream",
     "text": [
      "Epochs1:  12%|█▏        | 23/200 [00:00<00:03, 49.59it/s]\n"
     ]
    },
    {
     "name": "stdout",
     "output_type": "stream",
     "text": [
      "Early stopping = True (24)\n",
      "\n",
      "n = 30\n"
     ]
    },
    {
     "name": "stderr",
     "output_type": "stream",
     "text": [
      "Epochs1:  12%|█▏        | 23/200 [00:00<00:03, 50.37it/s]\n"
     ]
    },
    {
     "name": "stdout",
     "output_type": "stream",
     "text": [
      "Early stopping = True (24)\n",
      "\n",
      "n = 31\n"
     ]
    },
    {
     "name": "stderr",
     "output_type": "stream",
     "text": [
      "Epochs1:  12%|█▏        | 23/200 [00:00<00:03, 50.75it/s]\n"
     ]
    },
    {
     "name": "stdout",
     "output_type": "stream",
     "text": [
      "Early stopping = True (24)\n",
      "\n",
      "n = 32\n"
     ]
    },
    {
     "name": "stderr",
     "output_type": "stream",
     "text": [
      "Epochs1:  12%|█▏        | 23/200 [00:00<00:03, 49.59it/s]\n"
     ]
    },
    {
     "name": "stdout",
     "output_type": "stream",
     "text": [
      "Early stopping = True (24)\n",
      "\n",
      "n = 33\n"
     ]
    },
    {
     "name": "stderr",
     "output_type": "stream",
     "text": [
      "Epochs1:  12%|█▏        | 23/200 [00:00<00:04, 35.57it/s]\n"
     ]
    },
    {
     "name": "stdout",
     "output_type": "stream",
     "text": [
      "Early stopping = True (24)\n",
      "\n",
      "n = 34\n"
     ]
    },
    {
     "name": "stderr",
     "output_type": "stream",
     "text": [
      "Epochs1:  12%|█▏        | 23/200 [00:00<00:03, 51.04it/s]\n"
     ]
    },
    {
     "name": "stdout",
     "output_type": "stream",
     "text": [
      "Early stopping = True (24)\n",
      "\n",
      "n = 35\n"
     ]
    },
    {
     "name": "stderr",
     "output_type": "stream",
     "text": [
      "Epochs1:  12%|█▏        | 23/200 [00:00<00:03, 49.96it/s]\n"
     ]
    },
    {
     "name": "stdout",
     "output_type": "stream",
     "text": [
      "Early stopping = True (24)\n",
      "\n",
      "n = 36\n"
     ]
    },
    {
     "name": "stderr",
     "output_type": "stream",
     "text": [
      "Epochs1:  12%|█▏        | 23/200 [00:00<00:03, 50.62it/s]\n"
     ]
    },
    {
     "name": "stdout",
     "output_type": "stream",
     "text": [
      "Early stopping = True (24)\n",
      "\n",
      "n = 37\n"
     ]
    },
    {
     "name": "stderr",
     "output_type": "stream",
     "text": [
      "Epochs1:  12%|█▏        | 23/200 [00:00<00:03, 51.27it/s]\n"
     ]
    },
    {
     "name": "stdout",
     "output_type": "stream",
     "text": [
      "Early stopping = True (24)\n",
      "\n",
      "n = 38\n"
     ]
    },
    {
     "name": "stderr",
     "output_type": "stream",
     "text": [
      "Epochs1:  12%|█▏        | 23/200 [00:00<00:03, 50.94it/s]\n"
     ]
    },
    {
     "name": "stdout",
     "output_type": "stream",
     "text": [
      "Early stopping = True (24)\n",
      "\n",
      "n = 39\n"
     ]
    },
    {
     "name": "stderr",
     "output_type": "stream",
     "text": [
      "Epochs1:  12%|█▏        | 23/200 [00:00<00:03, 50.32it/s]\n"
     ]
    },
    {
     "name": "stdout",
     "output_type": "stream",
     "text": [
      "Early stopping = True (24)\n",
      "\n",
      "n = 40\n"
     ]
    },
    {
     "name": "stderr",
     "output_type": "stream",
     "text": [
      "Epochs1:  12%|█▏        | 23/200 [00:00<00:03, 50.22it/s]\n"
     ]
    },
    {
     "name": "stdout",
     "output_type": "stream",
     "text": [
      "Early stopping = True (24)\n",
      "\n",
      "n = 41\n"
     ]
    },
    {
     "name": "stderr",
     "output_type": "stream",
     "text": [
      "Epochs1:  12%|█▏        | 23/200 [00:00<00:03, 50.23it/s]\n"
     ]
    },
    {
     "name": "stdout",
     "output_type": "stream",
     "text": [
      "Early stopping = True (24)\n",
      "\n",
      "n = 42\n"
     ]
    },
    {
     "name": "stderr",
     "output_type": "stream",
     "text": [
      "Epochs1:  12%|█▏        | 23/200 [00:00<00:03, 50.10it/s]\n"
     ]
    },
    {
     "name": "stdout",
     "output_type": "stream",
     "text": [
      "Early stopping = True (24)\n",
      "\n",
      "n = 43\n"
     ]
    },
    {
     "name": "stderr",
     "output_type": "stream",
     "text": [
      "Epochs1:  12%|█▏        | 23/200 [00:00<00:03, 51.08it/s]\n"
     ]
    },
    {
     "name": "stdout",
     "output_type": "stream",
     "text": [
      "Early stopping = True (24)\n",
      "\n",
      "n = 44\n"
     ]
    },
    {
     "name": "stderr",
     "output_type": "stream",
     "text": [
      "Epochs1:  12%|█▏        | 23/200 [00:00<00:04, 35.57it/s]\n"
     ]
    },
    {
     "name": "stdout",
     "output_type": "stream",
     "text": [
      "Early stopping = True (24)\n",
      "\n",
      "n = 45\n"
     ]
    },
    {
     "name": "stderr",
     "output_type": "stream",
     "text": [
      "Epochs1:  12%|█▏        | 23/200 [00:00<00:03, 50.31it/s]\n"
     ]
    },
    {
     "name": "stdout",
     "output_type": "stream",
     "text": [
      "Early stopping = True (24)\n",
      "\n",
      "n = 46\n"
     ]
    },
    {
     "name": "stderr",
     "output_type": "stream",
     "text": [
      "Epochs1:  12%|█▏        | 23/200 [00:00<00:03, 49.89it/s]\n"
     ]
    },
    {
     "name": "stdout",
     "output_type": "stream",
     "text": [
      "Early stopping = True (24)\n",
      "\n",
      "n = 47\n"
     ]
    },
    {
     "name": "stderr",
     "output_type": "stream",
     "text": [
      "Epochs1:  12%|█▏        | 23/200 [00:00<00:03, 49.32it/s]\n"
     ]
    },
    {
     "name": "stdout",
     "output_type": "stream",
     "text": [
      "Early stopping = True (24)\n",
      "\n",
      "n = 48\n"
     ]
    },
    {
     "name": "stderr",
     "output_type": "stream",
     "text": [
      "Epochs1:  12%|█▏        | 23/200 [00:00<00:03, 49.84it/s]\n"
     ]
    },
    {
     "name": "stdout",
     "output_type": "stream",
     "text": [
      "Early stopping = True (24)\n",
      "\n",
      "n = 49\n"
     ]
    },
    {
     "name": "stderr",
     "output_type": "stream",
     "text": [
      "Epochs1:  12%|█▏        | 23/200 [00:00<00:03, 50.52it/s]\n"
     ]
    },
    {
     "name": "stdout",
     "output_type": "stream",
     "text": [
      "Early stopping = True (24)\n",
      "\n",
      "n = 50\n"
     ]
    },
    {
     "name": "stderr",
     "output_type": "stream",
     "text": [
      "Epochs1:  12%|█▏        | 23/200 [00:00<00:05, 35.03it/s]\n"
     ]
    },
    {
     "name": "stdout",
     "output_type": "stream",
     "text": [
      "Early stopping = True (24)\n",
      "\n",
      "n = 51\n"
     ]
    },
    {
     "name": "stderr",
     "output_type": "stream",
     "text": [
      "Epochs1:  12%|█▏        | 23/200 [00:00<00:03, 51.45it/s]\n"
     ]
    },
    {
     "name": "stdout",
     "output_type": "stream",
     "text": [
      "Early stopping = True (24)\n",
      "\n",
      "n = 52\n"
     ]
    },
    {
     "name": "stderr",
     "output_type": "stream",
     "text": [
      "Epochs1:  12%|█▏        | 23/200 [00:00<00:03, 50.92it/s]\n"
     ]
    },
    {
     "name": "stdout",
     "output_type": "stream",
     "text": [
      "Early stopping = True (24)\n",
      "\n",
      "n = 53\n"
     ]
    },
    {
     "name": "stderr",
     "output_type": "stream",
     "text": [
      "Epochs1:  12%|█▏        | 23/200 [00:00<00:03, 50.60it/s]\n"
     ]
    },
    {
     "name": "stdout",
     "output_type": "stream",
     "text": [
      "Early stopping = True (24)\n",
      "\n",
      "n = 54\n"
     ]
    },
    {
     "name": "stderr",
     "output_type": "stream",
     "text": [
      "Epochs1:  12%|█▏        | 23/200 [00:00<00:03, 50.78it/s]\n"
     ]
    },
    {
     "name": "stdout",
     "output_type": "stream",
     "text": [
      "Early stopping = True (24)\n",
      "\n",
      "n = 55\n"
     ]
    },
    {
     "name": "stderr",
     "output_type": "stream",
     "text": [
      "Epochs1:  12%|█▏        | 23/200 [00:00<00:03, 50.90it/s]\n"
     ]
    },
    {
     "name": "stdout",
     "output_type": "stream",
     "text": [
      "Early stopping = True (24)\n",
      "\n",
      "n = 56\n"
     ]
    },
    {
     "name": "stderr",
     "output_type": "stream",
     "text": [
      "Epochs1:  12%|█▏        | 23/200 [00:00<00:03, 51.09it/s]\n"
     ]
    },
    {
     "name": "stdout",
     "output_type": "stream",
     "text": [
      "Early stopping = True (24)\n",
      "\n",
      "n = 57\n"
     ]
    },
    {
     "name": "stderr",
     "output_type": "stream",
     "text": [
      "Epochs1:  12%|█▏        | 23/200 [00:00<00:03, 50.81it/s]\n"
     ]
    },
    {
     "name": "stdout",
     "output_type": "stream",
     "text": [
      "Early stopping = True (24)\n",
      "\n",
      "n = 58\n"
     ]
    },
    {
     "name": "stderr",
     "output_type": "stream",
     "text": [
      "Epochs1:  12%|█▏        | 23/200 [00:00<00:03, 50.41it/s]\n"
     ]
    },
    {
     "name": "stdout",
     "output_type": "stream",
     "text": [
      "Early stopping = True (24)\n",
      "\n",
      "n = 59\n"
     ]
    },
    {
     "name": "stderr",
     "output_type": "stream",
     "text": [
      "Epochs1:  12%|█▏        | 23/200 [00:00<00:03, 50.76it/s]\n"
     ]
    },
    {
     "name": "stdout",
     "output_type": "stream",
     "text": [
      "Early stopping = True (24)\n",
      "\n",
      "n = 60\n"
     ]
    },
    {
     "name": "stderr",
     "output_type": "stream",
     "text": [
      "Epochs1:  12%|█▏        | 23/200 [00:00<00:03, 49.62it/s]\n"
     ]
    },
    {
     "name": "stdout",
     "output_type": "stream",
     "text": [
      "Early stopping = True (24)\n",
      "\n",
      "n = 61\n"
     ]
    },
    {
     "name": "stderr",
     "output_type": "stream",
     "text": [
      "Epochs1:  12%|█▏        | 23/200 [00:00<00:05, 35.17it/s]\n"
     ]
    },
    {
     "name": "stdout",
     "output_type": "stream",
     "text": [
      "Early stopping = True (24)\n",
      "\n",
      "n = 62\n"
     ]
    },
    {
     "name": "stderr",
     "output_type": "stream",
     "text": [
      "Epochs1:  12%|█▏        | 23/200 [00:00<00:03, 50.89it/s]\n"
     ]
    },
    {
     "name": "stdout",
     "output_type": "stream",
     "text": [
      "Early stopping = True (24)\n",
      "\n",
      "n = 63\n"
     ]
    },
    {
     "name": "stderr",
     "output_type": "stream",
     "text": [
      "Epochs1:  12%|█▏        | 23/200 [00:00<00:03, 50.44it/s]\n"
     ]
    },
    {
     "name": "stdout",
     "output_type": "stream",
     "text": [
      "Early stopping = True (24)\n",
      "\n",
      "n = 64\n"
     ]
    },
    {
     "name": "stderr",
     "output_type": "stream",
     "text": [
      "Epochs1:  12%|█▏        | 24/200 [00:00<00:03, 50.65it/s]\n"
     ]
    },
    {
     "name": "stdout",
     "output_type": "stream",
     "text": [
      "Early stopping = True (25)\n",
      "\n",
      "n = 65\n"
     ]
    },
    {
     "name": "stderr",
     "output_type": "stream",
     "text": [
      "Epochs1:  12%|█▏        | 23/200 [00:00<00:03, 50.61it/s]\n"
     ]
    },
    {
     "name": "stdout",
     "output_type": "stream",
     "text": [
      "Early stopping = True (24)\n",
      "\n",
      "n = 66\n"
     ]
    },
    {
     "name": "stderr",
     "output_type": "stream",
     "text": [
      "Epochs1:  12%|█▏        | 24/200 [00:00<00:03, 50.80it/s]\n"
     ]
    },
    {
     "name": "stdout",
     "output_type": "stream",
     "text": [
      "Early stopping = True (25)\n",
      "\n",
      "n = 67\n"
     ]
    },
    {
     "name": "stderr",
     "output_type": "stream",
     "text": [
      "Epochs1:  12%|█▏        | 24/200 [00:00<00:04, 35.67it/s]\n"
     ]
    },
    {
     "name": "stdout",
     "output_type": "stream",
     "text": [
      "Early stopping = True (25)\n",
      "\n",
      "n = 68\n"
     ]
    },
    {
     "name": "stderr",
     "output_type": "stream",
     "text": [
      "Epochs1:  12%|█▏        | 24/200 [00:00<00:03, 50.34it/s]\n"
     ]
    },
    {
     "name": "stdout",
     "output_type": "stream",
     "text": [
      "Early stopping = True (25)\n",
      "\n",
      "n = 69\n"
     ]
    },
    {
     "name": "stderr",
     "output_type": "stream",
     "text": [
      "Epochs1:  12%|█▏        | 24/200 [00:00<00:03, 49.39it/s]\n"
     ]
    },
    {
     "name": "stdout",
     "output_type": "stream",
     "text": [
      "Early stopping = True (25)\n",
      "\n",
      "n = 70\n"
     ]
    },
    {
     "name": "stderr",
     "output_type": "stream",
     "text": [
      "Epochs1:  12%|█▏        | 24/200 [00:00<00:03, 50.32it/s]\n"
     ]
    },
    {
     "name": "stdout",
     "output_type": "stream",
     "text": [
      "Early stopping = True (25)\n",
      "\n",
      "n = 71\n"
     ]
    },
    {
     "name": "stderr",
     "output_type": "stream",
     "text": [
      "Epochs1:  12%|█▏        | 24/200 [00:00<00:03, 50.93it/s]\n"
     ]
    },
    {
     "name": "stdout",
     "output_type": "stream",
     "text": [
      "Early stopping = True (25)\n",
      "\n",
      "n = 72\n"
     ]
    },
    {
     "name": "stderr",
     "output_type": "stream",
     "text": [
      "Epochs1:  12%|█▏        | 24/200 [00:00<00:03, 50.69it/s]\n"
     ]
    },
    {
     "name": "stdout",
     "output_type": "stream",
     "text": [
      "Early stopping = True (25)\n",
      "\n",
      "n = 73\n"
     ]
    },
    {
     "name": "stderr",
     "output_type": "stream",
     "text": [
      "Epochs1:  12%|█▏        | 24/200 [00:00<00:03, 51.26it/s]\n"
     ]
    },
    {
     "name": "stdout",
     "output_type": "stream",
     "text": [
      "Early stopping = True (25)\n",
      "\n",
      "n = 74\n"
     ]
    },
    {
     "name": "stderr",
     "output_type": "stream",
     "text": [
      "Epochs1:  12%|█▏        | 24/200 [00:00<00:03, 51.06it/s]\n"
     ]
    },
    {
     "name": "stdout",
     "output_type": "stream",
     "text": [
      "Early stopping = True (25)\n",
      "\n",
      "n = 75\n"
     ]
    },
    {
     "name": "stderr",
     "output_type": "stream",
     "text": [
      "Epochs1:  12%|█▏        | 24/200 [00:00<00:03, 51.10it/s]\n"
     ]
    },
    {
     "name": "stdout",
     "output_type": "stream",
     "text": [
      "Early stopping = True (25)\n",
      "\n",
      "n = 76\n"
     ]
    },
    {
     "name": "stderr",
     "output_type": "stream",
     "text": [
      "Epochs1:  12%|█▏        | 24/200 [00:00<00:03, 51.33it/s]\n"
     ]
    },
    {
     "name": "stdout",
     "output_type": "stream",
     "text": [
      "Early stopping = True (25)\n",
      "\n",
      "n = 77\n"
     ]
    },
    {
     "name": "stderr",
     "output_type": "stream",
     "text": [
      "Epochs1:  12%|█▏        | 24/200 [00:00<00:03, 50.96it/s]\n"
     ]
    },
    {
     "name": "stdout",
     "output_type": "stream",
     "text": [
      "Early stopping = True (25)\n",
      "\n",
      "n = 78\n"
     ]
    },
    {
     "name": "stderr",
     "output_type": "stream",
     "text": [
      "Epochs1:  12%|█▏        | 24/200 [00:00<00:04, 35.88it/s]\n"
     ]
    },
    {
     "name": "stdout",
     "output_type": "stream",
     "text": [
      "Early stopping = True (25)\n",
      "\n",
      "n = 79\n"
     ]
    },
    {
     "name": "stderr",
     "output_type": "stream",
     "text": [
      "Epochs1:  12%|█▏        | 24/200 [00:00<00:03, 51.03it/s]\n"
     ]
    },
    {
     "name": "stdout",
     "output_type": "stream",
     "text": [
      "Early stopping = True (25)\n",
      "\n",
      "n = 80\n"
     ]
    },
    {
     "name": "stderr",
     "output_type": "stream",
     "text": [
      "Epochs1:  12%|█▏        | 24/200 [00:00<00:03, 50.45it/s]\n"
     ]
    },
    {
     "name": "stdout",
     "output_type": "stream",
     "text": [
      "Early stopping = True (25)\n",
      "\n",
      "n = 81\n"
     ]
    },
    {
     "name": "stderr",
     "output_type": "stream",
     "text": [
      "Epochs1:  12%|█▏        | 24/200 [00:00<00:03, 50.92it/s]\n"
     ]
    },
    {
     "name": "stdout",
     "output_type": "stream",
     "text": [
      "Early stopping = True (25)\n",
      "\n",
      "n = 82\n"
     ]
    },
    {
     "name": "stderr",
     "output_type": "stream",
     "text": [
      "Epochs1:  12%|█▏        | 24/200 [00:00<00:03, 51.00it/s]\n"
     ]
    },
    {
     "name": "stdout",
     "output_type": "stream",
     "text": [
      "Early stopping = True (25)\n",
      "\n",
      "n = 83\n"
     ]
    },
    {
     "name": "stderr",
     "output_type": "stream",
     "text": [
      "Epochs1:  12%|█▏        | 24/200 [00:00<00:03, 50.87it/s]\n"
     ]
    },
    {
     "name": "stdout",
     "output_type": "stream",
     "text": [
      "Early stopping = True (25)\n",
      "\n",
      "n = 84\n"
     ]
    },
    {
     "name": "stderr",
     "output_type": "stream",
     "text": [
      "Epochs1:  12%|█▏        | 24/200 [00:00<00:04, 35.85it/s]\n"
     ]
    },
    {
     "name": "stdout",
     "output_type": "stream",
     "text": [
      "Early stopping = True (25)\n",
      "\n",
      "n = 85\n"
     ]
    },
    {
     "name": "stderr",
     "output_type": "stream",
     "text": [
      "Epochs1:  12%|█▏        | 24/200 [00:00<00:03, 51.11it/s]\n"
     ]
    },
    {
     "name": "stdout",
     "output_type": "stream",
     "text": [
      "Early stopping = True (25)\n",
      "\n",
      "n = 86\n"
     ]
    },
    {
     "name": "stderr",
     "output_type": "stream",
     "text": [
      "Epochs1:  12%|█▏        | 24/200 [00:00<00:03, 50.89it/s]\n"
     ]
    },
    {
     "name": "stdout",
     "output_type": "stream",
     "text": [
      "Early stopping = True (25)\n",
      "\n",
      "n = 87\n"
     ]
    },
    {
     "name": "stderr",
     "output_type": "stream",
     "text": [
      "Epochs1:  12%|█▏        | 24/200 [00:00<00:03, 50.89it/s]\n"
     ]
    },
    {
     "name": "stdout",
     "output_type": "stream",
     "text": [
      "Early stopping = True (25)\n",
      "\n",
      "n = 88\n"
     ]
    },
    {
     "name": "stderr",
     "output_type": "stream",
     "text": [
      "Epochs1:  12%|█▏        | 24/200 [00:00<00:03, 50.68it/s]\n"
     ]
    },
    {
     "name": "stdout",
     "output_type": "stream",
     "text": [
      "Early stopping = True (25)\n",
      "\n",
      "n = 89\n"
     ]
    },
    {
     "name": "stderr",
     "output_type": "stream",
     "text": [
      "Epochs1:  12%|█▏        | 24/200 [00:00<00:03, 50.32it/s]\n"
     ]
    },
    {
     "name": "stdout",
     "output_type": "stream",
     "text": [
      "Early stopping = True (25)\n",
      "\n",
      "n = 90\n"
     ]
    },
    {
     "name": "stderr",
     "output_type": "stream",
     "text": [
      "Epochs1:  12%|█▏        | 24/200 [00:00<00:03, 50.08it/s]\n"
     ]
    },
    {
     "name": "stdout",
     "output_type": "stream",
     "text": [
      "Early stopping = True (25)\n",
      "\n",
      "n = 91\n"
     ]
    },
    {
     "name": "stderr",
     "output_type": "stream",
     "text": [
      "Epochs1:  12%|█▏        | 24/200 [00:00<00:03, 50.82it/s]\n"
     ]
    },
    {
     "name": "stdout",
     "output_type": "stream",
     "text": [
      "Early stopping = True (25)\n",
      "\n",
      "n = 92\n"
     ]
    },
    {
     "name": "stderr",
     "output_type": "stream",
     "text": [
      "Epochs1:  12%|█▎        | 25/200 [00:00<00:03, 51.08it/s]\n"
     ]
    },
    {
     "name": "stdout",
     "output_type": "stream",
     "text": [
      "Early stopping = True (26)\n",
      "\n",
      "n = 93\n"
     ]
    },
    {
     "name": "stderr",
     "output_type": "stream",
     "text": [
      "Epochs1:  12%|█▏        | 24/200 [00:00<00:03, 50.91it/s]\n"
     ]
    },
    {
     "name": "stdout",
     "output_type": "stream",
     "text": [
      "Early stopping = True (25)\n",
      "\n",
      "n = 94\n"
     ]
    },
    {
     "name": "stderr",
     "output_type": "stream",
     "text": [
      "Epochs1:  12%|█▎        | 25/200 [00:00<00:04, 36.45it/s]\n"
     ]
    },
    {
     "name": "stdout",
     "output_type": "stream",
     "text": [
      "Early stopping = True (26)\n",
      "\n",
      "n = 95\n"
     ]
    },
    {
     "name": "stderr",
     "output_type": "stream",
     "text": [
      "Epochs1:  12%|█▏        | 24/200 [00:00<00:03, 50.68it/s]\n"
     ]
    },
    {
     "name": "stdout",
     "output_type": "stream",
     "text": [
      "Early stopping = True (25)\n",
      "\n",
      "n = 96\n"
     ]
    },
    {
     "name": "stderr",
     "output_type": "stream",
     "text": [
      "Epochs1:  12%|█▏        | 24/200 [00:00<00:03, 50.48it/s]\n"
     ]
    },
    {
     "name": "stdout",
     "output_type": "stream",
     "text": [
      "Early stopping = True (25)\n",
      "\n",
      "n = 97\n"
     ]
    },
    {
     "name": "stderr",
     "output_type": "stream",
     "text": [
      "Epochs1:  12%|█▏        | 24/200 [00:00<00:03, 50.65it/s]\n"
     ]
    },
    {
     "name": "stdout",
     "output_type": "stream",
     "text": [
      "Early stopping = True (25)\n",
      "\n",
      "n = 98\n"
     ]
    },
    {
     "name": "stderr",
     "output_type": "stream",
     "text": [
      "Epochs1:  12%|█▏        | 24/200 [00:00<00:03, 50.40it/s]\n"
     ]
    },
    {
     "name": "stdout",
     "output_type": "stream",
     "text": [
      "Early stopping = True (25)\n",
      "\n",
      "n = 99\n"
     ]
    },
    {
     "name": "stderr",
     "output_type": "stream",
     "text": [
      "Epochs1:  12%|█▏        | 24/200 [00:00<00:03, 50.74it/s]\n"
     ]
    },
    {
     "name": "stdout",
     "output_type": "stream",
     "text": [
      "Early stopping = True (25)\n",
      "\n",
      "n = 100\n"
     ]
    },
    {
     "name": "stderr",
     "output_type": "stream",
     "text": [
      "Epochs1:  12%|█▏        | 24/200 [00:00<00:04, 35.69it/s]\n"
     ]
    },
    {
     "name": "stdout",
     "output_type": "stream",
     "text": [
      "Early stopping = True (25)\n",
      "\n",
      "n = 101\n"
     ]
    },
    {
     "name": "stderr",
     "output_type": "stream",
     "text": [
      "Epochs1:  12%|█▏        | 24/200 [00:00<00:03, 51.06it/s]\n"
     ]
    },
    {
     "name": "stdout",
     "output_type": "stream",
     "text": [
      "Early stopping = True (25)\n",
      "\n",
      "n = 102\n"
     ]
    },
    {
     "name": "stderr",
     "output_type": "stream",
     "text": [
      "Epochs1:  12%|█▏        | 24/200 [00:00<00:03, 50.61it/s]\n"
     ]
    },
    {
     "name": "stdout",
     "output_type": "stream",
     "text": [
      "Early stopping = True (25)\n",
      "\n",
      "n = 103\n"
     ]
    },
    {
     "name": "stderr",
     "output_type": "stream",
     "text": [
      "Epochs1:  12%|█▏        | 24/200 [00:00<00:03, 50.52it/s]\n"
     ]
    },
    {
     "name": "stdout",
     "output_type": "stream",
     "text": [
      "Early stopping = True (25)\n",
      "\n",
      "n = 104\n"
     ]
    },
    {
     "name": "stderr",
     "output_type": "stream",
     "text": [
      "Epochs1:  12%|█▏        | 24/200 [00:00<00:03, 51.21it/s]\n"
     ]
    },
    {
     "name": "stdout",
     "output_type": "stream",
     "text": [
      "Early stopping = True (25)\n",
      "\n",
      "n = 105\n"
     ]
    },
    {
     "name": "stderr",
     "output_type": "stream",
     "text": [
      "Epochs1:  12%|█▏        | 24/200 [00:00<00:03, 50.90it/s]\n"
     ]
    },
    {
     "name": "stdout",
     "output_type": "stream",
     "text": [
      "Early stopping = True (25)\n",
      "\n",
      "n = 106\n"
     ]
    },
    {
     "name": "stderr",
     "output_type": "stream",
     "text": [
      "Epochs1:  12%|█▏        | 24/200 [00:00<00:03, 50.83it/s]\n"
     ]
    },
    {
     "name": "stdout",
     "output_type": "stream",
     "text": [
      "Early stopping = True (25)\n",
      "\n",
      "n = 107\n"
     ]
    },
    {
     "name": "stderr",
     "output_type": "stream",
     "text": [
      "Epochs1:  12%|█▏        | 24/200 [00:00<00:03, 47.57it/s]\n"
     ]
    },
    {
     "name": "stdout",
     "output_type": "stream",
     "text": [
      "Early stopping = True (25)\n",
      "\n",
      "n = 108\n"
     ]
    },
    {
     "name": "stderr",
     "output_type": "stream",
     "text": [
      "Epochs1:  12%|█▏        | 24/200 [00:00<00:03, 49.74it/s]\n"
     ]
    },
    {
     "name": "stdout",
     "output_type": "stream",
     "text": [
      "Early stopping = True (25)\n",
      "\n",
      "n = 109\n"
     ]
    },
    {
     "name": "stderr",
     "output_type": "stream",
     "text": [
      "Epochs1:  12%|█▏        | 24/200 [00:00<00:03, 50.91it/s]\n"
     ]
    },
    {
     "name": "stdout",
     "output_type": "stream",
     "text": [
      "Early stopping = True (25)\n",
      "\n",
      "n = 110\n"
     ]
    },
    {
     "name": "stderr",
     "output_type": "stream",
     "text": [
      "Epochs1:  12%|█▏        | 24/200 [00:00<00:05, 34.01it/s]\n"
     ]
    },
    {
     "name": "stdout",
     "output_type": "stream",
     "text": [
      "Early stopping = True (25)\n",
      "\n",
      "n = 111\n"
     ]
    },
    {
     "name": "stderr",
     "output_type": "stream",
     "text": [
      "Epochs1:  12%|█▎        | 25/200 [00:00<00:03, 50.33it/s]\n"
     ]
    },
    {
     "name": "stdout",
     "output_type": "stream",
     "text": [
      "Early stopping = True (26)\n",
      "\n",
      "n = 112\n"
     ]
    },
    {
     "name": "stderr",
     "output_type": "stream",
     "text": [
      "Epochs1:  12%|█▎        | 25/200 [00:00<00:03, 49.94it/s]\n"
     ]
    },
    {
     "name": "stdout",
     "output_type": "stream",
     "text": [
      "Early stopping = True (26)\n",
      "\n",
      "n = 113\n"
     ]
    },
    {
     "name": "stderr",
     "output_type": "stream",
     "text": [
      "Epochs1:  12%|█▏        | 24/200 [00:00<00:03, 49.78it/s]\n"
     ]
    },
    {
     "name": "stdout",
     "output_type": "stream",
     "text": [
      "Early stopping = True (25)\n",
      "\n",
      "n = 114\n"
     ]
    },
    {
     "name": "stderr",
     "output_type": "stream",
     "text": [
      "Epochs1:  12%|█▏        | 24/200 [00:00<00:03, 49.76it/s]\n"
     ]
    },
    {
     "name": "stdout",
     "output_type": "stream",
     "text": [
      "Early stopping = True (25)\n",
      "\n",
      "n = 115\n"
     ]
    },
    {
     "name": "stderr",
     "output_type": "stream",
     "text": [
      "Epochs1:  12%|█▏        | 24/200 [00:00<00:03, 49.70it/s]\n"
     ]
    },
    {
     "name": "stdout",
     "output_type": "stream",
     "text": [
      "Early stopping = True (25)\n",
      "\n",
      "n = 116\n"
     ]
    },
    {
     "name": "stderr",
     "output_type": "stream",
     "text": [
      "Epochs1:  12%|█▏        | 24/200 [00:00<00:05, 35.18it/s]\n"
     ]
    },
    {
     "name": "stdout",
     "output_type": "stream",
     "text": [
      "Early stopping = True (25)\n",
      "\n",
      "n = 117\n"
     ]
    },
    {
     "name": "stderr",
     "output_type": "stream",
     "text": [
      "Epochs1:  12%|█▎        | 25/200 [00:00<00:03, 50.12it/s]\n"
     ]
    },
    {
     "name": "stdout",
     "output_type": "stream",
     "text": [
      "Early stopping = True (26)\n",
      "\n",
      "n = 118\n"
     ]
    },
    {
     "name": "stderr",
     "output_type": "stream",
     "text": [
      "Epochs1:  12%|█▏        | 24/200 [00:00<00:03, 50.32it/s]\n"
     ]
    },
    {
     "name": "stdout",
     "output_type": "stream",
     "text": [
      "Early stopping = True (25)\n",
      "\n",
      "n = 119\n"
     ]
    },
    {
     "name": "stderr",
     "output_type": "stream",
     "text": [
      "Epochs1:  12%|█▎        | 25/200 [00:00<00:03, 50.56it/s]\n"
     ]
    },
    {
     "name": "stdout",
     "output_type": "stream",
     "text": [
      "Early stopping = True (26)\n",
      "\n",
      "n = 120\n"
     ]
    },
    {
     "name": "stderr",
     "output_type": "stream",
     "text": [
      "Epochs1:  12%|█▏        | 24/200 [00:00<00:03, 51.19it/s]\n"
     ]
    },
    {
     "name": "stdout",
     "output_type": "stream",
     "text": [
      "Early stopping = True (25)\n",
      "\n",
      "n = 121\n"
     ]
    },
    {
     "name": "stderr",
     "output_type": "stream",
     "text": [
      "Epochs1:  13%|█▎        | 26/200 [00:00<00:03, 51.29it/s]\n"
     ]
    },
    {
     "name": "stdout",
     "output_type": "stream",
     "text": [
      "Early stopping = True (27)\n",
      "\n",
      "n = 122\n"
     ]
    },
    {
     "name": "stderr",
     "output_type": "stream",
     "text": [
      "Epochs1:  13%|█▎        | 26/200 [00:00<00:03, 51.32it/s]\n"
     ]
    },
    {
     "name": "stdout",
     "output_type": "stream",
     "text": [
      "Early stopping = True (27)\n",
      "\n",
      "n = 123\n"
     ]
    },
    {
     "name": "stderr",
     "output_type": "stream",
     "text": [
      "Epochs1:  13%|█▎        | 26/200 [00:00<00:03, 51.67it/s]\n"
     ]
    },
    {
     "name": "stdout",
     "output_type": "stream",
     "text": [
      "Early stopping = True (27)\n",
      "\n",
      "n = 124\n"
     ]
    },
    {
     "name": "stderr",
     "output_type": "stream",
     "text": [
      "Epochs1:  13%|█▎        | 26/200 [00:00<00:03, 51.18it/s]\n"
     ]
    },
    {
     "name": "stdout",
     "output_type": "stream",
     "text": [
      "Early stopping = True (27)\n",
      "\n",
      "n = 125\n"
     ]
    },
    {
     "name": "stderr",
     "output_type": "stream",
     "text": [
      "Epochs1:  13%|█▎        | 26/200 [00:00<00:03, 51.61it/s]\n"
     ]
    },
    {
     "name": "stdout",
     "output_type": "stream",
     "text": [
      "Early stopping = True (27)\n",
      "\n",
      "n = 126\n"
     ]
    },
    {
     "name": "stderr",
     "output_type": "stream",
     "text": [
      "Epochs1:  13%|█▎        | 26/200 [00:00<00:04, 36.93it/s]\n"
     ]
    },
    {
     "name": "stdout",
     "output_type": "stream",
     "text": [
      "Early stopping = True (27)\n",
      "\n",
      "n = 127\n"
     ]
    },
    {
     "name": "stderr",
     "output_type": "stream",
     "text": [
      "Epochs1:  13%|█▎        | 26/200 [00:00<00:03, 50.07it/s]\n"
     ]
    },
    {
     "name": "stdout",
     "output_type": "stream",
     "text": [
      "Early stopping = True (27)\n",
      "\n",
      "n = 128\n"
     ]
    },
    {
     "name": "stderr",
     "output_type": "stream",
     "text": [
      "Epochs1:  13%|█▎        | 26/200 [00:00<00:03, 49.74it/s]\n"
     ]
    },
    {
     "name": "stdout",
     "output_type": "stream",
     "text": [
      "Early stopping = True (27)\n",
      "\n",
      "n = 129\n"
     ]
    },
    {
     "name": "stderr",
     "output_type": "stream",
     "text": [
      "Epochs1:  13%|█▎        | 26/200 [00:00<00:03, 50.49it/s]\n"
     ]
    },
    {
     "name": "stdout",
     "output_type": "stream",
     "text": [
      "Early stopping = True (27)\n",
      "\n",
      "n = 130\n"
     ]
    },
    {
     "name": "stderr",
     "output_type": "stream",
     "text": [
      "Epochs1:  13%|█▎        | 26/200 [00:00<00:03, 49.24it/s]\n"
     ]
    },
    {
     "name": "stdout",
     "output_type": "stream",
     "text": [
      "Early stopping = True (27)\n",
      "\n",
      "n = 131\n"
     ]
    },
    {
     "name": "stderr",
     "output_type": "stream",
     "text": [
      "Epochs1:  14%|█▎        | 27/200 [00:00<00:04, 37.29it/s]\n"
     ]
    },
    {
     "name": "stdout",
     "output_type": "stream",
     "text": [
      "Early stopping = True (28)\n",
      "\n",
      "n = 132\n"
     ]
    },
    {
     "name": "stderr",
     "output_type": "stream",
     "text": [
      "Epochs1:  13%|█▎        | 26/200 [00:00<00:03, 50.57it/s]\n"
     ]
    },
    {
     "name": "stdout",
     "output_type": "stream",
     "text": [
      "Early stopping = True (27)\n",
      "\n",
      "n = 133\n"
     ]
    },
    {
     "name": "stderr",
     "output_type": "stream",
     "text": [
      "Epochs1:  14%|█▎        | 27/200 [00:00<00:03, 50.31it/s]\n"
     ]
    },
    {
     "name": "stdout",
     "output_type": "stream",
     "text": [
      "Early stopping = True (28)\n",
      "\n",
      "n = 134\n"
     ]
    },
    {
     "name": "stderr",
     "output_type": "stream",
     "text": [
      "Epochs1:  13%|█▎        | 26/200 [00:00<00:03, 51.11it/s]\n"
     ]
    },
    {
     "name": "stdout",
     "output_type": "stream",
     "text": [
      "Early stopping = True (27)\n",
      "\n",
      "n = 135\n"
     ]
    },
    {
     "name": "stderr",
     "output_type": "stream",
     "text": [
      "Epochs1:  13%|█▎        | 26/200 [00:00<00:03, 50.45it/s]\n"
     ]
    },
    {
     "name": "stdout",
     "output_type": "stream",
     "text": [
      "Early stopping = True (27)\n",
      "\n",
      "n = 136\n"
     ]
    },
    {
     "name": "stderr",
     "output_type": "stream",
     "text": [
      "Epochs1:  13%|█▎        | 26/200 [00:00<00:03, 51.37it/s]\n"
     ]
    },
    {
     "name": "stdout",
     "output_type": "stream",
     "text": [
      "Early stopping = True (27)\n",
      "\n",
      "n = 137\n"
     ]
    },
    {
     "name": "stderr",
     "output_type": "stream",
     "text": [
      "Epochs1:  16%|█▌        | 32/200 [00:00<00:03, 51.16it/s]\n"
     ]
    },
    {
     "name": "stdout",
     "output_type": "stream",
     "text": [
      "Early stopping = True (33)\n",
      "\n",
      "n = 138\n"
     ]
    },
    {
     "name": "stderr",
     "output_type": "stream",
     "text": [
      "Epochs1:  12%|█▎        | 25/200 [00:00<00:03, 50.44it/s]\n"
     ]
    },
    {
     "name": "stdout",
     "output_type": "stream",
     "text": [
      "Early stopping = True (26)\n",
      "\n",
      "n = 139\n"
     ]
    },
    {
     "name": "stderr",
     "output_type": "stream",
     "text": [
      "Epochs1:  14%|█▍        | 28/200 [00:00<00:03, 51.16it/s]\n"
     ]
    },
    {
     "name": "stdout",
     "output_type": "stream",
     "text": [
      "Early stopping = True (29)\n",
      "\n",
      "n = 140\n"
     ]
    },
    {
     "name": "stderr",
     "output_type": "stream",
     "text": [
      "Epochs1:  20%|██        | 41/200 [00:01<00:03, 39.90it/s]\n"
     ]
    },
    {
     "name": "stdout",
     "output_type": "stream",
     "text": [
      "Early stopping = True (42)\n",
      "\n",
      "n = 141\n"
     ]
    },
    {
     "name": "stderr",
     "output_type": "stream",
     "text": [
      "Epochs1:  13%|█▎        | 26/200 [00:00<00:03, 49.42it/s]\n"
     ]
    },
    {
     "name": "stdout",
     "output_type": "stream",
     "text": [
      "Early stopping = True (27)\n",
      "\n",
      "n = 142\n"
     ]
    },
    {
     "name": "stderr",
     "output_type": "stream",
     "text": [
      "Epochs1:  14%|█▎        | 27/200 [00:00<00:03, 49.73it/s]\n"
     ]
    },
    {
     "name": "stdout",
     "output_type": "stream",
     "text": [
      "Early stopping = True (28)\n",
      "\n",
      "n = 143\n"
     ]
    },
    {
     "name": "stderr",
     "output_type": "stream",
     "text": [
      "Epochs1:  19%|█▉        | 38/200 [00:00<00:03, 51.64it/s]\n"
     ]
    },
    {
     "name": "stdout",
     "output_type": "stream",
     "text": [
      "Early stopping = True (39)\n",
      "\n",
      "n = 144\n"
     ]
    },
    {
     "name": "stderr",
     "output_type": "stream",
     "text": [
      "Epochs1:  13%|█▎        | 26/200 [00:00<00:03, 51.33it/s]\n"
     ]
    },
    {
     "name": "stdout",
     "output_type": "stream",
     "text": [
      "Early stopping = True (27)\n",
      "\n",
      "n = 145\n"
     ]
    },
    {
     "name": "stderr",
     "output_type": "stream",
     "text": [
      "Epochs1:  16%|█▋        | 33/200 [00:00<00:04, 39.12it/s]\n"
     ]
    },
    {
     "name": "stdout",
     "output_type": "stream",
     "text": [
      "Early stopping = True (34)\n",
      "\n",
      "n = 146\n"
     ]
    },
    {
     "name": "stderr",
     "output_type": "stream",
     "text": [
      "Epochs1:  18%|█▊        | 35/200 [00:00<00:03, 50.61it/s]\n"
     ]
    },
    {
     "name": "stdout",
     "output_type": "stream",
     "text": [
      "Early stopping = True (36)\n",
      "\n",
      "n = 147\n"
     ]
    },
    {
     "name": "stderr",
     "output_type": "stream",
     "text": [
      "Epochs1:  13%|█▎        | 26/200 [00:00<00:03, 50.25it/s]\n"
     ]
    },
    {
     "name": "stdout",
     "output_type": "stream",
     "text": [
      "Early stopping = True (27)\n",
      "\n",
      "n = 148\n"
     ]
    },
    {
     "name": "stderr",
     "output_type": "stream",
     "text": [
      "Epochs1:  15%|█▌        | 30/200 [00:00<00:03, 51.64it/s]\n"
     ]
    },
    {
     "name": "stdout",
     "output_type": "stream",
     "text": [
      "Early stopping = True (31)\n",
      "\n",
      "n = 149\n"
     ]
    },
    {
     "name": "stderr",
     "output_type": "stream",
     "text": [
      "Epochs1:  14%|█▎        | 27/200 [00:00<00:03, 50.72it/s]\n"
     ]
    },
    {
     "name": "stdout",
     "output_type": "stream",
     "text": [
      "Early stopping = True (28)\n",
      "\n",
      "n = 150\n"
     ]
    },
    {
     "name": "stderr",
     "output_type": "stream",
     "text": [
      "Epochs1:  27%|██▋       | 54/200 [00:01<00:02, 52.01it/s]\n"
     ]
    },
    {
     "name": "stdout",
     "output_type": "stream",
     "text": [
      "Early stopping = True (55)\n",
      "\n",
      "n = 151\n"
     ]
    },
    {
     "name": "stderr",
     "output_type": "stream",
     "text": [
      "Epochs1:  28%|██▊       | 56/200 [00:01<00:02, 52.46it/s]\n"
     ]
    },
    {
     "name": "stdout",
     "output_type": "stream",
     "text": [
      "Early stopping = True (57)\n",
      "\n",
      "n = 152\n"
     ]
    },
    {
     "name": "stderr",
     "output_type": "stream",
     "text": [
      "Epochs1:  14%|█▍        | 29/200 [00:00<00:04, 37.96it/s]\n"
     ]
    },
    {
     "name": "stdout",
     "output_type": "stream",
     "text": [
      "Early stopping = True (30)\n",
      "\n",
      "n = 153\n"
     ]
    },
    {
     "name": "stderr",
     "output_type": "stream",
     "text": [
      "Epochs1:  48%|████▊     | 96/200 [00:01<00:01, 52.64it/s]\n"
     ]
    },
    {
     "name": "stdout",
     "output_type": "stream",
     "text": [
      "Early stopping = True (97)\n",
      "\n",
      "n = 154\n"
     ]
    },
    {
     "name": "stderr",
     "output_type": "stream",
     "text": [
      "Epochs1:  14%|█▍        | 28/200 [00:00<00:03, 51.41it/s]\n"
     ]
    },
    {
     "name": "stdout",
     "output_type": "stream",
     "text": [
      "Early stopping = True (29)\n",
      "\n",
      "n = 155\n"
     ]
    },
    {
     "name": "stderr",
     "output_type": "stream",
     "text": [
      "Epochs1:  16%|█▋        | 33/200 [00:00<00:04, 39.34it/s]\n"
     ]
    },
    {
     "name": "stdout",
     "output_type": "stream",
     "text": [
      "Early stopping = True (34)\n",
      "\n",
      "n = 156\n"
     ]
    },
    {
     "name": "stderr",
     "output_type": "stream",
     "text": [
      "Epochs1:  26%|██▌       | 52/200 [00:00<00:02, 52.23it/s]\n"
     ]
    },
    {
     "name": "stdout",
     "output_type": "stream",
     "text": [
      "Early stopping = True (53)\n",
      "\n",
      "n = 157\n"
     ]
    },
    {
     "name": "stderr",
     "output_type": "stream",
     "text": [
      "Epochs1:  16%|█▋        | 33/200 [00:00<00:03, 51.01it/s]\n"
     ]
    },
    {
     "name": "stdout",
     "output_type": "stream",
     "text": [
      "Early stopping = True (34)\n",
      "\n",
      "n = 158\n"
     ]
    },
    {
     "name": "stderr",
     "output_type": "stream",
     "text": [
      "Epochs1:  38%|███▊      | 77/200 [00:01<00:02, 52.35it/s]\n"
     ]
    },
    {
     "name": "stdout",
     "output_type": "stream",
     "text": [
      "Early stopping = True (78)\n",
      "\n",
      "n = 159\n"
     ]
    },
    {
     "name": "stderr",
     "output_type": "stream",
     "text": [
      "Epochs1:  24%|██▍       | 48/200 [00:00<00:02, 50.72it/s]\n"
     ]
    },
    {
     "name": "stdout",
     "output_type": "stream",
     "text": [
      "Early stopping = True (49)\n",
      "\n",
      "n = 160\n"
     ]
    },
    {
     "name": "stderr",
     "output_type": "stream",
     "text": [
      "Epochs1:  78%|███████▊  | 157/200 [00:03<00:00, 49.62it/s]\n"
     ]
    },
    {
     "name": "stdout",
     "output_type": "stream",
     "text": [
      "Early stopping = True (158)\n",
      "\n",
      "n = 161\n"
     ]
    },
    {
     "name": "stderr",
     "output_type": "stream",
     "text": [
      "Epochs1:  85%|████████▌ | 170/200 [00:03<00:00, 50.58it/s]\n"
     ]
    },
    {
     "name": "stdout",
     "output_type": "stream",
     "text": [
      "Early stopping = True (171)\n",
      "\n",
      "n = 162\n"
     ]
    },
    {
     "name": "stderr",
     "output_type": "stream",
     "text": [
      "Epochs1:  16%|█▋        | 33/200 [00:00<00:03, 50.89it/s]\n"
     ]
    },
    {
     "name": "stdout",
     "output_type": "stream",
     "text": [
      "Early stopping = True (34)\n",
      "\n",
      "n = 163\n"
     ]
    },
    {
     "name": "stderr",
     "output_type": "stream",
     "text": [
      "Epochs1:  25%|██▌       | 50/200 [00:00<00:02, 52.41it/s]\n"
     ]
    },
    {
     "name": "stdout",
     "output_type": "stream",
     "text": [
      "Early stopping = True (51)\n",
      "\n",
      "n = 164\n"
     ]
    },
    {
     "name": "stderr",
     "output_type": "stream",
     "text": [
      "Epochs1:  40%|████      | 81/200 [00:01<00:02, 46.23it/s]\n"
     ]
    },
    {
     "name": "stdout",
     "output_type": "stream",
     "text": [
      "Early stopping = True (82)\n",
      "\n",
      "n = 165\n"
     ]
    },
    {
     "name": "stderr",
     "output_type": "stream",
     "text": [
      "Epochs1:  36%|███▌      | 71/200 [00:01<00:02, 52.18it/s]\n"
     ]
    },
    {
     "name": "stdout",
     "output_type": "stream",
     "text": [
      "Early stopping = True (72)\n",
      "\n",
      "n = 166\n"
     ]
    },
    {
     "name": "stderr",
     "output_type": "stream",
     "text": [
      "Epochs1:  18%|█▊        | 37/200 [00:00<00:03, 40.80it/s]\n"
     ]
    },
    {
     "name": "stdout",
     "output_type": "stream",
     "text": [
      "Early stopping = True (38)\n",
      "\n",
      "n = 167\n"
     ]
    },
    {
     "name": "stderr",
     "output_type": "stream",
     "text": [
      "Epochs1:  98%|█████████▊| 196/200 [00:03<00:00, 53.91it/s]\n"
     ]
    },
    {
     "name": "stdout",
     "output_type": "stream",
     "text": [
      "Early stopping = True (197)\n",
      "\n",
      "n = 168\n"
     ]
    },
    {
     "name": "stderr",
     "output_type": "stream",
     "text": [
      "Epochs1:  16%|█▌        | 32/200 [00:00<00:03, 52.06it/s]\n"
     ]
    },
    {
     "name": "stdout",
     "output_type": "stream",
     "text": [
      "Early stopping = True (33)\n",
      "\n",
      "n = 169\n"
     ]
    },
    {
     "name": "stderr",
     "output_type": "stream",
     "text": [
      "Epochs1: 100%|██████████| 200/200 [00:04<00:00, 48.95it/s]\n"
     ]
    },
    {
     "name": "stdout",
     "output_type": "stream",
     "text": [
      "Early stopping = False (200)\n",
      "\n",
      "n = 170\n"
     ]
    },
    {
     "name": "stderr",
     "output_type": "stream",
     "text": [
      "Epochs1:  70%|███████   | 141/200 [00:02<00:01, 53.73it/s]\n"
     ]
    },
    {
     "name": "stdout",
     "output_type": "stream",
     "text": [
      "Early stopping = True (142)\n",
      "\n",
      "n = 171\n"
     ]
    },
    {
     "name": "stderr",
     "output_type": "stream",
     "text": [
      "Epochs1:  34%|███▍      | 68/200 [00:01<00:02, 53.40it/s]\n"
     ]
    },
    {
     "name": "stdout",
     "output_type": "stream",
     "text": [
      "Early stopping = True (69)\n",
      "\n",
      "n = 172\n"
     ]
    },
    {
     "name": "stderr",
     "output_type": "stream",
     "text": [
      "Epochs1:  80%|████████  | 161/200 [00:03<00:00, 50.41it/s]\n"
     ]
    },
    {
     "name": "stdout",
     "output_type": "stream",
     "text": [
      "Early stopping = True (162)\n",
      "\n",
      "n = 173\n"
     ]
    },
    {
     "name": "stderr",
     "output_type": "stream",
     "text": [
      "Epochs1:  67%|██████▋   | 134/200 [00:02<00:01, 49.63it/s]\n"
     ]
    },
    {
     "name": "stdout",
     "output_type": "stream",
     "text": [
      "Early stopping = True (135)\n",
      "\n",
      "n = 174\n"
     ]
    },
    {
     "name": "stderr",
     "output_type": "stream",
     "text": [
      "Epochs1: 100%|██████████| 200/200 [00:03<00:00, 51.56it/s]\n"
     ]
    },
    {
     "name": "stdout",
     "output_type": "stream",
     "text": [
      "Early stopping = False (200)\n",
      "\n",
      "n = 175\n"
     ]
    },
    {
     "name": "stderr",
     "output_type": "stream",
     "text": [
      "Epochs1:  19%|█▉        | 38/200 [00:00<00:03, 51.77it/s]\n"
     ]
    },
    {
     "name": "stdout",
     "output_type": "stream",
     "text": [
      "Early stopping = True (39)\n",
      "\n",
      "n = 176\n"
     ]
    },
    {
     "name": "stderr",
     "output_type": "stream",
     "text": [
      "Epochs1:  31%|███       | 62/200 [00:01<00:02, 52.83it/s]\n"
     ]
    },
    {
     "name": "stdout",
     "output_type": "stream",
     "text": [
      "Early stopping = True (63)\n",
      "\n",
      "n = 177\n"
     ]
    },
    {
     "name": "stderr",
     "output_type": "stream",
     "text": [
      "Epochs1: 100%|██████████| 200/200 [00:03<00:00, 51.50it/s]\n"
     ]
    },
    {
     "name": "stdout",
     "output_type": "stream",
     "text": [
      "Early stopping = False (200)\n",
      "\n",
      "n = 178\n"
     ]
    },
    {
     "name": "stderr",
     "output_type": "stream",
     "text": [
      "Epochs1:  60%|█████▉    | 119/200 [00:02<00:01, 49.26it/s]\n"
     ]
    },
    {
     "name": "stdout",
     "output_type": "stream",
     "text": [
      "Early stopping = True (120)\n",
      "\n",
      "n = 179\n"
     ]
    },
    {
     "name": "stderr",
     "output_type": "stream",
     "text": [
      "Epochs1: 100%|██████████| 200/200 [00:03<00:00, 51.58it/s]\n"
     ]
    },
    {
     "name": "stdout",
     "output_type": "stream",
     "text": [
      "Early stopping = False (200)\n",
      "\n",
      "n = 180\n"
     ]
    },
    {
     "name": "stderr",
     "output_type": "stream",
     "text": [
      "Epochs1: 100%|██████████| 200/200 [00:03<00:00, 51.58it/s]\n"
     ]
    },
    {
     "name": "stdout",
     "output_type": "stream",
     "text": [
      "Early stopping = False (200)\n",
      "\n",
      "n = 181\n"
     ]
    },
    {
     "name": "stderr",
     "output_type": "stream",
     "text": [
      "Epochs1: 100%|██████████| 200/200 [00:03<00:00, 51.33it/s]\n"
     ]
    },
    {
     "name": "stdout",
     "output_type": "stream",
     "text": [
      "Early stopping = False (200)\n",
      "\n",
      "n = 182\n"
     ]
    },
    {
     "name": "stderr",
     "output_type": "stream",
     "text": [
      "Epochs1: 100%|██████████| 200/200 [00:03<00:00, 50.62it/s]\n"
     ]
    },
    {
     "name": "stdout",
     "output_type": "stream",
     "text": [
      "Early stopping = False (200)\n",
      "\n",
      "n = 183\n"
     ]
    },
    {
     "name": "stderr",
     "output_type": "stream",
     "text": [
      "Epochs1: 100%|██████████| 200/200 [00:03<00:00, 50.17it/s]\n"
     ]
    },
    {
     "name": "stdout",
     "output_type": "stream",
     "text": [
      "Early stopping = False (200)\n",
      "\n",
      "n = 184\n"
     ]
    },
    {
     "name": "stderr",
     "output_type": "stream",
     "text": [
      "Epochs1: 100%|██████████| 200/200 [00:03<00:00, 53.38it/s]\n"
     ]
    },
    {
     "name": "stdout",
     "output_type": "stream",
     "text": [
      "Early stopping = False (200)\n",
      "\n",
      "n = 185\n"
     ]
    },
    {
     "name": "stderr",
     "output_type": "stream",
     "text": [
      "Epochs1: 100%|██████████| 200/200 [00:04<00:00, 48.96it/s]\n"
     ]
    },
    {
     "name": "stdout",
     "output_type": "stream",
     "text": [
      "Early stopping = False (200)\n",
      "\n",
      "n = 186\n"
     ]
    },
    {
     "name": "stderr",
     "output_type": "stream",
     "text": [
      "Epochs1: 100%|██████████| 200/200 [00:03<00:00, 54.07it/s]\n"
     ]
    },
    {
     "name": "stdout",
     "output_type": "stream",
     "text": [
      "Early stopping = False (200)\n",
      "\n",
      "n = 187\n"
     ]
    },
    {
     "name": "stderr",
     "output_type": "stream",
     "text": [
      "Epochs1: 100%|██████████| 200/200 [00:04<00:00, 48.92it/s]\n"
     ]
    },
    {
     "name": "stdout",
     "output_type": "stream",
     "text": [
      "Early stopping = False (200)\n",
      "\n",
      "n = 188\n"
     ]
    },
    {
     "name": "stderr",
     "output_type": "stream",
     "text": [
      "Epochs1: 100%|██████████| 200/200 [00:03<00:00, 53.97it/s]\n"
     ]
    },
    {
     "name": "stdout",
     "output_type": "stream",
     "text": [
      "Early stopping = False (200)\n",
      "\n",
      "n = 189\n"
     ]
    },
    {
     "name": "stderr",
     "output_type": "stream",
     "text": [
      "Epochs1: 100%|██████████| 200/200 [00:03<00:00, 51.34it/s]\n"
     ]
    },
    {
     "name": "stdout",
     "output_type": "stream",
     "text": [
      "Early stopping = False (200)\n",
      "\n",
      "n = 190\n"
     ]
    },
    {
     "name": "stderr",
     "output_type": "stream",
     "text": [
      "Epochs1: 100%|██████████| 200/200 [00:03<00:00, 51.30it/s]\n"
     ]
    },
    {
     "name": "stdout",
     "output_type": "stream",
     "text": [
      "Early stopping = False (200)\n",
      "\n",
      "n = 191\n"
     ]
    },
    {
     "name": "stderr",
     "output_type": "stream",
     "text": [
      "Epochs1: 100%|██████████| 200/200 [00:03<00:00, 51.33it/s]\n"
     ]
    },
    {
     "name": "stdout",
     "output_type": "stream",
     "text": [
      "Early stopping = False (200)\n",
      "\n",
      "n = 192\n"
     ]
    },
    {
     "name": "stderr",
     "output_type": "stream",
     "text": [
      "Epochs1: 100%|██████████| 200/200 [00:03<00:00, 51.07it/s]\n"
     ]
    },
    {
     "name": "stdout",
     "output_type": "stream",
     "text": [
      "Early stopping = False (200)\n",
      "\n",
      "n = 193\n"
     ]
    },
    {
     "name": "stderr",
     "output_type": "stream",
     "text": [
      "Epochs1: 100%|██████████| 200/200 [00:03<00:00, 50.87it/s]\n"
     ]
    },
    {
     "name": "stdout",
     "output_type": "stream",
     "text": [
      "Early stopping = False (200)\n",
      "\n",
      "n = 194\n"
     ]
    },
    {
     "name": "stderr",
     "output_type": "stream",
     "text": [
      "Epochs1: 100%|██████████| 200/200 [00:03<00:00, 50.85it/s]\n"
     ]
    },
    {
     "name": "stdout",
     "output_type": "stream",
     "text": [
      "Early stopping = False (200)\n",
      "\n",
      "n = 195\n"
     ]
    },
    {
     "name": "stderr",
     "output_type": "stream",
     "text": [
      "Epochs1: 100%|██████████| 200/200 [00:03<00:00, 50.84it/s]\n"
     ]
    },
    {
     "name": "stdout",
     "output_type": "stream",
     "text": [
      "Early stopping = False (200)\n",
      "\n",
      "n = 196\n"
     ]
    },
    {
     "name": "stderr",
     "output_type": "stream",
     "text": [
      "Epochs1: 100%|██████████| 200/200 [00:03<00:00, 50.91it/s]\n"
     ]
    },
    {
     "name": "stdout",
     "output_type": "stream",
     "text": [
      "Early stopping = False (200)\n",
      "\n",
      "n = 197\n"
     ]
    },
    {
     "name": "stderr",
     "output_type": "stream",
     "text": [
      "Epochs1: 100%|██████████| 200/200 [00:03<00:00, 51.10it/s]\n"
     ]
    },
    {
     "name": "stdout",
     "output_type": "stream",
     "text": [
      "Early stopping = False (200)\n",
      "\n",
      "n = 198\n"
     ]
    },
    {
     "name": "stderr",
     "output_type": "stream",
     "text": [
      "Epochs1: 100%|██████████| 200/200 [00:03<00:00, 51.03it/s]\n"
     ]
    },
    {
     "name": "stdout",
     "output_type": "stream",
     "text": [
      "Early stopping = False (200)\n",
      "\n",
      "n = 199\n"
     ]
    },
    {
     "name": "stderr",
     "output_type": "stream",
     "text": [
      "Epochs1: 100%|██████████| 200/200 [00:03<00:00, 50.67it/s]\n"
     ]
    },
    {
     "name": "stdout",
     "output_type": "stream",
     "text": [
      "Early stopping = False (200)\n",
      "\n",
      "n = 200\n"
     ]
    },
    {
     "name": "stderr",
     "output_type": "stream",
     "text": [
      "Epochs1: 100%|██████████| 200/200 [00:03<00:00, 51.08it/s]"
     ]
    },
    {
     "name": "stdout",
     "output_type": "stream",
     "text": [
      "Early stopping = False (200)\n",
      "\n",
      "Best validation at iteration = 198\n"
     ]
    },
    {
     "name": "stderr",
     "output_type": "stream",
     "text": [
      "\n"
     ]
    }
   ],
   "source": [
    "from lockout import Lockout\n",
    "\n",
    "regul_type = [('linear_layers.0.weight', 1)]\n",
    "regul_path = [('linear_layers.0.weight', True)]\n",
    "\n",
    "# List of tuples (or dictionary) of the form [(layer_name, t0_number)] where:\n",
    "# - layer_name: layer name in the input model (string)\n",
    "# - t0_number: number of constraint values t0 to be linearly sampled (integer)\n",
    "t0_points    = {'linear_layers.0.weight': 200}\n",
    "\n",
    "# Instantiate Lockout\n",
    "lockout_option2b = Lockout(lockout_forward.model_best_valid,  # initial network\n",
    "                          lr=1e-2, \n",
    "                          loss_type=1,\n",
    "                          regul_type=regul_type,\n",
    "                          regul_path=regul_path, \n",
    "                          t0_points=t0_points)\n",
    "\n",
    "# Train Neural Network With Lockout\n",
    "lockout_option2b.train(dl_train, dl_valid, \n",
    "                      train_how=\"sampling_t0\", \n",
    "                      epochs=5000,             # Max number of epochs used for first t0\n",
    "                      epochs2=200,             # Max number of epochs used for the rest of the t0 values\n",
    "                      early_stopping=20, \n",
    "                      tol_loss=1e-4)"
   ]
  },
  {
   "cell_type": "code",
   "execution_count": 186,
   "id": "equipped-melbourne",
   "metadata": {
    "ExecuteTime": {
     "end_time": "2021-08-03T16:59:24.661283Z",
     "start_time": "2021-08-03T16:59:24.654428Z"
    }
   },
   "outputs": [
    {
     "data": {
      "text/html": [
       "<div>\n",
       "<style scoped>\n",
       "    .dataframe tbody tr th:only-of-type {\n",
       "        vertical-align: middle;\n",
       "    }\n",
       "\n",
       "    .dataframe tbody tr th {\n",
       "        vertical-align: top;\n",
       "    }\n",
       "\n",
       "    .dataframe thead th {\n",
       "        text-align: right;\n",
       "    }\n",
       "</style>\n",
       "<table border=\"1\" class=\"dataframe\">\n",
       "  <thead>\n",
       "    <tr style=\"text-align: right;\">\n",
       "      <th></th>\n",
       "      <th>iteration</th>\n",
       "      <th>sparcity__linear_layers.0.weight</th>\n",
       "      <th>t0_calc__linear_layers.0.weight</th>\n",
       "      <th>t0_used__linear_layers.0.weight</th>\n",
       "      <th>train_loss</th>\n",
       "      <th>valid_loss</th>\n",
       "      <th>train_accu</th>\n",
       "      <th>valid_accu</th>\n",
       "    </tr>\n",
       "  </thead>\n",
       "  <tbody>\n",
       "    <tr>\n",
       "      <th>0</th>\n",
       "      <td>980</td>\n",
       "      <td>1.0</td>\n",
       "      <td>54.207325</td>\n",
       "      <td>54.207119</td>\n",
       "      <td>0.034422</td>\n",
       "      <td>0.891790</td>\n",
       "      <td>0.965578</td>\n",
       "      <td>0.170606</td>\n",
       "    </tr>\n",
       "    <tr>\n",
       "      <th>1</th>\n",
       "      <td>24</td>\n",
       "      <td>1.0</td>\n",
       "      <td>53.935425</td>\n",
       "      <td>53.934721</td>\n",
       "      <td>0.033113</td>\n",
       "      <td>0.893095</td>\n",
       "      <td>0.966887</td>\n",
       "      <td>0.169392</td>\n",
       "    </tr>\n",
       "    <tr>\n",
       "      <th>2</th>\n",
       "      <td>24</td>\n",
       "      <td>1.0</td>\n",
       "      <td>53.663013</td>\n",
       "      <td>53.662324</td>\n",
       "      <td>0.031916</td>\n",
       "      <td>0.895570</td>\n",
       "      <td>0.968084</td>\n",
       "      <td>0.167090</td>\n",
       "    </tr>\n",
       "    <tr>\n",
       "      <th>3</th>\n",
       "      <td>24</td>\n",
       "      <td>1.0</td>\n",
       "      <td>53.390324</td>\n",
       "      <td>53.389926</td>\n",
       "      <td>0.030784</td>\n",
       "      <td>0.897732</td>\n",
       "      <td>0.969216</td>\n",
       "      <td>0.165079</td>\n",
       "    </tr>\n",
       "    <tr>\n",
       "      <th>4</th>\n",
       "      <td>25</td>\n",
       "      <td>1.0</td>\n",
       "      <td>53.118298</td>\n",
       "      <td>53.117529</td>\n",
       "      <td>0.029654</td>\n",
       "      <td>0.898822</td>\n",
       "      <td>0.970346</td>\n",
       "      <td>0.164066</td>\n",
       "    </tr>\n",
       "  </tbody>\n",
       "</table>\n",
       "</div>"
      ],
      "text/plain": [
       "  iteration  sparcity__linear_layers.0.weight  \\\n",
       "0       980                               1.0   \n",
       "1        24                               1.0   \n",
       "2        24                               1.0   \n",
       "3        24                               1.0   \n",
       "4        25                               1.0   \n",
       "\n",
       "   t0_calc__linear_layers.0.weight  t0_used__linear_layers.0.weight  \\\n",
       "0                        54.207325                        54.207119   \n",
       "1                        53.935425                        53.934721   \n",
       "2                        53.663013                        53.662324   \n",
       "3                        53.390324                        53.389926   \n",
       "4                        53.118298                        53.117529   \n",
       "\n",
       "   train_loss  valid_loss  train_accu  valid_accu  \n",
       "0    0.034422    0.891790    0.965578    0.170606  \n",
       "1    0.033113    0.893095    0.966887    0.169392  \n",
       "2    0.031916    0.895570    0.968084    0.167090  \n",
       "3    0.030784    0.897732    0.969216    0.165079  \n",
       "4    0.029654    0.898822    0.970346    0.164066  "
      ]
     },
     "execution_count": 186,
     "metadata": {},
     "output_type": "execute_result"
    }
   ],
   "source": [
    "# Path Data\n",
    "df2b = lockout_option2b.path_data\n",
    "df2b.head()"
   ]
  },
  {
   "cell_type": "code",
   "execution_count": 136,
   "id": "saving-paintball",
   "metadata": {
    "ExecuteTime": {
     "end_time": "2021-08-03T02:42:46.267434Z",
     "start_time": "2021-08-03T02:42:46.264902Z"
    }
   },
   "outputs": [],
   "source": [
    "# Save Model At Validation Minimum\n",
    "model_lockout_option2b = lockout_option2b.model_best_valid\n",
    "save_model(model_lockout_option2b, 'model_lockout_option2b.pth')"
   ]
  },
  {
   "cell_type": "code",
   "execution_count": 137,
   "id": "cultural-minneapolis",
   "metadata": {
    "ExecuteTime": {
     "end_time": "2021-08-03T02:43:09.604580Z",
     "start_time": "2021-08-03T02:43:09.584937Z"
    }
   },
   "outputs": [
    {
     "name": "stdout",
     "output_type": "stream",
     "text": [
      "Test R2 (unconstrained) = 0.655\n",
      "Test R2 (lockout)       = 0.956\n"
     ]
    }
   ],
   "source": [
    "# Compute Test Accuracy\n",
    "import torch\n",
    "from lockout.pytorch_utils import dataset_r2\n",
    "\n",
    "device = torch.device('cpu')\n",
    "r2_test_forward, _   = dataset_r2(dl_test, model_forward_best, device)\n",
    "r2_test_lockout2b, _ = dataset_r2(dl_test, model_lockout_option2b, device)\n",
    "print(\"Test R2 (unconstrained) = {:.3f}\".format(r2_test_forward))\n",
    "print(\"Test R2 (lockout)       = {:.3f}\".format(r2_test_lockout2b))"
   ]
  },
  {
   "cell_type": "code",
   "execution_count": 22,
   "id": "legislative-wings",
   "metadata": {
    "ExecuteTime": {
     "end_time": "2021-08-03T18:31:02.445836Z",
     "start_time": "2021-08-03T18:31:02.102239Z"
    }
   },
   "outputs": [
    {
     "data": {
      "image/png": "[encoded data removed]",
      "text/plain": [
       "<Figure size 648x432 with 1 Axes>"
      ]
     },
     "metadata": {
      "needs_background": "light"
     },
     "output_type": "display_data"
    }
   ],
   "source": [
    "# Graph Feature Importance\n",
    "import matplotlib.pyplot as plt\n",
    "import numpy as np\n",
    "from lockout.pytorch_utils import get_features_importance\n",
    "\n",
    "importance = get_features_importance(model_lockout_option2b, 'linear_layers.0.weight')\n",
    "\n",
    "fig, axes = plt.subplots(figsize=(9,6))\n",
    "x_pos = np.arange(len(importance))\n",
    "axes.bar(x_pos, importance, zorder=2)\n",
    "axes.set_xticks(x_pos)\n",
    "axes.set_xticklabels(importance.index, rotation='vertical')\n",
    "axes.set_xlim(-1,len(x_pos))\n",
    "axes.tick_params(axis='both', which='major', labelsize=14)\n",
    "axes.set_ylabel('Importance', fontsize=16)\n",
    "axes.set_xlabel('feature', fontsize=16)\n",
    "axes.set_title('Lockout', fontsize=16)\n",
    "axes.grid(True, zorder=1)\n",
    "\n",
    "plt.tight_layout()\n",
    "plt.savefig('feature_importance_lockout2b.pdf', bbox_inches='tight')\n",
    "plt.show()"
   ]
  },
  {
   "cell_type": "markdown",
   "id": "geographic-gnome",
   "metadata": {
    "ExecuteTime": {
     "end_time": "2021-08-02T06:36:00.537470Z",
     "start_time": "2021-08-02T06:36:00.535104Z"
    }
   },
   "source": [
    "## Lockout Training: Option 3\n",
    "Within this option, the neural network is trained with a single (constant) value of $t_0$ until the regularization path is found."
   ]
  },
  {
   "cell_type": "code",
   "execution_count": 5,
   "id": "polyphonic-animal",
   "metadata": {
    "ExecuteTime": {
     "end_time": "2021-08-03T18:18:00.060429Z",
     "start_time": "2021-08-03T18:17:39.326907Z"
    },
    "scrolled": true
   },
   "outputs": [
    {
     "name": "stderr",
     "output_type": "stream",
     "text": [
      "Epochs1:  11%|█         | 1070/10000 [00:20<02:52, 51.66it/s]"
     ]
    },
    {
     "name": "stdout",
     "output_type": "stream",
     "text": [
      "Early stopping = True\n",
      "Last iteration = 1071\n",
      "Best validation at iteration = 936\n"
     ]
    },
    {
     "name": "stderr",
     "output_type": "stream",
     "text": [
      "\n"
     ]
    }
   ],
   "source": [
    "from lockout import Lockout\n",
    "\n",
    "regul_type = [('linear_layers.0.weight', 1)]\n",
    "\n",
    "# List of tuples (or dictionary) of the form [(layer_name, t0_value)] where:\n",
    "# - layer_name: layer name in the input model (string)\n",
    "# - t0_value: constraint value t0 used in the layer (tensor)\n",
    "t0 = {'linear_layers.0.weight': torch.tensor(0.4)}\n",
    "\n",
    "# Instantiate Lockout\n",
    "lockout_option3 = Lockout(model_lockout_option2b,  # initial network\n",
    "                          lr=1e-3, \n",
    "                          loss_type=1,\n",
    "                          regul_type=regul_type,\n",
    "                          t0=t0)\n",
    "\n",
    "# Train Neural Network With Lockout\n",
    "lockout_option3.train(dl_train, dl_valid, \n",
    "                      train_how=\"constant_t0\", \n",
    "                      epochs=10000,              # Max number of epochs\n",
    "                      early_stopping=20, \n",
    "                      tol_loss=1e-5)"
   ]
  },
  {
   "cell_type": "code",
   "execution_count": 14,
   "id": "stuck-collection",
   "metadata": {
    "ExecuteTime": {
     "end_time": "2021-08-03T18:25:32.774924Z",
     "start_time": "2021-08-03T18:25:32.767236Z"
    }
   },
   "outputs": [
    {
     "data": {
      "text/html": [
       "<div>\n",
       "<style scoped>\n",
       "    .dataframe tbody tr th:only-of-type {\n",
       "        vertical-align: middle;\n",
       "    }\n",
       "\n",
       "    .dataframe tbody tr th {\n",
       "        vertical-align: top;\n",
       "    }\n",
       "\n",
       "    .dataframe thead th {\n",
       "        text-align: right;\n",
       "    }\n",
       "</style>\n",
       "<table border=\"1\" class=\"dataframe\">\n",
       "  <thead>\n",
       "    <tr style=\"text-align: right;\">\n",
       "      <th></th>\n",
       "      <th>iteration</th>\n",
       "      <th>sparcity__linear_layers.0.weight</th>\n",
       "      <th>t0_calc__linear_layers.0.weight</th>\n",
       "      <th>t0_used__linear_layers.0.weight</th>\n",
       "      <th>train_loss</th>\n",
       "      <th>valid_loss</th>\n",
       "      <th>train_accu</th>\n",
       "      <th>valid_accu</th>\n",
       "    </tr>\n",
       "  </thead>\n",
       "  <tbody>\n",
       "    <tr>\n",
       "      <th>1066</th>\n",
       "      <td>1067</td>\n",
       "      <td>0.07</td>\n",
       "      <td>0.4</td>\n",
       "      <td>0.4</td>\n",
       "      <td>0.501023</td>\n",
       "      <td>0.565949</td>\n",
       "      <td>0.498977</td>\n",
       "      <td>0.473649</td>\n",
       "    </tr>\n",
       "    <tr>\n",
       "      <th>1067</th>\n",
       "      <td>1068</td>\n",
       "      <td>0.07</td>\n",
       "      <td>0.4</td>\n",
       "      <td>0.4</td>\n",
       "      <td>0.501015</td>\n",
       "      <td>0.565923</td>\n",
       "      <td>0.498985</td>\n",
       "      <td>0.473673</td>\n",
       "    </tr>\n",
       "    <tr>\n",
       "      <th>1068</th>\n",
       "      <td>1069</td>\n",
       "      <td>0.07</td>\n",
       "      <td>0.4</td>\n",
       "      <td>0.4</td>\n",
       "      <td>0.501021</td>\n",
       "      <td>0.565942</td>\n",
       "      <td>0.498979</td>\n",
       "      <td>0.473655</td>\n",
       "    </tr>\n",
       "    <tr>\n",
       "      <th>1069</th>\n",
       "      <td>1070</td>\n",
       "      <td>0.07</td>\n",
       "      <td>0.4</td>\n",
       "      <td>0.4</td>\n",
       "      <td>0.501016</td>\n",
       "      <td>0.566030</td>\n",
       "      <td>0.498984</td>\n",
       "      <td>0.473573</td>\n",
       "    </tr>\n",
       "    <tr>\n",
       "      <th>1070</th>\n",
       "      <td>1071</td>\n",
       "      <td>0.07</td>\n",
       "      <td>0.4</td>\n",
       "      <td>0.4</td>\n",
       "      <td>0.501018</td>\n",
       "      <td>0.566230</td>\n",
       "      <td>0.498982</td>\n",
       "      <td>0.473387</td>\n",
       "    </tr>\n",
       "  </tbody>\n",
       "</table>\n",
       "</div>"
      ],
      "text/plain": [
       "     iteration  sparcity__linear_layers.0.weight  \\\n",
       "1066      1067                              0.07   \n",
       "1067      1068                              0.07   \n",
       "1068      1069                              0.07   \n",
       "1069      1070                              0.07   \n",
       "1070      1071                              0.07   \n",
       "\n",
       "      t0_calc__linear_layers.0.weight  t0_used__linear_layers.0.weight  \\\n",
       "1066                              0.4                              0.4   \n",
       "1067                              0.4                              0.4   \n",
       "1068                              0.4                              0.4   \n",
       "1069                              0.4                              0.4   \n",
       "1070                              0.4                              0.4   \n",
       "\n",
       "      train_loss  valid_loss  train_accu  valid_accu  \n",
       "1066    0.501023    0.565949    0.498977    0.473649  \n",
       "1067    0.501015    0.565923    0.498985    0.473673  \n",
       "1068    0.501021    0.565942    0.498979    0.473655  \n",
       "1069    0.501016    0.566030    0.498984    0.473573  \n",
       "1070    0.501018    0.566230    0.498982    0.473387  "
      ]
     },
     "execution_count": 14,
     "metadata": {},
     "output_type": "execute_result"
    }
   ],
   "source": [
    "# Path Data\n",
    "df3 = lockout_option3.path_data\n",
    "df3.tail()"
   ]
  },
  {
   "cell_type": "code",
   "execution_count": 15,
   "id": "bottom-sunglasses",
   "metadata": {
    "ExecuteTime": {
     "end_time": "2021-08-03T18:25:50.610431Z",
     "start_time": "2021-08-03T18:25:50.607795Z"
    }
   },
   "outputs": [],
   "source": [
    "# Save Model At Regularization Path\n",
    "from lockout.pytorch_utils import save_model\n",
    "\n",
    "model_lockout_option3 = lockout_option3.model_last\n",
    "save_model(model_lockout_option3, 'model_lockout_option3.pth')"
   ]
  },
  {
   "cell_type": "code",
   "execution_count": 20,
   "id": "presidential-order",
   "metadata": {
    "ExecuteTime": {
     "end_time": "2021-08-03T18:28:20.839298Z",
     "start_time": "2021-08-03T18:28:20.819762Z"
    }
   },
   "outputs": [
    {
     "name": "stdout",
     "output_type": "stream",
     "text": [
      "Test R2 (unconstrained) = 0.655\n",
      "Test R2 (lockout)       = 0.954\n"
     ]
    }
   ],
   "source": [
    "# Compute Test Accuracy\n",
    "import torch\n",
    "from lockout.pytorch_utils import dataset_r2\n",
    "\n",
    "device = torch.device('cpu')\n",
    "r2_test_forward, _  = dataset_r2(dl_test, model_forward_best, device)\n",
    "r2_test_lockout3, _ = dataset_r2(dl_test, model_lockout_option3, device)\n",
    "print(\"Test R2 (unconstrained) = {:.3f}\".format(r2_test_forward))\n",
    "print(\"Test R2 (lockout)       = {:.3f}\".format(r2_test_lockout3))"
   ]
  },
  {
   "cell_type": "code",
   "execution_count": 23,
   "id": "instrumental-competition",
   "metadata": {
    "ExecuteTime": {
     "end_time": "2021-08-03T18:31:43.671332Z",
     "start_time": "2021-08-03T18:31:43.487697Z"
    }
   },
   "outputs": [
    {
     "data": {
      "image/png": "[encoded data removed]",
      "text/plain": [
       "<Figure size 648x432 with 1 Axes>"
      ]
     },
     "metadata": {
      "needs_background": "light"
     },
     "output_type": "display_data"
    }
   ],
   "source": [
    "# Graph Feature Importance\n",
    "import matplotlib.pyplot as plt\n",
    "import numpy as np\n",
    "from lockout.pytorch_utils import get_features_importance\n",
    "\n",
    "importance = get_features_importance(model_lockout_option3, 'linear_layers.0.weight')\n",
    "\n",
    "fig, axes = plt.subplots(figsize=(9,6))\n",
    "x_pos = np.arange(len(importance))\n",
    "axes.bar(x_pos, importance, zorder=2)\n",
    "axes.set_xticks(x_pos)\n",
    "axes.set_xticklabels(importance.index, rotation='vertical')\n",
    "axes.set_xlim(-1,len(x_pos))\n",
    "axes.tick_params(axis='both', which='major', labelsize=14)\n",
    "axes.set_ylabel('Importance', fontsize=16)\n",
    "axes.set_xlabel('feature', fontsize=16)\n",
    "axes.set_title('Lockout', fontsize=16)\n",
    "axes.grid(True, zorder=1)\n",
    "\n",
    "plt.tight_layout()\n",
    "plt.savefig('feature_importance_lockout3.pdf', bbox_inches='tight')\n",
    "plt.show()"
   ]
  },
  {
   "cell_type": "markdown",
   "id": "collected-columbia",
   "metadata": {
    "ExecuteTime": {
     "end_time": "2021-08-02T06:36:00.537470Z",
     "start_time": "2021-08-02T06:36:00.535104Z"
    }
   },
   "source": [
    "## Lockout Training: Option 4\n",
    "Within this option, the neural network is trained until the regularization path is found. The contraint value used, $t_0$ is computed from the input model."
   ]
  },
  {
   "cell_type": "code",
   "execution_count": 29,
   "id": "indian-crowd",
   "metadata": {
    "ExecuteTime": {
     "end_time": "2021-08-03T19:13:01.427633Z",
     "start_time": "2021-08-03T19:12:23.079507Z"
    },
    "scrolled": true
   },
   "outputs": [
    {
     "name": "stderr",
     "output_type": "stream",
     "text": [
      "Epochs1:  20%|██        | 2011/10000 [00:38<02:32, 52.46it/s]"
     ]
    },
    {
     "name": "stdout",
     "output_type": "stream",
     "text": [
      "Early stopping = True\n",
      "Last iteration = 2012\n",
      "Best validation at iteration = 4\n"
     ]
    },
    {
     "name": "stderr",
     "output_type": "stream",
     "text": [
      "\n"
     ]
    }
   ],
   "source": [
    "from lockout import Lockout\n",
    "\n",
    "regul_type = [('linear_layers.0.weight', 1)]\n",
    "\n",
    "# Instantiate Lockout\n",
    "lockout_option4 = Lockout(model_forward_best,  # initial network\n",
    "                          lr=1e-2, \n",
    "                          loss_type=1,\n",
    "                          regul_type=regul_type)\n",
    "\n",
    "# Train Neural Network With Lockout\n",
    "lockout_option4.train(dl_train, dl_valid, \n",
    "                      train_how=\"until_path\", \n",
    "                      epochs=10000,            # Max number of epochs\n",
    "                      early_stopping=20, \n",
    "                      tol_loss=1e-5)"
   ]
  },
  {
   "cell_type": "code",
   "execution_count": 35,
   "id": "handmade-peter",
   "metadata": {
    "ExecuteTime": {
     "end_time": "2021-08-03T19:20:49.247394Z",
     "start_time": "2021-08-03T19:20:49.239733Z"
    }
   },
   "outputs": [
    {
     "data": {
      "text/html": [
       "<div>\n",
       "<style scoped>\n",
       "    .dataframe tbody tr th:only-of-type {\n",
       "        vertical-align: middle;\n",
       "    }\n",
       "\n",
       "    .dataframe tbody tr th {\n",
       "        vertical-align: top;\n",
       "    }\n",
       "\n",
       "    .dataframe thead th {\n",
       "        text-align: right;\n",
       "    }\n",
       "</style>\n",
       "<table border=\"1\" class=\"dataframe\">\n",
       "  <thead>\n",
       "    <tr style=\"text-align: right;\">\n",
       "      <th></th>\n",
       "      <th>iteration</th>\n",
       "      <th>sparcity__linear_layers.0.weight</th>\n",
       "      <th>t0_calc__linear_layers.0.weight</th>\n",
       "      <th>t0_used__linear_layers.0.weight</th>\n",
       "      <th>train_loss</th>\n",
       "      <th>valid_loss</th>\n",
       "      <th>train_accu</th>\n",
       "      <th>valid_accu</th>\n",
       "    </tr>\n",
       "  </thead>\n",
       "  <tbody>\n",
       "    <tr>\n",
       "      <th>2007</th>\n",
       "      <td>2008</td>\n",
       "      <td>1.0</td>\n",
       "      <td>54.208427</td>\n",
       "      <td>54.207119</td>\n",
       "      <td>0.002655</td>\n",
       "      <td>0.994821</td>\n",
       "      <td>0.997345</td>\n",
       "      <td>0.074784</td>\n",
       "    </tr>\n",
       "    <tr>\n",
       "      <th>2008</th>\n",
       "      <td>2009</td>\n",
       "      <td>1.0</td>\n",
       "      <td>54.208115</td>\n",
       "      <td>54.207119</td>\n",
       "      <td>0.002647</td>\n",
       "      <td>0.994602</td>\n",
       "      <td>0.997353</td>\n",
       "      <td>0.074987</td>\n",
       "    </tr>\n",
       "    <tr>\n",
       "      <th>2009</th>\n",
       "      <td>2010</td>\n",
       "      <td>1.0</td>\n",
       "      <td>54.208317</td>\n",
       "      <td>54.207119</td>\n",
       "      <td>0.002641</td>\n",
       "      <td>0.994861</td>\n",
       "      <td>0.997359</td>\n",
       "      <td>0.074746</td>\n",
       "    </tr>\n",
       "    <tr>\n",
       "      <th>2010</th>\n",
       "      <td>2011</td>\n",
       "      <td>1.0</td>\n",
       "      <td>54.207520</td>\n",
       "      <td>54.207119</td>\n",
       "      <td>0.002634</td>\n",
       "      <td>0.994811</td>\n",
       "      <td>0.997366</td>\n",
       "      <td>0.074793</td>\n",
       "    </tr>\n",
       "    <tr>\n",
       "      <th>2011</th>\n",
       "      <td>2012</td>\n",
       "      <td>1.0</td>\n",
       "      <td>54.208824</td>\n",
       "      <td>54.207119</td>\n",
       "      <td>0.002625</td>\n",
       "      <td>0.995240</td>\n",
       "      <td>0.997375</td>\n",
       "      <td>0.074394</td>\n",
       "    </tr>\n",
       "  </tbody>\n",
       "</table>\n",
       "</div>"
      ],
      "text/plain": [
       "     iteration  sparcity__linear_layers.0.weight  \\\n",
       "2007      2008                               1.0   \n",
       "2008      2009                               1.0   \n",
       "2009      2010                               1.0   \n",
       "2010      2011                               1.0   \n",
       "2011      2012                               1.0   \n",
       "\n",
       "      t0_calc__linear_layers.0.weight  t0_used__linear_layers.0.weight  \\\n",
       "2007                        54.208427                        54.207119   \n",
       "2008                        54.208115                        54.207119   \n",
       "2009                        54.208317                        54.207119   \n",
       "2010                        54.207520                        54.207119   \n",
       "2011                        54.208824                        54.207119   \n",
       "\n",
       "      train_loss  valid_loss  train_accu  valid_accu  \n",
       "2007    0.002655    0.994821    0.997345    0.074784  \n",
       "2008    0.002647    0.994602    0.997353    0.074987  \n",
       "2009    0.002641    0.994861    0.997359    0.074746  \n",
       "2010    0.002634    0.994811    0.997366    0.074793  \n",
       "2011    0.002625    0.995240    0.997375    0.074394  "
      ]
     },
     "execution_count": 35,
     "metadata": {},
     "output_type": "execute_result"
    }
   ],
   "source": [
    "# Path Data\n",
    "df4 = lockout_option4.path_data\n",
    "df4.tail()"
   ]
  },
  {
   "cell_type": "code",
   "execution_count": 34,
   "id": "tribal-silicon",
   "metadata": {
    "ExecuteTime": {
     "end_time": "2021-08-03T19:16:16.094891Z",
     "start_time": "2021-08-03T19:16:15.961174Z"
    }
   },
   "outputs": [
    {
     "data": {
      "image/png": "[encoded data removed]",
      "text/plain": [
       "<Figure size 576x432 with 1 Axes>"
      ]
     },
     "metadata": {
      "needs_background": "light"
     },
     "output_type": "display_data"
    }
   ],
   "source": [
    "# Plot loss vs iteration\n",
    "import matplotlib.pyplot as plt\n",
    "import numpy as np\n",
    "\n",
    "fig, axes = plt.subplots(figsize=(8,6))\n",
    "\n",
    "axes.plot(df4[\"iteration\"], df4[\"train_loss\"], label=\"Training\", linewidth=4)\n",
    "axes.plot(df4[\"iteration\"], df4[\"valid_loss\"], label=\"Validation\", linewidth=4)\n",
    "axes.legend(fontsize=16)\n",
    "axes.set_xlabel(\"iteration\", fontsize=16)\n",
    "axes.set_ylabel(\"Loss Function\", fontsize=16)\n",
    "axes.tick_params(axis='both', which='major', labelsize=14)\n",
    "axes.set_title(\"Unconstrained\", fontsize=16)\n",
    "axes.grid(True, zorder=2)\n",
    "\n",
    "plt.tight_layout()\n",
    "# plt.savefig(\"loss_vs_iter_lockout4.pdf\", bbox_inches='tight')\n",
    "plt.show()"
   ]
  },
  {
   "cell_type": "code",
   "execution_count": null,
   "id": "reported-walter",
   "metadata": {},
   "outputs": [],
   "source": []
  },
  {
   "cell_type": "code",
   "execution_count": null,
   "id": "animated-turner",
   "metadata": {},
   "outputs": [],
   "source": []
  }
 ],
 "metadata": {
  "kernelspec": {
   "display_name": "Python 3",
   "language": "python",
   "name": "python3"
  },
  "language_info": {
   "codemirror_mode": {
    "name": "ipython",
    "version": 3
   },
   "file_extension": ".py",
   "mimetype": "text/x-python",
   "name": "python",
   "nbconvert_exporter": "python",
   "pygments_lexer": "ipython3",
   "version": "3.8.3"
  },
  "toc": {
   "base_numbering": 1,
   "nav_menu": {},
   "number_sections": true,
   "sideBar": true,
   "skip_h1_title": true,
   "title_cell": "Table of Contents",
   "title_sidebar": "Contents",
   "toc_cell": false,
   "toc_position": {
    "height": "calc(100% - 180px)",
    "left": "10px",
    "top": "150px",
    "width": "307.333px"
   },
   "toc_section_display": true,
   "toc_window_display": true
  }
 },
 "nbformat": 4,
 "nbformat_minor": 5
}
